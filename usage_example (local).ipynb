{
  "nbformat": 4,
  "nbformat_minor": 0,
  "metadata": {
    "colab": {
      "name": "usage_example.ipynb",
      "provenance": [],
      "mount_file_id": "1EkEB-qXjPRmudXTmuHHtlwsWr1V9Wzxh",
      "authorship_tag": "ABX9TyMC3/O5alrUrJT2ejMIfUkM",
      "include_colab_link": true
    },
    "kernelspec": {
      "name": "python3",
      "display_name": "Python 3",
      "language": "python"
    }
  },
  "cells": [
    {
      "cell_type": "markdown",
      "metadata": {
        "id": "ZybB7ygZqJLM"
      },
      "source": [
        "# import "
      ]
    },
    {
      "cell_type": "code",
      "metadata": {
        "colab": {
          "base_uri": "https://localhost:8080/"
        },
        "id": "FFcAtS_vixO-",
        "outputId": "2b1679c9-d2cb-43aa-ba64-13f017c88c1f"
      },
      "source": [
        "from F import F\n",
        "from config import config\n",
        "import joblib\n",
        "import numpy as np\n",
        "import pandas as pd\n",
        "import os\n",
        "print(os.getcwd())"
      ],
      "execution_count": 4,
      "outputs": [
        {
          "output_type": "stream",
          "name": "stdout",
          "text": [
            "/home/ubuntu/Desktop/c620\n"
          ]
        }
      ]
    },
    {
      "cell_type": "markdown",
      "metadata": {
        "id": "7Wjx-_s0qM0G"
      },
      "source": [
        "# demo data"
      ]
    },
    {
      "cell_type": "code",
      "metadata": {
        "id": "XVCHP95Vi3I6"
      },
      "source": [
        "tag = 'test001'\n",
        "demo = joblib.load('./data/demo.pkl')\n",
        "c620_case = demo['c620_case']\n",
        "c620_feed = demo['c620_feed']\n",
        "t651_feed = demo['t651_feed']\n",
        "t651_mf = demo['t651_mf'].to_frame()\n",
        "c620_mf_side = demo['c620_mf_side'].to_frame()\n",
        "c660_case = demo['c660_case']\n",
        "c620_mf_bot = demo['c620_mf_bot'].to_frame()\n",
        "c660_mf_bot = demo['c660_mf_bot'].to_frame()\n",
        "c670_bf = demo['c670_bf']"
      ],
      "execution_count": 5,
      "outputs": []
    },
    {
      "cell_type": "markdown",
      "metadata": {
        "id": "O_sd4WlSl2rb"
      },
      "source": [
        "# ICG"
      ]
    },
    {
      "cell_type": "code",
      "metadata": {
        "colab": {
          "base_uri": "https://localhost:8080/",
          "height": 168
        },
        "id": "IvZJiMaolBd5",
        "outputId": "f96f857d-f7e2-4eb5-db64-fe88331843de"
      },
      "source": [
        "model_icg = joblib.load('model/c620_icg.pkl')\n",
        "ICG_Input = pd.DataFrame(index=[tag],columns=model_icg.x_col)\n",
        "for cname in ICG_Input.columns:\n",
        "    min_ = model_icg.ss_x.data_min_[model_icg.x_col.index(cname)]\n",
        "    max_ = model_icg.ss_x.data_max_[model_icg.x_col.index(cname)]\n",
        "    mean_ = min_ + (max_ - min_)/2\n",
        "    ICG_Input[cname] = mean_\n",
        "ICG_Input"
      ],
      "execution_count": 6,
      "outputs": [
        {
          "output_type": "execute_result",
          "data": {
            "text/plain": [
              "         Simulation Case Conditions_Feed Rate_Feed from V615 Btm_m3/hr  \\\n",
              "test001                                              181.5               \n",
              "\n",
              "         Simulation Case Conditions_Feed Rate_Feed from V615 Btm    NA_wt%  \\\n",
              "test001                                           1.236011                   \n",
              "\n",
              "         Simulation Case Conditions_Feed Rate_Feed from V615 Btm    Benzene_wt%  \\\n",
              "test001                                          10.736613                        \n",
              "\n",
              "         Simulation Case Conditions_Feed Rate_Feed from V615 Btm    Toluene_wt%  \\\n",
              "test001                                          44.816494                        \n",
              "\n",
              "         Simulation Case Conditions_Feed Rate_Feed from C820 Dist_m3/hr  \\\n",
              "test001                                               15.0                \n",
              "\n",
              "         Simulation Case Conditions_Feed Rate_Feed from C820 Dist    NA_wt%  \\\n",
              "test001                                           2.338977                    \n",
              "\n",
              "         Simulation Case Conditions_Feed Rate_Feed from C820 Dist    Benzene_wt%  \\\n",
              "test001                                          74.302254                         \n",
              "\n",
              "         Simulation Case Conditions_Feed Rate_Feed from C820 Dist    Toluene_wt%  \\\n",
              "test001                                          17.467825                         \n",
              "\n",
              "         Simulation Case Conditions_Feed Rate_Feed from T651_m3/hr  \\\n",
              "test001                                               62.0           \n",
              "\n",
              "         Simulation Case Conditions_Feed Rate_Feed from T651    NA_wt%  \\\n",
              "test001                                            0.27175               \n",
              "\n",
              "         Simulation Case Conditions_Feed Rate_Feed from T651    Benzene_wt%  \\\n",
              "test001                                          32.548999                    \n",
              "\n",
              "         Simulation Case Conditions_Feed Rate_Feed from T651    Toluene_wt%  \\\n",
              "test001                                          59.738174                    \n",
              "\n",
              "         Simulation Case Conditions_Spec 1 : Benzene in C620 Sidedraw_wt%  \\\n",
              "test001                                               80.0                  \n",
              "\n",
              "         Simulation Case Conditions_Spec 2 : NA in Benzene_ppmw  \n",
              "test001                                              890.0       "
            ],
            "text/html": "<div>\n<style scoped>\n    .dataframe tbody tr th:only-of-type {\n        vertical-align: middle;\n    }\n\n    .dataframe tbody tr th {\n        vertical-align: top;\n    }\n\n    .dataframe thead th {\n        text-align: right;\n    }\n</style>\n<table border=\"1\" class=\"dataframe\">\n  <thead>\n    <tr style=\"text-align: right;\">\n      <th></th>\n      <th>Simulation Case Conditions_Feed Rate_Feed from V615 Btm_m3/hr</th>\n      <th>Simulation Case Conditions_Feed Rate_Feed from V615 Btm    NA_wt%</th>\n      <th>Simulation Case Conditions_Feed Rate_Feed from V615 Btm    Benzene_wt%</th>\n      <th>Simulation Case Conditions_Feed Rate_Feed from V615 Btm    Toluene_wt%</th>\n      <th>Simulation Case Conditions_Feed Rate_Feed from C820 Dist_m3/hr</th>\n      <th>Simulation Case Conditions_Feed Rate_Feed from C820 Dist    NA_wt%</th>\n      <th>Simulation Case Conditions_Feed Rate_Feed from C820 Dist    Benzene_wt%</th>\n      <th>Simulation Case Conditions_Feed Rate_Feed from C820 Dist    Toluene_wt%</th>\n      <th>Simulation Case Conditions_Feed Rate_Feed from T651_m3/hr</th>\n      <th>Simulation Case Conditions_Feed Rate_Feed from T651    NA_wt%</th>\n      <th>Simulation Case Conditions_Feed Rate_Feed from T651    Benzene_wt%</th>\n      <th>Simulation Case Conditions_Feed Rate_Feed from T651    Toluene_wt%</th>\n      <th>Simulation Case Conditions_Spec 1 : Benzene in C620 Sidedraw_wt%</th>\n      <th>Simulation Case Conditions_Spec 2 : NA in Benzene_ppmw</th>\n    </tr>\n  </thead>\n  <tbody>\n    <tr>\n      <th>test001</th>\n      <td>181.5</td>\n      <td>1.236011</td>\n      <td>10.736613</td>\n      <td>44.816494</td>\n      <td>15.0</td>\n      <td>2.338977</td>\n      <td>74.302254</td>\n      <td>17.467825</td>\n      <td>62.0</td>\n      <td>0.27175</td>\n      <td>32.548999</td>\n      <td>59.738174</td>\n      <td>80.0</td>\n      <td>890.0</td>\n    </tr>\n  </tbody>\n</table>\n</div>"
          },
          "metadata": {},
          "execution_count": 6
        }
      ]
    },
    {
      "cell_type": "code",
      "metadata": {
        "id": "Dx5-nSqfmFdV"
      },
      "source": [
        "def icg_predict(icg_input):\n",
        "    while True:\n",
        "        output = model_icg.predict(icg_input)\n",
        "        if np.allclose(output['Simulation Case Conditions_C620 Distillate Rate_m3/hr'].values[0],0.01,atol=1e-2):\n",
        "            info = 'current NA in Benzene_ppmw is:{} current Distillate Rate is:{} so NA in Benzene_ppmw -= 30'.format(\n",
        "                icg_input['Simulation Case Conditions_Spec 2 : NA in Benzene_ppmw'].values[0],\n",
        "                output['Simulation Case Conditions_C620 Distillate Rate_m3/hr'].values[0])\n",
        "            icg_input['Simulation Case Conditions_Spec 2 : NA in Benzene_ppmw'] -= 30\n",
        "            print(info)\n",
        "        else:\n",
        "            return output"
      ],
      "execution_count": 7,
      "outputs": []
    },
    {
      "cell_type": "code",
      "metadata": {
        "colab": {
          "base_uri": "https://localhost:8080/",
          "height": 148
        },
        "id": "7VKStEZ3l4z-",
        "outputId": "5107038d-ed77-4af4-b012-b8b93221c845"
      },
      "source": [
        "icg_dist = icg_predict(ICG_Input)\n",
        "icg_dist"
      ],
      "execution_count": 8,
      "outputs": [
        {
          "output_type": "stream",
          "name": "stdout",
          "text": [
            "current NA in Benzene_ppmw is:890.0 current Distillate Rate is:0.010853055864572525 so NA in Benzene_ppmw -= 30\ncurrent NA in Benzene_ppmw is:860.0 current Distillate Rate is:0.012139653787016869 so NA in Benzene_ppmw -= 30\ncurrent NA in Benzene_ppmw is:830.0 current Distillate Rate is:0.014894358813762665 so NA in Benzene_ppmw -= 30\ncurrent NA in Benzene_ppmw is:800.0 current Distillate Rate is:0.019841212779283524 so NA in Benzene_ppmw -= 30\n"
          ]
        },
        {
          "output_type": "execute_result",
          "data": {
            "text/plain": [
              "         Simulation Case Conditions_C620 Distillate Rate_m3/hr\n",
              "test001                                           0.028154    "
            ],
            "text/html": "<div>\n<style scoped>\n    .dataframe tbody tr th:only-of-type {\n        vertical-align: middle;\n    }\n\n    .dataframe tbody tr th {\n        vertical-align: top;\n    }\n\n    .dataframe thead th {\n        text-align: right;\n    }\n</style>\n<table border=\"1\" class=\"dataframe\">\n  <thead>\n    <tr style=\"text-align: right;\">\n      <th></th>\n      <th>Simulation Case Conditions_C620 Distillate Rate_m3/hr</th>\n    </tr>\n  </thead>\n  <tbody>\n    <tr>\n      <th>test001</th>\n      <td>0.028154</td>\n    </tr>\n  </tbody>\n</table>\n</div>"
          },
          "metadata": {},
          "execution_count": 8
        }
      ]
    },
    {
      "cell_type": "markdown",
      "metadata": {
        "id": "5ONKsOMwn40v"
      },
      "source": [
        "# ICG Distillate Rate 代入 c620_case"
      ]
    },
    {
      "cell_type": "code",
      "metadata": {
        "colab": {
          "base_uri": "https://localhost:8080/",
          "height": 80
        },
        "id": "ap7NC6BOn5K9",
        "outputId": "52ea6a03-77fd-4bc9-d9ba-12a93a79d3a6"
      },
      "source": [
        "c620_case"
      ],
      "execution_count": 9,
      "outputs": [
        {
          "output_type": "execute_result",
          "data": {
            "text/plain": [
              "         Tatoray Stripper C620 Operation_Specifications_Spec 2 : Distillate Rate_m3/hr  \\\n",
              "028-050                                               0.25                               \n",
              "\n",
              "         Tatoray Stripper C620 Operation_Specifications_Spec 3 : Benzene in Sidedraw_wt%  \n",
              "028-050                                               70.0                                "
            ],
            "text/html": "<div>\n<style scoped>\n    .dataframe tbody tr th:only-of-type {\n        vertical-align: middle;\n    }\n\n    .dataframe tbody tr th {\n        vertical-align: top;\n    }\n\n    .dataframe thead th {\n        text-align: right;\n    }\n</style>\n<table border=\"1\" class=\"dataframe\">\n  <thead>\n    <tr style=\"text-align: right;\">\n      <th></th>\n      <th>Tatoray Stripper C620 Operation_Specifications_Spec 2 : Distillate Rate_m3/hr</th>\n      <th>Tatoray Stripper C620 Operation_Specifications_Spec 3 : Benzene in Sidedraw_wt%</th>\n    </tr>\n  </thead>\n  <tbody>\n    <tr>\n      <th>028-050</th>\n      <td>0.25</td>\n      <td>70.0</td>\n    </tr>\n  </tbody>\n</table>\n</div>"
          },
          "metadata": {},
          "execution_count": 9
        }
      ]
    },
    {
      "cell_type": "code",
      "metadata": {
        "id": "MvdzLK6AoEN-"
      },
      "source": [
        "c620_case['Tatoray Stripper C620 Operation_Specifications_Spec 2 : Distillate Rate_m3/hr'] = icg_dist.values[0][0]"
      ],
      "execution_count": 10,
      "outputs": []
    },
    {
      "cell_type": "code",
      "metadata": {
        "colab": {
          "base_uri": "https://localhost:8080/",
          "height": 80
        },
        "id": "5nqaXNUCoWcJ",
        "outputId": "9f4f4cb1-cb2c-40bd-bae1-cc9d305d5709"
      },
      "source": [
        "c620_case"
      ],
      "execution_count": 11,
      "outputs": [
        {
          "output_type": "execute_result",
          "data": {
            "text/plain": [
              "         Tatoray Stripper C620 Operation_Specifications_Spec 2 : Distillate Rate_m3/hr  \\\n",
              "028-050                                           0.028154                               \n",
              "\n",
              "         Tatoray Stripper C620 Operation_Specifications_Spec 3 : Benzene in Sidedraw_wt%  \n",
              "028-050                                               70.0                                "
            ],
            "text/html": "<div>\n<style scoped>\n    .dataframe tbody tr th:only-of-type {\n        vertical-align: middle;\n    }\n\n    .dataframe tbody tr th {\n        vertical-align: top;\n    }\n\n    .dataframe thead th {\n        text-align: right;\n    }\n</style>\n<table border=\"1\" class=\"dataframe\">\n  <thead>\n    <tr style=\"text-align: right;\">\n      <th></th>\n      <th>Tatoray Stripper C620 Operation_Specifications_Spec 2 : Distillate Rate_m3/hr</th>\n      <th>Tatoray Stripper C620 Operation_Specifications_Spec 3 : Benzene in Sidedraw_wt%</th>\n    </tr>\n  </thead>\n  <tbody>\n    <tr>\n      <th>028-050</th>\n      <td>0.028154</td>\n      <td>70.0</td>\n    </tr>\n  </tbody>\n</table>\n</div>"
          },
          "metadata": {},
          "execution_count": 11
        }
      ]
    },
    {
      "cell_type": "markdown",
      "metadata": {
        "id": "HcvWuhpDn3Ic"
      },
      "source": [
        "# F"
      ]
    },
    {
      "cell_type": "code",
      "metadata": {
        "id": "Qa-lHXhJjI8M"
      },
      "source": [
        "f = F(config)\n",
        "c620_wt,c620_op,c660_wt,c660_op,c670_wt,c670_op = f(c620_case,c620_feed,t651_feed,t651_mf,c620_mf_side,c660_case,c620_mf_bot,c660_mf_bot,c670_bf)"
      ],
      "execution_count": 12,
      "outputs": []
    },
    {
      "cell_type": "code",
      "metadata": {
        "colab": {
          "base_uri": "https://localhost:8080/",
          "height": 265
        },
        "id": "cw-XxB-RjOAi",
        "outputId": "59e5b63f-8743-4754-c48a-ec583c52e082"
      },
      "source": [
        "c620_wt"
      ],
      "execution_count": 13,
      "outputs": [
        {
          "output_type": "execute_result",
          "data": {
            "text/plain": [
              "         Tatoray Stripper C620 Operation_Vent Gas Production Rate and Composition_Hydrogen_wt%  \\\n",
              "028-050                                                0.0                                       \n",
              "\n",
              "         Tatoray Stripper C620 Operation_Vent Gas Production Rate and Composition_Methane_wt%  \\\n",
              "028-050                                           1.637723                                      \n",
              "\n",
              "         Tatoray Stripper C620 Operation_Vent Gas Production Rate and Composition_Ethane_wt%  \\\n",
              "028-050                                          39.274569                                     \n",
              "\n",
              "         Tatoray Stripper C620 Operation_Vent Gas Production Rate and Composition_Propane_wt%  \\\n",
              "028-050                                          35.696535                                      \n",
              "\n",
              "         Tatoray Stripper C620 Operation_Vent Gas Production Rate and Composition_n-Butane_wt%  \\\n",
              "028-050                                          10.338633                                       \n",
              "\n",
              "         Tatoray Stripper C620 Operation_Vent Gas Production Rate and Composition_n-Pentane_wt%  \\\n",
              "028-050                                           4.709528                                        \n",
              "\n",
              "         Tatoray Stripper C620 Operation_Vent Gas Production Rate and Composition_n-Hexane_wt%  \\\n",
              "028-050                                           0.241827                                       \n",
              "\n",
              "         Tatoray Stripper C620 Operation_Vent Gas Production Rate and Composition_Benzene_wt%  \\\n",
              "028-050                                           8.052404                                      \n",
              "\n",
              "         Tatoray Stripper C620 Operation_Vent Gas Production Rate and Composition_Cyclohexane_wt%  \\\n",
              "028-050                                           0.011544                                          \n",
              "\n",
              "         Tatoray Stripper C620 Operation_Vent Gas Production Rate and Composition_n-Heptane_wt%  \\\n",
              "028-050                                           0.002941                                        \n",
              "\n",
              "         ...  \\\n",
              "028-050  ...   \n",
              "\n",
              "         Tatoray Stripper C620 Operation_Bottoms Production Rate and Composition_Indane_wt%  \\\n",
              "028-050                                           0.041828                                    \n",
              "\n",
              "         Tatoray Stripper C620 Operation_Bottoms Production Rate and Composition_1-Methyl-4-n-propylbenzene_wt%  \\\n",
              "028-050                                           0.001195                                                        \n",
              "\n",
              "         Tatoray Stripper C620 Operation_Bottoms Production Rate and Composition_1,2-Diethylbenzene_wt%  \\\n",
              "028-050                                           0.027487                                                \n",
              "\n",
              "         Tatoray Stripper C620 Operation_Bottoms Production Rate and Composition_5-Ethyl-m-xylene_wt%  \\\n",
              "028-050                                           1.074385                                              \n",
              "\n",
              "         Tatoray Stripper C620 Operation_Bottoms Production Rate and Composition_1,4-Diethylbenzene_wt%  \\\n",
              "028-050                                                0.0                                                \n",
              "\n",
              "         Tatoray Stripper C620 Operation_Bottoms Production Rate and Composition_1,2,3,5-Tetramethylbenzene_wt%  \\\n",
              "028-050                                           1.235722                                                        \n",
              "\n",
              "         Tatoray Stripper C620 Operation_Bottoms Production Rate and Composition_n-Pentylbenzene_wt%  \\\n",
              "028-050                                           0.316699                                             \n",
              "\n",
              "         Tatoray Stripper C620 Operation_Bottoms Production Rate and Composition_n-Hexylbenzene_wt%  \\\n",
              "028-050                                            0.13624                                            \n",
              "\n",
              "         Tatoray Stripper C620 Operation_Bottoms Production Rate and Composition_Nitrogen_wt%  \\\n",
              "028-050                                                0.0                                      \n",
              "\n",
              "         Tatoray Stripper C620 Operation_Bottoms Production Rate and Composition_Oxygen_wt%  \n",
              "028-050                                                0.0                                   \n",
              "\n",
              "[1 rows x 164 columns]"
            ],
            "text/html": "<div>\n<style scoped>\n    .dataframe tbody tr th:only-of-type {\n        vertical-align: middle;\n    }\n\n    .dataframe tbody tr th {\n        vertical-align: top;\n    }\n\n    .dataframe thead th {\n        text-align: right;\n    }\n</style>\n<table border=\"1\" class=\"dataframe\">\n  <thead>\n    <tr style=\"text-align: right;\">\n      <th></th>\n      <th>Tatoray Stripper C620 Operation_Vent Gas Production Rate and Composition_Hydrogen_wt%</th>\n      <th>Tatoray Stripper C620 Operation_Vent Gas Production Rate and Composition_Methane_wt%</th>\n      <th>Tatoray Stripper C620 Operation_Vent Gas Production Rate and Composition_Ethane_wt%</th>\n      <th>Tatoray Stripper C620 Operation_Vent Gas Production Rate and Composition_Propane_wt%</th>\n      <th>Tatoray Stripper C620 Operation_Vent Gas Production Rate and Composition_n-Butane_wt%</th>\n      <th>Tatoray Stripper C620 Operation_Vent Gas Production Rate and Composition_n-Pentane_wt%</th>\n      <th>Tatoray Stripper C620 Operation_Vent Gas Production Rate and Composition_n-Hexane_wt%</th>\n      <th>Tatoray Stripper C620 Operation_Vent Gas Production Rate and Composition_Benzene_wt%</th>\n      <th>Tatoray Stripper C620 Operation_Vent Gas Production Rate and Composition_Cyclohexane_wt%</th>\n      <th>Tatoray Stripper C620 Operation_Vent Gas Production Rate and Composition_n-Heptane_wt%</th>\n      <th>...</th>\n      <th>Tatoray Stripper C620 Operation_Bottoms Production Rate and Composition_Indane_wt%</th>\n      <th>Tatoray Stripper C620 Operation_Bottoms Production Rate and Composition_1-Methyl-4-n-propylbenzene_wt%</th>\n      <th>Tatoray Stripper C620 Operation_Bottoms Production Rate and Composition_1,2-Diethylbenzene_wt%</th>\n      <th>Tatoray Stripper C620 Operation_Bottoms Production Rate and Composition_5-Ethyl-m-xylene_wt%</th>\n      <th>Tatoray Stripper C620 Operation_Bottoms Production Rate and Composition_1,4-Diethylbenzene_wt%</th>\n      <th>Tatoray Stripper C620 Operation_Bottoms Production Rate and Composition_1,2,3,5-Tetramethylbenzene_wt%</th>\n      <th>Tatoray Stripper C620 Operation_Bottoms Production Rate and Composition_n-Pentylbenzene_wt%</th>\n      <th>Tatoray Stripper C620 Operation_Bottoms Production Rate and Composition_n-Hexylbenzene_wt%</th>\n      <th>Tatoray Stripper C620 Operation_Bottoms Production Rate and Composition_Nitrogen_wt%</th>\n      <th>Tatoray Stripper C620 Operation_Bottoms Production Rate and Composition_Oxygen_wt%</th>\n    </tr>\n  </thead>\n  <tbody>\n    <tr>\n      <th>028-050</th>\n      <td>0.0</td>\n      <td>1.637723</td>\n      <td>39.274569</td>\n      <td>35.696535</td>\n      <td>10.338633</td>\n      <td>4.709528</td>\n      <td>0.241827</td>\n      <td>8.052404</td>\n      <td>0.011544</td>\n      <td>0.002941</td>\n      <td>...</td>\n      <td>0.041828</td>\n      <td>0.001195</td>\n      <td>0.027487</td>\n      <td>1.074385</td>\n      <td>0.0</td>\n      <td>1.235722</td>\n      <td>0.316699</td>\n      <td>0.13624</td>\n      <td>0.0</td>\n      <td>0.0</td>\n    </tr>\n  </tbody>\n</table>\n<p>1 rows × 164 columns</p>\n</div>"
          },
          "metadata": {},
          "execution_count": 13
        }
      ]
    },
    {
      "cell_type": "code",
      "metadata": {
        "colab": {
          "base_uri": "https://localhost:8080/",
          "height": 165
        },
        "id": "BofcSOZQpU3v",
        "outputId": "07e1de86-2b10-4b2c-8c67-fc5c6aa71669"
      },
      "source": [
        "c620_op"
      ],
      "execution_count": 14,
      "outputs": [
        {
          "output_type": "execute_result",
          "data": {
            "text/plain": [
              "         Density_Feed Properties  \\\n",
              "028-050                 0.862281   \n",
              "\n",
              "         Density_Vent Gas Production Rate and Composition  \\\n",
              "028-050                                          0.452975   \n",
              "\n",
              "         Density_Distillate Production Rate and Composition  \\\n",
              "028-050                                           0.781814    \n",
              "\n",
              "         Density_Sidedraw Production Rate and Composition  \\\n",
              "028-050                                          0.878705   \n",
              "\n",
              "         Density_Bottoms Production Rate and Composition  \\\n",
              "028-050                                         0.871925   \n",
              "\n",
              "         Tatoray Stripper C620 Operation_Yield Summary_Reflux Rate_m3/hr  \\\n",
              "028-050                                         104.628052                 \n",
              "\n",
              "         Tatoray Stripper C620 Operation_Heat Duty_Condenser Heat Duty_Mkcal/hr  \\\n",
              "028-050                                          10.513339                        \n",
              "\n",
              "         Tatoray Stripper C620 Operation_Heat Duty_Reboiler Heat Duty_Mkcal/hr  \\\n",
              "028-050                                          12.119115                       \n",
              "\n",
              "         Tatoray Stripper C620 Operation_Column Temp Profile_C620 Tray 14 (Control)_oC  \\\n",
              "028-050                                         177.616104                               \n",
              "\n",
              "         Tatoray Stripper C620 Operation_Column Temp Profile_C620 Tray 34 (Control)_oC  \n",
              "028-050                                         193.987442                              "
            ],
            "text/html": "<div>\n<style scoped>\n    .dataframe tbody tr th:only-of-type {\n        vertical-align: middle;\n    }\n\n    .dataframe tbody tr th {\n        vertical-align: top;\n    }\n\n    .dataframe thead th {\n        text-align: right;\n    }\n</style>\n<table border=\"1\" class=\"dataframe\">\n  <thead>\n    <tr style=\"text-align: right;\">\n      <th></th>\n      <th>Density_Feed Properties</th>\n      <th>Density_Vent Gas Production Rate and Composition</th>\n      <th>Density_Distillate Production Rate and Composition</th>\n      <th>Density_Sidedraw Production Rate and Composition</th>\n      <th>Density_Bottoms Production Rate and Composition</th>\n      <th>Tatoray Stripper C620 Operation_Yield Summary_Reflux Rate_m3/hr</th>\n      <th>Tatoray Stripper C620 Operation_Heat Duty_Condenser Heat Duty_Mkcal/hr</th>\n      <th>Tatoray Stripper C620 Operation_Heat Duty_Reboiler Heat Duty_Mkcal/hr</th>\n      <th>Tatoray Stripper C620 Operation_Column Temp Profile_C620 Tray 14 (Control)_oC</th>\n      <th>Tatoray Stripper C620 Operation_Column Temp Profile_C620 Tray 34 (Control)_oC</th>\n    </tr>\n  </thead>\n  <tbody>\n    <tr>\n      <th>028-050</th>\n      <td>0.862281</td>\n      <td>0.452975</td>\n      <td>0.781814</td>\n      <td>0.878705</td>\n      <td>0.871925</td>\n      <td>104.628052</td>\n      <td>10.513339</td>\n      <td>12.119115</td>\n      <td>177.616104</td>\n      <td>193.987442</td>\n    </tr>\n  </tbody>\n</table>\n</div>"
          },
          "metadata": {},
          "execution_count": 14
        }
      ]
    },
    {
      "cell_type": "code",
      "metadata": {
        "colab": {
          "base_uri": "https://localhost:8080/",
          "height": 265
        },
        "id": "OLJvr9tkpV5u",
        "outputId": "3f4eb1b7-997a-4d44-8067-ed73829e26b6"
      },
      "source": [
        "c660_wt"
      ],
      "execution_count": 15,
      "outputs": [
        {
          "output_type": "execute_result",
          "data": {
            "text/plain": [
              "         Benzene Column C660 Operation_Vent Gas Production Rate and Composition_Hydrogen_wt%  \\\n",
              "028-050                                                0.0                                     \n",
              "\n",
              "         Benzene Column C660 Operation_Vent Gas Production Rate and Composition_Methane_wt%  \\\n",
              "028-050                                           0.300251                                    \n",
              "\n",
              "         Benzene Column C660 Operation_Vent Gas Production Rate and Composition_Ethane_wt%  \\\n",
              "028-050                                          17.942058                                   \n",
              "\n",
              "         Benzene Column C660 Operation_Vent Gas Production Rate and Composition_Propane_wt%  \\\n",
              "028-050                                          27.102143                                    \n",
              "\n",
              "         Benzene Column C660 Operation_Vent Gas Production Rate and Composition_n-Butane_wt%  \\\n",
              "028-050                                          10.893385                                     \n",
              "\n",
              "         Benzene Column C660 Operation_Vent Gas Production Rate and Composition_n-Pentane_wt%  \\\n",
              "028-050                                           7.304881                                      \n",
              "\n",
              "         Benzene Column C660 Operation_Vent Gas Production Rate and Composition_n-Hexane_wt%  \\\n",
              "028-050                                           1.819152                                     \n",
              "\n",
              "         Benzene Column C660 Operation_Vent Gas Production Rate and Composition_Benzene_wt%  \\\n",
              "028-050                                          34.541724                                    \n",
              "\n",
              "         Benzene Column C660 Operation_Vent Gas Production Rate and Composition_Cyclohexane_wt%  \\\n",
              "028-050                                           0.071672                                        \n",
              "\n",
              "         Benzene Column C660 Operation_Vent Gas Production Rate and Composition_n-Heptane_wt%  \\\n",
              "028-050                                           0.009928                                      \n",
              "\n",
              "         ...  \\\n",
              "028-050  ...   \n",
              "\n",
              "         Benzene Column C660 Operation_Bottoms Production Rate and Composition_Indane_wt%  \\\n",
              "028-050                                       3.588816e-09                                  \n",
              "\n",
              "         Benzene Column C660 Operation_Bottoms Production Rate and Composition_1-Methyl-4-n-propylbenzene_wt%  \\\n",
              "028-050                                           0.037407                                                      \n",
              "\n",
              "         Benzene Column C660 Operation_Bottoms Production Rate and Composition_1,2-Diethylbenzene_wt%  \\\n",
              "028-050                                           0.009321                                              \n",
              "\n",
              "         Benzene Column C660 Operation_Bottoms Production Rate and Composition_5-Ethyl-m-xylene_wt%  \\\n",
              "028-050                                       1.316283e-08                                            \n",
              "\n",
              "         Benzene Column C660 Operation_Bottoms Production Rate and Composition_1,4-Diethylbenzene_wt%  \\\n",
              "028-050                                                0.0                                              \n",
              "\n",
              "         Benzene Column C660 Operation_Bottoms Production Rate and Composition_1,2,3,5-Tetramethylbenzene_wt%  \\\n",
              "028-050                                       1.673227e-10                                                      \n",
              "\n",
              "         Benzene Column C660 Operation_Bottoms Production Rate and Composition_n-Pentylbenzene_wt%  \\\n",
              "028-050                                       7.753419e-12                                           \n",
              "\n",
              "         Benzene Column C660 Operation_Bottoms Production Rate and Composition_n-Hexylbenzene_wt%  \\\n",
              "028-050                                       8.457082e-15                                          \n",
              "\n",
              "         Benzene Column C660 Operation_Bottoms Production Rate and Composition_Nitrogen_wt%  \\\n",
              "028-050                                                0.0                                    \n",
              "\n",
              "         Benzene Column C660 Operation_Bottoms Production Rate and Composition_Oxygen_wt%  \n",
              "028-050                                                0.0                                 \n",
              "\n",
              "[1 rows x 164 columns]"
            ],
            "text/html": "<div>\n<style scoped>\n    .dataframe tbody tr th:only-of-type {\n        vertical-align: middle;\n    }\n\n    .dataframe tbody tr th {\n        vertical-align: top;\n    }\n\n    .dataframe thead th {\n        text-align: right;\n    }\n</style>\n<table border=\"1\" class=\"dataframe\">\n  <thead>\n    <tr style=\"text-align: right;\">\n      <th></th>\n      <th>Benzene Column C660 Operation_Vent Gas Production Rate and Composition_Hydrogen_wt%</th>\n      <th>Benzene Column C660 Operation_Vent Gas Production Rate and Composition_Methane_wt%</th>\n      <th>Benzene Column C660 Operation_Vent Gas Production Rate and Composition_Ethane_wt%</th>\n      <th>Benzene Column C660 Operation_Vent Gas Production Rate and Composition_Propane_wt%</th>\n      <th>Benzene Column C660 Operation_Vent Gas Production Rate and Composition_n-Butane_wt%</th>\n      <th>Benzene Column C660 Operation_Vent Gas Production Rate and Composition_n-Pentane_wt%</th>\n      <th>Benzene Column C660 Operation_Vent Gas Production Rate and Composition_n-Hexane_wt%</th>\n      <th>Benzene Column C660 Operation_Vent Gas Production Rate and Composition_Benzene_wt%</th>\n      <th>Benzene Column C660 Operation_Vent Gas Production Rate and Composition_Cyclohexane_wt%</th>\n      <th>Benzene Column C660 Operation_Vent Gas Production Rate and Composition_n-Heptane_wt%</th>\n      <th>...</th>\n      <th>Benzene Column C660 Operation_Bottoms Production Rate and Composition_Indane_wt%</th>\n      <th>Benzene Column C660 Operation_Bottoms Production Rate and Composition_1-Methyl-4-n-propylbenzene_wt%</th>\n      <th>Benzene Column C660 Operation_Bottoms Production Rate and Composition_1,2-Diethylbenzene_wt%</th>\n      <th>Benzene Column C660 Operation_Bottoms Production Rate and Composition_5-Ethyl-m-xylene_wt%</th>\n      <th>Benzene Column C660 Operation_Bottoms Production Rate and Composition_1,4-Diethylbenzene_wt%</th>\n      <th>Benzene Column C660 Operation_Bottoms Production Rate and Composition_1,2,3,5-Tetramethylbenzene_wt%</th>\n      <th>Benzene Column C660 Operation_Bottoms Production Rate and Composition_n-Pentylbenzene_wt%</th>\n      <th>Benzene Column C660 Operation_Bottoms Production Rate and Composition_n-Hexylbenzene_wt%</th>\n      <th>Benzene Column C660 Operation_Bottoms Production Rate and Composition_Nitrogen_wt%</th>\n      <th>Benzene Column C660 Operation_Bottoms Production Rate and Composition_Oxygen_wt%</th>\n    </tr>\n  </thead>\n  <tbody>\n    <tr>\n      <th>028-050</th>\n      <td>0.0</td>\n      <td>0.300251</td>\n      <td>17.942058</td>\n      <td>27.102143</td>\n      <td>10.893385</td>\n      <td>7.304881</td>\n      <td>1.819152</td>\n      <td>34.541724</td>\n      <td>0.071672</td>\n      <td>0.009928</td>\n      <td>...</td>\n      <td>3.588816e-09</td>\n      <td>0.037407</td>\n      <td>0.009321</td>\n      <td>1.316283e-08</td>\n      <td>0.0</td>\n      <td>1.673227e-10</td>\n      <td>7.753419e-12</td>\n      <td>8.457082e-15</td>\n      <td>0.0</td>\n      <td>0.0</td>\n    </tr>\n  </tbody>\n</table>\n<p>1 rows × 164 columns</p>\n</div>"
          },
          "metadata": {},
          "execution_count": 15
        }
      ]
    },
    {
      "cell_type": "code",
      "metadata": {
        "colab": {
          "base_uri": "https://localhost:8080/",
          "height": 165
        },
        "id": "bQTrBR3-pXfu",
        "outputId": "8fabb90e-ef59-41b7-abe1-57b0d79657df"
      },
      "source": [
        "c660_op"
      ],
      "execution_count": 16,
      "outputs": [
        {
          "output_type": "execute_result",
          "data": {
            "text/plain": [
              "         Density_Feed Properties  \\\n",
              "028-050                 0.876411   \n",
              "\n",
              "         Density_Vent Gas Production Rate and Composition  \\\n",
              "028-050                                          0.566776   \n",
              "\n",
              "         Density_Distillate (Benzene Drag) Production Rate and Composition  \\\n",
              "028-050                                            0.85626                   \n",
              "\n",
              "         Density_Sidedraw (Benzene )Production Rate and Composition  \\\n",
              "028-050                                           0.883697            \n",
              "\n",
              "         Density_Bottoms Production Rate and Composition  \\\n",
              "028-050                                         0.870562   \n",
              "\n",
              "         Benzene Column C660 Operation_Yield Summary_Reflux Rate_m3/hr  \\\n",
              "028-050                                         147.670776               \n",
              "\n",
              "         Benzene Column C660 Operation_Heat Duty_Condenser Heat Duty_Mkcal/hr  \\\n",
              "028-050                                          14.034904                      \n",
              "\n",
              "         Benzene Column C660 Operation_Heat Duty_Reboiler Heat Duty_Mkcal/hr  \\\n",
              "028-050                                          13.563004                     \n",
              "\n",
              "         Benzene Column C660 Operation_Column Temp Profile_C660 Tray 6 (SD & Control)_oC  \\\n",
              "028-050                                          86.716644                                 \n",
              "\n",
              "         Benzene Column C660 Operation_Column Temp Profile_C660 Tray 23 (Control)_oC  \n",
              "028-050                                          90.287651                            "
            ],
            "text/html": "<div>\n<style scoped>\n    .dataframe tbody tr th:only-of-type {\n        vertical-align: middle;\n    }\n\n    .dataframe tbody tr th {\n        vertical-align: top;\n    }\n\n    .dataframe thead th {\n        text-align: right;\n    }\n</style>\n<table border=\"1\" class=\"dataframe\">\n  <thead>\n    <tr style=\"text-align: right;\">\n      <th></th>\n      <th>Density_Feed Properties</th>\n      <th>Density_Vent Gas Production Rate and Composition</th>\n      <th>Density_Distillate (Benzene Drag) Production Rate and Composition</th>\n      <th>Density_Sidedraw (Benzene )Production Rate and Composition</th>\n      <th>Density_Bottoms Production Rate and Composition</th>\n      <th>Benzene Column C660 Operation_Yield Summary_Reflux Rate_m3/hr</th>\n      <th>Benzene Column C660 Operation_Heat Duty_Condenser Heat Duty_Mkcal/hr</th>\n      <th>Benzene Column C660 Operation_Heat Duty_Reboiler Heat Duty_Mkcal/hr</th>\n      <th>Benzene Column C660 Operation_Column Temp Profile_C660 Tray 6 (SD &amp; Control)_oC</th>\n      <th>Benzene Column C660 Operation_Column Temp Profile_C660 Tray 23 (Control)_oC</th>\n    </tr>\n  </thead>\n  <tbody>\n    <tr>\n      <th>028-050</th>\n      <td>0.876411</td>\n      <td>0.566776</td>\n      <td>0.85626</td>\n      <td>0.883697</td>\n      <td>0.870562</td>\n      <td>147.670776</td>\n      <td>14.034904</td>\n      <td>13.563004</td>\n      <td>86.716644</td>\n      <td>90.287651</td>\n    </tr>\n  </tbody>\n</table>\n</div>"
          },
          "metadata": {},
          "execution_count": 16
        }
      ]
    },
    {
      "cell_type": "code",
      "metadata": {
        "colab": {
          "base_uri": "https://localhost:8080/",
          "height": 265
        },
        "id": "msReDUW3pYYN",
        "outputId": "3c06bec3-c783-4b2c-f31a-c1df315751ae"
      },
      "source": [
        "c670_wt"
      ],
      "execution_count": 17,
      "outputs": [
        {
          "output_type": "execute_result",
          "data": {
            "text/plain": [
              "         Toluene Column C670 Operation_Distillate Production Rate and Composition_Hydrogen_wt%  \\\n",
              "028-050                                                0.0                                       \n",
              "\n",
              "         Toluene Column C670 Operation_Distillate Production Rate and Composition_Methane_wt%  \\\n",
              "028-050                                       1.853913e-07                                      \n",
              "\n",
              "         Toluene Column C670 Operation_Distillate Production Rate and Composition_Ethane_wt%  \\\n",
              "028-050                                           0.000009                                     \n",
              "\n",
              "         Toluene Column C670 Operation_Distillate Production Rate and Composition_Propane_wt%  \\\n",
              "028-050                                           0.000007                                      \n",
              "\n",
              "         Toluene Column C670 Operation_Distillate Production Rate and Composition_n-Butane_wt%  \\\n",
              "028-050                                       8.759481e-24                                       \n",
              "\n",
              "         Toluene Column C670 Operation_Distillate Production Rate and Composition_n-Pentane_wt%  \\\n",
              "028-050                                       2.821000e-16                                        \n",
              "\n",
              "         Toluene Column C670 Operation_Distillate Production Rate and Composition_n-Hexane_wt%  \\\n",
              "028-050                                       2.306242e-09                                       \n",
              "\n",
              "         Toluene Column C670 Operation_Distillate Production Rate and Composition_Benzene_wt%  \\\n",
              "028-050                                           0.306911                                      \n",
              "\n",
              "         Toluene Column C670 Operation_Distillate Production Rate and Composition_Cyclohexane_wt%  \\\n",
              "028-050                                           0.000255                                          \n",
              "\n",
              "         Toluene Column C670 Operation_Distillate Production Rate and Composition_n-Heptane_wt%  \\\n",
              "028-050                                            0.00489                                        \n",
              "\n",
              "         ...  \\\n",
              "028-050  ...   \n",
              "\n",
              "         Toluene Column C670 Operation_Bottoms Production Rate and Composition_Indane_wt%  \\\n",
              "028-050                                           0.068608                                  \n",
              "\n",
              "         Toluene Column C670 Operation_Bottoms Production Rate and Composition_1-Methyl-4-n-propylbenzene_wt%  \\\n",
              "028-050                                           0.028453                                                      \n",
              "\n",
              "         Toluene Column C670 Operation_Bottoms Production Rate and Composition_1,2-Diethylbenzene_wt%  \\\n",
              "028-050                                           0.051687                                              \n",
              "\n",
              "         Toluene Column C670 Operation_Bottoms Production Rate and Composition_5-Ethyl-m-xylene_wt%  \\\n",
              "028-050                                           1.762251                                            \n",
              "\n",
              "         Toluene Column C670 Operation_Bottoms Production Rate and Composition_1,4-Diethylbenzene_wt%  \\\n",
              "028-050                                                0.0                                              \n",
              "\n",
              "         Toluene Column C670 Operation_Bottoms Production Rate and Composition_1,2,3,5-Tetramethylbenzene_wt%  \\\n",
              "028-050                                           2.026864                                                      \n",
              "\n",
              "         Toluene Column C670 Operation_Bottoms Production Rate and Composition_n-Pentylbenzene_wt%  \\\n",
              "028-050                                           0.519457                                           \n",
              "\n",
              "         Toluene Column C670 Operation_Bottoms Production Rate and Composition_n-Hexylbenzene_wt%  \\\n",
              "028-050                                           0.223465                                          \n",
              "\n",
              "         Toluene Column C670 Operation_Bottoms Production Rate and Composition_Nitrogen_wt%  \\\n",
              "028-050                                                0.0                                    \n",
              "\n",
              "         Toluene Column C670 Operation_Bottoms Production Rate and Composition_Oxygen_wt%  \n",
              "028-050                                                0.0                                 \n",
              "\n",
              "[1 rows x 82 columns]"
            ],
            "text/html": "<div>\n<style scoped>\n    .dataframe tbody tr th:only-of-type {\n        vertical-align: middle;\n    }\n\n    .dataframe tbody tr th {\n        vertical-align: top;\n    }\n\n    .dataframe thead th {\n        text-align: right;\n    }\n</style>\n<table border=\"1\" class=\"dataframe\">\n  <thead>\n    <tr style=\"text-align: right;\">\n      <th></th>\n      <th>Toluene Column C670 Operation_Distillate Production Rate and Composition_Hydrogen_wt%</th>\n      <th>Toluene Column C670 Operation_Distillate Production Rate and Composition_Methane_wt%</th>\n      <th>Toluene Column C670 Operation_Distillate Production Rate and Composition_Ethane_wt%</th>\n      <th>Toluene Column C670 Operation_Distillate Production Rate and Composition_Propane_wt%</th>\n      <th>Toluene Column C670 Operation_Distillate Production Rate and Composition_n-Butane_wt%</th>\n      <th>Toluene Column C670 Operation_Distillate Production Rate and Composition_n-Pentane_wt%</th>\n      <th>Toluene Column C670 Operation_Distillate Production Rate and Composition_n-Hexane_wt%</th>\n      <th>Toluene Column C670 Operation_Distillate Production Rate and Composition_Benzene_wt%</th>\n      <th>Toluene Column C670 Operation_Distillate Production Rate and Composition_Cyclohexane_wt%</th>\n      <th>Toluene Column C670 Operation_Distillate Production Rate and Composition_n-Heptane_wt%</th>\n      <th>...</th>\n      <th>Toluene Column C670 Operation_Bottoms Production Rate and Composition_Indane_wt%</th>\n      <th>Toluene Column C670 Operation_Bottoms Production Rate and Composition_1-Methyl-4-n-propylbenzene_wt%</th>\n      <th>Toluene Column C670 Operation_Bottoms Production Rate and Composition_1,2-Diethylbenzene_wt%</th>\n      <th>Toluene Column C670 Operation_Bottoms Production Rate and Composition_5-Ethyl-m-xylene_wt%</th>\n      <th>Toluene Column C670 Operation_Bottoms Production Rate and Composition_1,4-Diethylbenzene_wt%</th>\n      <th>Toluene Column C670 Operation_Bottoms Production Rate and Composition_1,2,3,5-Tetramethylbenzene_wt%</th>\n      <th>Toluene Column C670 Operation_Bottoms Production Rate and Composition_n-Pentylbenzene_wt%</th>\n      <th>Toluene Column C670 Operation_Bottoms Production Rate and Composition_n-Hexylbenzene_wt%</th>\n      <th>Toluene Column C670 Operation_Bottoms Production Rate and Composition_Nitrogen_wt%</th>\n      <th>Toluene Column C670 Operation_Bottoms Production Rate and Composition_Oxygen_wt%</th>\n    </tr>\n  </thead>\n  <tbody>\n    <tr>\n      <th>028-050</th>\n      <td>0.0</td>\n      <td>1.853913e-07</td>\n      <td>0.000009</td>\n      <td>0.000007</td>\n      <td>8.759481e-24</td>\n      <td>2.821000e-16</td>\n      <td>2.306242e-09</td>\n      <td>0.306911</td>\n      <td>0.000255</td>\n      <td>0.00489</td>\n      <td>...</td>\n      <td>0.068608</td>\n      <td>0.028453</td>\n      <td>0.051687</td>\n      <td>1.762251</td>\n      <td>0.0</td>\n      <td>2.026864</td>\n      <td>0.519457</td>\n      <td>0.223465</td>\n      <td>0.0</td>\n      <td>0.0</td>\n    </tr>\n  </tbody>\n</table>\n<p>1 rows × 82 columns</p>\n</div>"
          },
          "metadata": {},
          "execution_count": 17
        }
      ]
    },
    {
      "cell_type": "code",
      "metadata": {
        "colab": {
          "base_uri": "https://localhost:8080/",
          "height": 148
        },
        "id": "-mQegOW7pZHN",
        "outputId": "a292ddc4-167f-4c8f-f3da-7c0ce71fae0b"
      },
      "source": [
        "c670_op"
      ],
      "execution_count": 18,
      "outputs": [
        {
          "output_type": "execute_result",
          "data": {
            "text/plain": [
              "         Density_Distillate Production Rate and Composition  \\\n",
              "028-050                                           0.870914    \n",
              "\n",
              "         Density_Bottoms Production Rate and Composition  \\\n",
              "028-050                                           0.8723   \n",
              "\n",
              "         Toluene Column C670 Operation_Yield \\nSummary_Reflux Rate_m3/hr  \\\n",
              "028-050                                         235.166962                 \n",
              "\n",
              "         Toluene Column C670 Operation_Heat Duty_Condenser Heat Duty_Mkcal/hr  \\\n",
              "028-050                                           27.25713                      \n",
              "\n",
              "         Toluene Column C670 Operation_Heat Duty_Reboiler Heat Duty_Mkcal/hr  \\\n",
              "028-050                                          27.424627                     \n",
              "\n",
              "         Toluene Column C670 Operation_Column Temp Profile_C670 Tray 24 (Control)_oC  \\\n",
              "028-050                                         181.185944                             \n",
              "\n",
              "         Toluene Column C670 Operation_Column Temp Profile_C670 Btm Temp (Control)_oC  \n",
              "028-050                                         224.813736                             "
            ],
            "text/html": "<div>\n<style scoped>\n    .dataframe tbody tr th:only-of-type {\n        vertical-align: middle;\n    }\n\n    .dataframe tbody tr th {\n        vertical-align: top;\n    }\n\n    .dataframe thead th {\n        text-align: right;\n    }\n</style>\n<table border=\"1\" class=\"dataframe\">\n  <thead>\n    <tr style=\"text-align: right;\">\n      <th></th>\n      <th>Density_Distillate Production Rate and Composition</th>\n      <th>Density_Bottoms Production Rate and Composition</th>\n      <th>Toluene Column C670 Operation_Yield \\nSummary_Reflux Rate_m3/hr</th>\n      <th>Toluene Column C670 Operation_Heat Duty_Condenser Heat Duty_Mkcal/hr</th>\n      <th>Toluene Column C670 Operation_Heat Duty_Reboiler Heat Duty_Mkcal/hr</th>\n      <th>Toluene Column C670 Operation_Column Temp Profile_C670 Tray 24 (Control)_oC</th>\n      <th>Toluene Column C670 Operation_Column Temp Profile_C670 Btm Temp (Control)_oC</th>\n    </tr>\n  </thead>\n  <tbody>\n    <tr>\n      <th>028-050</th>\n      <td>0.870914</td>\n      <td>0.8723</td>\n      <td>235.166962</td>\n      <td>27.25713</td>\n      <td>27.424627</td>\n      <td>181.185944</td>\n      <td>224.813736</td>\n    </tr>\n  </tbody>\n</table>\n</div>"
          },
          "metadata": {},
          "execution_count": 18
        }
      ]
    },
    {
      "cell_type": "code",
      "metadata": {
        "id": "aQKOHeWVpZyO"
      },
      "source": [],
      "execution_count": 16,
      "outputs": []
    },
    {
      "cell_type": "code",
      "execution_count": null,
      "metadata": {},
      "outputs": [],
      "source": []
    },
    {
      "cell_type": "code",
      "execution_count": null,
      "metadata": {},
      "outputs": [],
      "source": []
    }
  ]
}