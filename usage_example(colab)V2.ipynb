{
  "nbformat": 4,
  "nbformat_minor": 0,
  "metadata": {
    "colab": {
      "name": "usage_example(colab)V2.ipynb",
      "provenance": [],
      "authorship_tag": "ABX9TyMTOs0nFLExxTgj7ANtWEVX",
      "include_colab_link": true
    },
    "kernelspec": {
      "name": "python3",
      "display_name": "Python 3"
    },
    "language_info": {
      "name": "python"
    }
  },
  "cells": [
    {
      "cell_type": "markdown",
      "metadata": {
        "id": "view-in-github",
        "colab_type": "text"
      },
      "source": [
        "<a href=\"https://colab.research.google.com/github/skywalker0803r/c620/blob/main/usage_example(colab)V2.ipynb\" target=\"_parent\"><img src=\"https://colab.research.google.com/assets/colab-badge.svg\" alt=\"Open In Colab\"/></a>"
      ]
    },
    {
      "cell_type": "code",
      "metadata": {
        "colab": {
          "base_uri": "https://localhost:8080/"
        },
        "id": "RW02A7ODhoZ-",
        "outputId": "1a5f47f9-a952-46ac-bd87-a2af73d0c12e"
      },
      "source": [
        "!git clone https://github.com/skywalker0803r/c620.git\n",
        "!pip install autorch > log.txt\n",
        "!pip install optuna > log.txt"
      ],
      "execution_count": 25,
      "outputs": [
        {
          "output_type": "stream",
          "text": [
            "Cloning into 'c620'...\n",
            "remote: Enumerating objects: 2259, done.\u001b[K\n",
            "remote: Counting objects: 100% (1077/1077), done.\u001b[K\n",
            "remote: Compressing objects: 100% (619/619), done.\u001b[K\n",
            "remote: Total 2259 (delta 702), reused 687 (delta 449), pack-reused 1182\u001b[K\n",
            "Receiving objects: 100% (2259/2259), 59.86 MiB | 18.44 MiB/s, done.\n",
            "Resolving deltas: 100% (1480/1480), done.\n"
          ],
          "name": "stdout"
        }
      ]
    },
    {
      "cell_type": "markdown",
      "metadata": {
        "id": "6WRPk_SMhx38"
      },
      "source": [
        "# import"
      ]
    },
    {
      "cell_type": "code",
      "metadata": {
        "colab": {
          "base_uri": "https://localhost:8080/"
        },
        "id": "rBbhLQgyhvQr",
        "outputId": "0cbc02a0-f2cd-43c6-effd-d2aefc82571c"
      },
      "source": [
        "from c620.FV2 import AllSystem\n",
        "from c620.configV2 import config\n",
        "import joblib\n",
        "import numpy as np\n",
        "import pandas as pd\n",
        "import os\n",
        "os.chdir('/content/c620')\n",
        "print(os.getcwd())\n",
        "!git pull"
      ],
      "execution_count": 26,
      "outputs": [
        {
          "output_type": "stream",
          "text": [
            "/content/c620\n",
            "Already up to date.\n"
          ],
          "name": "stdout"
        }
      ]
    },
    {
      "cell_type": "markdown",
      "metadata": {
        "id": "BXqYkSpqh9jp"
      },
      "source": [
        "# demo data"
      ]
    },
    {
      "cell_type": "code",
      "metadata": {
        "colab": {
          "base_uri": "https://localhost:8080/",
          "height": 202
        },
        "id": "ineX__x-h785",
        "outputId": "c098ba76-b13e-4975-ee30-8fba920d07c6"
      },
      "source": [
        "demo = joblib.load('./data/demo.pkl')\n",
        "print(demo.keys())\n",
        "icg_input = demo['icg_input']\n",
        "c620_feed = demo['c620_feed']\n",
        "t651_feed = demo['t651_feed']\n",
        "icg_input.head()"
      ],
      "execution_count": 27,
      "outputs": [
        {
          "output_type": "stream",
          "text": [
            "dict_keys(['icg_input', 'c620_feed', 't651_feed', 'c620_op', 'c620_wt', 'c660_op', 'c660_wt', 'c670_op', 'c670_wt'])\n"
          ],
          "name": "stdout"
        },
        {
          "output_type": "execute_result",
          "data": {
            "text/html": [
              "<div>\n",
              "<style scoped>\n",
              "    .dataframe tbody tr th:only-of-type {\n",
              "        vertical-align: middle;\n",
              "    }\n",
              "\n",
              "    .dataframe tbody tr th {\n",
              "        vertical-align: top;\n",
              "    }\n",
              "\n",
              "    .dataframe thead th {\n",
              "        text-align: right;\n",
              "    }\n",
              "</style>\n",
              "<table border=\"1\" class=\"dataframe\">\n",
              "  <thead>\n",
              "    <tr style=\"text-align: right;\">\n",
              "      <th></th>\n",
              "      <th>Simulation Case Conditions_Feed Rate_Feed from V615 Btm_m3/hr</th>\n",
              "      <th>Simulation Case Conditions_Feed Rate_Feed from V615 Btm    NA_wt%</th>\n",
              "      <th>Simulation Case Conditions_Feed Rate_Feed from V615 Btm    Benzene_wt%</th>\n",
              "      <th>Simulation Case Conditions_Feed Rate_Feed from V615 Btm    Toluene_wt%</th>\n",
              "      <th>Simulation Case Conditions_Feed Rate_Feed from C820 Dist_m3/hr</th>\n",
              "      <th>Simulation Case Conditions_Feed Rate_Feed from C820 Dist    NA_wt%</th>\n",
              "      <th>Simulation Case Conditions_Feed Rate_Feed from C820 Dist    Benzene_wt%</th>\n",
              "      <th>Simulation Case Conditions_Feed Rate_Feed from C820 Dist    Toluene_wt%</th>\n",
              "      <th>Simulation Case Conditions_Feed Rate_Feed from T651_m3/hr</th>\n",
              "      <th>Simulation Case Conditions_Feed Rate_Feed from T651    NA_wt%</th>\n",
              "      <th>Simulation Case Conditions_Feed Rate_Feed from T651    Benzene_wt%</th>\n",
              "      <th>Simulation Case Conditions_Feed Rate_Feed from T651    Toluene_wt%</th>\n",
              "      <th>Simulation Case Conditions_Spec 1 : Benzene in C620 Sidedraw_wt%</th>\n",
              "      <th>Simulation Case Conditions_Spec 2 : NA in Benzene_ppmw</th>\n",
              "      <th>Tatoray Stripper C620 Operation_Specifications_Spec 2 : Distillate Rate_m3/hr</th>\n",
              "      <th>Benzene Column C660 Operation_Specifications_Spec 3 : Toluene in Benzene_ppmw</th>\n",
              "      <th>Tatoray Stripper C620 Operation_Specifications_Spec 1 : Receiver Temp_oC</th>\n",
              "    </tr>\n",
              "  </thead>\n",
              "  <tbody>\n",
              "    <tr>\n",
              "      <th>137-026</th>\n",
              "      <td>188.0</td>\n",
              "      <td>1.116023</td>\n",
              "      <td>11.152225</td>\n",
              "      <td>48.745979</td>\n",
              "      <td>15.0</td>\n",
              "      <td>2.338977</td>\n",
              "      <td>74.302254</td>\n",
              "      <td>17.467825</td>\n",
              "      <td>77.0</td>\n",
              "      <td>0.0911</td>\n",
              "      <td>20.854397</td>\n",
              "      <td>74.689774</td>\n",
              "      <td>70.0</td>\n",
              "      <td>920.0</td>\n",
              "      <td>0.01</td>\n",
              "      <td>10.000004</td>\n",
              "      <td>36.0</td>\n",
              "    </tr>\n",
              "  </tbody>\n",
              "</table>\n",
              "</div>"
            ],
            "text/plain": [
              "         Simulation Case Conditions_Feed Rate_Feed from V615 Btm_m3/hr  ...  Tatoray Stripper C620 Operation_Specifications_Spec 1 : Receiver Temp_oC\n",
              "137-026                                              188.0              ...                                               36.0                       \n",
              "\n",
              "[1 rows x 17 columns]"
            ]
          },
          "metadata": {
            "tags": []
          },
          "execution_count": 27
        }
      ]
    },
    {
      "cell_type": "markdown",
      "metadata": {
        "id": "DiKsy57h982c"
      },
      "source": [
        "# 這一筆樣本的NA in Benzene_ppmw只有920 期望能拉到 980"
      ]
    },
    {
      "cell_type": "code",
      "metadata": {
        "id": "gZdJpb_otILR",
        "colab": {
          "base_uri": "https://localhost:8080/",
          "height": 80
        },
        "outputId": "1fd2599e-5a1a-4f90-da89-11aa4c051731"
      },
      "source": [
        "icg_input[['Simulation Case Conditions_Spec 2 : NA in Benzene_ppmw']]"
      ],
      "execution_count": 28,
      "outputs": [
        {
          "output_type": "execute_result",
          "data": {
            "text/html": [
              "<div>\n",
              "<style scoped>\n",
              "    .dataframe tbody tr th:only-of-type {\n",
              "        vertical-align: middle;\n",
              "    }\n",
              "\n",
              "    .dataframe tbody tr th {\n",
              "        vertical-align: top;\n",
              "    }\n",
              "\n",
              "    .dataframe thead th {\n",
              "        text-align: right;\n",
              "    }\n",
              "</style>\n",
              "<table border=\"1\" class=\"dataframe\">\n",
              "  <thead>\n",
              "    <tr style=\"text-align: right;\">\n",
              "      <th></th>\n",
              "      <th>Simulation Case Conditions_Spec 2 : NA in Benzene_ppmw</th>\n",
              "    </tr>\n",
              "  </thead>\n",
              "  <tbody>\n",
              "    <tr>\n",
              "      <th>137-026</th>\n",
              "      <td>920.0</td>\n",
              "    </tr>\n",
              "  </tbody>\n",
              "</table>\n",
              "</div>"
            ],
            "text/plain": [
              "         Simulation Case Conditions_Spec 2 : NA in Benzene_ppmw\n",
              "137-026                                              920.0     "
            ]
          },
          "metadata": {
            "tags": []
          },
          "execution_count": 28
        }
      ]
    },
    {
      "cell_type": "code",
      "metadata": {
        "id": "10dAfnigtL5M",
        "colab": {
          "base_uri": "https://localhost:8080/",
          "height": 80
        },
        "outputId": "2a9afebb-4efb-4151-cd94-cd7ff654f13c"
      },
      "source": [
        "icg_input[['Simulation Case Conditions_Spec 1 : Benzene in C620 Sidedraw_wt%']]"
      ],
      "execution_count": 29,
      "outputs": [
        {
          "output_type": "execute_result",
          "data": {
            "text/html": [
              "<div>\n",
              "<style scoped>\n",
              "    .dataframe tbody tr th:only-of-type {\n",
              "        vertical-align: middle;\n",
              "    }\n",
              "\n",
              "    .dataframe tbody tr th {\n",
              "        vertical-align: top;\n",
              "    }\n",
              "\n",
              "    .dataframe thead th {\n",
              "        text-align: right;\n",
              "    }\n",
              "</style>\n",
              "<table border=\"1\" class=\"dataframe\">\n",
              "  <thead>\n",
              "    <tr style=\"text-align: right;\">\n",
              "      <th></th>\n",
              "      <th>Simulation Case Conditions_Spec 1 : Benzene in C620 Sidedraw_wt%</th>\n",
              "    </tr>\n",
              "  </thead>\n",
              "  <tbody>\n",
              "    <tr>\n",
              "      <th>137-026</th>\n",
              "      <td>70.0</td>\n",
              "    </tr>\n",
              "  </tbody>\n",
              "</table>\n",
              "</div>"
            ],
            "text/plain": [
              "         Simulation Case Conditions_Spec 1 : Benzene in C620 Sidedraw_wt%\n",
              "137-026                                               70.0               "
            ]
          },
          "metadata": {
            "tags": []
          },
          "execution_count": 29
        }
      ]
    },
    {
      "cell_type": "code",
      "metadata": {
        "id": "H9uXRuhItL86",
        "colab": {
          "base_uri": "https://localhost:8080/",
          "height": 80
        },
        "outputId": "00865ee0-6ec0-4b34-d3f8-be11d2d527fe"
      },
      "source": [
        "icg_input[['Benzene Column C660 Operation_Specifications_Spec 3 : Toluene in Benzene_ppmw']]"
      ],
      "execution_count": 30,
      "outputs": [
        {
          "output_type": "execute_result",
          "data": {
            "text/html": [
              "<div>\n",
              "<style scoped>\n",
              "    .dataframe tbody tr th:only-of-type {\n",
              "        vertical-align: middle;\n",
              "    }\n",
              "\n",
              "    .dataframe tbody tr th {\n",
              "        vertical-align: top;\n",
              "    }\n",
              "\n",
              "    .dataframe thead th {\n",
              "        text-align: right;\n",
              "    }\n",
              "</style>\n",
              "<table border=\"1\" class=\"dataframe\">\n",
              "  <thead>\n",
              "    <tr style=\"text-align: right;\">\n",
              "      <th></th>\n",
              "      <th>Benzene Column C660 Operation_Specifications_Spec 3 : Toluene in Benzene_ppmw</th>\n",
              "    </tr>\n",
              "  </thead>\n",
              "  <tbody>\n",
              "    <tr>\n",
              "      <th>137-026</th>\n",
              "      <td>10.000004</td>\n",
              "    </tr>\n",
              "  </tbody>\n",
              "</table>\n",
              "</div>"
            ],
            "text/plain": [
              "         Benzene Column C660 Operation_Specifications_Spec 3 : Toluene in Benzene_ppmw\n",
              "137-026                                          10.000004                            "
            ]
          },
          "metadata": {
            "tags": []
          },
          "execution_count": 30
        }
      ]
    },
    {
      "cell_type": "markdown",
      "metadata": {
        "id": "3CoArzTyiJw3"
      },
      "source": [
        "# 1.試算模式"
      ]
    },
    {
      "cell_type": "code",
      "metadata": {
        "id": "thf_SjD_xqrG"
      },
      "source": [
        "f = joblib.load('/content/c620/model/allsystem.pkl')"
      ],
      "execution_count": 31,
      "outputs": []
    },
    {
      "cell_type": "code",
      "metadata": {
        "id": "Sj_g8Ef5yuOe",
        "colab": {
          "base_uri": "https://localhost:8080/",
          "height": 185
        },
        "outputId": "0f65286f-ac89-484c-f2fe-5cf675f26a5d"
      },
      "source": [
        "demo['icg_input']"
      ],
      "execution_count": 32,
      "outputs": [
        {
          "output_type": "execute_result",
          "data": {
            "text/html": [
              "<div>\n",
              "<style scoped>\n",
              "    .dataframe tbody tr th:only-of-type {\n",
              "        vertical-align: middle;\n",
              "    }\n",
              "\n",
              "    .dataframe tbody tr th {\n",
              "        vertical-align: top;\n",
              "    }\n",
              "\n",
              "    .dataframe thead th {\n",
              "        text-align: right;\n",
              "    }\n",
              "</style>\n",
              "<table border=\"1\" class=\"dataframe\">\n",
              "  <thead>\n",
              "    <tr style=\"text-align: right;\">\n",
              "      <th></th>\n",
              "      <th>Simulation Case Conditions_Feed Rate_Feed from V615 Btm_m3/hr</th>\n",
              "      <th>Simulation Case Conditions_Feed Rate_Feed from V615 Btm    NA_wt%</th>\n",
              "      <th>Simulation Case Conditions_Feed Rate_Feed from V615 Btm    Benzene_wt%</th>\n",
              "      <th>Simulation Case Conditions_Feed Rate_Feed from V615 Btm    Toluene_wt%</th>\n",
              "      <th>Simulation Case Conditions_Feed Rate_Feed from C820 Dist_m3/hr</th>\n",
              "      <th>Simulation Case Conditions_Feed Rate_Feed from C820 Dist    NA_wt%</th>\n",
              "      <th>Simulation Case Conditions_Feed Rate_Feed from C820 Dist    Benzene_wt%</th>\n",
              "      <th>Simulation Case Conditions_Feed Rate_Feed from C820 Dist    Toluene_wt%</th>\n",
              "      <th>Simulation Case Conditions_Feed Rate_Feed from T651_m3/hr</th>\n",
              "      <th>Simulation Case Conditions_Feed Rate_Feed from T651    NA_wt%</th>\n",
              "      <th>Simulation Case Conditions_Feed Rate_Feed from T651    Benzene_wt%</th>\n",
              "      <th>Simulation Case Conditions_Feed Rate_Feed from T651    Toluene_wt%</th>\n",
              "      <th>Simulation Case Conditions_Spec 1 : Benzene in C620 Sidedraw_wt%</th>\n",
              "      <th>Simulation Case Conditions_Spec 2 : NA in Benzene_ppmw</th>\n",
              "      <th>Tatoray Stripper C620 Operation_Specifications_Spec 2 : Distillate Rate_m3/hr</th>\n",
              "      <th>Benzene Column C660 Operation_Specifications_Spec 3 : Toluene in Benzene_ppmw</th>\n",
              "      <th>Tatoray Stripper C620 Operation_Specifications_Spec 1 : Receiver Temp_oC</th>\n",
              "    </tr>\n",
              "  </thead>\n",
              "  <tbody>\n",
              "    <tr>\n",
              "      <th>137-026</th>\n",
              "      <td>188.0</td>\n",
              "      <td>1.116023</td>\n",
              "      <td>11.152225</td>\n",
              "      <td>48.745979</td>\n",
              "      <td>15.0</td>\n",
              "      <td>2.338977</td>\n",
              "      <td>74.302254</td>\n",
              "      <td>17.467825</td>\n",
              "      <td>77.0</td>\n",
              "      <td>0.0911</td>\n",
              "      <td>20.854397</td>\n",
              "      <td>74.689774</td>\n",
              "      <td>70.0</td>\n",
              "      <td>920.0</td>\n",
              "      <td>0.01</td>\n",
              "      <td>10.000004</td>\n",
              "      <td>36.0</td>\n",
              "    </tr>\n",
              "  </tbody>\n",
              "</table>\n",
              "</div>"
            ],
            "text/plain": [
              "         Simulation Case Conditions_Feed Rate_Feed from V615 Btm_m3/hr  ...  Tatoray Stripper C620 Operation_Specifications_Spec 1 : Receiver Temp_oC\n",
              "137-026                                              188.0              ...                                               36.0                       \n",
              "\n",
              "[1 rows x 17 columns]"
            ]
          },
          "metadata": {
            "tags": []
          },
          "execution_count": 32
        }
      ]
    },
    {
      "cell_type": "code",
      "metadata": {
        "id": "nLRt8RejiIAI"
      },
      "source": [
        "c620_wt,c620_op,c660_wt,c660_op,c670_wt,c670_op = f.inference(demo['icg_input'],demo['c620_feed'],demo['t651_feed'])"
      ],
      "execution_count": 33,
      "outputs": []
    },
    {
      "cell_type": "markdown",
      "metadata": {
        "id": "ZZUUNpVKhzE5"
      },
      "source": [
        "# 檢查三項"
      ]
    },
    {
      "cell_type": "code",
      "metadata": {
        "id": "m18obZmDhtct",
        "colab": {
          "base_uri": "https://localhost:8080/",
          "height": 80
        },
        "outputId": "7ec79126-d9cd-4847-c6b7-c05bb35914c8"
      },
      "source": [
        "c620_wt[['Tatoray Stripper C620 Operation_Sidedraw Production Rate and Composition_Benzene_wt%']]"
      ],
      "execution_count": 34,
      "outputs": [
        {
          "output_type": "execute_result",
          "data": {
            "text/html": [
              "<div>\n",
              "<style scoped>\n",
              "    .dataframe tbody tr th:only-of-type {\n",
              "        vertical-align: middle;\n",
              "    }\n",
              "\n",
              "    .dataframe tbody tr th {\n",
              "        vertical-align: top;\n",
              "    }\n",
              "\n",
              "    .dataframe thead th {\n",
              "        text-align: right;\n",
              "    }\n",
              "</style>\n",
              "<table border=\"1\" class=\"dataframe\">\n",
              "  <thead>\n",
              "    <tr style=\"text-align: right;\">\n",
              "      <th></th>\n",
              "      <th>Tatoray Stripper C620 Operation_Sidedraw Production Rate and Composition_Benzene_wt%</th>\n",
              "    </tr>\n",
              "  </thead>\n",
              "  <tbody>\n",
              "    <tr>\n",
              "      <th>137-026</th>\n",
              "      <td>69.024115</td>\n",
              "    </tr>\n",
              "  </tbody>\n",
              "</table>\n",
              "</div>"
            ],
            "text/plain": [
              "         Tatoray Stripper C620 Operation_Sidedraw Production Rate and Composition_Benzene_wt%\n",
              "137-026                                          69.024115                                   "
            ]
          },
          "metadata": {
            "tags": []
          },
          "execution_count": 34
        }
      ]
    },
    {
      "cell_type": "code",
      "metadata": {
        "id": "ywrmcAb4hvvA",
        "colab": {
          "base_uri": "https://localhost:8080/"
        },
        "outputId": "8e804356-60c0-40ec-dc37-1b804091fff3"
      },
      "source": [
        "na_idx = [1,2,3,4,5,6,8,9,11,13,14,15,20,22,29] \n",
        "c660_wt.filter(regex='Side').filter(regex='wt%').iloc[:,na_idx].sum(axis=1).values[0]*10000"
      ],
      "execution_count": 35,
      "outputs": [
        {
          "output_type": "execute_result",
          "data": {
            "text/plain": [
              "924.8630486975103"
            ]
          },
          "metadata": {
            "tags": []
          },
          "execution_count": 35
        }
      ]
    },
    {
      "cell_type": "code",
      "metadata": {
        "id": "z6_F3BeHhyoJ",
        "colab": {
          "base_uri": "https://localhost:8080/"
        },
        "outputId": "c0264d95-e139-4044-a692-7667779706cb"
      },
      "source": [
        "c660_wt['Benzene Column C660 Operation_Sidedraw (Benzene )Production Rate and Composition_Toluene_wt%'].values[0]*10000"
      ],
      "execution_count": 36,
      "outputs": [
        {
          "output_type": "execute_result",
          "data": {
            "text/plain": [
              "7.856721733271881"
            ]
          },
          "metadata": {
            "tags": []
          },
          "execution_count": 36
        }
      ]
    },
    {
      "cell_type": "code",
      "metadata": {
        "id": "O8qyBzp04OaW",
        "colab": {
          "base_uri": "https://localhost:8080/"
        },
        "outputId": "d25280b3-b238-4999-974a-a6988ea50d6a"
      },
      "source": [
        "c620_wt.iloc[:,:41].sum(axis=1)"
      ],
      "execution_count": 37,
      "outputs": [
        {
          "output_type": "execute_result",
          "data": {
            "text/plain": [
              "137-026    100.0\n",
              "dtype: float64"
            ]
          },
          "metadata": {
            "tags": []
          },
          "execution_count": 37
        }
      ]
    },
    {
      "cell_type": "code",
      "metadata": {
        "id": "BUuh327U4OgC",
        "colab": {
          "base_uri": "https://localhost:8080/"
        },
        "outputId": "066e3020-3f44-4de0-9628-d7d33b073293"
      },
      "source": [
        "c660_wt.iloc[:,:41].sum(axis=1)"
      ],
      "execution_count": 38,
      "outputs": [
        {
          "output_type": "execute_result",
          "data": {
            "text/plain": [
              "137-026    100.0\n",
              "dtype: float64"
            ]
          },
          "metadata": {
            "tags": []
          },
          "execution_count": 38
        }
      ]
    },
    {
      "cell_type": "code",
      "metadata": {
        "id": "lES8w6NL4Olh",
        "colab": {
          "base_uri": "https://localhost:8080/"
        },
        "outputId": "e3e92689-30b9-4d1f-8416-b83db5a1bb0a"
      },
      "source": [
        "c670_wt.iloc[:,:41].sum(axis=1)"
      ],
      "execution_count": 39,
      "outputs": [
        {
          "output_type": "execute_result",
          "data": {
            "text/plain": [
              "137-026    100.0\n",
              "dtype: float64"
            ]
          },
          "metadata": {
            "tags": []
          },
          "execution_count": 39
        }
      ]
    },
    {
      "cell_type": "markdown",
      "metadata": {
        "id": "7doYEuYyjHKT"
      },
      "source": [
        "# 推薦模式"
      ]
    },
    {
      "cell_type": "code",
      "metadata": {
        "colab": {
          "base_uri": "https://localhost:8080/"
        },
        "id": "D1AZAmaUjEyw",
        "outputId": "c37f7053-052c-484e-ef5e-161beb767909"
      },
      "source": [
        "c620_wt2,c620_op2,c660_wt2,c660_op2,c670_wt2,c670_op2,bz_error,nainbz_error,tol_error = f.recommend(demo['icg_input'],demo['c620_feed'],demo['t651_feed'],auto_set_x0=True)"
      ],
      "execution_count": 40,
      "outputs": [
        {
          "output_type": "stream",
          "text": [
            "\u001b[32m[I 2021-04-27 06:15:19,150]\u001b[0m A new study created in memory with name: no-name-adbdfd7a-af83-4a78-a50f-7f748352b89b\u001b[0m\n",
            "\u001b[32m[I 2021-04-27 06:15:19,236]\u001b[0m Trial 0 finished with value: 1.0525816374963186 and parameters: {'Tatoray Stripper C620 Operation_Column Temp Profile_C620 Tray 14 (Control)_oC': 176.45894546688135, 'Tatoray Stripper C620 Operation_Column Temp Profile_C620 Tray 34 (Control)_oC': 194.06694596340526, 'Tatoray Stripper C620 Operation_Specifications_Spec 2 : Distillate Rate_m3/hr': 6.917336352405294}. Best is trial 0 with value: 1.0525816374963186.\u001b[0m\n",
            "\u001b[32m[I 2021-04-27 06:15:19,325]\u001b[0m Trial 1 finished with value: 1.0214874401903358 and parameters: {'Tatoray Stripper C620 Operation_Column Temp Profile_C620 Tray 14 (Control)_oC': 178.00296468082954, 'Tatoray Stripper C620 Operation_Column Temp Profile_C620 Tray 34 (Control)_oC': 192.9251885191862, 'Tatoray Stripper C620 Operation_Specifications_Spec 2 : Distillate Rate_m3/hr': 0.1444821297868537}. Best is trial 1 with value: 1.0214874401903358.\u001b[0m\n",
            "\u001b[32m[I 2021-04-27 06:15:19,404]\u001b[0m Trial 2 finished with value: 1.0185323628116227 and parameters: {'Tatoray Stripper C620 Operation_Column Temp Profile_C620 Tray 14 (Control)_oC': 177.44517653036567, 'Tatoray Stripper C620 Operation_Column Temp Profile_C620 Tray 34 (Control)_oC': 192.6541066048535, 'Tatoray Stripper C620 Operation_Specifications_Spec 2 : Distillate Rate_m3/hr': 0.1577928361387168}. Best is trial 2 with value: 1.0185323628116227.\u001b[0m\n",
            "\u001b[32m[I 2021-04-27 06:15:19,489]\u001b[0m Trial 3 finished with value: 1.0232868132858977 and parameters: {'Tatoray Stripper C620 Operation_Column Temp Profile_C620 Tray 14 (Control)_oC': 177.78582831811326, 'Tatoray Stripper C620 Operation_Column Temp Profile_C620 Tray 34 (Control)_oC': 192.96872100236072, 'Tatoray Stripper C620 Operation_Specifications_Spec 2 : Distillate Rate_m3/hr': 0.6087566470703552}. Best is trial 2 with value: 1.0185323628116227.\u001b[0m\n",
            "\u001b[32m[I 2021-04-27 06:15:19,589]\u001b[0m Trial 4 finished with value: 1.0174907429589233 and parameters: {'Tatoray Stripper C620 Operation_Column Temp Profile_C620 Tray 14 (Control)_oC': 178.03748322280563, 'Tatoray Stripper C620 Operation_Column Temp Profile_C620 Tray 34 (Control)_oC': 192.65955416249554, 'Tatoray Stripper C620 Operation_Specifications_Spec 2 : Distillate Rate_m3/hr': 0.5866658011209916}. Best is trial 4 with value: 1.0174907429589233.\u001b[0m\n",
            "\u001b[32m[I 2021-04-27 06:15:19,676]\u001b[0m Trial 5 finished with value: 1.0329728646876728 and parameters: {'Tatoray Stripper C620 Operation_Column Temp Profile_C620 Tray 14 (Control)_oC': 178.01880211525534, 'Tatoray Stripper C620 Operation_Column Temp Profile_C620 Tray 34 (Control)_oC': 193.07502383872517, 'Tatoray Stripper C620 Operation_Specifications_Spec 2 : Distillate Rate_m3/hr': 0.19383481828559038}. Best is trial 4 with value: 1.0174907429589233.\u001b[0m\n",
            "\u001b[32m[I 2021-04-27 06:15:19,760]\u001b[0m Trial 6 finished with value: 1.2512530791561982 and parameters: {'Tatoray Stripper C620 Operation_Column Temp Profile_C620 Tray 14 (Control)_oC': 177.58393886068916, 'Tatoray Stripper C620 Operation_Column Temp Profile_C620 Tray 34 (Control)_oC': 191.77672275575793, 'Tatoray Stripper C620 Operation_Specifications_Spec 2 : Distillate Rate_m3/hr': 1.8533187247669725}. Best is trial 4 with value: 1.0174907429589233.\u001b[0m\n",
            "\u001b[32m[I 2021-04-27 06:15:19,847]\u001b[0m Trial 7 finished with value: 1.1873662320664538 and parameters: {'Tatoray Stripper C620 Operation_Column Temp Profile_C620 Tray 14 (Control)_oC': 177.42735008429185, 'Tatoray Stripper C620 Operation_Column Temp Profile_C620 Tray 34 (Control)_oC': 192.02699496157803, 'Tatoray Stripper C620 Operation_Specifications_Spec 2 : Distillate Rate_m3/hr': 0.3364713259817182}. Best is trial 4 with value: 1.0174907429589233.\u001b[0m\n",
            "\u001b[32m[I 2021-04-27 06:15:20,005]\u001b[0m Trial 8 finished with value: 1.0354225357706444 and parameters: {'Tatoray Stripper C620 Operation_Column Temp Profile_C620 Tray 14 (Control)_oC': 177.94528185610994, 'Tatoray Stripper C620 Operation_Column Temp Profile_C620 Tray 34 (Control)_oC': 193.1259670156379, 'Tatoray Stripper C620 Operation_Specifications_Spec 2 : Distillate Rate_m3/hr': 0.3765234039817339}. Best is trial 4 with value: 1.0174907429589233.\u001b[0m\n",
            "\u001b[32m[I 2021-04-27 06:15:20,093]\u001b[0m Trial 9 finished with value: 1.0329120306852073 and parameters: {'Tatoray Stripper C620 Operation_Column Temp Profile_C620 Tray 14 (Control)_oC': 178.12016865581066, 'Tatoray Stripper C620 Operation_Column Temp Profile_C620 Tray 34 (Control)_oC': 193.0709371700299, 'Tatoray Stripper C620 Operation_Specifications_Spec 2 : Distillate Rate_m3/hr': 0.19003601531864708}. Best is trial 4 with value: 1.0174907429589233.\u001b[0m\n",
            "\u001b[32m[I 2021-04-27 06:15:20,169]\u001b[0m Trial 10 finished with value: 1.021451109794779 and parameters: {'Tatoray Stripper C620 Operation_Column Temp Profile_C620 Tray 14 (Control)_oC': 177.25238597184165, 'Tatoray Stripper C620 Operation_Column Temp Profile_C620 Tray 34 (Control)_oC': 192.97990627242802, 'Tatoray Stripper C620 Operation_Specifications_Spec 2 : Distillate Rate_m3/hr': 1.0067859329487838}. Best is trial 4 with value: 1.0174907429589233.\u001b[0m\n",
            "\u001b[32m[I 2021-04-27 06:15:20,249]\u001b[0m Trial 11 finished with value: 1.0323034109447082 and parameters: {'Tatoray Stripper C620 Operation_Column Temp Profile_C620 Tray 14 (Control)_oC': 177.6702778443893, 'Tatoray Stripper C620 Operation_Column Temp Profile_C620 Tray 34 (Control)_oC': 192.6034324931872, 'Tatoray Stripper C620 Operation_Specifications_Spec 2 : Distillate Rate_m3/hr': 0.7622333152115153}. Best is trial 4 with value: 1.0174907429589233.\u001b[0m\n",
            "\u001b[32m[I 2021-04-27 06:15:20,336]\u001b[0m Trial 12 finished with value: 1.0312532672767611 and parameters: {'Tatoray Stripper C620 Operation_Column Temp Profile_C620 Tray 14 (Control)_oC': 177.91835510785143, 'Tatoray Stripper C620 Operation_Column Temp Profile_C620 Tray 34 (Control)_oC': 193.10379427296982, 'Tatoray Stripper C620 Operation_Specifications_Spec 2 : Distillate Rate_m3/hr': 1.6186572137284965}. Best is trial 4 with value: 1.0174907429589233.\u001b[0m\n",
            "\u001b[32m[I 2021-04-27 06:15:20,433]\u001b[0m Trial 13 finished with value: 1.012059772431599 and parameters: {'Tatoray Stripper C620 Operation_Column Temp Profile_C620 Tray 14 (Control)_oC': 177.77505797650892, 'Tatoray Stripper C620 Operation_Column Temp Profile_C620 Tray 34 (Control)_oC': 192.6765282571286, 'Tatoray Stripper C620 Operation_Specifications_Spec 2 : Distillate Rate_m3/hr': 0.06753974024398757}. Best is trial 13 with value: 1.012059772431599.\u001b[0m\n",
            "\u001b[32m[I 2021-04-27 06:15:20,518]\u001b[0m Trial 14 finished with value: 1.0433699677922412 and parameters: {'Tatoray Stripper C620 Operation_Column Temp Profile_C620 Tray 14 (Control)_oC': 177.83928443037368, 'Tatoray Stripper C620 Operation_Column Temp Profile_C620 Tray 34 (Control)_oC': 193.33009378005087, 'Tatoray Stripper C620 Operation_Specifications_Spec 2 : Distillate Rate_m3/hr': 0.6284383860220855}. Best is trial 13 with value: 1.012059772431599.\u001b[0m\n",
            "\u001b[32m[I 2021-04-27 06:15:20,594]\u001b[0m Trial 15 finished with value: 1.0315477455602153 and parameters: {'Tatoray Stripper C620 Operation_Column Temp Profile_C620 Tray 14 (Control)_oC': 177.81933355725224, 'Tatoray Stripper C620 Operation_Column Temp Profile_C620 Tray 34 (Control)_oC': 192.58797416446237, 'Tatoray Stripper C620 Operation_Specifications_Spec 2 : Distillate Rate_m3/hr': 0.3883565953929329}. Best is trial 13 with value: 1.012059772431599.\u001b[0m\n",
            "\u001b[32m[I 2021-04-27 06:15:20,670]\u001b[0m Trial 16 finished with value: 1.0438410283493227 and parameters: {'Tatoray Stripper C620 Operation_Column Temp Profile_C620 Tray 14 (Control)_oC': 177.1630953661801, 'Tatoray Stripper C620 Operation_Column Temp Profile_C620 Tray 34 (Control)_oC': 193.3602573250186, 'Tatoray Stripper C620 Operation_Specifications_Spec 2 : Distillate Rate_m3/hr': 0.39126521555968535}. Best is trial 13 with value: 1.012059772431599.\u001b[0m\n",
            "\u001b[32m[I 2021-04-27 06:15:20,771]\u001b[0m Trial 17 finished with value: 1.0412459047037868 and parameters: {'Tatoray Stripper C620 Operation_Column Temp Profile_C620 Tray 14 (Control)_oC': 178.0224105457582, 'Tatoray Stripper C620 Operation_Column Temp Profile_C620 Tray 34 (Control)_oC': 193.25190534056395, 'Tatoray Stripper C620 Operation_Specifications_Spec 2 : Distillate Rate_m3/hr': 0.36098911809166423}. Best is trial 13 with value: 1.012059772431599.\u001b[0m\n",
            "\u001b[32m[I 2021-04-27 06:15:20,860]\u001b[0m Trial 18 finished with value: 1.1103678886478494 and parameters: {'Tatoray Stripper C620 Operation_Column Temp Profile_C620 Tray 14 (Control)_oC': 177.85659826472443, 'Tatoray Stripper C620 Operation_Column Temp Profile_C620 Tray 34 (Control)_oC': 192.28345917255453, 'Tatoray Stripper C620 Operation_Specifications_Spec 2 : Distillate Rate_m3/hr': 0.3336828831720091}. Best is trial 13 with value: 1.012059772431599.\u001b[0m\n",
            "\u001b[32m[I 2021-04-27 06:15:20,937]\u001b[0m Trial 19 finished with value: 1.0495654978395579 and parameters: {'Tatoray Stripper C620 Operation_Column Temp Profile_C620 Tray 14 (Control)_oC': 177.53572361791063, 'Tatoray Stripper C620 Operation_Column Temp Profile_C620 Tray 34 (Control)_oC': 192.53644939275165, 'Tatoray Stripper C620 Operation_Specifications_Spec 2 : Distillate Rate_m3/hr': 0.8776063031122028}. Best is trial 13 with value: 1.012059772431599.\u001b[0m\n",
            "\u001b[32m[I 2021-04-27 06:15:21,016]\u001b[0m Trial 20 finished with value: 1.0469614317669096 and parameters: {'Tatoray Stripper C620 Operation_Column Temp Profile_C620 Tray 14 (Control)_oC': 177.5419079038324, 'Tatoray Stripper C620 Operation_Column Temp Profile_C620 Tray 34 (Control)_oC': 193.4773942740821, 'Tatoray Stripper C620 Operation_Specifications_Spec 2 : Distillate Rate_m3/hr': 0.22455785736075384}. Best is trial 13 with value: 1.012059772431599.\u001b[0m\n",
            "\u001b[32m[I 2021-04-27 06:15:21,092]\u001b[0m Trial 21 finished with value: 1.0389645733290809 and parameters: {'Tatoray Stripper C620 Operation_Column Temp Profile_C620 Tray 14 (Control)_oC': 177.8664440165265, 'Tatoray Stripper C620 Operation_Column Temp Profile_C620 Tray 34 (Control)_oC': 193.20387485856202, 'Tatoray Stripper C620 Operation_Specifications_Spec 2 : Distillate Rate_m3/hr': 0.47321829012401706}. Best is trial 13 with value: 1.012059772431599.\u001b[0m\n",
            "\u001b[32m[I 2021-04-27 06:15:21,171]\u001b[0m Trial 22 finished with value: 1.0173329458645686 and parameters: {'Tatoray Stripper C620 Operation_Column Temp Profile_C620 Tray 14 (Control)_oC': 177.38898373850273, 'Tatoray Stripper C620 Operation_Column Temp Profile_C620 Tray 34 (Control)_oC': 192.91225210639905, 'Tatoray Stripper C620 Operation_Specifications_Spec 2 : Distillate Rate_m3/hr': 0.415099854025351}. Best is trial 13 with value: 1.012059772431599.\u001b[0m\n",
            "\u001b[32m[I 2021-04-27 06:15:21,268]\u001b[0m Trial 23 finished with value: 1.0199510760199524 and parameters: {'Tatoray Stripper C620 Operation_Column Temp Profile_C620 Tray 14 (Control)_oC': 177.8485477470727, 'Tatoray Stripper C620 Operation_Column Temp Profile_C620 Tray 34 (Control)_oC': 192.92813877092848, 'Tatoray Stripper C620 Operation_Specifications_Spec 2 : Distillate Rate_m3/hr': 0.5187184246254086}. Best is trial 13 with value: 1.012059772431599.\u001b[0m\n",
            "\u001b[32m[I 2021-04-27 06:15:21,356]\u001b[0m Trial 24 finished with value: 1.0044388688266843 and parameters: {'Tatoray Stripper C620 Operation_Column Temp Profile_C620 Tray 14 (Control)_oC': 177.8925970393838, 'Tatoray Stripper C620 Operation_Column Temp Profile_C620 Tray 34 (Control)_oC': 192.7193163914641, 'Tatoray Stripper C620 Operation_Specifications_Spec 2 : Distillate Rate_m3/hr': 0.08650478659713323}. Best is trial 24 with value: 1.0044388688266843.\u001b[0m\n",
            "\u001b[32m[I 2021-04-27 06:15:21,451]\u001b[0m Trial 25 finished with value: 1.0003945317506628 and parameters: {'Tatoray Stripper C620 Operation_Column Temp Profile_C620 Tray 14 (Control)_oC': 177.9965811662294, 'Tatoray Stripper C620 Operation_Column Temp Profile_C620 Tray 34 (Control)_oC': 192.75845819502447, 'Tatoray Stripper C620 Operation_Specifications_Spec 2 : Distillate Rate_m3/hr': 0.3615762970371628}. Best is trial 25 with value: 1.0003945317506628.\u001b[0m\n",
            "\u001b[32m[I 2021-04-27 06:15:21,535]\u001b[0m Trial 26 finished with value: 1.0322064569565228 and parameters: {'Tatoray Stripper C620 Operation_Column Temp Profile_C620 Tray 14 (Control)_oC': 177.6128612166219, 'Tatoray Stripper C620 Operation_Column Temp Profile_C620 Tray 34 (Control)_oC': 193.08888344718733, 'Tatoray Stripper C620 Operation_Specifications_Spec 2 : Distillate Rate_m3/hr': 0.5680380340513783}. Best is trial 25 with value: 1.0003945317506628.\u001b[0m\n",
            "\u001b[32m[I 2021-04-27 06:15:21,612]\u001b[0m Trial 27 finished with value: 1.0322786715271914 and parameters: {'Tatoray Stripper C620 Operation_Column Temp Profile_C620 Tray 14 (Control)_oC': 177.51497673034328, 'Tatoray Stripper C620 Operation_Column Temp Profile_C620 Tray 34 (Control)_oC': 193.09400828293158, 'Tatoray Stripper C620 Operation_Specifications_Spec 2 : Distillate Rate_m3/hr': 0.5951811008872873}. Best is trial 25 with value: 1.0003945317506628.\u001b[0m\n",
            "\u001b[32m[I 2021-04-27 06:15:21,688]\u001b[0m Trial 28 finished with value: 1.0150318003426113 and parameters: {'Tatoray Stripper C620 Operation_Column Temp Profile_C620 Tray 14 (Control)_oC': 177.87366289774033, 'Tatoray Stripper C620 Operation_Column Temp Profile_C620 Tray 34 (Control)_oC': 192.67001936746894, 'Tatoray Stripper C620 Operation_Specifications_Spec 2 : Distillate Rate_m3/hr': 0.3957362600957314}. Best is trial 25 with value: 1.0003945317506628.\u001b[0m\n",
            "\u001b[32m[I 2021-04-27 06:15:21,779]\u001b[0m Trial 29 finished with value: 1.002091560861186 and parameters: {'Tatoray Stripper C620 Operation_Column Temp Profile_C620 Tray 14 (Control)_oC': 177.67623967843372, 'Tatoray Stripper C620 Operation_Column Temp Profile_C620 Tray 34 (Control)_oC': 192.74695868848102, 'Tatoray Stripper C620 Operation_Specifications_Spec 2 : Distillate Rate_m3/hr': 0.25067717585061994}. Best is trial 25 with value: 1.0003945317506628.\u001b[0m\n",
            "\u001b[32m[I 2021-04-27 06:15:21,867]\u001b[0m Trial 30 finished with value: 1.0293735030810354 and parameters: {'Tatoray Stripper C620 Operation_Column Temp Profile_C620 Tray 14 (Control)_oC': 177.6239250983115, 'Tatoray Stripper C620 Operation_Column Temp Profile_C620 Tray 34 (Control)_oC': 193.034512357723, 'Tatoray Stripper C620 Operation_Specifications_Spec 2 : Distillate Rate_m3/hr': 0.23059734090930029}. Best is trial 25 with value: 1.0003945317506628.\u001b[0m\n",
            "\u001b[32m[I 2021-04-27 06:15:21,964]\u001b[0m Trial 31 finished with value: 1.0030883593516886 and parameters: {'Tatoray Stripper C620 Operation_Column Temp Profile_C620 Tray 14 (Control)_oC': 178.00266969911277, 'Tatoray Stripper C620 Operation_Column Temp Profile_C620 Tray 34 (Control)_oC': 192.73498149190647, 'Tatoray Stripper C620 Operation_Specifications_Spec 2 : Distillate Rate_m3/hr': 0.3494476950771742}. Best is trial 25 with value: 1.0003945317506628.\u001b[0m\n",
            "\u001b[32m[I 2021-04-27 06:15:22,047]\u001b[0m Trial 32 finished with value: 1.0141798095383547 and parameters: {'Tatoray Stripper C620 Operation_Column Temp Profile_C620 Tray 14 (Control)_oC': 177.95604309653012, 'Tatoray Stripper C620 Operation_Column Temp Profile_C620 Tray 34 (Control)_oC': 192.87685402700126, 'Tatoray Stripper C620 Operation_Specifications_Spec 2 : Distillate Rate_m3/hr': 0.6739956499967589}. Best is trial 25 with value: 1.0003945317506628.\u001b[0m\n",
            "\u001b[32m[I 2021-04-27 06:15:22,128]\u001b[0m Trial 33 finished with value: 1.0149095313359489 and parameters: {'Tatoray Stripper C620 Operation_Column Temp Profile_C620 Tray 14 (Control)_oC': 178.05869360493418, 'Tatoray Stripper C620 Operation_Column Temp Profile_C620 Tray 34 (Control)_oC': 192.86033381915098, 'Tatoray Stripper C620 Operation_Specifications_Spec 2 : Distillate Rate_m3/hr': 0.15488015906792252}. Best is trial 25 with value: 1.0003945317506628.\u001b[0m\n",
            "\u001b[32m[I 2021-04-27 06:15:22,206]\u001b[0m Trial 34 finished with value: 1.031581885900913 and parameters: {'Tatoray Stripper C620 Operation_Column Temp Profile_C620 Tray 14 (Control)_oC': 177.9642168897158, 'Tatoray Stripper C620 Operation_Column Temp Profile_C620 Tray 34 (Control)_oC': 192.5815700186277, 'Tatoray Stripper C620 Operation_Specifications_Spec 2 : Distillate Rate_m3/hr': 0.33444370310767957}. Best is trial 25 with value: 1.0003945317506628.\u001b[0m\n",
            "\u001b[32m[I 2021-04-27 06:15:22,283]\u001b[0m Trial 35 finished with value: 1.0036871115298152 and parameters: {'Tatoray Stripper C620 Operation_Column Temp Profile_C620 Tray 14 (Control)_oC': 177.4110198851901, 'Tatoray Stripper C620 Operation_Column Temp Profile_C620 Tray 34 (Control)_oC': 192.75084967136067, 'Tatoray Stripper C620 Operation_Specifications_Spec 2 : Distillate Rate_m3/hr': 0.41562227557434295}. Best is trial 25 with value: 1.0003945317506628.\u001b[0m\n",
            "\u001b[32m[I 2021-04-27 06:15:22,489]\u001b[0m Trial 36 finished with value: 1.02038904799701 and parameters: {'Tatoray Stripper C620 Operation_Column Temp Profile_C620 Tray 14 (Control)_oC': 177.81994851140774, 'Tatoray Stripper C620 Operation_Column Temp Profile_C620 Tray 34 (Control)_oC': 192.6418033778889, 'Tatoray Stripper C620 Operation_Specifications_Spec 2 : Distillate Rate_m3/hr': 0.3642099212604125}. Best is trial 25 with value: 1.0003945317506628.\u001b[0m\n",
            "\u001b[32m[I 2021-04-27 06:15:22,572]\u001b[0m Trial 37 finished with value: 1.0033210412164828 and parameters: {'Tatoray Stripper C620 Operation_Column Temp Profile_C620 Tray 14 (Control)_oC': 177.58309488640057, 'Tatoray Stripper C620 Operation_Column Temp Profile_C620 Tray 34 (Control)_oC': 192.79555544794437, 'Tatoray Stripper C620 Operation_Specifications_Spec 2 : Distillate Rate_m3/hr': 0.4883562574588213}. Best is trial 25 with value: 1.0003945317506628.\u001b[0m\n",
            "\u001b[32m[I 2021-04-27 06:15:22,648]\u001b[0m Trial 38 finished with value: 1.0033640486912132 and parameters: {'Tatoray Stripper C620 Operation_Column Temp Profile_C620 Tray 14 (Control)_oC': 177.94512513386778, 'Tatoray Stripper C620 Operation_Column Temp Profile_C620 Tray 34 (Control)_oC': 192.78031218182966, 'Tatoray Stripper C620 Operation_Specifications_Spec 2 : Distillate Rate_m3/hr': 0.35884955730758644}. Best is trial 25 with value: 1.0003945317506628.\u001b[0m\n",
            "\u001b[32m[I 2021-04-27 06:15:22,739]\u001b[0m Trial 39 finished with value: 1.004334718209851 and parameters: {'Tatoray Stripper C620 Operation_Column Temp Profile_C620 Tray 14 (Control)_oC': 177.88713704317388, 'Tatoray Stripper C620 Operation_Column Temp Profile_C620 Tray 34 (Control)_oC': 192.7865842831853, 'Tatoray Stripper C620 Operation_Specifications_Spec 2 : Distillate Rate_m3/hr': 0.2991023608352221}. Best is trial 25 with value: 1.0003945317506628.\u001b[0m\n",
            "\u001b[32m[I 2021-04-27 06:15:22,835]\u001b[0m Trial 40 finished with value: 1.0016978368658 and parameters: {'Tatoray Stripper C620 Operation_Column Temp Profile_C620 Tray 14 (Control)_oC': 177.79434276565257, 'Tatoray Stripper C620 Operation_Column Temp Profile_C620 Tray 34 (Control)_oC': 192.75030704494142, 'Tatoray Stripper C620 Operation_Specifications_Spec 2 : Distillate Rate_m3/hr': 0.3584127653502968}. Best is trial 25 with value: 1.0003945317506628.\u001b[0m\n",
            "\u001b[32m[I 2021-04-27 06:15:22,916]\u001b[0m Trial 41 finished with value: 1.0018573014276257 and parameters: {'Tatoray Stripper C620 Operation_Column Temp Profile_C620 Tray 14 (Control)_oC': 178.02926706630018, 'Tatoray Stripper C620 Operation_Column Temp Profile_C620 Tray 34 (Control)_oC': 192.76002888960346, 'Tatoray Stripper C620 Operation_Specifications_Spec 2 : Distillate Rate_m3/hr': 0.170360604367492}. Best is trial 25 with value: 1.0003945317506628.\u001b[0m\n",
            "\u001b[32m[I 2021-04-27 06:15:22,999]\u001b[0m Trial 42 finished with value: 1.0166491837213008 and parameters: {'Tatoray Stripper C620 Operation_Column Temp Profile_C620 Tray 14 (Control)_oC': 177.4824076900629, 'Tatoray Stripper C620 Operation_Column Temp Profile_C620 Tray 34 (Control)_oC': 192.89127510339918, 'Tatoray Stripper C620 Operation_Specifications_Spec 2 : Distillate Rate_m3/hr': 0.10823400744102632}. Best is trial 25 with value: 1.0003945317506628.\u001b[0m\n",
            "\u001b[32m[I 2021-04-27 06:15:23,080]\u001b[0m Trial 43 finished with value: 1.0066371206556046 and parameters: {'Tatoray Stripper C620 Operation_Column Temp Profile_C620 Tray 14 (Control)_oC': 177.77318410932196, 'Tatoray Stripper C620 Operation_Column Temp Profile_C620 Tray 34 (Control)_oC': 192.71721421949513, 'Tatoray Stripper C620 Operation_Specifications_Spec 2 : Distillate Rate_m3/hr': 0.2914754130756193}. Best is trial 25 with value: 1.0003945317506628.\u001b[0m\n",
            "\u001b[32m[I 2021-04-27 06:15:23,160]\u001b[0m Trial 44 finished with value: 1.0080114545409837 and parameters: {'Tatoray Stripper C620 Operation_Column Temp Profile_C620 Tray 14 (Control)_oC': 177.81365136461693, 'Tatoray Stripper C620 Operation_Column Temp Profile_C620 Tray 34 (Control)_oC': 192.8130284198569, 'Tatoray Stripper C620 Operation_Specifications_Spec 2 : Distillate Rate_m3/hr': 0.2212433246736716}. Best is trial 25 with value: 1.0003945317506628.\u001b[0m\n",
            "\u001b[32m[I 2021-04-27 06:15:23,243]\u001b[0m Trial 45 finished with value: 1.0211816384770644 and parameters: {'Tatoray Stripper C620 Operation_Column Temp Profile_C620 Tray 14 (Control)_oC': 178.03620570886656, 'Tatoray Stripper C620 Operation_Column Temp Profile_C620 Tray 34 (Control)_oC': 192.9277884513778, 'Tatoray Stripper C620 Operation_Specifications_Spec 2 : Distillate Rate_m3/hr': 0.3220112977797439}. Best is trial 25 with value: 1.0003945317506628.\u001b[0m\n",
            "\u001b[32m[I 2021-04-27 06:15:23,322]\u001b[0m Trial 46 finished with value: 1.0091599718603046 and parameters: {'Tatoray Stripper C620 Operation_Column Temp Profile_C620 Tray 14 (Control)_oC': 177.67499557975938, 'Tatoray Stripper C620 Operation_Column Temp Profile_C620 Tray 34 (Control)_oC': 192.83731460095728, 'Tatoray Stripper C620 Operation_Specifications_Spec 2 : Distillate Rate_m3/hr': 0.513138514785557}. Best is trial 25 with value: 1.0003945317506628.\u001b[0m\n",
            "\u001b[32m[I 2021-04-27 06:15:23,399]\u001b[0m Trial 47 finished with value: 1.0147425013499558 and parameters: {'Tatoray Stripper C620 Operation_Column Temp Profile_C620 Tray 14 (Control)_oC': 177.760432114096, 'Tatoray Stripper C620 Operation_Column Temp Profile_C620 Tray 34 (Control)_oC': 192.66531506589374, 'Tatoray Stripper C620 Operation_Specifications_Spec 2 : Distillate Rate_m3/hr': 0.1529982810282664}. Best is trial 25 with value: 1.0003945317506628.\u001b[0m\n",
            "\u001b[32m[I 2021-04-27 06:15:23,486]\u001b[0m Trial 48 finished with value: 1.0055824270213658 and parameters: {'Tatoray Stripper C620 Operation_Column Temp Profile_C620 Tray 14 (Control)_oC': 177.87691924072553, 'Tatoray Stripper C620 Operation_Column Temp Profile_C620 Tray 34 (Control)_oC': 192.71055185078376, 'Tatoray Stripper C620 Operation_Specifications_Spec 2 : Distillate Rate_m3/hr': 0.03288727116556178}. Best is trial 25 with value: 1.0003945317506628.\u001b[0m\n",
            "\u001b[32m[I 2021-04-27 06:15:23,567]\u001b[0m Trial 49 finished with value: 1.0211295518713113 and parameters: {'Tatoray Stripper C620 Operation_Column Temp Profile_C620 Tray 14 (Control)_oC': 178.1151491980654, 'Tatoray Stripper C620 Operation_Column Temp Profile_C620 Tray 34 (Control)_oC': 192.93125313556124, 'Tatoray Stripper C620 Operation_Specifications_Spec 2 : Distillate Rate_m3/hr': 0.4871172280660642}. Best is trial 25 with value: 1.0003945317506628.\u001b[0m\n",
            "\u001b[32m[I 2021-04-27 06:15:23,650]\u001b[0m Trial 50 finished with value: 1.0027994732407273 and parameters: {'Tatoray Stripper C620 Operation_Column Temp Profile_C620 Tray 14 (Control)_oC': 177.58142759125664, 'Tatoray Stripper C620 Operation_Column Temp Profile_C620 Tray 34 (Control)_oC': 192.77780888272065, 'Tatoray Stripper C620 Operation_Specifications_Spec 2 : Distillate Rate_m3/hr': 0.12542672497106153}. Best is trial 25 with value: 1.0003945317506628.\u001b[0m\n",
            "\u001b[32m[I 2021-04-27 06:15:23,733]\u001b[0m Trial 51 finished with value: 1.016889924203055 and parameters: {'Tatoray Stripper C620 Operation_Column Temp Profile_C620 Tray 14 (Control)_oC': 178.09989384199733, 'Tatoray Stripper C620 Operation_Column Temp Profile_C620 Tray 34 (Control)_oC': 192.8752277063139, 'Tatoray Stripper C620 Operation_Specifications_Spec 2 : Distillate Rate_m3/hr': 0.10394202886912213}. Best is trial 25 with value: 1.0003945317506628.\u001b[0m\n",
            "\u001b[32m[I 2021-04-27 06:15:23,819]\u001b[0m Trial 52 finished with value: 1.003372954312038 and parameters: {'Tatoray Stripper C620 Operation_Column Temp Profile_C620 Tray 14 (Control)_oC': 177.92835243906003, 'Tatoray Stripper C620 Operation_Column Temp Profile_C620 Tray 34 (Control)_oC': 192.77709792826874, 'Tatoray Stripper C620 Operation_Specifications_Spec 2 : Distillate Rate_m3/hr': 0.2621852934613079}. Best is trial 25 with value: 1.0003945317506628.\u001b[0m\n",
            "\u001b[32m[I 2021-04-27 06:15:23,919]\u001b[0m Trial 53 finished with value: 1.0011188001497178 and parameters: {'Tatoray Stripper C620 Operation_Column Temp Profile_C620 Tray 14 (Control)_oC': 177.91582375966289, 'Tatoray Stripper C620 Operation_Column Temp Profile_C620 Tray 34 (Control)_oC': 192.7452658509665, 'Tatoray Stripper C620 Operation_Specifications_Spec 2 : Distillate Rate_m3/hr': 0.22201424876545361}. Best is trial 25 with value: 1.0003945317506628.\u001b[0m\n",
            "\u001b[32m[I 2021-04-27 06:15:24,002]\u001b[0m Trial 54 finished with value: 1.0129647936894717 and parameters: {'Tatoray Stripper C620 Operation_Column Temp Profile_C620 Tray 14 (Control)_oC': 177.60464234060836, 'Tatoray Stripper C620 Operation_Column Temp Profile_C620 Tray 34 (Control)_oC': 192.68076871144174, 'Tatoray Stripper C620 Operation_Specifications_Spec 2 : Distillate Rate_m3/hr': 0.18085536635120877}. Best is trial 25 with value: 1.0003945317506628.\u001b[0m\n",
            "\u001b[32m[I 2021-04-27 06:15:24,080]\u001b[0m Trial 55 finished with value: 1.003632406591579 and parameters: {'Tatoray Stripper C620 Operation_Column Temp Profile_C620 Tray 14 (Control)_oC': 177.65817318956977, 'Tatoray Stripper C620 Operation_Column Temp Profile_C620 Tray 34 (Control)_oC': 192.74418582201173, 'Tatoray Stripper C620 Operation_Specifications_Spec 2 : Distillate Rate_m3/hr': 0.4192936749955011}. Best is trial 25 with value: 1.0003945317506628.\u001b[0m\n",
            "\u001b[32m[I 2021-04-27 06:15:24,172]\u001b[0m Trial 56 finished with value: 1.0113499380062996 and parameters: {'Tatoray Stripper C620 Operation_Column Temp Profile_C620 Tray 14 (Control)_oC': 177.73509865367802, 'Tatoray Stripper C620 Operation_Column Temp Profile_C620 Tray 34 (Control)_oC': 192.68113308198332, 'Tatoray Stripper C620 Operation_Specifications_Spec 2 : Distillate Rate_m3/hr': 0.05248282075328131}. Best is trial 25 with value: 1.0003945317506628.\u001b[0m\n",
            "\u001b[32m[I 2021-04-27 06:15:24,256]\u001b[0m Trial 57 finished with value: 1.0026866590978143 and parameters: {'Tatoray Stripper C620 Operation_Column Temp Profile_C620 Tray 14 (Control)_oC': 177.5831589753212, 'Tatoray Stripper C620 Operation_Column Temp Profile_C620 Tray 34 (Control)_oC': 192.78166676539038, 'Tatoray Stripper C620 Operation_Specifications_Spec 2 : Distillate Rate_m3/hr': 0.24604409001000274}. Best is trial 25 with value: 1.0003945317506628.\u001b[0m\n",
            "\u001b[32m[I 2021-04-27 06:15:24,347]\u001b[0m Trial 58 finished with value: 1.0084493388744118 and parameters: {'Tatoray Stripper C620 Operation_Column Temp Profile_C620 Tray 14 (Control)_oC': 177.7262824469108, 'Tatoray Stripper C620 Operation_Column Temp Profile_C620 Tray 34 (Control)_oC': 192.70512805882814, 'Tatoray Stripper C620 Operation_Specifications_Spec 2 : Distillate Rate_m3/hr': 0.22637623206034224}. Best is trial 25 with value: 1.0003945317506628.\u001b[0m\n",
            "\u001b[32m[I 2021-04-27 06:15:24,431]\u001b[0m Trial 59 finished with value: 1.0034848842202317 and parameters: {'Tatoray Stripper C620 Operation_Column Temp Profile_C620 Tray 14 (Control)_oC': 177.92650464602133, 'Tatoray Stripper C620 Operation_Column Temp Profile_C620 Tray 34 (Control)_oC': 192.7239626843729, 'Tatoray Stripper C620 Operation_Specifications_Spec 2 : Distillate Rate_m3/hr': 0.07632478009841367}. Best is trial 25 with value: 1.0003945317506628.\u001b[0m\n",
            "\u001b[32m[I 2021-04-27 06:15:24,528]\u001b[0m Trial 60 finished with value: 1.0004266453695456 and parameters: {'Tatoray Stripper C620 Operation_Column Temp Profile_C620 Tray 14 (Control)_oC': 177.89724180513923, 'Tatoray Stripper C620 Operation_Column Temp Profile_C620 Tray 34 (Control)_oC': 192.7462422326912, 'Tatoray Stripper C620 Operation_Specifications_Spec 2 : Distillate Rate_m3/hr': 0.116058740628758}. Best is trial 25 with value: 1.0003945317506628.\u001b[0m\n",
            "\u001b[32m[I 2021-04-27 06:15:24,616]\u001b[0m Trial 61 finished with value: 1.0183637153026033 and parameters: {'Tatoray Stripper C620 Operation_Column Temp Profile_C620 Tray 14 (Control)_oC': 177.7863672956617, 'Tatoray Stripper C620 Operation_Column Temp Profile_C620 Tray 34 (Control)_oC': 192.64208912504697, 'Tatoray Stripper C620 Operation_Specifications_Spec 2 : Distillate Rate_m3/hr': 0.07799671788673324}. Best is trial 25 with value: 1.0003945317506628.\u001b[0m\n",
            "\u001b[32m[I 2021-04-27 06:15:24,696]\u001b[0m Trial 62 finished with value: 1.0043416883667229 and parameters: {'Tatoray Stripper C620 Operation_Column Temp Profile_C620 Tray 14 (Control)_oC': 177.86347422893868, 'Tatoray Stripper C620 Operation_Column Temp Profile_C620 Tray 34 (Control)_oC': 192.71963780359732, 'Tatoray Stripper C620 Operation_Specifications_Spec 2 : Distillate Rate_m3/hr': 0.05774148923314895}. Best is trial 25 with value: 1.0003945317506628.\u001b[0m\n",
            "\u001b[32m[I 2021-04-27 06:15:24,788]\u001b[0m Trial 63 finished with value: 1.0053978042852163 and parameters: {'Tatoray Stripper C620 Operation_Column Temp Profile_C620 Tray 14 (Control)_oC': 177.71283012388864, 'Tatoray Stripper C620 Operation_Column Temp Profile_C620 Tray 34 (Control)_oC': 192.79399253070173, 'Tatoray Stripper C620 Operation_Specifications_Spec 2 : Distillate Rate_m3/hr': 0.16088028515717917}. Best is trial 25 with value: 1.0003945317506628.\u001b[0m\n",
            "\u001b[32m[I 2021-04-27 06:15:24,867]\u001b[0m Trial 64 finished with value: 1.0013905872767916 and parameters: {'Tatoray Stripper C620 Operation_Column Temp Profile_C620 Tray 14 (Control)_oC': 178.0507439597075, 'Tatoray Stripper C620 Operation_Column Temp Profile_C620 Tray 34 (Control)_oC': 192.74266990253207, 'Tatoray Stripper C620 Operation_Specifications_Spec 2 : Distillate Rate_m3/hr': 0.30054526425197353}. Best is trial 25 with value: 1.0003945317506628.\u001b[0m\n",
            "\u001b[32m[I 2021-04-27 06:15:24,947]\u001b[0m Trial 65 finished with value: 1.0104326032234723 and parameters: {'Tatoray Stripper C620 Operation_Column Temp Profile_C620 Tray 14 (Control)_oC': 177.9085725642376, 'Tatoray Stripper C620 Operation_Column Temp Profile_C620 Tray 34 (Control)_oC': 192.83047849610833, 'Tatoray Stripper C620 Operation_Specifications_Spec 2 : Distillate Rate_m3/hr': 0.25067035446817876}. Best is trial 25 with value: 1.0003945317506628.\u001b[0m\n",
            "\u001b[32m[I 2021-04-27 06:15:25,024]\u001b[0m Trial 66 finished with value: 1.0033023909821566 and parameters: {'Tatoray Stripper C620 Operation_Column Temp Profile_C620 Tray 14 (Control)_oC': 177.73380341418243, 'Tatoray Stripper C620 Operation_Column Temp Profile_C620 Tray 34 (Control)_oC': 192.7725036945097, 'Tatoray Stripper C620 Operation_Specifications_Spec 2 : Distillate Rate_m3/hr': 0.0003012324946827516}. Best is trial 25 with value: 1.0003945317506628.\u001b[0m\n",
            "\u001b[32m[I 2021-04-27 06:15:25,119]\u001b[0m Trial 67 finished with value: 1.0014391995300216 and parameters: {'Tatoray Stripper C620 Operation_Column Temp Profile_C620 Tray 14 (Control)_oC': 177.75925573333032, 'Tatoray Stripper C620 Operation_Column Temp Profile_C620 Tray 34 (Control)_oC': 192.7652300309166, 'Tatoray Stripper C620 Operation_Specifications_Spec 2 : Distillate Rate_m3/hr': 0.17741127470829218}. Best is trial 25 with value: 1.0003945317506628.\u001b[0m\n",
            "\u001b[32m[I 2021-04-27 06:15:25,205]\u001b[0m Trial 68 finished with value: 1.0041376647955846 and parameters: {'Tatoray Stripper C620 Operation_Column Temp Profile_C620 Tray 14 (Control)_oC': 177.7562047511099, 'Tatoray Stripper C620 Operation_Column Temp Profile_C620 Tray 34 (Control)_oC': 192.72575598364187, 'Tatoray Stripper C620 Operation_Specifications_Spec 2 : Distillate Rate_m3/hr': 0.10212267440891326}. Best is trial 25 with value: 1.0003945317506628.\u001b[0m\n",
            "\u001b[32m[I 2021-04-27 06:15:25,281]\u001b[0m Trial 69 finished with value: 1.0015316575118058 and parameters: {'Tatoray Stripper C620 Operation_Column Temp Profile_C620 Tray 14 (Control)_oC': 177.7017113983131, 'Tatoray Stripper C620 Operation_Column Temp Profile_C620 Tray 34 (Control)_oC': 192.76394989224306, 'Tatoray Stripper C620 Operation_Specifications_Spec 2 : Distillate Rate_m3/hr': 0.08547421367471268}. Best is trial 25 with value: 1.0003945317506628.\u001b[0m\n",
            "\u001b[32m[I 2021-04-27 06:15:25,375]\u001b[0m Trial 70 finished with value: 1.0042432416535916 and parameters: {'Tatoray Stripper C620 Operation_Column Temp Profile_C620 Tray 14 (Control)_oC': 177.9140987644064, 'Tatoray Stripper C620 Operation_Column Temp Profile_C620 Tray 34 (Control)_oC': 192.77630804510855, 'Tatoray Stripper C620 Operation_Specifications_Spec 2 : Distillate Rate_m3/hr': 0.07201673864103733}. Best is trial 25 with value: 1.0003945317506628.\u001b[0m\n",
            "\u001b[32m[I 2021-04-27 06:15:25,460]\u001b[0m Trial 71 finished with value: 1.0029476953286307 and parameters: {'Tatoray Stripper C620 Operation_Column Temp Profile_C620 Tray 14 (Control)_oC': 178.01602091781615, 'Tatoray Stripper C620 Operation_Column Temp Profile_C620 Tray 34 (Control)_oC': 192.76581838117875, 'Tatoray Stripper C620 Operation_Specifications_Spec 2 : Distillate Rate_m3/hr': 0.11444455769684138}. Best is trial 25 with value: 1.0003945317506628.\u001b[0m\n",
            "\u001b[32m[I 2021-04-27 06:15:25,541]\u001b[0m Trial 72 finished with value: 1.0038402644244988 and parameters: {'Tatoray Stripper C620 Operation_Column Temp Profile_C620 Tray 14 (Control)_oC': 177.92106280562055, 'Tatoray Stripper C620 Operation_Column Temp Profile_C620 Tray 34 (Control)_oC': 192.73792592102464, 'Tatoray Stripper C620 Operation_Specifications_Spec 2 : Distillate Rate_m3/hr': 0.487032303506272}. Best is trial 25 with value: 1.0003945317506628.\u001b[0m\n",
            "\u001b[32m[I 2021-04-27 06:15:25,643]\u001b[0m Trial 73 finished with value: 1.0067203891689867 and parameters: {'Tatoray Stripper C620 Operation_Column Temp Profile_C620 Tray 14 (Control)_oC': 178.07796103493644, 'Tatoray Stripper C620 Operation_Column Temp Profile_C620 Tray 34 (Control)_oC': 192.70205199762074, 'Tatoray Stripper C620 Operation_Specifications_Spec 2 : Distillate Rate_m3/hr': 0.1408052787296368}. Best is trial 25 with value: 1.0003945317506628.\u001b[0m\n",
            "\u001b[32m[I 2021-04-27 06:15:25,727]\u001b[0m Trial 74 finished with value: 1.005119779859988 and parameters: {'Tatoray Stripper C620 Operation_Column Temp Profile_C620 Tray 14 (Control)_oC': 178.00344776539274, 'Tatoray Stripper C620 Operation_Column Temp Profile_C620 Tray 34 (Control)_oC': 192.72555162922578, 'Tatoray Stripper C620 Operation_Specifications_Spec 2 : Distillate Rate_m3/hr': 0.43578042753317237}. Best is trial 25 with value: 1.0003945317506628.\u001b[0m\n",
            "\u001b[32m[I 2021-04-27 06:15:25,828]\u001b[0m Trial 75 finished with value: 1.0021086657526068 and parameters: {'Tatoray Stripper C620 Operation_Column Temp Profile_C620 Tray 14 (Control)_oC': 177.95731773667234, 'Tatoray Stripper C620 Operation_Column Temp Profile_C620 Tray 34 (Control)_oC': 192.76036221948604, 'Tatoray Stripper C620 Operation_Specifications_Spec 2 : Distillate Rate_m3/hr': 0.08125222474813837}. Best is trial 25 with value: 1.0003945317506628.\u001b[0m\n",
            "\u001b[32m[I 2021-04-27 06:15:25,923]\u001b[0m Trial 76 finished with value: 1.0064137012012309 and parameters: {'Tatoray Stripper C620 Operation_Column Temp Profile_C620 Tray 14 (Control)_oC': 177.94592046924134, 'Tatoray Stripper C620 Operation_Column Temp Profile_C620 Tray 34 (Control)_oC': 192.8021878006336, 'Tatoray Stripper C620 Operation_Specifications_Spec 2 : Distillate Rate_m3/hr': 0.3526821821567482}. Best is trial 25 with value: 1.0003945317506628.\u001b[0m\n",
            "\u001b[32m[I 2021-04-27 06:15:26,007]\u001b[0m Trial 77 finished with value: 1.0016261408712472 and parameters: {'Tatoray Stripper C620 Operation_Column Temp Profile_C620 Tray 14 (Control)_oC': 177.8825127947668, 'Tatoray Stripper C620 Operation_Column Temp Profile_C620 Tray 34 (Control)_oC': 192.7371641112524, 'Tatoray Stripper C620 Operation_Specifications_Spec 2 : Distillate Rate_m3/hr': 0.07524787539783054}. Best is trial 25 with value: 1.0003945317506628.\u001b[0m\n",
            "\u001b[32m[I 2021-04-27 06:15:26,089]\u001b[0m Trial 78 finished with value: 1.0017405643641517 and parameters: {'Tatoray Stripper C620 Operation_Column Temp Profile_C620 Tray 14 (Control)_oC': 177.82788171114518, 'Tatoray Stripper C620 Operation_Column Temp Profile_C620 Tray 34 (Control)_oC': 192.7653794445385, 'Tatoray Stripper C620 Operation_Specifications_Spec 2 : Distillate Rate_m3/hr': 0.17916434527058733}. Best is trial 25 with value: 1.0003945317506628.\u001b[0m\n",
            "\u001b[32m[I 2021-04-27 06:15:26,164]\u001b[0m Trial 79 finished with value: 1.000394522750312 and parameters: {'Tatoray Stripper C620 Operation_Column Temp Profile_C620 Tray 14 (Control)_oC': 177.7725939390749, 'Tatoray Stripper C620 Operation_Column Temp Profile_C620 Tray 34 (Control)_oC': 192.75802884757152, 'Tatoray Stripper C620 Operation_Specifications_Spec 2 : Distillate Rate_m3/hr': 0.1847201912663331}. Best is trial 79 with value: 1.000394522750312.\u001b[0m\n",
            "\u001b[32m[I 2021-04-27 06:15:26,237]\u001b[0m Trial 80 finished with value: 1.000327796902902 and parameters: {'Tatoray Stripper C620 Operation_Column Temp Profile_C620 Tray 14 (Control)_oC': 177.77894978926804, 'Tatoray Stripper C620 Operation_Column Temp Profile_C620 Tray 34 (Control)_oC': 192.76854407999676, 'Tatoray Stripper C620 Operation_Specifications_Spec 2 : Distillate Rate_m3/hr': 0.4707028496702568}. Best is trial 80 with value: 1.000327796902902.\u001b[0m\n",
            "\u001b[32m[I 2021-04-27 06:15:26,320]\u001b[0m Trial 81 finished with value: 1.003047251583482 and parameters: {'Tatoray Stripper C620 Operation_Column Temp Profile_C620 Tray 14 (Control)_oC': 177.898229982768, 'Tatoray Stripper C620 Operation_Column Temp Profile_C620 Tray 34 (Control)_oC': 192.76895489298076, 'Tatoray Stripper C620 Operation_Specifications_Spec 2 : Distillate Rate_m3/hr': 0.08977079239130084}. Best is trial 80 with value: 1.000327796902902.\u001b[0m\n",
            "\u001b[32m[I 2021-04-27 06:15:26,399]\u001b[0m Trial 82 finished with value: 1.0021511077131269 and parameters: {'Tatoray Stripper C620 Operation_Column Temp Profile_C620 Tray 14 (Control)_oC': 177.9032464874706, 'Tatoray Stripper C620 Operation_Column Temp Profile_C620 Tray 34 (Control)_oC': 192.73452262162496, 'Tatoray Stripper C620 Operation_Specifications_Spec 2 : Distillate Rate_m3/hr': 0.11033210994986033}. Best is trial 80 with value: 1.000327796902902.\u001b[0m\n",
            "\u001b[32m[I 2021-04-27 06:15:26,478]\u001b[0m Trial 83 finished with value: 1.0004638257728544 and parameters: {'Tatoray Stripper C620 Operation_Column Temp Profile_C620 Tray 14 (Control)_oC': 177.82840389786622, 'Tatoray Stripper C620 Operation_Column Temp Profile_C620 Tray 34 (Control)_oC': 192.75645242292362, 'Tatoray Stripper C620 Operation_Specifications_Spec 2 : Distillate Rate_m3/hr': 0.17377265846157974}. Best is trial 80 with value: 1.000327796902902.\u001b[0m\n",
            "\u001b[32m[I 2021-04-27 06:15:26,572]\u001b[0m Trial 84 finished with value: 1.0062596886367425 and parameters: {'Tatoray Stripper C620 Operation_Column Temp Profile_C620 Tray 14 (Control)_oC': 177.95978317136453, 'Tatoray Stripper C620 Operation_Column Temp Profile_C620 Tray 34 (Control)_oC': 192.7926411007069, 'Tatoray Stripper C620 Operation_Specifications_Spec 2 : Distillate Rate_m3/hr': 0.14678017000752147}. Best is trial 80 with value: 1.000327796902902.\u001b[0m\n",
            "\u001b[32m[I 2021-04-27 06:15:26,656]\u001b[0m Trial 85 finished with value: 1.0026971337905306 and parameters: {'Tatoray Stripper C620 Operation_Column Temp Profile_C620 Tray 14 (Control)_oC': 177.46492442363413, 'Tatoray Stripper C620 Operation_Column Temp Profile_C620 Tray 34 (Control)_oC': 192.7870477088653, 'Tatoray Stripper C620 Operation_Specifications_Spec 2 : Distillate Rate_m3/hr': 0.29386166175835826}. Best is trial 80 with value: 1.000327796902902.\u001b[0m\n",
            "\u001b[32m[I 2021-04-27 06:15:26,731]\u001b[0m Trial 86 finished with value: 1.0005902860110742 and parameters: {'Tatoray Stripper C620 Operation_Column Temp Profile_C620 Tray 14 (Control)_oC': 177.99934335987015, 'Tatoray Stripper C620 Operation_Column Temp Profile_C620 Tray 34 (Control)_oC': 192.74527165690054, 'Tatoray Stripper C620 Operation_Specifications_Spec 2 : Distillate Rate_m3/hr': 0.19432576453005765}. Best is trial 80 with value: 1.000327796902902.\u001b[0m\n",
            "\u001b[32m[I 2021-04-27 06:15:26,815]\u001b[0m Trial 87 finished with value: 1.003057796882855 and parameters: {'Tatoray Stripper C620 Operation_Column Temp Profile_C620 Tray 14 (Control)_oC': 177.93245772060234, 'Tatoray Stripper C620 Operation_Column Temp Profile_C620 Tray 34 (Control)_oC': 192.74732921050503, 'Tatoray Stripper C620 Operation_Specifications_Spec 2 : Distillate Rate_m3/hr': 0.6091364966285322}. Best is trial 80 with value: 1.000327796902902.\u001b[0m\n",
            "\u001b[32m[I 2021-04-27 06:15:26,890]\u001b[0m Trial 88 finished with value: 1.0011594207210828 and parameters: {'Tatoray Stripper C620 Operation_Column Temp Profile_C620 Tray 14 (Control)_oC': 177.84298692763014, 'Tatoray Stripper C620 Operation_Column Temp Profile_C620 Tray 34 (Control)_oC': 192.74701051329683, 'Tatoray Stripper C620 Operation_Specifications_Spec 2 : Distillate Rate_m3/hr': 0.21969004447736323}. Best is trial 80 with value: 1.000327796902902.\u001b[0m\n",
            "\u001b[32m[I 2021-04-27 06:15:26,974]\u001b[0m Trial 89 finished with value: 1.003043441583041 and parameters: {'Tatoray Stripper C620 Operation_Column Temp Profile_C620 Tray 14 (Control)_oC': 177.81870997071726, 'Tatoray Stripper C620 Operation_Column Temp Profile_C620 Tray 34 (Control)_oC': 192.77550423816794, 'Tatoray Stripper C620 Operation_Specifications_Spec 2 : Distillate Rate_m3/hr': 0.19943924054706316}. Best is trial 80 with value: 1.000327796902902.\u001b[0m\n",
            "\u001b[32m[I 2021-04-27 06:15:27,057]\u001b[0m Trial 90 finished with value: 1.0020083692058956 and parameters: {'Tatoray Stripper C620 Operation_Column Temp Profile_C620 Tray 14 (Control)_oC': 178.03370504927406, 'Tatoray Stripper C620 Operation_Column Temp Profile_C620 Tray 34 (Control)_oC': 192.76107921022088, 'Tatoray Stripper C620 Operation_Specifications_Spec 2 : Distillate Rate_m3/hr': 0.17382602257276258}. Best is trial 80 with value: 1.000327796902902.\u001b[0m\n",
            "\u001b[32m[I 2021-04-27 06:15:27,131]\u001b[0m Trial 91 finished with value: 1.003681354919298 and parameters: {'Tatoray Stripper C620 Operation_Column Temp Profile_C620 Tray 14 (Control)_oC': 177.75432490053595, 'Tatoray Stripper C620 Operation_Column Temp Profile_C620 Tray 34 (Control)_oC': 192.79734043796398, 'Tatoray Stripper C620 Operation_Specifications_Spec 2 : Distillate Rate_m3/hr': 0.5969409695273405}. Best is trial 80 with value: 1.000327796902902.\u001b[0m\n",
            "\u001b[32m[I 2021-04-27 06:15:27,210]\u001b[0m Trial 92 finished with value: 1.0002500794428748 and parameters: {'Tatoray Stripper C620 Operation_Column Temp Profile_C620 Tray 14 (Control)_oC': 177.95121107034853, 'Tatoray Stripper C620 Operation_Column Temp Profile_C620 Tray 34 (Control)_oC': 192.75395547205548, 'Tatoray Stripper C620 Operation_Specifications_Spec 2 : Distillate Rate_m3/hr': 0.23754700850412103}. Best is trial 92 with value: 1.0002500794428748.\u001b[0m\n",
            "\u001b[32m[I 2021-04-27 06:15:27,293]\u001b[0m Trial 93 finished with value: 1.0024689080513707 and parameters: {'Tatoray Stripper C620 Operation_Column Temp Profile_C620 Tray 14 (Control)_oC': 178.0676994210766, 'Tatoray Stripper C620 Operation_Column Temp Profile_C620 Tray 34 (Control)_oC': 192.72541448542165, 'Tatoray Stripper C620 Operation_Specifications_Spec 2 : Distillate Rate_m3/hr': 0.05084949673052605}. Best is trial 92 with value: 1.0002500794428748.\u001b[0m\n",
            "\u001b[32m[I 2021-04-27 06:15:27,380]\u001b[0m Trial 94 finished with value: 1.000150379369873 and parameters: {'Tatoray Stripper C620 Operation_Column Temp Profile_C620 Tray 14 (Control)_oC': 178.08719079634582, 'Tatoray Stripper C620 Operation_Column Temp Profile_C620 Tray 34 (Control)_oC': 192.74214225253124, 'Tatoray Stripper C620 Operation_Specifications_Spec 2 : Distillate Rate_m3/hr': 0.05215850427388452}. Best is trial 94 with value: 1.000150379369873.\u001b[0m\n",
            "\u001b[32m[I 2021-04-27 06:15:27,454]\u001b[0m Trial 95 finished with value: 1.006992529784629 and parameters: {'Tatoray Stripper C620 Operation_Column Temp Profile_C620 Tray 14 (Control)_oC': 177.80348068874815, 'Tatoray Stripper C620 Operation_Column Temp Profile_C620 Tray 34 (Control)_oC': 192.81289926482765, 'Tatoray Stripper C620 Operation_Specifications_Spec 2 : Distillate Rate_m3/hr': 0.41035649971952526}. Best is trial 94 with value: 1.000150379369873.\u001b[0m\n",
            "\u001b[32m[I 2021-04-27 06:15:27,541]\u001b[0m Trial 96 finished with value: 1.0087510857067605 and parameters: {'Tatoray Stripper C620 Operation_Column Temp Profile_C620 Tray 14 (Control)_oC': 177.87760438241352, 'Tatoray Stripper C620 Operation_Column Temp Profile_C620 Tray 34 (Control)_oC': 192.69755600540975, 'Tatoray Stripper C620 Operation_Specifications_Spec 2 : Distillate Rate_m3/hr': 0.18994112589978956}. Best is trial 94 with value: 1.000150379369873.\u001b[0m\n",
            "\u001b[32m[I 2021-04-27 06:15:27,636]\u001b[0m Trial 97 finished with value: 1.0028399802306602 and parameters: {'Tatoray Stripper C620 Operation_Column Temp Profile_C620 Tray 14 (Control)_oC': 178.04980951198363, 'Tatoray Stripper C620 Operation_Column Temp Profile_C620 Tray 34 (Control)_oC': 192.76997654489662, 'Tatoray Stripper C620 Operation_Specifications_Spec 2 : Distillate Rate_m3/hr': 0.26549741003561483}. Best is trial 94 with value: 1.000150379369873.\u001b[0m\n",
            "\u001b[32m[I 2021-04-27 06:15:27,718]\u001b[0m Trial 98 finished with value: 1.0017415801615577 and parameters: {'Tatoray Stripper C620 Operation_Column Temp Profile_C620 Tray 14 (Control)_oC': 178.08592576853638, 'Tatoray Stripper C620 Operation_Column Temp Profile_C620 Tray 34 (Control)_oC': 192.73400280010225, 'Tatoray Stripper C620 Operation_Specifications_Spec 2 : Distillate Rate_m3/hr': 0.1631827504613439}. Best is trial 94 with value: 1.000150379369873.\u001b[0m\n",
            "\u001b[32m[I 2021-04-27 06:15:27,818]\u001b[0m Trial 99 finished with value: 1.0021369946270247 and parameters: {'Tatoray Stripper C620 Operation_Column Temp Profile_C620 Tray 14 (Control)_oC': 178.00969242388223, 'Tatoray Stripper C620 Operation_Column Temp Profile_C620 Tray 34 (Control)_oC': 192.73933974622747, 'Tatoray Stripper C620 Operation_Specifications_Spec 2 : Distillate Rate_m3/hr': 0.3095783824807313}. Best is trial 94 with value: 1.000150379369873.\u001b[0m\n",
            "\u001b[32m[I 2021-04-27 06:15:27,902]\u001b[0m Trial 100 finished with value: 1.0005287995105323 and parameters: {'Tatoray Stripper C620 Operation_Column Temp Profile_C620 Tray 14 (Control)_oC': 177.92506667528244, 'Tatoray Stripper C620 Operation_Column Temp Profile_C620 Tray 34 (Control)_oC': 192.7408098384646, 'Tatoray Stripper C620 Operation_Specifications_Spec 2 : Distillate Rate_m3/hr': 0.015181705953757688}. Best is trial 94 with value: 1.000150379369873.\u001b[0m\n",
            "\u001b[32m[I 2021-04-27 06:15:28,001]\u001b[0m Trial 101 finished with value: 1.0029432129702618 and parameters: {'Tatoray Stripper C620 Operation_Column Temp Profile_C620 Tray 14 (Control)_oC': 177.99364577159943, 'Tatoray Stripper C620 Operation_Column Temp Profile_C620 Tray 34 (Control)_oC': 192.7624857629434, 'Tatoray Stripper C620 Operation_Specifications_Spec 2 : Distillate Rate_m3/hr': 0.013049988729434192}. Best is trial 94 with value: 1.000150379369873.\u001b[0m\n",
            "\u001b[32m[I 2021-04-27 06:15:28,085]\u001b[0m Trial 102 finished with value: 1.003683347589611 and parameters: {'Tatoray Stripper C620 Operation_Column Temp Profile_C620 Tray 14 (Control)_oC': 177.97397061664583, 'Tatoray Stripper C620 Operation_Column Temp Profile_C620 Tray 34 (Control)_oC': 192.72475838618243, 'Tatoray Stripper C620 Operation_Specifications_Spec 2 : Distillate Rate_m3/hr': 0.1636849458735553}. Best is trial 94 with value: 1.000150379369873.\u001b[0m\n",
            "\u001b[32m[I 2021-04-27 06:15:28,171]\u001b[0m Trial 103 finished with value: 1.0019403606117487 and parameters: {'Tatoray Stripper C620 Operation_Column Temp Profile_C620 Tray 14 (Control)_oC': 177.98238491316033, 'Tatoray Stripper C620 Operation_Column Temp Profile_C620 Tray 34 (Control)_oC': 192.7380917582442, 'Tatoray Stripper C620 Operation_Specifications_Spec 2 : Distillate Rate_m3/hr': 0.22491105896692415}. Best is trial 94 with value: 1.000150379369873.\u001b[0m\n",
            "\u001b[32m[I 2021-04-27 06:15:28,257]\u001b[0m Trial 104 finished with value: 1.0016211179982808 and parameters: {'Tatoray Stripper C620 Operation_Column Temp Profile_C620 Tray 14 (Control)_oC': 178.08450592324078, 'Tatoray Stripper C620 Operation_Column Temp Profile_C620 Tray 34 (Control)_oC': 192.73800750402026, 'Tatoray Stripper C620 Operation_Specifications_Spec 2 : Distillate Rate_m3/hr': 0.24452029869041003}. Best is trial 94 with value: 1.000150379369873.\u001b[0m\n",
            "\u001b[32m[I 2021-04-27 06:15:28,341]\u001b[0m Trial 105 finished with value: 1.0001482570615265 and parameters: {'Tatoray Stripper C620 Operation_Column Temp Profile_C620 Tray 14 (Control)_oC': 178.10004671390504, 'Tatoray Stripper C620 Operation_Column Temp Profile_C620 Tray 34 (Control)_oC': 192.74717488692082, 'Tatoray Stripper C620 Operation_Specifications_Spec 2 : Distillate Rate_m3/hr': 0.2417248955066124}. Best is trial 105 with value: 1.0001482570615265.\u001b[0m\n",
            "\u001b[32m[I 2021-04-27 06:15:28,418]\u001b[0m Trial 106 finished with value: 1.0017910539808206 and parameters: {'Tatoray Stripper C620 Operation_Column Temp Profile_C620 Tray 14 (Control)_oC': 177.97274089331236, 'Tatoray Stripper C620 Operation_Column Temp Profile_C620 Tray 34 (Control)_oC': 192.76776133347178, 'Tatoray Stripper C620 Operation_Specifications_Spec 2 : Distillate Rate_m3/hr': 0.33875972507093205}. Best is trial 105 with value: 1.0001482570615265.\u001b[0m\n",
            "\u001b[32m[I 2021-04-27 06:15:28,508]\u001b[0m Trial 107 finished with value: 1.001361879526478 and parameters: {'Tatoray Stripper C620 Operation_Column Temp Profile_C620 Tray 14 (Control)_oC': 177.86084305211614, 'Tatoray Stripper C620 Operation_Column Temp Profile_C620 Tray 34 (Control)_oC': 192.76137117055873, 'Tatoray Stripper C620 Operation_Specifications_Spec 2 : Distillate Rate_m3/hr': 0.16750923497500197}. Best is trial 105 with value: 1.0001482570615265.\u001b[0m\n",
            "\u001b[32m[I 2021-04-27 06:15:28,590]\u001b[0m Trial 108 finished with value: 1.0032460654253017 and parameters: {'Tatoray Stripper C620 Operation_Column Temp Profile_C620 Tray 14 (Control)_oC': 177.93210662637048, 'Tatoray Stripper C620 Operation_Column Temp Profile_C620 Tray 34 (Control)_oC': 192.77326752926035, 'Tatoray Stripper C620 Operation_Specifications_Spec 2 : Distillate Rate_m3/hr': 0.18962352254181666}. Best is trial 105 with value: 1.0001482570615265.\u001b[0m\n",
            "\u001b[32m[I 2021-04-27 06:15:28,677]\u001b[0m Trial 109 finished with value: 1.0003524522285898 and parameters: {'Tatoray Stripper C620 Operation_Column Temp Profile_C620 Tray 14 (Control)_oC': 177.8627423184991, 'Tatoray Stripper C620 Operation_Column Temp Profile_C620 Tray 34 (Control)_oC': 192.7616459498026, 'Tatoray Stripper C620 Operation_Specifications_Spec 2 : Distillate Rate_m3/hr': 0.35163456435567486}. Best is trial 105 with value: 1.0001482570615265.\u001b[0m\n",
            "\u001b[32m[I 2021-04-27 06:15:28,762]\u001b[0m Trial 110 finished with value: 1.0026377830933235 and parameters: {'Tatoray Stripper C620 Operation_Column Temp Profile_C620 Tray 14 (Control)_oC': 177.99668142309258, 'Tatoray Stripper C620 Operation_Column Temp Profile_C620 Tray 34 (Control)_oC': 192.73351711603664, 'Tatoray Stripper C620 Operation_Specifications_Spec 2 : Distillate Rate_m3/hr': 0.23369877530427968}. Best is trial 105 with value: 1.0001482570615265.\u001b[0m\n",
            "\u001b[32m[I 2021-04-27 06:15:28,868]\u001b[0m Trial 111 finished with value: 1.0051393675040934 and parameters: {'Tatoray Stripper C620 Operation_Column Temp Profile_C620 Tray 14 (Control)_oC': 178.07470725956964, 'Tatoray Stripper C620 Operation_Column Temp Profile_C620 Tray 34 (Control)_oC': 192.78623455430386, 'Tatoray Stripper C620 Operation_Specifications_Spec 2 : Distillate Rate_m3/hr': 0.2794389925767031}. Best is trial 105 with value: 1.0001482570615265.\u001b[0m\n",
            "\u001b[32m[I 2021-04-27 06:15:28,961]\u001b[0m Trial 112 finished with value: 1.0005333252099653 and parameters: {'Tatoray Stripper C620 Operation_Column Temp Profile_C620 Tray 14 (Control)_oC': 177.9389812479232, 'Tatoray Stripper C620 Operation_Column Temp Profile_C620 Tray 34 (Control)_oC': 192.7487881577131, 'Tatoray Stripper C620 Operation_Specifications_Spec 2 : Distillate Rate_m3/hr': 0.04723826313599355}. Best is trial 105 with value: 1.0001482570615265.\u001b[0m\n",
            "\u001b[32m[I 2021-04-27 06:15:29,041]\u001b[0m Trial 113 finished with value: 1.0015756052306386 and parameters: {'Tatoray Stripper C620 Operation_Column Temp Profile_C620 Tray 14 (Control)_oC': 177.8458770292695, 'Tatoray Stripper C620 Operation_Column Temp Profile_C620 Tray 34 (Control)_oC': 192.76159560400873, 'Tatoray Stripper C620 Operation_Specifications_Spec 2 : Distillate Rate_m3/hr': 0.12459658717742601}. Best is trial 105 with value: 1.0001482570615265.\u001b[0m\n",
            "\u001b[32m[I 2021-04-27 06:15:29,130]\u001b[0m Trial 114 finished with value: 1.000120895108157 and parameters: {'Tatoray Stripper C620 Operation_Column Temp Profile_C620 Tray 14 (Control)_oC': 177.83264145680056, 'Tatoray Stripper C620 Operation_Column Temp Profile_C620 Tray 34 (Control)_oC': 192.7601153320944, 'Tatoray Stripper C620 Operation_Specifications_Spec 2 : Distillate Rate_m3/hr': 0.3299437421709937}. Best is trial 114 with value: 1.000120895108157.\u001b[0m\n",
            "\u001b[32m[I 2021-04-27 06:15:29,214]\u001b[0m Trial 115 finished with value: 1.0013295589815867 and parameters: {'Tatoray Stripper C620 Operation_Column Temp Profile_C620 Tray 14 (Control)_oC': 178.0146380827548, 'Tatoray Stripper C620 Operation_Column Temp Profile_C620 Tray 34 (Control)_oC': 192.75712651284059, 'Tatoray Stripper C620 Operation_Specifications_Spec 2 : Distillate Rate_m3/hr': 0.17807615272095262}. Best is trial 114 with value: 1.000120895108157.\u001b[0m\n",
            "\u001b[32m[I 2021-04-27 06:15:29,305]\u001b[0m Trial 116 finished with value: 1.000169499040176 and parameters: {'Tatoray Stripper C620 Operation_Column Temp Profile_C620 Tray 14 (Control)_oC': 177.73422481593846, 'Tatoray Stripper C620 Operation_Column Temp Profile_C620 Tray 34 (Control)_oC': 192.76295200387207, 'Tatoray Stripper C620 Operation_Specifications_Spec 2 : Distillate Rate_m3/hr': 0.3212255399126063}. Best is trial 114 with value: 1.000120895108157.\u001b[0m\n",
            "\u001b[32m[I 2021-04-27 06:15:29,386]\u001b[0m Trial 117 finished with value: 1.0007554270755301 and parameters: {'Tatoray Stripper C620 Operation_Column Temp Profile_C620 Tray 14 (Control)_oC': 178.0713364709183, 'Tatoray Stripper C620 Operation_Column Temp Profile_C620 Tray 34 (Control)_oC': 192.74688372674532, 'Tatoray Stripper C620 Operation_Specifications_Spec 2 : Distillate Rate_m3/hr': 0.05746107908697959}. Best is trial 114 with value: 1.000120895108157.\u001b[0m\n",
            "\u001b[32m[I 2021-04-27 06:15:29,465]\u001b[0m Trial 118 finished with value: 1.0011176319977535 and parameters: {'Tatoray Stripper C620 Operation_Column Temp Profile_C620 Tray 14 (Control)_oC': 177.88313228270135, 'Tatoray Stripper C620 Operation_Column Temp Profile_C620 Tray 34 (Control)_oC': 192.7647878322418, 'Tatoray Stripper C620 Operation_Specifications_Spec 2 : Distillate Rate_m3/hr': 0.31444229129516854}. Best is trial 114 with value: 1.000120895108157.\u001b[0m\n",
            "\u001b[32m[I 2021-04-27 06:15:29,549]\u001b[0m Trial 119 finished with value: 1.0000335547802515 and parameters: {'Tatoray Stripper C620 Operation_Column Temp Profile_C620 Tray 14 (Control)_oC': 177.7406521412346, 'Tatoray Stripper C620 Operation_Column Temp Profile_C620 Tray 34 (Control)_oC': 192.76853451061868, 'Tatoray Stripper C620 Operation_Specifications_Spec 2 : Distillate Rate_m3/hr': 0.49265910891347875}. Best is trial 119 with value: 1.0000335547802515.\u001b[0m\n",
            "\u001b[32m[I 2021-04-27 06:15:29,635]\u001b[0m Trial 120 finished with value: 1.0009976923549186 and parameters: {'Tatoray Stripper C620 Operation_Column Temp Profile_C620 Tray 14 (Control)_oC': 177.7904471561353, 'Tatoray Stripper C620 Operation_Column Temp Profile_C620 Tray 34 (Control)_oC': 192.7629282379584, 'Tatoray Stripper C620 Operation_Specifications_Spec 2 : Distillate Rate_m3/hr': 0.5615570143615165}. Best is trial 119 with value: 1.0000335547802515.\u001b[0m\n",
            "\u001b[32m[I 2021-04-27 06:15:29,721]\u001b[0m Trial 121 finished with value: 1.0022692438531287 and parameters: {'Tatoray Stripper C620 Operation_Column Temp Profile_C620 Tray 14 (Control)_oC': 177.88731613034759, 'Tatoray Stripper C620 Operation_Column Temp Profile_C620 Tray 34 (Control)_oC': 192.76708363182783, 'Tatoray Stripper C620 Operation_Specifications_Spec 2 : Distillate Rate_m3/hr': 0.17321780008355148}. Best is trial 119 with value: 1.0000335547802515.\u001b[0m\n",
            "\u001b[32m[I 2021-04-27 06:15:29,800]\u001b[0m Trial 122 finished with value: 1.000939993814793 and parameters: {'Tatoray Stripper C620 Operation_Column Temp Profile_C620 Tray 14 (Control)_oC': 177.80285676898924, 'Tatoray Stripper C620 Operation_Column Temp Profile_C620 Tray 34 (Control)_oC': 192.756763335712, 'Tatoray Stripper C620 Operation_Specifications_Spec 2 : Distillate Rate_m3/hr': 0.40283113883831945}. Best is trial 119 with value: 1.0000335547802515.\u001b[0m\n",
            "\u001b[32m[I 2021-04-27 06:15:29,893]\u001b[0m Trial 123 finished with value: 1.0014069721697327 and parameters: {'Tatoray Stripper C620 Operation_Column Temp Profile_C620 Tray 14 (Control)_oC': 177.65368355741543, 'Tatoray Stripper C620 Operation_Column Temp Profile_C620 Tray 34 (Control)_oC': 192.76690250952498, 'Tatoray Stripper C620 Operation_Specifications_Spec 2 : Distillate Rate_m3/hr': 0.6308974091214563}. Best is trial 119 with value: 1.0000335547802515.\u001b[0m\n",
            "\u001b[32m[I 2021-04-27 06:15:29,987]\u001b[0m Trial 124 finished with value: 1.0011981407769028 and parameters: {'Tatoray Stripper C620 Operation_Column Temp Profile_C620 Tray 14 (Control)_oC': 177.73460246666923, 'Tatoray Stripper C620 Operation_Column Temp Profile_C620 Tray 34 (Control)_oC': 192.7753472548873, 'Tatoray Stripper C620 Operation_Specifications_Spec 2 : Distillate Rate_m3/hr': 0.46100773237501097}. Best is trial 119 with value: 1.0000335547802515.\u001b[0m\n",
            "\u001b[32m[I 2021-04-27 06:15:30,069]\u001b[0m Trial 125 finished with value: 1.0028112840674852 and parameters: {'Tatoray Stripper C620 Operation_Column Temp Profile_C620 Tray 14 (Control)_oC': 177.71902492200118, 'Tatoray Stripper C620 Operation_Column Temp Profile_C620 Tray 34 (Control)_oC': 192.7904590979578, 'Tatoray Stripper C620 Operation_Specifications_Spec 2 : Distillate Rate_m3/hr': 0.5513246923224348}. Best is trial 119 with value: 1.0000335547802515.\u001b[0m\n",
            "\u001b[32m[I 2021-04-27 06:15:30,154]\u001b[0m Trial 126 finished with value: 1.0009570583026606 and parameters: {'Tatoray Stripper C620 Operation_Column Temp Profile_C620 Tray 14 (Control)_oC': 177.786933784587, 'Tatoray Stripper C620 Operation_Column Temp Profile_C620 Tray 34 (Control)_oC': 192.76536949907631, 'Tatoray Stripper C620 Operation_Specifications_Spec 2 : Distillate Rate_m3/hr': 0.6147646193891539}. Best is trial 119 with value: 1.0000335547802515.\u001b[0m\n",
            "\u001b[32m[I 2021-04-27 06:15:30,231]\u001b[0m Trial 127 finished with value: 1.000662388965894 and parameters: {'Tatoray Stripper C620 Operation_Column Temp Profile_C620 Tray 14 (Control)_oC': 177.76248685677618, 'Tatoray Stripper C620 Operation_Column Temp Profile_C620 Tray 34 (Control)_oC': 192.76436073032826, 'Tatoray Stripper C620 Operation_Specifications_Spec 2 : Distillate Rate_m3/hr': 0.2931725570612231}. Best is trial 119 with value: 1.0000335547802515.\u001b[0m\n",
            "\u001b[32m[I 2021-04-27 06:15:30,312]\u001b[0m Trial 128 finished with value: 1.0022812483732455 and parameters: {'Tatoray Stripper C620 Operation_Column Temp Profile_C620 Tray 14 (Control)_oC': 177.71940950701475, 'Tatoray Stripper C620 Operation_Column Temp Profile_C620 Tray 34 (Control)_oC': 192.75742473839156, 'Tatoray Stripper C620 Operation_Specifications_Spec 2 : Distillate Rate_m3/hr': 0.5824312443907894}. Best is trial 119 with value: 1.0000335547802515.\u001b[0m\n",
            "\u001b[32m[I 2021-04-27 06:15:30,403]\u001b[0m Trial 129 finished with value: 1.0002861404247887 and parameters: {'Tatoray Stripper C620 Operation_Column Temp Profile_C620 Tray 14 (Control)_oC': 177.89248729988302, 'Tatoray Stripper C620 Operation_Column Temp Profile_C620 Tray 34 (Control)_oC': 192.76348685026434, 'Tatoray Stripper C620 Operation_Specifications_Spec 2 : Distillate Rate_m3/hr': 0.4323628853826266}. Best is trial 119 with value: 1.0000335547802515.\u001b[0m\n",
            "\u001b[32m[I 2021-04-27 06:15:30,484]\u001b[0m Trial 130 finished with value: 1.003943331547536 and parameters: {'Tatoray Stripper C620 Operation_Column Temp Profile_C620 Tray 14 (Control)_oC': 178.07915965597138, 'Tatoray Stripper C620 Operation_Column Temp Profile_C620 Tray 34 (Control)_oC': 192.7329101291347, 'Tatoray Stripper C620 Operation_Specifications_Spec 2 : Distillate Rate_m3/hr': 0.49139681005399205}. Best is trial 119 with value: 1.0000335547802515.\u001b[0m\n",
            "\u001b[32m[I 2021-04-27 06:15:30,565]\u001b[0m Trial 131 finished with value: 1.0010623584314349 and parameters: {'Tatoray Stripper C620 Operation_Column Temp Profile_C620 Tray 14 (Control)_oC': 177.9911067383995, 'Tatoray Stripper C620 Operation_Column Temp Profile_C620 Tray 34 (Control)_oC': 192.74431646208149, 'Tatoray Stripper C620 Operation_Specifications_Spec 2 : Distillate Rate_m3/hr': 0.24368165712631898}. Best is trial 119 with value: 1.0000335547802515.\u001b[0m\n",
            "\u001b[32m[I 2021-04-27 06:15:30,643]\u001b[0m Trial 132 finished with value: 1.0014280608446153 and parameters: {'Tatoray Stripper C620 Operation_Column Temp Profile_C620 Tray 14 (Control)_oC': 177.9106456513685, 'Tatoray Stripper C620 Operation_Column Temp Profile_C620 Tray 34 (Control)_oC': 192.75055770819623, 'Tatoray Stripper C620 Operation_Specifications_Spec 2 : Distillate Rate_m3/hr': 0.405741072934788}. Best is trial 119 with value: 1.0000335547802515.\u001b[0m\n",
            "\u001b[32m[I 2021-04-27 06:15:30,721]\u001b[0m Trial 133 finished with value: 1.0033717625273237 and parameters: {'Tatoray Stripper C620 Operation_Column Temp Profile_C620 Tray 14 (Control)_oC': 177.4992458017743, 'Tatoray Stripper C620 Operation_Column Temp Profile_C620 Tray 34 (Control)_oC': 192.76385690919264, 'Tatoray Stripper C620 Operation_Specifications_Spec 2 : Distillate Rate_m3/hr': 0.763348391489753}. Best is trial 119 with value: 1.0000335547802515.\u001b[0m\n",
            "\u001b[32m[I 2021-04-27 06:15:30,801]\u001b[0m Trial 134 finished with value: 1.0032241737414616 and parameters: {'Tatoray Stripper C620 Operation_Column Temp Profile_C620 Tray 14 (Control)_oC': 177.64223184744233, 'Tatoray Stripper C620 Operation_Column Temp Profile_C620 Tray 34 (Control)_oC': 192.78998398766726, 'Tatoray Stripper C620 Operation_Specifications_Spec 2 : Distillate Rate_m3/hr': 0.40693957548304144}. Best is trial 119 with value: 1.0000335547802515.\u001b[0m\n",
            "\u001b[32m[I 2021-04-27 06:15:30,887]\u001b[0m Trial 135 finished with value: 1.003844666682307 and parameters: {'Tatoray Stripper C620 Operation_Column Temp Profile_C620 Tray 14 (Control)_oC': 177.83178337902874, 'Tatoray Stripper C620 Operation_Column Temp Profile_C620 Tray 34 (Control)_oC': 192.78721226274854, 'Tatoray Stripper C620 Operation_Specifications_Spec 2 : Distillate Rate_m3/hr': 0.36420645116296396}. Best is trial 119 with value: 1.0000335547802515.\u001b[0m\n",
            "\u001b[32m[I 2021-04-27 06:15:30,972]\u001b[0m Trial 136 finished with value: 1.003051258747924 and parameters: {'Tatoray Stripper C620 Operation_Column Temp Profile_C620 Tray 14 (Control)_oC': 177.85366551300274, 'Tatoray Stripper C620 Operation_Column Temp Profile_C620 Tray 34 (Control)_oC': 192.77992953415674, 'Tatoray Stripper C620 Operation_Specifications_Spec 2 : Distillate Rate_m3/hr': 0.33771053674653106}. Best is trial 119 with value: 1.0000335547802515.\u001b[0m\n",
            "\u001b[32m[I 2021-04-27 06:15:31,056]\u001b[0m Trial 137 finished with value: 1.0012934585708553 and parameters: {'Tatoray Stripper C620 Operation_Column Temp Profile_C620 Tray 14 (Control)_oC': 177.9580627419924, 'Tatoray Stripper C620 Operation_Column Temp Profile_C620 Tray 34 (Control)_oC': 192.76253771706897, 'Tatoray Stripper C620 Operation_Specifications_Spec 2 : Distillate Rate_m3/hr': 0.2814149483806575}. Best is trial 119 with value: 1.0000335547802515.\u001b[0m\n",
            "\u001b[32m[I 2021-04-27 06:15:31,134]\u001b[0m Trial 138 finished with value: 1.0019711414589756 and parameters: {'Tatoray Stripper C620 Operation_Column Temp Profile_C620 Tray 14 (Control)_oC': 177.81967488786802, 'Tatoray Stripper C620 Operation_Column Temp Profile_C620 Tray 34 (Control)_oC': 192.77370046134791, 'Tatoray Stripper C620 Operation_Specifications_Spec 2 : Distillate Rate_m3/hr': 0.34578891178597126}. Best is trial 119 with value: 1.0000335547802515.\u001b[0m\n",
            "\u001b[32m[I 2021-04-27 06:15:31,220]\u001b[0m Trial 139 finished with value: 1.0003264204642497 and parameters: {'Tatoray Stripper C620 Operation_Column Temp Profile_C620 Tray 14 (Control)_oC': 177.82959650030512, 'Tatoray Stripper C620 Operation_Column Temp Profile_C620 Tray 34 (Control)_oC': 192.76349862683324, 'Tatoray Stripper C620 Operation_Specifications_Spec 2 : Distillate Rate_m3/hr': 0.3790713397113977}. Best is trial 119 with value: 1.0000335547802515.\u001b[0m\n",
            "\u001b[32m[I 2021-04-27 06:15:31,322]\u001b[0m Trial 140 finished with value: 1.0016350727186816 and parameters: {'Tatoray Stripper C620 Operation_Column Temp Profile_C620 Tray 14 (Control)_oC': 177.79934895403966, 'Tatoray Stripper C620 Operation_Column Temp Profile_C620 Tray 34 (Control)_oC': 192.78036722040767, 'Tatoray Stripper C620 Operation_Specifications_Spec 2 : Distillate Rate_m3/hr': 0.5614567154082268}. Best is trial 119 with value: 1.0000335547802515.\u001b[0m\n",
            "\u001b[32m[I 2021-04-27 06:15:31,408]\u001b[0m Trial 141 finished with value: 1.001395788891129 and parameters: {'Tatoray Stripper C620 Operation_Column Temp Profile_C620 Tray 14 (Control)_oC': 177.9417388425858, 'Tatoray Stripper C620 Operation_Column Temp Profile_C620 Tray 34 (Control)_oC': 192.76481772735823, 'Tatoray Stripper C620 Operation_Specifications_Spec 2 : Distillate Rate_m3/hr': 0.3098907682110268}. Best is trial 119 with value: 1.0000335547802515.\u001b[0m\n",
            "\u001b[32m[I 2021-04-27 06:15:31,497]\u001b[0m Trial 142 finished with value: 1.003397153773002 and parameters: {'Tatoray Stripper C620 Operation_Column Temp Profile_C620 Tray 14 (Control)_oC': 177.83584788339815, 'Tatoray Stripper C620 Operation_Column Temp Profile_C620 Tray 34 (Control)_oC': 192.7800453142351, 'Tatoray Stripper C620 Operation_Specifications_Spec 2 : Distillate Rate_m3/hr': 0.2647315292022018}. Best is trial 119 with value: 1.0000335547802515.\u001b[0m\n",
            "\u001b[32m[I 2021-04-27 06:15:31,579]\u001b[0m Trial 143 finished with value: 1.0003541259121858 and parameters: {'Tatoray Stripper C620 Operation_Column Temp Profile_C620 Tray 14 (Control)_oC': 177.8453278945232, 'Tatoray Stripper C620 Operation_Column Temp Profile_C620 Tray 34 (Control)_oC': 192.7657354244071, 'Tatoray Stripper C620 Operation_Specifications_Spec 2 : Distillate Rate_m3/hr': 0.44337294959972756}. Best is trial 119 with value: 1.0000335547802515.\u001b[0m\n",
            "\u001b[32m[I 2021-04-27 06:15:31,672]\u001b[0m Trial 144 finished with value: 1.0006232650975664 and parameters: {'Tatoray Stripper C620 Operation_Column Temp Profile_C620 Tray 14 (Control)_oC': 177.82279660757357, 'Tatoray Stripper C620 Operation_Column Temp Profile_C620 Tray 34 (Control)_oC': 192.75906204940242, 'Tatoray Stripper C620 Operation_Specifications_Spec 2 : Distillate Rate_m3/hr': 0.42287458261034927}. Best is trial 119 with value: 1.0000335547802515.\u001b[0m\n",
            "\u001b[32m[I 2021-04-27 06:15:31,749]\u001b[0m Trial 145 finished with value: 1.000504834869625 and parameters: {'Tatoray Stripper C620 Operation_Column Temp Profile_C620 Tray 14 (Control)_oC': 177.77658057679977, 'Tatoray Stripper C620 Operation_Column Temp Profile_C620 Tray 34 (Control)_oC': 192.7610099484703, 'Tatoray Stripper C620 Operation_Specifications_Spec 2 : Distillate Rate_m3/hr': 0.41838966327150534}. Best is trial 119 with value: 1.0000335547802515.\u001b[0m\n",
            "\u001b[32m[I 2021-04-27 06:15:31,829]\u001b[0m Trial 146 finished with value: 1.0004626010548257 and parameters: {'Tatoray Stripper C620 Operation_Column Temp Profile_C620 Tray 14 (Control)_oC': 177.7542592721496, 'Tatoray Stripper C620 Operation_Column Temp Profile_C620 Tray 34 (Control)_oC': 192.7767506480924, 'Tatoray Stripper C620 Operation_Specifications_Spec 2 : Distillate Rate_m3/hr': 0.6398745101087161}. Best is trial 119 with value: 1.0000335547802515.\u001b[0m\n",
            "\u001b[32m[I 2021-04-27 06:15:31,933]\u001b[0m Trial 147 finished with value: 1.0003975477559006 and parameters: {'Tatoray Stripper C620 Operation_Column Temp Profile_C620 Tray 14 (Control)_oC': 177.88453246853777, 'Tatoray Stripper C620 Operation_Column Temp Profile_C620 Tray 34 (Control)_oC': 192.75773910999627, 'Tatoray Stripper C620 Operation_Specifications_Spec 2 : Distillate Rate_m3/hr': 0.3962619559146847}. Best is trial 119 with value: 1.0000335547802515.\u001b[0m\n",
            "\u001b[32m[I 2021-04-27 06:15:32,020]\u001b[0m Trial 148 finished with value: 1.0002227189476238 and parameters: {'Tatoray Stripper C620 Operation_Column Temp Profile_C620 Tray 14 (Control)_oC': 177.7946216572302, 'Tatoray Stripper C620 Operation_Column Temp Profile_C620 Tray 34 (Control)_oC': 192.76656782188718, 'Tatoray Stripper C620 Operation_Specifications_Spec 2 : Distillate Rate_m3/hr': 0.5262723632305789}. Best is trial 119 with value: 1.0000335547802515.\u001b[0m\n",
            "\u001b[32m[I 2021-04-27 06:15:32,099]\u001b[0m Trial 149 finished with value: 1.0012532372175391 and parameters: {'Tatoray Stripper C620 Operation_Column Temp Profile_C620 Tray 14 (Control)_oC': 177.82407795281483, 'Tatoray Stripper C620 Operation_Column Temp Profile_C620 Tray 34 (Control)_oC': 192.7740287325447, 'Tatoray Stripper C620 Operation_Specifications_Spec 2 : Distillate Rate_m3/hr': 0.4841078351222281}. Best is trial 119 with value: 1.0000335547802515.\u001b[0m\n",
            "\u001b[32m[I 2021-04-27 06:15:32,186]\u001b[0m Trial 150 finished with value: 1.001452331273478 and parameters: {'Tatoray Stripper C620 Operation_Column Temp Profile_C620 Tray 14 (Control)_oC': 177.8220862292633, 'Tatoray Stripper C620 Operation_Column Temp Profile_C620 Tray 34 (Control)_oC': 192.77682461798474, 'Tatoray Stripper C620 Operation_Specifications_Spec 2 : Distillate Rate_m3/hr': 0.5195160258664044}. Best is trial 119 with value: 1.0000335547802515.\u001b[0m\n",
            "\u001b[32m[I 2021-04-27 06:15:32,291]\u001b[0m Trial 151 finished with value: 1.0014301811146373 and parameters: {'Tatoray Stripper C620 Operation_Column Temp Profile_C620 Tray 14 (Control)_oC': 177.86866907812401, 'Tatoray Stripper C620 Operation_Column Temp Profile_C620 Tray 34 (Control)_oC': 192.75117597168287, 'Tatoray Stripper C620 Operation_Specifications_Spec 2 : Distillate Rate_m3/hr': 0.39091345530475596}. Best is trial 119 with value: 1.0000335547802515.\u001b[0m\n",
            "\u001b[32m[I 2021-04-27 06:15:32,386]\u001b[0m Trial 152 finished with value: 1.0000087054366291 and parameters: {'Tatoray Stripper C620 Operation_Column Temp Profile_C620 Tray 14 (Control)_oC': 177.95660287917266, 'Tatoray Stripper C620 Operation_Column Temp Profile_C620 Tray 34 (Control)_oC': 192.7501124378337, 'Tatoray Stripper C620 Operation_Specifications_Spec 2 : Distillate Rate_m3/hr': 0.1845532677645269}. Best is trial 152 with value: 1.0000087054366291.\u001b[0m\n",
            "\u001b[32m[I 2021-04-27 06:15:32,469]\u001b[0m Trial 153 finished with value: 1.0007711225596094 and parameters: {'Tatoray Stripper C620 Operation_Column Temp Profile_C620 Tray 14 (Control)_oC': 177.83255199333297, 'Tatoray Stripper C620 Operation_Column Temp Profile_C620 Tray 34 (Control)_oC': 192.76277711619736, 'Tatoray Stripper C620 Operation_Specifications_Spec 2 : Distillate Rate_m3/hr': 0.5505610226145736}. Best is trial 152 with value: 1.0000087054366291.\u001b[0m\n",
            "\u001b[32m[I 2021-04-27 06:15:32,562]\u001b[0m Trial 154 finished with value: 1.000177210916707 and parameters: {'Tatoray Stripper C620 Operation_Column Temp Profile_C620 Tray 14 (Control)_oC': 177.7325373133397, 'Tatoray Stripper C620 Operation_Column Temp Profile_C620 Tray 34 (Control)_oC': 192.76857160039938, 'Tatoray Stripper C620 Operation_Specifications_Spec 2 : Distillate Rate_m3/hr': 0.4628373334695727}. Best is trial 152 with value: 1.0000087054366291.\u001b[0m\n",
            "\u001b[32m[I 2021-04-27 06:15:32,658]\u001b[0m Trial 155 finished with value: 1.0003986386515247 and parameters: {'Tatoray Stripper C620 Operation_Column Temp Profile_C620 Tray 14 (Control)_oC': 177.93232876458688, 'Tatoray Stripper C620 Operation_Column Temp Profile_C620 Tray 34 (Control)_oC': 192.75507800730938, 'Tatoray Stripper C620 Operation_Specifications_Spec 2 : Distillate Rate_m3/hr': 0.3635663664179342}. Best is trial 152 with value: 1.0000087054366291.\u001b[0m\n",
            "\u001b[32m[I 2021-04-27 06:15:32,740]\u001b[0m Trial 156 finished with value: 1.0008213187623978 and parameters: {'Tatoray Stripper C620 Operation_Column Temp Profile_C620 Tray 14 (Control)_oC': 177.88758118508156, 'Tatoray Stripper C620 Operation_Column Temp Profile_C620 Tray 34 (Control)_oC': 192.76082031495926, 'Tatoray Stripper C620 Operation_Specifications_Spec 2 : Distillate Rate_m3/hr': 0.267623022292794}. Best is trial 152 with value: 1.0000087054366291.\u001b[0m\n",
            "\u001b[32m[I 2021-04-27 06:15:32,833]\u001b[0m Trial 157 finished with value: 1.0000597985547348 and parameters: {'Tatoray Stripper C620 Operation_Column Temp Profile_C620 Tray 14 (Control)_oC': 177.94906951223456, 'Tatoray Stripper C620 Operation_Column Temp Profile_C620 Tray 34 (Control)_oC': 192.7534388510486, 'Tatoray Stripper C620 Operation_Specifications_Spec 2 : Distillate Rate_m3/hr': 0.2554476953562003}. Best is trial 152 with value: 1.0000087054366291.\u001b[0m\n",
            "\u001b[32m[I 2021-04-27 06:15:32,934]\u001b[0m Trial 158 finished with value: 1.0005725712052245 and parameters: {'Tatoray Stripper C620 Operation_Column Temp Profile_C620 Tray 14 (Control)_oC': 177.84034439303235, 'Tatoray Stripper C620 Operation_Column Temp Profile_C620 Tray 34 (Control)_oC': 192.75271202778194, 'Tatoray Stripper C620 Operation_Specifications_Spec 2 : Distillate Rate_m3/hr': 0.26447411428578227}. Best is trial 152 with value: 1.0000087054366291.\u001b[0m\n",
            "\u001b[32m[I 2021-04-27 06:15:33,011]\u001b[0m Trial 159 finished with value: 1.0017801632635719 and parameters: {'Tatoray Stripper C620 Operation_Column Temp Profile_C620 Tray 14 (Control)_oC': 177.76640391647837, 'Tatoray Stripper C620 Operation_Column Temp Profile_C620 Tray 34 (Control)_oC': 192.7730030384002, 'Tatoray Stripper C620 Operation_Specifications_Spec 2 : Distillate Rate_m3/hr': 0.3220503752097631}. Best is trial 152 with value: 1.0000087054366291.\u001b[0m\n",
            "\u001b[32m[I 2021-04-27 06:15:33,092]\u001b[0m Trial 160 finished with value: 1.0004647421155695 and parameters: {'Tatoray Stripper C620 Operation_Column Temp Profile_C620 Tray 14 (Control)_oC': 177.83568255902674, 'Tatoray Stripper C620 Operation_Column Temp Profile_C620 Tray 34 (Control)_oC': 192.759579783571, 'Tatoray Stripper C620 Operation_Specifications_Spec 2 : Distillate Rate_m3/hr': 0.4187350935211974}. Best is trial 152 with value: 1.0000087054366291.\u001b[0m\n",
            "\u001b[32m[I 2021-04-27 06:15:33,186]\u001b[0m Trial 161 finished with value: 1.0010533190466564 and parameters: {'Tatoray Stripper C620 Operation_Column Temp Profile_C620 Tray 14 (Control)_oC': 177.9051898108387, 'Tatoray Stripper C620 Operation_Column Temp Profile_C620 Tray 34 (Control)_oC': 192.75128784290806, 'Tatoray Stripper C620 Operation_Specifications_Spec 2 : Distillate Rate_m3/hr': 0.3573772218620938}. Best is trial 152 with value: 1.0000087054366291.\u001b[0m\n",
            "\u001b[32m[I 2021-04-27 06:15:33,272]\u001b[0m Trial 162 finished with value: 1.0000361070799213 and parameters: {'Tatoray Stripper C620 Operation_Column Temp Profile_C620 Tray 14 (Control)_oC': 177.9901326900779, 'Tatoray Stripper C620 Operation_Column Temp Profile_C620 Tray 34 (Control)_oC': 192.74958151251576, 'Tatoray Stripper C620 Operation_Specifications_Spec 2 : Distillate Rate_m3/hr': 0.20337806276624593}. Best is trial 152 with value: 1.0000087054366291.\u001b[0m\n",
            "\u001b[32m[I 2021-04-27 06:15:33,354]\u001b[0m Trial 163 finished with value: 1.0004884191612995 and parameters: {'Tatoray Stripper C620 Operation_Column Temp Profile_C620 Tray 14 (Control)_oC': 177.91175216666568, 'Tatoray Stripper C620 Operation_Column Temp Profile_C620 Tray 34 (Control)_oC': 192.7498247547418, 'Tatoray Stripper C620 Operation_Specifications_Spec 2 : Distillate Rate_m3/hr': 0.22902212696837027}. Best is trial 152 with value: 1.0000087054366291.\u001b[0m\n",
            "\u001b[32m[I 2021-04-27 06:15:33,435]\u001b[0m Trial 164 finished with value: 1.0001886788766305 and parameters: {'Tatoray Stripper C620 Operation_Column Temp Profile_C620 Tray 14 (Control)_oC': 177.9239912867928, 'Tatoray Stripper C620 Operation_Column Temp Profile_C620 Tray 34 (Control)_oC': 192.7591620992319, 'Tatoray Stripper C620 Operation_Specifications_Spec 2 : Distillate Rate_m3/hr': 0.36151583794324255}. Best is trial 152 with value: 1.0000087054366291.\u001b[0m\n",
            "\u001b[32m[I 2021-04-27 06:15:33,524]\u001b[0m Trial 165 finished with value: 1.000743197827195 and parameters: {'Tatoray Stripper C620 Operation_Column Temp Profile_C620 Tray 14 (Control)_oC': 177.9464477431268, 'Tatoray Stripper C620 Operation_Column Temp Profile_C620 Tray 34 (Control)_oC': 192.76206098548502, 'Tatoray Stripper C620 Operation_Specifications_Spec 2 : Distillate Rate_m3/hr': 0.3566042786577033}. Best is trial 152 with value: 1.0000087054366291.\u001b[0m\n",
            "\u001b[32m[I 2021-04-27 06:15:33,610]\u001b[0m Trial 166 finished with value: 1.0012929386748077 and parameters: {'Tatoray Stripper C620 Operation_Column Temp Profile_C620 Tray 14 (Control)_oC': 178.01326992755338, 'Tatoray Stripper C620 Operation_Column Temp Profile_C620 Tray 34 (Control)_oC': 192.74295012619854, 'Tatoray Stripper C620 Operation_Specifications_Spec 2 : Distillate Rate_m3/hr': 0.26379563077695}. Best is trial 152 with value: 1.0000087054366291.\u001b[0m\n",
            "\u001b[32m[I 2021-04-27 06:15:33,691]\u001b[0m Trial 167 finished with value: 1.000492764799169 and parameters: {'Tatoray Stripper C620 Operation_Column Temp Profile_C620 Tray 14 (Control)_oC': 177.81603729136327, 'Tatoray Stripper C620 Operation_Column Temp Profile_C620 Tray 34 (Control)_oC': 192.76489007341033, 'Tatoray Stripper C620 Operation_Specifications_Spec 2 : Distillate Rate_m3/hr': 0.37595436864735926}. Best is trial 152 with value: 1.0000087054366291.\u001b[0m\n",
            "\u001b[32m[I 2021-04-27 06:15:33,773]\u001b[0m Trial 168 finished with value: 1.0000208572294342 and parameters: {'Tatoray Stripper C620 Operation_Column Temp Profile_C620 Tray 14 (Control)_oC': 177.99039205067766, 'Tatoray Stripper C620 Operation_Column Temp Profile_C620 Tray 34 (Control)_oC': 192.7504476806227, 'Tatoray Stripper C620 Operation_Specifications_Spec 2 : Distillate Rate_m3/hr': 0.21595583974493676}. Best is trial 152 with value: 1.0000087054366291.\u001b[0m\n",
            "\u001b[32m[I 2021-04-27 06:15:33,862]\u001b[0m Trial 169 finished with value: 1.0000762782053423 and parameters: {'Tatoray Stripper C620 Operation_Column Temp Profile_C620 Tray 14 (Control)_oC': 177.79933252828434, 'Tatoray Stripper C620 Operation_Column Temp Profile_C620 Tray 34 (Control)_oC': 192.7668009402398, 'Tatoray Stripper C620 Operation_Specifications_Spec 2 : Distillate Rate_m3/hr': 0.5106597898554752}. Best is trial 152 with value: 1.0000087054366291.\u001b[0m\n",
            "\u001b[32m[I 2021-04-27 06:15:33,952]\u001b[0m Trial 170 finished with value: 1.0004304576458107 and parameters: {'Tatoray Stripper C620 Operation_Column Temp Profile_C620 Tray 14 (Control)_oC': 177.93004258987085, 'Tatoray Stripper C620 Operation_Column Temp Profile_C620 Tray 34 (Control)_oC': 192.75762608900143, 'Tatoray Stripper C620 Operation_Specifications_Spec 2 : Distillate Rate_m3/hr': 0.28489380843422113}. Best is trial 152 with value: 1.0000087054366291.\u001b[0m\n",
            "\u001b[32m[I 2021-04-27 06:15:34,042]\u001b[0m Trial 171 finished with value: 1.0001863323993432 and parameters: {'Tatoray Stripper C620 Operation_Column Temp Profile_C620 Tray 14 (Control)_oC': 178.07264366361187, 'Tatoray Stripper C620 Operation_Column Temp Profile_C620 Tray 34 (Control)_oC': 192.7424045001153, 'Tatoray Stripper C620 Operation_Specifications_Spec 2 : Distillate Rate_m3/hr': 0.10598614803962365}. Best is trial 152 with value: 1.0000087054366291.\u001b[0m\n",
            "\u001b[32m[I 2021-04-27 06:15:34,128]\u001b[0m Trial 172 finished with value: 1.0001236410279442 and parameters: {'Tatoray Stripper C620 Operation_Column Temp Profile_C620 Tray 14 (Control)_oC': 178.02694631645687, 'Tatoray Stripper C620 Operation_Column Temp Profile_C620 Tray 34 (Control)_oC': 192.74781908545265, 'Tatoray Stripper C620 Operation_Specifications_Spec 2 : Distillate Rate_m3/hr': 0.15789075933351482}. Best is trial 152 with value: 1.0000087054366291.\u001b[0m\n",
            "\u001b[32m[I 2021-04-27 06:15:34,212]\u001b[0m Trial 173 finished with value: 1.0004557552385023 and parameters: {'Tatoray Stripper C620 Operation_Column Temp Profile_C620 Tray 14 (Control)_oC': 177.8553167144134, 'Tatoray Stripper C620 Operation_Column Temp Profile_C620 Tray 34 (Control)_oC': 192.7677128468902, 'Tatoray Stripper C620 Operation_Specifications_Spec 2 : Distillate Rate_m3/hr': 0.48398872236356183}. Best is trial 152 with value: 1.0000087054366291.\u001b[0m\n",
            "\u001b[32m[I 2021-04-27 06:15:34,297]\u001b[0m Trial 174 finished with value: 1.0000404033398427 and parameters: {'Tatoray Stripper C620 Operation_Column Temp Profile_C620 Tray 14 (Control)_oC': 177.96026144478344, 'Tatoray Stripper C620 Operation_Column Temp Profile_C620 Tray 34 (Control)_oC': 192.75067812062662, 'Tatoray Stripper C620 Operation_Specifications_Spec 2 : Distillate Rate_m3/hr': 0.2101906745457939}. Best is trial 152 with value: 1.0000087054366291.\u001b[0m\n",
            "\u001b[32m[I 2021-04-27 06:15:34,378]\u001b[0m Trial 175 finished with value: 1.00088639358864 and parameters: {'Tatoray Stripper C620 Operation_Column Temp Profile_C620 Tray 14 (Control)_oC': 177.8590942018158, 'Tatoray Stripper C620 Operation_Column Temp Profile_C620 Tray 34 (Control)_oC': 192.76280603497895, 'Tatoray Stripper C620 Operation_Specifications_Spec 2 : Distillate Rate_m3/hr': 0.2861062827637583}. Best is trial 152 with value: 1.0000087054366291.\u001b[0m\n",
            "\u001b[32m[I 2021-04-27 06:15:34,464]\u001b[0m Trial 176 finished with value: 1.000187193292312 and parameters: {'Tatoray Stripper C620 Operation_Column Temp Profile_C620 Tray 14 (Control)_oC': 177.92222417889516, 'Tatoray Stripper C620 Operation_Column Temp Profile_C620 Tray 34 (Control)_oC': 192.75286247083395, 'Tatoray Stripper C620 Operation_Specifications_Spec 2 : Distillate Rate_m3/hr': 0.26319296940668957}. Best is trial 152 with value: 1.0000087054366291.\u001b[0m\n",
            "\u001b[32m[I 2021-04-27 06:15:34,546]\u001b[0m Trial 177 finished with value: 1.0001127864830928 and parameters: {'Tatoray Stripper C620 Operation_Column Temp Profile_C620 Tray 14 (Control)_oC': 177.8632339450614, 'Tatoray Stripper C620 Operation_Column Temp Profile_C620 Tray 34 (Control)_oC': 192.75650045361985, 'Tatoray Stripper C620 Operation_Specifications_Spec 2 : Distillate Rate_m3/hr': 0.3000597982925022}. Best is trial 152 with value: 1.0000087054366291.\u001b[0m\n",
            "\u001b[32m[I 2021-04-27 06:15:34,637]\u001b[0m Trial 178 finished with value: 1.0002839052043413 and parameters: {'Tatoray Stripper C620 Operation_Column Temp Profile_C620 Tray 14 (Control)_oC': 177.92838990603465, 'Tatoray Stripper C620 Operation_Column Temp Profile_C620 Tray 34 (Control)_oC': 192.7549221809077, 'Tatoray Stripper C620 Operation_Specifications_Spec 2 : Distillate Rate_m3/hr': 0.23964949926170814}. Best is trial 152 with value: 1.0000087054366291.\u001b[0m\n",
            "\u001b[32m[I 2021-04-27 06:15:34,730]\u001b[0m Trial 179 finished with value: 1.0011230905208972 and parameters: {'Tatoray Stripper C620 Operation_Column Temp Profile_C620 Tray 14 (Control)_oC': 178.00426735213966, 'Tatoray Stripper C620 Operation_Column Temp Profile_C620 Tray 34 (Control)_oC': 192.75436319881348, 'Tatoray Stripper C620 Operation_Specifications_Spec 2 : Distillate Rate_m3/hr': 0.13573746736212416}. Best is trial 152 with value: 1.0000087054366291.\u001b[0m\n",
            "\u001b[32m[I 2021-04-27 06:15:34,819]\u001b[0m Trial 180 finished with value: 1.0002053135412274 and parameters: {'Tatoray Stripper C620 Operation_Column Temp Profile_C620 Tray 14 (Control)_oC': 177.87096130183275, 'Tatoray Stripper C620 Operation_Column Temp Profile_C620 Tray 34 (Control)_oC': 192.7571449765842, 'Tatoray Stripper C620 Operation_Specifications_Spec 2 : Distillate Rate_m3/hr': 0.26765588073744156}. Best is trial 152 with value: 1.0000087054366291.\u001b[0m\n",
            "\u001b[32m[I 2021-04-27 06:15:34,904]\u001b[0m Trial 181 finished with value: 1.0002732370200753 and parameters: {'Tatoray Stripper C620 Operation_Column Temp Profile_C620 Tray 14 (Control)_oC': 177.87095271153305, 'Tatoray Stripper C620 Operation_Column Temp Profile_C620 Tray 34 (Control)_oC': 192.75895394775185, 'Tatoray Stripper C620 Operation_Specifications_Spec 2 : Distillate Rate_m3/hr': 0.3023307158262477}. Best is trial 152 with value: 1.0000087054366291.\u001b[0m\n",
            "\u001b[32m[I 2021-04-27 06:15:34,995]\u001b[0m Trial 182 finished with value: 1.0003229937346423 and parameters: {'Tatoray Stripper C620 Operation_Column Temp Profile_C620 Tray 14 (Control)_oC': 178.0452683704891, 'Tatoray Stripper C620 Operation_Column Temp Profile_C620 Tray 34 (Control)_oC': 192.7490199275264, 'Tatoray Stripper C620 Operation_Specifications_Spec 2 : Distillate Rate_m3/hr': 0.16782101972660987}. Best is trial 152 with value: 1.0000087054366291.\u001b[0m\n",
            "\u001b[32m[I 2021-04-27 06:15:35,080]\u001b[0m Trial 183 finished with value: 1.0009912123711997 and parameters: {'Tatoray Stripper C620 Operation_Column Temp Profile_C620 Tray 14 (Control)_oC': 177.95386620520097, 'Tatoray Stripper C620 Operation_Column Temp Profile_C620 Tray 34 (Control)_oC': 192.74850808337987, 'Tatoray Stripper C620 Operation_Specifications_Spec 2 : Distillate Rate_m3/hr': 0.31160167232034536}. Best is trial 152 with value: 1.0000087054366291.\u001b[0m\n",
            "\u001b[32m[I 2021-04-27 06:15:35,169]\u001b[0m Trial 184 finished with value: 1.0001749254652545 and parameters: {'Tatoray Stripper C620 Operation_Column Temp Profile_C620 Tray 14 (Control)_oC': 177.89456516193445, 'Tatoray Stripper C620 Operation_Column Temp Profile_C620 Tray 34 (Control)_oC': 192.75870710456437, 'Tatoray Stripper C620 Operation_Specifications_Spec 2 : Distillate Rate_m3/hr': 0.3304326368608161}. Best is trial 152 with value: 1.0000087054366291.\u001b[0m\n",
            "\u001b[32m[I 2021-04-27 06:15:35,272]\u001b[0m Trial 185 finished with value: 1.000487626485872 and parameters: {'Tatoray Stripper C620 Operation_Column Temp Profile_C620 Tray 14 (Control)_oC': 177.96197924926201, 'Tatoray Stripper C620 Operation_Column Temp Profile_C620 Tray 34 (Control)_oC': 192.7473014885932, 'Tatoray Stripper C620 Operation_Specifications_Spec 2 : Distillate Rate_m3/hr': 0.20133050667894697}. Best is trial 152 with value: 1.0000087054366291.\u001b[0m\n",
            "\u001b[32m[I 2021-04-27 06:15:35,357]\u001b[0m Trial 186 finished with value: 1.0001842768633586 and parameters: {'Tatoray Stripper C620 Operation_Column Temp Profile_C620 Tray 14 (Control)_oC': 177.9718545567724, 'Tatoray Stripper C620 Operation_Column Temp Profile_C620 Tray 34 (Control)_oC': 192.75066569740324, 'Tatoray Stripper C620 Operation_Specifications_Spec 2 : Distillate Rate_m3/hr': 0.1798153775847348}. Best is trial 152 with value: 1.0000087054366291.\u001b[0m\n",
            "\u001b[32m[I 2021-04-27 06:15:35,434]\u001b[0m Trial 187 finished with value: 1.0003223271462236 and parameters: {'Tatoray Stripper C620 Operation_Column Temp Profile_C620 Tray 14 (Control)_oC': 177.8365701789786, 'Tatoray Stripper C620 Operation_Column Temp Profile_C620 Tray 34 (Control)_oC': 192.76485821422364, 'Tatoray Stripper C620 Operation_Specifications_Spec 2 : Distillate Rate_m3/hr': 0.4198382603739901}. Best is trial 152 with value: 1.0000087054366291.\u001b[0m\n",
            "\u001b[32m[I 2021-04-27 06:15:35,528]\u001b[0m Trial 188 finished with value: 1.0003733664077317 and parameters: {'Tatoray Stripper C620 Operation_Column Temp Profile_C620 Tray 14 (Control)_oC': 177.86633525416693, 'Tatoray Stripper C620 Operation_Column Temp Profile_C620 Tray 34 (Control)_oC': 192.75924534635394, 'Tatoray Stripper C620 Operation_Specifications_Spec 2 : Distillate Rate_m3/hr': 0.2891129687451285}. Best is trial 152 with value: 1.0000087054366291.\u001b[0m\n",
            "\u001b[32m[I 2021-04-27 06:15:35,610]\u001b[0m Trial 189 finished with value: 1.0002546511520967 and parameters: {'Tatoray Stripper C620 Operation_Column Temp Profile_C620 Tray 14 (Control)_oC': 178.04306709566094, 'Tatoray Stripper C620 Operation_Column Temp Profile_C620 Tray 34 (Control)_oC': 192.74482982941774, 'Tatoray Stripper C620 Operation_Specifications_Spec 2 : Distillate Rate_m3/hr': 0.07066217537081482}. Best is trial 152 with value: 1.0000087054366291.\u001b[0m\n",
            "\u001b[32m[I 2021-04-27 06:15:35,690]\u001b[0m Trial 190 finished with value: 1.0001756930120047 and parameters: {'Tatoray Stripper C620 Operation_Column Temp Profile_C620 Tray 14 (Control)_oC': 177.9617162332882, 'Tatoray Stripper C620 Operation_Column Temp Profile_C620 Tray 34 (Control)_oC': 192.75195315949415, 'Tatoray Stripper C620 Operation_Specifications_Spec 2 : Distillate Rate_m3/hr': 0.2068022706671237}. Best is trial 152 with value: 1.0000087054366291.\u001b[0m\n",
            "\u001b[32m[I 2021-04-27 06:15:35,786]\u001b[0m Trial 191 finished with value: 1.0001077534251608 and parameters: {'Tatoray Stripper C620 Operation_Column Temp Profile_C620 Tray 14 (Control)_oC': 177.96166683489508, 'Tatoray Stripper C620 Operation_Column Temp Profile_C620 Tray 34 (Control)_oC': 192.75231654495306, 'Tatoray Stripper C620 Operation_Specifications_Spec 2 : Distillate Rate_m3/hr': 0.26474234123226087}. Best is trial 152 with value: 1.0000087054366291.\u001b[0m\n",
            "\u001b[32m[I 2021-04-27 06:15:35,873]\u001b[0m Trial 192 finished with value: 1.0003319766527912 and parameters: {'Tatoray Stripper C620 Operation_Column Temp Profile_C620 Tray 14 (Control)_oC': 177.93853150400562, 'Tatoray Stripper C620 Operation_Column Temp Profile_C620 Tray 34 (Control)_oC': 192.75473646074443, 'Tatoray Stripper C620 Operation_Specifications_Spec 2 : Distillate Rate_m3/hr': 0.23409188607066383}. Best is trial 152 with value: 1.0000087054366291.\u001b[0m\n",
            "\u001b[32m[I 2021-04-27 06:15:35,964]\u001b[0m Trial 193 finished with value: 1.0001075330035425 and parameters: {'Tatoray Stripper C620 Operation_Column Temp Profile_C620 Tray 14 (Control)_oC': 177.94295020777628, 'Tatoray Stripper C620 Operation_Column Temp Profile_C620 Tray 34 (Control)_oC': 192.75268327008422, 'Tatoray Stripper C620 Operation_Specifications_Spec 2 : Distillate Rate_m3/hr': 0.22336063637796905}. Best is trial 152 with value: 1.0000087054366291.\u001b[0m\n",
            "\u001b[32m[I 2021-04-27 06:15:36,049]\u001b[0m Trial 194 finished with value: 1.0000015321460607 and parameters: {'Tatoray Stripper C620 Operation_Column Temp Profile_C620 Tray 14 (Control)_oC': 177.96421671516012, 'Tatoray Stripper C620 Operation_Column Temp Profile_C620 Tray 34 (Control)_oC': 192.75153590120593, 'Tatoray Stripper C620 Operation_Specifications_Spec 2 : Distillate Rate_m3/hr': 0.2284149451175258}. Best is trial 194 with value: 1.0000015321460607.\u001b[0m\n",
            "\u001b[32m[I 2021-04-27 06:15:36,130]\u001b[0m Trial 195 finished with value: 1.0004070959170697 and parameters: {'Tatoray Stripper C620 Operation_Column Temp Profile_C620 Tray 14 (Control)_oC': 177.97499985738693, 'Tatoray Stripper C620 Operation_Column Temp Profile_C620 Tray 34 (Control)_oC': 192.75411138748393, 'Tatoray Stripper C620 Operation_Specifications_Spec 2 : Distillate Rate_m3/hr': 0.23202921189253412}. Best is trial 194 with value: 1.0000015321460607.\u001b[0m\n",
            "\u001b[32m[I 2021-04-27 06:15:36,231]\u001b[0m Trial 196 finished with value: 1.0005860931916992 and parameters: {'Tatoray Stripper C620 Operation_Column Temp Profile_C620 Tray 14 (Control)_oC': 178.01371697388345, 'Tatoray Stripper C620 Operation_Column Temp Profile_C620 Tray 34 (Control)_oC': 192.75038393512176, 'Tatoray Stripper C620 Operation_Specifications_Spec 2 : Distillate Rate_m3/hr': 0.1340981878860964}. Best is trial 194 with value: 1.0000015321460607.\u001b[0m\n",
            "\u001b[32m[I 2021-04-27 06:15:36,312]\u001b[0m Trial 197 finished with value: 1.0001187741329378 and parameters: {'Tatoray Stripper C620 Operation_Column Temp Profile_C620 Tray 14 (Control)_oC': 177.99103150840034, 'Tatoray Stripper C620 Operation_Column Temp Profile_C620 Tray 34 (Control)_oC': 192.74992043027024, 'Tatoray Stripper C620 Operation_Specifications_Spec 2 : Distillate Rate_m3/hr': 0.22688674526924882}. Best is trial 194 with value: 1.0000015321460607.\u001b[0m\n",
            "\u001b[32m[I 2021-04-27 06:15:36,390]\u001b[0m Trial 198 finished with value: 1.0001624942019613 and parameters: {'Tatoray Stripper C620 Operation_Column Temp Profile_C620 Tray 14 (Control)_oC': 177.9760463495927, 'Tatoray Stripper C620 Operation_Column Temp Profile_C620 Tray 34 (Control)_oC': 192.7500070528351, 'Tatoray Stripper C620 Operation_Specifications_Spec 2 : Distillate Rate_m3/hr': 0.16976808435233176}. Best is trial 194 with value: 1.0000015321460607.\u001b[0m\n",
            "\u001b[32m[I 2021-04-27 06:15:36,478]\u001b[0m Trial 199 finished with value: 1.0002391652855864 and parameters: {'Tatoray Stripper C620 Operation_Column Temp Profile_C620 Tray 14 (Control)_oC': 177.98551321274041, 'Tatoray Stripper C620 Operation_Column Temp Profile_C620 Tray 34 (Control)_oC': 192.74996676350688, 'Tatoray Stripper C620 Operation_Specifications_Spec 2 : Distillate Rate_m3/hr': 0.1625338962047726}. Best is trial 194 with value: 1.0000015321460607.\u001b[0m\n",
            "\u001b[32m[I 2021-04-27 06:15:36,552]\u001b[0m Trial 200 finished with value: 1.000298871340397 and parameters: {'Tatoray Stripper C620 Operation_Column Temp Profile_C620 Tray 14 (Control)_oC': 177.88768054157921, 'Tatoray Stripper C620 Operation_Column Temp Profile_C620 Tray 34 (Control)_oC': 192.754170742921, 'Tatoray Stripper C620 Operation_Specifications_Spec 2 : Distillate Rate_m3/hr': 0.2902708639058241}. Best is trial 194 with value: 1.0000015321460607.\u001b[0m\n",
            "\u001b[32m[I 2021-04-27 06:15:36,632]\u001b[0m Trial 201 finished with value: 1.0000865156055534 and parameters: {'Tatoray Stripper C620 Operation_Column Temp Profile_C620 Tray 14 (Control)_oC': 177.91704455945217, 'Tatoray Stripper C620 Operation_Column Temp Profile_C620 Tray 34 (Control)_oC': 192.75382716643063, 'Tatoray Stripper C620 Operation_Specifications_Spec 2 : Distillate Rate_m3/hr': 0.2668662101820857}. Best is trial 194 with value: 1.0000015321460607.\u001b[0m\n",
            "\u001b[32m[I 2021-04-27 06:15:36,714]\u001b[0m Trial 202 finished with value: 1.0002035486056489 and parameters: {'Tatoray Stripper C620 Operation_Column Temp Profile_C620 Tray 14 (Control)_oC': 177.95083743394719, 'Tatoray Stripper C620 Operation_Column Temp Profile_C620 Tray 34 (Control)_oC': 192.75476888387644, 'Tatoray Stripper C620 Operation_Specifications_Spec 2 : Distillate Rate_m3/hr': 0.26614097017646937}. Best is trial 194 with value: 1.0000015321460607.\u001b[0m\n",
            "\u001b[32m[I 2021-04-27 06:15:36,793]\u001b[0m Trial 203 finished with value: 1.0001207530715372 and parameters: {'Tatoray Stripper C620 Operation_Column Temp Profile_C620 Tray 14 (Control)_oC': 177.90404737951255, 'Tatoray Stripper C620 Operation_Column Temp Profile_C620 Tray 34 (Control)_oC': 192.7573437875364, 'Tatoray Stripper C620 Operation_Specifications_Spec 2 : Distillate Rate_m3/hr': 0.31180212222629133}. Best is trial 194 with value: 1.0000015321460607.\u001b[0m\n",
            "\u001b[32m[I 2021-04-27 06:15:36,894]\u001b[0m Trial 204 finished with value: 1.0000151745068233 and parameters: {'Tatoray Stripper C620 Operation_Column Temp Profile_C620 Tray 14 (Control)_oC': 177.91478507828796, 'Tatoray Stripper C620 Operation_Column Temp Profile_C620 Tray 34 (Control)_oC': 192.75475609755492, 'Tatoray Stripper C620 Operation_Specifications_Spec 2 : Distillate Rate_m3/hr': 0.2767712915297042}. Best is trial 194 with value: 1.0000015321460607.\u001b[0m\n",
            "\u001b[32m[I 2021-04-27 06:15:36,993]\u001b[0m Trial 205 finished with value: 1.000228330258474 and parameters: {'Tatoray Stripper C620 Operation_Column Temp Profile_C620 Tray 14 (Control)_oC': 177.93697175825946, 'Tatoray Stripper C620 Operation_Column Temp Profile_C620 Tray 34 (Control)_oC': 192.75231010904244, 'Tatoray Stripper C620 Operation_Specifications_Spec 2 : Distillate Rate_m3/hr': 0.2669631854321833}. Best is trial 194 with value: 1.0000015321460607.\u001b[0m\n",
            "\u001b[32m[I 2021-04-27 06:15:37,079]\u001b[0m Trial 206 finished with value: 1.0002366972740102 and parameters: {'Tatoray Stripper C620 Operation_Column Temp Profile_C620 Tray 14 (Control)_oC': 177.9479906678241, 'Tatoray Stripper C620 Operation_Column Temp Profile_C620 Tray 34 (Control)_oC': 192.75065391919279, 'Tatoray Stripper C620 Operation_Specifications_Spec 2 : Distillate Rate_m3/hr': 0.23410030039047056}. Best is trial 194 with value: 1.0000015321460607.\u001b[0m\n",
            "\u001b[32m[I 2021-04-27 06:15:37,175]\u001b[0m Trial 207 finished with value: 1.0000552424248783 and parameters: {'Tatoray Stripper C620 Operation_Column Temp Profile_C620 Tray 14 (Control)_oC': 177.99555244506104, 'Tatoray Stripper C620 Operation_Column Temp Profile_C620 Tray 34 (Control)_oC': 192.7490411407835, 'Tatoray Stripper C620 Operation_Specifications_Spec 2 : Distillate Rate_m3/hr': 0.19680789488576741}. Best is trial 194 with value: 1.0000015321460607.\u001b[0m\n",
            "\u001b[32m[I 2021-04-27 06:15:37,256]\u001b[0m Trial 208 finished with value: 1.0000455370746906 and parameters: {'Tatoray Stripper C620 Operation_Column Temp Profile_C620 Tray 14 (Control)_oC': 177.88248738526676, 'Tatoray Stripper C620 Operation_Column Temp Profile_C620 Tray 34 (Control)_oC': 192.7569690246181, 'Tatoray Stripper C620 Operation_Specifications_Spec 2 : Distillate Rate_m3/hr': 0.2991608741126326}. Best is trial 194 with value: 1.0000015321460607.\u001b[0m\n",
            "\u001b[32m[I 2021-04-27 06:15:37,342]\u001b[0m Trial 209 finished with value: 1.0000868719114209 and parameters: {'Tatoray Stripper C620 Operation_Column Temp Profile_C620 Tray 14 (Control)_oC': 177.90183808936325, 'Tatoray Stripper C620 Operation_Column Temp Profile_C620 Tray 34 (Control)_oC': 192.7569550363197, 'Tatoray Stripper C620 Operation_Specifications_Spec 2 : Distillate Rate_m3/hr': 0.3358610241731436}. Best is trial 194 with value: 1.0000015321460607.\u001b[0m\n",
            "\u001b[32m[I 2021-04-27 06:15:37,432]\u001b[0m Trial 210 finished with value: 1.0005100816597796 and parameters: {'Tatoray Stripper C620 Operation_Column Temp Profile_C620 Tray 14 (Control)_oC': 177.9656086045778, 'Tatoray Stripper C620 Operation_Column Temp Profile_C620 Tray 34 (Control)_oC': 192.75509387292507, 'Tatoray Stripper C620 Operation_Specifications_Spec 2 : Distillate Rate_m3/hr': 0.23247952499109942}. Best is trial 194 with value: 1.0000015321460607.\u001b[0m\n",
            "\u001b[32m[I 2021-04-27 06:15:37,522]\u001b[0m Trial 211 finished with value: 1.0000612231549948 and parameters: {'Tatoray Stripper C620 Operation_Column Temp Profile_C620 Tray 14 (Control)_oC': 177.96910027229322, 'Tatoray Stripper C620 Operation_Column Temp Profile_C620 Tray 34 (Control)_oC': 192.75224970032866, 'Tatoray Stripper C620 Operation_Specifications_Spec 2 : Distillate Rate_m3/hr': 0.2605439928943243}. Best is trial 194 with value: 1.0000015321460607.\u001b[0m\n",
            "\u001b[32m[I 2021-04-27 06:15:37,613]\u001b[0m Trial 212 finished with value: 1.000044784319648 and parameters: {'Tatoray Stripper C620 Operation_Column Temp Profile_C620 Tray 14 (Control)_oC': 177.87698352383617, 'Tatoray Stripper C620 Operation_Column Temp Profile_C620 Tray 34 (Control)_oC': 192.75737890143503, 'Tatoray Stripper C620 Operation_Specifications_Spec 2 : Distillate Rate_m3/hr': 0.3211104035113659}. Best is trial 194 with value: 1.0000015321460607.\u001b[0m\n",
            "\u001b[32m[I 2021-04-27 06:15:37,701]\u001b[0m Trial 213 finished with value: 1.000113888700676 and parameters: {'Tatoray Stripper C620 Operation_Column Temp Profile_C620 Tray 14 (Control)_oC': 177.94090682058646, 'Tatoray Stripper C620 Operation_Column Temp Profile_C620 Tray 34 (Control)_oC': 192.7531737915235, 'Tatoray Stripper C620 Operation_Specifications_Spec 2 : Distillate Rate_m3/hr': 0.2724359969235469}. Best is trial 194 with value: 1.0000015321460607.\u001b[0m\n",
            "\u001b[32m[I 2021-04-27 06:15:37,788]\u001b[0m Trial 214 finished with value: 1.0000977083209803 and parameters: {'Tatoray Stripper C620 Operation_Column Temp Profile_C620 Tray 14 (Control)_oC': 177.90426529664384, 'Tatoray Stripper C620 Operation_Column Temp Profile_C620 Tray 34 (Control)_oC': 192.7541755835189, 'Tatoray Stripper C620 Operation_Specifications_Spec 2 : Distillate Rate_m3/hr': 0.234709015688971}. Best is trial 194 with value: 1.0000015321460607.\u001b[0m\n",
            "\u001b[32m[I 2021-04-27 06:15:37,877]\u001b[0m Trial 215 finished with value: 1.0000872800800544 and parameters: {'Tatoray Stripper C620 Operation_Column Temp Profile_C620 Tray 14 (Control)_oC': 177.937106644444, 'Tatoray Stripper C620 Operation_Column Temp Profile_C620 Tray 34 (Control)_oC': 192.75499655283468, 'Tatoray Stripper C620 Operation_Specifications_Spec 2 : Distillate Rate_m3/hr': 0.28182219588468616}. Best is trial 194 with value: 1.0000015321460607.\u001b[0m\n",
            "\u001b[32m[I 2021-04-27 06:15:37,967]\u001b[0m Trial 216 finished with value: 1.0000360324443813 and parameters: {'Tatoray Stripper C620 Operation_Column Temp Profile_C620 Tray 14 (Control)_oC': 177.93630616398892, 'Tatoray Stripper C620 Operation_Column Temp Profile_C620 Tray 34 (Control)_oC': 192.75283177125286, 'Tatoray Stripper C620 Operation_Specifications_Spec 2 : Distillate Rate_m3/hr': 0.24693944422378772}. Best is trial 194 with value: 1.0000015321460607.\u001b[0m\n",
            "\u001b[32m[I 2021-04-27 06:15:38,064]\u001b[0m Trial 217 finished with value: 1.0002054313693534 and parameters: {'Tatoray Stripper C620 Operation_Column Temp Profile_C620 Tray 14 (Control)_oC': 177.99335587220463, 'Tatoray Stripper C620 Operation_Column Temp Profile_C620 Tray 34 (Control)_oC': 192.74987336086335, 'Tatoray Stripper C620 Operation_Specifications_Spec 2 : Distillate Rate_m3/hr': 0.2422107937545823}. Best is trial 194 with value: 1.0000015321460607.\u001b[0m\n",
            "\u001b[32m[I 2021-04-27 06:15:38,155]\u001b[0m Trial 218 finished with value: 1.000029996221135 and parameters: {'Tatoray Stripper C620 Operation_Column Temp Profile_C620 Tray 14 (Control)_oC': 177.93369348024504, 'Tatoray Stripper C620 Operation_Column Temp Profile_C620 Tray 34 (Control)_oC': 192.752093689787, 'Tatoray Stripper C620 Operation_Specifications_Spec 2 : Distillate Rate_m3/hr': 0.22506326260958384}. Best is trial 194 with value: 1.0000015321460607.\u001b[0m\n",
            "\u001b[32m[I 2021-04-27 06:15:38,243]\u001b[0m Trial 219 finished with value: 1.0000144145828493 and parameters: {'Tatoray Stripper C620 Operation_Column Temp Profile_C620 Tray 14 (Control)_oC': 177.92513919185777, 'Tatoray Stripper C620 Operation_Column Temp Profile_C620 Tray 34 (Control)_oC': 192.75361863689375, 'Tatoray Stripper C620 Operation_Specifications_Spec 2 : Distillate Rate_m3/hr': 0.2551342878875772}. Best is trial 194 with value: 1.0000015321460607.\u001b[0m\n",
            "\u001b[32m[I 2021-04-27 06:15:38,323]\u001b[0m Trial 220 finished with value: 1.0000760436030058 and parameters: {'Tatoray Stripper C620 Operation_Column Temp Profile_C620 Tray 14 (Control)_oC': 177.9357624295085, 'Tatoray Stripper C620 Operation_Column Temp Profile_C620 Tray 34 (Control)_oC': 192.75282571779752, 'Tatoray Stripper C620 Operation_Specifications_Spec 2 : Distillate Rate_m3/hr': 0.2532373301198896}. Best is trial 194 with value: 1.0000015321460607.\u001b[0m\n",
            "\u001b[32m[I 2021-04-27 06:15:38,427]\u001b[0m Trial 221 finished with value: 1.0000561873031522 and parameters: {'Tatoray Stripper C620 Operation_Column Temp Profile_C620 Tray 14 (Control)_oC': 177.9470153133513, 'Tatoray Stripper C620 Operation_Column Temp Profile_C620 Tray 34 (Control)_oC': 192.75303489625873, 'Tatoray Stripper C620 Operation_Specifications_Spec 2 : Distillate Rate_m3/hr': 0.24419880999268279}. Best is trial 194 with value: 1.0000015321460607.\u001b[0m\n",
            "\u001b[32m[I 2021-04-27 06:15:38,521]\u001b[0m Trial 222 finished with value: 1.0001151221099303 and parameters: {'Tatoray Stripper C620 Operation_Column Temp Profile_C620 Tray 14 (Control)_oC': 177.95670693862886, 'Tatoray Stripper C620 Operation_Column Temp Profile_C620 Tray 34 (Control)_oC': 192.75167528831207, 'Tatoray Stripper C620 Operation_Specifications_Spec 2 : Distillate Rate_m3/hr': 0.24590713961640798}. Best is trial 194 with value: 1.0000015321460607.\u001b[0m\n",
            "\u001b[32m[I 2021-04-27 06:15:38,606]\u001b[0m Trial 223 finished with value: 1.000097521016357 and parameters: {'Tatoray Stripper C620 Operation_Column Temp Profile_C620 Tray 14 (Control)_oC': 177.90874715765457, 'Tatoray Stripper C620 Operation_Column Temp Profile_C620 Tray 34 (Control)_oC': 192.75446638640724, 'Tatoray Stripper C620 Operation_Specifications_Spec 2 : Distillate Rate_m3/hr': 0.2455088882321318}. Best is trial 194 with value: 1.0000015321460607.\u001b[0m\n",
            "\u001b[32m[I 2021-04-27 06:15:38,695]\u001b[0m Trial 224 finished with value: 1.0001190573477476 and parameters: {'Tatoray Stripper C620 Operation_Column Temp Profile_C620 Tray 14 (Control)_oC': 177.92001781544616, 'Tatoray Stripper C620 Operation_Column Temp Profile_C620 Tray 34 (Control)_oC': 192.75509182454277, 'Tatoray Stripper C620 Operation_Specifications_Spec 2 : Distillate Rate_m3/hr': 0.30704619850675585}. Best is trial 194 with value: 1.0000015321460607.\u001b[0m\n",
            "\u001b[32m[I 2021-04-27 06:15:38,786]\u001b[0m Trial 225 finished with value: 1.000107636634491 and parameters: {'Tatoray Stripper C620 Operation_Column Temp Profile_C620 Tray 14 (Control)_oC': 177.91595362051243, 'Tatoray Stripper C620 Operation_Column Temp Profile_C620 Tray 34 (Control)_oC': 192.7529697874098, 'Tatoray Stripper C620 Operation_Specifications_Spec 2 : Distillate Rate_m3/hr': 0.24770264089776375}. Best is trial 194 with value: 1.0000015321460607.\u001b[0m\n",
            "\u001b[32m[I 2021-04-27 06:15:38,861]\u001b[0m Trial 226 finished with value: 1.0002088222312309 and parameters: {'Tatoray Stripper C620 Operation_Column Temp Profile_C620 Tray 14 (Control)_oC': 177.9003299229811, 'Tatoray Stripper C620 Operation_Column Temp Profile_C620 Tray 34 (Control)_oC': 192.75710361894798, 'Tatoray Stripper C620 Operation_Specifications_Spec 2 : Distillate Rate_m3/hr': 0.287742600991132}. Best is trial 194 with value: 1.0000015321460607.\u001b[0m\n",
            "\u001b[32m[I 2021-04-27 06:15:38,944]\u001b[0m Trial 227 finished with value: 1.000060392607282 and parameters: {'Tatoray Stripper C620 Operation_Column Temp Profile_C620 Tray 14 (Control)_oC': 177.96214444684108, 'Tatoray Stripper C620 Operation_Column Temp Profile_C620 Tray 34 (Control)_oC': 192.7509797002455, 'Tatoray Stripper C620 Operation_Specifications_Spec 2 : Distillate Rate_m3/hr': 0.22273309331066513}. Best is trial 194 with value: 1.0000015321460607.\u001b[0m\n",
            "\u001b[32m[I 2021-04-27 06:15:39,039]\u001b[0m Trial 228 finished with value: 1.0000235356782674 and parameters: {'Tatoray Stripper C620 Operation_Column Temp Profile_C620 Tray 14 (Control)_oC': 177.9287899546022, 'Tatoray Stripper C620 Operation_Column Temp Profile_C620 Tray 34 (Control)_oC': 192.75400908000108, 'Tatoray Stripper C620 Operation_Specifications_Spec 2 : Distillate Rate_m3/hr': 0.26131268869076096}. Best is trial 194 with value: 1.0000015321460607.\u001b[0m\n",
            "\u001b[32m[I 2021-04-27 06:15:39,128]\u001b[0m Trial 229 finished with value: 1.0000746316997922 and parameters: {'Tatoray Stripper C620 Operation_Column Temp Profile_C620 Tray 14 (Control)_oC': 177.8983153872937, 'Tatoray Stripper C620 Operation_Column Temp Profile_C620 Tray 34 (Control)_oC': 192.75384324432912, 'Tatoray Stripper C620 Operation_Specifications_Spec 2 : Distillate Rate_m3/hr': 0.25138637580297535}. Best is trial 194 with value: 1.0000015321460607.\u001b[0m\n",
            "\u001b[32m[I 2021-04-27 06:15:39,215]\u001b[0m Trial 230 finished with value: 1.0000180770191076 and parameters: {'Tatoray Stripper C620 Operation_Column Temp Profile_C620 Tray 14 (Control)_oC': 177.9170071969561, 'Tatoray Stripper C620 Operation_Column Temp Profile_C620 Tray 34 (Control)_oC': 192.75378744803132, 'Tatoray Stripper C620 Operation_Specifications_Spec 2 : Distillate Rate_m3/hr': 0.24786109810550339}. Best is trial 194 with value: 1.0000015321460607.\u001b[0m\n",
            "\u001b[32m[I 2021-04-27 06:15:39,300]\u001b[0m Trial 231 finished with value: 1.0000358665203175 and parameters: {'Tatoray Stripper C620 Operation_Column Temp Profile_C620 Tray 14 (Control)_oC': 177.94431854729677, 'Tatoray Stripper C620 Operation_Column Temp Profile_C620 Tray 34 (Control)_oC': 192.75232208387476, 'Tatoray Stripper C620 Operation_Specifications_Spec 2 : Distillate Rate_m3/hr': 0.2274275111599321}. Best is trial 194 with value: 1.0000015321460607.\u001b[0m\n",
            "\u001b[32m[I 2021-04-27 06:15:39,381]\u001b[0m Trial 232 finished with value: 1.00002517077662 and parameters: {'Tatoray Stripper C620 Operation_Column Temp Profile_C620 Tray 14 (Control)_oC': 177.9097485838729, 'Tatoray Stripper C620 Operation_Column Temp Profile_C620 Tray 34 (Control)_oC': 192.75503424784878, 'Tatoray Stripper C620 Operation_Specifications_Spec 2 : Distillate Rate_m3/hr': 0.2732236337518421}. Best is trial 194 with value: 1.0000015321460607.\u001b[0m\n",
            "\u001b[32m[I 2021-04-27 06:15:39,465]\u001b[0m Trial 233 finished with value: 1.0001295809789175 and parameters: {'Tatoray Stripper C620 Operation_Column Temp Profile_C620 Tray 14 (Control)_oC': 177.93177004696517, 'Tatoray Stripper C620 Operation_Column Temp Profile_C620 Tray 34 (Control)_oC': 192.7540120573127, 'Tatoray Stripper C620 Operation_Specifications_Spec 2 : Distillate Rate_m3/hr': 0.24537639914419268}. Best is trial 194 with value: 1.0000015321460607.\u001b[0m\n",
            "\u001b[32m[I 2021-04-27 06:15:39,545]\u001b[0m Trial 234 finished with value: 1.000042469032171 and parameters: {'Tatoray Stripper C620 Operation_Column Temp Profile_C620 Tray 14 (Control)_oC': 177.9276953663304, 'Tatoray Stripper C620 Operation_Column Temp Profile_C620 Tray 34 (Control)_oC': 192.75345017871916, 'Tatoray Stripper C620 Operation_Specifications_Spec 2 : Distillate Rate_m3/hr': 0.24293097047593581}. Best is trial 194 with value: 1.0000015321460607.\u001b[0m\n",
            "\u001b[32m[I 2021-04-27 06:15:39,625]\u001b[0m Trial 235 finished with value: 1.000029956903437 and parameters: {'Tatoray Stripper C620 Operation_Column Temp Profile_C620 Tray 14 (Control)_oC': 177.9304013929148, 'Tatoray Stripper C620 Operation_Column Temp Profile_C620 Tray 34 (Control)_oC': 192.75433714503674, 'Tatoray Stripper C620 Operation_Specifications_Spec 2 : Distillate Rate_m3/hr': 0.2698096222948546}. Best is trial 194 with value: 1.0000015321460607.\u001b[0m\n",
            "\u001b[32m[I 2021-04-27 06:15:39,702]\u001b[0m Trial 236 finished with value: 1.000041878832162 and parameters: {'Tatoray Stripper C620 Operation_Column Temp Profile_C620 Tray 14 (Control)_oC': 177.93182809556666, 'Tatoray Stripper C620 Operation_Column Temp Profile_C620 Tray 34 (Control)_oC': 192.7516731801613, 'Tatoray Stripper C620 Operation_Specifications_Spec 2 : Distillate Rate_m3/hr': 0.2005471229342396}. Best is trial 194 with value: 1.0000015321460607.\u001b[0m\n",
            "\u001b[32m[I 2021-04-27 06:15:39,790]\u001b[0m Trial 237 finished with value: 1.0000490353127687 and parameters: {'Tatoray Stripper C620 Operation_Column Temp Profile_C620 Tray 14 (Control)_oC': 177.91606720853937, 'Tatoray Stripper C620 Operation_Column Temp Profile_C620 Tray 34 (Control)_oC': 192.75375660879942, 'Tatoray Stripper C620 Operation_Specifications_Spec 2 : Distillate Rate_m3/hr': 0.2410544114770139}. Best is trial 194 with value: 1.0000015321460607.\u001b[0m\n",
            "\u001b[32m[I 2021-04-27 06:15:39,880]\u001b[0m Trial 238 finished with value: 1.0000637692465022 and parameters: {'Tatoray Stripper C620 Operation_Column Temp Profile_C620 Tray 14 (Control)_oC': 177.9744612544254, 'Tatoray Stripper C620 Operation_Column Temp Profile_C620 Tray 34 (Control)_oC': 192.74985383522298, 'Tatoray Stripper C620 Operation_Specifications_Spec 2 : Distillate Rate_m3/hr': 0.18164645756151748}. Best is trial 194 with value: 1.0000015321460607.\u001b[0m\n",
            "\u001b[32m[I 2021-04-27 06:15:39,963]\u001b[0m Trial 239 finished with value: 1.0000649923485716 and parameters: {'Tatoray Stripper C620 Operation_Column Temp Profile_C620 Tray 14 (Control)_oC': 177.88815717096338, 'Tatoray Stripper C620 Operation_Column Temp Profile_C620 Tray 34 (Control)_oC': 192.7565989324298, 'Tatoray Stripper C620 Operation_Specifications_Spec 2 : Distillate Rate_m3/hr': 0.3128584780822242}. Best is trial 194 with value: 1.0000015321460607.\u001b[0m\n",
            "\u001b[32m[I 2021-04-27 06:15:40,049]\u001b[0m Trial 240 finished with value: 1.000057183502778 and parameters: {'Tatoray Stripper C620 Operation_Column Temp Profile_C620 Tray 14 (Control)_oC': 177.91963955579598, 'Tatoray Stripper C620 Operation_Column Temp Profile_C620 Tray 34 (Control)_oC': 192.75536496792054, 'Tatoray Stripper C620 Operation_Specifications_Spec 2 : Distillate Rate_m3/hr': 0.2835276675342464}. Best is trial 194 with value: 1.0000015321460607.\u001b[0m\n",
            "\u001b[32m[I 2021-04-27 06:15:40,128]\u001b[0m Trial 241 finished with value: 1.0000282991698968 and parameters: {'Tatoray Stripper C620 Operation_Column Temp Profile_C620 Tray 14 (Control)_oC': 177.92991591266247, 'Tatoray Stripper C620 Operation_Column Temp Profile_C620 Tray 34 (Control)_oC': 192.75390700355632, 'Tatoray Stripper C620 Operation_Specifications_Spec 2 : Distillate Rate_m3/hr': 0.25870117726015973}. Best is trial 194 with value: 1.0000015321460607.\u001b[0m\n",
            "\u001b[32m[I 2021-04-27 06:15:40,214]\u001b[0m Trial 242 finished with value: 1.0000369670474594 and parameters: {'Tatoray Stripper C620 Operation_Column Temp Profile_C620 Tray 14 (Control)_oC': 177.92623617436536, 'Tatoray Stripper C620 Operation_Column Temp Profile_C620 Tray 34 (Control)_oC': 192.7526220938168, 'Tatoray Stripper C620 Operation_Specifications_Spec 2 : Distillate Rate_m3/hr': 0.234285049613833}. Best is trial 194 with value: 1.0000015321460607.\u001b[0m\n",
            "\u001b[32m[I 2021-04-27 06:15:40,309]\u001b[0m Trial 243 finished with value: 1.0001395211346413 and parameters: {'Tatoray Stripper C620 Operation_Column Temp Profile_C620 Tray 14 (Control)_oC': 177.9065861126396, 'Tatoray Stripper C620 Operation_Column Temp Profile_C620 Tray 34 (Control)_oC': 192.75654132833571, 'Tatoray Stripper C620 Operation_Specifications_Spec 2 : Distillate Rate_m3/hr': 0.28987538170225763}. Best is trial 194 with value: 1.0000015321460607.\u001b[0m\n",
            "\u001b[32m[I 2021-04-27 06:15:40,391]\u001b[0m Trial 244 finished with value: 1.0000595586875858 and parameters: {'Tatoray Stripper C620 Operation_Column Temp Profile_C620 Tray 14 (Control)_oC': 177.93073134948267, 'Tatoray Stripper C620 Operation_Column Temp Profile_C620 Tray 34 (Control)_oC': 192.75346830106167, 'Tatoray Stripper C620 Operation_Specifications_Spec 2 : Distillate Rate_m3/hr': 0.24269404784011503}. Best is trial 194 with value: 1.0000015321460607.\u001b[0m\n",
            "\u001b[32m[I 2021-04-27 06:15:40,473]\u001b[0m Trial 245 finished with value: 1.0000452381385478 and parameters: {'Tatoray Stripper C620 Operation_Column Temp Profile_C620 Tray 14 (Control)_oC': 177.93538577586537, 'Tatoray Stripper C620 Operation_Column Temp Profile_C620 Tray 34 (Control)_oC': 192.75311972993825, 'Tatoray Stripper C620 Operation_Specifications_Spec 2 : Distillate Rate_m3/hr': 0.23966970933050838}. Best is trial 194 with value: 1.0000015321460607.\u001b[0m\n",
            "\u001b[32m[I 2021-04-27 06:15:40,552]\u001b[0m Trial 246 finished with value: 1.0000083442502294 and parameters: {'Tatoray Stripper C620 Operation_Column Temp Profile_C620 Tray 14 (Control)_oC': 177.90791232823463, 'Tatoray Stripper C620 Operation_Column Temp Profile_C620 Tray 34 (Control)_oC': 192.7554798351608, 'Tatoray Stripper C620 Operation_Specifications_Spec 2 : Distillate Rate_m3/hr': 0.2890740268987826}. Best is trial 194 with value: 1.0000015321460607.\u001b[0m\n",
            "\u001b[32m[I 2021-04-27 06:15:40,644]\u001b[0m Trial 247 finished with value: 1.0000164939052434 and parameters: {'Tatoray Stripper C620 Operation_Column Temp Profile_C620 Tray 14 (Control)_oC': 177.94638522761676, 'Tatoray Stripper C620 Operation_Column Temp Profile_C620 Tray 34 (Control)_oC': 192.75163573735028, 'Tatoray Stripper C620 Operation_Specifications_Spec 2 : Distillate Rate_m3/hr': 0.22038171467001091}. Best is trial 194 with value: 1.0000015321460607.\u001b[0m\n",
            "\u001b[32m[I 2021-04-27 06:15:40,731]\u001b[0m Trial 248 finished with value: 1.0000260630616005 and parameters: {'Tatoray Stripper C620 Operation_Column Temp Profile_C620 Tray 14 (Control)_oC': 177.93806361066504, 'Tatoray Stripper C620 Operation_Column Temp Profile_C620 Tray 34 (Control)_oC': 192.75248608022417, 'Tatoray Stripper C620 Operation_Specifications_Spec 2 : Distillate Rate_m3/hr': 0.2376621247637186}. Best is trial 194 with value: 1.0000015321460607.\u001b[0m\n",
            "\u001b[32m[I 2021-04-27 06:15:40,811]\u001b[0m Trial 249 finished with value: 1.0000527529909096 and parameters: {'Tatoray Stripper C620 Operation_Column Temp Profile_C620 Tray 14 (Control)_oC': 177.95108779647637, 'Tatoray Stripper C620 Operation_Column Temp Profile_C620 Tray 34 (Control)_oC': 192.7509067478636, 'Tatoray Stripper C620 Operation_Specifications_Spec 2 : Distillate Rate_m3/hr': 0.21139264614034042}. Best is trial 194 with value: 1.0000015321460607.\u001b[0m\n",
            "\u001b[32m[I 2021-04-27 06:15:40,895]\u001b[0m Trial 250 finished with value: 1.0000011192172877 and parameters: {'Tatoray Stripper C620 Operation_Column Temp Profile_C620 Tray 14 (Control)_oC': 177.8999332060202, 'Tatoray Stripper C620 Operation_Column Temp Profile_C620 Tray 34 (Control)_oC': 192.7551489946685, 'Tatoray Stripper C620 Operation_Specifications_Spec 2 : Distillate Rate_m3/hr': 0.2734453746495414}. Best is trial 250 with value: 1.0000011192172877.\u001b[0m\n",
            "\u001b[32m[I 2021-04-27 06:15:40,993]\u001b[0m Trial 251 finished with value: 1.0000961233345813 and parameters: {'Tatoray Stripper C620 Operation_Column Temp Profile_C620 Tray 14 (Control)_oC': 177.9345484108299, 'Tatoray Stripper C620 Operation_Column Temp Profile_C620 Tray 34 (Control)_oC': 192.7526168178474, 'Tatoray Stripper C620 Operation_Specifications_Spec 2 : Distillate Rate_m3/hr': 0.2504263956845667}. Best is trial 250 with value: 1.0000011192172877.\u001b[0m\n",
            "\u001b[32m[I 2021-04-27 06:15:41,081]\u001b[0m Trial 252 finished with value: 1.0000373357314678 and parameters: {'Tatoray Stripper C620 Operation_Column Temp Profile_C620 Tray 14 (Control)_oC': 177.91431217071215, 'Tatoray Stripper C620 Operation_Column Temp Profile_C620 Tray 34 (Control)_oC': 192.75445902523347, 'Tatoray Stripper C620 Operation_Specifications_Spec 2 : Distillate Rate_m3/hr': 0.2597704153154178}. Best is trial 250 with value: 1.0000011192172877.\u001b[0m\n",
            "\u001b[32m[I 2021-04-27 06:15:41,191]\u001b[0m Trial 253 finished with value: 1.0000658747811162 and parameters: {'Tatoray Stripper C620 Operation_Column Temp Profile_C620 Tray 14 (Control)_oC': 177.93637582579657, 'Tatoray Stripper C620 Operation_Column Temp Profile_C620 Tray 34 (Control)_oC': 192.75352815191212, 'Tatoray Stripper C620 Operation_Specifications_Spec 2 : Distillate Rate_m3/hr': 0.24732960006582821}. Best is trial 250 with value: 1.0000011192172877.\u001b[0m\n",
            "\u001b[32m[I 2021-04-27 06:15:41,285]\u001b[0m Trial 254 finished with value: 1.0000171086236982 and parameters: {'Tatoray Stripper C620 Operation_Column Temp Profile_C620 Tray 14 (Control)_oC': 177.89326611039667, 'Tatoray Stripper C620 Operation_Column Temp Profile_C620 Tray 34 (Control)_oC': 192.75633361955371, 'Tatoray Stripper C620 Operation_Specifications_Spec 2 : Distillate Rate_m3/hr': 0.3016266238895851}. Best is trial 250 with value: 1.0000011192172877.\u001b[0m\n",
            "\u001b[32m[I 2021-04-27 06:15:41,375]\u001b[0m Trial 255 finished with value: 1.000028864140815 and parameters: {'Tatoray Stripper C620 Operation_Column Temp Profile_C620 Tray 14 (Control)_oC': 177.9268566711038, 'Tatoray Stripper C620 Operation_Column Temp Profile_C620 Tray 34 (Control)_oC': 192.75352543040523, 'Tatoray Stripper C620 Operation_Specifications_Spec 2 : Distillate Rate_m3/hr': 0.25650603913886433}. Best is trial 250 with value: 1.0000011192172877.\u001b[0m\n",
            "\u001b[32m[I 2021-04-27 06:15:41,473]\u001b[0m Trial 256 finished with value: 1.0000254128191417 and parameters: {'Tatoray Stripper C620 Operation_Column Temp Profile_C620 Tray 14 (Control)_oC': 177.90121174475047, 'Tatoray Stripper C620 Operation_Column Temp Profile_C620 Tray 34 (Control)_oC': 192.75603885512024, 'Tatoray Stripper C620 Operation_Specifications_Spec 2 : Distillate Rate_m3/hr': 0.29262766127578116}. Best is trial 250 with value: 1.0000011192172877.\u001b[0m\n",
            "\u001b[32m[I 2021-04-27 06:15:41,565]\u001b[0m Trial 257 finished with value: 1.0001104739362376 and parameters: {'Tatoray Stripper C620 Operation_Column Temp Profile_C620 Tray 14 (Control)_oC': 177.8820653411063, 'Tatoray Stripper C620 Operation_Column Temp Profile_C620 Tray 34 (Control)_oC': 192.7547574213037, 'Tatoray Stripper C620 Operation_Specifications_Spec 2 : Distillate Rate_m3/hr': 0.26894352049846454}. Best is trial 250 with value: 1.0000011192172877.\u001b[0m\n",
            "\u001b[32m[I 2021-04-27 06:15:41,648]\u001b[0m Trial 258 finished with value: 1.0000108855050673 and parameters: {'Tatoray Stripper C620 Operation_Column Temp Profile_C620 Tray 14 (Control)_oC': 177.90026168607065, 'Tatoray Stripper C620 Operation_Column Temp Profile_C620 Tray 34 (Control)_oC': 192.75510058173163, 'Tatoray Stripper C620 Operation_Specifications_Spec 2 : Distillate Rate_m3/hr': 0.2703698849753903}. Best is trial 250 with value: 1.0000011192172877.\u001b[0m\n",
            "\u001b[32m[I 2021-04-27 06:15:41,741]\u001b[0m Trial 259 finished with value: 1.0000473308549216 and parameters: {'Tatoray Stripper C620 Operation_Column Temp Profile_C620 Tray 14 (Control)_oC': 177.92733846534531, 'Tatoray Stripper C620 Operation_Column Temp Profile_C620 Tray 34 (Control)_oC': 192.7529744844269, 'Tatoray Stripper C620 Operation_Specifications_Spec 2 : Distillate Rate_m3/hr': 0.22964140479033673}. Best is trial 250 with value: 1.0000011192172877.\u001b[0m\n",
            "\u001b[32m[I 2021-04-27 06:15:41,832]\u001b[0m Trial 260 finished with value: 1.0000124349550537 and parameters: {'Tatoray Stripper C620 Operation_Column Temp Profile_C620 Tray 14 (Control)_oC': 177.89858438623216, 'Tatoray Stripper C620 Operation_Column Temp Profile_C620 Tray 34 (Control)_oC': 192.75585824496554, 'Tatoray Stripper C620 Operation_Specifications_Spec 2 : Distillate Rate_m3/hr': 0.2882813791007513}. Best is trial 250 with value: 1.0000011192172877.\u001b[0m\n",
            "\u001b[32m[I 2021-04-27 06:15:42,029]\u001b[0m Trial 261 finished with value: 1.0000624665187317 and parameters: {'Tatoray Stripper C620 Operation_Column Temp Profile_C620 Tray 14 (Control)_oC': 177.90218144989154, 'Tatoray Stripper C620 Operation_Column Temp Profile_C620 Tray 34 (Control)_oC': 192.75593298993766, 'Tatoray Stripper C620 Operation_Specifications_Spec 2 : Distillate Rate_m3/hr': 0.28426623542368085}. Best is trial 250 with value: 1.0000011192172877.\u001b[0m\n",
            "\u001b[32m[I 2021-04-27 06:15:42,118]\u001b[0m Trial 262 finished with value: 1.0000092575104291 and parameters: {'Tatoray Stripper C620 Operation_Column Temp Profile_C620 Tray 14 (Control)_oC': 177.89908150729545, 'Tatoray Stripper C620 Operation_Column Temp Profile_C620 Tray 34 (Control)_oC': 192.75578811314176, 'Tatoray Stripper C620 Operation_Specifications_Spec 2 : Distillate Rate_m3/hr': 0.2905954132697471}. Best is trial 250 with value: 1.0000011192172877.\u001b[0m\n",
            "\u001b[32m[I 2021-04-27 06:15:42,204]\u001b[0m Trial 263 finished with value: 1.0000352843334377 and parameters: {'Tatoray Stripper C620 Operation_Column Temp Profile_C620 Tray 14 (Control)_oC': 177.89723545678552, 'Tatoray Stripper C620 Operation_Column Temp Profile_C620 Tray 34 (Control)_oC': 192.75562018152155, 'Tatoray Stripper C620 Operation_Specifications_Spec 2 : Distillate Rate_m3/hr': 0.2893885021617089}. Best is trial 250 with value: 1.0000011192172877.\u001b[0m\n",
            "\u001b[32m[I 2021-04-27 06:15:42,281]\u001b[0m Trial 264 finished with value: 1.0000086582305505 and parameters: {'Tatoray Stripper C620 Operation_Column Temp Profile_C620 Tray 14 (Control)_oC': 177.93968315598485, 'Tatoray Stripper C620 Operation_Column Temp Profile_C620 Tray 34 (Control)_oC': 192.75296910349434, 'Tatoray Stripper C620 Operation_Specifications_Spec 2 : Distillate Rate_m3/hr': 0.24826036946448582}. Best is trial 250 with value: 1.0000011192172877.\u001b[0m\n",
            "\u001b[32m[I 2021-04-27 06:15:42,364]\u001b[0m Trial 265 finished with value: 1.0000147095162104 and parameters: {'Tatoray Stripper C620 Operation_Column Temp Profile_C620 Tray 14 (Control)_oC': 177.88564884253998, 'Tatoray Stripper C620 Operation_Column Temp Profile_C620 Tray 34 (Control)_oC': 192.75683043748185, 'Tatoray Stripper C620 Operation_Specifications_Spec 2 : Distillate Rate_m3/hr': 0.3032364808956183}. Best is trial 250 with value: 1.0000011192172877.\u001b[0m\n",
            "\u001b[32m[I 2021-04-27 06:15:42,442]\u001b[0m Trial 266 finished with value: 1.000041373246725 and parameters: {'Tatoray Stripper C620 Operation_Column Temp Profile_C620 Tray 14 (Control)_oC': 177.8870925513366, 'Tatoray Stripper C620 Operation_Column Temp Profile_C620 Tray 34 (Control)_oC': 192.75645259904456, 'Tatoray Stripper C620 Operation_Specifications_Spec 2 : Distillate Rate_m3/hr': 0.30425908175584443}. Best is trial 250 with value: 1.0000011192172877.\u001b[0m\n",
            "\u001b[32m[I 2021-04-27 06:15:42,533]\u001b[0m Trial 267 finished with value: 1.000063650114996 and parameters: {'Tatoray Stripper C620 Operation_Column Temp Profile_C620 Tray 14 (Control)_oC': 177.9197711712186, 'Tatoray Stripper C620 Operation_Column Temp Profile_C620 Tray 34 (Control)_oC': 192.75444173596333, 'Tatoray Stripper C620 Operation_Specifications_Spec 2 : Distillate Rate_m3/hr': 0.2588412280774489}. Best is trial 250 with value: 1.0000011192172877.\u001b[0m\n",
            "\u001b[32m[I 2021-04-27 06:15:42,627]\u001b[0m Trial 268 finished with value: 1.0000138873648732 and parameters: {'Tatoray Stripper C620 Operation_Column Temp Profile_C620 Tray 14 (Control)_oC': 177.90138471087118, 'Tatoray Stripper C620 Operation_Column Temp Profile_C620 Tray 34 (Control)_oC': 192.75557895105942, 'Tatoray Stripper C620 Operation_Specifications_Spec 2 : Distillate Rate_m3/hr': 0.2829417331183321}. Best is trial 250 with value: 1.0000011192172877.\u001b[0m\n",
            "\u001b[32m[I 2021-04-27 06:15:42,711]\u001b[0m Trial 269 finished with value: 1.0000156146052053 and parameters: {'Tatoray Stripper C620 Operation_Column Temp Profile_C620 Tray 14 (Control)_oC': 177.94390136570158, 'Tatoray Stripper C620 Operation_Column Temp Profile_C620 Tray 34 (Control)_oC': 192.75236823241002, 'Tatoray Stripper C620 Operation_Specifications_Spec 2 : Distillate Rate_m3/hr': 0.23716900414638947}. Best is trial 250 with value: 1.0000011192172877.\u001b[0m\n",
            "\u001b[32m[I 2021-04-27 06:15:42,792]\u001b[0m Trial 270 finished with value: 1.0000064404856752 and parameters: {'Tatoray Stripper C620 Operation_Column Temp Profile_C620 Tray 14 (Control)_oC': 177.9201318617061, 'Tatoray Stripper C620 Operation_Column Temp Profile_C620 Tray 34 (Control)_oC': 192.75423613393232, 'Tatoray Stripper C620 Operation_Specifications_Spec 2 : Distillate Rate_m3/hr': 0.2658957443207946}. Best is trial 250 with value: 1.0000011192172877.\u001b[0m\n",
            "\u001b[32m[I 2021-04-27 06:15:42,874]\u001b[0m Trial 271 finished with value: 1.0000130039112731 and parameters: {'Tatoray Stripper C620 Operation_Column Temp Profile_C620 Tray 14 (Control)_oC': 177.90037376747821, 'Tatoray Stripper C620 Operation_Column Temp Profile_C620 Tray 34 (Control)_oC': 192.7556596047413, 'Tatoray Stripper C620 Operation_Specifications_Spec 2 : Distillate Rate_m3/hr': 0.28441655291918594}. Best is trial 250 with value: 1.0000011192172877.\u001b[0m\n",
            "\u001b[32m[I 2021-04-27 06:15:42,963]\u001b[0m Trial 272 finished with value: 1.0000018015687302 and parameters: {'Tatoray Stripper C620 Operation_Column Temp Profile_C620 Tray 14 (Control)_oC': 177.91397349197095, 'Tatoray Stripper C620 Operation_Column Temp Profile_C620 Tray 34 (Control)_oC': 192.75485240666944, 'Tatoray Stripper C620 Operation_Specifications_Spec 2 : Distillate Rate_m3/hr': 0.2757046242557327}. Best is trial 250 with value: 1.0000011192172877.\u001b[0m\n",
            "\u001b[32m[I 2021-04-27 06:15:43,061]\u001b[0m Trial 273 finished with value: 1.000025055122217 and parameters: {'Tatoray Stripper C620 Operation_Column Temp Profile_C620 Tray 14 (Control)_oC': 177.90766874854455, 'Tatoray Stripper C620 Operation_Column Temp Profile_C620 Tray 34 (Control)_oC': 192.75484699408108, 'Tatoray Stripper C620 Operation_Specifications_Spec 2 : Distillate Rate_m3/hr': 0.2755379930110796}. Best is trial 250 with value: 1.0000011192172877.\u001b[0m\n",
            "\u001b[32m[I 2021-04-27 06:15:43,159]\u001b[0m Trial 274 finished with value: 1.000006391484027 and parameters: {'Tatoray Stripper C620 Operation_Column Temp Profile_C620 Tray 14 (Control)_oC': 177.89523335044305, 'Tatoray Stripper C620 Operation_Column Temp Profile_C620 Tray 34 (Control)_oC': 192.75666639599856, 'Tatoray Stripper C620 Operation_Specifications_Spec 2 : Distillate Rate_m3/hr': 0.30755581124633885}. Best is trial 250 with value: 1.0000011192172877.\u001b[0m\n",
            "\u001b[32m[I 2021-04-27 06:15:43,256]\u001b[0m Trial 275 finished with value: 1.000010308681193 and parameters: {'Tatoray Stripper C620 Operation_Column Temp Profile_C620 Tray 14 (Control)_oC': 177.90649030039057, 'Tatoray Stripper C620 Operation_Column Temp Profile_C620 Tray 34 (Control)_oC': 192.7547548336629, 'Tatoray Stripper C620 Operation_Specifications_Spec 2 : Distillate Rate_m3/hr': 0.2662156387921003}. Best is trial 250 with value: 1.0000011192172877.\u001b[0m\n",
            "\u001b[32m[I 2021-04-27 06:15:43,345]\u001b[0m Trial 276 finished with value: 1.0000055234532197 and parameters: {'Tatoray Stripper C620 Operation_Column Temp Profile_C620 Tray 14 (Control)_oC': 177.90803814948802, 'Tatoray Stripper C620 Operation_Column Temp Profile_C620 Tray 34 (Control)_oC': 192.75486889629602, 'Tatoray Stripper C620 Operation_Specifications_Spec 2 : Distillate Rate_m3/hr': 0.27301724763062696}. Best is trial 250 with value: 1.0000011192172877.\u001b[0m\n",
            "\u001b[32m[I 2021-04-27 06:15:43,430]\u001b[0m Trial 277 finished with value: 1.0000107732886232 and parameters: {'Tatoray Stripper C620 Operation_Column Temp Profile_C620 Tray 14 (Control)_oC': 177.9090690446957, 'Tatoray Stripper C620 Operation_Column Temp Profile_C620 Tray 34 (Control)_oC': 192.7547049801602, 'Tatoray Stripper C620 Operation_Specifications_Spec 2 : Distillate Rate_m3/hr': 0.26675641368636355}. Best is trial 250 with value: 1.0000011192172877.\u001b[0m\n",
            "\u001b[32m[I 2021-04-27 06:15:43,522]\u001b[0m Trial 278 finished with value: 1.0000192734948241 and parameters: {'Tatoray Stripper C620 Operation_Column Temp Profile_C620 Tray 14 (Control)_oC': 177.88646973119742, 'Tatoray Stripper C620 Operation_Column Temp Profile_C620 Tray 34 (Control)_oC': 192.75662475567805, 'Tatoray Stripper C620 Operation_Specifications_Spec 2 : Distillate Rate_m3/hr': 0.2977887374527603}. Best is trial 250 with value: 1.0000011192172877.\u001b[0m\n",
            "\u001b[32m[I 2021-04-27 06:15:43,613]\u001b[0m Trial 279 finished with value: 1.000032783517694 and parameters: {'Tatoray Stripper C620 Operation_Column Temp Profile_C620 Tray 14 (Control)_oC': 177.9145006708027, 'Tatoray Stripper C620 Operation_Column Temp Profile_C620 Tray 34 (Control)_oC': 192.75506340778438, 'Tatoray Stripper C620 Operation_Specifications_Spec 2 : Distillate Rate_m3/hr': 0.28745796855549516}. Best is trial 250 with value: 1.0000011192172877.\u001b[0m\n",
            "\u001b[32m[I 2021-04-27 06:15:43,694]\u001b[0m Trial 280 finished with value: 1.0000153981281106 and parameters: {'Tatoray Stripper C620 Operation_Column Temp Profile_C620 Tray 14 (Control)_oC': 177.9403508629343, 'Tatoray Stripper C620 Operation_Column Temp Profile_C620 Tray 34 (Control)_oC': 192.7530255776669, 'Tatoray Stripper C620 Operation_Specifications_Spec 2 : Distillate Rate_m3/hr': 0.2513445709168092}. Best is trial 250 with value: 1.0000011192172877.\u001b[0m\n",
            "\u001b[32m[I 2021-04-27 06:15:43,780]\u001b[0m Trial 281 finished with value: 1.0000145147337671 and parameters: {'Tatoray Stripper C620 Operation_Column Temp Profile_C620 Tray 14 (Control)_oC': 177.9004306592481, 'Tatoray Stripper C620 Operation_Column Temp Profile_C620 Tray 34 (Control)_oC': 192.75573066854363, 'Tatoray Stripper C620 Operation_Specifications_Spec 2 : Distillate Rate_m3/hr': 0.28602258801250485}. Best is trial 250 with value: 1.0000011192172877.\u001b[0m\n",
            "\u001b[32m[I 2021-04-27 06:15:43,861]\u001b[0m Trial 282 finished with value: 1.0000138448119293 and parameters: {'Tatoray Stripper C620 Operation_Column Temp Profile_C620 Tray 14 (Control)_oC': 177.90693256544787, 'Tatoray Stripper C620 Operation_Column Temp Profile_C620 Tray 34 (Control)_oC': 192.75512007984796, 'Tatoray Stripper C620 Operation_Specifications_Spec 2 : Distillate Rate_m3/hr': 0.2800700121124122}. Best is trial 250 with value: 1.0000011192172877.\u001b[0m\n",
            "\u001b[32m[I 2021-04-27 06:15:43,937]\u001b[0m Trial 283 finished with value: 1.0000368859949509 and parameters: {'Tatoray Stripper C620 Operation_Column Temp Profile_C620 Tray 14 (Control)_oC': 177.92724305770307, 'Tatoray Stripper C620 Operation_Column Temp Profile_C620 Tray 34 (Control)_oC': 192.75353687289586, 'Tatoray Stripper C620 Operation_Specifications_Spec 2 : Distillate Rate_m3/hr': 0.2584483422111009}. Best is trial 250 with value: 1.0000011192172877.\u001b[0m\n",
            "\u001b[32m[I 2021-04-27 06:15:44,022]\u001b[0m Trial 284 finished with value: 1.0000032254713542 and parameters: {'Tatoray Stripper C620 Operation_Column Temp Profile_C620 Tray 14 (Control)_oC': 177.89761449945607, 'Tatoray Stripper C620 Operation_Column Temp Profile_C620 Tray 34 (Control)_oC': 192.7559467771101, 'Tatoray Stripper C620 Operation_Specifications_Spec 2 : Distillate Rate_m3/hr': 0.291406918710641}. Best is trial 250 with value: 1.0000011192172877.\u001b[0m\n",
            "\u001b[32m[I 2021-04-27 06:15:44,116]\u001b[0m Trial 285 finished with value: 1.000010237907011 and parameters: {'Tatoray Stripper C620 Operation_Column Temp Profile_C620 Tray 14 (Control)_oC': 177.91829914513363, 'Tatoray Stripper C620 Operation_Column Temp Profile_C620 Tray 34 (Control)_oC': 192.754865364174, 'Tatoray Stripper C620 Operation_Specifications_Spec 2 : Distillate Rate_m3/hr': 0.2777862066679894}. Best is trial 250 with value: 1.0000011192172877.\u001b[0m\n",
            "\u001b[32m[I 2021-04-27 06:15:44,199]\u001b[0m Trial 286 finished with value: 1.0000356849319323 and parameters: {'Tatoray Stripper C620 Operation_Column Temp Profile_C620 Tray 14 (Control)_oC': 177.9268922756665, 'Tatoray Stripper C620 Operation_Column Temp Profile_C620 Tray 34 (Control)_oC': 192.75392869796548, 'Tatoray Stripper C620 Operation_Specifications_Spec 2 : Distillate Rate_m3/hr': 0.26803963136434483}. Best is trial 250 with value: 1.0000011192172877.\u001b[0m\n",
            "\u001b[32m[I 2021-04-27 06:15:44,278]\u001b[0m Trial 287 finished with value: 1.0000270616240208 and parameters: {'Tatoray Stripper C620 Operation_Column Temp Profile_C620 Tray 14 (Control)_oC': 177.92536635177237, 'Tatoray Stripper C620 Operation_Column Temp Profile_C620 Tray 34 (Control)_oC': 192.75370990635335, 'Tatoray Stripper C620 Operation_Specifications_Spec 2 : Distillate Rate_m3/hr': 0.2598237098185877}. Best is trial 250 with value: 1.0000011192172877.\u001b[0m\n",
            "\u001b[32m[I 2021-04-27 06:15:44,360]\u001b[0m Trial 288 finished with value: 1.000003896548876 and parameters: {'Tatoray Stripper C620 Operation_Column Temp Profile_C620 Tray 14 (Control)_oC': 177.91534938918886, 'Tatoray Stripper C620 Operation_Column Temp Profile_C620 Tray 34 (Control)_oC': 192.75464804807956, 'Tatoray Stripper C620 Operation_Specifications_Spec 2 : Distillate Rate_m3/hr': 0.2711235521896867}. Best is trial 250 with value: 1.0000011192172877.\u001b[0m\n",
            "\u001b[32m[I 2021-04-27 06:15:44,449]\u001b[0m Trial 289 finished with value: 1.0000147735216005 and parameters: {'Tatoray Stripper C620 Operation_Column Temp Profile_C620 Tray 14 (Control)_oC': 177.91525122007286, 'Tatoray Stripper C620 Operation_Column Temp Profile_C620 Tray 34 (Control)_oC': 192.75469057979728, 'Tatoray Stripper C620 Operation_Specifications_Spec 2 : Distillate Rate_m3/hr': 0.2702738326805594}. Best is trial 250 with value: 1.0000011192172877.\u001b[0m\n",
            "\u001b[32m[I 2021-04-27 06:15:44,554]\u001b[0m Trial 290 finished with value: 1.000016608864371 and parameters: {'Tatoray Stripper C620 Operation_Column Temp Profile_C620 Tray 14 (Control)_oC': 177.93214949309657, 'Tatoray Stripper C620 Operation_Column Temp Profile_C620 Tray 34 (Control)_oC': 192.75392600785528, 'Tatoray Stripper C620 Operation_Specifications_Spec 2 : Distillate Rate_m3/hr': 0.26285860586099774}. Best is trial 250 with value: 1.0000011192172877.\u001b[0m\n",
            "\u001b[32m[I 2021-04-27 06:15:44,640]\u001b[0m Trial 291 finished with value: 1.0000059873216602 and parameters: {'Tatoray Stripper C620 Operation_Column Temp Profile_C620 Tray 14 (Control)_oC': 177.92177909460366, 'Tatoray Stripper C620 Operation_Column Temp Profile_C620 Tray 34 (Control)_oC': 192.75412231216131, 'Tatoray Stripper C620 Operation_Specifications_Spec 2 : Distillate Rate_m3/hr': 0.26205058771423156}. Best is trial 250 with value: 1.0000011192172877.\u001b[0m\n",
            "\u001b[32m[I 2021-04-27 06:15:44,726]\u001b[0m Trial 292 finished with value: 1.0000139143804374 and parameters: {'Tatoray Stripper C620 Operation_Column Temp Profile_C620 Tray 14 (Control)_oC': 177.89257740278342, 'Tatoray Stripper C620 Operation_Column Temp Profile_C620 Tray 34 (Control)_oC': 192.75673998919143, 'Tatoray Stripper C620 Operation_Specifications_Spec 2 : Distillate Rate_m3/hr': 0.306189149634738}. Best is trial 250 with value: 1.0000011192172877.\u001b[0m\n",
            "\u001b[32m[I 2021-04-27 06:15:44,819]\u001b[0m Trial 293 finished with value: 1.0000058038731598 and parameters: {'Tatoray Stripper C620 Operation_Column Temp Profile_C620 Tray 14 (Control)_oC': 177.90688723898998, 'Tatoray Stripper C620 Operation_Column Temp Profile_C620 Tray 34 (Control)_oC': 192.7550087350906, 'Tatoray Stripper C620 Operation_Specifications_Spec 2 : Distillate Rate_m3/hr': 0.27579310198555285}. Best is trial 250 with value: 1.0000011192172877.\u001b[0m\n",
            "\u001b[32m[I 2021-04-27 06:15:44,908]\u001b[0m Trial 294 finished with value: 1.0000073246174332 and parameters: {'Tatoray Stripper C620 Operation_Column Temp Profile_C620 Tray 14 (Control)_oC': 177.91258643645793, 'Tatoray Stripper C620 Operation_Column Temp Profile_C620 Tray 34 (Control)_oC': 192.75471261728168, 'Tatoray Stripper C620 Operation_Specifications_Spec 2 : Distillate Rate_m3/hr': 0.27267774225146596}. Best is trial 250 with value: 1.0000011192172877.\u001b[0m\n",
            "\u001b[32m[I 2021-04-27 06:15:44,994]\u001b[0m Trial 295 finished with value: 1.0000039777611787 and parameters: {'Tatoray Stripper C620 Operation_Column Temp Profile_C620 Tray 14 (Control)_oC': 177.9057575197403, 'Tatoray Stripper C620 Operation_Column Temp Profile_C620 Tray 34 (Control)_oC': 192.75511816558316, 'Tatoray Stripper C620 Operation_Specifications_Spec 2 : Distillate Rate_m3/hr': 0.2760622464455434}. Best is trial 250 with value: 1.0000011192172877.\u001b[0m\n",
            "\u001b[32m[I 2021-04-27 06:15:45,092]\u001b[0m Trial 296 finished with value: 1.0000190697355498 and parameters: {'Tatoray Stripper C620 Operation_Column Temp Profile_C620 Tray 14 (Control)_oC': 177.9032909917313, 'Tatoray Stripper C620 Operation_Column Temp Profile_C620 Tray 34 (Control)_oC': 192.75480618971488, 'Tatoray Stripper C620 Operation_Specifications_Spec 2 : Distillate Rate_m3/hr': 0.27022140422177704}. Best is trial 250 with value: 1.0000011192172877.\u001b[0m\n",
            "\u001b[32m[I 2021-04-27 06:15:45,187]\u001b[0m Trial 297 finished with value: 1.0000181756339204 and parameters: {'Tatoray Stripper C620 Operation_Column Temp Profile_C620 Tray 14 (Control)_oC': 177.91811477932714, 'Tatoray Stripper C620 Operation_Column Temp Profile_C620 Tray 34 (Control)_oC': 192.75443856285105, 'Tatoray Stripper C620 Operation_Specifications_Spec 2 : Distillate Rate_m3/hr': 0.2653411537667116}. Best is trial 250 with value: 1.0000011192172877.\u001b[0m\n",
            "\u001b[32m[I 2021-04-27 06:15:45,268]\u001b[0m Trial 298 finished with value: 1.0000111512038599 and parameters: {'Tatoray Stripper C620 Operation_Column Temp Profile_C620 Tray 14 (Control)_oC': 177.90196419062835, 'Tatoray Stripper C620 Operation_Column Temp Profile_C620 Tray 34 (Control)_oC': 192.75513981338045, 'Tatoray Stripper C620 Operation_Specifications_Spec 2 : Distillate Rate_m3/hr': 0.276445587013767}. Best is trial 250 with value: 1.0000011192172877.\u001b[0m\n",
            "\u001b[32m[I 2021-04-27 06:15:45,355]\u001b[0m Trial 299 finished with value: 1.000010455274507 and parameters: {'Tatoray Stripper C620 Operation_Column Temp Profile_C620 Tray 14 (Control)_oC': 177.90787272873402, 'Tatoray Stripper C620 Operation_Column Temp Profile_C620 Tray 34 (Control)_oC': 192.75523105463222, 'Tatoray Stripper C620 Operation_Specifications_Spec 2 : Distillate Rate_m3/hr': 0.2830144856093171}. Best is trial 250 with value: 1.0000011192172877.\u001b[0m\n",
            "\u001b[32m[I 2021-04-27 06:15:45,456]\u001b[0m A new study created in memory with name: no-name-adc9356e-b295-4428-a040-bed4c0e137b0\u001b[0m\n",
            "\u001b[32m[I 2021-04-27 06:15:45,545]\u001b[0m Trial 0 finished with value: 0.7942737860028481 and parameters: {'Benzene Column C660 Operation_Column Temp Profile_C660 Tray 6 (SD & Control)_oC': 86.47417913674789, 'Benzene Column C660 Operation_Column Temp Profile_C660 Tray 23 (Control)_oC': 89.72749262180037, 'Simulation Case Conditions_Spec 2 : NA in Benzene_ppmw': 802.3172580345295}. Best is trial 0 with value: 0.7942737860028481.\u001b[0m\n",
            "\u001b[32m[I 2021-04-27 06:15:45,626]\u001b[0m Trial 1 finished with value: 1.8676049007991242 and parameters: {'Benzene Column C660 Operation_Column Temp Profile_C660 Tray 6 (SD & Control)_oC': 87.12832816002603, 'Benzene Column C660 Operation_Column Temp Profile_C660 Tray 23 (Control)_oC': 91.28248748148246, 'Simulation Case Conditions_Spec 2 : NA in Benzene_ppmw': 979.5539453254875}. Best is trial 0 with value: 0.7942737860028481.\u001b[0m\n",
            "\u001b[32m[I 2021-04-27 06:15:45,714]\u001b[0m Trial 2 finished with value: 0.18233620644371687 and parameters: {'Benzene Column C660 Operation_Column Temp Profile_C660 Tray 6 (SD & Control)_oC': 86.88085315436172, 'Benzene Column C660 Operation_Column Temp Profile_C660 Tray 23 (Control)_oC': 91.24114697419603, 'Simulation Case Conditions_Spec 2 : NA in Benzene_ppmw': 979.6705026580665}. Best is trial 2 with value: 0.18233620644371687.\u001b[0m\n",
            "\u001b[32m[I 2021-04-27 06:15:45,803]\u001b[0m Trial 3 finished with value: 0.3324914566815983 and parameters: {'Benzene Column C660 Operation_Column Temp Profile_C660 Tray 6 (SD & Control)_oC': 86.73602738821556, 'Benzene Column C660 Operation_Column Temp Profile_C660 Tray 23 (Control)_oC': 91.2025746576287, 'Simulation Case Conditions_Spec 2 : NA in Benzene_ppmw': 979.9330924558514}. Best is trial 2 with value: 0.18233620644371687.\u001b[0m\n",
            "\u001b[32m[I 2021-04-27 06:15:45,890]\u001b[0m Trial 4 finished with value: 0.5050195253370298 and parameters: {'Benzene Column C660 Operation_Column Temp Profile_C660 Tray 6 (SD & Control)_oC': 86.94411351514246, 'Benzene Column C660 Operation_Column Temp Profile_C660 Tray 23 (Control)_oC': 91.27898324314268, 'Simulation Case Conditions_Spec 2 : NA in Benzene_ppmw': 979.9900665202647}. Best is trial 2 with value: 0.18233620644371687.\u001b[0m\n",
            "\u001b[32m[I 2021-04-27 06:15:45,981]\u001b[0m Trial 5 finished with value: 0.5453124733738122 and parameters: {'Benzene Column C660 Operation_Column Temp Profile_C660 Tray 6 (SD & Control)_oC': 86.93924178937691, 'Benzene Column C660 Operation_Column Temp Profile_C660 Tray 23 (Control)_oC': 91.02187578542006, 'Simulation Case Conditions_Spec 2 : NA in Benzene_ppmw': 979.8740957951305}. Best is trial 2 with value: 0.18233620644371687.\u001b[0m\n",
            "\u001b[32m[I 2021-04-27 06:15:46,069]\u001b[0m Trial 6 finished with value: 0.4065259511661836 and parameters: {'Benzene Column C660 Operation_Column Temp Profile_C660 Tray 6 (SD & Control)_oC': 86.71803376244128, 'Benzene Column C660 Operation_Column Temp Profile_C660 Tray 23 (Control)_oC': 91.45858790279206, 'Simulation Case Conditions_Spec 2 : NA in Benzene_ppmw': 979.7885273072861}. Best is trial 2 with value: 0.18233620644371687.\u001b[0m\n",
            "\u001b[32m[I 2021-04-27 06:15:46,166]\u001b[0m Trial 7 finished with value: 0.14835598118066187 and parameters: {'Benzene Column C660 Operation_Column Temp Profile_C660 Tray 6 (SD & Control)_oC': 86.79561304110679, 'Benzene Column C660 Operation_Column Temp Profile_C660 Tray 23 (Control)_oC': 91.16944878222901, 'Simulation Case Conditions_Spec 2 : NA in Benzene_ppmw': 979.8765233474652}. Best is trial 7 with value: 0.14835598118066187.\u001b[0m\n",
            "\u001b[32m[I 2021-04-27 06:15:46,255]\u001b[0m Trial 8 finished with value: 0.5223857634630061 and parameters: {'Benzene Column C660 Operation_Column Temp Profile_C660 Tray 6 (SD & Control)_oC': 86.93264926406212, 'Benzene Column C660 Operation_Column Temp Profile_C660 Tray 23 (Control)_oC': 90.96284763148576, 'Simulation Case Conditions_Spec 2 : NA in Benzene_ppmw': 979.8326522814114}. Best is trial 7 with value: 0.14835598118066187.\u001b[0m\n",
            "\u001b[32m[I 2021-04-27 06:15:46,346]\u001b[0m Trial 9 finished with value: 0.6861801515252822 and parameters: {'Benzene Column C660 Operation_Column Temp Profile_C660 Tray 6 (SD & Control)_oC': 86.97594851391067, 'Benzene Column C660 Operation_Column Temp Profile_C660 Tray 23 (Control)_oC': 91.31499366736831, 'Simulation Case Conditions_Spec 2 : NA in Benzene_ppmw': 979.6893795449519}. Best is trial 7 with value: 0.14835598118066187.\u001b[0m\n",
            "\u001b[32m[I 2021-04-27 06:15:46,439]\u001b[0m Trial 10 finished with value: 0.37609280562204356 and parameters: {'Benzene Column C660 Operation_Column Temp Profile_C660 Tray 6 (SD & Control)_oC': 86.71606107108495, 'Benzene Column C660 Operation_Column Temp Profile_C660 Tray 23 (Control)_oC': 91.13265761576989, 'Simulation Case Conditions_Spec 2 : NA in Benzene_ppmw': 979.4898731449413}. Best is trial 7 with value: 0.14835598118066187.\u001b[0m\n",
            "\u001b[32m[I 2021-04-27 06:15:46,531]\u001b[0m Trial 11 finished with value: 0.5592613429167416 and parameters: {'Benzene Column C660 Operation_Column Temp Profile_C660 Tray 6 (SD & Control)_oC': 86.63685581852965, 'Benzene Column C660 Operation_Column Temp Profile_C660 Tray 23 (Control)_oC': 91.39127752184461, 'Simulation Case Conditions_Spec 2 : NA in Benzene_ppmw': 979.5361737342432}. Best is trial 7 with value: 0.14835598118066187.\u001b[0m\n",
            "\u001b[32m[I 2021-04-27 06:15:46,615]\u001b[0m Trial 12 finished with value: 0.14013724025295649 and parameters: {'Benzene Column C660 Operation_Column Temp Profile_C660 Tray 6 (SD & Control)_oC': 86.78514388397443, 'Benzene Column C660 Operation_Column Temp Profile_C660 Tray 23 (Control)_oC': 90.88862167378662, 'Simulation Case Conditions_Spec 2 : NA in Benzene_ppmw': 979.7832916488359}. Best is trial 12 with value: 0.14013724025295649.\u001b[0m\n",
            "\u001b[32m[I 2021-04-27 06:15:46,706]\u001b[0m Trial 13 finished with value: 1.9608391832790024 and parameters: {'Benzene Column C660 Operation_Column Temp Profile_C660 Tray 6 (SD & Control)_oC': 87.13669075707426, 'Benzene Column C660 Operation_Column Temp Profile_C660 Tray 23 (Control)_oC': 91.24402110305196, 'Simulation Case Conditions_Spec 2 : NA in Benzene_ppmw': 979.9265505091868}. Best is trial 12 with value: 0.14013724025295649.\u001b[0m\n",
            "\u001b[32m[I 2021-04-27 06:15:46,805]\u001b[0m Trial 14 finished with value: 1.2954405596944751 and parameters: {'Benzene Column C660 Operation_Column Temp Profile_C660 Tray 6 (SD & Control)_oC': 87.05919339863264, 'Benzene Column C660 Operation_Column Temp Profile_C660 Tray 23 (Control)_oC': 91.26512732431257, 'Simulation Case Conditions_Spec 2 : NA in Benzene_ppmw': 979.7025486130234}. Best is trial 12 with value: 0.14013724025295649.\u001b[0m\n",
            "\u001b[32m[I 2021-04-27 06:15:46,887]\u001b[0m Trial 15 finished with value: 0.6815790060542435 and parameters: {'Benzene Column C660 Operation_Column Temp Profile_C660 Tray 6 (SD & Control)_oC': 86.95036093686241, 'Benzene Column C660 Operation_Column Temp Profile_C660 Tray 23 (Control)_oC': 90.77526388102493, 'Simulation Case Conditions_Spec 2 : NA in Benzene_ppmw': 979.6289385390772}. Best is trial 12 with value: 0.14013724025295649.\u001b[0m\n",
            "\u001b[32m[I 2021-04-27 06:15:46,975]\u001b[0m Trial 16 finished with value: 0.24000845887423586 and parameters: {'Benzene Column C660 Operation_Column Temp Profile_C660 Tray 6 (SD & Control)_oC': 86.88383129945827, 'Benzene Column C660 Operation_Column Temp Profile_C660 Tray 23 (Control)_oC': 91.04230537456543, 'Simulation Case Conditions_Spec 2 : NA in Benzene_ppmw': 979.5636889072604}. Best is trial 12 with value: 0.14013724025295649.\u001b[0m\n",
            "\u001b[32m[I 2021-04-27 06:15:47,074]\u001b[0m Trial 17 finished with value: 0.0821799509120738 and parameters: {'Benzene Column C660 Operation_Column Temp Profile_C660 Tray 6 (SD & Control)_oC': 86.82864461731089, 'Benzene Column C660 Operation_Column Temp Profile_C660 Tray 23 (Control)_oC': 90.5939997171382, 'Simulation Case Conditions_Spec 2 : NA in Benzene_ppmw': 979.6650090734812}. Best is trial 17 with value: 0.0821799509120738.\u001b[0m\n",
            "\u001b[32m[I 2021-04-27 06:15:47,169]\u001b[0m Trial 18 finished with value: 0.42795340544709753 and parameters: {'Benzene Column C660 Operation_Column Temp Profile_C660 Tray 6 (SD & Control)_oC': 86.92283565624497, 'Benzene Column C660 Operation_Column Temp Profile_C660 Tray 23 (Control)_oC': 91.10883300377189, 'Simulation Case Conditions_Spec 2 : NA in Benzene_ppmw': 979.7624251351222}. Best is trial 17 with value: 0.0821799509120738.\u001b[0m\n",
            "\u001b[32m[I 2021-04-27 06:15:47,251]\u001b[0m Trial 19 finished with value: 0.6296801193707623 and parameters: {'Benzene Column C660 Operation_Column Temp Profile_C660 Tray 6 (SD & Control)_oC': 86.55893726071764, 'Benzene Column C660 Operation_Column Temp Profile_C660 Tray 23 (Control)_oC': 90.75331791587881, 'Simulation Case Conditions_Spec 2 : NA in Benzene_ppmw': 979.6434695287483}. Best is trial 17 with value: 0.0821799509120738.\u001b[0m\n",
            "\u001b[32m[I 2021-04-27 06:15:47,343]\u001b[0m Trial 20 finished with value: 0.600818802883003 and parameters: {'Benzene Column C660 Operation_Column Temp Profile_C660 Tray 6 (SD & Control)_oC': 86.59186922275886, 'Benzene Column C660 Operation_Column Temp Profile_C660 Tray 23 (Control)_oC': 91.01060640232463, 'Simulation Case Conditions_Spec 2 : NA in Benzene_ppmw': 979.7780810656254}. Best is trial 17 with value: 0.0821799509120738.\u001b[0m\n",
            "\u001b[32m[I 2021-04-27 06:15:47,426]\u001b[0m Trial 21 finished with value: 0.6638463916142021 and parameters: {'Benzene Column C660 Operation_Column Temp Profile_C660 Tray 6 (SD & Control)_oC': 86.97131280914076, 'Benzene Column C660 Operation_Column Temp Profile_C660 Tray 23 (Control)_oC': 91.29509780223195, 'Simulation Case Conditions_Spec 2 : NA in Benzene_ppmw': 979.8828277289201}. Best is trial 17 with value: 0.0821799509120738.\u001b[0m\n",
            "\u001b[32m[I 2021-04-27 06:15:47,519]\u001b[0m Trial 22 finished with value: 0.431449488498573 and parameters: {'Benzene Column C660 Operation_Column Temp Profile_C660 Tray 6 (SD & Control)_oC': 86.6699114321746, 'Benzene Column C660 Operation_Column Temp Profile_C660 Tray 23 (Control)_oC': 90.64967605108856, 'Simulation Case Conditions_Spec 2 : NA in Benzene_ppmw': 979.6127360823051}. Best is trial 17 with value: 0.0821799509120738.\u001b[0m\n",
            "\u001b[32m[I 2021-04-27 06:15:47,597]\u001b[0m Trial 23 finished with value: 0.16421320584714322 and parameters: {'Benzene Column C660 Operation_Column Temp Profile_C660 Tray 6 (SD & Control)_oC': 86.7750676086848, 'Benzene Column C660 Operation_Column Temp Profile_C660 Tray 23 (Control)_oC': 90.81657424362987, 'Simulation Case Conditions_Spec 2 : NA in Benzene_ppmw': 979.4175553373333}. Best is trial 17 with value: 0.0821799509120738.\u001b[0m\n",
            "\u001b[32m[I 2021-04-27 06:15:47,686]\u001b[0m Trial 24 finished with value: 3.355069209625871 and parameters: {'Benzene Column C660 Operation_Column Temp Profile_C660 Tray 6 (SD & Control)_oC': 87.24852655569704, 'Benzene Column C660 Operation_Column Temp Profile_C660 Tray 23 (Control)_oC': 90.41722992540338, 'Simulation Case Conditions_Spec 2 : NA in Benzene_ppmw': 979.4600449256486}. Best is trial 17 with value: 0.0821799509120738.\u001b[0m\n",
            "\u001b[32m[I 2021-04-27 06:15:47,768]\u001b[0m Trial 25 finished with value: 0.32967144572066337 and parameters: {'Benzene Column C660 Operation_Column Temp Profile_C660 Tray 6 (SD & Control)_oC': 86.71515928306556, 'Benzene Column C660 Operation_Column Temp Profile_C660 Tray 23 (Control)_oC': 90.72242041232543, 'Simulation Case Conditions_Spec 2 : NA in Benzene_ppmw': 979.7203154839051}. Best is trial 17 with value: 0.0821799509120738.\u001b[0m\n",
            "\u001b[32m[I 2021-04-27 06:15:47,855]\u001b[0m Trial 26 finished with value: 1.3298719935088656 and parameters: {'Benzene Column C660 Operation_Column Temp Profile_C660 Tray 6 (SD & Control)_oC': 87.0237779774123, 'Benzene Column C660 Operation_Column Temp Profile_C660 Tray 23 (Control)_oC': 90.40435068623077, 'Simulation Case Conditions_Spec 2 : NA in Benzene_ppmw': 979.7714182097925}. Best is trial 17 with value: 0.0821799509120738.\u001b[0m\n",
            "\u001b[32m[I 2021-04-27 06:15:47,945]\u001b[0m Trial 27 finished with value: 0.06572342063825676 and parameters: {'Benzene Column C660 Operation_Column Temp Profile_C660 Tray 6 (SD & Control)_oC': 86.85083819116839, 'Benzene Column C660 Operation_Column Temp Profile_C660 Tray 23 (Control)_oC': 91.16382558748256, 'Simulation Case Conditions_Spec 2 : NA in Benzene_ppmw': 979.975566246012}. Best is trial 27 with value: 0.06572342063825676.\u001b[0m\n",
            "\u001b[32m[I 2021-04-27 06:15:48,037]\u001b[0m Trial 28 finished with value: 0.49061126482929945 and parameters: {'Benzene Column C660 Operation_Column Temp Profile_C660 Tray 6 (SD & Control)_oC': 86.66311467437916, 'Benzene Column C660 Operation_Column Temp Profile_C660 Tray 23 (Control)_oC': 91.1304101357992, 'Simulation Case Conditions_Spec 2 : NA in Benzene_ppmw': 979.9979241795663}. Best is trial 27 with value: 0.06572342063825676.\u001b[0m\n",
            "\u001b[32m[I 2021-04-27 06:15:48,233]\u001b[0m Trial 29 finished with value: 0.4529694757288549 and parameters: {'Benzene Column C660 Operation_Column Temp Profile_C660 Tray 6 (SD & Control)_oC': 86.68810822684837, 'Benzene Column C660 Operation_Column Temp Profile_C660 Tray 23 (Control)_oC': 91.26608122464921, 'Simulation Case Conditions_Spec 2 : NA in Benzene_ppmw': 979.8455309780344}. Best is trial 27 with value: 0.06572342063825676.\u001b[0m\n",
            "\u001b[32m[I 2021-04-27 06:15:48,319]\u001b[0m Trial 30 finished with value: 0.31346960529614715 and parameters: {'Benzene Column C660 Operation_Column Temp Profile_C660 Tray 6 (SD & Control)_oC': 86.73932010407792, 'Benzene Column C660 Operation_Column Temp Profile_C660 Tray 23 (Control)_oC': 91.11648717457234, 'Simulation Case Conditions_Spec 2 : NA in Benzene_ppmw': 979.7458315490484}. Best is trial 27 with value: 0.06572342063825676.\u001b[0m\n",
            "\u001b[32m[I 2021-04-27 06:15:48,408]\u001b[0m Trial 31 finished with value: 0.03827098337946655 and parameters: {'Benzene Column C660 Operation_Column Temp Profile_C660 Tray 6 (SD & Control)_oC': 86.84299954847273, 'Benzene Column C660 Operation_Column Temp Profile_C660 Tray 23 (Control)_oC': 91.13062306834529, 'Simulation Case Conditions_Spec 2 : NA in Benzene_ppmw': 979.7016704778383}. Best is trial 31 with value: 0.03827098337946655.\u001b[0m\n",
            "\u001b[32m[I 2021-04-27 06:15:48,495]\u001b[0m Trial 32 finished with value: 0.8390520255712378 and parameters: {'Benzene Column C660 Operation_Column Temp Profile_C660 Tray 6 (SD & Control)_oC': 86.9832997080473, 'Benzene Column C660 Operation_Column Temp Profile_C660 Tray 23 (Control)_oC': 90.97384058549868, 'Simulation Case Conditions_Spec 2 : NA in Benzene_ppmw': 979.9388676561309}. Best is trial 31 with value: 0.03827098337946655.\u001b[0m\n",
            "\u001b[32m[I 2021-04-27 06:15:48,577]\u001b[0m Trial 33 finished with value: 0.38625833837833207 and parameters: {'Benzene Column C660 Operation_Column Temp Profile_C660 Tray 6 (SD & Control)_oC': 86.90623140928975, 'Benzene Column C660 Operation_Column Temp Profile_C660 Tray 23 (Control)_oC': 90.91501899742715, 'Simulation Case Conditions_Spec 2 : NA in Benzene_ppmw': 979.7820017460285}. Best is trial 31 with value: 0.03827098337946655.\u001b[0m\n",
            "\u001b[32m[I 2021-04-27 06:15:48,663]\u001b[0m Trial 34 finished with value: 0.5752799595881329 and parameters: {'Benzene Column C660 Operation_Column Temp Profile_C660 Tray 6 (SD & Control)_oC': 86.93765703090838, 'Benzene Column C660 Operation_Column Temp Profile_C660 Tray 23 (Control)_oC': 90.87911483913506, 'Simulation Case Conditions_Spec 2 : NA in Benzene_ppmw': 979.9027114633273}. Best is trial 31 with value: 0.03827098337946655.\u001b[0m\n",
            "\u001b[32m[I 2021-04-27 06:15:48,751]\u001b[0m Trial 35 finished with value: 0.2877749967324172 and parameters: {'Benzene Column C660 Operation_Column Temp Profile_C660 Tray 6 (SD & Control)_oC': 86.73470077470073, 'Benzene Column C660 Operation_Column Temp Profile_C660 Tray 23 (Control)_oC': 90.81248263089847, 'Simulation Case Conditions_Spec 2 : NA in Benzene_ppmw': 979.5886454026723}. Best is trial 31 with value: 0.03827098337946655.\u001b[0m\n",
            "\u001b[32m[I 2021-04-27 06:15:48,841]\u001b[0m Trial 36 finished with value: 0.1912028584909577 and parameters: {'Benzene Column C660 Operation_Column Temp Profile_C660 Tray 6 (SD & Control)_oC': 86.77561182458327, 'Benzene Column C660 Operation_Column Temp Profile_C660 Tray 23 (Control)_oC': 91.00611544471869, 'Simulation Case Conditions_Spec 2 : NA in Benzene_ppmw': 979.4208342057952}. Best is trial 31 with value: 0.03827098337946655.\u001b[0m\n",
            "\u001b[32m[I 2021-04-27 06:15:48,937]\u001b[0m Trial 37 finished with value: 0.12844356997531314 and parameters: {'Benzene Column C660 Operation_Column Temp Profile_C660 Tray 6 (SD & Control)_oC': 86.79722290960505, 'Benzene Column C660 Operation_Column Temp Profile_C660 Tray 23 (Control)_oC': 91.07276212239253, 'Simulation Case Conditions_Spec 2 : NA in Benzene_ppmw': 979.532326532174}. Best is trial 31 with value: 0.03827098337946655.\u001b[0m\n",
            "\u001b[32m[I 2021-04-27 06:15:49,025]\u001b[0m Trial 38 finished with value: 0.3967111570902827 and parameters: {'Benzene Column C660 Operation_Column Temp Profile_C660 Tray 6 (SD & Control)_oC': 86.91559645628995, 'Benzene Column C660 Operation_Column Temp Profile_C660 Tray 23 (Control)_oC': 91.07531922615665, 'Simulation Case Conditions_Spec 2 : NA in Benzene_ppmw': 979.7495080785164}. Best is trial 31 with value: 0.03827098337946655.\u001b[0m\n",
            "\u001b[32m[I 2021-04-27 06:15:49,115]\u001b[0m Trial 39 finished with value: 0.30239336798064653 and parameters: {'Benzene Column C660 Operation_Column Temp Profile_C660 Tray 6 (SD & Control)_oC': 86.72747979908968, 'Benzene Column C660 Operation_Column Temp Profile_C660 Tray 23 (Control)_oC': 90.77157129605003, 'Simulation Case Conditions_Spec 2 : NA in Benzene_ppmw': 979.7233590907053}. Best is trial 31 with value: 0.03827098337946655.\u001b[0m\n",
            "\u001b[32m[I 2021-04-27 06:15:49,216]\u001b[0m Trial 40 finished with value: 0.21160620603523603 and parameters: {'Benzene Column C660 Operation_Column Temp Profile_C660 Tray 6 (SD & Control)_oC': 86.77913712040592, 'Benzene Column C660 Operation_Column Temp Profile_C660 Tray 23 (Control)_oC': 91.23081906159703, 'Simulation Case Conditions_Spec 2 : NA in Benzene_ppmw': 979.927879326533}. Best is trial 31 with value: 0.03827098337946655.\u001b[0m\n",
            "\u001b[32m[I 2021-04-27 06:15:49,306]\u001b[0m Trial 41 finished with value: 0.5264852122448225 and parameters: {'Benzene Column C660 Operation_Column Temp Profile_C660 Tray 6 (SD & Control)_oC': 86.64579198970375, 'Benzene Column C660 Operation_Column Temp Profile_C660 Tray 23 (Control)_oC': 91.16789652511083, 'Simulation Case Conditions_Spec 2 : NA in Benzene_ppmw': 979.6599362694402}. Best is trial 31 with value: 0.03827098337946655.\u001b[0m\n",
            "\u001b[32m[I 2021-04-27 06:15:49,384]\u001b[0m Trial 42 finished with value: 0.2839272662855693 and parameters: {'Benzene Column C660 Operation_Column Temp Profile_C660 Tray 6 (SD & Control)_oC': 86.73015235875334, 'Benzene Column C660 Operation_Column Temp Profile_C660 Tray 23 (Control)_oC': 90.68409824390517, 'Simulation Case Conditions_Spec 2 : NA in Benzene_ppmw': 979.5730278790651}. Best is trial 31 with value: 0.03827098337946655.\u001b[0m\n",
            "\u001b[32m[I 2021-04-27 06:15:49,470]\u001b[0m Trial 43 finished with value: 0.4451992696549371 and parameters: {'Benzene Column C660 Operation_Column Temp Profile_C660 Tray 6 (SD & Control)_oC': 86.67527367175047, 'Benzene Column C660 Operation_Column Temp Profile_C660 Tray 23 (Control)_oC': 90.89787983555392, 'Simulation Case Conditions_Spec 2 : NA in Benzene_ppmw': 979.3183013227117}. Best is trial 31 with value: 0.03827098337946655.\u001b[0m\n",
            "\u001b[32m[I 2021-04-27 06:15:49,557]\u001b[0m Trial 44 finished with value: 0.029440902607390757 and parameters: {'Benzene Column C660 Operation_Column Temp Profile_C660 Tray 6 (SD & Control)_oC': 86.8157558694626, 'Benzene Column C660 Operation_Column Temp Profile_C660 Tray 23 (Control)_oC': 90.89638817679692, 'Simulation Case Conditions_Spec 2 : NA in Benzene_ppmw': 979.6984462155822}. Best is trial 44 with value: 0.029440902607390757.\u001b[0m\n",
            "\u001b[32m[I 2021-04-27 06:15:49,652]\u001b[0m Trial 45 finished with value: 0.461787355644047 and parameters: {'Benzene Column C660 Operation_Column Temp Profile_C660 Tray 6 (SD & Control)_oC': 86.66663687345779, 'Benzene Column C660 Operation_Column Temp Profile_C660 Tray 23 (Control)_oC': 90.88389018092855, 'Simulation Case Conditions_Spec 2 : NA in Benzene_ppmw': 979.4508255550589}. Best is trial 44 with value: 0.029440902607390757.\u001b[0m\n",
            "\u001b[32m[I 2021-04-27 06:15:49,744]\u001b[0m Trial 46 finished with value: 0.14957118785322288 and parameters: {'Benzene Column C660 Operation_Column Temp Profile_C660 Tray 6 (SD & Control)_oC': 86.84996209471363, 'Benzene Column C660 Operation_Column Temp Profile_C660 Tray 23 (Control)_oC': 90.73140838214081, 'Simulation Case Conditions_Spec 2 : NA in Benzene_ppmw': 979.9387695902836}. Best is trial 44 with value: 0.029440902607390757.\u001b[0m\n",
            "\u001b[32m[I 2021-04-27 06:15:49,827]\u001b[0m Trial 47 finished with value: 0.20863858958053788 and parameters: {'Benzene Column C660 Operation_Column Temp Profile_C660 Tray 6 (SD & Control)_oC': 86.77432750979914, 'Benzene Column C660 Operation_Column Temp Profile_C660 Tray 23 (Control)_oC': 91.1005535344624, 'Simulation Case Conditions_Spec 2 : NA in Benzene_ppmw': 979.6398499656685}. Best is trial 44 with value: 0.029440902607390757.\u001b[0m\n",
            "\u001b[32m[I 2021-04-27 06:15:49,917]\u001b[0m Trial 48 finished with value: 0.12015167922139375 and parameters: {'Benzene Column C660 Operation_Column Temp Profile_C660 Tray 6 (SD & Control)_oC': 86.86334074959859, 'Benzene Column C660 Operation_Column Temp Profile_C660 Tray 23 (Control)_oC': 91.15573521761965, 'Simulation Case Conditions_Spec 2 : NA in Benzene_ppmw': 979.5966070920512}. Best is trial 44 with value: 0.029440902607390757.\u001b[0m\n",
            "\u001b[32m[I 2021-04-27 06:15:50,019]\u001b[0m Trial 49 finished with value: 0.2720092074827832 and parameters: {'Benzene Column C660 Operation_Column Temp Profile_C660 Tray 6 (SD & Control)_oC': 86.74049897887616, 'Benzene Column C660 Operation_Column Temp Profile_C660 Tray 23 (Control)_oC': 90.81523434532004, 'Simulation Case Conditions_Spec 2 : NA in Benzene_ppmw': 979.3937958134879}. Best is trial 44 with value: 0.029440902607390757.\u001b[0m\n",
            "\u001b[32m[I 2021-04-27 06:15:50,111]\u001b[0m Trial 50 finished with value: 0.00512765852424866 and parameters: {'Benzene Column C660 Operation_Column Temp Profile_C660 Tray 6 (SD & Control)_oC': 86.82411271130815, 'Benzene Column C660 Operation_Column Temp Profile_C660 Tray 23 (Control)_oC': 90.89578965823434, 'Simulation Case Conditions_Spec 2 : NA in Benzene_ppmw': 979.5870361062925}. Best is trial 50 with value: 0.00512765852424866.\u001b[0m\n",
            "\u001b[32m[I 2021-04-27 06:15:50,214]\u001b[0m Trial 51 finished with value: 0.22082811419552056 and parameters: {'Benzene Column C660 Operation_Column Temp Profile_C660 Tray 6 (SD & Control)_oC': 86.8771611512836, 'Benzene Column C660 Operation_Column Temp Profile_C660 Tray 23 (Control)_oC': 90.98474227418856, 'Simulation Case Conditions_Spec 2 : NA in Benzene_ppmw': 979.6255233031827}. Best is trial 50 with value: 0.00512765852424866.\u001b[0m\n",
            "\u001b[32m[I 2021-04-27 06:15:50,314]\u001b[0m Trial 52 finished with value: 0.043147556851277205 and parameters: {'Benzene Column C660 Operation_Column Temp Profile_C660 Tray 6 (SD & Control)_oC': 86.82320659607943, 'Benzene Column C660 Operation_Column Temp Profile_C660 Tray 23 (Control)_oC': 91.13296463807661, 'Simulation Case Conditions_Spec 2 : NA in Benzene_ppmw': 979.5996059966179}. Best is trial 50 with value: 0.00512765852424866.\u001b[0m\n",
            "\u001b[32m[I 2021-04-27 06:15:50,406]\u001b[0m Trial 53 finished with value: 0.020183181701321627 and parameters: {'Benzene Column C660 Operation_Column Temp Profile_C660 Tray 6 (SD & Control)_oC': 86.83116281961402, 'Benzene Column C660 Operation_Column Temp Profile_C660 Tray 23 (Control)_oC': 91.1818195343551, 'Simulation Case Conditions_Spec 2 : NA in Benzene_ppmw': 979.8352889687413}. Best is trial 50 with value: 0.00512765852424866.\u001b[0m\n",
            "\u001b[32m[I 2021-04-27 06:15:50,499]\u001b[0m Trial 54 finished with value: 0.44203025031257814 and parameters: {'Benzene Column C660 Operation_Column Temp Profile_C660 Tray 6 (SD & Control)_oC': 86.9230156837635, 'Benzene Column C660 Operation_Column Temp Profile_C660 Tray 23 (Control)_oC': 91.0572533448042, 'Simulation Case Conditions_Spec 2 : NA in Benzene_ppmw': 979.7328005944452}. Best is trial 50 with value: 0.00512765852424866.\u001b[0m\n",
            "\u001b[32m[I 2021-04-27 06:15:50,592]\u001b[0m Trial 55 finished with value: 0.11204364491559844 and parameters: {'Benzene Column C660 Operation_Column Temp Profile_C660 Tray 6 (SD & Control)_oC': 86.80020461848906, 'Benzene Column C660 Operation_Column Temp Profile_C660 Tray 23 (Control)_oC': 91.03495581234235, 'Simulation Case Conditions_Spec 2 : NA in Benzene_ppmw': 979.4435865898432}. Best is trial 50 with value: 0.00512765852424866.\u001b[0m\n",
            "\u001b[32m[I 2021-04-27 06:15:50,676]\u001b[0m Trial 56 finished with value: 0.20935847284018713 and parameters: {'Benzene Column C660 Operation_Column Temp Profile_C660 Tray 6 (SD & Control)_oC': 86.86177635166871, 'Benzene Column C660 Operation_Column Temp Profile_C660 Tray 23 (Control)_oC': 90.70509593717934, 'Simulation Case Conditions_Spec 2 : NA in Benzene_ppmw': 979.7073399361219}. Best is trial 50 with value: 0.00512765852424866.\u001b[0m\n",
            "\u001b[32m[I 2021-04-27 06:15:50,765]\u001b[0m Trial 57 finished with value: 0.048745318958095495 and parameters: {'Benzene Column C660 Operation_Column Temp Profile_C660 Tray 6 (SD & Control)_oC': 86.84150214356102, 'Benzene Column C660 Operation_Column Temp Profile_C660 Tray 23 (Control)_oC': 91.04146063923675, 'Simulation Case Conditions_Spec 2 : NA in Benzene_ppmw': 979.5896136499375}. Best is trial 50 with value: 0.00512765852424866.\u001b[0m\n",
            "\u001b[32m[I 2021-04-27 06:15:50,858]\u001b[0m Trial 58 finished with value: 0.03339830255779918 and parameters: {'Benzene Column C660 Operation_Column Temp Profile_C660 Tray 6 (SD & Control)_oC': 86.8422852984473, 'Benzene Column C660 Operation_Column Temp Profile_C660 Tray 23 (Control)_oC': 91.1358863545271, 'Simulation Case Conditions_Spec 2 : NA in Benzene_ppmw': 979.45671396561}. Best is trial 50 with value: 0.00512765852424866.\u001b[0m\n",
            "\u001b[32m[I 2021-04-27 06:15:50,950]\u001b[0m Trial 59 finished with value: 0.09285400900671734 and parameters: {'Benzene Column C660 Operation_Column Temp Profile_C660 Tray 6 (SD & Control)_oC': 86.8055689148364, 'Benzene Column C660 Operation_Column Temp Profile_C660 Tray 23 (Control)_oC': 91.0386256032886, 'Simulation Case Conditions_Spec 2 : NA in Benzene_ppmw': 979.59218621056}. Best is trial 50 with value: 0.00512765852424866.\u001b[0m\n",
            "\u001b[32m[I 2021-04-27 06:15:51,037]\u001b[0m Trial 60 finished with value: 0.048965840755584904 and parameters: {'Benzene Column C660 Operation_Column Temp Profile_C660 Tray 6 (SD & Control)_oC': 86.8380760836354, 'Benzene Column C660 Operation_Column Temp Profile_C660 Tray 23 (Control)_oC': 90.96927760484621, 'Simulation Case Conditions_Spec 2 : NA in Benzene_ppmw': 979.7471333984074}. Best is trial 50 with value: 0.00512765852424866.\u001b[0m\n",
            "\u001b[32m[I 2021-04-27 06:15:51,125]\u001b[0m Trial 61 finished with value: 0.21310449092698938 and parameters: {'Benzene Column C660 Operation_Column Temp Profile_C660 Tray 6 (SD & Control)_oC': 86.8808967428618, 'Benzene Column C660 Operation_Column Temp Profile_C660 Tray 23 (Control)_oC': 91.10211131513857, 'Simulation Case Conditions_Spec 2 : NA in Benzene_ppmw': 979.7105916576271}. Best is trial 50 with value: 0.00512765852424866.\u001b[0m\n",
            "\u001b[32m[I 2021-04-27 06:15:51,219]\u001b[0m Trial 62 finished with value: 0.19047852041138788 and parameters: {'Benzene Column C660 Operation_Column Temp Profile_C660 Tray 6 (SD & Control)_oC': 86.78290713751574, 'Benzene Column C660 Operation_Column Temp Profile_C660 Tray 23 (Control)_oC': 91.1650020393043, 'Simulation Case Conditions_Spec 2 : NA in Benzene_ppmw': 979.7043747956342}. Best is trial 50 with value: 0.00512765852424866.\u001b[0m\n",
            "\u001b[32m[I 2021-04-27 06:15:51,306]\u001b[0m Trial 63 finished with value: 0.1573849185161979 and parameters: {'Benzene Column C660 Operation_Column Temp Profile_C660 Tray 6 (SD & Control)_oC': 86.87077911759599, 'Benzene Column C660 Operation_Column Temp Profile_C660 Tray 23 (Control)_oC': 91.14244505223799, 'Simulation Case Conditions_Spec 2 : NA in Benzene_ppmw': 979.8090359462583}. Best is trial 50 with value: 0.00512765852424866.\u001b[0m\n",
            "\u001b[32m[I 2021-04-27 06:15:51,404]\u001b[0m Trial 64 finished with value: 0.20596473586326677 and parameters: {'Benzene Column C660 Operation_Column Temp Profile_C660 Tray 6 (SD & Control)_oC': 86.88074813509333, 'Benzene Column C660 Operation_Column Temp Profile_C660 Tray 23 (Control)_oC': 91.12617284816524, 'Simulation Case Conditions_Spec 2 : NA in Benzene_ppmw': 979.4517811430879}. Best is trial 50 with value: 0.00512765852424866.\u001b[0m\n",
            "\u001b[32m[I 2021-04-27 06:15:51,486]\u001b[0m Trial 65 finished with value: 0.35110689611895013 and parameters: {'Benzene Column C660 Operation_Column Temp Profile_C660 Tray 6 (SD & Control)_oC': 86.90546288059804, 'Benzene Column C660 Operation_Column Temp Profile_C660 Tray 23 (Control)_oC': 91.03106499011504, 'Simulation Case Conditions_Spec 2 : NA in Benzene_ppmw': 979.2686431221821}. Best is trial 50 with value: 0.00512765852424866.\u001b[0m\n",
            "\u001b[32m[I 2021-04-27 06:15:51,592]\u001b[0m Trial 66 finished with value: 0.04284042672195429 and parameters: {'Benzene Column C660 Operation_Column Temp Profile_C660 Tray 6 (SD & Control)_oC': 86.83778456539486, 'Benzene Column C660 Operation_Column Temp Profile_C660 Tray 23 (Control)_oC': 90.9956628767326, 'Simulation Case Conditions_Spec 2 : NA in Benzene_ppmw': 979.7910527500386}. Best is trial 50 with value: 0.00512765852424866.\u001b[0m\n",
            "\u001b[32m[I 2021-04-27 06:15:51,682]\u001b[0m Trial 67 finished with value: 0.25624385337590627 and parameters: {'Benzene Column C660 Operation_Column Temp Profile_C660 Tray 6 (SD & Control)_oC': 86.89718774412634, 'Benzene Column C660 Operation_Column Temp Profile_C660 Tray 23 (Control)_oC': 91.26028356425276, 'Simulation Case Conditions_Spec 2 : NA in Benzene_ppmw': 979.5814023030591}. Best is trial 50 with value: 0.00512765852424866.\u001b[0m\n",
            "\u001b[32m[I 2021-04-27 06:15:51,771]\u001b[0m Trial 68 finished with value: 0.23533594468708088 and parameters: {'Benzene Column C660 Operation_Column Temp Profile_C660 Tray 6 (SD & Control)_oC': 86.77567172464909, 'Benzene Column C660 Operation_Column Temp Profile_C660 Tray 23 (Control)_oC': 91.31265997178755, 'Simulation Case Conditions_Spec 2 : NA in Benzene_ppmw': 979.4708359940811}. Best is trial 50 with value: 0.00512765852424866.\u001b[0m\n",
            "\u001b[32m[I 2021-04-27 06:15:51,872]\u001b[0m Trial 69 finished with value: 0.05173825110124362 and parameters: {'Benzene Column C660 Operation_Column Temp Profile_C660 Tray 6 (SD & Control)_oC': 86.84115729258954, 'Benzene Column C660 Operation_Column Temp Profile_C660 Tray 23 (Control)_oC': 91.01884954022391, 'Simulation Case Conditions_Spec 2 : NA in Benzene_ppmw': 979.6069259182403}. Best is trial 50 with value: 0.00512765852424866.\u001b[0m\n",
            "\u001b[32m[I 2021-04-27 06:15:51,958]\u001b[0m Trial 70 finished with value: 0.111135542696548 and parameters: {'Benzene Column C660 Operation_Column Temp Profile_C660 Tray 6 (SD & Control)_oC': 86.85902017469495, 'Benzene Column C660 Operation_Column Temp Profile_C660 Tray 23 (Control)_oC': 91.10076040216539, 'Simulation Case Conditions_Spec 2 : NA in Benzene_ppmw': 979.3169639113365}. Best is trial 50 with value: 0.00512765852424866.\u001b[0m\n",
            "\u001b[32m[I 2021-04-27 06:15:52,058]\u001b[0m Trial 71 finished with value: 0.22919343683830945 and parameters: {'Benzene Column C660 Operation_Column Temp Profile_C660 Tray 6 (SD & Control)_oC': 86.87709514899615, 'Benzene Column C660 Operation_Column Temp Profile_C660 Tray 23 (Control)_oC': 90.94662377514445, 'Simulation Case Conditions_Spec 2 : NA in Benzene_ppmw': 979.6662932112843}. Best is trial 50 with value: 0.00512765852424866.\u001b[0m\n",
            "\u001b[32m[I 2021-04-27 06:15:52,144]\u001b[0m Trial 72 finished with value: 0.03667765053784436 and parameters: {'Benzene Column C660 Operation_Column Temp Profile_C660 Tray 6 (SD & Control)_oC': 86.82212446052473, 'Benzene Column C660 Operation_Column Temp Profile_C660 Tray 23 (Control)_oC': 91.07225544735918, 'Simulation Case Conditions_Spec 2 : NA in Benzene_ppmw': 979.5579855768883}. Best is trial 50 with value: 0.00512765852424866.\u001b[0m\n",
            "\u001b[32m[I 2021-04-27 06:15:52,237]\u001b[0m Trial 73 finished with value: 0.2413086242971829 and parameters: {'Benzene Column C660 Operation_Column Temp Profile_C660 Tray 6 (SD & Control)_oC': 86.874685549717, 'Benzene Column C660 Operation_Column Temp Profile_C660 Tray 23 (Control)_oC': 90.84304795171379, 'Simulation Case Conditions_Spec 2 : NA in Benzene_ppmw': 979.7923492675052}. Best is trial 50 with value: 0.00512765852424866.\u001b[0m\n",
            "\u001b[32m[I 2021-04-27 06:15:52,323]\u001b[0m Trial 74 finished with value: 0.15045033743451836 and parameters: {'Benzene Column C660 Operation_Column Temp Profile_C660 Tray 6 (SD & Control)_oC': 86.85954489355598, 'Benzene Column C660 Operation_Column Temp Profile_C660 Tray 23 (Control)_oC': 90.93429835820152, 'Simulation Case Conditions_Spec 2 : NA in Benzene_ppmw': 979.9207615147225}. Best is trial 50 with value: 0.00512765852424866.\u001b[0m\n",
            "\u001b[32m[I 2021-04-27 06:15:52,404]\u001b[0m Trial 75 finished with value: 0.22404348206317315 and parameters: {'Benzene Column C660 Operation_Column Temp Profile_C660 Tray 6 (SD & Control)_oC': 86.87310604735531, 'Benzene Column C660 Operation_Column Temp Profile_C660 Tray 23 (Control)_oC': 90.8856699727924, 'Simulation Case Conditions_Spec 2 : NA in Benzene_ppmw': 979.7856766085421}. Best is trial 50 with value: 0.00512765852424866.\u001b[0m\n",
            "\u001b[32m[I 2021-04-27 06:15:52,487]\u001b[0m Trial 76 finished with value: 0.017292395771192126 and parameters: {'Benzene Column C660 Operation_Column Temp Profile_C660 Tray 6 (SD & Control)_oC': 86.83081634554968, 'Benzene Column C660 Operation_Column Temp Profile_C660 Tray 23 (Control)_oC': 91.15518127946567, 'Simulation Case Conditions_Spec 2 : NA in Benzene_ppmw': 979.6706577957991}. Best is trial 50 with value: 0.00512765852424866.\u001b[0m\n",
            "\u001b[32m[I 2021-04-27 06:15:52,572]\u001b[0m Trial 77 finished with value: 0.1401078608688912 and parameters: {'Benzene Column C660 Operation_Column Temp Profile_C660 Tray 6 (SD & Control)_oC': 86.85971344645611, 'Benzene Column C660 Operation_Column Temp Profile_C660 Tray 23 (Control)_oC': 90.9819354043962, 'Simulation Case Conditions_Spec 2 : NA in Benzene_ppmw': 979.6504010318769}. Best is trial 50 with value: 0.00512765852424866.\u001b[0m\n",
            "\u001b[32m[I 2021-04-27 06:15:52,655]\u001b[0m Trial 78 finished with value: 0.018095693461935482 and parameters: {'Benzene Column C660 Operation_Column Temp Profile_C660 Tray 6 (SD & Control)_oC': 86.83747162938951, 'Benzene Column C660 Operation_Column Temp Profile_C660 Tray 23 (Control)_oC': 91.11644166746404, 'Simulation Case Conditions_Spec 2 : NA in Benzene_ppmw': 979.6449116422606}. Best is trial 50 with value: 0.00512765852424866.\u001b[0m\n",
            "\u001b[32m[I 2021-04-27 06:15:52,740]\u001b[0m Trial 79 finished with value: 0.004657713522165159 and parameters: {'Benzene Column C660 Operation_Column Temp Profile_C660 Tray 6 (SD & Control)_oC': 86.83052798206671, 'Benzene Column C660 Operation_Column Temp Profile_C660 Tray 23 (Control)_oC': 91.03812626061394, 'Simulation Case Conditions_Spec 2 : NA in Benzene_ppmw': 979.636013041516}. Best is trial 79 with value: 0.004657713522165159.\u001b[0m\n",
            "\u001b[32m[I 2021-04-27 06:15:52,821]\u001b[0m Trial 80 finished with value: 0.02726264257359879 and parameters: {'Benzene Column C660 Operation_Column Temp Profile_C660 Tray 6 (SD & Control)_oC': 86.8367506396933, 'Benzene Column C660 Operation_Column Temp Profile_C660 Tray 23 (Control)_oC': 91.04784633465985, 'Simulation Case Conditions_Spec 2 : NA in Benzene_ppmw': 979.4261865517384}. Best is trial 79 with value: 0.004657713522165159.\u001b[0m\n",
            "\u001b[32m[I 2021-04-27 06:15:52,906]\u001b[0m Trial 81 finished with value: 0.03912536665117113 and parameters: {'Benzene Column C660 Operation_Column Temp Profile_C660 Tray 6 (SD & Control)_oC': 86.84598971225995, 'Benzene Column C660 Operation_Column Temp Profile_C660 Tray 23 (Control)_oC': 91.18854221938682, 'Simulation Case Conditions_Spec 2 : NA in Benzene_ppmw': 979.5836708856323}. Best is trial 79 with value: 0.004657713522165159.\u001b[0m\n",
            "\u001b[32m[I 2021-04-27 06:15:52,996]\u001b[0m Trial 82 finished with value: 0.21866525853560187 and parameters: {'Benzene Column C660 Operation_Column Temp Profile_C660 Tray 6 (SD & Control)_oC': 86.76982113073609, 'Benzene Column C660 Operation_Column Temp Profile_C660 Tray 23 (Control)_oC': 91.0689573154341, 'Simulation Case Conditions_Spec 2 : NA in Benzene_ppmw': 979.4858252342648}. Best is trial 79 with value: 0.004657713522165159.\u001b[0m\n",
            "\u001b[32m[I 2021-04-27 06:15:53,099]\u001b[0m Trial 83 finished with value: 0.11789188268268655 and parameters: {'Benzene Column C660 Operation_Column Temp Profile_C660 Tray 6 (SD & Control)_oC': 86.79966995629404, 'Benzene Column C660 Operation_Column Temp Profile_C660 Tray 23 (Control)_oC': 91.06505691934026, 'Simulation Case Conditions_Spec 2 : NA in Benzene_ppmw': 979.7531958904058}. Best is trial 79 with value: 0.004657713522165159.\u001b[0m\n",
            "\u001b[32m[I 2021-04-27 06:15:53,192]\u001b[0m Trial 84 finished with value: 0.16501502217158792 and parameters: {'Benzene Column C660 Operation_Column Temp Profile_C660 Tray 6 (SD & Control)_oC': 86.87118536796599, 'Benzene Column C660 Operation_Column Temp Profile_C660 Tray 23 (Control)_oC': 91.11668161678988, 'Simulation Case Conditions_Spec 2 : NA in Benzene_ppmw': 979.8781026674376}. Best is trial 79 with value: 0.004657713522165159.\u001b[0m\n",
            "\u001b[32m[I 2021-04-27 06:15:53,288]\u001b[0m Trial 85 finished with value: 0.06306130428994353 and parameters: {'Benzene Column C660 Operation_Column Temp Profile_C660 Tray 6 (SD & Control)_oC': 86.84639004851914, 'Benzene Column C660 Operation_Column Temp Profile_C660 Tray 23 (Control)_oC': 91.0767124046328, 'Simulation Case Conditions_Spec 2 : NA in Benzene_ppmw': 979.7504232008229}. Best is trial 79 with value: 0.004657713522165159.\u001b[0m\n",
            "\u001b[32m[I 2021-04-27 06:15:53,382]\u001b[0m Trial 86 finished with value: 0.10231853442656934 and parameters: {'Benzene Column C660 Operation_Column Temp Profile_C660 Tray 6 (SD & Control)_oC': 86.81340072409824, 'Benzene Column C660 Operation_Column Temp Profile_C660 Tray 23 (Control)_oC': 91.26275670950935, 'Simulation Case Conditions_Spec 2 : NA in Benzene_ppmw': 979.4667336133364}. Best is trial 79 with value: 0.004657713522165159.\u001b[0m\n",
            "\u001b[32m[I 2021-04-27 06:15:53,468]\u001b[0m Trial 87 finished with value: 0.05945976855816238 and parameters: {'Benzene Column C660 Operation_Column Temp Profile_C660 Tray 6 (SD & Control)_oC': 86.81845909676147, 'Benzene Column C660 Operation_Column Temp Profile_C660 Tray 23 (Control)_oC': 91.12473135942858, 'Simulation Case Conditions_Spec 2 : NA in Benzene_ppmw': 979.6912707750907}. Best is trial 79 with value: 0.004657713522165159.\u001b[0m\n",
            "\u001b[32m[I 2021-04-27 06:15:53,557]\u001b[0m Trial 88 finished with value: 0.05570526248641589 and parameters: {'Benzene Column C660 Operation_Column Temp Profile_C660 Tray 6 (SD & Control)_oC': 86.84543711792014, 'Benzene Column C660 Operation_Column Temp Profile_C660 Tray 23 (Control)_oC': 91.08969151439616, 'Simulation Case Conditions_Spec 2 : NA in Benzene_ppmw': 979.5400092852549}. Best is trial 79 with value: 0.004657713522165159.\u001b[0m\n",
            "\u001b[32m[I 2021-04-27 06:15:53,650]\u001b[0m Trial 89 finished with value: 0.06816945205251673 and parameters: {'Benzene Column C660 Operation_Column Temp Profile_C660 Tray 6 (SD & Control)_oC': 86.8430293884139, 'Benzene Column C660 Operation_Column Temp Profile_C660 Tray 23 (Control)_oC': 90.97486226631516, 'Simulation Case Conditions_Spec 2 : NA in Benzene_ppmw': 979.596151457725}. Best is trial 79 with value: 0.004657713522165159.\u001b[0m\n",
            "\u001b[32m[I 2021-04-27 06:15:53,754]\u001b[0m Trial 90 finished with value: 0.09294850299421645 and parameters: {'Benzene Column C660 Operation_Column Temp Profile_C660 Tray 6 (SD & Control)_oC': 86.81373326819491, 'Benzene Column C660 Operation_Column Temp Profile_C660 Tray 23 (Control)_oC': 91.21616835560367, 'Simulation Case Conditions_Spec 2 : NA in Benzene_ppmw': 979.5868594110141}. Best is trial 79 with value: 0.004657713522165159.\u001b[0m\n",
            "\u001b[32m[I 2021-04-27 06:15:53,845]\u001b[0m Trial 91 finished with value: 0.06638032203808786 and parameters: {'Benzene Column C660 Operation_Column Temp Profile_C660 Tray 6 (SD & Control)_oC': 86.84548302240817, 'Benzene Column C660 Operation_Column Temp Profile_C660 Tray 23 (Control)_oC': 91.03877762014687, 'Simulation Case Conditions_Spec 2 : NA in Benzene_ppmw': 979.6818940138195}. Best is trial 79 with value: 0.004657713522165159.\u001b[0m\n",
            "\u001b[32m[I 2021-04-27 06:15:53,934]\u001b[0m Trial 92 finished with value: 0.0025988335786257455 and parameters: {'Benzene Column C660 Operation_Column Temp Profile_C660 Tray 6 (SD & Control)_oC': 86.83154917063207, 'Benzene Column C660 Operation_Column Temp Profile_C660 Tray 23 (Control)_oC': 91.09031713864277, 'Simulation Case Conditions_Spec 2 : NA in Benzene_ppmw': 979.6470642080068}. Best is trial 92 with value: 0.0025988335786257455.\u001b[0m\n",
            "\u001b[32m[I 2021-04-27 06:15:54,017]\u001b[0m Trial 93 finished with value: 0.061753113390848165 and parameters: {'Benzene Column C660 Operation_Column Temp Profile_C660 Tray 6 (SD & Control)_oC': 86.81906472680257, 'Benzene Column C660 Operation_Column Temp Profile_C660 Tray 23 (Control)_oC': 91.14968285027875, 'Simulation Case Conditions_Spec 2 : NA in Benzene_ppmw': 979.6199848835242}. Best is trial 92 with value: 0.0025988335786257455.\u001b[0m\n",
            "\u001b[32m[I 2021-04-27 06:15:54,104]\u001b[0m Trial 94 finished with value: 0.08912602606383849 and parameters: {'Benzene Column C660 Operation_Column Temp Profile_C660 Tray 6 (SD & Control)_oC': 86.85422531559756, 'Benzene Column C660 Operation_Column Temp Profile_C660 Tray 23 (Control)_oC': 91.10991921726395, 'Simulation Case Conditions_Spec 2 : NA in Benzene_ppmw': 979.5180549213901}. Best is trial 92 with value: 0.0025988335786257455.\u001b[0m\n",
            "\u001b[32m[I 2021-04-27 06:15:54,194]\u001b[0m Trial 95 finished with value: 0.01850265446485875 and parameters: {'Benzene Column C660 Operation_Column Temp Profile_C660 Tray 6 (SD & Control)_oC': 86.82395804937109, 'Benzene Column C660 Operation_Column Temp Profile_C660 Tray 23 (Control)_oC': 91.01195856038917, 'Simulation Case Conditions_Spec 2 : NA in Benzene_ppmw': 979.6108627831926}. Best is trial 92 with value: 0.0025988335786257455.\u001b[0m\n",
            "\u001b[32m[I 2021-04-27 06:15:54,293]\u001b[0m Trial 96 finished with value: 0.013440889525281755 and parameters: {'Benzene Column C660 Operation_Column Temp Profile_C660 Tray 6 (SD & Control)_oC': 86.83271587749341, 'Benzene Column C660 Operation_Column Temp Profile_C660 Tray 23 (Control)_oC': 91.03903877988998, 'Simulation Case Conditions_Spec 2 : NA in Benzene_ppmw': 979.6773028296149}. Best is trial 92 with value: 0.0025988335786257455.\u001b[0m\n",
            "\u001b[32m[I 2021-04-27 06:15:54,380]\u001b[0m Trial 97 finished with value: 0.012101505788507405 and parameters: {'Benzene Column C660 Operation_Column Temp Profile_C660 Tray 6 (SD & Control)_oC': 86.82674769432606, 'Benzene Column C660 Operation_Column Temp Profile_C660 Tray 23 (Control)_oC': 91.03735508636105, 'Simulation Case Conditions_Spec 2 : NA in Benzene_ppmw': 979.6143539680348}. Best is trial 92 with value: 0.0025988335786257455.\u001b[0m\n",
            "\u001b[32m[I 2021-04-27 06:15:54,472]\u001b[0m Trial 98 finished with value: 0.01598555811113735 and parameters: {'Benzene Column C660 Operation_Column Temp Profile_C660 Tray 6 (SD & Control)_oC': 86.82776813143252, 'Benzene Column C660 Operation_Column Temp Profile_C660 Tray 23 (Control)_oC': 91.0830119936014, 'Simulation Case Conditions_Spec 2 : NA in Benzene_ppmw': 979.7287610323923}. Best is trial 92 with value: 0.0025988335786257455.\u001b[0m\n",
            "\u001b[32m[I 2021-04-27 06:15:54,561]\u001b[0m Trial 99 finished with value: 0.011866948851659023 and parameters: {'Benzene Column C660 Operation_Column Temp Profile_C660 Tray 6 (SD & Control)_oC': 86.83003848906439, 'Benzene Column C660 Operation_Column Temp Profile_C660 Tray 23 (Control)_oC': 91.1073215491249, 'Simulation Case Conditions_Spec 2 : NA in Benzene_ppmw': 979.6083853232001}. Best is trial 92 with value: 0.0025988335786257455.\u001b[0m\n",
            "\u001b[32m[I 2021-04-27 06:15:54,651]\u001b[0m Trial 100 finished with value: 0.02542122374518667 and parameters: {'Benzene Column C660 Operation_Column Temp Profile_C660 Tray 6 (SD & Control)_oC': 86.82414285916438, 'Benzene Column C660 Operation_Column Temp Profile_C660 Tray 23 (Control)_oC': 91.05380968951968, 'Simulation Case Conditions_Spec 2 : NA in Benzene_ppmw': 979.5892733425911}. Best is trial 92 with value: 0.0025988335786257455.\u001b[0m\n",
            "\u001b[32m[I 2021-04-27 06:15:54,735]\u001b[0m Trial 101 finished with value: 0.053983627190511266 and parameters: {'Benzene Column C660 Operation_Column Temp Profile_C660 Tray 6 (SD & Control)_oC': 86.84181448593392, 'Benzene Column C660 Operation_Column Temp Profile_C660 Tray 23 (Control)_oC': 91.02364640830982, 'Simulation Case Conditions_Spec 2 : NA in Benzene_ppmw': 979.716720484493}. Best is trial 92 with value: 0.0025988335786257455.\u001b[0m\n",
            "\u001b[32m[I 2021-04-27 06:15:54,821]\u001b[0m Trial 102 finished with value: 0.037255979752688115 and parameters: {'Benzene Column C660 Operation_Column Temp Profile_C660 Tray 6 (SD & Control)_oC': 86.82340674512308, 'Benzene Column C660 Operation_Column Temp Profile_C660 Tray 23 (Control)_oC': 91.10567705295273, 'Simulation Case Conditions_Spec 2 : NA in Benzene_ppmw': 979.6802552741146}. Best is trial 92 with value: 0.0025988335786257455.\u001b[0m\n",
            "\u001b[32m[I 2021-04-27 06:15:54,913]\u001b[0m Trial 103 finished with value: 0.04462769156646442 and parameters: {'Benzene Column C660 Operation_Column Temp Profile_C660 Tray 6 (SD & Control)_oC': 86.82002127276846, 'Benzene Column C660 Operation_Column Temp Profile_C660 Tray 23 (Control)_oC': 91.07344113762092, 'Simulation Case Conditions_Spec 2 : NA in Benzene_ppmw': 979.6610115505307}. Best is trial 92 with value: 0.0025988335786257455.\u001b[0m\n",
            "\u001b[32m[I 2021-04-27 06:15:54,999]\u001b[0m Trial 104 finished with value: 0.07334788519113002 and parameters: {'Benzene Column C660 Operation_Column Temp Profile_C660 Tray 6 (SD & Control)_oC': 86.81073310015458, 'Benzene Column C660 Operation_Column Temp Profile_C660 Tray 23 (Control)_oC': 91.03678861223275, 'Simulation Case Conditions_Spec 2 : NA in Benzene_ppmw': 979.65085553917}. Best is trial 92 with value: 0.0025988335786257455.\u001b[0m\n",
            "\u001b[32m[I 2021-04-27 06:15:55,088]\u001b[0m Trial 105 finished with value: 0.033836304312280616 and parameters: {'Benzene Column C660 Operation_Column Temp Profile_C660 Tray 6 (SD & Control)_oC': 86.8236320374955, 'Benzene Column C660 Operation_Column Temp Profile_C660 Tray 23 (Control)_oC': 91.09086183765517, 'Simulation Case Conditions_Spec 2 : NA in Benzene_ppmw': 979.6530107749218}. Best is trial 92 with value: 0.0025988335786257455.\u001b[0m\n",
            "\u001b[32m[I 2021-04-27 06:15:55,176]\u001b[0m Trial 106 finished with value: 0.03904367186477692 and parameters: {'Benzene Column C660 Operation_Column Temp Profile_C660 Tray 6 (SD & Control)_oC': 86.82272153063558, 'Benzene Column C660 Operation_Column Temp Profile_C660 Tray 23 (Control)_oC': 91.10048346461652, 'Simulation Case Conditions_Spec 2 : NA in Benzene_ppmw': 979.660517631061}. Best is trial 92 with value: 0.0025988335786257455.\u001b[0m\n",
            "\u001b[32m[I 2021-04-27 06:15:55,265]\u001b[0m Trial 107 finished with value: 0.05537477599064531 and parameters: {'Benzene Column C660 Operation_Column Temp Profile_C660 Tray 6 (SD & Control)_oC': 86.81618278082365, 'Benzene Column C660 Operation_Column Temp Profile_C660 Tray 23 (Control)_oC': 91.05089843119212, 'Simulation Case Conditions_Spec 2 : NA in Benzene_ppmw': 979.6376515913726}. Best is trial 92 with value: 0.0025988335786257455.\u001b[0m\n",
            "\u001b[32m[I 2021-04-27 06:15:55,350]\u001b[0m Trial 108 finished with value: 0.02929599281452818 and parameters: {'Benzene Column C660 Operation_Column Temp Profile_C660 Tray 6 (SD & Control)_oC': 86.82411038639364, 'Benzene Column C660 Operation_Column Temp Profile_C660 Tray 23 (Control)_oC': 91.07621248368378, 'Simulation Case Conditions_Spec 2 : NA in Benzene_ppmw': 979.6699439818792}. Best is trial 92 with value: 0.0025988335786257455.\u001b[0m\n",
            "\u001b[32m[I 2021-04-27 06:15:55,438]\u001b[0m Trial 109 finished with value: 0.08224690103274715 and parameters: {'Benzene Column C660 Operation_Column Temp Profile_C660 Tray 6 (SD & Control)_oC': 86.80962125563379, 'Benzene Column C660 Operation_Column Temp Profile_C660 Tray 23 (Control)_oC': 91.06478215233311, 'Simulation Case Conditions_Spec 2 : NA in Benzene_ppmw': 979.6485789373155}. Best is trial 92 with value: 0.0025988335786257455.\u001b[0m\n",
            "\u001b[32m[I 2021-04-27 06:15:55,526]\u001b[0m Trial 110 finished with value: 0.03223676153592459 and parameters: {'Benzene Column C660 Operation_Column Temp Profile_C660 Tray 6 (SD & Control)_oC': 86.82674549812927, 'Benzene Column C660 Operation_Column Temp Profile_C660 Tray 23 (Control)_oC': 91.14877870395719, 'Simulation Case Conditions_Spec 2 : NA in Benzene_ppmw': 979.6188498971866}. Best is trial 92 with value: 0.0025988335786257455.\u001b[0m\n",
            "\u001b[32m[I 2021-04-27 06:15:55,613]\u001b[0m Trial 111 finished with value: 0.014238202543753003 and parameters: {'Benzene Column C660 Operation_Column Temp Profile_C660 Tray 6 (SD & Control)_oC': 86.83301598185083, 'Benzene Column C660 Operation_Column Temp Profile_C660 Tray 23 (Control)_oC': 91.03929677133131, 'Simulation Case Conditions_Spec 2 : NA in Benzene_ppmw': 979.5776537820298}. Best is trial 92 with value: 0.0025988335786257455.\u001b[0m\n",
            "\u001b[32m[I 2021-04-27 06:15:55,706]\u001b[0m Trial 112 finished with value: 0.012913618344139344 and parameters: {'Benzene Column C660 Operation_Column Temp Profile_C660 Tray 6 (SD & Control)_oC': 86.8287021950877, 'Benzene Column C660 Operation_Column Temp Profile_C660 Tray 23 (Control)_oC': 91.08452292669531, 'Simulation Case Conditions_Spec 2 : NA in Benzene_ppmw': 979.631447672606}. Best is trial 92 with value: 0.0025988335786257455.\u001b[0m\n",
            "\u001b[32m[I 2021-04-27 06:15:55,793]\u001b[0m Trial 113 finished with value: 0.01076113972730068 and parameters: {'Benzene Column C660 Operation_Column Temp Profile_C660 Tray 6 (SD & Control)_oC': 86.83022828153426, 'Benzene Column C660 Operation_Column Temp Profile_C660 Tray 23 (Control)_oC': 91.10564349643833, 'Simulation Case Conditions_Spec 2 : NA in Benzene_ppmw': 979.6216473504853}. Best is trial 92 with value: 0.0025988335786257455.\u001b[0m\n",
            "\u001b[32m[I 2021-04-27 06:15:55,875]\u001b[0m Trial 114 finished with value: 0.008418437084481258 and parameters: {'Benzene Column C660 Operation_Column Temp Profile_C660 Tray 6 (SD & Control)_oC': 86.83080000327679, 'Benzene Column C660 Operation_Column Temp Profile_C660 Tray 23 (Control)_oC': 91.02206160172528, 'Simulation Case Conditions_Spec 2 : NA in Benzene_ppmw': 979.5513834277547}. Best is trial 92 with value: 0.0025988335786257455.\u001b[0m\n",
            "\u001b[32m[I 2021-04-27 06:15:55,974]\u001b[0m Trial 115 finished with value: 0.011526925161968016 and parameters: {'Benzene Column C660 Operation_Column Temp Profile_C660 Tray 6 (SD & Control)_oC': 86.82909902064311, 'Benzene Column C660 Operation_Column Temp Profile_C660 Tray 23 (Control)_oC': 91.08636455518797, 'Simulation Case Conditions_Spec 2 : NA in Benzene_ppmw': 979.6744409341499}. Best is trial 92 with value: 0.0025988335786257455.\u001b[0m\n",
            "\u001b[32m[I 2021-04-27 06:15:56,063]\u001b[0m Trial 116 finished with value: 0.004742005484419738 and parameters: {'Benzene Column C660 Operation_Column Temp Profile_C660 Tray 6 (SD & Control)_oC': 86.83109427477733, 'Benzene Column C660 Operation_Column Temp Profile_C660 Tray 23 (Control)_oC': 91.05047759440423, 'Simulation Case Conditions_Spec 2 : NA in Benzene_ppmw': 979.6640127823629}. Best is trial 92 with value: 0.0025988335786257455.\u001b[0m\n",
            "\u001b[32m[I 2021-04-27 06:15:56,150]\u001b[0m Trial 117 finished with value: 0.013444381194018947 and parameters: {'Benzene Column C660 Operation_Column Temp Profile_C660 Tray 6 (SD & Control)_oC': 86.82991699542784, 'Benzene Column C660 Operation_Column Temp Profile_C660 Tray 23 (Control)_oC': 91.11311638311892, 'Simulation Case Conditions_Spec 2 : NA in Benzene_ppmw': 979.5974232035908}. Best is trial 92 with value: 0.0025988335786257455.\u001b[0m\n",
            "\u001b[32m[I 2021-04-27 06:15:56,344]\u001b[0m Trial 118 finished with value: 0.0325649755166377 and parameters: {'Benzene Column C660 Operation_Column Temp Profile_C660 Tray 6 (SD & Control)_oC': 86.82582226902379, 'Benzene Column C660 Operation_Column Temp Profile_C660 Tray 23 (Control)_oC': 91.13001198758916, 'Simulation Case Conditions_Spec 2 : NA in Benzene_ppmw': 979.5889271422358}. Best is trial 92 with value: 0.0025988335786257455.\u001b[0m\n",
            "\u001b[32m[I 2021-04-27 06:15:56,430]\u001b[0m Trial 119 finished with value: 0.001418560735839086 and parameters: {'Benzene Column C660 Operation_Column Temp Profile_C660 Tray 6 (SD & Control)_oC': 86.83302909067118, 'Benzene Column C660 Operation_Column Temp Profile_C660 Tray 23 (Control)_oC': 91.11025129923505, 'Simulation Case Conditions_Spec 2 : NA in Benzene_ppmw': 979.6599976831134}. Best is trial 119 with value: 0.001418560735839086.\u001b[0m\n",
            "\u001b[32m[I 2021-04-27 06:15:56,525]\u001b[0m Trial 120 finished with value: 0.003627028326353821 and parameters: {'Benzene Column C660 Operation_Column Temp Profile_C660 Tray 6 (SD & Control)_oC': 86.83047973830391, 'Benzene Column C660 Operation_Column Temp Profile_C660 Tray 23 (Control)_oC': 91.07289798406711, 'Simulation Case Conditions_Spec 2 : NA in Benzene_ppmw': 979.656999220514}. Best is trial 119 with value: 0.001418560735839086.\u001b[0m\n",
            "\u001b[32m[I 2021-04-27 06:15:56,609]\u001b[0m Trial 121 finished with value: 0.011427465701026268 and parameters: {'Benzene Column C660 Operation_Column Temp Profile_C660 Tray 6 (SD & Control)_oC': 86.83450766614168, 'Benzene Column C660 Operation_Column Temp Profile_C660 Tray 23 (Control)_oC': 91.08851034311428, 'Simulation Case Conditions_Spec 2 : NA in Benzene_ppmw': 979.6722287244818}. Best is trial 119 with value: 0.001418560735839086.\u001b[0m\n",
            "\u001b[32m[I 2021-04-27 06:15:56,691]\u001b[0m Trial 122 finished with value: 0.0243533199212357 and parameters: {'Benzene Column C660 Operation_Column Temp Profile_C660 Tray 6 (SD & Control)_oC': 86.82490270433931, 'Benzene Column C660 Operation_Column Temp Profile_C660 Tray 23 (Control)_oC': 91.06483115545764, 'Simulation Case Conditions_Spec 2 : NA in Benzene_ppmw': 979.613339603731}. Best is trial 119 with value: 0.001418560735839086.\u001b[0m\n",
            "\u001b[32m[I 2021-04-27 06:15:56,767]\u001b[0m Trial 123 finished with value: 0.03552723848122293 and parameters: {'Benzene Column C660 Operation_Column Temp Profile_C660 Tray 6 (SD & Control)_oC': 86.82468694603966, 'Benzene Column C660 Operation_Column Temp Profile_C660 Tray 23 (Control)_oC': 91.1227871556611, 'Simulation Case Conditions_Spec 2 : NA in Benzene_ppmw': 979.6309876634886}. Best is trial 119 with value: 0.001418560735839086.\u001b[0m\n",
            "\u001b[32m[I 2021-04-27 06:15:56,852]\u001b[0m Trial 124 finished with value: 0.030338399693032692 and parameters: {'Benzene Column C660 Operation_Column Temp Profile_C660 Tray 6 (SD & Control)_oC': 86.82447568877474, 'Benzene Column C660 Operation_Column Temp Profile_C660 Tray 23 (Control)_oC': 91.08841601008854, 'Simulation Case Conditions_Spec 2 : NA in Benzene_ppmw': 979.5909415589257}. Best is trial 119 with value: 0.001418560735839086.\u001b[0m\n",
            "\u001b[32m[I 2021-04-27 06:15:56,937]\u001b[0m Trial 125 finished with value: 0.01181210878040048 and parameters: {'Benzene Column C660 Operation_Column Temp Profile_C660 Tray 6 (SD & Control)_oC': 86.83459705065742, 'Benzene Column C660 Operation_Column Temp Profile_C660 Tray 23 (Control)_oC': 91.0875249976845, 'Simulation Case Conditions_Spec 2 : NA in Benzene_ppmw': 979.6288920590762}. Best is trial 119 with value: 0.001418560735839086.\u001b[0m\n",
            "\u001b[32m[I 2021-04-27 06:15:57,028]\u001b[0m Trial 126 finished with value: 0.01395436499237355 and parameters: {'Benzene Column C660 Operation_Column Temp Profile_C660 Tray 6 (SD & Control)_oC': 86.835022388711, 'Benzene Column C660 Operation_Column Temp Profile_C660 Tray 23 (Control)_oC': 91.08669647840735, 'Simulation Case Conditions_Spec 2 : NA in Benzene_ppmw': 979.702273141081}. Best is trial 119 with value: 0.001418560735839086.\u001b[0m\n",
            "\u001b[32m[I 2021-04-27 06:15:57,123]\u001b[0m Trial 127 finished with value: 0.02757716975103606 and parameters: {'Benzene Column C660 Operation_Column Temp Profile_C660 Tray 6 (SD & Control)_oC': 86.8387342576377, 'Benzene Column C660 Operation_Column Temp Profile_C660 Tray 23 (Control)_oC': 91.09423615365768, 'Simulation Case Conditions_Spec 2 : NA in Benzene_ppmw': 979.6857681052335}. Best is trial 119 with value: 0.001418560735839086.\u001b[0m\n",
            "\u001b[32m[I 2021-04-27 06:15:57,209]\u001b[0m Trial 128 finished with value: 0.014481960185440491 and parameters: {'Benzene Column C660 Operation_Column Temp Profile_C660 Tray 6 (SD & Control)_oC': 86.82938667487954, 'Benzene Column C660 Operation_Column Temp Profile_C660 Tray 23 (Control)_oC': 91.10849774999211, 'Simulation Case Conditions_Spec 2 : NA in Benzene_ppmw': 979.6587192747999}. Best is trial 119 with value: 0.001418560735839086.\u001b[0m\n",
            "\u001b[32m[I 2021-04-27 06:15:57,298]\u001b[0m Trial 129 finished with value: 0.02202346423789798 and parameters: {'Benzene Column C660 Operation_Column Temp Profile_C660 Tray 6 (SD & Control)_oC': 86.82606945378373, 'Benzene Column C660 Operation_Column Temp Profile_C660 Tray 23 (Control)_oC': 91.0787020668497, 'Simulation Case Conditions_Spec 2 : NA in Benzene_ppmw': 979.6892615245339}. Best is trial 119 with value: 0.001418560735839086.\u001b[0m\n",
            "\u001b[32m[I 2021-04-27 06:15:57,384]\u001b[0m Trial 130 finished with value: 0.014211091204552046 and parameters: {'Benzene Column C660 Operation_Column Temp Profile_C660 Tray 6 (SD & Control)_oC': 86.829007122318, 'Benzene Column C660 Operation_Column Temp Profile_C660 Tray 23 (Control)_oC': 91.0985943629856, 'Simulation Case Conditions_Spec 2 : NA in Benzene_ppmw': 979.6491590857175}. Best is trial 119 with value: 0.001418560735839086.\u001b[0m\n",
            "\u001b[32m[I 2021-04-27 06:15:57,470]\u001b[0m Trial 131 finished with value: 0.011631743257758748 and parameters: {'Benzene Column C660 Operation_Column Temp Profile_C660 Tray 6 (SD & Control)_oC': 86.8340888303313, 'Benzene Column C660 Operation_Column Temp Profile_C660 Tray 23 (Control)_oC': 91.07804029524542, 'Simulation Case Conditions_Spec 2 : NA in Benzene_ppmw': 979.6565202834519}. Best is trial 119 with value: 0.001418560735839086.\u001b[0m\n",
            "\u001b[32m[I 2021-04-27 06:15:57,553]\u001b[0m Trial 132 finished with value: 0.025703846269798932 and parameters: {'Benzene Column C660 Operation_Column Temp Profile_C660 Tray 6 (SD & Control)_oC': 86.83712687244068, 'Benzene Column C660 Operation_Column Temp Profile_C660 Tray 23 (Control)_oC': 91.0681248412452, 'Simulation Case Conditions_Spec 2 : NA in Benzene_ppmw': 979.6233154626225}. Best is trial 119 with value: 0.001418560735839086.\u001b[0m\n",
            "\u001b[32m[I 2021-04-27 06:15:57,642]\u001b[0m Trial 133 finished with value: 0.044116384765372496 and parameters: {'Benzene Column C660 Operation_Column Temp Profile_C660 Tray 6 (SD & Control)_oC': 86.84080813591416, 'Benzene Column C660 Operation_Column Temp Profile_C660 Tray 23 (Control)_oC': 91.05261835392619, 'Simulation Case Conditions_Spec 2 : NA in Benzene_ppmw': 979.6979319668276}. Best is trial 119 with value: 0.001418560735839086.\u001b[0m\n",
            "\u001b[32m[I 2021-04-27 06:15:57,731]\u001b[0m Trial 134 finished with value: 0.01626299339792904 and parameters: {'Benzene Column C660 Operation_Column Temp Profile_C660 Tray 6 (SD & Control)_oC': 86.82889859559523, 'Benzene Column C660 Operation_Column Temp Profile_C660 Tray 23 (Control)_oC': 91.10819819023757, 'Simulation Case Conditions_Spec 2 : NA in Benzene_ppmw': 979.6845649443965}. Best is trial 119 with value: 0.001418560735839086.\u001b[0m\n",
            "\u001b[32m[I 2021-04-27 06:15:57,821]\u001b[0m Trial 135 finished with value: 0.004780782536424809 and parameters: {'Benzene Column C660 Operation_Column Temp Profile_C660 Tray 6 (SD & Control)_oC': 86.83022349278133, 'Benzene Column C660 Operation_Column Temp Profile_C660 Tray 23 (Control)_oC': 91.0736925792332, 'Simulation Case Conditions_Spec 2 : NA in Benzene_ppmw': 979.6612150798288}. Best is trial 119 with value: 0.001418560735839086.\u001b[0m\n",
            "\u001b[32m[I 2021-04-27 06:15:57,907]\u001b[0m Trial 136 finished with value: 0.012091662514372376 and parameters: {'Benzene Column C660 Operation_Column Temp Profile_C660 Tray 6 (SD & Control)_oC': 86.8339078484021, 'Benzene Column C660 Operation_Column Temp Profile_C660 Tray 23 (Control)_oC': 91.07185209121704, 'Simulation Case Conditions_Spec 2 : NA in Benzene_ppmw': 979.6664331613238}. Best is trial 119 with value: 0.001418560735839086.\u001b[0m\n",
            "\u001b[32m[I 2021-04-27 06:15:57,987]\u001b[0m Trial 137 finished with value: 0.018024765129814366 and parameters: {'Benzene Column C660 Operation_Column Temp Profile_C660 Tray 6 (SD & Control)_oC': 86.82874986716106, 'Benzene Column C660 Operation_Column Temp Profile_C660 Tray 23 (Control)_oC': 91.1140053422736, 'Simulation Case Conditions_Spec 2 : NA in Benzene_ppmw': 979.6502183708392}. Best is trial 119 with value: 0.001418560735839086.\u001b[0m\n",
            "\u001b[32m[I 2021-04-27 06:15:58,081]\u001b[0m Trial 138 finished with value: 0.00550439274872105 and parameters: {'Benzene Column C660 Operation_Column Temp Profile_C660 Tray 6 (SD & Control)_oC': 86.83265662309174, 'Benzene Column C660 Operation_Column Temp Profile_C660 Tray 23 (Control)_oC': 91.07999908320512, 'Simulation Case Conditions_Spec 2 : NA in Benzene_ppmw': 979.6553304305146}. Best is trial 119 with value: 0.001418560735839086.\u001b[0m\n",
            "\u001b[32m[I 2021-04-27 06:15:58,166]\u001b[0m Trial 139 finished with value: 0.016179325997225394 and parameters: {'Benzene Column C660 Operation_Column Temp Profile_C660 Tray 6 (SD & Control)_oC': 86.82711284224385, 'Benzene Column C660 Operation_Column Temp Profile_C660 Tray 23 (Control)_oC': 91.06908137083313, 'Simulation Case Conditions_Spec 2 : NA in Benzene_ppmw': 979.68818190564}. Best is trial 119 with value: 0.001418560735839086.\u001b[0m\n",
            "\u001b[32m[I 2021-04-27 06:15:58,264]\u001b[0m Trial 140 finished with value: 0.0035137627834579436 and parameters: {'Benzene Column C660 Operation_Column Temp Profile_C660 Tray 6 (SD & Control)_oC': 86.83109222294478, 'Benzene Column C660 Operation_Column Temp Profile_C660 Tray 23 (Control)_oC': 91.08454757471259, 'Simulation Case Conditions_Spec 2 : NA in Benzene_ppmw': 979.604384783608}. Best is trial 119 with value: 0.001418560735839086.\u001b[0m\n",
            "\u001b[32m[I 2021-04-27 06:15:58,360]\u001b[0m Trial 141 finished with value: 0.01645216198316786 and parameters: {'Benzene Column C660 Operation_Column Temp Profile_C660 Tray 6 (SD & Control)_oC': 86.82839129856893, 'Benzene Column C660 Operation_Column Temp Profile_C660 Tray 23 (Control)_oC': 91.09695593166889, 'Simulation Case Conditions_Spec 2 : NA in Benzene_ppmw': 979.6184464086873}. Best is trial 119 with value: 0.001418560735839086.\u001b[0m\n",
            "\u001b[32m[I 2021-04-27 06:15:58,449]\u001b[0m Trial 142 finished with value: 0.011481760669427628 and parameters: {'Benzene Column C660 Operation_Column Temp Profile_C660 Tray 6 (SD & Control)_oC': 86.82843925339088, 'Benzene Column C660 Operation_Column Temp Profile_C660 Tray 23 (Control)_oC': 91.07063447912708, 'Simulation Case Conditions_Spec 2 : NA in Benzene_ppmw': 979.6137641590457}. Best is trial 119 with value: 0.001418560735839086.\u001b[0m\n",
            "\u001b[32m[I 2021-04-27 06:15:58,542]\u001b[0m Trial 143 finished with value: 0.013059609098561345 and parameters: {'Benzene Column C660 Operation_Column Temp Profile_C660 Tray 6 (SD & Control)_oC': 86.82807049464601, 'Benzene Column C660 Operation_Column Temp Profile_C660 Tray 23 (Control)_oC': 91.07096831222302, 'Simulation Case Conditions_Spec 2 : NA in Benzene_ppmw': 979.5976661018452}. Best is trial 119 with value: 0.001418560735839086.\u001b[0m\n",
            "\u001b[32m[I 2021-04-27 06:15:58,640]\u001b[0m Trial 144 finished with value: 0.007451893844998614 and parameters: {'Benzene Column C660 Operation_Column Temp Profile_C660 Tray 6 (SD & Control)_oC': 86.8335467419283, 'Benzene Column C660 Operation_Column Temp Profile_C660 Tray 23 (Control)_oC': 91.08805819674997, 'Simulation Case Conditions_Spec 2 : NA in Benzene_ppmw': 979.6198137698981}. Best is trial 119 with value: 0.001418560735839086.\u001b[0m\n",
            "\u001b[32m[I 2021-04-27 06:15:58,731]\u001b[0m Trial 145 finished with value: 0.02503683807423525 and parameters: {'Benzene Column C660 Operation_Column Temp Profile_C660 Tray 6 (SD & Control)_oC': 86.82631697215155, 'Benzene Column C660 Operation_Column Temp Profile_C660 Tray 23 (Control)_oC': 91.09983061214504, 'Simulation Case Conditions_Spec 2 : NA in Benzene_ppmw': 979.6411169350617}. Best is trial 119 with value: 0.001418560735839086.\u001b[0m\n",
            "\u001b[32m[I 2021-04-27 06:15:58,817]\u001b[0m Trial 146 finished with value: 0.017556881235364443 and parameters: {'Benzene Column C660 Operation_Column Temp Profile_C660 Tray 6 (SD & Control)_oC': 86.82749065716452, 'Benzene Column C660 Operation_Column Temp Profile_C660 Tray 23 (Control)_oC': 91.08378630299264, 'Simulation Case Conditions_Spec 2 : NA in Benzene_ppmw': 979.6330173411608}. Best is trial 119 with value: 0.001418560735839086.\u001b[0m\n",
            "\u001b[32m[I 2021-04-27 06:15:58,909]\u001b[0m Trial 147 finished with value: 0.0015559658984650119 and parameters: {'Benzene Column C660 Operation_Column Temp Profile_C660 Tray 6 (SD & Control)_oC': 86.83183369943033, 'Benzene Column C660 Operation_Column Temp Profile_C660 Tray 23 (Control)_oC': 91.09025555680516, 'Simulation Case Conditions_Spec 2 : NA in Benzene_ppmw': 979.6173173432254}. Best is trial 119 with value: 0.001418560735839086.\u001b[0m\n",
            "\u001b[32m[I 2021-04-27 06:15:59,001]\u001b[0m Trial 148 finished with value: 0.00344160345929014 and parameters: {'Benzene Column C660 Operation_Column Temp Profile_C660 Tray 6 (SD & Control)_oC': 86.83031650485427, 'Benzene Column C660 Operation_Column Temp Profile_C660 Tray 23 (Control)_oC': 91.06637413463568, 'Simulation Case Conditions_Spec 2 : NA in Benzene_ppmw': 979.5548458142052}. Best is trial 119 with value: 0.001418560735839086.\u001b[0m\n",
            "\u001b[32m[I 2021-04-27 06:15:59,090]\u001b[0m Trial 149 finished with value: 0.012048908920011599 and parameters: {'Benzene Column C660 Operation_Column Temp Profile_C660 Tray 6 (SD & Control)_oC': 86.82892968517598, 'Benzene Column C660 Operation_Column Temp Profile_C660 Tray 23 (Control)_oC': 91.08457774416829, 'Simulation Case Conditions_Spec 2 : NA in Benzene_ppmw': 979.6241425803817}. Best is trial 119 with value: 0.001418560735839086.\u001b[0m\n",
            "\u001b[32m[I 2021-04-27 06:15:59,189]\u001b[0m Trial 150 finished with value: 0.006723459362899146 and parameters: {'Benzene Column C660 Operation_Column Temp Profile_C660 Tray 6 (SD & Control)_oC': 86.83021359379677, 'Benzene Column C660 Operation_Column Temp Profile_C660 Tray 23 (Control)_oC': 91.0837688119041, 'Simulation Case Conditions_Spec 2 : NA in Benzene_ppmw': 979.6466326739902}. Best is trial 119 with value: 0.001418560735839086.\u001b[0m\n",
            "\u001b[32m[I 2021-04-27 06:15:59,273]\u001b[0m Trial 151 finished with value: 0.00127355193335292 and parameters: {'Benzene Column C660 Operation_Column Temp Profile_C660 Tray 6 (SD & Control)_oC': 86.83257972190945, 'Benzene Column C660 Operation_Column Temp Profile_C660 Tray 23 (Control)_oC': 91.10412926094007, 'Simulation Case Conditions_Spec 2 : NA in Benzene_ppmw': 979.5772675222572}. Best is trial 151 with value: 0.00127355193335292.\u001b[0m\n",
            "\u001b[32m[I 2021-04-27 06:15:59,366]\u001b[0m Trial 152 finished with value: 0.016982048180671214 and parameters: {'Benzene Column C660 Operation_Column Temp Profile_C660 Tray 6 (SD & Control)_oC': 86.8363140988329, 'Benzene Column C660 Operation_Column Temp Profile_C660 Tray 23 (Control)_oC': 91.09719719276161, 'Simulation Case Conditions_Spec 2 : NA in Benzene_ppmw': 979.6380787473998}. Best is trial 151 with value: 0.00127355193335292.\u001b[0m\n",
            "\u001b[32m[I 2021-04-27 06:15:59,457]\u001b[0m Trial 153 finished with value: 0.02391504594825433 and parameters: {'Benzene Column C660 Operation_Column Temp Profile_C660 Tray 6 (SD & Control)_oC': 86.82553011103292, 'Benzene Column C660 Operation_Column Temp Profile_C660 Tray 23 (Control)_oC': 91.0765051387755, 'Simulation Case Conditions_Spec 2 : NA in Benzene_ppmw': 979.6389931727672}. Best is trial 151 with value: 0.00127355193335292.\u001b[0m\n",
            "\u001b[32m[I 2021-04-27 06:15:59,550]\u001b[0m Trial 154 finished with value: 0.0026417077419377886 and parameters: {'Benzene Column C660 Operation_Column Temp Profile_C660 Tray 6 (SD & Control)_oC': 86.83184362323743, 'Benzene Column C660 Operation_Column Temp Profile_C660 Tray 23 (Control)_oC': 91.09663551277602, 'Simulation Case Conditions_Spec 2 : NA in Benzene_ppmw': 979.631636326625}. Best is trial 151 with value: 0.00127355193335292.\u001b[0m\n",
            "\u001b[32m[I 2021-04-27 06:15:59,643]\u001b[0m Trial 155 finished with value: 0.0073414869456857185 and parameters: {'Benzene Column C660 Operation_Column Temp Profile_C660 Tray 6 (SD & Control)_oC': 86.83287797792623, 'Benzene Column C660 Operation_Column Temp Profile_C660 Tray 23 (Control)_oC': 91.07426266410916, 'Simulation Case Conditions_Spec 2 : NA in Benzene_ppmw': 979.6239498488806}. Best is trial 151 with value: 0.00127355193335292.\u001b[0m\n",
            "\u001b[32m[I 2021-04-27 06:15:59,741]\u001b[0m Trial 156 finished with value: 0.01308545284100481 and parameters: {'Benzene Column C660 Operation_Column Temp Profile_C660 Tray 6 (SD & Control)_oC': 86.8304756575785, 'Benzene Column C660 Operation_Column Temp Profile_C660 Tray 23 (Control)_oC': 91.1236198328098, 'Simulation Case Conditions_Spec 2 : NA in Benzene_ppmw': 979.6157310104668}. Best is trial 151 with value: 0.00127355193335292.\u001b[0m\n",
            "\u001b[32m[I 2021-04-27 06:15:59,832]\u001b[0m Trial 157 finished with value: 0.008318454769659518 and parameters: {'Benzene Column C660 Operation_Column Temp Profile_C660 Tray 6 (SD & Control)_oC': 86.83497047740609, 'Benzene Column C660 Operation_Column Temp Profile_C660 Tray 23 (Control)_oC': 91.11446862626494, 'Simulation Case Conditions_Spec 2 : NA in Benzene_ppmw': 979.6331674203984}. Best is trial 151 with value: 0.00127355193335292.\u001b[0m\n",
            "\u001b[32m[I 2021-04-27 06:15:59,917]\u001b[0m Trial 158 finished with value: 0.006248633989953863 and parameters: {'Benzene Column C660 Operation_Column Temp Profile_C660 Tray 6 (SD & Control)_oC': 86.83144883275631, 'Benzene Column C660 Operation_Column Temp Profile_C660 Tray 23 (Control)_oC': 91.1064209062349, 'Simulation Case Conditions_Spec 2 : NA in Benzene_ppmw': 979.5665597348643}. Best is trial 151 with value: 0.00127355193335292.\u001b[0m\n",
            "\u001b[32m[I 2021-04-27 06:16:00,010]\u001b[0m Trial 159 finished with value: 0.010889030361621577 and parameters: {'Benzene Column C660 Operation_Column Temp Profile_C660 Tray 6 (SD & Control)_oC': 86.83044443395679, 'Benzene Column C660 Operation_Column Temp Profile_C660 Tray 23 (Control)_oC': 91.11020547366836, 'Simulation Case Conditions_Spec 2 : NA in Benzene_ppmw': 979.578978827784}. Best is trial 151 with value: 0.00127355193335292.\u001b[0m\n",
            "\u001b[32m[I 2021-04-27 06:16:00,113]\u001b[0m Trial 160 finished with value: 0.008094673420090345 and parameters: {'Benzene Column C660 Operation_Column Temp Profile_C660 Tray 6 (SD & Control)_oC': 86.83554737261012, 'Benzene Column C660 Operation_Column Temp Profile_C660 Tray 23 (Control)_oC': 91.1276621501251, 'Simulation Case Conditions_Spec 2 : NA in Benzene_ppmw': 979.6081470833069}. Best is trial 151 with value: 0.00127355193335292.\u001b[0m\n",
            "\u001b[32m[I 2021-04-27 06:16:00,208]\u001b[0m Trial 161 finished with value: 0.013282200469563058 and parameters: {'Benzene Column C660 Operation_Column Temp Profile_C660 Tray 6 (SD & Control)_oC': 86.82916073964718, 'Benzene Column C660 Operation_Column Temp Profile_C660 Tray 23 (Control)_oC': 91.09594568477206, 'Simulation Case Conditions_Spec 2 : NA in Benzene_ppmw': 979.6034816375617}. Best is trial 151 with value: 0.00127355193335292.\u001b[0m\n",
            "\u001b[32m[I 2021-04-27 06:16:00,289]\u001b[0m Trial 162 finished with value: 0.004265469483539482 and parameters: {'Benzene Column C660 Operation_Column Temp Profile_C660 Tray 6 (SD & Control)_oC': 86.83339583505143, 'Benzene Column C660 Operation_Column Temp Profile_C660 Tray 23 (Control)_oC': 91.101848177827, 'Simulation Case Conditions_Spec 2 : NA in Benzene_ppmw': 979.6127383678237}. Best is trial 151 with value: 0.00127355193335292.\u001b[0m\n",
            "\u001b[32m[I 2021-04-27 06:16:00,383]\u001b[0m Trial 163 finished with value: 0.005199811248071672 and parameters: {'Benzene Column C660 Operation_Column Temp Profile_C660 Tray 6 (SD & Control)_oC': 86.83398693209193, 'Benzene Column C660 Operation_Column Temp Profile_C660 Tray 23 (Control)_oC': 91.10840387732705, 'Simulation Case Conditions_Spec 2 : NA in Benzene_ppmw': 979.5525238596821}. Best is trial 151 with value: 0.00127355193335292.\u001b[0m\n",
            "\u001b[32m[I 2021-04-27 06:16:00,488]\u001b[0m Trial 164 finished with value: 0.017119504396601228 and parameters: {'Benzene Column C660 Operation_Column Temp Profile_C660 Tray 6 (SD & Control)_oC': 86.83602562515064, 'Benzene Column C660 Operation_Column Temp Profile_C660 Tray 23 (Control)_oC': 91.08859291793017, 'Simulation Case Conditions_Spec 2 : NA in Benzene_ppmw': 979.5555970753408}. Best is trial 151 with value: 0.00127355193335292.\u001b[0m\n",
            "\u001b[32m[I 2021-04-27 06:16:00,568]\u001b[0m Trial 165 finished with value: 0.0023018399001625903 and parameters: {'Benzene Column C660 Operation_Column Temp Profile_C660 Tray 6 (SD & Control)_oC': 86.83157738268274, 'Benzene Column C660 Operation_Column Temp Profile_C660 Tray 23 (Control)_oC': 91.08792635997382, 'Simulation Case Conditions_Spec 2 : NA in Benzene_ppmw': 979.5751749751378}. Best is trial 151 with value: 0.00127355193335292.\u001b[0m\n",
            "\u001b[32m[I 2021-04-27 06:16:00,663]\u001b[0m Trial 166 finished with value: 0.00828351336993246 and parameters: {'Benzene Column C660 Operation_Column Temp Profile_C660 Tray 6 (SD & Control)_oC': 86.83386490496706, 'Benzene Column C660 Operation_Column Temp Profile_C660 Tray 23 (Control)_oC': 91.0898193312452, 'Simulation Case Conditions_Spec 2 : NA in Benzene_ppmw': 979.5870839198707}. Best is trial 151 with value: 0.00127355193335292.\u001b[0m\n",
            "\u001b[32m[I 2021-04-27 06:16:00,749]\u001b[0m Trial 167 finished with value: 0.011524865030783862 and parameters: {'Benzene Column C660 Operation_Column Temp Profile_C660 Tray 6 (SD & Control)_oC': 86.83564600220193, 'Benzene Column C660 Operation_Column Temp Profile_C660 Tray 23 (Control)_oC': 91.11032804261573, 'Simulation Case Conditions_Spec 2 : NA in Benzene_ppmw': 979.5559389976254}. Best is trial 151 with value: 0.00127355193335292.\u001b[0m\n",
            "\u001b[32m[I 2021-04-27 06:16:00,842]\u001b[0m Trial 168 finished with value: 0.005832742785104314 and parameters: {'Benzene Column C660 Operation_Column Temp Profile_C660 Tray 6 (SD & Control)_oC': 86.83173717821609, 'Benzene Column C660 Operation_Column Temp Profile_C660 Tray 23 (Control)_oC': 91.11131340203849, 'Simulation Case Conditions_Spec 2 : NA in Benzene_ppmw': 979.6132324646728}. Best is trial 151 with value: 0.00127355193335292.\u001b[0m\n",
            "\u001b[32m[I 2021-04-27 06:16:00,926]\u001b[0m Trial 169 finished with value: 0.0016692837193113567 and parameters: {'Benzene Column C660 Operation_Column Temp Profile_C660 Tray 6 (SD & Control)_oC': 86.8312105679715, 'Benzene Column C660 Operation_Column Temp Profile_C660 Tray 23 (Control)_oC': 91.07670466264904, 'Simulation Case Conditions_Spec 2 : NA in Benzene_ppmw': 979.5836561011381}. Best is trial 151 with value: 0.00127355193335292.\u001b[0m\n",
            "\u001b[32m[I 2021-04-27 06:16:01,018]\u001b[0m Trial 170 finished with value: 0.00428490829235613 and parameters: {'Benzene Column C660 Operation_Column Temp Profile_C660 Tray 6 (SD & Control)_oC': 86.83314238518336, 'Benzene Column C660 Operation_Column Temp Profile_C660 Tray 23 (Control)_oC': 91.0956419461583, 'Simulation Case Conditions_Spec 2 : NA in Benzene_ppmw': 979.5815596786507}. Best is trial 151 with value: 0.00127355193335292.\u001b[0m\n",
            "\u001b[32m[I 2021-04-27 06:16:01,119]\u001b[0m Trial 171 finished with value: 0.001878480748566835 and parameters: {'Benzene Column C660 Operation_Column Temp Profile_C660 Tray 6 (SD & Control)_oC': 86.83199520213014, 'Benzene Column C660 Operation_Column Temp Profile_C660 Tray 23 (Control)_oC': 91.09385451171558, 'Simulation Case Conditions_Spec 2 : NA in Benzene_ppmw': 979.5319766613338}. Best is trial 151 with value: 0.00127355193335292.\u001b[0m\n",
            "\u001b[32m[I 2021-04-27 06:16:01,216]\u001b[0m Trial 172 finished with value: 0.0026539376567945596 and parameters: {'Benzene Column C660 Operation_Column Temp Profile_C660 Tray 6 (SD & Control)_oC': 86.8322596989623, 'Benzene Column C660 Operation_Column Temp Profile_C660 Tray 23 (Control)_oC': 91.10361718417208, 'Simulation Case Conditions_Spec 2 : NA in Benzene_ppmw': 979.5227079307302}. Best is trial 151 with value: 0.00127355193335292.\u001b[0m\n",
            "\u001b[32m[I 2021-04-27 06:16:01,304]\u001b[0m Trial 173 finished with value: 0.012413408150198304 and parameters: {'Benzene Column C660 Operation_Column Temp Profile_C660 Tray 6 (SD & Control)_oC': 86.82980205076196, 'Benzene Column C660 Operation_Column Temp Profile_C660 Tray 23 (Control)_oC': 91.10345534151182, 'Simulation Case Conditions_Spec 2 : NA in Benzene_ppmw': 979.5189176459253}. Best is trial 151 with value: 0.00127355193335292.\u001b[0m\n",
            "\u001b[32m[I 2021-04-27 06:16:01,393]\u001b[0m Trial 174 finished with value: 0.004295409419701468 and parameters: {'Benzene Column C660 Operation_Column Temp Profile_C660 Tray 6 (SD & Control)_oC': 86.83138943344711, 'Benzene Column C660 Operation_Column Temp Profile_C660 Tray 23 (Control)_oC': 91.09393824382867, 'Simulation Case Conditions_Spec 2 : NA in Benzene_ppmw': 979.5371800549225}. Best is trial 151 with value: 0.00127355193335292.\u001b[0m\n",
            "\u001b[32m[I 2021-04-27 06:16:01,488]\u001b[0m Trial 175 finished with value: 0.0031708428088731452 and parameters: {'Benzene Column C660 Operation_Column Temp Profile_C660 Tray 6 (SD & Control)_oC': 86.83355353856133, 'Benzene Column C660 Operation_Column Temp Profile_C660 Tray 23 (Control)_oC': 91.10994709604206, 'Simulation Case Conditions_Spec 2 : NA in Benzene_ppmw': 979.5502837121692}. Best is trial 151 with value: 0.00127355193335292.\u001b[0m\n",
            "\u001b[32m[I 2021-04-27 06:16:01,579]\u001b[0m Trial 176 finished with value: 0.019118933391280797 and parameters: {'Benzene Column C660 Operation_Column Temp Profile_C660 Tray 6 (SD & Control)_oC': 86.82722953193316, 'Benzene Column C660 Operation_Column Temp Profile_C660 Tray 23 (Control)_oC': 91.08467818052014, 'Simulation Case Conditions_Spec 2 : NA in Benzene_ppmw': 979.526986783773}. Best is trial 151 with value: 0.00127355193335292.\u001b[0m\n",
            "\u001b[32m[I 2021-04-27 06:16:01,661]\u001b[0m Trial 177 finished with value: 0.0022535752956019603 and parameters: {'Benzene Column C660 Operation_Column Temp Profile_C660 Tray 6 (SD & Control)_oC': 86.83003217738678, 'Benzene Column C660 Operation_Column Temp Profile_C660 Tray 23 (Control)_oC': 91.05488201929994, 'Simulation Case Conditions_Spec 2 : NA in Benzene_ppmw': 979.6127076372833}. Best is trial 151 with value: 0.00127355193335292.\u001b[0m\n",
            "\u001b[32m[I 2021-04-27 06:16:01,751]\u001b[0m Trial 178 finished with value: 0.016013453384069377 and parameters: {'Benzene Column C660 Operation_Column Temp Profile_C660 Tray 6 (SD & Control)_oC': 86.82764542063674, 'Benzene Column C660 Operation_Column Temp Profile_C660 Tray 23 (Control)_oC': 91.07680741067225, 'Simulation Case Conditions_Spec 2 : NA in Benzene_ppmw': 979.5378250819348}. Best is trial 151 with value: 0.00127355193335292.\u001b[0m\n",
            "\u001b[32m[I 2021-04-27 06:16:01,835]\u001b[0m Trial 179 finished with value: 0.011132831272059166 and parameters: {'Benzene Column C660 Operation_Column Temp Profile_C660 Tray 6 (SD & Control)_oC': 86.8350335799556, 'Benzene Column C660 Operation_Column Temp Profile_C660 Tray 23 (Control)_oC': 91.09963763891584, 'Simulation Case Conditions_Spec 2 : NA in Benzene_ppmw': 979.5791919064916}. Best is trial 151 with value: 0.00127355193335292.\u001b[0m\n",
            "\u001b[32m[I 2021-04-27 06:16:01,921]\u001b[0m Trial 180 finished with value: 0.007662963989481542 and parameters: {'Benzene Column C660 Operation_Column Temp Profile_C660 Tray 6 (SD & Control)_oC': 86.83399214845994, 'Benzene Column C660 Operation_Column Temp Profile_C660 Tray 23 (Control)_oC': 91.0960865428883, 'Simulation Case Conditions_Spec 2 : NA in Benzene_ppmw': 979.5957189469343}. Best is trial 151 with value: 0.00127355193335292.\u001b[0m\n",
            "\u001b[32m[I 2021-04-27 06:16:02,009]\u001b[0m Trial 181 finished with value: 0.00925333069010743 and parameters: {'Benzene Column C660 Operation_Column Temp Profile_C660 Tray 6 (SD & Control)_oC': 86.83323102508767, 'Benzene Column C660 Operation_Column Temp Profile_C660 Tray 23 (Control)_oC': 91.07102292189523, 'Simulation Case Conditions_Spec 2 : NA in Benzene_ppmw': 979.594133502389}. Best is trial 151 with value: 0.00127355193335292.\u001b[0m\n",
            "\u001b[32m[I 2021-04-27 06:16:02,103]\u001b[0m Trial 182 finished with value: 0.0015629207489639768 and parameters: {'Benzene Column C660 Operation_Column Temp Profile_C660 Tray 6 (SD & Control)_oC': 86.83261624864103, 'Benzene Column C660 Operation_Column Temp Profile_C660 Tray 23 (Control)_oC': 91.09884691875028, 'Simulation Case Conditions_Spec 2 : NA in Benzene_ppmw': 979.5745190973083}. Best is trial 151 with value: 0.00127355193335292.\u001b[0m\n",
            "\u001b[32m[I 2021-04-27 06:16:02,204]\u001b[0m Trial 183 finished with value: 0.001358664594115181 and parameters: {'Benzene Column C660 Operation_Column Temp Profile_C660 Tray 6 (SD & Control)_oC': 86.833262791156, 'Benzene Column C660 Operation_Column Temp Profile_C660 Tray 23 (Control)_oC': 91.11390873485546, 'Simulation Case Conditions_Spec 2 : NA in Benzene_ppmw': 979.5726370058289}. Best is trial 151 with value: 0.00127355193335292.\u001b[0m\n",
            "\u001b[32m[I 2021-04-27 06:16:02,289]\u001b[0m Trial 184 finished with value: 0.001924863492185804 and parameters: {'Benzene Column C660 Operation_Column Temp Profile_C660 Tray 6 (SD & Control)_oC': 86.83153515759972, 'Benzene Column C660 Operation_Column Temp Profile_C660 Tray 23 (Control)_oC': 91.07445894851486, 'Simulation Case Conditions_Spec 2 : NA in Benzene_ppmw': 979.6235338160191}. Best is trial 151 with value: 0.00127355193335292.\u001b[0m\n",
            "\u001b[32m[I 2021-04-27 06:16:02,390]\u001b[0m Trial 185 finished with value: 0.003694076636389332 and parameters: {'Benzene Column C660 Operation_Column Temp Profile_C660 Tray 6 (SD & Control)_oC': 86.83067571948772, 'Benzene Column C660 Operation_Column Temp Profile_C660 Tray 23 (Control)_oC': 91.07642598203837, 'Simulation Case Conditions_Spec 2 : NA in Benzene_ppmw': 979.6008777344022}. Best is trial 151 with value: 0.00127355193335292.\u001b[0m\n",
            "\u001b[32m[I 2021-04-27 06:16:02,485]\u001b[0m Trial 186 finished with value: 0.0015538515240009617 and parameters: {'Benzene Column C660 Operation_Column Temp Profile_C660 Tray 6 (SD & Control)_oC': 86.83078750931618, 'Benzene Column C660 Operation_Column Temp Profile_C660 Tray 23 (Control)_oC': 91.066815884565, 'Simulation Case Conditions_Spec 2 : NA in Benzene_ppmw': 979.5790659158786}. Best is trial 151 with value: 0.00127355193335292.\u001b[0m\n",
            "\u001b[32m[I 2021-04-27 06:16:02,574]\u001b[0m Trial 187 finished with value: 0.005329041142340977 and parameters: {'Benzene Column C660 Operation_Column Temp Profile_C660 Tray 6 (SD & Control)_oC': 86.83334033007895, 'Benzene Column C660 Operation_Column Temp Profile_C660 Tray 23 (Control)_oC': 91.09522128479227, 'Simulation Case Conditions_Spec 2 : NA in Benzene_ppmw': 979.6289099063458}. Best is trial 151 with value: 0.00127355193335292.\u001b[0m\n",
            "\u001b[32m[I 2021-04-27 06:16:02,662]\u001b[0m Trial 188 finished with value: 0.0031643894207821783 and parameters: {'Benzene Column C660 Operation_Column Temp Profile_C660 Tray 6 (SD & Control)_oC': 86.83084577519543, 'Benzene Column C660 Operation_Column Temp Profile_C660 Tray 23 (Control)_oC': 91.07682588151272, 'Simulation Case Conditions_Spec 2 : NA in Benzene_ppmw': 979.5796252877487}. Best is trial 151 with value: 0.00127355193335292.\u001b[0m\n",
            "\u001b[32m[I 2021-04-27 06:16:02,752]\u001b[0m Trial 189 finished with value: 0.008750252778687446 and parameters: {'Benzene Column C660 Operation_Column Temp Profile_C660 Tray 6 (SD & Control)_oC': 86.83375666874485, 'Benzene Column C660 Operation_Column Temp Profile_C660 Tray 23 (Control)_oC': 91.08467902480334, 'Simulation Case Conditions_Spec 2 : NA in Benzene_ppmw': 979.5725625313422}. Best is trial 151 with value: 0.00127355193335292.\u001b[0m\n",
            "\u001b[32m[I 2021-04-27 06:16:02,851]\u001b[0m Trial 190 finished with value: 0.002735187543349664 and parameters: {'Benzene Column C660 Operation_Column Temp Profile_C660 Tray 6 (SD & Control)_oC': 86.83271057974733, 'Benzene Column C660 Operation_Column Temp Profile_C660 Tray 23 (Control)_oC': 91.09542657448492, 'Simulation Case Conditions_Spec 2 : NA in Benzene_ppmw': 979.6194316097351}. Best is trial 151 with value: 0.00127355193335292.\u001b[0m\n",
            "\u001b[32m[I 2021-04-27 06:16:02,959]\u001b[0m Trial 191 finished with value: 0.005621308712844554 and parameters: {'Benzene Column C660 Operation_Column Temp Profile_C660 Tray 6 (SD & Control)_oC': 86.8329221074495, 'Benzene Column C660 Operation_Column Temp Profile_C660 Tray 23 (Control)_oC': 91.08404746416187, 'Simulation Case Conditions_Spec 2 : NA in Benzene_ppmw': 979.6013248095364}. Best is trial 151 with value: 0.00127355193335292.\u001b[0m\n",
            "\u001b[32m[I 2021-04-27 06:16:03,057]\u001b[0m Trial 192 finished with value: 0.00358379532476533 and parameters: {'Benzene Column C660 Operation_Column Temp Profile_C660 Tray 6 (SD & Control)_oC': 86.83365783189173, 'Benzene Column C660 Operation_Column Temp Profile_C660 Tray 23 (Control)_oC': 91.1105765987366, 'Simulation Case Conditions_Spec 2 : NA in Benzene_ppmw': 979.5809962988619}. Best is trial 151 with value: 0.00127355193335292.\u001b[0m\n",
            "\u001b[32m[I 2021-04-27 06:16:03,152]\u001b[0m Trial 193 finished with value: 0.0029297545989451263 and parameters: {'Benzene Column C660 Operation_Column Temp Profile_C660 Tray 6 (SD & Control)_oC': 86.8313080018843, 'Benzene Column C660 Operation_Column Temp Profile_C660 Tray 23 (Control)_oC': 91.08520876024225, 'Simulation Case Conditions_Spec 2 : NA in Benzene_ppmw': 979.5605812564804}. Best is trial 151 with value: 0.00127355193335292.\u001b[0m\n",
            "\u001b[32m[I 2021-04-27 06:16:03,237]\u001b[0m Trial 194 finished with value: 0.004968004217959048 and parameters: {'Benzene Column C660 Operation_Column Temp Profile_C660 Tray 6 (SD & Control)_oC': 86.83368377908972, 'Benzene Column C660 Operation_Column Temp Profile_C660 Tray 23 (Control)_oC': 91.10409900738951, 'Simulation Case Conditions_Spec 2 : NA in Benzene_ppmw': 979.6033729402733}. Best is trial 151 with value: 0.00127355193335292.\u001b[0m\n",
            "\u001b[32m[I 2021-04-27 06:16:03,333]\u001b[0m Trial 195 finished with value: 0.0031969385133279907 and parameters: {'Benzene Column C660 Operation_Column Temp Profile_C660 Tray 6 (SD & Control)_oC': 86.83303414700288, 'Benzene Column C660 Operation_Column Temp Profile_C660 Tray 23 (Control)_oC': 91.09951274994522, 'Simulation Case Conditions_Spec 2 : NA in Benzene_ppmw': 979.5982604995396}. Best is trial 151 with value: 0.00127355193335292.\u001b[0m\n",
            "\u001b[32m[I 2021-04-27 06:16:03,440]\u001b[0m Trial 196 finished with value: 0.008464709540107291 and parameters: {'Benzene Column C660 Operation_Column Temp Profile_C660 Tray 6 (SD & Control)_oC': 86.83065275857452, 'Benzene Column C660 Operation_Column Temp Profile_C660 Tray 23 (Control)_oC': 91.10142684052617, 'Simulation Case Conditions_Spec 2 : NA in Benzene_ppmw': 979.5763489251118}. Best is trial 151 with value: 0.00127355193335292.\u001b[0m\n",
            "\u001b[32m[I 2021-04-27 06:16:03,537]\u001b[0m Trial 197 finished with value: 0.0014658831741661475 and parameters: {'Benzene Column C660 Operation_Column Temp Profile_C660 Tray 6 (SD & Control)_oC': 86.83166722987181, 'Benzene Column C660 Operation_Column Temp Profile_C660 Tray 23 (Control)_oC': 91.08599773472478, 'Simulation Case Conditions_Spec 2 : NA in Benzene_ppmw': 979.6090598445604}. Best is trial 151 with value: 0.00127355193335292.\u001b[0m\n",
            "\u001b[32m[I 2021-04-27 06:16:03,637]\u001b[0m Trial 198 finished with value: 0.008086701888125986 and parameters: {'Benzene Column C660 Operation_Column Temp Profile_C660 Tray 6 (SD & Control)_oC': 86.83372330667247, 'Benzene Column C660 Operation_Column Temp Profile_C660 Tray 23 (Control)_oC': 91.08806431948359, 'Simulation Case Conditions_Spec 2 : NA in Benzene_ppmw': 979.5996582564675}. Best is trial 151 with value: 0.00127355193335292.\u001b[0m\n",
            "\u001b[32m[I 2021-04-27 06:16:03,732]\u001b[0m Trial 199 finished with value: 0.0036116968505939 and parameters: {'Benzene Column C660 Operation_Column Temp Profile_C660 Tray 6 (SD & Control)_oC': 86.83155530484363, 'Benzene Column C660 Operation_Column Temp Profile_C660 Tray 23 (Control)_oC': 91.0945345139292, 'Simulation Case Conditions_Spec 2 : NA in Benzene_ppmw': 979.5740603094079}. Best is trial 151 with value: 0.00127355193335292.\u001b[0m\n",
            "\u001b[32m[I 2021-04-27 06:16:03,820]\u001b[0m Trial 200 finished with value: 0.002050342592880125 and parameters: {'Benzene Column C660 Operation_Column Temp Profile_C660 Tray 6 (SD & Control)_oC': 86.83313731680532, 'Benzene Column C660 Operation_Column Temp Profile_C660 Tray 23 (Control)_oC': 91.10748274980347, 'Simulation Case Conditions_Spec 2 : NA in Benzene_ppmw': 979.5744629263514}. Best is trial 151 with value: 0.00127355193335292.\u001b[0m\n",
            "\u001b[32m[I 2021-04-27 06:16:03,910]\u001b[0m Trial 201 finished with value: 0.007118867193279536 and parameters: {'Benzene Column C660 Operation_Column Temp Profile_C660 Tray 6 (SD & Control)_oC': 86.8339962498041, 'Benzene Column C660 Operation_Column Temp Profile_C660 Tray 23 (Control)_oC': 91.09880565482914, 'Simulation Case Conditions_Spec 2 : NA in Benzene_ppmw': 979.580482658633}. Best is trial 151 with value: 0.00127355193335292.\u001b[0m\n",
            "\u001b[32m[I 2021-04-27 06:16:04,013]\u001b[0m Trial 202 finished with value: 0.0009308326075826113 and parameters: {'Benzene Column C660 Operation_Column Temp Profile_C660 Tray 6 (SD & Control)_oC': 86.83200719192602, 'Benzene Column C660 Operation_Column Temp Profile_C660 Tray 23 (Control)_oC': 91.08955080867132, 'Simulation Case Conditions_Spec 2 : NA in Benzene_ppmw': 979.5977068408718}. Best is trial 202 with value: 0.0009308326075826113.\u001b[0m\n",
            "\u001b[32m[I 2021-04-27 06:16:04,118]\u001b[0m Trial 203 finished with value: 0.003942642602870914 and parameters: {'Benzene Column C660 Operation_Column Temp Profile_C660 Tray 6 (SD & Control)_oC': 86.83131052571923, 'Benzene Column C660 Operation_Column Temp Profile_C660 Tray 23 (Control)_oC': 91.0908463669243, 'Simulation Case Conditions_Spec 2 : NA in Benzene_ppmw': 979.5648725756974}. Best is trial 202 with value: 0.0009308326075826113.\u001b[0m\n",
            "\u001b[32m[I 2021-04-27 06:16:04,205]\u001b[0m Trial 204 finished with value: 0.001687924473122637 and parameters: {'Benzene Column C660 Operation_Column Temp Profile_C660 Tray 6 (SD & Control)_oC': 86.83166746789345, 'Benzene Column C660 Operation_Column Temp Profile_C660 Tray 23 (Control)_oC': 91.08686184471891, 'Simulation Case Conditions_Spec 2 : NA in Benzene_ppmw': 979.5912408435314}. Best is trial 202 with value: 0.0009308326075826113.\u001b[0m\n",
            "\u001b[32m[I 2021-04-27 06:16:04,302]\u001b[0m Trial 205 finished with value: 0.003181688896617847 and parameters: {'Benzene Column C660 Operation_Column Temp Profile_C660 Tray 6 (SD & Control)_oC': 86.83119838435522, 'Benzene Column C660 Operation_Column Temp Profile_C660 Tray 23 (Control)_oC': 91.08465528922375, 'Simulation Case Conditions_Spec 2 : NA in Benzene_ppmw': 979.5841873954615}. Best is trial 202 with value: 0.0009308326075826113.\u001b[0m\n",
            "\u001b[32m[I 2021-04-27 06:16:04,400]\u001b[0m Trial 206 finished with value: 0.004287022283228444 and parameters: {'Benzene Column C660 Operation_Column Temp Profile_C660 Tray 6 (SD & Control)_oC': 86.83085328503122, 'Benzene Column C660 Operation_Column Temp Profile_C660 Tray 23 (Control)_oC': 91.0835034970512, 'Simulation Case Conditions_Spec 2 : NA in Benzene_ppmw': 979.6011429610644}. Best is trial 202 with value: 0.0009308326075826113.\u001b[0m\n",
            "\u001b[32m[I 2021-04-27 06:16:04,498]\u001b[0m Trial 207 finished with value: 0.0033783564996680317 and parameters: {'Benzene Column C660 Operation_Column Temp Profile_C660 Tray 6 (SD & Control)_oC': 86.83082600819264, 'Benzene Column C660 Operation_Column Temp Profile_C660 Tray 23 (Control)_oC': 91.07768714020152, 'Simulation Case Conditions_Spec 2 : NA in Benzene_ppmw': 979.5862455202936}. Best is trial 202 with value: 0.0009308326075826113.\u001b[0m\n",
            "\u001b[32m[I 2021-04-27 06:16:04,595]\u001b[0m Trial 208 finished with value: 0.0018935141561421762 and parameters: {'Benzene Column C660 Operation_Column Temp Profile_C660 Tray 6 (SD & Control)_oC': 86.83213510429125, 'Benzene Column C660 Operation_Column Temp Profile_C660 Tray 23 (Control)_oC': 91.0869487728246, 'Simulation Case Conditions_Spec 2 : NA in Benzene_ppmw': 979.589956819213}. Best is trial 202 with value: 0.0009308326075826113.\u001b[0m\n",
            "\u001b[32m[I 2021-04-27 06:16:04,691]\u001b[0m Trial 209 finished with value: 0.0015302213892963022 and parameters: {'Benzene Column C660 Operation_Column Temp Profile_C660 Tray 6 (SD & Control)_oC': 86.83218588325475, 'Benzene Column C660 Operation_Column Temp Profile_C660 Tray 23 (Control)_oC': 91.09686973966578, 'Simulation Case Conditions_Spec 2 : NA in Benzene_ppmw': 979.5716423526684}. Best is trial 202 with value: 0.0009308326075826113.\u001b[0m\n",
            "\u001b[32m[I 2021-04-27 06:16:04,788]\u001b[0m Trial 210 finished with value: 0.0018375994323053802 and parameters: {'Benzene Column C660 Operation_Column Temp Profile_C660 Tray 6 (SD & Control)_oC': 86.83251866820486, 'Benzene Column C660 Operation_Column Temp Profile_C660 Tray 23 (Control)_oC': 91.09576994611353, 'Simulation Case Conditions_Spec 2 : NA in Benzene_ppmw': 979.6010124203355}. Best is trial 202 with value: 0.0009308326075826113.\u001b[0m\n",
            "\u001b[32m[I 2021-04-27 06:16:04,978]\u001b[0m Trial 211 finished with value: 0.0026690896797339717 and parameters: {'Benzene Column C660 Operation_Column Temp Profile_C660 Tray 6 (SD & Control)_oC': 86.83171186218148, 'Benzene Column C660 Operation_Column Temp Profile_C660 Tray 23 (Control)_oC': 91.09284127531343, 'Simulation Case Conditions_Spec 2 : NA in Benzene_ppmw': 979.5755315796824}. Best is trial 202 with value: 0.0009308326075826113.\u001b[0m\n",
            "\u001b[32m[I 2021-04-27 06:16:05,076]\u001b[0m Trial 212 finished with value: 0.002109612930226338 and parameters: {'Benzene Column C660 Operation_Column Temp Profile_C660 Tray 6 (SD & Control)_oC': 86.83171867178359, 'Benzene Column C660 Operation_Column Temp Profile_C660 Tray 23 (Control)_oC': 91.09031862900184, 'Simulation Case Conditions_Spec 2 : NA in Benzene_ppmw': 979.5943648595265}. Best is trial 202 with value: 0.0009308326075826113.\u001b[0m\n",
            "\u001b[32m[I 2021-04-27 06:16:05,161]\u001b[0m Trial 213 finished with value: 0.002452998815119093 and parameters: {'Benzene Column C660 Operation_Column Temp Profile_C660 Tray 6 (SD & Control)_oC': 86.83231658426195, 'Benzene Column C660 Operation_Column Temp Profile_C660 Tray 23 (Control)_oC': 91.08754530489884, 'Simulation Case Conditions_Spec 2 : NA in Benzene_ppmw': 979.5747262458704}. Best is trial 202 with value: 0.0009308326075826113.\u001b[0m\n",
            "\u001b[32m[I 2021-04-27 06:16:05,255]\u001b[0m Trial 214 finished with value: 0.00428817444335666 and parameters: {'Benzene Column C660 Operation_Column Temp Profile_C660 Tray 6 (SD & Control)_oC': 86.83122976079306, 'Benzene Column C660 Operation_Column Temp Profile_C660 Tray 23 (Control)_oC': 91.0907457654351, 'Simulation Case Conditions_Spec 2 : NA in Benzene_ppmw': 979.5531984011179}. Best is trial 202 with value: 0.0009308326075826113.\u001b[0m\n",
            "\u001b[32m[I 2021-04-27 06:16:05,353]\u001b[0m Trial 215 finished with value: 0.00402275602195744 and parameters: {'Benzene Column C660 Operation_Column Temp Profile_C660 Tray 6 (SD & Control)_oC': 86.8313650058644, 'Benzene Column C660 Operation_Column Temp Profile_C660 Tray 23 (Control)_oC': 91.09274556782707, 'Simulation Case Conditions_Spec 2 : NA in Benzene_ppmw': 979.5795463140114}. Best is trial 202 with value: 0.0009308326075826113.\u001b[0m\n",
            "\u001b[32m[I 2021-04-27 06:16:05,444]\u001b[0m Trial 216 finished with value: 0.002833523100989003 and parameters: {'Benzene Column C660 Operation_Column Temp Profile_C660 Tray 6 (SD & Control)_oC': 86.83219030545236, 'Benzene Column C660 Operation_Column Temp Profile_C660 Tray 23 (Control)_oC': 91.10380736164585, 'Simulation Case Conditions_Spec 2 : NA in Benzene_ppmw': 979.5599107446407}. Best is trial 202 with value: 0.0009308326075826113.\u001b[0m\n",
            "\u001b[32m[I 2021-04-27 06:16:05,537]\u001b[0m Trial 217 finished with value: 0.0031841721736004945 and parameters: {'Benzene Column C660 Operation_Column Temp Profile_C660 Tray 6 (SD & Control)_oC': 86.83292780099542, 'Benzene Column C660 Operation_Column Temp Profile_C660 Tray 23 (Control)_oC': 91.09703081793185, 'Simulation Case Conditions_Spec 2 : NA in Benzene_ppmw': 979.5856564269513}. Best is trial 202 with value: 0.0009308326075826113.\u001b[0m\n",
            "\u001b[32m[I 2021-04-27 06:16:05,629]\u001b[0m Trial 218 finished with value: 0.001222996044553705 and parameters: {'Benzene Column C660 Operation_Column Temp Profile_C660 Tray 6 (SD & Control)_oC': 86.83203571764801, 'Benzene Column C660 Operation_Column Temp Profile_C660 Tray 23 (Control)_oC': 91.08845030219435, 'Simulation Case Conditions_Spec 2 : NA in Benzene_ppmw': 979.590923384497}. Best is trial 202 with value: 0.0009308326075826113.\u001b[0m\n",
            "\u001b[32m[I 2021-04-27 06:16:05,715]\u001b[0m Trial 219 finished with value: 0.0011468449000216982 and parameters: {'Benzene Column C660 Operation_Column Temp Profile_C660 Tray 6 (SD & Control)_oC': 86.8322577003017, 'Benzene Column C660 Operation_Column Temp Profile_C660 Tray 23 (Control)_oC': 91.09352467406424, 'Simulation Case Conditions_Spec 2 : NA in Benzene_ppmw': 979.5836780517617}. Best is trial 202 with value: 0.0009308326075826113.\u001b[0m\n",
            "\u001b[32m[I 2021-04-27 06:16:05,795]\u001b[0m Trial 220 finished with value: 0.0013113115563932196 and parameters: {'Benzene Column C660 Operation_Column Temp Profile_C660 Tray 6 (SD & Control)_oC': 86.83217766190035, 'Benzene Column C660 Operation_Column Temp Profile_C660 Tray 23 (Control)_oC': 91.09580647371894, 'Simulation Case Conditions_Spec 2 : NA in Benzene_ppmw': 979.5872545719709}. Best is trial 202 with value: 0.0009308326075826113.\u001b[0m\n",
            "\u001b[32m[I 2021-04-27 06:16:05,882]\u001b[0m Trial 221 finished with value: 0.0015448676964463278 and parameters: {'Benzene Column C660 Operation_Column Temp Profile_C660 Tray 6 (SD & Control)_oC': 86.83241395833413, 'Benzene Column C660 Operation_Column Temp Profile_C660 Tray 23 (Control)_oC': 91.09445594742877, 'Simulation Case Conditions_Spec 2 : NA in Benzene_ppmw': 979.5688841893623}. Best is trial 202 with value: 0.0009308326075826113.\u001b[0m\n",
            "\u001b[32m[I 2021-04-27 06:16:05,970]\u001b[0m Trial 222 finished with value: 0.0014594043908330333 and parameters: {'Benzene Column C660 Operation_Column Temp Profile_C660 Tray 6 (SD & Control)_oC': 86.83231288180218, 'Benzene Column C660 Operation_Column Temp Profile_C660 Tray 23 (Control)_oC': 91.09330828651278, 'Simulation Case Conditions_Spec 2 : NA in Benzene_ppmw': 979.5980878406459}. Best is trial 202 with value: 0.0009308326075826113.\u001b[0m\n",
            "\u001b[32m[I 2021-04-27 06:16:06,054]\u001b[0m Trial 223 finished with value: 0.0016525942707326957 and parameters: {'Benzene Column C660 Operation_Column Temp Profile_C660 Tray 6 (SD & Control)_oC': 86.83195016464175, 'Benzene Column C660 Operation_Column Temp Profile_C660 Tray 23 (Control)_oC': 91.09218902035055, 'Simulation Case Conditions_Spec 2 : NA in Benzene_ppmw': 979.5596887267164}. Best is trial 202 with value: 0.0009308326075826113.\u001b[0m\n",
            "\u001b[32m[I 2021-04-27 06:16:06,134]\u001b[0m Trial 224 finished with value: 0.0034914318618646354 and parameters: {'Benzene Column C660 Operation_Column Temp Profile_C660 Tray 6 (SD & Control)_oC': 86.83086151875438, 'Benzene Column C660 Operation_Column Temp Profile_C660 Tray 23 (Control)_oC': 91.07944939965125, 'Simulation Case Conditions_Spec 2 : NA in Benzene_ppmw': 979.6057343390573}. Best is trial 202 with value: 0.0009308326075826113.\u001b[0m\n",
            "\u001b[32m[I 2021-04-27 06:16:06,227]\u001b[0m Trial 225 finished with value: 0.0018328112402912532 and parameters: {'Benzene Column C660 Operation_Column Temp Profile_C660 Tray 6 (SD & Control)_oC': 86.8321868587532, 'Benzene Column C660 Operation_Column Temp Profile_C660 Tray 23 (Control)_oC': 91.08835006249153, 'Simulation Case Conditions_Spec 2 : NA in Benzene_ppmw': 979.5875944377}. Best is trial 202 with value: 0.0009308326075826113.\u001b[0m\n",
            "\u001b[32m[I 2021-04-27 06:16:06,322]\u001b[0m Trial 226 finished with value: 0.0035367031310382167 and parameters: {'Benzene Column C660 Operation_Column Temp Profile_C660 Tray 6 (SD & Control)_oC': 86.8332538274713, 'Benzene Column C660 Operation_Column Temp Profile_C660 Tray 23 (Control)_oC': 91.10212073765375, 'Simulation Case Conditions_Spec 2 : NA in Benzene_ppmw': 979.5826407814894}. Best is trial 202 with value: 0.0009308326075826113.\u001b[0m\n",
            "\u001b[32m[I 2021-04-27 06:16:06,416]\u001b[0m Trial 227 finished with value: 0.001515308682765169 and parameters: {'Benzene Column C660 Operation_Column Temp Profile_C660 Tray 6 (SD & Control)_oC': 86.83188119354624, 'Benzene Column C660 Operation_Column Temp Profile_C660 Tray 23 (Control)_oC': 91.09037126290785, 'Simulation Case Conditions_Spec 2 : NA in Benzene_ppmw': 979.5814093512336}. Best is trial 202 with value: 0.0009308326075826113.\u001b[0m\n",
            "\u001b[32m[I 2021-04-27 06:16:06,509]\u001b[0m Trial 228 finished with value: 0.0023001352297928037 and parameters: {'Benzene Column C660 Operation_Column Temp Profile_C660 Tray 6 (SD & Control)_oC': 86.83268717808657, 'Benzene Column C660 Operation_Column Temp Profile_C660 Tray 23 (Control)_oC': 91.09658042131875, 'Simulation Case Conditions_Spec 2 : NA in Benzene_ppmw': 979.5842043064426}. Best is trial 202 with value: 0.0009308326075826113.\u001b[0m\n",
            "\u001b[32m[I 2021-04-27 06:16:06,608]\u001b[0m Trial 229 finished with value: 0.0009364751121537622 and parameters: {'Benzene Column C660 Operation_Column Temp Profile_C660 Tray 6 (SD & Control)_oC': 86.8320308193102, 'Benzene Column C660 Operation_Column Temp Profile_C660 Tray 23 (Control)_oC': 91.09064797535127, 'Simulation Case Conditions_Spec 2 : NA in Benzene_ppmw': 979.5901527968941}. Best is trial 202 with value: 0.0009308326075826113.\u001b[0m\n",
            "\u001b[32m[I 2021-04-27 06:16:06,713]\u001b[0m Trial 230 finished with value: 0.002216225944255845 and parameters: {'Benzene Column C660 Operation_Column Temp Profile_C660 Tray 6 (SD & Control)_oC': 86.83231769013393, 'Benzene Column C660 Operation_Column Temp Profile_C660 Tray 23 (Control)_oC': 91.08921334480927, 'Simulation Case Conditions_Spec 2 : NA in Benzene_ppmw': 979.5930463630666}. Best is trial 202 with value: 0.0009308326075826113.\u001b[0m\n",
            "\u001b[32m[I 2021-04-27 06:16:06,816]\u001b[0m Trial 231 finished with value: 0.0012943920156436783 and parameters: {'Benzene Column C660 Operation_Column Temp Profile_C660 Tray 6 (SD & Control)_oC': 86.83226475432805, 'Benzene Column C660 Operation_Column Temp Profile_C660 Tray 23 (Control)_oC': 91.09745876436861, 'Simulation Case Conditions_Spec 2 : NA in Benzene_ppmw': 979.5797585234143}. Best is trial 202 with value: 0.0009308326075826113.\u001b[0m\n",
            "\u001b[32m[I 2021-04-27 06:16:06,902]\u001b[0m Trial 232 finished with value: 0.0009062351581518094 and parameters: {'Benzene Column C660 Operation_Column Temp Profile_C660 Tray 6 (SD & Control)_oC': 86.83214215665606, 'Benzene Column C660 Operation_Column Temp Profile_C660 Tray 23 (Control)_oC': 91.09267173944613, 'Simulation Case Conditions_Spec 2 : NA in Benzene_ppmw': 979.5785415297385}. Best is trial 232 with value: 0.0009062351581518094.\u001b[0m\n",
            "\u001b[32m[I 2021-04-27 06:16:06,988]\u001b[0m Trial 233 finished with value: 0.0025358984122633823 and parameters: {'Benzene Column C660 Operation_Column Temp Profile_C660 Tray 6 (SD & Control)_oC': 86.8316080205084, 'Benzene Column C660 Operation_Column Temp Profile_C660 Tray 23 (Control)_oC': 91.09014403919225, 'Simulation Case Conditions_Spec 2 : NA in Benzene_ppmw': 979.589848738865}. Best is trial 232 with value: 0.0009062351581518094.\u001b[0m\n",
            "\u001b[32m[I 2021-04-27 06:16:07,068]\u001b[0m Trial 234 finished with value: 0.0013837175572656013 and parameters: {'Benzene Column C660 Operation_Column Temp Profile_C660 Tray 6 (SD & Control)_oC': 86.83209403293495, 'Benzene Column C660 Operation_Column Temp Profile_C660 Tray 23 (Control)_oC': 91.09432872582879, 'Simulation Case Conditions_Spec 2 : NA in Benzene_ppmw': 979.5843605085986}. Best is trial 232 with value: 0.0009062351581518094.\u001b[0m\n",
            "\u001b[32m[I 2021-04-27 06:16:07,160]\u001b[0m Trial 235 finished with value: 0.0016962434588459778 and parameters: {'Benzene Column C660 Operation_Column Temp Profile_C660 Tray 6 (SD & Control)_oC': 86.83174930280188, 'Benzene Column C660 Operation_Column Temp Profile_C660 Tray 23 (Control)_oC': 91.08862615267135, 'Simulation Case Conditions_Spec 2 : NA in Benzene_ppmw': 979.5884587222229}. Best is trial 232 with value: 0.0009062351581518094.\u001b[0m\n",
            "\u001b[32m[I 2021-04-27 06:16:07,266]\u001b[0m Trial 236 finished with value: 0.0009782923285947807 and parameters: {'Benzene Column C660 Operation_Column Temp Profile_C660 Tray 6 (SD & Control)_oC': 86.8322812696487, 'Benzene Column C660 Operation_Column Temp Profile_C660 Tray 23 (Control)_oC': 91.09492841313818, 'Simulation Case Conditions_Spec 2 : NA in Benzene_ppmw': 979.5826704715575}. Best is trial 232 with value: 0.0009062351581518094.\u001b[0m\n",
            "\u001b[32m[I 2021-04-27 06:16:07,357]\u001b[0m Trial 237 finished with value: 0.001057196200433932 and parameters: {'Benzene Column C660 Operation_Column Temp Profile_C660 Tray 6 (SD & Control)_oC': 86.83239455107191, 'Benzene Column C660 Operation_Column Temp Profile_C660 Tray 23 (Control)_oC': 91.0991076603102, 'Simulation Case Conditions_Spec 2 : NA in Benzene_ppmw': 979.5858969541965}. Best is trial 232 with value: 0.0009062351581518094.\u001b[0m\n",
            "\u001b[32m[I 2021-04-27 06:16:07,454]\u001b[0m Trial 238 finished with value: 0.0021776779905251396 and parameters: {'Benzene Column C660 Operation_Column Temp Profile_C660 Tray 6 (SD & Control)_oC': 86.83252364460874, 'Benzene Column C660 Operation_Column Temp Profile_C660 Tray 23 (Control)_oC': 91.09385277334896, 'Simulation Case Conditions_Spec 2 : NA in Benzene_ppmw': 979.5917373336481}. Best is trial 232 with value: 0.0009062351581518094.\u001b[0m\n",
            "\u001b[32m[I 2021-04-27 06:16:07,546]\u001b[0m Trial 239 finished with value: 0.001055927696231188 and parameters: {'Benzene Column C660 Operation_Column Temp Profile_C660 Tray 6 (SD & Control)_oC': 86.8323759421261, 'Benzene Column C660 Operation_Column Temp Profile_C660 Tray 23 (Control)_oC': 91.09654096985132, 'Simulation Case Conditions_Spec 2 : NA in Benzene_ppmw': 979.5819510930537}. Best is trial 232 with value: 0.0009062351581518094.\u001b[0m\n",
            "\u001b[32m[I 2021-04-27 06:16:07,644]\u001b[0m Trial 240 finished with value: 0.0010105320461499601 and parameters: {'Benzene Column C660 Operation_Column Temp Profile_C660 Tray 6 (SD & Control)_oC': 86.83225697728253, 'Benzene Column C660 Operation_Column Temp Profile_C660 Tray 23 (Control)_oC': 91.09413723284612, 'Simulation Case Conditions_Spec 2 : NA in Benzene_ppmw': 979.578124727737}. Best is trial 232 with value: 0.0009062351581518094.\u001b[0m\n",
            "\u001b[32m[I 2021-04-27 06:16:07,739]\u001b[0m Trial 241 finished with value: 0.001012125849236974 and parameters: {'Benzene Column C660 Operation_Column Temp Profile_C660 Tray 6 (SD & Control)_oC': 86.83223381950637, 'Benzene Column C660 Operation_Column Temp Profile_C660 Tray 23 (Control)_oC': 91.09341334849353, 'Simulation Case Conditions_Spec 2 : NA in Benzene_ppmw': 979.5672500566972}. Best is trial 232 with value: 0.0009062351581518094.\u001b[0m\n",
            "\u001b[32m[I 2021-04-27 06:16:07,828]\u001b[0m Trial 242 finished with value: 0.0015603856602865451 and parameters: {'Benzene Column C660 Operation_Column Temp Profile_C660 Tray 6 (SD & Control)_oC': 86.83184790608976, 'Benzene Column C660 Operation_Column Temp Profile_C660 Tray 23 (Control)_oC': 91.08990434021482, 'Simulation Case Conditions_Spec 2 : NA in Benzene_ppmw': 979.5820333175375}. Best is trial 232 with value: 0.0009062351581518094.\u001b[0m\n",
            "\u001b[32m[I 2021-04-27 06:16:07,920]\u001b[0m Trial 243 finished with value: 0.0011232447869943866 and parameters: {'Benzene Column C660 Operation_Column Temp Profile_C660 Tray 6 (SD & Control)_oC': 86.83202782179944, 'Benzene Column C660 Operation_Column Temp Profile_C660 Tray 23 (Control)_oC': 91.09142307514125, 'Simulation Case Conditions_Spec 2 : NA in Benzene_ppmw': 979.5812719093278}. Best is trial 232 with value: 0.0009062351581518094.\u001b[0m\n",
            "\u001b[32m[I 2021-04-27 06:16:08,021]\u001b[0m Trial 244 finished with value: 0.0013113534703232143 and parameters: {'Benzene Column C660 Operation_Column Temp Profile_C660 Tray 6 (SD & Control)_oC': 86.83219890695031, 'Benzene Column C660 Operation_Column Temp Profile_C660 Tray 23 (Control)_oC': 91.09137734293354, 'Simulation Case Conditions_Spec 2 : NA in Benzene_ppmw': 979.5845938353741}. Best is trial 232 with value: 0.0009062351581518094.\u001b[0m\n",
            "\u001b[32m[I 2021-04-27 06:16:08,115]\u001b[0m Trial 245 finished with value: 0.0013380613435329915 and parameters: {'Benzene Column C660 Operation_Column Temp Profile_C660 Tray 6 (SD & Control)_oC': 86.83211528457724, 'Benzene Column C660 Operation_Column Temp Profile_C660 Tray 23 (Control)_oC': 91.08932178967208, 'Simulation Case Conditions_Spec 2 : NA in Benzene_ppmw': 979.5794309151661}. Best is trial 232 with value: 0.0009062351581518094.\u001b[0m\n",
            "\u001b[32m[I 2021-04-27 06:16:08,203]\u001b[0m Trial 246 finished with value: 0.0010740524831966008 and parameters: {'Benzene Column C660 Operation_Column Temp Profile_C660 Tray 6 (SD & Control)_oC': 86.83217567343544, 'Benzene Column C660 Operation_Column Temp Profile_C660 Tray 23 (Control)_oC': 91.0919693732293, 'Simulation Case Conditions_Spec 2 : NA in Benzene_ppmw': 979.5749246496426}. Best is trial 232 with value: 0.0009062351581518094.\u001b[0m\n",
            "\u001b[32m[I 2021-04-27 06:16:08,291]\u001b[0m Trial 247 finished with value: 0.0012366574600422007 and parameters: {'Benzene Column C660 Operation_Column Temp Profile_C660 Tray 6 (SD & Control)_oC': 86.83233139504985, 'Benzene Column C660 Operation_Column Temp Profile_C660 Tray 23 (Control)_oC': 91.09849572678606, 'Simulation Case Conditions_Spec 2 : NA in Benzene_ppmw': 979.5748440517888}. Best is trial 232 with value: 0.0009062351581518094.\u001b[0m\n",
            "\u001b[32m[I 2021-04-27 06:16:08,378]\u001b[0m Trial 248 finished with value: 0.0009654197025196996 and parameters: {'Benzene Column C660 Operation_Column Temp Profile_C660 Tray 6 (SD & Control)_oC': 86.83207740890131, 'Benzene Column C660 Operation_Column Temp Profile_C660 Tray 23 (Control)_oC': 91.09157769159654, 'Simulation Case Conditions_Spec 2 : NA in Benzene_ppmw': 979.5778717878859}. Best is trial 232 with value: 0.0009062351581518094.\u001b[0m\n",
            "\u001b[32m[I 2021-04-27 06:16:08,472]\u001b[0m Trial 249 finished with value: 0.0012262868463240525 and parameters: {'Benzene Column C660 Operation_Column Temp Profile_C660 Tray 6 (SD & Control)_oC': 86.83237166749275, 'Benzene Column C660 Operation_Column Temp Profile_C660 Tray 23 (Control)_oC': 91.09933672961152, 'Simulation Case Conditions_Spec 2 : NA in Benzene_ppmw': 979.5760677561251}. Best is trial 232 with value: 0.0009062351581518094.\u001b[0m\n",
            "\u001b[32m[I 2021-04-27 06:16:08,560]\u001b[0m Trial 250 finished with value: 0.0013271819430830374 and parameters: {'Benzene Column C660 Operation_Column Temp Profile_C660 Tray 6 (SD & Control)_oC': 86.83245949766786, 'Benzene Column C660 Operation_Column Temp Profile_C660 Tray 23 (Control)_oC': 91.09663418074086, 'Simulation Case Conditions_Spec 2 : NA in Benzene_ppmw': 979.5696147820817}. Best is trial 232 with value: 0.0009062351581518094.\u001b[0m\n",
            "\u001b[32m[I 2021-04-27 06:16:08,647]\u001b[0m Trial 251 finished with value: 0.001280372940198246 and parameters: {'Benzene Column C660 Operation_Column Temp Profile_C660 Tray 6 (SD & Control)_oC': 86.8321865254584, 'Benzene Column C660 Operation_Column Temp Profile_C660 Tray 23 (Control)_oC': 91.0910468747256, 'Simulation Case Conditions_Spec 2 : NA in Benzene_ppmw': 979.5729667531385}. Best is trial 232 with value: 0.0009062351581518094.\u001b[0m\n",
            "\u001b[32m[I 2021-04-27 06:16:08,732]\u001b[0m Trial 252 finished with value: 0.0011768482154826622 and parameters: {'Benzene Column C660 Operation_Column Temp Profile_C660 Tray 6 (SD & Control)_oC': 86.83238712704981, 'Benzene Column C660 Operation_Column Temp Profile_C660 Tray 23 (Control)_oC': 91.09610145630747, 'Simulation Case Conditions_Spec 2 : NA in Benzene_ppmw': 979.5806409087274}. Best is trial 232 with value: 0.0009062351581518094.\u001b[0m\n",
            "\u001b[32m[I 2021-04-27 06:16:08,825]\u001b[0m Trial 253 finished with value: 0.0011056451301908034 and parameters: {'Benzene Column C660 Operation_Column Temp Profile_C660 Tray 6 (SD & Control)_oC': 86.83193320119308, 'Benzene Column C660 Operation_Column Temp Profile_C660 Tray 23 (Control)_oC': 91.08916418742761, 'Simulation Case Conditions_Spec 2 : NA in Benzene_ppmw': 979.5754957015375}. Best is trial 232 with value: 0.0009062351581518094.\u001b[0m\n",
            "\u001b[32m[I 2021-04-27 06:16:08,903]\u001b[0m Trial 254 finished with value: 0.001861104073173905 and parameters: {'Benzene Column C660 Operation_Column Temp Profile_C660 Tray 6 (SD & Control)_oC': 86.83224436578409, 'Benzene Column C660 Operation_Column Temp Profile_C660 Tray 23 (Control)_oC': 91.08935056825295, 'Simulation Case Conditions_Spec 2 : NA in Benzene_ppmw': 979.582922835622}. Best is trial 232 with value: 0.0009062351581518094.\u001b[0m\n",
            "\u001b[32m[I 2021-04-27 06:16:08,983]\u001b[0m Trial 255 finished with value: 0.0010341284582106932 and parameters: {'Benzene Column C660 Operation_Column Temp Profile_C660 Tray 6 (SD & Control)_oC': 86.83237482504681, 'Benzene Column C660 Operation_Column Temp Profile_C660 Tray 23 (Control)_oC': 91.09642915071208, 'Simulation Case Conditions_Spec 2 : NA in Benzene_ppmw': 979.5715330168018}. Best is trial 232 with value: 0.0009062351581518094.\u001b[0m\n",
            "\u001b[32m[I 2021-04-27 06:16:09,082]\u001b[0m Trial 256 finished with value: 0.001053431536501994 and parameters: {'Benzene Column C660 Operation_Column Temp Profile_C660 Tray 6 (SD & Control)_oC': 86.83222885709002, 'Benzene Column C660 Operation_Column Temp Profile_C660 Tray 23 (Control)_oC': 91.09334084220416, 'Simulation Case Conditions_Spec 2 : NA in Benzene_ppmw': 979.5803290517083}. Best is trial 232 with value: 0.0009062351581518094.\u001b[0m\n",
            "\u001b[32m[I 2021-04-27 06:16:09,182]\u001b[0m Trial 257 finished with value: 0.0008649299143529817 and parameters: {'Benzene Column C660 Operation_Column Temp Profile_C660 Tray 6 (SD & Control)_oC': 86.83231251305794, 'Benzene Column C660 Operation_Column Temp Profile_C660 Tray 23 (Control)_oC': 91.09601710080489, 'Simulation Case Conditions_Spec 2 : NA in Benzene_ppmw': 979.5720379703014}. Best is trial 257 with value: 0.0008649299143529817.\u001b[0m\n",
            "\u001b[32m[I 2021-04-27 06:16:09,275]\u001b[0m Trial 258 finished with value: 0.00141339266849761 and parameters: {'Benzene Column C660 Operation_Column Temp Profile_C660 Tray 6 (SD & Control)_oC': 86.83237077254698, 'Benzene Column C660 Operation_Column Temp Profile_C660 Tray 23 (Control)_oC': 91.09454924012844, 'Simulation Case Conditions_Spec 2 : NA in Benzene_ppmw': 979.584844297019}. Best is trial 257 with value: 0.0008649299143529817.\u001b[0m\n",
            "\u001b[32m[I 2021-04-27 06:16:09,370]\u001b[0m Trial 259 finished with value: 0.0010729204563657215 and parameters: {'Benzene Column C660 Operation_Column Temp Profile_C660 Tray 6 (SD & Control)_oC': 86.83220800882737, 'Benzene Column C660 Operation_Column Temp Profile_C660 Tray 23 (Control)_oC': 91.0926055181212, 'Simulation Case Conditions_Spec 2 : NA in Benzene_ppmw': 979.5713912737801}. Best is trial 257 with value: 0.0008649299143529817.\u001b[0m\n",
            "\u001b[32m[I 2021-04-27 06:16:09,476]\u001b[0m Trial 260 finished with value: 0.0011028509463454606 and parameters: {'Benzene Column C660 Operation_Column Temp Profile_C660 Tray 6 (SD & Control)_oC': 86.83225996138808, 'Benzene Column C660 Operation_Column Temp Profile_C660 Tray 23 (Control)_oC': 91.0959578027893, 'Simulation Case Conditions_Spec 2 : NA in Benzene_ppmw': 979.5612335879799}. Best is trial 257 with value: 0.0008649299143529817.\u001b[0m\n",
            "\u001b[32m[I 2021-04-27 06:16:09,569]\u001b[0m Trial 261 finished with value: 0.001291131900676274 and parameters: {'Benzene Column C660 Operation_Column Temp Profile_C660 Tray 6 (SD & Control)_oC': 86.83240632343151, 'Benzene Column C660 Operation_Column Temp Profile_C660 Tray 23 (Control)_oC': 91.09587613849887, 'Simulation Case Conditions_Spec 2 : NA in Benzene_ppmw': 979.5795382690051}. Best is trial 257 with value: 0.0008649299143529817.\u001b[0m\n",
            "\u001b[32m[I 2021-04-27 06:16:09,665]\u001b[0m Trial 262 finished with value: 0.0011892112503516811 and parameters: {'Benzene Column C660 Operation_Column Temp Profile_C660 Tray 6 (SD & Control)_oC': 86.83235374161436, 'Benzene Column C660 Operation_Column Temp Profile_C660 Tray 23 (Control)_oC': 91.09852991774365, 'Simulation Case Conditions_Spec 2 : NA in Benzene_ppmw': 979.5648650708149}. Best is trial 257 with value: 0.0008649299143529817.\u001b[0m\n",
            "\u001b[32m[I 2021-04-27 06:16:09,762]\u001b[0m Trial 263 finished with value: 0.001231943914130785 and parameters: {'Benzene Column C660 Operation_Column Temp Profile_C660 Tray 6 (SD & Control)_oC': 86.83224676729971, 'Benzene Column C660 Operation_Column Temp Profile_C660 Tray 23 (Control)_oC': 91.09626291607378, 'Simulation Case Conditions_Spec 2 : NA in Benzene_ppmw': 979.5556259066906}. Best is trial 257 with value: 0.0008649299143529817.\u001b[0m\n",
            "\u001b[32m[I 2021-04-27 06:16:09,850]\u001b[0m Trial 264 finished with value: 0.001266705667039026 and parameters: {'Benzene Column C660 Operation_Column Temp Profile_C660 Tray 6 (SD & Control)_oC': 86.83220904187615, 'Benzene Column C660 Operation_Column Temp Profile_C660 Tray 23 (Control)_oC': 91.09585647405572, 'Simulation Case Conditions_Spec 2 : NA in Benzene_ppmw': 979.5671945854141}. Best is trial 257 with value: 0.0008649299143529817.\u001b[0m\n",
            "\u001b[32m[I 2021-04-27 06:16:09,933]\u001b[0m Trial 265 finished with value: 0.0010590083618577698 and parameters: {'Benzene Column C660 Operation_Column Temp Profile_C660 Tray 6 (SD & Control)_oC': 86.83220899578062, 'Benzene Column C660 Operation_Column Temp Profile_C660 Tray 23 (Control)_oC': 91.09480648467454, 'Simulation Case Conditions_Spec 2 : NA in Benzene_ppmw': 979.5711525615322}. Best is trial 257 with value: 0.0008649299143529817.\u001b[0m\n",
            "\u001b[32m[I 2021-04-27 06:16:10,027]\u001b[0m Trial 266 finished with value: 0.0009295463528058123 and parameters: {'Benzene Column C660 Operation_Column Temp Profile_C660 Tray 6 (SD & Control)_oC': 86.83236466079808, 'Benzene Column C660 Operation_Column Temp Profile_C660 Tray 23 (Control)_oC': 91.09739242505943, 'Simulation Case Conditions_Spec 2 : NA in Benzene_ppmw': 979.5665591298368}. Best is trial 257 with value: 0.0008649299143529817.\u001b[0m\n",
            "\u001b[32m[I 2021-04-27 06:16:10,121]\u001b[0m Trial 267 finished with value: 0.0009559480049031346 and parameters: {'Benzene Column C660 Operation_Column Temp Profile_C660 Tray 6 (SD & Control)_oC': 86.8323353208059, 'Benzene Column C660 Operation_Column Temp Profile_C660 Tray 23 (Control)_oC': 91.09593559013985, 'Simulation Case Conditions_Spec 2 : NA in Benzene_ppmw': 979.5683491993112}. Best is trial 257 with value: 0.0008649299143529817.\u001b[0m\n",
            "\u001b[32m[I 2021-04-27 06:16:10,209]\u001b[0m Trial 268 finished with value: 0.0012771930024131474 and parameters: {'Benzene Column C660 Operation_Column Temp Profile_C660 Tray 6 (SD & Control)_oC': 86.8323351797142, 'Benzene Column C660 Operation_Column Temp Profile_C660 Tray 23 (Control)_oC': 91.09872108852649, 'Simulation Case Conditions_Spec 2 : NA in Benzene_ppmw': 979.5708544731725}. Best is trial 257 with value: 0.0008649299143529817.\u001b[0m\n",
            "\u001b[32m[I 2021-04-27 06:16:10,306]\u001b[0m Trial 269 finished with value: 0.0009468024420764883 and parameters: {'Benzene Column C660 Operation_Column Temp Profile_C660 Tray 6 (SD & Control)_oC': 86.83227221013642, 'Benzene Column C660 Operation_Column Temp Profile_C660 Tray 23 (Control)_oC': 91.09545308543933, 'Simulation Case Conditions_Spec 2 : NA in Benzene_ppmw': 979.5651270841613}. Best is trial 257 with value: 0.0008649299143529817.\u001b[0m\n",
            "\u001b[32m[I 2021-04-27 06:16:10,398]\u001b[0m Trial 270 finished with value: 0.0009443481476884419 and parameters: {'Benzene Column C660 Operation_Column Temp Profile_C660 Tray 6 (SD & Control)_oC': 86.8323317075839, 'Benzene Column C660 Operation_Column Temp Profile_C660 Tray 23 (Control)_oC': 91.0958679432338, 'Simulation Case Conditions_Spec 2 : NA in Benzene_ppmw': 979.5657265986846}. Best is trial 257 with value: 0.0008649299143529817.\u001b[0m\n",
            "\u001b[32m[I 2021-04-27 06:16:10,495]\u001b[0m Trial 271 finished with value: 0.0014609864575158013 and parameters: {'Benzene Column C660 Operation_Column Temp Profile_C660 Tray 6 (SD & Control)_oC': 86.8322918573968, 'Benzene Column C660 Operation_Column Temp Profile_C660 Tray 23 (Control)_oC': 91.09243768161613, 'Simulation Case Conditions_Spec 2 : NA in Benzene_ppmw': 979.5774302639787}. Best is trial 257 with value: 0.0008649299143529817.\u001b[0m\n",
            "\u001b[32m[I 2021-04-27 06:16:10,582]\u001b[0m Trial 272 finished with value: 0.001076687002938946 and parameters: {'Benzene Column C660 Operation_Column Temp Profile_C660 Tray 6 (SD & Control)_oC': 86.8322165592411, 'Benzene Column C660 Operation_Column Temp Profile_C660 Tray 23 (Control)_oC': 91.09490968979294, 'Simulation Case Conditions_Spec 2 : NA in Benzene_ppmw': 979.5630395278757}. Best is trial 257 with value: 0.0008649299143529817.\u001b[0m\n",
            "\u001b[32m[I 2021-04-27 06:16:10,676]\u001b[0m Trial 273 finished with value: 0.0008727464661533942 and parameters: {'Benzene Column C660 Operation_Column Temp Profile_C660 Tray 6 (SD & Control)_oC': 86.83244713403647, 'Benzene Column C660 Operation_Column Temp Profile_C660 Tray 23 (Control)_oC': 91.09881757287258, 'Simulation Case Conditions_Spec 2 : NA in Benzene_ppmw': 979.5636041974316}. Best is trial 257 with value: 0.0008649299143529817.\u001b[0m\n",
            "\u001b[32m[I 2021-04-27 06:16:10,771]\u001b[0m Trial 274 finished with value: 0.0014437834501527412 and parameters: {'Benzene Column C660 Operation_Column Temp Profile_C660 Tray 6 (SD & Control)_oC': 86.83251036696794, 'Benzene Column C660 Operation_Column Temp Profile_C660 Tray 23 (Control)_oC': 91.09710481792753, 'Simulation Case Conditions_Spec 2 : NA in Benzene_ppmw': 979.569608340386}. Best is trial 257 with value: 0.0008649299143529817.\u001b[0m\n",
            "\u001b[32m[I 2021-04-27 06:16:10,851]\u001b[0m Trial 275 finished with value: 0.0013060286073787472 and parameters: {'Benzene Column C660 Operation_Column Temp Profile_C660 Tray 6 (SD & Control)_oC': 86.83232565853234, 'Benzene Column C660 Operation_Column Temp Profile_C660 Tray 23 (Control)_oC': 91.09394352888181, 'Simulation Case Conditions_Spec 2 : NA in Benzene_ppmw': 979.5741591562123}. Best is trial 257 with value: 0.0008649299143529817.\u001b[0m\n",
            "\u001b[32m[I 2021-04-27 06:16:10,935]\u001b[0m Trial 276 finished with value: 0.0013303277300863025 and parameters: {'Benzene Column C660 Operation_Column Temp Profile_C660 Tray 6 (SD & Control)_oC': 86.83254474102806, 'Benzene Column C660 Operation_Column Temp Profile_C660 Tray 23 (Control)_oC': 91.09817596588023, 'Simulation Case Conditions_Spec 2 : NA in Benzene_ppmw': 979.5551307329405}. Best is trial 257 with value: 0.0008649299143529817.\u001b[0m\n",
            "\u001b[32m[I 2021-04-27 06:16:11,028]\u001b[0m Trial 277 finished with value: 0.0009199236079807021 and parameters: {'Benzene Column C660 Operation_Column Temp Profile_C660 Tray 6 (SD & Control)_oC': 86.83249472057001, 'Benzene Column C660 Operation_Column Temp Profile_C660 Tray 23 (Control)_oC': 91.10007586469386, 'Simulation Case Conditions_Spec 2 : NA in Benzene_ppmw': 979.5621612983413}. Best is trial 257 with value: 0.0008649299143529817.\u001b[0m\n",
            "\u001b[32m[I 2021-04-27 06:16:11,111]\u001b[0m Trial 278 finished with value: 0.001031795973635739 and parameters: {'Benzene Column C660 Operation_Column Temp Profile_C660 Tray 6 (SD & Control)_oC': 86.83225472592072, 'Benzene Column C660 Operation_Column Temp Profile_C660 Tray 23 (Control)_oC': 91.09559305282751, 'Simulation Case Conditions_Spec 2 : NA in Benzene_ppmw': 979.5681390363003}. Best is trial 257 with value: 0.0008649299143529817.\u001b[0m\n",
            "\u001b[32m[I 2021-04-27 06:16:11,194]\u001b[0m Trial 279 finished with value: 0.0010425924070966218 and parameters: {'Benzene Column C660 Operation_Column Temp Profile_C660 Tray 6 (SD & Control)_oC': 86.8323548023986, 'Benzene Column C660 Operation_Column Temp Profile_C660 Tray 23 (Control)_oC': 91.09587552519729, 'Simulation Case Conditions_Spec 2 : NA in Benzene_ppmw': 979.5677638910299}. Best is trial 257 with value: 0.0008649299143529817.\u001b[0m\n",
            "\u001b[32m[I 2021-04-27 06:16:11,279]\u001b[0m Trial 280 finished with value: 0.0015703602131988653 and parameters: {'Benzene Column C660 Operation_Column Temp Profile_C660 Tray 6 (SD & Control)_oC': 86.83249890060804, 'Benzene Column C660 Operation_Column Temp Profile_C660 Tray 23 (Control)_oC': 91.09604291514809, 'Simulation Case Conditions_Spec 2 : NA in Benzene_ppmw': 979.5631329797135}. Best is trial 257 with value: 0.0008649299143529817.\u001b[0m\n",
            "\u001b[32m[I 2021-04-27 06:16:11,365]\u001b[0m Trial 281 finished with value: 0.001003698730333823 and parameters: {'Benzene Column C660 Operation_Column Temp Profile_C660 Tray 6 (SD & Control)_oC': 86.83254099075664, 'Benzene Column C660 Operation_Column Temp Profile_C660 Tray 23 (Control)_oC': 91.10011324136198, 'Simulation Case Conditions_Spec 2 : NA in Benzene_ppmw': 979.5676415460277}. Best is trial 257 with value: 0.0008649299143529817.\u001b[0m\n",
            "\u001b[32m[I 2021-04-27 06:16:11,448]\u001b[0m Trial 282 finished with value: 0.0009790445071903421 and parameters: {'Benzene Column C660 Operation_Column Temp Profile_C660 Tray 6 (SD & Control)_oC': 86.832682603966, 'Benzene Column C660 Operation_Column Temp Profile_C660 Tray 23 (Control)_oC': 91.10322461940365, 'Simulation Case Conditions_Spec 2 : NA in Benzene_ppmw': 979.5632065630194}. Best is trial 257 with value: 0.0008649299143529817.\u001b[0m\n",
            "\u001b[32m[I 2021-04-27 06:16:11,551]\u001b[0m Trial 283 finished with value: 0.0009795456256008078 and parameters: {'Benzene Column C660 Operation_Column Temp Profile_C660 Tray 6 (SD & Control)_oC': 86.83247568199228, 'Benzene Column C660 Operation_Column Temp Profile_C660 Tray 23 (Control)_oC': 91.09993728127417, 'Simulation Case Conditions_Spec 2 : NA in Benzene_ppmw': 979.5596632088844}. Best is trial 257 with value: 0.0008649299143529817.\u001b[0m\n",
            "\u001b[32m[I 2021-04-27 06:16:11,642]\u001b[0m Trial 284 finished with value: 0.0009424005731964606 and parameters: {'Benzene Column C660 Operation_Column Temp Profile_C660 Tray 6 (SD & Control)_oC': 86.83232047267546, 'Benzene Column C660 Operation_Column Temp Profile_C660 Tray 23 (Control)_oC': 91.09650693132818, 'Simulation Case Conditions_Spec 2 : NA in Benzene_ppmw': 979.5666710717868}. Best is trial 257 with value: 0.0008649299143529817.\u001b[0m\n",
            "\u001b[32m[I 2021-04-27 06:16:11,739]\u001b[0m Trial 285 finished with value: 0.0011821423756740305 and parameters: {'Benzene Column C660 Operation_Column Temp Profile_C660 Tray 6 (SD & Control)_oC': 86.83230080849196, 'Benzene Column C660 Operation_Column Temp Profile_C660 Tray 23 (Control)_oC': 91.09734048217477, 'Simulation Case Conditions_Spec 2 : NA in Benzene_ppmw': 979.5647849932927}. Best is trial 257 with value: 0.0008649299143529817.\u001b[0m\n",
            "\u001b[32m[I 2021-04-27 06:16:11,825]\u001b[0m Trial 286 finished with value: 0.000937929190728706 and parameters: {'Benzene Column C660 Operation_Column Temp Profile_C660 Tray 6 (SD & Control)_oC': 86.83231164132604, 'Benzene Column C660 Operation_Column Temp Profile_C660 Tray 23 (Control)_oC': 91.09553943820296, 'Simulation Case Conditions_Spec 2 : NA in Benzene_ppmw': 979.5692421941754}. Best is trial 257 with value: 0.0008649299143529817.\u001b[0m\n",
            "\u001b[32m[I 2021-04-27 06:16:11,916]\u001b[0m Trial 287 finished with value: 0.0010593463623873086 and parameters: {'Benzene Column C660 Operation_Column Temp Profile_C660 Tray 6 (SD & Control)_oC': 86.83270126388555, 'Benzene Column C660 Operation_Column Temp Profile_C660 Tray 23 (Control)_oC': 91.10302837639011, 'Simulation Case Conditions_Spec 2 : NA in Benzene_ppmw': 979.5548854899511}. Best is trial 257 with value: 0.0008649299143529817.\u001b[0m\n",
            "\u001b[32m[I 2021-04-27 06:16:12,007]\u001b[0m Trial 288 finished with value: 0.0009756347808069721 and parameters: {'Benzene Column C660 Operation_Column Temp Profile_C660 Tray 6 (SD & Control)_oC': 86.83240881171244, 'Benzene Column C660 Operation_Column Temp Profile_C660 Tray 23 (Control)_oC': 91.09867689811249, 'Simulation Case Conditions_Spec 2 : NA in Benzene_ppmw': 979.5705397978741}. Best is trial 257 with value: 0.0008649299143529817.\u001b[0m\n",
            "\u001b[32m[I 2021-04-27 06:16:12,116]\u001b[0m Trial 289 finished with value: 0.0011799888480010516 and parameters: {'Benzene Column C660 Operation_Column Temp Profile_C660 Tray 6 (SD & Control)_oC': 86.83240339435285, 'Benzene Column C660 Operation_Column Temp Profile_C660 Tray 23 (Control)_oC': 91.09619416260169, 'Simulation Case Conditions_Spec 2 : NA in Benzene_ppmw': 979.5683723745205}. Best is trial 257 with value: 0.0008649299143529817.\u001b[0m\n",
            "\u001b[32m[I 2021-04-27 06:16:12,224]\u001b[0m Trial 290 finished with value: 0.0012539570275479513 and parameters: {'Benzene Column C660 Operation_Column Temp Profile_C660 Tray 6 (SD & Control)_oC': 86.83220957447703, 'Benzene Column C660 Operation_Column Temp Profile_C660 Tray 23 (Control)_oC': 91.09575892713278, 'Simulation Case Conditions_Spec 2 : NA in Benzene_ppmw': 979.5651324120486}. Best is trial 257 with value: 0.0008649299143529817.\u001b[0m\n",
            "\u001b[32m[I 2021-04-27 06:16:12,319]\u001b[0m Trial 291 finished with value: 0.0013838707001671017 and parameters: {'Benzene Column C660 Operation_Column Temp Profile_C660 Tray 6 (SD & Control)_oC': 86.8323422451336, 'Benzene Column C660 Operation_Column Temp Profile_C660 Tray 23 (Control)_oC': 91.09385068103376, 'Simulation Case Conditions_Spec 2 : NA in Benzene_ppmw': 979.5726770151267}. Best is trial 257 with value: 0.0008649299143529817.\u001b[0m\n",
            "\u001b[32m[I 2021-04-27 06:16:12,405]\u001b[0m Trial 292 finished with value: 0.0009021374068046885 and parameters: {'Benzene Column C660 Operation_Column Temp Profile_C660 Tray 6 (SD & Control)_oC': 86.832488939912, 'Benzene Column C660 Operation_Column Temp Profile_C660 Tray 23 (Control)_oC': 91.09987428211274, 'Simulation Case Conditions_Spec 2 : NA in Benzene_ppmw': 979.5631806419383}. Best is trial 257 with value: 0.0008649299143529817.\u001b[0m\n",
            "\u001b[32m[I 2021-04-27 06:16:12,510]\u001b[0m Trial 293 finished with value: 0.001114784001794524 and parameters: {'Benzene Column C660 Operation_Column Temp Profile_C660 Tray 6 (SD & Control)_oC': 86.83242779695486, 'Benzene Column C660 Operation_Column Temp Profile_C660 Tray 23 (Control)_oC': 91.09714078601895, 'Simulation Case Conditions_Spec 2 : NA in Benzene_ppmw': 979.5716612069012}. Best is trial 257 with value: 0.0008649299143529817.\u001b[0m\n",
            "\u001b[32m[I 2021-04-27 06:16:12,603]\u001b[0m Trial 294 finished with value: 0.0010005005156590214 and parameters: {'Benzene Column C660 Operation_Column Temp Profile_C660 Tray 6 (SD & Control)_oC': 86.83236401799121, 'Benzene Column C660 Operation_Column Temp Profile_C660 Tray 23 (Control)_oC': 91.09625408267311, 'Simulation Case Conditions_Spec 2 : NA in Benzene_ppmw': 979.565278431875}. Best is trial 257 with value: 0.0008649299143529817.\u001b[0m\n",
            "\u001b[32m[I 2021-04-27 06:16:12,692]\u001b[0m Trial 295 finished with value: 0.001037811157605871 and parameters: {'Benzene Column C660 Operation_Column Temp Profile_C660 Tray 6 (SD & Control)_oC': 86.8325279261169, 'Benzene Column C660 Operation_Column Temp Profile_C660 Tray 23 (Control)_oC': 91.09955982378457, 'Simulation Case Conditions_Spec 2 : NA in Benzene_ppmw': 979.5633084440476}. Best is trial 257 with value: 0.0008649299143529817.\u001b[0m\n",
            "\u001b[32m[I 2021-04-27 06:16:12,785]\u001b[0m Trial 296 finished with value: 0.0009580789345332159 and parameters: {'Benzene Column C660 Operation_Column Temp Profile_C660 Tray 6 (SD & Control)_oC': 86.8323138825925, 'Benzene Column C660 Operation_Column Temp Profile_C660 Tray 23 (Control)_oC': 91.09649940851124, 'Simulation Case Conditions_Spec 2 : NA in Benzene_ppmw': 979.569310235958}. Best is trial 257 with value: 0.0008649299143529817.\u001b[0m\n",
            "\u001b[32m[I 2021-04-27 06:16:12,875]\u001b[0m Trial 297 finished with value: 0.0009719344309380637 and parameters: {'Benzene Column C660 Operation_Column Temp Profile_C660 Tray 6 (SD & Control)_oC': 86.83237109878856, 'Benzene Column C660 Operation_Column Temp Profile_C660 Tray 23 (Control)_oC': 91.0978770467107, 'Simulation Case Conditions_Spec 2 : NA in Benzene_ppmw': 979.5725189678348}. Best is trial 257 with value: 0.0008649299143529817.\u001b[0m\n",
            "\u001b[32m[I 2021-04-27 06:16:12,974]\u001b[0m Trial 298 finished with value: 0.0009929471512792377 and parameters: {'Benzene Column C660 Operation_Column Temp Profile_C660 Tray 6 (SD & Control)_oC': 86.83251272793039, 'Benzene Column C660 Operation_Column Temp Profile_C660 Tray 23 (Control)_oC': 91.09960422990784, 'Simulation Case Conditions_Spec 2 : NA in Benzene_ppmw': 979.5698364407259}. Best is trial 257 with value: 0.0008649299143529817.\u001b[0m\n",
            "\u001b[32m[I 2021-04-27 06:16:13,074]\u001b[0m Trial 299 finished with value: 0.0009168849841109828 and parameters: {'Benzene Column C660 Operation_Column Temp Profile_C660 Tray 6 (SD & Control)_oC': 86.83249055520369, 'Benzene Column C660 Operation_Column Temp Profile_C660 Tray 23 (Control)_oC': 91.10002678447007, 'Simulation Case Conditions_Spec 2 : NA in Benzene_ppmw': 979.5651427850639}. Best is trial 257 with value: 0.0008649299143529817.\u001b[0m\n"
          ],
          "name": "stderr"
        },
        {
          "output_type": "stream",
          "text": [
            "bz_error: 8.346506260181741e-05\n",
            "nainbz_error: 29.222046049105757\n",
            "tol_error: 8.900583372550841e-06\n"
          ],
          "name": "stdout"
        }
      ]
    },
    {
      "cell_type": "markdown",
      "metadata": {
        "id": "xSkcppr3yfo_"
      },
      "source": [
        "# 計算delta調幅"
      ]
    },
    {
      "cell_type": "code",
      "metadata": {
        "id": "24-1JGcxygAo",
        "colab": {
          "base_uri": "https://localhost:8080/",
          "height": 80
        },
        "outputId": "eac61222-994d-4928-8d6c-de00e1d961ad"
      },
      "source": [
        "(c620_op2-c620_op).iloc[:,-2:]"
      ],
      "execution_count": 41,
      "outputs": [
        {
          "output_type": "execute_result",
          "data": {
            "text/html": [
              "<div>\n",
              "<style scoped>\n",
              "    .dataframe tbody tr th:only-of-type {\n",
              "        vertical-align: middle;\n",
              "    }\n",
              "\n",
              "    .dataframe tbody tr th {\n",
              "        vertical-align: top;\n",
              "    }\n",
              "\n",
              "    .dataframe thead th {\n",
              "        text-align: right;\n",
              "    }\n",
              "</style>\n",
              "<table border=\"1\" class=\"dataframe\">\n",
              "  <thead>\n",
              "    <tr style=\"text-align: right;\">\n",
              "      <th></th>\n",
              "      <th>Tatoray Stripper C620 Operation_Column Temp Profile_C620 Tray 14 (Control)_oC</th>\n",
              "      <th>Tatoray Stripper C620 Operation_Column Temp Profile_C620 Tray 34 (Control)_oC</th>\n",
              "    </tr>\n",
              "  </thead>\n",
              "  <tbody>\n",
              "    <tr>\n",
              "      <th>137-026</th>\n",
              "      <td>-0.097854</td>\n",
              "      <td>-0.092828</td>\n",
              "    </tr>\n",
              "  </tbody>\n",
              "</table>\n",
              "</div>"
            ],
            "text/plain": [
              "         Tatoray Stripper C620 Operation_Column Temp Profile_C620 Tray 14 (Control)_oC  Tatoray Stripper C620 Operation_Column Temp Profile_C620 Tray 34 (Control)_oC\n",
              "137-026                                          -0.097854                                                                      -0.092828                            "
            ]
          },
          "metadata": {
            "tags": []
          },
          "execution_count": 41
        }
      ]
    },
    {
      "cell_type": "code",
      "metadata": {
        "id": "Hw-A51MMnMO4",
        "colab": {
          "base_uri": "https://localhost:8080/",
          "height": 80
        },
        "outputId": "da302132-9bfa-433a-c07b-f81094f22e94"
      },
      "source": [
        "(c660_op2-c660_op).iloc[:,-2:]"
      ],
      "execution_count": 42,
      "outputs": [
        {
          "output_type": "execute_result",
          "data": {
            "text/html": [
              "<div>\n",
              "<style scoped>\n",
              "    .dataframe tbody tr th:only-of-type {\n",
              "        vertical-align: middle;\n",
              "    }\n",
              "\n",
              "    .dataframe tbody tr th {\n",
              "        vertical-align: top;\n",
              "    }\n",
              "\n",
              "    .dataframe thead th {\n",
              "        text-align: right;\n",
              "    }\n",
              "</style>\n",
              "<table border=\"1\" class=\"dataframe\">\n",
              "  <thead>\n",
              "    <tr style=\"text-align: right;\">\n",
              "      <th></th>\n",
              "      <th>Benzene Column C660 Operation_Column Temp Profile_C660 Tray 6 (SD &amp; Control)_oC</th>\n",
              "      <th>Benzene Column C660 Operation_Column Temp Profile_C660 Tray 23 (Control)_oC</th>\n",
              "    </tr>\n",
              "  </thead>\n",
              "  <tbody>\n",
              "    <tr>\n",
              "      <th>137-026</th>\n",
              "      <td>0.008864</td>\n",
              "      <td>-0.058913</td>\n",
              "    </tr>\n",
              "  </tbody>\n",
              "</table>\n",
              "</div>"
            ],
            "text/plain": [
              "         Benzene Column C660 Operation_Column Temp Profile_C660 Tray 6 (SD & Control)_oC  Benzene Column C660 Operation_Column Temp Profile_C660 Tray 23 (Control)_oC\n",
              "137-026                                           0.008864                                                                        -0.058913                          "
            ]
          },
          "metadata": {
            "tags": []
          },
          "execution_count": 42
        }
      ]
    },
    {
      "cell_type": "code",
      "metadata": {
        "id": "ifCfN-RQymlp",
        "colab": {
          "base_uri": "https://localhost:8080/",
          "height": 80
        },
        "outputId": "47bd17d5-9777-41c5-971e-901a4ad1ecbc"
      },
      "source": [
        "(c670_op2-c670_op).iloc[:,-2:]"
      ],
      "execution_count": 43,
      "outputs": [
        {
          "output_type": "execute_result",
          "data": {
            "text/html": [
              "<div>\n",
              "<style scoped>\n",
              "    .dataframe tbody tr th:only-of-type {\n",
              "        vertical-align: middle;\n",
              "    }\n",
              "\n",
              "    .dataframe tbody tr th {\n",
              "        vertical-align: top;\n",
              "    }\n",
              "\n",
              "    .dataframe thead th {\n",
              "        text-align: right;\n",
              "    }\n",
              "</style>\n",
              "<table border=\"1\" class=\"dataframe\">\n",
              "  <thead>\n",
              "    <tr style=\"text-align: right;\">\n",
              "      <th></th>\n",
              "      <th>Toluene Column C670 Operation_Column Temp Profile_C670 Tray 24 (Control)_oC</th>\n",
              "      <th>Toluene Column C670 Operation_Column Temp Profile_C670 Btm Temp (Control)_oC</th>\n",
              "    </tr>\n",
              "  </thead>\n",
              "  <tbody>\n",
              "    <tr>\n",
              "      <th>137-026</th>\n",
              "      <td>0.023132</td>\n",
              "      <td>0.052505</td>\n",
              "    </tr>\n",
              "  </tbody>\n",
              "</table>\n",
              "</div>"
            ],
            "text/plain": [
              "         Toluene Column C670 Operation_Column Temp Profile_C670 Tray 24 (Control)_oC  Toluene Column C670 Operation_Column Temp Profile_C670 Btm Temp (Control)_oC\n",
              "137-026                                           0.023132                                                                     0.052505                           "
            ]
          },
          "metadata": {
            "tags": []
          },
          "execution_count": 43
        }
      ]
    },
    {
      "cell_type": "markdown",
      "metadata": {
        "id": "6SRY8beP2bdC"
      },
      "source": [
        "# 檢查Sidedraw Production Rate and Composition_Benzene是否等於70"
      ]
    },
    {
      "cell_type": "code",
      "metadata": {
        "id": "4gL9_TmZypAi",
        "colab": {
          "base_uri": "https://localhost:8080/",
          "height": 80
        },
        "outputId": "257baecf-749b-4c59-bf86-5c7529e9c245"
      },
      "source": [
        "c620_wt2[['Tatoray Stripper C620 Operation_Sidedraw Production Rate and Composition_Benzene_wt%']]"
      ],
      "execution_count": 44,
      "outputs": [
        {
          "output_type": "execute_result",
          "data": {
            "text/html": [
              "<div>\n",
              "<style scoped>\n",
              "    .dataframe tbody tr th:only-of-type {\n",
              "        vertical-align: middle;\n",
              "    }\n",
              "\n",
              "    .dataframe tbody tr th {\n",
              "        vertical-align: top;\n",
              "    }\n",
              "\n",
              "    .dataframe thead th {\n",
              "        text-align: right;\n",
              "    }\n",
              "</style>\n",
              "<table border=\"1\" class=\"dataframe\">\n",
              "  <thead>\n",
              "    <tr style=\"text-align: right;\">\n",
              "      <th></th>\n",
              "      <th>Tatoray Stripper C620 Operation_Sidedraw Production Rate and Composition_Benzene_wt%</th>\n",
              "    </tr>\n",
              "  </thead>\n",
              "  <tbody>\n",
              "    <tr>\n",
              "      <th>137-026</th>\n",
              "      <td>70.000083</td>\n",
              "    </tr>\n",
              "  </tbody>\n",
              "</table>\n",
              "</div>"
            ],
            "text/plain": [
              "         Tatoray Stripper C620 Operation_Sidedraw Production Rate and Composition_Benzene_wt%\n",
              "137-026                                          70.000083                                   "
            ]
          },
          "metadata": {
            "tags": []
          },
          "execution_count": 44
        }
      ]
    },
    {
      "cell_type": "markdown",
      "metadata": {
        "id": "yRgoN9YI-EvJ"
      },
      "source": [
        "# 從原本的920 提高到了 950! 雖然離980有些距離 但是也拉高了30"
      ]
    },
    {
      "cell_type": "markdown",
      "metadata": {
        "id": "TDcjuRm1-2q3"
      },
      "source": [
        "![效益計算.PNG](data:image/png;base64,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)"
      ]
    },
    {
      "cell_type": "code",
      "metadata": {
        "id": "QVGtpZ9c1tn9",
        "colab": {
          "base_uri": "https://localhost:8080/"
        },
        "outputId": "bf0279d5-11e2-43fc-b446-d627f82d96db"
      },
      "source": [
        "na_idx = [1,2,3,4,5,6,8,9,11,13,14,15,20,22,29] \n",
        "c660_wt2.filter(regex='Side').filter(regex='wt%').iloc[:,na_idx].sum(axis=1).values[0]*10000"
      ],
      "execution_count": 47,
      "outputs": [
        {
          "output_type": "execute_result",
          "data": {
            "text/plain": [
              "950.7779539508942"
            ]
          },
          "metadata": {
            "tags": []
          },
          "execution_count": 47
        }
      ]
    },
    {
      "cell_type": "markdown",
      "metadata": {
        "id": "IrizoXyi-it4"
      },
      "source": [
        "# 檢查 TOL 是否等於10"
      ]
    },
    {
      "cell_type": "code",
      "metadata": {
        "id": "yf9nHzl41_GS",
        "colab": {
          "base_uri": "https://localhost:8080/"
        },
        "outputId": "45c82a1f-8ce4-42e3-bd14-e9133f16a0fe"
      },
      "source": [
        "c660_wt2['Benzene Column C660 Operation_Sidedraw (Benzene )Production Rate and Composition_Toluene_wt%'].values[0]*10000"
      ],
      "execution_count": 48,
      "outputs": [
        {
          "output_type": "execute_result",
          "data": {
            "text/plain": [
              "9.999991099416627"
            ]
          },
          "metadata": {
            "tags": []
          },
          "execution_count": 48
        }
      ]
    },
    {
      "cell_type": "code",
      "metadata": {
        "id": "OuzbOOJI4HWu"
      },
      "source": [
        ""
      ],
      "execution_count": 46,
      "outputs": []
    }
  ]
}