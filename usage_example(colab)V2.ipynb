{
  "nbformat": 4,
  "nbformat_minor": 0,
  "metadata": {
    "colab": {
      "name": "usage_example(colab)V2.ipynb",
      "provenance": [],
      "authorship_tag": "ABX9TyNSW6Vfq3dZ9nq+FS0R49+7",
      "include_colab_link": true
    },
    "kernelspec": {
      "name": "python3",
      "display_name": "Python 3"
    },
    "language_info": {
      "name": "python"
    }
  },
  "cells": [
    {
      "cell_type": "markdown",
      "metadata": {
        "id": "view-in-github",
        "colab_type": "text"
      },
      "source": [
        "<a href=\"https://colab.research.google.com/github/skywalker0803r/c620/blob/main/usage_example(colab)V2.ipynb\" target=\"_parent\"><img src=\"https://colab.research.google.com/assets/colab-badge.svg\" alt=\"Open In Colab\"/></a>"
      ]
    },
    {
      "cell_type": "code",
      "metadata": {
        "colab": {
          "base_uri": "https://localhost:8080/"
        },
        "id": "RW02A7ODhoZ-",
        "outputId": "3dcd8443-83c2-4d06-ddb0-57edd8028aab"
      },
      "source": [
        "!git clone https://github.com/skywalker0803r/c620.git\n",
        "!pip install autorch > log.txt\n",
        "!pip install optuna > log.txt"
      ],
      "execution_count": 32,
      "outputs": [
        {
          "output_type": "stream",
          "text": [
            "Cloning into 'c620'...\n",
            "remote: Enumerating objects: 2205, done.\u001b[K\n",
            "remote: Counting objects: 100% (1023/1023), done.\u001b[K\n",
            "remote: Compressing objects: 100% (565/565), done.\u001b[K\n",
            "remote: Total 2205 (delta 665), reused 687 (delta 449), pack-reused 1182\u001b[K\n",
            "Receiving objects: 100% (2205/2205), 54.00 MiB | 21.28 MiB/s, done.\n",
            "Resolving deltas: 100% (1443/1443), done.\n"
          ],
          "name": "stdout"
        }
      ]
    },
    {
      "cell_type": "markdown",
      "metadata": {
        "id": "6WRPk_SMhx38"
      },
      "source": [
        "# import"
      ]
    },
    {
      "cell_type": "code",
      "metadata": {
        "colab": {
          "base_uri": "https://localhost:8080/"
        },
        "id": "rBbhLQgyhvQr",
        "outputId": "8c959841-8fe1-4176-bd37-34cea8cf8441"
      },
      "source": [
        "from c620.FV2 import AllSystem\n",
        "from c620.configV2 import config\n",
        "import joblib\n",
        "import numpy as np\n",
        "import pandas as pd\n",
        "import os\n",
        "os.chdir('/content/c620')\n",
        "print(os.getcwd())\n",
        "!git pull"
      ],
      "execution_count": 33,
      "outputs": [
        {
          "output_type": "stream",
          "text": [
            "/content/c620\n",
            "remote: Enumerating objects: 5, done.\u001b[K\n",
            "remote: Counting objects: 100% (5/5), done.\u001b[K\n",
            "remote: Compressing objects: 100% (3/3), done.\u001b[K\n",
            "remote: Total 3 (delta 2), reused 0 (delta 0), pack-reused 0\u001b[K\n",
            "Unpacking objects: 100% (3/3), done.\n",
            "From https://github.com/skywalker0803r/c620\n",
            "   a3876db..0a254a1  main       -> origin/main\n",
            "Updating a3876db..0a254a1\n",
            "Fast-forward\n",
            " usage_example(colab)V2.ipynb | 1606 \u001b[32m++++++++++++++++++++\u001b[m\u001b[31m----------------------\u001b[m\n",
            " 1 file changed, 752 insertions(+), 854 deletions(-)\n"
          ],
          "name": "stdout"
        }
      ]
    },
    {
      "cell_type": "markdown",
      "metadata": {
        "id": "BXqYkSpqh9jp"
      },
      "source": [
        "# demo data"
      ]
    },
    {
      "cell_type": "code",
      "metadata": {
        "colab": {
          "base_uri": "https://localhost:8080/",
          "height": 202
        },
        "id": "ineX__x-h785",
        "outputId": "f12facca-1e22-474b-c1a2-b98daba9c589"
      },
      "source": [
        "demo = joblib.load('./data/demo.pkl')\n",
        "print(demo.keys())\n",
        "icg_input = demo['icg_input']\n",
        "c620_feed = demo['c620_feed']\n",
        "t651_feed = demo['t651_feed']\n",
        "icg_input.head()"
      ],
      "execution_count": 34,
      "outputs": [
        {
          "output_type": "stream",
          "text": [
            "dict_keys(['icg_input', 'c620_feed', 't651_feed', 'c620_op', 'c620_wt', 'c660_op', 'c660_wt', 'c670_op', 'c670_wt'])\n"
          ],
          "name": "stdout"
        },
        {
          "output_type": "execute_result",
          "data": {
            "text/html": [
              "<div>\n",
              "<style scoped>\n",
              "    .dataframe tbody tr th:only-of-type {\n",
              "        vertical-align: middle;\n",
              "    }\n",
              "\n",
              "    .dataframe tbody tr th {\n",
              "        vertical-align: top;\n",
              "    }\n",
              "\n",
              "    .dataframe thead th {\n",
              "        text-align: right;\n",
              "    }\n",
              "</style>\n",
              "<table border=\"1\" class=\"dataframe\">\n",
              "  <thead>\n",
              "    <tr style=\"text-align: right;\">\n",
              "      <th></th>\n",
              "      <th>Simulation Case Conditions_Feed Rate_Feed from V615 Btm_m3/hr</th>\n",
              "      <th>Simulation Case Conditions_Feed Rate_Feed from V615 Btm    NA_wt%</th>\n",
              "      <th>Simulation Case Conditions_Feed Rate_Feed from V615 Btm    Benzene_wt%</th>\n",
              "      <th>Simulation Case Conditions_Feed Rate_Feed from V615 Btm    Toluene_wt%</th>\n",
              "      <th>Simulation Case Conditions_Feed Rate_Feed from C820 Dist_m3/hr</th>\n",
              "      <th>Simulation Case Conditions_Feed Rate_Feed from C820 Dist    NA_wt%</th>\n",
              "      <th>Simulation Case Conditions_Feed Rate_Feed from C820 Dist    Benzene_wt%</th>\n",
              "      <th>Simulation Case Conditions_Feed Rate_Feed from C820 Dist    Toluene_wt%</th>\n",
              "      <th>Simulation Case Conditions_Feed Rate_Feed from T651_m3/hr</th>\n",
              "      <th>Simulation Case Conditions_Feed Rate_Feed from T651    NA_wt%</th>\n",
              "      <th>Simulation Case Conditions_Feed Rate_Feed from T651    Benzene_wt%</th>\n",
              "      <th>Simulation Case Conditions_Feed Rate_Feed from T651    Toluene_wt%</th>\n",
              "      <th>Simulation Case Conditions_Spec 1 : Benzene in C620 Sidedraw_wt%</th>\n",
              "      <th>Simulation Case Conditions_Spec 2 : NA in Benzene_ppmw</th>\n",
              "      <th>Tatoray Stripper C620 Operation_Specifications_Spec 2 : Distillate Rate_m3/hr</th>\n",
              "      <th>Benzene Column C660 Operation_Specifications_Spec 3 : Toluene in Benzene_ppmw</th>\n",
              "      <th>Tatoray Stripper C620 Operation_Specifications_Spec 1 : Receiver Temp_oC</th>\n",
              "    </tr>\n",
              "  </thead>\n",
              "  <tbody>\n",
              "    <tr>\n",
              "      <th>002-002</th>\n",
              "      <td>163.0</td>\n",
              "      <td>1.356</td>\n",
              "      <td>10.321001</td>\n",
              "      <td>40.887009</td>\n",
              "      <td>15.0</td>\n",
              "      <td>2.338977</td>\n",
              "      <td>74.302254</td>\n",
              "      <td>17.467825</td>\n",
              "      <td>41.0</td>\n",
              "      <td>0.4524</td>\n",
              "      <td>44.244236</td>\n",
              "      <td>44.786339</td>\n",
              "      <td>70</td>\n",
              "      <td>980</td>\n",
              "      <td>0.25</td>\n",
              "      <td>10</td>\n",
              "      <td>36.0</td>\n",
              "    </tr>\n",
              "  </tbody>\n",
              "</table>\n",
              "</div>"
            ],
            "text/plain": [
              "         Simulation Case Conditions_Feed Rate_Feed from V615 Btm_m3/hr  ...  Tatoray Stripper C620 Operation_Specifications_Spec 1 : Receiver Temp_oC\n",
              "002-002                                              163.0              ...                                               36.0                       \n",
              "\n",
              "[1 rows x 17 columns]"
            ]
          },
          "metadata": {
            "tags": []
          },
          "execution_count": 34
        }
      ]
    },
    {
      "cell_type": "code",
      "metadata": {
        "id": "gZdJpb_otILR",
        "colab": {
          "base_uri": "https://localhost:8080/",
          "height": 80
        },
        "outputId": "92c8f52a-18d4-4e7d-c275-176215e27dfd"
      },
      "source": [
        "icg_input[['Simulation Case Conditions_Spec 2 : NA in Benzene_ppmw']]"
      ],
      "execution_count": 35,
      "outputs": [
        {
          "output_type": "execute_result",
          "data": {
            "text/html": [
              "<div>\n",
              "<style scoped>\n",
              "    .dataframe tbody tr th:only-of-type {\n",
              "        vertical-align: middle;\n",
              "    }\n",
              "\n",
              "    .dataframe tbody tr th {\n",
              "        vertical-align: top;\n",
              "    }\n",
              "\n",
              "    .dataframe thead th {\n",
              "        text-align: right;\n",
              "    }\n",
              "</style>\n",
              "<table border=\"1\" class=\"dataframe\">\n",
              "  <thead>\n",
              "    <tr style=\"text-align: right;\">\n",
              "      <th></th>\n",
              "      <th>Simulation Case Conditions_Spec 2 : NA in Benzene_ppmw</th>\n",
              "    </tr>\n",
              "  </thead>\n",
              "  <tbody>\n",
              "    <tr>\n",
              "      <th>002-002</th>\n",
              "      <td>980</td>\n",
              "    </tr>\n",
              "  </tbody>\n",
              "</table>\n",
              "</div>"
            ],
            "text/plain": [
              "         Simulation Case Conditions_Spec 2 : NA in Benzene_ppmw\n",
              "002-002                                                980     "
            ]
          },
          "metadata": {
            "tags": []
          },
          "execution_count": 35
        }
      ]
    },
    {
      "cell_type": "code",
      "metadata": {
        "id": "10dAfnigtL5M",
        "colab": {
          "base_uri": "https://localhost:8080/",
          "height": 80
        },
        "outputId": "f8e776e8-5576-44c3-e060-534eaeee25db"
      },
      "source": [
        "icg_input[['Simulation Case Conditions_Spec 1 : Benzene in C620 Sidedraw_wt%']]"
      ],
      "execution_count": 36,
      "outputs": [
        {
          "output_type": "execute_result",
          "data": {
            "text/html": [
              "<div>\n",
              "<style scoped>\n",
              "    .dataframe tbody tr th:only-of-type {\n",
              "        vertical-align: middle;\n",
              "    }\n",
              "\n",
              "    .dataframe tbody tr th {\n",
              "        vertical-align: top;\n",
              "    }\n",
              "\n",
              "    .dataframe thead th {\n",
              "        text-align: right;\n",
              "    }\n",
              "</style>\n",
              "<table border=\"1\" class=\"dataframe\">\n",
              "  <thead>\n",
              "    <tr style=\"text-align: right;\">\n",
              "      <th></th>\n",
              "      <th>Simulation Case Conditions_Spec 1 : Benzene in C620 Sidedraw_wt%</th>\n",
              "    </tr>\n",
              "  </thead>\n",
              "  <tbody>\n",
              "    <tr>\n",
              "      <th>002-002</th>\n",
              "      <td>70</td>\n",
              "    </tr>\n",
              "  </tbody>\n",
              "</table>\n",
              "</div>"
            ],
            "text/plain": [
              "         Simulation Case Conditions_Spec 1 : Benzene in C620 Sidedraw_wt%\n",
              "002-002                                                 70               "
            ]
          },
          "metadata": {
            "tags": []
          },
          "execution_count": 36
        }
      ]
    },
    {
      "cell_type": "code",
      "metadata": {
        "id": "H9uXRuhItL86",
        "colab": {
          "base_uri": "https://localhost:8080/",
          "height": 80
        },
        "outputId": "94759a69-3724-4d1d-937b-a34fde2a3bca"
      },
      "source": [
        "icg_input[['Benzene Column C660 Operation_Specifications_Spec 3 : Toluene in Benzene_ppmw']]"
      ],
      "execution_count": 37,
      "outputs": [
        {
          "output_type": "execute_result",
          "data": {
            "text/html": [
              "<div>\n",
              "<style scoped>\n",
              "    .dataframe tbody tr th:only-of-type {\n",
              "        vertical-align: middle;\n",
              "    }\n",
              "\n",
              "    .dataframe tbody tr th {\n",
              "        vertical-align: top;\n",
              "    }\n",
              "\n",
              "    .dataframe thead th {\n",
              "        text-align: right;\n",
              "    }\n",
              "</style>\n",
              "<table border=\"1\" class=\"dataframe\">\n",
              "  <thead>\n",
              "    <tr style=\"text-align: right;\">\n",
              "      <th></th>\n",
              "      <th>Benzene Column C660 Operation_Specifications_Spec 3 : Toluene in Benzene_ppmw</th>\n",
              "    </tr>\n",
              "  </thead>\n",
              "  <tbody>\n",
              "    <tr>\n",
              "      <th>002-002</th>\n",
              "      <td>10</td>\n",
              "    </tr>\n",
              "  </tbody>\n",
              "</table>\n",
              "</div>"
            ],
            "text/plain": [
              "         Benzene Column C660 Operation_Specifications_Spec 3 : Toluene in Benzene_ppmw\n",
              "002-002                                                 10                            "
            ]
          },
          "metadata": {
            "tags": []
          },
          "execution_count": 37
        }
      ]
    },
    {
      "cell_type": "markdown",
      "metadata": {
        "id": "3CoArzTyiJw3"
      },
      "source": [
        "# 1.試算模式"
      ]
    },
    {
      "cell_type": "code",
      "metadata": {
        "id": "thf_SjD_xqrG"
      },
      "source": [
        "f = joblib.load('/content/c620/model/allsystem.pkl')"
      ],
      "execution_count": 38,
      "outputs": []
    },
    {
      "cell_type": "code",
      "metadata": {
        "id": "Sj_g8Ef5yuOe",
        "colab": {
          "base_uri": "https://localhost:8080/",
          "height": 185
        },
        "outputId": "7332a27b-40d0-46d3-ac5c-b561b879f0d1"
      },
      "source": [
        "demo['icg_input']"
      ],
      "execution_count": 39,
      "outputs": [
        {
          "output_type": "execute_result",
          "data": {
            "text/html": [
              "<div>\n",
              "<style scoped>\n",
              "    .dataframe tbody tr th:only-of-type {\n",
              "        vertical-align: middle;\n",
              "    }\n",
              "\n",
              "    .dataframe tbody tr th {\n",
              "        vertical-align: top;\n",
              "    }\n",
              "\n",
              "    .dataframe thead th {\n",
              "        text-align: right;\n",
              "    }\n",
              "</style>\n",
              "<table border=\"1\" class=\"dataframe\">\n",
              "  <thead>\n",
              "    <tr style=\"text-align: right;\">\n",
              "      <th></th>\n",
              "      <th>Simulation Case Conditions_Feed Rate_Feed from V615 Btm_m3/hr</th>\n",
              "      <th>Simulation Case Conditions_Feed Rate_Feed from V615 Btm    NA_wt%</th>\n",
              "      <th>Simulation Case Conditions_Feed Rate_Feed from V615 Btm    Benzene_wt%</th>\n",
              "      <th>Simulation Case Conditions_Feed Rate_Feed from V615 Btm    Toluene_wt%</th>\n",
              "      <th>Simulation Case Conditions_Feed Rate_Feed from C820 Dist_m3/hr</th>\n",
              "      <th>Simulation Case Conditions_Feed Rate_Feed from C820 Dist    NA_wt%</th>\n",
              "      <th>Simulation Case Conditions_Feed Rate_Feed from C820 Dist    Benzene_wt%</th>\n",
              "      <th>Simulation Case Conditions_Feed Rate_Feed from C820 Dist    Toluene_wt%</th>\n",
              "      <th>Simulation Case Conditions_Feed Rate_Feed from T651_m3/hr</th>\n",
              "      <th>Simulation Case Conditions_Feed Rate_Feed from T651    NA_wt%</th>\n",
              "      <th>Simulation Case Conditions_Feed Rate_Feed from T651    Benzene_wt%</th>\n",
              "      <th>Simulation Case Conditions_Feed Rate_Feed from T651    Toluene_wt%</th>\n",
              "      <th>Simulation Case Conditions_Spec 1 : Benzene in C620 Sidedraw_wt%</th>\n",
              "      <th>Simulation Case Conditions_Spec 2 : NA in Benzene_ppmw</th>\n",
              "      <th>Tatoray Stripper C620 Operation_Specifications_Spec 2 : Distillate Rate_m3/hr</th>\n",
              "      <th>Benzene Column C660 Operation_Specifications_Spec 3 : Toluene in Benzene_ppmw</th>\n",
              "      <th>Tatoray Stripper C620 Operation_Specifications_Spec 1 : Receiver Temp_oC</th>\n",
              "    </tr>\n",
              "  </thead>\n",
              "  <tbody>\n",
              "    <tr>\n",
              "      <th>002-002</th>\n",
              "      <td>163.0</td>\n",
              "      <td>1.356</td>\n",
              "      <td>10.321001</td>\n",
              "      <td>40.887009</td>\n",
              "      <td>15.0</td>\n",
              "      <td>2.338977</td>\n",
              "      <td>74.302254</td>\n",
              "      <td>17.467825</td>\n",
              "      <td>41.0</td>\n",
              "      <td>0.4524</td>\n",
              "      <td>44.244236</td>\n",
              "      <td>44.786339</td>\n",
              "      <td>70</td>\n",
              "      <td>980</td>\n",
              "      <td>0.25</td>\n",
              "      <td>10</td>\n",
              "      <td>36.0</td>\n",
              "    </tr>\n",
              "  </tbody>\n",
              "</table>\n",
              "</div>"
            ],
            "text/plain": [
              "         Simulation Case Conditions_Feed Rate_Feed from V615 Btm_m3/hr  ...  Tatoray Stripper C620 Operation_Specifications_Spec 1 : Receiver Temp_oC\n",
              "002-002                                              163.0              ...                                               36.0                       \n",
              "\n",
              "[1 rows x 17 columns]"
            ]
          },
          "metadata": {
            "tags": []
          },
          "execution_count": 39
        }
      ]
    },
    {
      "cell_type": "code",
      "metadata": {
        "id": "nLRt8RejiIAI"
      },
      "source": [
        "c620_wt,c620_op,c660_wt,c660_op,c670_wt,c670_op = f.inference(demo['icg_input'],demo['c620_feed'],demo['t651_feed'])"
      ],
      "execution_count": 40,
      "outputs": []
    },
    {
      "cell_type": "markdown",
      "metadata": {
        "id": "ZZUUNpVKhzE5"
      },
      "source": [
        "# 檢查三項約束條件"
      ]
    },
    {
      "cell_type": "code",
      "metadata": {
        "id": "m18obZmDhtct",
        "colab": {
          "base_uri": "https://localhost:8080/",
          "height": 80
        },
        "outputId": "f54e2813-d0e0-4dad-e6d5-79cdc3fbba68"
      },
      "source": [
        "c620_wt[['Tatoray Stripper C620 Operation_Sidedraw Production Rate and Composition_Benzene_wt%']]"
      ],
      "execution_count": 41,
      "outputs": [
        {
          "output_type": "execute_result",
          "data": {
            "text/html": [
              "<div>\n",
              "<style scoped>\n",
              "    .dataframe tbody tr th:only-of-type {\n",
              "        vertical-align: middle;\n",
              "    }\n",
              "\n",
              "    .dataframe tbody tr th {\n",
              "        vertical-align: top;\n",
              "    }\n",
              "\n",
              "    .dataframe thead th {\n",
              "        text-align: right;\n",
              "    }\n",
              "</style>\n",
              "<table border=\"1\" class=\"dataframe\">\n",
              "  <thead>\n",
              "    <tr style=\"text-align: right;\">\n",
              "      <th></th>\n",
              "      <th>Tatoray Stripper C620 Operation_Sidedraw Production Rate and Composition_Benzene_wt%</th>\n",
              "    </tr>\n",
              "  </thead>\n",
              "  <tbody>\n",
              "    <tr>\n",
              "      <th>002-002</th>\n",
              "      <td>71.350981</td>\n",
              "    </tr>\n",
              "  </tbody>\n",
              "</table>\n",
              "</div>"
            ],
            "text/plain": [
              "         Tatoray Stripper C620 Operation_Sidedraw Production Rate and Composition_Benzene_wt%\n",
              "002-002                                          71.350981                                   "
            ]
          },
          "metadata": {
            "tags": []
          },
          "execution_count": 41
        }
      ]
    },
    {
      "cell_type": "code",
      "metadata": {
        "id": "ywrmcAb4hvvA",
        "colab": {
          "base_uri": "https://localhost:8080/"
        },
        "outputId": "cae215c9-b45d-4a7b-c3e9-a9043e05819b"
      },
      "source": [
        "na_idx = [1,2,3,4,5,6,8,9,11,13,14,15,20,22,29] \n",
        "c660_wt.filter(regex='Side').filter(regex='wt%').iloc[:,na_idx].sum(axis=1).values[0]*10000"
      ],
      "execution_count": 42,
      "outputs": [
        {
          "output_type": "execute_result",
          "data": {
            "text/plain": [
              "964.9365272378022"
            ]
          },
          "metadata": {
            "tags": []
          },
          "execution_count": 42
        }
      ]
    },
    {
      "cell_type": "code",
      "metadata": {
        "id": "z6_F3BeHhyoJ",
        "colab": {
          "base_uri": "https://localhost:8080/"
        },
        "outputId": "590f8764-878a-4f25-9d44-331bcacc74b6"
      },
      "source": [
        "c660_wt['Benzene Column C660 Operation_Sidedraw (Benzene )Production Rate and Composition_Toluene_wt%'].values[0]*10000"
      ],
      "execution_count": 43,
      "outputs": [
        {
          "output_type": "execute_result",
          "data": {
            "text/plain": [
              "9.149712539088709"
            ]
          },
          "metadata": {
            "tags": []
          },
          "execution_count": 43
        }
      ]
    },
    {
      "cell_type": "code",
      "metadata": {
        "id": "O8qyBzp04OaW",
        "colab": {
          "base_uri": "https://localhost:8080/"
        },
        "outputId": "d5b17dec-3730-4da2-edd4-4b1dafd24a83"
      },
      "source": [
        "c620_wt.iloc[:,:41].sum(axis=1)"
      ],
      "execution_count": 44,
      "outputs": [
        {
          "output_type": "execute_result",
          "data": {
            "text/plain": [
              "002-002    100.0\n",
              "dtype: float64"
            ]
          },
          "metadata": {
            "tags": []
          },
          "execution_count": 44
        }
      ]
    },
    {
      "cell_type": "code",
      "metadata": {
        "id": "BUuh327U4OgC",
        "colab": {
          "base_uri": "https://localhost:8080/"
        },
        "outputId": "09f5ed6f-ab95-4db8-8e13-573d126bc873"
      },
      "source": [
        "c660_wt.iloc[:,:41].sum(axis=1)"
      ],
      "execution_count": 45,
      "outputs": [
        {
          "output_type": "execute_result",
          "data": {
            "text/plain": [
              "002-002    100.0\n",
              "dtype: float64"
            ]
          },
          "metadata": {
            "tags": []
          },
          "execution_count": 45
        }
      ]
    },
    {
      "cell_type": "code",
      "metadata": {
        "id": "lES8w6NL4Olh",
        "colab": {
          "base_uri": "https://localhost:8080/"
        },
        "outputId": "5fcb730e-60d6-4615-cf25-32b486da8afa"
      },
      "source": [
        "c670_wt.iloc[:,:41].sum(axis=1)"
      ],
      "execution_count": 46,
      "outputs": [
        {
          "output_type": "execute_result",
          "data": {
            "text/plain": [
              "002-002    100.0\n",
              "dtype: float64"
            ]
          },
          "metadata": {
            "tags": []
          },
          "execution_count": 46
        }
      ]
    },
    {
      "cell_type": "markdown",
      "metadata": {
        "id": "7doYEuYyjHKT"
      },
      "source": [
        "# 推薦模式"
      ]
    },
    {
      "cell_type": "code",
      "metadata": {
        "colab": {
          "base_uri": "https://localhost:8080/"
        },
        "id": "D1AZAmaUjEyw",
        "outputId": "6cf855c1-5bfe-47cd-883a-f75f0fe8b0f5"
      },
      "source": [
        "icg_input = demo['icg_input']\n",
        "icg_input['Simulation Case Conditions_Spec 2 : NA in Benzene_ppmw'] -= 80\n",
        "c620_wt2,c620_op2,c660_wt2,c660_op2,c670_wt2,c670_op2,bz_error,nainbz_error,tol_error = f.recommend(icg_input,demo['c620_feed'],demo['t651_feed'])"
      ],
      "execution_count": 47,
      "outputs": [
        {
          "output_type": "stream",
          "text": [
            "\u001b[32m[I 2021-04-26 08:50:38,003]\u001b[0m A new study created in memory with name: no-name-97abcf43-2b10-4ca4-81f5-62cc03841c86\u001b[0m\n",
            "\u001b[32m[I 2021-04-26 08:50:38,081]\u001b[0m Trial 0 finished with value: 6.624497219346784 and parameters: {'Tatoray Stripper C620 Operation_Column Temp Profile_C620 Tray 14 (Control)_oC': 174.89686937757665, 'Tatoray Stripper C620 Operation_Column Temp Profile_C620 Tray 34 (Control)_oC': 193.88407374106453, 'Tatoray Stripper C620 Operation_Specifications_Spec 2 : Distillate Rate_m3/hr': 4.149567679482194}. Best is trial 0 with value: 6.624497219346784.\u001b[0m\n",
            "\u001b[32m[I 2021-04-26 08:50:38,158]\u001b[0m Trial 1 finished with value: 0.5013953850490118 and parameters: {'Tatoray Stripper C620 Operation_Column Temp Profile_C620 Tray 14 (Control)_oC': 177.5207706376947, 'Tatoray Stripper C620 Operation_Column Temp Profile_C620 Tray 34 (Control)_oC': 194.66263406996768, 'Tatoray Stripper C620 Operation_Specifications_Spec 2 : Distillate Rate_m3/hr': 0.5002338075289394}. Best is trial 1 with value: 0.5013953850490118.\u001b[0m\n",
            "\u001b[32m[I 2021-04-26 08:50:38,251]\u001b[0m Trial 2 finished with value: 2.6942336590148197 and parameters: {'Tatoray Stripper C620 Operation_Column Temp Profile_C620 Tray 14 (Control)_oC': 178.07671448601522, 'Tatoray Stripper C620 Operation_Column Temp Profile_C620 Tray 34 (Control)_oC': 193.83308431031165, 'Tatoray Stripper C620 Operation_Specifications_Spec 2 : Distillate Rate_m3/hr': 0.2812120869168457}. Best is trial 1 with value: 0.5013953850490118.\u001b[0m\n",
            "\u001b[32m[I 2021-04-26 08:50:38,333]\u001b[0m Trial 3 finished with value: 6.9475008725104805 and parameters: {'Tatoray Stripper C620 Operation_Column Temp Profile_C620 Tray 14 (Control)_oC': 177.8425905269935, 'Tatoray Stripper C620 Operation_Column Temp Profile_C620 Tray 34 (Control)_oC': 193.43342602373707, 'Tatoray Stripper C620 Operation_Specifications_Spec 2 : Distillate Rate_m3/hr': 0.6151021683585126}. Best is trial 1 with value: 0.5013953850490118.\u001b[0m\n",
            "\u001b[32m[I 2021-04-26 08:50:38,424]\u001b[0m Trial 4 finished with value: 9.600956837109475 and parameters: {'Tatoray Stripper C620 Operation_Column Temp Profile_C620 Tray 14 (Control)_oC': 177.09444106878126, 'Tatoray Stripper C620 Operation_Column Temp Profile_C620 Tray 34 (Control)_oC': 193.30695768916542, 'Tatoray Stripper C620 Operation_Specifications_Spec 2 : Distillate Rate_m3/hr': 0.18051361732439808}. Best is trial 1 with value: 0.5013953850490118.\u001b[0m\n",
            "\u001b[32m[I 2021-04-26 08:50:38,506]\u001b[0m Trial 5 finished with value: 8.438494689190673 and parameters: {'Tatoray Stripper C620 Operation_Column Temp Profile_C620 Tray 14 (Control)_oC': 178.09900406610006, 'Tatoray Stripper C620 Operation_Column Temp Profile_C620 Tray 34 (Control)_oC': 193.34267199697123, 'Tatoray Stripper C620 Operation_Specifications_Spec 2 : Distillate Rate_m3/hr': 0.2917968104973056}. Best is trial 1 with value: 0.5013953850490118.\u001b[0m\n",
            "\u001b[32m[I 2021-04-26 08:50:38,602]\u001b[0m Trial 6 finished with value: 3.2266790974195034 and parameters: {'Tatoray Stripper C620 Operation_Column Temp Profile_C620 Tray 14 (Control)_oC': 177.922119933074, 'Tatoray Stripper C620 Operation_Column Temp Profile_C620 Tray 34 (Control)_oC': 193.72440556237513, 'Tatoray Stripper C620 Operation_Specifications_Spec 2 : Distillate Rate_m3/hr': 1.1179786995159706}. Best is trial 1 with value: 0.5013953850490118.\u001b[0m\n",
            "\u001b[32m[I 2021-04-26 08:50:38,679]\u001b[0m Trial 7 finished with value: 3.488632521408366 and parameters: {'Tatoray Stripper C620 Operation_Column Temp Profile_C620 Tray 14 (Control)_oC': 177.6684811157711, 'Tatoray Stripper C620 Operation_Column Temp Profile_C620 Tray 34 (Control)_oC': 193.73420908744308, 'Tatoray Stripper C620 Operation_Specifications_Spec 2 : Distillate Rate_m3/hr': 0.33435940516030993}. Best is trial 1 with value: 0.5013953850490118.\u001b[0m\n",
            "\u001b[32m[I 2021-04-26 08:50:38,798]\u001b[0m Trial 8 finished with value: 2.8704506430842853 and parameters: {'Tatoray Stripper C620 Operation_Column Temp Profile_C620 Tray 14 (Control)_oC': 178.08746244487548, 'Tatoray Stripper C620 Operation_Column Temp Profile_C620 Tray 34 (Control)_oC': 193.81729379562987, 'Tatoray Stripper C620 Operation_Specifications_Spec 2 : Distillate Rate_m3/hr': 0.18367291289092452}. Best is trial 1 with value: 0.5013953850490118.\u001b[0m\n",
            "\u001b[32m[I 2021-04-26 08:50:38,887]\u001b[0m Trial 9 finished with value: 0.5859456209662185 and parameters: {'Tatoray Stripper C620 Operation_Column Temp Profile_C620 Tray 14 (Control)_oC': 177.88343817943954, 'Tatoray Stripper C620 Operation_Column Temp Profile_C620 Tray 34 (Control)_oC': 194.4272863992343, 'Tatoray Stripper C620 Operation_Specifications_Spec 2 : Distillate Rate_m3/hr': 0.5835124399567447}. Best is trial 1 with value: 0.5013953850490118.\u001b[0m\n",
            "\u001b[32m[I 2021-04-26 08:50:38,965]\u001b[0m Trial 10 finished with value: 3.4387868516428264 and parameters: {'Tatoray Stripper C620 Operation_Column Temp Profile_C620 Tray 14 (Control)_oC': 177.8931002167756, 'Tatoray Stripper C620 Operation_Column Temp Profile_C620 Tray 34 (Control)_oC': 193.73692081523254, 'Tatoray Stripper C620 Operation_Specifications_Spec 2 : Distillate Rate_m3/hr': 0.2927252424423209}. Best is trial 1 with value: 0.5013953850490118.\u001b[0m\n",
            "\u001b[32m[I 2021-04-26 08:50:39,042]\u001b[0m Trial 11 finished with value: 0.9323994428252111 and parameters: {'Tatoray Stripper C620 Operation_Column Temp Profile_C620 Tray 14 (Control)_oC': 178.0628280964385, 'Tatoray Stripper C620 Operation_Column Temp Profile_C620 Tray 34 (Control)_oC': 194.13240133436256, 'Tatoray Stripper C620 Operation_Specifications_Spec 2 : Distillate Rate_m3/hr': 0.7827610606969453}. Best is trial 1 with value: 0.5013953850490118.\u001b[0m\n",
            "\u001b[32m[I 2021-04-26 08:50:39,114]\u001b[0m Trial 12 finished with value: 0.564023743327091 and parameters: {'Tatoray Stripper C620 Operation_Column Temp Profile_C620 Tray 14 (Control)_oC': 177.58719325137335, 'Tatoray Stripper C620 Operation_Column Temp Profile_C620 Tray 34 (Control)_oC': 194.44735172041499, 'Tatoray Stripper C620 Operation_Specifications_Spec 2 : Distillate Rate_m3/hr': 0.5934600257290371}. Best is trial 1 with value: 0.5013953850490118.\u001b[0m\n",
            "\u001b[32m[I 2021-04-26 08:50:39,188]\u001b[0m Trial 13 finished with value: 0.08298060808119756 and parameters: {'Tatoray Stripper C620 Operation_Column Temp Profile_C620 Tray 14 (Control)_oC': 177.19558836895754, 'Tatoray Stripper C620 Operation_Column Temp Profile_C620 Tray 34 (Control)_oC': 194.70238084380156, 'Tatoray Stripper C620 Operation_Specifications_Spec 2 : Distillate Rate_m3/hr': 0.9354333244064351}. Best is trial 13 with value: 0.08298060808119756.\u001b[0m\n",
            "\u001b[32m[I 2021-04-26 08:50:39,259]\u001b[0m Trial 14 finished with value: 0.5481106218044199 and parameters: {'Tatoray Stripper C620 Operation_Column Temp Profile_C620 Tray 14 (Control)_oC': 177.78021892929448, 'Tatoray Stripper C620 Operation_Column Temp Profile_C620 Tray 34 (Control)_oC': 194.6432695748846, 'Tatoray Stripper C620 Operation_Specifications_Spec 2 : Distillate Rate_m3/hr': 0.4562186271314407}. Best is trial 13 with value: 0.08298060808119756.\u001b[0m\n",
            "\u001b[32m[I 2021-04-26 08:50:39,335]\u001b[0m Trial 15 finished with value: 1.0349863117515619 and parameters: {'Tatoray Stripper C620 Operation_Column Temp Profile_C620 Tray 14 (Control)_oC': 177.32730254549855, 'Tatoray Stripper C620 Operation_Column Temp Profile_C620 Tray 34 (Control)_oC': 194.45867304307447, 'Tatoray Stripper C620 Operation_Specifications_Spec 2 : Distillate Rate_m3/hr': 0.1118471556832269}. Best is trial 13 with value: 0.08298060808119756.\u001b[0m\n",
            "\u001b[32m[I 2021-04-26 08:50:39,410]\u001b[0m Trial 16 finished with value: 0.8542146926232854 and parameters: {'Tatoray Stripper C620 Operation_Column Temp Profile_C620 Tray 14 (Control)_oC': 177.5703357079143, 'Tatoray Stripper C620 Operation_Column Temp Profile_C620 Tray 34 (Control)_oC': 194.52396065989777, 'Tatoray Stripper C620 Operation_Specifications_Spec 2 : Distillate Rate_m3/hr': 0.23013778314299516}. Best is trial 13 with value: 0.08298060808119756.\u001b[0m\n",
            "\u001b[32m[I 2021-04-26 08:50:39,482]\u001b[0m Trial 17 finished with value: 0.5823629251033414 and parameters: {'Tatoray Stripper C620 Operation_Column Temp Profile_C620 Tray 14 (Control)_oC': 177.72136305350855, 'Tatoray Stripper C620 Operation_Column Temp Profile_C620 Tray 34 (Control)_oC': 194.32512808947658, 'Tatoray Stripper C620 Operation_Specifications_Spec 2 : Distillate Rate_m3/hr': 0.732800420187642}. Best is trial 13 with value: 0.08298060808119756.\u001b[0m\n",
            "\u001b[32m[I 2021-04-26 08:50:39,553]\u001b[0m Trial 18 finished with value: 0.7766391500628211 and parameters: {'Tatoray Stripper C620 Operation_Column Temp Profile_C620 Tray 14 (Control)_oC': 176.72874747046123, 'Tatoray Stripper C620 Operation_Column Temp Profile_C620 Tray 34 (Control)_oC': 194.60495210119902, 'Tatoray Stripper C620 Operation_Specifications_Spec 2 : Distillate Rate_m3/hr': 0.2713765266664571}. Best is trial 13 with value: 0.08298060808119756.\u001b[0m\n",
            "\u001b[32m[I 2021-04-26 08:50:39,633]\u001b[0m Trial 19 finished with value: 0.5283903062384222 and parameters: {'Tatoray Stripper C620 Operation_Column Temp Profile_C620 Tray 14 (Control)_oC': 177.70582487973567, 'Tatoray Stripper C620 Operation_Column Temp Profile_C620 Tray 34 (Control)_oC': 194.64647114105338, 'Tatoray Stripper C620 Operation_Specifications_Spec 2 : Distillate Rate_m3/hr': 0.47537367257642316}. Best is trial 13 with value: 0.08298060808119756.\u001b[0m\n",
            "\u001b[32m[I 2021-04-26 08:50:39,717]\u001b[0m Trial 20 finished with value: 0.5119927870579113 and parameters: {'Tatoray Stripper C620 Operation_Column Temp Profile_C620 Tray 14 (Control)_oC': 176.33165317680562, 'Tatoray Stripper C620 Operation_Column Temp Profile_C620 Tray 34 (Control)_oC': 194.3576926902915, 'Tatoray Stripper C620 Operation_Specifications_Spec 2 : Distillate Rate_m3/hr': 0.8328876555080831}. Best is trial 13 with value: 0.08298060808119756.\u001b[0m\n",
            "\u001b[32m[I 2021-04-26 08:50:39,799]\u001b[0m Trial 21 finished with value: 1.5593973966558543 and parameters: {'Tatoray Stripper C620 Operation_Column Temp Profile_C620 Tray 14 (Control)_oC': 177.27566790093394, 'Tatoray Stripper C620 Operation_Column Temp Profile_C620 Tray 34 (Control)_oC': 194.01868738245395, 'Tatoray Stripper C620 Operation_Specifications_Spec 2 : Distillate Rate_m3/hr': 1.2831889776479535}. Best is trial 13 with value: 0.08298060808119756.\u001b[0m\n",
            "\u001b[32m[I 2021-04-26 08:50:39,875]\u001b[0m Trial 22 finished with value: 0.38390441371162853 and parameters: {'Tatoray Stripper C620 Operation_Column Temp Profile_C620 Tray 14 (Control)_oC': 177.78139512148755, 'Tatoray Stripper C620 Operation_Column Temp Profile_C620 Tray 34 (Control)_oC': 194.72257454313913, 'Tatoray Stripper C620 Operation_Specifications_Spec 2 : Distillate Rate_m3/hr': 0.6491866065049596}. Best is trial 13 with value: 0.08298060808119756.\u001b[0m\n",
            "\u001b[32m[I 2021-04-26 08:50:39,948]\u001b[0m Trial 23 finished with value: 0.326808246906509 and parameters: {'Tatoray Stripper C620 Operation_Column Temp Profile_C620 Tray 14 (Control)_oC': 176.90834931206388, 'Tatoray Stripper C620 Operation_Column Temp Profile_C620 Tray 34 (Control)_oC': 194.45653724096314, 'Tatoray Stripper C620 Operation_Specifications_Spec 2 : Distillate Rate_m3/hr': 0.8495696422332346}. Best is trial 13 with value: 0.08298060808119756.\u001b[0m\n",
            "\u001b[32m[I 2021-04-26 08:50:40,032]\u001b[0m Trial 24 finished with value: 1.8460148626211503 and parameters: {'Tatoray Stripper C620 Operation_Column Temp Profile_C620 Tray 14 (Control)_oC': 176.97523828416638, 'Tatoray Stripper C620 Operation_Column Temp Profile_C620 Tray 34 (Control)_oC': 193.92775590049968, 'Tatoray Stripper C620 Operation_Specifications_Spec 2 : Distillate Rate_m3/hr': 0.8789213749025566}. Best is trial 13 with value: 0.08298060808119756.\u001b[0m\n",
            "\u001b[32m[I 2021-04-26 08:50:40,105]\u001b[0m Trial 25 finished with value: 0.8990805969188163 and parameters: {'Tatoray Stripper C620 Operation_Column Temp Profile_C620 Tray 14 (Control)_oC': 176.085567083432, 'Tatoray Stripper C620 Operation_Column Temp Profile_C620 Tray 34 (Control)_oC': 194.35715918040293, 'Tatoray Stripper C620 Operation_Specifications_Spec 2 : Distillate Rate_m3/hr': 0.448838437126204}. Best is trial 13 with value: 0.08298060808119756.\u001b[0m\n",
            "\u001b[32m[I 2021-04-26 08:50:40,180]\u001b[0m Trial 26 finished with value: 8.810980731074201 and parameters: {'Tatoray Stripper C620 Operation_Column Temp Profile_C620 Tray 14 (Control)_oC': 177.1233526926428, 'Tatoray Stripper C620 Operation_Column Temp Profile_C620 Tray 34 (Control)_oC': 193.35237595881108, 'Tatoray Stripper C620 Operation_Specifications_Spec 2 : Distillate Rate_m3/hr': 0.10100403722582918}. Best is trial 13 with value: 0.08298060808119756.\u001b[0m\n",
            "\u001b[32m[I 2021-04-26 08:50:40,252]\u001b[0m Trial 27 finished with value: 4.121651286438972 and parameters: {'Tatoray Stripper C620 Operation_Column Temp Profile_C620 Tray 14 (Control)_oC': 177.8345556158398, 'Tatoray Stripper C620 Operation_Column Temp Profile_C620 Tray 34 (Control)_oC': 193.62816217187194, 'Tatoray Stripper C620 Operation_Specifications_Spec 2 : Distillate Rate_m3/hr': 0.9573002066318179}. Best is trial 13 with value: 0.08298060808119756.\u001b[0m\n",
            "\u001b[32m[I 2021-04-26 08:50:40,333]\u001b[0m Trial 28 finished with value: 0.9190514565559964 and parameters: {'Tatoray Stripper C620 Operation_Column Temp Profile_C620 Tray 14 (Control)_oC': 177.32333262298536, 'Tatoray Stripper C620 Operation_Column Temp Profile_C620 Tray 34 (Control)_oC': 194.42827066660809, 'Tatoray Stripper C620 Operation_Specifications_Spec 2 : Distillate Rate_m3/hr': 0.2621249666210959}. Best is trial 13 with value: 0.08298060808119756.\u001b[0m\n",
            "\u001b[32m[I 2021-04-26 08:50:40,412]\u001b[0m Trial 29 finished with value: 0.2580361482116371 and parameters: {'Tatoray Stripper C620 Operation_Column Temp Profile_C620 Tray 14 (Control)_oC': 177.76540049962196, 'Tatoray Stripper C620 Operation_Column Temp Profile_C620 Tray 34 (Control)_oC': 194.44456908692604, 'Tatoray Stripper C620 Operation_Specifications_Spec 2 : Distillate Rate_m3/hr': 1.0954035526588297}. Best is trial 13 with value: 0.08298060808119756.\u001b[0m\n",
            "\u001b[32m[I 2021-04-26 08:50:40,485]\u001b[0m Trial 30 finished with value: 1.165222878437215 and parameters: {'Tatoray Stripper C620 Operation_Column Temp Profile_C620 Tray 14 (Control)_oC': 175.88904379833554, 'Tatoray Stripper C620 Operation_Column Temp Profile_C620 Tray 34 (Control)_oC': 194.24397099164108, 'Tatoray Stripper C620 Operation_Specifications_Spec 2 : Distillate Rate_m3/hr': 0.4203424646299162}. Best is trial 13 with value: 0.08298060808119756.\u001b[0m\n",
            "\u001b[32m[I 2021-04-26 08:50:40,564]\u001b[0m Trial 31 finished with value: 0.9889085634822452 and parameters: {'Tatoray Stripper C620 Operation_Column Temp Profile_C620 Tray 14 (Control)_oC': 177.81302134416936, 'Tatoray Stripper C620 Operation_Column Temp Profile_C620 Tray 34 (Control)_oC': 194.29527757675086, 'Tatoray Stripper C620 Operation_Specifications_Spec 2 : Distillate Rate_m3/hr': 0.3559410884893977}. Best is trial 13 with value: 0.08298060808119756.\u001b[0m\n",
            "\u001b[32m[I 2021-04-26 08:50:40,639]\u001b[0m Trial 32 finished with value: 0.5947331875309538 and parameters: {'Tatoray Stripper C620 Operation_Column Temp Profile_C620 Tray 14 (Control)_oC': 178.00613965722528, 'Tatoray Stripper C620 Operation_Column Temp Profile_C620 Tray 34 (Control)_oC': 194.48150847393873, 'Tatoray Stripper C620 Operation_Specifications_Spec 2 : Distillate Rate_m3/hr': 0.5166457089468344}. Best is trial 13 with value: 0.08298060808119756.\u001b[0m\n",
            "\u001b[32m[I 2021-04-26 08:50:40,721]\u001b[0m Trial 33 finished with value: 1.0000436528752896 and parameters: {'Tatoray Stripper C620 Operation_Column Temp Profile_C620 Tray 14 (Control)_oC': 177.39360636337204, 'Tatoray Stripper C620 Operation_Column Temp Profile_C620 Tray 34 (Control)_oC': 194.35950536609454, 'Tatoray Stripper C620 Operation_Specifications_Spec 2 : Distillate Rate_m3/hr': 0.26349443375953463}. Best is trial 13 with value: 0.08298060808119756.\u001b[0m\n",
            "\u001b[32m[I 2021-04-26 08:50:40,798]\u001b[0m Trial 34 finished with value: 0.26794016982318847 and parameters: {'Tatoray Stripper C620 Operation_Column Temp Profile_C620 Tray 14 (Control)_oC': 176.85713885897056, 'Tatoray Stripper C620 Operation_Column Temp Profile_C620 Tray 34 (Control)_oC': 194.573792548215, 'Tatoray Stripper C620 Operation_Specifications_Spec 2 : Distillate Rate_m3/hr': 0.799851131597211}. Best is trial 13 with value: 0.08298060808119756.\u001b[0m\n",
            "\u001b[32m[I 2021-04-26 08:50:40,875]\u001b[0m Trial 35 finished with value: 0.9849840604157687 and parameters: {'Tatoray Stripper C620 Operation_Column Temp Profile_C620 Tray 14 (Control)_oC': 176.92205033516487, 'Tatoray Stripper C620 Operation_Column Temp Profile_C620 Tray 34 (Control)_oC': 194.24097280223972, 'Tatoray Stripper C620 Operation_Specifications_Spec 2 : Distillate Rate_m3/hr': 0.5259099860297742}. Best is trial 13 with value: 0.08298060808119756.\u001b[0m\n",
            "\u001b[32m[I 2021-04-26 08:50:40,952]\u001b[0m Trial 36 finished with value: 0.17437635849615019 and parameters: {'Tatoray Stripper C620 Operation_Column Temp Profile_C620 Tray 14 (Control)_oC': 177.21314976218682, 'Tatoray Stripper C620 Operation_Column Temp Profile_C620 Tray 34 (Control)_oC': 194.57151134756393, 'Tatoray Stripper C620 Operation_Specifications_Spec 2 : Distillate Rate_m3/hr': 1.1137920490691218}. Best is trial 13 with value: 0.08298060808119756.\u001b[0m\n",
            "\u001b[32m[I 2021-04-26 08:50:41,032]\u001b[0m Trial 37 finished with value: 0.24338163295219728 and parameters: {'Tatoray Stripper C620 Operation_Column Temp Profile_C620 Tray 14 (Control)_oC': 177.1930279522359, 'Tatoray Stripper C620 Operation_Column Temp Profile_C620 Tray 34 (Control)_oC': 194.47929611808752, 'Tatoray Stripper C620 Operation_Specifications_Spec 2 : Distillate Rate_m3/hr': 0.8983677584317279}. Best is trial 13 with value: 0.08298060808119756.\u001b[0m\n",
            "\u001b[32m[I 2021-04-26 08:50:41,112]\u001b[0m Trial 38 finished with value: 0.4601028407881729 and parameters: {'Tatoray Stripper C620 Operation_Column Temp Profile_C620 Tray 14 (Control)_oC': 177.28943973782856, 'Tatoray Stripper C620 Operation_Column Temp Profile_C620 Tray 34 (Control)_oC': 194.71807292285195, 'Tatoray Stripper C620 Operation_Specifications_Spec 2 : Distillate Rate_m3/hr': 1.4283032006620204}. Best is trial 13 with value: 0.08298060808119756.\u001b[0m\n",
            "\u001b[32m[I 2021-04-26 08:50:41,188]\u001b[0m Trial 39 finished with value: 0.6184686680781213 and parameters: {'Tatoray Stripper C620 Operation_Column Temp Profile_C620 Tray 14 (Control)_oC': 177.82021336657576, 'Tatoray Stripper C620 Operation_Column Temp Profile_C620 Tray 34 (Control)_oC': 194.35862303806272, 'Tatoray Stripper C620 Operation_Specifications_Spec 2 : Distillate Rate_m3/hr': 1.3397855930668912}. Best is trial 13 with value: 0.08298060808119756.\u001b[0m\n",
            "\u001b[32m[I 2021-04-26 08:50:41,262]\u001b[0m Trial 40 finished with value: 0.4680552784097334 and parameters: {'Tatoray Stripper C620 Operation_Column Temp Profile_C620 Tray 14 (Control)_oC': 177.4143541870309, 'Tatoray Stripper C620 Operation_Column Temp Profile_C620 Tray 34 (Control)_oC': 194.51792111958568, 'Tatoray Stripper C620 Operation_Specifications_Spec 2 : Distillate Rate_m3/hr': 0.6280420579853849}. Best is trial 13 with value: 0.08298060808119756.\u001b[0m\n",
            "\u001b[32m[I 2021-04-26 08:50:41,344]\u001b[0m Trial 41 finished with value: 1.405750269260019 and parameters: {'Tatoray Stripper C620 Operation_Column Temp Profile_C620 Tray 14 (Control)_oC': 177.94376639893736, 'Tatoray Stripper C620 Operation_Column Temp Profile_C620 Tray 34 (Control)_oC': 194.02577951604135, 'Tatoray Stripper C620 Operation_Specifications_Spec 2 : Distillate Rate_m3/hr': 0.6693237926113289}. Best is trial 13 with value: 0.08298060808119756.\u001b[0m\n",
            "\u001b[32m[I 2021-04-26 08:50:41,421]\u001b[0m Trial 42 finished with value: 0.3180458179049267 and parameters: {'Tatoray Stripper C620 Operation_Column Temp Profile_C620 Tray 14 (Control)_oC': 177.50293171901515, 'Tatoray Stripper C620 Operation_Column Temp Profile_C620 Tray 34 (Control)_oC': 194.41410989822458, 'Tatoray Stripper C620 Operation_Specifications_Spec 2 : Distillate Rate_m3/hr': 0.8857215304932325}. Best is trial 13 with value: 0.08298060808119756.\u001b[0m\n",
            "\u001b[32m[I 2021-04-26 08:50:41,496]\u001b[0m Trial 43 finished with value: 0.9755426321717888 and parameters: {'Tatoray Stripper C620 Operation_Column Temp Profile_C620 Tray 14 (Control)_oC': 177.09932211228596, 'Tatoray Stripper C620 Operation_Column Temp Profile_C620 Tray 34 (Control)_oC': 194.3258124611282, 'Tatoray Stripper C620 Operation_Specifications_Spec 2 : Distillate Rate_m3/hr': 0.3555596973929116}. Best is trial 13 with value: 0.08298060808119756.\u001b[0m\n",
            "\u001b[32m[I 2021-04-26 08:50:41,578]\u001b[0m Trial 44 finished with value: 0.676655189820041 and parameters: {'Tatoray Stripper C620 Operation_Column Temp Profile_C620 Tray 14 (Control)_oC': 177.34402984833193, 'Tatoray Stripper C620 Operation_Column Temp Profile_C620 Tray 34 (Control)_oC': 194.39827716602053, 'Tatoray Stripper C620 Operation_Specifications_Spec 2 : Distillate Rate_m3/hr': 1.4325325328177476}. Best is trial 13 with value: 0.08298060808119756.\u001b[0m\n",
            "\u001b[32m[I 2021-04-26 08:50:41,659]\u001b[0m Trial 45 finished with value: 0.18721555634326004 and parameters: {'Tatoray Stripper C620 Operation_Column Temp Profile_C620 Tray 14 (Control)_oC': 176.9466958241181, 'Tatoray Stripper C620 Operation_Column Temp Profile_C620 Tray 34 (Control)_oC': 194.63289727463254, 'Tatoray Stripper C620 Operation_Specifications_Spec 2 : Distillate Rate_m3/hr': 1.1631334953020471}. Best is trial 13 with value: 0.08298060808119756.\u001b[0m\n",
            "\u001b[32m[I 2021-04-26 08:50:41,734]\u001b[0m Trial 46 finished with value: 0.7351068921285344 and parameters: {'Tatoray Stripper C620 Operation_Column Temp Profile_C620 Tray 14 (Control)_oC': 177.5931249760048, 'Tatoray Stripper C620 Operation_Column Temp Profile_C620 Tray 34 (Control)_oC': 194.34809451111607, 'Tatoray Stripper C620 Operation_Specifications_Spec 2 : Distillate Rate_m3/hr': 0.5445718038786895}. Best is trial 13 with value: 0.08298060808119756.\u001b[0m\n",
            "\u001b[32m[I 2021-04-26 08:50:41,825]\u001b[0m Trial 47 finished with value: 0.11121921862984374 and parameters: {'Tatoray Stripper C620 Operation_Column Temp Profile_C620 Tray 14 (Control)_oC': 176.9029788986259, 'Tatoray Stripper C620 Operation_Column Temp Profile_C620 Tray 34 (Control)_oC': 194.69849422971072, 'Tatoray Stripper C620 Operation_Specifications_Spec 2 : Distillate Rate_m3/hr': 1.098904455645839}. Best is trial 13 with value: 0.08298060808119756.\u001b[0m\n",
            "\u001b[32m[I 2021-04-26 08:50:41,906]\u001b[0m Trial 48 finished with value: 0.5782527357903374 and parameters: {'Tatoray Stripper C620 Operation_Column Temp Profile_C620 Tray 14 (Control)_oC': 176.4563883963333, 'Tatoray Stripper C620 Operation_Column Temp Profile_C620 Tray 34 (Control)_oC': 194.26950986945948, 'Tatoray Stripper C620 Operation_Specifications_Spec 2 : Distillate Rate_m3/hr': 0.9318100608675396}. Best is trial 13 with value: 0.08298060808119756.\u001b[0m\n",
            "\u001b[32m[I 2021-04-26 08:50:41,981]\u001b[0m Trial 49 finished with value: 0.30699396149215263 and parameters: {'Tatoray Stripper C620 Operation_Column Temp Profile_C620 Tray 14 (Control)_oC': 177.49797199420783, 'Tatoray Stripper C620 Operation_Column Temp Profile_C620 Tray 34 (Control)_oC': 194.46002460693884, 'Tatoray Stripper C620 Operation_Specifications_Spec 2 : Distillate Rate_m3/hr': 1.151698642629454}. Best is trial 13 with value: 0.08298060808119756.\u001b[0m\n",
            "\u001b[32m[I 2021-04-26 08:50:42,062]\u001b[0m Trial 50 finished with value: 0.995661840493518 and parameters: {'Tatoray Stripper C620 Operation_Column Temp Profile_C620 Tray 14 (Control)_oC': 176.21021365410576, 'Tatoray Stripper C620 Operation_Column Temp Profile_C620 Tray 34 (Control)_oC': 194.34600799599724, 'Tatoray Stripper C620 Operation_Specifications_Spec 2 : Distillate Rate_m3/hr': 1.5890392129852198}. Best is trial 13 with value: 0.08298060808119756.\u001b[0m\n",
            "\u001b[32m[I 2021-04-26 08:50:42,143]\u001b[0m Trial 51 finished with value: 0.08496271231555808 and parameters: {'Tatoray Stripper C620 Operation_Column Temp Profile_C620 Tray 14 (Control)_oC': 176.7949275664861, 'Tatoray Stripper C620 Operation_Column Temp Profile_C620 Tray 34 (Control)_oC': 194.58854764644397, 'Tatoray Stripper C620 Operation_Specifications_Spec 2 : Distillate Rate_m3/hr': 1.0257894528591858}. Best is trial 13 with value: 0.08298060808119756.\u001b[0m\n",
            "\u001b[32m[I 2021-04-26 08:50:42,230]\u001b[0m Trial 52 finished with value: 0.22970173806354643 and parameters: {'Tatoray Stripper C620 Operation_Column Temp Profile_C620 Tray 14 (Control)_oC': 176.8405142719956, 'Tatoray Stripper C620 Operation_Column Temp Profile_C620 Tray 34 (Control)_oC': 194.47154927099814, 'Tatoray Stripper C620 Operation_Specifications_Spec 2 : Distillate Rate_m3/hr': 1.0637425917071608}. Best is trial 13 with value: 0.08298060808119756.\u001b[0m\n",
            "\u001b[32m[I 2021-04-26 08:50:42,311]\u001b[0m Trial 53 finished with value: 0.0833173209793372 and parameters: {'Tatoray Stripper C620 Operation_Column Temp Profile_C620 Tray 14 (Control)_oC': 176.58737577370127, 'Tatoray Stripper C620 Operation_Column Temp Profile_C620 Tray 34 (Control)_oC': 194.73194634735262, 'Tatoray Stripper C620 Operation_Specifications_Spec 2 : Distillate Rate_m3/hr': 1.0616894605306484}. Best is trial 13 with value: 0.08298060808119756.\u001b[0m\n",
            "\u001b[32m[I 2021-04-26 08:50:42,395]\u001b[0m Trial 54 finished with value: 0.5295586203693172 and parameters: {'Tatoray Stripper C620 Operation_Column Temp Profile_C620 Tray 14 (Control)_oC': 176.94841837016773, 'Tatoray Stripper C620 Operation_Column Temp Profile_C620 Tray 34 (Control)_oC': 194.3821949892569, 'Tatoray Stripper C620 Operation_Specifications_Spec 2 : Distillate Rate_m3/hr': 1.2474896846776626}. Best is trial 13 with value: 0.08298060808119756.\u001b[0m\n",
            "\u001b[32m[I 2021-04-26 08:50:42,481]\u001b[0m Trial 55 finished with value: 0.29516388574169183 and parameters: {'Tatoray Stripper C620 Operation_Column Temp Profile_C620 Tray 14 (Control)_oC': 177.03782353017746, 'Tatoray Stripper C620 Operation_Column Temp Profile_C620 Tray 34 (Control)_oC': 194.51659888589515, 'Tatoray Stripper C620 Operation_Specifications_Spec 2 : Distillate Rate_m3/hr': 0.8147985397367228}. Best is trial 13 with value: 0.08298060808119756.\u001b[0m\n",
            "\u001b[32m[I 2021-04-26 08:50:42,554]\u001b[0m Trial 56 finished with value: 0.40363349995727105 and parameters: {'Tatoray Stripper C620 Operation_Column Temp Profile_C620 Tray 14 (Control)_oC': 176.9856843485451, 'Tatoray Stripper C620 Operation_Column Temp Profile_C620 Tray 34 (Control)_oC': 194.64169739393074, 'Tatoray Stripper C620 Operation_Specifications_Spec 2 : Distillate Rate_m3/hr': 1.3868629495413154}. Best is trial 13 with value: 0.08298060808119756.\u001b[0m\n",
            "\u001b[32m[I 2021-04-26 08:50:42,636]\u001b[0m Trial 57 finished with value: 1.2987190822225148 and parameters: {'Tatoray Stripper C620 Operation_Column Temp Profile_C620 Tray 14 (Control)_oC': 175.94646792543563, 'Tatoray Stripper C620 Operation_Column Temp Profile_C620 Tray 34 (Control)_oC': 194.16044382535426, 'Tatoray Stripper C620 Operation_Specifications_Spec 2 : Distillate Rate_m3/hr': 0.5145536771013225}. Best is trial 13 with value: 0.08298060808119756.\u001b[0m\n",
            "\u001b[32m[I 2021-04-26 08:50:42,720]\u001b[0m Trial 58 finished with value: 0.374168871770133 and parameters: {'Tatoray Stripper C620 Operation_Column Temp Profile_C620 Tray 14 (Control)_oC': 176.39640425349802, 'Tatoray Stripper C620 Operation_Column Temp Profile_C620 Tray 34 (Control)_oC': 194.72595168427128, 'Tatoray Stripper C620 Operation_Specifications_Spec 2 : Distillate Rate_m3/hr': 1.357849218184294}. Best is trial 13 with value: 0.08298060808119756.\u001b[0m\n",
            "\u001b[32m[I 2021-04-26 08:50:42,805]\u001b[0m Trial 59 finished with value: 0.3128218640420287 and parameters: {'Tatoray Stripper C620 Operation_Column Temp Profile_C620 Tray 14 (Control)_oC': 177.04171743047337, 'Tatoray Stripper C620 Operation_Column Temp Profile_C620 Tray 34 (Control)_oC': 194.6542342051031, 'Tatoray Stripper C620 Operation_Specifications_Spec 2 : Distillate Rate_m3/hr': 0.6977496583455788}. Best is trial 13 with value: 0.08298060808119756.\u001b[0m\n",
            "\u001b[32m[I 2021-04-26 08:50:42,892]\u001b[0m Trial 60 finished with value: 0.25595506146571034 and parameters: {'Tatoray Stripper C620 Operation_Column Temp Profile_C620 Tray 14 (Control)_oC': 176.78927476222566, 'Tatoray Stripper C620 Operation_Column Temp Profile_C620 Tray 34 (Control)_oC': 194.67333881414388, 'Tatoray Stripper C620 Operation_Specifications_Spec 2 : Distillate Rate_m3/hr': 0.749382884884073}. Best is trial 13 with value: 0.08298060808119756.\u001b[0m\n",
            "\u001b[32m[I 2021-04-26 08:50:42,977]\u001b[0m Trial 61 finished with value: 0.30709007531287513 and parameters: {'Tatoray Stripper C620 Operation_Column Temp Profile_C620 Tray 14 (Control)_oC': 176.56188163257283, 'Tatoray Stripper C620 Operation_Column Temp Profile_C620 Tray 34 (Control)_oC': 194.7168180348314, 'Tatoray Stripper C620 Operation_Specifications_Spec 2 : Distillate Rate_m3/hr': 1.2916442500254601}. Best is trial 13 with value: 0.08298060808119756.\u001b[0m\n",
            "\u001b[32m[I 2021-04-26 08:50:43,069]\u001b[0m Trial 62 finished with value: 0.04468775374176148 and parameters: {'Tatoray Stripper C620 Operation_Column Temp Profile_C620 Tray 14 (Control)_oC': 177.2487810160943, 'Tatoray Stripper C620 Operation_Column Temp Profile_C620 Tray 34 (Control)_oC': 194.67789421971747, 'Tatoray Stripper C620 Operation_Specifications_Spec 2 : Distillate Rate_m3/hr': 0.962703314302282}. Best is trial 62 with value: 0.04468775374176148.\u001b[0m\n",
            "\u001b[32m[I 2021-04-26 08:50:43,148]\u001b[0m Trial 63 finished with value: 0.36192763637047753 and parameters: {'Tatoray Stripper C620 Operation_Column Temp Profile_C620 Tray 14 (Control)_oC': 176.81425132973766, 'Tatoray Stripper C620 Operation_Column Temp Profile_C620 Tray 34 (Control)_oC': 194.6468685608011, 'Tatoray Stripper C620 Operation_Specifications_Spec 2 : Distillate Rate_m3/hr': 0.6580075027349219}. Best is trial 62 with value: 0.04468775374176148.\u001b[0m\n",
            "\u001b[32m[I 2021-04-26 08:50:43,243]\u001b[0m Trial 64 finished with value: 0.25093536340724487 and parameters: {'Tatoray Stripper C620 Operation_Column Temp Profile_C620 Tray 14 (Control)_oC': 177.27753258274393, 'Tatoray Stripper C620 Operation_Column Temp Profile_C620 Tray 34 (Control)_oC': 194.56316811218744, 'Tatoray Stripper C620 Operation_Specifications_Spec 2 : Distillate Rate_m3/hr': 1.18534431665831}. Best is trial 62 with value: 0.04468775374176148.\u001b[0m\n",
            "\u001b[32m[I 2021-04-26 08:50:43,319]\u001b[0m Trial 65 finished with value: 0.14784815012219177 and parameters: {'Tatoray Stripper C620 Operation_Column Temp Profile_C620 Tray 14 (Control)_oC': 176.61358732598396, 'Tatoray Stripper C620 Operation_Column Temp Profile_C620 Tray 34 (Control)_oC': 194.61940118133785, 'Tatoray Stripper C620 Operation_Specifications_Spec 2 : Distillate Rate_m3/hr': 1.1053809776552352}. Best is trial 62 with value: 0.04468775374176148.\u001b[0m\n",
            "\u001b[32m[I 2021-04-26 08:50:43,399]\u001b[0m Trial 66 finished with value: 0.2604068666471868 and parameters: {'Tatoray Stripper C620 Operation_Column Temp Profile_C620 Tray 14 (Control)_oC': 176.63047276105675, 'Tatoray Stripper C620 Operation_Column Temp Profile_C620 Tray 34 (Control)_oC': 194.49445760700996, 'Tatoray Stripper C620 Operation_Specifications_Spec 2 : Distillate Rate_m3/hr': 1.1096732755162855}. Best is trial 62 with value: 0.04468775374176148.\u001b[0m\n",
            "\u001b[32m[I 2021-04-26 08:50:43,470]\u001b[0m Trial 67 finished with value: 0.33806308775496063 and parameters: {'Tatoray Stripper C620 Operation_Column Temp Profile_C620 Tray 14 (Control)_oC': 176.57736002027667, 'Tatoray Stripper C620 Operation_Column Temp Profile_C620 Tray 34 (Control)_oC': 194.46312556879454, 'Tatoray Stripper C620 Operation_Specifications_Spec 2 : Distillate Rate_m3/hr': 1.1487223649661473}. Best is trial 62 with value: 0.04468775374176148.\u001b[0m\n",
            "\u001b[32m[I 2021-04-26 08:50:43,545]\u001b[0m Trial 68 finished with value: 0.33300050212099497 and parameters: {'Tatoray Stripper C620 Operation_Column Temp Profile_C620 Tray 14 (Control)_oC': 177.6462944488965, 'Tatoray Stripper C620 Operation_Column Temp Profile_C620 Tray 34 (Control)_oC': 194.69724279923557, 'Tatoray Stripper C620 Operation_Specifications_Spec 2 : Distillate Rate_m3/hr': 0.6879853919705006}. Best is trial 62 with value: 0.04468775374176148.\u001b[0m\n",
            "\u001b[32m[I 2021-04-26 08:50:43,746]\u001b[0m Trial 69 finished with value: 0.3972800469483144 and parameters: {'Tatoray Stripper C620 Operation_Column Temp Profile_C620 Tray 14 (Control)_oC': 176.65255845154863, 'Tatoray Stripper C620 Operation_Column Temp Profile_C620 Tray 34 (Control)_oC': 194.6406202573807, 'Tatoray Stripper C620 Operation_Specifications_Spec 2 : Distillate Rate_m3/hr': 0.6305199647311883}. Best is trial 62 with value: 0.04468775374176148.\u001b[0m\n",
            "\u001b[32m[I 2021-04-26 08:50:43,821]\u001b[0m Trial 70 finished with value: 0.2032154938434898 and parameters: {'Tatoray Stripper C620 Operation_Column Temp Profile_C620 Tray 14 (Control)_oC': 176.47763525158558, 'Tatoray Stripper C620 Operation_Column Temp Profile_C620 Tray 34 (Control)_oC': 194.68654862912365, 'Tatoray Stripper C620 Operation_Specifications_Spec 2 : Distillate Rate_m3/hr': 1.1994344314087497}. Best is trial 62 with value: 0.04468775374176148.\u001b[0m\n",
            "\u001b[32m[I 2021-04-26 08:50:43,902]\u001b[0m Trial 71 finished with value: 0.2783435711854827 and parameters: {'Tatoray Stripper C620 Operation_Column Temp Profile_C620 Tray 14 (Control)_oC': 176.92899307292896, 'Tatoray Stripper C620 Operation_Column Temp Profile_C620 Tray 34 (Control)_oC': 194.52670888371233, 'Tatoray Stripper C620 Operation_Specifications_Spec 2 : Distillate Rate_m3/hr': 0.8261992552779185}. Best is trial 62 with value: 0.04468775374176148.\u001b[0m\n",
            "\u001b[32m[I 2021-04-26 08:50:43,975]\u001b[0m Trial 72 finished with value: 0.2968334946492617 and parameters: {'Tatoray Stripper C620 Operation_Column Temp Profile_C620 Tray 14 (Control)_oC': 176.51726936698475, 'Tatoray Stripper C620 Operation_Column Temp Profile_C620 Tray 34 (Control)_oC': 194.5233331140098, 'Tatoray Stripper C620 Operation_Specifications_Spec 2 : Distillate Rate_m3/hr': 1.1700621415054668}. Best is trial 62 with value: 0.04468775374176148.\u001b[0m\n",
            "\u001b[32m[I 2021-04-26 08:50:44,063]\u001b[0m Trial 73 finished with value: 0.39140251186107 and parameters: {'Tatoray Stripper C620 Operation_Column Temp Profile_C620 Tray 14 (Control)_oC': 176.40023815427068, 'Tatoray Stripper C620 Operation_Column Temp Profile_C620 Tray 34 (Control)_oC': 194.35199729196478, 'Tatoray Stripper C620 Operation_Specifications_Spec 2 : Distillate Rate_m3/hr': 0.963501148689293}. Best is trial 62 with value: 0.04468775374176148.\u001b[0m\n",
            "\u001b[32m[I 2021-04-26 08:50:44,155]\u001b[0m Trial 74 finished with value: 0.3703678147887941 and parameters: {'Tatoray Stripper C620 Operation_Column Temp Profile_C620 Tray 14 (Control)_oC': 176.6573308898245, 'Tatoray Stripper C620 Operation_Column Temp Profile_C620 Tray 34 (Control)_oC': 194.6348542761609, 'Tatoray Stripper C620 Operation_Specifications_Spec 2 : Distillate Rate_m3/hr': 1.3401128463157632}. Best is trial 62 with value: 0.04468775374176148.\u001b[0m\n",
            "\u001b[32m[I 2021-04-26 08:50:44,244]\u001b[0m Trial 75 finished with value: 0.30326924253559007 and parameters: {'Tatoray Stripper C620 Operation_Column Temp Profile_C620 Tray 14 (Control)_oC': 176.55354799442134, 'Tatoray Stripper C620 Operation_Column Temp Profile_C620 Tray 34 (Control)_oC': 194.51255682505422, 'Tatoray Stripper C620 Operation_Specifications_Spec 2 : Distillate Rate_m3/hr': 1.1672849620328787}. Best is trial 62 with value: 0.04468775374176148.\u001b[0m\n",
            "\u001b[32m[I 2021-04-26 08:50:44,328]\u001b[0m Trial 76 finished with value: 0.219452349942431 and parameters: {'Tatoray Stripper C620 Operation_Column Temp Profile_C620 Tray 14 (Control)_oC': 176.021342191701, 'Tatoray Stripper C620 Operation_Column Temp Profile_C620 Tray 34 (Control)_oC': 194.70340517924996, 'Tatoray Stripper C620 Operation_Specifications_Spec 2 : Distillate Rate_m3/hr': 1.210521191908386}. Best is trial 62 with value: 0.04468775374176148.\u001b[0m\n",
            "\u001b[32m[I 2021-04-26 08:50:44,419]\u001b[0m Trial 77 finished with value: 0.26754534554334963 and parameters: {'Tatoray Stripper C620 Operation_Column Temp Profile_C620 Tray 14 (Control)_oC': 176.20298937990617, 'Tatoray Stripper C620 Operation_Column Temp Profile_C620 Tray 34 (Control)_oC': 194.5729803290652, 'Tatoray Stripper C620 Operation_Specifications_Spec 2 : Distillate Rate_m3/hr': 1.1729414457277398}. Best is trial 62 with value: 0.04468775374176148.\u001b[0m\n",
            "\u001b[32m[I 2021-04-26 08:50:44,497]\u001b[0m Trial 78 finished with value: 0.6703972091936203 and parameters: {'Tatoray Stripper C620 Operation_Column Temp Profile_C620 Tray 14 (Control)_oC': 176.26507343332773, 'Tatoray Stripper C620 Operation_Column Temp Profile_C620 Tray 34 (Control)_oC': 194.28917804242266, 'Tatoray Stripper C620 Operation_Specifications_Spec 2 : Distillate Rate_m3/hr': 1.1730664871722036}. Best is trial 62 with value: 0.04468775374176148.\u001b[0m\n",
            "\u001b[32m[I 2021-04-26 08:50:44,577]\u001b[0m Trial 79 finished with value: 0.295742846067395 and parameters: {'Tatoray Stripper C620 Operation_Column Temp Profile_C620 Tray 14 (Control)_oC': 176.02008241614809, 'Tatoray Stripper C620 Operation_Column Temp Profile_C620 Tray 34 (Control)_oC': 194.7166597909244, 'Tatoray Stripper C620 Operation_Specifications_Spec 2 : Distillate Rate_m3/hr': 1.2947090579928298}. Best is trial 62 with value: 0.04468775374176148.\u001b[0m\n",
            "\u001b[32m[I 2021-04-26 08:50:44,666]\u001b[0m Trial 80 finished with value: 0.18067744952551434 and parameters: {'Tatoray Stripper C620 Operation_Column Temp Profile_C620 Tray 14 (Control)_oC': 176.30031078108607, 'Tatoray Stripper C620 Operation_Column Temp Profile_C620 Tray 34 (Control)_oC': 194.61236451047964, 'Tatoray Stripper C620 Operation_Specifications_Spec 2 : Distillate Rate_m3/hr': 0.877293273037584}. Best is trial 62 with value: 0.04468775374176148.\u001b[0m\n",
            "\u001b[32m[I 2021-04-26 08:50:44,750]\u001b[0m Trial 81 finished with value: 0.1571604382562919 and parameters: {'Tatoray Stripper C620 Operation_Column Temp Profile_C620 Tray 14 (Control)_oC': 176.54618473850542, 'Tatoray Stripper C620 Operation_Column Temp Profile_C620 Tray 34 (Control)_oC': 194.66500099140097, 'Tatoray Stripper C620 Operation_Specifications_Spec 2 : Distillate Rate_m3/hr': 1.1424276877314634}. Best is trial 62 with value: 0.04468775374176148.\u001b[0m\n",
            "\u001b[32m[I 2021-04-26 08:50:44,828]\u001b[0m Trial 82 finished with value: 0.5949908169136058 and parameters: {'Tatoray Stripper C620 Operation_Column Temp Profile_C620 Tray 14 (Control)_oC': 175.6539720447355, 'Tatoray Stripper C620 Operation_Column Temp Profile_C620 Tray 34 (Control)_oC': 194.43410357155562, 'Tatoray Stripper C620 Operation_Specifications_Spec 2 : Distillate Rate_m3/hr': 1.3077982437840467}. Best is trial 62 with value: 0.04468775374176148.\u001b[0m\n",
            "\u001b[32m[I 2021-04-26 08:50:44,916]\u001b[0m Trial 83 finished with value: 0.2597253635510781 and parameters: {'Tatoray Stripper C620 Operation_Column Temp Profile_C620 Tray 14 (Control)_oC': 176.74011494975147, 'Tatoray Stripper C620 Operation_Column Temp Profile_C620 Tray 34 (Control)_oC': 194.63073448778866, 'Tatoray Stripper C620 Operation_Specifications_Spec 2 : Distillate Rate_m3/hr': 1.2288970532212402}. Best is trial 62 with value: 0.04468775374176148.\u001b[0m\n",
            "\u001b[32m[I 2021-04-26 08:50:45,004]\u001b[0m Trial 84 finished with value: 0.10347735173643713 and parameters: {'Tatoray Stripper C620 Operation_Column Temp Profile_C620 Tray 14 (Control)_oC': 176.87154092657568, 'Tatoray Stripper C620 Operation_Column Temp Profile_C620 Tray 34 (Control)_oC': 194.73947043808204, 'Tatoray Stripper C620 Operation_Specifications_Spec 2 : Distillate Rate_m3/hr': 1.0725706751594188}. Best is trial 62 with value: 0.04468775374176148.\u001b[0m\n",
            "\u001b[32m[I 2021-04-26 08:50:45,090]\u001b[0m Trial 85 finished with value: 0.01368150003139701 and parameters: {'Tatoray Stripper C620 Operation_Column Temp Profile_C620 Tray 14 (Control)_oC': 176.4764726167001, 'Tatoray Stripper C620 Operation_Column Temp Profile_C620 Tray 34 (Control)_oC': 194.7174942433308, 'Tatoray Stripper C620 Operation_Specifications_Spec 2 : Distillate Rate_m3/hr': 1.0021656682676234}. Best is trial 85 with value: 0.01368150003139701.\u001b[0m\n",
            "\u001b[32m[I 2021-04-26 08:50:45,167]\u001b[0m Trial 86 finished with value: 0.1674677949272616 and parameters: {'Tatoray Stripper C620 Operation_Column Temp Profile_C620 Tray 14 (Control)_oC': 176.6073336270561, 'Tatoray Stripper C620 Operation_Column Temp Profile_C620 Tray 34 (Control)_oC': 194.57114494813987, 'Tatoray Stripper C620 Operation_Specifications_Spec 2 : Distillate Rate_m3/hr': 1.088156054999771}. Best is trial 85 with value: 0.01368150003139701.\u001b[0m\n",
            "\u001b[32m[I 2021-04-26 08:50:45,242]\u001b[0m Trial 87 finished with value: 0.292358407020044 and parameters: {'Tatoray Stripper C620 Operation_Column Temp Profile_C620 Tray 14 (Control)_oC': 176.42084986744328, 'Tatoray Stripper C620 Operation_Column Temp Profile_C620 Tray 34 (Control)_oC': 194.5052810903678, 'Tatoray Stripper C620 Operation_Specifications_Spec 2 : Distillate Rate_m3/hr': 1.1429981433310679}. Best is trial 85 with value: 0.01368150003139701.\u001b[0m\n",
            "\u001b[32m[I 2021-04-26 08:50:45,317]\u001b[0m Trial 88 finished with value: 0.13129242544734554 and parameters: {'Tatoray Stripper C620 Operation_Column Temp Profile_C620 Tray 14 (Control)_oC': 176.7294698777435, 'Tatoray Stripper C620 Operation_Column Temp Profile_C620 Tray 34 (Control)_oC': 194.59117864891937, 'Tatoray Stripper C620 Operation_Specifications_Spec 2 : Distillate Rate_m3/hr': 1.0719705560114403}. Best is trial 85 with value: 0.01368150003139701.\u001b[0m\n",
            "\u001b[32m[I 2021-04-26 08:50:45,401]\u001b[0m Trial 89 finished with value: 0.17353890187736187 and parameters: {'Tatoray Stripper C620 Operation_Column Temp Profile_C620 Tray 14 (Control)_oC': 176.73966089713284, 'Tatoray Stripper C620 Operation_Column Temp Profile_C620 Tray 34 (Control)_oC': 194.60190233691802, 'Tatoray Stripper C620 Operation_Specifications_Spec 2 : Distillate Rate_m3/hr': 1.1224297251459037}. Best is trial 85 with value: 0.01368150003139701.\u001b[0m\n",
            "\u001b[32m[I 2021-04-26 08:50:45,474]\u001b[0m Trial 90 finished with value: 0.40422305214596865 and parameters: {'Tatoray Stripper C620 Operation_Column Temp Profile_C620 Tray 14 (Control)_oC': 176.41807083425672, 'Tatoray Stripper C620 Operation_Column Temp Profile_C620 Tray 34 (Control)_oC': 194.54094983986406, 'Tatoray Stripper C620 Operation_Specifications_Spec 2 : Distillate Rate_m3/hr': 1.2890526314720774}. Best is trial 85 with value: 0.01368150003139701.\u001b[0m\n",
            "\u001b[32m[I 2021-04-26 08:50:45,563]\u001b[0m Trial 91 finished with value: 0.02137974455382219 and parameters: {'Tatoray Stripper C620 Operation_Column Temp Profile_C620 Tray 14 (Control)_oC': 177.01798363905897, 'Tatoray Stripper C620 Operation_Column Temp Profile_C620 Tray 34 (Control)_oC': 194.65720549145396, 'Tatoray Stripper C620 Operation_Specifications_Spec 2 : Distillate Rate_m3/hr': 1.0132341893887218}. Best is trial 85 with value: 0.01368150003139701.\u001b[0m\n",
            "\u001b[32m[I 2021-04-26 08:50:45,648]\u001b[0m Trial 92 finished with value: 0.09669938322834959 and parameters: {'Tatoray Stripper C620 Operation_Column Temp Profile_C620 Tray 14 (Control)_oC': 176.69889156142304, 'Tatoray Stripper C620 Operation_Column Temp Profile_C620 Tray 34 (Control)_oC': 194.7268639145338, 'Tatoray Stripper C620 Operation_Specifications_Spec 2 : Distillate Rate_m3/hr': 0.9238588049242136}. Best is trial 85 with value: 0.01368150003139701.\u001b[0m\n",
            "\u001b[32m[I 2021-04-26 08:50:45,730]\u001b[0m Trial 93 finished with value: 0.027107605506228705 and parameters: {'Tatoray Stripper C620 Operation_Column Temp Profile_C620 Tray 14 (Control)_oC': 176.67410783649638, 'Tatoray Stripper C620 Operation_Column Temp Profile_C620 Tray 34 (Control)_oC': 194.7139151848079, 'Tatoray Stripper C620 Operation_Specifications_Spec 2 : Distillate Rate_m3/hr': 1.0125777484696363}. Best is trial 85 with value: 0.01368150003139701.\u001b[0m\n",
            "\u001b[32m[I 2021-04-26 08:50:45,805]\u001b[0m Trial 94 finished with value: 0.04787543160338226 and parameters: {'Tatoray Stripper C620 Operation_Column Temp Profile_C620 Tray 14 (Control)_oC': 176.71894062428137, 'Tatoray Stripper C620 Operation_Column Temp Profile_C620 Tray 34 (Control)_oC': 194.7265586274523, 'Tatoray Stripper C620 Operation_Specifications_Spec 2 : Distillate Rate_m3/hr': 1.0262112694481353}. Best is trial 85 with value: 0.01368150003139701.\u001b[0m\n",
            "\u001b[32m[I 2021-04-26 08:50:45,893]\u001b[0m Trial 95 finished with value: 0.06914820015663758 and parameters: {'Tatoray Stripper C620 Operation_Column Temp Profile_C620 Tray 14 (Control)_oC': 176.79192621073682, 'Tatoray Stripper C620 Operation_Column Temp Profile_C620 Tray 34 (Control)_oC': 194.63777839480693, 'Tatoray Stripper C620 Operation_Specifications_Spec 2 : Distillate Rate_m3/hr': 0.9562033217153877}. Best is trial 85 with value: 0.01368150003139701.\u001b[0m\n",
            "\u001b[32m[I 2021-04-26 08:50:45,973]\u001b[0m Trial 96 finished with value: 0.15440472000847705 and parameters: {'Tatoray Stripper C620 Operation_Column Temp Profile_C620 Tray 14 (Control)_oC': 175.9375501030765, 'Tatoray Stripper C620 Operation_Column Temp Profile_C620 Tray 34 (Control)_oC': 194.68617189502305, 'Tatoray Stripper C620 Operation_Specifications_Spec 2 : Distillate Rate_m3/hr': 1.1317633723919067}. Best is trial 85 with value: 0.01368150003139701.\u001b[0m\n",
            "\u001b[32m[I 2021-04-26 08:50:46,057]\u001b[0m Trial 97 finished with value: 0.007320308751240567 and parameters: {'Tatoray Stripper C620 Operation_Column Temp Profile_C620 Tray 14 (Control)_oC': 176.8959230311681, 'Tatoray Stripper C620 Operation_Column Temp Profile_C620 Tray 34 (Control)_oC': 194.66396818999326, 'Tatoray Stripper C620 Operation_Specifications_Spec 2 : Distillate Rate_m3/hr': 1.000298682868256}. Best is trial 97 with value: 0.007320308751240567.\u001b[0m\n",
            "\u001b[32m[I 2021-04-26 08:50:46,134]\u001b[0m Trial 98 finished with value: 0.08081531075065651 and parameters: {'Tatoray Stripper C620 Operation_Column Temp Profile_C620 Tray 14 (Control)_oC': 176.2201828987518, 'Tatoray Stripper C620 Operation_Column Temp Profile_C620 Tray 34 (Control)_oC': 194.62235811319545, 'Tatoray Stripper C620 Operation_Specifications_Spec 2 : Distillate Rate_m3/hr': 0.9731940548663635}. Best is trial 97 with value: 0.007320308751240567.\u001b[0m\n",
            "\u001b[32m[I 2021-04-26 08:50:46,212]\u001b[0m Trial 99 finished with value: 0.06678826264166937 and parameters: {'Tatoray Stripper C620 Operation_Column Temp Profile_C620 Tray 14 (Control)_oC': 176.402601639222, 'Tatoray Stripper C620 Operation_Column Temp Profile_C620 Tray 34 (Control)_oC': 194.64185218367405, 'Tatoray Stripper C620 Operation_Specifications_Spec 2 : Distillate Rate_m3/hr': 1.0327299589208858}. Best is trial 97 with value: 0.007320308751240567.\u001b[0m\n",
            "\u001b[32m[I 2021-04-26 08:50:46,305]\u001b[0m Trial 100 finished with value: 0.13994314904472238 and parameters: {'Tatoray Stripper C620 Operation_Column Temp Profile_C620 Tray 14 (Control)_oC': 176.79513655302813, 'Tatoray Stripper C620 Operation_Column Temp Profile_C620 Tray 34 (Control)_oC': 194.65745026021287, 'Tatoray Stripper C620 Operation_Specifications_Spec 2 : Distillate Rate_m3/hr': 0.8736706283550465}. Best is trial 97 with value: 0.007320308751240567.\u001b[0m\n",
            "\u001b[32m[I 2021-04-26 08:50:46,390]\u001b[0m Trial 101 finished with value: 0.03926193988118387 and parameters: {'Tatoray Stripper C620 Operation_Column Temp Profile_C620 Tray 14 (Control)_oC': 176.71247855293856, 'Tatoray Stripper C620 Operation_Column Temp Profile_C620 Tray 34 (Control)_oC': 194.74399114179747, 'Tatoray Stripper C620 Operation_Specifications_Spec 2 : Distillate Rate_m3/hr': 0.9898458507746021}. Best is trial 97 with value: 0.007320308751240567.\u001b[0m\n",
            "\u001b[32m[I 2021-04-26 08:50:46,479]\u001b[0m Trial 102 finished with value: 0.0511397512775138 and parameters: {'Tatoray Stripper C620 Operation_Column Temp Profile_C620 Tray 14 (Control)_oC': 176.83911592161456, 'Tatoray Stripper C620 Operation_Column Temp Profile_C620 Tray 34 (Control)_oC': 194.67267329952784, 'Tatoray Stripper C620 Operation_Specifications_Spec 2 : Distillate Rate_m3/hr': 0.9525022351901564}. Best is trial 97 with value: 0.007320308751240567.\u001b[0m\n",
            "\u001b[32m[I 2021-04-26 08:50:46,557]\u001b[0m Trial 103 finished with value: 0.06791965400988575 and parameters: {'Tatoray Stripper C620 Operation_Column Temp Profile_C620 Tray 14 (Control)_oC': 177.09071737175842, 'Tatoray Stripper C620 Operation_Column Temp Profile_C620 Tray 34 (Control)_oC': 194.70910255725582, 'Tatoray Stripper C620 Operation_Specifications_Spec 2 : Distillate Rate_m3/hr': 0.9520080217671832}. Best is trial 97 with value: 0.007320308751240567.\u001b[0m\n",
            "\u001b[32m[I 2021-04-26 08:50:46,639]\u001b[0m Trial 104 finished with value: 0.0748337823283729 and parameters: {'Tatoray Stripper C620 Operation_Column Temp Profile_C620 Tray 14 (Control)_oC': 177.12105846890893, 'Tatoray Stripper C620 Operation_Column Temp Profile_C620 Tray 34 (Control)_oC': 194.73001085750062, 'Tatoray Stripper C620 Operation_Specifications_Spec 2 : Distillate Rate_m3/hr': 0.9550792704249422}. Best is trial 97 with value: 0.007320308751240567.\u001b[0m\n",
            "\u001b[32m[I 2021-04-26 08:50:46,722]\u001b[0m Trial 105 finished with value: 0.024659788632840796 and parameters: {'Tatoray Stripper C620 Operation_Column Temp Profile_C620 Tray 14 (Control)_oC': 176.95560428882862, 'Tatoray Stripper C620 Operation_Column Temp Profile_C620 Tray 34 (Control)_oC': 194.63968700399872, 'Tatoray Stripper C620 Operation_Specifications_Spec 2 : Distillate Rate_m3/hr': 1.0046521598991467}. Best is trial 97 with value: 0.007320308751240567.\u001b[0m\n",
            "\u001b[32m[I 2021-04-26 08:50:46,804]\u001b[0m Trial 106 finished with value: 0.021848530944082567 and parameters: {'Tatoray Stripper C620 Operation_Column Temp Profile_C620 Tray 14 (Control)_oC': 176.64539223428775, 'Tatoray Stripper C620 Operation_Column Temp Profile_C620 Tray 34 (Control)_oC': 194.71211232942528, 'Tatoray Stripper C620 Operation_Specifications_Spec 2 : Distillate Rate_m3/hr': 1.0088871953119127}. Best is trial 97 with value: 0.007320308751240567.\u001b[0m\n",
            "\u001b[32m[I 2021-04-26 08:50:46,886]\u001b[0m Trial 107 finished with value: 0.03526416476422245 and parameters: {'Tatoray Stripper C620 Operation_Column Temp Profile_C620 Tray 14 (Control)_oC': 176.82962397879473, 'Tatoray Stripper C620 Operation_Column Temp Profile_C620 Tray 34 (Control)_oC': 194.6506142445582, 'Tatoray Stripper C620 Operation_Specifications_Spec 2 : Distillate Rate_m3/hr': 1.0189313475750135}. Best is trial 97 with value: 0.007320308751240567.\u001b[0m\n",
            "\u001b[32m[I 2021-04-26 08:50:46,972]\u001b[0m Trial 108 finished with value: 0.0394644017914505 and parameters: {'Tatoray Stripper C620 Operation_Column Temp Profile_C620 Tray 14 (Control)_oC': 176.76812025759222, 'Tatoray Stripper C620 Operation_Column Temp Profile_C620 Tray 34 (Control)_oC': 194.69650834799006, 'Tatoray Stripper C620 Operation_Specifications_Spec 2 : Distillate Rate_m3/hr': 0.9680962024112727}. Best is trial 97 with value: 0.007320308751240567.\u001b[0m\n",
            "\u001b[32m[I 2021-04-26 08:50:47,057]\u001b[0m Trial 109 finished with value: 0.008705592343261737 and parameters: {'Tatoray Stripper C620 Operation_Column Temp Profile_C620 Tray 14 (Control)_oC': 176.96248406228986, 'Tatoray Stripper C620 Operation_Column Temp Profile_C620 Tray 34 (Control)_oC': 194.6594202227672, 'Tatoray Stripper C620 Operation_Specifications_Spec 2 : Distillate Rate_m3/hr': 1.0005690632439583}. Best is trial 97 with value: 0.007320308751240567.\u001b[0m\n",
            "\u001b[32m[I 2021-04-26 08:50:47,147]\u001b[0m Trial 110 finished with value: 0.0428223221884283 and parameters: {'Tatoray Stripper C620 Operation_Column Temp Profile_C620 Tray 14 (Control)_oC': 176.80996825820193, 'Tatoray Stripper C620 Operation_Column Temp Profile_C620 Tray 34 (Control)_oC': 194.6890426091304, 'Tatoray Stripper C620 Operation_Specifications_Spec 2 : Distillate Rate_m3/hr': 0.9617425645689222}. Best is trial 97 with value: 0.007320308751240567.\u001b[0m\n",
            "\u001b[32m[I 2021-04-26 08:50:47,237]\u001b[0m Trial 111 finished with value: 0.10201135204625855 and parameters: {'Tatoray Stripper C620 Operation_Column Temp Profile_C620 Tray 14 (Control)_oC': 177.01796158654025, 'Tatoray Stripper C620 Operation_Column Temp Profile_C620 Tray 34 (Control)_oC': 194.59979845785168, 'Tatoray Stripper C620 Operation_Specifications_Spec 2 : Distillate Rate_m3/hr': 0.9426762081921142}. Best is trial 97 with value: 0.007320308751240567.\u001b[0m\n",
            "\u001b[32m[I 2021-04-26 08:50:47,324]\u001b[0m Trial 112 finished with value: 0.07563697183561191 and parameters: {'Tatoray Stripper C620 Operation_Column Temp Profile_C620 Tray 14 (Control)_oC': 176.99291832461867, 'Tatoray Stripper C620 Operation_Column Temp Profile_C620 Tray 34 (Control)_oC': 194.67984341120652, 'Tatoray Stripper C620 Operation_Specifications_Spec 2 : Distillate Rate_m3/hr': 0.9277300855786684}. Best is trial 97 with value: 0.007320308751240567.\u001b[0m\n",
            "\u001b[32m[I 2021-04-26 08:50:47,407]\u001b[0m Trial 113 finished with value: 0.009752191736012272 and parameters: {'Tatoray Stripper C620 Operation_Column Temp Profile_C620 Tray 14 (Control)_oC': 176.91292101927883, 'Tatoray Stripper C620 Operation_Column Temp Profile_C620 Tray 34 (Control)_oC': 194.67740692735342, 'Tatoray Stripper C620 Operation_Specifications_Spec 2 : Distillate Rate_m3/hr': 0.9910115199200223}. Best is trial 97 with value: 0.007320308751240567.\u001b[0m\n",
            "\u001b[32m[I 2021-04-26 08:50:47,498]\u001b[0m Trial 114 finished with value: 0.01706688060974937 and parameters: {'Tatoray Stripper C620 Operation_Column Temp Profile_C620 Tray 14 (Control)_oC': 176.70146525147635, 'Tatoray Stripper C620 Operation_Column Temp Profile_C620 Tray 34 (Control)_oC': 194.6737420141082, 'Tatoray Stripper C620 Operation_Specifications_Spec 2 : Distillate Rate_m3/hr': 1.011044635493465}. Best is trial 97 with value: 0.007320308751240567.\u001b[0m\n",
            "\u001b[32m[I 2021-04-26 08:50:47,575]\u001b[0m Trial 115 finished with value: 0.06557645381324195 and parameters: {'Tatoray Stripper C620 Operation_Column Temp Profile_C620 Tray 14 (Control)_oC': 176.79310369770045, 'Tatoray Stripper C620 Operation_Column Temp Profile_C620 Tray 34 (Control)_oC': 194.69200825736482, 'Tatoray Stripper C620 Operation_Specifications_Spec 2 : Distillate Rate_m3/hr': 1.0592314602358417}. Best is trial 97 with value: 0.007320308751240567.\u001b[0m\n",
            "\u001b[32m[I 2021-04-26 08:50:47,671]\u001b[0m Trial 116 finished with value: 0.029379046919121743 and parameters: {'Tatoray Stripper C620 Operation_Column Temp Profile_C620 Tray 14 (Control)_oC': 176.88651776138022, 'Tatoray Stripper C620 Operation_Column Temp Profile_C620 Tray 34 (Control)_oC': 194.70363768271864, 'Tatoray Stripper C620 Operation_Specifications_Spec 2 : Distillate Rate_m3/hr': 1.0154166004896334}. Best is trial 97 with value: 0.007320308751240567.\u001b[0m\n",
            "\u001b[32m[I 2021-04-26 08:50:47,757]\u001b[0m Trial 117 finished with value: 0.050137807663040546 and parameters: {'Tatoray Stripper C620 Operation_Column Temp Profile_C620 Tray 14 (Control)_oC': 177.0182424748077, 'Tatoray Stripper C620 Operation_Column Temp Profile_C620 Tray 34 (Control)_oC': 194.644379583967, 'Tatoray Stripper C620 Operation_Specifications_Spec 2 : Distillate Rate_m3/hr': 0.9657033097889578}. Best is trial 97 with value: 0.007320308751240567.\u001b[0m\n",
            "\u001b[32m[I 2021-04-26 08:50:47,836]\u001b[0m Trial 118 finished with value: 0.03215433158988068 and parameters: {'Tatoray Stripper C620 Operation_Column Temp Profile_C620 Tray 14 (Control)_oC': 176.66423538318494, 'Tatoray Stripper C620 Operation_Column Temp Profile_C620 Tray 34 (Control)_oC': 194.65458905337996, 'Tatoray Stripper C620 Operation_Specifications_Spec 2 : Distillate Rate_m3/hr': 1.0139600123549157}. Best is trial 97 with value: 0.007320308751240567.\u001b[0m\n",
            "\u001b[32m[I 2021-04-26 08:50:47,911]\u001b[0m Trial 119 finished with value: 0.031486911193448375 and parameters: {'Tatoray Stripper C620 Operation_Column Temp Profile_C620 Tray 14 (Control)_oC': 176.4734443643578, 'Tatoray Stripper C620 Operation_Column Temp Profile_C620 Tray 34 (Control)_oC': 194.7114134908164, 'Tatoray Stripper C620 Operation_Specifications_Spec 2 : Distillate Rate_m3/hr': 1.0229841724613151}. Best is trial 97 with value: 0.007320308751240567.\u001b[0m\n",
            "\u001b[32m[I 2021-04-26 08:50:47,990]\u001b[0m Trial 120 finished with value: 0.007201169857054879 and parameters: {'Tatoray Stripper C620 Operation_Column Temp Profile_C620 Tray 14 (Control)_oC': 176.89884766399726, 'Tatoray Stripper C620 Operation_Column Temp Profile_C620 Tray 34 (Control)_oC': 194.67811201301518, 'Tatoray Stripper C620 Operation_Specifications_Spec 2 : Distillate Rate_m3/hr': 1.006273483892926}. Best is trial 120 with value: 0.007201169857054879.\u001b[0m\n",
            "\u001b[32m[I 2021-04-26 08:50:48,085]\u001b[0m Trial 121 finished with value: 0.035160246973586884 and parameters: {'Tatoray Stripper C620 Operation_Column Temp Profile_C620 Tray 14 (Control)_oC': 176.9543460035872, 'Tatoray Stripper C620 Operation_Column Temp Profile_C620 Tray 34 (Control)_oC': 194.63296496291142, 'Tatoray Stripper C620 Operation_Specifications_Spec 2 : Distillate Rate_m3/hr': 0.989100478526569}. Best is trial 120 with value: 0.007201169857054879.\u001b[0m\n",
            "\u001b[32m[I 2021-04-26 08:50:48,173]\u001b[0m Trial 122 finished with value: 0.03264212866016791 and parameters: {'Tatoray Stripper C620 Operation_Column Temp Profile_C620 Tray 14 (Control)_oC': 176.68329695694368, 'Tatoray Stripper C620 Operation_Column Temp Profile_C620 Tray 34 (Control)_oC': 194.7265225840801, 'Tatoray Stripper C620 Operation_Specifications_Spec 2 : Distillate Rate_m3/hr': 1.0118619845059094}. Best is trial 120 with value: 0.007201169857054879.\u001b[0m\n",
            "\u001b[32m[I 2021-04-26 08:50:48,259]\u001b[0m Trial 123 finished with value: 0.025920574892041803 and parameters: {'Tatoray Stripper C620 Operation_Column Temp Profile_C620 Tray 14 (Control)_oC': 176.97956590473402, 'Tatoray Stripper C620 Operation_Column Temp Profile_C620 Tray 34 (Control)_oC': 194.6820371719919, 'Tatoray Stripper C620 Operation_Specifications_Spec 2 : Distillate Rate_m3/hr': 0.978629072163442}. Best is trial 120 with value: 0.007201169857054879.\u001b[0m\n",
            "\u001b[32m[I 2021-04-26 08:50:48,343]\u001b[0m Trial 124 finished with value: 0.029188593288881348 and parameters: {'Tatoray Stripper C620 Operation_Column Temp Profile_C620 Tray 14 (Control)_oC': 176.67849802957292, 'Tatoray Stripper C620 Operation_Column Temp Profile_C620 Tray 34 (Control)_oC': 194.71053243607614, 'Tatoray Stripper C620 Operation_Specifications_Spec 2 : Distillate Rate_m3/hr': 0.9835585737758639}. Best is trial 120 with value: 0.007201169857054879.\u001b[0m\n",
            "\u001b[32m[I 2021-04-26 08:50:48,430]\u001b[0m Trial 125 finished with value: 0.056668859504492075 and parameters: {'Tatoray Stripper C620 Operation_Column Temp Profile_C620 Tray 14 (Control)_oC': 176.9057751827992, 'Tatoray Stripper C620 Operation_Column Temp Profile_C620 Tray 34 (Control)_oC': 194.65010636950447, 'Tatoray Stripper C620 Operation_Specifications_Spec 2 : Distillate Rate_m3/hr': 0.958345110196524}. Best is trial 120 with value: 0.007201169857054879.\u001b[0m\n",
            "\u001b[32m[I 2021-04-26 08:50:48,507]\u001b[0m Trial 126 finished with value: 0.02280650353187319 and parameters: {'Tatoray Stripper C620 Operation_Column Temp Profile_C620 Tray 14 (Control)_oC': 176.80593202608893, 'Tatoray Stripper C620 Operation_Column Temp Profile_C620 Tray 34 (Control)_oC': 194.67914170956, 'Tatoray Stripper C620 Operation_Specifications_Spec 2 : Distillate Rate_m3/hr': 1.0223218507450778}. Best is trial 120 with value: 0.007201169857054879.\u001b[0m\n",
            "\u001b[32m[I 2021-04-26 08:50:48,584]\u001b[0m Trial 127 finished with value: 0.02279670638136 and parameters: {'Tatoray Stripper C620 Operation_Column Temp Profile_C620 Tray 14 (Control)_oC': 176.93502423319666, 'Tatoray Stripper C620 Operation_Column Temp Profile_C620 Tray 34 (Control)_oC': 194.66916385150128, 'Tatoray Stripper C620 Operation_Specifications_Spec 2 : Distillate Rate_m3/hr': 0.9805375554416537}. Best is trial 120 with value: 0.007201169857054879.\u001b[0m\n",
            "\u001b[32m[I 2021-04-26 08:50:48,662]\u001b[0m Trial 128 finished with value: 0.01579849785489873 and parameters: {'Tatoray Stripper C620 Operation_Column Temp Profile_C620 Tray 14 (Control)_oC': 176.98663448646005, 'Tatoray Stripper C620 Operation_Column Temp Profile_C620 Tray 34 (Control)_oC': 194.67628649966227, 'Tatoray Stripper C620 Operation_Specifications_Spec 2 : Distillate Rate_m3/hr': 0.9858768105134353}. Best is trial 120 with value: 0.007201169857054879.\u001b[0m\n",
            "\u001b[32m[I 2021-04-26 08:50:48,735]\u001b[0m Trial 129 finished with value: 0.02111823440433236 and parameters: {'Tatoray Stripper C620 Operation_Column Temp Profile_C620 Tray 14 (Control)_oC': 176.86495689192907, 'Tatoray Stripper C620 Operation_Column Temp Profile_C620 Tray 34 (Control)_oC': 194.6688496384881, 'Tatoray Stripper C620 Operation_Specifications_Spec 2 : Distillate Rate_m3/hr': 1.0162318631262282}. Best is trial 120 with value: 0.007201169857054879.\u001b[0m\n",
            "\u001b[32m[I 2021-04-26 08:50:48,828]\u001b[0m Trial 130 finished with value: 0.020592489336466402 and parameters: {'Tatoray Stripper C620 Operation_Column Temp Profile_C620 Tray 14 (Control)_oC': 176.73942585178636, 'Tatoray Stripper C620 Operation_Column Temp Profile_C620 Tray 34 (Control)_oC': 194.6530420939278, 'Tatoray Stripper C620 Operation_Specifications_Spec 2 : Distillate Rate_m3/hr': 1.0034087748014866}. Best is trial 120 with value: 0.007201169857054879.\u001b[0m\n",
            "\u001b[32m[I 2021-04-26 08:50:48,903]\u001b[0m Trial 131 finished with value: 0.060817708553159155 and parameters: {'Tatoray Stripper C620 Operation_Column Temp Profile_C620 Tray 14 (Control)_oC': 176.87585817436207, 'Tatoray Stripper C620 Operation_Column Temp Profile_C620 Tray 34 (Control)_oC': 194.62460078343793, 'Tatoray Stripper C620 Operation_Specifications_Spec 2 : Distillate Rate_m3/hr': 0.9707823107301865}. Best is trial 120 with value: 0.007201169857054879.\u001b[0m\n",
            "\u001b[32m[I 2021-04-26 08:50:48,980]\u001b[0m Trial 132 finished with value: 0.019945046176078174 and parameters: {'Tatoray Stripper C620 Operation_Column Temp Profile_C620 Tray 14 (Control)_oC': 176.99845429813158, 'Tatoray Stripper C620 Operation_Column Temp Profile_C620 Tray 34 (Control)_oC': 194.65687187307827, 'Tatoray Stripper C620 Operation_Specifications_Spec 2 : Distillate Rate_m3/hr': 1.0111765475486882}. Best is trial 120 with value: 0.007201169857054879.\u001b[0m\n",
            "\u001b[32m[I 2021-04-26 08:50:49,060]\u001b[0m Trial 133 finished with value: 0.031944099899074985 and parameters: {'Tatoray Stripper C620 Operation_Column Temp Profile_C620 Tray 14 (Control)_oC': 176.84201348891983, 'Tatoray Stripper C620 Operation_Column Temp Profile_C620 Tray 34 (Control)_oC': 194.71856551254896, 'Tatoray Stripper C620 Operation_Specifications_Spec 2 : Distillate Rate_m3/hr': 1.01166435596161}. Best is trial 120 with value: 0.007201169857054879.\u001b[0m\n",
            "\u001b[32m[I 2021-04-26 08:50:49,141]\u001b[0m Trial 134 finished with value: 0.02245181933684004 and parameters: {'Tatoray Stripper C620 Operation_Column Temp Profile_C620 Tray 14 (Control)_oC': 176.91172604287306, 'Tatoray Stripper C620 Operation_Column Temp Profile_C620 Tray 34 (Control)_oC': 194.65341709147992, 'Tatoray Stripper C620 Operation_Specifications_Spec 2 : Distillate Rate_m3/hr': 0.9903540822463096}. Best is trial 120 with value: 0.007201169857054879.\u001b[0m\n",
            "\u001b[32m[I 2021-04-26 08:50:49,213]\u001b[0m Trial 135 finished with value: 0.018494311085369808 and parameters: {'Tatoray Stripper C620 Operation_Column Temp Profile_C620 Tray 14 (Control)_oC': 176.82143962838597, 'Tatoray Stripper C620 Operation_Column Temp Profile_C620 Tray 34 (Control)_oC': 194.66703660162943, 'Tatoray Stripper C620 Operation_Specifications_Spec 2 : Distillate Rate_m3/hr': 0.9885434089787207}. Best is trial 120 with value: 0.007201169857054879.\u001b[0m\n",
            "\u001b[32m[I 2021-04-26 08:50:49,289]\u001b[0m Trial 136 finished with value: 0.040218352038518645 and parameters: {'Tatoray Stripper C620 Operation_Column Temp Profile_C620 Tray 14 (Control)_oC': 176.9037215728158, 'Tatoray Stripper C620 Operation_Column Temp Profile_C620 Tray 34 (Control)_oC': 194.63627304417332, 'Tatoray Stripper C620 Operation_Specifications_Spec 2 : Distillate Rate_m3/hr': 1.01687078117018}. Best is trial 120 with value: 0.007201169857054879.\u001b[0m\n",
            "\u001b[32m[I 2021-04-26 08:50:49,363]\u001b[0m Trial 137 finished with value: 0.01506253688442516 and parameters: {'Tatoray Stripper C620 Operation_Column Temp Profile_C620 Tray 14 (Control)_oC': 176.94938086073915, 'Tatoray Stripper C620 Operation_Column Temp Profile_C620 Tray 34 (Control)_oC': 194.68558548216552, 'Tatoray Stripper C620 Operation_Specifications_Spec 2 : Distillate Rate_m3/hr': 0.9908132277943943}. Best is trial 120 with value: 0.007201169857054879.\u001b[0m\n",
            "\u001b[32m[I 2021-04-26 08:50:49,444]\u001b[0m Trial 138 finished with value: 0.030458814365292963 and parameters: {'Tatoray Stripper C620 Operation_Column Temp Profile_C620 Tray 14 (Control)_oC': 176.98084414114098, 'Tatoray Stripper C620 Operation_Column Temp Profile_C620 Tray 34 (Control)_oC': 194.71374727845256, 'Tatoray Stripper C620 Operation_Specifications_Spec 2 : Distillate Rate_m3/hr': 0.9900035771960879}. Best is trial 120 with value: 0.007201169857054879.\u001b[0m\n",
            "\u001b[32m[I 2021-04-26 08:50:49,523]\u001b[0m Trial 139 finished with value: 0.06423334215235887 and parameters: {'Tatoray Stripper C620 Operation_Column Temp Profile_C620 Tray 14 (Control)_oC': 177.0460866276251, 'Tatoray Stripper C620 Operation_Column Temp Profile_C620 Tray 34 (Control)_oC': 194.65705940020752, 'Tatoray Stripper C620 Operation_Specifications_Spec 2 : Distillate Rate_m3/hr': 0.9436950682828538}. Best is trial 120 with value: 0.007201169857054879.\u001b[0m\n",
            "\u001b[32m[I 2021-04-26 08:50:49,595]\u001b[0m Trial 140 finished with value: 0.012842272548301947 and parameters: {'Tatoray Stripper C620 Operation_Column Temp Profile_C620 Tray 14 (Control)_oC': 176.9192357099744, 'Tatoray Stripper C620 Operation_Column Temp Profile_C620 Tray 34 (Control)_oC': 194.67203925670992, 'Tatoray Stripper C620 Operation_Specifications_Spec 2 : Distillate Rate_m3/hr': 1.010912538418897}. Best is trial 120 with value: 0.007201169857054879.\u001b[0m\n",
            "\u001b[32m[I 2021-04-26 08:50:49,671]\u001b[0m Trial 141 finished with value: 0.0019175101690065421 and parameters: {'Tatoray Stripper C620 Operation_Column Temp Profile_C620 Tray 14 (Control)_oC': 176.91306219817147, 'Tatoray Stripper C620 Operation_Column Temp Profile_C620 Tray 34 (Control)_oC': 194.67283039376136, 'Tatoray Stripper C620 Operation_Specifications_Spec 2 : Distillate Rate_m3/hr': 0.9997682682678872}. Best is trial 141 with value: 0.0019175101690065421.\u001b[0m\n",
            "\u001b[32m[I 2021-04-26 08:50:49,747]\u001b[0m Trial 142 finished with value: 0.02077934527645442 and parameters: {'Tatoray Stripper C620 Operation_Column Temp Profile_C620 Tray 14 (Control)_oC': 176.8701935918459, 'Tatoray Stripper C620 Operation_Column Temp Profile_C620 Tray 34 (Control)_oC': 194.71091832915593, 'Tatoray Stripper C620 Operation_Specifications_Spec 2 : Distillate Rate_m3/hr': 1.0036644234455874}. Best is trial 141 with value: 0.0019175101690065421.\u001b[0m\n",
            "\u001b[32m[I 2021-04-26 08:50:49,819]\u001b[0m Trial 143 finished with value: 0.006121961437800527 and parameters: {'Tatoray Stripper C620 Operation_Column Temp Profile_C620 Tray 14 (Control)_oC': 176.91789020359653, 'Tatoray Stripper C620 Operation_Column Temp Profile_C620 Tray 34 (Control)_oC': 194.66970645936917, 'Tatoray Stripper C620 Operation_Specifications_Spec 2 : Distillate Rate_m3/hr': 1.0028289371741452}. Best is trial 141 with value: 0.0019175101690065421.\u001b[0m\n",
            "\u001b[32m[I 2021-04-26 08:50:49,891]\u001b[0m Trial 144 finished with value: 0.025440396526280384 and parameters: {'Tatoray Stripper C620 Operation_Column Temp Profile_C620 Tray 14 (Control)_oC': 176.90228014684766, 'Tatoray Stripper C620 Operation_Column Temp Profile_C620 Tray 34 (Control)_oC': 194.6535999942862, 'Tatoray Stripper C620 Operation_Specifications_Spec 2 : Distillate Rate_m3/hr': 1.0126045117728801}. Best is trial 141 with value: 0.0019175101690065421.\u001b[0m\n",
            "\u001b[32m[I 2021-04-26 08:50:49,970]\u001b[0m Trial 145 finished with value: 0.011424124074339237 and parameters: {'Tatoray Stripper C620 Operation_Column Temp Profile_C620 Tray 14 (Control)_oC': 176.9688087959185, 'Tatoray Stripper C620 Operation_Column Temp Profile_C620 Tray 34 (Control)_oC': 194.66147760775854, 'Tatoray Stripper C620 Operation_Specifications_Spec 2 : Distillate Rate_m3/hr': 0.9954207399953948}. Best is trial 141 with value: 0.0019175101690065421.\u001b[0m\n",
            "\u001b[32m[I 2021-04-26 08:50:50,054]\u001b[0m Trial 146 finished with value: 0.021960129711265708 and parameters: {'Tatoray Stripper C620 Operation_Column Temp Profile_C620 Tray 14 (Control)_oC': 176.93469982418662, 'Tatoray Stripper C620 Operation_Column Temp Profile_C620 Tray 34 (Control)_oC': 194.6457628040353, 'Tatoray Stripper C620 Operation_Specifications_Spec 2 : Distillate Rate_m3/hr': 0.994866761339873}. Best is trial 141 with value: 0.0019175101690065421.\u001b[0m\n",
            "\u001b[32m[I 2021-04-26 08:50:50,152]\u001b[0m Trial 147 finished with value: 0.01119586289371377 and parameters: {'Tatoray Stripper C620 Operation_Column Temp Profile_C620 Tray 14 (Control)_oC': 176.9531987686077, 'Tatoray Stripper C620 Operation_Column Temp Profile_C620 Tray 34 (Control)_oC': 194.6614406650221, 'Tatoray Stripper C620 Operation_Specifications_Spec 2 : Distillate Rate_m3/hr': 0.996009886685571}. Best is trial 141 with value: 0.0019175101690065421.\u001b[0m\n",
            "\u001b[32m[I 2021-04-26 08:50:50,233]\u001b[0m Trial 148 finished with value: 0.005851301113859675 and parameters: {'Tatoray Stripper C620 Operation_Column Temp Profile_C620 Tray 14 (Control)_oC': 176.86769974217765, 'Tatoray Stripper C620 Operation_Column Temp Profile_C620 Tray 34 (Control)_oC': 194.68374945797575, 'Tatoray Stripper C620 Operation_Specifications_Spec 2 : Distillate Rate_m3/hr': 1.0025886053460862}. Best is trial 141 with value: 0.0019175101690065421.\u001b[0m\n",
            "\u001b[32m[I 2021-04-26 08:50:50,311]\u001b[0m Trial 149 finished with value: 0.015780257932215824 and parameters: {'Tatoray Stripper C620 Operation_Column Temp Profile_C620 Tray 14 (Control)_oC': 176.9595517414678, 'Tatoray Stripper C620 Operation_Column Temp Profile_C620 Tray 34 (Control)_oC': 194.656868390402, 'Tatoray Stripper C620 Operation_Specifications_Spec 2 : Distillate Rate_m3/hr': 0.9939195754432198}. Best is trial 141 with value: 0.0019175101690065421.\u001b[0m\n",
            "\u001b[32m[I 2021-04-26 08:50:50,387]\u001b[0m Trial 150 finished with value: 0.016573909981389745 and parameters: {'Tatoray Stripper C620 Operation_Column Temp Profile_C620 Tray 14 (Control)_oC': 176.8694821749787, 'Tatoray Stripper C620 Operation_Column Temp Profile_C620 Tray 34 (Control)_oC': 194.68823948114382, 'Tatoray Stripper C620 Operation_Specifications_Spec 2 : Distillate Rate_m3/hr': 1.010851547033085}. Best is trial 141 with value: 0.0019175101690065421.\u001b[0m\n",
            "\u001b[32m[I 2021-04-26 08:50:50,467]\u001b[0m Trial 151 finished with value: 0.005469197216054877 and parameters: {'Tatoray Stripper C620 Operation_Column Temp Profile_C620 Tray 14 (Control)_oC': 176.9481933138063, 'Tatoray Stripper C620 Operation_Column Temp Profile_C620 Tray 34 (Control)_oC': 194.66779023106696, 'Tatoray Stripper C620 Operation_Specifications_Spec 2 : Distillate Rate_m3/hr': 0.998257846369416}. Best is trial 141 with value: 0.0019175101690065421.\u001b[0m\n",
            "\u001b[32m[I 2021-04-26 08:50:50,557]\u001b[0m Trial 152 finished with value: 0.014548179910095271 and parameters: {'Tatoray Stripper C620 Operation_Column Temp Profile_C620 Tray 14 (Control)_oC': 176.87537999418475, 'Tatoray Stripper C620 Operation_Column Temp Profile_C620 Tray 34 (Control)_oC': 194.68122903754113, 'Tatoray Stripper C620 Operation_Specifications_Spec 2 : Distillate Rate_m3/hr': 0.9874471499362851}. Best is trial 141 with value: 0.0019175101690065421.\u001b[0m\n",
            "\u001b[32m[I 2021-04-26 08:50:50,633]\u001b[0m Trial 153 finished with value: 0.007529034884231622 and parameters: {'Tatoray Stripper C620 Operation_Column Temp Profile_C620 Tray 14 (Control)_oC': 176.9258904677085, 'Tatoray Stripper C620 Operation_Column Temp Profile_C620 Tray 34 (Control)_oC': 194.6799490283386, 'Tatoray Stripper C620 Operation_Specifications_Spec 2 : Distillate Rate_m3/hr': 0.9949003716974658}. Best is trial 141 with value: 0.0019175101690065421.\u001b[0m\n",
            "\u001b[32m[I 2021-04-26 08:50:50,716]\u001b[0m Trial 154 finished with value: 0.014503451961230707 and parameters: {'Tatoray Stripper C620 Operation_Column Temp Profile_C620 Tray 14 (Control)_oC': 176.9175003583091, 'Tatoray Stripper C620 Operation_Column Temp Profile_C620 Tray 34 (Control)_oC': 194.66546270703122, 'Tatoray Stripper C620 Operation_Specifications_Spec 2 : Distillate Rate_m3/hr': 0.991227185035301}. Best is trial 141 with value: 0.0019175101690065421.\u001b[0m\n",
            "\u001b[32m[I 2021-04-26 08:50:50,796]\u001b[0m Trial 155 finished with value: 0.0049819251269339615 and parameters: {'Tatoray Stripper C620 Operation_Column Temp Profile_C620 Tray 14 (Control)_oC': 176.96193730157717, 'Tatoray Stripper C620 Operation_Column Temp Profile_C620 Tray 34 (Control)_oC': 194.67920725350322, 'Tatoray Stripper C620 Operation_Specifications_Spec 2 : Distillate Rate_m3/hr': 0.997820338095842}. Best is trial 141 with value: 0.0019175101690065421.\u001b[0m\n",
            "\u001b[32m[I 2021-04-26 08:50:50,875]\u001b[0m Trial 156 finished with value: 0.00852797045878606 and parameters: {'Tatoray Stripper C620 Operation_Column Temp Profile_C620 Tray 14 (Control)_oC': 176.93760106844954, 'Tatoray Stripper C620 Operation_Column Temp Profile_C620 Tray 34 (Control)_oC': 194.6680698916143, 'Tatoray Stripper C620 Operation_Specifications_Spec 2 : Distillate Rate_m3/hr': 0.9952851741899594}. Best is trial 141 with value: 0.0019175101690065421.\u001b[0m\n",
            "\u001b[32m[I 2021-04-26 08:50:50,957]\u001b[0m Trial 157 finished with value: 0.019433728602871514 and parameters: {'Tatoray Stripper C620 Operation_Column Temp Profile_C620 Tray 14 (Control)_oC': 176.936837151725, 'Tatoray Stripper C620 Operation_Column Temp Profile_C620 Tray 34 (Control)_oC': 194.68777693807394, 'Tatoray Stripper C620 Operation_Specifications_Spec 2 : Distillate Rate_m3/hr': 0.987308158508503}. Best is trial 141 with value: 0.0019175101690065421.\u001b[0m\n",
            "\u001b[32m[I 2021-04-26 08:50:51,044]\u001b[0m Trial 158 finished with value: 0.0018007228583420964 and parameters: {'Tatoray Stripper C620 Operation_Column Temp Profile_C620 Tray 14 (Control)_oC': 176.88757795343037, 'Tatoray Stripper C620 Operation_Column Temp Profile_C620 Tray 34 (Control)_oC': 194.67407757746386, 'Tatoray Stripper C620 Operation_Specifications_Spec 2 : Distillate Rate_m3/hr': 1.0002481269572392}. Best is trial 158 with value: 0.0018007228583420964.\u001b[0m\n",
            "\u001b[32m[I 2021-04-26 08:50:51,132]\u001b[0m Trial 159 finished with value: 0.008578365857993875 and parameters: {'Tatoray Stripper C620 Operation_Column Temp Profile_C620 Tray 14 (Control)_oC': 176.9815594704026, 'Tatoray Stripper C620 Operation_Column Temp Profile_C620 Tray 34 (Control)_oC': 194.678441375119, 'Tatoray Stripper C620 Operation_Specifications_Spec 2 : Distillate Rate_m3/hr': 1.0057374709767057}. Best is trial 158 with value: 0.0018007228583420964.\u001b[0m\n",
            "\u001b[32m[I 2021-04-26 08:50:51,204]\u001b[0m Trial 160 finished with value: 0.0073807608526181845 and parameters: {'Tatoray Stripper C620 Operation_Column Temp Profile_C620 Tray 14 (Control)_oC': 176.9110752009534, 'Tatoray Stripper C620 Operation_Column Temp Profile_C620 Tray 34 (Control)_oC': 194.6861233916796, 'Tatoray Stripper C620 Operation_Specifications_Spec 2 : Distillate Rate_m3/hr': 1.0019483478300573}. Best is trial 158 with value: 0.0018007228583420964.\u001b[0m\n",
            "\u001b[32m[I 2021-04-26 08:50:51,284]\u001b[0m Trial 161 finished with value: 0.017016475287294552 and parameters: {'Tatoray Stripper C620 Operation_Column Temp Profile_C620 Tray 14 (Control)_oC': 176.89656167451543, 'Tatoray Stripper C620 Operation_Column Temp Profile_C620 Tray 34 (Control)_oC': 194.6774395474456, 'Tatoray Stripper C620 Operation_Specifications_Spec 2 : Distillate Rate_m3/hr': 1.0164504569229418}. Best is trial 158 with value: 0.0018007228583420964.\u001b[0m\n",
            "\u001b[32m[I 2021-04-26 08:50:51,368]\u001b[0m Trial 162 finished with value: 0.0065205250291923145 and parameters: {'Tatoray Stripper C620 Operation_Column Temp Profile_C620 Tray 14 (Control)_oC': 176.86661095193796, 'Tatoray Stripper C620 Operation_Column Temp Profile_C620 Tray 34 (Control)_oC': 194.67855804993894, 'Tatoray Stripper C620 Operation_Specifications_Spec 2 : Distillate Rate_m3/hr': 0.9938803225353853}. Best is trial 158 with value: 0.0018007228583420964.\u001b[0m\n",
            "\u001b[32m[I 2021-04-26 08:50:51,453]\u001b[0m Trial 163 finished with value: 0.0015271531355121049 and parameters: {'Tatoray Stripper C620 Operation_Column Temp Profile_C620 Tray 14 (Control)_oC': 176.96213931177428, 'Tatoray Stripper C620 Operation_Column Temp Profile_C620 Tray 34 (Control)_oC': 194.67637866033328, 'Tatoray Stripper C620 Operation_Specifications_Spec 2 : Distillate Rate_m3/hr': 0.999767025548636}. Best is trial 163 with value: 0.0015271531355121049.\u001b[0m\n",
            "\u001b[32m[I 2021-04-26 08:50:51,542]\u001b[0m Trial 164 finished with value: 0.012856060287371518 and parameters: {'Tatoray Stripper C620 Operation_Column Temp Profile_C620 Tray 14 (Control)_oC': 176.90882842224187, 'Tatoray Stripper C620 Operation_Column Temp Profile_C620 Tray 34 (Control)_oC': 194.687355613122, 'Tatoray Stripper C620 Operation_Specifications_Spec 2 : Distillate Rate_m3/hr': 0.9931228980061253}. Best is trial 163 with value: 0.0015271531355121049.\u001b[0m\n",
            "\u001b[32m[I 2021-04-26 08:50:51,633]\u001b[0m Trial 165 finished with value: 0.005455891368451038 and parameters: {'Tatoray Stripper C620 Operation_Column Temp Profile_C620 Tray 14 (Control)_oC': 176.9195112556464, 'Tatoray Stripper C620 Operation_Column Temp Profile_C620 Tray 34 (Control)_oC': 194.67360902039135, 'Tatoray Stripper C620 Operation_Specifications_Spec 2 : Distillate Rate_m3/hr': 1.0043615254163947}. Best is trial 163 with value: 0.0015271531355121049.\u001b[0m\n",
            "\u001b[32m[I 2021-04-26 08:50:51,722]\u001b[0m Trial 166 finished with value: 0.007339539153265018 and parameters: {'Tatoray Stripper C620 Operation_Column Temp Profile_C620 Tray 14 (Control)_oC': 176.90463260142047, 'Tatoray Stripper C620 Operation_Column Temp Profile_C620 Tray 34 (Control)_oC': 194.6801018060477, 'Tatoray Stripper C620 Operation_Specifications_Spec 2 : Distillate Rate_m3/hr': 0.9947143909990351}. Best is trial 163 with value: 0.0015271531355121049.\u001b[0m\n",
            "\u001b[32m[I 2021-04-26 08:50:51,915]\u001b[0m Trial 167 finished with value: 0.009262536870898841 and parameters: {'Tatoray Stripper C620 Operation_Column Temp Profile_C620 Tray 14 (Control)_oC': 176.90457235661285, 'Tatoray Stripper C620 Operation_Column Temp Profile_C620 Tray 34 (Control)_oC': 194.67517687802388, 'Tatoray Stripper C620 Operation_Specifications_Spec 2 : Distillate Rate_m3/hr': 0.9913656658484277}. Best is trial 163 with value: 0.0015271531355121049.\u001b[0m\n",
            "\u001b[32m[I 2021-04-26 08:50:52,002]\u001b[0m Trial 168 finished with value: 0.0029446953531500064 and parameters: {'Tatoray Stripper C620 Operation_Column Temp Profile_C620 Tray 14 (Control)_oC': 176.8744130467863, 'Tatoray Stripper C620 Operation_Column Temp Profile_C620 Tray 34 (Control)_oC': 194.67407021071898, 'Tatoray Stripper C620 Operation_Specifications_Spec 2 : Distillate Rate_m3/hr': 0.9989108176743149}. Best is trial 163 with value: 0.0015271531355121049.\u001b[0m\n",
            "\u001b[32m[I 2021-04-26 08:50:52,076]\u001b[0m Trial 169 finished with value: 0.006378501858404606 and parameters: {'Tatoray Stripper C620 Operation_Column Temp Profile_C620 Tray 14 (Control)_oC': 176.92407912348983, 'Tatoray Stripper C620 Operation_Column Temp Profile_C620 Tray 34 (Control)_oC': 194.6718482494889, 'Tatoray Stripper C620 Operation_Specifications_Spec 2 : Distillate Rate_m3/hr': 1.0044163288087706}. Best is trial 163 with value: 0.0015271531355121049.\u001b[0m\n",
            "\u001b[32m[I 2021-04-26 08:50:52,159]\u001b[0m Trial 170 finished with value: 0.002390421805763543 and parameters: {'Tatoray Stripper C620 Operation_Column Temp Profile_C620 Tray 14 (Control)_oC': 176.9016973081632, 'Tatoray Stripper C620 Operation_Column Temp Profile_C620 Tray 34 (Control)_oC': 194.67703949559086, 'Tatoray Stripper C620 Operation_Specifications_Spec 2 : Distillate Rate_m3/hr': 1.0020087104407975}. Best is trial 163 with value: 0.0015271531355121049.\u001b[0m\n",
            "\u001b[32m[I 2021-04-26 08:50:52,236]\u001b[0m Trial 171 finished with value: 0.0033494687639361587 and parameters: {'Tatoray Stripper C620 Operation_Column Temp Profile_C620 Tray 14 (Control)_oC': 176.95335399124775, 'Tatoray Stripper C620 Operation_Column Temp Profile_C620 Tray 34 (Control)_oC': 194.67899708768718, 'Tatoray Stripper C620 Operation_Specifications_Spec 2 : Distillate Rate_m3/hr': 1.0008215524973778}. Best is trial 163 with value: 0.0015271531355121049.\u001b[0m\n",
            "\u001b[32m[I 2021-04-26 08:50:52,318]\u001b[0m Trial 172 finished with value: 0.0023832209066143584 and parameters: {'Tatoray Stripper C620 Operation_Column Temp Profile_C620 Tray 14 (Control)_oC': 176.93432455927066, 'Tatoray Stripper C620 Operation_Column Temp Profile_C620 Tray 34 (Control)_oC': 194.67557626231826, 'Tatoray Stripper C620 Operation_Specifications_Spec 2 : Distillate Rate_m3/hr': 1.0020963313491138}. Best is trial 163 with value: 0.0015271531355121049.\u001b[0m\n",
            "\u001b[32m[I 2021-04-26 08:50:52,390]\u001b[0m Trial 173 finished with value: 0.0033194002026221137 and parameters: {'Tatoray Stripper C620 Operation_Column Temp Profile_C620 Tray 14 (Control)_oC': 176.9658866980728, 'Tatoray Stripper C620 Operation_Column Temp Profile_C620 Tray 34 (Control)_oC': 194.66954933304137, 'Tatoray Stripper C620 Operation_Specifications_Spec 2 : Distillate Rate_m3/hr': 0.9990438604888453}. Best is trial 163 with value: 0.0015271531355121049.\u001b[0m\n",
            "\u001b[32m[I 2021-04-26 08:50:52,468]\u001b[0m Trial 174 finished with value: 0.003496914124629047 and parameters: {'Tatoray Stripper C620 Operation_Column Temp Profile_C620 Tray 14 (Control)_oC': 176.94808242167997, 'Tatoray Stripper C620 Operation_Column Temp Profile_C620 Tray 34 (Control)_oC': 194.6783070146613, 'Tatoray Stripper C620 Operation_Specifications_Spec 2 : Distillate Rate_m3/hr': 1.0014470236380828}. Best is trial 163 with value: 0.0015271531355121049.\u001b[0m\n",
            "\u001b[32m[I 2021-04-26 08:50:52,543]\u001b[0m Trial 175 finished with value: 0.010241335048915556 and parameters: {'Tatoray Stripper C620 Operation_Column Temp Profile_C620 Tray 14 (Control)_oC': 176.9558195374643, 'Tatoray Stripper C620 Operation_Column Temp Profile_C620 Tray 34 (Control)_oC': 194.67090905306972, 'Tatoray Stripper C620 Operation_Specifications_Spec 2 : Distillate Rate_m3/hr': 0.9916232521770229}. Best is trial 163 with value: 0.0015271531355121049.\u001b[0m\n",
            "\u001b[32m[I 2021-04-26 08:50:52,634]\u001b[0m Trial 176 finished with value: 0.01063987953351786 and parameters: {'Tatoray Stripper C620 Operation_Column Temp Profile_C620 Tray 14 (Control)_oC': 176.90245549222382, 'Tatoray Stripper C620 Operation_Column Temp Profile_C620 Tray 34 (Control)_oC': 194.66918864686326, 'Tatoray Stripper C620 Operation_Specifications_Spec 2 : Distillate Rate_m3/hr': 1.006738136913587}. Best is trial 163 with value: 0.0015271531355121049.\u001b[0m\n",
            "\u001b[32m[I 2021-04-26 08:50:52,718]\u001b[0m Trial 177 finished with value: 0.0068413868373153885 and parameters: {'Tatoray Stripper C620 Operation_Column Temp Profile_C620 Tray 14 (Control)_oC': 176.94392594828562, 'Tatoray Stripper C620 Operation_Column Temp Profile_C620 Tray 34 (Control)_oC': 194.67766691689175, 'Tatoray Stripper C620 Operation_Specifications_Spec 2 : Distillate Rate_m3/hr': 1.0052028498367276}. Best is trial 163 with value: 0.0015271531355121049.\u001b[0m\n",
            "\u001b[32m[I 2021-04-26 08:50:52,804]\u001b[0m Trial 178 finished with value: 0.004321610489568806 and parameters: {'Tatoray Stripper C620 Operation_Column Temp Profile_C620 Tray 14 (Control)_oC': 176.91530831137587, 'Tatoray Stripper C620 Operation_Column Temp Profile_C620 Tray 34 (Control)_oC': 194.6725613518884, 'Tatoray Stripper C620 Operation_Specifications_Spec 2 : Distillate Rate_m3/hr': 0.9974716579152986}. Best is trial 163 with value: 0.0015271531355121049.\u001b[0m\n",
            "\u001b[32m[I 2021-04-26 08:50:52,894]\u001b[0m Trial 179 finished with value: 0.006581560934491026 and parameters: {'Tatoray Stripper C620 Operation_Column Temp Profile_C620 Tray 14 (Control)_oC': 176.9412292345993, 'Tatoray Stripper C620 Operation_Column Temp Profile_C620 Tray 34 (Control)_oC': 194.6695752527382, 'Tatoray Stripper C620 Operation_Specifications_Spec 2 : Distillate Rate_m3/hr': 0.996312789688703}. Best is trial 163 with value: 0.0015271531355121049.\u001b[0m\n",
            "\u001b[32m[I 2021-04-26 08:50:52,977]\u001b[0m Trial 180 finished with value: 0.0032617107805411605 and parameters: {'Tatoray Stripper C620 Operation_Column Temp Profile_C620 Tray 14 (Control)_oC': 176.8943124966009, 'Tatoray Stripper C620 Operation_Column Temp Profile_C620 Tray 34 (Control)_oC': 194.67927587368723, 'Tatoray Stripper C620 Operation_Specifications_Spec 2 : Distillate Rate_m3/hr': 0.9981498292621406}. Best is trial 163 with value: 0.0015271531355121049.\u001b[0m\n",
            "\u001b[32m[I 2021-04-26 08:50:53,051]\u001b[0m Trial 181 finished with value: 0.002963762528386371 and parameters: {'Tatoray Stripper C620 Operation_Column Temp Profile_C620 Tray 14 (Control)_oC': 176.9343431473401, 'Tatoray Stripper C620 Operation_Column Temp Profile_C620 Tray 34 (Control)_oC': 194.6725288240311, 'Tatoray Stripper C620 Operation_Specifications_Spec 2 : Distillate Rate_m3/hr': 0.9984370155602084}. Best is trial 163 with value: 0.0015271531355121049.\u001b[0m\n",
            "\u001b[32m[I 2021-04-26 08:50:53,125]\u001b[0m Trial 182 finished with value: 0.003692275073178708 and parameters: {'Tatoray Stripper C620 Operation_Column Temp Profile_C620 Tray 14 (Control)_oC': 176.92539389670577, 'Tatoray Stripper C620 Operation_Column Temp Profile_C620 Tray 34 (Control)_oC': 194.66946209537682, 'Tatoray Stripper C620 Operation_Specifications_Spec 2 : Distillate Rate_m3/hr': 1.0004170910269903}. Best is trial 163 with value: 0.0015271531355121049.\u001b[0m\n",
            "\u001b[32m[I 2021-04-26 08:50:53,213]\u001b[0m Trial 183 finished with value: 0.0015982888094774328 and parameters: {'Tatoray Stripper C620 Operation_Column Temp Profile_C620 Tray 14 (Control)_oC': 176.89585779908657, 'Tatoray Stripper C620 Operation_Column Temp Profile_C620 Tray 34 (Control)_oC': 194.67522247032295, 'Tatoray Stripper C620 Operation_Specifications_Spec 2 : Distillate Rate_m3/hr': 1.0008572711171004}. Best is trial 163 with value: 0.0015271531355121049.\u001b[0m\n",
            "\u001b[32m[I 2021-04-26 08:50:53,297]\u001b[0m Trial 184 finished with value: 0.002148879303067064 and parameters: {'Tatoray Stripper C620 Operation_Column Temp Profile_C620 Tray 14 (Control)_oC': 176.92035650975626, 'Tatoray Stripper C620 Operation_Column Temp Profile_C620 Tray 34 (Control)_oC': 194.6742952712568, 'Tatoray Stripper C620 Operation_Specifications_Spec 2 : Distillate Rate_m3/hr': 1.0014365764621431}. Best is trial 163 with value: 0.0015271531355121049.\u001b[0m\n",
            "\u001b[32m[I 2021-04-26 08:50:53,378]\u001b[0m Trial 185 finished with value: 0.004926237293145674 and parameters: {'Tatoray Stripper C620 Operation_Column Temp Profile_C620 Tray 14 (Control)_oC': 176.94175854036837, 'Tatoray Stripper C620 Operation_Column Temp Profile_C620 Tray 34 (Control)_oC': 194.67272148823125, 'Tatoray Stripper C620 Operation_Specifications_Spec 2 : Distillate Rate_m3/hr': 0.9962168155785657}. Best is trial 163 with value: 0.0015271531355121049.\u001b[0m\n",
            "\u001b[32m[I 2021-04-26 08:50:53,455]\u001b[0m Trial 186 finished with value: 0.002115625761313633 and parameters: {'Tatoray Stripper C620 Operation_Column Temp Profile_C620 Tray 14 (Control)_oC': 176.92000215003642, 'Tatoray Stripper C620 Operation_Column Temp Profile_C620 Tray 34 (Control)_oC': 194.6720941936986, 'Tatoray Stripper C620 Operation_Specifications_Spec 2 : Distillate Rate_m3/hr': 0.9998238715726792}. Best is trial 163 with value: 0.0015271531355121049.\u001b[0m\n",
            "\u001b[32m[I 2021-04-26 08:50:53,538]\u001b[0m Trial 187 finished with value: 0.0017466430378528797 and parameters: {'Tatoray Stripper C620 Operation_Column Temp Profile_C620 Tray 14 (Control)_oC': 176.92281832011471, 'Tatoray Stripper C620 Operation_Column Temp Profile_C620 Tray 34 (Control)_oC': 194.6734665952378, 'Tatoray Stripper C620 Operation_Specifications_Spec 2 : Distillate Rate_m3/hr': 0.9993790644277515}. Best is trial 163 with value: 0.0015271531355121049.\u001b[0m\n",
            "\u001b[32m[I 2021-04-26 08:50:53,625]\u001b[0m Trial 188 finished with value: 0.000681539362570982 and parameters: {'Tatoray Stripper C620 Operation_Column Temp Profile_C620 Tray 14 (Control)_oC': 176.94685911229814, 'Tatoray Stripper C620 Operation_Column Temp Profile_C620 Tray 34 (Control)_oC': 194.67397003583372, 'Tatoray Stripper C620 Operation_Specifications_Spec 2 : Distillate Rate_m3/hr': 1.0003479336165635}. Best is trial 188 with value: 0.000681539362570982.\u001b[0m\n",
            "\u001b[32m[I 2021-04-26 08:50:53,711]\u001b[0m Trial 189 finished with value: 0.0027654450367540218 and parameters: {'Tatoray Stripper C620 Operation_Column Temp Profile_C620 Tray 14 (Control)_oC': 176.92670536643405, 'Tatoray Stripper C620 Operation_Column Temp Profile_C620 Tray 34 (Control)_oC': 194.67761387499255, 'Tatoray Stripper C620 Operation_Specifications_Spec 2 : Distillate Rate_m3/hr': 0.9984444788318607}. Best is trial 188 with value: 0.000681539362570982.\u001b[0m\n",
            "\u001b[32m[I 2021-04-26 08:50:53,799]\u001b[0m Trial 190 finished with value: 0.0074677984953015475 and parameters: {'Tatoray Stripper C620 Operation_Column Temp Profile_C620 Tray 14 (Control)_oC': 176.91482629442513, 'Tatoray Stripper C620 Operation_Column Temp Profile_C620 Tray 34 (Control)_oC': 194.67623598750748, 'Tatoray Stripper C620 Operation_Specifications_Spec 2 : Distillate Rate_m3/hr': 1.0072137551030838}. Best is trial 188 with value: 0.000681539362570982.\u001b[0m\n",
            "\u001b[32m[I 2021-04-26 08:50:53,891]\u001b[0m Trial 191 finished with value: 0.0023637947713006646 and parameters: {'Tatoray Stripper C620 Operation_Column Temp Profile_C620 Tray 14 (Control)_oC': 176.93713868225834, 'Tatoray Stripper C620 Operation_Column Temp Profile_C620 Tray 34 (Control)_oC': 194.67108601894986, 'Tatoray Stripper C620 Operation_Specifications_Spec 2 : Distillate Rate_m3/hr': 1.000239338759331}. Best is trial 188 with value: 0.000681539362570982.\u001b[0m\n",
            "\u001b[32m[I 2021-04-26 08:50:53,977]\u001b[0m Trial 192 finished with value: 0.003123994733007951 and parameters: {'Tatoray Stripper C620 Operation_Column Temp Profile_C620 Tray 14 (Control)_oC': 176.90241114771916, 'Tatoray Stripper C620 Operation_Column Temp Profile_C620 Tray 34 (Control)_oC': 194.67486280103938, 'Tatoray Stripper C620 Operation_Specifications_Spec 2 : Distillate Rate_m3/hr': 1.0023372247827838}. Best is trial 188 with value: 0.000681539362570982.\u001b[0m\n",
            "\u001b[32m[I 2021-04-26 08:50:54,059]\u001b[0m Trial 193 finished with value: 0.0033537481038454775 and parameters: {'Tatoray Stripper C620 Operation_Column Temp Profile_C620 Tray 14 (Control)_oC': 176.93801235452534, 'Tatoray Stripper C620 Operation_Column Temp Profile_C620 Tray 34 (Control)_oC': 194.67566813568845, 'Tatoray Stripper C620 Operation_Specifications_Spec 2 : Distillate Rate_m3/hr': 1.0029322718494147}. Best is trial 188 with value: 0.000681539362570982.\u001b[0m\n",
            "\u001b[32m[I 2021-04-26 08:50:54,142]\u001b[0m Trial 194 finished with value: 0.0018128043850502706 and parameters: {'Tatoray Stripper C620 Operation_Column Temp Profile_C620 Tray 14 (Control)_oC': 176.92848765880154, 'Tatoray Stripper C620 Operation_Column Temp Profile_C620 Tray 34 (Control)_oC': 194.67681730833507, 'Tatoray Stripper C620 Operation_Specifications_Spec 2 : Distillate Rate_m3/hr': 1.0009823702547571}. Best is trial 188 with value: 0.000681539362570982.\u001b[0m\n",
            "\u001b[32m[I 2021-04-26 08:50:54,235]\u001b[0m Trial 195 finished with value: 0.001062019187118013 and parameters: {'Tatoray Stripper C620 Operation_Column Temp Profile_C620 Tray 14 (Control)_oC': 176.932533559551, 'Tatoray Stripper C620 Operation_Column Temp Profile_C620 Tray 34 (Control)_oC': 194.6765257303154, 'Tatoray Stripper C620 Operation_Specifications_Spec 2 : Distillate Rate_m3/hr': 1.0003084604302768}. Best is trial 188 with value: 0.000681539362570982.\u001b[0m\n",
            "\u001b[32m[I 2021-04-26 08:50:54,325]\u001b[0m Trial 196 finished with value: 0.0022731599412100234 and parameters: {'Tatoray Stripper C620 Operation_Column Temp Profile_C620 Tray 14 (Control)_oC': 176.93916901972122, 'Tatoray Stripper C620 Operation_Column Temp Profile_C620 Tray 34 (Control)_oC': 194.67134104642366, 'Tatoray Stripper C620 Operation_Specifications_Spec 2 : Distillate Rate_m3/hr': 0.9996705885232597}. Best is trial 188 with value: 0.000681539362570982.\u001b[0m\n",
            "\u001b[32m[I 2021-04-26 08:50:54,415]\u001b[0m Trial 197 finished with value: 0.0014554157705140014 and parameters: {'Tatoray Stripper C620 Operation_Column Temp Profile_C620 Tray 14 (Control)_oC': 176.92476717511582, 'Tatoray Stripper C620 Operation_Column Temp Profile_C620 Tray 34 (Control)_oC': 194.677147011376, 'Tatoray Stripper C620 Operation_Specifications_Spec 2 : Distillate Rate_m3/hr': 1.0005295881495817}. Best is trial 188 with value: 0.000681539362570982.\u001b[0m\n",
            "\u001b[32m[I 2021-04-26 08:50:54,497]\u001b[0m Trial 198 finished with value: 0.0033090631742993537 and parameters: {'Tatoray Stripper C620 Operation_Column Temp Profile_C620 Tray 14 (Control)_oC': 176.936905468943, 'Tatoray Stripper C620 Operation_Column Temp Profile_C620 Tray 34 (Control)_oC': 194.67511405830453, 'Tatoray Stripper C620 Operation_Specifications_Spec 2 : Distillate Rate_m3/hr': 0.9967517007132045}. Best is trial 188 with value: 0.000681539362570982.\u001b[0m\n",
            "\u001b[32m[I 2021-04-26 08:50:54,577]\u001b[0m Trial 199 finished with value: 0.004243487938246693 and parameters: {'Tatoray Stripper C620 Operation_Column Temp Profile_C620 Tray 14 (Control)_oC': 176.93289348510345, 'Tatoray Stripper C620 Operation_Column Temp Profile_C620 Tray 34 (Control)_oC': 194.67990711453376, 'Tatoray Stripper C620 Operation_Specifications_Spec 2 : Distillate Rate_m3/hr': 1.0016502563950451}. Best is trial 188 with value: 0.000681539362570982.\u001b[0m\n",
            "\u001b[32m[I 2021-04-26 08:50:54,656]\u001b[0m Trial 200 finished with value: 0.001612780749844056 and parameters: {'Tatoray Stripper C620 Operation_Column Temp Profile_C620 Tray 14 (Control)_oC': 176.9334363254155, 'Tatoray Stripper C620 Operation_Column Temp Profile_C620 Tray 34 (Control)_oC': 194.67260866063472, 'Tatoray Stripper C620 Operation_Specifications_Spec 2 : Distillate Rate_m3/hr': 1.0002475780379063}. Best is trial 188 with value: 0.000681539362570982.\u001b[0m\n",
            "\u001b[32m[I 2021-04-26 08:50:54,753]\u001b[0m Trial 201 finished with value: 0.004745078047827533 and parameters: {'Tatoray Stripper C620 Operation_Column Temp Profile_C620 Tray 14 (Control)_oC': 176.9189843185113, 'Tatoray Stripper C620 Operation_Column Temp Profile_C620 Tray 34 (Control)_oC': 194.67719802110003, 'Tatoray Stripper C620 Operation_Specifications_Spec 2 : Distillate Rate_m3/hr': 1.003896845683565}. Best is trial 188 with value: 0.000681539362570982.\u001b[0m\n",
            "\u001b[32m[I 2021-04-26 08:50:54,840]\u001b[0m Trial 202 finished with value: 0.0006559103393624088 and parameters: {'Tatoray Stripper C620 Operation_Column Temp Profile_C620 Tray 14 (Control)_oC': 176.93429252694173, 'Tatoray Stripper C620 Operation_Column Temp Profile_C620 Tray 34 (Control)_oC': 194.67531390860907, 'Tatoray Stripper C620 Operation_Specifications_Spec 2 : Distillate Rate_m3/hr': 1.000519865943603}. Best is trial 202 with value: 0.0006559103393624088.\u001b[0m\n",
            "\u001b[32m[I 2021-04-26 08:50:54,917]\u001b[0m Trial 203 finished with value: 0.0025819624657585916 and parameters: {'Tatoray Stripper C620 Operation_Column Temp Profile_C620 Tray 14 (Control)_oC': 176.9254809147521, 'Tatoray Stripper C620 Operation_Column Temp Profile_C620 Tray 34 (Control)_oC': 194.67679819346887, 'Tatoray Stripper C620 Operation_Specifications_Spec 2 : Distillate Rate_m3/hr': 1.0018228415151398}. Best is trial 202 with value: 0.0006559103393624088.\u001b[0m\n",
            "\u001b[32m[I 2021-04-26 08:50:54,992]\u001b[0m Trial 204 finished with value: 0.0014570746228432796 and parameters: {'Tatoray Stripper C620 Operation_Column Temp Profile_C620 Tray 14 (Control)_oC': 176.93437260787027, 'Tatoray Stripper C620 Operation_Column Temp Profile_C620 Tray 34 (Control)_oC': 194.67556562157372, 'Tatoray Stripper C620 Operation_Specifications_Spec 2 : Distillate Rate_m3/hr': 1.0011821546105413}. Best is trial 202 with value: 0.0006559103393624088.\u001b[0m\n",
            "\u001b[32m[I 2021-04-26 08:50:55,073]\u001b[0m Trial 205 finished with value: 0.0008274199550712957 and parameters: {'Tatoray Stripper C620 Operation_Column Temp Profile_C620 Tray 14 (Control)_oC': 176.94276839093322, 'Tatoray Stripper C620 Operation_Column Temp Profile_C620 Tray 34 (Control)_oC': 194.6753031506765, 'Tatoray Stripper C620 Operation_Specifications_Spec 2 : Distillate Rate_m3/hr': 1.000517858084193}. Best is trial 202 with value: 0.0006559103393624088.\u001b[0m\n",
            "\u001b[32m[I 2021-04-26 08:50:55,153]\u001b[0m Trial 206 finished with value: 0.00045737770737430683 and parameters: {'Tatoray Stripper C620 Operation_Column Temp Profile_C620 Tray 14 (Control)_oC': 176.92909276913906, 'Tatoray Stripper C620 Operation_Column Temp Profile_C620 Tray 34 (Control)_oC': 194.67570257491593, 'Tatoray Stripper C620 Operation_Specifications_Spec 2 : Distillate Rate_m3/hr': 0.9997731692443382}. Best is trial 206 with value: 0.00045737770737430683.\u001b[0m\n",
            "\u001b[32m[I 2021-04-26 08:50:55,236]\u001b[0m Trial 207 finished with value: 0.00036845104231519876 and parameters: {'Tatoray Stripper C620 Operation_Column Temp Profile_C620 Tray 14 (Control)_oC': 176.93437047481476, 'Tatoray Stripper C620 Operation_Column Temp Profile_C620 Tray 34 (Control)_oC': 194.6751310865872, 'Tatoray Stripper C620 Operation_Specifications_Spec 2 : Distillate Rate_m3/hr': 0.9996624604484101}. Best is trial 207 with value: 0.00036845104231519876.\u001b[0m\n",
            "\u001b[32m[I 2021-04-26 08:50:55,313]\u001b[0m Trial 208 finished with value: 0.0021153877158825996 and parameters: {'Tatoray Stripper C620 Operation_Column Temp Profile_C620 Tray 14 (Control)_oC': 176.92816456743745, 'Tatoray Stripper C620 Operation_Column Temp Profile_C620 Tray 34 (Control)_oC': 194.67271632881213, 'Tatoray Stripper C620 Operation_Specifications_Spec 2 : Distillate Rate_m3/hr': 1.0006982905865345}. Best is trial 207 with value: 0.00036845104231519876.\u001b[0m\n",
            "\u001b[32m[I 2021-04-26 08:50:55,385]\u001b[0m Trial 209 finished with value: 0.0023988284663472026 and parameters: {'Tatoray Stripper C620 Operation_Column Temp Profile_C620 Tray 14 (Control)_oC': 176.93893684230838, 'Tatoray Stripper C620 Operation_Column Temp Profile_C620 Tray 34 (Control)_oC': 194.6757372260639, 'Tatoray Stripper C620 Operation_Specifications_Spec 2 : Distillate Rate_m3/hr': 1.0019263635011908}. Best is trial 207 with value: 0.00036845104231519876.\u001b[0m\n",
            "\u001b[32m[I 2021-04-26 08:50:55,469]\u001b[0m Trial 210 finished with value: 0.0015588224515352689 and parameters: {'Tatoray Stripper C620 Operation_Column Temp Profile_C620 Tray 14 (Control)_oC': 176.94429530960196, 'Tatoray Stripper C620 Operation_Column Temp Profile_C620 Tray 34 (Control)_oC': 194.6750002093748, 'Tatoray Stripper C620 Operation_Specifications_Spec 2 : Distillate Rate_m3/hr': 1.001379044524178}. Best is trial 207 with value: 0.00036845104231519876.\u001b[0m\n",
            "\u001b[32m[I 2021-04-26 08:50:55,544]\u001b[0m Trial 211 finished with value: 0.0006661466478206091 and parameters: {'Tatoray Stripper C620 Operation_Column Temp Profile_C620 Tray 14 (Control)_oC': 176.9252500939153, 'Tatoray Stripper C620 Operation_Column Temp Profile_C620 Tray 34 (Control)_oC': 194.6752465331907, 'Tatoray Stripper C620 Operation_Specifications_Spec 2 : Distillate Rate_m3/hr': 0.9994367297981441}. Best is trial 207 with value: 0.00036845104231519876.\u001b[0m\n",
            "\u001b[32m[I 2021-04-26 08:50:55,619]\u001b[0m Trial 212 finished with value: 0.0027740370987781038 and parameters: {'Tatoray Stripper C620 Operation_Column Temp Profile_C620 Tray 14 (Control)_oC': 176.9488020969911, 'Tatoray Stripper C620 Operation_Column Temp Profile_C620 Tray 34 (Control)_oC': 194.6756435215853, 'Tatoray Stripper C620 Operation_Specifications_Spec 2 : Distillate Rate_m3/hr': 0.9978316433085259}. Best is trial 207 with value: 0.00036845104231519876.\u001b[0m\n",
            "\u001b[32m[I 2021-04-26 08:50:55,699]\u001b[0m Trial 213 finished with value: 0.0014005709372143516 and parameters: {'Tatoray Stripper C620 Operation_Column Temp Profile_C620 Tray 14 (Control)_oC': 176.93789468718884, 'Tatoray Stripper C620 Operation_Column Temp Profile_C620 Tray 34 (Control)_oC': 194.6749409946067, 'Tatoray Stripper C620 Operation_Specifications_Spec 2 : Distillate Rate_m3/hr': 0.998599787125137}. Best is trial 207 with value: 0.00036845104231519876.\u001b[0m\n",
            "\u001b[32m[I 2021-04-26 08:50:55,782]\u001b[0m Trial 214 finished with value: 0.0012429217814139415 and parameters: {'Tatoray Stripper C620 Operation_Column Temp Profile_C620 Tray 14 (Control)_oC': 176.95405046015748, 'Tatoray Stripper C620 Operation_Column Temp Profile_C620 Tray 34 (Control)_oC': 194.6749623225254, 'Tatoray Stripper C620 Operation_Specifications_Spec 2 : Distillate Rate_m3/hr': 0.9991084970514356}. Best is trial 207 with value: 0.00036845104231519876.\u001b[0m\n",
            "\u001b[32m[I 2021-04-26 08:50:55,873]\u001b[0m Trial 215 finished with value: 0.0021263794483366016 and parameters: {'Tatoray Stripper C620 Operation_Column Temp Profile_C620 Tray 14 (Control)_oC': 176.93158522425463, 'Tatoray Stripper C620 Operation_Column Temp Profile_C620 Tray 34 (Control)_oC': 194.67747719000116, 'Tatoray Stripper C620 Operation_Specifications_Spec 2 : Distillate Rate_m3/hr': 1.0008747221005712}. Best is trial 207 with value: 0.00036845104231519876.\u001b[0m\n",
            "\u001b[32m[I 2021-04-26 08:50:55,952]\u001b[0m Trial 216 finished with value: 0.0010608037680128746 and parameters: {'Tatoray Stripper C620 Operation_Column Temp Profile_C620 Tray 14 (Control)_oC': 176.92839089986387, 'Tatoray Stripper C620 Operation_Column Temp Profile_C620 Tray 34 (Control)_oC': 194.67515594161426, 'Tatoray Stripper C620 Operation_Specifications_Spec 2 : Distillate Rate_m3/hr': 1.0009828071734717}. Best is trial 207 with value: 0.00036845104231519876.\u001b[0m\n",
            "\u001b[32m[I 2021-04-26 08:50:56,039]\u001b[0m Trial 217 finished with value: 0.0023010365453426385 and parameters: {'Tatoray Stripper C620 Operation_Column Temp Profile_C620 Tray 14 (Control)_oC': 176.92735453943178, 'Tatoray Stripper C620 Operation_Column Temp Profile_C620 Tray 34 (Control)_oC': 194.67772132072523, 'Tatoray Stripper C620 Operation_Specifications_Spec 2 : Distillate Rate_m3/hr': 1.0010048735570745}. Best is trial 207 with value: 0.00036845104231519876.\u001b[0m\n",
            "\u001b[32m[I 2021-04-26 08:50:56,134]\u001b[0m Trial 218 finished with value: 0.0007617610309307299 and parameters: {'Tatoray Stripper C620 Operation_Column Temp Profile_C620 Tray 14 (Control)_oC': 176.9311356147779, 'Tatoray Stripper C620 Operation_Column Temp Profile_C620 Tray 34 (Control)_oC': 194.6738765085512, 'Tatoray Stripper C620 Operation_Specifications_Spec 2 : Distillate Rate_m3/hr': 1.0000422704546008}. Best is trial 207 with value: 0.00036845104231519876.\u001b[0m\n",
            "\u001b[32m[I 2021-04-26 08:50:56,225]\u001b[0m Trial 219 finished with value: 0.0007505132773582002 and parameters: {'Tatoray Stripper C620 Operation_Column Temp Profile_C620 Tray 14 (Control)_oC': 176.9385260713093, 'Tatoray Stripper C620 Operation_Column Temp Profile_C620 Tray 34 (Control)_oC': 194.67499415399266, 'Tatoray Stripper C620 Operation_Specifications_Spec 2 : Distillate Rate_m3/hr': 1.0006999762350597}. Best is trial 207 with value: 0.00036845104231519876.\u001b[0m\n",
            "\u001b[32m[I 2021-04-26 08:50:56,313]\u001b[0m Trial 220 finished with value: 0.000990554316695702 and parameters: {'Tatoray Stripper C620 Operation_Column Temp Profile_C620 Tray 14 (Control)_oC': 176.92564803123068, 'Tatoray Stripper C620 Operation_Column Temp Profile_C620 Tray 34 (Control)_oC': 194.67585869884863, 'Tatoray Stripper C620 Operation_Specifications_Spec 2 : Distillate Rate_m3/hr': 1.0007453400042243}. Best is trial 207 with value: 0.00036845104231519876.\u001b[0m\n",
            "\u001b[32m[I 2021-04-26 08:50:56,402]\u001b[0m Trial 221 finished with value: 0.0013700074992407663 and parameters: {'Tatoray Stripper C620 Operation_Column Temp Profile_C620 Tray 14 (Control)_oC': 176.92171926504562, 'Tatoray Stripper C620 Operation_Column Temp Profile_C620 Tray 34 (Control)_oC': 194.67608982165203, 'Tatoray Stripper C620 Operation_Specifications_Spec 2 : Distillate Rate_m3/hr': 0.9989101081691479}. Best is trial 207 with value: 0.00036845104231519876.\u001b[0m\n",
            "\u001b[32m[I 2021-04-26 08:50:56,490]\u001b[0m Trial 222 finished with value: 0.0004964543726150294 and parameters: {'Tatoray Stripper C620 Operation_Column Temp Profile_C620 Tray 14 (Control)_oC': 176.92183852851926, 'Tatoray Stripper C620 Operation_Column Temp Profile_C620 Tray 34 (Control)_oC': 194.6760888998091, 'Tatoray Stripper C620 Operation_Specifications_Spec 2 : Distillate Rate_m3/hr': 0.9997925925735355}. Best is trial 207 with value: 0.00036845104231519876.\u001b[0m\n",
            "\u001b[32m[I 2021-04-26 08:50:56,568]\u001b[0m Trial 223 finished with value: 0.0007981630582175603 and parameters: {'Tatoray Stripper C620 Operation_Column Temp Profile_C620 Tray 14 (Control)_oC': 176.91777792641224, 'Tatoray Stripper C620 Operation_Column Temp Profile_C620 Tray 34 (Control)_oC': 194.67489363739085, 'Tatoray Stripper C620 Operation_Specifications_Spec 2 : Distillate Rate_m3/hr': 0.9996586841335106}. Best is trial 207 with value: 0.00036845104231519876.\u001b[0m\n",
            "\u001b[32m[I 2021-04-26 08:50:56,647]\u001b[0m Trial 224 finished with value: 0.002254706936320905 and parameters: {'Tatoray Stripper C620 Operation_Column Temp Profile_C620 Tray 14 (Control)_oC': 176.9225460483859, 'Tatoray Stripper C620 Operation_Column Temp Profile_C620 Tray 34 (Control)_oC': 194.6734539004525, 'Tatoray Stripper C620 Operation_Specifications_Spec 2 : Distillate Rate_m3/hr': 0.9988856219272922}. Best is trial 207 with value: 0.00036845104231519876.\u001b[0m\n",
            "\u001b[32m[I 2021-04-26 08:50:56,721]\u001b[0m Trial 225 finished with value: 0.0009228828971110659 and parameters: {'Tatoray Stripper C620 Operation_Column Temp Profile_C620 Tray 14 (Control)_oC': 176.92659645479816, 'Tatoray Stripper C620 Operation_Column Temp Profile_C620 Tray 34 (Control)_oC': 194.67669842530717, 'Tatoray Stripper C620 Operation_Specifications_Spec 2 : Distillate Rate_m3/hr': 1.0002005211703668}. Best is trial 207 with value: 0.00036845104231519876.\u001b[0m\n",
            "\u001b[32m[I 2021-04-26 08:50:56,798]\u001b[0m Trial 226 finished with value: 0.0007605772101478836 and parameters: {'Tatoray Stripper C620 Operation_Column Temp Profile_C620 Tray 14 (Control)_oC': 176.9209604821703, 'Tatoray Stripper C620 Operation_Column Temp Profile_C620 Tray 34 (Control)_oC': 194.67664225135604, 'Tatoray Stripper C620 Operation_Specifications_Spec 2 : Distillate Rate_m3/hr': 0.999809340976494}. Best is trial 207 with value: 0.00036845104231519876.\u001b[0m\n",
            "\u001b[32m[I 2021-04-26 08:50:56,889]\u001b[0m Trial 227 finished with value: 0.00024954057739268176 and parameters: {'Tatoray Stripper C620 Operation_Column Temp Profile_C620 Tray 14 (Control)_oC': 176.92843981154797, 'Tatoray Stripper C620 Operation_Column Temp Profile_C620 Tray 34 (Control)_oC': 194.6756135772431, 'Tatoray Stripper C620 Operation_Specifications_Spec 2 : Distillate Rate_m3/hr': 0.9999221234847725}. Best is trial 227 with value: 0.00024954057739268176.\u001b[0m\n",
            "\u001b[32m[I 2021-04-26 08:50:56,971]\u001b[0m Trial 228 finished with value: 0.0007121915406710366 and parameters: {'Tatoray Stripper C620 Operation_Column Temp Profile_C620 Tray 14 (Control)_oC': 176.92749904578613, 'Tatoray Stripper C620 Operation_Column Temp Profile_C620 Tray 34 (Control)_oC': 194.67462636431924, 'Tatoray Stripper C620 Operation_Specifications_Spec 2 : Distillate Rate_m3/hr': 0.9996791029247735}. Best is trial 227 with value: 0.00024954057739268176.\u001b[0m\n",
            "\u001b[32m[I 2021-04-26 08:50:57,049]\u001b[0m Trial 229 finished with value: 0.0017977338062540316 and parameters: {'Tatoray Stripper C620 Operation_Column Temp Profile_C620 Tray 14 (Control)_oC': 176.93408842451427, 'Tatoray Stripper C620 Operation_Column Temp Profile_C620 Tray 34 (Control)_oC': 194.67277090367025, 'Tatoray Stripper C620 Operation_Specifications_Spec 2 : Distillate Rate_m3/hr': 1.0005385083366722}. Best is trial 227 with value: 0.00024954057739268176.\u001b[0m\n",
            "\u001b[32m[I 2021-04-26 08:50:57,128]\u001b[0m Trial 230 finished with value: 0.0003450961391628926 and parameters: {'Tatoray Stripper C620 Operation_Column Temp Profile_C620 Tray 14 (Control)_oC': 176.9280321334166, 'Tatoray Stripper C620 Operation_Column Temp Profile_C620 Tray 34 (Control)_oC': 194.6747190665397, 'Tatoray Stripper C620 Operation_Specifications_Spec 2 : Distillate Rate_m3/hr': 1.000018968507795}. Best is trial 227 with value: 0.00024954057739268176.\u001b[0m\n",
            "\u001b[32m[I 2021-04-26 08:50:57,208]\u001b[0m Trial 231 finished with value: 0.0010387607440418556 and parameters: {'Tatoray Stripper C620 Operation_Column Temp Profile_C620 Tray 14 (Control)_oC': 176.91311146417905, 'Tatoray Stripper C620 Operation_Column Temp Profile_C620 Tray 34 (Control)_oC': 194.67717057974772, 'Tatoray Stripper C620 Operation_Specifications_Spec 2 : Distillate Rate_m3/hr': 1.0003482136108102}. Best is trial 227 with value: 0.00024954057739268176.\u001b[0m\n",
            "\u001b[32m[I 2021-04-26 08:50:57,287]\u001b[0m Trial 232 finished with value: 0.00026315645408192534 and parameters: {'Tatoray Stripper C620 Operation_Column Temp Profile_C620 Tray 14 (Control)_oC': 176.92590737433076, 'Tatoray Stripper C620 Operation_Column Temp Profile_C620 Tray 34 (Control)_oC': 194.6753265789245, 'Tatoray Stripper C620 Operation_Specifications_Spec 2 : Distillate Rate_m3/hr': 0.9997789084615648}. Best is trial 227 with value: 0.00024954057739268176.\u001b[0m\n",
            "\u001b[32m[I 2021-04-26 08:50:57,370]\u001b[0m Trial 233 finished with value: 0.00036306697644217234 and parameters: {'Tatoray Stripper C620 Operation_Column Temp Profile_C620 Tray 14 (Control)_oC': 176.923207635635, 'Tatoray Stripper C620 Operation_Column Temp Profile_C620 Tray 34 (Control)_oC': 194.67528587523665, 'Tatoray Stripper C620 Operation_Specifications_Spec 2 : Distillate Rate_m3/hr': 0.9997597692453778}. Best is trial 227 with value: 0.00024954057739268176.\u001b[0m\n",
            "\u001b[32m[I 2021-04-26 08:50:57,445]\u001b[0m Trial 234 finished with value: 0.00022587181987199223 and parameters: {'Tatoray Stripper C620 Operation_Column Temp Profile_C620 Tray 14 (Control)_oC': 176.9284823135641, 'Tatoray Stripper C620 Operation_Column Temp Profile_C620 Tray 34 (Control)_oC': 194.67522988336367, 'Tatoray Stripper C620 Operation_Specifications_Spec 2 : Distillate Rate_m3/hr': 0.9998127562905024}. Best is trial 234 with value: 0.00022587181987199223.\u001b[0m\n",
            "\u001b[32m[I 2021-04-26 08:50:57,525]\u001b[0m Trial 235 finished with value: 0.0013069883579103214 and parameters: {'Tatoray Stripper C620 Operation_Column Temp Profile_C620 Tray 14 (Control)_oC': 176.93168817587855, 'Tatoray Stripper C620 Operation_Column Temp Profile_C620 Tray 34 (Control)_oC': 194.67408560687073, 'Tatoray Stripper C620 Operation_Specifications_Spec 2 : Distillate Rate_m3/hr': 0.9992893111792117}. Best is trial 234 with value: 0.00022587181987199223.\u001b[0m\n",
            "\u001b[32m[I 2021-04-26 08:50:57,603]\u001b[0m Trial 236 finished with value: 0.0006898570320321706 and parameters: {'Tatoray Stripper C620 Operation_Column Temp Profile_C620 Tray 14 (Control)_oC': 176.92953200696243, 'Tatoray Stripper C620 Operation_Column Temp Profile_C620 Tray 34 (Control)_oC': 194.67544368238617, 'Tatoray Stripper C620 Operation_Specifications_Spec 2 : Distillate Rate_m3/hr': 0.9994077105572183}. Best is trial 234 with value: 0.00022587181987199223.\u001b[0m\n",
            "\u001b[32m[I 2021-04-26 08:50:57,687]\u001b[0m Trial 237 finished with value: 3.932934794415033e-05 and parameters: {'Tatoray Stripper C620 Operation_Column Temp Profile_C620 Tray 14 (Control)_oC': 176.92712018165528, 'Tatoray Stripper C620 Operation_Column Temp Profile_C620 Tray 34 (Control)_oC': 194.6754076005591, 'Tatoray Stripper C620 Operation_Specifications_Spec 2 : Distillate Rate_m3/hr': 1.0000124251363922}. Best is trial 237 with value: 3.932934794415033e-05.\u001b[0m\n",
            "\u001b[32m[I 2021-04-26 08:50:57,767]\u001b[0m Trial 238 finished with value: 0.0005400069955292519 and parameters: {'Tatoray Stripper C620 Operation_Column Temp Profile_C620 Tray 14 (Control)_oC': 176.929808823621, 'Tatoray Stripper C620 Operation_Column Temp Profile_C620 Tray 34 (Control)_oC': 194.67552328105282, 'Tatoray Stripper C620 Operation_Specifications_Spec 2 : Distillate Rate_m3/hr': 1.00038876091481}. Best is trial 237 with value: 3.932934794415033e-05.\u001b[0m\n",
            "\u001b[32m[I 2021-04-26 08:50:57,852]\u001b[0m Trial 239 finished with value: 0.00034073471877449357 and parameters: {'Tatoray Stripper C620 Operation_Column Temp Profile_C620 Tray 14 (Control)_oC': 176.92879411314755, 'Tatoray Stripper C620 Operation_Column Temp Profile_C620 Tray 34 (Control)_oC': 194.67575043005442, 'Tatoray Stripper C620 Operation_Specifications_Spec 2 : Distillate Rate_m3/hr': 1.0000867588684896}. Best is trial 237 with value: 3.932934794415033e-05.\u001b[0m\n",
            "\u001b[32m[I 2021-04-26 08:50:57,940]\u001b[0m Trial 240 finished with value: 0.0003666423870023472 and parameters: {'Tatoray Stripper C620 Operation_Column Temp Profile_C620 Tray 14 (Control)_oC': 176.93253380810884, 'Tatoray Stripper C620 Operation_Column Temp Profile_C620 Tray 34 (Control)_oC': 194.67531671371023, 'Tatoray Stripper C620 Operation_Specifications_Spec 2 : Distillate Rate_m3/hr': 1.000268034796131}. Best is trial 237 with value: 3.932934794415033e-05.\u001b[0m\n",
            "\u001b[32m[I 2021-04-26 08:50:58,023]\u001b[0m Trial 241 finished with value: 0.00027280191061573866 and parameters: {'Tatoray Stripper C620 Operation_Column Temp Profile_C620 Tray 14 (Control)_oC': 176.9288521294755, 'Tatoray Stripper C620 Operation_Column Temp Profile_C620 Tray 34 (Control)_oC': 194.6757648562828, 'Tatoray Stripper C620 Operation_Specifications_Spec 2 : Distillate Rate_m3/hr': 1.00001357690562}. Best is trial 237 with value: 3.932934794415033e-05.\u001b[0m\n",
            "\u001b[32m[I 2021-04-26 08:50:58,118]\u001b[0m Trial 242 finished with value: 0.00020335947992722314 and parameters: {'Tatoray Stripper C620 Operation_Column Temp Profile_C620 Tray 14 (Control)_oC': 176.92611564189605, 'Tatoray Stripper C620 Operation_Column Temp Profile_C620 Tray 34 (Control)_oC': 194.67572148376732, 'Tatoray Stripper C620 Operation_Specifications_Spec 2 : Distillate Rate_m3/hr': 0.9999775667854877}. Best is trial 237 with value: 3.932934794415033e-05.\u001b[0m\n",
            "\u001b[32m[I 2021-04-26 08:50:58,199]\u001b[0m Trial 243 finished with value: 0.0004300846543781045 and parameters: {'Tatoray Stripper C620 Operation_Column Temp Profile_C620 Tray 14 (Control)_oC': 176.92865387819336, 'Tatoray Stripper C620 Operation_Column Temp Profile_C620 Tray 34 (Control)_oC': 194.67517789409354, 'Tatoray Stripper C620 Operation_Specifications_Spec 2 : Distillate Rate_m3/hr': 0.9996318684041559}. Best is trial 237 with value: 3.932934794415033e-05.\u001b[0m\n",
            "\u001b[32m[I 2021-04-26 08:50:58,288]\u001b[0m Trial 244 finished with value: 0.00023628389818886042 and parameters: {'Tatoray Stripper C620 Operation_Column Temp Profile_C620 Tray 14 (Control)_oC': 176.92638688516982, 'Tatoray Stripper C620 Operation_Column Temp Profile_C620 Tray 34 (Control)_oC': 194.67519513219446, 'Tatoray Stripper C620 Operation_Specifications_Spec 2 : Distillate Rate_m3/hr': 1.0001342326398508}. Best is trial 237 with value: 3.932934794415033e-05.\u001b[0m\n",
            "\u001b[32m[I 2021-04-26 08:50:58,371]\u001b[0m Trial 245 finished with value: 0.0006268702738784215 and parameters: {'Tatoray Stripper C620 Operation_Column Temp Profile_C620 Tray 14 (Control)_oC': 176.9257698611017, 'Tatoray Stripper C620 Operation_Column Temp Profile_C620 Tray 34 (Control)_oC': 194.67563094646187, 'Tatoray Stripper C620 Operation_Specifications_Spec 2 : Distillate Rate_m3/hr': 0.9994907636399243}. Best is trial 237 with value: 3.932934794415033e-05.\u001b[0m\n",
            "\u001b[32m[I 2021-04-26 08:50:58,449]\u001b[0m Trial 246 finished with value: 0.0006896775516009868 and parameters: {'Tatoray Stripper C620 Operation_Column Temp Profile_C620 Tray 14 (Control)_oC': 176.92855933132464, 'Tatoray Stripper C620 Operation_Column Temp Profile_C620 Tray 34 (Control)_oC': 194.6748504784389, 'Tatoray Stripper C620 Operation_Specifications_Spec 2 : Distillate Rate_m3/hr': 0.9995523868028231}. Best is trial 237 with value: 3.932934794415033e-05.\u001b[0m\n",
            "\u001b[32m[I 2021-04-26 08:50:58,526]\u001b[0m Trial 247 finished with value: 0.0005106008702344678 and parameters: {'Tatoray Stripper C620 Operation_Column Temp Profile_C620 Tray 14 (Control)_oC': 176.92516154597033, 'Tatoray Stripper C620 Operation_Column Temp Profile_C620 Tray 34 (Control)_oC': 194.67578459765573, 'Tatoray Stripper C620 Operation_Specifications_Spec 2 : Distillate Rate_m3/hr': 1.0003167605478953}. Best is trial 237 with value: 3.932934794415033e-05.\u001b[0m\n",
            "\u001b[32m[I 2021-04-26 08:50:58,616]\u001b[0m Trial 248 finished with value: 0.00021274950986294172 and parameters: {'Tatoray Stripper C620 Operation_Column Temp Profile_C620 Tray 14 (Control)_oC': 176.92965234806846, 'Tatoray Stripper C620 Operation_Column Temp Profile_C620 Tray 34 (Control)_oC': 194.67541769990132, 'Tatoray Stripper C620 Operation_Specifications_Spec 2 : Distillate Rate_m3/hr': 0.999877995621937}. Best is trial 237 with value: 3.932934794415033e-05.\u001b[0m\n",
            "\u001b[32m[I 2021-04-26 08:50:58,694]\u001b[0m Trial 249 finished with value: 0.00026932592391670784 and parameters: {'Tatoray Stripper C620 Operation_Column Temp Profile_C620 Tray 14 (Control)_oC': 176.92576242554912, 'Tatoray Stripper C620 Operation_Column Temp Profile_C620 Tray 34 (Control)_oC': 194.67528009052242, 'Tatoray Stripper C620 Operation_Specifications_Spec 2 : Distillate Rate_m3/hr': 0.9997984689685849}. Best is trial 237 with value: 3.932934794415033e-05.\u001b[0m\n",
            "\u001b[32m[I 2021-04-26 08:50:58,767]\u001b[0m Trial 250 finished with value: 0.0005474405591416875 and parameters: {'Tatoray Stripper C620 Operation_Column Temp Profile_C620 Tray 14 (Control)_oC': 176.9261358614204, 'Tatoray Stripper C620 Operation_Column Temp Profile_C620 Tray 34 (Control)_oC': 194.67593646946105, 'Tatoray Stripper C620 Operation_Specifications_Spec 2 : Distillate Rate_m3/hr': 0.9997449961369722}. Best is trial 237 with value: 3.932934794415033e-05.\u001b[0m\n",
            "\u001b[32m[I 2021-04-26 08:50:58,864]\u001b[0m Trial 251 finished with value: 0.0005448682002142657 and parameters: {'Tatoray Stripper C620 Operation_Column Temp Profile_C620 Tray 14 (Control)_oC': 176.92829488024324, 'Tatoray Stripper C620 Operation_Column Temp Profile_C620 Tray 34 (Control)_oC': 194.67541194418416, 'Tatoray Stripper C620 Operation_Specifications_Spec 2 : Distillate Rate_m3/hr': 0.9995069107424197}. Best is trial 237 with value: 3.932934794415033e-05.\u001b[0m\n",
            "\u001b[32m[I 2021-04-26 08:50:58,946]\u001b[0m Trial 252 finished with value: 0.0005556999706696208 and parameters: {'Tatoray Stripper C620 Operation_Column Temp Profile_C620 Tray 14 (Control)_oC': 176.92277031282018, 'Tatoray Stripper C620 Operation_Column Temp Profile_C620 Tray 34 (Control)_oC': 194.67601589760105, 'Tatoray Stripper C620 Operation_Specifications_Spec 2 : Distillate Rate_m3/hr': 0.9997112500431117}. Best is trial 237 with value: 3.932934794415033e-05.\u001b[0m\n",
            "\u001b[32m[I 2021-04-26 08:50:59,041]\u001b[0m Trial 253 finished with value: 0.0001307025744926582 and parameters: {'Tatoray Stripper C620 Operation_Column Temp Profile_C620 Tray 14 (Control)_oC': 176.92662368284817, 'Tatoray Stripper C620 Operation_Column Temp Profile_C620 Tray 34 (Control)_oC': 194.67547480216228, 'Tatoray Stripper C620 Operation_Specifications_Spec 2 : Distillate Rate_m3/hr': 0.9999257631580344}. Best is trial 237 with value: 3.932934794415033e-05.\u001b[0m\n",
            "\u001b[32m[I 2021-04-26 08:50:59,126]\u001b[0m Trial 254 finished with value: 0.00013581299914044997 and parameters: {'Tatoray Stripper C620 Operation_Column Temp Profile_C620 Tray 14 (Control)_oC': 176.92329972281527, 'Tatoray Stripper C620 Operation_Column Temp Profile_C620 Tray 34 (Control)_oC': 194.67529751430305, 'Tatoray Stripper C620 Operation_Specifications_Spec 2 : Distillate Rate_m3/hr': 1.000021984325308}. Best is trial 237 with value: 3.932934794415033e-05.\u001b[0m\n",
            "\u001b[32m[I 2021-04-26 08:50:59,215]\u001b[0m Trial 255 finished with value: 0.00015238840051046143 and parameters: {'Tatoray Stripper C620 Operation_Column Temp Profile_C620 Tray 14 (Control)_oC': 176.9263300726226, 'Tatoray Stripper C620 Operation_Column Temp Profile_C620 Tray 34 (Control)_oC': 194.67561950058877, 'Tatoray Stripper C620 Operation_Specifications_Spec 2 : Distillate Rate_m3/hr': 0.9999748994809442}. Best is trial 237 with value: 3.932934794415033e-05.\u001b[0m\n",
            "\u001b[32m[I 2021-04-26 08:50:59,308]\u001b[0m Trial 256 finished with value: 8.345713355684126e-05 and parameters: {'Tatoray Stripper C620 Operation_Column Temp Profile_C620 Tray 14 (Control)_oC': 176.9254967987605, 'Tatoray Stripper C620 Operation_Column Temp Profile_C620 Tray 34 (Control)_oC': 194.67549863747595, 'Tatoray Stripper C620 Operation_Specifications_Spec 2 : Distillate Rate_m3/hr': 0.9999639321684688}. Best is trial 237 with value: 3.932934794415033e-05.\u001b[0m\n",
            "\u001b[32m[I 2021-04-26 08:50:59,392]\u001b[0m Trial 257 finished with value: 0.0001304582013559319 and parameters: {'Tatoray Stripper C620 Operation_Column Temp Profile_C620 Tray 14 (Control)_oC': 176.92994694948987, 'Tatoray Stripper C620 Operation_Column Temp Profile_C620 Tray 34 (Control)_oC': 194.67506167598575, 'Tatoray Stripper C620 Operation_Specifications_Spec 2 : Distillate Rate_m3/hr': 1.0000312891188528}. Best is trial 237 with value: 3.932934794415033e-05.\u001b[0m\n",
            "\u001b[32m[I 2021-04-26 08:50:59,482]\u001b[0m Trial 258 finished with value: 9.56020945585001e-05 and parameters: {'Tatoray Stripper C620 Operation_Column Temp Profile_C620 Tray 14 (Control)_oC': 176.92759663302442, 'Tatoray Stripper C620 Operation_Column Temp Profile_C620 Tray 34 (Control)_oC': 194.6752227499388, 'Tatoray Stripper C620 Operation_Specifications_Spec 2 : Distillate Rate_m3/hr': 0.9999639759322202}. Best is trial 237 with value: 3.932934794415033e-05.\u001b[0m\n",
            "\u001b[32m[I 2021-04-26 08:50:59,574]\u001b[0m Trial 259 finished with value: 0.0007932788843195704 and parameters: {'Tatoray Stripper C620 Operation_Column Temp Profile_C620 Tray 14 (Control)_oC': 176.93086958073448, 'Tatoray Stripper C620 Operation_Column Temp Profile_C620 Tray 34 (Control)_oC': 194.67496356941157, 'Tatoray Stripper C620 Operation_Specifications_Spec 2 : Distillate Rate_m3/hr': 0.9993440968486421}. Best is trial 237 with value: 3.932934794415033e-05.\u001b[0m\n",
            "\u001b[32m[I 2021-04-26 08:50:59,658]\u001b[0m Trial 260 finished with value: 0.00022534315480227107 and parameters: {'Tatoray Stripper C620 Operation_Column Temp Profile_C620 Tray 14 (Control)_oC': 176.9282183720059, 'Tatoray Stripper C620 Operation_Column Temp Profile_C620 Tray 34 (Control)_oC': 194.6751437912282, 'Tatoray Stripper C620 Operation_Specifications_Spec 2 : Distillate Rate_m3/hr': 0.9998639603523363}. Best is trial 237 with value: 3.932934794415033e-05.\u001b[0m\n",
            "\u001b[32m[I 2021-04-26 08:50:59,731]\u001b[0m Trial 261 finished with value: 6.347820163910001e-05 and parameters: {'Tatoray Stripper C620 Operation_Column Temp Profile_C620 Tray 14 (Control)_oC': 176.92706828474175, 'Tatoray Stripper C620 Operation_Column Temp Profile_C620 Tray 34 (Control)_oC': 194.67534905093007, 'Tatoray Stripper C620 Operation_Specifications_Spec 2 : Distillate Rate_m3/hr': 1.000060002592022}. Best is trial 237 with value: 3.932934794415033e-05.\u001b[0m\n",
            "\u001b[32m[I 2021-04-26 08:50:59,806]\u001b[0m Trial 262 finished with value: 0.00018882562592192897 and parameters: {'Tatoray Stripper C620 Operation_Column Temp Profile_C620 Tray 14 (Control)_oC': 176.9295014454901, 'Tatoray Stripper C620 Operation_Column Temp Profile_C620 Tray 34 (Control)_oC': 194.67538341860302, 'Tatoray Stripper C620 Operation_Specifications_Spec 2 : Distillate Rate_m3/hr': 1.0001223118614417}. Best is trial 237 with value: 3.932934794415033e-05.\u001b[0m\n",
            "\u001b[32m[I 2021-04-26 08:50:59,890]\u001b[0m Trial 263 finished with value: 0.0004579156151145458 and parameters: {'Tatoray Stripper C620 Operation_Column Temp Profile_C620 Tray 14 (Control)_oC': 176.92615805405367, 'Tatoray Stripper C620 Operation_Column Temp Profile_C620 Tray 34 (Control)_oC': 194.6748994713013, 'Tatoray Stripper C620 Operation_Specifications_Spec 2 : Distillate Rate_m3/hr': 1.0001884475904597}. Best is trial 237 with value: 3.932934794415033e-05.\u001b[0m\n",
            "\u001b[32m[I 2021-04-26 08:50:59,980]\u001b[0m Trial 264 finished with value: 0.00013464241350513717 and parameters: {'Tatoray Stripper C620 Operation_Column Temp Profile_C620 Tray 14 (Control)_oC': 176.9254639399777, 'Tatoray Stripper C620 Operation_Column Temp Profile_C620 Tray 34 (Control)_oC': 194.67546207442552, 'Tatoray Stripper C620 Operation_Specifications_Spec 2 : Distillate Rate_m3/hr': 1.0001098412520606}. Best is trial 237 with value: 3.932934794415033e-05.\u001b[0m\n",
            "\u001b[32m[I 2021-04-26 08:51:00,063]\u001b[0m Trial 265 finished with value: 0.00020464929261376774 and parameters: {'Tatoray Stripper C620 Operation_Column Temp Profile_C620 Tray 14 (Control)_oC': 176.9286530591638, 'Tatoray Stripper C620 Operation_Column Temp Profile_C620 Tray 34 (Control)_oC': 194.67554400023272, 'Tatoray Stripper C620 Operation_Specifications_Spec 2 : Distillate Rate_m3/hr': 1.00007122024529}. Best is trial 237 with value: 3.932934794415033e-05.\u001b[0m\n",
            "\u001b[32m[I 2021-04-26 08:51:00,140]\u001b[0m Trial 266 finished with value: 0.00019353176645320325 and parameters: {'Tatoray Stripper C620 Operation_Column Temp Profile_C620 Tray 14 (Control)_oC': 176.92773966021645, 'Tatoray Stripper C620 Operation_Column Temp Profile_C620 Tray 34 (Control)_oC': 194.67517402647672, 'Tatoray Stripper C620 Operation_Specifications_Spec 2 : Distillate Rate_m3/hr': 0.9998936987920388}. Best is trial 237 with value: 3.932934794415033e-05.\u001b[0m\n",
            "\u001b[32m[I 2021-04-26 08:51:00,218]\u001b[0m Trial 267 finished with value: 0.00028846555550543496 and parameters: {'Tatoray Stripper C620 Operation_Column Temp Profile_C620 Tray 14 (Control)_oC': 176.92718384530423, 'Tatoray Stripper C620 Operation_Column Temp Profile_C620 Tray 34 (Control)_oC': 194.674946582113, 'Tatoray Stripper C620 Operation_Specifications_Spec 2 : Distillate Rate_m3/hr': 0.9999331438837028}. Best is trial 237 with value: 3.932934794415033e-05.\u001b[0m\n",
            "\u001b[32m[I 2021-04-26 08:51:00,314]\u001b[0m Trial 268 finished with value: 0.00033874236378172995 and parameters: {'Tatoray Stripper C620 Operation_Column Temp Profile_C620 Tray 14 (Control)_oC': 176.92982341724198, 'Tatoray Stripper C620 Operation_Column Temp Profile_C620 Tray 34 (Control)_oC': 194.67554963828314, 'Tatoray Stripper C620 Operation_Specifications_Spec 2 : Distillate Rate_m3/hr': 1.0001714329992253}. Best is trial 237 with value: 3.932934794415033e-05.\u001b[0m\n",
            "\u001b[32m[I 2021-04-26 08:51:00,508]\u001b[0m Trial 269 finished with value: 0.00017584531405701043 and parameters: {'Tatoray Stripper C620 Operation_Column Temp Profile_C620 Tray 14 (Control)_oC': 176.92885768514768, 'Tatoray Stripper C620 Operation_Column Temp Profile_C620 Tray 34 (Control)_oC': 194.6752971198912, 'Tatoray Stripper C620 Operation_Specifications_Spec 2 : Distillate Rate_m3/hr': 1.0001656161233217}. Best is trial 237 with value: 3.932934794415033e-05.\u001b[0m\n",
            "\u001b[32m[I 2021-04-26 08:51:00,582]\u001b[0m Trial 270 finished with value: 0.00045272280546626575 and parameters: {'Tatoray Stripper C620 Operation_Column Temp Profile_C620 Tray 14 (Control)_oC': 176.92377483488957, 'Tatoray Stripper C620 Operation_Column Temp Profile_C620 Tray 34 (Control)_oC': 194.6752415466104, 'Tatoray Stripper C620 Operation_Specifications_Spec 2 : Distillate Rate_m3/hr': 1.0003229098620672}. Best is trial 237 with value: 3.932934794415033e-05.\u001b[0m\n",
            "\u001b[32m[I 2021-04-26 08:51:00,658]\u001b[0m Trial 271 finished with value: 0.0002244703039233631 and parameters: {'Tatoray Stripper C620 Operation_Column Temp Profile_C620 Tray 14 (Control)_oC': 176.92823083864664, 'Tatoray Stripper C620 Operation_Column Temp Profile_C620 Tray 34 (Control)_oC': 194.67525805836843, 'Tatoray Stripper C620 Operation_Specifications_Spec 2 : Distillate Rate_m3/hr': 1.0001953878039453}. Best is trial 237 with value: 3.932934794415033e-05.\u001b[0m\n",
            "\u001b[32m[I 2021-04-26 08:51:00,731]\u001b[0m Trial 272 finished with value: 0.00016458790705287107 and parameters: {'Tatoray Stripper C620 Operation_Column Temp Profile_C620 Tray 14 (Control)_oC': 176.92686327988153, 'Tatoray Stripper C620 Operation_Column Temp Profile_C620 Tray 34 (Control)_oC': 194.67523331507036, 'Tatoray Stripper C620 Operation_Specifications_Spec 2 : Distillate Rate_m3/hr': 1.000095553282977}. Best is trial 237 with value: 3.932934794415033e-05.\u001b[0m\n",
            "\u001b[32m[I 2021-04-26 08:51:00,809]\u001b[0m Trial 273 finished with value: 0.00036003584097454855 and parameters: {'Tatoray Stripper C620 Operation_Column Temp Profile_C620 Tray 14 (Control)_oC': 176.92723474115098, 'Tatoray Stripper C620 Operation_Column Temp Profile_C620 Tray 34 (Control)_oC': 194.67561690151493, 'Tatoray Stripper C620 Operation_Specifications_Spec 2 : Distillate Rate_m3/hr': 1.0002117102065615}. Best is trial 237 with value: 3.932934794415033e-05.\u001b[0m\n",
            "\u001b[32m[I 2021-04-26 08:51:00,896]\u001b[0m Trial 274 finished with value: 0.000120981316771962 and parameters: {'Tatoray Stripper C620 Operation_Column Temp Profile_C620 Tray 14 (Control)_oC': 176.9249768929024, 'Tatoray Stripper C620 Operation_Column Temp Profile_C620 Tray 34 (Control)_oC': 194.6753571039332, 'Tatoray Stripper C620 Operation_Specifications_Spec 2 : Distillate Rate_m3/hr': 1.0000755937500287}. Best is trial 237 with value: 3.932934794415033e-05.\u001b[0m\n",
            "\u001b[32m[I 2021-04-26 08:51:00,977]\u001b[0m Trial 275 finished with value: 0.00013148296254295033 and parameters: {'Tatoray Stripper C620 Operation_Column Temp Profile_C620 Tray 14 (Control)_oC': 176.9250142754448, 'Tatoray Stripper C620 Operation_Column Temp Profile_C620 Tray 34 (Control)_oC': 194.67527759030696, 'Tatoray Stripper C620 Operation_Specifications_Spec 2 : Distillate Rate_m3/hr': 1.0000447735039857}. Best is trial 237 with value: 3.932934794415033e-05.\u001b[0m\n",
            "\u001b[32m[I 2021-04-26 08:51:01,053]\u001b[0m Trial 276 finished with value: 0.0001449320344060201 and parameters: {'Tatoray Stripper C620 Operation_Column Temp Profile_C620 Tray 14 (Control)_oC': 176.92673297428516, 'Tatoray Stripper C620 Operation_Column Temp Profile_C620 Tray 34 (Control)_oC': 194.67519700570648, 'Tatoray Stripper C620 Operation_Specifications_Spec 2 : Distillate Rate_m3/hr': 1.0000525754091607}. Best is trial 237 with value: 3.932934794415033e-05.\u001b[0m\n",
            "\u001b[32m[I 2021-04-26 08:51:01,134]\u001b[0m Trial 277 finished with value: 0.0001541606440693677 and parameters: {'Tatoray Stripper C620 Operation_Column Temp Profile_C620 Tray 14 (Control)_oC': 176.92734617979247, 'Tatoray Stripper C620 Operation_Column Temp Profile_C620 Tray 34 (Control)_oC': 194.675205554352, 'Tatoray Stripper C620 Operation_Specifications_Spec 2 : Distillate Rate_m3/hr': 1.0000798174386714}. Best is trial 237 with value: 3.932934794415033e-05.\u001b[0m\n",
            "\u001b[32m[I 2021-04-26 08:51:01,214]\u001b[0m Trial 278 finished with value: 0.00017438814316594886 and parameters: {'Tatoray Stripper C620 Operation_Column Temp Profile_C620 Tray 14 (Control)_oC': 176.9277639213638, 'Tatoray Stripper C620 Operation_Column Temp Profile_C620 Tray 34 (Control)_oC': 194.67529155107383, 'Tatoray Stripper C620 Operation_Specifications_Spec 2 : Distillate Rate_m3/hr': 1.0001587084035757}. Best is trial 237 with value: 3.932934794415033e-05.\u001b[0m\n",
            "\u001b[32m[I 2021-04-26 08:51:01,302]\u001b[0m Trial 279 finished with value: 0.0003435479347668746 and parameters: {'Tatoray Stripper C620 Operation_Column Temp Profile_C620 Tray 14 (Control)_oC': 176.92905120202556, 'Tatoray Stripper C620 Operation_Column Temp Profile_C620 Tray 34 (Control)_oC': 194.67538510828305, 'Tatoray Stripper C620 Operation_Specifications_Spec 2 : Distillate Rate_m3/hr': 1.0002820098965284}. Best is trial 237 with value: 3.932934794415033e-05.\u001b[0m\n",
            "\u001b[32m[I 2021-04-26 08:51:01,379]\u001b[0m Trial 280 finished with value: 0.00011047412639775267 and parameters: {'Tatoray Stripper C620 Operation_Column Temp Profile_C620 Tray 14 (Control)_oC': 176.92797836194342, 'Tatoray Stripper C620 Operation_Column Temp Profile_C620 Tray 34 (Control)_oC': 194.67517139824645, 'Tatoray Stripper C620 Operation_Specifications_Spec 2 : Distillate Rate_m3/hr': 1.0000277722593827}. Best is trial 237 with value: 3.932934794415033e-05.\u001b[0m\n",
            "\u001b[32m[I 2021-04-26 08:51:01,472]\u001b[0m Trial 281 finished with value: 0.0003017389580114438 and parameters: {'Tatoray Stripper C620 Operation_Column Temp Profile_C620 Tray 14 (Control)_oC': 176.92604559972307, 'Tatoray Stripper C620 Operation_Column Temp Profile_C620 Tray 34 (Control)_oC': 194.67506370864754, 'Tatoray Stripper C620 Operation_Specifications_Spec 2 : Distillate Rate_m3/hr': 0.9998814299098094}. Best is trial 237 with value: 3.932934794415033e-05.\u001b[0m\n",
            "\u001b[32m[I 2021-04-26 08:51:01,549]\u001b[0m Trial 282 finished with value: 0.00018941082964418765 and parameters: {'Tatoray Stripper C620 Operation_Column Temp Profile_C620 Tray 14 (Control)_oC': 176.92664712767558, 'Tatoray Stripper C620 Operation_Column Temp Profile_C620 Tray 34 (Control)_oC': 194.675322137683, 'Tatoray Stripper C620 Operation_Specifications_Spec 2 : Distillate Rate_m3/hr': 0.9998389742761772}. Best is trial 237 with value: 3.932934794415033e-05.\u001b[0m\n",
            "\u001b[32m[I 2021-04-26 08:51:01,644]\u001b[0m Trial 283 finished with value: 0.00010433837117596045 and parameters: {'Tatoray Stripper C620 Operation_Column Temp Profile_C620 Tray 14 (Control)_oC': 176.9270702578767, 'Tatoray Stripper C620 Operation_Column Temp Profile_C620 Tray 34 (Control)_oC': 194.67540665322753, 'Tatoray Stripper C620 Operation_Specifications_Spec 2 : Distillate Rate_m3/hr': 0.9999196885890428}. Best is trial 237 with value: 3.932934794415033e-05.\u001b[0m\n",
            "\u001b[32m[I 2021-04-26 08:51:01,728]\u001b[0m Trial 284 finished with value: 0.0004560236464996592 and parameters: {'Tatoray Stripper C620 Operation_Column Temp Profile_C620 Tray 14 (Control)_oC': 176.92489475370652, 'Tatoray Stripper C620 Operation_Column Temp Profile_C620 Tray 34 (Control)_oC': 194.6753072454574, 'Tatoray Stripper C620 Operation_Specifications_Spec 2 : Distillate Rate_m3/hr': 1.0003856338753465}. Best is trial 237 with value: 3.932934794415033e-05.\u001b[0m\n",
            "\u001b[32m[I 2021-04-26 08:51:01,810]\u001b[0m Trial 285 finished with value: 0.00022600703919550824 and parameters: {'Tatoray Stripper C620 Operation_Column Temp Profile_C620 Tray 14 (Control)_oC': 176.92855350211866, 'Tatoray Stripper C620 Operation_Column Temp Profile_C620 Tray 34 (Control)_oC': 194.67563126746552, 'Tatoray Stripper C620 Operation_Specifications_Spec 2 : Distillate Rate_m3/hr': 1.0000422552570072}. Best is trial 237 with value: 3.932934794415033e-05.\u001b[0m\n",
            "\u001b[32m[I 2021-04-26 08:51:01,899]\u001b[0m Trial 286 finished with value: 0.00013945932765180302 and parameters: {'Tatoray Stripper C620 Operation_Column Temp Profile_C620 Tray 14 (Control)_oC': 176.92364756411243, 'Tatoray Stripper C620 Operation_Column Temp Profile_C620 Tray 34 (Control)_oC': 194.6753819271183, 'Tatoray Stripper C620 Operation_Specifications_Spec 2 : Distillate Rate_m3/hr': 1.000082096708336}. Best is trial 237 with value: 3.932934794415033e-05.\u001b[0m\n",
            "\u001b[32m[I 2021-04-26 08:51:01,986]\u001b[0m Trial 287 finished with value: 0.00019431662706614894 and parameters: {'Tatoray Stripper C620 Operation_Column Temp Profile_C620 Tray 14 (Control)_oC': 176.93015187225222, 'Tatoray Stripper C620 Operation_Column Temp Profile_C620 Tray 34 (Control)_oC': 194.67495999252196, 'Tatoray Stripper C620 Operation_Specifications_Spec 2 : Distillate Rate_m3/hr': 1.000044613939458}. Best is trial 237 with value: 3.932934794415033e-05.\u001b[0m\n",
            "\u001b[32m[I 2021-04-26 08:51:02,069]\u001b[0m Trial 288 finished with value: 8.216102271374481e-05 and parameters: {'Tatoray Stripper C620 Operation_Column Temp Profile_C620 Tray 14 (Control)_oC': 176.92533579021887, 'Tatoray Stripper C620 Operation_Column Temp Profile_C620 Tray 34 (Control)_oC': 194.6754565477682, 'Tatoray Stripper C620 Operation_Specifications_Spec 2 : Distillate Rate_m3/hr': 0.9999379910275263}. Best is trial 237 with value: 3.932934794415033e-05.\u001b[0m\n",
            "\u001b[32m[I 2021-04-26 08:51:02,155]\u001b[0m Trial 289 finished with value: 0.0001496594429938325 and parameters: {'Tatoray Stripper C620 Operation_Column Temp Profile_C620 Tray 14 (Control)_oC': 176.92827384793497, 'Tatoray Stripper C620 Operation_Column Temp Profile_C620 Tray 34 (Control)_oC': 194.67521661109228, 'Tatoray Stripper C620 Operation_Specifications_Spec 2 : Distillate Rate_m3/hr': 0.9998992257007472}. Best is trial 237 with value: 3.932934794415033e-05.\u001b[0m\n",
            "\u001b[32m[I 2021-04-26 08:51:02,243]\u001b[0m Trial 290 finished with value: 6.885681352497564e-05 and parameters: {'Tatoray Stripper C620 Operation_Column Temp Profile_C620 Tray 14 (Control)_oC': 176.92737896056698, 'Tatoray Stripper C620 Operation_Column Temp Profile_C620 Tray 34 (Control)_oC': 194.67536293989033, 'Tatoray Stripper C620 Operation_Specifications_Spec 2 : Distillate Rate_m3/hr': 1.00006079644204}. Best is trial 237 with value: 3.932934794415033e-05.\u001b[0m\n",
            "\u001b[32m[I 2021-04-26 08:51:02,330]\u001b[0m Trial 291 finished with value: 0.0001187036654739515 and parameters: {'Tatoray Stripper C620 Operation_Column Temp Profile_C620 Tray 14 (Control)_oC': 176.9252181226378, 'Tatoray Stripper C620 Operation_Column Temp Profile_C620 Tray 34 (Control)_oC': 194.6754778430571, 'Tatoray Stripper C620 Operation_Specifications_Spec 2 : Distillate Rate_m3/hr': 0.9999052052399167}. Best is trial 237 with value: 3.932934794415033e-05.\u001b[0m\n",
            "\u001b[32m[I 2021-04-26 08:51:02,403]\u001b[0m Trial 292 finished with value: 6.184524670438396e-05 and parameters: {'Tatoray Stripper C620 Operation_Column Temp Profile_C620 Tray 14 (Control)_oC': 176.92077015183344, 'Tatoray Stripper C620 Operation_Column Temp Profile_C620 Tray 34 (Control)_oC': 194.67553721954164, 'Tatoray Stripper C620 Operation_Specifications_Spec 2 : Distillate Rate_m3/hr': 0.9999725308396571}. Best is trial 237 with value: 3.932934794415033e-05.\u001b[0m\n",
            "\u001b[32m[I 2021-04-26 08:51:02,478]\u001b[0m Trial 293 finished with value: 8.673604778031141e-05 and parameters: {'Tatoray Stripper C620 Operation_Column Temp Profile_C620 Tray 14 (Control)_oC': 176.92563264782981, 'Tatoray Stripper C620 Operation_Column Temp Profile_C620 Tray 34 (Control)_oC': 194.6753718586387, 'Tatoray Stripper C620 Operation_Specifications_Spec 2 : Distillate Rate_m3/hr': 1.000065753870661}. Best is trial 237 with value: 3.932934794415033e-05.\u001b[0m\n",
            "\u001b[32m[I 2021-04-26 08:51:02,564]\u001b[0m Trial 294 finished with value: 5.134502702408561e-05 and parameters: {'Tatoray Stripper C620 Operation_Column Temp Profile_C620 Tray 14 (Control)_oC': 176.92606493957635, 'Tatoray Stripper C620 Operation_Column Temp Profile_C620 Tray 34 (Control)_oC': 194.6754635168982, 'Tatoray Stripper C620 Operation_Specifications_Spec 2 : Distillate Rate_m3/hr': 1.00001629946508}. Best is trial 237 with value: 3.932934794415033e-05.\u001b[0m\n",
            "\u001b[32m[I 2021-04-26 08:51:02,645]\u001b[0m Trial 295 finished with value: 0.00010604625885912711 and parameters: {'Tatoray Stripper C620 Operation_Column Temp Profile_C620 Tray 14 (Control)_oC': 176.92202643115388, 'Tatoray Stripper C620 Operation_Column Temp Profile_C620 Tray 34 (Control)_oC': 194.67570071217438, 'Tatoray Stripper C620 Operation_Specifications_Spec 2 : Distillate Rate_m3/hr': 1.0000230149588085}. Best is trial 237 with value: 3.932934794415033e-05.\u001b[0m\n",
            "\u001b[32m[I 2021-04-26 08:51:02,729]\u001b[0m Trial 296 finished with value: 8.983975591925208e-05 and parameters: {'Tatoray Stripper C620 Operation_Column Temp Profile_C620 Tray 14 (Control)_oC': 176.9241453021541, 'Tatoray Stripper C620 Operation_Column Temp Profile_C620 Tray 34 (Control)_oC': 194.67538782228044, 'Tatoray Stripper C620 Operation_Specifications_Spec 2 : Distillate Rate_m3/hr': 1.000044140844697}. Best is trial 237 with value: 3.932934794415033e-05.\u001b[0m\n",
            "\u001b[32m[I 2021-04-26 08:51:02,822]\u001b[0m Trial 297 finished with value: 7.981754192076806e-05 and parameters: {'Tatoray Stripper C620 Operation_Column Temp Profile_C620 Tray 14 (Control)_oC': 176.92712193500185, 'Tatoray Stripper C620 Operation_Column Temp Profile_C620 Tray 34 (Control)_oC': 194.6754184932556, 'Tatoray Stripper C620 Operation_Specifications_Spec 2 : Distillate Rate_m3/hr': 1.0000453741958681}. Best is trial 237 with value: 3.932934794415033e-05.\u001b[0m\n",
            "\u001b[32m[I 2021-04-26 08:51:02,914]\u001b[0m Trial 298 finished with value: 9.759136541043212e-05 and parameters: {'Tatoray Stripper C620 Operation_Column Temp Profile_C620 Tray 14 (Control)_oC': 176.92390936786305, 'Tatoray Stripper C620 Operation_Column Temp Profile_C620 Tray 34 (Control)_oC': 194.67546390168332, 'Tatoray Stripper C620 Operation_Specifications_Spec 2 : Distillate Rate_m3/hr': 1.0000897730161784}. Best is trial 237 with value: 3.932934794415033e-05.\u001b[0m\n",
            "\u001b[32m[I 2021-04-26 08:51:03,001]\u001b[0m Trial 299 finished with value: 0.00032951019990123953 and parameters: {'Tatoray Stripper C620 Operation_Column Temp Profile_C620 Tray 14 (Control)_oC': 176.92615900430437, 'Tatoray Stripper C620 Operation_Column Temp Profile_C620 Tray 34 (Control)_oC': 194.67519271191435, 'Tatoray Stripper C620 Operation_Specifications_Spec 2 : Distillate Rate_m3/hr': 1.0002240732795227}. Best is trial 237 with value: 3.932934794415033e-05.\u001b[0m\n",
            "\u001b[32m[I 2021-04-26 08:51:03,083]\u001b[0m A new study created in memory with name: no-name-7a72df4a-8004-4184-a7e8-fe3735fc1f10\u001b[0m\n",
            "\u001b[32m[I 2021-04-26 08:51:03,167]\u001b[0m Trial 0 finished with value: 264.70701565372656 and parameters: {'Benzene Column C660 Operation_Column Temp Profile_C660 Tray 6 (SD & Control)_oC': 86.82119330488803, 'Benzene Column C660 Operation_Column Temp Profile_C660 Tray 23 (Control)_oC': 89.34762299033142, 'Simulation Case Conditions_Spec 2 : NA in Benzene_ppmw': 879.919590827824}. Best is trial 0 with value: 264.70701565372656.\u001b[0m\n",
            "\u001b[32m[I 2021-04-26 08:51:03,244]\u001b[0m Trial 1 finished with value: 74.6156821612943 and parameters: {'Benzene Column C660 Operation_Column Temp Profile_C660 Tray 6 (SD & Control)_oC': 86.43441365174961, 'Benzene Column C660 Operation_Column Temp Profile_C660 Tray 23 (Control)_oC': 89.15545649750698, 'Simulation Case Conditions_Spec 2 : NA in Benzene_ppmw': 900.1400982045953}. Best is trial 1 with value: 74.6156821612943.\u001b[0m\n",
            "\u001b[32m[I 2021-04-26 08:51:03,333]\u001b[0m Trial 2 finished with value: 113.79227268351227 and parameters: {'Benzene Column C660 Operation_Column Temp Profile_C660 Tray 6 (SD & Control)_oC': 86.62805904354154, 'Benzene Column C660 Operation_Column Temp Profile_C660 Tray 23 (Control)_oC': 89.46934649916061, 'Simulation Case Conditions_Spec 2 : NA in Benzene_ppmw': 899.7823290738191}. Best is trial 1 with value: 74.6156821612943.\u001b[0m\n",
            "\u001b[32m[I 2021-04-26 08:51:03,408]\u001b[0m Trial 3 finished with value: 257.7976341390727 and parameters: {'Benzene Column C660 Operation_Column Temp Profile_C660 Tray 6 (SD & Control)_oC': 86.81456699841789, 'Benzene Column C660 Operation_Column Temp Profile_C660 Tray 23 (Control)_oC': 89.27860967055906, 'Simulation Case Conditions_Spec 2 : NA in Benzene_ppmw': 900.176381250317}. Best is trial 1 with value: 74.6156821612943.\u001b[0m\n",
            "\u001b[32m[I 2021-04-26 08:51:03,488]\u001b[0m Trial 4 finished with value: 97.6353917737087 and parameters: {'Benzene Column C660 Operation_Column Temp Profile_C660 Tray 6 (SD & Control)_oC': 86.35440202579231, 'Benzene Column C660 Operation_Column Temp Profile_C660 Tray 23 (Control)_oC': 89.30010504446034, 'Simulation Case Conditions_Spec 2 : NA in Benzene_ppmw': 899.842537957653}. Best is trial 1 with value: 74.6156821612943.\u001b[0m\n",
            "\u001b[32m[I 2021-04-26 08:51:03,579]\u001b[0m Trial 5 finished with value: 278.3393148010739 and parameters: {'Benzene Column C660 Operation_Column Temp Profile_C660 Tray 6 (SD & Control)_oC': 86.847890697266, 'Benzene Column C660 Operation_Column Temp Profile_C660 Tray 23 (Control)_oC': 89.35512918058156, 'Simulation Case Conditions_Spec 2 : NA in Benzene_ppmw': 899.8680121584831}. Best is trial 1 with value: 74.6156821612943.\u001b[0m\n",
            "\u001b[32m[I 2021-04-26 08:51:03,674]\u001b[0m Trial 6 finished with value: 110.7561455989268 and parameters: {'Benzene Column C660 Operation_Column Temp Profile_C660 Tray 6 (SD & Control)_oC': 86.27801287459438, 'Benzene Column C660 Operation_Column Temp Profile_C660 Tray 23 (Control)_oC': 89.25204098075358, 'Simulation Case Conditions_Spec 2 : NA in Benzene_ppmw': 899.7982807050183}. Best is trial 1 with value: 74.6156821612943.\u001b[0m\n",
            "\u001b[32m[I 2021-04-26 08:51:03,764]\u001b[0m Trial 7 finished with value: 82.03611972386372 and parameters: {'Benzene Column C660 Operation_Column Temp Profile_C660 Tray 6 (SD & Control)_oC': 86.42798088209143, 'Benzene Column C660 Operation_Column Temp Profile_C660 Tray 23 (Control)_oC': 89.47440704164701, 'Simulation Case Conditions_Spec 2 : NA in Benzene_ppmw': 899.7587569406818}. Best is trial 1 with value: 74.6156821612943.\u001b[0m\n",
            "\u001b[32m[I 2021-04-26 08:51:03,857]\u001b[0m Trial 8 finished with value: 163.03030004828457 and parameters: {'Benzene Column C660 Operation_Column Temp Profile_C660 Tray 6 (SD & Control)_oC': 86.68622035119301, 'Benzene Column C660 Operation_Column Temp Profile_C660 Tray 23 (Control)_oC': 89.28732479288259, 'Simulation Case Conditions_Spec 2 : NA in Benzene_ppmw': 899.9115566351994}. Best is trial 1 with value: 74.6156821612943.\u001b[0m\n",
            "\u001b[32m[I 2021-04-26 08:51:03,939]\u001b[0m Trial 9 finished with value: 189.83799436764113 and parameters: {'Benzene Column C660 Operation_Column Temp Profile_C660 Tray 6 (SD & Control)_oC': 86.71952070493744, 'Benzene Column C660 Operation_Column Temp Profile_C660 Tray 23 (Control)_oC': 89.23594192642227, 'Simulation Case Conditions_Spec 2 : NA in Benzene_ppmw': 899.8857647029259}. Best is trial 1 with value: 74.6156821612943.\u001b[0m\n",
            "\u001b[32m[I 2021-04-26 08:51:04,022]\u001b[0m Trial 10 finished with value: 55.24127445997307 and parameters: {'Benzene Column C660 Operation_Column Temp Profile_C660 Tray 6 (SD & Control)_oC': 86.48636643095938, 'Benzene Column C660 Operation_Column Temp Profile_C660 Tray 23 (Control)_oC': 89.05866994294726, 'Simulation Case Conditions_Spec 2 : NA in Benzene_ppmw': 900.080172678556}. Best is trial 10 with value: 55.24127445997307.\u001b[0m\n",
            "\u001b[32m[I 2021-04-26 08:51:04,104]\u001b[0m Trial 11 finished with value: 95.91646525739034 and parameters: {'Benzene Column C660 Operation_Column Temp Profile_C660 Tray 6 (SD & Control)_oC': 86.59618056997856, 'Benzene Column C660 Operation_Column Temp Profile_C660 Tray 23 (Control)_oC': 89.293030553793, 'Simulation Case Conditions_Spec 2 : NA in Benzene_ppmw': 900.1717606344722}. Best is trial 10 with value: 55.24127445997307.\u001b[0m\n",
            "\u001b[32m[I 2021-04-26 08:51:04,194]\u001b[0m Trial 12 finished with value: 95.43487192691684 and parameters: {'Benzene Column C660 Operation_Column Temp Profile_C660 Tray 6 (SD & Control)_oC': 86.36172300526702, 'Benzene Column C660 Operation_Column Temp Profile_C660 Tray 23 (Control)_oC': 89.2687195920693, 'Simulation Case Conditions_Spec 2 : NA in Benzene_ppmw': 900.0747219644112}. Best is trial 10 with value: 55.24127445997307.\u001b[0m\n",
            "\u001b[32m[I 2021-04-26 08:51:04,283]\u001b[0m Trial 13 finished with value: 81.40621442387992 and parameters: {'Benzene Column C660 Operation_Column Temp Profile_C660 Tray 6 (SD & Control)_oC': 86.57449045134894, 'Benzene Column C660 Operation_Column Temp Profile_C660 Tray 23 (Control)_oC': 89.26476959241349, 'Simulation Case Conditions_Spec 2 : NA in Benzene_ppmw': 899.995379552746}. Best is trial 10 with value: 55.24127445997307.\u001b[0m\n",
            "\u001b[32m[I 2021-04-26 08:51:04,370]\u001b[0m Trial 14 finished with value: 61.050860013577655 and parameters: {'Benzene Column C660 Operation_Column Temp Profile_C660 Tray 6 (SD & Control)_oC': 86.47499010789384, 'Benzene Column C660 Operation_Column Temp Profile_C660 Tray 23 (Control)_oC': 89.15433865755332, 'Simulation Case Conditions_Spec 2 : NA in Benzene_ppmw': 900.2512727775119}. Best is trial 10 with value: 55.24127445997307.\u001b[0m\n",
            "\u001b[32m[I 2021-04-26 08:51:04,456]\u001b[0m Trial 15 finished with value: 67.4797007226804 and parameters: {'Benzene Column C660 Operation_Column Temp Profile_C660 Tray 6 (SD & Control)_oC': 86.55417705222433, 'Benzene Column C660 Operation_Column Temp Profile_C660 Tray 23 (Control)_oC': 89.26131830111981, 'Simulation Case Conditions_Spec 2 : NA in Benzene_ppmw': 900.0139905306241}. Best is trial 10 with value: 55.24127445997307.\u001b[0m\n",
            "\u001b[32m[I 2021-04-26 08:51:04,549]\u001b[0m Trial 16 finished with value: 58.7054657437884 and parameters: {'Benzene Column C660 Operation_Column Temp Profile_C660 Tray 6 (SD & Control)_oC': 86.53726969716118, 'Benzene Column C660 Operation_Column Temp Profile_C660 Tray 23 (Control)_oC': 89.17002288500655, 'Simulation Case Conditions_Spec 2 : NA in Benzene_ppmw': 899.793491609467}. Best is trial 10 with value: 55.24127445997307.\u001b[0m\n",
            "\u001b[32m[I 2021-04-26 08:51:04,632]\u001b[0m Trial 17 finished with value: 73.02248841995744 and parameters: {'Benzene Column C660 Operation_Column Temp Profile_C660 Tray 6 (SD & Control)_oC': 86.55222794033901, 'Benzene Column C660 Operation_Column Temp Profile_C660 Tray 23 (Control)_oC': 89.01957686067477, 'Simulation Case Conditions_Spec 2 : NA in Benzene_ppmw': 900.0905996593752}. Best is trial 10 with value: 55.24127445997307.\u001b[0m\n",
            "\u001b[32m[I 2021-04-26 08:51:04,718]\u001b[0m Trial 18 finished with value: 50.60681801312665 and parameters: {'Benzene Column C660 Operation_Column Temp Profile_C660 Tray 6 (SD & Control)_oC': 86.4881984282864, 'Benzene Column C660 Operation_Column Temp Profile_C660 Tray 23 (Control)_oC': 88.86866159529886, 'Simulation Case Conditions_Spec 2 : NA in Benzene_ppmw': 900.1667542475153}. Best is trial 18 with value: 50.60681801312665.\u001b[0m\n",
            "\u001b[32m[I 2021-04-26 08:51:04,807]\u001b[0m Trial 19 finished with value: 52.58246542922449 and parameters: {'Benzene Column C660 Operation_Column Temp Profile_C660 Tray 6 (SD & Control)_oC': 86.523301135949, 'Benzene Column C660 Operation_Column Temp Profile_C660 Tray 23 (Control)_oC': 89.05354766517844, 'Simulation Case Conditions_Spec 2 : NA in Benzene_ppmw': 900.1724289707347}. Best is trial 18 with value: 50.60681801312665.\u001b[0m\n",
            "\u001b[32m[I 2021-04-26 08:51:04,903]\u001b[0m Trial 20 finished with value: 65.50113529625071 and parameters: {'Benzene Column C660 Operation_Column Temp Profile_C660 Tray 6 (SD & Control)_oC': 86.53978499188341, 'Benzene Column C660 Operation_Column Temp Profile_C660 Tray 23 (Control)_oC': 88.9851642920689, 'Simulation Case Conditions_Spec 2 : NA in Benzene_ppmw': 900.0768218478242}. Best is trial 18 with value: 50.60681801312665.\u001b[0m\n",
            "\u001b[32m[I 2021-04-26 08:51:04,984]\u001b[0m Trial 21 finished with value: 166.01302690360853 and parameters: {'Benzene Column C660 Operation_Column Temp Profile_C660 Tray 6 (SD & Control)_oC': 86.68537883004251, 'Benzene Column C660 Operation_Column Temp Profile_C660 Tray 23 (Control)_oC': 89.17124672238764, 'Simulation Case Conditions_Spec 2 : NA in Benzene_ppmw': 900.279779042729}. Best is trial 18 with value: 50.60681801312665.\u001b[0m\n",
            "\u001b[32m[I 2021-04-26 08:51:05,069]\u001b[0m Trial 22 finished with value: 70.86366345967033 and parameters: {'Benzene Column C660 Operation_Column Temp Profile_C660 Tray 6 (SD & Control)_oC': 86.44312939882016, 'Benzene Column C660 Operation_Column Temp Profile_C660 Tray 23 (Control)_oC': 89.08118709927102, 'Simulation Case Conditions_Spec 2 : NA in Benzene_ppmw': 899.9129570199196}. Best is trial 18 with value: 50.60681801312665.\u001b[0m\n",
            "\u001b[32m[I 2021-04-26 08:51:05,148]\u001b[0m Trial 23 finished with value: 106.17340005574222 and parameters: {'Benzene Column C660 Operation_Column Temp Profile_C660 Tray 6 (SD & Control)_oC': 86.283270048705, 'Benzene Column C660 Operation_Column Temp Profile_C660 Tray 23 (Control)_oC': 88.86046745370741, 'Simulation Case Conditions_Spec 2 : NA in Benzene_ppmw': 899.9861065290548}. Best is trial 18 with value: 50.60681801312665.\u001b[0m\n",
            "\u001b[32m[I 2021-04-26 08:51:05,235]\u001b[0m Trial 24 finished with value: 49.2671192409534 and parameters: {'Benzene Column C660 Operation_Column Temp Profile_C660 Tray 6 (SD & Control)_oC': 86.49509323317987, 'Benzene Column C660 Operation_Column Temp Profile_C660 Tray 23 (Control)_oC': 88.93225997522681, 'Simulation Case Conditions_Spec 2 : NA in Benzene_ppmw': 900.1425037303358}. Best is trial 24 with value: 49.2671192409534.\u001b[0m\n",
            "\u001b[32m[I 2021-04-26 08:51:05,316]\u001b[0m Trial 25 finished with value: 139.39116101193272 and parameters: {'Benzene Column C660 Operation_Column Temp Profile_C660 Tray 6 (SD & Control)_oC': 86.63038811817067, 'Benzene Column C660 Operation_Column Temp Profile_C660 Tray 23 (Control)_oC': 88.69892619925332, 'Simulation Case Conditions_Spec 2 : NA in Benzene_ppmw': 900.3440913962315}. Best is trial 24 with value: 49.2671192409534.\u001b[0m\n",
            "\u001b[32m[I 2021-04-26 08:51:05,406]\u001b[0m Trial 26 finished with value: 63.62104574690447 and parameters: {'Benzene Column C660 Operation_Column Temp Profile_C660 Tray 6 (SD & Control)_oC': 86.43924111557251, 'Benzene Column C660 Operation_Column Temp Profile_C660 Tray 23 (Control)_oC': 88.61228351340532, 'Simulation Case Conditions_Spec 2 : NA in Benzene_ppmw': 900.0472885640545}. Best is trial 24 with value: 49.2671192409534.\u001b[0m\n",
            "\u001b[32m[I 2021-04-26 08:51:05,493]\u001b[0m Trial 27 finished with value: 57.62184840994799 and parameters: {'Benzene Column C660 Operation_Column Temp Profile_C660 Tray 6 (SD & Control)_oC': 86.47785356992593, 'Benzene Column C660 Operation_Column Temp Profile_C660 Tray 23 (Control)_oC': 89.02529036330287, 'Simulation Case Conditions_Spec 2 : NA in Benzene_ppmw': 900.1741494932023}. Best is trial 24 with value: 49.2671192409534.\u001b[0m\n",
            "\u001b[32m[I 2021-04-26 08:51:05,574]\u001b[0m Trial 28 finished with value: 68.97770821052144 and parameters: {'Benzene Column C660 Operation_Column Temp Profile_C660 Tray 6 (SD & Control)_oC': 86.44097234639608, 'Benzene Column C660 Operation_Column Temp Profile_C660 Tray 23 (Control)_oC': 88.95480470204465, 'Simulation Case Conditions_Spec 2 : NA in Benzene_ppmw': 900.254535816538}. Best is trial 24 with value: 49.2671192409534.\u001b[0m\n",
            "\u001b[32m[I 2021-04-26 08:51:05,657]\u001b[0m Trial 29 finished with value: 102.14195947214705 and parameters: {'Benzene Column C660 Operation_Column Temp Profile_C660 Tray 6 (SD & Control)_oC': 86.59489255127089, 'Benzene Column C660 Operation_Column Temp Profile_C660 Tray 23 (Control)_oC': 89.05633519877267, 'Simulation Case Conditions_Spec 2 : NA in Benzene_ppmw': 900.0243614858073}. Best is trial 24 with value: 49.2671192409534.\u001b[0m\n",
            "\u001b[32m[I 2021-04-26 08:51:05,737]\u001b[0m Trial 30 finished with value: 91.89446149967637 and parameters: {'Benzene Column C660 Operation_Column Temp Profile_C660 Tray 6 (SD & Control)_oC': 86.36056902576097, 'Benzene Column C660 Operation_Column Temp Profile_C660 Tray 23 (Control)_oC': 88.96927402191446, 'Simulation Case Conditions_Spec 2 : NA in Benzene_ppmw': 900.0580398824297}. Best is trial 24 with value: 49.2671192409534.\u001b[0m\n",
            "\u001b[32m[I 2021-04-26 08:51:05,814]\u001b[0m Trial 31 finished with value: 49.400638360771396 and parameters: {'Benzene Column C660 Operation_Column Temp Profile_C660 Tray 6 (SD & Control)_oC': 86.49051821894673, 'Benzene Column C660 Operation_Column Temp Profile_C660 Tray 23 (Control)_oC': 88.85920012460082, 'Simulation Case Conditions_Spec 2 : NA in Benzene_ppmw': 900.2632304004322}. Best is trial 24 with value: 49.2671192409534.\u001b[0m\n",
            "\u001b[32m[I 2021-04-26 08:51:05,902]\u001b[0m Trial 32 finished with value: 64.0186374936275 and parameters: {'Benzene Column C660 Operation_Column Temp Profile_C660 Tray 6 (SD & Control)_oC': 86.53141923662844, 'Benzene Column C660 Operation_Column Temp Profile_C660 Tray 23 (Control)_oC': 88.83680319073711, 'Simulation Case Conditions_Spec 2 : NA in Benzene_ppmw': 900.0811599808205}. Best is trial 24 with value: 49.2671192409534.\u001b[0m\n",
            "\u001b[32m[I 2021-04-26 08:51:05,982]\u001b[0m Trial 33 finished with value: 74.61322318689238 and parameters: {'Benzene Column C660 Operation_Column Temp Profile_C660 Tray 6 (SD & Control)_oC': 86.53622546093571, 'Benzene Column C660 Operation_Column Temp Profile_C660 Tray 23 (Control)_oC': 88.57880525169465, 'Simulation Case Conditions_Spec 2 : NA in Benzene_ppmw': 900.2891469563034}. Best is trial 24 with value: 49.2671192409534.\u001b[0m\n",
            "\u001b[32m[I 2021-04-26 08:51:06,072]\u001b[0m Trial 34 finished with value: 95.1370219020781 and parameters: {'Benzene Column C660 Operation_Column Temp Profile_C660 Tray 6 (SD & Control)_oC': 86.35291069918169, 'Benzene Column C660 Operation_Column Temp Profile_C660 Tray 23 (Control)_oC': 89.07414255077012, 'Simulation Case Conditions_Spec 2 : NA in Benzene_ppmw': 899.904912392659}. Best is trial 24 with value: 49.2671192409534.\u001b[0m\n",
            "\u001b[32m[I 2021-04-26 08:51:06,164]\u001b[0m Trial 35 finished with value: 59.92366078388156 and parameters: {'Benzene Column C660 Operation_Column Temp Profile_C660 Tray 6 (SD & Control)_oC': 86.53237554579101, 'Benzene Column C660 Operation_Column Temp Profile_C660 Tray 23 (Control)_oC': 89.00511074934346, 'Simulation Case Conditions_Spec 2 : NA in Benzene_ppmw': 900.2057666047924}. Best is trial 24 with value: 49.2671192409534.\u001b[0m\n",
            "\u001b[32m[I 2021-04-26 08:51:06,247]\u001b[0m Trial 36 finished with value: 70.31904839002826 and parameters: {'Benzene Column C660 Operation_Column Temp Profile_C660 Tray 6 (SD & Control)_oC': 86.44773957894172, 'Benzene Column C660 Operation_Column Temp Profile_C660 Tray 23 (Control)_oC': 89.16009223582655, 'Simulation Case Conditions_Spec 2 : NA in Benzene_ppmw': 900.3076702067084}. Best is trial 24 with value: 49.2671192409534.\u001b[0m\n",
            "\u001b[32m[I 2021-04-26 08:51:06,343]\u001b[0m Trial 37 finished with value: 59.40317007472778 and parameters: {'Benzene Column C660 Operation_Column Temp Profile_C660 Tray 6 (SD & Control)_oC': 86.46046092850536, 'Benzene Column C660 Operation_Column Temp Profile_C660 Tray 23 (Control)_oC': 88.80609504866264, 'Simulation Case Conditions_Spec 2 : NA in Benzene_ppmw': 900.4162037008958}. Best is trial 24 with value: 49.2671192409534.\u001b[0m\n",
            "\u001b[32m[I 2021-04-26 08:51:06,428]\u001b[0m Trial 38 finished with value: 49.63093446630903 and parameters: {'Benzene Column C660 Operation_Column Temp Profile_C660 Tray 6 (SD & Control)_oC': 86.49034985339584, 'Benzene Column C660 Operation_Column Temp Profile_C660 Tray 23 (Control)_oC': 88.87032068640013, 'Simulation Case Conditions_Spec 2 : NA in Benzene_ppmw': 900.3194673665789}. Best is trial 24 with value: 49.2671192409534.\u001b[0m\n",
            "\u001b[32m[I 2021-04-26 08:51:06,516]\u001b[0m Trial 39 finished with value: 104.83955541076045 and parameters: {'Benzene Column C660 Operation_Column Temp Profile_C660 Tray 6 (SD & Control)_oC': 86.58923681494691, 'Benzene Column C660 Operation_Column Temp Profile_C660 Tray 23 (Control)_oC': 88.83065109660164, 'Simulation Case Conditions_Spec 2 : NA in Benzene_ppmw': 900.2420202760615}. Best is trial 24 with value: 49.2671192409534.\u001b[0m\n",
            "\u001b[32m[I 2021-04-26 08:51:06,604]\u001b[0m Trial 40 finished with value: 88.70417086040365 and parameters: {'Benzene Column C660 Operation_Column Temp Profile_C660 Tray 6 (SD & Control)_oC': 86.3767769250062, 'Benzene Column C660 Operation_Column Temp Profile_C660 Tray 23 (Control)_oC': 89.04033976965687, 'Simulation Case Conditions_Spec 2 : NA in Benzene_ppmw': 900.2775690862107}. Best is trial 24 with value: 49.2671192409534.\u001b[0m\n",
            "\u001b[32m[I 2021-04-26 08:51:06,695]\u001b[0m Trial 41 finished with value: 49.58471448538651 and parameters: {'Benzene Column C660 Operation_Column Temp Profile_C660 Tray 6 (SD & Control)_oC': 86.48412565244584, 'Benzene Column C660 Operation_Column Temp Profile_C660 Tray 23 (Control)_oC': 88.74988622577739, 'Simulation Case Conditions_Spec 2 : NA in Benzene_ppmw': 900.3038370045197}. Best is trial 24 with value: 49.2671192409534.\u001b[0m\n",
            "\u001b[32m[I 2021-04-26 08:51:06,793]\u001b[0m Trial 42 finished with value: 80.04883102445854 and parameters: {'Benzene Column C660 Operation_Column Temp Profile_C660 Tray 6 (SD & Control)_oC': 86.56085080720268, 'Benzene Column C660 Operation_Column Temp Profile_C660 Tray 23 (Control)_oC': 88.98401792763774, 'Simulation Case Conditions_Spec 2 : NA in Benzene_ppmw': 900.0216762665348}. Best is trial 24 with value: 49.2671192409534.\u001b[0m\n",
            "\u001b[32m[I 2021-04-26 08:51:06,883]\u001b[0m Trial 43 finished with value: 93.35034195676603 and parameters: {'Benzene Column C660 Operation_Column Temp Profile_C660 Tray 6 (SD & Control)_oC': 86.34506082027394, 'Benzene Column C660 Operation_Column Temp Profile_C660 Tray 23 (Control)_oC': 88.81431394379948, 'Simulation Case Conditions_Spec 2 : NA in Benzene_ppmw': 900.1860498241681}. Best is trial 24 with value: 49.2671192409534.\u001b[0m\n",
            "\u001b[32m[I 2021-04-26 08:51:06,967]\u001b[0m Trial 44 finished with value: 46.92484269026042 and parameters: {'Benzene Column C660 Operation_Column Temp Profile_C660 Tray 6 (SD & Control)_oC': 86.479232397822, 'Benzene Column C660 Operation_Column Temp Profile_C660 Tray 23 (Control)_oC': 88.54076333497017, 'Simulation Case Conditions_Spec 2 : NA in Benzene_ppmw': 900.5080004431899}. Best is trial 44 with value: 46.92484269026042.\u001b[0m\n",
            "\u001b[32m[I 2021-04-26 08:51:07,048]\u001b[0m Trial 45 finished with value: 63.2818685275658 and parameters: {'Benzene Column C660 Operation_Column Temp Profile_C660 Tray 6 (SD & Control)_oC': 86.45278159530872, 'Benzene Column C660 Operation_Column Temp Profile_C660 Tray 23 (Control)_oC': 88.8597330104755, 'Simulation Case Conditions_Spec 2 : NA in Benzene_ppmw': 900.2661888310703}. Best is trial 44 with value: 46.92484269026042.\u001b[0m\n",
            "\u001b[32m[I 2021-04-26 08:51:07,140]\u001b[0m Trial 46 finished with value: 127.29772615725744 and parameters: {'Benzene Column C660 Operation_Column Temp Profile_C660 Tray 6 (SD & Control)_oC': 86.6174636008278, 'Benzene Column C660 Operation_Column Temp Profile_C660 Tray 23 (Control)_oC': 88.77532095338532, 'Simulation Case Conditions_Spec 2 : NA in Benzene_ppmw': 900.5341562619284}. Best is trial 44 with value: 46.92484269026042.\u001b[0m\n",
            "\u001b[32m[I 2021-04-26 08:51:07,218]\u001b[0m Trial 47 finished with value: 72.01929617512766 and parameters: {'Benzene Column C660 Operation_Column Temp Profile_C660 Tray 6 (SD & Control)_oC': 86.53536682058878, 'Benzene Column C660 Operation_Column Temp Profile_C660 Tray 23 (Control)_oC': 88.64923876583781, 'Simulation Case Conditions_Spec 2 : NA in Benzene_ppmw': 900.1726088574128}. Best is trial 44 with value: 46.92484269026042.\u001b[0m\n",
            "\u001b[32m[I 2021-04-26 08:51:07,293]\u001b[0m Trial 48 finished with value: 75.26582096591652 and parameters: {'Benzene Column C660 Operation_Column Temp Profile_C660 Tray 6 (SD & Control)_oC': 86.41874299143919, 'Benzene Column C660 Operation_Column Temp Profile_C660 Tray 23 (Control)_oC': 88.92552117625425, 'Simulation Case Conditions_Spec 2 : NA in Benzene_ppmw': 900.4336418353905}. Best is trial 44 with value: 46.92484269026042.\u001b[0m\n",
            "\u001b[32m[I 2021-04-26 08:51:07,381]\u001b[0m Trial 49 finished with value: 50.84887662831488 and parameters: {'Benzene Column C660 Operation_Column Temp Profile_C660 Tray 6 (SD & Control)_oC': 86.48572442181622, 'Benzene Column C660 Operation_Column Temp Profile_C660 Tray 23 (Control)_oC': 88.82350010064705, 'Simulation Case Conditions_Spec 2 : NA in Benzene_ppmw': 899.9822526314956}. Best is trial 44 with value: 46.92484269026042.\u001b[0m\n",
            "\u001b[32m[I 2021-04-26 08:51:07,463]\u001b[0m Trial 50 finished with value: 50.983992898160196 and parameters: {'Benzene Column C660 Operation_Column Temp Profile_C660 Tray 6 (SD & Control)_oC': 86.49750842470596, 'Benzene Column C660 Operation_Column Temp Profile_C660 Tray 23 (Control)_oC': 89.0765637251035, 'Simulation Case Conditions_Spec 2 : NA in Benzene_ppmw': 900.4195252838044}. Best is trial 44 with value: 46.92484269026042.\u001b[0m\n",
            "\u001b[32m[I 2021-04-26 08:51:07,543]\u001b[0m Trial 51 finished with value: 80.53027711622605 and parameters: {'Benzene Column C660 Operation_Column Temp Profile_C660 Tray 6 (SD & Control)_oC': 86.39124006632983, 'Benzene Column C660 Operation_Column Temp Profile_C660 Tray 23 (Control)_oC': 88.75830110614305, 'Simulation Case Conditions_Spec 2 : NA in Benzene_ppmw': 900.5170406240419}. Best is trial 44 with value: 46.92484269026042.\u001b[0m\n",
            "\u001b[32m[I 2021-04-26 08:51:07,630]\u001b[0m Trial 52 finished with value: 52.47648797876157 and parameters: {'Benzene Column C660 Operation_Column Temp Profile_C660 Tray 6 (SD & Control)_oC': 86.50282086261616, 'Benzene Column C660 Operation_Column Temp Profile_C660 Tray 23 (Control)_oC': 88.56459738008516, 'Simulation Case Conditions_Spec 2 : NA in Benzene_ppmw': 900.2023636613043}. Best is trial 44 with value: 46.92484269026042.\u001b[0m\n",
            "\u001b[32m[I 2021-04-26 08:51:07,716]\u001b[0m Trial 53 finished with value: 61.36231624533703 and parameters: {'Benzene Column C660 Operation_Column Temp Profile_C660 Tray 6 (SD & Control)_oC': 86.45685411648886, 'Benzene Column C660 Operation_Column Temp Profile_C660 Tray 23 (Control)_oC': 88.83135623672416, 'Simulation Case Conditions_Spec 2 : NA in Benzene_ppmw': 900.238853103903}. Best is trial 44 with value: 46.92484269026042.\u001b[0m\n",
            "\u001b[32m[I 2021-04-26 08:51:07,800]\u001b[0m Trial 54 finished with value: 55.01632206709048 and parameters: {'Benzene Column C660 Operation_Column Temp Profile_C660 Tray 6 (SD & Control)_oC': 86.46816932713888, 'Benzene Column C660 Operation_Column Temp Profile_C660 Tray 23 (Control)_oC': 88.72507084581925, 'Simulation Case Conditions_Spec 2 : NA in Benzene_ppmw': 900.4165808077692}. Best is trial 44 with value: 46.92484269026042.\u001b[0m\n",
            "\u001b[32m[I 2021-04-26 08:51:07,904]\u001b[0m Trial 55 finished with value: 133.96393487653376 and parameters: {'Benzene Column C660 Operation_Column Temp Profile_C660 Tray 6 (SD & Control)_oC': 86.61614678920745, 'Benzene Column C660 Operation_Column Temp Profile_C660 Tray 23 (Control)_oC': 88.5310692206098, 'Simulation Case Conditions_Spec 2 : NA in Benzene_ppmw': 900.3798421587977}. Best is trial 44 with value: 46.92484269026042.\u001b[0m\n",
            "\u001b[32m[I 2021-04-26 08:51:07,986]\u001b[0m Trial 56 finished with value: 119.90664739602032 and parameters: {'Benzene Column C660 Operation_Column Temp Profile_C660 Tray 6 (SD & Control)_oC': 86.5995487255552, 'Benzene Column C660 Operation_Column Temp Profile_C660 Tray 23 (Control)_oC': 88.5851279461911, 'Simulation Case Conditions_Spec 2 : NA in Benzene_ppmw': 900.4461264596487}. Best is trial 44 with value: 46.92484269026042.\u001b[0m\n",
            "\u001b[32m[I 2021-04-26 08:51:08,063]\u001b[0m Trial 57 finished with value: 72.46690943367176 and parameters: {'Benzene Column C660 Operation_Column Temp Profile_C660 Tray 6 (SD & Control)_oC': 86.40548934952173, 'Benzene Column C660 Operation_Column Temp Profile_C660 Tray 23 (Control)_oC': 88.52625768227675, 'Simulation Case Conditions_Spec 2 : NA in Benzene_ppmw': 900.6503632782027}. Best is trial 44 with value: 46.92484269026042.\u001b[0m\n",
            "\u001b[32m[I 2021-04-26 08:51:08,139]\u001b[0m Trial 58 finished with value: 54.238605484992036 and parameters: {'Benzene Column C660 Operation_Column Temp Profile_C660 Tray 6 (SD & Control)_oC': 86.50750733761032, 'Benzene Column C660 Operation_Column Temp Profile_C660 Tray 23 (Control)_oC': 89.41840369482945, 'Simulation Case Conditions_Spec 2 : NA in Benzene_ppmw': 900.3076371490978}. Best is trial 44 with value: 46.92484269026042.\u001b[0m\n",
            "\u001b[32m[I 2021-04-26 08:51:08,222]\u001b[0m Trial 59 finished with value: 84.75073355650025 and parameters: {'Benzene Column C660 Operation_Column Temp Profile_C660 Tray 6 (SD & Control)_oC': 86.38113199740295, 'Benzene Column C660 Operation_Column Temp Profile_C660 Tray 23 (Control)_oC': 88.85052489536588, 'Simulation Case Conditions_Spec 2 : NA in Benzene_ppmw': 900.4251597315298}. Best is trial 44 with value: 46.92484269026042.\u001b[0m\n",
            "\u001b[32m[I 2021-04-26 08:51:08,302]\u001b[0m Trial 60 finished with value: 74.25879370277316 and parameters: {'Benzene Column C660 Operation_Column Temp Profile_C660 Tray 6 (SD & Control)_oC': 86.56182079367521, 'Benzene Column C660 Operation_Column Temp Profile_C660 Tray 23 (Control)_oC': 89.2041220799115, 'Simulation Case Conditions_Spec 2 : NA in Benzene_ppmw': 900.4561505261007}. Best is trial 44 with value: 46.92484269026042.\u001b[0m\n",
            "\u001b[32m[I 2021-04-26 08:51:08,404]\u001b[0m Trial 61 finished with value: 47.23450720388453 and parameters: {'Benzene Column C660 Operation_Column Temp Profile_C660 Tray 6 (SD & Control)_oC': 86.51320942017419, 'Benzene Column C660 Operation_Column Temp Profile_C660 Tray 23 (Control)_oC': 89.0073539624802, 'Simulation Case Conditions_Spec 2 : NA in Benzene_ppmw': 900.2639721758167}. Best is trial 44 with value: 46.92484269026042.\u001b[0m\n",
            "\u001b[32m[I 2021-04-26 08:51:08,484]\u001b[0m Trial 62 finished with value: 110.52016200409832 and parameters: {'Benzene Column C660 Operation_Column Temp Profile_C660 Tray 6 (SD & Control)_oC': 86.59363370458082, 'Benzene Column C660 Operation_Column Temp Profile_C660 Tray 23 (Control)_oC': 88.74970422319778, 'Simulation Case Conditions_Spec 2 : NA in Benzene_ppmw': 900.2338144779242}. Best is trial 44 with value: 46.92484269026042.\u001b[0m\n",
            "\u001b[32m[I 2021-04-26 08:51:08,571]\u001b[0m Trial 63 finished with value: 65.33767919393331 and parameters: {'Benzene Column C660 Operation_Column Temp Profile_C660 Tray 6 (SD & Control)_oC': 86.44997537023154, 'Benzene Column C660 Operation_Column Temp Profile_C660 Tray 23 (Control)_oC': 88.91423783387434, 'Simulation Case Conditions_Spec 2 : NA in Benzene_ppmw': 900.1820722362583}. Best is trial 44 with value: 46.92484269026042.\u001b[0m\n",
            "\u001b[32m[I 2021-04-26 08:51:08,657]\u001b[0m Trial 64 finished with value: 68.81567919271981 and parameters: {'Benzene Column C660 Operation_Column Temp Profile_C660 Tray 6 (SD & Control)_oC': 86.55892343978424, 'Benzene Column C660 Operation_Column Temp Profile_C660 Tray 23 (Control)_oC': 89.3266648290997, 'Simulation Case Conditions_Spec 2 : NA in Benzene_ppmw': 900.2144623174213}. Best is trial 44 with value: 46.92484269026042.\u001b[0m\n",
            "\u001b[32m[I 2021-04-26 08:51:08,738]\u001b[0m Trial 65 finished with value: 59.02462302002605 and parameters: {'Benzene Column C660 Operation_Column Temp Profile_C660 Tray 6 (SD & Control)_oC': 86.51625547094693, 'Benzene Column C660 Operation_Column Temp Profile_C660 Tray 23 (Control)_oC': 89.82300229665657, 'Simulation Case Conditions_Spec 2 : NA in Benzene_ppmw': 900.3021224664991}. Best is trial 44 with value: 46.92484269026042.\u001b[0m\n",
            "\u001b[32m[I 2021-04-26 08:51:08,815]\u001b[0m Trial 66 finished with value: 59.58280602085525 and parameters: {'Benzene Column C660 Operation_Column Temp Profile_C660 Tray 6 (SD & Control)_oC': 86.48158488465161, 'Benzene Column C660 Operation_Column Temp Profile_C660 Tray 23 (Control)_oC': 89.20397465611458, 'Simulation Case Conditions_Spec 2 : NA in Benzene_ppmw': 900.3052917197144}. Best is trial 44 with value: 46.92484269026042.\u001b[0m\n",
            "\u001b[32m[I 2021-04-26 08:51:08,907]\u001b[0m Trial 67 finished with value: 47.21631911026226 and parameters: {'Benzene Column C660 Operation_Column Temp Profile_C660 Tray 6 (SD & Control)_oC': 86.50818340426812, 'Benzene Column C660 Operation_Column Temp Profile_C660 Tray 23 (Control)_oC': 88.887297866565, 'Simulation Case Conditions_Spec 2 : NA in Benzene_ppmw': 900.2373626019411}. Best is trial 44 with value: 46.92484269026042.\u001b[0m\n",
            "\u001b[32m[I 2021-04-26 08:51:08,992]\u001b[0m Trial 68 finished with value: 48.5716790750029 and parameters: {'Benzene Column C660 Operation_Column Temp Profile_C660 Tray 6 (SD & Control)_oC': 86.49335461291899, 'Benzene Column C660 Operation_Column Temp Profile_C660 Tray 23 (Control)_oC': 88.88380255322129, 'Simulation Case Conditions_Spec 2 : NA in Benzene_ppmw': 900.4628009145332}. Best is trial 44 with value: 46.92484269026042.\u001b[0m\n",
            "\u001b[32m[I 2021-04-26 08:51:09,069]\u001b[0m Trial 69 finished with value: 48.79437906579987 and parameters: {'Benzene Column C660 Operation_Column Temp Profile_C660 Tray 6 (SD & Control)_oC': 86.51777310782978, 'Benzene Column C660 Operation_Column Temp Profile_C660 Tray 23 (Control)_oC': 89.0579145479461, 'Simulation Case Conditions_Spec 2 : NA in Benzene_ppmw': 900.4150340408987}. Best is trial 44 with value: 46.92484269026042.\u001b[0m\n",
            "\u001b[32m[I 2021-04-26 08:51:09,267]\u001b[0m Trial 70 finished with value: 65.32199124447939 and parameters: {'Benzene Column C660 Operation_Column Temp Profile_C660 Tray 6 (SD & Control)_oC': 86.45593243537073, 'Benzene Column C660 Operation_Column Temp Profile_C660 Tray 23 (Control)_oC': 89.02967558705247, 'Simulation Case Conditions_Spec 2 : NA in Benzene_ppmw': 900.2714360167408}. Best is trial 44 with value: 46.92484269026042.\u001b[0m\n",
            "\u001b[32m[I 2021-04-26 08:51:09,344]\u001b[0m Trial 71 finished with value: 58.24515261312992 and parameters: {'Benzene Column C660 Operation_Column Temp Profile_C660 Tray 6 (SD & Control)_oC': 86.47602251808696, 'Benzene Column C660 Operation_Column Temp Profile_C660 Tray 23 (Control)_oC': 89.03199307065589, 'Simulation Case Conditions_Spec 2 : NA in Benzene_ppmw': 900.3275858235125}. Best is trial 44 with value: 46.92484269026042.\u001b[0m\n",
            "\u001b[32m[I 2021-04-26 08:51:09,425]\u001b[0m Trial 72 finished with value: 57.89163063018418 and parameters: {'Benzene Column C660 Operation_Column Temp Profile_C660 Tray 6 (SD & Control)_oC': 86.46988338997875, 'Benzene Column C660 Operation_Column Temp Profile_C660 Tray 23 (Control)_oC': 88.89789502066272, 'Simulation Case Conditions_Spec 2 : NA in Benzene_ppmw': 900.3119074580338}. Best is trial 44 with value: 46.92484269026042.\u001b[0m\n",
            "\u001b[32m[I 2021-04-26 08:51:09,508]\u001b[0m Trial 73 finished with value: 66.65223628089909 and parameters: {'Benzene Column C660 Operation_Column Temp Profile_C660 Tray 6 (SD & Control)_oC': 86.4679343664626, 'Benzene Column C660 Operation_Column Temp Profile_C660 Tray 23 (Control)_oC': 89.32154736520887, 'Simulation Case Conditions_Spec 2 : NA in Benzene_ppmw': 900.2012748800767}. Best is trial 44 with value: 46.92484269026042.\u001b[0m\n",
            "\u001b[32m[I 2021-04-26 08:51:09,596]\u001b[0m Trial 74 finished with value: 64.80368203230202 and parameters: {'Benzene Column C660 Operation_Column Temp Profile_C660 Tray 6 (SD & Control)_oC': 86.46365006358822, 'Benzene Column C660 Operation_Column Temp Profile_C660 Tray 23 (Control)_oC': 89.13748184113832, 'Simulation Case Conditions_Spec 2 : NA in Benzene_ppmw': 900.1480462257125}. Best is trial 44 with value: 46.92484269026042.\u001b[0m\n",
            "\u001b[32m[I 2021-04-26 08:51:09,671]\u001b[0m Trial 75 finished with value: 83.16292846884241 and parameters: {'Benzene Column C660 Operation_Column Temp Profile_C660 Tray 6 (SD & Control)_oC': 86.56286798536576, 'Benzene Column C660 Operation_Column Temp Profile_C660 Tray 23 (Control)_oC': 88.9244610399461, 'Simulation Case Conditions_Spec 2 : NA in Benzene_ppmw': 900.223914988354}. Best is trial 44 with value: 46.92484269026042.\u001b[0m\n",
            "\u001b[32m[I 2021-04-26 08:51:09,745]\u001b[0m Trial 76 finished with value: 58.73886354953831 and parameters: {'Benzene Column C660 Operation_Column Temp Profile_C660 Tray 6 (SD & Control)_oC': 86.52578896978054, 'Benzene Column C660 Operation_Column Temp Profile_C660 Tray 23 (Control)_oC': 88.88827328954376, 'Simulation Case Conditions_Spec 2 : NA in Benzene_ppmw': 900.3455343961317}. Best is trial 44 with value: 46.92484269026042.\u001b[0m\n",
            "\u001b[32m[I 2021-04-26 08:51:09,829]\u001b[0m Trial 77 finished with value: 48.97658644918721 and parameters: {'Benzene Column C660 Operation_Column Temp Profile_C660 Tray 6 (SD & Control)_oC': 86.51161917467033, 'Benzene Column C660 Operation_Column Temp Profile_C660 Tray 23 (Control)_oC': 89.24478617075863, 'Simulation Case Conditions_Spec 2 : NA in Benzene_ppmw': 900.411592820178}. Best is trial 44 with value: 46.92484269026042.\u001b[0m\n",
            "\u001b[32m[I 2021-04-26 08:51:09,911]\u001b[0m Trial 78 finished with value: 71.03107657803966 and parameters: {'Benzene Column C660 Operation_Column Temp Profile_C660 Tray 6 (SD & Control)_oC': 86.47502332909956, 'Benzene Column C660 Operation_Column Temp Profile_C660 Tray 23 (Control)_oC': 89.70521466619893, 'Simulation Case Conditions_Spec 2 : NA in Benzene_ppmw': 900.3125002801403}. Best is trial 44 with value: 46.92484269026042.\u001b[0m\n",
            "\u001b[32m[I 2021-04-26 08:51:09,992]\u001b[0m Trial 79 finished with value: 53.09270261884206 and parameters: {'Benzene Column C660 Operation_Column Temp Profile_C660 Tray 6 (SD & Control)_oC': 86.5021970638549, 'Benzene Column C660 Operation_Column Temp Profile_C660 Tray 23 (Control)_oC': 89.25944770358923, 'Simulation Case Conditions_Spec 2 : NA in Benzene_ppmw': 900.2636689527775}. Best is trial 44 with value: 46.92484269026042.\u001b[0m\n",
            "\u001b[32m[I 2021-04-26 08:51:10,071]\u001b[0m Trial 80 finished with value: 70.54636687803858 and parameters: {'Benzene Column C660 Operation_Column Temp Profile_C660 Tray 6 (SD & Control)_oC': 86.45103858959877, 'Benzene Column C660 Operation_Column Temp Profile_C660 Tray 23 (Control)_oC': 89.23687780442654, 'Simulation Case Conditions_Spec 2 : NA in Benzene_ppmw': 900.3508855294468}. Best is trial 44 with value: 46.92484269026042.\u001b[0m\n",
            "\u001b[32m[I 2021-04-26 08:51:10,152]\u001b[0m Trial 81 finished with value: 62.01658690142257 and parameters: {'Benzene Column C660 Operation_Column Temp Profile_C660 Tray 6 (SD & Control)_oC': 86.54001409495324, 'Benzene Column C660 Operation_Column Temp Profile_C660 Tray 23 (Control)_oC': 89.11145774438322, 'Simulation Case Conditions_Spec 2 : NA in Benzene_ppmw': 900.4804756881892}. Best is trial 44 with value: 46.92484269026042.\u001b[0m\n",
            "\u001b[32m[I 2021-04-26 08:51:10,231]\u001b[0m Trial 82 finished with value: 51.41482364856584 and parameters: {'Benzene Column C660 Operation_Column Temp Profile_C660 Tray 6 (SD & Control)_oC': 86.52123067405391, 'Benzene Column C660 Operation_Column Temp Profile_C660 Tray 23 (Control)_oC': 89.04440052189902, 'Simulation Case Conditions_Spec 2 : NA in Benzene_ppmw': 900.4211685893086}. Best is trial 44 with value: 46.92484269026042.\u001b[0m\n",
            "\u001b[32m[I 2021-04-26 08:51:10,313]\u001b[0m Trial 83 finished with value: 48.948873174140985 and parameters: {'Benzene Column C660 Operation_Column Temp Profile_C660 Tray 6 (SD & Control)_oC': 86.4990006153318, 'Benzene Column C660 Operation_Column Temp Profile_C660 Tray 23 (Control)_oC': 89.00644002184949, 'Simulation Case Conditions_Spec 2 : NA in Benzene_ppmw': 900.4271263230066}. Best is trial 44 with value: 46.92484269026042.\u001b[0m\n",
            "\u001b[32m[I 2021-04-26 08:51:10,399]\u001b[0m Trial 84 finished with value: 60.25476415975616 and parameters: {'Benzene Column C660 Operation_Column Temp Profile_C660 Tray 6 (SD & Control)_oC': 86.53741951829407, 'Benzene Column C660 Operation_Column Temp Profile_C660 Tray 23 (Control)_oC': 89.11294440775144, 'Simulation Case Conditions_Spec 2 : NA in Benzene_ppmw': 900.3891632957457}. Best is trial 44 with value: 46.92484269026042.\u001b[0m\n",
            "\u001b[32m[I 2021-04-26 08:51:10,483]\u001b[0m Trial 85 finished with value: 60.5062908623285 and parameters: {'Benzene Column C660 Operation_Column Temp Profile_C660 Tray 6 (SD & Control)_oC': 86.47284052559098, 'Benzene Column C660 Operation_Column Temp Profile_C660 Tray 23 (Control)_oC': 89.08513641451401, 'Simulation Case Conditions_Spec 2 : NA in Benzene_ppmw': 900.2438220463941}. Best is trial 44 with value: 46.92484269026042.\u001b[0m\n",
            "\u001b[32m[I 2021-04-26 08:51:10,564]\u001b[0m Trial 86 finished with value: 52.43063996060628 and parameters: {'Benzene Column C660 Operation_Column Temp Profile_C660 Tray 6 (SD & Control)_oC': 86.4965068496716, 'Benzene Column C660 Operation_Column Temp Profile_C660 Tray 23 (Control)_oC': 89.13386519644932, 'Simulation Case Conditions_Spec 2 : NA in Benzene_ppmw': 900.5116798524591}. Best is trial 44 with value: 46.92484269026042.\u001b[0m\n",
            "\u001b[32m[I 2021-04-26 08:51:10,644]\u001b[0m Trial 87 finished with value: 47.52385068577962 and parameters: {'Benzene Column C660 Operation_Column Temp Profile_C660 Tray 6 (SD & Control)_oC': 86.51699597703838, 'Benzene Column C660 Operation_Column Temp Profile_C660 Tray 23 (Control)_oC': 89.08750506230857, 'Simulation Case Conditions_Spec 2 : NA in Benzene_ppmw': 900.2892783729596}. Best is trial 44 with value: 46.92484269026042.\u001b[0m\n",
            "\u001b[32m[I 2021-04-26 08:51:10,723]\u001b[0m Trial 88 finished with value: 64.20833684311975 and parameters: {'Benzene Column C660 Operation_Column Temp Profile_C660 Tray 6 (SD & Control)_oC': 86.48900532393837, 'Benzene Column C660 Operation_Column Temp Profile_C660 Tray 23 (Control)_oC': 89.58231926449658, 'Simulation Case Conditions_Spec 2 : NA in Benzene_ppmw': 900.235509054774}. Best is trial 44 with value: 46.92484269026042.\u001b[0m\n",
            "\u001b[32m[I 2021-04-26 08:51:10,809]\u001b[0m Trial 89 finished with value: 53.862824857751306 and parameters: {'Benzene Column C660 Operation_Column Temp Profile_C660 Tray 6 (SD & Control)_oC': 86.50636740720016, 'Benzene Column C660 Operation_Column Temp Profile_C660 Tray 23 (Control)_oC': 88.59535604226134, 'Simulation Case Conditions_Spec 2 : NA in Benzene_ppmw': 900.6534839658576}. Best is trial 44 with value: 46.92484269026042.\u001b[0m\n",
            "\u001b[32m[I 2021-04-26 08:51:10,893]\u001b[0m Trial 90 finished with value: 59.723360522267825 and parameters: {'Benzene Column C660 Operation_Column Temp Profile_C660 Tray 6 (SD & Control)_oC': 86.53260106518083, 'Benzene Column C660 Operation_Column Temp Profile_C660 Tray 23 (Control)_oC': 89.0147008538574, 'Simulation Case Conditions_Spec 2 : NA in Benzene_ppmw': 900.574880244409}. Best is trial 44 with value: 46.92484269026042.\u001b[0m\n",
            "\u001b[32m[I 2021-04-26 08:51:10,981]\u001b[0m Trial 91 finished with value: 55.21764458282026 and parameters: {'Benzene Column C660 Operation_Column Temp Profile_C660 Tray 6 (SD & Control)_oC': 86.5048169140768, 'Benzene Column C660 Operation_Column Temp Profile_C660 Tray 23 (Control)_oC': 89.4156172625018, 'Simulation Case Conditions_Spec 2 : NA in Benzene_ppmw': 900.2887136142532}. Best is trial 44 with value: 46.92484269026042.\u001b[0m\n",
            "\u001b[32m[I 2021-04-26 08:51:11,064]\u001b[0m Trial 92 finished with value: 61.832395303503915 and parameters: {'Benzene Column C660 Operation_Column Temp Profile_C660 Tray 6 (SD & Control)_oC': 86.53690596409545, 'Benzene Column C660 Operation_Column Temp Profile_C660 Tray 23 (Control)_oC': 89.043812871304, 'Simulation Case Conditions_Spec 2 : NA in Benzene_ppmw': 900.4234699623846}. Best is trial 44 with value: 46.92484269026042.\u001b[0m\n",
            "\u001b[32m[I 2021-04-26 08:51:11,154]\u001b[0m Trial 93 finished with value: 59.99176348593506 and parameters: {'Benzene Column C660 Operation_Column Temp Profile_C660 Tray 6 (SD & Control)_oC': 86.53594355678786, 'Benzene Column C660 Operation_Column Temp Profile_C660 Tray 23 (Control)_oC': 89.08645015587499, 'Simulation Case Conditions_Spec 2 : NA in Benzene_ppmw': 900.4460172867368}. Best is trial 44 with value: 46.92484269026042.\u001b[0m\n",
            "\u001b[32m[I 2021-04-26 08:51:11,245]\u001b[0m Trial 94 finished with value: 51.300385847555134 and parameters: {'Benzene Column C660 Operation_Column Temp Profile_C660 Tray 6 (SD & Control)_oC': 86.50223655567706, 'Benzene Column C660 Operation_Column Temp Profile_C660 Tray 23 (Control)_oC': 89.18364655940064, 'Simulation Case Conditions_Spec 2 : NA in Benzene_ppmw': 900.4666413538903}. Best is trial 44 with value: 46.92484269026042.\u001b[0m\n",
            "\u001b[32m[I 2021-04-26 08:51:11,330]\u001b[0m Trial 95 finished with value: 52.50637435185509 and parameters: {'Benzene Column C660 Operation_Column Temp Profile_C660 Tray 6 (SD & Control)_oC': 86.48402191888712, 'Benzene Column C660 Operation_Column Temp Profile_C660 Tray 23 (Control)_oC': 88.8916252428087, 'Simulation Case Conditions_Spec 2 : NA in Benzene_ppmw': 900.313940315973}. Best is trial 44 with value: 46.92484269026042.\u001b[0m\n",
            "\u001b[32m[I 2021-04-26 08:51:11,415]\u001b[0m Trial 96 finished with value: 56.00773309220673 and parameters: {'Benzene Column C660 Operation_Column Temp Profile_C660 Tray 6 (SD & Control)_oC': 86.48612446517548, 'Benzene Column C660 Operation_Column Temp Profile_C660 Tray 23 (Control)_oC': 89.11729251037168, 'Simulation Case Conditions_Spec 2 : NA in Benzene_ppmw': 900.5062213904719}. Best is trial 44 with value: 46.92484269026042.\u001b[0m\n",
            "\u001b[32m[I 2021-04-26 08:51:11,509]\u001b[0m Trial 97 finished with value: 47.12448452872734 and parameters: {'Benzene Column C660 Operation_Column Temp Profile_C660 Tray 6 (SD & Control)_oC': 86.49480872588022, 'Benzene Column C660 Operation_Column Temp Profile_C660 Tray 23 (Control)_oC': 88.83594360845575, 'Simulation Case Conditions_Spec 2 : NA in Benzene_ppmw': 900.355355187655}. Best is trial 44 with value: 46.92484269026042.\u001b[0m\n",
            "\u001b[32m[I 2021-04-26 08:51:11,597]\u001b[0m Trial 98 finished with value: 52.8026389459706 and parameters: {'Benzene Column C660 Operation_Column Temp Profile_C660 Tray 6 (SD & Control)_oC': 86.53204949166653, 'Benzene Column C660 Operation_Column Temp Profile_C660 Tray 23 (Control)_oC': 89.25324591467411, 'Simulation Case Conditions_Spec 2 : NA in Benzene_ppmw': 900.4794547175741}. Best is trial 44 with value: 46.92484269026042.\u001b[0m\n",
            "\u001b[32m[I 2021-04-26 08:51:11,679]\u001b[0m Trial 99 finished with value: 53.68877673232331 and parameters: {'Benzene Column C660 Operation_Column Temp Profile_C660 Tray 6 (SD & Control)_oC': 86.4885696011049, 'Benzene Column C660 Operation_Column Temp Profile_C660 Tray 23 (Control)_oC': 89.04608863305828, 'Simulation Case Conditions_Spec 2 : NA in Benzene_ppmw': 900.4950498468721}. Best is trial 44 with value: 46.92484269026042.\u001b[0m\n",
            "\u001b[32m[I 2021-04-26 08:51:11,771]\u001b[0m Trial 100 finished with value: 47.278250703406435 and parameters: {'Benzene Column C660 Operation_Column Temp Profile_C660 Tray 6 (SD & Control)_oC': 86.50512841623679, 'Benzene Column C660 Operation_Column Temp Profile_C660 Tray 23 (Control)_oC': 88.81071477742341, 'Simulation Case Conditions_Spec 2 : NA in Benzene_ppmw': 900.3197450359236}. Best is trial 44 with value: 46.92484269026042.\u001b[0m\n",
            "\u001b[32m[I 2021-04-26 08:51:11,858]\u001b[0m Trial 101 finished with value: 48.881811509114755 and parameters: {'Benzene Column C660 Operation_Column Temp Profile_C660 Tray 6 (SD & Control)_oC': 86.51528982891578, 'Benzene Column C660 Operation_Column Temp Profile_C660 Tray 23 (Control)_oC': 88.99547453703435, 'Simulation Case Conditions_Spec 2 : NA in Benzene_ppmw': 900.3539026580731}. Best is trial 44 with value: 46.92484269026042.\u001b[0m\n",
            "\u001b[32m[I 2021-04-26 08:51:11,943]\u001b[0m Trial 102 finished with value: 60.97308186191796 and parameters: {'Benzene Column C660 Operation_Column Temp Profile_C660 Tray 6 (SD & Control)_oC': 86.45678126674595, 'Benzene Column C660 Operation_Column Temp Profile_C660 Tray 23 (Control)_oC': 88.81872607589368, 'Simulation Case Conditions_Spec 2 : NA in Benzene_ppmw': 900.3960856090345}. Best is trial 44 with value: 46.92484269026042.\u001b[0m\n",
            "\u001b[32m[I 2021-04-26 08:51:12,029]\u001b[0m Trial 103 finished with value: 51.50258399297288 and parameters: {'Benzene Column C660 Operation_Column Temp Profile_C660 Tray 6 (SD & Control)_oC': 86.51588915733883, 'Benzene Column C660 Operation_Column Temp Profile_C660 Tray 23 (Control)_oC': 88.9134329179151, 'Simulation Case Conditions_Spec 2 : NA in Benzene_ppmw': 900.3362687882577}. Best is trial 44 with value: 46.92484269026042.\u001b[0m\n",
            "\u001b[32m[I 2021-04-26 08:51:12,115]\u001b[0m Trial 104 finished with value: 60.217027585225274 and parameters: {'Benzene Column C660 Operation_Column Temp Profile_C660 Tray 6 (SD & Control)_oC': 86.47316584900676, 'Benzene Column C660 Operation_Column Temp Profile_C660 Tray 23 (Control)_oC': 89.09337366571573, 'Simulation Case Conditions_Spec 2 : NA in Benzene_ppmw': 900.5369274189777}. Best is trial 44 with value: 46.92484269026042.\u001b[0m\n",
            "\u001b[32m[I 2021-04-26 08:51:12,202]\u001b[0m Trial 105 finished with value: 49.90019757170632 and parameters: {'Benzene Column C660 Operation_Column Temp Profile_C660 Tray 6 (SD & Control)_oC': 86.49436042359469, 'Benzene Column C660 Operation_Column Temp Profile_C660 Tray 23 (Control)_oC': 88.96221741011429, 'Simulation Case Conditions_Spec 2 : NA in Benzene_ppmw': 900.3778838351208}. Best is trial 44 with value: 46.92484269026042.\u001b[0m\n",
            "\u001b[32m[I 2021-04-26 08:51:12,294]\u001b[0m Trial 106 finished with value: 46.638648226294016 and parameters: {'Benzene Column C660 Operation_Column Temp Profile_C660 Tray 6 (SD & Control)_oC': 86.50182511857352, 'Benzene Column C660 Operation_Column Temp Profile_C660 Tray 23 (Control)_oC': 88.9407995915251, 'Simulation Case Conditions_Spec 2 : NA in Benzene_ppmw': 900.2735004760613}. Best is trial 106 with value: 46.638648226294016.\u001b[0m\n",
            "\u001b[32m[I 2021-04-26 08:51:12,385]\u001b[0m Trial 107 finished with value: 46.00209446833529 and parameters: {'Benzene Column C660 Operation_Column Temp Profile_C660 Tray 6 (SD & Control)_oC': 86.49902742721552, 'Benzene Column C660 Operation_Column Temp Profile_C660 Tray 23 (Control)_oC': 88.85917928382034, 'Simulation Case Conditions_Spec 2 : NA in Benzene_ppmw': 900.2985316601557}. Best is trial 107 with value: 46.00209446833529.\u001b[0m\n",
            "\u001b[32m[I 2021-04-26 08:51:12,470]\u001b[0m Trial 108 finished with value: 46.51149104667791 and parameters: {'Benzene Column C660 Operation_Column Temp Profile_C660 Tray 6 (SD & Control)_oC': 86.50150279349474, 'Benzene Column C660 Operation_Column Temp Profile_C660 Tray 23 (Control)_oC': 88.75219146791652, 'Simulation Case Conditions_Spec 2 : NA in Benzene_ppmw': 900.2967236783828}. Best is trial 107 with value: 46.00209446833529.\u001b[0m\n",
            "\u001b[32m[I 2021-04-26 08:51:12,546]\u001b[0m Trial 109 finished with value: 56.16650290033189 and parameters: {'Benzene Column C660 Operation_Column Temp Profile_C660 Tray 6 (SD & Control)_oC': 86.51580695418144, 'Benzene Column C660 Operation_Column Temp Profile_C660 Tray 23 (Control)_oC': 88.74132306658905, 'Simulation Case Conditions_Spec 2 : NA in Benzene_ppmw': 900.3362565247135}. Best is trial 107 with value: 46.00209446833529.\u001b[0m\n",
            "\u001b[32m[I 2021-04-26 08:51:12,635]\u001b[0m Trial 110 finished with value: 44.823815643488174 and parameters: {'Benzene Column C660 Operation_Column Temp Profile_C660 Tray 6 (SD & Control)_oC': 86.49746596722886, 'Benzene Column C660 Operation_Column Temp Profile_C660 Tray 23 (Control)_oC': 88.71683891029656, 'Simulation Case Conditions_Spec 2 : NA in Benzene_ppmw': 900.4237027836091}. Best is trial 110 with value: 44.823815643488174.\u001b[0m\n",
            "\u001b[32m[I 2021-04-26 08:51:12,727]\u001b[0m Trial 111 finished with value: 69.16208368407732 and parameters: {'Benzene Column C660 Operation_Column Temp Profile_C660 Tray 6 (SD & Control)_oC': 86.54339268787014, 'Benzene Column C660 Operation_Column Temp Profile_C660 Tray 23 (Control)_oC': 88.94181660637668, 'Simulation Case Conditions_Spec 2 : NA in Benzene_ppmw': 900.1840214179633}. Best is trial 110 with value: 44.823815643488174.\u001b[0m\n",
            "\u001b[32m[I 2021-04-26 08:51:12,808]\u001b[0m Trial 112 finished with value: 46.79333723233786 and parameters: {'Benzene Column C660 Operation_Column Temp Profile_C660 Tray 6 (SD & Control)_oC': 86.5091564496662, 'Benzene Column C660 Operation_Column Temp Profile_C660 Tray 23 (Control)_oC': 88.92445734421283, 'Simulation Case Conditions_Spec 2 : NA in Benzene_ppmw': 900.4545865593229}. Best is trial 110 with value: 44.823815643488174.\u001b[0m\n",
            "\u001b[32m[I 2021-04-26 08:51:12,892]\u001b[0m Trial 113 finished with value: 47.282898986826474 and parameters: {'Benzene Column C660 Operation_Column Temp Profile_C660 Tray 6 (SD & Control)_oC': 86.49816669037368, 'Benzene Column C660 Operation_Column Temp Profile_C660 Tray 23 (Control)_oC': 88.64342833975921, 'Simulation Case Conditions_Spec 2 : NA in Benzene_ppmw': 900.2750294424178}. Best is trial 110 with value: 44.823815643488174.\u001b[0m\n",
            "\u001b[32m[I 2021-04-26 08:51:12,974]\u001b[0m Trial 114 finished with value: 45.542611850802885 and parameters: {'Benzene Column C660 Operation_Column Temp Profile_C660 Tray 6 (SD & Control)_oC': 86.50806365323, 'Benzene Column C660 Operation_Column Temp Profile_C660 Tray 23 (Control)_oC': 88.94455689555325, 'Simulation Case Conditions_Spec 2 : NA in Benzene_ppmw': 900.4793914490173}. Best is trial 110 with value: 44.823815643488174.\u001b[0m\n",
            "\u001b[32m[I 2021-04-26 08:51:13,055]\u001b[0m Trial 115 finished with value: 47.72518927282842 and parameters: {'Benzene Column C660 Operation_Column Temp Profile_C660 Tray 6 (SD & Control)_oC': 86.50557021956776, 'Benzene Column C660 Operation_Column Temp Profile_C660 Tray 23 (Control)_oC': 88.80487115067491, 'Simulation Case Conditions_Spec 2 : NA in Benzene_ppmw': 900.3066418767892}. Best is trial 110 with value: 44.823815643488174.\u001b[0m\n",
            "\u001b[32m[I 2021-04-26 08:51:13,135]\u001b[0m Trial 116 finished with value: 44.61484423227266 and parameters: {'Benzene Column C660 Operation_Column Temp Profile_C660 Tray 6 (SD & Control)_oC': 86.49971029686508, 'Benzene Column C660 Operation_Column Temp Profile_C660 Tray 23 (Control)_oC': 88.7790292841958, 'Simulation Case Conditions_Spec 2 : NA in Benzene_ppmw': 900.3867162882349}. Best is trial 116 with value: 44.61484423227266.\u001b[0m\n",
            "\u001b[32m[I 2021-04-26 08:51:13,215]\u001b[0m Trial 117 finished with value: 46.61783346704844 and parameters: {'Benzene Column C660 Operation_Column Temp Profile_C660 Tray 6 (SD & Control)_oC': 86.49981079285898, 'Benzene Column C660 Operation_Column Temp Profile_C660 Tray 23 (Control)_oC': 88.90718843893953, 'Simulation Case Conditions_Spec 2 : NA in Benzene_ppmw': 900.3718439536472}. Best is trial 116 with value: 44.61484423227266.\u001b[0m\n",
            "\u001b[32m[I 2021-04-26 08:51:13,290]\u001b[0m Trial 118 finished with value: 45.953306969391576 and parameters: {'Benzene Column C660 Operation_Column Temp Profile_C660 Tray 6 (SD & Control)_oC': 86.48861503140506, 'Benzene Column C660 Operation_Column Temp Profile_C660 Tray 23 (Control)_oC': 88.6715073043845, 'Simulation Case Conditions_Spec 2 : NA in Benzene_ppmw': 900.5048910120162}. Best is trial 116 with value: 44.61484423227266.\u001b[0m\n",
            "\u001b[32m[I 2021-04-26 08:51:13,370]\u001b[0m Trial 119 finished with value: 49.43410540538274 and parameters: {'Benzene Column C660 Operation_Column Temp Profile_C660 Tray 6 (SD & Control)_oC': 86.49763386436115, 'Benzene Column C660 Operation_Column Temp Profile_C660 Tray 23 (Control)_oC': 88.54947572919026, 'Simulation Case Conditions_Spec 2 : NA in Benzene_ppmw': 900.4425307130637}. Best is trial 116 with value: 44.61484423227266.\u001b[0m\n",
            "\u001b[32m[I 2021-04-26 08:51:13,455]\u001b[0m Trial 120 finished with value: 49.63300147066943 and parameters: {'Benzene Column C660 Operation_Column Temp Profile_C660 Tray 6 (SD & Control)_oC': 86.50701468835364, 'Benzene Column C660 Operation_Column Temp Profile_C660 Tray 23 (Control)_oC': 88.76801635278647, 'Simulation Case Conditions_Spec 2 : NA in Benzene_ppmw': 900.4191190626753}. Best is trial 116 with value: 44.61484423227266.\u001b[0m\n",
            "\u001b[32m[I 2021-04-26 08:51:13,545]\u001b[0m Trial 121 finished with value: 47.8979049332836 and parameters: {'Benzene Column C660 Operation_Column Temp Profile_C660 Tray 6 (SD & Control)_oC': 86.47610575390519, 'Benzene Column C660 Operation_Column Temp Profile_C660 Tray 23 (Control)_oC': 88.52896846197886, 'Simulation Case Conditions_Spec 2 : NA in Benzene_ppmw': 900.5170901357501}. Best is trial 116 with value: 44.61484423227266.\u001b[0m\n",
            "\u001b[32m[I 2021-04-26 08:51:13,631]\u001b[0m Trial 122 finished with value: 45.455719955763314 and parameters: {'Benzene Column C660 Operation_Column Temp Profile_C660 Tray 6 (SD & Control)_oC': 86.50641242019854, 'Benzene Column C660 Operation_Column Temp Profile_C660 Tray 23 (Control)_oC': 88.9802715403705, 'Simulation Case Conditions_Spec 2 : NA in Benzene_ppmw': 900.4323059463985}. Best is trial 116 with value: 44.61484423227266.\u001b[0m\n",
            "\u001b[32m[I 2021-04-26 08:51:13,712]\u001b[0m Trial 123 finished with value: 46.00717810932072 and parameters: {'Benzene Column C660 Operation_Column Temp Profile_C660 Tray 6 (SD & Control)_oC': 86.49708970002293, 'Benzene Column C660 Operation_Column Temp Profile_C660 Tray 23 (Control)_oC': 88.83962979361529, 'Simulation Case Conditions_Spec 2 : NA in Benzene_ppmw': 900.6041259273295}. Best is trial 116 with value: 44.61484423227266.\u001b[0m\n",
            "\u001b[32m[I 2021-04-26 08:51:13,805]\u001b[0m Trial 124 finished with value: 57.34978856036732 and parameters: {'Benzene Column C660 Operation_Column Temp Profile_C660 Tray 6 (SD & Control)_oC': 86.52156103094794, 'Benzene Column C660 Operation_Column Temp Profile_C660 Tray 23 (Control)_oC': 88.83668860111483, 'Simulation Case Conditions_Spec 2 : NA in Benzene_ppmw': 900.3527633153413}. Best is trial 116 with value: 44.61484423227266.\u001b[0m\n",
            "\u001b[32m[I 2021-04-26 08:51:13,894]\u001b[0m Trial 125 finished with value: 45.315883921830604 and parameters: {'Benzene Column C660 Operation_Column Temp Profile_C660 Tray 6 (SD & Control)_oC': 86.49577828164635, 'Benzene Column C660 Operation_Column Temp Profile_C660 Tray 23 (Control)_oC': 88.65812576805246, 'Simulation Case Conditions_Spec 2 : NA in Benzene_ppmw': 900.39175151287}. Best is trial 116 with value: 44.61484423227266.\u001b[0m\n",
            "\u001b[32m[I 2021-04-26 08:51:13,981]\u001b[0m Trial 126 finished with value: 51.089742637465775 and parameters: {'Benzene Column C660 Operation_Column Temp Profile_C660 Tray 6 (SD & Control)_oC': 86.51006116150432, 'Benzene Column C660 Operation_Column Temp Profile_C660 Tray 23 (Control)_oC': 88.78841215321758, 'Simulation Case Conditions_Spec 2 : NA in Benzene_ppmw': 900.3353080788893}. Best is trial 116 with value: 44.61484423227266.\u001b[0m\n",
            "\u001b[32m[I 2021-04-26 08:51:14,060]\u001b[0m Trial 127 finished with value: 47.01581452360785 and parameters: {'Benzene Column C660 Operation_Column Temp Profile_C660 Tray 6 (SD & Control)_oC': 86.4847195153426, 'Benzene Column C660 Operation_Column Temp Profile_C660 Tray 23 (Control)_oC': 88.64348778362269, 'Simulation Case Conditions_Spec 2 : NA in Benzene_ppmw': 900.4136262557043}. Best is trial 116 with value: 44.61484423227266.\u001b[0m\n",
            "\u001b[32m[I 2021-04-26 08:51:14,143]\u001b[0m Trial 128 finished with value: 49.96438938856878 and parameters: {'Benzene Column C660 Operation_Column Temp Profile_C660 Tray 6 (SD & Control)_oC': 86.50985727579987, 'Benzene Column C660 Operation_Column Temp Profile_C660 Tray 23 (Control)_oC': 88.82381395028726, 'Simulation Case Conditions_Spec 2 : NA in Benzene_ppmw': 900.4602555439861}. Best is trial 116 with value: 44.61484423227266.\u001b[0m\n",
            "\u001b[32m[I 2021-04-26 08:51:14,227]\u001b[0m Trial 129 finished with value: 45.98600551706801 and parameters: {'Benzene Column C660 Operation_Column Temp Profile_C660 Tray 6 (SD & Control)_oC': 86.50877335044065, 'Benzene Column C660 Operation_Column Temp Profile_C660 Tray 23 (Control)_oC': 88.94493436491429, 'Simulation Case Conditions_Spec 2 : NA in Benzene_ppmw': 900.4958845585805}. Best is trial 116 with value: 44.61484423227266.\u001b[0m\n",
            "\u001b[32m[I 2021-04-26 08:51:14,316]\u001b[0m Trial 130 finished with value: 46.44380794423612 and parameters: {'Benzene Column C660 Operation_Column Temp Profile_C660 Tray 6 (SD & Control)_oC': 86.49739125168374, 'Benzene Column C660 Operation_Column Temp Profile_C660 Tray 23 (Control)_oC': 88.65457538632197, 'Simulation Case Conditions_Spec 2 : NA in Benzene_ppmw': 900.4254295453238}. Best is trial 116 with value: 44.61484423227266.\u001b[0m\n",
            "\u001b[32m[I 2021-04-26 08:51:14,403]\u001b[0m Trial 131 finished with value: 46.31456296151368 and parameters: {'Benzene Column C660 Operation_Column Temp Profile_C660 Tray 6 (SD & Control)_oC': 86.50742403185991, 'Benzene Column C660 Operation_Column Temp Profile_C660 Tray 23 (Control)_oC': 88.90175890470194, 'Simulation Case Conditions_Spec 2 : NA in Benzene_ppmw': 900.3284682449873}. Best is trial 116 with value: 44.61484423227266.\u001b[0m\n",
            "\u001b[32m[I 2021-04-26 08:51:14,505]\u001b[0m Trial 132 finished with value: 48.36230287452357 and parameters: {'Benzene Column C660 Operation_Column Temp Profile_C660 Tray 6 (SD & Control)_oC': 86.50457785345391, 'Benzene Column C660 Operation_Column Temp Profile_C660 Tray 23 (Control)_oC': 88.75658498657347, 'Simulation Case Conditions_Spec 2 : NA in Benzene_ppmw': 900.3929125772786}. Best is trial 116 with value: 44.61484423227266.\u001b[0m\n",
            "\u001b[32m[I 2021-04-26 08:51:14,601]\u001b[0m Trial 133 finished with value: 47.040058123164094 and parameters: {'Benzene Column C660 Operation_Column Temp Profile_C660 Tray 6 (SD & Control)_oC': 86.50553722371012, 'Benzene Column C660 Operation_Column Temp Profile_C660 Tray 23 (Control)_oC': 88.82916588896977, 'Simulation Case Conditions_Spec 2 : NA in Benzene_ppmw': 900.3458749012375}. Best is trial 116 with value: 44.61484423227266.\u001b[0m\n",
            "\u001b[32m[I 2021-04-26 08:51:14,697]\u001b[0m Trial 134 finished with value: 46.53315533978748 and parameters: {'Benzene Column C660 Operation_Column Temp Profile_C660 Tray 6 (SD & Control)_oC': 86.51277611439401, 'Benzene Column C660 Operation_Column Temp Profile_C660 Tray 23 (Control)_oC': 89.02188352826816, 'Simulation Case Conditions_Spec 2 : NA in Benzene_ppmw': 900.3886931840601}. Best is trial 116 with value: 44.61484423227266.\u001b[0m\n",
            "\u001b[32m[I 2021-04-26 08:51:14,778]\u001b[0m Trial 135 finished with value: 45.099541325552174 and parameters: {'Benzene Column C660 Operation_Column Temp Profile_C660 Tray 6 (SD & Control)_oC': 86.5055651159302, 'Benzene Column C660 Operation_Column Temp Profile_C660 Tray 23 (Control)_oC': 88.95107024994937, 'Simulation Case Conditions_Spec 2 : NA in Benzene_ppmw': 900.4974212676874}. Best is trial 116 with value: 44.61484423227266.\u001b[0m\n",
            "\u001b[32m[I 2021-04-26 08:51:14,864]\u001b[0m Trial 136 finished with value: 50.006080121636614 and parameters: {'Benzene Column C660 Operation_Column Temp Profile_C660 Tray 6 (SD & Control)_oC': 86.49156975644199, 'Benzene Column C660 Operation_Column Temp Profile_C660 Tray 23 (Control)_oC': 88.91761237425416, 'Simulation Case Conditions_Spec 2 : NA in Benzene_ppmw': 900.4284224573169}. Best is trial 116 with value: 44.61484423227266.\u001b[0m\n",
            "\u001b[32m[I 2021-04-26 08:51:14,948]\u001b[0m Trial 137 finished with value: 45.3528522385124 and parameters: {'Benzene Column C660 Operation_Column Temp Profile_C660 Tray 6 (SD & Control)_oC': 86.51040544050893, 'Benzene Column C660 Operation_Column Temp Profile_C660 Tray 23 (Control)_oC': 89.0081683440273, 'Simulation Case Conditions_Spec 2 : NA in Benzene_ppmw': 900.4642805732528}. Best is trial 116 with value: 44.61484423227266.\u001b[0m\n",
            "\u001b[32m[I 2021-04-26 08:51:15,036]\u001b[0m Trial 138 finished with value: 45.04206953793669 and parameters: {'Benzene Column C660 Operation_Column Temp Profile_C660 Tray 6 (SD & Control)_oC': 86.4980645671325, 'Benzene Column C660 Operation_Column Temp Profile_C660 Tray 23 (Control)_oC': 88.72250779150322, 'Simulation Case Conditions_Spec 2 : NA in Benzene_ppmw': 900.485495056154}. Best is trial 116 with value: 44.61484423227266.\u001b[0m\n",
            "\u001b[32m[I 2021-04-26 08:51:15,122]\u001b[0m Trial 139 finished with value: 49.26413721505787 and parameters: {'Benzene Column C660 Operation_Column Temp Profile_C660 Tray 6 (SD & Control)_oC': 86.49395184459313, 'Benzene Column C660 Operation_Column Temp Profile_C660 Tray 23 (Control)_oC': 88.92228520776479, 'Simulation Case Conditions_Spec 2 : NA in Benzene_ppmw': 900.3520025705558}. Best is trial 116 with value: 44.61484423227266.\u001b[0m\n",
            "\u001b[32m[I 2021-04-26 08:51:15,218]\u001b[0m Trial 140 finished with value: 50.17322993695689 and parameters: {'Benzene Column C660 Operation_Column Temp Profile_C660 Tray 6 (SD & Control)_oC': 86.51741890887679, 'Benzene Column C660 Operation_Column Temp Profile_C660 Tray 23 (Control)_oC': 88.99805175860268, 'Simulation Case Conditions_Spec 2 : NA in Benzene_ppmw': 900.4593779938438}. Best is trial 116 with value: 44.61484423227266.\u001b[0m\n",
            "\u001b[32m[I 2021-04-26 08:51:15,306]\u001b[0m Trial 141 finished with value: 47.3084546449086 and parameters: {'Benzene Column C660 Operation_Column Temp Profile_C660 Tray 6 (SD & Control)_oC': 86.51083875470579, 'Benzene Column C660 Operation_Column Temp Profile_C660 Tray 23 (Control)_oC': 88.94624988139446, 'Simulation Case Conditions_Spec 2 : NA in Benzene_ppmw': 900.4044751153176}. Best is trial 116 with value: 44.61484423227266.\u001b[0m\n",
            "\u001b[32m[I 2021-04-26 08:51:15,389]\u001b[0m Trial 142 finished with value: 44.6446813584037 and parameters: {'Benzene Column C660 Operation_Column Temp Profile_C660 Tray 6 (SD & Control)_oC': 86.49630016524912, 'Benzene Column C660 Operation_Column Temp Profile_C660 Tray 23 (Control)_oC': 88.75475626423204, 'Simulation Case Conditions_Spec 2 : NA in Benzene_ppmw': 900.5013943369677}. Best is trial 116 with value: 44.61484423227266.\u001b[0m\n",
            "\u001b[32m[I 2021-04-26 08:51:15,480]\u001b[0m Trial 143 finished with value: 50.04119873434033 and parameters: {'Benzene Column C660 Operation_Column Temp Profile_C660 Tray 6 (SD & Control)_oC': 86.50728391821934, 'Benzene Column C660 Operation_Column Temp Profile_C660 Tray 23 (Control)_oC': 88.75906015683476, 'Simulation Case Conditions_Spec 2 : NA in Benzene_ppmw': 900.4617302012782}. Best is trial 116 with value: 44.61484423227266.\u001b[0m\n",
            "\u001b[32m[I 2021-04-26 08:51:15,568]\u001b[0m Trial 144 finished with value: 46.672513488385356 and parameters: {'Benzene Column C660 Operation_Column Temp Profile_C660 Tray 6 (SD & Control)_oC': 86.48267213574265, 'Benzene Column C660 Operation_Column Temp Profile_C660 Tray 23 (Control)_oC': 88.58599682128262, 'Simulation Case Conditions_Spec 2 : NA in Benzene_ppmw': 900.3696564389737}. Best is trial 116 with value: 44.61484423227266.\u001b[0m\n",
            "\u001b[32m[I 2021-04-26 08:51:15,648]\u001b[0m Trial 145 finished with value: 43.95153727362714 and parameters: {'Benzene Column C660 Operation_Column Temp Profile_C660 Tray 6 (SD & Control)_oC': 86.48956261968455, 'Benzene Column C660 Operation_Column Temp Profile_C660 Tray 23 (Control)_oC': 88.59378417800588, 'Simulation Case Conditions_Spec 2 : NA in Benzene_ppmw': 900.4832009136717}. Best is trial 145 with value: 43.95153727362714.\u001b[0m\n",
            "\u001b[32m[I 2021-04-26 08:51:15,733]\u001b[0m Trial 146 finished with value: 46.6053243458579 and parameters: {'Benzene Column C660 Operation_Column Temp Profile_C660 Tray 6 (SD & Control)_oC': 86.4935348769946, 'Benzene Column C660 Operation_Column Temp Profile_C660 Tray 23 (Control)_oC': 88.79512786656146, 'Simulation Case Conditions_Spec 2 : NA in Benzene_ppmw': 900.4995176376536}. Best is trial 145 with value: 43.95153727362714.\u001b[0m\n",
            "\u001b[32m[I 2021-04-26 08:51:15,819]\u001b[0m Trial 147 finished with value: 46.80394119947675 and parameters: {'Benzene Column C660 Operation_Column Temp Profile_C660 Tray 6 (SD & Control)_oC': 86.50166193774955, 'Benzene Column C660 Operation_Column Temp Profile_C660 Tray 23 (Control)_oC': 88.74395810598041, 'Simulation Case Conditions_Spec 2 : NA in Benzene_ppmw': 900.4246409826991}. Best is trial 145 with value: 43.95153727362714.\u001b[0m\n",
            "\u001b[32m[I 2021-04-26 08:51:15,914]\u001b[0m Trial 148 finished with value: 47.12142507823141 and parameters: {'Benzene Column C660 Operation_Column Temp Profile_C660 Tray 6 (SD & Control)_oC': 86.49310197916145, 'Benzene Column C660 Operation_Column Temp Profile_C660 Tray 23 (Control)_oC': 88.52488797119653, 'Simulation Case Conditions_Spec 2 : NA in Benzene_ppmw': 900.5658186013328}. Best is trial 145 with value: 43.95153727362714.\u001b[0m\n",
            "\u001b[32m[I 2021-04-26 08:51:16,001]\u001b[0m Trial 149 finished with value: 44.79666618442721 and parameters: {'Benzene Column C660 Operation_Column Temp Profile_C660 Tray 6 (SD & Control)_oC': 86.49652480573894, 'Benzene Column C660 Operation_Column Temp Profile_C660 Tray 23 (Control)_oC': 88.76991646585664, 'Simulation Case Conditions_Spec 2 : NA in Benzene_ppmw': 900.570155165551}. Best is trial 145 with value: 43.95153727362714.\u001b[0m\n",
            "\u001b[32m[I 2021-04-26 08:51:16,081]\u001b[0m Trial 150 finished with value: 44.44539067671263 and parameters: {'Benzene Column C660 Operation_Column Temp Profile_C660 Tray 6 (SD & Control)_oC': 86.4857481047421, 'Benzene Column C660 Operation_Column Temp Profile_C660 Tray 23 (Control)_oC': 88.54283647069143, 'Simulation Case Conditions_Spec 2 : NA in Benzene_ppmw': 900.4466214712514}. Best is trial 145 with value: 43.95153727362714.\u001b[0m\n",
            "\u001b[32m[I 2021-04-26 08:51:16,164]\u001b[0m Trial 151 finished with value: 47.60368095142094 and parameters: {'Benzene Column C660 Operation_Column Temp Profile_C660 Tray 6 (SD & Control)_oC': 86.48997131555613, 'Benzene Column C660 Operation_Column Temp Profile_C660 Tray 23 (Control)_oC': 88.77575604421936, 'Simulation Case Conditions_Spec 2 : NA in Benzene_ppmw': 900.5035792034626}. Best is trial 145 with value: 43.95153727362714.\u001b[0m\n",
            "\u001b[32m[I 2021-04-26 08:51:16,243]\u001b[0m Trial 152 finished with value: 45.49533594976353 and parameters: {'Benzene Column C660 Operation_Column Temp Profile_C660 Tray 6 (SD & Control)_oC': 86.49069140999772, 'Benzene Column C660 Operation_Column Temp Profile_C660 Tray 23 (Control)_oC': 88.68691256782239, 'Simulation Case Conditions_Spec 2 : NA in Benzene_ppmw': 900.4661215492117}. Best is trial 145 with value: 43.95153727362714.\u001b[0m\n",
            "\u001b[32m[I 2021-04-26 08:51:16,334]\u001b[0m Trial 153 finished with value: 46.1787234706431 and parameters: {'Benzene Column C660 Operation_Column Temp Profile_C660 Tray 6 (SD & Control)_oC': 86.49468872999252, 'Benzene Column C660 Operation_Column Temp Profile_C660 Tray 23 (Control)_oC': 88.5996056223075, 'Simulation Case Conditions_Spec 2 : NA in Benzene_ppmw': 900.4043028013937}. Best is trial 145 with value: 43.95153727362714.\u001b[0m\n",
            "\u001b[32m[I 2021-04-26 08:51:16,422]\u001b[0m Trial 154 finished with value: 44.98804262239423 and parameters: {'Benzene Column C660 Operation_Column Temp Profile_C660 Tray 6 (SD & Control)_oC': 86.5007625743273, 'Benzene Column C660 Operation_Column Temp Profile_C660 Tray 23 (Control)_oC': 88.85161657206554, 'Simulation Case Conditions_Spec 2 : NA in Benzene_ppmw': 900.4348667678984}. Best is trial 145 with value: 43.95153727362714.\u001b[0m\n",
            "\u001b[32m[I 2021-04-26 08:51:16,514]\u001b[0m Trial 155 finished with value: 44.0959584653427 and parameters: {'Benzene Column C660 Operation_Column Temp Profile_C660 Tray 6 (SD & Control)_oC': 86.49901101061293, 'Benzene Column C660 Operation_Column Temp Profile_C660 Tray 23 (Control)_oC': 88.78081605829821, 'Simulation Case Conditions_Spec 2 : NA in Benzene_ppmw': 900.5113753478081}. Best is trial 145 with value: 43.95153727362714.\u001b[0m\n",
            "\u001b[32m[I 2021-04-26 08:51:16,600]\u001b[0m Trial 156 finished with value: 48.31264409772661 and parameters: {'Benzene Column C660 Operation_Column Temp Profile_C660 Tray 6 (SD & Control)_oC': 86.50372212550239, 'Benzene Column C660 Operation_Column Temp Profile_C660 Tray 23 (Control)_oC': 88.73705161889544, 'Simulation Case Conditions_Spec 2 : NA in Benzene_ppmw': 900.4793804884137}. Best is trial 145 with value: 43.95153727362714.\u001b[0m\n",
            "\u001b[32m[I 2021-04-26 08:51:16,678]\u001b[0m Trial 157 finished with value: 45.76914704065746 and parameters: {'Benzene Column C660 Operation_Column Temp Profile_C660 Tray 6 (SD & Control)_oC': 86.4931405703518, 'Benzene Column C660 Operation_Column Temp Profile_C660 Tray 23 (Control)_oC': 88.74648901261013, 'Simulation Case Conditions_Spec 2 : NA in Benzene_ppmw': 900.4723397799978}. Best is trial 145 with value: 43.95153727362714.\u001b[0m\n",
            "\u001b[32m[I 2021-04-26 08:51:16,753]\u001b[0m Trial 158 finished with value: 44.20788239779218 and parameters: {'Benzene Column C660 Operation_Column Temp Profile_C660 Tray 6 (SD & Control)_oC': 86.4943297510187, 'Benzene Column C660 Operation_Column Temp Profile_C660 Tray 23 (Control)_oC': 88.69521294802684, 'Simulation Case Conditions_Spec 2 : NA in Benzene_ppmw': 900.4691893845869}. Best is trial 145 with value: 43.95153727362714.\u001b[0m\n",
            "\u001b[32m[I 2021-04-26 08:51:16,835]\u001b[0m Trial 159 finished with value: 45.24947959948457 and parameters: {'Benzene Column C660 Operation_Column Temp Profile_C660 Tray 6 (SD & Control)_oC': 86.49475751333586, 'Benzene Column C660 Operation_Column Temp Profile_C660 Tray 23 (Control)_oC': 88.74948864552404, 'Simulation Case Conditions_Spec 2 : NA in Benzene_ppmw': 900.4177559114033}. Best is trial 145 with value: 43.95153727362714.\u001b[0m\n",
            "\u001b[32m[I 2021-04-26 08:51:16,918]\u001b[0m Trial 160 finished with value: 47.864604679004884 and parameters: {'Benzene Column C660 Operation_Column Temp Profile_C660 Tray 6 (SD & Control)_oC': 86.491231371241, 'Benzene Column C660 Operation_Column Temp Profile_C660 Tray 23 (Control)_oC': 88.80833826827444, 'Simulation Case Conditions_Spec 2 : NA in Benzene_ppmw': 900.4369592160302}. Best is trial 145 with value: 43.95153727362714.\u001b[0m\n",
            "\u001b[32m[I 2021-04-26 08:51:16,998]\u001b[0m Trial 161 finished with value: 43.4330301138487 and parameters: {'Benzene Column C660 Operation_Column Temp Profile_C660 Tray 6 (SD & Control)_oC': 86.48313048682793, 'Benzene Column C660 Operation_Column Temp Profile_C660 Tray 23 (Control)_oC': 88.45099958751362, 'Simulation Case Conditions_Spec 2 : NA in Benzene_ppmw': 900.5420192615892}. Best is trial 161 with value: 43.4330301138487.\u001b[0m\n",
            "\u001b[32m[I 2021-04-26 08:51:17,098]\u001b[0m Trial 162 finished with value: 46.185278884234734 and parameters: {'Benzene Column C660 Operation_Column Temp Profile_C660 Tray 6 (SD & Control)_oC': 86.48536326030258, 'Benzene Column C660 Operation_Column Temp Profile_C660 Tray 23 (Control)_oC': 88.61716651791187, 'Simulation Case Conditions_Spec 2 : NA in Benzene_ppmw': 900.433798651774}. Best is trial 161 with value: 43.4330301138487.\u001b[0m\n",
            "\u001b[32m[I 2021-04-26 08:51:17,190]\u001b[0m Trial 163 finished with value: 47.78676609211766 and parameters: {'Benzene Column C660 Operation_Column Temp Profile_C660 Tray 6 (SD & Control)_oC': 86.50599504411832, 'Benzene Column C660 Operation_Column Temp Profile_C660 Tray 23 (Control)_oC': 88.81121256267431, 'Simulation Case Conditions_Spec 2 : NA in Benzene_ppmw': 900.4810572595914}. Best is trial 161 with value: 43.4330301138487.\u001b[0m\n",
            "\u001b[32m[I 2021-04-26 08:51:17,275]\u001b[0m Trial 164 finished with value: 43.12132306670478 and parameters: {'Benzene Column C660 Operation_Column Temp Profile_C660 Tray 6 (SD & Control)_oC': 86.48330669866245, 'Benzene Column C660 Operation_Column Temp Profile_C660 Tray 23 (Control)_oC': 88.43985311738139, 'Simulation Case Conditions_Spec 2 : NA in Benzene_ppmw': 900.5440584502503}. Best is trial 164 with value: 43.12132306670478.\u001b[0m\n",
            "\u001b[32m[I 2021-04-26 08:51:17,373]\u001b[0m Trial 165 finished with value: 44.77422679976347 and parameters: {'Benzene Column C660 Operation_Column Temp Profile_C660 Tray 6 (SD & Control)_oC': 86.49198384901447, 'Benzene Column C660 Operation_Column Temp Profile_C660 Tray 23 (Control)_oC': 88.58594819480173, 'Simulation Case Conditions_Spec 2 : NA in Benzene_ppmw': 900.5082967916974}. Best is trial 164 with value: 43.12132306670478.\u001b[0m\n",
            "\u001b[32m[I 2021-04-26 08:51:17,466]\u001b[0m Trial 166 finished with value: 44.999586994155095 and parameters: {'Benzene Column C660 Operation_Column Temp Profile_C660 Tray 6 (SD & Control)_oC': 86.48240033432413, 'Benzene Column C660 Operation_Column Temp Profile_C660 Tray 23 (Control)_oC': 88.50689515771374, 'Simulation Case Conditions_Spec 2 : NA in Benzene_ppmw': 900.4689111599133}. Best is trial 164 with value: 43.12132306670478.\u001b[0m\n",
            "\u001b[32m[I 2021-04-26 08:51:17,562]\u001b[0m Trial 167 finished with value: 44.01827173732619 and parameters: {'Benzene Column C660 Operation_Column Temp Profile_C660 Tray 6 (SD & Control)_oC': 86.48777387295459, 'Benzene Column C660 Operation_Column Temp Profile_C660 Tray 23 (Control)_oC': 88.56100355722843, 'Simulation Case Conditions_Spec 2 : NA in Benzene_ppmw': 900.4452619528569}. Best is trial 164 with value: 43.12132306670478.\u001b[0m\n",
            "\u001b[32m[I 2021-04-26 08:51:17,656]\u001b[0m Trial 168 finished with value: 44.47800291514794 and parameters: {'Benzene Column C660 Operation_Column Temp Profile_C660 Tray 6 (SD & Control)_oC': 86.4902842369559, 'Benzene Column C660 Operation_Column Temp Profile_C660 Tray 23 (Control)_oC': 88.6290303812547, 'Simulation Case Conditions_Spec 2 : NA in Benzene_ppmw': 900.4260199237298}. Best is trial 164 with value: 43.12132306670478.\u001b[0m\n",
            "\u001b[32m[I 2021-04-26 08:51:17,738]\u001b[0m Trial 169 finished with value: 45.29405554321744 and parameters: {'Benzene Column C660 Operation_Column Temp Profile_C660 Tray 6 (SD & Control)_oC': 86.49333103278884, 'Benzene Column C660 Operation_Column Temp Profile_C660 Tray 23 (Control)_oC': 88.59875995975544, 'Simulation Case Conditions_Spec 2 : NA in Benzene_ppmw': 900.5284190933384}. Best is trial 164 with value: 43.12132306670478.\u001b[0m\n",
            "\u001b[32m[I 2021-04-26 08:51:17,817]\u001b[0m Trial 170 finished with value: 43.32136157579855 and parameters: {'Benzene Column C660 Operation_Column Temp Profile_C660 Tray 6 (SD & Control)_oC': 86.48635721590416, 'Benzene Column C660 Operation_Column Temp Profile_C660 Tray 23 (Control)_oC': 88.50712088158596, 'Simulation Case Conditions_Spec 2 : NA in Benzene_ppmw': 900.5473326107904}. Best is trial 164 with value: 43.12132306670478.\u001b[0m\n",
            "\u001b[32m[I 2021-04-26 08:51:17,910]\u001b[0m Trial 171 finished with value: 48.66222081779944 and parameters: {'Benzene Column C660 Operation_Column Temp Profile_C660 Tray 6 (SD & Control)_oC': 86.49235106748716, 'Benzene Column C660 Operation_Column Temp Profile_C660 Tray 23 (Control)_oC': 88.45048747130474, 'Simulation Case Conditions_Spec 2 : NA in Benzene_ppmw': 900.4865540335489}. Best is trial 164 with value: 43.12132306670478.\u001b[0m\n",
            "\u001b[32m[I 2021-04-26 08:51:17,995]\u001b[0m Trial 172 finished with value: 43.79751110264969 and parameters: {'Benzene Column C660 Operation_Column Temp Profile_C660 Tray 6 (SD & Control)_oC': 86.48202493823167, 'Benzene Column C660 Operation_Column Temp Profile_C660 Tray 23 (Control)_oC': 88.44521402506065, 'Simulation Case Conditions_Spec 2 : NA in Benzene_ppmw': 900.5062520699071}. Best is trial 164 with value: 43.12132306670478.\u001b[0m\n",
            "\u001b[32m[I 2021-04-26 08:51:18,075]\u001b[0m Trial 173 finished with value: 43.85188831490264 and parameters: {'Benzene Column C660 Operation_Column Temp Profile_C660 Tray 6 (SD & Control)_oC': 86.4914384059322, 'Benzene Column C660 Operation_Column Temp Profile_C660 Tray 23 (Control)_oC': 88.6071773929563, 'Simulation Case Conditions_Spec 2 : NA in Benzene_ppmw': 900.5266891632733}. Best is trial 164 with value: 43.12132306670478.\u001b[0m\n",
            "\u001b[32m[I 2021-04-26 08:51:18,151]\u001b[0m Trial 174 finished with value: 46.57907090701554 and parameters: {'Benzene Column C660 Operation_Column Temp Profile_C660 Tray 6 (SD & Control)_oC': 86.47337003051969, 'Benzene Column C660 Operation_Column Temp Profile_C660 Tray 23 (Control)_oC': 88.40891247794363, 'Simulation Case Conditions_Spec 2 : NA in Benzene_ppmw': 900.4252258081062}. Best is trial 164 with value: 43.12132306670478.\u001b[0m\n",
            "\u001b[32m[I 2021-04-26 08:51:18,231]\u001b[0m Trial 175 finished with value: 44.992947504404434 and parameters: {'Benzene Column C660 Operation_Column Temp Profile_C660 Tray 6 (SD & Control)_oC': 86.49328885301173, 'Benzene Column C660 Operation_Column Temp Profile_C660 Tray 23 (Control)_oC': 88.60951209804966, 'Simulation Case Conditions_Spec 2 : NA in Benzene_ppmw': 900.4732826848413}. Best is trial 164 with value: 43.12132306670478.\u001b[0m\n",
            "\u001b[32m[I 2021-04-26 08:51:18,307]\u001b[0m Trial 176 finished with value: 46.068084093477566 and parameters: {'Benzene Column C660 Operation_Column Temp Profile_C660 Tray 6 (SD & Control)_oC': 86.47711180552282, 'Benzene Column C660 Operation_Column Temp Profile_C660 Tray 23 (Control)_oC': 88.4611188799888, 'Simulation Case Conditions_Spec 2 : NA in Benzene_ppmw': 900.5318093725745}. Best is trial 164 with value: 43.12132306670478.\u001b[0m\n",
            "\u001b[32m[I 2021-04-26 08:51:18,383]\u001b[0m Trial 177 finished with value: 43.8833935642363 and parameters: {'Benzene Column C660 Operation_Column Temp Profile_C660 Tray 6 (SD & Control)_oC': 86.485052914226, 'Benzene Column C660 Operation_Column Temp Profile_C660 Tray 23 (Control)_oC': 88.50633172834233, 'Simulation Case Conditions_Spec 2 : NA in Benzene_ppmw': 900.5024654758294}. Best is trial 164 with value: 43.12132306670478.\u001b[0m\n",
            "\u001b[32m[I 2021-04-26 08:51:18,464]\u001b[0m Trial 178 finished with value: 44.87695892300305 and parameters: {'Benzene Column C660 Operation_Column Temp Profile_C660 Tray 6 (SD & Control)_oC': 86.48147169815331, 'Benzene Column C660 Operation_Column Temp Profile_C660 Tray 23 (Control)_oC': 88.49453856882049, 'Simulation Case Conditions_Spec 2 : NA in Benzene_ppmw': 900.668747910269}. Best is trial 164 with value: 43.12132306670478.\u001b[0m\n",
            "\u001b[32m[I 2021-04-26 08:51:18,550]\u001b[0m Trial 179 finished with value: 44.924637275916005 and parameters: {'Benzene Column C660 Operation_Column Temp Profile_C660 Tray 6 (SD & Control)_oC': 86.49244479274277, 'Benzene Column C660 Operation_Column Temp Profile_C660 Tray 23 (Control)_oC': 88.59193324802091, 'Simulation Case Conditions_Spec 2 : NA in Benzene_ppmw': 900.4534070475452}. Best is trial 164 with value: 43.12132306670478.\u001b[0m\n",
            "\u001b[32m[I 2021-04-26 08:51:18,636]\u001b[0m Trial 180 finished with value: 43.53445416007899 and parameters: {'Benzene Column C660 Operation_Column Temp Profile_C660 Tray 6 (SD & Control)_oC': 86.48930800235496, 'Benzene Column C660 Operation_Column Temp Profile_C660 Tray 23 (Control)_oC': 88.57129542167331, 'Simulation Case Conditions_Spec 2 : NA in Benzene_ppmw': 900.5173274250801}. Best is trial 164 with value: 43.12132306670478.\u001b[0m\n",
            "\u001b[32m[I 2021-04-26 08:51:18,727]\u001b[0m Trial 181 finished with value: 43.56675673927353 and parameters: {'Benzene Column C660 Operation_Column Temp Profile_C660 Tray 6 (SD & Control)_oC': 86.4843123746076, 'Benzene Column C660 Operation_Column Temp Profile_C660 Tray 23 (Control)_oC': 88.44672010645483, 'Simulation Case Conditions_Spec 2 : NA in Benzene_ppmw': 900.4868151413312}. Best is trial 164 with value: 43.12132306670478.\u001b[0m\n",
            "\u001b[32m[I 2021-04-26 08:51:18,809]\u001b[0m Trial 182 finished with value: 46.51997482352899 and parameters: {'Benzene Column C660 Operation_Column Temp Profile_C660 Tray 6 (SD & Control)_oC': 86.48888356182728, 'Benzene Column C660 Operation_Column Temp Profile_C660 Tray 23 (Control)_oC': 88.44641521377962, 'Simulation Case Conditions_Spec 2 : NA in Benzene_ppmw': 900.4917646386001}. Best is trial 164 with value: 43.12132306670478.\u001b[0m\n",
            "\u001b[32m[I 2021-04-26 08:51:18,902]\u001b[0m Trial 183 finished with value: 43.65082368616167 and parameters: {'Benzene Column C660 Operation_Column Temp Profile_C660 Tray 6 (SD & Control)_oC': 86.49081073735549, 'Benzene Column C660 Operation_Column Temp Profile_C660 Tray 23 (Control)_oC': 88.60619388605747, 'Simulation Case Conditions_Spec 2 : NA in Benzene_ppmw': 900.5359698460185}. Best is trial 164 with value: 43.12132306670478.\u001b[0m\n",
            "\u001b[32m[I 2021-04-26 08:51:18,991]\u001b[0m Trial 184 finished with value: 43.94160828827441 and parameters: {'Benzene Column C660 Operation_Column Temp Profile_C660 Tray 6 (SD & Control)_oC': 86.48394571173779, 'Benzene Column C660 Operation_Column Temp Profile_C660 Tray 23 (Control)_oC': 88.48784119384308, 'Simulation Case Conditions_Spec 2 : NA in Benzene_ppmw': 900.4974027317188}. Best is trial 164 with value: 43.12132306670478.\u001b[0m\n",
            "\u001b[32m[I 2021-04-26 08:51:19,079]\u001b[0m Trial 185 finished with value: 44.5982676409413 and parameters: {'Benzene Column C660 Operation_Column Temp Profile_C660 Tray 6 (SD & Control)_oC': 86.49082543751868, 'Benzene Column C660 Operation_Column Temp Profile_C660 Tray 23 (Control)_oC': 88.647233321815, 'Simulation Case Conditions_Spec 2 : NA in Benzene_ppmw': 900.4681619709029}. Best is trial 164 with value: 43.12132306670478.\u001b[0m\n",
            "\u001b[32m[I 2021-04-26 08:51:19,158]\u001b[0m Trial 186 finished with value: 45.162591726719434 and parameters: {'Benzene Column C660 Operation_Column Temp Profile_C660 Tray 6 (SD & Control)_oC': 86.49543790417115, 'Benzene Column C660 Operation_Column Temp Profile_C660 Tray 23 (Control)_oC': 88.65467024856898, 'Simulation Case Conditions_Spec 2 : NA in Benzene_ppmw': 900.4969164460654}. Best is trial 164 with value: 43.12132306670478.\u001b[0m\n",
            "\u001b[32m[I 2021-04-26 08:51:19,234]\u001b[0m Trial 187 finished with value: 44.37910581496858 and parameters: {'Benzene Column C660 Operation_Column Temp Profile_C660 Tray 6 (SD & Control)_oC': 86.48924771027754, 'Benzene Column C660 Operation_Column Temp Profile_C660 Tray 23 (Control)_oC': 88.53488609860372, 'Simulation Case Conditions_Spec 2 : NA in Benzene_ppmw': 900.5071275972232}. Best is trial 164 with value: 43.12132306670478.\u001b[0m\n",
            "\u001b[32m[I 2021-04-26 08:51:19,309]\u001b[0m Trial 188 finished with value: 44.61702055493534 and parameters: {'Benzene Column C660 Operation_Column Temp Profile_C660 Tray 6 (SD & Control)_oC': 86.48752454777751, 'Benzene Column C660 Operation_Column Temp Profile_C660 Tray 23 (Control)_oC': 88.48472346383275, 'Simulation Case Conditions_Spec 2 : NA in Benzene_ppmw': 900.4850900245206}. Best is trial 164 with value: 43.12132306670478.\u001b[0m\n",
            "\u001b[32m[I 2021-04-26 08:51:19,392]\u001b[0m Trial 189 finished with value: 44.091460464147204 and parameters: {'Benzene Column C660 Operation_Column Temp Profile_C660 Tray 6 (SD & Control)_oC': 86.48697614308824, 'Benzene Column C660 Operation_Column Temp Profile_C660 Tray 23 (Control)_oC': 88.55142674293919, 'Simulation Case Conditions_Spec 2 : NA in Benzene_ppmw': 900.4832227499012}. Best is trial 164 with value: 43.12132306670478.\u001b[0m\n",
            "\u001b[32m[I 2021-04-26 08:51:19,488]\u001b[0m Trial 190 finished with value: 44.33442811291278 and parameters: {'Benzene Column C660 Operation_Column Temp Profile_C660 Tray 6 (SD & Control)_oC': 86.48622292769572, 'Benzene Column C660 Operation_Column Temp Profile_C660 Tray 23 (Control)_oC': 88.55340073064475, 'Simulation Case Conditions_Spec 2 : NA in Benzene_ppmw': 900.570750586332}. Best is trial 164 with value: 43.12132306670478.\u001b[0m\n",
            "\u001b[32m[I 2021-04-26 08:51:19,593]\u001b[0m Trial 191 finished with value: 44.27214434401529 and parameters: {'Benzene Column C660 Operation_Column Temp Profile_C660 Tray 6 (SD & Control)_oC': 86.48084674833872, 'Benzene Column C660 Operation_Column Temp Profile_C660 Tray 23 (Control)_oC': 88.44851829036207, 'Simulation Case Conditions_Spec 2 : NA in Benzene_ppmw': 900.5659427694385}. Best is trial 164 with value: 43.12132306670478.\u001b[0m\n",
            "\u001b[32m[I 2021-04-26 08:51:19,681]\u001b[0m Trial 192 finished with value: 43.31311827646958 and parameters: {'Benzene Column C660 Operation_Column Temp Profile_C660 Tray 6 (SD & Control)_oC': 86.48677559272093, 'Benzene Column C660 Operation_Column Temp Profile_C660 Tray 23 (Control)_oC': 88.5154987539982, 'Simulation Case Conditions_Spec 2 : NA in Benzene_ppmw': 900.5627427569212}. Best is trial 164 with value: 43.12132306670478.\u001b[0m\n",
            "\u001b[32m[I 2021-04-26 08:51:19,763]\u001b[0m Trial 193 finished with value: 44.04940623730461 and parameters: {'Benzene Column C660 Operation_Column Temp Profile_C660 Tray 6 (SD & Control)_oC': 86.48463026285887, 'Benzene Column C660 Operation_Column Temp Profile_C660 Tray 23 (Control)_oC': 88.50647492654106, 'Simulation Case Conditions_Spec 2 : NA in Benzene_ppmw': 900.5087735487574}. Best is trial 164 with value: 43.12132306670478.\u001b[0m\n",
            "\u001b[32m[I 2021-04-26 08:51:19,845]\u001b[0m Trial 194 finished with value: 44.222394184882965 and parameters: {'Benzene Column C660 Operation_Column Temp Profile_C660 Tray 6 (SD & Control)_oC': 86.49344319553623, 'Benzene Column C660 Operation_Column Temp Profile_C660 Tray 23 (Control)_oC': 88.68106067117948, 'Simulation Case Conditions_Spec 2 : NA in Benzene_ppmw': 900.5045475404108}. Best is trial 164 with value: 43.12132306670478.\u001b[0m\n",
            "\u001b[32m[I 2021-04-26 08:51:19,929]\u001b[0m Trial 195 finished with value: 44.30121559220889 and parameters: {'Benzene Column C660 Operation_Column Temp Profile_C660 Tray 6 (SD & Control)_oC': 86.48665871849128, 'Benzene Column C660 Operation_Column Temp Profile_C660 Tray 23 (Control)_oC': 88.55637353767479, 'Simulation Case Conditions_Spec 2 : NA in Benzene_ppmw': 900.503171256533}. Best is trial 164 with value: 43.12132306670478.\u001b[0m\n",
            "\u001b[32m[I 2021-04-26 08:51:20,005]\u001b[0m Trial 196 finished with value: 44.14198816067645 and parameters: {'Benzene Column C660 Operation_Column Temp Profile_C660 Tray 6 (SD & Control)_oC': 86.49216074564974, 'Benzene Column C660 Operation_Column Temp Profile_C660 Tray 23 (Control)_oC': 88.65573364003683, 'Simulation Case Conditions_Spec 2 : NA in Benzene_ppmw': 900.5538241078657}. Best is trial 164 with value: 43.12132306670478.\u001b[0m\n",
            "\u001b[32m[I 2021-04-26 08:51:20,088]\u001b[0m Trial 197 finished with value: 43.88847057470851 and parameters: {'Benzene Column C660 Operation_Column Temp Profile_C660 Tray 6 (SD & Control)_oC': 86.49061210223762, 'Benzene Column C660 Operation_Column Temp Profile_C660 Tray 23 (Control)_oC': 88.58561149063733, 'Simulation Case Conditions_Spec 2 : NA in Benzene_ppmw': 900.5588664557415}. Best is trial 164 with value: 43.12132306670478.\u001b[0m\n",
            "\u001b[32m[I 2021-04-26 08:51:20,170]\u001b[0m Trial 198 finished with value: 45.12617997875512 and parameters: {'Benzene Column C660 Operation_Column Temp Profile_C660 Tray 6 (SD & Control)_oC': 86.49230606113937, 'Benzene Column C660 Operation_Column Temp Profile_C660 Tray 23 (Control)_oC': 88.579943016258, 'Simulation Case Conditions_Spec 2 : NA in Benzene_ppmw': 900.5732621000909}. Best is trial 164 with value: 43.12132306670478.\u001b[0m\n",
            "\u001b[32m[I 2021-04-26 08:51:20,269]\u001b[0m Trial 199 finished with value: 43.16906717652825 and parameters: {'Benzene Column C660 Operation_Column Temp Profile_C660 Tray 6 (SD & Control)_oC': 86.48361021440279, 'Benzene Column C660 Operation_Column Temp Profile_C660 Tray 23 (Control)_oC': 88.44423523270667, 'Simulation Case Conditions_Spec 2 : NA in Benzene_ppmw': 900.5406737907579}. Best is trial 164 with value: 43.12132306670478.\u001b[0m\n",
            "\u001b[32m[I 2021-04-26 08:51:20,363]\u001b[0m Trial 200 finished with value: 44.24626290167187 and parameters: {'Benzene Column C660 Operation_Column Temp Profile_C660 Tray 6 (SD & Control)_oC': 86.48765340358796, 'Benzene Column C660 Operation_Column Temp Profile_C660 Tray 23 (Control)_oC': 88.57345760084159, 'Simulation Case Conditions_Spec 2 : NA in Benzene_ppmw': 900.5187435099455}. Best is trial 164 with value: 43.12132306670478.\u001b[0m\n",
            "\u001b[32m[I 2021-04-26 08:51:20,443]\u001b[0m Trial 201 finished with value: 43.7124943461489 and parameters: {'Benzene Column C660 Operation_Column Temp Profile_C660 Tray 6 (SD & Control)_oC': 86.48880926828761, 'Benzene Column C660 Operation_Column Temp Profile_C660 Tray 23 (Control)_oC': 88.56881193494564, 'Simulation Case Conditions_Spec 2 : NA in Benzene_ppmw': 900.491960010765}. Best is trial 164 with value: 43.12132306670478.\u001b[0m\n",
            "\u001b[32m[I 2021-04-26 08:51:20,534]\u001b[0m Trial 202 finished with value: 43.38995272087531 and parameters: {'Benzene Column C660 Operation_Column Temp Profile_C660 Tray 6 (SD & Control)_oC': 86.48463432633248, 'Benzene Column C660 Operation_Column Temp Profile_C660 Tray 23 (Control)_oC': 88.4774269896645, 'Simulation Case Conditions_Spec 2 : NA in Benzene_ppmw': 900.5418599309046}. Best is trial 164 with value: 43.12132306670478.\u001b[0m\n",
            "\u001b[32m[I 2021-04-26 08:51:20,624]\u001b[0m Trial 203 finished with value: 44.77155986982779 and parameters: {'Benzene Column C660 Operation_Column Temp Profile_C660 Tray 6 (SD & Control)_oC': 86.49288036911334, 'Benzene Column C660 Operation_Column Temp Profile_C660 Tray 23 (Control)_oC': 88.6072426092269, 'Simulation Case Conditions_Spec 2 : NA in Benzene_ppmw': 900.5494001720191}. Best is trial 164 with value: 43.12132306670478.\u001b[0m\n",
            "\u001b[32m[I 2021-04-26 08:51:20,702]\u001b[0m Trial 204 finished with value: 44.056814041943696 and parameters: {'Benzene Column C660 Operation_Column Temp Profile_C660 Tray 6 (SD & Control)_oC': 86.48809563992805, 'Benzene Column C660 Operation_Column Temp Profile_C660 Tray 23 (Control)_oC': 88.5187089616168, 'Simulation Case Conditions_Spec 2 : NA in Benzene_ppmw': 900.5609798831741}. Best is trial 164 with value: 43.12132306670478.\u001b[0m\n",
            "\u001b[32m[I 2021-04-26 08:51:20,779]\u001b[0m Trial 205 finished with value: 43.03497632064755 and parameters: {'Benzene Column C660 Operation_Column Temp Profile_C660 Tray 6 (SD & Control)_oC': 86.4807261879885, 'Benzene Column C660 Operation_Column Temp Profile_C660 Tray 23 (Control)_oC': 88.39093007669362, 'Simulation Case Conditions_Spec 2 : NA in Benzene_ppmw': 900.6166699486357}. Best is trial 205 with value: 43.03497632064755.\u001b[0m\n",
            "\u001b[32m[I 2021-04-26 08:51:20,863]\u001b[0m Trial 206 finished with value: 44.73299944434574 and parameters: {'Benzene Column C660 Operation_Column Temp Profile_C660 Tray 6 (SD & Control)_oC': 86.48239026873705, 'Benzene Column C660 Operation_Column Temp Profile_C660 Tray 23 (Control)_oC': 88.49922265477883, 'Simulation Case Conditions_Spec 2 : NA in Benzene_ppmw': 900.5619252032722}. Best is trial 205 with value: 43.03497632064755.\u001b[0m\n",
            "\u001b[32m[I 2021-04-26 08:51:20,948]\u001b[0m Trial 207 finished with value: 44.14046155559681 and parameters: {'Benzene Column C660 Operation_Column Temp Profile_C660 Tray 6 (SD & Control)_oC': 86.48481243026261, 'Benzene Column C660 Operation_Column Temp Profile_C660 Tray 23 (Control)_oC': 88.51479379476957, 'Simulation Case Conditions_Spec 2 : NA in Benzene_ppmw': 900.5196442752875}. Best is trial 205 with value: 43.03497632064755.\u001b[0m\n",
            "\u001b[32m[I 2021-04-26 08:51:21,027]\u001b[0m Trial 208 finished with value: 44.01337942975981 and parameters: {'Benzene Column C660 Operation_Column Temp Profile_C660 Tray 6 (SD & Control)_oC': 86.4837222524228, 'Benzene Column C660 Operation_Column Temp Profile_C660 Tray 23 (Control)_oC': 88.41514772703928, 'Simulation Case Conditions_Spec 2 : NA in Benzene_ppmw': 900.5540825002429}. Best is trial 205 with value: 43.03497632064755.\u001b[0m\n",
            "\u001b[32m[I 2021-04-26 08:51:21,107]\u001b[0m Trial 209 finished with value: 43.17823327839097 and parameters: {'Benzene Column C660 Operation_Column Temp Profile_C660 Tray 6 (SD & Control)_oC': 86.48331930465085, 'Benzene Column C660 Operation_Column Temp Profile_C660 Tray 23 (Control)_oC': 88.43689666566556, 'Simulation Case Conditions_Spec 2 : NA in Benzene_ppmw': 900.5396517448842}. Best is trial 205 with value: 43.03497632064755.\u001b[0m\n",
            "\u001b[32m[I 2021-04-26 08:51:21,189]\u001b[0m Trial 210 finished with value: 43.63852794906668 and parameters: {'Benzene Column C660 Operation_Column Temp Profile_C660 Tray 6 (SD & Control)_oC': 86.48662284648309, 'Benzene Column C660 Operation_Column Temp Profile_C660 Tray 23 (Control)_oC': 88.4992107218926, 'Simulation Case Conditions_Spec 2 : NA in Benzene_ppmw': 900.5320061725402}. Best is trial 205 with value: 43.03497632064755.\u001b[0m\n",
            "\u001b[32m[I 2021-04-26 08:51:21,269]\u001b[0m Trial 211 finished with value: 44.21336203744585 and parameters: {'Benzene Column C660 Operation_Column Temp Profile_C660 Tray 6 (SD & Control)_oC': 86.48469245632455, 'Benzene Column C660 Operation_Column Temp Profile_C660 Tray 23 (Control)_oC': 88.43138354211857, 'Simulation Case Conditions_Spec 2 : NA in Benzene_ppmw': 900.5146417913833}. Best is trial 205 with value: 43.03497632064755.\u001b[0m\n",
            "\u001b[32m[I 2021-04-26 08:51:21,352]\u001b[0m Trial 212 finished with value: 43.812108024171955 and parameters: {'Benzene Column C660 Operation_Column Temp Profile_C660 Tray 6 (SD & Control)_oC': 86.48715087129534, 'Benzene Column C660 Operation_Column Temp Profile_C660 Tray 23 (Control)_oC': 88.54123280220128, 'Simulation Case Conditions_Spec 2 : NA in Benzene_ppmw': 900.47610262997}. Best is trial 205 with value: 43.03497632064755.\u001b[0m\n",
            "\u001b[32m[I 2021-04-26 08:51:21,432]\u001b[0m Trial 213 finished with value: 43.20176710856779 and parameters: {'Benzene Column C660 Operation_Column Temp Profile_C660 Tray 6 (SD & Control)_oC': 86.47873971042549, 'Benzene Column C660 Operation_Column Temp Profile_C660 Tray 23 (Control)_oC': 88.35725313541226, 'Simulation Case Conditions_Spec 2 : NA in Benzene_ppmw': 900.5455203176314}. Best is trial 205 with value: 43.03497632064755.\u001b[0m\n",
            "\u001b[32m[I 2021-04-26 08:51:21,529]\u001b[0m Trial 214 finished with value: 44.42899915020182 and parameters: {'Benzene Column C660 Operation_Column Temp Profile_C660 Tray 6 (SD & Control)_oC': 86.48783098495781, 'Benzene Column C660 Operation_Column Temp Profile_C660 Tray 23 (Control)_oC': 88.49830083444651, 'Simulation Case Conditions_Spec 2 : NA in Benzene_ppmw': 900.5726637001785}. Best is trial 205 with value: 43.03497632064755.\u001b[0m\n",
            "\u001b[32m[I 2021-04-26 08:51:21,624]\u001b[0m Trial 215 finished with value: 43.36885826157837 and parameters: {'Benzene Column C660 Operation_Column Temp Profile_C660 Tray 6 (SD & Control)_oC': 86.48344659069511, 'Benzene Column C660 Operation_Column Temp Profile_C660 Tray 23 (Control)_oC': 88.43246539088597, 'Simulation Case Conditions_Spec 2 : NA in Benzene_ppmw': 900.5755536583549}. Best is trial 205 with value: 43.03497632064755.\u001b[0m\n",
            "\u001b[32m[I 2021-04-26 08:51:21,707]\u001b[0m Trial 216 finished with value: 43.4281644956317 and parameters: {'Benzene Column C660 Operation_Column Temp Profile_C660 Tray 6 (SD & Control)_oC': 86.48168600407745, 'Benzene Column C660 Operation_Column Temp Profile_C660 Tray 23 (Control)_oC': 88.38803813310456, 'Simulation Case Conditions_Spec 2 : NA in Benzene_ppmw': 900.5576116762975}. Best is trial 205 with value: 43.03497632064755.\u001b[0m\n",
            "\u001b[32m[I 2021-04-26 08:51:21,802]\u001b[0m Trial 217 finished with value: 43.13033239454535 and parameters: {'Benzene Column C660 Operation_Column Temp Profile_C660 Tray 6 (SD & Control)_oC': 86.48312788858753, 'Benzene Column C660 Operation_Column Temp Profile_C660 Tray 23 (Control)_oC': 88.4336329377671, 'Simulation Case Conditions_Spec 2 : NA in Benzene_ppmw': 900.5877570772411}. Best is trial 205 with value: 43.03497632064755.\u001b[0m\n",
            "\u001b[32m[I 2021-04-26 08:51:21,899]\u001b[0m Trial 218 finished with value: 43.616135374964784 and parameters: {'Benzene Column C660 Operation_Column Temp Profile_C660 Tray 6 (SD & Control)_oC': 86.48357548615516, 'Benzene Column C660 Operation_Column Temp Profile_C660 Tray 23 (Control)_oC': 88.4261672599454, 'Simulation Case Conditions_Spec 2 : NA in Benzene_ppmw': 900.5892220247322}. Best is trial 205 with value: 43.03497632064755.\u001b[0m\n",
            "\u001b[32m[I 2021-04-26 08:51:21,977]\u001b[0m Trial 219 finished with value: 43.38327926685807 and parameters: {'Benzene Column C660 Operation_Column Temp Profile_C660 Tray 6 (SD & Control)_oC': 86.4818766345032, 'Benzene Column C660 Operation_Column Temp Profile_C660 Tray 23 (Control)_oC': 88.42504751150005, 'Simulation Case Conditions_Spec 2 : NA in Benzene_ppmw': 900.5440725131751}. Best is trial 205 with value: 43.03497632064755.\u001b[0m\n",
            "\u001b[32m[I 2021-04-26 08:51:22,064]\u001b[0m Trial 220 finished with value: 43.43358437911472 and parameters: {'Benzene Column C660 Operation_Column Temp Profile_C660 Tray 6 (SD & Control)_oC': 86.48678308018089, 'Benzene Column C660 Operation_Column Temp Profile_C660 Tray 23 (Control)_oC': 88.52201673541475, 'Simulation Case Conditions_Spec 2 : NA in Benzene_ppmw': 900.5763083038746}. Best is trial 205 with value: 43.03497632064755.\u001b[0m\n",
            "\u001b[32m[I 2021-04-26 08:51:22,156]\u001b[0m Trial 221 finished with value: 43.390722071694164 and parameters: {'Benzene Column C660 Operation_Column Temp Profile_C660 Tray 6 (SD & Control)_oC': 86.48032431667674, 'Benzene Column C660 Operation_Column Temp Profile_C660 Tray 23 (Control)_oC': 88.39678140187269, 'Simulation Case Conditions_Spec 2 : NA in Benzene_ppmw': 900.5580492157454}. Best is trial 205 with value: 43.03497632064755.\u001b[0m\n",
            "\u001b[32m[I 2021-04-26 08:51:22,249]\u001b[0m Trial 222 finished with value: 44.03228211390058 and parameters: {'Benzene Column C660 Operation_Column Temp Profile_C660 Tray 6 (SD & Control)_oC': 86.48370442022876, 'Benzene Column C660 Operation_Column Temp Profile_C660 Tray 23 (Control)_oC': 88.41415938460376, 'Simulation Case Conditions_Spec 2 : NA in Benzene_ppmw': 900.5382982023167}. Best is trial 205 with value: 43.03497632064755.\u001b[0m\n",
            "\u001b[32m[I 2021-04-26 08:51:22,339]\u001b[0m Trial 223 finished with value: 43.31325929427331 and parameters: {'Benzene Column C660 Operation_Column Temp Profile_C660 Tray 6 (SD & Control)_oC': 86.4830989758451, 'Benzene Column C660 Operation_Column Temp Profile_C660 Tray 23 (Control)_oC': 88.44582613447862, 'Simulation Case Conditions_Spec 2 : NA in Benzene_ppmw': 900.5610090900841}. Best is trial 205 with value: 43.03497632064755.\u001b[0m\n",
            "\u001b[32m[I 2021-04-26 08:51:22,421]\u001b[0m Trial 224 finished with value: 43.9901244731564 and parameters: {'Benzene Column C660 Operation_Column Temp Profile_C660 Tray 6 (SD & Control)_oC': 86.48575663740233, 'Benzene Column C660 Operation_Column Temp Profile_C660 Tray 23 (Control)_oC': 88.52827160580405, 'Simulation Case Conditions_Spec 2 : NA in Benzene_ppmw': 900.5685235935564}. Best is trial 205 with value: 43.03497632064755.\u001b[0m\n",
            "\u001b[32m[I 2021-04-26 08:51:22,509]\u001b[0m Trial 225 finished with value: 43.73619364328047 and parameters: {'Benzene Column C660 Operation_Column Temp Profile_C660 Tray 6 (SD & Control)_oC': 86.47972300430004, 'Benzene Column C660 Operation_Column Temp Profile_C660 Tray 23 (Control)_oC': 88.40342944370379, 'Simulation Case Conditions_Spec 2 : NA in Benzene_ppmw': 900.5911658154473}. Best is trial 205 with value: 43.03497632064755.\u001b[0m\n",
            "\u001b[32m[I 2021-04-26 08:51:22,597]\u001b[0m Trial 226 finished with value: 43.930204160745895 and parameters: {'Benzene Column C660 Operation_Column Temp Profile_C660 Tray 6 (SD & Control)_oC': 86.48367283947897, 'Benzene Column C660 Operation_Column Temp Profile_C660 Tray 23 (Control)_oC': 88.48452931272553, 'Simulation Case Conditions_Spec 2 : NA in Benzene_ppmw': 900.5411070170483}. Best is trial 205 with value: 43.03497632064755.\u001b[0m\n",
            "\u001b[32m[I 2021-04-26 08:51:22,674]\u001b[0m Trial 227 finished with value: 43.68124341738116 and parameters: {'Benzene Column C660 Operation_Column Temp Profile_C660 Tray 6 (SD & Control)_oC': 86.4815318090471, 'Benzene Column C660 Operation_Column Temp Profile_C660 Tray 23 (Control)_oC': 88.43275411222206, 'Simulation Case Conditions_Spec 2 : NA in Benzene_ppmw': 900.5487630778845}. Best is trial 205 with value: 43.03497632064755.\u001b[0m\n",
            "\u001b[32m[I 2021-04-26 08:51:22,756]\u001b[0m Trial 228 finished with value: 43.716179449803775 and parameters: {'Benzene Column C660 Operation_Column Temp Profile_C660 Tray 6 (SD & Control)_oC': 86.48549720506398, 'Benzene Column C660 Operation_Column Temp Profile_C660 Tray 23 (Control)_oC': 88.51166614129296, 'Simulation Case Conditions_Spec 2 : NA in Benzene_ppmw': 900.5898229207195}. Best is trial 205 with value: 43.03497632064755.\u001b[0m\n",
            "\u001b[32m[I 2021-04-26 08:51:22,837]\u001b[0m Trial 229 finished with value: 43.34808171265156 and parameters: {'Benzene Column C660 Operation_Column Temp Profile_C660 Tray 6 (SD & Control)_oC': 86.48199411051631, 'Benzene Column C660 Operation_Column Temp Profile_C660 Tray 23 (Control)_oC': 88.4244389955977, 'Simulation Case Conditions_Spec 2 : NA in Benzene_ppmw': 900.5224000120938}. Best is trial 205 with value: 43.03497632064755.\u001b[0m\n",
            "\u001b[32m[I 2021-04-26 08:51:22,921]\u001b[0m Trial 230 finished with value: 43.182265085369735 and parameters: {'Benzene Column C660 Operation_Column Temp Profile_C660 Tray 6 (SD & Control)_oC': 86.48200568719801, 'Benzene Column C660 Operation_Column Temp Profile_C660 Tray 23 (Control)_oC': 88.4047441739726, 'Simulation Case Conditions_Spec 2 : NA in Benzene_ppmw': 900.5804541523993}. Best is trial 205 with value: 43.03497632064755.\u001b[0m\n",
            "\u001b[32m[I 2021-04-26 08:51:23,009]\u001b[0m Trial 231 finished with value: 43.90065894935288 and parameters: {'Benzene Column C660 Operation_Column Temp Profile_C660 Tray 6 (SD & Control)_oC': 86.48323847448184, 'Benzene Column C660 Operation_Column Temp Profile_C660 Tray 23 (Control)_oC': 88.47716983053256, 'Simulation Case Conditions_Spec 2 : NA in Benzene_ppmw': 900.582091980101}. Best is trial 205 with value: 43.03497632064755.\u001b[0m\n",
            "\u001b[32m[I 2021-04-26 08:51:23,092]\u001b[0m Trial 232 finished with value: 43.071894759557736 and parameters: {'Benzene Column C660 Operation_Column Temp Profile_C660 Tray 6 (SD & Control)_oC': 86.47973796377713, 'Benzene Column C660 Operation_Column Temp Profile_C660 Tray 23 (Control)_oC': 88.3707311527362, 'Simulation Case Conditions_Spec 2 : NA in Benzene_ppmw': 900.5576026978613}. Best is trial 205 with value: 43.03497632064755.\u001b[0m\n",
            "\u001b[32m[I 2021-04-26 08:51:23,169]\u001b[0m Trial 233 finished with value: 42.97912948330554 and parameters: {'Benzene Column C660 Operation_Column Temp Profile_C660 Tray 6 (SD & Control)_oC': 86.47915793234928, 'Benzene Column C660 Operation_Column Temp Profile_C660 Tray 23 (Control)_oC': 88.35511908455382, 'Simulation Case Conditions_Spec 2 : NA in Benzene_ppmw': 900.552259472916}. Best is trial 233 with value: 42.97912948330554.\u001b[0m\n",
            "\u001b[32m[I 2021-04-26 08:51:23,249]\u001b[0m Trial 234 finished with value: 43.13457846234208 and parameters: {'Benzene Column C660 Operation_Column Temp Profile_C660 Tray 6 (SD & Control)_oC': 86.48203174263443, 'Benzene Column C660 Operation_Column Temp Profile_C660 Tray 23 (Control)_oC': 88.4171365017495, 'Simulation Case Conditions_Spec 2 : NA in Benzene_ppmw': 900.5586198996633}. Best is trial 233 with value: 42.97912948330554.\u001b[0m\n",
            "\u001b[32m[I 2021-04-26 08:51:23,329]\u001b[0m Trial 235 finished with value: 43.50100945768262 and parameters: {'Benzene Column C660 Operation_Column Temp Profile_C660 Tray 6 (SD & Control)_oC': 86.48335409575365, 'Benzene Column C660 Operation_Column Temp Profile_C660 Tray 23 (Control)_oC': 88.45974997220759, 'Simulation Case Conditions_Spec 2 : NA in Benzene_ppmw': 900.5664549459914}. Best is trial 233 with value: 42.97912948330554.\u001b[0m\n",
            "\u001b[32m[I 2021-04-26 08:51:23,405]\u001b[0m Trial 236 finished with value: 43.22706620817607 and parameters: {'Benzene Column C660 Operation_Column Temp Profile_C660 Tray 6 (SD & Control)_oC': 86.48392595738092, 'Benzene Column C660 Operation_Column Temp Profile_C660 Tray 23 (Control)_oC': 88.44974390098345, 'Simulation Case Conditions_Spec 2 : NA in Benzene_ppmw': 900.5313442967871}. Best is trial 233 with value: 42.97912948330554.\u001b[0m\n",
            "\u001b[32m[I 2021-04-26 08:51:23,482]\u001b[0m Trial 237 finished with value: 43.270618409694194 and parameters: {'Benzene Column C660 Operation_Column Temp Profile_C660 Tray 6 (SD & Control)_oC': 86.48508223503437, 'Benzene Column C660 Operation_Column Temp Profile_C660 Tray 23 (Control)_oC': 88.4809187431416, 'Simulation Case Conditions_Spec 2 : NA in Benzene_ppmw': 900.5528231438662}. Best is trial 233 with value: 42.97912948330554.\u001b[0m\n",
            "\u001b[32m[I 2021-04-26 08:51:23,568]\u001b[0m Trial 238 finished with value: 43.282202495769226 and parameters: {'Benzene Column C660 Operation_Column Temp Profile_C660 Tray 6 (SD & Control)_oC': 86.48359959273569, 'Benzene Column C660 Operation_Column Temp Profile_C660 Tray 23 (Control)_oC': 88.455514433432, 'Simulation Case Conditions_Spec 2 : NA in Benzene_ppmw': 900.5915599770009}. Best is trial 233 with value: 42.97912948330554.\u001b[0m\n",
            "\u001b[32m[I 2021-04-26 08:51:23,658]\u001b[0m Trial 239 finished with value: 43.30178737920566 and parameters: {'Benzene Column C660 Operation_Column Temp Profile_C660 Tray 6 (SD & Control)_oC': 86.48210952138844, 'Benzene Column C660 Operation_Column Temp Profile_C660 Tray 23 (Control)_oC': 88.4250260867685, 'Simulation Case Conditions_Spec 2 : NA in Benzene_ppmw': 900.5328842996164}. Best is trial 233 with value: 42.97912948330554.\u001b[0m\n",
            "\u001b[32m[I 2021-04-26 08:51:23,744]\u001b[0m Trial 240 finished with value: 43.36276308157741 and parameters: {'Benzene Column C660 Operation_Column Temp Profile_C660 Tray 6 (SD & Control)_oC': 86.48388515144015, 'Benzene Column C660 Operation_Column Temp Profile_C660 Tray 23 (Control)_oC': 88.45996796359195, 'Simulation Case Conditions_Spec 2 : NA in Benzene_ppmw': 900.5050961023053}. Best is trial 233 with value: 42.97912948330554.\u001b[0m\n",
            "\u001b[32m[I 2021-04-26 08:51:23,832]\u001b[0m Trial 241 finished with value: 43.68211243275742 and parameters: {'Benzene Column C660 Operation_Column Temp Profile_C660 Tray 6 (SD & Control)_oC': 86.48714624203086, 'Benzene Column C660 Operation_Column Temp Profile_C660 Tray 23 (Control)_oC': 88.51002983852042, 'Simulation Case Conditions_Spec 2 : NA in Benzene_ppmw': 900.5475850853092}. Best is trial 233 with value: 42.97912948330554.\u001b[0m\n",
            "\u001b[32m[I 2021-04-26 08:51:23,921]\u001b[0m Trial 242 finished with value: 43.56885175667513 and parameters: {'Benzene Column C660 Operation_Column Temp Profile_C660 Tray 6 (SD & Control)_oC': 86.47848597857624, 'Benzene Column C660 Operation_Column Temp Profile_C660 Tray 23 (Control)_oC': 88.36985118326317, 'Simulation Case Conditions_Spec 2 : NA in Benzene_ppmw': 900.5489168976534}. Best is trial 233 with value: 42.97912948330554.\u001b[0m\n",
            "\u001b[32m[I 2021-04-26 08:51:24,009]\u001b[0m Trial 243 finished with value: 43.024362197859446 and parameters: {'Benzene Column C660 Operation_Column Temp Profile_C660 Tray 6 (SD & Control)_oC': 86.48040602174582, 'Benzene Column C660 Operation_Column Temp Profile_C660 Tray 23 (Control)_oC': 88.38072700197881, 'Simulation Case Conditions_Spec 2 : NA in Benzene_ppmw': 900.5498445007331}. Best is trial 233 with value: 42.97912948330554.\u001b[0m\n",
            "\u001b[32m[I 2021-04-26 08:51:24,088]\u001b[0m Trial 244 finished with value: 43.10300784332569 and parameters: {'Benzene Column C660 Operation_Column Temp Profile_C660 Tray 6 (SD & Control)_oC': 86.47927598122764, 'Benzene Column C660 Operation_Column Temp Profile_C660 Tray 23 (Control)_oC': 88.36282531733903, 'Simulation Case Conditions_Spec 2 : NA in Benzene_ppmw': 900.5463015012194}. Best is trial 233 with value: 42.97912948330554.\u001b[0m\n",
            "\u001b[32m[I 2021-04-26 08:51:24,168]\u001b[0m Trial 245 finished with value: 43.06696732708099 and parameters: {'Benzene Column C660 Operation_Column Temp Profile_C660 Tray 6 (SD & Control)_oC': 86.47996911694804, 'Benzene Column C660 Operation_Column Temp Profile_C660 Tray 23 (Control)_oC': 88.37571867953662, 'Simulation Case Conditions_Spec 2 : NA in Benzene_ppmw': 900.5730096736822}. Best is trial 233 with value: 42.97912948330554.\u001b[0m\n",
            "\u001b[32m[I 2021-04-26 08:51:24,246]\u001b[0m Trial 246 finished with value: 43.22951457961546 and parameters: {'Benzene Column C660 Operation_Column Temp Profile_C660 Tray 6 (SD & Control)_oC': 86.48325821883215, 'Benzene Column C660 Operation_Column Temp Profile_C660 Tray 23 (Control)_oC': 88.44390601376564, 'Simulation Case Conditions_Spec 2 : NA in Benzene_ppmw': 900.5423773783698}. Best is trial 233 with value: 42.97912948330554.\u001b[0m\n",
            "\u001b[32m[I 2021-04-26 08:51:24,328]\u001b[0m Trial 247 finished with value: 43.25833822420651 and parameters: {'Benzene Column C660 Operation_Column Temp Profile_C660 Tray 6 (SD & Control)_oC': 86.48327741131111, 'Benzene Column C660 Operation_Column Temp Profile_C660 Tray 23 (Control)_oC': 88.4447346369523, 'Simulation Case Conditions_Spec 2 : NA in Benzene_ppmw': 900.5262160965137}. Best is trial 233 with value: 42.97912948330554.\u001b[0m\n",
            "\u001b[32m[I 2021-04-26 08:51:24,414]\u001b[0m Trial 248 finished with value: 43.20366662309765 and parameters: {'Benzene Column C660 Operation_Column Temp Profile_C660 Tray 6 (SD & Control)_oC': 86.47940535436523, 'Benzene Column C660 Operation_Column Temp Profile_C660 Tray 23 (Control)_oC': 88.37264306529732, 'Simulation Case Conditions_Spec 2 : NA in Benzene_ppmw': 900.5949390784017}. Best is trial 233 with value: 42.97912948330554.\u001b[0m\n",
            "\u001b[32m[I 2021-04-26 08:51:24,504]\u001b[0m Trial 249 finished with value: 43.174420540469754 and parameters: {'Benzene Column C660 Operation_Column Temp Profile_C660 Tray 6 (SD & Control)_oC': 86.48091323318982, 'Benzene Column C660 Operation_Column Temp Profile_C660 Tray 23 (Control)_oC': 88.37883008155956, 'Simulation Case Conditions_Spec 2 : NA in Benzene_ppmw': 900.5715253837636}. Best is trial 233 with value: 42.97912948330554.\u001b[0m\n",
            "\u001b[32m[I 2021-04-26 08:51:24,588]\u001b[0m Trial 250 finished with value: 43.311847818506735 and parameters: {'Benzene Column C660 Operation_Column Temp Profile_C660 Tray 6 (SD & Control)_oC': 86.48201505837329, 'Benzene Column C660 Operation_Column Temp Profile_C660 Tray 23 (Control)_oC': 88.42333269277735, 'Simulation Case Conditions_Spec 2 : NA in Benzene_ppmw': 900.5259596807226}. Best is trial 233 with value: 42.97912948330554.\u001b[0m\n",
            "\u001b[32m[I 2021-04-26 08:51:24,672]\u001b[0m Trial 251 finished with value: 43.12426588709391 and parameters: {'Benzene Column C660 Operation_Column Temp Profile_C660 Tray 6 (SD & Control)_oC': 86.47935294295404, 'Benzene Column C660 Operation_Column Temp Profile_C660 Tray 23 (Control)_oC': 88.36523072835743, 'Simulation Case Conditions_Spec 2 : NA in Benzene_ppmw': 900.5454020509379}. Best is trial 233 with value: 42.97912948330554.\u001b[0m\n",
            "\u001b[32m[I 2021-04-26 08:51:24,753]\u001b[0m Trial 252 finished with value: 43.22652578446709 and parameters: {'Benzene Column C660 Operation_Column Temp Profile_C660 Tray 6 (SD & Control)_oC': 86.48062677378306, 'Benzene Column C660 Operation_Column Temp Profile_C660 Tray 23 (Control)_oC': 88.39477810697137, 'Simulation Case Conditions_Spec 2 : NA in Benzene_ppmw': 900.5573407296766}. Best is trial 233 with value: 42.97912948330554.\u001b[0m\n",
            "\u001b[32m[I 2021-04-26 08:51:24,841]\u001b[0m Trial 253 finished with value: 43.11804272037931 and parameters: {'Benzene Column C660 Operation_Column Temp Profile_C660 Tray 6 (SD & Control)_oC': 86.48000493912427, 'Benzene Column C660 Operation_Column Temp Profile_C660 Tray 23 (Control)_oC': 88.37678851863369, 'Simulation Case Conditions_Spec 2 : NA in Benzene_ppmw': 900.5364111135559}. Best is trial 233 with value: 42.97912948330554.\u001b[0m\n",
            "\u001b[32m[I 2021-04-26 08:51:24,922]\u001b[0m Trial 254 finished with value: 42.995274384142036 and parameters: {'Benzene Column C660 Operation_Column Temp Profile_C660 Tray 6 (SD & Control)_oC': 86.48031554963224, 'Benzene Column C660 Operation_Column Temp Profile_C660 Tray 23 (Control)_oC': 88.37918953883371, 'Simulation Case Conditions_Spec 2 : NA in Benzene_ppmw': 900.5779801400124}. Best is trial 233 with value: 42.97912948330554.\u001b[0m\n",
            "\u001b[32m[I 2021-04-26 08:51:24,997]\u001b[0m Trial 255 finished with value: 43.318839112314706 and parameters: {'Benzene Column C660 Operation_Column Temp Profile_C660 Tray 6 (SD & Control)_oC': 86.48218630864994, 'Benzene Column C660 Operation_Column Temp Profile_C660 Tray 23 (Control)_oC': 88.40417179379443, 'Simulation Case Conditions_Spec 2 : NA in Benzene_ppmw': 900.5585780549337}. Best is trial 233 with value: 42.97912948330554.\u001b[0m\n",
            "\u001b[32m[I 2021-04-26 08:51:25,073]\u001b[0m Trial 256 finished with value: 43.056165103788295 and parameters: {'Benzene Column C660 Operation_Column Temp Profile_C660 Tray 6 (SD & Control)_oC': 86.48112182296325, 'Benzene Column C660 Operation_Column Temp Profile_C660 Tray 23 (Control)_oC': 88.3956176520594, 'Simulation Case Conditions_Spec 2 : NA in Benzene_ppmw': 900.5471794194209}. Best is trial 233 with value: 42.97912948330554.\u001b[0m\n",
            "\u001b[32m[I 2021-04-26 08:51:25,154]\u001b[0m Trial 257 finished with value: 43.1507803311859 and parameters: {'Benzene Column C660 Operation_Column Temp Profile_C660 Tray 6 (SD & Control)_oC': 86.48092613760893, 'Benzene Column C660 Operation_Column Temp Profile_C660 Tray 23 (Control)_oC': 88.39683362662883, 'Simulation Case Conditions_Spec 2 : NA in Benzene_ppmw': 900.5562006416083}. Best is trial 233 with value: 42.97912948330554.\u001b[0m\n",
            "\u001b[32m[I 2021-04-26 08:51:25,234]\u001b[0m Trial 258 finished with value: 43.106410768090534 and parameters: {'Benzene Column C660 Operation_Column Temp Profile_C660 Tray 6 (SD & Control)_oC': 86.47990561719365, 'Benzene Column C660 Operation_Column Temp Profile_C660 Tray 23 (Control)_oC': 88.3757613955072, 'Simulation Case Conditions_Spec 2 : NA in Benzene_ppmw': 900.5619475817278}. Best is trial 233 with value: 42.97912948330554.\u001b[0m\n",
            "\u001b[32m[I 2021-04-26 08:51:25,318]\u001b[0m Trial 259 finished with value: 43.21273759698693 and parameters: {'Benzene Column C660 Operation_Column Temp Profile_C660 Tray 6 (SD & Control)_oC': 86.47892576022183, 'Benzene Column C660 Operation_Column Temp Profile_C660 Tray 23 (Control)_oC': 88.36206415097563, 'Simulation Case Conditions_Spec 2 : NA in Benzene_ppmw': 900.5596810825883}. Best is trial 233 with value: 42.97912948330554.\u001b[0m\n",
            "\u001b[32m[I 2021-04-26 08:51:25,401]\u001b[0m Trial 260 finished with value: 43.09774744124714 and parameters: {'Benzene Column C660 Operation_Column Temp Profile_C660 Tray 6 (SD & Control)_oC': 86.48129103798134, 'Benzene Column C660 Operation_Column Temp Profile_C660 Tray 23 (Control)_oC': 88.39078789966044, 'Simulation Case Conditions_Spec 2 : NA in Benzene_ppmw': 900.572418307824}. Best is trial 233 with value: 42.97912948330554.\u001b[0m\n",
            "\u001b[32m[I 2021-04-26 08:51:25,498]\u001b[0m Trial 261 finished with value: 43.08270575783382 and parameters: {'Benzene Column C660 Operation_Column Temp Profile_C660 Tray 6 (SD & Control)_oC': 86.48154360566683, 'Benzene Column C660 Operation_Column Temp Profile_C660 Tray 23 (Control)_oC': 88.40566601762522, 'Simulation Case Conditions_Spec 2 : NA in Benzene_ppmw': 900.5621951154986}. Best is trial 233 with value: 42.97912948330554.\u001b[0m\n",
            "\u001b[32m[I 2021-04-26 08:51:25,580]\u001b[0m Trial 262 finished with value: 43.09920582284347 and parameters: {'Benzene Column C660 Operation_Column Temp Profile_C660 Tray 6 (SD & Control)_oC': 86.48007066173004, 'Benzene Column C660 Operation_Column Temp Profile_C660 Tray 23 (Control)_oC': 88.3795194578176, 'Simulation Case Conditions_Spec 2 : NA in Benzene_ppmw': 900.5798783678018}. Best is trial 233 with value: 42.97912948330554.\u001b[0m\n",
            "\u001b[32m[I 2021-04-26 08:51:25,662]\u001b[0m Trial 263 finished with value: 42.96580766259129 and parameters: {'Benzene Column C660 Operation_Column Temp Profile_C660 Tray 6 (SD & Control)_oC': 86.47994133544042, 'Benzene Column C660 Operation_Column Temp Profile_C660 Tray 23 (Control)_oC': 88.37124122441604, 'Simulation Case Conditions_Spec 2 : NA in Benzene_ppmw': 900.5872959178247}. Best is trial 263 with value: 42.96580766259129.\u001b[0m\n",
            "\u001b[32m[I 2021-04-26 08:51:25,753]\u001b[0m Trial 264 finished with value: 43.06979362811789 and parameters: {'Benzene Column C660 Operation_Column Temp Profile_C660 Tray 6 (SD & Control)_oC': 86.48171368240533, 'Benzene Column C660 Operation_Column Temp Profile_C660 Tray 23 (Control)_oC': 88.40850895302535, 'Simulation Case Conditions_Spec 2 : NA in Benzene_ppmw': 900.5663726199438}. Best is trial 263 with value: 42.96580766259129.\u001b[0m\n",
            "\u001b[32m[I 2021-04-26 08:51:25,838]\u001b[0m Trial 265 finished with value: 42.87307706305104 and parameters: {'Benzene Column C660 Operation_Column Temp Profile_C660 Tray 6 (SD & Control)_oC': 86.47964259051803, 'Benzene Column C660 Operation_Column Temp Profile_C660 Tray 23 (Control)_oC': 88.35948040810322, 'Simulation Case Conditions_Spec 2 : NA in Benzene_ppmw': 900.5801635393752}. Best is trial 265 with value: 42.87307706305104.\u001b[0m\n",
            "\u001b[32m[I 2021-04-26 08:51:25,921]\u001b[0m Trial 266 finished with value: 42.99562772875311 and parameters: {'Benzene Column C660 Operation_Column Temp Profile_C660 Tray 6 (SD & Control)_oC': 86.48062877096855, 'Benzene Column C660 Operation_Column Temp Profile_C660 Tray 23 (Control)_oC': 88.38504965710896, 'Simulation Case Conditions_Spec 2 : NA in Benzene_ppmw': 900.5764330032283}. Best is trial 265 with value: 42.87307706305104.\u001b[0m\n",
            "\u001b[32m[I 2021-04-26 08:51:26,002]\u001b[0m Trial 267 finished with value: 42.9810636799536 and parameters: {'Benzene Column C660 Operation_Column Temp Profile_C660 Tray 6 (SD & Control)_oC': 86.48033045381133, 'Benzene Column C660 Operation_Column Temp Profile_C660 Tray 23 (Control)_oC': 88.37209411677392, 'Simulation Case Conditions_Spec 2 : NA in Benzene_ppmw': 900.5681274528553}. Best is trial 265 with value: 42.87307706305104.\u001b[0m\n",
            "\u001b[32m[I 2021-04-26 08:51:26,086]\u001b[0m Trial 268 finished with value: 43.075997802476394 and parameters: {'Benzene Column C660 Operation_Column Temp Profile_C660 Tray 6 (SD & Control)_oC': 86.47947714720691, 'Benzene Column C660 Operation_Column Temp Profile_C660 Tray 23 (Control)_oC': 88.36653444713534, 'Simulation Case Conditions_Spec 2 : NA in Benzene_ppmw': 900.5676795841779}. Best is trial 265 with value: 42.87307706305104.\u001b[0m\n",
            "\u001b[32m[I 2021-04-26 08:51:26,168]\u001b[0m Trial 269 finished with value: 42.96727681408785 and parameters: {'Benzene Column C660 Operation_Column Temp Profile_C660 Tray 6 (SD & Control)_oC': 86.47967505632337, 'Benzene Column C660 Operation_Column Temp Profile_C660 Tray 23 (Control)_oC': 88.36601334368434, 'Simulation Case Conditions_Spec 2 : NA in Benzene_ppmw': 900.5826434464202}. Best is trial 265 with value: 42.87307706305104.\u001b[0m\n",
            "\u001b[32m[I 2021-04-26 08:51:26,244]\u001b[0m Trial 270 finished with value: 43.17292855252037 and parameters: {'Benzene Column C660 Operation_Column Temp Profile_C660 Tray 6 (SD & Control)_oC': 86.4810510083765, 'Benzene Column C660 Operation_Column Temp Profile_C660 Tray 23 (Control)_oC': 88.38207453590253, 'Simulation Case Conditions_Spec 2 : NA in Benzene_ppmw': 900.5844667162442}. Best is trial 265 with value: 42.87307706305104.\u001b[0m\n",
            "\u001b[32m[I 2021-04-26 08:51:26,322]\u001b[0m Trial 271 finished with value: 43.24721338926087 and parameters: {'Benzene Column C660 Operation_Column Temp Profile_C660 Tray 6 (SD & Control)_oC': 86.48163862552406, 'Benzene Column C660 Operation_Column Temp Profile_C660 Tray 23 (Control)_oC': 88.41499471511924, 'Simulation Case Conditions_Spec 2 : NA in Benzene_ppmw': 900.5590912015167}. Best is trial 265 with value: 42.87307706305104.\u001b[0m\n",
            "\u001b[32m[I 2021-04-26 08:51:26,403]\u001b[0m Trial 272 finished with value: 43.152245783467514 and parameters: {'Benzene Column C660 Operation_Column Temp Profile_C660 Tray 6 (SD & Control)_oC': 86.48046490068813, 'Benzene Column C660 Operation_Column Temp Profile_C660 Tray 23 (Control)_oC': 88.38806597433226, 'Simulation Case Conditions_Spec 2 : NA in Benzene_ppmw': 900.5541776429732}. Best is trial 265 with value: 42.87307706305104.\u001b[0m\n",
            "\u001b[32m[I 2021-04-26 08:51:26,492]\u001b[0m Trial 273 finished with value: 42.99333125121245 and parameters: {'Benzene Column C660 Operation_Column Temp Profile_C660 Tray 6 (SD & Control)_oC': 86.47981929705466, 'Benzene Column C660 Operation_Column Temp Profile_C660 Tray 23 (Control)_oC': 88.36883447161482, 'Simulation Case Conditions_Spec 2 : NA in Benzene_ppmw': 900.5620100249254}. Best is trial 265 with value: 42.87307706305104.\u001b[0m\n",
            "\u001b[32m[I 2021-04-26 08:51:26,576]\u001b[0m Trial 274 finished with value: 43.13487783785638 and parameters: {'Benzene Column C660 Operation_Column Temp Profile_C660 Tray 6 (SD & Control)_oC': 86.48084632815556, 'Benzene Column C660 Operation_Column Temp Profile_C660 Tray 23 (Control)_oC': 88.39527924752271, 'Simulation Case Conditions_Spec 2 : NA in Benzene_ppmw': 900.5689739375543}. Best is trial 265 with value: 42.87307706305104.\u001b[0m\n",
            "\u001b[32m[I 2021-04-26 08:51:26,665]\u001b[0m Trial 275 finished with value: 42.98357273842327 and parameters: {'Benzene Column C660 Operation_Column Temp Profile_C660 Tray 6 (SD & Control)_oC': 86.48096304845721, 'Benzene Column C660 Operation_Column Temp Profile_C660 Tray 23 (Control)_oC': 88.38706723571802, 'Simulation Case Conditions_Spec 2 : NA in Benzene_ppmw': 900.5845428247881}. Best is trial 265 with value: 42.87307706305104.\u001b[0m\n",
            "\u001b[32m[I 2021-04-26 08:51:26,742]\u001b[0m Trial 276 finished with value: 43.06792840386713 and parameters: {'Benzene Column C660 Operation_Column Temp Profile_C660 Tray 6 (SD & Control)_oC': 86.47974666902915, 'Benzene Column C660 Operation_Column Temp Profile_C660 Tray 23 (Control)_oC': 88.37064735155376, 'Simulation Case Conditions_Spec 2 : NA in Benzene_ppmw': 900.5563870482631}. Best is trial 265 with value: 42.87307706305104.\u001b[0m\n",
            "\u001b[32m[I 2021-04-26 08:51:26,821]\u001b[0m Trial 277 finished with value: 42.96800205033767 and parameters: {'Benzene Column C660 Operation_Column Temp Profile_C660 Tray 6 (SD & Control)_oC': 86.47940709120446, 'Benzene Column C660 Operation_Column Temp Profile_C660 Tray 23 (Control)_oC': 88.35987244298485, 'Simulation Case Conditions_Spec 2 : NA in Benzene_ppmw': 900.5625104913067}. Best is trial 265 with value: 42.87307706305104.\u001b[0m\n",
            "\u001b[32m[I 2021-04-26 08:51:26,912]\u001b[0m Trial 278 finished with value: 43.023978358165905 and parameters: {'Benzene Column C660 Operation_Column Temp Profile_C660 Tray 6 (SD & Control)_oC': 86.47973020819988, 'Benzene Column C660 Operation_Column Temp Profile_C660 Tray 23 (Control)_oC': 88.3690025375026, 'Simulation Case Conditions_Spec 2 : NA in Benzene_ppmw': 900.5695577961885}. Best is trial 265 with value: 42.87307706305104.\u001b[0m\n",
            "\u001b[32m[I 2021-04-26 08:51:26,994]\u001b[0m Trial 279 finished with value: 43.090907296309055 and parameters: {'Benzene Column C660 Operation_Column Temp Profile_C660 Tray 6 (SD & Control)_oC': 86.47945762044635, 'Benzene Column C660 Operation_Column Temp Profile_C660 Tray 23 (Control)_oC': 88.36691346388135, 'Simulation Case Conditions_Spec 2 : NA in Benzene_ppmw': 900.5685393612144}. Best is trial 265 with value: 42.87307706305104.\u001b[0m\n",
            "\u001b[32m[I 2021-04-26 08:51:27,081]\u001b[0m Trial 280 finished with value: 43.024086999899396 and parameters: {'Benzene Column C660 Operation_Column Temp Profile_C660 Tray 6 (SD & Control)_oC': 86.48053297518317, 'Benzene Column C660 Operation_Column Temp Profile_C660 Tray 23 (Control)_oC': 88.38388219034833, 'Simulation Case Conditions_Spec 2 : NA in Benzene_ppmw': 900.5637911346565}. Best is trial 265 with value: 42.87307706305104.\u001b[0m\n",
            "\u001b[32m[I 2021-04-26 08:51:27,168]\u001b[0m Trial 281 finished with value: 43.00967007727657 and parameters: {'Benzene Column C660 Operation_Column Temp Profile_C660 Tray 6 (SD & Control)_oC': 86.48088441616358, 'Benzene Column C660 Operation_Column Temp Profile_C660 Tray 23 (Control)_oC': 88.39045885444911, 'Simulation Case Conditions_Spec 2 : NA in Benzene_ppmw': 900.5747412648983}. Best is trial 265 with value: 42.87307706305104.\u001b[0m\n",
            "\u001b[32m[I 2021-04-26 08:51:27,256]\u001b[0m Trial 282 finished with value: 42.907755136750616 and parameters: {'Benzene Column C660 Operation_Column Temp Profile_C660 Tray 6 (SD & Control)_oC': 86.48029729424908, 'Benzene Column C660 Operation_Column Temp Profile_C660 Tray 23 (Control)_oC': 88.37398331728161, 'Simulation Case Conditions_Spec 2 : NA in Benzene_ppmw': 900.5751399917657}. Best is trial 265 with value: 42.87307706305104.\u001b[0m\n",
            "\u001b[32m[I 2021-04-26 08:51:27,344]\u001b[0m Trial 283 finished with value: 42.96956160103079 and parameters: {'Benzene Column C660 Operation_Column Temp Profile_C660 Tray 6 (SD & Control)_oC': 86.47992947745833, 'Benzene Column C660 Operation_Column Temp Profile_C660 Tray 23 (Control)_oC': 88.37103269358465, 'Simulation Case Conditions_Spec 2 : NA in Benzene_ppmw': 900.5844017689179}. Best is trial 265 with value: 42.87307706305104.\u001b[0m\n",
            "\u001b[32m[I 2021-04-26 08:51:27,427]\u001b[0m Trial 284 finished with value: 42.88112362945249 and parameters: {'Benzene Column C660 Operation_Column Temp Profile_C660 Tray 6 (SD & Control)_oC': 86.47978706117493, 'Benzene Column C660 Operation_Column Temp Profile_C660 Tray 23 (Control)_oC': 88.36422079640103, 'Simulation Case Conditions_Spec 2 : NA in Benzene_ppmw': 900.584840376336}. Best is trial 265 with value: 42.87307706305104.\u001b[0m\n",
            "\u001b[32m[I 2021-04-26 08:51:27,516]\u001b[0m Trial 285 finished with value: 43.07338670171093 and parameters: {'Benzene Column C660 Operation_Column Temp Profile_C660 Tray 6 (SD & Control)_oC': 86.48057979374391, 'Benzene Column C660 Operation_Column Temp Profile_C660 Tray 23 (Control)_oC': 88.38729405550848, 'Simulation Case Conditions_Spec 2 : NA in Benzene_ppmw': 900.5679314143554}. Best is trial 265 with value: 42.87307706305104.\u001b[0m\n",
            "\u001b[32m[I 2021-04-26 08:51:27,606]\u001b[0m Trial 286 finished with value: 42.93791808563487 and parameters: {'Benzene Column C660 Operation_Column Temp Profile_C660 Tray 6 (SD & Control)_oC': 86.47945854141965, 'Benzene Column C660 Operation_Column Temp Profile_C660 Tray 23 (Control)_oC': 88.36059814928109, 'Simulation Case Conditions_Spec 2 : NA in Benzene_ppmw': 900.5837053961037}. Best is trial 265 with value: 42.87307706305104.\u001b[0m\n",
            "\u001b[32m[I 2021-04-26 08:51:27,703]\u001b[0m Trial 287 finished with value: 42.926837621886456 and parameters: {'Benzene Column C660 Operation_Column Temp Profile_C660 Tray 6 (SD & Control)_oC': 86.47975705428111, 'Benzene Column C660 Operation_Column Temp Profile_C660 Tray 23 (Control)_oC': 88.36480020887073, 'Simulation Case Conditions_Spec 2 : NA in Benzene_ppmw': 900.5667036595624}. Best is trial 265 with value: 42.87307706305104.\u001b[0m\n",
            "\u001b[32m[I 2021-04-26 08:51:27,787]\u001b[0m Trial 288 finished with value: 42.97848216027064 and parameters: {'Benzene Column C660 Operation_Column Temp Profile_C660 Tray 6 (SD & Control)_oC': 86.47973212117394, 'Benzene Column C660 Operation_Column Temp Profile_C660 Tray 23 (Control)_oC': 88.35760678393207, 'Simulation Case Conditions_Spec 2 : NA in Benzene_ppmw': 900.5871774111893}. Best is trial 265 with value: 42.87307706305104.\u001b[0m\n",
            "\u001b[32m[I 2021-04-26 08:51:27,871]\u001b[0m Trial 289 finished with value: 42.84236310972044 and parameters: {'Benzene Column C660 Operation_Column Temp Profile_C660 Tray 6 (SD & Control)_oC': 86.47952779195359, 'Benzene Column C660 Operation_Column Temp Profile_C660 Tray 23 (Control)_oC': 88.35777615290989, 'Simulation Case Conditions_Spec 2 : NA in Benzene_ppmw': 900.5899710723886}. Best is trial 289 with value: 42.84236310972044.\u001b[0m\n",
            "\u001b[32m[I 2021-04-26 08:51:27,961]\u001b[0m Trial 290 finished with value: 42.90905293124612 and parameters: {'Benzene Column C660 Operation_Column Temp Profile_C660 Tray 6 (SD & Control)_oC': 86.48023730400703, 'Benzene Column C660 Operation_Column Temp Profile_C660 Tray 23 (Control)_oC': 88.37357383980277, 'Simulation Case Conditions_Spec 2 : NA in Benzene_ppmw': 900.5761275260176}. Best is trial 289 with value: 42.84236310972044.\u001b[0m\n",
            "\u001b[32m[I 2021-04-26 08:51:28,048]\u001b[0m Trial 291 finished with value: 43.01949091806907 and parameters: {'Benzene Column C660 Operation_Column Temp Profile_C660 Tray 6 (SD & Control)_oC': 86.48162757296869, 'Benzene Column C660 Operation_Column Temp Profile_C660 Tray 23 (Control)_oC': 88.40193126899476, 'Simulation Case Conditions_Spec 2 : NA in Benzene_ppmw': 900.5611541031219}. Best is trial 289 with value: 42.84236310972044.\u001b[0m\n",
            "\u001b[32m[I 2021-04-26 08:51:28,139]\u001b[0m Trial 292 finished with value: 42.879419624386536 and parameters: {'Benzene Column C660 Operation_Column Temp Profile_C660 Tray 6 (SD & Control)_oC': 86.47988590897371, 'Benzene Column C660 Operation_Column Temp Profile_C660 Tray 23 (Control)_oC': 88.36503315204199, 'Simulation Case Conditions_Spec 2 : NA in Benzene_ppmw': 900.5868318396674}. Best is trial 289 with value: 42.84236310972044.\u001b[0m\n",
            "\u001b[32m[I 2021-04-26 08:51:28,232]\u001b[0m Trial 293 finished with value: 42.880772224692564 and parameters: {'Benzene Column C660 Operation_Column Temp Profile_C660 Tray 6 (SD & Control)_oC': 86.47959503871222, 'Benzene Column C660 Operation_Column Temp Profile_C660 Tray 23 (Control)_oC': 88.35797507681336, 'Simulation Case Conditions_Spec 2 : NA in Benzene_ppmw': 900.5876723163759}. Best is trial 289 with value: 42.84236310972044.\u001b[0m\n",
            "\u001b[32m[I 2021-04-26 08:51:28,321]\u001b[0m Trial 294 finished with value: 42.99029474959484 and parameters: {'Benzene Column C660 Operation_Column Temp Profile_C660 Tray 6 (SD & Control)_oC': 86.48076402865328, 'Benzene Column C660 Operation_Column Temp Profile_C660 Tray 23 (Control)_oC': 88.38746324979985, 'Simulation Case Conditions_Spec 2 : NA in Benzene_ppmw': 900.5782399922796}. Best is trial 289 with value: 42.84236310972044.\u001b[0m\n",
            "\u001b[32m[I 2021-04-26 08:51:28,411]\u001b[0m Trial 295 finished with value: 42.920585159251345 and parameters: {'Benzene Column C660 Operation_Column Temp Profile_C660 Tray 6 (SD & Control)_oC': 86.47976484256469, 'Benzene Column C660 Operation_Column Temp Profile_C660 Tray 23 (Control)_oC': 88.36043450887377, 'Simulation Case Conditions_Spec 2 : NA in Benzene_ppmw': 900.6013563225749}. Best is trial 289 with value: 42.84236310972044.\u001b[0m\n",
            "\u001b[32m[I 2021-04-26 08:51:28,499]\u001b[0m Trial 296 finished with value: 43.026997550589435 and parameters: {'Benzene Column C660 Operation_Column Temp Profile_C660 Tray 6 (SD & Control)_oC': 86.48071419726212, 'Benzene Column C660 Operation_Column Temp Profile_C660 Tray 23 (Control)_oC': 88.38804721953062, 'Simulation Case Conditions_Spec 2 : NA in Benzene_ppmw': 900.57483153059}. Best is trial 289 with value: 42.84236310972044.\u001b[0m\n",
            "\u001b[32m[I 2021-04-26 08:51:28,593]\u001b[0m Trial 297 finished with value: 42.87392600001238 and parameters: {'Benzene Column C660 Operation_Column Temp Profile_C660 Tray 6 (SD & Control)_oC': 86.47978201324332, 'Benzene Column C660 Operation_Column Temp Profile_C660 Tray 23 (Control)_oC': 88.3634482752344, 'Simulation Case Conditions_Spec 2 : NA in Benzene_ppmw': 900.5785675567848}. Best is trial 289 with value: 42.84236310972044.\u001b[0m\n",
            "\u001b[32m[I 2021-04-26 08:51:28,685]\u001b[0m Trial 298 finished with value: 43.00991993671006 and parameters: {'Benzene Column C660 Operation_Column Temp Profile_C660 Tray 6 (SD & Control)_oC': 86.47964369414008, 'Benzene Column C660 Operation_Column Temp Profile_C660 Tray 23 (Control)_oC': 88.35418443907317, 'Simulation Case Conditions_Spec 2 : NA in Benzene_ppmw': 900.5992557867046}. Best is trial 289 with value: 42.84236310972044.\u001b[0m\n",
            "\u001b[32m[I 2021-04-26 08:51:28,771]\u001b[0m Trial 299 finished with value: 42.93761499516975 and parameters: {'Benzene Column C660 Operation_Column Temp Profile_C660 Tray 6 (SD & Control)_oC': 86.48043019808145, 'Benzene Column C660 Operation_Column Temp Profile_C660 Tray 23 (Control)_oC': 88.37587409613684, 'Simulation Case Conditions_Spec 2 : NA in Benzene_ppmw': 900.594215793587}. Best is trial 289 with value: 42.84236310972044.\u001b[0m\n"
          ],
          "name": "stderr"
        },
        {
          "output_type": "stream",
          "text": [
            "bz_error: 2.6904211551936896e-05\n",
            "nainbz_error: 43.432289493090934\n",
            "tol_error: 2.979267874181346e-06\n",
            "dist_rate 1.0000124251363922\n",
            "nainbz: 943.4322894930909\n"
          ],
          "name": "stdout"
        }
      ]
    },
    {
      "cell_type": "code",
      "metadata": {
        "colab": {
          "base_uri": "https://localhost:8080/"
        },
        "id": "Dl28ZJO8j4W-",
        "outputId": "dfde4071-4e74-4001-bcde-9d1049642813"
      },
      "source": [
        "bz_error,nainbz_error,tol_error"
      ],
      "execution_count": 48,
      "outputs": [
        {
          "output_type": "execute_result",
          "data": {
            "text/plain": [
              "(2.6904211551936896e-05, 43.432289493090934, 2.979267874181346e-06)"
            ]
          },
          "metadata": {
            "tags": []
          },
          "execution_count": 48
        }
      ]
    },
    {
      "cell_type": "markdown",
      "metadata": {
        "id": "xSkcppr3yfo_"
      },
      "source": [
        "# 計算delta調幅"
      ]
    },
    {
      "cell_type": "code",
      "metadata": {
        "id": "24-1JGcxygAo",
        "colab": {
          "base_uri": "https://localhost:8080/",
          "height": 80
        },
        "outputId": "4cdb66d7-b171-4cfd-94e7-68d632361f7e"
      },
      "source": [
        "(c620_op2-c620_op).iloc[:,-2:]"
      ],
      "execution_count": 49,
      "outputs": [
        {
          "output_type": "execute_result",
          "data": {
            "text/html": [
              "<div>\n",
              "<style scoped>\n",
              "    .dataframe tbody tr th:only-of-type {\n",
              "        vertical-align: middle;\n",
              "    }\n",
              "\n",
              "    .dataframe tbody tr th {\n",
              "        vertical-align: top;\n",
              "    }\n",
              "\n",
              "    .dataframe thead th {\n",
              "        text-align: right;\n",
              "    }\n",
              "</style>\n",
              "<table border=\"1\" class=\"dataframe\">\n",
              "  <thead>\n",
              "    <tr style=\"text-align: right;\">\n",
              "      <th></th>\n",
              "      <th>Tatoray Stripper C620 Operation_Column Temp Profile_C620 Tray 14 (Control)_oC</th>\n",
              "      <th>Tatoray Stripper C620 Operation_Column Temp Profile_C620 Tray 34 (Control)_oC</th>\n",
              "    </tr>\n",
              "  </thead>\n",
              "  <tbody>\n",
              "    <tr>\n",
              "      <th>002-002</th>\n",
              "      <td>-0.863026</td>\n",
              "      <td>0.723152</td>\n",
              "    </tr>\n",
              "  </tbody>\n",
              "</table>\n",
              "</div>"
            ],
            "text/plain": [
              "         Tatoray Stripper C620 Operation_Column Temp Profile_C620 Tray 14 (Control)_oC  Tatoray Stripper C620 Operation_Column Temp Profile_C620 Tray 34 (Control)_oC\n",
              "002-002                                          -0.863026                                                                       0.723152                            "
            ]
          },
          "metadata": {
            "tags": []
          },
          "execution_count": 49
        }
      ]
    },
    {
      "cell_type": "code",
      "metadata": {
        "id": "Hw-A51MMnMO4",
        "colab": {
          "base_uri": "https://localhost:8080/",
          "height": 80
        },
        "outputId": "396bc4a0-200f-44c7-e663-00928bdc47ab"
      },
      "source": [
        "(c660_op2-c660_op).iloc[:,-2:]"
      ],
      "execution_count": 50,
      "outputs": [
        {
          "output_type": "execute_result",
          "data": {
            "text/html": [
              "<div>\n",
              "<style scoped>\n",
              "    .dataframe tbody tr th:only-of-type {\n",
              "        vertical-align: middle;\n",
              "    }\n",
              "\n",
              "    .dataframe tbody tr th {\n",
              "        vertical-align: top;\n",
              "    }\n",
              "\n",
              "    .dataframe thead th {\n",
              "        text-align: right;\n",
              "    }\n",
              "</style>\n",
              "<table border=\"1\" class=\"dataframe\">\n",
              "  <thead>\n",
              "    <tr style=\"text-align: right;\">\n",
              "      <th></th>\n",
              "      <th>Benzene Column C660 Operation_Column Temp Profile_C660 Tray 6 (SD &amp; Control)_oC</th>\n",
              "      <th>Benzene Column C660 Operation_Column Temp Profile_C660 Tray 23 (Control)_oC</th>\n",
              "    </tr>\n",
              "  </thead>\n",
              "  <tbody>\n",
              "    <tr>\n",
              "      <th>002-002</th>\n",
              "      <td>0.01978</td>\n",
              "      <td>-0.754673</td>\n",
              "    </tr>\n",
              "  </tbody>\n",
              "</table>\n",
              "</div>"
            ],
            "text/plain": [
              "         Benzene Column C660 Operation_Column Temp Profile_C660 Tray 6 (SD & Control)_oC  Benzene Column C660 Operation_Column Temp Profile_C660 Tray 23 (Control)_oC\n",
              "002-002                                            0.01978                                                                        -0.754673                          "
            ]
          },
          "metadata": {
            "tags": []
          },
          "execution_count": 50
        }
      ]
    },
    {
      "cell_type": "code",
      "metadata": {
        "id": "ifCfN-RQymlp",
        "colab": {
          "base_uri": "https://localhost:8080/",
          "height": 80
        },
        "outputId": "82a11235-62f9-4926-e0ba-2cd3b013ab32"
      },
      "source": [
        "(c670_op2-c670_op).iloc[:,-2:]"
      ],
      "execution_count": 51,
      "outputs": [
        {
          "output_type": "execute_result",
          "data": {
            "text/html": [
              "<div>\n",
              "<style scoped>\n",
              "    .dataframe tbody tr th:only-of-type {\n",
              "        vertical-align: middle;\n",
              "    }\n",
              "\n",
              "    .dataframe tbody tr th {\n",
              "        vertical-align: top;\n",
              "    }\n",
              "\n",
              "    .dataframe thead th {\n",
              "        text-align: right;\n",
              "    }\n",
              "</style>\n",
              "<table border=\"1\" class=\"dataframe\">\n",
              "  <thead>\n",
              "    <tr style=\"text-align: right;\">\n",
              "      <th></th>\n",
              "      <th>Toluene Column C670 Operation_Column Temp Profile_C670 Tray 24 (Control)_oC</th>\n",
              "      <th>Toluene Column C670 Operation_Column Temp Profile_C670 Btm Temp (Control)_oC</th>\n",
              "    </tr>\n",
              "  </thead>\n",
              "  <tbody>\n",
              "    <tr>\n",
              "      <th>002-002</th>\n",
              "      <td>-0.027344</td>\n",
              "      <td>0.071823</td>\n",
              "    </tr>\n",
              "  </tbody>\n",
              "</table>\n",
              "</div>"
            ],
            "text/plain": [
              "         Toluene Column C670 Operation_Column Temp Profile_C670 Tray 24 (Control)_oC  Toluene Column C670 Operation_Column Temp Profile_C670 Btm Temp (Control)_oC\n",
              "002-002                                          -0.027344                                                                     0.071823                           "
            ]
          },
          "metadata": {
            "tags": []
          },
          "execution_count": 51
        }
      ]
    },
    {
      "cell_type": "markdown",
      "metadata": {
        "id": "6SRY8beP2bdC"
      },
      "source": [
        "# 檢查三項約束條件"
      ]
    },
    {
      "cell_type": "code",
      "metadata": {
        "id": "4gL9_TmZypAi",
        "colab": {
          "base_uri": "https://localhost:8080/",
          "height": 80
        },
        "outputId": "02874a3c-3605-477f-8844-fb006f84898b"
      },
      "source": [
        "c620_wt2[['Tatoray Stripper C620 Operation_Sidedraw Production Rate and Composition_Benzene_wt%']]"
      ],
      "execution_count": 52,
      "outputs": [
        {
          "output_type": "execute_result",
          "data": {
            "text/html": [
              "<div>\n",
              "<style scoped>\n",
              "    .dataframe tbody tr th:only-of-type {\n",
              "        vertical-align: middle;\n",
              "    }\n",
              "\n",
              "    .dataframe tbody tr th {\n",
              "        vertical-align: top;\n",
              "    }\n",
              "\n",
              "    .dataframe thead th {\n",
              "        text-align: right;\n",
              "    }\n",
              "</style>\n",
              "<table border=\"1\" class=\"dataframe\">\n",
              "  <thead>\n",
              "    <tr style=\"text-align: right;\">\n",
              "      <th></th>\n",
              "      <th>Tatoray Stripper C620 Operation_Sidedraw Production Rate and Composition_Benzene_wt%</th>\n",
              "    </tr>\n",
              "  </thead>\n",
              "  <tbody>\n",
              "    <tr>\n",
              "      <th>002-002</th>\n",
              "      <td>69.999973</td>\n",
              "    </tr>\n",
              "  </tbody>\n",
              "</table>\n",
              "</div>"
            ],
            "text/plain": [
              "         Tatoray Stripper C620 Operation_Sidedraw Production Rate and Composition_Benzene_wt%\n",
              "002-002                                          69.999973                                   "
            ]
          },
          "metadata": {
            "tags": []
          },
          "execution_count": 52
        }
      ]
    },
    {
      "cell_type": "code",
      "metadata": {
        "id": "QVGtpZ9c1tn9",
        "colab": {
          "base_uri": "https://localhost:8080/"
        },
        "outputId": "c9d9ca93-cc5b-4274-a56d-c66512dc79f8"
      },
      "source": [
        "na_idx = [1,2,3,4,5,6,8,9,11,13,14,15,20,22,29] \n",
        "c660_wt2.filter(regex='Side').filter(regex='wt%').iloc[:,na_idx].sum(axis=1).values[0]*10000"
      ],
      "execution_count": 53,
      "outputs": [
        {
          "output_type": "execute_result",
          "data": {
            "text/plain": [
              "943.4322894930909"
            ]
          },
          "metadata": {
            "tags": []
          },
          "execution_count": 53
        }
      ]
    },
    {
      "cell_type": "code",
      "metadata": {
        "id": "yf9nHzl41_GS",
        "colab": {
          "base_uri": "https://localhost:8080/"
        },
        "outputId": "c4704b44-1c1c-4be8-c578-988825b08d83"
      },
      "source": [
        "c660_wt2['Benzene Column C660 Operation_Sidedraw (Benzene )Production Rate and Composition_Toluene_wt%'].values[0]*10000"
      ],
      "execution_count": 54,
      "outputs": [
        {
          "output_type": "execute_result",
          "data": {
            "text/plain": [
              "10.000002979267874"
            ]
          },
          "metadata": {
            "tags": []
          },
          "execution_count": 54
        }
      ]
    },
    {
      "cell_type": "code",
      "metadata": {
        "id": "-iLPX5ey2F7K",
        "colab": {
          "base_uri": "https://localhost:8080/"
        },
        "outputId": "a396ef6c-187f-4d1f-cb96-f0af0553e666"
      },
      "source": [
        "c620_wt2.iloc[:,:41].sum(axis=1)"
      ],
      "execution_count": 55,
      "outputs": [
        {
          "output_type": "execute_result",
          "data": {
            "text/plain": [
              "002-002    100.0\n",
              "dtype: float64"
            ]
          },
          "metadata": {
            "tags": []
          },
          "execution_count": 55
        }
      ]
    },
    {
      "cell_type": "code",
      "metadata": {
        "id": "4hTAFZb04AGX",
        "colab": {
          "base_uri": "https://localhost:8080/"
        },
        "outputId": "707e54ad-aea9-4b0c-e1ca-bebc0ad0f287"
      },
      "source": [
        "c660_wt2.iloc[:,:41].sum(axis=1)"
      ],
      "execution_count": 56,
      "outputs": [
        {
          "output_type": "execute_result",
          "data": {
            "text/plain": [
              "002-002    100.0\n",
              "dtype: float64"
            ]
          },
          "metadata": {
            "tags": []
          },
          "execution_count": 56
        }
      ]
    },
    {
      "cell_type": "code",
      "metadata": {
        "id": "9C5OWnXq4CKG",
        "colab": {
          "base_uri": "https://localhost:8080/"
        },
        "outputId": "6c5d48c4-9018-40b9-ce87-ee542c4621b8"
      },
      "source": [
        "c670_wt2.iloc[:,:41].sum(axis=1)"
      ],
      "execution_count": 57,
      "outputs": [
        {
          "output_type": "execute_result",
          "data": {
            "text/plain": [
              "002-002    100.0\n",
              "dtype: float64"
            ]
          },
          "metadata": {
            "tags": []
          },
          "execution_count": 57
        }
      ]
    },
    {
      "cell_type": "code",
      "metadata": {
        "id": "OuzbOOJI4HWu"
      },
      "source": [
        ""
      ],
      "execution_count": 57,
      "outputs": []
    }
  ]
}