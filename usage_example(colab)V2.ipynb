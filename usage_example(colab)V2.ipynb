{
  "nbformat": 4,
  "nbformat_minor": 0,
  "metadata": {
    "colab": {
      "name": "usage_example(colab)V2.ipynb",
      "provenance": [],
      "authorship_tag": "ABX9TyP5k5pr/MAOzBeu0BWT6AhX",
      "include_colab_link": true
    },
    "kernelspec": {
      "name": "python3",
      "display_name": "Python 3"
    },
    "language_info": {
      "name": "python"
    }
  },
  "cells": [
    {
      "cell_type": "markdown",
      "metadata": {
        "id": "view-in-github",
        "colab_type": "text"
      },
      "source": [
        "<a href=\"https://colab.research.google.com/github/skywalker0803r/c620/blob/main/usage_example(colab)V2.ipynb\" target=\"_parent\"><img src=\"https://colab.research.google.com/assets/colab-badge.svg\" alt=\"Open In Colab\"/></a>"
      ]
    },
    {
      "cell_type": "code",
      "metadata": {
        "colab": {
          "base_uri": "https://localhost:8080/"
        },
        "id": "RW02A7ODhoZ-",
        "outputId": "df650a75-2fe7-4164-d9a9-07eafc4b86d7"
      },
      "source": [
        "!git clone https://github.com/skywalker0803r/c620.git\n",
        "!pip install autorch > log.txt\n",
        "!pip install optuna > log.txt"
      ],
      "execution_count": 1,
      "outputs": [
        {
          "output_type": "stream",
          "text": [
            "Cloning into 'c620'...\n",
            "remote: Enumerating objects: 2202, done.\u001b[K\n",
            "remote: Counting objects: 100% (1020/1020), done.\u001b[K\n",
            "remote: Compressing objects: 100% (562/562), done.\u001b[K\n",
            "remote: Total 2202 (delta 663), reused 687 (delta 449), pack-reused 1182\u001b[K\n",
            "Receiving objects: 100% (2202/2202), 53.96 MiB | 22.72 MiB/s, done.\n",
            "Resolving deltas: 100% (1441/1441), done.\n"
          ],
          "name": "stdout"
        }
      ]
    },
    {
      "cell_type": "markdown",
      "metadata": {
        "id": "6WRPk_SMhx38"
      },
      "source": [
        "# import"
      ]
    },
    {
      "cell_type": "code",
      "metadata": {
        "colab": {
          "base_uri": "https://localhost:8080/"
        },
        "id": "rBbhLQgyhvQr",
        "outputId": "41809721-4f1a-43ef-e8d8-1296fbd5af13"
      },
      "source": [
        "from c620.FV2 import AllSystem\n",
        "from c620.configV2 import config\n",
        "import joblib\n",
        "import numpy as np\n",
        "import pandas as pd\n",
        "import os\n",
        "os.chdir('/content/c620')\n",
        "print(os.getcwd())\n",
        "!git pull"
      ],
      "execution_count": 2,
      "outputs": [
        {
          "output_type": "stream",
          "text": [
            "/content/c620\n",
            "Already up to date.\n"
          ],
          "name": "stdout"
        }
      ]
    },
    {
      "cell_type": "markdown",
      "metadata": {
        "id": "BXqYkSpqh9jp"
      },
      "source": [
        "# demo data"
      ]
    },
    {
      "cell_type": "code",
      "metadata": {
        "colab": {
          "base_uri": "https://localhost:8080/",
          "height": 202
        },
        "id": "ineX__x-h785",
        "outputId": "55917a68-e365-4954-f7d0-3fd06b1bafc1"
      },
      "source": [
        "demo = joblib.load('./data/demo.pkl')\n",
        "print(demo.keys())\n",
        "icg_input = demo['icg_input']\n",
        "c620_feed = demo['c620_feed']\n",
        "t651_feed = demo['t651_feed']\n",
        "icg_input.head()"
      ],
      "execution_count": 3,
      "outputs": [
        {
          "output_type": "stream",
          "text": [
            "dict_keys(['icg_input', 'c620_feed', 't651_feed', 'c620_op', 'c620_wt', 'c660_op', 'c660_wt', 'c670_op', 'c670_wt'])\n"
          ],
          "name": "stdout"
        },
        {
          "output_type": "execute_result",
          "data": {
            "text/html": [
              "<div>\n",
              "<style scoped>\n",
              "    .dataframe tbody tr th:only-of-type {\n",
              "        vertical-align: middle;\n",
              "    }\n",
              "\n",
              "    .dataframe tbody tr th {\n",
              "        vertical-align: top;\n",
              "    }\n",
              "\n",
              "    .dataframe thead th {\n",
              "        text-align: right;\n",
              "    }\n",
              "</style>\n",
              "<table border=\"1\" class=\"dataframe\">\n",
              "  <thead>\n",
              "    <tr style=\"text-align: right;\">\n",
              "      <th></th>\n",
              "      <th>Simulation Case Conditions_Feed Rate_Feed from V615 Btm_m3/hr</th>\n",
              "      <th>Simulation Case Conditions_Feed Rate_Feed from V615 Btm    NA_wt%</th>\n",
              "      <th>Simulation Case Conditions_Feed Rate_Feed from V615 Btm    Benzene_wt%</th>\n",
              "      <th>Simulation Case Conditions_Feed Rate_Feed from V615 Btm    Toluene_wt%</th>\n",
              "      <th>Simulation Case Conditions_Feed Rate_Feed from C820 Dist_m3/hr</th>\n",
              "      <th>Simulation Case Conditions_Feed Rate_Feed from C820 Dist    NA_wt%</th>\n",
              "      <th>Simulation Case Conditions_Feed Rate_Feed from C820 Dist    Benzene_wt%</th>\n",
              "      <th>Simulation Case Conditions_Feed Rate_Feed from C820 Dist    Toluene_wt%</th>\n",
              "      <th>Simulation Case Conditions_Feed Rate_Feed from T651_m3/hr</th>\n",
              "      <th>Simulation Case Conditions_Feed Rate_Feed from T651    NA_wt%</th>\n",
              "      <th>Simulation Case Conditions_Feed Rate_Feed from T651    Benzene_wt%</th>\n",
              "      <th>Simulation Case Conditions_Feed Rate_Feed from T651    Toluene_wt%</th>\n",
              "      <th>Simulation Case Conditions_Spec 1 : Benzene in C620 Sidedraw_wt%</th>\n",
              "      <th>Simulation Case Conditions_Spec 2 : NA in Benzene_ppmw</th>\n",
              "      <th>Tatoray Stripper C620 Operation_Specifications_Spec 2 : Distillate Rate_m3/hr</th>\n",
              "      <th>Benzene Column C660 Operation_Specifications_Spec 3 : Toluene in Benzene_ppmw</th>\n",
              "      <th>Tatoray Stripper C620 Operation_Specifications_Spec 1 : Receiver Temp_oC</th>\n",
              "    </tr>\n",
              "  </thead>\n",
              "  <tbody>\n",
              "    <tr>\n",
              "      <th>002-002</th>\n",
              "      <td>163.0</td>\n",
              "      <td>1.356</td>\n",
              "      <td>10.321001</td>\n",
              "      <td>40.887009</td>\n",
              "      <td>15.0</td>\n",
              "      <td>2.338977</td>\n",
              "      <td>74.302254</td>\n",
              "      <td>17.467825</td>\n",
              "      <td>41.0</td>\n",
              "      <td>0.4524</td>\n",
              "      <td>44.244236</td>\n",
              "      <td>44.786339</td>\n",
              "      <td>70</td>\n",
              "      <td>980</td>\n",
              "      <td>0.25</td>\n",
              "      <td>10</td>\n",
              "      <td>36.0</td>\n",
              "    </tr>\n",
              "  </tbody>\n",
              "</table>\n",
              "</div>"
            ],
            "text/plain": [
              "         Simulation Case Conditions_Feed Rate_Feed from V615 Btm_m3/hr  ...  Tatoray Stripper C620 Operation_Specifications_Spec 1 : Receiver Temp_oC\n",
              "002-002                                              163.0              ...                                               36.0                       \n",
              "\n",
              "[1 rows x 17 columns]"
            ]
          },
          "metadata": {
            "tags": []
          },
          "execution_count": 3
        }
      ]
    },
    {
      "cell_type": "code",
      "metadata": {
        "id": "gZdJpb_otILR",
        "colab": {
          "base_uri": "https://localhost:8080/",
          "height": 80
        },
        "outputId": "ac4cec61-49eb-4972-af20-798912aacd06"
      },
      "source": [
        "icg_input[['Simulation Case Conditions_Spec 2 : NA in Benzene_ppmw']]"
      ],
      "execution_count": 4,
      "outputs": [
        {
          "output_type": "execute_result",
          "data": {
            "text/html": [
              "<div>\n",
              "<style scoped>\n",
              "    .dataframe tbody tr th:only-of-type {\n",
              "        vertical-align: middle;\n",
              "    }\n",
              "\n",
              "    .dataframe tbody tr th {\n",
              "        vertical-align: top;\n",
              "    }\n",
              "\n",
              "    .dataframe thead th {\n",
              "        text-align: right;\n",
              "    }\n",
              "</style>\n",
              "<table border=\"1\" class=\"dataframe\">\n",
              "  <thead>\n",
              "    <tr style=\"text-align: right;\">\n",
              "      <th></th>\n",
              "      <th>Simulation Case Conditions_Spec 2 : NA in Benzene_ppmw</th>\n",
              "    </tr>\n",
              "  </thead>\n",
              "  <tbody>\n",
              "    <tr>\n",
              "      <th>002-002</th>\n",
              "      <td>980</td>\n",
              "    </tr>\n",
              "  </tbody>\n",
              "</table>\n",
              "</div>"
            ],
            "text/plain": [
              "         Simulation Case Conditions_Spec 2 : NA in Benzene_ppmw\n",
              "002-002                                                980     "
            ]
          },
          "metadata": {
            "tags": []
          },
          "execution_count": 4
        }
      ]
    },
    {
      "cell_type": "code",
      "metadata": {
        "id": "10dAfnigtL5M",
        "colab": {
          "base_uri": "https://localhost:8080/",
          "height": 80
        },
        "outputId": "98c20578-c3be-4347-898b-7ab796af26d8"
      },
      "source": [
        "icg_input[['Simulation Case Conditions_Spec 1 : Benzene in C620 Sidedraw_wt%']]"
      ],
      "execution_count": 5,
      "outputs": [
        {
          "output_type": "execute_result",
          "data": {
            "text/html": [
              "<div>\n",
              "<style scoped>\n",
              "    .dataframe tbody tr th:only-of-type {\n",
              "        vertical-align: middle;\n",
              "    }\n",
              "\n",
              "    .dataframe tbody tr th {\n",
              "        vertical-align: top;\n",
              "    }\n",
              "\n",
              "    .dataframe thead th {\n",
              "        text-align: right;\n",
              "    }\n",
              "</style>\n",
              "<table border=\"1\" class=\"dataframe\">\n",
              "  <thead>\n",
              "    <tr style=\"text-align: right;\">\n",
              "      <th></th>\n",
              "      <th>Simulation Case Conditions_Spec 1 : Benzene in C620 Sidedraw_wt%</th>\n",
              "    </tr>\n",
              "  </thead>\n",
              "  <tbody>\n",
              "    <tr>\n",
              "      <th>002-002</th>\n",
              "      <td>70</td>\n",
              "    </tr>\n",
              "  </tbody>\n",
              "</table>\n",
              "</div>"
            ],
            "text/plain": [
              "         Simulation Case Conditions_Spec 1 : Benzene in C620 Sidedraw_wt%\n",
              "002-002                                                 70               "
            ]
          },
          "metadata": {
            "tags": []
          },
          "execution_count": 5
        }
      ]
    },
    {
      "cell_type": "code",
      "metadata": {
        "id": "H9uXRuhItL86",
        "colab": {
          "base_uri": "https://localhost:8080/",
          "height": 80
        },
        "outputId": "f5303099-7205-4eb5-a6e7-7b18046b4a18"
      },
      "source": [
        "icg_input[['Benzene Column C660 Operation_Specifications_Spec 3 : Toluene in Benzene_ppmw']]"
      ],
      "execution_count": 6,
      "outputs": [
        {
          "output_type": "execute_result",
          "data": {
            "text/html": [
              "<div>\n",
              "<style scoped>\n",
              "    .dataframe tbody tr th:only-of-type {\n",
              "        vertical-align: middle;\n",
              "    }\n",
              "\n",
              "    .dataframe tbody tr th {\n",
              "        vertical-align: top;\n",
              "    }\n",
              "\n",
              "    .dataframe thead th {\n",
              "        text-align: right;\n",
              "    }\n",
              "</style>\n",
              "<table border=\"1\" class=\"dataframe\">\n",
              "  <thead>\n",
              "    <tr style=\"text-align: right;\">\n",
              "      <th></th>\n",
              "      <th>Benzene Column C660 Operation_Specifications_Spec 3 : Toluene in Benzene_ppmw</th>\n",
              "    </tr>\n",
              "  </thead>\n",
              "  <tbody>\n",
              "    <tr>\n",
              "      <th>002-002</th>\n",
              "      <td>10</td>\n",
              "    </tr>\n",
              "  </tbody>\n",
              "</table>\n",
              "</div>"
            ],
            "text/plain": [
              "         Benzene Column C660 Operation_Specifications_Spec 3 : Toluene in Benzene_ppmw\n",
              "002-002                                                 10                            "
            ]
          },
          "metadata": {
            "tags": []
          },
          "execution_count": 6
        }
      ]
    },
    {
      "cell_type": "markdown",
      "metadata": {
        "id": "3CoArzTyiJw3"
      },
      "source": [
        "# 1.試算模式"
      ]
    },
    {
      "cell_type": "code",
      "metadata": {
        "id": "thf_SjD_xqrG"
      },
      "source": [
        "f = joblib.load('/content/c620/model/allsystem.pkl')"
      ],
      "execution_count": 7,
      "outputs": []
    },
    {
      "cell_type": "code",
      "metadata": {
        "id": "Sj_g8Ef5yuOe",
        "colab": {
          "base_uri": "https://localhost:8080/",
          "height": 185
        },
        "outputId": "85a1de05-a552-4b50-b9a3-1ab78628f0fe"
      },
      "source": [
        "demo['icg_input']"
      ],
      "execution_count": 8,
      "outputs": [
        {
          "output_type": "execute_result",
          "data": {
            "text/html": [
              "<div>\n",
              "<style scoped>\n",
              "    .dataframe tbody tr th:only-of-type {\n",
              "        vertical-align: middle;\n",
              "    }\n",
              "\n",
              "    .dataframe tbody tr th {\n",
              "        vertical-align: top;\n",
              "    }\n",
              "\n",
              "    .dataframe thead th {\n",
              "        text-align: right;\n",
              "    }\n",
              "</style>\n",
              "<table border=\"1\" class=\"dataframe\">\n",
              "  <thead>\n",
              "    <tr style=\"text-align: right;\">\n",
              "      <th></th>\n",
              "      <th>Simulation Case Conditions_Feed Rate_Feed from V615 Btm_m3/hr</th>\n",
              "      <th>Simulation Case Conditions_Feed Rate_Feed from V615 Btm    NA_wt%</th>\n",
              "      <th>Simulation Case Conditions_Feed Rate_Feed from V615 Btm    Benzene_wt%</th>\n",
              "      <th>Simulation Case Conditions_Feed Rate_Feed from V615 Btm    Toluene_wt%</th>\n",
              "      <th>Simulation Case Conditions_Feed Rate_Feed from C820 Dist_m3/hr</th>\n",
              "      <th>Simulation Case Conditions_Feed Rate_Feed from C820 Dist    NA_wt%</th>\n",
              "      <th>Simulation Case Conditions_Feed Rate_Feed from C820 Dist    Benzene_wt%</th>\n",
              "      <th>Simulation Case Conditions_Feed Rate_Feed from C820 Dist    Toluene_wt%</th>\n",
              "      <th>Simulation Case Conditions_Feed Rate_Feed from T651_m3/hr</th>\n",
              "      <th>Simulation Case Conditions_Feed Rate_Feed from T651    NA_wt%</th>\n",
              "      <th>Simulation Case Conditions_Feed Rate_Feed from T651    Benzene_wt%</th>\n",
              "      <th>Simulation Case Conditions_Feed Rate_Feed from T651    Toluene_wt%</th>\n",
              "      <th>Simulation Case Conditions_Spec 1 : Benzene in C620 Sidedraw_wt%</th>\n",
              "      <th>Simulation Case Conditions_Spec 2 : NA in Benzene_ppmw</th>\n",
              "      <th>Tatoray Stripper C620 Operation_Specifications_Spec 2 : Distillate Rate_m3/hr</th>\n",
              "      <th>Benzene Column C660 Operation_Specifications_Spec 3 : Toluene in Benzene_ppmw</th>\n",
              "      <th>Tatoray Stripper C620 Operation_Specifications_Spec 1 : Receiver Temp_oC</th>\n",
              "    </tr>\n",
              "  </thead>\n",
              "  <tbody>\n",
              "    <tr>\n",
              "      <th>002-002</th>\n",
              "      <td>163.0</td>\n",
              "      <td>1.356</td>\n",
              "      <td>10.321001</td>\n",
              "      <td>40.887009</td>\n",
              "      <td>15.0</td>\n",
              "      <td>2.338977</td>\n",
              "      <td>74.302254</td>\n",
              "      <td>17.467825</td>\n",
              "      <td>41.0</td>\n",
              "      <td>0.4524</td>\n",
              "      <td>44.244236</td>\n",
              "      <td>44.786339</td>\n",
              "      <td>70</td>\n",
              "      <td>980</td>\n",
              "      <td>0.25</td>\n",
              "      <td>10</td>\n",
              "      <td>36.0</td>\n",
              "    </tr>\n",
              "  </tbody>\n",
              "</table>\n",
              "</div>"
            ],
            "text/plain": [
              "         Simulation Case Conditions_Feed Rate_Feed from V615 Btm_m3/hr  ...  Tatoray Stripper C620 Operation_Specifications_Spec 1 : Receiver Temp_oC\n",
              "002-002                                              163.0              ...                                               36.0                       \n",
              "\n",
              "[1 rows x 17 columns]"
            ]
          },
          "metadata": {
            "tags": []
          },
          "execution_count": 8
        }
      ]
    },
    {
      "cell_type": "code",
      "metadata": {
        "id": "nLRt8RejiIAI"
      },
      "source": [
        "c620_wt,c620_op,c660_wt,c660_op,c670_wt,c670_op = f.inference(demo['icg_input'],demo['c620_feed'],demo['t651_feed'])"
      ],
      "execution_count": 9,
      "outputs": []
    },
    {
      "cell_type": "markdown",
      "metadata": {
        "id": "ZZUUNpVKhzE5"
      },
      "source": [
        "# 檢查三項約束條件"
      ]
    },
    {
      "cell_type": "code",
      "metadata": {
        "id": "m18obZmDhtct",
        "colab": {
          "base_uri": "https://localhost:8080/",
          "height": 80
        },
        "outputId": "860019c3-6521-47f1-8c50-0d7edd4ebb01"
      },
      "source": [
        "c620_wt[['Tatoray Stripper C620 Operation_Sidedraw Production Rate and Composition_Benzene_wt%']]"
      ],
      "execution_count": 10,
      "outputs": [
        {
          "output_type": "execute_result",
          "data": {
            "text/html": [
              "<div>\n",
              "<style scoped>\n",
              "    .dataframe tbody tr th:only-of-type {\n",
              "        vertical-align: middle;\n",
              "    }\n",
              "\n",
              "    .dataframe tbody tr th {\n",
              "        vertical-align: top;\n",
              "    }\n",
              "\n",
              "    .dataframe thead th {\n",
              "        text-align: right;\n",
              "    }\n",
              "</style>\n",
              "<table border=\"1\" class=\"dataframe\">\n",
              "  <thead>\n",
              "    <tr style=\"text-align: right;\">\n",
              "      <th></th>\n",
              "      <th>Tatoray Stripper C620 Operation_Sidedraw Production Rate and Composition_Benzene_wt%</th>\n",
              "    </tr>\n",
              "  </thead>\n",
              "  <tbody>\n",
              "    <tr>\n",
              "      <th>002-002</th>\n",
              "      <td>71.350981</td>\n",
              "    </tr>\n",
              "  </tbody>\n",
              "</table>\n",
              "</div>"
            ],
            "text/plain": [
              "         Tatoray Stripper C620 Operation_Sidedraw Production Rate and Composition_Benzene_wt%\n",
              "002-002                                          71.350981                                   "
            ]
          },
          "metadata": {
            "tags": []
          },
          "execution_count": 10
        }
      ]
    },
    {
      "cell_type": "code",
      "metadata": {
        "id": "ywrmcAb4hvvA",
        "colab": {
          "base_uri": "https://localhost:8080/"
        },
        "outputId": "3f1dbfe2-2ed9-4811-9e45-d39ec6393ba8"
      },
      "source": [
        "na_idx = [1,2,3,4,5,6,8,9,11,13,14,15,20,22,29] \n",
        "c660_wt.filter(regex='Side').filter(regex='wt%').iloc[:,na_idx].sum(axis=1).values[0]*10000"
      ],
      "execution_count": 11,
      "outputs": [
        {
          "output_type": "execute_result",
          "data": {
            "text/plain": [
              "964.9365272378022"
            ]
          },
          "metadata": {
            "tags": []
          },
          "execution_count": 11
        }
      ]
    },
    {
      "cell_type": "code",
      "metadata": {
        "id": "z6_F3BeHhyoJ",
        "colab": {
          "base_uri": "https://localhost:8080/"
        },
        "outputId": "e2188158-6288-44b3-a857-f71c6eaf75ae"
      },
      "source": [
        "c660_wt['Benzene Column C660 Operation_Sidedraw (Benzene )Production Rate and Composition_Toluene_wt%'].values[0]*10000"
      ],
      "execution_count": 12,
      "outputs": [
        {
          "output_type": "execute_result",
          "data": {
            "text/plain": [
              "9.149712539088709"
            ]
          },
          "metadata": {
            "tags": []
          },
          "execution_count": 12
        }
      ]
    },
    {
      "cell_type": "code",
      "metadata": {
        "id": "O8qyBzp04OaW",
        "colab": {
          "base_uri": "https://localhost:8080/"
        },
        "outputId": "92897887-2626-4ef9-8ddc-41b46433fd55"
      },
      "source": [
        "c620_wt.iloc[:,:41].sum(axis=1)"
      ],
      "execution_count": 13,
      "outputs": [
        {
          "output_type": "execute_result",
          "data": {
            "text/plain": [
              "002-002    100.0\n",
              "dtype: float64"
            ]
          },
          "metadata": {
            "tags": []
          },
          "execution_count": 13
        }
      ]
    },
    {
      "cell_type": "code",
      "metadata": {
        "id": "BUuh327U4OgC",
        "colab": {
          "base_uri": "https://localhost:8080/"
        },
        "outputId": "b1aff5b0-563f-4920-fc4d-6a539dd7b6fb"
      },
      "source": [
        "c660_wt.iloc[:,:41].sum(axis=1)"
      ],
      "execution_count": 14,
      "outputs": [
        {
          "output_type": "execute_result",
          "data": {
            "text/plain": [
              "002-002    100.0\n",
              "dtype: float64"
            ]
          },
          "metadata": {
            "tags": []
          },
          "execution_count": 14
        }
      ]
    },
    {
      "cell_type": "code",
      "metadata": {
        "id": "lES8w6NL4Olh",
        "colab": {
          "base_uri": "https://localhost:8080/"
        },
        "outputId": "bc849c90-519f-480a-df60-04e8e063ee27"
      },
      "source": [
        "c670_wt.iloc[:,:41].sum(axis=1)"
      ],
      "execution_count": 15,
      "outputs": [
        {
          "output_type": "execute_result",
          "data": {
            "text/plain": [
              "002-002    100.0\n",
              "dtype: float64"
            ]
          },
          "metadata": {
            "tags": []
          },
          "execution_count": 15
        }
      ]
    },
    {
      "cell_type": "markdown",
      "metadata": {
        "id": "7doYEuYyjHKT"
      },
      "source": [
        "# 推薦模式"
      ]
    },
    {
      "cell_type": "code",
      "metadata": {
        "colab": {
          "base_uri": "https://localhost:8080/"
        },
        "id": "D1AZAmaUjEyw",
        "outputId": "b36b5d13-1bbd-4a21-f0d6-1660f6d1a9e6"
      },
      "source": [
        "c620_wt2,c620_op2,c660_wt2,c660_op2,c670_wt2,c670_op2,bz_error,nainbz_error,tol_error = f.recommend(demo['icg_input'],demo['c620_feed'],demo['t651_feed'])"
      ],
      "execution_count": 16,
      "outputs": [
        {
          "output_type": "stream",
          "text": [
            "\u001b[32m[I 2021-04-26 08:45:19,984]\u001b[0m A new study created in memory with name: no-name-b79cff91-63a0-47aa-82cc-8037bfc7fe61\u001b[0m\n",
            "\u001b[32m[I 2021-04-26 08:45:20,057]\u001b[0m Trial 0 finished with value: 19.059033197692514 and parameters: {'Tatoray Stripper C620 Operation_Column Temp Profile_C620 Tray 14 (Control)_oC': 175.43462677791433, 'Tatoray Stripper C620 Operation_Column Temp Profile_C620 Tray 34 (Control)_oC': 193.0905004780978, 'Tatoray Stripper C620 Operation_Specifications_Spec 2 : Distillate Rate_m3/hr': 3.9958407635814965}. Best is trial 0 with value: 19.059033197692514.\u001b[0m\n",
            "\u001b[32m[I 2021-04-26 08:45:20,146]\u001b[0m Trial 1 finished with value: 3.529847082849484 and parameters: {'Tatoray Stripper C620 Operation_Column Temp Profile_C620 Tray 14 (Control)_oC': 176.80734885379798, 'Tatoray Stripper C620 Operation_Column Temp Profile_C620 Tray 34 (Control)_oC': 193.73477685535798, 'Tatoray Stripper C620 Operation_Specifications_Spec 2 : Distillate Rate_m3/hr': 0.6143970041860757}. Best is trial 1 with value: 3.529847082849484.\u001b[0m\n",
            "\u001b[32m[I 2021-04-26 08:45:20,220]\u001b[0m Trial 2 finished with value: 0.8303990401363395 and parameters: {'Tatoray Stripper C620 Operation_Column Temp Profile_C620 Tray 14 (Control)_oC': 177.35399157009223, 'Tatoray Stripper C620 Operation_Column Temp Profile_C620 Tray 34 (Control)_oC': 194.6794436580573, 'Tatoray Stripper C620 Operation_Specifications_Spec 2 : Distillate Rate_m3/hr': 0.17506864320127408}. Best is trial 2 with value: 0.8303990401363395.\u001b[0m\n",
            "\u001b[32m[I 2021-04-26 08:45:20,292]\u001b[0m Trial 3 finished with value: 4.097168426955866 and parameters: {'Tatoray Stripper C620 Operation_Column Temp Profile_C620 Tray 14 (Control)_oC': 177.31817617503938, 'Tatoray Stripper C620 Operation_Column Temp Profile_C620 Tray 34 (Control)_oC': 193.67452213596874, 'Tatoray Stripper C620 Operation_Specifications_Spec 2 : Distillate Rate_m3/hr': 0.4170786774635454}. Best is trial 2 with value: 0.8303990401363395.\u001b[0m\n",
            "\u001b[32m[I 2021-04-26 08:45:20,369]\u001b[0m Trial 4 finished with value: 3.5472403975022004 and parameters: {'Tatoray Stripper C620 Operation_Column Temp Profile_C620 Tray 14 (Control)_oC': 178.07305036164553, 'Tatoray Stripper C620 Operation_Column Temp Profile_C620 Tray 34 (Control)_oC': 193.73036068539682, 'Tatoray Stripper C620 Operation_Specifications_Spec 2 : Distillate Rate_m3/hr': 0.1532420510509451}. Best is trial 2 with value: 0.8303990401363395.\u001b[0m\n",
            "\u001b[32m[I 2021-04-26 08:45:20,440]\u001b[0m Trial 5 finished with value: 4.40450451862019 and parameters: {'Tatoray Stripper C620 Operation_Column Temp Profile_C620 Tray 14 (Control)_oC': 177.5313597532858, 'Tatoray Stripper C620 Operation_Column Temp Profile_C620 Tray 34 (Control)_oC': 193.61182132203035, 'Tatoray Stripper C620 Operation_Specifications_Spec 2 : Distillate Rate_m3/hr': 1.0061878242427622}. Best is trial 2 with value: 0.8303990401363395.\u001b[0m\n",
            "\u001b[32m[I 2021-04-26 08:45:20,511]\u001b[0m Trial 6 finished with value: 2.261089357101762 and parameters: {'Tatoray Stripper C620 Operation_Column Temp Profile_C620 Tray 14 (Control)_oC': 176.89243015757887, 'Tatoray Stripper C620 Operation_Column Temp Profile_C620 Tray 34 (Control)_oC': 193.9117263167214, 'Tatoray Stripper C620 Operation_Specifications_Spec 2 : Distillate Rate_m3/hr': 0.4931495822846491}. Best is trial 2 with value: 0.8303990401363395.\u001b[0m\n",
            "\u001b[32m[I 2021-04-26 08:45:20,595]\u001b[0m Trial 7 finished with value: 0.9401678118014807 and parameters: {'Tatoray Stripper C620 Operation_Column Temp Profile_C620 Tray 14 (Control)_oC': 178.09328697969403, 'Tatoray Stripper C620 Operation_Column Temp Profile_C620 Tray 34 (Control)_oC': 194.44695826187436, 'Tatoray Stripper C620 Operation_Specifications_Spec 2 : Distillate Rate_m3/hr': 0.19703842515021755}. Best is trial 2 with value: 0.8303990401363395.\u001b[0m\n",
            "\u001b[32m[I 2021-04-26 08:45:20,708]\u001b[0m Trial 8 finished with value: 0.3976055748453773 and parameters: {'Tatoray Stripper C620 Operation_Column Temp Profile_C620 Tray 14 (Control)_oC': 177.83414532735048, 'Tatoray Stripper C620 Operation_Column Temp Profile_C620 Tray 34 (Control)_oC': 194.3108712714535, 'Tatoray Stripper C620 Operation_Specifications_Spec 2 : Distillate Rate_m3/hr': 0.943436924534234}. Best is trial 8 with value: 0.3976055748453773.\u001b[0m\n",
            "\u001b[32m[I 2021-04-26 08:45:20,796]\u001b[0m Trial 9 finished with value: 1.0368414583363235 and parameters: {'Tatoray Stripper C620 Operation_Column Temp Profile_C620 Tray 14 (Control)_oC': 177.66290223180164, 'Tatoray Stripper C620 Operation_Column Temp Profile_C620 Tray 34 (Control)_oC': 194.3652379532601, 'Tatoray Stripper C620 Operation_Specifications_Spec 2 : Distillate Rate_m3/hr': 0.2063043806367971}. Best is trial 8 with value: 0.3976055748453773.\u001b[0m\n",
            "\u001b[32m[I 2021-04-26 08:45:20,880]\u001b[0m Trial 10 finished with value: 1.1682048173420376 and parameters: {'Tatoray Stripper C620 Operation_Column Temp Profile_C620 Tray 14 (Control)_oC': 176.9603550543944, 'Tatoray Stripper C620 Operation_Column Temp Profile_C620 Tray 34 (Control)_oC': 194.32329774314164, 'Tatoray Stripper C620 Operation_Specifications_Spec 2 : Distillate Rate_m3/hr': 0.16724885920266463}. Best is trial 8 with value: 0.3976055748453773.\u001b[0m\n",
            "\u001b[32m[I 2021-04-26 08:45:20,965]\u001b[0m Trial 11 finished with value: 0.8465514128253863 and parameters: {'Tatoray Stripper C620 Operation_Column Temp Profile_C620 Tray 14 (Control)_oC': 177.99555871756928, 'Tatoray Stripper C620 Operation_Column Temp Profile_C620 Tray 34 (Control)_oC': 194.53742496206476, 'Tatoray Stripper C620 Operation_Specifications_Spec 2 : Distillate Rate_m3/hr': 0.2183621529071668}. Best is trial 8 with value: 0.3976055748453773.\u001b[0m\n",
            "\u001b[32m[I 2021-04-26 08:45:21,042]\u001b[0m Trial 12 finished with value: 2.643460962127828 and parameters: {'Tatoray Stripper C620 Operation_Column Temp Profile_C620 Tray 14 (Control)_oC': 177.33279875344942, 'Tatoray Stripper C620 Operation_Column Temp Profile_C620 Tray 34 (Control)_oC': 193.83791293357527, 'Tatoray Stripper C620 Operation_Specifications_Spec 2 : Distillate Rate_m3/hr': 0.4963359608445518}. Best is trial 8 with value: 0.3976055748453773.\u001b[0m\n",
            "\u001b[32m[I 2021-04-26 08:45:21,122]\u001b[0m Trial 13 finished with value: 5.532393420856522 and parameters: {'Tatoray Stripper C620 Operation_Column Temp Profile_C620 Tray 14 (Control)_oC': 177.06317397366277, 'Tatoray Stripper C620 Operation_Column Temp Profile_C620 Tray 34 (Control)_oC': 193.54555378251538, 'Tatoray Stripper C620 Operation_Specifications_Spec 2 : Distillate Rate_m3/hr': 1.0569010532559986}. Best is trial 8 with value: 0.3976055748453773.\u001b[0m\n",
            "\u001b[32m[I 2021-04-26 08:45:21,199]\u001b[0m Trial 14 finished with value: 4.826989310306215 and parameters: {'Tatoray Stripper C620 Operation_Column Temp Profile_C620 Tray 14 (Control)_oC': 176.66971720364586, 'Tatoray Stripper C620 Operation_Column Temp Profile_C620 Tray 34 (Control)_oC': 193.62853678448732, 'Tatoray Stripper C620 Operation_Specifications_Spec 2 : Distillate Rate_m3/hr': 0.39687250528676776}. Best is trial 8 with value: 0.3976055748453773.\u001b[0m\n",
            "\u001b[32m[I 2021-04-26 08:45:21,272]\u001b[0m Trial 15 finished with value: 1.5769419750899925 and parameters: {'Tatoray Stripper C620 Operation_Column Temp Profile_C620 Tray 14 (Control)_oC': 177.80540066729574, 'Tatoray Stripper C620 Operation_Column Temp Profile_C620 Tray 34 (Control)_oC': 194.0013228366769, 'Tatoray Stripper C620 Operation_Specifications_Spec 2 : Distillate Rate_m3/hr': 0.6061582338889354}. Best is trial 8 with value: 0.3976055748453773.\u001b[0m\n",
            "\u001b[32m[I 2021-04-26 08:45:21,348]\u001b[0m Trial 16 finished with value: 3.439174790866757 and parameters: {'Tatoray Stripper C620 Operation_Column Temp Profile_C620 Tray 14 (Control)_oC': 177.99170892371583, 'Tatoray Stripper C620 Operation_Column Temp Profile_C620 Tray 34 (Control)_oC': 193.71378402390414, 'Tatoray Stripper C620 Operation_Specifications_Spec 2 : Distillate Rate_m3/hr': 0.5567900606647541}. Best is trial 8 with value: 0.3976055748453773.\u001b[0m\n",
            "\u001b[32m[I 2021-04-26 08:45:21,425]\u001b[0m Trial 17 finished with value: 0.5682958469420873 and parameters: {'Tatoray Stripper C620 Operation_Column Temp Profile_C620 Tray 14 (Control)_oC': 178.0514742949601, 'Tatoray Stripper C620 Operation_Column Temp Profile_C620 Tray 34 (Control)_oC': 194.7341315617524, 'Tatoray Stripper C620 Operation_Specifications_Spec 2 : Distillate Rate_m3/hr': 0.4705741286118206}. Best is trial 8 with value: 0.3976055748453773.\u001b[0m\n",
            "\u001b[32m[I 2021-04-26 08:45:21,499]\u001b[0m Trial 18 finished with value: 2.892070784785178 and parameters: {'Tatoray Stripper C620 Operation_Column Temp Profile_C620 Tray 14 (Control)_oC': 177.1465350160489, 'Tatoray Stripper C620 Operation_Column Temp Profile_C620 Tray 34 (Control)_oC': 193.80001496058932, 'Tatoray Stripper C620 Operation_Specifications_Spec 2 : Distillate Rate_m3/hr': 0.5955302014121578}. Best is trial 8 with value: 0.3976055748453773.\u001b[0m\n",
            "\u001b[32m[I 2021-04-26 08:45:21,581]\u001b[0m Trial 19 finished with value: 0.7002122024437257 and parameters: {'Tatoray Stripper C620 Operation_Column Temp Profile_C620 Tray 14 (Control)_oC': 178.03068079190746, 'Tatoray Stripper C620 Operation_Column Temp Profile_C620 Tray 34 (Control)_oC': 194.32868102062875, 'Tatoray Stripper C620 Operation_Specifications_Spec 2 : Distillate Rate_m3/hr': 0.5908535541470284}. Best is trial 8 with value: 0.3976055748453773.\u001b[0m\n",
            "\u001b[32m[I 2021-04-26 08:45:21,654]\u001b[0m Trial 20 finished with value: 0.656899811104352 and parameters: {'Tatoray Stripper C620 Operation_Column Temp Profile_C620 Tray 14 (Control)_oC': 177.40018317182762, 'Tatoray Stripper C620 Operation_Column Temp Profile_C620 Tray 34 (Control)_oC': 194.43348965130124, 'Tatoray Stripper C620 Operation_Specifications_Spec 2 : Distillate Rate_m3/hr': 0.5206413730188622}. Best is trial 8 with value: 0.3976055748453773.\u001b[0m\n",
            "\u001b[32m[I 2021-04-26 08:45:21,726]\u001b[0m Trial 21 finished with value: 6.159685237604863 and parameters: {'Tatoray Stripper C620 Operation_Column Temp Profile_C620 Tray 14 (Control)_oC': 177.9758642915153, 'Tatoray Stripper C620 Operation_Column Temp Profile_C620 Tray 34 (Control)_oC': 193.48325437093007, 'Tatoray Stripper C620 Operation_Specifications_Spec 2 : Distillate Rate_m3/hr': 0.5574128222449963}. Best is trial 8 with value: 0.3976055748453773.\u001b[0m\n",
            "\u001b[32m[I 2021-04-26 08:45:21,805]\u001b[0m Trial 22 finished with value: 0.9158958425762425 and parameters: {'Tatoray Stripper C620 Operation_Column Temp Profile_C620 Tray 14 (Control)_oC': 177.50915284700537, 'Tatoray Stripper C620 Operation_Column Temp Profile_C620 Tray 34 (Control)_oC': 194.43064180036998, 'Tatoray Stripper C620 Operation_Specifications_Spec 2 : Distillate Rate_m3/hr': 0.25620287343844517}. Best is trial 8 with value: 0.3976055748453773.\u001b[0m\n",
            "\u001b[32m[I 2021-04-26 08:45:21,881]\u001b[0m Trial 23 finished with value: 1.7971622008706056 and parameters: {'Tatoray Stripper C620 Operation_Column Temp Profile_C620 Tray 14 (Control)_oC': 177.83032483328373, 'Tatoray Stripper C620 Operation_Column Temp Profile_C620 Tray 34 (Control)_oC': 194.0749751787597, 'Tatoray Stripper C620 Operation_Specifications_Spec 2 : Distillate Rate_m3/hr': 0.04156843458738624}. Best is trial 8 with value: 0.3976055748453773.\u001b[0m\n",
            "\u001b[32m[I 2021-04-26 08:45:21,954]\u001b[0m Trial 24 finished with value: 0.7097807630464115 and parameters: {'Tatoray Stripper C620 Operation_Column Temp Profile_C620 Tray 14 (Control)_oC': 177.64894593351923, 'Tatoray Stripper C620 Operation_Column Temp Profile_C620 Tray 34 (Control)_oC': 194.41304509860703, 'Tatoray Stripper C620 Operation_Specifications_Spec 2 : Distillate Rate_m3/hr': 0.4815472841113137}. Best is trial 8 with value: 0.3976055748453773.\u001b[0m\n",
            "\u001b[32m[I 2021-04-26 08:45:22,026]\u001b[0m Trial 25 finished with value: 0.8932164126466262 and parameters: {'Tatoray Stripper C620 Operation_Column Temp Profile_C620 Tray 14 (Control)_oC': 177.9335508329453, 'Tatoray Stripper C620 Operation_Column Temp Profile_C620 Tray 34 (Control)_oC': 194.55684843394587, 'Tatoray Stripper C620 Operation_Specifications_Spec 2 : Distillate Rate_m3/hr': 0.15939458441540638}. Best is trial 8 with value: 0.3976055748453773.\u001b[0m\n",
            "\u001b[32m[I 2021-04-26 08:45:22,105]\u001b[0m Trial 26 finished with value: 0.9787813381073409 and parameters: {'Tatoray Stripper C620 Operation_Column Temp Profile_C620 Tray 14 (Control)_oC': 177.5513114442572, 'Tatoray Stripper C620 Operation_Column Temp Profile_C620 Tray 34 (Control)_oC': 194.54791794593396, 'Tatoray Stripper C620 Operation_Specifications_Spec 2 : Distillate Rate_m3/hr': 0.08749394918262787}. Best is trial 8 with value: 0.3976055748453773.\u001b[0m\n",
            "\u001b[32m[I 2021-04-26 08:45:22,196]\u001b[0m Trial 27 finished with value: 0.008115255595579907 and parameters: {'Tatoray Stripper C620 Operation_Column Temp Profile_C620 Tray 14 (Control)_oC': 177.97975680457156, 'Tatoray Stripper C620 Operation_Column Temp Profile_C620 Tray 34 (Control)_oC': 194.65388297137602, 'Tatoray Stripper C620 Operation_Specifications_Spec 2 : Distillate Rate_m3/hr': 0.9988923915512413}. Best is trial 27 with value: 0.008115255595579907.\u001b[0m\n",
            "\u001b[32m[I 2021-04-26 08:45:22,273]\u001b[0m Trial 28 finished with value: 0.9094079149430481 and parameters: {'Tatoray Stripper C620 Operation_Column Temp Profile_C620 Tray 14 (Control)_oC': 177.74857854301052, 'Tatoray Stripper C620 Operation_Column Temp Profile_C620 Tray 34 (Control)_oC': 194.65670168015555, 'Tatoray Stripper C620 Operation_Specifications_Spec 2 : Distillate Rate_m3/hr': 0.09094379254194723}. Best is trial 27 with value: 0.008115255595579907.\u001b[0m\n",
            "\u001b[32m[I 2021-04-26 08:45:22,360]\u001b[0m Trial 29 finished with value: 0.40851291169328596 and parameters: {'Tatoray Stripper C620 Operation_Column Temp Profile_C620 Tray 14 (Control)_oC': 177.78182758605115, 'Tatoray Stripper C620 Operation_Column Temp Profile_C620 Tray 34 (Control)_oC': 194.57035846670115, 'Tatoray Stripper C620 Operation_Specifications_Spec 2 : Distillate Rate_m3/hr': 1.3603246890342644}. Best is trial 27 with value: 0.008115255595579907.\u001b[0m\n",
            "\u001b[32m[I 2021-04-26 08:45:22,437]\u001b[0m Trial 30 finished with value: 0.5205517172321277 and parameters: {'Tatoray Stripper C620 Operation_Column Temp Profile_C620 Tray 14 (Control)_oC': 177.6854149779703, 'Tatoray Stripper C620 Operation_Column Temp Profile_C620 Tray 34 (Control)_oC': 194.32022856598607, 'Tatoray Stripper C620 Operation_Specifications_Spec 2 : Distillate Rate_m3/hr': 1.178923493583501}. Best is trial 27 with value: 0.008115255595579907.\u001b[0m\n",
            "\u001b[32m[I 2021-04-26 08:45:22,512]\u001b[0m Trial 31 finished with value: 0.8976575433606001 and parameters: {'Tatoray Stripper C620 Operation_Column Temp Profile_C620 Tray 14 (Control)_oC': 177.8602257155009, 'Tatoray Stripper C620 Operation_Column Temp Profile_C620 Tray 34 (Control)_oC': 194.18766912537333, 'Tatoray Stripper C620 Operation_Specifications_Spec 2 : Distillate Rate_m3/hr': 0.67873703833815}. Best is trial 27 with value: 0.008115255595579907.\u001b[0m\n",
            "\u001b[32m[I 2021-04-26 08:45:22,594]\u001b[0m Trial 32 finished with value: 1.3636378071888957 and parameters: {'Tatoray Stripper C620 Operation_Column Temp Profile_C620 Tray 14 (Control)_oC': 177.8261923947319, 'Tatoray Stripper C620 Operation_Column Temp Profile_C620 Tray 34 (Control)_oC': 194.16458049725878, 'Tatoray Stripper C620 Operation_Specifications_Spec 2 : Distillate Rate_m3/hr': 0.24043319432109755}. Best is trial 27 with value: 0.008115255595579907.\u001b[0m\n",
            "\u001b[32m[I 2021-04-26 08:45:22,675]\u001b[0m Trial 33 finished with value: 0.8457495640236298 and parameters: {'Tatoray Stripper C620 Operation_Column Temp Profile_C620 Tray 14 (Control)_oC': 177.82513921410342, 'Tatoray Stripper C620 Operation_Column Temp Profile_C620 Tray 34 (Control)_oC': 194.19286445192463, 'Tatoray Stripper C620 Operation_Specifications_Spec 2 : Distillate Rate_m3/hr': 0.7236234035509502}. Best is trial 27 with value: 0.008115255595579907.\u001b[0m\n",
            "\u001b[32m[I 2021-04-26 08:45:22,761]\u001b[0m Trial 34 finished with value: 0.7929777684508575 and parameters: {'Tatoray Stripper C620 Operation_Column Temp Profile_C620 Tray 14 (Control)_oC': 177.52305604363647, 'Tatoray Stripper C620 Operation_Column Temp Profile_C620 Tray 34 (Control)_oC': 194.27936304957984, 'Tatoray Stripper C620 Operation_Specifications_Spec 2 : Distillate Rate_m3/hr': 0.6055826762368884}. Best is trial 27 with value: 0.008115255595579907.\u001b[0m\n",
            "\u001b[32m[I 2021-04-26 08:45:22,859]\u001b[0m Trial 35 finished with value: 0.20256016504529484 and parameters: {'Tatoray Stripper C620 Operation_Column Temp Profile_C620 Tray 14 (Control)_oC': 177.74888736966489, 'Tatoray Stripper C620 Operation_Column Temp Profile_C620 Tray 34 (Control)_oC': 194.52886762267528, 'Tatoray Stripper C620 Operation_Specifications_Spec 2 : Distillate Rate_m3/hr': 1.1212295230551454}. Best is trial 27 with value: 0.008115255595579907.\u001b[0m\n",
            "\u001b[32m[I 2021-04-26 08:45:22,939]\u001b[0m Trial 36 finished with value: 1.4875856852365317 and parameters: {'Tatoray Stripper C620 Operation_Column Temp Profile_C620 Tray 14 (Control)_oC': 177.8603714539367, 'Tatoray Stripper C620 Operation_Column Temp Profile_C620 Tray 34 (Control)_oC': 194.02295182378504, 'Tatoray Stripper C620 Operation_Specifications_Spec 2 : Distillate Rate_m3/hr': 0.5988695844290318}. Best is trial 27 with value: 0.008115255595579907.\u001b[0m\n",
            "\u001b[32m[I 2021-04-26 08:45:23,019]\u001b[0m Trial 37 finished with value: 0.7425861383253481 and parameters: {'Tatoray Stripper C620 Operation_Column Temp Profile_C620 Tray 14 (Control)_oC': 176.48136079714507, 'Tatoray Stripper C620 Operation_Column Temp Profile_C620 Tray 34 (Control)_oC': 194.46755245829286, 'Tatoray Stripper C620 Operation_Specifications_Spec 2 : Distillate Rate_m3/hr': 0.43305639161885046}. Best is trial 27 with value: 0.008115255595579907.\u001b[0m\n",
            "\u001b[32m[I 2021-04-26 08:45:23,111]\u001b[0m Trial 38 finished with value: 0.38836752797938545 and parameters: {'Tatoray Stripper C620 Operation_Column Temp Profile_C620 Tray 14 (Control)_oC': 177.1035231562612, 'Tatoray Stripper C620 Operation_Column Temp Profile_C620 Tray 34 (Control)_oC': 194.69728859070827, 'Tatoray Stripper C620 Operation_Specifications_Spec 2 : Distillate Rate_m3/hr': 1.3706441457881928}. Best is trial 27 with value: 0.008115255595579907.\u001b[0m\n",
            "\u001b[32m[I 2021-04-26 08:45:23,195]\u001b[0m Trial 39 finished with value: 1.313475020265251 and parameters: {'Tatoray Stripper C620 Operation_Column Temp Profile_C620 Tray 14 (Control)_oC': 177.95250465063393, 'Tatoray Stripper C620 Operation_Column Temp Profile_C620 Tray 34 (Control)_oC': 194.22451813501104, 'Tatoray Stripper C620 Operation_Specifications_Spec 2 : Distillate Rate_m3/hr': 1.760831313759503}. Best is trial 27 with value: 0.008115255595579907.\u001b[0m\n",
            "\u001b[32m[I 2021-04-26 08:45:23,274]\u001b[0m Trial 40 finished with value: 0.8438873354458707 and parameters: {'Tatoray Stripper C620 Operation_Column Temp Profile_C620 Tray 14 (Control)_oC': 178.0319556120768, 'Tatoray Stripper C620 Operation_Column Temp Profile_C620 Tray 34 (Control)_oC': 194.51084409196247, 'Tatoray Stripper C620 Operation_Specifications_Spec 2 : Distillate Rate_m3/hr': 1.7503166503999097}. Best is trial 27 with value: 0.008115255595579907.\u001b[0m\n",
            "\u001b[32m[I 2021-04-26 08:45:23,360]\u001b[0m Trial 41 finished with value: 0.11426961115310019 and parameters: {'Tatoray Stripper C620 Operation_Column Temp Profile_C620 Tray 14 (Control)_oC': 177.79619796478875, 'Tatoray Stripper C620 Operation_Column Temp Profile_C620 Tray 34 (Control)_oC': 194.54664786333075, 'Tatoray Stripper C620 Operation_Specifications_Spec 2 : Distillate Rate_m3/hr': 0.9508861487443078}. Best is trial 27 with value: 0.008115255595579907.\u001b[0m\n",
            "\u001b[32m[I 2021-04-26 08:45:23,437]\u001b[0m Trial 42 finished with value: 0.35919273272735897 and parameters: {'Tatoray Stripper C620 Operation_Column Temp Profile_C620 Tray 14 (Control)_oC': 177.41886670658693, 'Tatoray Stripper C620 Operation_Column Temp Profile_C620 Tray 34 (Control)_oC': 194.47998644140824, 'Tatoray Stripper C620 Operation_Specifications_Spec 2 : Distillate Rate_m3/hr': 1.2216483735798755}. Best is trial 27 with value: 0.008115255595579907.\u001b[0m\n",
            "\u001b[32m[I 2021-04-26 08:45:23,519]\u001b[0m Trial 43 finished with value: 0.45491172593097695 and parameters: {'Tatoray Stripper C620 Operation_Column Temp Profile_C620 Tray 14 (Control)_oC': 177.3820678787267, 'Tatoray Stripper C620 Operation_Column Temp Profile_C620 Tray 34 (Control)_oC': 194.56960252409914, 'Tatoray Stripper C620 Operation_Specifications_Spec 2 : Distillate Rate_m3/hr': 1.3966374562498134}. Best is trial 27 with value: 0.008115255595579907.\u001b[0m\n",
            "\u001b[32m[I 2021-04-26 08:45:23,605]\u001b[0m Trial 44 finished with value: 0.411369181148715 and parameters: {'Tatoray Stripper C620 Operation_Column Temp Profile_C620 Tray 14 (Control)_oC': 177.36115604818022, 'Tatoray Stripper C620 Operation_Column Temp Profile_C620 Tray 34 (Control)_oC': 194.653306517841, 'Tatoray Stripper C620 Operation_Specifications_Spec 2 : Distillate Rate_m3/hr': 0.5940416182106809}. Best is trial 27 with value: 0.008115255595579907.\u001b[0m\n",
            "\u001b[32m[I 2021-04-26 08:45:23,679]\u001b[0m Trial 45 finished with value: 0.7012408477226932 and parameters: {'Tatoray Stripper C620 Operation_Column Temp Profile_C620 Tray 14 (Control)_oC': 177.22488745410809, 'Tatoray Stripper C620 Operation_Column Temp Profile_C620 Tray 34 (Control)_oC': 194.64945010377158, 'Tatoray Stripper C620 Operation_Specifications_Spec 2 : Distillate Rate_m3/hr': 0.30965315645895775}. Best is trial 27 with value: 0.008115255595579907.\u001b[0m\n",
            "\u001b[32m[I 2021-04-26 08:45:23,757]\u001b[0m Trial 46 finished with value: 0.9736429357064424 and parameters: {'Tatoray Stripper C620 Operation_Column Temp Profile_C620 Tray 14 (Control)_oC': 177.8664303199901, 'Tatoray Stripper C620 Operation_Column Temp Profile_C620 Tray 34 (Control)_oC': 194.28970901613323, 'Tatoray Stripper C620 Operation_Specifications_Spec 2 : Distillate Rate_m3/hr': 1.5692115837018492}. Best is trial 27 with value: 0.008115255595579907.\u001b[0m\n",
            "\u001b[32m[I 2021-04-26 08:45:23,848]\u001b[0m Trial 47 finished with value: 0.8275446894845471 and parameters: {'Tatoray Stripper C620 Operation_Column Temp Profile_C620 Tray 14 (Control)_oC': 177.94859558930514, 'Tatoray Stripper C620 Operation_Column Temp Profile_C620 Tray 34 (Control)_oC': 194.46010332261935, 'Tatoray Stripper C620 Operation_Specifications_Spec 2 : Distillate Rate_m3/hr': 1.6798274400985844}. Best is trial 27 with value: 0.008115255595579907.\u001b[0m\n",
            "\u001b[32m[I 2021-04-26 08:45:23,919]\u001b[0m Trial 48 finished with value: 2.9969741954824918 and parameters: {'Tatoray Stripper C620 Operation_Column Temp Profile_C620 Tray 14 (Control)_oC': 177.5594698899929, 'Tatoray Stripper C620 Operation_Column Temp Profile_C620 Tray 34 (Control)_oC': 193.77209943572853, 'Tatoray Stripper C620 Operation_Specifications_Spec 2 : Distillate Rate_m3/hr': 0.6238571120761541}. Best is trial 27 with value: 0.008115255595579907.\u001b[0m\n",
            "\u001b[32m[I 2021-04-26 08:45:23,993]\u001b[0m Trial 49 finished with value: 0.3955646442032451 and parameters: {'Tatoray Stripper C620 Operation_Column Temp Profile_C620 Tray 14 (Control)_oC': 177.38812557441221, 'Tatoray Stripper C620 Operation_Column Temp Profile_C620 Tray 34 (Control)_oC': 194.59579166831048, 'Tatoray Stripper C620 Operation_Specifications_Spec 2 : Distillate Rate_m3/hr': 0.6431212027388279}. Best is trial 27 with value: 0.008115255595579907.\u001b[0m\n",
            "\u001b[32m[I 2021-04-26 08:45:24,078]\u001b[0m Trial 50 finished with value: 0.15196177608187766 and parameters: {'Tatoray Stripper C620 Operation_Column Temp Profile_C620 Tray 14 (Control)_oC': 177.95511711738837, 'Tatoray Stripper C620 Operation_Column Temp Profile_C620 Tray 34 (Control)_oC': 194.48873153817374, 'Tatoray Stripper C620 Operation_Specifications_Spec 2 : Distillate Rate_m3/hr': 0.9584001007689109}. Best is trial 27 with value: 0.008115255595579907.\u001b[0m\n",
            "\u001b[32m[I 2021-04-26 08:45:24,156]\u001b[0m Trial 51 finished with value: 0.7700576048285719 and parameters: {'Tatoray Stripper C620 Operation_Column Temp Profile_C620 Tray 14 (Control)_oC': 177.23731284257536, 'Tatoray Stripper C620 Operation_Column Temp Profile_C620 Tray 34 (Control)_oC': 194.3702297636411, 'Tatoray Stripper C620 Operation_Specifications_Spec 2 : Distillate Rate_m3/hr': 0.49234980810961626}. Best is trial 27 with value: 0.008115255595579907.\u001b[0m\n",
            "\u001b[32m[I 2021-04-26 08:45:24,227]\u001b[0m Trial 52 finished with value: 2.1282444057741214 and parameters: {'Tatoray Stripper C620 Operation_Column Temp Profile_C620 Tray 14 (Control)_oC': 177.42413260145798, 'Tatoray Stripper C620 Operation_Column Temp Profile_C620 Tray 34 (Control)_oC': 193.95053146337327, 'Tatoray Stripper C620 Operation_Specifications_Spec 2 : Distillate Rate_m3/hr': 0.28961626462191703}. Best is trial 27 with value: 0.008115255595579907.\u001b[0m\n",
            "\u001b[32m[I 2021-04-26 08:45:24,303]\u001b[0m Trial 53 finished with value: 0.4759971923705302 and parameters: {'Tatoray Stripper C620 Operation_Column Temp Profile_C620 Tray 14 (Control)_oC': 176.88369555304953, 'Tatoray Stripper C620 Operation_Column Temp Profile_C620 Tray 34 (Control)_oC': 194.48115130411773, 'Tatoray Stripper C620 Operation_Specifications_Spec 2 : Distillate Rate_m3/hr': 1.3186511395784088}. Best is trial 27 with value: 0.008115255595579907.\u001b[0m\n",
            "\u001b[32m[I 2021-04-26 08:45:24,375]\u001b[0m Trial 54 finished with value: 0.1777086505779084 and parameters: {'Tatoray Stripper C620 Operation_Column Temp Profile_C620 Tray 14 (Control)_oC': 177.283276485985, 'Tatoray Stripper C620 Operation_Column Temp Profile_C620 Tray 34 (Control)_oC': 194.64565902529355, 'Tatoray Stripper C620 Operation_Specifications_Spec 2 : Distillate Rate_m3/hr': 0.8323867083435812}. Best is trial 27 with value: 0.008115255595579907.\u001b[0m\n",
            "\u001b[32m[I 2021-04-26 08:45:24,449]\u001b[0m Trial 55 finished with value: 0.6276223056226282 and parameters: {'Tatoray Stripper C620 Operation_Column Temp Profile_C620 Tray 14 (Control)_oC': 177.05462865913285, 'Tatoray Stripper C620 Operation_Column Temp Profile_C620 Tray 34 (Control)_oC': 194.5983403832924, 'Tatoray Stripper C620 Operation_Specifications_Spec 2 : Distillate Rate_m3/hr': 1.5828067984997656}. Best is trial 27 with value: 0.008115255595579907.\u001b[0m\n",
            "\u001b[32m[I 2021-04-26 08:45:24,532]\u001b[0m Trial 56 finished with value: 0.1447467112963714 and parameters: {'Tatoray Stripper C620 Operation_Column Temp Profile_C620 Tray 14 (Control)_oC': 177.33196343549727, 'Tatoray Stripper C620 Operation_Column Temp Profile_C620 Tray 34 (Control)_oC': 194.60721569689284, 'Tatoray Stripper C620 Operation_Specifications_Spec 2 : Distillate Rate_m3/hr': 0.8876008709534269}. Best is trial 27 with value: 0.008115255595579907.\u001b[0m\n",
            "\u001b[32m[I 2021-04-26 08:45:24,619]\u001b[0m Trial 57 finished with value: 0.20461387312027135 and parameters: {'Tatoray Stripper C620 Operation_Column Temp Profile_C620 Tray 14 (Control)_oC': 177.4028263624459, 'Tatoray Stripper C620 Operation_Column Temp Profile_C620 Tray 34 (Control)_oC': 194.49857013342532, 'Tatoray Stripper C620 Operation_Specifications_Spec 2 : Distillate Rate_m3/hr': 0.9116019709260232}. Best is trial 27 with value: 0.008115255595579907.\u001b[0m\n",
            "\u001b[32m[I 2021-04-26 08:45:24,695]\u001b[0m Trial 58 finished with value: 0.4604957443781452 and parameters: {'Tatoray Stripper C620 Operation_Column Temp Profile_C620 Tray 14 (Control)_oC': 177.70462438721373, 'Tatoray Stripper C620 Operation_Column Temp Profile_C620 Tray 34 (Control)_oC': 194.3445453928712, 'Tatoray Stripper C620 Operation_Specifications_Spec 2 : Distillate Rate_m3/hr': 1.1604678179886982}. Best is trial 27 with value: 0.008115255595579907.\u001b[0m\n",
            "\u001b[32m[I 2021-04-26 08:45:24,776]\u001b[0m Trial 59 finished with value: 0.6057342394448118 and parameters: {'Tatoray Stripper C620 Operation_Column Temp Profile_C620 Tray 14 (Control)_oC': 177.8286380800794, 'Tatoray Stripper C620 Operation_Column Temp Profile_C620 Tray 34 (Control)_oC': 194.32010110949133, 'Tatoray Stripper C620 Operation_Specifications_Spec 2 : Distillate Rate_m3/hr': 1.2676395735081887}. Best is trial 27 with value: 0.008115255595579907.\u001b[0m\n",
            "\u001b[32m[I 2021-04-26 08:45:24,869]\u001b[0m Trial 60 finished with value: 0.46839033841252375 and parameters: {'Tatoray Stripper C620 Operation_Column Temp Profile_C620 Tray 14 (Control)_oC': 177.58034939047297, 'Tatoray Stripper C620 Operation_Column Temp Profile_C620 Tray 34 (Control)_oC': 194.62284337727127, 'Tatoray Stripper C620 Operation_Specifications_Spec 2 : Distillate Rate_m3/hr': 0.5501007603685742}. Best is trial 27 with value: 0.008115255595579907.\u001b[0m\n",
            "\u001b[32m[I 2021-04-26 08:45:24,947]\u001b[0m Trial 61 finished with value: 0.24066568204817895 and parameters: {'Tatoray Stripper C620 Operation_Column Temp Profile_C620 Tray 14 (Control)_oC': 177.47573209031395, 'Tatoray Stripper C620 Operation_Column Temp Profile_C620 Tray 34 (Control)_oC': 194.3961727925769, 'Tatoray Stripper C620 Operation_Specifications_Spec 2 : Distillate Rate_m3/hr': 1.0099504858614285}. Best is trial 27 with value: 0.008115255595579907.\u001b[0m\n",
            "\u001b[32m[I 2021-04-26 08:45:25,024]\u001b[0m Trial 62 finished with value: 0.1546860194639269 and parameters: {'Tatoray Stripper C620 Operation_Column Temp Profile_C620 Tray 14 (Control)_oC': 177.75351080498467, 'Tatoray Stripper C620 Operation_Column Temp Profile_C620 Tray 34 (Control)_oC': 194.64596915812635, 'Tatoray Stripper C620 Operation_Specifications_Spec 2 : Distillate Rate_m3/hr': 0.8469020859861839}. Best is trial 27 with value: 0.008115255595579907.\u001b[0m\n",
            "\u001b[32m[I 2021-04-26 08:45:25,108]\u001b[0m Trial 63 finished with value: 0.6299595300671492 and parameters: {'Tatoray Stripper C620 Operation_Column Temp Profile_C620 Tray 14 (Control)_oC': 178.01421336612543, 'Tatoray Stripper C620 Operation_Column Temp Profile_C620 Tray 34 (Control)_oC': 194.56554796927276, 'Tatoray Stripper C620 Operation_Specifications_Spec 2 : Distillate Rate_m3/hr': 1.583166885437573}. Best is trial 27 with value: 0.008115255595579907.\u001b[0m\n",
            "\u001b[32m[I 2021-04-26 08:45:25,183]\u001b[0m Trial 64 finished with value: 0.2581812096305751 and parameters: {'Tatoray Stripper C620 Operation_Column Temp Profile_C620 Tray 14 (Control)_oC': 177.28698768815553, 'Tatoray Stripper C620 Operation_Column Temp Profile_C620 Tray 34 (Control)_oC': 194.52709033384318, 'Tatoray Stripper C620 Operation_Specifications_Spec 2 : Distillate Rate_m3/hr': 0.8351444293837065}. Best is trial 27 with value: 0.008115255595579907.\u001b[0m\n",
            "\u001b[32m[I 2021-04-26 08:45:25,257]\u001b[0m Trial 65 finished with value: 0.3256341136616818 and parameters: {'Tatoray Stripper C620 Operation_Column Temp Profile_C620 Tray 14 (Control)_oC': 177.83872159009164, 'Tatoray Stripper C620 Operation_Column Temp Profile_C620 Tray 34 (Control)_oC': 194.38069694935933, 'Tatoray Stripper C620 Operation_Specifications_Spec 2 : Distillate Rate_m3/hr': 0.9087672752607396}. Best is trial 27 with value: 0.008115255595579907.\u001b[0m\n",
            "\u001b[32m[I 2021-04-26 08:45:25,333]\u001b[0m Trial 66 finished with value: 0.05696142201860788 and parameters: {'Tatoray Stripper C620 Operation_Column Temp Profile_C620 Tray 14 (Control)_oC': 177.87366869504405, 'Tatoray Stripper C620 Operation_Column Temp Profile_C620 Tray 34 (Control)_oC': 194.57774876670388, 'Tatoray Stripper C620 Operation_Specifications_Spec 2 : Distillate Rate_m3/hr': 0.9838807375044585}. Best is trial 27 with value: 0.008115255595579907.\u001b[0m\n",
            "\u001b[32m[I 2021-04-26 08:45:25,405]\u001b[0m Trial 67 finished with value: 0.08360943764505868 and parameters: {'Tatoray Stripper C620 Operation_Column Temp Profile_C620 Tray 14 (Control)_oC': 177.98160400491798, 'Tatoray Stripper C620 Operation_Column Temp Profile_C620 Tray 34 (Control)_oC': 194.5962704911378, 'Tatoray Stripper C620 Operation_Specifications_Spec 2 : Distillate Rate_m3/hr': 0.9429098219044578}. Best is trial 27 with value: 0.008115255595579907.\u001b[0m\n",
            "\u001b[32m[I 2021-04-26 08:45:25,490]\u001b[0m Trial 68 finished with value: 0.21133405844996533 and parameters: {'Tatoray Stripper C620 Operation_Column Temp Profile_C620 Tray 14 (Control)_oC': 177.90885129238762, 'Tatoray Stripper C620 Operation_Column Temp Profile_C620 Tray 34 (Control)_oC': 194.48465772713263, 'Tatoray Stripper C620 Operation_Specifications_Spec 2 : Distillate Rate_m3/hr': 0.9035386044422168}. Best is trial 27 with value: 0.008115255595579907.\u001b[0m\n",
            "\u001b[32m[I 2021-04-26 08:45:25,569]\u001b[0m Trial 69 finished with value: 0.19083597388078832 and parameters: {'Tatoray Stripper C620 Operation_Column Temp Profile_C620 Tray 14 (Control)_oC': 177.86494042057183, 'Tatoray Stripper C620 Operation_Column Temp Profile_C620 Tray 34 (Control)_oC': 194.5051791780344, 'Tatoray Stripper C620 Operation_Specifications_Spec 2 : Distillate Rate_m3/hr': 1.0920191478204169}. Best is trial 27 with value: 0.008115255595579907.\u001b[0m\n",
            "\u001b[32m[I 2021-04-26 08:45:25,652]\u001b[0m Trial 70 finished with value: 0.11538159488339206 and parameters: {'Tatoray Stripper C620 Operation_Column Temp Profile_C620 Tray 14 (Control)_oC': 177.39798119454792, 'Tatoray Stripper C620 Operation_Column Temp Profile_C620 Tray 34 (Control)_oC': 194.53467795721042, 'Tatoray Stripper C620 Operation_Specifications_Spec 2 : Distillate Rate_m3/hr': 1.0303425839230766}. Best is trial 27 with value: 0.008115255595579907.\u001b[0m\n",
            "\u001b[32m[I 2021-04-26 08:45:25,727]\u001b[0m Trial 71 finished with value: 0.13904597175181543 and parameters: {'Tatoray Stripper C620 Operation_Column Temp Profile_C620 Tray 14 (Control)_oC': 177.7650686819034, 'Tatoray Stripper C620 Operation_Column Temp Profile_C620 Tray 34 (Control)_oC': 194.56992873822145, 'Tatoray Stripper C620 Operation_Specifications_Spec 2 : Distillate Rate_m3/hr': 0.9094685934324332}. Best is trial 27 with value: 0.008115255595579907.\u001b[0m\n",
            "\u001b[32m[I 2021-04-26 08:45:25,812]\u001b[0m Trial 72 finished with value: 0.03973280802091472 and parameters: {'Tatoray Stripper C620 Operation_Column Temp Profile_C620 Tray 14 (Control)_oC': 177.96204154538114, 'Tatoray Stripper C620 Operation_Column Temp Profile_C620 Tray 34 (Control)_oC': 194.67141122855318, 'Tatoray Stripper C620 Operation_Specifications_Spec 2 : Distillate Rate_m3/hr': 0.9757526438507826}. Best is trial 27 with value: 0.008115255595579907.\u001b[0m\n",
            "\u001b[32m[I 2021-04-26 08:45:25,902]\u001b[0m Trial 73 finished with value: 0.1621440136623178 and parameters: {'Tatoray Stripper C620 Operation_Column Temp Profile_C620 Tray 14 (Control)_oC': 178.09178835880667, 'Tatoray Stripper C620 Operation_Column Temp Profile_C620 Tray 34 (Control)_oC': 194.66956209767338, 'Tatoray Stripper C620 Operation_Specifications_Spec 2 : Distillate Rate_m3/hr': 1.1444599082188105}. Best is trial 27 with value: 0.008115255595579907.\u001b[0m\n",
            "\u001b[32m[I 2021-04-26 08:45:25,983]\u001b[0m Trial 74 finished with value: 0.17365915472651028 and parameters: {'Tatoray Stripper C620 Operation_Column Temp Profile_C620 Tray 14 (Control)_oC': 177.92806365000274, 'Tatoray Stripper C620 Operation_Column Temp Profile_C620 Tray 34 (Control)_oC': 194.7324194624371, 'Tatoray Stripper C620 Operation_Specifications_Spec 2 : Distillate Rate_m3/hr': 1.1299775432880235}. Best is trial 27 with value: 0.008115255595579907.\u001b[0m\n",
            "\u001b[32m[I 2021-04-26 08:45:26,068]\u001b[0m Trial 75 finished with value: 0.0788975066228389 and parameters: {'Tatoray Stripper C620 Operation_Column Temp Profile_C620 Tray 14 (Control)_oC': 177.6404080179531, 'Tatoray Stripper C620 Operation_Column Temp Profile_C620 Tray 34 (Control)_oC': 194.57619642634126, 'Tatoray Stripper C620 Operation_Specifications_Spec 2 : Distillate Rate_m3/hr': 0.9678791853657017}. Best is trial 27 with value: 0.008115255595579907.\u001b[0m\n",
            "\u001b[32m[I 2021-04-26 08:45:26,149]\u001b[0m Trial 76 finished with value: 0.4469966655318445 and parameters: {'Tatoray Stripper C620 Operation_Column Temp Profile_C620 Tray 14 (Control)_oC': 177.83766104135208, 'Tatoray Stripper C620 Operation_Column Temp Profile_C620 Tray 34 (Control)_oC': 194.6947320364481, 'Tatoray Stripper C620 Operation_Specifications_Spec 2 : Distillate Rate_m3/hr': 0.5745919225039102}. Best is trial 27 with value: 0.008115255595579907.\u001b[0m\n",
            "\u001b[32m[I 2021-04-26 08:45:26,231]\u001b[0m Trial 77 finished with value: 0.16231842417628617 and parameters: {'Tatoray Stripper C620 Operation_Column Temp Profile_C620 Tray 14 (Control)_oC': 177.78326334928192, 'Tatoray Stripper C620 Operation_Column Temp Profile_C620 Tray 34 (Control)_oC': 194.59209263641722, 'Tatoray Stripper C620 Operation_Specifications_Spec 2 : Distillate Rate_m3/hr': 0.8707253170886896}. Best is trial 27 with value: 0.008115255595579907.\u001b[0m\n",
            "\u001b[32m[I 2021-04-26 08:45:26,313]\u001b[0m Trial 78 finished with value: 0.04460126120443908 and parameters: {'Tatoray Stripper C620 Operation_Column Temp Profile_C620 Tray 14 (Control)_oC': 177.4964649204769, 'Tatoray Stripper C620 Operation_Column Temp Profile_C620 Tray 34 (Control)_oC': 194.68863616411514, 'Tatoray Stripper C620 Operation_Specifications_Spec 2 : Distillate Rate_m3/hr': 1.0272329819395671}. Best is trial 27 with value: 0.008115255595579907.\u001b[0m\n",
            "\u001b[32m[I 2021-04-26 08:45:26,398]\u001b[0m Trial 79 finished with value: 0.2127569309776196 and parameters: {'Tatoray Stripper C620 Operation_Column Temp Profile_C620 Tray 14 (Control)_oC': 177.9674905916995, 'Tatoray Stripper C620 Operation_Column Temp Profile_C620 Tray 34 (Control)_oC': 194.5861468235479, 'Tatoray Stripper C620 Operation_Specifications_Spec 2 : Distillate Rate_m3/hr': 1.1796497785805973}. Best is trial 27 with value: 0.008115255595579907.\u001b[0m\n",
            "\u001b[32m[I 2021-04-26 08:45:26,484]\u001b[0m Trial 80 finished with value: 0.21048599801792267 and parameters: {'Tatoray Stripper C620 Operation_Column Temp Profile_C620 Tray 14 (Control)_oC': 177.45240866664696, 'Tatoray Stripper C620 Operation_Column Temp Profile_C620 Tray 34 (Control)_oC': 194.50654087702404, 'Tatoray Stripper C620 Operation_Specifications_Spec 2 : Distillate Rate_m3/hr': 0.8967618259511384}. Best is trial 27 with value: 0.008115255595579907.\u001b[0m\n",
            "\u001b[32m[I 2021-04-26 08:45:26,558]\u001b[0m Trial 81 finished with value: 0.18119889915516452 and parameters: {'Tatoray Stripper C620 Operation_Column Temp Profile_C620 Tray 14 (Control)_oC': 177.69333578936258, 'Tatoray Stripper C620 Operation_Column Temp Profile_C620 Tray 34 (Control)_oC': 194.57719254650485, 'Tatoray Stripper C620 Operation_Specifications_Spec 2 : Distillate Rate_m3/hr': 1.1361806198704316}. Best is trial 27 with value: 0.008115255595579907.\u001b[0m\n",
            "\u001b[32m[I 2021-04-26 08:45:26,637]\u001b[0m Trial 82 finished with value: 0.40655829902972607 and parameters: {'Tatoray Stripper C620 Operation_Column Temp Profile_C620 Tray 14 (Control)_oC': 177.6415703111541, 'Tatoray Stripper C620 Operation_Column Temp Profile_C620 Tray 34 (Control)_oC': 194.62852384527935, 'Tatoray Stripper C620 Operation_Specifications_Spec 2 : Distillate Rate_m3/hr': 1.3954449921297256}. Best is trial 27 with value: 0.008115255595579907.\u001b[0m\n",
            "\u001b[32m[I 2021-04-26 08:45:26,708]\u001b[0m Trial 83 finished with value: 0.18933539950685652 and parameters: {'Tatoray Stripper C620 Operation_Column Temp Profile_C620 Tray 14 (Control)_oC': 178.04783269946606, 'Tatoray Stripper C620 Operation_Column Temp Profile_C620 Tray 34 (Control)_oC': 194.50512444924553, 'Tatoray Stripper C620 Operation_Specifications_Spec 2 : Distillate Rate_m3/hr': 1.0951098416526974}. Best is trial 27 with value: 0.008115255595579907.\u001b[0m\n",
            "\u001b[32m[I 2021-04-26 08:45:26,784]\u001b[0m Trial 84 finished with value: 0.07691147503562101 and parameters: {'Tatoray Stripper C620 Operation_Column Temp Profile_C620 Tray 14 (Control)_oC': 177.80861119577617, 'Tatoray Stripper C620 Operation_Column Temp Profile_C620 Tray 34 (Control)_oC': 194.70551050560482, 'Tatoray Stripper C620 Operation_Specifications_Spec 2 : Distillate Rate_m3/hr': 1.0469940880050417}. Best is trial 27 with value: 0.008115255595579907.\u001b[0m\n",
            "\u001b[32m[I 2021-04-26 08:45:26,868]\u001b[0m Trial 85 finished with value: 0.06932737249528409 and parameters: {'Tatoray Stripper C620 Operation_Column Temp Profile_C620 Tray 14 (Control)_oC': 177.53568962545623, 'Tatoray Stripper C620 Operation_Column Temp Profile_C620 Tray 34 (Control)_oC': 194.73437632048555, 'Tatoray Stripper C620 Operation_Specifications_Spec 2 : Distillate Rate_m3/hr': 1.0308236730460616}. Best is trial 27 with value: 0.008115255595579907.\u001b[0m\n",
            "\u001b[32m[I 2021-04-26 08:45:26,940]\u001b[0m Trial 86 finished with value: 0.017334747277898188 and parameters: {'Tatoray Stripper C620 Operation_Column Temp Profile_C620 Tray 14 (Control)_oC': 177.79195901278464, 'Tatoray Stripper C620 Operation_Column Temp Profile_C620 Tray 34 (Control)_oC': 194.6264906987484, 'Tatoray Stripper C620 Operation_Specifications_Spec 2 : Distillate Rate_m3/hr': 1.0061046281332846}. Best is trial 27 with value: 0.008115255595579907.\u001b[0m\n",
            "\u001b[32m[I 2021-04-26 08:45:27,013]\u001b[0m Trial 87 finished with value: 0.2881807144965258 and parameters: {'Tatoray Stripper C620 Operation_Column Temp Profile_C620 Tray 14 (Control)_oC': 177.76765161912445, 'Tatoray Stripper C620 Operation_Column Temp Profile_C620 Tray 34 (Control)_oC': 194.7152934579444, 'Tatoray Stripper C620 Operation_Specifications_Spec 2 : Distillate Rate_m3/hr': 1.2524461640888582}. Best is trial 27 with value: 0.008115255595579907.\u001b[0m\n",
            "\u001b[32m[I 2021-04-26 08:45:27,092]\u001b[0m Trial 88 finished with value: 0.07778592693509578 and parameters: {'Tatoray Stripper C620 Operation_Column Temp Profile_C620 Tray 14 (Control)_oC': 177.3676208588282, 'Tatoray Stripper C620 Operation_Column Temp Profile_C620 Tray 34 (Control)_oC': 194.73815089188452, 'Tatoray Stripper C620 Operation_Specifications_Spec 2 : Distillate Rate_m3/hr': 1.0399086918768208}. Best is trial 27 with value: 0.008115255595579907.\u001b[0m\n",
            "\u001b[32m[I 2021-04-26 08:45:27,165]\u001b[0m Trial 89 finished with value: 0.20348060978259297 and parameters: {'Tatoray Stripper C620 Operation_Column Temp Profile_C620 Tray 14 (Control)_oC': 177.41157426148834, 'Tatoray Stripper C620 Operation_Column Temp Profile_C620 Tray 34 (Control)_oC': 194.5859539596357, 'Tatoray Stripper C620 Operation_Specifications_Spec 2 : Distillate Rate_m3/hr': 1.158461932831832}. Best is trial 27 with value: 0.008115255595579907.\u001b[0m\n",
            "\u001b[32m[I 2021-04-26 08:45:27,237]\u001b[0m Trial 90 finished with value: 0.15429047168604426 and parameters: {'Tatoray Stripper C620 Operation_Column Temp Profile_C620 Tray 14 (Control)_oC': 177.56661556434295, 'Tatoray Stripper C620 Operation_Column Temp Profile_C620 Tray 34 (Control)_oC': 194.73453695274668, 'Tatoray Stripper C620 Operation_Specifications_Spec 2 : Distillate Rate_m3/hr': 0.8831615941749311}. Best is trial 27 with value: 0.008115255595579907.\u001b[0m\n",
            "\u001b[32m[I 2021-04-26 08:45:27,309]\u001b[0m Trial 91 finished with value: 0.16892186789630337 and parameters: {'Tatoray Stripper C620 Operation_Column Temp Profile_C620 Tray 14 (Control)_oC': 177.43297081264518, 'Tatoray Stripper C620 Operation_Column Temp Profile_C620 Tray 34 (Control)_oC': 194.73685820458863, 'Tatoray Stripper C620 Operation_Specifications_Spec 2 : Distillate Rate_m3/hr': 1.1297320811782914}. Best is trial 27 with value: 0.008115255595579907.\u001b[0m\n",
            "\u001b[32m[I 2021-04-26 08:45:27,387]\u001b[0m Trial 92 finished with value: 0.1417420667381506 and parameters: {'Tatoray Stripper C620 Operation_Column Temp Profile_C620 Tray 14 (Control)_oC': 177.73071900173105, 'Tatoray Stripper C620 Operation_Column Temp Profile_C620 Tray 34 (Control)_oC': 194.69967932109788, 'Tatoray Stripper C620 Operation_Specifications_Spec 2 : Distillate Rate_m3/hr': 1.1149183130627918}. Best is trial 27 with value: 0.008115255595579907.\u001b[0m\n",
            "\u001b[32m[I 2021-04-26 08:45:27,464]\u001b[0m Trial 93 finished with value: 0.25302510465711814 and parameters: {'Tatoray Stripper C620 Operation_Column Temp Profile_C620 Tray 14 (Control)_oC': 177.7233171512795, 'Tatoray Stripper C620 Operation_Column Temp Profile_C620 Tray 34 (Control)_oC': 194.6181229937312, 'Tatoray Stripper C620 Operation_Specifications_Spec 2 : Distillate Rate_m3/hr': 1.2363085156395415}. Best is trial 27 with value: 0.008115255595579907.\u001b[0m\n",
            "\u001b[32m[I 2021-04-26 08:45:27,542]\u001b[0m Trial 94 finished with value: 0.1121568452461803 and parameters: {'Tatoray Stripper C620 Operation_Column Temp Profile_C620 Tray 14 (Control)_oC': 177.516099264681, 'Tatoray Stripper C620 Operation_Column Temp Profile_C620 Tray 34 (Control)_oC': 194.60227157313943, 'Tatoray Stripper C620 Operation_Specifications_Spec 2 : Distillate Rate_m3/hr': 0.9195148784860789}. Best is trial 27 with value: 0.008115255595579907.\u001b[0m\n",
            "\u001b[32m[I 2021-04-26 08:45:27,619]\u001b[0m Trial 95 finished with value: 0.13635679235149256 and parameters: {'Tatoray Stripper C620 Operation_Column Temp Profile_C620 Tray 14 (Control)_oC': 177.62444600716438, 'Tatoray Stripper C620 Operation_Column Temp Profile_C620 Tray 34 (Control)_oC': 194.6113483088206, 'Tatoray Stripper C620 Operation_Specifications_Spec 2 : Distillate Rate_m3/hr': 0.8874447089672084}. Best is trial 27 with value: 0.008115255595579907.\u001b[0m\n",
            "\u001b[32m[I 2021-04-26 08:45:27,695]\u001b[0m Trial 96 finished with value: 0.052948885450520455 and parameters: {'Tatoray Stripper C620 Operation_Column Temp Profile_C620 Tray 14 (Control)_oC': 177.40156982323174, 'Tatoray Stripper C620 Operation_Column Temp Profile_C620 Tray 34 (Control)_oC': 194.67103511929218, 'Tatoray Stripper C620 Operation_Specifications_Spec 2 : Distillate Rate_m3/hr': 1.0459246025838682}. Best is trial 27 with value: 0.008115255595579907.\u001b[0m\n",
            "\u001b[32m[I 2021-04-26 08:45:27,769]\u001b[0m Trial 97 finished with value: 0.027167008987525443 and parameters: {'Tatoray Stripper C620 Operation_Column Temp Profile_C620 Tray 14 (Control)_oC': 177.6871833876709, 'Tatoray Stripper C620 Operation_Column Temp Profile_C620 Tray 34 (Control)_oC': 194.6875654725922, 'Tatoray Stripper C620 Operation_Specifications_Spec 2 : Distillate Rate_m3/hr': 0.9923007626162746}. Best is trial 27 with value: 0.008115255595579907.\u001b[0m\n",
            "\u001b[32m[I 2021-04-26 08:45:27,851]\u001b[0m Trial 98 finished with value: 0.1442355054225306 and parameters: {'Tatoray Stripper C620 Operation_Column Temp Profile_C620 Tray 14 (Control)_oC': 177.60038993075423, 'Tatoray Stripper C620 Operation_Column Temp Profile_C620 Tray 34 (Control)_oC': 194.70732319041088, 'Tatoray Stripper C620 Operation_Specifications_Spec 2 : Distillate Rate_m3/hr': 1.1157411787184675}. Best is trial 27 with value: 0.008115255595579907.\u001b[0m\n",
            "\u001b[32m[I 2021-04-26 08:45:27,930]\u001b[0m Trial 99 finished with value: 0.1408320219454655 and parameters: {'Tatoray Stripper C620 Operation_Column Temp Profile_C620 Tray 14 (Control)_oC': 177.58945513196915, 'Tatoray Stripper C620 Operation_Column Temp Profile_C620 Tray 34 (Control)_oC': 194.5743630740525, 'Tatoray Stripper C620 Operation_Specifications_Spec 2 : Distillate Rate_m3/hr': 1.091505951287795}. Best is trial 27 with value: 0.008115255595579907.\u001b[0m\n",
            "\u001b[32m[I 2021-04-26 08:45:28,013]\u001b[0m Trial 100 finished with value: 0.07892893952280944 and parameters: {'Tatoray Stripper C620 Operation_Column Temp Profile_C620 Tray 14 (Control)_oC': 177.5912234061602, 'Tatoray Stripper C620 Operation_Column Temp Profile_C620 Tray 34 (Control)_oC': 194.74151804924927, 'Tatoray Stripper C620 Operation_Specifications_Spec 2 : Distillate Rate_m3/hr': 0.9624463387472859}. Best is trial 27 with value: 0.008115255595579907.\u001b[0m\n",
            "\u001b[32m[I 2021-04-26 08:45:28,090]\u001b[0m Trial 101 finished with value: 0.1461559958011145 and parameters: {'Tatoray Stripper C620 Operation_Column Temp Profile_C620 Tray 14 (Control)_oC': 177.60510555642725, 'Tatoray Stripper C620 Operation_Column Temp Profile_C620 Tray 34 (Control)_oC': 194.49557806021812, 'Tatoray Stripper C620 Operation_Specifications_Spec 2 : Distillate Rate_m3/hr': 1.0318804399951114}. Best is trial 27 with value: 0.008115255595579907.\u001b[0m\n",
            "\u001b[32m[I 2021-04-26 08:45:28,174]\u001b[0m Trial 102 finished with value: 0.182935316614661 and parameters: {'Tatoray Stripper C620 Operation_Column Temp Profile_C620 Tray 14 (Control)_oC': 177.51739864898985, 'Tatoray Stripper C620 Operation_Column Temp Profile_C620 Tray 34 (Control)_oC': 194.7220847837115, 'Tatoray Stripper C620 Operation_Specifications_Spec 2 : Distillate Rate_m3/hr': 0.8484033951135637}. Best is trial 27 with value: 0.008115255595579907.\u001b[0m\n",
            "\u001b[32m[I 2021-04-26 08:45:28,257]\u001b[0m Trial 103 finished with value: 0.15617457430771142 and parameters: {'Tatoray Stripper C620 Operation_Column Temp Profile_C620 Tray 14 (Control)_oC': 177.76076422045202, 'Tatoray Stripper C620 Operation_Column Temp Profile_C620 Tray 34 (Control)_oC': 194.59400482266338, 'Tatoray Stripper C620 Operation_Specifications_Spec 2 : Distillate Rate_m3/hr': 1.124231557669957}. Best is trial 27 with value: 0.008115255595579907.\u001b[0m\n",
            "\u001b[32m[I 2021-04-26 08:45:28,348]\u001b[0m Trial 104 finished with value: 0.07794795320348813 and parameters: {'Tatoray Stripper C620 Operation_Column Temp Profile_C620 Tray 14 (Control)_oC': 177.46320686228995, 'Tatoray Stripper C620 Operation_Column Temp Profile_C620 Tray 34 (Control)_oC': 194.71452467145448, 'Tatoray Stripper C620 Operation_Specifications_Spec 2 : Distillate Rate_m3/hr': 0.9503027982177801}. Best is trial 27 with value: 0.008115255595579907.\u001b[0m\n",
            "\u001b[32m[I 2021-04-26 08:45:28,429]\u001b[0m Trial 105 finished with value: 0.029645231708801623 and parameters: {'Tatoray Stripper C620 Operation_Column Temp Profile_C620 Tray 14 (Control)_oC': 177.6694502641821, 'Tatoray Stripper C620 Operation_Column Temp Profile_C620 Tray 34 (Control)_oC': 194.6412132122755, 'Tatoray Stripper C620 Operation_Specifications_Spec 2 : Distillate Rate_m3/hr': 0.9753601235557705}. Best is trial 27 with value: 0.008115255595579907.\u001b[0m\n",
            "\u001b[32m[I 2021-04-26 08:45:28,513]\u001b[0m Trial 106 finished with value: 0.0410455401460178 and parameters: {'Tatoray Stripper C620 Operation_Column Temp Profile_C620 Tray 14 (Control)_oC': 177.46057795960215, 'Tatoray Stripper C620 Operation_Column Temp Profile_C620 Tray 34 (Control)_oC': 194.62426843933105, 'Tatoray Stripper C620 Operation_Specifications_Spec 2 : Distillate Rate_m3/hr': 0.9777304788995002}. Best is trial 27 with value: 0.008115255595579907.\u001b[0m\n",
            "\u001b[32m[I 2021-04-26 08:45:28,594]\u001b[0m Trial 107 finished with value: 0.1399727226657853 and parameters: {'Tatoray Stripper C620 Operation_Column Temp Profile_C620 Tray 14 (Control)_oC': 177.6691225128273, 'Tatoray Stripper C620 Operation_Column Temp Profile_C620 Tray 34 (Control)_oC': 194.57375279097127, 'Tatoray Stripper C620 Operation_Specifications_Spec 2 : Distillate Rate_m3/hr': 0.9078647936691232}. Best is trial 27 with value: 0.008115255595579907.\u001b[0m\n",
            "\u001b[32m[I 2021-04-26 08:45:28,688]\u001b[0m Trial 108 finished with value: 0.00854963786591334 and parameters: {'Tatoray Stripper C620 Operation_Column Temp Profile_C620 Tray 14 (Control)_oC': 177.51250867506954, 'Tatoray Stripper C620 Operation_Column Temp Profile_C620 Tray 34 (Control)_oC': 194.6572837467762, 'Tatoray Stripper C620 Operation_Specifications_Spec 2 : Distillate Rate_m3/hr': 1.00720110734723}. Best is trial 27 with value: 0.008115255595579907.\u001b[0m\n",
            "\u001b[32m[I 2021-04-26 08:45:28,773]\u001b[0m Trial 109 finished with value: 0.054522816969638566 and parameters: {'Tatoray Stripper C620 Operation_Column Temp Profile_C620 Tray 14 (Control)_oC': 177.6903639778608, 'Tatoray Stripper C620 Operation_Column Temp Profile_C620 Tray 34 (Control)_oC': 194.6329648163943, 'Tatoray Stripper C620 Operation_Specifications_Spec 2 : Distillate Rate_m3/hr': 1.0454585665521718}. Best is trial 27 with value: 0.008115255595579907.\u001b[0m\n",
            "\u001b[32m[I 2021-04-26 08:45:28,854]\u001b[0m Trial 110 finished with value: 0.038585530296187165 and parameters: {'Tatoray Stripper C620 Operation_Column Temp Profile_C620 Tray 14 (Control)_oC': 177.43840589174025, 'Tatoray Stripper C620 Operation_Column Temp Profile_C620 Tray 34 (Control)_oC': 194.72156317922867, 'Tatoray Stripper C620 Operation_Specifications_Spec 2 : Distillate Rate_m3/hr': 0.9927835913740367}. Best is trial 27 with value: 0.008115255595579907.\u001b[0m\n",
            "\u001b[32m[I 2021-04-26 08:45:28,936]\u001b[0m Trial 111 finished with value: 0.22741845563613872 and parameters: {'Tatoray Stripper C620 Operation_Column Temp Profile_C620 Tray 14 (Control)_oC': 177.58860963022374, 'Tatoray Stripper C620 Operation_Column Temp Profile_C620 Tray 34 (Control)_oC': 194.71323191491018, 'Tatoray Stripper C620 Operation_Specifications_Spec 2 : Distillate Rate_m3/hr': 0.8006932604029675}. Best is trial 27 with value: 0.008115255595579907.\u001b[0m\n",
            "\u001b[32m[I 2021-04-26 08:45:29,016]\u001b[0m Trial 112 finished with value: 0.049710515926297605 and parameters: {'Tatoray Stripper C620 Operation_Column Temp Profile_C620 Tray 14 (Control)_oC': 177.56077084884095, 'Tatoray Stripper C620 Operation_Column Temp Profile_C620 Tray 34 (Control)_oC': 194.7021633091957, 'Tatoray Stripper C620 Operation_Specifications_Spec 2 : Distillate Rate_m3/hr': 0.9746021525287698}. Best is trial 27 with value: 0.008115255595579907.\u001b[0m\n",
            "\u001b[32m[I 2021-04-26 08:45:29,093]\u001b[0m Trial 113 finished with value: 0.04959395700093994 and parameters: {'Tatoray Stripper C620 Operation_Column Temp Profile_C620 Tray 14 (Control)_oC': 177.39994251746148, 'Tatoray Stripper C620 Operation_Column Temp Profile_C620 Tray 34 (Control)_oC': 194.62181160200726, 'Tatoray Stripper C620 Operation_Specifications_Spec 2 : Distillate Rate_m3/hr': 0.9719167166668085}. Best is trial 27 with value: 0.008115255595579907.\u001b[0m\n",
            "\u001b[32m[I 2021-04-26 08:45:29,166]\u001b[0m Trial 114 finished with value: 0.016859801213743753 and parameters: {'Tatoray Stripper C620 Operation_Column Temp Profile_C620 Tray 14 (Control)_oC': 177.39850659607808, 'Tatoray Stripper C620 Operation_Column Temp Profile_C620 Tray 34 (Control)_oC': 194.68319249409353, 'Tatoray Stripper C620 Operation_Specifications_Spec 2 : Distillate Rate_m3/hr': 0.9960150891819068}. Best is trial 27 with value: 0.008115255595579907.\u001b[0m\n",
            "\u001b[32m[I 2021-04-26 08:45:29,241]\u001b[0m Trial 115 finished with value: 0.05124266243878661 and parameters: {'Tatoray Stripper C620 Operation_Column Temp Profile_C620 Tray 14 (Control)_oC': 177.5933723036793, 'Tatoray Stripper C620 Operation_Column Temp Profile_C620 Tray 34 (Control)_oC': 194.65554953369576, 'Tatoray Stripper C620 Operation_Specifications_Spec 2 : Distillate Rate_m3/hr': 0.9502273210932747}. Best is trial 27 with value: 0.008115255595579907.\u001b[0m\n",
            "\u001b[32m[I 2021-04-26 08:45:29,326]\u001b[0m Trial 116 finished with value: 0.042480208514348305 and parameters: {'Tatoray Stripper C620 Operation_Column Temp Profile_C620 Tray 14 (Control)_oC': 177.40152123824905, 'Tatoray Stripper C620 Operation_Column Temp Profile_C620 Tray 34 (Control)_oC': 194.71349543909318, 'Tatoray Stripper C620 Operation_Specifications_Spec 2 : Distillate Rate_m3/hr': 0.9847186401540142}. Best is trial 27 with value: 0.008115255595579907.\u001b[0m\n",
            "\u001b[32m[I 2021-04-26 08:45:29,405]\u001b[0m Trial 117 finished with value: 0.0679630085151286 and parameters: {'Tatoray Stripper C620 Operation_Column Temp Profile_C620 Tray 14 (Control)_oC': 177.53980493119573, 'Tatoray Stripper C620 Operation_Column Temp Profile_C620 Tray 34 (Control)_oC': 194.6441283969439, 'Tatoray Stripper C620 Operation_Specifications_Spec 2 : Distillate Rate_m3/hr': 1.0627465991860487}. Best is trial 27 with value: 0.008115255595579907.\u001b[0m\n",
            "\u001b[32m[I 2021-04-26 08:45:29,477]\u001b[0m Trial 118 finished with value: 0.055960113670060596 and parameters: {'Tatoray Stripper C620 Operation_Column Temp Profile_C620 Tray 14 (Control)_oC': 177.52859387194874, 'Tatoray Stripper C620 Operation_Column Temp Profile_C620 Tray 34 (Control)_oC': 194.6640569840053, 'Tatoray Stripper C620 Operation_Specifications_Spec 2 : Distillate Rate_m3/hr': 0.948944893563045}. Best is trial 27 with value: 0.008115255595579907.\u001b[0m\n",
            "\u001b[32m[I 2021-04-26 08:45:29,555]\u001b[0m Trial 119 finished with value: 0.06908882194600996 and parameters: {'Tatoray Stripper C620 Operation_Column Temp Profile_C620 Tray 14 (Control)_oC': 177.378250743811, 'Tatoray Stripper C620 Operation_Column Temp Profile_C620 Tray 34 (Control)_oC': 194.6763002333186, 'Tatoray Stripper C620 Operation_Specifications_Spec 2 : Distillate Rate_m3/hr': 0.9395794121831933}. Best is trial 27 with value: 0.008115255595579907.\u001b[0m\n",
            "\u001b[32m[I 2021-04-26 08:45:29,631]\u001b[0m Trial 120 finished with value: 0.014914323769632754 and parameters: {'Tatoray Stripper C620 Operation_Column Temp Profile_C620 Tray 14 (Control)_oC': 177.54590180108997, 'Tatoray Stripper C620 Operation_Column Temp Profile_C620 Tray 34 (Control)_oC': 194.65549974674977, 'Tatoray Stripper C620 Operation_Specifications_Spec 2 : Distillate Rate_m3/hr': 1.0139247853069995}. Best is trial 27 with value: 0.008115255595579907.\u001b[0m\n",
            "\u001b[32m[I 2021-04-26 08:45:29,703]\u001b[0m Trial 121 finished with value: 0.0217538052402102 and parameters: {'Tatoray Stripper C620 Operation_Column Temp Profile_C620 Tray 14 (Control)_oC': 177.34213241432423, 'Tatoray Stripper C620 Operation_Column Temp Profile_C620 Tray 34 (Control)_oC': 194.6937560054057, 'Tatoray Stripper C620 Operation_Specifications_Spec 2 : Distillate Rate_m3/hr': 1.0045288476407717}. Best is trial 27 with value: 0.008115255595579907.\u001b[0m\n",
            "\u001b[32m[I 2021-04-26 08:45:29,788]\u001b[0m Trial 122 finished with value: 0.03783423763097993 and parameters: {'Tatoray Stripper C620 Operation_Column Temp Profile_C620 Tray 14 (Control)_oC': 177.2422895227307, 'Tatoray Stripper C620 Operation_Column Temp Profile_C620 Tray 34 (Control)_oC': 194.71896801404637, 'Tatoray Stripper C620 Operation_Specifications_Spec 2 : Distillate Rate_m3/hr': 0.9894340732986482}. Best is trial 27 with value: 0.008115255595579907.\u001b[0m\n",
            "\u001b[32m[I 2021-04-26 08:45:29,872]\u001b[0m Trial 123 finished with value: 0.07096242822981069 and parameters: {'Tatoray Stripper C620 Operation_Column Temp Profile_C620 Tray 14 (Control)_oC': 177.25816201489042, 'Tatoray Stripper C620 Operation_Column Temp Profile_C620 Tray 34 (Control)_oC': 194.70085332536192, 'Tatoray Stripper C620 Operation_Specifications_Spec 2 : Distillate Rate_m3/hr': 1.0513214434053195}. Best is trial 27 with value: 0.008115255595579907.\u001b[0m\n",
            "\u001b[32m[I 2021-04-26 08:45:29,951]\u001b[0m Trial 124 finished with value: 0.05615133783808435 and parameters: {'Tatoray Stripper C620 Operation_Column Temp Profile_C620 Tray 14 (Control)_oC': 177.29237893190216, 'Tatoray Stripper C620 Operation_Column Temp Profile_C620 Tray 34 (Control)_oC': 194.6991628748348, 'Tatoray Stripper C620 Operation_Specifications_Spec 2 : Distillate Rate_m3/hr': 0.962536132202903}. Best is trial 27 with value: 0.008115255595579907.\u001b[0m\n",
            "\u001b[32m[I 2021-04-26 08:45:30,025]\u001b[0m Trial 125 finished with value: 0.05732000845277119 and parameters: {'Tatoray Stripper C620 Operation_Column Temp Profile_C620 Tray 14 (Control)_oC': 177.42366850302338, 'Tatoray Stripper C620 Operation_Column Temp Profile_C620 Tray 34 (Control)_oC': 194.6519705963769, 'Tatoray Stripper C620 Operation_Specifications_Spec 2 : Distillate Rate_m3/hr': 1.0544033117822749}. Best is trial 27 with value: 0.008115255595579907.\u001b[0m\n",
            "\u001b[32m[I 2021-04-26 08:45:30,100]\u001b[0m Trial 126 finished with value: 0.09467499124634937 and parameters: {'Tatoray Stripper C620 Operation_Column Temp Profile_C620 Tray 14 (Control)_oC': 177.75568224099166, 'Tatoray Stripper C620 Operation_Column Temp Profile_C620 Tray 34 (Control)_oC': 194.66771953589557, 'Tatoray Stripper C620 Operation_Specifications_Spec 2 : Distillate Rate_m3/hr': 0.9155191007810837}. Best is trial 27 with value: 0.008115255595579907.\u001b[0m\n",
            "\u001b[32m[I 2021-04-26 08:45:30,183]\u001b[0m Trial 127 finished with value: 0.029191103721478262 and parameters: {'Tatoray Stripper C620 Operation_Column Temp Profile_C620 Tray 14 (Control)_oC': 177.50362417867353, 'Tatoray Stripper C620 Operation_Column Temp Profile_C620 Tray 34 (Control)_oC': 194.63756280662705, 'Tatoray Stripper C620 Operation_Specifications_Spec 2 : Distillate Rate_m3/hr': 1.019327998131194}. Best is trial 27 with value: 0.008115255595579907.\u001b[0m\n",
            "\u001b[32m[I 2021-04-26 08:45:30,267]\u001b[0m Trial 128 finished with value: 0.0349683598596483 and parameters: {'Tatoray Stripper C620 Operation_Column Temp Profile_C620 Tray 14 (Control)_oC': 177.5735861589736, 'Tatoray Stripper C620 Operation_Column Temp Profile_C620 Tray 34 (Control)_oC': 194.6753837946431, 'Tatoray Stripper C620 Operation_Specifications_Spec 2 : Distillate Rate_m3/hr': 0.9766775559567821}. Best is trial 27 with value: 0.008115255595579907.\u001b[0m\n",
            "\u001b[32m[I 2021-04-26 08:45:30,341]\u001b[0m Trial 129 finished with value: 0.04427723188405197 and parameters: {'Tatoray Stripper C620 Operation_Column Temp Profile_C620 Tray 14 (Control)_oC': 177.34295849661586, 'Tatoray Stripper C620 Operation_Column Temp Profile_C620 Tray 34 (Control)_oC': 194.70721421985638, 'Tatoray Stripper C620 Operation_Specifications_Spec 2 : Distillate Rate_m3/hr': 0.9791268407701074}. Best is trial 27 with value: 0.008115255595579907.\u001b[0m\n",
            "\u001b[32m[I 2021-04-26 08:45:30,424]\u001b[0m Trial 130 finished with value: 0.07350658020662615 and parameters: {'Tatoray Stripper C620 Operation_Column Temp Profile_C620 Tray 14 (Control)_oC': 177.49695249684768, 'Tatoray Stripper C620 Operation_Column Temp Profile_C620 Tray 34 (Control)_oC': 194.734179625871, 'Tatoray Stripper C620 Operation_Specifications_Spec 2 : Distillate Rate_m3/hr': 1.0355529812737674}. Best is trial 27 with value: 0.008115255595579907.\u001b[0m\n",
            "\u001b[32m[I 2021-04-26 08:45:30,515]\u001b[0m Trial 131 finished with value: 0.009189245041679617 and parameters: {'Tatoray Stripper C620 Operation_Column Temp Profile_C620 Tray 14 (Control)_oC': 177.31502168906175, 'Tatoray Stripper C620 Operation_Column Temp Profile_C620 Tray 34 (Control)_oC': 194.65892040499406, 'Tatoray Stripper C620 Operation_Specifications_Spec 2 : Distillate Rate_m3/hr': 0.992174078870735}. Best is trial 27 with value: 0.008115255595579907.\u001b[0m\n",
            "\u001b[32m[I 2021-04-26 08:45:30,589]\u001b[0m Trial 132 finished with value: 0.02657726805889693 and parameters: {'Tatoray Stripper C620 Operation_Column Temp Profile_C620 Tray 14 (Control)_oC': 177.35389164076716, 'Tatoray Stripper C620 Operation_Column Temp Profile_C620 Tray 34 (Control)_oC': 194.65579777242928, 'Tatoray Stripper C620 Operation_Specifications_Spec 2 : Distillate Rate_m3/hr': 1.02437202671987}. Best is trial 27 with value: 0.008115255595579907.\u001b[0m\n",
            "\u001b[32m[I 2021-04-26 08:45:30,665]\u001b[0m Trial 133 finished with value: 0.03770846985302989 and parameters: {'Tatoray Stripper C620 Operation_Column Temp Profile_C620 Tray 14 (Control)_oC': 177.17316291360558, 'Tatoray Stripper C620 Operation_Column Temp Profile_C620 Tray 34 (Control)_oC': 194.73776086148408, 'Tatoray Stripper C620 Operation_Specifications_Spec 2 : Distillate Rate_m3/hr': 1.0032012651053608}. Best is trial 27 with value: 0.008115255595579907.\u001b[0m\n",
            "\u001b[32m[I 2021-04-26 08:45:30,749]\u001b[0m Trial 134 finished with value: 0.030378065374575103 and parameters: {'Tatoray Stripper C620 Operation_Column Temp Profile_C620 Tray 14 (Control)_oC': 177.15846306474083, 'Tatoray Stripper C620 Operation_Column Temp Profile_C620 Tray 34 (Control)_oC': 194.677371861273, 'Tatoray Stripper C620 Operation_Specifications_Spec 2 : Distillate Rate_m3/hr': 1.0245240878697335}. Best is trial 27 with value: 0.008115255595579907.\u001b[0m\n",
            "\u001b[32m[I 2021-04-26 08:45:30,839]\u001b[0m Trial 135 finished with value: 0.06485224313867977 and parameters: {'Tatoray Stripper C620 Operation_Column Temp Profile_C620 Tray 14 (Control)_oC': 177.18017081457128, 'Tatoray Stripper C620 Operation_Column Temp Profile_C620 Tray 34 (Control)_oC': 194.73115049332213, 'Tatoray Stripper C620 Operation_Specifications_Spec 2 : Distillate Rate_m3/hr': 1.0327782954139824}. Best is trial 27 with value: 0.008115255595579907.\u001b[0m\n",
            "\u001b[32m[I 2021-04-26 08:45:30,930]\u001b[0m Trial 136 finished with value: 0.026033205345217247 and parameters: {'Tatoray Stripper C620 Operation_Column Temp Profile_C620 Tray 14 (Control)_oC': 177.19944457819986, 'Tatoray Stripper C620 Operation_Column Temp Profile_C620 Tray 34 (Control)_oC': 194.6573859982841, 'Tatoray Stripper C620 Operation_Specifications_Spec 2 : Distillate Rate_m3/hr': 1.0217644245311872}. Best is trial 27 with value: 0.008115255595579907.\u001b[0m\n",
            "\u001b[32m[I 2021-04-26 08:45:31,016]\u001b[0m Trial 137 finished with value: 0.08037191436868918 and parameters: {'Tatoray Stripper C620 Operation_Column Temp Profile_C620 Tray 14 (Control)_oC': 177.50585135680166, 'Tatoray Stripper C620 Operation_Column Temp Profile_C620 Tray 34 (Control)_oC': 194.71528100882995, 'Tatoray Stripper C620 Operation_Specifications_Spec 2 : Distillate Rate_m3/hr': 0.9488043688039993}. Best is trial 27 with value: 0.008115255595579907.\u001b[0m\n",
            "\u001b[32m[I 2021-04-26 08:45:31,098]\u001b[0m Trial 138 finished with value: 0.044620216175748295 and parameters: {'Tatoray Stripper C620 Operation_Column Temp Profile_C620 Tray 14 (Control)_oC': 177.4503328149051, 'Tatoray Stripper C620 Operation_Column Temp Profile_C620 Tray 34 (Control)_oC': 194.6740363070646, 'Tatoray Stripper C620 Operation_Specifications_Spec 2 : Distillate Rate_m3/hr': 1.0352761080181707}. Best is trial 27 with value: 0.008115255595579907.\u001b[0m\n",
            "\u001b[32m[I 2021-04-26 08:45:31,177]\u001b[0m Trial 139 finished with value: 0.06050702926518092 and parameters: {'Tatoray Stripper C620 Operation_Column Temp Profile_C620 Tray 14 (Control)_oC': 177.46993763060132, 'Tatoray Stripper C620 Operation_Column Temp Profile_C620 Tray 34 (Control)_oC': 194.66364480982594, 'Tatoray Stripper C620 Operation_Specifications_Spec 2 : Distillate Rate_m3/hr': 0.9431625921083516}. Best is trial 27 with value: 0.008115255595579907.\u001b[0m\n",
            "\u001b[32m[I 2021-04-26 08:45:31,254]\u001b[0m Trial 140 finished with value: 0.014685135348981637 and parameters: {'Tatoray Stripper C620 Operation_Column Temp Profile_C620 Tray 14 (Control)_oC': 177.33132474612364, 'Tatoray Stripper C620 Operation_Column Temp Profile_C620 Tray 34 (Control)_oC': 194.6462395842899, 'Tatoray Stripper C620 Operation_Specifications_Spec 2 : Distillate Rate_m3/hr': 1.0065553102193812}. Best is trial 27 with value: 0.008115255595579907.\u001b[0m\n",
            "\u001b[32m[I 2021-04-26 08:45:31,329]\u001b[0m Trial 141 finished with value: 0.03067232060657843 and parameters: {'Tatoray Stripper C620 Operation_Column Temp Profile_C620 Tray 14 (Control)_oC': 177.07309792895032, 'Tatoray Stripper C620 Operation_Column Temp Profile_C620 Tray 34 (Control)_oC': 194.63204986481404, 'Tatoray Stripper C620 Operation_Specifications_Spec 2 : Distillate Rate_m3/hr': 0.9913848707604187}. Best is trial 27 with value: 0.008115255595579907.\u001b[0m\n",
            "\u001b[32m[I 2021-04-26 08:45:31,415]\u001b[0m Trial 142 finished with value: 0.03423971557885386 and parameters: {'Tatoray Stripper C620 Operation_Column Temp Profile_C620 Tray 14 (Control)_oC': 177.1386287268779, 'Tatoray Stripper C620 Operation_Column Temp Profile_C620 Tray 34 (Control)_oC': 194.7146305277591, 'Tatoray Stripper C620 Operation_Specifications_Spec 2 : Distillate Rate_m3/hr': 1.0104387541612474}. Best is trial 27 with value: 0.008115255595579907.\u001b[0m\n",
            "\u001b[32m[I 2021-04-26 08:45:31,496]\u001b[0m Trial 143 finished with value: 0.03147516003207873 and parameters: {'Tatoray Stripper C620 Operation_Column Temp Profile_C620 Tray 14 (Control)_oC': 177.23091557437135, 'Tatoray Stripper C620 Operation_Column Temp Profile_C620 Tray 34 (Control)_oC': 194.63649529566396, 'Tatoray Stripper C620 Operation_Specifications_Spec 2 : Distillate Rate_m3/hr': 0.9844734803512497}. Best is trial 27 with value: 0.008115255595579907.\u001b[0m\n",
            "\u001b[32m[I 2021-04-26 08:45:31,573]\u001b[0m Trial 144 finished with value: 0.0789168181457569 and parameters: {'Tatoray Stripper C620 Operation_Column Temp Profile_C620 Tray 14 (Control)_oC': 176.8928881877642, 'Tatoray Stripper C620 Operation_Column Temp Profile_C620 Tray 34 (Control)_oC': 194.5889789814447, 'Tatoray Stripper C620 Operation_Specifications_Spec 2 : Distillate Rate_m3/hr': 1.0229611778104157}. Best is trial 27 with value: 0.008115255595579907.\u001b[0m\n",
            "\u001b[32m[I 2021-04-26 08:45:31,654]\u001b[0m Trial 145 finished with value: 0.07787320171628098 and parameters: {'Tatoray Stripper C620 Operation_Column Temp Profile_C620 Tray 14 (Control)_oC': 177.30800136093075, 'Tatoray Stripper C620 Operation_Column Temp Profile_C620 Tray 34 (Control)_oC': 194.58346977594223, 'Tatoray Stripper C620 Operation_Specifications_Spec 2 : Distillate Rate_m3/hr': 0.9712304001321342}. Best is trial 27 with value: 0.008115255595579907.\u001b[0m\n",
            "\u001b[32m[I 2021-04-26 08:45:31,735]\u001b[0m Trial 146 finished with value: 0.03825561563898494 and parameters: {'Tatoray Stripper C620 Operation_Column Temp Profile_C620 Tray 14 (Control)_oC': 177.47677475808612, 'Tatoray Stripper C620 Operation_Column Temp Profile_C620 Tray 34 (Control)_oC': 194.6867274141409, 'Tatoray Stripper C620 Operation_Specifications_Spec 2 : Distillate Rate_m3/hr': 0.977496627125564}. Best is trial 27 with value: 0.008115255595579907.\u001b[0m\n",
            "\u001b[32m[I 2021-04-26 08:45:31,824]\u001b[0m Trial 147 finished with value: 0.021425524160977094 and parameters: {'Tatoray Stripper C620 Operation_Column Temp Profile_C620 Tray 14 (Control)_oC': 177.3903508281065, 'Tatoray Stripper C620 Operation_Column Temp Profile_C620 Tray 34 (Control)_oC': 194.64832004603645, 'Tatoray Stripper C620 Operation_Specifications_Spec 2 : Distillate Rate_m3/hr': 0.9845016143391923}. Best is trial 27 with value: 0.008115255595579907.\u001b[0m\n",
            "\u001b[32m[I 2021-04-26 08:45:31,906]\u001b[0m Trial 148 finished with value: 0.09313633388084175 and parameters: {'Tatoray Stripper C620 Operation_Column Temp Profile_C620 Tray 14 (Control)_oC': 177.20810628485637, 'Tatoray Stripper C620 Operation_Column Temp Profile_C620 Tray 34 (Control)_oC': 194.63283906183406, 'Tatoray Stripper C620 Operation_Specifications_Spec 2 : Distillate Rate_m3/hr': 0.9256752039906722}. Best is trial 27 with value: 0.008115255595579907.\u001b[0m\n",
            "\u001b[32m[I 2021-04-26 08:45:31,994]\u001b[0m Trial 149 finished with value: 0.008929469425491443 and parameters: {'Tatoray Stripper C620 Operation_Column Temp Profile_C620 Tray 14 (Control)_oC': 177.30242598130033, 'Tatoray Stripper C620 Operation_Column Temp Profile_C620 Tray 34 (Control)_oC': 194.66021729492834, 'Tatoray Stripper C620 Operation_Specifications_Spec 2 : Distillate Rate_m3/hr': 0.9919543306824511}. Best is trial 27 with value: 0.008115255595579907.\u001b[0m\n",
            "\u001b[32m[I 2021-04-26 08:45:32,079]\u001b[0m Trial 150 finished with value: 0.029059301557702755 and parameters: {'Tatoray Stripper C620 Operation_Column Temp Profile_C620 Tray 14 (Control)_oC': 177.3988865035695, 'Tatoray Stripper C620 Operation_Column Temp Profile_C620 Tray 34 (Control)_oC': 194.68016721473768, 'Tatoray Stripper C620 Operation_Specifications_Spec 2 : Distillate Rate_m3/hr': 1.0175524568908199}. Best is trial 27 with value: 0.008115255595579907.\u001b[0m\n",
            "\u001b[32m[I 2021-04-26 08:45:32,162]\u001b[0m Trial 151 finished with value: 0.036429811218722685 and parameters: {'Tatoray Stripper C620 Operation_Column Temp Profile_C620 Tray 14 (Control)_oC': 177.13482398093342, 'Tatoray Stripper C620 Operation_Column Temp Profile_C620 Tray 34 (Control)_oC': 194.61896128676395, 'Tatoray Stripper C620 Operation_Specifications_Spec 2 : Distillate Rate_m3/hr': 0.9925295469519442}. Best is trial 27 with value: 0.008115255595579907.\u001b[0m\n",
            "\u001b[32m[I 2021-04-26 08:45:32,240]\u001b[0m Trial 152 finished with value: 0.04254276251845357 and parameters: {'Tatoray Stripper C620 Operation_Column Temp Profile_C620 Tray 14 (Control)_oC': 177.3898270039635, 'Tatoray Stripper C620 Operation_Column Temp Profile_C620 Tray 34 (Control)_oC': 194.71373381076177, 'Tatoray Stripper C620 Operation_Specifications_Spec 2 : Distillate Rate_m3/hr': 1.0151377346512074}. Best is trial 27 with value: 0.008115255595579907.\u001b[0m\n",
            "\u001b[32m[I 2021-04-26 08:45:32,320]\u001b[0m Trial 153 finished with value: 0.02721373315822595 and parameters: {'Tatoray Stripper C620 Operation_Column Temp Profile_C620 Tray 14 (Control)_oC': 177.2094177172068, 'Tatoray Stripper C620 Operation_Column Temp Profile_C620 Tray 34 (Control)_oC': 194.64520134428045, 'Tatoray Stripper C620 Operation_Specifications_Spec 2 : Distillate Rate_m3/hr': 0.9840178966524403}. Best is trial 27 with value: 0.008115255595579907.\u001b[0m\n",
            "\u001b[32m[I 2021-04-26 08:45:32,427]\u001b[0m Trial 154 finished with value: 0.023950805517562568 and parameters: {'Tatoray Stripper C620 Operation_Column Temp Profile_C620 Tray 14 (Control)_oC': 177.28499603321418, 'Tatoray Stripper C620 Operation_Column Temp Profile_C620 Tray 34 (Control)_oC': 194.65739083468054, 'Tatoray Stripper C620 Operation_Specifications_Spec 2 : Distillate Rate_m3/hr': 0.9788848218449808}. Best is trial 27 with value: 0.008115255595579907.\u001b[0m\n",
            "\u001b[32m[I 2021-04-26 08:45:32,516]\u001b[0m Trial 155 finished with value: 0.05326220790529557 and parameters: {'Tatoray Stripper C620 Operation_Column Temp Profile_C620 Tray 14 (Control)_oC': 177.3157682389866, 'Tatoray Stripper C620 Operation_Column Temp Profile_C620 Tray 34 (Control)_oC': 194.65673101118256, 'Tatoray Stripper C620 Operation_Specifications_Spec 2 : Distillate Rate_m3/hr': 0.9495066232886658}. Best is trial 27 with value: 0.008115255595579907.\u001b[0m\n",
            "\u001b[32m[I 2021-04-26 08:45:32,593]\u001b[0m Trial 156 finished with value: 0.051680471505698766 and parameters: {'Tatoray Stripper C620 Operation_Column Temp Profile_C620 Tray 14 (Control)_oC': 177.30479009854147, 'Tatoray Stripper C620 Operation_Column Temp Profile_C620 Tray 34 (Control)_oC': 194.69130584419466, 'Tatoray Stripper C620 Operation_Specifications_Spec 2 : Distillate Rate_m3/hr': 0.9634240217257205}. Best is trial 27 with value: 0.008115255595579907.\u001b[0m\n",
            "\u001b[32m[I 2021-04-26 08:45:32,687]\u001b[0m Trial 157 finished with value: 0.04749720983469252 and parameters: {'Tatoray Stripper C620 Operation_Column Temp Profile_C620 Tray 14 (Control)_oC': 177.26164817125263, 'Tatoray Stripper C620 Operation_Column Temp Profile_C620 Tray 34 (Control)_oC': 194.69758750753562, 'Tatoray Stripper C620 Operation_Specifications_Spec 2 : Distillate Rate_m3/hr': 0.9699900295562244}. Best is trial 27 with value: 0.008115255595579907.\u001b[0m\n",
            "\u001b[32m[I 2021-04-26 08:45:32,771]\u001b[0m Trial 158 finished with value: 0.0424580415292648 and parameters: {'Tatoray Stripper C620 Operation_Column Temp Profile_C620 Tray 14 (Control)_oC': 177.3304593448717, 'Tatoray Stripper C620 Operation_Column Temp Profile_C620 Tray 34 (Control)_oC': 194.64764216337517, 'Tatoray Stripper C620 Operation_Specifications_Spec 2 : Distillate Rate_m3/hr': 0.9650640418205048}. Best is trial 27 with value: 0.008115255595579907.\u001b[0m\n",
            "\u001b[32m[I 2021-04-26 08:45:32,855]\u001b[0m Trial 159 finished with value: 0.02156663461816799 and parameters: {'Tatoray Stripper C620 Operation_Column Temp Profile_C620 Tray 14 (Control)_oC': 177.3205140940396, 'Tatoray Stripper C620 Operation_Column Temp Profile_C620 Tray 34 (Control)_oC': 194.647866229118, 'Tatoray Stripper C620 Operation_Specifications_Spec 2 : Distillate Rate_m3/hr': 1.0141981763590169}. Best is trial 27 with value: 0.008115255595579907.\u001b[0m\n",
            "\u001b[32m[I 2021-04-26 08:45:32,946]\u001b[0m Trial 160 finished with value: 0.011294121413649938 and parameters: {'Tatoray Stripper C620 Operation_Column Temp Profile_C620 Tray 14 (Control)_oC': 177.2239690817673, 'Tatoray Stripper C620 Operation_Column Temp Profile_C620 Tray 34 (Control)_oC': 194.65532846666542, 'Tatoray Stripper C620 Operation_Specifications_Spec 2 : Distillate Rate_m3/hr': 1.0062699467742904}. Best is trial 27 with value: 0.008115255595579907.\u001b[0m\n",
            "\u001b[32m[I 2021-04-26 08:45:33,027]\u001b[0m Trial 161 finished with value: 0.024326468718734118 and parameters: {'Tatoray Stripper C620 Operation_Column Temp Profile_C620 Tray 14 (Control)_oC': 177.35649073724142, 'Tatoray Stripper C620 Operation_Column Temp Profile_C620 Tray 34 (Control)_oC': 194.62927892057365, 'Tatoray Stripper C620 Operation_Specifications_Spec 2 : Distillate Rate_m3/hr': 1.0066325847859552}. Best is trial 27 with value: 0.008115255595579907.\u001b[0m\n",
            "\u001b[32m[I 2021-04-26 08:45:33,113]\u001b[0m Trial 162 finished with value: 0.07199873492247488 and parameters: {'Tatoray Stripper C620 Operation_Column Temp Profile_C620 Tray 14 (Control)_oC': 177.24097026901651, 'Tatoray Stripper C620 Operation_Column Temp Profile_C620 Tray 34 (Control)_oC': 194.6805558890512, 'Tatoray Stripper C620 Operation_Specifications_Spec 2 : Distillate Rate_m3/hr': 1.0627190452329824}. Best is trial 27 with value: 0.008115255595579907.\u001b[0m\n",
            "\u001b[32m[I 2021-04-26 08:45:33,187]\u001b[0m Trial 163 finished with value: 0.04029798473076385 and parameters: {'Tatoray Stripper C620 Operation_Column Temp Profile_C620 Tray 14 (Control)_oC': 177.42894759943027, 'Tatoray Stripper C620 Operation_Column Temp Profile_C620 Tray 34 (Control)_oC': 194.64221056753746, 'Tatoray Stripper C620 Operation_Specifications_Spec 2 : Distillate Rate_m3/hr': 1.031797850822834}. Best is trial 27 with value: 0.008115255595579907.\u001b[0m\n",
            "\u001b[32m[I 2021-04-26 08:45:33,260]\u001b[0m Trial 164 finished with value: 0.0219487902914155 and parameters: {'Tatoray Stripper C620 Operation_Column Temp Profile_C620 Tray 14 (Control)_oC': 177.17183680989203, 'Tatoray Stripper C620 Operation_Column Temp Profile_C620 Tray 34 (Control)_oC': 194.67656086060077, 'Tatoray Stripper C620 Operation_Specifications_Spec 2 : Distillate Rate_m3/hr': 1.016325441319819}. Best is trial 27 with value: 0.008115255595579907.\u001b[0m\n",
            "\u001b[32m[I 2021-04-26 08:45:33,332]\u001b[0m Trial 165 finished with value: 0.0355550820884023 and parameters: {'Tatoray Stripper C620 Operation_Column Temp Profile_C620 Tray 14 (Control)_oC': 177.28459746846173, 'Tatoray Stripper C620 Operation_Column Temp Profile_C620 Tray 34 (Control)_oC': 194.67502560790862, 'Tatoray Stripper C620 Operation_Specifications_Spec 2 : Distillate Rate_m3/hr': 1.028601971676645}. Best is trial 27 with value: 0.008115255595579907.\u001b[0m\n",
            "\u001b[32m[I 2021-04-26 08:45:33,404]\u001b[0m Trial 166 finished with value: 0.03296192574201173 and parameters: {'Tatoray Stripper C620 Operation_Column Temp Profile_C620 Tray 14 (Control)_oC': 177.35098945667755, 'Tatoray Stripper C620 Operation_Column Temp Profile_C620 Tray 34 (Control)_oC': 194.651191785521, 'Tatoray Stripper C620 Operation_Specifications_Spec 2 : Distillate Rate_m3/hr': 0.9721314836760544}. Best is trial 27 with value: 0.008115255595579907.\u001b[0m\n",
            "\u001b[32m[I 2021-04-26 08:45:33,478]\u001b[0m Trial 167 finished with value: 0.029046466871816445 and parameters: {'Tatoray Stripper C620 Operation_Column Temp Profile_C620 Tray 14 (Control)_oC': 177.1850362601764, 'Tatoray Stripper C620 Operation_Column Temp Profile_C620 Tray 34 (Control)_oC': 194.62771719325903, 'Tatoray Stripper C620 Operation_Specifications_Spec 2 : Distillate Rate_m3/hr': 1.0068054887351088}. Best is trial 27 with value: 0.008115255595579907.\u001b[0m\n",
            "\u001b[32m[I 2021-04-26 08:45:33,556]\u001b[0m Trial 168 finished with value: 0.01612625300152626 and parameters: {'Tatoray Stripper C620 Operation_Column Temp Profile_C620 Tray 14 (Control)_oC': 177.48211490527325, 'Tatoray Stripper C620 Operation_Column Temp Profile_C620 Tray 34 (Control)_oC': 194.65479539530716, 'Tatoray Stripper C620 Operation_Specifications_Spec 2 : Distillate Rate_m3/hr': 1.0156293296189558}. Best is trial 27 with value: 0.008115255595579907.\u001b[0m\n",
            "\u001b[32m[I 2021-04-26 08:45:33,642]\u001b[0m Trial 169 finished with value: 0.016283244269189368 and parameters: {'Tatoray Stripper C620 Operation_Column Temp Profile_C620 Tray 14 (Control)_oC': 177.3251646297709, 'Tatoray Stripper C620 Operation_Column Temp Profile_C620 Tray 34 (Control)_oC': 194.66111106673944, 'Tatoray Stripper C620 Operation_Specifications_Spec 2 : Distillate Rate_m3/hr': 1.0161295580160044}. Best is trial 27 with value: 0.008115255595579907.\u001b[0m\n",
            "\u001b[32m[I 2021-04-26 08:45:33,715]\u001b[0m Trial 170 finished with value: 0.022840880305008193 and parameters: {'Tatoray Stripper C620 Operation_Column Temp Profile_C620 Tray 14 (Control)_oC': 177.39356344060567, 'Tatoray Stripper C620 Operation_Column Temp Profile_C620 Tray 34 (Control)_oC': 194.63999398374034, 'Tatoray Stripper C620 Operation_Specifications_Spec 2 : Distillate Rate_m3/hr': 1.0122990850935845}. Best is trial 27 with value: 0.008115255595579907.\u001b[0m\n",
            "\u001b[32m[I 2021-04-26 08:45:33,791]\u001b[0m Trial 171 finished with value: 0.009490723093956932 and parameters: {'Tatoray Stripper C620 Operation_Column Temp Profile_C620 Tray 14 (Control)_oC': 177.27998371931986, 'Tatoray Stripper C620 Operation_Column Temp Profile_C620 Tray 34 (Control)_oC': 194.65227153463636, 'Tatoray Stripper C620 Operation_Specifications_Spec 2 : Distillate Rate_m3/hr': 0.9962251612392563}. Best is trial 27 with value: 0.008115255595579907.\u001b[0m\n",
            "\u001b[32m[I 2021-04-26 08:45:33,867]\u001b[0m Trial 172 finished with value: 0.04872370343478982 and parameters: {'Tatoray Stripper C620 Operation_Column Temp Profile_C620 Tray 14 (Control)_oC': 177.3485153376389, 'Tatoray Stripper C620 Operation_Column Temp Profile_C620 Tray 34 (Control)_oC': 194.6484166576772, 'Tatoray Stripper C620 Operation_Specifications_Spec 2 : Distillate Rate_m3/hr': 1.0423345310252627}. Best is trial 27 with value: 0.008115255595579907.\u001b[0m\n",
            "\u001b[32m[I 2021-04-26 08:45:33,959]\u001b[0m Trial 173 finished with value: 0.017397900692142865 and parameters: {'Tatoray Stripper C620 Operation_Column Temp Profile_C620 Tray 14 (Control)_oC': 177.37404010764465, 'Tatoray Stripper C620 Operation_Column Temp Profile_C620 Tray 34 (Control)_oC': 194.66700061062446, 'Tatoray Stripper C620 Operation_Specifications_Spec 2 : Distillate Rate_m3/hr': 0.9866444055951319}. Best is trial 27 with value: 0.008115255595579907.\u001b[0m\n",
            "\u001b[32m[I 2021-04-26 08:45:34,031]\u001b[0m Trial 174 finished with value: 0.03843584373394471 and parameters: {'Tatoray Stripper C620 Operation_Column Temp Profile_C620 Tray 14 (Control)_oC': 177.46230770737745, 'Tatoray Stripper C620 Operation_Column Temp Profile_C620 Tray 34 (Control)_oC': 194.669428583137, 'Tatoray Stripper C620 Operation_Specifications_Spec 2 : Distillate Rate_m3/hr': 0.9682889688177365}. Best is trial 27 with value: 0.008115255595579907.\u001b[0m\n",
            "\u001b[32m[I 2021-04-26 08:45:34,110]\u001b[0m Trial 175 finished with value: 0.008610122348439053 and parameters: {'Tatoray Stripper C620 Operation_Column Temp Profile_C620 Tray 14 (Control)_oC': 177.35177224949678, 'Tatoray Stripper C620 Operation_Column Temp Profile_C620 Tray 34 (Control)_oC': 194.66719938139553, 'Tatoray Stripper C620 Operation_Specifications_Spec 2 : Distillate Rate_m3/hr': 0.9951963269009995}. Best is trial 27 with value: 0.008115255595579907.\u001b[0m\n",
            "\u001b[32m[I 2021-04-26 08:45:34,191]\u001b[0m Trial 176 finished with value: 0.04200723134898143 and parameters: {'Tatoray Stripper C620 Operation_Column Temp Profile_C620 Tray 14 (Control)_oC': 177.28176417688408, 'Tatoray Stripper C620 Operation_Column Temp Profile_C620 Tray 34 (Control)_oC': 194.70146041540445, 'Tatoray Stripper C620 Operation_Specifications_Spec 2 : Distillate Rate_m3/hr': 0.9777228956154229}. Best is trial 27 with value: 0.008115255595579907.\u001b[0m\n",
            "\u001b[32m[I 2021-04-26 08:45:34,274]\u001b[0m Trial 177 finished with value: 0.016169876097463565 and parameters: {'Tatoray Stripper C620 Operation_Column Temp Profile_C620 Tray 14 (Control)_oC': 177.35398123075, 'Tatoray Stripper C620 Operation_Column Temp Profile_C620 Tray 34 (Control)_oC': 194.64851659065198, 'Tatoray Stripper C620 Operation_Specifications_Spec 2 : Distillate Rate_m3/hr': 1.0097893600118644}. Best is trial 27 with value: 0.008115255595579907.\u001b[0m\n",
            "\u001b[32m[I 2021-04-26 08:45:34,347]\u001b[0m Trial 178 finished with value: 0.013597659727761169 and parameters: {'Tatoray Stripper C620 Operation_Column Temp Profile_C620 Tray 14 (Control)_oC': 177.32718092763946, 'Tatoray Stripper C620 Operation_Column Temp Profile_C620 Tray 34 (Control)_oC': 194.63809774212322, 'Tatoray Stripper C620 Operation_Specifications_Spec 2 : Distillate Rate_m3/hr': 1.0006043615191054}. Best is trial 27 with value: 0.008115255595579907.\u001b[0m\n",
            "\u001b[32m[I 2021-04-26 08:45:34,434]\u001b[0m Trial 179 finished with value: 0.013405427523021984 and parameters: {'Tatoray Stripper C620 Operation_Column Temp Profile_C620 Tray 14 (Control)_oC': 177.45940874961764, 'Tatoray Stripper C620 Operation_Column Temp Profile_C620 Tray 34 (Control)_oC': 194.63348914455045, 'Tatoray Stripper C620 Operation_Specifications_Spec 2 : Distillate Rate_m3/hr': 0.9997640220429851}. Best is trial 27 with value: 0.008115255595579907.\u001b[0m\n",
            "\u001b[32m[I 2021-04-26 08:45:34,511]\u001b[0m Trial 180 finished with value: 0.020678537888677462 and parameters: {'Tatoray Stripper C620 Operation_Column Temp Profile_C620 Tray 14 (Control)_oC': 177.28796031437642, 'Tatoray Stripper C620 Operation_Column Temp Profile_C620 Tray 34 (Control)_oC': 194.6978723077835, 'Tatoray Stripper C620 Operation_Specifications_Spec 2 : Distillate Rate_m3/hr': 0.9975983418844908}. Best is trial 27 with value: 0.008115255595579907.\u001b[0m\n",
            "\u001b[32m[I 2021-04-26 08:45:34,596]\u001b[0m Trial 181 finished with value: 0.026829352828946273 and parameters: {'Tatoray Stripper C620 Operation_Column Temp Profile_C620 Tray 14 (Control)_oC': 177.34974561607916, 'Tatoray Stripper C620 Operation_Column Temp Profile_C620 Tray 34 (Control)_oC': 194.65428668480533, 'Tatoray Stripper C620 Operation_Specifications_Spec 2 : Distillate Rate_m3/hr': 0.9765378659129396}. Best is trial 27 with value: 0.008115255595579907.\u001b[0m\n",
            "\u001b[32m[I 2021-04-26 08:45:34,684]\u001b[0m Trial 182 finished with value: 0.036085226221668654 and parameters: {'Tatoray Stripper C620 Operation_Column Temp Profile_C620 Tray 14 (Control)_oC': 177.2261586890426, 'Tatoray Stripper C620 Operation_Column Temp Profile_C620 Tray 34 (Control)_oC': 194.62876132063906, 'Tatoray Stripper C620 Operation_Specifications_Spec 2 : Distillate Rate_m3/hr': 1.015403824074493}. Best is trial 27 with value: 0.008115255595579907.\u001b[0m\n",
            "\u001b[32m[I 2021-04-26 08:45:34,767]\u001b[0m Trial 183 finished with value: 0.019090346254426294 and parameters: {'Tatoray Stripper C620 Operation_Column Temp Profile_C620 Tray 14 (Control)_oC': 177.44500104952908, 'Tatoray Stripper C620 Operation_Column Temp Profile_C620 Tray 34 (Control)_oC': 194.632791806877, 'Tatoray Stripper C620 Operation_Specifications_Spec 2 : Distillate Rate_m3/hr': 1.0052508670856888}. Best is trial 27 with value: 0.008115255595579907.\u001b[0m\n",
            "\u001b[32m[I 2021-04-26 08:45:34,849]\u001b[0m Trial 184 finished with value: 0.010622555642176623 and parameters: {'Tatoray Stripper C620 Operation_Column Temp Profile_C620 Tray 14 (Control)_oC': 177.29889417007806, 'Tatoray Stripper C620 Operation_Column Temp Profile_C620 Tray 34 (Control)_oC': 194.65190928435888, 'Tatoray Stripper C620 Operation_Specifications_Spec 2 : Distillate Rate_m3/hr': 1.0051033666272862}. Best is trial 27 with value: 0.008115255595579907.\u001b[0m\n",
            "\u001b[32m[I 2021-04-26 08:45:34,928]\u001b[0m Trial 185 finished with value: 0.014588411044464067 and parameters: {'Tatoray Stripper C620 Operation_Column Temp Profile_C620 Tray 14 (Control)_oC': 177.40343810490117, 'Tatoray Stripper C620 Operation_Column Temp Profile_C620 Tray 34 (Control)_oC': 194.63811733407735, 'Tatoray Stripper C620 Operation_Specifications_Spec 2 : Distillate Rate_m3/hr': 0.9969266035178848}. Best is trial 27 with value: 0.008115255595579907.\u001b[0m\n",
            "\u001b[32m[I 2021-04-26 08:45:35,018]\u001b[0m Trial 186 finished with value: 0.008373458630389519 and parameters: {'Tatoray Stripper C620 Operation_Column Temp Profile_C620 Tray 14 (Control)_oC': 177.41749068416, 'Tatoray Stripper C620 Operation_Column Temp Profile_C620 Tray 34 (Control)_oC': 194.6482573529843, 'Tatoray Stripper C620 Operation_Specifications_Spec 2 : Distillate Rate_m3/hr': 0.9970291965171308}. Best is trial 27 with value: 0.008115255595579907.\u001b[0m\n",
            "\u001b[32m[I 2021-04-26 08:45:35,096]\u001b[0m Trial 187 finished with value: 0.024860265042718765 and parameters: {'Tatoray Stripper C620 Operation_Column Temp Profile_C620 Tray 14 (Control)_oC': 177.39216170827424, 'Tatoray Stripper C620 Operation_Column Temp Profile_C620 Tray 34 (Control)_oC': 194.64369701289374, 'Tatoray Stripper C620 Operation_Specifications_Spec 2 : Distillate Rate_m3/hr': 0.983676936446912}. Best is trial 27 with value: 0.008115255595579907.\u001b[0m\n",
            "\u001b[32m[I 2021-04-26 08:45:35,180]\u001b[0m Trial 188 finished with value: 0.017881639783706937 and parameters: {'Tatoray Stripper C620 Operation_Column Temp Profile_C620 Tray 14 (Control)_oC': 177.32591506750416, 'Tatoray Stripper C620 Operation_Column Temp Profile_C620 Tray 34 (Control)_oC': 194.65728729508902, 'Tatoray Stripper C620 Operation_Specifications_Spec 2 : Distillate Rate_m3/hr': 1.0159410570235083}. Best is trial 27 with value: 0.008115255595579907.\u001b[0m\n",
            "\u001b[32m[I 2021-04-26 08:45:35,258]\u001b[0m Trial 189 finished with value: 0.01477517532036221 and parameters: {'Tatoray Stripper C620 Operation_Column Temp Profile_C620 Tray 14 (Control)_oC': 177.20422035322886, 'Tatoray Stripper C620 Operation_Column Temp Profile_C620 Tray 34 (Control)_oC': 194.66615547254855, 'Tatoray Stripper C620 Operation_Specifications_Spec 2 : Distillate Rate_m3/hr': 1.0141327130627034}. Best is trial 27 with value: 0.008115255595579907.\u001b[0m\n",
            "\u001b[32m[I 2021-04-26 08:45:35,336]\u001b[0m Trial 190 finished with value: 0.014051952617282426 and parameters: {'Tatoray Stripper C620 Operation_Column Temp Profile_C620 Tray 14 (Control)_oC': 177.34507525229, 'Tatoray Stripper C620 Operation_Column Temp Profile_C620 Tray 34 (Control)_oC': 194.65218359369334, 'Tatoray Stripper C620 Operation_Specifications_Spec 2 : Distillate Rate_m3/hr': 0.990508669816603}. Best is trial 27 with value: 0.008115255595579907.\u001b[0m\n",
            "\u001b[32m[I 2021-04-26 08:45:35,423]\u001b[0m Trial 191 finished with value: 0.01625075318469471 and parameters: {'Tatoray Stripper C620 Operation_Column Temp Profile_C620 Tray 14 (Control)_oC': 177.36979382194727, 'Tatoray Stripper C620 Operation_Column Temp Profile_C620 Tray 34 (Control)_oC': 194.64754702162503, 'Tatoray Stripper C620 Operation_Specifications_Spec 2 : Distillate Rate_m3/hr': 0.9904726922473637}. Best is trial 27 with value: 0.008115255595579907.\u001b[0m\n",
            "\u001b[32m[I 2021-04-26 08:45:35,506]\u001b[0m Trial 192 finished with value: 0.02651194010751512 and parameters: {'Tatoray Stripper C620 Operation_Column Temp Profile_C620 Tray 14 (Control)_oC': 177.41213031963275, 'Tatoray Stripper C620 Operation_Column Temp Profile_C620 Tray 34 (Control)_oC': 194.62632659728766, 'Tatoray Stripper C620 Operation_Specifications_Spec 2 : Distillate Rate_m3/hr': 1.008130302238332}. Best is trial 27 with value: 0.008115255595579907.\u001b[0m\n",
            "\u001b[32m[I 2021-04-26 08:45:35,689]\u001b[0m Trial 193 finished with value: 0.008118201049555518 and parameters: {'Tatoray Stripper C620 Operation_Column Temp Profile_C620 Tray 14 (Control)_oC': 177.31121706205786, 'Tatoray Stripper C620 Operation_Column Temp Profile_C620 Tray 34 (Control)_oC': 194.67493109549486, 'Tatoray Stripper C620 Operation_Specifications_Spec 2 : Distillate Rate_m3/hr': 1.0009160322363615}. Best is trial 27 with value: 0.008115255595579907.\u001b[0m\n",
            "\u001b[32m[I 2021-04-26 08:45:35,772]\u001b[0m Trial 194 finished with value: 0.01262801153665949 and parameters: {'Tatoray Stripper C620 Operation_Column Temp Profile_C620 Tray 14 (Control)_oC': 177.43154811046233, 'Tatoray Stripper C620 Operation_Column Temp Profile_C620 Tray 34 (Control)_oC': 194.6675295677515, 'Tatoray Stripper C620 Operation_Specifications_Spec 2 : Distillate Rate_m3/hr': 1.0071832125634868}. Best is trial 27 with value: 0.008115255595579907.\u001b[0m\n",
            "\u001b[32m[I 2021-04-26 08:45:35,854]\u001b[0m Trial 195 finished with value: 0.005155645462167735 and parameters: {'Tatoray Stripper C620 Operation_Column Temp Profile_C620 Tray 14 (Control)_oC': 177.31311119871546, 'Tatoray Stripper C620 Operation_Column Temp Profile_C620 Tray 34 (Control)_oC': 194.66787529535205, 'Tatoray Stripper C620 Operation_Specifications_Spec 2 : Distillate Rate_m3/hr': 1.0016379611968775}. Best is trial 195 with value: 0.005155645462167735.\u001b[0m\n",
            "\u001b[32m[I 2021-04-26 08:45:35,937]\u001b[0m Trial 196 finished with value: 0.00920085412144811 and parameters: {'Tatoray Stripper C620 Operation_Column Temp Profile_C620 Tray 14 (Control)_oC': 177.44785304581393, 'Tatoray Stripper C620 Operation_Column Temp Profile_C620 Tray 34 (Control)_oC': 194.66814690589547, 'Tatoray Stripper C620 Operation_Specifications_Spec 2 : Distillate Rate_m3/hr': 0.9967868094205672}. Best is trial 195 with value: 0.005155645462167735.\u001b[0m\n",
            "\u001b[32m[I 2021-04-26 08:45:36,024]\u001b[0m Trial 197 finished with value: 0.005021364352948643 and parameters: {'Tatoray Stripper C620 Operation_Column Temp Profile_C620 Tray 14 (Control)_oC': 177.35802526021996, 'Tatoray Stripper C620 Operation_Column Temp Profile_C620 Tray 34 (Control)_oC': 194.65748118946993, 'Tatoray Stripper C620 Operation_Specifications_Spec 2 : Distillate Rate_m3/hr': 1.003716236333467}. Best is trial 197 with value: 0.005021364352948643.\u001b[0m\n",
            "\u001b[32m[I 2021-04-26 08:45:36,115]\u001b[0m Trial 198 finished with value: 0.01653730264906872 and parameters: {'Tatoray Stripper C620 Operation_Column Temp Profile_C620 Tray 14 (Control)_oC': 177.29978860802882, 'Tatoray Stripper C620 Operation_Column Temp Profile_C620 Tray 34 (Control)_oC': 194.68067661087233, 'Tatoray Stripper C620 Operation_Specifications_Spec 2 : Distillate Rate_m3/hr': 1.006533615411853}. Best is trial 197 with value: 0.005021364352948643.\u001b[0m\n",
            "\u001b[32m[I 2021-04-26 08:45:36,199]\u001b[0m Trial 199 finished with value: 0.016665982438571203 and parameters: {'Tatoray Stripper C620 Operation_Column Temp Profile_C620 Tray 14 (Control)_oC': 177.37206161189326, 'Tatoray Stripper C620 Operation_Column Temp Profile_C620 Tray 34 (Control)_oC': 194.6838255122716, 'Tatoray Stripper C620 Operation_Specifications_Spec 2 : Distillate Rate_m3/hr': 0.9960917041925333}. Best is trial 197 with value: 0.005021364352948643.\u001b[0m\n",
            "\u001b[32m[I 2021-04-26 08:45:36,284]\u001b[0m Trial 200 finished with value: 0.0076148436699867705 and parameters: {'Tatoray Stripper C620 Operation_Column Temp Profile_C620 Tray 14 (Control)_oC': 177.27656090376388, 'Tatoray Stripper C620 Operation_Column Temp Profile_C620 Tray 34 (Control)_oC': 194.66127811899622, 'Tatoray Stripper C620 Operation_Specifications_Spec 2 : Distillate Rate_m3/hr': 1.0069122278332003}. Best is trial 197 with value: 0.005021364352948643.\u001b[0m\n",
            "\u001b[32m[I 2021-04-26 08:45:36,379]\u001b[0m Trial 201 finished with value: 0.017660349340173465 and parameters: {'Tatoray Stripper C620 Operation_Column Temp Profile_C620 Tray 14 (Control)_oC': 177.43023532097303, 'Tatoray Stripper C620 Operation_Column Temp Profile_C620 Tray 34 (Control)_oC': 194.6915820482368, 'Tatoray Stripper C620 Operation_Specifications_Spec 2 : Distillate Rate_m3/hr': 1.0001112303559245}. Best is trial 197 with value: 0.005021364352948643.\u001b[0m\n",
            "\u001b[32m[I 2021-04-26 08:45:36,468]\u001b[0m Trial 202 finished with value: 0.02597403752419325 and parameters: {'Tatoray Stripper C620 Operation_Column Temp Profile_C620 Tray 14 (Control)_oC': 177.3344330410211, 'Tatoray Stripper C620 Operation_Column Temp Profile_C620 Tray 34 (Control)_oC': 194.648876814806, 'Tatoray Stripper C620 Operation_Specifications_Spec 2 : Distillate Rate_m3/hr': 0.9807053933435981}. Best is trial 197 with value: 0.005021364352948643.\u001b[0m\n",
            "\u001b[32m[I 2021-04-26 08:45:36,547]\u001b[0m Trial 203 finished with value: 0.0249581951769432 and parameters: {'Tatoray Stripper C620 Operation_Column Temp Profile_C620 Tray 14 (Control)_oC': 177.1512540823303, 'Tatoray Stripper C620 Operation_Column Temp Profile_C620 Tray 34 (Control)_oC': 194.70836619141843, 'Tatoray Stripper C620 Operation_Specifications_Spec 2 : Distillate Rate_m3/hr': 0.9960156925312657}. Best is trial 197 with value: 0.005021364352948643.\u001b[0m\n",
            "\u001b[32m[I 2021-04-26 08:45:36,631]\u001b[0m Trial 204 finished with value: 0.014069571272754655 and parameters: {'Tatoray Stripper C620 Operation_Column Temp Profile_C620 Tray 14 (Control)_oC': 177.39599585507116, 'Tatoray Stripper C620 Operation_Column Temp Profile_C620 Tray 34 (Control)_oC': 194.64428101806695, 'Tatoray Stripper C620 Operation_Specifications_Spec 2 : Distillate Rate_m3/hr': 0.9940169621162925}. Best is trial 197 with value: 0.005021364352948643.\u001b[0m\n",
            "\u001b[32m[I 2021-04-26 08:45:36,705]\u001b[0m Trial 205 finished with value: 0.01849208788443546 and parameters: {'Tatoray Stripper C620 Operation_Column Temp Profile_C620 Tray 14 (Control)_oC': 177.39229394250282, 'Tatoray Stripper C620 Operation_Column Temp Profile_C620 Tray 34 (Control)_oC': 194.6638684495469, 'Tatoray Stripper C620 Operation_Specifications_Spec 2 : Distillate Rate_m3/hr': 0.9841862943100961}. Best is trial 197 with value: 0.005021364352948643.\u001b[0m\n",
            "\u001b[32m[I 2021-04-26 08:45:36,794]\u001b[0m Trial 206 finished with value: 0.005324748320301165 and parameters: {'Tatoray Stripper C620 Operation_Column Temp Profile_C620 Tray 14 (Control)_oC': 177.30168844297398, 'Tatoray Stripper C620 Operation_Column Temp Profile_C620 Tray 34 (Control)_oC': 194.65880783226058, 'Tatoray Stripper C620 Operation_Specifications_Spec 2 : Distillate Rate_m3/hr': 1.003716003253483}. Best is trial 197 with value: 0.005021364352948643.\u001b[0m\n",
            "\u001b[32m[I 2021-04-26 08:45:36,879]\u001b[0m Trial 207 finished with value: 0.03885953831115918 and parameters: {'Tatoray Stripper C620 Operation_Column Temp Profile_C620 Tray 14 (Control)_oC': 177.2228599232863, 'Tatoray Stripper C620 Operation_Column Temp Profile_C620 Tray 34 (Control)_oC': 194.69339613662552, 'Tatoray Stripper C620 Operation_Specifications_Spec 2 : Distillate Rate_m3/hr': 1.023668837117968}. Best is trial 197 with value: 0.005021364352948643.\u001b[0m\n",
            "\u001b[32m[I 2021-04-26 08:45:36,967]\u001b[0m Trial 208 finished with value: 0.019277490143211784 and parameters: {'Tatoray Stripper C620 Operation_Column Temp Profile_C620 Tray 14 (Control)_oC': 177.20578345343506, 'Tatoray Stripper C620 Operation_Column Temp Profile_C620 Tray 34 (Control)_oC': 194.68531992780208, 'Tatoray Stripper C620 Operation_Specifications_Spec 2 : Distillate Rate_m3/hr': 1.0085421839942528}. Best is trial 197 with value: 0.005021364352948643.\u001b[0m\n",
            "\u001b[32m[I 2021-04-26 08:45:37,062]\u001b[0m Trial 209 finished with value: 0.028527543379987863 and parameters: {'Tatoray Stripper C620 Operation_Column Temp Profile_C620 Tray 14 (Control)_oC': 177.34513259758583, 'Tatoray Stripper C620 Operation_Column Temp Profile_C620 Tray 34 (Control)_oC': 194.69170574932605, 'Tatoray Stripper C620 Operation_Specifications_Spec 2 : Distillate Rate_m3/hr': 1.012198286672793}. Best is trial 197 with value: 0.005021364352948643.\u001b[0m\n",
            "\u001b[32m[I 2021-04-26 08:45:37,141]\u001b[0m Trial 210 finished with value: 0.012486326047552732 and parameters: {'Tatoray Stripper C620 Operation_Column Temp Profile_C620 Tray 14 (Control)_oC': 177.34784004665474, 'Tatoray Stripper C620 Operation_Column Temp Profile_C620 Tray 34 (Control)_oC': 194.65491600511172, 'Tatoray Stripper C620 Operation_Specifications_Spec 2 : Distillate Rate_m3/hr': 1.009601954686149}. Best is trial 197 with value: 0.005021364352948643.\u001b[0m\n",
            "\u001b[32m[I 2021-04-26 08:45:37,218]\u001b[0m Trial 211 finished with value: 0.00859074934003079 and parameters: {'Tatoray Stripper C620 Operation_Column Temp Profile_C620 Tray 14 (Control)_oC': 177.36296226345806, 'Tatoray Stripper C620 Operation_Column Temp Profile_C620 Tray 34 (Control)_oC': 194.65549744712365, 'Tatoray Stripper C620 Operation_Specifications_Spec 2 : Distillate Rate_m3/hr': 0.9937738639108735}. Best is trial 197 with value: 0.005021364352948643.\u001b[0m\n",
            "\u001b[32m[I 2021-04-26 08:45:37,291]\u001b[0m Trial 212 finished with value: 0.019192168895462824 and parameters: {'Tatoray Stripper C620 Operation_Column Temp Profile_C620 Tray 14 (Control)_oC': 177.33136617884023, 'Tatoray Stripper C620 Operation_Column Temp Profile_C620 Tray 34 (Control)_oC': 194.6384439853275, 'Tatoray Stripper C620 Operation_Specifications_Spec 2 : Distillate Rate_m3/hr': 1.006508548202182}. Best is trial 197 with value: 0.005021364352948643.\u001b[0m\n",
            "\u001b[32m[I 2021-04-26 08:45:37,365]\u001b[0m Trial 213 finished with value: 0.004805709022781657 and parameters: {'Tatoray Stripper C620 Operation_Column Temp Profile_C620 Tray 14 (Control)_oC': 177.45592044710907, 'Tatoray Stripper C620 Operation_Column Temp Profile_C620 Tray 34 (Control)_oC': 194.65353452499943, 'Tatoray Stripper C620 Operation_Specifications_Spec 2 : Distillate Rate_m3/hr': 0.99694815409469}. Best is trial 213 with value: 0.004805709022781657.\u001b[0m\n",
            "\u001b[32m[I 2021-04-26 08:45:37,447]\u001b[0m Trial 214 finished with value: 0.014590630439701213 and parameters: {'Tatoray Stripper C620 Operation_Column Temp Profile_C620 Tray 14 (Control)_oC': 177.29936211859246, 'Tatoray Stripper C620 Operation_Column Temp Profile_C620 Tray 34 (Control)_oC': 194.6593897780714, 'Tatoray Stripper C620 Operation_Specifications_Spec 2 : Distillate Rate_m3/hr': 1.013307008419505}. Best is trial 213 with value: 0.004805709022781657.\u001b[0m\n",
            "\u001b[32m[I 2021-04-26 08:45:37,526]\u001b[0m Trial 215 finished with value: 0.008653152481665982 and parameters: {'Tatoray Stripper C620 Operation_Column Temp Profile_C620 Tray 14 (Control)_oC': 177.331106052821, 'Tatoray Stripper C620 Operation_Column Temp Profile_C620 Tray 34 (Control)_oC': 194.6634703058361, 'Tatoray Stripper C620 Operation_Specifications_Spec 2 : Distillate Rate_m3/hr': 1.0071510355111382}. Best is trial 213 with value: 0.004805709022781657.\u001b[0m\n",
            "\u001b[32m[I 2021-04-26 08:45:37,602]\u001b[0m Trial 216 finished with value: 0.014546149804186448 and parameters: {'Tatoray Stripper C620 Operation_Column Temp Profile_C620 Tray 14 (Control)_oC': 177.32661441716778, 'Tatoray Stripper C620 Operation_Column Temp Profile_C620 Tray 34 (Control)_oC': 194.64682403852746, 'Tatoray Stripper C620 Operation_Specifications_Spec 2 : Distillate Rate_m3/hr': 0.9933971984387459}. Best is trial 213 with value: 0.004805709022781657.\u001b[0m\n",
            "\u001b[32m[I 2021-04-26 08:45:37,675]\u001b[0m Trial 217 finished with value: 0.01613652142253652 and parameters: {'Tatoray Stripper C620 Operation_Column Temp Profile_C620 Tray 14 (Control)_oC': 177.4501039013163, 'Tatoray Stripper C620 Operation_Column Temp Profile_C620 Tray 34 (Control)_oC': 194.6343284332151, 'Tatoray Stripper C620 Operation_Specifications_Spec 2 : Distillate Rate_m3/hr': 0.9967244511415619}. Best is trial 213 with value: 0.004805709022781657.\u001b[0m\n",
            "\u001b[32m[I 2021-04-26 08:45:37,748]\u001b[0m Trial 218 finished with value: 0.01752331806259888 and parameters: {'Tatoray Stripper C620 Operation_Column Temp Profile_C620 Tray 14 (Control)_oC': 177.40688113111798, 'Tatoray Stripper C620 Operation_Column Temp Profile_C620 Tray 34 (Control)_oC': 194.63318751941904, 'Tatoray Stripper C620 Operation_Specifications_Spec 2 : Distillate Rate_m3/hr': 1.0031757595708066}. Best is trial 213 with value: 0.004805709022781657.\u001b[0m\n",
            "\u001b[32m[I 2021-04-26 08:45:37,823]\u001b[0m Trial 219 finished with value: 0.004545537964183 and parameters: {'Tatoray Stripper C620 Operation_Column Temp Profile_C620 Tray 14 (Control)_oC': 177.37228355914445, 'Tatoray Stripper C620 Operation_Column Temp Profile_C620 Tray 34 (Control)_oC': 194.6625365309995, 'Tatoray Stripper C620 Operation_Specifications_Spec 2 : Distillate Rate_m3/hr': 1.0028356937513572}. Best is trial 219 with value: 0.004545537964183.\u001b[0m\n",
            "\u001b[32m[I 2021-04-26 08:45:37,908]\u001b[0m Trial 220 finished with value: 0.0113638602598225 and parameters: {'Tatoray Stripper C620 Operation_Column Temp Profile_C620 Tray 14 (Control)_oC': 177.4295885631636, 'Tatoray Stripper C620 Operation_Column Temp Profile_C620 Tray 34 (Control)_oC': 194.64891436580928, 'Tatoray Stripper C620 Operation_Specifications_Spec 2 : Distillate Rate_m3/hr': 0.9934638216090239}. Best is trial 219 with value: 0.004545537964183.\u001b[0m\n",
            "\u001b[32m[I 2021-04-26 08:45:37,988]\u001b[0m Trial 221 finished with value: 0.011285188783297206 and parameters: {'Tatoray Stripper C620 Operation_Column Temp Profile_C620 Tray 14 (Control)_oC': 177.53892024841468, 'Tatoray Stripper C620 Operation_Column Temp Profile_C620 Tray 34 (Control)_oC': 194.6639808455243, 'Tatoray Stripper C620 Operation_Specifications_Spec 2 : Distillate Rate_m3/hr': 1.005906525321741}. Best is trial 219 with value: 0.004545537964183.\u001b[0m\n",
            "\u001b[32m[I 2021-04-26 08:45:38,074]\u001b[0m Trial 222 finished with value: 0.023824254445172888 and parameters: {'Tatoray Stripper C620 Operation_Column Temp Profile_C620 Tray 14 (Control)_oC': 177.46133635252494, 'Tatoray Stripper C620 Operation_Column Temp Profile_C620 Tray 34 (Control)_oC': 194.629523789993, 'Tatoray Stripper C620 Operation_Specifications_Spec 2 : Distillate Rate_m3/hr': 0.9917057730064734}. Best is trial 219 with value: 0.004545537964183.\u001b[0m\n",
            "\u001b[32m[I 2021-04-26 08:45:38,153]\u001b[0m Trial 223 finished with value: 0.014816541372114522 and parameters: {'Tatoray Stripper C620 Operation_Column Temp Profile_C620 Tray 14 (Control)_oC': 177.46740185083826, 'Tatoray Stripper C620 Operation_Column Temp Profile_C620 Tray 34 (Control)_oC': 194.65896253552845, 'Tatoray Stripper C620 Operation_Specifications_Spec 2 : Distillate Rate_m3/hr': 0.9865473836789235}. Best is trial 219 with value: 0.004545537964183.\u001b[0m\n",
            "\u001b[32m[I 2021-04-26 08:45:38,231]\u001b[0m Trial 224 finished with value: 0.011387232199849495 and parameters: {'Tatoray Stripper C620 Operation_Column Temp Profile_C620 Tray 14 (Control)_oC': 177.43532135014124, 'Tatoray Stripper C620 Operation_Column Temp Profile_C620 Tray 34 (Control)_oC': 194.65131803716278, 'Tatoray Stripper C620 Operation_Specifications_Spec 2 : Distillate Rate_m3/hr': 0.9919940470478271}. Best is trial 219 with value: 0.004545537964183.\u001b[0m\n",
            "\u001b[32m[I 2021-04-26 08:45:38,311]\u001b[0m Trial 225 finished with value: 0.01361699402886285 and parameters: {'Tatoray Stripper C620 Operation_Column Temp Profile_C620 Tray 14 (Control)_oC': 177.42439877888881, 'Tatoray Stripper C620 Operation_Column Temp Profile_C620 Tray 34 (Control)_oC': 194.67014859909227, 'Tatoray Stripper C620 Operation_Specifications_Spec 2 : Distillate Rate_m3/hr': 0.9929990542492699}. Best is trial 219 with value: 0.004545537964183.\u001b[0m\n",
            "\u001b[32m[I 2021-04-26 08:45:38,388]\u001b[0m Trial 226 finished with value: 0.004978113643292148 and parameters: {'Tatoray Stripper C620 Operation_Column Temp Profile_C620 Tray 14 (Control)_oC': 177.45769254407557, 'Tatoray Stripper C620 Operation_Column Temp Profile_C620 Tray 34 (Control)_oC': 194.6522622583384, 'Tatoray Stripper C620 Operation_Specifications_Spec 2 : Distillate Rate_m3/hr': 0.9974493869459712}. Best is trial 219 with value: 0.004545537964183.\u001b[0m\n",
            "\u001b[32m[I 2021-04-26 08:45:38,462]\u001b[0m Trial 227 finished with value: 0.00443376998300371 and parameters: {'Tatoray Stripper C620 Operation_Column Temp Profile_C620 Tray 14 (Control)_oC': 177.30517586093794, 'Tatoray Stripper C620 Operation_Column Temp Profile_C620 Tray 34 (Control)_oC': 194.6609982379513, 'Tatoray Stripper C620 Operation_Specifications_Spec 2 : Distillate Rate_m3/hr': 1.0040911922203803}. Best is trial 227 with value: 0.00443376998300371.\u001b[0m\n",
            "\u001b[32m[I 2021-04-26 08:45:38,538]\u001b[0m Trial 228 finished with value: 0.0016135864743023198 and parameters: {'Tatoray Stripper C620 Operation_Column Temp Profile_C620 Tray 14 (Control)_oC': 177.44483522901817, 'Tatoray Stripper C620 Operation_Column Temp Profile_C620 Tray 34 (Control)_oC': 194.65647770978083, 'Tatoray Stripper C620 Operation_Specifications_Spec 2 : Distillate Rate_m3/hr': 0.9987065423656003}. Best is trial 228 with value: 0.0016135864743023198.\u001b[0m\n",
            "\u001b[32m[I 2021-04-26 08:45:38,617]\u001b[0m Trial 229 finished with value: 0.00352173873908479 and parameters: {'Tatoray Stripper C620 Operation_Column Temp Profile_C620 Tray 14 (Control)_oC': 177.52171170109744, 'Tatoray Stripper C620 Operation_Column Temp Profile_C620 Tray 34 (Control)_oC': 194.65336702416414, 'Tatoray Stripper C620 Operation_Specifications_Spec 2 : Distillate Rate_m3/hr': 0.9971673459904021}. Best is trial 228 with value: 0.0016135864743023198.\u001b[0m\n",
            "\u001b[32m[I 2021-04-26 08:45:38,704]\u001b[0m Trial 230 finished with value: 0.004379004755886595 and parameters: {'Tatoray Stripper C620 Operation_Column Temp Profile_C620 Tray 14 (Control)_oC': 177.52011070785724, 'Tatoray Stripper C620 Operation_Column Temp Profile_C620 Tray 34 (Control)_oC': 194.66152704016798, 'Tatoray Stripper C620 Operation_Specifications_Spec 2 : Distillate Rate_m3/hr': 0.9993410131778581}. Best is trial 228 with value: 0.0016135864743023198.\u001b[0m\n",
            "\u001b[32m[I 2021-04-26 08:45:38,794]\u001b[0m Trial 231 finished with value: 0.009235113458484379 and parameters: {'Tatoray Stripper C620 Operation_Column Temp Profile_C620 Tray 14 (Control)_oC': 177.44748031691532, 'Tatoray Stripper C620 Operation_Column Temp Profile_C620 Tray 34 (Control)_oC': 194.64646911695436, 'Tatoray Stripper C620 Operation_Specifications_Spec 2 : Distillate Rate_m3/hr': 0.9966335914150933}. Best is trial 228 with value: 0.0016135864743023198.\u001b[0m\n",
            "\u001b[32m[I 2021-04-26 08:45:38,879]\u001b[0m Trial 232 finished with value: 0.0051756020471736 and parameters: {'Tatoray Stripper C620 Operation_Column Temp Profile_C620 Tray 14 (Control)_oC': 177.4263698562345, 'Tatoray Stripper C620 Operation_Column Temp Profile_C620 Tray 34 (Control)_oC': 194.65333289769237, 'Tatoray Stripper C620 Operation_Specifications_Spec 2 : Distillate Rate_m3/hr': 0.9972225086462607}. Best is trial 228 with value: 0.0016135864743023198.\u001b[0m\n",
            "\u001b[32m[I 2021-04-26 08:45:38,958]\u001b[0m Trial 233 finished with value: 0.0066600331793351675 and parameters: {'Tatoray Stripper C620 Operation_Column Temp Profile_C620 Tray 14 (Control)_oC': 177.5260497594965, 'Tatoray Stripper C620 Operation_Column Temp Profile_C620 Tray 34 (Control)_oC': 194.65645884880405, 'Tatoray Stripper C620 Operation_Specifications_Spec 2 : Distillate Rate_m3/hr': 1.0055354567811803}. Best is trial 228 with value: 0.0016135864743023198.\u001b[0m\n",
            "\u001b[32m[I 2021-04-26 08:45:39,055]\u001b[0m Trial 234 finished with value: 0.015253498937120025 and parameters: {'Tatoray Stripper C620 Operation_Column Temp Profile_C620 Tray 14 (Control)_oC': 177.23160672601, 'Tatoray Stripper C620 Operation_Column Temp Profile_C620 Tray 34 (Control)_oC': 194.67232219146027, 'Tatoray Stripper C620 Operation_Specifications_Spec 2 : Distillate Rate_m3/hr': 1.0108004329566067}. Best is trial 228 with value: 0.0016135864743023198.\u001b[0m\n",
            "\u001b[32m[I 2021-04-26 08:45:39,139]\u001b[0m Trial 235 finished with value: 0.007517126381590078 and parameters: {'Tatoray Stripper C620 Operation_Column Temp Profile_C620 Tray 14 (Control)_oC': 177.4307121482551, 'Tatoray Stripper C620 Operation_Column Temp Profile_C620 Tray 34 (Control)_oC': 194.65191158391093, 'Tatoray Stripper C620 Operation_Specifications_Spec 2 : Distillate Rate_m3/hr': 1.0044464046913117}. Best is trial 228 with value: 0.0016135864743023198.\u001b[0m\n",
            "\u001b[32m[I 2021-04-26 08:45:39,220]\u001b[0m Trial 236 finished with value: 0.009873474126765647 and parameters: {'Tatoray Stripper C620 Operation_Column Temp Profile_C620 Tray 14 (Control)_oC': 177.5132275067308, 'Tatoray Stripper C620 Operation_Column Temp Profile_C620 Tray 34 (Control)_oC': 194.65396097716726, 'Tatoray Stripper C620 Operation_Specifications_Spec 2 : Distillate Rate_m3/hr': 0.9906697073449187}. Best is trial 228 with value: 0.0016135864743023198.\u001b[0m\n",
            "\u001b[32m[I 2021-04-26 08:45:39,303]\u001b[0m Trial 237 finished with value: 0.0042707018374994465 and parameters: {'Tatoray Stripper C620 Operation_Column Temp Profile_C620 Tray 14 (Control)_oC': 177.41020126371686, 'Tatoray Stripper C620 Operation_Column Temp Profile_C620 Tray 34 (Control)_oC': 194.65307386787026, 'Tatoray Stripper C620 Operation_Specifications_Spec 2 : Distillate Rate_m3/hr': 1.0014600901757984}. Best is trial 228 with value: 0.0016135864743023198.\u001b[0m\n",
            "\u001b[32m[I 2021-04-26 08:45:39,390]\u001b[0m Trial 238 finished with value: 0.01075457316788997 and parameters: {'Tatoray Stripper C620 Operation_Column Temp Profile_C620 Tray 14 (Control)_oC': 177.44005424799036, 'Tatoray Stripper C620 Operation_Column Temp Profile_C620 Tray 34 (Control)_oC': 194.64920867586486, 'Tatoray Stripper C620 Operation_Specifications_Spec 2 : Distillate Rate_m3/hr': 1.0063480907395532}. Best is trial 228 with value: 0.0016135864743023198.\u001b[0m\n",
            "\u001b[32m[I 2021-04-26 08:45:39,474]\u001b[0m Trial 239 finished with value: 0.00280494741676085 and parameters: {'Tatoray Stripper C620 Operation_Column Temp Profile_C620 Tray 14 (Control)_oC': 177.49582300653, 'Tatoray Stripper C620 Operation_Column Temp Profile_C620 Tray 34 (Control)_oC': 194.6532373749156, 'Tatoray Stripper C620 Operation_Specifications_Spec 2 : Distillate Rate_m3/hr': 0.9983979237628824}. Best is trial 228 with value: 0.0016135864743023198.\u001b[0m\n",
            "\u001b[32m[I 2021-04-26 08:45:39,563]\u001b[0m Trial 240 finished with value: 0.014109050951504942 and parameters: {'Tatoray Stripper C620 Operation_Column Temp Profile_C620 Tray 14 (Control)_oC': 177.40293666562502, 'Tatoray Stripper C620 Operation_Column Temp Profile_C620 Tray 34 (Control)_oC': 194.64435936905363, 'Tatoray Stripper C620 Operation_Specifications_Spec 2 : Distillate Rate_m3/hr': 1.0062517209314603}. Best is trial 228 with value: 0.0016135864743023198.\u001b[0m\n",
            "\u001b[32m[I 2021-04-26 08:45:39,651]\u001b[0m Trial 241 finished with value: 0.004681836648977589 and parameters: {'Tatoray Stripper C620 Operation_Column Temp Profile_C620 Tray 14 (Control)_oC': 177.25342665472056, 'Tatoray Stripper C620 Operation_Column Temp Profile_C620 Tray 34 (Control)_oC': 194.65815707747555, 'Tatoray Stripper C620 Operation_Specifications_Spec 2 : Distillate Rate_m3/hr': 1.0017886965671823}. Best is trial 228 with value: 0.0016135864743023198.\u001b[0m\n",
            "\u001b[32m[I 2021-04-26 08:45:39,736]\u001b[0m Trial 242 finished with value: 0.013347502052844407 and parameters: {'Tatoray Stripper C620 Operation_Column Temp Profile_C620 Tray 14 (Control)_oC': 177.39121321208984, 'Tatoray Stripper C620 Operation_Column Temp Profile_C620 Tray 34 (Control)_oC': 194.67256171497337, 'Tatoray Stripper C620 Operation_Specifications_Spec 2 : Distillate Rate_m3/hr': 1.0059610304513236}. Best is trial 228 with value: 0.0016135864743023198.\u001b[0m\n",
            "\u001b[32m[I 2021-04-26 08:45:39,826]\u001b[0m Trial 243 finished with value: 0.007557738046730433 and parameters: {'Tatoray Stripper C620 Operation_Column Temp Profile_C620 Tray 14 (Control)_oC': 177.3762245909063, 'Tatoray Stripper C620 Operation_Column Temp Profile_C620 Tray 34 (Control)_oC': 194.65309186290852, 'Tatoray Stripper C620 Operation_Specifications_Spec 2 : Distillate Rate_m3/hr': 1.0041517655218992}. Best is trial 228 with value: 0.0016135864743023198.\u001b[0m\n",
            "\u001b[32m[I 2021-04-26 08:45:39,908]\u001b[0m Trial 244 finished with value: 0.008002881115176663 and parameters: {'Tatoray Stripper C620 Operation_Column Temp Profile_C620 Tray 14 (Control)_oC': 177.4176332634965, 'Tatoray Stripper C620 Operation_Column Temp Profile_C620 Tray 34 (Control)_oC': 194.6553677054481, 'Tatoray Stripper C620 Operation_Specifications_Spec 2 : Distillate Rate_m3/hr': 1.0066280657522828}. Best is trial 228 with value: 0.0016135864743023198.\u001b[0m\n",
            "\u001b[32m[I 2021-04-26 08:45:39,996]\u001b[0m Trial 245 finished with value: 0.008520800395711792 and parameters: {'Tatoray Stripper C620 Operation_Column Temp Profile_C620 Tray 14 (Control)_oC': 177.4233073063982, 'Tatoray Stripper C620 Operation_Column Temp Profile_C620 Tray 34 (Control)_oC': 194.6570536910475, 'Tatoray Stripper C620 Operation_Specifications_Spec 2 : Distillate Rate_m3/hr': 1.008181732561749}. Best is trial 228 with value: 0.0016135864743023198.\u001b[0m\n",
            "\u001b[32m[I 2021-04-26 08:45:40,079]\u001b[0m Trial 246 finished with value: 0.0035247765486540183 and parameters: {'Tatoray Stripper C620 Operation_Column Temp Profile_C620 Tray 14 (Control)_oC': 177.42131500615002, 'Tatoray Stripper C620 Operation_Column Temp Profile_C620 Tray 34 (Control)_oC': 194.66312060228424, 'Tatoray Stripper C620 Operation_Specifications_Spec 2 : Distillate Rate_m3/hr': 0.999346586258857}. Best is trial 228 with value: 0.0016135864743023198.\u001b[0m\n",
            "\u001b[32m[I 2021-04-26 08:45:40,162]\u001b[0m Trial 247 finished with value: 0.014738351051818088 and parameters: {'Tatoray Stripper C620 Operation_Column Temp Profile_C620 Tray 14 (Control)_oC': 177.33765803911695, 'Tatoray Stripper C620 Operation_Column Temp Profile_C620 Tray 34 (Control)_oC': 194.64307928430676, 'Tatoray Stripper C620 Operation_Specifications_Spec 2 : Distillate Rate_m3/hr': 0.9951455449681675}. Best is trial 228 with value: 0.0016135864743023198.\u001b[0m\n",
            "\u001b[32m[I 2021-04-26 08:45:40,237]\u001b[0m Trial 248 finished with value: 0.006159358982400942 and parameters: {'Tatoray Stripper C620 Operation_Column Temp Profile_C620 Tray 14 (Control)_oC': 177.3534889813747, 'Tatoray Stripper C620 Operation_Column Temp Profile_C620 Tray 34 (Control)_oC': 194.66031383994746, 'Tatoray Stripper C620 Operation_Specifications_Spec 2 : Distillate Rate_m3/hr': 1.005980003830444}. Best is trial 228 with value: 0.0016135864743023198.\u001b[0m\n",
            "\u001b[32m[I 2021-04-26 08:45:40,310]\u001b[0m Trial 249 finished with value: 0.008995240826217388 and parameters: {'Tatoray Stripper C620 Operation_Column Temp Profile_C620 Tray 14 (Control)_oC': 177.36103240994692, 'Tatoray Stripper C620 Operation_Column Temp Profile_C620 Tray 34 (Control)_oC': 194.6527897040447, 'Tatoray Stripper C620 Operation_Specifications_Spec 2 : Distillate Rate_m3/hr': 0.9949090468045999}. Best is trial 228 with value: 0.0016135864743023198.\u001b[0m\n",
            "\u001b[32m[I 2021-04-26 08:45:40,388]\u001b[0m Trial 250 finished with value: 0.013161713496542271 and parameters: {'Tatoray Stripper C620 Operation_Column Temp Profile_C620 Tray 14 (Control)_oC': 177.51788454691675, 'Tatoray Stripper C620 Operation_Column Temp Profile_C620 Tray 34 (Control)_oC': 194.64289080630007, 'Tatoray Stripper C620 Operation_Specifications_Spec 2 : Distillate Rate_m3/hr': 0.9934747729322326}. Best is trial 228 with value: 0.0016135864743023198.\u001b[0m\n",
            "\u001b[32m[I 2021-04-26 08:45:40,473]\u001b[0m Trial 251 finished with value: 0.0046791592355339695 and parameters: {'Tatoray Stripper C620 Operation_Column Temp Profile_C620 Tray 14 (Control)_oC': 177.54299068194007, 'Tatoray Stripper C620 Operation_Column Temp Profile_C620 Tray 34 (Control)_oC': 194.65580544810686, 'Tatoray Stripper C620 Operation_Specifications_Spec 2 : Distillate Rate_m3/hr': 1.0036315317105795}. Best is trial 228 with value: 0.0016135864743023198.\u001b[0m\n",
            "\u001b[32m[I 2021-04-26 08:45:40,562]\u001b[0m Trial 252 finished with value: 0.008393060551862952 and parameters: {'Tatoray Stripper C620 Operation_Column Temp Profile_C620 Tray 14 (Control)_oC': 177.43060226073118, 'Tatoray Stripper C620 Operation_Column Temp Profile_C620 Tray 34 (Control)_oC': 194.65370601821368, 'Tatoray Stripper C620 Operation_Specifications_Spec 2 : Distillate Rate_m3/hr': 0.9937369275722618}. Best is trial 228 with value: 0.0016135864743023198.\u001b[0m\n",
            "\u001b[32m[I 2021-04-26 08:45:40,652]\u001b[0m Trial 253 finished with value: 0.0039668732133018025 and parameters: {'Tatoray Stripper C620 Operation_Column Temp Profile_C620 Tray 14 (Control)_oC': 177.47595313631655, 'Tatoray Stripper C620 Operation_Column Temp Profile_C620 Tray 34 (Control)_oC': 194.66136416146242, 'Tatoray Stripper C620 Operation_Specifications_Spec 2 : Distillate Rate_m3/hr': 1.0010792328181575}. Best is trial 228 with value: 0.0016135864743023198.\u001b[0m\n",
            "\u001b[32m[I 2021-04-26 08:45:40,734]\u001b[0m Trial 254 finished with value: 0.009339356921959974 and parameters: {'Tatoray Stripper C620 Operation_Column Temp Profile_C620 Tray 14 (Control)_oC': 177.4486934327571, 'Tatoray Stripper C620 Operation_Column Temp Profile_C620 Tray 34 (Control)_oC': 194.66617384439016, 'Tatoray Stripper C620 Operation_Specifications_Spec 2 : Distillate Rate_m3/hr': 1.0043382733695594}. Best is trial 228 with value: 0.0016135864743023198.\u001b[0m\n",
            "\u001b[32m[I 2021-04-26 08:45:40,825]\u001b[0m Trial 255 finished with value: 0.0032409045956489635 and parameters: {'Tatoray Stripper C620 Operation_Column Temp Profile_C620 Tray 14 (Control)_oC': 177.41479741333322, 'Tatoray Stripper C620 Operation_Column Temp Profile_C620 Tray 34 (Control)_oC': 194.6604787804287, 'Tatoray Stripper C620 Operation_Specifications_Spec 2 : Distillate Rate_m3/hr': 1.001895170352788}. Best is trial 228 with value: 0.0016135864743023198.\u001b[0m\n",
            "\u001b[32m[I 2021-04-26 08:45:40,912]\u001b[0m Trial 256 finished with value: 0.01128757767365074 and parameters: {'Tatoray Stripper C620 Operation_Column Temp Profile_C620 Tray 14 (Control)_oC': 177.36182223196076, 'Tatoray Stripper C620 Operation_Column Temp Profile_C620 Tray 34 (Control)_oC': 194.6684700224779, 'Tatoray Stripper C620 Operation_Specifications_Spec 2 : Distillate Rate_m3/hr': 1.006559296708}. Best is trial 228 with value: 0.0016135864743023198.\u001b[0m\n",
            "\u001b[32m[I 2021-04-26 08:45:40,987]\u001b[0m Trial 257 finished with value: 0.00677773076545396 and parameters: {'Tatoray Stripper C620 Operation_Column Temp Profile_C620 Tray 14 (Control)_oC': 177.4802790720033, 'Tatoray Stripper C620 Operation_Column Temp Profile_C620 Tray 34 (Control)_oC': 194.66229573982463, 'Tatoray Stripper C620 Operation_Specifications_Spec 2 : Distillate Rate_m3/hr': 1.0033008428559969}. Best is trial 228 with value: 0.0016135864743023198.\u001b[0m\n",
            "\u001b[32m[I 2021-04-26 08:45:41,071]\u001b[0m Trial 258 finished with value: 0.005168481736545494 and parameters: {'Tatoray Stripper C620 Operation_Column Temp Profile_C620 Tray 14 (Control)_oC': 177.45408602463377, 'Tatoray Stripper C620 Operation_Column Temp Profile_C620 Tray 34 (Control)_oC': 194.65636168111146, 'Tatoray Stripper C620 Operation_Specifications_Spec 2 : Distillate Rate_m3/hr': 0.9950722830287774}. Best is trial 228 with value: 0.0016135864743023198.\u001b[0m\n",
            "\u001b[32m[I 2021-04-26 08:45:41,152]\u001b[0m Trial 259 finished with value: 0.0032174529312881672 and parameters: {'Tatoray Stripper C620 Operation_Column Temp Profile_C620 Tray 14 (Control)_oC': 177.35710352624682, 'Tatoray Stripper C620 Operation_Column Temp Profile_C620 Tray 34 (Control)_oC': 194.65442495771603, 'Tatoray Stripper C620 Operation_Specifications_Spec 2 : Distillate Rate_m3/hr': 0.9998191103573576}. Best is trial 228 with value: 0.0016135864743023198.\u001b[0m\n",
            "\u001b[32m[I 2021-04-26 08:45:41,242]\u001b[0m Trial 260 finished with value: 0.008673001431794614 and parameters: {'Tatoray Stripper C620 Operation_Column Temp Profile_C620 Tray 14 (Control)_oC': 177.39879307952057, 'Tatoray Stripper C620 Operation_Column Temp Profile_C620 Tray 34 (Control)_oC': 194.65400558766316, 'Tatoray Stripper C620 Operation_Specifications_Spec 2 : Distillate Rate_m3/hr': 0.9938628412330606}. Best is trial 228 with value: 0.0016135864743023198.\u001b[0m\n",
            "\u001b[32m[I 2021-04-26 08:45:41,320]\u001b[0m Trial 261 finished with value: 0.0035911768046554826 and parameters: {'Tatoray Stripper C620 Operation_Column Temp Profile_C620 Tray 14 (Control)_oC': 177.34734727585658, 'Tatoray Stripper C620 Operation_Column Temp Profile_C620 Tray 34 (Control)_oC': 194.66118810404674, 'Tatoray Stripper C620 Operation_Specifications_Spec 2 : Distillate Rate_m3/hr': 1.003060784696168}. Best is trial 228 with value: 0.0016135864743023198.\u001b[0m\n",
            "\u001b[32m[I 2021-04-26 08:45:41,505]\u001b[0m Trial 262 finished with value: 0.005393323793695282 and parameters: {'Tatoray Stripper C620 Operation_Column Temp Profile_C620 Tray 14 (Control)_oC': 177.36562798513557, 'Tatoray Stripper C620 Operation_Column Temp Profile_C620 Tray 34 (Control)_oC': 194.654252079148, 'Tatoray Stripper C620 Operation_Specifications_Spec 2 : Distillate Rate_m3/hr': 0.9975904448923977}. Best is trial 228 with value: 0.0016135864743023198.\u001b[0m\n",
            "\u001b[32m[I 2021-04-26 08:45:41,590]\u001b[0m Trial 263 finished with value: 0.002005606375383495 and parameters: {'Tatoray Stripper C620 Operation_Column Temp Profile_C620 Tray 14 (Control)_oC': 177.4300734891723, 'Tatoray Stripper C620 Operation_Column Temp Profile_C620 Tray 34 (Control)_oC': 194.65668128017415, 'Tatoray Stripper C620 Operation_Specifications_Spec 2 : Distillate Rate_m3/hr': 1.001548957911573}. Best is trial 228 with value: 0.0016135864743023198.\u001b[0m\n",
            "\u001b[32m[I 2021-04-26 08:45:41,675]\u001b[0m Trial 264 finished with value: 0.0072771251400221 and parameters: {'Tatoray Stripper C620 Operation_Column Temp Profile_C620 Tray 14 (Control)_oC': 177.37598498398413, 'Tatoray Stripper C620 Operation_Column Temp Profile_C620 Tray 34 (Control)_oC': 194.6478592337251, 'Tatoray Stripper C620 Operation_Specifications_Spec 2 : Distillate Rate_m3/hr': 0.9991116509457063}. Best is trial 228 with value: 0.0016135864743023198.\u001b[0m\n",
            "\u001b[32m[I 2021-04-26 08:45:41,755]\u001b[0m Trial 265 finished with value: 0.007308772048544632 and parameters: {'Tatoray Stripper C620 Operation_Column Temp Profile_C620 Tray 14 (Control)_oC': 177.3868150264034, 'Tatoray Stripper C620 Operation_Column Temp Profile_C620 Tray 34 (Control)_oC': 194.64597985535488, 'Tatoray Stripper C620 Operation_Specifications_Spec 2 : Distillate Rate_m3/hr': 0.999948226275167}. Best is trial 228 with value: 0.0016135864743023198.\u001b[0m\n",
            "\u001b[32m[I 2021-04-26 08:45:41,833]\u001b[0m Trial 266 finished with value: 0.002662052401916082 and parameters: {'Tatoray Stripper C620 Operation_Column Temp Profile_C620 Tray 14 (Control)_oC': 177.44526277487927, 'Tatoray Stripper C620 Operation_Column Temp Profile_C620 Tray 34 (Control)_oC': 194.65465094055537, 'Tatoray Stripper C620 Operation_Specifications_Spec 2 : Distillate Rate_m3/hr': 0.9986544215888391}. Best is trial 228 with value: 0.0016135864743023198.\u001b[0m\n",
            "\u001b[32m[I 2021-04-26 08:45:41,920]\u001b[0m Trial 267 finished with value: 0.00158475685885473 and parameters: {'Tatoray Stripper C620 Operation_Column Temp Profile_C620 Tray 14 (Control)_oC': 177.41075257807705, 'Tatoray Stripper C620 Operation_Column Temp Profile_C620 Tray 34 (Control)_oC': 194.6555726157539, 'Tatoray Stripper C620 Operation_Specifications_Spec 2 : Distillate Rate_m3/hr': 1.0001655006910048}. Best is trial 267 with value: 0.00158475685885473.\u001b[0m\n",
            "\u001b[32m[I 2021-04-26 08:45:42,004]\u001b[0m Trial 268 finished with value: 0.0037938096304759306 and parameters: {'Tatoray Stripper C620 Operation_Column Temp Profile_C620 Tray 14 (Control)_oC': 177.4793636977537, 'Tatoray Stripper C620 Operation_Column Temp Profile_C620 Tray 34 (Control)_oC': 194.6598953416554, 'Tatoray Stripper C620 Operation_Specifications_Spec 2 : Distillate Rate_m3/hr': 1.0016381492626283}. Best is trial 267 with value: 0.00158475685885473.\u001b[0m\n",
            "\u001b[32m[I 2021-04-26 08:45:42,087]\u001b[0m Trial 269 finished with value: 0.0026024173014479457 and parameters: {'Tatoray Stripper C620 Operation_Column Temp Profile_C620 Tray 14 (Control)_oC': 177.4090392605037, 'Tatoray Stripper C620 Operation_Column Temp Profile_C620 Tray 34 (Control)_oC': 194.6593417181714, 'Tatoray Stripper C620 Operation_Specifications_Spec 2 : Distillate Rate_m3/hr': 0.9980000695656753}. Best is trial 267 with value: 0.00158475685885473.\u001b[0m\n",
            "\u001b[32m[I 2021-04-26 08:45:42,162]\u001b[0m Trial 270 finished with value: 0.004064369216416397 and parameters: {'Tatoray Stripper C620 Operation_Column Temp Profile_C620 Tray 14 (Control)_oC': 177.4642968017072, 'Tatoray Stripper C620 Operation_Column Temp Profile_C620 Tray 34 (Control)_oC': 194.65069794988048, 'Tatoray Stripper C620 Operation_Specifications_Spec 2 : Distillate Rate_m3/hr': 1.0009014068109618}. Best is trial 267 with value: 0.00158475685885473.\u001b[0m\n",
            "\u001b[32m[I 2021-04-26 08:45:42,256]\u001b[0m Trial 271 finished with value: 0.0014951505529569031 and parameters: {'Tatoray Stripper C620 Operation_Column Temp Profile_C620 Tray 14 (Control)_oC': 177.4319627385224, 'Tatoray Stripper C620 Operation_Column Temp Profile_C620 Tray 34 (Control)_oC': 194.65514239958696, 'Tatoray Stripper C620 Operation_Specifications_Spec 2 : Distillate Rate_m3/hr': 0.9997872547476147}. Best is trial 271 with value: 0.0014951505529569031.\u001b[0m\n",
            "\u001b[32m[I 2021-04-26 08:45:42,344]\u001b[0m Trial 272 finished with value: 0.0036689738063682142 and parameters: {'Tatoray Stripper C620 Operation_Column Temp Profile_C620 Tray 14 (Control)_oC': 177.38573835791237, 'Tatoray Stripper C620 Operation_Column Temp Profile_C620 Tray 34 (Control)_oC': 194.6540631873036, 'Tatoray Stripper C620 Operation_Specifications_Spec 2 : Distillate Rate_m3/hr': 1.0009633429136766}. Best is trial 271 with value: 0.0014951505529569031.\u001b[0m\n",
            "\u001b[32m[I 2021-04-26 08:45:42,420]\u001b[0m Trial 273 finished with value: 0.001992464125711746 and parameters: {'Tatoray Stripper C620 Operation_Column Temp Profile_C620 Tray 14 (Control)_oC': 177.41656927874095, 'Tatoray Stripper C620 Operation_Column Temp Profile_C620 Tray 34 (Control)_oC': 194.65984918987317, 'Tatoray Stripper C620 Operation_Specifications_Spec 2 : Distillate Rate_m3/hr': 0.9990259904869222}. Best is trial 271 with value: 0.0014951505529569031.\u001b[0m\n",
            "\u001b[32m[I 2021-04-26 08:45:42,499]\u001b[0m Trial 274 finished with value: 0.0026792955075514158 and parameters: {'Tatoray Stripper C620 Operation_Column Temp Profile_C620 Tray 14 (Control)_oC': 177.44632417770984, 'Tatoray Stripper C620 Operation_Column Temp Profile_C620 Tray 34 (Control)_oC': 194.65593551117925, 'Tatoray Stripper C620 Operation_Specifications_Spec 2 : Distillate Rate_m3/hr': 1.0021054139522114}. Best is trial 271 with value: 0.0014951505529569031.\u001b[0m\n",
            "\u001b[32m[I 2021-04-26 08:45:42,574]\u001b[0m Trial 275 finished with value: 0.0015559583442891212 and parameters: {'Tatoray Stripper C620 Operation_Column Temp Profile_C620 Tray 14 (Control)_oC': 177.40427918059484, 'Tatoray Stripper C620 Operation_Column Temp Profile_C620 Tray 34 (Control)_oC': 194.65576381396298, 'Tatoray Stripper C620 Operation_Specifications_Spec 2 : Distillate Rate_m3/hr': 0.9998766855149429}. Best is trial 271 with value: 0.0014951505529569031.\u001b[0m\n",
            "\u001b[32m[I 2021-04-26 08:45:42,657]\u001b[0m Trial 276 finished with value: 0.0010077677509566785 and parameters: {'Tatoray Stripper C620 Operation_Column Temp Profile_C620 Tray 14 (Control)_oC': 177.42300385103852, 'Tatoray Stripper C620 Operation_Column Temp Profile_C620 Tray 34 (Control)_oC': 194.65630045603726, 'Tatoray Stripper C620 Operation_Specifications_Spec 2 : Distillate Rate_m3/hr': 0.9997944066886849}. Best is trial 276 with value: 0.0010077677509566785.\u001b[0m\n",
            "\u001b[32m[I 2021-04-26 08:45:42,741]\u001b[0m Trial 277 finished with value: 0.0023097457516126907 and parameters: {'Tatoray Stripper C620 Operation_Column Temp Profile_C620 Tray 14 (Control)_oC': 177.43005823858675, 'Tatoray Stripper C620 Operation_Column Temp Profile_C620 Tray 34 (Control)_oC': 194.65617516437774, 'Tatoray Stripper C620 Operation_Specifications_Spec 2 : Distillate Rate_m3/hr': 0.9984403635480322}. Best is trial 276 with value: 0.0010077677509566785.\u001b[0m\n",
            "\u001b[32m[I 2021-04-26 08:45:42,817]\u001b[0m Trial 278 finished with value: 0.005110124676191097 and parameters: {'Tatoray Stripper C620 Operation_Column Temp Profile_C620 Tray 14 (Control)_oC': 177.4601896438603, 'Tatoray Stripper C620 Operation_Column Temp Profile_C620 Tray 34 (Control)_oC': 194.65693911448335, 'Tatoray Stripper C620 Operation_Specifications_Spec 2 : Distillate Rate_m3/hr': 0.9950782988182587}. Best is trial 276 with value: 0.0010077677509566785.\u001b[0m\n",
            "\u001b[32m[I 2021-04-26 08:45:42,893]\u001b[0m Trial 279 finished with value: 0.005706969860346467 and parameters: {'Tatoray Stripper C620 Operation_Column Temp Profile_C620 Tray 14 (Control)_oC': 177.4927266956624, 'Tatoray Stripper C620 Operation_Column Temp Profile_C620 Tray 34 (Control)_oC': 194.6602553222389, 'Tatoray Stripper C620 Operation_Specifications_Spec 2 : Distillate Rate_m3/hr': 1.003114705818822}. Best is trial 276 with value: 0.0010077677509566785.\u001b[0m\n",
            "\u001b[32m[I 2021-04-26 08:45:42,976]\u001b[0m Trial 280 finished with value: 0.003971619143790628 and parameters: {'Tatoray Stripper C620 Operation_Column Temp Profile_C620 Tray 14 (Control)_oC': 177.39082372160448, 'Tatoray Stripper C620 Operation_Column Temp Profile_C620 Tray 34 (Control)_oC': 194.65213461647915, 'Tatoray Stripper C620 Operation_Specifications_Spec 2 : Distillate Rate_m3/hr': 0.9997265674934466}. Best is trial 276 with value: 0.0010077677509566785.\u001b[0m\n",
            "\u001b[32m[I 2021-04-26 08:45:43,064]\u001b[0m Trial 281 finished with value: 0.0038693940419110007 and parameters: {'Tatoray Stripper C620 Operation_Column Temp Profile_C620 Tray 14 (Control)_oC': 177.3625954045031, 'Tatoray Stripper C620 Operation_Column Temp Profile_C620 Tray 34 (Control)_oC': 194.65538270902402, 'Tatoray Stripper C620 Operation_Specifications_Spec 2 : Distillate Rate_m3/hr': 1.0014748412580134}. Best is trial 276 with value: 0.0010077677509566785.\u001b[0m\n",
            "\u001b[32m[I 2021-04-26 08:45:43,145]\u001b[0m Trial 282 finished with value: 0.0018072811926954646 and parameters: {'Tatoray Stripper C620 Operation_Column Temp Profile_C620 Tray 14 (Control)_oC': 177.40535415976353, 'Tatoray Stripper C620 Operation_Column Temp Profile_C620 Tray 34 (Control)_oC': 194.65716857174388, 'Tatoray Stripper C620 Operation_Specifications_Spec 2 : Distillate Rate_m3/hr': 0.9988364301926695}. Best is trial 276 with value: 0.0010077677509566785.\u001b[0m\n",
            "\u001b[32m[I 2021-04-26 08:45:43,219]\u001b[0m Trial 283 finished with value: 0.0017312706709724512 and parameters: {'Tatoray Stripper C620 Operation_Column Temp Profile_C620 Tray 14 (Control)_oC': 177.38978029977238, 'Tatoray Stripper C620 Operation_Column Temp Profile_C620 Tray 34 (Control)_oC': 194.65764096113847, 'Tatoray Stripper C620 Operation_Specifications_Spec 2 : Distillate Rate_m3/hr': 1.0010803041623142}. Best is trial 276 with value: 0.0010077677509566785.\u001b[0m\n",
            "\u001b[32m[I 2021-04-26 08:45:43,300]\u001b[0m Trial 284 finished with value: 0.00335165377231883 and parameters: {'Tatoray Stripper C620 Operation_Column Temp Profile_C620 Tray 14 (Control)_oC': 177.42602458562936, 'Tatoray Stripper C620 Operation_Column Temp Profile_C620 Tray 34 (Control)_oC': 194.65493735476346, 'Tatoray Stripper C620 Operation_Specifications_Spec 2 : Distillate Rate_m3/hr': 1.0018647459712668}. Best is trial 276 with value: 0.0010077677509566785.\u001b[0m\n",
            "\u001b[32m[I 2021-04-26 08:45:43,380]\u001b[0m Trial 285 finished with value: 0.003106445483096909 and parameters: {'Tatoray Stripper C620 Operation_Column Temp Profile_C620 Tray 14 (Control)_oC': 177.3674712661605, 'Tatoray Stripper C620 Operation_Column Temp Profile_C620 Tray 34 (Control)_oC': 194.65413777980305, 'Tatoray Stripper C620 Operation_Specifications_Spec 2 : Distillate Rate_m3/hr': 1.000102476738674}. Best is trial 276 with value: 0.0010077677509566785.\u001b[0m\n",
            "\u001b[32m[I 2021-04-26 08:45:43,453]\u001b[0m Trial 286 finished with value: 0.0017530393354101559 and parameters: {'Tatoray Stripper C620 Operation_Column Temp Profile_C620 Tray 14 (Control)_oC': 177.4039759194475, 'Tatoray Stripper C620 Operation_Column Temp Profile_C620 Tray 34 (Control)_oC': 194.65658720760464, 'Tatoray Stripper C620 Operation_Specifications_Spec 2 : Distillate Rate_m3/hr': 0.9992334137604237}. Best is trial 276 with value: 0.0010077677509566785.\u001b[0m\n",
            "\u001b[32m[I 2021-04-26 08:45:43,532]\u001b[0m Trial 287 finished with value: 0.0036182547832862566 and parameters: {'Tatoray Stripper C620 Operation_Column Temp Profile_C620 Tray 14 (Control)_oC': 177.40253805905274, 'Tatoray Stripper C620 Operation_Column Temp Profile_C620 Tray 34 (Control)_oC': 194.65524307793143, 'Tatoray Stripper C620 Operation_Specifications_Spec 2 : Distillate Rate_m3/hr': 0.9981410471756124}. Best is trial 276 with value: 0.0010077677509566785.\u001b[0m\n",
            "\u001b[32m[I 2021-04-26 08:45:43,622]\u001b[0m Trial 288 finished with value: 0.0011560440074425138 and parameters: {'Tatoray Stripper C620 Operation_Column Temp Profile_C620 Tray 14 (Control)_oC': 177.4200391913979, 'Tatoray Stripper C620 Operation_Column Temp Profile_C620 Tray 34 (Control)_oC': 194.65666772787404, 'Tatoray Stripper C620 Operation_Specifications_Spec 2 : Distillate Rate_m3/hr': 1.0005097123879074}. Best is trial 276 with value: 0.0010077677509566785.\u001b[0m\n",
            "\u001b[32m[I 2021-04-26 08:45:43,704]\u001b[0m Trial 289 finished with value: 0.0014635842447074943 and parameters: {'Tatoray Stripper C620 Operation_Column Temp Profile_C620 Tray 14 (Control)_oC': 177.4172811281123, 'Tatoray Stripper C620 Operation_Column Temp Profile_C620 Tray 34 (Control)_oC': 194.6573494885237, 'Tatoray Stripper C620 Operation_Specifications_Spec 2 : Distillate Rate_m3/hr': 1.0011424514237501}. Best is trial 276 with value: 0.0010077677509566785.\u001b[0m\n",
            "\u001b[32m[I 2021-04-26 08:45:43,788]\u001b[0m Trial 290 finished with value: 0.0016746400646199255 and parameters: {'Tatoray Stripper C620 Operation_Column Temp Profile_C620 Tray 14 (Control)_oC': 177.37019005568763, 'Tatoray Stripper C620 Operation_Column Temp Profile_C620 Tray 34 (Control)_oC': 194.65765952983256, 'Tatoray Stripper C620 Operation_Specifications_Spec 2 : Distillate Rate_m3/hr': 0.9993328829673529}. Best is trial 276 with value: 0.0010077677509566785.\u001b[0m\n",
            "\u001b[32m[I 2021-04-26 08:45:43,879]\u001b[0m Trial 291 finished with value: 0.0009798116959092162 and parameters: {'Tatoray Stripper C620 Operation_Column Temp Profile_C620 Tray 14 (Control)_oC': 177.39153144516848, 'Tatoray Stripper C620 Operation_Column Temp Profile_C620 Tray 34 (Control)_oC': 194.6570069819854, 'Tatoray Stripper C620 Operation_Specifications_Spec 2 : Distillate Rate_m3/hr': 1.000003132252782}. Best is trial 291 with value: 0.0009798116959092162.\u001b[0m\n",
            "\u001b[32m[I 2021-04-26 08:45:43,959]\u001b[0m Trial 292 finished with value: 0.003061898281854436 and parameters: {'Tatoray Stripper C620 Operation_Column Temp Profile_C620 Tray 14 (Control)_oC': 177.3870029002176, 'Tatoray Stripper C620 Operation_Column Temp Profile_C620 Tray 34 (Control)_oC': 194.65672559174018, 'Tatoray Stripper C620 Operation_Specifications_Spec 2 : Distillate Rate_m3/hr': 1.0018563641257123}. Best is trial 291 with value: 0.0009798116959092162.\u001b[0m\n",
            "\u001b[32m[I 2021-04-26 08:45:44,048]\u001b[0m Trial 293 finished with value: 0.0007457063156577348 and parameters: {'Tatoray Stripper C620 Operation_Column Temp Profile_C620 Tray 14 (Control)_oC': 177.4165115942972, 'Tatoray Stripper C620 Operation_Column Temp Profile_C620 Tray 34 (Control)_oC': 194.65769024785453, 'Tatoray Stripper C620 Operation_Specifications_Spec 2 : Distillate Rate_m3/hr': 1.0005982913260736}. Best is trial 293 with value: 0.0007457063156577348.\u001b[0m\n",
            "\u001b[32m[I 2021-04-26 08:45:44,132]\u001b[0m Trial 294 finished with value: 0.0020752751143526815 and parameters: {'Tatoray Stripper C620 Operation_Column Temp Profile_C620 Tray 14 (Control)_oC': 177.38149366506414, 'Tatoray Stripper C620 Operation_Column Temp Profile_C620 Tray 34 (Control)_oC': 194.65850395313365, 'Tatoray Stripper C620 Operation_Specifications_Spec 2 : Distillate Rate_m3/hr': 1.0017479018150675}. Best is trial 293 with value: 0.0007457063156577348.\u001b[0m\n",
            "\u001b[32m[I 2021-04-26 08:45:44,212]\u001b[0m Trial 295 finished with value: 0.0016113643091686392 and parameters: {'Tatoray Stripper C620 Operation_Column Temp Profile_C620 Tray 14 (Control)_oC': 177.40803972383344, 'Tatoray Stripper C620 Operation_Column Temp Profile_C620 Tray 34 (Control)_oC': 194.65664626859012, 'Tatoray Stripper C620 Operation_Specifications_Spec 2 : Distillate Rate_m3/hr': 0.9992702042406463}. Best is trial 293 with value: 0.0007457063156577348.\u001b[0m\n",
            "\u001b[32m[I 2021-04-26 08:45:44,304]\u001b[0m Trial 296 finished with value: 0.0031945668049455644 and parameters: {'Tatoray Stripper C620 Operation_Column Temp Profile_C620 Tray 14 (Control)_oC': 177.41942357791336, 'Tatoray Stripper C620 Operation_Column Temp Profile_C620 Tray 34 (Control)_oC': 194.65985192641887, 'Tatoray Stripper C620 Operation_Specifications_Spec 2 : Distillate Rate_m3/hr': 1.0021043381598769}. Best is trial 293 with value: 0.0007457063156577348.\u001b[0m\n",
            "\u001b[32m[I 2021-04-26 08:45:44,390]\u001b[0m Trial 297 finished with value: 0.0011385867185373932 and parameters: {'Tatoray Stripper C620 Operation_Column Temp Profile_C620 Tray 14 (Control)_oC': 177.42970376818954, 'Tatoray Stripper C620 Operation_Column Temp Profile_C620 Tray 34 (Control)_oC': 194.65885430617305, 'Tatoray Stripper C620 Operation_Specifications_Spec 2 : Distillate Rate_m3/hr': 1.0004191030974403}. Best is trial 293 with value: 0.0007457063156577348.\u001b[0m\n",
            "\u001b[32m[I 2021-04-26 08:45:44,476]\u001b[0m Trial 298 finished with value: 0.001699552409678784 and parameters: {'Tatoray Stripper C620 Operation_Column Temp Profile_C620 Tray 14 (Control)_oC': 177.38530644871142, 'Tatoray Stripper C620 Operation_Column Temp Profile_C620 Tray 34 (Control)_oC': 194.65858477614898, 'Tatoray Stripper C620 Operation_Specifications_Spec 2 : Distillate Rate_m3/hr': 1.001487377684302}. Best is trial 293 with value: 0.0007457063156577348.\u001b[0m\n",
            "\u001b[32m[I 2021-04-26 08:45:44,567]\u001b[0m Trial 299 finished with value: 0.0008984517956007743 and parameters: {'Tatoray Stripper C620 Operation_Column Temp Profile_C620 Tray 14 (Control)_oC': 177.4282443487108, 'Tatoray Stripper C620 Operation_Column Temp Profile_C620 Tray 34 (Control)_oC': 194.6561530767225, 'Tatoray Stripper C620 Operation_Specifications_Spec 2 : Distillate Rate_m3/hr': 0.9998868558111327}. Best is trial 293 with value: 0.0007457063156577348.\u001b[0m\n",
            "\u001b[32m[I 2021-04-26 08:45:44,653]\u001b[0m A new study created in memory with name: no-name-dc8bb661-3a60-47c7-a0c1-bad306bca75c\u001b[0m\n",
            "\u001b[32m[I 2021-04-26 08:45:44,737]\u001b[0m Trial 0 finished with value: 147.20367721807185 and parameters: {'Benzene Column C660 Operation_Column Temp Profile_C660 Tray 6 (SD & Control)_oC': 86.44383725730108, 'Benzene Column C660 Operation_Column Temp Profile_C660 Tray 23 (Control)_oC': 89.4793694235049, 'Simulation Case Conditions_Spec 2 : NA in Benzene_ppmw': 844.157770505333}. Best is trial 0 with value: 147.20367721807185.\u001b[0m\n",
            "\u001b[32m[I 2021-04-26 08:45:44,842]\u001b[0m Trial 1 finished with value: 89.54489433835047 and parameters: {'Benzene Column C660 Operation_Column Temp Profile_C660 Tray 6 (SD & Control)_oC': 86.33161812549812, 'Benzene Column C660 Operation_Column Temp Profile_C660 Tray 23 (Control)_oC': 88.8364507941293, 'Simulation Case Conditions_Spec 2 : NA in Benzene_ppmw': 979.9070898140726}. Best is trial 1 with value: 89.54489433835047.\u001b[0m\n",
            "\u001b[32m[I 2021-04-26 08:45:44,924]\u001b[0m Trial 2 finished with value: 39.863856230180566 and parameters: {'Benzene Column C660 Operation_Column Temp Profile_C660 Tray 6 (SD & Control)_oC': 86.43338579321036, 'Benzene Column C660 Operation_Column Temp Profile_C660 Tray 23 (Control)_oC': 89.06184121004463, 'Simulation Case Conditions_Spec 2 : NA in Benzene_ppmw': 979.7841084303435}. Best is trial 2 with value: 39.863856230180566.\u001b[0m\n",
            "\u001b[32m[I 2021-04-26 08:45:45,010]\u001b[0m Trial 3 finished with value: 15.515921086579457 and parameters: {'Benzene Column C660 Operation_Column Temp Profile_C660 Tray 6 (SD & Control)_oC': 86.47284062069768, 'Benzene Column C660 Operation_Column Temp Profile_C660 Tray 23 (Control)_oC': 88.98350558827387, 'Simulation Case Conditions_Spec 2 : NA in Benzene_ppmw': 979.6886460275704}. Best is trial 3 with value: 15.515921086579457.\u001b[0m\n",
            "\u001b[32m[I 2021-04-26 08:45:45,085]\u001b[0m Trial 4 finished with value: 132.5439493574546 and parameters: {'Benzene Column C660 Operation_Column Temp Profile_C660 Tray 6 (SD & Control)_oC': 86.68090701361672, 'Benzene Column C660 Operation_Column Temp Profile_C660 Tray 23 (Control)_oC': 89.17383075104459, 'Simulation Case Conditions_Spec 2 : NA in Benzene_ppmw': 979.9629514852455}. Best is trial 3 with value: 15.515921086579457.\u001b[0m\n",
            "\u001b[32m[I 2021-04-26 08:45:45,168]\u001b[0m Trial 5 finished with value: 24.920012990295433 and parameters: {'Benzene Column C660 Operation_Column Temp Profile_C660 Tray 6 (SD & Control)_oC': 86.47157454890603, 'Benzene Column C660 Operation_Column Temp Profile_C660 Tray 23 (Control)_oC': 89.40040623388374, 'Simulation Case Conditions_Spec 2 : NA in Benzene_ppmw': 979.706705319159}. Best is trial 3 with value: 15.515921086579457.\u001b[0m\n",
            "\u001b[32m[I 2021-04-26 08:45:45,256]\u001b[0m Trial 6 finished with value: 100.18664040574613 and parameters: {'Benzene Column C660 Operation_Column Temp Profile_C660 Tray 6 (SD & Control)_oC': 86.33559048519876, 'Benzene Column C660 Operation_Column Temp Profile_C660 Tray 23 (Control)_oC': 89.5177616629847, 'Simulation Case Conditions_Spec 2 : NA in Benzene_ppmw': 979.8762571724277}. Best is trial 3 with value: 15.515921086579457.\u001b[0m\n",
            "\u001b[32m[I 2021-04-26 08:45:45,335]\u001b[0m Trial 7 finished with value: 85.49373801971419 and parameters: {'Benzene Column C660 Operation_Column Temp Profile_C660 Tray 6 (SD & Control)_oC': 86.33003726326929, 'Benzene Column C660 Operation_Column Temp Profile_C660 Tray 23 (Control)_oC': 88.58907388207862, 'Simulation Case Conditions_Spec 2 : NA in Benzene_ppmw': 979.837504325483}. Best is trial 3 with value: 15.515921086579457.\u001b[0m\n",
            "\u001b[32m[I 2021-04-26 08:45:45,413]\u001b[0m Trial 8 finished with value: 101.21946359634676 and parameters: {'Benzene Column C660 Operation_Column Temp Profile_C660 Tray 6 (SD & Control)_oC': 86.31865473289247, 'Benzene Column C660 Operation_Column Temp Profile_C660 Tray 23 (Control)_oC': 89.17252458115635, 'Simulation Case Conditions_Spec 2 : NA in Benzene_ppmw': 978.9967942217513}. Best is trial 3 with value: 15.515921086579457.\u001b[0m\n",
            "\u001b[32m[I 2021-04-26 08:45:45,507]\u001b[0m Trial 9 finished with value: 63.60541190050134 and parameters: {'Benzene Column C660 Operation_Column Temp Profile_C660 Tray 6 (SD & Control)_oC': 86.39972306858007, 'Benzene Column C660 Operation_Column Temp Profile_C660 Tray 23 (Control)_oC': 89.25843925493334, 'Simulation Case Conditions_Spec 2 : NA in Benzene_ppmw': 979.7700027294104}. Best is trial 3 with value: 15.515921086579457.\u001b[0m\n",
            "\u001b[32m[I 2021-04-26 08:45:45,593]\u001b[0m Trial 10 finished with value: 14.515142612959496 and parameters: {'Benzene Column C660 Operation_Column Temp Profile_C660 Tray 6 (SD & Control)_oC': 86.47383240452555, 'Benzene Column C660 Operation_Column Temp Profile_C660 Tray 23 (Control)_oC': 89.05762970913803, 'Simulation Case Conditions_Spec 2 : NA in Benzene_ppmw': 979.7254413529134}. Best is trial 10 with value: 14.515142612959496.\u001b[0m\n",
            "\u001b[32m[I 2021-04-26 08:45:45,673]\u001b[0m Trial 11 finished with value: 22.535766501226156 and parameters: {'Benzene Column C660 Operation_Column Temp Profile_C660 Tray 6 (SD & Control)_oC': 86.48657580766259, 'Benzene Column C660 Operation_Column Temp Profile_C660 Tray 23 (Control)_oC': 88.92550121359471, 'Simulation Case Conditions_Spec 2 : NA in Benzene_ppmw': 979.8450207870414}. Best is trial 10 with value: 14.515142612959496.\u001b[0m\n",
            "\u001b[32m[I 2021-04-26 08:45:45,748]\u001b[0m Trial 12 finished with value: 144.41991382876714 and parameters: {'Benzene Column C660 Operation_Column Temp Profile_C660 Tray 6 (SD & Control)_oC': 86.68461515419018, 'Benzene Column C660 Operation_Column Temp Profile_C660 Tray 23 (Control)_oC': 88.88088779201233, 'Simulation Case Conditions_Spec 2 : NA in Benzene_ppmw': 979.9323727975546}. Best is trial 10 with value: 14.515142612959496.\u001b[0m\n",
            "\u001b[32m[I 2021-04-26 08:45:45,836]\u001b[0m Trial 13 finished with value: 292.9408964329341 and parameters: {'Benzene Column C660 Operation_Column Temp Profile_C660 Tray 6 (SD & Control)_oC': 86.91691717007387, 'Benzene Column C660 Operation_Column Temp Profile_C660 Tray 23 (Control)_oC': 88.8937357788231, 'Simulation Case Conditions_Spec 2 : NA in Benzene_ppmw': 979.7905900800571}. Best is trial 10 with value: 14.515142612959496.\u001b[0m\n",
            "\u001b[32m[I 2021-04-26 08:45:45,925]\u001b[0m Trial 14 finished with value: 52.96980701356061 and parameters: {'Benzene Column C660 Operation_Column Temp Profile_C660 Tray 6 (SD & Control)_oC': 86.42383647492362, 'Benzene Column C660 Operation_Column Temp Profile_C660 Tray 23 (Control)_oC': 89.38283993207511, 'Simulation Case Conditions_Spec 2 : NA in Benzene_ppmw': 979.5035057109329}. Best is trial 10 with value: 14.515142612959496.\u001b[0m\n",
            "\u001b[32m[I 2021-04-26 08:45:46,013]\u001b[0m Trial 15 finished with value: 16.173709493531465 and parameters: {'Benzene Column C660 Operation_Column Temp Profile_C660 Tray 6 (SD & Control)_oC': 86.48251301221407, 'Benzene Column C660 Operation_Column Temp Profile_C660 Tray 23 (Control)_oC': 89.1322007166029, 'Simulation Case Conditions_Spec 2 : NA in Benzene_ppmw': 979.6888271498699}. Best is trial 10 with value: 14.515142612959496.\u001b[0m\n",
            "\u001b[32m[I 2021-04-26 08:45:46,093]\u001b[0m Trial 16 finished with value: 42.001156079262834 and parameters: {'Benzene Column C660 Operation_Column Temp Profile_C660 Tray 6 (SD & Control)_oC': 86.43884355560542, 'Benzene Column C660 Operation_Column Temp Profile_C660 Tray 23 (Control)_oC': 89.28138770956492, 'Simulation Case Conditions_Spec 2 : NA in Benzene_ppmw': 979.9939982041279}. Best is trial 10 with value: 14.515142612959496.\u001b[0m\n",
            "\u001b[32m[I 2021-04-26 08:45:46,187]\u001b[0m Trial 17 finished with value: 27.405388397339152 and parameters: {'Benzene Column C660 Operation_Column Temp Profile_C660 Tray 6 (SD & Control)_oC': 86.5061488992239, 'Benzene Column C660 Operation_Column Temp Profile_C660 Tray 23 (Control)_oC': 89.07990264370399, 'Simulation Case Conditions_Spec 2 : NA in Benzene_ppmw': 979.9403420106726}. Best is trial 10 with value: 14.515142612959496.\u001b[0m\n",
            "\u001b[32m[I 2021-04-26 08:45:46,270]\u001b[0m Trial 18 finished with value: 92.04259694315904 and parameters: {'Benzene Column C660 Operation_Column Temp Profile_C660 Tray 6 (SD & Control)_oC': 86.32058380436777, 'Benzene Column C660 Operation_Column Temp Profile_C660 Tray 23 (Control)_oC': 88.70159572851848, 'Simulation Case Conditions_Spec 2 : NA in Benzene_ppmw': 979.5443062070674}. Best is trial 10 with value: 14.515142612959496.\u001b[0m\n",
            "\u001b[32m[I 2021-04-26 08:45:46,347]\u001b[0m Trial 19 finished with value: 95.65468733732493 and parameters: {'Benzene Column C660 Operation_Column Temp Profile_C660 Tray 6 (SD & Control)_oC': 86.3238157108149, 'Benzene Column C660 Operation_Column Temp Profile_C660 Tray 23 (Control)_oC': 88.97540629546997, 'Simulation Case Conditions_Spec 2 : NA in Benzene_ppmw': 979.633600208261}. Best is trial 10 with value: 14.515142612959496.\u001b[0m\n",
            "\u001b[32m[I 2021-04-26 08:45:46,431]\u001b[0m Trial 20 finished with value: 30.540419119591053 and parameters: {'Benzene Column C660 Operation_Column Temp Profile_C660 Tray 6 (SD & Control)_oC': 86.52544493551214, 'Benzene Column C660 Operation_Column Temp Profile_C660 Tray 23 (Control)_oC': 89.29368183967259, 'Simulation Case Conditions_Spec 2 : NA in Benzene_ppmw': 979.7052839218054}. Best is trial 10 with value: 14.515142612959496.\u001b[0m\n",
            "\u001b[32m[I 2021-04-26 08:45:46,519]\u001b[0m Trial 21 finished with value: 91.22641243521042 and parameters: {'Benzene Column C660 Operation_Column Temp Profile_C660 Tray 6 (SD & Control)_oC': 86.34200023351185, 'Benzene Column C660 Operation_Column Temp Profile_C660 Tray 23 (Control)_oC': 89.19102463369292, 'Simulation Case Conditions_Spec 2 : NA in Benzene_ppmw': 979.5117059372408}. Best is trial 10 with value: 14.515142612959496.\u001b[0m\n",
            "\u001b[32m[I 2021-04-26 08:45:46,598]\u001b[0m Trial 22 finished with value: 71.20199458696734 and parameters: {'Benzene Column C660 Operation_Column Temp Profile_C660 Tray 6 (SD & Control)_oC': 86.60160864250446, 'Benzene Column C660 Operation_Column Temp Profile_C660 Tray 23 (Control)_oC': 89.21679570167977, 'Simulation Case Conditions_Spec 2 : NA in Benzene_ppmw': 979.6264979941294}. Best is trial 10 with value: 14.515142612959496.\u001b[0m\n",
            "\u001b[32m[I 2021-04-26 08:45:46,681]\u001b[0m Trial 23 finished with value: 100.60285679220897 and parameters: {'Benzene Column C660 Operation_Column Temp Profile_C660 Tray 6 (SD & Control)_oC': 86.65192065637297, 'Benzene Column C660 Operation_Column Temp Profile_C660 Tray 23 (Control)_oC': 89.4921188256441, 'Simulation Case Conditions_Spec 2 : NA in Benzene_ppmw': 979.7117987469657}. Best is trial 10 with value: 14.515142612959496.\u001b[0m\n",
            "\u001b[32m[I 2021-04-26 08:45:46,764]\u001b[0m Trial 24 finished with value: 34.89881932607117 and parameters: {'Benzene Column C660 Operation_Column Temp Profile_C660 Tray 6 (SD & Control)_oC': 86.44276196539067, 'Benzene Column C660 Operation_Column Temp Profile_C660 Tray 23 (Control)_oC': 89.08932556960377, 'Simulation Case Conditions_Spec 2 : NA in Benzene_ppmw': 979.8441105561536}. Best is trial 10 with value: 14.515142612959496.\u001b[0m\n",
            "\u001b[32m[I 2021-04-26 08:45:46,853]\u001b[0m Trial 25 finished with value: 97.48791106641119 and parameters: {'Benzene Column C660 Operation_Column Temp Profile_C660 Tray 6 (SD & Control)_oC': 86.63566365576834, 'Benzene Column C660 Operation_Column Temp Profile_C660 Tray 23 (Control)_oC': 89.19880998427114, 'Simulation Case Conditions_Spec 2 : NA in Benzene_ppmw': 979.5882883579412}. Best is trial 10 with value: 14.515142612959496.\u001b[0m\n",
            "\u001b[32m[I 2021-04-26 08:45:46,938]\u001b[0m Trial 26 finished with value: 35.776420601148715 and parameters: {'Benzene Column C660 Operation_Column Temp Profile_C660 Tray 6 (SD & Control)_oC': 86.4411633451617, 'Benzene Column C660 Operation_Column Temp Profile_C660 Tray 23 (Control)_oC': 89.08739594782905, 'Simulation Case Conditions_Spec 2 : NA in Benzene_ppmw': 979.6502625114413}. Best is trial 10 with value: 14.515142612959496.\u001b[0m\n",
            "\u001b[32m[I 2021-04-26 08:45:47,028]\u001b[0m Trial 27 finished with value: 87.64244439853358 and parameters: {'Benzene Column C660 Operation_Column Temp Profile_C660 Tray 6 (SD & Control)_oC': 86.6225644196356, 'Benzene Column C660 Operation_Column Temp Profile_C660 Tray 23 (Control)_oC': 89.19566451528988, 'Simulation Case Conditions_Spec 2 : NA in Benzene_ppmw': 979.7442567307858}. Best is trial 10 with value: 14.515142612959496.\u001b[0m\n",
            "\u001b[32m[I 2021-04-26 08:45:47,112]\u001b[0m Trial 28 finished with value: 65.72359918630472 and parameters: {'Benzene Column C660 Operation_Column Temp Profile_C660 Tray 6 (SD & Control)_oC': 86.58027921342641, 'Benzene Column C660 Operation_Column Temp Profile_C660 Tray 23 (Control)_oC': 88.91686316881204, 'Simulation Case Conditions_Spec 2 : NA in Benzene_ppmw': 979.7760324772872}. Best is trial 10 with value: 14.515142612959496.\u001b[0m\n",
            "\u001b[32m[I 2021-04-26 08:45:47,199]\u001b[0m Trial 29 finished with value: 33.572861666454315 and parameters: {'Benzene Column C660 Operation_Column Temp Profile_C660 Tray 6 (SD & Control)_oC': 86.51937435093608, 'Benzene Column C660 Operation_Column Temp Profile_C660 Tray 23 (Control)_oC': 89.0526576740401, 'Simulation Case Conditions_Spec 2 : NA in Benzene_ppmw': 979.7457066872647}. Best is trial 10 with value: 14.515142612959496.\u001b[0m\n",
            "\u001b[32m[I 2021-04-26 08:45:47,280]\u001b[0m Trial 30 finished with value: 38.1014614355582 and parameters: {'Benzene Column C660 Operation_Column Temp Profile_C660 Tray 6 (SD & Control)_oC': 86.43835161356895, 'Benzene Column C660 Operation_Column Temp Profile_C660 Tray 23 (Control)_oC': 89.11248693282796, 'Simulation Case Conditions_Spec 2 : NA in Benzene_ppmw': 979.6816045524696}. Best is trial 10 with value: 14.515142612959496.\u001b[0m\n",
            "\u001b[32m[I 2021-04-26 08:45:47,370]\u001b[0m Trial 31 finished with value: 50.84787541621293 and parameters: {'Benzene Column C660 Operation_Column Temp Profile_C660 Tray 6 (SD & Control)_oC': 86.41622333620177, 'Benzene Column C660 Operation_Column Temp Profile_C660 Tray 23 (Control)_oC': 89.10023067015179, 'Simulation Case Conditions_Spec 2 : NA in Benzene_ppmw': 979.8486507361997}. Best is trial 10 with value: 14.515142612959496.\u001b[0m\n",
            "\u001b[32m[I 2021-04-26 08:45:47,458]\u001b[0m Trial 32 finished with value: 88.52115320044743 and parameters: {'Benzene Column C660 Operation_Column Temp Profile_C660 Tray 6 (SD & Control)_oC': 86.35353996589232, 'Benzene Column C660 Operation_Column Temp Profile_C660 Tray 23 (Control)_oC': 89.3300655273639, 'Simulation Case Conditions_Spec 2 : NA in Benzene_ppmw': 979.7720432869062}. Best is trial 10 with value: 14.515142612959496.\u001b[0m\n",
            "\u001b[32m[I 2021-04-26 08:45:47,541]\u001b[0m Trial 33 finished with value: 91.92642966987827 and parameters: {'Benzene Column C660 Operation_Column Temp Profile_C660 Tray 6 (SD & Control)_oC': 86.33841916618216, 'Benzene Column C660 Operation_Column Temp Profile_C660 Tray 23 (Control)_oC': 89.13445171833743, 'Simulation Case Conditions_Spec 2 : NA in Benzene_ppmw': 979.761241598312}. Best is trial 10 with value: 14.515142612959496.\u001b[0m\n",
            "\u001b[32m[I 2021-04-26 08:45:47,627]\u001b[0m Trial 34 finished with value: 86.64251846947514 and parameters: {'Benzene Column C660 Operation_Column Temp Profile_C660 Tray 6 (SD & Control)_oC': 86.35132852090437, 'Benzene Column C660 Operation_Column Temp Profile_C660 Tray 23 (Control)_oC': 89.17815026799369, 'Simulation Case Conditions_Spec 2 : NA in Benzene_ppmw': 979.7163409722604}. Best is trial 10 with value: 14.515142612959496.\u001b[0m\n",
            "\u001b[32m[I 2021-04-26 08:45:47,719]\u001b[0m Trial 35 finished with value: 68.7289517841136 and parameters: {'Benzene Column C660 Operation_Column Temp Profile_C660 Tray 6 (SD & Control)_oC': 86.38689783562951, 'Benzene Column C660 Operation_Column Temp Profile_C660 Tray 23 (Control)_oC': 89.17744797978051, 'Simulation Case Conditions_Spec 2 : NA in Benzene_ppmw': 979.8287770742379}. Best is trial 10 with value: 14.515142612959496.\u001b[0m\n",
            "\u001b[32m[I 2021-04-26 08:45:47,810]\u001b[0m Trial 36 finished with value: 21.229121205205992 and parameters: {'Benzene Column C660 Operation_Column Temp Profile_C660 Tray 6 (SD & Control)_oC': 86.49417274948568, 'Benzene Column C660 Operation_Column Temp Profile_C660 Tray 23 (Control)_oC': 89.1042185290468, 'Simulation Case Conditions_Spec 2 : NA in Benzene_ppmw': 979.4218337286201}. Best is trial 10 with value: 14.515142612959496.\u001b[0m\n",
            "\u001b[32m[I 2021-04-26 08:45:47,900]\u001b[0m Trial 37 finished with value: 52.40179126635191 and parameters: {'Benzene Column C660 Operation_Column Temp Profile_C660 Tray 6 (SD & Control)_oC': 86.55838404256484, 'Benzene Column C660 Operation_Column Temp Profile_C660 Tray 23 (Control)_oC': 89.0144005018741, 'Simulation Case Conditions_Spec 2 : NA in Benzene_ppmw': 979.6652864781256}. Best is trial 10 with value: 14.515142612959496.\u001b[0m\n",
            "\u001b[32m[I 2021-04-26 08:45:47,980]\u001b[0m Trial 38 finished with value: 20.229984909587454 and parameters: {'Benzene Column C660 Operation_Column Temp Profile_C660 Tray 6 (SD & Control)_oC': 86.46594628455985, 'Benzene Column C660 Operation_Column Temp Profile_C660 Tray 23 (Control)_oC': 89.08078351861884, 'Simulation Case Conditions_Spec 2 : NA in Benzene_ppmw': 979.8723634018091}. Best is trial 10 with value: 14.515142612959496.\u001b[0m\n",
            "\u001b[32m[I 2021-04-26 08:45:48,065]\u001b[0m Trial 39 finished with value: 14.506771663740887 and parameters: {'Benzene Column C660 Operation_Column Temp Profile_C660 Tray 6 (SD & Control)_oC': 86.4768297261333, 'Benzene Column C660 Operation_Column Temp Profile_C660 Tray 23 (Control)_oC': 89.12956268935652, 'Simulation Case Conditions_Spec 2 : NA in Benzene_ppmw': 979.8344250409932}. Best is trial 39 with value: 14.506771663740887.\u001b[0m\n",
            "\u001b[32m[I 2021-04-26 08:45:48,163]\u001b[0m Trial 40 finished with value: 21.225239053501788 and parameters: {'Benzene Column C660 Operation_Column Temp Profile_C660 Tray 6 (SD & Control)_oC': 86.48507293386622, 'Benzene Column C660 Operation_Column Temp Profile_C660 Tray 23 (Control)_oC': 88.95333174066063, 'Simulation Case Conditions_Spec 2 : NA in Benzene_ppmw': 979.7821099401953}. Best is trial 39 with value: 14.506771663740887.\u001b[0m\n",
            "\u001b[32m[I 2021-04-26 08:45:48,237]\u001b[0m Trial 41 finished with value: 18.116003027787585 and parameters: {'Benzene Column C660 Operation_Column Temp Profile_C660 Tray 6 (SD & Control)_oC': 86.47008765876492, 'Benzene Column C660 Operation_Column Temp Profile_C660 Tray 23 (Control)_oC': 89.10086633098321, 'Simulation Case Conditions_Spec 2 : NA in Benzene_ppmw': 979.9217843864536}. Best is trial 39 with value: 14.506771663740887.\u001b[0m\n",
            "\u001b[32m[I 2021-04-26 08:45:48,323]\u001b[0m Trial 42 finished with value: 22.012680594477548 and parameters: {'Benzene Column C660 Operation_Column Temp Profile_C660 Tray 6 (SD & Control)_oC': 86.46297289283281, 'Benzene Column C660 Operation_Column Temp Profile_C660 Tray 23 (Control)_oC': 89.07854645628203, 'Simulation Case Conditions_Spec 2 : NA in Benzene_ppmw': 979.6284175237494}. Best is trial 39 with value: 14.506771663740887.\u001b[0m\n",
            "\u001b[32m[I 2021-04-26 08:45:48,404]\u001b[0m Trial 43 finished with value: 26.144302318430384 and parameters: {'Benzene Column C660 Operation_Column Temp Profile_C660 Tray 6 (SD & Control)_oC': 86.50661566665764, 'Benzene Column C660 Operation_Column Temp Profile_C660 Tray 23 (Control)_oC': 89.14116710957151, 'Simulation Case Conditions_Spec 2 : NA in Benzene_ppmw': 979.8870227053451}. Best is trial 39 with value: 14.506771663740887.\u001b[0m\n",
            "\u001b[32m[I 2021-04-26 08:45:48,488]\u001b[0m Trial 44 finished with value: 40.802078818471955 and parameters: {'Benzene Column C660 Operation_Column Temp Profile_C660 Tray 6 (SD & Control)_oC': 86.43325934784349, 'Benzene Column C660 Operation_Column Temp Profile_C660 Tray 23 (Control)_oC': 89.09806638164179, 'Simulation Case Conditions_Spec 2 : NA in Benzene_ppmw': 979.7022081677125}. Best is trial 39 with value: 14.506771663740887.\u001b[0m\n",
            "\u001b[32m[I 2021-04-26 08:45:48,572]\u001b[0m Trial 45 finished with value: 25.994683660944645 and parameters: {'Benzene Column C660 Operation_Column Temp Profile_C660 Tray 6 (SD & Control)_oC': 86.45332385811881, 'Benzene Column C660 Operation_Column Temp Profile_C660 Tray 23 (Control)_oC': 88.99544493595151, 'Simulation Case Conditions_Spec 2 : NA in Benzene_ppmw': 979.8292695654426}. Best is trial 39 with value: 14.506771663740887.\u001b[0m\n",
            "\u001b[32m[I 2021-04-26 08:45:48,664]\u001b[0m Trial 46 finished with value: 68.13880634151283 and parameters: {'Benzene Column C660 Operation_Column Temp Profile_C660 Tray 6 (SD & Control)_oC': 86.38281535524317, 'Benzene Column C660 Operation_Column Temp Profile_C660 Tray 23 (Control)_oC': 89.04770085373713, 'Simulation Case Conditions_Spec 2 : NA in Benzene_ppmw': 979.935447039645}. Best is trial 39 with value: 14.506771663740887.\u001b[0m\n",
            "\u001b[32m[I 2021-04-26 08:45:48,754]\u001b[0m Trial 47 finished with value: 35.27020742306765 and parameters: {'Benzene Column C660 Operation_Column Temp Profile_C660 Tray 6 (SD & Control)_oC': 86.52869978669438, 'Benzene Column C660 Operation_Column Temp Profile_C660 Tray 23 (Control)_oC': 89.1667246903168, 'Simulation Case Conditions_Spec 2 : NA in Benzene_ppmw': 979.9673258219196}. Best is trial 39 with value: 14.506771663740887.\u001b[0m\n",
            "\u001b[32m[I 2021-04-26 08:45:48,833]\u001b[0m Trial 48 finished with value: 30.526782670521854 and parameters: {'Benzene Column C660 Operation_Column Temp Profile_C660 Tray 6 (SD & Control)_oC': 86.45183699081375, 'Benzene Column C660 Operation_Column Temp Profile_C660 Tray 23 (Control)_oC': 89.13702597654192, 'Simulation Case Conditions_Spec 2 : NA in Benzene_ppmw': 979.8294935515477}. Best is trial 39 with value: 14.506771663740887.\u001b[0m\n",
            "\u001b[32m[I 2021-04-26 08:45:48,919]\u001b[0m Trial 49 finished with value: 50.03135475490512 and parameters: {'Benzene Column C660 Operation_Column Temp Profile_C660 Tray 6 (SD & Control)_oC': 86.42042719795363, 'Benzene Column C660 Operation_Column Temp Profile_C660 Tray 23 (Control)_oC': 89.16685796249084, 'Simulation Case Conditions_Spec 2 : NA in Benzene_ppmw': 979.996685972519}. Best is trial 39 with value: 14.506771663740887.\u001b[0m\n",
            "\u001b[32m[I 2021-04-26 08:45:49,105]\u001b[0m Trial 50 finished with value: 21.50221788637115 and parameters: {'Benzene Column C660 Operation_Column Temp Profile_C660 Tray 6 (SD & Control)_oC': 86.49336206772608, 'Benzene Column C660 Operation_Column Temp Profile_C660 Tray 23 (Control)_oC': 89.09798459733004, 'Simulation Case Conditions_Spec 2 : NA in Benzene_ppmw': 979.8388309754052}. Best is trial 39 with value: 14.506771663740887.\u001b[0m\n",
            "\u001b[32m[I 2021-04-26 08:45:49,198]\u001b[0m Trial 51 finished with value: 18.49196100692511 and parameters: {'Benzene Column C660 Operation_Column Temp Profile_C660 Tray 6 (SD & Control)_oC': 86.47844739248656, 'Benzene Column C660 Operation_Column Temp Profile_C660 Tray 23 (Control)_oC': 88.9511347936994, 'Simulation Case Conditions_Spec 2 : NA in Benzene_ppmw': 979.7146613425341}. Best is trial 39 with value: 14.506771663740887.\u001b[0m\n",
            "\u001b[32m[I 2021-04-26 08:45:49,284]\u001b[0m Trial 52 finished with value: 22.379178093296176 and parameters: {'Benzene Column C660 Operation_Column Temp Profile_C660 Tray 6 (SD & Control)_oC': 86.49486697525836, 'Benzene Column C660 Operation_Column Temp Profile_C660 Tray 23 (Control)_oC': 89.08752746913333, 'Simulation Case Conditions_Spec 2 : NA in Benzene_ppmw': 979.8567459564761}. Best is trial 39 with value: 14.506771663740887.\u001b[0m\n",
            "\u001b[32m[I 2021-04-26 08:45:49,383]\u001b[0m Trial 53 finished with value: 30.165030372629108 and parameters: {'Benzene Column C660 Operation_Column Temp Profile_C660 Tray 6 (SD & Control)_oC': 86.50808923280597, 'Benzene Column C660 Operation_Column Temp Profile_C660 Tray 23 (Control)_oC': 88.98412739524034, 'Simulation Case Conditions_Spec 2 : NA in Benzene_ppmw': 979.6899803414981}. Best is trial 39 with value: 14.506771663740887.\u001b[0m\n",
            "\u001b[32m[I 2021-04-26 08:45:49,464]\u001b[0m Trial 54 finished with value: 44.82219149110339 and parameters: {'Benzene Column C660 Operation_Column Temp Profile_C660 Tray 6 (SD & Control)_oC': 86.42250750153342, 'Benzene Column C660 Operation_Column Temp Profile_C660 Tray 23 (Control)_oC': 89.00033422955359, 'Simulation Case Conditions_Spec 2 : NA in Benzene_ppmw': 979.7815795175039}. Best is trial 39 with value: 14.506771663740887.\u001b[0m\n",
            "\u001b[32m[I 2021-04-26 08:45:49,550]\u001b[0m Trial 55 finished with value: 42.43493957279273 and parameters: {'Benzene Column C660 Operation_Column Temp Profile_C660 Tray 6 (SD & Control)_oC': 86.54561843866303, 'Benzene Column C660 Operation_Column Temp Profile_C660 Tray 23 (Control)_oC': 89.18619350643873, 'Simulation Case Conditions_Spec 2 : NA in Benzene_ppmw': 979.9289679694043}. Best is trial 39 with value: 14.506771663740887.\u001b[0m\n",
            "\u001b[32m[I 2021-04-26 08:45:49,635]\u001b[0m Trial 56 finished with value: 19.898434147215525 and parameters: {'Benzene Column C660 Operation_Column Temp Profile_C660 Tray 6 (SD & Control)_oC': 86.48907045173029, 'Benzene Column C660 Operation_Column Temp Profile_C660 Tray 23 (Control)_oC': 89.08930391643618, 'Simulation Case Conditions_Spec 2 : NA in Benzene_ppmw': 979.8117722068628}. Best is trial 39 with value: 14.506771663740887.\u001b[0m\n",
            "\u001b[32m[I 2021-04-26 08:45:49,722]\u001b[0m Trial 57 finished with value: 29.575747017185662 and parameters: {'Benzene Column C660 Operation_Column Temp Profile_C660 Tray 6 (SD & Control)_oC': 86.45219064345171, 'Benzene Column C660 Operation_Column Temp Profile_C660 Tray 23 (Control)_oC': 89.10884457088315, 'Simulation Case Conditions_Spec 2 : NA in Benzene_ppmw': 979.743850455616}. Best is trial 39 with value: 14.506771663740887.\u001b[0m\n",
            "\u001b[32m[I 2021-04-26 08:45:49,804]\u001b[0m Trial 58 finished with value: 57.73555997372777 and parameters: {'Benzene Column C660 Operation_Column Temp Profile_C660 Tray 6 (SD & Control)_oC': 86.57044826700859, 'Benzene Column C660 Operation_Column Temp Profile_C660 Tray 23 (Control)_oC': 89.03916808235832, 'Simulation Case Conditions_Spec 2 : NA in Benzene_ppmw': 979.78779497875}. Best is trial 39 with value: 14.506771663740887.\u001b[0m\n",
            "\u001b[32m[I 2021-04-26 08:45:49,899]\u001b[0m Trial 59 finished with value: 14.855382066206266 and parameters: {'Benzene Column C660 Operation_Column Temp Profile_C660 Tray 6 (SD & Control)_oC': 86.47231598049805, 'Benzene Column C660 Operation_Column Temp Profile_C660 Tray 23 (Control)_oC': 89.00339980793434, 'Simulation Case Conditions_Spec 2 : NA in Benzene_ppmw': 979.6639555409629}. Best is trial 39 with value: 14.506771663740887.\u001b[0m\n",
            "\u001b[32m[I 2021-04-26 08:45:49,985]\u001b[0m Trial 60 finished with value: 28.449868054172256 and parameters: {'Benzene Column C660 Operation_Column Temp Profile_C660 Tray 6 (SD & Control)_oC': 86.50333796830103, 'Benzene Column C660 Operation_Column Temp Profile_C660 Tray 23 (Control)_oC': 88.97607652541294, 'Simulation Case Conditions_Spec 2 : NA in Benzene_ppmw': 979.8235935924142}. Best is trial 39 with value: 14.506771663740887.\u001b[0m\n",
            "\u001b[32m[I 2021-04-26 08:45:50,070]\u001b[0m Trial 61 finished with value: 20.227292999443577 and parameters: {'Benzene Column C660 Operation_Column Temp Profile_C660 Tray 6 (SD & Control)_oC': 86.48466164820125, 'Benzene Column C660 Operation_Column Temp Profile_C660 Tray 23 (Control)_oC': 88.98777697826557, 'Simulation Case Conditions_Spec 2 : NA in Benzene_ppmw': 979.7214244941803}. Best is trial 39 with value: 14.506771663740887.\u001b[0m\n",
            "\u001b[32m[I 2021-04-26 08:45:50,156]\u001b[0m Trial 62 finished with value: 44.34230891126935 and parameters: {'Benzene Column C660 Operation_Column Temp Profile_C660 Tray 6 (SD & Control)_oC': 86.53319577862999, 'Benzene Column C660 Operation_Column Temp Profile_C660 Tray 23 (Control)_oC': 88.86205533630117, 'Simulation Case Conditions_Spec 2 : NA in Benzene_ppmw': 979.6700585651703}. Best is trial 39 with value: 14.506771663740887.\u001b[0m\n",
            "\u001b[32m[I 2021-04-26 08:45:50,252]\u001b[0m Trial 63 finished with value: 28.469848389905163 and parameters: {'Benzene Column C660 Operation_Column Temp Profile_C660 Tray 6 (SD & Control)_oC': 86.45259805037506, 'Benzene Column C660 Operation_Column Temp Profile_C660 Tray 23 (Control)_oC': 89.07354113598073, 'Simulation Case Conditions_Spec 2 : NA in Benzene_ppmw': 979.940752315624}. Best is trial 39 with value: 14.506771663740887.\u001b[0m\n",
            "\u001b[32m[I 2021-04-26 08:45:50,334]\u001b[0m Trial 64 finished with value: 44.45186127435031 and parameters: {'Benzene Column C660 Operation_Column Temp Profile_C660 Tray 6 (SD & Control)_oC': 86.42447458108373, 'Benzene Column C660 Operation_Column Temp Profile_C660 Tray 23 (Control)_oC': 89.03310677140323, 'Simulation Case Conditions_Spec 2 : NA in Benzene_ppmw': 979.7814765623438}. Best is trial 39 with value: 14.506771663740887.\u001b[0m\n",
            "\u001b[32m[I 2021-04-26 08:45:50,422]\u001b[0m Trial 65 finished with value: 35.663812611710995 and parameters: {'Benzene Column C660 Operation_Column Temp Profile_C660 Tray 6 (SD & Control)_oC': 86.51839280537206, 'Benzene Column C660 Operation_Column Temp Profile_C660 Tray 23 (Control)_oC': 88.9366550935691, 'Simulation Case Conditions_Spec 2 : NA in Benzene_ppmw': 979.5535547615796}. Best is trial 39 with value: 14.506771663740887.\u001b[0m\n",
            "\u001b[32m[I 2021-04-26 08:45:50,502]\u001b[0m Trial 66 finished with value: 38.69521010175165 and parameters: {'Benzene Column C660 Operation_Column Temp Profile_C660 Tray 6 (SD & Control)_oC': 86.52876338328309, 'Benzene Column C660 Operation_Column Temp Profile_C660 Tray 23 (Control)_oC': 89.00768884930123, 'Simulation Case Conditions_Spec 2 : NA in Benzene_ppmw': 979.6107684258641}. Best is trial 39 with value: 14.506771663740887.\u001b[0m\n",
            "\u001b[32m[I 2021-04-26 08:45:50,586]\u001b[0m Trial 67 finished with value: 19.13642417692358 and parameters: {'Benzene Column C660 Operation_Column Temp Profile_C660 Tray 6 (SD & Control)_oC': 86.48346670099814, 'Benzene Column C660 Operation_Column Temp Profile_C660 Tray 23 (Control)_oC': 89.02368931271127, 'Simulation Case Conditions_Spec 2 : NA in Benzene_ppmw': 979.8865886051864}. Best is trial 39 with value: 14.506771663740887.\u001b[0m\n",
            "\u001b[32m[I 2021-04-26 08:45:50,676]\u001b[0m Trial 68 finished with value: 39.91964438703635 and parameters: {'Benzene Column C660 Operation_Column Temp Profile_C660 Tray 6 (SD & Control)_oC': 86.53120816121434, 'Benzene Column C660 Operation_Column Temp Profile_C660 Tray 23 (Control)_oC': 89.001964660839, 'Simulation Case Conditions_Spec 2 : NA in Benzene_ppmw': 979.5890971599708}. Best is trial 39 with value: 14.506771663740887.\u001b[0m\n",
            "\u001b[32m[I 2021-04-26 08:45:50,770]\u001b[0m Trial 69 finished with value: 33.23141498179099 and parameters: {'Benzene Column C660 Operation_Column Temp Profile_C660 Tray 6 (SD & Control)_oC': 86.51296342344543, 'Benzene Column C660 Operation_Column Temp Profile_C660 Tray 23 (Control)_oC': 88.93350706861791, 'Simulation Case Conditions_Spec 2 : NA in Benzene_ppmw': 979.4702691824098}. Best is trial 39 with value: 14.506771663740887.\u001b[0m\n",
            "\u001b[32m[I 2021-04-26 08:45:50,864]\u001b[0m Trial 70 finished with value: 34.22502138487574 and parameters: {'Benzene Column C660 Operation_Column Temp Profile_C660 Tray 6 (SD & Control)_oC': 86.51822221621016, 'Benzene Column C660 Operation_Column Temp Profile_C660 Tray 23 (Control)_oC': 89.00290560962155, 'Simulation Case Conditions_Spec 2 : NA in Benzene_ppmw': 979.7347893818306}. Best is trial 39 with value: 14.506771663740887.\u001b[0m\n",
            "\u001b[32m[I 2021-04-26 08:45:50,941]\u001b[0m Trial 71 finished with value: 21.97558288759204 and parameters: {'Benzene Column C660 Operation_Column Temp Profile_C660 Tray 6 (SD & Control)_oC': 86.4604819713992, 'Benzene Column C660 Operation_Column Temp Profile_C660 Tray 23 (Control)_oC': 89.01462027006667, 'Simulation Case Conditions_Spec 2 : NA in Benzene_ppmw': 979.8410500254166}. Best is trial 39 with value: 14.506771663740887.\u001b[0m\n",
            "\u001b[32m[I 2021-04-26 08:45:51,021]\u001b[0m Trial 72 finished with value: 17.381474612206205 and parameters: {'Benzene Column C660 Operation_Column Temp Profile_C660 Tray 6 (SD & Control)_oC': 86.47066063049824, 'Benzene Column C660 Operation_Column Temp Profile_C660 Tray 23 (Control)_oC': 88.86423236825686, 'Simulation Case Conditions_Spec 2 : NA in Benzene_ppmw': 979.8402980486524}. Best is trial 39 with value: 14.506771663740887.\u001b[0m\n",
            "\u001b[32m[I 2021-04-26 08:45:51,103]\u001b[0m Trial 73 finished with value: 26.0282755320266 and parameters: {'Benzene Column C660 Operation_Column Temp Profile_C660 Tray 6 (SD & Control)_oC': 86.4973354918653, 'Benzene Column C660 Operation_Column Temp Profile_C660 Tray 23 (Control)_oC': 88.97406265283185, 'Simulation Case Conditions_Spec 2 : NA in Benzene_ppmw': 979.9078411502645}. Best is trial 39 with value: 14.506771663740887.\u001b[0m\n",
            "\u001b[32m[I 2021-04-26 08:45:51,189]\u001b[0m Trial 74 finished with value: 17.148838391895318 and parameters: {'Benzene Column C660 Operation_Column Temp Profile_C660 Tray 6 (SD & Control)_oC': 86.47695909609602, 'Benzene Column C660 Operation_Column Temp Profile_C660 Tray 23 (Control)_oC': 88.97650999185075, 'Simulation Case Conditions_Spec 2 : NA in Benzene_ppmw': 979.5433085538907}. Best is trial 39 with value: 14.506771663740887.\u001b[0m\n",
            "\u001b[32m[I 2021-04-26 08:45:51,280]\u001b[0m Trial 75 finished with value: 19.57445144019154 and parameters: {'Benzene Column C660 Operation_Column Temp Profile_C660 Tray 6 (SD & Control)_oC': 86.48302857720806, 'Benzene Column C660 Operation_Column Temp Profile_C660 Tray 23 (Control)_oC': 88.99018926915521, 'Simulation Case Conditions_Spec 2 : NA in Benzene_ppmw': 979.7817555966074}. Best is trial 39 with value: 14.506771663740887.\u001b[0m\n",
            "\u001b[32m[I 2021-04-26 08:45:51,364]\u001b[0m Trial 76 finished with value: 43.09270053773193 and parameters: {'Benzene Column C660 Operation_Column Temp Profile_C660 Tray 6 (SD & Control)_oC': 86.53460120766293, 'Benzene Column C660 Operation_Column Temp Profile_C660 Tray 23 (Control)_oC': 88.94080957606623, 'Simulation Case Conditions_Spec 2 : NA in Benzene_ppmw': 979.6985136164225}. Best is trial 39 with value: 14.506771663740887.\u001b[0m\n",
            "\u001b[32m[I 2021-04-26 08:45:51,450]\u001b[0m Trial 77 finished with value: 18.80834183085029 and parameters: {'Benzene Column C660 Operation_Column Temp Profile_C660 Tray 6 (SD & Control)_oC': 86.46469675735058, 'Benzene Column C660 Operation_Column Temp Profile_C660 Tray 23 (Control)_oC': 88.99616808669606, 'Simulation Case Conditions_Spec 2 : NA in Benzene_ppmw': 979.8628065937045}. Best is trial 39 with value: 14.506771663740887.\u001b[0m\n",
            "\u001b[32m[I 2021-04-26 08:45:51,540]\u001b[0m Trial 78 finished with value: 25.101018052253437 and parameters: {'Benzene Column C660 Operation_Column Temp Profile_C660 Tray 6 (SD & Control)_oC': 86.45290858068758, 'Benzene Column C660 Operation_Column Temp Profile_C660 Tray 23 (Control)_oC': 88.95341075128458, 'Simulation Case Conditions_Spec 2 : NA in Benzene_ppmw': 979.489837467767}. Best is trial 39 with value: 14.506771663740887.\u001b[0m\n",
            "\u001b[32m[I 2021-04-26 08:45:51,622]\u001b[0m Trial 79 finished with value: 18.87482385889283 and parameters: {'Benzene Column C660 Operation_Column Temp Profile_C660 Tray 6 (SD & Control)_oC': 86.48078553215404, 'Benzene Column C660 Operation_Column Temp Profile_C660 Tray 23 (Control)_oC': 88.97491287298449, 'Simulation Case Conditions_Spec 2 : NA in Benzene_ppmw': 979.6735388055648}. Best is trial 39 with value: 14.506771663740887.\u001b[0m\n",
            "\u001b[32m[I 2021-04-26 08:45:51,717]\u001b[0m Trial 80 finished with value: 20.116460714439835 and parameters: {'Benzene Column C660 Operation_Column Temp Profile_C660 Tray 6 (SD & Control)_oC': 86.45991683680482, 'Benzene Column C660 Operation_Column Temp Profile_C660 Tray 23 (Control)_oC': 88.93020833105122, 'Simulation Case Conditions_Spec 2 : NA in Benzene_ppmw': 979.7663500107719}. Best is trial 39 with value: 14.506771663740887.\u001b[0m\n",
            "\u001b[32m[I 2021-04-26 08:45:51,797]\u001b[0m Trial 81 finished with value: 27.311889005616898 and parameters: {'Benzene Column C660 Operation_Column Temp Profile_C660 Tray 6 (SD & Control)_oC': 86.49882325206279, 'Benzene Column C660 Operation_Column Temp Profile_C660 Tray 23 (Control)_oC': 88.9346704420414, 'Simulation Case Conditions_Spec 2 : NA in Benzene_ppmw': 979.6897221203609}. Best is trial 39 with value: 14.506771663740887.\u001b[0m\n",
            "\u001b[32m[I 2021-04-26 08:45:51,890]\u001b[0m Trial 82 finished with value: 25.5176020223499 and parameters: {'Benzene Column C660 Operation_Column Temp Profile_C660 Tray 6 (SD & Control)_oC': 86.45413356646486, 'Benzene Column C660 Operation_Column Temp Profile_C660 Tray 23 (Control)_oC': 88.99737007795902, 'Simulation Case Conditions_Spec 2 : NA in Benzene_ppmw': 979.7444283385046}. Best is trial 39 with value: 14.506771663740887.\u001b[0m\n",
            "\u001b[32m[I 2021-04-26 08:45:51,974]\u001b[0m Trial 83 finished with value: 34.34404811840321 and parameters: {'Benzene Column C660 Operation_Column Temp Profile_C660 Tray 6 (SD & Control)_oC': 86.43807663691565, 'Benzene Column C660 Operation_Column Temp Profile_C660 Tray 23 (Control)_oC': 88.95299162886259, 'Simulation Case Conditions_Spec 2 : NA in Benzene_ppmw': 979.7872675880266}. Best is trial 39 with value: 14.506771663740887.\u001b[0m\n",
            "\u001b[32m[I 2021-04-26 08:45:52,054]\u001b[0m Trial 84 finished with value: 19.470020315363882 and parameters: {'Benzene Column C660 Operation_Column Temp Profile_C660 Tray 6 (SD & Control)_oC': 86.48460094149678, 'Benzene Column C660 Operation_Column Temp Profile_C660 Tray 23 (Control)_oC': 89.01678295688609, 'Simulation Case Conditions_Spec 2 : NA in Benzene_ppmw': 979.6371706743944}. Best is trial 39 with value: 14.506771663740887.\u001b[0m\n",
            "\u001b[32m[I 2021-04-26 08:45:52,131]\u001b[0m Trial 85 finished with value: 31.23728666353791 and parameters: {'Benzene Column C660 Operation_Column Temp Profile_C660 Tray 6 (SD & Control)_oC': 86.50815482635917, 'Benzene Column C660 Operation_Column Temp Profile_C660 Tray 23 (Control)_oC': 88.93965759631587, 'Simulation Case Conditions_Spec 2 : NA in Benzene_ppmw': 979.6980175536626}. Best is trial 39 with value: 14.506771663740887.\u001b[0m\n",
            "\u001b[32m[I 2021-04-26 08:45:52,221]\u001b[0m Trial 86 finished with value: 21.15049266805238 and parameters: {'Benzene Column C660 Operation_Column Temp Profile_C660 Tray 6 (SD & Control)_oC': 86.48559976538496, 'Benzene Column C660 Operation_Column Temp Profile_C660 Tray 23 (Control)_oC': 88.96004520930501, 'Simulation Case Conditions_Spec 2 : NA in Benzene_ppmw': 979.6549627350521}. Best is trial 39 with value: 14.506771663740887.\u001b[0m\n",
            "\u001b[32m[I 2021-04-26 08:45:52,300]\u001b[0m Trial 87 finished with value: 18.023950672035944 and parameters: {'Benzene Column C660 Operation_Column Temp Profile_C660 Tray 6 (SD & Control)_oC': 86.47594003468404, 'Benzene Column C660 Operation_Column Temp Profile_C660 Tray 23 (Control)_oC': 88.92835334947841, 'Simulation Case Conditions_Spec 2 : NA in Benzene_ppmw': 979.7588232012772}. Best is trial 39 with value: 14.506771663740887.\u001b[0m\n",
            "\u001b[32m[I 2021-04-26 08:45:52,390]\u001b[0m Trial 88 finished with value: 14.839117536730086 and parameters: {'Benzene Column C660 Operation_Column Temp Profile_C660 Tray 6 (SD & Control)_oC': 86.47297704790238, 'Benzene Column C660 Operation_Column Temp Profile_C660 Tray 23 (Control)_oC': 89.01736698829254, 'Simulation Case Conditions_Spec 2 : NA in Benzene_ppmw': 979.6823384708312}. Best is trial 39 with value: 14.506771663740887.\u001b[0m\n",
            "\u001b[32m[I 2021-04-26 08:45:52,483]\u001b[0m Trial 89 finished with value: 18.451987630221048 and parameters: {'Benzene Column C660 Operation_Column Temp Profile_C660 Tray 6 (SD & Control)_oC': 86.46284254496531, 'Benzene Column C660 Operation_Column Temp Profile_C660 Tray 23 (Control)_oC': 88.93838525396067, 'Simulation Case Conditions_Spec 2 : NA in Benzene_ppmw': 979.7369960389229}. Best is trial 39 with value: 14.506771663740887.\u001b[0m\n",
            "\u001b[32m[I 2021-04-26 08:45:52,571]\u001b[0m Trial 90 finished with value: 27.537226386785452 and parameters: {'Benzene Column C660 Operation_Column Temp Profile_C660 Tray 6 (SD & Control)_oC': 86.50172185393906, 'Benzene Column C660 Operation_Column Temp Profile_C660 Tray 23 (Control)_oC': 88.97609514547332, 'Simulation Case Conditions_Spec 2 : NA in Benzene_ppmw': 979.6315851873364}. Best is trial 39 with value: 14.506771663740887.\u001b[0m\n",
            "\u001b[32m[I 2021-04-26 08:45:52,666]\u001b[0m Trial 91 finished with value: 17.193853500816374 and parameters: {'Benzene Column C660 Operation_Column Temp Profile_C660 Tray 6 (SD & Control)_oC': 86.47529696071723, 'Benzene Column C660 Operation_Column Temp Profile_C660 Tray 23 (Control)_oC': 88.94658922505448, 'Simulation Case Conditions_Spec 2 : NA in Benzene_ppmw': 979.6015497478651}. Best is trial 39 with value: 14.506771663740887.\u001b[0m\n",
            "\u001b[32m[I 2021-04-26 08:45:52,758]\u001b[0m Trial 92 finished with value: 18.8781081757442 and parameters: {'Benzene Column C660 Operation_Column Temp Profile_C660 Tray 6 (SD & Control)_oC': 86.48311077218213, 'Benzene Column C660 Operation_Column Temp Profile_C660 Tray 23 (Control)_oC': 89.0199176307103, 'Simulation Case Conditions_Spec 2 : NA in Benzene_ppmw': 979.7117565087856}. Best is trial 39 with value: 14.506771663740887.\u001b[0m\n",
            "\u001b[32m[I 2021-04-26 08:45:52,853]\u001b[0m Trial 93 finished with value: 17.528995523545497 and parameters: {'Benzene Column C660 Operation_Column Temp Profile_C660 Tray 6 (SD & Control)_oC': 86.46736617817808, 'Benzene Column C660 Operation_Column Temp Profile_C660 Tray 23 (Control)_oC': 89.0144803533549, 'Simulation Case Conditions_Spec 2 : NA in Benzene_ppmw': 979.6295909318931}. Best is trial 39 with value: 14.506771663740887.\u001b[0m\n",
            "\u001b[32m[I 2021-04-26 08:45:52,940]\u001b[0m Trial 94 finished with value: 22.122908890646507 and parameters: {'Benzene Column C660 Operation_Column Temp Profile_C660 Tray 6 (SD & Control)_oC': 86.48724876031774, 'Benzene Column C660 Operation_Column Temp Profile_C660 Tray 23 (Control)_oC': 88.94950006553177, 'Simulation Case Conditions_Spec 2 : NA in Benzene_ppmw': 979.7052871892787}. Best is trial 39 with value: 14.506771663740887.\u001b[0m\n",
            "\u001b[32m[I 2021-04-26 08:45:53,025]\u001b[0m Trial 95 finished with value: 21.71722355854527 and parameters: {'Benzene Column C660 Operation_Column Temp Profile_C660 Tray 6 (SD & Control)_oC': 86.45676513368507, 'Benzene Column C660 Operation_Column Temp Profile_C660 Tray 23 (Control)_oC': 88.91471295308226, 'Simulation Case Conditions_Spec 2 : NA in Benzene_ppmw': 979.7539718552753}. Best is trial 39 with value: 14.506771663740887.\u001b[0m\n",
            "\u001b[32m[I 2021-04-26 08:45:53,111]\u001b[0m Trial 96 finished with value: 20.781196018788982 and parameters: {'Benzene Column C660 Operation_Column Temp Profile_C660 Tray 6 (SD & Control)_oC': 86.48509585340767, 'Benzene Column C660 Operation_Column Temp Profile_C660 Tray 23 (Control)_oC': 88.9724089046687, 'Simulation Case Conditions_Spec 2 : NA in Benzene_ppmw': 979.7540228832518}. Best is trial 39 with value: 14.506771663740887.\u001b[0m\n",
            "\u001b[32m[I 2021-04-26 08:45:53,202]\u001b[0m Trial 97 finished with value: 21.874667358602352 and parameters: {'Benzene Column C660 Operation_Column Temp Profile_C660 Tray 6 (SD & Control)_oC': 86.49031383882817, 'Benzene Column C660 Operation_Column Temp Profile_C660 Tray 23 (Control)_oC': 89.0113236476932, 'Simulation Case Conditions_Spec 2 : NA in Benzene_ppmw': 979.5790551828248}. Best is trial 39 with value: 14.506771663740887.\u001b[0m\n",
            "\u001b[32m[I 2021-04-26 08:45:53,291]\u001b[0m Trial 98 finished with value: 23.375639076050724 and parameters: {'Benzene Column C660 Operation_Column Temp Profile_C660 Tray 6 (SD & Control)_oC': 86.4543041764578, 'Benzene Column C660 Operation_Column Temp Profile_C660 Tray 23 (Control)_oC': 88.91943159636236, 'Simulation Case Conditions_Spec 2 : NA in Benzene_ppmw': 979.6394551039722}. Best is trial 39 with value: 14.506771663740887.\u001b[0m\n",
            "\u001b[32m[I 2021-04-26 08:45:53,373]\u001b[0m Trial 99 finished with value: 15.764477671852083 and parameters: {'Benzene Column C660 Operation_Column Temp Profile_C660 Tray 6 (SD & Control)_oC': 86.47278458112068, 'Benzene Column C660 Operation_Column Temp Profile_C660 Tray 23 (Control)_oC': 88.96718606203957, 'Simulation Case Conditions_Spec 2 : NA in Benzene_ppmw': 979.6178116897565}. Best is trial 39 with value: 14.506771663740887.\u001b[0m\n",
            "\u001b[32m[I 2021-04-26 08:45:53,448]\u001b[0m Trial 100 finished with value: 17.083748993532865 and parameters: {'Benzene Column C660 Operation_Column Temp Profile_C660 Tray 6 (SD & Control)_oC': 86.47477644339729, 'Benzene Column C660 Operation_Column Temp Profile_C660 Tray 23 (Control)_oC': 88.94580470190155, 'Simulation Case Conditions_Spec 2 : NA in Benzene_ppmw': 979.674713856085}. Best is trial 39 with value: 14.506771663740887.\u001b[0m\n",
            "\u001b[32m[I 2021-04-26 08:45:53,527]\u001b[0m Trial 101 finished with value: 18.45288552513655 and parameters: {'Benzene Column C660 Operation_Column Temp Profile_C660 Tray 6 (SD & Control)_oC': 86.46411881657266, 'Benzene Column C660 Operation_Column Temp Profile_C660 Tray 23 (Control)_oC': 88.96990725502098, 'Simulation Case Conditions_Spec 2 : NA in Benzene_ppmw': 979.6894860579889}. Best is trial 39 with value: 14.506771663740887.\u001b[0m\n",
            "\u001b[32m[I 2021-04-26 08:45:53,614]\u001b[0m Trial 102 finished with value: 16.579869068305257 and parameters: {'Benzene Column C660 Operation_Column Temp Profile_C660 Tray 6 (SD & Control)_oC': 86.46931018041008, 'Benzene Column C660 Operation_Column Temp Profile_C660 Tray 23 (Control)_oC': 89.02523340136487, 'Simulation Case Conditions_Spec 2 : NA in Benzene_ppmw': 979.7226439735277}. Best is trial 39 with value: 14.506771663740887.\u001b[0m\n",
            "\u001b[32m[I 2021-04-26 08:45:53,707]\u001b[0m Trial 103 finished with value: 27.81641545887758 and parameters: {'Benzene Column C660 Operation_Column Temp Profile_C660 Tray 6 (SD & Control)_oC': 86.45265702516417, 'Benzene Column C660 Operation_Column Temp Profile_C660 Tray 23 (Control)_oC': 89.05131432860856, 'Simulation Case Conditions_Spec 2 : NA in Benzene_ppmw': 979.713645019236}. Best is trial 39 with value: 14.506771663740887.\u001b[0m\n",
            "\u001b[32m[I 2021-04-26 08:45:53,794]\u001b[0m Trial 104 finished with value: 17.71598611770257 and parameters: {'Benzene Column C660 Operation_Column Temp Profile_C660 Tray 6 (SD & Control)_oC': 86.46813233872061, 'Benzene Column C660 Operation_Column Temp Profile_C660 Tray 23 (Control)_oC': 89.04010842073423, 'Simulation Case Conditions_Spec 2 : NA in Benzene_ppmw': 979.6487032230868}. Best is trial 39 with value: 14.506771663740887.\u001b[0m\n",
            "\u001b[32m[I 2021-04-26 08:45:53,890]\u001b[0m Trial 105 finished with value: 30.494204962755987 and parameters: {'Benzene Column C660 Operation_Column Temp Profile_C660 Tray 6 (SD & Control)_oC': 86.44696291498465, 'Benzene Column C660 Operation_Column Temp Profile_C660 Tray 23 (Control)_oC': 89.01878903000572, 'Simulation Case Conditions_Spec 2 : NA in Benzene_ppmw': 979.5836036721552}. Best is trial 39 with value: 14.506771663740887.\u001b[0m\n",
            "\u001b[32m[I 2021-04-26 08:45:53,969]\u001b[0m Trial 106 finished with value: 20.427213241634824 and parameters: {'Benzene Column C660 Operation_Column Temp Profile_C660 Tray 6 (SD & Control)_oC': 86.48597826490133, 'Benzene Column C660 Operation_Column Temp Profile_C660 Tray 23 (Control)_oC': 88.99862076606163, 'Simulation Case Conditions_Spec 2 : NA in Benzene_ppmw': 979.6317647077996}. Best is trial 39 with value: 14.506771663740887.\u001b[0m\n",
            "\u001b[32m[I 2021-04-26 08:45:54,053]\u001b[0m Trial 107 finished with value: 16.767970701390283 and parameters: {'Benzene Column C660 Operation_Column Temp Profile_C660 Tray 6 (SD & Control)_oC': 86.47880318159707, 'Benzene Column C660 Operation_Column Temp Profile_C660 Tray 23 (Control)_oC': 89.03703279232373, 'Simulation Case Conditions_Spec 2 : NA in Benzene_ppmw': 979.7115763896707}. Best is trial 39 with value: 14.506771663740887.\u001b[0m\n",
            "\u001b[32m[I 2021-04-26 08:45:54,142]\u001b[0m Trial 108 finished with value: 18.034419756400567 and parameters: {'Benzene Column C660 Operation_Column Temp Profile_C660 Tray 6 (SD & Control)_oC': 86.47805828759086, 'Benzene Column C660 Operation_Column Temp Profile_C660 Tray 23 (Control)_oC': 88.96573190044968, 'Simulation Case Conditions_Spec 2 : NA in Benzene_ppmw': 979.7302826889414}. Best is trial 39 with value: 14.506771663740887.\u001b[0m\n",
            "\u001b[32m[I 2021-04-26 08:45:54,225]\u001b[0m Trial 109 finished with value: 17.417737574873307 and parameters: {'Benzene Column C660 Operation_Column Temp Profile_C660 Tray 6 (SD & Control)_oC': 86.46800786266515, 'Benzene Column C660 Operation_Column Temp Profile_C660 Tray 23 (Control)_oC': 89.02549935501702, 'Simulation Case Conditions_Spec 2 : NA in Benzene_ppmw': 979.6829462688769}. Best is trial 39 with value: 14.506771663740887.\u001b[0m\n",
            "\u001b[32m[I 2021-04-26 08:45:54,317]\u001b[0m Trial 110 finished with value: 17.27197225685996 and parameters: {'Benzene Column C660 Operation_Column Temp Profile_C660 Tray 6 (SD & Control)_oC': 86.47903938346029, 'Benzene Column C660 Operation_Column Temp Profile_C660 Tray 23 (Control)_oC': 89.0165724692143, 'Simulation Case Conditions_Spec 2 : NA in Benzene_ppmw': 979.681692572}. Best is trial 39 with value: 14.506771663740887.\u001b[0m\n",
            "\u001b[32m[I 2021-04-26 08:45:54,402]\u001b[0m Trial 111 finished with value: 22.583317590689404 and parameters: {'Benzene Column C660 Operation_Column Temp Profile_C660 Tray 6 (SD & Control)_oC': 86.49098391288364, 'Benzene Column C660 Operation_Column Temp Profile_C660 Tray 23 (Control)_oC': 88.99646644710869, 'Simulation Case Conditions_Spec 2 : NA in Benzene_ppmw': 979.6669749973762}. Best is trial 39 with value: 14.506771663740887.\u001b[0m\n",
            "\u001b[32m[I 2021-04-26 08:45:54,478]\u001b[0m Trial 112 finished with value: 14.978966709962151 and parameters: {'Benzene Column C660 Operation_Column Temp Profile_C660 Tray 6 (SD & Control)_oC': 86.4700823788484, 'Benzene Column C660 Operation_Column Temp Profile_C660 Tray 23 (Control)_oC': 88.98432572699107, 'Simulation Case Conditions_Spec 2 : NA in Benzene_ppmw': 979.6379066157846}. Best is trial 39 with value: 14.506771663740887.\u001b[0m\n",
            "\u001b[32m[I 2021-04-26 08:45:54,561]\u001b[0m Trial 113 finished with value: 22.692649386191064 and parameters: {'Benzene Column C660 Operation_Column Temp Profile_C660 Tray 6 (SD & Control)_oC': 86.45826012841283, 'Benzene Column C660 Operation_Column Temp Profile_C660 Tray 23 (Control)_oC': 88.98932213187783, 'Simulation Case Conditions_Spec 2 : NA in Benzene_ppmw': 979.6769840224747}. Best is trial 39 with value: 14.506771663740887.\u001b[0m\n",
            "\u001b[32m[I 2021-04-26 08:45:54,643]\u001b[0m Trial 114 finished with value: 16.464506540812614 and parameters: {'Benzene Column C660 Operation_Column Temp Profile_C660 Tray 6 (SD & Control)_oC': 86.47637605816323, 'Benzene Column C660 Operation_Column Temp Profile_C660 Tray 23 (Control)_oC': 89.00169679686881, 'Simulation Case Conditions_Spec 2 : NA in Benzene_ppmw': 979.6268894889149}. Best is trial 39 with value: 14.506771663740887.\u001b[0m\n",
            "\u001b[32m[I 2021-04-26 08:45:54,725]\u001b[0m Trial 115 finished with value: 17.811242445968873 and parameters: {'Benzene Column C660 Operation_Column Temp Profile_C660 Tray 6 (SD & Control)_oC': 86.47997919848045, 'Benzene Column C660 Operation_Column Temp Profile_C660 Tray 23 (Control)_oC': 89.00639642750836, 'Simulation Case Conditions_Spec 2 : NA in Benzene_ppmw': 979.6280272142427}. Best is trial 39 with value: 14.506771663740887.\u001b[0m\n",
            "\u001b[32m[I 2021-04-26 08:45:54,817]\u001b[0m Trial 116 finished with value: 19.31086773907025 and parameters: {'Benzene Column C660 Operation_Column Temp Profile_C660 Tray 6 (SD & Control)_oC': 86.48518798632196, 'Benzene Column C660 Operation_Column Temp Profile_C660 Tray 23 (Control)_oC': 89.03971225953885, 'Simulation Case Conditions_Spec 2 : NA in Benzene_ppmw': 979.7303207931004}. Best is trial 39 with value: 14.506771663740887.\u001b[0m\n",
            "\u001b[32m[I 2021-04-26 08:45:54,907]\u001b[0m Trial 117 finished with value: 17.68493064568165 and parameters: {'Benzene Column C660 Operation_Column Temp Profile_C660 Tray 6 (SD & Control)_oC': 86.46625207461578, 'Benzene Column C660 Operation_Column Temp Profile_C660 Tray 23 (Control)_oC': 88.99270568349806, 'Simulation Case Conditions_Spec 2 : NA in Benzene_ppmw': 979.6977151777543}. Best is trial 39 with value: 14.506771663740887.\u001b[0m\n",
            "\u001b[32m[I 2021-04-26 08:45:54,996]\u001b[0m Trial 118 finished with value: 18.707425706876485 and parameters: {'Benzene Column C660 Operation_Column Temp Profile_C660 Tray 6 (SD & Control)_oC': 86.46446129976978, 'Benzene Column C660 Operation_Column Temp Profile_C660 Tray 23 (Control)_oC': 88.98822404867784, 'Simulation Case Conditions_Spec 2 : NA in Benzene_ppmw': 979.6528456720432}. Best is trial 39 with value: 14.506771663740887.\u001b[0m\n",
            "\u001b[32m[I 2021-04-26 08:45:55,086]\u001b[0m Trial 119 finished with value: 16.192086853971052 and parameters: {'Benzene Column C660 Operation_Column Temp Profile_C660 Tray 6 (SD & Control)_oC': 86.46705912846835, 'Benzene Column C660 Operation_Column Temp Profile_C660 Tray 23 (Control)_oC': 88.95619665031839, 'Simulation Case Conditions_Spec 2 : NA in Benzene_ppmw': 979.6585108126359}. Best is trial 39 with value: 14.506771663740887.\u001b[0m\n",
            "\u001b[32m[I 2021-04-26 08:45:55,175]\u001b[0m Trial 120 finished with value: 16.063844011287568 and parameters: {'Benzene Column C660 Operation_Column Temp Profile_C660 Tray 6 (SD & Control)_oC': 86.47772746886181, 'Benzene Column C660 Operation_Column Temp Profile_C660 Tray 23 (Control)_oC': 89.04887588167257, 'Simulation Case Conditions_Spec 2 : NA in Benzene_ppmw': 979.6947366559274}. Best is trial 39 with value: 14.506771663740887.\u001b[0m\n",
            "\u001b[32m[I 2021-04-26 08:45:55,274]\u001b[0m Trial 121 finished with value: 14.78552779881013 and parameters: {'Benzene Column C660 Operation_Column Temp Profile_C660 Tray 6 (SD & Control)_oC': 86.47066965217866, 'Benzene Column C660 Operation_Column Temp Profile_C660 Tray 23 (Control)_oC': 88.99091471066305, 'Simulation Case Conditions_Spec 2 : NA in Benzene_ppmw': 979.6978515395565}. Best is trial 39 with value: 14.506771663740887.\u001b[0m\n",
            "\u001b[32m[I 2021-04-26 08:45:55,366]\u001b[0m Trial 122 finished with value: 19.152095146141008 and parameters: {'Benzene Column C660 Operation_Column Temp Profile_C660 Tray 6 (SD & Control)_oC': 86.4619121638166, 'Benzene Column C660 Operation_Column Temp Profile_C660 Tray 23 (Control)_oC': 88.94325771717915, 'Simulation Case Conditions_Spec 2 : NA in Benzene_ppmw': 979.6181967600569}. Best is trial 39 with value: 14.506771663740887.\u001b[0m\n",
            "\u001b[32m[I 2021-04-26 08:45:55,458]\u001b[0m Trial 123 finished with value: 15.06283028631303 and parameters: {'Benzene Column C660 Operation_Column Temp Profile_C660 Tray 6 (SD & Control)_oC': 86.47208887023062, 'Benzene Column C660 Operation_Column Temp Profile_C660 Tray 23 (Control)_oC': 88.990173255292, 'Simulation Case Conditions_Spec 2 : NA in Benzene_ppmw': 979.6773644636484}. Best is trial 39 with value: 14.506771663740887.\u001b[0m\n",
            "\u001b[32m[I 2021-04-26 08:45:55,546]\u001b[0m Trial 124 finished with value: 15.775804826806029 and parameters: {'Benzene Column C660 Operation_Column Temp Profile_C660 Tray 6 (SD & Control)_oC': 86.47103999325616, 'Benzene Column C660 Operation_Column Temp Profile_C660 Tray 23 (Control)_oC': 88.93873380868753, 'Simulation Case Conditions_Spec 2 : NA in Benzene_ppmw': 979.702695866701}. Best is trial 39 with value: 14.506771663740887.\u001b[0m\n",
            "\u001b[32m[I 2021-04-26 08:45:55,632]\u001b[0m Trial 125 finished with value: 17.007886521722256 and parameters: {'Benzene Column C660 Operation_Column Temp Profile_C660 Tray 6 (SD & Control)_oC': 86.4765324048627, 'Benzene Column C660 Operation_Column Temp Profile_C660 Tray 23 (Control)_oC': 88.98337281058762, 'Simulation Case Conditions_Spec 2 : NA in Benzene_ppmw': 979.7032942065138}. Best is trial 39 with value: 14.506771663740887.\u001b[0m\n",
            "\u001b[32m[I 2021-04-26 08:45:55,719]\u001b[0m Trial 126 finished with value: 16.079245697061417 and parameters: {'Benzene Column C660 Operation_Column Temp Profile_C660 Tray 6 (SD & Control)_oC': 86.47368880479681, 'Benzene Column C660 Operation_Column Temp Profile_C660 Tray 23 (Control)_oC': 88.97270106514758, 'Simulation Case Conditions_Spec 2 : NA in Benzene_ppmw': 979.6835331191862}. Best is trial 39 with value: 14.506771663740887.\u001b[0m\n",
            "\u001b[32m[I 2021-04-26 08:45:55,803]\u001b[0m Trial 127 finished with value: 16.462553783799123 and parameters: {'Benzene Column C660 Operation_Column Temp Profile_C660 Tray 6 (SD & Control)_oC': 86.4772832947146, 'Benzene Column C660 Operation_Column Temp Profile_C660 Tray 23 (Control)_oC': 89.02223985081098, 'Simulation Case Conditions_Spec 2 : NA in Benzene_ppmw': 979.6968981489612}. Best is trial 39 with value: 14.506771663740887.\u001b[0m\n",
            "\u001b[32m[I 2021-04-26 08:45:55,894]\u001b[0m Trial 128 finished with value: 15.734980874321053 and parameters: {'Benzene Column C660 Operation_Column Temp Profile_C660 Tray 6 (SD & Control)_oC': 86.4692749485385, 'Benzene Column C660 Operation_Column Temp Profile_C660 Tray 23 (Control)_oC': 88.99278911357987, 'Simulation Case Conditions_Spec 2 : NA in Benzene_ppmw': 979.6823876555999}. Best is trial 39 with value: 14.506771663740887.\u001b[0m\n",
            "\u001b[32m[I 2021-04-26 08:45:55,976]\u001b[0m Trial 129 finished with value: 14.8109714210561 and parameters: {'Benzene Column C660 Operation_Column Temp Profile_C660 Tray 6 (SD & Control)_oC': 86.4712692597343, 'Benzene Column C660 Operation_Column Temp Profile_C660 Tray 23 (Control)_oC': 88.98648527495202, 'Simulation Case Conditions_Spec 2 : NA in Benzene_ppmw': 979.6714772205398}. Best is trial 39 with value: 14.506771663740887.\u001b[0m\n",
            "\u001b[32m[I 2021-04-26 08:45:56,058]\u001b[0m Trial 130 finished with value: 14.755693172495272 and parameters: {'Benzene Column C660 Operation_Column Temp Profile_C660 Tray 6 (SD & Control)_oC': 86.47109547955367, 'Benzene Column C660 Operation_Column Temp Profile_C660 Tray 23 (Control)_oC': 88.98730851658134, 'Simulation Case Conditions_Spec 2 : NA in Benzene_ppmw': 979.6992532289082}. Best is trial 39 with value: 14.506771663740887.\u001b[0m\n",
            "\u001b[32m[I 2021-04-26 08:45:56,135]\u001b[0m Trial 131 finished with value: 17.511022009621968 and parameters: {'Benzene Column C660 Operation_Column Temp Profile_C660 Tray 6 (SD & Control)_oC': 86.47812130514633, 'Benzene Column C660 Operation_Column Temp Profile_C660 Tray 23 (Control)_oC': 88.98628021635739, 'Simulation Case Conditions_Spec 2 : NA in Benzene_ppmw': 979.6386487285978}. Best is trial 39 with value: 14.506771663740887.\u001b[0m\n",
            "\u001b[32m[I 2021-04-26 08:45:56,211]\u001b[0m Trial 132 finished with value: 16.024758491016822 and parameters: {'Benzene Column C660 Operation_Column Temp Profile_C660 Tray 6 (SD & Control)_oC': 86.4741616471429, 'Benzene Column C660 Operation_Column Temp Profile_C660 Tray 23 (Control)_oC': 88.98516607107693, 'Simulation Case Conditions_Spec 2 : NA in Benzene_ppmw': 979.7058526739603}. Best is trial 39 with value: 14.506771663740887.\u001b[0m\n",
            "\u001b[32m[I 2021-04-26 08:45:56,295]\u001b[0m Trial 133 finished with value: 17.046439354094552 and parameters: {'Benzene Column C660 Operation_Column Temp Profile_C660 Tray 6 (SD & Control)_oC': 86.47739873919505, 'Benzene Column C660 Operation_Column Temp Profile_C660 Tray 23 (Control)_oC': 88.99577439807399, 'Simulation Case Conditions_Spec 2 : NA in Benzene_ppmw': 979.6666969270433}. Best is trial 39 with value: 14.506771663740887.\u001b[0m\n",
            "\u001b[32m[I 2021-04-26 08:45:56,382]\u001b[0m Trial 134 finished with value: 15.305560297564151 and parameters: {'Benzene Column C660 Operation_Column Temp Profile_C660 Tray 6 (SD & Control)_oC': 86.47291128601336, 'Benzene Column C660 Operation_Column Temp Profile_C660 Tray 23 (Control)_oC': 88.99621182516978, 'Simulation Case Conditions_Spec 2 : NA in Benzene_ppmw': 979.7188045647285}. Best is trial 39 with value: 14.506771663740887.\u001b[0m\n",
            "\u001b[32m[I 2021-04-26 08:45:56,465]\u001b[0m Trial 135 finished with value: 14.96049132417498 and parameters: {'Benzene Column C660 Operation_Column Temp Profile_C660 Tray 6 (SD & Control)_oC': 86.47043399252846, 'Benzene Column C660 Operation_Column Temp Profile_C660 Tray 23 (Control)_oC': 88.99208099963172, 'Simulation Case Conditions_Spec 2 : NA in Benzene_ppmw': 979.6538718867236}. Best is trial 39 with value: 14.506771663740887.\u001b[0m\n",
            "\u001b[32m[I 2021-04-26 08:45:56,546]\u001b[0m Trial 136 finished with value: 19.726011350114018 and parameters: {'Benzene Column C660 Operation_Column Temp Profile_C660 Tray 6 (SD & Control)_oC': 86.46315961675859, 'Benzene Column C660 Operation_Column Temp Profile_C660 Tray 23 (Control)_oC': 88.99526621092305, 'Simulation Case Conditions_Spec 2 : NA in Benzene_ppmw': 979.6562314227522}. Best is trial 39 with value: 14.506771663740887.\u001b[0m\n",
            "\u001b[32m[I 2021-04-26 08:45:56,625]\u001b[0m Trial 137 finished with value: 16.061109936536205 and parameters: {'Benzene Column C660 Operation_Column Temp Profile_C660 Tray 6 (SD & Control)_oC': 86.47525281532302, 'Benzene Column C660 Operation_Column Temp Profile_C660 Tray 23 (Control)_oC': 89.00214733108722, 'Simulation Case Conditions_Spec 2 : NA in Benzene_ppmw': 979.6759138844691}. Best is trial 39 with value: 14.506771663740887.\u001b[0m\n",
            "\u001b[32m[I 2021-04-26 08:45:56,706]\u001b[0m Trial 138 finished with value: 15.469780350171344 and parameters: {'Benzene Column C660 Operation_Column Temp Profile_C660 Tray 6 (SD & Control)_oC': 86.47056580966405, 'Benzene Column C660 Operation_Column Temp Profile_C660 Tray 23 (Control)_oC': 88.94147787823252, 'Simulation Case Conditions_Spec 2 : NA in Benzene_ppmw': 979.6496081681776}. Best is trial 39 with value: 14.506771663740887.\u001b[0m\n",
            "\u001b[32m[I 2021-04-26 08:45:56,794]\u001b[0m Trial 139 finished with value: 16.73731920216156 and parameters: {'Benzene Column C660 Operation_Column Temp Profile_C660 Tray 6 (SD & Control)_oC': 86.46708832476095, 'Benzene Column C660 Operation_Column Temp Profile_C660 Tray 23 (Control)_oC': 88.97732174987989, 'Simulation Case Conditions_Spec 2 : NA in Benzene_ppmw': 979.6828823443379}. Best is trial 39 with value: 14.506771663740887.\u001b[0m\n",
            "\u001b[32m[I 2021-04-26 08:45:56,884]\u001b[0m Trial 140 finished with value: 16.011056059831823 and parameters: {'Benzene Column C660 Operation_Column Temp Profile_C660 Tray 6 (SD & Control)_oC': 86.47584512227485, 'Benzene Column C660 Operation_Column Temp Profile_C660 Tray 23 (Control)_oC': 89.01848429713586, 'Simulation Case Conditions_Spec 2 : NA in Benzene_ppmw': 979.7342735652711}. Best is trial 39 with value: 14.506771663740887.\u001b[0m\n",
            "\u001b[32m[I 2021-04-26 08:45:56,967]\u001b[0m Trial 141 finished with value: 15.009583029691091 and parameters: {'Benzene Column C660 Operation_Column Temp Profile_C660 Tray 6 (SD & Control)_oC': 86.46994280248144, 'Benzene Column C660 Operation_Column Temp Profile_C660 Tray 23 (Control)_oC': 88.98184623658648, 'Simulation Case Conditions_Spec 2 : NA in Benzene_ppmw': 979.6693985539231}. Best is trial 39 with value: 14.506771663740887.\u001b[0m\n",
            "\u001b[32m[I 2021-04-26 08:45:57,047]\u001b[0m Trial 142 finished with value: 15.750770985017162 and parameters: {'Benzene Column C660 Operation_Column Temp Profile_C660 Tray 6 (SD & Control)_oC': 86.46844623648718, 'Benzene Column C660 Operation_Column Temp Profile_C660 Tray 23 (Control)_oC': 88.97310245742246, 'Simulation Case Conditions_Spec 2 : NA in Benzene_ppmw': 979.6931221154096}. Best is trial 39 with value: 14.506771663740887.\u001b[0m\n",
            "\u001b[32m[I 2021-04-26 08:45:57,128]\u001b[0m Trial 143 finished with value: 14.710655476181188 and parameters: {'Benzene Column C660 Operation_Column Temp Profile_C660 Tray 6 (SD & Control)_oC': 86.46993517958036, 'Benzene Column C660 Operation_Column Temp Profile_C660 Tray 23 (Control)_oC': 88.96674514617028, 'Simulation Case Conditions_Spec 2 : NA in Benzene_ppmw': 979.6764840458719}. Best is trial 39 with value: 14.506771663740887.\u001b[0m\n",
            "\u001b[32m[I 2021-04-26 08:45:57,213]\u001b[0m Trial 144 finished with value: 16.068987057273013 and parameters: {'Benzene Column C660 Operation_Column Temp Profile_C660 Tray 6 (SD & Control)_oC': 86.46902367214845, 'Benzene Column C660 Operation_Column Temp Profile_C660 Tray 23 (Control)_oC': 88.99926239902982, 'Simulation Case Conditions_Spec 2 : NA in Benzene_ppmw': 979.6818082236139}. Best is trial 39 with value: 14.506771663740887.\u001b[0m\n",
            "\u001b[32m[I 2021-04-26 08:45:57,313]\u001b[0m Trial 145 finished with value: 15.677403506536006 and parameters: {'Benzene Column C660 Operation_Column Temp Profile_C660 Tray 6 (SD & Control)_oC': 86.46952122773915, 'Benzene Column C660 Operation_Column Temp Profile_C660 Tray 23 (Control)_oC': 88.99687930973226, 'Simulation Case Conditions_Spec 2 : NA in Benzene_ppmw': 979.6474223395155}. Best is trial 39 with value: 14.506771663740887.\u001b[0m\n",
            "\u001b[32m[I 2021-04-26 08:45:57,401]\u001b[0m Trial 146 finished with value: 15.787984845358572 and parameters: {'Benzene Column C660 Operation_Column Temp Profile_C660 Tray 6 (SD & Control)_oC': 86.47435611073432, 'Benzene Column C660 Operation_Column Temp Profile_C660 Tray 23 (Control)_oC': 88.99682250937364, 'Simulation Case Conditions_Spec 2 : NA in Benzene_ppmw': 979.6485810219721}. Best is trial 39 with value: 14.506771663740887.\u001b[0m\n",
            "\u001b[32m[I 2021-04-26 08:45:57,478]\u001b[0m Trial 147 finished with value: 15.544887675851209 and parameters: {'Benzene Column C660 Operation_Column Temp Profile_C660 Tray 6 (SD & Control)_oC': 86.47211105412832, 'Benzene Column C660 Operation_Column Temp Profile_C660 Tray 23 (Control)_oC': 88.9660854229398, 'Simulation Case Conditions_Spec 2 : NA in Benzene_ppmw': 979.6396732794303}. Best is trial 39 with value: 14.506771663740887.\u001b[0m\n",
            "\u001b[32m[I 2021-04-26 08:45:57,562]\u001b[0m Trial 148 finished with value: 17.768480312792562 and parameters: {'Benzene Column C660 Operation_Column Temp Profile_C660 Tray 6 (SD & Control)_oC': 86.46581049139894, 'Benzene Column C660 Operation_Column Temp Profile_C660 Tray 23 (Control)_oC': 88.98514742202073, 'Simulation Case Conditions_Spec 2 : NA in Benzene_ppmw': 979.69252295874}. Best is trial 39 with value: 14.506771663740887.\u001b[0m\n",
            "\u001b[32m[I 2021-04-26 08:45:57,655]\u001b[0m Trial 149 finished with value: 14.786257255528817 and parameters: {'Benzene Column C660 Operation_Column Temp Profile_C660 Tray 6 (SD & Control)_oC': 86.46938689063334, 'Benzene Column C660 Operation_Column Temp Profile_C660 Tray 23 (Control)_oC': 88.95175114873379, 'Simulation Case Conditions_Spec 2 : NA in Benzene_ppmw': 979.6516923036585}. Best is trial 39 with value: 14.506771663740887.\u001b[0m\n",
            "\u001b[32m[I 2021-04-26 08:45:57,735]\u001b[0m Trial 150 finished with value: 15.755873732402264 and parameters: {'Benzene Column C660 Operation_Column Temp Profile_C660 Tray 6 (SD & Control)_oC': 86.46855208719647, 'Benzene Column C660 Operation_Column Temp Profile_C660 Tray 23 (Control)_oC': 88.97614586177899, 'Simulation Case Conditions_Spec 2 : NA in Benzene_ppmw': 979.6570829128045}. Best is trial 39 with value: 14.506771663740887.\u001b[0m\n",
            "\u001b[32m[I 2021-04-26 08:45:57,818]\u001b[0m Trial 151 finished with value: 15.648572037299449 and parameters: {'Benzene Column C660 Operation_Column Temp Profile_C660 Tray 6 (SD & Control)_oC': 86.47224168908842, 'Benzene Column C660 Operation_Column Temp Profile_C660 Tray 23 (Control)_oC': 88.96587102838477, 'Simulation Case Conditions_Spec 2 : NA in Benzene_ppmw': 979.6820014885548}. Best is trial 39 with value: 14.506771663740887.\u001b[0m\n",
            "\u001b[32m[I 2021-04-26 08:45:57,906]\u001b[0m Trial 152 finished with value: 16.82117543797325 and parameters: {'Benzene Column C660 Operation_Column Temp Profile_C660 Tray 6 (SD & Control)_oC': 86.4661149274588, 'Benzene Column C660 Operation_Column Temp Profile_C660 Tray 23 (Control)_oC': 88.95693310144897, 'Simulation Case Conditions_Spec 2 : NA in Benzene_ppmw': 979.6610024006998}. Best is trial 39 with value: 14.506771663740887.\u001b[0m\n",
            "\u001b[32m[I 2021-04-26 08:45:57,984]\u001b[0m Trial 153 finished with value: 14.875190351565644 and parameters: {'Benzene Column C660 Operation_Column Temp Profile_C660 Tray 6 (SD & Control)_oC': 86.47109558404334, 'Benzene Column C660 Operation_Column Temp Profile_C660 Tray 23 (Control)_oC': 88.98141128860229, 'Simulation Case Conditions_Spec 2 : NA in Benzene_ppmw': 979.6935647542433}. Best is trial 39 with value: 14.506771663740887.\u001b[0m\n",
            "\u001b[32m[I 2021-04-26 08:45:58,066]\u001b[0m Trial 154 finished with value: 14.790484239615205 and parameters: {'Benzene Column C660 Operation_Column Temp Profile_C660 Tray 6 (SD & Control)_oC': 86.47015043351524, 'Benzene Column C660 Operation_Column Temp Profile_C660 Tray 23 (Control)_oC': 88.97880957274658, 'Simulation Case Conditions_Spec 2 : NA in Benzene_ppmw': 979.6499197082288}. Best is trial 39 with value: 14.506771663740887.\u001b[0m\n",
            "\u001b[32m[I 2021-04-26 08:45:58,153]\u001b[0m Trial 155 finished with value: 15.99037069446284 and parameters: {'Benzene Column C660 Operation_Column Temp Profile_C660 Tray 6 (SD & Control)_oC': 86.46837405677628, 'Benzene Column C660 Operation_Column Temp Profile_C660 Tray 23 (Control)_oC': 88.9807737682934, 'Simulation Case Conditions_Spec 2 : NA in Benzene_ppmw': 979.6403179073804}. Best is trial 39 with value: 14.506771663740887.\u001b[0m\n",
            "\u001b[32m[I 2021-04-26 08:45:58,235]\u001b[0m Trial 156 finished with value: 16.01162897825533 and parameters: {'Benzene Column C660 Operation_Column Temp Profile_C660 Tray 6 (SD & Control)_oC': 86.47323668399443, 'Benzene Column C660 Operation_Column Temp Profile_C660 Tray 23 (Control)_oC': 88.96628109525231, 'Simulation Case Conditions_Spec 2 : NA in Benzene_ppmw': 979.6607177666197}. Best is trial 39 with value: 14.506771663740887.\u001b[0m\n",
            "\u001b[32m[I 2021-04-26 08:45:58,329]\u001b[0m Trial 157 finished with value: 16.20875438653715 and parameters: {'Benzene Column C660 Operation_Column Temp Profile_C660 Tray 6 (SD & Control)_oC': 86.47554584632783, 'Benzene Column C660 Operation_Column Temp Profile_C660 Tray 23 (Control)_oC': 89.0018813962344, 'Simulation Case Conditions_Spec 2 : NA in Benzene_ppmw': 979.6984792123229}. Best is trial 39 with value: 14.506771663740887.\u001b[0m\n",
            "\u001b[32m[I 2021-04-26 08:45:58,423]\u001b[0m Trial 158 finished with value: 14.810205206539097 and parameters: {'Benzene Column C660 Operation_Column Temp Profile_C660 Tray 6 (SD & Control)_oC': 86.47004646102383, 'Benzene Column C660 Operation_Column Temp Profile_C660 Tray 23 (Control)_oC': 88.96394294649609, 'Simulation Case Conditions_Spec 2 : NA in Benzene_ppmw': 979.6728558407513}. Best is trial 39 with value: 14.506771663740887.\u001b[0m\n",
            "\u001b[32m[I 2021-04-26 08:45:58,517]\u001b[0m Trial 159 finished with value: 15.19977286561286 and parameters: {'Benzene Column C660 Operation_Column Temp Profile_C660 Tray 6 (SD & Control)_oC': 86.47072502585209, 'Benzene Column C660 Operation_Column Temp Profile_C660 Tray 23 (Control)_oC': 88.95737011438139, 'Simulation Case Conditions_Spec 2 : NA in Benzene_ppmw': 979.6557351892501}. Best is trial 39 with value: 14.506771663740887.\u001b[0m\n",
            "\u001b[32m[I 2021-04-26 08:45:58,604]\u001b[0m Trial 160 finished with value: 14.828620832192518 and parameters: {'Benzene Column C660 Operation_Column Temp Profile_C660 Tray 6 (SD & Control)_oC': 86.47093364670087, 'Benzene Column C660 Operation_Column Temp Profile_C660 Tray 23 (Control)_oC': 88.97930882235134, 'Simulation Case Conditions_Spec 2 : NA in Benzene_ppmw': 979.6688945315937}. Best is trial 39 with value: 14.506771663740887.\u001b[0m\n",
            "\u001b[32m[I 2021-04-26 08:45:58,688]\u001b[0m Trial 161 finished with value: 15.0432575781013 and parameters: {'Benzene Column C660 Operation_Column Temp Profile_C660 Tray 6 (SD & Control)_oC': 86.46888001050893, 'Benzene Column C660 Operation_Column Temp Profile_C660 Tray 23 (Control)_oC': 88.95739359440634, 'Simulation Case Conditions_Spec 2 : NA in Benzene_ppmw': 979.6446311996456}. Best is trial 39 with value: 14.506771663740887.\u001b[0m\n",
            "\u001b[32m[I 2021-04-26 08:45:58,769]\u001b[0m Trial 162 finished with value: 15.976216128852506 and parameters: {'Benzene Column C660 Operation_Column Temp Profile_C660 Tray 6 (SD & Control)_oC': 86.4681558423277, 'Benzene Column C660 Operation_Column Temp Profile_C660 Tray 23 (Control)_oC': 88.97484353367248, 'Simulation Case Conditions_Spec 2 : NA in Benzene_ppmw': 979.6507712091573}. Best is trial 39 with value: 14.506771663740887.\u001b[0m\n",
            "\u001b[32m[I 2021-04-26 08:45:58,856]\u001b[0m Trial 163 finished with value: 14.904482876327563 and parameters: {'Benzene Column C660 Operation_Column Temp Profile_C660 Tray 6 (SD & Control)_oC': 86.46886429307612, 'Benzene Column C660 Operation_Column Temp Profile_C660 Tray 23 (Control)_oC': 88.93694688749531, 'Simulation Case Conditions_Spec 2 : NA in Benzene_ppmw': 979.6597981712584}. Best is trial 39 with value: 14.506771663740887.\u001b[0m\n",
            "\u001b[32m[I 2021-04-26 08:45:58,945]\u001b[0m Trial 164 finished with value: 14.657310875839546 and parameters: {'Benzene Column C660 Operation_Column Temp Profile_C660 Tray 6 (SD & Control)_oC': 86.47042503659257, 'Benzene Column C660 Operation_Column Temp Profile_C660 Tray 23 (Control)_oC': 88.98049167324221, 'Simulation Case Conditions_Spec 2 : NA in Benzene_ppmw': 979.6503054194293}. Best is trial 39 with value: 14.506771663740887.\u001b[0m\n",
            "\u001b[32m[I 2021-04-26 08:45:59,032]\u001b[0m Trial 165 finished with value: 14.986711116042194 and parameters: {'Benzene Column C660 Operation_Column Temp Profile_C660 Tray 6 (SD & Control)_oC': 86.46981676104232, 'Benzene Column C660 Operation_Column Temp Profile_C660 Tray 23 (Control)_oC': 88.95087928237267, 'Simulation Case Conditions_Spec 2 : NA in Benzene_ppmw': 979.6626598462884}. Best is trial 39 with value: 14.506771663740887.\u001b[0m\n",
            "\u001b[32m[I 2021-04-26 08:45:59,118]\u001b[0m Trial 166 finished with value: 15.283151967829786 and parameters: {'Benzene Column C660 Operation_Column Temp Profile_C660 Tray 6 (SD & Control)_oC': 86.4712791522493, 'Benzene Column C660 Operation_Column Temp Profile_C660 Tray 23 (Control)_oC': 88.96568140145024, 'Simulation Case Conditions_Spec 2 : NA in Benzene_ppmw': 979.6931438288386}. Best is trial 39 with value: 14.506771663740887.\u001b[0m\n",
            "\u001b[32m[I 2021-04-26 08:45:59,205]\u001b[0m Trial 167 finished with value: 14.875320408637883 and parameters: {'Benzene Column C660 Operation_Column Temp Profile_C660 Tray 6 (SD & Control)_oC': 86.4706665869646, 'Benzene Column C660 Operation_Column Temp Profile_C660 Tray 23 (Control)_oC': 88.97209310112774, 'Simulation Case Conditions_Spec 2 : NA in Benzene_ppmw': 979.6674723174949}. Best is trial 39 with value: 14.506771663740887.\u001b[0m\n",
            "\u001b[32m[I 2021-04-26 08:45:59,289]\u001b[0m Trial 168 finished with value: 15.047787283983574 and parameters: {'Benzene Column C660 Operation_Column Temp Profile_C660 Tray 6 (SD & Control)_oC': 86.47107137317178, 'Benzene Column C660 Operation_Column Temp Profile_C660 Tray 23 (Control)_oC': 88.97057030238065, 'Simulation Case Conditions_Spec 2 : NA in Benzene_ppmw': 979.6494334775987}. Best is trial 39 with value: 14.506771663740887.\u001b[0m\n",
            "\u001b[32m[I 2021-04-26 08:45:59,379]\u001b[0m Trial 169 finished with value: 14.693590307089542 and parameters: {'Benzene Column C660 Operation_Column Temp Profile_C660 Tray 6 (SD & Control)_oC': 86.47064139648539, 'Benzene Column C660 Operation_Column Temp Profile_C660 Tray 23 (Control)_oC': 88.98715078892435, 'Simulation Case Conditions_Spec 2 : NA in Benzene_ppmw': 979.6472986065596}. Best is trial 39 with value: 14.506771663740887.\u001b[0m\n",
            "\u001b[32m[I 2021-04-26 08:45:59,465]\u001b[0m Trial 170 finished with value: 15.150948088055749 and parameters: {'Benzene Column C660 Operation_Column Temp Profile_C660 Tray 6 (SD & Control)_oC': 86.47048605209127, 'Benzene Column C660 Operation_Column Temp Profile_C660 Tray 23 (Control)_oC': 88.95391981351189, 'Simulation Case Conditions_Spec 2 : NA in Benzene_ppmw': 979.630720016338}. Best is trial 39 with value: 14.506771663740887.\u001b[0m\n",
            "\u001b[32m[I 2021-04-26 08:45:59,559]\u001b[0m Trial 171 finished with value: 14.796819987166893 and parameters: {'Benzene Column C660 Operation_Column Temp Profile_C660 Tray 6 (SD & Control)_oC': 86.47152105003921, 'Benzene Column C660 Operation_Column Temp Profile_C660 Tray 23 (Control)_oC': 88.99071724490766, 'Simulation Case Conditions_Spec 2 : NA in Benzene_ppmw': 979.6505321893171}. Best is trial 39 with value: 14.506771663740887.\u001b[0m\n",
            "\u001b[32m[I 2021-04-26 08:45:59,653]\u001b[0m Trial 172 finished with value: 14.930340053661958 and parameters: {'Benzene Column C660 Operation_Column Temp Profile_C660 Tray 6 (SD & Control)_oC': 86.46938764581056, 'Benzene Column C660 Operation_Column Temp Profile_C660 Tray 23 (Control)_oC': 88.96551937638475, 'Simulation Case Conditions_Spec 2 : NA in Benzene_ppmw': 979.644428467707}. Best is trial 39 with value: 14.506771663740887.\u001b[0m\n",
            "\u001b[32m[I 2021-04-26 08:45:59,736]\u001b[0m Trial 173 finished with value: 14.608219880032625 and parameters: {'Benzene Column C660 Operation_Column Temp Profile_C660 Tray 6 (SD & Control)_oC': 86.47085424177546, 'Benzene Column C660 Operation_Column Temp Profile_C660 Tray 23 (Control)_oC': 88.98894139260767, 'Simulation Case Conditions_Spec 2 : NA in Benzene_ppmw': 979.6729151719786}. Best is trial 39 with value: 14.506771663740887.\u001b[0m\n",
            "\u001b[32m[I 2021-04-26 08:45:59,815]\u001b[0m Trial 174 finished with value: 14.94057127011883 and parameters: {'Benzene Column C660 Operation_Column Temp Profile_C660 Tray 6 (SD & Control)_oC': 86.47085281414603, 'Benzene Column C660 Operation_Column Temp Profile_C660 Tray 23 (Control)_oC': 88.97238293020233, 'Simulation Case Conditions_Spec 2 : NA in Benzene_ppmw': 979.6654545010535}. Best is trial 39 with value: 14.506771663740887.\u001b[0m\n",
            "\u001b[32m[I 2021-04-26 08:45:59,910]\u001b[0m Trial 175 finished with value: 14.632561435575555 and parameters: {'Benzene Column C660 Operation_Column Temp Profile_C660 Tray 6 (SD & Control)_oC': 86.47039601707463, 'Benzene Column C660 Operation_Column Temp Profile_C660 Tray 23 (Control)_oC': 88.97876461466903, 'Simulation Case Conditions_Spec 2 : NA in Benzene_ppmw': 979.6622066412899}. Best is trial 39 with value: 14.506771663740887.\u001b[0m\n",
            "\u001b[32m[I 2021-04-26 08:46:00,096]\u001b[0m Trial 176 finished with value: 15.007440695009471 and parameters: {'Benzene Column C660 Operation_Column Temp Profile_C660 Tray 6 (SD & Control)_oC': 86.47213840383151, 'Benzene Column C660 Operation_Column Temp Profile_C660 Tray 23 (Control)_oC': 88.9929936678437, 'Simulation Case Conditions_Spec 2 : NA in Benzene_ppmw': 979.6640990289246}. Best is trial 39 with value: 14.506771663740887.\u001b[0m\n",
            "\u001b[32m[I 2021-04-26 08:46:00,182]\u001b[0m Trial 177 finished with value: 14.805463416112126 and parameters: {'Benzene Column C660 Operation_Column Temp Profile_C660 Tray 6 (SD & Control)_oC': 86.47083471548056, 'Benzene Column C660 Operation_Column Temp Profile_C660 Tray 23 (Control)_oC': 88.99592974362587, 'Simulation Case Conditions_Spec 2 : NA in Benzene_ppmw': 979.6655525556665}. Best is trial 39 with value: 14.506771663740887.\u001b[0m\n",
            "\u001b[32m[I 2021-04-26 08:46:00,265]\u001b[0m Trial 178 finished with value: 15.124304387650314 and parameters: {'Benzene Column C660 Operation_Column Temp Profile_C660 Tray 6 (SD & Control)_oC': 86.46977124307475, 'Benzene Column C660 Operation_Column Temp Profile_C660 Tray 23 (Control)_oC': 88.98181561179551, 'Simulation Case Conditions_Spec 2 : NA in Benzene_ppmw': 979.6908051546397}. Best is trial 39 with value: 14.506771663740887.\u001b[0m\n",
            "\u001b[32m[I 2021-04-26 08:46:00,359]\u001b[0m Trial 179 finished with value: 14.812056696936603 and parameters: {'Benzene Column C660 Operation_Column Temp Profile_C660 Tray 6 (SD & Control)_oC': 86.47102916437908, 'Benzene Column C660 Operation_Column Temp Profile_C660 Tray 23 (Control)_oC': 89.00094911733103, 'Simulation Case Conditions_Spec 2 : NA in Benzene_ppmw': 979.6610381467708}. Best is trial 39 with value: 14.506771663740887.\u001b[0m\n",
            "\u001b[32m[I 2021-04-26 08:46:00,453]\u001b[0m Trial 180 finished with value: 14.860302064045998 and parameters: {'Benzene Column C660 Operation_Column Temp Profile_C660 Tray 6 (SD & Control)_oC': 86.47190772737373, 'Benzene Column C660 Operation_Column Temp Profile_C660 Tray 23 (Control)_oC': 88.99555478188192, 'Simulation Case Conditions_Spec 2 : NA in Benzene_ppmw': 979.6629123473778}. Best is trial 39 with value: 14.506771663740887.\u001b[0m\n",
            "\u001b[32m[I 2021-04-26 08:46:00,545]\u001b[0m Trial 181 finished with value: 15.473850994211332 and parameters: {'Benzene Column C660 Operation_Column Temp Profile_C660 Tray 6 (SD & Control)_oC': 86.46916611859415, 'Benzene Column C660 Operation_Column Temp Profile_C660 Tray 23 (Control)_oC': 88.98061790056404, 'Simulation Case Conditions_Spec 2 : NA in Benzene_ppmw': 979.639015828705}. Best is trial 39 with value: 14.506771663740887.\u001b[0m\n",
            "\u001b[32m[I 2021-04-26 08:46:00,623]\u001b[0m Trial 182 finished with value: 14.881274381840996 and parameters: {'Benzene Column C660 Operation_Column Temp Profile_C660 Tray 6 (SD & Control)_oC': 86.47128158407284, 'Benzene Column C660 Operation_Column Temp Profile_C660 Tray 23 (Control)_oC': 88.98381757209089, 'Simulation Case Conditions_Spec 2 : NA in Benzene_ppmw': 979.6790904350242}. Best is trial 39 with value: 14.506771663740887.\u001b[0m\n",
            "\u001b[32m[I 2021-04-26 08:46:00,712]\u001b[0m Trial 183 finished with value: 15.029433979724692 and parameters: {'Benzene Column C660 Operation_Column Temp Profile_C660 Tray 6 (SD & Control)_oC': 86.4724716710279, 'Benzene Column C660 Operation_Column Temp Profile_C660 Tray 23 (Control)_oC': 88.99898612178762, 'Simulation Case Conditions_Spec 2 : NA in Benzene_ppmw': 979.6803115304152}. Best is trial 39 with value: 14.506771663740887.\u001b[0m\n",
            "\u001b[32m[I 2021-04-26 08:46:00,800]\u001b[0m Trial 184 finished with value: 15.36395683556164 and parameters: {'Benzene Column C660 Operation_Column Temp Profile_C660 Tray 6 (SD & Control)_oC': 86.47029396641409, 'Benzene Column C660 Operation_Column Temp Profile_C660 Tray 23 (Control)_oC': 89.00368865401124, 'Simulation Case Conditions_Spec 2 : NA in Benzene_ppmw': 979.6760947241559}. Best is trial 39 with value: 14.506771663740887.\u001b[0m\n",
            "\u001b[32m[I 2021-04-26 08:46:00,888]\u001b[0m Trial 185 finished with value: 14.710054545128004 and parameters: {'Benzene Column C660 Operation_Column Temp Profile_C660 Tray 6 (SD & Control)_oC': 86.47165716693064, 'Benzene Column C660 Operation_Column Temp Profile_C660 Tray 23 (Control)_oC': 88.99785550172533, 'Simulation Case Conditions_Spec 2 : NA in Benzene_ppmw': 979.6609169740022}. Best is trial 39 with value: 14.506771663740887.\u001b[0m\n",
            "\u001b[32m[I 2021-04-26 08:46:00,977]\u001b[0m Trial 186 finished with value: 15.29947213736346 and parameters: {'Benzene Column C660 Operation_Column Temp Profile_C660 Tray 6 (SD & Control)_oC': 86.47058029759282, 'Benzene Column C660 Operation_Column Temp Profile_C660 Tray 23 (Control)_oC': 89.00839482481081, 'Simulation Case Conditions_Spec 2 : NA in Benzene_ppmw': 979.6554421954863}. Best is trial 39 with value: 14.506771663740887.\u001b[0m\n",
            "\u001b[32m[I 2021-04-26 08:46:01,064]\u001b[0m Trial 187 finished with value: 14.686677956706342 and parameters: {'Benzene Column C660 Operation_Column Temp Profile_C660 Tray 6 (SD & Control)_oC': 86.47189649321352, 'Benzene Column C660 Operation_Column Temp Profile_C660 Tray 23 (Control)_oC': 89.00358334602102, 'Simulation Case Conditions_Spec 2 : NA in Benzene_ppmw': 979.6648355148163}. Best is trial 39 with value: 14.506771663740887.\u001b[0m\n",
            "\u001b[32m[I 2021-04-26 08:46:01,150]\u001b[0m Trial 188 finished with value: 14.73863409863007 and parameters: {'Benzene Column C660 Operation_Column Temp Profile_C660 Tray 6 (SD & Control)_oC': 86.4720963892015, 'Benzene Column C660 Operation_Column Temp Profile_C660 Tray 23 (Control)_oC': 89.00473252465787, 'Simulation Case Conditions_Spec 2 : NA in Benzene_ppmw': 979.662571932506}. Best is trial 39 with value: 14.506771663740887.\u001b[0m\n",
            "\u001b[32m[I 2021-04-26 08:46:01,239]\u001b[0m Trial 189 finished with value: 14.862821237415718 and parameters: {'Benzene Column C660 Operation_Column Temp Profile_C660 Tray 6 (SD & Control)_oC': 86.47220413160721, 'Benzene Column C660 Operation_Column Temp Profile_C660 Tray 23 (Control)_oC': 89.00115040289593, 'Simulation Case Conditions_Spec 2 : NA in Benzene_ppmw': 979.6672456043739}. Best is trial 39 with value: 14.506771663740887.\u001b[0m\n",
            "\u001b[32m[I 2021-04-26 08:46:01,326]\u001b[0m Trial 190 finished with value: 15.025845480289147 and parameters: {'Benzene Column C660 Operation_Column Temp Profile_C660 Tray 6 (SD & Control)_oC': 86.46935289202094, 'Benzene Column C660 Operation_Column Temp Profile_C660 Tray 23 (Control)_oC': 88.96818915700051, 'Simulation Case Conditions_Spec 2 : NA in Benzene_ppmw': 979.6543646623202}. Best is trial 39 with value: 14.506771663740887.\u001b[0m\n",
            "\u001b[32m[I 2021-04-26 08:46:01,425]\u001b[0m Trial 191 finished with value: 14.779874298014683 and parameters: {'Benzene Column C660 Operation_Column Temp Profile_C660 Tray 6 (SD & Control)_oC': 86.47229746520159, 'Benzene Column C660 Operation_Column Temp Profile_C660 Tray 23 (Control)_oC': 89.00588219429959, 'Simulation Case Conditions_Spec 2 : NA in Benzene_ppmw': 979.6501735187918}. Best is trial 39 with value: 14.506771663740887.\u001b[0m\n",
            "\u001b[32m[I 2021-04-26 08:46:01,507]\u001b[0m Trial 192 finished with value: 14.74150772745466 and parameters: {'Benzene Column C660 Operation_Column Temp Profile_C660 Tray 6 (SD & Control)_oC': 86.4717203224788, 'Benzene Column C660 Operation_Column Temp Profile_C660 Tray 23 (Control)_oC': 88.99923351350473, 'Simulation Case Conditions_Spec 2 : NA in Benzene_ppmw': 979.6932013640476}. Best is trial 39 with value: 14.506771663740887.\u001b[0m\n",
            "\u001b[32m[I 2021-04-26 08:46:01,587]\u001b[0m Trial 193 finished with value: 14.574868378401122 and parameters: {'Benzene Column C660 Operation_Column Temp Profile_C660 Tray 6 (SD & Control)_oC': 86.47244366331284, 'Benzene Column C660 Operation_Column Temp Profile_C660 Tray 23 (Control)_oC': 89.02048389663803, 'Simulation Case Conditions_Spec 2 : NA in Benzene_ppmw': 979.6939175658694}. Best is trial 39 with value: 14.506771663740887.\u001b[0m\n",
            "\u001b[32m[I 2021-04-26 08:46:01,672]\u001b[0m Trial 194 finished with value: 14.81715400308256 and parameters: {'Benzene Column C660 Operation_Column Temp Profile_C660 Tray 6 (SD & Control)_oC': 86.47106734251987, 'Benzene Column C660 Operation_Column Temp Profile_C660 Tray 23 (Control)_oC': 88.98160762145132, 'Simulation Case Conditions_Spec 2 : NA in Benzene_ppmw': 979.6551897460796}. Best is trial 39 with value: 14.506771663740887.\u001b[0m\n",
            "\u001b[32m[I 2021-04-26 08:46:01,755]\u001b[0m Trial 195 finished with value: 14.7492723868919 and parameters: {'Benzene Column C660 Operation_Column Temp Profile_C660 Tray 6 (SD & Control)_oC': 86.4722692017424, 'Benzene Column C660 Operation_Column Temp Profile_C660 Tray 23 (Control)_oC': 89.0082446792717, 'Simulation Case Conditions_Spec 2 : NA in Benzene_ppmw': 979.6781085255318}. Best is trial 39 with value: 14.506771663740887.\u001b[0m\n",
            "\u001b[32m[I 2021-04-26 08:46:01,840]\u001b[0m Trial 196 finished with value: 14.696389375206467 and parameters: {'Benzene Column C660 Operation_Column Temp Profile_C660 Tray 6 (SD & Control)_oC': 86.47054433815175, 'Benzene Column C660 Operation_Column Temp Profile_C660 Tray 23 (Control)_oC': 88.97793770596124, 'Simulation Case Conditions_Spec 2 : NA in Benzene_ppmw': 979.6619935677388}. Best is trial 39 with value: 14.506771663740887.\u001b[0m\n",
            "\u001b[32m[I 2021-04-26 08:46:01,935]\u001b[0m Trial 197 finished with value: 14.774778328186127 and parameters: {'Benzene Column C660 Operation_Column Temp Profile_C660 Tray 6 (SD & Control)_oC': 86.47185130424887, 'Benzene Column C660 Operation_Column Temp Profile_C660 Tray 23 (Control)_oC': 89.01939216993046, 'Simulation Case Conditions_Spec 2 : NA in Benzene_ppmw': 979.6867443805824}. Best is trial 39 with value: 14.506771663740887.\u001b[0m\n",
            "\u001b[32m[I 2021-04-26 08:46:02,021]\u001b[0m Trial 198 finished with value: 15.404409769234778 and parameters: {'Benzene Column C660 Operation_Column Temp Profile_C660 Tray 6 (SD & Control)_oC': 86.47377905464992, 'Benzene Column C660 Operation_Column Temp Profile_C660 Tray 23 (Control)_oC': 89.00565418895148, 'Simulation Case Conditions_Spec 2 : NA in Benzene_ppmw': 979.6799876213219}. Best is trial 39 with value: 14.506771663740887.\u001b[0m\n",
            "\u001b[32m[I 2021-04-26 08:46:02,111]\u001b[0m Trial 199 finished with value: 14.666601426684954 and parameters: {'Benzene Column C660 Operation_Column Temp Profile_C660 Tray 6 (SD & Control)_oC': 86.47222047282227, 'Benzene Column C660 Operation_Column Temp Profile_C660 Tray 23 (Control)_oC': 89.01154533180072, 'Simulation Case Conditions_Spec 2 : NA in Benzene_ppmw': 979.684349037634}. Best is trial 39 with value: 14.506771663740887.\u001b[0m\n",
            "\u001b[32m[I 2021-04-26 08:46:02,189]\u001b[0m Trial 200 finished with value: 14.640314576712797 and parameters: {'Benzene Column C660 Operation_Column Temp Profile_C660 Tray 6 (SD & Control)_oC': 86.47107360017024, 'Benzene Column C660 Operation_Column Temp Profile_C660 Tray 23 (Control)_oC': 88.99539587540887, 'Simulation Case Conditions_Spec 2 : NA in Benzene_ppmw': 979.6852184091119}. Best is trial 39 with value: 14.506771663740887.\u001b[0m\n",
            "\u001b[32m[I 2021-04-26 08:46:02,265]\u001b[0m Trial 201 finished with value: 14.51417571623102 and parameters: {'Benzene Column C660 Operation_Column Temp Profile_C660 Tray 6 (SD & Control)_oC': 86.47323202451831, 'Benzene Column C660 Operation_Column Temp Profile_C660 Tray 23 (Control)_oC': 89.03970494517766, 'Simulation Case Conditions_Spec 2 : NA in Benzene_ppmw': 979.7278074099243}. Best is trial 39 with value: 14.506771663740887.\u001b[0m\n",
            "\u001b[32m[I 2021-04-26 08:46:02,347]\u001b[0m Trial 202 finished with value: 15.00749483279232 and parameters: {'Benzene Column C660 Operation_Column Temp Profile_C660 Tray 6 (SD & Control)_oC': 86.47156292290305, 'Benzene Column C660 Operation_Column Temp Profile_C660 Tray 23 (Control)_oC': 89.02126535393073, 'Simulation Case Conditions_Spec 2 : NA in Benzene_ppmw': 979.6677706705736}. Best is trial 39 with value: 14.506771663740887.\u001b[0m\n",
            "\u001b[32m[I 2021-04-26 08:46:02,438]\u001b[0m Trial 203 finished with value: 14.84573389017593 and parameters: {'Benzene Column C660 Operation_Column Temp Profile_C660 Tray 6 (SD & Control)_oC': 86.47144476187891, 'Benzene Column C660 Operation_Column Temp Profile_C660 Tray 23 (Control)_oC': 88.98945694050731, 'Simulation Case Conditions_Spec 2 : NA in Benzene_ppmw': 979.6973356237313}. Best is trial 39 with value: 14.506771663740887.\u001b[0m\n",
            "\u001b[32m[I 2021-04-26 08:46:02,537]\u001b[0m Trial 204 finished with value: 15.14053473608557 and parameters: {'Benzene Column C660 Operation_Column Temp Profile_C660 Tray 6 (SD & Control)_oC': 86.47225060933988, 'Benzene Column C660 Operation_Column Temp Profile_C660 Tray 23 (Control)_oC': 88.98973635247721, 'Simulation Case Conditions_Spec 2 : NA in Benzene_ppmw': 979.6811588213244}. Best is trial 39 with value: 14.506771663740887.\u001b[0m\n",
            "\u001b[32m[I 2021-04-26 08:46:02,620]\u001b[0m Trial 205 finished with value: 14.9722851637984 and parameters: {'Benzene Column C660 Operation_Column Temp Profile_C660 Tray 6 (SD & Control)_oC': 86.47311626854831, 'Benzene Column C660 Operation_Column Temp Profile_C660 Tray 23 (Control)_oC': 89.01496074357958, 'Simulation Case Conditions_Spec 2 : NA in Benzene_ppmw': 979.7063057704985}. Best is trial 39 with value: 14.506771663740887.\u001b[0m\n",
            "\u001b[32m[I 2021-04-26 08:46:02,702]\u001b[0m Trial 206 finished with value: 15.36975767594358 and parameters: {'Benzene Column C660 Operation_Column Temp Profile_C660 Tray 6 (SD & Control)_oC': 86.47121818766938, 'Benzene Column C660 Operation_Column Temp Profile_C660 Tray 23 (Control)_oC': 89.02626206216762, 'Simulation Case Conditions_Spec 2 : NA in Benzene_ppmw': 979.6989080064878}. Best is trial 39 with value: 14.506771663740887.\u001b[0m\n",
            "\u001b[32m[I 2021-04-26 08:46:02,788]\u001b[0m Trial 207 finished with value: 15.14990678289613 and parameters: {'Benzene Column C660 Operation_Column Temp Profile_C660 Tray 6 (SD & Control)_oC': 86.47074376541448, 'Benzene Column C660 Operation_Column Temp Profile_C660 Tray 23 (Control)_oC': 89.0061221045706, 'Simulation Case Conditions_Spec 2 : NA in Benzene_ppmw': 979.7390204217489}. Best is trial 39 with value: 14.506771663740887.\u001b[0m\n",
            "\u001b[32m[I 2021-04-26 08:46:02,881]\u001b[0m Trial 208 finished with value: 15.186332512089221 and parameters: {'Benzene Column C660 Operation_Column Temp Profile_C660 Tray 6 (SD & Control)_oC': 86.47419698756829, 'Benzene Column C660 Operation_Column Temp Profile_C660 Tray 23 (Control)_oC': 89.02496221415348, 'Simulation Case Conditions_Spec 2 : NA in Benzene_ppmw': 979.7064064743154}. Best is trial 39 with value: 14.506771663740887.\u001b[0m\n",
            "\u001b[32m[I 2021-04-26 08:46:02,967]\u001b[0m Trial 209 finished with value: 14.826721163022572 and parameters: {'Benzene Column C660 Operation_Column Temp Profile_C660 Tray 6 (SD & Control)_oC': 86.47133348203798, 'Benzene Column C660 Operation_Column Temp Profile_C660 Tray 23 (Control)_oC': 88.98709335099228, 'Simulation Case Conditions_Spec 2 : NA in Benzene_ppmw': 979.6744421944364}. Best is trial 39 with value: 14.506771663740887.\u001b[0m\n",
            "\u001b[32m[I 2021-04-26 08:46:03,057]\u001b[0m Trial 210 finished with value: 14.658735847932347 and parameters: {'Benzene Column C660 Operation_Column Temp Profile_C660 Tray 6 (SD & Control)_oC': 86.4763675539862, 'Benzene Column C660 Operation_Column Temp Profile_C660 Tray 23 (Control)_oC': 89.09166608659571, 'Simulation Case Conditions_Spec 2 : NA in Benzene_ppmw': 979.7408548182368}. Best is trial 39 with value: 14.506771663740887.\u001b[0m\n",
            "\u001b[32m[I 2021-04-26 08:46:03,147]\u001b[0m Trial 211 finished with value: 15.213104099427449 and parameters: {'Benzene Column C660 Operation_Column Temp Profile_C660 Tray 6 (SD & Control)_oC': 86.47470851444528, 'Benzene Column C660 Operation_Column Temp Profile_C660 Tray 23 (Control)_oC': 89.03344467659517, 'Simulation Case Conditions_Spec 2 : NA in Benzene_ppmw': 979.7112814836722}. Best is trial 39 with value: 14.506771663740887.\u001b[0m\n",
            "\u001b[32m[I 2021-04-26 08:46:03,231]\u001b[0m Trial 212 finished with value: 15.011704265471927 and parameters: {'Benzene Column C660 Operation_Column Temp Profile_C660 Tray 6 (SD & Control)_oC': 86.4781022032317, 'Benzene Column C660 Operation_Column Temp Profile_C660 Tray 23 (Control)_oC': 89.10754272891457, 'Simulation Case Conditions_Spec 2 : NA in Benzene_ppmw': 979.7460392196434}. Best is trial 39 with value: 14.506771663740887.\u001b[0m\n",
            "\u001b[32m[I 2021-04-26 08:46:03,313]\u001b[0m Trial 213 finished with value: 14.404938431887212 and parameters: {'Benzene Column C660 Operation_Column Temp Profile_C660 Tray 6 (SD & Control)_oC': 86.47463726268809, 'Benzene Column C660 Operation_Column Temp Profile_C660 Tray 23 (Control)_oC': 89.0729993788922, 'Simulation Case Conditions_Spec 2 : NA in Benzene_ppmw': 979.7401406950494}. Best is trial 213 with value: 14.404938431887212.\u001b[0m\n",
            "\u001b[32m[I 2021-04-26 08:46:03,399]\u001b[0m Trial 214 finished with value: 14.578723366102867 and parameters: {'Benzene Column C660 Operation_Column Temp Profile_C660 Tray 6 (SD & Control)_oC': 86.47405562717907, 'Benzene Column C660 Operation_Column Temp Profile_C660 Tray 23 (Control)_oC': 89.05219910630036, 'Simulation Case Conditions_Spec 2 : NA in Benzene_ppmw': 979.7330327233366}. Best is trial 213 with value: 14.404938431887212.\u001b[0m\n",
            "\u001b[32m[I 2021-04-26 08:46:03,489]\u001b[0m Trial 215 finished with value: 15.201609618744147 and parameters: {'Benzene Column C660 Operation_Column Temp Profile_C660 Tray 6 (SD & Control)_oC': 86.46904866358098, 'Benzene Column C660 Operation_Column Temp Profile_C660 Tray 23 (Control)_oC': 88.96714108150995, 'Simulation Case Conditions_Spec 2 : NA in Benzene_ppmw': 979.6878171993848}. Best is trial 213 with value: 14.404938431887212.\u001b[0m\n",
            "\u001b[32m[I 2021-04-26 08:46:03,584]\u001b[0m Trial 216 finished with value: 14.42594936710998 and parameters: {'Benzene Column C660 Operation_Column Temp Profile_C660 Tray 6 (SD & Control)_oC': 86.47469760981866, 'Benzene Column C660 Operation_Column Temp Profile_C660 Tray 23 (Control)_oC': 89.07523733279024, 'Simulation Case Conditions_Spec 2 : NA in Benzene_ppmw': 979.7430858150634}. Best is trial 213 with value: 14.404938431887212.\u001b[0m\n",
            "\u001b[32m[I 2021-04-26 08:46:03,676]\u001b[0m Trial 217 finished with value: 14.834217601372767 and parameters: {'Benzene Column C660 Operation_Column Temp Profile_C660 Tray 6 (SD & Control)_oC': 86.47258715154636, 'Benzene Column C660 Operation_Column Temp Profile_C660 Tray 23 (Control)_oC': 89.03906266564233, 'Simulation Case Conditions_Spec 2 : NA in Benzene_ppmw': 979.7539432959531}. Best is trial 213 with value: 14.404938431887212.\u001b[0m\n",
            "\u001b[32m[I 2021-04-26 08:46:03,765]\u001b[0m Trial 218 finished with value: 14.52616390232077 and parameters: {'Benzene Column C660 Operation_Column Temp Profile_C660 Tray 6 (SD & Control)_oC': 86.47329111151736, 'Benzene Column C660 Operation_Column Temp Profile_C660 Tray 23 (Control)_oC': 89.04085757778894, 'Simulation Case Conditions_Spec 2 : NA in Benzene_ppmw': 979.7397455313402}. Best is trial 213 with value: 14.404938431887212.\u001b[0m\n",
            "\u001b[32m[I 2021-04-26 08:46:03,854]\u001b[0m Trial 219 finished with value: 14.819135498812997 and parameters: {'Benzene Column C660 Operation_Column Temp Profile_C660 Tray 6 (SD & Control)_oC': 86.47231947356316, 'Benzene Column C660 Operation_Column Temp Profile_C660 Tray 23 (Control)_oC': 89.03240254263329, 'Simulation Case Conditions_Spec 2 : NA in Benzene_ppmw': 979.6964522693926}. Best is trial 213 with value: 14.404938431887212.\u001b[0m\n",
            "\u001b[32m[I 2021-04-26 08:46:03,930]\u001b[0m Trial 220 finished with value: 14.851789332596947 and parameters: {'Benzene Column C660 Operation_Column Temp Profile_C660 Tray 6 (SD & Control)_oC': 86.4755929175733, 'Benzene Column C660 Operation_Column Temp Profile_C660 Tray 23 (Control)_oC': 89.0666116212854, 'Simulation Case Conditions_Spec 2 : NA in Benzene_ppmw': 979.7089332181171}. Best is trial 213 with value: 14.404938431887212.\u001b[0m\n",
            "\u001b[32m[I 2021-04-26 08:46:04,011]\u001b[0m Trial 221 finished with value: 14.729720900288093 and parameters: {'Benzene Column C660 Operation_Column Temp Profile_C660 Tray 6 (SD & Control)_oC': 86.47190197246383, 'Benzene Column C660 Operation_Column Temp Profile_C660 Tray 23 (Control)_oC': 89.01882375388118, 'Simulation Case Conditions_Spec 2 : NA in Benzene_ppmw': 979.7021657139449}. Best is trial 213 with value: 14.404938431887212.\u001b[0m\n",
            "\u001b[32m[I 2021-04-26 08:46:04,094]\u001b[0m Trial 222 finished with value: 14.500931657053723 and parameters: {'Benzene Column C660 Operation_Column Temp Profile_C660 Tray 6 (SD & Control)_oC': 86.47583350522208, 'Benzene Column C660 Operation_Column Temp Profile_C660 Tray 23 (Control)_oC': 89.10556348003276, 'Simulation Case Conditions_Spec 2 : NA in Benzene_ppmw': 979.7658813543434}. Best is trial 213 with value: 14.404938431887212.\u001b[0m\n",
            "\u001b[32m[I 2021-04-26 08:46:04,176]\u001b[0m Trial 223 finished with value: 14.56987809749726 and parameters: {'Benzene Column C660 Operation_Column Temp Profile_C660 Tray 6 (SD & Control)_oC': 86.47546860169464, 'Benzene Column C660 Operation_Column Temp Profile_C660 Tray 23 (Control)_oC': 89.07985557445086, 'Simulation Case Conditions_Spec 2 : NA in Benzene_ppmw': 979.753685998187}. Best is trial 213 with value: 14.404938431887212.\u001b[0m\n",
            "\u001b[32m[I 2021-04-26 08:46:04,260]\u001b[0m Trial 224 finished with value: 14.69737111265643 and parameters: {'Benzene Column C660 Operation_Column Temp Profile_C660 Tray 6 (SD & Control)_oC': 86.47598143237981, 'Benzene Column C660 Operation_Column Temp Profile_C660 Tray 23 (Control)_oC': 89.11634911178662, 'Simulation Case Conditions_Spec 2 : NA in Benzene_ppmw': 979.7938826330154}. Best is trial 213 with value: 14.404938431887212.\u001b[0m\n",
            "\u001b[32m[I 2021-04-26 08:46:04,345]\u001b[0m Trial 225 finished with value: 14.688560396975316 and parameters: {'Benzene Column C660 Operation_Column Temp Profile_C660 Tray 6 (SD & Control)_oC': 86.47403303213453, 'Benzene Column C660 Operation_Column Temp Profile_C660 Tray 23 (Control)_oC': 89.0479369385903, 'Simulation Case Conditions_Spec 2 : NA in Benzene_ppmw': 979.7581120607132}. Best is trial 213 with value: 14.404938431887212.\u001b[0m\n",
            "\u001b[32m[I 2021-04-26 08:46:04,429]\u001b[0m Trial 226 finished with value: 15.107446079000555 and parameters: {'Benzene Column C660 Operation_Column Temp Profile_C660 Tray 6 (SD & Control)_oC': 86.47038970296119, 'Benzene Column C660 Operation_Column Temp Profile_C660 Tray 23 (Control)_oC': 88.99657405974814, 'Simulation Case Conditions_Spec 2 : NA in Benzene_ppmw': 979.6485047980142}. Best is trial 213 with value: 14.404938431887212.\u001b[0m\n",
            "\u001b[32m[I 2021-04-26 08:46:04,514]\u001b[0m Trial 227 finished with value: 14.54444522373097 and parameters: {'Benzene Column C660 Operation_Column Temp Profile_C660 Tray 6 (SD & Control)_oC': 86.47782077197712, 'Benzene Column C660 Operation_Column Temp Profile_C660 Tray 23 (Control)_oC': 89.15547543155203, 'Simulation Case Conditions_Spec 2 : NA in Benzene_ppmw': 979.7877047217507}. Best is trial 213 with value: 14.404938431887212.\u001b[0m\n",
            "\u001b[32m[I 2021-04-26 08:46:04,595]\u001b[0m Trial 228 finished with value: 14.859359721682244 and parameters: {'Benzene Column C660 Operation_Column Temp Profile_C660 Tray 6 (SD & Control)_oC': 86.47619331523029, 'Benzene Column C660 Operation_Column Temp Profile_C660 Tray 23 (Control)_oC': 89.12788031053975, 'Simulation Case Conditions_Spec 2 : NA in Benzene_ppmw': 979.7569625016364}. Best is trial 213 with value: 14.404938431887212.\u001b[0m\n",
            "\u001b[32m[I 2021-04-26 08:46:04,673]\u001b[0m Trial 229 finished with value: 15.584016362467127 and parameters: {'Benzene Column C660 Operation_Column Temp Profile_C660 Tray 6 (SD & Control)_oC': 86.47563764426233, 'Benzene Column C660 Operation_Column Temp Profile_C660 Tray 23 (Control)_oC': 89.14093755966532, 'Simulation Case Conditions_Spec 2 : NA in Benzene_ppmw': 979.8492687922383}. Best is trial 213 with value: 14.404938431887212.\u001b[0m\n",
            "\u001b[32m[I 2021-04-26 08:46:04,758]\u001b[0m Trial 230 finished with value: 14.864384383975525 and parameters: {'Benzene Column C660 Operation_Column Temp Profile_C660 Tray 6 (SD & Control)_oC': 86.47683387761049, 'Benzene Column C660 Operation_Column Temp Profile_C660 Tray 23 (Control)_oC': 89.14303204730149, 'Simulation Case Conditions_Spec 2 : NA in Benzene_ppmw': 979.8438325781261}. Best is trial 213 with value: 14.404938431887212.\u001b[0m\n",
            "\u001b[32m[I 2021-04-26 08:46:04,845]\u001b[0m Trial 231 finished with value: 14.510662966363043 and parameters: {'Benzene Column C660 Operation_Column Temp Profile_C660 Tray 6 (SD & Control)_oC': 86.47546615505081, 'Benzene Column C660 Operation_Column Temp Profile_C660 Tray 23 (Control)_oC': 89.08074354577806, 'Simulation Case Conditions_Spec 2 : NA in Benzene_ppmw': 979.7183511912641}. Best is trial 213 with value: 14.404938431887212.\u001b[0m\n",
            "\u001b[32m[I 2021-04-26 08:46:04,939]\u001b[0m Trial 232 finished with value: 14.449536758355404 and parameters: {'Benzene Column C660 Operation_Column Temp Profile_C660 Tray 6 (SD & Control)_oC': 86.4776383118408, 'Benzene Column C660 Operation_Column Temp Profile_C660 Tray 23 (Control)_oC': 89.12567360705498, 'Simulation Case Conditions_Spec 2 : NA in Benzene_ppmw': 979.7535158017798}. Best is trial 213 with value: 14.404938431887212.\u001b[0m\n",
            "\u001b[32m[I 2021-04-26 08:46:05,021]\u001b[0m Trial 233 finished with value: 14.46652580343838 and parameters: {'Benzene Column C660 Operation_Column Temp Profile_C660 Tray 6 (SD & Control)_oC': 86.47337643998995, 'Benzene Column C660 Operation_Column Temp Profile_C660 Tray 23 (Control)_oC': 89.04295803506668, 'Simulation Case Conditions_Spec 2 : NA in Benzene_ppmw': 979.696067560156}. Best is trial 213 with value: 14.404938431887212.\u001b[0m\n",
            "\u001b[32m[I 2021-04-26 08:46:05,122]\u001b[0m Trial 234 finished with value: 15.495633510121365 and parameters: {'Benzene Column C660 Operation_Column Temp Profile_C660 Tray 6 (SD & Control)_oC': 86.47239439928963, 'Benzene Column C660 Operation_Column Temp Profile_C660 Tray 23 (Control)_oC': 89.05958975623626, 'Simulation Case Conditions_Spec 2 : NA in Benzene_ppmw': 979.7108674366855}. Best is trial 213 with value: 14.404938431887212.\u001b[0m\n",
            "\u001b[32m[I 2021-04-26 08:46:05,203]\u001b[0m Trial 235 finished with value: 14.73773543512506 and parameters: {'Benzene Column C660 Operation_Column Temp Profile_C660 Tray 6 (SD & Control)_oC': 86.47484029283721, 'Benzene Column C660 Operation_Column Temp Profile_C660 Tray 23 (Control)_oC': 89.0570678078081, 'Simulation Case Conditions_Spec 2 : NA in Benzene_ppmw': 979.6907832336003}. Best is trial 213 with value: 14.404938431887212.\u001b[0m\n",
            "\u001b[32m[I 2021-04-26 08:46:05,285]\u001b[0m Trial 236 finished with value: 14.51945182517366 and parameters: {'Benzene Column C660 Operation_Column Temp Profile_C660 Tray 6 (SD & Control)_oC': 86.47366328704412, 'Benzene Column C660 Operation_Column Temp Profile_C660 Tray 23 (Control)_oC': 89.04610017207152, 'Simulation Case Conditions_Spec 2 : NA in Benzene_ppmw': 979.7020854613133}. Best is trial 213 with value: 14.404938431887212.\u001b[0m\n",
            "\u001b[32m[I 2021-04-26 08:46:05,362]\u001b[0m Trial 237 finished with value: 14.656525528838293 and parameters: {'Benzene Column C660 Operation_Column Temp Profile_C660 Tray 6 (SD & Control)_oC': 86.47601595241667, 'Benzene Column C660 Operation_Column Temp Profile_C660 Tray 23 (Control)_oC': 89.11582860346923, 'Simulation Case Conditions_Spec 2 : NA in Benzene_ppmw': 979.7699464275703}. Best is trial 213 with value: 14.404938431887212.\u001b[0m\n",
            "\u001b[32m[I 2021-04-26 08:46:05,460]\u001b[0m Trial 238 finished with value: 15.121413295814621 and parameters: {'Benzene Column C660 Operation_Column Temp Profile_C660 Tray 6 (SD & Control)_oC': 86.47717133270147, 'Benzene Column C660 Operation_Column Temp Profile_C660 Tray 23 (Control)_oC': 89.1613592358951, 'Simulation Case Conditions_Spec 2 : NA in Benzene_ppmw': 979.7870975281016}. Best is trial 213 with value: 14.404938431887212.\u001b[0m\n",
            "\u001b[32m[I 2021-04-26 08:46:05,558]\u001b[0m Trial 239 finished with value: 14.39849088082451 and parameters: {'Benzene Column C660 Operation_Column Temp Profile_C660 Tray 6 (SD & Control)_oC': 86.47430232150701, 'Benzene Column C660 Operation_Column Temp Profile_C660 Tray 23 (Control)_oC': 89.06382607014953, 'Simulation Case Conditions_Spec 2 : NA in Benzene_ppmw': 979.7061864236993}. Best is trial 239 with value: 14.39849088082451.\u001b[0m\n",
            "\u001b[32m[I 2021-04-26 08:46:05,644]\u001b[0m Trial 240 finished with value: 14.579912837946923 and parameters: {'Benzene Column C660 Operation_Column Temp Profile_C660 Tray 6 (SD & Control)_oC': 86.47532075112714, 'Benzene Column C660 Operation_Column Temp Profile_C660 Tray 23 (Control)_oC': 89.07576579178601, 'Simulation Case Conditions_Spec 2 : NA in Benzene_ppmw': 979.73675022426}. Best is trial 239 with value: 14.39849088082451.\u001b[0m\n",
            "\u001b[32m[I 2021-04-26 08:46:05,738]\u001b[0m Trial 241 finished with value: 14.42658572791787 and parameters: {'Benzene Column C660 Operation_Column Temp Profile_C660 Tray 6 (SD & Control)_oC': 86.47498376569766, 'Benzene Column C660 Operation_Column Temp Profile_C660 Tray 23 (Control)_oC': 89.07625064441517, 'Simulation Case Conditions_Spec 2 : NA in Benzene_ppmw': 979.7276943536131}. Best is trial 239 with value: 14.39849088082451.\u001b[0m\n",
            "\u001b[32m[I 2021-04-26 08:46:05,828]\u001b[0m Trial 242 finished with value: 14.602586670225225 and parameters: {'Benzene Column C660 Operation_Column Temp Profile_C660 Tray 6 (SD & Control)_oC': 86.47810307674989, 'Benzene Column C660 Operation_Column Temp Profile_C660 Tray 23 (Control)_oC': 89.12631410458309, 'Simulation Case Conditions_Spec 2 : NA in Benzene_ppmw': 979.7383899285718}. Best is trial 239 with value: 14.39849088082451.\u001b[0m\n",
            "\u001b[32m[I 2021-04-26 08:46:05,919]\u001b[0m Trial 243 finished with value: 14.850484380942516 and parameters: {'Benzene Column C660 Operation_Column Temp Profile_C660 Tray 6 (SD & Control)_oC': 86.47318537217696, 'Benzene Column C660 Operation_Column Temp Profile_C660 Tray 23 (Control)_oC': 89.05453070330883, 'Simulation Case Conditions_Spec 2 : NA in Benzene_ppmw': 979.7164790912693}. Best is trial 239 with value: 14.39849088082451.\u001b[0m\n",
            "\u001b[32m[I 2021-04-26 08:46:06,007]\u001b[0m Trial 244 finished with value: 14.620523884227152 and parameters: {'Benzene Column C660 Operation_Column Temp Profile_C660 Tray 6 (SD & Control)_oC': 86.47646442433333, 'Benzene Column C660 Operation_Column Temp Profile_C660 Tray 23 (Control)_oC': 89.09332896874014, 'Simulation Case Conditions_Spec 2 : NA in Benzene_ppmw': 979.7038481542714}. Best is trial 239 with value: 14.39849088082451.\u001b[0m\n",
            "\u001b[32m[I 2021-04-26 08:46:06,088]\u001b[0m Trial 245 finished with value: 14.473340393723111 and parameters: {'Benzene Column C660 Operation_Column Temp Profile_C660 Tray 6 (SD & Control)_oC': 86.48097230319082, 'Benzene Column C660 Operation_Column Temp Profile_C660 Tray 23 (Control)_oC': 89.18714492624294, 'Simulation Case Conditions_Spec 2 : NA in Benzene_ppmw': 979.7698919107446}. Best is trial 239 with value: 14.39849088082451.\u001b[0m\n",
            "\u001b[32m[I 2021-04-26 08:46:06,171]\u001b[0m Trial 246 finished with value: 14.529840151482347 and parameters: {'Benzene Column C660 Operation_Column Temp Profile_C660 Tray 6 (SD & Control)_oC': 86.47341370239981, 'Benzene Column C660 Operation_Column Temp Profile_C660 Tray 23 (Control)_oC': 89.04134191835946, 'Simulation Case Conditions_Spec 2 : NA in Benzene_ppmw': 979.7087586407891}. Best is trial 239 with value: 14.39849088082451.\u001b[0m\n",
            "\u001b[32m[I 2021-04-26 08:46:06,247]\u001b[0m Trial 247 finished with value: 14.447803532457527 and parameters: {'Benzene Column C660 Operation_Column Temp Profile_C660 Tray 6 (SD & Control)_oC': 86.47686998922018, 'Benzene Column C660 Operation_Column Temp Profile_C660 Tray 23 (Control)_oC': 89.11095653681271, 'Simulation Case Conditions_Spec 2 : NA in Benzene_ppmw': 979.7426985863569}. Best is trial 239 with value: 14.39849088082451.\u001b[0m\n",
            "\u001b[32m[I 2021-04-26 08:46:06,430]\u001b[0m Trial 248 finished with value: 14.876441874856758 and parameters: {'Benzene Column C660 Operation_Column Temp Profile_C660 Tray 6 (SD & Control)_oC': 86.4730322721682, 'Benzene Column C660 Operation_Column Temp Profile_C660 Tray 23 (Control)_oC': 89.01575379874174, 'Simulation Case Conditions_Spec 2 : NA in Benzene_ppmw': 979.6653103831917}. Best is trial 239 with value: 14.39849088082451.\u001b[0m\n",
            "\u001b[32m[I 2021-04-26 08:46:06,515]\u001b[0m Trial 249 finished with value: 14.63382927125875 and parameters: {'Benzene Column C660 Operation_Column Temp Profile_C660 Tray 6 (SD & Control)_oC': 86.47556605400808, 'Benzene Column C660 Operation_Column Temp Profile_C660 Tray 23 (Control)_oC': 89.07712317757527, 'Simulation Case Conditions_Spec 2 : NA in Benzene_ppmw': 979.7242160955583}. Best is trial 239 with value: 14.39849088082451.\u001b[0m\n",
            "\u001b[32m[I 2021-04-26 08:46:06,603]\u001b[0m Trial 250 finished with value: 14.594799023146312 and parameters: {'Benzene Column C660 Operation_Column Temp Profile_C660 Tray 6 (SD & Control)_oC': 86.47817873307376, 'Benzene Column C660 Operation_Column Temp Profile_C660 Tray 23 (Control)_oC': 89.12996052303109, 'Simulation Case Conditions_Spec 2 : NA in Benzene_ppmw': 979.7744538629955}. Best is trial 239 with value: 14.39849088082451.\u001b[0m\n",
            "\u001b[32m[I 2021-04-26 08:46:06,689]\u001b[0m Trial 251 finished with value: 14.620550452999073 and parameters: {'Benzene Column C660 Operation_Column Temp Profile_C660 Tray 6 (SD & Control)_oC': 86.47420632154882, 'Benzene Column C660 Operation_Column Temp Profile_C660 Tray 23 (Control)_oC': 89.07050417693412, 'Simulation Case Conditions_Spec 2 : NA in Benzene_ppmw': 979.7524532908994}. Best is trial 239 with value: 14.39849088082451.\u001b[0m\n",
            "\u001b[32m[I 2021-04-26 08:46:06,781]\u001b[0m Trial 252 finished with value: 14.45343690392391 and parameters: {'Benzene Column C660 Operation_Column Temp Profile_C660 Tray 6 (SD & Control)_oC': 86.47568071670783, 'Benzene Column C660 Operation_Column Temp Profile_C660 Tray 23 (Control)_oC': 89.08686916599385, 'Simulation Case Conditions_Spec 2 : NA in Benzene_ppmw': 979.7081298383781}. Best is trial 239 with value: 14.39849088082451.\u001b[0m\n",
            "\u001b[32m[I 2021-04-26 08:46:06,877]\u001b[0m Trial 253 finished with value: 14.311208923715638 and parameters: {'Benzene Column C660 Operation_Column Temp Profile_C660 Tray 6 (SD & Control)_oC': 86.47570277873722, 'Benzene Column C660 Operation_Column Temp Profile_C660 Tray 23 (Control)_oC': 89.09558346484881, 'Simulation Case Conditions_Spec 2 : NA in Benzene_ppmw': 979.7220222635978}. Best is trial 253 with value: 14.311208923715638.\u001b[0m\n",
            "\u001b[32m[I 2021-04-26 08:46:06,956]\u001b[0m Trial 254 finished with value: 14.605703601687027 and parameters: {'Benzene Column C660 Operation_Column Temp Profile_C660 Tray 6 (SD & Control)_oC': 86.47601254708928, 'Benzene Column C660 Operation_Column Temp Profile_C660 Tray 23 (Control)_oC': 89.08610982849731, 'Simulation Case Conditions_Spec 2 : NA in Benzene_ppmw': 979.7126571404879}. Best is trial 253 with value: 14.311208923715638.\u001b[0m\n",
            "\u001b[32m[I 2021-04-26 08:46:07,049]\u001b[0m Trial 255 finished with value: 14.369697157662896 and parameters: {'Benzene Column C660 Operation_Column Temp Profile_C660 Tray 6 (SD & Control)_oC': 86.47684532032312, 'Benzene Column C660 Operation_Column Temp Profile_C660 Tray 23 (Control)_oC': 89.11363014653494, 'Simulation Case Conditions_Spec 2 : NA in Benzene_ppmw': 979.732340534694}. Best is trial 253 with value: 14.311208923715638.\u001b[0m\n",
            "\u001b[32m[I 2021-04-26 08:46:07,127]\u001b[0m Trial 256 finished with value: 14.862311412669635 and parameters: {'Benzene Column C660 Operation_Column Temp Profile_C660 Tray 6 (SD & Control)_oC': 86.47862070461504, 'Benzene Column C660 Operation_Column Temp Profile_C660 Tray 23 (Control)_oC': 89.1259588449947, 'Simulation Case Conditions_Spec 2 : NA in Benzene_ppmw': 979.781057448399}. Best is trial 253 with value: 14.311208923715638.\u001b[0m\n",
            "\u001b[32m[I 2021-04-26 08:46:07,204]\u001b[0m Trial 257 finished with value: 14.755307850944885 and parameters: {'Benzene Column C660 Operation_Column Temp Profile_C660 Tray 6 (SD & Control)_oC': 86.47442324339758, 'Benzene Column C660 Operation_Column Temp Profile_C660 Tray 23 (Control)_oC': 89.04937278198265, 'Simulation Case Conditions_Spec 2 : NA in Benzene_ppmw': 979.7071912647607}. Best is trial 253 with value: 14.311208923715638.\u001b[0m\n",
            "\u001b[32m[I 2021-04-26 08:46:07,288]\u001b[0m Trial 258 finished with value: 14.243994442209672 and parameters: {'Benzene Column C660 Operation_Column Temp Profile_C660 Tray 6 (SD & Control)_oC': 86.47824924883433, 'Benzene Column C660 Operation_Column Temp Profile_C660 Tray 23 (Control)_oC': 89.14880114966373, 'Simulation Case Conditions_Spec 2 : NA in Benzene_ppmw': 979.7950655589987}. Best is trial 258 with value: 14.243994442209672.\u001b[0m\n",
            "\u001b[32m[I 2021-04-26 08:46:07,378]\u001b[0m Trial 259 finished with value: 14.659225285079602 and parameters: {'Benzene Column C660 Operation_Column Temp Profile_C660 Tray 6 (SD & Control)_oC': 86.47448675494658, 'Benzene Column C660 Operation_Column Temp Profile_C660 Tray 23 (Control)_oC': 89.05446831321703, 'Simulation Case Conditions_Spec 2 : NA in Benzene_ppmw': 979.6959657503871}. Best is trial 258 with value: 14.243994442209672.\u001b[0m\n",
            "\u001b[32m[I 2021-04-26 08:46:07,471]\u001b[0m Trial 260 finished with value: 14.388752929639532 and parameters: {'Benzene Column C660 Operation_Column Temp Profile_C660 Tray 6 (SD & Control)_oC': 86.47792714641717, 'Benzene Column C660 Operation_Column Temp Profile_C660 Tray 23 (Control)_oC': 89.13362823020665, 'Simulation Case Conditions_Spec 2 : NA in Benzene_ppmw': 979.7488598268187}. Best is trial 258 with value: 14.243994442209672.\u001b[0m\n",
            "\u001b[32m[I 2021-04-26 08:46:07,554]\u001b[0m Trial 261 finished with value: 14.478996420213697 and parameters: {'Benzene Column C660 Operation_Column Temp Profile_C660 Tray 6 (SD & Control)_oC': 86.47566749305255, 'Benzene Column C660 Operation_Column Temp Profile_C660 Tray 23 (Control)_oC': 89.08712368990687, 'Simulation Case Conditions_Spec 2 : NA in Benzene_ppmw': 979.7405343351646}. Best is trial 258 with value: 14.243994442209672.\u001b[0m\n",
            "\u001b[32m[I 2021-04-26 08:46:07,645]\u001b[0m Trial 262 finished with value: 14.487054407381066 and parameters: {'Benzene Column C660 Operation_Column Temp Profile_C660 Tray 6 (SD & Control)_oC': 86.47609996375593, 'Benzene Column C660 Operation_Column Temp Profile_C660 Tray 23 (Control)_oC': 89.09530042930749, 'Simulation Case Conditions_Spec 2 : NA in Benzene_ppmw': 979.7511735436069}. Best is trial 258 with value: 14.243994442209672.\u001b[0m\n",
            "\u001b[32m[I 2021-04-26 08:46:07,732]\u001b[0m Trial 263 finished with value: 14.506843719851211 and parameters: {'Benzene Column C660 Operation_Column Temp Profile_C660 Tray 6 (SD & Control)_oC': 86.47680130343426, 'Benzene Column C660 Operation_Column Temp Profile_C660 Tray 23 (Control)_oC': 89.1082253112358, 'Simulation Case Conditions_Spec 2 : NA in Benzene_ppmw': 979.7677426845299}. Best is trial 258 with value: 14.243994442209672.\u001b[0m\n",
            "\u001b[32m[I 2021-04-26 08:46:07,819]\u001b[0m Trial 264 finished with value: 14.225253566170627 and parameters: {'Benzene Column C660 Operation_Column Temp Profile_C660 Tray 6 (SD & Control)_oC': 86.47740685348909, 'Benzene Column C660 Operation_Column Temp Profile_C660 Tray 23 (Control)_oC': 89.13366688705274, 'Simulation Case Conditions_Spec 2 : NA in Benzene_ppmw': 979.7516844463322}. Best is trial 264 with value: 14.225253566170627.\u001b[0m\n",
            "\u001b[32m[I 2021-04-26 08:46:07,909]\u001b[0m Trial 265 finished with value: 14.377835060432297 and parameters: {'Benzene Column C660 Operation_Column Temp Profile_C660 Tray 6 (SD & Control)_oC': 86.4789820860504, 'Benzene Column C660 Operation_Column Temp Profile_C660 Tray 23 (Control)_oC': 89.15350573233235, 'Simulation Case Conditions_Spec 2 : NA in Benzene_ppmw': 979.7456207126336}. Best is trial 264 with value: 14.225253566170627.\u001b[0m\n",
            "\u001b[32m[I 2021-04-26 08:46:07,993]\u001b[0m Trial 266 finished with value: 14.223894835200321 and parameters: {'Benzene Column C660 Operation_Column Temp Profile_C660 Tray 6 (SD & Control)_oC': 86.478954174171, 'Benzene Column C660 Operation_Column Temp Profile_C660 Tray 23 (Control)_oC': 89.16448831109301, 'Simulation Case Conditions_Spec 2 : NA in Benzene_ppmw': 979.8275472110743}. Best is trial 266 with value: 14.223894835200321.\u001b[0m\n",
            "\u001b[32m[I 2021-04-26 08:46:08,073]\u001b[0m Trial 267 finished with value: 14.413580266860754 and parameters: {'Benzene Column C660 Operation_Column Temp Profile_C660 Tray 6 (SD & Control)_oC': 86.48033370595844, 'Benzene Column C660 Operation_Column Temp Profile_C660 Tray 23 (Control)_oC': 89.18001397022798, 'Simulation Case Conditions_Spec 2 : NA in Benzene_ppmw': 979.806184850085}. Best is trial 266 with value: 14.223894835200321.\u001b[0m\n",
            "\u001b[32m[I 2021-04-26 08:46:08,152]\u001b[0m Trial 268 finished with value: 14.291020210546096 and parameters: {'Benzene Column C660 Operation_Column Temp Profile_C660 Tray 6 (SD & Control)_oC': 86.48051465845516, 'Benzene Column C660 Operation_Column Temp Profile_C660 Tray 23 (Control)_oC': 89.19032370774221, 'Simulation Case Conditions_Spec 2 : NA in Benzene_ppmw': 979.8294265358122}. Best is trial 266 with value: 14.223894835200321.\u001b[0m\n",
            "\u001b[32m[I 2021-04-26 08:46:08,233]\u001b[0m Trial 269 finished with value: 14.167619930017278 and parameters: {'Benzene Column C660 Operation_Column Temp Profile_C660 Tray 6 (SD & Control)_oC': 86.48145097529999, 'Benzene Column C660 Operation_Column Temp Profile_C660 Tray 23 (Control)_oC': 89.2290049452717, 'Simulation Case Conditions_Spec 2 : NA in Benzene_ppmw': 979.8951767255584}. Best is trial 269 with value: 14.167619930017278.\u001b[0m\n",
            "\u001b[32m[I 2021-04-26 08:46:08,317]\u001b[0m Trial 270 finished with value: 14.36735182578885 and parameters: {'Benzene Column C660 Operation_Column Temp Profile_C660 Tray 6 (SD & Control)_oC': 86.47912782501903, 'Benzene Column C660 Operation_Column Temp Profile_C660 Tray 23 (Control)_oC': 89.1805312979932, 'Simulation Case Conditions_Spec 2 : NA in Benzene_ppmw': 979.8081748990953}. Best is trial 269 with value: 14.167619930017278.\u001b[0m\n",
            "\u001b[32m[I 2021-04-26 08:46:08,408]\u001b[0m Trial 271 finished with value: 14.330570804779892 and parameters: {'Benzene Column C660 Operation_Column Temp Profile_C660 Tray 6 (SD & Control)_oC': 86.47698768897547, 'Benzene Column C660 Operation_Column Temp Profile_C660 Tray 23 (Control)_oC': 89.12685594525352, 'Simulation Case Conditions_Spec 2 : NA in Benzene_ppmw': 979.8254623837229}. Best is trial 269 with value: 14.167619930017278.\u001b[0m\n",
            "\u001b[32m[I 2021-04-26 08:46:08,497]\u001b[0m Trial 272 finished with value: 14.704117295541934 and parameters: {'Benzene Column C660 Operation_Column Temp Profile_C660 Tray 6 (SD & Control)_oC': 86.4760404576344, 'Benzene Column C660 Operation_Column Temp Profile_C660 Tray 23 (Control)_oC': 89.11820268770663, 'Simulation Case Conditions_Spec 2 : NA in Benzene_ppmw': 979.7718643162838}. Best is trial 269 with value: 14.167619930017278.\u001b[0m\n",
            "\u001b[32m[I 2021-04-26 08:46:08,588]\u001b[0m Trial 273 finished with value: 14.479407633470393 and parameters: {'Benzene Column C660 Operation_Column Temp Profile_C660 Tray 6 (SD & Control)_oC': 86.47953563982442, 'Benzene Column C660 Operation_Column Temp Profile_C660 Tray 23 (Control)_oC': 89.19459680412008, 'Simulation Case Conditions_Spec 2 : NA in Benzene_ppmw': 979.8195242773528}. Best is trial 269 with value: 14.167619930017278.\u001b[0m\n",
            "\u001b[32m[I 2021-04-26 08:46:08,679]\u001b[0m Trial 274 finished with value: 13.83611918844246 and parameters: {'Benzene Column C660 Operation_Column Temp Profile_C660 Tray 6 (SD & Control)_oC': 86.48570781018381, 'Benzene Column C660 Operation_Column Temp Profile_C660 Tray 23 (Control)_oC': 89.31490571598654, 'Simulation Case Conditions_Spec 2 : NA in Benzene_ppmw': 979.9653807737171}. Best is trial 274 with value: 13.83611918844246.\u001b[0m\n",
            "\u001b[32m[I 2021-04-26 08:46:08,766]\u001b[0m Trial 275 finished with value: 14.262931983028679 and parameters: {'Benzene Column C660 Operation_Column Temp Profile_C660 Tray 6 (SD & Control)_oC': 86.47747543036319, 'Benzene Column C660 Operation_Column Temp Profile_C660 Tray 23 (Control)_oC': 89.1362955100518, 'Simulation Case Conditions_Spec 2 : NA in Benzene_ppmw': 979.8131278000756}. Best is trial 274 with value: 13.83611918844246.\u001b[0m\n",
            "\u001b[32m[I 2021-04-26 08:46:08,855]\u001b[0m Trial 276 finished with value: 14.343083625498044 and parameters: {'Benzene Column C660 Operation_Column Temp Profile_C660 Tray 6 (SD & Control)_oC': 86.47838350285926, 'Benzene Column C660 Operation_Column Temp Profile_C660 Tray 23 (Control)_oC': 89.14689824913155, 'Simulation Case Conditions_Spec 2 : NA in Benzene_ppmw': 979.8001518989985}. Best is trial 274 with value: 13.83611918844246.\u001b[0m\n",
            "\u001b[32m[I 2021-04-26 08:46:08,939]\u001b[0m Trial 277 finished with value: 14.397504874266222 and parameters: {'Benzene Column C660 Operation_Column Temp Profile_C660 Tray 6 (SD & Control)_oC': 86.47655394260114, 'Benzene Column C660 Operation_Column Temp Profile_C660 Tray 23 (Control)_oC': 89.1192159745228, 'Simulation Case Conditions_Spec 2 : NA in Benzene_ppmw': 979.7686883994262}. Best is trial 274 with value: 13.83611918844246.\u001b[0m\n",
            "\u001b[32m[I 2021-04-26 08:46:09,026]\u001b[0m Trial 278 finished with value: 14.301419267990955 and parameters: {'Benzene Column C660 Operation_Column Temp Profile_C660 Tray 6 (SD & Control)_oC': 86.48429772397847, 'Benzene Column C660 Operation_Column Temp Profile_C660 Tray 23 (Control)_oC': 89.26597407838656, 'Simulation Case Conditions_Spec 2 : NA in Benzene_ppmw': 979.9464765538862}. Best is trial 274 with value: 13.83611918844246.\u001b[0m\n",
            "\u001b[32m[I 2021-04-26 08:46:09,111]\u001b[0m Trial 279 finished with value: 14.032170287380266 and parameters: {'Benzene Column C660 Operation_Column Temp Profile_C660 Tray 6 (SD & Control)_oC': 86.48347642344419, 'Benzene Column C660 Operation_Column Temp Profile_C660 Tray 23 (Control)_oC': 89.2729058024102, 'Simulation Case Conditions_Spec 2 : NA in Benzene_ppmw': 979.9468975243874}. Best is trial 274 with value: 13.83611918844246.\u001b[0m\n",
            "\u001b[32m[I 2021-04-26 08:46:09,200]\u001b[0m Trial 280 finished with value: 14.368247653369089 and parameters: {'Benzene Column C660 Operation_Column Temp Profile_C660 Tray 6 (SD & Control)_oC': 86.48197007338094, 'Benzene Column C660 Operation_Column Temp Profile_C660 Tray 23 (Control)_oC': 89.24865428476116, 'Simulation Case Conditions_Spec 2 : NA in Benzene_ppmw': 979.9679558820405}. Best is trial 274 with value: 13.83611918844246.\u001b[0m\n",
            "\u001b[32m[I 2021-04-26 08:46:09,286]\u001b[0m Trial 281 finished with value: 13.667913282749288 and parameters: {'Benzene Column C660 Operation_Column Temp Profile_C660 Tray 6 (SD & Control)_oC': 86.48763915463076, 'Benzene Column C660 Operation_Column Temp Profile_C660 Tray 23 (Control)_oC': 89.3573044435395, 'Simulation Case Conditions_Spec 2 : NA in Benzene_ppmw': 979.9413516277798}. Best is trial 281 with value: 13.667913282749288.\u001b[0m\n",
            "\u001b[32m[I 2021-04-26 08:46:09,370]\u001b[0m Trial 282 finished with value: 14.156849718042269 and parameters: {'Benzene Column C660 Operation_Column Temp Profile_C660 Tray 6 (SD & Control)_oC': 86.48417142792, 'Benzene Column C660 Operation_Column Temp Profile_C660 Tray 23 (Control)_oC': 89.26891636768782, 'Simulation Case Conditions_Spec 2 : NA in Benzene_ppmw': 979.9175771841509}. Best is trial 281 with value: 13.667913282749288.\u001b[0m\n",
            "\u001b[32m[I 2021-04-26 08:46:09,452]\u001b[0m Trial 283 finished with value: 14.044101234033059 and parameters: {'Benzene Column C660 Operation_Column Temp Profile_C660 Tray 6 (SD & Control)_oC': 86.4825559363118, 'Benzene Column C660 Operation_Column Temp Profile_C660 Tray 23 (Control)_oC': 89.24281229486363, 'Simulation Case Conditions_Spec 2 : NA in Benzene_ppmw': 979.8889400738121}. Best is trial 281 with value: 13.667913282749288.\u001b[0m\n",
            "\u001b[32m[I 2021-04-26 08:46:09,555]\u001b[0m Trial 284 finished with value: 14.262217713417085 and parameters: {'Benzene Column C660 Operation_Column Temp Profile_C660 Tray 6 (SD & Control)_oC': 86.47906220171618, 'Benzene Column C660 Operation_Column Temp Profile_C660 Tray 23 (Control)_oC': 89.16601699943472, 'Simulation Case Conditions_Spec 2 : NA in Benzene_ppmw': 979.852930732148}. Best is trial 281 with value: 13.667913282749288.\u001b[0m\n",
            "\u001b[32m[I 2021-04-26 08:46:09,639]\u001b[0m Trial 285 finished with value: 14.016473222197364 and parameters: {'Benzene Column C660 Operation_Column Temp Profile_C660 Tray 6 (SD & Control)_oC': 86.4851915746158, 'Benzene Column C660 Operation_Column Temp Profile_C660 Tray 23 (Control)_oC': 89.31432827877833, 'Simulation Case Conditions_Spec 2 : NA in Benzene_ppmw': 979.919539894605}. Best is trial 281 with value: 13.667913282749288.\u001b[0m\n",
            "\u001b[32m[I 2021-04-26 08:46:09,728]\u001b[0m Trial 286 finished with value: 14.678747707492976 and parameters: {'Benzene Column C660 Operation_Column Temp Profile_C660 Tray 6 (SD & Control)_oC': 86.47808220480415, 'Benzene Column C660 Operation_Column Temp Profile_C660 Tray 23 (Control)_oC': 89.12466362166201, 'Simulation Case Conditions_Spec 2 : NA in Benzene_ppmw': 979.7825619888558}. Best is trial 281 with value: 13.667913282749288.\u001b[0m\n",
            "\u001b[32m[I 2021-04-26 08:46:09,819]\u001b[0m Trial 287 finished with value: 14.515992311788226 and parameters: {'Benzene Column C660 Operation_Column Temp Profile_C660 Tray 6 (SD & Control)_oC': 86.48119045855115, 'Benzene Column C660 Operation_Column Temp Profile_C660 Tray 23 (Control)_oC': 89.19364643556624, 'Simulation Case Conditions_Spec 2 : NA in Benzene_ppmw': 979.8554625234017}. Best is trial 281 with value: 13.667913282749288.\u001b[0m\n",
            "\u001b[32m[I 2021-04-26 08:46:09,907]\u001b[0m Trial 288 finished with value: 14.326192144749479 and parameters: {'Benzene Column C660 Operation_Column Temp Profile_C660 Tray 6 (SD & Control)_oC': 86.4823100955557, 'Benzene Column C660 Operation_Column Temp Profile_C660 Tray 23 (Control)_oC': 89.21624791656502, 'Simulation Case Conditions_Spec 2 : NA in Benzene_ppmw': 979.7206238499714}. Best is trial 281 with value: 13.667913282749288.\u001b[0m\n",
            "\u001b[32m[I 2021-04-26 08:46:09,993]\u001b[0m Trial 289 finished with value: 13.496528056252284 and parameters: {'Benzene Column C660 Operation_Column Temp Profile_C660 Tray 6 (SD & Control)_oC': 86.49287544434168, 'Benzene Column C660 Operation_Column Temp Profile_C660 Tray 23 (Control)_oC': 89.46393422551232, 'Simulation Case Conditions_Spec 2 : NA in Benzene_ppmw': 979.9736638732004}. Best is trial 289 with value: 13.496528056252284.\u001b[0m\n",
            "\u001b[32m[I 2021-04-26 08:46:10,074]\u001b[0m Trial 290 finished with value: 14.157636201586723 and parameters: {'Benzene Column C660 Operation_Column Temp Profile_C660 Tray 6 (SD & Control)_oC': 86.48415338649684, 'Benzene Column C660 Operation_Column Temp Profile_C660 Tray 23 (Control)_oC': 89.26673459046819, 'Simulation Case Conditions_Spec 2 : NA in Benzene_ppmw': 979.8829108966702}. Best is trial 289 with value: 13.496528056252284.\u001b[0m\n",
            "\u001b[32m[I 2021-04-26 08:46:10,157]\u001b[0m Trial 291 finished with value: 14.061688207085947 and parameters: {'Benzene Column C660 Operation_Column Temp Profile_C660 Tray 6 (SD & Control)_oC': 86.48612545614823, 'Benzene Column C660 Operation_Column Temp Profile_C660 Tray 23 (Control)_oC': 89.3115094287151, 'Simulation Case Conditions_Spec 2 : NA in Benzene_ppmw': 979.9551265978164}. Best is trial 289 with value: 13.496528056252284.\u001b[0m\n",
            "\u001b[32m[I 2021-04-26 08:46:10,247]\u001b[0m Trial 292 finished with value: 14.270593936341118 and parameters: {'Benzene Column C660 Operation_Column Temp Profile_C660 Tray 6 (SD & Control)_oC': 86.4864027344681, 'Benzene Column C660 Operation_Column Temp Profile_C660 Tray 23 (Control)_oC': 89.3021947086533, 'Simulation Case Conditions_Spec 2 : NA in Benzene_ppmw': 979.8658105638758}. Best is trial 289 with value: 13.496528056252284.\u001b[0m\n",
            "\u001b[32m[I 2021-04-26 08:46:10,330]\u001b[0m Trial 293 finished with value: 14.806745166531586 and parameters: {'Benzene Column C660 Operation_Column Temp Profile_C660 Tray 6 (SD & Control)_oC': 86.48266680016567, 'Benzene Column C660 Operation_Column Temp Profile_C660 Tray 23 (Control)_oC': 89.28208270945345, 'Simulation Case Conditions_Spec 2 : NA in Benzene_ppmw': 979.9745915484154}. Best is trial 289 with value: 13.496528056252284.\u001b[0m\n",
            "\u001b[32m[I 2021-04-26 08:46:10,427]\u001b[0m Trial 294 finished with value: 13.988796778919708 and parameters: {'Benzene Column C660 Operation_Column Temp Profile_C660 Tray 6 (SD & Control)_oC': 86.49353397759732, 'Benzene Column C660 Operation_Column Temp Profile_C660 Tray 23 (Control)_oC': 89.45250570995701, 'Simulation Case Conditions_Spec 2 : NA in Benzene_ppmw': 979.9636831284774}. Best is trial 289 with value: 13.496528056252284.\u001b[0m\n",
            "\u001b[32m[I 2021-04-26 08:46:10,518]\u001b[0m Trial 295 finished with value: 13.47174756516093 and parameters: {'Benzene Column C660 Operation_Column Temp Profile_C660 Tray 6 (SD & Control)_oC': 86.50015236085085, 'Benzene Column C660 Operation_Column Temp Profile_C660 Tray 23 (Control)_oC': 89.59932329727178, 'Simulation Case Conditions_Spec 2 : NA in Benzene_ppmw': 979.9657032557135}. Best is trial 295 with value: 13.47174756516093.\u001b[0m\n",
            "\u001b[32m[I 2021-04-26 08:46:10,601]\u001b[0m Trial 296 finished with value: 14.486255060475827 and parameters: {'Benzene Column C660 Operation_Column Temp Profile_C660 Tray 6 (SD & Control)_oC': 86.49254767564864, 'Benzene Column C660 Operation_Column Temp Profile_C660 Tray 23 (Control)_oC': 89.40491743803986, 'Simulation Case Conditions_Spec 2 : NA in Benzene_ppmw': 979.8472659757159}. Best is trial 295 with value: 13.47174756516093.\u001b[0m\n",
            "\u001b[32m[I 2021-04-26 08:46:10,689]\u001b[0m Trial 297 finished with value: 12.835213221525974 and parameters: {'Benzene Column C660 Operation_Column Temp Profile_C660 Tray 6 (SD & Control)_oC': 86.50494683343825, 'Benzene Column C660 Operation_Column Temp Profile_C660 Tray 23 (Control)_oC': 89.71933685842139, 'Simulation Case Conditions_Spec 2 : NA in Benzene_ppmw': 979.993369244083}. Best is trial 297 with value: 12.835213221525974.\u001b[0m\n",
            "\u001b[32m[I 2021-04-26 08:46:10,773]\u001b[0m Trial 298 finished with value: 15.155599716594697 and parameters: {'Benzene Column C660 Operation_Column Temp Profile_C660 Tray 6 (SD & Control)_oC': 86.48834904345408, 'Benzene Column C660 Operation_Column Temp Profile_C660 Tray 23 (Control)_oC': 89.43426891740302, 'Simulation Case Conditions_Spec 2 : NA in Benzene_ppmw': 979.907737437665}. Best is trial 297 with value: 12.835213221525974.\u001b[0m\n",
            "\u001b[32m[I 2021-04-26 08:46:10,864]\u001b[0m Trial 299 finished with value: 13.408787828879342 and parameters: {'Benzene Column C660 Operation_Column Temp Profile_C660 Tray 6 (SD & Control)_oC': 86.4928747004086, 'Benzene Column C660 Operation_Column Temp Profile_C660 Tray 23 (Control)_oC': 89.46222415332593, 'Simulation Case Conditions_Spec 2 : NA in Benzene_ppmw': 979.8621858942488}. Best is trial 297 with value: 12.835213221525974.\u001b[0m\n"
          ],
          "name": "stderr"
        },
        {
          "output_type": "stream",
          "text": [
            "bz_error: 0.00014741498958414923\n",
            "nainbz_error: 12.417995034525461\n",
            "tol_error: 0.028256596194497163\n",
            "dist_rate 1.0005982913260736\n",
            "nainbz: 967.5820049654745\n"
          ],
          "name": "stdout"
        }
      ]
    },
    {
      "cell_type": "code",
      "metadata": {
        "colab": {
          "base_uri": "https://localhost:8080/"
        },
        "id": "Dl28ZJO8j4W-",
        "outputId": "17a22f8c-d04a-4dad-b020-b94859daedf7"
      },
      "source": [
        "bz_error,nainbz_error,tol_error"
      ],
      "execution_count": 17,
      "outputs": [
        {
          "output_type": "execute_result",
          "data": {
            "text/plain": [
              "(0.00014741498958414923, 12.417995034525461, 0.028256596194497163)"
            ]
          },
          "metadata": {
            "tags": []
          },
          "execution_count": 17
        }
      ]
    },
    {
      "cell_type": "markdown",
      "metadata": {
        "id": "xSkcppr3yfo_"
      },
      "source": [
        "# 計算delta調幅"
      ]
    },
    {
      "cell_type": "code",
      "metadata": {
        "id": "24-1JGcxygAo",
        "colab": {
          "base_uri": "https://localhost:8080/",
          "height": 80
        },
        "outputId": "db6524fb-8131-4758-df68-3d9e5dcfb8d6"
      },
      "source": [
        "(c620_op2-c620_op).iloc[:,-2:]"
      ],
      "execution_count": 28,
      "outputs": [
        {
          "output_type": "execute_result",
          "data": {
            "text/html": [
              "<div>\n",
              "<style scoped>\n",
              "    .dataframe tbody tr th:only-of-type {\n",
              "        vertical-align: middle;\n",
              "    }\n",
              "\n",
              "    .dataframe tbody tr th {\n",
              "        vertical-align: top;\n",
              "    }\n",
              "\n",
              "    .dataframe thead th {\n",
              "        text-align: right;\n",
              "    }\n",
              "</style>\n",
              "<table border=\"1\" class=\"dataframe\">\n",
              "  <thead>\n",
              "    <tr style=\"text-align: right;\">\n",
              "      <th></th>\n",
              "      <th>Tatoray Stripper C620 Operation_Column Temp Profile_C620 Tray 14 (Control)_oC</th>\n",
              "      <th>Tatoray Stripper C620 Operation_Column Temp Profile_C620 Tray 34 (Control)_oC</th>\n",
              "    </tr>\n",
              "  </thead>\n",
              "  <tbody>\n",
              "    <tr>\n",
              "      <th>002-002</th>\n",
              "      <td>-0.373634</td>\n",
              "      <td>0.705435</td>\n",
              "    </tr>\n",
              "  </tbody>\n",
              "</table>\n",
              "</div>"
            ],
            "text/plain": [
              "         Tatoray Stripper C620 Operation_Column Temp Profile_C620 Tray 14 (Control)_oC  Tatoray Stripper C620 Operation_Column Temp Profile_C620 Tray 34 (Control)_oC\n",
              "002-002                                          -0.373634                                                                       0.705435                            "
            ]
          },
          "metadata": {
            "tags": []
          },
          "execution_count": 28
        }
      ]
    },
    {
      "cell_type": "code",
      "metadata": {
        "id": "Hw-A51MMnMO4",
        "colab": {
          "base_uri": "https://localhost:8080/",
          "height": 80
        },
        "outputId": "704a48cd-3b8a-4fa6-be01-2fc6e9b654e8"
      },
      "source": [
        "(c660_op2-c660_op).iloc[:,-2:]"
      ],
      "execution_count": 29,
      "outputs": [
        {
          "output_type": "execute_result",
          "data": {
            "text/html": [
              "<div>\n",
              "<style scoped>\n",
              "    .dataframe tbody tr th:only-of-type {\n",
              "        vertical-align: middle;\n",
              "    }\n",
              "\n",
              "    .dataframe tbody tr th {\n",
              "        vertical-align: top;\n",
              "    }\n",
              "\n",
              "    .dataframe thead th {\n",
              "        text-align: right;\n",
              "    }\n",
              "</style>\n",
              "<table border=\"1\" class=\"dataframe\">\n",
              "  <thead>\n",
              "    <tr style=\"text-align: right;\">\n",
              "      <th></th>\n",
              "      <th>Benzene Column C660 Operation_Column Temp Profile_C660 Tray 6 (SD &amp; Control)_oC</th>\n",
              "      <th>Benzene Column C660 Operation_Column Temp Profile_C660 Tray 23 (Control)_oC</th>\n",
              "    </tr>\n",
              "  </thead>\n",
              "  <tbody>\n",
              "    <tr>\n",
              "      <th>002-002</th>\n",
              "      <td>0.0452</td>\n",
              "      <td>0.606887</td>\n",
              "    </tr>\n",
              "  </tbody>\n",
              "</table>\n",
              "</div>"
            ],
            "text/plain": [
              "         Benzene Column C660 Operation_Column Temp Profile_C660 Tray 6 (SD & Control)_oC  Benzene Column C660 Operation_Column Temp Profile_C660 Tray 23 (Control)_oC\n",
              "002-002                                             0.0452                                                                         0.606887                          "
            ]
          },
          "metadata": {
            "tags": []
          },
          "execution_count": 29
        }
      ]
    },
    {
      "cell_type": "code",
      "metadata": {
        "id": "ifCfN-RQymlp",
        "colab": {
          "base_uri": "https://localhost:8080/",
          "height": 80
        },
        "outputId": "3d7de84c-2167-4f73-d2da-193e9515023b"
      },
      "source": [
        "(c670_op2-c670_op).iloc[:,-2:]"
      ],
      "execution_count": 30,
      "outputs": [
        {
          "output_type": "execute_result",
          "data": {
            "text/html": [
              "<div>\n",
              "<style scoped>\n",
              "    .dataframe tbody tr th:only-of-type {\n",
              "        vertical-align: middle;\n",
              "    }\n",
              "\n",
              "    .dataframe tbody tr th {\n",
              "        vertical-align: top;\n",
              "    }\n",
              "\n",
              "    .dataframe thead th {\n",
              "        text-align: right;\n",
              "    }\n",
              "</style>\n",
              "<table border=\"1\" class=\"dataframe\">\n",
              "  <thead>\n",
              "    <tr style=\"text-align: right;\">\n",
              "      <th></th>\n",
              "      <th>Toluene Column C670 Operation_Column Temp Profile_C670 Tray 24 (Control)_oC</th>\n",
              "      <th>Toluene Column C670 Operation_Column Temp Profile_C670 Btm Temp (Control)_oC</th>\n",
              "    </tr>\n",
              "  </thead>\n",
              "  <tbody>\n",
              "    <tr>\n",
              "      <th>002-002</th>\n",
              "      <td>0.002151</td>\n",
              "      <td>0.043945</td>\n",
              "    </tr>\n",
              "  </tbody>\n",
              "</table>\n",
              "</div>"
            ],
            "text/plain": [
              "         Toluene Column C670 Operation_Column Temp Profile_C670 Tray 24 (Control)_oC  Toluene Column C670 Operation_Column Temp Profile_C670 Btm Temp (Control)_oC\n",
              "002-002                                           0.002151                                                                     0.043945                           "
            ]
          },
          "metadata": {
            "tags": []
          },
          "execution_count": 30
        }
      ]
    },
    {
      "cell_type": "markdown",
      "metadata": {
        "id": "6SRY8beP2bdC"
      },
      "source": [
        "# 檢查三項約束條件"
      ]
    },
    {
      "cell_type": "code",
      "metadata": {
        "id": "4gL9_TmZypAi",
        "colab": {
          "base_uri": "https://localhost:8080/",
          "height": 80
        },
        "outputId": "a093dbeb-9f37-4d5b-a9ae-b9bda610b945"
      },
      "source": [
        "c620_wt2[['Tatoray Stripper C620 Operation_Sidedraw Production Rate and Composition_Benzene_wt%']]"
      ],
      "execution_count": 21,
      "outputs": [
        {
          "output_type": "execute_result",
          "data": {
            "text/html": [
              "<div>\n",
              "<style scoped>\n",
              "    .dataframe tbody tr th:only-of-type {\n",
              "        vertical-align: middle;\n",
              "    }\n",
              "\n",
              "    .dataframe tbody tr th {\n",
              "        vertical-align: top;\n",
              "    }\n",
              "\n",
              "    .dataframe thead th {\n",
              "        text-align: right;\n",
              "    }\n",
              "</style>\n",
              "<table border=\"1\" class=\"dataframe\">\n",
              "  <thead>\n",
              "    <tr style=\"text-align: right;\">\n",
              "      <th></th>\n",
              "      <th>Tatoray Stripper C620 Operation_Sidedraw Production Rate and Composition_Benzene_wt%</th>\n",
              "    </tr>\n",
              "  </thead>\n",
              "  <tbody>\n",
              "    <tr>\n",
              "      <th>002-002</th>\n",
              "      <td>70.000147</td>\n",
              "    </tr>\n",
              "  </tbody>\n",
              "</table>\n",
              "</div>"
            ],
            "text/plain": [
              "         Tatoray Stripper C620 Operation_Sidedraw Production Rate and Composition_Benzene_wt%\n",
              "002-002                                          70.000147                                   "
            ]
          },
          "metadata": {
            "tags": []
          },
          "execution_count": 21
        }
      ]
    },
    {
      "cell_type": "code",
      "metadata": {
        "id": "QVGtpZ9c1tn9",
        "colab": {
          "base_uri": "https://localhost:8080/"
        },
        "outputId": "e328cf3c-97f8-4696-cc79-79f9755ef1b1"
      },
      "source": [
        "na_idx = [1,2,3,4,5,6,8,9,11,13,14,15,20,22,29] \n",
        "c660_wt2.filter(regex='Side').filter(regex='wt%').iloc[:,na_idx].sum(axis=1).values[0]*10000"
      ],
      "execution_count": 22,
      "outputs": [
        {
          "output_type": "execute_result",
          "data": {
            "text/plain": [
              "967.5820049654745"
            ]
          },
          "metadata": {
            "tags": []
          },
          "execution_count": 22
        }
      ]
    },
    {
      "cell_type": "code",
      "metadata": {
        "id": "yf9nHzl41_GS",
        "colab": {
          "base_uri": "https://localhost:8080/"
        },
        "outputId": "5c06f2d0-2f7d-4703-858f-dcd0225b189e"
      },
      "source": [
        "c660_wt2['Benzene Column C660 Operation_Sidedraw (Benzene )Production Rate and Composition_Toluene_wt%'].values[0]*10000"
      ],
      "execution_count": 23,
      "outputs": [
        {
          "output_type": "execute_result",
          "data": {
            "text/plain": [
              "10.028256596194497"
            ]
          },
          "metadata": {
            "tags": []
          },
          "execution_count": 23
        }
      ]
    },
    {
      "cell_type": "code",
      "metadata": {
        "id": "-iLPX5ey2F7K",
        "colab": {
          "base_uri": "https://localhost:8080/"
        },
        "outputId": "0e774834-4029-424e-89f3-4dc9f02b65a3"
      },
      "source": [
        "c620_wt2.iloc[:,:41].sum(axis=1)"
      ],
      "execution_count": 24,
      "outputs": [
        {
          "output_type": "execute_result",
          "data": {
            "text/plain": [
              "002-002    100.0\n",
              "dtype: float64"
            ]
          },
          "metadata": {
            "tags": []
          },
          "execution_count": 24
        }
      ]
    },
    {
      "cell_type": "code",
      "metadata": {
        "id": "4hTAFZb04AGX",
        "colab": {
          "base_uri": "https://localhost:8080/"
        },
        "outputId": "812bb3a3-24fd-49c0-9e3e-4e2bf0023c1b"
      },
      "source": [
        "c660_wt2.iloc[:,:41].sum(axis=1)"
      ],
      "execution_count": 25,
      "outputs": [
        {
          "output_type": "execute_result",
          "data": {
            "text/plain": [
              "002-002    100.0\n",
              "dtype: float64"
            ]
          },
          "metadata": {
            "tags": []
          },
          "execution_count": 25
        }
      ]
    },
    {
      "cell_type": "code",
      "metadata": {
        "id": "9C5OWnXq4CKG",
        "colab": {
          "base_uri": "https://localhost:8080/"
        },
        "outputId": "dda9e122-d851-4faa-afb0-e007fe49a064"
      },
      "source": [
        "c670_wt2.iloc[:,:41].sum(axis=1)"
      ],
      "execution_count": 26,
      "outputs": [
        {
          "output_type": "execute_result",
          "data": {
            "text/plain": [
              "002-002    100.0\n",
              "dtype: float64"
            ]
          },
          "metadata": {
            "tags": []
          },
          "execution_count": 26
        }
      ]
    },
    {
      "cell_type": "code",
      "metadata": {
        "id": "OuzbOOJI4HWu"
      },
      "source": [
        ""
      ],
      "execution_count": null,
      "outputs": []
    }
  ]
}