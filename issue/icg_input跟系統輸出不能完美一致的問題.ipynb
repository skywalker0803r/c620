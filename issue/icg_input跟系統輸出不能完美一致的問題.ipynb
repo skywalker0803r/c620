{
  "nbformat": 4,
  "nbformat_minor": 0,
  "metadata": {
    "colab": {
      "name": "usage_example.ipynb",
      "provenance": [],
      "mount_file_id": "1EkEB-qXjPRmudXTmuHHtlwsWr1V9Wzxh",
      "authorship_tag": "ABX9TyPHiUKW31eLzvWKQyZKzvtJ",
      "include_colab_link": true
    },
    "kernelspec": {
      "name": "python3",
      "display_name": "Python 3"
    }
  },
  "cells": [
    {
      "cell_type": "markdown",
      "metadata": {
        "id": "view-in-github",
        "colab_type": "text"
      },
      "source": [
        "<a href=\"https://colab.research.google.com/github/skywalker0803r/c620/blob/main/issue/icg_input%E8%B7%9F%E7%B3%BB%E7%B5%B1%E8%BC%B8%E5%87%BA%E4%B8%8D%E8%83%BD%E5%AE%8C%E7%BE%8E%E4%B8%80%E8%87%B4%E7%9A%84%E5%95%8F%E9%A1%8C.ipynb\" target=\"_parent\"><img src=\"https://colab.research.google.com/assets/colab-badge.svg\" alt=\"Open In Colab\"/></a>"
      ]
    },
    {
      "cell_type": "markdown",
      "metadata": {
        "id": "geeed9roqKSP"
      },
      "source": [
        "# install"
      ]
    },
    {
      "cell_type": "code",
      "metadata": {
        "colab": {
          "base_uri": "https://localhost:8080/"
        },
        "id": "yoR0u4yuiWnd",
        "outputId": "ae40f496-6f6c-4e44-f79f-0c2230a5c09f"
      },
      "source": [
        "!git clone https://github.com/skywalker0803r/c620.git\n",
        "!pip install autorch > log.txt"
      ],
      "execution_count": 1,
      "outputs": [
        {
          "output_type": "stream",
          "text": [
            "fatal: destination path 'c620' already exists and is not an empty directory.\n"
          ],
          "name": "stdout"
        }
      ]
    },
    {
      "cell_type": "markdown",
      "metadata": {
        "id": "ZybB7ygZqJLM"
      },
      "source": [
        "# import "
      ]
    },
    {
      "cell_type": "code",
      "metadata": {
        "colab": {
          "base_uri": "https://localhost:8080/"
        },
        "id": "FFcAtS_vixO-",
        "outputId": "28f70f73-1ae4-4ec5-a565-29b8243228f8"
      },
      "source": [
        "from c620.F import F\n",
        "from c620.config import config\n",
        "import joblib\n",
        "import numpy as np\n",
        "import pandas as pd\n",
        "import os\n",
        "os.chdir('/content/c620')\n",
        "print(os.getcwd())\n",
        "!git pull"
      ],
      "execution_count": 2,
      "outputs": [
        {
          "output_type": "stream",
          "text": [
            "/content/c620\n",
            "Already up to date.\n"
          ],
          "name": "stdout"
        }
      ]
    },
    {
      "cell_type": "markdown",
      "metadata": {
        "id": "Rp5Lg6bn1hwk"
      },
      "source": [
        "# functions"
      ]
    },
    {
      "cell_type": "code",
      "metadata": {
        "id": "q2D2f8bw1gxm"
      },
      "source": [
        "def check_two_data(d1,d2):\n",
        "  if np.allclose(d1.values,d2.values):\n",
        "    print('一樣')\n",
        "  else:\n",
        "    print('不一樣')"
      ],
      "execution_count": 3,
      "outputs": []
    },
    {
      "cell_type": "markdown",
      "metadata": {
        "id": "7Wjx-_s0qM0G"
      },
      "source": [
        "# demo data"
      ]
    },
    {
      "cell_type": "code",
      "metadata": {
        "id": "pXE2zrcYKIQK",
        "colab": {
          "base_uri": "https://localhost:8080/",
          "height": 394
        },
        "outputId": "7f307a71-ce6b-4d27-a47b-93370cc96d94"
      },
      "source": [
        "tag = 'test001'\r\n",
        "demo = joblib.load('./data/demo(real_data).pkl')\r\n",
        "print(demo.keys())\r\n",
        "\r\n",
        "icg_input = demo['icg_input']\r\n",
        "c620_feed = demo['c620_feed']\r\n",
        "t651_feed = demo['t651_feed']\r\n",
        "\r\n",
        "icg_input"
      ],
      "execution_count": 4,
      "outputs": [
        {
          "output_type": "stream",
          "text": [
            "dict_keys(['icg_input', 'c620_feed', 't651_feed', 'c620_op', 'c660_op', 'c670_op'])\n"
          ],
          "name": "stdout"
        },
        {
          "output_type": "execute_result",
          "data": {
            "text/html": [
              "<div>\n",
              "<style scoped>\n",
              "    .dataframe tbody tr th:only-of-type {\n",
              "        vertical-align: middle;\n",
              "    }\n",
              "\n",
              "    .dataframe tbody tr th {\n",
              "        vertical-align: top;\n",
              "    }\n",
              "\n",
              "    .dataframe thead th {\n",
              "        text-align: right;\n",
              "    }\n",
              "</style>\n",
              "<table border=\"1\" class=\"dataframe\">\n",
              "  <thead>\n",
              "    <tr style=\"text-align: right;\">\n",
              "      <th></th>\n",
              "      <th>Simulation Case Conditions_Feed Rate_Feed from V615 Btm_m3/hr</th>\n",
              "      <th>Simulation Case Conditions_Feed Rate_Feed from V615 Btm    NA_wt%</th>\n",
              "      <th>Simulation Case Conditions_Feed Rate_Feed from V615 Btm    Benzene_wt%</th>\n",
              "      <th>Simulation Case Conditions_Feed Rate_Feed from V615 Btm    Toluene_wt%</th>\n",
              "      <th>Simulation Case Conditions_Feed Rate_Feed from C820 Dist_m3/hr</th>\n",
              "      <th>Simulation Case Conditions_Feed Rate_Feed from C820 Dist    NA_wt%</th>\n",
              "      <th>Simulation Case Conditions_Feed Rate_Feed from C820 Dist    Benzene_wt%</th>\n",
              "      <th>Simulation Case Conditions_Feed Rate_Feed from C820 Dist    Toluene_wt%</th>\n",
              "      <th>Simulation Case Conditions_Feed Rate_Feed from T651_m3/hr</th>\n",
              "      <th>Simulation Case Conditions_Feed Rate_Feed from T651    NA_wt%</th>\n",
              "      <th>Simulation Case Conditions_Feed Rate_Feed from T651    Benzene_wt%</th>\n",
              "      <th>Simulation Case Conditions_Feed Rate_Feed from T651    Toluene_wt%</th>\n",
              "      <th>Simulation Case Conditions_Spec 1 : Benzene in C620 Sidedraw_wt%</th>\n",
              "      <th>Simulation Case Conditions_Spec 2 : NA in Benzene_ppmw</th>\n",
              "      <th>Tatoray Stripper C620 Operation_Specifications_Spec 2 : Distillate Rate_m3/hr</th>\n",
              "      <th>Benzene Column C660 Operation_Specifications_Spec 3 : Toluene in Benzene_ppmw</th>\n",
              "      <th>Tatoray Stripper C620 Operation_Specifications_Spec 1 : Receiver Temp_oC</th>\n",
              "    </tr>\n",
              "  </thead>\n",
              "  <tbody>\n",
              "    <tr>\n",
              "      <th>2020-09-05</th>\n",
              "      <td>179.571663</td>\n",
              "      <td>1.1500</td>\n",
              "      <td>10.9300</td>\n",
              "      <td>36.900</td>\n",
              "      <td>12.342497</td>\n",
              "      <td>2.4600</td>\n",
              "      <td>73.490</td>\n",
              "      <td>19.220</td>\n",
              "      <td>62.680651</td>\n",
              "      <td>0.4920</td>\n",
              "      <td>37.0867</td>\n",
              "      <td>53.7119</td>\n",
              "      <td>88.480</td>\n",
              "      <td>748.0</td>\n",
              "      <td>0.0</td>\n",
              "      <td>3.0</td>\n",
              "      <td>41.111207</td>\n",
              "    </tr>\n",
              "    <tr>\n",
              "      <th>2021-02-16</th>\n",
              "      <td>182.702744</td>\n",
              "      <td>2.0556</td>\n",
              "      <td>12.1420</td>\n",
              "      <td>37.828</td>\n",
              "      <td>18.193422</td>\n",
              "      <td>2.8398</td>\n",
              "      <td>67.888</td>\n",
              "      <td>21.521</td>\n",
              "      <td>93.629074</td>\n",
              "      <td>0.6960</td>\n",
              "      <td>43.2400</td>\n",
              "      <td>42.5320</td>\n",
              "      <td>87.491</td>\n",
              "      <td>861.0</td>\n",
              "      <td>0.0</td>\n",
              "      <td>10.0</td>\n",
              "      <td>43.173817</td>\n",
              "    </tr>\n",
              "    <tr>\n",
              "      <th>2020-10-21</th>\n",
              "      <td>140.768653</td>\n",
              "      <td>0.7438</td>\n",
              "      <td>4.9644</td>\n",
              "      <td>68.043</td>\n",
              "      <td>17.639095</td>\n",
              "      <td>2.5231</td>\n",
              "      <td>74.979</td>\n",
              "      <td>16.199</td>\n",
              "      <td>67.150949</td>\n",
              "      <td>0.8400</td>\n",
              "      <td>55.7900</td>\n",
              "      <td>26.9700</td>\n",
              "      <td>84.901</td>\n",
              "      <td>809.0</td>\n",
              "      <td>0.0</td>\n",
              "      <td>2.0</td>\n",
              "      <td>44.523722</td>\n",
              "    </tr>\n",
              "    <tr>\n",
              "      <th>2021-01-20</th>\n",
              "      <td>181.033157</td>\n",
              "      <td>1.4680</td>\n",
              "      <td>11.8790</td>\n",
              "      <td>37.263</td>\n",
              "      <td>19.130981</td>\n",
              "      <td>1.9880</td>\n",
              "      <td>68.749</td>\n",
              "      <td>20.500</td>\n",
              "      <td>100.350426</td>\n",
              "      <td>0.6510</td>\n",
              "      <td>46.1770</td>\n",
              "      <td>40.4170</td>\n",
              "      <td>85.165</td>\n",
              "      <td>809.0</td>\n",
              "      <td>0.0</td>\n",
              "      <td>63.0</td>\n",
              "      <td>40.970806</td>\n",
              "    </tr>\n",
              "    <tr>\n",
              "      <th>2020-12-04</th>\n",
              "      <td>166.107956</td>\n",
              "      <td>2.1510</td>\n",
              "      <td>12.0470</td>\n",
              "      <td>37.287</td>\n",
              "      <td>19.038383</td>\n",
              "      <td>3.4740</td>\n",
              "      <td>65.729</td>\n",
              "      <td>19.557</td>\n",
              "      <td>99.873688</td>\n",
              "      <td>0.6486</td>\n",
              "      <td>43.8780</td>\n",
              "      <td>42.6020</td>\n",
              "      <td>86.102</td>\n",
              "      <td>805.0</td>\n",
              "      <td>0.0</td>\n",
              "      <td>35.0</td>\n",
              "      <td>39.059292</td>\n",
              "    </tr>\n",
              "  </tbody>\n",
              "</table>\n",
              "</div>"
            ],
            "text/plain": [
              "            Simulation Case Conditions_Feed Rate_Feed from V615 Btm_m3/hr  ...  Tatoray Stripper C620 Operation_Specifications_Spec 1 : Receiver Temp_oC\n",
              "2020-09-05                                         179.571663              ...                                          41.111207                       \n",
              "2021-02-16                                         182.702744              ...                                          43.173817                       \n",
              "2020-10-21                                         140.768653              ...                                          44.523722                       \n",
              "2021-01-20                                         181.033157              ...                                          40.970806                       \n",
              "2020-12-04                                         166.107956              ...                                          39.059292                       \n",
              "\n",
              "[5 rows x 17 columns]"
            ]
          },
          "metadata": {
            "tags": []
          },
          "execution_count": 4
        }
      ]
    },
    {
      "cell_type": "code",
      "metadata": {
        "id": "XC08SG4Pz0Dv"
      },
      "source": [
        "idx1 = icg_input.index[0]\n",
        "idx2 = icg_input.index[1]"
      ],
      "execution_count": 5,
      "outputs": []
    },
    {
      "cell_type": "markdown",
      "metadata": {
        "id": "x0R2vs4I1YBQ"
      },
      "source": [
        "# 1.確保給定不同的輸入 會有不同的輸出"
      ]
    },
    {
      "cell_type": "code",
      "metadata": {
        "id": "Qa-lHXhJjI8M",
        "colab": {
          "base_uri": "https://localhost:8080/"
        },
        "outputId": "67cecfb5-6fa3-4376-b6f7-c114b6f50fa9"
      },
      "source": [
        "f = F(config)\n",
        "f.Recommended_mode = True #(True or False)\n",
        "f.real_data_mode = True\n",
        "\n",
        "# 輸入1\n",
        "c620_wt1,c620_op1,c660_wt1,c660_op1,c670_wt1,c670_op1 = f(icg_input.loc[[idx1]],c620_feed.loc[[idx1]],t651_feed.loc[[idx1]])\n",
        "\n",
        "# 輸入2\n",
        "c620_wt2,c620_op2,c660_wt2,c660_op2,c670_wt2,c670_op2 = f(icg_input.loc[[idx2]],c620_feed.loc[[idx2]],t651_feed.loc[[idx2]])"
      ],
      "execution_count": 6,
      "outputs": [
        {
          "output_type": "stream",
          "text": [
            "current Distillate Rate_m3/hr:0.23077957112638564 NA in Benzene_ppmw:980.0\n",
            "current Distillate Rate_m3/hr:0.20156970242883998 NA in Benzene_ppmw:980.0\n"
          ],
          "name": "stdout"
        }
      ]
    },
    {
      "cell_type": "code",
      "metadata": {
        "colab": {
          "base_uri": "https://localhost:8080/"
        },
        "id": "BofcSOZQpU3v",
        "outputId": "3331f28d-72c2-4982-bbd6-a515cec502b8"
      },
      "source": [
        "check_two_data(c620_wt1,c620_wt2)\n",
        "check_two_data(c620_op1,c620_op2)\n",
        "check_two_data(c660_wt1,c660_wt2)\n",
        "check_two_data(c660_op1,c660_op2)\n",
        "check_two_data(c670_wt1,c670_wt2)\n",
        "check_two_data(c670_op1,c670_op2)"
      ],
      "execution_count": 7,
      "outputs": [
        {
          "output_type": "stream",
          "text": [
            "不一樣\n",
            "不一樣\n",
            "不一樣\n",
            "不一樣\n",
            "不一樣\n",
            "不一樣\n"
          ],
          "name": "stdout"
        }
      ]
    },
    {
      "cell_type": "markdown",
      "metadata": {
        "id": "uQaOrbU918kJ"
      },
      "source": [
        "# 2.確保變更模式 推薦 和 試算 模式 有不同的輸出"
      ]
    },
    {
      "cell_type": "code",
      "metadata": {
        "id": "aQKOHeWVpZyO",
        "colab": {
          "base_uri": "https://localhost:8080/"
        },
        "outputId": "6f6ac873-47e1-45c2-d9cf-b3714d5e3b00"
      },
      "source": [
        "# 試算模式\n",
        "f.Recommended_mode = False #(True or False)\n",
        "c620_wt1,c620_op1,c660_wt1,c660_op1,c670_wt1,c670_op1 = f(icg_input.loc[[idx1]],c620_feed.loc[[idx1]],t651_feed.loc[[idx1]])\n",
        "\n",
        "# 推薦模式\n",
        "f.Recommended_mode = True #(True or False)\n",
        "c620_wt2,c620_op2,c660_wt2,c660_op2,c670_wt2,c670_op2 = f(icg_input.loc[[idx1]],c620_feed.loc[[idx1]],t651_feed.loc[[idx1]])"
      ],
      "execution_count": 8,
      "outputs": [
        {
          "output_type": "stream",
          "text": [
            "current Distillate Rate_m3/hr:0.23077957112638564 NA in Benzene_ppmw:980.0\n"
          ],
          "name": "stdout"
        }
      ]
    },
    {
      "cell_type": "code",
      "metadata": {
        "id": "MhYvVp9V1w7_",
        "colab": {
          "base_uri": "https://localhost:8080/"
        },
        "outputId": "1d08e823-6092-4b1c-b1b1-271cbab80203"
      },
      "source": [
        "check_two_data(c620_wt1,c620_wt2)\n",
        "check_two_data(c620_op1,c620_op2)\n",
        "check_two_data(c660_wt1,c660_wt2)\n",
        "check_two_data(c660_op1,c660_op2)\n",
        "check_two_data(c670_wt1,c670_wt2)\n",
        "check_two_data(c670_op1,c670_op2)"
      ],
      "execution_count": 9,
      "outputs": [
        {
          "output_type": "stream",
          "text": [
            "不一樣\n",
            "不一樣\n",
            "不一樣\n",
            "不一樣\n",
            "不一樣\n",
            "不一樣\n"
          ],
          "name": "stdout"
        }
      ]
    },
    {
      "cell_type": "markdown",
      "metadata": {
        "id": "jMkpUXnTRJX6"
      },
      "source": [
        "# 確認icg_input 對應到後續系統的輸出值一致 主要有兩項要一致\n",
        "* 1. benzene in c620 side\n",
        "* 2. na in benzene"
      ]
    },
    {
      "cell_type": "code",
      "metadata": {
        "id": "FjMlbQs9RJfq",
        "outputId": "c9f260b5-affe-4eb8-df5b-d1ec4a9bf9dd",
        "colab": {
          "base_uri": "https://localhost:8080/"
        }
      },
      "source": [
        "# 真實數據 試算模式\n",
        "print(icg_input.loc[[idx1],['Simulation Case Conditions_Spec 1 : Benzene in C620 Sidedraw_wt%']])\n",
        "print(icg_input.loc[[idx1],['Simulation Case Conditions_Spec 2 : NA in Benzene_ppmw']])\n",
        "f.Recommended_mode = False #(True or False)\n",
        "f.real_data_mode = True\n",
        "c620_wt1,c620_op1,c660_wt1,c660_op1,c670_wt1,c670_op1 = f(icg_input.loc[[idx1]],c620_feed.loc[[idx1]],t651_feed.loc[[idx1]])\n",
        "print(c620_wt1.filter(regex='Sidedraw Production Rate and Composition_Benzene_wt%'))\n",
        "naidx = [1,2,3,4,5,6,8,9,11,13,14,15,20,22,29]\n",
        "c660_wt1.filter(regex='Sidedraw').iloc[:,naidx].sum(axis=1)*10000"
      ],
      "execution_count": 10,
      "outputs": [
        {
          "output_type": "stream",
          "text": [
            "            Simulation Case Conditions_Spec 1 : Benzene in C620 Sidedraw_wt%\n",
            "2020-09-05                                              88.48               \n",
            "            Simulation Case Conditions_Spec 2 : NA in Benzene_ppmw\n",
            "2020-09-05                                              748.0     \n",
            "            Tatoray Stripper C620 Operation_Sidedraw Production Rate and Composition_Benzene_wt%\n",
            "2020-09-05                                          89.205144                                   \n"
          ],
          "name": "stdout"
        },
        {
          "output_type": "execute_result",
          "data": {
            "text/plain": [
              "2020-09-05    469.522107\n",
              "dtype: float64"
            ]
          },
          "metadata": {
            "tags": []
          },
          "execution_count": 10
        }
      ]
    },
    {
      "cell_type": "code",
      "metadata": {
        "id": "1iMDzh6WSHUE",
        "outputId": "a33ca2ff-1683-42ae-bfc1-2e7e307f43dc",
        "colab": {
          "base_uri": "https://localhost:8080/"
        }
      },
      "source": [
        "# 真實數據 推薦模式\n",
        "print(icg_input.loc[[idx1],['Simulation Case Conditions_Spec 1 : Benzene in C620 Sidedraw_wt%']])\n",
        "print(icg_input.loc[[idx1],['Simulation Case Conditions_Spec 2 : NA in Benzene_ppmw']])\n",
        "f.Recommended_mode = True #(True or False)\n",
        "f.real_data_mode = True\n",
        "c620_wt1,c620_op1,c660_wt1,c660_op1,c670_wt1,c670_op1 = f(icg_input.loc[[idx1]],c620_feed.loc[[idx1]],t651_feed.loc[[idx1]])\n",
        "print(c620_wt1.filter(regex='Sidedraw Production Rate and Composition_Benzene_wt%'))\n",
        "naidx = [1,2,3,4,5,6,8,9,11,13,14,15,20,22,29]\n",
        "c660_wt1.filter(regex='Sidedraw').iloc[:,naidx].sum(axis=1)*10000"
      ],
      "execution_count": 11,
      "outputs": [
        {
          "output_type": "stream",
          "text": [
            "            Simulation Case Conditions_Spec 1 : Benzene in C620 Sidedraw_wt%\n",
            "2020-09-05                                              88.48               \n",
            "            Simulation Case Conditions_Spec 2 : NA in Benzene_ppmw\n",
            "2020-09-05                                              748.0     \n",
            "current Distillate Rate_m3/hr:0.23077957112638564 NA in Benzene_ppmw:980.0\n",
            "            Tatoray Stripper C620 Operation_Sidedraw Production Rate and Composition_Benzene_wt%\n",
            "2020-09-05                                           80.77302                                   \n"
          ],
          "name": "stdout"
        },
        {
          "output_type": "execute_result",
          "data": {
            "text/plain": [
              "2020-09-05    488.373393\n",
              "dtype: float64"
            ]
          },
          "metadata": {
            "tags": []
          },
          "execution_count": 11
        }
      ]
    },
    {
      "cell_type": "code",
      "metadata": {
        "id": "EmP7NNhPTrGg",
        "outputId": "67fdd48f-67bc-4664-a66f-3e57c0ac38b7",
        "colab": {
          "base_uri": "https://localhost:8080/"
        }
      },
      "source": [
        "# 模擬數據 試算模式\n",
        "demo = joblib.load('./data/demo.pkl')\n",
        "icg_input = demo['icg_input']\n",
        "c620_feed = demo['c620_feed']\n",
        "t651_feed = demo['t651_feed']\n",
        "idx1 = icg_input.index[0]\n",
        "print(icg_input.loc[[idx1],['Simulation Case Conditions_Spec 1 : Benzene in C620 Sidedraw_wt%']])\n",
        "print(icg_input.loc[[idx1],['Simulation Case Conditions_Spec 2 : NA in Benzene_ppmw']])\n",
        "f.Recommended_mode = False #(True or False)\n",
        "f.real_data_mode = False\n",
        "c620_wt1,c620_op1,c660_wt1,c660_op1,c670_wt1,c670_op1 = f(icg_input.loc[[idx1]],c620_feed.loc[[idx1]],t651_feed.loc[[idx1]])\n",
        "print(c620_wt1.filter(regex='Sidedraw Production Rate and Composition_Benzene_wt%'))\n",
        "naidx = [1,2,3,4,5,6,8,9,11,13,14,15,20,22,29]\n",
        "c660_wt1.filter(regex='Sidedraw').iloc[:,naidx].sum(axis=1)*10000"
      ],
      "execution_count": 12,
      "outputs": [
        {
          "output_type": "stream",
          "text": [
            "         Simulation Case Conditions_Spec 1 : Benzene in C620 Sidedraw_wt%\n",
            "124-020                                               70.0               \n",
            "         Simulation Case Conditions_Spec 2 : NA in Benzene_ppmw\n",
            "124-020                                              980.0     \n",
            "         Tatoray Stripper C620 Operation_Sidedraw Production Rate and Composition_Benzene_wt%\n",
            "124-020                                          79.807054                                   \n"
          ],
          "name": "stdout"
        },
        {
          "output_type": "execute_result",
          "data": {
            "text/plain": [
              "124-020    833.028942\n",
              "dtype: float64"
            ]
          },
          "metadata": {
            "tags": []
          },
          "execution_count": 12
        }
      ]
    },
    {
      "cell_type": "code",
      "metadata": {
        "id": "t03fZ5T3UOII",
        "outputId": "c48383f9-62a9-4e05-9309-fe6847c3edbf",
        "colab": {
          "base_uri": "https://localhost:8080/"
        }
      },
      "source": [
        "# 模擬數據 推薦模式\n",
        "demo = joblib.load('./data/demo.pkl')\n",
        "icg_input = demo['icg_input']\n",
        "c620_feed = demo['c620_feed']\n",
        "t651_feed = demo['t651_feed']\n",
        "idx1 = icg_input.index[0]\n",
        "print(icg_input.loc[[idx1],['Simulation Case Conditions_Spec 1 : Benzene in C620 Sidedraw_wt%']])\n",
        "print(icg_input.loc[[idx1],['Simulation Case Conditions_Spec 2 : NA in Benzene_ppmw']])\n",
        "f.Recommended_mode = True #(True or False)\n",
        "f.real_data_mode = False\n",
        "c620_wt1,c620_op1,c660_wt1,c660_op1,c670_wt1,c670_op1 = f(icg_input.loc[[idx1]],c620_feed.loc[[idx1]],t651_feed.loc[[idx1]])\n",
        "print(c620_wt1.filter(regex='Sidedraw Production Rate and Composition_Benzene_wt%'))\n",
        "naidx = [1,2,3,4,5,6,8,9,11,13,14,15,20,22,29]\n",
        "c660_wt1.filter(regex='Sidedraw').iloc[:,naidx].sum(axis=1)*10000"
      ],
      "execution_count": 13,
      "outputs": [
        {
          "output_type": "stream",
          "text": [
            "         Simulation Case Conditions_Spec 1 : Benzene in C620 Sidedraw_wt%\n",
            "124-020                                               70.0               \n",
            "         Simulation Case Conditions_Spec 2 : NA in Benzene_ppmw\n",
            "124-020                                              980.0     \n",
            "current Distillate Rate_m3/hr:0.4746916636938635 NA in Benzene_ppmw:980.0\n",
            "         Tatoray Stripper C620 Operation_Sidedraw Production Rate and Composition_Benzene_wt%\n",
            "124-020                                          79.736179                                   \n"
          ],
          "name": "stdout"
        },
        {
          "output_type": "execute_result",
          "data": {
            "text/plain": [
              "124-020    833.032422\n",
              "dtype: float64"
            ]
          },
          "metadata": {
            "tags": []
          },
          "execution_count": 13
        }
      ]
    },
    {
      "cell_type": "code",
      "metadata": {
        "id": "z5M8VFjhUQvF"
      },
      "source": [
        ""
      ],
      "execution_count": 13,
      "outputs": []
    }
  ]
}