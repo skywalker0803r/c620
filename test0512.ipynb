{
  "nbformat": 4,
  "nbformat_minor": 0,
  "metadata": {
    "colab": {
      "name": "test0512.ipynb",
      "provenance": [],
      "authorship_tag": "ABX9TyOa2rW3wHxVsJ4IIobXhEYY",
      "include_colab_link": true
    },
    "kernelspec": {
      "name": "python3",
      "display_name": "Python 3"
    },
    "language_info": {
      "name": "python"
    }
  },
  "cells": [
    {
      "cell_type": "markdown",
      "metadata": {
        "id": "view-in-github",
        "colab_type": "text"
      },
      "source": [
        "<a href=\"https://colab.research.google.com/github/skywalker0803r/c620/blob/main/test0512.ipynb\" target=\"_parent\"><img src=\"https://colab.research.google.com/assets/colab-badge.svg\" alt=\"Open In Colab\"/></a>"
      ]
    },
    {
      "cell_type": "code",
      "metadata": {
        "id": "cLQqwYQqFnE7"
      },
      "source": [
        "icg_input = {'Simulation Case Conditions_Feed Rate_Feed from V615 Btm_m3/hr': 194.7444448467381,\n",
        " 'Simulation Case Conditions_Feed Rate_Feed from V615 Btm    NA_wt%': 1.593000054359436,\n",
        " 'Simulation Case Conditions_Feed Rate_Feed from V615 Btm    Benzene_wt%': 12.267999649047852,\n",
        " 'Simulation Case Conditions_Feed Rate_Feed from V615 Btm    Toluene_wt%': 38.2859992980957,\n",
        " 'Simulation Case Conditions_Feed Rate_Feed from C820 Dist_m3/hr': 19.48727964114169,\n",
        " 'Simulation Case Conditions_Feed Rate_Feed from C820 Dist    NA_wt%': 2.0759999752044678,\n",
        " 'Simulation Case Conditions_Feed Rate_Feed from C820 Dist    Benzene_wt%': 64.77100372314453,\n",
        " 'Simulation Case Conditions_Feed Rate_Feed from C820 Dist    Toluene_wt%': 21.767000198364258,\n",
        " 'Simulation Case Conditions_Feed Rate_Feed from T651_m3/hr': 111.6630018676762,\n",
        " 'Simulation Case Conditions_Feed Rate_Feed from T651    NA_wt%': 0.6299999952316284,\n",
        " 'Simulation Case Conditions_Feed Rate_Feed from T651    Benzene_wt%': 41.790000915527344,\n",
        " 'Simulation Case Conditions_Feed Rate_Feed from T651    Toluene_wt%': 42.56999969482422,\n",
        " 'Simulation Case Conditions_Spec 1 : Benzene in C620 Sidedraw_wt%': 83.71800231933594,\n",
        " 'Simulation Case Conditions_Spec 2 : NA in Benzene_ppmw': 620.0,\n",
        " 'Tatoray Stripper C620 Operation_Specifications_Spec 2 : Distillate Rate_m3/hr': 0.0,\n",
        " 'Benzene Column C660 Operation_Specifications_Spec 3 : Toluene in Benzene_ppmw': 55.0,\n",
        " 'Tatoray Stripper C620 Operation_Specifications_Spec 1 : Receiver Temp_oC': 43.047595488698455}\n",
        "\n",
        "\n",
        "c620_feed = {'Combined Feed to Tatoray Stripper C620_Detailed Composition_Hydrogen_wt%': 0,\n",
        " 'Combined Feed to Tatoray Stripper C620_Detailed Composition_Methane_wt%': 0.027483375885533165,\n",
        " 'Combined Feed to Tatoray Stripper C620_Detailed Composition_Ethane_wt%': 0.6624940081881153,\n",
        " 'Combined Feed to Tatoray Stripper C620_Detailed Composition_Propane_wt%': 0.6040916450722905,\n",
        " 'Combined Feed to Tatoray Stripper C620_Detailed Composition_n-Butane_wt%': 0.17322578386461426,\n",
        " 'Combined Feed to Tatoray Stripper C620_Detailed Composition_n-Pentane_wt%': 0.07812193052950017,\n",
        " 'Combined Feed to Tatoray Stripper C620_Detailed Composition_n-Hexane_wt%': 0.016535197509511657,\n",
        " 'Combined Feed to Tatoray Stripper C620_Detailed Composition_Benzene_wt%': 17.096647267314527,\n",
        " 'Combined Feed to Tatoray Stripper C620_Detailed Composition_Cyclohexane_wt%': 0.007369805194680311,\n",
        " 'Combined Feed to Tatoray Stripper C620_Detailed Composition_n-Heptane_wt%': 0.01562785756965028,\n",
        " 'Combined Feed to Tatoray Stripper C620_Detailed Composition_Water_wt%': 0,\n",
        " 'Combined Feed to Tatoray Stripper C620_Detailed Composition_Methylcyclohexane_wt%': 0.011799325415317181,\n",
        " 'Combined Feed to Tatoray Stripper C620_Detailed Composition_Toluene_wt%': 36.766763835940104,\n",
        " 'Combined Feed to Tatoray Stripper C620_Detailed Composition_n-Octane_wt%': 0.0078089386648296545,\n",
        " 'Combined Feed to Tatoray Stripper C620_Detailed Composition_n-Propylcyclopentane_wt%': 0.009221802873136243,\n",
        " 'Combined Feed to Tatoray Stripper C620_Detailed Composition_Ethylcyclohexane_wt%': 0.009221802873136243,\n",
        " 'Combined Feed to Tatoray Stripper C620_Detailed Composition_Ethylbenzene_wt%': 1.0191813032660095,\n",
        " 'Combined Feed to Tatoray Stripper C620_Detailed Composition_p-Xylene_wt%': 7.399673294308853,\n",
        " 'Combined Feed to Tatoray Stripper C620_Detailed Composition_m-Xylene_wt%': 15.89904961685364,\n",
        " 'Combined Feed to Tatoray Stripper C620_Detailed Composition_o-Xylene_wt%': 6.72051915989657,\n",
        " 'Combined Feed to Tatoray Stripper C620_Detailed Composition_n-Nonane_wt%': 0.013364931700197454,\n",
        " 'Combined Feed to Tatoray Stripper C620_Detailed Composition_i-Propylbenzene_wt%': 0.010690249009120583,\n",
        " 'Combined Feed to Tatoray Stripper C620_Detailed Composition_n-Propylcyclohexane_wt%': 0.002501151503894095,\n",
        " 'Combined Feed to Tatoray Stripper C620_Detailed Composition_n-Propylbenzene_wt%': 0.010690249009120583,\n",
        " 'Combined Feed to Tatoray Stripper C620_Detailed Composition_1-Methyl-3-ethylbenzene_wt%': 0.8338578165078473,\n",
        " 'Combined Feed to Tatoray Stripper C620_Detailed Composition_1-Methyl-4-ethylbenzene_wt%': 0.43831860317038573,\n",
        " 'Combined Feed to Tatoray Stripper C620_Detailed Composition_1,3,5-Trimethylbenzene_wt%': 2.298440324553809,\n",
        " 'Combined Feed to Tatoray Stripper C620_Detailed Composition_1-Methyl-2-ethylbenzene_wt%': 0.2458849241079943,\n",
        " 'Combined Feed to Tatoray Stripper C620_Detailed Composition_1,2,4-Trimethylbenzene_wt%': 5.868955902905421,\n",
        " 'Combined Feed to Tatoray Stripper C620_Detailed Composition_tert-Butylcyclohexane_wt%': 0.0,\n",
        " 'Combined Feed to Tatoray Stripper C620_Detailed Composition_1,2,3-Trimethylbenzene_wt%': 0.9407419128026112,\n",
        " 'Combined Feed to Tatoray Stripper C620_Detailed Composition_Indane_wt%': 0.03207074702736175,\n",
        " 'Combined Feed to Tatoray Stripper C620_Detailed Composition_1-Methyl-4-n-propylbenzene_wt%': 0.0006352584861296367,\n",
        " 'Combined Feed to Tatoray Stripper C620_Detailed Composition_1,2-Diethylbenzene_wt%': 0.018898939962356694,\n",
        " 'Combined Feed to Tatoray Stripper C620_Detailed Composition_5-Ethyl-m-xylene_wt%': 0.7291179274552906,\n",
        " 'Combined Feed to Tatoray Stripper C620_Detailed Composition_1,4-Diethylbenzene_wt%': 0.0,\n",
        " 'Combined Feed to Tatoray Stripper C620_Detailed Composition_1,2,3,5-Tetramethylbenzene_wt%': 0.839494089420315,\n",
        " 'Combined Feed to Tatoray Stripper C620_Detailed Composition_n-Pentylbenzene_wt%': 0.8275795026923366,\n",
        " 'Combined Feed to Tatoray Stripper C620_Detailed Composition_n-Hexylbenzene_wt%': 0.3546769297252872,\n",
        " 'Combined Feed to Tatoray Stripper C620_Detailed Composition_Nitrogen_wt%': 0,\n",
        " 'Combined Feed to Tatoray Stripper C620_Detailed Composition_Oxygen_wt%': 0}\n",
        "\n",
        "t651_feed = {'Extract Feed from T651_Detailed Composition_Hydrogen_wt%': 0,\n",
        " 'Extract Feed from T651_Detailed Composition_Methane_wt%': 0.0,\n",
        " 'Extract Feed from T651_Detailed Composition_Ethane_wt%': 0.0,\n",
        " 'Extract Feed from T651_Detailed Composition_Propane_wt%': 0.0,\n",
        " 'Extract Feed from T651_Detailed Composition_n-Butane_wt%': 0.0,\n",
        " 'Extract Feed from T651_Detailed Composition_n-Pentane_wt%': 0.0,\n",
        " 'Extract Feed from T651_Detailed Composition_n-Hexane_wt%': 0.0062999999523162846,\n",
        " 'Extract Feed from T651_Detailed Composition_Benzene_wt%': 41.790000915527344,\n",
        " 'Extract Feed from T651_Detailed Composition_Cyclohexane_wt%': 0.0,\n",
        " 'Extract Feed from T651_Detailed Composition_n-Heptane_wt%': 0.0062999999523162846,\n",
        " 'Extract Feed from T651_Detailed Composition_Water_wt%': 0,\n",
        " 'Extract Feed from T651_Detailed Composition_Methylcyclohexane_wt%': 0.0,\n",
        " 'Extract Feed from T651_Detailed Composition_Toluene_wt%': 42.56999969482422,\n",
        " 'Extract Feed from T651_Detailed Composition_n-Octane_wt%': 0.07559999942779541,\n",
        " 'Extract Feed from T651_Detailed Composition_n-Propylcyclopentane_wt%': 0.06929999947547913,\n",
        " 'Extract Feed from T651_Detailed Composition_Ethylcyclohexane_wt%': 0.05669999957084656,\n",
        " 'Extract Feed from T651_Detailed Composition_Ethylbenzene_wt%': 7.579999923706055,\n",
        " 'Extract Feed from T651_Detailed Composition_p-Xylene_wt%': 1.840000033378601,\n",
        " 'Extract Feed from T651_Detailed Composition_m-Xylene_wt%': 4.429999828338623,\n",
        " 'Extract Feed from T651_Detailed Composition_o-Xylene_wt%': 1.1100000143051147,\n",
        " 'Extract Feed from T651_Detailed Composition_n-Nonane_wt%': 0.1196999990940094,\n",
        " 'Extract Feed from T651_Detailed Composition_i-Propylbenzene_wt%': 0.0,\n",
        " 'Extract Feed from T651_Detailed Composition_n-Propylcyclohexane_wt%': 0.26459999799728395,\n",
        " 'Extract Feed from T651_Detailed Composition_n-Propylbenzene_wt%': 0.0,\n",
        " 'Extract Feed from T651_Detailed Composition_1-Methyl-3-ethylbenzene_wt%': 0.001600000075995922,\n",
        " 'Extract Feed from T651_Detailed Composition_1-Methyl-4-ethylbenzene_wt%': 0.001600000075995922,\n",
        " 'Extract Feed from T651_Detailed Composition_1,3,5-Trimethylbenzene_wt%': 0.003200000151991844,\n",
        " 'Extract Feed from T651_Detailed Composition_1-Methyl-2-ethylbenzene_wt%': 0.000800000037997961,\n",
        " 'Extract Feed from T651_Detailed Composition_1,2,4-Trimethylbenzene_wt%': 0.000800000037997961,\n",
        " 'Extract Feed from T651_Detailed Composition_tert-Butylcyclohexane_wt%': 0.018899999856948853,\n",
        " 'Extract Feed from T651_Detailed Composition_1,2,3-Trimethylbenzene_wt%': 0.0,\n",
        " 'Extract Feed from T651_Detailed Composition_Indane_wt%': 0.0,\n",
        " 'Extract Feed from T651_Detailed Composition_1-Methyl-4-n-propylbenzene_wt%': 0.0,\n",
        " 'Extract Feed from T651_Detailed Composition_1,2-Diethylbenzene_wt%': 0.0,\n",
        " 'Extract Feed from T651_Detailed Composition_5-Ethyl-m-xylene_wt%': 0.0,\n",
        " 'Extract Feed from T651_Detailed Composition_1,4-Diethylbenzene_wt%': 0.0,\n",
        " 'Extract Feed from T651_Detailed Composition_1,2,3,5-Tetramethylbenzene_wt%': 0.0,\n",
        " 'Extract Feed from T651_Detailed Composition_n-Pentylbenzene_wt%': 0.0,\n",
        " 'Extract Feed from T651_Detailed Composition_n-Hexylbenzene_wt%': 0.0,\n",
        " 'Extract Feed from T651_Detailed Composition_Nitrogen_wt%': 0,\n",
        " 'Extract Feed from T651_Detailed Composition_Oxygen_wt%': 0}"
      ],
      "execution_count": 23,
      "outputs": []
    },
    {
      "cell_type": "code",
      "metadata": {
        "colab": {
          "base_uri": "https://localhost:8080/"
        },
        "id": "uCAV9bsHFywg",
        "outputId": "c4e7abd7-9c21-42fc-ee0e-b83b5d81086f"
      },
      "source": [
        "!git clone https://github.com/skywalker0803r/c620.git\n",
        "!pip install autorch > log.txt\n",
        "!pip install optuna > log.txt"
      ],
      "execution_count": 24,
      "outputs": [
        {
          "output_type": "stream",
          "text": [
            "Cloning into 'c620'...\n",
            "remote: Enumerating objects: 2518, done.\u001b[K\n",
            "remote: Counting objects: 100% (248/248), done.\u001b[K\n",
            "remote: Compressing objects: 100% (219/219), done.\u001b[K\n",
            "remote: Total 2518 (delta 154), reused 61 (delta 28), pack-reused 2270\u001b[K\n",
            "Receiving objects: 100% (2518/2518), 65.93 MiB | 26.32 MiB/s, done.\n",
            "Resolving deltas: 100% (1647/1647), done.\n"
          ],
          "name": "stdout"
        }
      ]
    },
    {
      "cell_type": "code",
      "metadata": {
        "colab": {
          "base_uri": "https://localhost:8080/"
        },
        "id": "cm_yaM_IF3c2",
        "outputId": "cca773a6-7b55-4c35-fdae-44a44adb8a3b"
      },
      "source": [
        "from c620.FV2 import AllSystem\n",
        "from c620.configV2 import config\n",
        "import joblib\n",
        "import numpy as np\n",
        "import pandas as pd\n",
        "import os\n",
        "os.chdir('/content/c620')\n",
        "print(os.getcwd())\n",
        "!git pull"
      ],
      "execution_count": 25,
      "outputs": [
        {
          "output_type": "stream",
          "text": [
            "/content/c620\n",
            "remote: Enumerating objects: 9, done.\u001b[K\n",
            "remote: Counting objects: 100% (9/9), done.\u001b[K\n",
            "remote: Compressing objects: 100% (6/6), done.\u001b[K\n",
            "remote: Total 6 (delta 4), reused 0 (delta 0), pack-reused 0\u001b[K\n",
            "Unpacking objects: 100% (6/6), done.\n",
            "From https://github.com/skywalker0803r/c620\n",
            "   7231a99..fa391f4  main       -> origin/main\n",
            "Updating 7231a99..fa391f4\n",
            "Fast-forward\n",
            " FV2.py         |   7 \u001b[32m+\u001b[m\u001b[31m-\u001b[m\n",
            " test0512.ipynb | 236 \u001b[32m++++++++++++++++++++++++++++\u001b[m\u001b[31m-----------------------------\u001b[m\n",
            " 2 files changed, 122 insertions(+), 121 deletions(-)\n"
          ],
          "name": "stdout"
        }
      ]
    },
    {
      "cell_type": "code",
      "metadata": {
        "id": "oSTRIjNbF5sH"
      },
      "source": [
        "import pandas as pd\n",
        "\n",
        "icg_input = pd.DataFrame(icg_input,index=['2021/05/12'])\n",
        "c620_feed = pd.DataFrame(c620_feed,index=['2021/05/12'])\n",
        "t651_feed = pd.DataFrame(t651_feed,index=['2021/05/12'])"
      ],
      "execution_count": 26,
      "outputs": []
    },
    {
      "cell_type": "markdown",
      "metadata": {
        "id": "Pn_mH93dGA_h"
      },
      "source": [
        "# 原本SPEC"
      ]
    },
    {
      "cell_type": "code",
      "metadata": {
        "colab": {
          "base_uri": "https://localhost:8080/",
          "height": 78
        },
        "id": "MNiv2RhbF_EP",
        "outputId": "fd55d4b4-b5dc-4258-9b84-62f31bf7475a"
      },
      "source": [
        "icg_input[['Tatoray Stripper C620 Operation_Specifications_Spec 2 : Distillate Rate_m3/hr']]"
      ],
      "execution_count": 27,
      "outputs": [
        {
          "output_type": "execute_result",
          "data": {
            "text/html": [
              "<div>\n",
              "<style scoped>\n",
              "    .dataframe tbody tr th:only-of-type {\n",
              "        vertical-align: middle;\n",
              "    }\n",
              "\n",
              "    .dataframe tbody tr th {\n",
              "        vertical-align: top;\n",
              "    }\n",
              "\n",
              "    .dataframe thead th {\n",
              "        text-align: right;\n",
              "    }\n",
              "</style>\n",
              "<table border=\"1\" class=\"dataframe\">\n",
              "  <thead>\n",
              "    <tr style=\"text-align: right;\">\n",
              "      <th></th>\n",
              "      <th>Tatoray Stripper C620 Operation_Specifications_Spec 2 : Distillate Rate_m3/hr</th>\n",
              "    </tr>\n",
              "  </thead>\n",
              "  <tbody>\n",
              "    <tr>\n",
              "      <th>2021/05/12</th>\n",
              "      <td>0.0</td>\n",
              "    </tr>\n",
              "  </tbody>\n",
              "</table>\n",
              "</div>"
            ],
            "text/plain": [
              "            Tatoray Stripper C620 Operation_Specifications_Spec 2 : Distillate Rate_m3/hr\n",
              "2021/05/12                                                0.0                            "
            ]
          },
          "metadata": {
            "tags": []
          },
          "execution_count": 27
        }
      ]
    },
    {
      "cell_type": "code",
      "metadata": {
        "colab": {
          "base_uri": "https://localhost:8080/",
          "height": 78
        },
        "id": "91g0DpxhGC4C",
        "outputId": "2c57b211-3ebf-4e08-b5e2-6574ac359d5b"
      },
      "source": [
        "icg_input[['Simulation Case Conditions_Spec 2 : NA in Benzene_ppmw']]"
      ],
      "execution_count": 28,
      "outputs": [
        {
          "output_type": "execute_result",
          "data": {
            "text/html": [
              "<div>\n",
              "<style scoped>\n",
              "    .dataframe tbody tr th:only-of-type {\n",
              "        vertical-align: middle;\n",
              "    }\n",
              "\n",
              "    .dataframe tbody tr th {\n",
              "        vertical-align: top;\n",
              "    }\n",
              "\n",
              "    .dataframe thead th {\n",
              "        text-align: right;\n",
              "    }\n",
              "</style>\n",
              "<table border=\"1\" class=\"dataframe\">\n",
              "  <thead>\n",
              "    <tr style=\"text-align: right;\">\n",
              "      <th></th>\n",
              "      <th>Simulation Case Conditions_Spec 2 : NA in Benzene_ppmw</th>\n",
              "    </tr>\n",
              "  </thead>\n",
              "  <tbody>\n",
              "    <tr>\n",
              "      <th>2021/05/12</th>\n",
              "      <td>620.0</td>\n",
              "    </tr>\n",
              "  </tbody>\n",
              "</table>\n",
              "</div>"
            ],
            "text/plain": [
              "            Simulation Case Conditions_Spec 2 : NA in Benzene_ppmw\n",
              "2021/05/12                                              620.0     "
            ]
          },
          "metadata": {
            "tags": []
          },
          "execution_count": 28
        }
      ]
    },
    {
      "cell_type": "code",
      "metadata": {
        "colab": {
          "base_uri": "https://localhost:8080/",
          "height": 78
        },
        "id": "slk1YJ8jGER6",
        "outputId": "68ba5d43-af21-4fd1-a058-9810db8cc1d2"
      },
      "source": [
        "icg_input[['Simulation Case Conditions_Spec 1 : Benzene in C620 Sidedraw_wt%']]"
      ],
      "execution_count": 29,
      "outputs": [
        {
          "output_type": "execute_result",
          "data": {
            "text/html": [
              "<div>\n",
              "<style scoped>\n",
              "    .dataframe tbody tr th:only-of-type {\n",
              "        vertical-align: middle;\n",
              "    }\n",
              "\n",
              "    .dataframe tbody tr th {\n",
              "        vertical-align: top;\n",
              "    }\n",
              "\n",
              "    .dataframe thead th {\n",
              "        text-align: right;\n",
              "    }\n",
              "</style>\n",
              "<table border=\"1\" class=\"dataframe\">\n",
              "  <thead>\n",
              "    <tr style=\"text-align: right;\">\n",
              "      <th></th>\n",
              "      <th>Simulation Case Conditions_Spec 1 : Benzene in C620 Sidedraw_wt%</th>\n",
              "    </tr>\n",
              "  </thead>\n",
              "  <tbody>\n",
              "    <tr>\n",
              "      <th>2021/05/12</th>\n",
              "      <td>83.718002</td>\n",
              "    </tr>\n",
              "  </tbody>\n",
              "</table>\n",
              "</div>"
            ],
            "text/plain": [
              "            Simulation Case Conditions_Spec 1 : Benzene in C620 Sidedraw_wt%\n",
              "2021/05/12                                          83.718002               "
            ]
          },
          "metadata": {
            "tags": []
          },
          "execution_count": 29
        }
      ]
    },
    {
      "cell_type": "code",
      "metadata": {
        "colab": {
          "base_uri": "https://localhost:8080/",
          "height": 78
        },
        "id": "klmWyesqGHxi",
        "outputId": "3758c804-6a2a-4b60-d8f0-05cd604f86db"
      },
      "source": [
        "icg_input[['Benzene Column C660 Operation_Specifications_Spec 3 : Toluene in Benzene_ppmw']]"
      ],
      "execution_count": 30,
      "outputs": [
        {
          "output_type": "execute_result",
          "data": {
            "text/html": [
              "<div>\n",
              "<style scoped>\n",
              "    .dataframe tbody tr th:only-of-type {\n",
              "        vertical-align: middle;\n",
              "    }\n",
              "\n",
              "    .dataframe tbody tr th {\n",
              "        vertical-align: top;\n",
              "    }\n",
              "\n",
              "    .dataframe thead th {\n",
              "        text-align: right;\n",
              "    }\n",
              "</style>\n",
              "<table border=\"1\" class=\"dataframe\">\n",
              "  <thead>\n",
              "    <tr style=\"text-align: right;\">\n",
              "      <th></th>\n",
              "      <th>Benzene Column C660 Operation_Specifications_Spec 3 : Toluene in Benzene_ppmw</th>\n",
              "    </tr>\n",
              "  </thead>\n",
              "  <tbody>\n",
              "    <tr>\n",
              "      <th>2021/05/12</th>\n",
              "      <td>55.0</td>\n",
              "    </tr>\n",
              "  </tbody>\n",
              "</table>\n",
              "</div>"
            ],
            "text/plain": [
              "            Benzene Column C660 Operation_Specifications_Spec 3 : Toluene in Benzene_ppmw\n",
              "2021/05/12                                               55.0                            "
            ]
          },
          "metadata": {
            "tags": []
          },
          "execution_count": 30
        }
      ]
    },
    {
      "cell_type": "markdown",
      "metadata": {
        "id": "B0yO-1m-GKun"
      },
      "source": [
        "# 第一次試算 簡稱 op1"
      ]
    },
    {
      "cell_type": "code",
      "metadata": {
        "id": "WAhjOol_GJOi"
      },
      "source": [
        "f = AllSystem(config)\n",
        "c620_wt1,c620_op1,c660_wt1,c660_op1,c670_wt1,c670_op1,c620_side_體積流量 = f.inference(icg_input.copy(),c620_feed.copy(),t651_feed.copy())"
      ],
      "execution_count": 31,
      "outputs": []
    },
    {
      "cell_type": "code",
      "metadata": {
        "colab": {
          "base_uri": "https://localhost:8080/"
        },
        "id": "Mn77IcFxGQAa",
        "outputId": "76a13fee-d3d4-48e8-af90-1a3831bc55ff"
      },
      "source": [
        "na_idx = [1,2,3,4,5,6,8,9,11,13,14,15,20,22,29] \n",
        "c660_wt1.filter(regex='Side').filter(regex='wt%').iloc[:,na_idx].sum(axis=1).values[0]*10000"
      ],
      "execution_count": 32,
      "outputs": [
        {
          "output_type": "execute_result",
          "data": {
            "text/plain": [
              "550.665650872533"
            ]
          },
          "metadata": {
            "tags": []
          },
          "execution_count": 32
        }
      ]
    },
    {
      "cell_type": "markdown",
      "metadata": {
        "id": "KUBExOP-GeRt"
      },
      "source": [
        "# 第二次 試算 簡稱 op2"
      ]
    },
    {
      "cell_type": "code",
      "metadata": {
        "colab": {
          "base_uri": "https://localhost:8080/"
        },
        "id": "NS0WsyPcGWPK",
        "outputId": "7dfe5b16-c148-4366-f6ea-fd965c096ca2"
      },
      "source": [
        "icg_input2 = icg_input.copy()\n",
        "\n",
        "# 第二次試算直接 代 dist = 0 觀察輸出NA in BZ 然後寫個if else 判斷是否要再增dist rate\n",
        "icg_input2['Tatoray Stripper C620 Operation_Specifications_Spec 2 : Distillate Rate_m3/hr'] = 0.0\n",
        "\n",
        "if icg_input['Simulation Case Conditions_Feed Rate_Feed from T651_m3/hr'].values[0] + c620_side_體積流量[0,0] > 150:\n",
        "  icg_input2['Simulation Case Conditions_Spec 1 : Benzene in C620 Sidedraw_wt%'] = 85\n",
        "  print('Simulation Case Conditions_Spec 1 : Benzene in C620 Sidedraw_wt%=85')\n",
        "# 否則代 70\n",
        "else:\n",
        "  icg_input2['Simulation Case Conditions_Spec 1 : Benzene in C620 Sidedraw_wt%'] = 70\n",
        "  print('Simulation Case Conditions_Spec 1 : Benzene in C620 Sidedraw_wt%=70')\n",
        "\n",
        "# Toluene in Benzene_ppmw 代 10\n",
        "icg_input2['Benzene Column C660 Operation_Specifications_Spec 3 : Toluene in Benzene_ppmw'] = 10\n",
        "\n",
        "# Simulation Case Conditions_Spec 2 : NA in Benzene_ppmw 代 980\n",
        "icg_input2['Simulation Case Conditions_Spec 2 : NA in Benzene_ppmw'] = 980"
      ],
      "execution_count": 36,
      "outputs": [
        {
          "output_type": "stream",
          "text": [
            "Simulation Case Conditions_Spec 1 : Benzene in C620 Sidedraw_wt%=85\n"
          ],
          "name": "stdout"
        }
      ]
    },
    {
      "cell_type": "code",
      "metadata": {
        "id": "6WfK9uWtGovy"
      },
      "source": [
        "c620_wt2,c620_op2,c660_wt2,c660_op2,c670_wt2,c670_op2,c660_mf2 = f.inference(icg_input2.copy(),c620_feed.copy(),t651_feed.copy())"
      ],
      "execution_count": 37,
      "outputs": []
    },
    {
      "cell_type": "code",
      "metadata": {
        "colab": {
          "base_uri": "https://localhost:8080/"
        },
        "id": "kc4QzLeJGpH8",
        "outputId": "4da77dd1-8664-4fdb-a28a-a428b005a8aa"
      },
      "source": [
        "na_idx = [1,2,3,4,5,6,8,9,11,13,14,15,20,22,29] \n",
        "c660_wt2.filter(regex='Side').filter(regex='wt%').iloc[:,na_idx].sum(axis=1).values[0]*10000"
      ],
      "execution_count": 38,
      "outputs": [
        {
          "output_type": "execute_result",
          "data": {
            "text/plain": [
              "680.3876299487589"
            ]
          },
          "metadata": {
            "tags": []
          },
          "execution_count": 38
        }
      ]
    },
    {
      "cell_type": "markdown",
      "metadata": {
        "id": "mzaGHksdG0Ae"
      },
      "source": [
        "# 如果Distillate = 0， NA in BZ預測值小於980，就直接預測整個串接結果,所以不用再調整distrate,直接算調幅"
      ]
    },
    {
      "cell_type": "code",
      "metadata": {
        "colab": {
          "base_uri": "https://localhost:8080/",
          "height": 147
        },
        "id": "tWcP37Z2Gsay",
        "outputId": "cb119c23-b9fd-49e5-a55d-5864464af99b"
      },
      "source": [
        "c620_op2-c620_op1"
      ],
      "execution_count": 39,
      "outputs": [
        {
          "output_type": "execute_result",
          "data": {
            "text/html": [
              "<div>\n",
              "<style scoped>\n",
              "    .dataframe tbody tr th:only-of-type {\n",
              "        vertical-align: middle;\n",
              "    }\n",
              "\n",
              "    .dataframe tbody tr th {\n",
              "        vertical-align: top;\n",
              "    }\n",
              "\n",
              "    .dataframe thead th {\n",
              "        text-align: right;\n",
              "    }\n",
              "</style>\n",
              "<table border=\"1\" class=\"dataframe\">\n",
              "  <thead>\n",
              "    <tr style=\"text-align: right;\">\n",
              "      <th></th>\n",
              "      <th>Density_Feed Properties</th>\n",
              "      <th>Density_Vent Gas Production Rate and Composition</th>\n",
              "      <th>Density_Distillate Production Rate and Composition</th>\n",
              "      <th>Density_Sidedraw Production Rate and Composition</th>\n",
              "      <th>Density_Bottoms Production Rate and Composition</th>\n",
              "      <th>Tatoray Stripper C620 Operation_Yield Summary_Reflux Rate_m3/hr</th>\n",
              "      <th>Tatoray Stripper C620 Operation_Heat Duty_Condenser Heat Duty_Mkcal/hr</th>\n",
              "      <th>Tatoray Stripper C620 Operation_Heat Duty_Reboiler Heat Duty_Mkcal/hr</th>\n",
              "      <th>Tatoray Stripper C620 Operation_Column Temp Profile_C620 Tray 14 (Control)_oC</th>\n",
              "      <th>Tatoray Stripper C620 Operation_Column Temp Profile_C620 Tray 34 (Control)_oC</th>\n",
              "    </tr>\n",
              "  </thead>\n",
              "  <tbody>\n",
              "    <tr>\n",
              "      <th>2021/05/12</th>\n",
              "      <td>-0.000005</td>\n",
              "      <td>0.0</td>\n",
              "      <td>0.0</td>\n",
              "      <td>0.0</td>\n",
              "      <td>-0.000002</td>\n",
              "      <td>-0.000031</td>\n",
              "      <td>0.007875</td>\n",
              "      <td>0.037872</td>\n",
              "      <td>0.0</td>\n",
              "      <td>0.003052</td>\n",
              "    </tr>\n",
              "  </tbody>\n",
              "</table>\n",
              "</div>"
            ],
            "text/plain": [
              "            Density_Feed Properties  ...  Tatoray Stripper C620 Operation_Column Temp Profile_C620 Tray 34 (Control)_oC\n",
              "2021/05/12                -0.000005  ...                                           0.003052                            \n",
              "\n",
              "[1 rows x 10 columns]"
            ]
          },
          "metadata": {
            "tags": []
          },
          "execution_count": 39
        }
      ]
    },
    {
      "cell_type": "code",
      "metadata": {
        "colab": {
          "base_uri": "https://localhost:8080/",
          "height": 147
        },
        "id": "ZYPBz6sLG1nC",
        "outputId": "af3a4380-1437-46ce-8fb8-0253173022f8"
      },
      "source": [
        "c660_op2-c660_op1"
      ],
      "execution_count": 40,
      "outputs": [
        {
          "output_type": "execute_result",
          "data": {
            "text/html": [
              "<div>\n",
              "<style scoped>\n",
              "    .dataframe tbody tr th:only-of-type {\n",
              "        vertical-align: middle;\n",
              "    }\n",
              "\n",
              "    .dataframe tbody tr th {\n",
              "        vertical-align: top;\n",
              "    }\n",
              "\n",
              "    .dataframe thead th {\n",
              "        text-align: right;\n",
              "    }\n",
              "</style>\n",
              "<table border=\"1\" class=\"dataframe\">\n",
              "  <thead>\n",
              "    <tr style=\"text-align: right;\">\n",
              "      <th></th>\n",
              "      <th>Density_Feed Properties</th>\n",
              "      <th>Density_Vent Gas Production Rate and Composition</th>\n",
              "      <th>Density_Distillate (Benzene Drag) Production Rate and Composition</th>\n",
              "      <th>Density_Sidedraw (Benzene )Production Rate and Composition</th>\n",
              "      <th>Density_Bottoms Production Rate and Composition</th>\n",
              "      <th>Benzene Column C660 Operation_Yield Summary_Reflux Rate_m3/hr</th>\n",
              "      <th>Benzene Column C660 Operation_Heat Duty_Condenser Heat Duty_Mkcal/hr</th>\n",
              "      <th>Benzene Column C660 Operation_Heat Duty_Reboiler Heat Duty_Mkcal/hr</th>\n",
              "      <th>Benzene Column C660 Operation_Column Temp Profile_C660 Tray 6 (SD &amp; Control)_oC</th>\n",
              "      <th>Benzene Column C660 Operation_Column Temp Profile_C660 Tray 23 (Control)_oC</th>\n",
              "    </tr>\n",
              "  </thead>\n",
              "  <tbody>\n",
              "    <tr>\n",
              "      <th>2021/05/12</th>\n",
              "      <td>-0.000036</td>\n",
              "      <td>0.061856</td>\n",
              "      <td>-0.035163</td>\n",
              "      <td>-0.000061</td>\n",
              "      <td>-0.000003</td>\n",
              "      <td>29.200508</td>\n",
              "      <td>1.449405</td>\n",
              "      <td>1.887518</td>\n",
              "      <td>0.142067</td>\n",
              "      <td>-1.025543</td>\n",
              "    </tr>\n",
              "  </tbody>\n",
              "</table>\n",
              "</div>"
            ],
            "text/plain": [
              "            Density_Feed Properties  ...  Benzene Column C660 Operation_Column Temp Profile_C660 Tray 23 (Control)_oC\n",
              "2021/05/12                -0.000036  ...                                          -1.025543                          \n",
              "\n",
              "[1 rows x 10 columns]"
            ]
          },
          "metadata": {
            "tags": []
          },
          "execution_count": 40
        }
      ]
    },
    {
      "cell_type": "code",
      "metadata": {
        "colab": {
          "base_uri": "https://localhost:8080/",
          "height": 130
        },
        "id": "EeXFUoIlG3SC",
        "outputId": "e183435b-050a-49da-a220-7fccff28be50"
      },
      "source": [
        "c670_op2-c670_op1"
      ],
      "execution_count": 41,
      "outputs": [
        {
          "output_type": "execute_result",
          "data": {
            "text/html": [
              "<div>\n",
              "<style scoped>\n",
              "    .dataframe tbody tr th:only-of-type {\n",
              "        vertical-align: middle;\n",
              "    }\n",
              "\n",
              "    .dataframe tbody tr th {\n",
              "        vertical-align: top;\n",
              "    }\n",
              "\n",
              "    .dataframe thead th {\n",
              "        text-align: right;\n",
              "    }\n",
              "</style>\n",
              "<table border=\"1\" class=\"dataframe\">\n",
              "  <thead>\n",
              "    <tr style=\"text-align: right;\">\n",
              "      <th></th>\n",
              "      <th>Density_Distillate Production Rate and Composition</th>\n",
              "      <th>Density_Bottoms Production Rate and Composition</th>\n",
              "      <th>Toluene Column C670 Operation_Yield \\nSummary_Reflux Rate_m3/hr</th>\n",
              "      <th>Toluene Column C670 Operation_Heat Duty_Condenser Heat Duty_Mkcal/hr</th>\n",
              "      <th>Toluene Column C670 Operation_Heat Duty_Reboiler Heat Duty_Mkcal/hr</th>\n",
              "      <th>Toluene Column C670 Operation_Column Temp Profile_C670 Tray 24 (Control)_oC</th>\n",
              "      <th>Toluene Column C670 Operation_Column Temp Profile_C670 Btm Temp (Control)_oC</th>\n",
              "    </tr>\n",
              "  </thead>\n",
              "  <tbody>\n",
              "    <tr>\n",
              "      <th>2021/05/12</th>\n",
              "      <td>0.000003</td>\n",
              "      <td>0.000022</td>\n",
              "      <td>-1.648682</td>\n",
              "      <td>-0.075176</td>\n",
              "      <td>0.01001</td>\n",
              "      <td>-0.13446</td>\n",
              "      <td>-0.094131</td>\n",
              "    </tr>\n",
              "  </tbody>\n",
              "</table>\n",
              "</div>"
            ],
            "text/plain": [
              "            Density_Distillate Production Rate and Composition  ...  Toluene Column C670 Operation_Column Temp Profile_C670 Btm Temp (Control)_oC\n",
              "2021/05/12                                           0.000003   ...                                          -0.094131                           \n",
              "\n",
              "[1 rows x 7 columns]"
            ]
          },
          "metadata": {
            "tags": []
          },
          "execution_count": 41
        }
      ]
    },
    {
      "cell_type": "markdown",
      "metadata": {
        "id": "ZgaEKj2lG85O"
      },
      "source": [
        "# 觀察op1"
      ]
    },
    {
      "cell_type": "code",
      "metadata": {
        "colab": {
          "base_uri": "https://localhost:8080/",
          "height": 147
        },
        "id": "qKQOGTp_G6h6",
        "outputId": "f1091b88-2149-4126-a012-65fb97c29fc1"
      },
      "source": [
        "c620_op1"
      ],
      "execution_count": 42,
      "outputs": [
        {
          "output_type": "execute_result",
          "data": {
            "text/html": [
              "<div>\n",
              "<style scoped>\n",
              "    .dataframe tbody tr th:only-of-type {\n",
              "        vertical-align: middle;\n",
              "    }\n",
              "\n",
              "    .dataframe tbody tr th {\n",
              "        vertical-align: top;\n",
              "    }\n",
              "\n",
              "    .dataframe thead th {\n",
              "        text-align: right;\n",
              "    }\n",
              "</style>\n",
              "<table border=\"1\" class=\"dataframe\">\n",
              "  <thead>\n",
              "    <tr style=\"text-align: right;\">\n",
              "      <th></th>\n",
              "      <th>Density_Feed Properties</th>\n",
              "      <th>Density_Vent Gas Production Rate and Composition</th>\n",
              "      <th>Density_Distillate Production Rate and Composition</th>\n",
              "      <th>Density_Sidedraw Production Rate and Composition</th>\n",
              "      <th>Density_Bottoms Production Rate and Composition</th>\n",
              "      <th>Tatoray Stripper C620 Operation_Yield Summary_Reflux Rate_m3/hr</th>\n",
              "      <th>Tatoray Stripper C620 Operation_Heat Duty_Condenser Heat Duty_Mkcal/hr</th>\n",
              "      <th>Tatoray Stripper C620 Operation_Heat Duty_Reboiler Heat Duty_Mkcal/hr</th>\n",
              "      <th>Tatoray Stripper C620 Operation_Column Temp Profile_C620 Tray 14 (Control)_oC</th>\n",
              "      <th>Tatoray Stripper C620 Operation_Column Temp Profile_C620 Tray 34 (Control)_oC</th>\n",
              "    </tr>\n",
              "  </thead>\n",
              "  <tbody>\n",
              "    <tr>\n",
              "      <th>2021/05/12</th>\n",
              "      <td>0.864339</td>\n",
              "      <td>0.426528</td>\n",
              "      <td>0.827697</td>\n",
              "      <td>0.878691</td>\n",
              "      <td>0.872161</td>\n",
              "      <td>97.020386</td>\n",
              "      <td>15.289173</td>\n",
              "      <td>13.396409</td>\n",
              "      <td>178.120483</td>\n",
              "      <td>194.615692</td>\n",
              "    </tr>\n",
              "  </tbody>\n",
              "</table>\n",
              "</div>"
            ],
            "text/plain": [
              "            Density_Feed Properties  ...  Tatoray Stripper C620 Operation_Column Temp Profile_C620 Tray 34 (Control)_oC\n",
              "2021/05/12                 0.864339  ...                                         194.615692                            \n",
              "\n",
              "[1 rows x 10 columns]"
            ]
          },
          "metadata": {
            "tags": []
          },
          "execution_count": 42
        }
      ]
    },
    {
      "cell_type": "code",
      "metadata": {
        "colab": {
          "base_uri": "https://localhost:8080/",
          "height": 147
        },
        "id": "rQ8AsXPfG-ZT",
        "outputId": "1c83a5d6-1aa0-4c71-fcc9-b30abe31f816"
      },
      "source": [
        "c660_op1"
      ],
      "execution_count": 43,
      "outputs": [
        {
          "output_type": "execute_result",
          "data": {
            "text/html": [
              "<div>\n",
              "<style scoped>\n",
              "    .dataframe tbody tr th:only-of-type {\n",
              "        vertical-align: middle;\n",
              "    }\n",
              "\n",
              "    .dataframe tbody tr th {\n",
              "        vertical-align: top;\n",
              "    }\n",
              "\n",
              "    .dataframe thead th {\n",
              "        text-align: right;\n",
              "    }\n",
              "</style>\n",
              "<table border=\"1\" class=\"dataframe\">\n",
              "  <thead>\n",
              "    <tr style=\"text-align: right;\">\n",
              "      <th></th>\n",
              "      <th>Density_Feed Properties</th>\n",
              "      <th>Density_Vent Gas Production Rate and Composition</th>\n",
              "      <th>Density_Distillate (Benzene Drag) Production Rate and Composition</th>\n",
              "      <th>Density_Sidedraw (Benzene )Production Rate and Composition</th>\n",
              "      <th>Density_Bottoms Production Rate and Composition</th>\n",
              "      <th>Benzene Column C660 Operation_Yield Summary_Reflux Rate_m3/hr</th>\n",
              "      <th>Benzene Column C660 Operation_Heat Duty_Condenser Heat Duty_Mkcal/hr</th>\n",
              "      <th>Benzene Column C660 Operation_Heat Duty_Reboiler Heat Duty_Mkcal/hr</th>\n",
              "      <th>Benzene Column C660 Operation_Column Temp Profile_C660 Tray 6 (SD &amp; Control)_oC</th>\n",
              "      <th>Benzene Column C660 Operation_Column Temp Profile_C660 Tray 23 (Control)_oC</th>\n",
              "    </tr>\n",
              "  </thead>\n",
              "  <tbody>\n",
              "    <tr>\n",
              "      <th>2021/05/12</th>\n",
              "      <td>0.875995</td>\n",
              "      <td>0.526783</td>\n",
              "      <td>0.871687</td>\n",
              "      <td>0.883747</td>\n",
              "      <td>0.869906</td>\n",
              "      <td>109.236046</td>\n",
              "      <td>10.80444</td>\n",
              "      <td>11.946544</td>\n",
              "      <td>86.583199</td>\n",
              "      <td>90.931137</td>\n",
              "    </tr>\n",
              "  </tbody>\n",
              "</table>\n",
              "</div>"
            ],
            "text/plain": [
              "            Density_Feed Properties  ...  Benzene Column C660 Operation_Column Temp Profile_C660 Tray 23 (Control)_oC\n",
              "2021/05/12                 0.875995  ...                                          90.931137                          \n",
              "\n",
              "[1 rows x 10 columns]"
            ]
          },
          "metadata": {
            "tags": []
          },
          "execution_count": 43
        }
      ]
    },
    {
      "cell_type": "code",
      "metadata": {
        "colab": {
          "base_uri": "https://localhost:8080/",
          "height": 130
        },
        "id": "76tMlwG6G-2K",
        "outputId": "66ccd293-a54e-47d2-968f-3b3ce3c6160b"
      },
      "source": [
        "c670_op1"
      ],
      "execution_count": 44,
      "outputs": [
        {
          "output_type": "execute_result",
          "data": {
            "text/html": [
              "<div>\n",
              "<style scoped>\n",
              "    .dataframe tbody tr th:only-of-type {\n",
              "        vertical-align: middle;\n",
              "    }\n",
              "\n",
              "    .dataframe tbody tr th {\n",
              "        vertical-align: top;\n",
              "    }\n",
              "\n",
              "    .dataframe thead th {\n",
              "        text-align: right;\n",
              "    }\n",
              "</style>\n",
              "<table border=\"1\" class=\"dataframe\">\n",
              "  <thead>\n",
              "    <tr style=\"text-align: right;\">\n",
              "      <th></th>\n",
              "      <th>Density_Distillate Production Rate and Composition</th>\n",
              "      <th>Density_Bottoms Production Rate and Composition</th>\n",
              "      <th>Toluene Column C670 Operation_Yield \\nSummary_Reflux Rate_m3/hr</th>\n",
              "      <th>Toluene Column C670 Operation_Heat Duty_Condenser Heat Duty_Mkcal/hr</th>\n",
              "      <th>Toluene Column C670 Operation_Heat Duty_Reboiler Heat Duty_Mkcal/hr</th>\n",
              "      <th>Toluene Column C670 Operation_Column Temp Profile_C670 Tray 24 (Control)_oC</th>\n",
              "      <th>Toluene Column C670 Operation_Column Temp Profile_C670 Btm Temp (Control)_oC</th>\n",
              "    </tr>\n",
              "  </thead>\n",
              "  <tbody>\n",
              "    <tr>\n",
              "      <th>2021/05/12</th>\n",
              "      <td>0.87088</td>\n",
              "      <td>0.87202</td>\n",
              "      <td>307.459167</td>\n",
              "      <td>36.154743</td>\n",
              "      <td>36.192314</td>\n",
              "      <td>181.58931</td>\n",
              "      <td>227.894012</td>\n",
              "    </tr>\n",
              "  </tbody>\n",
              "</table>\n",
              "</div>"
            ],
            "text/plain": [
              "            Density_Distillate Production Rate and Composition  ...  Toluene Column C670 Operation_Column Temp Profile_C670 Btm Temp (Control)_oC\n",
              "2021/05/12                                            0.87088   ...                                         227.894012                           \n",
              "\n",
              "[1 rows x 7 columns]"
            ]
          },
          "metadata": {
            "tags": []
          },
          "execution_count": 44
        }
      ]
    },
    {
      "cell_type": "markdown",
      "metadata": {
        "id": "U_tMAf8MHCaC"
      },
      "source": [
        "# 觀察op2"
      ]
    },
    {
      "cell_type": "code",
      "metadata": {
        "colab": {
          "base_uri": "https://localhost:8080/",
          "height": 147
        },
        "id": "051Z_xpeHBV6",
        "outputId": "31405d9f-294b-448d-c6f0-89ce49a2a73b"
      },
      "source": [
        "c620_op2"
      ],
      "execution_count": 45,
      "outputs": [
        {
          "output_type": "execute_result",
          "data": {
            "text/html": [
              "<div>\n",
              "<style scoped>\n",
              "    .dataframe tbody tr th:only-of-type {\n",
              "        vertical-align: middle;\n",
              "    }\n",
              "\n",
              "    .dataframe tbody tr th {\n",
              "        vertical-align: top;\n",
              "    }\n",
              "\n",
              "    .dataframe thead th {\n",
              "        text-align: right;\n",
              "    }\n",
              "</style>\n",
              "<table border=\"1\" class=\"dataframe\">\n",
              "  <thead>\n",
              "    <tr style=\"text-align: right;\">\n",
              "      <th></th>\n",
              "      <th>Density_Feed Properties</th>\n",
              "      <th>Density_Vent Gas Production Rate and Composition</th>\n",
              "      <th>Density_Distillate Production Rate and Composition</th>\n",
              "      <th>Density_Sidedraw Production Rate and Composition</th>\n",
              "      <th>Density_Bottoms Production Rate and Composition</th>\n",
              "      <th>Tatoray Stripper C620 Operation_Yield Summary_Reflux Rate_m3/hr</th>\n",
              "      <th>Tatoray Stripper C620 Operation_Heat Duty_Condenser Heat Duty_Mkcal/hr</th>\n",
              "      <th>Tatoray Stripper C620 Operation_Heat Duty_Reboiler Heat Duty_Mkcal/hr</th>\n",
              "      <th>Tatoray Stripper C620 Operation_Column Temp Profile_C620 Tray 14 (Control)_oC</th>\n",
              "      <th>Tatoray Stripper C620 Operation_Column Temp Profile_C620 Tray 34 (Control)_oC</th>\n",
              "    </tr>\n",
              "  </thead>\n",
              "  <tbody>\n",
              "    <tr>\n",
              "      <th>2021/05/12</th>\n",
              "      <td>0.864335</td>\n",
              "      <td>0.426528</td>\n",
              "      <td>0.827697</td>\n",
              "      <td>0.878691</td>\n",
              "      <td>0.872159</td>\n",
              "      <td>97.020355</td>\n",
              "      <td>15.297049</td>\n",
              "      <td>13.434281</td>\n",
              "      <td>178.120483</td>\n",
              "      <td>194.618744</td>\n",
              "    </tr>\n",
              "  </tbody>\n",
              "</table>\n",
              "</div>"
            ],
            "text/plain": [
              "            Density_Feed Properties  ...  Tatoray Stripper C620 Operation_Column Temp Profile_C620 Tray 34 (Control)_oC\n",
              "2021/05/12                 0.864335  ...                                         194.618744                            \n",
              "\n",
              "[1 rows x 10 columns]"
            ]
          },
          "metadata": {
            "tags": []
          },
          "execution_count": 45
        }
      ]
    },
    {
      "cell_type": "code",
      "metadata": {
        "colab": {
          "base_uri": "https://localhost:8080/",
          "height": 147
        },
        "id": "hhq-25dhHEhC",
        "outputId": "ae815d08-17f7-4374-fb71-6e61dd84e764"
      },
      "source": [
        "c660_op2"
      ],
      "execution_count": 46,
      "outputs": [
        {
          "output_type": "execute_result",
          "data": {
            "text/html": [
              "<div>\n",
              "<style scoped>\n",
              "    .dataframe tbody tr th:only-of-type {\n",
              "        vertical-align: middle;\n",
              "    }\n",
              "\n",
              "    .dataframe tbody tr th {\n",
              "        vertical-align: top;\n",
              "    }\n",
              "\n",
              "    .dataframe thead th {\n",
              "        text-align: right;\n",
              "    }\n",
              "</style>\n",
              "<table border=\"1\" class=\"dataframe\">\n",
              "  <thead>\n",
              "    <tr style=\"text-align: right;\">\n",
              "      <th></th>\n",
              "      <th>Density_Feed Properties</th>\n",
              "      <th>Density_Vent Gas Production Rate and Composition</th>\n",
              "      <th>Density_Distillate (Benzene Drag) Production Rate and Composition</th>\n",
              "      <th>Density_Sidedraw (Benzene )Production Rate and Composition</th>\n",
              "      <th>Density_Bottoms Production Rate and Composition</th>\n",
              "      <th>Benzene Column C660 Operation_Yield Summary_Reflux Rate_m3/hr</th>\n",
              "      <th>Benzene Column C660 Operation_Heat Duty_Condenser Heat Duty_Mkcal/hr</th>\n",
              "      <th>Benzene Column C660 Operation_Heat Duty_Reboiler Heat Duty_Mkcal/hr</th>\n",
              "      <th>Benzene Column C660 Operation_Column Temp Profile_C660 Tray 6 (SD &amp; Control)_oC</th>\n",
              "      <th>Benzene Column C660 Operation_Column Temp Profile_C660 Tray 23 (Control)_oC</th>\n",
              "    </tr>\n",
              "  </thead>\n",
              "  <tbody>\n",
              "    <tr>\n",
              "      <th>2021/05/12</th>\n",
              "      <td>0.875959</td>\n",
              "      <td>0.588639</td>\n",
              "      <td>0.836524</td>\n",
              "      <td>0.883686</td>\n",
              "      <td>0.869904</td>\n",
              "      <td>138.436554</td>\n",
              "      <td>12.253844</td>\n",
              "      <td>13.834062</td>\n",
              "      <td>86.725266</td>\n",
              "      <td>89.905594</td>\n",
              "    </tr>\n",
              "  </tbody>\n",
              "</table>\n",
              "</div>"
            ],
            "text/plain": [
              "            Density_Feed Properties  ...  Benzene Column C660 Operation_Column Temp Profile_C660 Tray 23 (Control)_oC\n",
              "2021/05/12                 0.875959  ...                                          89.905594                          \n",
              "\n",
              "[1 rows x 10 columns]"
            ]
          },
          "metadata": {
            "tags": []
          },
          "execution_count": 46
        }
      ]
    },
    {
      "cell_type": "code",
      "metadata": {
        "colab": {
          "base_uri": "https://localhost:8080/",
          "height": 130
        },
        "id": "NMcCr2gfHFZK",
        "outputId": "0780fbb9-6991-48e4-f2fe-e1311b7dcbd7"
      },
      "source": [
        "c670_op2"
      ],
      "execution_count": 47,
      "outputs": [
        {
          "output_type": "execute_result",
          "data": {
            "text/html": [
              "<div>\n",
              "<style scoped>\n",
              "    .dataframe tbody tr th:only-of-type {\n",
              "        vertical-align: middle;\n",
              "    }\n",
              "\n",
              "    .dataframe tbody tr th {\n",
              "        vertical-align: top;\n",
              "    }\n",
              "\n",
              "    .dataframe thead th {\n",
              "        text-align: right;\n",
              "    }\n",
              "</style>\n",
              "<table border=\"1\" class=\"dataframe\">\n",
              "  <thead>\n",
              "    <tr style=\"text-align: right;\">\n",
              "      <th></th>\n",
              "      <th>Density_Distillate Production Rate and Composition</th>\n",
              "      <th>Density_Bottoms Production Rate and Composition</th>\n",
              "      <th>Toluene Column C670 Operation_Yield \\nSummary_Reflux Rate_m3/hr</th>\n",
              "      <th>Toluene Column C670 Operation_Heat Duty_Condenser Heat Duty_Mkcal/hr</th>\n",
              "      <th>Toluene Column C670 Operation_Heat Duty_Reboiler Heat Duty_Mkcal/hr</th>\n",
              "      <th>Toluene Column C670 Operation_Column Temp Profile_C670 Tray 24 (Control)_oC</th>\n",
              "      <th>Toluene Column C670 Operation_Column Temp Profile_C670 Btm Temp (Control)_oC</th>\n",
              "    </tr>\n",
              "  </thead>\n",
              "  <tbody>\n",
              "    <tr>\n",
              "      <th>2021/05/12</th>\n",
              "      <td>0.870883</td>\n",
              "      <td>0.872042</td>\n",
              "      <td>305.810486</td>\n",
              "      <td>36.079567</td>\n",
              "      <td>36.202324</td>\n",
              "      <td>181.454849</td>\n",
              "      <td>227.799881</td>\n",
              "    </tr>\n",
              "  </tbody>\n",
              "</table>\n",
              "</div>"
            ],
            "text/plain": [
              "            Density_Distillate Production Rate and Composition  ...  Toluene Column C670 Operation_Column Temp Profile_C670 Btm Temp (Control)_oC\n",
              "2021/05/12                                           0.870883   ...                                         227.799881                           \n",
              "\n",
              "[1 rows x 7 columns]"
            ]
          },
          "metadata": {
            "tags": []
          },
          "execution_count": 47
        }
      ]
    },
    {
      "cell_type": "code",
      "metadata": {
        "id": "fs4HF2_EHGti"
      },
      "source": [
        ""
      ],
      "execution_count": null,
      "outputs": []
    }
  ]
}