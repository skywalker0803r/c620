{
  "nbformat": 4,
  "nbformat_minor": 0,
  "metadata": {
    "colab": {
      "name": "test0512.ipynb",
      "provenance": [],
      "authorship_tag": "ABX9TyMkd6RLGOZSbLvuy8xURGj3",
      "include_colab_link": true
    },
    "kernelspec": {
      "name": "python3",
      "display_name": "Python 3"
    },
    "language_info": {
      "name": "python"
    }
  },
  "cells": [
    {
      "cell_type": "markdown",
      "metadata": {
        "id": "view-in-github",
        "colab_type": "text"
      },
      "source": [
        "<a href=\"https://colab.research.google.com/github/skywalker0803r/c620/blob/main/test0512.ipynb\" target=\"_parent\"><img src=\"https://colab.research.google.com/assets/colab-badge.svg\" alt=\"Open In Colab\"/></a>"
      ]
    },
    {
      "cell_type": "code",
      "metadata": {
        "id": "cLQqwYQqFnE7"
      },
      "source": [
        "icg_input = {'Simulation Case Conditions_Feed Rate_Feed from V615 Btm_m3/hr': 194.7444448467381,\n",
        " 'Simulation Case Conditions_Feed Rate_Feed from V615 Btm    NA_wt%': 1.593000054359436,\n",
        " 'Simulation Case Conditions_Feed Rate_Feed from V615 Btm    Benzene_wt%': 12.267999649047852,\n",
        " 'Simulation Case Conditions_Feed Rate_Feed from V615 Btm    Toluene_wt%': 38.2859992980957,\n",
        " 'Simulation Case Conditions_Feed Rate_Feed from C820 Dist_m3/hr': 19.48727964114169,\n",
        " 'Simulation Case Conditions_Feed Rate_Feed from C820 Dist    NA_wt%': 2.0759999752044678,\n",
        " 'Simulation Case Conditions_Feed Rate_Feed from C820 Dist    Benzene_wt%': 64.77100372314453,\n",
        " 'Simulation Case Conditions_Feed Rate_Feed from C820 Dist    Toluene_wt%': 21.767000198364258,\n",
        " 'Simulation Case Conditions_Feed Rate_Feed from T651_m3/hr': 111.6630018676762,\n",
        " 'Simulation Case Conditions_Feed Rate_Feed from T651    NA_wt%': 0.6299999952316284,\n",
        " 'Simulation Case Conditions_Feed Rate_Feed from T651    Benzene_wt%': 41.790000915527344,\n",
        " 'Simulation Case Conditions_Feed Rate_Feed from T651    Toluene_wt%': 42.56999969482422,\n",
        " 'Simulation Case Conditions_Spec 1 : Benzene in C620 Sidedraw_wt%': 83.71800231933594,\n",
        " 'Simulation Case Conditions_Spec 2 : NA in Benzene_ppmw': 620.0,\n",
        " 'Tatoray Stripper C620 Operation_Specifications_Spec 2 : Distillate Rate_m3/hr': 0.0,\n",
        " 'Benzene Column C660 Operation_Specifications_Spec 3 : Toluene in Benzene_ppmw': 55.0,\n",
        " 'Tatoray Stripper C620 Operation_Specifications_Spec 1 : Receiver Temp_oC': 43.047595488698455}\n",
        "\n",
        "\n",
        "c620_feed = {'Combined Feed to Tatoray Stripper C620_Detailed Composition_Hydrogen_wt%': 0,\n",
        " 'Combined Feed to Tatoray Stripper C620_Detailed Composition_Methane_wt%': 0.027483375885533165,\n",
        " 'Combined Feed to Tatoray Stripper C620_Detailed Composition_Ethane_wt%': 0.6624940081881153,\n",
        " 'Combined Feed to Tatoray Stripper C620_Detailed Composition_Propane_wt%': 0.6040916450722905,\n",
        " 'Combined Feed to Tatoray Stripper C620_Detailed Composition_n-Butane_wt%': 0.17322578386461426,\n",
        " 'Combined Feed to Tatoray Stripper C620_Detailed Composition_n-Pentane_wt%': 0.07812193052950017,\n",
        " 'Combined Feed to Tatoray Stripper C620_Detailed Composition_n-Hexane_wt%': 0.016535197509511657,\n",
        " 'Combined Feed to Tatoray Stripper C620_Detailed Composition_Benzene_wt%': 17.096647267314527,\n",
        " 'Combined Feed to Tatoray Stripper C620_Detailed Composition_Cyclohexane_wt%': 0.007369805194680311,\n",
        " 'Combined Feed to Tatoray Stripper C620_Detailed Composition_n-Heptane_wt%': 0.01562785756965028,\n",
        " 'Combined Feed to Tatoray Stripper C620_Detailed Composition_Water_wt%': 0,\n",
        " 'Combined Feed to Tatoray Stripper C620_Detailed Composition_Methylcyclohexane_wt%': 0.011799325415317181,\n",
        " 'Combined Feed to Tatoray Stripper C620_Detailed Composition_Toluene_wt%': 36.766763835940104,\n",
        " 'Combined Feed to Tatoray Stripper C620_Detailed Composition_n-Octane_wt%': 0.0078089386648296545,\n",
        " 'Combined Feed to Tatoray Stripper C620_Detailed Composition_n-Propylcyclopentane_wt%': 0.009221802873136243,\n",
        " 'Combined Feed to Tatoray Stripper C620_Detailed Composition_Ethylcyclohexane_wt%': 0.009221802873136243,\n",
        " 'Combined Feed to Tatoray Stripper C620_Detailed Composition_Ethylbenzene_wt%': 1.0191813032660095,\n",
        " 'Combined Feed to Tatoray Stripper C620_Detailed Composition_p-Xylene_wt%': 7.399673294308853,\n",
        " 'Combined Feed to Tatoray Stripper C620_Detailed Composition_m-Xylene_wt%': 15.89904961685364,\n",
        " 'Combined Feed to Tatoray Stripper C620_Detailed Composition_o-Xylene_wt%': 6.72051915989657,\n",
        " 'Combined Feed to Tatoray Stripper C620_Detailed Composition_n-Nonane_wt%': 0.013364931700197454,\n",
        " 'Combined Feed to Tatoray Stripper C620_Detailed Composition_i-Propylbenzene_wt%': 0.010690249009120583,\n",
        " 'Combined Feed to Tatoray Stripper C620_Detailed Composition_n-Propylcyclohexane_wt%': 0.002501151503894095,\n",
        " 'Combined Feed to Tatoray Stripper C620_Detailed Composition_n-Propylbenzene_wt%': 0.010690249009120583,\n",
        " 'Combined Feed to Tatoray Stripper C620_Detailed Composition_1-Methyl-3-ethylbenzene_wt%': 0.8338578165078473,\n",
        " 'Combined Feed to Tatoray Stripper C620_Detailed Composition_1-Methyl-4-ethylbenzene_wt%': 0.43831860317038573,\n",
        " 'Combined Feed to Tatoray Stripper C620_Detailed Composition_1,3,5-Trimethylbenzene_wt%': 2.298440324553809,\n",
        " 'Combined Feed to Tatoray Stripper C620_Detailed Composition_1-Methyl-2-ethylbenzene_wt%': 0.2458849241079943,\n",
        " 'Combined Feed to Tatoray Stripper C620_Detailed Composition_1,2,4-Trimethylbenzene_wt%': 5.868955902905421,\n",
        " 'Combined Feed to Tatoray Stripper C620_Detailed Composition_tert-Butylcyclohexane_wt%': 0.0,\n",
        " 'Combined Feed to Tatoray Stripper C620_Detailed Composition_1,2,3-Trimethylbenzene_wt%': 0.9407419128026112,\n",
        " 'Combined Feed to Tatoray Stripper C620_Detailed Composition_Indane_wt%': 0.03207074702736175,\n",
        " 'Combined Feed to Tatoray Stripper C620_Detailed Composition_1-Methyl-4-n-propylbenzene_wt%': 0.0006352584861296367,\n",
        " 'Combined Feed to Tatoray Stripper C620_Detailed Composition_1,2-Diethylbenzene_wt%': 0.018898939962356694,\n",
        " 'Combined Feed to Tatoray Stripper C620_Detailed Composition_5-Ethyl-m-xylene_wt%': 0.7291179274552906,\n",
        " 'Combined Feed to Tatoray Stripper C620_Detailed Composition_1,4-Diethylbenzene_wt%': 0.0,\n",
        " 'Combined Feed to Tatoray Stripper C620_Detailed Composition_1,2,3,5-Tetramethylbenzene_wt%': 0.839494089420315,\n",
        " 'Combined Feed to Tatoray Stripper C620_Detailed Composition_n-Pentylbenzene_wt%': 0.8275795026923366,\n",
        " 'Combined Feed to Tatoray Stripper C620_Detailed Composition_n-Hexylbenzene_wt%': 0.3546769297252872,\n",
        " 'Combined Feed to Tatoray Stripper C620_Detailed Composition_Nitrogen_wt%': 0,\n",
        " 'Combined Feed to Tatoray Stripper C620_Detailed Composition_Oxygen_wt%': 0}\n",
        "\n",
        "t651_feed = {'Extract Feed from T651_Detailed Composition_Hydrogen_wt%': 0,\n",
        " 'Extract Feed from T651_Detailed Composition_Methane_wt%': 0.0,\n",
        " 'Extract Feed from T651_Detailed Composition_Ethane_wt%': 0.0,\n",
        " 'Extract Feed from T651_Detailed Composition_Propane_wt%': 0.0,\n",
        " 'Extract Feed from T651_Detailed Composition_n-Butane_wt%': 0.0,\n",
        " 'Extract Feed from T651_Detailed Composition_n-Pentane_wt%': 0.0,\n",
        " 'Extract Feed from T651_Detailed Composition_n-Hexane_wt%': 0.0062999999523162846,\n",
        " 'Extract Feed from T651_Detailed Composition_Benzene_wt%': 41.790000915527344,\n",
        " 'Extract Feed from T651_Detailed Composition_Cyclohexane_wt%': 0.0,\n",
        " 'Extract Feed from T651_Detailed Composition_n-Heptane_wt%': 0.0062999999523162846,\n",
        " 'Extract Feed from T651_Detailed Composition_Water_wt%': 0,\n",
        " 'Extract Feed from T651_Detailed Composition_Methylcyclohexane_wt%': 0.0,\n",
        " 'Extract Feed from T651_Detailed Composition_Toluene_wt%': 42.56999969482422,\n",
        " 'Extract Feed from T651_Detailed Composition_n-Octane_wt%': 0.07559999942779541,\n",
        " 'Extract Feed from T651_Detailed Composition_n-Propylcyclopentane_wt%': 0.06929999947547913,\n",
        " 'Extract Feed from T651_Detailed Composition_Ethylcyclohexane_wt%': 0.05669999957084656,\n",
        " 'Extract Feed from T651_Detailed Composition_Ethylbenzene_wt%': 7.579999923706055,\n",
        " 'Extract Feed from T651_Detailed Composition_p-Xylene_wt%': 1.840000033378601,\n",
        " 'Extract Feed from T651_Detailed Composition_m-Xylene_wt%': 4.429999828338623,\n",
        " 'Extract Feed from T651_Detailed Composition_o-Xylene_wt%': 1.1100000143051147,\n",
        " 'Extract Feed from T651_Detailed Composition_n-Nonane_wt%': 0.1196999990940094,\n",
        " 'Extract Feed from T651_Detailed Composition_i-Propylbenzene_wt%': 0.0,\n",
        " 'Extract Feed from T651_Detailed Composition_n-Propylcyclohexane_wt%': 0.26459999799728395,\n",
        " 'Extract Feed from T651_Detailed Composition_n-Propylbenzene_wt%': 0.0,\n",
        " 'Extract Feed from T651_Detailed Composition_1-Methyl-3-ethylbenzene_wt%': 0.001600000075995922,\n",
        " 'Extract Feed from T651_Detailed Composition_1-Methyl-4-ethylbenzene_wt%': 0.001600000075995922,\n",
        " 'Extract Feed from T651_Detailed Composition_1,3,5-Trimethylbenzene_wt%': 0.003200000151991844,\n",
        " 'Extract Feed from T651_Detailed Composition_1-Methyl-2-ethylbenzene_wt%': 0.000800000037997961,\n",
        " 'Extract Feed from T651_Detailed Composition_1,2,4-Trimethylbenzene_wt%': 0.000800000037997961,\n",
        " 'Extract Feed from T651_Detailed Composition_tert-Butylcyclohexane_wt%': 0.018899999856948853,\n",
        " 'Extract Feed from T651_Detailed Composition_1,2,3-Trimethylbenzene_wt%': 0.0,\n",
        " 'Extract Feed from T651_Detailed Composition_Indane_wt%': 0.0,\n",
        " 'Extract Feed from T651_Detailed Composition_1-Methyl-4-n-propylbenzene_wt%': 0.0,\n",
        " 'Extract Feed from T651_Detailed Composition_1,2-Diethylbenzene_wt%': 0.0,\n",
        " 'Extract Feed from T651_Detailed Composition_5-Ethyl-m-xylene_wt%': 0.0,\n",
        " 'Extract Feed from T651_Detailed Composition_1,4-Diethylbenzene_wt%': 0.0,\n",
        " 'Extract Feed from T651_Detailed Composition_1,2,3,5-Tetramethylbenzene_wt%': 0.0,\n",
        " 'Extract Feed from T651_Detailed Composition_n-Pentylbenzene_wt%': 0.0,\n",
        " 'Extract Feed from T651_Detailed Composition_n-Hexylbenzene_wt%': 0.0,\n",
        " 'Extract Feed from T651_Detailed Composition_Nitrogen_wt%': 0,\n",
        " 'Extract Feed from T651_Detailed Composition_Oxygen_wt%': 0}"
      ],
      "execution_count": 48,
      "outputs": []
    },
    {
      "cell_type": "code",
      "metadata": {
        "colab": {
          "base_uri": "https://localhost:8080/"
        },
        "id": "uCAV9bsHFywg",
        "outputId": "eb6ede81-4f8f-4d16-f6fd-5cd76787c85a"
      },
      "source": [
        "!git clone https://github.com/skywalker0803r/c620.git\n",
        "!pip install autorch > log.txt\n",
        "!pip install optuna > log.txt"
      ],
      "execution_count": 49,
      "outputs": [
        {
          "output_type": "stream",
          "text": [
            "fatal: destination path 'c620' already exists and is not an empty directory.\n"
          ],
          "name": "stdout"
        }
      ]
    },
    {
      "cell_type": "code",
      "metadata": {
        "colab": {
          "base_uri": "https://localhost:8080/"
        },
        "id": "cm_yaM_IF3c2",
        "outputId": "22d7563c-1de8-4d50-a22e-51225bfd7bca"
      },
      "source": [
        "from c620.FV2 import AllSystem\n",
        "from c620.configV2 import config\n",
        "import joblib\n",
        "import numpy as np\n",
        "import pandas as pd\n",
        "import os\n",
        "os.chdir('/content/c620')\n",
        "print(os.getcwd())\n",
        "!git pull"
      ],
      "execution_count": 50,
      "outputs": [
        {
          "output_type": "stream",
          "text": [
            "/content/c620\n",
            "remote: Enumerating objects: 9, done.\u001b[K\n",
            "remote: Counting objects: 100% (9/9), done.\u001b[K\n",
            "remote: Compressing objects: 100% (6/6), done.\u001b[K\n",
            "remote: Total 6 (delta 4), reused 0 (delta 0), pack-reused 0\u001b[K\n",
            "Unpacking objects: 100% (6/6), done.\n",
            "From https://github.com/skywalker0803r/c620\n",
            "   fa391f4..97f2fab  main       -> origin/main\n",
            "Updating fa391f4..97f2fab\n",
            "Fast-forward\n",
            " test0512.ipynb | 250 \u001b[32m++++++++++++++++++++++++++++++\u001b[m\u001b[31m---------------------------\u001b[m\n",
            " web.py         |   6 \u001b[32m+\u001b[m\u001b[31m-\u001b[m\n",
            " 2 files changed, 133 insertions(+), 123 deletions(-)\n"
          ],
          "name": "stdout"
        }
      ]
    },
    {
      "cell_type": "code",
      "metadata": {
        "id": "oSTRIjNbF5sH"
      },
      "source": [
        "import pandas as pd\n",
        "\n",
        "icg_input = pd.DataFrame(icg_input,index=['2021/05/12'])\n",
        "c620_feed = pd.DataFrame(c620_feed,index=['2021/05/12'])\n",
        "t651_feed = pd.DataFrame(t651_feed,index=['2021/05/12'])"
      ],
      "execution_count": 51,
      "outputs": []
    },
    {
      "cell_type": "markdown",
      "metadata": {
        "id": "Pn_mH93dGA_h"
      },
      "source": [
        "# 原本SPEC"
      ]
    },
    {
      "cell_type": "code",
      "metadata": {
        "colab": {
          "base_uri": "https://localhost:8080/",
          "height": 78
        },
        "id": "MNiv2RhbF_EP",
        "outputId": "dbbd2746-1a90-4968-a7f8-7f11ed10ac3e"
      },
      "source": [
        "icg_input[['Tatoray Stripper C620 Operation_Specifications_Spec 2 : Distillate Rate_m3/hr']]"
      ],
      "execution_count": 52,
      "outputs": [
        {
          "output_type": "execute_result",
          "data": {
            "text/html": [
              "<div>\n",
              "<style scoped>\n",
              "    .dataframe tbody tr th:only-of-type {\n",
              "        vertical-align: middle;\n",
              "    }\n",
              "\n",
              "    .dataframe tbody tr th {\n",
              "        vertical-align: top;\n",
              "    }\n",
              "\n",
              "    .dataframe thead th {\n",
              "        text-align: right;\n",
              "    }\n",
              "</style>\n",
              "<table border=\"1\" class=\"dataframe\">\n",
              "  <thead>\n",
              "    <tr style=\"text-align: right;\">\n",
              "      <th></th>\n",
              "      <th>Tatoray Stripper C620 Operation_Specifications_Spec 2 : Distillate Rate_m3/hr</th>\n",
              "    </tr>\n",
              "  </thead>\n",
              "  <tbody>\n",
              "    <tr>\n",
              "      <th>2021/05/12</th>\n",
              "      <td>0.0</td>\n",
              "    </tr>\n",
              "  </tbody>\n",
              "</table>\n",
              "</div>"
            ],
            "text/plain": [
              "            Tatoray Stripper C620 Operation_Specifications_Spec 2 : Distillate Rate_m3/hr\n",
              "2021/05/12                                                0.0                            "
            ]
          },
          "metadata": {
            "tags": []
          },
          "execution_count": 52
        }
      ]
    },
    {
      "cell_type": "code",
      "metadata": {
        "colab": {
          "base_uri": "https://localhost:8080/",
          "height": 78
        },
        "id": "91g0DpxhGC4C",
        "outputId": "6fb73b11-230a-41c6-d55e-a4125d248a34"
      },
      "source": [
        "icg_input[['Simulation Case Conditions_Spec 2 : NA in Benzene_ppmw']]"
      ],
      "execution_count": 53,
      "outputs": [
        {
          "output_type": "execute_result",
          "data": {
            "text/html": [
              "<div>\n",
              "<style scoped>\n",
              "    .dataframe tbody tr th:only-of-type {\n",
              "        vertical-align: middle;\n",
              "    }\n",
              "\n",
              "    .dataframe tbody tr th {\n",
              "        vertical-align: top;\n",
              "    }\n",
              "\n",
              "    .dataframe thead th {\n",
              "        text-align: right;\n",
              "    }\n",
              "</style>\n",
              "<table border=\"1\" class=\"dataframe\">\n",
              "  <thead>\n",
              "    <tr style=\"text-align: right;\">\n",
              "      <th></th>\n",
              "      <th>Simulation Case Conditions_Spec 2 : NA in Benzene_ppmw</th>\n",
              "    </tr>\n",
              "  </thead>\n",
              "  <tbody>\n",
              "    <tr>\n",
              "      <th>2021/05/12</th>\n",
              "      <td>620.0</td>\n",
              "    </tr>\n",
              "  </tbody>\n",
              "</table>\n",
              "</div>"
            ],
            "text/plain": [
              "            Simulation Case Conditions_Spec 2 : NA in Benzene_ppmw\n",
              "2021/05/12                                              620.0     "
            ]
          },
          "metadata": {
            "tags": []
          },
          "execution_count": 53
        }
      ]
    },
    {
      "cell_type": "code",
      "metadata": {
        "colab": {
          "base_uri": "https://localhost:8080/",
          "height": 78
        },
        "id": "slk1YJ8jGER6",
        "outputId": "096cf94b-5b46-4a9c-d74e-0a099d072db6"
      },
      "source": [
        "icg_input[['Simulation Case Conditions_Spec 1 : Benzene in C620 Sidedraw_wt%']]"
      ],
      "execution_count": 54,
      "outputs": [
        {
          "output_type": "execute_result",
          "data": {
            "text/html": [
              "<div>\n",
              "<style scoped>\n",
              "    .dataframe tbody tr th:only-of-type {\n",
              "        vertical-align: middle;\n",
              "    }\n",
              "\n",
              "    .dataframe tbody tr th {\n",
              "        vertical-align: top;\n",
              "    }\n",
              "\n",
              "    .dataframe thead th {\n",
              "        text-align: right;\n",
              "    }\n",
              "</style>\n",
              "<table border=\"1\" class=\"dataframe\">\n",
              "  <thead>\n",
              "    <tr style=\"text-align: right;\">\n",
              "      <th></th>\n",
              "      <th>Simulation Case Conditions_Spec 1 : Benzene in C620 Sidedraw_wt%</th>\n",
              "    </tr>\n",
              "  </thead>\n",
              "  <tbody>\n",
              "    <tr>\n",
              "      <th>2021/05/12</th>\n",
              "      <td>83.718002</td>\n",
              "    </tr>\n",
              "  </tbody>\n",
              "</table>\n",
              "</div>"
            ],
            "text/plain": [
              "            Simulation Case Conditions_Spec 1 : Benzene in C620 Sidedraw_wt%\n",
              "2021/05/12                                          83.718002               "
            ]
          },
          "metadata": {
            "tags": []
          },
          "execution_count": 54
        }
      ]
    },
    {
      "cell_type": "code",
      "metadata": {
        "colab": {
          "base_uri": "https://localhost:8080/",
          "height": 78
        },
        "id": "klmWyesqGHxi",
        "outputId": "3bc5d114-3381-4a48-8dca-67944fa77fe2"
      },
      "source": [
        "icg_input[['Benzene Column C660 Operation_Specifications_Spec 3 : Toluene in Benzene_ppmw']]"
      ],
      "execution_count": 55,
      "outputs": [
        {
          "output_type": "execute_result",
          "data": {
            "text/html": [
              "<div>\n",
              "<style scoped>\n",
              "    .dataframe tbody tr th:only-of-type {\n",
              "        vertical-align: middle;\n",
              "    }\n",
              "\n",
              "    .dataframe tbody tr th {\n",
              "        vertical-align: top;\n",
              "    }\n",
              "\n",
              "    .dataframe thead th {\n",
              "        text-align: right;\n",
              "    }\n",
              "</style>\n",
              "<table border=\"1\" class=\"dataframe\">\n",
              "  <thead>\n",
              "    <tr style=\"text-align: right;\">\n",
              "      <th></th>\n",
              "      <th>Benzene Column C660 Operation_Specifications_Spec 3 : Toluene in Benzene_ppmw</th>\n",
              "    </tr>\n",
              "  </thead>\n",
              "  <tbody>\n",
              "    <tr>\n",
              "      <th>2021/05/12</th>\n",
              "      <td>55.0</td>\n",
              "    </tr>\n",
              "  </tbody>\n",
              "</table>\n",
              "</div>"
            ],
            "text/plain": [
              "            Benzene Column C660 Operation_Specifications_Spec 3 : Toluene in Benzene_ppmw\n",
              "2021/05/12                                               55.0                            "
            ]
          },
          "metadata": {
            "tags": []
          },
          "execution_count": 55
        }
      ]
    },
    {
      "cell_type": "markdown",
      "metadata": {
        "id": "B0yO-1m-GKun"
      },
      "source": [
        "# 第一次試算 簡稱 op1"
      ]
    },
    {
      "cell_type": "code",
      "metadata": {
        "id": "WAhjOol_GJOi"
      },
      "source": [
        "f = AllSystem(config)\n",
        "c620_wt1,c620_op1,c660_wt1,c660_op1,c670_wt1,c670_op1,c620_side_體積流量 = f.inference(icg_input.copy(),c620_feed.copy(),t651_feed.copy())"
      ],
      "execution_count": 56,
      "outputs": []
    },
    {
      "cell_type": "code",
      "metadata": {
        "colab": {
          "base_uri": "https://localhost:8080/"
        },
        "id": "Mn77IcFxGQAa",
        "outputId": "77534c24-58b5-40fb-e5f2-45d30330fcc9"
      },
      "source": [
        "na_idx = [1,2,3,4,5,6,8,9,11,13,14,15,20,22,29] \n",
        "c660_wt1.filter(regex='Side').filter(regex='wt%').iloc[:,na_idx].sum(axis=1).values[0]*10000"
      ],
      "execution_count": 57,
      "outputs": [
        {
          "output_type": "execute_result",
          "data": {
            "text/plain": [
              "550.665650872533"
            ]
          },
          "metadata": {
            "tags": []
          },
          "execution_count": 57
        }
      ]
    },
    {
      "cell_type": "markdown",
      "metadata": {
        "id": "KUBExOP-GeRt"
      },
      "source": [
        "# 第二次 試算 簡稱 op2"
      ]
    },
    {
      "cell_type": "code",
      "metadata": {
        "id": "NS0WsyPcGWPK"
      },
      "source": [
        "icg_input2 = icg_input.copy()\n",
        "\n",
        "# 第二次試算直接 代 dist = 0 觀察輸出NA in BZ 然後寫個if else 判斷是否要再增dist rate\n",
        "icg_input2['Tatoray Stripper C620 Operation_Specifications_Spec 2 : Distillate Rate_m3/hr'] = 0.0\n",
        "icg_input2['Simulation Case Conditions_Spec 1 : Benzene in C620 Sidedraw_wt%'] = 70\n",
        "\n",
        "# Toluene in Benzene_ppmw 代 10\n",
        "icg_input2['Benzene Column C660 Operation_Specifications_Spec 3 : Toluene in Benzene_ppmw'] = 10\n",
        "\n",
        "# Simulation Case Conditions_Spec 2 : NA in Benzene_ppmw 代 980\n",
        "icg_input2['Simulation Case Conditions_Spec 2 : NA in Benzene_ppmw'] = 980"
      ],
      "execution_count": 58,
      "outputs": []
    },
    {
      "cell_type": "code",
      "metadata": {
        "id": "6WfK9uWtGovy"
      },
      "source": [
        "c620_wt2,c620_op2,c660_wt2,c660_op2,c670_wt2,c670_op2,c620_side_體積流量 = f.inference(icg_input2.copy(),c620_feed.copy(),t651_feed.copy())"
      ],
      "execution_count": 59,
      "outputs": []
    },
    {
      "cell_type": "markdown",
      "metadata": {
        "id": "me138E-Jcjvh"
      },
      "source": [
        "# 主要是要確認BZ in SideDraw在推薦情況下( = 70) ，C660的進料是否會超過150"
      ]
    },
    {
      "cell_type": "code",
      "metadata": {
        "id": "r4HwO32QcLO7",
        "outputId": "af197152-df27-4956-8022-dd957b4cf18d",
        "colab": {
          "base_uri": "https://localhost:8080/"
        }
      },
      "source": [
        "if icg_input['Simulation Case Conditions_Feed Rate_Feed from T651_m3/hr'].values[0] + c620_side_體積流量[0,0] > 150:\n",
        "  icg_input2['Simulation Case Conditions_Spec 1 : Benzene in C620 Sidedraw_wt%'] = 85\n",
        "  print('Simulation Case Conditions_Spec 1 : Benzene in C620 Sidedraw_wt%=85')\n",
        "# 否則代 70\n",
        "else:\n",
        "  icg_input2['Simulation Case Conditions_Spec 1 : Benzene in C620 Sidedraw_wt%'] = 70\n",
        "  print('Simulation Case Conditions_Spec 1 : Benzene in C620 Sidedraw_wt%=70')\n",
        "c620_wt2,c620_op2,c660_wt2,c660_op2,c670_wt2,c670_op2,c620_side_體積流量 = f.inference(icg_input2.copy(),c620_feed.copy(),t651_feed.copy())"
      ],
      "execution_count": 60,
      "outputs": [
        {
          "output_type": "stream",
          "text": [
            "Simulation Case Conditions_Spec 1 : Benzene in C620 Sidedraw_wt%=85\n"
          ],
          "name": "stdout"
        }
      ]
    },
    {
      "cell_type": "code",
      "metadata": {
        "id": "5tk9vHQPccVa",
        "outputId": "a550bc7b-a206-4ab2-f4ed-29eaaa2e1f72",
        "colab": {
          "base_uri": "https://localhost:8080/"
        }
      },
      "source": [
        "na_idx = [1,2,3,4,5,6,8,9,11,13,14,15,20,22,29] \n",
        "c660_wt2.filter(regex='Side').filter(regex='wt%').iloc[:,na_idx].sum(axis=1).values[0]*10000"
      ],
      "execution_count": 61,
      "outputs": [
        {
          "output_type": "execute_result",
          "data": {
            "text/plain": [
              "680.3876299487589"
            ]
          },
          "metadata": {
            "tags": []
          },
          "execution_count": 61
        }
      ]
    },
    {
      "cell_type": "markdown",
      "metadata": {
        "id": "mzaGHksdG0Ae"
      },
      "source": [
        "# 如果Distillate = 0， NA in BZ預測值小於980，就直接預測整個串接結果,所以不用再調整distrate,直接算調幅"
      ]
    },
    {
      "cell_type": "code",
      "metadata": {
        "colab": {
          "base_uri": "https://localhost:8080/",
          "height": 147
        },
        "id": "tWcP37Z2Gsay",
        "outputId": "4e3aae4d-8a8e-4165-bd74-e057bdb7550c"
      },
      "source": [
        "c620_op2-c620_op1"
      ],
      "execution_count": 62,
      "outputs": [
        {
          "output_type": "execute_result",
          "data": {
            "text/html": [
              "<div>\n",
              "<style scoped>\n",
              "    .dataframe tbody tr th:only-of-type {\n",
              "        vertical-align: middle;\n",
              "    }\n",
              "\n",
              "    .dataframe tbody tr th {\n",
              "        vertical-align: top;\n",
              "    }\n",
              "\n",
              "    .dataframe thead th {\n",
              "        text-align: right;\n",
              "    }\n",
              "</style>\n",
              "<table border=\"1\" class=\"dataframe\">\n",
              "  <thead>\n",
              "    <tr style=\"text-align: right;\">\n",
              "      <th></th>\n",
              "      <th>Density_Feed Properties</th>\n",
              "      <th>Density_Vent Gas Production Rate and Composition</th>\n",
              "      <th>Density_Distillate Production Rate and Composition</th>\n",
              "      <th>Density_Sidedraw Production Rate and Composition</th>\n",
              "      <th>Density_Bottoms Production Rate and Composition</th>\n",
              "      <th>Tatoray Stripper C620 Operation_Yield Summary_Reflux Rate_m3/hr</th>\n",
              "      <th>Tatoray Stripper C620 Operation_Heat Duty_Condenser Heat Duty_Mkcal/hr</th>\n",
              "      <th>Tatoray Stripper C620 Operation_Heat Duty_Reboiler Heat Duty_Mkcal/hr</th>\n",
              "      <th>Tatoray Stripper C620 Operation_Column Temp Profile_C620 Tray 14 (Control)_oC</th>\n",
              "      <th>Tatoray Stripper C620 Operation_Column Temp Profile_C620 Tray 34 (Control)_oC</th>\n",
              "    </tr>\n",
              "  </thead>\n",
              "  <tbody>\n",
              "    <tr>\n",
              "      <th>2021/05/12</th>\n",
              "      <td>-0.000005</td>\n",
              "      <td>0.0</td>\n",
              "      <td>0.0</td>\n",
              "      <td>0.0</td>\n",
              "      <td>-0.000002</td>\n",
              "      <td>-0.000031</td>\n",
              "      <td>0.007875</td>\n",
              "      <td>0.037872</td>\n",
              "      <td>0.0</td>\n",
              "      <td>0.003052</td>\n",
              "    </tr>\n",
              "  </tbody>\n",
              "</table>\n",
              "</div>"
            ],
            "text/plain": [
              "            Density_Feed Properties  ...  Tatoray Stripper C620 Operation_Column Temp Profile_C620 Tray 34 (Control)_oC\n",
              "2021/05/12                -0.000005  ...                                           0.003052                            \n",
              "\n",
              "[1 rows x 10 columns]"
            ]
          },
          "metadata": {
            "tags": []
          },
          "execution_count": 62
        }
      ]
    },
    {
      "cell_type": "code",
      "metadata": {
        "colab": {
          "base_uri": "https://localhost:8080/",
          "height": 147
        },
        "id": "ZYPBz6sLG1nC",
        "outputId": "ae7b05be-ab1f-4b07-d7c5-c65281bfd60f"
      },
      "source": [
        "c660_op2-c660_op1"
      ],
      "execution_count": 63,
      "outputs": [
        {
          "output_type": "execute_result",
          "data": {
            "text/html": [
              "<div>\n",
              "<style scoped>\n",
              "    .dataframe tbody tr th:only-of-type {\n",
              "        vertical-align: middle;\n",
              "    }\n",
              "\n",
              "    .dataframe tbody tr th {\n",
              "        vertical-align: top;\n",
              "    }\n",
              "\n",
              "    .dataframe thead th {\n",
              "        text-align: right;\n",
              "    }\n",
              "</style>\n",
              "<table border=\"1\" class=\"dataframe\">\n",
              "  <thead>\n",
              "    <tr style=\"text-align: right;\">\n",
              "      <th></th>\n",
              "      <th>Density_Feed Properties</th>\n",
              "      <th>Density_Vent Gas Production Rate and Composition</th>\n",
              "      <th>Density_Distillate (Benzene Drag) Production Rate and Composition</th>\n",
              "      <th>Density_Sidedraw (Benzene )Production Rate and Composition</th>\n",
              "      <th>Density_Bottoms Production Rate and Composition</th>\n",
              "      <th>Benzene Column C660 Operation_Yield Summary_Reflux Rate_m3/hr</th>\n",
              "      <th>Benzene Column C660 Operation_Heat Duty_Condenser Heat Duty_Mkcal/hr</th>\n",
              "      <th>Benzene Column C660 Operation_Heat Duty_Reboiler Heat Duty_Mkcal/hr</th>\n",
              "      <th>Benzene Column C660 Operation_Column Temp Profile_C660 Tray 6 (SD &amp; Control)_oC</th>\n",
              "      <th>Benzene Column C660 Operation_Column Temp Profile_C660 Tray 23 (Control)_oC</th>\n",
              "    </tr>\n",
              "  </thead>\n",
              "  <tbody>\n",
              "    <tr>\n",
              "      <th>2021/05/12</th>\n",
              "      <td>-0.000036</td>\n",
              "      <td>0.061856</td>\n",
              "      <td>-0.035163</td>\n",
              "      <td>-0.000061</td>\n",
              "      <td>-0.000003</td>\n",
              "      <td>29.200508</td>\n",
              "      <td>1.449405</td>\n",
              "      <td>1.887518</td>\n",
              "      <td>0.142067</td>\n",
              "      <td>-1.025543</td>\n",
              "    </tr>\n",
              "  </tbody>\n",
              "</table>\n",
              "</div>"
            ],
            "text/plain": [
              "            Density_Feed Properties  ...  Benzene Column C660 Operation_Column Temp Profile_C660 Tray 23 (Control)_oC\n",
              "2021/05/12                -0.000036  ...                                          -1.025543                          \n",
              "\n",
              "[1 rows x 10 columns]"
            ]
          },
          "metadata": {
            "tags": []
          },
          "execution_count": 63
        }
      ]
    },
    {
      "cell_type": "code",
      "metadata": {
        "colab": {
          "base_uri": "https://localhost:8080/",
          "height": 130
        },
        "id": "EeXFUoIlG3SC",
        "outputId": "5b28d355-489d-4dfd-d0c4-1795065f47a3"
      },
      "source": [
        "c670_op2-c670_op1"
      ],
      "execution_count": 64,
      "outputs": [
        {
          "output_type": "execute_result",
          "data": {
            "text/html": [
              "<div>\n",
              "<style scoped>\n",
              "    .dataframe tbody tr th:only-of-type {\n",
              "        vertical-align: middle;\n",
              "    }\n",
              "\n",
              "    .dataframe tbody tr th {\n",
              "        vertical-align: top;\n",
              "    }\n",
              "\n",
              "    .dataframe thead th {\n",
              "        text-align: right;\n",
              "    }\n",
              "</style>\n",
              "<table border=\"1\" class=\"dataframe\">\n",
              "  <thead>\n",
              "    <tr style=\"text-align: right;\">\n",
              "      <th></th>\n",
              "      <th>Density_Distillate Production Rate and Composition</th>\n",
              "      <th>Density_Bottoms Production Rate and Composition</th>\n",
              "      <th>Toluene Column C670 Operation_Yield \\nSummary_Reflux Rate_m3/hr</th>\n",
              "      <th>Toluene Column C670 Operation_Heat Duty_Condenser Heat Duty_Mkcal/hr</th>\n",
              "      <th>Toluene Column C670 Operation_Heat Duty_Reboiler Heat Duty_Mkcal/hr</th>\n",
              "      <th>Toluene Column C670 Operation_Column Temp Profile_C670 Tray 24 (Control)_oC</th>\n",
              "      <th>Toluene Column C670 Operation_Column Temp Profile_C670 Btm Temp (Control)_oC</th>\n",
              "    </tr>\n",
              "  </thead>\n",
              "  <tbody>\n",
              "    <tr>\n",
              "      <th>2021/05/12</th>\n",
              "      <td>0.000003</td>\n",
              "      <td>0.000022</td>\n",
              "      <td>-1.648682</td>\n",
              "      <td>-0.075176</td>\n",
              "      <td>0.01001</td>\n",
              "      <td>-0.13446</td>\n",
              "      <td>-0.094131</td>\n",
              "    </tr>\n",
              "  </tbody>\n",
              "</table>\n",
              "</div>"
            ],
            "text/plain": [
              "            Density_Distillate Production Rate and Composition  ...  Toluene Column C670 Operation_Column Temp Profile_C670 Btm Temp (Control)_oC\n",
              "2021/05/12                                           0.000003   ...                                          -0.094131                           \n",
              "\n",
              "[1 rows x 7 columns]"
            ]
          },
          "metadata": {
            "tags": []
          },
          "execution_count": 64
        }
      ]
    },
    {
      "cell_type": "markdown",
      "metadata": {
        "id": "ZgaEKj2lG85O"
      },
      "source": [
        "# 觀察op1"
      ]
    },
    {
      "cell_type": "code",
      "metadata": {
        "colab": {
          "base_uri": "https://localhost:8080/",
          "height": 147
        },
        "id": "qKQOGTp_G6h6",
        "outputId": "cd334f6f-979b-42fe-c298-4f674be77abf"
      },
      "source": [
        "c620_op1"
      ],
      "execution_count": 65,
      "outputs": [
        {
          "output_type": "execute_result",
          "data": {
            "text/html": [
              "<div>\n",
              "<style scoped>\n",
              "    .dataframe tbody tr th:only-of-type {\n",
              "        vertical-align: middle;\n",
              "    }\n",
              "\n",
              "    .dataframe tbody tr th {\n",
              "        vertical-align: top;\n",
              "    }\n",
              "\n",
              "    .dataframe thead th {\n",
              "        text-align: right;\n",
              "    }\n",
              "</style>\n",
              "<table border=\"1\" class=\"dataframe\">\n",
              "  <thead>\n",
              "    <tr style=\"text-align: right;\">\n",
              "      <th></th>\n",
              "      <th>Density_Feed Properties</th>\n",
              "      <th>Density_Vent Gas Production Rate and Composition</th>\n",
              "      <th>Density_Distillate Production Rate and Composition</th>\n",
              "      <th>Density_Sidedraw Production Rate and Composition</th>\n",
              "      <th>Density_Bottoms Production Rate and Composition</th>\n",
              "      <th>Tatoray Stripper C620 Operation_Yield Summary_Reflux Rate_m3/hr</th>\n",
              "      <th>Tatoray Stripper C620 Operation_Heat Duty_Condenser Heat Duty_Mkcal/hr</th>\n",
              "      <th>Tatoray Stripper C620 Operation_Heat Duty_Reboiler Heat Duty_Mkcal/hr</th>\n",
              "      <th>Tatoray Stripper C620 Operation_Column Temp Profile_C620 Tray 14 (Control)_oC</th>\n",
              "      <th>Tatoray Stripper C620 Operation_Column Temp Profile_C620 Tray 34 (Control)_oC</th>\n",
              "    </tr>\n",
              "  </thead>\n",
              "  <tbody>\n",
              "    <tr>\n",
              "      <th>2021/05/12</th>\n",
              "      <td>0.864339</td>\n",
              "      <td>0.426528</td>\n",
              "      <td>0.827697</td>\n",
              "      <td>0.878691</td>\n",
              "      <td>0.872161</td>\n",
              "      <td>97.020386</td>\n",
              "      <td>15.289173</td>\n",
              "      <td>13.396409</td>\n",
              "      <td>178.120483</td>\n",
              "      <td>194.615692</td>\n",
              "    </tr>\n",
              "  </tbody>\n",
              "</table>\n",
              "</div>"
            ],
            "text/plain": [
              "            Density_Feed Properties  ...  Tatoray Stripper C620 Operation_Column Temp Profile_C620 Tray 34 (Control)_oC\n",
              "2021/05/12                 0.864339  ...                                         194.615692                            \n",
              "\n",
              "[1 rows x 10 columns]"
            ]
          },
          "metadata": {
            "tags": []
          },
          "execution_count": 65
        }
      ]
    },
    {
      "cell_type": "code",
      "metadata": {
        "colab": {
          "base_uri": "https://localhost:8080/",
          "height": 147
        },
        "id": "rQ8AsXPfG-ZT",
        "outputId": "a0c6f3d1-6ddd-4c24-f7f4-9ed6dd49f621"
      },
      "source": [
        "c660_op1"
      ],
      "execution_count": 66,
      "outputs": [
        {
          "output_type": "execute_result",
          "data": {
            "text/html": [
              "<div>\n",
              "<style scoped>\n",
              "    .dataframe tbody tr th:only-of-type {\n",
              "        vertical-align: middle;\n",
              "    }\n",
              "\n",
              "    .dataframe tbody tr th {\n",
              "        vertical-align: top;\n",
              "    }\n",
              "\n",
              "    .dataframe thead th {\n",
              "        text-align: right;\n",
              "    }\n",
              "</style>\n",
              "<table border=\"1\" class=\"dataframe\">\n",
              "  <thead>\n",
              "    <tr style=\"text-align: right;\">\n",
              "      <th></th>\n",
              "      <th>Density_Feed Properties</th>\n",
              "      <th>Density_Vent Gas Production Rate and Composition</th>\n",
              "      <th>Density_Distillate (Benzene Drag) Production Rate and Composition</th>\n",
              "      <th>Density_Sidedraw (Benzene )Production Rate and Composition</th>\n",
              "      <th>Density_Bottoms Production Rate and Composition</th>\n",
              "      <th>Benzene Column C660 Operation_Yield Summary_Reflux Rate_m3/hr</th>\n",
              "      <th>Benzene Column C660 Operation_Heat Duty_Condenser Heat Duty_Mkcal/hr</th>\n",
              "      <th>Benzene Column C660 Operation_Heat Duty_Reboiler Heat Duty_Mkcal/hr</th>\n",
              "      <th>Benzene Column C660 Operation_Column Temp Profile_C660 Tray 6 (SD &amp; Control)_oC</th>\n",
              "      <th>Benzene Column C660 Operation_Column Temp Profile_C660 Tray 23 (Control)_oC</th>\n",
              "    </tr>\n",
              "  </thead>\n",
              "  <tbody>\n",
              "    <tr>\n",
              "      <th>2021/05/12</th>\n",
              "      <td>0.875995</td>\n",
              "      <td>0.526783</td>\n",
              "      <td>0.871687</td>\n",
              "      <td>0.883747</td>\n",
              "      <td>0.869906</td>\n",
              "      <td>109.236046</td>\n",
              "      <td>10.80444</td>\n",
              "      <td>11.946544</td>\n",
              "      <td>86.583199</td>\n",
              "      <td>90.931137</td>\n",
              "    </tr>\n",
              "  </tbody>\n",
              "</table>\n",
              "</div>"
            ],
            "text/plain": [
              "            Density_Feed Properties  ...  Benzene Column C660 Operation_Column Temp Profile_C660 Tray 23 (Control)_oC\n",
              "2021/05/12                 0.875995  ...                                          90.931137                          \n",
              "\n",
              "[1 rows x 10 columns]"
            ]
          },
          "metadata": {
            "tags": []
          },
          "execution_count": 66
        }
      ]
    },
    {
      "cell_type": "code",
      "metadata": {
        "colab": {
          "base_uri": "https://localhost:8080/",
          "height": 130
        },
        "id": "76tMlwG6G-2K",
        "outputId": "a824e6f5-b13f-4b91-d123-64ca4156235f"
      },
      "source": [
        "c670_op1"
      ],
      "execution_count": 67,
      "outputs": [
        {
          "output_type": "execute_result",
          "data": {
            "text/html": [
              "<div>\n",
              "<style scoped>\n",
              "    .dataframe tbody tr th:only-of-type {\n",
              "        vertical-align: middle;\n",
              "    }\n",
              "\n",
              "    .dataframe tbody tr th {\n",
              "        vertical-align: top;\n",
              "    }\n",
              "\n",
              "    .dataframe thead th {\n",
              "        text-align: right;\n",
              "    }\n",
              "</style>\n",
              "<table border=\"1\" class=\"dataframe\">\n",
              "  <thead>\n",
              "    <tr style=\"text-align: right;\">\n",
              "      <th></th>\n",
              "      <th>Density_Distillate Production Rate and Composition</th>\n",
              "      <th>Density_Bottoms Production Rate and Composition</th>\n",
              "      <th>Toluene Column C670 Operation_Yield \\nSummary_Reflux Rate_m3/hr</th>\n",
              "      <th>Toluene Column C670 Operation_Heat Duty_Condenser Heat Duty_Mkcal/hr</th>\n",
              "      <th>Toluene Column C670 Operation_Heat Duty_Reboiler Heat Duty_Mkcal/hr</th>\n",
              "      <th>Toluene Column C670 Operation_Column Temp Profile_C670 Tray 24 (Control)_oC</th>\n",
              "      <th>Toluene Column C670 Operation_Column Temp Profile_C670 Btm Temp (Control)_oC</th>\n",
              "    </tr>\n",
              "  </thead>\n",
              "  <tbody>\n",
              "    <tr>\n",
              "      <th>2021/05/12</th>\n",
              "      <td>0.87088</td>\n",
              "      <td>0.87202</td>\n",
              "      <td>307.459167</td>\n",
              "      <td>36.154743</td>\n",
              "      <td>36.192314</td>\n",
              "      <td>181.58931</td>\n",
              "      <td>227.894012</td>\n",
              "    </tr>\n",
              "  </tbody>\n",
              "</table>\n",
              "</div>"
            ],
            "text/plain": [
              "            Density_Distillate Production Rate and Composition  ...  Toluene Column C670 Operation_Column Temp Profile_C670 Btm Temp (Control)_oC\n",
              "2021/05/12                                            0.87088   ...                                         227.894012                           \n",
              "\n",
              "[1 rows x 7 columns]"
            ]
          },
          "metadata": {
            "tags": []
          },
          "execution_count": 67
        }
      ]
    },
    {
      "cell_type": "markdown",
      "metadata": {
        "id": "U_tMAf8MHCaC"
      },
      "source": [
        "# 觀察op2"
      ]
    },
    {
      "cell_type": "code",
      "metadata": {
        "colab": {
          "base_uri": "https://localhost:8080/",
          "height": 147
        },
        "id": "051Z_xpeHBV6",
        "outputId": "7d72c767-61fc-49a0-dbd0-fbd764bde7a0"
      },
      "source": [
        "c620_op2"
      ],
      "execution_count": 68,
      "outputs": [
        {
          "output_type": "execute_result",
          "data": {
            "text/html": [
              "<div>\n",
              "<style scoped>\n",
              "    .dataframe tbody tr th:only-of-type {\n",
              "        vertical-align: middle;\n",
              "    }\n",
              "\n",
              "    .dataframe tbody tr th {\n",
              "        vertical-align: top;\n",
              "    }\n",
              "\n",
              "    .dataframe thead th {\n",
              "        text-align: right;\n",
              "    }\n",
              "</style>\n",
              "<table border=\"1\" class=\"dataframe\">\n",
              "  <thead>\n",
              "    <tr style=\"text-align: right;\">\n",
              "      <th></th>\n",
              "      <th>Density_Feed Properties</th>\n",
              "      <th>Density_Vent Gas Production Rate and Composition</th>\n",
              "      <th>Density_Distillate Production Rate and Composition</th>\n",
              "      <th>Density_Sidedraw Production Rate and Composition</th>\n",
              "      <th>Density_Bottoms Production Rate and Composition</th>\n",
              "      <th>Tatoray Stripper C620 Operation_Yield Summary_Reflux Rate_m3/hr</th>\n",
              "      <th>Tatoray Stripper C620 Operation_Heat Duty_Condenser Heat Duty_Mkcal/hr</th>\n",
              "      <th>Tatoray Stripper C620 Operation_Heat Duty_Reboiler Heat Duty_Mkcal/hr</th>\n",
              "      <th>Tatoray Stripper C620 Operation_Column Temp Profile_C620 Tray 14 (Control)_oC</th>\n",
              "      <th>Tatoray Stripper C620 Operation_Column Temp Profile_C620 Tray 34 (Control)_oC</th>\n",
              "    </tr>\n",
              "  </thead>\n",
              "  <tbody>\n",
              "    <tr>\n",
              "      <th>2021/05/12</th>\n",
              "      <td>0.864335</td>\n",
              "      <td>0.426528</td>\n",
              "      <td>0.827697</td>\n",
              "      <td>0.878691</td>\n",
              "      <td>0.872159</td>\n",
              "      <td>97.020355</td>\n",
              "      <td>15.297049</td>\n",
              "      <td>13.434281</td>\n",
              "      <td>178.120483</td>\n",
              "      <td>194.618744</td>\n",
              "    </tr>\n",
              "  </tbody>\n",
              "</table>\n",
              "</div>"
            ],
            "text/plain": [
              "            Density_Feed Properties  ...  Tatoray Stripper C620 Operation_Column Temp Profile_C620 Tray 34 (Control)_oC\n",
              "2021/05/12                 0.864335  ...                                         194.618744                            \n",
              "\n",
              "[1 rows x 10 columns]"
            ]
          },
          "metadata": {
            "tags": []
          },
          "execution_count": 68
        }
      ]
    },
    {
      "cell_type": "code",
      "metadata": {
        "colab": {
          "base_uri": "https://localhost:8080/",
          "height": 147
        },
        "id": "hhq-25dhHEhC",
        "outputId": "54c3c7fd-d2e7-4213-f942-ba833a4ea6d9"
      },
      "source": [
        "c660_op2"
      ],
      "execution_count": 69,
      "outputs": [
        {
          "output_type": "execute_result",
          "data": {
            "text/html": [
              "<div>\n",
              "<style scoped>\n",
              "    .dataframe tbody tr th:only-of-type {\n",
              "        vertical-align: middle;\n",
              "    }\n",
              "\n",
              "    .dataframe tbody tr th {\n",
              "        vertical-align: top;\n",
              "    }\n",
              "\n",
              "    .dataframe thead th {\n",
              "        text-align: right;\n",
              "    }\n",
              "</style>\n",
              "<table border=\"1\" class=\"dataframe\">\n",
              "  <thead>\n",
              "    <tr style=\"text-align: right;\">\n",
              "      <th></th>\n",
              "      <th>Density_Feed Properties</th>\n",
              "      <th>Density_Vent Gas Production Rate and Composition</th>\n",
              "      <th>Density_Distillate (Benzene Drag) Production Rate and Composition</th>\n",
              "      <th>Density_Sidedraw (Benzene )Production Rate and Composition</th>\n",
              "      <th>Density_Bottoms Production Rate and Composition</th>\n",
              "      <th>Benzene Column C660 Operation_Yield Summary_Reflux Rate_m3/hr</th>\n",
              "      <th>Benzene Column C660 Operation_Heat Duty_Condenser Heat Duty_Mkcal/hr</th>\n",
              "      <th>Benzene Column C660 Operation_Heat Duty_Reboiler Heat Duty_Mkcal/hr</th>\n",
              "      <th>Benzene Column C660 Operation_Column Temp Profile_C660 Tray 6 (SD &amp; Control)_oC</th>\n",
              "      <th>Benzene Column C660 Operation_Column Temp Profile_C660 Tray 23 (Control)_oC</th>\n",
              "    </tr>\n",
              "  </thead>\n",
              "  <tbody>\n",
              "    <tr>\n",
              "      <th>2021/05/12</th>\n",
              "      <td>0.875959</td>\n",
              "      <td>0.588639</td>\n",
              "      <td>0.836524</td>\n",
              "      <td>0.883686</td>\n",
              "      <td>0.869904</td>\n",
              "      <td>138.436554</td>\n",
              "      <td>12.253844</td>\n",
              "      <td>13.834062</td>\n",
              "      <td>86.725266</td>\n",
              "      <td>89.905594</td>\n",
              "    </tr>\n",
              "  </tbody>\n",
              "</table>\n",
              "</div>"
            ],
            "text/plain": [
              "            Density_Feed Properties  ...  Benzene Column C660 Operation_Column Temp Profile_C660 Tray 23 (Control)_oC\n",
              "2021/05/12                 0.875959  ...                                          89.905594                          \n",
              "\n",
              "[1 rows x 10 columns]"
            ]
          },
          "metadata": {
            "tags": []
          },
          "execution_count": 69
        }
      ]
    },
    {
      "cell_type": "code",
      "metadata": {
        "colab": {
          "base_uri": "https://localhost:8080/",
          "height": 130
        },
        "id": "NMcCr2gfHFZK",
        "outputId": "42ace79f-df2f-4656-fa36-d6f934bcae90"
      },
      "source": [
        "c670_op2"
      ],
      "execution_count": 70,
      "outputs": [
        {
          "output_type": "execute_result",
          "data": {
            "text/html": [
              "<div>\n",
              "<style scoped>\n",
              "    .dataframe tbody tr th:only-of-type {\n",
              "        vertical-align: middle;\n",
              "    }\n",
              "\n",
              "    .dataframe tbody tr th {\n",
              "        vertical-align: top;\n",
              "    }\n",
              "\n",
              "    .dataframe thead th {\n",
              "        text-align: right;\n",
              "    }\n",
              "</style>\n",
              "<table border=\"1\" class=\"dataframe\">\n",
              "  <thead>\n",
              "    <tr style=\"text-align: right;\">\n",
              "      <th></th>\n",
              "      <th>Density_Distillate Production Rate and Composition</th>\n",
              "      <th>Density_Bottoms Production Rate and Composition</th>\n",
              "      <th>Toluene Column C670 Operation_Yield \\nSummary_Reflux Rate_m3/hr</th>\n",
              "      <th>Toluene Column C670 Operation_Heat Duty_Condenser Heat Duty_Mkcal/hr</th>\n",
              "      <th>Toluene Column C670 Operation_Heat Duty_Reboiler Heat Duty_Mkcal/hr</th>\n",
              "      <th>Toluene Column C670 Operation_Column Temp Profile_C670 Tray 24 (Control)_oC</th>\n",
              "      <th>Toluene Column C670 Operation_Column Temp Profile_C670 Btm Temp (Control)_oC</th>\n",
              "    </tr>\n",
              "  </thead>\n",
              "  <tbody>\n",
              "    <tr>\n",
              "      <th>2021/05/12</th>\n",
              "      <td>0.870883</td>\n",
              "      <td>0.872042</td>\n",
              "      <td>305.810486</td>\n",
              "      <td>36.079567</td>\n",
              "      <td>36.202324</td>\n",
              "      <td>181.454849</td>\n",
              "      <td>227.799881</td>\n",
              "    </tr>\n",
              "  </tbody>\n",
              "</table>\n",
              "</div>"
            ],
            "text/plain": [
              "            Density_Distillate Production Rate and Composition  ...  Toluene Column C670 Operation_Column Temp Profile_C670 Btm Temp (Control)_oC\n",
              "2021/05/12                                           0.870883   ...                                         227.799881                           \n",
              "\n",
              "[1 rows x 7 columns]"
            ]
          },
          "metadata": {
            "tags": []
          },
          "execution_count": 70
        }
      ]
    },
    {
      "cell_type": "code",
      "metadata": {
        "id": "fs4HF2_EHGti"
      },
      "source": [
        ""
      ],
      "execution_count": 70,
      "outputs": []
    }
  ]
}