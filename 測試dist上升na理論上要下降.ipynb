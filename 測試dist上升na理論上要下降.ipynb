{
 "cells": [
  {
   "cell_type": "code",
   "execution_count": 29,
   "metadata": {},
   "outputs": [],
   "source": [
    "import pandas as pd\n",
    "import joblib\n",
    "\n",
    "demo = joblib.load('data/demo.pkl')"
   ]
  },
  {
   "cell_type": "code",
   "execution_count": 30,
   "metadata": {},
   "outputs": [
    {
     "output_type": "execute_result",
     "data": {
      "text/plain": [
       "         Simulation Case Conditions_Feed Rate_Feed from V615 Btm_m3/hr  \\\n",
       "139-017                                              200.0               \n",
       "\n",
       "         Simulation Case Conditions_Feed Rate_Feed from V615 Btm    NA_wt%  \\\n",
       "139-017                                           1.116023                   \n",
       "\n",
       "         Simulation Case Conditions_Feed Rate_Feed from V615 Btm    Benzene_wt%  \\\n",
       "139-017                                          11.152225                        \n",
       "\n",
       "         Simulation Case Conditions_Feed Rate_Feed from V615 Btm    Toluene_wt%  \\\n",
       "139-017                                          48.745979                        \n",
       "\n",
       "         Simulation Case Conditions_Feed Rate_Feed from C820 Dist_m3/hr  \\\n",
       "139-017                                               15.0                \n",
       "\n",
       "         Simulation Case Conditions_Feed Rate_Feed from C820 Dist    NA_wt%  \\\n",
       "139-017                                           2.338977                    \n",
       "\n",
       "         Simulation Case Conditions_Feed Rate_Feed from C820 Dist    Benzene_wt%  \\\n",
       "139-017                                          74.302254                         \n",
       "\n",
       "         Simulation Case Conditions_Feed Rate_Feed from C820 Dist    Toluene_wt%  \\\n",
       "139-017                                          17.467825                         \n",
       "\n",
       "         Simulation Case Conditions_Feed Rate_Feed from T651_m3/hr  \\\n",
       "139-017                                               32.0           \n",
       "\n",
       "         Simulation Case Conditions_Feed Rate_Feed from T651    NA_wt%  \\\n",
       "139-017                                             0.0911               \n",
       "\n",
       "         Simulation Case Conditions_Feed Rate_Feed from T651    Benzene_wt%  \\\n",
       "139-017                                          20.854397                    \n",
       "\n",
       "         Simulation Case Conditions_Feed Rate_Feed from T651    Toluene_wt%  \\\n",
       "139-017                                          74.689774                    \n",
       "\n",
       "         Simulation Case Conditions_Spec 1 : Benzene in C620 Sidedraw_wt%  \\\n",
       "139-017                                               80.0                  \n",
       "\n",
       "         Simulation Case Conditions_Spec 2 : NA in Benzene_ppmw  \\\n",
       "139-017                                              920.0        \n",
       "\n",
       "         Tatoray Stripper C620 Operation_Specifications_Spec 2 : Distillate Rate_m3/hr  \\\n",
       "139-017                                               2.75                               \n",
       "\n",
       "         Benzene Column C660 Operation_Specifications_Spec 3 : Toluene in Benzene_ppmw  \\\n",
       "139-017                                                2.5                               \n",
       "\n",
       "         Tatoray Stripper C620 Operation_Specifications_Spec 1 : Receiver Temp_oC  \n",
       "139-017                                               36.0                         "
      ],
      "text/html": "<div>\n<style scoped>\n    .dataframe tbody tr th:only-of-type {\n        vertical-align: middle;\n    }\n\n    .dataframe tbody tr th {\n        vertical-align: top;\n    }\n\n    .dataframe thead th {\n        text-align: right;\n    }\n</style>\n<table border=\"1\" class=\"dataframe\">\n  <thead>\n    <tr style=\"text-align: right;\">\n      <th></th>\n      <th>Simulation Case Conditions_Feed Rate_Feed from V615 Btm_m3/hr</th>\n      <th>Simulation Case Conditions_Feed Rate_Feed from V615 Btm    NA_wt%</th>\n      <th>Simulation Case Conditions_Feed Rate_Feed from V615 Btm    Benzene_wt%</th>\n      <th>Simulation Case Conditions_Feed Rate_Feed from V615 Btm    Toluene_wt%</th>\n      <th>Simulation Case Conditions_Feed Rate_Feed from C820 Dist_m3/hr</th>\n      <th>Simulation Case Conditions_Feed Rate_Feed from C820 Dist    NA_wt%</th>\n      <th>Simulation Case Conditions_Feed Rate_Feed from C820 Dist    Benzene_wt%</th>\n      <th>Simulation Case Conditions_Feed Rate_Feed from C820 Dist    Toluene_wt%</th>\n      <th>Simulation Case Conditions_Feed Rate_Feed from T651_m3/hr</th>\n      <th>Simulation Case Conditions_Feed Rate_Feed from T651    NA_wt%</th>\n      <th>Simulation Case Conditions_Feed Rate_Feed from T651    Benzene_wt%</th>\n      <th>Simulation Case Conditions_Feed Rate_Feed from T651    Toluene_wt%</th>\n      <th>Simulation Case Conditions_Spec 1 : Benzene in C620 Sidedraw_wt%</th>\n      <th>Simulation Case Conditions_Spec 2 : NA in Benzene_ppmw</th>\n      <th>Tatoray Stripper C620 Operation_Specifications_Spec 2 : Distillate Rate_m3/hr</th>\n      <th>Benzene Column C660 Operation_Specifications_Spec 3 : Toluene in Benzene_ppmw</th>\n      <th>Tatoray Stripper C620 Operation_Specifications_Spec 1 : Receiver Temp_oC</th>\n    </tr>\n  </thead>\n  <tbody>\n    <tr>\n      <th>139-017</th>\n      <td>200.0</td>\n      <td>1.116023</td>\n      <td>11.152225</td>\n      <td>48.745979</td>\n      <td>15.0</td>\n      <td>2.338977</td>\n      <td>74.302254</td>\n      <td>17.467825</td>\n      <td>32.0</td>\n      <td>0.0911</td>\n      <td>20.854397</td>\n      <td>74.689774</td>\n      <td>80.0</td>\n      <td>920.0</td>\n      <td>2.75</td>\n      <td>2.5</td>\n      <td>36.0</td>\n    </tr>\n  </tbody>\n</table>\n</div>"
     },
     "metadata": {},
     "execution_count": 30
    }
   ],
   "source": [
    "icg_input = demo['icg_input']\n",
    "icg_input"
   ]
  },
  {
   "cell_type": "code",
   "execution_count": 31,
   "metadata": {},
   "outputs": [
    {
     "output_type": "execute_result",
     "data": {
      "text/plain": [
       "         Combined Feed to Tatoray Stripper C620_Detailed Composition_Hydrogen_wt%  \\\n",
       "139-017                                                0.0                          \n",
       "\n",
       "         Combined Feed to Tatoray Stripper C620_Detailed Composition_Methane_wt%  \\\n",
       "139-017                                           0.018591                         \n",
       "\n",
       "         Combined Feed to Tatoray Stripper C620_Detailed Composition_Ethane_wt%  \\\n",
       "139-017                                           0.450835                        \n",
       "\n",
       "         Combined Feed to Tatoray Stripper C620_Detailed Composition_Propane_wt%  \\\n",
       "139-017                                            0.41517                         \n",
       "\n",
       "         Combined Feed to Tatoray Stripper C620_Detailed Composition_n-Butane_wt%  \\\n",
       "139-017                                            0.12414                          \n",
       "\n",
       "         Combined Feed to Tatoray Stripper C620_Detailed Composition_n-Pentane_wt%  \\\n",
       "139-017                                           0.062616                           \n",
       "\n",
       "         Combined Feed to Tatoray Stripper C620_Detailed Composition_n-Hexane_wt%  \\\n",
       "139-017                                           0.013019                          \n",
       "\n",
       "         Combined Feed to Tatoray Stripper C620_Detailed Composition_Benzene_wt%  \\\n",
       "139-017                                          15.601887                         \n",
       "\n",
       "         Combined Feed to Tatoray Stripper C620_Detailed Composition_Cyclohexane_wt%  \\\n",
       "139-017                                           0.006341                             \n",
       "\n",
       "         Combined Feed to Tatoray Stripper C620_Detailed Composition_n-Heptane_wt%  \\\n",
       "139-017                                           0.012851                           \n",
       "\n",
       "         ...  \\\n",
       "139-017  ...   \n",
       "\n",
       "         Combined Feed to Tatoray Stripper C620_Detailed Composition_Indane_wt%  \\\n",
       "139-017                                           0.052055                        \n",
       "\n",
       "         Combined Feed to Tatoray Stripper C620_Detailed Composition_1-Methyl-4-n-propylbenzene_wt%  \\\n",
       "139-017                                            0.00093                                            \n",
       "\n",
       "         Combined Feed to Tatoray Stripper C620_Detailed Composition_1,2-Diethylbenzene_wt%  \\\n",
       "139-017                                            0.02045                                    \n",
       "\n",
       "         Combined Feed to Tatoray Stripper C620_Detailed Composition_5-Ethyl-m-xylene_wt%  \\\n",
       "139-017                                            0.77618                                  \n",
       "\n",
       "         Combined Feed to Tatoray Stripper C620_Detailed Composition_1,4-Diethylbenzene_wt%  \\\n",
       "139-017                                                0.0                                    \n",
       "\n",
       "         Combined Feed to Tatoray Stripper C620_Detailed Composition_1,2,3,5-Tetramethylbenzene_wt%  \\\n",
       "139-017                                           0.894233                                            \n",
       "\n",
       "         Combined Feed to Tatoray Stripper C620_Detailed Composition_n-Pentylbenzene_wt%  \\\n",
       "139-017                                           0.327204                                 \n",
       "\n",
       "         Combined Feed to Tatoray Stripper C620_Detailed Composition_n-Hexylbenzene_wt%  \\\n",
       "139-017                                           0.140363                                \n",
       "\n",
       "         Combined Feed to Tatoray Stripper C620_Detailed Composition_Nitrogen_wt%  \\\n",
       "139-017                                                0.0                          \n",
       "\n",
       "         Combined Feed to Tatoray Stripper C620_Detailed Composition_Oxygen_wt%  \n",
       "139-017                                                0.0                       \n",
       "\n",
       "[1 rows x 41 columns]"
      ],
      "text/html": "<div>\n<style scoped>\n    .dataframe tbody tr th:only-of-type {\n        vertical-align: middle;\n    }\n\n    .dataframe tbody tr th {\n        vertical-align: top;\n    }\n\n    .dataframe thead th {\n        text-align: right;\n    }\n</style>\n<table border=\"1\" class=\"dataframe\">\n  <thead>\n    <tr style=\"text-align: right;\">\n      <th></th>\n      <th>Combined Feed to Tatoray Stripper C620_Detailed Composition_Hydrogen_wt%</th>\n      <th>Combined Feed to Tatoray Stripper C620_Detailed Composition_Methane_wt%</th>\n      <th>Combined Feed to Tatoray Stripper C620_Detailed Composition_Ethane_wt%</th>\n      <th>Combined Feed to Tatoray Stripper C620_Detailed Composition_Propane_wt%</th>\n      <th>Combined Feed to Tatoray Stripper C620_Detailed Composition_n-Butane_wt%</th>\n      <th>Combined Feed to Tatoray Stripper C620_Detailed Composition_n-Pentane_wt%</th>\n      <th>Combined Feed to Tatoray Stripper C620_Detailed Composition_n-Hexane_wt%</th>\n      <th>Combined Feed to Tatoray Stripper C620_Detailed Composition_Benzene_wt%</th>\n      <th>Combined Feed to Tatoray Stripper C620_Detailed Composition_Cyclohexane_wt%</th>\n      <th>Combined Feed to Tatoray Stripper C620_Detailed Composition_n-Heptane_wt%</th>\n      <th>...</th>\n      <th>Combined Feed to Tatoray Stripper C620_Detailed Composition_Indane_wt%</th>\n      <th>Combined Feed to Tatoray Stripper C620_Detailed Composition_1-Methyl-4-n-propylbenzene_wt%</th>\n      <th>Combined Feed to Tatoray Stripper C620_Detailed Composition_1,2-Diethylbenzene_wt%</th>\n      <th>Combined Feed to Tatoray Stripper C620_Detailed Composition_5-Ethyl-m-xylene_wt%</th>\n      <th>Combined Feed to Tatoray Stripper C620_Detailed Composition_1,4-Diethylbenzene_wt%</th>\n      <th>Combined Feed to Tatoray Stripper C620_Detailed Composition_1,2,3,5-Tetramethylbenzene_wt%</th>\n      <th>Combined Feed to Tatoray Stripper C620_Detailed Composition_n-Pentylbenzene_wt%</th>\n      <th>Combined Feed to Tatoray Stripper C620_Detailed Composition_n-Hexylbenzene_wt%</th>\n      <th>Combined Feed to Tatoray Stripper C620_Detailed Composition_Nitrogen_wt%</th>\n      <th>Combined Feed to Tatoray Stripper C620_Detailed Composition_Oxygen_wt%</th>\n    </tr>\n  </thead>\n  <tbody>\n    <tr>\n      <th>139-017</th>\n      <td>0.0</td>\n      <td>0.018591</td>\n      <td>0.450835</td>\n      <td>0.41517</td>\n      <td>0.12414</td>\n      <td>0.062616</td>\n      <td>0.013019</td>\n      <td>15.601887</td>\n      <td>0.006341</td>\n      <td>0.012851</td>\n      <td>...</td>\n      <td>0.052055</td>\n      <td>0.00093</td>\n      <td>0.02045</td>\n      <td>0.77618</td>\n      <td>0.0</td>\n      <td>0.894233</td>\n      <td>0.327204</td>\n      <td>0.140363</td>\n      <td>0.0</td>\n      <td>0.0</td>\n    </tr>\n  </tbody>\n</table>\n<p>1 rows × 41 columns</p>\n</div>"
     },
     "metadata": {},
     "execution_count": 31
    }
   ],
   "source": [
    "c620_feed = demo['c620_feed']\n",
    "c620_feed"
   ]
  },
  {
   "cell_type": "code",
   "execution_count": 32,
   "metadata": {},
   "outputs": [],
   "source": [
    "t651_feed = demo['t651_feed']"
   ]
  },
  {
   "source": [
    "# 觀察這組樣本的三項spec"
   ],
   "cell_type": "markdown",
   "metadata": {}
  },
  {
   "cell_type": "code",
   "execution_count": 33,
   "metadata": {},
   "outputs": [
    {
     "output_type": "stream",
     "name": "stdout",
     "text": [
      "80.0\n920.0\n2.499999828\n"
     ]
    }
   ],
   "source": [
    "print(icg_input['Simulation Case Conditions_Spec 1 : Benzene in C620 Sidedraw_wt%'].values[0])\n",
    "print(icg_input['Simulation Case Conditions_Spec 2 : NA in Benzene_ppmw'].values[0])\n",
    "print(icg_input['Benzene Column C660 Operation_Specifications_Spec 3 : Toluene in Benzene_ppmw'].values[0])"
   ]
  },
  {
   "cell_type": "markdown",
   "metadata": {},
   "source": [
    "## 利用兩次試算達成推薦功能"
   ]
  },
  {
   "cell_type": "code",
   "execution_count": 34,
   "metadata": {},
   "outputs": [],
   "source": [
    "import autorch\n",
    "from FV2 import AllSystem\n",
    "from configV2 import config"
   ]
  },
  {
   "cell_type": "code",
   "execution_count": 35,
   "metadata": {
    "tags": []
   },
   "outputs": [],
   "source": [
    "f = joblib.load('model/allsystem.pkl')"
   ]
  },
  {
   "cell_type": "code",
   "execution_count": 36,
   "metadata": {},
   "outputs": [],
   "source": [
    "c620_wt,c620_op,c660_wt,c660_op,c670_wt,c670_op = f.inference(icg_input.copy(),c620_feed.copy(),t651_feed.copy())"
   ]
  },
  {
   "cell_type": "code",
   "execution_count": 37,
   "metadata": {},
   "outputs": [],
   "source": [
    "# 改變spec後二次試算\n",
    "icg_input_2 = icg_input.copy()\n",
    "c620_feed_2 = c620_feed.copy()\n",
    "t651_feed_2 = t651_feed.copy()\n",
    "icg_input_2['Simulation Case Conditions_Spec 1 : Benzene in C620 Sidedraw_wt%'] = 70\n",
    "icg_input_2['Simulation Case Conditions_Spec 2 : NA in Benzene_ppmw'] = 980\n",
    "icg_input_2['Benzene Column C660 Operation_Specifications_Spec 3 : Toluene in Benzene_ppmw'] = 10\n",
    "\n",
    "c620_wt2,c620_op2,c660_wt2,c660_op2,c670_wt2,c670_op2 = f.inference(icg_input_2.copy(),c620_feed_2.copy(),t651_feed_2.copy())"
   ]
  },
  {
   "cell_type": "markdown",
   "metadata": {},
   "source": [
    "## 計算Delta"
   ]
  },
  {
   "cell_type": "code",
   "execution_count": 38,
   "metadata": {},
   "outputs": [
    {
     "output_type": "execute_result",
     "data": {
      "text/plain": [
       "         Density_Feed Properties  \\\n",
       "139-017             1.788139e-07   \n",
       "\n",
       "         Density_Vent Gas Production Rate and Composition  \\\n",
       "139-017                                         -0.000392   \n",
       "\n",
       "         Density_Distillate Production Rate and Composition  \\\n",
       "139-017                                           0.000847    \n",
       "\n",
       "         Density_Sidedraw Production Rate and Composition  \\\n",
       "139-017                                         -0.001411   \n",
       "\n",
       "         Density_Bottoms Production Rate and Composition  \\\n",
       "139-017                                          0.00002   \n",
       "\n",
       "         Tatoray Stripper C620 Operation_Yield Summary_Reflux Rate_m3/hr  \\\n",
       "139-017                                          -7.614456                 \n",
       "\n",
       "         Tatoray Stripper C620 Operation_Heat Duty_Condenser Heat Duty_Mkcal/hr  \\\n",
       "139-017                                          -0.655318                        \n",
       "\n",
       "         Tatoray Stripper C620 Operation_Heat Duty_Reboiler Heat Duty_Mkcal/hr  \\\n",
       "139-017                                          -0.654632                       \n",
       "\n",
       "         Tatoray Stripper C620 Operation_Column Temp Profile_C620 Tray 14 (Control)_oC  \\\n",
       "139-017                                           0.684555                               \n",
       "\n",
       "         Tatoray Stripper C620 Operation_Column Temp Profile_C620 Tray 34 (Control)_oC  \n",
       "139-017                                           0.471985                              "
      ],
      "text/html": "<div>\n<style scoped>\n    .dataframe tbody tr th:only-of-type {\n        vertical-align: middle;\n    }\n\n    .dataframe tbody tr th {\n        vertical-align: top;\n    }\n\n    .dataframe thead th {\n        text-align: right;\n    }\n</style>\n<table border=\"1\" class=\"dataframe\">\n  <thead>\n    <tr style=\"text-align: right;\">\n      <th></th>\n      <th>Density_Feed Properties</th>\n      <th>Density_Vent Gas Production Rate and Composition</th>\n      <th>Density_Distillate Production Rate and Composition</th>\n      <th>Density_Sidedraw Production Rate and Composition</th>\n      <th>Density_Bottoms Production Rate and Composition</th>\n      <th>Tatoray Stripper C620 Operation_Yield Summary_Reflux Rate_m3/hr</th>\n      <th>Tatoray Stripper C620 Operation_Heat Duty_Condenser Heat Duty_Mkcal/hr</th>\n      <th>Tatoray Stripper C620 Operation_Heat Duty_Reboiler Heat Duty_Mkcal/hr</th>\n      <th>Tatoray Stripper C620 Operation_Column Temp Profile_C620 Tray 14 (Control)_oC</th>\n      <th>Tatoray Stripper C620 Operation_Column Temp Profile_C620 Tray 34 (Control)_oC</th>\n    </tr>\n  </thead>\n  <tbody>\n    <tr>\n      <th>139-017</th>\n      <td>1.788139e-07</td>\n      <td>-0.000392</td>\n      <td>0.000847</td>\n      <td>-0.001411</td>\n      <td>0.00002</td>\n      <td>-7.614456</td>\n      <td>-0.655318</td>\n      <td>-0.654632</td>\n      <td>0.684555</td>\n      <td>0.471985</td>\n    </tr>\n  </tbody>\n</table>\n</div>"
     },
     "metadata": {},
     "execution_count": 38
    }
   ],
   "source": [
    "c620_op2-c620_op # 苯從84降到70 c620溫度應該上升 確實有上升"
   ]
  },
  {
   "cell_type": "code",
   "execution_count": 39,
   "metadata": {},
   "outputs": [
    {
     "output_type": "execute_result",
     "data": {
      "text/plain": [
       "         Density_Feed Properties  \\\n",
       "139-017                -0.000881   \n",
       "\n",
       "         Density_Vent Gas Production Rate and Composition  \\\n",
       "139-017                                          0.011167   \n",
       "\n",
       "         Density_Distillate (Benzene Drag) Production Rate and Composition  \\\n",
       "139-017                                          -0.003052                   \n",
       "\n",
       "         Density_Sidedraw (Benzene )Production Rate and Composition  \\\n",
       "139-017                                          -0.000017            \n",
       "\n",
       "         Density_Bottoms Production Rate and Composition  \\\n",
       "139-017                                         0.000024   \n",
       "\n",
       "         Benzene Column C660 Operation_Yield Summary_Reflux Rate_m3/hr  \\\n",
       "139-017                                           6.476486               \n",
       "\n",
       "         Benzene Column C660 Operation_Heat Duty_Condenser Heat Duty_Mkcal/hr  \\\n",
       "139-017                                           0.517909                      \n",
       "\n",
       "         Benzene Column C660 Operation_Heat Duty_Reboiler Heat Duty_Mkcal/hr  \\\n",
       "139-017                                           0.375279                     \n",
       "\n",
       "         Benzene Column C660 Operation_Column Temp Profile_C660 Tray 6 (SD & Control)_oC  \\\n",
       "139-017                                           0.027306                                 \n",
       "\n",
       "         Benzene Column C660 Operation_Column Temp Profile_C660 Tray 23 (Control)_oC  \n",
       "139-017                                            0.38044                            "
      ],
      "text/html": "<div>\n<style scoped>\n    .dataframe tbody tr th:only-of-type {\n        vertical-align: middle;\n    }\n\n    .dataframe tbody tr th {\n        vertical-align: top;\n    }\n\n    .dataframe thead th {\n        text-align: right;\n    }\n</style>\n<table border=\"1\" class=\"dataframe\">\n  <thead>\n    <tr style=\"text-align: right;\">\n      <th></th>\n      <th>Density_Feed Properties</th>\n      <th>Density_Vent Gas Production Rate and Composition</th>\n      <th>Density_Distillate (Benzene Drag) Production Rate and Composition</th>\n      <th>Density_Sidedraw (Benzene )Production Rate and Composition</th>\n      <th>Density_Bottoms Production Rate and Composition</th>\n      <th>Benzene Column C660 Operation_Yield Summary_Reflux Rate_m3/hr</th>\n      <th>Benzene Column C660 Operation_Heat Duty_Condenser Heat Duty_Mkcal/hr</th>\n      <th>Benzene Column C660 Operation_Heat Duty_Reboiler Heat Duty_Mkcal/hr</th>\n      <th>Benzene Column C660 Operation_Column Temp Profile_C660 Tray 6 (SD &amp; Control)_oC</th>\n      <th>Benzene Column C660 Operation_Column Temp Profile_C660 Tray 23 (Control)_oC</th>\n    </tr>\n  </thead>\n  <tbody>\n    <tr>\n      <th>139-017</th>\n      <td>-0.000881</td>\n      <td>0.011167</td>\n      <td>-0.003052</td>\n      <td>-0.000017</td>\n      <td>0.000024</td>\n      <td>6.476486</td>\n      <td>0.517909</td>\n      <td>0.375279</td>\n      <td>0.027306</td>\n      <td>0.38044</td>\n    </tr>\n  </tbody>\n</table>\n</div>"
     },
     "metadata": {},
     "execution_count": 39
    }
   ],
   "source": [
    "c660_op2-c660_op"
   ]
  },
  {
   "cell_type": "code",
   "execution_count": 40,
   "metadata": {},
   "outputs": [
    {
     "output_type": "execute_result",
     "data": {
      "text/plain": [
       "         Density_Distillate Production Rate and Composition  \\\n",
       "139-017                                       2.980232e-07    \n",
       "\n",
       "         Density_Bottoms Production Rate and Composition  \\\n",
       "139-017                                         0.000002   \n",
       "\n",
       "         Toluene Column C670 Operation_Yield \\nSummary_Reflux Rate_m3/hr  \\\n",
       "139-017                                         -12.159988                 \n",
       "\n",
       "         Toluene Column C670 Operation_Heat Duty_Condenser Heat Duty_Mkcal/hr  \\\n",
       "139-017                                          -1.039232                      \n",
       "\n",
       "         Toluene Column C670 Operation_Heat Duty_Reboiler Heat Duty_Mkcal/hr  \\\n",
       "139-017                                          -1.112823                     \n",
       "\n",
       "         Toluene Column C670 Operation_Column Temp Profile_C670 Tray 24 (Control)_oC  \\\n",
       "139-017                                           -0.11171                             \n",
       "\n",
       "         Toluene Column C670 Operation_Column Temp Profile_C670 Btm Temp (Control)_oC  \n",
       "139-017                                          -0.111481                             "
      ],
      "text/html": "<div>\n<style scoped>\n    .dataframe tbody tr th:only-of-type {\n        vertical-align: middle;\n    }\n\n    .dataframe tbody tr th {\n        vertical-align: top;\n    }\n\n    .dataframe thead th {\n        text-align: right;\n    }\n</style>\n<table border=\"1\" class=\"dataframe\">\n  <thead>\n    <tr style=\"text-align: right;\">\n      <th></th>\n      <th>Density_Distillate Production Rate and Composition</th>\n      <th>Density_Bottoms Production Rate and Composition</th>\n      <th>Toluene Column C670 Operation_Yield \\nSummary_Reflux Rate_m3/hr</th>\n      <th>Toluene Column C670 Operation_Heat Duty_Condenser Heat Duty_Mkcal/hr</th>\n      <th>Toluene Column C670 Operation_Heat Duty_Reboiler Heat Duty_Mkcal/hr</th>\n      <th>Toluene Column C670 Operation_Column Temp Profile_C670 Tray 24 (Control)_oC</th>\n      <th>Toluene Column C670 Operation_Column Temp Profile_C670 Btm Temp (Control)_oC</th>\n    </tr>\n  </thead>\n  <tbody>\n    <tr>\n      <th>139-017</th>\n      <td>2.980232e-07</td>\n      <td>0.000002</td>\n      <td>-12.159988</td>\n      <td>-1.039232</td>\n      <td>-1.112823</td>\n      <td>-0.11171</td>\n      <td>-0.111481</td>\n    </tr>\n  </tbody>\n</table>\n</div>"
     },
     "metadata": {},
     "execution_count": 40
    }
   ],
   "source": [
    "c670_op2-c670_op"
   ]
  },
  {
   "source": [
    "# 將C620 Distillate Rate 由0 m3/hr逐步增加，觀察C660模型預測的苯不純物，直到C660 NA in BZ <=980。(此做法主要是要確保苯產品合格)"
   ],
   "cell_type": "markdown",
   "metadata": {}
  },
  {
   "cell_type": "code",
   "execution_count": 41,
   "metadata": {},
   "outputs": [
    {
     "output_type": "stream",
     "name": "stdout",
     "text": [
      "2.750000238\n"
     ]
    },
    {
     "output_type": "execute_result",
     "data": {
      "text/plain": [
       "938.2721393081997"
      ]
     },
     "metadata": {},
     "execution_count": 41
    }
   ],
   "source": [
    "# 首先先觀察 原本預測的苯不純物以及對應的Distillate Rate\n",
    "print(icg_input['Tatoray Stripper C620 Operation_Specifications_Spec 2 : Distillate Rate_m3/hr'].values[0])\n",
    "naidx = [1,2,3,4,5,6,8,9,11,13,14,15,20,22,29]\n",
    "(c660_wt.filter(regex='Side').iloc[:,naidx].sum(axis=1)*10000).values[0]"
   ]
  },
  {
   "cell_type": "code",
   "execution_count": 45,
   "metadata": {},
   "outputs": [
    {
     "output_type": "display_data",
     "data": {
      "text/plain": "HBox(children=(HTML(value=''), FloatProgress(value=0.0), HTML(value='')))",
      "application/vnd.jupyter.widget-view+json": {
       "version_major": 2,
       "version_minor": 0,
       "model_id": "b56ae223c2594d3390e78a7eb134e642"
      }
     },
     "metadata": {}
    },
    {
     "output_type": "stream",
     "name": "stdout",
     "text": [
      "\n"
     ]
    },
    {
     "output_type": "display_data",
     "data": {
      "text/plain": "<Figure size 432x288 with 1 Axes>",
      "image/svg+xml": "<?xml version=\"1.0\" encoding=\"utf-8\" standalone=\"no\"?>\r\n<!DOCTYPE svg PUBLIC \"-//W3C//DTD SVG 1.1//EN\"\r\n  \"http://www.w3.org/Graphics/SVG/1.1/DTD/svg11.dtd\">\r\n<!-- Created with matplotlib (https://matplotlib.org/) -->\r\n<svg height=\"308.692187pt\" version=\"1.1\" viewBox=\"0 0 423.441406 308.692187\" width=\"423.441406pt\" xmlns=\"http://www.w3.org/2000/svg\" xmlns:xlink=\"http://www.w3.org/1999/xlink\">\r\n <metadata>\r\n  <rdf:RDF xmlns:cc=\"http://creativecommons.org/ns#\" xmlns:dc=\"http://purl.org/dc/elements/1.1/\" xmlns:rdf=\"http://www.w3.org/1999/02/22-rdf-syntax-ns#\">\r\n   <cc:Work>\r\n    <dc:type rdf:resource=\"http://purl.org/dc/dcmitype/StillImage\"/>\r\n    <dc:date>2021-05-06T11:45:51.600128</dc:date>\r\n    <dc:format>image/svg+xml</dc:format>\r\n    <dc:creator>\r\n     <cc:Agent>\r\n      <dc:title>Matplotlib v3.3.2, https://matplotlib.org/</dc:title>\r\n     </cc:Agent>\r\n    </dc:creator>\r\n   </cc:Work>\r\n  </rdf:RDF>\r\n </metadata>\r\n <defs>\r\n  <style type=\"text/css\">*{stroke-linecap:butt;stroke-linejoin:round;}</style>\r\n </defs>\r\n <g id=\"figure_1\">\r\n  <g id=\"patch_1\">\r\n   <path d=\"M 0 308.692187 \r\nL 423.441406 308.692187 \r\nL 423.441406 0 \r\nL 0 0 \r\nz\r\n\" style=\"fill:none;\"/>\r\n  </g>\r\n  <g id=\"axes_1\">\r\n   <g id=\"patch_2\">\r\n    <path d=\"M 53.60625 263.066094 \r\nL 388.40625 263.066094 \r\nL 388.40625 45.626094 \r\nL 53.60625 45.626094 \r\nz\r\n\" style=\"fill:#ffffff;\"/>\r\n   </g>\r\n   <g id=\"PathCollection_1\">\r\n    <defs>\r\n     <path d=\"M 0 3 \r\nC 0.795609 3 1.55874 2.683901 2.12132 2.12132 \r\nC 2.683901 1.55874 3 0.795609 3 0 \r\nC 3 -0.795609 2.683901 -1.55874 2.12132 -2.12132 \r\nC 1.55874 -2.683901 0.795609 -3 0 -3 \r\nC -0.795609 -3 -1.55874 -2.683901 -2.12132 -2.12132 \r\nC -2.683901 -1.55874 -3 -0.795609 -3 0 \r\nC -3 0.795609 -2.683901 1.55874 -2.12132 2.12132 \r\nC -1.55874 2.683901 -0.795609 3 0 3 \r\nz\r\n\" id=\"mb9f4040bfd\" style=\"stroke:#1f77b4;\"/>\r\n    </defs>\r\n    <g clip-path=\"url(#pa4cdeaf79b)\">\r\n     <use style=\"fill:#1f77b4;stroke:#1f77b4;\" x=\"68.824432\" xlink:href=\"#mb9f4040bfd\" y=\"55.50973\"/>\r\n     <use style=\"fill:#1f77b4;stroke:#1f77b4;\" x=\"71.898812\" xlink:href=\"#mb9f4040bfd\" y=\"55.630588\"/>\r\n     <use style=\"fill:#1f77b4;stroke:#1f77b4;\" x=\"74.973192\" xlink:href=\"#mb9f4040bfd\" y=\"55.761861\"/>\r\n     <use style=\"fill:#1f77b4;stroke:#1f77b4;\" x=\"78.047572\" xlink:href=\"#mb9f4040bfd\" y=\"55.915778\"/>\r\n     <use style=\"fill:#1f77b4;stroke:#1f77b4;\" x=\"81.121952\" xlink:href=\"#mb9f4040bfd\" y=\"55.849503\"/>\r\n     <use style=\"fill:#1f77b4;stroke:#1f77b4;\" x=\"84.196333\" xlink:href=\"#mb9f4040bfd\" y=\"56.051513\"/>\r\n     <use style=\"fill:#1f77b4;stroke:#1f77b4;\" x=\"87.270713\" xlink:href=\"#mb9f4040bfd\" y=\"56.266241\"/>\r\n     <use style=\"fill:#1f77b4;stroke:#1f77b4;\" x=\"90.345093\" xlink:href=\"#mb9f4040bfd\" y=\"56.507902\"/>\r\n     <use style=\"fill:#1f77b4;stroke:#1f77b4;\" x=\"93.419473\" xlink:href=\"#mb9f4040bfd\" y=\"56.245712\"/>\r\n     <use style=\"fill:#1f77b4;stroke:#1f77b4;\" x=\"96.493853\" xlink:href=\"#mb9f4040bfd\" y=\"56.526962\"/>\r\n     <use style=\"fill:#1f77b4;stroke:#1f77b4;\" x=\"99.568233\" xlink:href=\"#mb9f4040bfd\" y=\"56.842093\"/>\r\n     <use style=\"fill:#1f77b4;stroke:#1f77b4;\" x=\"102.642614\" xlink:href=\"#mb9f4040bfd\" y=\"57.172438\"/>\r\n     <use style=\"fill:#1f77b4;stroke:#1f77b4;\" x=\"105.716994\" xlink:href=\"#mb9f4040bfd\" y=\"57.53785\"/>\r\n     <use style=\"fill:#1f77b4;stroke:#1f77b4;\" x=\"108.791374\" xlink:href=\"#mb9f4040bfd\" y=\"57.923089\"/>\r\n     <use style=\"fill:#1f77b4;stroke:#1f77b4;\" x=\"111.865754\" xlink:href=\"#mb9f4040bfd\" y=\"58.331376\"/>\r\n     <use style=\"fill:#1f77b4;stroke:#1f77b4;\" x=\"114.940134\" xlink:href=\"#mb9f4040bfd\" y=\"58.779059\"/>\r\n     <use style=\"fill:#1f77b4;stroke:#1f77b4;\" x=\"118.014514\" xlink:href=\"#mb9f4040bfd\" y=\"59.249815\"/>\r\n     <use style=\"fill:#1f77b4;stroke:#1f77b4;\" x=\"121.088895\" xlink:href=\"#mb9f4040bfd\" y=\"59.748576\"/>\r\n     <use style=\"fill:#1f77b4;stroke:#1f77b4;\" x=\"124.163275\" xlink:href=\"#mb9f4040bfd\" y=\"60.286408\"/>\r\n     <use style=\"fill:#1f77b4;stroke:#1f77b4;\" x=\"127.237655\" xlink:href=\"#mb9f4040bfd\" y=\"60.853506\"/>\r\n     <use style=\"fill:#1f77b4;stroke:#1f77b4;\" x=\"130.312035\" xlink:href=\"#mb9f4040bfd\" y=\"61.205527\"/>\r\n     <use style=\"fill:#1f77b4;stroke:#1f77b4;\" x=\"133.386415\" xlink:href=\"#mb9f4040bfd\" y=\"61.849648\"/>\r\n     <use style=\"fill:#1f77b4;stroke:#1f77b4;\" x=\"136.460795\" xlink:href=\"#mb9f4040bfd\" y=\"62.525323\"/>\r\n     <use style=\"fill:#1f77b4;stroke:#1f77b4;\" x=\"139.535176\" xlink:href=\"#mb9f4040bfd\" y=\"63.22934\"/>\r\n     <use style=\"fill:#1f77b4;stroke:#1f77b4;\" x=\"142.609556\" xlink:href=\"#mb9f4040bfd\" y=\"63.981707\"/>\r\n     <use style=\"fill:#1f77b4;stroke:#1f77b4;\" x=\"145.683936\" xlink:href=\"#mb9f4040bfd\" y=\"64.77484\"/>\r\n     <use style=\"fill:#1f77b4;stroke:#1f77b4;\" x=\"148.758316\" xlink:href=\"#mb9f4040bfd\" y=\"65.601277\"/>\r\n     <use style=\"fill:#1f77b4;stroke:#1f77b4;\" x=\"151.832696\" xlink:href=\"#mb9f4040bfd\" y=\"66.477703\"/>\r\n     <use style=\"fill:#1f77b4;stroke:#1f77b4;\" x=\"154.907076\" xlink:href=\"#mb9f4040bfd\" y=\"67.396595\"/>\r\n     <use style=\"fill:#1f77b4;stroke:#1f77b4;\" x=\"157.981457\" xlink:href=\"#mb9f4040bfd\" y=\"68.357083\"/>\r\n     <use style=\"fill:#1f77b4;stroke:#1f77b4;\" x=\"161.055837\" xlink:href=\"#mb9f4040bfd\" y=\"69.365438\"/>\r\n     <use style=\"fill:#1f77b4;stroke:#1f77b4;\" x=\"164.130217\" xlink:href=\"#mb9f4040bfd\" y=\"70.420831\"/>\r\n     <use style=\"fill:#1f77b4;stroke:#1f77b4;\" x=\"167.204597\" xlink:href=\"#mb9f4040bfd\" y=\"71.528439\"/>\r\n     <use style=\"fill:#1f77b4;stroke:#1f77b4;\" x=\"170.278977\" xlink:href=\"#mb9f4040bfd\" y=\"72.675125\"/>\r\n     <use style=\"fill:#1f77b4;stroke:#1f77b4;\" x=\"173.353357\" xlink:href=\"#mb9f4040bfd\" y=\"73.874068\"/>\r\n     <use style=\"fill:#1f77b4;stroke:#1f77b4;\" x=\"176.427738\" xlink:href=\"#mb9f4040bfd\" y=\"75.112962\"/>\r\n     <use style=\"fill:#1f77b4;stroke:#1f77b4;\" x=\"179.502118\" xlink:href=\"#mb9f4040bfd\" y=\"76.41539\"/>\r\n     <use style=\"fill:#1f77b4;stroke:#1f77b4;\" x=\"182.576498\" xlink:href=\"#mb9f4040bfd\" y=\"77.774307\"/>\r\n     <use style=\"fill:#1f77b4;stroke:#1f77b4;\" x=\"185.650878\" xlink:href=\"#mb9f4040bfd\" y=\"79.179058\"/>\r\n     <use style=\"fill:#1f77b4;stroke:#1f77b4;\" x=\"188.725258\" xlink:href=\"#mb9f4040bfd\" y=\"80.636363\"/>\r\n     <use style=\"fill:#1f77b4;stroke:#1f77b4;\" x=\"191.799638\" xlink:href=\"#mb9f4040bfd\" y=\"82.150141\"/>\r\n     <use style=\"fill:#1f77b4;stroke:#1f77b4;\" x=\"194.874019\" xlink:href=\"#mb9f4040bfd\" y=\"83.967008\"/>\r\n     <use style=\"fill:#1f77b4;stroke:#1f77b4;\" x=\"197.948399\" xlink:href=\"#mb9f4040bfd\" y=\"85.589928\"/>\r\n     <use style=\"fill:#1f77b4;stroke:#1f77b4;\" x=\"201.022779\" xlink:href=\"#mb9f4040bfd\" y=\"87.269227\"/>\r\n     <use style=\"fill:#1f77b4;stroke:#1f77b4;\" x=\"204.097159\" xlink:href=\"#mb9f4040bfd\" y=\"88.998653\"/>\r\n     <use style=\"fill:#1f77b4;stroke:#1f77b4;\" x=\"207.171539\" xlink:href=\"#mb9f4040bfd\" y=\"90.791702\"/>\r\n     <use style=\"fill:#1f77b4;stroke:#1f77b4;\" x=\"210.245919\" xlink:href=\"#mb9f4040bfd\" y=\"92.634709\"/>\r\n     <use style=\"fill:#1f77b4;stroke:#1f77b4;\" x=\"213.3203\" xlink:href=\"#mb9f4040bfd\" y=\"94.533859\"/>\r\n     <use style=\"fill:#1f77b4;stroke:#1f77b4;\" x=\"216.39468\" xlink:href=\"#mb9f4040bfd\" y=\"96.489733\"/>\r\n     <use style=\"fill:#1f77b4;stroke:#1f77b4;\" x=\"219.46906\" xlink:href=\"#mb9f4040bfd\" y=\"98.984289\"/>\r\n     <use style=\"fill:#1f77b4;stroke:#1f77b4;\" x=\"222.54344\" xlink:href=\"#mb9f4040bfd\" y=\"101.056363\"/>\r\n     <use style=\"fill:#1f77b4;stroke:#1f77b4;\" x=\"225.61782\" xlink:href=\"#mb9f4040bfd\" y=\"103.190457\"/>\r\n     <use style=\"fill:#1f77b4;stroke:#1f77b4;\" x=\"228.6922\" xlink:href=\"#mb9f4040bfd\" y=\"105.612217\"/>\r\n     <use style=\"fill:#1f77b4;stroke:#1f77b4;\" x=\"231.766581\" xlink:href=\"#mb9f4040bfd\" y=\"107.844917\"/>\r\n     <use style=\"fill:#1f77b4;stroke:#1f77b4;\" x=\"234.840961\" xlink:href=\"#mb9f4040bfd\" y=\"110.127118\"/>\r\n     <use style=\"fill:#1f77b4;stroke:#1f77b4;\" x=\"237.915341\" xlink:href=\"#mb9f4040bfd\" y=\"112.469962\"/>\r\n     <use style=\"fill:#1f77b4;stroke:#1f77b4;\" x=\"240.989721\" xlink:href=\"#mb9f4040bfd\" y=\"115.35441\"/>\r\n     <use style=\"fill:#1f77b4;stroke:#1f77b4;\" x=\"244.064101\" xlink:href=\"#mb9f4040bfd\" y=\"117.804674\"/>\r\n     <use style=\"fill:#1f77b4;stroke:#1f77b4;\" x=\"247.138481\" xlink:href=\"#mb9f4040bfd\" y=\"120.772453\"/>\r\n     <use style=\"fill:#1f77b4;stroke:#1f77b4;\" x=\"250.212862\" xlink:href=\"#mb9f4040bfd\" y=\"123.311419\"/>\r\n     <use style=\"fill:#1f77b4;stroke:#1f77b4;\" x=\"253.287242\" xlink:href=\"#mb9f4040bfd\" y=\"125.905664\"/>\r\n     <use style=\"fill:#1f77b4;stroke:#1f77b4;\" x=\"256.361622\" xlink:href=\"#mb9f4040bfd\" y=\"128.774512\"/>\r\n     <use style=\"fill:#1f77b4;stroke:#1f77b4;\" x=\"259.436002\" xlink:href=\"#mb9f4040bfd\" y=\"131.453969\"/>\r\n     <use style=\"fill:#1f77b4;stroke:#1f77b4;\" x=\"262.510382\" xlink:href=\"#mb9f4040bfd\" y=\"134.178504\"/>\r\n     <use style=\"fill:#1f77b4;stroke:#1f77b4;\" x=\"265.584762\" xlink:href=\"#mb9f4040bfd\" y=\"137.886737\"/>\r\n     <use style=\"fill:#1f77b4;stroke:#1f77b4;\" x=\"268.659143\" xlink:href=\"#mb9f4040bfd\" y=\"140.680067\"/>\r\n     <use style=\"fill:#1f77b4;stroke:#1f77b4;\" x=\"271.733523\" xlink:href=\"#mb9f4040bfd\" y=\"143.745306\"/>\r\n     <use style=\"fill:#1f77b4;stroke:#1f77b4;\" x=\"274.807903\" xlink:href=\"#mb9f4040bfd\" y=\"146.620468\"/>\r\n     <use style=\"fill:#1f77b4;stroke:#1f77b4;\" x=\"277.882283\" xlink:href=\"#mb9f4040bfd\" y=\"149.977481\"/>\r\n     <use style=\"fill:#1f77b4;stroke:#1f77b4;\" x=\"280.956663\" xlink:href=\"#mb9f4040bfd\" y=\"152.922987\"/>\r\n     <use style=\"fill:#1f77b4;stroke:#1f77b4;\" x=\"284.031043\" xlink:href=\"#mb9f4040bfd\" y=\"156.107805\"/>\r\n     <use style=\"fill:#1f77b4;stroke:#1f77b4;\" x=\"287.105424\" xlink:href=\"#mb9f4040bfd\" y=\"159.09395\"/>\r\n     <use style=\"fill:#1f77b4;stroke:#1f77b4;\" x=\"290.179804\" xlink:href=\"#mb9f4040bfd\" y=\"162.565648\"/>\r\n     <use style=\"fill:#1f77b4;stroke:#1f77b4;\" x=\"293.254184\" xlink:href=\"#mb9f4040bfd\" y=\"166.04196\"/>\r\n     <use style=\"fill:#1f77b4;stroke:#1f77b4;\" x=\"296.328564\" xlink:href=\"#mb9f4040bfd\" y=\"169.085705\"/>\r\n     <use style=\"fill:#1f77b4;stroke:#1f77b4;\" x=\"299.402944\" xlink:href=\"#mb9f4040bfd\" y=\"172.393262\"/>\r\n     <use style=\"fill:#1f77b4;stroke:#1f77b4;\" x=\"302.477324\" xlink:href=\"#mb9f4040bfd\" y=\"175.466908\"/>\r\n     <use style=\"fill:#1f77b4;stroke:#1f77b4;\" x=\"305.551705\" xlink:href=\"#mb9f4040bfd\" y=\"179.455241\"/>\r\n     <use style=\"fill:#1f77b4;stroke:#1f77b4;\" x=\"308.626085\" xlink:href=\"#mb9f4040bfd\" y=\"182.553303\"/>\r\n     <use style=\"fill:#1f77b4;stroke:#1f77b4;\" x=\"311.700465\" xlink:href=\"#mb9f4040bfd\" y=\"186.313377\"/>\r\n     <use style=\"fill:#1f77b4;stroke:#1f77b4;\" x=\"314.774845\" xlink:href=\"#mb9f4040bfd\" y=\"189.416903\"/>\r\n     <use style=\"fill:#1f77b4;stroke:#1f77b4;\" x=\"317.849225\" xlink:href=\"#mb9f4040bfd\" y=\"192.753459\"/>\r\n     <use style=\"fill:#1f77b4;stroke:#1f77b4;\" x=\"320.923605\" xlink:href=\"#mb9f4040bfd\" y=\"196.291362\"/>\r\n     <use style=\"fill:#1f77b4;stroke:#1f77b4;\" x=\"323.997986\" xlink:href=\"#mb9f4040bfd\" y=\"199.837311\"/>\r\n     <use style=\"fill:#1f77b4;stroke:#1f77b4;\" x=\"327.072366\" xlink:href=\"#mb9f4040bfd\" y=\"203.152224\"/>\r\n     <use style=\"fill:#1f77b4;stroke:#1f77b4;\" x=\"330.146746\" xlink:href=\"#mb9f4040bfd\" y=\"206.246359\"/>\r\n     <use style=\"fill:#1f77b4;stroke:#1f77b4;\" x=\"333.221126\" xlink:href=\"#mb9f4040bfd\" y=\"210.187125\"/>\r\n     <use style=\"fill:#1f77b4;stroke:#1f77b4;\" x=\"336.295506\" xlink:href=\"#mb9f4040bfd\" y=\"213.259961\"/>\r\n     <use style=\"fill:#1f77b4;stroke:#1f77b4;\" x=\"339.369886\" xlink:href=\"#mb9f4040bfd\" y=\"216.960663\"/>\r\n     <use style=\"fill:#1f77b4;stroke:#1f77b4;\" x=\"342.444267\" xlink:href=\"#mb9f4040bfd\" y=\"220.002183\"/>\r\n     <use style=\"fill:#1f77b4;stroke:#1f77b4;\" x=\"345.518647\" xlink:href=\"#mb9f4040bfd\" y=\"223.654879\"/>\r\n     <use style=\"fill:#1f77b4;stroke:#1f77b4;\" x=\"348.593027\" xlink:href=\"#mb9f4040bfd\" y=\"227.090347\"/>\r\n     <use style=\"fill:#1f77b4;stroke:#1f77b4;\" x=\"351.667407\" xlink:href=\"#mb9f4040bfd\" y=\"230.284924\"/>\r\n     <use style=\"fill:#1f77b4;stroke:#1f77b4;\" x=\"354.741787\" xlink:href=\"#mb9f4040bfd\" y=\"233.656313\"/>\r\n     <use style=\"fill:#1f77b4;stroke:#1f77b4;\" x=\"357.816167\" xlink:href=\"#mb9f4040bfd\" y=\"236.810231\"/>\r\n     <use style=\"fill:#1f77b4;stroke:#1f77b4;\" x=\"360.890548\" xlink:href=\"#mb9f4040bfd\" y=\"240.150878\"/>\r\n     <use style=\"fill:#1f77b4;stroke:#1f77b4;\" x=\"363.964928\" xlink:href=\"#mb9f4040bfd\" y=\"243.447581\"/>\r\n     <use style=\"fill:#1f77b4;stroke:#1f77b4;\" x=\"367.039308\" xlink:href=\"#mb9f4040bfd\" y=\"246.52068\"/>\r\n     <use style=\"fill:#1f77b4;stroke:#1f77b4;\" x=\"370.113688\" xlink:href=\"#mb9f4040bfd\" y=\"249.776593\"/>\r\n     <use style=\"fill:#1f77b4;stroke:#1f77b4;\" x=\"373.188068\" xlink:href=\"#mb9f4040bfd\" y=\"253.182457\"/>\r\n    </g>\r\n   </g>\r\n   <g id=\"matplotlib.axis_1\">\r\n    <g id=\"xtick_1\">\r\n     <g id=\"line2d_1\">\r\n      <defs>\r\n       <path d=\"M 0 0 \r\nL 0 3.5 \r\n\" id=\"m254e324ba7\" style=\"stroke:#000000;stroke-width:0.8;\"/>\r\n      </defs>\r\n      <g>\r\n       <use style=\"stroke:#000000;stroke-width:0.8;\" x=\"68.824432\" xlink:href=\"#m254e324ba7\" y=\"263.066094\"/>\r\n      </g>\r\n     </g>\r\n     <g id=\"text_1\">\r\n      <!-- 0.0 -->\r\n      <g transform=\"translate(60.872869 277.664531)scale(0.1 -0.1)\">\r\n       <defs>\r\n        <path d=\"M 31.78125 66.40625 \r\nQ 24.171875 66.40625 20.328125 58.90625 \r\nQ 16.5 51.421875 16.5 36.375 \r\nQ 16.5 21.390625 20.328125 13.890625 \r\nQ 24.171875 6.390625 31.78125 6.390625 \r\nQ 39.453125 6.390625 43.28125 13.890625 \r\nQ 47.125 21.390625 47.125 36.375 \r\nQ 47.125 51.421875 43.28125 58.90625 \r\nQ 39.453125 66.40625 31.78125 66.40625 \r\nz\r\nM 31.78125 74.21875 \r\nQ 44.046875 74.21875 50.515625 64.515625 \r\nQ 56.984375 54.828125 56.984375 36.375 \r\nQ 56.984375 17.96875 50.515625 8.265625 \r\nQ 44.046875 -1.421875 31.78125 -1.421875 \r\nQ 19.53125 -1.421875 13.0625 8.265625 \r\nQ 6.59375 17.96875 6.59375 36.375 \r\nQ 6.59375 54.828125 13.0625 64.515625 \r\nQ 19.53125 74.21875 31.78125 74.21875 \r\nz\r\n\" id=\"DejaVuSans-48\"/>\r\n        <path d=\"M 10.6875 12.40625 \r\nL 21 12.40625 \r\nL 21 0 \r\nL 10.6875 0 \r\nz\r\n\" id=\"DejaVuSans-46\"/>\r\n       </defs>\r\n       <use xlink:href=\"#DejaVuSans-48\"/>\r\n       <use x=\"63.623047\" xlink:href=\"#DejaVuSans-46\"/>\r\n       <use x=\"95.410156\" xlink:href=\"#DejaVuSans-48\"/>\r\n      </g>\r\n     </g>\r\n    </g>\r\n    <g id=\"xtick_2\">\r\n     <g id=\"line2d_2\">\r\n      <g>\r\n       <use style=\"stroke:#000000;stroke-width:0.8;\" x=\"119.551705\" xlink:href=\"#m254e324ba7\" y=\"263.066094\"/>\r\n      </g>\r\n     </g>\r\n     <g id=\"text_2\">\r\n      <!-- 0.5 -->\r\n      <g transform=\"translate(111.600142 277.664531)scale(0.1 -0.1)\">\r\n       <defs>\r\n        <path d=\"M 10.796875 72.90625 \r\nL 49.515625 72.90625 \r\nL 49.515625 64.59375 \r\nL 19.828125 64.59375 \r\nL 19.828125 46.734375 \r\nQ 21.96875 47.46875 24.109375 47.828125 \r\nQ 26.265625 48.1875 28.421875 48.1875 \r\nQ 40.625 48.1875 47.75 41.5 \r\nQ 54.890625 34.8125 54.890625 23.390625 \r\nQ 54.890625 11.625 47.5625 5.09375 \r\nQ 40.234375 -1.421875 26.90625 -1.421875 \r\nQ 22.3125 -1.421875 17.546875 -0.640625 \r\nQ 12.796875 0.140625 7.71875 1.703125 \r\nL 7.71875 11.625 \r\nQ 12.109375 9.234375 16.796875 8.0625 \r\nQ 21.484375 6.890625 26.703125 6.890625 \r\nQ 35.15625 6.890625 40.078125 11.328125 \r\nQ 45.015625 15.765625 45.015625 23.390625 \r\nQ 45.015625 31 40.078125 35.4375 \r\nQ 35.15625 39.890625 26.703125 39.890625 \r\nQ 22.75 39.890625 18.8125 39.015625 \r\nQ 14.890625 38.140625 10.796875 36.28125 \r\nz\r\n\" id=\"DejaVuSans-53\"/>\r\n       </defs>\r\n       <use xlink:href=\"#DejaVuSans-48\"/>\r\n       <use x=\"63.623047\" xlink:href=\"#DejaVuSans-46\"/>\r\n       <use x=\"95.410156\" xlink:href=\"#DejaVuSans-53\"/>\r\n      </g>\r\n     </g>\r\n    </g>\r\n    <g id=\"xtick_3\">\r\n     <g id=\"line2d_3\">\r\n      <g>\r\n       <use style=\"stroke:#000000;stroke-width:0.8;\" x=\"170.278977\" xlink:href=\"#m254e324ba7\" y=\"263.066094\"/>\r\n      </g>\r\n     </g>\r\n     <g id=\"text_3\">\r\n      <!-- 1.0 -->\r\n      <g transform=\"translate(162.327415 277.664531)scale(0.1 -0.1)\">\r\n       <defs>\r\n        <path d=\"M 12.40625 8.296875 \r\nL 28.515625 8.296875 \r\nL 28.515625 63.921875 \r\nL 10.984375 60.40625 \r\nL 10.984375 69.390625 \r\nL 28.421875 72.90625 \r\nL 38.28125 72.90625 \r\nL 38.28125 8.296875 \r\nL 54.390625 8.296875 \r\nL 54.390625 0 \r\nL 12.40625 0 \r\nz\r\n\" id=\"DejaVuSans-49\"/>\r\n       </defs>\r\n       <use xlink:href=\"#DejaVuSans-49\"/>\r\n       <use x=\"63.623047\" xlink:href=\"#DejaVuSans-46\"/>\r\n       <use x=\"95.410156\" xlink:href=\"#DejaVuSans-48\"/>\r\n      </g>\r\n     </g>\r\n    </g>\r\n    <g id=\"xtick_4\">\r\n     <g id=\"line2d_4\">\r\n      <g>\r\n       <use style=\"stroke:#000000;stroke-width:0.8;\" x=\"221.00625\" xlink:href=\"#m254e324ba7\" y=\"263.066094\"/>\r\n      </g>\r\n     </g>\r\n     <g id=\"text_4\">\r\n      <!-- 1.5 -->\r\n      <g transform=\"translate(213.054688 277.664531)scale(0.1 -0.1)\">\r\n       <use xlink:href=\"#DejaVuSans-49\"/>\r\n       <use x=\"63.623047\" xlink:href=\"#DejaVuSans-46\"/>\r\n       <use x=\"95.410156\" xlink:href=\"#DejaVuSans-53\"/>\r\n      </g>\r\n     </g>\r\n    </g>\r\n    <g id=\"xtick_5\">\r\n     <g id=\"line2d_5\">\r\n      <g>\r\n       <use style=\"stroke:#000000;stroke-width:0.8;\" x=\"271.733523\" xlink:href=\"#m254e324ba7\" y=\"263.066094\"/>\r\n      </g>\r\n     </g>\r\n     <g id=\"text_5\">\r\n      <!-- 2.0 -->\r\n      <g transform=\"translate(263.78196 277.664531)scale(0.1 -0.1)\">\r\n       <defs>\r\n        <path d=\"M 19.1875 8.296875 \r\nL 53.609375 8.296875 \r\nL 53.609375 0 \r\nL 7.328125 0 \r\nL 7.328125 8.296875 \r\nQ 12.9375 14.109375 22.625 23.890625 \r\nQ 32.328125 33.6875 34.8125 36.53125 \r\nQ 39.546875 41.84375 41.421875 45.53125 \r\nQ 43.3125 49.21875 43.3125 52.78125 \r\nQ 43.3125 58.59375 39.234375 62.25 \r\nQ 35.15625 65.921875 28.609375 65.921875 \r\nQ 23.96875 65.921875 18.8125 64.3125 \r\nQ 13.671875 62.703125 7.8125 59.421875 \r\nL 7.8125 69.390625 \r\nQ 13.765625 71.78125 18.9375 73 \r\nQ 24.125 74.21875 28.421875 74.21875 \r\nQ 39.75 74.21875 46.484375 68.546875 \r\nQ 53.21875 62.890625 53.21875 53.421875 \r\nQ 53.21875 48.921875 51.53125 44.890625 \r\nQ 49.859375 40.875 45.40625 35.40625 \r\nQ 44.1875 33.984375 37.640625 27.21875 \r\nQ 31.109375 20.453125 19.1875 8.296875 \r\nz\r\n\" id=\"DejaVuSans-50\"/>\r\n       </defs>\r\n       <use xlink:href=\"#DejaVuSans-50\"/>\r\n       <use x=\"63.623047\" xlink:href=\"#DejaVuSans-46\"/>\r\n       <use x=\"95.410156\" xlink:href=\"#DejaVuSans-48\"/>\r\n      </g>\r\n     </g>\r\n    </g>\r\n    <g id=\"xtick_6\">\r\n     <g id=\"line2d_6\">\r\n      <g>\r\n       <use style=\"stroke:#000000;stroke-width:0.8;\" x=\"322.460795\" xlink:href=\"#m254e324ba7\" y=\"263.066094\"/>\r\n      </g>\r\n     </g>\r\n     <g id=\"text_6\">\r\n      <!-- 2.5 -->\r\n      <g transform=\"translate(314.509233 277.664531)scale(0.1 -0.1)\">\r\n       <use xlink:href=\"#DejaVuSans-50\"/>\r\n       <use x=\"63.623047\" xlink:href=\"#DejaVuSans-46\"/>\r\n       <use x=\"95.410156\" xlink:href=\"#DejaVuSans-53\"/>\r\n      </g>\r\n     </g>\r\n    </g>\r\n    <g id=\"xtick_7\">\r\n     <g id=\"line2d_7\">\r\n      <g>\r\n       <use style=\"stroke:#000000;stroke-width:0.8;\" x=\"373.188068\" xlink:href=\"#m254e324ba7\" y=\"263.066094\"/>\r\n      </g>\r\n     </g>\r\n     <g id=\"text_7\">\r\n      <!-- 3.0 -->\r\n      <g transform=\"translate(365.236506 277.664531)scale(0.1 -0.1)\">\r\n       <defs>\r\n        <path d=\"M 40.578125 39.3125 \r\nQ 47.65625 37.796875 51.625 33 \r\nQ 55.609375 28.21875 55.609375 21.1875 \r\nQ 55.609375 10.40625 48.1875 4.484375 \r\nQ 40.765625 -1.421875 27.09375 -1.421875 \r\nQ 22.515625 -1.421875 17.65625 -0.515625 \r\nQ 12.796875 0.390625 7.625 2.203125 \r\nL 7.625 11.71875 \r\nQ 11.71875 9.328125 16.59375 8.109375 \r\nQ 21.484375 6.890625 26.8125 6.890625 \r\nQ 36.078125 6.890625 40.9375 10.546875 \r\nQ 45.796875 14.203125 45.796875 21.1875 \r\nQ 45.796875 27.640625 41.28125 31.265625 \r\nQ 36.765625 34.90625 28.71875 34.90625 \r\nL 20.21875 34.90625 \r\nL 20.21875 43.015625 \r\nL 29.109375 43.015625 \r\nQ 36.375 43.015625 40.234375 45.921875 \r\nQ 44.09375 48.828125 44.09375 54.296875 \r\nQ 44.09375 59.90625 40.109375 62.90625 \r\nQ 36.140625 65.921875 28.71875 65.921875 \r\nQ 24.65625 65.921875 20.015625 65.03125 \r\nQ 15.375 64.15625 9.8125 62.3125 \r\nL 9.8125 71.09375 \r\nQ 15.4375 72.65625 20.34375 73.4375 \r\nQ 25.25 74.21875 29.59375 74.21875 \r\nQ 40.828125 74.21875 47.359375 69.109375 \r\nQ 53.90625 64.015625 53.90625 55.328125 \r\nQ 53.90625 49.265625 50.4375 45.09375 \r\nQ 46.96875 40.921875 40.578125 39.3125 \r\nz\r\n\" id=\"DejaVuSans-51\"/>\r\n       </defs>\r\n       <use xlink:href=\"#DejaVuSans-51\"/>\r\n       <use x=\"63.623047\" xlink:href=\"#DejaVuSans-46\"/>\r\n       <use x=\"95.410156\" xlink:href=\"#DejaVuSans-48\"/>\r\n      </g>\r\n     </g>\r\n    </g>\r\n    <g id=\"text_8\">\r\n     <!-- Tatoray Stripper C620 Operation_Specifications_Spec 2 : Distillate Rate_m3/hr -->\r\n     <g transform=\"translate(25.771094 291.342656)scale(0.1 -0.1)\">\r\n      <defs>\r\n       <path d=\"M -0.296875 72.90625 \r\nL 61.375 72.90625 \r\nL 61.375 64.59375 \r\nL 35.5 64.59375 \r\nL 35.5 0 \r\nL 25.59375 0 \r\nL 25.59375 64.59375 \r\nL -0.296875 64.59375 \r\nz\r\n\" id=\"DejaVuSans-84\"/>\r\n       <path d=\"M 34.28125 27.484375 \r\nQ 23.390625 27.484375 19.1875 25 \r\nQ 14.984375 22.515625 14.984375 16.5 \r\nQ 14.984375 11.71875 18.140625 8.90625 \r\nQ 21.296875 6.109375 26.703125 6.109375 \r\nQ 34.1875 6.109375 38.703125 11.40625 \r\nQ 43.21875 16.703125 43.21875 25.484375 \r\nL 43.21875 27.484375 \r\nz\r\nM 52.203125 31.203125 \r\nL 52.203125 0 \r\nL 43.21875 0 \r\nL 43.21875 8.296875 \r\nQ 40.140625 3.328125 35.546875 0.953125 \r\nQ 30.953125 -1.421875 24.3125 -1.421875 \r\nQ 15.921875 -1.421875 10.953125 3.296875 \r\nQ 6 8.015625 6 15.921875 \r\nQ 6 25.140625 12.171875 29.828125 \r\nQ 18.359375 34.515625 30.609375 34.515625 \r\nL 43.21875 34.515625 \r\nL 43.21875 35.40625 \r\nQ 43.21875 41.609375 39.140625 45 \r\nQ 35.0625 48.390625 27.6875 48.390625 \r\nQ 23 48.390625 18.546875 47.265625 \r\nQ 14.109375 46.140625 10.015625 43.890625 \r\nL 10.015625 52.203125 \r\nQ 14.9375 54.109375 19.578125 55.046875 \r\nQ 24.21875 56 28.609375 56 \r\nQ 40.484375 56 46.34375 49.84375 \r\nQ 52.203125 43.703125 52.203125 31.203125 \r\nz\r\n\" id=\"DejaVuSans-97\"/>\r\n       <path d=\"M 18.3125 70.21875 \r\nL 18.3125 54.6875 \r\nL 36.8125 54.6875 \r\nL 36.8125 47.703125 \r\nL 18.3125 47.703125 \r\nL 18.3125 18.015625 \r\nQ 18.3125 11.328125 20.140625 9.421875 \r\nQ 21.96875 7.515625 27.59375 7.515625 \r\nL 36.8125 7.515625 \r\nL 36.8125 0 \r\nL 27.59375 0 \r\nQ 17.1875 0 13.234375 3.875 \r\nQ 9.28125 7.765625 9.28125 18.015625 \r\nL 9.28125 47.703125 \r\nL 2.6875 47.703125 \r\nL 2.6875 54.6875 \r\nL 9.28125 54.6875 \r\nL 9.28125 70.21875 \r\nz\r\n\" id=\"DejaVuSans-116\"/>\r\n       <path d=\"M 30.609375 48.390625 \r\nQ 23.390625 48.390625 19.1875 42.75 \r\nQ 14.984375 37.109375 14.984375 27.296875 \r\nQ 14.984375 17.484375 19.15625 11.84375 \r\nQ 23.34375 6.203125 30.609375 6.203125 \r\nQ 37.796875 6.203125 41.984375 11.859375 \r\nQ 46.1875 17.53125 46.1875 27.296875 \r\nQ 46.1875 37.015625 41.984375 42.703125 \r\nQ 37.796875 48.390625 30.609375 48.390625 \r\nz\r\nM 30.609375 56 \r\nQ 42.328125 56 49.015625 48.375 \r\nQ 55.71875 40.765625 55.71875 27.296875 \r\nQ 55.71875 13.875 49.015625 6.21875 \r\nQ 42.328125 -1.421875 30.609375 -1.421875 \r\nQ 18.84375 -1.421875 12.171875 6.21875 \r\nQ 5.515625 13.875 5.515625 27.296875 \r\nQ 5.515625 40.765625 12.171875 48.375 \r\nQ 18.84375 56 30.609375 56 \r\nz\r\n\" id=\"DejaVuSans-111\"/>\r\n       <path d=\"M 41.109375 46.296875 \r\nQ 39.59375 47.171875 37.8125 47.578125 \r\nQ 36.03125 48 33.890625 48 \r\nQ 26.265625 48 22.1875 43.046875 \r\nQ 18.109375 38.09375 18.109375 28.8125 \r\nL 18.109375 0 \r\nL 9.078125 0 \r\nL 9.078125 54.6875 \r\nL 18.109375 54.6875 \r\nL 18.109375 46.1875 \r\nQ 20.953125 51.171875 25.484375 53.578125 \r\nQ 30.03125 56 36.53125 56 \r\nQ 37.453125 56 38.578125 55.875 \r\nQ 39.703125 55.765625 41.0625 55.515625 \r\nz\r\n\" id=\"DejaVuSans-114\"/>\r\n       <path d=\"M 32.171875 -5.078125 \r\nQ 28.375 -14.84375 24.75 -17.8125 \r\nQ 21.140625 -20.796875 15.09375 -20.796875 \r\nL 7.90625 -20.796875 \r\nL 7.90625 -13.28125 \r\nL 13.1875 -13.28125 \r\nQ 16.890625 -13.28125 18.9375 -11.515625 \r\nQ 21 -9.765625 23.484375 -3.21875 \r\nL 25.09375 0.875 \r\nL 2.984375 54.6875 \r\nL 12.5 54.6875 \r\nL 29.59375 11.921875 \r\nL 46.6875 54.6875 \r\nL 56.203125 54.6875 \r\nz\r\n\" id=\"DejaVuSans-121\"/>\r\n       <path id=\"DejaVuSans-32\"/>\r\n       <path d=\"M 53.515625 70.515625 \r\nL 53.515625 60.890625 \r\nQ 47.90625 63.578125 42.921875 64.890625 \r\nQ 37.9375 66.21875 33.296875 66.21875 \r\nQ 25.25 66.21875 20.875 63.09375 \r\nQ 16.5 59.96875 16.5 54.203125 \r\nQ 16.5 49.359375 19.40625 46.890625 \r\nQ 22.3125 44.4375 30.421875 42.921875 \r\nL 36.375 41.703125 \r\nQ 47.40625 39.59375 52.65625 34.296875 \r\nQ 57.90625 29 57.90625 20.125 \r\nQ 57.90625 9.515625 50.796875 4.046875 \r\nQ 43.703125 -1.421875 29.984375 -1.421875 \r\nQ 24.8125 -1.421875 18.96875 -0.25 \r\nQ 13.140625 0.921875 6.890625 3.21875 \r\nL 6.890625 13.375 \r\nQ 12.890625 10.015625 18.65625 8.296875 \r\nQ 24.421875 6.59375 29.984375 6.59375 \r\nQ 38.421875 6.59375 43.015625 9.90625 \r\nQ 47.609375 13.234375 47.609375 19.390625 \r\nQ 47.609375 24.75 44.3125 27.78125 \r\nQ 41.015625 30.8125 33.5 32.328125 \r\nL 27.484375 33.5 \r\nQ 16.453125 35.6875 11.515625 40.375 \r\nQ 6.59375 45.0625 6.59375 53.421875 \r\nQ 6.59375 63.09375 13.40625 68.65625 \r\nQ 20.21875 74.21875 32.171875 74.21875 \r\nQ 37.3125 74.21875 42.625 73.28125 \r\nQ 47.953125 72.359375 53.515625 70.515625 \r\nz\r\n\" id=\"DejaVuSans-83\"/>\r\n       <path d=\"M 9.421875 54.6875 \r\nL 18.40625 54.6875 \r\nL 18.40625 0 \r\nL 9.421875 0 \r\nz\r\nM 9.421875 75.984375 \r\nL 18.40625 75.984375 \r\nL 18.40625 64.59375 \r\nL 9.421875 64.59375 \r\nz\r\n\" id=\"DejaVuSans-105\"/>\r\n       <path d=\"M 18.109375 8.203125 \r\nL 18.109375 -20.796875 \r\nL 9.078125 -20.796875 \r\nL 9.078125 54.6875 \r\nL 18.109375 54.6875 \r\nL 18.109375 46.390625 \r\nQ 20.953125 51.265625 25.265625 53.625 \r\nQ 29.59375 56 35.59375 56 \r\nQ 45.5625 56 51.78125 48.09375 \r\nQ 58.015625 40.1875 58.015625 27.296875 \r\nQ 58.015625 14.40625 51.78125 6.484375 \r\nQ 45.5625 -1.421875 35.59375 -1.421875 \r\nQ 29.59375 -1.421875 25.265625 0.953125 \r\nQ 20.953125 3.328125 18.109375 8.203125 \r\nz\r\nM 48.6875 27.296875 \r\nQ 48.6875 37.203125 44.609375 42.84375 \r\nQ 40.53125 48.484375 33.40625 48.484375 \r\nQ 26.265625 48.484375 22.1875 42.84375 \r\nQ 18.109375 37.203125 18.109375 27.296875 \r\nQ 18.109375 17.390625 22.1875 11.75 \r\nQ 26.265625 6.109375 33.40625 6.109375 \r\nQ 40.53125 6.109375 44.609375 11.75 \r\nQ 48.6875 17.390625 48.6875 27.296875 \r\nz\r\n\" id=\"DejaVuSans-112\"/>\r\n       <path d=\"M 56.203125 29.59375 \r\nL 56.203125 25.203125 \r\nL 14.890625 25.203125 \r\nQ 15.484375 15.921875 20.484375 11.0625 \r\nQ 25.484375 6.203125 34.421875 6.203125 \r\nQ 39.59375 6.203125 44.453125 7.46875 \r\nQ 49.3125 8.734375 54.109375 11.28125 \r\nL 54.109375 2.78125 \r\nQ 49.265625 0.734375 44.1875 -0.34375 \r\nQ 39.109375 -1.421875 33.890625 -1.421875 \r\nQ 20.796875 -1.421875 13.15625 6.1875 \r\nQ 5.515625 13.8125 5.515625 26.8125 \r\nQ 5.515625 40.234375 12.765625 48.109375 \r\nQ 20.015625 56 32.328125 56 \r\nQ 43.359375 56 49.78125 48.890625 \r\nQ 56.203125 41.796875 56.203125 29.59375 \r\nz\r\nM 47.21875 32.234375 \r\nQ 47.125 39.59375 43.09375 43.984375 \r\nQ 39.0625 48.390625 32.421875 48.390625 \r\nQ 24.90625 48.390625 20.390625 44.140625 \r\nQ 15.875 39.890625 15.1875 32.171875 \r\nz\r\n\" id=\"DejaVuSans-101\"/>\r\n       <path d=\"M 64.40625 67.28125 \r\nL 64.40625 56.890625 \r\nQ 59.421875 61.53125 53.78125 63.8125 \r\nQ 48.140625 66.109375 41.796875 66.109375 \r\nQ 29.296875 66.109375 22.65625 58.46875 \r\nQ 16.015625 50.828125 16.015625 36.375 \r\nQ 16.015625 21.96875 22.65625 14.328125 \r\nQ 29.296875 6.6875 41.796875 6.6875 \r\nQ 48.140625 6.6875 53.78125 8.984375 \r\nQ 59.421875 11.28125 64.40625 15.921875 \r\nL 64.40625 5.609375 \r\nQ 59.234375 2.09375 53.4375 0.328125 \r\nQ 47.65625 -1.421875 41.21875 -1.421875 \r\nQ 24.65625 -1.421875 15.125 8.703125 \r\nQ 5.609375 18.84375 5.609375 36.375 \r\nQ 5.609375 53.953125 15.125 64.078125 \r\nQ 24.65625 74.21875 41.21875 74.21875 \r\nQ 47.75 74.21875 53.53125 72.484375 \r\nQ 59.328125 70.75 64.40625 67.28125 \r\nz\r\n\" id=\"DejaVuSans-67\"/>\r\n       <path d=\"M 33.015625 40.375 \r\nQ 26.375 40.375 22.484375 35.828125 \r\nQ 18.609375 31.296875 18.609375 23.390625 \r\nQ 18.609375 15.53125 22.484375 10.953125 \r\nQ 26.375 6.390625 33.015625 6.390625 \r\nQ 39.65625 6.390625 43.53125 10.953125 \r\nQ 47.40625 15.53125 47.40625 23.390625 \r\nQ 47.40625 31.296875 43.53125 35.828125 \r\nQ 39.65625 40.375 33.015625 40.375 \r\nz\r\nM 52.59375 71.296875 \r\nL 52.59375 62.3125 \r\nQ 48.875 64.0625 45.09375 64.984375 \r\nQ 41.3125 65.921875 37.59375 65.921875 \r\nQ 27.828125 65.921875 22.671875 59.328125 \r\nQ 17.53125 52.734375 16.796875 39.40625 \r\nQ 19.671875 43.65625 24.015625 45.921875 \r\nQ 28.375 48.1875 33.59375 48.1875 \r\nQ 44.578125 48.1875 50.953125 41.515625 \r\nQ 57.328125 34.859375 57.328125 23.390625 \r\nQ 57.328125 12.15625 50.6875 5.359375 \r\nQ 44.046875 -1.421875 33.015625 -1.421875 \r\nQ 20.359375 -1.421875 13.671875 8.265625 \r\nQ 6.984375 17.96875 6.984375 36.375 \r\nQ 6.984375 53.65625 15.1875 63.9375 \r\nQ 23.390625 74.21875 37.203125 74.21875 \r\nQ 40.921875 74.21875 44.703125 73.484375 \r\nQ 48.484375 72.75 52.59375 71.296875 \r\nz\r\n\" id=\"DejaVuSans-54\"/>\r\n       <path d=\"M 39.40625 66.21875 \r\nQ 28.65625 66.21875 22.328125 58.203125 \r\nQ 16.015625 50.203125 16.015625 36.375 \r\nQ 16.015625 22.609375 22.328125 14.59375 \r\nQ 28.65625 6.59375 39.40625 6.59375 \r\nQ 50.140625 6.59375 56.421875 14.59375 \r\nQ 62.703125 22.609375 62.703125 36.375 \r\nQ 62.703125 50.203125 56.421875 58.203125 \r\nQ 50.140625 66.21875 39.40625 66.21875 \r\nz\r\nM 39.40625 74.21875 \r\nQ 54.734375 74.21875 63.90625 63.9375 \r\nQ 73.09375 53.65625 73.09375 36.375 \r\nQ 73.09375 19.140625 63.90625 8.859375 \r\nQ 54.734375 -1.421875 39.40625 -1.421875 \r\nQ 24.03125 -1.421875 14.8125 8.828125 \r\nQ 5.609375 19.09375 5.609375 36.375 \r\nQ 5.609375 53.65625 14.8125 63.9375 \r\nQ 24.03125 74.21875 39.40625 74.21875 \r\nz\r\n\" id=\"DejaVuSans-79\"/>\r\n       <path d=\"M 54.890625 33.015625 \r\nL 54.890625 0 \r\nL 45.90625 0 \r\nL 45.90625 32.71875 \r\nQ 45.90625 40.484375 42.875 44.328125 \r\nQ 39.84375 48.1875 33.796875 48.1875 \r\nQ 26.515625 48.1875 22.3125 43.546875 \r\nQ 18.109375 38.921875 18.109375 30.90625 \r\nL 18.109375 0 \r\nL 9.078125 0 \r\nL 9.078125 54.6875 \r\nL 18.109375 54.6875 \r\nL 18.109375 46.1875 \r\nQ 21.34375 51.125 25.703125 53.5625 \r\nQ 30.078125 56 35.796875 56 \r\nQ 45.21875 56 50.046875 50.171875 \r\nQ 54.890625 44.34375 54.890625 33.015625 \r\nz\r\n\" id=\"DejaVuSans-110\"/>\r\n       <path d=\"M 50.984375 -16.609375 \r\nL 50.984375 -23.578125 \r\nL -0.984375 -23.578125 \r\nL -0.984375 -16.609375 \r\nz\r\n\" id=\"DejaVuSans-95\"/>\r\n       <path d=\"M 48.78125 52.59375 \r\nL 48.78125 44.1875 \r\nQ 44.96875 46.296875 41.140625 47.34375 \r\nQ 37.3125 48.390625 33.40625 48.390625 \r\nQ 24.65625 48.390625 19.8125 42.84375 \r\nQ 14.984375 37.3125 14.984375 27.296875 \r\nQ 14.984375 17.28125 19.8125 11.734375 \r\nQ 24.65625 6.203125 33.40625 6.203125 \r\nQ 37.3125 6.203125 41.140625 7.25 \r\nQ 44.96875 8.296875 48.78125 10.40625 \r\nL 48.78125 2.09375 \r\nQ 45.015625 0.34375 40.984375 -0.53125 \r\nQ 36.96875 -1.421875 32.421875 -1.421875 \r\nQ 20.0625 -1.421875 12.78125 6.34375 \r\nQ 5.515625 14.109375 5.515625 27.296875 \r\nQ 5.515625 40.671875 12.859375 48.328125 \r\nQ 20.21875 56 33.015625 56 \r\nQ 37.15625 56 41.109375 55.140625 \r\nQ 45.0625 54.296875 48.78125 52.59375 \r\nz\r\n\" id=\"DejaVuSans-99\"/>\r\n       <path d=\"M 37.109375 75.984375 \r\nL 37.109375 68.5 \r\nL 28.515625 68.5 \r\nQ 23.6875 68.5 21.796875 66.546875 \r\nQ 19.921875 64.59375 19.921875 59.515625 \r\nL 19.921875 54.6875 \r\nL 34.71875 54.6875 \r\nL 34.71875 47.703125 \r\nL 19.921875 47.703125 \r\nL 19.921875 0 \r\nL 10.890625 0 \r\nL 10.890625 47.703125 \r\nL 2.296875 47.703125 \r\nL 2.296875 54.6875 \r\nL 10.890625 54.6875 \r\nL 10.890625 58.5 \r\nQ 10.890625 67.625 15.140625 71.796875 \r\nQ 19.390625 75.984375 28.609375 75.984375 \r\nz\r\n\" id=\"DejaVuSans-102\"/>\r\n       <path d=\"M 44.28125 53.078125 \r\nL 44.28125 44.578125 \r\nQ 40.484375 46.53125 36.375 47.5 \r\nQ 32.28125 48.484375 27.875 48.484375 \r\nQ 21.1875 48.484375 17.84375 46.4375 \r\nQ 14.5 44.390625 14.5 40.28125 \r\nQ 14.5 37.15625 16.890625 35.375 \r\nQ 19.28125 33.59375 26.515625 31.984375 \r\nL 29.59375 31.296875 \r\nQ 39.15625 29.25 43.1875 25.515625 \r\nQ 47.21875 21.78125 47.21875 15.09375 \r\nQ 47.21875 7.46875 41.1875 3.015625 \r\nQ 35.15625 -1.421875 24.609375 -1.421875 \r\nQ 20.21875 -1.421875 15.453125 -0.5625 \r\nQ 10.6875 0.296875 5.421875 2 \r\nL 5.421875 11.28125 \r\nQ 10.40625 8.6875 15.234375 7.390625 \r\nQ 20.0625 6.109375 24.8125 6.109375 \r\nQ 31.15625 6.109375 34.5625 8.28125 \r\nQ 37.984375 10.453125 37.984375 14.40625 \r\nQ 37.984375 18.0625 35.515625 20.015625 \r\nQ 33.0625 21.96875 24.703125 23.78125 \r\nL 21.578125 24.515625 \r\nQ 13.234375 26.265625 9.515625 29.90625 \r\nQ 5.8125 33.546875 5.8125 39.890625 \r\nQ 5.8125 47.609375 11.28125 51.796875 \r\nQ 16.75 56 26.8125 56 \r\nQ 31.78125 56 36.171875 55.265625 \r\nQ 40.578125 54.546875 44.28125 53.078125 \r\nz\r\n\" id=\"DejaVuSans-115\"/>\r\n       <path d=\"M 11.71875 12.40625 \r\nL 22.015625 12.40625 \r\nL 22.015625 0 \r\nL 11.71875 0 \r\nz\r\nM 11.71875 51.703125 \r\nL 22.015625 51.703125 \r\nL 22.015625 39.3125 \r\nL 11.71875 39.3125 \r\nz\r\n\" id=\"DejaVuSans-58\"/>\r\n       <path d=\"M 19.671875 64.796875 \r\nL 19.671875 8.109375 \r\nL 31.59375 8.109375 \r\nQ 46.6875 8.109375 53.6875 14.9375 \r\nQ 60.6875 21.78125 60.6875 36.53125 \r\nQ 60.6875 51.171875 53.6875 57.984375 \r\nQ 46.6875 64.796875 31.59375 64.796875 \r\nz\r\nM 9.8125 72.90625 \r\nL 30.078125 72.90625 \r\nQ 51.265625 72.90625 61.171875 64.09375 \r\nQ 71.09375 55.28125 71.09375 36.53125 \r\nQ 71.09375 17.671875 61.125 8.828125 \r\nQ 51.171875 0 30.078125 0 \r\nL 9.8125 0 \r\nz\r\n\" id=\"DejaVuSans-68\"/>\r\n       <path d=\"M 9.421875 75.984375 \r\nL 18.40625 75.984375 \r\nL 18.40625 0 \r\nL 9.421875 0 \r\nz\r\n\" id=\"DejaVuSans-108\"/>\r\n       <path d=\"M 44.390625 34.1875 \r\nQ 47.5625 33.109375 50.5625 29.59375 \r\nQ 53.5625 26.078125 56.59375 19.921875 \r\nL 66.609375 0 \r\nL 56 0 \r\nL 46.6875 18.703125 \r\nQ 43.0625 26.03125 39.671875 28.421875 \r\nQ 36.28125 30.8125 30.421875 30.8125 \r\nL 19.671875 30.8125 \r\nL 19.671875 0 \r\nL 9.8125 0 \r\nL 9.8125 72.90625 \r\nL 32.078125 72.90625 \r\nQ 44.578125 72.90625 50.734375 67.671875 \r\nQ 56.890625 62.453125 56.890625 51.90625 \r\nQ 56.890625 45.015625 53.6875 40.46875 \r\nQ 50.484375 35.9375 44.390625 34.1875 \r\nz\r\nM 19.671875 64.796875 \r\nL 19.671875 38.921875 \r\nL 32.078125 38.921875 \r\nQ 39.203125 38.921875 42.84375 42.21875 \r\nQ 46.484375 45.515625 46.484375 51.90625 \r\nQ 46.484375 58.296875 42.84375 61.546875 \r\nQ 39.203125 64.796875 32.078125 64.796875 \r\nz\r\n\" id=\"DejaVuSans-82\"/>\r\n       <path d=\"M 52 44.1875 \r\nQ 55.375 50.25 60.0625 53.125 \r\nQ 64.75 56 71.09375 56 \r\nQ 79.640625 56 84.28125 50.015625 \r\nQ 88.921875 44.046875 88.921875 33.015625 \r\nL 88.921875 0 \r\nL 79.890625 0 \r\nL 79.890625 32.71875 \r\nQ 79.890625 40.578125 77.09375 44.375 \r\nQ 74.3125 48.1875 68.609375 48.1875 \r\nQ 61.625 48.1875 57.5625 43.546875 \r\nQ 53.515625 38.921875 53.515625 30.90625 \r\nL 53.515625 0 \r\nL 44.484375 0 \r\nL 44.484375 32.71875 \r\nQ 44.484375 40.625 41.703125 44.40625 \r\nQ 38.921875 48.1875 33.109375 48.1875 \r\nQ 26.21875 48.1875 22.15625 43.53125 \r\nQ 18.109375 38.875 18.109375 30.90625 \r\nL 18.109375 0 \r\nL 9.078125 0 \r\nL 9.078125 54.6875 \r\nL 18.109375 54.6875 \r\nL 18.109375 46.1875 \r\nQ 21.1875 51.21875 25.484375 53.609375 \r\nQ 29.78125 56 35.6875 56 \r\nQ 41.65625 56 45.828125 52.96875 \r\nQ 50 49.953125 52 44.1875 \r\nz\r\n\" id=\"DejaVuSans-109\"/>\r\n       <path d=\"M 25.390625 72.90625 \r\nL 33.6875 72.90625 \r\nL 8.296875 -9.28125 \r\nL 0 -9.28125 \r\nz\r\n\" id=\"DejaVuSans-47\"/>\r\n       <path d=\"M 54.890625 33.015625 \r\nL 54.890625 0 \r\nL 45.90625 0 \r\nL 45.90625 32.71875 \r\nQ 45.90625 40.484375 42.875 44.328125 \r\nQ 39.84375 48.1875 33.796875 48.1875 \r\nQ 26.515625 48.1875 22.3125 43.546875 \r\nQ 18.109375 38.921875 18.109375 30.90625 \r\nL 18.109375 0 \r\nL 9.078125 0 \r\nL 9.078125 75.984375 \r\nL 18.109375 75.984375 \r\nL 18.109375 46.1875 \r\nQ 21.34375 51.125 25.703125 53.5625 \r\nQ 30.078125 56 35.796875 56 \r\nQ 45.21875 56 50.046875 50.171875 \r\nQ 54.890625 44.34375 54.890625 33.015625 \r\nz\r\n\" id=\"DejaVuSans-104\"/>\r\n      </defs>\r\n      <use xlink:href=\"#DejaVuSans-84\"/>\r\n      <use x=\"44.583984\" xlink:href=\"#DejaVuSans-97\"/>\r\n      <use x=\"105.863281\" xlink:href=\"#DejaVuSans-116\"/>\r\n      <use x=\"145.072266\" xlink:href=\"#DejaVuSans-111\"/>\r\n      <use x=\"206.253906\" xlink:href=\"#DejaVuSans-114\"/>\r\n      <use x=\"247.367188\" xlink:href=\"#DejaVuSans-97\"/>\r\n      <use x=\"308.646484\" xlink:href=\"#DejaVuSans-121\"/>\r\n      <use x=\"367.826172\" xlink:href=\"#DejaVuSans-32\"/>\r\n      <use x=\"399.613281\" xlink:href=\"#DejaVuSans-83\"/>\r\n      <use x=\"463.089844\" xlink:href=\"#DejaVuSans-116\"/>\r\n      <use x=\"502.298828\" xlink:href=\"#DejaVuSans-114\"/>\r\n      <use x=\"543.412109\" xlink:href=\"#DejaVuSans-105\"/>\r\n      <use x=\"571.195312\" xlink:href=\"#DejaVuSans-112\"/>\r\n      <use x=\"634.671875\" xlink:href=\"#DejaVuSans-112\"/>\r\n      <use x=\"698.148438\" xlink:href=\"#DejaVuSans-101\"/>\r\n      <use x=\"759.671875\" xlink:href=\"#DejaVuSans-114\"/>\r\n      <use x=\"800.785156\" xlink:href=\"#DejaVuSans-32\"/>\r\n      <use x=\"832.572266\" xlink:href=\"#DejaVuSans-67\"/>\r\n      <use x=\"902.396484\" xlink:href=\"#DejaVuSans-54\"/>\r\n      <use x=\"966.019531\" xlink:href=\"#DejaVuSans-50\"/>\r\n      <use x=\"1029.642578\" xlink:href=\"#DejaVuSans-48\"/>\r\n      <use x=\"1093.265625\" xlink:href=\"#DejaVuSans-32\"/>\r\n      <use x=\"1125.052734\" xlink:href=\"#DejaVuSans-79\"/>\r\n      <use x=\"1203.763672\" xlink:href=\"#DejaVuSans-112\"/>\r\n      <use x=\"1267.240234\" xlink:href=\"#DejaVuSans-101\"/>\r\n      <use x=\"1328.763672\" xlink:href=\"#DejaVuSans-114\"/>\r\n      <use x=\"1369.876953\" xlink:href=\"#DejaVuSans-97\"/>\r\n      <use x=\"1431.15625\" xlink:href=\"#DejaVuSans-116\"/>\r\n      <use x=\"1470.365234\" xlink:href=\"#DejaVuSans-105\"/>\r\n      <use x=\"1498.148438\" xlink:href=\"#DejaVuSans-111\"/>\r\n      <use x=\"1559.330078\" xlink:href=\"#DejaVuSans-110\"/>\r\n      <use x=\"1622.708984\" xlink:href=\"#DejaVuSans-95\"/>\r\n      <use x=\"1672.708984\" xlink:href=\"#DejaVuSans-83\"/>\r\n      <use x=\"1736.185547\" xlink:href=\"#DejaVuSans-112\"/>\r\n      <use x=\"1799.662109\" xlink:href=\"#DejaVuSans-101\"/>\r\n      <use x=\"1861.185547\" xlink:href=\"#DejaVuSans-99\"/>\r\n      <use x=\"1916.166016\" xlink:href=\"#DejaVuSans-105\"/>\r\n      <use x=\"1943.949219\" xlink:href=\"#DejaVuSans-102\"/>\r\n      <use x=\"1979.154297\" xlink:href=\"#DejaVuSans-105\"/>\r\n      <use x=\"2006.9375\" xlink:href=\"#DejaVuSans-99\"/>\r\n      <use x=\"2061.917969\" xlink:href=\"#DejaVuSans-97\"/>\r\n      <use x=\"2123.197266\" xlink:href=\"#DejaVuSans-116\"/>\r\n      <use x=\"2162.40625\" xlink:href=\"#DejaVuSans-105\"/>\r\n      <use x=\"2190.189453\" xlink:href=\"#DejaVuSans-111\"/>\r\n      <use x=\"2251.371094\" xlink:href=\"#DejaVuSans-110\"/>\r\n      <use x=\"2314.75\" xlink:href=\"#DejaVuSans-115\"/>\r\n      <use x=\"2366.849609\" xlink:href=\"#DejaVuSans-95\"/>\r\n      <use x=\"2416.849609\" xlink:href=\"#DejaVuSans-83\"/>\r\n      <use x=\"2480.326172\" xlink:href=\"#DejaVuSans-112\"/>\r\n      <use x=\"2543.802734\" xlink:href=\"#DejaVuSans-101\"/>\r\n      <use x=\"2605.326172\" xlink:href=\"#DejaVuSans-99\"/>\r\n      <use x=\"2660.306641\" xlink:href=\"#DejaVuSans-32\"/>\r\n      <use x=\"2692.09375\" xlink:href=\"#DejaVuSans-50\"/>\r\n      <use x=\"2755.716797\" xlink:href=\"#DejaVuSans-32\"/>\r\n      <use x=\"2787.503906\" xlink:href=\"#DejaVuSans-58\"/>\r\n      <use x=\"2821.195312\" xlink:href=\"#DejaVuSans-32\"/>\r\n      <use x=\"2852.982422\" xlink:href=\"#DejaVuSans-68\"/>\r\n      <use x=\"2929.984375\" xlink:href=\"#DejaVuSans-105\"/>\r\n      <use x=\"2957.767578\" xlink:href=\"#DejaVuSans-115\"/>\r\n      <use x=\"3009.867188\" xlink:href=\"#DejaVuSans-116\"/>\r\n      <use x=\"3049.076172\" xlink:href=\"#DejaVuSans-105\"/>\r\n      <use x=\"3076.859375\" xlink:href=\"#DejaVuSans-108\"/>\r\n      <use x=\"3104.642578\" xlink:href=\"#DejaVuSans-108\"/>\r\n      <use x=\"3132.425781\" xlink:href=\"#DejaVuSans-97\"/>\r\n      <use x=\"3193.705078\" xlink:href=\"#DejaVuSans-116\"/>\r\n      <use x=\"3232.914062\" xlink:href=\"#DejaVuSans-101\"/>\r\n      <use x=\"3294.4375\" xlink:href=\"#DejaVuSans-32\"/>\r\n      <use x=\"3326.224609\" xlink:href=\"#DejaVuSans-82\"/>\r\n      <use x=\"3393.457031\" xlink:href=\"#DejaVuSans-97\"/>\r\n      <use x=\"3454.736328\" xlink:href=\"#DejaVuSans-116\"/>\r\n      <use x=\"3493.945312\" xlink:href=\"#DejaVuSans-101\"/>\r\n      <use x=\"3555.46875\" xlink:href=\"#DejaVuSans-95\"/>\r\n      <use x=\"3605.46875\" xlink:href=\"#DejaVuSans-109\"/>\r\n      <use x=\"3702.880859\" xlink:href=\"#DejaVuSans-51\"/>\r\n      <use x=\"3766.503906\" xlink:href=\"#DejaVuSans-47\"/>\r\n      <use x=\"3800.195312\" xlink:href=\"#DejaVuSans-104\"/>\r\n      <use x=\"3863.574219\" xlink:href=\"#DejaVuSans-114\"/>\r\n     </g>\r\n    </g>\r\n   </g>\r\n   <g id=\"matplotlib.axis_2\">\r\n    <g id=\"ytick_1\">\r\n     <g id=\"line2d_8\">\r\n      <defs>\r\n       <path d=\"M 0 0 \r\nL -3.5 0 \r\n\" id=\"ma3c0c283db\" style=\"stroke:#000000;stroke-width:0.8;\"/>\r\n      </defs>\r\n      <g>\r\n       <use style=\"stroke:#000000;stroke-width:0.8;\" x=\"53.60625\" xlink:href=\"#ma3c0c283db\" y=\"222.522717\"/>\r\n      </g>\r\n     </g>\r\n     <g id=\"text_9\">\r\n      <!-- 940 -->\r\n      <g transform=\"translate(27.51875 226.321936)scale(0.1 -0.1)\">\r\n       <defs>\r\n        <path d=\"M 10.984375 1.515625 \r\nL 10.984375 10.5 \r\nQ 14.703125 8.734375 18.5 7.8125 \r\nQ 22.3125 6.890625 25.984375 6.890625 \r\nQ 35.75 6.890625 40.890625 13.453125 \r\nQ 46.046875 20.015625 46.78125 33.40625 \r\nQ 43.953125 29.203125 39.59375 26.953125 \r\nQ 35.25 24.703125 29.984375 24.703125 \r\nQ 19.046875 24.703125 12.671875 31.3125 \r\nQ 6.296875 37.9375 6.296875 49.421875 \r\nQ 6.296875 60.640625 12.9375 67.421875 \r\nQ 19.578125 74.21875 30.609375 74.21875 \r\nQ 43.265625 74.21875 49.921875 64.515625 \r\nQ 56.59375 54.828125 56.59375 36.375 \r\nQ 56.59375 19.140625 48.40625 8.859375 \r\nQ 40.234375 -1.421875 26.421875 -1.421875 \r\nQ 22.703125 -1.421875 18.890625 -0.6875 \r\nQ 15.09375 0.046875 10.984375 1.515625 \r\nz\r\nM 30.609375 32.421875 \r\nQ 37.25 32.421875 41.125 36.953125 \r\nQ 45.015625 41.5 45.015625 49.421875 \r\nQ 45.015625 57.28125 41.125 61.84375 \r\nQ 37.25 66.40625 30.609375 66.40625 \r\nQ 23.96875 66.40625 20.09375 61.84375 \r\nQ 16.21875 57.28125 16.21875 49.421875 \r\nQ 16.21875 41.5 20.09375 36.953125 \r\nQ 23.96875 32.421875 30.609375 32.421875 \r\nz\r\n\" id=\"DejaVuSans-57\"/>\r\n        <path d=\"M 37.796875 64.3125 \r\nL 12.890625 25.390625 \r\nL 37.796875 25.390625 \r\nz\r\nM 35.203125 72.90625 \r\nL 47.609375 72.90625 \r\nL 47.609375 25.390625 \r\nL 58.015625 25.390625 \r\nL 58.015625 17.1875 \r\nL 47.609375 17.1875 \r\nL 47.609375 0 \r\nL 37.796875 0 \r\nL 37.796875 17.1875 \r\nL 4.890625 17.1875 \r\nL 4.890625 26.703125 \r\nz\r\n\" id=\"DejaVuSans-52\"/>\r\n       </defs>\r\n       <use xlink:href=\"#DejaVuSans-57\"/>\r\n       <use x=\"63.623047\" xlink:href=\"#DejaVuSans-52\"/>\r\n       <use x=\"127.246094\" xlink:href=\"#DejaVuSans-48\"/>\r\n      </g>\r\n     </g>\r\n    </g>\r\n    <g id=\"ytick_2\">\r\n     <g id=\"line2d_9\">\r\n      <g>\r\n       <use style=\"stroke:#000000;stroke-width:0.8;\" x=\"53.60625\" xlink:href=\"#ma3c0c283db\" y=\"178.439124\"/>\r\n      </g>\r\n     </g>\r\n     <g id=\"text_10\">\r\n      <!-- 960 -->\r\n      <g transform=\"translate(27.51875 182.238343)scale(0.1 -0.1)\">\r\n       <use xlink:href=\"#DejaVuSans-57\"/>\r\n       <use x=\"63.623047\" xlink:href=\"#DejaVuSans-54\"/>\r\n       <use x=\"127.246094\" xlink:href=\"#DejaVuSans-48\"/>\r\n      </g>\r\n     </g>\r\n    </g>\r\n    <g id=\"ytick_3\">\r\n     <g id=\"line2d_10\">\r\n      <g>\r\n       <use style=\"stroke:#000000;stroke-width:0.8;\" x=\"53.60625\" xlink:href=\"#ma3c0c283db\" y=\"134.355531\"/>\r\n      </g>\r\n     </g>\r\n     <g id=\"text_11\">\r\n      <!-- 980 -->\r\n      <g transform=\"translate(27.51875 138.15475)scale(0.1 -0.1)\">\r\n       <defs>\r\n        <path d=\"M 31.78125 34.625 \r\nQ 24.75 34.625 20.71875 30.859375 \r\nQ 16.703125 27.09375 16.703125 20.515625 \r\nQ 16.703125 13.921875 20.71875 10.15625 \r\nQ 24.75 6.390625 31.78125 6.390625 \r\nQ 38.8125 6.390625 42.859375 10.171875 \r\nQ 46.921875 13.96875 46.921875 20.515625 \r\nQ 46.921875 27.09375 42.890625 30.859375 \r\nQ 38.875 34.625 31.78125 34.625 \r\nz\r\nM 21.921875 38.8125 \r\nQ 15.578125 40.375 12.03125 44.71875 \r\nQ 8.5 49.078125 8.5 55.328125 \r\nQ 8.5 64.0625 14.71875 69.140625 \r\nQ 20.953125 74.21875 31.78125 74.21875 \r\nQ 42.671875 74.21875 48.875 69.140625 \r\nQ 55.078125 64.0625 55.078125 55.328125 \r\nQ 55.078125 49.078125 51.53125 44.71875 \r\nQ 48 40.375 41.703125 38.8125 \r\nQ 48.828125 37.15625 52.796875 32.3125 \r\nQ 56.78125 27.484375 56.78125 20.515625 \r\nQ 56.78125 9.90625 50.3125 4.234375 \r\nQ 43.84375 -1.421875 31.78125 -1.421875 \r\nQ 19.734375 -1.421875 13.25 4.234375 \r\nQ 6.78125 9.90625 6.78125 20.515625 \r\nQ 6.78125 27.484375 10.78125 32.3125 \r\nQ 14.796875 37.15625 21.921875 38.8125 \r\nz\r\nM 18.3125 54.390625 \r\nQ 18.3125 48.734375 21.84375 45.5625 \r\nQ 25.390625 42.390625 31.78125 42.390625 \r\nQ 38.140625 42.390625 41.71875 45.5625 \r\nQ 45.3125 48.734375 45.3125 54.390625 \r\nQ 45.3125 60.0625 41.71875 63.234375 \r\nQ 38.140625 66.40625 31.78125 66.40625 \r\nQ 25.390625 66.40625 21.84375 63.234375 \r\nQ 18.3125 60.0625 18.3125 54.390625 \r\nz\r\n\" id=\"DejaVuSans-56\"/>\r\n       </defs>\r\n       <use xlink:href=\"#DejaVuSans-57\"/>\r\n       <use x=\"63.623047\" xlink:href=\"#DejaVuSans-56\"/>\r\n       <use x=\"127.246094\" xlink:href=\"#DejaVuSans-48\"/>\r\n      </g>\r\n     </g>\r\n    </g>\r\n    <g id=\"ytick_4\">\r\n     <g id=\"line2d_11\">\r\n      <g>\r\n       <use style=\"stroke:#000000;stroke-width:0.8;\" x=\"53.60625\" xlink:href=\"#ma3c0c283db\" y=\"90.271939\"/>\r\n      </g>\r\n     </g>\r\n     <g id=\"text_12\">\r\n      <!-- 1000 -->\r\n      <g transform=\"translate(21.15625 94.071157)scale(0.1 -0.1)\">\r\n       <use xlink:href=\"#DejaVuSans-49\"/>\r\n       <use x=\"63.623047\" xlink:href=\"#DejaVuSans-48\"/>\r\n       <use x=\"127.246094\" xlink:href=\"#DejaVuSans-48\"/>\r\n       <use x=\"190.869141\" xlink:href=\"#DejaVuSans-48\"/>\r\n      </g>\r\n     </g>\r\n    </g>\r\n    <g id=\"ytick_5\">\r\n     <g id=\"line2d_12\">\r\n      <g>\r\n       <use style=\"stroke:#000000;stroke-width:0.8;\" x=\"53.60625\" xlink:href=\"#ma3c0c283db\" y=\"46.188346\"/>\r\n      </g>\r\n     </g>\r\n     <g id=\"text_13\">\r\n      <!-- 1020 -->\r\n      <g transform=\"translate(21.15625 49.987565)scale(0.1 -0.1)\">\r\n       <use xlink:href=\"#DejaVuSans-49\"/>\r\n       <use x=\"63.623047\" xlink:href=\"#DejaVuSans-48\"/>\r\n       <use x=\"127.246094\" xlink:href=\"#DejaVuSans-50\"/>\r\n       <use x=\"190.869141\" xlink:href=\"#DejaVuSans-48\"/>\r\n      </g>\r\n     </g>\r\n    </g>\r\n    <g id=\"text_14\">\r\n     <!-- Simulation Case Conditions_Spec 2 : NA in Benzene_ppmw -->\r\n     <g transform=\"translate(14.798437 301.492187)rotate(-90)scale(0.1 -0.1)\">\r\n      <defs>\r\n       <path d=\"M 8.5 21.578125 \r\nL 8.5 54.6875 \r\nL 17.484375 54.6875 \r\nL 17.484375 21.921875 \r\nQ 17.484375 14.15625 20.5 10.265625 \r\nQ 23.53125 6.390625 29.59375 6.390625 \r\nQ 36.859375 6.390625 41.078125 11.03125 \r\nQ 45.3125 15.671875 45.3125 23.6875 \r\nL 45.3125 54.6875 \r\nL 54.296875 54.6875 \r\nL 54.296875 0 \r\nL 45.3125 0 \r\nL 45.3125 8.40625 \r\nQ 42.046875 3.421875 37.71875 1 \r\nQ 33.40625 -1.421875 27.6875 -1.421875 \r\nQ 18.265625 -1.421875 13.375 4.4375 \r\nQ 8.5 10.296875 8.5 21.578125 \r\nz\r\nM 31.109375 56 \r\nz\r\n\" id=\"DejaVuSans-117\"/>\r\n       <path d=\"M 45.40625 46.390625 \r\nL 45.40625 75.984375 \r\nL 54.390625 75.984375 \r\nL 54.390625 0 \r\nL 45.40625 0 \r\nL 45.40625 8.203125 \r\nQ 42.578125 3.328125 38.25 0.953125 \r\nQ 33.9375 -1.421875 27.875 -1.421875 \r\nQ 17.96875 -1.421875 11.734375 6.484375 \r\nQ 5.515625 14.40625 5.515625 27.296875 \r\nQ 5.515625 40.1875 11.734375 48.09375 \r\nQ 17.96875 56 27.875 56 \r\nQ 33.9375 56 38.25 53.625 \r\nQ 42.578125 51.265625 45.40625 46.390625 \r\nz\r\nM 14.796875 27.296875 \r\nQ 14.796875 17.390625 18.875 11.75 \r\nQ 22.953125 6.109375 30.078125 6.109375 \r\nQ 37.203125 6.109375 41.296875 11.75 \r\nQ 45.40625 17.390625 45.40625 27.296875 \r\nQ 45.40625 37.203125 41.296875 42.84375 \r\nQ 37.203125 48.484375 30.078125 48.484375 \r\nQ 22.953125 48.484375 18.875 42.84375 \r\nQ 14.796875 37.203125 14.796875 27.296875 \r\nz\r\n\" id=\"DejaVuSans-100\"/>\r\n       <path d=\"M 9.8125 72.90625 \r\nL 23.09375 72.90625 \r\nL 55.421875 11.921875 \r\nL 55.421875 72.90625 \r\nL 64.984375 72.90625 \r\nL 64.984375 0 \r\nL 51.703125 0 \r\nL 19.390625 60.984375 \r\nL 19.390625 0 \r\nL 9.8125 0 \r\nz\r\n\" id=\"DejaVuSans-78\"/>\r\n       <path d=\"M 34.1875 63.1875 \r\nL 20.796875 26.90625 \r\nL 47.609375 26.90625 \r\nz\r\nM 28.609375 72.90625 \r\nL 39.796875 72.90625 \r\nL 67.578125 0 \r\nL 57.328125 0 \r\nL 50.6875 18.703125 \r\nL 17.828125 18.703125 \r\nL 11.1875 0 \r\nL 0.78125 0 \r\nz\r\n\" id=\"DejaVuSans-65\"/>\r\n       <path d=\"M 19.671875 34.8125 \r\nL 19.671875 8.109375 \r\nL 35.5 8.109375 \r\nQ 43.453125 8.109375 47.28125 11.40625 \r\nQ 51.125 14.703125 51.125 21.484375 \r\nQ 51.125 28.328125 47.28125 31.5625 \r\nQ 43.453125 34.8125 35.5 34.8125 \r\nz\r\nM 19.671875 64.796875 \r\nL 19.671875 42.828125 \r\nL 34.28125 42.828125 \r\nQ 41.5 42.828125 45.03125 45.53125 \r\nQ 48.578125 48.25 48.578125 53.8125 \r\nQ 48.578125 59.328125 45.03125 62.0625 \r\nQ 41.5 64.796875 34.28125 64.796875 \r\nz\r\nM 9.8125 72.90625 \r\nL 35.015625 72.90625 \r\nQ 46.296875 72.90625 52.390625 68.21875 \r\nQ 58.5 63.53125 58.5 54.890625 \r\nQ 58.5 48.1875 55.375 44.234375 \r\nQ 52.25 40.28125 46.1875 39.3125 \r\nQ 53.46875 37.75 57.5 32.78125 \r\nQ 61.53125 27.828125 61.53125 20.40625 \r\nQ 61.53125 10.640625 54.890625 5.3125 \r\nQ 48.25 0 35.984375 0 \r\nL 9.8125 0 \r\nz\r\n\" id=\"DejaVuSans-66\"/>\r\n       <path d=\"M 5.515625 54.6875 \r\nL 48.1875 54.6875 \r\nL 48.1875 46.484375 \r\nL 14.40625 7.171875 \r\nL 48.1875 7.171875 \r\nL 48.1875 0 \r\nL 4.296875 0 \r\nL 4.296875 8.203125 \r\nL 38.09375 47.515625 \r\nL 5.515625 47.515625 \r\nz\r\n\" id=\"DejaVuSans-122\"/>\r\n       <path d=\"M 4.203125 54.6875 \r\nL 13.1875 54.6875 \r\nL 24.421875 12.015625 \r\nL 35.59375 54.6875 \r\nL 46.1875 54.6875 \r\nL 57.421875 12.015625 \r\nL 68.609375 54.6875 \r\nL 77.59375 54.6875 \r\nL 63.28125 0 \r\nL 52.6875 0 \r\nL 40.921875 44.828125 \r\nL 29.109375 0 \r\nL 18.5 0 \r\nz\r\n\" id=\"DejaVuSans-119\"/>\r\n      </defs>\r\n      <use xlink:href=\"#DejaVuSans-83\"/>\r\n      <use x=\"63.476562\" xlink:href=\"#DejaVuSans-105\"/>\r\n      <use x=\"91.259766\" xlink:href=\"#DejaVuSans-109\"/>\r\n      <use x=\"188.671875\" xlink:href=\"#DejaVuSans-117\"/>\r\n      <use x=\"252.050781\" xlink:href=\"#DejaVuSans-108\"/>\r\n      <use x=\"279.833984\" xlink:href=\"#DejaVuSans-97\"/>\r\n      <use x=\"341.113281\" xlink:href=\"#DejaVuSans-116\"/>\r\n      <use x=\"380.322266\" xlink:href=\"#DejaVuSans-105\"/>\r\n      <use x=\"408.105469\" xlink:href=\"#DejaVuSans-111\"/>\r\n      <use x=\"469.287109\" xlink:href=\"#DejaVuSans-110\"/>\r\n      <use x=\"532.666016\" xlink:href=\"#DejaVuSans-32\"/>\r\n      <use x=\"564.453125\" xlink:href=\"#DejaVuSans-67\"/>\r\n      <use x=\"634.277344\" xlink:href=\"#DejaVuSans-97\"/>\r\n      <use x=\"695.556641\" xlink:href=\"#DejaVuSans-115\"/>\r\n      <use x=\"747.65625\" xlink:href=\"#DejaVuSans-101\"/>\r\n      <use x=\"809.179688\" xlink:href=\"#DejaVuSans-32\"/>\r\n      <use x=\"840.966797\" xlink:href=\"#DejaVuSans-67\"/>\r\n      <use x=\"910.791016\" xlink:href=\"#DejaVuSans-111\"/>\r\n      <use x=\"971.972656\" xlink:href=\"#DejaVuSans-110\"/>\r\n      <use x=\"1035.351562\" xlink:href=\"#DejaVuSans-100\"/>\r\n      <use x=\"1098.828125\" xlink:href=\"#DejaVuSans-105\"/>\r\n      <use x=\"1126.611328\" xlink:href=\"#DejaVuSans-116\"/>\r\n      <use x=\"1165.820312\" xlink:href=\"#DejaVuSans-105\"/>\r\n      <use x=\"1193.603516\" xlink:href=\"#DejaVuSans-111\"/>\r\n      <use x=\"1254.785156\" xlink:href=\"#DejaVuSans-110\"/>\r\n      <use x=\"1318.164062\" xlink:href=\"#DejaVuSans-115\"/>\r\n      <use x=\"1370.263672\" xlink:href=\"#DejaVuSans-95\"/>\r\n      <use x=\"1420.263672\" xlink:href=\"#DejaVuSans-83\"/>\r\n      <use x=\"1483.740234\" xlink:href=\"#DejaVuSans-112\"/>\r\n      <use x=\"1547.216797\" xlink:href=\"#DejaVuSans-101\"/>\r\n      <use x=\"1608.740234\" xlink:href=\"#DejaVuSans-99\"/>\r\n      <use x=\"1663.720703\" xlink:href=\"#DejaVuSans-32\"/>\r\n      <use x=\"1695.507812\" xlink:href=\"#DejaVuSans-50\"/>\r\n      <use x=\"1759.130859\" xlink:href=\"#DejaVuSans-32\"/>\r\n      <use x=\"1790.917969\" xlink:href=\"#DejaVuSans-58\"/>\r\n      <use x=\"1824.609375\" xlink:href=\"#DejaVuSans-32\"/>\r\n      <use x=\"1856.396484\" xlink:href=\"#DejaVuSans-78\"/>\r\n      <use x=\"1931.201172\" xlink:href=\"#DejaVuSans-65\"/>\r\n      <use x=\"1999.609375\" xlink:href=\"#DejaVuSans-32\"/>\r\n      <use x=\"2031.396484\" xlink:href=\"#DejaVuSans-105\"/>\r\n      <use x=\"2059.179688\" xlink:href=\"#DejaVuSans-110\"/>\r\n      <use x=\"2122.558594\" xlink:href=\"#DejaVuSans-32\"/>\r\n      <use x=\"2154.345703\" xlink:href=\"#DejaVuSans-66\"/>\r\n      <use x=\"2222.949219\" xlink:href=\"#DejaVuSans-101\"/>\r\n      <use x=\"2284.472656\" xlink:href=\"#DejaVuSans-110\"/>\r\n      <use x=\"2347.851562\" xlink:href=\"#DejaVuSans-122\"/>\r\n      <use x=\"2400.341797\" xlink:href=\"#DejaVuSans-101\"/>\r\n      <use x=\"2461.865234\" xlink:href=\"#DejaVuSans-110\"/>\r\n      <use x=\"2525.244141\" xlink:href=\"#DejaVuSans-101\"/>\r\n      <use x=\"2586.767578\" xlink:href=\"#DejaVuSans-95\"/>\r\n      <use x=\"2636.767578\" xlink:href=\"#DejaVuSans-112\"/>\r\n      <use x=\"2700.244141\" xlink:href=\"#DejaVuSans-112\"/>\r\n      <use x=\"2763.720703\" xlink:href=\"#DejaVuSans-109\"/>\r\n      <use x=\"2861.132812\" xlink:href=\"#DejaVuSans-119\"/>\r\n     </g>\r\n    </g>\r\n   </g>\r\n   <g id=\"patch_3\">\r\n    <path d=\"M 53.60625 263.066094 \r\nL 53.60625 45.626094 \r\n\" style=\"fill:none;stroke:#000000;stroke-linecap:square;stroke-linejoin:miter;stroke-width:0.8;\"/>\r\n   </g>\r\n   <g id=\"patch_4\">\r\n    <path d=\"M 388.40625 263.066094 \r\nL 388.40625 45.626094 \r\n\" style=\"fill:none;stroke:#000000;stroke-linecap:square;stroke-linejoin:miter;stroke-width:0.8;\"/>\r\n   </g>\r\n   <g id=\"patch_5\">\r\n    <path d=\"M 53.60625 263.066094 \r\nL 388.40625 263.066094 \r\n\" style=\"fill:none;stroke:#000000;stroke-linecap:square;stroke-linejoin:miter;stroke-width:0.8;\"/>\r\n   </g>\r\n   <g id=\"patch_6\">\r\n    <path d=\"M 53.60625 45.626094 \r\nL 388.40625 45.626094 \r\n\" style=\"fill:none;stroke:#000000;stroke-linecap:square;stroke-linejoin:miter;stroke-width:0.8;\"/>\r\n   </g>\r\n  </g>\r\n </g>\r\n <defs>\r\n  <clipPath id=\"pa4cdeaf79b\">\r\n   <rect height=\"217.44\" width=\"334.8\" x=\"53.60625\" y=\"45.626094\"/>\r\n  </clipPath>\r\n </defs>\r\n</svg>\r\n",
      "image/png": "[encoded data removed]"
     },
     "metadata": {
      "needs_background": "light"
     }
    }
   ],
   "source": [
    "from tqdm import tqdm_notebook as tqdm\n",
    "import numpy as np\n",
    "import matplotlib.pyplot as plt\n",
    "\n",
    "history = {'Distillate Rate':[],'苯不純物':[]}\n",
    "for i in tqdm(np.linspace(0,3,100)):\n",
    "    icg_input['Tatoray Stripper C620 Operation_Specifications_Spec 2 : Distillate Rate_m3/hr'] = i\n",
    "    c620_wt,c620_op,c660_wt,c660_op,c670_wt,c670_op = f.inference(icg_input.copy(),c620_feed.copy(),t651_feed.copy())\n",
    "    苯不純物 = (c660_wt.filter(regex='Side').iloc[:,naidx].sum(axis=1)*10000).values[0]\n",
    "    history['Distillate Rate'].append(i)\n",
    "    history['苯不純物'].append(苯不純物)\n",
    "\n",
    "plt.scatter(history['Distillate Rate'],history['苯不純物'])\n",
    "plt.xlabel('Tatoray Stripper C620 Operation_Specifications_Spec 2 : Distillate Rate_m3/hr')\n",
    "plt.ylabel('Simulation Case Conditions_Spec 2 : NA in Benzene_ppmw')\n",
    "plt.show()"
   ]
  },
  {
   "cell_type": "code",
   "execution_count": null,
   "metadata": {},
   "outputs": [],
   "source": []
  }
 ],
 "metadata": {
  "kernelspec": {
   "name": "python385jvsc74a57bd02ccee5cc862501c1aad1cf19888c2a2eca4026b72d187db43d5e889cbdc6ee97",
   "display_name": "Python 3.8.5 64-bit ('base': conda)"
  },
  "language_info": {
   "codemirror_mode": {
    "name": "ipython",
    "version": 3
   },
   "file_extension": ".py",
   "mimetype": "text/x-python",
   "name": "python",
   "nbconvert_exporter": "python",
   "pygments_lexer": "ipython3",
   "version": "3.8.5"
  }
 },
 "nbformat": 4,
 "nbformat_minor": 2
}