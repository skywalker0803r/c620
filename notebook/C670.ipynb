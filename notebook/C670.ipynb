{
  "nbformat": 4,
  "nbformat_minor": 0,
  "metadata": {
    "colab": {
      "name": "C620.ipynb",
      "provenance": []
    },
    "kernelspec": {
      "name": "python3",
      "display_name": "Python 3"
    }
  },
  "cells": [
    {
      "cell_type": "code",
      "metadata": {
        "id": "UlSIoDuFhzeA",
        "outputId": "32647bde-6933-4c0b-8072-033979f33920",
        "colab": {
          "base_uri": "https://localhost:8080/"
        }
      },
      "source": [
        "import pandas as pd\n",
        "import numpy as np\n",
        "import joblib\n",
        "from google.colab import drive\n",
        "drive.mount('/content/drive')\n",
        "#!pip install autorch\n",
        "import autorch"
      ],
      "execution_count": 20,
      "outputs": [
        {
          "output_type": "stream",
          "text": [
            "Drive already mounted at /content/drive; to attempt to forcibly remount, call drive.mount(\"/content/drive\", force_remount=True).\n"
          ],
          "name": "stdout"
        }
      ]
    },
    {
      "cell_type": "code",
      "metadata": {
        "colab": {
          "base_uri": "https://localhost:8080/",
          "height": 412
        },
        "id": "33VeJjbyjuv2",
        "outputId": "88863f4d-6f76-4816-cd3d-84b21e96ee4b"
      },
      "source": [
        "c = joblib.load('/content/drive/MyDrive/台塑輕油案子/data/c620/col_names/c670_col_names.pkl')\n",
        "c670_df = pd.read_csv('/content/drive/MyDrive/台塑輕油案子/data/c620/cleaned/c670_train.csv',index_col=0).dropna(axis=0).astype('float32')\n",
        "c670_df.head(3)"
      ],
      "execution_count": 21,
      "outputs": [
        {
          "output_type": "execute_result",
          "data": {
            "text/html": [
              "<div>\n",
              "<style scoped>\n",
              "    .dataframe tbody tr th:only-of-type {\n",
              "        vertical-align: middle;\n",
              "    }\n",
              "\n",
              "    .dataframe tbody tr th {\n",
              "        vertical-align: top;\n",
              "    }\n",
              "\n",
              "    .dataframe thead th {\n",
              "        text-align: right;\n",
              "    }\n",
              "</style>\n",
              "<table border=\"1\" class=\"dataframe\">\n",
              "  <thead>\n",
              "    <tr style=\"text-align: right;\">\n",
              "      <th></th>\n",
              "      <th>Combined Feed to Toluene Column C670 @ Tray 43_Detailed Composition_Hydrogen_wt%</th>\n",
              "      <th>Combined Feed to Toluene Column C670 @ Tray 43_Detailed Composition_Methane_wt%</th>\n",
              "      <th>Combined Feed to Toluene Column C670 @ Tray 43_Detailed Composition_Ethane_wt%</th>\n",
              "      <th>Combined Feed to Toluene Column C670 @ Tray 43_Detailed Composition_Propane_wt%</th>\n",
              "      <th>Combined Feed to Toluene Column C670 @ Tray 43_Detailed Composition_n-Butane_wt%</th>\n",
              "      <th>Combined Feed to Toluene Column C670 @ Tray 43_Detailed Composition_n-Pentane_wt%</th>\n",
              "      <th>Combined Feed to Toluene Column C670 @ Tray 43_Detailed Composition_n-Hexane_wt%</th>\n",
              "      <th>Combined Feed to Toluene Column C670 @ Tray 43_Detailed Composition_Benzene_wt%</th>\n",
              "      <th>Combined Feed to Toluene Column C670 @ Tray 43_Detailed Composition_Cyclohexane_wt%</th>\n",
              "      <th>Combined Feed to Toluene Column C670 @ Tray 43_Detailed Composition_n-Heptane_wt%</th>\n",
              "      <th>Combined Feed to Toluene Column C670 @ Tray 43_Detailed Composition_Water_wt%</th>\n",
              "      <th>Combined Feed to Toluene Column C670 @ Tray 43_Detailed Composition_Methylcyclohexane_wt%</th>\n",
              "      <th>Combined Feed to Toluene Column C670 @ Tray 43_Detailed Composition_Toluene_wt%</th>\n",
              "      <th>Combined Feed to Toluene Column C670 @ Tray 43_Detailed Composition_n-Octane_wt%</th>\n",
              "      <th>Combined Feed to Toluene Column C670 @ Tray 43_Detailed Composition_n-Propylcyclopentane_wt%</th>\n",
              "      <th>Combined Feed to Toluene Column C670 @ Tray 43_Detailed Composition_Ethylcyclohexane_wt%</th>\n",
              "      <th>Combined Feed to Toluene Column C670 @ Tray 43_Detailed Composition_Ethylbenzene_wt%</th>\n",
              "      <th>Combined Feed to Toluene Column C670 @ Tray 43_Detailed Composition_p-Xylene_wt%</th>\n",
              "      <th>Combined Feed to Toluene Column C670 @ Tray 43_Detailed Composition_m-Xylene_wt%</th>\n",
              "      <th>Combined Feed to Toluene Column C670 @ Tray 43_Detailed Composition_o-Xylene_wt%</th>\n",
              "      <th>Combined Feed to Toluene Column C670 @ Tray 43_Detailed Composition_n-Nonane_wt%</th>\n",
              "      <th>Combined Feed to Toluene Column C670 @ Tray 43_Detailed Composition_i-Propylbenzene_wt%</th>\n",
              "      <th>Combined Feed to Toluene Column C670 @ Tray 43_Detailed Composition_n-Propylcyclohexane_wt%</th>\n",
              "      <th>Combined Feed to Toluene Column C670 @ Tray 43_Detailed Composition_n-Propylbenzene_wt%</th>\n",
              "      <th>Combined Feed to Toluene Column C670 @ Tray 43_Detailed Composition_1-Methyl-3-ethylbenzene_wt%</th>\n",
              "      <th>Combined Feed to Toluene Column C670 @ Tray 43_Detailed Composition_1-Methyl-4-ethylbenzene_wt%</th>\n",
              "      <th>Combined Feed to Toluene Column C670 @ Tray 43_Detailed Composition_1,3,5-Trimethylbenzene_wt%</th>\n",
              "      <th>Combined Feed to Toluene Column C670 @ Tray 43_Detailed Composition_1-Methyl-2-ethylbenzene_wt%</th>\n",
              "      <th>Combined Feed to Toluene Column C670 @ Tray 43_Detailed Composition_1,2,4-Trimethylbenzene_wt%</th>\n",
              "      <th>Combined Feed to Toluene Column C670 @ Tray 43_Detailed Composition_tert-Butylcyclohexane_wt%</th>\n",
              "      <th>Combined Feed to Toluene Column C670 @ Tray 43_Detailed Composition_1,2,3-Trimethylbenzene_wt%</th>\n",
              "      <th>Combined Feed to Toluene Column C670 @ Tray 43_Detailed Composition_Indane_wt%</th>\n",
              "      <th>Combined Feed to Toluene Column C670 @ Tray 43_Detailed Composition_1-Methyl-4-n-propylbenzene_wt%</th>\n",
              "      <th>Combined Feed to Toluene Column C670 @ Tray 43_Detailed Composition_1,2-Diethylbenzene_wt%</th>\n",
              "      <th>Combined Feed to Toluene Column C670 @ Tray 43_Detailed Composition_5-Ethyl-m-xylene_wt%</th>\n",
              "      <th>Combined Feed to Toluene Column C670 @ Tray 43_Detailed Composition_1,4-Diethylbenzene_wt%</th>\n",
              "      <th>Combined Feed to Toluene Column C670 @ Tray 43_Detailed Composition_1,2,3,5-Tetramethylbenzene_wt%</th>\n",
              "      <th>Combined Feed to Toluene Column C670 @ Tray 43_Detailed Composition_n-Pentylbenzene_wt%</th>\n",
              "      <th>Combined Feed to Toluene Column C670 @ Tray 43_Detailed Composition_n-Hexylbenzene_wt%</th>\n",
              "      <th>Combined Feed to Toluene Column C670 @ Tray 43_Detailed Composition_Nitrogen_wt%</th>\n",
              "      <th>...</th>\n",
              "      <th>Toluene Column C670 Split Factors Calculation_Split Factor for Individual Component to Toluene Column C670 Bottoms_Methane_Fraction</th>\n",
              "      <th>Toluene Column C670 Split Factors Calculation_Split Factor for Individual Component to Toluene Column C670 Bottoms_Ethane_Fraction</th>\n",
              "      <th>Toluene Column C670 Split Factors Calculation_Split Factor for Individual Component to Toluene Column C670 Bottoms_Propane_Fraction</th>\n",
              "      <th>Toluene Column C670 Split Factors Calculation_Split Factor for Individual Component to Toluene Column C670 Bottoms_n-Butane_Fraction</th>\n",
              "      <th>Toluene Column C670 Split Factors Calculation_Split Factor for Individual Component to Toluene Column C670 Bottoms_n-Pentane_Fraction</th>\n",
              "      <th>Toluene Column C670 Split Factors Calculation_Split Factor for Individual Component to Toluene Column C670 Bottoms_n-Hexane_Fraction</th>\n",
              "      <th>Toluene Column C670 Split Factors Calculation_Split Factor for Individual Component to Toluene Column C670 Bottoms_Benzene_Fraction</th>\n",
              "      <th>Toluene Column C670 Split Factors Calculation_Split Factor for Individual Component to Toluene Column C670 Bottoms_Cyclohexane_Fraction</th>\n",
              "      <th>Toluene Column C670 Split Factors Calculation_Split Factor for Individual Component to Toluene Column C670 Bottoms_n-Heptane_Fraction</th>\n",
              "      <th>Toluene Column C670 Split Factors Calculation_Split Factor for Individual Component to Toluene Column C670 Bottoms_Water_Fraction</th>\n",
              "      <th>Toluene Column C670 Split Factors Calculation_Split Factor for Individual Component to Toluene Column C670 Bottoms_Methylcyclohexane_Fraction</th>\n",
              "      <th>Toluene Column C670 Split Factors Calculation_Split Factor for Individual Component to Toluene Column C670 Bottoms_Toluene_Fraction</th>\n",
              "      <th>Toluene Column C670 Split Factors Calculation_Split Factor for Individual Component to Toluene Column C670 Bottoms_n-Octane_Fraction</th>\n",
              "      <th>Toluene Column C670 Split Factors Calculation_Split Factor for Individual Component to Toluene Column C670 Bottoms_n-Propylcyclopentane_Fraction</th>\n",
              "      <th>Toluene Column C670 Split Factors Calculation_Split Factor for Individual Component to Toluene Column C670 Bottoms_Ethylcyclohexane_Fraction</th>\n",
              "      <th>Toluene Column C670 Split Factors Calculation_Split Factor for Individual Component to Toluene Column C670 Bottoms_Ethylbenzene_Fraction</th>\n",
              "      <th>Toluene Column C670 Split Factors Calculation_Split Factor for Individual Component to Toluene Column C670 Bottoms_p-Xylene_Fraction</th>\n",
              "      <th>Toluene Column C670 Split Factors Calculation_Split Factor for Individual Component to Toluene Column C670 Bottoms_m-Xylene_Fraction</th>\n",
              "      <th>Toluene Column C670 Split Factors Calculation_Split Factor for Individual Component to Toluene Column C670 Bottoms_o-Xylene_Fraction</th>\n",
              "      <th>Toluene Column C670 Split Factors Calculation_Split Factor for Individual Component to Toluene Column C670 Bottoms_n-Nonane_Fraction</th>\n",
              "      <th>Toluene Column C670 Split Factors Calculation_Split Factor for Individual Component to Toluene Column C670 Bottoms_i-Propylbenzene_Fraction</th>\n",
              "      <th>Toluene Column C670 Split Factors Calculation_Split Factor for Individual Component to Toluene Column C670 Bottoms_n-Propylcyclohexane_Fraction</th>\n",
              "      <th>Toluene Column C670 Split Factors Calculation_Split Factor for Individual Component to Toluene Column C670 Bottoms_n-Propylbenzene_Fraction</th>\n",
              "      <th>Toluene Column C670 Split Factors Calculation_Split Factor for Individual Component to Toluene Column C670 Bottoms_1-Methyl-3-ethylbenzene_Fraction</th>\n",
              "      <th>Toluene Column C670 Split Factors Calculation_Split Factor for Individual Component to Toluene Column C670 Bottoms_1-Methyl-4-ethylbenzene_Fraction</th>\n",
              "      <th>Toluene Column C670 Split Factors Calculation_Split Factor for Individual Component to Toluene Column C670 Bottoms_1,3,5-Trimethylbenzene_Fraction</th>\n",
              "      <th>Toluene Column C670 Split Factors Calculation_Split Factor for Individual Component to Toluene Column C670 Bottoms_1-Methyl-2-ethylbenzene_Fraction</th>\n",
              "      <th>Toluene Column C670 Split Factors Calculation_Split Factor for Individual Component to Toluene Column C670 Bottoms_1,2,4-Trimethylbenzene_Fraction</th>\n",
              "      <th>Toluene Column C670 Split Factors Calculation_Split Factor for Individual Component to Toluene Column C670 Bottoms_tert-Butylcyclohexane_Fraction</th>\n",
              "      <th>Toluene Column C670 Split Factors Calculation_Split Factor for Individual Component to Toluene Column C670 Bottoms_1,2,3-Trimethylbenzene_Fraction</th>\n",
              "      <th>Toluene Column C670 Split Factors Calculation_Split Factor for Individual Component to Toluene Column C670 Bottoms_Indane_Fraction</th>\n",
              "      <th>Toluene Column C670 Split Factors Calculation_Split Factor for Individual Component to Toluene Column C670 Bottoms_1-Methyl-4-n-propylbenzene_Fraction</th>\n",
              "      <th>Toluene Column C670 Split Factors Calculation_Split Factor for Individual Component to Toluene Column C670 Bottoms_1,2-Diethylbenzene_Fraction</th>\n",
              "      <th>Toluene Column C670 Split Factors Calculation_Split Factor for Individual Component to Toluene Column C670 Bottoms_5-Ethyl-m-xylene_Fraction</th>\n",
              "      <th>Toluene Column C670 Split Factors Calculation_Split Factor for Individual Component to Toluene Column C670 Bottoms_1,4-Diethylbenzene_Fraction</th>\n",
              "      <th>Toluene Column C670 Split Factors Calculation_Split Factor for Individual Component to Toluene Column C670 Bottoms_1,2,3,5-Tetramethylbenzene_Fraction</th>\n",
              "      <th>Toluene Column C670 Split Factors Calculation_Split Factor for Individual Component to Toluene Column C670 Bottoms_n-Pentylbenzene_Fraction</th>\n",
              "      <th>Toluene Column C670 Split Factors Calculation_Split Factor for Individual Component to Toluene Column C670 Bottoms_n-Hexylbenzene_Fraction</th>\n",
              "      <th>Toluene Column C670 Split Factors Calculation_Split Factor for Individual Component to Toluene Column C670 Bottoms_Nitrogen_Fraction</th>\n",
              "      <th>Toluene Column C670 Split Factors Calculation_Split Factor for Individual Component to Toluene Column C670 Bottoms_Oxygen_Fraction</th>\n",
              "    </tr>\n",
              "  </thead>\n",
              "  <tbody>\n",
              "    <tr>\n",
              "      <th>001-001</th>\n",
              "      <td>0.0</td>\n",
              "      <td>0.0</td>\n",
              "      <td>0.0</td>\n",
              "      <td>0.0</td>\n",
              "      <td>2.167861e-28</td>\n",
              "      <td>1.344560e-20</td>\n",
              "      <td>9.570967e-13</td>\n",
              "      <td>0.005</td>\n",
              "      <td>2.168827e-07</td>\n",
              "      <td>0.000122</td>\n",
              "      <td>0.0</td>\n",
              "      <td>0.037635</td>\n",
              "      <td>83.034882</td>\n",
              "      <td>0.085205</td>\n",
              "      <td>0.073875</td>\n",
              "      <td>0.060417</td>\n",
              "      <td>9.330726</td>\n",
              "      <td>1.883749</td>\n",
              "      <td>3.926449</td>\n",
              "      <td>1.089032</td>\n",
              "      <td>0.132519</td>\n",
              "      <td>5.814274e-08</td>\n",
              "      <td>0.294220</td>\n",
              "      <td>1.012639e-08</td>\n",
              "      <td>0.003401</td>\n",
              "      <td>0.003399</td>\n",
              "      <td>0.006642</td>\n",
              "      <td>0.001699</td>\n",
              "      <td>0.001699</td>\n",
              "      <td>0.023476</td>\n",
              "      <td>1.160748e-08</td>\n",
              "      <td>5.017424e-10</td>\n",
              "      <td>0.004633</td>\n",
              "      <td>0.001236</td>\n",
              "      <td>1.800824e-09</td>\n",
              "      <td>0.0</td>\n",
              "      <td>1.930303e-11</td>\n",
              "      <td>9.245749e-13</td>\n",
              "      <td>8.980353e-16</td>\n",
              "      <td>0.0</td>\n",
              "      <td>...</td>\n",
              "      <td>0.0</td>\n",
              "      <td>0.0</td>\n",
              "      <td>0.0</td>\n",
              "      <td>0.0</td>\n",
              "      <td>0.0</td>\n",
              "      <td>0.0</td>\n",
              "      <td>2.458159e-09</td>\n",
              "      <td>8.169535e-09</td>\n",
              "      <td>9.067361e-08</td>\n",
              "      <td>0.0</td>\n",
              "      <td>0.000011</td>\n",
              "      <td>0.000195</td>\n",
              "      <td>0.001136</td>\n",
              "      <td>0.820737</td>\n",
              "      <td>0.969914</td>\n",
              "      <td>0.998676</td>\n",
              "      <td>0.999874</td>\n",
              "      <td>0.999934</td>\n",
              "      <td>0.999999</td>\n",
              "      <td>0.999964</td>\n",
              "      <td>1.0</td>\n",
              "      <td>1.0</td>\n",
              "      <td>1.0</td>\n",
              "      <td>1.0</td>\n",
              "      <td>1.0</td>\n",
              "      <td>1.0</td>\n",
              "      <td>1.0</td>\n",
              "      <td>1.0</td>\n",
              "      <td>1.0</td>\n",
              "      <td>1.0</td>\n",
              "      <td>1.0</td>\n",
              "      <td>1.0</td>\n",
              "      <td>1.0</td>\n",
              "      <td>1.0</td>\n",
              "      <td>1.0</td>\n",
              "      <td>1.0</td>\n",
              "      <td>1.0</td>\n",
              "      <td>1.0</td>\n",
              "      <td>0.0</td>\n",
              "      <td>0.0</td>\n",
              "    </tr>\n",
              "    <tr>\n",
              "      <th>001-002</th>\n",
              "      <td>0.0</td>\n",
              "      <td>0.0</td>\n",
              "      <td>0.0</td>\n",
              "      <td>0.0</td>\n",
              "      <td>1.930546e-28</td>\n",
              "      <td>1.169870e-20</td>\n",
              "      <td>8.511586e-13</td>\n",
              "      <td>0.005</td>\n",
              "      <td>1.959869e-07</td>\n",
              "      <td>0.000119</td>\n",
              "      <td>0.0</td>\n",
              "      <td>0.039443</td>\n",
              "      <td>83.033501</td>\n",
              "      <td>0.085216</td>\n",
              "      <td>0.073873</td>\n",
              "      <td>0.060416</td>\n",
              "      <td>9.330474</td>\n",
              "      <td>1.883698</td>\n",
              "      <td>3.926343</td>\n",
              "      <td>1.089003</td>\n",
              "      <td>0.132516</td>\n",
              "      <td>5.813697e-08</td>\n",
              "      <td>0.294212</td>\n",
              "      <td>1.012536e-08</td>\n",
              "      <td>0.003401</td>\n",
              "      <td>0.003399</td>\n",
              "      <td>0.006642</td>\n",
              "      <td>0.001699</td>\n",
              "      <td>0.001699</td>\n",
              "      <td>0.023475</td>\n",
              "      <td>1.160625e-08</td>\n",
              "      <td>5.016892e-10</td>\n",
              "      <td>0.004633</td>\n",
              "      <td>0.001236</td>\n",
              "      <td>1.800631e-09</td>\n",
              "      <td>0.0</td>\n",
              "      <td>1.930091e-11</td>\n",
              "      <td>9.244734e-13</td>\n",
              "      <td>8.979349e-16</td>\n",
              "      <td>0.0</td>\n",
              "      <td>...</td>\n",
              "      <td>0.0</td>\n",
              "      <td>0.0</td>\n",
              "      <td>0.0</td>\n",
              "      <td>0.0</td>\n",
              "      <td>0.0</td>\n",
              "      <td>0.0</td>\n",
              "      <td>2.458183e-09</td>\n",
              "      <td>8.169756e-09</td>\n",
              "      <td>9.068518e-08</td>\n",
              "      <td>0.0</td>\n",
              "      <td>0.000011</td>\n",
              "      <td>0.000195</td>\n",
              "      <td>0.001136</td>\n",
              "      <td>0.820739</td>\n",
              "      <td>0.969914</td>\n",
              "      <td>0.998676</td>\n",
              "      <td>0.999874</td>\n",
              "      <td>0.999934</td>\n",
              "      <td>0.999999</td>\n",
              "      <td>0.999964</td>\n",
              "      <td>1.0</td>\n",
              "      <td>1.0</td>\n",
              "      <td>1.0</td>\n",
              "      <td>1.0</td>\n",
              "      <td>1.0</td>\n",
              "      <td>1.0</td>\n",
              "      <td>1.0</td>\n",
              "      <td>1.0</td>\n",
              "      <td>1.0</td>\n",
              "      <td>1.0</td>\n",
              "      <td>1.0</td>\n",
              "      <td>1.0</td>\n",
              "      <td>1.0</td>\n",
              "      <td>1.0</td>\n",
              "      <td>1.0</td>\n",
              "      <td>1.0</td>\n",
              "      <td>1.0</td>\n",
              "      <td>1.0</td>\n",
              "      <td>0.0</td>\n",
              "      <td>0.0</td>\n",
              "    </tr>\n",
              "    <tr>\n",
              "      <th>001-003</th>\n",
              "      <td>0.0</td>\n",
              "      <td>0.0</td>\n",
              "      <td>0.0</td>\n",
              "      <td>0.0</td>\n",
              "      <td>1.724335e-28</td>\n",
              "      <td>1.015723e-20</td>\n",
              "      <td>7.531505e-13</td>\n",
              "      <td>0.005</td>\n",
              "      <td>1.760106e-07</td>\n",
              "      <td>0.000115</td>\n",
              "      <td>0.0</td>\n",
              "      <td>0.040829</td>\n",
              "      <td>83.032433</td>\n",
              "      <td>0.085222</td>\n",
              "      <td>0.073872</td>\n",
              "      <td>0.060415</td>\n",
              "      <td>9.330300</td>\n",
              "      <td>1.883663</td>\n",
              "      <td>3.926270</td>\n",
              "      <td>1.088982</td>\n",
              "      <td>0.132513</td>\n",
              "      <td>5.813797e-08</td>\n",
              "      <td>0.294206</td>\n",
              "      <td>1.012555e-08</td>\n",
              "      <td>0.003401</td>\n",
              "      <td>0.003399</td>\n",
              "      <td>0.006642</td>\n",
              "      <td>0.001699</td>\n",
              "      <td>0.001699</td>\n",
              "      <td>0.023475</td>\n",
              "      <td>1.160650e-08</td>\n",
              "      <td>5.017000e-10</td>\n",
              "      <td>0.004633</td>\n",
              "      <td>0.001236</td>\n",
              "      <td>1.800671e-09</td>\n",
              "      <td>0.0</td>\n",
              "      <td>1.930137e-11</td>\n",
              "      <td>9.244957e-13</td>\n",
              "      <td>8.979579e-16</td>\n",
              "      <td>0.0</td>\n",
              "      <td>...</td>\n",
              "      <td>0.0</td>\n",
              "      <td>0.0</td>\n",
              "      <td>0.0</td>\n",
              "      <td>0.0</td>\n",
              "      <td>0.0</td>\n",
              "      <td>0.0</td>\n",
              "      <td>2.458152e-09</td>\n",
              "      <td>8.169636e-09</td>\n",
              "      <td>9.069156e-08</td>\n",
              "      <td>0.0</td>\n",
              "      <td>0.000010</td>\n",
              "      <td>0.000195</td>\n",
              "      <td>0.001136</td>\n",
              "      <td>0.820737</td>\n",
              "      <td>0.969913</td>\n",
              "      <td>0.998676</td>\n",
              "      <td>0.999874</td>\n",
              "      <td>0.999934</td>\n",
              "      <td>0.999999</td>\n",
              "      <td>0.999964</td>\n",
              "      <td>1.0</td>\n",
              "      <td>1.0</td>\n",
              "      <td>1.0</td>\n",
              "      <td>1.0</td>\n",
              "      <td>1.0</td>\n",
              "      <td>1.0</td>\n",
              "      <td>1.0</td>\n",
              "      <td>1.0</td>\n",
              "      <td>1.0</td>\n",
              "      <td>1.0</td>\n",
              "      <td>1.0</td>\n",
              "      <td>1.0</td>\n",
              "      <td>1.0</td>\n",
              "      <td>1.0</td>\n",
              "      <td>1.0</td>\n",
              "      <td>1.0</td>\n",
              "      <td>1.0</td>\n",
              "      <td>1.0</td>\n",
              "      <td>0.0</td>\n",
              "      <td>0.0</td>\n",
              "    </tr>\n",
              "  </tbody>\n",
              "</table>\n",
              "<p>3 rows × 294 columns</p>\n",
              "</div>"
            ],
            "text/plain": [
              "         Combined Feed to Toluene Column C670 @ Tray 43_Detailed Composition_Hydrogen_wt%  ...  Toluene Column C670 Split Factors Calculation_Split Factor for Individual Component to Toluene Column C670 Bottoms_Oxygen_Fraction\n",
              "001-001                                                0.0                                 ...                                                0.0                                                                                 \n",
              "001-002                                                0.0                                 ...                                                0.0                                                                                 \n",
              "001-003                                                0.0                                 ...                                                0.0                                                                                 \n",
              "\n",
              "[3 rows x 294 columns]"
            ]
          },
          "metadata": {
            "tags": []
          },
          "execution_count": 21
        }
      ]
    },
    {
      "cell_type": "code",
      "metadata": {
        "id": "ypS5qeezROQ6",
        "outputId": "e0b57d76-0c53-43c5-bf42-2f88406235ce",
        "colab": {
          "base_uri": "https://localhost:8080/"
        }
      },
      "source": [
        "x_col = c['xTray43']+c['xTray54']\n",
        "s_col = c['distillate_sf']+c['bottoms_sf']\n",
        "op_col = c['density']+c['yRefluxRate']+c['yHeatDuty']+c['yControl']\n",
        "y_col = s_col + op_col\n",
        "len(x_col),len(y_col)"
      ],
      "execution_count": 22,
      "outputs": [
        {
          "output_type": "execute_result",
          "data": {
            "text/plain": [
              "(82, 89)"
            ]
          },
          "metadata": {
            "tags": []
          },
          "execution_count": 22
        }
      ]
    },
    {
      "cell_type": "code",
      "metadata": {
        "id": "LAFw0WqdMFQt"
      },
      "source": [
        "n_idx = [[i,i+41] for i in range(41)]\r\n",
        "for idx in n_idx:\r\n",
        "  assert np.allclose(c670_df[y_col].iloc[:,idx].sum(axis=1).mean(),1.0)"
      ],
      "execution_count": 23,
      "outputs": []
    },
    {
      "cell_type": "code",
      "metadata": {
        "colab": {
          "base_uri": "https://localhost:8080/",
          "height": 783
        },
        "id": "3z_h7BbOpxJ-",
        "outputId": "900e97e1-07b1-4d62-d760-eb9dd72ea4b1"
      },
      "source": [
        "from autorch.utils import PartBulider\n",
        "c670 = PartBulider(c670_df,x_col,y_col,normalize_idx_list=n_idx)\n",
        "c670.train()\n",
        "c670.test()"
      ],
      "execution_count": 25,
      "outputs": [
        {
          "output_type": "stream",
          "text": [
            "  0%|          | 1/300 [00:00<04:57,  1.01it/s]"
          ],
          "name": "stderr"
        },
        {
          "output_type": "stream",
          "text": [
            "epoch:0 train_loss:0.0063 valid_loss:0.0028\n"
          ],
          "name": "stdout"
        },
        {
          "output_type": "stream",
          "text": [
            " 17%|█▋        | 51/300 [00:46<03:48,  1.09it/s]"
          ],
          "name": "stderr"
        },
        {
          "output_type": "stream",
          "text": [
            "epoch:50 train_loss:0.0017 valid_loss:0.0019\n"
          ],
          "name": "stdout"
        },
        {
          "output_type": "stream",
          "text": [
            " 34%|███▎      | 101/300 [01:33<03:05,  1.07it/s]"
          ],
          "name": "stderr"
        },
        {
          "output_type": "stream",
          "text": [
            "epoch:100 train_loss:0.0016 valid_loss:0.0017\n"
          ],
          "name": "stdout"
        },
        {
          "output_type": "stream",
          "text": [
            " 50%|█████     | 151/300 [02:24<02:32,  1.03s/it]"
          ],
          "name": "stderr"
        },
        {
          "output_type": "stream",
          "text": [
            "epoch:150 train_loss:0.0015 valid_loss:0.0016\n"
          ],
          "name": "stdout"
        },
        {
          "output_type": "stream",
          "text": [
            " 67%|██████▋   | 201/300 [03:16<01:47,  1.09s/it]"
          ],
          "name": "stderr"
        },
        {
          "output_type": "stream",
          "text": [
            "epoch:200 train_loss:0.0014 valid_loss:0.0016\n"
          ],
          "name": "stdout"
        },
        {
          "output_type": "stream",
          "text": [
            " 84%|████████▎ | 251/300 [04:13<01:00,  1.23s/it]"
          ],
          "name": "stderr"
        },
        {
          "output_type": "stream",
          "text": [
            "epoch:250 train_loss:0.0013 valid_loss:0.0015\n"
          ],
          "name": "stdout"
        },
        {
          "output_type": "stream",
          "text": [
            "100%|██████████| 300/300 [05:15<00:00,  1.05s/it]\n"
          ],
          "name": "stderr"
        },
        {
          "output_type": "display_data",
          "data": {
            "image/png": "[encoded data removed]",
            "text/plain": [
              "<Figure size 432x288 with 1 Axes>"
            ]
          },
          "metadata": {
            "tags": [],
            "needs_background": "light"
          }
        },
        {
          "output_type": "execute_result",
          "data": {
            "text/html": [
              "<div>\n",
              "<style scoped>\n",
              "    .dataframe tbody tr th:only-of-type {\n",
              "        vertical-align: middle;\n",
              "    }\n",
              "\n",
              "    .dataframe tbody tr th {\n",
              "        vertical-align: top;\n",
              "    }\n",
              "\n",
              "    .dataframe thead th {\n",
              "        text-align: right;\n",
              "    }\n",
              "</style>\n",
              "<table border=\"1\" class=\"dataframe\">\n",
              "  <thead>\n",
              "    <tr style=\"text-align: right;\">\n",
              "      <th></th>\n",
              "      <th>R2</th>\n",
              "      <th>MSE</th>\n",
              "      <th>MAPE</th>\n",
              "    </tr>\n",
              "  </thead>\n",
              "  <tbody>\n",
              "    <tr>\n",
              "      <th>Toluene Column C670 Split Factors Calculation_Split Factor for Individual Component to Toluene Column C670 Distillate_Hydrogen_Fraction</th>\n",
              "      <td>0</td>\n",
              "      <td>3.08544e-09</td>\n",
              "      <td>0.00240447</td>\n",
              "    </tr>\n",
              "    <tr>\n",
              "      <th>Toluene Column C670 Split Factors Calculation_Split Factor for Individual Component to Toluene Column C670 Distillate_Methane_Fraction</th>\n",
              "      <td>0</td>\n",
              "      <td>2.66004e-09</td>\n",
              "      <td>0.00232184</td>\n",
              "    </tr>\n",
              "    <tr>\n",
              "      <th>Toluene Column C670 Split Factors Calculation_Split Factor for Individual Component to Toluene Column C670 Distillate_Ethane_Fraction</th>\n",
              "      <td>0</td>\n",
              "      <td>3.25665e-09</td>\n",
              "      <td>0.00230202</td>\n",
              "    </tr>\n",
              "    <tr>\n",
              "      <th>Toluene Column C670 Split Factors Calculation_Split Factor for Individual Component to Toluene Column C670 Distillate_Propane_Fraction</th>\n",
              "      <td>0</td>\n",
              "      <td>2.72904e-09</td>\n",
              "      <td>0.00224397</td>\n",
              "    </tr>\n",
              "    <tr>\n",
              "      <th>Toluene Column C670 Split Factors Calculation_Split Factor for Individual Component to Toluene Column C670 Distillate_n-Butane_Fraction</th>\n",
              "      <td>0</td>\n",
              "      <td>3.34439e-09</td>\n",
              "      <td>0.00235213</td>\n",
              "    </tr>\n",
              "    <tr>\n",
              "      <th>...</th>\n",
              "      <td>...</td>\n",
              "      <td>...</td>\n",
              "      <td>...</td>\n",
              "    </tr>\n",
              "    <tr>\n",
              "      <th>Toluene Column C670 Operation_Heat Duty_Condenser Heat Duty_Mkcal/hr</th>\n",
              "      <td>0.996368</td>\n",
              "      <td>0.031312</td>\n",
              "      <td>0.458305</td>\n",
              "    </tr>\n",
              "    <tr>\n",
              "      <th>Toluene Column C670 Operation_Heat Duty_Reboiler Heat Duty_Mkcal/hr</th>\n",
              "      <td>0.996574</td>\n",
              "      <td>0.0282496</td>\n",
              "      <td>0.436241</td>\n",
              "    </tr>\n",
              "    <tr>\n",
              "      <th>Toluene Column C670 Operation_Column Temp Profile_C670 Tray 24 (Control)_oC</th>\n",
              "      <td>0.995157</td>\n",
              "      <td>0.00028715</td>\n",
              "      <td>0.0071797</td>\n",
              "    </tr>\n",
              "    <tr>\n",
              "      <th>Toluene Column C670 Operation_Column Temp Profile_C670 Btm Temp (Control)_oC</th>\n",
              "      <td>0.998773</td>\n",
              "      <td>0.00337973</td>\n",
              "      <td>0.0198459</td>\n",
              "    </tr>\n",
              "    <tr>\n",
              "      <th>AVG</th>\n",
              "      <td>0.47824</td>\n",
              "      <td>0.0253387</td>\n",
              "      <td>0.183638</td>\n",
              "    </tr>\n",
              "  </tbody>\n",
              "</table>\n",
              "<p>90 rows × 3 columns</p>\n",
              "</div>"
            ],
            "text/plain": [
              "                                                          R2  ...        MAPE\n",
              "Toluene Column C670 Split Factors Calculation_S...         0  ...  0.00240447\n",
              "Toluene Column C670 Split Factors Calculation_S...         0  ...  0.00232184\n",
              "Toluene Column C670 Split Factors Calculation_S...         0  ...  0.00230202\n",
              "Toluene Column C670 Split Factors Calculation_S...         0  ...  0.00224397\n",
              "Toluene Column C670 Split Factors Calculation_S...         0  ...  0.00235213\n",
              "...                                                      ...  ...         ...\n",
              "Toluene Column C670 Operation_Heat Duty_Condens...  0.996368  ...    0.458305\n",
              "Toluene Column C670 Operation_Heat Duty_Reboile...  0.996574  ...    0.436241\n",
              "Toluene Column C670 Operation_Column Temp Profi...  0.995157  ...   0.0071797\n",
              "Toluene Column C670 Operation_Column Temp Profi...  0.998773  ...   0.0198459\n",
              "AVG                                                  0.47824  ...    0.183638\n",
              "\n",
              "[90 rows x 3 columns]"
            ]
          },
          "metadata": {
            "tags": []
          },
          "execution_count": 25
        }
      ]
    },
    {
      "cell_type": "code",
      "metadata": {
        "id": "AelwkA--qoVt"
      },
      "source": [
        "c670.shrink()"
      ],
      "execution_count": 26,
      "outputs": []
    },
    {
      "cell_type": "code",
      "metadata": {
        "colab": {
          "base_uri": "https://localhost:8080/"
        },
        "id": "UvPNVFVgtveh",
        "outputId": "74e0d8dd-0507-428b-c0bf-443b0dac1c9b"
      },
      "source": [
        "joblib.dump(c670,'/content/drive/MyDrive/台塑輕油案子/data/c620/model/c670.pkl')"
      ],
      "execution_count": 27,
      "outputs": [
        {
          "output_type": "execute_result",
          "data": {
            "text/plain": [
              "['/content/drive/MyDrive/台塑輕油案子/data/c620/model/c670.pkl']"
            ]
          },
          "metadata": {
            "tags": []
          },
          "execution_count": 27
        }
      ]
    },
    {
      "cell_type": "code",
      "metadata": {
        "id": "SHUTpMqTuBM8"
      },
      "source": [
        ""
      ],
      "execution_count": null,
      "outputs": []
    }
  ]
}