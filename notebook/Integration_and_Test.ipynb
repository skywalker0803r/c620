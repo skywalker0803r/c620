{
  "nbformat": 4,
  "nbformat_minor": 0,
  "metadata": {
    "colab": {
      "name": "Integration_and_test(Simplified version).ipynb",
      "provenance": [],
      "authorship_tag": "ABX9TyMh60ZQI6JGpt1Kwvc9Y6U3",
      "include_colab_link": true
    },
    "kernelspec": {
      "name": "python3",
      "display_name": "Python 3"
    }
  },
  "cells": [
    {
      "cell_type": "markdown",
      "metadata": {
        "id": "view-in-github",
        "colab_type": "text"
      },
      "source": [
        "<a href=\"https://colab.research.google.com/github/skywalker0803r/c620/blob/main/notebook/Integration_and_test(new_version).ipynb\" target=\"_parent\"><img src=\"https://colab.research.google.com/assets/colab-badge.svg\" alt=\"Open In Colab\"/></a>"
      ]
    },
    {
      "cell_type": "code",
      "metadata": {
        "id": "YEiUzu5_2x3I"
      },
      "source": [
        "import joblib\n",
        "import os\n",
        "import numpy as np\n",
        "import pandas as pd\n",
        "!pip install autorch > log.txt\n",
        "import matplotlib.pyplot as plt\n",
        "import autorch\n",
        "from autorch.function import sp2wt\n",
        "import random\n",
        "random.seed(11)\n",
        "np.random.seed(11)"
      ],
      "execution_count": 103,
      "outputs": []
    },
    {
      "cell_type": "code",
      "metadata": {
        "colab": {
          "base_uri": "https://localhost:8080/"
        },
        "id": "3YPjXHkR3Eso",
        "outputId": "db489702-25b3-45e7-c57f-41b4b6c3e7af"
      },
      "source": [
        "from google.colab import drive\n",
        "drive.mount('/content/drive')"
      ],
      "execution_count": 104,
      "outputs": [
        {
          "output_type": "stream",
          "text": [
            "Drive already mounted at /content/drive; to attempt to forcibly remount, call drive.mount(\"/content/drive\", force_remount=True).\n"
          ],
          "name": "stdout"
        }
      ]
    },
    {
      "cell_type": "markdown",
      "metadata": {
        "id": "nuzZj4KB6mQB"
      },
      "source": [
        "# columns name"
      ]
    },
    {
      "cell_type": "code",
      "metadata": {
        "colab": {
          "base_uri": "https://localhost:8080/"
        },
        "id": "vD1E0WtI3OKC",
        "outputId": "b155c886-b5a7-44ab-fbb2-05e0f0a2b159"
      },
      "source": [
        "icg_c = joblib.load('/content/drive/MyDrive/台塑輕油案子/data/c620/col_names/c620_c670.pkl')\n",
        "c620_c = joblib.load('/content/drive/MyDrive/台塑輕油案子/data/c620/col_names/c620_col_names.pkl')\n",
        "c660_c = joblib.load('/content/drive/MyDrive/台塑輕油案子/data/c620/col_names/c660_col_names.pkl')\n",
        "t651_c = joblib.load('/content/drive/MyDrive/台塑輕油案子/data/c620/col_names/t651_col_names.pkl')\n",
        "c670_c = joblib.load('/content/drive/MyDrive/台塑輕油案子/data/c620/col_names/c670_col_names.pkl')\n",
        "print(icg_c.keys())\n",
        "print(c620_c.keys())\n",
        "print(c660_c.keys())\n",
        "print(c670_c.keys())\n",
        "print(t651_c.keys())"
      ],
      "execution_count": 105,
      "outputs": [
        {
          "output_type": "stream",
          "text": [
            "dict_keys(['x', 'y'])\n",
            "dict_keys(['x41', 'case', 'yRefluxRate', 'yControl', 'yHeatDuty', 'vent_gas_x', 'distillate_x', 'sidedraw_x', 'bottoms_x', 'vent_gas_sf', 'distillate_sf', 'sidedraw_sf', 'bottoms_sf', 'density'])\n",
            "dict_keys(['x41', 'case', 'yRefluxRate', 'yControl', 'yHeatDuty', 'vent_gas_x', 'distillate_x', 'sidedraw_x', 'bottoms_x', 'vent_gas_sf', 'distillate_sf', 'sidedraw_sf', 'bottoms_sf', 'density'])\n",
            "dict_keys(['xTray43', 'xTray54', 'combined', 'upper_bf', 'lower_bf', 'yRefluxRate', 'yControl', 'yHeatDuty', 'distillate_x', 'bottoms_x', 'distillate_sf', 'bottoms_sf', 'density'])\n",
            "dict_keys(['x41', 'MFR'])\n"
          ],
          "name": "stdout"
        }
      ]
    },
    {
      "cell_type": "markdown",
      "metadata": {
        "id": "x8BgCUXhB_Qe"
      },
      "source": [
        "# DataFrame"
      ]
    },
    {
      "cell_type": "code",
      "metadata": {
        "id": "TjsU3C9bB_er",
        "colab": {
          "base_uri": "https://localhost:8080/"
        },
        "outputId": "b9460907-a23a-4525-dc7f-4f2e0d9df9d6"
      },
      "source": [
        "icg_df = pd.read_csv('/content/drive/MyDrive/台塑輕油案子/data/c620/cleaned/c620_c670.csv',index_col=0)\n",
        "c620_df = pd.read_csv('/content/drive/MyDrive/台塑輕油案子/data/c620/cleaned/c620_train.csv',index_col=0)\n",
        "c660_df = pd.read_csv('/content/drive/MyDrive/台塑輕油案子/data/c620/cleaned/c660_train.csv',index_col=0)\n",
        "c670_df = pd.read_csv('/content/drive/MyDrive/台塑輕油案子/data/c620/cleaned/c670_train.csv',index_col=0)\n",
        "t651_df = pd.read_csv('/content/drive/MyDrive/台塑輕油案子/data/c620/cleaned/t651_train.csv',index_col=0)\n",
        "idx = list(set(icg_df.index)&\n",
        "      set(c620_df.index)&\n",
        "      set(c660_df.index)&\n",
        "      set(c670_df.index)&\n",
        "      set(t651_df.index))\n",
        "len(idx)"
      ],
      "execution_count": 106,
      "outputs": [
        {
          "output_type": "execute_result",
          "data": {
            "text/plain": [
              "1296"
            ]
          },
          "metadata": {
            "tags": []
          },
          "execution_count": 106
        }
      ]
    },
    {
      "cell_type": "code",
      "metadata": {
        "id": "kxeTF9Z5LYQV",
        "colab": {
          "base_uri": "https://localhost:8080/",
          "height": 374
        },
        "outputId": "cb349a51-604c-4d74-c07f-3e63ac80a437"
      },
      "source": [
        "icg_df.loc[idx].head()"
      ],
      "execution_count": 107,
      "outputs": [
        {
          "output_type": "execute_result",
          "data": {
            "text/html": [
              "<div>\n",
              "<style scoped>\n",
              "    .dataframe tbody tr th:only-of-type {\n",
              "        vertical-align: middle;\n",
              "    }\n",
              "\n",
              "    .dataframe tbody tr th {\n",
              "        vertical-align: top;\n",
              "    }\n",
              "\n",
              "    .dataframe thead th {\n",
              "        text-align: right;\n",
              "    }\n",
              "</style>\n",
              "<table border=\"1\" class=\"dataframe\">\n",
              "  <thead>\n",
              "    <tr style=\"text-align: right;\">\n",
              "      <th></th>\n",
              "      <th>Simulation Case Conditions_Feed Rate_Feed from V615 Btm_m3/hr</th>\n",
              "      <th>Simulation Case Conditions_Feed Rate_Feed from V615 Btm    NA_wt%</th>\n",
              "      <th>Simulation Case Conditions_Feed Rate_Feed from V615 Btm    Benzene_wt%</th>\n",
              "      <th>Simulation Case Conditions_Feed Rate_Feed from V615 Btm    Toluene_wt%</th>\n",
              "      <th>Simulation Case Conditions_Feed Rate_Feed from C820 Dist_m3/hr</th>\n",
              "      <th>Simulation Case Conditions_Feed Rate_Feed from C820 Dist    NA_wt%</th>\n",
              "      <th>Simulation Case Conditions_Feed Rate_Feed from C820 Dist    Benzene_wt%</th>\n",
              "      <th>Simulation Case Conditions_Feed Rate_Feed from C820 Dist    Toluene_wt%</th>\n",
              "      <th>Simulation Case Conditions_Feed Rate_Feed from T651_m3/hr</th>\n",
              "      <th>Simulation Case Conditions_Feed Rate_Feed from T651    NA_wt%</th>\n",
              "      <th>Simulation Case Conditions_Feed Rate_Feed from T651    Benzene_wt%</th>\n",
              "      <th>Simulation Case Conditions_Feed Rate_Feed from T651    Toluene_wt%</th>\n",
              "      <th>Simulation Case Conditions_Spec 1 : Benzene in C620 Sidedraw_wt%</th>\n",
              "      <th>Simulation Case Conditions_Spec 2 : NA in Benzene_ppmw</th>\n",
              "      <th>Simulation Case Conditions_C620 Distillate Rate_m3/hr</th>\n",
              "    </tr>\n",
              "  </thead>\n",
              "  <tbody>\n",
              "    <tr>\n",
              "      <th>030-023</th>\n",
              "      <td>163.0</td>\n",
              "      <td>1.356000</td>\n",
              "      <td>10.321001</td>\n",
              "      <td>40.887009</td>\n",
              "      <td>15.0</td>\n",
              "      <td>2.338977</td>\n",
              "      <td>74.302254</td>\n",
              "      <td>17.467825</td>\n",
              "      <td>92.0</td>\n",
              "      <td>0.2128</td>\n",
              "      <td>35.413631</td>\n",
              "      <td>57.973057</td>\n",
              "      <td>70.0</td>\n",
              "      <td>920.0</td>\n",
              "      <td>0.01</td>\n",
              "    </tr>\n",
              "    <tr>\n",
              "      <th>065-017</th>\n",
              "      <td>188.0</td>\n",
              "      <td>1.356000</td>\n",
              "      <td>10.321001</td>\n",
              "      <td>40.887009</td>\n",
              "      <td>15.0</td>\n",
              "      <td>2.338977</td>\n",
              "      <td>74.302254</td>\n",
              "      <td>17.467825</td>\n",
              "      <td>77.0</td>\n",
              "      <td>0.0911</td>\n",
              "      <td>20.854397</td>\n",
              "      <td>74.689774</td>\n",
              "      <td>80.0</td>\n",
              "      <td>920.0</td>\n",
              "      <td>0.01</td>\n",
              "    </tr>\n",
              "    <tr>\n",
              "      <th>042-002</th>\n",
              "      <td>188.0</td>\n",
              "      <td>1.356000</td>\n",
              "      <td>10.321001</td>\n",
              "      <td>40.887009</td>\n",
              "      <td>15.0</td>\n",
              "      <td>2.338977</td>\n",
              "      <td>74.302254</td>\n",
              "      <td>17.467825</td>\n",
              "      <td>92.0</td>\n",
              "      <td>0.2128</td>\n",
              "      <td>35.413631</td>\n",
              "      <td>57.973057</td>\n",
              "      <td>90.0</td>\n",
              "      <td>920.0</td>\n",
              "      <td>0.01</td>\n",
              "    </tr>\n",
              "    <tr>\n",
              "      <th>066-017</th>\n",
              "      <td>188.0</td>\n",
              "      <td>1.356000</td>\n",
              "      <td>10.321001</td>\n",
              "      <td>40.887009</td>\n",
              "      <td>15.0</td>\n",
              "      <td>2.338977</td>\n",
              "      <td>74.302254</td>\n",
              "      <td>17.467825</td>\n",
              "      <td>92.0</td>\n",
              "      <td>0.0911</td>\n",
              "      <td>20.854397</td>\n",
              "      <td>74.689774</td>\n",
              "      <td>80.0</td>\n",
              "      <td>920.0</td>\n",
              "      <td>0.01</td>\n",
              "    </tr>\n",
              "    <tr>\n",
              "      <th>104-023</th>\n",
              "      <td>175.0</td>\n",
              "      <td>1.116023</td>\n",
              "      <td>11.152225</td>\n",
              "      <td>48.745979</td>\n",
              "      <td>15.0</td>\n",
              "      <td>2.338977</td>\n",
              "      <td>74.302254</td>\n",
              "      <td>17.467825</td>\n",
              "      <td>41.0</td>\n",
              "      <td>0.2127</td>\n",
              "      <td>35.413666</td>\n",
              "      <td>57.973106</td>\n",
              "      <td>70.0</td>\n",
              "      <td>950.0</td>\n",
              "      <td>0.25</td>\n",
              "    </tr>\n",
              "  </tbody>\n",
              "</table>\n",
              "</div>"
            ],
            "text/plain": [
              "         Simulation Case Conditions_Feed Rate_Feed from V615 Btm_m3/hr  ...  Simulation Case Conditions_C620 Distillate Rate_m3/hr\n",
              "030-023                                              163.0              ...                                               0.01    \n",
              "065-017                                              188.0              ...                                               0.01    \n",
              "042-002                                              188.0              ...                                               0.01    \n",
              "066-017                                              188.0              ...                                               0.01    \n",
              "104-023                                              175.0              ...                                               0.25    \n",
              "\n",
              "[5 rows x 15 columns]"
            ]
          },
          "metadata": {
            "tags": []
          },
          "execution_count": 107
        }
      ]
    },
    {
      "cell_type": "code",
      "metadata": {
        "id": "2KP7j-9PLUel",
        "colab": {
          "base_uri": "https://localhost:8080/",
          "height": 302
        },
        "outputId": "fb95d0d1-5fe2-43ab-a554-72068cc872d7"
      },
      "source": [
        "c620_df.loc[idx][c620_c['case']].head()"
      ],
      "execution_count": 108,
      "outputs": [
        {
          "output_type": "execute_result",
          "data": {
            "text/html": [
              "<div>\n",
              "<style scoped>\n",
              "    .dataframe tbody tr th:only-of-type {\n",
              "        vertical-align: middle;\n",
              "    }\n",
              "\n",
              "    .dataframe tbody tr th {\n",
              "        vertical-align: top;\n",
              "    }\n",
              "\n",
              "    .dataframe thead th {\n",
              "        text-align: right;\n",
              "    }\n",
              "</style>\n",
              "<table border=\"1\" class=\"dataframe\">\n",
              "  <thead>\n",
              "    <tr style=\"text-align: right;\">\n",
              "      <th></th>\n",
              "      <th>Tatoray Stripper C620 Operation_Specifications_Spec 1 : Receiver Temp_oC</th>\n",
              "      <th>Tatoray Stripper C620 Operation_Specifications_Spec 2 : Distillate Rate_m3/hr</th>\n",
              "      <th>Tatoray Stripper C620 Operation_Specifications_Spec 3 : Benzene in Sidedraw_wt%</th>\n",
              "    </tr>\n",
              "  </thead>\n",
              "  <tbody>\n",
              "    <tr>\n",
              "      <th>030-023</th>\n",
              "      <td>36.0</td>\n",
              "      <td>0.01</td>\n",
              "      <td>69.999992</td>\n",
              "    </tr>\n",
              "    <tr>\n",
              "      <th>065-017</th>\n",
              "      <td>36.0</td>\n",
              "      <td>0.01</td>\n",
              "      <td>80.000015</td>\n",
              "    </tr>\n",
              "    <tr>\n",
              "      <th>042-002</th>\n",
              "      <td>36.0</td>\n",
              "      <td>0.01</td>\n",
              "      <td>90.000015</td>\n",
              "    </tr>\n",
              "    <tr>\n",
              "      <th>066-017</th>\n",
              "      <td>36.0</td>\n",
              "      <td>0.01</td>\n",
              "      <td>80.000015</td>\n",
              "    </tr>\n",
              "    <tr>\n",
              "      <th>104-023</th>\n",
              "      <td>36.0</td>\n",
              "      <td>0.25</td>\n",
              "      <td>70.000000</td>\n",
              "    </tr>\n",
              "  </tbody>\n",
              "</table>\n",
              "</div>"
            ],
            "text/plain": [
              "         Tatoray Stripper C620 Operation_Specifications_Spec 1 : Receiver Temp_oC  ...  Tatoray Stripper C620 Operation_Specifications_Spec 3 : Benzene in Sidedraw_wt%\n",
              "030-023                                               36.0                         ...                                          69.999992                              \n",
              "065-017                                               36.0                         ...                                          80.000015                              \n",
              "042-002                                               36.0                         ...                                          90.000015                              \n",
              "066-017                                               36.0                         ...                                          80.000015                              \n",
              "104-023                                               36.0                         ...                                          70.000000                              \n",
              "\n",
              "[5 rows x 3 columns]"
            ]
          },
          "metadata": {
            "tags": []
          },
          "execution_count": 108
        }
      ]
    },
    {
      "cell_type": "code",
      "metadata": {
        "id": "xuehZMotRCYO",
        "colab": {
          "base_uri": "https://localhost:8080/",
          "height": 198
        },
        "outputId": "029dc71d-3c12-4169-abfd-ab3b466a7033"
      },
      "source": [
        "c660_df.loc[idx][c660_c['case']].head()"
      ],
      "execution_count": 109,
      "outputs": [
        {
          "output_type": "execute_result",
          "data": {
            "text/html": [
              "<div>\n",
              "<style scoped>\n",
              "    .dataframe tbody tr th:only-of-type {\n",
              "        vertical-align: middle;\n",
              "    }\n",
              "\n",
              "    .dataframe tbody tr th {\n",
              "        vertical-align: top;\n",
              "    }\n",
              "\n",
              "    .dataframe thead th {\n",
              "        text-align: right;\n",
              "    }\n",
              "</style>\n",
              "<table border=\"1\" class=\"dataframe\">\n",
              "  <thead>\n",
              "    <tr style=\"text-align: right;\">\n",
              "      <th></th>\n",
              "      <th>Benzene Column C660 Operation_Specifications_Spec 2 : NA in Benzene_ppmw</th>\n",
              "      <th>Benzene Column C660 Operation_Specifications_Spec 3 : Toluene in Benzene_ppmw</th>\n",
              "    </tr>\n",
              "  </thead>\n",
              "  <tbody>\n",
              "    <tr>\n",
              "      <th>030-023</th>\n",
              "      <td>919.997391</td>\n",
              "      <td>9.999999</td>\n",
              "    </tr>\n",
              "    <tr>\n",
              "      <th>065-017</th>\n",
              "      <td>920.005195</td>\n",
              "      <td>9.999984</td>\n",
              "    </tr>\n",
              "    <tr>\n",
              "      <th>042-002</th>\n",
              "      <td>919.989286</td>\n",
              "      <td>9.999900</td>\n",
              "    </tr>\n",
              "    <tr>\n",
              "      <th>066-017</th>\n",
              "      <td>920.001935</td>\n",
              "      <td>4.999997</td>\n",
              "    </tr>\n",
              "    <tr>\n",
              "      <th>104-023</th>\n",
              "      <td>949.888148</td>\n",
              "      <td>10.000002</td>\n",
              "    </tr>\n",
              "  </tbody>\n",
              "</table>\n",
              "</div>"
            ],
            "text/plain": [
              "         Benzene Column C660 Operation_Specifications_Spec 2 : NA in Benzene_ppmw  Benzene Column C660 Operation_Specifications_Spec 3 : Toluene in Benzene_ppmw\n",
              "030-023                                         919.997391                                                                  9.999999                            \n",
              "065-017                                         920.005195                                                                  9.999984                            \n",
              "042-002                                         919.989286                                                                  9.999900                            \n",
              "066-017                                         920.001935                                                                  4.999997                            \n",
              "104-023                                         949.888148                                                                 10.000002                            "
            ]
          },
          "metadata": {
            "tags": []
          },
          "execution_count": 109
        }
      ]
    },
    {
      "cell_type": "markdown",
      "metadata": {
        "id": "eT4-lodHox-u"
      },
      "source": [
        "# Input data"
      ]
    },
    {
      "cell_type": "code",
      "metadata": {
        "id": "3EOUCMOXB2Y1"
      },
      "source": [
        "icg_input = icg_df.loc[idx,icg_c['x']]\n",
        "c620_Receiver_Temp = c620_df.loc[idx].filter(regex='Receiver Temp')\n",
        "c620_feed = c620_df.loc[idx,c620_c['x41']]\n",
        "t651_feed = t651_df.loc[idx,t651_c['x41']]"
      ],
      "execution_count": 110,
      "outputs": []
    },
    {
      "cell_type": "markdown",
      "metadata": {
        "id": "mp1GqvJ0o0k1"
      },
      "source": [
        "# Output data"
      ]
    },
    {
      "cell_type": "code",
      "metadata": {
        "id": "uHCoq80jo0ss"
      },
      "source": [
        "c620_op = c620_df.loc[idx,c620_c['density']+c620_c['yRefluxRate']+c620_c['yHeatDuty']+c620_c['yControl']]\n",
        "c620_wt = c620_df.loc[idx,c620_c['vent_gas_x']+c620_c['distillate_x']+c620_c['sidedraw_x']+c620_c['bottoms_x']]\n",
        "c660_op = c660_df.loc[idx,c660_c['density']+c660_c['yRefluxRate']+c660_c['yHeatDuty']+c660_c['yControl']]\n",
        "c660_wt = c660_df.loc[idx,c660_c['vent_gas_x']+c660_c['distillate_x']+c660_c['sidedraw_x']+c660_c['bottoms_x']]\n",
        "c670_op = c670_df.loc[idx,c670_c['density']+c670_c['yRefluxRate']+c670_c['yHeatDuty']+c670_c['yControl']]\n",
        "c670_wt = c670_df.loc[idx,c670_c['distillate_x']+c670_c['bottoms_x']]"
      ],
      "execution_count": 111,
      "outputs": []
    },
    {
      "cell_type": "markdown",
      "metadata": {
        "id": "h8VBB0aG-e0c"
      },
      "source": [
        "# config"
      ]
    },
    {
      "cell_type": "code",
      "metadata": {
        "id": "0Ktejan2r_U7"
      },
      "source": [
        "config = {'icg_model_path':'/content/drive/MyDrive/台塑輕油案子/data/c620/model/c620_icg.pkl',\n",
        "      'c620_model_path':'/content/drive/MyDrive/台塑輕油案子/data/c620/model/c620.pkl',\n",
        "      'c660_model_path':'/content/drive/MyDrive/台塑輕油案子/data/c620/model/c660.pkl',\n",
        "      'c670_model_path':'/content/drive/MyDrive/台塑輕油案子/data/c620/model/c670.pkl',\n",
        "      'icg_col_path':'/content/drive/MyDrive/台塑輕油案子/data/c620/col_names/c620_c670.pkl',\n",
        "      'c620_col_path':'/content/drive/MyDrive/台塑輕油案子/data/c620/col_names/c620_col_names.pkl',\n",
        "      'c660_col_path':'/content/drive/MyDrive/台塑輕油案子/data/c620/col_names/c660_col_names.pkl',\n",
        "      'c670_col_path':'/content/drive/MyDrive/台塑輕油案子/data/c620/col_names/c670_col_names.pkl',\n",
        "      'index_9999_path':'/content/drive/MyDrive/台塑輕油案子/data/c620/cleaned/index_9999.pkl',\n",
        "      'index_0001_path':'/content/drive/MyDrive/台塑輕油案子/data/c620/cleaned/index_0001.pkl',\n",
        "          }"
      ],
      "execution_count": 112,
      "outputs": []
    },
    {
      "cell_type": "markdown",
      "metadata": {
        "id": "MoSO4Cbx6oxP"
      },
      "source": [
        "# define F"
      ]
    },
    {
      "cell_type": "code",
      "metadata": {
        "id": "oiu5SRYL5NOr"
      },
      "source": [
        "class F(object):\n",
        "  def __init__(self,config):\n",
        "    self.icg_model = joblib.load(config['icg_model_path'])\n",
        "    self.c620_model = joblib.load(config['c620_model_path'])\n",
        "    self.c660_model = joblib.load(config['c660_model_path'])\n",
        "    self.c670_model = joblib.load(config['c670_model_path'])\n",
        "    self.icg_col = joblib.load(config['icg_col_path'])\n",
        "    self.c620_col = joblib.load(config['c620_col_path'])\n",
        "    self.c660_col = joblib.load(config['c660_col_path'])\n",
        "    self.c670_col = joblib.load(config['c670_col_path'])\n",
        "    self.index_9999 = joblib.load(config['index_9999_path'])\n",
        "    self.index_0001 = joblib.load(config['index_0001_path'])\n",
        "    self.V615_density = 0.8626\n",
        "    self.C820_density = 0.8731\n",
        "    self.T651_density = 0.8749\n",
        "    self.Recommended_mode = False\n",
        "\n",
        "\n",
        "  def ICG_loop(self,Input):\n",
        "    if self.Recommended_mode == True:\n",
        "      while True:\n",
        "        output = self.icg_model.predict(Input)\n",
        "        if output['Simulation Case Conditions_C620 Distillate Rate_m3/hr'].values[0] > 0:\n",
        "          return output,Input\n",
        "        else:\n",
        "          dist_rate = output['Simulation Case Conditions_C620 Distillate Rate_m3/hr'].values[0]\n",
        "          na_in_benzene = Input['Simulation Case Conditions_Spec 2 : NA in Benzene_ppmw'].values[0]\n",
        "          info = 'current Distillate Rate_m3/hr:{} NA in Benzene_ppmw:{} so NA in Benzene_ppmw -= 30'.format(dist_rate,na_in_benzene)\n",
        "          print(info)\n",
        "          Input['Simulation Case Conditions_Spec 2 : NA in Benzene_ppmw'] -= 30\n",
        "    \n",
        "    if self.Recommended_mode == False:\n",
        "      output = self.icg_model.predict(Input)\n",
        "      return output,Input\n",
        "  \n",
        "  def __call__(self,icg_input,c620_Receiver_Temp,c620_feed,t651_feed):\n",
        "    # icg\n",
        "    idx = icg_input.index\n",
        "    icg_output,icg_input = self.ICG_loop(icg_input)\n",
        "    \n",
        "    # c620 input(case&feed)\n",
        "    c620_case = pd.DataFrame(index=idx,columns=self.c620_col['case'])\n",
        "    c620_case['Tatoray Stripper C620 Operation_Specifications_Spec 1 : Receiver Temp_oC'] = c620_Receiver_Temp.values\n",
        "    c620_case['Tatoray Stripper C620 Operation_Specifications_Spec 2 : Distillate Rate_m3/hr'] = icg_output.values\n",
        "    c620_case['Tatoray Stripper C620 Operation_Specifications_Spec 3 : Benzene in Sidedraw_wt%'] = icg_input['Simulation Case Conditions_Spec 1 : Benzene in C620 Sidedraw_wt%'].values\n",
        "    c620_input = c620_case.join(c620_feed)\n",
        "    \n",
        "    # c620 output(op&wt)\n",
        "    c620_input = c620_case.join(c620_feed)\n",
        "    c620_output = self.c620_model.predict(c620_input)\n",
        "    c620_sp,c620_op = c620_output.iloc[:,:41*4],c620_output.iloc[:,41*4:]\n",
        "    s1,s2,s3,s4 = c620_sp.iloc[:,:41].values,c620_sp.iloc[:,41:41*2].values,c620_sp.iloc[:,41*2:41*3].values,c620_sp.iloc[:,41*3:41*4].values\n",
        "    w1,w2,w3,w4 = sp2wt(c620_feed,s1),sp2wt(c620_feed,s2),sp2wt(c620_feed,s3),sp2wt(c620_feed,s4)\n",
        "    wt = np.hstack((w1,w2,w3,w4))\n",
        "    c620_wt = pd.DataFrame(wt,index=idx,columns=self.c620_col['vent_gas_x']+self.c620_col['distillate_x']+self.c620_col['sidedraw_x']+self.c620_col['bottoms_x'])\n",
        "    \n",
        "    # c620 input mass flow rate m3 to ton\n",
        "    V615_Btm_m3 = icg_input['Simulation Case Conditions_Feed Rate_Feed from V615 Btm_m3/hr'].values.reshape(-1,1)\n",
        "    C820_Dist_m3 = icg_input['Simulation Case Conditions_Feed Rate_Feed from C820 Dist_m3/hr'].values.reshape(-1,1)\n",
        "    V615_Btm_ton = V615_Btm_m3*self.V615_density\n",
        "    C820_Dist_ton = C820_Dist_m3*self.C820_density\n",
        "    c620_feed_rate_ton = V615_Btm_ton+C820_Dist_ton\n",
        "    \n",
        "    # c620 output mass flow ton\n",
        "    c620_mf_side = np.sum(c620_feed_rate_ton*c620_feed.values*s3*0.01,axis=1,keepdims=True)\n",
        "    c620_mf_bot = np.sum(c620_feed_rate_ton*c620_feed.values*s4*0.01,axis=1,keepdims=True)\n",
        "\n",
        "    # t651 feed mass flow rate(ton)\n",
        "    t651_mf = (icg_input['Simulation Case Conditions_Feed Rate_Feed from T651_m3/hr']*self.T651_density).values.reshape(-1,1)\n",
        "\n",
        "    # c660 input mass flow(ton)\n",
        "    c660_mf = t651_mf + c620_mf_side\n",
        "    t651_mf_p ,c620_mf_side_p = t651_mf/c660_mf ,c620_mf_side/c660_mf\n",
        "\n",
        "    # c660 input(feed & case)\n",
        "    c660_feed = c620_wt[self.c620_col['sidedraw_x']].values*c620_mf_side_p + t651_feed.values*t651_mf_p\n",
        "    c660_feed = pd.DataFrame(c660_feed,index=idx,columns=self.c660_col['x41'])\n",
        "    c660_case = pd.DataFrame(index=idx,columns=self.c660_col['case'])\n",
        "    c660_case['Benzene Column C660 Operation_Specifications_Spec 2 : NA in Benzene_ppmw'] = icg_input['Simulation Case Conditions_Spec 2 : NA in Benzene_ppmw'].values\n",
        "    c660_case['Benzene Column C660 Operation_Specifications_Spec 3 : Toluene in Benzene_ppmw'] = 10\n",
        "    c660_input = c660_case.join(c660_feed)\n",
        "    \n",
        "    # c660 output(op&wt)\n",
        "    c660_output = self.c660_model.predict(c660_input)\n",
        "    c660_sp,c660_op = c660_output.iloc[:,:41*4],c660_output.iloc[:,41*4:]\n",
        "    s1,s2,s3,s4 = c660_sp.iloc[:,:41].values,c660_sp.iloc[:,41:41*2].values,c660_sp.iloc[:,41*2:41*3].values,c660_sp.iloc[:,41*3:41*4].values\n",
        "    w1,w2,w3,w4 = sp2wt(c660_feed,s1),sp2wt(c660_feed,s2),sp2wt(c660_feed,s3),sp2wt(c660_feed,s4)\n",
        "    wt = np.hstack((w1,w2,w3,w4))\n",
        "    c660_wt = pd.DataFrame(wt,index=idx,columns=self.c660_col['vent_gas_x']+self.c660_col['distillate_x']+self.c660_col['sidedraw_x']+self.c660_col['bottoms_x'])\n",
        "    \n",
        "    # c660 output mass flow (ton)\n",
        "    c660_mf_bot = np.sum(c660_mf*c660_feed.values*s4*0.01,axis=1,keepdims=True)\n",
        "    \n",
        "    # c670 input mass flow\n",
        "    c670_mf = c620_mf_bot + c660_mf_bot\n",
        "    c620_mf_bot_p,c660_mf_bot_p = c620_mf_bot/c670_mf , c660_mf_bot/c670_mf\n",
        "    \n",
        "    # c670 feed wt%\n",
        "    c670_feed = c620_wt[self.c620_col['bottoms_x']].values*c620_mf_bot_p + c660_wt[self.c660_col['bottoms_x']].values*c660_mf_bot_p\n",
        "    c670_feed = pd.DataFrame(c670_feed,index=idx,columns=self.c670_col['combined'])\n",
        "\n",
        "    c670_bf = pd.DataFrame(index=idx,columns=self.c670_col['upper_bf'])\n",
        "    c620_bot_x = c620_wt[self.c620_col['bottoms_x']].values\n",
        "    c660_bot_x = c660_wt[self.c660_col['bottoms_x']].values\n",
        "    upper_bf = (c660_bot_x*c660_mf_bot)/(c620_bot_x*c620_mf_bot+c660_bot_x*c660_mf_bot)\n",
        "    upper_bf = pd.DataFrame(upper_bf,index=idx,columns=self.c670_col['upper_bf'])\n",
        "    upper_bf[list(set(self.index_9999)&set(upper_bf.columns))] = 0.9999\n",
        "    upper_bf[list(set(self.index_0001)&set(upper_bf.columns))] = 0.0001\n",
        "    \n",
        "    # c670 input (feed%bf)\n",
        "    c670_input = c670_feed.join(upper_bf)\n",
        "    c670_output = self.c670_model.predict(c670_input)\n",
        "    c670_sf,c670_op = c670_output.iloc[:,:41*2],c670_output.iloc[:,41*2:]\n",
        "    s1 = c670_sf[self.c670_col['distillate_sf']].values\n",
        "    s2 = c670_sf[self.c670_col['bottoms_sf']].values\n",
        "    w1 = sp2wt(c670_feed,s1)\n",
        "    w2 = sp2wt(c670_feed,s2)\n",
        "    c670_wt = np.hstack((w1,w2))\n",
        "    c670_wt = pd.DataFrame(c670_wt,index = idx,columns=self.c670_col['distillate_x']+self.c670_col['bottoms_x'])\n",
        "    \n",
        "    return c620_wt,c620_op,c660_wt,c660_op,c670_wt,c670_op"
      ],
      "execution_count": 113,
      "outputs": []
    },
    {
      "cell_type": "code",
      "metadata": {
        "id": "bEL2f8Kmq9ow"
      },
      "source": [
        "f = F(config)\r\n",
        "f.Recommended_mode = False # or True"
      ],
      "execution_count": 114,
      "outputs": []
    },
    {
      "cell_type": "markdown",
      "metadata": {
        "id": "Cb7TJSTp444q"
      },
      "source": [
        "# Get minibatch sample "
      ]
    },
    {
      "cell_type": "code",
      "metadata": {
        "id": "0cjAoL-Z4q4z"
      },
      "source": [
        "commom_idx = list(set(icg_df.index)&\n",
        "      set(c620_df.index)&\n",
        "      set(c660_df.index)&\n",
        "      set(c670_df.index)&\n",
        "      set(t651_df.index))\n",
        "idx = np.random.choice(commom_idx,size=100,replace=False,p=None)\n",
        "\n",
        "# minibatch input \n",
        "icg_input = icg_input.loc[idx]\n",
        "c620_Receiver_Temp = c620_Receiver_Temp.loc[idx]\n",
        "c620_feed = c620_feed.loc[idx]\n",
        "t651_feed = t651_feed.loc[idx]\n",
        "\n",
        "# minibatch output \n",
        "c620_op = c620_op.loc[idx]\n",
        "c620_wt = c620_wt.loc[idx]\n",
        "c660_op = c660_op.loc[idx]\n",
        "c660_wt = c660_wt.loc[idx]\n",
        "c670_op = c670_op.loc[idx]\n",
        "c670_wt = c670_wt.loc[idx]"
      ],
      "execution_count": 115,
      "outputs": []
    },
    {
      "cell_type": "markdown",
      "metadata": {
        "id": "gEW6WdmS-m55"
      },
      "source": [
        "# predict output"
      ]
    },
    {
      "cell_type": "code",
      "metadata": {
        "id": "z23Si7irsA5P"
      },
      "source": [
        "c620_wt_,c620_op_,c660_wt_,c660_op_,c670_wt_,c670_op_ = f(icg_input,c620_Receiver_Temp,c620_feed,t651_feed)"
      ],
      "execution_count": 116,
      "outputs": []
    },
    {
      "cell_type": "markdown",
      "metadata": {
        "id": "7X3v7hYJ6jfh"
      },
      "source": [
        "# c620 show_metrics"
      ]
    },
    {
      "cell_type": "code",
      "metadata": {
        "colab": {
          "base_uri": "https://localhost:8080/",
          "height": 407
        },
        "id": "qrGCMeFvsBEV",
        "outputId": "f9e3efe7-4355-4d18-9343-f60b0bd59269"
      },
      "source": [
        "f.c620_model.show_metrics(c620_wt,c620_wt_,e=2e-2)"
      ],
      "execution_count": 117,
      "outputs": [
        {
          "output_type": "execute_result",
          "data": {
            "text/html": [
              "<div>\n",
              "<style scoped>\n",
              "    .dataframe tbody tr th:only-of-type {\n",
              "        vertical-align: middle;\n",
              "    }\n",
              "\n",
              "    .dataframe tbody tr th {\n",
              "        vertical-align: top;\n",
              "    }\n",
              "\n",
              "    .dataframe thead th {\n",
              "        text-align: right;\n",
              "    }\n",
              "</style>\n",
              "<table border=\"1\" class=\"dataframe\">\n",
              "  <thead>\n",
              "    <tr style=\"text-align: right;\">\n",
              "      <th></th>\n",
              "      <th>R2</th>\n",
              "      <th>MSE</th>\n",
              "      <th>MAPE</th>\n",
              "    </tr>\n",
              "  </thead>\n",
              "  <tbody>\n",
              "    <tr>\n",
              "      <th>Tatoray Stripper C620 Operation_Vent Gas Production Rate and Composition_Hydrogen_wt%</th>\n",
              "      <td>1</td>\n",
              "      <td>0</td>\n",
              "      <td>NaN</td>\n",
              "    </tr>\n",
              "    <tr>\n",
              "      <th>Tatoray Stripper C620 Operation_Vent Gas Production Rate and Composition_Methane_wt%</th>\n",
              "      <td>0.736478</td>\n",
              "      <td>0.00164153</td>\n",
              "      <td>0.953089</td>\n",
              "    </tr>\n",
              "    <tr>\n",
              "      <th>Tatoray Stripper C620 Operation_Vent Gas Production Rate and Composition_Ethane_wt%</th>\n",
              "      <td>0.747315</td>\n",
              "      <td>0.437212</td>\n",
              "      <td>0.694448</td>\n",
              "    </tr>\n",
              "    <tr>\n",
              "      <th>Tatoray Stripper C620 Operation_Vent Gas Production Rate and Composition_Propane_wt%</th>\n",
              "      <td>0.416462</td>\n",
              "      <td>0.022351</td>\n",
              "      <td>0.169554</td>\n",
              "    </tr>\n",
              "    <tr>\n",
              "      <th>Tatoray Stripper C620 Operation_Vent Gas Production Rate and Composition_n-Butane_wt%</th>\n",
              "      <td>0.740973</td>\n",
              "      <td>0.175941</td>\n",
              "      <td>2.15221</td>\n",
              "    </tr>\n",
              "    <tr>\n",
              "      <th>...</th>\n",
              "      <td>...</td>\n",
              "      <td>...</td>\n",
              "      <td>...</td>\n",
              "    </tr>\n",
              "    <tr>\n",
              "      <th>Tatoray Stripper C620 Operation_Bottoms Production Rate and Composition_n-Pentylbenzene_wt%</th>\n",
              "      <td>0.999859</td>\n",
              "      <td>3.93878e-07</td>\n",
              "      <td>0.0735837</td>\n",
              "    </tr>\n",
              "    <tr>\n",
              "      <th>Tatoray Stripper C620 Operation_Bottoms Production Rate and Composition_n-Hexylbenzene_wt%</th>\n",
              "      <td>0.999857</td>\n",
              "      <td>7.25804e-08</td>\n",
              "      <td>0.0735834</td>\n",
              "    </tr>\n",
              "    <tr>\n",
              "      <th>Tatoray Stripper C620 Operation_Bottoms Production Rate and Composition_Nitrogen_wt%</th>\n",
              "      <td>1</td>\n",
              "      <td>0</td>\n",
              "      <td>NaN</td>\n",
              "    </tr>\n",
              "    <tr>\n",
              "      <th>Tatoray Stripper C620 Operation_Bottoms Production Rate and Composition_Oxygen_wt%</th>\n",
              "      <td>1</td>\n",
              "      <td>0</td>\n",
              "      <td>NaN</td>\n",
              "    </tr>\n",
              "    <tr>\n",
              "      <th>AVG</th>\n",
              "      <td>0.871011</td>\n",
              "      <td>0.17992</td>\n",
              "      <td>3.20814</td>\n",
              "    </tr>\n",
              "  </tbody>\n",
              "</table>\n",
              "<p>165 rows × 3 columns</p>\n",
              "</div>"
            ],
            "text/plain": [
              "                                                          R2  ...       MAPE\n",
              "Tatoray Stripper C620 Operation_Vent Gas Produc...         1  ...        NaN\n",
              "Tatoray Stripper C620 Operation_Vent Gas Produc...  0.736478  ...   0.953089\n",
              "Tatoray Stripper C620 Operation_Vent Gas Produc...  0.747315  ...   0.694448\n",
              "Tatoray Stripper C620 Operation_Vent Gas Produc...  0.416462  ...   0.169554\n",
              "Tatoray Stripper C620 Operation_Vent Gas Produc...  0.740973  ...    2.15221\n",
              "...                                                      ...  ...        ...\n",
              "Tatoray Stripper C620 Operation_Bottoms Product...  0.999859  ...  0.0735837\n",
              "Tatoray Stripper C620 Operation_Bottoms Product...  0.999857  ...  0.0735834\n",
              "Tatoray Stripper C620 Operation_Bottoms Product...         1  ...        NaN\n",
              "Tatoray Stripper C620 Operation_Bottoms Product...         1  ...        NaN\n",
              "AVG                                                 0.871011  ...    3.20814\n",
              "\n",
              "[165 rows x 3 columns]"
            ]
          },
          "metadata": {
            "tags": []
          },
          "execution_count": 117
        }
      ]
    },
    {
      "cell_type": "code",
      "metadata": {
        "colab": {
          "base_uri": "https://localhost:8080/",
          "height": 378
        },
        "id": "I8RmO0CosBG9",
        "outputId": "26ab3bc1-00cb-4d42-9268-829eef116e98"
      },
      "source": [
        "f.c620_model.show_metrics(c620_op,c620_op_,e=2e-2)"
      ],
      "execution_count": 118,
      "outputs": [
        {
          "output_type": "execute_result",
          "data": {
            "text/html": [
              "<div>\n",
              "<style scoped>\n",
              "    .dataframe tbody tr th:only-of-type {\n",
              "        vertical-align: middle;\n",
              "    }\n",
              "\n",
              "    .dataframe tbody tr th {\n",
              "        vertical-align: top;\n",
              "    }\n",
              "\n",
              "    .dataframe thead th {\n",
              "        text-align: right;\n",
              "    }\n",
              "</style>\n",
              "<table border=\"1\" class=\"dataframe\">\n",
              "  <thead>\n",
              "    <tr style=\"text-align: right;\">\n",
              "      <th></th>\n",
              "      <th>R2</th>\n",
              "      <th>MSE</th>\n",
              "      <th>MAPE</th>\n",
              "    </tr>\n",
              "  </thead>\n",
              "  <tbody>\n",
              "    <tr>\n",
              "      <th>Density_Feed Properties</th>\n",
              "      <td>0.999892</td>\n",
              "      <td>1.60727e-10</td>\n",
              "      <td>0.000893365</td>\n",
              "    </tr>\n",
              "    <tr>\n",
              "      <th>Density_Vent Gas Production Rate and Composition</th>\n",
              "      <td>0.708573</td>\n",
              "      <td>2.60325e-06</td>\n",
              "      <td>0.206771</td>\n",
              "    </tr>\n",
              "    <tr>\n",
              "      <th>Density_Distillate Production Rate and Composition</th>\n",
              "      <td>0.730837</td>\n",
              "      <td>1.47105e-05</td>\n",
              "      <td>0.24852</td>\n",
              "    </tr>\n",
              "    <tr>\n",
              "      <th>Density_Sidedraw Production Rate and Composition</th>\n",
              "      <td>0.995048</td>\n",
              "      <td>5.11039e-09</td>\n",
              "      <td>0.00364611</td>\n",
              "    </tr>\n",
              "    <tr>\n",
              "      <th>Density_Bottoms Production Rate and Composition</th>\n",
              "      <td>0.998782</td>\n",
              "      <td>1.98353e-11</td>\n",
              "      <td>0.000314745</td>\n",
              "    </tr>\n",
              "    <tr>\n",
              "      <th>Tatoray Stripper C620 Operation_Yield Summary_Reflux Rate_m3/hr</th>\n",
              "      <td>0.993851</td>\n",
              "      <td>0.7639</td>\n",
              "      <td>0.402032</td>\n",
              "    </tr>\n",
              "    <tr>\n",
              "      <th>Tatoray Stripper C620 Operation_Heat Duty_Condenser Heat Duty_Mkcal/hr</th>\n",
              "      <td>0.990642</td>\n",
              "      <td>0.0112137</td>\n",
              "      <td>0.413114</td>\n",
              "    </tr>\n",
              "    <tr>\n",
              "      <th>Tatoray Stripper C620 Operation_Heat Duty_Reboiler Heat Duty_Mkcal/hr</th>\n",
              "      <td>0.994499</td>\n",
              "      <td>0.00897311</td>\n",
              "      <td>0.252146</td>\n",
              "    </tr>\n",
              "    <tr>\n",
              "      <th>Tatoray Stripper C620 Operation_Column Temp Profile_C620 Tray 14 (Control)_oC</th>\n",
              "      <td>0.999341</td>\n",
              "      <td>0.000762323</td>\n",
              "      <td>0.0107856</td>\n",
              "    </tr>\n",
              "    <tr>\n",
              "      <th>Tatoray Stripper C620 Operation_Column Temp Profile_C620 Tray 34 (Control)_oC</th>\n",
              "      <td>0.999383</td>\n",
              "      <td>0.00050064</td>\n",
              "      <td>0.00895173</td>\n",
              "    </tr>\n",
              "    <tr>\n",
              "      <th>AVG</th>\n",
              "      <td>0.941085</td>\n",
              "      <td>0.0785367</td>\n",
              "      <td>0.154717</td>\n",
              "    </tr>\n",
              "  </tbody>\n",
              "</table>\n",
              "</div>"
            ],
            "text/plain": [
              "                                                          R2  ...         MAPE\n",
              "Density_Feed Properties                             0.999892  ...  0.000893365\n",
              "Density_Vent Gas Production Rate and Composition    0.708573  ...     0.206771\n",
              "Density_Distillate Production Rate and Composition  0.730837  ...      0.24852\n",
              "Density_Sidedraw Production Rate and Composition    0.995048  ...   0.00364611\n",
              "Density_Bottoms Production Rate and Composition     0.998782  ...  0.000314745\n",
              "Tatoray Stripper C620 Operation_Yield Summary_R...  0.993851  ...     0.402032\n",
              "Tatoray Stripper C620 Operation_Heat Duty_Conde...  0.990642  ...     0.413114\n",
              "Tatoray Stripper C620 Operation_Heat Duty_Reboi...  0.994499  ...     0.252146\n",
              "Tatoray Stripper C620 Operation_Column Temp Pro...  0.999341  ...    0.0107856\n",
              "Tatoray Stripper C620 Operation_Column Temp Pro...  0.999383  ...   0.00895173\n",
              "AVG                                                 0.941085  ...     0.154717\n",
              "\n",
              "[11 rows x 3 columns]"
            ]
          },
          "metadata": {
            "tags": []
          },
          "execution_count": 118
        }
      ]
    },
    {
      "cell_type": "markdown",
      "metadata": {
        "id": "P37pbl4F-wJE"
      },
      "source": [
        "# c660 show_metrics"
      ]
    },
    {
      "cell_type": "code",
      "metadata": {
        "colab": {
          "base_uri": "https://localhost:8080/",
          "height": 407
        },
        "id": "A6SzCgpXsBJr",
        "outputId": "1507a2d0-24be-485e-fe09-75b27575b494"
      },
      "source": [
        "f.c660_model.show_metrics(c660_wt,c660_wt_,e=2e-2)"
      ],
      "execution_count": 119,
      "outputs": [
        {
          "output_type": "execute_result",
          "data": {
            "text/html": [
              "<div>\n",
              "<style scoped>\n",
              "    .dataframe tbody tr th:only-of-type {\n",
              "        vertical-align: middle;\n",
              "    }\n",
              "\n",
              "    .dataframe tbody tr th {\n",
              "        vertical-align: top;\n",
              "    }\n",
              "\n",
              "    .dataframe thead th {\n",
              "        text-align: right;\n",
              "    }\n",
              "</style>\n",
              "<table border=\"1\" class=\"dataframe\">\n",
              "  <thead>\n",
              "    <tr style=\"text-align: right;\">\n",
              "      <th></th>\n",
              "      <th>R2</th>\n",
              "      <th>MSE</th>\n",
              "      <th>MAPE</th>\n",
              "    </tr>\n",
              "  </thead>\n",
              "  <tbody>\n",
              "    <tr>\n",
              "      <th>Benzene Column C660 Operation_Vent Gas Production Rate and Composition_Hydrogen_wt%</th>\n",
              "      <td>1</td>\n",
              "      <td>0</td>\n",
              "      <td>NaN</td>\n",
              "    </tr>\n",
              "    <tr>\n",
              "      <th>Benzene Column C660 Operation_Vent Gas Production Rate and Composition_Methane_wt%</th>\n",
              "      <td>0.337571</td>\n",
              "      <td>0.110197</td>\n",
              "      <td>15.0225</td>\n",
              "    </tr>\n",
              "    <tr>\n",
              "      <th>Benzene Column C660 Operation_Vent Gas Production Rate and Composition_Ethane_wt%</th>\n",
              "      <td>0.969735</td>\n",
              "      <td>1.21233</td>\n",
              "      <td>2.56633</td>\n",
              "    </tr>\n",
              "    <tr>\n",
              "      <th>Benzene Column C660 Operation_Vent Gas Production Rate and Composition_Propane_wt%</th>\n",
              "      <td>0.800854</td>\n",
              "      <td>1.17174</td>\n",
              "      <td>2.80975</td>\n",
              "    </tr>\n",
              "    <tr>\n",
              "      <th>Benzene Column C660 Operation_Vent Gas Production Rate and Composition_n-Butane_wt%</th>\n",
              "      <td>0.983767</td>\n",
              "      <td>0.20893</td>\n",
              "      <td>6.18724</td>\n",
              "    </tr>\n",
              "    <tr>\n",
              "      <th>...</th>\n",
              "      <td>...</td>\n",
              "      <td>...</td>\n",
              "      <td>...</td>\n",
              "    </tr>\n",
              "    <tr>\n",
              "      <th>Benzene Column C660 Operation_Bottoms Production Rate and Composition_n-Pentylbenzene_wt%</th>\n",
              "      <td>0.997397</td>\n",
              "      <td>4.08813e-26</td>\n",
              "      <td>NaN</td>\n",
              "    </tr>\n",
              "    <tr>\n",
              "      <th>Benzene Column C660 Operation_Bottoms Production Rate and Composition_n-Hexylbenzene_wt%</th>\n",
              "      <td>0.997428</td>\n",
              "      <td>4.9205e-32</td>\n",
              "      <td>NaN</td>\n",
              "    </tr>\n",
              "    <tr>\n",
              "      <th>Benzene Column C660 Operation_Bottoms Production Rate and Composition_Nitrogen_wt%</th>\n",
              "      <td>1</td>\n",
              "      <td>0</td>\n",
              "      <td>NaN</td>\n",
              "    </tr>\n",
              "    <tr>\n",
              "      <th>Benzene Column C660 Operation_Bottoms Production Rate and Composition_Oxygen_wt%</th>\n",
              "      <td>1</td>\n",
              "      <td>0</td>\n",
              "      <td>NaN</td>\n",
              "    </tr>\n",
              "    <tr>\n",
              "      <th>AVG</th>\n",
              "      <td>0.594221</td>\n",
              "      <td>0.0237081</td>\n",
              "      <td>2.71075</td>\n",
              "    </tr>\n",
              "  </tbody>\n",
              "</table>\n",
              "<p>165 rows × 3 columns</p>\n",
              "</div>"
            ],
            "text/plain": [
              "                                                          R2  ...     MAPE\n",
              "Benzene Column C660 Operation_Vent Gas Producti...         1  ...      NaN\n",
              "Benzene Column C660 Operation_Vent Gas Producti...  0.337571  ...  15.0225\n",
              "Benzene Column C660 Operation_Vent Gas Producti...  0.969735  ...  2.56633\n",
              "Benzene Column C660 Operation_Vent Gas Producti...  0.800854  ...  2.80975\n",
              "Benzene Column C660 Operation_Vent Gas Producti...  0.983767  ...  6.18724\n",
              "...                                                      ...  ...      ...\n",
              "Benzene Column C660 Operation_Bottoms Productio...  0.997397  ...      NaN\n",
              "Benzene Column C660 Operation_Bottoms Productio...  0.997428  ...      NaN\n",
              "Benzene Column C660 Operation_Bottoms Productio...         1  ...      NaN\n",
              "Benzene Column C660 Operation_Bottoms Productio...         1  ...      NaN\n",
              "AVG                                                 0.594221  ...  2.71075\n",
              "\n",
              "[165 rows x 3 columns]"
            ]
          },
          "metadata": {
            "tags": []
          },
          "execution_count": 119
        }
      ]
    },
    {
      "cell_type": "code",
      "metadata": {
        "colab": {
          "base_uri": "https://localhost:8080/",
          "height": 378
        },
        "id": "pYJcYfOsztlz",
        "outputId": "69d5210e-50ed-4463-b7a1-ab2a13e9101b"
      },
      "source": [
        "f.c660_model.show_metrics(c660_op,c660_op_,e=2e-2)"
      ],
      "execution_count": 120,
      "outputs": [
        {
          "output_type": "execute_result",
          "data": {
            "text/html": [
              "<div>\n",
              "<style scoped>\n",
              "    .dataframe tbody tr th:only-of-type {\n",
              "        vertical-align: middle;\n",
              "    }\n",
              "\n",
              "    .dataframe tbody tr th {\n",
              "        vertical-align: top;\n",
              "    }\n",
              "\n",
              "    .dataframe thead th {\n",
              "        text-align: right;\n",
              "    }\n",
              "</style>\n",
              "<table border=\"1\" class=\"dataframe\">\n",
              "  <thead>\n",
              "    <tr style=\"text-align: right;\">\n",
              "      <th></th>\n",
              "      <th>R2</th>\n",
              "      <th>MSE</th>\n",
              "      <th>MAPE</th>\n",
              "    </tr>\n",
              "  </thead>\n",
              "  <tbody>\n",
              "    <tr>\n",
              "      <th>Density_Feed Properties</th>\n",
              "      <td>0.997476</td>\n",
              "      <td>1.679e-09</td>\n",
              "      <td>0.00377074</td>\n",
              "    </tr>\n",
              "    <tr>\n",
              "      <th>Density_Vent Gas Production Rate and Composition</th>\n",
              "      <td>0.966273</td>\n",
              "      <td>1.13402e-05</td>\n",
              "      <td>0.398787</td>\n",
              "    </tr>\n",
              "    <tr>\n",
              "      <th>Density_Distillate (Benzene Drag) Production Rate and Composition</th>\n",
              "      <td>0.98393</td>\n",
              "      <td>1.33422e-06</td>\n",
              "      <td>0.0980393</td>\n",
              "    </tr>\n",
              "    <tr>\n",
              "      <th>Density_Sidedraw (Benzene )Production Rate and Composition</th>\n",
              "      <td>0.947745</td>\n",
              "      <td>3.67497e-12</td>\n",
              "      <td>0.000162249</td>\n",
              "    </tr>\n",
              "    <tr>\n",
              "      <th>Density_Bottoms Production Rate and Composition</th>\n",
              "      <td>0.997312</td>\n",
              "      <td>1.72368e-10</td>\n",
              "      <td>0.00111488</td>\n",
              "    </tr>\n",
              "    <tr>\n",
              "      <th>Benzene Column C660 Operation_Yield Summary_Reflux Rate_m3/hr</th>\n",
              "      <td>0.948938</td>\n",
              "      <td>37.6095</td>\n",
              "      <td>3.06462</td>\n",
              "    </tr>\n",
              "    <tr>\n",
              "      <th>Benzene Column C660 Operation_Heat Duty_Condenser Heat Duty_Mkcal/hr</th>\n",
              "      <td>0.947667</td>\n",
              "      <td>0.287625</td>\n",
              "      <td>2.76154</td>\n",
              "    </tr>\n",
              "    <tr>\n",
              "      <th>Benzene Column C660 Operation_Heat Duty_Reboiler Heat Duty_Mkcal/hr</th>\n",
              "      <td>0.950452</td>\n",
              "      <td>0.296077</td>\n",
              "      <td>2.94236</td>\n",
              "    </tr>\n",
              "    <tr>\n",
              "      <th>Benzene Column C660 Operation_Column Temp Profile_C660 Tray 6 (SD &amp; Control)_oC</th>\n",
              "      <td>0.953694</td>\n",
              "      <td>0.00183932</td>\n",
              "      <td>0.033135</td>\n",
              "    </tr>\n",
              "    <tr>\n",
              "      <th>Benzene Column C660 Operation_Column Temp Profile_C660 Tray 23 (Control)_oC</th>\n",
              "      <td>0.978631</td>\n",
              "      <td>0.014803</td>\n",
              "      <td>0.0950141</td>\n",
              "    </tr>\n",
              "    <tr>\n",
              "      <th>AVG</th>\n",
              "      <td>0.967212</td>\n",
              "      <td>3.82099</td>\n",
              "      <td>0.939854</td>\n",
              "    </tr>\n",
              "  </tbody>\n",
              "</table>\n",
              "</div>"
            ],
            "text/plain": [
              "                                                          R2  ...         MAPE\n",
              "Density_Feed Properties                             0.997476  ...   0.00377074\n",
              "Density_Vent Gas Production Rate and Composition    0.966273  ...     0.398787\n",
              "Density_Distillate (Benzene Drag) Production Ra...   0.98393  ...    0.0980393\n",
              "Density_Sidedraw (Benzene )Production Rate and ...  0.947745  ...  0.000162249\n",
              "Density_Bottoms Production Rate and Composition     0.997312  ...   0.00111488\n",
              "Benzene Column C660 Operation_Yield Summary_Ref...  0.948938  ...      3.06462\n",
              "Benzene Column C660 Operation_Heat Duty_Condens...  0.947667  ...      2.76154\n",
              "Benzene Column C660 Operation_Heat Duty_Reboile...  0.950452  ...      2.94236\n",
              "Benzene Column C660 Operation_Column Temp Profi...  0.953694  ...     0.033135\n",
              "Benzene Column C660 Operation_Column Temp Profi...  0.978631  ...    0.0950141\n",
              "AVG                                                 0.967212  ...     0.939854\n",
              "\n",
              "[11 rows x 3 columns]"
            ]
          },
          "metadata": {
            "tags": []
          },
          "execution_count": 120
        }
      ]
    },
    {
      "cell_type": "markdown",
      "metadata": {
        "id": "ojwKS0TP-yTa"
      },
      "source": [
        "# c670 show_metrics"
      ]
    },
    {
      "cell_type": "code",
      "metadata": {
        "colab": {
          "base_uri": "https://localhost:8080/",
          "height": 407
        },
        "id": "odK0RWomzwNE",
        "outputId": "51d60fc7-fec8-4641-8587-63d7e9b3cc24"
      },
      "source": [
        "f.c670_model.show_metrics(c670_wt,c670_wt_,e=2e-2)"
      ],
      "execution_count": 121,
      "outputs": [
        {
          "output_type": "execute_result",
          "data": {
            "text/html": [
              "<div>\n",
              "<style scoped>\n",
              "    .dataframe tbody tr th:only-of-type {\n",
              "        vertical-align: middle;\n",
              "    }\n",
              "\n",
              "    .dataframe tbody tr th {\n",
              "        vertical-align: top;\n",
              "    }\n",
              "\n",
              "    .dataframe thead th {\n",
              "        text-align: right;\n",
              "    }\n",
              "</style>\n",
              "<table border=\"1\" class=\"dataframe\">\n",
              "  <thead>\n",
              "    <tr style=\"text-align: right;\">\n",
              "      <th></th>\n",
              "      <th>R2</th>\n",
              "      <th>MSE</th>\n",
              "      <th>MAPE</th>\n",
              "    </tr>\n",
              "  </thead>\n",
              "  <tbody>\n",
              "    <tr>\n",
              "      <th>Toluene Column C670 Operation_Distillate Production Rate and Composition_Hydrogen_wt%</th>\n",
              "      <td>1</td>\n",
              "      <td>0</td>\n",
              "      <td>NaN</td>\n",
              "    </tr>\n",
              "    <tr>\n",
              "      <th>Toluene Column C670 Operation_Distillate Production Rate and Composition_Methane_wt%</th>\n",
              "      <td>0</td>\n",
              "      <td>1.47679e-12</td>\n",
              "      <td>NaN</td>\n",
              "    </tr>\n",
              "    <tr>\n",
              "      <th>Toluene Column C670 Operation_Distillate Production Rate and Composition_Ethane_wt%</th>\n",
              "      <td>0</td>\n",
              "      <td>5.21888e-10</td>\n",
              "      <td>NaN</td>\n",
              "    </tr>\n",
              "    <tr>\n",
              "      <th>Toluene Column C670 Operation_Distillate Production Rate and Composition_Propane_wt%</th>\n",
              "      <td>0</td>\n",
              "      <td>1.00356e-09</td>\n",
              "      <td>NaN</td>\n",
              "    </tr>\n",
              "    <tr>\n",
              "      <th>Toluene Column C670 Operation_Distillate Production Rate and Composition_n-Butane_wt%</th>\n",
              "      <td>0</td>\n",
              "      <td>6.4826e-47</td>\n",
              "      <td>NaN</td>\n",
              "    </tr>\n",
              "    <tr>\n",
              "      <th>...</th>\n",
              "      <td>...</td>\n",
              "      <td>...</td>\n",
              "      <td>...</td>\n",
              "    </tr>\n",
              "    <tr>\n",
              "      <th>Toluene Column C670 Operation_Bottoms Production Rate and Composition_n-Pentylbenzene_wt%</th>\n",
              "      <td>1</td>\n",
              "      <td>5.79182e-09</td>\n",
              "      <td>0.00884314</td>\n",
              "    </tr>\n",
              "    <tr>\n",
              "      <th>Toluene Column C670 Operation_Bottoms Production Rate and Composition_n-Hexylbenzene_wt%</th>\n",
              "      <td>1</td>\n",
              "      <td>1.12471e-09</td>\n",
              "      <td>0.00905729</td>\n",
              "    </tr>\n",
              "    <tr>\n",
              "      <th>Toluene Column C670 Operation_Bottoms Production Rate and Composition_Nitrogen_wt%</th>\n",
              "      <td>1</td>\n",
              "      <td>0</td>\n",
              "      <td>NaN</td>\n",
              "    </tr>\n",
              "    <tr>\n",
              "      <th>Toluene Column C670 Operation_Bottoms Production Rate and Composition_Oxygen_wt%</th>\n",
              "      <td>1</td>\n",
              "      <td>0</td>\n",
              "      <td>NaN</td>\n",
              "    </tr>\n",
              "    <tr>\n",
              "      <th>AVG</th>\n",
              "      <td>0.828685</td>\n",
              "      <td>4.00133e-07</td>\n",
              "      <td>0.0804053</td>\n",
              "    </tr>\n",
              "  </tbody>\n",
              "</table>\n",
              "<p>83 rows × 3 columns</p>\n",
              "</div>"
            ],
            "text/plain": [
              "                                                          R2  ...        MAPE\n",
              "Toluene Column C670 Operation_Distillate Produc...         1  ...         NaN\n",
              "Toluene Column C670 Operation_Distillate Produc...         0  ...         NaN\n",
              "Toluene Column C670 Operation_Distillate Produc...         0  ...         NaN\n",
              "Toluene Column C670 Operation_Distillate Produc...         0  ...         NaN\n",
              "Toluene Column C670 Operation_Distillate Produc...         0  ...         NaN\n",
              "...                                                      ...  ...         ...\n",
              "Toluene Column C670 Operation_Bottoms Productio...         1  ...  0.00884314\n",
              "Toluene Column C670 Operation_Bottoms Productio...         1  ...  0.00905729\n",
              "Toluene Column C670 Operation_Bottoms Productio...         1  ...         NaN\n",
              "Toluene Column C670 Operation_Bottoms Productio...         1  ...         NaN\n",
              "AVG                                                 0.828685  ...   0.0804053\n",
              "\n",
              "[83 rows x 3 columns]"
            ]
          },
          "metadata": {
            "tags": []
          },
          "execution_count": 121
        }
      ]
    },
    {
      "cell_type": "code",
      "metadata": {
        "colab": {
          "base_uri": "https://localhost:8080/",
          "height": 288
        },
        "id": "AF7PspgF29yO",
        "outputId": "d1dde0dc-7e77-476d-d005-d25fb247287d"
      },
      "source": [
        "f.c670_model.show_metrics(c670_op,c670_op_,e=2e-2)"
      ],
      "execution_count": 122,
      "outputs": [
        {
          "output_type": "execute_result",
          "data": {
            "text/html": [
              "<div>\n",
              "<style scoped>\n",
              "    .dataframe tbody tr th:only-of-type {\n",
              "        vertical-align: middle;\n",
              "    }\n",
              "\n",
              "    .dataframe tbody tr th {\n",
              "        vertical-align: top;\n",
              "    }\n",
              "\n",
              "    .dataframe thead th {\n",
              "        text-align: right;\n",
              "    }\n",
              "</style>\n",
              "<table border=\"1\" class=\"dataframe\">\n",
              "  <thead>\n",
              "    <tr style=\"text-align: right;\">\n",
              "      <th></th>\n",
              "      <th>R2</th>\n",
              "      <th>MSE</th>\n",
              "      <th>MAPE</th>\n",
              "    </tr>\n",
              "  </thead>\n",
              "  <tbody>\n",
              "    <tr>\n",
              "      <th>Density_Distillate Production Rate and Composition</th>\n",
              "      <td>0.998215</td>\n",
              "      <td>1.46263e-12</td>\n",
              "      <td>0.000107888</td>\n",
              "    </tr>\n",
              "    <tr>\n",
              "      <th>Density_Bottoms Production Rate and Composition</th>\n",
              "      <td>0.999231</td>\n",
              "      <td>1.53849e-10</td>\n",
              "      <td>0.00105161</td>\n",
              "    </tr>\n",
              "    <tr>\n",
              "      <th>Toluene Column C670 Operation_Yield \\nSummary_Reflux Rate_m3/hr</th>\n",
              "      <td>0.995825</td>\n",
              "      <td>2.18603</td>\n",
              "      <td>0.438245</td>\n",
              "    </tr>\n",
              "    <tr>\n",
              "      <th>Toluene Column C670 Operation_Heat Duty_Condenser Heat Duty_Mkcal/hr</th>\n",
              "      <td>0.994587</td>\n",
              "      <td>0.0392311</td>\n",
              "      <td>0.518947</td>\n",
              "    </tr>\n",
              "    <tr>\n",
              "      <th>Toluene Column C670 Operation_Heat Duty_Reboiler Heat Duty_Mkcal/hr</th>\n",
              "      <td>0.994725</td>\n",
              "      <td>0.036677</td>\n",
              "      <td>0.496627</td>\n",
              "    </tr>\n",
              "    <tr>\n",
              "      <th>Toluene Column C670 Operation_Column Temp Profile_C670 Tray 24 (Control)_oC</th>\n",
              "      <td>0.996825</td>\n",
              "      <td>0.000173781</td>\n",
              "      <td>0.00607804</td>\n",
              "    </tr>\n",
              "    <tr>\n",
              "      <th>Toluene Column C670 Operation_Column Temp Profile_C670 Btm Temp (Control)_oC</th>\n",
              "      <td>0.998286</td>\n",
              "      <td>0.00435014</td>\n",
              "      <td>0.0229675</td>\n",
              "    </tr>\n",
              "    <tr>\n",
              "      <th>AVG</th>\n",
              "      <td>0.996813</td>\n",
              "      <td>0.323781</td>\n",
              "      <td>0.212003</td>\n",
              "    </tr>\n",
              "  </tbody>\n",
              "</table>\n",
              "</div>"
            ],
            "text/plain": [
              "                                                          R2  ...         MAPE\n",
              "Density_Distillate Production Rate and Composition  0.998215  ...  0.000107888\n",
              "Density_Bottoms Production Rate and Composition     0.999231  ...   0.00105161\n",
              "Toluene Column C670 Operation_Yield \\nSummary_R...  0.995825  ...     0.438245\n",
              "Toluene Column C670 Operation_Heat Duty_Condens...  0.994587  ...     0.518947\n",
              "Toluene Column C670 Operation_Heat Duty_Reboile...  0.994725  ...     0.496627\n",
              "Toluene Column C670 Operation_Column Temp Profi...  0.996825  ...   0.00607804\n",
              "Toluene Column C670 Operation_Column Temp Profi...  0.998286  ...    0.0229675\n",
              "AVG                                                 0.996813  ...     0.212003\n",
              "\n",
              "[8 rows x 3 columns]"
            ]
          },
          "metadata": {
            "tags": []
          },
          "execution_count": 122
        }
      ]
    },
    {
      "cell_type": "markdown",
      "metadata": {
        "id": "xHtEOnkCnomJ"
      },
      "source": [
        "# save one sample for demo"
      ]
    },
    {
      "cell_type": "code",
      "metadata": {
        "id": "mAuevmR23Zsq",
        "colab": {
          "base_uri": "https://localhost:8080/"
        },
        "outputId": "f76004ff-1289-45ad-d89c-974e8760c5f9"
      },
      "source": [
        "idx = icg_input.index[0]\n",
        "print(idx)"
      ],
      "execution_count": 124,
      "outputs": [
        {
          "output_type": "stream",
          "text": [
            "044-017\n"
          ],
          "name": "stdout"
        }
      ]
    },
    {
      "cell_type": "code",
      "metadata": {
        "id": "NdLYvIBYnR-Q"
      },
      "source": [
        "demo = {'icg_input':icg_input.loc[idx],\n",
        "      'c620_Receiver_Temp':c620_Receiver_Temp.loc[idx],\n",
        "      'c620_feed':c620_feed.loc[idx],\n",
        "      't651_feedf':t651_feed.loc[idx],\n",
        "      'c620_op':c620_op.loc[idx],\n",
        "      'c620_wt':c620_wt.loc[idx],\n",
        "      'c660_op':c660_op.loc[idx],\n",
        "      'c660_wt':c660_wt.loc[idx],\n",
        "      'c670_op':c670_op.loc[idx],\n",
        "      'c670_wt':c670_wt.loc[idx],\n",
        "      }"
      ],
      "execution_count": 125,
      "outputs": []
    },
    {
      "cell_type": "code",
      "metadata": {
        "id": "Ur4DKaAloVW1",
        "colab": {
          "base_uri": "https://localhost:8080/"
        },
        "outputId": "b4e5863d-c37f-40b5-b2cb-cb6a1b2bccba"
      },
      "source": [
        "import joblib\n",
        "joblib.dump(demo,\"/content/drive/MyDrive/台塑輕油案子/data/c620/demo/demo.pkl\")"
      ],
      "execution_count": 126,
      "outputs": [
        {
          "output_type": "execute_result",
          "data": {
            "text/plain": [
              "['/content/drive/MyDrive/台塑輕油案子/data/c620/demo/demo.pkl']"
            ]
          },
          "metadata": {
            "tags": []
          },
          "execution_count": 126
        }
      ]
    },
    {
      "cell_type": "code",
      "metadata": {
        "id": "nba31qndo6hT"
      },
      "source": [
        ""
      ],
      "execution_count": null,
      "outputs": []
    }
  ]
}
