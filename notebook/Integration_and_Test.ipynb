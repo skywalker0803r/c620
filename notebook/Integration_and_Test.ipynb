{
  "nbformat": 4,
  "nbformat_minor": 0,
  "metadata": {
    "colab": {
      "name": "Integration_and_test(Simplified version).ipynb",
      "provenance": [],
      "authorship_tag": "ABX9TyOlGI15DyM/9erajVDlHoPN",
      "include_colab_link": true
    },
    "kernelspec": {
      "name": "python3",
      "display_name": "Python 3"
    }
  },
  "cells": [
    {
      "cell_type": "markdown",
      "metadata": {
        "id": "view-in-github",
        "colab_type": "text"
      },
      "source": [
        "<a href=\"https://colab.research.google.com/github/skywalker0803r/c620/blob/main/notebook/Integration_and_Test.ipynb\" target=\"_parent\"><img src=\"https://colab.research.google.com/assets/colab-badge.svg\" alt=\"Open In Colab\"/></a>"
      ]
    },
    {
      "cell_type": "code",
      "metadata": {
        "id": "YEiUzu5_2x3I"
      },
      "source": [
        "import joblib\n",
        "import os\n",
        "import numpy as np\n",
        "import pandas as pd\n",
        "!pip install autorch > log.txt\n",
        "import matplotlib.pyplot as plt\n",
        "import autorch\n",
        "from autorch.function import sp2wt\n",
        "import random\n",
        "random.seed(11)\n",
        "np.random.seed(11)"
      ],
      "execution_count": 1,
      "outputs": []
    },
    {
      "cell_type": "code",
      "metadata": {
        "colab": {
          "base_uri": "https://localhost:8080/"
        },
        "id": "3YPjXHkR3Eso",
        "outputId": "b3b46aed-c07f-457a-b567-b6c1ae5901fd"
      },
      "source": [
        "from google.colab import drive\n",
        "drive.mount('/content/drive')"
      ],
      "execution_count": 2,
      "outputs": [
        {
          "output_type": "stream",
          "text": [
            "Drive already mounted at /content/drive; to attempt to forcibly remount, call drive.mount(\"/content/drive\", force_remount=True).\n"
          ],
          "name": "stdout"
        }
      ]
    },
    {
      "cell_type": "markdown",
      "metadata": {
        "id": "nuzZj4KB6mQB"
      },
      "source": [
        "# columns name"
      ]
    },
    {
      "cell_type": "code",
      "metadata": {
        "colab": {
          "base_uri": "https://localhost:8080/"
        },
        "id": "vD1E0WtI3OKC",
        "outputId": "71bba362-4eab-4475-d6bb-a2682c4f977e"
      },
      "source": [
        "icg_c = joblib.load('/content/drive/MyDrive/台塑輕油案子/data/c620/col_names/icg_col_names.pkl')\n",
        "c620_c = joblib.load('/content/drive/MyDrive/台塑輕油案子/data/c620/col_names/c620_col_names.pkl')\n",
        "c660_c = joblib.load('/content/drive/MyDrive/台塑輕油案子/data/c620/col_names/c660_col_names.pkl')\n",
        "t651_c = joblib.load('/content/drive/MyDrive/台塑輕油案子/data/c620/col_names/t651_col_names.pkl')\n",
        "c670_c = joblib.load('/content/drive/MyDrive/台塑輕油案子/data/c620/col_names/c670_col_names.pkl')\n",
        "print(icg_c.keys())\n",
        "print(c620_c.keys())\n",
        "print(c660_c.keys())\n",
        "print(c670_c.keys())\n",
        "print(t651_c.keys())"
      ],
      "execution_count": 3,
      "outputs": [
        {
          "output_type": "stream",
          "text": [
            "dict_keys(['x', 'y'])\n",
            "dict_keys(['x41', 'case', 'yRefluxRate', 'yControl', 'yHeatDuty', 'vent_gas_x', 'distillate_x', 'sidedraw_x', 'bottoms_x', 'vent_gas_sf', 'distillate_sf', 'sidedraw_sf', 'bottoms_sf', 'density'])\n",
            "dict_keys(['x41', 'case', 'yRefluxRate', 'yControl', 'yHeatDuty', 'vent_gas_x', 'distillate_x', 'sidedraw_x', 'bottoms_x', 'vent_gas_sf', 'distillate_sf', 'sidedraw_sf', 'bottoms_sf', 'density'])\n",
            "dict_keys(['xTray43', 'xTray54', 'combined', 'upper_bf', 'lower_bf', 'yRefluxRate', 'yControl', 'yHeatDuty', 'distillate_x', 'bottoms_x', 'distillate_sf', 'bottoms_sf', 'density'])\n",
            "dict_keys(['x41', 'MFR'])\n"
          ],
          "name": "stdout"
        }
      ]
    },
    {
      "cell_type": "markdown",
      "metadata": {
        "id": "x8BgCUXhB_Qe"
      },
      "source": [
        "# DataFrame"
      ]
    },
    {
      "cell_type": "code",
      "metadata": {
        "id": "TjsU3C9bB_er",
        "colab": {
          "base_uri": "https://localhost:8080/"
        },
        "outputId": "021db701-e98d-41d5-f1dd-7a6da533398f"
      },
      "source": [
        "icg_df = pd.read_csv('/content/drive/MyDrive/台塑輕油案子/data/c620/cleaned/c620_c670.csv',index_col=0)\n",
        "c620_df = pd.read_csv('/content/drive/MyDrive/台塑輕油案子/data/c620/cleaned/c620_train.csv',index_col=0)\n",
        "c660_df = pd.read_csv('/content/drive/MyDrive/台塑輕油案子/data/c620/cleaned/c660_train.csv',index_col=0)\n",
        "c670_df = pd.read_csv('/content/drive/MyDrive/台塑輕油案子/data/c620/cleaned/c670_train.csv',index_col=0)\n",
        "t651_df = pd.read_csv('/content/drive/MyDrive/台塑輕油案子/data/c620/cleaned/t651_train.csv',index_col=0)\n",
        "idx = list(set(icg_df.index)&\n",
        "      set(c620_df.index)&\n",
        "      set(c660_df.index)&\n",
        "      set(c670_df.index)&\n",
        "      set(t651_df.index))\n",
        "len(idx)"
      ],
      "execution_count": 4,
      "outputs": [
        {
          "output_type": "execute_result",
          "data": {
            "text/plain": [
              "1296"
            ]
          },
          "metadata": {
            "tags": []
          },
          "execution_count": 4
        }
      ]
    },
    {
      "cell_type": "code",
      "metadata": {
        "id": "kxeTF9Z5LYQV",
        "colab": {
          "base_uri": "https://localhost:8080/",
          "height": 374
        },
        "outputId": "065566d4-09fb-4caf-f86f-692c3abc3316"
      },
      "source": [
        "icg_df.loc[idx].head()"
      ],
      "execution_count": 5,
      "outputs": [
        {
          "output_type": "execute_result",
          "data": {
            "text/html": [
              "<div>\n",
              "<style scoped>\n",
              "    .dataframe tbody tr th:only-of-type {\n",
              "        vertical-align: middle;\n",
              "    }\n",
              "\n",
              "    .dataframe tbody tr th {\n",
              "        vertical-align: top;\n",
              "    }\n",
              "\n",
              "    .dataframe thead th {\n",
              "        text-align: right;\n",
              "    }\n",
              "</style>\n",
              "<table border=\"1\" class=\"dataframe\">\n",
              "  <thead>\n",
              "    <tr style=\"text-align: right;\">\n",
              "      <th></th>\n",
              "      <th>Simulation Case Conditions_Feed Rate_Feed from V615 Btm_m3/hr</th>\n",
              "      <th>Simulation Case Conditions_Feed Rate_Feed from V615 Btm    NA_wt%</th>\n",
              "      <th>Simulation Case Conditions_Feed Rate_Feed from V615 Btm    Benzene_wt%</th>\n",
              "      <th>Simulation Case Conditions_Feed Rate_Feed from V615 Btm    Toluene_wt%</th>\n",
              "      <th>Simulation Case Conditions_Feed Rate_Feed from C820 Dist_m3/hr</th>\n",
              "      <th>Simulation Case Conditions_Feed Rate_Feed from C820 Dist    NA_wt%</th>\n",
              "      <th>Simulation Case Conditions_Feed Rate_Feed from C820 Dist    Benzene_wt%</th>\n",
              "      <th>Simulation Case Conditions_Feed Rate_Feed from C820 Dist    Toluene_wt%</th>\n",
              "      <th>Simulation Case Conditions_Feed Rate_Feed from T651_m3/hr</th>\n",
              "      <th>Simulation Case Conditions_Feed Rate_Feed from T651    NA_wt%</th>\n",
              "      <th>Simulation Case Conditions_Feed Rate_Feed from T651    Benzene_wt%</th>\n",
              "      <th>Simulation Case Conditions_Feed Rate_Feed from T651    Toluene_wt%</th>\n",
              "      <th>Simulation Case Conditions_Spec 1 : Benzene in C620 Sidedraw_wt%</th>\n",
              "      <th>Simulation Case Conditions_Spec 2 : NA in Benzene_ppmw</th>\n",
              "      <th>Simulation Case Conditions_C620 Distillate Rate_m3/hr</th>\n",
              "    </tr>\n",
              "  </thead>\n",
              "  <tbody>\n",
              "    <tr>\n",
              "      <th>013-017</th>\n",
              "      <td>188.0</td>\n",
              "      <td>1.356000</td>\n",
              "      <td>10.321001</td>\n",
              "      <td>40.887009</td>\n",
              "      <td>15.0</td>\n",
              "      <td>2.338977</td>\n",
              "      <td>74.302254</td>\n",
              "      <td>17.467825</td>\n",
              "      <td>32.0</td>\n",
              "      <td>0.4524</td>\n",
              "      <td>44.244228</td>\n",
              "      <td>44.786339</td>\n",
              "      <td>80.0</td>\n",
              "      <td>920.0</td>\n",
              "      <td>0.75</td>\n",
              "    </tr>\n",
              "    <tr>\n",
              "      <th>062-026</th>\n",
              "      <td>188.0</td>\n",
              "      <td>1.356000</td>\n",
              "      <td>10.321001</td>\n",
              "      <td>40.887009</td>\n",
              "      <td>15.0</td>\n",
              "      <td>2.338977</td>\n",
              "      <td>74.302254</td>\n",
              "      <td>17.467825</td>\n",
              "      <td>41.0</td>\n",
              "      <td>0.0911</td>\n",
              "      <td>20.854397</td>\n",
              "      <td>74.689774</td>\n",
              "      <td>70.0</td>\n",
              "      <td>920.0</td>\n",
              "      <td>3.50</td>\n",
              "    </tr>\n",
              "    <tr>\n",
              "      <th>016-020</th>\n",
              "      <td>188.0</td>\n",
              "      <td>1.356000</td>\n",
              "      <td>10.321001</td>\n",
              "      <td>40.887009</td>\n",
              "      <td>15.0</td>\n",
              "      <td>2.338977</td>\n",
              "      <td>74.302254</td>\n",
              "      <td>17.467825</td>\n",
              "      <td>72.0</td>\n",
              "      <td>0.4524</td>\n",
              "      <td>44.244228</td>\n",
              "      <td>44.786339</td>\n",
              "      <td>70.0</td>\n",
              "      <td>980.0</td>\n",
              "      <td>0.01</td>\n",
              "    </tr>\n",
              "    <tr>\n",
              "      <th>130-023</th>\n",
              "      <td>175.0</td>\n",
              "      <td>1.116023</td>\n",
              "      <td>11.152225</td>\n",
              "      <td>48.745979</td>\n",
              "      <td>15.0</td>\n",
              "      <td>2.338977</td>\n",
              "      <td>74.302254</td>\n",
              "      <td>17.467825</td>\n",
              "      <td>72.0</td>\n",
              "      <td>0.0911</td>\n",
              "      <td>20.854397</td>\n",
              "      <td>74.689774</td>\n",
              "      <td>70.0</td>\n",
              "      <td>950.0</td>\n",
              "      <td>0.01</td>\n",
              "    </tr>\n",
              "    <tr>\n",
              "      <th>016-005</th>\n",
              "      <td>188.0</td>\n",
              "      <td>1.356000</td>\n",
              "      <td>10.321001</td>\n",
              "      <td>40.887009</td>\n",
              "      <td>15.0</td>\n",
              "      <td>2.338977</td>\n",
              "      <td>74.302254</td>\n",
              "      <td>17.467825</td>\n",
              "      <td>72.0</td>\n",
              "      <td>0.4524</td>\n",
              "      <td>44.244228</td>\n",
              "      <td>44.786339</td>\n",
              "      <td>90.0</td>\n",
              "      <td>950.0</td>\n",
              "      <td>0.01</td>\n",
              "    </tr>\n",
              "  </tbody>\n",
              "</table>\n",
              "</div>"
            ],
            "text/plain": [
              "         Simulation Case Conditions_Feed Rate_Feed from V615 Btm_m3/hr  ...  Simulation Case Conditions_C620 Distillate Rate_m3/hr\n",
              "013-017                                              188.0              ...                                               0.75    \n",
              "062-026                                              188.0              ...                                               3.50    \n",
              "016-020                                              188.0              ...                                               0.01    \n",
              "130-023                                              175.0              ...                                               0.01    \n",
              "016-005                                              188.0              ...                                               0.01    \n",
              "\n",
              "[5 rows x 15 columns]"
            ]
          },
          "metadata": {
            "tags": []
          },
          "execution_count": 5
        }
      ]
    },
    {
      "cell_type": "code",
      "metadata": {
        "id": "2KP7j-9PLUel",
        "colab": {
          "base_uri": "https://localhost:8080/",
          "height": 302
        },
        "outputId": "cc666666-4f46-4cd9-93dc-f00252f30fc8"
      },
      "source": [
        "c620_df.loc[idx][c620_c['case']].head()"
      ],
      "execution_count": 6,
      "outputs": [
        {
          "output_type": "execute_result",
          "data": {
            "text/html": [
              "<div>\n",
              "<style scoped>\n",
              "    .dataframe tbody tr th:only-of-type {\n",
              "        vertical-align: middle;\n",
              "    }\n",
              "\n",
              "    .dataframe tbody tr th {\n",
              "        vertical-align: top;\n",
              "    }\n",
              "\n",
              "    .dataframe thead th {\n",
              "        text-align: right;\n",
              "    }\n",
              "</style>\n",
              "<table border=\"1\" class=\"dataframe\">\n",
              "  <thead>\n",
              "    <tr style=\"text-align: right;\">\n",
              "      <th></th>\n",
              "      <th>Tatoray Stripper C620 Operation_Specifications_Spec 1 : Receiver Temp_oC</th>\n",
              "      <th>Tatoray Stripper C620 Operation_Specifications_Spec 2 : Distillate Rate_m3/hr</th>\n",
              "      <th>Tatoray Stripper C620 Operation_Specifications_Spec 3 : Benzene in Sidedraw_wt%</th>\n",
              "    </tr>\n",
              "  </thead>\n",
              "  <tbody>\n",
              "    <tr>\n",
              "      <th>013-017</th>\n",
              "      <td>36.0</td>\n",
              "      <td>0.75</td>\n",
              "      <td>80.000008</td>\n",
              "    </tr>\n",
              "    <tr>\n",
              "      <th>062-026</th>\n",
              "      <td>36.0</td>\n",
              "      <td>3.50</td>\n",
              "      <td>70.000000</td>\n",
              "    </tr>\n",
              "    <tr>\n",
              "      <th>016-020</th>\n",
              "      <td>36.0</td>\n",
              "      <td>0.01</td>\n",
              "      <td>69.999985</td>\n",
              "    </tr>\n",
              "    <tr>\n",
              "      <th>130-023</th>\n",
              "      <td>36.0</td>\n",
              "      <td>0.01</td>\n",
              "      <td>70.000008</td>\n",
              "    </tr>\n",
              "    <tr>\n",
              "      <th>016-005</th>\n",
              "      <td>36.0</td>\n",
              "      <td>0.01</td>\n",
              "      <td>90.000015</td>\n",
              "    </tr>\n",
              "  </tbody>\n",
              "</table>\n",
              "</div>"
            ],
            "text/plain": [
              "         Tatoray Stripper C620 Operation_Specifications_Spec 1 : Receiver Temp_oC  ...  Tatoray Stripper C620 Operation_Specifications_Spec 3 : Benzene in Sidedraw_wt%\n",
              "013-017                                               36.0                         ...                                          80.000008                              \n",
              "062-026                                               36.0                         ...                                          70.000000                              \n",
              "016-020                                               36.0                         ...                                          69.999985                              \n",
              "130-023                                               36.0                         ...                                          70.000008                              \n",
              "016-005                                               36.0                         ...                                          90.000015                              \n",
              "\n",
              "[5 rows x 3 columns]"
            ]
          },
          "metadata": {
            "tags": []
          },
          "execution_count": 6
        }
      ]
    },
    {
      "cell_type": "code",
      "metadata": {
        "id": "xuehZMotRCYO",
        "colab": {
          "base_uri": "https://localhost:8080/",
          "height": 198
        },
        "outputId": "869d0fc4-5ef9-442f-ac73-5bb105015553"
      },
      "source": [
        "c660_df.loc[idx][c660_c['case']].head()"
      ],
      "execution_count": 7,
      "outputs": [
        {
          "output_type": "execute_result",
          "data": {
            "text/html": [
              "<div>\n",
              "<style scoped>\n",
              "    .dataframe tbody tr th:only-of-type {\n",
              "        vertical-align: middle;\n",
              "    }\n",
              "\n",
              "    .dataframe tbody tr th {\n",
              "        vertical-align: top;\n",
              "    }\n",
              "\n",
              "    .dataframe thead th {\n",
              "        text-align: right;\n",
              "    }\n",
              "</style>\n",
              "<table border=\"1\" class=\"dataframe\">\n",
              "  <thead>\n",
              "    <tr style=\"text-align: right;\">\n",
              "      <th></th>\n",
              "      <th>Benzene Column C660 Operation_Specifications_Spec 2 : NA in Benzene_ppmw</th>\n",
              "      <th>Benzene Column C660 Operation_Specifications_Spec 3 : Toluene in Benzene_ppmw</th>\n",
              "    </tr>\n",
              "  </thead>\n",
              "  <tbody>\n",
              "    <tr>\n",
              "      <th>013-017</th>\n",
              "      <td>920.005505</td>\n",
              "      <td>5.000000</td>\n",
              "    </tr>\n",
              "    <tr>\n",
              "      <th>062-026</th>\n",
              "      <td>919.993203</td>\n",
              "      <td>4.999511</td>\n",
              "    </tr>\n",
              "    <tr>\n",
              "      <th>016-020</th>\n",
              "      <td>979.995649</td>\n",
              "      <td>10.000028</td>\n",
              "    </tr>\n",
              "    <tr>\n",
              "      <th>130-023</th>\n",
              "      <td>949.998062</td>\n",
              "      <td>10.000004</td>\n",
              "    </tr>\n",
              "    <tr>\n",
              "      <th>016-005</th>\n",
              "      <td>949.997412</td>\n",
              "      <td>10.000044</td>\n",
              "    </tr>\n",
              "  </tbody>\n",
              "</table>\n",
              "</div>"
            ],
            "text/plain": [
              "         Benzene Column C660 Operation_Specifications_Spec 2 : NA in Benzene_ppmw  Benzene Column C660 Operation_Specifications_Spec 3 : Toluene in Benzene_ppmw\n",
              "013-017                                         920.005505                                                                  5.000000                            \n",
              "062-026                                         919.993203                                                                  4.999511                            \n",
              "016-020                                         979.995649                                                                 10.000028                            \n",
              "130-023                                         949.998062                                                                 10.000004                            \n",
              "016-005                                         949.997412                                                                 10.000044                            "
            ]
          },
          "metadata": {
            "tags": []
          },
          "execution_count": 7
        }
      ]
    },
    {
      "cell_type": "markdown",
      "metadata": {
        "id": "eT4-lodHox-u"
      },
      "source": [
        "# Input data"
      ]
    },
    {
      "cell_type": "code",
      "metadata": {
        "id": "3EOUCMOXB2Y1"
      },
      "source": [
        "icg_input = icg_df.loc[idx,icg_c['x']]\n",
        "c620_Receiver_Temp = c620_df.loc[idx].filter(regex='Receiver Temp')\n",
        "c620_feed = c620_df.loc[idx,c620_c['x41']]\n",
        "t651_feed = t651_df.loc[idx,t651_c['x41']]"
      ],
      "execution_count": 8,
      "outputs": []
    },
    {
      "cell_type": "markdown",
      "metadata": {
        "id": "mp1GqvJ0o0k1"
      },
      "source": [
        "# Output data"
      ]
    },
    {
      "cell_type": "code",
      "metadata": {
        "id": "uHCoq80jo0ss"
      },
      "source": [
        "c620_op = c620_df.loc[idx,c620_c['density']+c620_c['yRefluxRate']+c620_c['yHeatDuty']+c620_c['yControl']]\n",
        "c620_wt = c620_df.loc[idx,c620_c['vent_gas_x']+c620_c['distillate_x']+c620_c['sidedraw_x']+c620_c['bottoms_x']]\n",
        "c660_op = c660_df.loc[idx,c660_c['density']+c660_c['yRefluxRate']+c660_c['yHeatDuty']+c660_c['yControl']]\n",
        "c660_wt = c660_df.loc[idx,c660_c['vent_gas_x']+c660_c['distillate_x']+c660_c['sidedraw_x']+c660_c['bottoms_x']]\n",
        "c670_op = c670_df.loc[idx,c670_c['density']+c670_c['yRefluxRate']+c670_c['yHeatDuty']+c670_c['yControl']]\n",
        "c670_wt = c670_df.loc[idx,c670_c['distillate_x']+c670_c['bottoms_x']]"
      ],
      "execution_count": 9,
      "outputs": []
    },
    {
      "cell_type": "markdown",
      "metadata": {
        "id": "h8VBB0aG-e0c"
      },
      "source": [
        "# config"
      ]
    },
    {
      "cell_type": "code",
      "metadata": {
        "id": "0Ktejan2r_U7"
      },
      "source": [
        "config = {'icg_model_path':'/content/drive/MyDrive/台塑輕油案子/data/c620/model/c620_icg.pkl',\n",
        "      'c620_model_path':'/content/drive/MyDrive/台塑輕油案子/data/c620/model/c620.pkl',\n",
        "      'c660_model_path':'/content/drive/MyDrive/台塑輕油案子/data/c620/model/c660.pkl',\n",
        "      'c670_model_path':'/content/drive/MyDrive/台塑輕油案子/data/c620/model/c670.pkl',\n",
        "      'icg_col_path':'/content/drive/MyDrive/台塑輕油案子/data/c620/col_names/icg_col_names.pkl',\n",
        "      'c620_col_path':'/content/drive/MyDrive/台塑輕油案子/data/c620/col_names/c620_col_names.pkl',\n",
        "      'c660_col_path':'/content/drive/MyDrive/台塑輕油案子/data/c620/col_names/c660_col_names.pkl',\n",
        "      'c670_col_path':'/content/drive/MyDrive/台塑輕油案子/data/c620/col_names/c670_col_names.pkl',\n",
        "      'index_9999_path':'/content/drive/MyDrive/台塑輕油案子/data/c620/cleaned/index_9999.pkl',\n",
        "      'index_0001_path':'/content/drive/MyDrive/台塑輕油案子/data/c620/cleaned/index_0001.pkl',\n",
        "          }"
      ],
      "execution_count": 10,
      "outputs": []
    },
    {
      "cell_type": "markdown",
      "metadata": {
        "id": "MoSO4Cbx6oxP"
      },
      "source": [
        "# define F"
      ]
    },
    {
      "cell_type": "code",
      "metadata": {
        "id": "oiu5SRYL5NOr"
      },
      "source": [
        "class F(object):\n",
        "  def __init__(self,config):\n",
        "    self.icg_model = joblib.load(config['icg_model_path'])\n",
        "    self.c620_model = joblib.load(config['c620_model_path'])\n",
        "    self.c660_model = joblib.load(config['c660_model_path'])\n",
        "    self.c670_model = joblib.load(config['c670_model_path'])\n",
        "    self.icg_col = joblib.load(config['icg_col_path'])\n",
        "    self.c620_col = joblib.load(config['c620_col_path'])\n",
        "    self.c660_col = joblib.load(config['c660_col_path'])\n",
        "    self.c670_col = joblib.load(config['c670_col_path'])\n",
        "    self.index_9999 = joblib.load(config['index_9999_path'])\n",
        "    self.index_0001 = joblib.load(config['index_0001_path'])\n",
        "    self.V615_density = 0.8626\n",
        "    self.C820_density = 0.8731\n",
        "    self.T651_density = 0.8749\n",
        "    self.Recommended_mode = False\n",
        "\n",
        "\n",
        "  def ICG_loop(self,Input):\n",
        "    while True:\n",
        "      output = self.icg_model.predict(Input)\n",
        "      dist_rate = output['Simulation Case Conditions_C620 Distillate Rate_m3/hr'].values[0]\n",
        "      na_in_benzene = Input['Simulation Case Conditions_Spec 2 : NA in Benzene_ppmw'].values[0]\n",
        "      print('current Distillate Rate_m3/hr:{} NA in Benzene_ppmw:{}'.format(dist_rate,na_in_benzene))\n",
        "      if dist_rate > 0:\n",
        "        return output,Input\n",
        "      else:\n",
        "        Input['Simulation Case Conditions_Spec 2 : NA in Benzene_ppmw'] -= 30\n",
        "        print('NA in Benzene_ppmw -= 30')\n",
        "  \n",
        "  def __call__(self,icg_input,c620_Receiver_Temp,c620_feed,t651_feed,other_args={}):\n",
        "    # get index\n",
        "    idx = icg_input.index\n",
        "\n",
        "    # c620 input(case&feed)\n",
        "    c620_case = pd.DataFrame(index=idx,columns=self.c620_col['case'])\n",
        "    c620_case['Tatoray Stripper C620 Operation_Specifications_Spec 1 : Receiver Temp_oC'] = c620_Receiver_Temp.values\n",
        "    \n",
        "    if self.Recommended_mode == True:\n",
        "      icg_output,icg_input = self.ICG_loop(icg_input)\n",
        "      c620_case['Tatoray Stripper C620 Operation_Specifications_Spec 2 : Distillate Rate_m3/hr'] = icg_output.values\n",
        "    \n",
        "    if self.Recommended_mode == False:\n",
        "      c620_case['Tatoray Stripper C620 Operation_Specifications_Spec 2 : Distillate Rate_m3/hr'] = other_args['c620_case_Distillate_Rate'].values\n",
        "    \n",
        "    c620_case['Tatoray Stripper C620 Operation_Specifications_Spec 3 : Benzene in Sidedraw_wt%'] = icg_input['Simulation Case Conditions_Spec 1 : Benzene in C620 Sidedraw_wt%'].values\n",
        "    c620_input = c620_case.join(c620_feed)\n",
        "    \n",
        "    # c620 output(op&wt)\n",
        "    c620_input = c620_case.join(c620_feed)\n",
        "    c620_output = self.c620_model.predict(c620_input)\n",
        "    c620_sp,c620_op = c620_output.iloc[:,:41*4],c620_output.iloc[:,41*4:]\n",
        "    s1,s2,s3,s4 = c620_sp.iloc[:,:41].values,c620_sp.iloc[:,41:41*2].values,c620_sp.iloc[:,41*2:41*3].values,c620_sp.iloc[:,41*3:41*4].values\n",
        "    w1,w2,w3,w4 = sp2wt(c620_feed,s1),sp2wt(c620_feed,s2),sp2wt(c620_feed,s3),sp2wt(c620_feed,s4)\n",
        "    wt = np.hstack((w1,w2,w3,w4))\n",
        "    c620_wt = pd.DataFrame(wt,index=idx,columns=self.c620_col['vent_gas_x']+self.c620_col['distillate_x']+self.c620_col['sidedraw_x']+self.c620_col['bottoms_x'])\n",
        "    \n",
        "    # c620 input mass flow rate m3 to ton\n",
        "    V615_Btm_m3 = icg_input['Simulation Case Conditions_Feed Rate_Feed from V615 Btm_m3/hr'].values.reshape(-1,1)\n",
        "    C820_Dist_m3 = icg_input['Simulation Case Conditions_Feed Rate_Feed from C820 Dist_m3/hr'].values.reshape(-1,1)\n",
        "    V615_Btm_ton = V615_Btm_m3*self.V615_density\n",
        "    C820_Dist_ton = C820_Dist_m3*self.C820_density\n",
        "    c620_feed_rate_ton = V615_Btm_ton+C820_Dist_ton\n",
        "    \n",
        "    # c620 output mass flow ton\n",
        "    c620_mf_side = np.sum(c620_feed_rate_ton*c620_feed.values*s3*0.01,axis=1,keepdims=True)\n",
        "    c620_mf_bot = np.sum(c620_feed_rate_ton*c620_feed.values*s4*0.01,axis=1,keepdims=True)\n",
        "\n",
        "    # t651 feed mass flow rate(ton)\n",
        "    t651_mf = (icg_input['Simulation Case Conditions_Feed Rate_Feed from T651_m3/hr']*self.T651_density).values.reshape(-1,1)\n",
        "\n",
        "    # c660 input mass flow(ton)\n",
        "    c660_mf = t651_mf + c620_mf_side\n",
        "    t651_mf_p ,c620_mf_side_p = t651_mf/c660_mf ,c620_mf_side/c660_mf\n",
        "\n",
        "    # c660 input(feed & case)\n",
        "    c660_feed = c620_wt[self.c620_col['sidedraw_x']].values*c620_mf_side_p + t651_feed.values*t651_mf_p\n",
        "    c660_feed = pd.DataFrame(c660_feed,index=idx,columns=self.c660_col['x41'])\n",
        "    c660_case = pd.DataFrame(index=idx,columns=self.c660_col['case'])\n",
        "    c660_case['Benzene Column C660 Operation_Specifications_Spec 2 : NA in Benzene_ppmw'] = icg_input['Simulation Case Conditions_Spec 2 : NA in Benzene_ppmw'].values\n",
        "    if self.Recommended_mode == True:\n",
        "      c660_case['Benzene Column C660 Operation_Specifications_Spec 3 : Toluene in Benzene_ppmw'] = 10\n",
        "    if self.Recommended_mode == False:\n",
        "      c660_case['Benzene Column C660 Operation_Specifications_Spec 3 : Toluene in Benzene_ppmw'] = other_args['c660_case_Toluene_in_Benzene_ppmw'].values\n",
        "    c660_input = c660_case.join(c660_feed)\n",
        "    \n",
        "    # c660 output(op&wt)\n",
        "    c660_output = self.c660_model.predict(c660_input)\n",
        "    c660_sp,c660_op = c660_output.iloc[:,:41*4],c660_output.iloc[:,41*4:]\n",
        "    s1,s2,s3,s4 = c660_sp.iloc[:,:41].values,c660_sp.iloc[:,41:41*2].values,c660_sp.iloc[:,41*2:41*3].values,c660_sp.iloc[:,41*3:41*4].values\n",
        "    w1,w2,w3,w4 = sp2wt(c660_feed,s1),sp2wt(c660_feed,s2),sp2wt(c660_feed,s3),sp2wt(c660_feed,s4)\n",
        "    wt = np.hstack((w1,w2,w3,w4))\n",
        "    c660_wt = pd.DataFrame(wt,index=idx,columns=self.c660_col['vent_gas_x']+self.c660_col['distillate_x']+self.c660_col['sidedraw_x']+self.c660_col['bottoms_x'])\n",
        "    \n",
        "    # c660 output mass flow (ton)\n",
        "    c660_mf_bot = np.sum(c660_mf*c660_feed.values*s4*0.01,axis=1,keepdims=True)\n",
        "    \n",
        "    # c670 input mass flow\n",
        "    c670_mf = c620_mf_bot + c660_mf_bot\n",
        "    c620_mf_bot_p,c660_mf_bot_p = c620_mf_bot/c670_mf , c660_mf_bot/c670_mf\n",
        "    \n",
        "    # c670 feed wt%\n",
        "    c670_feed = c620_wt[self.c620_col['bottoms_x']].values*c620_mf_bot_p + c660_wt[self.c660_col['bottoms_x']].values*c660_mf_bot_p\n",
        "    c670_feed = pd.DataFrame(c670_feed,index=idx,columns=self.c670_col['combined'])\n",
        "\n",
        "    c670_bf = pd.DataFrame(index=idx,columns=self.c670_col['upper_bf'])\n",
        "    c620_bot_x = c620_wt[self.c620_col['bottoms_x']].values\n",
        "    c660_bot_x = c660_wt[self.c660_col['bottoms_x']].values\n",
        "    upper_bf = (c660_bot_x*c660_mf_bot)/(c620_bot_x*c620_mf_bot+c660_bot_x*c660_mf_bot)\n",
        "    upper_bf = pd.DataFrame(upper_bf,index=idx,columns=self.c670_col['upper_bf'])\n",
        "    upper_bf[list(set(self.index_9999)&set(upper_bf.columns))] = 0.9999\n",
        "    upper_bf[list(set(self.index_0001)&set(upper_bf.columns))] = 0.0001\n",
        "    \n",
        "    # c670 input (feed%bf)\n",
        "    c670_input = c670_feed.join(upper_bf)\n",
        "    c670_output = self.c670_model.predict(c670_input)\n",
        "    c670_sf,c670_op = c670_output.iloc[:,:41*2],c670_output.iloc[:,41*2:]\n",
        "    s1 = c670_sf[self.c670_col['distillate_sf']].values\n",
        "    s2 = c670_sf[self.c670_col['bottoms_sf']].values\n",
        "    w1 = sp2wt(c670_feed,s1)\n",
        "    w2 = sp2wt(c670_feed,s2)\n",
        "    c670_wt = np.hstack((w1,w2))\n",
        "    c670_wt = pd.DataFrame(c670_wt,index = idx,columns=self.c670_col['distillate_x']+self.c670_col['bottoms_x'])\n",
        "    \n",
        "    return c620_wt,c620_op,c660_wt,c660_op,c670_wt,c670_op"
      ],
      "execution_count": 11,
      "outputs": []
    },
    {
      "cell_type": "markdown",
      "metadata": {
        "id": "Cb7TJSTp444q"
      },
      "source": [
        "# 試算模式測試"
      ]
    },
    {
      "cell_type": "code",
      "metadata": {
        "id": "bEL2f8Kmq9ow"
      },
      "source": [
        "f = F(config)\r\n",
        "f.Recommended_mode = False"
      ],
      "execution_count": 12,
      "outputs": []
    },
    {
      "cell_type": "code",
      "metadata": {
        "id": "0cjAoL-Z4q4z"
      },
      "source": [
        "commom_idx = list(set(icg_df.index)&\n",
        "      set(c620_df.index)&\n",
        "      set(c660_df.index)&\n",
        "      set(c670_df.index)&\n",
        "      set(t651_df.index))\n",
        "idx = np.random.choice(commom_idx,size=100,replace=False,p=None)\n",
        "\n",
        "# minibatch input \n",
        "icg_input = icg_input.loc[idx]\n",
        "c620_Receiver_Temp = c620_Receiver_Temp.loc[idx]\n",
        "c620_dist_rate = c620_df.loc[idx,'Tatoray Stripper C620 Operation_Specifications_Spec 2 : Distillate Rate_m3/hr']\n",
        "c660_case_Toluene_in_Benzene_ppmw = c660_df.loc[idx,'Benzene Column C660 Operation_Specifications_Spec 3 : Toluene in Benzene_ppmw']\n",
        "c620_feed = c620_feed.loc[idx]\n",
        "t651_feed = t651_feed.loc[idx]\n",
        "\n",
        "# minibatch output \n",
        "c620_op = c620_op.loc[idx]\n",
        "c620_wt = c620_wt.loc[idx]\n",
        "c660_op = c660_op.loc[idx]\n",
        "c660_wt = c660_wt.loc[idx]\n",
        "c670_op = c670_op.loc[idx]\n",
        "c670_wt = c670_wt.loc[idx]"
      ],
      "execution_count": 13,
      "outputs": []
    },
    {
      "cell_type": "markdown",
      "metadata": {
        "id": "gEW6WdmS-m55"
      },
      "source": [
        "# predict output"
      ]
    },
    {
      "cell_type": "code",
      "metadata": {
        "id": "z23Si7irsA5P"
      },
      "source": [
        "# 試算模式 c620_case_Distillate_Rate 和 c660_case_Toluene in Benzene_ppmw 需要使用者輸入\n",
        "other_args = {'c620_case_Distillate_Rate':c620_dist_rate,\n",
        "              'c660_case_Toluene_in_Benzene_ppmw':c660_case_Toluene_in_Benzene_ppmw,\n",
        "              }\n",
        "c620_wt_,c620_op_,c660_wt_,c660_op_,c670_wt_,c670_op_ = f(icg_input,c620_Receiver_Temp,c620_feed,t651_feed,other_args)"
      ],
      "execution_count": 14,
      "outputs": []
    },
    {
      "cell_type": "markdown",
      "metadata": {
        "id": "7X3v7hYJ6jfh"
      },
      "source": [
        "# c620 show_metrics"
      ]
    },
    {
      "cell_type": "code",
      "metadata": {
        "colab": {
          "base_uri": "https://localhost:8080/",
          "height": 407
        },
        "id": "qrGCMeFvsBEV",
        "outputId": "20839bb2-3df5-4dc8-84f2-e421948b8548"
      },
      "source": [
        "f.c620_model.show_metrics(c620_wt,c620_wt_,e=2e-2)"
      ],
      "execution_count": 15,
      "outputs": [
        {
          "output_type": "execute_result",
          "data": {
            "text/html": [
              "<div>\n",
              "<style scoped>\n",
              "    .dataframe tbody tr th:only-of-type {\n",
              "        vertical-align: middle;\n",
              "    }\n",
              "\n",
              "    .dataframe tbody tr th {\n",
              "        vertical-align: top;\n",
              "    }\n",
              "\n",
              "    .dataframe thead th {\n",
              "        text-align: right;\n",
              "    }\n",
              "</style>\n",
              "<table border=\"1\" class=\"dataframe\">\n",
              "  <thead>\n",
              "    <tr style=\"text-align: right;\">\n",
              "      <th></th>\n",
              "      <th>R2</th>\n",
              "      <th>MSE</th>\n",
              "      <th>MAPE</th>\n",
              "    </tr>\n",
              "  </thead>\n",
              "  <tbody>\n",
              "    <tr>\n",
              "      <th>Tatoray Stripper C620 Operation_Vent Gas Production Rate and Composition_Hydrogen_wt%</th>\n",
              "      <td>1</td>\n",
              "      <td>0</td>\n",
              "      <td>NaN</td>\n",
              "    </tr>\n",
              "    <tr>\n",
              "      <th>Tatoray Stripper C620 Operation_Vent Gas Production Rate and Composition_Methane_wt%</th>\n",
              "      <td>0.9987</td>\n",
              "      <td>1.28515e-05</td>\n",
              "      <td>0.149506</td>\n",
              "    </tr>\n",
              "    <tr>\n",
              "      <th>Tatoray Stripper C620 Operation_Vent Gas Production Rate and Composition_Ethane_wt%</th>\n",
              "      <td>0.99859</td>\n",
              "      <td>0.00378531</td>\n",
              "      <td>0.110818</td>\n",
              "    </tr>\n",
              "    <tr>\n",
              "      <th>Tatoray Stripper C620 Operation_Vent Gas Production Rate and Composition_Propane_wt%</th>\n",
              "      <td>0.990975</td>\n",
              "      <td>0.000651565</td>\n",
              "      <td>0.0465971</td>\n",
              "    </tr>\n",
              "    <tr>\n",
              "      <th>Tatoray Stripper C620 Operation_Vent Gas Production Rate and Composition_n-Butane_wt%</th>\n",
              "      <td>0.999017</td>\n",
              "      <td>0.00101565</td>\n",
              "      <td>0.275513</td>\n",
              "    </tr>\n",
              "    <tr>\n",
              "      <th>...</th>\n",
              "      <td>...</td>\n",
              "      <td>...</td>\n",
              "      <td>...</td>\n",
              "    </tr>\n",
              "    <tr>\n",
              "      <th>Tatoray Stripper C620 Operation_Bottoms Production Rate and Composition_n-Pentylbenzene_wt%</th>\n",
              "      <td>0.999997</td>\n",
              "      <td>7.95156e-09</td>\n",
              "      <td>0.016525</td>\n",
              "    </tr>\n",
              "    <tr>\n",
              "      <th>Tatoray Stripper C620 Operation_Bottoms Production Rate and Composition_n-Hexylbenzene_wt%</th>\n",
              "      <td>0.999997</td>\n",
              "      <td>1.46407e-09</td>\n",
              "      <td>0.0165244</td>\n",
              "    </tr>\n",
              "    <tr>\n",
              "      <th>Tatoray Stripper C620 Operation_Bottoms Production Rate and Composition_Nitrogen_wt%</th>\n",
              "      <td>1</td>\n",
              "      <td>0</td>\n",
              "      <td>NaN</td>\n",
              "    </tr>\n",
              "    <tr>\n",
              "      <th>Tatoray Stripper C620 Operation_Bottoms Production Rate and Composition_Oxygen_wt%</th>\n",
              "      <td>1</td>\n",
              "      <td>0</td>\n",
              "      <td>NaN</td>\n",
              "    </tr>\n",
              "    <tr>\n",
              "      <th>AVG</th>\n",
              "      <td>0.919805</td>\n",
              "      <td>0.14954</td>\n",
              "      <td>2.10018</td>\n",
              "    </tr>\n",
              "  </tbody>\n",
              "</table>\n",
              "<p>165 rows × 3 columns</p>\n",
              "</div>"
            ],
            "text/plain": [
              "                                                          R2  ...       MAPE\n",
              "Tatoray Stripper C620 Operation_Vent Gas Produc...         1  ...        NaN\n",
              "Tatoray Stripper C620 Operation_Vent Gas Produc...    0.9987  ...   0.149506\n",
              "Tatoray Stripper C620 Operation_Vent Gas Produc...   0.99859  ...   0.110818\n",
              "Tatoray Stripper C620 Operation_Vent Gas Produc...  0.990975  ...  0.0465971\n",
              "Tatoray Stripper C620 Operation_Vent Gas Produc...  0.999017  ...   0.275513\n",
              "...                                                      ...  ...        ...\n",
              "Tatoray Stripper C620 Operation_Bottoms Product...  0.999997  ...   0.016525\n",
              "Tatoray Stripper C620 Operation_Bottoms Product...  0.999997  ...  0.0165244\n",
              "Tatoray Stripper C620 Operation_Bottoms Product...         1  ...        NaN\n",
              "Tatoray Stripper C620 Operation_Bottoms Product...         1  ...        NaN\n",
              "AVG                                                 0.919805  ...    2.10018\n",
              "\n",
              "[165 rows x 3 columns]"
            ]
          },
          "metadata": {
            "tags": []
          },
          "execution_count": 15
        }
      ]
    },
    {
      "cell_type": "code",
      "metadata": {
        "colab": {
          "base_uri": "https://localhost:8080/",
          "height": 378
        },
        "id": "I8RmO0CosBG9",
        "outputId": "6e55869d-4820-4577-863d-f371ca4db451"
      },
      "source": [
        "f.c620_model.show_metrics(c620_op,c620_op_,e=2e-2)"
      ],
      "execution_count": 16,
      "outputs": [
        {
          "output_type": "execute_result",
          "data": {
            "text/html": [
              "<div>\n",
              "<style scoped>\n",
              "    .dataframe tbody tr th:only-of-type {\n",
              "        vertical-align: middle;\n",
              "    }\n",
              "\n",
              "    .dataframe tbody tr th {\n",
              "        vertical-align: top;\n",
              "    }\n",
              "\n",
              "    .dataframe thead th {\n",
              "        text-align: right;\n",
              "    }\n",
              "</style>\n",
              "<table border=\"1\" class=\"dataframe\">\n",
              "  <thead>\n",
              "    <tr style=\"text-align: right;\">\n",
              "      <th></th>\n",
              "      <th>R2</th>\n",
              "      <th>MSE</th>\n",
              "      <th>MAPE</th>\n",
              "    </tr>\n",
              "  </thead>\n",
              "  <tbody>\n",
              "    <tr>\n",
              "      <th>Density_Feed Properties</th>\n",
              "      <td>0.999959</td>\n",
              "      <td>5.9865e-11</td>\n",
              "      <td>0.000634425</td>\n",
              "    </tr>\n",
              "    <tr>\n",
              "      <th>Density_Vent Gas Production Rate and Composition</th>\n",
              "      <td>0.990293</td>\n",
              "      <td>1.33958e-07</td>\n",
              "      <td>0.0697336</td>\n",
              "    </tr>\n",
              "    <tr>\n",
              "      <th>Density_Distillate Production Rate and Composition</th>\n",
              "      <td>0.997319</td>\n",
              "      <td>2.26669e-07</td>\n",
              "      <td>0.0492282</td>\n",
              "    </tr>\n",
              "    <tr>\n",
              "      <th>Density_Sidedraw Production Rate and Composition</th>\n",
              "      <td>0.999847</td>\n",
              "      <td>1.63381e-10</td>\n",
              "      <td>0.00115109</td>\n",
              "    </tr>\n",
              "    <tr>\n",
              "      <th>Density_Bottoms Production Rate and Composition</th>\n",
              "      <td>0.99954</td>\n",
              "      <td>7.31358e-12</td>\n",
              "      <td>0.000257947</td>\n",
              "    </tr>\n",
              "    <tr>\n",
              "      <th>Tatoray Stripper C620 Operation_Yield Summary_Reflux Rate_m3/hr</th>\n",
              "      <td>0.999146</td>\n",
              "      <td>0.0972064</td>\n",
              "      <td>0.183307</td>\n",
              "    </tr>\n",
              "    <tr>\n",
              "      <th>Tatoray Stripper C620 Operation_Heat Duty_Condenser Heat Duty_Mkcal/hr</th>\n",
              "      <td>0.999658</td>\n",
              "      <td>0.000345502</td>\n",
              "      <td>0.111223</td>\n",
              "    </tr>\n",
              "    <tr>\n",
              "      <th>Tatoray Stripper C620 Operation_Heat Duty_Reboiler Heat Duty_Mkcal/hr</th>\n",
              "      <td>0.999397</td>\n",
              "      <td>0.000838931</td>\n",
              "      <td>0.152862</td>\n",
              "    </tr>\n",
              "    <tr>\n",
              "      <th>Tatoray Stripper C620 Operation_Column Temp Profile_C620 Tray 14 (Control)_oC</th>\n",
              "      <td>0.999659</td>\n",
              "      <td>0.00043212</td>\n",
              "      <td>0.00907071</td>\n",
              "    </tr>\n",
              "    <tr>\n",
              "      <th>Tatoray Stripper C620 Operation_Column Temp Profile_C620 Tray 34 (Control)_oC</th>\n",
              "      <td>0.999612</td>\n",
              "      <td>0.0003331</td>\n",
              "      <td>0.00692388</td>\n",
              "    </tr>\n",
              "    <tr>\n",
              "      <th>AVG</th>\n",
              "      <td>0.998443</td>\n",
              "      <td>0.00991564</td>\n",
              "      <td>0.0584391</td>\n",
              "    </tr>\n",
              "  </tbody>\n",
              "</table>\n",
              "</div>"
            ],
            "text/plain": [
              "                                                          R2  ...         MAPE\n",
              "Density_Feed Properties                             0.999959  ...  0.000634425\n",
              "Density_Vent Gas Production Rate and Composition    0.990293  ...    0.0697336\n",
              "Density_Distillate Production Rate and Composition  0.997319  ...    0.0492282\n",
              "Density_Sidedraw Production Rate and Composition    0.999847  ...   0.00115109\n",
              "Density_Bottoms Production Rate and Composition      0.99954  ...  0.000257947\n",
              "Tatoray Stripper C620 Operation_Yield Summary_R...  0.999146  ...     0.183307\n",
              "Tatoray Stripper C620 Operation_Heat Duty_Conde...  0.999658  ...     0.111223\n",
              "Tatoray Stripper C620 Operation_Heat Duty_Reboi...  0.999397  ...     0.152862\n",
              "Tatoray Stripper C620 Operation_Column Temp Pro...  0.999659  ...   0.00907071\n",
              "Tatoray Stripper C620 Operation_Column Temp Pro...  0.999612  ...   0.00692388\n",
              "AVG                                                 0.998443  ...    0.0584391\n",
              "\n",
              "[11 rows x 3 columns]"
            ]
          },
          "metadata": {
            "tags": []
          },
          "execution_count": 16
        }
      ]
    },
    {
      "cell_type": "markdown",
      "metadata": {
        "id": "P37pbl4F-wJE"
      },
      "source": [
        "# c660 show_metrics"
      ]
    },
    {
      "cell_type": "code",
      "metadata": {
        "colab": {
          "base_uri": "https://localhost:8080/",
          "height": 407
        },
        "id": "A6SzCgpXsBJr",
        "outputId": "5508ff6c-d65b-4ecf-fe44-b72840dd053c"
      },
      "source": [
        "f.c660_model.show_metrics(c660_wt,c660_wt_,e=2e-2)"
      ],
      "execution_count": 17,
      "outputs": [
        {
          "output_type": "execute_result",
          "data": {
            "text/html": [
              "<div>\n",
              "<style scoped>\n",
              "    .dataframe tbody tr th:only-of-type {\n",
              "        vertical-align: middle;\n",
              "    }\n",
              "\n",
              "    .dataframe tbody tr th {\n",
              "        vertical-align: top;\n",
              "    }\n",
              "\n",
              "    .dataframe thead th {\n",
              "        text-align: right;\n",
              "    }\n",
              "</style>\n",
              "<table border=\"1\" class=\"dataframe\">\n",
              "  <thead>\n",
              "    <tr style=\"text-align: right;\">\n",
              "      <th></th>\n",
              "      <th>R2</th>\n",
              "      <th>MSE</th>\n",
              "      <th>MAPE</th>\n",
              "    </tr>\n",
              "  </thead>\n",
              "  <tbody>\n",
              "    <tr>\n",
              "      <th>Benzene Column C660 Operation_Vent Gas Production Rate and Composition_Hydrogen_wt%</th>\n",
              "      <td>1</td>\n",
              "      <td>0</td>\n",
              "      <td>NaN</td>\n",
              "    </tr>\n",
              "    <tr>\n",
              "      <th>Benzene Column C660 Operation_Vent Gas Production Rate and Composition_Methane_wt%</th>\n",
              "      <td>0.985181</td>\n",
              "      <td>0.00302899</td>\n",
              "      <td>2.59769</td>\n",
              "    </tr>\n",
              "    <tr>\n",
              "      <th>Benzene Column C660 Operation_Vent Gas Production Rate and Composition_Ethane_wt%</th>\n",
              "      <td>0.994111</td>\n",
              "      <td>0.271295</td>\n",
              "      <td>1.26131</td>\n",
              "    </tr>\n",
              "    <tr>\n",
              "      <th>Benzene Column C660 Operation_Vent Gas Production Rate and Composition_Propane_wt%</th>\n",
              "      <td>0.987714</td>\n",
              "      <td>0.0756486</td>\n",
              "      <td>0.888737</td>\n",
              "    </tr>\n",
              "    <tr>\n",
              "      <th>Benzene Column C660 Operation_Vent Gas Production Rate and Composition_n-Butane_wt%</th>\n",
              "      <td>0.997648</td>\n",
              "      <td>0.0328383</td>\n",
              "      <td>2.17353</td>\n",
              "    </tr>\n",
              "    <tr>\n",
              "      <th>...</th>\n",
              "      <td>...</td>\n",
              "      <td>...</td>\n",
              "      <td>...</td>\n",
              "    </tr>\n",
              "    <tr>\n",
              "      <th>Benzene Column C660 Operation_Bottoms Production Rate and Composition_n-Pentylbenzene_wt%</th>\n",
              "      <td>0.99992</td>\n",
              "      <td>1.38971e-27</td>\n",
              "      <td>NaN</td>\n",
              "    </tr>\n",
              "    <tr>\n",
              "      <th>Benzene Column C660 Operation_Bottoms Production Rate and Composition_n-Hexylbenzene_wt%</th>\n",
              "      <td>0.999927</td>\n",
              "      <td>1.55511e-33</td>\n",
              "      <td>NaN</td>\n",
              "    </tr>\n",
              "    <tr>\n",
              "      <th>Benzene Column C660 Operation_Bottoms Production Rate and Composition_Nitrogen_wt%</th>\n",
              "      <td>1</td>\n",
              "      <td>0</td>\n",
              "      <td>NaN</td>\n",
              "    </tr>\n",
              "    <tr>\n",
              "      <th>Benzene Column C660 Operation_Bottoms Production Rate and Composition_Oxygen_wt%</th>\n",
              "      <td>1</td>\n",
              "      <td>0</td>\n",
              "      <td>NaN</td>\n",
              "    </tr>\n",
              "    <tr>\n",
              "      <th>AVG</th>\n",
              "      <td>0.800733</td>\n",
              "      <td>0.00586044</td>\n",
              "      <td>1.10905</td>\n",
              "    </tr>\n",
              "  </tbody>\n",
              "</table>\n",
              "<p>165 rows × 3 columns</p>\n",
              "</div>"
            ],
            "text/plain": [
              "                                                          R2  ...      MAPE\n",
              "Benzene Column C660 Operation_Vent Gas Producti...         1  ...       NaN\n",
              "Benzene Column C660 Operation_Vent Gas Producti...  0.985181  ...   2.59769\n",
              "Benzene Column C660 Operation_Vent Gas Producti...  0.994111  ...   1.26131\n",
              "Benzene Column C660 Operation_Vent Gas Producti...  0.987714  ...  0.888737\n",
              "Benzene Column C660 Operation_Vent Gas Producti...  0.997648  ...   2.17353\n",
              "...                                                      ...  ...       ...\n",
              "Benzene Column C660 Operation_Bottoms Productio...   0.99992  ...       NaN\n",
              "Benzene Column C660 Operation_Bottoms Productio...  0.999927  ...       NaN\n",
              "Benzene Column C660 Operation_Bottoms Productio...         1  ...       NaN\n",
              "Benzene Column C660 Operation_Bottoms Productio...         1  ...       NaN\n",
              "AVG                                                 0.800733  ...   1.10905\n",
              "\n",
              "[165 rows x 3 columns]"
            ]
          },
          "metadata": {
            "tags": []
          },
          "execution_count": 17
        }
      ]
    },
    {
      "cell_type": "code",
      "metadata": {
        "colab": {
          "base_uri": "https://localhost:8080/",
          "height": 378
        },
        "id": "pYJcYfOsztlz",
        "outputId": "14e4b101-f364-4806-f231-2eb17d945e95"
      },
      "source": [
        "f.c660_model.show_metrics(c660_op,c660_op_,e=2e-2)"
      ],
      "execution_count": 18,
      "outputs": [
        {
          "output_type": "execute_result",
          "data": {
            "text/html": [
              "<div>\n",
              "<style scoped>\n",
              "    .dataframe tbody tr th:only-of-type {\n",
              "        vertical-align: middle;\n",
              "    }\n",
              "\n",
              "    .dataframe tbody tr th {\n",
              "        vertical-align: top;\n",
              "    }\n",
              "\n",
              "    .dataframe thead th {\n",
              "        text-align: right;\n",
              "    }\n",
              "</style>\n",
              "<table border=\"1\" class=\"dataframe\">\n",
              "  <thead>\n",
              "    <tr style=\"text-align: right;\">\n",
              "      <th></th>\n",
              "      <th>R2</th>\n",
              "      <th>MSE</th>\n",
              "      <th>MAPE</th>\n",
              "    </tr>\n",
              "  </thead>\n",
              "  <tbody>\n",
              "    <tr>\n",
              "      <th>Density_Feed Properties</th>\n",
              "      <td>0.996105</td>\n",
              "      <td>2.41947e-09</td>\n",
              "      <td>0.00457411</td>\n",
              "    </tr>\n",
              "    <tr>\n",
              "      <th>Density_Vent Gas Production Rate and Composition</th>\n",
              "      <td>0.998948</td>\n",
              "      <td>4.01121e-07</td>\n",
              "      <td>0.090403</td>\n",
              "    </tr>\n",
              "    <tr>\n",
              "      <th>Density_Distillate (Benzene Drag) Production Rate and Composition</th>\n",
              "      <td>0.998053</td>\n",
              "      <td>1.73273e-07</td>\n",
              "      <td>0.0375747</td>\n",
              "    </tr>\n",
              "    <tr>\n",
              "      <th>Density_Sidedraw (Benzene )Production Rate and Composition</th>\n",
              "      <td>0.98495</td>\n",
              "      <td>1.2563e-12</td>\n",
              "      <td>0.000103261</td>\n",
              "    </tr>\n",
              "    <tr>\n",
              "      <th>Density_Bottoms Production Rate and Composition</th>\n",
              "      <td>0.999249</td>\n",
              "      <td>5.52335e-11</td>\n",
              "      <td>0.000679739</td>\n",
              "    </tr>\n",
              "    <tr>\n",
              "      <th>Benzene Column C660 Operation_Yield Summary_Reflux Rate_m3/hr</th>\n",
              "      <td>0.99755</td>\n",
              "      <td>1.85994</td>\n",
              "      <td>0.794826</td>\n",
              "    </tr>\n",
              "    <tr>\n",
              "      <th>Benzene Column C660 Operation_Heat Duty_Condenser Heat Duty_Mkcal/hr</th>\n",
              "      <td>0.997067</td>\n",
              "      <td>0.0165165</td>\n",
              "      <td>0.783092</td>\n",
              "    </tr>\n",
              "    <tr>\n",
              "      <th>Benzene Column C660 Operation_Heat Duty_Reboiler Heat Duty_Mkcal/hr</th>\n",
              "      <td>0.997353</td>\n",
              "      <td>0.0161039</td>\n",
              "      <td>0.787928</td>\n",
              "    </tr>\n",
              "    <tr>\n",
              "      <th>Benzene Column C660 Operation_Column Temp Profile_C660 Tray 6 (SD &amp; Control)_oC</th>\n",
              "      <td>0.997438</td>\n",
              "      <td>9.78364e-05</td>\n",
              "      <td>0.00879686</td>\n",
              "    </tr>\n",
              "    <tr>\n",
              "      <th>Benzene Column C660 Operation_Column Temp Profile_C660 Tray 23 (Control)_oC</th>\n",
              "      <td>0.997503</td>\n",
              "      <td>0.00164931</td>\n",
              "      <td>0.0344098</td>\n",
              "    </tr>\n",
              "    <tr>\n",
              "      <th>AVG</th>\n",
              "      <td>0.996422</td>\n",
              "      <td>0.189431</td>\n",
              "      <td>0.254239</td>\n",
              "    </tr>\n",
              "  </tbody>\n",
              "</table>\n",
              "</div>"
            ],
            "text/plain": [
              "                                                          R2  ...         MAPE\n",
              "Density_Feed Properties                             0.996105  ...   0.00457411\n",
              "Density_Vent Gas Production Rate and Composition    0.998948  ...     0.090403\n",
              "Density_Distillate (Benzene Drag) Production Ra...  0.998053  ...    0.0375747\n",
              "Density_Sidedraw (Benzene )Production Rate and ...   0.98495  ...  0.000103261\n",
              "Density_Bottoms Production Rate and Composition     0.999249  ...  0.000679739\n",
              "Benzene Column C660 Operation_Yield Summary_Ref...   0.99755  ...     0.794826\n",
              "Benzene Column C660 Operation_Heat Duty_Condens...  0.997067  ...     0.783092\n",
              "Benzene Column C660 Operation_Heat Duty_Reboile...  0.997353  ...     0.787928\n",
              "Benzene Column C660 Operation_Column Temp Profi...  0.997438  ...   0.00879686\n",
              "Benzene Column C660 Operation_Column Temp Profi...  0.997503  ...    0.0344098\n",
              "AVG                                                 0.996422  ...     0.254239\n",
              "\n",
              "[11 rows x 3 columns]"
            ]
          },
          "metadata": {
            "tags": []
          },
          "execution_count": 18
        }
      ]
    },
    {
      "cell_type": "markdown",
      "metadata": {
        "id": "ojwKS0TP-yTa"
      },
      "source": [
        "# c670 show_metrics"
      ]
    },
    {
      "cell_type": "code",
      "metadata": {
        "colab": {
          "base_uri": "https://localhost:8080/",
          "height": 407
        },
        "id": "odK0RWomzwNE",
        "outputId": "b93b8cb9-c0ab-4fb9-916e-7a544815d728"
      },
      "source": [
        "f.c670_model.show_metrics(c670_wt,c670_wt_,e=2e-2)"
      ],
      "execution_count": 19,
      "outputs": [
        {
          "output_type": "execute_result",
          "data": {
            "text/html": [
              "<div>\n",
              "<style scoped>\n",
              "    .dataframe tbody tr th:only-of-type {\n",
              "        vertical-align: middle;\n",
              "    }\n",
              "\n",
              "    .dataframe tbody tr th {\n",
              "        vertical-align: top;\n",
              "    }\n",
              "\n",
              "    .dataframe thead th {\n",
              "        text-align: right;\n",
              "    }\n",
              "</style>\n",
              "<table border=\"1\" class=\"dataframe\">\n",
              "  <thead>\n",
              "    <tr style=\"text-align: right;\">\n",
              "      <th></th>\n",
              "      <th>R2</th>\n",
              "      <th>MSE</th>\n",
              "      <th>MAPE</th>\n",
              "    </tr>\n",
              "  </thead>\n",
              "  <tbody>\n",
              "    <tr>\n",
              "      <th>Toluene Column C670 Operation_Distillate Production Rate and Composition_Hydrogen_wt%</th>\n",
              "      <td>1</td>\n",
              "      <td>0</td>\n",
              "      <td>NaN</td>\n",
              "    </tr>\n",
              "    <tr>\n",
              "      <th>Toluene Column C670 Operation_Distillate Production Rate and Composition_Methane_wt%</th>\n",
              "      <td>0</td>\n",
              "      <td>4.07349e-12</td>\n",
              "      <td>NaN</td>\n",
              "    </tr>\n",
              "    <tr>\n",
              "      <th>Toluene Column C670 Operation_Distillate Production Rate and Composition_Ethane_wt%</th>\n",
              "      <td>0</td>\n",
              "      <td>1.65139e-09</td>\n",
              "      <td>NaN</td>\n",
              "    </tr>\n",
              "    <tr>\n",
              "      <th>Toluene Column C670 Operation_Distillate Production Rate and Composition_Propane_wt%</th>\n",
              "      <td>0</td>\n",
              "      <td>3.48663e-09</td>\n",
              "      <td>NaN</td>\n",
              "    </tr>\n",
              "    <tr>\n",
              "      <th>Toluene Column C670 Operation_Distillate Production Rate and Composition_n-Butane_wt%</th>\n",
              "      <td>0</td>\n",
              "      <td>5.88194e-47</td>\n",
              "      <td>NaN</td>\n",
              "    </tr>\n",
              "    <tr>\n",
              "      <th>...</th>\n",
              "      <td>...</td>\n",
              "      <td>...</td>\n",
              "      <td>...</td>\n",
              "    </tr>\n",
              "    <tr>\n",
              "      <th>Toluene Column C670 Operation_Bottoms Production Rate and Composition_n-Pentylbenzene_wt%</th>\n",
              "      <td>1</td>\n",
              "      <td>5.98736e-09</td>\n",
              "      <td>0.00897611</td>\n",
              "    </tr>\n",
              "    <tr>\n",
              "      <th>Toluene Column C670 Operation_Bottoms Production Rate and Composition_n-Hexylbenzene_wt%</th>\n",
              "      <td>1</td>\n",
              "      <td>1.11279e-09</td>\n",
              "      <td>0.00901032</td>\n",
              "    </tr>\n",
              "    <tr>\n",
              "      <th>Toluene Column C670 Operation_Bottoms Production Rate and Composition_Nitrogen_wt%</th>\n",
              "      <td>1</td>\n",
              "      <td>0</td>\n",
              "      <td>NaN</td>\n",
              "    </tr>\n",
              "    <tr>\n",
              "      <th>Toluene Column C670 Operation_Bottoms Production Rate and Composition_Oxygen_wt%</th>\n",
              "      <td>1</td>\n",
              "      <td>0</td>\n",
              "      <td>NaN</td>\n",
              "    </tr>\n",
              "    <tr>\n",
              "      <th>AVG</th>\n",
              "      <td>0.828804</td>\n",
              "      <td>3.67903e-07</td>\n",
              "      <td>0.0496961</td>\n",
              "    </tr>\n",
              "  </tbody>\n",
              "</table>\n",
              "<p>83 rows × 3 columns</p>\n",
              "</div>"
            ],
            "text/plain": [
              "                                                          R2  ...        MAPE\n",
              "Toluene Column C670 Operation_Distillate Produc...         1  ...         NaN\n",
              "Toluene Column C670 Operation_Distillate Produc...         0  ...         NaN\n",
              "Toluene Column C670 Operation_Distillate Produc...         0  ...         NaN\n",
              "Toluene Column C670 Operation_Distillate Produc...         0  ...         NaN\n",
              "Toluene Column C670 Operation_Distillate Produc...         0  ...         NaN\n",
              "...                                                      ...  ...         ...\n",
              "Toluene Column C670 Operation_Bottoms Productio...         1  ...  0.00897611\n",
              "Toluene Column C670 Operation_Bottoms Productio...         1  ...  0.00901032\n",
              "Toluene Column C670 Operation_Bottoms Productio...         1  ...         NaN\n",
              "Toluene Column C670 Operation_Bottoms Productio...         1  ...         NaN\n",
              "AVG                                                 0.828804  ...   0.0496961\n",
              "\n",
              "[83 rows x 3 columns]"
            ]
          },
          "metadata": {
            "tags": []
          },
          "execution_count": 19
        }
      ]
    },
    {
      "cell_type": "code",
      "metadata": {
        "colab": {
          "base_uri": "https://localhost:8080/",
          "height": 288
        },
        "id": "AF7PspgF29yO",
        "outputId": "6716a491-527f-4d1d-ec39-838facb5e9c1"
      },
      "source": [
        "f.c670_model.show_metrics(c670_op,c670_op_,e=2e-2)"
      ],
      "execution_count": 20,
      "outputs": [
        {
          "output_type": "execute_result",
          "data": {
            "text/html": [
              "<div>\n",
              "<style scoped>\n",
              "    .dataframe tbody tr th:only-of-type {\n",
              "        vertical-align: middle;\n",
              "    }\n",
              "\n",
              "    .dataframe tbody tr th {\n",
              "        vertical-align: top;\n",
              "    }\n",
              "\n",
              "    .dataframe thead th {\n",
              "        text-align: right;\n",
              "    }\n",
              "</style>\n",
              "<table border=\"1\" class=\"dataframe\">\n",
              "  <thead>\n",
              "    <tr style=\"text-align: right;\">\n",
              "      <th></th>\n",
              "      <th>R2</th>\n",
              "      <th>MSE</th>\n",
              "      <th>MAPE</th>\n",
              "    </tr>\n",
              "  </thead>\n",
              "  <tbody>\n",
              "    <tr>\n",
              "      <th>Density_Distillate Production Rate and Composition</th>\n",
              "      <td>0.997904</td>\n",
              "      <td>1.60594e-12</td>\n",
              "      <td>0.000117461</td>\n",
              "    </tr>\n",
              "    <tr>\n",
              "      <th>Density_Bottoms Production Rate and Composition</th>\n",
              "      <td>0.999031</td>\n",
              "      <td>1.75415e-10</td>\n",
              "      <td>0.00117964</td>\n",
              "    </tr>\n",
              "    <tr>\n",
              "      <th>Toluene Column C670 Operation_Yield \\nSummary_Reflux Rate_m3/hr</th>\n",
              "      <td>0.99517</td>\n",
              "      <td>2.98522</td>\n",
              "      <td>0.537451</td>\n",
              "    </tr>\n",
              "    <tr>\n",
              "      <th>Toluene Column C670 Operation_Heat Duty_Condenser Heat Duty_Mkcal/hr</th>\n",
              "      <td>0.995261</td>\n",
              "      <td>0.038213</td>\n",
              "      <td>0.535404</td>\n",
              "    </tr>\n",
              "    <tr>\n",
              "      <th>Toluene Column C670 Operation_Heat Duty_Reboiler Heat Duty_Mkcal/hr</th>\n",
              "      <td>0.995083</td>\n",
              "      <td>0.0384795</td>\n",
              "      <td>0.534788</td>\n",
              "    </tr>\n",
              "    <tr>\n",
              "      <th>Toluene Column C670 Operation_Column Temp Profile_C670 Tray 24 (Control)_oC</th>\n",
              "      <td>0.996198</td>\n",
              "      <td>0.000236791</td>\n",
              "      <td>0.00704252</td>\n",
              "    </tr>\n",
              "    <tr>\n",
              "      <th>Toluene Column C670 Operation_Column Temp Profile_C670 Btm Temp (Control)_oC</th>\n",
              "      <td>0.998895</td>\n",
              "      <td>0.00273734</td>\n",
              "      <td>0.0187007</td>\n",
              "    </tr>\n",
              "    <tr>\n",
              "      <th>AVG</th>\n",
              "      <td>0.996792</td>\n",
              "      <td>0.437841</td>\n",
              "      <td>0.233526</td>\n",
              "    </tr>\n",
              "  </tbody>\n",
              "</table>\n",
              "</div>"
            ],
            "text/plain": [
              "                                                          R2  ...         MAPE\n",
              "Density_Distillate Production Rate and Composition  0.997904  ...  0.000117461\n",
              "Density_Bottoms Production Rate and Composition     0.999031  ...   0.00117964\n",
              "Toluene Column C670 Operation_Yield \\nSummary_R...   0.99517  ...     0.537451\n",
              "Toluene Column C670 Operation_Heat Duty_Condens...  0.995261  ...     0.535404\n",
              "Toluene Column C670 Operation_Heat Duty_Reboile...  0.995083  ...     0.534788\n",
              "Toluene Column C670 Operation_Column Temp Profi...  0.996198  ...   0.00704252\n",
              "Toluene Column C670 Operation_Column Temp Profi...  0.998895  ...    0.0187007\n",
              "AVG                                                 0.996792  ...     0.233526\n",
              "\n",
              "[8 rows x 3 columns]"
            ]
          },
          "metadata": {
            "tags": []
          },
          "execution_count": 20
        }
      ]
    },
    {
      "cell_type": "markdown",
      "metadata": {
        "id": "xHtEOnkCnomJ"
      },
      "source": [
        "# 推薦模式 測試"
      ]
    },
    {
      "cell_type": "code",
      "metadata": {
        "id": "Zmu8FCxhVIri",
        "colab": {
          "base_uri": "https://localhost:8080/"
        },
        "outputId": "35f10229-29b5-44c3-be89-67f4d9360604"
      },
      "source": [
        "# change mode\n",
        "f.Recommended_mode = True\n",
        "f.Recommended_mode"
      ],
      "execution_count": 21,
      "outputs": [
        {
          "output_type": "execute_result",
          "data": {
            "text/plain": [
              "True"
            ]
          },
          "metadata": {
            "tags": []
          },
          "execution_count": 21
        }
      ]
    },
    {
      "cell_type": "code",
      "metadata": {
        "id": "J2fSD-la4UZT",
        "colab": {
          "base_uri": "https://localhost:8080/",
          "height": 185
        },
        "outputId": "5b62b264-72b5-40a5-dca4-83c6e6b898e5"
      },
      "source": [
        "# select one sample c620_side == 70 & NA in Benzene == 980\n",
        "cond = (icg_input['Simulation Case Conditions_Spec 1 : Benzene in C620 Sidedraw_wt%']==70)&(icg_input['Simulation Case Conditions_Spec 2 : NA in Benzene_ppmw']==980)\n",
        "one_sample = icg_input.loc[cond].sample(1)\n",
        "one_sample"
      ],
      "execution_count": 22,
      "outputs": [
        {
          "output_type": "execute_result",
          "data": {
            "text/html": [
              "<div>\n",
              "<style scoped>\n",
              "    .dataframe tbody tr th:only-of-type {\n",
              "        vertical-align: middle;\n",
              "    }\n",
              "\n",
              "    .dataframe tbody tr th {\n",
              "        vertical-align: top;\n",
              "    }\n",
              "\n",
              "    .dataframe thead th {\n",
              "        text-align: right;\n",
              "    }\n",
              "</style>\n",
              "<table border=\"1\" class=\"dataframe\">\n",
              "  <thead>\n",
              "    <tr style=\"text-align: right;\">\n",
              "      <th></th>\n",
              "      <th>Simulation Case Conditions_Feed Rate_Feed from V615 Btm_m3/hr</th>\n",
              "      <th>Simulation Case Conditions_Feed Rate_Feed from V615 Btm    NA_wt%</th>\n",
              "      <th>Simulation Case Conditions_Feed Rate_Feed from V615 Btm    Benzene_wt%</th>\n",
              "      <th>Simulation Case Conditions_Feed Rate_Feed from V615 Btm    Toluene_wt%</th>\n",
              "      <th>Simulation Case Conditions_Feed Rate_Feed from C820 Dist_m3/hr</th>\n",
              "      <th>Simulation Case Conditions_Feed Rate_Feed from C820 Dist    NA_wt%</th>\n",
              "      <th>Simulation Case Conditions_Feed Rate_Feed from C820 Dist    Benzene_wt%</th>\n",
              "      <th>Simulation Case Conditions_Feed Rate_Feed from C820 Dist    Toluene_wt%</th>\n",
              "      <th>Simulation Case Conditions_Feed Rate_Feed from T651_m3/hr</th>\n",
              "      <th>Simulation Case Conditions_Feed Rate_Feed from T651    NA_wt%</th>\n",
              "      <th>Simulation Case Conditions_Feed Rate_Feed from T651    Benzene_wt%</th>\n",
              "      <th>Simulation Case Conditions_Feed Rate_Feed from T651    Toluene_wt%</th>\n",
              "      <th>Simulation Case Conditions_Spec 1 : Benzene in C620 Sidedraw_wt%</th>\n",
              "      <th>Simulation Case Conditions_Spec 2 : NA in Benzene_ppmw</th>\n",
              "    </tr>\n",
              "  </thead>\n",
              "  <tbody>\n",
              "    <tr>\n",
              "      <th>141-020</th>\n",
              "      <td>200.0</td>\n",
              "      <td>1.116023</td>\n",
              "      <td>11.152225</td>\n",
              "      <td>48.745979</td>\n",
              "      <td>15.0</td>\n",
              "      <td>2.338977</td>\n",
              "      <td>74.302254</td>\n",
              "      <td>17.467825</td>\n",
              "      <td>57.0</td>\n",
              "      <td>0.0911</td>\n",
              "      <td>20.854397</td>\n",
              "      <td>74.689774</td>\n",
              "      <td>70.0</td>\n",
              "      <td>980.0</td>\n",
              "    </tr>\n",
              "  </tbody>\n",
              "</table>\n",
              "</div>"
            ],
            "text/plain": [
              "         Simulation Case Conditions_Feed Rate_Feed from V615 Btm_m3/hr  ...  Simulation Case Conditions_Spec 2 : NA in Benzene_ppmw\n",
              "141-020                                              200.0              ...                                              980.0     \n",
              "\n",
              "[1 rows x 14 columns]"
            ]
          },
          "metadata": {
            "tags": []
          },
          "execution_count": 22
        }
      ]
    },
    {
      "cell_type": "code",
      "metadata": {
        "id": "mAuevmR23Zsq",
        "colab": {
          "base_uri": "https://localhost:8080/"
        },
        "outputId": "d02d71ed-0ca8-459a-b2c1-df0dd6ca9b2b"
      },
      "source": [
        "idx = one_sample.index\n",
        "print(idx)"
      ],
      "execution_count": 23,
      "outputs": [
        {
          "output_type": "stream",
          "text": [
            "Index(['141-020'], dtype='object')\n"
          ],
          "name": "stdout"
        }
      ]
    },
    {
      "cell_type": "code",
      "metadata": {
        "id": "NdLYvIBYnR-Q"
      },
      "source": [
        "demo = {'icg_input':icg_input.loc[idx],\n",
        "      'c620_Receiver_Temp':c620_Receiver_Temp.loc[idx],\n",
        "      'c620_case_Distillate_Rate':c620_df.loc[idx,['Tatoray Stripper C620 Operation_Specifications_Spec 2 : Distillate Rate_m3/hr']],\n",
        "      'c660_case_Toluene_in_Benzene_ppmw':c660_df.loc[idx,['Benzene Column C660 Operation_Specifications_Spec 3 : Toluene in Benzene_ppmw']],\n",
        "      'c620_feed':c620_feed.loc[idx],\n",
        "      't651_feed':t651_feed.loc[idx],\n",
        "      'c620_op':c620_op.loc[idx],\n",
        "      'c620_wt':c620_wt.loc[idx],\n",
        "      'c660_op':c660_op.loc[idx],\n",
        "      'c660_wt':c660_wt.loc[idx],\n",
        "      'c670_op':c670_op.loc[idx],\n",
        "      'c670_wt':c670_wt.loc[idx],\n",
        "      }"
      ],
      "execution_count": 24,
      "outputs": []
    },
    {
      "cell_type": "code",
      "metadata": {
        "id": "K8M9MvKrUEZP"
      },
      "source": [
        "icg_input = demo['icg_input'].copy()\n",
        "c620_Receiver_Temp = demo['c620_Receiver_Temp'].copy()\n",
        "c620_dist_rate = demo['c620_case_Distillate_Rate'].copy()\n",
        "c660_case_Toluene_in_Benzene_ppmw = demo['c660_case_Toluene_in_Benzene_ppmw'].copy()\n",
        "c620_feed = demo['c620_feed'].copy()\n",
        "t651_feed = demo['t651_feed'].copy()"
      ],
      "execution_count": 25,
      "outputs": []
    },
    {
      "cell_type": "code",
      "metadata": {
        "id": "3dhFIyj2VDvY",
        "colab": {
          "base_uri": "https://localhost:8080/"
        },
        "outputId": "2d314d4b-7566-49dd-e82a-642b6fa232a9"
      },
      "source": [
        "# 推薦模式 c620_case_Distillate_Rate 來自icg輸出 c660_case_Toluene in Benzene_ppmw 固定為10 不用輸入\n",
        "c620_wt_,c620_op_,c660_wt_,c660_op_,c670_wt_,c670_op_ = f(icg_input,c620_Receiver_Temp,c620_feed,t651_feed)"
      ],
      "execution_count": 26,
      "outputs": [
        {
          "output_type": "stream",
          "text": [
            "current Distillate Rate_m3/hr:-0.13851840794086456 NA in Benzene_ppmw:980.0\n",
            "NA in Benzene_ppmw -= 30\n",
            "current Distillate Rate_m3/hr:-0.028597278520464897 NA in Benzene_ppmw:950.0\n",
            "NA in Benzene_ppmw -= 30\n",
            "current Distillate Rate_m3/hr:-0.030967148020863533 NA in Benzene_ppmw:920.0\n",
            "NA in Benzene_ppmw -= 30\n",
            "current Distillate Rate_m3/hr:-0.01371887419372797 NA in Benzene_ppmw:890.0\n",
            "NA in Benzene_ppmw -= 30\n",
            "current Distillate Rate_m3/hr:0.21956868469715118 NA in Benzene_ppmw:860.0\n"
          ],
          "name": "stdout"
        }
      ]
    },
    {
      "cell_type": "code",
      "metadata": {
        "id": "oBGAZznfdAH8",
        "colab": {
          "base_uri": "https://localhost:8080/",
          "height": 185
        },
        "outputId": "1be9e54c-0887-4bf4-be89-bf563117afc4"
      },
      "source": [
        "demo['icg_input']"
      ],
      "execution_count": 27,
      "outputs": [
        {
          "output_type": "execute_result",
          "data": {
            "text/html": [
              "<div>\n",
              "<style scoped>\n",
              "    .dataframe tbody tr th:only-of-type {\n",
              "        vertical-align: middle;\n",
              "    }\n",
              "\n",
              "    .dataframe tbody tr th {\n",
              "        vertical-align: top;\n",
              "    }\n",
              "\n",
              "    .dataframe thead th {\n",
              "        text-align: right;\n",
              "    }\n",
              "</style>\n",
              "<table border=\"1\" class=\"dataframe\">\n",
              "  <thead>\n",
              "    <tr style=\"text-align: right;\">\n",
              "      <th></th>\n",
              "      <th>Simulation Case Conditions_Feed Rate_Feed from V615 Btm_m3/hr</th>\n",
              "      <th>Simulation Case Conditions_Feed Rate_Feed from V615 Btm    NA_wt%</th>\n",
              "      <th>Simulation Case Conditions_Feed Rate_Feed from V615 Btm    Benzene_wt%</th>\n",
              "      <th>Simulation Case Conditions_Feed Rate_Feed from V615 Btm    Toluene_wt%</th>\n",
              "      <th>Simulation Case Conditions_Feed Rate_Feed from C820 Dist_m3/hr</th>\n",
              "      <th>Simulation Case Conditions_Feed Rate_Feed from C820 Dist    NA_wt%</th>\n",
              "      <th>Simulation Case Conditions_Feed Rate_Feed from C820 Dist    Benzene_wt%</th>\n",
              "      <th>Simulation Case Conditions_Feed Rate_Feed from C820 Dist    Toluene_wt%</th>\n",
              "      <th>Simulation Case Conditions_Feed Rate_Feed from T651_m3/hr</th>\n",
              "      <th>Simulation Case Conditions_Feed Rate_Feed from T651    NA_wt%</th>\n",
              "      <th>Simulation Case Conditions_Feed Rate_Feed from T651    Benzene_wt%</th>\n",
              "      <th>Simulation Case Conditions_Feed Rate_Feed from T651    Toluene_wt%</th>\n",
              "      <th>Simulation Case Conditions_Spec 1 : Benzene in C620 Sidedraw_wt%</th>\n",
              "      <th>Simulation Case Conditions_Spec 2 : NA in Benzene_ppmw</th>\n",
              "    </tr>\n",
              "  </thead>\n",
              "  <tbody>\n",
              "    <tr>\n",
              "      <th>141-020</th>\n",
              "      <td>200.0</td>\n",
              "      <td>1.116023</td>\n",
              "      <td>11.152225</td>\n",
              "      <td>48.745979</td>\n",
              "      <td>15.0</td>\n",
              "      <td>2.338977</td>\n",
              "      <td>74.302254</td>\n",
              "      <td>17.467825</td>\n",
              "      <td>57.0</td>\n",
              "      <td>0.0911</td>\n",
              "      <td>20.854397</td>\n",
              "      <td>74.689774</td>\n",
              "      <td>70.0</td>\n",
              "      <td>980.0</td>\n",
              "    </tr>\n",
              "  </tbody>\n",
              "</table>\n",
              "</div>"
            ],
            "text/plain": [
              "         Simulation Case Conditions_Feed Rate_Feed from V615 Btm_m3/hr  ...  Simulation Case Conditions_Spec 2 : NA in Benzene_ppmw\n",
              "141-020                                              200.0              ...                                              980.0     \n",
              "\n",
              "[1 rows x 14 columns]"
            ]
          },
          "metadata": {
            "tags": []
          },
          "execution_count": 27
        }
      ]
    },
    {
      "cell_type": "code",
      "metadata": {
        "id": "Ur4DKaAloVW1",
        "colab": {
          "base_uri": "https://localhost:8080/"
        },
        "outputId": "645361b8-5001-4238-f2df-22a551e51ba5"
      },
      "source": [
        "import joblib\n",
        "joblib.dump(demo,\"/content/drive/MyDrive/台塑輕油案子/data/c620/demo/demo.pkl\")"
      ],
      "execution_count": 28,
      "outputs": [
        {
          "output_type": "execute_result",
          "data": {
            "text/plain": [
              "['/content/drive/MyDrive/台塑輕油案子/data/c620/demo/demo.pkl']"
            ]
          },
          "metadata": {
            "tags": []
          },
          "execution_count": 28
        }
      ]
    },
    {
      "cell_type": "code",
      "metadata": {
        "id": "nba31qndo6hT"
      },
      "source": [
        ""
      ],
      "execution_count": 28,
      "outputs": []
    }
  ]
}