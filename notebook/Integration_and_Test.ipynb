{
  "nbformat": 4,
  "nbformat_minor": 0,
  "metadata": {
    "colab": {
      "name": "Integration_and_test(Simplified version).ipynb",
      "provenance": [],
      "authorship_tag": "ABX9TyN4ckT9c/ws2d4+gg/zvJfe",
      "include_colab_link": true
    },
    "kernelspec": {
      "name": "python3",
      "display_name": "Python 3"
    }
  },
  "cells": [
    {
      "cell_type": "markdown",
      "metadata": {
        "id": "view-in-github",
        "colab_type": "text"
      },
      "source": [
        "<a href=\"https://colab.research.google.com/github/skywalker0803r/c620/blob/main/notebook/Integration_and_Test.ipynb\" target=\"_parent\"><img src=\"https://colab.research.google.com/assets/colab-badge.svg\" alt=\"Open In Colab\"/></a>"
      ]
    },
    {
      "cell_type": "code",
      "metadata": {
        "id": "YEiUzu5_2x3I"
      },
      "source": [
        "import joblib\n",
        "import os\n",
        "import numpy as np\n",
        "import pandas as pd\n",
        "!pip install autorch > log.txt\n",
        "import matplotlib.pyplot as plt\n",
        "import autorch\n",
        "from autorch.function import sp2wt\n",
        "import random\n",
        "random.seed(11)\n",
        "np.random.seed(11)"
      ],
      "execution_count": 1,
      "outputs": []
    },
    {
      "cell_type": "code",
      "metadata": {
        "colab": {
          "base_uri": "https://localhost:8080/"
        },
        "id": "3YPjXHkR3Eso",
        "outputId": "839e32fa-1177-4e1e-b57f-084254e9513b"
      },
      "source": [
        "from google.colab import drive\n",
        "drive.mount('/content/drive')"
      ],
      "execution_count": 2,
      "outputs": [
        {
          "output_type": "stream",
          "text": [
            "Drive already mounted at /content/drive; to attempt to forcibly remount, call drive.mount(\"/content/drive\", force_remount=True).\n"
          ],
          "name": "stdout"
        }
      ]
    },
    {
      "cell_type": "markdown",
      "metadata": {
        "id": "nuzZj4KB6mQB"
      },
      "source": [
        "# columns name"
      ]
    },
    {
      "cell_type": "code",
      "metadata": {
        "colab": {
          "base_uri": "https://localhost:8080/"
        },
        "id": "vD1E0WtI3OKC",
        "outputId": "de25eeb6-b366-4b30-dc2e-3f403f4e3f82"
      },
      "source": [
        "icg_c = joblib.load('/content/drive/MyDrive/台塑輕油案子/data/c620/col_names/c620_c670.pkl')\n",
        "c620_c = joblib.load('/content/drive/MyDrive/台塑輕油案子/data/c620/col_names/c620_col_names.pkl')\n",
        "c660_c = joblib.load('/content/drive/MyDrive/台塑輕油案子/data/c620/col_names/c660_col_names.pkl')\n",
        "t651_c = joblib.load('/content/drive/MyDrive/台塑輕油案子/data/c620/col_names/t651_col_names.pkl')\n",
        "c670_c = joblib.load('/content/drive/MyDrive/台塑輕油案子/data/c620/col_names/c670_col_names.pkl')\n",
        "print(icg_c.keys())\n",
        "print(c620_c.keys())\n",
        "print(c660_c.keys())\n",
        "print(c670_c.keys())\n",
        "print(t651_c.keys())"
      ],
      "execution_count": 3,
      "outputs": [
        {
          "output_type": "stream",
          "text": [
            "dict_keys(['x', 'y'])\n",
            "dict_keys(['x41', 'case', 'yRefluxRate', 'yControl', 'yHeatDuty', 'vent_gas_x', 'distillate_x', 'sidedraw_x', 'bottoms_x', 'vent_gas_sf', 'distillate_sf', 'sidedraw_sf', 'bottoms_sf', 'density'])\n",
            "dict_keys(['x41', 'case', 'yRefluxRate', 'yControl', 'yHeatDuty', 'vent_gas_x', 'distillate_x', 'sidedraw_x', 'bottoms_x', 'vent_gas_sf', 'distillate_sf', 'sidedraw_sf', 'bottoms_sf', 'density'])\n",
            "dict_keys(['xTray43', 'xTray54', 'combined', 'upper_bf', 'lower_bf', 'yRefluxRate', 'yControl', 'yHeatDuty', 'distillate_x', 'bottoms_x', 'distillate_sf', 'bottoms_sf', 'density'])\n",
            "dict_keys(['x41', 'MFR'])\n"
          ],
          "name": "stdout"
        }
      ]
    },
    {
      "cell_type": "markdown",
      "metadata": {
        "id": "x8BgCUXhB_Qe"
      },
      "source": [
        "# DataFrame"
      ]
    },
    {
      "cell_type": "code",
      "metadata": {
        "id": "TjsU3C9bB_er",
        "colab": {
          "base_uri": "https://localhost:8080/"
        },
        "outputId": "14bbf6ff-3af9-4f69-f59c-e324188ef86e"
      },
      "source": [
        "icg_df = pd.read_csv('/content/drive/MyDrive/台塑輕油案子/data/c620/cleaned/c620_c670.csv',index_col=0)\n",
        "c620_df = pd.read_csv('/content/drive/MyDrive/台塑輕油案子/data/c620/cleaned/c620_train.csv',index_col=0)\n",
        "c660_df = pd.read_csv('/content/drive/MyDrive/台塑輕油案子/data/c620/cleaned/c660_train.csv',index_col=0)\n",
        "c670_df = pd.read_csv('/content/drive/MyDrive/台塑輕油案子/data/c620/cleaned/c670_train.csv',index_col=0)\n",
        "t651_df = pd.read_csv('/content/drive/MyDrive/台塑輕油案子/data/c620/cleaned/t651_train.csv',index_col=0)\n",
        "idx = list(set(icg_df.index)&\n",
        "      set(c620_df.index)&\n",
        "      set(c660_df.index)&\n",
        "      set(c670_df.index)&\n",
        "      set(t651_df.index))\n",
        "len(idx)"
      ],
      "execution_count": 4,
      "outputs": [
        {
          "output_type": "execute_result",
          "data": {
            "text/plain": [
              "1296"
            ]
          },
          "metadata": {
            "tags": []
          },
          "execution_count": 4
        }
      ]
    },
    {
      "cell_type": "code",
      "metadata": {
        "id": "kxeTF9Z5LYQV",
        "colab": {
          "base_uri": "https://localhost:8080/",
          "height": 374
        },
        "outputId": "fe5d4faf-8445-4610-b203-4213675763e8"
      },
      "source": [
        "icg_df.loc[idx].head()"
      ],
      "execution_count": 5,
      "outputs": [
        {
          "output_type": "execute_result",
          "data": {
            "text/html": [
              "<div>\n",
              "<style scoped>\n",
              "    .dataframe tbody tr th:only-of-type {\n",
              "        vertical-align: middle;\n",
              "    }\n",
              "\n",
              "    .dataframe tbody tr th {\n",
              "        vertical-align: top;\n",
              "    }\n",
              "\n",
              "    .dataframe thead th {\n",
              "        text-align: right;\n",
              "    }\n",
              "</style>\n",
              "<table border=\"1\" class=\"dataframe\">\n",
              "  <thead>\n",
              "    <tr style=\"text-align: right;\">\n",
              "      <th></th>\n",
              "      <th>Simulation Case Conditions_Feed Rate_Feed from V615 Btm_m3/hr</th>\n",
              "      <th>Simulation Case Conditions_Feed Rate_Feed from V615 Btm    NA_wt%</th>\n",
              "      <th>Simulation Case Conditions_Feed Rate_Feed from V615 Btm    Benzene_wt%</th>\n",
              "      <th>Simulation Case Conditions_Feed Rate_Feed from V615 Btm    Toluene_wt%</th>\n",
              "      <th>Simulation Case Conditions_Feed Rate_Feed from C820 Dist_m3/hr</th>\n",
              "      <th>Simulation Case Conditions_Feed Rate_Feed from C820 Dist    NA_wt%</th>\n",
              "      <th>Simulation Case Conditions_Feed Rate_Feed from C820 Dist    Benzene_wt%</th>\n",
              "      <th>Simulation Case Conditions_Feed Rate_Feed from C820 Dist    Toluene_wt%</th>\n",
              "      <th>Simulation Case Conditions_Feed Rate_Feed from T651_m3/hr</th>\n",
              "      <th>Simulation Case Conditions_Feed Rate_Feed from T651    NA_wt%</th>\n",
              "      <th>Simulation Case Conditions_Feed Rate_Feed from T651    Benzene_wt%</th>\n",
              "      <th>Simulation Case Conditions_Feed Rate_Feed from T651    Toluene_wt%</th>\n",
              "      <th>Simulation Case Conditions_Spec 1 : Benzene in C620 Sidedraw_wt%</th>\n",
              "      <th>Simulation Case Conditions_Spec 2 : NA in Benzene_ppmw</th>\n",
              "      <th>Simulation Case Conditions_C620 Distillate Rate_m3/hr</th>\n",
              "    </tr>\n",
              "  </thead>\n",
              "  <tbody>\n",
              "    <tr>\n",
              "      <th>092-026</th>\n",
              "      <td>200.0</td>\n",
              "      <td>1.116023</td>\n",
              "      <td>11.152225</td>\n",
              "      <td>48.745979</td>\n",
              "      <td>15.0</td>\n",
              "      <td>2.338977</td>\n",
              "      <td>74.302254</td>\n",
              "      <td>17.467825</td>\n",
              "      <td>41.0</td>\n",
              "      <td>0.4524</td>\n",
              "      <td>44.244236</td>\n",
              "      <td>44.786339</td>\n",
              "      <td>70.0</td>\n",
              "      <td>920.0</td>\n",
              "      <td>0.01</td>\n",
              "    </tr>\n",
              "    <tr>\n",
              "      <th>139-002</th>\n",
              "      <td>200.0</td>\n",
              "      <td>1.116023</td>\n",
              "      <td>11.152225</td>\n",
              "      <td>48.745979</td>\n",
              "      <td>15.0</td>\n",
              "      <td>2.338977</td>\n",
              "      <td>74.302254</td>\n",
              "      <td>17.467825</td>\n",
              "      <td>32.0</td>\n",
              "      <td>0.0911</td>\n",
              "      <td>20.854397</td>\n",
              "      <td>74.689774</td>\n",
              "      <td>90.0</td>\n",
              "      <td>980.0</td>\n",
              "      <td>0.75</td>\n",
              "    </tr>\n",
              "    <tr>\n",
              "      <th>038-011</th>\n",
              "      <td>188.0</td>\n",
              "      <td>1.356000</td>\n",
              "      <td>10.321001</td>\n",
              "      <td>40.887009</td>\n",
              "      <td>15.0</td>\n",
              "      <td>2.338977</td>\n",
              "      <td>74.302254</td>\n",
              "      <td>17.467825</td>\n",
              "      <td>41.0</td>\n",
              "      <td>0.2127</td>\n",
              "      <td>35.413666</td>\n",
              "      <td>57.973106</td>\n",
              "      <td>80.0</td>\n",
              "      <td>980.0</td>\n",
              "      <td>0.01</td>\n",
              "    </tr>\n",
              "    <tr>\n",
              "      <th>035-026</th>\n",
              "      <td>175.0</td>\n",
              "      <td>1.356000</td>\n",
              "      <td>10.321001</td>\n",
              "      <td>40.887009</td>\n",
              "      <td>15.0</td>\n",
              "      <td>2.338977</td>\n",
              "      <td>74.302254</td>\n",
              "      <td>17.467825</td>\n",
              "      <td>77.0</td>\n",
              "      <td>0.2127</td>\n",
              "      <td>35.413666</td>\n",
              "      <td>57.973106</td>\n",
              "      <td>70.0</td>\n",
              "      <td>920.0</td>\n",
              "      <td>0.01</td>\n",
              "    </tr>\n",
              "    <tr>\n",
              "      <th>076-017</th>\n",
              "      <td>163.0</td>\n",
              "      <td>1.116023</td>\n",
              "      <td>11.152225</td>\n",
              "      <td>48.745979</td>\n",
              "      <td>15.0</td>\n",
              "      <td>2.338977</td>\n",
              "      <td>74.302254</td>\n",
              "      <td>17.467825</td>\n",
              "      <td>72.0</td>\n",
              "      <td>0.4524</td>\n",
              "      <td>44.244228</td>\n",
              "      <td>44.786339</td>\n",
              "      <td>80.0</td>\n",
              "      <td>920.0</td>\n",
              "      <td>0.01</td>\n",
              "    </tr>\n",
              "  </tbody>\n",
              "</table>\n",
              "</div>"
            ],
            "text/plain": [
              "         Simulation Case Conditions_Feed Rate_Feed from V615 Btm_m3/hr  ...  Simulation Case Conditions_C620 Distillate Rate_m3/hr\n",
              "092-026                                              200.0              ...                                               0.01    \n",
              "139-002                                              200.0              ...                                               0.75    \n",
              "038-011                                              188.0              ...                                               0.01    \n",
              "035-026                                              175.0              ...                                               0.01    \n",
              "076-017                                              163.0              ...                                               0.01    \n",
              "\n",
              "[5 rows x 15 columns]"
            ]
          },
          "metadata": {
            "tags": []
          },
          "execution_count": 5
        }
      ]
    },
    {
      "cell_type": "code",
      "metadata": {
        "id": "2KP7j-9PLUel",
        "colab": {
          "base_uri": "https://localhost:8080/",
          "height": 302
        },
        "outputId": "7cdcc0e0-62ed-4de7-c4d4-a775ddf12990"
      },
      "source": [
        "c620_df.loc[idx][c620_c['case']].head()"
      ],
      "execution_count": 6,
      "outputs": [
        {
          "output_type": "execute_result",
          "data": {
            "text/html": [
              "<div>\n",
              "<style scoped>\n",
              "    .dataframe tbody tr th:only-of-type {\n",
              "        vertical-align: middle;\n",
              "    }\n",
              "\n",
              "    .dataframe tbody tr th {\n",
              "        vertical-align: top;\n",
              "    }\n",
              "\n",
              "    .dataframe thead th {\n",
              "        text-align: right;\n",
              "    }\n",
              "</style>\n",
              "<table border=\"1\" class=\"dataframe\">\n",
              "  <thead>\n",
              "    <tr style=\"text-align: right;\">\n",
              "      <th></th>\n",
              "      <th>Tatoray Stripper C620 Operation_Specifications_Spec 1 : Receiver Temp_oC</th>\n",
              "      <th>Tatoray Stripper C620 Operation_Specifications_Spec 2 : Distillate Rate_m3/hr</th>\n",
              "      <th>Tatoray Stripper C620 Operation_Specifications_Spec 3 : Benzene in Sidedraw_wt%</th>\n",
              "    </tr>\n",
              "  </thead>\n",
              "  <tbody>\n",
              "    <tr>\n",
              "      <th>092-026</th>\n",
              "      <td>36.0</td>\n",
              "      <td>0.01</td>\n",
              "      <td>70.000015</td>\n",
              "    </tr>\n",
              "    <tr>\n",
              "      <th>139-002</th>\n",
              "      <td>36.0</td>\n",
              "      <td>0.75</td>\n",
              "      <td>90.000008</td>\n",
              "    </tr>\n",
              "    <tr>\n",
              "      <th>038-011</th>\n",
              "      <td>36.0</td>\n",
              "      <td>0.01</td>\n",
              "      <td>80.000015</td>\n",
              "    </tr>\n",
              "    <tr>\n",
              "      <th>035-026</th>\n",
              "      <td>36.0</td>\n",
              "      <td>0.01</td>\n",
              "      <td>70.000008</td>\n",
              "    </tr>\n",
              "    <tr>\n",
              "      <th>076-017</th>\n",
              "      <td>36.0</td>\n",
              "      <td>0.01</td>\n",
              "      <td>79.999992</td>\n",
              "    </tr>\n",
              "  </tbody>\n",
              "</table>\n",
              "</div>"
            ],
            "text/plain": [
              "         Tatoray Stripper C620 Operation_Specifications_Spec 1 : Receiver Temp_oC  ...  Tatoray Stripper C620 Operation_Specifications_Spec 3 : Benzene in Sidedraw_wt%\n",
              "092-026                                               36.0                         ...                                          70.000015                              \n",
              "139-002                                               36.0                         ...                                          90.000008                              \n",
              "038-011                                               36.0                         ...                                          80.000015                              \n",
              "035-026                                               36.0                         ...                                          70.000008                              \n",
              "076-017                                               36.0                         ...                                          79.999992                              \n",
              "\n",
              "[5 rows x 3 columns]"
            ]
          },
          "metadata": {
            "tags": []
          },
          "execution_count": 6
        }
      ]
    },
    {
      "cell_type": "code",
      "metadata": {
        "id": "xuehZMotRCYO",
        "colab": {
          "base_uri": "https://localhost:8080/",
          "height": 198
        },
        "outputId": "02e40e50-ce06-4ce1-d1e0-03a51799fd3c"
      },
      "source": [
        "c660_df.loc[idx][c660_c['case']].head()"
      ],
      "execution_count": 7,
      "outputs": [
        {
          "output_type": "execute_result",
          "data": {
            "text/html": [
              "<div>\n",
              "<style scoped>\n",
              "    .dataframe tbody tr th:only-of-type {\n",
              "        vertical-align: middle;\n",
              "    }\n",
              "\n",
              "    .dataframe tbody tr th {\n",
              "        vertical-align: top;\n",
              "    }\n",
              "\n",
              "    .dataframe thead th {\n",
              "        text-align: right;\n",
              "    }\n",
              "</style>\n",
              "<table border=\"1\" class=\"dataframe\">\n",
              "  <thead>\n",
              "    <tr style=\"text-align: right;\">\n",
              "      <th></th>\n",
              "      <th>Benzene Column C660 Operation_Specifications_Spec 2 : NA in Benzene_ppmw</th>\n",
              "      <th>Benzene Column C660 Operation_Specifications_Spec 3 : Toluene in Benzene_ppmw</th>\n",
              "    </tr>\n",
              "  </thead>\n",
              "  <tbody>\n",
              "    <tr>\n",
              "      <th>092-026</th>\n",
              "      <td>920.000634</td>\n",
              "      <td>5.000000</td>\n",
              "    </tr>\n",
              "    <tr>\n",
              "      <th>139-002</th>\n",
              "      <td>979.999511</td>\n",
              "      <td>5.000000</td>\n",
              "    </tr>\n",
              "    <tr>\n",
              "      <th>038-011</th>\n",
              "      <td>979.999450</td>\n",
              "      <td>9.999907</td>\n",
              "    </tr>\n",
              "    <tr>\n",
              "      <th>035-026</th>\n",
              "      <td>920.000744</td>\n",
              "      <td>9.999946</td>\n",
              "    </tr>\n",
              "    <tr>\n",
              "      <th>076-017</th>\n",
              "      <td>919.994699</td>\n",
              "      <td>4.999996</td>\n",
              "    </tr>\n",
              "  </tbody>\n",
              "</table>\n",
              "</div>"
            ],
            "text/plain": [
              "         Benzene Column C660 Operation_Specifications_Spec 2 : NA in Benzene_ppmw  Benzene Column C660 Operation_Specifications_Spec 3 : Toluene in Benzene_ppmw\n",
              "092-026                                         920.000634                                                                  5.000000                            \n",
              "139-002                                         979.999511                                                                  5.000000                            \n",
              "038-011                                         979.999450                                                                  9.999907                            \n",
              "035-026                                         920.000744                                                                  9.999946                            \n",
              "076-017                                         919.994699                                                                  4.999996                            "
            ]
          },
          "metadata": {
            "tags": []
          },
          "execution_count": 7
        }
      ]
    },
    {
      "cell_type": "markdown",
      "metadata": {
        "id": "eT4-lodHox-u"
      },
      "source": [
        "# Input data"
      ]
    },
    {
      "cell_type": "code",
      "metadata": {
        "id": "3EOUCMOXB2Y1"
      },
      "source": [
        "icg_input = icg_df.loc[idx,icg_c['x']]\n",
        "c620_Receiver_Temp = c620_df.loc[idx].filter(regex='Receiver Temp')\n",
        "c620_feed = c620_df.loc[idx,c620_c['x41']]\n",
        "t651_feed = t651_df.loc[idx,t651_c['x41']]"
      ],
      "execution_count": 8,
      "outputs": []
    },
    {
      "cell_type": "markdown",
      "metadata": {
        "id": "mp1GqvJ0o0k1"
      },
      "source": [
        "# Output data"
      ]
    },
    {
      "cell_type": "code",
      "metadata": {
        "id": "uHCoq80jo0ss"
      },
      "source": [
        "c620_op = c620_df.loc[idx,c620_c['density']+c620_c['yRefluxRate']+c620_c['yHeatDuty']+c620_c['yControl']]\n",
        "c620_wt = c620_df.loc[idx,c620_c['vent_gas_x']+c620_c['distillate_x']+c620_c['sidedraw_x']+c620_c['bottoms_x']]\n",
        "c660_op = c660_df.loc[idx,c660_c['density']+c660_c['yRefluxRate']+c660_c['yHeatDuty']+c660_c['yControl']]\n",
        "c660_wt = c660_df.loc[idx,c660_c['vent_gas_x']+c660_c['distillate_x']+c660_c['sidedraw_x']+c660_c['bottoms_x']]\n",
        "c670_op = c670_df.loc[idx,c670_c['density']+c670_c['yRefluxRate']+c670_c['yHeatDuty']+c670_c['yControl']]\n",
        "c670_wt = c670_df.loc[idx,c670_c['distillate_x']+c670_c['bottoms_x']]"
      ],
      "execution_count": 9,
      "outputs": []
    },
    {
      "cell_type": "markdown",
      "metadata": {
        "id": "h8VBB0aG-e0c"
      },
      "source": [
        "# config"
      ]
    },
    {
      "cell_type": "code",
      "metadata": {
        "id": "0Ktejan2r_U7"
      },
      "source": [
        "config = {'icg_model_path':'/content/drive/MyDrive/台塑輕油案子/data/c620/model/c620_icg.pkl',\n",
        "      'c620_model_path':'/content/drive/MyDrive/台塑輕油案子/data/c620/model/c620.pkl',\n",
        "      'c660_model_path':'/content/drive/MyDrive/台塑輕油案子/data/c620/model/c660.pkl',\n",
        "      'c670_model_path':'/content/drive/MyDrive/台塑輕油案子/data/c620/model/c670.pkl',\n",
        "      'icg_col_path':'/content/drive/MyDrive/台塑輕油案子/data/c620/col_names/c620_c670.pkl',\n",
        "      'c620_col_path':'/content/drive/MyDrive/台塑輕油案子/data/c620/col_names/c620_col_names.pkl',\n",
        "      'c660_col_path':'/content/drive/MyDrive/台塑輕油案子/data/c620/col_names/c660_col_names.pkl',\n",
        "      'c670_col_path':'/content/drive/MyDrive/台塑輕油案子/data/c620/col_names/c670_col_names.pkl',\n",
        "      'index_9999_path':'/content/drive/MyDrive/台塑輕油案子/data/c620/cleaned/index_9999.pkl',\n",
        "      'index_0001_path':'/content/drive/MyDrive/台塑輕油案子/data/c620/cleaned/index_0001.pkl',\n",
        "          }"
      ],
      "execution_count": 10,
      "outputs": []
    },
    {
      "cell_type": "markdown",
      "metadata": {
        "id": "MoSO4Cbx6oxP"
      },
      "source": [
        "# define F"
      ]
    },
    {
      "cell_type": "code",
      "metadata": {
        "id": "oiu5SRYL5NOr"
      },
      "source": [
        "class F(object):\n",
        "  def __init__(self,config):\n",
        "    self.icg_model = joblib.load(config['icg_model_path'])\n",
        "    self.c620_model = joblib.load(config['c620_model_path'])\n",
        "    self.c660_model = joblib.load(config['c660_model_path'])\n",
        "    self.c670_model = joblib.load(config['c670_model_path'])\n",
        "    self.icg_col = joblib.load(config['icg_col_path'])\n",
        "    self.c620_col = joblib.load(config['c620_col_path'])\n",
        "    self.c660_col = joblib.load(config['c660_col_path'])\n",
        "    self.c670_col = joblib.load(config['c670_col_path'])\n",
        "    self.index_9999 = joblib.load(config['index_9999_path'])\n",
        "    self.index_0001 = joblib.load(config['index_0001_path'])\n",
        "    self.V615_density = 0.8626\n",
        "    self.C820_density = 0.8731\n",
        "    self.T651_density = 0.8749\n",
        "    self.Recommended_mode = False\n",
        "\n",
        "\n",
        "  def ICG_loop(self,Input):\n",
        "    while True:\n",
        "      output = self.icg_model.predict(Input)\n",
        "      dist_rate = output['Simulation Case Conditions_C620 Distillate Rate_m3/hr'].values[0]\n",
        "      na_in_benzene = Input['Simulation Case Conditions_Spec 2 : NA in Benzene_ppmw'].values[0]\n",
        "      print('current Distillate Rate_m3/hr:{} NA in Benzene_ppmw:{}'.format(dist_rate,na_in_benzene))\n",
        "      if dist_rate > 0:\n",
        "        return output,Input\n",
        "      else:\n",
        "        Input['Simulation Case Conditions_Spec 2 : NA in Benzene_ppmw'] -= 30\n",
        "        print('NA in Benzene_ppmw -= 30')\n",
        "  \n",
        "  def __call__(self,icg_input,c620_Receiver_Temp,c620_feed,t651_feed,other_args={}):\n",
        "    # get index\n",
        "    idx = icg_input.index\n",
        "\n",
        "    # c620 input(case&feed)\n",
        "    c620_case = pd.DataFrame(index=idx,columns=self.c620_col['case'])\n",
        "    c620_case['Tatoray Stripper C620 Operation_Specifications_Spec 1 : Receiver Temp_oC'] = c620_Receiver_Temp.values\n",
        "    \n",
        "    if self.Recommended_mode == True:\n",
        "      icg_output,icg_input = self.ICG_loop(icg_input)\n",
        "      c620_case['Tatoray Stripper C620 Operation_Specifications_Spec 2 : Distillate Rate_m3/hr'] = icg_output.values\n",
        "    \n",
        "    if self.Recommended_mode == False:\n",
        "      c620_case['Tatoray Stripper C620 Operation_Specifications_Spec 2 : Distillate Rate_m3/hr'] = other_args['c620_case_Distillate_Rate'].values\n",
        "    \n",
        "    c620_case['Tatoray Stripper C620 Operation_Specifications_Spec 3 : Benzene in Sidedraw_wt%'] = icg_input['Simulation Case Conditions_Spec 1 : Benzene in C620 Sidedraw_wt%'].values\n",
        "    c620_input = c620_case.join(c620_feed)\n",
        "    \n",
        "    # c620 output(op&wt)\n",
        "    c620_input = c620_case.join(c620_feed)\n",
        "    c620_output = self.c620_model.predict(c620_input)\n",
        "    c620_sp,c620_op = c620_output.iloc[:,:41*4],c620_output.iloc[:,41*4:]\n",
        "    s1,s2,s3,s4 = c620_sp.iloc[:,:41].values,c620_sp.iloc[:,41:41*2].values,c620_sp.iloc[:,41*2:41*3].values,c620_sp.iloc[:,41*3:41*4].values\n",
        "    w1,w2,w3,w4 = sp2wt(c620_feed,s1),sp2wt(c620_feed,s2),sp2wt(c620_feed,s3),sp2wt(c620_feed,s4)\n",
        "    wt = np.hstack((w1,w2,w3,w4))\n",
        "    c620_wt = pd.DataFrame(wt,index=idx,columns=self.c620_col['vent_gas_x']+self.c620_col['distillate_x']+self.c620_col['sidedraw_x']+self.c620_col['bottoms_x'])\n",
        "    \n",
        "    # c620 input mass flow rate m3 to ton\n",
        "    V615_Btm_m3 = icg_input['Simulation Case Conditions_Feed Rate_Feed from V615 Btm_m3/hr'].values.reshape(-1,1)\n",
        "    C820_Dist_m3 = icg_input['Simulation Case Conditions_Feed Rate_Feed from C820 Dist_m3/hr'].values.reshape(-1,1)\n",
        "    V615_Btm_ton = V615_Btm_m3*self.V615_density\n",
        "    C820_Dist_ton = C820_Dist_m3*self.C820_density\n",
        "    c620_feed_rate_ton = V615_Btm_ton+C820_Dist_ton\n",
        "    \n",
        "    # c620 output mass flow ton\n",
        "    c620_mf_side = np.sum(c620_feed_rate_ton*c620_feed.values*s3*0.01,axis=1,keepdims=True)\n",
        "    c620_mf_bot = np.sum(c620_feed_rate_ton*c620_feed.values*s4*0.01,axis=1,keepdims=True)\n",
        "\n",
        "    # t651 feed mass flow rate(ton)\n",
        "    t651_mf = (icg_input['Simulation Case Conditions_Feed Rate_Feed from T651_m3/hr']*self.T651_density).values.reshape(-1,1)\n",
        "\n",
        "    # c660 input mass flow(ton)\n",
        "    c660_mf = t651_mf + c620_mf_side\n",
        "    t651_mf_p ,c620_mf_side_p = t651_mf/c660_mf ,c620_mf_side/c660_mf\n",
        "\n",
        "    # c660 input(feed & case)\n",
        "    c660_feed = c620_wt[self.c620_col['sidedraw_x']].values*c620_mf_side_p + t651_feed.values*t651_mf_p\n",
        "    c660_feed = pd.DataFrame(c660_feed,index=idx,columns=self.c660_col['x41'])\n",
        "    c660_case = pd.DataFrame(index=idx,columns=self.c660_col['case'])\n",
        "    c660_case['Benzene Column C660 Operation_Specifications_Spec 2 : NA in Benzene_ppmw'] = icg_input['Simulation Case Conditions_Spec 2 : NA in Benzene_ppmw'].values\n",
        "    if self.Recommended_mode == True:\n",
        "      c660_case['Benzene Column C660 Operation_Specifications_Spec 3 : Toluene in Benzene_ppmw'] = 10\n",
        "    if self.Recommended_mode == False:\n",
        "      c660_case['Benzene Column C660 Operation_Specifications_Spec 3 : Toluene in Benzene_ppmw'] = other_args['c660_case_Toluene in Benzene_ppmw'].values\n",
        "    c660_input = c660_case.join(c660_feed)\n",
        "    \n",
        "    # c660 output(op&wt)\n",
        "    c660_output = self.c660_model.predict(c660_input)\n",
        "    c660_sp,c660_op = c660_output.iloc[:,:41*4],c660_output.iloc[:,41*4:]\n",
        "    s1,s2,s3,s4 = c660_sp.iloc[:,:41].values,c660_sp.iloc[:,41:41*2].values,c660_sp.iloc[:,41*2:41*3].values,c660_sp.iloc[:,41*3:41*4].values\n",
        "    w1,w2,w3,w4 = sp2wt(c660_feed,s1),sp2wt(c660_feed,s2),sp2wt(c660_feed,s3),sp2wt(c660_feed,s4)\n",
        "    wt = np.hstack((w1,w2,w3,w4))\n",
        "    c660_wt = pd.DataFrame(wt,index=idx,columns=self.c660_col['vent_gas_x']+self.c660_col['distillate_x']+self.c660_col['sidedraw_x']+self.c660_col['bottoms_x'])\n",
        "    \n",
        "    # c660 output mass flow (ton)\n",
        "    c660_mf_bot = np.sum(c660_mf*c660_feed.values*s4*0.01,axis=1,keepdims=True)\n",
        "    \n",
        "    # c670 input mass flow\n",
        "    c670_mf = c620_mf_bot + c660_mf_bot\n",
        "    c620_mf_bot_p,c660_mf_bot_p = c620_mf_bot/c670_mf , c660_mf_bot/c670_mf\n",
        "    \n",
        "    # c670 feed wt%\n",
        "    c670_feed = c620_wt[self.c620_col['bottoms_x']].values*c620_mf_bot_p + c660_wt[self.c660_col['bottoms_x']].values*c660_mf_bot_p\n",
        "    c670_feed = pd.DataFrame(c670_feed,index=idx,columns=self.c670_col['combined'])\n",
        "\n",
        "    c670_bf = pd.DataFrame(index=idx,columns=self.c670_col['upper_bf'])\n",
        "    c620_bot_x = c620_wt[self.c620_col['bottoms_x']].values\n",
        "    c660_bot_x = c660_wt[self.c660_col['bottoms_x']].values\n",
        "    upper_bf = (c660_bot_x*c660_mf_bot)/(c620_bot_x*c620_mf_bot+c660_bot_x*c660_mf_bot)\n",
        "    upper_bf = pd.DataFrame(upper_bf,index=idx,columns=self.c670_col['upper_bf'])\n",
        "    upper_bf[list(set(self.index_9999)&set(upper_bf.columns))] = 0.9999\n",
        "    upper_bf[list(set(self.index_0001)&set(upper_bf.columns))] = 0.0001\n",
        "    \n",
        "    # c670 input (feed%bf)\n",
        "    c670_input = c670_feed.join(upper_bf)\n",
        "    c670_output = self.c670_model.predict(c670_input)\n",
        "    c670_sf,c670_op = c670_output.iloc[:,:41*2],c670_output.iloc[:,41*2:]\n",
        "    s1 = c670_sf[self.c670_col['distillate_sf']].values\n",
        "    s2 = c670_sf[self.c670_col['bottoms_sf']].values\n",
        "    w1 = sp2wt(c670_feed,s1)\n",
        "    w2 = sp2wt(c670_feed,s2)\n",
        "    c670_wt = np.hstack((w1,w2))\n",
        "    c670_wt = pd.DataFrame(c670_wt,index = idx,columns=self.c670_col['distillate_x']+self.c670_col['bottoms_x'])\n",
        "    \n",
        "    return c620_wt,c620_op,c660_wt,c660_op,c670_wt,c670_op"
      ],
      "execution_count": 11,
      "outputs": []
    },
    {
      "cell_type": "markdown",
      "metadata": {
        "id": "Cb7TJSTp444q"
      },
      "source": [
        "# 試算模式測試"
      ]
    },
    {
      "cell_type": "code",
      "metadata": {
        "id": "bEL2f8Kmq9ow"
      },
      "source": [
        "f = F(config)\r\n",
        "f.Recommended_mode = False"
      ],
      "execution_count": 12,
      "outputs": []
    },
    {
      "cell_type": "code",
      "metadata": {
        "id": "0cjAoL-Z4q4z"
      },
      "source": [
        "commom_idx = list(set(icg_df.index)&\n",
        "      set(c620_df.index)&\n",
        "      set(c660_df.index)&\n",
        "      set(c670_df.index)&\n",
        "      set(t651_df.index))\n",
        "idx = np.random.choice(commom_idx,size=100,replace=False,p=None)\n",
        "\n",
        "# minibatch input \n",
        "icg_input = icg_input.loc[idx]\n",
        "c620_Receiver_Temp = c620_Receiver_Temp.loc[idx]\n",
        "c620_dist_rate = c620_df.loc[idx,'Tatoray Stripper C620 Operation_Specifications_Spec 2 : Distillate Rate_m3/hr']\n",
        "c660_case_Toluene_in_Benzene_ppmw = c660_df.loc[idx,'Benzene Column C660 Operation_Specifications_Spec 3 : Toluene in Benzene_ppmw']\n",
        "c620_feed = c620_feed.loc[idx]\n",
        "t651_feed = t651_feed.loc[idx]\n",
        "\n",
        "# minibatch output \n",
        "c620_op = c620_op.loc[idx]\n",
        "c620_wt = c620_wt.loc[idx]\n",
        "c660_op = c660_op.loc[idx]\n",
        "c660_wt = c660_wt.loc[idx]\n",
        "c670_op = c670_op.loc[idx]\n",
        "c670_wt = c670_wt.loc[idx]"
      ],
      "execution_count": 13,
      "outputs": []
    },
    {
      "cell_type": "markdown",
      "metadata": {
        "id": "gEW6WdmS-m55"
      },
      "source": [
        "# predict output"
      ]
    },
    {
      "cell_type": "code",
      "metadata": {
        "id": "z23Si7irsA5P"
      },
      "source": [
        "# 試算模式 c620_case_Distillate_Rate 和 c660_case_Toluene in Benzene_ppmw 需要使用者輸入\n",
        "other_args = {'c620_case_Distillate_Rate':c620_dist_rate,\n",
        "              'c660_case_Toluene in Benzene_ppmw':c660_case_Toluene_in_Benzene_ppmw,\n",
        "              }\n",
        "c620_wt_,c620_op_,c660_wt_,c660_op_,c670_wt_,c670_op_ = f(icg_input,c620_Receiver_Temp,c620_feed,t651_feed,other_args)"
      ],
      "execution_count": 14,
      "outputs": []
    },
    {
      "cell_type": "markdown",
      "metadata": {
        "id": "7X3v7hYJ6jfh"
      },
      "source": [
        "# c620 show_metrics"
      ]
    },
    {
      "cell_type": "code",
      "metadata": {
        "colab": {
          "base_uri": "https://localhost:8080/",
          "height": 407
        },
        "id": "qrGCMeFvsBEV",
        "outputId": "72149167-d4e6-486b-a0de-42708033a229"
      },
      "source": [
        "f.c620_model.show_metrics(c620_wt,c620_wt_,e=2e-2)"
      ],
      "execution_count": 15,
      "outputs": [
        {
          "output_type": "execute_result",
          "data": {
            "text/html": [
              "<div>\n",
              "<style scoped>\n",
              "    .dataframe tbody tr th:only-of-type {\n",
              "        vertical-align: middle;\n",
              "    }\n",
              "\n",
              "    .dataframe tbody tr th {\n",
              "        vertical-align: top;\n",
              "    }\n",
              "\n",
              "    .dataframe thead th {\n",
              "        text-align: right;\n",
              "    }\n",
              "</style>\n",
              "<table border=\"1\" class=\"dataframe\">\n",
              "  <thead>\n",
              "    <tr style=\"text-align: right;\">\n",
              "      <th></th>\n",
              "      <th>R2</th>\n",
              "      <th>MSE</th>\n",
              "      <th>MAPE</th>\n",
              "    </tr>\n",
              "  </thead>\n",
              "  <tbody>\n",
              "    <tr>\n",
              "      <th>Tatoray Stripper C620 Operation_Vent Gas Production Rate and Composition_Hydrogen_wt%</th>\n",
              "      <td>1</td>\n",
              "      <td>0</td>\n",
              "      <td>NaN</td>\n",
              "    </tr>\n",
              "    <tr>\n",
              "      <th>Tatoray Stripper C620 Operation_Vent Gas Production Rate and Composition_Methane_wt%</th>\n",
              "      <td>0.998752</td>\n",
              "      <td>1.42154e-05</td>\n",
              "      <td>0.171386</td>\n",
              "    </tr>\n",
              "    <tr>\n",
              "      <th>Tatoray Stripper C620 Operation_Vent Gas Production Rate and Composition_Ethane_wt%</th>\n",
              "      <td>0.998629</td>\n",
              "      <td>0.003795</td>\n",
              "      <td>0.126248</td>\n",
              "    </tr>\n",
              "    <tr>\n",
              "      <th>Tatoray Stripper C620 Operation_Vent Gas Production Rate and Composition_Propane_wt%</th>\n",
              "      <td>0.991609</td>\n",
              "      <td>0.0011891</td>\n",
              "      <td>0.0536893</td>\n",
              "    </tr>\n",
              "    <tr>\n",
              "      <th>Tatoray Stripper C620 Operation_Vent Gas Production Rate and Composition_n-Butane_wt%</th>\n",
              "      <td>0.999016</td>\n",
              "      <td>0.000987112</td>\n",
              "      <td>0.287108</td>\n",
              "    </tr>\n",
              "    <tr>\n",
              "      <th>...</th>\n",
              "      <td>...</td>\n",
              "      <td>...</td>\n",
              "      <td>...</td>\n",
              "    </tr>\n",
              "    <tr>\n",
              "      <th>Tatoray Stripper C620 Operation_Bottoms Production Rate and Composition_n-Pentylbenzene_wt%</th>\n",
              "      <td>0.999998</td>\n",
              "      <td>5.87262e-09</td>\n",
              "      <td>0.0151719</td>\n",
              "    </tr>\n",
              "    <tr>\n",
              "      <th>Tatoray Stripper C620 Operation_Bottoms Production Rate and Composition_n-Hexylbenzene_wt%</th>\n",
              "      <td>0.999998</td>\n",
              "      <td>1.08274e-09</td>\n",
              "      <td>0.0151733</td>\n",
              "    </tr>\n",
              "    <tr>\n",
              "      <th>Tatoray Stripper C620 Operation_Bottoms Production Rate and Composition_Nitrogen_wt%</th>\n",
              "      <td>1</td>\n",
              "      <td>0</td>\n",
              "      <td>NaN</td>\n",
              "    </tr>\n",
              "    <tr>\n",
              "      <th>Tatoray Stripper C620 Operation_Bottoms Production Rate and Composition_Oxygen_wt%</th>\n",
              "      <td>1</td>\n",
              "      <td>0</td>\n",
              "      <td>NaN</td>\n",
              "    </tr>\n",
              "    <tr>\n",
              "      <th>AVG</th>\n",
              "      <td>0.918896</td>\n",
              "      <td>0.110019</td>\n",
              "      <td>1.92804</td>\n",
              "    </tr>\n",
              "  </tbody>\n",
              "</table>\n",
              "<p>165 rows × 3 columns</p>\n",
              "</div>"
            ],
            "text/plain": [
              "                                                          R2  ...       MAPE\n",
              "Tatoray Stripper C620 Operation_Vent Gas Produc...         1  ...        NaN\n",
              "Tatoray Stripper C620 Operation_Vent Gas Produc...  0.998752  ...   0.171386\n",
              "Tatoray Stripper C620 Operation_Vent Gas Produc...  0.998629  ...   0.126248\n",
              "Tatoray Stripper C620 Operation_Vent Gas Produc...  0.991609  ...  0.0536893\n",
              "Tatoray Stripper C620 Operation_Vent Gas Produc...  0.999016  ...   0.287108\n",
              "...                                                      ...  ...        ...\n",
              "Tatoray Stripper C620 Operation_Bottoms Product...  0.999998  ...  0.0151719\n",
              "Tatoray Stripper C620 Operation_Bottoms Product...  0.999998  ...  0.0151733\n",
              "Tatoray Stripper C620 Operation_Bottoms Product...         1  ...        NaN\n",
              "Tatoray Stripper C620 Operation_Bottoms Product...         1  ...        NaN\n",
              "AVG                                                 0.918896  ...    1.92804\n",
              "\n",
              "[165 rows x 3 columns]"
            ]
          },
          "metadata": {
            "tags": []
          },
          "execution_count": 15
        }
      ]
    },
    {
      "cell_type": "code",
      "metadata": {
        "colab": {
          "base_uri": "https://localhost:8080/",
          "height": 378
        },
        "id": "I8RmO0CosBG9",
        "outputId": "450dac58-e341-4fa4-e1e8-48b660b589f2"
      },
      "source": [
        "f.c620_model.show_metrics(c620_op,c620_op_,e=2e-2)"
      ],
      "execution_count": 16,
      "outputs": [
        {
          "output_type": "execute_result",
          "data": {
            "text/html": [
              "<div>\n",
              "<style scoped>\n",
              "    .dataframe tbody tr th:only-of-type {\n",
              "        vertical-align: middle;\n",
              "    }\n",
              "\n",
              "    .dataframe tbody tr th {\n",
              "        vertical-align: top;\n",
              "    }\n",
              "\n",
              "    .dataframe thead th {\n",
              "        text-align: right;\n",
              "    }\n",
              "</style>\n",
              "<table border=\"1\" class=\"dataframe\">\n",
              "  <thead>\n",
              "    <tr style=\"text-align: right;\">\n",
              "      <th></th>\n",
              "      <th>R2</th>\n",
              "      <th>MSE</th>\n",
              "      <th>MAPE</th>\n",
              "    </tr>\n",
              "  </thead>\n",
              "  <tbody>\n",
              "    <tr>\n",
              "      <th>Density_Feed Properties</th>\n",
              "      <td>0.999969</td>\n",
              "      <td>4.40599e-11</td>\n",
              "      <td>0.000575487</td>\n",
              "    </tr>\n",
              "    <tr>\n",
              "      <th>Density_Vent Gas Production Rate and Composition</th>\n",
              "      <td>0.990206</td>\n",
              "      <td>1.34605e-07</td>\n",
              "      <td>0.0722198</td>\n",
              "    </tr>\n",
              "    <tr>\n",
              "      <th>Density_Distillate Production Rate and Composition</th>\n",
              "      <td>0.997128</td>\n",
              "      <td>2.19086e-07</td>\n",
              "      <td>0.0463798</td>\n",
              "    </tr>\n",
              "    <tr>\n",
              "      <th>Density_Sidedraw Production Rate and Composition</th>\n",
              "      <td>0.999855</td>\n",
              "      <td>1.79225e-10</td>\n",
              "      <td>0.00126409</td>\n",
              "    </tr>\n",
              "    <tr>\n",
              "      <th>Density_Bottoms Production Rate and Composition</th>\n",
              "      <td>0.999583</td>\n",
              "      <td>6.24707e-12</td>\n",
              "      <td>0.000230574</td>\n",
              "    </tr>\n",
              "    <tr>\n",
              "      <th>Tatoray Stripper C620 Operation_Yield Summary_Reflux Rate_m3/hr</th>\n",
              "      <td>0.999326</td>\n",
              "      <td>0.0643015</td>\n",
              "      <td>0.161843</td>\n",
              "    </tr>\n",
              "    <tr>\n",
              "      <th>Tatoray Stripper C620 Operation_Heat Duty_Condenser Heat Duty_Mkcal/hr</th>\n",
              "      <td>0.999435</td>\n",
              "      <td>0.00050806</td>\n",
              "      <td>0.135134</td>\n",
              "    </tr>\n",
              "    <tr>\n",
              "      <th>Tatoray Stripper C620 Operation_Heat Duty_Reboiler Heat Duty_Mkcal/hr</th>\n",
              "      <td>0.999406</td>\n",
              "      <td>0.000721498</td>\n",
              "      <td>0.139229</td>\n",
              "    </tr>\n",
              "    <tr>\n",
              "      <th>Tatoray Stripper C620 Operation_Column Temp Profile_C620 Tray 14 (Control)_oC</th>\n",
              "      <td>0.999788</td>\n",
              "      <td>0.00031966</td>\n",
              "      <td>0.00821546</td>\n",
              "    </tr>\n",
              "    <tr>\n",
              "      <th>Tatoray Stripper C620 Operation_Column Temp Profile_C620 Tray 34 (Control)_oC</th>\n",
              "      <td>0.999612</td>\n",
              "      <td>0.000356174</td>\n",
              "      <td>0.00761919</td>\n",
              "    </tr>\n",
              "    <tr>\n",
              "      <th>AVG</th>\n",
              "      <td>0.998431</td>\n",
              "      <td>0.00662072</td>\n",
              "      <td>0.057271</td>\n",
              "    </tr>\n",
              "  </tbody>\n",
              "</table>\n",
              "</div>"
            ],
            "text/plain": [
              "                                                          R2  ...         MAPE\n",
              "Density_Feed Properties                             0.999969  ...  0.000575487\n",
              "Density_Vent Gas Production Rate and Composition    0.990206  ...    0.0722198\n",
              "Density_Distillate Production Rate and Composition  0.997128  ...    0.0463798\n",
              "Density_Sidedraw Production Rate and Composition    0.999855  ...   0.00126409\n",
              "Density_Bottoms Production Rate and Composition     0.999583  ...  0.000230574\n",
              "Tatoray Stripper C620 Operation_Yield Summary_R...  0.999326  ...     0.161843\n",
              "Tatoray Stripper C620 Operation_Heat Duty_Conde...  0.999435  ...     0.135134\n",
              "Tatoray Stripper C620 Operation_Heat Duty_Reboi...  0.999406  ...     0.139229\n",
              "Tatoray Stripper C620 Operation_Column Temp Pro...  0.999788  ...   0.00821546\n",
              "Tatoray Stripper C620 Operation_Column Temp Pro...  0.999612  ...   0.00761919\n",
              "AVG                                                 0.998431  ...     0.057271\n",
              "\n",
              "[11 rows x 3 columns]"
            ]
          },
          "metadata": {
            "tags": []
          },
          "execution_count": 16
        }
      ]
    },
    {
      "cell_type": "markdown",
      "metadata": {
        "id": "P37pbl4F-wJE"
      },
      "source": [
        "# c660 show_metrics"
      ]
    },
    {
      "cell_type": "code",
      "metadata": {
        "colab": {
          "base_uri": "https://localhost:8080/",
          "height": 407
        },
        "id": "A6SzCgpXsBJr",
        "outputId": "9bb96ae3-bcc6-494a-c78b-8c1bcebaf7ff"
      },
      "source": [
        "f.c660_model.show_metrics(c660_wt,c660_wt_,e=2e-2)"
      ],
      "execution_count": 17,
      "outputs": [
        {
          "output_type": "execute_result",
          "data": {
            "text/html": [
              "<div>\n",
              "<style scoped>\n",
              "    .dataframe tbody tr th:only-of-type {\n",
              "        vertical-align: middle;\n",
              "    }\n",
              "\n",
              "    .dataframe tbody tr th {\n",
              "        vertical-align: top;\n",
              "    }\n",
              "\n",
              "    .dataframe thead th {\n",
              "        text-align: right;\n",
              "    }\n",
              "</style>\n",
              "<table border=\"1\" class=\"dataframe\">\n",
              "  <thead>\n",
              "    <tr style=\"text-align: right;\">\n",
              "      <th></th>\n",
              "      <th>R2</th>\n",
              "      <th>MSE</th>\n",
              "      <th>MAPE</th>\n",
              "    </tr>\n",
              "  </thead>\n",
              "  <tbody>\n",
              "    <tr>\n",
              "      <th>Benzene Column C660 Operation_Vent Gas Production Rate and Composition_Hydrogen_wt%</th>\n",
              "      <td>1</td>\n",
              "      <td>0</td>\n",
              "      <td>NaN</td>\n",
              "    </tr>\n",
              "    <tr>\n",
              "      <th>Benzene Column C660 Operation_Vent Gas Production Rate and Composition_Methane_wt%</th>\n",
              "      <td>0.983479</td>\n",
              "      <td>0.00344141</td>\n",
              "      <td>2.69186</td>\n",
              "    </tr>\n",
              "    <tr>\n",
              "      <th>Benzene Column C660 Operation_Vent Gas Production Rate and Composition_Ethane_wt%</th>\n",
              "      <td>0.994691</td>\n",
              "      <td>0.233741</td>\n",
              "      <td>1.14436</td>\n",
              "    </tr>\n",
              "    <tr>\n",
              "      <th>Benzene Column C660 Operation_Vent Gas Production Rate and Composition_Propane_wt%</th>\n",
              "      <td>0.986079</td>\n",
              "      <td>0.0983153</td>\n",
              "      <td>1.01924</td>\n",
              "    </tr>\n",
              "    <tr>\n",
              "      <th>Benzene Column C660 Operation_Vent Gas Production Rate and Composition_n-Butane_wt%</th>\n",
              "      <td>0.997734</td>\n",
              "      <td>0.0300885</td>\n",
              "      <td>2.0244</td>\n",
              "    </tr>\n",
              "    <tr>\n",
              "      <th>...</th>\n",
              "      <td>...</td>\n",
              "      <td>...</td>\n",
              "      <td>...</td>\n",
              "    </tr>\n",
              "    <tr>\n",
              "      <th>Benzene Column C660 Operation_Bottoms Production Rate and Composition_n-Pentylbenzene_wt%</th>\n",
              "      <td>0.999937</td>\n",
              "      <td>9.31437e-28</td>\n",
              "      <td>NaN</td>\n",
              "    </tr>\n",
              "    <tr>\n",
              "      <th>Benzene Column C660 Operation_Bottoms Production Rate and Composition_n-Hexylbenzene_wt%</th>\n",
              "      <td>0.999944</td>\n",
              "      <td>1.00628e-33</td>\n",
              "      <td>NaN</td>\n",
              "    </tr>\n",
              "    <tr>\n",
              "      <th>Benzene Column C660 Operation_Bottoms Production Rate and Composition_Nitrogen_wt%</th>\n",
              "      <td>1</td>\n",
              "      <td>0</td>\n",
              "      <td>NaN</td>\n",
              "    </tr>\n",
              "    <tr>\n",
              "      <th>Benzene Column C660 Operation_Bottoms Production Rate and Composition_Oxygen_wt%</th>\n",
              "      <td>1</td>\n",
              "      <td>0</td>\n",
              "      <td>NaN</td>\n",
              "    </tr>\n",
              "    <tr>\n",
              "      <th>AVG</th>\n",
              "      <td>0.800423</td>\n",
              "      <td>0.00590354</td>\n",
              "      <td>1.08789</td>\n",
              "    </tr>\n",
              "  </tbody>\n",
              "</table>\n",
              "<p>165 rows × 3 columns</p>\n",
              "</div>"
            ],
            "text/plain": [
              "                                                          R2  ...     MAPE\n",
              "Benzene Column C660 Operation_Vent Gas Producti...         1  ...      NaN\n",
              "Benzene Column C660 Operation_Vent Gas Producti...  0.983479  ...  2.69186\n",
              "Benzene Column C660 Operation_Vent Gas Producti...  0.994691  ...  1.14436\n",
              "Benzene Column C660 Operation_Vent Gas Producti...  0.986079  ...  1.01924\n",
              "Benzene Column C660 Operation_Vent Gas Producti...  0.997734  ...   2.0244\n",
              "...                                                      ...  ...      ...\n",
              "Benzene Column C660 Operation_Bottoms Productio...  0.999937  ...      NaN\n",
              "Benzene Column C660 Operation_Bottoms Productio...  0.999944  ...      NaN\n",
              "Benzene Column C660 Operation_Bottoms Productio...         1  ...      NaN\n",
              "Benzene Column C660 Operation_Bottoms Productio...         1  ...      NaN\n",
              "AVG                                                 0.800423  ...  1.08789\n",
              "\n",
              "[165 rows x 3 columns]"
            ]
          },
          "metadata": {
            "tags": []
          },
          "execution_count": 17
        }
      ]
    },
    {
      "cell_type": "code",
      "metadata": {
        "colab": {
          "base_uri": "https://localhost:8080/",
          "height": 378
        },
        "id": "pYJcYfOsztlz",
        "outputId": "79700e6f-1854-4ca9-eaea-61c37b64ad81"
      },
      "source": [
        "f.c660_model.show_metrics(c660_op,c660_op_,e=2e-2)"
      ],
      "execution_count": 18,
      "outputs": [
        {
          "output_type": "execute_result",
          "data": {
            "text/html": [
              "<div>\n",
              "<style scoped>\n",
              "    .dataframe tbody tr th:only-of-type {\n",
              "        vertical-align: middle;\n",
              "    }\n",
              "\n",
              "    .dataframe tbody tr th {\n",
              "        vertical-align: top;\n",
              "    }\n",
              "\n",
              "    .dataframe thead th {\n",
              "        text-align: right;\n",
              "    }\n",
              "</style>\n",
              "<table border=\"1\" class=\"dataframe\">\n",
              "  <thead>\n",
              "    <tr style=\"text-align: right;\">\n",
              "      <th></th>\n",
              "      <th>R2</th>\n",
              "      <th>MSE</th>\n",
              "      <th>MAPE</th>\n",
              "    </tr>\n",
              "  </thead>\n",
              "  <tbody>\n",
              "    <tr>\n",
              "      <th>Density_Feed Properties</th>\n",
              "      <td>0.996133</td>\n",
              "      <td>2.94533e-09</td>\n",
              "      <td>0.00487749</td>\n",
              "    </tr>\n",
              "    <tr>\n",
              "      <th>Density_Vent Gas Production Rate and Composition</th>\n",
              "      <td>0.99909</td>\n",
              "      <td>3.3015e-07</td>\n",
              "      <td>0.0832019</td>\n",
              "    </tr>\n",
              "    <tr>\n",
              "      <th>Density_Distillate (Benzene Drag) Production Rate and Composition</th>\n",
              "      <td>0.998316</td>\n",
              "      <td>1.41733e-07</td>\n",
              "      <td>0.0337997</td>\n",
              "    </tr>\n",
              "    <tr>\n",
              "      <th>Density_Sidedraw (Benzene )Production Rate and Composition</th>\n",
              "      <td>0.97264</td>\n",
              "      <td>1.85684e-12</td>\n",
              "      <td>0.000121101</td>\n",
              "    </tr>\n",
              "    <tr>\n",
              "      <th>Density_Bottoms Production Rate and Composition</th>\n",
              "      <td>0.999192</td>\n",
              "      <td>6.0728e-11</td>\n",
              "      <td>0.000704016</td>\n",
              "    </tr>\n",
              "    <tr>\n",
              "      <th>Benzene Column C660 Operation_Yield Summary_Reflux Rate_m3/hr</th>\n",
              "      <td>0.998133</td>\n",
              "      <td>1.4259</td>\n",
              "      <td>0.725101</td>\n",
              "    </tr>\n",
              "    <tr>\n",
              "      <th>Benzene Column C660 Operation_Heat Duty_Condenser Heat Duty_Mkcal/hr</th>\n",
              "      <td>0.997912</td>\n",
              "      <td>0.0120623</td>\n",
              "      <td>0.675153</td>\n",
              "    </tr>\n",
              "    <tr>\n",
              "      <th>Benzene Column C660 Operation_Heat Duty_Reboiler Heat Duty_Mkcal/hr</th>\n",
              "      <td>0.998158</td>\n",
              "      <td>0.0113959</td>\n",
              "      <td>0.68815</td>\n",
              "    </tr>\n",
              "    <tr>\n",
              "      <th>Benzene Column C660 Operation_Column Temp Profile_C660 Tray 6 (SD &amp; Control)_oC</th>\n",
              "      <td>0.998011</td>\n",
              "      <td>7.51366e-05</td>\n",
              "      <td>0.00809616</td>\n",
              "    </tr>\n",
              "    <tr>\n",
              "      <th>Benzene Column C660 Operation_Column Temp Profile_C660 Tray 23 (Control)_oC</th>\n",
              "      <td>0.998444</td>\n",
              "      <td>0.00112383</td>\n",
              "      <td>0.0291848</td>\n",
              "    </tr>\n",
              "    <tr>\n",
              "      <th>AVG</th>\n",
              "      <td>0.995603</td>\n",
              "      <td>0.145055</td>\n",
              "      <td>0.224839</td>\n",
              "    </tr>\n",
              "  </tbody>\n",
              "</table>\n",
              "</div>"
            ],
            "text/plain": [
              "                                                          R2  ...         MAPE\n",
              "Density_Feed Properties                             0.996133  ...   0.00487749\n",
              "Density_Vent Gas Production Rate and Composition     0.99909  ...    0.0832019\n",
              "Density_Distillate (Benzene Drag) Production Ra...  0.998316  ...    0.0337997\n",
              "Density_Sidedraw (Benzene )Production Rate and ...   0.97264  ...  0.000121101\n",
              "Density_Bottoms Production Rate and Composition     0.999192  ...  0.000704016\n",
              "Benzene Column C660 Operation_Yield Summary_Ref...  0.998133  ...     0.725101\n",
              "Benzene Column C660 Operation_Heat Duty_Condens...  0.997912  ...     0.675153\n",
              "Benzene Column C660 Operation_Heat Duty_Reboile...  0.998158  ...      0.68815\n",
              "Benzene Column C660 Operation_Column Temp Profi...  0.998011  ...   0.00809616\n",
              "Benzene Column C660 Operation_Column Temp Profi...  0.998444  ...    0.0291848\n",
              "AVG                                                 0.995603  ...     0.224839\n",
              "\n",
              "[11 rows x 3 columns]"
            ]
          },
          "metadata": {
            "tags": []
          },
          "execution_count": 18
        }
      ]
    },
    {
      "cell_type": "markdown",
      "metadata": {
        "id": "ojwKS0TP-yTa"
      },
      "source": [
        "# c670 show_metrics"
      ]
    },
    {
      "cell_type": "code",
      "metadata": {
        "colab": {
          "base_uri": "https://localhost:8080/",
          "height": 407
        },
        "id": "odK0RWomzwNE",
        "outputId": "46815a24-559b-4e4e-ede1-b03dd72b6d67"
      },
      "source": [
        "f.c670_model.show_metrics(c670_wt,c670_wt_,e=2e-2)"
      ],
      "execution_count": 19,
      "outputs": [
        {
          "output_type": "execute_result",
          "data": {
            "text/html": [
              "<div>\n",
              "<style scoped>\n",
              "    .dataframe tbody tr th:only-of-type {\n",
              "        vertical-align: middle;\n",
              "    }\n",
              "\n",
              "    .dataframe tbody tr th {\n",
              "        vertical-align: top;\n",
              "    }\n",
              "\n",
              "    .dataframe thead th {\n",
              "        text-align: right;\n",
              "    }\n",
              "</style>\n",
              "<table border=\"1\" class=\"dataframe\">\n",
              "  <thead>\n",
              "    <tr style=\"text-align: right;\">\n",
              "      <th></th>\n",
              "      <th>R2</th>\n",
              "      <th>MSE</th>\n",
              "      <th>MAPE</th>\n",
              "    </tr>\n",
              "  </thead>\n",
              "  <tbody>\n",
              "    <tr>\n",
              "      <th>Toluene Column C670 Operation_Distillate Production Rate and Composition_Hydrogen_wt%</th>\n",
              "      <td>1</td>\n",
              "      <td>0</td>\n",
              "      <td>NaN</td>\n",
              "    </tr>\n",
              "    <tr>\n",
              "      <th>Toluene Column C670 Operation_Distillate Production Rate and Composition_Methane_wt%</th>\n",
              "      <td>0</td>\n",
              "      <td>1.04324e-12</td>\n",
              "      <td>NaN</td>\n",
              "    </tr>\n",
              "    <tr>\n",
              "      <th>Toluene Column C670 Operation_Distillate Production Rate and Composition_Ethane_wt%</th>\n",
              "      <td>0</td>\n",
              "      <td>4.90525e-10</td>\n",
              "      <td>NaN</td>\n",
              "    </tr>\n",
              "    <tr>\n",
              "      <th>Toluene Column C670 Operation_Distillate Production Rate and Composition_Propane_wt%</th>\n",
              "      <td>0</td>\n",
              "      <td>4.52695e-10</td>\n",
              "      <td>NaN</td>\n",
              "    </tr>\n",
              "    <tr>\n",
              "      <th>Toluene Column C670 Operation_Distillate Production Rate and Composition_n-Butane_wt%</th>\n",
              "      <td>0</td>\n",
              "      <td>6.88081e-47</td>\n",
              "      <td>NaN</td>\n",
              "    </tr>\n",
              "    <tr>\n",
              "      <th>...</th>\n",
              "      <td>...</td>\n",
              "      <td>...</td>\n",
              "      <td>...</td>\n",
              "    </tr>\n",
              "    <tr>\n",
              "      <th>Toluene Column C670 Operation_Bottoms Production Rate and Composition_n-Pentylbenzene_wt%</th>\n",
              "      <td>1</td>\n",
              "      <td>5.29013e-09</td>\n",
              "      <td>0.00908709</td>\n",
              "    </tr>\n",
              "    <tr>\n",
              "      <th>Toluene Column C670 Operation_Bottoms Production Rate and Composition_n-Hexylbenzene_wt%</th>\n",
              "      <td>1</td>\n",
              "      <td>1.01894e-09</td>\n",
              "      <td>0.00919042</td>\n",
              "    </tr>\n",
              "    <tr>\n",
              "      <th>Toluene Column C670 Operation_Bottoms Production Rate and Composition_Nitrogen_wt%</th>\n",
              "      <td>1</td>\n",
              "      <td>0</td>\n",
              "      <td>NaN</td>\n",
              "    </tr>\n",
              "    <tr>\n",
              "      <th>Toluene Column C670 Operation_Bottoms Production Rate and Composition_Oxygen_wt%</th>\n",
              "      <td>1</td>\n",
              "      <td>0</td>\n",
              "      <td>NaN</td>\n",
              "    </tr>\n",
              "    <tr>\n",
              "      <th>AVG</th>\n",
              "      <td>0.828788</td>\n",
              "      <td>4.37792e-07</td>\n",
              "      <td>0.0521409</td>\n",
              "    </tr>\n",
              "  </tbody>\n",
              "</table>\n",
              "<p>83 rows × 3 columns</p>\n",
              "</div>"
            ],
            "text/plain": [
              "                                                          R2  ...        MAPE\n",
              "Toluene Column C670 Operation_Distillate Produc...         1  ...         NaN\n",
              "Toluene Column C670 Operation_Distillate Produc...         0  ...         NaN\n",
              "Toluene Column C670 Operation_Distillate Produc...         0  ...         NaN\n",
              "Toluene Column C670 Operation_Distillate Produc...         0  ...         NaN\n",
              "Toluene Column C670 Operation_Distillate Produc...         0  ...         NaN\n",
              "...                                                      ...  ...         ...\n",
              "Toluene Column C670 Operation_Bottoms Productio...         1  ...  0.00908709\n",
              "Toluene Column C670 Operation_Bottoms Productio...         1  ...  0.00919042\n",
              "Toluene Column C670 Operation_Bottoms Productio...         1  ...         NaN\n",
              "Toluene Column C670 Operation_Bottoms Productio...         1  ...         NaN\n",
              "AVG                                                 0.828788  ...   0.0521409\n",
              "\n",
              "[83 rows x 3 columns]"
            ]
          },
          "metadata": {
            "tags": []
          },
          "execution_count": 19
        }
      ]
    },
    {
      "cell_type": "code",
      "metadata": {
        "colab": {
          "base_uri": "https://localhost:8080/",
          "height": 288
        },
        "id": "AF7PspgF29yO",
        "outputId": "5ca910d3-3797-44f8-9110-256720200573"
      },
      "source": [
        "f.c670_model.show_metrics(c670_op,c670_op_,e=2e-2)"
      ],
      "execution_count": 20,
      "outputs": [
        {
          "output_type": "execute_result",
          "data": {
            "text/html": [
              "<div>\n",
              "<style scoped>\n",
              "    .dataframe tbody tr th:only-of-type {\n",
              "        vertical-align: middle;\n",
              "    }\n",
              "\n",
              "    .dataframe tbody tr th {\n",
              "        vertical-align: top;\n",
              "    }\n",
              "\n",
              "    .dataframe thead th {\n",
              "        text-align: right;\n",
              "    }\n",
              "</style>\n",
              "<table border=\"1\" class=\"dataframe\">\n",
              "  <thead>\n",
              "    <tr style=\"text-align: right;\">\n",
              "      <th></th>\n",
              "      <th>R2</th>\n",
              "      <th>MSE</th>\n",
              "      <th>MAPE</th>\n",
              "    </tr>\n",
              "  </thead>\n",
              "  <tbody>\n",
              "    <tr>\n",
              "      <th>Density_Distillate Production Rate and Composition</th>\n",
              "      <td>0.998151</td>\n",
              "      <td>1.54688e-12</td>\n",
              "      <td>0.000113575</td>\n",
              "    </tr>\n",
              "    <tr>\n",
              "      <th>Density_Bottoms Production Rate and Composition</th>\n",
              "      <td>0.999093</td>\n",
              "      <td>1.59236e-10</td>\n",
              "      <td>0.0011039</td>\n",
              "    </tr>\n",
              "    <tr>\n",
              "      <th>Toluene Column C670 Operation_Yield \\nSummary_Reflux Rate_m3/hr</th>\n",
              "      <td>0.994529</td>\n",
              "      <td>3.14013</td>\n",
              "      <td>0.531158</td>\n",
              "    </tr>\n",
              "    <tr>\n",
              "      <th>Toluene Column C670 Operation_Heat Duty_Condenser Heat Duty_Mkcal/hr</th>\n",
              "      <td>0.994654</td>\n",
              "      <td>0.0402885</td>\n",
              "      <td>0.539808</td>\n",
              "    </tr>\n",
              "    <tr>\n",
              "      <th>Toluene Column C670 Operation_Heat Duty_Reboiler Heat Duty_Mkcal/hr</th>\n",
              "      <td>0.994216</td>\n",
              "      <td>0.0424027</td>\n",
              "      <td>0.5391</td>\n",
              "    </tr>\n",
              "    <tr>\n",
              "      <th>Toluene Column C670 Operation_Column Temp Profile_C670 Tray 24 (Control)_oC</th>\n",
              "      <td>0.996552</td>\n",
              "      <td>0.000196194</td>\n",
              "      <td>0.00599463</td>\n",
              "    </tr>\n",
              "    <tr>\n",
              "      <th>Toluene Column C670 Operation_Column Temp Profile_C670 Btm Temp (Control)_oC</th>\n",
              "      <td>0.998131</td>\n",
              "      <td>0.00431257</td>\n",
              "      <td>0.0235868</td>\n",
              "    </tr>\n",
              "    <tr>\n",
              "      <th>AVG</th>\n",
              "      <td>0.996475</td>\n",
              "      <td>0.461048</td>\n",
              "      <td>0.234409</td>\n",
              "    </tr>\n",
              "  </tbody>\n",
              "</table>\n",
              "</div>"
            ],
            "text/plain": [
              "                                                          R2  ...         MAPE\n",
              "Density_Distillate Production Rate and Composition  0.998151  ...  0.000113575\n",
              "Density_Bottoms Production Rate and Composition     0.999093  ...    0.0011039\n",
              "Toluene Column C670 Operation_Yield \\nSummary_R...  0.994529  ...     0.531158\n",
              "Toluene Column C670 Operation_Heat Duty_Condens...  0.994654  ...     0.539808\n",
              "Toluene Column C670 Operation_Heat Duty_Reboile...  0.994216  ...       0.5391\n",
              "Toluene Column C670 Operation_Column Temp Profi...  0.996552  ...   0.00599463\n",
              "Toluene Column C670 Operation_Column Temp Profi...  0.998131  ...    0.0235868\n",
              "AVG                                                 0.996475  ...     0.234409\n",
              "\n",
              "[8 rows x 3 columns]"
            ]
          },
          "metadata": {
            "tags": []
          },
          "execution_count": 20
        }
      ]
    },
    {
      "cell_type": "markdown",
      "metadata": {
        "id": "xHtEOnkCnomJ"
      },
      "source": [
        "# 推薦模式 測試"
      ]
    },
    {
      "cell_type": "code",
      "metadata": {
        "id": "Zmu8FCxhVIri",
        "outputId": "9ce01177-efd4-4761-d6ec-f6745ba1a81a",
        "colab": {
          "base_uri": "https://localhost:8080/"
        }
      },
      "source": [
        "# change mode\n",
        "f.Recommended_mode = True\n",
        "f.Recommended_mode"
      ],
      "execution_count": 21,
      "outputs": [
        {
          "output_type": "execute_result",
          "data": {
            "text/plain": [
              "True"
            ]
          },
          "metadata": {
            "tags": []
          },
          "execution_count": 21
        }
      ]
    },
    {
      "cell_type": "code",
      "metadata": {
        "id": "J2fSD-la4UZT",
        "colab": {
          "base_uri": "https://localhost:8080/",
          "height": 185
        },
        "outputId": "737c2574-2902-4c4e-b82f-692ba175041e"
      },
      "source": [
        "# select one sample c620_side == 70 & NA in Benzene == 980\n",
        "cond = (icg_input['Simulation Case Conditions_Spec 1 : Benzene in C620 Sidedraw_wt%']==70)&(icg_input['Simulation Case Conditions_Spec 2 : NA in Benzene_ppmw']==980)\n",
        "one_sample = icg_input.loc[cond].sample(1)\n",
        "one_sample"
      ],
      "execution_count": 22,
      "outputs": [
        {
          "output_type": "execute_result",
          "data": {
            "text/html": [
              "<div>\n",
              "<style scoped>\n",
              "    .dataframe tbody tr th:only-of-type {\n",
              "        vertical-align: middle;\n",
              "    }\n",
              "\n",
              "    .dataframe tbody tr th {\n",
              "        vertical-align: top;\n",
              "    }\n",
              "\n",
              "    .dataframe thead th {\n",
              "        text-align: right;\n",
              "    }\n",
              "</style>\n",
              "<table border=\"1\" class=\"dataframe\">\n",
              "  <thead>\n",
              "    <tr style=\"text-align: right;\">\n",
              "      <th></th>\n",
              "      <th>Simulation Case Conditions_Feed Rate_Feed from V615 Btm_m3/hr</th>\n",
              "      <th>Simulation Case Conditions_Feed Rate_Feed from V615 Btm    NA_wt%</th>\n",
              "      <th>Simulation Case Conditions_Feed Rate_Feed from V615 Btm    Benzene_wt%</th>\n",
              "      <th>Simulation Case Conditions_Feed Rate_Feed from V615 Btm    Toluene_wt%</th>\n",
              "      <th>Simulation Case Conditions_Feed Rate_Feed from C820 Dist_m3/hr</th>\n",
              "      <th>Simulation Case Conditions_Feed Rate_Feed from C820 Dist    NA_wt%</th>\n",
              "      <th>Simulation Case Conditions_Feed Rate_Feed from C820 Dist    Benzene_wt%</th>\n",
              "      <th>Simulation Case Conditions_Feed Rate_Feed from C820 Dist    Toluene_wt%</th>\n",
              "      <th>Simulation Case Conditions_Feed Rate_Feed from T651_m3/hr</th>\n",
              "      <th>Simulation Case Conditions_Feed Rate_Feed from T651    NA_wt%</th>\n",
              "      <th>Simulation Case Conditions_Feed Rate_Feed from T651    Benzene_wt%</th>\n",
              "      <th>Simulation Case Conditions_Feed Rate_Feed from T651    Toluene_wt%</th>\n",
              "      <th>Simulation Case Conditions_Spec 1 : Benzene in C620 Sidedraw_wt%</th>\n",
              "      <th>Simulation Case Conditions_Spec 2 : NA in Benzene_ppmw</th>\n",
              "    </tr>\n",
              "  </thead>\n",
              "  <tbody>\n",
              "    <tr>\n",
              "      <th>144-020</th>\n",
              "      <td>200.0</td>\n",
              "      <td>1.116023</td>\n",
              "      <td>11.152225</td>\n",
              "      <td>48.745979</td>\n",
              "      <td>15.0</td>\n",
              "      <td>2.338977</td>\n",
              "      <td>74.302254</td>\n",
              "      <td>17.467825</td>\n",
              "      <td>92.0</td>\n",
              "      <td>0.0911</td>\n",
              "      <td>20.854397</td>\n",
              "      <td>74.689774</td>\n",
              "      <td>70.0</td>\n",
              "      <td>980.0</td>\n",
              "    </tr>\n",
              "  </tbody>\n",
              "</table>\n",
              "</div>"
            ],
            "text/plain": [
              "         Simulation Case Conditions_Feed Rate_Feed from V615 Btm_m3/hr  ...  Simulation Case Conditions_Spec 2 : NA in Benzene_ppmw\n",
              "144-020                                              200.0              ...                                              980.0     \n",
              "\n",
              "[1 rows x 14 columns]"
            ]
          },
          "metadata": {
            "tags": []
          },
          "execution_count": 22
        }
      ]
    },
    {
      "cell_type": "code",
      "metadata": {
        "id": "mAuevmR23Zsq",
        "colab": {
          "base_uri": "https://localhost:8080/"
        },
        "outputId": "7b97d22b-ce85-4007-aae5-31f0c9e2293a"
      },
      "source": [
        "idx = one_sample.index\n",
        "print(idx)"
      ],
      "execution_count": 23,
      "outputs": [
        {
          "output_type": "stream",
          "text": [
            "Index(['144-020'], dtype='object')\n"
          ],
          "name": "stdout"
        }
      ]
    },
    {
      "cell_type": "code",
      "metadata": {
        "id": "NdLYvIBYnR-Q"
      },
      "source": [
        "demo = {'icg_input':icg_input.loc[idx],\n",
        "      'c620_Receiver_Temp':c620_Receiver_Temp.loc[idx],\n",
        "      'c620_case_Distillate_Rate':c620_df.loc[idx,['Tatoray Stripper C620 Operation_Specifications_Spec 2 : Distillate Rate_m3/hr']],\n",
        "      'c660_case_Toluene_in_Benzene_ppmw':c660_df.loc[idx,['Benzene Column C660 Operation_Specifications_Spec 3 : Toluene in Benzene_ppmw']],\n",
        "      'c620_feed':c620_feed.loc[idx],\n",
        "      't651_feed':t651_feed.loc[idx],\n",
        "      'c620_op':c620_op.loc[idx],\n",
        "      'c620_wt':c620_wt.loc[idx],\n",
        "      'c660_op':c660_op.loc[idx],\n",
        "      'c660_wt':c660_wt.loc[idx],\n",
        "      'c670_op':c670_op.loc[idx],\n",
        "      'c670_wt':c670_wt.loc[idx],\n",
        "      }"
      ],
      "execution_count": 24,
      "outputs": []
    },
    {
      "cell_type": "code",
      "metadata": {
        "id": "K8M9MvKrUEZP"
      },
      "source": [
        "icg_input = demo['icg_input']\n",
        "c620_Receiver_Temp = demo['c620_Receiver_Temp']\n",
        "c620_dist_rate = demo['c620_case_Distillate_Rate']\n",
        "c660_case_Toluene_in_Benzene_ppmw = demo['c660_case_Toluene_in_Benzene_ppmw']\n",
        "c620_feed = demo['c620_feed']\n",
        "t651_feed = demo['t651_feed']"
      ],
      "execution_count": 25,
      "outputs": []
    },
    {
      "cell_type": "code",
      "metadata": {
        "id": "3dhFIyj2VDvY",
        "outputId": "66c833cc-467f-4168-c053-bb409b4e37eb",
        "colab": {
          "base_uri": "https://localhost:8080/"
        }
      },
      "source": [
        "# 推薦模式 c620_case_Distillate_Rate 來自icg輸出 c660_case_Toluene in Benzene_ppmw 固定為10 不用輸入\n",
        "c620_wt_,c620_op_,c660_wt_,c660_op_,c670_wt_,c670_op_ = f(icg_input,c620_Receiver_Temp,c620_feed,t651_feed)"
      ],
      "execution_count": 26,
      "outputs": [
        {
          "output_type": "stream",
          "text": [
            "current Distillate Rate_m3/hr:-0.061414528638124466 NA in Benzene_ppmw:980.0\n",
            "NA in Benzene_ppmw -= 30\n",
            "current Distillate Rate_m3/hr:-0.023261649534106255 NA in Benzene_ppmw:950.0\n",
            "NA in Benzene_ppmw -= 30\n",
            "current Distillate Rate_m3/hr:-0.03711140155792236 NA in Benzene_ppmw:920.0\n",
            "NA in Benzene_ppmw -= 30\n",
            "current Distillate Rate_m3/hr:-0.053852349519729614 NA in Benzene_ppmw:890.0\n",
            "NA in Benzene_ppmw -= 30\n",
            "current Distillate Rate_m3/hr:-0.06820464134216309 NA in Benzene_ppmw:860.0\n",
            "NA in Benzene_ppmw -= 30\n",
            "current Distillate Rate_m3/hr:-0.08533526957035065 NA in Benzene_ppmw:830.0\n",
            "NA in Benzene_ppmw -= 30\n",
            "current Distillate Rate_m3/hr:-0.11258702725172043 NA in Benzene_ppmw:800.0\n",
            "NA in Benzene_ppmw -= 30\n",
            "current Distillate Rate_m3/hr:-0.13589732348918915 NA in Benzene_ppmw:770.0\n",
            "NA in Benzene_ppmw -= 30\n",
            "current Distillate Rate_m3/hr:-0.1451788991689682 NA in Benzene_ppmw:740.0\n",
            "NA in Benzene_ppmw -= 30\n",
            "current Distillate Rate_m3/hr:-0.15091852843761444 NA in Benzene_ppmw:710.0\n",
            "NA in Benzene_ppmw -= 30\n",
            "current Distillate Rate_m3/hr:-0.15378855168819427 NA in Benzene_ppmw:680.0\n",
            "NA in Benzene_ppmw -= 30\n",
            "current Distillate Rate_m3/hr:-0.1378278136253357 NA in Benzene_ppmw:650.0\n",
            "NA in Benzene_ppmw -= 30\n",
            "current Distillate Rate_m3/hr:-0.07683777809143066 NA in Benzene_ppmw:620.0\n",
            "NA in Benzene_ppmw -= 30\n",
            "current Distillate Rate_m3/hr:0.05351364240050316 NA in Benzene_ppmw:590.0\n"
          ],
          "name": "stdout"
        }
      ]
    },
    {
      "cell_type": "code",
      "metadata": {
        "id": "Ur4DKaAloVW1",
        "colab": {
          "base_uri": "https://localhost:8080/"
        },
        "outputId": "c9a233e9-a2c5-44d0-e4aa-b492813edd85"
      },
      "source": [
        "import joblib\n",
        "joblib.dump(demo,\"/content/drive/MyDrive/台塑輕油案子/data/c620/demo/demo.pkl\")"
      ],
      "execution_count": 27,
      "outputs": [
        {
          "output_type": "execute_result",
          "data": {
            "text/plain": [
              "['/content/drive/MyDrive/台塑輕油案子/data/c620/demo/demo.pkl']"
            ]
          },
          "metadata": {
            "tags": []
          },
          "execution_count": 27
        }
      ]
    },
    {
      "cell_type": "code",
      "metadata": {
        "id": "nba31qndo6hT"
      },
      "source": [
        ""
      ],
      "execution_count": 27,
      "outputs": []
    }
  ]
}