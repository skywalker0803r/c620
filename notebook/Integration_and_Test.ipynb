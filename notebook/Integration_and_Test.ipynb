{
  "nbformat": 4,
  "nbformat_minor": 0,
  "metadata": {
    "colab": {
      "name": "Integration_and_test(Simplified version).ipynb",
      "provenance": [],
      "authorship_tag": "ABX9TyN8O2FBHHRt1vGMw4diYkVn",
      "include_colab_link": true
    },
    "kernelspec": {
      "name": "python3",
      "display_name": "Python 3"
    }
  },
  "cells": [
    {
      "cell_type": "markdown",
      "metadata": {
        "id": "view-in-github",
        "colab_type": "text"
      },
      "source": [
        "<a href=\"https://colab.research.google.com/github/skywalker0803r/c620/blob/main/notebook/Integration_and_Test.ipynb\" target=\"_parent\"><img src=\"https://colab.research.google.com/assets/colab-badge.svg\" alt=\"Open In Colab\"/></a>"
      ]
    },
    {
      "cell_type": "code",
      "metadata": {
        "id": "YEiUzu5_2x3I"
      },
      "source": [
        "import joblib\n",
        "import os\n",
        "import numpy as np\n",
        "import pandas as pd\n",
        "!pip install autorch > log.txt\n",
        "import matplotlib.pyplot as plt\n",
        "import autorch\n",
        "from autorch.function import sp2wt\n",
        "import random\n",
        "random.seed(11)\n",
        "np.random.seed(11)"
      ],
      "execution_count": 1,
      "outputs": []
    },
    {
      "cell_type": "code",
      "metadata": {
        "colab": {
          "base_uri": "https://localhost:8080/"
        },
        "id": "3YPjXHkR3Eso",
        "outputId": "6e4fea5e-0fc6-49e6-fa3a-ea65575a04ea"
      },
      "source": [
        "from google.colab import drive\n",
        "drive.mount('/content/drive')"
      ],
      "execution_count": 2,
      "outputs": [
        {
          "output_type": "stream",
          "text": [
            "Drive already mounted at /content/drive; to attempt to forcibly remount, call drive.mount(\"/content/drive\", force_remount=True).\n"
          ],
          "name": "stdout"
        }
      ]
    },
    {
      "cell_type": "markdown",
      "metadata": {
        "id": "nuzZj4KB6mQB"
      },
      "source": [
        "# columns name"
      ]
    },
    {
      "cell_type": "code",
      "metadata": {
        "colab": {
          "base_uri": "https://localhost:8080/"
        },
        "id": "vD1E0WtI3OKC",
        "outputId": "87c50c30-11b6-4642-d387-67953672d0b7"
      },
      "source": [
        "icg_c = joblib.load('/content/drive/MyDrive/台塑輕油案子/data/c620/col_names/icg_col_names.pkl')\n",
        "c620_c = joblib.load('/content/drive/MyDrive/台塑輕油案子/data/c620/col_names/c620_col_names.pkl')\n",
        "c660_c = joblib.load('/content/drive/MyDrive/台塑輕油案子/data/c620/col_names/c660_col_names.pkl')\n",
        "t651_c = joblib.load('/content/drive/MyDrive/台塑輕油案子/data/c620/col_names/t651_col_names.pkl')\n",
        "c670_c = joblib.load('/content/drive/MyDrive/台塑輕油案子/data/c620/col_names/c670_col_names.pkl')\n",
        "print(icg_c.keys())\n",
        "print(c620_c.keys())\n",
        "print(c660_c.keys())\n",
        "print(c670_c.keys())\n",
        "print(t651_c.keys())"
      ],
      "execution_count": 3,
      "outputs": [
        {
          "output_type": "stream",
          "text": [
            "dict_keys(['x', 'y'])\n",
            "dict_keys(['x41', 'case', 'yRefluxRate', 'yControl', 'yHeatDuty', 'vent_gas_x', 'distillate_x', 'sidedraw_x', 'bottoms_x', 'vent_gas_sf', 'distillate_sf', 'sidedraw_sf', 'bottoms_sf', 'density'])\n",
            "dict_keys(['x41', 'case', 'yRefluxRate', 'yControl', 'yHeatDuty', 'vent_gas_x', 'distillate_x', 'sidedraw_x', 'bottoms_x', 'vent_gas_sf', 'distillate_sf', 'sidedraw_sf', 'bottoms_sf', 'density'])\n",
            "dict_keys(['xTray43', 'xTray54', 'combined', 'upper_bf', 'lower_bf', 'yRefluxRate', 'yControl', 'yHeatDuty', 'distillate_x', 'bottoms_x', 'distillate_sf', 'bottoms_sf', 'density'])\n",
            "dict_keys(['x41', 'MFR'])\n"
          ],
          "name": "stdout"
        }
      ]
    },
    {
      "cell_type": "markdown",
      "metadata": {
        "id": "x8BgCUXhB_Qe"
      },
      "source": [
        "# DataFrame"
      ]
    },
    {
      "cell_type": "code",
      "metadata": {
        "id": "TjsU3C9bB_er",
        "colab": {
          "base_uri": "https://localhost:8080/"
        },
        "outputId": "7cef6aca-ebab-4147-8fbc-bd92d64eb35f"
      },
      "source": [
        "icg_df = pd.read_csv('/content/drive/MyDrive/台塑輕油案子/data/c620/cleaned/c620_c670.csv',index_col=0)\n",
        "c620_df = pd.read_csv('/content/drive/MyDrive/台塑輕油案子/data/c620/cleaned/c620_train.csv',index_col=0)\n",
        "c660_df = pd.read_csv('/content/drive/MyDrive/台塑輕油案子/data/c620/cleaned/c660_train.csv',index_col=0)\n",
        "c670_df = pd.read_csv('/content/drive/MyDrive/台塑輕油案子/data/c620/cleaned/c670_train.csv',index_col=0)\n",
        "t651_df = pd.read_csv('/content/drive/MyDrive/台塑輕油案子/data/c620/cleaned/t651_train.csv',index_col=0)\n",
        "idx = list(set(icg_df.index)&\n",
        "      set(c620_df.index)&\n",
        "      set(c660_df.index)&\n",
        "      set(c670_df.index)&\n",
        "      set(t651_df.index))\n",
        "len(idx)"
      ],
      "execution_count": 4,
      "outputs": [
        {
          "output_type": "execute_result",
          "data": {
            "text/plain": [
              "1296"
            ]
          },
          "metadata": {
            "tags": []
          },
          "execution_count": 4
        }
      ]
    },
    {
      "cell_type": "code",
      "metadata": {
        "id": "kxeTF9Z5LYQV",
        "colab": {
          "base_uri": "https://localhost:8080/",
          "height": 374
        },
        "outputId": "1a20e4dd-6567-4570-aa99-4d8d4c777866"
      },
      "source": [
        "icg_df.loc[idx].head()"
      ],
      "execution_count": 5,
      "outputs": [
        {
          "output_type": "execute_result",
          "data": {
            "text/html": [
              "<div>\n",
              "<style scoped>\n",
              "    .dataframe tbody tr th:only-of-type {\n",
              "        vertical-align: middle;\n",
              "    }\n",
              "\n",
              "    .dataframe tbody tr th {\n",
              "        vertical-align: top;\n",
              "    }\n",
              "\n",
              "    .dataframe thead th {\n",
              "        text-align: right;\n",
              "    }\n",
              "</style>\n",
              "<table border=\"1\" class=\"dataframe\">\n",
              "  <thead>\n",
              "    <tr style=\"text-align: right;\">\n",
              "      <th></th>\n",
              "      <th>Simulation Case Conditions_Feed Rate_Feed from V615 Btm_m3/hr</th>\n",
              "      <th>Simulation Case Conditions_Feed Rate_Feed from V615 Btm    NA_wt%</th>\n",
              "      <th>Simulation Case Conditions_Feed Rate_Feed from V615 Btm    Benzene_wt%</th>\n",
              "      <th>Simulation Case Conditions_Feed Rate_Feed from V615 Btm    Toluene_wt%</th>\n",
              "      <th>Simulation Case Conditions_Feed Rate_Feed from C820 Dist_m3/hr</th>\n",
              "      <th>Simulation Case Conditions_Feed Rate_Feed from C820 Dist    NA_wt%</th>\n",
              "      <th>Simulation Case Conditions_Feed Rate_Feed from C820 Dist    Benzene_wt%</th>\n",
              "      <th>Simulation Case Conditions_Feed Rate_Feed from C820 Dist    Toluene_wt%</th>\n",
              "      <th>Simulation Case Conditions_Feed Rate_Feed from T651_m3/hr</th>\n",
              "      <th>Simulation Case Conditions_Feed Rate_Feed from T651    NA_wt%</th>\n",
              "      <th>Simulation Case Conditions_Feed Rate_Feed from T651    Benzene_wt%</th>\n",
              "      <th>Simulation Case Conditions_Feed Rate_Feed from T651    Toluene_wt%</th>\n",
              "      <th>Simulation Case Conditions_Spec 1 : Benzene in C620 Sidedraw_wt%</th>\n",
              "      <th>Simulation Case Conditions_Spec 2 : NA in Benzene_ppmw</th>\n",
              "      <th>Simulation Case Conditions_C620 Distillate Rate_m3/hr</th>\n",
              "    </tr>\n",
              "  </thead>\n",
              "  <tbody>\n",
              "    <tr>\n",
              "      <th>076-002</th>\n",
              "      <td>163.0</td>\n",
              "      <td>1.116023</td>\n",
              "      <td>11.152225</td>\n",
              "      <td>48.745979</td>\n",
              "      <td>15.0</td>\n",
              "      <td>2.338977</td>\n",
              "      <td>74.302254</td>\n",
              "      <td>17.467825</td>\n",
              "      <td>72.0</td>\n",
              "      <td>0.4524</td>\n",
              "      <td>44.244228</td>\n",
              "      <td>44.786339</td>\n",
              "      <td>90.0</td>\n",
              "      <td>980.0</td>\n",
              "      <td>0.01</td>\n",
              "    </tr>\n",
              "    <tr>\n",
              "      <th>057-008</th>\n",
              "      <td>175.0</td>\n",
              "      <td>1.356000</td>\n",
              "      <td>10.321001</td>\n",
              "      <td>40.887009</td>\n",
              "      <td>15.0</td>\n",
              "      <td>2.338977</td>\n",
              "      <td>74.302254</td>\n",
              "      <td>17.467825</td>\n",
              "      <td>57.0</td>\n",
              "      <td>0.0911</td>\n",
              "      <td>20.854397</td>\n",
              "      <td>74.689774</td>\n",
              "      <td>90.0</td>\n",
              "      <td>920.0</td>\n",
              "      <td>1.00</td>\n",
              "    </tr>\n",
              "    <tr>\n",
              "      <th>073-008</th>\n",
              "      <td>163.0</td>\n",
              "      <td>1.116023</td>\n",
              "      <td>11.152225</td>\n",
              "      <td>48.745979</td>\n",
              "      <td>15.0</td>\n",
              "      <td>2.338977</td>\n",
              "      <td>74.302254</td>\n",
              "      <td>17.467825</td>\n",
              "      <td>32.0</td>\n",
              "      <td>0.4524</td>\n",
              "      <td>44.244236</td>\n",
              "      <td>44.786339</td>\n",
              "      <td>90.0</td>\n",
              "      <td>920.0</td>\n",
              "      <td>1.25</td>\n",
              "    </tr>\n",
              "    <tr>\n",
              "      <th>057-017</th>\n",
              "      <td>175.0</td>\n",
              "      <td>1.356000</td>\n",
              "      <td>10.321001</td>\n",
              "      <td>40.887009</td>\n",
              "      <td>15.0</td>\n",
              "      <td>2.338977</td>\n",
              "      <td>74.302254</td>\n",
              "      <td>17.467825</td>\n",
              "      <td>57.0</td>\n",
              "      <td>0.0911</td>\n",
              "      <td>20.854397</td>\n",
              "      <td>74.689774</td>\n",
              "      <td>80.0</td>\n",
              "      <td>920.0</td>\n",
              "      <td>1.50</td>\n",
              "    </tr>\n",
              "    <tr>\n",
              "      <th>085-017</th>\n",
              "      <td>188.0</td>\n",
              "      <td>1.116023</td>\n",
              "      <td>11.152225</td>\n",
              "      <td>48.745979</td>\n",
              "      <td>15.0</td>\n",
              "      <td>2.338977</td>\n",
              "      <td>74.302254</td>\n",
              "      <td>17.467825</td>\n",
              "      <td>32.0</td>\n",
              "      <td>0.4524</td>\n",
              "      <td>44.244236</td>\n",
              "      <td>44.786339</td>\n",
              "      <td>80.0</td>\n",
              "      <td>920.0</td>\n",
              "      <td>0.25</td>\n",
              "    </tr>\n",
              "  </tbody>\n",
              "</table>\n",
              "</div>"
            ],
            "text/plain": [
              "         Simulation Case Conditions_Feed Rate_Feed from V615 Btm_m3/hr  ...  Simulation Case Conditions_C620 Distillate Rate_m3/hr\n",
              "076-002                                              163.0              ...                                               0.01    \n",
              "057-008                                              175.0              ...                                               1.00    \n",
              "073-008                                              163.0              ...                                               1.25    \n",
              "057-017                                              175.0              ...                                               1.50    \n",
              "085-017                                              188.0              ...                                               0.25    \n",
              "\n",
              "[5 rows x 15 columns]"
            ]
          },
          "metadata": {
            "tags": []
          },
          "execution_count": 5
        }
      ]
    },
    {
      "cell_type": "code",
      "metadata": {
        "id": "2KP7j-9PLUel",
        "colab": {
          "base_uri": "https://localhost:8080/",
          "height": 302
        },
        "outputId": "862ca832-d3cc-4cbd-ffa8-8761bd850062"
      },
      "source": [
        "c620_df.loc[idx][c620_c['case']].head()"
      ],
      "execution_count": 6,
      "outputs": [
        {
          "output_type": "execute_result",
          "data": {
            "text/html": [
              "<div>\n",
              "<style scoped>\n",
              "    .dataframe tbody tr th:only-of-type {\n",
              "        vertical-align: middle;\n",
              "    }\n",
              "\n",
              "    .dataframe tbody tr th {\n",
              "        vertical-align: top;\n",
              "    }\n",
              "\n",
              "    .dataframe thead th {\n",
              "        text-align: right;\n",
              "    }\n",
              "</style>\n",
              "<table border=\"1\" class=\"dataframe\">\n",
              "  <thead>\n",
              "    <tr style=\"text-align: right;\">\n",
              "      <th></th>\n",
              "      <th>Tatoray Stripper C620 Operation_Specifications_Spec 1 : Receiver Temp_oC</th>\n",
              "      <th>Tatoray Stripper C620 Operation_Specifications_Spec 2 : Distillate Rate_m3/hr</th>\n",
              "      <th>Tatoray Stripper C620 Operation_Specifications_Spec 3 : Benzene in Sidedraw_wt%</th>\n",
              "    </tr>\n",
              "  </thead>\n",
              "  <tbody>\n",
              "    <tr>\n",
              "      <th>076-002</th>\n",
              "      <td>36.0</td>\n",
              "      <td>0.01</td>\n",
              "      <td>89.999992</td>\n",
              "    </tr>\n",
              "    <tr>\n",
              "      <th>057-008</th>\n",
              "      <td>36.0</td>\n",
              "      <td>1.00</td>\n",
              "      <td>90.000015</td>\n",
              "    </tr>\n",
              "    <tr>\n",
              "      <th>073-008</th>\n",
              "      <td>36.0</td>\n",
              "      <td>1.25</td>\n",
              "      <td>90.000015</td>\n",
              "    </tr>\n",
              "    <tr>\n",
              "      <th>057-017</th>\n",
              "      <td>36.0</td>\n",
              "      <td>1.50</td>\n",
              "      <td>79.999992</td>\n",
              "    </tr>\n",
              "    <tr>\n",
              "      <th>085-017</th>\n",
              "      <td>36.0</td>\n",
              "      <td>0.25</td>\n",
              "      <td>80.000015</td>\n",
              "    </tr>\n",
              "  </tbody>\n",
              "</table>\n",
              "</div>"
            ],
            "text/plain": [
              "         Tatoray Stripper C620 Operation_Specifications_Spec 1 : Receiver Temp_oC  ...  Tatoray Stripper C620 Operation_Specifications_Spec 3 : Benzene in Sidedraw_wt%\n",
              "076-002                                               36.0                         ...                                          89.999992                              \n",
              "057-008                                               36.0                         ...                                          90.000015                              \n",
              "073-008                                               36.0                         ...                                          90.000015                              \n",
              "057-017                                               36.0                         ...                                          79.999992                              \n",
              "085-017                                               36.0                         ...                                          80.000015                              \n",
              "\n",
              "[5 rows x 3 columns]"
            ]
          },
          "metadata": {
            "tags": []
          },
          "execution_count": 6
        }
      ]
    },
    {
      "cell_type": "code",
      "metadata": {
        "id": "xuehZMotRCYO",
        "colab": {
          "base_uri": "https://localhost:8080/",
          "height": 198
        },
        "outputId": "0ce58bd3-01f7-44f9-e696-46d6748b292a"
      },
      "source": [
        "c660_df.loc[idx][c660_c['case']].head()"
      ],
      "execution_count": 7,
      "outputs": [
        {
          "output_type": "execute_result",
          "data": {
            "text/html": [
              "<div>\n",
              "<style scoped>\n",
              "    .dataframe tbody tr th:only-of-type {\n",
              "        vertical-align: middle;\n",
              "    }\n",
              "\n",
              "    .dataframe tbody tr th {\n",
              "        vertical-align: top;\n",
              "    }\n",
              "\n",
              "    .dataframe thead th {\n",
              "        text-align: right;\n",
              "    }\n",
              "</style>\n",
              "<table border=\"1\" class=\"dataframe\">\n",
              "  <thead>\n",
              "    <tr style=\"text-align: right;\">\n",
              "      <th></th>\n",
              "      <th>Benzene Column C660 Operation_Specifications_Spec 2 : NA in Benzene_ppmw</th>\n",
              "      <th>Benzene Column C660 Operation_Specifications_Spec 3 : Toluene in Benzene_ppmw</th>\n",
              "    </tr>\n",
              "  </thead>\n",
              "  <tbody>\n",
              "    <tr>\n",
              "      <th>076-002</th>\n",
              "      <td>979.998830</td>\n",
              "      <td>9.999918</td>\n",
              "    </tr>\n",
              "    <tr>\n",
              "      <th>057-008</th>\n",
              "      <td>920.023202</td>\n",
              "      <td>5.000012</td>\n",
              "    </tr>\n",
              "    <tr>\n",
              "      <th>073-008</th>\n",
              "      <td>919.975912</td>\n",
              "      <td>2.500002</td>\n",
              "    </tr>\n",
              "    <tr>\n",
              "      <th>057-017</th>\n",
              "      <td>919.994973</td>\n",
              "      <td>5.000053</td>\n",
              "    </tr>\n",
              "    <tr>\n",
              "      <th>085-017</th>\n",
              "      <td>919.992939</td>\n",
              "      <td>2.500000</td>\n",
              "    </tr>\n",
              "  </tbody>\n",
              "</table>\n",
              "</div>"
            ],
            "text/plain": [
              "         Benzene Column C660 Operation_Specifications_Spec 2 : NA in Benzene_ppmw  Benzene Column C660 Operation_Specifications_Spec 3 : Toluene in Benzene_ppmw\n",
              "076-002                                         979.998830                                                                  9.999918                            \n",
              "057-008                                         920.023202                                                                  5.000012                            \n",
              "073-008                                         919.975912                                                                  2.500002                            \n",
              "057-017                                         919.994973                                                                  5.000053                            \n",
              "085-017                                         919.992939                                                                  2.500000                            "
            ]
          },
          "metadata": {
            "tags": []
          },
          "execution_count": 7
        }
      ]
    },
    {
      "cell_type": "markdown",
      "metadata": {
        "id": "eT4-lodHox-u"
      },
      "source": [
        "# Input data"
      ]
    },
    {
      "cell_type": "code",
      "metadata": {
        "id": "3EOUCMOXB2Y1"
      },
      "source": [
        "# icg\n",
        "icg_input = icg_df.loc[idx,icg_c['x']]\n",
        "icg_input = icg_input.join(c620_df.loc[idx,'Tatoray Stripper C620 Operation_Specifications_Spec 2 : Distillate Rate_m3/hr'])\n",
        "icg_input = icg_input.join(c660_df.loc[idx,'Benzene Column C660 Operation_Specifications_Spec 3 : Toluene in Benzene_ppmw'])\n",
        "icg_input = icg_input.join(c620_df.loc[idx].filter(regex='Receiver Temp'))\n",
        "\n",
        "# c620\n",
        "c620_feed = c620_df.loc[idx,c620_c['x41']]\n",
        "\n",
        "# t651\n",
        "t651_feed = t651_df.loc[idx,t651_c['x41']]"
      ],
      "execution_count": 8,
      "outputs": []
    },
    {
      "cell_type": "code",
      "metadata": {
        "id": "hTyJ6JVm3Xzv",
        "outputId": "2c398aa3-16c9-4ad1-8d46-e00ad3c6feaa",
        "colab": {
          "base_uri": "https://localhost:8080/",
          "height": 374
        }
      },
      "source": [
        "icg_input.head()"
      ],
      "execution_count": 9,
      "outputs": [
        {
          "output_type": "execute_result",
          "data": {
            "text/html": [
              "<div>\n",
              "<style scoped>\n",
              "    .dataframe tbody tr th:only-of-type {\n",
              "        vertical-align: middle;\n",
              "    }\n",
              "\n",
              "    .dataframe tbody tr th {\n",
              "        vertical-align: top;\n",
              "    }\n",
              "\n",
              "    .dataframe thead th {\n",
              "        text-align: right;\n",
              "    }\n",
              "</style>\n",
              "<table border=\"1\" class=\"dataframe\">\n",
              "  <thead>\n",
              "    <tr style=\"text-align: right;\">\n",
              "      <th></th>\n",
              "      <th>Simulation Case Conditions_Feed Rate_Feed from V615 Btm_m3/hr</th>\n",
              "      <th>Simulation Case Conditions_Feed Rate_Feed from V615 Btm    NA_wt%</th>\n",
              "      <th>Simulation Case Conditions_Feed Rate_Feed from V615 Btm    Benzene_wt%</th>\n",
              "      <th>Simulation Case Conditions_Feed Rate_Feed from V615 Btm    Toluene_wt%</th>\n",
              "      <th>Simulation Case Conditions_Feed Rate_Feed from C820 Dist_m3/hr</th>\n",
              "      <th>Simulation Case Conditions_Feed Rate_Feed from C820 Dist    NA_wt%</th>\n",
              "      <th>Simulation Case Conditions_Feed Rate_Feed from C820 Dist    Benzene_wt%</th>\n",
              "      <th>Simulation Case Conditions_Feed Rate_Feed from C820 Dist    Toluene_wt%</th>\n",
              "      <th>Simulation Case Conditions_Feed Rate_Feed from T651_m3/hr</th>\n",
              "      <th>Simulation Case Conditions_Feed Rate_Feed from T651    NA_wt%</th>\n",
              "      <th>Simulation Case Conditions_Feed Rate_Feed from T651    Benzene_wt%</th>\n",
              "      <th>Simulation Case Conditions_Feed Rate_Feed from T651    Toluene_wt%</th>\n",
              "      <th>Simulation Case Conditions_Spec 1 : Benzene in C620 Sidedraw_wt%</th>\n",
              "      <th>Simulation Case Conditions_Spec 2 : NA in Benzene_ppmw</th>\n",
              "      <th>Tatoray Stripper C620 Operation_Specifications_Spec 2 : Distillate Rate_m3/hr</th>\n",
              "      <th>Benzene Column C660 Operation_Specifications_Spec 3 : Toluene in Benzene_ppmw</th>\n",
              "      <th>Tatoray Stripper C620 Operation_Specifications_Spec 1 : Receiver Temp_oC</th>\n",
              "    </tr>\n",
              "  </thead>\n",
              "  <tbody>\n",
              "    <tr>\n",
              "      <th>076-002</th>\n",
              "      <td>163.0</td>\n",
              "      <td>1.116023</td>\n",
              "      <td>11.152225</td>\n",
              "      <td>48.745979</td>\n",
              "      <td>15.0</td>\n",
              "      <td>2.338977</td>\n",
              "      <td>74.302254</td>\n",
              "      <td>17.467825</td>\n",
              "      <td>72.0</td>\n",
              "      <td>0.4524</td>\n",
              "      <td>44.244228</td>\n",
              "      <td>44.786339</td>\n",
              "      <td>90.0</td>\n",
              "      <td>980.0</td>\n",
              "      <td>0.01</td>\n",
              "      <td>9.999918</td>\n",
              "      <td>36.0</td>\n",
              "    </tr>\n",
              "    <tr>\n",
              "      <th>057-008</th>\n",
              "      <td>175.0</td>\n",
              "      <td>1.356000</td>\n",
              "      <td>10.321001</td>\n",
              "      <td>40.887009</td>\n",
              "      <td>15.0</td>\n",
              "      <td>2.338977</td>\n",
              "      <td>74.302254</td>\n",
              "      <td>17.467825</td>\n",
              "      <td>57.0</td>\n",
              "      <td>0.0911</td>\n",
              "      <td>20.854397</td>\n",
              "      <td>74.689774</td>\n",
              "      <td>90.0</td>\n",
              "      <td>920.0</td>\n",
              "      <td>1.00</td>\n",
              "      <td>5.000012</td>\n",
              "      <td>36.0</td>\n",
              "    </tr>\n",
              "    <tr>\n",
              "      <th>073-008</th>\n",
              "      <td>163.0</td>\n",
              "      <td>1.116023</td>\n",
              "      <td>11.152225</td>\n",
              "      <td>48.745979</td>\n",
              "      <td>15.0</td>\n",
              "      <td>2.338977</td>\n",
              "      <td>74.302254</td>\n",
              "      <td>17.467825</td>\n",
              "      <td>32.0</td>\n",
              "      <td>0.4524</td>\n",
              "      <td>44.244236</td>\n",
              "      <td>44.786339</td>\n",
              "      <td>90.0</td>\n",
              "      <td>920.0</td>\n",
              "      <td>1.25</td>\n",
              "      <td>2.500002</td>\n",
              "      <td>36.0</td>\n",
              "    </tr>\n",
              "    <tr>\n",
              "      <th>057-017</th>\n",
              "      <td>175.0</td>\n",
              "      <td>1.356000</td>\n",
              "      <td>10.321001</td>\n",
              "      <td>40.887009</td>\n",
              "      <td>15.0</td>\n",
              "      <td>2.338977</td>\n",
              "      <td>74.302254</td>\n",
              "      <td>17.467825</td>\n",
              "      <td>57.0</td>\n",
              "      <td>0.0911</td>\n",
              "      <td>20.854397</td>\n",
              "      <td>74.689774</td>\n",
              "      <td>80.0</td>\n",
              "      <td>920.0</td>\n",
              "      <td>1.50</td>\n",
              "      <td>5.000053</td>\n",
              "      <td>36.0</td>\n",
              "    </tr>\n",
              "    <tr>\n",
              "      <th>085-017</th>\n",
              "      <td>188.0</td>\n",
              "      <td>1.116023</td>\n",
              "      <td>11.152225</td>\n",
              "      <td>48.745979</td>\n",
              "      <td>15.0</td>\n",
              "      <td>2.338977</td>\n",
              "      <td>74.302254</td>\n",
              "      <td>17.467825</td>\n",
              "      <td>32.0</td>\n",
              "      <td>0.4524</td>\n",
              "      <td>44.244236</td>\n",
              "      <td>44.786339</td>\n",
              "      <td>80.0</td>\n",
              "      <td>920.0</td>\n",
              "      <td>0.25</td>\n",
              "      <td>2.500000</td>\n",
              "      <td>36.0</td>\n",
              "    </tr>\n",
              "  </tbody>\n",
              "</table>\n",
              "</div>"
            ],
            "text/plain": [
              "         Simulation Case Conditions_Feed Rate_Feed from V615 Btm_m3/hr  ...  Tatoray Stripper C620 Operation_Specifications_Spec 1 : Receiver Temp_oC\n",
              "076-002                                              163.0              ...                                               36.0                       \n",
              "057-008                                              175.0              ...                                               36.0                       \n",
              "073-008                                              163.0              ...                                               36.0                       \n",
              "057-017                                              175.0              ...                                               36.0                       \n",
              "085-017                                              188.0              ...                                               36.0                       \n",
              "\n",
              "[5 rows x 17 columns]"
            ]
          },
          "metadata": {
            "tags": []
          },
          "execution_count": 9
        }
      ]
    },
    {
      "cell_type": "markdown",
      "metadata": {
        "id": "mp1GqvJ0o0k1"
      },
      "source": [
        "# Output data"
      ]
    },
    {
      "cell_type": "code",
      "metadata": {
        "id": "uHCoq80jo0ss"
      },
      "source": [
        "c620_op = c620_df.loc[idx,c620_c['density']+c620_c['yRefluxRate']+c620_c['yHeatDuty']+c620_c['yControl']]\n",
        "c620_wt = c620_df.loc[idx,c620_c['vent_gas_x']+c620_c['distillate_x']+c620_c['sidedraw_x']+c620_c['bottoms_x']]\n",
        "c660_op = c660_df.loc[idx,c660_c['density']+c660_c['yRefluxRate']+c660_c['yHeatDuty']+c660_c['yControl']]\n",
        "c660_wt = c660_df.loc[idx,c660_c['vent_gas_x']+c660_c['distillate_x']+c660_c['sidedraw_x']+c660_c['bottoms_x']]\n",
        "c670_op = c670_df.loc[idx,c670_c['density']+c670_c['yRefluxRate']+c670_c['yHeatDuty']+c670_c['yControl']]\n",
        "c670_wt = c670_df.loc[idx,c670_c['distillate_x']+c670_c['bottoms_x']]"
      ],
      "execution_count": 10,
      "outputs": []
    },
    {
      "cell_type": "markdown",
      "metadata": {
        "id": "h8VBB0aG-e0c"
      },
      "source": [
        "# config"
      ]
    },
    {
      "cell_type": "code",
      "metadata": {
        "id": "0Ktejan2r_U7"
      },
      "source": [
        "config = {'icg_model_path':'/content/drive/MyDrive/台塑輕油案子/data/c620/model/c620_icg.pkl',\n",
        "      'c620_model_path':'/content/drive/MyDrive/台塑輕油案子/data/c620/model/c620.pkl',\n",
        "      'c660_model_path':'/content/drive/MyDrive/台塑輕油案子/data/c620/model/c660.pkl',\n",
        "      'c670_model_path':'/content/drive/MyDrive/台塑輕油案子/data/c620/model/c670.pkl',\n",
        "      'icg_col_path':'/content/drive/MyDrive/台塑輕油案子/data/c620/col_names/icg_col_names.pkl',\n",
        "      'c620_col_path':'/content/drive/MyDrive/台塑輕油案子/data/c620/col_names/c620_col_names.pkl',\n",
        "      'c660_col_path':'/content/drive/MyDrive/台塑輕油案子/data/c620/col_names/c660_col_names.pkl',\n",
        "      'c670_col_path':'/content/drive/MyDrive/台塑輕油案子/data/c620/col_names/c670_col_names.pkl',\n",
        "      'index_9999_path':'/content/drive/MyDrive/台塑輕油案子/data/c620/cleaned/index_9999.pkl',\n",
        "      'index_0001_path':'/content/drive/MyDrive/台塑輕油案子/data/c620/cleaned/index_0001.pkl',\n",
        "          }"
      ],
      "execution_count": 11,
      "outputs": []
    },
    {
      "cell_type": "markdown",
      "metadata": {
        "id": "MoSO4Cbx6oxP"
      },
      "source": [
        "# define F"
      ]
    },
    {
      "cell_type": "code",
      "metadata": {
        "id": "oiu5SRYL5NOr"
      },
      "source": [
        "class F(object):\n",
        "  def __init__(self,config):\n",
        "    self.icg_model = joblib.load(config['icg_model_path'])\n",
        "    self.c620_model = joblib.load(config['c620_model_path'])\n",
        "    self.c660_model = joblib.load(config['c660_model_path'])\n",
        "    self.c670_model = joblib.load(config['c670_model_path'])\n",
        "    self.icg_col = joblib.load(config['icg_col_path'])\n",
        "    self.c620_col = joblib.load(config['c620_col_path'])\n",
        "    self.c660_col = joblib.load(config['c660_col_path'])\n",
        "    self.c670_col = joblib.load(config['c670_col_path'])\n",
        "    self.index_9999 = joblib.load(config['index_9999_path'])\n",
        "    self.index_0001 = joblib.load(config['index_0001_path'])\n",
        "    self.V615_density = 0.8626\n",
        "    self.C820_density = 0.8731\n",
        "    self.T651_density = 0.8749\n",
        "    self.Recommended_mode = False\n",
        "\n",
        "\n",
        "  def ICG_loop(self,Input):\n",
        "    while True:\n",
        "      output = self.icg_model.predict(Input[self.icg_model.x_col])\n",
        "      dist_rate = output['Simulation Case Conditions_C620 Distillate Rate_m3/hr'].values[0]\n",
        "      na_in_benzene = Input['Simulation Case Conditions_Spec 2 : NA in Benzene_ppmw'].values[0]\n",
        "      print('current Distillate Rate_m3/hr:{} NA in Benzene_ppmw:{}'.format(dist_rate,na_in_benzene))\n",
        "      if dist_rate > 0:\n",
        "        return output,Input\n",
        "      else:\n",
        "        Input['Simulation Case Conditions_Spec 2 : NA in Benzene_ppmw'] -= 30\n",
        "        print('NA in Benzene_ppmw -= 30')\n",
        "  \n",
        "  def __call__(self,icg_input,c620_feed,t651_feed):\n",
        "    # get index\n",
        "    idx = icg_input.index\n",
        "\n",
        "    # c620 input(case&feed)\n",
        "    c620_case = pd.DataFrame(index=idx,columns=self.c620_col['case'])\n",
        "    c620_case['Tatoray Stripper C620 Operation_Specifications_Spec 1 : Receiver Temp_oC'] = icg_input['Tatoray Stripper C620 Operation_Specifications_Spec 1 : Receiver Temp_oC'].values\n",
        "    \n",
        "    if self.Recommended_mode == True:\n",
        "      icg_output,icg_input = self.ICG_loop(icg_input)\n",
        "      c620_case['Tatoray Stripper C620 Operation_Specifications_Spec 2 : Distillate Rate_m3/hr'] = icg_output.values\n",
        "    \n",
        "    if self.Recommended_mode == False:\n",
        "      c620_case['Tatoray Stripper C620 Operation_Specifications_Spec 2 : Distillate Rate_m3/hr'] = icg_input['Tatoray Stripper C620 Operation_Specifications_Spec 2 : Distillate Rate_m3/hr'].values\n",
        "    \n",
        "    c620_case['Tatoray Stripper C620 Operation_Specifications_Spec 3 : Benzene in Sidedraw_wt%'] = icg_input['Simulation Case Conditions_Spec 1 : Benzene in C620 Sidedraw_wt%'].values\n",
        "    c620_input = c620_case.join(c620_feed)\n",
        "    \n",
        "    # c620 output(op&wt)\n",
        "    c620_input = c620_case.join(c620_feed)\n",
        "    c620_output = self.c620_model.predict(c620_input)\n",
        "    c620_sp,c620_op = c620_output.iloc[:,:41*4],c620_output.iloc[:,41*4:]\n",
        "    s1,s2,s3,s4 = c620_sp.iloc[:,:41].values,c620_sp.iloc[:,41:41*2].values,c620_sp.iloc[:,41*2:41*3].values,c620_sp.iloc[:,41*3:41*4].values\n",
        "    w1,w2,w3,w4 = sp2wt(c620_feed,s1),sp2wt(c620_feed,s2),sp2wt(c620_feed,s3),sp2wt(c620_feed,s4)\n",
        "    wt = np.hstack((w1,w2,w3,w4))\n",
        "    c620_wt = pd.DataFrame(wt,index=idx,columns=self.c620_col['vent_gas_x']+self.c620_col['distillate_x']+self.c620_col['sidedraw_x']+self.c620_col['bottoms_x'])\n",
        "    \n",
        "    # c620 input mass flow rate m3 to ton\n",
        "    V615_Btm_m3 = icg_input['Simulation Case Conditions_Feed Rate_Feed from V615 Btm_m3/hr'].values.reshape(-1,1)\n",
        "    C820_Dist_m3 = icg_input['Simulation Case Conditions_Feed Rate_Feed from C820 Dist_m3/hr'].values.reshape(-1,1)\n",
        "    V615_Btm_ton = V615_Btm_m3*self.V615_density\n",
        "    C820_Dist_ton = C820_Dist_m3*self.C820_density\n",
        "    c620_feed_rate_ton = V615_Btm_ton+C820_Dist_ton\n",
        "    \n",
        "    # c620 output mass flow ton\n",
        "    c620_mf_side = np.sum(c620_feed_rate_ton*c620_feed.values*s3*0.01,axis=1,keepdims=True)\n",
        "    c620_mf_bot = np.sum(c620_feed_rate_ton*c620_feed.values*s4*0.01,axis=1,keepdims=True)\n",
        "\n",
        "    # t651 feed mass flow rate(ton)\n",
        "    t651_mf = (icg_input['Simulation Case Conditions_Feed Rate_Feed from T651_m3/hr']*self.T651_density).values.reshape(-1,1)\n",
        "\n",
        "    # c660 input mass flow(ton)\n",
        "    c660_mf = t651_mf + c620_mf_side\n",
        "    t651_mf_p ,c620_mf_side_p = t651_mf/c660_mf ,c620_mf_side/c660_mf\n",
        "\n",
        "    # c660 input(feed & case)\n",
        "    c660_feed = c620_wt[self.c620_col['sidedraw_x']].values*c620_mf_side_p + t651_feed.values*t651_mf_p\n",
        "    c660_feed = pd.DataFrame(c660_feed,index=idx,columns=self.c660_col['x41'])\n",
        "    c660_case = pd.DataFrame(index=idx,columns=self.c660_col['case'])\n",
        "    c660_case['Benzene Column C660 Operation_Specifications_Spec 2 : NA in Benzene_ppmw'] = icg_input['Simulation Case Conditions_Spec 2 : NA in Benzene_ppmw'].values\n",
        "    if self.Recommended_mode == True:\n",
        "      c660_case['Benzene Column C660 Operation_Specifications_Spec 3 : Toluene in Benzene_ppmw'] = 10\n",
        "    if self.Recommended_mode == False:\n",
        "      c660_case['Benzene Column C660 Operation_Specifications_Spec 3 : Toluene in Benzene_ppmw'] = icg_input['Benzene Column C660 Operation_Specifications_Spec 3 : Toluene in Benzene_ppmw'].values\n",
        "    c660_input = c660_case.join(c660_feed)\n",
        "    \n",
        "    # c660 output(op&wt)\n",
        "    c660_output = self.c660_model.predict(c660_input)\n",
        "    c660_sp,c660_op = c660_output.iloc[:,:41*4],c660_output.iloc[:,41*4:]\n",
        "    s1,s2,s3,s4 = c660_sp.iloc[:,:41].values,c660_sp.iloc[:,41:41*2].values,c660_sp.iloc[:,41*2:41*3].values,c660_sp.iloc[:,41*3:41*4].values\n",
        "    w1,w2,w3,w4 = sp2wt(c660_feed,s1),sp2wt(c660_feed,s2),sp2wt(c660_feed,s3),sp2wt(c660_feed,s4)\n",
        "    wt = np.hstack((w1,w2,w3,w4))\n",
        "    c660_wt = pd.DataFrame(wt,index=idx,columns=self.c660_col['vent_gas_x']+self.c660_col['distillate_x']+self.c660_col['sidedraw_x']+self.c660_col['bottoms_x'])\n",
        "    \n",
        "    # c660 output mass flow (ton)\n",
        "    c660_mf_bot = np.sum(c660_mf*c660_feed.values*s4*0.01,axis=1,keepdims=True)\n",
        "    \n",
        "    # c670 input mass flow\n",
        "    c670_mf = c620_mf_bot + c660_mf_bot\n",
        "    c620_mf_bot_p,c660_mf_bot_p = c620_mf_bot/c670_mf , c660_mf_bot/c670_mf\n",
        "    \n",
        "    # c670 feed wt%\n",
        "    c670_feed = c620_wt[self.c620_col['bottoms_x']].values*c620_mf_bot_p + c660_wt[self.c660_col['bottoms_x']].values*c660_mf_bot_p\n",
        "    c670_feed = pd.DataFrame(c670_feed,index=idx,columns=self.c670_col['combined'])\n",
        "\n",
        "    c670_bf = pd.DataFrame(index=idx,columns=self.c670_col['upper_bf'])\n",
        "    c620_bot_x = c620_wt[self.c620_col['bottoms_x']].values\n",
        "    c660_bot_x = c660_wt[self.c660_col['bottoms_x']].values\n",
        "    upper_bf = (c660_bot_x*c660_mf_bot)/(c620_bot_x*c620_mf_bot+c660_bot_x*c660_mf_bot)\n",
        "    upper_bf = pd.DataFrame(upper_bf,index=idx,columns=self.c670_col['upper_bf'])\n",
        "    upper_bf[list(set(self.index_9999)&set(upper_bf.columns))] = 0.9999\n",
        "    upper_bf[list(set(self.index_0001)&set(upper_bf.columns))] = 0.0001\n",
        "    \n",
        "    # c670 input (feed%bf)\n",
        "    c670_input = c670_feed.join(upper_bf)\n",
        "    c670_output = self.c670_model.predict(c670_input)\n",
        "    c670_sf,c670_op = c670_output.iloc[:,:41*2],c670_output.iloc[:,41*2:]\n",
        "    s1 = c670_sf[self.c670_col['distillate_sf']].values\n",
        "    s2 = c670_sf[self.c670_col['bottoms_sf']].values\n",
        "    w1 = sp2wt(c670_feed,s1)\n",
        "    w2 = sp2wt(c670_feed,s2)\n",
        "    c670_wt = np.hstack((w1,w2))\n",
        "    c670_wt = pd.DataFrame(c670_wt,index = idx,columns=self.c670_col['distillate_x']+self.c670_col['bottoms_x'])\n",
        "    \n",
        "    return c620_wt,c620_op,c660_wt,c660_op,c670_wt,c670_op"
      ],
      "execution_count": 12,
      "outputs": []
    },
    {
      "cell_type": "markdown",
      "metadata": {
        "id": "Cb7TJSTp444q"
      },
      "source": [
        "# 試算模式測試"
      ]
    },
    {
      "cell_type": "code",
      "metadata": {
        "id": "bEL2f8Kmq9ow"
      },
      "source": [
        "f = F(config)\r\n",
        "f.Recommended_mode = False"
      ],
      "execution_count": 13,
      "outputs": []
    },
    {
      "cell_type": "code",
      "metadata": {
        "id": "0cjAoL-Z4q4z"
      },
      "source": [
        "commom_idx = list(set(icg_df.index)&\n",
        "      set(c620_df.index)&\n",
        "      set(c660_df.index)&\n",
        "      set(c670_df.index)&\n",
        "      set(t651_df.index))\n",
        "idx = np.random.choice(commom_idx,size=100,replace=False,p=None)\n",
        "\n",
        "# minibatch input \n",
        "icg_input = icg_input.loc[idx]\n",
        "c620_feed = c620_feed.loc[idx]\n",
        "t651_feed = t651_feed.loc[idx]\n",
        "\n",
        "# minibatch output \n",
        "c620_op = c620_op.loc[idx]\n",
        "c620_wt = c620_wt.loc[idx]\n",
        "c660_op = c660_op.loc[idx]\n",
        "c660_wt = c660_wt.loc[idx]\n",
        "c670_op = c670_op.loc[idx]\n",
        "c670_wt = c670_wt.loc[idx]"
      ],
      "execution_count": 14,
      "outputs": []
    },
    {
      "cell_type": "markdown",
      "metadata": {
        "id": "gEW6WdmS-m55"
      },
      "source": [
        "# predict output"
      ]
    },
    {
      "cell_type": "code",
      "metadata": {
        "id": "z23Si7irsA5P"
      },
      "source": [
        "c620_wt_,c620_op_,c660_wt_,c660_op_,c670_wt_,c670_op_ = f(icg_input,c620_feed,t651_feed)"
      ],
      "execution_count": 15,
      "outputs": []
    },
    {
      "cell_type": "markdown",
      "metadata": {
        "id": "7X3v7hYJ6jfh"
      },
      "source": [
        "# c620 show_metrics"
      ]
    },
    {
      "cell_type": "code",
      "metadata": {
        "colab": {
          "base_uri": "https://localhost:8080/",
          "height": 407
        },
        "id": "qrGCMeFvsBEV",
        "outputId": "c54c7b5c-e091-414c-b9c2-673985912c68"
      },
      "source": [
        "f.c620_model.show_metrics(c620_wt,c620_wt_,e=2e-2)"
      ],
      "execution_count": 16,
      "outputs": [
        {
          "output_type": "execute_result",
          "data": {
            "text/html": [
              "<div>\n",
              "<style scoped>\n",
              "    .dataframe tbody tr th:only-of-type {\n",
              "        vertical-align: middle;\n",
              "    }\n",
              "\n",
              "    .dataframe tbody tr th {\n",
              "        vertical-align: top;\n",
              "    }\n",
              "\n",
              "    .dataframe thead th {\n",
              "        text-align: right;\n",
              "    }\n",
              "</style>\n",
              "<table border=\"1\" class=\"dataframe\">\n",
              "  <thead>\n",
              "    <tr style=\"text-align: right;\">\n",
              "      <th></th>\n",
              "      <th>R2</th>\n",
              "      <th>MSE</th>\n",
              "      <th>MAPE</th>\n",
              "    </tr>\n",
              "  </thead>\n",
              "  <tbody>\n",
              "    <tr>\n",
              "      <th>Tatoray Stripper C620 Operation_Vent Gas Production Rate and Composition_Hydrogen_wt%</th>\n",
              "      <td>1</td>\n",
              "      <td>0</td>\n",
              "      <td>NaN</td>\n",
              "    </tr>\n",
              "    <tr>\n",
              "      <th>Tatoray Stripper C620 Operation_Vent Gas Production Rate and Composition_Methane_wt%</th>\n",
              "      <td>0.999262</td>\n",
              "      <td>1.20391e-05</td>\n",
              "      <td>0.143525</td>\n",
              "    </tr>\n",
              "    <tr>\n",
              "      <th>Tatoray Stripper C620 Operation_Vent Gas Production Rate and Composition_Ethane_wt%</th>\n",
              "      <td>0.99916</td>\n",
              "      <td>0.00328092</td>\n",
              "      <td>0.106955</td>\n",
              "    </tr>\n",
              "    <tr>\n",
              "      <th>Tatoray Stripper C620 Operation_Vent Gas Production Rate and Composition_Propane_wt%</th>\n",
              "      <td>0.992563</td>\n",
              "      <td>0.00134625</td>\n",
              "      <td>0.0489996</td>\n",
              "    </tr>\n",
              "    <tr>\n",
              "      <th>Tatoray Stripper C620 Operation_Vent Gas Production Rate and Composition_n-Butane_wt%</th>\n",
              "      <td>0.999329</td>\n",
              "      <td>0.000950233</td>\n",
              "      <td>0.280119</td>\n",
              "    </tr>\n",
              "    <tr>\n",
              "      <th>...</th>\n",
              "      <td>...</td>\n",
              "      <td>...</td>\n",
              "      <td>...</td>\n",
              "    </tr>\n",
              "    <tr>\n",
              "      <th>Tatoray Stripper C620 Operation_Bottoms Production Rate and Composition_n-Pentylbenzene_wt%</th>\n",
              "      <td>0.999996</td>\n",
              "      <td>1.01831e-08</td>\n",
              "      <td>0.0176679</td>\n",
              "    </tr>\n",
              "    <tr>\n",
              "      <th>Tatoray Stripper C620 Operation_Bottoms Production Rate and Composition_n-Hexylbenzene_wt%</th>\n",
              "      <td>0.999996</td>\n",
              "      <td>1.87583e-09</td>\n",
              "      <td>0.0176666</td>\n",
              "    </tr>\n",
              "    <tr>\n",
              "      <th>Tatoray Stripper C620 Operation_Bottoms Production Rate and Composition_Nitrogen_wt%</th>\n",
              "      <td>1</td>\n",
              "      <td>0</td>\n",
              "      <td>NaN</td>\n",
              "    </tr>\n",
              "    <tr>\n",
              "      <th>Tatoray Stripper C620 Operation_Bottoms Production Rate and Composition_Oxygen_wt%</th>\n",
              "      <td>1</td>\n",
              "      <td>0</td>\n",
              "      <td>NaN</td>\n",
              "    </tr>\n",
              "    <tr>\n",
              "      <th>AVG</th>\n",
              "      <td>0.92158</td>\n",
              "      <td>0.137626</td>\n",
              "      <td>2.1464</td>\n",
              "    </tr>\n",
              "  </tbody>\n",
              "</table>\n",
              "<p>165 rows × 3 columns</p>\n",
              "</div>"
            ],
            "text/plain": [
              "                                                          R2  ...       MAPE\n",
              "Tatoray Stripper C620 Operation_Vent Gas Produc...         1  ...        NaN\n",
              "Tatoray Stripper C620 Operation_Vent Gas Produc...  0.999262  ...   0.143525\n",
              "Tatoray Stripper C620 Operation_Vent Gas Produc...   0.99916  ...   0.106955\n",
              "Tatoray Stripper C620 Operation_Vent Gas Produc...  0.992563  ...  0.0489996\n",
              "Tatoray Stripper C620 Operation_Vent Gas Produc...  0.999329  ...   0.280119\n",
              "...                                                      ...  ...        ...\n",
              "Tatoray Stripper C620 Operation_Bottoms Product...  0.999996  ...  0.0176679\n",
              "Tatoray Stripper C620 Operation_Bottoms Product...  0.999996  ...  0.0176666\n",
              "Tatoray Stripper C620 Operation_Bottoms Product...         1  ...        NaN\n",
              "Tatoray Stripper C620 Operation_Bottoms Product...         1  ...        NaN\n",
              "AVG                                                  0.92158  ...     2.1464\n",
              "\n",
              "[165 rows x 3 columns]"
            ]
          },
          "metadata": {
            "tags": []
          },
          "execution_count": 16
        }
      ]
    },
    {
      "cell_type": "code",
      "metadata": {
        "colab": {
          "base_uri": "https://localhost:8080/",
          "height": 378
        },
        "id": "I8RmO0CosBG9",
        "outputId": "d935506b-5f03-4142-eb78-cb35a840f6df"
      },
      "source": [
        "f.c620_model.show_metrics(c620_op,c620_op_,e=2e-2)"
      ],
      "execution_count": 17,
      "outputs": [
        {
          "output_type": "execute_result",
          "data": {
            "text/html": [
              "<div>\n",
              "<style scoped>\n",
              "    .dataframe tbody tr th:only-of-type {\n",
              "        vertical-align: middle;\n",
              "    }\n",
              "\n",
              "    .dataframe tbody tr th {\n",
              "        vertical-align: top;\n",
              "    }\n",
              "\n",
              "    .dataframe thead th {\n",
              "        text-align: right;\n",
              "    }\n",
              "</style>\n",
              "<table border=\"1\" class=\"dataframe\">\n",
              "  <thead>\n",
              "    <tr style=\"text-align: right;\">\n",
              "      <th></th>\n",
              "      <th>R2</th>\n",
              "      <th>MSE</th>\n",
              "      <th>MAPE</th>\n",
              "    </tr>\n",
              "  </thead>\n",
              "  <tbody>\n",
              "    <tr>\n",
              "      <th>Density_Feed Properties</th>\n",
              "      <td>0.999942</td>\n",
              "      <td>8.55918e-11</td>\n",
              "      <td>0.000794066</td>\n",
              "    </tr>\n",
              "    <tr>\n",
              "      <th>Density_Vent Gas Production Rate and Composition</th>\n",
              "      <td>0.99207</td>\n",
              "      <td>1.51594e-07</td>\n",
              "      <td>0.0768588</td>\n",
              "    </tr>\n",
              "    <tr>\n",
              "      <th>Density_Distillate Production Rate and Composition</th>\n",
              "      <td>0.998027</td>\n",
              "      <td>1.95049e-07</td>\n",
              "      <td>0.0468305</td>\n",
              "    </tr>\n",
              "    <tr>\n",
              "      <th>Density_Sidedraw Production Rate and Composition</th>\n",
              "      <td>0.999815</td>\n",
              "      <td>2.05066e-10</td>\n",
              "      <td>0.00126001</td>\n",
              "    </tr>\n",
              "    <tr>\n",
              "      <th>Density_Bottoms Production Rate and Composition</th>\n",
              "      <td>0.999474</td>\n",
              "      <td>8.50901e-12</td>\n",
              "      <td>0.000275111</td>\n",
              "    </tr>\n",
              "    <tr>\n",
              "      <th>Tatoray Stripper C620 Operation_Yield Summary_Reflux Rate_m3/hr</th>\n",
              "      <td>0.999337</td>\n",
              "      <td>0.0949143</td>\n",
              "      <td>0.179171</td>\n",
              "    </tr>\n",
              "    <tr>\n",
              "      <th>Tatoray Stripper C620 Operation_Heat Duty_Condenser Heat Duty_Mkcal/hr</th>\n",
              "      <td>0.999682</td>\n",
              "      <td>0.000365872</td>\n",
              "      <td>0.117288</td>\n",
              "    </tr>\n",
              "    <tr>\n",
              "      <th>Tatoray Stripper C620 Operation_Heat Duty_Reboiler Heat Duty_Mkcal/hr</th>\n",
              "      <td>0.999494</td>\n",
              "      <td>0.000833586</td>\n",
              "      <td>0.148572</td>\n",
              "    </tr>\n",
              "    <tr>\n",
              "      <th>Tatoray Stripper C620 Operation_Column Temp Profile_C620 Tray 14 (Control)_oC</th>\n",
              "      <td>0.999589</td>\n",
              "      <td>0.000528518</td>\n",
              "      <td>0.0101853</td>\n",
              "    </tr>\n",
              "    <tr>\n",
              "      <th>Tatoray Stripper C620 Operation_Column Temp Profile_C620 Tray 34 (Control)_oC</th>\n",
              "      <td>0.999545</td>\n",
              "      <td>0.000373411</td>\n",
              "      <td>0.00771709</td>\n",
              "    </tr>\n",
              "    <tr>\n",
              "      <th>AVG</th>\n",
              "      <td>0.998698</td>\n",
              "      <td>0.0097016</td>\n",
              "      <td>0.0588951</td>\n",
              "    </tr>\n",
              "  </tbody>\n",
              "</table>\n",
              "</div>"
            ],
            "text/plain": [
              "                                                          R2  ...         MAPE\n",
              "Density_Feed Properties                             0.999942  ...  0.000794066\n",
              "Density_Vent Gas Production Rate and Composition     0.99207  ...    0.0768588\n",
              "Density_Distillate Production Rate and Composition  0.998027  ...    0.0468305\n",
              "Density_Sidedraw Production Rate and Composition    0.999815  ...   0.00126001\n",
              "Density_Bottoms Production Rate and Composition     0.999474  ...  0.000275111\n",
              "Tatoray Stripper C620 Operation_Yield Summary_R...  0.999337  ...     0.179171\n",
              "Tatoray Stripper C620 Operation_Heat Duty_Conde...  0.999682  ...     0.117288\n",
              "Tatoray Stripper C620 Operation_Heat Duty_Reboi...  0.999494  ...     0.148572\n",
              "Tatoray Stripper C620 Operation_Column Temp Pro...  0.999589  ...    0.0101853\n",
              "Tatoray Stripper C620 Operation_Column Temp Pro...  0.999545  ...   0.00771709\n",
              "AVG                                                 0.998698  ...    0.0588951\n",
              "\n",
              "[11 rows x 3 columns]"
            ]
          },
          "metadata": {
            "tags": []
          },
          "execution_count": 17
        }
      ]
    },
    {
      "cell_type": "markdown",
      "metadata": {
        "id": "P37pbl4F-wJE"
      },
      "source": [
        "# c660 show_metrics"
      ]
    },
    {
      "cell_type": "code",
      "metadata": {
        "colab": {
          "base_uri": "https://localhost:8080/",
          "height": 407
        },
        "id": "A6SzCgpXsBJr",
        "outputId": "352b5a3c-77d7-43a4-fdd3-fa8f0f0e06c6"
      },
      "source": [
        "f.c660_model.show_metrics(c660_wt,c660_wt_,e=2e-2)"
      ],
      "execution_count": 18,
      "outputs": [
        {
          "output_type": "execute_result",
          "data": {
            "text/html": [
              "<div>\n",
              "<style scoped>\n",
              "    .dataframe tbody tr th:only-of-type {\n",
              "        vertical-align: middle;\n",
              "    }\n",
              "\n",
              "    .dataframe tbody tr th {\n",
              "        vertical-align: top;\n",
              "    }\n",
              "\n",
              "    .dataframe thead th {\n",
              "        text-align: right;\n",
              "    }\n",
              "</style>\n",
              "<table border=\"1\" class=\"dataframe\">\n",
              "  <thead>\n",
              "    <tr style=\"text-align: right;\">\n",
              "      <th></th>\n",
              "      <th>R2</th>\n",
              "      <th>MSE</th>\n",
              "      <th>MAPE</th>\n",
              "    </tr>\n",
              "  </thead>\n",
              "  <tbody>\n",
              "    <tr>\n",
              "      <th>Benzene Column C660 Operation_Vent Gas Production Rate and Composition_Hydrogen_wt%</th>\n",
              "      <td>1</td>\n",
              "      <td>0</td>\n",
              "      <td>NaN</td>\n",
              "    </tr>\n",
              "    <tr>\n",
              "      <th>Benzene Column C660 Operation_Vent Gas Production Rate and Composition_Methane_wt%</th>\n",
              "      <td>0.99088</td>\n",
              "      <td>0.00195392</td>\n",
              "      <td>2.12436</td>\n",
              "    </tr>\n",
              "    <tr>\n",
              "      <th>Benzene Column C660 Operation_Vent Gas Production Rate and Composition_Ethane_wt%</th>\n",
              "      <td>0.996191</td>\n",
              "      <td>0.155454</td>\n",
              "      <td>1.08198</td>\n",
              "    </tr>\n",
              "    <tr>\n",
              "      <th>Benzene Column C660 Operation_Vent Gas Production Rate and Composition_Propane_wt%</th>\n",
              "      <td>0.986958</td>\n",
              "      <td>0.0853964</td>\n",
              "      <td>0.986906</td>\n",
              "    </tr>\n",
              "    <tr>\n",
              "      <th>Benzene Column C660 Operation_Vent Gas Production Rate and Composition_n-Butane_wt%</th>\n",
              "      <td>0.997078</td>\n",
              "      <td>0.0357102</td>\n",
              "      <td>2.10192</td>\n",
              "    </tr>\n",
              "    <tr>\n",
              "      <th>...</th>\n",
              "      <td>...</td>\n",
              "      <td>...</td>\n",
              "      <td>...</td>\n",
              "    </tr>\n",
              "    <tr>\n",
              "      <th>Benzene Column C660 Operation_Bottoms Production Rate and Composition_n-Pentylbenzene_wt%</th>\n",
              "      <td>0.999915</td>\n",
              "      <td>1.23353e-27</td>\n",
              "      <td>NaN</td>\n",
              "    </tr>\n",
              "    <tr>\n",
              "      <th>Benzene Column C660 Operation_Bottoms Production Rate and Composition_n-Hexylbenzene_wt%</th>\n",
              "      <td>0.999922</td>\n",
              "      <td>1.37835e-33</td>\n",
              "      <td>NaN</td>\n",
              "    </tr>\n",
              "    <tr>\n",
              "      <th>Benzene Column C660 Operation_Bottoms Production Rate and Composition_Nitrogen_wt%</th>\n",
              "      <td>1</td>\n",
              "      <td>0</td>\n",
              "      <td>NaN</td>\n",
              "    </tr>\n",
              "    <tr>\n",
              "      <th>Benzene Column C660 Operation_Bottoms Production Rate and Composition_Oxygen_wt%</th>\n",
              "      <td>1</td>\n",
              "      <td>0</td>\n",
              "      <td>NaN</td>\n",
              "    </tr>\n",
              "    <tr>\n",
              "      <th>AVG</th>\n",
              "      <td>0.799899</td>\n",
              "      <td>0.00476216</td>\n",
              "      <td>1.05742</td>\n",
              "    </tr>\n",
              "  </tbody>\n",
              "</table>\n",
              "<p>165 rows × 3 columns</p>\n",
              "</div>"
            ],
            "text/plain": [
              "                                                          R2  ...      MAPE\n",
              "Benzene Column C660 Operation_Vent Gas Producti...         1  ...       NaN\n",
              "Benzene Column C660 Operation_Vent Gas Producti...   0.99088  ...   2.12436\n",
              "Benzene Column C660 Operation_Vent Gas Producti...  0.996191  ...   1.08198\n",
              "Benzene Column C660 Operation_Vent Gas Producti...  0.986958  ...  0.986906\n",
              "Benzene Column C660 Operation_Vent Gas Producti...  0.997078  ...   2.10192\n",
              "...                                                      ...  ...       ...\n",
              "Benzene Column C660 Operation_Bottoms Productio...  0.999915  ...       NaN\n",
              "Benzene Column C660 Operation_Bottoms Productio...  0.999922  ...       NaN\n",
              "Benzene Column C660 Operation_Bottoms Productio...         1  ...       NaN\n",
              "Benzene Column C660 Operation_Bottoms Productio...         1  ...       NaN\n",
              "AVG                                                 0.799899  ...   1.05742\n",
              "\n",
              "[165 rows x 3 columns]"
            ]
          },
          "metadata": {
            "tags": []
          },
          "execution_count": 18
        }
      ]
    },
    {
      "cell_type": "code",
      "metadata": {
        "colab": {
          "base_uri": "https://localhost:8080/",
          "height": 378
        },
        "id": "pYJcYfOsztlz",
        "outputId": "e4c5ba13-12ae-475e-d32a-bc0808dd6a18"
      },
      "source": [
        "f.c660_model.show_metrics(c660_op,c660_op_,e=2e-2)"
      ],
      "execution_count": 19,
      "outputs": [
        {
          "output_type": "execute_result",
          "data": {
            "text/html": [
              "<div>\n",
              "<style scoped>\n",
              "    .dataframe tbody tr th:only-of-type {\n",
              "        vertical-align: middle;\n",
              "    }\n",
              "\n",
              "    .dataframe tbody tr th {\n",
              "        vertical-align: top;\n",
              "    }\n",
              "\n",
              "    .dataframe thead th {\n",
              "        text-align: right;\n",
              "    }\n",
              "</style>\n",
              "<table border=\"1\" class=\"dataframe\">\n",
              "  <thead>\n",
              "    <tr style=\"text-align: right;\">\n",
              "      <th></th>\n",
              "      <th>R2</th>\n",
              "      <th>MSE</th>\n",
              "      <th>MAPE</th>\n",
              "    </tr>\n",
              "  </thead>\n",
              "  <tbody>\n",
              "    <tr>\n",
              "      <th>Density_Feed Properties</th>\n",
              "      <td>0.996928</td>\n",
              "      <td>2.43108e-09</td>\n",
              "      <td>0.00438318</td>\n",
              "    </tr>\n",
              "    <tr>\n",
              "      <th>Density_Vent Gas Production Rate and Composition</th>\n",
              "      <td>0.998658</td>\n",
              "      <td>4.55185e-07</td>\n",
              "      <td>0.0920546</td>\n",
              "    </tr>\n",
              "    <tr>\n",
              "      <th>Density_Distillate (Benzene Drag) Production Rate and Composition</th>\n",
              "      <td>0.997042</td>\n",
              "      <td>2.38469e-07</td>\n",
              "      <td>0.0385293</td>\n",
              "    </tr>\n",
              "    <tr>\n",
              "      <th>Density_Sidedraw (Benzene )Production Rate and Composition</th>\n",
              "      <td>0.982675</td>\n",
              "      <td>1.41648e-12</td>\n",
              "      <td>0.000103087</td>\n",
              "    </tr>\n",
              "    <tr>\n",
              "      <th>Density_Bottoms Production Rate and Composition</th>\n",
              "      <td>0.999033</td>\n",
              "      <td>6.84863e-11</td>\n",
              "      <td>0.000738424</td>\n",
              "    </tr>\n",
              "    <tr>\n",
              "      <th>Benzene Column C660 Operation_Yield Summary_Reflux Rate_m3/hr</th>\n",
              "      <td>0.997789</td>\n",
              "      <td>1.89933</td>\n",
              "      <td>0.81899</td>\n",
              "    </tr>\n",
              "    <tr>\n",
              "      <th>Benzene Column C660 Operation_Heat Duty_Condenser Heat Duty_Mkcal/hr</th>\n",
              "      <td>0.997701</td>\n",
              "      <td>0.0150669</td>\n",
              "      <td>0.762716</td>\n",
              "    </tr>\n",
              "    <tr>\n",
              "      <th>Benzene Column C660 Operation_Heat Duty_Reboiler Heat Duty_Mkcal/hr</th>\n",
              "      <td>0.998095</td>\n",
              "      <td>0.0131646</td>\n",
              "      <td>0.745339</td>\n",
              "    </tr>\n",
              "    <tr>\n",
              "      <th>Benzene Column C660 Operation_Column Temp Profile_C660 Tray 6 (SD &amp; Control)_oC</th>\n",
              "      <td>0.998038</td>\n",
              "      <td>8.66466e-05</td>\n",
              "      <td>0.00860119</td>\n",
              "    </tr>\n",
              "    <tr>\n",
              "      <th>Benzene Column C660 Operation_Column Temp Profile_C660 Tray 23 (Control)_oC</th>\n",
              "      <td>0.997944</td>\n",
              "      <td>0.00167006</td>\n",
              "      <td>0.0349411</td>\n",
              "    </tr>\n",
              "    <tr>\n",
              "      <th>AVG</th>\n",
              "      <td>0.99639</td>\n",
              "      <td>0.192932</td>\n",
              "      <td>0.25064</td>\n",
              "    </tr>\n",
              "  </tbody>\n",
              "</table>\n",
              "</div>"
            ],
            "text/plain": [
              "                                                          R2  ...         MAPE\n",
              "Density_Feed Properties                             0.996928  ...   0.00438318\n",
              "Density_Vent Gas Production Rate and Composition    0.998658  ...    0.0920546\n",
              "Density_Distillate (Benzene Drag) Production Ra...  0.997042  ...    0.0385293\n",
              "Density_Sidedraw (Benzene )Production Rate and ...  0.982675  ...  0.000103087\n",
              "Density_Bottoms Production Rate and Composition     0.999033  ...  0.000738424\n",
              "Benzene Column C660 Operation_Yield Summary_Ref...  0.997789  ...      0.81899\n",
              "Benzene Column C660 Operation_Heat Duty_Condens...  0.997701  ...     0.762716\n",
              "Benzene Column C660 Operation_Heat Duty_Reboile...  0.998095  ...     0.745339\n",
              "Benzene Column C660 Operation_Column Temp Profi...  0.998038  ...   0.00860119\n",
              "Benzene Column C660 Operation_Column Temp Profi...  0.997944  ...    0.0349411\n",
              "AVG                                                  0.99639  ...      0.25064\n",
              "\n",
              "[11 rows x 3 columns]"
            ]
          },
          "metadata": {
            "tags": []
          },
          "execution_count": 19
        }
      ]
    },
    {
      "cell_type": "markdown",
      "metadata": {
        "id": "ojwKS0TP-yTa"
      },
      "source": [
        "# c670 show_metrics"
      ]
    },
    {
      "cell_type": "code",
      "metadata": {
        "colab": {
          "base_uri": "https://localhost:8080/",
          "height": 407
        },
        "id": "odK0RWomzwNE",
        "outputId": "c2aa40fa-4c24-4081-a858-9e3927cebb24"
      },
      "source": [
        "f.c670_model.show_metrics(c670_wt,c670_wt_,e=2e-2)"
      ],
      "execution_count": 20,
      "outputs": [
        {
          "output_type": "execute_result",
          "data": {
            "text/html": [
              "<div>\n",
              "<style scoped>\n",
              "    .dataframe tbody tr th:only-of-type {\n",
              "        vertical-align: middle;\n",
              "    }\n",
              "\n",
              "    .dataframe tbody tr th {\n",
              "        vertical-align: top;\n",
              "    }\n",
              "\n",
              "    .dataframe thead th {\n",
              "        text-align: right;\n",
              "    }\n",
              "</style>\n",
              "<table border=\"1\" class=\"dataframe\">\n",
              "  <thead>\n",
              "    <tr style=\"text-align: right;\">\n",
              "      <th></th>\n",
              "      <th>R2</th>\n",
              "      <th>MSE</th>\n",
              "      <th>MAPE</th>\n",
              "    </tr>\n",
              "  </thead>\n",
              "  <tbody>\n",
              "    <tr>\n",
              "      <th>Toluene Column C670 Operation_Distillate Production Rate and Composition_Hydrogen_wt%</th>\n",
              "      <td>1</td>\n",
              "      <td>0</td>\n",
              "      <td>NaN</td>\n",
              "    </tr>\n",
              "    <tr>\n",
              "      <th>Toluene Column C670 Operation_Distillate Production Rate and Composition_Methane_wt%</th>\n",
              "      <td>0</td>\n",
              "      <td>2.44768e-13</td>\n",
              "      <td>NaN</td>\n",
              "    </tr>\n",
              "    <tr>\n",
              "      <th>Toluene Column C670 Operation_Distillate Production Rate and Composition_Ethane_wt%</th>\n",
              "      <td>0</td>\n",
              "      <td>8.80938e-11</td>\n",
              "      <td>NaN</td>\n",
              "    </tr>\n",
              "    <tr>\n",
              "      <th>Toluene Column C670 Operation_Distillate Production Rate and Composition_Propane_wt%</th>\n",
              "      <td>0</td>\n",
              "      <td>1.27229e-10</td>\n",
              "      <td>NaN</td>\n",
              "    </tr>\n",
              "    <tr>\n",
              "      <th>Toluene Column C670 Operation_Distillate Production Rate and Composition_n-Butane_wt%</th>\n",
              "      <td>0</td>\n",
              "      <td>6.84273e-47</td>\n",
              "      <td>NaN</td>\n",
              "    </tr>\n",
              "    <tr>\n",
              "      <th>...</th>\n",
              "      <td>...</td>\n",
              "      <td>...</td>\n",
              "      <td>...</td>\n",
              "    </tr>\n",
              "    <tr>\n",
              "      <th>Toluene Column C670 Operation_Bottoms Production Rate and Composition_n-Pentylbenzene_wt%</th>\n",
              "      <td>1</td>\n",
              "      <td>4.36514e-09</td>\n",
              "      <td>0.00751211</td>\n",
              "    </tr>\n",
              "    <tr>\n",
              "      <th>Toluene Column C670 Operation_Bottoms Production Rate and Composition_n-Hexylbenzene_wt%</th>\n",
              "      <td>1</td>\n",
              "      <td>8.49457e-10</td>\n",
              "      <td>0.00758337</td>\n",
              "    </tr>\n",
              "    <tr>\n",
              "      <th>Toluene Column C670 Operation_Bottoms Production Rate and Composition_Nitrogen_wt%</th>\n",
              "      <td>1</td>\n",
              "      <td>0</td>\n",
              "      <td>NaN</td>\n",
              "    </tr>\n",
              "    <tr>\n",
              "      <th>Toluene Column C670 Operation_Bottoms Production Rate and Composition_Oxygen_wt%</th>\n",
              "      <td>1</td>\n",
              "      <td>0</td>\n",
              "      <td>NaN</td>\n",
              "    </tr>\n",
              "    <tr>\n",
              "      <th>AVG</th>\n",
              "      <td>0.828826</td>\n",
              "      <td>2.71828e-07</td>\n",
              "      <td>0.0485318</td>\n",
              "    </tr>\n",
              "  </tbody>\n",
              "</table>\n",
              "<p>83 rows × 3 columns</p>\n",
              "</div>"
            ],
            "text/plain": [
              "                                                          R2  ...        MAPE\n",
              "Toluene Column C670 Operation_Distillate Produc...         1  ...         NaN\n",
              "Toluene Column C670 Operation_Distillate Produc...         0  ...         NaN\n",
              "Toluene Column C670 Operation_Distillate Produc...         0  ...         NaN\n",
              "Toluene Column C670 Operation_Distillate Produc...         0  ...         NaN\n",
              "Toluene Column C670 Operation_Distillate Produc...         0  ...         NaN\n",
              "...                                                      ...  ...         ...\n",
              "Toluene Column C670 Operation_Bottoms Productio...         1  ...  0.00751211\n",
              "Toluene Column C670 Operation_Bottoms Productio...         1  ...  0.00758337\n",
              "Toluene Column C670 Operation_Bottoms Productio...         1  ...         NaN\n",
              "Toluene Column C670 Operation_Bottoms Productio...         1  ...         NaN\n",
              "AVG                                                 0.828826  ...   0.0485318\n",
              "\n",
              "[83 rows x 3 columns]"
            ]
          },
          "metadata": {
            "tags": []
          },
          "execution_count": 20
        }
      ]
    },
    {
      "cell_type": "code",
      "metadata": {
        "colab": {
          "base_uri": "https://localhost:8080/",
          "height": 288
        },
        "id": "AF7PspgF29yO",
        "outputId": "5fa59085-1247-436d-f312-b693b2929fb0"
      },
      "source": [
        "f.c670_model.show_metrics(c670_op,c670_op_,e=2e-2)"
      ],
      "execution_count": 21,
      "outputs": [
        {
          "output_type": "execute_result",
          "data": {
            "text/html": [
              "<div>\n",
              "<style scoped>\n",
              "    .dataframe tbody tr th:only-of-type {\n",
              "        vertical-align: middle;\n",
              "    }\n",
              "\n",
              "    .dataframe tbody tr th {\n",
              "        vertical-align: top;\n",
              "    }\n",
              "\n",
              "    .dataframe thead th {\n",
              "        text-align: right;\n",
              "    }\n",
              "</style>\n",
              "<table border=\"1\" class=\"dataframe\">\n",
              "  <thead>\n",
              "    <tr style=\"text-align: right;\">\n",
              "      <th></th>\n",
              "      <th>R2</th>\n",
              "      <th>MSE</th>\n",
              "      <th>MAPE</th>\n",
              "    </tr>\n",
              "  </thead>\n",
              "  <tbody>\n",
              "    <tr>\n",
              "      <th>Density_Distillate Production Rate and Composition</th>\n",
              "      <td>0.997648</td>\n",
              "      <td>1.70364e-12</td>\n",
              "      <td>0.000124051</td>\n",
              "    </tr>\n",
              "    <tr>\n",
              "      <th>Density_Bottoms Production Rate and Composition</th>\n",
              "      <td>0.999098</td>\n",
              "      <td>1.30575e-10</td>\n",
              "      <td>0.00102469</td>\n",
              "    </tr>\n",
              "    <tr>\n",
              "      <th>Toluene Column C670 Operation_Yield \\nSummary_Reflux Rate_m3/hr</th>\n",
              "      <td>0.995921</td>\n",
              "      <td>2.31478</td>\n",
              "      <td>0.47305</td>\n",
              "    </tr>\n",
              "    <tr>\n",
              "      <th>Toluene Column C670 Operation_Heat Duty_Condenser Heat Duty_Mkcal/hr</th>\n",
              "      <td>0.996599</td>\n",
              "      <td>0.0307561</td>\n",
              "      <td>0.456144</td>\n",
              "    </tr>\n",
              "    <tr>\n",
              "      <th>Toluene Column C670 Operation_Heat Duty_Reboiler Heat Duty_Mkcal/hr</th>\n",
              "      <td>0.996586</td>\n",
              "      <td>0.029222</td>\n",
              "      <td>0.44318</td>\n",
              "    </tr>\n",
              "    <tr>\n",
              "      <th>Toluene Column C670 Operation_Column Temp Profile_C670 Tray 24 (Control)_oC</th>\n",
              "      <td>0.994135</td>\n",
              "      <td>0.000291909</td>\n",
              "      <td>0.00748725</td>\n",
              "    </tr>\n",
              "    <tr>\n",
              "      <th>Toluene Column C670 Operation_Column Temp Profile_C670 Btm Temp (Control)_oC</th>\n",
              "      <td>0.998629</td>\n",
              "      <td>0.00363614</td>\n",
              "      <td>0.0207082</td>\n",
              "    </tr>\n",
              "    <tr>\n",
              "      <th>AVG</th>\n",
              "      <td>0.996945</td>\n",
              "      <td>0.339812</td>\n",
              "      <td>0.200245</td>\n",
              "    </tr>\n",
              "  </tbody>\n",
              "</table>\n",
              "</div>"
            ],
            "text/plain": [
              "                                                          R2  ...         MAPE\n",
              "Density_Distillate Production Rate and Composition  0.997648  ...  0.000124051\n",
              "Density_Bottoms Production Rate and Composition     0.999098  ...   0.00102469\n",
              "Toluene Column C670 Operation_Yield \\nSummary_R...  0.995921  ...      0.47305\n",
              "Toluene Column C670 Operation_Heat Duty_Condens...  0.996599  ...     0.456144\n",
              "Toluene Column C670 Operation_Heat Duty_Reboile...  0.996586  ...      0.44318\n",
              "Toluene Column C670 Operation_Column Temp Profi...  0.994135  ...   0.00748725\n",
              "Toluene Column C670 Operation_Column Temp Profi...  0.998629  ...    0.0207082\n",
              "AVG                                                 0.996945  ...     0.200245\n",
              "\n",
              "[8 rows x 3 columns]"
            ]
          },
          "metadata": {
            "tags": []
          },
          "execution_count": 21
        }
      ]
    },
    {
      "cell_type": "markdown",
      "metadata": {
        "id": "xHtEOnkCnomJ"
      },
      "source": [
        "# 推薦模式 測試"
      ]
    },
    {
      "cell_type": "code",
      "metadata": {
        "id": "Zmu8FCxhVIri",
        "colab": {
          "base_uri": "https://localhost:8080/"
        },
        "outputId": "c21225b4-e720-4134-cbf3-f336a199f815"
      },
      "source": [
        "# change mode\n",
        "f.Recommended_mode = True\n",
        "f.Recommended_mode"
      ],
      "execution_count": 22,
      "outputs": [
        {
          "output_type": "execute_result",
          "data": {
            "text/plain": [
              "True"
            ]
          },
          "metadata": {
            "tags": []
          },
          "execution_count": 22
        }
      ]
    },
    {
      "cell_type": "code",
      "metadata": {
        "id": "J2fSD-la4UZT",
        "colab": {
          "base_uri": "https://localhost:8080/",
          "height": 185
        },
        "outputId": "1b94ac88-73f2-4b11-d39d-9195706c2d53"
      },
      "source": [
        "# select one sample c620_side == 70 & NA in Benzene == 980\n",
        "cond = (icg_input['Simulation Case Conditions_Spec 1 : Benzene in C620 Sidedraw_wt%']==70)&(icg_input['Simulation Case Conditions_Spec 2 : NA in Benzene_ppmw']==980)\n",
        "one_sample = icg_input.loc[cond].sample(1)\n",
        "one_sample"
      ],
      "execution_count": 23,
      "outputs": [
        {
          "output_type": "execute_result",
          "data": {
            "text/html": [
              "<div>\n",
              "<style scoped>\n",
              "    .dataframe tbody tr th:only-of-type {\n",
              "        vertical-align: middle;\n",
              "    }\n",
              "\n",
              "    .dataframe tbody tr th {\n",
              "        vertical-align: top;\n",
              "    }\n",
              "\n",
              "    .dataframe thead th {\n",
              "        text-align: right;\n",
              "    }\n",
              "</style>\n",
              "<table border=\"1\" class=\"dataframe\">\n",
              "  <thead>\n",
              "    <tr style=\"text-align: right;\">\n",
              "      <th></th>\n",
              "      <th>Simulation Case Conditions_Feed Rate_Feed from V615 Btm_m3/hr</th>\n",
              "      <th>Simulation Case Conditions_Feed Rate_Feed from V615 Btm    NA_wt%</th>\n",
              "      <th>Simulation Case Conditions_Feed Rate_Feed from V615 Btm    Benzene_wt%</th>\n",
              "      <th>Simulation Case Conditions_Feed Rate_Feed from V615 Btm    Toluene_wt%</th>\n",
              "      <th>Simulation Case Conditions_Feed Rate_Feed from C820 Dist_m3/hr</th>\n",
              "      <th>Simulation Case Conditions_Feed Rate_Feed from C820 Dist    NA_wt%</th>\n",
              "      <th>Simulation Case Conditions_Feed Rate_Feed from C820 Dist    Benzene_wt%</th>\n",
              "      <th>Simulation Case Conditions_Feed Rate_Feed from C820 Dist    Toluene_wt%</th>\n",
              "      <th>Simulation Case Conditions_Feed Rate_Feed from T651_m3/hr</th>\n",
              "      <th>Simulation Case Conditions_Feed Rate_Feed from T651    NA_wt%</th>\n",
              "      <th>Simulation Case Conditions_Feed Rate_Feed from T651    Benzene_wt%</th>\n",
              "      <th>Simulation Case Conditions_Feed Rate_Feed from T651    Toluene_wt%</th>\n",
              "      <th>Simulation Case Conditions_Spec 1 : Benzene in C620 Sidedraw_wt%</th>\n",
              "      <th>Simulation Case Conditions_Spec 2 : NA in Benzene_ppmw</th>\n",
              "      <th>Tatoray Stripper C620 Operation_Specifications_Spec 2 : Distillate Rate_m3/hr</th>\n",
              "      <th>Benzene Column C660 Operation_Specifications_Spec 3 : Toluene in Benzene_ppmw</th>\n",
              "      <th>Tatoray Stripper C620 Operation_Specifications_Spec 1 : Receiver Temp_oC</th>\n",
              "    </tr>\n",
              "  </thead>\n",
              "  <tbody>\n",
              "    <tr>\n",
              "      <th>124-020</th>\n",
              "      <td>163.0</td>\n",
              "      <td>1.116023</td>\n",
              "      <td>11.152225</td>\n",
              "      <td>48.745979</td>\n",
              "      <td>15.0</td>\n",
              "      <td>2.338977</td>\n",
              "      <td>74.302254</td>\n",
              "      <td>17.467825</td>\n",
              "      <td>72.0</td>\n",
              "      <td>0.0911</td>\n",
              "      <td>20.854397</td>\n",
              "      <td>74.689774</td>\n",
              "      <td>70.0</td>\n",
              "      <td>980.0</td>\n",
              "      <td>0.01</td>\n",
              "      <td>9.999955</td>\n",
              "      <td>36.0</td>\n",
              "    </tr>\n",
              "  </tbody>\n",
              "</table>\n",
              "</div>"
            ],
            "text/plain": [
              "         Simulation Case Conditions_Feed Rate_Feed from V615 Btm_m3/hr  ...  Tatoray Stripper C620 Operation_Specifications_Spec 1 : Receiver Temp_oC\n",
              "124-020                                              163.0              ...                                               36.0                       \n",
              "\n",
              "[1 rows x 17 columns]"
            ]
          },
          "metadata": {
            "tags": []
          },
          "execution_count": 23
        }
      ]
    },
    {
      "cell_type": "code",
      "metadata": {
        "id": "mAuevmR23Zsq",
        "colab": {
          "base_uri": "https://localhost:8080/"
        },
        "outputId": "da2cbb33-6b6e-4d74-cdfb-a4498f47aa25"
      },
      "source": [
        "idx = one_sample.index\n",
        "print(idx)"
      ],
      "execution_count": 24,
      "outputs": [
        {
          "output_type": "stream",
          "text": [
            "Index(['124-020'], dtype='object')\n"
          ],
          "name": "stdout"
        }
      ]
    },
    {
      "cell_type": "code",
      "metadata": {
        "id": "NdLYvIBYnR-Q"
      },
      "source": [
        "demo = {\n",
        "      # input\n",
        "      'icg_input':icg_input.loc[idx],\n",
        "      'c620_feed':c620_feed.loc[idx],\n",
        "      't651_feed':t651_feed.loc[idx],\n",
        "      # output\n",
        "      'c620_op':c620_op.loc[idx],\n",
        "      'c620_wt':c620_wt.loc[idx],\n",
        "      'c660_op':c660_op.loc[idx],\n",
        "      'c660_wt':c660_wt.loc[idx],\n",
        "      'c670_op':c670_op.loc[idx],\n",
        "      'c670_wt':c670_wt.loc[idx],\n",
        "      }"
      ],
      "execution_count": 25,
      "outputs": []
    },
    {
      "cell_type": "code",
      "metadata": {
        "id": "K8M9MvKrUEZP"
      },
      "source": [
        "icg_input = demo['icg_input'].copy()\n",
        "c620_feed = demo['c620_feed'].copy()\n",
        "t651_feed = demo['t651_feed'].copy()"
      ],
      "execution_count": 26,
      "outputs": []
    },
    {
      "cell_type": "code",
      "metadata": {
        "id": "3dhFIyj2VDvY",
        "colab": {
          "base_uri": "https://localhost:8080/"
        },
        "outputId": "89c34296-743d-49ae-f968-a30334c9be6e"
      },
      "source": [
        "c620_wt_,c620_op_,c660_wt_,c660_op_,c670_wt_,c670_op_ = f(icg_input,c620_feed,t651_feed)"
      ],
      "execution_count": 27,
      "outputs": [
        {
          "output_type": "stream",
          "text": [
            "current Distillate Rate_m3/hr:-0.05279810354113579 NA in Benzene_ppmw:980.0\n",
            "NA in Benzene_ppmw -= 30\n",
            "current Distillate Rate_m3/hr:-0.006534235551953316 NA in Benzene_ppmw:950.0\n",
            "NA in Benzene_ppmw -= 30\n",
            "current Distillate Rate_m3/hr:-0.010128343477845192 NA in Benzene_ppmw:920.0\n",
            "NA in Benzene_ppmw -= 30\n",
            "current Distillate Rate_m3/hr:-0.017238443717360497 NA in Benzene_ppmw:890.0\n",
            "NA in Benzene_ppmw -= 30\n",
            "current Distillate Rate_m3/hr:0.12042665481567383 NA in Benzene_ppmw:860.0\n"
          ],
          "name": "stdout"
        }
      ]
    },
    {
      "cell_type": "code",
      "metadata": {
        "id": "oBGAZznfdAH8",
        "colab": {
          "base_uri": "https://localhost:8080/",
          "height": 185
        },
        "outputId": "54dbe97c-8f07-48ec-ec75-2616470250fc"
      },
      "source": [
        "demo['icg_input']"
      ],
      "execution_count": 28,
      "outputs": [
        {
          "output_type": "execute_result",
          "data": {
            "text/html": [
              "<div>\n",
              "<style scoped>\n",
              "    .dataframe tbody tr th:only-of-type {\n",
              "        vertical-align: middle;\n",
              "    }\n",
              "\n",
              "    .dataframe tbody tr th {\n",
              "        vertical-align: top;\n",
              "    }\n",
              "\n",
              "    .dataframe thead th {\n",
              "        text-align: right;\n",
              "    }\n",
              "</style>\n",
              "<table border=\"1\" class=\"dataframe\">\n",
              "  <thead>\n",
              "    <tr style=\"text-align: right;\">\n",
              "      <th></th>\n",
              "      <th>Simulation Case Conditions_Feed Rate_Feed from V615 Btm_m3/hr</th>\n",
              "      <th>Simulation Case Conditions_Feed Rate_Feed from V615 Btm    NA_wt%</th>\n",
              "      <th>Simulation Case Conditions_Feed Rate_Feed from V615 Btm    Benzene_wt%</th>\n",
              "      <th>Simulation Case Conditions_Feed Rate_Feed from V615 Btm    Toluene_wt%</th>\n",
              "      <th>Simulation Case Conditions_Feed Rate_Feed from C820 Dist_m3/hr</th>\n",
              "      <th>Simulation Case Conditions_Feed Rate_Feed from C820 Dist    NA_wt%</th>\n",
              "      <th>Simulation Case Conditions_Feed Rate_Feed from C820 Dist    Benzene_wt%</th>\n",
              "      <th>Simulation Case Conditions_Feed Rate_Feed from C820 Dist    Toluene_wt%</th>\n",
              "      <th>Simulation Case Conditions_Feed Rate_Feed from T651_m3/hr</th>\n",
              "      <th>Simulation Case Conditions_Feed Rate_Feed from T651    NA_wt%</th>\n",
              "      <th>Simulation Case Conditions_Feed Rate_Feed from T651    Benzene_wt%</th>\n",
              "      <th>Simulation Case Conditions_Feed Rate_Feed from T651    Toluene_wt%</th>\n",
              "      <th>Simulation Case Conditions_Spec 1 : Benzene in C620 Sidedraw_wt%</th>\n",
              "      <th>Simulation Case Conditions_Spec 2 : NA in Benzene_ppmw</th>\n",
              "      <th>Tatoray Stripper C620 Operation_Specifications_Spec 2 : Distillate Rate_m3/hr</th>\n",
              "      <th>Benzene Column C660 Operation_Specifications_Spec 3 : Toluene in Benzene_ppmw</th>\n",
              "      <th>Tatoray Stripper C620 Operation_Specifications_Spec 1 : Receiver Temp_oC</th>\n",
              "    </tr>\n",
              "  </thead>\n",
              "  <tbody>\n",
              "    <tr>\n",
              "      <th>124-020</th>\n",
              "      <td>163.0</td>\n",
              "      <td>1.116023</td>\n",
              "      <td>11.152225</td>\n",
              "      <td>48.745979</td>\n",
              "      <td>15.0</td>\n",
              "      <td>2.338977</td>\n",
              "      <td>74.302254</td>\n",
              "      <td>17.467825</td>\n",
              "      <td>72.0</td>\n",
              "      <td>0.0911</td>\n",
              "      <td>20.854397</td>\n",
              "      <td>74.689774</td>\n",
              "      <td>70.0</td>\n",
              "      <td>980.0</td>\n",
              "      <td>0.01</td>\n",
              "      <td>9.999955</td>\n",
              "      <td>36.0</td>\n",
              "    </tr>\n",
              "  </tbody>\n",
              "</table>\n",
              "</div>"
            ],
            "text/plain": [
              "         Simulation Case Conditions_Feed Rate_Feed from V615 Btm_m3/hr  ...  Tatoray Stripper C620 Operation_Specifications_Spec 1 : Receiver Temp_oC\n",
              "124-020                                              163.0              ...                                               36.0                       \n",
              "\n",
              "[1 rows x 17 columns]"
            ]
          },
          "metadata": {
            "tags": []
          },
          "execution_count": 28
        }
      ]
    },
    {
      "cell_type": "code",
      "metadata": {
        "id": "Ur4DKaAloVW1",
        "colab": {
          "base_uri": "https://localhost:8080/"
        },
        "outputId": "0556941f-c085-4512-940b-48e38ec67e71"
      },
      "source": [
        "import joblib\n",
        "joblib.dump(demo,\"/content/drive/MyDrive/台塑輕油案子/data/c620/demo/demo.pkl\")"
      ],
      "execution_count": 29,
      "outputs": [
        {
          "output_type": "execute_result",
          "data": {
            "text/plain": [
              "['/content/drive/MyDrive/台塑輕油案子/data/c620/demo/demo.pkl']"
            ]
          },
          "metadata": {
            "tags": []
          },
          "execution_count": 29
        }
      ]
    },
    {
      "cell_type": "code",
      "metadata": {
        "id": "nba31qndo6hT"
      },
      "source": [
        ""
      ],
      "execution_count": 29,
      "outputs": []
    }
  ]
}