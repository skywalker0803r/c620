{
  "nbformat": 4,
  "nbformat_minor": 0,
  "metadata": {
    "kernelspec": {
      "display_name": "Python 3",
      "language": "python",
      "name": "python3"
    },
    "language_info": {
      "codemirror_mode": {
        "name": "ipython",
        "version": 3
      },
      "file_extension": ".py",
      "mimetype": "text/x-python",
      "name": "python",
      "nbconvert_exporter": "python",
      "pygments_lexer": "ipython3",
      "version": "3.7.4"
    },
    "colab": {
      "name": "Integration_and_test.ipynb",
      "provenance": [],
      "include_colab_link": true
    }
  },
  "cells": [
    {
      "cell_type": "markdown",
      "metadata": {
        "id": "view-in-github",
        "colab_type": "text"
      },
      "source": [
        "<a href=\"https://colab.research.google.com/github/skywalker0803r/c620/blob/main/notebook/Integration_and_test(one_sample_forward_test).ipynb\" target=\"_parent\"><img src=\"https://colab.research.google.com/assets/colab-badge.svg\" alt=\"Open In Colab\"/></a>"
      ]
    },
    {
      "cell_type": "code",
      "metadata": {
        "id": "B5lMY3nCh0I5"
      },
      "source": [
        "import joblib\n",
        "import os\n",
        "import numpy as np\n",
        "import pandas as pd\n",
        "!pip install autorch > log.txt\n",
        "import matplotlib.pyplot as plt\n",
        "import autorch\n",
        "from autorch.function import sp2wt\n",
        "import random\n",
        "random.seed(11)\n",
        "np.random.seed(11)"
      ],
      "execution_count": 52,
      "outputs": []
    },
    {
      "cell_type": "code",
      "metadata": {
        "colab": {
          "base_uri": "https://localhost:8080/"
        },
        "id": "F8vePSz0iHvE",
        "outputId": "c7e607e8-c565-4574-db15-a33aedaad40e"
      },
      "source": [
        "from google.colab import drive\n",
        "drive.mount('/content/drive')"
      ],
      "execution_count": 53,
      "outputs": [
        {
          "output_type": "stream",
          "text": [
            "Drive already mounted at /content/drive; to attempt to forcibly remount, call drive.mount(\"/content/drive\", force_remount=True).\n"
          ],
          "name": "stdout"
        }
      ]
    },
    {
      "cell_type": "markdown",
      "metadata": {
        "id": "jsUtyoO3h0I7"
      },
      "source": [
        "# Predict Class"
      ]
    },
    {
      "cell_type": "code",
      "metadata": {
        "id": "xkXmSgGgh0I7"
      },
      "source": [
        "class Predict(object):\n",
        "  def __init__(self):\n",
        "#==============================================================================================================    \n",
        "    # icg\n",
        "    self.model_icg = joblib.load('/content/drive/MyDrive/台塑輕油案子/data/c620/model/c620_icg.pkl')\n",
        "    self.icg_df = pd.read_csv('/content/drive/MyDrive/台塑輕油案子/data/c620/cleaned/c620_c670.csv',index_col=0).dropna(axis=0)\n",
        "    self.icg_col_names = joblib.load('/content/drive/MyDrive/台塑輕油案子/data/c620/col_names/c620_c670.pkl')\n",
        "\n",
        "    # c620\n",
        "    self.c620_df = pd.read_csv('/content/drive/MyDrive/台塑輕油案子/data/c620/cleaned/c620_train.csv',index_col=0).dropna(axis=0)\n",
        "    self.c620_mb = pd.read_csv('/content/drive/MyDrive/台塑輕油案子/data/c620/cleaned/c620_mbcheck.csv',index_col=0).dropna(axis=0)\n",
        "    self.model_c620_sf = joblib.load('/content/drive/MyDrive/台塑輕油案子/data/c620/model/c620.pkl')\n",
        "    self.model_c620_op = joblib.load('/content/drive/MyDrive/台塑輕油案子/data/c620/model/c620.pkl')\n",
        "    self.c620_col_names = joblib.load('/content/drive/MyDrive/台塑輕油案子/data/c620/col_names/c620_col_names.pkl') \n",
        "    \n",
        "    # c660\n",
        "    self.c660_df = pd.read_csv('/content/drive/MyDrive/台塑輕油案子/data/c620/cleaned/c660_train.csv',index_col=0).dropna(axis=0)\n",
        "    self.c660_mb = pd.read_csv('/content/drive/MyDrive/台塑輕油案子/data/c620/cleaned/c660_mbcheck.csv',index_col=0).dropna(axis=0)\n",
        "    self.model_c660_sf = joblib.load('/content/drive/MyDrive/台塑輕油案子/data/c620/model/c660.pkl')\n",
        "    self.model_c660_op = joblib.load('/content/drive/MyDrive/台塑輕油案子/data/c620/model/c660.pkl')\n",
        "    self.c660_col_names = joblib.load('/content/drive/MyDrive/台塑輕油案子/data/c620/col_names/c660_col_names.pkl')\n",
        "\n",
        "    # c670\n",
        "    self.c670_df = pd.read_csv('/content/drive/MyDrive/台塑輕油案子/data/c620/cleaned/c670_train.csv',index_col=0).dropna(axis=0)\n",
        "    self.c670_mb = pd.read_csv('/content/drive/MyDrive/台塑輕油案子/data/c620/cleaned/c670_mbcheck.csv',index_col=0).dropna(axis=0)\n",
        "    self.model_c670_sf = joblib.load('/content/drive/MyDrive/台塑輕油案子/data/c620/model/c670.pkl')\n",
        "    self.model_c670_op = joblib.load('/content/drive/MyDrive/台塑輕油案子/data/c620/model/c670.pkl')\n",
        "    self.c670_col_names = joblib.load('/content/drive/MyDrive/台塑輕油案子/data/c620/col_names/c670_col_names.pkl')\n",
        "    \n",
        "    #t651\n",
        "    self.t651_df = pd.read_csv('/content/drive/MyDrive/台塑輕油案子/data/c620/cleaned/t651_train.csv',index_col=0).dropna(axis=0)\n",
        "    self.t651_col_names = joblib.load('/content/drive/MyDrive/台塑輕油案子/data/c620/col_names/t651_col_names.pkl')\n",
        "#==============================================================================================================\n",
        "# Load ICG input\n",
        "  def load_icg_input(self):\n",
        "    return self.icg_df[self.model_icg.x_col]\n",
        "\n",
        "# Predict ICG\n",
        "  def icg_dist(self,icg_input):\n",
        "    while True:\n",
        "      output = self.model_icg.predict(icg_input)\n",
        "      if np.allclose(output['Simulation Case Conditions_C620 Distillate Rate_m3/hr'].values[0],0.01,atol=1e-2):\n",
        "        print('current Distillate Rate is:{} so NA in Benzene_ppmw -= 30'.format(output['Simulation Case Conditions_C620 Distillate Rate_m3/hr'].values[0]))\n",
        "        icg_input['Simulation Case Conditions_Spec 2 : NA in Benzene_ppmw'] -= 30\n",
        "      else:\n",
        "        return output\n",
        "#==============================================================================================================  \n",
        "  # Load c620 input\n",
        "  def load_c620(self,icg_dist):\n",
        "    c620_x = self.c620_df[self.model_c620_sf.x_col]\n",
        "    c620_x.filter(regex='Distillate Rate')[:] = icg_dist.values\n",
        "    return c620_x\n",
        "    \n",
        "  # Predict c620 WT\n",
        "  def c620_wt(self,c620_x):\n",
        "    idx = c620_x.index\n",
        "    c620_sf = self.model_c620_sf.predict(c620_x).iloc[:,:41*4]\n",
        "    x41 = c620_x[self.c620_col_names['x41']].values\n",
        "    s1 = c620_sf[self.c620_col_names['vent_gas_sf']].values\n",
        "    s2 = c620_sf[self.c620_col_names['distillate_sf']].values\n",
        "    s3 = c620_sf[self.c620_col_names['sidedraw_sf']].values\n",
        "    s4 = c620_sf[self.c620_col_names['bottoms_sf']].values\n",
        "    w1 = sp2wt(x41,s1)\n",
        "    w2 = sp2wt(x41,s2)\n",
        "    w3 = sp2wt(x41,s3)\n",
        "    w4 = sp2wt(x41,s4)\n",
        "    c620_wt = np.hstack((w1,w2,w3,w4))\n",
        "    c620_wt = pd.DataFrame(\n",
        "        c620_wt,\n",
        "        index = idx,\n",
        "        columns = \n",
        "        self.c620_col_names['vent_gas_x']+\\\n",
        "        self.c620_col_names['distillate_x']+\\\n",
        "        self.c620_col_names['sidedraw_x']+\\\n",
        "        self.c620_col_names['bottoms_x'])\n",
        "    return c620_wt\n",
        "\n",
        "  # Predict c620 OP\n",
        "  def c620_op(self,c620_x):\n",
        "    return self.model_c620_op.predict(c620_x).iloc[:,41*4:] \n",
        "#============================================================================================================== \n",
        "  # Load c660 input\n",
        "  def load_c660(self,c620_w3):\n",
        "    idx = c620_w3.index\n",
        "    feed_t651 = self.t651_df.loc[idx,self.t651_col_names['x41']]\n",
        "    t651_mf = self.t651_df.loc[idx,self.t651_col_names['MFR']]\n",
        "    c620_mf = self.c620_mb.loc[idx,['Tatoray Stripper C620 Operation_Sidedraw Production Rate and Composition_Mass Flow Rate_ton/hr']]\n",
        "    total = t651_mf.values + c620_mf.values\n",
        "    t651_mf = t651_mf/total\n",
        "    c620_mf = c620_mf/total\n",
        "    c660_feed = c620_w3.values*c620_mf.values.reshape(-1,1) + feed_t651.values*t651_mf.values.reshape(-1,1)\n",
        "    c660_feed = pd.DataFrame(c660_feed,index=idx,columns=self.c660_col_names['x41'])\n",
        "    c660_case = self.c660_df.loc[idx,self.c660_col_names['case']]\n",
        "    return c660_case.join(c660_feed)\n",
        "    \n",
        "  # Predict c660 WT\n",
        "  def c660_wt(self,c660_x):\n",
        "    idx = c660_x.index\n",
        "    c660_sf = self.model_c660_sf.predict(c660_x[self.model_c660_sf.x_col]).iloc[:,:41*4]\n",
        "    x41 = c660_x.loc[idx,self.c660_col_names['x41']]\n",
        "    s1 = c660_sf[self.c660_col_names['vent_gas_sf']].values\n",
        "    s2 = c660_sf[self.c660_col_names['distillate_sf']].values\n",
        "    s3 = c660_sf[self.c660_col_names['sidedraw_sf']].values\n",
        "    s4 = c660_sf[self.c660_col_names['bottoms_sf']].values\n",
        "    w1 = sp2wt(x41,s1)\n",
        "    w2 = sp2wt(x41,s2)\n",
        "    w3 = sp2wt(x41,s3)\n",
        "    w4 = sp2wt(x41,s4)\n",
        "    c660_wt = np.hstack((w1,w2,w3,w4))\n",
        "    c660_wt = pd.DataFrame(\n",
        "        c660_wt,\n",
        "        index=idx,\n",
        "        columns=\n",
        "        self.c660_col_names['vent_gas_x']+\\\n",
        "        self.c660_col_names['distillate_x']+\\\n",
        "        self.c660_col_names['sidedraw_x']+\\\n",
        "        self.c660_col_names['bottoms_x'])\n",
        "    return c660_wt\n",
        "  \n",
        "  # Predict c660 OP\n",
        "  def c660_op(self,c660_x):\n",
        "    return self.model_c660_op.predict(c660_x).iloc[:,41*4:]\n",
        "#============================================================================================================== \n",
        "  # Load c670 input\n",
        "  def load_c670(self,c620_w4,c660_w4):\n",
        "    idx = c620_w4.index\n",
        "    Tray_43_mfr = self.c670_mb.loc[idx,['Toluene Column C670 Operation_Feed Properties \\n@ Tray 43_Mass Flow Rate_ton/hr']]\n",
        "    Tray_54_mfr = self.c670_mb.loc[idx,['Toluene Column C670 Operation_Feed Properties \\n@ Tray 54_Mass Flow Rate_ton/hr']]\n",
        "    total = Tray_43_mfr.values + Tray_54_mfr.values\n",
        "    Tray_43_mfr = Tray_43_mfr/total\n",
        "    Tray_54_mfr = Tray_54_mfr/total\n",
        "    combined = c660_w4.values*Tray_43_mfr.values.reshape(-1,1) + c620_w4.values*Tray_54_mfr.values.reshape(-1,1)\n",
        "    combined = pd.DataFrame(combined,index=idx,columns=self.c670_col_names['combined'])\n",
        "    upper_bf = self.c670_df.loc[idx,self.c670_col_names['upper_bf']]\n",
        "    lower_bf = self.c670_df.loc[idx,self.c670_col_names['lower_bf']]\n",
        "    c670_x = combined.join(upper_bf).join(lower_bf)\n",
        "    return c670_x\n",
        "  \n",
        "  # Predict c670 WT\n",
        "  def c670_wt(self,c670_x):\n",
        "    idx = c670_x.index\n",
        "    c670_sf = self.model_c670_sf.predict(c670_x).iloc[:,:41*4]\n",
        "    x41 = c670_x.iloc[:,:41].values\n",
        "    s1 = c670_sf[self.c670_col_names['distillate_sf']].values\n",
        "    s2 = c670_sf[self.c670_col_names['bottoms_sf']].values\n",
        "    w1 = sp2wt(x41,s1)\n",
        "    w2 = sp2wt(x41,s2)\n",
        "    c670_wt = np.hstack((w1,w2))\n",
        "    c670_wt = pd.DataFrame(\n",
        "        c670_wt,\n",
        "        index = idx,\n",
        "        columns=\n",
        "        self.c670_col_names['distillate_x']+\\\n",
        "        self.c670_col_names['bottoms_x'])\n",
        "    return c670_wt\n",
        "  \n",
        "  # Predict c670 OP\n",
        "  def c670_op(self,c670_x):\n",
        "    c670_op = self.model_c670_op.predict(c670_x).iloc[:,41*2:]\n",
        "    return c670_op\n",
        "#============================================================================================================== "
      ],
      "execution_count": 103,
      "outputs": []
    },
    {
      "cell_type": "code",
      "metadata": {
        "id": "UODkxyUAh0I_"
      },
      "source": [
        "predict = Predict()"
      ],
      "execution_count": 104,
      "outputs": []
    },
    {
      "cell_type": "markdown",
      "metadata": {
        "id": "J_DN2pMWW5k2"
      },
      "source": [
        "# get one sample"
      ]
    },
    {
      "cell_type": "code",
      "metadata": {
        "id": "i0BY9tUTUhS-",
        "outputId": "c63bac00-4c53-47be-892e-35d7eb4b848f",
        "colab": {
          "base_uri": "https://localhost:8080/"
        }
      },
      "source": [
        "commom_idx = list(set(predict.icg_df.index)&\\\n",
        "                  set(predict.c620_df.index)&\\\n",
        "                  set(predict.c660_df.index)&\\\n",
        "                  set(predict.c670_df.index)&\\\n",
        "                  set(predict.t651_df.index))\n",
        "\n",
        "commom_idx = np.random.choice(commom_idx, size=1,replace=False,p=None)\n",
        "\n",
        "for key in dir(predict):\n",
        "  if key.split('_')[1] in ['df','mb']:\n",
        "    setattr(predict,key,getattr(predict,key).loc[commom_idx])\n",
        "\n",
        "for key in dir(predict):\n",
        "  if key.split('_')[1] in ['df','mb']:\n",
        "    print(key,'num_samples:',len(getattr(predict,key)))"
      ],
      "execution_count": 109,
      "outputs": [
        {
          "output_type": "stream",
          "text": [
            "c620_df num_samples: 1\n",
            "c620_mb num_samples: 1\n",
            "c660_df num_samples: 1\n",
            "c660_mb num_samples: 1\n",
            "c670_df num_samples: 1\n",
            "c670_mb num_samples: 1\n",
            "icg_df num_samples: 1\n",
            "t651_df num_samples: 1\n"
          ],
          "name": "stdout"
        }
      ]
    },
    {
      "cell_type": "markdown",
      "metadata": {
        "id": "vtfkMCt0XMPH"
      },
      "source": [
        "# ICG"
      ]
    },
    {
      "cell_type": "code",
      "metadata": {
        "id": "XN24jh0kXMZH",
        "outputId": "8b7ad22d-6892-4b71-bb55-7347d4ce8262",
        "colab": {
          "base_uri": "https://localhost:8080/",
          "height": 185
        }
      },
      "source": [
        "icg_x = predict.load_icg_input()\n",
        "icg_x.head()"
      ],
      "execution_count": 110,
      "outputs": [
        {
          "output_type": "execute_result",
          "data": {
            "text/html": [
              "<div>\n",
              "<style scoped>\n",
              "    .dataframe tbody tr th:only-of-type {\n",
              "        vertical-align: middle;\n",
              "    }\n",
              "\n",
              "    .dataframe tbody tr th {\n",
              "        vertical-align: top;\n",
              "    }\n",
              "\n",
              "    .dataframe thead th {\n",
              "        text-align: right;\n",
              "    }\n",
              "</style>\n",
              "<table border=\"1\" class=\"dataframe\">\n",
              "  <thead>\n",
              "    <tr style=\"text-align: right;\">\n",
              "      <th></th>\n",
              "      <th>Simulation Case Conditions_Feed Rate_Feed from V615 Btm_m3/hr</th>\n",
              "      <th>Simulation Case Conditions_Feed Rate_Feed from V615 Btm    NA_wt%</th>\n",
              "      <th>Simulation Case Conditions_Feed Rate_Feed from V615 Btm    Benzene_wt%</th>\n",
              "      <th>Simulation Case Conditions_Feed Rate_Feed from V615 Btm    Toluene_wt%</th>\n",
              "      <th>Simulation Case Conditions_Feed Rate_Feed from C820 Dist_m3/hr</th>\n",
              "      <th>Simulation Case Conditions_Feed Rate_Feed from C820 Dist    NA_wt%</th>\n",
              "      <th>Simulation Case Conditions_Feed Rate_Feed from C820 Dist    Benzene_wt%</th>\n",
              "      <th>Simulation Case Conditions_Feed Rate_Feed from C820 Dist    Toluene_wt%</th>\n",
              "      <th>Simulation Case Conditions_Feed Rate_Feed from T651_m3/hr</th>\n",
              "      <th>Simulation Case Conditions_Feed Rate_Feed from T651    NA_wt%</th>\n",
              "      <th>Simulation Case Conditions_Feed Rate_Feed from T651    Benzene_wt%</th>\n",
              "      <th>Simulation Case Conditions_Feed Rate_Feed from T651    Toluene_wt%</th>\n",
              "      <th>Simulation Case Conditions_Spec 1 : Benzene in C620 Sidedraw_wt%</th>\n",
              "      <th>Simulation Case Conditions_Spec 2 : NA in Benzene_ppmw</th>\n",
              "    </tr>\n",
              "  </thead>\n",
              "  <tbody>\n",
              "    <tr>\n",
              "      <th>066-002</th>\n",
              "      <td>188.0</td>\n",
              "      <td>1.356</td>\n",
              "      <td>10.321001</td>\n",
              "      <td>40.887009</td>\n",
              "      <td>15.0</td>\n",
              "      <td>2.338977</td>\n",
              "      <td>74.302254</td>\n",
              "      <td>17.467825</td>\n",
              "      <td>92.0</td>\n",
              "      <td>0.0911</td>\n",
              "      <td>20.854397</td>\n",
              "      <td>74.689774</td>\n",
              "      <td>90.0</td>\n",
              "      <td>980.0</td>\n",
              "    </tr>\n",
              "  </tbody>\n",
              "</table>\n",
              "</div>"
            ],
            "text/plain": [
              "         Simulation Case Conditions_Feed Rate_Feed from V615 Btm_m3/hr  ...  Simulation Case Conditions_Spec 2 : NA in Benzene_ppmw\n",
              "066-002                                              188.0              ...                                              980.0     \n",
              "\n",
              "[1 rows x 14 columns]"
            ]
          },
          "metadata": {
            "tags": []
          },
          "execution_count": 110
        }
      ]
    },
    {
      "cell_type": "code",
      "metadata": {
        "id": "iU-63HpWYMFr",
        "outputId": "e55a6161-e861-46bc-8c2f-53dbe4b2403c",
        "colab": {
          "base_uri": "https://localhost:8080/",
          "height": 403
        }
      },
      "source": [
        "icg_dist = predict.icg_dist(icg_x)\n",
        "icg_dist"
      ],
      "execution_count": 111,
      "outputs": [
        {
          "output_type": "stream",
          "text": [
            "current Distillate Rate is:0.010000373236835003 so NA in Benzene_ppmw -= 30\n",
            "current Distillate Rate is:0.010000945068895817 so NA in Benzene_ppmw -= 30\n",
            "current Distillate Rate is:0.010002327151596546 so NA in Benzene_ppmw -= 30\n",
            "current Distillate Rate is:0.010005575604736805 so NA in Benzene_ppmw -= 30\n",
            "current Distillate Rate is:0.010012634098529816 so NA in Benzene_ppmw -= 30\n",
            "current Distillate Rate is:0.01002910640090704 so NA in Benzene_ppmw -= 30\n",
            "current Distillate Rate is:0.010066120885312557 so NA in Benzene_ppmw -= 30\n",
            "current Distillate Rate is:0.010148153640329838 so NA in Benzene_ppmw -= 30\n",
            "current Distillate Rate is:0.010313128121197224 so NA in Benzene_ppmw -= 30\n",
            "current Distillate Rate is:0.010598608292639256 so NA in Benzene_ppmw -= 30\n",
            "current Distillate Rate is:0.010984527878463268 so NA in Benzene_ppmw -= 30\n",
            "current Distillate Rate is:0.011570844799280167 so NA in Benzene_ppmw -= 30\n",
            "current Distillate Rate is:0.012256312184035778 so NA in Benzene_ppmw -= 30\n",
            "current Distillate Rate is:0.013187630102038383 so NA in Benzene_ppmw -= 30\n",
            "current Distillate Rate is:0.014136032201349735 so NA in Benzene_ppmw -= 30\n",
            "current Distillate Rate is:0.015160122886300087 so NA in Benzene_ppmw -= 30\n",
            "current Distillate Rate is:0.016425149515271187 so NA in Benzene_ppmw -= 30\n",
            "current Distillate Rate is:0.018002307042479515 so NA in Benzene_ppmw -= 30\n",
            "current Distillate Rate is:0.019893839955329895 so NA in Benzene_ppmw -= 30\n"
          ],
          "name": "stdout"
        },
        {
          "output_type": "execute_result",
          "data": {
            "text/html": [
              "<div>\n",
              "<style scoped>\n",
              "    .dataframe tbody tr th:only-of-type {\n",
              "        vertical-align: middle;\n",
              "    }\n",
              "\n",
              "    .dataframe tbody tr th {\n",
              "        vertical-align: top;\n",
              "    }\n",
              "\n",
              "    .dataframe thead th {\n",
              "        text-align: right;\n",
              "    }\n",
              "</style>\n",
              "<table border=\"1\" class=\"dataframe\">\n",
              "  <thead>\n",
              "    <tr style=\"text-align: right;\">\n",
              "      <th></th>\n",
              "      <th>Simulation Case Conditions_C620 Distillate Rate_m3/hr</th>\n",
              "    </tr>\n",
              "  </thead>\n",
              "  <tbody>\n",
              "    <tr>\n",
              "      <th>066-002</th>\n",
              "      <td>0.022086</td>\n",
              "    </tr>\n",
              "  </tbody>\n",
              "</table>\n",
              "</div>"
            ],
            "text/plain": [
              "         Simulation Case Conditions_C620 Distillate Rate_m3/hr\n",
              "066-002                                           0.022086    "
            ]
          },
          "metadata": {
            "tags": []
          },
          "execution_count": 111
        }
      ]
    },
    {
      "cell_type": "code",
      "metadata": {
        "id": "zfwLBlLMYZ-I",
        "outputId": "fbae9304-8af6-4180-d6e4-8daa4c29910b",
        "colab": {
          "base_uri": "https://localhost:8080/",
          "height": 80
        }
      },
      "source": [
        "icg_dist_gt = predict.icg_df.loc[icg_dist.index,icg_dist.columns]\n",
        "icg_dist_gt.head()"
      ],
      "execution_count": 112,
      "outputs": [
        {
          "output_type": "execute_result",
          "data": {
            "text/html": [
              "<div>\n",
              "<style scoped>\n",
              "    .dataframe tbody tr th:only-of-type {\n",
              "        vertical-align: middle;\n",
              "    }\n",
              "\n",
              "    .dataframe tbody tr th {\n",
              "        vertical-align: top;\n",
              "    }\n",
              "\n",
              "    .dataframe thead th {\n",
              "        text-align: right;\n",
              "    }\n",
              "</style>\n",
              "<table border=\"1\" class=\"dataframe\">\n",
              "  <thead>\n",
              "    <tr style=\"text-align: right;\">\n",
              "      <th></th>\n",
              "      <th>Simulation Case Conditions_C620 Distillate Rate_m3/hr</th>\n",
              "    </tr>\n",
              "  </thead>\n",
              "  <tbody>\n",
              "    <tr>\n",
              "      <th>066-002</th>\n",
              "      <td>0.01</td>\n",
              "    </tr>\n",
              "  </tbody>\n",
              "</table>\n",
              "</div>"
            ],
            "text/plain": [
              "         Simulation Case Conditions_C620 Distillate Rate_m3/hr\n",
              "066-002                                               0.01    "
            ]
          },
          "metadata": {
            "tags": []
          },
          "execution_count": 112
        }
      ]
    },
    {
      "cell_type": "code",
      "metadata": {
        "id": "DprqWnwzYo-f",
        "outputId": "66c4a53e-3a92-4feb-da05-618ec460361d",
        "colab": {
          "base_uri": "https://localhost:8080/",
          "height": 111
        }
      },
      "source": [
        "predict.model_icg.show_metrics(icg_dist,icg_dist_gt,e=2e-2)"
      ],
      "execution_count": 113,
      "outputs": [
        {
          "output_type": "execute_result",
          "data": {
            "text/html": [
              "<div>\n",
              "<style scoped>\n",
              "    .dataframe tbody tr th:only-of-type {\n",
              "        vertical-align: middle;\n",
              "    }\n",
              "\n",
              "    .dataframe tbody tr th {\n",
              "        vertical-align: top;\n",
              "    }\n",
              "\n",
              "    .dataframe thead th {\n",
              "        text-align: right;\n",
              "    }\n",
              "</style>\n",
              "<table border=\"1\" class=\"dataframe\">\n",
              "  <thead>\n",
              "    <tr style=\"text-align: right;\">\n",
              "      <th></th>\n",
              "      <th>R2</th>\n",
              "      <th>MSE</th>\n",
              "      <th>MAPE</th>\n",
              "    </tr>\n",
              "  </thead>\n",
              "  <tbody>\n",
              "    <tr>\n",
              "      <th>Simulation Case Conditions_C620 Distillate Rate_m3/hr</th>\n",
              "      <td>NaN</td>\n",
              "      <td>0.000146066</td>\n",
              "      <td>54.722</td>\n",
              "    </tr>\n",
              "    <tr>\n",
              "      <th>AVG</th>\n",
              "      <td>NaN</td>\n",
              "      <td>0.000146066</td>\n",
              "      <td>54.722</td>\n",
              "    </tr>\n",
              "  </tbody>\n",
              "</table>\n",
              "</div>"
            ],
            "text/plain": [
              "                                                     R2          MSE    MAPE\n",
              "Simulation Case Conditions_C620 Distillate Rate...  NaN  0.000146066  54.722\n",
              "AVG                                                 NaN  0.000146066  54.722"
            ]
          },
          "metadata": {
            "tags": []
          },
          "execution_count": 113
        }
      ]
    },
    {
      "cell_type": "markdown",
      "metadata": {
        "id": "MeMZtuEIk8Vw"
      },
      "source": [
        "# c620"
      ]
    },
    {
      "cell_type": "code",
      "metadata": {
        "colab": {
          "base_uri": "https://localhost:8080/",
          "height": 219
        },
        "id": "rZYnm6VAh0JC",
        "outputId": "d7f1f9a5-b39e-43fb-989e-3be49a2fca36"
      },
      "source": [
        "#C620 Input\n",
        "c620_x = predict.load_c620(icg_dist)\n",
        "c620_x.head()"
      ],
      "execution_count": 114,
      "outputs": [
        {
          "output_type": "execute_result",
          "data": {
            "text/html": [
              "<div>\n",
              "<style scoped>\n",
              "    .dataframe tbody tr th:only-of-type {\n",
              "        vertical-align: middle;\n",
              "    }\n",
              "\n",
              "    .dataframe tbody tr th {\n",
              "        vertical-align: top;\n",
              "    }\n",
              "\n",
              "    .dataframe thead th {\n",
              "        text-align: right;\n",
              "    }\n",
              "</style>\n",
              "<table border=\"1\" class=\"dataframe\">\n",
              "  <thead>\n",
              "    <tr style=\"text-align: right;\">\n",
              "      <th></th>\n",
              "      <th>Tatoray Stripper C620 Operation_Specifications_Spec 2 : Distillate Rate_m3/hr</th>\n",
              "      <th>Tatoray Stripper C620 Operation_Specifications_Spec 3 : Benzene in Sidedraw_wt%</th>\n",
              "      <th>Combined Feed to Tatoray Stripper C620_Detailed Composition_Hydrogen_wt%</th>\n",
              "      <th>Combined Feed to Tatoray Stripper C620_Detailed Composition_Methane_wt%</th>\n",
              "      <th>Combined Feed to Tatoray Stripper C620_Detailed Composition_Ethane_wt%</th>\n",
              "      <th>Combined Feed to Tatoray Stripper C620_Detailed Composition_Propane_wt%</th>\n",
              "      <th>Combined Feed to Tatoray Stripper C620_Detailed Composition_n-Butane_wt%</th>\n",
              "      <th>Combined Feed to Tatoray Stripper C620_Detailed Composition_n-Pentane_wt%</th>\n",
              "      <th>Combined Feed to Tatoray Stripper C620_Detailed Composition_n-Hexane_wt%</th>\n",
              "      <th>Combined Feed to Tatoray Stripper C620_Detailed Composition_Benzene_wt%</th>\n",
              "      <th>Combined Feed to Tatoray Stripper C620_Detailed Composition_Cyclohexane_wt%</th>\n",
              "      <th>Combined Feed to Tatoray Stripper C620_Detailed Composition_n-Heptane_wt%</th>\n",
              "      <th>Combined Feed to Tatoray Stripper C620_Detailed Composition_Water_wt%</th>\n",
              "      <th>Combined Feed to Tatoray Stripper C620_Detailed Composition_Methylcyclohexane_wt%</th>\n",
              "      <th>Combined Feed to Tatoray Stripper C620_Detailed Composition_Toluene_wt%</th>\n",
              "      <th>Combined Feed to Tatoray Stripper C620_Detailed Composition_n-Octane_wt%</th>\n",
              "      <th>Combined Feed to Tatoray Stripper C620_Detailed Composition_n-Propylcyclopentane_wt%</th>\n",
              "      <th>Combined Feed to Tatoray Stripper C620_Detailed Composition_Ethylcyclohexane_wt%</th>\n",
              "      <th>Combined Feed to Tatoray Stripper C620_Detailed Composition_Ethylbenzene_wt%</th>\n",
              "      <th>Combined Feed to Tatoray Stripper C620_Detailed Composition_p-Xylene_wt%</th>\n",
              "      <th>Combined Feed to Tatoray Stripper C620_Detailed Composition_m-Xylene_wt%</th>\n",
              "      <th>Combined Feed to Tatoray Stripper C620_Detailed Composition_o-Xylene_wt%</th>\n",
              "      <th>Combined Feed to Tatoray Stripper C620_Detailed Composition_n-Nonane_wt%</th>\n",
              "      <th>Combined Feed to Tatoray Stripper C620_Detailed Composition_i-Propylbenzene_wt%</th>\n",
              "      <th>Combined Feed to Tatoray Stripper C620_Detailed Composition_n-Propylcyclohexane_wt%</th>\n",
              "      <th>Combined Feed to Tatoray Stripper C620_Detailed Composition_n-Propylbenzene_wt%</th>\n",
              "      <th>Combined Feed to Tatoray Stripper C620_Detailed Composition_1-Methyl-3-ethylbenzene_wt%</th>\n",
              "      <th>Combined Feed to Tatoray Stripper C620_Detailed Composition_1-Methyl-4-ethylbenzene_wt%</th>\n",
              "      <th>Combined Feed to Tatoray Stripper C620_Detailed Composition_1,3,5-Trimethylbenzene_wt%</th>\n",
              "      <th>Combined Feed to Tatoray Stripper C620_Detailed Composition_1-Methyl-2-ethylbenzene_wt%</th>\n",
              "      <th>Combined Feed to Tatoray Stripper C620_Detailed Composition_1,2,4-Trimethylbenzene_wt%</th>\n",
              "      <th>Combined Feed to Tatoray Stripper C620_Detailed Composition_tert-Butylcyclohexane_wt%</th>\n",
              "      <th>Combined Feed to Tatoray Stripper C620_Detailed Composition_1,2,3-Trimethylbenzene_wt%</th>\n",
              "      <th>Combined Feed to Tatoray Stripper C620_Detailed Composition_Indane_wt%</th>\n",
              "      <th>Combined Feed to Tatoray Stripper C620_Detailed Composition_1-Methyl-4-n-propylbenzene_wt%</th>\n",
              "      <th>Combined Feed to Tatoray Stripper C620_Detailed Composition_1,2-Diethylbenzene_wt%</th>\n",
              "      <th>Combined Feed to Tatoray Stripper C620_Detailed Composition_5-Ethyl-m-xylene_wt%</th>\n",
              "      <th>Combined Feed to Tatoray Stripper C620_Detailed Composition_1,4-Diethylbenzene_wt%</th>\n",
              "      <th>Combined Feed to Tatoray Stripper C620_Detailed Composition_1,2,3,5-Tetramethylbenzene_wt%</th>\n",
              "      <th>Combined Feed to Tatoray Stripper C620_Detailed Composition_n-Pentylbenzene_wt%</th>\n",
              "      <th>Combined Feed to Tatoray Stripper C620_Detailed Composition_n-Hexylbenzene_wt%</th>\n",
              "      <th>Combined Feed to Tatoray Stripper C620_Detailed Composition_Nitrogen_wt%</th>\n",
              "      <th>Combined Feed to Tatoray Stripper C620_Detailed Composition_Oxygen_wt%</th>\n",
              "    </tr>\n",
              "  </thead>\n",
              "  <tbody>\n",
              "    <tr>\n",
              "      <th>066-002</th>\n",
              "      <td>0.01</td>\n",
              "      <td>90.000008</td>\n",
              "      <td>0.0</td>\n",
              "      <td>0.023129</td>\n",
              "      <td>0.5588</td>\n",
              "      <td>0.51157</td>\n",
              "      <td>0.149504</td>\n",
              "      <td>0.069948</td>\n",
              "      <td>0.014504</td>\n",
              "      <td>15.109019</td>\n",
              "      <td>0.006735</td>\n",
              "      <td>0.013524</td>\n",
              "      <td>0.0</td>\n",
              "      <td>0.010776</td>\n",
              "      <td>39.134426</td>\n",
              "      <td>0.007184</td>\n",
              "      <td>0.008456</td>\n",
              "      <td>0.008456</td>\n",
              "      <td>0.943895</td>\n",
              "      <td>7.359532</td>\n",
              "      <td>16.074078</td>\n",
              "      <td>6.580838</td>\n",
              "      <td>0.012273</td>\n",
              "      <td>0.005551</td>\n",
              "      <td>0.00232</td>\n",
              "      <td>0.006476</td>\n",
              "      <td>0.907587</td>\n",
              "      <td>0.475535</td>\n",
              "      <td>2.40913</td>\n",
              "      <td>0.267373</td>\n",
              "      <td>6.153274</td>\n",
              "      <td>0.0</td>\n",
              "      <td>0.982525</td>\n",
              "      <td>0.032381</td>\n",
              "      <td>0.000925</td>\n",
              "      <td>0.021279</td>\n",
              "      <td>0.831724</td>\n",
              "      <td>0.0</td>\n",
              "      <td>0.956621</td>\n",
              "      <td>0.245169</td>\n",
              "      <td>0.105469</td>\n",
              "      <td>0.0</td>\n",
              "      <td>0.0</td>\n",
              "    </tr>\n",
              "  </tbody>\n",
              "</table>\n",
              "</div>"
            ],
            "text/plain": [
              "         Tatoray Stripper C620 Operation_Specifications_Spec 2 : Distillate Rate_m3/hr  ...  Combined Feed to Tatoray Stripper C620_Detailed Composition_Oxygen_wt%\n",
              "066-002                                               0.01                              ...                                                0.0                     \n",
              "\n",
              "[1 rows x 43 columns]"
            ]
          },
          "metadata": {
            "tags": []
          },
          "execution_count": 114
        }
      ]
    },
    {
      "cell_type": "code",
      "metadata": {
        "scrolled": false,
        "colab": {
          "base_uri": "https://localhost:8080/",
          "height": 265
        },
        "id": "ZVz-rBF3h0JC",
        "outputId": "064b0e43-4915-401a-bd94-d89c46a7a093"
      },
      "source": [
        "c620_wt = predict.c620_wt(c620_x)\n",
        "c620_wt.head()"
      ],
      "execution_count": 115,
      "outputs": [
        {
          "output_type": "execute_result",
          "data": {
            "text/html": [
              "<div>\n",
              "<style scoped>\n",
              "    .dataframe tbody tr th:only-of-type {\n",
              "        vertical-align: middle;\n",
              "    }\n",
              "\n",
              "    .dataframe tbody tr th {\n",
              "        vertical-align: top;\n",
              "    }\n",
              "\n",
              "    .dataframe thead th {\n",
              "        text-align: right;\n",
              "    }\n",
              "</style>\n",
              "<table border=\"1\" class=\"dataframe\">\n",
              "  <thead>\n",
              "    <tr style=\"text-align: right;\">\n",
              "      <th></th>\n",
              "      <th>Tatoray Stripper C620 Operation_Vent Gas Production Rate and Composition_Hydrogen_wt%</th>\n",
              "      <th>Tatoray Stripper C620 Operation_Vent Gas Production Rate and Composition_Methane_wt%</th>\n",
              "      <th>Tatoray Stripper C620 Operation_Vent Gas Production Rate and Composition_Ethane_wt%</th>\n",
              "      <th>Tatoray Stripper C620 Operation_Vent Gas Production Rate and Composition_Propane_wt%</th>\n",
              "      <th>Tatoray Stripper C620 Operation_Vent Gas Production Rate and Composition_n-Butane_wt%</th>\n",
              "      <th>Tatoray Stripper C620 Operation_Vent Gas Production Rate and Composition_n-Pentane_wt%</th>\n",
              "      <th>Tatoray Stripper C620 Operation_Vent Gas Production Rate and Composition_n-Hexane_wt%</th>\n",
              "      <th>Tatoray Stripper C620 Operation_Vent Gas Production Rate and Composition_Benzene_wt%</th>\n",
              "      <th>Tatoray Stripper C620 Operation_Vent Gas Production Rate and Composition_Cyclohexane_wt%</th>\n",
              "      <th>Tatoray Stripper C620 Operation_Vent Gas Production Rate and Composition_n-Heptane_wt%</th>\n",
              "      <th>Tatoray Stripper C620 Operation_Vent Gas Production Rate and Composition_Water_wt%</th>\n",
              "      <th>Tatoray Stripper C620 Operation_Vent Gas Production Rate and Composition_Methylcyclohexane_wt%</th>\n",
              "      <th>Tatoray Stripper C620 Operation_Vent Gas Production Rate and Composition_Toluene_wt%</th>\n",
              "      <th>Tatoray Stripper C620 Operation_Vent Gas Production Rate and Composition_n-Octane_wt%</th>\n",
              "      <th>Tatoray Stripper C620 Operation_Vent Gas Production Rate and Composition_n-Propylcyclopentane_wt%</th>\n",
              "      <th>Tatoray Stripper C620 Operation_Vent Gas Production Rate and Composition_Ethylcyclohexane_wt%</th>\n",
              "      <th>Tatoray Stripper C620 Operation_Vent Gas Production Rate and Composition_Ethylbenzene_wt%</th>\n",
              "      <th>Tatoray Stripper C620 Operation_Vent Gas Production Rate and Composition_p-Xylene_wt%</th>\n",
              "      <th>Tatoray Stripper C620 Operation_Vent Gas Production Rate and Composition_m-Xylene_wt%</th>\n",
              "      <th>Tatoray Stripper C620 Operation_Vent Gas Production Rate and Composition_o-Xylene_wt%</th>\n",
              "      <th>Tatoray Stripper C620 Operation_Vent Gas Production Rate and Composition_n-Nonane_wt%</th>\n",
              "      <th>Tatoray Stripper C620 Operation_Vent Gas Production Rate and Composition_i-Propylbenzene_wt%</th>\n",
              "      <th>Tatoray Stripper C620 Operation_Vent Gas Production Rate and Composition_n-Propylcyclohexane_wt%</th>\n",
              "      <th>Tatoray Stripper C620 Operation_Vent Gas Production Rate and Composition_n-Propylbenzene_wt%</th>\n",
              "      <th>Tatoray Stripper C620 Operation_Vent Gas Production Rate and Composition_1-Methyl-3-ethylbenzene_wt%</th>\n",
              "      <th>Tatoray Stripper C620 Operation_Vent Gas Production Rate and Composition_1-Methyl-4-ethylbenzene_wt%</th>\n",
              "      <th>Tatoray Stripper C620 Operation_Vent Gas Production Rate and Composition_1,3,5-Trimethylbenzene_wt%</th>\n",
              "      <th>Tatoray Stripper C620 Operation_Vent Gas Production Rate and Composition_1-Methyl-2-ethylbenzene_wt%</th>\n",
              "      <th>Tatoray Stripper C620 Operation_Vent Gas Production Rate and Composition_1,2,4-Trimethylbenzene_wt%</th>\n",
              "      <th>Tatoray Stripper C620 Operation_Vent Gas Production Rate and Composition_tert-Butylcyclohexane_wt%</th>\n",
              "      <th>Tatoray Stripper C620 Operation_Vent Gas Production Rate and Composition_1,2,3-Trimethylbenzene_wt%</th>\n",
              "      <th>Tatoray Stripper C620 Operation_Vent Gas Production Rate and Composition_Indane_wt%</th>\n",
              "      <th>Tatoray Stripper C620 Operation_Vent Gas Production Rate and Composition_1-Methyl-4-n-propylbenzene_wt%</th>\n",
              "      <th>Tatoray Stripper C620 Operation_Vent Gas Production Rate and Composition_1,2-Diethylbenzene_wt%</th>\n",
              "      <th>Tatoray Stripper C620 Operation_Vent Gas Production Rate and Composition_5-Ethyl-m-xylene_wt%</th>\n",
              "      <th>Tatoray Stripper C620 Operation_Vent Gas Production Rate and Composition_1,4-Diethylbenzene_wt%</th>\n",
              "      <th>Tatoray Stripper C620 Operation_Vent Gas Production Rate and Composition_1,2,3,5-Tetramethylbenzene_wt%</th>\n",
              "      <th>Tatoray Stripper C620 Operation_Vent Gas Production Rate and Composition_n-Pentylbenzene_wt%</th>\n",
              "      <th>Tatoray Stripper C620 Operation_Vent Gas Production Rate and Composition_n-Hexylbenzene_wt%</th>\n",
              "      <th>Tatoray Stripper C620 Operation_Vent Gas Production Rate and Composition_Nitrogen_wt%</th>\n",
              "      <th>...</th>\n",
              "      <th>Tatoray Stripper C620 Operation_Bottoms Production Rate and Composition_Methane_wt%</th>\n",
              "      <th>Tatoray Stripper C620 Operation_Bottoms Production Rate and Composition_Ethane_wt%</th>\n",
              "      <th>Tatoray Stripper C620 Operation_Bottoms Production Rate and Composition_Propane_wt%</th>\n",
              "      <th>Tatoray Stripper C620 Operation_Bottoms Production Rate and Composition_n-Butane_wt%</th>\n",
              "      <th>Tatoray Stripper C620 Operation_Bottoms Production Rate and Composition_n-Pentane_wt%</th>\n",
              "      <th>Tatoray Stripper C620 Operation_Bottoms Production Rate and Composition_n-Hexane_wt%</th>\n",
              "      <th>Tatoray Stripper C620 Operation_Bottoms Production Rate and Composition_Benzene_wt%</th>\n",
              "      <th>Tatoray Stripper C620 Operation_Bottoms Production Rate and Composition_Cyclohexane_wt%</th>\n",
              "      <th>Tatoray Stripper C620 Operation_Bottoms Production Rate and Composition_n-Heptane_wt%</th>\n",
              "      <th>Tatoray Stripper C620 Operation_Bottoms Production Rate and Composition_Water_wt%</th>\n",
              "      <th>Tatoray Stripper C620 Operation_Bottoms Production Rate and Composition_Methylcyclohexane_wt%</th>\n",
              "      <th>Tatoray Stripper C620 Operation_Bottoms Production Rate and Composition_Toluene_wt%</th>\n",
              "      <th>Tatoray Stripper C620 Operation_Bottoms Production Rate and Composition_n-Octane_wt%</th>\n",
              "      <th>Tatoray Stripper C620 Operation_Bottoms Production Rate and Composition_n-Propylcyclopentane_wt%</th>\n",
              "      <th>Tatoray Stripper C620 Operation_Bottoms Production Rate and Composition_Ethylcyclohexane_wt%</th>\n",
              "      <th>Tatoray Stripper C620 Operation_Bottoms Production Rate and Composition_Ethylbenzene_wt%</th>\n",
              "      <th>Tatoray Stripper C620 Operation_Bottoms Production Rate and Composition_p-Xylene_wt%</th>\n",
              "      <th>Tatoray Stripper C620 Operation_Bottoms Production Rate and Composition_m-Xylene_wt%</th>\n",
              "      <th>Tatoray Stripper C620 Operation_Bottoms Production Rate and Composition_o-Xylene_wt%</th>\n",
              "      <th>Tatoray Stripper C620 Operation_Bottoms Production Rate and Composition_n-Nonane_wt%</th>\n",
              "      <th>Tatoray Stripper C620 Operation_Bottoms Production Rate and Composition_i-Propylbenzene_wt%</th>\n",
              "      <th>Tatoray Stripper C620 Operation_Bottoms Production Rate and Composition_n-Propylcyclohexane_wt%</th>\n",
              "      <th>Tatoray Stripper C620 Operation_Bottoms Production Rate and Composition_n-Propylbenzene_wt%</th>\n",
              "      <th>Tatoray Stripper C620 Operation_Bottoms Production Rate and Composition_1-Methyl-3-ethylbenzene_wt%</th>\n",
              "      <th>Tatoray Stripper C620 Operation_Bottoms Production Rate and Composition_1-Methyl-4-ethylbenzene_wt%</th>\n",
              "      <th>Tatoray Stripper C620 Operation_Bottoms Production Rate and Composition_1,3,5-Trimethylbenzene_wt%</th>\n",
              "      <th>Tatoray Stripper C620 Operation_Bottoms Production Rate and Composition_1-Methyl-2-ethylbenzene_wt%</th>\n",
              "      <th>Tatoray Stripper C620 Operation_Bottoms Production Rate and Composition_1,2,4-Trimethylbenzene_wt%</th>\n",
              "      <th>Tatoray Stripper C620 Operation_Bottoms Production Rate and Composition_tert-Butylcyclohexane_wt%</th>\n",
              "      <th>Tatoray Stripper C620 Operation_Bottoms Production Rate and Composition_1,2,3-Trimethylbenzene_wt%</th>\n",
              "      <th>Tatoray Stripper C620 Operation_Bottoms Production Rate and Composition_Indane_wt%</th>\n",
              "      <th>Tatoray Stripper C620 Operation_Bottoms Production Rate and Composition_1-Methyl-4-n-propylbenzene_wt%</th>\n",
              "      <th>Tatoray Stripper C620 Operation_Bottoms Production Rate and Composition_1,2-Diethylbenzene_wt%</th>\n",
              "      <th>Tatoray Stripper C620 Operation_Bottoms Production Rate and Composition_5-Ethyl-m-xylene_wt%</th>\n",
              "      <th>Tatoray Stripper C620 Operation_Bottoms Production Rate and Composition_1,4-Diethylbenzene_wt%</th>\n",
              "      <th>Tatoray Stripper C620 Operation_Bottoms Production Rate and Composition_1,2,3,5-Tetramethylbenzene_wt%</th>\n",
              "      <th>Tatoray Stripper C620 Operation_Bottoms Production Rate and Composition_n-Pentylbenzene_wt%</th>\n",
              "      <th>Tatoray Stripper C620 Operation_Bottoms Production Rate and Composition_n-Hexylbenzene_wt%</th>\n",
              "      <th>Tatoray Stripper C620 Operation_Bottoms Production Rate and Composition_Nitrogen_wt%</th>\n",
              "      <th>Tatoray Stripper C620 Operation_Bottoms Production Rate and Composition_Oxygen_wt%</th>\n",
              "    </tr>\n",
              "  </thead>\n",
              "  <tbody>\n",
              "    <tr>\n",
              "      <th>066-002</th>\n",
              "      <td>0.0</td>\n",
              "      <td>1.639485</td>\n",
              "      <td>39.415328</td>\n",
              "      <td>35.76219</td>\n",
              "      <td>10.213769</td>\n",
              "      <td>4.464411</td>\n",
              "      <td>0.257931</td>\n",
              "      <td>8.22302</td>\n",
              "      <td>0.012213</td>\n",
              "      <td>0.002886</td>\n",
              "      <td>0.0</td>\n",
              "      <td>0.000078</td>\n",
              "      <td>0.008688</td>\n",
              "      <td>0.000001</td>\n",
              "      <td>3.075260e-09</td>\n",
              "      <td>1.402395e-09</td>\n",
              "      <td>8.919500e-09</td>\n",
              "      <td>3.005835e-08</td>\n",
              "      <td>4.460318e-08</td>\n",
              "      <td>1.781103e-09</td>\n",
              "      <td>3.424485e-11</td>\n",
              "      <td>7.135368e-14</td>\n",
              "      <td>2.952121e-14</td>\n",
              "      <td>3.641160e-15</td>\n",
              "      <td>1.844856e-12</td>\n",
              "      <td>5.820109e-13</td>\n",
              "      <td>1.014708e-13</td>\n",
              "      <td>2.418574e-13</td>\n",
              "      <td>2.896106e-14</td>\n",
              "      <td>0.0</td>\n",
              "      <td>1.852230e-16</td>\n",
              "      <td>1.358386e-17</td>\n",
              "      <td>1.938116e-20</td>\n",
              "      <td>5.404085e-19</td>\n",
              "      <td>1.114319e-17</td>\n",
              "      <td>0.0</td>\n",
              "      <td>6.159916e-21</td>\n",
              "      <td>1.256658e-22</td>\n",
              "      <td>3.040669e-27</td>\n",
              "      <td>0.0</td>\n",
              "      <td>...</td>\n",
              "      <td>1.761284e-07</td>\n",
              "      <td>0.000003</td>\n",
              "      <td>0.000004</td>\n",
              "      <td>6.296017e-24</td>\n",
              "      <td>1.912009e-16</td>\n",
              "      <td>1.577827e-09</td>\n",
              "      <td>0.249449</td>\n",
              "      <td>0.000184</td>\n",
              "      <td>0.003796</td>\n",
              "      <td>0.0</td>\n",
              "      <td>0.010171</td>\n",
              "      <td>45.672473</td>\n",
              "      <td>0.008484</td>\n",
              "      <td>0.010291</td>\n",
              "      <td>0.010294</td>\n",
              "      <td>1.149333</td>\n",
              "      <td>8.961604</td>\n",
              "      <td>19.573379</td>\n",
              "      <td>8.013721</td>\n",
              "      <td>0.014945</td>\n",
              "      <td>0.00676</td>\n",
              "      <td>0.002825</td>\n",
              "      <td>0.007886</td>\n",
              "      <td>1.105211</td>\n",
              "      <td>0.579081</td>\n",
              "      <td>2.93371</td>\n",
              "      <td>0.325592</td>\n",
              "      <td>7.493129</td>\n",
              "      <td>0.0</td>\n",
              "      <td>1.196467</td>\n",
              "      <td>0.039432</td>\n",
              "      <td>0.001127</td>\n",
              "      <td>0.025912</td>\n",
              "      <td>1.012829</td>\n",
              "      <td>0.0</td>\n",
              "      <td>1.164922</td>\n",
              "      <td>0.298553</td>\n",
              "      <td>0.128434</td>\n",
              "      <td>0.0</td>\n",
              "      <td>0.0</td>\n",
              "    </tr>\n",
              "  </tbody>\n",
              "</table>\n",
              "<p>1 rows × 164 columns</p>\n",
              "</div>"
            ],
            "text/plain": [
              "         Tatoray Stripper C620 Operation_Vent Gas Production Rate and Composition_Hydrogen_wt%  ...  Tatoray Stripper C620 Operation_Bottoms Production Rate and Composition_Oxygen_wt%\n",
              "066-002                                                0.0                                      ...                                                0.0                                 \n",
              "\n",
              "[1 rows x 164 columns]"
            ]
          },
          "metadata": {
            "tags": []
          },
          "execution_count": 115
        }
      ]
    },
    {
      "cell_type": "code",
      "metadata": {
        "colab": {
          "base_uri": "https://localhost:8080/",
          "height": 265
        },
        "id": "oF9zpxRik-Yf",
        "outputId": "c8cf2093-8894-461d-acd6-bc14cb69501f"
      },
      "source": [
        "c620_wt_gt = predict.c620_df.loc[c620_wt.index,c620_wt.columns]\n",
        "c620_wt_gt.head()"
      ],
      "execution_count": 116,
      "outputs": [
        {
          "output_type": "execute_result",
          "data": {
            "text/html": [
              "<div>\n",
              "<style scoped>\n",
              "    .dataframe tbody tr th:only-of-type {\n",
              "        vertical-align: middle;\n",
              "    }\n",
              "\n",
              "    .dataframe tbody tr th {\n",
              "        vertical-align: top;\n",
              "    }\n",
              "\n",
              "    .dataframe thead th {\n",
              "        text-align: right;\n",
              "    }\n",
              "</style>\n",
              "<table border=\"1\" class=\"dataframe\">\n",
              "  <thead>\n",
              "    <tr style=\"text-align: right;\">\n",
              "      <th></th>\n",
              "      <th>Tatoray Stripper C620 Operation_Vent Gas Production Rate and Composition_Hydrogen_wt%</th>\n",
              "      <th>Tatoray Stripper C620 Operation_Vent Gas Production Rate and Composition_Methane_wt%</th>\n",
              "      <th>Tatoray Stripper C620 Operation_Vent Gas Production Rate and Composition_Ethane_wt%</th>\n",
              "      <th>Tatoray Stripper C620 Operation_Vent Gas Production Rate and Composition_Propane_wt%</th>\n",
              "      <th>Tatoray Stripper C620 Operation_Vent Gas Production Rate and Composition_n-Butane_wt%</th>\n",
              "      <th>Tatoray Stripper C620 Operation_Vent Gas Production Rate and Composition_n-Pentane_wt%</th>\n",
              "      <th>Tatoray Stripper C620 Operation_Vent Gas Production Rate and Composition_n-Hexane_wt%</th>\n",
              "      <th>Tatoray Stripper C620 Operation_Vent Gas Production Rate and Composition_Benzene_wt%</th>\n",
              "      <th>Tatoray Stripper C620 Operation_Vent Gas Production Rate and Composition_Cyclohexane_wt%</th>\n",
              "      <th>Tatoray Stripper C620 Operation_Vent Gas Production Rate and Composition_n-Heptane_wt%</th>\n",
              "      <th>Tatoray Stripper C620 Operation_Vent Gas Production Rate and Composition_Water_wt%</th>\n",
              "      <th>Tatoray Stripper C620 Operation_Vent Gas Production Rate and Composition_Methylcyclohexane_wt%</th>\n",
              "      <th>Tatoray Stripper C620 Operation_Vent Gas Production Rate and Composition_Toluene_wt%</th>\n",
              "      <th>Tatoray Stripper C620 Operation_Vent Gas Production Rate and Composition_n-Octane_wt%</th>\n",
              "      <th>Tatoray Stripper C620 Operation_Vent Gas Production Rate and Composition_n-Propylcyclopentane_wt%</th>\n",
              "      <th>Tatoray Stripper C620 Operation_Vent Gas Production Rate and Composition_Ethylcyclohexane_wt%</th>\n",
              "      <th>Tatoray Stripper C620 Operation_Vent Gas Production Rate and Composition_Ethylbenzene_wt%</th>\n",
              "      <th>Tatoray Stripper C620 Operation_Vent Gas Production Rate and Composition_p-Xylene_wt%</th>\n",
              "      <th>Tatoray Stripper C620 Operation_Vent Gas Production Rate and Composition_m-Xylene_wt%</th>\n",
              "      <th>Tatoray Stripper C620 Operation_Vent Gas Production Rate and Composition_o-Xylene_wt%</th>\n",
              "      <th>Tatoray Stripper C620 Operation_Vent Gas Production Rate and Composition_n-Nonane_wt%</th>\n",
              "      <th>Tatoray Stripper C620 Operation_Vent Gas Production Rate and Composition_i-Propylbenzene_wt%</th>\n",
              "      <th>Tatoray Stripper C620 Operation_Vent Gas Production Rate and Composition_n-Propylcyclohexane_wt%</th>\n",
              "      <th>Tatoray Stripper C620 Operation_Vent Gas Production Rate and Composition_n-Propylbenzene_wt%</th>\n",
              "      <th>Tatoray Stripper C620 Operation_Vent Gas Production Rate and Composition_1-Methyl-3-ethylbenzene_wt%</th>\n",
              "      <th>Tatoray Stripper C620 Operation_Vent Gas Production Rate and Composition_1-Methyl-4-ethylbenzene_wt%</th>\n",
              "      <th>Tatoray Stripper C620 Operation_Vent Gas Production Rate and Composition_1,3,5-Trimethylbenzene_wt%</th>\n",
              "      <th>Tatoray Stripper C620 Operation_Vent Gas Production Rate and Composition_1-Methyl-2-ethylbenzene_wt%</th>\n",
              "      <th>Tatoray Stripper C620 Operation_Vent Gas Production Rate and Composition_1,2,4-Trimethylbenzene_wt%</th>\n",
              "      <th>Tatoray Stripper C620 Operation_Vent Gas Production Rate and Composition_tert-Butylcyclohexane_wt%</th>\n",
              "      <th>Tatoray Stripper C620 Operation_Vent Gas Production Rate and Composition_1,2,3-Trimethylbenzene_wt%</th>\n",
              "      <th>Tatoray Stripper C620 Operation_Vent Gas Production Rate and Composition_Indane_wt%</th>\n",
              "      <th>Tatoray Stripper C620 Operation_Vent Gas Production Rate and Composition_1-Methyl-4-n-propylbenzene_wt%</th>\n",
              "      <th>Tatoray Stripper C620 Operation_Vent Gas Production Rate and Composition_1,2-Diethylbenzene_wt%</th>\n",
              "      <th>Tatoray Stripper C620 Operation_Vent Gas Production Rate and Composition_5-Ethyl-m-xylene_wt%</th>\n",
              "      <th>Tatoray Stripper C620 Operation_Vent Gas Production Rate and Composition_1,4-Diethylbenzene_wt%</th>\n",
              "      <th>Tatoray Stripper C620 Operation_Vent Gas Production Rate and Composition_1,2,3,5-Tetramethylbenzene_wt%</th>\n",
              "      <th>Tatoray Stripper C620 Operation_Vent Gas Production Rate and Composition_n-Pentylbenzene_wt%</th>\n",
              "      <th>Tatoray Stripper C620 Operation_Vent Gas Production Rate and Composition_n-Hexylbenzene_wt%</th>\n",
              "      <th>Tatoray Stripper C620 Operation_Vent Gas Production Rate and Composition_Nitrogen_wt%</th>\n",
              "      <th>...</th>\n",
              "      <th>Tatoray Stripper C620 Operation_Bottoms Production Rate and Composition_Methane_wt%</th>\n",
              "      <th>Tatoray Stripper C620 Operation_Bottoms Production Rate and Composition_Ethane_wt%</th>\n",
              "      <th>Tatoray Stripper C620 Operation_Bottoms Production Rate and Composition_Propane_wt%</th>\n",
              "      <th>Tatoray Stripper C620 Operation_Bottoms Production Rate and Composition_n-Butane_wt%</th>\n",
              "      <th>Tatoray Stripper C620 Operation_Bottoms Production Rate and Composition_n-Pentane_wt%</th>\n",
              "      <th>Tatoray Stripper C620 Operation_Bottoms Production Rate and Composition_n-Hexane_wt%</th>\n",
              "      <th>Tatoray Stripper C620 Operation_Bottoms Production Rate and Composition_Benzene_wt%</th>\n",
              "      <th>Tatoray Stripper C620 Operation_Bottoms Production Rate and Composition_Cyclohexane_wt%</th>\n",
              "      <th>Tatoray Stripper C620 Operation_Bottoms Production Rate and Composition_n-Heptane_wt%</th>\n",
              "      <th>Tatoray Stripper C620 Operation_Bottoms Production Rate and Composition_Water_wt%</th>\n",
              "      <th>Tatoray Stripper C620 Operation_Bottoms Production Rate and Composition_Methylcyclohexane_wt%</th>\n",
              "      <th>Tatoray Stripper C620 Operation_Bottoms Production Rate and Composition_Toluene_wt%</th>\n",
              "      <th>Tatoray Stripper C620 Operation_Bottoms Production Rate and Composition_n-Octane_wt%</th>\n",
              "      <th>Tatoray Stripper C620 Operation_Bottoms Production Rate and Composition_n-Propylcyclopentane_wt%</th>\n",
              "      <th>Tatoray Stripper C620 Operation_Bottoms Production Rate and Composition_Ethylcyclohexane_wt%</th>\n",
              "      <th>Tatoray Stripper C620 Operation_Bottoms Production Rate and Composition_Ethylbenzene_wt%</th>\n",
              "      <th>Tatoray Stripper C620 Operation_Bottoms Production Rate and Composition_p-Xylene_wt%</th>\n",
              "      <th>Tatoray Stripper C620 Operation_Bottoms Production Rate and Composition_m-Xylene_wt%</th>\n",
              "      <th>Tatoray Stripper C620 Operation_Bottoms Production Rate and Composition_o-Xylene_wt%</th>\n",
              "      <th>Tatoray Stripper C620 Operation_Bottoms Production Rate and Composition_n-Nonane_wt%</th>\n",
              "      <th>Tatoray Stripper C620 Operation_Bottoms Production Rate and Composition_i-Propylbenzene_wt%</th>\n",
              "      <th>Tatoray Stripper C620 Operation_Bottoms Production Rate and Composition_n-Propylcyclohexane_wt%</th>\n",
              "      <th>Tatoray Stripper C620 Operation_Bottoms Production Rate and Composition_n-Propylbenzene_wt%</th>\n",
              "      <th>Tatoray Stripper C620 Operation_Bottoms Production Rate and Composition_1-Methyl-3-ethylbenzene_wt%</th>\n",
              "      <th>Tatoray Stripper C620 Operation_Bottoms Production Rate and Composition_1-Methyl-4-ethylbenzene_wt%</th>\n",
              "      <th>Tatoray Stripper C620 Operation_Bottoms Production Rate and Composition_1,3,5-Trimethylbenzene_wt%</th>\n",
              "      <th>Tatoray Stripper C620 Operation_Bottoms Production Rate and Composition_1-Methyl-2-ethylbenzene_wt%</th>\n",
              "      <th>Tatoray Stripper C620 Operation_Bottoms Production Rate and Composition_1,2,4-Trimethylbenzene_wt%</th>\n",
              "      <th>Tatoray Stripper C620 Operation_Bottoms Production Rate and Composition_tert-Butylcyclohexane_wt%</th>\n",
              "      <th>Tatoray Stripper C620 Operation_Bottoms Production Rate and Composition_1,2,3-Trimethylbenzene_wt%</th>\n",
              "      <th>Tatoray Stripper C620 Operation_Bottoms Production Rate and Composition_Indane_wt%</th>\n",
              "      <th>Tatoray Stripper C620 Operation_Bottoms Production Rate and Composition_1-Methyl-4-n-propylbenzene_wt%</th>\n",
              "      <th>Tatoray Stripper C620 Operation_Bottoms Production Rate and Composition_1,2-Diethylbenzene_wt%</th>\n",
              "      <th>Tatoray Stripper C620 Operation_Bottoms Production Rate and Composition_5-Ethyl-m-xylene_wt%</th>\n",
              "      <th>Tatoray Stripper C620 Operation_Bottoms Production Rate and Composition_1,4-Diethylbenzene_wt%</th>\n",
              "      <th>Tatoray Stripper C620 Operation_Bottoms Production Rate and Composition_1,2,3,5-Tetramethylbenzene_wt%</th>\n",
              "      <th>Tatoray Stripper C620 Operation_Bottoms Production Rate and Composition_n-Pentylbenzene_wt%</th>\n",
              "      <th>Tatoray Stripper C620 Operation_Bottoms Production Rate and Composition_n-Hexylbenzene_wt%</th>\n",
              "      <th>Tatoray Stripper C620 Operation_Bottoms Production Rate and Composition_Nitrogen_wt%</th>\n",
              "      <th>Tatoray Stripper C620 Operation_Bottoms Production Rate and Composition_Oxygen_wt%</th>\n",
              "    </tr>\n",
              "  </thead>\n",
              "  <tbody>\n",
              "    <tr>\n",
              "      <th>066-002</th>\n",
              "      <td>0.0</td>\n",
              "      <td>1.648198</td>\n",
              "      <td>39.63596</td>\n",
              "      <td>35.991131</td>\n",
              "      <td>10.299364</td>\n",
              "      <td>4.50284</td>\n",
              "      <td>0.245866</td>\n",
              "      <td>7.654796</td>\n",
              "      <td>0.011336</td>\n",
              "      <td>0.002602</td>\n",
              "      <td>0.0</td>\n",
              "      <td>0.000072</td>\n",
              "      <td>0.007842</td>\n",
              "      <td>0.000001</td>\n",
              "      <td>2.732991e-09</td>\n",
              "      <td>1.251831e-09</td>\n",
              "      <td>7.980712e-09</td>\n",
              "      <td>2.691577e-08</td>\n",
              "      <td>3.991171e-08</td>\n",
              "      <td>1.568482e-09</td>\n",
              "      <td>2.935006e-11</td>\n",
              "      <td>6.326942e-14</td>\n",
              "      <td>2.599452e-14</td>\n",
              "      <td>3.248666e-15</td>\n",
              "      <td>1.632054e-12</td>\n",
              "      <td>5.092648e-13</td>\n",
              "      <td>8.949323e-14</td>\n",
              "      <td>2.147979e-13</td>\n",
              "      <td>2.529926e-14</td>\n",
              "      <td>0.0</td>\n",
              "      <td>1.639650e-16</td>\n",
              "      <td>1.208994e-17</td>\n",
              "      <td>1.730397e-20</td>\n",
              "      <td>4.710244e-19</td>\n",
              "      <td>9.649363e-18</td>\n",
              "      <td>0.0</td>\n",
              "      <td>5.380443e-21</td>\n",
              "      <td>1.084066e-22</td>\n",
              "      <td>2.528414e-27</td>\n",
              "      <td>0.0</td>\n",
              "      <td>...</td>\n",
              "      <td>0.0</td>\n",
              "      <td>0.0</td>\n",
              "      <td>0.0</td>\n",
              "      <td>6.306925e-24</td>\n",
              "      <td>1.912599e-16</td>\n",
              "      <td>1.596587e-09</td>\n",
              "      <td>0.25</td>\n",
              "      <td>0.000184</td>\n",
              "      <td>0.003801</td>\n",
              "      <td>0.0</td>\n",
              "      <td>0.010193</td>\n",
              "      <td>45.698475</td>\n",
              "      <td>0.008486</td>\n",
              "      <td>0.010286</td>\n",
              "      <td>0.010289</td>\n",
              "      <td>1.14877</td>\n",
              "      <td>8.957208</td>\n",
              "      <td>19.563766</td>\n",
              "      <td>8.009777</td>\n",
              "      <td>0.014937</td>\n",
              "      <td>0.006756</td>\n",
              "      <td>0.002824</td>\n",
              "      <td>0.007882</td>\n",
              "      <td>1.104666</td>\n",
              "      <td>0.578796</td>\n",
              "      <td>2.932266</td>\n",
              "      <td>0.325432</td>\n",
              "      <td>7.489439</td>\n",
              "      <td>0.0</td>\n",
              "      <td>1.195878</td>\n",
              "      <td>0.039412</td>\n",
              "      <td>0.001126</td>\n",
              "      <td>0.025899</td>\n",
              "      <td>1.01233</td>\n",
              "      <td>0.0</td>\n",
              "      <td>1.164348</td>\n",
              "      <td>0.298406</td>\n",
              "      <td>0.128371</td>\n",
              "      <td>0.0</td>\n",
              "      <td>0.0</td>\n",
              "    </tr>\n",
              "  </tbody>\n",
              "</table>\n",
              "<p>1 rows × 164 columns</p>\n",
              "</div>"
            ],
            "text/plain": [
              "         Tatoray Stripper C620 Operation_Vent Gas Production Rate and Composition_Hydrogen_wt%  ...  Tatoray Stripper C620 Operation_Bottoms Production Rate and Composition_Oxygen_wt%\n",
              "066-002                                                0.0                                      ...                                                0.0                                 \n",
              "\n",
              "[1 rows x 164 columns]"
            ]
          },
          "metadata": {
            "tags": []
          },
          "execution_count": 116
        }
      ]
    },
    {
      "cell_type": "code",
      "metadata": {
        "colab": {
          "base_uri": "https://localhost:8080/",
          "height": 108
        },
        "id": "rdbBMkqyr6Gj",
        "outputId": "6ce6ce05-4b4e-49fe-a679-aa8f1affbb98"
      },
      "source": [
        "plt.imshow(c620_wt.head(41*4).values)\n",
        "plt.show()\n",
        "plt.imshow(c620_wt_gt.head(41*4).values)"
      ],
      "execution_count": 117,
      "outputs": [
        {
          "output_type": "display_data",
          "data": {
            "image/png": "[encoded data removed]",
            "text/plain": [
              "<Figure size 432x288 with 1 Axes>"
            ]
          },
          "metadata": {
            "tags": [],
            "needs_background": "light"
          }
        },
        {
          "output_type": "execute_result",
          "data": {
            "text/plain": [
              "<matplotlib.image.AxesImage at 0x7f6fe88297b8>"
            ]
          },
          "metadata": {
            "tags": []
          },
          "execution_count": 117
        },
        {
          "output_type": "display_data",
          "data": {
            "image/png": "[encoded data removed]",
            "text/plain": [
              "<Figure size 432x288 with 1 Axes>"
            ]
          },
          "metadata": {
            "tags": [],
            "needs_background": "light"
          }
        }
      ]
    },
    {
      "cell_type": "code",
      "metadata": {
        "colab": {
          "base_uri": "https://localhost:8080/",
          "height": 419
        },
        "id": "WQHv3Hawq1L9",
        "outputId": "f0a5dc05-c1b1-4827-d911-b4a01e6e2105"
      },
      "source": [
        "predict.model_c620_sf.show_metrics(c620_wt,c620_wt_gt,e=2e-2)"
      ],
      "execution_count": 118,
      "outputs": [
        {
          "output_type": "execute_result",
          "data": {
            "text/html": [
              "<div>\n",
              "<style scoped>\n",
              "    .dataframe tbody tr th:only-of-type {\n",
              "        vertical-align: middle;\n",
              "    }\n",
              "\n",
              "    .dataframe tbody tr th {\n",
              "        vertical-align: top;\n",
              "    }\n",
              "\n",
              "    .dataframe thead th {\n",
              "        text-align: right;\n",
              "    }\n",
              "</style>\n",
              "<table border=\"1\" class=\"dataframe\">\n",
              "  <thead>\n",
              "    <tr style=\"text-align: right;\">\n",
              "      <th></th>\n",
              "      <th>R2</th>\n",
              "      <th>MSE</th>\n",
              "      <th>MAPE</th>\n",
              "    </tr>\n",
              "  </thead>\n",
              "  <tbody>\n",
              "    <tr>\n",
              "      <th>Tatoray Stripper C620 Operation_Vent Gas Production Rate and Composition_Hydrogen_wt%</th>\n",
              "      <td>NaN</td>\n",
              "      <td>0</td>\n",
              "      <td>NaN</td>\n",
              "    </tr>\n",
              "    <tr>\n",
              "      <th>Tatoray Stripper C620 Operation_Vent Gas Production Rate and Composition_Methane_wt%</th>\n",
              "      <td>NaN</td>\n",
              "      <td>7.5908e-05</td>\n",
              "      <td>0.531418</td>\n",
              "    </tr>\n",
              "    <tr>\n",
              "      <th>Tatoray Stripper C620 Operation_Vent Gas Production Rate and Composition_Ethane_wt%</th>\n",
              "      <td>NaN</td>\n",
              "      <td>0.0486785</td>\n",
              "      <td>0.559762</td>\n",
              "    </tr>\n",
              "    <tr>\n",
              "      <th>Tatoray Stripper C620 Operation_Vent Gas Production Rate and Composition_Propane_wt%</th>\n",
              "      <td>NaN</td>\n",
              "      <td>0.0524141</td>\n",
              "      <td>0.640177</td>\n",
              "    </tr>\n",
              "    <tr>\n",
              "      <th>Tatoray Stripper C620 Operation_Vent Gas Production Rate and Composition_n-Butane_wt%</th>\n",
              "      <td>NaN</td>\n",
              "      <td>0.00732645</td>\n",
              "      <td>0.838032</td>\n",
              "    </tr>\n",
              "    <tr>\n",
              "      <th>...</th>\n",
              "      <td>...</td>\n",
              "      <td>...</td>\n",
              "      <td>...</td>\n",
              "    </tr>\n",
              "    <tr>\n",
              "      <th>Tatoray Stripper C620 Operation_Bottoms Production Rate and Composition_n-Pentylbenzene_wt%</th>\n",
              "      <td>NaN</td>\n",
              "      <td>2.16253e-08</td>\n",
              "      <td>0.049256</td>\n",
              "    </tr>\n",
              "    <tr>\n",
              "      <th>Tatoray Stripper C620 Operation_Bottoms Production Rate and Composition_n-Hexylbenzene_wt%</th>\n",
              "      <td>NaN</td>\n",
              "      <td>4.00089e-09</td>\n",
              "      <td>0.049249</td>\n",
              "    </tr>\n",
              "    <tr>\n",
              "      <th>Tatoray Stripper C620 Operation_Bottoms Production Rate and Composition_Nitrogen_wt%</th>\n",
              "      <td>NaN</td>\n",
              "      <td>0</td>\n",
              "      <td>NaN</td>\n",
              "    </tr>\n",
              "    <tr>\n",
              "      <th>Tatoray Stripper C620 Operation_Bottoms Production Rate and Composition_Oxygen_wt%</th>\n",
              "      <td>NaN</td>\n",
              "      <td>0</td>\n",
              "      <td>NaN</td>\n",
              "    </tr>\n",
              "    <tr>\n",
              "      <th>AVG</th>\n",
              "      <td>NaN</td>\n",
              "      <td>0.0988192</td>\n",
              "      <td>3.44152</td>\n",
              "    </tr>\n",
              "  </tbody>\n",
              "</table>\n",
              "<p>165 rows × 3 columns</p>\n",
              "</div>"
            ],
            "text/plain": [
              "                                                     R2          MSE      MAPE\n",
              "Tatoray Stripper C620 Operation_Vent Gas Produc...  NaN            0       NaN\n",
              "Tatoray Stripper C620 Operation_Vent Gas Produc...  NaN   7.5908e-05  0.531418\n",
              "Tatoray Stripper C620 Operation_Vent Gas Produc...  NaN    0.0486785  0.559762\n",
              "Tatoray Stripper C620 Operation_Vent Gas Produc...  NaN    0.0524141  0.640177\n",
              "Tatoray Stripper C620 Operation_Vent Gas Produc...  NaN   0.00732645  0.838032\n",
              "...                                                 ...          ...       ...\n",
              "Tatoray Stripper C620 Operation_Bottoms Product...  NaN  2.16253e-08  0.049256\n",
              "Tatoray Stripper C620 Operation_Bottoms Product...  NaN  4.00089e-09  0.049249\n",
              "Tatoray Stripper C620 Operation_Bottoms Product...  NaN            0       NaN\n",
              "Tatoray Stripper C620 Operation_Bottoms Product...  NaN            0       NaN\n",
              "AVG                                                 NaN    0.0988192   3.44152\n",
              "\n",
              "[165 rows x 3 columns]"
            ]
          },
          "metadata": {
            "tags": []
          },
          "execution_count": 118
        }
      ]
    },
    {
      "cell_type": "markdown",
      "metadata": {
        "id": "RVRdyuqvnrn-"
      },
      "source": [
        "# check mass blance c620_wt"
      ]
    },
    {
      "cell_type": "code",
      "metadata": {
        "id": "XGhEa9KvnqZg",
        "colab": {
          "base_uri": "https://localhost:8080/"
        },
        "outputId": "b0fcf8c7-d0ad-4253-f146-9303944f5df2"
      },
      "source": [
        "for i in range(4):\n",
        "  assert np.allclose(c620_wt.iloc[:,41*i:41*(i+1)].sum(axis=1),100)\n",
        "print('pass')"
      ],
      "execution_count": 119,
      "outputs": [
        {
          "output_type": "stream",
          "text": [
            "pass\n"
          ],
          "name": "stdout"
        }
      ]
    },
    {
      "cell_type": "code",
      "metadata": {
        "id": "TczcLnnruAPU",
        "colab": {
          "base_uri": "https://localhost:8080/"
        },
        "outputId": "405f4578-7c20-4681-c22f-55d510c8c26e"
      },
      "source": [
        "input_mfr = predict.c620_mb.iloc[:,0].values.reshape(-1,1)\r\n",
        "w1_mfr = predict.c620_mb.iloc[:,1].values.reshape(-1,1)\r\n",
        "w2_mfr = predict.c620_mb.iloc[:,2].values.reshape(-1,1)\r\n",
        "w3_mfr = predict.c620_mb.iloc[:,3].values.reshape(-1,1)\r\n",
        "w4_mfr = predict.c620_mb.iloc[:,4].values.reshape(-1,1)\r\n",
        "入料量 = (c620_x.iloc[:,-41:]*input_mfr).sum(axis=1).values\r\n",
        "出料_w1 = (c620_wt.iloc[:,0:41]*w1_mfr).sum(axis=1).values\r\n",
        "出料_w2 = (c620_wt.iloc[:,41:41*2]*w2_mfr).sum(axis=1).values\r\n",
        "出料_w3 = (c620_wt.iloc[:,41*2:41*3]*w3_mfr).sum(axis=1).values\r\n",
        "出料_w4 = (c620_wt.iloc[:,41*3:41*4]*w4_mfr).sum(axis=1).values\r\n",
        "np.allclose(入料量,出料_w1+出料_w2+出料_w3+出料_w4)"
      ],
      "execution_count": 120,
      "outputs": [
        {
          "output_type": "execute_result",
          "data": {
            "text/plain": [
              "True"
            ]
          },
          "metadata": {
            "tags": []
          },
          "execution_count": 120
        }
      ]
    },
    {
      "cell_type": "markdown",
      "metadata": {
        "id": "exavGehqqvy7"
      },
      "source": [
        "#C620 OP"
      ]
    },
    {
      "cell_type": "code",
      "metadata": {
        "colab": {
          "base_uri": "https://localhost:8080/",
          "height": 165
        },
        "id": "JrG15rWDh0JD",
        "outputId": "c03dc7df-14ae-4646-e7b4-27f4a901e94c"
      },
      "source": [
        "c620_op = predict.c620_op(c620_x)\n",
        "c620_op.head()"
      ],
      "execution_count": 121,
      "outputs": [
        {
          "output_type": "execute_result",
          "data": {
            "text/html": [
              "<div>\n",
              "<style scoped>\n",
              "    .dataframe tbody tr th:only-of-type {\n",
              "        vertical-align: middle;\n",
              "    }\n",
              "\n",
              "    .dataframe tbody tr th {\n",
              "        vertical-align: top;\n",
              "    }\n",
              "\n",
              "    .dataframe thead th {\n",
              "        text-align: right;\n",
              "    }\n",
              "</style>\n",
              "<table border=\"1\" class=\"dataframe\">\n",
              "  <thead>\n",
              "    <tr style=\"text-align: right;\">\n",
              "      <th></th>\n",
              "      <th>Density_Feed Properties</th>\n",
              "      <th>Density_Vent Gas Production Rate and Composition</th>\n",
              "      <th>Density_Distillate Production Rate and Composition</th>\n",
              "      <th>Density_Sidedraw Production Rate and Composition</th>\n",
              "      <th>Density_Bottoms Production Rate and Composition</th>\n",
              "      <th>Tatoray Stripper C620 Operation_Yield Summary_Reflux Rate_m3/hr</th>\n",
              "      <th>Tatoray Stripper C620 Operation_Heat Duty_Condenser Heat Duty_Mkcal/hr</th>\n",
              "      <th>Tatoray Stripper C620 Operation_Heat Duty_Reboiler Heat Duty_Mkcal/hr</th>\n",
              "      <th>Tatoray Stripper C620 Operation_Column Temp Profile_C620 Tray 14 (Control)_oC</th>\n",
              "      <th>Tatoray Stripper C620 Operation_Column Temp Profile_C620 Tray 34 (Control)_oC</th>\n",
              "    </tr>\n",
              "  </thead>\n",
              "  <tbody>\n",
              "    <tr>\n",
              "      <th>066-002</th>\n",
              "      <td>0.862153</td>\n",
              "      <td>0.452456</td>\n",
              "      <td>0.783487</td>\n",
              "      <td>0.881299</td>\n",
              "      <td>0.87188</td>\n",
              "      <td>131.684784</td>\n",
              "      <td>13.195435</td>\n",
              "      <td>15.340366</td>\n",
              "      <td>175.008286</td>\n",
              "      <td>193.60141</td>\n",
              "    </tr>\n",
              "  </tbody>\n",
              "</table>\n",
              "</div>"
            ],
            "text/plain": [
              "         Density_Feed Properties  ...  Tatoray Stripper C620 Operation_Column Temp Profile_C620 Tray 34 (Control)_oC\n",
              "066-002                 0.862153  ...                                          193.60141                            \n",
              "\n",
              "[1 rows x 10 columns]"
            ]
          },
          "metadata": {
            "tags": []
          },
          "execution_count": 121
        }
      ]
    },
    {
      "cell_type": "code",
      "metadata": {
        "colab": {
          "base_uri": "https://localhost:8080/",
          "height": 165
        },
        "id": "-Y9DWZshl6gx",
        "outputId": "b3b84a21-25fe-4c80-aeae-716a6fcf6443"
      },
      "source": [
        "c620_op_gt = predict.c620_df.loc[c620_op.index,c620_op.columns]\n",
        "c620_op_gt.head()"
      ],
      "execution_count": 122,
      "outputs": [
        {
          "output_type": "execute_result",
          "data": {
            "text/html": [
              "<div>\n",
              "<style scoped>\n",
              "    .dataframe tbody tr th:only-of-type {\n",
              "        vertical-align: middle;\n",
              "    }\n",
              "\n",
              "    .dataframe tbody tr th {\n",
              "        vertical-align: top;\n",
              "    }\n",
              "\n",
              "    .dataframe thead th {\n",
              "        text-align: right;\n",
              "    }\n",
              "</style>\n",
              "<table border=\"1\" class=\"dataframe\">\n",
              "  <thead>\n",
              "    <tr style=\"text-align: right;\">\n",
              "      <th></th>\n",
              "      <th>Density_Feed Properties</th>\n",
              "      <th>Density_Vent Gas Production Rate and Composition</th>\n",
              "      <th>Density_Distillate Production Rate and Composition</th>\n",
              "      <th>Density_Sidedraw Production Rate and Composition</th>\n",
              "      <th>Density_Bottoms Production Rate and Composition</th>\n",
              "      <th>Tatoray Stripper C620 Operation_Yield Summary_Reflux Rate_m3/hr</th>\n",
              "      <th>Tatoray Stripper C620 Operation_Heat Duty_Condenser Heat Duty_Mkcal/hr</th>\n",
              "      <th>Tatoray Stripper C620 Operation_Heat Duty_Reboiler Heat Duty_Mkcal/hr</th>\n",
              "      <th>Tatoray Stripper C620 Operation_Column Temp Profile_C620 Tray 14 (Control)_oC</th>\n",
              "      <th>Tatoray Stripper C620 Operation_Column Temp Profile_C620 Tray 34 (Control)_oC</th>\n",
              "    </tr>\n",
              "  </thead>\n",
              "  <tbody>\n",
              "    <tr>\n",
              "      <th>066-002</th>\n",
              "      <td>0.862141</td>\n",
              "      <td>0.451215</td>\n",
              "      <td>0.779813</td>\n",
              "      <td>0.881317</td>\n",
              "      <td>0.871876</td>\n",
              "      <td>131.75383</td>\n",
              "      <td>13.169885</td>\n",
              "      <td>15.326366</td>\n",
              "      <td>174.959564</td>\n",
              "      <td>193.615448</td>\n",
              "    </tr>\n",
              "  </tbody>\n",
              "</table>\n",
              "</div>"
            ],
            "text/plain": [
              "         Density_Feed Properties  ...  Tatoray Stripper C620 Operation_Column Temp Profile_C620 Tray 34 (Control)_oC\n",
              "066-002                 0.862141  ...                                         193.615448                            \n",
              "\n",
              "[1 rows x 10 columns]"
            ]
          },
          "metadata": {
            "tags": []
          },
          "execution_count": 122
        }
      ]
    },
    {
      "cell_type": "code",
      "metadata": {
        "colab": {
          "base_uri": "https://localhost:8080/",
          "height": 170
        },
        "id": "9CjNlf6zsd4_",
        "outputId": "e053fd44-9a0a-43a9-b27f-8219c8e4c4c5"
      },
      "source": [
        "plt.imshow(c620_op.head(9).values)\n",
        "plt.show()\n",
        "plt.imshow(c620_op_gt.head(9).values)"
      ],
      "execution_count": 123,
      "outputs": [
        {
          "output_type": "display_data",
          "data": {
            "image/png": "[encoded data removed]",
            "text/plain": [
              "<Figure size 432x288 with 1 Axes>"
            ]
          },
          "metadata": {
            "tags": [],
            "needs_background": "light"
          }
        },
        {
          "output_type": "execute_result",
          "data": {
            "text/plain": [
              "<matplotlib.image.AxesImage at 0x7f6fe8d7b208>"
            ]
          },
          "metadata": {
            "tags": []
          },
          "execution_count": 123
        },
        {
          "output_type": "display_data",
          "data": {
            "image/png": "[encoded data removed]",
            "text/plain": [
              "<Figure size 432x288 with 1 Axes>"
            ]
          },
          "metadata": {
            "tags": [],
            "needs_background": "light"
          }
        }
      ]
    },
    {
      "cell_type": "code",
      "metadata": {
        "colab": {
          "base_uri": "https://localhost:8080/",
          "height": 390
        },
        "id": "sMpzGJVDmYj8",
        "outputId": "75c8bfe9-98e6-43e5-e35e-f2e1443ad7f8"
      },
      "source": [
        "predict.model_c620_op.show_metrics(c620_op,c620_op_gt,e=2e-2)"
      ],
      "execution_count": 124,
      "outputs": [
        {
          "output_type": "execute_result",
          "data": {
            "text/html": [
              "<div>\n",
              "<style scoped>\n",
              "    .dataframe tbody tr th:only-of-type {\n",
              "        vertical-align: middle;\n",
              "    }\n",
              "\n",
              "    .dataframe tbody tr th {\n",
              "        vertical-align: top;\n",
              "    }\n",
              "\n",
              "    .dataframe thead th {\n",
              "        text-align: right;\n",
              "    }\n",
              "</style>\n",
              "<table border=\"1\" class=\"dataframe\">\n",
              "  <thead>\n",
              "    <tr style=\"text-align: right;\">\n",
              "      <th></th>\n",
              "      <th>R2</th>\n",
              "      <th>MSE</th>\n",
              "      <th>MAPE</th>\n",
              "    </tr>\n",
              "  </thead>\n",
              "  <tbody>\n",
              "    <tr>\n",
              "      <th>Density_Feed Properties</th>\n",
              "      <td>NaN</td>\n",
              "      <td>1.36281e-10</td>\n",
              "      <td>0.00135404</td>\n",
              "    </tr>\n",
              "    <tr>\n",
              "      <th>Density_Vent Gas Production Rate and Composition</th>\n",
              "      <td>NaN</td>\n",
              "      <td>1.54146e-06</td>\n",
              "      <td>0.274403</td>\n",
              "    </tr>\n",
              "    <tr>\n",
              "      <th>Density_Distillate Production Rate and Composition</th>\n",
              "      <td>NaN</td>\n",
              "      <td>1.34964e-05</td>\n",
              "      <td>0.468896</td>\n",
              "    </tr>\n",
              "    <tr>\n",
              "      <th>Density_Sidedraw Production Rate and Composition</th>\n",
              "      <td>NaN</td>\n",
              "      <td>3.04256e-10</td>\n",
              "      <td>0.00197923</td>\n",
              "    </tr>\n",
              "    <tr>\n",
              "      <th>Density_Bottoms Production Rate and Composition</th>\n",
              "      <td>NaN</td>\n",
              "      <td>1.34657e-11</td>\n",
              "      <td>0.000420879</td>\n",
              "    </tr>\n",
              "    <tr>\n",
              "      <th>Tatoray Stripper C620 Operation_Yield Summary_Reflux Rate_m3/hr</th>\n",
              "      <td>NaN</td>\n",
              "      <td>0.00476736</td>\n",
              "      <td>0.0524328</td>\n",
              "    </tr>\n",
              "    <tr>\n",
              "      <th>Tatoray Stripper C620 Operation_Heat Duty_Condenser Heat Duty_Mkcal/hr</th>\n",
              "      <td>NaN</td>\n",
              "      <td>0.000652784</td>\n",
              "      <td>0.193625</td>\n",
              "    </tr>\n",
              "    <tr>\n",
              "      <th>Tatoray Stripper C620 Operation_Heat Duty_Reboiler Heat Duty_Mkcal/hr</th>\n",
              "      <td>NaN</td>\n",
              "      <td>0.000195998</td>\n",
              "      <td>0.0912621</td>\n",
              "    </tr>\n",
              "    <tr>\n",
              "      <th>Tatoray Stripper C620 Operation_Column Temp Profile_C620 Tray 14 (Control)_oC</th>\n",
              "      <td>NaN</td>\n",
              "      <td>0.00237377</td>\n",
              "      <td>0.0278394</td>\n",
              "    </tr>\n",
              "    <tr>\n",
              "      <th>Tatoray Stripper C620 Operation_Column Temp Profile_C620 Tray 34 (Control)_oC</th>\n",
              "      <td>NaN</td>\n",
              "      <td>0.000197068</td>\n",
              "      <td>0.00725103</td>\n",
              "    </tr>\n",
              "    <tr>\n",
              "      <th>AVG</th>\n",
              "      <td>NaN</td>\n",
              "      <td>0.000820202</td>\n",
              "      <td>0.111946</td>\n",
              "    </tr>\n",
              "  </tbody>\n",
              "</table>\n",
              "</div>"
            ],
            "text/plain": [
              "                                                     R2  ...         MAPE\n",
              "Density_Feed Properties                             NaN  ...   0.00135404\n",
              "Density_Vent Gas Production Rate and Composition    NaN  ...     0.274403\n",
              "Density_Distillate Production Rate and Composition  NaN  ...     0.468896\n",
              "Density_Sidedraw Production Rate and Composition    NaN  ...   0.00197923\n",
              "Density_Bottoms Production Rate and Composition     NaN  ...  0.000420879\n",
              "Tatoray Stripper C620 Operation_Yield Summary_R...  NaN  ...    0.0524328\n",
              "Tatoray Stripper C620 Operation_Heat Duty_Conde...  NaN  ...     0.193625\n",
              "Tatoray Stripper C620 Operation_Heat Duty_Reboi...  NaN  ...    0.0912621\n",
              "Tatoray Stripper C620 Operation_Column Temp Pro...  NaN  ...    0.0278394\n",
              "Tatoray Stripper C620 Operation_Column Temp Pro...  NaN  ...   0.00725103\n",
              "AVG                                                 NaN  ...     0.111946\n",
              "\n",
              "[11 rows x 3 columns]"
            ]
          },
          "metadata": {
            "tags": []
          },
          "execution_count": 124
        }
      ]
    },
    {
      "cell_type": "markdown",
      "metadata": {
        "id": "T3OSDsRrqaKJ"
      },
      "source": [
        "#C660 WT"
      ]
    },
    {
      "cell_type": "code",
      "metadata": {
        "scrolled": false,
        "colab": {
          "base_uri": "https://localhost:8080/",
          "height": 219
        },
        "id": "03F6hHPLh0JE",
        "outputId": "27e977bb-651d-4f9e-dc02-20ed1cfc6b7d"
      },
      "source": [
        "#C660 Input\n",
        "c660_x = predict.load_c660(c620_wt[predict.c620_col_names['sidedraw_x']])\n",
        "c660_x.head()"
      ],
      "execution_count": 125,
      "outputs": [
        {
          "output_type": "execute_result",
          "data": {
            "text/html": [
              "<div>\n",
              "<style scoped>\n",
              "    .dataframe tbody tr th:only-of-type {\n",
              "        vertical-align: middle;\n",
              "    }\n",
              "\n",
              "    .dataframe tbody tr th {\n",
              "        vertical-align: top;\n",
              "    }\n",
              "\n",
              "    .dataframe thead th {\n",
              "        text-align: right;\n",
              "    }\n",
              "</style>\n",
              "<table border=\"1\" class=\"dataframe\">\n",
              "  <thead>\n",
              "    <tr style=\"text-align: right;\">\n",
              "      <th></th>\n",
              "      <th>Benzene Column C660 Operation_Specifications_Spec 2 : NA in Benzene_ppmw</th>\n",
              "      <th>Benzene Column C660 Operation_Specifications_Spec 3 : Toluene in Benzene_ppmw</th>\n",
              "      <th>Combined Feed to Benzene Column C660_Detailed Composition_Hydrogen_wt%</th>\n",
              "      <th>Combined Feed to Benzene Column C660_Detailed Composition_Methane_wt%</th>\n",
              "      <th>Combined Feed to Benzene Column C660_Detailed Composition_Ethane_wt%</th>\n",
              "      <th>Combined Feed to Benzene Column C660_Detailed Composition_Propane_wt%</th>\n",
              "      <th>Combined Feed to Benzene Column C660_Detailed Composition_n-Butane_wt%</th>\n",
              "      <th>Combined Feed to Benzene Column C660_Detailed Composition_n-Pentane_wt%</th>\n",
              "      <th>Combined Feed to Benzene Column C660_Detailed Composition_n-Hexane_wt%</th>\n",
              "      <th>Combined Feed to Benzene Column C660_Detailed Composition_Benzene_wt%</th>\n",
              "      <th>Combined Feed to Benzene Column C660_Detailed Composition_Cyclohexane_wt%</th>\n",
              "      <th>Combined Feed to Benzene Column C660_Detailed Composition_n-Heptane_wt%</th>\n",
              "      <th>Combined Feed to Benzene Column C660_Detailed Composition_Water_wt%</th>\n",
              "      <th>Combined Feed to Benzene Column C660_Detailed Composition_Methylcyclohexane_wt%</th>\n",
              "      <th>Combined Feed to Benzene Column C660_Detailed Composition_Toluene_wt%</th>\n",
              "      <th>Combined Feed to Benzene Column C660_Detailed Composition_n-Octane_wt%</th>\n",
              "      <th>Combined Feed to Benzene Column C660_Detailed Composition_n-Propylcyclopentane_wt%</th>\n",
              "      <th>Combined Feed to Benzene Column C660_Detailed Composition_Ethylcyclohexane_wt%</th>\n",
              "      <th>Combined Feed to Benzene Column C660_Detailed Composition_Ethylbenzene_wt%</th>\n",
              "      <th>Combined Feed to Benzene Column C660_Detailed Composition_p-Xylene_wt%</th>\n",
              "      <th>Combined Feed to Benzene Column C660_Detailed Composition_m-Xylene_wt%</th>\n",
              "      <th>Combined Feed to Benzene Column C660_Detailed Composition_o-Xylene_wt%</th>\n",
              "      <th>Combined Feed to Benzene Column C660_Detailed Composition_n-Nonane_wt%</th>\n",
              "      <th>Combined Feed to Benzene Column C660_Detailed Composition_i-Propylbenzene_wt%</th>\n",
              "      <th>Combined Feed to Benzene Column C660_Detailed Composition_n-Propylcyclohexane_wt%</th>\n",
              "      <th>Combined Feed to Benzene Column C660_Detailed Composition_n-Propylbenzene_wt%</th>\n",
              "      <th>Combined Feed to Benzene Column C660_Detailed Composition_1-Methyl-3-ethylbenzene_wt%</th>\n",
              "      <th>Combined Feed to Benzene Column C660_Detailed Composition_1-Methyl-4-ethylbenzene_wt%</th>\n",
              "      <th>Combined Feed to Benzene Column C660_Detailed Composition_1,3,5-Trimethylbenzene_wt%</th>\n",
              "      <th>Combined Feed to Benzene Column C660_Detailed Composition_1-Methyl-2-ethylbenzene_wt%</th>\n",
              "      <th>Combined Feed to Benzene Column C660_Detailed Composition_1,2,4-Trimethylbenzene_wt%</th>\n",
              "      <th>Combined Feed to Benzene Column C660_Detailed Composition_tert-Butylcyclohexane_wt%</th>\n",
              "      <th>Combined Feed to Benzene Column C660_Detailed Composition_1,2,3-Trimethylbenzene_wt%</th>\n",
              "      <th>Combined Feed to Benzene Column C660_Detailed Composition_Indane_wt%</th>\n",
              "      <th>Combined Feed to Benzene Column C660_Detailed Composition_1-Methyl-4-n-propylbenzene_wt%</th>\n",
              "      <th>Combined Feed to Benzene Column C660_Detailed Composition_1,2-Diethylbenzene_wt%</th>\n",
              "      <th>Combined Feed to Benzene Column C660_Detailed Composition_5-Ethyl-m-xylene_wt%</th>\n",
              "      <th>Combined Feed to Benzene Column C660_Detailed Composition_1,4-Diethylbenzene_wt%</th>\n",
              "      <th>Combined Feed to Benzene Column C660_Detailed Composition_1,2,3,5-Tetramethylbenzene_wt%</th>\n",
              "      <th>Combined Feed to Benzene Column C660_Detailed Composition_n-Pentylbenzene_wt%</th>\n",
              "      <th>Combined Feed to Benzene Column C660_Detailed Composition_n-Hexylbenzene_wt%</th>\n",
              "      <th>Combined Feed to Benzene Column C660_Detailed Composition_Nitrogen_wt%</th>\n",
              "      <th>Combined Feed to Benzene Column C660_Detailed Composition_Oxygen_wt%</th>\n",
              "    </tr>\n",
              "  </thead>\n",
              "  <tbody>\n",
              "    <tr>\n",
              "      <th>066-002</th>\n",
              "      <td>980.000675</td>\n",
              "      <td>9.999991</td>\n",
              "      <td>0.0</td>\n",
              "      <td>0.000099</td>\n",
              "      <td>0.006439</td>\n",
              "      <td>0.012225</td>\n",
              "      <td>0.008175</td>\n",
              "      <td>0.010443</td>\n",
              "      <td>0.017584</td>\n",
              "      <td>39.022785</td>\n",
              "      <td>0.010471</td>\n",
              "      <td>0.017035</td>\n",
              "      <td>0.0</td>\n",
              "      <td>0.005794</td>\n",
              "      <td>57.608581</td>\n",
              "      <td>0.008301</td>\n",
              "      <td>0.007077</td>\n",
              "      <td>0.005822</td>\n",
              "      <td>1.455292</td>\n",
              "      <td>0.667377</td>\n",
              "      <td>1.027026</td>\n",
              "      <td>0.061141</td>\n",
              "      <td>0.01274</td>\n",
              "      <td>1.107434e-08</td>\n",
              "      <td>0.028204</td>\n",
              "      <td>1.942902e-09</td>\n",
              "      <td>5.522488e-07</td>\n",
              "      <td>2.057683e-07</td>\n",
              "      <td>1.659170e-07</td>\n",
              "      <td>9.091523e-08</td>\n",
              "      <td>1.021016e-07</td>\n",
              "      <td>0.002283</td>\n",
              "      <td>2.237865e-09</td>\n",
              "      <td>9.667732e-11</td>\n",
              "      <td>0.00405</td>\n",
              "      <td>0.001031</td>\n",
              "      <td>3.473292e-10</td>\n",
              "      <td>0.0</td>\n",
              "      <td>3.755338e-12</td>\n",
              "      <td>1.795892e-13</td>\n",
              "      <td>1.752867e-16</td>\n",
              "      <td>0.0</td>\n",
              "      <td>0.0</td>\n",
              "    </tr>\n",
              "  </tbody>\n",
              "</table>\n",
              "</div>"
            ],
            "text/plain": [
              "         Benzene Column C660 Operation_Specifications_Spec 2 : NA in Benzene_ppmw  ...  Combined Feed to Benzene Column C660_Detailed Composition_Oxygen_wt%\n",
              "066-002                                         980.000675                         ...                                                0.0                   \n",
              "\n",
              "[1 rows x 43 columns]"
            ]
          },
          "metadata": {
            "tags": []
          },
          "execution_count": 125
        }
      ]
    },
    {
      "cell_type": "code",
      "metadata": {
        "colab": {
          "base_uri": "https://localhost:8080/",
          "height": 265
        },
        "id": "aepcA3kih0JF",
        "outputId": "3359c25d-ef05-4d09-bd7d-970ac59b6233"
      },
      "source": [
        "c660_wt = predict.c660_wt(c660_x)\n",
        "c660_wt.head()"
      ],
      "execution_count": 126,
      "outputs": [
        {
          "output_type": "execute_result",
          "data": {
            "text/html": [
              "<div>\n",
              "<style scoped>\n",
              "    .dataframe tbody tr th:only-of-type {\n",
              "        vertical-align: middle;\n",
              "    }\n",
              "\n",
              "    .dataframe tbody tr th {\n",
              "        vertical-align: top;\n",
              "    }\n",
              "\n",
              "    .dataframe thead th {\n",
              "        text-align: right;\n",
              "    }\n",
              "</style>\n",
              "<table border=\"1\" class=\"dataframe\">\n",
              "  <thead>\n",
              "    <tr style=\"text-align: right;\">\n",
              "      <th></th>\n",
              "      <th>Benzene Column C660 Operation_Vent Gas Production Rate and Composition_Hydrogen_wt%</th>\n",
              "      <th>Benzene Column C660 Operation_Vent Gas Production Rate and Composition_Methane_wt%</th>\n",
              "      <th>Benzene Column C660 Operation_Vent Gas Production Rate and Composition_Ethane_wt%</th>\n",
              "      <th>Benzene Column C660 Operation_Vent Gas Production Rate and Composition_Propane_wt%</th>\n",
              "      <th>Benzene Column C660 Operation_Vent Gas Production Rate and Composition_n-Butane_wt%</th>\n",
              "      <th>Benzene Column C660 Operation_Vent Gas Production Rate and Composition_n-Pentane_wt%</th>\n",
              "      <th>Benzene Column C660 Operation_Vent Gas Production Rate and Composition_n-Hexane_wt%</th>\n",
              "      <th>Benzene Column C660 Operation_Vent Gas Production Rate and Composition_Benzene_wt%</th>\n",
              "      <th>Benzene Column C660 Operation_Vent Gas Production Rate and Composition_Cyclohexane_wt%</th>\n",
              "      <th>Benzene Column C660 Operation_Vent Gas Production Rate and Composition_n-Heptane_wt%</th>\n",
              "      <th>Benzene Column C660 Operation_Vent Gas Production Rate and Composition_Water_wt%</th>\n",
              "      <th>Benzene Column C660 Operation_Vent Gas Production Rate and Composition_Methylcyclohexane_wt%</th>\n",
              "      <th>Benzene Column C660 Operation_Vent Gas Production Rate and Composition_Toluene_wt%</th>\n",
              "      <th>Benzene Column C660 Operation_Vent Gas Production Rate and Composition_n-Octane_wt%</th>\n",
              "      <th>Benzene Column C660 Operation_Vent Gas Production Rate and Composition_n-Propylcyclopentane_wt%</th>\n",
              "      <th>Benzene Column C660 Operation_Vent Gas Production Rate and Composition_Ethylcyclohexane_wt%</th>\n",
              "      <th>Benzene Column C660 Operation_Vent Gas Production Rate and Composition_Ethylbenzene_wt%</th>\n",
              "      <th>Benzene Column C660 Operation_Vent Gas Production Rate and Composition_p-Xylene_wt%</th>\n",
              "      <th>Benzene Column C660 Operation_Vent Gas Production Rate and Composition_m-Xylene_wt%</th>\n",
              "      <th>Benzene Column C660 Operation_Vent Gas Production Rate and Composition_o-Xylene_wt%</th>\n",
              "      <th>Benzene Column C660 Operation_Vent Gas Production Rate and Composition_n-Nonane_wt%</th>\n",
              "      <th>Benzene Column C660 Operation_Vent Gas Production Rate and Composition_i-Propylbenzene_wt%</th>\n",
              "      <th>Benzene Column C660 Operation_Vent Gas Production Rate and Composition_n-Propylcyclohexane_wt%</th>\n",
              "      <th>Benzene Column C660 Operation_Vent Gas Production Rate and Composition_n-Propylbenzene_wt%</th>\n",
              "      <th>Benzene Column C660 Operation_Vent Gas Production Rate and Composition_1-Methyl-3-ethylbenzene_wt%</th>\n",
              "      <th>Benzene Column C660 Operation_Vent Gas Production Rate and Composition_1-Methyl-4-ethylbenzene_wt%</th>\n",
              "      <th>Benzene Column C660 Operation_Vent Gas Production Rate and Composition_1,3,5-Trimethylbenzene_wt%</th>\n",
              "      <th>Benzene Column C660 Operation_Vent Gas Production Rate and Composition_1-Methyl-2-ethylbenzene_wt%</th>\n",
              "      <th>Benzene Column C660 Operation_Vent Gas Production Rate and Composition_1,2,4-Trimethylbenzene_wt%</th>\n",
              "      <th>Benzene Column C660 Operation_Vent Gas Production Rate and Composition_tert-Butylcyclohexane_wt%</th>\n",
              "      <th>Benzene Column C660 Operation_Vent Gas Production Rate and Composition_1,2,3-Trimethylbenzene_wt%</th>\n",
              "      <th>Benzene Column C660 Operation_Vent Gas Production Rate and Composition_Indane_wt%</th>\n",
              "      <th>Benzene Column C660 Operation_Vent Gas Production Rate and Composition_1-Methyl-4-n-propylbenzene_wt%</th>\n",
              "      <th>Benzene Column C660 Operation_Vent Gas Production Rate and Composition_1,2-Diethylbenzene_wt%</th>\n",
              "      <th>Benzene Column C660 Operation_Vent Gas Production Rate and Composition_5-Ethyl-m-xylene_wt%</th>\n",
              "      <th>Benzene Column C660 Operation_Vent Gas Production Rate and Composition_1,4-Diethylbenzene_wt%</th>\n",
              "      <th>Benzene Column C660 Operation_Vent Gas Production Rate and Composition_1,2,3,5-Tetramethylbenzene_wt%</th>\n",
              "      <th>Benzene Column C660 Operation_Vent Gas Production Rate and Composition_n-Pentylbenzene_wt%</th>\n",
              "      <th>Benzene Column C660 Operation_Vent Gas Production Rate and Composition_n-Hexylbenzene_wt%</th>\n",
              "      <th>Benzene Column C660 Operation_Vent Gas Production Rate and Composition_Nitrogen_wt%</th>\n",
              "      <th>...</th>\n",
              "      <th>Benzene Column C660 Operation_Bottoms Production Rate and Composition_Methane_wt%</th>\n",
              "      <th>Benzene Column C660 Operation_Bottoms Production Rate and Composition_Ethane_wt%</th>\n",
              "      <th>Benzene Column C660 Operation_Bottoms Production Rate and Composition_Propane_wt%</th>\n",
              "      <th>Benzene Column C660 Operation_Bottoms Production Rate and Composition_n-Butane_wt%</th>\n",
              "      <th>Benzene Column C660 Operation_Bottoms Production Rate and Composition_n-Pentane_wt%</th>\n",
              "      <th>Benzene Column C660 Operation_Bottoms Production Rate and Composition_n-Hexane_wt%</th>\n",
              "      <th>Benzene Column C660 Operation_Bottoms Production Rate and Composition_Benzene_wt%</th>\n",
              "      <th>Benzene Column C660 Operation_Bottoms Production Rate and Composition_Cyclohexane_wt%</th>\n",
              "      <th>Benzene Column C660 Operation_Bottoms Production Rate and Composition_n-Heptane_wt%</th>\n",
              "      <th>Benzene Column C660 Operation_Bottoms Production Rate and Composition_Water_wt%</th>\n",
              "      <th>Benzene Column C660 Operation_Bottoms Production Rate and Composition_Methylcyclohexane_wt%</th>\n",
              "      <th>Benzene Column C660 Operation_Bottoms Production Rate and Composition_Toluene_wt%</th>\n",
              "      <th>Benzene Column C660 Operation_Bottoms Production Rate and Composition_n-Octane_wt%</th>\n",
              "      <th>Benzene Column C660 Operation_Bottoms Production Rate and Composition_n-Propylcyclopentane_wt%</th>\n",
              "      <th>Benzene Column C660 Operation_Bottoms Production Rate and Composition_Ethylcyclohexane_wt%</th>\n",
              "      <th>Benzene Column C660 Operation_Bottoms Production Rate and Composition_Ethylbenzene_wt%</th>\n",
              "      <th>Benzene Column C660 Operation_Bottoms Production Rate and Composition_p-Xylene_wt%</th>\n",
              "      <th>Benzene Column C660 Operation_Bottoms Production Rate and Composition_m-Xylene_wt%</th>\n",
              "      <th>Benzene Column C660 Operation_Bottoms Production Rate and Composition_o-Xylene_wt%</th>\n",
              "      <th>Benzene Column C660 Operation_Bottoms Production Rate and Composition_n-Nonane_wt%</th>\n",
              "      <th>Benzene Column C660 Operation_Bottoms Production Rate and Composition_i-Propylbenzene_wt%</th>\n",
              "      <th>Benzene Column C660 Operation_Bottoms Production Rate and Composition_n-Propylcyclohexane_wt%</th>\n",
              "      <th>Benzene Column C660 Operation_Bottoms Production Rate and Composition_n-Propylbenzene_wt%</th>\n",
              "      <th>Benzene Column C660 Operation_Bottoms Production Rate and Composition_1-Methyl-3-ethylbenzene_wt%</th>\n",
              "      <th>Benzene Column C660 Operation_Bottoms Production Rate and Composition_1-Methyl-4-ethylbenzene_wt%</th>\n",
              "      <th>Benzene Column C660 Operation_Bottoms Production Rate and Composition_1,3,5-Trimethylbenzene_wt%</th>\n",
              "      <th>Benzene Column C660 Operation_Bottoms Production Rate and Composition_1-Methyl-2-ethylbenzene_wt%</th>\n",
              "      <th>Benzene Column C660 Operation_Bottoms Production Rate and Composition_1,2,4-Trimethylbenzene_wt%</th>\n",
              "      <th>Benzene Column C660 Operation_Bottoms Production Rate and Composition_tert-Butylcyclohexane_wt%</th>\n",
              "      <th>Benzene Column C660 Operation_Bottoms Production Rate and Composition_1,2,3-Trimethylbenzene_wt%</th>\n",
              "      <th>Benzene Column C660 Operation_Bottoms Production Rate and Composition_Indane_wt%</th>\n",
              "      <th>Benzene Column C660 Operation_Bottoms Production Rate and Composition_1-Methyl-4-n-propylbenzene_wt%</th>\n",
              "      <th>Benzene Column C660 Operation_Bottoms Production Rate and Composition_1,2-Diethylbenzene_wt%</th>\n",
              "      <th>Benzene Column C660 Operation_Bottoms Production Rate and Composition_5-Ethyl-m-xylene_wt%</th>\n",
              "      <th>Benzene Column C660 Operation_Bottoms Production Rate and Composition_1,4-Diethylbenzene_wt%</th>\n",
              "      <th>Benzene Column C660 Operation_Bottoms Production Rate and Composition_1,2,3,5-Tetramethylbenzene_wt%</th>\n",
              "      <th>Benzene Column C660 Operation_Bottoms Production Rate and Composition_n-Pentylbenzene_wt%</th>\n",
              "      <th>Benzene Column C660 Operation_Bottoms Production Rate and Composition_n-Hexylbenzene_wt%</th>\n",
              "      <th>Benzene Column C660 Operation_Bottoms Production Rate and Composition_Nitrogen_wt%</th>\n",
              "      <th>Benzene Column C660 Operation_Bottoms Production Rate and Composition_Oxygen_wt%</th>\n",
              "    </tr>\n",
              "  </thead>\n",
              "  <tbody>\n",
              "    <tr>\n",
              "      <th>066-002</th>\n",
              "      <td>0.0</td>\n",
              "      <td>0.303693</td>\n",
              "      <td>17.87238</td>\n",
              "      <td>27.262209</td>\n",
              "      <td>10.635158</td>\n",
              "      <td>6.989646</td>\n",
              "      <td>2.119241</td>\n",
              "      <td>34.729259</td>\n",
              "      <td>0.077149</td>\n",
              "      <td>0.010244</td>\n",
              "      <td>0.0</td>\n",
              "      <td>0.000014</td>\n",
              "      <td>9.468737e-07</td>\n",
              "      <td>2.328234e-09</td>\n",
              "      <td>9.990829e-15</td>\n",
              "      <td>3.058432e-15</td>\n",
              "      <td>2.754912e-17</td>\n",
              "      <td>1.717961e-18</td>\n",
              "      <td>8.654818e-19</td>\n",
              "      <td>4.343622e-22</td>\n",
              "      <td>7.623882e-20</td>\n",
              "      <td>0.0</td>\n",
              "      <td>2.353850e-22</td>\n",
              "      <td>3.755173e-10</td>\n",
              "      <td>2.394589e-33</td>\n",
              "      <td>1.027022e-34</td>\n",
              "      <td>3.039297e-08</td>\n",
              "      <td>0.0</td>\n",
              "      <td>2.445194e-08</td>\n",
              "      <td>1.224974e-27</td>\n",
              "      <td>5.248242e-10</td>\n",
              "      <td>1.718120e-11</td>\n",
              "      <td>0.000807</td>\n",
              "      <td>0.0002</td>\n",
              "      <td>6.235726e-11</td>\n",
              "      <td>0.0</td>\n",
              "      <td>7.644621e-13</td>\n",
              "      <td>3.552058e-14</td>\n",
              "      <td>2.845640e-17</td>\n",
              "      <td>0.0</td>\n",
              "      <td>...</td>\n",
              "      <td>8.425218e-09</td>\n",
              "      <td>7.741821e-07</td>\n",
              "      <td>0.000002</td>\n",
              "      <td>4.469948e-27</td>\n",
              "      <td>1.961974e-19</td>\n",
              "      <td>6.022633e-12</td>\n",
              "      <td>0.005006</td>\n",
              "      <td>8.172959e-07</td>\n",
              "      <td>0.000144</td>\n",
              "      <td>0.0</td>\n",
              "      <td>0.008949</td>\n",
              "      <td>94.5992</td>\n",
              "      <td>0.01363</td>\n",
              "      <td>0.011622</td>\n",
              "      <td>0.009561</td>\n",
              "      <td>2.389755</td>\n",
              "      <td>1.09591</td>\n",
              "      <td>1.686493</td>\n",
              "      <td>0.100401</td>\n",
              "      <td>0.020921</td>\n",
              "      <td>1.818533e-08</td>\n",
              "      <td>0.046313</td>\n",
              "      <td>3.190096e-09</td>\n",
              "      <td>9.068554e-07</td>\n",
              "      <td>3.378950e-07</td>\n",
              "      <td>2.724240e-07</td>\n",
              "      <td>1.492931e-07</td>\n",
              "      <td>1.676399e-07</td>\n",
              "      <td>0.003749</td>\n",
              "      <td>3.674099e-09</td>\n",
              "      <td>1.587249e-10</td>\n",
              "      <td>0.00665</td>\n",
              "      <td>0.001693</td>\n",
              "      <td>5.702367e-10</td>\n",
              "      <td>0.0</td>\n",
              "      <td>6.165626e-12</td>\n",
              "      <td>2.948501e-13</td>\n",
              "      <td>2.877935e-16</td>\n",
              "      <td>0.0</td>\n",
              "      <td>0.0</td>\n",
              "    </tr>\n",
              "  </tbody>\n",
              "</table>\n",
              "<p>1 rows × 164 columns</p>\n",
              "</div>"
            ],
            "text/plain": [
              "         Benzene Column C660 Operation_Vent Gas Production Rate and Composition_Hydrogen_wt%  ...  Benzene Column C660 Operation_Bottoms Production Rate and Composition_Oxygen_wt%\n",
              "066-002                                                0.0                                    ...                                                0.0                               \n",
              "\n",
              "[1 rows x 164 columns]"
            ]
          },
          "metadata": {
            "tags": []
          },
          "execution_count": 126
        }
      ]
    },
    {
      "cell_type": "code",
      "metadata": {
        "colab": {
          "base_uri": "https://localhost:8080/",
          "height": 265
        },
        "id": "cFpc5B9OnfoN",
        "outputId": "2766dbe9-7619-417c-dc35-a9c11b05da15"
      },
      "source": [
        "c660_wt_gt = predict.c660_df.loc[c660_wt.index,c660_wt.columns]\n",
        "c660_wt_gt.head()"
      ],
      "execution_count": 127,
      "outputs": [
        {
          "output_type": "execute_result",
          "data": {
            "text/html": [
              "<div>\n",
              "<style scoped>\n",
              "    .dataframe tbody tr th:only-of-type {\n",
              "        vertical-align: middle;\n",
              "    }\n",
              "\n",
              "    .dataframe tbody tr th {\n",
              "        vertical-align: top;\n",
              "    }\n",
              "\n",
              "    .dataframe thead th {\n",
              "        text-align: right;\n",
              "    }\n",
              "</style>\n",
              "<table border=\"1\" class=\"dataframe\">\n",
              "  <thead>\n",
              "    <tr style=\"text-align: right;\">\n",
              "      <th></th>\n",
              "      <th>Benzene Column C660 Operation_Vent Gas Production Rate and Composition_Hydrogen_wt%</th>\n",
              "      <th>Benzene Column C660 Operation_Vent Gas Production Rate and Composition_Methane_wt%</th>\n",
              "      <th>Benzene Column C660 Operation_Vent Gas Production Rate and Composition_Ethane_wt%</th>\n",
              "      <th>Benzene Column C660 Operation_Vent Gas Production Rate and Composition_Propane_wt%</th>\n",
              "      <th>Benzene Column C660 Operation_Vent Gas Production Rate and Composition_n-Butane_wt%</th>\n",
              "      <th>Benzene Column C660 Operation_Vent Gas Production Rate and Composition_n-Pentane_wt%</th>\n",
              "      <th>Benzene Column C660 Operation_Vent Gas Production Rate and Composition_n-Hexane_wt%</th>\n",
              "      <th>Benzene Column C660 Operation_Vent Gas Production Rate and Composition_Benzene_wt%</th>\n",
              "      <th>Benzene Column C660 Operation_Vent Gas Production Rate and Composition_Cyclohexane_wt%</th>\n",
              "      <th>Benzene Column C660 Operation_Vent Gas Production Rate and Composition_n-Heptane_wt%</th>\n",
              "      <th>Benzene Column C660 Operation_Vent Gas Production Rate and Composition_Water_wt%</th>\n",
              "      <th>Benzene Column C660 Operation_Vent Gas Production Rate and Composition_Methylcyclohexane_wt%</th>\n",
              "      <th>Benzene Column C660 Operation_Vent Gas Production Rate and Composition_Toluene_wt%</th>\n",
              "      <th>Benzene Column C660 Operation_Vent Gas Production Rate and Composition_n-Octane_wt%</th>\n",
              "      <th>Benzene Column C660 Operation_Vent Gas Production Rate and Composition_n-Propylcyclopentane_wt%</th>\n",
              "      <th>Benzene Column C660 Operation_Vent Gas Production Rate and Composition_Ethylcyclohexane_wt%</th>\n",
              "      <th>Benzene Column C660 Operation_Vent Gas Production Rate and Composition_Ethylbenzene_wt%</th>\n",
              "      <th>Benzene Column C660 Operation_Vent Gas Production Rate and Composition_p-Xylene_wt%</th>\n",
              "      <th>Benzene Column C660 Operation_Vent Gas Production Rate and Composition_m-Xylene_wt%</th>\n",
              "      <th>Benzene Column C660 Operation_Vent Gas Production Rate and Composition_o-Xylene_wt%</th>\n",
              "      <th>Benzene Column C660 Operation_Vent Gas Production Rate and Composition_n-Nonane_wt%</th>\n",
              "      <th>Benzene Column C660 Operation_Vent Gas Production Rate and Composition_i-Propylbenzene_wt%</th>\n",
              "      <th>Benzene Column C660 Operation_Vent Gas Production Rate and Composition_n-Propylcyclohexane_wt%</th>\n",
              "      <th>Benzene Column C660 Operation_Vent Gas Production Rate and Composition_n-Propylbenzene_wt%</th>\n",
              "      <th>Benzene Column C660 Operation_Vent Gas Production Rate and Composition_1-Methyl-3-ethylbenzene_wt%</th>\n",
              "      <th>Benzene Column C660 Operation_Vent Gas Production Rate and Composition_1-Methyl-4-ethylbenzene_wt%</th>\n",
              "      <th>Benzene Column C660 Operation_Vent Gas Production Rate and Composition_1,3,5-Trimethylbenzene_wt%</th>\n",
              "      <th>Benzene Column C660 Operation_Vent Gas Production Rate and Composition_1-Methyl-2-ethylbenzene_wt%</th>\n",
              "      <th>Benzene Column C660 Operation_Vent Gas Production Rate and Composition_1,2,4-Trimethylbenzene_wt%</th>\n",
              "      <th>Benzene Column C660 Operation_Vent Gas Production Rate and Composition_tert-Butylcyclohexane_wt%</th>\n",
              "      <th>Benzene Column C660 Operation_Vent Gas Production Rate and Composition_1,2,3-Trimethylbenzene_wt%</th>\n",
              "      <th>Benzene Column C660 Operation_Vent Gas Production Rate and Composition_Indane_wt%</th>\n",
              "      <th>Benzene Column C660 Operation_Vent Gas Production Rate and Composition_1-Methyl-4-n-propylbenzene_wt%</th>\n",
              "      <th>Benzene Column C660 Operation_Vent Gas Production Rate and Composition_1,2-Diethylbenzene_wt%</th>\n",
              "      <th>Benzene Column C660 Operation_Vent Gas Production Rate and Composition_5-Ethyl-m-xylene_wt%</th>\n",
              "      <th>Benzene Column C660 Operation_Vent Gas Production Rate and Composition_1,4-Diethylbenzene_wt%</th>\n",
              "      <th>Benzene Column C660 Operation_Vent Gas Production Rate and Composition_1,2,3,5-Tetramethylbenzene_wt%</th>\n",
              "      <th>Benzene Column C660 Operation_Vent Gas Production Rate and Composition_n-Pentylbenzene_wt%</th>\n",
              "      <th>Benzene Column C660 Operation_Vent Gas Production Rate and Composition_n-Hexylbenzene_wt%</th>\n",
              "      <th>Benzene Column C660 Operation_Vent Gas Production Rate and Composition_Nitrogen_wt%</th>\n",
              "      <th>...</th>\n",
              "      <th>Benzene Column C660 Operation_Bottoms Production Rate and Composition_Methane_wt%</th>\n",
              "      <th>Benzene Column C660 Operation_Bottoms Production Rate and Composition_Ethane_wt%</th>\n",
              "      <th>Benzene Column C660 Operation_Bottoms Production Rate and Composition_Propane_wt%</th>\n",
              "      <th>Benzene Column C660 Operation_Bottoms Production Rate and Composition_n-Butane_wt%</th>\n",
              "      <th>Benzene Column C660 Operation_Bottoms Production Rate and Composition_n-Pentane_wt%</th>\n",
              "      <th>Benzene Column C660 Operation_Bottoms Production Rate and Composition_n-Hexane_wt%</th>\n",
              "      <th>Benzene Column C660 Operation_Bottoms Production Rate and Composition_Benzene_wt%</th>\n",
              "      <th>Benzene Column C660 Operation_Bottoms Production Rate and Composition_Cyclohexane_wt%</th>\n",
              "      <th>Benzene Column C660 Operation_Bottoms Production Rate and Composition_n-Heptane_wt%</th>\n",
              "      <th>Benzene Column C660 Operation_Bottoms Production Rate and Composition_Water_wt%</th>\n",
              "      <th>Benzene Column C660 Operation_Bottoms Production Rate and Composition_Methylcyclohexane_wt%</th>\n",
              "      <th>Benzene Column C660 Operation_Bottoms Production Rate and Composition_Toluene_wt%</th>\n",
              "      <th>Benzene Column C660 Operation_Bottoms Production Rate and Composition_n-Octane_wt%</th>\n",
              "      <th>Benzene Column C660 Operation_Bottoms Production Rate and Composition_n-Propylcyclopentane_wt%</th>\n",
              "      <th>Benzene Column C660 Operation_Bottoms Production Rate and Composition_Ethylcyclohexane_wt%</th>\n",
              "      <th>Benzene Column C660 Operation_Bottoms Production Rate and Composition_Ethylbenzene_wt%</th>\n",
              "      <th>Benzene Column C660 Operation_Bottoms Production Rate and Composition_p-Xylene_wt%</th>\n",
              "      <th>Benzene Column C660 Operation_Bottoms Production Rate and Composition_m-Xylene_wt%</th>\n",
              "      <th>Benzene Column C660 Operation_Bottoms Production Rate and Composition_o-Xylene_wt%</th>\n",
              "      <th>Benzene Column C660 Operation_Bottoms Production Rate and Composition_n-Nonane_wt%</th>\n",
              "      <th>Benzene Column C660 Operation_Bottoms Production Rate and Composition_i-Propylbenzene_wt%</th>\n",
              "      <th>Benzene Column C660 Operation_Bottoms Production Rate and Composition_n-Propylcyclohexane_wt%</th>\n",
              "      <th>Benzene Column C660 Operation_Bottoms Production Rate and Composition_n-Propylbenzene_wt%</th>\n",
              "      <th>Benzene Column C660 Operation_Bottoms Production Rate and Composition_1-Methyl-3-ethylbenzene_wt%</th>\n",
              "      <th>Benzene Column C660 Operation_Bottoms Production Rate and Composition_1-Methyl-4-ethylbenzene_wt%</th>\n",
              "      <th>Benzene Column C660 Operation_Bottoms Production Rate and Composition_1,3,5-Trimethylbenzene_wt%</th>\n",
              "      <th>Benzene Column C660 Operation_Bottoms Production Rate and Composition_1-Methyl-2-ethylbenzene_wt%</th>\n",
              "      <th>Benzene Column C660 Operation_Bottoms Production Rate and Composition_1,2,4-Trimethylbenzene_wt%</th>\n",
              "      <th>Benzene Column C660 Operation_Bottoms Production Rate and Composition_tert-Butylcyclohexane_wt%</th>\n",
              "      <th>Benzene Column C660 Operation_Bottoms Production Rate and Composition_1,2,3-Trimethylbenzene_wt%</th>\n",
              "      <th>Benzene Column C660 Operation_Bottoms Production Rate and Composition_Indane_wt%</th>\n",
              "      <th>Benzene Column C660 Operation_Bottoms Production Rate and Composition_1-Methyl-4-n-propylbenzene_wt%</th>\n",
              "      <th>Benzene Column C660 Operation_Bottoms Production Rate and Composition_1,2-Diethylbenzene_wt%</th>\n",
              "      <th>Benzene Column C660 Operation_Bottoms Production Rate and Composition_5-Ethyl-m-xylene_wt%</th>\n",
              "      <th>Benzene Column C660 Operation_Bottoms Production Rate and Composition_1,4-Diethylbenzene_wt%</th>\n",
              "      <th>Benzene Column C660 Operation_Bottoms Production Rate and Composition_1,2,3,5-Tetramethylbenzene_wt%</th>\n",
              "      <th>Benzene Column C660 Operation_Bottoms Production Rate and Composition_n-Pentylbenzene_wt%</th>\n",
              "      <th>Benzene Column C660 Operation_Bottoms Production Rate and Composition_n-Hexylbenzene_wt%</th>\n",
              "      <th>Benzene Column C660 Operation_Bottoms Production Rate and Composition_Nitrogen_wt%</th>\n",
              "      <th>Benzene Column C660 Operation_Bottoms Production Rate and Composition_Oxygen_wt%</th>\n",
              "    </tr>\n",
              "  </thead>\n",
              "  <tbody>\n",
              "    <tr>\n",
              "      <th>066-002</th>\n",
              "      <td>0.0</td>\n",
              "      <td>0.312328</td>\n",
              "      <td>18.308626</td>\n",
              "      <td>27.247822</td>\n",
              "      <td>10.173326</td>\n",
              "      <td>6.641021</td>\n",
              "      <td>2.051214</td>\n",
              "      <td>35.17762</td>\n",
              "      <td>0.077582</td>\n",
              "      <td>0.010447</td>\n",
              "      <td>0.0</td>\n",
              "      <td>0.000014</td>\n",
              "      <td>9.722057e-07</td>\n",
              "      <td>2.389801e-09</td>\n",
              "      <td>1.026579e-14</td>\n",
              "      <td>3.131494e-15</td>\n",
              "      <td>2.818182e-17</td>\n",
              "      <td>1.763496e-18</td>\n",
              "      <td>8.912870e-19</td>\n",
              "      <td>4.460915e-22</td>\n",
              "      <td>7.775323e-20</td>\n",
              "      <td>0.0</td>\n",
              "      <td>2.403730e-22</td>\n",
              "      <td>0.0</td>\n",
              "      <td>0.0</td>\n",
              "      <td>0.0</td>\n",
              "      <td>0.0</td>\n",
              "      <td>0.0</td>\n",
              "      <td>0.0</td>\n",
              "      <td>1.255151e-27</td>\n",
              "      <td>0.0</td>\n",
              "      <td>0.0</td>\n",
              "      <td>0.0</td>\n",
              "      <td>0.0</td>\n",
              "      <td>0.0</td>\n",
              "      <td>0.0</td>\n",
              "      <td>0.0</td>\n",
              "      <td>0.0</td>\n",
              "      <td>0.0</td>\n",
              "      <td>0.0</td>\n",
              "      <td>...</td>\n",
              "      <td>0.0</td>\n",
              "      <td>0.0</td>\n",
              "      <td>0.0</td>\n",
              "      <td>4.393914e-27</td>\n",
              "      <td>1.978301e-19</td>\n",
              "      <td>6.101461e-12</td>\n",
              "      <td>0.005</td>\n",
              "      <td>8.134686e-07</td>\n",
              "      <td>0.000144</td>\n",
              "      <td>0.0</td>\n",
              "      <td>0.008913</td>\n",
              "      <td>94.594032</td>\n",
              "      <td>0.013632</td>\n",
              "      <td>0.011633</td>\n",
              "      <td>0.00957</td>\n",
              "      <td>2.392112</td>\n",
              "      <td>1.096961</td>\n",
              "      <td>1.688104</td>\n",
              "      <td>0.100494</td>\n",
              "      <td>0.020942</td>\n",
              "      <td>1.757864e-08</td>\n",
              "      <td>0.046359</td>\n",
              "      <td>3.067725e-09</td>\n",
              "      <td>8.714665e-07</td>\n",
              "      <td>3.260089e-07</td>\n",
              "      <td>2.622633e-07</td>\n",
              "      <td>1.439537e-07</td>\n",
              "      <td>1.613057e-07</td>\n",
              "      <td>0.003752</td>\n",
              "      <td>3.536940e-09</td>\n",
              "      <td>1.525220e-10</td>\n",
              "      <td>0.006657</td>\n",
              "      <td>0.001695</td>\n",
              "      <td>5.484708e-10</td>\n",
              "      <td>0.0</td>\n",
              "      <td>5.912329e-12</td>\n",
              "      <td>2.830424e-13</td>\n",
              "      <td>2.763019e-16</td>\n",
              "      <td>0.0</td>\n",
              "      <td>0.0</td>\n",
              "    </tr>\n",
              "  </tbody>\n",
              "</table>\n",
              "<p>1 rows × 164 columns</p>\n",
              "</div>"
            ],
            "text/plain": [
              "         Benzene Column C660 Operation_Vent Gas Production Rate and Composition_Hydrogen_wt%  ...  Benzene Column C660 Operation_Bottoms Production Rate and Composition_Oxygen_wt%\n",
              "066-002                                                0.0                                    ...                                                0.0                               \n",
              "\n",
              "[1 rows x 164 columns]"
            ]
          },
          "metadata": {
            "tags": []
          },
          "execution_count": 127
        }
      ]
    },
    {
      "cell_type": "code",
      "metadata": {
        "colab": {
          "base_uri": "https://localhost:8080/",
          "height": 108
        },
        "id": "g9WO4sYSsrtD",
        "outputId": "059bd86d-9e64-4d3d-a315-52cd4326b51d"
      },
      "source": [
        "plt.imshow(c660_wt.head(41*4).values)\n",
        "plt.show()\n",
        "plt.imshow(c660_wt_gt.head(41*4).values)"
      ],
      "execution_count": 128,
      "outputs": [
        {
          "output_type": "display_data",
          "data": {
            "image/png": "[encoded data removed]",
            "text/plain": [
              "<Figure size 432x288 with 1 Axes>"
            ]
          },
          "metadata": {
            "tags": [],
            "needs_background": "light"
          }
        },
        {
          "output_type": "execute_result",
          "data": {
            "text/plain": [
              "<matplotlib.image.AxesImage at 0x7f6ff4f11668>"
            ]
          },
          "metadata": {
            "tags": []
          },
          "execution_count": 128
        },
        {
          "output_type": "display_data",
          "data": {
            "image/png": "[encoded data removed]",
            "text/plain": [
              "<Figure size 432x288 with 1 Axes>"
            ]
          },
          "metadata": {
            "tags": [],
            "needs_background": "light"
          }
        }
      ]
    },
    {
      "cell_type": "code",
      "metadata": {
        "colab": {
          "base_uri": "https://localhost:8080/",
          "height": 419
        },
        "id": "px3jQj-cqfUe",
        "outputId": "10889ab2-0318-47e6-966a-442afab0beff"
      },
      "source": [
        "predict.model_c660_sf.show_metrics(c660_wt,c660_wt_gt,e=2e-2)"
      ],
      "execution_count": 129,
      "outputs": [
        {
          "output_type": "execute_result",
          "data": {
            "text/html": [
              "<div>\n",
              "<style scoped>\n",
              "    .dataframe tbody tr th:only-of-type {\n",
              "        vertical-align: middle;\n",
              "    }\n",
              "\n",
              "    .dataframe tbody tr th {\n",
              "        vertical-align: top;\n",
              "    }\n",
              "\n",
              "    .dataframe thead th {\n",
              "        text-align: right;\n",
              "    }\n",
              "</style>\n",
              "<table border=\"1\" class=\"dataframe\">\n",
              "  <thead>\n",
              "    <tr style=\"text-align: right;\">\n",
              "      <th></th>\n",
              "      <th>R2</th>\n",
              "      <th>MSE</th>\n",
              "      <th>MAPE</th>\n",
              "    </tr>\n",
              "  </thead>\n",
              "  <tbody>\n",
              "    <tr>\n",
              "      <th>Benzene Column C660 Operation_Vent Gas Production Rate and Composition_Hydrogen_wt%</th>\n",
              "      <td>NaN</td>\n",
              "      <td>0</td>\n",
              "      <td>NaN</td>\n",
              "    </tr>\n",
              "    <tr>\n",
              "      <th>Benzene Column C660 Operation_Vent Gas Production Rate and Composition_Methane_wt%</th>\n",
              "      <td>NaN</td>\n",
              "      <td>7.4562e-05</td>\n",
              "      <td>2.84331</td>\n",
              "    </tr>\n",
              "    <tr>\n",
              "      <th>Benzene Column C660 Operation_Vent Gas Production Rate and Composition_Ethane_wt%</th>\n",
              "      <td>NaN</td>\n",
              "      <td>0.190311</td>\n",
              "      <td>2.4409</td>\n",
              "    </tr>\n",
              "    <tr>\n",
              "      <th>Benzene Column C660 Operation_Vent Gas Production Rate and Composition_Propane_wt%</th>\n",
              "      <td>NaN</td>\n",
              "      <td>0.000206986</td>\n",
              "      <td>0.0527727</td>\n",
              "    </tr>\n",
              "    <tr>\n",
              "      <th>Benzene Column C660 Operation_Vent Gas Production Rate and Composition_n-Butane_wt%</th>\n",
              "      <td>NaN</td>\n",
              "      <td>0.213289</td>\n",
              "      <td>4.34251</td>\n",
              "    </tr>\n",
              "    <tr>\n",
              "      <th>...</th>\n",
              "      <td>...</td>\n",
              "      <td>...</td>\n",
              "      <td>...</td>\n",
              "    </tr>\n",
              "    <tr>\n",
              "      <th>Benzene Column C660 Operation_Bottoms Production Rate and Composition_n-Pentylbenzene_wt%</th>\n",
              "      <td>NaN</td>\n",
              "      <td>1.39422e-28</td>\n",
              "      <td>NaN</td>\n",
              "    </tr>\n",
              "    <tr>\n",
              "      <th>Benzene Column C660 Operation_Bottoms Production Rate and Composition_n-Hexylbenzene_wt%</th>\n",
              "      <td>NaN</td>\n",
              "      <td>1.32057e-34</td>\n",
              "      <td>NaN</td>\n",
              "    </tr>\n",
              "    <tr>\n",
              "      <th>Benzene Column C660 Operation_Bottoms Production Rate and Composition_Nitrogen_wt%</th>\n",
              "      <td>NaN</td>\n",
              "      <td>0</td>\n",
              "      <td>NaN</td>\n",
              "    </tr>\n",
              "    <tr>\n",
              "      <th>Benzene Column C660 Operation_Bottoms Production Rate and Composition_Oxygen_wt%</th>\n",
              "      <td>NaN</td>\n",
              "      <td>0</td>\n",
              "      <td>NaN</td>\n",
              "    </tr>\n",
              "    <tr>\n",
              "      <th>AVG</th>\n",
              "      <td>NaN</td>\n",
              "      <td>0.00521711</td>\n",
              "      <td>1.7885</td>\n",
              "    </tr>\n",
              "  </tbody>\n",
              "</table>\n",
              "<p>165 rows × 3 columns</p>\n",
              "</div>"
            ],
            "text/plain": [
              "                                                     R2          MSE       MAPE\n",
              "Benzene Column C660 Operation_Vent Gas Producti...  NaN            0        NaN\n",
              "Benzene Column C660 Operation_Vent Gas Producti...  NaN   7.4562e-05    2.84331\n",
              "Benzene Column C660 Operation_Vent Gas Producti...  NaN     0.190311     2.4409\n",
              "Benzene Column C660 Operation_Vent Gas Producti...  NaN  0.000206986  0.0527727\n",
              "Benzene Column C660 Operation_Vent Gas Producti...  NaN     0.213289    4.34251\n",
              "...                                                 ...          ...        ...\n",
              "Benzene Column C660 Operation_Bottoms Productio...  NaN  1.39422e-28        NaN\n",
              "Benzene Column C660 Operation_Bottoms Productio...  NaN  1.32057e-34        NaN\n",
              "Benzene Column C660 Operation_Bottoms Productio...  NaN            0        NaN\n",
              "Benzene Column C660 Operation_Bottoms Productio...  NaN            0        NaN\n",
              "AVG                                                 NaN   0.00521711     1.7885\n",
              "\n",
              "[165 rows x 3 columns]"
            ]
          },
          "metadata": {
            "tags": []
          },
          "execution_count": 129
        }
      ]
    },
    {
      "cell_type": "markdown",
      "metadata": {
        "id": "dgjYBa_WoedJ"
      },
      "source": [
        "# check mass blance c660_wt"
      ]
    },
    {
      "cell_type": "code",
      "metadata": {
        "id": "nYQIpWcAoW1w",
        "colab": {
          "base_uri": "https://localhost:8080/"
        },
        "outputId": "bb588094-c8af-42da-abec-67eedc9c37ea"
      },
      "source": [
        "for i in range(4):\n",
        "  assert np.allclose(c660_wt.iloc[:,41*i:41*(i+1)].sum(axis=1),100)\n",
        "print('pass')"
      ],
      "execution_count": 130,
      "outputs": [
        {
          "output_type": "stream",
          "text": [
            "pass\n"
          ],
          "name": "stdout"
        }
      ]
    },
    {
      "cell_type": "code",
      "metadata": {
        "id": "gJ0tUX-sxMwy",
        "colab": {
          "base_uri": "https://localhost:8080/"
        },
        "outputId": "55c171c4-a3d7-4a8b-8899-1d882b606d82"
      },
      "source": [
        "input_mfr = predict.c660_mb.iloc[:,0].values.reshape(-1,1)\r\n",
        "w1_mfr = predict.c660_mb.iloc[:,1].values.reshape(-1,1)\r\n",
        "w2_mfr = predict.c660_mb.iloc[:,2].values.reshape(-1,1)\r\n",
        "w3_mfr = predict.c660_mb.iloc[:,3].values.reshape(-1,1)\r\n",
        "w4_mfr = predict.c660_mb.iloc[:,4].values.reshape(-1,1)\r\n",
        "入料量 = (c660_x.iloc[:,-41:]*input_mfr).sum(axis=1).values\r\n",
        "出料_w1 = (c660_wt.iloc[:,0:41]*w1_mfr).sum(axis=1).values\r\n",
        "出料_w2 = (c660_wt.iloc[:,41:41*2]*w2_mfr).sum(axis=1).values\r\n",
        "出料_w3 = (c660_wt.iloc[:,41*2:41*3]*w3_mfr).sum(axis=1).values\r\n",
        "出料_w4 = (c660_wt.iloc[:,41*3:41*4]*w4_mfr).sum(axis=1).values\r\n",
        "np.allclose(入料量,出料_w1+出料_w2+出料_w3+出料_w4)"
      ],
      "execution_count": 131,
      "outputs": [
        {
          "output_type": "execute_result",
          "data": {
            "text/plain": [
              "True"
            ]
          },
          "metadata": {
            "tags": []
          },
          "execution_count": 131
        }
      ]
    },
    {
      "cell_type": "markdown",
      "metadata": {
        "id": "Me2XdhMxqPa8"
      },
      "source": [
        "#C660 OP"
      ]
    },
    {
      "cell_type": "code",
      "metadata": {
        "colab": {
          "base_uri": "https://localhost:8080/",
          "height": 165
        },
        "id": "oasK7RQQh0JF",
        "outputId": "539f2aa8-7428-4fa3-b336-e8da1fc776c1"
      },
      "source": [
        "c660_op = predict.c660_op(c660_x)\n",
        "c660_op.head()"
      ],
      "execution_count": 132,
      "outputs": [
        {
          "output_type": "execute_result",
          "data": {
            "text/html": [
              "<div>\n",
              "<style scoped>\n",
              "    .dataframe tbody tr th:only-of-type {\n",
              "        vertical-align: middle;\n",
              "    }\n",
              "\n",
              "    .dataframe tbody tr th {\n",
              "        vertical-align: top;\n",
              "    }\n",
              "\n",
              "    .dataframe thead th {\n",
              "        text-align: right;\n",
              "    }\n",
              "</style>\n",
              "<table border=\"1\" class=\"dataframe\">\n",
              "  <thead>\n",
              "    <tr style=\"text-align: right;\">\n",
              "      <th></th>\n",
              "      <th>Density_Feed Properties</th>\n",
              "      <th>Density_Vent Gas Production Rate and Composition</th>\n",
              "      <th>Density_Distillate (Benzene Drag) Production Rate and Composition</th>\n",
              "      <th>Density_Sidedraw (Benzene )Production Rate and Composition</th>\n",
              "      <th>Density_Bottoms Production Rate and Composition</th>\n",
              "      <th>Benzene Column C660 Operation_Yield Summary_Reflux Rate_m3/hr</th>\n",
              "      <th>Benzene Column C660 Operation_Heat Duty_Condenser Heat Duty_Mkcal/hr</th>\n",
              "      <th>Benzene Column C660 Operation_Heat Duty_Reboiler Heat Duty_Mkcal/hr</th>\n",
              "      <th>Benzene Column C660 Operation_Column Temp Profile_C660 Tray 6 (SD &amp; Control)_oC</th>\n",
              "      <th>Benzene Column C660 Operation_Column Temp Profile_C660 Tray 23 (Control)_oC</th>\n",
              "    </tr>\n",
              "  </thead>\n",
              "  <tbody>\n",
              "    <tr>\n",
              "      <th>066-002</th>\n",
              "      <td>0.875501</td>\n",
              "      <td>0.565773</td>\n",
              "      <td>0.856407</td>\n",
              "      <td>0.883693</td>\n",
              "      <td>0.870739</td>\n",
              "      <td>158.512253</td>\n",
              "      <td>15.074947</td>\n",
              "      <td>15.023908</td>\n",
              "      <td>86.814171</td>\n",
              "      <td>91.110748</td>\n",
              "    </tr>\n",
              "  </tbody>\n",
              "</table>\n",
              "</div>"
            ],
            "text/plain": [
              "         Density_Feed Properties  ...  Benzene Column C660 Operation_Column Temp Profile_C660 Tray 23 (Control)_oC\n",
              "066-002                 0.875501  ...                                          91.110748                          \n",
              "\n",
              "[1 rows x 10 columns]"
            ]
          },
          "metadata": {
            "tags": []
          },
          "execution_count": 132
        }
      ]
    },
    {
      "cell_type": "code",
      "metadata": {
        "colab": {
          "base_uri": "https://localhost:8080/",
          "height": 165
        },
        "id": "mio3vwyBoKIb",
        "outputId": "365ae8e7-d8f6-4f3f-c8fd-f3a2d77d08ba"
      },
      "source": [
        "c660_op_gt = predict.c660_df.loc[c660_op.index,c660_op.columns]\n",
        "c660_op_gt.head()"
      ],
      "execution_count": 133,
      "outputs": [
        {
          "output_type": "execute_result",
          "data": {
            "text/html": [
              "<div>\n",
              "<style scoped>\n",
              "    .dataframe tbody tr th:only-of-type {\n",
              "        vertical-align: middle;\n",
              "    }\n",
              "\n",
              "    .dataframe tbody tr th {\n",
              "        vertical-align: top;\n",
              "    }\n",
              "\n",
              "    .dataframe thead th {\n",
              "        text-align: right;\n",
              "    }\n",
              "</style>\n",
              "<table border=\"1\" class=\"dataframe\">\n",
              "  <thead>\n",
              "    <tr style=\"text-align: right;\">\n",
              "      <th></th>\n",
              "      <th>Density_Feed Properties</th>\n",
              "      <th>Density_Vent Gas Production Rate and Composition</th>\n",
              "      <th>Density_Distillate (Benzene Drag) Production Rate and Composition</th>\n",
              "      <th>Density_Sidedraw (Benzene )Production Rate and Composition</th>\n",
              "      <th>Density_Bottoms Production Rate and Composition</th>\n",
              "      <th>Benzene Column C660 Operation_Yield Summary_Reflux Rate_m3/hr</th>\n",
              "      <th>Benzene Column C660 Operation_Heat Duty_Condenser Heat Duty_Mkcal/hr</th>\n",
              "      <th>Benzene Column C660 Operation_Heat Duty_Reboiler Heat Duty_Mkcal/hr</th>\n",
              "      <th>Benzene Column C660 Operation_Column Temp Profile_C660 Tray 6 (SD &amp; Control)_oC</th>\n",
              "      <th>Benzene Column C660 Operation_Column Temp Profile_C660 Tray 23 (Control)_oC</th>\n",
              "    </tr>\n",
              "  </thead>\n",
              "  <tbody>\n",
              "    <tr>\n",
              "      <th>066-002</th>\n",
              "      <td>0.875506</td>\n",
              "      <td>0.564492</td>\n",
              "      <td>0.857027</td>\n",
              "      <td>0.883691</td>\n",
              "      <td>0.870734</td>\n",
              "      <td>158.476028</td>\n",
              "      <td>15.078778</td>\n",
              "      <td>15.01852</td>\n",
              "      <td>86.812836</td>\n",
              "      <td>91.091125</td>\n",
              "    </tr>\n",
              "  </tbody>\n",
              "</table>\n",
              "</div>"
            ],
            "text/plain": [
              "         Density_Feed Properties  ...  Benzene Column C660 Operation_Column Temp Profile_C660 Tray 23 (Control)_oC\n",
              "066-002                 0.875506  ...                                          91.091125                          \n",
              "\n",
              "[1 rows x 10 columns]"
            ]
          },
          "metadata": {
            "tags": []
          },
          "execution_count": 133
        }
      ]
    },
    {
      "cell_type": "code",
      "metadata": {
        "colab": {
          "base_uri": "https://localhost:8080/",
          "height": 170
        },
        "id": "9gHFk5Lus3sq",
        "outputId": "dd83b79b-ae7e-4f83-a73e-31138a60c8af"
      },
      "source": [
        "plt.imshow(c660_op.head(9).values)\n",
        "plt.show()\n",
        "plt.imshow(c660_op_gt.head(9).values)"
      ],
      "execution_count": 134,
      "outputs": [
        {
          "output_type": "display_data",
          "data": {
            "image/png": "[encoded data removed]",
            "text/plain": [
              "<Figure size 432x288 with 1 Axes>"
            ]
          },
          "metadata": {
            "tags": [],
            "needs_background": "light"
          }
        },
        {
          "output_type": "execute_result",
          "data": {
            "text/plain": [
              "<matplotlib.image.AxesImage at 0x7f6fe83fce10>"
            ]
          },
          "metadata": {
            "tags": []
          },
          "execution_count": 134
        },
        {
          "output_type": "display_data",
          "data": {
            "image/png": "[encoded data removed]",
            "text/plain": [
              "<Figure size 432x288 with 1 Axes>"
            ]
          },
          "metadata": {
            "tags": [],
            "needs_background": "light"
          }
        }
      ]
    },
    {
      "cell_type": "code",
      "metadata": {
        "colab": {
          "base_uri": "https://localhost:8080/",
          "height": 390
        },
        "id": "5DlMMMTwqU-t",
        "outputId": "145b3bbc-f8f6-4bdd-f82e-33ffb68761cc"
      },
      "source": [
        "predict.model_c660_op.show_metrics(c660_op,c660_op_gt,e=2e-2)"
      ],
      "execution_count": 135,
      "outputs": [
        {
          "output_type": "execute_result",
          "data": {
            "text/html": [
              "<div>\n",
              "<style scoped>\n",
              "    .dataframe tbody tr th:only-of-type {\n",
              "        vertical-align: middle;\n",
              "    }\n",
              "\n",
              "    .dataframe tbody tr th {\n",
              "        vertical-align: top;\n",
              "    }\n",
              "\n",
              "    .dataframe thead th {\n",
              "        text-align: right;\n",
              "    }\n",
              "</style>\n",
              "<table border=\"1\" class=\"dataframe\">\n",
              "  <thead>\n",
              "    <tr style=\"text-align: right;\">\n",
              "      <th></th>\n",
              "      <th>R2</th>\n",
              "      <th>MSE</th>\n",
              "      <th>MAPE</th>\n",
              "    </tr>\n",
              "  </thead>\n",
              "  <tbody>\n",
              "    <tr>\n",
              "      <th>Density_Feed Properties</th>\n",
              "      <td>NaN</td>\n",
              "      <td>3.49176e-11</td>\n",
              "      <td>0.000674941</td>\n",
              "    </tr>\n",
              "    <tr>\n",
              "      <th>Density_Vent Gas Production Rate and Composition</th>\n",
              "      <td>NaN</td>\n",
              "      <td>1.6404e-06</td>\n",
              "      <td>0.226377</td>\n",
              "    </tr>\n",
              "    <tr>\n",
              "      <th>Density_Distillate (Benzene Drag) Production Rate and Composition</th>\n",
              "      <td>NaN</td>\n",
              "      <td>3.8443e-07</td>\n",
              "      <td>0.0723982</td>\n",
              "    </tr>\n",
              "    <tr>\n",
              "      <th>Density_Sidedraw (Benzene )Production Rate and Composition</th>\n",
              "      <td>NaN</td>\n",
              "      <td>3.34078e-12</td>\n",
              "      <td>0.000206834</td>\n",
              "    </tr>\n",
              "    <tr>\n",
              "      <th>Density_Bottoms Production Rate and Composition</th>\n",
              "      <td>NaN</td>\n",
              "      <td>2.13238e-11</td>\n",
              "      <td>0.000530328</td>\n",
              "    </tr>\n",
              "    <tr>\n",
              "      <th>Benzene Column C660 Operation_Yield Summary_Reflux Rate_m3/hr</th>\n",
              "      <td>NaN</td>\n",
              "      <td>0.00131221</td>\n",
              "      <td>0.0228527</td>\n",
              "    </tr>\n",
              "    <tr>\n",
              "      <th>Benzene Column C660 Operation_Heat Duty_Condenser Heat Duty_Mkcal/hr</th>\n",
              "      <td>NaN</td>\n",
              "      <td>1.46704e-05</td>\n",
              "      <td>0.0254077</td>\n",
              "    </tr>\n",
              "    <tr>\n",
              "      <th>Benzene Column C660 Operation_Heat Duty_Reboiler Heat Duty_Mkcal/hr</th>\n",
              "      <td>NaN</td>\n",
              "      <td>2.90231e-05</td>\n",
              "      <td>0.0358583</td>\n",
              "    </tr>\n",
              "    <tr>\n",
              "      <th>Benzene Column C660 Operation_Column Temp Profile_C660 Tray 6 (SD &amp; Control)_oC</th>\n",
              "      <td>NaN</td>\n",
              "      <td>1.78262e-06</td>\n",
              "      <td>0.00153794</td>\n",
              "    </tr>\n",
              "    <tr>\n",
              "      <th>Benzene Column C660 Operation_Column Temp Profile_C660 Tray 23 (Control)_oC</th>\n",
              "      <td>NaN</td>\n",
              "      <td>0.000385054</td>\n",
              "      <td>0.0215373</td>\n",
              "    </tr>\n",
              "    <tr>\n",
              "      <th>AVG</th>\n",
              "      <td>NaN</td>\n",
              "      <td>0.000174476</td>\n",
              "      <td>0.0407381</td>\n",
              "    </tr>\n",
              "  </tbody>\n",
              "</table>\n",
              "</div>"
            ],
            "text/plain": [
              "                                                     R2  ...         MAPE\n",
              "Density_Feed Properties                             NaN  ...  0.000674941\n",
              "Density_Vent Gas Production Rate and Composition    NaN  ...     0.226377\n",
              "Density_Distillate (Benzene Drag) Production Ra...  NaN  ...    0.0723982\n",
              "Density_Sidedraw (Benzene )Production Rate and ...  NaN  ...  0.000206834\n",
              "Density_Bottoms Production Rate and Composition     NaN  ...  0.000530328\n",
              "Benzene Column C660 Operation_Yield Summary_Ref...  NaN  ...    0.0228527\n",
              "Benzene Column C660 Operation_Heat Duty_Condens...  NaN  ...    0.0254077\n",
              "Benzene Column C660 Operation_Heat Duty_Reboile...  NaN  ...    0.0358583\n",
              "Benzene Column C660 Operation_Column Temp Profi...  NaN  ...   0.00153794\n",
              "Benzene Column C660 Operation_Column Temp Profi...  NaN  ...    0.0215373\n",
              "AVG                                                 NaN  ...    0.0407381\n",
              "\n",
              "[11 rows x 3 columns]"
            ]
          },
          "metadata": {
            "tags": []
          },
          "execution_count": 135
        }
      ]
    },
    {
      "cell_type": "markdown",
      "metadata": {
        "id": "PHtr_Btmp-6_"
      },
      "source": [
        "# C670 WT"
      ]
    },
    {
      "cell_type": "code",
      "metadata": {
        "colab": {
          "base_uri": "https://localhost:8080/",
          "height": 316
        },
        "id": "ojS8Eyh8h0JG",
        "outputId": "ddc757de-7dc4-45e6-c016-2910a27ea162"
      },
      "source": [
        "#C670 Input\n",
        "c620_w4,c660_w4 = c620_wt[predict.c620_col_names['bottoms_x']],c660_wt[predict.c660_col_names['bottoms_x']]\n",
        "c670_x = predict.load_c670(c620_w4,c660_w4)\n",
        "c670_x.head()"
      ],
      "execution_count": 136,
      "outputs": [
        {
          "output_type": "execute_result",
          "data": {
            "text/html": [
              "<div>\n",
              "<style scoped>\n",
              "    .dataframe tbody tr th:only-of-type {\n",
              "        vertical-align: middle;\n",
              "    }\n",
              "\n",
              "    .dataframe tbody tr th {\n",
              "        vertical-align: top;\n",
              "    }\n",
              "\n",
              "    .dataframe thead th {\n",
              "        text-align: right;\n",
              "    }\n",
              "</style>\n",
              "<table border=\"1\" class=\"dataframe\">\n",
              "  <thead>\n",
              "    <tr style=\"text-align: right;\">\n",
              "      <th></th>\n",
              "      <th>Toluene Column C670 Operation_Combined Feed to Toluene Column C670 : Detailed weight % Composition_Hydrogen_wt%</th>\n",
              "      <th>Toluene Column C670 Operation_Combined Feed to Toluene Column C670 : Detailed weight % Composition_Methane_wt%</th>\n",
              "      <th>Toluene Column C670 Operation_Combined Feed to Toluene Column C670 : Detailed weight % Composition_Ethane_wt%</th>\n",
              "      <th>Toluene Column C670 Operation_Combined Feed to Toluene Column C670 : Detailed weight % Composition_Propane_wt%</th>\n",
              "      <th>Toluene Column C670 Operation_Combined Feed to Toluene Column C670 : Detailed weight % Composition_n-Butane_wt%</th>\n",
              "      <th>Toluene Column C670 Operation_Combined Feed to Toluene Column C670 : Detailed weight % Composition_n-Pentane_wt%</th>\n",
              "      <th>Toluene Column C670 Operation_Combined Feed to Toluene Column C670 : Detailed weight % Composition_n-Hexane_wt%</th>\n",
              "      <th>Toluene Column C670 Operation_Combined Feed to Toluene Column C670 : Detailed weight % Composition_Benzene_wt%</th>\n",
              "      <th>Toluene Column C670 Operation_Combined Feed to Toluene Column C670 : Detailed weight % Composition_Cyclohexane_wt%</th>\n",
              "      <th>Toluene Column C670 Operation_Combined Feed to Toluene Column C670 : Detailed weight % Composition_n-Heptane_wt%</th>\n",
              "      <th>Toluene Column C670 Operation_Combined Feed to Toluene Column C670 : Detailed weight % Composition_Water_wt%</th>\n",
              "      <th>Toluene Column C670 Operation_Combined Feed to Toluene Column C670 : Detailed weight % Composition_Methylcyclohexane_wt%</th>\n",
              "      <th>Toluene Column C670 Operation_Combined Feed to Toluene Column C670 : Detailed weight % Composition_Toluene_wt%</th>\n",
              "      <th>Toluene Column C670 Operation_Combined Feed to Toluene Column C670 : Detailed weight % Composition_n-Octane_wt%</th>\n",
              "      <th>Toluene Column C670 Operation_Combined Feed to Toluene Column C670 : Detailed weight % Composition_n-Propylcyclopentane_wt%</th>\n",
              "      <th>Toluene Column C670 Operation_Combined Feed to Toluene Column C670 : Detailed weight % Composition_Ethylcyclohexane_wt%</th>\n",
              "      <th>Toluene Column C670 Operation_Combined Feed to Toluene Column C670 : Detailed weight % Composition_Ethylbenzene_wt%</th>\n",
              "      <th>Toluene Column C670 Operation_Combined Feed to Toluene Column C670 : Detailed weight % Composition_p-Xylene_wt%</th>\n",
              "      <th>Toluene Column C670 Operation_Combined Feed to Toluene Column C670 : Detailed weight % Composition_m-Xylene_wt%</th>\n",
              "      <th>Toluene Column C670 Operation_Combined Feed to Toluene Column C670 : Detailed weight % Composition_o-Xylene_wt%</th>\n",
              "      <th>Toluene Column C670 Operation_Combined Feed to Toluene Column C670 : Detailed weight % Composition_n-Nonane_wt%</th>\n",
              "      <th>Toluene Column C670 Operation_Combined Feed to Toluene Column C670 : Detailed weight % Composition_i-Propylbenzene_wt%</th>\n",
              "      <th>Toluene Column C670 Operation_Combined Feed to Toluene Column C670 : Detailed weight % Composition_n-Propylcyclohexane_wt%</th>\n",
              "      <th>Toluene Column C670 Operation_Combined Feed to Toluene Column C670 : Detailed weight % Composition_n-Propylbenzene_wt%</th>\n",
              "      <th>Toluene Column C670 Operation_Combined Feed to Toluene Column C670 : Detailed weight % Composition_1-Methyl-3-ethylbenzene_wt%</th>\n",
              "      <th>Toluene Column C670 Operation_Combined Feed to Toluene Column C670 : Detailed weight % Composition_1-Methyl-4-ethylbenzene_wt%</th>\n",
              "      <th>Toluene Column C670 Operation_Combined Feed to Toluene Column C670 : Detailed weight % Composition_1,3,5-Trimethylbenzene_wt%</th>\n",
              "      <th>Toluene Column C670 Operation_Combined Feed to Toluene Column C670 : Detailed weight % Composition_1-Methyl-2-ethylbenzene_wt%</th>\n",
              "      <th>Toluene Column C670 Operation_Combined Feed to Toluene Column C670 : Detailed weight % Composition_1,2,4-Trimethylbenzene_wt%</th>\n",
              "      <th>Toluene Column C670 Operation_Combined Feed to Toluene Column C670 : Detailed weight % Composition_tert-Butylcyclohexane_wt%</th>\n",
              "      <th>Toluene Column C670 Operation_Combined Feed to Toluene Column C670 : Detailed weight % Composition_1,2,3-Trimethylbenzene_wt%</th>\n",
              "      <th>Toluene Column C670 Operation_Combined Feed to Toluene Column C670 : Detailed weight % Composition_Indane_wt%</th>\n",
              "      <th>Toluene Column C670 Operation_Combined Feed to Toluene Column C670 : Detailed weight % Composition_1-Methyl-4-n-propylbenzene_wt%</th>\n",
              "      <th>Toluene Column C670 Operation_Combined Feed to Toluene Column C670 : Detailed weight % Composition_1,2-Diethylbenzene_wt%</th>\n",
              "      <th>Toluene Column C670 Operation_Combined Feed to Toluene Column C670 : Detailed weight % Composition_5-Ethyl-m-xylene_wt%</th>\n",
              "      <th>Toluene Column C670 Operation_Combined Feed to Toluene Column C670 : Detailed weight % Composition_1,4-Diethylbenzene_wt%</th>\n",
              "      <th>Toluene Column C670 Operation_Combined Feed to Toluene Column C670 : Detailed weight % Composition_1,2,3,5-Tetramethylbenzene_wt%</th>\n",
              "      <th>Toluene Column C670 Operation_Combined Feed to Toluene Column C670 : Detailed weight % Composition_n-Pentylbenzene_wt%</th>\n",
              "      <th>Toluene Column C670 Operation_Combined Feed to Toluene Column C670 : Detailed weight % Composition_n-Hexylbenzene_wt%</th>\n",
              "      <th>Toluene Column C670 Operation_Combined Feed to Toluene Column C670 : Detailed weight % Composition_Nitrogen_wt%</th>\n",
              "      <th>...</th>\n",
              "      <th>Toluene Column C670 Feed Blending Factors Calculation_Lower Feed Blending Factor @ Tray 54 for Individual Component to Toluene Column C670_Methane_Fraction</th>\n",
              "      <th>Toluene Column C670 Feed Blending Factors Calculation_Lower Feed Blending Factor @ Tray 54 for Individual Component to Toluene Column C670_Ethane_Fraction</th>\n",
              "      <th>Toluene Column C670 Feed Blending Factors Calculation_Lower Feed Blending Factor @ Tray 54 for Individual Component to Toluene Column C670_Propane_Fraction</th>\n",
              "      <th>Toluene Column C670 Feed Blending Factors Calculation_Lower Feed Blending Factor @ Tray 54 for Individual Component to Toluene Column C670_n-Butane_Fraction</th>\n",
              "      <th>Toluene Column C670 Feed Blending Factors Calculation_Lower Feed Blending Factor @ Tray 54 for Individual Component to Toluene Column C670_n-Pentane_Fraction</th>\n",
              "      <th>Toluene Column C670 Feed Blending Factors Calculation_Lower Feed Blending Factor @ Tray 54 for Individual Component to Toluene Column C670_n-Hexane_Fraction</th>\n",
              "      <th>Toluene Column C670 Feed Blending Factors Calculation_Lower Feed Blending Factor @ Tray 54 for Individual Component to Toluene Column C670_Benzene_Fraction</th>\n",
              "      <th>Toluene Column C670 Feed Blending Factors Calculation_Lower Feed Blending Factor @ Tray 54 for Individual Component to Toluene Column C670_Cyclohexane_Fraction</th>\n",
              "      <th>Toluene Column C670 Feed Blending Factors Calculation_Lower Feed Blending Factor @ Tray 54 for Individual Component to Toluene Column C670_n-Heptane_Fraction</th>\n",
              "      <th>Toluene Column C670 Feed Blending Factors Calculation_Lower Feed Blending Factor @ Tray 54 for Individual Component to Toluene Column C670_Water_Fraction</th>\n",
              "      <th>Toluene Column C670 Feed Blending Factors Calculation_Lower Feed Blending Factor @ Tray 54 for Individual Component to Toluene Column C670_Methylcyclohexane_Fraction</th>\n",
              "      <th>Toluene Column C670 Feed Blending Factors Calculation_Lower Feed Blending Factor @ Tray 54 for Individual Component to Toluene Column C670_Toluene_Fraction</th>\n",
              "      <th>Toluene Column C670 Feed Blending Factors Calculation_Lower Feed Blending Factor @ Tray 54 for Individual Component to Toluene Column C670_n-Octane_Fraction</th>\n",
              "      <th>Toluene Column C670 Feed Blending Factors Calculation_Lower Feed Blending Factor @ Tray 54 for Individual Component to Toluene Column C670_n-Propylcyclopentane_Fraction</th>\n",
              "      <th>Toluene Column C670 Feed Blending Factors Calculation_Lower Feed Blending Factor @ Tray 54 for Individual Component to Toluene Column C670_Ethylcyclohexane_Fraction</th>\n",
              "      <th>Toluene Column C670 Feed Blending Factors Calculation_Lower Feed Blending Factor @ Tray 54 for Individual Component to Toluene Column C670_Ethylbenzene_Fraction</th>\n",
              "      <th>Toluene Column C670 Feed Blending Factors Calculation_Lower Feed Blending Factor @ Tray 54 for Individual Component to Toluene Column C670_p-Xylene_Fraction</th>\n",
              "      <th>Toluene Column C670 Feed Blending Factors Calculation_Lower Feed Blending Factor @ Tray 54 for Individual Component to Toluene Column C670_m-Xylene_Fraction</th>\n",
              "      <th>Toluene Column C670 Feed Blending Factors Calculation_Lower Feed Blending Factor @ Tray 54 for Individual Component to Toluene Column C670_o-Xylene_Fraction</th>\n",
              "      <th>Toluene Column C670 Feed Blending Factors Calculation_Lower Feed Blending Factor @ Tray 54 for Individual Component to Toluene Column C670_n-Nonane_Fraction</th>\n",
              "      <th>Toluene Column C670 Feed Blending Factors Calculation_Lower Feed Blending Factor @ Tray 54 for Individual Component to Toluene Column C670_i-Propylbenzene_Fraction</th>\n",
              "      <th>Toluene Column C670 Feed Blending Factors Calculation_Lower Feed Blending Factor @ Tray 54 for Individual Component to Toluene Column C670_n-Propylcyclohexane_Fraction</th>\n",
              "      <th>Toluene Column C670 Feed Blending Factors Calculation_Lower Feed Blending Factor @ Tray 54 for Individual Component to Toluene Column C670_n-Propylbenzene_Fraction</th>\n",
              "      <th>Toluene Column C670 Feed Blending Factors Calculation_Lower Feed Blending Factor @ Tray 54 for Individual Component to Toluene Column C670_1-Methyl-3-ethylbenzene_Fraction</th>\n",
              "      <th>Toluene Column C670 Feed Blending Factors Calculation_Lower Feed Blending Factor @ Tray 54 for Individual Component to Toluene Column C670_1-Methyl-4-ethylbenzene_Fraction</th>\n",
              "      <th>Toluene Column C670 Feed Blending Factors Calculation_Lower Feed Blending Factor @ Tray 54 for Individual Component to Toluene Column C670_1,3,5-Trimethylbenzene_Fraction</th>\n",
              "      <th>Toluene Column C670 Feed Blending Factors Calculation_Lower Feed Blending Factor @ Tray 54 for Individual Component to Toluene Column C670_1-Methyl-2-ethylbenzene_Fraction</th>\n",
              "      <th>Toluene Column C670 Feed Blending Factors Calculation_Lower Feed Blending Factor @ Tray 54 for Individual Component to Toluene Column C670_1,2,4-Trimethylbenzene_Fraction</th>\n",
              "      <th>Toluene Column C670 Feed Blending Factors Calculation_Lower Feed Blending Factor @ Tray 54 for Individual Component to Toluene Column C670_tert-Butylcyclohexane_Fraction</th>\n",
              "      <th>Toluene Column C670 Feed Blending Factors Calculation_Lower Feed Blending Factor @ Tray 54 for Individual Component to Toluene Column C670_1,2,3-Trimethylbenzene_Fraction</th>\n",
              "      <th>Toluene Column C670 Feed Blending Factors Calculation_Lower Feed Blending Factor @ Tray 54 for Individual Component to Toluene Column C670_Indane_Fraction</th>\n",
              "      <th>Toluene Column C670 Feed Blending Factors Calculation_Lower Feed Blending Factor @ Tray 54 for Individual Component to Toluene Column C670_1-Methyl-4-n-propylbenzene_Fraction</th>\n",
              "      <th>Toluene Column C670 Feed Blending Factors Calculation_Lower Feed Blending Factor @ Tray 54 for Individual Component to Toluene Column C670_1,2-Diethylbenzene_Fraction</th>\n",
              "      <th>Toluene Column C670 Feed Blending Factors Calculation_Lower Feed Blending Factor @ Tray 54 for Individual Component to Toluene Column C670_5-Ethyl-m-xylene_Fraction</th>\n",
              "      <th>Toluene Column C670 Feed Blending Factors Calculation_Lower Feed Blending Factor @ Tray 54 for Individual Component to Toluene Column C670_1,4-Diethylbenzene_Fraction</th>\n",
              "      <th>Toluene Column C670 Feed Blending Factors Calculation_Lower Feed Blending Factor @ Tray 54 for Individual Component to Toluene Column C670_1,2,3,5-Tetramethylbenzene_Fraction</th>\n",
              "      <th>Toluene Column C670 Feed Blending Factors Calculation_Lower Feed Blending Factor @ Tray 54 for Individual Component to Toluene Column C670_n-Pentylbenzene_Fraction</th>\n",
              "      <th>Toluene Column C670 Feed Blending Factors Calculation_Lower Feed Blending Factor @ Tray 54 for Individual Component to Toluene Column C670_n-Hexylbenzene_Fraction</th>\n",
              "      <th>Toluene Column C670 Feed Blending Factors Calculation_Lower Feed Blending Factor @ Tray 54 for Individual Component to Toluene Column C670_Nitrogen_Fraction</th>\n",
              "      <th>Toluene Column C670 Feed Blending Factors Calculation_Lower Feed Blending Factor @ Tray 54 for Individual Component to Toluene Column C670_Oxygen_Fraction</th>\n",
              "    </tr>\n",
              "  </thead>\n",
              "  <tbody>\n",
              "    <tr>\n",
              "      <th>066-002</th>\n",
              "      <td>0.0</td>\n",
              "      <td>1.231573e-07</td>\n",
              "      <td>0.000003</td>\n",
              "      <td>0.000003</td>\n",
              "      <td>4.308752e-24</td>\n",
              "      <td>1.308696e-16</td>\n",
              "      <td>1.081352e-09</td>\n",
              "      <td>0.172238</td>\n",
              "      <td>0.000126</td>\n",
              "      <td>0.002642</td>\n",
              "      <td>0.0</td>\n",
              "      <td>0.009785</td>\n",
              "      <td>61.126598</td>\n",
              "      <td>0.010109</td>\n",
              "      <td>0.010712</td>\n",
              "      <td>0.010062</td>\n",
              "      <td>1.541136</td>\n",
              "      <td>6.477125</td>\n",
              "      <td>13.92358</td>\n",
              "      <td>5.514199</td>\n",
              "      <td>0.016832</td>\n",
              "      <td>0.004625</td>\n",
              "      <td>0.016561</td>\n",
              "      <td>0.005395</td>\n",
              "      <td>0.756116</td>\n",
              "      <td>0.396171</td>\n",
              "      <td>2.007061</td>\n",
              "      <td>0.22275</td>\n",
              "      <td>5.126329</td>\n",
              "      <td>0.001184</td>\n",
              "      <td>0.818548</td>\n",
              "      <td>0.026977</td>\n",
              "      <td>0.002871</td>\n",
              "      <td>0.018262</td>\n",
              "      <td>0.692914</td>\n",
              "      <td>0.0</td>\n",
              "      <td>0.796967</td>\n",
              "      <td>0.204252</td>\n",
              "      <td>0.087867</td>\n",
              "      <td>0.0</td>\n",
              "      <td>...</td>\n",
              "      <td>0.9</td>\n",
              "      <td>0.9</td>\n",
              "      <td>0.9</td>\n",
              "      <td>0.9</td>\n",
              "      <td>0.9</td>\n",
              "      <td>0.9</td>\n",
              "      <td>0.990851</td>\n",
              "      <td>0.997966</td>\n",
              "      <td>0.982863</td>\n",
              "      <td>0.9</td>\n",
              "      <td>0.712387</td>\n",
              "      <td>0.511329</td>\n",
              "      <td>0.57415</td>\n",
              "      <td>0.656972</td>\n",
              "      <td>0.699582</td>\n",
              "      <td>0.509841</td>\n",
              "      <td>0.946484</td>\n",
              "      <td>0.961688</td>\n",
              "      <td>0.994241</td>\n",
              "      <td>0.60706</td>\n",
              "      <td>0.999999</td>\n",
              "      <td>0.116546</td>\n",
              "      <td>1.0</td>\n",
              "      <td>1.0</td>\n",
              "      <td>1.0</td>\n",
              "      <td>1.0</td>\n",
              "      <td>1.0</td>\n",
              "      <td>1.0</td>\n",
              "      <td>0.0</td>\n",
              "      <td>1.0</td>\n",
              "      <td>1.0</td>\n",
              "      <td>0.268128</td>\n",
              "      <td>0.970677</td>\n",
              "      <td>1.0</td>\n",
              "      <td>1.0</td>\n",
              "      <td>1.0</td>\n",
              "      <td>1.0</td>\n",
              "      <td>1.0</td>\n",
              "      <td>0.0</td>\n",
              "      <td>0.0</td>\n",
              "    </tr>\n",
              "  </tbody>\n",
              "</table>\n",
              "<p>1 rows × 123 columns</p>\n",
              "</div>"
            ],
            "text/plain": [
              "         Toluene Column C670 Operation_Combined Feed to Toluene Column C670 : Detailed weight % Composition_Hydrogen_wt%  ...  Toluene Column C670 Feed Blending Factors Calculation_Lower Feed Blending Factor @ Tray 54 for Individual Component to Toluene Column C670_Oxygen_Fraction\n",
              "066-002                                                0.0                                                                ...                                                0.0                                                                                                         \n",
              "\n",
              "[1 rows x 123 columns]"
            ]
          },
          "metadata": {
            "tags": []
          },
          "execution_count": 136
        }
      ]
    },
    {
      "cell_type": "code",
      "metadata": {
        "scrolled": true,
        "colab": {
          "base_uri": "https://localhost:8080/",
          "height": 265
        },
        "id": "RFpQbN-Yh0JG",
        "outputId": "deedddf0-aeb4-4d74-a31e-ab0a8854402e"
      },
      "source": [
        "c670_wt = predict.c670_wt(c670_x)\n",
        "c670_wt = c670_wt.dropna(axis=0)\n",
        "c670_wt.head()"
      ],
      "execution_count": 137,
      "outputs": [
        {
          "output_type": "execute_result",
          "data": {
            "text/html": [
              "<div>\n",
              "<style scoped>\n",
              "    .dataframe tbody tr th:only-of-type {\n",
              "        vertical-align: middle;\n",
              "    }\n",
              "\n",
              "    .dataframe tbody tr th {\n",
              "        vertical-align: top;\n",
              "    }\n",
              "\n",
              "    .dataframe thead th {\n",
              "        text-align: right;\n",
              "    }\n",
              "</style>\n",
              "<table border=\"1\" class=\"dataframe\">\n",
              "  <thead>\n",
              "    <tr style=\"text-align: right;\">\n",
              "      <th></th>\n",
              "      <th>Toluene Column C670 Operation_Distillate Production Rate and Composition_Hydrogen_wt%</th>\n",
              "      <th>Toluene Column C670 Operation_Distillate Production Rate and Composition_Methane_wt%</th>\n",
              "      <th>Toluene Column C670 Operation_Distillate Production Rate and Composition_Ethane_wt%</th>\n",
              "      <th>Toluene Column C670 Operation_Distillate Production Rate and Composition_Propane_wt%</th>\n",
              "      <th>Toluene Column C670 Operation_Distillate Production Rate and Composition_n-Butane_wt%</th>\n",
              "      <th>Toluene Column C670 Operation_Distillate Production Rate and Composition_n-Pentane_wt%</th>\n",
              "      <th>Toluene Column C670 Operation_Distillate Production Rate and Composition_n-Hexane_wt%</th>\n",
              "      <th>Toluene Column C670 Operation_Distillate Production Rate and Composition_Benzene_wt%</th>\n",
              "      <th>Toluene Column C670 Operation_Distillate Production Rate and Composition_Cyclohexane_wt%</th>\n",
              "      <th>Toluene Column C670 Operation_Distillate Production Rate and Composition_n-Heptane_wt%</th>\n",
              "      <th>Toluene Column C670 Operation_Distillate Production Rate and Composition_Water_wt%</th>\n",
              "      <th>Toluene Column C670 Operation_Distillate Production Rate and Composition_Methylcyclohexane_wt%</th>\n",
              "      <th>Toluene Column C670 Operation_Distillate Production Rate and Composition_Toluene_wt%</th>\n",
              "      <th>Toluene Column C670 Operation_Distillate Production Rate and Composition_n-Octane_wt%</th>\n",
              "      <th>Toluene Column C670 Operation_Distillate Production Rate and Composition_n-Propylcyclopentane_wt%</th>\n",
              "      <th>Toluene Column C670 Operation_Distillate Production Rate and Composition_Ethylcyclohexane_wt%</th>\n",
              "      <th>Toluene Column C670 Operation_Distillate Production Rate and Composition_Ethylbenzene_wt%</th>\n",
              "      <th>Toluene Column C670 Operation_Distillate Production Rate and Composition_p-Xylene_wt%</th>\n",
              "      <th>Toluene Column C670 Operation_Distillate Production Rate and Composition_m-Xylene_wt%</th>\n",
              "      <th>Toluene Column C670 Operation_Distillate Production Rate and Composition_o-Xylene_wt%</th>\n",
              "      <th>Toluene Column C670 Operation_Distillate Production Rate and Composition_n-Nonane_wt%</th>\n",
              "      <th>Toluene Column C670 Operation_Distillate Production Rate and Composition_i-Propylbenzene_wt%</th>\n",
              "      <th>Toluene Column C670 Operation_Distillate Production Rate and Composition_n-Propylcyclohexane_wt%</th>\n",
              "      <th>Toluene Column C670 Operation_Distillate Production Rate and Composition_n-Propylbenzene_wt%</th>\n",
              "      <th>Toluene Column C670 Operation_Distillate Production Rate and Composition_1-Methyl-3-ethylbenzene_wt%</th>\n",
              "      <th>Toluene Column C670 Operation_Distillate Production Rate and Composition_1-Methyl-4-ethylbenzene_wt%</th>\n",
              "      <th>Toluene Column C670 Operation_Distillate Production Rate and Composition_1,3,5-Trimethylbenzene_wt%</th>\n",
              "      <th>Toluene Column C670 Operation_Distillate Production Rate and Composition_1-Methyl-2-ethylbenzene_wt%</th>\n",
              "      <th>Toluene Column C670 Operation_Distillate Production Rate and Composition_1,2,4-Trimethylbenzene_wt%</th>\n",
              "      <th>Toluene Column C670 Operation_Distillate Production Rate and Composition_tert-Butylcyclohexane_wt%</th>\n",
              "      <th>Toluene Column C670 Operation_Distillate Production Rate and Composition_1,2,3-Trimethylbenzene_wt%</th>\n",
              "      <th>Toluene Column C670 Operation_Distillate Production Rate and Composition_Indane_wt%</th>\n",
              "      <th>Toluene Column C670 Operation_Distillate Production Rate and Composition_1-Methyl-4-n-propylbenzene_wt%</th>\n",
              "      <th>Toluene Column C670 Operation_Distillate Production Rate and Composition_1,2-Diethylbenzene_wt%</th>\n",
              "      <th>Toluene Column C670 Operation_Distillate Production Rate and Composition_5-Ethyl-m-xylene_wt%</th>\n",
              "      <th>Toluene Column C670 Operation_Distillate Production Rate and Composition_1,4-Diethylbenzene_wt%</th>\n",
              "      <th>Toluene Column C670 Operation_Distillate Production Rate and Composition_1,2,3,5-Tetramethylbenzene_wt%</th>\n",
              "      <th>Toluene Column C670 Operation_Distillate Production Rate and Composition_n-Pentylbenzene_wt%</th>\n",
              "      <th>Toluene Column C670 Operation_Distillate Production Rate and Composition_n-Hexylbenzene_wt%</th>\n",
              "      <th>Toluene Column C670 Operation_Distillate Production Rate and Composition_Nitrogen_wt%</th>\n",
              "      <th>...</th>\n",
              "      <th>Toluene Column C670 Operation_Bottoms Production Rate and Composition_Methane_wt%</th>\n",
              "      <th>Toluene Column C670 Operation_Bottoms Production Rate and Composition_Ethane_wt%</th>\n",
              "      <th>Toluene Column C670 Operation_Bottoms Production Rate and Composition_Propane_wt%</th>\n",
              "      <th>Toluene Column C670 Operation_Bottoms Production Rate and Composition_n-Butane_wt%</th>\n",
              "      <th>Toluene Column C670 Operation_Bottoms Production Rate and Composition_n-Pentane_wt%</th>\n",
              "      <th>Toluene Column C670 Operation_Bottoms Production Rate and Composition_n-Hexane_wt%</th>\n",
              "      <th>Toluene Column C670 Operation_Bottoms Production Rate and Composition_Benzene_wt%</th>\n",
              "      <th>Toluene Column C670 Operation_Bottoms Production Rate and Composition_Cyclohexane_wt%</th>\n",
              "      <th>Toluene Column C670 Operation_Bottoms Production Rate and Composition_n-Heptane_wt%</th>\n",
              "      <th>Toluene Column C670 Operation_Bottoms Production Rate and Composition_Water_wt%</th>\n",
              "      <th>Toluene Column C670 Operation_Bottoms Production Rate and Composition_Methylcyclohexane_wt%</th>\n",
              "      <th>Toluene Column C670 Operation_Bottoms Production Rate and Composition_Toluene_wt%</th>\n",
              "      <th>Toluene Column C670 Operation_Bottoms Production Rate and Composition_n-Octane_wt%</th>\n",
              "      <th>Toluene Column C670 Operation_Bottoms Production Rate and Composition_n-Propylcyclopentane_wt%</th>\n",
              "      <th>Toluene Column C670 Operation_Bottoms Production Rate and Composition_Ethylcyclohexane_wt%</th>\n",
              "      <th>Toluene Column C670 Operation_Bottoms Production Rate and Composition_Ethylbenzene_wt%</th>\n",
              "      <th>Toluene Column C670 Operation_Bottoms Production Rate and Composition_p-Xylene_wt%</th>\n",
              "      <th>Toluene Column C670 Operation_Bottoms Production Rate and Composition_m-Xylene_wt%</th>\n",
              "      <th>Toluene Column C670 Operation_Bottoms Production Rate and Composition_o-Xylene_wt%</th>\n",
              "      <th>Toluene Column C670 Operation_Bottoms Production Rate and Composition_n-Nonane_wt%</th>\n",
              "      <th>Toluene Column C670 Operation_Bottoms Production Rate and Composition_i-Propylbenzene_wt%</th>\n",
              "      <th>Toluene Column C670 Operation_Bottoms Production Rate and Composition_n-Propylcyclohexane_wt%</th>\n",
              "      <th>Toluene Column C670 Operation_Bottoms Production Rate and Composition_n-Propylbenzene_wt%</th>\n",
              "      <th>Toluene Column C670 Operation_Bottoms Production Rate and Composition_1-Methyl-3-ethylbenzene_wt%</th>\n",
              "      <th>Toluene Column C670 Operation_Bottoms Production Rate and Composition_1-Methyl-4-ethylbenzene_wt%</th>\n",
              "      <th>Toluene Column C670 Operation_Bottoms Production Rate and Composition_1,3,5-Trimethylbenzene_wt%</th>\n",
              "      <th>Toluene Column C670 Operation_Bottoms Production Rate and Composition_1-Methyl-2-ethylbenzene_wt%</th>\n",
              "      <th>Toluene Column C670 Operation_Bottoms Production Rate and Composition_1,2,4-Trimethylbenzene_wt%</th>\n",
              "      <th>Toluene Column C670 Operation_Bottoms Production Rate and Composition_tert-Butylcyclohexane_wt%</th>\n",
              "      <th>Toluene Column C670 Operation_Bottoms Production Rate and Composition_1,2,3-Trimethylbenzene_wt%</th>\n",
              "      <th>Toluene Column C670 Operation_Bottoms Production Rate and Composition_Indane_wt%</th>\n",
              "      <th>Toluene Column C670 Operation_Bottoms Production Rate and Composition_1-Methyl-4-n-propylbenzene_wt%</th>\n",
              "      <th>Toluene Column C670 Operation_Bottoms Production Rate and Composition_1,2-Diethylbenzene_wt%</th>\n",
              "      <th>Toluene Column C670 Operation_Bottoms Production Rate and Composition_5-Ethyl-m-xylene_wt%</th>\n",
              "      <th>Toluene Column C670 Operation_Bottoms Production Rate and Composition_1,4-Diethylbenzene_wt%</th>\n",
              "      <th>Toluene Column C670 Operation_Bottoms Production Rate and Composition_1,2,3,5-Tetramethylbenzene_wt%</th>\n",
              "      <th>Toluene Column C670 Operation_Bottoms Production Rate and Composition_n-Pentylbenzene_wt%</th>\n",
              "      <th>Toluene Column C670 Operation_Bottoms Production Rate and Composition_n-Hexylbenzene_wt%</th>\n",
              "      <th>Toluene Column C670 Operation_Bottoms Production Rate and Composition_Nitrogen_wt%</th>\n",
              "      <th>Toluene Column C670 Operation_Bottoms Production Rate and Composition_Oxygen_wt%</th>\n",
              "    </tr>\n",
              "  </thead>\n",
              "  <tbody>\n",
              "    <tr>\n",
              "      <th>066-002</th>\n",
              "      <td>0.0</td>\n",
              "      <td>2.008169e-07</td>\n",
              "      <td>0.000004</td>\n",
              "      <td>0.000005</td>\n",
              "      <td>7.025886e-24</td>\n",
              "      <td>2.134019e-16</td>\n",
              "      <td>1.763258e-09</td>\n",
              "      <td>0.280875</td>\n",
              "      <td>0.000206</td>\n",
              "      <td>0.004309</td>\n",
              "      <td>0.0</td>\n",
              "      <td>0.015957</td>\n",
              "      <td>99.668558</td>\n",
              "      <td>0.016459</td>\n",
              "      <td>0.002946</td>\n",
              "      <td>0.000604</td>\n",
              "      <td>0.005587</td>\n",
              "      <td>0.002095</td>\n",
              "      <td>0.002251</td>\n",
              "      <td>0.000005</td>\n",
              "      <td>0.000002</td>\n",
              "      <td>2.682756e-12</td>\n",
              "      <td>1.076503e-10</td>\n",
              "      <td>5.819939e-15</td>\n",
              "      <td>6.630270e-12</td>\n",
              "      <td>1.022567e-12</td>\n",
              "      <td>2.080274e-14</td>\n",
              "      <td>2.520300e-13</td>\n",
              "      <td>4.291868e-16</td>\n",
              "      <td>3.769902e-16</td>\n",
              "      <td>1.068129e-19</td>\n",
              "      <td>5.554192e-21</td>\n",
              "      <td>1.867432e-20</td>\n",
              "      <td>3.118544e-21</td>\n",
              "      <td>1.295104e-22</td>\n",
              "      <td>0.0</td>\n",
              "      <td>0.0001</td>\n",
              "      <td>0.000024</td>\n",
              "      <td>0.000012</td>\n",
              "      <td>0.0</td>\n",
              "      <td>...</td>\n",
              "      <td>3.117987e-11</td>\n",
              "      <td>6.290595e-10</td>\n",
              "      <td>5.482086e-10</td>\n",
              "      <td>8.541436e-28</td>\n",
              "      <td>1.834732e-20</td>\n",
              "      <td>2.205844e-13</td>\n",
              "      <td>9.737519e-10</td>\n",
              "      <td>2.364847e-12</td>\n",
              "      <td>5.362525e-10</td>\n",
              "      <td>0.0</td>\n",
              "      <td>2.564641e-07</td>\n",
              "      <td>0.01998</td>\n",
              "      <td>0.000042</td>\n",
              "      <td>0.023024</td>\n",
              "      <td>0.025058</td>\n",
              "      <td>3.975682</td>\n",
              "      <td>16.743007</td>\n",
              "      <td>35.995247</td>\n",
              "      <td>14.256715</td>\n",
              "      <td>0.043516</td>\n",
              "      <td>0.011957</td>\n",
              "      <td>0.042819</td>\n",
              "      <td>0.013949</td>\n",
              "      <td>1.954906</td>\n",
              "      <td>1.024283</td>\n",
              "      <td>5.189169</td>\n",
              "      <td>0.57591</td>\n",
              "      <td>13.253903</td>\n",
              "      <td>0.003061</td>\n",
              "      <td>2.11632</td>\n",
              "      <td>0.069747</td>\n",
              "      <td>0.007423</td>\n",
              "      <td>0.047216</td>\n",
              "      <td>1.791499</td>\n",
              "      <td>0.0</td>\n",
              "      <td>2.060364</td>\n",
              "      <td>0.528046</td>\n",
              "      <td>0.227157</td>\n",
              "      <td>0.0</td>\n",
              "      <td>0.0</td>\n",
              "    </tr>\n",
              "  </tbody>\n",
              "</table>\n",
              "<p>1 rows × 82 columns</p>\n",
              "</div>"
            ],
            "text/plain": [
              "         Toluene Column C670 Operation_Distillate Production Rate and Composition_Hydrogen_wt%  ...  Toluene Column C670 Operation_Bottoms Production Rate and Composition_Oxygen_wt%\n",
              "066-002                                                0.0                                      ...                                                0.0                               \n",
              "\n",
              "[1 rows x 82 columns]"
            ]
          },
          "metadata": {
            "tags": []
          },
          "execution_count": 137
        }
      ]
    },
    {
      "cell_type": "code",
      "metadata": {
        "colab": {
          "base_uri": "https://localhost:8080/",
          "height": 265
        },
        "id": "quz2pc0MopRY",
        "outputId": "55fc9a02-ee75-4d2d-e27e-189ea07b3919"
      },
      "source": [
        "c670_wt_gt = predict.c670_df.loc[c670_wt.index,c670_wt.columns]\n",
        "c670_wt_gt.head()"
      ],
      "execution_count": 138,
      "outputs": [
        {
          "output_type": "execute_result",
          "data": {
            "text/html": [
              "<div>\n",
              "<style scoped>\n",
              "    .dataframe tbody tr th:only-of-type {\n",
              "        vertical-align: middle;\n",
              "    }\n",
              "\n",
              "    .dataframe tbody tr th {\n",
              "        vertical-align: top;\n",
              "    }\n",
              "\n",
              "    .dataframe thead th {\n",
              "        text-align: right;\n",
              "    }\n",
              "</style>\n",
              "<table border=\"1\" class=\"dataframe\">\n",
              "  <thead>\n",
              "    <tr style=\"text-align: right;\">\n",
              "      <th></th>\n",
              "      <th>Toluene Column C670 Operation_Distillate Production Rate and Composition_Hydrogen_wt%</th>\n",
              "      <th>Toluene Column C670 Operation_Distillate Production Rate and Composition_Methane_wt%</th>\n",
              "      <th>Toluene Column C670 Operation_Distillate Production Rate and Composition_Ethane_wt%</th>\n",
              "      <th>Toluene Column C670 Operation_Distillate Production Rate and Composition_Propane_wt%</th>\n",
              "      <th>Toluene Column C670 Operation_Distillate Production Rate and Composition_n-Butane_wt%</th>\n",
              "      <th>Toluene Column C670 Operation_Distillate Production Rate and Composition_n-Pentane_wt%</th>\n",
              "      <th>Toluene Column C670 Operation_Distillate Production Rate and Composition_n-Hexane_wt%</th>\n",
              "      <th>Toluene Column C670 Operation_Distillate Production Rate and Composition_Benzene_wt%</th>\n",
              "      <th>Toluene Column C670 Operation_Distillate Production Rate and Composition_Cyclohexane_wt%</th>\n",
              "      <th>Toluene Column C670 Operation_Distillate Production Rate and Composition_n-Heptane_wt%</th>\n",
              "      <th>Toluene Column C670 Operation_Distillate Production Rate and Composition_Water_wt%</th>\n",
              "      <th>Toluene Column C670 Operation_Distillate Production Rate and Composition_Methylcyclohexane_wt%</th>\n",
              "      <th>Toluene Column C670 Operation_Distillate Production Rate and Composition_Toluene_wt%</th>\n",
              "      <th>Toluene Column C670 Operation_Distillate Production Rate and Composition_n-Octane_wt%</th>\n",
              "      <th>Toluene Column C670 Operation_Distillate Production Rate and Composition_n-Propylcyclopentane_wt%</th>\n",
              "      <th>Toluene Column C670 Operation_Distillate Production Rate and Composition_Ethylcyclohexane_wt%</th>\n",
              "      <th>Toluene Column C670 Operation_Distillate Production Rate and Composition_Ethylbenzene_wt%</th>\n",
              "      <th>Toluene Column C670 Operation_Distillate Production Rate and Composition_p-Xylene_wt%</th>\n",
              "      <th>Toluene Column C670 Operation_Distillate Production Rate and Composition_m-Xylene_wt%</th>\n",
              "      <th>Toluene Column C670 Operation_Distillate Production Rate and Composition_o-Xylene_wt%</th>\n",
              "      <th>Toluene Column C670 Operation_Distillate Production Rate and Composition_n-Nonane_wt%</th>\n",
              "      <th>Toluene Column C670 Operation_Distillate Production Rate and Composition_i-Propylbenzene_wt%</th>\n",
              "      <th>Toluene Column C670 Operation_Distillate Production Rate and Composition_n-Propylcyclohexane_wt%</th>\n",
              "      <th>Toluene Column C670 Operation_Distillate Production Rate and Composition_n-Propylbenzene_wt%</th>\n",
              "      <th>Toluene Column C670 Operation_Distillate Production Rate and Composition_1-Methyl-3-ethylbenzene_wt%</th>\n",
              "      <th>Toluene Column C670 Operation_Distillate Production Rate and Composition_1-Methyl-4-ethylbenzene_wt%</th>\n",
              "      <th>Toluene Column C670 Operation_Distillate Production Rate and Composition_1,3,5-Trimethylbenzene_wt%</th>\n",
              "      <th>Toluene Column C670 Operation_Distillate Production Rate and Composition_1-Methyl-2-ethylbenzene_wt%</th>\n",
              "      <th>Toluene Column C670 Operation_Distillate Production Rate and Composition_1,2,4-Trimethylbenzene_wt%</th>\n",
              "      <th>Toluene Column C670 Operation_Distillate Production Rate and Composition_tert-Butylcyclohexane_wt%</th>\n",
              "      <th>Toluene Column C670 Operation_Distillate Production Rate and Composition_1,2,3-Trimethylbenzene_wt%</th>\n",
              "      <th>Toluene Column C670 Operation_Distillate Production Rate and Composition_Indane_wt%</th>\n",
              "      <th>Toluene Column C670 Operation_Distillate Production Rate and Composition_1-Methyl-4-n-propylbenzene_wt%</th>\n",
              "      <th>Toluene Column C670 Operation_Distillate Production Rate and Composition_1,2-Diethylbenzene_wt%</th>\n",
              "      <th>Toluene Column C670 Operation_Distillate Production Rate and Composition_5-Ethyl-m-xylene_wt%</th>\n",
              "      <th>Toluene Column C670 Operation_Distillate Production Rate and Composition_1,4-Diethylbenzene_wt%</th>\n",
              "      <th>Toluene Column C670 Operation_Distillate Production Rate and Composition_1,2,3,5-Tetramethylbenzene_wt%</th>\n",
              "      <th>Toluene Column C670 Operation_Distillate Production Rate and Composition_n-Pentylbenzene_wt%</th>\n",
              "      <th>Toluene Column C670 Operation_Distillate Production Rate and Composition_n-Hexylbenzene_wt%</th>\n",
              "      <th>Toluene Column C670 Operation_Distillate Production Rate and Composition_Nitrogen_wt%</th>\n",
              "      <th>...</th>\n",
              "      <th>Toluene Column C670 Operation_Bottoms Production Rate and Composition_Methane_wt%</th>\n",
              "      <th>Toluene Column C670 Operation_Bottoms Production Rate and Composition_Ethane_wt%</th>\n",
              "      <th>Toluene Column C670 Operation_Bottoms Production Rate and Composition_Propane_wt%</th>\n",
              "      <th>Toluene Column C670 Operation_Bottoms Production Rate and Composition_n-Butane_wt%</th>\n",
              "      <th>Toluene Column C670 Operation_Bottoms Production Rate and Composition_n-Pentane_wt%</th>\n",
              "      <th>Toluene Column C670 Operation_Bottoms Production Rate and Composition_n-Hexane_wt%</th>\n",
              "      <th>Toluene Column C670 Operation_Bottoms Production Rate and Composition_Benzene_wt%</th>\n",
              "      <th>Toluene Column C670 Operation_Bottoms Production Rate and Composition_Cyclohexane_wt%</th>\n",
              "      <th>Toluene Column C670 Operation_Bottoms Production Rate and Composition_n-Heptane_wt%</th>\n",
              "      <th>Toluene Column C670 Operation_Bottoms Production Rate and Composition_Water_wt%</th>\n",
              "      <th>Toluene Column C670 Operation_Bottoms Production Rate and Composition_Methylcyclohexane_wt%</th>\n",
              "      <th>Toluene Column C670 Operation_Bottoms Production Rate and Composition_Toluene_wt%</th>\n",
              "      <th>Toluene Column C670 Operation_Bottoms Production Rate and Composition_n-Octane_wt%</th>\n",
              "      <th>Toluene Column C670 Operation_Bottoms Production Rate and Composition_n-Propylcyclopentane_wt%</th>\n",
              "      <th>Toluene Column C670 Operation_Bottoms Production Rate and Composition_Ethylcyclohexane_wt%</th>\n",
              "      <th>Toluene Column C670 Operation_Bottoms Production Rate and Composition_Ethylbenzene_wt%</th>\n",
              "      <th>Toluene Column C670 Operation_Bottoms Production Rate and Composition_p-Xylene_wt%</th>\n",
              "      <th>Toluene Column C670 Operation_Bottoms Production Rate and Composition_m-Xylene_wt%</th>\n",
              "      <th>Toluene Column C670 Operation_Bottoms Production Rate and Composition_o-Xylene_wt%</th>\n",
              "      <th>Toluene Column C670 Operation_Bottoms Production Rate and Composition_n-Nonane_wt%</th>\n",
              "      <th>Toluene Column C670 Operation_Bottoms Production Rate and Composition_i-Propylbenzene_wt%</th>\n",
              "      <th>Toluene Column C670 Operation_Bottoms Production Rate and Composition_n-Propylcyclohexane_wt%</th>\n",
              "      <th>Toluene Column C670 Operation_Bottoms Production Rate and Composition_n-Propylbenzene_wt%</th>\n",
              "      <th>Toluene Column C670 Operation_Bottoms Production Rate and Composition_1-Methyl-3-ethylbenzene_wt%</th>\n",
              "      <th>Toluene Column C670 Operation_Bottoms Production Rate and Composition_1-Methyl-4-ethylbenzene_wt%</th>\n",
              "      <th>Toluene Column C670 Operation_Bottoms Production Rate and Composition_1,3,5-Trimethylbenzene_wt%</th>\n",
              "      <th>Toluene Column C670 Operation_Bottoms Production Rate and Composition_1-Methyl-2-ethylbenzene_wt%</th>\n",
              "      <th>Toluene Column C670 Operation_Bottoms Production Rate and Composition_1,2,4-Trimethylbenzene_wt%</th>\n",
              "      <th>Toluene Column C670 Operation_Bottoms Production Rate and Composition_tert-Butylcyclohexane_wt%</th>\n",
              "      <th>Toluene Column C670 Operation_Bottoms Production Rate and Composition_1,2,3-Trimethylbenzene_wt%</th>\n",
              "      <th>Toluene Column C670 Operation_Bottoms Production Rate and Composition_Indane_wt%</th>\n",
              "      <th>Toluene Column C670 Operation_Bottoms Production Rate and Composition_1-Methyl-4-n-propylbenzene_wt%</th>\n",
              "      <th>Toluene Column C670 Operation_Bottoms Production Rate and Composition_1,2-Diethylbenzene_wt%</th>\n",
              "      <th>Toluene Column C670 Operation_Bottoms Production Rate and Composition_5-Ethyl-m-xylene_wt%</th>\n",
              "      <th>Toluene Column C670 Operation_Bottoms Production Rate and Composition_1,4-Diethylbenzene_wt%</th>\n",
              "      <th>Toluene Column C670 Operation_Bottoms Production Rate and Composition_1,2,3,5-Tetramethylbenzene_wt%</th>\n",
              "      <th>Toluene Column C670 Operation_Bottoms Production Rate and Composition_n-Pentylbenzene_wt%</th>\n",
              "      <th>Toluene Column C670 Operation_Bottoms Production Rate and Composition_n-Hexylbenzene_wt%</th>\n",
              "      <th>Toluene Column C670 Operation_Bottoms Production Rate and Composition_Nitrogen_wt%</th>\n",
              "      <th>Toluene Column C670 Operation_Bottoms Production Rate and Composition_Oxygen_wt%</th>\n",
              "    </tr>\n",
              "  </thead>\n",
              "  <tbody>\n",
              "    <tr>\n",
              "      <th>066-002</th>\n",
              "      <td>0.0</td>\n",
              "      <td>0.0</td>\n",
              "      <td>0.0</td>\n",
              "      <td>0.0</td>\n",
              "      <td>0.0</td>\n",
              "      <td>2.134227e-16</td>\n",
              "      <td>1.783887e-09</td>\n",
              "      <td>0.281411</td>\n",
              "      <td>0.000206</td>\n",
              "      <td>0.004313</td>\n",
              "      <td>0.0</td>\n",
              "      <td>0.015959</td>\n",
              "      <td>99.668083</td>\n",
              "      <td>0.016458</td>\n",
              "      <td>0.002962</td>\n",
              "      <td>0.000608</td>\n",
              "      <td>0.005629</td>\n",
              "      <td>0.002105</td>\n",
              "      <td>0.002261</td>\n",
              "      <td>0.000005</td>\n",
              "      <td>0.000002</td>\n",
              "      <td>2.699844e-12</td>\n",
              "      <td>1.062694e-10</td>\n",
              "      <td>5.845225e-15</td>\n",
              "      <td>6.681579e-12</td>\n",
              "      <td>1.033979e-12</td>\n",
              "      <td>2.093708e-14</td>\n",
              "      <td>2.548586e-13</td>\n",
              "      <td>4.293442e-16</td>\n",
              "      <td>3.726583e-16</td>\n",
              "      <td>1.064674e-19</td>\n",
              "      <td>5.555639e-21</td>\n",
              "      <td>1.829169e-20</td>\n",
              "      <td>3.318403e-21</td>\n",
              "      <td>1.292102e-22</td>\n",
              "      <td>0.0</td>\n",
              "      <td>0.0</td>\n",
              "      <td>0.0</td>\n",
              "      <td>0.0</td>\n",
              "      <td>0.0</td>\n",
              "      <td>...</td>\n",
              "      <td>0.0</td>\n",
              "      <td>0.0</td>\n",
              "      <td>0.0</td>\n",
              "      <td>0.0</td>\n",
              "      <td>0.0</td>\n",
              "      <td>8.157602e-21</td>\n",
              "      <td>9.689816e-10</td>\n",
              "      <td>2.351360e-12</td>\n",
              "      <td>5.318257e-10</td>\n",
              "      <td>0.0</td>\n",
              "      <td>2.557390e-07</td>\n",
              "      <td>0.02</td>\n",
              "      <td>0.000041</td>\n",
              "      <td>0.023007</td>\n",
              "      <td>0.025061</td>\n",
              "      <td>3.978239</td>\n",
              "      <td>16.743214</td>\n",
              "      <td>35.9949</td>\n",
              "      <td>14.255898</td>\n",
              "      <td>0.043538</td>\n",
              "      <td>0.011956</td>\n",
              "      <td>0.042872</td>\n",
              "      <td>0.013948</td>\n",
              "      <td>1.954777</td>\n",
              "      <td>1.024215</td>\n",
              "      <td>5.188827</td>\n",
              "      <td>0.575872</td>\n",
              "      <td>13.25303</td>\n",
              "      <td>0.003066</td>\n",
              "      <td>2.116181</td>\n",
              "      <td>0.069742</td>\n",
              "      <td>0.007432</td>\n",
              "      <td>0.047215</td>\n",
              "      <td>1.791381</td>\n",
              "      <td>0.0</td>\n",
              "      <td>2.060387</td>\n",
              "      <td>0.528049</td>\n",
              "      <td>0.227161</td>\n",
              "      <td>0.0</td>\n",
              "      <td>0.0</td>\n",
              "    </tr>\n",
              "  </tbody>\n",
              "</table>\n",
              "<p>1 rows × 82 columns</p>\n",
              "</div>"
            ],
            "text/plain": [
              "         Toluene Column C670 Operation_Distillate Production Rate and Composition_Hydrogen_wt%  ...  Toluene Column C670 Operation_Bottoms Production Rate and Composition_Oxygen_wt%\n",
              "066-002                                                0.0                                      ...                                                0.0                               \n",
              "\n",
              "[1 rows x 82 columns]"
            ]
          },
          "metadata": {
            "tags": []
          },
          "execution_count": 138
        }
      ]
    },
    {
      "cell_type": "code",
      "metadata": {
        "colab": {
          "base_uri": "https://localhost:8080/",
          "height": 112
        },
        "id": "hARxgGPDtF8m",
        "outputId": "77f838eb-ae11-4103-b613-23d930e2064a"
      },
      "source": [
        "plt.imshow(c670_wt.head(41*2).values)\n",
        "plt.show()\n",
        "plt.imshow(c670_wt_gt.head(41*2).values)"
      ],
      "execution_count": 139,
      "outputs": [
        {
          "output_type": "display_data",
          "data": {
            "image/png": "[encoded data removed]",
            "text/plain": [
              "<Figure size 432x288 with 1 Axes>"
            ]
          },
          "metadata": {
            "tags": [],
            "needs_background": "light"
          }
        },
        {
          "output_type": "execute_result",
          "data": {
            "text/plain": [
              "<matplotlib.image.AxesImage at 0x7f6fe8db42b0>"
            ]
          },
          "metadata": {
            "tags": []
          },
          "execution_count": 139
        },
        {
          "output_type": "display_data",
          "data": {
            "image/png": "[encoded data removed]",
            "text/plain": [
              "<Figure size 432x288 with 1 Axes>"
            ]
          },
          "metadata": {
            "tags": [],
            "needs_background": "light"
          }
        }
      ]
    },
    {
      "cell_type": "code",
      "metadata": {
        "colab": {
          "base_uri": "https://localhost:8080/",
          "height": 419
        },
        "id": "rwrHGorCp7b3",
        "outputId": "05bdd26e-94ff-41ea-fad8-65f648148ec5"
      },
      "source": [
        "predict.model_c670_sf.show_metrics(c670_wt,c670_wt_gt,e=2e-2)"
      ],
      "execution_count": 140,
      "outputs": [
        {
          "output_type": "execute_result",
          "data": {
            "text/html": [
              "<div>\n",
              "<style scoped>\n",
              "    .dataframe tbody tr th:only-of-type {\n",
              "        vertical-align: middle;\n",
              "    }\n",
              "\n",
              "    .dataframe tbody tr th {\n",
              "        vertical-align: top;\n",
              "    }\n",
              "\n",
              "    .dataframe thead th {\n",
              "        text-align: right;\n",
              "    }\n",
              "</style>\n",
              "<table border=\"1\" class=\"dataframe\">\n",
              "  <thead>\n",
              "    <tr style=\"text-align: right;\">\n",
              "      <th></th>\n",
              "      <th>R2</th>\n",
              "      <th>MSE</th>\n",
              "      <th>MAPE</th>\n",
              "    </tr>\n",
              "  </thead>\n",
              "  <tbody>\n",
              "    <tr>\n",
              "      <th>Toluene Column C670 Operation_Distillate Production Rate and Composition_Hydrogen_wt%</th>\n",
              "      <td>NaN</td>\n",
              "      <td>0</td>\n",
              "      <td>NaN</td>\n",
              "    </tr>\n",
              "    <tr>\n",
              "      <th>Toluene Column C670 Operation_Distillate Production Rate and Composition_Methane_wt%</th>\n",
              "      <td>NaN</td>\n",
              "      <td>4.03274e-14</td>\n",
              "      <td>NaN</td>\n",
              "    </tr>\n",
              "    <tr>\n",
              "      <th>Toluene Column C670 Operation_Distillate Production Rate and Composition_Ethane_wt%</th>\n",
              "      <td>NaN</td>\n",
              "      <td>1.83739e-11</td>\n",
              "      <td>NaN</td>\n",
              "    </tr>\n",
              "    <tr>\n",
              "      <th>Toluene Column C670 Operation_Distillate Production Rate and Composition_Propane_wt%</th>\n",
              "      <td>NaN</td>\n",
              "      <td>2.27695e-11</td>\n",
              "      <td>NaN</td>\n",
              "    </tr>\n",
              "    <tr>\n",
              "      <th>Toluene Column C670 Operation_Distillate Production Rate and Composition_n-Butane_wt%</th>\n",
              "      <td>NaN</td>\n",
              "      <td>4.93631e-47</td>\n",
              "      <td>NaN</td>\n",
              "    </tr>\n",
              "    <tr>\n",
              "      <th>...</th>\n",
              "      <td>...</td>\n",
              "      <td>...</td>\n",
              "      <td>...</td>\n",
              "    </tr>\n",
              "    <tr>\n",
              "      <th>Toluene Column C670 Operation_Bottoms Production Rate and Composition_n-Pentylbenzene_wt%</th>\n",
              "      <td>NaN</td>\n",
              "      <td>1.11668e-11</td>\n",
              "      <td>0.000632838</td>\n",
              "    </tr>\n",
              "    <tr>\n",
              "      <th>Toluene Column C670 Operation_Bottoms Production Rate and Composition_n-Hexylbenzene_wt%</th>\n",
              "      <td>NaN</td>\n",
              "      <td>1.27017e-11</td>\n",
              "      <td>0.00156893</td>\n",
              "    </tr>\n",
              "    <tr>\n",
              "      <th>Toluene Column C670 Operation_Bottoms Production Rate and Composition_Nitrogen_wt%</th>\n",
              "      <td>NaN</td>\n",
              "      <td>0</td>\n",
              "      <td>NaN</td>\n",
              "    </tr>\n",
              "    <tr>\n",
              "      <th>Toluene Column C670 Operation_Bottoms Production Rate and Composition_Oxygen_wt%</th>\n",
              "      <td>NaN</td>\n",
              "      <td>0</td>\n",
              "      <td>NaN</td>\n",
              "    </tr>\n",
              "    <tr>\n",
              "      <th>AVG</th>\n",
              "      <td>NaN</td>\n",
              "      <td>1.07768e-07</td>\n",
              "      <td>0.0268063</td>\n",
              "    </tr>\n",
              "  </tbody>\n",
              "</table>\n",
              "<p>83 rows × 3 columns</p>\n",
              "</div>"
            ],
            "text/plain": [
              "                                                     R2  ...         MAPE\n",
              "Toluene Column C670 Operation_Distillate Produc...  NaN  ...          NaN\n",
              "Toluene Column C670 Operation_Distillate Produc...  NaN  ...          NaN\n",
              "Toluene Column C670 Operation_Distillate Produc...  NaN  ...          NaN\n",
              "Toluene Column C670 Operation_Distillate Produc...  NaN  ...          NaN\n",
              "Toluene Column C670 Operation_Distillate Produc...  NaN  ...          NaN\n",
              "...                                                 ...  ...          ...\n",
              "Toluene Column C670 Operation_Bottoms Productio...  NaN  ...  0.000632838\n",
              "Toluene Column C670 Operation_Bottoms Productio...  NaN  ...   0.00156893\n",
              "Toluene Column C670 Operation_Bottoms Productio...  NaN  ...          NaN\n",
              "Toluene Column C670 Operation_Bottoms Productio...  NaN  ...          NaN\n",
              "AVG                                                 NaN  ...    0.0268063\n",
              "\n",
              "[83 rows x 3 columns]"
            ]
          },
          "metadata": {
            "tags": []
          },
          "execution_count": 140
        }
      ]
    },
    {
      "cell_type": "markdown",
      "metadata": {
        "id": "mEzLo0PJorSG"
      },
      "source": [
        "# check massblance c670_wt"
      ]
    },
    {
      "cell_type": "code",
      "metadata": {
        "id": "Wi-A0df8orsO",
        "colab": {
          "base_uri": "https://localhost:8080/"
        },
        "outputId": "a7812f69-90d4-4787-88e8-f3de59dda112"
      },
      "source": [
        "for i in range(2):\n",
        "  assert np.allclose(c670_wt.iloc[:,41*i:41*(i+1)].sum(axis=1),100)\n",
        "print('pass')"
      ],
      "execution_count": 141,
      "outputs": [
        {
          "output_type": "stream",
          "text": [
            "pass\n"
          ],
          "name": "stdout"
        }
      ]
    },
    {
      "cell_type": "code",
      "metadata": {
        "id": "x3nI1P6Rxgb_",
        "colab": {
          "base_uri": "https://localhost:8080/"
        },
        "outputId": "6bd594ea-0a98-4376-beb7-8c89a8acd339"
      },
      "source": [
        "input_mfr = predict.c670_mb.iloc[:,[0,1]].sum(axis=1).values.reshape(-1,1)\r\n",
        "w1_mfr = predict.c670_mb.iloc[:,2].values.reshape(-1,1)\r\n",
        "w2_mfr = predict.c670_mb.iloc[:,3].values.reshape(-1,1)\r\n",
        "入料量 = (c670_x.iloc[:,:41]*input_mfr).sum(axis=1).values\r\n",
        "出料_w1 = (c670_wt.iloc[:,0:41]*w1_mfr).sum(axis=1).values\r\n",
        "出料_w2 = (c670_wt.iloc[:,41:41*2]*w2_mfr).sum(axis=1).values\r\n",
        "np.allclose(入料量,出料_w1+出料_w2)"
      ],
      "execution_count": 142,
      "outputs": [
        {
          "output_type": "execute_result",
          "data": {
            "text/plain": [
              "True"
            ]
          },
          "metadata": {
            "tags": []
          },
          "execution_count": 142
        }
      ]
    },
    {
      "cell_type": "markdown",
      "metadata": {
        "id": "Q2WpWtsWp1T6"
      },
      "source": [
        "#C670 OP"
      ]
    },
    {
      "cell_type": "code",
      "metadata": {
        "colab": {
          "base_uri": "https://localhost:8080/",
          "height": 148
        },
        "id": "oIIc2xZBh0JG",
        "outputId": "691e9baa-7967-4c09-f876-d7377fd1456b"
      },
      "source": [
        "c670_op = predict.c670_op(c670_x)\n",
        "c670_op.head()"
      ],
      "execution_count": 143,
      "outputs": [
        {
          "output_type": "execute_result",
          "data": {
            "text/html": [
              "<div>\n",
              "<style scoped>\n",
              "    .dataframe tbody tr th:only-of-type {\n",
              "        vertical-align: middle;\n",
              "    }\n",
              "\n",
              "    .dataframe tbody tr th {\n",
              "        vertical-align: top;\n",
              "    }\n",
              "\n",
              "    .dataframe thead th {\n",
              "        text-align: right;\n",
              "    }\n",
              "</style>\n",
              "<table border=\"1\" class=\"dataframe\">\n",
              "  <thead>\n",
              "    <tr style=\"text-align: right;\">\n",
              "      <th></th>\n",
              "      <th>Density_Distillate Production Rate and Composition</th>\n",
              "      <th>Density_Bottoms Production Rate and Composition</th>\n",
              "      <th>Toluene Column C670 Operation_Yield \\nSummary_Reflux Rate_m3/hr</th>\n",
              "      <th>Toluene Column C670 Operation_Heat Duty_Condenser Heat Duty_Mkcal/hr</th>\n",
              "      <th>Toluene Column C670 Operation_Heat Duty_Reboiler Heat Duty_Mkcal/hr</th>\n",
              "      <th>Toluene Column C670 Operation_Column Temp Profile_C670 Tray 24 (Control)_oC</th>\n",
              "      <th>Toluene Column C670 Operation_Column Temp Profile_C670 Btm Temp (Control)_oC</th>\n",
              "    </tr>\n",
              "  </thead>\n",
              "  <tbody>\n",
              "    <tr>\n",
              "      <th>066-002</th>\n",
              "      <td>0.870949</td>\n",
              "      <td>0.872402</td>\n",
              "      <td>294.331146</td>\n",
              "      <td>34.696011</td>\n",
              "      <td>34.666317</td>\n",
              "      <td>181.577545</td>\n",
              "      <td>226.318924</td>\n",
              "    </tr>\n",
              "  </tbody>\n",
              "</table>\n",
              "</div>"
            ],
            "text/plain": [
              "         Density_Distillate Production Rate and Composition  ...  Toluene Column C670 Operation_Column Temp Profile_C670 Btm Temp (Control)_oC\n",
              "066-002                                           0.870949   ...                                         226.318924                           \n",
              "\n",
              "[1 rows x 7 columns]"
            ]
          },
          "metadata": {
            "tags": []
          },
          "execution_count": 143
        }
      ]
    },
    {
      "cell_type": "code",
      "metadata": {
        "colab": {
          "base_uri": "https://localhost:8080/",
          "height": 148
        },
        "id": "rf8OT1zipcD5",
        "outputId": "205fc75d-28d0-4dc0-d7cc-b294f0c174a1"
      },
      "source": [
        "c670_op_gt = predict.c670_df.loc[c670_op.index,c670_op.columns]\n",
        "c670_op_gt.head()"
      ],
      "execution_count": 144,
      "outputs": [
        {
          "output_type": "execute_result",
          "data": {
            "text/html": [
              "<div>\n",
              "<style scoped>\n",
              "    .dataframe tbody tr th:only-of-type {\n",
              "        vertical-align: middle;\n",
              "    }\n",
              "\n",
              "    .dataframe tbody tr th {\n",
              "        vertical-align: top;\n",
              "    }\n",
              "\n",
              "    .dataframe thead th {\n",
              "        text-align: right;\n",
              "    }\n",
              "</style>\n",
              "<table border=\"1\" class=\"dataframe\">\n",
              "  <thead>\n",
              "    <tr style=\"text-align: right;\">\n",
              "      <th></th>\n",
              "      <th>Density_Distillate Production Rate and Composition</th>\n",
              "      <th>Density_Bottoms Production Rate and Composition</th>\n",
              "      <th>Toluene Column C670 Operation_Yield \\nSummary_Reflux Rate_m3/hr</th>\n",
              "      <th>Toluene Column C670 Operation_Heat Duty_Condenser Heat Duty_Mkcal/hr</th>\n",
              "      <th>Toluene Column C670 Operation_Heat Duty_Reboiler Heat Duty_Mkcal/hr</th>\n",
              "      <th>Toluene Column C670 Operation_Column Temp Profile_C670 Tray 24 (Control)_oC</th>\n",
              "      <th>Toluene Column C670 Operation_Column Temp Profile_C670 Btm Temp (Control)_oC</th>\n",
              "    </tr>\n",
              "  </thead>\n",
              "  <tbody>\n",
              "    <tr>\n",
              "      <th>066-002</th>\n",
              "      <td>0.870949</td>\n",
              "      <td>0.872415</td>\n",
              "      <td>292.448914</td>\n",
              "      <td>34.568528</td>\n",
              "      <td>34.542444</td>\n",
              "      <td>181.568665</td>\n",
              "      <td>226.345886</td>\n",
              "    </tr>\n",
              "  </tbody>\n",
              "</table>\n",
              "</div>"
            ],
            "text/plain": [
              "         Density_Distillate Production Rate and Composition  ...  Toluene Column C670 Operation_Column Temp Profile_C670 Btm Temp (Control)_oC\n",
              "066-002                                           0.870949   ...                                         226.345886                           \n",
              "\n",
              "[1 rows x 7 columns]"
            ]
          },
          "metadata": {
            "tags": []
          },
          "execution_count": 144
        }
      ]
    },
    {
      "cell_type": "code",
      "metadata": {
        "colab": {
          "base_uri": "https://localhost:8080/",
          "height": 200
        },
        "id": "RJ3YI1LftPh1",
        "outputId": "b9412aed-a802-4d84-c90d-40453af43e0b"
      },
      "source": [
        "plt.imshow(c670_op.head(7).values)\n",
        "plt.show()\n",
        "plt.imshow(c670_op_gt.head(7).values)"
      ],
      "execution_count": 145,
      "outputs": [
        {
          "output_type": "display_data",
          "data": {
            "image/png": "[encoded data removed]",
            "text/plain": [
              "<Figure size 432x288 with 1 Axes>"
            ]
          },
          "metadata": {
            "tags": [],
            "needs_background": "light"
          }
        },
        {
          "output_type": "execute_result",
          "data": {
            "text/plain": [
              "<matplotlib.image.AxesImage at 0x7f6ff4de2780>"
            ]
          },
          "metadata": {
            "tags": []
          },
          "execution_count": 145
        },
        {
          "output_type": "display_data",
          "data": {
            "image/png": "[encoded data removed]",
            "text/plain": [
              "<Figure size 432x288 with 1 Axes>"
            ]
          },
          "metadata": {
            "tags": [],
            "needs_background": "light"
          }
        }
      ]
    },
    {
      "cell_type": "code",
      "metadata": {
        "colab": {
          "base_uri": "https://localhost:8080/",
          "height": 297
        },
        "id": "1CqH2qXFpn6j",
        "outputId": "556d8b7f-d3ce-4e15-faf7-82cc9aa5b535"
      },
      "source": [
        "predict.model_c670_op.show_metrics(c670_op,c670_op_gt,e=2e-2)"
      ],
      "execution_count": 146,
      "outputs": [
        {
          "output_type": "execute_result",
          "data": {
            "text/html": [
              "<div>\n",
              "<style scoped>\n",
              "    .dataframe tbody tr th:only-of-type {\n",
              "        vertical-align: middle;\n",
              "    }\n",
              "\n",
              "    .dataframe tbody tr th {\n",
              "        vertical-align: top;\n",
              "    }\n",
              "\n",
              "    .dataframe thead th {\n",
              "        text-align: right;\n",
              "    }\n",
              "</style>\n",
              "<table border=\"1\" class=\"dataframe\">\n",
              "  <thead>\n",
              "    <tr style=\"text-align: right;\">\n",
              "      <th></th>\n",
              "      <th>R2</th>\n",
              "      <th>MSE</th>\n",
              "      <th>MAPE</th>\n",
              "    </tr>\n",
              "  </thead>\n",
              "  <tbody>\n",
              "    <tr>\n",
              "      <th>Density_Distillate Production Rate and Composition</th>\n",
              "      <td>NaN</td>\n",
              "      <td>1.18531e-13</td>\n",
              "      <td>3.95297e-05</td>\n",
              "    </tr>\n",
              "    <tr>\n",
              "      <th>Density_Bottoms Production Rate and Composition</th>\n",
              "      <td>NaN</td>\n",
              "      <td>1.88704e-10</td>\n",
              "      <td>0.00157461</td>\n",
              "    </tr>\n",
              "    <tr>\n",
              "      <th>Toluene Column C670 Operation_Yield \\nSummary_Reflux Rate_m3/hr</th>\n",
              "      <td>NaN</td>\n",
              "      <td>3.5428</td>\n",
              "      <td>0.639495</td>\n",
              "    </tr>\n",
              "    <tr>\n",
              "      <th>Toluene Column C670 Operation_Heat Duty_Condenser Heat Duty_Mkcal/hr</th>\n",
              "      <td>NaN</td>\n",
              "      <td>0.0162517</td>\n",
              "      <td>0.367426</td>\n",
              "    </tr>\n",
              "    <tr>\n",
              "      <th>Toluene Column C670 Operation_Heat Duty_Reboiler Heat Duty_Mkcal/hr</th>\n",
              "      <td>NaN</td>\n",
              "      <td>0.0153444</td>\n",
              "      <td>0.357328</td>\n",
              "    </tr>\n",
              "    <tr>\n",
              "      <th>Toluene Column C670 Operation_Column Temp Profile_C670 Tray 24 (Control)_oC</th>\n",
              "      <td>NaN</td>\n",
              "      <td>7.88645e-05</td>\n",
              "      <td>0.00489078</td>\n",
              "    </tr>\n",
              "    <tr>\n",
              "      <th>Toluene Column C670 Operation_Column Temp Profile_C670 Btm Temp (Control)_oC</th>\n",
              "      <td>NaN</td>\n",
              "      <td>0.000726963</td>\n",
              "      <td>0.0119134</td>\n",
              "    </tr>\n",
              "    <tr>\n",
              "      <th>AVG</th>\n",
              "      <td>NaN</td>\n",
              "      <td>0.510743</td>\n",
              "      <td>0.197524</td>\n",
              "    </tr>\n",
              "  </tbody>\n",
              "</table>\n",
              "</div>"
            ],
            "text/plain": [
              "                                                     R2  ...         MAPE\n",
              "Density_Distillate Production Rate and Composition  NaN  ...  3.95297e-05\n",
              "Density_Bottoms Production Rate and Composition     NaN  ...   0.00157461\n",
              "Toluene Column C670 Operation_Yield \\nSummary_R...  NaN  ...     0.639495\n",
              "Toluene Column C670 Operation_Heat Duty_Condens...  NaN  ...     0.367426\n",
              "Toluene Column C670 Operation_Heat Duty_Reboile...  NaN  ...     0.357328\n",
              "Toluene Column C670 Operation_Column Temp Profi...  NaN  ...   0.00489078\n",
              "Toluene Column C670 Operation_Column Temp Profi...  NaN  ...    0.0119134\n",
              "AVG                                                 NaN  ...     0.197524\n",
              "\n",
              "[8 rows x 3 columns]"
            ]
          },
          "metadata": {
            "tags": []
          },
          "execution_count": 146
        }
      ]
    },
    {
      "cell_type": "code",
      "metadata": {
        "id": "7RulqBGwpyKk"
      },
      "source": [
        ""
      ],
      "execution_count": null,
      "outputs": []
    }
  ]
}