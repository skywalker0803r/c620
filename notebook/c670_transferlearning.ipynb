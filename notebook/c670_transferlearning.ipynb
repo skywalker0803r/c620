{
  "nbformat": 4,
  "nbformat_minor": 0,
  "metadata": {
    "colab": {
      "name": "c670_transferlearning.ipynb",
      "provenance": [],
      "mount_file_id": "1huieOBSyJ3dgLkEy_REKipoo43X-VDQr",
      "authorship_tag": "ABX9TyM1rM85XVA9FyfIzhKRSVZG",
      "include_colab_link": true
    },
    "kernelspec": {
      "name": "python3",
      "display_name": "Python 3"
    }
  },
  "cells": [
    {
      "cell_type": "markdown",
      "metadata": {
        "id": "view-in-github",
        "colab_type": "text"
      },
      "source": [
        "<a href=\"https://colab.research.google.com/github/skywalker0803r/c620/blob/main/notebook/c670_transferlearning.ipynb\" target=\"_parent\"><img src=\"https://colab.research.google.com/assets/colab-badge.svg\" alt=\"Open In Colab\"/></a>"
      ]
    },
    {
      "cell_type": "code",
      "metadata": {
        "id": "nOGsCEawJNva"
      },
      "source": [
        "import pandas as pd\n",
        "import numpy as np\n",
        "import joblib\n",
        "!pip install autorch > log.txt"
      ],
      "execution_count": 32,
      "outputs": []
    },
    {
      "cell_type": "code",
      "metadata": {
        "colab": {
          "base_uri": "https://localhost:8080/",
          "height": 429
        },
        "id": "7UXYDDgMJWvA",
        "outputId": "c45974d8-e6c3-4f89-8ea3-507ce666d0cb"
      },
      "source": [
        "c = joblib.load('/content/drive/MyDrive/台塑輕油案子/data/c620/col_names/c670_col_names.pkl')\n",
        "c670_df = pd.read_excel('/content/drive/MyDrive/台塑輕油案子/data/c620/明志_遷移式學習_訓練資料_寄送版/c670_data.xlsx',index_col=0)\n",
        "print(c670_df.shape)\n",
        "c670_df.head(3)"
      ],
      "execution_count": 58,
      "outputs": [
        {
          "output_type": "stream",
          "text": [
            "(168, 171)\n"
          ],
          "name": "stdout"
        },
        {
          "output_type": "execute_result",
          "data": {
            "text/html": [
              "<div>\n",
              "<style scoped>\n",
              "    .dataframe tbody tr th:only-of-type {\n",
              "        vertical-align: middle;\n",
              "    }\n",
              "\n",
              "    .dataframe tbody tr th {\n",
              "        vertical-align: top;\n",
              "    }\n",
              "\n",
              "    .dataframe thead th {\n",
              "        text-align: right;\n",
              "    }\n",
              "</style>\n",
              "<table border=\"1\" class=\"dataframe\">\n",
              "  <thead>\n",
              "    <tr style=\"text-align: right;\">\n",
              "      <th></th>\n",
              "      <th>Toluene Column C670 Operation_Combined Feed to Toluene Column C670 : Detailed weight % Composition_Hydrogen_wt%</th>\n",
              "      <th>Toluene Column C670 Operation_Combined Feed to Toluene Column C670 : Detailed weight % Composition_Methane_wt%</th>\n",
              "      <th>Toluene Column C670 Operation_Combined Feed to Toluene Column C670 : Detailed weight % Composition_Ethane_wt%</th>\n",
              "      <th>Toluene Column C670 Operation_Combined Feed to Toluene Column C670 : Detailed weight % Composition_Propane_wt%</th>\n",
              "      <th>Toluene Column C670 Operation_Combined Feed to Toluene Column C670 : Detailed weight % Composition_n-Butane_wt%</th>\n",
              "      <th>Toluene Column C670 Operation_Combined Feed to Toluene Column C670 : Detailed weight % Composition_n-Pentane_wt%</th>\n",
              "      <th>Toluene Column C670 Operation_Combined Feed to Toluene Column C670 : Detailed weight % Composition_n-Hexane_wt%</th>\n",
              "      <th>Toluene Column C670 Operation_Combined Feed to Toluene Column C670 : Detailed weight % Composition_Benzene_wt%</th>\n",
              "      <th>Toluene Column C670 Operation_Combined Feed to Toluene Column C670 : Detailed weight % Composition_Cyclohexane_wt%</th>\n",
              "      <th>Toluene Column C670 Operation_Combined Feed to Toluene Column C670 : Detailed weight % Composition_n-Heptane_wt%</th>\n",
              "      <th>Toluene Column C670 Operation_Combined Feed to Toluene Column C670 : Detailed weight % Composition_Water_wt%</th>\n",
              "      <th>Toluene Column C670 Operation_Combined Feed to Toluene Column C670 : Detailed weight % Composition_Methylcyclohexane_wt%</th>\n",
              "      <th>Toluene Column C670 Operation_Combined Feed to Toluene Column C670 : Detailed weight % Composition_Toluene_wt%</th>\n",
              "      <th>Toluene Column C670 Operation_Combined Feed to Toluene Column C670 : Detailed weight % Composition_n-Octane_wt%</th>\n",
              "      <th>Toluene Column C670 Operation_Combined Feed to Toluene Column C670 : Detailed weight % Composition_n-Propylcyclopentane_wt%</th>\n",
              "      <th>Toluene Column C670 Operation_Combined Feed to Toluene Column C670 : Detailed weight % Composition_Ethylcyclohexane_wt%</th>\n",
              "      <th>Toluene Column C670 Operation_Combined Feed to Toluene Column C670 : Detailed weight % Composition_Ethylbenzene_wt%</th>\n",
              "      <th>Toluene Column C670 Operation_Combined Feed to Toluene Column C670 : Detailed weight % Composition_p-Xylene_wt%</th>\n",
              "      <th>Toluene Column C670 Operation_Combined Feed to Toluene Column C670 : Detailed weight % Composition_m-Xylene_wt%</th>\n",
              "      <th>Toluene Column C670 Operation_Combined Feed to Toluene Column C670 : Detailed weight % Composition_o-Xylene_wt%</th>\n",
              "      <th>Toluene Column C670 Operation_Combined Feed to Toluene Column C670 : Detailed weight % Composition_n-Nonane_wt%</th>\n",
              "      <th>Toluene Column C670 Operation_Combined Feed to Toluene Column C670 : Detailed weight % Composition_i-Propylbenzene_wt%</th>\n",
              "      <th>Toluene Column C670 Operation_Combined Feed to Toluene Column C670 : Detailed weight % Composition_n-Propylcyclohexane_wt%</th>\n",
              "      <th>Toluene Column C670 Operation_Combined Feed to Toluene Column C670 : Detailed weight % Composition_n-Propylbenzene_wt%</th>\n",
              "      <th>Toluene Column C670 Operation_Combined Feed to Toluene Column C670 : Detailed weight % Composition_1-Methyl-3-ethylbenzene_wt%</th>\n",
              "      <th>Toluene Column C670 Operation_Combined Feed to Toluene Column C670 : Detailed weight % Composition_1-Methyl-4-ethylbenzene_wt%</th>\n",
              "      <th>Toluene Column C670 Operation_Combined Feed to Toluene Column C670 : Detailed weight % Composition_1,3,5-Trimethylbenzene_wt%</th>\n",
              "      <th>Toluene Column C670 Operation_Combined Feed to Toluene Column C670 : Detailed weight % Composition_1-Methyl-2-ethylbenzene_wt%</th>\n",
              "      <th>Toluene Column C670 Operation_Combined Feed to Toluene Column C670 : Detailed weight % Composition_1,2,4-Trimethylbenzene_wt%</th>\n",
              "      <th>Toluene Column C670 Operation_Combined Feed to Toluene Column C670 : Detailed weight % Composition_tert-Butylcyclohexane_wt%</th>\n",
              "      <th>Toluene Column C670 Operation_Combined Feed to Toluene Column C670 : Detailed weight % Composition_1,2,3-Trimethylbenzene_wt%</th>\n",
              "      <th>Toluene Column C670 Operation_Combined Feed to Toluene Column C670 : Detailed weight % Composition_Indane_wt%</th>\n",
              "      <th>Toluene Column C670 Operation_Combined Feed to Toluene Column C670 : Detailed weight % Composition_1-Methyl-4-n-propylbenzene_wt%</th>\n",
              "      <th>Toluene Column C670 Operation_Combined Feed to Toluene Column C670 : Detailed weight % Composition_1,2-Diethylbenzene_wt%</th>\n",
              "      <th>Toluene Column C670 Operation_Combined Feed to Toluene Column C670 : Detailed weight % Composition_5-Ethyl-m-xylene_wt%</th>\n",
              "      <th>Toluene Column C670 Operation_Combined Feed to Toluene Column C670 : Detailed weight % Composition_1,4-Diethylbenzene_wt%</th>\n",
              "      <th>Toluene Column C670 Operation_Combined Feed to Toluene Column C670 : Detailed weight % Composition_1,2,3,5-Tetramethylbenzene_wt%</th>\n",
              "      <th>Toluene Column C670 Operation_Combined Feed to Toluene Column C670 : Detailed weight % Composition_n-Pentylbenzene_wt%</th>\n",
              "      <th>Toluene Column C670 Operation_Combined Feed to Toluene Column C670 : Detailed weight % Composition_n-Hexylbenzene_wt%</th>\n",
              "      <th>Toluene Column C670 Operation_Combined Feed to Toluene Column C670 : Detailed weight % Composition_Nitrogen_wt%</th>\n",
              "      <th>...</th>\n",
              "      <th>Toluene Column C670 Split Factors Calculation_Split Factor for Individual Component to Toluene Column C670 Bottoms_Cyclohexane_Fraction</th>\n",
              "      <th>Toluene Column C670 Split Factors Calculation_Split Factor for Individual Component to Toluene Column C670 Bottoms_n-Heptane_Fraction</th>\n",
              "      <th>Toluene Column C670 Split Factors Calculation_Split Factor for Individual Component to Toluene Column C670 Bottoms_Water_Fraction</th>\n",
              "      <th>Toluene Column C670 Split Factors Calculation_Split Factor for Individual Component to Toluene Column C670 Bottoms_Methylcyclohexane_Fraction</th>\n",
              "      <th>Toluene Column C670 Split Factors Calculation_Split Factor for Individual Component to Toluene Column C670 Bottoms_Toluene_Fraction</th>\n",
              "      <th>Toluene Column C670 Split Factors Calculation_Split Factor for Individual Component to Toluene Column C670 Bottoms_n-Octane_Fraction</th>\n",
              "      <th>Toluene Column C670 Split Factors Calculation_Split Factor for Individual Component to Toluene Column C670 Bottoms_n-Propylcyclopentane_Fraction</th>\n",
              "      <th>Toluene Column C670 Split Factors Calculation_Split Factor for Individual Component to Toluene Column C670 Bottoms_Ethylcyclohexane_Fraction</th>\n",
              "      <th>Toluene Column C670 Split Factors Calculation_Split Factor for Individual Component to Toluene Column C670 Bottoms_Ethylbenzene_Fraction</th>\n",
              "      <th>Toluene Column C670 Split Factors Calculation_Split Factor for Individual Component to Toluene Column C670 Bottoms_p-Xylene_Fraction</th>\n",
              "      <th>Toluene Column C670 Split Factors Calculation_Split Factor for Individual Component to Toluene Column C670 Bottoms_m-Xylene_Fraction</th>\n",
              "      <th>Toluene Column C670 Split Factors Calculation_Split Factor for Individual Component to Toluene Column C670 Bottoms_o-Xylene_Fraction</th>\n",
              "      <th>Toluene Column C670 Split Factors Calculation_Split Factor for Individual Component to Toluene Column C670 Bottoms_n-Nonane_Fraction</th>\n",
              "      <th>Toluene Column C670 Split Factors Calculation_Split Factor for Individual Component to Toluene Column C670 Bottoms_i-Propylbenzene_Fraction</th>\n",
              "      <th>Toluene Column C670 Split Factors Calculation_Split Factor for Individual Component to Toluene Column C670 Bottoms_n-Propylcyclohexane_Fraction</th>\n",
              "      <th>Toluene Column C670 Split Factors Calculation_Split Factor for Individual Component to Toluene Column C670 Bottoms_n-Propylbenzene_Fraction</th>\n",
              "      <th>Toluene Column C670 Split Factors Calculation_Split Factor for Individual Component to Toluene Column C670 Bottoms_1-Methyl-3-ethylbenzene_Fraction</th>\n",
              "      <th>Toluene Column C670 Split Factors Calculation_Split Factor for Individual Component to Toluene Column C670 Bottoms_1-Methyl-4-ethylbenzene_Fraction</th>\n",
              "      <th>Toluene Column C670 Split Factors Calculation_Split Factor for Individual Component to Toluene Column C670 Bottoms_1,3,5-Trimethylbenzene_Fraction</th>\n",
              "      <th>Toluene Column C670 Split Factors Calculation_Split Factor for Individual Component to Toluene Column C670 Bottoms_1-Methyl-2-ethylbenzene_Fraction</th>\n",
              "      <th>Toluene Column C670 Split Factors Calculation_Split Factor for Individual Component to Toluene Column C670 Bottoms_1,2,4-Trimethylbenzene_Fraction</th>\n",
              "      <th>Toluene Column C670 Split Factors Calculation_Split Factor for Individual Component to Toluene Column C670 Bottoms_tert-Butylcyclohexane_Fraction</th>\n",
              "      <th>Toluene Column C670 Split Factors Calculation_Split Factor for Individual Component to Toluene Column C670 Bottoms_1,2,3-Trimethylbenzene_Fraction</th>\n",
              "      <th>Toluene Column C670 Split Factors Calculation_Split Factor for Individual Component to Toluene Column C670 Bottoms_Indane_Fraction</th>\n",
              "      <th>Toluene Column C670 Split Factors Calculation_Split Factor for Individual Component to Toluene Column C670 Bottoms_1-Methyl-4-n-propylbenzene_Fraction</th>\n",
              "      <th>Toluene Column C670 Split Factors Calculation_Split Factor for Individual Component to Toluene Column C670 Bottoms_1,2-Diethylbenzene_Fraction</th>\n",
              "      <th>Toluene Column C670 Split Factors Calculation_Split Factor for Individual Component to Toluene Column C670 Bottoms_5-Ethyl-m-xylene_Fraction</th>\n",
              "      <th>Toluene Column C670 Split Factors Calculation_Split Factor for Individual Component to Toluene Column C670 Bottoms_1,4-Diethylbenzene_Fraction</th>\n",
              "      <th>Toluene Column C670 Split Factors Calculation_Split Factor for Individual Component to Toluene Column C670 Bottoms_1,2,3,5-Tetramethylbenzene_Fraction</th>\n",
              "      <th>Toluene Column C670 Split Factors Calculation_Split Factor for Individual Component to Toluene Column C670 Bottoms_n-Pentylbenzene_Fraction</th>\n",
              "      <th>Toluene Column C670 Split Factors Calculation_Split Factor for Individual Component to Toluene Column C670 Bottoms_n-Hexylbenzene_Fraction</th>\n",
              "      <th>Toluene Column C670 Split Factors Calculation_Split Factor for Individual Component to Toluene Column C670 Bottoms_Nitrogen_Fraction</th>\n",
              "      <th>Toluene Column C670 Split Factors Calculation_Split Factor for Individual Component to Toluene Column C670 Bottoms_Oxygen_Fraction</th>\n",
              "      <th>Density_Distillate Production Rate and Composition</th>\n",
              "      <th>Density_Bottoms Production Rate and Composition</th>\n",
              "      <th>Toluene Column C670 Operation_Yield \\nSummary_Reflux Rate_m3/hr</th>\n",
              "      <th>Toluene Column C670 Operation_Heat Duty_Condenser Heat Duty_Mkcal/hr</th>\n",
              "      <th>Toluene Column C670 Operation_Heat Duty_Reboiler Heat Duty_Mkcal/hr</th>\n",
              "      <th>Toluene Column C670 Operation_Column Temp Profile_C670 Tray 24 (Control)_oC</th>\n",
              "      <th>Toluene Column C670 Operation_Column Temp Profile_C670 Btm Temp (Control)_oC</th>\n",
              "    </tr>\n",
              "  </thead>\n",
              "  <tbody>\n",
              "    <tr>\n",
              "      <th>2020-09-02</th>\n",
              "      <td>0</td>\n",
              "      <td>0</td>\n",
              "      <td>0</td>\n",
              "      <td>0</td>\n",
              "      <td>2.158924e-24</td>\n",
              "      <td>8.643537e-17</td>\n",
              "      <td>8.010011e-10</td>\n",
              "      <td>0.062633</td>\n",
              "      <td>0.000116</td>\n",
              "      <td>0.002418</td>\n",
              "      <td>0</td>\n",
              "      <td>0.012543</td>\n",
              "      <td>49.236480</td>\n",
              "      <td>0.021154</td>\n",
              "      <td>0.020603</td>\n",
              "      <td>0.018202</td>\n",
              "      <td>2.535826</td>\n",
              "      <td>8.019157</td>\n",
              "      <td>17.326736</td>\n",
              "      <td>7.233702</td>\n",
              "      <td>0.034433</td>\n",
              "      <td>0.011729</td>\n",
              "      <td>0.054592</td>\n",
              "      <td>0.014325</td>\n",
              "      <td>0.967473</td>\n",
              "      <td>0.506846</td>\n",
              "      <td>2.727985</td>\n",
              "      <td>0.284715</td>\n",
              "      <td>6.967916</td>\n",
              "      <td>0.004194</td>\n",
              "      <td>1.112360</td>\n",
              "      <td>0.053811</td>\n",
              "      <td>0.000863</td>\n",
              "      <td>0.032203</td>\n",
              "      <td>0.900565</td>\n",
              "      <td>0</td>\n",
              "      <td>1.036842</td>\n",
              "      <td>0.559674</td>\n",
              "      <td>0.239905</td>\n",
              "      <td>0</td>\n",
              "      <td>...</td>\n",
              "      <td>NaN</td>\n",
              "      <td>NaN</td>\n",
              "      <td>NaN</td>\n",
              "      <td>NaN</td>\n",
              "      <td>NaN</td>\n",
              "      <td>NaN</td>\n",
              "      <td>NaN</td>\n",
              "      <td>NaN</td>\n",
              "      <td>NaN</td>\n",
              "      <td>NaN</td>\n",
              "      <td>NaN</td>\n",
              "      <td>NaN</td>\n",
              "      <td>NaN</td>\n",
              "      <td>NaN</td>\n",
              "      <td>NaN</td>\n",
              "      <td>NaN</td>\n",
              "      <td>NaN</td>\n",
              "      <td>NaN</td>\n",
              "      <td>NaN</td>\n",
              "      <td>NaN</td>\n",
              "      <td>NaN</td>\n",
              "      <td>NaN</td>\n",
              "      <td>NaN</td>\n",
              "      <td>NaN</td>\n",
              "      <td>NaN</td>\n",
              "      <td>NaN</td>\n",
              "      <td>NaN</td>\n",
              "      <td>NaN</td>\n",
              "      <td>NaN</td>\n",
              "      <td>NaN</td>\n",
              "      <td>NaN</td>\n",
              "      <td>NaN</td>\n",
              "      <td>NaN</td>\n",
              "      <td>0.871</td>\n",
              "      <td>0.876</td>\n",
              "      <td>359.973294</td>\n",
              "      <td>NaN</td>\n",
              "      <td>NaN</td>\n",
              "      <td>182.338802</td>\n",
              "      <td>228.030248</td>\n",
              "    </tr>\n",
              "    <tr>\n",
              "      <th>2020-09-03</th>\n",
              "      <td>0</td>\n",
              "      <td>0</td>\n",
              "      <td>0</td>\n",
              "      <td>0</td>\n",
              "      <td>2.082408e-24</td>\n",
              "      <td>8.337204e-17</td>\n",
              "      <td>7.726207e-10</td>\n",
              "      <td>0.082611</td>\n",
              "      <td>0.000112</td>\n",
              "      <td>0.002333</td>\n",
              "      <td>0</td>\n",
              "      <td>0.012289</td>\n",
              "      <td>49.132781</td>\n",
              "      <td>0.020902</td>\n",
              "      <td>0.020303</td>\n",
              "      <td>0.017910</td>\n",
              "      <td>2.453789</td>\n",
              "      <td>7.986144</td>\n",
              "      <td>17.285953</td>\n",
              "      <td>7.227416</td>\n",
              "      <td>0.033985</td>\n",
              "      <td>0.011808</td>\n",
              "      <td>0.054373</td>\n",
              "      <td>0.014422</td>\n",
              "      <td>0.973902</td>\n",
              "      <td>0.510255</td>\n",
              "      <td>2.746331</td>\n",
              "      <td>0.286630</td>\n",
              "      <td>7.014778</td>\n",
              "      <td>0.004182</td>\n",
              "      <td>1.119841</td>\n",
              "      <td>0.053469</td>\n",
              "      <td>0.000939</td>\n",
              "      <td>0.032399</td>\n",
              "      <td>0.980221</td>\n",
              "      <td>0</td>\n",
              "      <td>1.128550</td>\n",
              "      <td>0.553929</td>\n",
              "      <td>0.237443</td>\n",
              "      <td>0</td>\n",
              "      <td>...</td>\n",
              "      <td>NaN</td>\n",
              "      <td>NaN</td>\n",
              "      <td>NaN</td>\n",
              "      <td>NaN</td>\n",
              "      <td>NaN</td>\n",
              "      <td>NaN</td>\n",
              "      <td>NaN</td>\n",
              "      <td>NaN</td>\n",
              "      <td>NaN</td>\n",
              "      <td>NaN</td>\n",
              "      <td>NaN</td>\n",
              "      <td>NaN</td>\n",
              "      <td>NaN</td>\n",
              "      <td>NaN</td>\n",
              "      <td>NaN</td>\n",
              "      <td>NaN</td>\n",
              "      <td>NaN</td>\n",
              "      <td>NaN</td>\n",
              "      <td>NaN</td>\n",
              "      <td>NaN</td>\n",
              "      <td>NaN</td>\n",
              "      <td>NaN</td>\n",
              "      <td>NaN</td>\n",
              "      <td>NaN</td>\n",
              "      <td>NaN</td>\n",
              "      <td>NaN</td>\n",
              "      <td>NaN</td>\n",
              "      <td>NaN</td>\n",
              "      <td>NaN</td>\n",
              "      <td>NaN</td>\n",
              "      <td>NaN</td>\n",
              "      <td>NaN</td>\n",
              "      <td>NaN</td>\n",
              "      <td>0.871</td>\n",
              "      <td>0.876</td>\n",
              "      <td>360.169653</td>\n",
              "      <td>NaN</td>\n",
              "      <td>NaN</td>\n",
              "      <td>182.173319</td>\n",
              "      <td>227.882516</td>\n",
              "    </tr>\n",
              "    <tr>\n",
              "      <th>2020-09-04</th>\n",
              "      <td>0</td>\n",
              "      <td>0</td>\n",
              "      <td>0</td>\n",
              "      <td>0</td>\n",
              "      <td>2.094575e-24</td>\n",
              "      <td>8.385901e-17</td>\n",
              "      <td>7.771163e-10</td>\n",
              "      <td>0.182588</td>\n",
              "      <td>0.000113</td>\n",
              "      <td>0.002345</td>\n",
              "      <td>0</td>\n",
              "      <td>0.011930</td>\n",
              "      <td>48.729534</td>\n",
              "      <td>0.019896</td>\n",
              "      <td>0.019445</td>\n",
              "      <td>0.017216</td>\n",
              "      <td>2.360142</td>\n",
              "      <td>8.048828</td>\n",
              "      <td>17.434329</td>\n",
              "      <td>7.305473</td>\n",
              "      <td>0.032433</td>\n",
              "      <td>0.011907</td>\n",
              "      <td>0.050803</td>\n",
              "      <td>0.014544</td>\n",
              "      <td>0.982121</td>\n",
              "      <td>0.514568</td>\n",
              "      <td>2.769544</td>\n",
              "      <td>0.289053</td>\n",
              "      <td>7.074070</td>\n",
              "      <td>0.003896</td>\n",
              "      <td>1.129306</td>\n",
              "      <td>0.053808</td>\n",
              "      <td>0.000937</td>\n",
              "      <td>0.032159</td>\n",
              "      <td>0.978338</td>\n",
              "      <td>0</td>\n",
              "      <td>1.126383</td>\n",
              "      <td>0.562972</td>\n",
              "      <td>0.241319</td>\n",
              "      <td>0</td>\n",
              "      <td>...</td>\n",
              "      <td>NaN</td>\n",
              "      <td>NaN</td>\n",
              "      <td>NaN</td>\n",
              "      <td>NaN</td>\n",
              "      <td>NaN</td>\n",
              "      <td>NaN</td>\n",
              "      <td>NaN</td>\n",
              "      <td>NaN</td>\n",
              "      <td>NaN</td>\n",
              "      <td>NaN</td>\n",
              "      <td>NaN</td>\n",
              "      <td>NaN</td>\n",
              "      <td>NaN</td>\n",
              "      <td>NaN</td>\n",
              "      <td>NaN</td>\n",
              "      <td>NaN</td>\n",
              "      <td>NaN</td>\n",
              "      <td>NaN</td>\n",
              "      <td>NaN</td>\n",
              "      <td>NaN</td>\n",
              "      <td>NaN</td>\n",
              "      <td>NaN</td>\n",
              "      <td>NaN</td>\n",
              "      <td>NaN</td>\n",
              "      <td>NaN</td>\n",
              "      <td>NaN</td>\n",
              "      <td>NaN</td>\n",
              "      <td>NaN</td>\n",
              "      <td>NaN</td>\n",
              "      <td>NaN</td>\n",
              "      <td>NaN</td>\n",
              "      <td>NaN</td>\n",
              "      <td>NaN</td>\n",
              "      <td>0.871</td>\n",
              "      <td>0.876</td>\n",
              "      <td>364.094576</td>\n",
              "      <td>NaN</td>\n",
              "      <td>NaN</td>\n",
              "      <td>181.966652</td>\n",
              "      <td>227.734090</td>\n",
              "    </tr>\n",
              "  </tbody>\n",
              "</table>\n",
              "<p>3 rows × 171 columns</p>\n",
              "</div>"
            ],
            "text/plain": [
              "            Toluene Column C670 Operation_Combined Feed to Toluene Column C670 : Detailed weight % Composition_Hydrogen_wt%  ...  Toluene Column C670 Operation_Column Temp Profile_C670 Btm Temp (Control)_oC\n",
              "2020-09-02                                                  0                                                                ...                                         228.030248                           \n",
              "2020-09-03                                                  0                                                                ...                                         227.882516                           \n",
              "2020-09-04                                                  0                                                                ...                                         227.734090                           \n",
              "\n",
              "[3 rows x 171 columns]"
            ]
          },
          "metadata": {
            "tags": []
          },
          "execution_count": 58
        }
      ]
    },
    {
      "cell_type": "markdown",
      "metadata": {
        "id": "weDth9iWKG8e"
      },
      "source": [
        "# 缺失欄位"
      ]
    },
    {
      "cell_type": "code",
      "metadata": {
        "colab": {
          "base_uri": "https://localhost:8080/"
        },
        "id": "_p-HyDHLJq1g",
        "outputId": "595ca912-3d96-4f8b-edf6-9f29b8ce5060"
      },
      "source": [
        "miss_col = c670_df.columns[(c670_df.isnull().sum() > 0).values].tolist()\n",
        "print(len(miss_col))\n",
        "miss_col"
      ],
      "execution_count": 59,
      "outputs": [
        {
          "output_type": "stream",
          "text": [
            "84\n"
          ],
          "name": "stdout"
        },
        {
          "output_type": "execute_result",
          "data": {
            "text/plain": [
              "['Toluene Column C670 Split Factors Calculation_Split Factor for Individual Component to Toluene Column C670 Distillate_Hydrogen_Fraction',\n",
              " 'Toluene Column C670 Split Factors Calculation_Split Factor for Individual Component to Toluene Column C670 Distillate_Methane_Fraction',\n",
              " 'Toluene Column C670 Split Factors Calculation_Split Factor for Individual Component to Toluene Column C670 Distillate_Ethane_Fraction',\n",
              " 'Toluene Column C670 Split Factors Calculation_Split Factor for Individual Component to Toluene Column C670 Distillate_Propane_Fraction',\n",
              " 'Toluene Column C670 Split Factors Calculation_Split Factor for Individual Component to Toluene Column C670 Distillate_n-Butane_Fraction',\n",
              " 'Toluene Column C670 Split Factors Calculation_Split Factor for Individual Component to Toluene Column C670 Distillate_n-Pentane_Fraction',\n",
              " 'Toluene Column C670 Split Factors Calculation_Split Factor for Individual Component to Toluene Column C670 Distillate_n-Hexane_Fraction',\n",
              " 'Toluene Column C670 Split Factors Calculation_Split Factor for Individual Component to Toluene Column C670 Distillate_Benzene_Fraction',\n",
              " 'Toluene Column C670 Split Factors Calculation_Split Factor for Individual Component to Toluene Column C670 Distillate_Cyclohexane_Fraction',\n",
              " 'Toluene Column C670 Split Factors Calculation_Split Factor for Individual Component to Toluene Column C670 Distillate_n-Heptane_Fraction',\n",
              " 'Toluene Column C670 Split Factors Calculation_Split Factor for Individual Component to Toluene Column C670 Distillate_Water_Fraction',\n",
              " 'Toluene Column C670 Split Factors Calculation_Split Factor for Individual Component to Toluene Column C670 Distillate_Methylcyclohexane_Fraction',\n",
              " 'Toluene Column C670 Split Factors Calculation_Split Factor for Individual Component to Toluene Column C670 Distillate_Toluene_Fraction',\n",
              " 'Toluene Column C670 Split Factors Calculation_Split Factor for Individual Component to Toluene Column C670 Distillate_n-Octane_Fraction',\n",
              " 'Toluene Column C670 Split Factors Calculation_Split Factor for Individual Component to Toluene Column C670 Distillate_n-Propylcyclopentane_Fraction',\n",
              " 'Toluene Column C670 Split Factors Calculation_Split Factor for Individual Component to Toluene Column C670 Distillate_Ethylcyclohexane_Fraction',\n",
              " 'Toluene Column C670 Split Factors Calculation_Split Factor for Individual Component to Toluene Column C670 Distillate_Ethylbenzene_Fraction',\n",
              " 'Toluene Column C670 Split Factors Calculation_Split Factor for Individual Component to Toluene Column C670 Distillate_p-Xylene_Fraction',\n",
              " 'Toluene Column C670 Split Factors Calculation_Split Factor for Individual Component to Toluene Column C670 Distillate_m-Xylene_Fraction',\n",
              " 'Toluene Column C670 Split Factors Calculation_Split Factor for Individual Component to Toluene Column C670 Distillate_o-Xylene_Fraction',\n",
              " 'Toluene Column C670 Split Factors Calculation_Split Factor for Individual Component to Toluene Column C670 Distillate_n-Nonane_Fraction',\n",
              " 'Toluene Column C670 Split Factors Calculation_Split Factor for Individual Component to Toluene Column C670 Distillate_i-Propylbenzene_Fraction',\n",
              " 'Toluene Column C670 Split Factors Calculation_Split Factor for Individual Component to Toluene Column C670 Distillate_n-Propylcyclohexane_Fraction',\n",
              " 'Toluene Column C670 Split Factors Calculation_Split Factor for Individual Component to Toluene Column C670 Distillate_n-Propylbenzene_Fraction',\n",
              " 'Toluene Column C670 Split Factors Calculation_Split Factor for Individual Component to Toluene Column C670 Distillate_1-Methyl-3-ethylbenzene_Fraction',\n",
              " 'Toluene Column C670 Split Factors Calculation_Split Factor for Individual Component to Toluene Column C670 Distillate_1-Methyl-4-ethylbenzene_Fraction',\n",
              " 'Toluene Column C670 Split Factors Calculation_Split Factor for Individual Component to Toluene Column C670 Distillate_1,3,5-Trimethylbenzene_Fraction',\n",
              " 'Toluene Column C670 Split Factors Calculation_Split Factor for Individual Component to Toluene Column C670 Distillate_1-Methyl-2-ethylbenzene_Fraction',\n",
              " 'Toluene Column C670 Split Factors Calculation_Split Factor for Individual Component to Toluene Column C670 Distillate_1,2,4-Trimethylbenzene_Fraction',\n",
              " 'Toluene Column C670 Split Factors Calculation_Split Factor for Individual Component to Toluene Column C670 Distillate_tert-Butylcyclohexane_Fraction',\n",
              " 'Toluene Column C670 Split Factors Calculation_Split Factor for Individual Component to Toluene Column C670 Distillate_1,2,3-Trimethylbenzene_Fraction',\n",
              " 'Toluene Column C670 Split Factors Calculation_Split Factor for Individual Component to Toluene Column C670 Distillate_Indane_Fraction',\n",
              " 'Toluene Column C670 Split Factors Calculation_Split Factor for Individual Component to Toluene Column C670 Distillate_1-Methyl-4-n-propylbenzene_Fraction',\n",
              " 'Toluene Column C670 Split Factors Calculation_Split Factor for Individual Component to Toluene Column C670 Distillate_1,2-Diethylbenzene_Fraction',\n",
              " 'Toluene Column C670 Split Factors Calculation_Split Factor for Individual Component to Toluene Column C670 Distillate_5-Ethyl-m-xylene_Fraction',\n",
              " 'Toluene Column C670 Split Factors Calculation_Split Factor for Individual Component to Toluene Column C670 Distillate_1,4-Diethylbenzene_Fraction',\n",
              " 'Toluene Column C670 Split Factors Calculation_Split Factor for Individual Component to Toluene Column C670 Distillate_1,2,3,5-Tetramethylbenzene_Fraction',\n",
              " 'Toluene Column C670 Split Factors Calculation_Split Factor for Individual Component to Toluene Column C670 Distillate_n-Pentylbenzene_Fraction',\n",
              " 'Toluene Column C670 Split Factors Calculation_Split Factor for Individual Component to Toluene Column C670 Distillate_n-Hexylbenzene_Fraction',\n",
              " 'Toluene Column C670 Split Factors Calculation_Split Factor for Individual Component to Toluene Column C670 Distillate_Nitrogen_Fraction',\n",
              " 'Toluene Column C670 Split Factors Calculation_Split Factor for Individual Component to Toluene Column C670 Distillate_Oxygen_Fraction',\n",
              " 'Toluene Column C670 Split Factors Calculation_Split Factor for Individual Component to Toluene Column C670 Bottoms_Hydrogen_Fraction',\n",
              " 'Toluene Column C670 Split Factors Calculation_Split Factor for Individual Component to Toluene Column C670 Bottoms_Methane_Fraction',\n",
              " 'Toluene Column C670 Split Factors Calculation_Split Factor for Individual Component to Toluene Column C670 Bottoms_Ethane_Fraction',\n",
              " 'Toluene Column C670 Split Factors Calculation_Split Factor for Individual Component to Toluene Column C670 Bottoms_Propane_Fraction',\n",
              " 'Toluene Column C670 Split Factors Calculation_Split Factor for Individual Component to Toluene Column C670 Bottoms_n-Butane_Fraction',\n",
              " 'Toluene Column C670 Split Factors Calculation_Split Factor for Individual Component to Toluene Column C670 Bottoms_n-Pentane_Fraction',\n",
              " 'Toluene Column C670 Split Factors Calculation_Split Factor for Individual Component to Toluene Column C670 Bottoms_n-Hexane_Fraction',\n",
              " 'Toluene Column C670 Split Factors Calculation_Split Factor for Individual Component to Toluene Column C670 Bottoms_Benzene_Fraction',\n",
              " 'Toluene Column C670 Split Factors Calculation_Split Factor for Individual Component to Toluene Column C670 Bottoms_Cyclohexane_Fraction',\n",
              " 'Toluene Column C670 Split Factors Calculation_Split Factor for Individual Component to Toluene Column C670 Bottoms_n-Heptane_Fraction',\n",
              " 'Toluene Column C670 Split Factors Calculation_Split Factor for Individual Component to Toluene Column C670 Bottoms_Water_Fraction',\n",
              " 'Toluene Column C670 Split Factors Calculation_Split Factor for Individual Component to Toluene Column C670 Bottoms_Methylcyclohexane_Fraction',\n",
              " 'Toluene Column C670 Split Factors Calculation_Split Factor for Individual Component to Toluene Column C670 Bottoms_Toluene_Fraction',\n",
              " 'Toluene Column C670 Split Factors Calculation_Split Factor for Individual Component to Toluene Column C670 Bottoms_n-Octane_Fraction',\n",
              " 'Toluene Column C670 Split Factors Calculation_Split Factor for Individual Component to Toluene Column C670 Bottoms_n-Propylcyclopentane_Fraction',\n",
              " 'Toluene Column C670 Split Factors Calculation_Split Factor for Individual Component to Toluene Column C670 Bottoms_Ethylcyclohexane_Fraction',\n",
              " 'Toluene Column C670 Split Factors Calculation_Split Factor for Individual Component to Toluene Column C670 Bottoms_Ethylbenzene_Fraction',\n",
              " 'Toluene Column C670 Split Factors Calculation_Split Factor for Individual Component to Toluene Column C670 Bottoms_p-Xylene_Fraction',\n",
              " 'Toluene Column C670 Split Factors Calculation_Split Factor for Individual Component to Toluene Column C670 Bottoms_m-Xylene_Fraction',\n",
              " 'Toluene Column C670 Split Factors Calculation_Split Factor for Individual Component to Toluene Column C670 Bottoms_o-Xylene_Fraction',\n",
              " 'Toluene Column C670 Split Factors Calculation_Split Factor for Individual Component to Toluene Column C670 Bottoms_n-Nonane_Fraction',\n",
              " 'Toluene Column C670 Split Factors Calculation_Split Factor for Individual Component to Toluene Column C670 Bottoms_i-Propylbenzene_Fraction',\n",
              " 'Toluene Column C670 Split Factors Calculation_Split Factor for Individual Component to Toluene Column C670 Bottoms_n-Propylcyclohexane_Fraction',\n",
              " 'Toluene Column C670 Split Factors Calculation_Split Factor for Individual Component to Toluene Column C670 Bottoms_n-Propylbenzene_Fraction',\n",
              " 'Toluene Column C670 Split Factors Calculation_Split Factor for Individual Component to Toluene Column C670 Bottoms_1-Methyl-3-ethylbenzene_Fraction',\n",
              " 'Toluene Column C670 Split Factors Calculation_Split Factor for Individual Component to Toluene Column C670 Bottoms_1-Methyl-4-ethylbenzene_Fraction',\n",
              " 'Toluene Column C670 Split Factors Calculation_Split Factor for Individual Component to Toluene Column C670 Bottoms_1,3,5-Trimethylbenzene_Fraction',\n",
              " 'Toluene Column C670 Split Factors Calculation_Split Factor for Individual Component to Toluene Column C670 Bottoms_1-Methyl-2-ethylbenzene_Fraction',\n",
              " 'Toluene Column C670 Split Factors Calculation_Split Factor for Individual Component to Toluene Column C670 Bottoms_1,2,4-Trimethylbenzene_Fraction',\n",
              " 'Toluene Column C670 Split Factors Calculation_Split Factor for Individual Component to Toluene Column C670 Bottoms_tert-Butylcyclohexane_Fraction',\n",
              " 'Toluene Column C670 Split Factors Calculation_Split Factor for Individual Component to Toluene Column C670 Bottoms_1,2,3-Trimethylbenzene_Fraction',\n",
              " 'Toluene Column C670 Split Factors Calculation_Split Factor for Individual Component to Toluene Column C670 Bottoms_Indane_Fraction',\n",
              " 'Toluene Column C670 Split Factors Calculation_Split Factor for Individual Component to Toluene Column C670 Bottoms_1-Methyl-4-n-propylbenzene_Fraction',\n",
              " 'Toluene Column C670 Split Factors Calculation_Split Factor for Individual Component to Toluene Column C670 Bottoms_1,2-Diethylbenzene_Fraction',\n",
              " 'Toluene Column C670 Split Factors Calculation_Split Factor for Individual Component to Toluene Column C670 Bottoms_5-Ethyl-m-xylene_Fraction',\n",
              " 'Toluene Column C670 Split Factors Calculation_Split Factor for Individual Component to Toluene Column C670 Bottoms_1,4-Diethylbenzene_Fraction',\n",
              " 'Toluene Column C670 Split Factors Calculation_Split Factor for Individual Component to Toluene Column C670 Bottoms_1,2,3,5-Tetramethylbenzene_Fraction',\n",
              " 'Toluene Column C670 Split Factors Calculation_Split Factor for Individual Component to Toluene Column C670 Bottoms_n-Pentylbenzene_Fraction',\n",
              " 'Toluene Column C670 Split Factors Calculation_Split Factor for Individual Component to Toluene Column C670 Bottoms_n-Hexylbenzene_Fraction',\n",
              " 'Toluene Column C670 Split Factors Calculation_Split Factor for Individual Component to Toluene Column C670 Bottoms_Nitrogen_Fraction',\n",
              " 'Toluene Column C670 Split Factors Calculation_Split Factor for Individual Component to Toluene Column C670 Bottoms_Oxygen_Fraction',\n",
              " 'Toluene Column C670 Operation_Heat Duty_Condenser Heat Duty_Mkcal/hr',\n",
              " 'Toluene Column C670 Operation_Heat Duty_Reboiler Heat Duty_Mkcal/hr']"
            ]
          },
          "metadata": {
            "tags": []
          },
          "execution_count": 59
        }
      ]
    },
    {
      "cell_type": "markdown",
      "metadata": {
        "id": "wMJG3E0fKNc-"
      },
      "source": [
        "# 有提供欄位"
      ]
    },
    {
      "cell_type": "code",
      "metadata": {
        "colab": {
          "base_uri": "https://localhost:8080/"
        },
        "id": "OB9E7WrhJyoM",
        "outputId": "ff5dd05a-550c-4c21-ab05-d1bb44528ee8"
      },
      "source": [
        "have_col = c670_df.columns[(c670_df.isnull().sum() == 0).values].tolist()\n",
        "print(len(have_col))\n",
        "have_col"
      ],
      "execution_count": 60,
      "outputs": [
        {
          "output_type": "stream",
          "text": [
            "87\n"
          ],
          "name": "stdout"
        },
        {
          "output_type": "execute_result",
          "data": {
            "text/plain": [
              "['Toluene Column C670 Operation_Combined Feed to Toluene Column C670 : Detailed weight % Composition_Hydrogen_wt%',\n",
              " 'Toluene Column C670 Operation_Combined Feed to Toluene Column C670 : Detailed weight % Composition_Methane_wt%',\n",
              " 'Toluene Column C670 Operation_Combined Feed to Toluene Column C670 : Detailed weight % Composition_Ethane_wt%',\n",
              " 'Toluene Column C670 Operation_Combined Feed to Toluene Column C670 : Detailed weight % Composition_Propane_wt%',\n",
              " 'Toluene Column C670 Operation_Combined Feed to Toluene Column C670 : Detailed weight % Composition_n-Butane_wt%',\n",
              " 'Toluene Column C670 Operation_Combined Feed to Toluene Column C670 : Detailed weight % Composition_n-Pentane_wt%',\n",
              " 'Toluene Column C670 Operation_Combined Feed to Toluene Column C670 : Detailed weight % Composition_n-Hexane_wt%',\n",
              " 'Toluene Column C670 Operation_Combined Feed to Toluene Column C670 : Detailed weight % Composition_Benzene_wt%',\n",
              " 'Toluene Column C670 Operation_Combined Feed to Toluene Column C670 : Detailed weight % Composition_Cyclohexane_wt%',\n",
              " 'Toluene Column C670 Operation_Combined Feed to Toluene Column C670 : Detailed weight % Composition_n-Heptane_wt%',\n",
              " 'Toluene Column C670 Operation_Combined Feed to Toluene Column C670 : Detailed weight % Composition_Water_wt%',\n",
              " 'Toluene Column C670 Operation_Combined Feed to Toluene Column C670 : Detailed weight % Composition_Methylcyclohexane_wt%',\n",
              " 'Toluene Column C670 Operation_Combined Feed to Toluene Column C670 : Detailed weight % Composition_Toluene_wt%',\n",
              " 'Toluene Column C670 Operation_Combined Feed to Toluene Column C670 : Detailed weight % Composition_n-Octane_wt%',\n",
              " 'Toluene Column C670 Operation_Combined Feed to Toluene Column C670 : Detailed weight % Composition_n-Propylcyclopentane_wt%',\n",
              " 'Toluene Column C670 Operation_Combined Feed to Toluene Column C670 : Detailed weight % Composition_Ethylcyclohexane_wt%',\n",
              " 'Toluene Column C670 Operation_Combined Feed to Toluene Column C670 : Detailed weight % Composition_Ethylbenzene_wt%',\n",
              " 'Toluene Column C670 Operation_Combined Feed to Toluene Column C670 : Detailed weight % Composition_p-Xylene_wt%',\n",
              " 'Toluene Column C670 Operation_Combined Feed to Toluene Column C670 : Detailed weight % Composition_m-Xylene_wt%',\n",
              " 'Toluene Column C670 Operation_Combined Feed to Toluene Column C670 : Detailed weight % Composition_o-Xylene_wt%',\n",
              " 'Toluene Column C670 Operation_Combined Feed to Toluene Column C670 : Detailed weight % Composition_n-Nonane_wt%',\n",
              " 'Toluene Column C670 Operation_Combined Feed to Toluene Column C670 : Detailed weight % Composition_i-Propylbenzene_wt%',\n",
              " 'Toluene Column C670 Operation_Combined Feed to Toluene Column C670 : Detailed weight % Composition_n-Propylcyclohexane_wt%',\n",
              " 'Toluene Column C670 Operation_Combined Feed to Toluene Column C670 : Detailed weight % Composition_n-Propylbenzene_wt%',\n",
              " 'Toluene Column C670 Operation_Combined Feed to Toluene Column C670 : Detailed weight % Composition_1-Methyl-3-ethylbenzene_wt%',\n",
              " 'Toluene Column C670 Operation_Combined Feed to Toluene Column C670 : Detailed weight % Composition_1-Methyl-4-ethylbenzene_wt%',\n",
              " 'Toluene Column C670 Operation_Combined Feed to Toluene Column C670 : Detailed weight % Composition_1,3,5-Trimethylbenzene_wt%',\n",
              " 'Toluene Column C670 Operation_Combined Feed to Toluene Column C670 : Detailed weight % Composition_1-Methyl-2-ethylbenzene_wt%',\n",
              " 'Toluene Column C670 Operation_Combined Feed to Toluene Column C670 : Detailed weight % Composition_1,2,4-Trimethylbenzene_wt%',\n",
              " 'Toluene Column C670 Operation_Combined Feed to Toluene Column C670 : Detailed weight % Composition_tert-Butylcyclohexane_wt%',\n",
              " 'Toluene Column C670 Operation_Combined Feed to Toluene Column C670 : Detailed weight % Composition_1,2,3-Trimethylbenzene_wt%',\n",
              " 'Toluene Column C670 Operation_Combined Feed to Toluene Column C670 : Detailed weight % Composition_Indane_wt%',\n",
              " 'Toluene Column C670 Operation_Combined Feed to Toluene Column C670 : Detailed weight % Composition_1-Methyl-4-n-propylbenzene_wt%',\n",
              " 'Toluene Column C670 Operation_Combined Feed to Toluene Column C670 : Detailed weight % Composition_1,2-Diethylbenzene_wt%',\n",
              " 'Toluene Column C670 Operation_Combined Feed to Toluene Column C670 : Detailed weight % Composition_5-Ethyl-m-xylene_wt%',\n",
              " 'Toluene Column C670 Operation_Combined Feed to Toluene Column C670 : Detailed weight % Composition_1,4-Diethylbenzene_wt%',\n",
              " 'Toluene Column C670 Operation_Combined Feed to Toluene Column C670 : Detailed weight % Composition_1,2,3,5-Tetramethylbenzene_wt%',\n",
              " 'Toluene Column C670 Operation_Combined Feed to Toluene Column C670 : Detailed weight % Composition_n-Pentylbenzene_wt%',\n",
              " 'Toluene Column C670 Operation_Combined Feed to Toluene Column C670 : Detailed weight % Composition_n-Hexylbenzene_wt%',\n",
              " 'Toluene Column C670 Operation_Combined Feed to Toluene Column C670 : Detailed weight % Composition_Nitrogen_wt%',\n",
              " 'Toluene Column C670 Operation_Combined Feed to Toluene Column C670 : Detailed weight % Composition_Oxygen_wt%',\n",
              " 'Toluene Column C670 Feed Blending Factors Calculation_Upper Feed Blending Factor @ Tray 43 for Individual Component to Toluene Column C670_Hydrogen_Fraction',\n",
              " 'Toluene Column C670 Feed Blending Factors Calculation_Upper Feed Blending Factor @ Tray 43 for Individual Component to Toluene Column C670_Methane_Fraction',\n",
              " 'Toluene Column C670 Feed Blending Factors Calculation_Upper Feed Blending Factor @ Tray 43 for Individual Component to Toluene Column C670_Ethane_Fraction',\n",
              " 'Toluene Column C670 Feed Blending Factors Calculation_Upper Feed Blending Factor @ Tray 43 for Individual Component to Toluene Column C670_Propane_Fraction',\n",
              " 'Toluene Column C670 Feed Blending Factors Calculation_Upper Feed Blending Factor @ Tray 43 for Individual Component to Toluene Column C670_n-Butane_Fraction',\n",
              " 'Toluene Column C670 Feed Blending Factors Calculation_Upper Feed Blending Factor @ Tray 43 for Individual Component to Toluene Column C670_n-Pentane_Fraction',\n",
              " 'Toluene Column C670 Feed Blending Factors Calculation_Upper Feed Blending Factor @ Tray 43 for Individual Component to Toluene Column C670_n-Hexane_Fraction',\n",
              " 'Toluene Column C670 Feed Blending Factors Calculation_Upper Feed Blending Factor @ Tray 43 for Individual Component to Toluene Column C670_Benzene_Fraction',\n",
              " 'Toluene Column C670 Feed Blending Factors Calculation_Upper Feed Blending Factor @ Tray 43 for Individual Component to Toluene Column C670_Cyclohexane_Fraction',\n",
              " 'Toluene Column C670 Feed Blending Factors Calculation_Upper Feed Blending Factor @ Tray 43 for Individual Component to Toluene Column C670_n-Heptane_Fraction',\n",
              " 'Toluene Column C670 Feed Blending Factors Calculation_Upper Feed Blending Factor @ Tray 43 for Individual Component to Toluene Column C670_Water_Fraction',\n",
              " 'Toluene Column C670 Feed Blending Factors Calculation_Upper Feed Blending Factor @ Tray 43 for Individual Component to Toluene Column C670_Methylcyclohexane_Fraction',\n",
              " 'Toluene Column C670 Feed Blending Factors Calculation_Upper Feed Blending Factor @ Tray 43 for Individual Component to Toluene Column C670_Toluene_Fraction',\n",
              " 'Toluene Column C670 Feed Blending Factors Calculation_Upper Feed Blending Factor @ Tray 43 for Individual Component to Toluene Column C670_n-Octane_Fraction',\n",
              " 'Toluene Column C670 Feed Blending Factors Calculation_Upper Feed Blending Factor @ Tray 43 for Individual Component to Toluene Column C670_n-Propylcyclopentane_Fraction',\n",
              " 'Toluene Column C670 Feed Blending Factors Calculation_Upper Feed Blending Factor @ Tray 43 for Individual Component to Toluene Column C670_Ethylcyclohexane_Fraction',\n",
              " 'Toluene Column C670 Feed Blending Factors Calculation_Upper Feed Blending Factor @ Tray 43 for Individual Component to Toluene Column C670_Ethylbenzene_Fraction',\n",
              " 'Toluene Column C670 Feed Blending Factors Calculation_Upper Feed Blending Factor @ Tray 43 for Individual Component to Toluene Column C670_p-Xylene_Fraction',\n",
              " 'Toluene Column C670 Feed Blending Factors Calculation_Upper Feed Blending Factor @ Tray 43 for Individual Component to Toluene Column C670_m-Xylene_Fraction',\n",
              " 'Toluene Column C670 Feed Blending Factors Calculation_Upper Feed Blending Factor @ Tray 43 for Individual Component to Toluene Column C670_o-Xylene_Fraction',\n",
              " 'Toluene Column C670 Feed Blending Factors Calculation_Upper Feed Blending Factor @ Tray 43 for Individual Component to Toluene Column C670_n-Nonane_Fraction',\n",
              " 'Toluene Column C670 Feed Blending Factors Calculation_Upper Feed Blending Factor @ Tray 43 for Individual Component to Toluene Column C670_i-Propylbenzene_Fraction',\n",
              " 'Toluene Column C670 Feed Blending Factors Calculation_Upper Feed Blending Factor @ Tray 43 for Individual Component to Toluene Column C670_n-Propylcyclohexane_Fraction',\n",
              " 'Toluene Column C670 Feed Blending Factors Calculation_Upper Feed Blending Factor @ Tray 43 for Individual Component to Toluene Column C670_n-Propylbenzene_Fraction',\n",
              " 'Toluene Column C670 Feed Blending Factors Calculation_Upper Feed Blending Factor @ Tray 43 for Individual Component to Toluene Column C670_1-Methyl-3-ethylbenzene_Fraction',\n",
              " 'Toluene Column C670 Feed Blending Factors Calculation_Upper Feed Blending Factor @ Tray 43 for Individual Component to Toluene Column C670_1-Methyl-4-ethylbenzene_Fraction',\n",
              " 'Toluene Column C670 Feed Blending Factors Calculation_Upper Feed Blending Factor @ Tray 43 for Individual Component to Toluene Column C670_1,3,5-Trimethylbenzene_Fraction',\n",
              " 'Toluene Column C670 Feed Blending Factors Calculation_Upper Feed Blending Factor @ Tray 43 for Individual Component to Toluene Column C670_1-Methyl-2-ethylbenzene_Fraction',\n",
              " 'Toluene Column C670 Feed Blending Factors Calculation_Upper Feed Blending Factor @ Tray 43 for Individual Component to Toluene Column C670_1,2,4-Trimethylbenzene_Fraction',\n",
              " 'Toluene Column C670 Feed Blending Factors Calculation_Upper Feed Blending Factor @ Tray 43 for Individual Component to Toluene Column C670_tert-Butylcyclohexane_Fraction',\n",
              " 'Toluene Column C670 Feed Blending Factors Calculation_Upper Feed Blending Factor @ Tray 43 for Individual Component to Toluene Column C670_1,2,3-Trimethylbenzene_Fraction',\n",
              " 'Toluene Column C670 Feed Blending Factors Calculation_Upper Feed Blending Factor @ Tray 43 for Individual Component to Toluene Column C670_Indane_Fraction',\n",
              " 'Toluene Column C670 Feed Blending Factors Calculation_Upper Feed Blending Factor @ Tray 43 for Individual Component to Toluene Column C670_1-Methyl-4-n-propylbenzene_Fraction',\n",
              " 'Toluene Column C670 Feed Blending Factors Calculation_Upper Feed Blending Factor @ Tray 43 for Individual Component to Toluene Column C670_1,2-Diethylbenzene_Fraction',\n",
              " 'Toluene Column C670 Feed Blending Factors Calculation_Upper Feed Blending Factor @ Tray 43 for Individual Component to Toluene Column C670_5-Ethyl-m-xylene_Fraction',\n",
              " 'Toluene Column C670 Feed Blending Factors Calculation_Upper Feed Blending Factor @ Tray 43 for Individual Component to Toluene Column C670_1,4-Diethylbenzene_Fraction',\n",
              " 'Toluene Column C670 Feed Blending Factors Calculation_Upper Feed Blending Factor @ Tray 43 for Individual Component to Toluene Column C670_1,2,3,5-Tetramethylbenzene_Fraction',\n",
              " 'Toluene Column C670 Feed Blending Factors Calculation_Upper Feed Blending Factor @ Tray 43 for Individual Component to Toluene Column C670_n-Pentylbenzene_Fraction',\n",
              " 'Toluene Column C670 Feed Blending Factors Calculation_Upper Feed Blending Factor @ Tray 43 for Individual Component to Toluene Column C670_n-Hexylbenzene_Fraction',\n",
              " 'Toluene Column C670 Feed Blending Factors Calculation_Upper Feed Blending Factor @ Tray 43 for Individual Component to Toluene Column C670_Nitrogen_Fraction',\n",
              " 'Toluene Column C670 Feed Blending Factors Calculation_Upper Feed Blending Factor @ Tray 43 for Individual Component to Toluene Column C670_Oxygen_Fraction',\n",
              " 'Density_Distillate Production Rate and Composition',\n",
              " 'Density_Bottoms Production Rate and Composition',\n",
              " 'Toluene Column C670 Operation_Yield \\nSummary_Reflux Rate_m3/hr',\n",
              " 'Toluene Column C670 Operation_Column Temp Profile_C670 Tray 24 (Control)_oC',\n",
              " 'Toluene Column C670 Operation_Column Temp Profile_C670 Btm Temp (Control)_oC']"
            ]
          },
          "metadata": {
            "tags": []
          },
          "execution_count": 60
        }
      ]
    },
    {
      "cell_type": "code",
      "metadata": {
        "id": "IaMoBXdSKQ83"
      },
      "source": [
        "x_col = c['combined'] + c['upper_bf']\n",
        "op_col = c['density']+c['yRefluxRate']+c['yHeatDuty']+c['yControl']"
      ],
      "execution_count": 62,
      "outputs": []
    },
    {
      "cell_type": "code",
      "metadata": {
        "colab": {
          "base_uri": "https://localhost:8080/",
          "height": 508
        },
        "id": "iuQwgUDJPyAt",
        "outputId": "b2d7df99-1612-4fdb-aa39-0158a49817c7"
      },
      "source": [
        "c670_df[x_col].head()"
      ],
      "execution_count": 63,
      "outputs": [
        {
          "output_type": "execute_result",
          "data": {
            "text/html": [
              "<div>\n",
              "<style scoped>\n",
              "    .dataframe tbody tr th:only-of-type {\n",
              "        vertical-align: middle;\n",
              "    }\n",
              "\n",
              "    .dataframe tbody tr th {\n",
              "        vertical-align: top;\n",
              "    }\n",
              "\n",
              "    .dataframe thead th {\n",
              "        text-align: right;\n",
              "    }\n",
              "</style>\n",
              "<table border=\"1\" class=\"dataframe\">\n",
              "  <thead>\n",
              "    <tr style=\"text-align: right;\">\n",
              "      <th></th>\n",
              "      <th>Toluene Column C670 Operation_Combined Feed to Toluene Column C670 : Detailed weight % Composition_Hydrogen_wt%</th>\n",
              "      <th>Toluene Column C670 Operation_Combined Feed to Toluene Column C670 : Detailed weight % Composition_Methane_wt%</th>\n",
              "      <th>Toluene Column C670 Operation_Combined Feed to Toluene Column C670 : Detailed weight % Composition_Ethane_wt%</th>\n",
              "      <th>Toluene Column C670 Operation_Combined Feed to Toluene Column C670 : Detailed weight % Composition_Propane_wt%</th>\n",
              "      <th>Toluene Column C670 Operation_Combined Feed to Toluene Column C670 : Detailed weight % Composition_n-Butane_wt%</th>\n",
              "      <th>Toluene Column C670 Operation_Combined Feed to Toluene Column C670 : Detailed weight % Composition_n-Pentane_wt%</th>\n",
              "      <th>Toluene Column C670 Operation_Combined Feed to Toluene Column C670 : Detailed weight % Composition_n-Hexane_wt%</th>\n",
              "      <th>Toluene Column C670 Operation_Combined Feed to Toluene Column C670 : Detailed weight % Composition_Benzene_wt%</th>\n",
              "      <th>Toluene Column C670 Operation_Combined Feed to Toluene Column C670 : Detailed weight % Composition_Cyclohexane_wt%</th>\n",
              "      <th>Toluene Column C670 Operation_Combined Feed to Toluene Column C670 : Detailed weight % Composition_n-Heptane_wt%</th>\n",
              "      <th>Toluene Column C670 Operation_Combined Feed to Toluene Column C670 : Detailed weight % Composition_Water_wt%</th>\n",
              "      <th>Toluene Column C670 Operation_Combined Feed to Toluene Column C670 : Detailed weight % Composition_Methylcyclohexane_wt%</th>\n",
              "      <th>Toluene Column C670 Operation_Combined Feed to Toluene Column C670 : Detailed weight % Composition_Toluene_wt%</th>\n",
              "      <th>Toluene Column C670 Operation_Combined Feed to Toluene Column C670 : Detailed weight % Composition_n-Octane_wt%</th>\n",
              "      <th>Toluene Column C670 Operation_Combined Feed to Toluene Column C670 : Detailed weight % Composition_n-Propylcyclopentane_wt%</th>\n",
              "      <th>Toluene Column C670 Operation_Combined Feed to Toluene Column C670 : Detailed weight % Composition_Ethylcyclohexane_wt%</th>\n",
              "      <th>Toluene Column C670 Operation_Combined Feed to Toluene Column C670 : Detailed weight % Composition_Ethylbenzene_wt%</th>\n",
              "      <th>Toluene Column C670 Operation_Combined Feed to Toluene Column C670 : Detailed weight % Composition_p-Xylene_wt%</th>\n",
              "      <th>Toluene Column C670 Operation_Combined Feed to Toluene Column C670 : Detailed weight % Composition_m-Xylene_wt%</th>\n",
              "      <th>Toluene Column C670 Operation_Combined Feed to Toluene Column C670 : Detailed weight % Composition_o-Xylene_wt%</th>\n",
              "      <th>Toluene Column C670 Operation_Combined Feed to Toluene Column C670 : Detailed weight % Composition_n-Nonane_wt%</th>\n",
              "      <th>Toluene Column C670 Operation_Combined Feed to Toluene Column C670 : Detailed weight % Composition_i-Propylbenzene_wt%</th>\n",
              "      <th>Toluene Column C670 Operation_Combined Feed to Toluene Column C670 : Detailed weight % Composition_n-Propylcyclohexane_wt%</th>\n",
              "      <th>Toluene Column C670 Operation_Combined Feed to Toluene Column C670 : Detailed weight % Composition_n-Propylbenzene_wt%</th>\n",
              "      <th>Toluene Column C670 Operation_Combined Feed to Toluene Column C670 : Detailed weight % Composition_1-Methyl-3-ethylbenzene_wt%</th>\n",
              "      <th>Toluene Column C670 Operation_Combined Feed to Toluene Column C670 : Detailed weight % Composition_1-Methyl-4-ethylbenzene_wt%</th>\n",
              "      <th>Toluene Column C670 Operation_Combined Feed to Toluene Column C670 : Detailed weight % Composition_1,3,5-Trimethylbenzene_wt%</th>\n",
              "      <th>Toluene Column C670 Operation_Combined Feed to Toluene Column C670 : Detailed weight % Composition_1-Methyl-2-ethylbenzene_wt%</th>\n",
              "      <th>Toluene Column C670 Operation_Combined Feed to Toluene Column C670 : Detailed weight % Composition_1,2,4-Trimethylbenzene_wt%</th>\n",
              "      <th>Toluene Column C670 Operation_Combined Feed to Toluene Column C670 : Detailed weight % Composition_tert-Butylcyclohexane_wt%</th>\n",
              "      <th>Toluene Column C670 Operation_Combined Feed to Toluene Column C670 : Detailed weight % Composition_1,2,3-Trimethylbenzene_wt%</th>\n",
              "      <th>Toluene Column C670 Operation_Combined Feed to Toluene Column C670 : Detailed weight % Composition_Indane_wt%</th>\n",
              "      <th>Toluene Column C670 Operation_Combined Feed to Toluene Column C670 : Detailed weight % Composition_1-Methyl-4-n-propylbenzene_wt%</th>\n",
              "      <th>Toluene Column C670 Operation_Combined Feed to Toluene Column C670 : Detailed weight % Composition_1,2-Diethylbenzene_wt%</th>\n",
              "      <th>Toluene Column C670 Operation_Combined Feed to Toluene Column C670 : Detailed weight % Composition_5-Ethyl-m-xylene_wt%</th>\n",
              "      <th>Toluene Column C670 Operation_Combined Feed to Toluene Column C670 : Detailed weight % Composition_1,4-Diethylbenzene_wt%</th>\n",
              "      <th>Toluene Column C670 Operation_Combined Feed to Toluene Column C670 : Detailed weight % Composition_1,2,3,5-Tetramethylbenzene_wt%</th>\n",
              "      <th>Toluene Column C670 Operation_Combined Feed to Toluene Column C670 : Detailed weight % Composition_n-Pentylbenzene_wt%</th>\n",
              "      <th>Toluene Column C670 Operation_Combined Feed to Toluene Column C670 : Detailed weight % Composition_n-Hexylbenzene_wt%</th>\n",
              "      <th>Toluene Column C670 Operation_Combined Feed to Toluene Column C670 : Detailed weight % Composition_Nitrogen_wt%</th>\n",
              "      <th>...</th>\n",
              "      <th>Toluene Column C670 Feed Blending Factors Calculation_Upper Feed Blending Factor @ Tray 43 for Individual Component to Toluene Column C670_Methane_Fraction</th>\n",
              "      <th>Toluene Column C670 Feed Blending Factors Calculation_Upper Feed Blending Factor @ Tray 43 for Individual Component to Toluene Column C670_Ethane_Fraction</th>\n",
              "      <th>Toluene Column C670 Feed Blending Factors Calculation_Upper Feed Blending Factor @ Tray 43 for Individual Component to Toluene Column C670_Propane_Fraction</th>\n",
              "      <th>Toluene Column C670 Feed Blending Factors Calculation_Upper Feed Blending Factor @ Tray 43 for Individual Component to Toluene Column C670_n-Butane_Fraction</th>\n",
              "      <th>Toluene Column C670 Feed Blending Factors Calculation_Upper Feed Blending Factor @ Tray 43 for Individual Component to Toluene Column C670_n-Pentane_Fraction</th>\n",
              "      <th>Toluene Column C670 Feed Blending Factors Calculation_Upper Feed Blending Factor @ Tray 43 for Individual Component to Toluene Column C670_n-Hexane_Fraction</th>\n",
              "      <th>Toluene Column C670 Feed Blending Factors Calculation_Upper Feed Blending Factor @ Tray 43 for Individual Component to Toluene Column C670_Benzene_Fraction</th>\n",
              "      <th>Toluene Column C670 Feed Blending Factors Calculation_Upper Feed Blending Factor @ Tray 43 for Individual Component to Toluene Column C670_Cyclohexane_Fraction</th>\n",
              "      <th>Toluene Column C670 Feed Blending Factors Calculation_Upper Feed Blending Factor @ Tray 43 for Individual Component to Toluene Column C670_n-Heptane_Fraction</th>\n",
              "      <th>Toluene Column C670 Feed Blending Factors Calculation_Upper Feed Blending Factor @ Tray 43 for Individual Component to Toluene Column C670_Water_Fraction</th>\n",
              "      <th>Toluene Column C670 Feed Blending Factors Calculation_Upper Feed Blending Factor @ Tray 43 for Individual Component to Toluene Column C670_Methylcyclohexane_Fraction</th>\n",
              "      <th>Toluene Column C670 Feed Blending Factors Calculation_Upper Feed Blending Factor @ Tray 43 for Individual Component to Toluene Column C670_Toluene_Fraction</th>\n",
              "      <th>Toluene Column C670 Feed Blending Factors Calculation_Upper Feed Blending Factor @ Tray 43 for Individual Component to Toluene Column C670_n-Octane_Fraction</th>\n",
              "      <th>Toluene Column C670 Feed Blending Factors Calculation_Upper Feed Blending Factor @ Tray 43 for Individual Component to Toluene Column C670_n-Propylcyclopentane_Fraction</th>\n",
              "      <th>Toluene Column C670 Feed Blending Factors Calculation_Upper Feed Blending Factor @ Tray 43 for Individual Component to Toluene Column C670_Ethylcyclohexane_Fraction</th>\n",
              "      <th>Toluene Column C670 Feed Blending Factors Calculation_Upper Feed Blending Factor @ Tray 43 for Individual Component to Toluene Column C670_Ethylbenzene_Fraction</th>\n",
              "      <th>Toluene Column C670 Feed Blending Factors Calculation_Upper Feed Blending Factor @ Tray 43 for Individual Component to Toluene Column C670_p-Xylene_Fraction</th>\n",
              "      <th>Toluene Column C670 Feed Blending Factors Calculation_Upper Feed Blending Factor @ Tray 43 for Individual Component to Toluene Column C670_m-Xylene_Fraction</th>\n",
              "      <th>Toluene Column C670 Feed Blending Factors Calculation_Upper Feed Blending Factor @ Tray 43 for Individual Component to Toluene Column C670_o-Xylene_Fraction</th>\n",
              "      <th>Toluene Column C670 Feed Blending Factors Calculation_Upper Feed Blending Factor @ Tray 43 for Individual Component to Toluene Column C670_n-Nonane_Fraction</th>\n",
              "      <th>Toluene Column C670 Feed Blending Factors Calculation_Upper Feed Blending Factor @ Tray 43 for Individual Component to Toluene Column C670_i-Propylbenzene_Fraction</th>\n",
              "      <th>Toluene Column C670 Feed Blending Factors Calculation_Upper Feed Blending Factor @ Tray 43 for Individual Component to Toluene Column C670_n-Propylcyclohexane_Fraction</th>\n",
              "      <th>Toluene Column C670 Feed Blending Factors Calculation_Upper Feed Blending Factor @ Tray 43 for Individual Component to Toluene Column C670_n-Propylbenzene_Fraction</th>\n",
              "      <th>Toluene Column C670 Feed Blending Factors Calculation_Upper Feed Blending Factor @ Tray 43 for Individual Component to Toluene Column C670_1-Methyl-3-ethylbenzene_Fraction</th>\n",
              "      <th>Toluene Column C670 Feed Blending Factors Calculation_Upper Feed Blending Factor @ Tray 43 for Individual Component to Toluene Column C670_1-Methyl-4-ethylbenzene_Fraction</th>\n",
              "      <th>Toluene Column C670 Feed Blending Factors Calculation_Upper Feed Blending Factor @ Tray 43 for Individual Component to Toluene Column C670_1,3,5-Trimethylbenzene_Fraction</th>\n",
              "      <th>Toluene Column C670 Feed Blending Factors Calculation_Upper Feed Blending Factor @ Tray 43 for Individual Component to Toluene Column C670_1-Methyl-2-ethylbenzene_Fraction</th>\n",
              "      <th>Toluene Column C670 Feed Blending Factors Calculation_Upper Feed Blending Factor @ Tray 43 for Individual Component to Toluene Column C670_1,2,4-Trimethylbenzene_Fraction</th>\n",
              "      <th>Toluene Column C670 Feed Blending Factors Calculation_Upper Feed Blending Factor @ Tray 43 for Individual Component to Toluene Column C670_tert-Butylcyclohexane_Fraction</th>\n",
              "      <th>Toluene Column C670 Feed Blending Factors Calculation_Upper Feed Blending Factor @ Tray 43 for Individual Component to Toluene Column C670_1,2,3-Trimethylbenzene_Fraction</th>\n",
              "      <th>Toluene Column C670 Feed Blending Factors Calculation_Upper Feed Blending Factor @ Tray 43 for Individual Component to Toluene Column C670_Indane_Fraction</th>\n",
              "      <th>Toluene Column C670 Feed Blending Factors Calculation_Upper Feed Blending Factor @ Tray 43 for Individual Component to Toluene Column C670_1-Methyl-4-n-propylbenzene_Fraction</th>\n",
              "      <th>Toluene Column C670 Feed Blending Factors Calculation_Upper Feed Blending Factor @ Tray 43 for Individual Component to Toluene Column C670_1,2-Diethylbenzene_Fraction</th>\n",
              "      <th>Toluene Column C670 Feed Blending Factors Calculation_Upper Feed Blending Factor @ Tray 43 for Individual Component to Toluene Column C670_5-Ethyl-m-xylene_Fraction</th>\n",
              "      <th>Toluene Column C670 Feed Blending Factors Calculation_Upper Feed Blending Factor @ Tray 43 for Individual Component to Toluene Column C670_1,4-Diethylbenzene_Fraction</th>\n",
              "      <th>Toluene Column C670 Feed Blending Factors Calculation_Upper Feed Blending Factor @ Tray 43 for Individual Component to Toluene Column C670_1,2,3,5-Tetramethylbenzene_Fraction</th>\n",
              "      <th>Toluene Column C670 Feed Blending Factors Calculation_Upper Feed Blending Factor @ Tray 43 for Individual Component to Toluene Column C670_n-Pentylbenzene_Fraction</th>\n",
              "      <th>Toluene Column C670 Feed Blending Factors Calculation_Upper Feed Blending Factor @ Tray 43 for Individual Component to Toluene Column C670_n-Hexylbenzene_Fraction</th>\n",
              "      <th>Toluene Column C670 Feed Blending Factors Calculation_Upper Feed Blending Factor @ Tray 43 for Individual Component to Toluene Column C670_Nitrogen_Fraction</th>\n",
              "      <th>Toluene Column C670 Feed Blending Factors Calculation_Upper Feed Blending Factor @ Tray 43 for Individual Component to Toluene Column C670_Oxygen_Fraction</th>\n",
              "    </tr>\n",
              "  </thead>\n",
              "  <tbody>\n",
              "    <tr>\n",
              "      <th>2020-09-02</th>\n",
              "      <td>0</td>\n",
              "      <td>0</td>\n",
              "      <td>0</td>\n",
              "      <td>0</td>\n",
              "      <td>2.158924e-24</td>\n",
              "      <td>8.643537e-17</td>\n",
              "      <td>8.010011e-10</td>\n",
              "      <td>0.062633</td>\n",
              "      <td>0.000116</td>\n",
              "      <td>0.002418</td>\n",
              "      <td>0</td>\n",
              "      <td>0.012543</td>\n",
              "      <td>49.236480</td>\n",
              "      <td>0.021154</td>\n",
              "      <td>0.020603</td>\n",
              "      <td>0.018202</td>\n",
              "      <td>2.535826</td>\n",
              "      <td>8.019157</td>\n",
              "      <td>17.326736</td>\n",
              "      <td>7.233702</td>\n",
              "      <td>0.034433</td>\n",
              "      <td>0.011729</td>\n",
              "      <td>0.054592</td>\n",
              "      <td>0.014325</td>\n",
              "      <td>0.967473</td>\n",
              "      <td>0.506846</td>\n",
              "      <td>2.727985</td>\n",
              "      <td>0.284715</td>\n",
              "      <td>6.967916</td>\n",
              "      <td>0.004194</td>\n",
              "      <td>1.112360</td>\n",
              "      <td>0.053811</td>\n",
              "      <td>0.000863</td>\n",
              "      <td>0.032203</td>\n",
              "      <td>0.900565</td>\n",
              "      <td>0</td>\n",
              "      <td>1.036842</td>\n",
              "      <td>0.559674</td>\n",
              "      <td>0.239905</td>\n",
              "      <td>0</td>\n",
              "      <td>...</td>\n",
              "      <td>0.1</td>\n",
              "      <td>0.1</td>\n",
              "      <td>0.1</td>\n",
              "      <td>0.1</td>\n",
              "      <td>0.1</td>\n",
              "      <td>0.1</td>\n",
              "      <td>0.002847</td>\n",
              "      <td>0.000456</td>\n",
              "      <td>0.008618</td>\n",
              "      <td>0.1</td>\n",
              "      <td>0.464422</td>\n",
              "      <td>0.305387</td>\n",
              "      <td>0.720872</td>\n",
              "      <td>0.640940</td>\n",
              "      <td>0.593209</td>\n",
              "      <td>0.590061</td>\n",
              "      <td>0.041445</td>\n",
              "      <td>0.037313</td>\n",
              "      <td>0.024722</td>\n",
              "      <td>0.687526</td>\n",
              "      <td>0</td>\n",
              "      <td>0.962739</td>\n",
              "      <td>0</td>\n",
              "      <td>0.000442</td>\n",
              "      <td>0</td>\n",
              "      <td>0</td>\n",
              "      <td>0</td>\n",
              "      <td>0</td>\n",
              "      <td>1</td>\n",
              "      <td>0</td>\n",
              "      <td>0.071571</td>\n",
              "      <td>0</td>\n",
              "      <td>0.276840</td>\n",
              "      <td>0</td>\n",
              "      <td>0</td>\n",
              "      <td>0</td>\n",
              "      <td>0</td>\n",
              "      <td>0</td>\n",
              "      <td>1</td>\n",
              "      <td>1</td>\n",
              "    </tr>\n",
              "    <tr>\n",
              "      <th>2020-09-03</th>\n",
              "      <td>0</td>\n",
              "      <td>0</td>\n",
              "      <td>0</td>\n",
              "      <td>0</td>\n",
              "      <td>2.082408e-24</td>\n",
              "      <td>8.337204e-17</td>\n",
              "      <td>7.726207e-10</td>\n",
              "      <td>0.082611</td>\n",
              "      <td>0.000112</td>\n",
              "      <td>0.002333</td>\n",
              "      <td>0</td>\n",
              "      <td>0.012289</td>\n",
              "      <td>49.132781</td>\n",
              "      <td>0.020902</td>\n",
              "      <td>0.020303</td>\n",
              "      <td>0.017910</td>\n",
              "      <td>2.453789</td>\n",
              "      <td>7.986144</td>\n",
              "      <td>17.285953</td>\n",
              "      <td>7.227416</td>\n",
              "      <td>0.033985</td>\n",
              "      <td>0.011808</td>\n",
              "      <td>0.054373</td>\n",
              "      <td>0.014422</td>\n",
              "      <td>0.973902</td>\n",
              "      <td>0.510255</td>\n",
              "      <td>2.746331</td>\n",
              "      <td>0.286630</td>\n",
              "      <td>7.014778</td>\n",
              "      <td>0.004182</td>\n",
              "      <td>1.119841</td>\n",
              "      <td>0.053469</td>\n",
              "      <td>0.000939</td>\n",
              "      <td>0.032399</td>\n",
              "      <td>0.980221</td>\n",
              "      <td>0</td>\n",
              "      <td>1.128550</td>\n",
              "      <td>0.553929</td>\n",
              "      <td>0.237443</td>\n",
              "      <td>0</td>\n",
              "      <td>...</td>\n",
              "      <td>0.1</td>\n",
              "      <td>0.1</td>\n",
              "      <td>0.1</td>\n",
              "      <td>0.1</td>\n",
              "      <td>0.1</td>\n",
              "      <td>0.1</td>\n",
              "      <td>0.002134</td>\n",
              "      <td>0.000472</td>\n",
              "      <td>0.008907</td>\n",
              "      <td>0.1</td>\n",
              "      <td>0.472711</td>\n",
              "      <td>0.305394</td>\n",
              "      <td>0.727522</td>\n",
              "      <td>0.648565</td>\n",
              "      <td>0.601217</td>\n",
              "      <td>0.573346</td>\n",
              "      <td>0.037970</td>\n",
              "      <td>0.034779</td>\n",
              "      <td>0.023661</td>\n",
              "      <td>0.694633</td>\n",
              "      <td>0</td>\n",
              "      <td>0.963915</td>\n",
              "      <td>0</td>\n",
              "      <td>0.000362</td>\n",
              "      <td>0</td>\n",
              "      <td>0</td>\n",
              "      <td>0</td>\n",
              "      <td>0</td>\n",
              "      <td>1</td>\n",
              "      <td>0</td>\n",
              "      <td>0.059350</td>\n",
              "      <td>0</td>\n",
              "      <td>0.217657</td>\n",
              "      <td>0</td>\n",
              "      <td>0</td>\n",
              "      <td>0</td>\n",
              "      <td>0</td>\n",
              "      <td>0</td>\n",
              "      <td>1</td>\n",
              "      <td>1</td>\n",
              "    </tr>\n",
              "    <tr>\n",
              "      <th>2020-09-04</th>\n",
              "      <td>0</td>\n",
              "      <td>0</td>\n",
              "      <td>0</td>\n",
              "      <td>0</td>\n",
              "      <td>2.094575e-24</td>\n",
              "      <td>8.385901e-17</td>\n",
              "      <td>7.771163e-10</td>\n",
              "      <td>0.182588</td>\n",
              "      <td>0.000113</td>\n",
              "      <td>0.002345</td>\n",
              "      <td>0</td>\n",
              "      <td>0.011930</td>\n",
              "      <td>48.729534</td>\n",
              "      <td>0.019896</td>\n",
              "      <td>0.019445</td>\n",
              "      <td>0.017216</td>\n",
              "      <td>2.360142</td>\n",
              "      <td>8.048828</td>\n",
              "      <td>17.434329</td>\n",
              "      <td>7.305473</td>\n",
              "      <td>0.032433</td>\n",
              "      <td>0.011907</td>\n",
              "      <td>0.050803</td>\n",
              "      <td>0.014544</td>\n",
              "      <td>0.982121</td>\n",
              "      <td>0.514568</td>\n",
              "      <td>2.769544</td>\n",
              "      <td>0.289053</td>\n",
              "      <td>7.074070</td>\n",
              "      <td>0.003896</td>\n",
              "      <td>1.129306</td>\n",
              "      <td>0.053808</td>\n",
              "      <td>0.000937</td>\n",
              "      <td>0.032159</td>\n",
              "      <td>0.978338</td>\n",
              "      <td>0</td>\n",
              "      <td>1.126383</td>\n",
              "      <td>0.562972</td>\n",
              "      <td>0.241319</td>\n",
              "      <td>0</td>\n",
              "      <td>...</td>\n",
              "      <td>0.1</td>\n",
              "      <td>0.1</td>\n",
              "      <td>0.1</td>\n",
              "      <td>0.1</td>\n",
              "      <td>0.1</td>\n",
              "      <td>0.1</td>\n",
              "      <td>0.000939</td>\n",
              "      <td>0.000437</td>\n",
              "      <td>0.008256</td>\n",
              "      <td>0.1</td>\n",
              "      <td>0.453665</td>\n",
              "      <td>0.301506</td>\n",
              "      <td>0.712073</td>\n",
              "      <td>0.630911</td>\n",
              "      <td>0.582714</td>\n",
              "      <td>0.557336</td>\n",
              "      <td>0.034731</td>\n",
              "      <td>0.032166</td>\n",
              "      <td>0.022771</td>\n",
              "      <td>0.678144</td>\n",
              "      <td>0</td>\n",
              "      <td>0.961154</td>\n",
              "      <td>0</td>\n",
              "      <td>0.000349</td>\n",
              "      <td>0</td>\n",
              "      <td>0</td>\n",
              "      <td>0</td>\n",
              "      <td>0</td>\n",
              "      <td>1</td>\n",
              "      <td>0</td>\n",
              "      <td>0.057371</td>\n",
              "      <td>0</td>\n",
              "      <td>0.213315</td>\n",
              "      <td>0</td>\n",
              "      <td>0</td>\n",
              "      <td>0</td>\n",
              "      <td>0</td>\n",
              "      <td>0</td>\n",
              "      <td>1</td>\n",
              "      <td>1</td>\n",
              "    </tr>\n",
              "    <tr>\n",
              "      <th>2020-09-05</th>\n",
              "      <td>0</td>\n",
              "      <td>0</td>\n",
              "      <td>0</td>\n",
              "      <td>0</td>\n",
              "      <td>1.641990e-24</td>\n",
              "      <td>6.573961e-17</td>\n",
              "      <td>6.092549e-10</td>\n",
              "      <td>1.015805</td>\n",
              "      <td>0.000088</td>\n",
              "      <td>0.001843</td>\n",
              "      <td>0</td>\n",
              "      <td>0.010610</td>\n",
              "      <td>49.719069</td>\n",
              "      <td>0.018891</td>\n",
              "      <td>0.018096</td>\n",
              "      <td>0.015828</td>\n",
              "      <td>2.344632</td>\n",
              "      <td>7.892804</td>\n",
              "      <td>17.081834</td>\n",
              "      <td>7.186795</td>\n",
              "      <td>0.030538</td>\n",
              "      <td>0.011171</td>\n",
              "      <td>0.051178</td>\n",
              "      <td>0.013643</td>\n",
              "      <td>0.921396</td>\n",
              "      <td>0.482723</td>\n",
              "      <td>2.598147</td>\n",
              "      <td>0.271164</td>\n",
              "      <td>6.636281</td>\n",
              "      <td>0.003960</td>\n",
              "      <td>1.059418</td>\n",
              "      <td>0.050968</td>\n",
              "      <td>0.000840</td>\n",
              "      <td>0.026431</td>\n",
              "      <td>0.876601</td>\n",
              "      <td>0</td>\n",
              "      <td>1.009251</td>\n",
              "      <td>0.454970</td>\n",
              "      <td>0.195024</td>\n",
              "      <td>0</td>\n",
              "      <td>...</td>\n",
              "      <td>0.1</td>\n",
              "      <td>0.1</td>\n",
              "      <td>0.1</td>\n",
              "      <td>0.1</td>\n",
              "      <td>0.1</td>\n",
              "      <td>0.1</td>\n",
              "      <td>0.000185</td>\n",
              "      <td>0.000567</td>\n",
              "      <td>0.010678</td>\n",
              "      <td>0.1</td>\n",
              "      <td>0.518459</td>\n",
              "      <td>0.327867</td>\n",
              "      <td>0.762279</td>\n",
              "      <td>0.689090</td>\n",
              "      <td>0.644207</td>\n",
              "      <td>0.573764</td>\n",
              "      <td>0.036472</td>\n",
              "      <td>0.033484</td>\n",
              "      <td>0.024347</td>\n",
              "      <td>0.732041</td>\n",
              "      <td>0</td>\n",
              "      <td>0.969771</td>\n",
              "      <td>0</td>\n",
              "      <td>0.000408</td>\n",
              "      <td>0</td>\n",
              "      <td>0</td>\n",
              "      <td>0</td>\n",
              "      <td>0</td>\n",
              "      <td>1</td>\n",
              "      <td>0</td>\n",
              "      <td>0.066447</td>\n",
              "      <td>0</td>\n",
              "      <td>0.142370</td>\n",
              "      <td>0</td>\n",
              "      <td>0</td>\n",
              "      <td>0</td>\n",
              "      <td>0</td>\n",
              "      <td>0</td>\n",
              "      <td>1</td>\n",
              "      <td>1</td>\n",
              "    </tr>\n",
              "    <tr>\n",
              "      <th>2020-09-06</th>\n",
              "      <td>0</td>\n",
              "      <td>0</td>\n",
              "      <td>0</td>\n",
              "      <td>0</td>\n",
              "      <td>1.630298e-24</td>\n",
              "      <td>6.527155e-17</td>\n",
              "      <td>6.049220e-10</td>\n",
              "      <td>1.169919</td>\n",
              "      <td>0.000088</td>\n",
              "      <td>0.001830</td>\n",
              "      <td>0</td>\n",
              "      <td>0.010658</td>\n",
              "      <td>50.224061</td>\n",
              "      <td>0.019078</td>\n",
              "      <td>0.018246</td>\n",
              "      <td>0.015943</td>\n",
              "      <td>2.317130</td>\n",
              "      <td>7.825480</td>\n",
              "      <td>16.900020</td>\n",
              "      <td>7.124312</td>\n",
              "      <td>0.030821</td>\n",
              "      <td>0.010822</td>\n",
              "      <td>0.051923</td>\n",
              "      <td>0.013217</td>\n",
              "      <td>0.892635</td>\n",
              "      <td>0.467643</td>\n",
              "      <td>2.516980</td>\n",
              "      <td>0.262693</td>\n",
              "      <td>6.428961</td>\n",
              "      <td>0.004020</td>\n",
              "      <td>1.026321</td>\n",
              "      <td>0.049589</td>\n",
              "      <td>0.000784</td>\n",
              "      <td>0.025048</td>\n",
              "      <td>0.818507</td>\n",
              "      <td>0</td>\n",
              "      <td>0.942365</td>\n",
              "      <td>0.581603</td>\n",
              "      <td>0.249305</td>\n",
              "      <td>0</td>\n",
              "      <td>...</td>\n",
              "      <td>0.1</td>\n",
              "      <td>0.1</td>\n",
              "      <td>0.1</td>\n",
              "      <td>0.1</td>\n",
              "      <td>0.1</td>\n",
              "      <td>0.1</td>\n",
              "      <td>0.000166</td>\n",
              "      <td>0.000579</td>\n",
              "      <td>0.010916</td>\n",
              "      <td>0.1</td>\n",
              "      <td>0.524014</td>\n",
              "      <td>0.334866</td>\n",
              "      <td>0.766290</td>\n",
              "      <td>0.693839</td>\n",
              "      <td>0.649292</td>\n",
              "      <td>0.603110</td>\n",
              "      <td>0.038197</td>\n",
              "      <td>0.034340</td>\n",
              "      <td>0.025065</td>\n",
              "      <td>0.736385</td>\n",
              "      <td>0</td>\n",
              "      <td>0.970417</td>\n",
              "      <td>0</td>\n",
              "      <td>0.000435</td>\n",
              "      <td>0</td>\n",
              "      <td>0</td>\n",
              "      <td>0</td>\n",
              "      <td>0</td>\n",
              "      <td>1</td>\n",
              "      <td>0</td>\n",
              "      <td>0.070453</td>\n",
              "      <td>0</td>\n",
              "      <td>0.154981</td>\n",
              "      <td>0</td>\n",
              "      <td>0</td>\n",
              "      <td>0</td>\n",
              "      <td>0</td>\n",
              "      <td>0</td>\n",
              "      <td>1</td>\n",
              "      <td>1</td>\n",
              "    </tr>\n",
              "  </tbody>\n",
              "</table>\n",
              "<p>5 rows × 82 columns</p>\n",
              "</div>"
            ],
            "text/plain": [
              "            Toluene Column C670 Operation_Combined Feed to Toluene Column C670 : Detailed weight % Composition_Hydrogen_wt%  ...  Toluene Column C670 Feed Blending Factors Calculation_Upper Feed Blending Factor @ Tray 43 for Individual Component to Toluene Column C670_Oxygen_Fraction\n",
              "2020-09-02                                                  0                                                                ...                                                  1                                                                                                         \n",
              "2020-09-03                                                  0                                                                ...                                                  1                                                                                                         \n",
              "2020-09-04                                                  0                                                                ...                                                  1                                                                                                         \n",
              "2020-09-05                                                  0                                                                ...                                                  1                                                                                                         \n",
              "2020-09-06                                                  0                                                                ...                                                  1                                                                                                         \n",
              "\n",
              "[5 rows x 82 columns]"
            ]
          },
          "metadata": {
            "tags": []
          },
          "execution_count": 63
        }
      ]
    },
    {
      "cell_type": "code",
      "metadata": {
        "colab": {
          "base_uri": "https://localhost:8080/",
          "height": 340
        },
        "id": "Gt9j9LEGP0Rc",
        "outputId": "c3a4bec0-4ea1-4792-dafb-2f3a5ebdbb3d"
      },
      "source": [
        "c670_df[op_col].head()"
      ],
      "execution_count": 64,
      "outputs": [
        {
          "output_type": "execute_result",
          "data": {
            "text/html": [
              "<div>\n",
              "<style scoped>\n",
              "    .dataframe tbody tr th:only-of-type {\n",
              "        vertical-align: middle;\n",
              "    }\n",
              "\n",
              "    .dataframe tbody tr th {\n",
              "        vertical-align: top;\n",
              "    }\n",
              "\n",
              "    .dataframe thead th {\n",
              "        text-align: right;\n",
              "    }\n",
              "</style>\n",
              "<table border=\"1\" class=\"dataframe\">\n",
              "  <thead>\n",
              "    <tr style=\"text-align: right;\">\n",
              "      <th></th>\n",
              "      <th>Density_Distillate Production Rate and Composition</th>\n",
              "      <th>Density_Bottoms Production Rate and Composition</th>\n",
              "      <th>Toluene Column C670 Operation_Yield \\nSummary_Reflux Rate_m3/hr</th>\n",
              "      <th>Toluene Column C670 Operation_Heat Duty_Condenser Heat Duty_Mkcal/hr</th>\n",
              "      <th>Toluene Column C670 Operation_Heat Duty_Reboiler Heat Duty_Mkcal/hr</th>\n",
              "      <th>Toluene Column C670 Operation_Column Temp Profile_C670 Tray 24 (Control)_oC</th>\n",
              "      <th>Toluene Column C670 Operation_Column Temp Profile_C670 Btm Temp (Control)_oC</th>\n",
              "    </tr>\n",
              "  </thead>\n",
              "  <tbody>\n",
              "    <tr>\n",
              "      <th>2020-09-02</th>\n",
              "      <td>0.871</td>\n",
              "      <td>0.876</td>\n",
              "      <td>359.973294</td>\n",
              "      <td>NaN</td>\n",
              "      <td>NaN</td>\n",
              "      <td>182.338802</td>\n",
              "      <td>228.030248</td>\n",
              "    </tr>\n",
              "    <tr>\n",
              "      <th>2020-09-03</th>\n",
              "      <td>0.871</td>\n",
              "      <td>0.876</td>\n",
              "      <td>360.169653</td>\n",
              "      <td>NaN</td>\n",
              "      <td>NaN</td>\n",
              "      <td>182.173319</td>\n",
              "      <td>227.882516</td>\n",
              "    </tr>\n",
              "    <tr>\n",
              "      <th>2020-09-04</th>\n",
              "      <td>0.871</td>\n",
              "      <td>0.876</td>\n",
              "      <td>364.094576</td>\n",
              "      <td>NaN</td>\n",
              "      <td>NaN</td>\n",
              "      <td>181.966652</td>\n",
              "      <td>227.734090</td>\n",
              "    </tr>\n",
              "    <tr>\n",
              "      <th>2020-09-05</th>\n",
              "      <td>0.871</td>\n",
              "      <td>0.876</td>\n",
              "      <td>366.551051</td>\n",
              "      <td>NaN</td>\n",
              "      <td>NaN</td>\n",
              "      <td>182.871303</td>\n",
              "      <td>228.661995</td>\n",
              "    </tr>\n",
              "    <tr>\n",
              "      <th>2020-09-06</th>\n",
              "      <td>0.871</td>\n",
              "      <td>0.876</td>\n",
              "      <td>356.315479</td>\n",
              "      <td>NaN</td>\n",
              "      <td>NaN</td>\n",
              "      <td>182.011838</td>\n",
              "      <td>227.636594</td>\n",
              "    </tr>\n",
              "  </tbody>\n",
              "</table>\n",
              "</div>"
            ],
            "text/plain": [
              "            Density_Distillate Production Rate and Composition  ...  Toluene Column C670 Operation_Column Temp Profile_C670 Btm Temp (Control)_oC\n",
              "2020-09-02                                              0.871   ...                                         228.030248                           \n",
              "2020-09-03                                              0.871   ...                                         227.882516                           \n",
              "2020-09-04                                              0.871   ...                                         227.734090                           \n",
              "2020-09-05                                              0.871   ...                                         228.661995                           \n",
              "2020-09-06                                              0.871   ...                                         227.636594                           \n",
              "\n",
              "[5 rows x 7 columns]"
            ]
          },
          "metadata": {
            "tags": []
          },
          "execution_count": 64
        }
      ]
    },
    {
      "cell_type": "code",
      "metadata": {
        "colab": {
          "base_uri": "https://localhost:8080/"
        },
        "id": "lxpcFN1TRah1",
        "outputId": "79a211ba-04d9-4040-870c-9e01ceedfc5e"
      },
      "source": [
        "y_col = c670_df[op_col].dropna(axis=1).columns.tolist()\n",
        "y_col"
      ],
      "execution_count": 65,
      "outputs": [
        {
          "output_type": "execute_result",
          "data": {
            "text/plain": [
              "['Density_Distillate Production Rate and Composition',\n",
              " 'Density_Bottoms Production Rate and Composition',\n",
              " 'Toluene Column C670 Operation_Yield \\nSummary_Reflux Rate_m3/hr',\n",
              " 'Toluene Column C670 Operation_Column Temp Profile_C670 Tray 24 (Control)_oC',\n",
              " 'Toluene Column C670 Operation_Column Temp Profile_C670 Btm Temp (Control)_oC']"
            ]
          },
          "metadata": {
            "tags": []
          },
          "execution_count": 65
        }
      ]
    },
    {
      "cell_type": "code",
      "metadata": {
        "colab": {
          "base_uri": "https://localhost:8080/",
          "height": 306
        },
        "id": "ZDfnT6YLRmYz",
        "outputId": "944ad217-ccd1-4e7f-f21e-bfa9ad5707c4"
      },
      "source": [
        "c670_df[y_col].head()"
      ],
      "execution_count": 66,
      "outputs": [
        {
          "output_type": "execute_result",
          "data": {
            "text/html": [
              "<div>\n",
              "<style scoped>\n",
              "    .dataframe tbody tr th:only-of-type {\n",
              "        vertical-align: middle;\n",
              "    }\n",
              "\n",
              "    .dataframe tbody tr th {\n",
              "        vertical-align: top;\n",
              "    }\n",
              "\n",
              "    .dataframe thead th {\n",
              "        text-align: right;\n",
              "    }\n",
              "</style>\n",
              "<table border=\"1\" class=\"dataframe\">\n",
              "  <thead>\n",
              "    <tr style=\"text-align: right;\">\n",
              "      <th></th>\n",
              "      <th>Density_Distillate Production Rate and Composition</th>\n",
              "      <th>Density_Bottoms Production Rate and Composition</th>\n",
              "      <th>Toluene Column C670 Operation_Yield \\nSummary_Reflux Rate_m3/hr</th>\n",
              "      <th>Toluene Column C670 Operation_Column Temp Profile_C670 Tray 24 (Control)_oC</th>\n",
              "      <th>Toluene Column C670 Operation_Column Temp Profile_C670 Btm Temp (Control)_oC</th>\n",
              "    </tr>\n",
              "  </thead>\n",
              "  <tbody>\n",
              "    <tr>\n",
              "      <th>2020-09-02</th>\n",
              "      <td>0.871</td>\n",
              "      <td>0.876</td>\n",
              "      <td>359.973294</td>\n",
              "      <td>182.338802</td>\n",
              "      <td>228.030248</td>\n",
              "    </tr>\n",
              "    <tr>\n",
              "      <th>2020-09-03</th>\n",
              "      <td>0.871</td>\n",
              "      <td>0.876</td>\n",
              "      <td>360.169653</td>\n",
              "      <td>182.173319</td>\n",
              "      <td>227.882516</td>\n",
              "    </tr>\n",
              "    <tr>\n",
              "      <th>2020-09-04</th>\n",
              "      <td>0.871</td>\n",
              "      <td>0.876</td>\n",
              "      <td>364.094576</td>\n",
              "      <td>181.966652</td>\n",
              "      <td>227.734090</td>\n",
              "    </tr>\n",
              "    <tr>\n",
              "      <th>2020-09-05</th>\n",
              "      <td>0.871</td>\n",
              "      <td>0.876</td>\n",
              "      <td>366.551051</td>\n",
              "      <td>182.871303</td>\n",
              "      <td>228.661995</td>\n",
              "    </tr>\n",
              "    <tr>\n",
              "      <th>2020-09-06</th>\n",
              "      <td>0.871</td>\n",
              "      <td>0.876</td>\n",
              "      <td>356.315479</td>\n",
              "      <td>182.011838</td>\n",
              "      <td>227.636594</td>\n",
              "    </tr>\n",
              "  </tbody>\n",
              "</table>\n",
              "</div>"
            ],
            "text/plain": [
              "            Density_Distillate Production Rate and Composition  ...  Toluene Column C670 Operation_Column Temp Profile_C670 Btm Temp (Control)_oC\n",
              "2020-09-02                                              0.871   ...                                         228.030248                           \n",
              "2020-09-03                                              0.871   ...                                         227.882516                           \n",
              "2020-09-04                                              0.871   ...                                         227.734090                           \n",
              "2020-09-05                                              0.871   ...                                         228.661995                           \n",
              "2020-09-06                                              0.871   ...                                         227.636594                           \n",
              "\n",
              "[5 rows x 5 columns]"
            ]
          },
          "metadata": {
            "tags": []
          },
          "execution_count": 66
        }
      ]
    },
    {
      "cell_type": "markdown",
      "metadata": {
        "id": "a18T2VrXRvtx"
      },
      "source": [
        "# 1. 實驗直接訓練 (不使用預訓練模型)"
      ]
    },
    {
      "cell_type": "code",
      "metadata": {
        "colab": {
          "base_uri": "https://localhost:8080/",
          "height": 401
        },
        "id": "s6icTkbYQiJF",
        "outputId": "1e1fb43c-5853-4ca1-81c4-152531b0bb42"
      },
      "source": [
        "from autorch.utils import PartBulider\n",
        "c670 = PartBulider(c670_df,x_col,y_col,limit_y_range=True)\n",
        "c670.train()"
      ],
      "execution_count": 67,
      "outputs": [
        {
          "output_type": "stream",
          "text": [
            "  7%|▋         | 21/300 [00:00<00:02, 97.74it/s]"
          ],
          "name": "stderr"
        },
        {
          "output_type": "stream",
          "text": [
            "epoch:0 train_loss:0.0468 valid_loss:0.0269\n"
          ],
          "name": "stdout"
        },
        {
          "output_type": "stream",
          "text": [
            " 21%|██        | 62/300 [00:00<00:02, 100.11it/s]"
          ],
          "name": "stderr"
        },
        {
          "output_type": "stream",
          "text": [
            "epoch:50 train_loss:0.0015 valid_loss:0.0066\n"
          ],
          "name": "stdout"
        },
        {
          "output_type": "stream",
          "text": [
            " 38%|███▊      | 115/300 [00:01<00:01, 95.12it/s] "
          ],
          "name": "stderr"
        },
        {
          "output_type": "stream",
          "text": [
            "epoch:100 train_loss:0.0012 valid_loss:0.0066\n"
          ],
          "name": "stdout"
        },
        {
          "output_type": "stream",
          "text": [
            " 55%|█████▍    | 164/300 [00:01<00:01, 90.66it/s]"
          ],
          "name": "stderr"
        },
        {
          "output_type": "stream",
          "text": [
            "epoch:150 train_loss:0.0009 valid_loss:0.0067\n"
          ],
          "name": "stdout"
        },
        {
          "output_type": "stream",
          "text": [
            " 72%|███████▏  | 215/300 [00:02<00:00, 92.13it/s]"
          ],
          "name": "stderr"
        },
        {
          "output_type": "stream",
          "text": [
            "epoch:200 train_loss:0.0008 valid_loss:0.0070\n"
          ],
          "name": "stdout"
        },
        {
          "output_type": "stream",
          "text": [
            " 86%|████████▋ | 259/300 [00:02<00:00, 75.41it/s]"
          ],
          "name": "stderr"
        },
        {
          "output_type": "stream",
          "text": [
            "epoch:250 train_loss:0.0007 valid_loss:0.0073\n"
          ],
          "name": "stdout"
        },
        {
          "output_type": "stream",
          "text": [
            "100%|██████████| 300/300 [00:03<00:00, 87.58it/s]\n"
          ],
          "name": "stderr"
        },
        {
          "output_type": "display_data",
          "data": {
            "image/png": "[encoded data removed]",
            "text/plain": [
              "<Figure size 432x288 with 1 Axes>"
            ]
          },
          "metadata": {
            "tags": [],
            "needs_background": "light"
          }
        },
        {
          "output_type": "execute_result",
          "data": {
            "text/plain": [
              "<autorch.utils.part.PartBulider at 0x7f912c940290>"
            ]
          },
          "metadata": {
            "tags": []
          },
          "execution_count": 67
        }
      ]
    },
    {
      "cell_type": "code",
      "metadata": {
        "colab": {
          "base_uri": "https://localhost:8080/",
          "height": 235
        },
        "id": "BzLHL_YsQkMC",
        "outputId": "8bf53570-acc2-477c-adc6-b10ec673dca5"
      },
      "source": [
        "c670.test(e=2e-2)"
      ],
      "execution_count": 68,
      "outputs": [
        {
          "output_type": "execute_result",
          "data": {
            "text/html": [
              "<div>\n",
              "<style scoped>\n",
              "    .dataframe tbody tr th:only-of-type {\n",
              "        vertical-align: middle;\n",
              "    }\n",
              "\n",
              "    .dataframe tbody tr th {\n",
              "        vertical-align: top;\n",
              "    }\n",
              "\n",
              "    .dataframe thead th {\n",
              "        text-align: right;\n",
              "    }\n",
              "</style>\n",
              "<table border=\"1\" class=\"dataframe\">\n",
              "  <thead>\n",
              "    <tr style=\"text-align: right;\">\n",
              "      <th></th>\n",
              "      <th>R2</th>\n",
              "      <th>MSE</th>\n",
              "      <th>MAPE</th>\n",
              "    </tr>\n",
              "  </thead>\n",
              "  <tbody>\n",
              "    <tr>\n",
              "      <th>Density_Distillate Production Rate and Composition</th>\n",
              "      <td>0</td>\n",
              "      <td>5.69196e-06</td>\n",
              "      <td>0.239884</td>\n",
              "    </tr>\n",
              "    <tr>\n",
              "      <th>Density_Bottoms Production Rate and Composition</th>\n",
              "      <td>0.0552537</td>\n",
              "      <td>1.5495e-06</td>\n",
              "      <td>0.0506826</td>\n",
              "    </tr>\n",
              "    <tr>\n",
              "      <th>Toluene Column C670 Operation_Yield \\nSummary_Reflux Rate_m3/hr</th>\n",
              "      <td>0.830837</td>\n",
              "      <td>24.3672</td>\n",
              "      <td>0.98152</td>\n",
              "    </tr>\n",
              "    <tr>\n",
              "      <th>Toluene Column C670 Operation_Column Temp Profile_C670 Tray 24 (Control)_oC</th>\n",
              "      <td>0</td>\n",
              "      <td>0.809349</td>\n",
              "      <td>0.394479</td>\n",
              "    </tr>\n",
              "    <tr>\n",
              "      <th>Toluene Column C670 Operation_Column Temp Profile_C670 Btm Temp (Control)_oC</th>\n",
              "      <td>0.854178</td>\n",
              "      <td>0.800869</td>\n",
              "      <td>0.320263</td>\n",
              "    </tr>\n",
              "    <tr>\n",
              "      <th>AVG</th>\n",
              "      <td>0.348054</td>\n",
              "      <td>5.19549</td>\n",
              "      <td>0.397366</td>\n",
              "    </tr>\n",
              "  </tbody>\n",
              "</table>\n",
              "</div>"
            ],
            "text/plain": [
              "                                                           R2  ...       MAPE\n",
              "Density_Distillate Production Rate and Composition          0  ...   0.239884\n",
              "Density_Bottoms Production Rate and Composition     0.0552537  ...  0.0506826\n",
              "Toluene Column C670 Operation_Yield \\nSummary_R...   0.830837  ...    0.98152\n",
              "Toluene Column C670 Operation_Column Temp Profi...          0  ...   0.394479\n",
              "Toluene Column C670 Operation_Column Temp Profi...   0.854178  ...   0.320263\n",
              "AVG                                                  0.348054  ...   0.397366\n",
              "\n",
              "[6 rows x 3 columns]"
            ]
          },
          "metadata": {
            "tags": []
          },
          "execution_count": 68
        }
      ]
    },
    {
      "cell_type": "markdown",
      "metadata": {
        "id": "hACfpgAOSCJJ"
      },
      "source": [
        "# 2.使用預訓練模型"
      ]
    },
    {
      "cell_type": "markdown",
      "metadata": {
        "id": "WeKSkdwaTJfO"
      },
      "source": [
        "2.1 用模擬數據先預訓練一個模型"
      ]
    },
    {
      "cell_type": "code",
      "metadata": {
        "colab": {
          "base_uri": "https://localhost:8080/",
          "height": 401
        },
        "id": "7Y4PRpDKQkO0",
        "outputId": "d4cf13ef-6ced-411c-b02b-35a4a4c65a8e"
      },
      "source": [
        "c670_df = pd.read_csv('/content/drive/MyDrive/台塑輕油案子/data/c620/cleaned/c670_train.csv',index_col=0).dropna(axis=0)\n",
        "c670 = PartBulider(c670_df,x_col,y_col,limit_y_range=True)\n",
        "c670.train()"
      ],
      "execution_count": 69,
      "outputs": [
        {
          "output_type": "stream",
          "text": [
            "  0%|          | 1/300 [00:00<03:22,  1.48it/s]"
          ],
          "name": "stderr"
        },
        {
          "output_type": "stream",
          "text": [
            "epoch:0 train_loss:0.0029 valid_loss:0.0002\n"
          ],
          "name": "stdout"
        },
        {
          "output_type": "stream",
          "text": [
            " 17%|█▋        | 51/300 [00:39<03:19,  1.25it/s]"
          ],
          "name": "stderr"
        },
        {
          "output_type": "stream",
          "text": [
            "epoch:50 train_loss:0.0000 valid_loss:0.0000\n"
          ],
          "name": "stdout"
        },
        {
          "output_type": "stream",
          "text": [
            " 34%|███▎      | 101/300 [01:20<02:44,  1.21it/s]"
          ],
          "name": "stderr"
        },
        {
          "output_type": "stream",
          "text": [
            "epoch:100 train_loss:0.0000 valid_loss:0.0000\n"
          ],
          "name": "stdout"
        },
        {
          "output_type": "stream",
          "text": [
            " 50%|█████     | 151/300 [02:04<02:14,  1.11it/s]"
          ],
          "name": "stderr"
        },
        {
          "output_type": "stream",
          "text": [
            "epoch:150 train_loss:0.0000 valid_loss:0.0000\n"
          ],
          "name": "stdout"
        },
        {
          "output_type": "stream",
          "text": [
            " 67%|██████▋   | 201/300 [02:51<01:37,  1.02it/s]"
          ],
          "name": "stderr"
        },
        {
          "output_type": "stream",
          "text": [
            "epoch:200 train_loss:0.0000 valid_loss:0.0000\n"
          ],
          "name": "stdout"
        },
        {
          "output_type": "stream",
          "text": [
            " 84%|████████▎ | 251/300 [03:43<00:52,  1.07s/it]"
          ],
          "name": "stderr"
        },
        {
          "output_type": "stream",
          "text": [
            "epoch:250 train_loss:0.0000 valid_loss:0.0000\n"
          ],
          "name": "stdout"
        },
        {
          "output_type": "stream",
          "text": [
            "100%|██████████| 300/300 [04:38<00:00,  1.08it/s]\n"
          ],
          "name": "stderr"
        },
        {
          "output_type": "display_data",
          "data": {
            "image/png": "[encoded data removed]",
            "text/plain": [
              "<Figure size 432x288 with 1 Axes>"
            ]
          },
          "metadata": {
            "tags": [],
            "needs_background": "light"
          }
        },
        {
          "output_type": "execute_result",
          "data": {
            "text/plain": [
              "<autorch.utils.part.PartBulider at 0x7f912d50c7d0>"
            ]
          },
          "metadata": {
            "tags": []
          },
          "execution_count": 69
        }
      ]
    },
    {
      "cell_type": "code",
      "metadata": {
        "colab": {
          "base_uri": "https://localhost:8080/",
          "height": 235
        },
        "id": "bixk9_ejTdCp",
        "outputId": "ef55f27f-4119-4320-c512-e584826777be"
      },
      "source": [
        "c670.test(e=2e-2)"
      ],
      "execution_count": 70,
      "outputs": [
        {
          "output_type": "execute_result",
          "data": {
            "text/html": [
              "<div>\n",
              "<style scoped>\n",
              "    .dataframe tbody tr th:only-of-type {\n",
              "        vertical-align: middle;\n",
              "    }\n",
              "\n",
              "    .dataframe tbody tr th {\n",
              "        vertical-align: top;\n",
              "    }\n",
              "\n",
              "    .dataframe thead th {\n",
              "        text-align: right;\n",
              "    }\n",
              "</style>\n",
              "<table border=\"1\" class=\"dataframe\">\n",
              "  <thead>\n",
              "    <tr style=\"text-align: right;\">\n",
              "      <th></th>\n",
              "      <th>R2</th>\n",
              "      <th>MSE</th>\n",
              "      <th>MAPE</th>\n",
              "    </tr>\n",
              "  </thead>\n",
              "  <tbody>\n",
              "    <tr>\n",
              "      <th>Density_Distillate Production Rate and Composition</th>\n",
              "      <td>0.999964</td>\n",
              "      <td>2.99081e-14</td>\n",
              "      <td>1.58738e-05</td>\n",
              "    </tr>\n",
              "    <tr>\n",
              "      <th>Density_Bottoms Production Rate and Composition</th>\n",
              "      <td>0.999988</td>\n",
              "      <td>2.18274e-12</td>\n",
              "      <td>0.000123178</td>\n",
              "    </tr>\n",
              "    <tr>\n",
              "      <th>Toluene Column C670 Operation_Yield \\nSummary_Reflux Rate_m3/hr</th>\n",
              "      <td>0.999906</td>\n",
              "      <td>0.0582473</td>\n",
              "      <td>0.0657458</td>\n",
              "    </tr>\n",
              "    <tr>\n",
              "      <th>Toluene Column C670 Operation_Column Temp Profile_C670 Tray 24 (Control)_oC</th>\n",
              "      <td>0.999935</td>\n",
              "      <td>3.77937e-06</td>\n",
              "      <td>0.000787404</td>\n",
              "    </tr>\n",
              "    <tr>\n",
              "      <th>Toluene Column C670 Operation_Column Temp Profile_C670 Btm Temp (Control)_oC</th>\n",
              "      <td>0.999974</td>\n",
              "      <td>7.12319e-05</td>\n",
              "      <td>0.002627</td>\n",
              "    </tr>\n",
              "    <tr>\n",
              "      <th>AVG</th>\n",
              "      <td>0.999953</td>\n",
              "      <td>0.0116645</td>\n",
              "      <td>0.0138599</td>\n",
              "    </tr>\n",
              "  </tbody>\n",
              "</table>\n",
              "</div>"
            ],
            "text/plain": [
              "                                                          R2  ...         MAPE\n",
              "Density_Distillate Production Rate and Composition  0.999964  ...  1.58738e-05\n",
              "Density_Bottoms Production Rate and Composition     0.999988  ...  0.000123178\n",
              "Toluene Column C670 Operation_Yield \\nSummary_R...  0.999906  ...    0.0657458\n",
              "Toluene Column C670 Operation_Column Temp Profi...  0.999935  ...  0.000787404\n",
              "Toluene Column C670 Operation_Column Temp Profi...  0.999974  ...     0.002627\n",
              "AVG                                                 0.999953  ...    0.0138599\n",
              "\n",
              "[6 rows x 3 columns]"
            ]
          },
          "metadata": {
            "tags": []
          },
          "execution_count": 70
        }
      ]
    },
    {
      "cell_type": "markdown",
      "metadata": {
        "id": "Dp2QVIWITP77"
      },
      "source": [
        "2.2 把預訓練好的模型抽出來"
      ]
    },
    {
      "cell_type": "code",
      "metadata": {
        "colab": {
          "base_uri": "https://localhost:8080/"
        },
        "id": "zVYPD8gxQkR2",
        "outputId": "89594b4b-71bd-4696-d749-b67edf5e6619"
      },
      "source": [
        "import copy\n",
        "from copy import deepcopy\n",
        "pretrain_net = deepcopy(c670.net)\n",
        "pretrain_net"
      ],
      "execution_count": 71,
      "outputs": [
        {
          "output_type": "execute_result",
          "data": {
            "text/plain": [
              "Sequential(\n",
              "  (0): Linear(in_features=82, out_features=256, bias=True)\n",
              "  (1): ReLU()\n",
              "  (2): Linear(in_features=256, out_features=256, bias=True)\n",
              "  (3): ReLU()\n",
              "  (4): Linear(in_features=256, out_features=5, bias=True)\n",
              "  (5): Sigmoid()\n",
              ")"
            ]
          },
          "metadata": {
            "tags": []
          },
          "execution_count": 71
        }
      ]
    },
    {
      "cell_type": "markdown",
      "metadata": {
        "id": "LZK_slJWUVDg"
      },
      "source": [
        "2.3 在預訓練模型上丟進真實資料繼續訓練"
      ]
    },
    {
      "cell_type": "code",
      "metadata": {
        "colab": {
          "base_uri": "https://localhost:8080/",
          "height": 401
        },
        "id": "viiNO3m2UAIl",
        "outputId": "9f0f910a-b636-44e3-96b3-f3adb8ce8d7f"
      },
      "source": [
        "from torch.optim import Adam\n",
        "c670_df = pd.read_excel('/content/drive/MyDrive/台塑輕油案子/data/c620/明志_遷移式學習_訓練資料_寄送版/c670_data.xlsx',index_col=0)\n",
        "c670 = PartBulider(c670_df,x_col,y_col,limit_y_range=True)\n",
        "c670.net = pretrain_net\n",
        "c670.optimizer = Adam(c670.net.parameters(),lr=0.001)\n",
        "c670.train()"
      ],
      "execution_count": 78,
      "outputs": [
        {
          "output_type": "stream",
          "text": [
            "  6%|▋         | 19/300 [00:00<00:03, 85.33it/s]"
          ],
          "name": "stderr"
        },
        {
          "output_type": "stream",
          "text": [
            "epoch:0 train_loss:0.0022 valid_loss:0.0022\n"
          ],
          "name": "stdout"
        },
        {
          "output_type": "stream",
          "text": [
            " 23%|██▎       | 69/300 [00:00<00:02, 93.75it/s]"
          ],
          "name": "stderr"
        },
        {
          "output_type": "stream",
          "text": [
            "epoch:50 train_loss:0.0006 valid_loss:0.0011\n"
          ],
          "name": "stdout"
        },
        {
          "output_type": "stream",
          "text": [
            " 40%|███▉      | 119/300 [00:01<00:01, 92.24it/s]"
          ],
          "name": "stderr"
        },
        {
          "output_type": "stream",
          "text": [
            "epoch:100 train_loss:0.0006 valid_loss:0.0012\n"
          ],
          "name": "stdout"
        },
        {
          "output_type": "stream",
          "text": [
            " 56%|█████▋    | 169/300 [00:01<00:01, 91.66it/s]"
          ],
          "name": "stderr"
        },
        {
          "output_type": "stream",
          "text": [
            "epoch:150 train_loss:0.0006 valid_loss:0.0016\n"
          ],
          "name": "stdout"
        },
        {
          "output_type": "stream",
          "text": [
            " 73%|███████▎  | 219/300 [00:02<00:00, 95.05it/s]"
          ],
          "name": "stderr"
        },
        {
          "output_type": "stream",
          "text": [
            "epoch:200 train_loss:0.0005 valid_loss:0.0016\n"
          ],
          "name": "stdout"
        },
        {
          "output_type": "stream",
          "text": [
            " 90%|████████▉ | 269/300 [00:02<00:00, 91.82it/s]"
          ],
          "name": "stderr"
        },
        {
          "output_type": "stream",
          "text": [
            "epoch:250 train_loss:0.0004 valid_loss:0.0016\n"
          ],
          "name": "stdout"
        },
        {
          "output_type": "stream",
          "text": [
            "100%|██████████| 300/300 [00:03<00:00, 92.36it/s]\n"
          ],
          "name": "stderr"
        },
        {
          "output_type": "display_data",
          "data": {
            "image/png": "[encoded data removed]",
            "text/plain": [
              "<Figure size 432x288 with 1 Axes>"
            ]
          },
          "metadata": {
            "tags": [],
            "needs_background": "light"
          }
        },
        {
          "output_type": "execute_result",
          "data": {
            "text/plain": [
              "<autorch.utils.part.PartBulider at 0x7f912ceb7e50>"
            ]
          },
          "metadata": {
            "tags": []
          },
          "execution_count": 78
        }
      ]
    },
    {
      "cell_type": "code",
      "metadata": {
        "colab": {
          "base_uri": "https://localhost:8080/",
          "height": 235
        },
        "id": "ANAtT_f_QkUy",
        "outputId": "09d2c26e-22dc-4941-a66f-829b1639090c"
      },
      "source": [
        "c670.test(e=2e-2)"
      ],
      "execution_count": 79,
      "outputs": [
        {
          "output_type": "execute_result",
          "data": {
            "text/html": [
              "<div>\n",
              "<style scoped>\n",
              "    .dataframe tbody tr th:only-of-type {\n",
              "        vertical-align: middle;\n",
              "    }\n",
              "\n",
              "    .dataframe tbody tr th {\n",
              "        vertical-align: top;\n",
              "    }\n",
              "\n",
              "    .dataframe thead th {\n",
              "        text-align: right;\n",
              "    }\n",
              "</style>\n",
              "<table border=\"1\" class=\"dataframe\">\n",
              "  <thead>\n",
              "    <tr style=\"text-align: right;\">\n",
              "      <th></th>\n",
              "      <th>R2</th>\n",
              "      <th>MSE</th>\n",
              "      <th>MAPE</th>\n",
              "    </tr>\n",
              "  </thead>\n",
              "  <tbody>\n",
              "    <tr>\n",
              "      <th>Density_Distillate Production Rate and Composition</th>\n",
              "      <td>0</td>\n",
              "      <td>1.37192e-09</td>\n",
              "      <td>0.00351018</td>\n",
              "    </tr>\n",
              "    <tr>\n",
              "      <th>Density_Bottoms Production Rate and Composition</th>\n",
              "      <td>0.799959</td>\n",
              "      <td>8.85971e-08</td>\n",
              "      <td>0.0183753</td>\n",
              "    </tr>\n",
              "    <tr>\n",
              "      <th>Toluene Column C670 Operation_Yield \\nSummary_Reflux Rate_m3/hr</th>\n",
              "      <td>0.939743</td>\n",
              "      <td>11.1288</td>\n",
              "      <td>0.680629</td>\n",
              "    </tr>\n",
              "    <tr>\n",
              "      <th>Toluene Column C670 Operation_Column Temp Profile_C670 Tray 24 (Control)_oC</th>\n",
              "      <td>0.382657</td>\n",
              "      <td>0.274717</td>\n",
              "      <td>0.252419</td>\n",
              "    </tr>\n",
              "    <tr>\n",
              "      <th>Toluene Column C670 Operation_Column Temp Profile_C670 Btm Temp (Control)_oC</th>\n",
              "      <td>0.576124</td>\n",
              "      <td>0.343836</td>\n",
              "      <td>0.224175</td>\n",
              "    </tr>\n",
              "    <tr>\n",
              "      <th>AVG</th>\n",
              "      <td>0.539697</td>\n",
              "      <td>2.34947</td>\n",
              "      <td>0.235822</td>\n",
              "    </tr>\n",
              "  </tbody>\n",
              "</table>\n",
              "</div>"
            ],
            "text/plain": [
              "                                                          R2  ...        MAPE\n",
              "Density_Distillate Production Rate and Composition         0  ...  0.00351018\n",
              "Density_Bottoms Production Rate and Composition     0.799959  ...   0.0183753\n",
              "Toluene Column C670 Operation_Yield \\nSummary_R...  0.939743  ...    0.680629\n",
              "Toluene Column C670 Operation_Column Temp Profi...  0.382657  ...    0.252419\n",
              "Toluene Column C670 Operation_Column Temp Profi...  0.576124  ...    0.224175\n",
              "AVG                                                 0.539697  ...    0.235822\n",
              "\n",
              "[6 rows x 3 columns]"
            ]
          },
          "metadata": {
            "tags": []
          },
          "execution_count": 79
        }
      ]
    },
    {
      "cell_type": "code",
      "metadata": {
        "id": "X-sT25-jUfOt"
      },
      "source": [
        "c670.shrink()"
      ],
      "execution_count": 80,
      "outputs": []
    },
    {
      "cell_type": "code",
      "metadata": {
        "colab": {
          "base_uri": "https://localhost:8080/"
        },
        "id": "eI7nG4O-U8Am",
        "outputId": "d26b48e9-58df-4b6c-dbdb-70ec2fe7b404"
      },
      "source": [
        "joblib.dump(c670,'/content/drive/MyDrive/台塑輕油案子/data/c620/model/c670_op_real_data.pkl')"
      ],
      "execution_count": 81,
      "outputs": [
        {
          "output_type": "execute_result",
          "data": {
            "text/plain": [
              "['/content/drive/MyDrive/台塑輕油案子/data/c620/model/c670_op_real_data.pkl']"
            ]
          },
          "metadata": {
            "tags": []
          },
          "execution_count": 81
        }
      ]
    },
    {
      "cell_type": "code",
      "metadata": {
        "id": "WaCC7PUMVISe"
      },
      "source": [
        ""
      ],
      "execution_count": null,
      "outputs": []
    }
  ]
}