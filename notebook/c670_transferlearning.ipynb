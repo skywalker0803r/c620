{
  "nbformat": 4,
  "nbformat_minor": 0,
  "metadata": {
    "colab": {
      "name": "c670_transferlearning.ipynb",
      "provenance": [],
      "mount_file_id": "https://github.com/skywalker0803r/c620/blob/main/notebook/c670_transferlearning.ipynb",
      "authorship_tag": "ABX9TyMskyEdHtPlnHxDNIScZhcX",
      "include_colab_link": true
    },
    "kernelspec": {
      "name": "python3",
      "display_name": "Python 3"
    }
  },
  "cells": [
    {
      "cell_type": "markdown",
      "metadata": {
        "id": "view-in-github",
        "colab_type": "text"
      },
      "source": [
        "<a href=\"https://colab.research.google.com/github/skywalker0803r/c620/blob/main/notebook/c670_transferlearning.ipynb\" target=\"_parent\"><img src=\"https://colab.research.google.com/assets/colab-badge.svg\" alt=\"Open In Colab\"/></a>"
      ]
    },
    {
      "cell_type": "code",
      "metadata": {
        "id": "nOGsCEawJNva"
      },
      "source": [
        "import pandas as pd\n",
        "import numpy as np\n",
        "import joblib\n",
        "!pip install autorch > log.txt"
      ],
      "execution_count": 1,
      "outputs": []
    },
    {
      "cell_type": "code",
      "metadata": {
        "colab": {
          "base_uri": "https://localhost:8080/",
          "height": 429
        },
        "id": "7UXYDDgMJWvA",
        "outputId": "47d53c57-bd62-4505-df24-286d4ff617c3"
      },
      "source": [
        "c = joblib.load('/content/drive/MyDrive/台塑輕油案子/data/c620/col_names/c670_col_names.pkl')\n",
        "c670_df = pd.read_excel('/content/drive/MyDrive/台塑輕油案子/data/c620/明志_遷移式學習_訓練資料_寄送版/c670_data.xlsx',index_col=0)\n",
        "print(c670_df.shape)\n",
        "c670_df.head(3)"
      ],
      "execution_count": 2,
      "outputs": [
        {
          "output_type": "stream",
          "text": [
            "(168, 171)\n"
          ],
          "name": "stdout"
        },
        {
          "output_type": "execute_result",
          "data": {
            "text/html": [
              "<div>\n",
              "<style scoped>\n",
              "    .dataframe tbody tr th:only-of-type {\n",
              "        vertical-align: middle;\n",
              "    }\n",
              "\n",
              "    .dataframe tbody tr th {\n",
              "        vertical-align: top;\n",
              "    }\n",
              "\n",
              "    .dataframe thead th {\n",
              "        text-align: right;\n",
              "    }\n",
              "</style>\n",
              "<table border=\"1\" class=\"dataframe\">\n",
              "  <thead>\n",
              "    <tr style=\"text-align: right;\">\n",
              "      <th></th>\n",
              "      <th>Toluene Column C670 Operation_Combined Feed to Toluene Column C670 : Detailed weight % Composition_Hydrogen_wt%</th>\n",
              "      <th>Toluene Column C670 Operation_Combined Feed to Toluene Column C670 : Detailed weight % Composition_Methane_wt%</th>\n",
              "      <th>Toluene Column C670 Operation_Combined Feed to Toluene Column C670 : Detailed weight % Composition_Ethane_wt%</th>\n",
              "      <th>Toluene Column C670 Operation_Combined Feed to Toluene Column C670 : Detailed weight % Composition_Propane_wt%</th>\n",
              "      <th>Toluene Column C670 Operation_Combined Feed to Toluene Column C670 : Detailed weight % Composition_n-Butane_wt%</th>\n",
              "      <th>Toluene Column C670 Operation_Combined Feed to Toluene Column C670 : Detailed weight % Composition_n-Pentane_wt%</th>\n",
              "      <th>Toluene Column C670 Operation_Combined Feed to Toluene Column C670 : Detailed weight % Composition_n-Hexane_wt%</th>\n",
              "      <th>Toluene Column C670 Operation_Combined Feed to Toluene Column C670 : Detailed weight % Composition_Benzene_wt%</th>\n",
              "      <th>Toluene Column C670 Operation_Combined Feed to Toluene Column C670 : Detailed weight % Composition_Cyclohexane_wt%</th>\n",
              "      <th>Toluene Column C670 Operation_Combined Feed to Toluene Column C670 : Detailed weight % Composition_n-Heptane_wt%</th>\n",
              "      <th>Toluene Column C670 Operation_Combined Feed to Toluene Column C670 : Detailed weight % Composition_Water_wt%</th>\n",
              "      <th>Toluene Column C670 Operation_Combined Feed to Toluene Column C670 : Detailed weight % Composition_Methylcyclohexane_wt%</th>\n",
              "      <th>Toluene Column C670 Operation_Combined Feed to Toluene Column C670 : Detailed weight % Composition_Toluene_wt%</th>\n",
              "      <th>Toluene Column C670 Operation_Combined Feed to Toluene Column C670 : Detailed weight % Composition_n-Octane_wt%</th>\n",
              "      <th>Toluene Column C670 Operation_Combined Feed to Toluene Column C670 : Detailed weight % Composition_n-Propylcyclopentane_wt%</th>\n",
              "      <th>Toluene Column C670 Operation_Combined Feed to Toluene Column C670 : Detailed weight % Composition_Ethylcyclohexane_wt%</th>\n",
              "      <th>Toluene Column C670 Operation_Combined Feed to Toluene Column C670 : Detailed weight % Composition_Ethylbenzene_wt%</th>\n",
              "      <th>Toluene Column C670 Operation_Combined Feed to Toluene Column C670 : Detailed weight % Composition_p-Xylene_wt%</th>\n",
              "      <th>Toluene Column C670 Operation_Combined Feed to Toluene Column C670 : Detailed weight % Composition_m-Xylene_wt%</th>\n",
              "      <th>Toluene Column C670 Operation_Combined Feed to Toluene Column C670 : Detailed weight % Composition_o-Xylene_wt%</th>\n",
              "      <th>Toluene Column C670 Operation_Combined Feed to Toluene Column C670 : Detailed weight % Composition_n-Nonane_wt%</th>\n",
              "      <th>Toluene Column C670 Operation_Combined Feed to Toluene Column C670 : Detailed weight % Composition_i-Propylbenzene_wt%</th>\n",
              "      <th>Toluene Column C670 Operation_Combined Feed to Toluene Column C670 : Detailed weight % Composition_n-Propylcyclohexane_wt%</th>\n",
              "      <th>Toluene Column C670 Operation_Combined Feed to Toluene Column C670 : Detailed weight % Composition_n-Propylbenzene_wt%</th>\n",
              "      <th>Toluene Column C670 Operation_Combined Feed to Toluene Column C670 : Detailed weight % Composition_1-Methyl-3-ethylbenzene_wt%</th>\n",
              "      <th>Toluene Column C670 Operation_Combined Feed to Toluene Column C670 : Detailed weight % Composition_1-Methyl-4-ethylbenzene_wt%</th>\n",
              "      <th>Toluene Column C670 Operation_Combined Feed to Toluene Column C670 : Detailed weight % Composition_1,3,5-Trimethylbenzene_wt%</th>\n",
              "      <th>Toluene Column C670 Operation_Combined Feed to Toluene Column C670 : Detailed weight % Composition_1-Methyl-2-ethylbenzene_wt%</th>\n",
              "      <th>Toluene Column C670 Operation_Combined Feed to Toluene Column C670 : Detailed weight % Composition_1,2,4-Trimethylbenzene_wt%</th>\n",
              "      <th>Toluene Column C670 Operation_Combined Feed to Toluene Column C670 : Detailed weight % Composition_tert-Butylcyclohexane_wt%</th>\n",
              "      <th>Toluene Column C670 Operation_Combined Feed to Toluene Column C670 : Detailed weight % Composition_1,2,3-Trimethylbenzene_wt%</th>\n",
              "      <th>Toluene Column C670 Operation_Combined Feed to Toluene Column C670 : Detailed weight % Composition_Indane_wt%</th>\n",
              "      <th>Toluene Column C670 Operation_Combined Feed to Toluene Column C670 : Detailed weight % Composition_1-Methyl-4-n-propylbenzene_wt%</th>\n",
              "      <th>Toluene Column C670 Operation_Combined Feed to Toluene Column C670 : Detailed weight % Composition_1,2-Diethylbenzene_wt%</th>\n",
              "      <th>Toluene Column C670 Operation_Combined Feed to Toluene Column C670 : Detailed weight % Composition_5-Ethyl-m-xylene_wt%</th>\n",
              "      <th>Toluene Column C670 Operation_Combined Feed to Toluene Column C670 : Detailed weight % Composition_1,4-Diethylbenzene_wt%</th>\n",
              "      <th>Toluene Column C670 Operation_Combined Feed to Toluene Column C670 : Detailed weight % Composition_1,2,3,5-Tetramethylbenzene_wt%</th>\n",
              "      <th>Toluene Column C670 Operation_Combined Feed to Toluene Column C670 : Detailed weight % Composition_n-Pentylbenzene_wt%</th>\n",
              "      <th>Toluene Column C670 Operation_Combined Feed to Toluene Column C670 : Detailed weight % Composition_n-Hexylbenzene_wt%</th>\n",
              "      <th>Toluene Column C670 Operation_Combined Feed to Toluene Column C670 : Detailed weight % Composition_Nitrogen_wt%</th>\n",
              "      <th>...</th>\n",
              "      <th>Toluene Column C670 Split Factors Calculation_Split Factor for Individual Component to Toluene Column C670 Bottoms_Cyclohexane_Fraction</th>\n",
              "      <th>Toluene Column C670 Split Factors Calculation_Split Factor for Individual Component to Toluene Column C670 Bottoms_n-Heptane_Fraction</th>\n",
              "      <th>Toluene Column C670 Split Factors Calculation_Split Factor for Individual Component to Toluene Column C670 Bottoms_Water_Fraction</th>\n",
              "      <th>Toluene Column C670 Split Factors Calculation_Split Factor for Individual Component to Toluene Column C670 Bottoms_Methylcyclohexane_Fraction</th>\n",
              "      <th>Toluene Column C670 Split Factors Calculation_Split Factor for Individual Component to Toluene Column C670 Bottoms_Toluene_Fraction</th>\n",
              "      <th>Toluene Column C670 Split Factors Calculation_Split Factor for Individual Component to Toluene Column C670 Bottoms_n-Octane_Fraction</th>\n",
              "      <th>Toluene Column C670 Split Factors Calculation_Split Factor for Individual Component to Toluene Column C670 Bottoms_n-Propylcyclopentane_Fraction</th>\n",
              "      <th>Toluene Column C670 Split Factors Calculation_Split Factor for Individual Component to Toluene Column C670 Bottoms_Ethylcyclohexane_Fraction</th>\n",
              "      <th>Toluene Column C670 Split Factors Calculation_Split Factor for Individual Component to Toluene Column C670 Bottoms_Ethylbenzene_Fraction</th>\n",
              "      <th>Toluene Column C670 Split Factors Calculation_Split Factor for Individual Component to Toluene Column C670 Bottoms_p-Xylene_Fraction</th>\n",
              "      <th>Toluene Column C670 Split Factors Calculation_Split Factor for Individual Component to Toluene Column C670 Bottoms_m-Xylene_Fraction</th>\n",
              "      <th>Toluene Column C670 Split Factors Calculation_Split Factor for Individual Component to Toluene Column C670 Bottoms_o-Xylene_Fraction</th>\n",
              "      <th>Toluene Column C670 Split Factors Calculation_Split Factor for Individual Component to Toluene Column C670 Bottoms_n-Nonane_Fraction</th>\n",
              "      <th>Toluene Column C670 Split Factors Calculation_Split Factor for Individual Component to Toluene Column C670 Bottoms_i-Propylbenzene_Fraction</th>\n",
              "      <th>Toluene Column C670 Split Factors Calculation_Split Factor for Individual Component to Toluene Column C670 Bottoms_n-Propylcyclohexane_Fraction</th>\n",
              "      <th>Toluene Column C670 Split Factors Calculation_Split Factor for Individual Component to Toluene Column C670 Bottoms_n-Propylbenzene_Fraction</th>\n",
              "      <th>Toluene Column C670 Split Factors Calculation_Split Factor for Individual Component to Toluene Column C670 Bottoms_1-Methyl-3-ethylbenzene_Fraction</th>\n",
              "      <th>Toluene Column C670 Split Factors Calculation_Split Factor for Individual Component to Toluene Column C670 Bottoms_1-Methyl-4-ethylbenzene_Fraction</th>\n",
              "      <th>Toluene Column C670 Split Factors Calculation_Split Factor for Individual Component to Toluene Column C670 Bottoms_1,3,5-Trimethylbenzene_Fraction</th>\n",
              "      <th>Toluene Column C670 Split Factors Calculation_Split Factor for Individual Component to Toluene Column C670 Bottoms_1-Methyl-2-ethylbenzene_Fraction</th>\n",
              "      <th>Toluene Column C670 Split Factors Calculation_Split Factor for Individual Component to Toluene Column C670 Bottoms_1,2,4-Trimethylbenzene_Fraction</th>\n",
              "      <th>Toluene Column C670 Split Factors Calculation_Split Factor for Individual Component to Toluene Column C670 Bottoms_tert-Butylcyclohexane_Fraction</th>\n",
              "      <th>Toluene Column C670 Split Factors Calculation_Split Factor for Individual Component to Toluene Column C670 Bottoms_1,2,3-Trimethylbenzene_Fraction</th>\n",
              "      <th>Toluene Column C670 Split Factors Calculation_Split Factor for Individual Component to Toluene Column C670 Bottoms_Indane_Fraction</th>\n",
              "      <th>Toluene Column C670 Split Factors Calculation_Split Factor for Individual Component to Toluene Column C670 Bottoms_1-Methyl-4-n-propylbenzene_Fraction</th>\n",
              "      <th>Toluene Column C670 Split Factors Calculation_Split Factor for Individual Component to Toluene Column C670 Bottoms_1,2-Diethylbenzene_Fraction</th>\n",
              "      <th>Toluene Column C670 Split Factors Calculation_Split Factor for Individual Component to Toluene Column C670 Bottoms_5-Ethyl-m-xylene_Fraction</th>\n",
              "      <th>Toluene Column C670 Split Factors Calculation_Split Factor for Individual Component to Toluene Column C670 Bottoms_1,4-Diethylbenzene_Fraction</th>\n",
              "      <th>Toluene Column C670 Split Factors Calculation_Split Factor for Individual Component to Toluene Column C670 Bottoms_1,2,3,5-Tetramethylbenzene_Fraction</th>\n",
              "      <th>Toluene Column C670 Split Factors Calculation_Split Factor for Individual Component to Toluene Column C670 Bottoms_n-Pentylbenzene_Fraction</th>\n",
              "      <th>Toluene Column C670 Split Factors Calculation_Split Factor for Individual Component to Toluene Column C670 Bottoms_n-Hexylbenzene_Fraction</th>\n",
              "      <th>Toluene Column C670 Split Factors Calculation_Split Factor for Individual Component to Toluene Column C670 Bottoms_Nitrogen_Fraction</th>\n",
              "      <th>Toluene Column C670 Split Factors Calculation_Split Factor for Individual Component to Toluene Column C670 Bottoms_Oxygen_Fraction</th>\n",
              "      <th>Density_Distillate Production Rate and Composition</th>\n",
              "      <th>Density_Bottoms Production Rate and Composition</th>\n",
              "      <th>Toluene Column C670 Operation_Yield \\nSummary_Reflux Rate_m3/hr</th>\n",
              "      <th>Toluene Column C670 Operation_Heat Duty_Condenser Heat Duty_Mkcal/hr</th>\n",
              "      <th>Toluene Column C670 Operation_Heat Duty_Reboiler Heat Duty_Mkcal/hr</th>\n",
              "      <th>Toluene Column C670 Operation_Column Temp Profile_C670 Tray 24 (Control)_oC</th>\n",
              "      <th>Toluene Column C670 Operation_Column Temp Profile_C670 Btm Temp (Control)_oC</th>\n",
              "    </tr>\n",
              "  </thead>\n",
              "  <tbody>\n",
              "    <tr>\n",
              "      <th>2020-09-02</th>\n",
              "      <td>0</td>\n",
              "      <td>0</td>\n",
              "      <td>0</td>\n",
              "      <td>0</td>\n",
              "      <td>2.158924e-24</td>\n",
              "      <td>8.643537e-17</td>\n",
              "      <td>8.010011e-10</td>\n",
              "      <td>0.062633</td>\n",
              "      <td>0.000116</td>\n",
              "      <td>0.002418</td>\n",
              "      <td>0</td>\n",
              "      <td>0.012543</td>\n",
              "      <td>49.236480</td>\n",
              "      <td>0.021154</td>\n",
              "      <td>0.020603</td>\n",
              "      <td>0.018202</td>\n",
              "      <td>2.535826</td>\n",
              "      <td>8.019157</td>\n",
              "      <td>17.326736</td>\n",
              "      <td>7.233702</td>\n",
              "      <td>0.034433</td>\n",
              "      <td>0.011729</td>\n",
              "      <td>0.054592</td>\n",
              "      <td>0.014325</td>\n",
              "      <td>0.967473</td>\n",
              "      <td>0.506846</td>\n",
              "      <td>2.727985</td>\n",
              "      <td>0.284715</td>\n",
              "      <td>6.967916</td>\n",
              "      <td>0.004194</td>\n",
              "      <td>1.112360</td>\n",
              "      <td>0.053811</td>\n",
              "      <td>0.000863</td>\n",
              "      <td>0.032203</td>\n",
              "      <td>0.900565</td>\n",
              "      <td>0</td>\n",
              "      <td>1.036842</td>\n",
              "      <td>0.559674</td>\n",
              "      <td>0.239905</td>\n",
              "      <td>0</td>\n",
              "      <td>...</td>\n",
              "      <td>NaN</td>\n",
              "      <td>NaN</td>\n",
              "      <td>NaN</td>\n",
              "      <td>NaN</td>\n",
              "      <td>NaN</td>\n",
              "      <td>NaN</td>\n",
              "      <td>NaN</td>\n",
              "      <td>NaN</td>\n",
              "      <td>NaN</td>\n",
              "      <td>NaN</td>\n",
              "      <td>NaN</td>\n",
              "      <td>NaN</td>\n",
              "      <td>NaN</td>\n",
              "      <td>NaN</td>\n",
              "      <td>NaN</td>\n",
              "      <td>NaN</td>\n",
              "      <td>NaN</td>\n",
              "      <td>NaN</td>\n",
              "      <td>NaN</td>\n",
              "      <td>NaN</td>\n",
              "      <td>NaN</td>\n",
              "      <td>NaN</td>\n",
              "      <td>NaN</td>\n",
              "      <td>NaN</td>\n",
              "      <td>NaN</td>\n",
              "      <td>NaN</td>\n",
              "      <td>NaN</td>\n",
              "      <td>NaN</td>\n",
              "      <td>NaN</td>\n",
              "      <td>NaN</td>\n",
              "      <td>NaN</td>\n",
              "      <td>NaN</td>\n",
              "      <td>NaN</td>\n",
              "      <td>0.871</td>\n",
              "      <td>0.876</td>\n",
              "      <td>272.305959</td>\n",
              "      <td>NaN</td>\n",
              "      <td>NaN</td>\n",
              "      <td>182.338802</td>\n",
              "      <td>228.030248</td>\n",
              "    </tr>\n",
              "    <tr>\n",
              "      <th>2020-09-03</th>\n",
              "      <td>0</td>\n",
              "      <td>0</td>\n",
              "      <td>0</td>\n",
              "      <td>0</td>\n",
              "      <td>2.082408e-24</td>\n",
              "      <td>8.337204e-17</td>\n",
              "      <td>7.726207e-10</td>\n",
              "      <td>0.082611</td>\n",
              "      <td>0.000112</td>\n",
              "      <td>0.002333</td>\n",
              "      <td>0</td>\n",
              "      <td>0.012289</td>\n",
              "      <td>49.132781</td>\n",
              "      <td>0.020902</td>\n",
              "      <td>0.020303</td>\n",
              "      <td>0.017910</td>\n",
              "      <td>2.453789</td>\n",
              "      <td>7.986144</td>\n",
              "      <td>17.285953</td>\n",
              "      <td>7.227416</td>\n",
              "      <td>0.033985</td>\n",
              "      <td>0.011808</td>\n",
              "      <td>0.054373</td>\n",
              "      <td>0.014422</td>\n",
              "      <td>0.973902</td>\n",
              "      <td>0.510255</td>\n",
              "      <td>2.746331</td>\n",
              "      <td>0.286630</td>\n",
              "      <td>7.014778</td>\n",
              "      <td>0.004182</td>\n",
              "      <td>1.119841</td>\n",
              "      <td>0.053469</td>\n",
              "      <td>0.000939</td>\n",
              "      <td>0.032399</td>\n",
              "      <td>0.980221</td>\n",
              "      <td>0</td>\n",
              "      <td>1.128550</td>\n",
              "      <td>0.553929</td>\n",
              "      <td>0.237443</td>\n",
              "      <td>0</td>\n",
              "      <td>...</td>\n",
              "      <td>NaN</td>\n",
              "      <td>NaN</td>\n",
              "      <td>NaN</td>\n",
              "      <td>NaN</td>\n",
              "      <td>NaN</td>\n",
              "      <td>NaN</td>\n",
              "      <td>NaN</td>\n",
              "      <td>NaN</td>\n",
              "      <td>NaN</td>\n",
              "      <td>NaN</td>\n",
              "      <td>NaN</td>\n",
              "      <td>NaN</td>\n",
              "      <td>NaN</td>\n",
              "      <td>NaN</td>\n",
              "      <td>NaN</td>\n",
              "      <td>NaN</td>\n",
              "      <td>NaN</td>\n",
              "      <td>NaN</td>\n",
              "      <td>NaN</td>\n",
              "      <td>NaN</td>\n",
              "      <td>NaN</td>\n",
              "      <td>NaN</td>\n",
              "      <td>NaN</td>\n",
              "      <td>NaN</td>\n",
              "      <td>NaN</td>\n",
              "      <td>NaN</td>\n",
              "      <td>NaN</td>\n",
              "      <td>NaN</td>\n",
              "      <td>NaN</td>\n",
              "      <td>NaN</td>\n",
              "      <td>NaN</td>\n",
              "      <td>NaN</td>\n",
              "      <td>NaN</td>\n",
              "      <td>0.871</td>\n",
              "      <td>0.876</td>\n",
              "      <td>273.311247</td>\n",
              "      <td>NaN</td>\n",
              "      <td>NaN</td>\n",
              "      <td>182.173319</td>\n",
              "      <td>227.882516</td>\n",
              "    </tr>\n",
              "    <tr>\n",
              "      <th>2020-09-04</th>\n",
              "      <td>0</td>\n",
              "      <td>0</td>\n",
              "      <td>0</td>\n",
              "      <td>0</td>\n",
              "      <td>2.094575e-24</td>\n",
              "      <td>8.385901e-17</td>\n",
              "      <td>7.771163e-10</td>\n",
              "      <td>0.182588</td>\n",
              "      <td>0.000113</td>\n",
              "      <td>0.002345</td>\n",
              "      <td>0</td>\n",
              "      <td>0.011930</td>\n",
              "      <td>48.729534</td>\n",
              "      <td>0.019896</td>\n",
              "      <td>0.019445</td>\n",
              "      <td>0.017216</td>\n",
              "      <td>2.360142</td>\n",
              "      <td>8.048828</td>\n",
              "      <td>17.434329</td>\n",
              "      <td>7.305473</td>\n",
              "      <td>0.032433</td>\n",
              "      <td>0.011907</td>\n",
              "      <td>0.050803</td>\n",
              "      <td>0.014544</td>\n",
              "      <td>0.982121</td>\n",
              "      <td>0.514568</td>\n",
              "      <td>2.769544</td>\n",
              "      <td>0.289053</td>\n",
              "      <td>7.074070</td>\n",
              "      <td>0.003896</td>\n",
              "      <td>1.129306</td>\n",
              "      <td>0.053808</td>\n",
              "      <td>0.000937</td>\n",
              "      <td>0.032159</td>\n",
              "      <td>0.978338</td>\n",
              "      <td>0</td>\n",
              "      <td>1.126383</td>\n",
              "      <td>0.562972</td>\n",
              "      <td>0.241319</td>\n",
              "      <td>0</td>\n",
              "      <td>...</td>\n",
              "      <td>NaN</td>\n",
              "      <td>NaN</td>\n",
              "      <td>NaN</td>\n",
              "      <td>NaN</td>\n",
              "      <td>NaN</td>\n",
              "      <td>NaN</td>\n",
              "      <td>NaN</td>\n",
              "      <td>NaN</td>\n",
              "      <td>NaN</td>\n",
              "      <td>NaN</td>\n",
              "      <td>NaN</td>\n",
              "      <td>NaN</td>\n",
              "      <td>NaN</td>\n",
              "      <td>NaN</td>\n",
              "      <td>NaN</td>\n",
              "      <td>NaN</td>\n",
              "      <td>NaN</td>\n",
              "      <td>NaN</td>\n",
              "      <td>NaN</td>\n",
              "      <td>NaN</td>\n",
              "      <td>NaN</td>\n",
              "      <td>NaN</td>\n",
              "      <td>NaN</td>\n",
              "      <td>NaN</td>\n",
              "      <td>NaN</td>\n",
              "      <td>NaN</td>\n",
              "      <td>NaN</td>\n",
              "      <td>NaN</td>\n",
              "      <td>NaN</td>\n",
              "      <td>NaN</td>\n",
              "      <td>NaN</td>\n",
              "      <td>NaN</td>\n",
              "      <td>NaN</td>\n",
              "      <td>0.871</td>\n",
              "      <td>0.876</td>\n",
              "      <td>276.174639</td>\n",
              "      <td>NaN</td>\n",
              "      <td>NaN</td>\n",
              "      <td>181.966652</td>\n",
              "      <td>227.734090</td>\n",
              "    </tr>\n",
              "  </tbody>\n",
              "</table>\n",
              "<p>3 rows × 171 columns</p>\n",
              "</div>"
            ],
            "text/plain": [
              "            Toluene Column C670 Operation_Combined Feed to Toluene Column C670 : Detailed weight % Composition_Hydrogen_wt%  ...  Toluene Column C670 Operation_Column Temp Profile_C670 Btm Temp (Control)_oC\n",
              "2020-09-02                                                  0                                                                ...                                         228.030248                           \n",
              "2020-09-03                                                  0                                                                ...                                         227.882516                           \n",
              "2020-09-04                                                  0                                                                ...                                         227.734090                           \n",
              "\n",
              "[3 rows x 171 columns]"
            ]
          },
          "metadata": {
            "tags": []
          },
          "execution_count": 2
        }
      ]
    },
    {
      "cell_type": "markdown",
      "metadata": {
        "id": "weDth9iWKG8e"
      },
      "source": [
        "# 缺失欄位"
      ]
    },
    {
      "cell_type": "code",
      "metadata": {
        "colab": {
          "base_uri": "https://localhost:8080/"
        },
        "id": "_p-HyDHLJq1g",
        "outputId": "2c5a2a76-5c5f-4681-908a-cac1e45d919f"
      },
      "source": [
        "miss_col = c670_df.columns[(c670_df.isnull().sum() > 0).values].tolist()\n",
        "print(len(miss_col))\n",
        "miss_col"
      ],
      "execution_count": 3,
      "outputs": [
        {
          "output_type": "stream",
          "text": [
            "84\n"
          ],
          "name": "stdout"
        },
        {
          "output_type": "execute_result",
          "data": {
            "text/plain": [
              "['Toluene Column C670 Split Factors Calculation_Split Factor for Individual Component to Toluene Column C670 Distillate_Hydrogen_Fraction',\n",
              " 'Toluene Column C670 Split Factors Calculation_Split Factor for Individual Component to Toluene Column C670 Distillate_Methane_Fraction',\n",
              " 'Toluene Column C670 Split Factors Calculation_Split Factor for Individual Component to Toluene Column C670 Distillate_Ethane_Fraction',\n",
              " 'Toluene Column C670 Split Factors Calculation_Split Factor for Individual Component to Toluene Column C670 Distillate_Propane_Fraction',\n",
              " 'Toluene Column C670 Split Factors Calculation_Split Factor for Individual Component to Toluene Column C670 Distillate_n-Butane_Fraction',\n",
              " 'Toluene Column C670 Split Factors Calculation_Split Factor for Individual Component to Toluene Column C670 Distillate_n-Pentane_Fraction',\n",
              " 'Toluene Column C670 Split Factors Calculation_Split Factor for Individual Component to Toluene Column C670 Distillate_n-Hexane_Fraction',\n",
              " 'Toluene Column C670 Split Factors Calculation_Split Factor for Individual Component to Toluene Column C670 Distillate_Benzene_Fraction',\n",
              " 'Toluene Column C670 Split Factors Calculation_Split Factor for Individual Component to Toluene Column C670 Distillate_Cyclohexane_Fraction',\n",
              " 'Toluene Column C670 Split Factors Calculation_Split Factor for Individual Component to Toluene Column C670 Distillate_n-Heptane_Fraction',\n",
              " 'Toluene Column C670 Split Factors Calculation_Split Factor for Individual Component to Toluene Column C670 Distillate_Water_Fraction',\n",
              " 'Toluene Column C670 Split Factors Calculation_Split Factor for Individual Component to Toluene Column C670 Distillate_Methylcyclohexane_Fraction',\n",
              " 'Toluene Column C670 Split Factors Calculation_Split Factor for Individual Component to Toluene Column C670 Distillate_Toluene_Fraction',\n",
              " 'Toluene Column C670 Split Factors Calculation_Split Factor for Individual Component to Toluene Column C670 Distillate_n-Octane_Fraction',\n",
              " 'Toluene Column C670 Split Factors Calculation_Split Factor for Individual Component to Toluene Column C670 Distillate_n-Propylcyclopentane_Fraction',\n",
              " 'Toluene Column C670 Split Factors Calculation_Split Factor for Individual Component to Toluene Column C670 Distillate_Ethylcyclohexane_Fraction',\n",
              " 'Toluene Column C670 Split Factors Calculation_Split Factor for Individual Component to Toluene Column C670 Distillate_Ethylbenzene_Fraction',\n",
              " 'Toluene Column C670 Split Factors Calculation_Split Factor for Individual Component to Toluene Column C670 Distillate_p-Xylene_Fraction',\n",
              " 'Toluene Column C670 Split Factors Calculation_Split Factor for Individual Component to Toluene Column C670 Distillate_m-Xylene_Fraction',\n",
              " 'Toluene Column C670 Split Factors Calculation_Split Factor for Individual Component to Toluene Column C670 Distillate_o-Xylene_Fraction',\n",
              " 'Toluene Column C670 Split Factors Calculation_Split Factor for Individual Component to Toluene Column C670 Distillate_n-Nonane_Fraction',\n",
              " 'Toluene Column C670 Split Factors Calculation_Split Factor for Individual Component to Toluene Column C670 Distillate_i-Propylbenzene_Fraction',\n",
              " 'Toluene Column C670 Split Factors Calculation_Split Factor for Individual Component to Toluene Column C670 Distillate_n-Propylcyclohexane_Fraction',\n",
              " 'Toluene Column C670 Split Factors Calculation_Split Factor for Individual Component to Toluene Column C670 Distillate_n-Propylbenzene_Fraction',\n",
              " 'Toluene Column C670 Split Factors Calculation_Split Factor for Individual Component to Toluene Column C670 Distillate_1-Methyl-3-ethylbenzene_Fraction',\n",
              " 'Toluene Column C670 Split Factors Calculation_Split Factor for Individual Component to Toluene Column C670 Distillate_1-Methyl-4-ethylbenzene_Fraction',\n",
              " 'Toluene Column C670 Split Factors Calculation_Split Factor for Individual Component to Toluene Column C670 Distillate_1,3,5-Trimethylbenzene_Fraction',\n",
              " 'Toluene Column C670 Split Factors Calculation_Split Factor for Individual Component to Toluene Column C670 Distillate_1-Methyl-2-ethylbenzene_Fraction',\n",
              " 'Toluene Column C670 Split Factors Calculation_Split Factor for Individual Component to Toluene Column C670 Distillate_1,2,4-Trimethylbenzene_Fraction',\n",
              " 'Toluene Column C670 Split Factors Calculation_Split Factor for Individual Component to Toluene Column C670 Distillate_tert-Butylcyclohexane_Fraction',\n",
              " 'Toluene Column C670 Split Factors Calculation_Split Factor for Individual Component to Toluene Column C670 Distillate_1,2,3-Trimethylbenzene_Fraction',\n",
              " 'Toluene Column C670 Split Factors Calculation_Split Factor for Individual Component to Toluene Column C670 Distillate_Indane_Fraction',\n",
              " 'Toluene Column C670 Split Factors Calculation_Split Factor for Individual Component to Toluene Column C670 Distillate_1-Methyl-4-n-propylbenzene_Fraction',\n",
              " 'Toluene Column C670 Split Factors Calculation_Split Factor for Individual Component to Toluene Column C670 Distillate_1,2-Diethylbenzene_Fraction',\n",
              " 'Toluene Column C670 Split Factors Calculation_Split Factor for Individual Component to Toluene Column C670 Distillate_5-Ethyl-m-xylene_Fraction',\n",
              " 'Toluene Column C670 Split Factors Calculation_Split Factor for Individual Component to Toluene Column C670 Distillate_1,4-Diethylbenzene_Fraction',\n",
              " 'Toluene Column C670 Split Factors Calculation_Split Factor for Individual Component to Toluene Column C670 Distillate_1,2,3,5-Tetramethylbenzene_Fraction',\n",
              " 'Toluene Column C670 Split Factors Calculation_Split Factor for Individual Component to Toluene Column C670 Distillate_n-Pentylbenzene_Fraction',\n",
              " 'Toluene Column C670 Split Factors Calculation_Split Factor for Individual Component to Toluene Column C670 Distillate_n-Hexylbenzene_Fraction',\n",
              " 'Toluene Column C670 Split Factors Calculation_Split Factor for Individual Component to Toluene Column C670 Distillate_Nitrogen_Fraction',\n",
              " 'Toluene Column C670 Split Factors Calculation_Split Factor for Individual Component to Toluene Column C670 Distillate_Oxygen_Fraction',\n",
              " 'Toluene Column C670 Split Factors Calculation_Split Factor for Individual Component to Toluene Column C670 Bottoms_Hydrogen_Fraction',\n",
              " 'Toluene Column C670 Split Factors Calculation_Split Factor for Individual Component to Toluene Column C670 Bottoms_Methane_Fraction',\n",
              " 'Toluene Column C670 Split Factors Calculation_Split Factor for Individual Component to Toluene Column C670 Bottoms_Ethane_Fraction',\n",
              " 'Toluene Column C670 Split Factors Calculation_Split Factor for Individual Component to Toluene Column C670 Bottoms_Propane_Fraction',\n",
              " 'Toluene Column C670 Split Factors Calculation_Split Factor for Individual Component to Toluene Column C670 Bottoms_n-Butane_Fraction',\n",
              " 'Toluene Column C670 Split Factors Calculation_Split Factor for Individual Component to Toluene Column C670 Bottoms_n-Pentane_Fraction',\n",
              " 'Toluene Column C670 Split Factors Calculation_Split Factor for Individual Component to Toluene Column C670 Bottoms_n-Hexane_Fraction',\n",
              " 'Toluene Column C670 Split Factors Calculation_Split Factor for Individual Component to Toluene Column C670 Bottoms_Benzene_Fraction',\n",
              " 'Toluene Column C670 Split Factors Calculation_Split Factor for Individual Component to Toluene Column C670 Bottoms_Cyclohexane_Fraction',\n",
              " 'Toluene Column C670 Split Factors Calculation_Split Factor for Individual Component to Toluene Column C670 Bottoms_n-Heptane_Fraction',\n",
              " 'Toluene Column C670 Split Factors Calculation_Split Factor for Individual Component to Toluene Column C670 Bottoms_Water_Fraction',\n",
              " 'Toluene Column C670 Split Factors Calculation_Split Factor for Individual Component to Toluene Column C670 Bottoms_Methylcyclohexane_Fraction',\n",
              " 'Toluene Column C670 Split Factors Calculation_Split Factor for Individual Component to Toluene Column C670 Bottoms_Toluene_Fraction',\n",
              " 'Toluene Column C670 Split Factors Calculation_Split Factor for Individual Component to Toluene Column C670 Bottoms_n-Octane_Fraction',\n",
              " 'Toluene Column C670 Split Factors Calculation_Split Factor for Individual Component to Toluene Column C670 Bottoms_n-Propylcyclopentane_Fraction',\n",
              " 'Toluene Column C670 Split Factors Calculation_Split Factor for Individual Component to Toluene Column C670 Bottoms_Ethylcyclohexane_Fraction',\n",
              " 'Toluene Column C670 Split Factors Calculation_Split Factor for Individual Component to Toluene Column C670 Bottoms_Ethylbenzene_Fraction',\n",
              " 'Toluene Column C670 Split Factors Calculation_Split Factor for Individual Component to Toluene Column C670 Bottoms_p-Xylene_Fraction',\n",
              " 'Toluene Column C670 Split Factors Calculation_Split Factor for Individual Component to Toluene Column C670 Bottoms_m-Xylene_Fraction',\n",
              " 'Toluene Column C670 Split Factors Calculation_Split Factor for Individual Component to Toluene Column C670 Bottoms_o-Xylene_Fraction',\n",
              " 'Toluene Column C670 Split Factors Calculation_Split Factor for Individual Component to Toluene Column C670 Bottoms_n-Nonane_Fraction',\n",
              " 'Toluene Column C670 Split Factors Calculation_Split Factor for Individual Component to Toluene Column C670 Bottoms_i-Propylbenzene_Fraction',\n",
              " 'Toluene Column C670 Split Factors Calculation_Split Factor for Individual Component to Toluene Column C670 Bottoms_n-Propylcyclohexane_Fraction',\n",
              " 'Toluene Column C670 Split Factors Calculation_Split Factor for Individual Component to Toluene Column C670 Bottoms_n-Propylbenzene_Fraction',\n",
              " 'Toluene Column C670 Split Factors Calculation_Split Factor for Individual Component to Toluene Column C670 Bottoms_1-Methyl-3-ethylbenzene_Fraction',\n",
              " 'Toluene Column C670 Split Factors Calculation_Split Factor for Individual Component to Toluene Column C670 Bottoms_1-Methyl-4-ethylbenzene_Fraction',\n",
              " 'Toluene Column C670 Split Factors Calculation_Split Factor for Individual Component to Toluene Column C670 Bottoms_1,3,5-Trimethylbenzene_Fraction',\n",
              " 'Toluene Column C670 Split Factors Calculation_Split Factor for Individual Component to Toluene Column C670 Bottoms_1-Methyl-2-ethylbenzene_Fraction',\n",
              " 'Toluene Column C670 Split Factors Calculation_Split Factor for Individual Component to Toluene Column C670 Bottoms_1,2,4-Trimethylbenzene_Fraction',\n",
              " 'Toluene Column C670 Split Factors Calculation_Split Factor for Individual Component to Toluene Column C670 Bottoms_tert-Butylcyclohexane_Fraction',\n",
              " 'Toluene Column C670 Split Factors Calculation_Split Factor for Individual Component to Toluene Column C670 Bottoms_1,2,3-Trimethylbenzene_Fraction',\n",
              " 'Toluene Column C670 Split Factors Calculation_Split Factor for Individual Component to Toluene Column C670 Bottoms_Indane_Fraction',\n",
              " 'Toluene Column C670 Split Factors Calculation_Split Factor for Individual Component to Toluene Column C670 Bottoms_1-Methyl-4-n-propylbenzene_Fraction',\n",
              " 'Toluene Column C670 Split Factors Calculation_Split Factor for Individual Component to Toluene Column C670 Bottoms_1,2-Diethylbenzene_Fraction',\n",
              " 'Toluene Column C670 Split Factors Calculation_Split Factor for Individual Component to Toluene Column C670 Bottoms_5-Ethyl-m-xylene_Fraction',\n",
              " 'Toluene Column C670 Split Factors Calculation_Split Factor for Individual Component to Toluene Column C670 Bottoms_1,4-Diethylbenzene_Fraction',\n",
              " 'Toluene Column C670 Split Factors Calculation_Split Factor for Individual Component to Toluene Column C670 Bottoms_1,2,3,5-Tetramethylbenzene_Fraction',\n",
              " 'Toluene Column C670 Split Factors Calculation_Split Factor for Individual Component to Toluene Column C670 Bottoms_n-Pentylbenzene_Fraction',\n",
              " 'Toluene Column C670 Split Factors Calculation_Split Factor for Individual Component to Toluene Column C670 Bottoms_n-Hexylbenzene_Fraction',\n",
              " 'Toluene Column C670 Split Factors Calculation_Split Factor for Individual Component to Toluene Column C670 Bottoms_Nitrogen_Fraction',\n",
              " 'Toluene Column C670 Split Factors Calculation_Split Factor for Individual Component to Toluene Column C670 Bottoms_Oxygen_Fraction',\n",
              " 'Toluene Column C670 Operation_Heat Duty_Condenser Heat Duty_Mkcal/hr',\n",
              " 'Toluene Column C670 Operation_Heat Duty_Reboiler Heat Duty_Mkcal/hr']"
            ]
          },
          "metadata": {
            "tags": []
          },
          "execution_count": 3
        }
      ]
    },
    {
      "cell_type": "markdown",
      "metadata": {
        "id": "wMJG3E0fKNc-"
      },
      "source": [
        "# 有提供欄位"
      ]
    },
    {
      "cell_type": "code",
      "metadata": {
        "colab": {
          "base_uri": "https://localhost:8080/"
        },
        "id": "OB9E7WrhJyoM",
        "outputId": "45da24ad-d3b8-4e38-f5b2-49053ab81b89"
      },
      "source": [
        "have_col = c670_df.columns[(c670_df.isnull().sum() == 0).values].tolist()\n",
        "print(len(have_col))\n",
        "have_col"
      ],
      "execution_count": 4,
      "outputs": [
        {
          "output_type": "stream",
          "text": [
            "87\n"
          ],
          "name": "stdout"
        },
        {
          "output_type": "execute_result",
          "data": {
            "text/plain": [
              "['Toluene Column C670 Operation_Combined Feed to Toluene Column C670 : Detailed weight % Composition_Hydrogen_wt%',\n",
              " 'Toluene Column C670 Operation_Combined Feed to Toluene Column C670 : Detailed weight % Composition_Methane_wt%',\n",
              " 'Toluene Column C670 Operation_Combined Feed to Toluene Column C670 : Detailed weight % Composition_Ethane_wt%',\n",
              " 'Toluene Column C670 Operation_Combined Feed to Toluene Column C670 : Detailed weight % Composition_Propane_wt%',\n",
              " 'Toluene Column C670 Operation_Combined Feed to Toluene Column C670 : Detailed weight % Composition_n-Butane_wt%',\n",
              " 'Toluene Column C670 Operation_Combined Feed to Toluene Column C670 : Detailed weight % Composition_n-Pentane_wt%',\n",
              " 'Toluene Column C670 Operation_Combined Feed to Toluene Column C670 : Detailed weight % Composition_n-Hexane_wt%',\n",
              " 'Toluene Column C670 Operation_Combined Feed to Toluene Column C670 : Detailed weight % Composition_Benzene_wt%',\n",
              " 'Toluene Column C670 Operation_Combined Feed to Toluene Column C670 : Detailed weight % Composition_Cyclohexane_wt%',\n",
              " 'Toluene Column C670 Operation_Combined Feed to Toluene Column C670 : Detailed weight % Composition_n-Heptane_wt%',\n",
              " 'Toluene Column C670 Operation_Combined Feed to Toluene Column C670 : Detailed weight % Composition_Water_wt%',\n",
              " 'Toluene Column C670 Operation_Combined Feed to Toluene Column C670 : Detailed weight % Composition_Methylcyclohexane_wt%',\n",
              " 'Toluene Column C670 Operation_Combined Feed to Toluene Column C670 : Detailed weight % Composition_Toluene_wt%',\n",
              " 'Toluene Column C670 Operation_Combined Feed to Toluene Column C670 : Detailed weight % Composition_n-Octane_wt%',\n",
              " 'Toluene Column C670 Operation_Combined Feed to Toluene Column C670 : Detailed weight % Composition_n-Propylcyclopentane_wt%',\n",
              " 'Toluene Column C670 Operation_Combined Feed to Toluene Column C670 : Detailed weight % Composition_Ethylcyclohexane_wt%',\n",
              " 'Toluene Column C670 Operation_Combined Feed to Toluene Column C670 : Detailed weight % Composition_Ethylbenzene_wt%',\n",
              " 'Toluene Column C670 Operation_Combined Feed to Toluene Column C670 : Detailed weight % Composition_p-Xylene_wt%',\n",
              " 'Toluene Column C670 Operation_Combined Feed to Toluene Column C670 : Detailed weight % Composition_m-Xylene_wt%',\n",
              " 'Toluene Column C670 Operation_Combined Feed to Toluene Column C670 : Detailed weight % Composition_o-Xylene_wt%',\n",
              " 'Toluene Column C670 Operation_Combined Feed to Toluene Column C670 : Detailed weight % Composition_n-Nonane_wt%',\n",
              " 'Toluene Column C670 Operation_Combined Feed to Toluene Column C670 : Detailed weight % Composition_i-Propylbenzene_wt%',\n",
              " 'Toluene Column C670 Operation_Combined Feed to Toluene Column C670 : Detailed weight % Composition_n-Propylcyclohexane_wt%',\n",
              " 'Toluene Column C670 Operation_Combined Feed to Toluene Column C670 : Detailed weight % Composition_n-Propylbenzene_wt%',\n",
              " 'Toluene Column C670 Operation_Combined Feed to Toluene Column C670 : Detailed weight % Composition_1-Methyl-3-ethylbenzene_wt%',\n",
              " 'Toluene Column C670 Operation_Combined Feed to Toluene Column C670 : Detailed weight % Composition_1-Methyl-4-ethylbenzene_wt%',\n",
              " 'Toluene Column C670 Operation_Combined Feed to Toluene Column C670 : Detailed weight % Composition_1,3,5-Trimethylbenzene_wt%',\n",
              " 'Toluene Column C670 Operation_Combined Feed to Toluene Column C670 : Detailed weight % Composition_1-Methyl-2-ethylbenzene_wt%',\n",
              " 'Toluene Column C670 Operation_Combined Feed to Toluene Column C670 : Detailed weight % Composition_1,2,4-Trimethylbenzene_wt%',\n",
              " 'Toluene Column C670 Operation_Combined Feed to Toluene Column C670 : Detailed weight % Composition_tert-Butylcyclohexane_wt%',\n",
              " 'Toluene Column C670 Operation_Combined Feed to Toluene Column C670 : Detailed weight % Composition_1,2,3-Trimethylbenzene_wt%',\n",
              " 'Toluene Column C670 Operation_Combined Feed to Toluene Column C670 : Detailed weight % Composition_Indane_wt%',\n",
              " 'Toluene Column C670 Operation_Combined Feed to Toluene Column C670 : Detailed weight % Composition_1-Methyl-4-n-propylbenzene_wt%',\n",
              " 'Toluene Column C670 Operation_Combined Feed to Toluene Column C670 : Detailed weight % Composition_1,2-Diethylbenzene_wt%',\n",
              " 'Toluene Column C670 Operation_Combined Feed to Toluene Column C670 : Detailed weight % Composition_5-Ethyl-m-xylene_wt%',\n",
              " 'Toluene Column C670 Operation_Combined Feed to Toluene Column C670 : Detailed weight % Composition_1,4-Diethylbenzene_wt%',\n",
              " 'Toluene Column C670 Operation_Combined Feed to Toluene Column C670 : Detailed weight % Composition_1,2,3,5-Tetramethylbenzene_wt%',\n",
              " 'Toluene Column C670 Operation_Combined Feed to Toluene Column C670 : Detailed weight % Composition_n-Pentylbenzene_wt%',\n",
              " 'Toluene Column C670 Operation_Combined Feed to Toluene Column C670 : Detailed weight % Composition_n-Hexylbenzene_wt%',\n",
              " 'Toluene Column C670 Operation_Combined Feed to Toluene Column C670 : Detailed weight % Composition_Nitrogen_wt%',\n",
              " 'Toluene Column C670 Operation_Combined Feed to Toluene Column C670 : Detailed weight % Composition_Oxygen_wt%',\n",
              " 'Toluene Column C670 Feed Blending Factors Calculation_Upper Feed Blending Factor @ Tray 43 for Individual Component to Toluene Column C670_Hydrogen_Fraction',\n",
              " 'Toluene Column C670 Feed Blending Factors Calculation_Upper Feed Blending Factor @ Tray 43 for Individual Component to Toluene Column C670_Methane_Fraction',\n",
              " 'Toluene Column C670 Feed Blending Factors Calculation_Upper Feed Blending Factor @ Tray 43 for Individual Component to Toluene Column C670_Ethane_Fraction',\n",
              " 'Toluene Column C670 Feed Blending Factors Calculation_Upper Feed Blending Factor @ Tray 43 for Individual Component to Toluene Column C670_Propane_Fraction',\n",
              " 'Toluene Column C670 Feed Blending Factors Calculation_Upper Feed Blending Factor @ Tray 43 for Individual Component to Toluene Column C670_n-Butane_Fraction',\n",
              " 'Toluene Column C670 Feed Blending Factors Calculation_Upper Feed Blending Factor @ Tray 43 for Individual Component to Toluene Column C670_n-Pentane_Fraction',\n",
              " 'Toluene Column C670 Feed Blending Factors Calculation_Upper Feed Blending Factor @ Tray 43 for Individual Component to Toluene Column C670_n-Hexane_Fraction',\n",
              " 'Toluene Column C670 Feed Blending Factors Calculation_Upper Feed Blending Factor @ Tray 43 for Individual Component to Toluene Column C670_Benzene_Fraction',\n",
              " 'Toluene Column C670 Feed Blending Factors Calculation_Upper Feed Blending Factor @ Tray 43 for Individual Component to Toluene Column C670_Cyclohexane_Fraction',\n",
              " 'Toluene Column C670 Feed Blending Factors Calculation_Upper Feed Blending Factor @ Tray 43 for Individual Component to Toluene Column C670_n-Heptane_Fraction',\n",
              " 'Toluene Column C670 Feed Blending Factors Calculation_Upper Feed Blending Factor @ Tray 43 for Individual Component to Toluene Column C670_Water_Fraction',\n",
              " 'Toluene Column C670 Feed Blending Factors Calculation_Upper Feed Blending Factor @ Tray 43 for Individual Component to Toluene Column C670_Methylcyclohexane_Fraction',\n",
              " 'Toluene Column C670 Feed Blending Factors Calculation_Upper Feed Blending Factor @ Tray 43 for Individual Component to Toluene Column C670_Toluene_Fraction',\n",
              " 'Toluene Column C670 Feed Blending Factors Calculation_Upper Feed Blending Factor @ Tray 43 for Individual Component to Toluene Column C670_n-Octane_Fraction',\n",
              " 'Toluene Column C670 Feed Blending Factors Calculation_Upper Feed Blending Factor @ Tray 43 for Individual Component to Toluene Column C670_n-Propylcyclopentane_Fraction',\n",
              " 'Toluene Column C670 Feed Blending Factors Calculation_Upper Feed Blending Factor @ Tray 43 for Individual Component to Toluene Column C670_Ethylcyclohexane_Fraction',\n",
              " 'Toluene Column C670 Feed Blending Factors Calculation_Upper Feed Blending Factor @ Tray 43 for Individual Component to Toluene Column C670_Ethylbenzene_Fraction',\n",
              " 'Toluene Column C670 Feed Blending Factors Calculation_Upper Feed Blending Factor @ Tray 43 for Individual Component to Toluene Column C670_p-Xylene_Fraction',\n",
              " 'Toluene Column C670 Feed Blending Factors Calculation_Upper Feed Blending Factor @ Tray 43 for Individual Component to Toluene Column C670_m-Xylene_Fraction',\n",
              " 'Toluene Column C670 Feed Blending Factors Calculation_Upper Feed Blending Factor @ Tray 43 for Individual Component to Toluene Column C670_o-Xylene_Fraction',\n",
              " 'Toluene Column C670 Feed Blending Factors Calculation_Upper Feed Blending Factor @ Tray 43 for Individual Component to Toluene Column C670_n-Nonane_Fraction',\n",
              " 'Toluene Column C670 Feed Blending Factors Calculation_Upper Feed Blending Factor @ Tray 43 for Individual Component to Toluene Column C670_i-Propylbenzene_Fraction',\n",
              " 'Toluene Column C670 Feed Blending Factors Calculation_Upper Feed Blending Factor @ Tray 43 for Individual Component to Toluene Column C670_n-Propylcyclohexane_Fraction',\n",
              " 'Toluene Column C670 Feed Blending Factors Calculation_Upper Feed Blending Factor @ Tray 43 for Individual Component to Toluene Column C670_n-Propylbenzene_Fraction',\n",
              " 'Toluene Column C670 Feed Blending Factors Calculation_Upper Feed Blending Factor @ Tray 43 for Individual Component to Toluene Column C670_1-Methyl-3-ethylbenzene_Fraction',\n",
              " 'Toluene Column C670 Feed Blending Factors Calculation_Upper Feed Blending Factor @ Tray 43 for Individual Component to Toluene Column C670_1-Methyl-4-ethylbenzene_Fraction',\n",
              " 'Toluene Column C670 Feed Blending Factors Calculation_Upper Feed Blending Factor @ Tray 43 for Individual Component to Toluene Column C670_1,3,5-Trimethylbenzene_Fraction',\n",
              " 'Toluene Column C670 Feed Blending Factors Calculation_Upper Feed Blending Factor @ Tray 43 for Individual Component to Toluene Column C670_1-Methyl-2-ethylbenzene_Fraction',\n",
              " 'Toluene Column C670 Feed Blending Factors Calculation_Upper Feed Blending Factor @ Tray 43 for Individual Component to Toluene Column C670_1,2,4-Trimethylbenzene_Fraction',\n",
              " 'Toluene Column C670 Feed Blending Factors Calculation_Upper Feed Blending Factor @ Tray 43 for Individual Component to Toluene Column C670_tert-Butylcyclohexane_Fraction',\n",
              " 'Toluene Column C670 Feed Blending Factors Calculation_Upper Feed Blending Factor @ Tray 43 for Individual Component to Toluene Column C670_1,2,3-Trimethylbenzene_Fraction',\n",
              " 'Toluene Column C670 Feed Blending Factors Calculation_Upper Feed Blending Factor @ Tray 43 for Individual Component to Toluene Column C670_Indane_Fraction',\n",
              " 'Toluene Column C670 Feed Blending Factors Calculation_Upper Feed Blending Factor @ Tray 43 for Individual Component to Toluene Column C670_1-Methyl-4-n-propylbenzene_Fraction',\n",
              " 'Toluene Column C670 Feed Blending Factors Calculation_Upper Feed Blending Factor @ Tray 43 for Individual Component to Toluene Column C670_1,2-Diethylbenzene_Fraction',\n",
              " 'Toluene Column C670 Feed Blending Factors Calculation_Upper Feed Blending Factor @ Tray 43 for Individual Component to Toluene Column C670_5-Ethyl-m-xylene_Fraction',\n",
              " 'Toluene Column C670 Feed Blending Factors Calculation_Upper Feed Blending Factor @ Tray 43 for Individual Component to Toluene Column C670_1,4-Diethylbenzene_Fraction',\n",
              " 'Toluene Column C670 Feed Blending Factors Calculation_Upper Feed Blending Factor @ Tray 43 for Individual Component to Toluene Column C670_1,2,3,5-Tetramethylbenzene_Fraction',\n",
              " 'Toluene Column C670 Feed Blending Factors Calculation_Upper Feed Blending Factor @ Tray 43 for Individual Component to Toluene Column C670_n-Pentylbenzene_Fraction',\n",
              " 'Toluene Column C670 Feed Blending Factors Calculation_Upper Feed Blending Factor @ Tray 43 for Individual Component to Toluene Column C670_n-Hexylbenzene_Fraction',\n",
              " 'Toluene Column C670 Feed Blending Factors Calculation_Upper Feed Blending Factor @ Tray 43 for Individual Component to Toluene Column C670_Nitrogen_Fraction',\n",
              " 'Toluene Column C670 Feed Blending Factors Calculation_Upper Feed Blending Factor @ Tray 43 for Individual Component to Toluene Column C670_Oxygen_Fraction',\n",
              " 'Density_Distillate Production Rate and Composition',\n",
              " 'Density_Bottoms Production Rate and Composition',\n",
              " 'Toluene Column C670 Operation_Yield \\nSummary_Reflux Rate_m3/hr',\n",
              " 'Toluene Column C670 Operation_Column Temp Profile_C670 Tray 24 (Control)_oC',\n",
              " 'Toluene Column C670 Operation_Column Temp Profile_C670 Btm Temp (Control)_oC']"
            ]
          },
          "metadata": {
            "tags": []
          },
          "execution_count": 4
        }
      ]
    },
    {
      "cell_type": "markdown",
      "metadata": {
        "id": "sM7xuEbI9bD8"
      },
      "source": [
        "# 補足缺失欄位 分離係數"
      ]
    },
    {
      "cell_type": "code",
      "metadata": {
        "id": "4oWanpDn9bLK",
        "outputId": "352fa6ca-3e59-4495-bffa-13e8b6e104e4",
        "colab": {
          "base_uri": "https://localhost:8080/",
          "height": 304
        }
      },
      "source": [
        "path = '/content/drive/MyDrive/台塑輕油案子/data/c620/明志_遷移式學習_訓練資料_寄送版/蒸餾塔(C620_C660_C670)取出品管資料_寄送明志科大 r2.xlsx'\n",
        "df2 = pd.read_excel(path,sheet_name='資料彙整(寄送明志)r2')\n",
        "df2.head()"
      ],
      "execution_count": 5,
      "outputs": [
        {
          "output_type": "execute_result",
          "data": {
            "text/html": [
              "<div>\n",
              "<style scoped>\n",
              "    .dataframe tbody tr th:only-of-type {\n",
              "        vertical-align: middle;\n",
              "    }\n",
              "\n",
              "    .dataframe tbody tr th {\n",
              "        vertical-align: top;\n",
              "    }\n",
              "\n",
              "    .dataframe thead th {\n",
              "        text-align: right;\n",
              "    }\n",
              "</style>\n",
              "<table border=\"1\" class=\"dataframe\">\n",
              "  <thead>\n",
              "    <tr style=\"text-align: right;\">\n",
              "      <th></th>\n",
              "      <th>Unnamed: 0</th>\n",
              "      <th>Unnamed: 1</th>\n",
              "      <th>Unnamed: 2</th>\n",
              "      <th>Unnamed: 3</th>\n",
              "      <th>Unnamed: 4</th>\n",
              "      <th>Unnamed: 5</th>\n",
              "      <th>Unnamed: 6</th>\n",
              "      <th>Unnamed: 7</th>\n",
              "      <th>Unnamed: 8</th>\n",
              "      <th>Unnamed: 9</th>\n",
              "      <th>Unnamed: 10</th>\n",
              "      <th>Unnamed: 11</th>\n",
              "      <th>Unnamed: 12</th>\n",
              "      <th>Unnamed: 13</th>\n",
              "      <th>Unnamed: 14</th>\n",
              "      <th>Unnamed: 15</th>\n",
              "      <th>Unnamed: 16</th>\n",
              "      <th>Unnamed: 17</th>\n",
              "      <th>Unnamed: 18</th>\n",
              "      <th>Unnamed: 19</th>\n",
              "      <th>Unnamed: 20</th>\n",
              "      <th>Unnamed: 21</th>\n",
              "      <th>Unnamed: 22</th>\n",
              "      <th>Unnamed: 23</th>\n",
              "      <th>Unnamed: 24</th>\n",
              "      <th>Unnamed: 25</th>\n",
              "      <th>Unnamed: 26</th>\n",
              "      <th>Unnamed: 27</th>\n",
              "      <th>Unnamed: 28</th>\n",
              "      <th>Unnamed: 29</th>\n",
              "      <th>Unnamed: 30</th>\n",
              "      <th>Unnamed: 31</th>\n",
              "      <th>Unnamed: 32</th>\n",
              "      <th>Unnamed: 33</th>\n",
              "      <th>Unnamed: 34</th>\n",
              "      <th>Unnamed: 35</th>\n",
              "      <th>Unnamed: 36</th>\n",
              "      <th>Unnamed: 37</th>\n",
              "      <th>Unnamed: 38</th>\n",
              "      <th>Unnamed: 39</th>\n",
              "      <th>...</th>\n",
              "      <th>Unnamed: 130</th>\n",
              "      <th>Unnamed: 131</th>\n",
              "      <th>Unnamed: 132</th>\n",
              "      <th>Unnamed: 133</th>\n",
              "      <th>Unnamed: 134</th>\n",
              "      <th>Unnamed: 135</th>\n",
              "      <th>Unnamed: 136</th>\n",
              "      <th>Unnamed: 137</th>\n",
              "      <th>Unnamed: 138</th>\n",
              "      <th>Unnamed: 139</th>\n",
              "      <th>Unnamed: 140</th>\n",
              "      <th>Unnamed: 141</th>\n",
              "      <th>Unnamed: 142</th>\n",
              "      <th>Unnamed: 143</th>\n",
              "      <th>Unnamed: 144</th>\n",
              "      <th>Unnamed: 145</th>\n",
              "      <th>Unnamed: 146</th>\n",
              "      <th>Unnamed: 147</th>\n",
              "      <th>Unnamed: 148</th>\n",
              "      <th>Unnamed: 149</th>\n",
              "      <th>Unnamed: 150</th>\n",
              "      <th>Unnamed: 151</th>\n",
              "      <th>Unnamed: 152</th>\n",
              "      <th>Unnamed: 153</th>\n",
              "      <th>Unnamed: 154</th>\n",
              "      <th>Unnamed: 155</th>\n",
              "      <th>Unnamed: 156</th>\n",
              "      <th>Unnamed: 157</th>\n",
              "      <th>Unnamed: 158</th>\n",
              "      <th>Unnamed: 159</th>\n",
              "      <th>Unnamed: 160</th>\n",
              "      <th>Unnamed: 161</th>\n",
              "      <th>Unnamed: 162</th>\n",
              "      <th>Unnamed: 163</th>\n",
              "      <th>Unnamed: 164</th>\n",
              "      <th>Unnamed: 165</th>\n",
              "      <th>Unnamed: 166</th>\n",
              "      <th>Unnamed: 167</th>\n",
              "      <th>Unnamed: 168</th>\n",
              "      <th>Unnamed: 169</th>\n",
              "    </tr>\n",
              "  </thead>\n",
              "  <tbody>\n",
              "    <tr>\n",
              "      <th>0</th>\n",
              "      <td>NaN</td>\n",
              "      <td>C620_Vent_Gas</td>\n",
              "      <td>2020-09-02 00:00:00</td>\n",
              "      <td>2020-09-03 00:00:00</td>\n",
              "      <td>2020-09-04 00:00:00</td>\n",
              "      <td>2020-09-05 00:00:00</td>\n",
              "      <td>2020-09-06 00:00:00</td>\n",
              "      <td>2020-09-07 00:00:00</td>\n",
              "      <td>2020-09-08 00:00:00</td>\n",
              "      <td>2020-09-09 00:00:00</td>\n",
              "      <td>2020-09-10 00:00:00</td>\n",
              "      <td>2020-09-11 00:00:00</td>\n",
              "      <td>2020-09-12 00:00:00</td>\n",
              "      <td>2020-09-13 00:00:00</td>\n",
              "      <td>2020-09-14 00:00:00</td>\n",
              "      <td>2020-09-15 00:00:00</td>\n",
              "      <td>2020-09-16 00:00:00</td>\n",
              "      <td>2020-09-17 00:00:00</td>\n",
              "      <td>2020-09-18 00:00:00</td>\n",
              "      <td>2020-09-19 00:00:00</td>\n",
              "      <td>2020-09-20 00:00:00</td>\n",
              "      <td>2020-09-21 00:00:00</td>\n",
              "      <td>2020-09-22 00:00:00</td>\n",
              "      <td>2020-09-23 00:00:00</td>\n",
              "      <td>2020-09-24 00:00:00</td>\n",
              "      <td>2020-09-25 00:00:00</td>\n",
              "      <td>2020-09-26 00:00:00</td>\n",
              "      <td>2020-09-27 00:00:00</td>\n",
              "      <td>2020-09-28 00:00:00</td>\n",
              "      <td>2020-09-29 00:00:00</td>\n",
              "      <td>2020-09-30 00:00:00</td>\n",
              "      <td>2020-10-02 00:00:00</td>\n",
              "      <td>2020-10-03 00:00:00</td>\n",
              "      <td>2020-10-04 00:00:00</td>\n",
              "      <td>2020-10-05 00:00:00</td>\n",
              "      <td>2020-10-06 00:00:00</td>\n",
              "      <td>2020-10-07 00:00:00</td>\n",
              "      <td>2020-10-08 00:00:00</td>\n",
              "      <td>2020-10-09 00:00:00</td>\n",
              "      <td>2020-10-10 00:00:00</td>\n",
              "      <td>...</td>\n",
              "      <td>2021-01-12 00:00:00</td>\n",
              "      <td>2021-01-13 00:00:00</td>\n",
              "      <td>2021-01-14 00:00:00</td>\n",
              "      <td>2021-01-15 00:00:00</td>\n",
              "      <td>2021-01-16 00:00:00</td>\n",
              "      <td>2021-01-17 00:00:00</td>\n",
              "      <td>2021-01-18 00:00:00</td>\n",
              "      <td>2021-01-19 00:00:00</td>\n",
              "      <td>2021-01-20 00:00:00</td>\n",
              "      <td>2021-01-21 00:00:00</td>\n",
              "      <td>2021-01-22 00:00:00</td>\n",
              "      <td>2021-01-23 00:00:00</td>\n",
              "      <td>2021-01-24 00:00:00</td>\n",
              "      <td>2021-01-25 00:00:00</td>\n",
              "      <td>2021-01-26 00:00:00</td>\n",
              "      <td>2021-01-27 00:00:00</td>\n",
              "      <td>2021-01-28 00:00:00</td>\n",
              "      <td>2021-01-29 00:00:00</td>\n",
              "      <td>2021-01-30 00:00:00</td>\n",
              "      <td>2021-01-31 00:00:00</td>\n",
              "      <td>2021-02-02 00:00:00</td>\n",
              "      <td>2021-02-03 00:00:00</td>\n",
              "      <td>2021-02-04 00:00:00</td>\n",
              "      <td>2021-02-05 00:00:00</td>\n",
              "      <td>2021-02-06 00:00:00</td>\n",
              "      <td>2021-02-07 00:00:00</td>\n",
              "      <td>2021-02-08 00:00:00</td>\n",
              "      <td>2021-02-09 00:00:00</td>\n",
              "      <td>2021-02-10 00:00:00</td>\n",
              "      <td>2021-02-11 00:00:00</td>\n",
              "      <td>2021-02-12 00:00:00</td>\n",
              "      <td>2021-02-13 00:00:00</td>\n",
              "      <td>2021-02-14 00:00:00</td>\n",
              "      <td>2021-02-15 00:00:00</td>\n",
              "      <td>2021-02-16 00:00:00</td>\n",
              "      <td>2021-02-17 00:00:00</td>\n",
              "      <td>2021-02-18 00:00:00</td>\n",
              "      <td>2021-02-19 00:00:00</td>\n",
              "      <td>2021-02-20 00:00:00</td>\n",
              "      <td>2021-02-21 00:00:00</td>\n",
              "    </tr>\n",
              "    <tr>\n",
              "      <th>1</th>\n",
              "      <td>NaN</td>\n",
              "      <td>Hydrogen</td>\n",
              "      <td>6.531</td>\n",
              "      <td>8.41</td>\n",
              "      <td>7.918</td>\n",
              "      <td>7.8752</td>\n",
              "      <td>7.372</td>\n",
              "      <td>7.59</td>\n",
              "      <td>7.431</td>\n",
              "      <td>7.115</td>\n",
              "      <td>7.37</td>\n",
              "      <td>6.78</td>\n",
              "      <td>7.96</td>\n",
              "      <td>7.79</td>\n",
              "      <td>8.21</td>\n",
              "      <td>8.1288</td>\n",
              "      <td>7.6925</td>\n",
              "      <td>8.1227</td>\n",
              "      <td>8.8135</td>\n",
              "      <td>7.6956</td>\n",
              "      <td>8.041</td>\n",
              "      <td>7.907</td>\n",
              "      <td>7.394</td>\n",
              "      <td>7.774</td>\n",
              "      <td>8.159</td>\n",
              "      <td>7.22</td>\n",
              "      <td>7.184</td>\n",
              "      <td>6.901</td>\n",
              "      <td>7.151</td>\n",
              "      <td>7.39</td>\n",
              "      <td>7.18</td>\n",
              "      <td>8.86</td>\n",
              "      <td>8.1</td>\n",
              "      <td>8.5</td>\n",
              "      <td>8.0328</td>\n",
              "      <td>11.008</td>\n",
              "      <td>8.0358</td>\n",
              "      <td>10.241</td>\n",
              "      <td>30.628</td>\n",
              "      <td>36.404</td>\n",
              "      <td>...</td>\n",
              "      <td>9.56</td>\n",
              "      <td>8.6134</td>\n",
              "      <td>8.5596</td>\n",
              "      <td>4.7681</td>\n",
              "      <td>9.9246</td>\n",
              "      <td>8.5458</td>\n",
              "      <td>8.902</td>\n",
              "      <td>6.704</td>\n",
              "      <td>8.496</td>\n",
              "      <td>8.01</td>\n",
              "      <td>8.815</td>\n",
              "      <td>7.868</td>\n",
              "      <td>7.988</td>\n",
              "      <td>8.315</td>\n",
              "      <td>8.65</td>\n",
              "      <td>7.809</td>\n",
              "      <td>7.81</td>\n",
              "      <td>9.12</td>\n",
              "      <td>8.72</td>\n",
              "      <td>9.45</td>\n",
              "      <td>9.6649</td>\n",
              "      <td>9.0969</td>\n",
              "      <td>8.6988</td>\n",
              "      <td>3.6305</td>\n",
              "      <td>9.3991</td>\n",
              "      <td>9.107</td>\n",
              "      <td>8.271</td>\n",
              "      <td>7.902</td>\n",
              "      <td>8.084</td>\n",
              "      <td>7.941</td>\n",
              "      <td>7.491</td>\n",
              "      <td>8.036</td>\n",
              "      <td>7.967</td>\n",
              "      <td>7.65</td>\n",
              "      <td>7.99</td>\n",
              "      <td>7.63</td>\n",
              "      <td>8.47</td>\n",
              "      <td>9.25</td>\n",
              "      <td>9.86</td>\n",
              "      <td>9.61</td>\n",
              "    </tr>\n",
              "    <tr>\n",
              "      <th>2</th>\n",
              "      <td>NaN</td>\n",
              "      <td>Methane</td>\n",
              "      <td>1.898</td>\n",
              "      <td>2.229</td>\n",
              "      <td>2.343</td>\n",
              "      <td>2.453</td>\n",
              "      <td>2.384</td>\n",
              "      <td>2.414</td>\n",
              "      <td>2.371</td>\n",
              "      <td>2.316</td>\n",
              "      <td>2.36</td>\n",
              "      <td>2.31</td>\n",
              "      <td>2.57</td>\n",
              "      <td>2.41</td>\n",
              "      <td>2.53</td>\n",
              "      <td>2.5528</td>\n",
              "      <td>2.4797</td>\n",
              "      <td>2.5428</td>\n",
              "      <td>2.7001</td>\n",
              "      <td>2.3819</td>\n",
              "      <td>2.399</td>\n",
              "      <td>2.298</td>\n",
              "      <td>2.315</td>\n",
              "      <td>2.163</td>\n",
              "      <td>2.212</td>\n",
              "      <td>2.322</td>\n",
              "      <td>2.296</td>\n",
              "      <td>2.21</td>\n",
              "      <td>2.256</td>\n",
              "      <td>2.233</td>\n",
              "      <td>2.22</td>\n",
              "      <td>2.48</td>\n",
              "      <td>2.45</td>\n",
              "      <td>2.51</td>\n",
              "      <td>2.3331</td>\n",
              "      <td>2.8984</td>\n",
              "      <td>2.2278</td>\n",
              "      <td>2.3713</td>\n",
              "      <td>3.0879</td>\n",
              "      <td>3.642</td>\n",
              "      <td>...</td>\n",
              "      <td>3</td>\n",
              "      <td>2.8436</td>\n",
              "      <td>2.7739</td>\n",
              "      <td>1.4418</td>\n",
              "      <td>2.4487</td>\n",
              "      <td>2.8594</td>\n",
              "      <td>2.776</td>\n",
              "      <td>2.384</td>\n",
              "      <td>2.798</td>\n",
              "      <td>2.711</td>\n",
              "      <td>2.964</td>\n",
              "      <td>2.742</td>\n",
              "      <td>2.694</td>\n",
              "      <td>2.824</td>\n",
              "      <td>3.031</td>\n",
              "      <td>3.173</td>\n",
              "      <td>3.17</td>\n",
              "      <td>3.21</td>\n",
              "      <td>3.09</td>\n",
              "      <td>3.22</td>\n",
              "      <td>3.3915</td>\n",
              "      <td>3.1516</td>\n",
              "      <td>3.2169</td>\n",
              "      <td>1.6245</td>\n",
              "      <td>3.4361</td>\n",
              "      <td>3.168</td>\n",
              "      <td>2.982</td>\n",
              "      <td>2.973</td>\n",
              "      <td>2.901</td>\n",
              "      <td>2.872</td>\n",
              "      <td>2.701</td>\n",
              "      <td>2.911</td>\n",
              "      <td>2.934</td>\n",
              "      <td>2.93</td>\n",
              "      <td>2.926</td>\n",
              "      <td>2.83</td>\n",
              "      <td>2.99</td>\n",
              "      <td>3.27</td>\n",
              "      <td>2.83</td>\n",
              "      <td>3.46</td>\n",
              "    </tr>\n",
              "    <tr>\n",
              "      <th>3</th>\n",
              "      <td>NaN</td>\n",
              "      <td>Ethane</td>\n",
              "      <td>35.025</td>\n",
              "      <td>38.57</td>\n",
              "      <td>37.649</td>\n",
              "      <td>37.257</td>\n",
              "      <td>38.169</td>\n",
              "      <td>37.37</td>\n",
              "      <td>37.082</td>\n",
              "      <td>37.207</td>\n",
              "      <td>37.17</td>\n",
              "      <td>37.19</td>\n",
              "      <td>38.94</td>\n",
              "      <td>38.94</td>\n",
              "      <td>39.6</td>\n",
              "      <td>39.391</td>\n",
              "      <td>39.359</td>\n",
              "      <td>40.237</td>\n",
              "      <td>39.285</td>\n",
              "      <td>36.894</td>\n",
              "      <td>37.034</td>\n",
              "      <td>36.761</td>\n",
              "      <td>37.409</td>\n",
              "      <td>36.568</td>\n",
              "      <td>36.671</td>\n",
              "      <td>37.315</td>\n",
              "      <td>36.726</td>\n",
              "      <td>37.814</td>\n",
              "      <td>37.294</td>\n",
              "      <td>37.049</td>\n",
              "      <td>38.11</td>\n",
              "      <td>34.88</td>\n",
              "      <td>35.12</td>\n",
              "      <td>34.83</td>\n",
              "      <td>34.477</td>\n",
              "      <td>38.151</td>\n",
              "      <td>31.911</td>\n",
              "      <td>35.016</td>\n",
              "      <td>28.548</td>\n",
              "      <td>30.702</td>\n",
              "      <td>...</td>\n",
              "      <td>38.32</td>\n",
              "      <td>36.366</td>\n",
              "      <td>32.599</td>\n",
              "      <td>25.409</td>\n",
              "      <td>34.855</td>\n",
              "      <td>35.881</td>\n",
              "      <td>34.237</td>\n",
              "      <td>31.999</td>\n",
              "      <td>32.443</td>\n",
              "      <td>33.041</td>\n",
              "      <td>34.721</td>\n",
              "      <td>32.939</td>\n",
              "      <td>33.654</td>\n",
              "      <td>34.075</td>\n",
              "      <td>35.408</td>\n",
              "      <td>37.122</td>\n",
              "      <td>37.12</td>\n",
              "      <td>35.29</td>\n",
              "      <td>35.12</td>\n",
              "      <td>34.86</td>\n",
              "      <td>33.974</td>\n",
              "      <td>32.74</td>\n",
              "      <td>33.978</td>\n",
              "      <td>29.971</td>\n",
              "      <td>34.754</td>\n",
              "      <td>33.463</td>\n",
              "      <td>32.24</td>\n",
              "      <td>32.04</td>\n",
              "      <td>31.419</td>\n",
              "      <td>32.289</td>\n",
              "      <td>30.083</td>\n",
              "      <td>31.025</td>\n",
              "      <td>31.039</td>\n",
              "      <td>31.377</td>\n",
              "      <td>31.185</td>\n",
              "      <td>30.93</td>\n",
              "      <td>31.25</td>\n",
              "      <td>28.4</td>\n",
              "      <td>28.64</td>\n",
              "      <td>31.58</td>\n",
              "    </tr>\n",
              "    <tr>\n",
              "      <th>4</th>\n",
              "      <td>NaN</td>\n",
              "      <td>Propane</td>\n",
              "      <td>35.582</td>\n",
              "      <td>36.87</td>\n",
              "      <td>38.3</td>\n",
              "      <td>38.457</td>\n",
              "      <td>38.498</td>\n",
              "      <td>38.794</td>\n",
              "      <td>39.044</td>\n",
              "      <td>38.801</td>\n",
              "      <td>38.98</td>\n",
              "      <td>39.11</td>\n",
              "      <td>37.33</td>\n",
              "      <td>37.41</td>\n",
              "      <td>37</td>\n",
              "      <td>37.237</td>\n",
              "      <td>37.557</td>\n",
              "      <td>36.517</td>\n",
              "      <td>36.118</td>\n",
              "      <td>38.297</td>\n",
              "      <td>38.418</td>\n",
              "      <td>38.603</td>\n",
              "      <td>38.66</td>\n",
              "      <td>38.446</td>\n",
              "      <td>38.625</td>\n",
              "      <td>39.068</td>\n",
              "      <td>39.327</td>\n",
              "      <td>38.862</td>\n",
              "      <td>39.38</td>\n",
              "      <td>39.002</td>\n",
              "      <td>39.16</td>\n",
              "      <td>39.76</td>\n",
              "      <td>40.24</td>\n",
              "      <td>40.03</td>\n",
              "      <td>40.697</td>\n",
              "      <td>37.078</td>\n",
              "      <td>38.699</td>\n",
              "      <td>39.251</td>\n",
              "      <td>24.382</td>\n",
              "      <td>17.676</td>\n",
              "      <td>...</td>\n",
              "      <td>37.95</td>\n",
              "      <td>39.102</td>\n",
              "      <td>41.182</td>\n",
              "      <td>45.801</td>\n",
              "      <td>38.921</td>\n",
              "      <td>40.882</td>\n",
              "      <td>41.247</td>\n",
              "      <td>44.393</td>\n",
              "      <td>43.46</td>\n",
              "      <td>42.135</td>\n",
              "      <td>41.395</td>\n",
              "      <td>41.819</td>\n",
              "      <td>41.895</td>\n",
              "      <td>41.913</td>\n",
              "      <td>41.208</td>\n",
              "      <td>38.524</td>\n",
              "      <td>38.52</td>\n",
              "      <td>40.01</td>\n",
              "      <td>40.43</td>\n",
              "      <td>40.17</td>\n",
              "      <td>41.397</td>\n",
              "      <td>42.415</td>\n",
              "      <td>41.945</td>\n",
              "      <td>48.884</td>\n",
              "      <td>40.718</td>\n",
              "      <td>41.955</td>\n",
              "      <td>43.024</td>\n",
              "      <td>43.816</td>\n",
              "      <td>43.412</td>\n",
              "      <td>43.372</td>\n",
              "      <td>42.708</td>\n",
              "      <td>44.03</td>\n",
              "      <td>43.914</td>\n",
              "      <td>43.857</td>\n",
              "      <td>43.429</td>\n",
              "      <td>43.95</td>\n",
              "      <td>42.42</td>\n",
              "      <td>44.56</td>\n",
              "      <td>38.95</td>\n",
              "      <td>42.55</td>\n",
              "    </tr>\n",
              "  </tbody>\n",
              "</table>\n",
              "<p>5 rows × 170 columns</p>\n",
              "</div>"
            ],
            "text/plain": [
              "   Unnamed: 0     Unnamed: 1  ...         Unnamed: 168         Unnamed: 169\n",
              "0         NaN  C620_Vent_Gas  ...  2021-02-20 00:00:00  2021-02-21 00:00:00\n",
              "1         NaN       Hydrogen  ...                 9.86                 9.61\n",
              "2         NaN        Methane  ...                 2.83                 3.46\n",
              "3         NaN         Ethane  ...                28.64                31.58\n",
              "4         NaN        Propane  ...                38.95                42.55\n",
              "\n",
              "[5 rows x 170 columns]"
            ]
          },
          "metadata": {
            "tags": []
          },
          "execution_count": 5
        }
      ]
    },
    {
      "cell_type": "code",
      "metadata": {
        "id": "J_tIwW5M9i-3"
      },
      "source": [
        "c670_wt2,c670_fout2 = df2.iloc[353:353+41,2:].T,df2.iloc[[353+41],2:].T  \n",
        "c670_wt4,c670_fout4 = df2.iloc[397:397+41,2:].T,df2.iloc[[397+41],2:].T\n",
        "c670_feed_wt,c670_feed_flow = df2.iloc[529:529+41,2:].T,df2.iloc[[529+41],2:].T\n",
        "\n",
        "s2 = np.clip((c670_wt2.values*c670_fout2.values)/(c670_feed_wt.values*c670_feed_flow.values+1e-8),0,1)\n",
        "s4 = np.clip((c670_wt4.values*c670_fout4.values)/(c670_feed_wt.values*c670_feed_flow.values+1e-8),0,1)\n",
        "\n",
        "s2_col = c670_df.filter(regex='Split Factor for Individual Component to Toluene Column C670 Distillate').columns.tolist()\n",
        "s4_col = c670_df.filter(regex='Split Factor for Individual Component to Toluene Column C670 Bottoms').columns.tolist()\n",
        "\n",
        "c670_df[s2_col] = s2\n",
        "c670_df[s4_col] = s4\n",
        "\n",
        "c670_wt_always_same_split_factor_dict = joblib.load('/content/drive/MyDrive/台塑輕油案子/data/c620/map_dict/c670_wt_always_same_split_factor_dict.pkl')\n",
        "for i in c670_wt_always_same_split_factor_dict.keys():\n",
        "  c670_df[i] = c670_wt_always_same_split_factor_dict[i]\n",
        "\n",
        "c670_df.to_excel('/content/drive/MyDrive/台塑輕油案子/data/c620/明志_遷移式學習_訓練資料_寄送版/c670_data.xlsx')"
      ],
      "execution_count": 6,
      "outputs": []
    },
    {
      "cell_type": "markdown",
      "metadata": {
        "id": "5-E7rEFA_G3w"
      },
      "source": [
        "# 定義欄位"
      ]
    },
    {
      "cell_type": "code",
      "metadata": {
        "id": "IaMoBXdSKQ83"
      },
      "source": [
        "x_col = c['combined'] + c['upper_bf']\n",
        "op_col = c['density']+c['yRefluxRate']+c['yHeatDuty']+c['yControl']\n",
        "sp_col = s2_col + s4_col\n",
        "y_col = c670_df[sp_col+op_col].dropna(axis=1).columns.tolist()\n",
        "n_idx = [ [i,i+41] for i in range(41)]"
      ],
      "execution_count": 9,
      "outputs": []
    },
    {
      "cell_type": "markdown",
      "metadata": {
        "id": "a18T2VrXRvtx"
      },
      "source": [
        "# 1. 實驗直接訓練 (不使用預訓練模型)"
      ]
    },
    {
      "cell_type": "code",
      "metadata": {
        "colab": {
          "base_uri": "https://localhost:8080/",
          "height": 401
        },
        "id": "s6icTkbYQiJF",
        "outputId": "67d413d2-cd3e-4074-de57-fa0fcd263e95"
      },
      "source": [
        "from autorch.utils import PartBulider\n",
        "c670 = PartBulider(c670_df,x_col,y_col,normalize_idx_list=n_idx,limit_y_range=True)\n",
        "c670.train()"
      ],
      "execution_count": 11,
      "outputs": [
        {
          "output_type": "stream",
          "text": [
            "  3%|▎         | 9/300 [00:00<01:05,  4.42it/s]"
          ],
          "name": "stderr"
        },
        {
          "output_type": "stream",
          "text": [
            "epoch:0 train_loss:0.0849 valid_loss:0.0761\n"
          ],
          "name": "stdout"
        },
        {
          "output_type": "stream",
          "text": [
            " 22%|██▏       | 65/300 [00:01<00:07, 32.20it/s]"
          ],
          "name": "stderr"
        },
        {
          "output_type": "stream",
          "text": [
            "epoch:50 train_loss:0.0044 valid_loss:0.0046\n"
          ],
          "name": "stdout"
        },
        {
          "output_type": "stream",
          "text": [
            " 36%|███▋      | 109/300 [00:01<00:02, 64.98it/s]"
          ],
          "name": "stderr"
        },
        {
          "output_type": "stream",
          "text": [
            "epoch:100 train_loss:0.0035 valid_loss:0.0040\n"
          ],
          "name": "stdout"
        },
        {
          "output_type": "stream",
          "text": [
            " 57%|█████▋    | 170/300 [00:02<00:01, 83.38it/s]"
          ],
          "name": "stderr"
        },
        {
          "output_type": "stream",
          "text": [
            "epoch:150 train_loss:0.0031 valid_loss:0.0036\n"
          ],
          "name": "stdout"
        },
        {
          "output_type": "stream",
          "text": [
            " 71%|███████   | 212/300 [00:02<00:01, 84.97it/s]"
          ],
          "name": "stderr"
        },
        {
          "output_type": "stream",
          "text": [
            "epoch:200 train_loss:0.0027 valid_loss:0.0034\n"
          ],
          "name": "stdout"
        },
        {
          "output_type": "stream",
          "text": [
            " 88%|████████▊ | 265/300 [00:03<00:00, 78.82it/s]"
          ],
          "name": "stderr"
        },
        {
          "output_type": "stream",
          "text": [
            "epoch:250 train_loss:0.0024 valid_loss:0.0036\n"
          ],
          "name": "stdout"
        },
        {
          "output_type": "stream",
          "text": [
            "100%|██████████| 300/300 [00:04<00:00, 73.75it/s]\n"
          ],
          "name": "stderr"
        },
        {
          "output_type": "display_data",
          "data": {
            "image/png": "[encoded data removed]",
            "text/plain": [
              "<Figure size 432x288 with 1 Axes>"
            ]
          },
          "metadata": {
            "tags": [],
            "needs_background": "light"
          }
        },
        {
          "output_type": "execute_result",
          "data": {
            "text/plain": [
              "<autorch.utils.part.PartBulider at 0x7f3edfb65450>"
            ]
          },
          "metadata": {
            "tags": []
          },
          "execution_count": 11
        }
      ]
    },
    {
      "cell_type": "code",
      "metadata": {
        "colab": {
          "base_uri": "https://localhost:8080/",
          "height": 419
        },
        "id": "BzLHL_YsQkMC",
        "outputId": "a0013c71-996f-4a03-a36f-03f28f87f458"
      },
      "source": [
        "c670.test(e=2e-2)"
      ],
      "execution_count": 12,
      "outputs": [
        {
          "output_type": "execute_result",
          "data": {
            "text/html": [
              "<div>\n",
              "<style scoped>\n",
              "    .dataframe tbody tr th:only-of-type {\n",
              "        vertical-align: middle;\n",
              "    }\n",
              "\n",
              "    .dataframe tbody tr th {\n",
              "        vertical-align: top;\n",
              "    }\n",
              "\n",
              "    .dataframe thead th {\n",
              "        text-align: right;\n",
              "    }\n",
              "</style>\n",
              "<table border=\"1\" class=\"dataframe\">\n",
              "  <thead>\n",
              "    <tr style=\"text-align: right;\">\n",
              "      <th></th>\n",
              "      <th>R2</th>\n",
              "      <th>MSE</th>\n",
              "      <th>MAPE</th>\n",
              "    </tr>\n",
              "  </thead>\n",
              "  <tbody>\n",
              "    <tr>\n",
              "      <th>Toluene Column C670 Split Factors Calculation_Split Factor for Individual Component to Toluene Column C670 Distillate_Hydrogen_Fraction</th>\n",
              "      <td>0</td>\n",
              "      <td>1.02298e-06</td>\n",
              "      <td>0.0912431</td>\n",
              "    </tr>\n",
              "    <tr>\n",
              "      <th>Toluene Column C670 Split Factors Calculation_Split Factor for Individual Component to Toluene Column C670 Distillate_Methane_Fraction</th>\n",
              "      <td>0</td>\n",
              "      <td>2.58708e-06</td>\n",
              "      <td>0.139112</td>\n",
              "    </tr>\n",
              "    <tr>\n",
              "      <th>Toluene Column C670 Split Factors Calculation_Split Factor for Individual Component to Toluene Column C670 Distillate_Ethane_Fraction</th>\n",
              "      <td>0</td>\n",
              "      <td>1.85861e-06</td>\n",
              "      <td>0.130247</td>\n",
              "    </tr>\n",
              "    <tr>\n",
              "      <th>Toluene Column C670 Split Factors Calculation_Split Factor for Individual Component to Toluene Column C670 Distillate_Propane_Fraction</th>\n",
              "      <td>0</td>\n",
              "      <td>9.81171e-07</td>\n",
              "      <td>0.0961893</td>\n",
              "    </tr>\n",
              "    <tr>\n",
              "      <th>Toluene Column C670 Split Factors Calculation_Split Factor for Individual Component to Toluene Column C670 Distillate_n-Butane_Fraction</th>\n",
              "      <td>0</td>\n",
              "      <td>9.58472e-07</td>\n",
              "      <td>0.0932841</td>\n",
              "    </tr>\n",
              "    <tr>\n",
              "      <th>...</th>\n",
              "      <td>...</td>\n",
              "      <td>...</td>\n",
              "      <td>...</td>\n",
              "    </tr>\n",
              "    <tr>\n",
              "      <th>Density_Bottoms Production Rate and Composition</th>\n",
              "      <td>0.972435</td>\n",
              "      <td>1.14456e-08</td>\n",
              "      <td>0.00984275</td>\n",
              "    </tr>\n",
              "    <tr>\n",
              "      <th>Toluene Column C670 Operation_Yield \\nSummary_Reflux Rate_m3/hr</th>\n",
              "      <td>0.561756</td>\n",
              "      <td>83.8827</td>\n",
              "      <td>2.99197</td>\n",
              "    </tr>\n",
              "    <tr>\n",
              "      <th>Toluene Column C670 Operation_Column Temp Profile_C670 Tray 24 (Control)_oC</th>\n",
              "      <td>0.455407</td>\n",
              "      <td>0.456318</td>\n",
              "      <td>0.295717</td>\n",
              "    </tr>\n",
              "    <tr>\n",
              "      <th>Toluene Column C670 Operation_Column Temp Profile_C670 Btm Temp (Control)_oC</th>\n",
              "      <td>0.255118</td>\n",
              "      <td>0.736321</td>\n",
              "      <td>0.327929</td>\n",
              "    </tr>\n",
              "    <tr>\n",
              "      <th>AVG</th>\n",
              "      <td>0.168328</td>\n",
              "      <td>0.989093</td>\n",
              "      <td>13.2682</td>\n",
              "    </tr>\n",
              "  </tbody>\n",
              "</table>\n",
              "<p>88 rows × 3 columns</p>\n",
              "</div>"
            ],
            "text/plain": [
              "                                                          R2  ...        MAPE\n",
              "Toluene Column C670 Split Factors Calculation_S...         0  ...   0.0912431\n",
              "Toluene Column C670 Split Factors Calculation_S...         0  ...    0.139112\n",
              "Toluene Column C670 Split Factors Calculation_S...         0  ...    0.130247\n",
              "Toluene Column C670 Split Factors Calculation_S...         0  ...   0.0961893\n",
              "Toluene Column C670 Split Factors Calculation_S...         0  ...   0.0932841\n",
              "...                                                      ...  ...         ...\n",
              "Density_Bottoms Production Rate and Composition     0.972435  ...  0.00984275\n",
              "Toluene Column C670 Operation_Yield \\nSummary_R...  0.561756  ...     2.99197\n",
              "Toluene Column C670 Operation_Column Temp Profi...  0.455407  ...    0.295717\n",
              "Toluene Column C670 Operation_Column Temp Profi...  0.255118  ...    0.327929\n",
              "AVG                                                 0.168328  ...     13.2682\n",
              "\n",
              "[88 rows x 3 columns]"
            ]
          },
          "metadata": {
            "tags": []
          },
          "execution_count": 12
        }
      ]
    },
    {
      "cell_type": "markdown",
      "metadata": {
        "id": "hACfpgAOSCJJ"
      },
      "source": [
        "# 2.使用預訓練模型"
      ]
    },
    {
      "cell_type": "markdown",
      "metadata": {
        "id": "WeKSkdwaTJfO"
      },
      "source": [
        "2.1 用模擬數據先預訓練一個模型"
      ]
    },
    {
      "cell_type": "code",
      "metadata": {
        "colab": {
          "base_uri": "https://localhost:8080/",
          "height": 401
        },
        "id": "7Y4PRpDKQkO0",
        "outputId": "0804dc32-18c1-403d-8f9b-ac324ff2527e"
      },
      "source": [
        "c670_df = pd.read_csv('/content/drive/MyDrive/台塑輕油案子/data/c620/cleaned/c670_train.csv',index_col=0).dropna(axis=0)\n",
        "c670 = PartBulider(c670_df,x_col,y_col,normalize_idx_list=n_idx,limit_y_range=True)\n",
        "c670.train()"
      ],
      "execution_count": 13,
      "outputs": [
        {
          "output_type": "stream",
          "text": [
            "  0%|          | 1/300 [00:00<04:16,  1.17it/s]"
          ],
          "name": "stderr"
        },
        {
          "output_type": "stream",
          "text": [
            "epoch:0 train_loss:0.0059 valid_loss:0.0025\n"
          ],
          "name": "stdout"
        },
        {
          "output_type": "stream",
          "text": [
            " 17%|█▋        | 51/300 [00:45<03:44,  1.11it/s]"
          ],
          "name": "stderr"
        },
        {
          "output_type": "stream",
          "text": [
            "epoch:50 train_loss:0.0018 valid_loss:0.0017\n"
          ],
          "name": "stdout"
        },
        {
          "output_type": "stream",
          "text": [
            " 34%|███▎      | 101/300 [01:31<03:03,  1.08it/s]"
          ],
          "name": "stderr"
        },
        {
          "output_type": "stream",
          "text": [
            "epoch:100 train_loss:0.0016 valid_loss:0.0016\n"
          ],
          "name": "stdout"
        },
        {
          "output_type": "stream",
          "text": [
            " 50%|█████     | 151/300 [02:18<02:15,  1.10it/s]"
          ],
          "name": "stderr"
        },
        {
          "output_type": "stream",
          "text": [
            "epoch:150 train_loss:0.0016 valid_loss:0.0016\n"
          ],
          "name": "stdout"
        },
        {
          "output_type": "stream",
          "text": [
            " 67%|██████▋   | 201/300 [03:04<01:34,  1.05it/s]"
          ],
          "name": "stderr"
        },
        {
          "output_type": "stream",
          "text": [
            "epoch:200 train_loss:0.0015 valid_loss:0.0016\n"
          ],
          "name": "stdout"
        },
        {
          "output_type": "stream",
          "text": [
            " 84%|████████▎ | 251/300 [03:52<00:44,  1.11it/s]"
          ],
          "name": "stderr"
        },
        {
          "output_type": "stream",
          "text": [
            "epoch:250 train_loss:0.0015 valid_loss:0.0016\n"
          ],
          "name": "stdout"
        },
        {
          "output_type": "stream",
          "text": [
            "100%|██████████| 300/300 [04:43<00:00,  1.06it/s]\n"
          ],
          "name": "stderr"
        },
        {
          "output_type": "display_data",
          "data": {
            "image/png": "[encoded data removed]",
            "text/plain": [
              "<Figure size 432x288 with 1 Axes>"
            ]
          },
          "metadata": {
            "tags": [],
            "needs_background": "light"
          }
        },
        {
          "output_type": "execute_result",
          "data": {
            "text/plain": [
              "<autorch.utils.part.PartBulider at 0x7f3f46767d50>"
            ]
          },
          "metadata": {
            "tags": []
          },
          "execution_count": 13
        }
      ]
    },
    {
      "cell_type": "code",
      "metadata": {
        "colab": {
          "base_uri": "https://localhost:8080/",
          "height": 419
        },
        "id": "bixk9_ejTdCp",
        "outputId": "04d16acb-3056-488f-9a16-f1431a328853"
      },
      "source": [
        "c670.test(e=2e-2)"
      ],
      "execution_count": 14,
      "outputs": [
        {
          "output_type": "execute_result",
          "data": {
            "text/html": [
              "<div>\n",
              "<style scoped>\n",
              "    .dataframe tbody tr th:only-of-type {\n",
              "        vertical-align: middle;\n",
              "    }\n",
              "\n",
              "    .dataframe tbody tr th {\n",
              "        vertical-align: top;\n",
              "    }\n",
              "\n",
              "    .dataframe thead th {\n",
              "        text-align: right;\n",
              "    }\n",
              "</style>\n",
              "<table border=\"1\" class=\"dataframe\">\n",
              "  <thead>\n",
              "    <tr style=\"text-align: right;\">\n",
              "      <th></th>\n",
              "      <th>R2</th>\n",
              "      <th>MSE</th>\n",
              "      <th>MAPE</th>\n",
              "    </tr>\n",
              "  </thead>\n",
              "  <tbody>\n",
              "    <tr>\n",
              "      <th>Toluene Column C670 Split Factors Calculation_Split Factor for Individual Component to Toluene Column C670 Distillate_Hydrogen_Fraction</th>\n",
              "      <td>0</td>\n",
              "      <td>4.7817e-09</td>\n",
              "      <td>0.00294925</td>\n",
              "    </tr>\n",
              "    <tr>\n",
              "      <th>Toluene Column C670 Split Factors Calculation_Split Factor for Individual Component to Toluene Column C670 Distillate_Methane_Fraction</th>\n",
              "      <td>0</td>\n",
              "      <td>4.60727e-09</td>\n",
              "      <td>0.00299815</td>\n",
              "    </tr>\n",
              "    <tr>\n",
              "      <th>Toluene Column C670 Split Factors Calculation_Split Factor for Individual Component to Toluene Column C670 Distillate_Ethane_Fraction</th>\n",
              "      <td>0</td>\n",
              "      <td>4.17144e-09</td>\n",
              "      <td>0.00304097</td>\n",
              "    </tr>\n",
              "    <tr>\n",
              "      <th>Toluene Column C670 Split Factors Calculation_Split Factor for Individual Component to Toluene Column C670 Distillate_Propane_Fraction</th>\n",
              "      <td>0</td>\n",
              "      <td>4.63403e-09</td>\n",
              "      <td>0.00312618</td>\n",
              "    </tr>\n",
              "    <tr>\n",
              "      <th>Toluene Column C670 Split Factors Calculation_Split Factor for Individual Component to Toluene Column C670 Distillate_n-Butane_Fraction</th>\n",
              "      <td>0</td>\n",
              "      <td>4.37199e-09</td>\n",
              "      <td>0.00290233</td>\n",
              "    </tr>\n",
              "    <tr>\n",
              "      <th>...</th>\n",
              "      <td>...</td>\n",
              "      <td>...</td>\n",
              "      <td>...</td>\n",
              "    </tr>\n",
              "    <tr>\n",
              "      <th>Density_Bottoms Production Rate and Composition</th>\n",
              "      <td>0.999202</td>\n",
              "      <td>1.40248e-10</td>\n",
              "      <td>0.00103752</td>\n",
              "    </tr>\n",
              "    <tr>\n",
              "      <th>Toluene Column C670 Operation_Yield \\nSummary_Reflux Rate_m3/hr</th>\n",
              "      <td>0.99595</td>\n",
              "      <td>2.46114</td>\n",
              "      <td>0.483597</td>\n",
              "    </tr>\n",
              "    <tr>\n",
              "      <th>Toluene Column C670 Operation_Column Temp Profile_C670 Tray 24 (Control)_oC</th>\n",
              "      <td>0.997042</td>\n",
              "      <td>0.000175605</td>\n",
              "      <td>0.00577894</td>\n",
              "    </tr>\n",
              "    <tr>\n",
              "      <th>Toluene Column C670 Operation_Column Temp Profile_C670 Btm Temp (Control)_oC</th>\n",
              "      <td>0.998543</td>\n",
              "      <td>0.00396172</td>\n",
              "      <td>0.0220569</td>\n",
              "    </tr>\n",
              "    <tr>\n",
              "      <th>AVG</th>\n",
              "      <td>0.466436</td>\n",
              "      <td>0.0283366</td>\n",
              "      <td>0.0296044</td>\n",
              "    </tr>\n",
              "  </tbody>\n",
              "</table>\n",
              "<p>88 rows × 3 columns</p>\n",
              "</div>"
            ],
            "text/plain": [
              "                                                          R2  ...        MAPE\n",
              "Toluene Column C670 Split Factors Calculation_S...         0  ...  0.00294925\n",
              "Toluene Column C670 Split Factors Calculation_S...         0  ...  0.00299815\n",
              "Toluene Column C670 Split Factors Calculation_S...         0  ...  0.00304097\n",
              "Toluene Column C670 Split Factors Calculation_S...         0  ...  0.00312618\n",
              "Toluene Column C670 Split Factors Calculation_S...         0  ...  0.00290233\n",
              "...                                                      ...  ...         ...\n",
              "Density_Bottoms Production Rate and Composition     0.999202  ...  0.00103752\n",
              "Toluene Column C670 Operation_Yield \\nSummary_R...   0.99595  ...    0.483597\n",
              "Toluene Column C670 Operation_Column Temp Profi...  0.997042  ...  0.00577894\n",
              "Toluene Column C670 Operation_Column Temp Profi...  0.998543  ...   0.0220569\n",
              "AVG                                                 0.466436  ...   0.0296044\n",
              "\n",
              "[88 rows x 3 columns]"
            ]
          },
          "metadata": {
            "tags": []
          },
          "execution_count": 14
        }
      ]
    },
    {
      "cell_type": "markdown",
      "metadata": {
        "id": "Dp2QVIWITP77"
      },
      "source": [
        "2.2 把預訓練好的模型抽出來"
      ]
    },
    {
      "cell_type": "code",
      "metadata": {
        "colab": {
          "base_uri": "https://localhost:8080/"
        },
        "id": "zVYPD8gxQkR2",
        "outputId": "046f747a-83d1-4f19-84ba-799797ae5c46"
      },
      "source": [
        "import copy\n",
        "from copy import deepcopy\n",
        "pretrain_net = deepcopy(c670.net)\n",
        "pretrain_net"
      ],
      "execution_count": 15,
      "outputs": [
        {
          "output_type": "execute_result",
          "data": {
            "text/plain": [
              "Sequential(\n",
              "  (0): Linear(in_features=82, out_features=256, bias=True)\n",
              "  (1): ReLU()\n",
              "  (2): Linear(in_features=256, out_features=256, bias=True)\n",
              "  (3): ReLU()\n",
              "  (4): Linear(in_features=256, out_features=87, bias=True)\n",
              "  (5): Sigmoid()\n",
              ")"
            ]
          },
          "metadata": {
            "tags": []
          },
          "execution_count": 15
        }
      ]
    },
    {
      "cell_type": "markdown",
      "metadata": {
        "id": "LZK_slJWUVDg"
      },
      "source": [
        "2.3 在預訓練模型上丟進真實資料繼續訓練"
      ]
    },
    {
      "cell_type": "code",
      "metadata": {
        "colab": {
          "base_uri": "https://localhost:8080/",
          "height": 404
        },
        "id": "viiNO3m2UAIl",
        "outputId": "b20cf069-eecf-4403-f87b-338a2921f8c9"
      },
      "source": [
        "from torch.optim import Adam\n",
        "c670_df = pd.read_excel('/content/drive/MyDrive/台塑輕油案子/data/c620/明志_遷移式學習_訓練資料_寄送版/c670_data.xlsx',index_col=0)\n",
        "c670 = PartBulider(c670_df,x_col,y_col,normalize_idx_list=n_idx,limit_y_range=True)\n",
        "c670.net = pretrain_net\n",
        "c670.optimizer = Adam(c670.net.parameters(),lr=0.001)\n",
        "c670.train()"
      ],
      "execution_count": 16,
      "outputs": [
        {
          "output_type": "stream",
          "text": [
            "  5%|▍         | 14/300 [00:00<00:04, 69.39it/s]"
          ],
          "name": "stderr"
        },
        {
          "output_type": "stream",
          "text": [
            "epoch:0 train_loss:0.0672 valid_loss:0.0452\n"
          ],
          "name": "stdout"
        },
        {
          "output_type": "stream",
          "text": [
            " 21%|██        | 63/300 [00:00<00:03, 65.60it/s]"
          ],
          "name": "stderr"
        },
        {
          "output_type": "stream",
          "text": [
            "epoch:50 train_loss:0.0040 valid_loss:0.0043\n"
          ],
          "name": "stdout"
        },
        {
          "output_type": "stream",
          "text": [
            " 38%|███▊      | 114/300 [00:01<00:02, 68.19it/s]"
          ],
          "name": "stderr"
        },
        {
          "output_type": "stream",
          "text": [
            "epoch:100 train_loss:0.0030 valid_loss:0.0036\n"
          ],
          "name": "stdout"
        },
        {
          "output_type": "stream",
          "text": [
            " 53%|█████▎    | 158/300 [00:02<00:02, 69.69it/s]"
          ],
          "name": "stderr"
        },
        {
          "output_type": "stream",
          "text": [
            "epoch:150 train_loss:0.0025 valid_loss:0.0033\n"
          ],
          "name": "stdout"
        },
        {
          "output_type": "stream",
          "text": [
            " 71%|███████▏  | 214/300 [00:03<00:01, 72.26it/s]"
          ],
          "name": "stderr"
        },
        {
          "output_type": "stream",
          "text": [
            "epoch:200 train_loss:0.0021 valid_loss:0.0034\n"
          ],
          "name": "stdout"
        },
        {
          "output_type": "stream",
          "text": [
            " 87%|████████▋ | 262/300 [00:03<00:00, 72.21it/s]"
          ],
          "name": "stderr"
        },
        {
          "output_type": "stream",
          "text": [
            "epoch:250 train_loss:0.0019 valid_loss:0.0035\n"
          ],
          "name": "stdout"
        },
        {
          "output_type": "stream",
          "text": [
            "100%|██████████| 300/300 [00:04<00:00, 69.60it/s]\n"
          ],
          "name": "stderr"
        },
        {
          "output_type": "display_data",
          "data": {
            "image/png": "[encoded data removed]",
            "text/plain": [
              "<Figure size 432x288 with 1 Axes>"
            ]
          },
          "metadata": {
            "tags": [],
            "needs_background": "light"
          }
        },
        {
          "output_type": "execute_result",
          "data": {
            "text/plain": [
              "<autorch.utils.part.PartBulider at 0x7f3ede337290>"
            ]
          },
          "metadata": {
            "tags": []
          },
          "execution_count": 16
        }
      ]
    },
    {
      "cell_type": "code",
      "metadata": {
        "colab": {
          "base_uri": "https://localhost:8080/",
          "height": 419
        },
        "id": "ANAtT_f_QkUy",
        "outputId": "348a04d3-9fa2-45d2-ec9b-05b9dcc82091"
      },
      "source": [
        "c670.test(e=2e-2)"
      ],
      "execution_count": 17,
      "outputs": [
        {
          "output_type": "execute_result",
          "data": {
            "text/html": [
              "<div>\n",
              "<style scoped>\n",
              "    .dataframe tbody tr th:only-of-type {\n",
              "        vertical-align: middle;\n",
              "    }\n",
              "\n",
              "    .dataframe tbody tr th {\n",
              "        vertical-align: top;\n",
              "    }\n",
              "\n",
              "    .dataframe thead th {\n",
              "        text-align: right;\n",
              "    }\n",
              "</style>\n",
              "<table border=\"1\" class=\"dataframe\">\n",
              "  <thead>\n",
              "    <tr style=\"text-align: right;\">\n",
              "      <th></th>\n",
              "      <th>R2</th>\n",
              "      <th>MSE</th>\n",
              "      <th>MAPE</th>\n",
              "    </tr>\n",
              "  </thead>\n",
              "  <tbody>\n",
              "    <tr>\n",
              "      <th>Toluene Column C670 Split Factors Calculation_Split Factor for Individual Component to Toluene Column C670 Distillate_Hydrogen_Fraction</th>\n",
              "      <td>1</td>\n",
              "      <td>0</td>\n",
              "      <td>0</td>\n",
              "    </tr>\n",
              "    <tr>\n",
              "      <th>Toluene Column C670 Split Factors Calculation_Split Factor for Individual Component to Toluene Column C670 Distillate_Methane_Fraction</th>\n",
              "      <td>1</td>\n",
              "      <td>0</td>\n",
              "      <td>0</td>\n",
              "    </tr>\n",
              "    <tr>\n",
              "      <th>Toluene Column C670 Split Factors Calculation_Split Factor for Individual Component to Toluene Column C670 Distillate_Ethane_Fraction</th>\n",
              "      <td>1</td>\n",
              "      <td>0</td>\n",
              "      <td>0</td>\n",
              "    </tr>\n",
              "    <tr>\n",
              "      <th>Toluene Column C670 Split Factors Calculation_Split Factor for Individual Component to Toluene Column C670 Distillate_Propane_Fraction</th>\n",
              "      <td>1</td>\n",
              "      <td>0</td>\n",
              "      <td>0</td>\n",
              "    </tr>\n",
              "    <tr>\n",
              "      <th>Toluene Column C670 Split Factors Calculation_Split Factor for Individual Component to Toluene Column C670 Distillate_n-Butane_Fraction</th>\n",
              "      <td>1</td>\n",
              "      <td>0</td>\n",
              "      <td>0</td>\n",
              "    </tr>\n",
              "    <tr>\n",
              "      <th>...</th>\n",
              "      <td>...</td>\n",
              "      <td>...</td>\n",
              "      <td>...</td>\n",
              "    </tr>\n",
              "    <tr>\n",
              "      <th>Density_Bottoms Production Rate and Composition</th>\n",
              "      <td>0.95517</td>\n",
              "      <td>1.86141e-08</td>\n",
              "      <td>0.00908212</td>\n",
              "    </tr>\n",
              "    <tr>\n",
              "      <th>Toluene Column C670 Operation_Yield \\nSummary_Reflux Rate_m3/hr</th>\n",
              "      <td>0.776345</td>\n",
              "      <td>34.125</td>\n",
              "      <td>1.82233</td>\n",
              "    </tr>\n",
              "    <tr>\n",
              "      <th>Toluene Column C670 Operation_Column Temp Profile_C670 Tray 24 (Control)_oC</th>\n",
              "      <td>0</td>\n",
              "      <td>0.816977</td>\n",
              "      <td>0.366553</td>\n",
              "    </tr>\n",
              "    <tr>\n",
              "      <th>Toluene Column C670 Operation_Column Temp Profile_C670 Btm Temp (Control)_oC</th>\n",
              "      <td>0.410994</td>\n",
              "      <td>0.534243</td>\n",
              "      <td>0.247452</td>\n",
              "    </tr>\n",
              "    <tr>\n",
              "      <th>AVG</th>\n",
              "      <td>0.243394</td>\n",
              "      <td>0.417922</td>\n",
              "      <td>11.8096</td>\n",
              "    </tr>\n",
              "  </tbody>\n",
              "</table>\n",
              "<p>88 rows × 3 columns</p>\n",
              "</div>"
            ],
            "text/plain": [
              "                                                          R2  ...        MAPE\n",
              "Toluene Column C670 Split Factors Calculation_S...         1  ...           0\n",
              "Toluene Column C670 Split Factors Calculation_S...         1  ...           0\n",
              "Toluene Column C670 Split Factors Calculation_S...         1  ...           0\n",
              "Toluene Column C670 Split Factors Calculation_S...         1  ...           0\n",
              "Toluene Column C670 Split Factors Calculation_S...         1  ...           0\n",
              "...                                                      ...  ...         ...\n",
              "Density_Bottoms Production Rate and Composition      0.95517  ...  0.00908212\n",
              "Toluene Column C670 Operation_Yield \\nSummary_R...  0.776345  ...     1.82233\n",
              "Toluene Column C670 Operation_Column Temp Profi...         0  ...    0.366553\n",
              "Toluene Column C670 Operation_Column Temp Profi...  0.410994  ...    0.247452\n",
              "AVG                                                 0.243394  ...     11.8096\n",
              "\n",
              "[88 rows x 3 columns]"
            ]
          },
          "metadata": {
            "tags": []
          },
          "execution_count": 17
        }
      ]
    },
    {
      "cell_type": "code",
      "metadata": {
        "id": "X-sT25-jUfOt"
      },
      "source": [
        "c670.shrink()"
      ],
      "execution_count": 18,
      "outputs": []
    },
    {
      "cell_type": "code",
      "metadata": {
        "colab": {
          "base_uri": "https://localhost:8080/"
        },
        "id": "eI7nG4O-U8Am",
        "outputId": "00d108db-c1d9-4254-87c8-171aff45a0fe"
      },
      "source": [
        "joblib.dump(c670,'/content/drive/MyDrive/台塑輕油案子/data/c620/model/c670_real_data.pkl')"
      ],
      "execution_count": 19,
      "outputs": [
        {
          "output_type": "execute_result",
          "data": {
            "text/plain": [
              "['/content/drive/MyDrive/台塑輕油案子/data/c620/model/c670_real_data.pkl']"
            ]
          },
          "metadata": {
            "tags": []
          },
          "execution_count": 19
        }
      ]
    },
    {
      "cell_type": "code",
      "metadata": {
        "id": "WaCC7PUMVISe"
      },
      "source": [
        ""
      ],
      "execution_count": null,
      "outputs": []
    }
  ]
}