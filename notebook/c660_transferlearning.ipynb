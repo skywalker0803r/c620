{
  "nbformat": 4,
  "nbformat_minor": 0,
  "metadata": {
    "colab": {
      "name": "c660_transferlearning.ipynb",
      "provenance": [],
      "mount_file_id": "https://github.com/skywalker0803r/c620/blob/main/notebook/c660_transferlearning.ipynb",
      "authorship_tag": "ABX9TyObMi8nq+VdGKjmnq5+zgvK",
      "include_colab_link": true
    },
    "kernelspec": {
      "name": "python3",
      "display_name": "Python 3"
    }
  },
  "cells": [
    {
      "cell_type": "markdown",
      "metadata": {
        "id": "view-in-github",
        "colab_type": "text"
      },
      "source": [
        "<a href=\"https://colab.research.google.com/github/skywalker0803r/c620/blob/main/notebook/c660_transferlearning.ipynb\" target=\"_parent\"><img src=\"https://colab.research.google.com/assets/colab-badge.svg\" alt=\"Open In Colab\"/></a>"
      ]
    },
    {
      "cell_type": "code",
      "metadata": {
        "id": "nOGsCEawJNva"
      },
      "source": [
        "import pandas as pd\n",
        "import numpy as np\n",
        "import joblib\n",
        "!pip install autorch > log.txt"
      ],
      "execution_count": 19,
      "outputs": []
    },
    {
      "cell_type": "code",
      "metadata": {
        "colab": {
          "base_uri": "https://localhost:8080/",
          "height": 429
        },
        "id": "7UXYDDgMJWvA",
        "outputId": "4c89ca8c-a745-4bd8-c98d-8631fc781ca2"
      },
      "source": [
        "c = joblib.load('/content/drive/MyDrive/台塑輕油案子/data/c620/col_names/c660_col_names.pkl')\n",
        "c660_df = pd.read_excel('/content/drive/MyDrive/台塑輕油案子/data/c620/明志_遷移式學習_訓練資料_寄送版/c660_data.xlsx',index_col=0)\n",
        "print(c660_df.shape)\n",
        "c660_df.head(3)"
      ],
      "execution_count": 20,
      "outputs": [
        {
          "output_type": "stream",
          "text": [
            "(168, 217)\n"
          ],
          "name": "stdout"
        },
        {
          "output_type": "execute_result",
          "data": {
            "text/html": [
              "<div>\n",
              "<style scoped>\n",
              "    .dataframe tbody tr th:only-of-type {\n",
              "        vertical-align: middle;\n",
              "    }\n",
              "\n",
              "    .dataframe tbody tr th {\n",
              "        vertical-align: top;\n",
              "    }\n",
              "\n",
              "    .dataframe thead th {\n",
              "        text-align: right;\n",
              "    }\n",
              "</style>\n",
              "<table border=\"1\" class=\"dataframe\">\n",
              "  <thead>\n",
              "    <tr style=\"text-align: right;\">\n",
              "      <th></th>\n",
              "      <th>Benzene Column C660 Operation_Specifications_Spec 2 : NA in Benzene_ppmw</th>\n",
              "      <th>Benzene Column C660 Operation_Specifications_Spec 3 : Toluene in Benzene_ppmw</th>\n",
              "      <th>Combined Feed to Benzene Column C660_Detailed Composition_Hydrogen_wt%</th>\n",
              "      <th>Combined Feed to Benzene Column C660_Detailed Composition_Methane_wt%</th>\n",
              "      <th>Combined Feed to Benzene Column C660_Detailed Composition_Ethane_wt%</th>\n",
              "      <th>Combined Feed to Benzene Column C660_Detailed Composition_Propane_wt%</th>\n",
              "      <th>Combined Feed to Benzene Column C660_Detailed Composition_n-Butane_wt%</th>\n",
              "      <th>Combined Feed to Benzene Column C660_Detailed Composition_n-Pentane_wt%</th>\n",
              "      <th>Combined Feed to Benzene Column C660_Detailed Composition_n-Hexane_wt%</th>\n",
              "      <th>Combined Feed to Benzene Column C660_Detailed Composition_Benzene_wt%</th>\n",
              "      <th>Combined Feed to Benzene Column C660_Detailed Composition_Cyclohexane_wt%</th>\n",
              "      <th>Combined Feed to Benzene Column C660_Detailed Composition_n-Heptane_wt%</th>\n",
              "      <th>Combined Feed to Benzene Column C660_Detailed Composition_Water_wt%</th>\n",
              "      <th>Combined Feed to Benzene Column C660_Detailed Composition_Methylcyclohexane_wt%</th>\n",
              "      <th>Combined Feed to Benzene Column C660_Detailed Composition_Toluene_wt%</th>\n",
              "      <th>Combined Feed to Benzene Column C660_Detailed Composition_n-Octane_wt%</th>\n",
              "      <th>Combined Feed to Benzene Column C660_Detailed Composition_n-Propylcyclopentane_wt%</th>\n",
              "      <th>Combined Feed to Benzene Column C660_Detailed Composition_Ethylcyclohexane_wt%</th>\n",
              "      <th>Combined Feed to Benzene Column C660_Detailed Composition_Ethylbenzene_wt%</th>\n",
              "      <th>Combined Feed to Benzene Column C660_Detailed Composition_p-Xylene_wt%</th>\n",
              "      <th>Combined Feed to Benzene Column C660_Detailed Composition_m-Xylene_wt%</th>\n",
              "      <th>Combined Feed to Benzene Column C660_Detailed Composition_o-Xylene_wt%</th>\n",
              "      <th>Combined Feed to Benzene Column C660_Detailed Composition_n-Nonane_wt%</th>\n",
              "      <th>Combined Feed to Benzene Column C660_Detailed Composition_i-Propylbenzene_wt%</th>\n",
              "      <th>Combined Feed to Benzene Column C660_Detailed Composition_n-Propylcyclohexane_wt%</th>\n",
              "      <th>Combined Feed to Benzene Column C660_Detailed Composition_n-Propylbenzene_wt%</th>\n",
              "      <th>Combined Feed to Benzene Column C660_Detailed Composition_1-Methyl-3-ethylbenzene_wt%</th>\n",
              "      <th>Combined Feed to Benzene Column C660_Detailed Composition_1-Methyl-4-ethylbenzene_wt%</th>\n",
              "      <th>Combined Feed to Benzene Column C660_Detailed Composition_1,3,5-Trimethylbenzene_wt%</th>\n",
              "      <th>Combined Feed to Benzene Column C660_Detailed Composition_1-Methyl-2-ethylbenzene_wt%</th>\n",
              "      <th>Combined Feed to Benzene Column C660_Detailed Composition_1,2,4-Trimethylbenzene_wt%</th>\n",
              "      <th>Combined Feed to Benzene Column C660_Detailed Composition_tert-Butylcyclohexane_wt%</th>\n",
              "      <th>Combined Feed to Benzene Column C660_Detailed Composition_1,2,3-Trimethylbenzene_wt%</th>\n",
              "      <th>Combined Feed to Benzene Column C660_Detailed Composition_Indane_wt%</th>\n",
              "      <th>Combined Feed to Benzene Column C660_Detailed Composition_1-Methyl-4-n-propylbenzene_wt%</th>\n",
              "      <th>Combined Feed to Benzene Column C660_Detailed Composition_1,2-Diethylbenzene_wt%</th>\n",
              "      <th>Combined Feed to Benzene Column C660_Detailed Composition_5-Ethyl-m-xylene_wt%</th>\n",
              "      <th>Combined Feed to Benzene Column C660_Detailed Composition_1,4-Diethylbenzene_wt%</th>\n",
              "      <th>Combined Feed to Benzene Column C660_Detailed Composition_1,2,3,5-Tetramethylbenzene_wt%</th>\n",
              "      <th>Combined Feed to Benzene Column C660_Detailed Composition_n-Pentylbenzene_wt%</th>\n",
              "      <th>...</th>\n",
              "      <th>Benzene Column C660 Split Factors Calculation_Split Factor for Individual Component to Benzene Column C660 Bottoms_Methylcyclohexane_Fraction</th>\n",
              "      <th>Benzene Column C660 Split Factors Calculation_Split Factor for Individual Component to Benzene Column C660 Bottoms_Toluene_Fraction</th>\n",
              "      <th>Benzene Column C660 Split Factors Calculation_Split Factor for Individual Component to Benzene Column C660 Bottoms_n-Octane_Fraction</th>\n",
              "      <th>Benzene Column C660 Split Factors Calculation_Split Factor for Individual Component to Benzene Column C660 Bottoms_n-Propylcyclopentane_Fraction</th>\n",
              "      <th>Benzene Column C660 Split Factors Calculation_Split Factor for Individual Component to Benzene Column C660 Bottoms_Ethylcyclohexane_Fraction</th>\n",
              "      <th>Benzene Column C660 Split Factors Calculation_Split Factor for Individual Component to Benzene Column C660 Bottoms_Ethylbenzene_Fraction</th>\n",
              "      <th>Benzene Column C660 Split Factors Calculation_Split Factor for Individual Component to Benzene Column C660 Bottoms_p-Xylene_Fraction</th>\n",
              "      <th>Benzene Column C660 Split Factors Calculation_Split Factor for Individual Component to Benzene Column C660 Bottoms_m-Xylene_Fraction</th>\n",
              "      <th>Benzene Column C660 Split Factors Calculation_Split Factor for Individual Component to Benzene Column C660 Bottoms_o-Xylene_Fraction</th>\n",
              "      <th>Benzene Column C660 Split Factors Calculation_Split Factor for Individual Component to Benzene Column C660 Bottoms_n-Nonane_Fraction</th>\n",
              "      <th>Benzene Column C660 Split Factors Calculation_Split Factor for Individual Component to Benzene Column C660 Bottoms_i-Propylbenzene_Fraction</th>\n",
              "      <th>Benzene Column C660 Split Factors Calculation_Split Factor for Individual Component to Benzene Column C660 Bottoms_n-Propylcyclohexane_Fraction</th>\n",
              "      <th>Benzene Column C660 Split Factors Calculation_Split Factor for Individual Component to Benzene Column C660 Bottoms_n-Propylbenzene_Fraction</th>\n",
              "      <th>Benzene Column C660 Split Factors Calculation_Split Factor for Individual Component to Benzene Column C660 Bottoms_1-Methyl-3-ethylbenzene_Fraction</th>\n",
              "      <th>Benzene Column C660 Split Factors Calculation_Split Factor for Individual Component to Benzene Column C660 Bottoms_1-Methyl-4-ethylbenzene_Fraction</th>\n",
              "      <th>Benzene Column C660 Split Factors Calculation_Split Factor for Individual Component to Benzene Column C660 Bottoms_1,3,5-Trimethylbenzene_Fraction</th>\n",
              "      <th>Benzene Column C660 Split Factors Calculation_Split Factor for Individual Component to Benzene Column C660 Bottoms_1-Methyl-2-ethylbenzene_Fraction</th>\n",
              "      <th>Benzene Column C660 Split Factors Calculation_Split Factor for Individual Component to Benzene Column C660 Bottoms_1,2,4-Trimethylbenzene_Fraction</th>\n",
              "      <th>Benzene Column C660 Split Factors Calculation_Split Factor for Individual Component to Benzene Column C660 Bottoms_tert-Butylcyclohexane_Fraction</th>\n",
              "      <th>Benzene Column C660 Split Factors Calculation_Split Factor for Individual Component to Benzene Column C660 Bottoms_1,2,3-Trimethylbenzene_Fraction</th>\n",
              "      <th>Benzene Column C660 Split Factors Calculation_Split Factor for Individual Component to Benzene Column C660 Bottoms_Indane_Fraction</th>\n",
              "      <th>Benzene Column C660 Split Factors Calculation_Split Factor for Individual Component to Benzene Column C660 Bottoms_1-Methyl-4-n-propylbenzene_Fraction</th>\n",
              "      <th>Benzene Column C660 Split Factors Calculation_Split Factor for Individual Component to Benzene Column C660 Bottoms_1,2-Diethylbenzene_Fraction</th>\n",
              "      <th>Benzene Column C660 Split Factors Calculation_Split Factor for Individual Component to Benzene Column C660 Bottoms_5-Ethyl-m-xylene_Fraction</th>\n",
              "      <th>Benzene Column C660 Split Factors Calculation_Split Factor for Individual Component to Benzene Column C660 Bottoms_1,4-Diethylbenzene_Fraction</th>\n",
              "      <th>Benzene Column C660 Split Factors Calculation_Split Factor for Individual Component to Benzene Column C660 Bottoms_1,2,3,5-Tetramethylbenzene_Fraction</th>\n",
              "      <th>Benzene Column C660 Split Factors Calculation_Split Factor for Individual Component to Benzene Column C660 Bottoms_n-Pentylbenzene_Fraction</th>\n",
              "      <th>Benzene Column C660 Split Factors Calculation_Split Factor for Individual Component to Benzene Column C660 Bottoms_n-Hexylbenzene_Fraction</th>\n",
              "      <th>Benzene Column C660 Split Factors Calculation_Split Factor for Individual Component to Benzene Column C660 Bottoms_Nitrogen_Fraction</th>\n",
              "      <th>Benzene Column C660 Split Factors Calculation_Split Factor for Individual Component to Benzene Column C660 Bottoms_Oxygen_Fraction</th>\n",
              "      <th>Density_Feed Properties</th>\n",
              "      <th>Density_Vent Gas Production Rate and Composition</th>\n",
              "      <th>Density_Distillate (Benzene Drag) Production Rate and Composition</th>\n",
              "      <th>Density_Sidedraw (Benzene )Production Rate and Composition</th>\n",
              "      <th>Density_Bottoms Production Rate and Composition</th>\n",
              "      <th>Benzene Column C660 Operation_Yield Summary_Reflux Rate_m3/hr</th>\n",
              "      <th>Benzene Column C660 Operation_Heat Duty_Condenser Heat Duty_Mkcal/hr</th>\n",
              "      <th>Benzene Column C660 Operation_Heat Duty_Reboiler Heat Duty_Mkcal/hr</th>\n",
              "      <th>Benzene Column C660 Operation_Column Temp Profile_C660 Tray 6 (SD &amp; Control)_oC</th>\n",
              "      <th>Benzene Column C660 Operation_Column Temp Profile_C660 Tray 23 (Control)_oC</th>\n",
              "    </tr>\n",
              "  </thead>\n",
              "  <tbody>\n",
              "    <tr>\n",
              "      <th>2020-09-02</th>\n",
              "      <td>763.0</td>\n",
              "      <td>0.0</td>\n",
              "      <td>0</td>\n",
              "      <td>0.000123</td>\n",
              "      <td>0.008071</td>\n",
              "      <td>0.015276</td>\n",
              "      <td>0.010835</td>\n",
              "      <td>0.016422</td>\n",
              "      <td>0.024414</td>\n",
              "      <td>51.564905</td>\n",
              "      <td>0.016131</td>\n",
              "      <td>0.026266</td>\n",
              "      <td>0</td>\n",
              "      <td>0.016108</td>\n",
              "      <td>41.535909</td>\n",
              "      <td>0.038974</td>\n",
              "      <td>0.033840</td>\n",
              "      <td>0.027678</td>\n",
              "      <td>3.615621</td>\n",
              "      <td>0.788871</td>\n",
              "      <td>1.552106</td>\n",
              "      <td>0.448487</td>\n",
              "      <td>0.060632</td>\n",
              "      <td>0.000701</td>\n",
              "      <td>0.134585</td>\n",
              "      <td>0.000136</td>\n",
              "      <td>0.019426</td>\n",
              "      <td>0.008264</td>\n",
              "      <td>0.009506</td>\n",
              "      <td>0.003746</td>\n",
              "      <td>0.004823</td>\n",
              "      <td>0.010726</td>\n",
              "      <td>0.000094</td>\n",
              "      <td>5.273943e-06</td>\n",
              "      <td>0.001715</td>\n",
              "      <td>0.000573</td>\n",
              "      <td>0.004965</td>\n",
              "      <td>0</td>\n",
              "      <td>0.000062</td>\n",
              "      <td>0.000004</td>\n",
              "      <td>...</td>\n",
              "      <td>0.758001</td>\n",
              "      <td>0.758731</td>\n",
              "      <td>0.820066</td>\n",
              "      <td>0.817863</td>\n",
              "      <td>0.817653</td>\n",
              "      <td>0.867375</td>\n",
              "      <td>0.883008</td>\n",
              "      <td>0.873033</td>\n",
              "      <td>0.835748</td>\n",
              "      <td>0.818339</td>\n",
              "      <td>0</td>\n",
              "      <td>0.818489</td>\n",
              "      <td>0</td>\n",
              "      <td>0.046169</td>\n",
              "      <td>0</td>\n",
              "      <td>0</td>\n",
              "      <td>0</td>\n",
              "      <td>0</td>\n",
              "      <td>0.819440</td>\n",
              "      <td>0</td>\n",
              "      <td>1</td>\n",
              "      <td>0</td>\n",
              "      <td>1.0</td>\n",
              "      <td>0</td>\n",
              "      <td>1</td>\n",
              "      <td>0</td>\n",
              "      <td>0</td>\n",
              "      <td>0</td>\n",
              "      <td>0</td>\n",
              "      <td>0</td>\n",
              "      <td>0.877421</td>\n",
              "      <td>0.569</td>\n",
              "      <td>0.856</td>\n",
              "      <td>0.885</td>\n",
              "      <td>0.8702</td>\n",
              "      <td>123.807137</td>\n",
              "      <td>NaN</td>\n",
              "      <td>NaN</td>\n",
              "      <td>85.260384</td>\n",
              "      <td>88.853133</td>\n",
              "    </tr>\n",
              "    <tr>\n",
              "      <th>2020-09-03</th>\n",
              "      <td>816.0</td>\n",
              "      <td>2.0</td>\n",
              "      <td>0</td>\n",
              "      <td>0.000130</td>\n",
              "      <td>0.008504</td>\n",
              "      <td>0.016096</td>\n",
              "      <td>0.011406</td>\n",
              "      <td>0.017283</td>\n",
              "      <td>0.025536</td>\n",
              "      <td>53.932369</td>\n",
              "      <td>0.016874</td>\n",
              "      <td>0.027441</td>\n",
              "      <td>0</td>\n",
              "      <td>0.015976</td>\n",
              "      <td>39.408723</td>\n",
              "      <td>0.036896</td>\n",
              "      <td>0.031948</td>\n",
              "      <td>0.026129</td>\n",
              "      <td>3.510446</td>\n",
              "      <td>0.751293</td>\n",
              "      <td>1.500470</td>\n",
              "      <td>0.449424</td>\n",
              "      <td>0.057234</td>\n",
              "      <td>0.000106</td>\n",
              "      <td>0.127041</td>\n",
              "      <td>0.000021</td>\n",
              "      <td>0.004402</td>\n",
              "      <td>0.002709</td>\n",
              "      <td>0.004352</td>\n",
              "      <td>0.001296</td>\n",
              "      <td>0.001459</td>\n",
              "      <td>0.010125</td>\n",
              "      <td>0.000014</td>\n",
              "      <td>8.002982e-07</td>\n",
              "      <td>0.002258</td>\n",
              "      <td>0.000606</td>\n",
              "      <td>0.001413</td>\n",
              "      <td>0</td>\n",
              "      <td>0.000018</td>\n",
              "      <td>0.000001</td>\n",
              "      <td>...</td>\n",
              "      <td>0.784764</td>\n",
              "      <td>0.821753</td>\n",
              "      <td>0.889513</td>\n",
              "      <td>0.889587</td>\n",
              "      <td>0.889393</td>\n",
              "      <td>0.864956</td>\n",
              "      <td>0.871109</td>\n",
              "      <td>0.864730</td>\n",
              "      <td>0.821237</td>\n",
              "      <td>0.890223</td>\n",
              "      <td>0</td>\n",
              "      <td>0.890394</td>\n",
              "      <td>0</td>\n",
              "      <td>0.172857</td>\n",
              "      <td>0</td>\n",
              "      <td>0</td>\n",
              "      <td>0</td>\n",
              "      <td>0</td>\n",
              "      <td>0.891428</td>\n",
              "      <td>0</td>\n",
              "      <td>1</td>\n",
              "      <td>0</td>\n",
              "      <td>1.0</td>\n",
              "      <td>0</td>\n",
              "      <td>1</td>\n",
              "      <td>0</td>\n",
              "      <td>0</td>\n",
              "      <td>0</td>\n",
              "      <td>0</td>\n",
              "      <td>0</td>\n",
              "      <td>0.877701</td>\n",
              "      <td>0.569</td>\n",
              "      <td>0.856</td>\n",
              "      <td>0.885</td>\n",
              "      <td>0.8702</td>\n",
              "      <td>124.373738</td>\n",
              "      <td>NaN</td>\n",
              "      <td>NaN</td>\n",
              "      <td>85.326480</td>\n",
              "      <td>88.961772</td>\n",
              "    </tr>\n",
              "    <tr>\n",
              "      <th>2020-09-04</th>\n",
              "      <td>736.0</td>\n",
              "      <td>5.0</td>\n",
              "      <td>0</td>\n",
              "      <td>0.000127</td>\n",
              "      <td>0.008295</td>\n",
              "      <td>0.015701</td>\n",
              "      <td>0.011127</td>\n",
              "      <td>0.016862</td>\n",
              "      <td>0.024942</td>\n",
              "      <td>52.746576</td>\n",
              "      <td>0.016481</td>\n",
              "      <td>0.026808</td>\n",
              "      <td>0</td>\n",
              "      <td>0.015759</td>\n",
              "      <td>40.574284</td>\n",
              "      <td>0.036723</td>\n",
              "      <td>0.031815</td>\n",
              "      <td>0.026021</td>\n",
              "      <td>3.494221</td>\n",
              "      <td>0.760065</td>\n",
              "      <td>1.503018</td>\n",
              "      <td>0.467374</td>\n",
              "      <td>0.056998</td>\n",
              "      <td>0.000319</td>\n",
              "      <td>0.126518</td>\n",
              "      <td>0.000062</td>\n",
              "      <td>0.009954</td>\n",
              "      <td>0.004879</td>\n",
              "      <td>0.006566</td>\n",
              "      <td>0.002264</td>\n",
              "      <td>0.002754</td>\n",
              "      <td>0.010083</td>\n",
              "      <td>0.000043</td>\n",
              "      <td>2.397665e-06</td>\n",
              "      <td>0.000567</td>\n",
              "      <td>0.000216</td>\n",
              "      <td>0.002539</td>\n",
              "      <td>0</td>\n",
              "      <td>0.000032</td>\n",
              "      <td>0.000002</td>\n",
              "      <td>...</td>\n",
              "      <td>0.713647</td>\n",
              "      <td>0.752450</td>\n",
              "      <td>0.801658</td>\n",
              "      <td>0.801286</td>\n",
              "      <td>0.801106</td>\n",
              "      <td>0.782249</td>\n",
              "      <td>0.764253</td>\n",
              "      <td>0.775325</td>\n",
              "      <td>0.739617</td>\n",
              "      <td>0.801838</td>\n",
              "      <td>0</td>\n",
              "      <td>0.801991</td>\n",
              "      <td>0</td>\n",
              "      <td>0.071605</td>\n",
              "      <td>0</td>\n",
              "      <td>0</td>\n",
              "      <td>0</td>\n",
              "      <td>0</td>\n",
              "      <td>0.802922</td>\n",
              "      <td>0</td>\n",
              "      <td>1</td>\n",
              "      <td>0</td>\n",
              "      <td>1.0</td>\n",
              "      <td>0</td>\n",
              "      <td>1</td>\n",
              "      <td>0</td>\n",
              "      <td>0</td>\n",
              "      <td>0</td>\n",
              "      <td>0</td>\n",
              "      <td>0</td>\n",
              "      <td>0.877407</td>\n",
              "      <td>0.569</td>\n",
              "      <td>0.856</td>\n",
              "      <td>0.885</td>\n",
              "      <td>0.8702</td>\n",
              "      <td>124.819015</td>\n",
              "      <td>NaN</td>\n",
              "      <td>NaN</td>\n",
              "      <td>85.469957</td>\n",
              "      <td>89.089844</td>\n",
              "    </tr>\n",
              "  </tbody>\n",
              "</table>\n",
              "<p>3 rows × 217 columns</p>\n",
              "</div>"
            ],
            "text/plain": [
              "            Benzene Column C660 Operation_Specifications_Spec 2 : NA in Benzene_ppmw  ...  Benzene Column C660 Operation_Column Temp Profile_C660 Tray 23 (Control)_oC\n",
              "2020-09-02                                              763.0                         ...                                          88.853133                          \n",
              "2020-09-03                                              816.0                         ...                                          88.961772                          \n",
              "2020-09-04                                              736.0                         ...                                          89.089844                          \n",
              "\n",
              "[3 rows x 217 columns]"
            ]
          },
          "metadata": {
            "tags": []
          },
          "execution_count": 20
        }
      ]
    },
    {
      "cell_type": "markdown",
      "metadata": {
        "id": "weDth9iWKG8e"
      },
      "source": [
        "# 缺失欄位"
      ]
    },
    {
      "cell_type": "code",
      "metadata": {
        "colab": {
          "base_uri": "https://localhost:8080/"
        },
        "id": "_p-HyDHLJq1g",
        "outputId": "7e530fec-c90a-48a6-a399-e0bca6855f21"
      },
      "source": [
        "miss_col = c660_df.columns[(c660_df.isnull().sum() > 0).values].tolist()\n",
        "print(len(miss_col))\n",
        "miss_col"
      ],
      "execution_count": 21,
      "outputs": [
        {
          "output_type": "stream",
          "text": [
            "2\n"
          ],
          "name": "stdout"
        },
        {
          "output_type": "execute_result",
          "data": {
            "text/plain": [
              "['Benzene Column C660 Operation_Heat Duty_Condenser Heat Duty_Mkcal/hr',\n",
              " 'Benzene Column C660 Operation_Heat Duty_Reboiler Heat Duty_Mkcal/hr']"
            ]
          },
          "metadata": {
            "tags": []
          },
          "execution_count": 21
        }
      ]
    },
    {
      "cell_type": "markdown",
      "metadata": {
        "id": "wMJG3E0fKNc-"
      },
      "source": [
        "# 有提供欄位"
      ]
    },
    {
      "cell_type": "code",
      "metadata": {
        "colab": {
          "base_uri": "https://localhost:8080/"
        },
        "id": "OB9E7WrhJyoM",
        "outputId": "b30a39df-4fdf-4f24-8a95-e9dc6f1fa1a2"
      },
      "source": [
        "have_col = c660_df.columns[(c660_df.isnull().sum() == 0).values].tolist()\n",
        "print(len(have_col))\n",
        "have_col"
      ],
      "execution_count": 22,
      "outputs": [
        {
          "output_type": "stream",
          "text": [
            "215\n"
          ],
          "name": "stdout"
        },
        {
          "output_type": "execute_result",
          "data": {
            "text/plain": [
              "['Benzene Column C660 Operation_Specifications_Spec 2 : NA in Benzene_ppmw',\n",
              " 'Benzene Column C660 Operation_Specifications_Spec 3 : Toluene in Benzene_ppmw',\n",
              " 'Combined Feed to Benzene Column C660_Detailed Composition_Hydrogen_wt%',\n",
              " 'Combined Feed to Benzene Column C660_Detailed Composition_Methane_wt%',\n",
              " 'Combined Feed to Benzene Column C660_Detailed Composition_Ethane_wt%',\n",
              " 'Combined Feed to Benzene Column C660_Detailed Composition_Propane_wt%',\n",
              " 'Combined Feed to Benzene Column C660_Detailed Composition_n-Butane_wt%',\n",
              " 'Combined Feed to Benzene Column C660_Detailed Composition_n-Pentane_wt%',\n",
              " 'Combined Feed to Benzene Column C660_Detailed Composition_n-Hexane_wt%',\n",
              " 'Combined Feed to Benzene Column C660_Detailed Composition_Benzene_wt%',\n",
              " 'Combined Feed to Benzene Column C660_Detailed Composition_Cyclohexane_wt%',\n",
              " 'Combined Feed to Benzene Column C660_Detailed Composition_n-Heptane_wt%',\n",
              " 'Combined Feed to Benzene Column C660_Detailed Composition_Water_wt%',\n",
              " 'Combined Feed to Benzene Column C660_Detailed Composition_Methylcyclohexane_wt%',\n",
              " 'Combined Feed to Benzene Column C660_Detailed Composition_Toluene_wt%',\n",
              " 'Combined Feed to Benzene Column C660_Detailed Composition_n-Octane_wt%',\n",
              " 'Combined Feed to Benzene Column C660_Detailed Composition_n-Propylcyclopentane_wt%',\n",
              " 'Combined Feed to Benzene Column C660_Detailed Composition_Ethylcyclohexane_wt%',\n",
              " 'Combined Feed to Benzene Column C660_Detailed Composition_Ethylbenzene_wt%',\n",
              " 'Combined Feed to Benzene Column C660_Detailed Composition_p-Xylene_wt%',\n",
              " 'Combined Feed to Benzene Column C660_Detailed Composition_m-Xylene_wt%',\n",
              " 'Combined Feed to Benzene Column C660_Detailed Composition_o-Xylene_wt%',\n",
              " 'Combined Feed to Benzene Column C660_Detailed Composition_n-Nonane_wt%',\n",
              " 'Combined Feed to Benzene Column C660_Detailed Composition_i-Propylbenzene_wt%',\n",
              " 'Combined Feed to Benzene Column C660_Detailed Composition_n-Propylcyclohexane_wt%',\n",
              " 'Combined Feed to Benzene Column C660_Detailed Composition_n-Propylbenzene_wt%',\n",
              " 'Combined Feed to Benzene Column C660_Detailed Composition_1-Methyl-3-ethylbenzene_wt%',\n",
              " 'Combined Feed to Benzene Column C660_Detailed Composition_1-Methyl-4-ethylbenzene_wt%',\n",
              " 'Combined Feed to Benzene Column C660_Detailed Composition_1,3,5-Trimethylbenzene_wt%',\n",
              " 'Combined Feed to Benzene Column C660_Detailed Composition_1-Methyl-2-ethylbenzene_wt%',\n",
              " 'Combined Feed to Benzene Column C660_Detailed Composition_1,2,4-Trimethylbenzene_wt%',\n",
              " 'Combined Feed to Benzene Column C660_Detailed Composition_tert-Butylcyclohexane_wt%',\n",
              " 'Combined Feed to Benzene Column C660_Detailed Composition_1,2,3-Trimethylbenzene_wt%',\n",
              " 'Combined Feed to Benzene Column C660_Detailed Composition_Indane_wt%',\n",
              " 'Combined Feed to Benzene Column C660_Detailed Composition_1-Methyl-4-n-propylbenzene_wt%',\n",
              " 'Combined Feed to Benzene Column C660_Detailed Composition_1,2-Diethylbenzene_wt%',\n",
              " 'Combined Feed to Benzene Column C660_Detailed Composition_5-Ethyl-m-xylene_wt%',\n",
              " 'Combined Feed to Benzene Column C660_Detailed Composition_1,4-Diethylbenzene_wt%',\n",
              " 'Combined Feed to Benzene Column C660_Detailed Composition_1,2,3,5-Tetramethylbenzene_wt%',\n",
              " 'Combined Feed to Benzene Column C660_Detailed Composition_n-Pentylbenzene_wt%',\n",
              " 'Combined Feed to Benzene Column C660_Detailed Composition_n-Hexylbenzene_wt%',\n",
              " 'Combined Feed to Benzene Column C660_Detailed Composition_Nitrogen_wt%',\n",
              " 'Combined Feed to Benzene Column C660_Detailed Composition_Oxygen_wt%',\n",
              " 'Benzene Column C660 Split Factors Calculation_Split Factor for Individual Component to Benzene Column C660 Vent Gas_Hydrogen_Fraction',\n",
              " 'Benzene Column C660 Split Factors Calculation_Split Factor for Individual Component to Benzene Column C660 Vent Gas_Methane_Fraction',\n",
              " 'Benzene Column C660 Split Factors Calculation_Split Factor for Individual Component to Benzene Column C660 Vent Gas_Ethane_Fraction',\n",
              " 'Benzene Column C660 Split Factors Calculation_Split Factor for Individual Component to Benzene Column C660 Vent Gas_Propane_Fraction',\n",
              " 'Benzene Column C660 Split Factors Calculation_Split Factor for Individual Component to Benzene Column C660 Vent Gas_n-Butane_Fraction',\n",
              " 'Benzene Column C660 Split Factors Calculation_Split Factor for Individual Component to Benzene Column C660 Vent Gas_n-Pentane_Fraction',\n",
              " 'Benzene Column C660 Split Factors Calculation_Split Factor for Individual Component to Benzene Column C660 Vent Gas_n-Hexane_Fraction',\n",
              " 'Benzene Column C660 Split Factors Calculation_Split Factor for Individual Component to Benzene Column C660 Vent Gas_Benzene_Fraction',\n",
              " 'Benzene Column C660 Split Factors Calculation_Split Factor for Individual Component to Benzene Column C660 Vent Gas_Cyclohexane_Fraction',\n",
              " 'Benzene Column C660 Split Factors Calculation_Split Factor for Individual Component to Benzene Column C660 Vent Gas_n-Heptane_Fraction',\n",
              " 'Benzene Column C660 Split Factors Calculation_Split Factor for Individual Component to Benzene Column C660 Vent Gas_Water_Fraction',\n",
              " 'Benzene Column C660 Split Factors Calculation_Split Factor for Individual Component to Benzene Column C660 Vent Gas_Methylcyclohexane_Fraction',\n",
              " 'Benzene Column C660 Split Factors Calculation_Split Factor for Individual Component to Benzene Column C660 Vent Gas_Toluene_Fraction',\n",
              " 'Benzene Column C660 Split Factors Calculation_Split Factor for Individual Component to Benzene Column C660 Vent Gas_n-Octane_Fraction',\n",
              " 'Benzene Column C660 Split Factors Calculation_Split Factor for Individual Component to Benzene Column C660 Vent Gas_n-Propylcyclopentane_Fraction',\n",
              " 'Benzene Column C660 Split Factors Calculation_Split Factor for Individual Component to Benzene Column C660 Vent Gas_Ethylcyclohexane_Fraction',\n",
              " 'Benzene Column C660 Split Factors Calculation_Split Factor for Individual Component to Benzene Column C660 Vent Gas_Ethylbenzene_Fraction',\n",
              " 'Benzene Column C660 Split Factors Calculation_Split Factor for Individual Component to Benzene Column C660 Vent Gas_p-Xylene_Fraction',\n",
              " 'Benzene Column C660 Split Factors Calculation_Split Factor for Individual Component to Benzene Column C660 Vent Gas_m-Xylene_Fraction',\n",
              " 'Benzene Column C660 Split Factors Calculation_Split Factor for Individual Component to Benzene Column C660 Vent Gas_o-Xylene_Fraction',\n",
              " 'Benzene Column C660 Split Factors Calculation_Split Factor for Individual Component to Benzene Column C660 Vent Gas_n-Nonane_Fraction',\n",
              " 'Benzene Column C660 Split Factors Calculation_Split Factor for Individual Component to Benzene Column C660 Vent Gas_i-Propylbenzene_Fraction',\n",
              " 'Benzene Column C660 Split Factors Calculation_Split Factor for Individual Component to Benzene Column C660 Vent Gas_n-Propylcyclohexane_Fraction',\n",
              " 'Benzene Column C660 Split Factors Calculation_Split Factor for Individual Component to Benzene Column C660 Vent Gas_n-Propylbenzene_Fraction',\n",
              " 'Benzene Column C660 Split Factors Calculation_Split Factor for Individual Component to Benzene Column C660 Vent Gas_1-Methyl-3-ethylbenzene_Fraction',\n",
              " 'Benzene Column C660 Split Factors Calculation_Split Factor for Individual Component to Benzene Column C660 Vent Gas_1-Methyl-4-ethylbenzene_Fraction',\n",
              " 'Benzene Column C660 Split Factors Calculation_Split Factor for Individual Component to Benzene Column C660 Vent Gas_1,3,5-Trimethylbenzene_Fraction',\n",
              " 'Benzene Column C660 Split Factors Calculation_Split Factor for Individual Component to Benzene Column C660 Vent Gas_1-Methyl-2-ethylbenzene_Fraction',\n",
              " 'Benzene Column C660 Split Factors Calculation_Split Factor for Individual Component to Benzene Column C660 Vent Gas_1,2,4-Trimethylbenzene_Fraction',\n",
              " 'Benzene Column C660 Split Factors Calculation_Split Factor for Individual Component to Benzene Column C660 Vent Gas_tert-Butylcyclohexane_Fraction',\n",
              " 'Benzene Column C660 Split Factors Calculation_Split Factor for Individual Component to Benzene Column C660 Vent Gas_1,2,3-Trimethylbenzene_Fraction',\n",
              " 'Benzene Column C660 Split Factors Calculation_Split Factor for Individual Component to Benzene Column C660 Vent Gas_Indane_Fraction',\n",
              " 'Benzene Column C660 Split Factors Calculation_Split Factor for Individual Component to Benzene Column C660 Vent Gas_1-Methyl-4-n-propylbenzene_Fraction',\n",
              " 'Benzene Column C660 Split Factors Calculation_Split Factor for Individual Component to Benzene Column C660 Vent Gas_1,2-Diethylbenzene_Fraction',\n",
              " 'Benzene Column C660 Split Factors Calculation_Split Factor for Individual Component to Benzene Column C660 Vent Gas_5-Ethyl-m-xylene_Fraction',\n",
              " 'Benzene Column C660 Split Factors Calculation_Split Factor for Individual Component to Benzene Column C660 Vent Gas_1,4-Diethylbenzene_Fraction',\n",
              " 'Benzene Column C660 Split Factors Calculation_Split Factor for Individual Component to Benzene Column C660 Vent Gas_1,2,3,5-Tetramethylbenzene_Fraction',\n",
              " 'Benzene Column C660 Split Factors Calculation_Split Factor for Individual Component to Benzene Column C660 Vent Gas_n-Pentylbenzene_Fraction',\n",
              " 'Benzene Column C660 Split Factors Calculation_Split Factor for Individual Component to Benzene Column C660 Vent Gas_n-Hexylbenzene_Fraction',\n",
              " 'Benzene Column C660 Split Factors Calculation_Split Factor for Individual Component to Benzene Column C660 Vent Gas_Nitrogen_Fraction',\n",
              " 'Benzene Column C660 Split Factors Calculation_Split Factor for Individual Component to Benzene Column C660 Vent Gas_Oxygen_Fraction',\n",
              " 'Benzene Column C660 Split Factors Calculation_Split Factor for Individual Component to Benzene Column C660 Distillate_Hydrogen_Fraction',\n",
              " 'Benzene Column C660 Split Factors Calculation_Split Factor for Individual Component to Benzene Column C660 Distillate_Methane_Fraction',\n",
              " 'Benzene Column C660 Split Factors Calculation_Split Factor for Individual Component to Benzene Column C660 Distillate_Ethane_Fraction',\n",
              " 'Benzene Column C660 Split Factors Calculation_Split Factor for Individual Component to Benzene Column C660 Distillate_Propane_Fraction',\n",
              " 'Benzene Column C660 Split Factors Calculation_Split Factor for Individual Component to Benzene Column C660 Distillate_n-Butane_Fraction',\n",
              " 'Benzene Column C660 Split Factors Calculation_Split Factor for Individual Component to Benzene Column C660 Distillate_n-Pentane_Fraction',\n",
              " 'Benzene Column C660 Split Factors Calculation_Split Factor for Individual Component to Benzene Column C660 Distillate_n-Hexane_Fraction',\n",
              " 'Benzene Column C660 Split Factors Calculation_Split Factor for Individual Component to Benzene Column C660 Distillate_Benzene_Fraction',\n",
              " 'Benzene Column C660 Split Factors Calculation_Split Factor for Individual Component to Benzene Column C660 Distillate_Cyclohexane_Fraction',\n",
              " 'Benzene Column C660 Split Factors Calculation_Split Factor for Individual Component to Benzene Column C660 Distillate_n-Heptane_Fraction',\n",
              " 'Benzene Column C660 Split Factors Calculation_Split Factor for Individual Component to Benzene Column C660 Distillate_Water_Fraction',\n",
              " 'Benzene Column C660 Split Factors Calculation_Split Factor for Individual Component to Benzene Column C660 Distillate_Methylcyclohexane_Fraction',\n",
              " 'Benzene Column C660 Split Factors Calculation_Split Factor for Individual Component to Benzene Column C660 Distillate_Toluene_Fraction',\n",
              " 'Benzene Column C660 Split Factors Calculation_Split Factor for Individual Component to Benzene Column C660 Distillate_n-Octane_Fraction',\n",
              " 'Benzene Column C660 Split Factors Calculation_Split Factor for Individual Component to Benzene Column C660 Distillate_n-Propylcyclopentane_Fraction',\n",
              " 'Benzene Column C660 Split Factors Calculation_Split Factor for Individual Component to Benzene Column C660 Distillate_Ethylcyclohexane_Fraction',\n",
              " 'Benzene Column C660 Split Factors Calculation_Split Factor for Individual Component to Benzene Column C660 Distillate_Ethylbenzene_Fraction',\n",
              " 'Benzene Column C660 Split Factors Calculation_Split Factor for Individual Component to Benzene Column C660 Distillate_p-Xylene_Fraction',\n",
              " 'Benzene Column C660 Split Factors Calculation_Split Factor for Individual Component to Benzene Column C660 Distillate_m-Xylene_Fraction',\n",
              " 'Benzene Column C660 Split Factors Calculation_Split Factor for Individual Component to Benzene Column C660 Distillate_o-Xylene_Fraction',\n",
              " 'Benzene Column C660 Split Factors Calculation_Split Factor for Individual Component to Benzene Column C660 Distillate_n-Nonane_Fraction',\n",
              " 'Benzene Column C660 Split Factors Calculation_Split Factor for Individual Component to Benzene Column C660 Distillate_i-Propylbenzene_Fraction',\n",
              " 'Benzene Column C660 Split Factors Calculation_Split Factor for Individual Component to Benzene Column C660 Distillate_n-Propylcyclohexane_Fraction',\n",
              " 'Benzene Column C660 Split Factors Calculation_Split Factor for Individual Component to Benzene Column C660 Distillate_n-Propylbenzene_Fraction',\n",
              " 'Benzene Column C660 Split Factors Calculation_Split Factor for Individual Component to Benzene Column C660 Distillate_1-Methyl-3-ethylbenzene_Fraction',\n",
              " 'Benzene Column C660 Split Factors Calculation_Split Factor for Individual Component to Benzene Column C660 Distillate_1-Methyl-4-ethylbenzene_Fraction',\n",
              " 'Benzene Column C660 Split Factors Calculation_Split Factor for Individual Component to Benzene Column C660 Distillate_1,3,5-Trimethylbenzene_Fraction',\n",
              " 'Benzene Column C660 Split Factors Calculation_Split Factor for Individual Component to Benzene Column C660 Distillate_1-Methyl-2-ethylbenzene_Fraction',\n",
              " 'Benzene Column C660 Split Factors Calculation_Split Factor for Individual Component to Benzene Column C660 Distillate_1,2,4-Trimethylbenzene_Fraction',\n",
              " 'Benzene Column C660 Split Factors Calculation_Split Factor for Individual Component to Benzene Column C660 Distillate_tert-Butylcyclohexane_Fraction',\n",
              " 'Benzene Column C660 Split Factors Calculation_Split Factor for Individual Component to Benzene Column C660 Distillate_1,2,3-Trimethylbenzene_Fraction',\n",
              " 'Benzene Column C660 Split Factors Calculation_Split Factor for Individual Component to Benzene Column C660 Distillate_Indane_Fraction',\n",
              " 'Benzene Column C660 Split Factors Calculation_Split Factor for Individual Component to Benzene Column C660 Distillate_1-Methyl-4-n-propylbenzene_Fraction',\n",
              " 'Benzene Column C660 Split Factors Calculation_Split Factor for Individual Component to Benzene Column C660 Distillate_1,2-Diethylbenzene_Fraction',\n",
              " 'Benzene Column C660 Split Factors Calculation_Split Factor for Individual Component to Benzene Column C660 Distillate_5-Ethyl-m-xylene_Fraction',\n",
              " 'Benzene Column C660 Split Factors Calculation_Split Factor for Individual Component to Benzene Column C660 Distillate_1,4-Diethylbenzene_Fraction',\n",
              " 'Benzene Column C660 Split Factors Calculation_Split Factor for Individual Component to Benzene Column C660 Distillate_1,2,3,5-Tetramethylbenzene_Fraction',\n",
              " 'Benzene Column C660 Split Factors Calculation_Split Factor for Individual Component to Benzene Column C660 Distillate_n-Pentylbenzene_Fraction',\n",
              " 'Benzene Column C660 Split Factors Calculation_Split Factor for Individual Component to Benzene Column C660 Distillate_n-Hexylbenzene_Fraction',\n",
              " 'Benzene Column C660 Split Factors Calculation_Split Factor for Individual Component to Benzene Column C660 Distillate_Nitrogen_Fraction',\n",
              " 'Benzene Column C660 Split Factors Calculation_Split Factor for Individual Component to Benzene Column C660 Distillate_Oxygen_Fraction',\n",
              " 'Benzene Column C660 Split Factors Calculation_Split Factor for Individual Component to Benzene Column C660 Sidedraw_Hydrogen_Fraction',\n",
              " 'Benzene Column C660 Split Factors Calculation_Split Factor for Individual Component to Benzene Column C660 Sidedraw_Methane_Fraction',\n",
              " 'Benzene Column C660 Split Factors Calculation_Split Factor for Individual Component to Benzene Column C660 Sidedraw_Ethane_Fraction',\n",
              " 'Benzene Column C660 Split Factors Calculation_Split Factor for Individual Component to Benzene Column C660 Sidedraw_Propane_Fraction',\n",
              " 'Benzene Column C660 Split Factors Calculation_Split Factor for Individual Component to Benzene Column C660 Sidedraw_n-Butane_Fraction',\n",
              " 'Benzene Column C660 Split Factors Calculation_Split Factor for Individual Component to Benzene Column C660 Sidedraw_n-Pentane_Fraction',\n",
              " 'Benzene Column C660 Split Factors Calculation_Split Factor for Individual Component to Benzene Column C660 Sidedraw_n-Hexane_Fraction',\n",
              " 'Benzene Column C660 Split Factors Calculation_Split Factor for Individual Component to Benzene Column C660 Sidedraw_Benzene_Fraction',\n",
              " 'Benzene Column C660 Split Factors Calculation_Split Factor for Individual Component to Benzene Column C660 Sidedraw_Cyclohexane_Fraction',\n",
              " 'Benzene Column C660 Split Factors Calculation_Split Factor for Individual Component to Benzene Column C660 Sidedraw_n-Heptane_Fraction',\n",
              " 'Benzene Column C660 Split Factors Calculation_Split Factor for Individual Component to Benzene Column C660 Sidedraw_Water_Fraction',\n",
              " 'Benzene Column C660 Split Factors Calculation_Split Factor for Individual Component to Benzene Column C660 Sidedraw_Methylcyclohexane_Fraction',\n",
              " 'Benzene Column C660 Split Factors Calculation_Split Factor for Individual Component to Benzene Column C660 Sidedraw_Toluene_Fraction',\n",
              " 'Benzene Column C660 Split Factors Calculation_Split Factor for Individual Component to Benzene Column C660 Sidedraw_n-Octane_Fraction',\n",
              " 'Benzene Column C660 Split Factors Calculation_Split Factor for Individual Component to Benzene Column C660 Sidedraw_n-Propylcyclopentane_Fraction',\n",
              " 'Benzene Column C660 Split Factors Calculation_Split Factor for Individual Component to Benzene Column C660 Sidedraw_Ethylcyclohexane_Fraction',\n",
              " 'Benzene Column C660 Split Factors Calculation_Split Factor for Individual Component to Benzene Column C660 Sidedraw_Ethylbenzene_Fraction',\n",
              " 'Benzene Column C660 Split Factors Calculation_Split Factor for Individual Component to Benzene Column C660 Sidedraw_p-Xylene_Fraction',\n",
              " 'Benzene Column C660 Split Factors Calculation_Split Factor for Individual Component to Benzene Column C660 Sidedraw_m-Xylene_Fraction',\n",
              " 'Benzene Column C660 Split Factors Calculation_Split Factor for Individual Component to Benzene Column C660 Sidedraw_o-Xylene_Fraction',\n",
              " 'Benzene Column C660 Split Factors Calculation_Split Factor for Individual Component to Benzene Column C660 Sidedraw_n-Nonane_Fraction',\n",
              " 'Benzene Column C660 Split Factors Calculation_Split Factor for Individual Component to Benzene Column C660 Sidedraw_i-Propylbenzene_Fraction',\n",
              " 'Benzene Column C660 Split Factors Calculation_Split Factor for Individual Component to Benzene Column C660 Sidedraw_n-Propylcyclohexane_Fraction',\n",
              " 'Benzene Column C660 Split Factors Calculation_Split Factor for Individual Component to Benzene Column C660 Sidedraw_n-Propylbenzene_Fraction',\n",
              " 'Benzene Column C660 Split Factors Calculation_Split Factor for Individual Component to Benzene Column C660 Sidedraw_1-Methyl-3-ethylbenzene_Fraction',\n",
              " 'Benzene Column C660 Split Factors Calculation_Split Factor for Individual Component to Benzene Column C660 Sidedraw_1-Methyl-4-ethylbenzene_Fraction',\n",
              " 'Benzene Column C660 Split Factors Calculation_Split Factor for Individual Component to Benzene Column C660 Sidedraw_1,3,5-Trimethylbenzene_Fraction',\n",
              " 'Benzene Column C660 Split Factors Calculation_Split Factor for Individual Component to Benzene Column C660 Sidedraw_1-Methyl-2-ethylbenzene_Fraction',\n",
              " 'Benzene Column C660 Split Factors Calculation_Split Factor for Individual Component to Benzene Column C660 Sidedraw_1,2,4-Trimethylbenzene_Fraction',\n",
              " 'Benzene Column C660 Split Factors Calculation_Split Factor for Individual Component to Benzene Column C660 Sidedraw_tert-Butylcyclohexane_Fraction',\n",
              " 'Benzene Column C660 Split Factors Calculation_Split Factor for Individual Component to Benzene Column C660 Sidedraw_1,2,3-Trimethylbenzene_Fraction',\n",
              " 'Benzene Column C660 Split Factors Calculation_Split Factor for Individual Component to Benzene Column C660 Sidedraw_Indane_Fraction',\n",
              " 'Benzene Column C660 Split Factors Calculation_Split Factor for Individual Component to Benzene Column C660 Sidedraw_1-Methyl-4-n-propylbenzene_Fraction',\n",
              " 'Benzene Column C660 Split Factors Calculation_Split Factor for Individual Component to Benzene Column C660 Sidedraw_1,2-Diethylbenzene_Fraction',\n",
              " 'Benzene Column C660 Split Factors Calculation_Split Factor for Individual Component to Benzene Column C660 Sidedraw_5-Ethyl-m-xylene_Fraction',\n",
              " 'Benzene Column C660 Split Factors Calculation_Split Factor for Individual Component to Benzene Column C660 Sidedraw_1,4-Diethylbenzene_Fraction',\n",
              " 'Benzene Column C660 Split Factors Calculation_Split Factor for Individual Component to Benzene Column C660 Sidedraw_1,2,3,5-Tetramethylbenzene_Fraction',\n",
              " 'Benzene Column C660 Split Factors Calculation_Split Factor for Individual Component to Benzene Column C660 Sidedraw_n-Pentylbenzene_Fraction',\n",
              " 'Benzene Column C660 Split Factors Calculation_Split Factor for Individual Component to Benzene Column C660 Sidedraw_n-Hexylbenzene_Fraction',\n",
              " 'Benzene Column C660 Split Factors Calculation_Split Factor for Individual Component to Benzene Column C660 Sidedraw_Nitrogen_Fraction',\n",
              " 'Benzene Column C660 Split Factors Calculation_Split Factor for Individual Component to Benzene Column C660 Sidedraw_Oxygen_Fraction',\n",
              " 'Benzene Column C660 Split Factors Calculation_Split Factor for Individual Component to Benzene Column C660 Bottoms_Hydrogen_Fraction',\n",
              " 'Benzene Column C660 Split Factors Calculation_Split Factor for Individual Component to Benzene Column C660 Bottoms_Methane_Fraction',\n",
              " 'Benzene Column C660 Split Factors Calculation_Split Factor for Individual Component to Benzene Column C660 Bottoms_Ethane_Fraction',\n",
              " 'Benzene Column C660 Split Factors Calculation_Split Factor for Individual Component to Benzene Column C660 Bottoms_Propane_Fraction',\n",
              " 'Benzene Column C660 Split Factors Calculation_Split Factor for Individual Component to Benzene Column C660 Bottoms_n-Butane_Fraction',\n",
              " 'Benzene Column C660 Split Factors Calculation_Split Factor for Individual Component to Benzene Column C660 Bottoms_n-Pentane_Fraction',\n",
              " 'Benzene Column C660 Split Factors Calculation_Split Factor for Individual Component to Benzene Column C660 Bottoms_n-Hexane_Fraction',\n",
              " 'Benzene Column C660 Split Factors Calculation_Split Factor for Individual Component to Benzene Column C660 Bottoms_Benzene_Fraction',\n",
              " 'Benzene Column C660 Split Factors Calculation_Split Factor for Individual Component to Benzene Column C660 Bottoms_Cyclohexane_Fraction',\n",
              " 'Benzene Column C660 Split Factors Calculation_Split Factor for Individual Component to Benzene Column C660 Bottoms_n-Heptane_Fraction',\n",
              " 'Benzene Column C660 Split Factors Calculation_Split Factor for Individual Component to Benzene Column C660 Bottoms_Water_Fraction',\n",
              " 'Benzene Column C660 Split Factors Calculation_Split Factor for Individual Component to Benzene Column C660 Bottoms_Methylcyclohexane_Fraction',\n",
              " 'Benzene Column C660 Split Factors Calculation_Split Factor for Individual Component to Benzene Column C660 Bottoms_Toluene_Fraction',\n",
              " 'Benzene Column C660 Split Factors Calculation_Split Factor for Individual Component to Benzene Column C660 Bottoms_n-Octane_Fraction',\n",
              " 'Benzene Column C660 Split Factors Calculation_Split Factor for Individual Component to Benzene Column C660 Bottoms_n-Propylcyclopentane_Fraction',\n",
              " 'Benzene Column C660 Split Factors Calculation_Split Factor for Individual Component to Benzene Column C660 Bottoms_Ethylcyclohexane_Fraction',\n",
              " 'Benzene Column C660 Split Factors Calculation_Split Factor for Individual Component to Benzene Column C660 Bottoms_Ethylbenzene_Fraction',\n",
              " 'Benzene Column C660 Split Factors Calculation_Split Factor for Individual Component to Benzene Column C660 Bottoms_p-Xylene_Fraction',\n",
              " 'Benzene Column C660 Split Factors Calculation_Split Factor for Individual Component to Benzene Column C660 Bottoms_m-Xylene_Fraction',\n",
              " 'Benzene Column C660 Split Factors Calculation_Split Factor for Individual Component to Benzene Column C660 Bottoms_o-Xylene_Fraction',\n",
              " 'Benzene Column C660 Split Factors Calculation_Split Factor for Individual Component to Benzene Column C660 Bottoms_n-Nonane_Fraction',\n",
              " 'Benzene Column C660 Split Factors Calculation_Split Factor for Individual Component to Benzene Column C660 Bottoms_i-Propylbenzene_Fraction',\n",
              " 'Benzene Column C660 Split Factors Calculation_Split Factor for Individual Component to Benzene Column C660 Bottoms_n-Propylcyclohexane_Fraction',\n",
              " 'Benzene Column C660 Split Factors Calculation_Split Factor for Individual Component to Benzene Column C660 Bottoms_n-Propylbenzene_Fraction',\n",
              " 'Benzene Column C660 Split Factors Calculation_Split Factor for Individual Component to Benzene Column C660 Bottoms_1-Methyl-3-ethylbenzene_Fraction',\n",
              " 'Benzene Column C660 Split Factors Calculation_Split Factor for Individual Component to Benzene Column C660 Bottoms_1-Methyl-4-ethylbenzene_Fraction',\n",
              " 'Benzene Column C660 Split Factors Calculation_Split Factor for Individual Component to Benzene Column C660 Bottoms_1,3,5-Trimethylbenzene_Fraction',\n",
              " 'Benzene Column C660 Split Factors Calculation_Split Factor for Individual Component to Benzene Column C660 Bottoms_1-Methyl-2-ethylbenzene_Fraction',\n",
              " 'Benzene Column C660 Split Factors Calculation_Split Factor for Individual Component to Benzene Column C660 Bottoms_1,2,4-Trimethylbenzene_Fraction',\n",
              " 'Benzene Column C660 Split Factors Calculation_Split Factor for Individual Component to Benzene Column C660 Bottoms_tert-Butylcyclohexane_Fraction',\n",
              " 'Benzene Column C660 Split Factors Calculation_Split Factor for Individual Component to Benzene Column C660 Bottoms_1,2,3-Trimethylbenzene_Fraction',\n",
              " 'Benzene Column C660 Split Factors Calculation_Split Factor for Individual Component to Benzene Column C660 Bottoms_Indane_Fraction',\n",
              " 'Benzene Column C660 Split Factors Calculation_Split Factor for Individual Component to Benzene Column C660 Bottoms_1-Methyl-4-n-propylbenzene_Fraction',\n",
              " 'Benzene Column C660 Split Factors Calculation_Split Factor for Individual Component to Benzene Column C660 Bottoms_1,2-Diethylbenzene_Fraction',\n",
              " 'Benzene Column C660 Split Factors Calculation_Split Factor for Individual Component to Benzene Column C660 Bottoms_5-Ethyl-m-xylene_Fraction',\n",
              " 'Benzene Column C660 Split Factors Calculation_Split Factor for Individual Component to Benzene Column C660 Bottoms_1,4-Diethylbenzene_Fraction',\n",
              " 'Benzene Column C660 Split Factors Calculation_Split Factor for Individual Component to Benzene Column C660 Bottoms_1,2,3,5-Tetramethylbenzene_Fraction',\n",
              " 'Benzene Column C660 Split Factors Calculation_Split Factor for Individual Component to Benzene Column C660 Bottoms_n-Pentylbenzene_Fraction',\n",
              " 'Benzene Column C660 Split Factors Calculation_Split Factor for Individual Component to Benzene Column C660 Bottoms_n-Hexylbenzene_Fraction',\n",
              " 'Benzene Column C660 Split Factors Calculation_Split Factor for Individual Component to Benzene Column C660 Bottoms_Nitrogen_Fraction',\n",
              " 'Benzene Column C660 Split Factors Calculation_Split Factor for Individual Component to Benzene Column C660 Bottoms_Oxygen_Fraction',\n",
              " 'Density_Feed Properties',\n",
              " 'Density_Vent Gas Production Rate and Composition',\n",
              " 'Density_Distillate (Benzene Drag) Production Rate and Composition',\n",
              " 'Density_Sidedraw (Benzene )Production Rate and Composition',\n",
              " 'Density_Bottoms Production Rate and Composition',\n",
              " 'Benzene Column C660 Operation_Yield Summary_Reflux Rate_m3/hr',\n",
              " 'Benzene Column C660 Operation_Column Temp Profile_C660 Tray 6 (SD & Control)_oC',\n",
              " 'Benzene Column C660 Operation_Column Temp Profile_C660 Tray 23 (Control)_oC']"
            ]
          },
          "metadata": {
            "tags": []
          },
          "execution_count": 22
        }
      ]
    },
    {
      "cell_type": "markdown",
      "metadata": {
        "id": "YUunGF5qyoJD"
      },
      "source": [
        "# 補足缺失欄位 分離係數"
      ]
    },
    {
      "cell_type": "code",
      "metadata": {
        "id": "x0RI9M_EyoR2",
        "outputId": "0589a748-d2f2-4f35-eb85-c2dcfe115810",
        "colab": {
          "base_uri": "https://localhost:8080/",
          "height": 304
        }
      },
      "source": [
        "path = '/content/drive/MyDrive/台塑輕油案子/data/c620/明志_遷移式學習_訓練資料_寄送版/蒸餾塔(C620_C660_C670)取出品管資料_寄送明志科大 r2.xlsx'\n",
        "df2 = pd.read_excel(path,sheet_name='資料彙整(寄送明志)r2')\n",
        "df2.head()"
      ],
      "execution_count": 23,
      "outputs": [
        {
          "output_type": "execute_result",
          "data": {
            "text/html": [
              "<div>\n",
              "<style scoped>\n",
              "    .dataframe tbody tr th:only-of-type {\n",
              "        vertical-align: middle;\n",
              "    }\n",
              "\n",
              "    .dataframe tbody tr th {\n",
              "        vertical-align: top;\n",
              "    }\n",
              "\n",
              "    .dataframe thead th {\n",
              "        text-align: right;\n",
              "    }\n",
              "</style>\n",
              "<table border=\"1\" class=\"dataframe\">\n",
              "  <thead>\n",
              "    <tr style=\"text-align: right;\">\n",
              "      <th></th>\n",
              "      <th>Unnamed: 0</th>\n",
              "      <th>Unnamed: 1</th>\n",
              "      <th>Unnamed: 2</th>\n",
              "      <th>Unnamed: 3</th>\n",
              "      <th>Unnamed: 4</th>\n",
              "      <th>Unnamed: 5</th>\n",
              "      <th>Unnamed: 6</th>\n",
              "      <th>Unnamed: 7</th>\n",
              "      <th>Unnamed: 8</th>\n",
              "      <th>Unnamed: 9</th>\n",
              "      <th>Unnamed: 10</th>\n",
              "      <th>Unnamed: 11</th>\n",
              "      <th>Unnamed: 12</th>\n",
              "      <th>Unnamed: 13</th>\n",
              "      <th>Unnamed: 14</th>\n",
              "      <th>Unnamed: 15</th>\n",
              "      <th>Unnamed: 16</th>\n",
              "      <th>Unnamed: 17</th>\n",
              "      <th>Unnamed: 18</th>\n",
              "      <th>Unnamed: 19</th>\n",
              "      <th>Unnamed: 20</th>\n",
              "      <th>Unnamed: 21</th>\n",
              "      <th>Unnamed: 22</th>\n",
              "      <th>Unnamed: 23</th>\n",
              "      <th>Unnamed: 24</th>\n",
              "      <th>Unnamed: 25</th>\n",
              "      <th>Unnamed: 26</th>\n",
              "      <th>Unnamed: 27</th>\n",
              "      <th>Unnamed: 28</th>\n",
              "      <th>Unnamed: 29</th>\n",
              "      <th>Unnamed: 30</th>\n",
              "      <th>Unnamed: 31</th>\n",
              "      <th>Unnamed: 32</th>\n",
              "      <th>Unnamed: 33</th>\n",
              "      <th>Unnamed: 34</th>\n",
              "      <th>Unnamed: 35</th>\n",
              "      <th>Unnamed: 36</th>\n",
              "      <th>Unnamed: 37</th>\n",
              "      <th>Unnamed: 38</th>\n",
              "      <th>Unnamed: 39</th>\n",
              "      <th>...</th>\n",
              "      <th>Unnamed: 130</th>\n",
              "      <th>Unnamed: 131</th>\n",
              "      <th>Unnamed: 132</th>\n",
              "      <th>Unnamed: 133</th>\n",
              "      <th>Unnamed: 134</th>\n",
              "      <th>Unnamed: 135</th>\n",
              "      <th>Unnamed: 136</th>\n",
              "      <th>Unnamed: 137</th>\n",
              "      <th>Unnamed: 138</th>\n",
              "      <th>Unnamed: 139</th>\n",
              "      <th>Unnamed: 140</th>\n",
              "      <th>Unnamed: 141</th>\n",
              "      <th>Unnamed: 142</th>\n",
              "      <th>Unnamed: 143</th>\n",
              "      <th>Unnamed: 144</th>\n",
              "      <th>Unnamed: 145</th>\n",
              "      <th>Unnamed: 146</th>\n",
              "      <th>Unnamed: 147</th>\n",
              "      <th>Unnamed: 148</th>\n",
              "      <th>Unnamed: 149</th>\n",
              "      <th>Unnamed: 150</th>\n",
              "      <th>Unnamed: 151</th>\n",
              "      <th>Unnamed: 152</th>\n",
              "      <th>Unnamed: 153</th>\n",
              "      <th>Unnamed: 154</th>\n",
              "      <th>Unnamed: 155</th>\n",
              "      <th>Unnamed: 156</th>\n",
              "      <th>Unnamed: 157</th>\n",
              "      <th>Unnamed: 158</th>\n",
              "      <th>Unnamed: 159</th>\n",
              "      <th>Unnamed: 160</th>\n",
              "      <th>Unnamed: 161</th>\n",
              "      <th>Unnamed: 162</th>\n",
              "      <th>Unnamed: 163</th>\n",
              "      <th>Unnamed: 164</th>\n",
              "      <th>Unnamed: 165</th>\n",
              "      <th>Unnamed: 166</th>\n",
              "      <th>Unnamed: 167</th>\n",
              "      <th>Unnamed: 168</th>\n",
              "      <th>Unnamed: 169</th>\n",
              "    </tr>\n",
              "  </thead>\n",
              "  <tbody>\n",
              "    <tr>\n",
              "      <th>0</th>\n",
              "      <td>NaN</td>\n",
              "      <td>C620_Vent_Gas</td>\n",
              "      <td>2020-09-02 00:00:00</td>\n",
              "      <td>2020-09-03 00:00:00</td>\n",
              "      <td>2020-09-04 00:00:00</td>\n",
              "      <td>2020-09-05 00:00:00</td>\n",
              "      <td>2020-09-06 00:00:00</td>\n",
              "      <td>2020-09-07 00:00:00</td>\n",
              "      <td>2020-09-08 00:00:00</td>\n",
              "      <td>2020-09-09 00:00:00</td>\n",
              "      <td>2020-09-10 00:00:00</td>\n",
              "      <td>2020-09-11 00:00:00</td>\n",
              "      <td>2020-09-12 00:00:00</td>\n",
              "      <td>2020-09-13 00:00:00</td>\n",
              "      <td>2020-09-14 00:00:00</td>\n",
              "      <td>2020-09-15 00:00:00</td>\n",
              "      <td>2020-09-16 00:00:00</td>\n",
              "      <td>2020-09-17 00:00:00</td>\n",
              "      <td>2020-09-18 00:00:00</td>\n",
              "      <td>2020-09-19 00:00:00</td>\n",
              "      <td>2020-09-20 00:00:00</td>\n",
              "      <td>2020-09-21 00:00:00</td>\n",
              "      <td>2020-09-22 00:00:00</td>\n",
              "      <td>2020-09-23 00:00:00</td>\n",
              "      <td>2020-09-24 00:00:00</td>\n",
              "      <td>2020-09-25 00:00:00</td>\n",
              "      <td>2020-09-26 00:00:00</td>\n",
              "      <td>2020-09-27 00:00:00</td>\n",
              "      <td>2020-09-28 00:00:00</td>\n",
              "      <td>2020-09-29 00:00:00</td>\n",
              "      <td>2020-09-30 00:00:00</td>\n",
              "      <td>2020-10-02 00:00:00</td>\n",
              "      <td>2020-10-03 00:00:00</td>\n",
              "      <td>2020-10-04 00:00:00</td>\n",
              "      <td>2020-10-05 00:00:00</td>\n",
              "      <td>2020-10-06 00:00:00</td>\n",
              "      <td>2020-10-07 00:00:00</td>\n",
              "      <td>2020-10-08 00:00:00</td>\n",
              "      <td>2020-10-09 00:00:00</td>\n",
              "      <td>2020-10-10 00:00:00</td>\n",
              "      <td>...</td>\n",
              "      <td>2021-01-12 00:00:00</td>\n",
              "      <td>2021-01-13 00:00:00</td>\n",
              "      <td>2021-01-14 00:00:00</td>\n",
              "      <td>2021-01-15 00:00:00</td>\n",
              "      <td>2021-01-16 00:00:00</td>\n",
              "      <td>2021-01-17 00:00:00</td>\n",
              "      <td>2021-01-18 00:00:00</td>\n",
              "      <td>2021-01-19 00:00:00</td>\n",
              "      <td>2021-01-20 00:00:00</td>\n",
              "      <td>2021-01-21 00:00:00</td>\n",
              "      <td>2021-01-22 00:00:00</td>\n",
              "      <td>2021-01-23 00:00:00</td>\n",
              "      <td>2021-01-24 00:00:00</td>\n",
              "      <td>2021-01-25 00:00:00</td>\n",
              "      <td>2021-01-26 00:00:00</td>\n",
              "      <td>2021-01-27 00:00:00</td>\n",
              "      <td>2021-01-28 00:00:00</td>\n",
              "      <td>2021-01-29 00:00:00</td>\n",
              "      <td>2021-01-30 00:00:00</td>\n",
              "      <td>2021-01-31 00:00:00</td>\n",
              "      <td>2021-02-02 00:00:00</td>\n",
              "      <td>2021-02-03 00:00:00</td>\n",
              "      <td>2021-02-04 00:00:00</td>\n",
              "      <td>2021-02-05 00:00:00</td>\n",
              "      <td>2021-02-06 00:00:00</td>\n",
              "      <td>2021-02-07 00:00:00</td>\n",
              "      <td>2021-02-08 00:00:00</td>\n",
              "      <td>2021-02-09 00:00:00</td>\n",
              "      <td>2021-02-10 00:00:00</td>\n",
              "      <td>2021-02-11 00:00:00</td>\n",
              "      <td>2021-02-12 00:00:00</td>\n",
              "      <td>2021-02-13 00:00:00</td>\n",
              "      <td>2021-02-14 00:00:00</td>\n",
              "      <td>2021-02-15 00:00:00</td>\n",
              "      <td>2021-02-16 00:00:00</td>\n",
              "      <td>2021-02-17 00:00:00</td>\n",
              "      <td>2021-02-18 00:00:00</td>\n",
              "      <td>2021-02-19 00:00:00</td>\n",
              "      <td>2021-02-20 00:00:00</td>\n",
              "      <td>2021-02-21 00:00:00</td>\n",
              "    </tr>\n",
              "    <tr>\n",
              "      <th>1</th>\n",
              "      <td>NaN</td>\n",
              "      <td>Hydrogen</td>\n",
              "      <td>6.531</td>\n",
              "      <td>8.41</td>\n",
              "      <td>7.918</td>\n",
              "      <td>7.8752</td>\n",
              "      <td>7.372</td>\n",
              "      <td>7.59</td>\n",
              "      <td>7.431</td>\n",
              "      <td>7.115</td>\n",
              "      <td>7.37</td>\n",
              "      <td>6.78</td>\n",
              "      <td>7.96</td>\n",
              "      <td>7.79</td>\n",
              "      <td>8.21</td>\n",
              "      <td>8.1288</td>\n",
              "      <td>7.6925</td>\n",
              "      <td>8.1227</td>\n",
              "      <td>8.8135</td>\n",
              "      <td>7.6956</td>\n",
              "      <td>8.041</td>\n",
              "      <td>7.907</td>\n",
              "      <td>7.394</td>\n",
              "      <td>7.774</td>\n",
              "      <td>8.159</td>\n",
              "      <td>7.22</td>\n",
              "      <td>7.184</td>\n",
              "      <td>6.901</td>\n",
              "      <td>7.151</td>\n",
              "      <td>7.39</td>\n",
              "      <td>7.18</td>\n",
              "      <td>8.86</td>\n",
              "      <td>8.1</td>\n",
              "      <td>8.5</td>\n",
              "      <td>8.0328</td>\n",
              "      <td>11.008</td>\n",
              "      <td>8.0358</td>\n",
              "      <td>10.241</td>\n",
              "      <td>30.628</td>\n",
              "      <td>36.404</td>\n",
              "      <td>...</td>\n",
              "      <td>9.56</td>\n",
              "      <td>8.6134</td>\n",
              "      <td>8.5596</td>\n",
              "      <td>4.7681</td>\n",
              "      <td>9.9246</td>\n",
              "      <td>8.5458</td>\n",
              "      <td>8.902</td>\n",
              "      <td>6.704</td>\n",
              "      <td>8.496</td>\n",
              "      <td>8.01</td>\n",
              "      <td>8.815</td>\n",
              "      <td>7.868</td>\n",
              "      <td>7.988</td>\n",
              "      <td>8.315</td>\n",
              "      <td>8.65</td>\n",
              "      <td>7.809</td>\n",
              "      <td>7.81</td>\n",
              "      <td>9.12</td>\n",
              "      <td>8.72</td>\n",
              "      <td>9.45</td>\n",
              "      <td>9.6649</td>\n",
              "      <td>9.0969</td>\n",
              "      <td>8.6988</td>\n",
              "      <td>3.6305</td>\n",
              "      <td>9.3991</td>\n",
              "      <td>9.107</td>\n",
              "      <td>8.271</td>\n",
              "      <td>7.902</td>\n",
              "      <td>8.084</td>\n",
              "      <td>7.941</td>\n",
              "      <td>7.491</td>\n",
              "      <td>8.036</td>\n",
              "      <td>7.967</td>\n",
              "      <td>7.65</td>\n",
              "      <td>7.99</td>\n",
              "      <td>7.63</td>\n",
              "      <td>8.47</td>\n",
              "      <td>9.25</td>\n",
              "      <td>9.86</td>\n",
              "      <td>9.61</td>\n",
              "    </tr>\n",
              "    <tr>\n",
              "      <th>2</th>\n",
              "      <td>NaN</td>\n",
              "      <td>Methane</td>\n",
              "      <td>1.898</td>\n",
              "      <td>2.229</td>\n",
              "      <td>2.343</td>\n",
              "      <td>2.453</td>\n",
              "      <td>2.384</td>\n",
              "      <td>2.414</td>\n",
              "      <td>2.371</td>\n",
              "      <td>2.316</td>\n",
              "      <td>2.36</td>\n",
              "      <td>2.31</td>\n",
              "      <td>2.57</td>\n",
              "      <td>2.41</td>\n",
              "      <td>2.53</td>\n",
              "      <td>2.5528</td>\n",
              "      <td>2.4797</td>\n",
              "      <td>2.5428</td>\n",
              "      <td>2.7001</td>\n",
              "      <td>2.3819</td>\n",
              "      <td>2.399</td>\n",
              "      <td>2.298</td>\n",
              "      <td>2.315</td>\n",
              "      <td>2.163</td>\n",
              "      <td>2.212</td>\n",
              "      <td>2.322</td>\n",
              "      <td>2.296</td>\n",
              "      <td>2.21</td>\n",
              "      <td>2.256</td>\n",
              "      <td>2.233</td>\n",
              "      <td>2.22</td>\n",
              "      <td>2.48</td>\n",
              "      <td>2.45</td>\n",
              "      <td>2.51</td>\n",
              "      <td>2.3331</td>\n",
              "      <td>2.8984</td>\n",
              "      <td>2.2278</td>\n",
              "      <td>2.3713</td>\n",
              "      <td>3.0879</td>\n",
              "      <td>3.642</td>\n",
              "      <td>...</td>\n",
              "      <td>3</td>\n",
              "      <td>2.8436</td>\n",
              "      <td>2.7739</td>\n",
              "      <td>1.4418</td>\n",
              "      <td>2.4487</td>\n",
              "      <td>2.8594</td>\n",
              "      <td>2.776</td>\n",
              "      <td>2.384</td>\n",
              "      <td>2.798</td>\n",
              "      <td>2.711</td>\n",
              "      <td>2.964</td>\n",
              "      <td>2.742</td>\n",
              "      <td>2.694</td>\n",
              "      <td>2.824</td>\n",
              "      <td>3.031</td>\n",
              "      <td>3.173</td>\n",
              "      <td>3.17</td>\n",
              "      <td>3.21</td>\n",
              "      <td>3.09</td>\n",
              "      <td>3.22</td>\n",
              "      <td>3.3915</td>\n",
              "      <td>3.1516</td>\n",
              "      <td>3.2169</td>\n",
              "      <td>1.6245</td>\n",
              "      <td>3.4361</td>\n",
              "      <td>3.168</td>\n",
              "      <td>2.982</td>\n",
              "      <td>2.973</td>\n",
              "      <td>2.901</td>\n",
              "      <td>2.872</td>\n",
              "      <td>2.701</td>\n",
              "      <td>2.911</td>\n",
              "      <td>2.934</td>\n",
              "      <td>2.93</td>\n",
              "      <td>2.926</td>\n",
              "      <td>2.83</td>\n",
              "      <td>2.99</td>\n",
              "      <td>3.27</td>\n",
              "      <td>2.83</td>\n",
              "      <td>3.46</td>\n",
              "    </tr>\n",
              "    <tr>\n",
              "      <th>3</th>\n",
              "      <td>NaN</td>\n",
              "      <td>Ethane</td>\n",
              "      <td>35.025</td>\n",
              "      <td>38.57</td>\n",
              "      <td>37.649</td>\n",
              "      <td>37.257</td>\n",
              "      <td>38.169</td>\n",
              "      <td>37.37</td>\n",
              "      <td>37.082</td>\n",
              "      <td>37.207</td>\n",
              "      <td>37.17</td>\n",
              "      <td>37.19</td>\n",
              "      <td>38.94</td>\n",
              "      <td>38.94</td>\n",
              "      <td>39.6</td>\n",
              "      <td>39.391</td>\n",
              "      <td>39.359</td>\n",
              "      <td>40.237</td>\n",
              "      <td>39.285</td>\n",
              "      <td>36.894</td>\n",
              "      <td>37.034</td>\n",
              "      <td>36.761</td>\n",
              "      <td>37.409</td>\n",
              "      <td>36.568</td>\n",
              "      <td>36.671</td>\n",
              "      <td>37.315</td>\n",
              "      <td>36.726</td>\n",
              "      <td>37.814</td>\n",
              "      <td>37.294</td>\n",
              "      <td>37.049</td>\n",
              "      <td>38.11</td>\n",
              "      <td>34.88</td>\n",
              "      <td>35.12</td>\n",
              "      <td>34.83</td>\n",
              "      <td>34.477</td>\n",
              "      <td>38.151</td>\n",
              "      <td>31.911</td>\n",
              "      <td>35.016</td>\n",
              "      <td>28.548</td>\n",
              "      <td>30.702</td>\n",
              "      <td>...</td>\n",
              "      <td>38.32</td>\n",
              "      <td>36.366</td>\n",
              "      <td>32.599</td>\n",
              "      <td>25.409</td>\n",
              "      <td>34.855</td>\n",
              "      <td>35.881</td>\n",
              "      <td>34.237</td>\n",
              "      <td>31.999</td>\n",
              "      <td>32.443</td>\n",
              "      <td>33.041</td>\n",
              "      <td>34.721</td>\n",
              "      <td>32.939</td>\n",
              "      <td>33.654</td>\n",
              "      <td>34.075</td>\n",
              "      <td>35.408</td>\n",
              "      <td>37.122</td>\n",
              "      <td>37.12</td>\n",
              "      <td>35.29</td>\n",
              "      <td>35.12</td>\n",
              "      <td>34.86</td>\n",
              "      <td>33.974</td>\n",
              "      <td>32.74</td>\n",
              "      <td>33.978</td>\n",
              "      <td>29.971</td>\n",
              "      <td>34.754</td>\n",
              "      <td>33.463</td>\n",
              "      <td>32.24</td>\n",
              "      <td>32.04</td>\n",
              "      <td>31.419</td>\n",
              "      <td>32.289</td>\n",
              "      <td>30.083</td>\n",
              "      <td>31.025</td>\n",
              "      <td>31.039</td>\n",
              "      <td>31.377</td>\n",
              "      <td>31.185</td>\n",
              "      <td>30.93</td>\n",
              "      <td>31.25</td>\n",
              "      <td>28.4</td>\n",
              "      <td>28.64</td>\n",
              "      <td>31.58</td>\n",
              "    </tr>\n",
              "    <tr>\n",
              "      <th>4</th>\n",
              "      <td>NaN</td>\n",
              "      <td>Propane</td>\n",
              "      <td>35.582</td>\n",
              "      <td>36.87</td>\n",
              "      <td>38.3</td>\n",
              "      <td>38.457</td>\n",
              "      <td>38.498</td>\n",
              "      <td>38.794</td>\n",
              "      <td>39.044</td>\n",
              "      <td>38.801</td>\n",
              "      <td>38.98</td>\n",
              "      <td>39.11</td>\n",
              "      <td>37.33</td>\n",
              "      <td>37.41</td>\n",
              "      <td>37</td>\n",
              "      <td>37.237</td>\n",
              "      <td>37.557</td>\n",
              "      <td>36.517</td>\n",
              "      <td>36.118</td>\n",
              "      <td>38.297</td>\n",
              "      <td>38.418</td>\n",
              "      <td>38.603</td>\n",
              "      <td>38.66</td>\n",
              "      <td>38.446</td>\n",
              "      <td>38.625</td>\n",
              "      <td>39.068</td>\n",
              "      <td>39.327</td>\n",
              "      <td>38.862</td>\n",
              "      <td>39.38</td>\n",
              "      <td>39.002</td>\n",
              "      <td>39.16</td>\n",
              "      <td>39.76</td>\n",
              "      <td>40.24</td>\n",
              "      <td>40.03</td>\n",
              "      <td>40.697</td>\n",
              "      <td>37.078</td>\n",
              "      <td>38.699</td>\n",
              "      <td>39.251</td>\n",
              "      <td>24.382</td>\n",
              "      <td>17.676</td>\n",
              "      <td>...</td>\n",
              "      <td>37.95</td>\n",
              "      <td>39.102</td>\n",
              "      <td>41.182</td>\n",
              "      <td>45.801</td>\n",
              "      <td>38.921</td>\n",
              "      <td>40.882</td>\n",
              "      <td>41.247</td>\n",
              "      <td>44.393</td>\n",
              "      <td>43.46</td>\n",
              "      <td>42.135</td>\n",
              "      <td>41.395</td>\n",
              "      <td>41.819</td>\n",
              "      <td>41.895</td>\n",
              "      <td>41.913</td>\n",
              "      <td>41.208</td>\n",
              "      <td>38.524</td>\n",
              "      <td>38.52</td>\n",
              "      <td>40.01</td>\n",
              "      <td>40.43</td>\n",
              "      <td>40.17</td>\n",
              "      <td>41.397</td>\n",
              "      <td>42.415</td>\n",
              "      <td>41.945</td>\n",
              "      <td>48.884</td>\n",
              "      <td>40.718</td>\n",
              "      <td>41.955</td>\n",
              "      <td>43.024</td>\n",
              "      <td>43.816</td>\n",
              "      <td>43.412</td>\n",
              "      <td>43.372</td>\n",
              "      <td>42.708</td>\n",
              "      <td>44.03</td>\n",
              "      <td>43.914</td>\n",
              "      <td>43.857</td>\n",
              "      <td>43.429</td>\n",
              "      <td>43.95</td>\n",
              "      <td>42.42</td>\n",
              "      <td>44.56</td>\n",
              "      <td>38.95</td>\n",
              "      <td>42.55</td>\n",
              "    </tr>\n",
              "  </tbody>\n",
              "</table>\n",
              "<p>5 rows × 170 columns</p>\n",
              "</div>"
            ],
            "text/plain": [
              "   Unnamed: 0     Unnamed: 1  ...         Unnamed: 168         Unnamed: 169\n",
              "0         NaN  C620_Vent_Gas  ...  2021-02-20 00:00:00  2021-02-21 00:00:00\n",
              "1         NaN       Hydrogen  ...                 9.86                 9.61\n",
              "2         NaN        Methane  ...                 2.83                 3.46\n",
              "3         NaN         Ethane  ...                28.64                31.58\n",
              "4         NaN        Propane  ...                38.95                42.55\n",
              "\n",
              "[5 rows x 170 columns]"
            ]
          },
          "metadata": {
            "tags": []
          },
          "execution_count": 23
        }
      ]
    },
    {
      "cell_type": "code",
      "metadata": {
        "id": "j1ze7W6bywYK"
      },
      "source": [
        "c660_wt1,c660_fout1 = df2.iloc[177:177+41,2:].T,df2.iloc[[177+41],2:].T \n",
        "c660_wt2,c660_fout2 = df2.iloc[221:221+41,2:].T,df2.iloc[[221+41],2:].T  \n",
        "c660_wt3,c660_fout3 = df2.iloc[265:265+41,2:].T,df2.iloc[[265+41],2:].T \n",
        "c660_wt4,c660_fout4 = df2.iloc[309:309+41,2:].T,df2.iloc[[309+41],2:].T\n",
        "c660_feed_wt,c660_feed_flow = df2.iloc[485:485+41,2:].T,df2.iloc[[485+41],2:].T\n",
        "\n",
        "c660_wt_real = c660_wt1.join(c660_wt2).join(c660_wt3).join(c660_wt4)\n",
        "c660_wt_real.index = c660_df.index\n",
        "\n",
        "s1 = np.clip((c660_wt1.values*c660_fout1.values)/(c660_feed_wt.values*c660_feed_flow.values+1e-8),0,1)\n",
        "s2 = np.clip((c660_wt2.values*c660_fout2.values)/(c660_feed_wt.values*c660_feed_flow.values+1e-8),0,1)\n",
        "s3 = np.clip((c660_wt3.values*c660_fout3.values)/(c660_feed_wt.values*c660_feed_flow.values+1e-8),0,1)\n",
        "s4 = np.clip((c660_wt4.values*c660_fout4.values)/(c660_feed_wt.values*c660_feed_flow.values+1e-8),0,1)\n",
        "\n",
        "s1_col = c660_df.filter(regex='Split Factor for Individual Component to Benzene Column C660 Vent Gas').columns.tolist()\n",
        "s2_col = c660_df.filter(regex='Split Factor for Individual Component to Benzene Column C660 Distillate').columns.tolist()\n",
        "s3_col = c660_df.filter(regex='Split Factor for Individual Component to Benzene Column C660 Sidedraw').columns.tolist()\n",
        "s4_col = c660_df.filter(regex='Split Factor for Individual Component to Benzene Column C660 Bottoms').columns.tolist()\n",
        "\n",
        "c660_df[s1_col] = s1\n",
        "c660_df[s2_col] = s2\n",
        "c660_df[s3_col] = s3\n",
        "c660_df[s4_col] = s4\n",
        "\n",
        "c660_wt_always_same_split_factor_dict = joblib.load('/content/drive/MyDrive/台塑輕油案子/data/c620/map_dict/c660_wt_always_same_split_factor_dict.pkl')\n",
        "for i in c660_wt_always_same_split_factor_dict.keys():\n",
        "  c660_df[i] = c660_wt_always_same_split_factor_dict[i]\n",
        "\n",
        "c660_df.to_excel('/content/drive/MyDrive/台塑輕油案子/data/c620/明志_遷移式學習_訓練資料_寄送版/c660_data.xlsx')"
      ],
      "execution_count": 24,
      "outputs": []
    },
    {
      "cell_type": "markdown",
      "metadata": {
        "id": "JV0nnmDZ1JUp"
      },
      "source": [
        "# 定義欄位"
      ]
    },
    {
      "cell_type": "code",
      "metadata": {
        "id": "IaMoBXdSKQ83"
      },
      "source": [
        "x_col = c['case']+c['x41']\n",
        "op_col = c['density']+c['yRefluxRate']+c['yHeatDuty']+c['yControl']\n",
        "sp_col = s1_col + s2_col + s3_col + s4_col\n",
        "y_col = c660_df[sp_col+op_col].dropna(axis=1).columns.tolist()\n",
        "n_idx = [ [i,i+41,i+41*2,i+41*3]for i in range(41)]"
      ],
      "execution_count": 25,
      "outputs": []
    },
    {
      "cell_type": "markdown",
      "metadata": {
        "id": "a18T2VrXRvtx"
      },
      "source": [
        "# 1. 實驗直接訓練 (不使用預訓練模型)"
      ]
    },
    {
      "cell_type": "code",
      "metadata": {
        "colab": {
          "base_uri": "https://localhost:8080/",
          "height": 401
        },
        "id": "s6icTkbYQiJF",
        "outputId": "8e530aba-bb64-4f09-a0c7-623bc3854946"
      },
      "source": [
        "from autorch.utils import PartBulider\n",
        "c660 = PartBulider(c660_df,x_col,y_col,normalize_idx_list=n_idx,limit_y_range=True)\n",
        "c660.train()"
      ],
      "execution_count": 26,
      "outputs": [
        {
          "output_type": "stream",
          "text": [
            "  7%|▋         | 20/300 [00:00<00:02, 94.46it/s]"
          ],
          "name": "stderr"
        },
        {
          "output_type": "stream",
          "text": [
            "epoch:0 train_loss:0.1016 valid_loss:0.0945\n"
          ],
          "name": "stdout"
        },
        {
          "output_type": "stream",
          "text": [
            " 23%|██▎       | 68/300 [00:00<00:02, 90.11it/s]"
          ],
          "name": "stderr"
        },
        {
          "output_type": "stream",
          "text": [
            "epoch:50 train_loss:0.0030 valid_loss:0.0024\n"
          ],
          "name": "stdout"
        },
        {
          "output_type": "stream",
          "text": [
            " 38%|███▊      | 113/300 [00:01<00:02, 86.19it/s]"
          ],
          "name": "stderr"
        },
        {
          "output_type": "stream",
          "text": [
            "epoch:100 train_loss:0.0020 valid_loss:0.0019\n"
          ],
          "name": "stdout"
        },
        {
          "output_type": "stream",
          "text": [
            " 56%|█████▌    | 167/300 [00:01<00:01, 82.23it/s]"
          ],
          "name": "stderr"
        },
        {
          "output_type": "stream",
          "text": [
            "epoch:150 train_loss:0.0015 valid_loss:0.0016\n"
          ],
          "name": "stdout"
        },
        {
          "output_type": "stream",
          "text": [
            " 71%|███████   | 213/300 [00:02<00:01, 81.27it/s]"
          ],
          "name": "stderr"
        },
        {
          "output_type": "stream",
          "text": [
            "epoch:200 train_loss:0.0013 valid_loss:0.0015\n"
          ],
          "name": "stdout"
        },
        {
          "output_type": "stream",
          "text": [
            " 87%|████████▋ | 260/300 [00:03<00:00, 61.37it/s]"
          ],
          "name": "stderr"
        },
        {
          "output_type": "stream",
          "text": [
            "epoch:250 train_loss:0.0012 valid_loss:0.0015\n"
          ],
          "name": "stdout"
        },
        {
          "output_type": "stream",
          "text": [
            "100%|██████████| 300/300 [00:03<00:00, 77.35it/s]\n"
          ],
          "name": "stderr"
        },
        {
          "output_type": "display_data",
          "data": {
            "image/png": "[encoded data removed]",
            "text/plain": [
              "<Figure size 432x288 with 1 Axes>"
            ]
          },
          "metadata": {
            "tags": [],
            "needs_background": "light"
          }
        },
        {
          "output_type": "execute_result",
          "data": {
            "text/plain": [
              "<autorch.utils.part.PartBulider at 0x7f5f90bc4a10>"
            ]
          },
          "metadata": {
            "tags": []
          },
          "execution_count": 26
        }
      ]
    },
    {
      "cell_type": "code",
      "metadata": {
        "colab": {
          "base_uri": "https://localhost:8080/",
          "height": 419
        },
        "id": "BzLHL_YsQkMC",
        "outputId": "b4be60ef-0007-44ea-de27-421fd99a687d"
      },
      "source": [
        "c660.test(e=2e-2)"
      ],
      "execution_count": 27,
      "outputs": [
        {
          "output_type": "execute_result",
          "data": {
            "text/html": [
              "<div>\n",
              "<style scoped>\n",
              "    .dataframe tbody tr th:only-of-type {\n",
              "        vertical-align: middle;\n",
              "    }\n",
              "\n",
              "    .dataframe tbody tr th {\n",
              "        vertical-align: top;\n",
              "    }\n",
              "\n",
              "    .dataframe thead th {\n",
              "        text-align: right;\n",
              "    }\n",
              "</style>\n",
              "<table border=\"1\" class=\"dataframe\">\n",
              "  <thead>\n",
              "    <tr style=\"text-align: right;\">\n",
              "      <th></th>\n",
              "      <th>R2</th>\n",
              "      <th>MSE</th>\n",
              "      <th>MAPE</th>\n",
              "    </tr>\n",
              "  </thead>\n",
              "  <tbody>\n",
              "    <tr>\n",
              "      <th>Benzene Column C660 Split Factors Calculation_Split Factor for Individual Component to Benzene Column C660 Vent Gas_Hydrogen_Fraction</th>\n",
              "      <td>0</td>\n",
              "      <td>1.56964e-05</td>\n",
              "      <td>0.286371</td>\n",
              "    </tr>\n",
              "    <tr>\n",
              "      <th>Benzene Column C660 Split Factors Calculation_Split Factor for Individual Component to Benzene Column C660 Vent Gas_Methane_Fraction</th>\n",
              "      <td>0</td>\n",
              "      <td>1.1235e-06</td>\n",
              "      <td>NaN</td>\n",
              "    </tr>\n",
              "    <tr>\n",
              "      <th>Benzene Column C660 Split Factors Calculation_Split Factor for Individual Component to Benzene Column C660 Vent Gas_Ethane_Fraction</th>\n",
              "      <td>0</td>\n",
              "      <td>5.07966e-07</td>\n",
              "      <td>NaN</td>\n",
              "    </tr>\n",
              "    <tr>\n",
              "      <th>Benzene Column C660 Split Factors Calculation_Split Factor for Individual Component to Benzene Column C660 Vent Gas_Propane_Fraction</th>\n",
              "      <td>0</td>\n",
              "      <td>1.36465e-06</td>\n",
              "      <td>NaN</td>\n",
              "    </tr>\n",
              "    <tr>\n",
              "      <th>Benzene Column C660 Split Factors Calculation_Split Factor for Individual Component to Benzene Column C660 Vent Gas_n-Butane_Fraction</th>\n",
              "      <td>0</td>\n",
              "      <td>5.5914e-07</td>\n",
              "      <td>NaN</td>\n",
              "    </tr>\n",
              "    <tr>\n",
              "      <th>...</th>\n",
              "      <td>...</td>\n",
              "      <td>...</td>\n",
              "      <td>...</td>\n",
              "    </tr>\n",
              "    <tr>\n",
              "      <th>Density_Bottoms Production Rate and Composition</th>\n",
              "      <td>0</td>\n",
              "      <td>2.40069e-06</td>\n",
              "      <td>0.140198</td>\n",
              "    </tr>\n",
              "    <tr>\n",
              "      <th>Benzene Column C660 Operation_Yield Summary_Reflux Rate_m3/hr</th>\n",
              "      <td>0.82664</td>\n",
              "      <td>22.365</td>\n",
              "      <td>2.58275</td>\n",
              "    </tr>\n",
              "    <tr>\n",
              "      <th>Benzene Column C660 Operation_Column Temp Profile_C660 Tray 6 (SD &amp; Control)_oC</th>\n",
              "      <td>0.595053</td>\n",
              "      <td>0.290123</td>\n",
              "      <td>0.504257</td>\n",
              "    </tr>\n",
              "    <tr>\n",
              "      <th>Benzene Column C660 Operation_Column Temp Profile_C660 Tray 23 (Control)_oC</th>\n",
              "      <td>0.788163</td>\n",
              "      <td>0.297464</td>\n",
              "      <td>0.505297</td>\n",
              "    </tr>\n",
              "    <tr>\n",
              "      <th>AVG</th>\n",
              "      <td>0.0627403</td>\n",
              "      <td>0.168284</td>\n",
              "      <td>24.124</td>\n",
              "    </tr>\n",
              "  </tbody>\n",
              "</table>\n",
              "<p>173 rows × 3 columns</p>\n",
              "</div>"
            ],
            "text/plain": [
              "                                                           R2  ...      MAPE\n",
              "Benzene Column C660 Split Factors Calculation_S...          0  ...  0.286371\n",
              "Benzene Column C660 Split Factors Calculation_S...          0  ...       NaN\n",
              "Benzene Column C660 Split Factors Calculation_S...          0  ...       NaN\n",
              "Benzene Column C660 Split Factors Calculation_S...          0  ...       NaN\n",
              "Benzene Column C660 Split Factors Calculation_S...          0  ...       NaN\n",
              "...                                                       ...  ...       ...\n",
              "Density_Bottoms Production Rate and Composition             0  ...  0.140198\n",
              "Benzene Column C660 Operation_Yield Summary_Ref...    0.82664  ...   2.58275\n",
              "Benzene Column C660 Operation_Column Temp Profi...   0.595053  ...  0.504257\n",
              "Benzene Column C660 Operation_Column Temp Profi...   0.788163  ...  0.505297\n",
              "AVG                                                 0.0627403  ...    24.124\n",
              "\n",
              "[173 rows x 3 columns]"
            ]
          },
          "metadata": {
            "tags": []
          },
          "execution_count": 27
        }
      ]
    },
    {
      "cell_type": "markdown",
      "metadata": {
        "id": "hACfpgAOSCJJ"
      },
      "source": [
        "# 2.使用預訓練模型"
      ]
    },
    {
      "cell_type": "markdown",
      "metadata": {
        "id": "WeKSkdwaTJfO"
      },
      "source": [
        "2.1 用模擬數據先預訓練一個模型"
      ]
    },
    {
      "cell_type": "code",
      "metadata": {
        "colab": {
          "base_uri": "https://localhost:8080/",
          "height": 401
        },
        "id": "7Y4PRpDKQkO0",
        "outputId": "39a417a6-1190-4b9b-c0ea-ae2cb1e0ee88"
      },
      "source": [
        "c660_df = pd.read_csv('/content/drive/MyDrive/台塑輕油案子/data/c620/cleaned/c660_train.csv',index_col=0).dropna(axis=0)\n",
        "c660 = PartBulider(c660_df,x_col,y_col,normalize_idx_list=n_idx,limit_y_range=True)\n",
        "c660.train()"
      ],
      "execution_count": 28,
      "outputs": [
        {
          "output_type": "stream",
          "text": [
            "  0%|          | 1/300 [00:00<03:07,  1.59it/s]"
          ],
          "name": "stderr"
        },
        {
          "output_type": "stream",
          "text": [
            "epoch:0 train_loss:0.0089 valid_loss:0.0020\n"
          ],
          "name": "stdout"
        },
        {
          "output_type": "stream",
          "text": [
            " 17%|█▋        | 51/300 [00:46<03:54,  1.06it/s]"
          ],
          "name": "stderr"
        },
        {
          "output_type": "stream",
          "text": [
            "epoch:50 train_loss:0.0009 valid_loss:0.0009\n"
          ],
          "name": "stdout"
        },
        {
          "output_type": "stream",
          "text": [
            " 34%|███▎      | 101/300 [01:33<03:06,  1.07it/s]"
          ],
          "name": "stderr"
        },
        {
          "output_type": "stream",
          "text": [
            "epoch:100 train_loss:0.0008 valid_loss:0.0009\n"
          ],
          "name": "stdout"
        },
        {
          "output_type": "stream",
          "text": [
            " 50%|█████     | 151/300 [02:21<02:24,  1.03it/s]"
          ],
          "name": "stderr"
        },
        {
          "output_type": "stream",
          "text": [
            "epoch:150 train_loss:0.0008 valid_loss:0.0008\n"
          ],
          "name": "stdout"
        },
        {
          "output_type": "stream",
          "text": [
            " 67%|██████▋   | 201/300 [03:11<01:48,  1.09s/it]"
          ],
          "name": "stderr"
        },
        {
          "output_type": "stream",
          "text": [
            "epoch:200 train_loss:0.0007 valid_loss:0.0009\n"
          ],
          "name": "stdout"
        },
        {
          "output_type": "stream",
          "text": [
            " 84%|████████▎ | 251/300 [04:09<00:59,  1.22s/it]"
          ],
          "name": "stderr"
        },
        {
          "output_type": "stream",
          "text": [
            "epoch:250 train_loss:0.0007 valid_loss:0.0009\n"
          ],
          "name": "stdout"
        },
        {
          "output_type": "stream",
          "text": [
            "100%|██████████| 300/300 [05:11<00:00,  1.04s/it]\n"
          ],
          "name": "stderr"
        },
        {
          "output_type": "display_data",
          "data": {
            "image/png": "[encoded data removed]",
            "text/plain": [
              "<Figure size 432x288 with 1 Axes>"
            ]
          },
          "metadata": {
            "tags": [],
            "needs_background": "light"
          }
        },
        {
          "output_type": "execute_result",
          "data": {
            "text/plain": [
              "<autorch.utils.part.PartBulider at 0x7f5f90195990>"
            ]
          },
          "metadata": {
            "tags": []
          },
          "execution_count": 28
        }
      ]
    },
    {
      "cell_type": "code",
      "metadata": {
        "colab": {
          "base_uri": "https://localhost:8080/",
          "height": 419
        },
        "id": "bixk9_ejTdCp",
        "outputId": "fd0eb84f-e070-4549-b828-5a355b34bce3"
      },
      "source": [
        "c660.test(e=2e-2)"
      ],
      "execution_count": 29,
      "outputs": [
        {
          "output_type": "execute_result",
          "data": {
            "text/html": [
              "<div>\n",
              "<style scoped>\n",
              "    .dataframe tbody tr th:only-of-type {\n",
              "        vertical-align: middle;\n",
              "    }\n",
              "\n",
              "    .dataframe tbody tr th {\n",
              "        vertical-align: top;\n",
              "    }\n",
              "\n",
              "    .dataframe thead th {\n",
              "        text-align: right;\n",
              "    }\n",
              "</style>\n",
              "<table border=\"1\" class=\"dataframe\">\n",
              "  <thead>\n",
              "    <tr style=\"text-align: right;\">\n",
              "      <th></th>\n",
              "      <th>R2</th>\n",
              "      <th>MSE</th>\n",
              "      <th>MAPE</th>\n",
              "    </tr>\n",
              "  </thead>\n",
              "  <tbody>\n",
              "    <tr>\n",
              "      <th>Benzene Column C660 Split Factors Calculation_Split Factor for Individual Component to Benzene Column C660 Vent Gas_Hydrogen_Fraction</th>\n",
              "      <td>0</td>\n",
              "      <td>2.17458e-07</td>\n",
              "      <td>0.0362276</td>\n",
              "    </tr>\n",
              "    <tr>\n",
              "      <th>Benzene Column C660 Split Factors Calculation_Split Factor for Individual Component to Benzene Column C660 Vent Gas_Methane_Fraction</th>\n",
              "      <td>0.983675</td>\n",
              "      <td>0.000357763</td>\n",
              "      <td>1.71397</td>\n",
              "    </tr>\n",
              "    <tr>\n",
              "      <th>Benzene Column C660 Split Factors Calculation_Split Factor for Individual Component to Benzene Column C660 Vent Gas_Ethane_Fraction</th>\n",
              "      <td>0.997062</td>\n",
              "      <td>0.000207108</td>\n",
              "      <td>3.1289</td>\n",
              "    </tr>\n",
              "    <tr>\n",
              "      <th>Benzene Column C660 Split Factors Calculation_Split Factor for Individual Component to Benzene Column C660 Vent Gas_Propane_Fraction</th>\n",
              "      <td>0.999075</td>\n",
              "      <td>8.38231e-05</td>\n",
              "      <td>3.18482</td>\n",
              "    </tr>\n",
              "    <tr>\n",
              "      <th>Benzene Column C660 Split Factors Calculation_Split Factor for Individual Component to Benzene Column C660 Vent Gas_n-Butane_Fraction</th>\n",
              "      <td>0.998905</td>\n",
              "      <td>7.09151e-05</td>\n",
              "      <td>3.76763</td>\n",
              "    </tr>\n",
              "    <tr>\n",
              "      <th>...</th>\n",
              "      <td>...</td>\n",
              "      <td>...</td>\n",
              "      <td>...</td>\n",
              "    </tr>\n",
              "    <tr>\n",
              "      <th>Density_Bottoms Production Rate and Composition</th>\n",
              "      <td>0.99877</td>\n",
              "      <td>9.62217e-11</td>\n",
              "      <td>0.000821369</td>\n",
              "    </tr>\n",
              "    <tr>\n",
              "      <th>Benzene Column C660 Operation_Yield Summary_Reflux Rate_m3/hr</th>\n",
              "      <td>0.99761</td>\n",
              "      <td>1.95236</td>\n",
              "      <td>0.82533</td>\n",
              "    </tr>\n",
              "    <tr>\n",
              "      <th>Benzene Column C660 Operation_Column Temp Profile_C660 Tray 6 (SD &amp; Control)_oC</th>\n",
              "      <td>0.997337</td>\n",
              "      <td>0.000113291</td>\n",
              "      <td>0.00932209</td>\n",
              "    </tr>\n",
              "    <tr>\n",
              "      <th>Benzene Column C660 Operation_Column Temp Profile_C660 Tray 23 (Control)_oC</th>\n",
              "      <td>0.997716</td>\n",
              "      <td>0.00178931</td>\n",
              "      <td>0.0350584</td>\n",
              "    </tr>\n",
              "    <tr>\n",
              "      <th>AVG</th>\n",
              "      <td>0.562799</td>\n",
              "      <td>0.011372</td>\n",
              "      <td>0.842657</td>\n",
              "    </tr>\n",
              "  </tbody>\n",
              "</table>\n",
              "<p>173 rows × 3 columns</p>\n",
              "</div>"
            ],
            "text/plain": [
              "                                                          R2  ...         MAPE\n",
              "Benzene Column C660 Split Factors Calculation_S...         0  ...    0.0362276\n",
              "Benzene Column C660 Split Factors Calculation_S...  0.983675  ...      1.71397\n",
              "Benzene Column C660 Split Factors Calculation_S...  0.997062  ...       3.1289\n",
              "Benzene Column C660 Split Factors Calculation_S...  0.999075  ...      3.18482\n",
              "Benzene Column C660 Split Factors Calculation_S...  0.998905  ...      3.76763\n",
              "...                                                      ...  ...          ...\n",
              "Density_Bottoms Production Rate and Composition      0.99877  ...  0.000821369\n",
              "Benzene Column C660 Operation_Yield Summary_Ref...   0.99761  ...      0.82533\n",
              "Benzene Column C660 Operation_Column Temp Profi...  0.997337  ...   0.00932209\n",
              "Benzene Column C660 Operation_Column Temp Profi...  0.997716  ...    0.0350584\n",
              "AVG                                                 0.562799  ...     0.842657\n",
              "\n",
              "[173 rows x 3 columns]"
            ]
          },
          "metadata": {
            "tags": []
          },
          "execution_count": 29
        }
      ]
    },
    {
      "cell_type": "markdown",
      "metadata": {
        "id": "Dp2QVIWITP77"
      },
      "source": [
        "2.2 把預訓練好的模型抽出來"
      ]
    },
    {
      "cell_type": "code",
      "metadata": {
        "colab": {
          "base_uri": "https://localhost:8080/"
        },
        "id": "zVYPD8gxQkR2",
        "outputId": "b223570c-ee13-46d0-baf7-82c1265aa4bb"
      },
      "source": [
        "import copy\n",
        "from copy import deepcopy\n",
        "pretrain_net = deepcopy(c660.net)\n",
        "pretrain_net"
      ],
      "execution_count": 30,
      "outputs": [
        {
          "output_type": "execute_result",
          "data": {
            "text/plain": [
              "Sequential(\n",
              "  (0): Linear(in_features=43, out_features=256, bias=True)\n",
              "  (1): ReLU()\n",
              "  (2): Linear(in_features=256, out_features=256, bias=True)\n",
              "  (3): ReLU()\n",
              "  (4): Linear(in_features=256, out_features=172, bias=True)\n",
              "  (5): Sigmoid()\n",
              ")"
            ]
          },
          "metadata": {
            "tags": []
          },
          "execution_count": 30
        }
      ]
    },
    {
      "cell_type": "markdown",
      "metadata": {
        "id": "LZK_slJWUVDg"
      },
      "source": [
        "2.3 在預訓練模型上丟進真實資料繼續訓練"
      ]
    },
    {
      "cell_type": "code",
      "metadata": {
        "colab": {
          "base_uri": "https://localhost:8080/",
          "height": 401
        },
        "id": "viiNO3m2UAIl",
        "outputId": "193010b5-0814-42a9-aefb-68624055b887"
      },
      "source": [
        "from torch.optim import Adam\n",
        "c660_df = pd.read_excel('/content/drive/MyDrive/台塑輕油案子/data/c620/明志_遷移式學習_訓練資料_寄送版/c660_data.xlsx',index_col=0)\n",
        "c660 = PartBulider(c660_df,x_col,y_col,normalize_idx_list=n_idx,limit_y_range=True)\n",
        "c660.net = pretrain_net\n",
        "c660.optimizer = Adam(c660.net.parameters(),lr=0.001)\n",
        "c660.train()"
      ],
      "execution_count": 39,
      "outputs": [
        {
          "output_type": "stream",
          "text": [
            "  6%|▌         | 17/300 [00:00<00:03, 80.91it/s]"
          ],
          "name": "stderr"
        },
        {
          "output_type": "stream",
          "text": [
            "epoch:0 train_loss:0.0006 valid_loss:0.0006\n"
          ],
          "name": "stdout"
        },
        {
          "output_type": "stream",
          "text": [
            " 22%|██▏       | 66/300 [00:00<00:03, 77.62it/s]"
          ],
          "name": "stderr"
        },
        {
          "output_type": "stream",
          "text": [
            "epoch:50 train_loss:0.0002 valid_loss:0.0003\n"
          ],
          "name": "stdout"
        },
        {
          "output_type": "stream",
          "text": [
            " 37%|███▋      | 110/300 [00:01<00:02, 83.19it/s]"
          ],
          "name": "stderr"
        },
        {
          "output_type": "stream",
          "text": [
            "epoch:100 train_loss:0.0002 valid_loss:0.0004\n"
          ],
          "name": "stdout"
        },
        {
          "output_type": "stream",
          "text": [
            " 55%|█████▌    | 166/300 [00:02<00:01, 87.18it/s]"
          ],
          "name": "stderr"
        },
        {
          "output_type": "stream",
          "text": [
            "epoch:150 train_loss:0.0002 valid_loss:0.0004\n"
          ],
          "name": "stdout"
        },
        {
          "output_type": "stream",
          "text": [
            " 71%|███████   | 213/300 [00:02<00:00, 88.39it/s]"
          ],
          "name": "stderr"
        },
        {
          "output_type": "stream",
          "text": [
            "epoch:200 train_loss:0.0002 valid_loss:0.0005\n"
          ],
          "name": "stdout"
        },
        {
          "output_type": "stream",
          "text": [
            " 89%|████████▉ | 268/300 [00:03<00:00, 85.58it/s]"
          ],
          "name": "stderr"
        },
        {
          "output_type": "stream",
          "text": [
            "epoch:250 train_loss:0.0001 valid_loss:0.0005\n"
          ],
          "name": "stdout"
        },
        {
          "output_type": "stream",
          "text": [
            "100%|██████████| 300/300 [00:03<00:00, 83.24it/s]\n"
          ],
          "name": "stderr"
        },
        {
          "output_type": "display_data",
          "data": {
            "image/png": "[encoded data removed]",
            "text/plain": [
              "<Figure size 432x288 with 1 Axes>"
            ]
          },
          "metadata": {
            "tags": [],
            "needs_background": "light"
          }
        },
        {
          "output_type": "execute_result",
          "data": {
            "text/plain": [
              "<autorch.utils.part.PartBulider at 0x7f5f912b7b90>"
            ]
          },
          "metadata": {
            "tags": []
          },
          "execution_count": 39
        }
      ]
    },
    {
      "cell_type": "code",
      "metadata": {
        "colab": {
          "base_uri": "https://localhost:8080/",
          "height": 419
        },
        "id": "ANAtT_f_QkUy",
        "outputId": "777d065b-77dc-4804-d465-c9b0263772b2"
      },
      "source": [
        "c660.test(e=2e-2)"
      ],
      "execution_count": 40,
      "outputs": [
        {
          "output_type": "execute_result",
          "data": {
            "text/html": [
              "<div>\n",
              "<style scoped>\n",
              "    .dataframe tbody tr th:only-of-type {\n",
              "        vertical-align: middle;\n",
              "    }\n",
              "\n",
              "    .dataframe tbody tr th {\n",
              "        vertical-align: top;\n",
              "    }\n",
              "\n",
              "    .dataframe thead th {\n",
              "        text-align: right;\n",
              "    }\n",
              "</style>\n",
              "<table border=\"1\" class=\"dataframe\">\n",
              "  <thead>\n",
              "    <tr style=\"text-align: right;\">\n",
              "      <th></th>\n",
              "      <th>R2</th>\n",
              "      <th>MSE</th>\n",
              "      <th>MAPE</th>\n",
              "    </tr>\n",
              "  </thead>\n",
              "  <tbody>\n",
              "    <tr>\n",
              "      <th>Benzene Column C660 Split Factors Calculation_Split Factor for Individual Component to Benzene Column C660 Vent Gas_Hydrogen_Fraction</th>\n",
              "      <td>0</td>\n",
              "      <td>1.27229e-12</td>\n",
              "      <td>4.06714e-05</td>\n",
              "    </tr>\n",
              "    <tr>\n",
              "      <th>Benzene Column C660 Split Factors Calculation_Split Factor for Individual Component to Benzene Column C660 Vent Gas_Methane_Fraction</th>\n",
              "      <td>0</td>\n",
              "      <td>4.16515e-09</td>\n",
              "      <td>NaN</td>\n",
              "    </tr>\n",
              "    <tr>\n",
              "      <th>Benzene Column C660 Split Factors Calculation_Split Factor for Individual Component to Benzene Column C660 Vent Gas_Ethane_Fraction</th>\n",
              "      <td>0</td>\n",
              "      <td>2.07577e-09</td>\n",
              "      <td>NaN</td>\n",
              "    </tr>\n",
              "    <tr>\n",
              "      <th>Benzene Column C660 Split Factors Calculation_Split Factor for Individual Component to Benzene Column C660 Vent Gas_Propane_Fraction</th>\n",
              "      <td>0</td>\n",
              "      <td>6.59487e-10</td>\n",
              "      <td>NaN</td>\n",
              "    </tr>\n",
              "    <tr>\n",
              "      <th>Benzene Column C660 Split Factors Calculation_Split Factor for Individual Component to Benzene Column C660 Vent Gas_n-Butane_Fraction</th>\n",
              "      <td>0</td>\n",
              "      <td>2.60058e-10</td>\n",
              "      <td>NaN</td>\n",
              "    </tr>\n",
              "    <tr>\n",
              "      <th>...</th>\n",
              "      <td>...</td>\n",
              "      <td>...</td>\n",
              "      <td>...</td>\n",
              "    </tr>\n",
              "    <tr>\n",
              "      <th>Density_Bottoms Production Rate and Composition</th>\n",
              "      <td>0</td>\n",
              "      <td>5.64705e-09</td>\n",
              "      <td>0.00465647</td>\n",
              "    </tr>\n",
              "    <tr>\n",
              "      <th>Benzene Column C660 Operation_Yield Summary_Reflux Rate_m3/hr</th>\n",
              "      <td>0.87835</td>\n",
              "      <td>9.09755</td>\n",
              "      <td>1.91518</td>\n",
              "    </tr>\n",
              "    <tr>\n",
              "      <th>Benzene Column C660 Operation_Column Temp Profile_C660 Tray 6 (SD &amp; Control)_oC</th>\n",
              "      <td>0.715929</td>\n",
              "      <td>0.193713</td>\n",
              "      <td>0.328129</td>\n",
              "    </tr>\n",
              "    <tr>\n",
              "      <th>Benzene Column C660 Operation_Column Temp Profile_C660 Tray 23 (Control)_oC</th>\n",
              "      <td>0.852728</td>\n",
              "      <td>0.216469</td>\n",
              "      <td>0.333141</td>\n",
              "    </tr>\n",
              "    <tr>\n",
              "      <th>AVG</th>\n",
              "      <td>0.0994124</td>\n",
              "      <td>0.125604</td>\n",
              "      <td>35.7533</td>\n",
              "    </tr>\n",
              "  </tbody>\n",
              "</table>\n",
              "<p>173 rows × 3 columns</p>\n",
              "</div>"
            ],
            "text/plain": [
              "                                                           R2  ...         MAPE\n",
              "Benzene Column C660 Split Factors Calculation_S...          0  ...  4.06714e-05\n",
              "Benzene Column C660 Split Factors Calculation_S...          0  ...          NaN\n",
              "Benzene Column C660 Split Factors Calculation_S...          0  ...          NaN\n",
              "Benzene Column C660 Split Factors Calculation_S...          0  ...          NaN\n",
              "Benzene Column C660 Split Factors Calculation_S...          0  ...          NaN\n",
              "...                                                       ...  ...          ...\n",
              "Density_Bottoms Production Rate and Composition             0  ...   0.00465647\n",
              "Benzene Column C660 Operation_Yield Summary_Ref...    0.87835  ...      1.91518\n",
              "Benzene Column C660 Operation_Column Temp Profi...   0.715929  ...     0.328129\n",
              "Benzene Column C660 Operation_Column Temp Profi...   0.852728  ...     0.333141\n",
              "AVG                                                 0.0994124  ...      35.7533\n",
              "\n",
              "[173 rows x 3 columns]"
            ]
          },
          "metadata": {
            "tags": []
          },
          "execution_count": 40
        }
      ]
    },
    {
      "cell_type": "code",
      "metadata": {
        "id": "X-sT25-jUfOt"
      },
      "source": [
        "c660.shrink()"
      ],
      "execution_count": 52,
      "outputs": []
    },
    {
      "cell_type": "code",
      "metadata": {
        "colab": {
          "base_uri": "https://localhost:8080/"
        },
        "id": "eI7nG4O-U8Am",
        "outputId": "6b5e11e9-3985-4174-ab5d-7e16050617dc"
      },
      "source": [
        "joblib.dump(c660,'/content/drive/MyDrive/台塑輕油案子/data/c620/model/c660_real_data.pkl')"
      ],
      "execution_count": 53,
      "outputs": [
        {
          "output_type": "execute_result",
          "data": {
            "text/plain": [
              "['/content/drive/MyDrive/台塑輕油案子/data/c620/model/c660_real_data.pkl']"
            ]
          },
          "metadata": {
            "tags": []
          },
          "execution_count": 53
        }
      ]
    },
    {
      "cell_type": "code",
      "metadata": {
        "id": "WaCC7PUMVISe"
      },
      "source": [
        ""
      ],
      "execution_count": null,
      "outputs": []
    }
  ]
}