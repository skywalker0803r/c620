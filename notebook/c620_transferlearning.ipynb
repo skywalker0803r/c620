{
  "nbformat": 4,
  "nbformat_minor": 0,
  "metadata": {
    "colab": {
      "name": "c620_transferlearning.ipynb",
      "provenance": [],
      "mount_file_id": "1huieOBSyJ3dgLkEy_REKipoo43X-VDQr",
      "authorship_tag": "ABX9TyNM3lUiZ/6/LuXWya1mzDrk",
      "include_colab_link": true
    },
    "kernelspec": {
      "name": "python3",
      "display_name": "Python 3"
    }
  },
  "cells": [
    {
      "cell_type": "markdown",
      "metadata": {
        "id": "view-in-github",
        "colab_type": "text"
      },
      "source": [
        "<a href=\"https://colab.research.google.com/github/skywalker0803r/c620/blob/main/notebook/c620_transferlearning.ipynb\" target=\"_parent\"><img src=\"https://colab.research.google.com/assets/colab-badge.svg\" alt=\"Open In Colab\"/></a>"
      ]
    },
    {
      "cell_type": "code",
      "metadata": {
        "id": "nOGsCEawJNva"
      },
      "source": [
        "import pandas as pd\n",
        "import numpy as np\n",
        "import joblib\n",
        "!pip install autorch > log.txt"
      ],
      "execution_count": 1,
      "outputs": []
    },
    {
      "cell_type": "code",
      "metadata": {
        "colab": {
          "base_uri": "https://localhost:8080/",
          "height": 429
        },
        "id": "7UXYDDgMJWvA",
        "outputId": "48dc42d1-a3ed-4c68-cad3-a59e89da430d"
      },
      "source": [
        "c = joblib.load('/content/drive/MyDrive/台塑輕油案子/data/c620/col_names/c620_col_names.pkl')\n",
        "c620_df = pd.read_excel('/content/drive/MyDrive/台塑輕油案子/data/c620/明志_遷移式學習_訓練資料_寄送版/c620_data.xlsx',index_col=0)\n",
        "print(c620_df.shape)\n",
        "c620_df.head(3)"
      ],
      "execution_count": 3,
      "outputs": [
        {
          "output_type": "stream",
          "text": [
            "(168, 218)\n"
          ],
          "name": "stdout"
        },
        {
          "output_type": "execute_result",
          "data": {
            "text/html": [
              "<div>\n",
              "<style scoped>\n",
              "    .dataframe tbody tr th:only-of-type {\n",
              "        vertical-align: middle;\n",
              "    }\n",
              "\n",
              "    .dataframe tbody tr th {\n",
              "        vertical-align: top;\n",
              "    }\n",
              "\n",
              "    .dataframe thead th {\n",
              "        text-align: right;\n",
              "    }\n",
              "</style>\n",
              "<table border=\"1\" class=\"dataframe\">\n",
              "  <thead>\n",
              "    <tr style=\"text-align: right;\">\n",
              "      <th></th>\n",
              "      <th>Tatoray Stripper C620 Operation_Specifications_Spec 1 : Receiver Temp_oC</th>\n",
              "      <th>Tatoray Stripper C620 Operation_Specifications_Spec 2 : Distillate Rate_m3/hr</th>\n",
              "      <th>Tatoray Stripper C620 Operation_Specifications_Spec 3 : Benzene in Sidedraw_wt%</th>\n",
              "      <th>Combined Feed to Tatoray Stripper C620_Detailed Composition_Hydrogen_wt%</th>\n",
              "      <th>Combined Feed to Tatoray Stripper C620_Detailed Composition_Methane_wt%</th>\n",
              "      <th>Combined Feed to Tatoray Stripper C620_Detailed Composition_Ethane_wt%</th>\n",
              "      <th>Combined Feed to Tatoray Stripper C620_Detailed Composition_Propane_wt%</th>\n",
              "      <th>Combined Feed to Tatoray Stripper C620_Detailed Composition_n-Butane_wt%</th>\n",
              "      <th>Combined Feed to Tatoray Stripper C620_Detailed Composition_n-Pentane_wt%</th>\n",
              "      <th>Combined Feed to Tatoray Stripper C620_Detailed Composition_n-Hexane_wt%</th>\n",
              "      <th>Combined Feed to Tatoray Stripper C620_Detailed Composition_Benzene_wt%</th>\n",
              "      <th>Combined Feed to Tatoray Stripper C620_Detailed Composition_Cyclohexane_wt%</th>\n",
              "      <th>Combined Feed to Tatoray Stripper C620_Detailed Composition_n-Heptane_wt%</th>\n",
              "      <th>Combined Feed to Tatoray Stripper C620_Detailed Composition_Water_wt%</th>\n",
              "      <th>Combined Feed to Tatoray Stripper C620_Detailed Composition_Methylcyclohexane_wt%</th>\n",
              "      <th>Combined Feed to Tatoray Stripper C620_Detailed Composition_Toluene_wt%</th>\n",
              "      <th>Combined Feed to Tatoray Stripper C620_Detailed Composition_n-Octane_wt%</th>\n",
              "      <th>Combined Feed to Tatoray Stripper C620_Detailed Composition_n-Propylcyclopentane_wt%</th>\n",
              "      <th>Combined Feed to Tatoray Stripper C620_Detailed Composition_Ethylcyclohexane_wt%</th>\n",
              "      <th>Combined Feed to Tatoray Stripper C620_Detailed Composition_Ethylbenzene_wt%</th>\n",
              "      <th>Combined Feed to Tatoray Stripper C620_Detailed Composition_p-Xylene_wt%</th>\n",
              "      <th>Combined Feed to Tatoray Stripper C620_Detailed Composition_m-Xylene_wt%</th>\n",
              "      <th>Combined Feed to Tatoray Stripper C620_Detailed Composition_o-Xylene_wt%</th>\n",
              "      <th>Combined Feed to Tatoray Stripper C620_Detailed Composition_n-Nonane_wt%</th>\n",
              "      <th>Combined Feed to Tatoray Stripper C620_Detailed Composition_i-Propylbenzene_wt%</th>\n",
              "      <th>Combined Feed to Tatoray Stripper C620_Detailed Composition_n-Propylcyclohexane_wt%</th>\n",
              "      <th>Combined Feed to Tatoray Stripper C620_Detailed Composition_n-Propylbenzene_wt%</th>\n",
              "      <th>Combined Feed to Tatoray Stripper C620_Detailed Composition_1-Methyl-3-ethylbenzene_wt%</th>\n",
              "      <th>Combined Feed to Tatoray Stripper C620_Detailed Composition_1-Methyl-4-ethylbenzene_wt%</th>\n",
              "      <th>Combined Feed to Tatoray Stripper C620_Detailed Composition_1,3,5-Trimethylbenzene_wt%</th>\n",
              "      <th>Combined Feed to Tatoray Stripper C620_Detailed Composition_1-Methyl-2-ethylbenzene_wt%</th>\n",
              "      <th>Combined Feed to Tatoray Stripper C620_Detailed Composition_1,2,4-Trimethylbenzene_wt%</th>\n",
              "      <th>Combined Feed to Tatoray Stripper C620_Detailed Composition_tert-Butylcyclohexane_wt%</th>\n",
              "      <th>Combined Feed to Tatoray Stripper C620_Detailed Composition_1,2,3-Trimethylbenzene_wt%</th>\n",
              "      <th>Combined Feed to Tatoray Stripper C620_Detailed Composition_Indane_wt%</th>\n",
              "      <th>Combined Feed to Tatoray Stripper C620_Detailed Composition_1-Methyl-4-n-propylbenzene_wt%</th>\n",
              "      <th>Combined Feed to Tatoray Stripper C620_Detailed Composition_1,2-Diethylbenzene_wt%</th>\n",
              "      <th>Combined Feed to Tatoray Stripper C620_Detailed Composition_5-Ethyl-m-xylene_wt%</th>\n",
              "      <th>Combined Feed to Tatoray Stripper C620_Detailed Composition_1,4-Diethylbenzene_wt%</th>\n",
              "      <th>Combined Feed to Tatoray Stripper C620_Detailed Composition_1,2,3,5-Tetramethylbenzene_wt%</th>\n",
              "      <th>...</th>\n",
              "      <th>Tatoray Stripper C620 Split Factors Calculation_Split Factor for Individual Component to Tatoray Stripper C620 Bottoms_Methylcyclohexane_Fraction</th>\n",
              "      <th>Tatoray Stripper C620 Split Factors Calculation_Split Factor for Individual Component to Tatoray Stripper C620 Bottoms_Toluene_Fraction</th>\n",
              "      <th>Tatoray Stripper C620 Split Factors Calculation_Split Factor for Individual Component to Tatoray Stripper C620 Bottoms_n-Octane_Fraction</th>\n",
              "      <th>Tatoray Stripper C620 Split Factors Calculation_Split Factor for Individual Component to Tatoray Stripper C620 Bottoms_n-Propylcyclopentane_Fraction</th>\n",
              "      <th>Tatoray Stripper C620 Split Factors Calculation_Split Factor for Individual Component to Tatoray Stripper C620 Bottoms_Ethylcyclohexane_Fraction</th>\n",
              "      <th>Tatoray Stripper C620 Split Factors Calculation_Split Factor for Individual Component to Tatoray Stripper C620 Bottoms_Ethylbenzene_Fraction</th>\n",
              "      <th>Tatoray Stripper C620 Split Factors Calculation_Split Factor for Individual Component to Tatoray Stripper C620 Bottoms_p-Xylene_Fraction</th>\n",
              "      <th>Tatoray Stripper C620 Split Factors Calculation_Split Factor for Individual Component to Tatoray Stripper C620 Bottoms_m-Xylene_Fraction</th>\n",
              "      <th>Tatoray Stripper C620 Split Factors Calculation_Split Factor for Individual Component to Tatoray Stripper C620 Bottoms_o-Xylene_Fraction</th>\n",
              "      <th>Tatoray Stripper C620 Split Factors Calculation_Split Factor for Individual Component to Tatoray Stripper C620 Bottoms_n-Nonane_Fraction</th>\n",
              "      <th>Tatoray Stripper C620 Split Factors Calculation_Split Factor for Individual Component to Tatoray Stripper C620 Bottoms_i-Propylbenzene_Fraction</th>\n",
              "      <th>Tatoray Stripper C620 Split Factors Calculation_Split Factor for Individual Component to Tatoray Stripper C620 Bottoms_n-Propylcyclohexane_Fraction</th>\n",
              "      <th>Tatoray Stripper C620 Split Factors Calculation_Split Factor for Individual Component to Tatoray Stripper C620 Bottoms_n-Propylbenzene_Fraction</th>\n",
              "      <th>Tatoray Stripper C620 Split Factors Calculation_Split Factor for Individual Component to Tatoray Stripper C620 Bottoms_1-Methyl-3-ethylbenzene_Fraction</th>\n",
              "      <th>Tatoray Stripper C620 Split Factors Calculation_Split Factor for Individual Component to Tatoray Stripper C620 Bottoms_1-Methyl-4-ethylbenzene_Fraction</th>\n",
              "      <th>Tatoray Stripper C620 Split Factors Calculation_Split Factor for Individual Component to Tatoray Stripper C620 Bottoms_1,3,5-Trimethylbenzene_Fraction</th>\n",
              "      <th>Tatoray Stripper C620 Split Factors Calculation_Split Factor for Individual Component to Tatoray Stripper C620 Bottoms_1-Methyl-2-ethylbenzene_Fraction</th>\n",
              "      <th>Tatoray Stripper C620 Split Factors Calculation_Split Factor for Individual Component to Tatoray Stripper C620 Bottoms_1,2,4-Trimethylbenzene_Fraction</th>\n",
              "      <th>Tatoray Stripper C620 Split Factors Calculation_Split Factor for Individual Component to Tatoray Stripper C620 Bottoms_tert-Butylcyclohexane_Fraction</th>\n",
              "      <th>Tatoray Stripper C620 Split Factors Calculation_Split Factor for Individual Component to Tatoray Stripper C620 Bottoms_1,2,3-Trimethylbenzene_Fraction</th>\n",
              "      <th>Tatoray Stripper C620 Split Factors Calculation_Split Factor for Individual Component to Tatoray Stripper C620 Bottoms_Indane_Fraction</th>\n",
              "      <th>Tatoray Stripper C620 Split Factors Calculation_Split Factor for Individual Component to Tatoray Stripper C620 Bottoms_1-Methyl-4-n-propylbenzene_Fraction</th>\n",
              "      <th>Tatoray Stripper C620 Split Factors Calculation_Split Factor for Individual Component to Tatoray Stripper C620 Bottoms_1,2-Diethylbenzene_Fraction</th>\n",
              "      <th>Tatoray Stripper C620 Split Factors Calculation_Split Factor for Individual Component to Tatoray Stripper C620 Bottoms_5-Ethyl-m-xylene_Fraction</th>\n",
              "      <th>Tatoray Stripper C620 Split Factors Calculation_Split Factor for Individual Component to Tatoray Stripper C620 Bottoms_1,4-Diethylbenzene_Fraction</th>\n",
              "      <th>Tatoray Stripper C620 Split Factors Calculation_Split Factor for Individual Component to Tatoray Stripper C620 Bottoms_1,2,3,5-Tetramethylbenzene_Fraction</th>\n",
              "      <th>Tatoray Stripper C620 Split Factors Calculation_Split Factor for Individual Component to Tatoray Stripper C620 Bottoms_n-Pentylbenzene_Fraction</th>\n",
              "      <th>Tatoray Stripper C620 Split Factors Calculation_Split Factor for Individual Component to Tatoray Stripper C620 Bottoms_n-Hexylbenzene_Fraction</th>\n",
              "      <th>Tatoray Stripper C620 Split Factors Calculation_Split Factor for Individual Component to Tatoray Stripper C620 Bottoms_Nitrogen_Fraction</th>\n",
              "      <th>Tatoray Stripper C620 Split Factors Calculation_Split Factor for Individual Component to Tatoray Stripper C620 Bottoms_Oxygen_Fraction</th>\n",
              "      <th>Density_Feed Properties</th>\n",
              "      <th>Density_Vent Gas Production Rate and Composition</th>\n",
              "      <th>Density_Distillate Production Rate and Composition</th>\n",
              "      <th>Density_Sidedraw Production Rate and Composition</th>\n",
              "      <th>Density_Bottoms Production Rate and Composition</th>\n",
              "      <th>Tatoray Stripper C620 Operation_Yield Summary_Reflux Rate_m3/hr</th>\n",
              "      <th>Tatoray Stripper C620 Operation_Heat Duty_Condenser Heat Duty_Mkcal/hr</th>\n",
              "      <th>Tatoray Stripper C620 Operation_Heat Duty_Reboiler Heat Duty_Mkcal/hr</th>\n",
              "      <th>Tatoray Stripper C620 Operation_Column Temp Profile_C620 Tray 14 (Control)_oC</th>\n",
              "      <th>Tatoray Stripper C620 Operation_Column Temp Profile_C620 Tray 34 (Control)_oC</th>\n",
              "    </tr>\n",
              "  </thead>\n",
              "  <tbody>\n",
              "    <tr>\n",
              "      <th>2020-09-02</th>\n",
              "      <td>40.670785</td>\n",
              "      <td>0.0</td>\n",
              "      <td>83.631</td>\n",
              "      <td>0</td>\n",
              "      <td>0.019274</td>\n",
              "      <td>0.469690</td>\n",
              "      <td>0.435204</td>\n",
              "      <td>0.134911</td>\n",
              "      <td>0.068302</td>\n",
              "      <td>0.012563</td>\n",
              "      <td>14.741264</td>\n",
              "      <td>0.001656</td>\n",
              "      <td>0.007845</td>\n",
              "      <td>0</td>\n",
              "      <td>0.007084</td>\n",
              "      <td>34.924097</td>\n",
              "      <td>0.007173</td>\n",
              "      <td>0.009680</td>\n",
              "      <td>0.009691</td>\n",
              "      <td>1.050619</td>\n",
              "      <td>7.214699</td>\n",
              "      <td>17.025416</td>\n",
              "      <td>7.844650</td>\n",
              "      <td>0.013065</td>\n",
              "      <td>0.006661</td>\n",
              "      <td>0.001636</td>\n",
              "      <td>0.008142</td>\n",
              "      <td>0.936810</td>\n",
              "      <td>0.490983</td>\n",
              "      <td>2.829603</td>\n",
              "      <td>0.275833</td>\n",
              "      <td>7.227505</td>\n",
              "      <td>0.000002</td>\n",
              "      <td>1.153822</td>\n",
              "      <td>0.037565</td>\n",
              "      <td>0.001119</td>\n",
              "      <td>0.031655</td>\n",
              "      <td>1.223261</td>\n",
              "      <td>0</td>\n",
              "      <td>1.408379</td>\n",
              "      <td>...</td>\n",
              "      <td>NaN</td>\n",
              "      <td>NaN</td>\n",
              "      <td>NaN</td>\n",
              "      <td>NaN</td>\n",
              "      <td>NaN</td>\n",
              "      <td>NaN</td>\n",
              "      <td>NaN</td>\n",
              "      <td>NaN</td>\n",
              "      <td>NaN</td>\n",
              "      <td>NaN</td>\n",
              "      <td>NaN</td>\n",
              "      <td>NaN</td>\n",
              "      <td>NaN</td>\n",
              "      <td>NaN</td>\n",
              "      <td>NaN</td>\n",
              "      <td>NaN</td>\n",
              "      <td>NaN</td>\n",
              "      <td>NaN</td>\n",
              "      <td>NaN</td>\n",
              "      <td>NaN</td>\n",
              "      <td>NaN</td>\n",
              "      <td>NaN</td>\n",
              "      <td>NaN</td>\n",
              "      <td>NaN</td>\n",
              "      <td>NaN</td>\n",
              "      <td>NaN</td>\n",
              "      <td>NaN</td>\n",
              "      <td>NaN</td>\n",
              "      <td>NaN</td>\n",
              "      <td>NaN</td>\n",
              "      <td>0.871108</td>\n",
              "      <td>0.453</td>\n",
              "      <td>0.852</td>\n",
              "      <td>0.881</td>\n",
              "      <td>0.874</td>\n",
              "      <td>113.302600</td>\n",
              "      <td>NaN</td>\n",
              "      <td>NaN</td>\n",
              "      <td>151.253142</td>\n",
              "      <td>181.026332</td>\n",
              "    </tr>\n",
              "    <tr>\n",
              "      <th>2020-09-03</th>\n",
              "      <td>40.668301</td>\n",
              "      <td>0.0</td>\n",
              "      <td>92.050</td>\n",
              "      <td>0</td>\n",
              "      <td>0.021279</td>\n",
              "      <td>0.518545</td>\n",
              "      <td>0.478666</td>\n",
              "      <td>0.146086</td>\n",
              "      <td>0.071325</td>\n",
              "      <td>0.013139</td>\n",
              "      <td>14.746443</td>\n",
              "      <td>0.001701</td>\n",
              "      <td>0.008162</td>\n",
              "      <td>0</td>\n",
              "      <td>0.007242</td>\n",
              "      <td>34.987041</td>\n",
              "      <td>0.007335</td>\n",
              "      <td>0.009893</td>\n",
              "      <td>0.009905</td>\n",
              "      <td>1.068245</td>\n",
              "      <td>7.183274</td>\n",
              "      <td>16.959900</td>\n",
              "      <td>7.818042</td>\n",
              "      <td>0.013353</td>\n",
              "      <td>0.006637</td>\n",
              "      <td>0.001672</td>\n",
              "      <td>0.008112</td>\n",
              "      <td>0.933381</td>\n",
              "      <td>0.489186</td>\n",
              "      <td>2.819248</td>\n",
              "      <td>0.274824</td>\n",
              "      <td>7.201055</td>\n",
              "      <td>0.000002</td>\n",
              "      <td>1.149599</td>\n",
              "      <td>0.037428</td>\n",
              "      <td>0.001110</td>\n",
              "      <td>0.031392</td>\n",
              "      <td>1.213072</td>\n",
              "      <td>0</td>\n",
              "      <td>1.396648</td>\n",
              "      <td>...</td>\n",
              "      <td>NaN</td>\n",
              "      <td>NaN</td>\n",
              "      <td>NaN</td>\n",
              "      <td>NaN</td>\n",
              "      <td>NaN</td>\n",
              "      <td>NaN</td>\n",
              "      <td>NaN</td>\n",
              "      <td>NaN</td>\n",
              "      <td>NaN</td>\n",
              "      <td>NaN</td>\n",
              "      <td>NaN</td>\n",
              "      <td>NaN</td>\n",
              "      <td>NaN</td>\n",
              "      <td>NaN</td>\n",
              "      <td>NaN</td>\n",
              "      <td>NaN</td>\n",
              "      <td>NaN</td>\n",
              "      <td>NaN</td>\n",
              "      <td>NaN</td>\n",
              "      <td>NaN</td>\n",
              "      <td>NaN</td>\n",
              "      <td>NaN</td>\n",
              "      <td>NaN</td>\n",
              "      <td>NaN</td>\n",
              "      <td>NaN</td>\n",
              "      <td>NaN</td>\n",
              "      <td>NaN</td>\n",
              "      <td>NaN</td>\n",
              "      <td>NaN</td>\n",
              "      <td>NaN</td>\n",
              "      <td>0.870640</td>\n",
              "      <td>0.453</td>\n",
              "      <td>0.858</td>\n",
              "      <td>0.882</td>\n",
              "      <td>0.874</td>\n",
              "      <td>110.343856</td>\n",
              "      <td>NaN</td>\n",
              "      <td>NaN</td>\n",
              "      <td>153.642061</td>\n",
              "      <td>181.012689</td>\n",
              "    </tr>\n",
              "    <tr>\n",
              "      <th>2020-09-04</th>\n",
              "      <td>40.720125</td>\n",
              "      <td>0.0</td>\n",
              "      <td>89.510</td>\n",
              "      <td>0</td>\n",
              "      <td>0.021169</td>\n",
              "      <td>0.515871</td>\n",
              "      <td>0.475863</td>\n",
              "      <td>0.144802</td>\n",
              "      <td>0.070199</td>\n",
              "      <td>0.012936</td>\n",
              "      <td>14.571750</td>\n",
              "      <td>0.001669</td>\n",
              "      <td>0.008027</td>\n",
              "      <td>0</td>\n",
              "      <td>0.007098</td>\n",
              "      <td>35.032036</td>\n",
              "      <td>0.007188</td>\n",
              "      <td>0.009695</td>\n",
              "      <td>0.009707</td>\n",
              "      <td>1.034434</td>\n",
              "      <td>7.241203</td>\n",
              "      <td>17.076720</td>\n",
              "      <td>7.869818</td>\n",
              "      <td>0.013085</td>\n",
              "      <td>0.006629</td>\n",
              "      <td>0.001638</td>\n",
              "      <td>0.008102</td>\n",
              "      <td>0.932203</td>\n",
              "      <td>0.488569</td>\n",
              "      <td>2.815690</td>\n",
              "      <td>0.274477</td>\n",
              "      <td>7.191970</td>\n",
              "      <td>0.000002</td>\n",
              "      <td>1.148149</td>\n",
              "      <td>0.037380</td>\n",
              "      <td>0.001096</td>\n",
              "      <td>0.031002</td>\n",
              "      <td>1.198012</td>\n",
              "      <td>0</td>\n",
              "      <td>1.379310</td>\n",
              "      <td>...</td>\n",
              "      <td>NaN</td>\n",
              "      <td>NaN</td>\n",
              "      <td>NaN</td>\n",
              "      <td>NaN</td>\n",
              "      <td>NaN</td>\n",
              "      <td>NaN</td>\n",
              "      <td>NaN</td>\n",
              "      <td>NaN</td>\n",
              "      <td>NaN</td>\n",
              "      <td>NaN</td>\n",
              "      <td>NaN</td>\n",
              "      <td>NaN</td>\n",
              "      <td>NaN</td>\n",
              "      <td>NaN</td>\n",
              "      <td>NaN</td>\n",
              "      <td>NaN</td>\n",
              "      <td>NaN</td>\n",
              "      <td>NaN</td>\n",
              "      <td>NaN</td>\n",
              "      <td>NaN</td>\n",
              "      <td>NaN</td>\n",
              "      <td>NaN</td>\n",
              "      <td>NaN</td>\n",
              "      <td>NaN</td>\n",
              "      <td>NaN</td>\n",
              "      <td>NaN</td>\n",
              "      <td>NaN</td>\n",
              "      <td>NaN</td>\n",
              "      <td>NaN</td>\n",
              "      <td>NaN</td>\n",
              "      <td>0.866915</td>\n",
              "      <td>0.453</td>\n",
              "      <td>0.853</td>\n",
              "      <td>0.881</td>\n",
              "      <td>0.874</td>\n",
              "      <td>105.019248</td>\n",
              "      <td>NaN</td>\n",
              "      <td>NaN</td>\n",
              "      <td>158.729188</td>\n",
              "      <td>180.954227</td>\n",
              "    </tr>\n",
              "  </tbody>\n",
              "</table>\n",
              "<p>3 rows × 218 columns</p>\n",
              "</div>"
            ],
            "text/plain": [
              "            Tatoray Stripper C620 Operation_Specifications_Spec 1 : Receiver Temp_oC  ...  Tatoray Stripper C620 Operation_Column Temp Profile_C620 Tray 34 (Control)_oC\n",
              "2020-09-02                                          40.670785                         ...                                         181.026332                            \n",
              "2020-09-03                                          40.668301                         ...                                         181.012689                            \n",
              "2020-09-04                                          40.720125                         ...                                         180.954227                            \n",
              "\n",
              "[3 rows x 218 columns]"
            ]
          },
          "metadata": {
            "tags": []
          },
          "execution_count": 3
        }
      ]
    },
    {
      "cell_type": "markdown",
      "metadata": {
        "id": "weDth9iWKG8e"
      },
      "source": [
        "# 缺失欄位"
      ]
    },
    {
      "cell_type": "code",
      "metadata": {
        "colab": {
          "base_uri": "https://localhost:8080/"
        },
        "id": "_p-HyDHLJq1g",
        "outputId": "00159077-df04-4e8f-d9db-643f1db2e545"
      },
      "source": [
        "miss_col = c620_df.columns[(c620_df.isnull().sum() > 0).values].tolist()\n",
        "print(len(miss_col))\n",
        "miss_col"
      ],
      "execution_count": 12,
      "outputs": [
        {
          "output_type": "stream",
          "text": [
            "166\n"
          ],
          "name": "stdout"
        },
        {
          "output_type": "execute_result",
          "data": {
            "text/plain": [
              "['Tatoray Stripper C620 Split Factors Calculation_Split Factor for Individual Component to Tatoray Stripper C620 Vent Gas_Hydrogen_Fraction',\n",
              " 'Tatoray Stripper C620 Split Factors Calculation_Split Factor for Individual Component to Tatoray Stripper C620 Vent Gas_Methane_Fraction',\n",
              " 'Tatoray Stripper C620 Split Factors Calculation_Split Factor for Individual Component to Tatoray Stripper C620 Vent Gas_Ethane_Fraction',\n",
              " 'Tatoray Stripper C620 Split Factors Calculation_Split Factor for Individual Component to Tatoray Stripper C620 Vent Gas_Propane_Fraction',\n",
              " 'Tatoray Stripper C620 Split Factors Calculation_Split Factor for Individual Component to Tatoray Stripper C620 Vent Gas_n-Butane_Fraction',\n",
              " 'Tatoray Stripper C620 Split Factors Calculation_Split Factor for Individual Component to Tatoray Stripper C620 Vent Gas_n-Pentane_Fraction',\n",
              " 'Tatoray Stripper C620 Split Factors Calculation_Split Factor for Individual Component to Tatoray Stripper C620 Vent Gas_n-Hexane_Fraction',\n",
              " 'Tatoray Stripper C620 Split Factors Calculation_Split Factor for Individual Component to Tatoray Stripper C620 Vent Gas_Benzene_Fraction',\n",
              " 'Tatoray Stripper C620 Split Factors Calculation_Split Factor for Individual Component to Tatoray Stripper C620 Vent Gas_Cyclohexane_Fraction',\n",
              " 'Tatoray Stripper C620 Split Factors Calculation_Split Factor for Individual Component to Tatoray Stripper C620 Vent Gas_n-Heptane_Fraction',\n",
              " 'Tatoray Stripper C620 Split Factors Calculation_Split Factor for Individual Component to Tatoray Stripper C620 Vent Gas_Water_Fraction',\n",
              " 'Tatoray Stripper C620 Split Factors Calculation_Split Factor for Individual Component to Tatoray Stripper C620 Vent Gas_Methylcyclohexane_Fraction',\n",
              " 'Tatoray Stripper C620 Split Factors Calculation_Split Factor for Individual Component to Tatoray Stripper C620 Vent Gas_Toluene_Fraction',\n",
              " 'Tatoray Stripper C620 Split Factors Calculation_Split Factor for Individual Component to Tatoray Stripper C620 Vent Gas_n-Octane_Fraction',\n",
              " 'Tatoray Stripper C620 Split Factors Calculation_Split Factor for Individual Component to Tatoray Stripper C620 Vent Gas_n-Propylcyclopentane_Fraction',\n",
              " 'Tatoray Stripper C620 Split Factors Calculation_Split Factor for Individual Component to Tatoray Stripper C620 Vent Gas_Ethylcyclohexane_Fraction',\n",
              " 'Tatoray Stripper C620 Split Factors Calculation_Split Factor for Individual Component to Tatoray Stripper C620 Vent Gas_Ethylbenzene_Fraction',\n",
              " 'Tatoray Stripper C620 Split Factors Calculation_Split Factor for Individual Component to Tatoray Stripper C620 Vent Gas_p-Xylene_Fraction',\n",
              " 'Tatoray Stripper C620 Split Factors Calculation_Split Factor for Individual Component to Tatoray Stripper C620 Vent Gas_m-Xylene_Fraction',\n",
              " 'Tatoray Stripper C620 Split Factors Calculation_Split Factor for Individual Component to Tatoray Stripper C620 Vent Gas_o-Xylene_Fraction',\n",
              " 'Tatoray Stripper C620 Split Factors Calculation_Split Factor for Individual Component to Tatoray Stripper C620 Vent Gas_n-Nonane_Fraction',\n",
              " 'Tatoray Stripper C620 Split Factors Calculation_Split Factor for Individual Component to Tatoray Stripper C620 Vent Gas_i-Propylbenzene_Fraction',\n",
              " 'Tatoray Stripper C620 Split Factors Calculation_Split Factor for Individual Component to Tatoray Stripper C620 Vent Gas_n-Propylcyclohexane_Fraction',\n",
              " 'Tatoray Stripper C620 Split Factors Calculation_Split Factor for Individual Component to Tatoray Stripper C620 Vent Gas_n-Propylbenzene_Fraction',\n",
              " 'Tatoray Stripper C620 Split Factors Calculation_Split Factor for Individual Component to Tatoray Stripper C620 Vent Gas_1-Methyl-3-ethylbenzene_Fraction',\n",
              " 'Tatoray Stripper C620 Split Factors Calculation_Split Factor for Individual Component to Tatoray Stripper C620 Vent Gas_1-Methyl-4-ethylbenzene_Fraction',\n",
              " 'Tatoray Stripper C620 Split Factors Calculation_Split Factor for Individual Component to Tatoray Stripper C620 Vent Gas_1,3,5-Trimethylbenzene_Fraction',\n",
              " 'Tatoray Stripper C620 Split Factors Calculation_Split Factor for Individual Component to Tatoray Stripper C620 Vent Gas_1-Methyl-2-ethylbenzene_Fraction',\n",
              " 'Tatoray Stripper C620 Split Factors Calculation_Split Factor for Individual Component to Tatoray Stripper C620 Vent Gas_1,2,4-Trimethylbenzene_Fraction',\n",
              " 'Tatoray Stripper C620 Split Factors Calculation_Split Factor for Individual Component to Tatoray Stripper C620 Vent Gas_tert-Butylcyclohexane_Fraction',\n",
              " 'Tatoray Stripper C620 Split Factors Calculation_Split Factor for Individual Component to Tatoray Stripper C620 Vent Gas_1,2,3-Trimethylbenzene_Fraction',\n",
              " 'Tatoray Stripper C620 Split Factors Calculation_Split Factor for Individual Component to Tatoray Stripper C620 Vent Gas_Indane_Fraction',\n",
              " 'Tatoray Stripper C620 Split Factors Calculation_Split Factor for Individual Component to Tatoray Stripper C620 Vent Gas_1-Methyl-4-n-propylbenzene_Fraction',\n",
              " 'Tatoray Stripper C620 Split Factors Calculation_Split Factor for Individual Component to Tatoray Stripper C620 Vent Gas_1,2-Diethylbenzene_Fraction',\n",
              " 'Tatoray Stripper C620 Split Factors Calculation_Split Factor for Individual Component to Tatoray Stripper C620 Vent Gas_5-Ethyl-m-xylene_Fraction',\n",
              " 'Tatoray Stripper C620 Split Factors Calculation_Split Factor for Individual Component to Tatoray Stripper C620 Vent Gas_1,4-Diethylbenzene_Fraction',\n",
              " 'Tatoray Stripper C620 Split Factors Calculation_Split Factor for Individual Component to Tatoray Stripper C620 Vent Gas_1,2,3,5-Tetramethylbenzene_Fraction',\n",
              " 'Tatoray Stripper C620 Split Factors Calculation_Split Factor for Individual Component to Tatoray Stripper C620 Vent Gas_n-Pentylbenzene_Fraction',\n",
              " 'Tatoray Stripper C620 Split Factors Calculation_Split Factor for Individual Component to Tatoray Stripper C620 Vent Gas_n-Hexylbenzene_Fraction',\n",
              " 'Tatoray Stripper C620 Split Factors Calculation_Split Factor for Individual Component to Tatoray Stripper C620 Vent Gas_Nitrogen_Fraction',\n",
              " 'Tatoray Stripper C620 Split Factors Calculation_Split Factor for Individual Component to Tatoray Stripper C620 Vent Gas_Oxygen_Fraction',\n",
              " 'Tatoray Stripper C620 Split Factors Calculation_Split Factor for Individual Component to Tatoray Stripper C620 Distillate_Hydrogen_Fraction',\n",
              " 'Tatoray Stripper C620 Split Factors Calculation_Split Factor for Individual Component to Tatoray Stripper C620 Distillate_Methane_Fraction',\n",
              " 'Tatoray Stripper C620 Split Factors Calculation_Split Factor for Individual Component to Tatoray Stripper C620 Distillate_Ethane_Fraction',\n",
              " 'Tatoray Stripper C620 Split Factors Calculation_Split Factor for Individual Component to Tatoray Stripper C620 Distillate_Propane_Fraction',\n",
              " 'Tatoray Stripper C620 Split Factors Calculation_Split Factor for Individual Component to Tatoray Stripper C620 Distillate_n-Butane_Fraction',\n",
              " 'Tatoray Stripper C620 Split Factors Calculation_Split Factor for Individual Component to Tatoray Stripper C620 Distillate_n-Pentane_Fraction',\n",
              " 'Tatoray Stripper C620 Split Factors Calculation_Split Factor for Individual Component to Tatoray Stripper C620 Distillate_n-Hexane_Fraction',\n",
              " 'Tatoray Stripper C620 Split Factors Calculation_Split Factor for Individual Component to Tatoray Stripper C620 Distillate_Benzene_Fraction',\n",
              " 'Tatoray Stripper C620 Split Factors Calculation_Split Factor for Individual Component to Tatoray Stripper C620 Distillate_Cyclohexane_Fraction',\n",
              " 'Tatoray Stripper C620 Split Factors Calculation_Split Factor for Individual Component to Tatoray Stripper C620 Distillate_n-Heptane_Fraction',\n",
              " 'Tatoray Stripper C620 Split Factors Calculation_Split Factor for Individual Component to Tatoray Stripper C620 Distillate_Water_Fraction',\n",
              " 'Tatoray Stripper C620 Split Factors Calculation_Split Factor for Individual Component to Tatoray Stripper C620 Distillate_Methylcyclohexane_Fraction',\n",
              " 'Tatoray Stripper C620 Split Factors Calculation_Split Factor for Individual Component to Tatoray Stripper C620 Distillate_Toluene_Fraction',\n",
              " 'Tatoray Stripper C620 Split Factors Calculation_Split Factor for Individual Component to Tatoray Stripper C620 Distillate_n-Octane_Fraction',\n",
              " 'Tatoray Stripper C620 Split Factors Calculation_Split Factor for Individual Component to Tatoray Stripper C620 Distillate_n-Propylcyclopentane_Fraction',\n",
              " 'Tatoray Stripper C620 Split Factors Calculation_Split Factor for Individual Component to Tatoray Stripper C620 Distillate_Ethylcyclohexane_Fraction',\n",
              " 'Tatoray Stripper C620 Split Factors Calculation_Split Factor for Individual Component to Tatoray Stripper C620 Distillate_Ethylbenzene_Fraction',\n",
              " 'Tatoray Stripper C620 Split Factors Calculation_Split Factor for Individual Component to Tatoray Stripper C620 Distillate_p-Xylene_Fraction',\n",
              " 'Tatoray Stripper C620 Split Factors Calculation_Split Factor for Individual Component to Tatoray Stripper C620 Distillate_m-Xylene_Fraction',\n",
              " 'Tatoray Stripper C620 Split Factors Calculation_Split Factor for Individual Component to Tatoray Stripper C620 Distillate_o-Xylene_Fraction',\n",
              " 'Tatoray Stripper C620 Split Factors Calculation_Split Factor for Individual Component to Tatoray Stripper C620 Distillate_n-Nonane_Fraction',\n",
              " 'Tatoray Stripper C620 Split Factors Calculation_Split Factor for Individual Component to Tatoray Stripper C620 Distillate_i-Propylbenzene_Fraction',\n",
              " 'Tatoray Stripper C620 Split Factors Calculation_Split Factor for Individual Component to Tatoray Stripper C620 Distillate_n-Propylcyclohexane_Fraction',\n",
              " 'Tatoray Stripper C620 Split Factors Calculation_Split Factor for Individual Component to Tatoray Stripper C620 Distillate_n-Propylbenzene_Fraction',\n",
              " 'Tatoray Stripper C620 Split Factors Calculation_Split Factor for Individual Component to Tatoray Stripper C620 Distillate_1-Methyl-3-ethylbenzene_Fraction',\n",
              " 'Tatoray Stripper C620 Split Factors Calculation_Split Factor for Individual Component to Tatoray Stripper C620 Distillate_1-Methyl-4-ethylbenzene_Fraction',\n",
              " 'Tatoray Stripper C620 Split Factors Calculation_Split Factor for Individual Component to Tatoray Stripper C620 Distillate_1,3,5-Trimethylbenzene_Fraction',\n",
              " 'Tatoray Stripper C620 Split Factors Calculation_Split Factor for Individual Component to Tatoray Stripper C620 Distillate_1-Methyl-2-ethylbenzene_Fraction',\n",
              " 'Tatoray Stripper C620 Split Factors Calculation_Split Factor for Individual Component to Tatoray Stripper C620 Distillate_1,2,4-Trimethylbenzene_Fraction',\n",
              " 'Tatoray Stripper C620 Split Factors Calculation_Split Factor for Individual Component to Tatoray Stripper C620 Distillate_tert-Butylcyclohexane_Fraction',\n",
              " 'Tatoray Stripper C620 Split Factors Calculation_Split Factor for Individual Component to Tatoray Stripper C620 Distillate_1,2,3-Trimethylbenzene_Fraction',\n",
              " 'Tatoray Stripper C620 Split Factors Calculation_Split Factor for Individual Component to Tatoray Stripper C620 Distillate_Indane_Fraction',\n",
              " 'Tatoray Stripper C620 Split Factors Calculation_Split Factor for Individual Component to Tatoray Stripper C620 Distillate_1-Methyl-4-n-propylbenzene_Fraction',\n",
              " 'Tatoray Stripper C620 Split Factors Calculation_Split Factor for Individual Component to Tatoray Stripper C620 Distillate_1,2-Diethylbenzene_Fraction',\n",
              " 'Tatoray Stripper C620 Split Factors Calculation_Split Factor for Individual Component to Tatoray Stripper C620 Distillate_5-Ethyl-m-xylene_Fraction',\n",
              " 'Tatoray Stripper C620 Split Factors Calculation_Split Factor for Individual Component to Tatoray Stripper C620 Distillate_1,4-Diethylbenzene_Fraction',\n",
              " 'Tatoray Stripper C620 Split Factors Calculation_Split Factor for Individual Component to Tatoray Stripper C620 Distillate_1,2,3,5-Tetramethylbenzene_Fraction',\n",
              " 'Tatoray Stripper C620 Split Factors Calculation_Split Factor for Individual Component to Tatoray Stripper C620 Distillate_n-Pentylbenzene_Fraction',\n",
              " 'Tatoray Stripper C620 Split Factors Calculation_Split Factor for Individual Component to Tatoray Stripper C620 Distillate_n-Hexylbenzene_Fraction',\n",
              " 'Tatoray Stripper C620 Split Factors Calculation_Split Factor for Individual Component to Tatoray Stripper C620 Distillate_Nitrogen_Fraction',\n",
              " 'Tatoray Stripper C620 Split Factors Calculation_Split Factor for Individual Component to Tatoray Stripper C620 Distillate_Oxygen_Fraction',\n",
              " 'Tatoray Stripper C620 Split Factors Calculation_Split Factor for Individual Component to Tatoray Stripper C620 Sidedraw_Hydrogen_Fraction',\n",
              " 'Tatoray Stripper C620 Split Factors Calculation_Split Factor for Individual Component to Tatoray Stripper C620 Sidedraw_Methane_Fraction',\n",
              " 'Tatoray Stripper C620 Split Factors Calculation_Split Factor for Individual Component to Tatoray Stripper C620 Sidedraw_Ethane_Fraction',\n",
              " 'Tatoray Stripper C620 Split Factors Calculation_Split Factor for Individual Component to Tatoray Stripper C620 Sidedraw_Propane_Fraction',\n",
              " 'Tatoray Stripper C620 Split Factors Calculation_Split Factor for Individual Component to Tatoray Stripper C620 Sidedraw_n-Butane_Fraction',\n",
              " 'Tatoray Stripper C620 Split Factors Calculation_Split Factor for Individual Component to Tatoray Stripper C620 Sidedraw_n-Pentane_Fraction',\n",
              " 'Tatoray Stripper C620 Split Factors Calculation_Split Factor for Individual Component to Tatoray Stripper C620 Sidedraw_n-Hexane_Fraction',\n",
              " 'Tatoray Stripper C620 Split Factors Calculation_Split Factor for Individual Component to Tatoray Stripper C620 Sidedraw_Benzene_Fraction',\n",
              " 'Tatoray Stripper C620 Split Factors Calculation_Split Factor for Individual Component to Tatoray Stripper C620 Sidedraw_Cyclohexane_Fraction',\n",
              " 'Tatoray Stripper C620 Split Factors Calculation_Split Factor for Individual Component to Tatoray Stripper C620 Sidedraw_n-Heptane_Fraction',\n",
              " 'Tatoray Stripper C620 Split Factors Calculation_Split Factor for Individual Component to Tatoray Stripper C620 Sidedraw_Water_Fraction',\n",
              " 'Tatoray Stripper C620 Split Factors Calculation_Split Factor for Individual Component to Tatoray Stripper C620 Sidedraw_Methylcyclohexane_Fraction',\n",
              " 'Tatoray Stripper C620 Split Factors Calculation_Split Factor for Individual Component to Tatoray Stripper C620 Sidedraw_Toluene_Fraction',\n",
              " 'Tatoray Stripper C620 Split Factors Calculation_Split Factor for Individual Component to Tatoray Stripper C620 Sidedraw_n-Octane_Fraction',\n",
              " 'Tatoray Stripper C620 Split Factors Calculation_Split Factor for Individual Component to Tatoray Stripper C620 Sidedraw_n-Propylcyclopentane_Fraction',\n",
              " 'Tatoray Stripper C620 Split Factors Calculation_Split Factor for Individual Component to Tatoray Stripper C620 Sidedraw_Ethylcyclohexane_Fraction',\n",
              " 'Tatoray Stripper C620 Split Factors Calculation_Split Factor for Individual Component to Tatoray Stripper C620 Sidedraw_Ethylbenzene_Fraction',\n",
              " 'Tatoray Stripper C620 Split Factors Calculation_Split Factor for Individual Component to Tatoray Stripper C620 Sidedraw_p-Xylene_Fraction',\n",
              " 'Tatoray Stripper C620 Split Factors Calculation_Split Factor for Individual Component to Tatoray Stripper C620 Sidedraw_m-Xylene_Fraction',\n",
              " 'Tatoray Stripper C620 Split Factors Calculation_Split Factor for Individual Component to Tatoray Stripper C620 Sidedraw_o-Xylene_Fraction',\n",
              " 'Tatoray Stripper C620 Split Factors Calculation_Split Factor for Individual Component to Tatoray Stripper C620 Sidedraw_n-Nonane_Fraction',\n",
              " 'Tatoray Stripper C620 Split Factors Calculation_Split Factor for Individual Component to Tatoray Stripper C620 Sidedraw_i-Propylbenzene_Fraction',\n",
              " 'Tatoray Stripper C620 Split Factors Calculation_Split Factor for Individual Component to Tatoray Stripper C620 Sidedraw_n-Propylcyclohexane_Fraction',\n",
              " 'Tatoray Stripper C620 Split Factors Calculation_Split Factor for Individual Component to Tatoray Stripper C620 Sidedraw_n-Propylbenzene_Fraction',\n",
              " 'Tatoray Stripper C620 Split Factors Calculation_Split Factor for Individual Component to Tatoray Stripper C620 Sidedraw_1-Methyl-3-ethylbenzene_Fraction',\n",
              " 'Tatoray Stripper C620 Split Factors Calculation_Split Factor for Individual Component to Tatoray Stripper C620 Sidedraw_1-Methyl-4-ethylbenzene_Fraction',\n",
              " 'Tatoray Stripper C620 Split Factors Calculation_Split Factor for Individual Component to Tatoray Stripper C620 Sidedraw_1,3,5-Trimethylbenzene_Fraction',\n",
              " 'Tatoray Stripper C620 Split Factors Calculation_Split Factor for Individual Component to Tatoray Stripper C620 Sidedraw_1-Methyl-2-ethylbenzene_Fraction',\n",
              " 'Tatoray Stripper C620 Split Factors Calculation_Split Factor for Individual Component to Tatoray Stripper C620 Sidedraw_1,2,4-Trimethylbenzene_Fraction',\n",
              " 'Tatoray Stripper C620 Split Factors Calculation_Split Factor for Individual Component to Tatoray Stripper C620 Sidedraw_tert-Butylcyclohexane_Fraction',\n",
              " 'Tatoray Stripper C620 Split Factors Calculation_Split Factor for Individual Component to Tatoray Stripper C620 Sidedraw_1,2,3-Trimethylbenzene_Fraction',\n",
              " 'Tatoray Stripper C620 Split Factors Calculation_Split Factor for Individual Component to Tatoray Stripper C620 Sidedraw_Indane_Fraction',\n",
              " 'Tatoray Stripper C620 Split Factors Calculation_Split Factor for Individual Component to Tatoray Stripper C620 Sidedraw_1-Methyl-4-n-propylbenzene_Fraction',\n",
              " 'Tatoray Stripper C620 Split Factors Calculation_Split Factor for Individual Component to Tatoray Stripper C620 Sidedraw_1,2-Diethylbenzene_Fraction',\n",
              " 'Tatoray Stripper C620 Split Factors Calculation_Split Factor for Individual Component to Tatoray Stripper C620 Sidedraw_5-Ethyl-m-xylene_Fraction',\n",
              " 'Tatoray Stripper C620 Split Factors Calculation_Split Factor for Individual Component to Tatoray Stripper C620 Sidedraw_1,4-Diethylbenzene_Fraction',\n",
              " 'Tatoray Stripper C620 Split Factors Calculation_Split Factor for Individual Component to Tatoray Stripper C620 Sidedraw_1,2,3,5-Tetramethylbenzene_Fraction',\n",
              " 'Tatoray Stripper C620 Split Factors Calculation_Split Factor for Individual Component to Tatoray Stripper C620 Sidedraw_n-Pentylbenzene_Fraction',\n",
              " 'Tatoray Stripper C620 Split Factors Calculation_Split Factor for Individual Component to Tatoray Stripper C620 Sidedraw_n-Hexylbenzene_Fraction',\n",
              " 'Tatoray Stripper C620 Split Factors Calculation_Split Factor for Individual Component to Tatoray Stripper C620 Sidedraw_Nitrogen_Fraction',\n",
              " 'Tatoray Stripper C620 Split Factors Calculation_Split Factor for Individual Component to Tatoray Stripper C620 Sidedraw_Oxygen_Fraction',\n",
              " 'Tatoray Stripper C620 Split Factors Calculation_Split Factor for Individual Component to Tatoray Stripper C620 Bottoms_Hydrogen_Fraction',\n",
              " 'Tatoray Stripper C620 Split Factors Calculation_Split Factor for Individual Component to Tatoray Stripper C620 Bottoms_Methane_Fraction',\n",
              " 'Tatoray Stripper C620 Split Factors Calculation_Split Factor for Individual Component to Tatoray Stripper C620 Bottoms_Ethane_Fraction',\n",
              " 'Tatoray Stripper C620 Split Factors Calculation_Split Factor for Individual Component to Tatoray Stripper C620 Bottoms_Propane_Fraction',\n",
              " 'Tatoray Stripper C620 Split Factors Calculation_Split Factor for Individual Component to Tatoray Stripper C620 Bottoms_n-Butane_Fraction',\n",
              " 'Tatoray Stripper C620 Split Factors Calculation_Split Factor for Individual Component to Tatoray Stripper C620 Bottoms_n-Pentane_Fraction',\n",
              " 'Tatoray Stripper C620 Split Factors Calculation_Split Factor for Individual Component to Tatoray Stripper C620 Bottoms_n-Hexane_Fraction',\n",
              " 'Tatoray Stripper C620 Split Factors Calculation_Split Factor for Individual Component to Tatoray Stripper C620 Bottoms_Benzene_Fraction',\n",
              " 'Tatoray Stripper C620 Split Factors Calculation_Split Factor for Individual Component to Tatoray Stripper C620 Bottoms_Cyclohexane_Fraction',\n",
              " 'Tatoray Stripper C620 Split Factors Calculation_Split Factor for Individual Component to Tatoray Stripper C620 Bottoms_n-Heptane_Fraction',\n",
              " 'Tatoray Stripper C620 Split Factors Calculation_Split Factor for Individual Component to Tatoray Stripper C620 Bottoms_Water_Fraction',\n",
              " 'Tatoray Stripper C620 Split Factors Calculation_Split Factor for Individual Component to Tatoray Stripper C620 Bottoms_Methylcyclohexane_Fraction',\n",
              " 'Tatoray Stripper C620 Split Factors Calculation_Split Factor for Individual Component to Tatoray Stripper C620 Bottoms_Toluene_Fraction',\n",
              " 'Tatoray Stripper C620 Split Factors Calculation_Split Factor for Individual Component to Tatoray Stripper C620 Bottoms_n-Octane_Fraction',\n",
              " 'Tatoray Stripper C620 Split Factors Calculation_Split Factor for Individual Component to Tatoray Stripper C620 Bottoms_n-Propylcyclopentane_Fraction',\n",
              " 'Tatoray Stripper C620 Split Factors Calculation_Split Factor for Individual Component to Tatoray Stripper C620 Bottoms_Ethylcyclohexane_Fraction',\n",
              " 'Tatoray Stripper C620 Split Factors Calculation_Split Factor for Individual Component to Tatoray Stripper C620 Bottoms_Ethylbenzene_Fraction',\n",
              " 'Tatoray Stripper C620 Split Factors Calculation_Split Factor for Individual Component to Tatoray Stripper C620 Bottoms_p-Xylene_Fraction',\n",
              " 'Tatoray Stripper C620 Split Factors Calculation_Split Factor for Individual Component to Tatoray Stripper C620 Bottoms_m-Xylene_Fraction',\n",
              " 'Tatoray Stripper C620 Split Factors Calculation_Split Factor for Individual Component to Tatoray Stripper C620 Bottoms_o-Xylene_Fraction',\n",
              " 'Tatoray Stripper C620 Split Factors Calculation_Split Factor for Individual Component to Tatoray Stripper C620 Bottoms_n-Nonane_Fraction',\n",
              " 'Tatoray Stripper C620 Split Factors Calculation_Split Factor for Individual Component to Tatoray Stripper C620 Bottoms_i-Propylbenzene_Fraction',\n",
              " 'Tatoray Stripper C620 Split Factors Calculation_Split Factor for Individual Component to Tatoray Stripper C620 Bottoms_n-Propylcyclohexane_Fraction',\n",
              " 'Tatoray Stripper C620 Split Factors Calculation_Split Factor for Individual Component to Tatoray Stripper C620 Bottoms_n-Propylbenzene_Fraction',\n",
              " 'Tatoray Stripper C620 Split Factors Calculation_Split Factor for Individual Component to Tatoray Stripper C620 Bottoms_1-Methyl-3-ethylbenzene_Fraction',\n",
              " 'Tatoray Stripper C620 Split Factors Calculation_Split Factor for Individual Component to Tatoray Stripper C620 Bottoms_1-Methyl-4-ethylbenzene_Fraction',\n",
              " 'Tatoray Stripper C620 Split Factors Calculation_Split Factor for Individual Component to Tatoray Stripper C620 Bottoms_1,3,5-Trimethylbenzene_Fraction',\n",
              " 'Tatoray Stripper C620 Split Factors Calculation_Split Factor for Individual Component to Tatoray Stripper C620 Bottoms_1-Methyl-2-ethylbenzene_Fraction',\n",
              " 'Tatoray Stripper C620 Split Factors Calculation_Split Factor for Individual Component to Tatoray Stripper C620 Bottoms_1,2,4-Trimethylbenzene_Fraction',\n",
              " 'Tatoray Stripper C620 Split Factors Calculation_Split Factor for Individual Component to Tatoray Stripper C620 Bottoms_tert-Butylcyclohexane_Fraction',\n",
              " 'Tatoray Stripper C620 Split Factors Calculation_Split Factor for Individual Component to Tatoray Stripper C620 Bottoms_1,2,3-Trimethylbenzene_Fraction',\n",
              " 'Tatoray Stripper C620 Split Factors Calculation_Split Factor for Individual Component to Tatoray Stripper C620 Bottoms_Indane_Fraction',\n",
              " 'Tatoray Stripper C620 Split Factors Calculation_Split Factor for Individual Component to Tatoray Stripper C620 Bottoms_1-Methyl-4-n-propylbenzene_Fraction',\n",
              " 'Tatoray Stripper C620 Split Factors Calculation_Split Factor for Individual Component to Tatoray Stripper C620 Bottoms_1,2-Diethylbenzene_Fraction',\n",
              " 'Tatoray Stripper C620 Split Factors Calculation_Split Factor for Individual Component to Tatoray Stripper C620 Bottoms_5-Ethyl-m-xylene_Fraction',\n",
              " 'Tatoray Stripper C620 Split Factors Calculation_Split Factor for Individual Component to Tatoray Stripper C620 Bottoms_1,4-Diethylbenzene_Fraction',\n",
              " 'Tatoray Stripper C620 Split Factors Calculation_Split Factor for Individual Component to Tatoray Stripper C620 Bottoms_1,2,3,5-Tetramethylbenzene_Fraction',\n",
              " 'Tatoray Stripper C620 Split Factors Calculation_Split Factor for Individual Component to Tatoray Stripper C620 Bottoms_n-Pentylbenzene_Fraction',\n",
              " 'Tatoray Stripper C620 Split Factors Calculation_Split Factor for Individual Component to Tatoray Stripper C620 Bottoms_n-Hexylbenzene_Fraction',\n",
              " 'Tatoray Stripper C620 Split Factors Calculation_Split Factor for Individual Component to Tatoray Stripper C620 Bottoms_Nitrogen_Fraction',\n",
              " 'Tatoray Stripper C620 Split Factors Calculation_Split Factor for Individual Component to Tatoray Stripper C620 Bottoms_Oxygen_Fraction',\n",
              " 'Tatoray Stripper C620 Operation_Heat Duty_Condenser Heat Duty_Mkcal/hr',\n",
              " 'Tatoray Stripper C620 Operation_Heat Duty_Reboiler Heat Duty_Mkcal/hr']"
            ]
          },
          "metadata": {
            "tags": []
          },
          "execution_count": 12
        }
      ]
    },
    {
      "cell_type": "markdown",
      "metadata": {
        "id": "wMJG3E0fKNc-"
      },
      "source": [
        "# 有提供欄位"
      ]
    },
    {
      "cell_type": "code",
      "metadata": {
        "colab": {
          "base_uri": "https://localhost:8080/"
        },
        "id": "OB9E7WrhJyoM",
        "outputId": "5e967dac-030e-4f25-dde4-dd5aeaa1b9ab"
      },
      "source": [
        "have_col = c620_df.columns[(c620_df.isnull().sum() == 0).values].tolist()\n",
        "print(len(have_col))\n",
        "have_col"
      ],
      "execution_count": 13,
      "outputs": [
        {
          "output_type": "stream",
          "text": [
            "52\n"
          ],
          "name": "stdout"
        },
        {
          "output_type": "execute_result",
          "data": {
            "text/plain": [
              "['Tatoray Stripper C620 Operation_Specifications_Spec 1 : Receiver Temp_oC',\n",
              " 'Tatoray Stripper C620 Operation_Specifications_Spec 2 : Distillate Rate_m3/hr',\n",
              " 'Tatoray Stripper C620 Operation_Specifications_Spec 3 : Benzene in Sidedraw_wt%',\n",
              " 'Combined Feed to Tatoray Stripper C620_Detailed Composition_Hydrogen_wt%',\n",
              " 'Combined Feed to Tatoray Stripper C620_Detailed Composition_Methane_wt%',\n",
              " 'Combined Feed to Tatoray Stripper C620_Detailed Composition_Ethane_wt%',\n",
              " 'Combined Feed to Tatoray Stripper C620_Detailed Composition_Propane_wt%',\n",
              " 'Combined Feed to Tatoray Stripper C620_Detailed Composition_n-Butane_wt%',\n",
              " 'Combined Feed to Tatoray Stripper C620_Detailed Composition_n-Pentane_wt%',\n",
              " 'Combined Feed to Tatoray Stripper C620_Detailed Composition_n-Hexane_wt%',\n",
              " 'Combined Feed to Tatoray Stripper C620_Detailed Composition_Benzene_wt%',\n",
              " 'Combined Feed to Tatoray Stripper C620_Detailed Composition_Cyclohexane_wt%',\n",
              " 'Combined Feed to Tatoray Stripper C620_Detailed Composition_n-Heptane_wt%',\n",
              " 'Combined Feed to Tatoray Stripper C620_Detailed Composition_Water_wt%',\n",
              " 'Combined Feed to Tatoray Stripper C620_Detailed Composition_Methylcyclohexane_wt%',\n",
              " 'Combined Feed to Tatoray Stripper C620_Detailed Composition_Toluene_wt%',\n",
              " 'Combined Feed to Tatoray Stripper C620_Detailed Composition_n-Octane_wt%',\n",
              " 'Combined Feed to Tatoray Stripper C620_Detailed Composition_n-Propylcyclopentane_wt%',\n",
              " 'Combined Feed to Tatoray Stripper C620_Detailed Composition_Ethylcyclohexane_wt%',\n",
              " 'Combined Feed to Tatoray Stripper C620_Detailed Composition_Ethylbenzene_wt%',\n",
              " 'Combined Feed to Tatoray Stripper C620_Detailed Composition_p-Xylene_wt%',\n",
              " 'Combined Feed to Tatoray Stripper C620_Detailed Composition_m-Xylene_wt%',\n",
              " 'Combined Feed to Tatoray Stripper C620_Detailed Composition_o-Xylene_wt%',\n",
              " 'Combined Feed to Tatoray Stripper C620_Detailed Composition_n-Nonane_wt%',\n",
              " 'Combined Feed to Tatoray Stripper C620_Detailed Composition_i-Propylbenzene_wt%',\n",
              " 'Combined Feed to Tatoray Stripper C620_Detailed Composition_n-Propylcyclohexane_wt%',\n",
              " 'Combined Feed to Tatoray Stripper C620_Detailed Composition_n-Propylbenzene_wt%',\n",
              " 'Combined Feed to Tatoray Stripper C620_Detailed Composition_1-Methyl-3-ethylbenzene_wt%',\n",
              " 'Combined Feed to Tatoray Stripper C620_Detailed Composition_1-Methyl-4-ethylbenzene_wt%',\n",
              " 'Combined Feed to Tatoray Stripper C620_Detailed Composition_1,3,5-Trimethylbenzene_wt%',\n",
              " 'Combined Feed to Tatoray Stripper C620_Detailed Composition_1-Methyl-2-ethylbenzene_wt%',\n",
              " 'Combined Feed to Tatoray Stripper C620_Detailed Composition_1,2,4-Trimethylbenzene_wt%',\n",
              " 'Combined Feed to Tatoray Stripper C620_Detailed Composition_tert-Butylcyclohexane_wt%',\n",
              " 'Combined Feed to Tatoray Stripper C620_Detailed Composition_1,2,3-Trimethylbenzene_wt%',\n",
              " 'Combined Feed to Tatoray Stripper C620_Detailed Composition_Indane_wt%',\n",
              " 'Combined Feed to Tatoray Stripper C620_Detailed Composition_1-Methyl-4-n-propylbenzene_wt%',\n",
              " 'Combined Feed to Tatoray Stripper C620_Detailed Composition_1,2-Diethylbenzene_wt%',\n",
              " 'Combined Feed to Tatoray Stripper C620_Detailed Composition_5-Ethyl-m-xylene_wt%',\n",
              " 'Combined Feed to Tatoray Stripper C620_Detailed Composition_1,4-Diethylbenzene_wt%',\n",
              " 'Combined Feed to Tatoray Stripper C620_Detailed Composition_1,2,3,5-Tetramethylbenzene_wt%',\n",
              " 'Combined Feed to Tatoray Stripper C620_Detailed Composition_n-Pentylbenzene_wt%',\n",
              " 'Combined Feed to Tatoray Stripper C620_Detailed Composition_n-Hexylbenzene_wt%',\n",
              " 'Combined Feed to Tatoray Stripper C620_Detailed Composition_Nitrogen_wt%',\n",
              " 'Combined Feed to Tatoray Stripper C620_Detailed Composition_Oxygen_wt%',\n",
              " 'Density_Feed Properties',\n",
              " 'Density_Vent Gas Production Rate and Composition',\n",
              " 'Density_Distillate Production Rate and Composition',\n",
              " 'Density_Sidedraw Production Rate and Composition',\n",
              " 'Density_Bottoms Production Rate and Composition',\n",
              " 'Tatoray Stripper C620 Operation_Yield Summary_Reflux Rate_m3/hr',\n",
              " 'Tatoray Stripper C620 Operation_Column Temp Profile_C620 Tray 14 (Control)_oC',\n",
              " 'Tatoray Stripper C620 Operation_Column Temp Profile_C620 Tray 34 (Control)_oC']"
            ]
          },
          "metadata": {
            "tags": []
          },
          "execution_count": 13
        }
      ]
    },
    {
      "cell_type": "code",
      "metadata": {
        "id": "IaMoBXdSKQ83"
      },
      "source": [
        "x_col = c['case']+c['x41']\n",
        "op_col = c['density']+c['yRefluxRate']+c['yHeatDuty']+c['yControl']"
      ],
      "execution_count": 14,
      "outputs": []
    },
    {
      "cell_type": "code",
      "metadata": {
        "colab": {
          "base_uri": "https://localhost:8080/",
          "height": 411
        },
        "id": "iuQwgUDJPyAt",
        "outputId": "e97dd186-256c-4e32-c0c1-acf8020550e2"
      },
      "source": [
        "c620_df[x_col].head()"
      ],
      "execution_count": 15,
      "outputs": [
        {
          "output_type": "execute_result",
          "data": {
            "text/html": [
              "<div>\n",
              "<style scoped>\n",
              "    .dataframe tbody tr th:only-of-type {\n",
              "        vertical-align: middle;\n",
              "    }\n",
              "\n",
              "    .dataframe tbody tr th {\n",
              "        vertical-align: top;\n",
              "    }\n",
              "\n",
              "    .dataframe thead th {\n",
              "        text-align: right;\n",
              "    }\n",
              "</style>\n",
              "<table border=\"1\" class=\"dataframe\">\n",
              "  <thead>\n",
              "    <tr style=\"text-align: right;\">\n",
              "      <th></th>\n",
              "      <th>Tatoray Stripper C620 Operation_Specifications_Spec 1 : Receiver Temp_oC</th>\n",
              "      <th>Tatoray Stripper C620 Operation_Specifications_Spec 2 : Distillate Rate_m3/hr</th>\n",
              "      <th>Tatoray Stripper C620 Operation_Specifications_Spec 3 : Benzene in Sidedraw_wt%</th>\n",
              "      <th>Combined Feed to Tatoray Stripper C620_Detailed Composition_Hydrogen_wt%</th>\n",
              "      <th>Combined Feed to Tatoray Stripper C620_Detailed Composition_Methane_wt%</th>\n",
              "      <th>Combined Feed to Tatoray Stripper C620_Detailed Composition_Ethane_wt%</th>\n",
              "      <th>Combined Feed to Tatoray Stripper C620_Detailed Composition_Propane_wt%</th>\n",
              "      <th>Combined Feed to Tatoray Stripper C620_Detailed Composition_n-Butane_wt%</th>\n",
              "      <th>Combined Feed to Tatoray Stripper C620_Detailed Composition_n-Pentane_wt%</th>\n",
              "      <th>Combined Feed to Tatoray Stripper C620_Detailed Composition_n-Hexane_wt%</th>\n",
              "      <th>Combined Feed to Tatoray Stripper C620_Detailed Composition_Benzene_wt%</th>\n",
              "      <th>Combined Feed to Tatoray Stripper C620_Detailed Composition_Cyclohexane_wt%</th>\n",
              "      <th>Combined Feed to Tatoray Stripper C620_Detailed Composition_n-Heptane_wt%</th>\n",
              "      <th>Combined Feed to Tatoray Stripper C620_Detailed Composition_Water_wt%</th>\n",
              "      <th>Combined Feed to Tatoray Stripper C620_Detailed Composition_Methylcyclohexane_wt%</th>\n",
              "      <th>Combined Feed to Tatoray Stripper C620_Detailed Composition_Toluene_wt%</th>\n",
              "      <th>Combined Feed to Tatoray Stripper C620_Detailed Composition_n-Octane_wt%</th>\n",
              "      <th>Combined Feed to Tatoray Stripper C620_Detailed Composition_n-Propylcyclopentane_wt%</th>\n",
              "      <th>Combined Feed to Tatoray Stripper C620_Detailed Composition_Ethylcyclohexane_wt%</th>\n",
              "      <th>Combined Feed to Tatoray Stripper C620_Detailed Composition_Ethylbenzene_wt%</th>\n",
              "      <th>Combined Feed to Tatoray Stripper C620_Detailed Composition_p-Xylene_wt%</th>\n",
              "      <th>Combined Feed to Tatoray Stripper C620_Detailed Composition_m-Xylene_wt%</th>\n",
              "      <th>Combined Feed to Tatoray Stripper C620_Detailed Composition_o-Xylene_wt%</th>\n",
              "      <th>Combined Feed to Tatoray Stripper C620_Detailed Composition_n-Nonane_wt%</th>\n",
              "      <th>Combined Feed to Tatoray Stripper C620_Detailed Composition_i-Propylbenzene_wt%</th>\n",
              "      <th>Combined Feed to Tatoray Stripper C620_Detailed Composition_n-Propylcyclohexane_wt%</th>\n",
              "      <th>Combined Feed to Tatoray Stripper C620_Detailed Composition_n-Propylbenzene_wt%</th>\n",
              "      <th>Combined Feed to Tatoray Stripper C620_Detailed Composition_1-Methyl-3-ethylbenzene_wt%</th>\n",
              "      <th>Combined Feed to Tatoray Stripper C620_Detailed Composition_1-Methyl-4-ethylbenzene_wt%</th>\n",
              "      <th>Combined Feed to Tatoray Stripper C620_Detailed Composition_1,3,5-Trimethylbenzene_wt%</th>\n",
              "      <th>Combined Feed to Tatoray Stripper C620_Detailed Composition_1-Methyl-2-ethylbenzene_wt%</th>\n",
              "      <th>Combined Feed to Tatoray Stripper C620_Detailed Composition_1,2,4-Trimethylbenzene_wt%</th>\n",
              "      <th>Combined Feed to Tatoray Stripper C620_Detailed Composition_tert-Butylcyclohexane_wt%</th>\n",
              "      <th>Combined Feed to Tatoray Stripper C620_Detailed Composition_1,2,3-Trimethylbenzene_wt%</th>\n",
              "      <th>Combined Feed to Tatoray Stripper C620_Detailed Composition_Indane_wt%</th>\n",
              "      <th>Combined Feed to Tatoray Stripper C620_Detailed Composition_1-Methyl-4-n-propylbenzene_wt%</th>\n",
              "      <th>Combined Feed to Tatoray Stripper C620_Detailed Composition_1,2-Diethylbenzene_wt%</th>\n",
              "      <th>Combined Feed to Tatoray Stripper C620_Detailed Composition_5-Ethyl-m-xylene_wt%</th>\n",
              "      <th>Combined Feed to Tatoray Stripper C620_Detailed Composition_1,4-Diethylbenzene_wt%</th>\n",
              "      <th>Combined Feed to Tatoray Stripper C620_Detailed Composition_1,2,3,5-Tetramethylbenzene_wt%</th>\n",
              "      <th>Combined Feed to Tatoray Stripper C620_Detailed Composition_n-Pentylbenzene_wt%</th>\n",
              "      <th>Combined Feed to Tatoray Stripper C620_Detailed Composition_n-Hexylbenzene_wt%</th>\n",
              "      <th>Combined Feed to Tatoray Stripper C620_Detailed Composition_Nitrogen_wt%</th>\n",
              "      <th>Combined Feed to Tatoray Stripper C620_Detailed Composition_Oxygen_wt%</th>\n",
              "    </tr>\n",
              "  </thead>\n",
              "  <tbody>\n",
              "    <tr>\n",
              "      <th>2020-09-02</th>\n",
              "      <td>40.670785</td>\n",
              "      <td>0.0</td>\n",
              "      <td>83.631</td>\n",
              "      <td>0</td>\n",
              "      <td>0.019274</td>\n",
              "      <td>0.469690</td>\n",
              "      <td>0.435204</td>\n",
              "      <td>0.134911</td>\n",
              "      <td>0.068302</td>\n",
              "      <td>0.012563</td>\n",
              "      <td>14.741264</td>\n",
              "      <td>0.001656</td>\n",
              "      <td>0.007845</td>\n",
              "      <td>0</td>\n",
              "      <td>0.007084</td>\n",
              "      <td>34.924097</td>\n",
              "      <td>0.007173</td>\n",
              "      <td>0.009680</td>\n",
              "      <td>0.009691</td>\n",
              "      <td>1.050619</td>\n",
              "      <td>7.214699</td>\n",
              "      <td>17.025416</td>\n",
              "      <td>7.844650</td>\n",
              "      <td>0.013065</td>\n",
              "      <td>0.006661</td>\n",
              "      <td>0.001636</td>\n",
              "      <td>0.008142</td>\n",
              "      <td>0.936810</td>\n",
              "      <td>0.490983</td>\n",
              "      <td>2.829603</td>\n",
              "      <td>0.275833</td>\n",
              "      <td>7.227505</td>\n",
              "      <td>0.000002</td>\n",
              "      <td>1.153822</td>\n",
              "      <td>0.037565</td>\n",
              "      <td>0.001119</td>\n",
              "      <td>0.031655</td>\n",
              "      <td>1.223261</td>\n",
              "      <td>0</td>\n",
              "      <td>1.408379</td>\n",
              "      <td>0.259099</td>\n",
              "      <td>0.111042</td>\n",
              "      <td>0</td>\n",
              "      <td>0</td>\n",
              "    </tr>\n",
              "    <tr>\n",
              "      <th>2020-09-03</th>\n",
              "      <td>40.668301</td>\n",
              "      <td>0.0</td>\n",
              "      <td>92.050</td>\n",
              "      <td>0</td>\n",
              "      <td>0.021279</td>\n",
              "      <td>0.518545</td>\n",
              "      <td>0.478666</td>\n",
              "      <td>0.146086</td>\n",
              "      <td>0.071325</td>\n",
              "      <td>0.013139</td>\n",
              "      <td>14.746443</td>\n",
              "      <td>0.001701</td>\n",
              "      <td>0.008162</td>\n",
              "      <td>0</td>\n",
              "      <td>0.007242</td>\n",
              "      <td>34.987041</td>\n",
              "      <td>0.007335</td>\n",
              "      <td>0.009893</td>\n",
              "      <td>0.009905</td>\n",
              "      <td>1.068245</td>\n",
              "      <td>7.183274</td>\n",
              "      <td>16.959900</td>\n",
              "      <td>7.818042</td>\n",
              "      <td>0.013353</td>\n",
              "      <td>0.006637</td>\n",
              "      <td>0.001672</td>\n",
              "      <td>0.008112</td>\n",
              "      <td>0.933381</td>\n",
              "      <td>0.489186</td>\n",
              "      <td>2.819248</td>\n",
              "      <td>0.274824</td>\n",
              "      <td>7.201055</td>\n",
              "      <td>0.000002</td>\n",
              "      <td>1.149599</td>\n",
              "      <td>0.037428</td>\n",
              "      <td>0.001110</td>\n",
              "      <td>0.031392</td>\n",
              "      <td>1.213072</td>\n",
              "      <td>0</td>\n",
              "      <td>1.396648</td>\n",
              "      <td>0.256941</td>\n",
              "      <td>0.110117</td>\n",
              "      <td>0</td>\n",
              "      <td>0</td>\n",
              "    </tr>\n",
              "    <tr>\n",
              "      <th>2020-09-04</th>\n",
              "      <td>40.720125</td>\n",
              "      <td>0.0</td>\n",
              "      <td>89.510</td>\n",
              "      <td>0</td>\n",
              "      <td>0.021169</td>\n",
              "      <td>0.515871</td>\n",
              "      <td>0.475863</td>\n",
              "      <td>0.144802</td>\n",
              "      <td>0.070199</td>\n",
              "      <td>0.012936</td>\n",
              "      <td>14.571750</td>\n",
              "      <td>0.001669</td>\n",
              "      <td>0.008027</td>\n",
              "      <td>0</td>\n",
              "      <td>0.007098</td>\n",
              "      <td>35.032036</td>\n",
              "      <td>0.007188</td>\n",
              "      <td>0.009695</td>\n",
              "      <td>0.009707</td>\n",
              "      <td>1.034434</td>\n",
              "      <td>7.241203</td>\n",
              "      <td>17.076720</td>\n",
              "      <td>7.869818</td>\n",
              "      <td>0.013085</td>\n",
              "      <td>0.006629</td>\n",
              "      <td>0.001638</td>\n",
              "      <td>0.008102</td>\n",
              "      <td>0.932203</td>\n",
              "      <td>0.488569</td>\n",
              "      <td>2.815690</td>\n",
              "      <td>0.274477</td>\n",
              "      <td>7.191970</td>\n",
              "      <td>0.000002</td>\n",
              "      <td>1.148149</td>\n",
              "      <td>0.037380</td>\n",
              "      <td>0.001096</td>\n",
              "      <td>0.031002</td>\n",
              "      <td>1.198012</td>\n",
              "      <td>0</td>\n",
              "      <td>1.379310</td>\n",
              "      <td>0.253751</td>\n",
              "      <td>0.108750</td>\n",
              "      <td>0</td>\n",
              "      <td>0</td>\n",
              "    </tr>\n",
              "    <tr>\n",
              "      <th>2020-09-05</th>\n",
              "      <td>41.111207</td>\n",
              "      <td>0.0</td>\n",
              "      <td>88.480</td>\n",
              "      <td>0</td>\n",
              "      <td>0.020213</td>\n",
              "      <td>0.492562</td>\n",
              "      <td>0.453731</td>\n",
              "      <td>0.137261</td>\n",
              "      <td>0.065602</td>\n",
              "      <td>0.012096</td>\n",
              "      <td>14.979947</td>\n",
              "      <td>0.001549</td>\n",
              "      <td>0.007490</td>\n",
              "      <td>0</td>\n",
              "      <td>0.006575</td>\n",
              "      <td>35.778940</td>\n",
              "      <td>0.006659</td>\n",
              "      <td>0.008979</td>\n",
              "      <td>0.008991</td>\n",
              "      <td>1.016025</td>\n",
              "      <td>7.179767</td>\n",
              "      <td>16.892884</td>\n",
              "      <td>7.782730</td>\n",
              "      <td>0.012120</td>\n",
              "      <td>0.006323</td>\n",
              "      <td>0.001517</td>\n",
              "      <td>0.007728</td>\n",
              "      <td>0.889189</td>\n",
              "      <td>0.466025</td>\n",
              "      <td>2.685767</td>\n",
              "      <td>0.261812</td>\n",
              "      <td>6.860113</td>\n",
              "      <td>0.000002</td>\n",
              "      <td>1.095170</td>\n",
              "      <td>0.035656</td>\n",
              "      <td>0.001042</td>\n",
              "      <td>0.029486</td>\n",
              "      <td>1.139423</td>\n",
              "      <td>0</td>\n",
              "      <td>1.311854</td>\n",
              "      <td>0.241341</td>\n",
              "      <td>0.103432</td>\n",
              "      <td>0</td>\n",
              "      <td>0</td>\n",
              "    </tr>\n",
              "    <tr>\n",
              "      <th>2020-09-06</th>\n",
              "      <td>39.528195</td>\n",
              "      <td>0.0</td>\n",
              "      <td>88.310</td>\n",
              "      <td>0</td>\n",
              "      <td>0.025782</td>\n",
              "      <td>0.628277</td>\n",
              "      <td>0.576062</td>\n",
              "      <td>0.170833</td>\n",
              "      <td>0.077610</td>\n",
              "      <td>0.014343</td>\n",
              "      <td>15.279273</td>\n",
              "      <td>0.001788</td>\n",
              "      <td>0.008812</td>\n",
              "      <td>0</td>\n",
              "      <td>0.007526</td>\n",
              "      <td>35.652813</td>\n",
              "      <td>0.007626</td>\n",
              "      <td>0.010274</td>\n",
              "      <td>0.010288</td>\n",
              "      <td>0.957940</td>\n",
              "      <td>7.155369</td>\n",
              "      <td>16.782917</td>\n",
              "      <td>7.739020</td>\n",
              "      <td>0.013867</td>\n",
              "      <td>0.006213</td>\n",
              "      <td>0.001736</td>\n",
              "      <td>0.007594</td>\n",
              "      <td>0.873793</td>\n",
              "      <td>0.457956</td>\n",
              "      <td>2.639262</td>\n",
              "      <td>0.257278</td>\n",
              "      <td>6.741328</td>\n",
              "      <td>0.000002</td>\n",
              "      <td>1.076207</td>\n",
              "      <td>0.035038</td>\n",
              "      <td>0.001026</td>\n",
              "      <td>0.029033</td>\n",
              "      <td>1.121927</td>\n",
              "      <td>0</td>\n",
              "      <td>1.291710</td>\n",
              "      <td>0.237635</td>\n",
              "      <td>0.101844</td>\n",
              "      <td>0</td>\n",
              "      <td>0</td>\n",
              "    </tr>\n",
              "  </tbody>\n",
              "</table>\n",
              "</div>"
            ],
            "text/plain": [
              "            Tatoray Stripper C620 Operation_Specifications_Spec 1 : Receiver Temp_oC  ...  Combined Feed to Tatoray Stripper C620_Detailed Composition_Oxygen_wt%\n",
              "2020-09-02                                          40.670785                         ...                                                  0                     \n",
              "2020-09-03                                          40.668301                         ...                                                  0                     \n",
              "2020-09-04                                          40.720125                         ...                                                  0                     \n",
              "2020-09-05                                          41.111207                         ...                                                  0                     \n",
              "2020-09-06                                          39.528195                         ...                                                  0                     \n",
              "\n",
              "[5 rows x 44 columns]"
            ]
          },
          "metadata": {
            "tags": []
          },
          "execution_count": 15
        }
      ]
    },
    {
      "cell_type": "code",
      "metadata": {
        "colab": {
          "base_uri": "https://localhost:8080/",
          "height": 357
        },
        "id": "Gt9j9LEGP0Rc",
        "outputId": "f7137f24-4eac-4a65-d703-dfe1073f8ed4"
      },
      "source": [
        "c620_df[op_col].head()"
      ],
      "execution_count": 16,
      "outputs": [
        {
          "output_type": "execute_result",
          "data": {
            "text/html": [
              "<div>\n",
              "<style scoped>\n",
              "    .dataframe tbody tr th:only-of-type {\n",
              "        vertical-align: middle;\n",
              "    }\n",
              "\n",
              "    .dataframe tbody tr th {\n",
              "        vertical-align: top;\n",
              "    }\n",
              "\n",
              "    .dataframe thead th {\n",
              "        text-align: right;\n",
              "    }\n",
              "</style>\n",
              "<table border=\"1\" class=\"dataframe\">\n",
              "  <thead>\n",
              "    <tr style=\"text-align: right;\">\n",
              "      <th></th>\n",
              "      <th>Density_Feed Properties</th>\n",
              "      <th>Density_Vent Gas Production Rate and Composition</th>\n",
              "      <th>Density_Distillate Production Rate and Composition</th>\n",
              "      <th>Density_Sidedraw Production Rate and Composition</th>\n",
              "      <th>Density_Bottoms Production Rate and Composition</th>\n",
              "      <th>Tatoray Stripper C620 Operation_Yield Summary_Reflux Rate_m3/hr</th>\n",
              "      <th>Tatoray Stripper C620 Operation_Heat Duty_Condenser Heat Duty_Mkcal/hr</th>\n",
              "      <th>Tatoray Stripper C620 Operation_Heat Duty_Reboiler Heat Duty_Mkcal/hr</th>\n",
              "      <th>Tatoray Stripper C620 Operation_Column Temp Profile_C620 Tray 14 (Control)_oC</th>\n",
              "      <th>Tatoray Stripper C620 Operation_Column Temp Profile_C620 Tray 34 (Control)_oC</th>\n",
              "    </tr>\n",
              "  </thead>\n",
              "  <tbody>\n",
              "    <tr>\n",
              "      <th>2020-09-02</th>\n",
              "      <td>0.871108</td>\n",
              "      <td>0.453</td>\n",
              "      <td>0.852</td>\n",
              "      <td>0.881</td>\n",
              "      <td>0.874</td>\n",
              "      <td>113.302600</td>\n",
              "      <td>NaN</td>\n",
              "      <td>NaN</td>\n",
              "      <td>151.253142</td>\n",
              "      <td>181.026332</td>\n",
              "    </tr>\n",
              "    <tr>\n",
              "      <th>2020-09-03</th>\n",
              "      <td>0.870640</td>\n",
              "      <td>0.453</td>\n",
              "      <td>0.858</td>\n",
              "      <td>0.882</td>\n",
              "      <td>0.874</td>\n",
              "      <td>110.343856</td>\n",
              "      <td>NaN</td>\n",
              "      <td>NaN</td>\n",
              "      <td>153.642061</td>\n",
              "      <td>181.012689</td>\n",
              "    </tr>\n",
              "    <tr>\n",
              "      <th>2020-09-04</th>\n",
              "      <td>0.866915</td>\n",
              "      <td>0.453</td>\n",
              "      <td>0.853</td>\n",
              "      <td>0.881</td>\n",
              "      <td>0.874</td>\n",
              "      <td>105.019248</td>\n",
              "      <td>NaN</td>\n",
              "      <td>NaN</td>\n",
              "      <td>158.729188</td>\n",
              "      <td>180.954227</td>\n",
              "    </tr>\n",
              "    <tr>\n",
              "      <th>2020-09-05</th>\n",
              "      <td>0.868753</td>\n",
              "      <td>0.453</td>\n",
              "      <td>0.850</td>\n",
              "      <td>0.881</td>\n",
              "      <td>0.874</td>\n",
              "      <td>103.301242</td>\n",
              "      <td>NaN</td>\n",
              "      <td>NaN</td>\n",
              "      <td>160.983370</td>\n",
              "      <td>181.090466</td>\n",
              "    </tr>\n",
              "    <tr>\n",
              "      <th>2020-09-06</th>\n",
              "      <td>0.870628</td>\n",
              "      <td>0.453</td>\n",
              "      <td>0.852</td>\n",
              "      <td>0.882</td>\n",
              "      <td>0.874</td>\n",
              "      <td>101.660750</td>\n",
              "      <td>NaN</td>\n",
              "      <td>NaN</td>\n",
              "      <td>160.788594</td>\n",
              "      <td>180.523647</td>\n",
              "    </tr>\n",
              "  </tbody>\n",
              "</table>\n",
              "</div>"
            ],
            "text/plain": [
              "            Density_Feed Properties  ...  Tatoray Stripper C620 Operation_Column Temp Profile_C620 Tray 34 (Control)_oC\n",
              "2020-09-02                 0.871108  ...                                         181.026332                            \n",
              "2020-09-03                 0.870640  ...                                         181.012689                            \n",
              "2020-09-04                 0.866915  ...                                         180.954227                            \n",
              "2020-09-05                 0.868753  ...                                         181.090466                            \n",
              "2020-09-06                 0.870628  ...                                         180.523647                            \n",
              "\n",
              "[5 rows x 10 columns]"
            ]
          },
          "metadata": {
            "tags": []
          },
          "execution_count": 16
        }
      ]
    },
    {
      "cell_type": "code",
      "metadata": {
        "colab": {
          "base_uri": "https://localhost:8080/"
        },
        "id": "lxpcFN1TRah1",
        "outputId": "a83aca34-909b-4ffb-88f4-a07d7a2bb7dd"
      },
      "source": [
        "y_col = c620_df[op_col].dropna(axis=1).columns.tolist()\n",
        "y_col"
      ],
      "execution_count": 18,
      "outputs": [
        {
          "output_type": "execute_result",
          "data": {
            "text/plain": [
              "['Density_Feed Properties',\n",
              " 'Density_Vent Gas Production Rate and Composition',\n",
              " 'Density_Distillate Production Rate and Composition',\n",
              " 'Density_Sidedraw Production Rate and Composition',\n",
              " 'Density_Bottoms Production Rate and Composition',\n",
              " 'Tatoray Stripper C620 Operation_Yield Summary_Reflux Rate_m3/hr',\n",
              " 'Tatoray Stripper C620 Operation_Column Temp Profile_C620 Tray 14 (Control)_oC',\n",
              " 'Tatoray Stripper C620 Operation_Column Temp Profile_C620 Tray 34 (Control)_oC']"
            ]
          },
          "metadata": {
            "tags": []
          },
          "execution_count": 18
        }
      ]
    },
    {
      "cell_type": "code",
      "metadata": {
        "colab": {
          "base_uri": "https://localhost:8080/",
          "height": 323
        },
        "id": "ZDfnT6YLRmYz",
        "outputId": "cd2dfa4f-ad50-454a-cd68-942e963af068"
      },
      "source": [
        "c620_df[y_col].head()"
      ],
      "execution_count": 19,
      "outputs": [
        {
          "output_type": "execute_result",
          "data": {
            "text/html": [
              "<div>\n",
              "<style scoped>\n",
              "    .dataframe tbody tr th:only-of-type {\n",
              "        vertical-align: middle;\n",
              "    }\n",
              "\n",
              "    .dataframe tbody tr th {\n",
              "        vertical-align: top;\n",
              "    }\n",
              "\n",
              "    .dataframe thead th {\n",
              "        text-align: right;\n",
              "    }\n",
              "</style>\n",
              "<table border=\"1\" class=\"dataframe\">\n",
              "  <thead>\n",
              "    <tr style=\"text-align: right;\">\n",
              "      <th></th>\n",
              "      <th>Density_Feed Properties</th>\n",
              "      <th>Density_Vent Gas Production Rate and Composition</th>\n",
              "      <th>Density_Distillate Production Rate and Composition</th>\n",
              "      <th>Density_Sidedraw Production Rate and Composition</th>\n",
              "      <th>Density_Bottoms Production Rate and Composition</th>\n",
              "      <th>Tatoray Stripper C620 Operation_Yield Summary_Reflux Rate_m3/hr</th>\n",
              "      <th>Tatoray Stripper C620 Operation_Column Temp Profile_C620 Tray 14 (Control)_oC</th>\n",
              "      <th>Tatoray Stripper C620 Operation_Column Temp Profile_C620 Tray 34 (Control)_oC</th>\n",
              "    </tr>\n",
              "  </thead>\n",
              "  <tbody>\n",
              "    <tr>\n",
              "      <th>2020-09-02</th>\n",
              "      <td>0.871108</td>\n",
              "      <td>0.453</td>\n",
              "      <td>0.852</td>\n",
              "      <td>0.881</td>\n",
              "      <td>0.874</td>\n",
              "      <td>113.302600</td>\n",
              "      <td>151.253142</td>\n",
              "      <td>181.026332</td>\n",
              "    </tr>\n",
              "    <tr>\n",
              "      <th>2020-09-03</th>\n",
              "      <td>0.870640</td>\n",
              "      <td>0.453</td>\n",
              "      <td>0.858</td>\n",
              "      <td>0.882</td>\n",
              "      <td>0.874</td>\n",
              "      <td>110.343856</td>\n",
              "      <td>153.642061</td>\n",
              "      <td>181.012689</td>\n",
              "    </tr>\n",
              "    <tr>\n",
              "      <th>2020-09-04</th>\n",
              "      <td>0.866915</td>\n",
              "      <td>0.453</td>\n",
              "      <td>0.853</td>\n",
              "      <td>0.881</td>\n",
              "      <td>0.874</td>\n",
              "      <td>105.019248</td>\n",
              "      <td>158.729188</td>\n",
              "      <td>180.954227</td>\n",
              "    </tr>\n",
              "    <tr>\n",
              "      <th>2020-09-05</th>\n",
              "      <td>0.868753</td>\n",
              "      <td>0.453</td>\n",
              "      <td>0.850</td>\n",
              "      <td>0.881</td>\n",
              "      <td>0.874</td>\n",
              "      <td>103.301242</td>\n",
              "      <td>160.983370</td>\n",
              "      <td>181.090466</td>\n",
              "    </tr>\n",
              "    <tr>\n",
              "      <th>2020-09-06</th>\n",
              "      <td>0.870628</td>\n",
              "      <td>0.453</td>\n",
              "      <td>0.852</td>\n",
              "      <td>0.882</td>\n",
              "      <td>0.874</td>\n",
              "      <td>101.660750</td>\n",
              "      <td>160.788594</td>\n",
              "      <td>180.523647</td>\n",
              "    </tr>\n",
              "  </tbody>\n",
              "</table>\n",
              "</div>"
            ],
            "text/plain": [
              "            Density_Feed Properties  ...  Tatoray Stripper C620 Operation_Column Temp Profile_C620 Tray 34 (Control)_oC\n",
              "2020-09-02                 0.871108  ...                                         181.026332                            \n",
              "2020-09-03                 0.870640  ...                                         181.012689                            \n",
              "2020-09-04                 0.866915  ...                                         180.954227                            \n",
              "2020-09-05                 0.868753  ...                                         181.090466                            \n",
              "2020-09-06                 0.870628  ...                                         180.523647                            \n",
              "\n",
              "[5 rows x 8 columns]"
            ]
          },
          "metadata": {
            "tags": []
          },
          "execution_count": 19
        }
      ]
    },
    {
      "cell_type": "markdown",
      "metadata": {
        "id": "a18T2VrXRvtx"
      },
      "source": [
        "# 1. 實驗直接訓練 (不使用預訓練模型)"
      ]
    },
    {
      "cell_type": "code",
      "metadata": {
        "colab": {
          "base_uri": "https://localhost:8080/",
          "height": 401
        },
        "id": "s6icTkbYQiJF",
        "outputId": "4d7cfb15-e03b-4334-9afa-de445e71d446"
      },
      "source": [
        "from autorch.utils import PartBulider\n",
        "c620 = PartBulider(c620_df,x_col,y_col,limit_y_range=True)\n",
        "c620.train()"
      ],
      "execution_count": 20,
      "outputs": [
        {
          "output_type": "stream",
          "text": [
            "  4%|▎         | 11/300 [00:00<00:57,  5.00it/s]"
          ],
          "name": "stderr"
        },
        {
          "output_type": "stream",
          "text": [
            "epoch:0 train_loss:0.0429 valid_loss:0.0267\n"
          ],
          "name": "stdout"
        },
        {
          "output_type": "stream",
          "text": [
            " 21%|██        | 63/300 [00:00<00:09, 23.82it/s]"
          ],
          "name": "stderr"
        },
        {
          "output_type": "stream",
          "text": [
            "epoch:50 train_loss:0.0033 valid_loss:0.0051\n"
          ],
          "name": "stdout"
        },
        {
          "output_type": "stream",
          "text": [
            " 38%|███▊      | 114/300 [00:01<00:02, 64.49it/s]"
          ],
          "name": "stderr"
        },
        {
          "output_type": "stream",
          "text": [
            "epoch:100 train_loss:0.0027 valid_loss:0.0054\n"
          ],
          "name": "stdout"
        },
        {
          "output_type": "stream",
          "text": [
            " 56%|█████▌    | 167/300 [00:01<00:01, 91.71it/s]"
          ],
          "name": "stderr"
        },
        {
          "output_type": "stream",
          "text": [
            "epoch:150 train_loss:0.0022 valid_loss:0.0054\n"
          ],
          "name": "stdout"
        },
        {
          "output_type": "stream",
          "text": [
            " 70%|███████   | 211/300 [00:02<00:00, 98.38it/s] "
          ],
          "name": "stderr"
        },
        {
          "output_type": "stream",
          "text": [
            "epoch:200 train_loss:0.0020 valid_loss:0.0057\n"
          ],
          "name": "stdout"
        },
        {
          "output_type": "stream",
          "text": [
            " 87%|████████▋ | 260/300 [00:03<00:00, 78.95it/s]"
          ],
          "name": "stderr"
        },
        {
          "output_type": "stream",
          "text": [
            "epoch:250 train_loss:0.0018 valid_loss:0.0062\n"
          ],
          "name": "stdout"
        },
        {
          "output_type": "stream",
          "text": [
            "100%|██████████| 300/300 [00:03<00:00, 85.38it/s]\n"
          ],
          "name": "stderr"
        },
        {
          "output_type": "display_data",
          "data": {
            "image/png": "[encoded data removed]",
            "text/plain": [
              "<Figure size 432x288 with 1 Axes>"
            ]
          },
          "metadata": {
            "tags": [],
            "needs_background": "light"
          }
        },
        {
          "output_type": "execute_result",
          "data": {
            "text/plain": [
              "<autorch.utils.part.PartBulider at 0x7f918a5a6710>"
            ]
          },
          "metadata": {
            "tags": []
          },
          "execution_count": 20
        }
      ]
    },
    {
      "cell_type": "code",
      "metadata": {
        "colab": {
          "base_uri": "https://localhost:8080/",
          "height": 328
        },
        "id": "BzLHL_YsQkMC",
        "outputId": "b4b22cc6-3177-4fa1-83ea-f346602fcec1"
      },
      "source": [
        "c620.test(e=2e-2)"
      ],
      "execution_count": 22,
      "outputs": [
        {
          "output_type": "execute_result",
          "data": {
            "text/html": [
              "<div>\n",
              "<style scoped>\n",
              "    .dataframe tbody tr th:only-of-type {\n",
              "        vertical-align: middle;\n",
              "    }\n",
              "\n",
              "    .dataframe tbody tr th {\n",
              "        vertical-align: top;\n",
              "    }\n",
              "\n",
              "    .dataframe thead th {\n",
              "        text-align: right;\n",
              "    }\n",
              "</style>\n",
              "<table border=\"1\" class=\"dataframe\">\n",
              "  <thead>\n",
              "    <tr style=\"text-align: right;\">\n",
              "      <th></th>\n",
              "      <th>R2</th>\n",
              "      <th>MSE</th>\n",
              "      <th>MAPE</th>\n",
              "    </tr>\n",
              "  </thead>\n",
              "  <tbody>\n",
              "    <tr>\n",
              "      <th>Density_Feed Properties</th>\n",
              "      <td>0.114673</td>\n",
              "      <td>1.18403e-06</td>\n",
              "      <td>0.102126</td>\n",
              "    </tr>\n",
              "    <tr>\n",
              "      <th>Density_Vent Gas Production Rate and Composition</th>\n",
              "      <td>0</td>\n",
              "      <td>7.07559e-05</td>\n",
              "      <td>1.43504</td>\n",
              "    </tr>\n",
              "    <tr>\n",
              "      <th>Density_Distillate Production Rate and Composition</th>\n",
              "      <td>0.766711</td>\n",
              "      <td>6.11718e-06</td>\n",
              "      <td>0.241504</td>\n",
              "    </tr>\n",
              "    <tr>\n",
              "      <th>Density_Sidedraw Production Rate and Composition</th>\n",
              "      <td>0</td>\n",
              "      <td>3.36955e-07</td>\n",
              "      <td>0.0452931</td>\n",
              "    </tr>\n",
              "    <tr>\n",
              "      <th>Density_Bottoms Production Rate and Composition</th>\n",
              "      <td>0.479919</td>\n",
              "      <td>3.20327e-07</td>\n",
              "      <td>0.0629128</td>\n",
              "    </tr>\n",
              "    <tr>\n",
              "      <th>Tatoray Stripper C620 Operation_Yield Summary_Reflux Rate_m3/hr</th>\n",
              "      <td>0.472425</td>\n",
              "      <td>16.6547</td>\n",
              "      <td>3.32314</td>\n",
              "    </tr>\n",
              "    <tr>\n",
              "      <th>Tatoray Stripper C620 Operation_Column Temp Profile_C620 Tray 14 (Control)_oC</th>\n",
              "      <td>0</td>\n",
              "      <td>5.67314</td>\n",
              "      <td>1.32646</td>\n",
              "    </tr>\n",
              "    <tr>\n",
              "      <th>Tatoray Stripper C620 Operation_Column Temp Profile_C620 Tray 34 (Control)_oC</th>\n",
              "      <td>0</td>\n",
              "      <td>1.05781</td>\n",
              "      <td>0.388724</td>\n",
              "    </tr>\n",
              "    <tr>\n",
              "      <th>AVG</th>\n",
              "      <td>0.229216</td>\n",
              "      <td>2.92322</td>\n",
              "      <td>0.86565</td>\n",
              "    </tr>\n",
              "  </tbody>\n",
              "</table>\n",
              "</div>"
            ],
            "text/plain": [
              "                                                          R2  ...       MAPE\n",
              "Density_Feed Properties                             0.114673  ...   0.102126\n",
              "Density_Vent Gas Production Rate and Composition           0  ...    1.43504\n",
              "Density_Distillate Production Rate and Composition  0.766711  ...   0.241504\n",
              "Density_Sidedraw Production Rate and Composition           0  ...  0.0452931\n",
              "Density_Bottoms Production Rate and Composition     0.479919  ...  0.0629128\n",
              "Tatoray Stripper C620 Operation_Yield Summary_R...  0.472425  ...    3.32314\n",
              "Tatoray Stripper C620 Operation_Column Temp Pro...         0  ...    1.32646\n",
              "Tatoray Stripper C620 Operation_Column Temp Pro...         0  ...   0.388724\n",
              "AVG                                                 0.229216  ...    0.86565\n",
              "\n",
              "[9 rows x 3 columns]"
            ]
          },
          "metadata": {
            "tags": []
          },
          "execution_count": 22
        }
      ]
    },
    {
      "cell_type": "markdown",
      "metadata": {
        "id": "hACfpgAOSCJJ"
      },
      "source": [
        "# 2.使用預訓練模型"
      ]
    },
    {
      "cell_type": "markdown",
      "metadata": {
        "id": "WeKSkdwaTJfO"
      },
      "source": [
        "2.1 用模擬數據先預訓練一個模型"
      ]
    },
    {
      "cell_type": "code",
      "metadata": {
        "colab": {
          "base_uri": "https://localhost:8080/",
          "height": 401
        },
        "id": "7Y4PRpDKQkO0",
        "outputId": "cc208233-471a-4d1f-f9f4-a26961844483"
      },
      "source": [
        "c620_df = pd.read_csv('/content/drive/MyDrive/台塑輕油案子/data/c620/cleaned/c620_train.csv',index_col=0).dropna(axis=0)\n",
        "c620 = PartBulider(c620_df,x_col,y_col,limit_y_range=True)\n",
        "c620.train()"
      ],
      "execution_count": 23,
      "outputs": [
        {
          "output_type": "stream",
          "text": [
            "  0%|          | 1/300 [00:00<03:17,  1.51it/s]"
          ],
          "name": "stderr"
        },
        {
          "output_type": "stream",
          "text": [
            "epoch:0 train_loss:0.0052 valid_loss:0.0004\n"
          ],
          "name": "stdout"
        },
        {
          "output_type": "stream",
          "text": [
            " 17%|█▋        | 51/300 [00:37<03:04,  1.35it/s]"
          ],
          "name": "stderr"
        },
        {
          "output_type": "stream",
          "text": [
            "epoch:50 train_loss:0.0000 valid_loss:0.0000\n"
          ],
          "name": "stdout"
        },
        {
          "output_type": "stream",
          "text": [
            " 34%|███▎      | 101/300 [01:16<02:35,  1.28it/s]"
          ],
          "name": "stderr"
        },
        {
          "output_type": "stream",
          "text": [
            "epoch:100 train_loss:0.0000 valid_loss:0.0000\n"
          ],
          "name": "stdout"
        },
        {
          "output_type": "stream",
          "text": [
            " 50%|█████     | 151/300 [01:56<02:03,  1.21it/s]"
          ],
          "name": "stderr"
        },
        {
          "output_type": "stream",
          "text": [
            "epoch:150 train_loss:0.0000 valid_loss:0.0000\n"
          ],
          "name": "stdout"
        },
        {
          "output_type": "stream",
          "text": [
            " 67%|██████▋   | 201/300 [02:40<01:30,  1.09it/s]"
          ],
          "name": "stderr"
        },
        {
          "output_type": "stream",
          "text": [
            "epoch:200 train_loss:0.0000 valid_loss:0.0000\n"
          ],
          "name": "stdout"
        },
        {
          "output_type": "stream",
          "text": [
            " 84%|████████▎ | 251/300 [03:29<00:48,  1.00it/s]"
          ],
          "name": "stderr"
        },
        {
          "output_type": "stream",
          "text": [
            "epoch:250 train_loss:0.0000 valid_loss:0.0000\n"
          ],
          "name": "stdout"
        },
        {
          "output_type": "stream",
          "text": [
            "100%|██████████| 300/300 [04:20<00:00,  1.15it/s]\n"
          ],
          "name": "stderr"
        },
        {
          "output_type": "display_data",
          "data": {
            "image/png": "[encoded data removed]",
            "text/plain": [
              "<Figure size 432x288 with 1 Axes>"
            ]
          },
          "metadata": {
            "tags": [],
            "needs_background": "light"
          }
        },
        {
          "output_type": "execute_result",
          "data": {
            "text/plain": [
              "<autorch.utils.part.PartBulider at 0x7f91903aca50>"
            ]
          },
          "metadata": {
            "tags": []
          },
          "execution_count": 23
        }
      ]
    },
    {
      "cell_type": "code",
      "metadata": {
        "colab": {
          "base_uri": "https://localhost:8080/",
          "height": 328
        },
        "id": "bixk9_ejTdCp",
        "outputId": "ffe4bfbd-4650-4053-cc92-7d358c061fb6"
      },
      "source": [
        "c620.test(e=2e-2)"
      ],
      "execution_count": 24,
      "outputs": [
        {
          "output_type": "execute_result",
          "data": {
            "text/html": [
              "<div>\n",
              "<style scoped>\n",
              "    .dataframe tbody tr th:only-of-type {\n",
              "        vertical-align: middle;\n",
              "    }\n",
              "\n",
              "    .dataframe tbody tr th {\n",
              "        vertical-align: top;\n",
              "    }\n",
              "\n",
              "    .dataframe thead th {\n",
              "        text-align: right;\n",
              "    }\n",
              "</style>\n",
              "<table border=\"1\" class=\"dataframe\">\n",
              "  <thead>\n",
              "    <tr style=\"text-align: right;\">\n",
              "      <th></th>\n",
              "      <th>R2</th>\n",
              "      <th>MSE</th>\n",
              "      <th>MAPE</th>\n",
              "    </tr>\n",
              "  </thead>\n",
              "  <tbody>\n",
              "    <tr>\n",
              "      <th>Density_Feed Properties</th>\n",
              "      <td>0.999999</td>\n",
              "      <td>1.84251e-12</td>\n",
              "      <td>0.000132221</td>\n",
              "    </tr>\n",
              "    <tr>\n",
              "      <th>Density_Vent Gas Production Rate and Composition</th>\n",
              "      <td>0.999935</td>\n",
              "      <td>1.49103e-09</td>\n",
              "      <td>0.00597531</td>\n",
              "    </tr>\n",
              "    <tr>\n",
              "      <th>Density_Distillate Production Rate and Composition</th>\n",
              "      <td>0.999975</td>\n",
              "      <td>2.65317e-09</td>\n",
              "      <td>0.00495871</td>\n",
              "    </tr>\n",
              "    <tr>\n",
              "      <th>Density_Sidedraw Production Rate and Composition</th>\n",
              "      <td>0.999996</td>\n",
              "      <td>4.29769e-12</td>\n",
              "      <td>0.000175646</td>\n",
              "    </tr>\n",
              "    <tr>\n",
              "      <th>Density_Bottoms Production Rate and Composition</th>\n",
              "      <td>0.999994</td>\n",
              "      <td>1.01903e-13</td>\n",
              "      <td>2.68617e-05</td>\n",
              "    </tr>\n",
              "    <tr>\n",
              "      <th>Tatoray Stripper C620 Operation_Yield Summary_Reflux Rate_m3/hr</th>\n",
              "      <td>0.999981</td>\n",
              "      <td>0.00249452</td>\n",
              "      <td>0.0301741</td>\n",
              "    </tr>\n",
              "    <tr>\n",
              "      <th>Tatoray Stripper C620 Operation_Column Temp Profile_C620 Tray 14 (Control)_oC</th>\n",
              "      <td>0.999994</td>\n",
              "      <td>7.78802e-06</td>\n",
              "      <td>0.00118899</td>\n",
              "    </tr>\n",
              "    <tr>\n",
              "      <th>Tatoray Stripper C620 Operation_Column Temp Profile_C620 Tray 34 (Control)_oC</th>\n",
              "      <td>0.999993</td>\n",
              "      <td>5.14227e-06</td>\n",
              "      <td>0.000809896</td>\n",
              "    </tr>\n",
              "    <tr>\n",
              "      <th>AVG</th>\n",
              "      <td>0.999984</td>\n",
              "      <td>0.000313432</td>\n",
              "      <td>0.00543022</td>\n",
              "    </tr>\n",
              "  </tbody>\n",
              "</table>\n",
              "</div>"
            ],
            "text/plain": [
              "                                                          R2  ...         MAPE\n",
              "Density_Feed Properties                             0.999999  ...  0.000132221\n",
              "Density_Vent Gas Production Rate and Composition    0.999935  ...   0.00597531\n",
              "Density_Distillate Production Rate and Composition  0.999975  ...   0.00495871\n",
              "Density_Sidedraw Production Rate and Composition    0.999996  ...  0.000175646\n",
              "Density_Bottoms Production Rate and Composition     0.999994  ...  2.68617e-05\n",
              "Tatoray Stripper C620 Operation_Yield Summary_R...  0.999981  ...    0.0301741\n",
              "Tatoray Stripper C620 Operation_Column Temp Pro...  0.999994  ...   0.00118899\n",
              "Tatoray Stripper C620 Operation_Column Temp Pro...  0.999993  ...  0.000809896\n",
              "AVG                                                 0.999984  ...   0.00543022\n",
              "\n",
              "[9 rows x 3 columns]"
            ]
          },
          "metadata": {
            "tags": []
          },
          "execution_count": 24
        }
      ]
    },
    {
      "cell_type": "markdown",
      "metadata": {
        "id": "Dp2QVIWITP77"
      },
      "source": [
        "2.2 把預訓練好的模型抽出來"
      ]
    },
    {
      "cell_type": "code",
      "metadata": {
        "colab": {
          "base_uri": "https://localhost:8080/"
        },
        "id": "zVYPD8gxQkR2",
        "outputId": "ca9e5958-da10-4226-add7-b412d2ab8436"
      },
      "source": [
        "import copy\n",
        "from copy import deepcopy\n",
        "pretrain_net = deepcopy(c620.net)\n",
        "pretrain_net"
      ],
      "execution_count": 26,
      "outputs": [
        {
          "output_type": "execute_result",
          "data": {
            "text/plain": [
              "Sequential(\n",
              "  (0): Linear(in_features=44, out_features=256, bias=True)\n",
              "  (1): ReLU()\n",
              "  (2): Linear(in_features=256, out_features=256, bias=True)\n",
              "  (3): ReLU()\n",
              "  (4): Linear(in_features=256, out_features=8, bias=True)\n",
              "  (5): Sigmoid()\n",
              ")"
            ]
          },
          "metadata": {
            "tags": []
          },
          "execution_count": 26
        }
      ]
    },
    {
      "cell_type": "markdown",
      "metadata": {
        "id": "LZK_slJWUVDg"
      },
      "source": [
        "2.3 在預訓練模型上丟進真實資料繼續訓練"
      ]
    },
    {
      "cell_type": "code",
      "metadata": {
        "colab": {
          "base_uri": "https://localhost:8080/",
          "height": 401
        },
        "id": "viiNO3m2UAIl",
        "outputId": "f79509ee-50f8-4502-ddc8-ceea29526c81"
      },
      "source": [
        "from torch.optim import Adam\n",
        "c620_df = pd.read_excel('/content/drive/MyDrive/台塑輕油案子/data/c620/明志_遷移式學習_訓練資料_寄送版/c620_data.xlsx',index_col=0)\n",
        "c620 = PartBulider(c620_df,x_col,y_col,limit_y_range=True)\n",
        "c620.net = pretrain_net\n",
        "c620.optimizer = Adam(c620.net.parameters(),lr=0.001)\n",
        "c620.train()"
      ],
      "execution_count": 28,
      "outputs": [
        {
          "output_type": "stream",
          "text": [
            "  7%|▋         | 20/300 [00:00<00:02, 94.35it/s]"
          ],
          "name": "stderr"
        },
        {
          "output_type": "stream",
          "text": [
            "epoch:0 train_loss:0.0841 valid_loss:0.0639\n"
          ],
          "name": "stdout"
        },
        {
          "output_type": "stream",
          "text": [
            " 21%|██▏       | 64/300 [00:00<00:02, 83.64it/s]"
          ],
          "name": "stderr"
        },
        {
          "output_type": "stream",
          "text": [
            "epoch:50 train_loss:0.0041 valid_loss:0.0041\n"
          ],
          "name": "stdout"
        },
        {
          "output_type": "stream",
          "text": [
            " 37%|███▋      | 112/300 [00:01<00:02, 90.19it/s]"
          ],
          "name": "stderr"
        },
        {
          "output_type": "stream",
          "text": [
            "epoch:100 train_loss:0.0031 valid_loss:0.0034\n"
          ],
          "name": "stdout"
        },
        {
          "output_type": "stream",
          "text": [
            " 54%|█████▍    | 163/300 [00:01<00:01, 92.39it/s]"
          ],
          "name": "stderr"
        },
        {
          "output_type": "stream",
          "text": [
            "epoch:150 train_loss:0.0026 valid_loss:0.0033\n"
          ],
          "name": "stdout"
        },
        {
          "output_type": "stream",
          "text": [
            " 71%|███████▏  | 214/300 [00:02<00:00, 95.35it/s]"
          ],
          "name": "stderr"
        },
        {
          "output_type": "stream",
          "text": [
            "epoch:200 train_loss:0.0022 valid_loss:0.0032\n"
          ],
          "name": "stdout"
        },
        {
          "output_type": "stream",
          "text": [
            " 87%|████████▋ | 260/300 [00:02<00:00, 77.30it/s]"
          ],
          "name": "stderr"
        },
        {
          "output_type": "stream",
          "text": [
            "epoch:250 train_loss:0.0018 valid_loss:0.0032\n"
          ],
          "name": "stdout"
        },
        {
          "output_type": "stream",
          "text": [
            "100%|██████████| 300/300 [00:03<00:00, 86.78it/s]\n"
          ],
          "name": "stderr"
        },
        {
          "output_type": "display_data",
          "data": {
            "image/png": "[encoded data removed]",
            "text/plain": [
              "<Figure size 432x288 with 1 Axes>"
            ]
          },
          "metadata": {
            "tags": [],
            "needs_background": "light"
          }
        },
        {
          "output_type": "execute_result",
          "data": {
            "text/plain": [
              "<autorch.utils.part.PartBulider at 0x7f912ce42150>"
            ]
          },
          "metadata": {
            "tags": []
          },
          "execution_count": 28
        }
      ]
    },
    {
      "cell_type": "code",
      "metadata": {
        "colab": {
          "base_uri": "https://localhost:8080/",
          "height": 328
        },
        "id": "ANAtT_f_QkUy",
        "outputId": "e5ef4159-a1ac-421a-d46b-61b1ca6b65d8"
      },
      "source": [
        "c620.test(e=2e-2)"
      ],
      "execution_count": 29,
      "outputs": [
        {
          "output_type": "execute_result",
          "data": {
            "text/html": [
              "<div>\n",
              "<style scoped>\n",
              "    .dataframe tbody tr th:only-of-type {\n",
              "        vertical-align: middle;\n",
              "    }\n",
              "\n",
              "    .dataframe tbody tr th {\n",
              "        vertical-align: top;\n",
              "    }\n",
              "\n",
              "    .dataframe thead th {\n",
              "        text-align: right;\n",
              "    }\n",
              "</style>\n",
              "<table border=\"1\" class=\"dataframe\">\n",
              "  <thead>\n",
              "    <tr style=\"text-align: right;\">\n",
              "      <th></th>\n",
              "      <th>R2</th>\n",
              "      <th>MSE</th>\n",
              "      <th>MAPE</th>\n",
              "    </tr>\n",
              "  </thead>\n",
              "  <tbody>\n",
              "    <tr>\n",
              "      <th>Density_Feed Properties</th>\n",
              "      <td>0.0817557</td>\n",
              "      <td>5.06711e-06</td>\n",
              "      <td>0.13722</td>\n",
              "    </tr>\n",
              "    <tr>\n",
              "      <th>Density_Vent Gas Production Rate and Composition</th>\n",
              "      <td>0</td>\n",
              "      <td>4.23263e-06</td>\n",
              "      <td>0.391301</td>\n",
              "    </tr>\n",
              "    <tr>\n",
              "      <th>Density_Distillate Production Rate and Composition</th>\n",
              "      <td>0.604351</td>\n",
              "      <td>4.46303e-06</td>\n",
              "      <td>0.193896</td>\n",
              "    </tr>\n",
              "    <tr>\n",
              "      <th>Density_Sidedraw Production Rate and Composition</th>\n",
              "      <td>0.503192</td>\n",
              "      <td>2.30364e-07</td>\n",
              "      <td>0.0389827</td>\n",
              "    </tr>\n",
              "    <tr>\n",
              "      <th>Density_Bottoms Production Rate and Composition</th>\n",
              "      <td>0.370944</td>\n",
              "      <td>3.87446e-07</td>\n",
              "      <td>0.0584379</td>\n",
              "    </tr>\n",
              "    <tr>\n",
              "      <th>Tatoray Stripper C620 Operation_Yield Summary_Reflux Rate_m3/hr</th>\n",
              "      <td>0.727534</td>\n",
              "      <td>6.31963</td>\n",
              "      <td>1.76351</td>\n",
              "    </tr>\n",
              "    <tr>\n",
              "      <th>Tatoray Stripper C620 Operation_Column Temp Profile_C620 Tray 14 (Control)_oC</th>\n",
              "      <td>0.697235</td>\n",
              "      <td>4.41948</td>\n",
              "      <td>1.08096</td>\n",
              "    </tr>\n",
              "    <tr>\n",
              "      <th>Tatoray Stripper C620 Operation_Column Temp Profile_C620 Tray 34 (Control)_oC</th>\n",
              "      <td>0.787747</td>\n",
              "      <td>0.483073</td>\n",
              "      <td>0.310769</td>\n",
              "    </tr>\n",
              "    <tr>\n",
              "      <th>AVG</th>\n",
              "      <td>0.471595</td>\n",
              "      <td>1.40277</td>\n",
              "      <td>0.496885</td>\n",
              "    </tr>\n",
              "  </tbody>\n",
              "</table>\n",
              "</div>"
            ],
            "text/plain": [
              "                                                           R2  ...       MAPE\n",
              "Density_Feed Properties                             0.0817557  ...    0.13722\n",
              "Density_Vent Gas Production Rate and Composition            0  ...   0.391301\n",
              "Density_Distillate Production Rate and Composition   0.604351  ...   0.193896\n",
              "Density_Sidedraw Production Rate and Composition     0.503192  ...  0.0389827\n",
              "Density_Bottoms Production Rate and Composition      0.370944  ...  0.0584379\n",
              "Tatoray Stripper C620 Operation_Yield Summary_R...   0.727534  ...    1.76351\n",
              "Tatoray Stripper C620 Operation_Column Temp Pro...   0.697235  ...    1.08096\n",
              "Tatoray Stripper C620 Operation_Column Temp Pro...   0.787747  ...   0.310769\n",
              "AVG                                                  0.471595  ...   0.496885\n",
              "\n",
              "[9 rows x 3 columns]"
            ]
          },
          "metadata": {
            "tags": []
          },
          "execution_count": 29
        }
      ]
    },
    {
      "cell_type": "code",
      "metadata": {
        "id": "X-sT25-jUfOt"
      },
      "source": [
        "c620.shrink()"
      ],
      "execution_count": 30,
      "outputs": []
    },
    {
      "cell_type": "code",
      "metadata": {
        "colab": {
          "base_uri": "https://localhost:8080/"
        },
        "id": "eI7nG4O-U8Am",
        "outputId": "3d96a0e7-0f51-4dab-a463-cbb976f99a9c"
      },
      "source": [
        "joblib.dump(c620,'/content/drive/MyDrive/台塑輕油案子/data/c620/model/c620_op_real_data.pkl')"
      ],
      "execution_count": 31,
      "outputs": [
        {
          "output_type": "execute_result",
          "data": {
            "text/plain": [
              "['/content/drive/MyDrive/台塑輕油案子/data/c620/model/c620_op_real_data.pkl']"
            ]
          },
          "metadata": {
            "tags": []
          },
          "execution_count": 31
        }
      ]
    },
    {
      "cell_type": "code",
      "metadata": {
        "id": "WaCC7PUMVISe"
      },
      "source": [
        ""
      ],
      "execution_count": null,
      "outputs": []
    }
  ]
}