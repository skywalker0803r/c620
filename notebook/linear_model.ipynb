{
  "nbformat": 4,
  "nbformat_minor": 0,
  "metadata": {
    "colab": {
      "name": "linear_model.ipynb",
      "provenance": [],
      "mount_file_id": "1x-Mn6MMjQB-crnviebKrqN8_89TnrkEp",
      "authorship_tag": "ABX9TyPh0PMkxvhk7SejOB0xG/iC",
      "include_colab_link": true
    },
    "kernelspec": {
      "name": "python3",
      "display_name": "Python 3"
    },
    "language_info": {
      "name": "python"
    }
  },
  "cells": [
    {
      "cell_type": "markdown",
      "metadata": {
        "id": "view-in-github",
        "colab_type": "text"
      },
      "source": [
        "<a href=\"https://colab.research.google.com/github/skywalker0803r/c620/blob/main/notebook/linear_model.ipynb\" target=\"_parent\"><img src=\"https://colab.research.google.com/assets/colab-badge.svg\" alt=\"Open In Colab\"/></a>"
      ]
    },
    {
      "cell_type": "code",
      "metadata": {
        "id": "uOGQX9YjqMju"
      },
      "source": [
        "!pip install autorch >log.txt"
      ],
      "execution_count": 1,
      "outputs": []
    },
    {
      "cell_type": "code",
      "metadata": {
        "id": "tKnv94HhqT5K"
      },
      "source": [
        "import pandas as pd\n",
        "import joblib\n",
        "import autorch\n",
        "from torch import nn#\n",
        "from torch.optim import Adam\n",
        "max_epochs = 15"
      ],
      "execution_count": 37,
      "outputs": []
    },
    {
      "cell_type": "markdown",
      "metadata": {
        "id": "SDKVxW1evK09"
      },
      "source": [
        "# c620 模擬數據"
      ]
    },
    {
      "cell_type": "code",
      "metadata": {
        "colab": {
          "base_uri": "https://localhost:8080/",
          "height": 333
        },
        "id": "CNpU0VnpqcgK",
        "outputId": "bd7cbab3-1d33-46b7-ce4c-121fb1a57f3c"
      },
      "source": [
        "# load data\n",
        "c620_df = pd.read_csv('/content/drive/MyDrive/台塑輕油案子/data/c620/cleaned/c620_train.csv',index_col=0)\n",
        "c620_df_real = pd.read_excel('/content/drive/MyDrive/台塑輕油案子/data/c620/明志_遷移式學習_訓練資料_寄送版/c620_data.xlsx',index_col=0)\n",
        "c = joblib.load('/content/drive/MyDrive/台塑輕油案子/data/c620/col_names/c620_col_names.pkl')\n",
        "print(c.keys())\n",
        "# def col\n",
        "x_col = c['case']+c['x41']\n",
        "op_col = c['density']+c['yRefluxRate']+c['yHeatDuty']+c['yControl']\n",
        "op_col = c620_df_real[op_col].dropna(axis=1).columns.tolist()\n",
        "sp_col = c['vent_gas_sf']+c['distillate_sf']+c['sidedraw_sf']+c['bottoms_sf']\n",
        "n_idx = [[i,i+41,i+41*2,i+41*3] for i in range(41)]\n",
        "\n",
        "# modeling\n",
        "c620_model = autorch.utils.PartBulider(c620_df,x_col,sp_col+op_col,limit_y_range=False,normalize_idx_list=n_idx,max_epochs=max_epochs)\n",
        "c620_model.net = nn.Linear(len(x_col),len(sp_col)+len(op_col))\n",
        "c620_model.optimizer = Adam(c620_model.net.parameters(),lr=0.01)\n",
        "c620_model.train()"
      ],
      "execution_count": 38,
      "outputs": [
        {
          "output_type": "stream",
          "text": [
            "\r  0%|          | 0/15 [00:00<?, ?it/s]"
          ],
          "name": "stderr"
        },
        {
          "output_type": "stream",
          "text": [
            "dict_keys(['x41', 'case', 'yRefluxRate', 'yControl', 'yHeatDuty', 'vent_gas_x', 'distillate_x', 'sidedraw_x', 'bottoms_x', 'vent_gas_sf', 'distillate_sf', 'sidedraw_sf', 'bottoms_sf', 'density'])\n"
          ],
          "name": "stdout"
        },
        {
          "output_type": "stream",
          "text": [
            "\r  7%|▋         | 1/15 [00:00<00:03,  4.55it/s]"
          ],
          "name": "stderr"
        },
        {
          "output_type": "stream",
          "text": [
            "epoch:0 train_loss:2.5403 valid_loss:2.2044\n"
          ],
          "name": "stdout"
        },
        {
          "output_type": "stream",
          "text": [
            "100%|██████████| 15/15 [00:03<00:00,  4.68it/s]\n"
          ],
          "name": "stderr"
        },
        {
          "output_type": "display_data",
          "data": {
            "image/png": "[encoded data removed]",
            "text/plain": [
              "<Figure size 432x288 with 1 Axes>"
            ]
          },
          "metadata": {
            "tags": [],
            "needs_background": "light"
          }
        },
        {
          "output_type": "execute_result",
          "data": {
            "text/plain": [
              "<autorch.utils.part.PartBulider at 0x7ff711dd4e90>"
            ]
          },
          "metadata": {
            "tags": []
          },
          "execution_count": 38
        }
      ]
    },
    {
      "cell_type": "code",
      "metadata": {
        "colab": {
          "base_uri": "https://localhost:8080/",
          "height": 419
        },
        "id": "U5DGlA4HqsRU",
        "outputId": "ed66a526-d871-4144-87cc-301df6869b66"
      },
      "source": [
        "# test\n",
        "c620_model.test(e=0.02)"
      ],
      "execution_count": 39,
      "outputs": [
        {
          "output_type": "execute_result",
          "data": {
            "text/html": [
              "<div>\n",
              "<style scoped>\n",
              "    .dataframe tbody tr th:only-of-type {\n",
              "        vertical-align: middle;\n",
              "    }\n",
              "\n",
              "    .dataframe tbody tr th {\n",
              "        vertical-align: top;\n",
              "    }\n",
              "\n",
              "    .dataframe thead th {\n",
              "        text-align: right;\n",
              "    }\n",
              "</style>\n",
              "<table border=\"1\" class=\"dataframe\">\n",
              "  <thead>\n",
              "    <tr style=\"text-align: right;\">\n",
              "      <th></th>\n",
              "      <th>R2</th>\n",
              "      <th>MSE</th>\n",
              "      <th>MAPE</th>\n",
              "    </tr>\n",
              "  </thead>\n",
              "  <tbody>\n",
              "    <tr>\n",
              "      <th>Tatoray Stripper C620 Split Factors Calculation_Split Factor for Individual Component to Tatoray Stripper C620 Vent Gas_Hydrogen_Fraction</th>\n",
              "      <td>0</td>\n",
              "      <td>2.40393e-07</td>\n",
              "      <td>0.0338388</td>\n",
              "    </tr>\n",
              "    <tr>\n",
              "      <th>Tatoray Stripper C620 Split Factors Calculation_Split Factor for Individual Component to Tatoray Stripper C620 Vent Gas_Methane_Fraction</th>\n",
              "      <td>0</td>\n",
              "      <td>0.000101141</td>\n",
              "      <td>0.95556</td>\n",
              "    </tr>\n",
              "    <tr>\n",
              "      <th>Tatoray Stripper C620 Split Factors Calculation_Split Factor for Individual Component to Tatoray Stripper C620 Vent Gas_Ethane_Fraction</th>\n",
              "      <td>0.897862</td>\n",
              "      <td>5.37775e-05</td>\n",
              "      <td>0.661648</td>\n",
              "    </tr>\n",
              "    <tr>\n",
              "      <th>Tatoray Stripper C620 Split Factors Calculation_Split Factor for Individual Component to Tatoray Stripper C620 Vent Gas_Propane_Fraction</th>\n",
              "      <td>0.970728</td>\n",
              "      <td>0.000113633</td>\n",
              "      <td>0.800512</td>\n",
              "    </tr>\n",
              "    <tr>\n",
              "      <th>Tatoray Stripper C620 Split Factors Calculation_Split Factor for Individual Component to Tatoray Stripper C620 Vent Gas_n-Butane_Fraction</th>\n",
              "      <td>0.91334</td>\n",
              "      <td>0.00153144</td>\n",
              "      <td>3.9505</td>\n",
              "    </tr>\n",
              "    <tr>\n",
              "      <th>...</th>\n",
              "      <td>...</td>\n",
              "      <td>...</td>\n",
              "      <td>...</td>\n",
              "    </tr>\n",
              "    <tr>\n",
              "      <th>Density_Bottoms Production Rate and Composition</th>\n",
              "      <td>0.995471</td>\n",
              "      <td>7.60661e-11</td>\n",
              "      <td>0.000848523</td>\n",
              "    </tr>\n",
              "    <tr>\n",
              "      <th>Tatoray Stripper C620 Operation_Yield Summary_Reflux Rate_m3/hr</th>\n",
              "      <td>0.965522</td>\n",
              "      <td>4.52276</td>\n",
              "      <td>0.909018</td>\n",
              "    </tr>\n",
              "    <tr>\n",
              "      <th>Tatoray Stripper C620 Operation_Column Temp Profile_C620 Tray 14 (Control)_oC</th>\n",
              "      <td>0</td>\n",
              "      <td>8.86457</td>\n",
              "      <td>0.520888</td>\n",
              "    </tr>\n",
              "    <tr>\n",
              "      <th>Tatoray Stripper C620 Operation_Column Temp Profile_C620 Tray 34 (Control)_oC</th>\n",
              "      <td>0</td>\n",
              "      <td>10.5596</td>\n",
              "      <td>0.53028</td>\n",
              "    </tr>\n",
              "    <tr>\n",
              "      <th>AVG</th>\n",
              "      <td>0.258763</td>\n",
              "      <td>0.139373</td>\n",
              "      <td>5.19652</td>\n",
              "    </tr>\n",
              "  </tbody>\n",
              "</table>\n",
              "<p>173 rows × 3 columns</p>\n",
              "</div>"
            ],
            "text/plain": [
              "                                                          R2  ...         MAPE\n",
              "Tatoray Stripper C620 Split Factors Calculation...         0  ...    0.0338388\n",
              "Tatoray Stripper C620 Split Factors Calculation...         0  ...      0.95556\n",
              "Tatoray Stripper C620 Split Factors Calculation...  0.897862  ...     0.661648\n",
              "Tatoray Stripper C620 Split Factors Calculation...  0.970728  ...     0.800512\n",
              "Tatoray Stripper C620 Split Factors Calculation...   0.91334  ...       3.9505\n",
              "...                                                      ...  ...          ...\n",
              "Density_Bottoms Production Rate and Composition     0.995471  ...  0.000848523\n",
              "Tatoray Stripper C620 Operation_Yield Summary_R...  0.965522  ...     0.909018\n",
              "Tatoray Stripper C620 Operation_Column Temp Pro...         0  ...     0.520888\n",
              "Tatoray Stripper C620 Operation_Column Temp Pro...         0  ...      0.53028\n",
              "AVG                                                 0.258763  ...      5.19652\n",
              "\n",
              "[173 rows x 3 columns]"
            ]
          },
          "metadata": {
            "tags": []
          },
          "execution_count": 39
        }
      ]
    },
    {
      "cell_type": "markdown",
      "metadata": {
        "id": "1rZN9cjQwV9x"
      },
      "source": [
        "# c620遷移學習"
      ]
    },
    {
      "cell_type": "code",
      "metadata": {
        "colab": {
          "base_uri": "https://localhost:8080/"
        },
        "id": "LGApjf5fsgP2",
        "outputId": "5615dbea-8f20-4a87-d25e-14154c32db36"
      },
      "source": [
        "# use pretrain net continue training\n",
        "from copy import deepcopy\n",
        "pretrain_net = deepcopy(c620_model.net.train())\n",
        "print(pretrain_net)"
      ],
      "execution_count": 40,
      "outputs": [
        {
          "output_type": "stream",
          "text": [
            "Linear(in_features=44, out_features=172, bias=True)\n"
          ],
          "name": "stdout"
        }
      ]
    },
    {
      "cell_type": "code",
      "metadata": {
        "id": "glLlPyJsrHUa"
      },
      "source": [
        "c620_model = autorch.utils.PartBulider(c620_df_real,x_col,sp_col+op_col,limit_y_range=False,normalize_idx_list=n_idx,max_epochs=max_epochs) # use real data  \n",
        "c620_model.net = pretrain_net # use pretrain net\n",
        "c620_model.optimizer = Adam(c620_model.net.parameters())"
      ],
      "execution_count": 41,
      "outputs": []
    },
    {
      "cell_type": "code",
      "metadata": {
        "colab": {
          "base_uri": "https://localhost:8080/",
          "height": 316
        },
        "id": "fDeFvsQ4sXuK",
        "outputId": "99693800-ffdb-4ec5-a5d6-6b4b2b66bf9a"
      },
      "source": [
        "c620_model.train()"
      ],
      "execution_count": 42,
      "outputs": [
        {
          "output_type": "stream",
          "text": [
            "100%|██████████| 15/15 [00:00<00:00, 279.57it/s]\n"
          ],
          "name": "stderr"
        },
        {
          "output_type": "stream",
          "text": [
            "epoch:0 train_loss:0.2724 valid_loss:0.2732\n"
          ],
          "name": "stdout"
        },
        {
          "output_type": "display_data",
          "data": {
            "image/png": "[encoded data removed]",
            "text/plain": [
              "<Figure size 432x288 with 1 Axes>"
            ]
          },
          "metadata": {
            "tags": [],
            "needs_background": "light"
          }
        },
        {
          "output_type": "execute_result",
          "data": {
            "text/plain": [
              "<autorch.utils.part.PartBulider at 0x7ff71da9cbd0>"
            ]
          },
          "metadata": {
            "tags": []
          },
          "execution_count": 42
        }
      ]
    },
    {
      "cell_type": "code",
      "metadata": {
        "colab": {
          "base_uri": "https://localhost:8080/",
          "height": 419
        },
        "id": "nZDfN9ArtqH0",
        "outputId": "8200e9bf-0dd8-4ac2-d0b0-736ab069e067"
      },
      "source": [
        "# test\n",
        "c620_model.test(e=0.02)"
      ],
      "execution_count": 43,
      "outputs": [
        {
          "output_type": "execute_result",
          "data": {
            "text/html": [
              "<div>\n",
              "<style scoped>\n",
              "    .dataframe tbody tr th:only-of-type {\n",
              "        vertical-align: middle;\n",
              "    }\n",
              "\n",
              "    .dataframe tbody tr th {\n",
              "        vertical-align: top;\n",
              "    }\n",
              "\n",
              "    .dataframe thead th {\n",
              "        text-align: right;\n",
              "    }\n",
              "</style>\n",
              "<table border=\"1\" class=\"dataframe\">\n",
              "  <thead>\n",
              "    <tr style=\"text-align: right;\">\n",
              "      <th></th>\n",
              "      <th>R2</th>\n",
              "      <th>MSE</th>\n",
              "      <th>MAPE</th>\n",
              "    </tr>\n",
              "  </thead>\n",
              "  <tbody>\n",
              "    <tr>\n",
              "      <th>Tatoray Stripper C620 Split Factors Calculation_Split Factor for Individual Component to Tatoray Stripper C620 Vent Gas_Hydrogen_Fraction</th>\n",
              "      <td>0</td>\n",
              "      <td>0.0029986</td>\n",
              "      <td>4.41757</td>\n",
              "    </tr>\n",
              "    <tr>\n",
              "      <th>Tatoray Stripper C620 Split Factors Calculation_Split Factor for Individual Component to Tatoray Stripper C620 Vent Gas_Methane_Fraction</th>\n",
              "      <td>0</td>\n",
              "      <td>0.011892</td>\n",
              "      <td>10.2216</td>\n",
              "    </tr>\n",
              "    <tr>\n",
              "      <th>Tatoray Stripper C620 Split Factors Calculation_Split Factor for Individual Component to Tatoray Stripper C620 Vent Gas_Ethane_Fraction</th>\n",
              "      <td>0</td>\n",
              "      <td>0.18453</td>\n",
              "      <td>42.7892</td>\n",
              "    </tr>\n",
              "    <tr>\n",
              "      <th>Tatoray Stripper C620 Split Factors Calculation_Split Factor for Individual Component to Tatoray Stripper C620 Vent Gas_Propane_Fraction</th>\n",
              "      <td>0</td>\n",
              "      <td>0.220218</td>\n",
              "      <td>45.648</td>\n",
              "    </tr>\n",
              "    <tr>\n",
              "      <th>Tatoray Stripper C620 Split Factors Calculation_Split Factor for Individual Component to Tatoray Stripper C620 Vent Gas_n-Butane_Fraction</th>\n",
              "      <td>0</td>\n",
              "      <td>0.227368</td>\n",
              "      <td>45.6671</td>\n",
              "    </tr>\n",
              "    <tr>\n",
              "      <th>...</th>\n",
              "      <td>...</td>\n",
              "      <td>...</td>\n",
              "      <td>...</td>\n",
              "    </tr>\n",
              "    <tr>\n",
              "      <th>Density_Bottoms Production Rate and Composition</th>\n",
              "      <td>0</td>\n",
              "      <td>0.011691</td>\n",
              "      <td>9.76882</td>\n",
              "    </tr>\n",
              "    <tr>\n",
              "      <th>Tatoray Stripper C620 Operation_Yield Summary_Reflux Rate_m3/hr</th>\n",
              "      <td>0</td>\n",
              "      <td>619.47</td>\n",
              "      <td>18.8225</td>\n",
              "    </tr>\n",
              "    <tr>\n",
              "      <th>Tatoray Stripper C620 Operation_Column Temp Profile_C620 Tray 14 (Control)_oC</th>\n",
              "      <td>0</td>\n",
              "      <td>684.05</td>\n",
              "      <td>11.3337</td>\n",
              "    </tr>\n",
              "    <tr>\n",
              "      <th>Tatoray Stripper C620 Operation_Column Temp Profile_C620 Tray 34 (Control)_oC</th>\n",
              "      <td>0</td>\n",
              "      <td>886.225</td>\n",
              "      <td>10.6231</td>\n",
              "    </tr>\n",
              "    <tr>\n",
              "      <th>AVG</th>\n",
              "      <td>0</td>\n",
              "      <td>12.7712</td>\n",
              "      <td>31.338</td>\n",
              "    </tr>\n",
              "  </tbody>\n",
              "</table>\n",
              "<p>173 rows × 3 columns</p>\n",
              "</div>"
            ],
            "text/plain": [
              "                                                   R2        MSE     MAPE\n",
              "Tatoray Stripper C620 Split Factors Calculation...  0  0.0029986  4.41757\n",
              "Tatoray Stripper C620 Split Factors Calculation...  0   0.011892  10.2216\n",
              "Tatoray Stripper C620 Split Factors Calculation...  0    0.18453  42.7892\n",
              "Tatoray Stripper C620 Split Factors Calculation...  0   0.220218   45.648\n",
              "Tatoray Stripper C620 Split Factors Calculation...  0   0.227368  45.6671\n",
              "...                                                ..        ...      ...\n",
              "Density_Bottoms Production Rate and Composition     0   0.011691  9.76882\n",
              "Tatoray Stripper C620 Operation_Yield Summary_R...  0     619.47  18.8225\n",
              "Tatoray Stripper C620 Operation_Column Temp Pro...  0     684.05  11.3337\n",
              "Tatoray Stripper C620 Operation_Column Temp Pro...  0    886.225  10.6231\n",
              "AVG                                                 0    12.7712   31.338\n",
              "\n",
              "[173 rows x 3 columns]"
            ]
          },
          "metadata": {
            "tags": []
          },
          "execution_count": 43
        }
      ]
    },
    {
      "cell_type": "code",
      "metadata": {
        "colab": {
          "base_uri": "https://localhost:8080/"
        },
        "id": "1-8zSfUFvq4N",
        "outputId": "d58d8230-1620-4961-830f-bb6f1f532a3c"
      },
      "source": [
        "# save\n",
        "joblib.dump(c620_model,'/content/drive/MyDrive/台塑輕油案子/data/c620/model/c620_real_data.pkl')"
      ],
      "execution_count": 44,
      "outputs": [
        {
          "output_type": "execute_result",
          "data": {
            "text/plain": [
              "['/content/drive/MyDrive/台塑輕油案子/data/c620/model/c620_real_data.pkl']"
            ]
          },
          "metadata": {
            "tags": []
          },
          "execution_count": 44
        }
      ]
    },
    {
      "cell_type": "markdown",
      "metadata": {
        "id": "UUFmBXxwwb0l"
      },
      "source": [
        "# c660 模擬數據"
      ]
    },
    {
      "cell_type": "code",
      "metadata": {
        "id": "PkPFWCfQwFje",
        "colab": {
          "base_uri": "https://localhost:8080/",
          "height": 316
        },
        "outputId": "e32c5022-db91-43b8-8b98-afa2f2ba017f"
      },
      "source": [
        "# load data\n",
        "c660_df = pd.read_csv('/content/drive/MyDrive/台塑輕油案子/data/c620/cleaned/c660_train.csv',index_col=0)\n",
        "c660_df_real = pd.read_excel('/content/drive/MyDrive/台塑輕油案子/data/c620/明志_遷移式學習_訓練資料_寄送版/c660_data.xlsx',index_col=0)\n",
        "c = joblib.load('/content/drive/MyDrive/台塑輕油案子/data/c620/col_names/c660_col_names.pkl')\n",
        "\n",
        "# def col\n",
        "x_col = c['case']+c['x41']\n",
        "op_col = c['density']+c['yRefluxRate']+c['yHeatDuty']+c['yControl']\n",
        "op_col = c660_df_real[op_col].dropna(axis=1).columns.tolist()\n",
        "sp_col = c['vent_gas_sf']+c['distillate_sf']+c['sidedraw_sf']+c['bottoms_sf']\n",
        "n_idx = [[i,i+41,i+41*2,i+41*3] for i in range(41)]\n",
        "\n",
        "# modeling\n",
        "c660_model = autorch.utils.PartBulider(c660_df,x_col,sp_col+op_col,limit_y_range=False,normalize_idx_list=n_idx,max_epochs=max_epochs)\n",
        "c660_model.net = nn.Linear(len(x_col),len(sp_col)+len(op_col))\n",
        "c660_model.optimizer = Adam(c660_model.net.parameters())\n",
        "c660_model.train()"
      ],
      "execution_count": 46,
      "outputs": [
        {
          "output_type": "stream",
          "text": [
            "  7%|▋         | 1/15 [00:00<00:02,  4.72it/s]"
          ],
          "name": "stderr"
        },
        {
          "output_type": "stream",
          "text": [
            "epoch:0 train_loss:1.8194 valid_loss:1.7700\n"
          ],
          "name": "stdout"
        },
        {
          "output_type": "stream",
          "text": [
            "100%|██████████| 15/15 [00:03<00:00,  4.67it/s]\n"
          ],
          "name": "stderr"
        },
        {
          "output_type": "display_data",
          "data": {
            "image/png": "[encoded data removed]",
            "text/plain": [
              "<Figure size 432x288 with 1 Axes>"
            ]
          },
          "metadata": {
            "tags": [],
            "needs_background": "light"
          }
        },
        {
          "output_type": "execute_result",
          "data": {
            "text/plain": [
              "<autorch.utils.part.PartBulider at 0x7ff711938290>"
            ]
          },
          "metadata": {
            "tags": []
          },
          "execution_count": 46
        }
      ]
    },
    {
      "cell_type": "code",
      "metadata": {
        "id": "HEgeZ29c36aG",
        "colab": {
          "base_uri": "https://localhost:8080/",
          "height": 419
        },
        "outputId": "272b4851-f06a-44e9-8eb1-7d3bf8d05559"
      },
      "source": [
        "c660_model.test(e=0.02)"
      ],
      "execution_count": 47,
      "outputs": [
        {
          "output_type": "execute_result",
          "data": {
            "text/html": [
              "<div>\n",
              "<style scoped>\n",
              "    .dataframe tbody tr th:only-of-type {\n",
              "        vertical-align: middle;\n",
              "    }\n",
              "\n",
              "    .dataframe tbody tr th {\n",
              "        vertical-align: top;\n",
              "    }\n",
              "\n",
              "    .dataframe thead th {\n",
              "        text-align: right;\n",
              "    }\n",
              "</style>\n",
              "<table border=\"1\" class=\"dataframe\">\n",
              "  <thead>\n",
              "    <tr style=\"text-align: right;\">\n",
              "      <th></th>\n",
              "      <th>R2</th>\n",
              "      <th>MSE</th>\n",
              "      <th>MAPE</th>\n",
              "    </tr>\n",
              "  </thead>\n",
              "  <tbody>\n",
              "    <tr>\n",
              "      <th>Benzene Column C660 Split Factors Calculation_Split Factor for Individual Component to Benzene Column C660 Vent Gas_Hydrogen_Fraction</th>\n",
              "      <td>0</td>\n",
              "      <td>1.17576e-05</td>\n",
              "      <td>0.243872</td>\n",
              "    </tr>\n",
              "    <tr>\n",
              "      <th>Benzene Column C660 Split Factors Calculation_Split Factor for Individual Component to Benzene Column C660 Vent Gas_Methane_Fraction</th>\n",
              "      <td>0.678886</td>\n",
              "      <td>0.0064866</td>\n",
              "      <td>8.36517</td>\n",
              "    </tr>\n",
              "    <tr>\n",
              "      <th>Benzene Column C660 Split Factors Calculation_Split Factor for Individual Component to Benzene Column C660 Vent Gas_Ethane_Fraction</th>\n",
              "      <td>0.87954</td>\n",
              "      <td>0.00839917</td>\n",
              "      <td>19.6031</td>\n",
              "    </tr>\n",
              "    <tr>\n",
              "      <th>Benzene Column C660 Split Factors Calculation_Split Factor for Individual Component to Benzene Column C660 Vent Gas_Propane_Fraction</th>\n",
              "      <td>0.921674</td>\n",
              "      <td>0.00714676</td>\n",
              "      <td>29.9967</td>\n",
              "    </tr>\n",
              "    <tr>\n",
              "      <th>Benzene Column C660 Split Factors Calculation_Split Factor for Individual Component to Benzene Column C660 Vent Gas_n-Butane_Fraction</th>\n",
              "      <td>0.924819</td>\n",
              "      <td>0.00496671</td>\n",
              "      <td>33.3483</td>\n",
              "    </tr>\n",
              "    <tr>\n",
              "      <th>...</th>\n",
              "      <td>...</td>\n",
              "      <td>...</td>\n",
              "      <td>...</td>\n",
              "    </tr>\n",
              "    <tr>\n",
              "      <th>Density_Bottoms Production Rate and Composition</th>\n",
              "      <td>0</td>\n",
              "      <td>0.000202604</td>\n",
              "      <td>1.31119</td>\n",
              "    </tr>\n",
              "    <tr>\n",
              "      <th>Benzene Column C660 Operation_Yield Summary_Reflux Rate_m3/hr</th>\n",
              "      <td>0</td>\n",
              "      <td>9916.97</td>\n",
              "      <td>67.1946</td>\n",
              "    </tr>\n",
              "    <tr>\n",
              "      <th>Benzene Column C660 Operation_Column Temp Profile_C660 Tray 6 (SD &amp; Control)_oC</th>\n",
              "      <td>0</td>\n",
              "      <td>1962.12</td>\n",
              "      <td>48.5082</td>\n",
              "    </tr>\n",
              "    <tr>\n",
              "      <th>Benzene Column C660 Operation_Column Temp Profile_C660 Tray 23 (Control)_oC</th>\n",
              "      <td>0</td>\n",
              "      <td>2285.53</td>\n",
              "      <td>50.7777</td>\n",
              "    </tr>\n",
              "    <tr>\n",
              "      <th>AVG</th>\n",
              "      <td>0.116727</td>\n",
              "      <td>82.3529</td>\n",
              "      <td>9.5189</td>\n",
              "    </tr>\n",
              "  </tbody>\n",
              "</table>\n",
              "<p>173 rows × 3 columns</p>\n",
              "</div>"
            ],
            "text/plain": [
              "                                                          R2  ...      MAPE\n",
              "Benzene Column C660 Split Factors Calculation_S...         0  ...  0.243872\n",
              "Benzene Column C660 Split Factors Calculation_S...  0.678886  ...   8.36517\n",
              "Benzene Column C660 Split Factors Calculation_S...   0.87954  ...   19.6031\n",
              "Benzene Column C660 Split Factors Calculation_S...  0.921674  ...   29.9967\n",
              "Benzene Column C660 Split Factors Calculation_S...  0.924819  ...   33.3483\n",
              "...                                                      ...  ...       ...\n",
              "Density_Bottoms Production Rate and Composition            0  ...   1.31119\n",
              "Benzene Column C660 Operation_Yield Summary_Ref...         0  ...   67.1946\n",
              "Benzene Column C660 Operation_Column Temp Profi...         0  ...   48.5082\n",
              "Benzene Column C660 Operation_Column Temp Profi...         0  ...   50.7777\n",
              "AVG                                                 0.116727  ...    9.5189\n",
              "\n",
              "[173 rows x 3 columns]"
            ]
          },
          "metadata": {
            "tags": []
          },
          "execution_count": 47
        }
      ]
    },
    {
      "cell_type": "markdown",
      "metadata": {
        "id": "4qUwPcry4LYu"
      },
      "source": [
        "# c660遷移學習"
      ]
    },
    {
      "cell_type": "code",
      "metadata": {
        "id": "sFbliMxB4Jpp",
        "colab": {
          "base_uri": "https://localhost:8080/"
        },
        "outputId": "65d3959f-5196-4507-df26-2abee7502a6b"
      },
      "source": [
        "pretrain_net = deepcopy(c660_model.net.train())\n",
        "print(pretrain_net)"
      ],
      "execution_count": 48,
      "outputs": [
        {
          "output_type": "stream",
          "text": [
            "Linear(in_features=43, out_features=172, bias=True)\n"
          ],
          "name": "stdout"
        }
      ]
    },
    {
      "cell_type": "code",
      "metadata": {
        "id": "wtM2O-R04QsY"
      },
      "source": [
        "c660_model = autorch.utils.PartBulider(c660_df_real,x_col,sp_col+op_col,limit_y_range=False,normalize_idx_list=n_idx,max_epochs=max_epochs) # use real data  \n",
        "c660_model.net = pretrain_net # use pretrain net\n",
        "c660_model.optimizer = Adam(c660_model.net.parameters())"
      ],
      "execution_count": 49,
      "outputs": []
    },
    {
      "cell_type": "code",
      "metadata": {
        "id": "_zY6AAHx4Yeh",
        "colab": {
          "base_uri": "https://localhost:8080/",
          "height": 316
        },
        "outputId": "b145fbd2-937e-48e3-d988-dfbccdf8f865"
      },
      "source": [
        "c660_model.train()"
      ],
      "execution_count": 50,
      "outputs": [
        {
          "output_type": "stream",
          "text": [
            "100%|██████████| 15/15 [00:00<00:00, 217.85it/s]\n"
          ],
          "name": "stderr"
        },
        {
          "output_type": "stream",
          "text": [
            "epoch:0 train_loss:1.0850 valid_loss:1.1283\n"
          ],
          "name": "stdout"
        },
        {
          "output_type": "display_data",
          "data": {
            "image/png": "[encoded data removed]",
            "text/plain": [
              "<Figure size 432x288 with 1 Axes>"
            ]
          },
          "metadata": {
            "tags": [],
            "needs_background": "light"
          }
        },
        {
          "output_type": "execute_result",
          "data": {
            "text/plain": [
              "<autorch.utils.part.PartBulider at 0x7ff710c8e4d0>"
            ]
          },
          "metadata": {
            "tags": []
          },
          "execution_count": 50
        }
      ]
    },
    {
      "cell_type": "code",
      "metadata": {
        "id": "WAJsjtHL_zO_",
        "colab": {
          "base_uri": "https://localhost:8080/",
          "height": 419
        },
        "outputId": "0932dd5c-f7bb-45eb-a270-2ec10ab4b620"
      },
      "source": [
        "c660_model.test(e=0.02)"
      ],
      "execution_count": 52,
      "outputs": [
        {
          "output_type": "execute_result",
          "data": {
            "text/html": [
              "<div>\n",
              "<style scoped>\n",
              "    .dataframe tbody tr th:only-of-type {\n",
              "        vertical-align: middle;\n",
              "    }\n",
              "\n",
              "    .dataframe tbody tr th {\n",
              "        vertical-align: top;\n",
              "    }\n",
              "\n",
              "    .dataframe thead th {\n",
              "        text-align: right;\n",
              "    }\n",
              "</style>\n",
              "<table border=\"1\" class=\"dataframe\">\n",
              "  <thead>\n",
              "    <tr style=\"text-align: right;\">\n",
              "      <th></th>\n",
              "      <th>R2</th>\n",
              "      <th>MSE</th>\n",
              "      <th>MAPE</th>\n",
              "    </tr>\n",
              "  </thead>\n",
              "  <tbody>\n",
              "    <tr>\n",
              "      <th>Benzene Column C660 Split Factors Calculation_Split Factor for Individual Component to Benzene Column C660 Vent Gas_Hydrogen_Fraction</th>\n",
              "      <td>0</td>\n",
              "      <td>0.00110442</td>\n",
              "      <td>2.63578</td>\n",
              "    </tr>\n",
              "    <tr>\n",
              "      <th>Benzene Column C660 Split Factors Calculation_Split Factor for Individual Component to Benzene Column C660 Vent Gas_Methane_Fraction</th>\n",
              "      <td>0</td>\n",
              "      <td>0.0229581</td>\n",
              "      <td>NaN</td>\n",
              "    </tr>\n",
              "    <tr>\n",
              "      <th>Benzene Column C660 Split Factors Calculation_Split Factor for Individual Component to Benzene Column C660 Vent Gas_Ethane_Fraction</th>\n",
              "      <td>0</td>\n",
              "      <td>0.0039026</td>\n",
              "      <td>NaN</td>\n",
              "    </tr>\n",
              "    <tr>\n",
              "      <th>Benzene Column C660 Split Factors Calculation_Split Factor for Individual Component to Benzene Column C660 Vent Gas_Propane_Fraction</th>\n",
              "      <td>0</td>\n",
              "      <td>0.00194293</td>\n",
              "      <td>NaN</td>\n",
              "    </tr>\n",
              "    <tr>\n",
              "      <th>Benzene Column C660 Split Factors Calculation_Split Factor for Individual Component to Benzene Column C660 Vent Gas_n-Butane_Fraction</th>\n",
              "      <td>0</td>\n",
              "      <td>0.00193193</td>\n",
              "      <td>NaN</td>\n",
              "    </tr>\n",
              "    <tr>\n",
              "      <th>...</th>\n",
              "      <td>...</td>\n",
              "      <td>...</td>\n",
              "      <td>...</td>\n",
              "    </tr>\n",
              "    <tr>\n",
              "      <th>Density_Bottoms Production Rate and Composition</th>\n",
              "      <td>0</td>\n",
              "      <td>0.000880093</td>\n",
              "      <td>3.12518</td>\n",
              "    </tr>\n",
              "    <tr>\n",
              "      <th>Benzene Column C660 Operation_Yield Summary_Reflux Rate_m3/hr</th>\n",
              "      <td>0</td>\n",
              "      <td>9852.21</td>\n",
              "      <td>70.1761</td>\n",
              "    </tr>\n",
              "    <tr>\n",
              "      <th>Benzene Column C660 Operation_Column Temp Profile_C660 Tray 6 (SD &amp; Control)_oC</th>\n",
              "      <td>0</td>\n",
              "      <td>2137.12</td>\n",
              "      <td>52.1903</td>\n",
              "    </tr>\n",
              "    <tr>\n",
              "      <th>Benzene Column C660 Operation_Column Temp Profile_C660 Tray 23 (Control)_oC</th>\n",
              "      <td>0</td>\n",
              "      <td>2592.64</td>\n",
              "      <td>54.8415</td>\n",
              "    </tr>\n",
              "    <tr>\n",
              "      <th>AVG</th>\n",
              "      <td>0</td>\n",
              "      <td>84.8585</td>\n",
              "      <td>41.7881</td>\n",
              "    </tr>\n",
              "  </tbody>\n",
              "</table>\n",
              "<p>173 rows × 3 columns</p>\n",
              "</div>"
            ],
            "text/plain": [
              "                                                   R2          MSE     MAPE\n",
              "Benzene Column C660 Split Factors Calculation_S...  0   0.00110442  2.63578\n",
              "Benzene Column C660 Split Factors Calculation_S...  0    0.0229581      NaN\n",
              "Benzene Column C660 Split Factors Calculation_S...  0    0.0039026      NaN\n",
              "Benzene Column C660 Split Factors Calculation_S...  0   0.00194293      NaN\n",
              "Benzene Column C660 Split Factors Calculation_S...  0   0.00193193      NaN\n",
              "...                                                ..          ...      ...\n",
              "Density_Bottoms Production Rate and Composition     0  0.000880093  3.12518\n",
              "Benzene Column C660 Operation_Yield Summary_Ref...  0      9852.21  70.1761\n",
              "Benzene Column C660 Operation_Column Temp Profi...  0      2137.12  52.1903\n",
              "Benzene Column C660 Operation_Column Temp Profi...  0      2592.64  54.8415\n",
              "AVG                                                 0      84.8585  41.7881\n",
              "\n",
              "[173 rows x 3 columns]"
            ]
          },
          "metadata": {
            "tags": []
          },
          "execution_count": 52
        }
      ]
    },
    {
      "cell_type": "code",
      "metadata": {
        "id": "PwSxN3gf4bYB",
        "colab": {
          "base_uri": "https://localhost:8080/"
        },
        "outputId": "fbf3932d-73eb-4383-8f90-613741e00925"
      },
      "source": [
        "# save\n",
        "joblib.dump(c660_model,'/content/drive/MyDrive/台塑輕油案子/data/c620/model/c660_real_data.pkl')"
      ],
      "execution_count": 53,
      "outputs": [
        {
          "output_type": "execute_result",
          "data": {
            "text/plain": [
              "['/content/drive/MyDrive/台塑輕油案子/data/c620/model/c660_real_data.pkl']"
            ]
          },
          "metadata": {
            "tags": []
          },
          "execution_count": 53
        }
      ]
    },
    {
      "cell_type": "markdown",
      "metadata": {
        "id": "Kw1n66YO4h0Y"
      },
      "source": [
        "# c670 模擬數據"
      ]
    },
    {
      "cell_type": "code",
      "metadata": {
        "id": "6pumKLap4gzZ"
      },
      "source": [
        "# load data\n",
        "import numpy as np\n",
        "c670_df = pd.read_csv('/content/drive/MyDrive/台塑輕油案子/data/c620/cleaned/c670_train.csv',index_col=0)\n",
        "c670_df_real = pd.read_excel('/content/drive/MyDrive/台塑輕油案子/data/c620/明志_遷移式學習_訓練資料_寄送版/c670_data.xlsx',index_col=0)\n",
        "c = joblib.load('/content/drive/MyDrive/台塑輕油案子/data/c620/col_names/c670_col_names.pkl')"
      ],
      "execution_count": 54,
      "outputs": []
    },
    {
      "cell_type": "code",
      "metadata": {
        "id": "1omARM974-7x"
      },
      "source": [
        "# 根據條件修改值\n",
        "def change_value(df):\n",
        "  a = df[c['upper_bf']]\n",
        "  紫色零點零欄位 = a[a==0.0].dropna(axis=1).columns.tolist()\n",
        "  紫色零點一欄位 = a[a==0.1].dropna(axis=1).columns.tolist()\n",
        "  紫色零點九欄位 = a[a==0.9].dropna(axis=1).columns.tolist()\n",
        "  紫色一點零欄位 = a[a==1.0].dropna(axis=1).columns.tolist()\n",
        "  df.loc[:,紫色零點零欄位] = 0.0001 \n",
        "  df.loc[:,紫色零點一欄位] = 0.0001 \n",
        "  df.loc[:,紫色零點九欄位] = 0.9999\n",
        "  df.loc[:,紫色一點零欄位] = 0.9999\n",
        "  return df"
      ],
      "execution_count": 55,
      "outputs": []
    },
    {
      "cell_type": "code",
      "metadata": {
        "id": "j3Vp7HXM5Y-5"
      },
      "source": [
        "c670_df = change_value(c670_df)"
      ],
      "execution_count": 56,
      "outputs": []
    },
    {
      "cell_type": "code",
      "metadata": {
        "id": "7I6QNY0a5cJa"
      },
      "source": [
        "c670_df_real = change_value(c670_df_real)"
      ],
      "execution_count": 57,
      "outputs": []
    },
    {
      "cell_type": "code",
      "metadata": {
        "id": "Vh6sb-al7Hyh"
      },
      "source": [
        "x_col = c['combined'] + c['upper_bf']\n",
        "op_col = c['density']+c['yRefluxRate']+c['yHeatDuty']+c['yControl']\n",
        "op_col = c670_df_real[op_col].dropna(axis=1).columns.tolist()\n",
        "sp_col = c['distillate_sf']+c['bottoms_sf']\n",
        "n_idx = [[i,i+41] for i in range(41)]"
      ],
      "execution_count": 59,
      "outputs": []
    },
    {
      "cell_type": "code",
      "metadata": {
        "id": "qgybSV187hEU",
        "colab": {
          "base_uri": "https://localhost:8080/",
          "height": 316
        },
        "outputId": "e385af37-f296-4747-e6b2-f4bdb25e0010"
      },
      "source": [
        "c670_model = autorch.utils.PartBulider(c670_df,x_col,sp_col+op_col,limit_y_range=False,normalize_idx_list=n_idx,max_epochs=max_epochs)\n",
        "c670_model.net = nn.Linear(len(x_col),len(sp_col)+len(op_col))\n",
        "c670_model.optimizer = Adam(c670_model.net.parameters())\n",
        "c670_model.train()"
      ],
      "execution_count": 60,
      "outputs": [
        {
          "output_type": "stream",
          "text": [
            "  7%|▋         | 1/15 [00:00<00:03,  4.58it/s]"
          ],
          "name": "stderr"
        },
        {
          "output_type": "stream",
          "text": [
            "epoch:0 train_loss:7.6164 valid_loss:7.4918\n"
          ],
          "name": "stdout"
        },
        {
          "output_type": "stream",
          "text": [
            "100%|██████████| 15/15 [00:03<00:00,  4.46it/s]\n"
          ],
          "name": "stderr"
        },
        {
          "output_type": "display_data",
          "data": {
            "image/png": "[encoded data removed]",
            "text/plain": [
              "<Figure size 432x288 with 1 Axes>"
            ]
          },
          "metadata": {
            "tags": [],
            "needs_background": "light"
          }
        },
        {
          "output_type": "execute_result",
          "data": {
            "text/plain": [
              "<autorch.utils.part.PartBulider at 0x7ff711e80090>"
            ]
          },
          "metadata": {
            "tags": []
          },
          "execution_count": 60
        }
      ]
    },
    {
      "cell_type": "code",
      "metadata": {
        "id": "sAfqbgHg7yBT",
        "colab": {
          "base_uri": "https://localhost:8080/",
          "height": 419
        },
        "outputId": "0e301819-59cf-41d7-b647-3768cb648447"
      },
      "source": [
        "c670_model.test(e=0.02)"
      ],
      "execution_count": 61,
      "outputs": [
        {
          "output_type": "execute_result",
          "data": {
            "text/html": [
              "<div>\n",
              "<style scoped>\n",
              "    .dataframe tbody tr th:only-of-type {\n",
              "        vertical-align: middle;\n",
              "    }\n",
              "\n",
              "    .dataframe tbody tr th {\n",
              "        vertical-align: top;\n",
              "    }\n",
              "\n",
              "    .dataframe thead th {\n",
              "        text-align: right;\n",
              "    }\n",
              "</style>\n",
              "<table border=\"1\" class=\"dataframe\">\n",
              "  <thead>\n",
              "    <tr style=\"text-align: right;\">\n",
              "      <th></th>\n",
              "      <th>R2</th>\n",
              "      <th>MSE</th>\n",
              "      <th>MAPE</th>\n",
              "    </tr>\n",
              "  </thead>\n",
              "  <tbody>\n",
              "    <tr>\n",
              "      <th>Toluene Column C670 Split Factors Calculation_Split Factor for Individual Component to Toluene Column C670 Distillate_Hydrogen_Fraction</th>\n",
              "      <td>0</td>\n",
              "      <td>4.07689e-06</td>\n",
              "      <td>0.145274</td>\n",
              "    </tr>\n",
              "    <tr>\n",
              "      <th>Toluene Column C670 Split Factors Calculation_Split Factor for Individual Component to Toluene Column C670 Distillate_Methane_Fraction</th>\n",
              "      <td>0</td>\n",
              "      <td>1.00951e-05</td>\n",
              "      <td>0.180352</td>\n",
              "    </tr>\n",
              "    <tr>\n",
              "      <th>Toluene Column C670 Split Factors Calculation_Split Factor for Individual Component to Toluene Column C670 Distillate_Ethane_Fraction</th>\n",
              "      <td>0</td>\n",
              "      <td>2.0694e-06</td>\n",
              "      <td>0.0802444</td>\n",
              "    </tr>\n",
              "    <tr>\n",
              "      <th>Toluene Column C670 Split Factors Calculation_Split Factor for Individual Component to Toluene Column C670 Distillate_Propane_Fraction</th>\n",
              "      <td>0</td>\n",
              "      <td>5.87852e-07</td>\n",
              "      <td>0.0375287</td>\n",
              "    </tr>\n",
              "    <tr>\n",
              "      <th>Toluene Column C670 Split Factors Calculation_Split Factor for Individual Component to Toluene Column C670 Distillate_n-Butane_Fraction</th>\n",
              "      <td>0</td>\n",
              "      <td>1.81999e-06</td>\n",
              "      <td>0.0675491</td>\n",
              "    </tr>\n",
              "    <tr>\n",
              "      <th>...</th>\n",
              "      <td>...</td>\n",
              "      <td>...</td>\n",
              "      <td>...</td>\n",
              "    </tr>\n",
              "    <tr>\n",
              "      <th>Density_Bottoms Production Rate and Composition</th>\n",
              "      <td>0</td>\n",
              "      <td>0.000112647</td>\n",
              "      <td>0.957068</td>\n",
              "    </tr>\n",
              "    <tr>\n",
              "      <th>Toluene Column C670 Operation_Yield \\nSummary_Reflux Rate_m3/hr</th>\n",
              "      <td>0</td>\n",
              "      <td>36068.1</td>\n",
              "      <td>71.6651</td>\n",
              "    </tr>\n",
              "    <tr>\n",
              "      <th>Toluene Column C670 Operation_Column Temp Profile_C670 Tray 24 (Control)_oC</th>\n",
              "      <td>0</td>\n",
              "      <td>12084.2</td>\n",
              "      <td>59.7562</td>\n",
              "    </tr>\n",
              "    <tr>\n",
              "      <th>Toluene Column C670 Operation_Column Temp Profile_C670 Btm Temp (Control)_oC</th>\n",
              "      <td>0</td>\n",
              "      <td>23920.3</td>\n",
              "      <td>67.7106</td>\n",
              "    </tr>\n",
              "    <tr>\n",
              "      <th>AVG</th>\n",
              "      <td>0.0436592</td>\n",
              "      <td>828.421</td>\n",
              "      <td>4.39148</td>\n",
              "    </tr>\n",
              "  </tbody>\n",
              "</table>\n",
              "<p>88 rows × 3 columns</p>\n",
              "</div>"
            ],
            "text/plain": [
              "                                                           R2  ...       MAPE\n",
              "Toluene Column C670 Split Factors Calculation_S...          0  ...   0.145274\n",
              "Toluene Column C670 Split Factors Calculation_S...          0  ...   0.180352\n",
              "Toluene Column C670 Split Factors Calculation_S...          0  ...  0.0802444\n",
              "Toluene Column C670 Split Factors Calculation_S...          0  ...  0.0375287\n",
              "Toluene Column C670 Split Factors Calculation_S...          0  ...  0.0675491\n",
              "...                                                       ...  ...        ...\n",
              "Density_Bottoms Production Rate and Composition             0  ...   0.957068\n",
              "Toluene Column C670 Operation_Yield \\nSummary_R...          0  ...    71.6651\n",
              "Toluene Column C670 Operation_Column Temp Profi...          0  ...    59.7562\n",
              "Toluene Column C670 Operation_Column Temp Profi...          0  ...    67.7106\n",
              "AVG                                                 0.0436592  ...    4.39148\n",
              "\n",
              "[88 rows x 3 columns]"
            ]
          },
          "metadata": {
            "tags": []
          },
          "execution_count": 61
        }
      ]
    },
    {
      "cell_type": "markdown",
      "metadata": {
        "id": "7jy_hgTZ8VPk"
      },
      "source": [
        "# c670 遷移學習"
      ]
    },
    {
      "cell_type": "code",
      "metadata": {
        "id": "-RqK7C7I8S_j",
        "colab": {
          "base_uri": "https://localhost:8080/"
        },
        "outputId": "67ff47ed-3246-412c-a9c3-01f02b635e63"
      },
      "source": [
        "pretrain_net = deepcopy(c670_model.net.train())\n",
        "print(pretrain_net)"
      ],
      "execution_count": 62,
      "outputs": [
        {
          "output_type": "stream",
          "text": [
            "Linear(in_features=82, out_features=87, bias=True)\n"
          ],
          "name": "stdout"
        }
      ]
    },
    {
      "cell_type": "code",
      "metadata": {
        "id": "-ty7t-c48Znj"
      },
      "source": [
        "c670_model = autorch.utils.PartBulider(c670_df_real,x_col,sp_col+op_col,limit_y_range=False,normalize_idx_list=n_idx,max_epochs=max_epochs) # use real data  \n",
        "c670_model.net = pretrain_net # use pretrain net\n",
        "c670_model.optimizer = Adam(c670_model.net.parameters())"
      ],
      "execution_count": 63,
      "outputs": []
    },
    {
      "cell_type": "code",
      "metadata": {
        "id": "JSB9-lIc8gLb",
        "colab": {
          "base_uri": "https://localhost:8080/",
          "height": 316
        },
        "outputId": "397c8a93-90de-48b2-c8f2-e6b82666941c"
      },
      "source": [
        "c670_model.train()"
      ],
      "execution_count": 64,
      "outputs": [
        {
          "output_type": "stream",
          "text": [
            "100%|██████████| 15/15 [00:00<00:00, 220.59it/s]\n"
          ],
          "name": "stderr"
        },
        {
          "output_type": "stream",
          "text": [
            "epoch:0 train_loss:5.7673 valid_loss:5.7869\n"
          ],
          "name": "stdout"
        },
        {
          "output_type": "display_data",
          "data": {
            "image/png": "[encoded data removed]",
            "text/plain": [
              "<Figure size 432x288 with 1 Axes>"
            ]
          },
          "metadata": {
            "tags": [],
            "needs_background": "light"
          }
        },
        {
          "output_type": "execute_result",
          "data": {
            "text/plain": [
              "<autorch.utils.part.PartBulider at 0x7ff710749250>"
            ]
          },
          "metadata": {
            "tags": []
          },
          "execution_count": 64
        }
      ]
    },
    {
      "cell_type": "code",
      "metadata": {
        "id": "x5ZwPB5o8itz",
        "colab": {
          "base_uri": "https://localhost:8080/",
          "height": 419
        },
        "outputId": "75763696-153f-497d-ba9b-2026d7999317"
      },
      "source": [
        "c670_model.test(e=0.02)"
      ],
      "execution_count": 65,
      "outputs": [
        {
          "output_type": "execute_result",
          "data": {
            "text/html": [
              "<div>\n",
              "<style scoped>\n",
              "    .dataframe tbody tr th:only-of-type {\n",
              "        vertical-align: middle;\n",
              "    }\n",
              "\n",
              "    .dataframe tbody tr th {\n",
              "        vertical-align: top;\n",
              "    }\n",
              "\n",
              "    .dataframe thead th {\n",
              "        text-align: right;\n",
              "    }\n",
              "</style>\n",
              "<table border=\"1\" class=\"dataframe\">\n",
              "  <thead>\n",
              "    <tr style=\"text-align: right;\">\n",
              "      <th></th>\n",
              "      <th>R2</th>\n",
              "      <th>MSE</th>\n",
              "      <th>MAPE</th>\n",
              "    </tr>\n",
              "  </thead>\n",
              "  <tbody>\n",
              "    <tr>\n",
              "      <th>Toluene Column C670 Split Factors Calculation_Split Factor for Individual Component to Toluene Column C670 Distillate_Hydrogen_Fraction</th>\n",
              "      <td>0</td>\n",
              "      <td>0.000179144</td>\n",
              "      <td>0.921008</td>\n",
              "    </tr>\n",
              "    <tr>\n",
              "      <th>Toluene Column C670 Split Factors Calculation_Split Factor for Individual Component to Toluene Column C670 Distillate_Methane_Fraction</th>\n",
              "      <td>0</td>\n",
              "      <td>0.00010217</td>\n",
              "      <td>0.546724</td>\n",
              "    </tr>\n",
              "    <tr>\n",
              "      <th>Toluene Column C670 Split Factors Calculation_Split Factor for Individual Component to Toluene Column C670 Distillate_Ethane_Fraction</th>\n",
              "      <td>0</td>\n",
              "      <td>0.0001126</td>\n",
              "      <td>0.785651</td>\n",
              "    </tr>\n",
              "    <tr>\n",
              "      <th>Toluene Column C670 Split Factors Calculation_Split Factor for Individual Component to Toluene Column C670 Distillate_Propane_Fraction</th>\n",
              "      <td>0</td>\n",
              "      <td>8.14521e-05</td>\n",
              "      <td>0.55458</td>\n",
              "    </tr>\n",
              "    <tr>\n",
              "      <th>Toluene Column C670 Split Factors Calculation_Split Factor for Individual Component to Toluene Column C670 Distillate_n-Butane_Fraction</th>\n",
              "      <td>0</td>\n",
              "      <td>4.55977e-05</td>\n",
              "      <td>0.338319</td>\n",
              "    </tr>\n",
              "    <tr>\n",
              "      <th>...</th>\n",
              "      <td>...</td>\n",
              "      <td>...</td>\n",
              "      <td>...</td>\n",
              "    </tr>\n",
              "    <tr>\n",
              "      <th>Density_Bottoms Production Rate and Composition</th>\n",
              "      <td>0</td>\n",
              "      <td>0.00235421</td>\n",
              "      <td>3.80067</td>\n",
              "    </tr>\n",
              "    <tr>\n",
              "      <th>Toluene Column C670 Operation_Yield \\nSummary_Reflux Rate_m3/hr</th>\n",
              "      <td>0</td>\n",
              "      <td>42928</td>\n",
              "      <td>77.4534</td>\n",
              "    </tr>\n",
              "    <tr>\n",
              "      <th>Toluene Column C670 Operation_Column Temp Profile_C670 Tray 24 (Control)_oC</th>\n",
              "      <td>0</td>\n",
              "      <td>15027.6</td>\n",
              "      <td>67.0756</td>\n",
              "    </tr>\n",
              "    <tr>\n",
              "      <th>Toluene Column C670 Operation_Column Temp Profile_C670 Btm Temp (Control)_oC</th>\n",
              "      <td>0</td>\n",
              "      <td>27848</td>\n",
              "      <td>73.4179</td>\n",
              "    </tr>\n",
              "    <tr>\n",
              "      <th>AVG</th>\n",
              "      <td>0.0086545</td>\n",
              "      <td>986.258</td>\n",
              "      <td>15.2831</td>\n",
              "    </tr>\n",
              "  </tbody>\n",
              "</table>\n",
              "<p>88 rows × 3 columns</p>\n",
              "</div>"
            ],
            "text/plain": [
              "                                                           R2  ...      MAPE\n",
              "Toluene Column C670 Split Factors Calculation_S...          0  ...  0.921008\n",
              "Toluene Column C670 Split Factors Calculation_S...          0  ...  0.546724\n",
              "Toluene Column C670 Split Factors Calculation_S...          0  ...  0.785651\n",
              "Toluene Column C670 Split Factors Calculation_S...          0  ...   0.55458\n",
              "Toluene Column C670 Split Factors Calculation_S...          0  ...  0.338319\n",
              "...                                                       ...  ...       ...\n",
              "Density_Bottoms Production Rate and Composition             0  ...   3.80067\n",
              "Toluene Column C670 Operation_Yield \\nSummary_R...          0  ...   77.4534\n",
              "Toluene Column C670 Operation_Column Temp Profi...          0  ...   67.0756\n",
              "Toluene Column C670 Operation_Column Temp Profi...          0  ...   73.4179\n",
              "AVG                                                 0.0086545  ...   15.2831\n",
              "\n",
              "[88 rows x 3 columns]"
            ]
          },
          "metadata": {
            "tags": []
          },
          "execution_count": 65
        }
      ]
    },
    {
      "cell_type": "code",
      "metadata": {
        "id": "KVf7ZAeK8mZT",
        "colab": {
          "base_uri": "https://localhost:8080/"
        },
        "outputId": "a8048514-43e0-4b1f-ab12-7adea173f38c"
      },
      "source": [
        "joblib.dump(c670_model,'/content/drive/MyDrive/台塑輕油案子/data/c620/model/c670_real_data.pkl')"
      ],
      "execution_count": 66,
      "outputs": [
        {
          "output_type": "execute_result",
          "data": {
            "text/plain": [
              "['/content/drive/MyDrive/台塑輕油案子/data/c620/model/c670_real_data.pkl']"
            ]
          },
          "metadata": {
            "tags": []
          },
          "execution_count": 66
        }
      ]
    },
    {
      "cell_type": "code",
      "metadata": {
        "id": "pnnMcnVE8xAb"
      },
      "source": [
        ""
      ],
      "execution_count": null,
      "outputs": []
    }
  ]
}