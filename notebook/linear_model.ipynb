{
  "nbformat": 4,
  "nbformat_minor": 0,
  "metadata": {
    "colab": {
      "name": "linear_model.ipynb",
      "provenance": [],
      "mount_file_id": "https://github.com/skywalker0803r/c620/blob/main/notebook/linear_model.ipynb",
      "authorship_tag": "ABX9TyOS+kYVwQ4+w1AvyN3P3LMM",
      "include_colab_link": true
    },
    "kernelspec": {
      "name": "python3",
      "display_name": "Python 3"
    },
    "language_info": {
      "name": "python"
    }
  },
  "cells": [
    {
      "cell_type": "markdown",
      "metadata": {
        "id": "view-in-github",
        "colab_type": "text"
      },
      "source": [
        "<a href=\"https://colab.research.google.com/github/skywalker0803r/c620/blob/main/notebook/linear_model.ipynb\" target=\"_parent\"><img src=\"https://colab.research.google.com/assets/colab-badge.svg\" alt=\"Open In Colab\"/></a>"
      ]
    },
    {
      "cell_type": "code",
      "metadata": {
        "id": "uOGQX9YjqMju"
      },
      "source": [
        "!pip install autorch >log.txt"
      ],
      "execution_count": 20,
      "outputs": []
    },
    {
      "cell_type": "code",
      "metadata": {
        "id": "tKnv94HhqT5K"
      },
      "source": [
        "import pandas as pd\n",
        "import joblib\n",
        "import autorch\n",
        "from torch import nn#\n",
        "from torch.optim import Adam\n",
        "max_epochs = 15"
      ],
      "execution_count": 21,
      "outputs": []
    },
    {
      "cell_type": "markdown",
      "metadata": {
        "id": "SDKVxW1evK09"
      },
      "source": [
        "# c620 模擬數據"
      ]
    },
    {
      "cell_type": "code",
      "metadata": {
        "colab": {
          "base_uri": "https://localhost:8080/",
          "height": 333
        },
        "id": "CNpU0VnpqcgK",
        "outputId": "810af220-831f-401b-a5e1-01cf4af1e770"
      },
      "source": [
        "# load data\n",
        "c620_df = pd.read_csv('/content/drive/MyDrive/台塑輕油案子/data/c620/cleaned/c620_train.csv',index_col=0)\n",
        "c620_df_real = pd.read_excel('/content/drive/MyDrive/台塑輕油案子/data/c620/明志_遷移式學習_訓練資料_寄送版/c620_data.xlsx',index_col=0)\n",
        "c = joblib.load('/content/drive/MyDrive/台塑輕油案子/data/c620/col_names/c620_col_names.pkl')\n",
        "print(c.keys())\n",
        "# def col\n",
        "x_col = c['case']+c['x41']\n",
        "op_col = c['density']+c['yRefluxRate']+c['yHeatDuty']+c['yControl']\n",
        "op_col = c620_df_real[op_col].dropna(axis=1).columns.tolist()\n",
        "sp_col = c['vent_gas_sf']+c['distillate_sf']+c['sidedraw_sf']+c['bottoms_sf']\n",
        "n_idx = [[i,i+41,i+41*2,i+41*3] for i in range(41)]\n",
        "\n",
        "# modeling\n",
        "c620_model = autorch.utils.PartBulider(c620_df,x_col,sp_col+op_col,limit_y_range=False,normalize_idx_list=n_idx,max_epochs=max_epochs)\n",
        "c620_model.net = nn.Linear(len(x_col),len(sp_col)+len(op_col))\n",
        "c620_model.optimizer = Adam(c620_model.net.parameters(),lr=0.01)\n",
        "c620_model.train()"
      ],
      "execution_count": 22,
      "outputs": [
        {
          "output_type": "stream",
          "text": [
            "\r  0%|          | 0/15 [00:00<?, ?it/s]"
          ],
          "name": "stderr"
        },
        {
          "output_type": "stream",
          "text": [
            "dict_keys(['x41', 'case', 'yRefluxRate', 'yControl', 'yHeatDuty', 'vent_gas_x', 'distillate_x', 'sidedraw_x', 'bottoms_x', 'vent_gas_sf', 'distillate_sf', 'sidedraw_sf', 'bottoms_sf', 'density'])\n"
          ],
          "name": "stdout"
        },
        {
          "output_type": "stream",
          "text": [
            "\r  7%|▋         | 1/15 [00:00<00:03,  4.27it/s]"
          ],
          "name": "stderr"
        },
        {
          "output_type": "stream",
          "text": [
            "epoch:0 train_loss:2.5399 valid_loss:2.1981\n"
          ],
          "name": "stdout"
        },
        {
          "output_type": "stream",
          "text": [
            "100%|██████████| 15/15 [00:03<00:00,  4.61it/s]\n"
          ],
          "name": "stderr"
        },
        {
          "output_type": "display_data",
          "data": {
            "image/png": "[encoded data removed]",
            "text/plain": [
              "<Figure size 432x288 with 1 Axes>"
            ]
          },
          "metadata": {
            "tags": [],
            "needs_background": "light"
          }
        },
        {
          "output_type": "execute_result",
          "data": {
            "text/plain": [
              "<autorch.utils.part.PartBulider at 0x7f5d9a302650>"
            ]
          },
          "metadata": {
            "tags": []
          },
          "execution_count": 22
        }
      ]
    },
    {
      "cell_type": "code",
      "metadata": {
        "colab": {
          "base_uri": "https://localhost:8080/",
          "height": 419
        },
        "id": "U5DGlA4HqsRU",
        "outputId": "68f55a41-4634-4fed-acd7-4aee91d5d401"
      },
      "source": [
        "# test\n",
        "c620_model.test(e=0.02)"
      ],
      "execution_count": 23,
      "outputs": [
        {
          "output_type": "execute_result",
          "data": {
            "text/html": [
              "<div>\n",
              "<style scoped>\n",
              "    .dataframe tbody tr th:only-of-type {\n",
              "        vertical-align: middle;\n",
              "    }\n",
              "\n",
              "    .dataframe tbody tr th {\n",
              "        vertical-align: top;\n",
              "    }\n",
              "\n",
              "    .dataframe thead th {\n",
              "        text-align: right;\n",
              "    }\n",
              "</style>\n",
              "<table border=\"1\" class=\"dataframe\">\n",
              "  <thead>\n",
              "    <tr style=\"text-align: right;\">\n",
              "      <th></th>\n",
              "      <th>R2</th>\n",
              "      <th>MSE</th>\n",
              "      <th>MAPE</th>\n",
              "    </tr>\n",
              "  </thead>\n",
              "  <tbody>\n",
              "    <tr>\n",
              "      <th>Tatoray Stripper C620 Split Factors Calculation_Split Factor for Individual Component to Tatoray Stripper C620 Vent Gas_Hydrogen_Fraction</th>\n",
              "      <td>0</td>\n",
              "      <td>1.05274e-08</td>\n",
              "      <td>0.00623173</td>\n",
              "    </tr>\n",
              "    <tr>\n",
              "      <th>Tatoray Stripper C620 Split Factors Calculation_Split Factor for Individual Component to Tatoray Stripper C620 Vent Gas_Methane_Fraction</th>\n",
              "      <td>0.678064</td>\n",
              "      <td>6.40646e-06</td>\n",
              "      <td>0.199857</td>\n",
              "    </tr>\n",
              "    <tr>\n",
              "      <th>Tatoray Stripper C620 Split Factors Calculation_Split Factor for Individual Component to Tatoray Stripper C620 Vent Gas_Ethane_Fraction</th>\n",
              "      <td>0.971213</td>\n",
              "      <td>1.41714e-05</td>\n",
              "      <td>0.322896</td>\n",
              "    </tr>\n",
              "    <tr>\n",
              "      <th>Tatoray Stripper C620 Split Factors Calculation_Split Factor for Individual Component to Tatoray Stripper C620 Vent Gas_Propane_Fraction</th>\n",
              "      <td>0.970645</td>\n",
              "      <td>0.000105253</td>\n",
              "      <td>0.796648</td>\n",
              "    </tr>\n",
              "    <tr>\n",
              "      <th>Tatoray Stripper C620 Split Factors Calculation_Split Factor for Individual Component to Tatoray Stripper C620 Vent Gas_n-Butane_Fraction</th>\n",
              "      <td>0.937038</td>\n",
              "      <td>0.00101905</td>\n",
              "      <td>3.12743</td>\n",
              "    </tr>\n",
              "    <tr>\n",
              "      <th>...</th>\n",
              "      <td>...</td>\n",
              "      <td>...</td>\n",
              "      <td>...</td>\n",
              "    </tr>\n",
              "    <tr>\n",
              "      <th>Density_Bottoms Production Rate and Composition</th>\n",
              "      <td>0.998573</td>\n",
              "      <td>2.38654e-11</td>\n",
              "      <td>0.000520252</td>\n",
              "    </tr>\n",
              "    <tr>\n",
              "      <th>Tatoray Stripper C620 Operation_Yield Summary_Reflux Rate_m3/hr</th>\n",
              "      <td>0.970216</td>\n",
              "      <td>4.05834</td>\n",
              "      <td>0.887385</td>\n",
              "    </tr>\n",
              "    <tr>\n",
              "      <th>Tatoray Stripper C620 Operation_Column Temp Profile_C620 Tray 14 (Control)_oC</th>\n",
              "      <td>0</td>\n",
              "      <td>8.48525</td>\n",
              "      <td>0.509459</td>\n",
              "    </tr>\n",
              "    <tr>\n",
              "      <th>Tatoray Stripper C620 Operation_Column Temp Profile_C620 Tray 34 (Control)_oC</th>\n",
              "      <td>0</td>\n",
              "      <td>10.1484</td>\n",
              "      <td>0.513016</td>\n",
              "    </tr>\n",
              "    <tr>\n",
              "      <th>AVG</th>\n",
              "      <td>0.257928</td>\n",
              "      <td>0.132071</td>\n",
              "      <td>4.43748</td>\n",
              "    </tr>\n",
              "  </tbody>\n",
              "</table>\n",
              "<p>173 rows × 3 columns</p>\n",
              "</div>"
            ],
            "text/plain": [
              "                                                          R2  ...         MAPE\n",
              "Tatoray Stripper C620 Split Factors Calculation...         0  ...   0.00623173\n",
              "Tatoray Stripper C620 Split Factors Calculation...  0.678064  ...     0.199857\n",
              "Tatoray Stripper C620 Split Factors Calculation...  0.971213  ...     0.322896\n",
              "Tatoray Stripper C620 Split Factors Calculation...  0.970645  ...     0.796648\n",
              "Tatoray Stripper C620 Split Factors Calculation...  0.937038  ...      3.12743\n",
              "...                                                      ...  ...          ...\n",
              "Density_Bottoms Production Rate and Composition     0.998573  ...  0.000520252\n",
              "Tatoray Stripper C620 Operation_Yield Summary_R...  0.970216  ...     0.887385\n",
              "Tatoray Stripper C620 Operation_Column Temp Pro...         0  ...     0.509459\n",
              "Tatoray Stripper C620 Operation_Column Temp Pro...         0  ...     0.513016\n",
              "AVG                                                 0.257928  ...      4.43748\n",
              "\n",
              "[173 rows x 3 columns]"
            ]
          },
          "metadata": {
            "tags": []
          },
          "execution_count": 23
        }
      ]
    },
    {
      "cell_type": "markdown",
      "metadata": {
        "id": "1rZN9cjQwV9x"
      },
      "source": [
        "# c620遷移學習"
      ]
    },
    {
      "cell_type": "code",
      "metadata": {
        "colab": {
          "base_uri": "https://localhost:8080/"
        },
        "id": "LGApjf5fsgP2",
        "outputId": "d45dec6d-5d6c-4442-cf39-a107b06ac2f4"
      },
      "source": [
        "# use pretrain net continue training\n",
        "from copy import deepcopy\n",
        "pretrain_net = deepcopy(c620_model.net.train())\n",
        "print(pretrain_net)"
      ],
      "execution_count": 24,
      "outputs": [
        {
          "output_type": "stream",
          "text": [
            "Linear(in_features=44, out_features=172, bias=True)\n"
          ],
          "name": "stdout"
        }
      ]
    },
    {
      "cell_type": "code",
      "metadata": {
        "id": "glLlPyJsrHUa"
      },
      "source": [
        "c620_model = autorch.utils.PartBulider(c620_df_real,x_col,sp_col+op_col,limit_y_range=False,normalize_idx_list=n_idx,max_epochs=max_epochs) # use real data  \n",
        "c620_model.net = pretrain_net # use pretrain net\n",
        "c620_model.optimizer = Adam(c620_model.net.parameters())"
      ],
      "execution_count": 25,
      "outputs": []
    },
    {
      "cell_type": "code",
      "metadata": {
        "colab": {
          "base_uri": "https://localhost:8080/",
          "height": 316
        },
        "id": "fDeFvsQ4sXuK",
        "outputId": "f80d34d5-1fb5-44e5-c84b-275c27ad4c9c"
      },
      "source": [
        "c620_model.train()"
      ],
      "execution_count": 26,
      "outputs": [
        {
          "output_type": "stream",
          "text": [
            "100%|██████████| 15/15 [00:00<00:00, 266.10it/s]"
          ],
          "name": "stderr"
        },
        {
          "output_type": "stream",
          "text": [
            "epoch:0 train_loss:0.3087 valid_loss:0.1949\n"
          ],
          "name": "stdout"
        },
        {
          "output_type": "stream",
          "text": [
            "\n"
          ],
          "name": "stderr"
        },
        {
          "output_type": "display_data",
          "data": {
            "image/png": "[encoded data removed]",
            "text/plain": [
              "<Figure size 432x288 with 1 Axes>"
            ]
          },
          "metadata": {
            "tags": [],
            "needs_background": "light"
          }
        },
        {
          "output_type": "execute_result",
          "data": {
            "text/plain": [
              "<autorch.utils.part.PartBulider at 0x7f5d97ccb850>"
            ]
          },
          "metadata": {
            "tags": []
          },
          "execution_count": 26
        }
      ]
    },
    {
      "cell_type": "code",
      "metadata": {
        "colab": {
          "base_uri": "https://localhost:8080/",
          "height": 419
        },
        "id": "nZDfN9ArtqH0",
        "outputId": "0f578c9d-72e2-4438-cfae-f900c4da29ba"
      },
      "source": [
        "# test\n",
        "c620_model.test(e=0.02)"
      ],
      "execution_count": 27,
      "outputs": [
        {
          "output_type": "execute_result",
          "data": {
            "text/html": [
              "<div>\n",
              "<style scoped>\n",
              "    .dataframe tbody tr th:only-of-type {\n",
              "        vertical-align: middle;\n",
              "    }\n",
              "\n",
              "    .dataframe tbody tr th {\n",
              "        vertical-align: top;\n",
              "    }\n",
              "\n",
              "    .dataframe thead th {\n",
              "        text-align: right;\n",
              "    }\n",
              "</style>\n",
              "<table border=\"1\" class=\"dataframe\">\n",
              "  <thead>\n",
              "    <tr style=\"text-align: right;\">\n",
              "      <th></th>\n",
              "      <th>R2</th>\n",
              "      <th>MSE</th>\n",
              "      <th>MAPE</th>\n",
              "    </tr>\n",
              "  </thead>\n",
              "  <tbody>\n",
              "    <tr>\n",
              "      <th>Tatoray Stripper C620 Split Factors Calculation_Split Factor for Individual Component to Tatoray Stripper C620 Vent Gas_Hydrogen_Fraction</th>\n",
              "      <td>0</td>\n",
              "      <td>0.00558406</td>\n",
              "      <td>6.8511</td>\n",
              "    </tr>\n",
              "    <tr>\n",
              "      <th>Tatoray Stripper C620 Split Factors Calculation_Split Factor for Individual Component to Tatoray Stripper C620 Vent Gas_Methane_Fraction</th>\n",
              "      <td>0</td>\n",
              "      <td>0.0353101</td>\n",
              "      <td>18.3676</td>\n",
              "    </tr>\n",
              "    <tr>\n",
              "      <th>Tatoray Stripper C620 Split Factors Calculation_Split Factor for Individual Component to Tatoray Stripper C620 Vent Gas_Ethane_Fraction</th>\n",
              "      <td>0</td>\n",
              "      <td>0.155684</td>\n",
              "      <td>39.3736</td>\n",
              "    </tr>\n",
              "    <tr>\n",
              "      <th>Tatoray Stripper C620 Split Factors Calculation_Split Factor for Individual Component to Tatoray Stripper C620 Vent Gas_Propane_Fraction</th>\n",
              "      <td>0</td>\n",
              "      <td>0.161306</td>\n",
              "      <td>40.0652</td>\n",
              "    </tr>\n",
              "    <tr>\n",
              "      <th>Tatoray Stripper C620 Split Factors Calculation_Split Factor for Individual Component to Tatoray Stripper C620 Vent Gas_n-Butane_Fraction</th>\n",
              "      <td>0</td>\n",
              "      <td>0.181293</td>\n",
              "      <td>42.5135</td>\n",
              "    </tr>\n",
              "    <tr>\n",
              "      <th>...</th>\n",
              "      <td>...</td>\n",
              "      <td>...</td>\n",
              "      <td>...</td>\n",
              "    </tr>\n",
              "    <tr>\n",
              "      <th>Density_Bottoms Production Rate and Composition</th>\n",
              "      <td>0</td>\n",
              "      <td>0.00481871</td>\n",
              "      <td>6.63345</td>\n",
              "    </tr>\n",
              "    <tr>\n",
              "      <th>Tatoray Stripper C620 Operation_Yield Summary_Reflux Rate_m3/hr</th>\n",
              "      <td>0</td>\n",
              "      <td>171.256</td>\n",
              "      <td>9.62612</td>\n",
              "    </tr>\n",
              "    <tr>\n",
              "      <th>Tatoray Stripper C620 Operation_Column Temp Profile_C620 Tray 14 (Control)_oC</th>\n",
              "      <td>0</td>\n",
              "      <td>291.811</td>\n",
              "      <td>8.01039</td>\n",
              "    </tr>\n",
              "    <tr>\n",
              "      <th>Tatoray Stripper C620 Operation_Column Temp Profile_C620 Tray 34 (Control)_oC</th>\n",
              "      <td>0</td>\n",
              "      <td>414.706</td>\n",
              "      <td>7.8531</td>\n",
              "    </tr>\n",
              "    <tr>\n",
              "      <th>AVG</th>\n",
              "      <td>0.00332151</td>\n",
              "      <td>5.1407</td>\n",
              "      <td>30.4164</td>\n",
              "    </tr>\n",
              "  </tbody>\n",
              "</table>\n",
              "<p>173 rows × 3 columns</p>\n",
              "</div>"
            ],
            "text/plain": [
              "                                                            R2  ...     MAPE\n",
              "Tatoray Stripper C620 Split Factors Calculation...           0  ...   6.8511\n",
              "Tatoray Stripper C620 Split Factors Calculation...           0  ...  18.3676\n",
              "Tatoray Stripper C620 Split Factors Calculation...           0  ...  39.3736\n",
              "Tatoray Stripper C620 Split Factors Calculation...           0  ...  40.0652\n",
              "Tatoray Stripper C620 Split Factors Calculation...           0  ...  42.5135\n",
              "...                                                        ...  ...      ...\n",
              "Density_Bottoms Production Rate and Composition              0  ...  6.63345\n",
              "Tatoray Stripper C620 Operation_Yield Summary_R...           0  ...  9.62612\n",
              "Tatoray Stripper C620 Operation_Column Temp Pro...           0  ...  8.01039\n",
              "Tatoray Stripper C620 Operation_Column Temp Pro...           0  ...   7.8531\n",
              "AVG                                                 0.00332151  ...  30.4164\n",
              "\n",
              "[173 rows x 3 columns]"
            ]
          },
          "metadata": {
            "tags": []
          },
          "execution_count": 27
        }
      ]
    },
    {
      "cell_type": "code",
      "metadata": {
        "colab": {
          "base_uri": "https://localhost:8080/"
        },
        "id": "1-8zSfUFvq4N",
        "outputId": "19b89fe6-929a-490c-f8ec-bfd7cb5d891d"
      },
      "source": [
        "# save\n",
        "joblib.dump(c620_model,'/content/drive/MyDrive/台塑輕油案子/data/c620/model/c620_real_data_linear.pkl')"
      ],
      "execution_count": 28,
      "outputs": [
        {
          "output_type": "execute_result",
          "data": {
            "text/plain": [
              "['/content/drive/MyDrive/台塑輕油案子/data/c620/model/c620_real_data_linear.pkl']"
            ]
          },
          "metadata": {
            "tags": []
          },
          "execution_count": 28
        }
      ]
    },
    {
      "cell_type": "markdown",
      "metadata": {
        "id": "UUFmBXxwwb0l"
      },
      "source": [
        "# c660 模擬數據"
      ]
    },
    {
      "cell_type": "code",
      "metadata": {
        "id": "PkPFWCfQwFje",
        "colab": {
          "base_uri": "https://localhost:8080/",
          "height": 316
        },
        "outputId": "a186bac3-ba33-4df2-b8bb-4ffc06292705"
      },
      "source": [
        "# load data\n",
        "c660_df = pd.read_csv('/content/drive/MyDrive/台塑輕油案子/data/c620/cleaned/c660_train.csv',index_col=0)\n",
        "c660_df_real = pd.read_excel('/content/drive/MyDrive/台塑輕油案子/data/c620/明志_遷移式學習_訓練資料_寄送版/c660_data.xlsx',index_col=0)\n",
        "c = joblib.load('/content/drive/MyDrive/台塑輕油案子/data/c620/col_names/c660_col_names.pkl')\n",
        "\n",
        "# def col\n",
        "x_col = c['case']+c['x41']\n",
        "op_col = c['density']+c['yRefluxRate']+c['yHeatDuty']+c['yControl']\n",
        "op_col = c660_df_real[op_col].dropna(axis=1).columns.tolist()\n",
        "sp_col = c['vent_gas_sf']+c['distillate_sf']+c['sidedraw_sf']+c['bottoms_sf']\n",
        "n_idx = [[i,i+41,i+41*2,i+41*3] for i in range(41)]\n",
        "\n",
        "# modeling\n",
        "c660_model = autorch.utils.PartBulider(c660_df,x_col,sp_col+op_col,limit_y_range=False,normalize_idx_list=n_idx,max_epochs=max_epochs)\n",
        "c660_model.net = nn.Linear(len(x_col),len(sp_col)+len(op_col))\n",
        "c660_model.optimizer = Adam(c660_model.net.parameters())\n",
        "c660_model.train()"
      ],
      "execution_count": 29,
      "outputs": [
        {
          "output_type": "stream",
          "text": [
            "  7%|▋         | 1/15 [00:00<00:02,  4.74it/s]"
          ],
          "name": "stderr"
        },
        {
          "output_type": "stream",
          "text": [
            "epoch:0 train_loss:1.8255 valid_loss:1.7817\n"
          ],
          "name": "stdout"
        },
        {
          "output_type": "stream",
          "text": [
            "100%|██████████| 15/15 [00:03<00:00,  4.64it/s]\n"
          ],
          "name": "stderr"
        },
        {
          "output_type": "display_data",
          "data": {
            "image/png": "[encoded data removed]",
            "text/plain": [
              "<Figure size 432x288 with 1 Axes>"
            ]
          },
          "metadata": {
            "tags": [],
            "needs_background": "light"
          }
        },
        {
          "output_type": "execute_result",
          "data": {
            "text/plain": [
              "<autorch.utils.part.PartBulider at 0x7f5d9a302450>"
            ]
          },
          "metadata": {
            "tags": []
          },
          "execution_count": 29
        }
      ]
    },
    {
      "cell_type": "code",
      "metadata": {
        "id": "HEgeZ29c36aG",
        "colab": {
          "base_uri": "https://localhost:8080/",
          "height": 419
        },
        "outputId": "29d73c3f-a291-425e-bc27-b8e94ac8ff8b"
      },
      "source": [
        "c660_model.test(e=0.02)"
      ],
      "execution_count": 30,
      "outputs": [
        {
          "output_type": "execute_result",
          "data": {
            "text/html": [
              "<div>\n",
              "<style scoped>\n",
              "    .dataframe tbody tr th:only-of-type {\n",
              "        vertical-align: middle;\n",
              "    }\n",
              "\n",
              "    .dataframe tbody tr th {\n",
              "        vertical-align: top;\n",
              "    }\n",
              "\n",
              "    .dataframe thead th {\n",
              "        text-align: right;\n",
              "    }\n",
              "</style>\n",
              "<table border=\"1\" class=\"dataframe\">\n",
              "  <thead>\n",
              "    <tr style=\"text-align: right;\">\n",
              "      <th></th>\n",
              "      <th>R2</th>\n",
              "      <th>MSE</th>\n",
              "      <th>MAPE</th>\n",
              "    </tr>\n",
              "  </thead>\n",
              "  <tbody>\n",
              "    <tr>\n",
              "      <th>Benzene Column C660 Split Factors Calculation_Split Factor for Individual Component to Benzene Column C660 Vent Gas_Hydrogen_Fraction</th>\n",
              "      <td>0</td>\n",
              "      <td>7.3759e-06</td>\n",
              "      <td>0.148477</td>\n",
              "    </tr>\n",
              "    <tr>\n",
              "      <th>Benzene Column C660 Split Factors Calculation_Split Factor for Individual Component to Benzene Column C660 Vent Gas_Methane_Fraction</th>\n",
              "      <td>0.679005</td>\n",
              "      <td>0.00707877</td>\n",
              "      <td>8.72659</td>\n",
              "    </tr>\n",
              "    <tr>\n",
              "      <th>Benzene Column C660 Split Factors Calculation_Split Factor for Individual Component to Benzene Column C660 Vent Gas_Ethane_Fraction</th>\n",
              "      <td>0.891109</td>\n",
              "      <td>0.00789713</td>\n",
              "      <td>21.0941</td>\n",
              "    </tr>\n",
              "    <tr>\n",
              "      <th>Benzene Column C660 Split Factors Calculation_Split Factor for Individual Component to Benzene Column C660 Vent Gas_Propane_Fraction</th>\n",
              "      <td>0.937807</td>\n",
              "      <td>0.00590498</td>\n",
              "      <td>29.551</td>\n",
              "    </tr>\n",
              "    <tr>\n",
              "      <th>Benzene Column C660 Split Factors Calculation_Split Factor for Individual Component to Benzene Column C660 Vent Gas_n-Butane_Fraction</th>\n",
              "      <td>0.914676</td>\n",
              "      <td>0.00600165</td>\n",
              "      <td>39.7357</td>\n",
              "    </tr>\n",
              "    <tr>\n",
              "      <th>...</th>\n",
              "      <td>...</td>\n",
              "      <td>...</td>\n",
              "      <td>...</td>\n",
              "    </tr>\n",
              "    <tr>\n",
              "      <th>Density_Bottoms Production Rate and Composition</th>\n",
              "      <td>0</td>\n",
              "      <td>0.000935994</td>\n",
              "      <td>2.8202</td>\n",
              "    </tr>\n",
              "    <tr>\n",
              "      <th>Benzene Column C660 Operation_Yield Summary_Reflux Rate_m3/hr</th>\n",
              "      <td>0</td>\n",
              "      <td>9951.42</td>\n",
              "      <td>67.3841</td>\n",
              "    </tr>\n",
              "    <tr>\n",
              "      <th>Benzene Column C660 Operation_Column Temp Profile_C660 Tray 6 (SD &amp; Control)_oC</th>\n",
              "      <td>0</td>\n",
              "      <td>2030.05</td>\n",
              "      <td>49.4806</td>\n",
              "    </tr>\n",
              "    <tr>\n",
              "      <th>Benzene Column C660 Operation_Column Temp Profile_C660 Tray 23 (Control)_oC</th>\n",
              "      <td>0</td>\n",
              "      <td>2329.08</td>\n",
              "      <td>51.3209</td>\n",
              "    </tr>\n",
              "    <tr>\n",
              "      <th>AVG</th>\n",
              "      <td>0.124004</td>\n",
              "      <td>83.2013</td>\n",
              "      <td>9.35474</td>\n",
              "    </tr>\n",
              "  </tbody>\n",
              "</table>\n",
              "<p>173 rows × 3 columns</p>\n",
              "</div>"
            ],
            "text/plain": [
              "                                                          R2  ...      MAPE\n",
              "Benzene Column C660 Split Factors Calculation_S...         0  ...  0.148477\n",
              "Benzene Column C660 Split Factors Calculation_S...  0.679005  ...   8.72659\n",
              "Benzene Column C660 Split Factors Calculation_S...  0.891109  ...   21.0941\n",
              "Benzene Column C660 Split Factors Calculation_S...  0.937807  ...    29.551\n",
              "Benzene Column C660 Split Factors Calculation_S...  0.914676  ...   39.7357\n",
              "...                                                      ...  ...       ...\n",
              "Density_Bottoms Production Rate and Composition            0  ...    2.8202\n",
              "Benzene Column C660 Operation_Yield Summary_Ref...         0  ...   67.3841\n",
              "Benzene Column C660 Operation_Column Temp Profi...         0  ...   49.4806\n",
              "Benzene Column C660 Operation_Column Temp Profi...         0  ...   51.3209\n",
              "AVG                                                 0.124004  ...   9.35474\n",
              "\n",
              "[173 rows x 3 columns]"
            ]
          },
          "metadata": {
            "tags": []
          },
          "execution_count": 30
        }
      ]
    },
    {
      "cell_type": "markdown",
      "metadata": {
        "id": "4qUwPcry4LYu"
      },
      "source": [
        "# c660遷移學習"
      ]
    },
    {
      "cell_type": "code",
      "metadata": {
        "id": "sFbliMxB4Jpp",
        "colab": {
          "base_uri": "https://localhost:8080/"
        },
        "outputId": "81339d72-5e83-423f-e79b-352d0a859af8"
      },
      "source": [
        "pretrain_net = deepcopy(c660_model.net.train())\n",
        "print(pretrain_net)"
      ],
      "execution_count": 31,
      "outputs": [
        {
          "output_type": "stream",
          "text": [
            "Linear(in_features=43, out_features=172, bias=True)\n"
          ],
          "name": "stdout"
        }
      ]
    },
    {
      "cell_type": "code",
      "metadata": {
        "id": "wtM2O-R04QsY"
      },
      "source": [
        "c660_model = autorch.utils.PartBulider(c660_df_real,x_col,sp_col+op_col,limit_y_range=False,normalize_idx_list=n_idx,max_epochs=max_epochs) # use real data  \n",
        "c660_model.net = pretrain_net # use pretrain net\n",
        "c660_model.optimizer = Adam(c660_model.net.parameters())"
      ],
      "execution_count": 32,
      "outputs": []
    },
    {
      "cell_type": "code",
      "metadata": {
        "id": "_zY6AAHx4Yeh",
        "colab": {
          "base_uri": "https://localhost:8080/",
          "height": 316
        },
        "outputId": "542abdcf-c7c4-4322-fa45-e44e52d033f1"
      },
      "source": [
        "c660_model.train()"
      ],
      "execution_count": 33,
      "outputs": [
        {
          "output_type": "stream",
          "text": [
            "100%|██████████| 15/15 [00:00<00:00, 276.95it/s]"
          ],
          "name": "stderr"
        },
        {
          "output_type": "stream",
          "text": [
            "epoch:0 train_loss:1.0981 valid_loss:1.0814\n"
          ],
          "name": "stdout"
        },
        {
          "output_type": "stream",
          "text": [
            "\n"
          ],
          "name": "stderr"
        },
        {
          "output_type": "display_data",
          "data": {
            "image/png": "[encoded data removed]",
            "text/plain": [
              "<Figure size 432x288 with 1 Axes>"
            ]
          },
          "metadata": {
            "tags": [],
            "needs_background": "light"
          }
        },
        {
          "output_type": "execute_result",
          "data": {
            "text/plain": [
              "<autorch.utils.part.PartBulider at 0x7f5d97fa5e50>"
            ]
          },
          "metadata": {
            "tags": []
          },
          "execution_count": 33
        }
      ]
    },
    {
      "cell_type": "code",
      "metadata": {
        "id": "WAJsjtHL_zO_",
        "colab": {
          "base_uri": "https://localhost:8080/",
          "height": 419
        },
        "outputId": "0104de77-702e-4f53-ca1c-885255c2b678"
      },
      "source": [
        "c660_model.test()"
      ],
      "execution_count": 34,
      "outputs": [
        {
          "output_type": "execute_result",
          "data": {
            "text/html": [
              "<div>\n",
              "<style scoped>\n",
              "    .dataframe tbody tr th:only-of-type {\n",
              "        vertical-align: middle;\n",
              "    }\n",
              "\n",
              "    .dataframe tbody tr th {\n",
              "        vertical-align: top;\n",
              "    }\n",
              "\n",
              "    .dataframe thead th {\n",
              "        text-align: right;\n",
              "    }\n",
              "</style>\n",
              "<table border=\"1\" class=\"dataframe\">\n",
              "  <thead>\n",
              "    <tr style=\"text-align: right;\">\n",
              "      <th></th>\n",
              "      <th>R2</th>\n",
              "      <th>MSE</th>\n",
              "      <th>MAPE</th>\n",
              "    </tr>\n",
              "  </thead>\n",
              "  <tbody>\n",
              "    <tr>\n",
              "      <th>Benzene Column C660 Split Factors Calculation_Split Factor for Individual Component to Benzene Column C660 Vent Gas_Hydrogen_Fraction</th>\n",
              "      <td>0</td>\n",
              "      <td>0.000429631</td>\n",
              "      <td>1.91071</td>\n",
              "    </tr>\n",
              "    <tr>\n",
              "      <th>Benzene Column C660 Split Factors Calculation_Split Factor for Individual Component to Benzene Column C660 Vent Gas_Methane_Fraction</th>\n",
              "      <td>0</td>\n",
              "      <td>0.0250835</td>\n",
              "      <td>NaN</td>\n",
              "    </tr>\n",
              "    <tr>\n",
              "      <th>Benzene Column C660 Split Factors Calculation_Split Factor for Individual Component to Benzene Column C660 Vent Gas_Ethane_Fraction</th>\n",
              "      <td>0</td>\n",
              "      <td>0.0014137</td>\n",
              "      <td>NaN</td>\n",
              "    </tr>\n",
              "    <tr>\n",
              "      <th>Benzene Column C660 Split Factors Calculation_Split Factor for Individual Component to Benzene Column C660 Vent Gas_Propane_Fraction</th>\n",
              "      <td>0</td>\n",
              "      <td>0.000187694</td>\n",
              "      <td>NaN</td>\n",
              "    </tr>\n",
              "    <tr>\n",
              "      <th>Benzene Column C660 Split Factors Calculation_Split Factor for Individual Component to Benzene Column C660 Vent Gas_n-Butane_Fraction</th>\n",
              "      <td>0</td>\n",
              "      <td>5.74426e-05</td>\n",
              "      <td>NaN</td>\n",
              "    </tr>\n",
              "    <tr>\n",
              "      <th>...</th>\n",
              "      <td>...</td>\n",
              "      <td>...</td>\n",
              "      <td>...</td>\n",
              "    </tr>\n",
              "    <tr>\n",
              "      <th>Density_Bottoms Production Rate and Composition</th>\n",
              "      <td>0</td>\n",
              "      <td>0.00427773</td>\n",
              "      <td>5.73296</td>\n",
              "    </tr>\n",
              "    <tr>\n",
              "      <th>Benzene Column C660 Operation_Yield Summary_Reflux Rate_m3/hr</th>\n",
              "      <td>0</td>\n",
              "      <td>8259.95</td>\n",
              "      <td>68.0421</td>\n",
              "    </tr>\n",
              "    <tr>\n",
              "      <th>Benzene Column C660 Operation_Column Temp Profile_C660 Tray 6 (SD &amp; Control)_oC</th>\n",
              "      <td>0</td>\n",
              "      <td>2078.52</td>\n",
              "      <td>52.0365</td>\n",
              "    </tr>\n",
              "    <tr>\n",
              "      <th>Benzene Column C660 Operation_Column Temp Profile_C660 Tray 23 (Control)_oC</th>\n",
              "      <td>0</td>\n",
              "      <td>2480.76</td>\n",
              "      <td>54.324</td>\n",
              "    </tr>\n",
              "    <tr>\n",
              "      <th>AVG</th>\n",
              "      <td>0</td>\n",
              "      <td>74.6114</td>\n",
              "      <td>327738</td>\n",
              "    </tr>\n",
              "  </tbody>\n",
              "</table>\n",
              "<p>173 rows × 3 columns</p>\n",
              "</div>"
            ],
            "text/plain": [
              "                                                   R2          MSE     MAPE\n",
              "Benzene Column C660 Split Factors Calculation_S...  0  0.000429631  1.91071\n",
              "Benzene Column C660 Split Factors Calculation_S...  0    0.0250835      NaN\n",
              "Benzene Column C660 Split Factors Calculation_S...  0    0.0014137      NaN\n",
              "Benzene Column C660 Split Factors Calculation_S...  0  0.000187694      NaN\n",
              "Benzene Column C660 Split Factors Calculation_S...  0  5.74426e-05      NaN\n",
              "...                                                ..          ...      ...\n",
              "Density_Bottoms Production Rate and Composition     0   0.00427773  5.73296\n",
              "Benzene Column C660 Operation_Yield Summary_Ref...  0      8259.95  68.0421\n",
              "Benzene Column C660 Operation_Column Temp Profi...  0      2078.52  52.0365\n",
              "Benzene Column C660 Operation_Column Temp Profi...  0      2480.76   54.324\n",
              "AVG                                                 0      74.6114   327738\n",
              "\n",
              "[173 rows x 3 columns]"
            ]
          },
          "metadata": {
            "tags": []
          },
          "execution_count": 34
        }
      ]
    },
    {
      "cell_type": "code",
      "metadata": {
        "id": "PwSxN3gf4bYB",
        "colab": {
          "base_uri": "https://localhost:8080/"
        },
        "outputId": "86acf6ca-2365-42a5-b903-043c5250c304"
      },
      "source": [
        "# save\n",
        "joblib.dump(c660_model,'/content/drive/MyDrive/台塑輕油案子/data/c620/model/c660_real_data_linear.pkl')"
      ],
      "execution_count": 35,
      "outputs": [
        {
          "output_type": "execute_result",
          "data": {
            "text/plain": [
              "['/content/drive/MyDrive/台塑輕油案子/data/c620/model/c660_real_data_linear.pkl']"
            ]
          },
          "metadata": {
            "tags": []
          },
          "execution_count": 35
        }
      ]
    },
    {
      "cell_type": "markdown",
      "metadata": {
        "id": "Kw1n66YO4h0Y"
      },
      "source": [
        "# c670 模擬數據"
      ]
    },
    {
      "cell_type": "code",
      "metadata": {
        "id": "6pumKLap4gzZ"
      },
      "source": [
        "# load data\n",
        "import numpy as np\n",
        "c670_df = pd.read_csv('/content/drive/MyDrive/台塑輕油案子/data/c620/cleaned/c670_train.csv',index_col=0)\n",
        "c670_df_real = pd.read_excel('/content/drive/MyDrive/台塑輕油案子/data/c620/明志_遷移式學習_訓練資料_寄送版/c670_data.xlsx',index_col=0)\n",
        "c = joblib.load('/content/drive/MyDrive/台塑輕油案子/data/c620/col_names/c670_col_names.pkl')"
      ],
      "execution_count": 36,
      "outputs": []
    },
    {
      "cell_type": "code",
      "metadata": {
        "id": "1omARM974-7x"
      },
      "source": [
        "# 根據條件修改值\n",
        "def change_value(df):\n",
        "  a = df[c['upper_bf']]\n",
        "  紫色零點零欄位 = a[a==0.0].dropna(axis=1).columns.tolist()\n",
        "  紫色零點一欄位 = a[a==0.1].dropna(axis=1).columns.tolist()\n",
        "  紫色零點九欄位 = a[a==0.9].dropna(axis=1).columns.tolist()\n",
        "  紫色一點零欄位 = a[a==1.0].dropna(axis=1).columns.tolist()\n",
        "  df.loc[:,紫色零點零欄位] = 0.0001 \n",
        "  df.loc[:,紫色零點一欄位] = 0.0001 \n",
        "  df.loc[:,紫色零點九欄位] = 0.9999\n",
        "  df.loc[:,紫色一點零欄位] = 0.9999\n",
        "  return df"
      ],
      "execution_count": 37,
      "outputs": []
    },
    {
      "cell_type": "code",
      "metadata": {
        "id": "j3Vp7HXM5Y-5"
      },
      "source": [
        "c670_df = change_value(c670_df)"
      ],
      "execution_count": 38,
      "outputs": []
    },
    {
      "cell_type": "code",
      "metadata": {
        "id": "7I6QNY0a5cJa"
      },
      "source": [
        "c670_df_real = change_value(c670_df_real)"
      ],
      "execution_count": 39,
      "outputs": []
    },
    {
      "cell_type": "code",
      "metadata": {
        "id": "Vh6sb-al7Hyh"
      },
      "source": [
        "x_col = c['combined'] + c['upper_bf']\n",
        "op_col = c['density']+c['yRefluxRate']+c['yHeatDuty']+c['yControl']\n",
        "op_col = c670_df_real[op_col].dropna(axis=1).columns.tolist()\n",
        "sp_col = c['distillate_sf']+c['bottoms_sf']\n",
        "n_idx = [[i,i+41] for i in range(41)]"
      ],
      "execution_count": 40,
      "outputs": []
    },
    {
      "cell_type": "code",
      "metadata": {
        "id": "qgybSV187hEU",
        "colab": {
          "base_uri": "https://localhost:8080/",
          "height": 316
        },
        "outputId": "208527f8-c116-4160-94a2-b397261a75ed"
      },
      "source": [
        "c670_model = autorch.utils.PartBulider(c670_df,x_col,sp_col+op_col,limit_y_range=False,normalize_idx_list=n_idx,max_epochs=max_epochs)\n",
        "c670_model.net = nn.Linear(len(x_col),len(sp_col)+len(op_col))\n",
        "c670_model.optimizer = Adam(c670_model.net.parameters())\n",
        "c670_model.train()"
      ],
      "execution_count": 41,
      "outputs": [
        {
          "output_type": "stream",
          "text": [
            "  7%|▋         | 1/15 [00:00<00:02,  4.70it/s]"
          ],
          "name": "stderr"
        },
        {
          "output_type": "stream",
          "text": [
            "epoch:0 train_loss:7.6240 valid_loss:7.5041\n"
          ],
          "name": "stdout"
        },
        {
          "output_type": "stream",
          "text": [
            "100%|██████████| 15/15 [00:03<00:00,  4.38it/s]\n"
          ],
          "name": "stderr"
        },
        {
          "output_type": "display_data",
          "data": {
            "image/png": "[encoded data removed]",
            "text/plain": [
              "<Figure size 432x288 with 1 Axes>"
            ]
          },
          "metadata": {
            "tags": [],
            "needs_background": "light"
          }
        },
        {
          "output_type": "execute_result",
          "data": {
            "text/plain": [
              "<autorch.utils.part.PartBulider at 0x7f5d9763f490>"
            ]
          },
          "metadata": {
            "tags": []
          },
          "execution_count": 41
        }
      ]
    },
    {
      "cell_type": "code",
      "metadata": {
        "id": "sAfqbgHg7yBT",
        "colab": {
          "base_uri": "https://localhost:8080/",
          "height": 419
        },
        "outputId": "639b752a-a2ab-4afc-e2f6-ea3f3d8e2793"
      },
      "source": [
        "c670_model.test(e=0.02)"
      ],
      "execution_count": 42,
      "outputs": [
        {
          "output_type": "execute_result",
          "data": {
            "text/html": [
              "<div>\n",
              "<style scoped>\n",
              "    .dataframe tbody tr th:only-of-type {\n",
              "        vertical-align: middle;\n",
              "    }\n",
              "\n",
              "    .dataframe tbody tr th {\n",
              "        vertical-align: top;\n",
              "    }\n",
              "\n",
              "    .dataframe thead th {\n",
              "        text-align: right;\n",
              "    }\n",
              "</style>\n",
              "<table border=\"1\" class=\"dataframe\">\n",
              "  <thead>\n",
              "    <tr style=\"text-align: right;\">\n",
              "      <th></th>\n",
              "      <th>R2</th>\n",
              "      <th>MSE</th>\n",
              "      <th>MAPE</th>\n",
              "    </tr>\n",
              "  </thead>\n",
              "  <tbody>\n",
              "    <tr>\n",
              "      <th>Toluene Column C670 Split Factors Calculation_Split Factor for Individual Component to Toluene Column C670 Distillate_Hydrogen_Fraction</th>\n",
              "      <td>0</td>\n",
              "      <td>1.12836e-06</td>\n",
              "      <td>0.0484656</td>\n",
              "    </tr>\n",
              "    <tr>\n",
              "      <th>Toluene Column C670 Split Factors Calculation_Split Factor for Individual Component to Toluene Column C670 Distillate_Methane_Fraction</th>\n",
              "      <td>0</td>\n",
              "      <td>3.05049e-06</td>\n",
              "      <td>0.111034</td>\n",
              "    </tr>\n",
              "    <tr>\n",
              "      <th>Toluene Column C670 Split Factors Calculation_Split Factor for Individual Component to Toluene Column C670 Distillate_Ethane_Fraction</th>\n",
              "      <td>0</td>\n",
              "      <td>1.5726e-06</td>\n",
              "      <td>0.0514323</td>\n",
              "    </tr>\n",
              "    <tr>\n",
              "      <th>Toluene Column C670 Split Factors Calculation_Split Factor for Individual Component to Toluene Column C670 Distillate_Propane_Fraction</th>\n",
              "      <td>0</td>\n",
              "      <td>1.43181e-06</td>\n",
              "      <td>0.0694752</td>\n",
              "    </tr>\n",
              "    <tr>\n",
              "      <th>Toluene Column C670 Split Factors Calculation_Split Factor for Individual Component to Toluene Column C670 Distillate_n-Butane_Fraction</th>\n",
              "      <td>0</td>\n",
              "      <td>9.22721e-06</td>\n",
              "      <td>0.166325</td>\n",
              "    </tr>\n",
              "    <tr>\n",
              "      <th>...</th>\n",
              "      <td>...</td>\n",
              "      <td>...</td>\n",
              "      <td>...</td>\n",
              "    </tr>\n",
              "    <tr>\n",
              "      <th>Density_Bottoms Production Rate and Composition</th>\n",
              "      <td>0</td>\n",
              "      <td>0.000138996</td>\n",
              "      <td>1.07297</td>\n",
              "    </tr>\n",
              "    <tr>\n",
              "      <th>Toluene Column C670 Operation_Yield \\nSummary_Reflux Rate_m3/hr</th>\n",
              "      <td>0</td>\n",
              "      <td>35364.9</td>\n",
              "      <td>71.3408</td>\n",
              "    </tr>\n",
              "    <tr>\n",
              "      <th>Toluene Column C670 Operation_Column Temp Profile_C670 Tray 24 (Control)_oC</th>\n",
              "      <td>0</td>\n",
              "      <td>11986.9</td>\n",
              "      <td>59.5251</td>\n",
              "    </tr>\n",
              "    <tr>\n",
              "      <th>Toluene Column C670 Operation_Column Temp Profile_C670 Btm Temp (Control)_oC</th>\n",
              "      <td>0</td>\n",
              "      <td>23905.1</td>\n",
              "      <td>67.7007</td>\n",
              "    </tr>\n",
              "    <tr>\n",
              "      <th>AVG</th>\n",
              "      <td>0.0439977</td>\n",
              "      <td>819.044</td>\n",
              "      <td>4.38437</td>\n",
              "    </tr>\n",
              "  </tbody>\n",
              "</table>\n",
              "<p>88 rows × 3 columns</p>\n",
              "</div>"
            ],
            "text/plain": [
              "                                                           R2  ...       MAPE\n",
              "Toluene Column C670 Split Factors Calculation_S...          0  ...  0.0484656\n",
              "Toluene Column C670 Split Factors Calculation_S...          0  ...   0.111034\n",
              "Toluene Column C670 Split Factors Calculation_S...          0  ...  0.0514323\n",
              "Toluene Column C670 Split Factors Calculation_S...          0  ...  0.0694752\n",
              "Toluene Column C670 Split Factors Calculation_S...          0  ...   0.166325\n",
              "...                                                       ...  ...        ...\n",
              "Density_Bottoms Production Rate and Composition             0  ...    1.07297\n",
              "Toluene Column C670 Operation_Yield \\nSummary_R...          0  ...    71.3408\n",
              "Toluene Column C670 Operation_Column Temp Profi...          0  ...    59.5251\n",
              "Toluene Column C670 Operation_Column Temp Profi...          0  ...    67.7007\n",
              "AVG                                                 0.0439977  ...    4.38437\n",
              "\n",
              "[88 rows x 3 columns]"
            ]
          },
          "metadata": {
            "tags": []
          },
          "execution_count": 42
        }
      ]
    },
    {
      "cell_type": "markdown",
      "metadata": {
        "id": "7jy_hgTZ8VPk"
      },
      "source": [
        "# c670 遷移學習"
      ]
    },
    {
      "cell_type": "code",
      "metadata": {
        "id": "-RqK7C7I8S_j",
        "colab": {
          "base_uri": "https://localhost:8080/"
        },
        "outputId": "21708460-c79f-4233-964a-273f546ea8a6"
      },
      "source": [
        "pretrain_net = deepcopy(c670_model.net.train())\n",
        "print(pretrain_net)"
      ],
      "execution_count": 43,
      "outputs": [
        {
          "output_type": "stream",
          "text": [
            "Linear(in_features=82, out_features=87, bias=True)\n"
          ],
          "name": "stdout"
        }
      ]
    },
    {
      "cell_type": "code",
      "metadata": {
        "id": "-ty7t-c48Znj"
      },
      "source": [
        "c670_model = autorch.utils.PartBulider(c670_df_real,x_col,sp_col+op_col,limit_y_range=False,normalize_idx_list=n_idx,max_epochs=max_epochs) # use real data  \n",
        "c670_model.net = pretrain_net # use pretrain net\n",
        "c670_model.optimizer = Adam(c670_model.net.parameters())"
      ],
      "execution_count": 44,
      "outputs": []
    },
    {
      "cell_type": "code",
      "metadata": {
        "id": "JSB9-lIc8gLb",
        "colab": {
          "base_uri": "https://localhost:8080/",
          "height": 316
        },
        "outputId": "450ad2ef-f01b-483f-8bd7-29f98cdef620"
      },
      "source": [
        "c670_model.train()"
      ],
      "execution_count": 45,
      "outputs": [
        {
          "output_type": "stream",
          "text": [
            "100%|██████████| 15/15 [00:00<00:00, 233.45it/s]"
          ],
          "name": "stderr"
        },
        {
          "output_type": "stream",
          "text": [
            "epoch:0 train_loss:5.7917 valid_loss:5.7756\n"
          ],
          "name": "stdout"
        },
        {
          "output_type": "stream",
          "text": [
            "\n"
          ],
          "name": "stderr"
        },
        {
          "output_type": "display_data",
          "data": {
            "image/png": "[encoded data removed]",
            "text/plain": [
              "<Figure size 432x288 with 1 Axes>"
            ]
          },
          "metadata": {
            "tags": [],
            "needs_background": "light"
          }
        },
        {
          "output_type": "execute_result",
          "data": {
            "text/plain": [
              "<autorch.utils.part.PartBulider at 0x7f5d97589d50>"
            ]
          },
          "metadata": {
            "tags": []
          },
          "execution_count": 45
        }
      ]
    },
    {
      "cell_type": "code",
      "metadata": {
        "id": "x5ZwPB5o8itz",
        "colab": {
          "base_uri": "https://localhost:8080/",
          "height": 419
        },
        "outputId": "54bb287e-f8f6-4890-ef34-5b8c79cd5a0f"
      },
      "source": [
        "c670_model.test(e=0.02)"
      ],
      "execution_count": 46,
      "outputs": [
        {
          "output_type": "execute_result",
          "data": {
            "text/html": [
              "<div>\n",
              "<style scoped>\n",
              "    .dataframe tbody tr th:only-of-type {\n",
              "        vertical-align: middle;\n",
              "    }\n",
              "\n",
              "    .dataframe tbody tr th {\n",
              "        vertical-align: top;\n",
              "    }\n",
              "\n",
              "    .dataframe thead th {\n",
              "        text-align: right;\n",
              "    }\n",
              "</style>\n",
              "<table border=\"1\" class=\"dataframe\">\n",
              "  <thead>\n",
              "    <tr style=\"text-align: right;\">\n",
              "      <th></th>\n",
              "      <th>R2</th>\n",
              "      <th>MSE</th>\n",
              "      <th>MAPE</th>\n",
              "    </tr>\n",
              "  </thead>\n",
              "  <tbody>\n",
              "    <tr>\n",
              "      <th>Toluene Column C670 Split Factors Calculation_Split Factor for Individual Component to Toluene Column C670 Distillate_Hydrogen_Fraction</th>\n",
              "      <td>0</td>\n",
              "      <td>0.000254071</td>\n",
              "      <td>1.1989</td>\n",
              "    </tr>\n",
              "    <tr>\n",
              "      <th>Toluene Column C670 Split Factors Calculation_Split Factor for Individual Component to Toluene Column C670 Distillate_Methane_Fraction</th>\n",
              "      <td>0</td>\n",
              "      <td>0.000478077</td>\n",
              "      <td>1.02771</td>\n",
              "    </tr>\n",
              "    <tr>\n",
              "      <th>Toluene Column C670 Split Factors Calculation_Split Factor for Individual Component to Toluene Column C670 Distillate_Ethane_Fraction</th>\n",
              "      <td>0</td>\n",
              "      <td>0.000255172</td>\n",
              "      <td>0.900185</td>\n",
              "    </tr>\n",
              "    <tr>\n",
              "      <th>Toluene Column C670 Split Factors Calculation_Split Factor for Individual Component to Toluene Column C670 Distillate_Propane_Fraction</th>\n",
              "      <td>0</td>\n",
              "      <td>5.17159e-05</td>\n",
              "      <td>0.295613</td>\n",
              "    </tr>\n",
              "    <tr>\n",
              "      <th>Toluene Column C670 Split Factors Calculation_Split Factor for Individual Component to Toluene Column C670 Distillate_n-Butane_Fraction</th>\n",
              "      <td>0</td>\n",
              "      <td>0.000672333</td>\n",
              "      <td>1.73464</td>\n",
              "    </tr>\n",
              "    <tr>\n",
              "      <th>...</th>\n",
              "      <td>...</td>\n",
              "      <td>...</td>\n",
              "      <td>...</td>\n",
              "    </tr>\n",
              "    <tr>\n",
              "      <th>Density_Bottoms Production Rate and Composition</th>\n",
              "      <td>0</td>\n",
              "      <td>0.00432302</td>\n",
              "      <td>5.03653</td>\n",
              "    </tr>\n",
              "    <tr>\n",
              "      <th>Toluene Column C670 Operation_Yield \\nSummary_Reflux Rate_m3/hr</th>\n",
              "      <td>0</td>\n",
              "      <td>39998.2</td>\n",
              "      <td>76.5472</td>\n",
              "    </tr>\n",
              "    <tr>\n",
              "      <th>Toluene Column C670 Operation_Column Temp Profile_C670 Tray 24 (Control)_oC</th>\n",
              "      <td>0</td>\n",
              "      <td>14937.1</td>\n",
              "      <td>66.7988</td>\n",
              "    </tr>\n",
              "    <tr>\n",
              "      <th>Toluene Column C670 Operation_Column Temp Profile_C670 Btm Temp (Control)_oC</th>\n",
              "      <td>0</td>\n",
              "      <td>27811.9</td>\n",
              "      <td>73.3676</td>\n",
              "    </tr>\n",
              "    <tr>\n",
              "      <th>AVG</th>\n",
              "      <td>0.00309057</td>\n",
              "      <td>951.132</td>\n",
              "      <td>23.8721</td>\n",
              "    </tr>\n",
              "  </tbody>\n",
              "</table>\n",
              "<p>88 rows × 3 columns</p>\n",
              "</div>"
            ],
            "text/plain": [
              "                                                            R2  ...      MAPE\n",
              "Toluene Column C670 Split Factors Calculation_S...           0  ...    1.1989\n",
              "Toluene Column C670 Split Factors Calculation_S...           0  ...   1.02771\n",
              "Toluene Column C670 Split Factors Calculation_S...           0  ...  0.900185\n",
              "Toluene Column C670 Split Factors Calculation_S...           0  ...  0.295613\n",
              "Toluene Column C670 Split Factors Calculation_S...           0  ...   1.73464\n",
              "...                                                        ...  ...       ...\n",
              "Density_Bottoms Production Rate and Composition              0  ...   5.03653\n",
              "Toluene Column C670 Operation_Yield \\nSummary_R...           0  ...   76.5472\n",
              "Toluene Column C670 Operation_Column Temp Profi...           0  ...   66.7988\n",
              "Toluene Column C670 Operation_Column Temp Profi...           0  ...   73.3676\n",
              "AVG                                                 0.00309057  ...   23.8721\n",
              "\n",
              "[88 rows x 3 columns]"
            ]
          },
          "metadata": {
            "tags": []
          },
          "execution_count": 46
        }
      ]
    },
    {
      "cell_type": "code",
      "metadata": {
        "id": "KVf7ZAeK8mZT",
        "colab": {
          "base_uri": "https://localhost:8080/"
        },
        "outputId": "0226c941-e585-4ac1-f2fc-1b8eff49d4ff"
      },
      "source": [
        "joblib.dump(c670_model,'/content/drive/MyDrive/台塑輕油案子/data/c620/model/c670_real_data_linear.pkl')"
      ],
      "execution_count": 47,
      "outputs": [
        {
          "output_type": "execute_result",
          "data": {
            "text/plain": [
              "['/content/drive/MyDrive/台塑輕油案子/data/c620/model/c670_real_data_linear.pkl']"
            ]
          },
          "metadata": {
            "tags": []
          },
          "execution_count": 47
        }
      ]
    },
    {
      "cell_type": "code",
      "metadata": {
        "id": "pnnMcnVE8xAb"
      },
      "source": [
        ""
      ],
      "execution_count": 47,
      "outputs": []
    }
  ]
}