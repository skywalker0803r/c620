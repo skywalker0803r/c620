{
  "nbformat": 4,
  "nbformat_minor": 0,
  "metadata": {
    "colab": {
      "name": "linear_model.ipynb",
      "provenance": [],
      "mount_file_id": "https://github.com/skywalker0803r/c620/blob/main/notebook/linear_model.ipynb",
      "authorship_tag": "ABX9TyOOWxKYLKF1S2lAigjqEpTE",
      "include_colab_link": true
    },
    "kernelspec": {
      "name": "python3",
      "display_name": "Python 3"
    },
    "language_info": {
      "name": "python"
    }
  },
  "cells": [
    {
      "cell_type": "markdown",
      "metadata": {
        "id": "view-in-github",
        "colab_type": "text"
      },
      "source": [
        "<a href=\"https://colab.research.google.com/github/skywalker0803r/c620/blob/main/notebook/linear_model.ipynb\" target=\"_parent\"><img src=\"https://colab.research.google.com/assets/colab-badge.svg\" alt=\"Open In Colab\"/></a>"
      ]
    },
    {
      "cell_type": "code",
      "metadata": {
        "id": "uOGQX9YjqMju"
      },
      "source": [
        "!pip install autorch >log.txt"
      ],
      "execution_count": 1,
      "outputs": []
    },
    {
      "cell_type": "code",
      "metadata": {
        "id": "tKnv94HhqT5K"
      },
      "source": [
        "import pandas as pd\n",
        "import joblib\n",
        "import autorch\n",
        "from torch import nn#\n",
        "from torch.optim import Adam\n",
        "max_epochs = 100"
      ],
      "execution_count": 2,
      "outputs": []
    },
    {
      "cell_type": "markdown",
      "metadata": {
        "id": "SDKVxW1evK09"
      },
      "source": [
        "# c620 模擬數據"
      ]
    },
    {
      "cell_type": "code",
      "metadata": {
        "colab": {
          "base_uri": "https://localhost:8080/",
          "height": 370
        },
        "id": "CNpU0VnpqcgK",
        "outputId": "adddbcac-cf65-4359-b31f-351ca85d0270"
      },
      "source": [
        "# load data\n",
        "c620_df = pd.read_csv('/content/drive/MyDrive/台塑輕油案子/data/c620/cleaned/c620_train.csv',index_col=0)\n",
        "c620_df_real = pd.read_excel('/content/drive/MyDrive/台塑輕油案子/data/c620/明志_遷移式學習_訓練資料_寄送版/c620_data.xlsx',index_col=0)\n",
        "c = joblib.load('/content/drive/MyDrive/台塑輕油案子/data/c620/col_names/c620_col_names.pkl')\n",
        "print(c.keys())\n",
        "# def col\n",
        "x_col = c['case']+c['x41']\n",
        "op_col = c['density']+c['yRefluxRate']+c['yHeatDuty']+c['yControl']\n",
        "op_col = c620_df_real[op_col].dropna(axis=1).columns.tolist()\n",
        "sp_col = c['vent_gas_sf']+c['distillate_sf']+c['sidedraw_sf']+c['bottoms_sf']\n",
        "n_idx = [[i,i+41,i+41*2,i+41*3] for i in range(41)]\n",
        "\n",
        "# modeling\n",
        "c620_model = autorch.utils.PartBulider(c620_df,x_col,sp_col+op_col,limit_y_range=True,normalize_idx_list=n_idx,max_epochs=max_epochs)\n",
        "c620_model.net = nn.Linear(len(x_col),len(sp_col)+len(op_col))\n",
        "c620_model.optimizer = Adam(c620_model.net.parameters(),lr=0.01)\n",
        "c620_model.train()"
      ],
      "execution_count": 3,
      "outputs": [
        {
          "output_type": "stream",
          "text": [
            "\r  0%|          | 0/100 [00:00<?, ?it/s]"
          ],
          "name": "stderr"
        },
        {
          "output_type": "stream",
          "text": [
            "dict_keys(['x41', 'case', 'yRefluxRate', 'yControl', 'yHeatDuty', 'vent_gas_x', 'distillate_x', 'sidedraw_x', 'bottoms_x', 'vent_gas_sf', 'distillate_sf', 'sidedraw_sf', 'bottoms_sf', 'density'])\n"
          ],
          "name": "stdout"
        },
        {
          "output_type": "stream",
          "text": [
            "\r  1%|          | 1/100 [00:00<00:46,  2.14it/s]"
          ],
          "name": "stderr"
        },
        {
          "output_type": "stream",
          "text": [
            "epoch:0 train_loss:0.0098 valid_loss:0.0034\n"
          ],
          "name": "stdout"
        },
        {
          "output_type": "stream",
          "text": [
            " 51%|█████     | 51/100 [00:11<00:10,  4.46it/s]"
          ],
          "name": "stderr"
        },
        {
          "output_type": "stream",
          "text": [
            "epoch:50 train_loss:0.0033 valid_loss:0.0035\n"
          ],
          "name": "stdout"
        },
        {
          "output_type": "stream",
          "text": [
            "100%|██████████| 100/100 [00:22<00:00,  4.47it/s]\n"
          ],
          "name": "stderr"
        },
        {
          "output_type": "display_data",
          "data": {
            "image/png": "[encoded data removed]",
            "text/plain": [
              "<Figure size 432x288 with 1 Axes>"
            ]
          },
          "metadata": {
            "tags": [],
            "needs_background": "light"
          }
        },
        {
          "output_type": "execute_result",
          "data": {
            "text/plain": [
              "<autorch.utils.part.PartBulider at 0x7ff022bdc4d0>"
            ]
          },
          "metadata": {
            "tags": []
          },
          "execution_count": 3
        }
      ]
    },
    {
      "cell_type": "code",
      "metadata": {
        "colab": {
          "base_uri": "https://localhost:8080/",
          "height": 419
        },
        "id": "U5DGlA4HqsRU",
        "outputId": "caf74b6d-8100-41cb-d816-3fc47cbcf031"
      },
      "source": [
        "# test\n",
        "c620_model.test(e=0.02)"
      ],
      "execution_count": 4,
      "outputs": [
        {
          "output_type": "execute_result",
          "data": {
            "text/html": [
              "<div>\n",
              "<style scoped>\n",
              "    .dataframe tbody tr th:only-of-type {\n",
              "        vertical-align: middle;\n",
              "    }\n",
              "\n",
              "    .dataframe tbody tr th {\n",
              "        vertical-align: top;\n",
              "    }\n",
              "\n",
              "    .dataframe thead th {\n",
              "        text-align: right;\n",
              "    }\n",
              "</style>\n",
              "<table border=\"1\" class=\"dataframe\">\n",
              "  <thead>\n",
              "    <tr style=\"text-align: right;\">\n",
              "      <th></th>\n",
              "      <th>R2</th>\n",
              "      <th>MSE</th>\n",
              "      <th>MAPE</th>\n",
              "    </tr>\n",
              "  </thead>\n",
              "  <tbody>\n",
              "    <tr>\n",
              "      <th>Tatoray Stripper C620 Split Factors Calculation_Split Factor for Individual Component to Tatoray Stripper C620 Vent Gas_Hydrogen_Fraction</th>\n",
              "      <td>0</td>\n",
              "      <td>1.41574e-05</td>\n",
              "      <td>0.287359</td>\n",
              "    </tr>\n",
              "    <tr>\n",
              "      <th>Tatoray Stripper C620 Split Factors Calculation_Split Factor for Individual Component to Tatoray Stripper C620 Vent Gas_Methane_Fraction</th>\n",
              "      <td>0.960363</td>\n",
              "      <td>9.82748e-07</td>\n",
              "      <td>0.0633085</td>\n",
              "    </tr>\n",
              "    <tr>\n",
              "      <th>Tatoray Stripper C620 Split Factors Calculation_Split Factor for Individual Component to Tatoray Stripper C620 Vent Gas_Ethane_Fraction</th>\n",
              "      <td>0.944629</td>\n",
              "      <td>3.33788e-05</td>\n",
              "      <td>0.284815</td>\n",
              "    </tr>\n",
              "    <tr>\n",
              "      <th>Tatoray Stripper C620 Split Factors Calculation_Split Factor for Individual Component to Tatoray Stripper C620 Vent Gas_Propane_Fraction</th>\n",
              "      <td>0.974034</td>\n",
              "      <td>0.000109737</td>\n",
              "      <td>0.684115</td>\n",
              "    </tr>\n",
              "    <tr>\n",
              "      <th>Tatoray Stripper C620 Split Factors Calculation_Split Factor for Individual Component to Tatoray Stripper C620 Vent Gas_n-Butane_Fraction</th>\n",
              "      <td>0.889364</td>\n",
              "      <td>0.00199845</td>\n",
              "      <td>4.62444</td>\n",
              "    </tr>\n",
              "    <tr>\n",
              "      <th>...</th>\n",
              "      <td>...</td>\n",
              "      <td>...</td>\n",
              "      <td>...</td>\n",
              "    </tr>\n",
              "    <tr>\n",
              "      <th>Density_Bottoms Production Rate and Composition</th>\n",
              "      <td>0.998423</td>\n",
              "      <td>2.65017e-11</td>\n",
              "      <td>0.000469604</td>\n",
              "    </tr>\n",
              "    <tr>\n",
              "      <th>Tatoray Stripper C620 Operation_Yield Summary_Reflux Rate_m3/hr</th>\n",
              "      <td>0.990946</td>\n",
              "      <td>1.21388</td>\n",
              "      <td>0.680354</td>\n",
              "    </tr>\n",
              "    <tr>\n",
              "      <th>Tatoray Stripper C620 Operation_Column Temp Profile_C620 Tray 14 (Control)_oC</th>\n",
              "      <td>0.953215</td>\n",
              "      <td>0.0615909</td>\n",
              "      <td>0.132481</td>\n",
              "    </tr>\n",
              "    <tr>\n",
              "      <th>Tatoray Stripper C620 Operation_Column Temp Profile_C620 Tray 34 (Control)_oC</th>\n",
              "      <td>0.995859</td>\n",
              "      <td>0.00321542</td>\n",
              "      <td>0.0250153</td>\n",
              "    </tr>\n",
              "    <tr>\n",
              "      <th>AVG</th>\n",
              "      <td>0.692116</td>\n",
              "      <td>0.00760709</td>\n",
              "      <td>3.30475</td>\n",
              "    </tr>\n",
              "  </tbody>\n",
              "</table>\n",
              "<p>173 rows × 3 columns</p>\n",
              "</div>"
            ],
            "text/plain": [
              "                                                          R2  ...         MAPE\n",
              "Tatoray Stripper C620 Split Factors Calculation...         0  ...     0.287359\n",
              "Tatoray Stripper C620 Split Factors Calculation...  0.960363  ...    0.0633085\n",
              "Tatoray Stripper C620 Split Factors Calculation...  0.944629  ...     0.284815\n",
              "Tatoray Stripper C620 Split Factors Calculation...  0.974034  ...     0.684115\n",
              "Tatoray Stripper C620 Split Factors Calculation...  0.889364  ...      4.62444\n",
              "...                                                      ...  ...          ...\n",
              "Density_Bottoms Production Rate and Composition     0.998423  ...  0.000469604\n",
              "Tatoray Stripper C620 Operation_Yield Summary_R...  0.990946  ...     0.680354\n",
              "Tatoray Stripper C620 Operation_Column Temp Pro...  0.953215  ...     0.132481\n",
              "Tatoray Stripper C620 Operation_Column Temp Pro...  0.995859  ...    0.0250153\n",
              "AVG                                                 0.692116  ...      3.30475\n",
              "\n",
              "[173 rows x 3 columns]"
            ]
          },
          "metadata": {
            "tags": []
          },
          "execution_count": 4
        }
      ]
    },
    {
      "cell_type": "markdown",
      "metadata": {
        "id": "1rZN9cjQwV9x"
      },
      "source": [
        "# c620遷移學習"
      ]
    },
    {
      "cell_type": "code",
      "metadata": {
        "colab": {
          "base_uri": "https://localhost:8080/"
        },
        "id": "LGApjf5fsgP2",
        "outputId": "d970061c-1601-45cd-e49b-ea1aa9ba2270"
      },
      "source": [
        "# use pretrain net continue training\n",
        "from copy import deepcopy\n",
        "pretrain_net = deepcopy(c620_model.net.train())\n",
        "print(pretrain_net)"
      ],
      "execution_count": 5,
      "outputs": [
        {
          "output_type": "stream",
          "text": [
            "Linear(in_features=44, out_features=172, bias=True)\n"
          ],
          "name": "stdout"
        }
      ]
    },
    {
      "cell_type": "code",
      "metadata": {
        "id": "glLlPyJsrHUa"
      },
      "source": [
        "c620_model = autorch.utils.PartBulider(c620_df_real,x_col,sp_col+op_col,limit_y_range=True,normalize_idx_list=n_idx,max_epochs=max_epochs) # use real data  \n",
        "c620_model.net = pretrain_net # use pretrain net\n",
        "c620_model.optimizer = Adam(c620_model.net.parameters())"
      ],
      "execution_count": 6,
      "outputs": []
    },
    {
      "cell_type": "code",
      "metadata": {
        "colab": {
          "base_uri": "https://localhost:8080/",
          "height": 333
        },
        "id": "fDeFvsQ4sXuK",
        "outputId": "80448f52-62d7-40c0-b10e-c89debc683b7"
      },
      "source": [
        "c620_model.train()"
      ],
      "execution_count": 7,
      "outputs": [
        {
          "output_type": "stream",
          "text": [
            " 26%|██▌       | 26/100 [00:00<00:00, 252.23it/s]"
          ],
          "name": "stderr"
        },
        {
          "output_type": "stream",
          "text": [
            "epoch:0 train_loss:0.0564 valid_loss:0.0485\n"
          ],
          "name": "stdout"
        },
        {
          "output_type": "stream",
          "text": [
            "\r 54%|█████▍    | 54/100 [00:00<00:00, 257.83it/s]"
          ],
          "name": "stderr"
        },
        {
          "output_type": "stream",
          "text": [
            "epoch:50 train_loss:0.0107 valid_loss:0.0109\n"
          ],
          "name": "stdout"
        },
        {
          "output_type": "stream",
          "text": [
            "100%|██████████| 100/100 [00:00<00:00, 273.66it/s]\n"
          ],
          "name": "stderr"
        },
        {
          "output_type": "display_data",
          "data": {
            "image/png": "[encoded data removed]",
            "text/plain": [
              "<Figure size 432x288 with 1 Axes>"
            ]
          },
          "metadata": {
            "tags": [],
            "needs_background": "light"
          }
        },
        {
          "output_type": "execute_result",
          "data": {
            "text/plain": [
              "<autorch.utils.part.PartBulider at 0x7ff02016a990>"
            ]
          },
          "metadata": {
            "tags": []
          },
          "execution_count": 7
        }
      ]
    },
    {
      "cell_type": "code",
      "metadata": {
        "colab": {
          "base_uri": "https://localhost:8080/",
          "height": 419
        },
        "id": "nZDfN9ArtqH0",
        "outputId": "9499223b-da01-4bae-deeb-f248d9bca7e6"
      },
      "source": [
        "# test\n",
        "c620_model.test(e=0.02)"
      ],
      "execution_count": 8,
      "outputs": [
        {
          "output_type": "execute_result",
          "data": {
            "text/html": [
              "<div>\n",
              "<style scoped>\n",
              "    .dataframe tbody tr th:only-of-type {\n",
              "        vertical-align: middle;\n",
              "    }\n",
              "\n",
              "    .dataframe tbody tr th {\n",
              "        vertical-align: top;\n",
              "    }\n",
              "\n",
              "    .dataframe thead th {\n",
              "        text-align: right;\n",
              "    }\n",
              "</style>\n",
              "<table border=\"1\" class=\"dataframe\">\n",
              "  <thead>\n",
              "    <tr style=\"text-align: right;\">\n",
              "      <th></th>\n",
              "      <th>R2</th>\n",
              "      <th>MSE</th>\n",
              "      <th>MAPE</th>\n",
              "    </tr>\n",
              "  </thead>\n",
              "  <tbody>\n",
              "    <tr>\n",
              "      <th>Tatoray Stripper C620 Split Factors Calculation_Split Factor for Individual Component to Tatoray Stripper C620 Vent Gas_Hydrogen_Fraction</th>\n",
              "      <td>0</td>\n",
              "      <td>0.00153543</td>\n",
              "      <td>2.83703</td>\n",
              "    </tr>\n",
              "    <tr>\n",
              "      <th>Tatoray Stripper C620 Split Factors Calculation_Split Factor for Individual Component to Tatoray Stripper C620 Vent Gas_Methane_Fraction</th>\n",
              "      <td>0</td>\n",
              "      <td>0.0360416</td>\n",
              "      <td>15.5166</td>\n",
              "    </tr>\n",
              "    <tr>\n",
              "      <th>Tatoray Stripper C620 Split Factors Calculation_Split Factor for Individual Component to Tatoray Stripper C620 Vent Gas_Ethane_Fraction</th>\n",
              "      <td>0</td>\n",
              "      <td>0.200352</td>\n",
              "      <td>43.8991</td>\n",
              "    </tr>\n",
              "    <tr>\n",
              "      <th>Tatoray Stripper C620 Split Factors Calculation_Split Factor for Individual Component to Tatoray Stripper C620 Vent Gas_Propane_Fraction</th>\n",
              "      <td>0</td>\n",
              "      <td>0.272542</td>\n",
              "      <td>51.8891</td>\n",
              "    </tr>\n",
              "    <tr>\n",
              "      <th>Tatoray Stripper C620 Split Factors Calculation_Split Factor for Individual Component to Tatoray Stripper C620 Vent Gas_n-Butane_Fraction</th>\n",
              "      <td>0</td>\n",
              "      <td>0.299446</td>\n",
              "      <td>53.6614</td>\n",
              "    </tr>\n",
              "    <tr>\n",
              "      <th>...</th>\n",
              "      <td>...</td>\n",
              "      <td>...</td>\n",
              "      <td>...</td>\n",
              "    </tr>\n",
              "    <tr>\n",
              "      <th>Density_Bottoms Production Rate and Composition</th>\n",
              "      <td>0.571841</td>\n",
              "      <td>3.28896e-07</td>\n",
              "      <td>0.0598801</td>\n",
              "    </tr>\n",
              "    <tr>\n",
              "      <th>Tatoray Stripper C620 Operation_Yield Summary_Reflux Rate_m3/hr</th>\n",
              "      <td>0</td>\n",
              "      <td>31.7546</td>\n",
              "      <td>3.5346</td>\n",
              "    </tr>\n",
              "    <tr>\n",
              "      <th>Tatoray Stripper C620 Operation_Column Temp Profile_C620 Tray 14 (Control)_oC</th>\n",
              "      <td>0.146622</td>\n",
              "      <td>3.11549</td>\n",
              "      <td>0.953453</td>\n",
              "    </tr>\n",
              "    <tr>\n",
              "      <th>Tatoray Stripper C620 Operation_Column Temp Profile_C620 Tray 34 (Control)_oC</th>\n",
              "      <td>0.0341326</td>\n",
              "      <td>1.74247</td>\n",
              "      <td>0.488561</td>\n",
              "    </tr>\n",
              "    <tr>\n",
              "      <th>AVG</th>\n",
              "      <td>0.0345519</td>\n",
              "      <td>0.250114</td>\n",
              "      <td>27.5404</td>\n",
              "    </tr>\n",
              "  </tbody>\n",
              "</table>\n",
              "<p>173 rows × 3 columns</p>\n",
              "</div>"
            ],
            "text/plain": [
              "                                                           R2  ...       MAPE\n",
              "Tatoray Stripper C620 Split Factors Calculation...          0  ...    2.83703\n",
              "Tatoray Stripper C620 Split Factors Calculation...          0  ...    15.5166\n",
              "Tatoray Stripper C620 Split Factors Calculation...          0  ...    43.8991\n",
              "Tatoray Stripper C620 Split Factors Calculation...          0  ...    51.8891\n",
              "Tatoray Stripper C620 Split Factors Calculation...          0  ...    53.6614\n",
              "...                                                       ...  ...        ...\n",
              "Density_Bottoms Production Rate and Composition      0.571841  ...  0.0598801\n",
              "Tatoray Stripper C620 Operation_Yield Summary_R...          0  ...     3.5346\n",
              "Tatoray Stripper C620 Operation_Column Temp Pro...   0.146622  ...   0.953453\n",
              "Tatoray Stripper C620 Operation_Column Temp Pro...  0.0341326  ...   0.488561\n",
              "AVG                                                 0.0345519  ...    27.5404\n",
              "\n",
              "[173 rows x 3 columns]"
            ]
          },
          "metadata": {
            "tags": []
          },
          "execution_count": 8
        }
      ]
    },
    {
      "cell_type": "code",
      "metadata": {
        "colab": {
          "base_uri": "https://localhost:8080/"
        },
        "id": "1-8zSfUFvq4N",
        "outputId": "50458443-8139-42df-d7b4-0aa5c9f75ef7"
      },
      "source": [
        "# save\n",
        "joblib.dump(c620_model,'/content/drive/MyDrive/台塑輕油案子/data/c620/model/c620_real_data_linear.pkl')"
      ],
      "execution_count": 9,
      "outputs": [
        {
          "output_type": "execute_result",
          "data": {
            "text/plain": [
              "['/content/drive/MyDrive/台塑輕油案子/data/c620/model/c620_real_data_linear.pkl']"
            ]
          },
          "metadata": {
            "tags": []
          },
          "execution_count": 9
        }
      ]
    },
    {
      "cell_type": "markdown",
      "metadata": {
        "id": "UUFmBXxwwb0l"
      },
      "source": [
        "# c660 模擬數據"
      ]
    },
    {
      "cell_type": "code",
      "metadata": {
        "id": "PkPFWCfQwFje",
        "colab": {
          "base_uri": "https://localhost:8080/",
          "height": 333
        },
        "outputId": "2e74fa59-b380-4b13-92c2-267456d4377c"
      },
      "source": [
        "# load data\n",
        "c660_df = pd.read_csv('/content/drive/MyDrive/台塑輕油案子/data/c620/cleaned/c660_train.csv',index_col=0)\n",
        "c660_df_real = pd.read_excel('/content/drive/MyDrive/台塑輕油案子/data/c620/明志_遷移式學習_訓練資料_寄送版/c660_data.xlsx',index_col=0)\n",
        "c = joblib.load('/content/drive/MyDrive/台塑輕油案子/data/c620/col_names/c660_col_names.pkl')\n",
        "\n",
        "# def col\n",
        "x_col = c['case']+c['x41']\n",
        "op_col = c['density']+c['yRefluxRate']+c['yHeatDuty']+c['yControl']\n",
        "op_col = c660_df_real[op_col].dropna(axis=1).columns.tolist()\n",
        "sp_col = c['vent_gas_sf']+c['distillate_sf']+c['sidedraw_sf']+c['bottoms_sf']\n",
        "n_idx = [[i,i+41,i+41*2,i+41*3] for i in range(41)]\n",
        "\n",
        "# modeling\n",
        "c660_model = autorch.utils.PartBulider(c660_df,x_col,sp_col+op_col,limit_y_range=True,normalize_idx_list=n_idx,max_epochs=max_epochs)\n",
        "c660_model.net = nn.Linear(len(x_col),len(sp_col)+len(op_col))\n",
        "c660_model.optimizer = Adam(c660_model.net.parameters())\n",
        "c660_model.train()"
      ],
      "execution_count": 10,
      "outputs": [
        {
          "output_type": "stream",
          "text": [
            "  1%|          | 1/100 [00:00<00:21,  4.53it/s]"
          ],
          "name": "stderr"
        },
        {
          "output_type": "stream",
          "text": [
            "epoch:0 train_loss:0.0202 valid_loss:0.0079\n"
          ],
          "name": "stdout"
        },
        {
          "output_type": "stream",
          "text": [
            " 51%|█████     | 51/100 [00:11<00:10,  4.52it/s]"
          ],
          "name": "stderr"
        },
        {
          "output_type": "stream",
          "text": [
            "epoch:50 train_loss:0.0019 valid_loss:0.0019\n"
          ],
          "name": "stdout"
        },
        {
          "output_type": "stream",
          "text": [
            "100%|██████████| 100/100 [00:22<00:00,  4.52it/s]\n"
          ],
          "name": "stderr"
        },
        {
          "output_type": "display_data",
          "data": {
            "image/png": "[encoded data removed]",
            "text/plain": [
              "<Figure size 432x288 with 1 Axes>"
            ]
          },
          "metadata": {
            "tags": [],
            "needs_background": "light"
          }
        },
        {
          "output_type": "execute_result",
          "data": {
            "text/plain": [
              "<autorch.utils.part.PartBulider at 0x7ff0200bd4d0>"
            ]
          },
          "metadata": {
            "tags": []
          },
          "execution_count": 10
        }
      ]
    },
    {
      "cell_type": "code",
      "metadata": {
        "id": "HEgeZ29c36aG",
        "colab": {
          "base_uri": "https://localhost:8080/",
          "height": 419
        },
        "outputId": "e55babd7-2191-44f8-8a07-d16c90f64ad6"
      },
      "source": [
        "c660_model.test(e=0.02)"
      ],
      "execution_count": 11,
      "outputs": [
        {
          "output_type": "execute_result",
          "data": {
            "text/html": [
              "<div>\n",
              "<style scoped>\n",
              "    .dataframe tbody tr th:only-of-type {\n",
              "        vertical-align: middle;\n",
              "    }\n",
              "\n",
              "    .dataframe tbody tr th {\n",
              "        vertical-align: top;\n",
              "    }\n",
              "\n",
              "    .dataframe thead th {\n",
              "        text-align: right;\n",
              "    }\n",
              "</style>\n",
              "<table border=\"1\" class=\"dataframe\">\n",
              "  <thead>\n",
              "    <tr style=\"text-align: right;\">\n",
              "      <th></th>\n",
              "      <th>R2</th>\n",
              "      <th>MSE</th>\n",
              "      <th>MAPE</th>\n",
              "    </tr>\n",
              "  </thead>\n",
              "  <tbody>\n",
              "    <tr>\n",
              "      <th>Benzene Column C660 Split Factors Calculation_Split Factor for Individual Component to Benzene Column C660 Vent Gas_Hydrogen_Fraction</th>\n",
              "      <td>0</td>\n",
              "      <td>1.31378e-07</td>\n",
              "      <td>0.032874</td>\n",
              "    </tr>\n",
              "    <tr>\n",
              "      <th>Benzene Column C660 Split Factors Calculation_Split Factor for Individual Component to Benzene Column C660 Vent Gas_Methane_Fraction</th>\n",
              "      <td>0.695172</td>\n",
              "      <td>0.00615367</td>\n",
              "      <td>8.11655</td>\n",
              "    </tr>\n",
              "    <tr>\n",
              "      <th>Benzene Column C660 Split Factors Calculation_Split Factor for Individual Component to Benzene Column C660 Vent Gas_Ethane_Fraction</th>\n",
              "      <td>0.910632</td>\n",
              "      <td>0.00620762</td>\n",
              "      <td>17.5755</td>\n",
              "    </tr>\n",
              "    <tr>\n",
              "      <th>Benzene Column C660 Split Factors Calculation_Split Factor for Individual Component to Benzene Column C660 Vent Gas_Propane_Fraction</th>\n",
              "      <td>0.975557</td>\n",
              "      <td>0.0022459</td>\n",
              "      <td>15.6685</td>\n",
              "    </tr>\n",
              "    <tr>\n",
              "      <th>Benzene Column C660 Split Factors Calculation_Split Factor for Individual Component to Benzene Column C660 Vent Gas_n-Butane_Fraction</th>\n",
              "      <td>0.967328</td>\n",
              "      <td>0.00223521</td>\n",
              "      <td>23.836</td>\n",
              "    </tr>\n",
              "    <tr>\n",
              "      <th>...</th>\n",
              "      <td>...</td>\n",
              "      <td>...</td>\n",
              "      <td>...</td>\n",
              "    </tr>\n",
              "    <tr>\n",
              "      <th>Density_Bottoms Production Rate and Composition</th>\n",
              "      <td>0.992445</td>\n",
              "      <td>5.83532e-10</td>\n",
              "      <td>0.00211513</td>\n",
              "    </tr>\n",
              "    <tr>\n",
              "      <th>Benzene Column C660 Operation_Yield Summary_Reflux Rate_m3/hr</th>\n",
              "      <td>0.95556</td>\n",
              "      <td>37.1958</td>\n",
              "      <td>3.58115</td>\n",
              "    </tr>\n",
              "    <tr>\n",
              "      <th>Benzene Column C660 Operation_Column Temp Profile_C660 Tray 6 (SD &amp; Control)_oC</th>\n",
              "      <td>0.932662</td>\n",
              "      <td>0.00294067</td>\n",
              "      <td>0.048332</td>\n",
              "    </tr>\n",
              "    <tr>\n",
              "      <th>Benzene Column C660 Operation_Column Temp Profile_C660 Tray 23 (Control)_oC</th>\n",
              "      <td>0.897811</td>\n",
              "      <td>0.0834134</td>\n",
              "      <td>0.233481</td>\n",
              "    </tr>\n",
              "    <tr>\n",
              "      <th>AVG</th>\n",
              "      <td>0.50243</td>\n",
              "      <td>0.217008</td>\n",
              "      <td>5.41735</td>\n",
              "    </tr>\n",
              "  </tbody>\n",
              "</table>\n",
              "<p>173 rows × 3 columns</p>\n",
              "</div>"
            ],
            "text/plain": [
              "                                                          R2  ...        MAPE\n",
              "Benzene Column C660 Split Factors Calculation_S...         0  ...    0.032874\n",
              "Benzene Column C660 Split Factors Calculation_S...  0.695172  ...     8.11655\n",
              "Benzene Column C660 Split Factors Calculation_S...  0.910632  ...     17.5755\n",
              "Benzene Column C660 Split Factors Calculation_S...  0.975557  ...     15.6685\n",
              "Benzene Column C660 Split Factors Calculation_S...  0.967328  ...      23.836\n",
              "...                                                      ...  ...         ...\n",
              "Density_Bottoms Production Rate and Composition     0.992445  ...  0.00211513\n",
              "Benzene Column C660 Operation_Yield Summary_Ref...   0.95556  ...     3.58115\n",
              "Benzene Column C660 Operation_Column Temp Profi...  0.932662  ...    0.048332\n",
              "Benzene Column C660 Operation_Column Temp Profi...  0.897811  ...    0.233481\n",
              "AVG                                                  0.50243  ...     5.41735\n",
              "\n",
              "[173 rows x 3 columns]"
            ]
          },
          "metadata": {
            "tags": []
          },
          "execution_count": 11
        }
      ]
    },
    {
      "cell_type": "markdown",
      "metadata": {
        "id": "4qUwPcry4LYu"
      },
      "source": [
        "# c660遷移學習"
      ]
    },
    {
      "cell_type": "code",
      "metadata": {
        "id": "sFbliMxB4Jpp",
        "colab": {
          "base_uri": "https://localhost:8080/"
        },
        "outputId": "3cbee2cf-7926-4d2b-914b-662be1fa42b4"
      },
      "source": [
        "pretrain_net = deepcopy(c660_model.net.train())\n",
        "print(pretrain_net)"
      ],
      "execution_count": 12,
      "outputs": [
        {
          "output_type": "stream",
          "text": [
            "Linear(in_features=43, out_features=172, bias=True)\n"
          ],
          "name": "stdout"
        }
      ]
    },
    {
      "cell_type": "code",
      "metadata": {
        "id": "wtM2O-R04QsY"
      },
      "source": [
        "c660_model = autorch.utils.PartBulider(c660_df_real,x_col,sp_col+op_col,limit_y_range=True,normalize_idx_list=n_idx,max_epochs=max_epochs) # use real data  \n",
        "c660_model.net = pretrain_net # use pretrain net\n",
        "c660_model.optimizer = Adam(c660_model.net.parameters())"
      ],
      "execution_count": 13,
      "outputs": []
    },
    {
      "cell_type": "code",
      "metadata": {
        "id": "_zY6AAHx4Yeh",
        "colab": {
          "base_uri": "https://localhost:8080/",
          "height": 333
        },
        "outputId": "77d2e3d4-f345-4bf5-febf-88b8d68c13bb"
      },
      "source": [
        "c660_model.train()"
      ],
      "execution_count": 14,
      "outputs": [
        {
          "output_type": "stream",
          "text": [
            " 28%|██▊       | 28/100 [00:00<00:00, 274.81it/s]"
          ],
          "name": "stderr"
        },
        {
          "output_type": "stream",
          "text": [
            "epoch:0 train_loss:0.0740 valid_loss:0.0714\n",
            "epoch:50 train_loss:0.0097 valid_loss:0.0092\n"
          ],
          "name": "stdout"
        },
        {
          "output_type": "stream",
          "text": [
            "100%|██████████| 100/100 [00:00<00:00, 279.43it/s]\n"
          ],
          "name": "stderr"
        },
        {
          "output_type": "display_data",
          "data": {
            "image/png": "[encoded data removed]",
            "text/plain": [
              "<Figure size 432x288 with 1 Axes>"
            ]
          },
          "metadata": {
            "tags": [],
            "needs_background": "light"
          }
        },
        {
          "output_type": "execute_result",
          "data": {
            "text/plain": [
              "<autorch.utils.part.PartBulider at 0x7ff0200def90>"
            ]
          },
          "metadata": {
            "tags": []
          },
          "execution_count": 14
        }
      ]
    },
    {
      "cell_type": "code",
      "metadata": {
        "id": "PwSxN3gf4bYB",
        "colab": {
          "base_uri": "https://localhost:8080/"
        },
        "outputId": "68305973-f6b8-459f-a843-5620071ead96"
      },
      "source": [
        "# save\n",
        "joblib.dump(c660_model,'/content/drive/MyDrive/台塑輕油案子/data/c620/model/c660_real_data_linear.pkl')"
      ],
      "execution_count": 15,
      "outputs": [
        {
          "output_type": "execute_result",
          "data": {
            "text/plain": [
              "['/content/drive/MyDrive/台塑輕油案子/data/c620/model/c660_real_data_linear.pkl']"
            ]
          },
          "metadata": {
            "tags": []
          },
          "execution_count": 15
        }
      ]
    },
    {
      "cell_type": "markdown",
      "metadata": {
        "id": "Kw1n66YO4h0Y"
      },
      "source": [
        "# c670 模擬數據"
      ]
    },
    {
      "cell_type": "code",
      "metadata": {
        "id": "6pumKLap4gzZ"
      },
      "source": [
        "# load data\n",
        "import numpy as np\n",
        "c670_df = pd.read_csv('/content/drive/MyDrive/台塑輕油案子/data/c620/cleaned/c670_train.csv',index_col=0)\n",
        "c670_df_real = pd.read_excel('/content/drive/MyDrive/台塑輕油案子/data/c620/明志_遷移式學習_訓練資料_寄送版/c670_data.xlsx',index_col=0)\n",
        "c = joblib.load('/content/drive/MyDrive/台塑輕油案子/data/c620/col_names/c670_col_names.pkl')"
      ],
      "execution_count": 16,
      "outputs": []
    },
    {
      "cell_type": "code",
      "metadata": {
        "id": "1omARM974-7x"
      },
      "source": [
        "# 根據條件修改值\n",
        "def change_value(df):\n",
        "  a = df[c['upper_bf']]\n",
        "  紫色零點零欄位 = a[a==0.0].dropna(axis=1).columns.tolist()\n",
        "  紫色零點一欄位 = a[a==0.1].dropna(axis=1).columns.tolist()\n",
        "  紫色零點九欄位 = a[a==0.9].dropna(axis=1).columns.tolist()\n",
        "  紫色一點零欄位 = a[a==1.0].dropna(axis=1).columns.tolist()\n",
        "  df.loc[:,紫色零點零欄位] = 0.0001 \n",
        "  df.loc[:,紫色零點一欄位] = 0.0001 \n",
        "  df.loc[:,紫色零點九欄位] = 0.9999\n",
        "  df.loc[:,紫色一點零欄位] = 0.9999\n",
        "  return df"
      ],
      "execution_count": 17,
      "outputs": []
    },
    {
      "cell_type": "code",
      "metadata": {
        "id": "j3Vp7HXM5Y-5"
      },
      "source": [
        "c670_df = change_value(c670_df)"
      ],
      "execution_count": 18,
      "outputs": []
    },
    {
      "cell_type": "code",
      "metadata": {
        "id": "7I6QNY0a5cJa"
      },
      "source": [
        "c670_df_real = change_value(c670_df_real)"
      ],
      "execution_count": 19,
      "outputs": []
    },
    {
      "cell_type": "code",
      "metadata": {
        "id": "Vh6sb-al7Hyh"
      },
      "source": [
        "x_col = c['combined'] + c['upper_bf']\n",
        "op_col = c['density']+c['yRefluxRate']+c['yHeatDuty']+c['yControl']\n",
        "op_col = c670_df_real[op_col].dropna(axis=1).columns.tolist()\n",
        "sp_col = c['distillate_sf']+c['bottoms_sf']\n",
        "n_idx = [[i,i+41] for i in range(41)]"
      ],
      "execution_count": 20,
      "outputs": []
    },
    {
      "cell_type": "code",
      "metadata": {
        "id": "I_2QOyAeJn64",
        "outputId": "a49cb480-33e4-4f91-c826-62ad7744a308",
        "colab": {
          "base_uri": "https://localhost:8080/",
          "height": 314
        }
      },
      "source": [
        "c670_df_real[op_col].describe()"
      ],
      "execution_count": 21,
      "outputs": [
        {
          "output_type": "execute_result",
          "data": {
            "text/html": [
              "<div>\n",
              "<style scoped>\n",
              "    .dataframe tbody tr th:only-of-type {\n",
              "        vertical-align: middle;\n",
              "    }\n",
              "\n",
              "    .dataframe tbody tr th {\n",
              "        vertical-align: top;\n",
              "    }\n",
              "\n",
              "    .dataframe thead th {\n",
              "        text-align: right;\n",
              "    }\n",
              "</style>\n",
              "<table border=\"1\" class=\"dataframe\">\n",
              "  <thead>\n",
              "    <tr style=\"text-align: right;\">\n",
              "      <th></th>\n",
              "      <th>Density_Distillate Production Rate and Composition</th>\n",
              "      <th>Density_Bottoms Production Rate and Composition</th>\n",
              "      <th>Toluene Column C670 Operation_Yield \\nSummary_Reflux Rate_m3/hr</th>\n",
              "      <th>Toluene Column C670 Operation_Column Temp Profile_C670 Tray 24 (Control)_oC</th>\n",
              "      <th>Toluene Column C670 Operation_Column Temp Profile_C670 Btm Temp (Control)_oC</th>\n",
              "    </tr>\n",
              "  </thead>\n",
              "  <tbody>\n",
              "    <tr>\n",
              "      <th>count</th>\n",
              "      <td>1.680000e+02</td>\n",
              "      <td>168.000000</td>\n",
              "      <td>168.000000</td>\n",
              "      <td>168.000000</td>\n",
              "      <td>168.000000</td>\n",
              "    </tr>\n",
              "    <tr>\n",
              "      <th>mean</th>\n",
              "      <td>8.710000e-01</td>\n",
              "      <td>0.875774</td>\n",
              "      <td>265.216376</td>\n",
              "      <td>182.680710</td>\n",
              "      <td>227.424409</td>\n",
              "    </tr>\n",
              "    <tr>\n",
              "      <th>std</th>\n",
              "      <td>4.454168e-16</td>\n",
              "      <td>0.000690</td>\n",
              "      <td>12.478253</td>\n",
              "      <td>1.163183</td>\n",
              "      <td>1.934246</td>\n",
              "    </tr>\n",
              "    <tr>\n",
              "      <th>min</th>\n",
              "      <td>8.710000e-01</td>\n",
              "      <td>0.871000</td>\n",
              "      <td>224.352644</td>\n",
              "      <td>180.619598</td>\n",
              "      <td>224.190414</td>\n",
              "    </tr>\n",
              "    <tr>\n",
              "      <th>25%</th>\n",
              "      <td>8.710000e-01</td>\n",
              "      <td>0.876000</td>\n",
              "      <td>259.429810</td>\n",
              "      <td>182.031650</td>\n",
              "      <td>226.409568</td>\n",
              "    </tr>\n",
              "    <tr>\n",
              "      <th>50%</th>\n",
              "      <td>8.710000e-01</td>\n",
              "      <td>0.876000</td>\n",
              "      <td>266.906257</td>\n",
              "      <td>182.582881</td>\n",
              "      <td>227.206541</td>\n",
              "    </tr>\n",
              "    <tr>\n",
              "      <th>75%</th>\n",
              "      <td>8.710000e-01</td>\n",
              "      <td>0.876000</td>\n",
              "      <td>273.278159</td>\n",
              "      <td>183.129631</td>\n",
              "      <td>227.827171</td>\n",
              "    </tr>\n",
              "    <tr>\n",
              "      <th>max</th>\n",
              "      <td>8.710000e-01</td>\n",
              "      <td>0.877000</td>\n",
              "      <td>294.282371</td>\n",
              "      <td>190.410732</td>\n",
              "      <td>239.521996</td>\n",
              "    </tr>\n",
              "  </tbody>\n",
              "</table>\n",
              "</div>"
            ],
            "text/plain": [
              "       Density_Distillate Production Rate and Composition  ...  Toluene Column C670 Operation_Column Temp Profile_C670 Btm Temp (Control)_oC\n",
              "count                                       1.680000e+02   ...                                         168.000000                           \n",
              "mean                                        8.710000e-01   ...                                         227.424409                           \n",
              "std                                         4.454168e-16   ...                                           1.934246                           \n",
              "min                                         8.710000e-01   ...                                         224.190414                           \n",
              "25%                                         8.710000e-01   ...                                         226.409568                           \n",
              "50%                                         8.710000e-01   ...                                         227.206541                           \n",
              "75%                                         8.710000e-01   ...                                         227.827171                           \n",
              "max                                         8.710000e-01   ...                                         239.521996                           \n",
              "\n",
              "[8 rows x 5 columns]"
            ]
          },
          "metadata": {
            "tags": []
          },
          "execution_count": 21
        }
      ]
    },
    {
      "cell_type": "code",
      "metadata": {
        "id": "qgybSV187hEU",
        "colab": {
          "base_uri": "https://localhost:8080/",
          "height": 336
        },
        "outputId": "2312dd13-2414-4c0c-d160-58a67fa0a0f6"
      },
      "source": [
        "c670_model = autorch.utils.PartBulider(c670_df,x_col,sp_col+op_col,limit_y_range=True,normalize_idx_list=n_idx,max_epochs=max_epochs)\n",
        "c670_model.net = nn.Linear(len(x_col),len(sp_col)+len(op_col))\n",
        "c670_model.optimizer = Adam(c670_model.net.parameters())\n",
        "c670_model.train()"
      ],
      "execution_count": 22,
      "outputs": [
        {
          "output_type": "stream",
          "text": [
            "  1%|          | 1/100 [00:00<00:21,  4.71it/s]"
          ],
          "name": "stderr"
        },
        {
          "output_type": "stream",
          "text": [
            "epoch:0 train_loss:0.0192 valid_loss:0.0049\n"
          ],
          "name": "stdout"
        },
        {
          "output_type": "stream",
          "text": [
            " 51%|█████     | 51/100 [00:11<00:10,  4.57it/s]"
          ],
          "name": "stderr"
        },
        {
          "output_type": "stream",
          "text": [
            "epoch:50 train_loss:0.0023 valid_loss:0.0023\n"
          ],
          "name": "stdout"
        },
        {
          "output_type": "stream",
          "text": [
            "100%|██████████| 100/100 [00:22<00:00,  4.54it/s]\n"
          ],
          "name": "stderr"
        },
        {
          "output_type": "display_data",
          "data": {
            "image/png": "[encoded data removed]",
            "text/plain": [
              "<Figure size 432x288 with 1 Axes>"
            ]
          },
          "metadata": {
            "tags": [],
            "needs_background": "light"
          }
        },
        {
          "output_type": "execute_result",
          "data": {
            "text/plain": [
              "<autorch.utils.part.PartBulider at 0x7ff02016aa90>"
            ]
          },
          "metadata": {
            "tags": []
          },
          "execution_count": 22
        }
      ]
    },
    {
      "cell_type": "code",
      "metadata": {
        "id": "sAfqbgHg7yBT",
        "colab": {
          "base_uri": "https://localhost:8080/",
          "height": 419
        },
        "outputId": "7cbbd3b4-1cca-49dd-eb78-2368aeb2c8fc"
      },
      "source": [
        "c670_model.test(e=0.02)"
      ],
      "execution_count": 23,
      "outputs": [
        {
          "output_type": "execute_result",
          "data": {
            "text/html": [
              "<div>\n",
              "<style scoped>\n",
              "    .dataframe tbody tr th:only-of-type {\n",
              "        vertical-align: middle;\n",
              "    }\n",
              "\n",
              "    .dataframe tbody tr th {\n",
              "        vertical-align: top;\n",
              "    }\n",
              "\n",
              "    .dataframe thead th {\n",
              "        text-align: right;\n",
              "    }\n",
              "</style>\n",
              "<table border=\"1\" class=\"dataframe\">\n",
              "  <thead>\n",
              "    <tr style=\"text-align: right;\">\n",
              "      <th></th>\n",
              "      <th>R2</th>\n",
              "      <th>MSE</th>\n",
              "      <th>MAPE</th>\n",
              "    </tr>\n",
              "  </thead>\n",
              "  <tbody>\n",
              "    <tr>\n",
              "      <th>Toluene Column C670 Split Factors Calculation_Split Factor for Individual Component to Toluene Column C670 Distillate_Hydrogen_Fraction</th>\n",
              "      <td>0</td>\n",
              "      <td>7.29234e-07</td>\n",
              "      <td>0.0767466</td>\n",
              "    </tr>\n",
              "    <tr>\n",
              "      <th>Toluene Column C670 Split Factors Calculation_Split Factor for Individual Component to Toluene Column C670 Distillate_Methane_Fraction</th>\n",
              "      <td>1</td>\n",
              "      <td>0</td>\n",
              "      <td>0</td>\n",
              "    </tr>\n",
              "    <tr>\n",
              "      <th>Toluene Column C670 Split Factors Calculation_Split Factor for Individual Component to Toluene Column C670 Distillate_Ethane_Fraction</th>\n",
              "      <td>0</td>\n",
              "      <td>1.77717e-10</td>\n",
              "      <td>6.89897e-05</td>\n",
              "    </tr>\n",
              "    <tr>\n",
              "      <th>Toluene Column C670 Split Factors Calculation_Split Factor for Individual Component to Toluene Column C670 Distillate_Propane_Fraction</th>\n",
              "      <td>0</td>\n",
              "      <td>6.55704e-07</td>\n",
              "      <td>0.0622771</td>\n",
              "    </tr>\n",
              "    <tr>\n",
              "      <th>Toluene Column C670 Split Factors Calculation_Split Factor for Individual Component to Toluene Column C670 Distillate_n-Butane_Fraction</th>\n",
              "      <td>0</td>\n",
              "      <td>6.52858e-07</td>\n",
              "      <td>0.0601616</td>\n",
              "    </tr>\n",
              "    <tr>\n",
              "      <th>...</th>\n",
              "      <td>...</td>\n",
              "      <td>...</td>\n",
              "      <td>...</td>\n",
              "    </tr>\n",
              "    <tr>\n",
              "      <th>Density_Bottoms Production Rate and Composition</th>\n",
              "      <td>0.999857</td>\n",
              "      <td>2.66016e-11</td>\n",
              "      <td>0.000473664</td>\n",
              "    </tr>\n",
              "    <tr>\n",
              "      <th>Toluene Column C670 Operation_Yield \\nSummary_Reflux Rate_m3/hr</th>\n",
              "      <td>0.990036</td>\n",
              "      <td>6.04567</td>\n",
              "      <td>0.770274</td>\n",
              "    </tr>\n",
              "    <tr>\n",
              "      <th>Toluene Column C670 Operation_Column Temp Profile_C670 Tray 24 (Control)_oC</th>\n",
              "      <td>0.976412</td>\n",
              "      <td>0.00134672</td>\n",
              "      <td>0.0155413</td>\n",
              "    </tr>\n",
              "    <tr>\n",
              "      <th>Toluene Column C670 Operation_Column Temp Profile_C670 Btm Temp (Control)_oC</th>\n",
              "      <td>0.997345</td>\n",
              "      <td>0.00724319</td>\n",
              "      <td>0.0282864</td>\n",
              "    </tr>\n",
              "    <tr>\n",
              "      <th>AVG</th>\n",
              "      <td>0.509862</td>\n",
              "      <td>0.0695894</td>\n",
              "      <td>0.0709109</td>\n",
              "    </tr>\n",
              "  </tbody>\n",
              "</table>\n",
              "<p>88 rows × 3 columns</p>\n",
              "</div>"
            ],
            "text/plain": [
              "                                                          R2  ...         MAPE\n",
              "Toluene Column C670 Split Factors Calculation_S...         0  ...    0.0767466\n",
              "Toluene Column C670 Split Factors Calculation_S...         1  ...            0\n",
              "Toluene Column C670 Split Factors Calculation_S...         0  ...  6.89897e-05\n",
              "Toluene Column C670 Split Factors Calculation_S...         0  ...    0.0622771\n",
              "Toluene Column C670 Split Factors Calculation_S...         0  ...    0.0601616\n",
              "...                                                      ...  ...          ...\n",
              "Density_Bottoms Production Rate and Composition     0.999857  ...  0.000473664\n",
              "Toluene Column C670 Operation_Yield \\nSummary_R...  0.990036  ...     0.770274\n",
              "Toluene Column C670 Operation_Column Temp Profi...  0.976412  ...    0.0155413\n",
              "Toluene Column C670 Operation_Column Temp Profi...  0.997345  ...    0.0282864\n",
              "AVG                                                 0.509862  ...    0.0709109\n",
              "\n",
              "[88 rows x 3 columns]"
            ]
          },
          "metadata": {
            "tags": []
          },
          "execution_count": 23
        }
      ]
    },
    {
      "cell_type": "markdown",
      "metadata": {
        "id": "7jy_hgTZ8VPk"
      },
      "source": [
        "# c670 遷移學習"
      ]
    },
    {
      "cell_type": "code",
      "metadata": {
        "id": "-RqK7C7I8S_j",
        "colab": {
          "base_uri": "https://localhost:8080/"
        },
        "outputId": "d0c79c01-8b5d-4780-ca7c-31f989402e5b"
      },
      "source": [
        "pretrain_net = deepcopy(c670_model.net.train())\n",
        "print(pretrain_net)"
      ],
      "execution_count": 24,
      "outputs": [
        {
          "output_type": "stream",
          "text": [
            "Linear(in_features=82, out_features=87, bias=True)\n"
          ],
          "name": "stdout"
        }
      ]
    },
    {
      "cell_type": "code",
      "metadata": {
        "id": "-ty7t-c48Znj"
      },
      "source": [
        "c670_model = autorch.utils.PartBulider(c670_df_real,x_col,sp_col+op_col,limit_y_range=True,normalize_idx_list=n_idx,max_epochs=max_epochs) # use real data  \n",
        "c670_model.net = pretrain_net # use pretrain net\n",
        "c670_model.optimizer = Adam(c670_model.net.parameters())"
      ],
      "execution_count": 25,
      "outputs": []
    },
    {
      "cell_type": "code",
      "metadata": {
        "id": "JSB9-lIc8gLb",
        "colab": {
          "base_uri": "https://localhost:8080/",
          "height": 333
        },
        "outputId": "d0679d32-15be-4138-a292-ed34901d0a7a"
      },
      "source": [
        "c670_model.train()"
      ],
      "execution_count": 26,
      "outputs": [
        {
          "output_type": "stream",
          "text": [
            " 53%|█████▎    | 53/100 [00:00<00:00, 259.31it/s]"
          ],
          "name": "stderr"
        },
        {
          "output_type": "stream",
          "text": [
            "epoch:0 train_loss:0.0879 valid_loss:0.0753\n",
            "epoch:50 train_loss:0.0108 valid_loss:0.0109\n"
          ],
          "name": "stdout"
        },
        {
          "output_type": "stream",
          "text": [
            "100%|██████████| 100/100 [00:00<00:00, 262.70it/s]\n"
          ],
          "name": "stderr"
        },
        {
          "output_type": "display_data",
          "data": {
            "image/png": "[encoded data removed]",
            "text/plain": [
              "<Figure size 432x288 with 1 Axes>"
            ]
          },
          "metadata": {
            "tags": [],
            "needs_background": "light"
          }
        },
        {
          "output_type": "execute_result",
          "data": {
            "text/plain": [
              "<autorch.utils.part.PartBulider at 0x7ff01fd5d1d0>"
            ]
          },
          "metadata": {
            "tags": []
          },
          "execution_count": 26
        }
      ]
    },
    {
      "cell_type": "code",
      "metadata": {
        "id": "x5ZwPB5o8itz",
        "colab": {
          "base_uri": "https://localhost:8080/",
          "height": 419
        },
        "outputId": "a3958eb5-0610-4e56-bb14-8e8c6819ae38"
      },
      "source": [
        "c670_model.test(e=0.02)"
      ],
      "execution_count": 27,
      "outputs": [
        {
          "output_type": "execute_result",
          "data": {
            "text/html": [
              "<div>\n",
              "<style scoped>\n",
              "    .dataframe tbody tr th:only-of-type {\n",
              "        vertical-align: middle;\n",
              "    }\n",
              "\n",
              "    .dataframe tbody tr th {\n",
              "        vertical-align: top;\n",
              "    }\n",
              "\n",
              "    .dataframe thead th {\n",
              "        text-align: right;\n",
              "    }\n",
              "</style>\n",
              "<table border=\"1\" class=\"dataframe\">\n",
              "  <thead>\n",
              "    <tr style=\"text-align: right;\">\n",
              "      <th></th>\n",
              "      <th>R2</th>\n",
              "      <th>MSE</th>\n",
              "      <th>MAPE</th>\n",
              "    </tr>\n",
              "  </thead>\n",
              "  <tbody>\n",
              "    <tr>\n",
              "      <th>Toluene Column C670 Split Factors Calculation_Split Factor for Individual Component to Toluene Column C670 Distillate_Hydrogen_Fraction</th>\n",
              "      <td>0</td>\n",
              "      <td>6.3211e-06</td>\n",
              "      <td>0.144402</td>\n",
              "    </tr>\n",
              "    <tr>\n",
              "      <th>Toluene Column C670 Split Factors Calculation_Split Factor for Individual Component to Toluene Column C670 Distillate_Methane_Fraction</th>\n",
              "      <td>0</td>\n",
              "      <td>1.36724e-05</td>\n",
              "      <td>0.134925</td>\n",
              "    </tr>\n",
              "    <tr>\n",
              "      <th>Toluene Column C670 Split Factors Calculation_Split Factor for Individual Component to Toluene Column C670 Distillate_Ethane_Fraction</th>\n",
              "      <td>0</td>\n",
              "      <td>9.98384e-06</td>\n",
              "      <td>0.157664</td>\n",
              "    </tr>\n",
              "    <tr>\n",
              "      <th>Toluene Column C670 Split Factors Calculation_Split Factor for Individual Component to Toluene Column C670 Distillate_Propane_Fraction</th>\n",
              "      <td>0</td>\n",
              "      <td>3.02044e-05</td>\n",
              "      <td>0.33209</td>\n",
              "    </tr>\n",
              "    <tr>\n",
              "      <th>Toluene Column C670 Split Factors Calculation_Split Factor for Individual Component to Toluene Column C670 Distillate_n-Butane_Fraction</th>\n",
              "      <td>0</td>\n",
              "      <td>6.94219e-05</td>\n",
              "      <td>0.368923</td>\n",
              "    </tr>\n",
              "    <tr>\n",
              "      <th>...</th>\n",
              "      <td>...</td>\n",
              "      <td>...</td>\n",
              "      <td>...</td>\n",
              "    </tr>\n",
              "    <tr>\n",
              "      <th>Density_Bottoms Production Rate and Composition</th>\n",
              "      <td>0</td>\n",
              "      <td>7.00811e-07</td>\n",
              "      <td>0.0648303</td>\n",
              "    </tr>\n",
              "    <tr>\n",
              "      <th>Toluene Column C670 Operation_Yield \\nSummary_Reflux Rate_m3/hr</th>\n",
              "      <td>0</td>\n",
              "      <td>134.204</td>\n",
              "      <td>3.75759</td>\n",
              "    </tr>\n",
              "    <tr>\n",
              "      <th>Toluene Column C670 Operation_Column Temp Profile_C670 Tray 24 (Control)_oC</th>\n",
              "      <td>0</td>\n",
              "      <td>3.01413</td>\n",
              "      <td>0.816357</td>\n",
              "    </tr>\n",
              "    <tr>\n",
              "      <th>Toluene Column C670 Operation_Column Temp Profile_C670 Btm Temp (Control)_oC</th>\n",
              "      <td>0.920295</td>\n",
              "      <td>0.788547</td>\n",
              "      <td>0.332068</td>\n",
              "    </tr>\n",
              "    <tr>\n",
              "      <th>AVG</th>\n",
              "      <td>0.0284349</td>\n",
              "      <td>1.60088</td>\n",
              "      <td>18.718</td>\n",
              "    </tr>\n",
              "  </tbody>\n",
              "</table>\n",
              "<p>88 rows × 3 columns</p>\n",
              "</div>"
            ],
            "text/plain": [
              "                                                           R2  ...       MAPE\n",
              "Toluene Column C670 Split Factors Calculation_S...          0  ...   0.144402\n",
              "Toluene Column C670 Split Factors Calculation_S...          0  ...   0.134925\n",
              "Toluene Column C670 Split Factors Calculation_S...          0  ...   0.157664\n",
              "Toluene Column C670 Split Factors Calculation_S...          0  ...    0.33209\n",
              "Toluene Column C670 Split Factors Calculation_S...          0  ...   0.368923\n",
              "...                                                       ...  ...        ...\n",
              "Density_Bottoms Production Rate and Composition             0  ...  0.0648303\n",
              "Toluene Column C670 Operation_Yield \\nSummary_R...          0  ...    3.75759\n",
              "Toluene Column C670 Operation_Column Temp Profi...          0  ...   0.816357\n",
              "Toluene Column C670 Operation_Column Temp Profi...   0.920295  ...   0.332068\n",
              "AVG                                                 0.0284349  ...     18.718\n",
              "\n",
              "[88 rows x 3 columns]"
            ]
          },
          "metadata": {
            "tags": []
          },
          "execution_count": 27
        }
      ]
    },
    {
      "cell_type": "code",
      "metadata": {
        "id": "4IwDdwayKaHi",
        "outputId": "64715a76-1bfa-4e87-fb59-14d4d0297165",
        "colab": {
          "base_uri": "https://localhost:8080/",
          "height": 314
        }
      },
      "source": [
        "c670_model.predict(c670_model.data['X_test'])[op_col].describe()"
      ],
      "execution_count": 30,
      "outputs": [
        {
          "output_type": "execute_result",
          "data": {
            "text/html": [
              "<div>\n",
              "<style scoped>\n",
              "    .dataframe tbody tr th:only-of-type {\n",
              "        vertical-align: middle;\n",
              "    }\n",
              "\n",
              "    .dataframe tbody tr th {\n",
              "        vertical-align: top;\n",
              "    }\n",
              "\n",
              "    .dataframe thead th {\n",
              "        text-align: right;\n",
              "    }\n",
              "</style>\n",
              "<table border=\"1\" class=\"dataframe\">\n",
              "  <thead>\n",
              "    <tr style=\"text-align: right;\">\n",
              "      <th></th>\n",
              "      <th>Density_Distillate Production Rate and Composition</th>\n",
              "      <th>Density_Bottoms Production Rate and Composition</th>\n",
              "      <th>Toluene Column C670 Operation_Yield \\nSummary_Reflux Rate_m3/hr</th>\n",
              "      <th>Toluene Column C670 Operation_Column Temp Profile_C670 Tray 24 (Control)_oC</th>\n",
              "      <th>Toluene Column C670 Operation_Column Temp Profile_C670 Btm Temp (Control)_oC</th>\n",
              "    </tr>\n",
              "  </thead>\n",
              "  <tbody>\n",
              "    <tr>\n",
              "      <th>count</th>\n",
              "      <td>17.000000</td>\n",
              "      <td>17.000000</td>\n",
              "      <td>17.000000</td>\n",
              "      <td>17.000000</td>\n",
              "      <td>17.000000</td>\n",
              "    </tr>\n",
              "    <tr>\n",
              "      <th>mean</th>\n",
              "      <td>0.895939</td>\n",
              "      <td>0.875691</td>\n",
              "      <td>263.103516</td>\n",
              "      <td>181.890533</td>\n",
              "      <td>227.438324</td>\n",
              "    </tr>\n",
              "    <tr>\n",
              "      <th>std</th>\n",
              "      <td>0.083926</td>\n",
              "      <td>0.001022</td>\n",
              "      <td>7.024906</td>\n",
              "      <td>1.701840</td>\n",
              "      <td>3.522879</td>\n",
              "    </tr>\n",
              "    <tr>\n",
              "      <th>min</th>\n",
              "      <td>0.719623</td>\n",
              "      <td>0.873396</td>\n",
              "      <td>255.331512</td>\n",
              "      <td>179.909927</td>\n",
              "      <td>224.861099</td>\n",
              "    </tr>\n",
              "    <tr>\n",
              "      <th>25%</th>\n",
              "      <td>0.847369</td>\n",
              "      <td>0.875400</td>\n",
              "      <td>258.312775</td>\n",
              "      <td>180.810059</td>\n",
              "      <td>225.835434</td>\n",
              "    </tr>\n",
              "    <tr>\n",
              "      <th>50%</th>\n",
              "      <td>0.895210</td>\n",
              "      <td>0.875668</td>\n",
              "      <td>261.882019</td>\n",
              "      <td>181.749817</td>\n",
              "      <td>226.715393</td>\n",
              "    </tr>\n",
              "    <tr>\n",
              "      <th>75%</th>\n",
              "      <td>0.964434</td>\n",
              "      <td>0.875771</td>\n",
              "      <td>263.732300</td>\n",
              "      <td>182.391983</td>\n",
              "      <td>227.091446</td>\n",
              "    </tr>\n",
              "    <tr>\n",
              "      <th>max</th>\n",
              "      <td>1.020351</td>\n",
              "      <td>0.878876</td>\n",
              "      <td>281.783661</td>\n",
              "      <td>186.299774</td>\n",
              "      <td>240.387054</td>\n",
              "    </tr>\n",
              "  </tbody>\n",
              "</table>\n",
              "</div>"
            ],
            "text/plain": [
              "       Density_Distillate Production Rate and Composition  ...  Toluene Column C670 Operation_Column Temp Profile_C670 Btm Temp (Control)_oC\n",
              "count                                          17.000000   ...                                          17.000000                           \n",
              "mean                                            0.895939   ...                                         227.438324                           \n",
              "std                                             0.083926   ...                                           3.522879                           \n",
              "min                                             0.719623   ...                                         224.861099                           \n",
              "25%                                             0.847369   ...                                         225.835434                           \n",
              "50%                                             0.895210   ...                                         226.715393                           \n",
              "75%                                             0.964434   ...                                         227.091446                           \n",
              "max                                             1.020351   ...                                         240.387054                           \n",
              "\n",
              "[8 rows x 5 columns]"
            ]
          },
          "metadata": {
            "tags": []
          },
          "execution_count": 30
        }
      ]
    },
    {
      "cell_type": "code",
      "metadata": {
        "id": "KVf7ZAeK8mZT",
        "colab": {
          "base_uri": "https://localhost:8080/"
        },
        "outputId": "ab9c2d15-15a2-4875-c40f-5e1ab49ebe2b"
      },
      "source": [
        "joblib.dump(c670_model,'/content/drive/MyDrive/台塑輕油案子/data/c620/model/c670_real_data_linear.pkl')"
      ],
      "execution_count": 31,
      "outputs": [
        {
          "output_type": "execute_result",
          "data": {
            "text/plain": [
              "['/content/drive/MyDrive/台塑輕油案子/data/c620/model/c670_real_data_linear.pkl']"
            ]
          },
          "metadata": {
            "tags": []
          },
          "execution_count": 31
        }
      ]
    },
    {
      "cell_type": "code",
      "metadata": {
        "id": "pnnMcnVE8xAb"
      },
      "source": [
        ""
      ],
      "execution_count": null,
      "outputs": []
    }
  ]
}