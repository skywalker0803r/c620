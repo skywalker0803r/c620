{
  "nbformat": 4,
  "nbformat_minor": 0,
  "metadata": {
    "colab": {
      "name": "linear_model.ipynb",
      "provenance": [],
      "mount_file_id": "https://github.com/skywalker0803r/c620/blob/main/notebook/linear_model.ipynb",
      "authorship_tag": "ABX9TyMpzvx76IONjFUkeWCLk7rQ",
      "include_colab_link": true
    },
    "kernelspec": {
      "name": "python3",
      "display_name": "Python 3"
    },
    "language_info": {
      "name": "python"
    }
  },
  "cells": [
    {
      "cell_type": "markdown",
      "metadata": {
        "id": "view-in-github",
        "colab_type": "text"
      },
      "source": [
        "<a href=\"https://colab.research.google.com/github/skywalker0803r/c620/blob/main/notebook/linear_model.ipynb\" target=\"_parent\"><img src=\"https://colab.research.google.com/assets/colab-badge.svg\" alt=\"Open In Colab\"/></a>"
      ]
    },
    {
      "cell_type": "code",
      "metadata": {
        "id": "uOGQX9YjqMju"
      },
      "source": [
        "!pip install autorch >log.txt"
      ],
      "execution_count": 1,
      "outputs": []
    },
    {
      "cell_type": "code",
      "metadata": {
        "id": "tKnv94HhqT5K"
      },
      "source": [
        "import pandas as pd\n",
        "import joblib\n",
        "import autorch\n",
        "from torch import nn#\n",
        "from torch.optim import Adam\n",
        "max_epochs = 100"
      ],
      "execution_count": 2,
      "outputs": []
    },
    {
      "cell_type": "markdown",
      "metadata": {
        "id": "SDKVxW1evK09"
      },
      "source": [
        "# c620 模擬數據"
      ]
    },
    {
      "cell_type": "code",
      "metadata": {
        "colab": {
          "base_uri": "https://localhost:8080/",
          "height": 350
        },
        "id": "CNpU0VnpqcgK",
        "outputId": "4dffc9f9-56d6-41ed-a9ac-8c719dda8868"
      },
      "source": [
        "# load data\n",
        "c620_df = pd.read_csv('/content/drive/MyDrive/台塑輕油案子/data/c620/cleaned/c620_train.csv',index_col=0)\n",
        "c620_df_real = pd.read_excel('/content/drive/MyDrive/台塑輕油案子/data/c620/明志_遷移式學習_訓練資料_寄送版/c620_data.xlsx',index_col=0)\n",
        "c = joblib.load('/content/drive/MyDrive/台塑輕油案子/data/c620/col_names/c620_col_names.pkl')\n",
        "print(c.keys())\n",
        "# def col\n",
        "x_col = c['case']+c['x41']\n",
        "op_col = c['density']+c['yRefluxRate']+c['yHeatDuty']+c['yControl']\n",
        "op_col = c620_df_real[op_col].dropna(axis=1).columns.tolist()\n",
        "sp_col = c['vent_gas_sf']+c['distillate_sf']+c['sidedraw_sf']+c['bottoms_sf']\n",
        "n_idx = [[i,i+41,i+41*2,i+41*3] for i in range(41)]\n",
        "\n",
        "# modeling\n",
        "c620_model = autorch.utils.PartBulider(c620_df,x_col,sp_col+op_col,limit_y_range=True,normalize_idx_list=n_idx,max_epochs=max_epochs)\n",
        "c620_model.net = nn.Linear(len(x_col),len(sp_col)+len(op_col))\n",
        "c620_model.optimizer = Adam(c620_model.net.parameters(),lr=0.01)\n",
        "c620_model.train()"
      ],
      "execution_count": 3,
      "outputs": [
        {
          "output_type": "stream",
          "text": [
            "dict_keys(['x41', 'case', 'yRefluxRate', 'yControl', 'yHeatDuty', 'vent_gas_x', 'distillate_x', 'sidedraw_x', 'bottoms_x', 'vent_gas_sf', 'distillate_sf', 'sidedraw_sf', 'bottoms_sf', 'density'])\n"
          ],
          "name": "stdout"
        },
        {
          "output_type": "stream",
          "text": [
            "  1%|          | 1/100 [00:00<00:57,  1.71it/s]"
          ],
          "name": "stderr"
        },
        {
          "output_type": "stream",
          "text": [
            "epoch:0 train_loss:0.0105 valid_loss:0.0032\n"
          ],
          "name": "stdout"
        },
        {
          "output_type": "stream",
          "text": [
            " 51%|█████     | 51/100 [00:12<00:11,  4.12it/s]"
          ],
          "name": "stderr"
        },
        {
          "output_type": "stream",
          "text": [
            "epoch:50 train_loss:0.0033 valid_loss:0.0033\n"
          ],
          "name": "stdout"
        },
        {
          "output_type": "stream",
          "text": [
            "100%|██████████| 100/100 [00:24<00:00,  4.10it/s]\n"
          ],
          "name": "stderr"
        },
        {
          "output_type": "display_data",
          "data": {
            "image/png": "[encoded data removed]",
            "text/plain": [
              "<Figure size 432x288 with 1 Axes>"
            ]
          },
          "metadata": {
            "tags": [],
            "needs_background": "light"
          }
        },
        {
          "output_type": "execute_result",
          "data": {
            "text/plain": [
              "<autorch.utils.part.PartBulider at 0x7fa6674c9d10>"
            ]
          },
          "metadata": {
            "tags": []
          },
          "execution_count": 3
        }
      ]
    },
    {
      "cell_type": "code",
      "metadata": {
        "colab": {
          "base_uri": "https://localhost:8080/",
          "height": 419
        },
        "id": "U5DGlA4HqsRU",
        "outputId": "92779ef2-2396-44dc-f3e6-b129285d63ba"
      },
      "source": [
        "# test\n",
        "c620_model.test(e=0.02)"
      ],
      "execution_count": 4,
      "outputs": [
        {
          "output_type": "execute_result",
          "data": {
            "text/html": [
              "<div>\n",
              "<style scoped>\n",
              "    .dataframe tbody tr th:only-of-type {\n",
              "        vertical-align: middle;\n",
              "    }\n",
              "\n",
              "    .dataframe tbody tr th {\n",
              "        vertical-align: top;\n",
              "    }\n",
              "\n",
              "    .dataframe thead th {\n",
              "        text-align: right;\n",
              "    }\n",
              "</style>\n",
              "<table border=\"1\" class=\"dataframe\">\n",
              "  <thead>\n",
              "    <tr style=\"text-align: right;\">\n",
              "      <th></th>\n",
              "      <th>R2</th>\n",
              "      <th>MSE</th>\n",
              "      <th>MAPE</th>\n",
              "    </tr>\n",
              "  </thead>\n",
              "  <tbody>\n",
              "    <tr>\n",
              "      <th>Tatoray Stripper C620 Split Factors Calculation_Split Factor for Individual Component to Tatoray Stripper C620 Vent Gas_Hydrogen_Fraction</th>\n",
              "      <td>0</td>\n",
              "      <td>4.00429e-06</td>\n",
              "      <td>0.0821588</td>\n",
              "    </tr>\n",
              "    <tr>\n",
              "      <th>Tatoray Stripper C620 Split Factors Calculation_Split Factor for Individual Component to Tatoray Stripper C620 Vent Gas_Methane_Fraction</th>\n",
              "      <td>0.971345</td>\n",
              "      <td>5.68752e-07</td>\n",
              "      <td>0.0545575</td>\n",
              "    </tr>\n",
              "    <tr>\n",
              "      <th>Tatoray Stripper C620 Split Factors Calculation_Split Factor for Individual Component to Tatoray Stripper C620 Vent Gas_Ethane_Fraction</th>\n",
              "      <td>0.98046</td>\n",
              "      <td>9.60465e-06</td>\n",
              "      <td>0.202798</td>\n",
              "    </tr>\n",
              "    <tr>\n",
              "      <th>Tatoray Stripper C620 Split Factors Calculation_Split Factor for Individual Component to Tatoray Stripper C620 Vent Gas_Propane_Fraction</th>\n",
              "      <td>0.976917</td>\n",
              "      <td>8.18917e-05</td>\n",
              "      <td>0.61505</td>\n",
              "    </tr>\n",
              "    <tr>\n",
              "      <th>Tatoray Stripper C620 Split Factors Calculation_Split Factor for Individual Component to Tatoray Stripper C620 Vent Gas_n-Butane_Fraction</th>\n",
              "      <td>0.912265</td>\n",
              "      <td>0.00137198</td>\n",
              "      <td>3.70008</td>\n",
              "    </tr>\n",
              "    <tr>\n",
              "      <th>...</th>\n",
              "      <td>...</td>\n",
              "      <td>...</td>\n",
              "      <td>...</td>\n",
              "    </tr>\n",
              "    <tr>\n",
              "      <th>Density_Bottoms Production Rate and Composition</th>\n",
              "      <td>0.997165</td>\n",
              "      <td>4.69708e-11</td>\n",
              "      <td>0.000592057</td>\n",
              "    </tr>\n",
              "    <tr>\n",
              "      <th>Tatoray Stripper C620 Operation_Yield Summary_Reflux Rate_m3/hr</th>\n",
              "      <td>0.992489</td>\n",
              "      <td>0.967302</td>\n",
              "      <td>0.593325</td>\n",
              "    </tr>\n",
              "    <tr>\n",
              "      <th>Tatoray Stripper C620 Operation_Column Temp Profile_C620 Tray 14 (Control)_oC</th>\n",
              "      <td>0.955631</td>\n",
              "      <td>0.0588988</td>\n",
              "      <td>0.114704</td>\n",
              "    </tr>\n",
              "    <tr>\n",
              "      <th>Tatoray Stripper C620 Operation_Column Temp Profile_C620 Tray 34 (Control)_oC</th>\n",
              "      <td>0.996209</td>\n",
              "      <td>0.00298664</td>\n",
              "      <td>0.0232604</td>\n",
              "    </tr>\n",
              "    <tr>\n",
              "      <th>AVG</th>\n",
              "      <td>0.713151</td>\n",
              "      <td>0.00609775</td>\n",
              "      <td>3.24206</td>\n",
              "    </tr>\n",
              "  </tbody>\n",
              "</table>\n",
              "<p>173 rows × 3 columns</p>\n",
              "</div>"
            ],
            "text/plain": [
              "                                                          R2  ...         MAPE\n",
              "Tatoray Stripper C620 Split Factors Calculation...         0  ...    0.0821588\n",
              "Tatoray Stripper C620 Split Factors Calculation...  0.971345  ...    0.0545575\n",
              "Tatoray Stripper C620 Split Factors Calculation...   0.98046  ...     0.202798\n",
              "Tatoray Stripper C620 Split Factors Calculation...  0.976917  ...      0.61505\n",
              "Tatoray Stripper C620 Split Factors Calculation...  0.912265  ...      3.70008\n",
              "...                                                      ...  ...          ...\n",
              "Density_Bottoms Production Rate and Composition     0.997165  ...  0.000592057\n",
              "Tatoray Stripper C620 Operation_Yield Summary_R...  0.992489  ...     0.593325\n",
              "Tatoray Stripper C620 Operation_Column Temp Pro...  0.955631  ...     0.114704\n",
              "Tatoray Stripper C620 Operation_Column Temp Pro...  0.996209  ...    0.0232604\n",
              "AVG                                                 0.713151  ...      3.24206\n",
              "\n",
              "[173 rows x 3 columns]"
            ]
          },
          "metadata": {
            "tags": []
          },
          "execution_count": 4
        }
      ]
    },
    {
      "cell_type": "markdown",
      "metadata": {
        "id": "1rZN9cjQwV9x"
      },
      "source": [
        "# c620遷移學習"
      ]
    },
    {
      "cell_type": "code",
      "metadata": {
        "colab": {
          "base_uri": "https://localhost:8080/"
        },
        "id": "LGApjf5fsgP2",
        "outputId": "f16c5da7-1d1e-4aa5-f7af-2576c414c648"
      },
      "source": [
        "# use pretrain net continue training\n",
        "from copy import deepcopy\n",
        "pretrain_net = deepcopy(c620_model.net.train())\n",
        "print(pretrain_net)"
      ],
      "execution_count": 5,
      "outputs": [
        {
          "output_type": "stream",
          "text": [
            "Linear(in_features=44, out_features=172, bias=True)\n"
          ],
          "name": "stdout"
        }
      ]
    },
    {
      "cell_type": "code",
      "metadata": {
        "id": "glLlPyJsrHUa"
      },
      "source": [
        "c620_model = autorch.utils.PartBulider(c620_df_real,x_col,sp_col+op_col,limit_y_range=True,normalize_idx_list=n_idx,max_epochs=max_epochs) # use real data  \n",
        "c620_model.net = pretrain_net # use pretrain net\n",
        "c620_model.optimizer = Adam(c620_model.net.parameters())"
      ],
      "execution_count": 6,
      "outputs": []
    },
    {
      "cell_type": "code",
      "metadata": {
        "colab": {
          "base_uri": "https://localhost:8080/",
          "height": 334
        },
        "id": "fDeFvsQ4sXuK",
        "outputId": "bc1b7272-8e51-4016-91b2-3985210588b4"
      },
      "source": [
        "c620_model.train()"
      ],
      "execution_count": 7,
      "outputs": [
        {
          "output_type": "stream",
          "text": [
            " 55%|█████▌    | 55/100 [00:00<00:00, 264.04it/s]"
          ],
          "name": "stderr"
        },
        {
          "output_type": "stream",
          "text": [
            "epoch:0 train_loss:0.0583 valid_loss:0.0518\n",
            "epoch:50 train_loss:0.0122 valid_loss:0.0121\n"
          ],
          "name": "stdout"
        },
        {
          "output_type": "stream",
          "text": [
            "100%|██████████| 100/100 [00:00<00:00, 271.22it/s]\n"
          ],
          "name": "stderr"
        },
        {
          "output_type": "display_data",
          "data": {
            "image/png": "[encoded data removed]",
            "text/plain": [
              "<Figure size 432x288 with 1 Axes>"
            ]
          },
          "metadata": {
            "tags": [],
            "needs_background": "light"
          }
        },
        {
          "output_type": "execute_result",
          "data": {
            "text/plain": [
              "<autorch.utils.part.PartBulider at 0x7fa6642696d0>"
            ]
          },
          "metadata": {
            "tags": []
          },
          "execution_count": 7
        }
      ]
    },
    {
      "cell_type": "code",
      "metadata": {
        "colab": {
          "base_uri": "https://localhost:8080/",
          "height": 419
        },
        "id": "nZDfN9ArtqH0",
        "outputId": "9393b9e5-32e2-4218-97a9-efa8c642bff2"
      },
      "source": [
        "# test\n",
        "c620_model.test(e=0.02)"
      ],
      "execution_count": 8,
      "outputs": [
        {
          "output_type": "execute_result",
          "data": {
            "text/html": [
              "<div>\n",
              "<style scoped>\n",
              "    .dataframe tbody tr th:only-of-type {\n",
              "        vertical-align: middle;\n",
              "    }\n",
              "\n",
              "    .dataframe tbody tr th {\n",
              "        vertical-align: top;\n",
              "    }\n",
              "\n",
              "    .dataframe thead th {\n",
              "        text-align: right;\n",
              "    }\n",
              "</style>\n",
              "<table border=\"1\" class=\"dataframe\">\n",
              "  <thead>\n",
              "    <tr style=\"text-align: right;\">\n",
              "      <th></th>\n",
              "      <th>R2</th>\n",
              "      <th>MSE</th>\n",
              "      <th>MAPE</th>\n",
              "    </tr>\n",
              "  </thead>\n",
              "  <tbody>\n",
              "    <tr>\n",
              "      <th>Tatoray Stripper C620 Split Factors Calculation_Split Factor for Individual Component to Tatoray Stripper C620 Vent Gas_Hydrogen_Fraction</th>\n",
              "      <td>0</td>\n",
              "      <td>7.99713e-05</td>\n",
              "      <td>0.817482</td>\n",
              "    </tr>\n",
              "    <tr>\n",
              "      <th>Tatoray Stripper C620 Split Factors Calculation_Split Factor for Individual Component to Tatoray Stripper C620 Vent Gas_Methane_Fraction</th>\n",
              "      <td>0</td>\n",
              "      <td>0.0127925</td>\n",
              "      <td>11.2152</td>\n",
              "    </tr>\n",
              "    <tr>\n",
              "      <th>Tatoray Stripper C620 Split Factors Calculation_Split Factor for Individual Component to Tatoray Stripper C620 Vent Gas_Ethane_Fraction</th>\n",
              "      <td>0</td>\n",
              "      <td>0.164275</td>\n",
              "      <td>40.4735</td>\n",
              "    </tr>\n",
              "    <tr>\n",
              "      <th>Tatoray Stripper C620 Split Factors Calculation_Split Factor for Individual Component to Tatoray Stripper C620 Vent Gas_Propane_Fraction</th>\n",
              "      <td>0</td>\n",
              "      <td>0.260087</td>\n",
              "      <td>50.9901</td>\n",
              "    </tr>\n",
              "    <tr>\n",
              "      <th>Tatoray Stripper C620 Split Factors Calculation_Split Factor for Individual Component to Tatoray Stripper C620 Vent Gas_n-Butane_Fraction</th>\n",
              "      <td>0</td>\n",
              "      <td>0.264126</td>\n",
              "      <td>51.3837</td>\n",
              "    </tr>\n",
              "    <tr>\n",
              "      <th>...</th>\n",
              "      <td>...</td>\n",
              "      <td>...</td>\n",
              "      <td>...</td>\n",
              "    </tr>\n",
              "    <tr>\n",
              "      <th>Density_Bottoms Production Rate and Composition</th>\n",
              "      <td>0.179422</td>\n",
              "      <td>1.98751e-07</td>\n",
              "      <td>0.0445388</td>\n",
              "    </tr>\n",
              "    <tr>\n",
              "      <th>Tatoray Stripper C620 Operation_Yield Summary_Reflux Rate_m3/hr</th>\n",
              "      <td>0.461842</td>\n",
              "      <td>11.1134</td>\n",
              "      <td>2.04391</td>\n",
              "    </tr>\n",
              "    <tr>\n",
              "      <th>Tatoray Stripper C620 Operation_Column Temp Profile_C620 Tray 14 (Control)_oC</th>\n",
              "      <td>0.0872912</td>\n",
              "      <td>4.04844</td>\n",
              "      <td>1.03389</td>\n",
              "    </tr>\n",
              "    <tr>\n",
              "      <th>Tatoray Stripper C620 Operation_Column Temp Profile_C620 Tray 34 (Control)_oC</th>\n",
              "      <td>0</td>\n",
              "      <td>0.492499</td>\n",
              "      <td>0.319673</td>\n",
              "    </tr>\n",
              "    <tr>\n",
              "      <th>AVG</th>\n",
              "      <td>0.0566148</td>\n",
              "      <td>0.127478</td>\n",
              "      <td>25.7414</td>\n",
              "    </tr>\n",
              "  </tbody>\n",
              "</table>\n",
              "<p>173 rows × 3 columns</p>\n",
              "</div>"
            ],
            "text/plain": [
              "                                                           R2  ...       MAPE\n",
              "Tatoray Stripper C620 Split Factors Calculation...          0  ...   0.817482\n",
              "Tatoray Stripper C620 Split Factors Calculation...          0  ...    11.2152\n",
              "Tatoray Stripper C620 Split Factors Calculation...          0  ...    40.4735\n",
              "Tatoray Stripper C620 Split Factors Calculation...          0  ...    50.9901\n",
              "Tatoray Stripper C620 Split Factors Calculation...          0  ...    51.3837\n",
              "...                                                       ...  ...        ...\n",
              "Density_Bottoms Production Rate and Composition      0.179422  ...  0.0445388\n",
              "Tatoray Stripper C620 Operation_Yield Summary_R...   0.461842  ...    2.04391\n",
              "Tatoray Stripper C620 Operation_Column Temp Pro...  0.0872912  ...    1.03389\n",
              "Tatoray Stripper C620 Operation_Column Temp Pro...          0  ...   0.319673\n",
              "AVG                                                 0.0566148  ...    25.7414\n",
              "\n",
              "[173 rows x 3 columns]"
            ]
          },
          "metadata": {
            "tags": []
          },
          "execution_count": 8
        }
      ]
    },
    {
      "cell_type": "code",
      "metadata": {
        "colab": {
          "base_uri": "https://localhost:8080/"
        },
        "id": "1-8zSfUFvq4N",
        "outputId": "5b90554d-da4d-46a5-8094-a44114c64f23"
      },
      "source": [
        "# save\n",
        "joblib.dump(c620_model,'/content/drive/MyDrive/台塑輕油案子/data/c620/model/c620_real_data_linear.pkl')"
      ],
      "execution_count": 9,
      "outputs": [
        {
          "output_type": "execute_result",
          "data": {
            "text/plain": [
              "['/content/drive/MyDrive/台塑輕油案子/data/c620/model/c620_real_data_linear.pkl']"
            ]
          },
          "metadata": {
            "tags": []
          },
          "execution_count": 9
        }
      ]
    },
    {
      "cell_type": "markdown",
      "metadata": {
        "id": "UUFmBXxwwb0l"
      },
      "source": [
        "# c660 模擬數據"
      ]
    },
    {
      "cell_type": "code",
      "metadata": {
        "id": "PkPFWCfQwFje",
        "colab": {
          "base_uri": "https://localhost:8080/",
          "height": 333
        },
        "outputId": "de9400c6-ba5f-477d-f663-7a361a60188a"
      },
      "source": [
        "# load data\n",
        "c660_df = pd.read_csv('/content/drive/MyDrive/台塑輕油案子/data/c620/cleaned/c660_train.csv',index_col=0)\n",
        "c660_df_real = pd.read_excel('/content/drive/MyDrive/台塑輕油案子/data/c620/明志_遷移式學習_訓練資料_寄送版/c660_data.xlsx',index_col=0)\n",
        "c = joblib.load('/content/drive/MyDrive/台塑輕油案子/data/c620/col_names/c660_col_names.pkl')\n",
        "\n",
        "# def col\n",
        "x_col = c['case']+c['x41']\n",
        "op_col = c['density']+c['yRefluxRate']+c['yHeatDuty']+c['yControl']\n",
        "op_col = c660_df_real[op_col].dropna(axis=1).columns.tolist()\n",
        "sp_col = c['vent_gas_sf']+c['distillate_sf']+c['sidedraw_sf']+c['bottoms_sf']\n",
        "n_idx = [[i,i+41,i+41*2,i+41*3] for i in range(41)]\n",
        "\n",
        "# modeling\n",
        "c660_model = autorch.utils.PartBulider(c660_df,x_col,sp_col+op_col,limit_y_range=True,normalize_idx_list=n_idx,max_epochs=max_epochs)\n",
        "c660_model.net = nn.Linear(len(x_col),len(sp_col)+len(op_col))\n",
        "c660_model.optimizer = Adam(c660_model.net.parameters())\n",
        "c660_model.train()"
      ],
      "execution_count": 16,
      "outputs": [
        {
          "output_type": "stream",
          "text": [
            "  1%|          | 1/100 [00:00<00:23,  4.14it/s]"
          ],
          "name": "stderr"
        },
        {
          "output_type": "stream",
          "text": [
            "epoch:0 train_loss:0.0215 valid_loss:0.0076\n"
          ],
          "name": "stdout"
        },
        {
          "output_type": "stream",
          "text": [
            " 51%|█████     | 51/100 [00:12<00:11,  4.17it/s]"
          ],
          "name": "stderr"
        },
        {
          "output_type": "stream",
          "text": [
            "epoch:50 train_loss:0.0019 valid_loss:0.0019\n"
          ],
          "name": "stdout"
        },
        {
          "output_type": "stream",
          "text": [
            "100%|██████████| 100/100 [00:24<00:00,  4.12it/s]\n"
          ],
          "name": "stderr"
        },
        {
          "output_type": "display_data",
          "data": {
            "image/png": "[encoded data removed]",
            "text/plain": [
              "<Figure size 432x288 with 1 Axes>"
            ]
          },
          "metadata": {
            "tags": [],
            "needs_background": "light"
          }
        },
        {
          "output_type": "execute_result",
          "data": {
            "text/plain": [
              "<autorch.utils.part.PartBulider at 0x7fa663f2e090>"
            ]
          },
          "metadata": {
            "tags": []
          },
          "execution_count": 16
        }
      ]
    },
    {
      "cell_type": "code",
      "metadata": {
        "id": "HEgeZ29c36aG",
        "colab": {
          "base_uri": "https://localhost:8080/",
          "height": 419
        },
        "outputId": "ebc68685-ae41-4975-824a-26eee2f31e3a"
      },
      "source": [
        "c660_model.test(e=0.02)"
      ],
      "execution_count": 17,
      "outputs": [
        {
          "output_type": "execute_result",
          "data": {
            "text/html": [
              "<div>\n",
              "<style scoped>\n",
              "    .dataframe tbody tr th:only-of-type {\n",
              "        vertical-align: middle;\n",
              "    }\n",
              "\n",
              "    .dataframe tbody tr th {\n",
              "        vertical-align: top;\n",
              "    }\n",
              "\n",
              "    .dataframe thead th {\n",
              "        text-align: right;\n",
              "    }\n",
              "</style>\n",
              "<table border=\"1\" class=\"dataframe\">\n",
              "  <thead>\n",
              "    <tr style=\"text-align: right;\">\n",
              "      <th></th>\n",
              "      <th>R2</th>\n",
              "      <th>MSE</th>\n",
              "      <th>MAPE</th>\n",
              "    </tr>\n",
              "  </thead>\n",
              "  <tbody>\n",
              "    <tr>\n",
              "      <th>Benzene Column C660 Split Factors Calculation_Split Factor for Individual Component to Benzene Column C660 Vent Gas_Hydrogen_Fraction</th>\n",
              "      <td>0</td>\n",
              "      <td>6.42233e-08</td>\n",
              "      <td>0.0143251</td>\n",
              "    </tr>\n",
              "    <tr>\n",
              "      <th>Benzene Column C660 Split Factors Calculation_Split Factor for Individual Component to Benzene Column C660 Vent Gas_Methane_Fraction</th>\n",
              "      <td>0.670915</td>\n",
              "      <td>0.00555064</td>\n",
              "      <td>7.84055</td>\n",
              "    </tr>\n",
              "    <tr>\n",
              "      <th>Benzene Column C660 Split Factors Calculation_Split Factor for Individual Component to Benzene Column C660 Vent Gas_Ethane_Fraction</th>\n",
              "      <td>0.90362</td>\n",
              "      <td>0.0063842</td>\n",
              "      <td>14.5303</td>\n",
              "    </tr>\n",
              "    <tr>\n",
              "      <th>Benzene Column C660 Split Factors Calculation_Split Factor for Individual Component to Benzene Column C660 Vent Gas_Propane_Fraction</th>\n",
              "      <td>0.977361</td>\n",
              "      <td>0.00207664</td>\n",
              "      <td>14.8516</td>\n",
              "    </tr>\n",
              "    <tr>\n",
              "      <th>Benzene Column C660 Split Factors Calculation_Split Factor for Individual Component to Benzene Column C660 Vent Gas_n-Butane_Fraction</th>\n",
              "      <td>0.960729</td>\n",
              "      <td>0.00272426</td>\n",
              "      <td>27.2562</td>\n",
              "    </tr>\n",
              "    <tr>\n",
              "      <th>...</th>\n",
              "      <td>...</td>\n",
              "      <td>...</td>\n",
              "      <td>...</td>\n",
              "    </tr>\n",
              "    <tr>\n",
              "      <th>Density_Bottoms Production Rate and Composition</th>\n",
              "      <td>0.992365</td>\n",
              "      <td>5.85908e-10</td>\n",
              "      <td>0.00213693</td>\n",
              "    </tr>\n",
              "    <tr>\n",
              "      <th>Benzene Column C660 Operation_Yield Summary_Reflux Rate_m3/hr</th>\n",
              "      <td>0.952947</td>\n",
              "      <td>39.9957</td>\n",
              "      <td>3.95683</td>\n",
              "    </tr>\n",
              "    <tr>\n",
              "      <th>Benzene Column C660 Operation_Column Temp Profile_C660 Tray 6 (SD &amp; Control)_oC</th>\n",
              "      <td>0.928382</td>\n",
              "      <td>0.00319285</td>\n",
              "      <td>0.053375</td>\n",
              "    </tr>\n",
              "    <tr>\n",
              "      <th>Benzene Column C660 Operation_Column Temp Profile_C660 Tray 23 (Control)_oC</th>\n",
              "      <td>0.897745</td>\n",
              "      <td>0.0818266</td>\n",
              "      <td>0.250801</td>\n",
              "    </tr>\n",
              "    <tr>\n",
              "      <th>AVG</th>\n",
              "      <td>0.527953</td>\n",
              "      <td>0.233285</td>\n",
              "      <td>6.04909</td>\n",
              "    </tr>\n",
              "  </tbody>\n",
              "</table>\n",
              "<p>173 rows × 3 columns</p>\n",
              "</div>"
            ],
            "text/plain": [
              "                                                          R2  ...        MAPE\n",
              "Benzene Column C660 Split Factors Calculation_S...         0  ...   0.0143251\n",
              "Benzene Column C660 Split Factors Calculation_S...  0.670915  ...     7.84055\n",
              "Benzene Column C660 Split Factors Calculation_S...   0.90362  ...     14.5303\n",
              "Benzene Column C660 Split Factors Calculation_S...  0.977361  ...     14.8516\n",
              "Benzene Column C660 Split Factors Calculation_S...  0.960729  ...     27.2562\n",
              "...                                                      ...  ...         ...\n",
              "Density_Bottoms Production Rate and Composition     0.992365  ...  0.00213693\n",
              "Benzene Column C660 Operation_Yield Summary_Ref...  0.952947  ...     3.95683\n",
              "Benzene Column C660 Operation_Column Temp Profi...  0.928382  ...    0.053375\n",
              "Benzene Column C660 Operation_Column Temp Profi...  0.897745  ...    0.250801\n",
              "AVG                                                 0.527953  ...     6.04909\n",
              "\n",
              "[173 rows x 3 columns]"
            ]
          },
          "metadata": {
            "tags": []
          },
          "execution_count": 17
        }
      ]
    },
    {
      "cell_type": "markdown",
      "metadata": {
        "id": "4qUwPcry4LYu"
      },
      "source": [
        "# c660遷移學習"
      ]
    },
    {
      "cell_type": "code",
      "metadata": {
        "id": "sFbliMxB4Jpp",
        "colab": {
          "base_uri": "https://localhost:8080/"
        },
        "outputId": "0d78c843-811d-41b3-9278-4439d896f351"
      },
      "source": [
        "pretrain_net = deepcopy(c660_model.net.train())\n",
        "print(pretrain_net)"
      ],
      "execution_count": 18,
      "outputs": [
        {
          "output_type": "stream",
          "text": [
            "Linear(in_features=43, out_features=172, bias=True)\n"
          ],
          "name": "stdout"
        }
      ]
    },
    {
      "cell_type": "code",
      "metadata": {
        "id": "wtM2O-R04QsY"
      },
      "source": [
        "c660_model = autorch.utils.PartBulider(c660_df_real,x_col,sp_col+op_col,limit_y_range=True,normalize_idx_list=n_idx,max_epochs=max_epochs) # use real data  \n",
        "c660_model.net = pretrain_net # use pretrain net\n",
        "c660_model.optimizer = Adam(c660_model.net.parameters())"
      ],
      "execution_count": 19,
      "outputs": []
    },
    {
      "cell_type": "code",
      "metadata": {
        "id": "_zY6AAHx4Yeh",
        "colab": {
          "base_uri": "https://localhost:8080/",
          "height": 333
        },
        "outputId": "39c981a2-d948-4b5e-df2a-4b2f67654414"
      },
      "source": [
        "c660_model.train()"
      ],
      "execution_count": 20,
      "outputs": [
        {
          "output_type": "stream",
          "text": [
            " 55%|█████▌    | 55/100 [00:00<00:00, 265.43it/s]"
          ],
          "name": "stderr"
        },
        {
          "output_type": "stream",
          "text": [
            "epoch:0 train_loss:0.0758 valid_loss:0.0664\n",
            "epoch:50 train_loss:0.0110 valid_loss:0.0074\n"
          ],
          "name": "stdout"
        },
        {
          "output_type": "stream",
          "text": [
            "100%|██████████| 100/100 [00:00<00:00, 263.33it/s]\n"
          ],
          "name": "stderr"
        },
        {
          "output_type": "display_data",
          "data": {
            "image/png": "[encoded data removed]",
            "text/plain": [
              "<Figure size 432x288 with 1 Axes>"
            ]
          },
          "metadata": {
            "tags": [],
            "needs_background": "light"
          }
        },
        {
          "output_type": "execute_result",
          "data": {
            "text/plain": [
              "<autorch.utils.part.PartBulider at 0x7fa666c83110>"
            ]
          },
          "metadata": {
            "tags": []
          },
          "execution_count": 20
        }
      ]
    },
    {
      "cell_type": "code",
      "metadata": {
        "id": "PwSxN3gf4bYB",
        "colab": {
          "base_uri": "https://localhost:8080/"
        },
        "outputId": "0265a5c4-73d8-449b-e611-9fc2af692d03"
      },
      "source": [
        "# save\n",
        "joblib.dump(c660_model,'/content/drive/MyDrive/台塑輕油案子/data/c620/model/c660_real_data_linear.pkl')"
      ],
      "execution_count": 22,
      "outputs": [
        {
          "output_type": "execute_result",
          "data": {
            "text/plain": [
              "['/content/drive/MyDrive/台塑輕油案子/data/c620/model/c660_real_data_linear.pkl']"
            ]
          },
          "metadata": {
            "tags": []
          },
          "execution_count": 22
        }
      ]
    },
    {
      "cell_type": "markdown",
      "metadata": {
        "id": "Kw1n66YO4h0Y"
      },
      "source": [
        "# c670 模擬數據"
      ]
    },
    {
      "cell_type": "code",
      "metadata": {
        "id": "6pumKLap4gzZ"
      },
      "source": [
        "# load data\n",
        "import numpy as np\n",
        "c670_df = pd.read_csv('/content/drive/MyDrive/台塑輕油案子/data/c620/cleaned/c670_train.csv',index_col=0)\n",
        "c670_df_real = pd.read_excel('/content/drive/MyDrive/台塑輕油案子/data/c620/明志_遷移式學習_訓練資料_寄送版/c670_data.xlsx',index_col=0)\n",
        "c = joblib.load('/content/drive/MyDrive/台塑輕油案子/data/c620/col_names/c670_col_names.pkl')"
      ],
      "execution_count": 23,
      "outputs": []
    },
    {
      "cell_type": "code",
      "metadata": {
        "id": "1omARM974-7x"
      },
      "source": [
        "# 根據條件修改值\n",
        "def change_value(df):\n",
        "  a = df[c['upper_bf']]\n",
        "  紫色零點零欄位 = a[a==0.0].dropna(axis=1).columns.tolist()\n",
        "  紫色零點一欄位 = a[a==0.1].dropna(axis=1).columns.tolist()\n",
        "  紫色零點九欄位 = a[a==0.9].dropna(axis=1).columns.tolist()\n",
        "  紫色一點零欄位 = a[a==1.0].dropna(axis=1).columns.tolist()\n",
        "  df.loc[:,紫色零點零欄位] = 0.0001 \n",
        "  df.loc[:,紫色零點一欄位] = 0.0001 \n",
        "  df.loc[:,紫色零點九欄位] = 0.9999\n",
        "  df.loc[:,紫色一點零欄位] = 0.9999\n",
        "  return df"
      ],
      "execution_count": 24,
      "outputs": []
    },
    {
      "cell_type": "code",
      "metadata": {
        "id": "j3Vp7HXM5Y-5"
      },
      "source": [
        "c670_df = change_value(c670_df)"
      ],
      "execution_count": 25,
      "outputs": []
    },
    {
      "cell_type": "code",
      "metadata": {
        "id": "7I6QNY0a5cJa"
      },
      "source": [
        "c670_df_real = change_value(c670_df_real)"
      ],
      "execution_count": 26,
      "outputs": []
    },
    {
      "cell_type": "code",
      "metadata": {
        "id": "Vh6sb-al7Hyh"
      },
      "source": [
        "x_col = c['combined'] + c['upper_bf']\n",
        "op_col = c['density']+c['yRefluxRate']+c['yHeatDuty']+c['yControl']\n",
        "op_col = c670_df_real[op_col].dropna(axis=1).columns.tolist()\n",
        "sp_col = c['distillate_sf']+c['bottoms_sf']\n",
        "n_idx = [[i,i+41] for i in range(41)]"
      ],
      "execution_count": 27,
      "outputs": []
    },
    {
      "cell_type": "code",
      "metadata": {
        "id": "qgybSV187hEU",
        "colab": {
          "base_uri": "https://localhost:8080/",
          "height": 333
        },
        "outputId": "6c881315-911d-4152-9a1d-2d2c1d434d92"
      },
      "source": [
        "c670_model = autorch.utils.PartBulider(c670_df,x_col,sp_col+op_col,limit_y_range=True,normalize_idx_list=n_idx,max_epochs=max_epochs)\n",
        "c670_model.net = nn.Linear(len(x_col),len(sp_col)+len(op_col))\n",
        "c670_model.optimizer = Adam(c670_model.net.parameters())\n",
        "c670_model.train()"
      ],
      "execution_count": 28,
      "outputs": [
        {
          "output_type": "stream",
          "text": [
            "  1%|          | 1/100 [00:00<00:22,  4.37it/s]"
          ],
          "name": "stderr"
        },
        {
          "output_type": "stream",
          "text": [
            "epoch:0 train_loss:0.0178 valid_loss:0.0048\n"
          ],
          "name": "stdout"
        },
        {
          "output_type": "stream",
          "text": [
            " 51%|█████     | 51/100 [00:12<00:11,  4.21it/s]"
          ],
          "name": "stderr"
        },
        {
          "output_type": "stream",
          "text": [
            "epoch:50 train_loss:0.0023 valid_loss:0.0023\n"
          ],
          "name": "stdout"
        },
        {
          "output_type": "stream",
          "text": [
            "100%|██████████| 100/100 [00:23<00:00,  4.19it/s]\n"
          ],
          "name": "stderr"
        },
        {
          "output_type": "display_data",
          "data": {
            "image/png": "[encoded data removed]",
            "text/plain": [
              "<Figure size 432x288 with 1 Axes>"
            ]
          },
          "metadata": {
            "tags": [],
            "needs_background": "light"
          }
        },
        {
          "output_type": "execute_result",
          "data": {
            "text/plain": [
              "<autorch.utils.part.PartBulider at 0x7fa663b65110>"
            ]
          },
          "metadata": {
            "tags": []
          },
          "execution_count": 28
        }
      ]
    },
    {
      "cell_type": "code",
      "metadata": {
        "id": "sAfqbgHg7yBT",
        "colab": {
          "base_uri": "https://localhost:8080/",
          "height": 419
        },
        "outputId": "ad4f85b4-345f-49be-ac95-c78bacdb9347"
      },
      "source": [
        "c670_model.test(e=0.02)"
      ],
      "execution_count": 29,
      "outputs": [
        {
          "output_type": "execute_result",
          "data": {
            "text/html": [
              "<div>\n",
              "<style scoped>\n",
              "    .dataframe tbody tr th:only-of-type {\n",
              "        vertical-align: middle;\n",
              "    }\n",
              "\n",
              "    .dataframe tbody tr th {\n",
              "        vertical-align: top;\n",
              "    }\n",
              "\n",
              "    .dataframe thead th {\n",
              "        text-align: right;\n",
              "    }\n",
              "</style>\n",
              "<table border=\"1\" class=\"dataframe\">\n",
              "  <thead>\n",
              "    <tr style=\"text-align: right;\">\n",
              "      <th></th>\n",
              "      <th>R2</th>\n",
              "      <th>MSE</th>\n",
              "      <th>MAPE</th>\n",
              "    </tr>\n",
              "  </thead>\n",
              "  <tbody>\n",
              "    <tr>\n",
              "      <th>Toluene Column C670 Split Factors Calculation_Split Factor for Individual Component to Toluene Column C670 Distillate_Hydrogen_Fraction</th>\n",
              "      <td>0</td>\n",
              "      <td>1.2727e-07</td>\n",
              "      <td>0.0300389</td>\n",
              "    </tr>\n",
              "    <tr>\n",
              "      <th>Toluene Column C670 Split Factors Calculation_Split Factor for Individual Component to Toluene Column C670 Distillate_Methane_Fraction</th>\n",
              "      <td>0</td>\n",
              "      <td>1.37774e-07</td>\n",
              "      <td>0.0250942</td>\n",
              "    </tr>\n",
              "    <tr>\n",
              "      <th>Toluene Column C670 Split Factors Calculation_Split Factor for Individual Component to Toluene Column C670 Distillate_Ethane_Fraction</th>\n",
              "      <td>0</td>\n",
              "      <td>1.8177e-08</td>\n",
              "      <td>0.00484534</td>\n",
              "    </tr>\n",
              "    <tr>\n",
              "      <th>Toluene Column C670 Split Factors Calculation_Split Factor for Individual Component to Toluene Column C670 Distillate_Propane_Fraction</th>\n",
              "      <td>0</td>\n",
              "      <td>2.64919e-07</td>\n",
              "      <td>0.0378923</td>\n",
              "    </tr>\n",
              "    <tr>\n",
              "      <th>Toluene Column C670 Split Factors Calculation_Split Factor for Individual Component to Toluene Column C670 Distillate_n-Butane_Fraction</th>\n",
              "      <td>0</td>\n",
              "      <td>1.59973e-07</td>\n",
              "      <td>0.0325999</td>\n",
              "    </tr>\n",
              "    <tr>\n",
              "      <th>...</th>\n",
              "      <td>...</td>\n",
              "      <td>...</td>\n",
              "      <td>...</td>\n",
              "    </tr>\n",
              "    <tr>\n",
              "      <th>Density_Bottoms Production Rate and Composition</th>\n",
              "      <td>0.999664</td>\n",
              "      <td>6.03461e-11</td>\n",
              "      <td>0.000722158</td>\n",
              "    </tr>\n",
              "    <tr>\n",
              "      <th>Toluene Column C670 Operation_Yield \\nSummary_Reflux Rate_m3/hr</th>\n",
              "      <td>0.990212</td>\n",
              "      <td>5.83265</td>\n",
              "      <td>0.706037</td>\n",
              "    </tr>\n",
              "    <tr>\n",
              "      <th>Toluene Column C670 Operation_Column Temp Profile_C670 Tray 24 (Control)_oC</th>\n",
              "      <td>0.977685</td>\n",
              "      <td>0.00127559</td>\n",
              "      <td>0.0152383</td>\n",
              "    </tr>\n",
              "    <tr>\n",
              "      <th>Toluene Column C670 Operation_Column Temp Profile_C670 Btm Temp (Control)_oC</th>\n",
              "      <td>0.997411</td>\n",
              "      <td>0.00696761</td>\n",
              "      <td>0.0271626</td>\n",
              "    </tr>\n",
              "    <tr>\n",
              "      <th>AVG</th>\n",
              "      <td>0.463921</td>\n",
              "      <td>0.067137</td>\n",
              "      <td>0.073053</td>\n",
              "    </tr>\n",
              "  </tbody>\n",
              "</table>\n",
              "<p>88 rows × 3 columns</p>\n",
              "</div>"
            ],
            "text/plain": [
              "                                                          R2  ...         MAPE\n",
              "Toluene Column C670 Split Factors Calculation_S...         0  ...    0.0300389\n",
              "Toluene Column C670 Split Factors Calculation_S...         0  ...    0.0250942\n",
              "Toluene Column C670 Split Factors Calculation_S...         0  ...   0.00484534\n",
              "Toluene Column C670 Split Factors Calculation_S...         0  ...    0.0378923\n",
              "Toluene Column C670 Split Factors Calculation_S...         0  ...    0.0325999\n",
              "...                                                      ...  ...          ...\n",
              "Density_Bottoms Production Rate and Composition     0.999664  ...  0.000722158\n",
              "Toluene Column C670 Operation_Yield \\nSummary_R...  0.990212  ...     0.706037\n",
              "Toluene Column C670 Operation_Column Temp Profi...  0.977685  ...    0.0152383\n",
              "Toluene Column C670 Operation_Column Temp Profi...  0.997411  ...    0.0271626\n",
              "AVG                                                 0.463921  ...     0.073053\n",
              "\n",
              "[88 rows x 3 columns]"
            ]
          },
          "metadata": {
            "tags": []
          },
          "execution_count": 29
        }
      ]
    },
    {
      "cell_type": "markdown",
      "metadata": {
        "id": "7jy_hgTZ8VPk"
      },
      "source": [
        "# c670 遷移學習"
      ]
    },
    {
      "cell_type": "code",
      "metadata": {
        "id": "-RqK7C7I8S_j",
        "colab": {
          "base_uri": "https://localhost:8080/"
        },
        "outputId": "ac5e3bce-e43e-4949-bb1f-83fdd0c99d46"
      },
      "source": [
        "pretrain_net = deepcopy(c670_model.net.train())\n",
        "print(pretrain_net)"
      ],
      "execution_count": 30,
      "outputs": [
        {
          "output_type": "stream",
          "text": [
            "Linear(in_features=82, out_features=87, bias=True)\n"
          ],
          "name": "stdout"
        }
      ]
    },
    {
      "cell_type": "code",
      "metadata": {
        "id": "-ty7t-c48Znj"
      },
      "source": [
        "c670_model = autorch.utils.PartBulider(c670_df_real,x_col,sp_col+op_col,limit_y_range=True,normalize_idx_list=n_idx,max_epochs=max_epochs) # use real data  \n",
        "c670_model.net = pretrain_net # use pretrain net\n",
        "c670_model.optimizer = Adam(c670_model.net.parameters())"
      ],
      "execution_count": 31,
      "outputs": []
    },
    {
      "cell_type": "code",
      "metadata": {
        "id": "JSB9-lIc8gLb",
        "colab": {
          "base_uri": "https://localhost:8080/",
          "height": 333
        },
        "outputId": "b468bde2-30e1-4d8e-c4fc-01478e0caa8c"
      },
      "source": [
        "c670_model.train()"
      ],
      "execution_count": 32,
      "outputs": [
        {
          "output_type": "stream",
          "text": [
            " 55%|█████▌    | 55/100 [00:00<00:00, 269.03it/s]"
          ],
          "name": "stderr"
        },
        {
          "output_type": "stream",
          "text": [
            "epoch:0 train_loss:0.0827 valid_loss:0.0773\n",
            "epoch:50 train_loss:0.0098 valid_loss:0.0092\n"
          ],
          "name": "stdout"
        },
        {
          "output_type": "stream",
          "text": [
            "100%|██████████| 100/100 [00:00<00:00, 267.76it/s]\n"
          ],
          "name": "stderr"
        },
        {
          "output_type": "display_data",
          "data": {
            "image/png": "[encoded data removed]",
            "text/plain": [
              "<Figure size 432x288 with 1 Axes>"
            ]
          },
          "metadata": {
            "tags": [],
            "needs_background": "light"
          }
        },
        {
          "output_type": "execute_result",
          "data": {
            "text/plain": [
              "<autorch.utils.part.PartBulider at 0x7fa66394c2d0>"
            ]
          },
          "metadata": {
            "tags": []
          },
          "execution_count": 32
        }
      ]
    },
    {
      "cell_type": "code",
      "metadata": {
        "id": "x5ZwPB5o8itz",
        "colab": {
          "base_uri": "https://localhost:8080/",
          "height": 419
        },
        "outputId": "e4df0856-9935-480d-ec7b-ea35edb211f7"
      },
      "source": [
        "c670_model.test(e=0.02)"
      ],
      "execution_count": 33,
      "outputs": [
        {
          "output_type": "execute_result",
          "data": {
            "text/html": [
              "<div>\n",
              "<style scoped>\n",
              "    .dataframe tbody tr th:only-of-type {\n",
              "        vertical-align: middle;\n",
              "    }\n",
              "\n",
              "    .dataframe tbody tr th {\n",
              "        vertical-align: top;\n",
              "    }\n",
              "\n",
              "    .dataframe thead th {\n",
              "        text-align: right;\n",
              "    }\n",
              "</style>\n",
              "<table border=\"1\" class=\"dataframe\">\n",
              "  <thead>\n",
              "    <tr style=\"text-align: right;\">\n",
              "      <th></th>\n",
              "      <th>R2</th>\n",
              "      <th>MSE</th>\n",
              "      <th>MAPE</th>\n",
              "    </tr>\n",
              "  </thead>\n",
              "  <tbody>\n",
              "    <tr>\n",
              "      <th>Toluene Column C670 Split Factors Calculation_Split Factor for Individual Component to Toluene Column C670 Distillate_Hydrogen_Fraction</th>\n",
              "      <td>0</td>\n",
              "      <td>1.55482e-06</td>\n",
              "      <td>0.096171</td>\n",
              "    </tr>\n",
              "    <tr>\n",
              "      <th>Toluene Column C670 Split Factors Calculation_Split Factor for Individual Component to Toluene Column C670 Distillate_Methane_Fraction</th>\n",
              "      <td>0</td>\n",
              "      <td>3.08203e-06</td>\n",
              "      <td>0.0946227</td>\n",
              "    </tr>\n",
              "    <tr>\n",
              "      <th>Toluene Column C670 Split Factors Calculation_Split Factor for Individual Component to Toluene Column C670 Distillate_Ethane_Fraction</th>\n",
              "      <td>0</td>\n",
              "      <td>1.05077e-06</td>\n",
              "      <td>0.0511832</td>\n",
              "    </tr>\n",
              "    <tr>\n",
              "      <th>Toluene Column C670 Split Factors Calculation_Split Factor for Individual Component to Toluene Column C670 Distillate_Propane_Fraction</th>\n",
              "      <td>0</td>\n",
              "      <td>1.39151e-05</td>\n",
              "      <td>0.191566</td>\n",
              "    </tr>\n",
              "    <tr>\n",
              "      <th>Toluene Column C670 Split Factors Calculation_Split Factor for Individual Component to Toluene Column C670 Distillate_n-Butane_Fraction</th>\n",
              "      <td>0</td>\n",
              "      <td>2.87536e-06</td>\n",
              "      <td>0.115124</td>\n",
              "    </tr>\n",
              "    <tr>\n",
              "      <th>...</th>\n",
              "      <td>...</td>\n",
              "      <td>...</td>\n",
              "      <td>...</td>\n",
              "    </tr>\n",
              "    <tr>\n",
              "      <th>Density_Bottoms Production Rate and Composition</th>\n",
              "      <td>0</td>\n",
              "      <td>1.7835e-06</td>\n",
              "      <td>0.0817273</td>\n",
              "    </tr>\n",
              "    <tr>\n",
              "      <th>Toluene Column C670 Operation_Yield \\nSummary_Reflux Rate_m3/hr</th>\n",
              "      <td>0</td>\n",
              "      <td>241.399</td>\n",
              "      <td>3.73033</td>\n",
              "    </tr>\n",
              "    <tr>\n",
              "      <th>Toluene Column C670 Operation_Column Temp Profile_C670 Tray 24 (Control)_oC</th>\n",
              "      <td>0</td>\n",
              "      <td>12.294</td>\n",
              "      <td>0.97286</td>\n",
              "    </tr>\n",
              "    <tr>\n",
              "      <th>Toluene Column C670 Operation_Column Temp Profile_C670 Btm Temp (Control)_oC</th>\n",
              "      <td>0</td>\n",
              "      <td>6.46871</td>\n",
              "      <td>0.606913</td>\n",
              "    </tr>\n",
              "    <tr>\n",
              "      <th>AVG</th>\n",
              "      <td>0.0349927</td>\n",
              "      <td>3.00024</td>\n",
              "      <td>12.7644</td>\n",
              "    </tr>\n",
              "  </tbody>\n",
              "</table>\n",
              "<p>88 rows × 3 columns</p>\n",
              "</div>"
            ],
            "text/plain": [
              "                                                           R2  ...       MAPE\n",
              "Toluene Column C670 Split Factors Calculation_S...          0  ...   0.096171\n",
              "Toluene Column C670 Split Factors Calculation_S...          0  ...  0.0946227\n",
              "Toluene Column C670 Split Factors Calculation_S...          0  ...  0.0511832\n",
              "Toluene Column C670 Split Factors Calculation_S...          0  ...   0.191566\n",
              "Toluene Column C670 Split Factors Calculation_S...          0  ...   0.115124\n",
              "...                                                       ...  ...        ...\n",
              "Density_Bottoms Production Rate and Composition             0  ...  0.0817273\n",
              "Toluene Column C670 Operation_Yield \\nSummary_R...          0  ...    3.73033\n",
              "Toluene Column C670 Operation_Column Temp Profi...          0  ...    0.97286\n",
              "Toluene Column C670 Operation_Column Temp Profi...          0  ...   0.606913\n",
              "AVG                                                 0.0349927  ...    12.7644\n",
              "\n",
              "[88 rows x 3 columns]"
            ]
          },
          "metadata": {
            "tags": []
          },
          "execution_count": 33
        }
      ]
    },
    {
      "cell_type": "code",
      "metadata": {
        "id": "KVf7ZAeK8mZT",
        "colab": {
          "base_uri": "https://localhost:8080/"
        },
        "outputId": "95b11d25-be47-4846-ff6a-bda9f55b718d"
      },
      "source": [
        "joblib.dump(c670_model,'/content/drive/MyDrive/台塑輕油案子/data/c620/model/c670_real_data_linear.pkl')"
      ],
      "execution_count": 34,
      "outputs": [
        {
          "output_type": "execute_result",
          "data": {
            "text/plain": [
              "['/content/drive/MyDrive/台塑輕油案子/data/c620/model/c670_real_data_linear.pkl']"
            ]
          },
          "metadata": {
            "tags": []
          },
          "execution_count": 34
        }
      ]
    },
    {
      "cell_type": "code",
      "metadata": {
        "id": "pnnMcnVE8xAb"
      },
      "source": [
        ""
      ],
      "execution_count": null,
      "outputs": []
    }
  ]
}