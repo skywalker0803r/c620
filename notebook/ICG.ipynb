{
  "nbformat": 4,
  "nbformat_minor": 0,
  "metadata": {
    "colab": {
      "name": "ICG.ipynb",
      "provenance": [],
      "mount_file_id": "https://github.com/skywalker0803r/c620/blob/main/notebook/ICG.ipynb",
      "authorship_tag": "ABX9TyOi4MQLa2KevQ14VZWnh9DE",
      "include_colab_link": true
    },
    "kernelspec": {
      "name": "python3",
      "display_name": "Python 3"
    }
  },
  "cells": [
    {
      "cell_type": "markdown",
      "metadata": {
        "id": "view-in-github",
        "colab_type": "text"
      },
      "source": [
        "<a href=\"https://colab.research.google.com/github/skywalker0803r/c620/blob/main/notebook/ICG.ipynb\" target=\"_parent\"><img src=\"https://colab.research.google.com/assets/colab-badge.svg\" alt=\"Open In Colab\"/></a>"
      ]
    },
    {
      "cell_type": "code",
      "metadata": {
        "id": "BM6iz_tLAk2g"
      },
      "source": [
        "import torch\r\n",
        "from torch import nn\r\n",
        "import numpy as np\r\n",
        "import pandas as pd\r\n",
        "import joblib\r\n",
        "import matplotlib.pyplot as plt\r\n",
        "import autorch"
      ],
      "execution_count": 1,
      "outputs": []
    },
    {
      "cell_type": "code",
      "metadata": {
        "id": "pqXAl8LnGPD_"
      },
      "source": [
        "torch.manual_seed(11)\n",
        "np.random.seed(11)\n",
        "def get_col(df,name):\n",
        "  return df.columns[df.columns.str.contains(name)]"
      ],
      "execution_count": 2,
      "outputs": []
    },
    {
      "cell_type": "markdown",
      "metadata": {
        "id": "bxlX2azhhYbt"
      },
      "source": [
        "![img](https://i.imgur.com/hksoTrh.jpg)\n",
        "\n"
      ]
    },
    {
      "cell_type": "markdown",
      "metadata": {
        "id": "m6HLNV1kFw-i"
      },
      "source": [
        "# load data"
      ]
    },
    {
      "cell_type": "code",
      "metadata": {
        "id": "qVAUSM1Rstlj",
        "outputId": "67e59839-8563-496e-ae91-304c2c4a5885",
        "colab": {
          "base_uri": "https://localhost:8080/"
        }
      },
      "source": [
        "c = joblib.load('/content/drive/MyDrive/台塑輕油案子/data/c620/col_names/c620_c670.pkl')\n",
        "c.keys(),c['x'],c['y'],len(c['x']),len(c['y'])"
      ],
      "execution_count": 3,
      "outputs": [
        {
          "output_type": "execute_result",
          "data": {
            "text/plain": [
              "(dict_keys(['x', 'y']),\n",
              " ['Simulation Case Conditions_Feed Rate_Feed from V615 Btm_m3/hr',\n",
              "  'Simulation Case Conditions_Feed Rate_Feed from V615 Btm    NA_wt%',\n",
              "  'Simulation Case Conditions_Feed Rate_Feed from V615 Btm    Benzene_wt%',\n",
              "  'Simulation Case Conditions_Feed Rate_Feed from V615 Btm    Toluene_wt%',\n",
              "  'Simulation Case Conditions_Feed Rate_Feed from C820 Dist_m3/hr',\n",
              "  'Simulation Case Conditions_Feed Rate_Feed from C820 Dist    NA_wt%',\n",
              "  'Simulation Case Conditions_Feed Rate_Feed from C820 Dist    Benzene_wt%',\n",
              "  'Simulation Case Conditions_Feed Rate_Feed from C820 Dist    Toluene_wt%',\n",
              "  'Simulation Case Conditions_Feed Rate_Feed from T651_m3/hr',\n",
              "  'Simulation Case Conditions_Feed Rate_Feed from T651    NA_wt%',\n",
              "  'Simulation Case Conditions_Feed Rate_Feed from T651    Benzene_wt%',\n",
              "  'Simulation Case Conditions_Feed Rate_Feed from T651    Toluene_wt%',\n",
              "  'Simulation Case Conditions_Spec 1 : Benzene in C620 Sidedraw_wt%',\n",
              "  'Simulation Case Conditions_Spec 2 : NA in Benzene_ppmw'],\n",
              " ['Simulation Case Conditions_C620 Distillate Rate_m3/hr'],\n",
              " 14,\n",
              " 1)"
            ]
          },
          "metadata": {
            "tags": []
          },
          "execution_count": 3
        }
      ]
    },
    {
      "cell_type": "code",
      "metadata": {
        "id": "PKGO3l1qFWeQ",
        "outputId": "a082aa33-26aa-4e3c-ccb9-2d70440475be",
        "colab": {
          "base_uri": "https://localhost:8080/",
          "height": 377
        }
      },
      "source": [
        "df = pd.read_csv('/content/drive/MyDrive/台塑輕油案子/data/c620/cleaned/c620_c670.csv',index_col=0)\n",
        "df.head()"
      ],
      "execution_count": 4,
      "outputs": [
        {
          "output_type": "execute_result",
          "data": {
            "text/html": [
              "<div>\n",
              "<style scoped>\n",
              "    .dataframe tbody tr th:only-of-type {\n",
              "        vertical-align: middle;\n",
              "    }\n",
              "\n",
              "    .dataframe tbody tr th {\n",
              "        vertical-align: top;\n",
              "    }\n",
              "\n",
              "    .dataframe thead th {\n",
              "        text-align: right;\n",
              "    }\n",
              "</style>\n",
              "<table border=\"1\" class=\"dataframe\">\n",
              "  <thead>\n",
              "    <tr style=\"text-align: right;\">\n",
              "      <th></th>\n",
              "      <th>Simulation Case Conditions_Feed Rate_Feed from V615 Btm_m3/hr</th>\n",
              "      <th>Simulation Case Conditions_Feed Rate_Feed from V615 Btm    NA_wt%</th>\n",
              "      <th>Simulation Case Conditions_Feed Rate_Feed from V615 Btm    Benzene_wt%</th>\n",
              "      <th>Simulation Case Conditions_Feed Rate_Feed from V615 Btm    Toluene_wt%</th>\n",
              "      <th>Simulation Case Conditions_Feed Rate_Feed from C820 Dist_m3/hr</th>\n",
              "      <th>Simulation Case Conditions_Feed Rate_Feed from C820 Dist    NA_wt%</th>\n",
              "      <th>Simulation Case Conditions_Feed Rate_Feed from C820 Dist    Benzene_wt%</th>\n",
              "      <th>Simulation Case Conditions_Feed Rate_Feed from C820 Dist    Toluene_wt%</th>\n",
              "      <th>Simulation Case Conditions_Feed Rate_Feed from T651_m3/hr</th>\n",
              "      <th>Simulation Case Conditions_Feed Rate_Feed from T651    NA_wt%</th>\n",
              "      <th>Simulation Case Conditions_Feed Rate_Feed from T651    Benzene_wt%</th>\n",
              "      <th>Simulation Case Conditions_Feed Rate_Feed from T651    Toluene_wt%</th>\n",
              "      <th>Simulation Case Conditions_Spec 1 : Benzene in C620 Sidedraw_wt%</th>\n",
              "      <th>Simulation Case Conditions_Spec 2 : NA in Benzene_ppmw</th>\n",
              "      <th>Simulation Case Conditions_C620 Distillate Rate_m3/hr</th>\n",
              "    </tr>\n",
              "  </thead>\n",
              "  <tbody>\n",
              "    <tr>\n",
              "      <th>001-002</th>\n",
              "      <td>163.0</td>\n",
              "      <td>1.356</td>\n",
              "      <td>10.321001</td>\n",
              "      <td>40.887009</td>\n",
              "      <td>15.0</td>\n",
              "      <td>2.338977</td>\n",
              "      <td>74.302254</td>\n",
              "      <td>17.467825</td>\n",
              "      <td>32.0</td>\n",
              "      <td>0.4524</td>\n",
              "      <td>44.244228</td>\n",
              "      <td>44.786339</td>\n",
              "      <td>90.0</td>\n",
              "      <td>980.0</td>\n",
              "      <td>0.5</td>\n",
              "    </tr>\n",
              "    <tr>\n",
              "      <th>001-005</th>\n",
              "      <td>163.0</td>\n",
              "      <td>1.356</td>\n",
              "      <td>10.321001</td>\n",
              "      <td>40.887009</td>\n",
              "      <td>15.0</td>\n",
              "      <td>2.338977</td>\n",
              "      <td>74.302254</td>\n",
              "      <td>17.467825</td>\n",
              "      <td>32.0</td>\n",
              "      <td>0.4524</td>\n",
              "      <td>44.244228</td>\n",
              "      <td>44.786339</td>\n",
              "      <td>90.0</td>\n",
              "      <td>950.0</td>\n",
              "      <td>1.0</td>\n",
              "    </tr>\n",
              "    <tr>\n",
              "      <th>001-008</th>\n",
              "      <td>163.0</td>\n",
              "      <td>1.356</td>\n",
              "      <td>10.321001</td>\n",
              "      <td>40.887009</td>\n",
              "      <td>15.0</td>\n",
              "      <td>2.338977</td>\n",
              "      <td>74.302254</td>\n",
              "      <td>17.467825</td>\n",
              "      <td>32.0</td>\n",
              "      <td>0.4524</td>\n",
              "      <td>44.244228</td>\n",
              "      <td>44.786339</td>\n",
              "      <td>90.0</td>\n",
              "      <td>920.0</td>\n",
              "      <td>1.5</td>\n",
              "    </tr>\n",
              "    <tr>\n",
              "      <th>001-011</th>\n",
              "      <td>163.0</td>\n",
              "      <td>1.356</td>\n",
              "      <td>10.321001</td>\n",
              "      <td>40.887009</td>\n",
              "      <td>15.0</td>\n",
              "      <td>2.338977</td>\n",
              "      <td>74.302254</td>\n",
              "      <td>17.467825</td>\n",
              "      <td>32.0</td>\n",
              "      <td>0.4524</td>\n",
              "      <td>44.244228</td>\n",
              "      <td>44.786339</td>\n",
              "      <td>80.0</td>\n",
              "      <td>980.0</td>\n",
              "      <td>0.5</td>\n",
              "    </tr>\n",
              "    <tr>\n",
              "      <th>001-014</th>\n",
              "      <td>163.0</td>\n",
              "      <td>1.356</td>\n",
              "      <td>10.321001</td>\n",
              "      <td>40.887009</td>\n",
              "      <td>15.0</td>\n",
              "      <td>2.338977</td>\n",
              "      <td>74.302254</td>\n",
              "      <td>17.467825</td>\n",
              "      <td>32.0</td>\n",
              "      <td>0.4524</td>\n",
              "      <td>44.244228</td>\n",
              "      <td>44.786339</td>\n",
              "      <td>80.0</td>\n",
              "      <td>950.0</td>\n",
              "      <td>1.0</td>\n",
              "    </tr>\n",
              "  </tbody>\n",
              "</table>\n",
              "</div>"
            ],
            "text/plain": [
              "         Simulation Case Conditions_Feed Rate_Feed from V615 Btm_m3/hr  ...  Simulation Case Conditions_C620 Distillate Rate_m3/hr\n",
              "001-002                                              163.0              ...                                                0.5    \n",
              "001-005                                              163.0              ...                                                1.0    \n",
              "001-008                                              163.0              ...                                                1.5    \n",
              "001-011                                              163.0              ...                                                0.5    \n",
              "001-014                                              163.0              ...                                                1.0    \n",
              "\n",
              "[5 rows x 15 columns]"
            ]
          },
          "metadata": {
            "tags": []
          },
          "execution_count": 4
        }
      ]
    },
    {
      "cell_type": "code",
      "metadata": {
        "id": "GI8lnQIyPr39",
        "outputId": "ac5aeedd-8a6b-4ee9-c893-cf6dc8e1d4a9",
        "colab": {
          "base_uri": "https://localhost:8080/"
        }
      },
      "source": [
        "df[c['y']].max(),df[c['y']].min()"
      ],
      "execution_count": 5,
      "outputs": [
        {
          "output_type": "execute_result",
          "data": {
            "text/plain": [
              "(Simulation Case Conditions_C620 Distillate Rate_m3/hr    10.25\n",
              " dtype: float64, Simulation Case Conditions_C620 Distillate Rate_m3/hr    0.01\n",
              " dtype: float64)"
            ]
          },
          "metadata": {
            "tags": []
          },
          "execution_count": 5
        }
      ]
    },
    {
      "cell_type": "markdown",
      "metadata": {
        "id": "1mMOhGQyU81L"
      },
      "source": [
        "# modeling"
      ]
    },
    {
      "cell_type": "code",
      "metadata": {
        "id": "9q6vVxh1PiDA",
        "outputId": "acbcedcb-769e-4730-b329-9806bfdf828a",
        "colab": {
          "base_uri": "https://localhost:8080/",
          "height": 401
        }
      },
      "source": [
        "c620_icg = autorch.utils.PartBulider(df,c['x'],c['y'])\n",
        "c620_icg.train()"
      ],
      "execution_count": 6,
      "outputs": [
        {
          "output_type": "stream",
          "text": [
            "  1%|▏         | 4/300 [00:00<00:18, 15.71it/s]"
          ],
          "name": "stderr"
        },
        {
          "output_type": "stream",
          "text": [
            "epoch:0 train_loss:0.0237 valid_loss:0.0058\n"
          ],
          "name": "stdout"
        },
        {
          "output_type": "stream",
          "text": [
            " 18%|█▊        | 54/300 [00:03<00:16, 15.15it/s]"
          ],
          "name": "stderr"
        },
        {
          "output_type": "stream",
          "text": [
            "epoch:50 train_loss:0.0001 valid_loss:0.0001\n"
          ],
          "name": "stdout"
        },
        {
          "output_type": "stream",
          "text": [
            " 35%|███▍      | 104/300 [00:06<00:12, 15.34it/s]"
          ],
          "name": "stderr"
        },
        {
          "output_type": "stream",
          "text": [
            "epoch:100 train_loss:0.0001 valid_loss:0.0001\n"
          ],
          "name": "stdout"
        },
        {
          "output_type": "stream",
          "text": [
            " 51%|█████▏    | 154/300 [00:09<00:09, 15.24it/s]"
          ],
          "name": "stderr"
        },
        {
          "output_type": "stream",
          "text": [
            "epoch:150 train_loss:0.0001 valid_loss:0.0001\n"
          ],
          "name": "stdout"
        },
        {
          "output_type": "stream",
          "text": [
            " 67%|██████▋   | 202/300 [00:13<00:06, 14.27it/s]"
          ],
          "name": "stderr"
        },
        {
          "output_type": "stream",
          "text": [
            "epoch:200 train_loss:0.0001 valid_loss:0.0001\n"
          ],
          "name": "stdout"
        },
        {
          "output_type": "stream",
          "text": [
            " 84%|████████▍ | 252/300 [00:16<00:03, 14.19it/s]"
          ],
          "name": "stderr"
        },
        {
          "output_type": "stream",
          "text": [
            "epoch:250 train_loss:0.0000 valid_loss:0.0000\n"
          ],
          "name": "stdout"
        },
        {
          "output_type": "stream",
          "text": [
            "100%|██████████| 300/300 [00:19<00:00, 15.15it/s]\n"
          ],
          "name": "stderr"
        },
        {
          "output_type": "display_data",
          "data": {
            "image/png": "[encoded data removed]",
            "text/plain": [
              "<Figure size 432x288 with 1 Axes>"
            ]
          },
          "metadata": {
            "tags": [],
            "needs_background": "light"
          }
        },
        {
          "output_type": "execute_result",
          "data": {
            "text/plain": [
              "<autorch.utils.part.PartBulider at 0x7fc04041dcc0>"
            ]
          },
          "metadata": {
            "tags": []
          },
          "execution_count": 6
        }
      ]
    },
    {
      "cell_type": "markdown",
      "metadata": {
        "id": "pyjRDUyLGwXM"
      },
      "source": [
        "# evaluate"
      ]
    },
    {
      "cell_type": "code",
      "metadata": {
        "id": "snJ7eOfyZ_vL",
        "outputId": "d4a97ae0-c47e-4e98-9a9f-1126879c5994",
        "colab": {
          "base_uri": "https://localhost:8080/",
          "height": 111
        }
      },
      "source": [
        "y_pred = c620_icg.predict(c620_icg.data['X_test'])\n",
        "c620_icg.show_metrics(c620_icg.data['Y_test'],y_pred,e=0.02)"
      ],
      "execution_count": 7,
      "outputs": [
        {
          "output_type": "execute_result",
          "data": {
            "text/html": [
              "<div>\n",
              "<style scoped>\n",
              "    .dataframe tbody tr th:only-of-type {\n",
              "        vertical-align: middle;\n",
              "    }\n",
              "\n",
              "    .dataframe tbody tr th {\n",
              "        vertical-align: top;\n",
              "    }\n",
              "\n",
              "    .dataframe thead th {\n",
              "        text-align: right;\n",
              "    }\n",
              "</style>\n",
              "<table border=\"1\" class=\"dataframe\">\n",
              "  <thead>\n",
              "    <tr style=\"text-align: right;\">\n",
              "      <th></th>\n",
              "      <th>R2</th>\n",
              "      <th>MSE</th>\n",
              "      <th>MAPE</th>\n",
              "    </tr>\n",
              "  </thead>\n",
              "  <tbody>\n",
              "    <tr>\n",
              "      <th>Simulation Case Conditions_C620 Distillate Rate_m3/hr</th>\n",
              "      <td>0.989612</td>\n",
              "      <td>0.0173396</td>\n",
              "      <td>23.6112</td>\n",
              "    </tr>\n",
              "    <tr>\n",
              "      <th>AVG</th>\n",
              "      <td>0.989612</td>\n",
              "      <td>0.0173396</td>\n",
              "      <td>23.6112</td>\n",
              "    </tr>\n",
              "  </tbody>\n",
              "</table>\n",
              "</div>"
            ],
            "text/plain": [
              "                                                          R2  ...     MAPE\n",
              "Simulation Case Conditions_C620 Distillate Rate...  0.989612  ...  23.6112\n",
              "AVG                                                 0.989612  ...  23.6112\n",
              "\n",
              "[2 rows x 3 columns]"
            ]
          },
          "metadata": {
            "tags": []
          },
          "execution_count": 7
        }
      ]
    },
    {
      "cell_type": "markdown",
      "metadata": {
        "id": "4cQXjWtBcbxY"
      },
      "source": [
        "# ICG"
      ]
    },
    {
      "cell_type": "code",
      "metadata": {
        "id": "cD2SO3IvBvWe"
      },
      "source": [
        "def ICG(Input):\r\n",
        "  while True:\r\n",
        "    output = c620_icg.predict(Input)\r\n",
        "    if output['Simulation Case Conditions_C620 Distillate Rate_m3/hr'].values[0] > 0.01:\r\n",
        "      return output\r\n",
        "    else:\r\n",
        "      Input['Simulation Case Conditions_Spec 2 : NA in Benzene_ppmw'] -= 30"
      ],
      "execution_count": 8,
      "outputs": []
    },
    {
      "cell_type": "code",
      "metadata": {
        "id": "4NRN-RakiARY",
        "outputId": "ea070873-97b0-462c-d647-7e95354fc146",
        "colab": {
          "base_uri": "https://localhost:8080/"
        }
      },
      "source": [
        "print(df.shape)\n",
        "df = df[df['Simulation Case Conditions_Spec 1 : Benzene in C620 Sidedraw_wt%']==70.0]\n",
        "df = df[df['Simulation Case Conditions_Spec 2 : NA in Benzene_ppmw']==980.0]\n",
        "print(df.shape)"
      ],
      "execution_count": 9,
      "outputs": [
        {
          "output_type": "stream",
          "text": [
            "(1296, 15)\n",
            "(122, 15)\n"
          ],
          "name": "stdout"
        }
      ]
    },
    {
      "cell_type": "code",
      "metadata": {
        "id": "vSsgf_sNcGuc",
        "outputId": "e73a312f-e4b9-4b05-e95c-b7825254a944",
        "colab": {
          "base_uri": "https://localhost:8080/",
          "height": 185
        }
      },
      "source": [
        "Input = df[c['x']].sample(1)\n",
        "Input"
      ],
      "execution_count": 10,
      "outputs": [
        {
          "output_type": "execute_result",
          "data": {
            "text/html": [
              "<div>\n",
              "<style scoped>\n",
              "    .dataframe tbody tr th:only-of-type {\n",
              "        vertical-align: middle;\n",
              "    }\n",
              "\n",
              "    .dataframe tbody tr th {\n",
              "        vertical-align: top;\n",
              "    }\n",
              "\n",
              "    .dataframe thead th {\n",
              "        text-align: right;\n",
              "    }\n",
              "</style>\n",
              "<table border=\"1\" class=\"dataframe\">\n",
              "  <thead>\n",
              "    <tr style=\"text-align: right;\">\n",
              "      <th></th>\n",
              "      <th>Simulation Case Conditions_Feed Rate_Feed from V615 Btm_m3/hr</th>\n",
              "      <th>Simulation Case Conditions_Feed Rate_Feed from V615 Btm    NA_wt%</th>\n",
              "      <th>Simulation Case Conditions_Feed Rate_Feed from V615 Btm    Benzene_wt%</th>\n",
              "      <th>Simulation Case Conditions_Feed Rate_Feed from V615 Btm    Toluene_wt%</th>\n",
              "      <th>Simulation Case Conditions_Feed Rate_Feed from C820 Dist_m3/hr</th>\n",
              "      <th>Simulation Case Conditions_Feed Rate_Feed from C820 Dist    NA_wt%</th>\n",
              "      <th>Simulation Case Conditions_Feed Rate_Feed from C820 Dist    Benzene_wt%</th>\n",
              "      <th>Simulation Case Conditions_Feed Rate_Feed from C820 Dist    Toluene_wt%</th>\n",
              "      <th>Simulation Case Conditions_Feed Rate_Feed from T651_m3/hr</th>\n",
              "      <th>Simulation Case Conditions_Feed Rate_Feed from T651    NA_wt%</th>\n",
              "      <th>Simulation Case Conditions_Feed Rate_Feed from T651    Benzene_wt%</th>\n",
              "      <th>Simulation Case Conditions_Feed Rate_Feed from T651    Toluene_wt%</th>\n",
              "      <th>Simulation Case Conditions_Spec 1 : Benzene in C620 Sidedraw_wt%</th>\n",
              "      <th>Simulation Case Conditions_Spec 2 : NA in Benzene_ppmw</th>\n",
              "    </tr>\n",
              "  </thead>\n",
              "  <tbody>\n",
              "    <tr>\n",
              "      <th>029-020</th>\n",
              "      <td>163.0</td>\n",
              "      <td>1.356</td>\n",
              "      <td>10.321001</td>\n",
              "      <td>40.887009</td>\n",
              "      <td>15.0</td>\n",
              "      <td>2.338977</td>\n",
              "      <td>74.302254</td>\n",
              "      <td>17.467825</td>\n",
              "      <td>77.0</td>\n",
              "      <td>0.212</td>\n",
              "      <td>35.413998</td>\n",
              "      <td>57.972996</td>\n",
              "      <td>70.0</td>\n",
              "      <td>980.0</td>\n",
              "    </tr>\n",
              "  </tbody>\n",
              "</table>\n",
              "</div>"
            ],
            "text/plain": [
              "         Simulation Case Conditions_Feed Rate_Feed from V615 Btm_m3/hr  ...  Simulation Case Conditions_Spec 2 : NA in Benzene_ppmw\n",
              "029-020                                              163.0              ...                                              980.0     \n",
              "\n",
              "[1 rows x 14 columns]"
            ]
          },
          "metadata": {
            "tags": []
          },
          "execution_count": 10
        }
      ]
    },
    {
      "cell_type": "code",
      "metadata": {
        "colab": {
          "base_uri": "https://localhost:8080/",
          "height": 80
        },
        "id": "eaHeT1HaCWGU",
        "outputId": "d71df5fe-9e6b-497d-c427-8837abef71ad"
      },
      "source": [
        "ICG(Input)"
      ],
      "execution_count": 11,
      "outputs": [
        {
          "output_type": "execute_result",
          "data": {
            "text/html": [
              "<div>\n",
              "<style scoped>\n",
              "    .dataframe tbody tr th:only-of-type {\n",
              "        vertical-align: middle;\n",
              "    }\n",
              "\n",
              "    .dataframe tbody tr th {\n",
              "        vertical-align: top;\n",
              "    }\n",
              "\n",
              "    .dataframe thead th {\n",
              "        text-align: right;\n",
              "    }\n",
              "</style>\n",
              "<table border=\"1\" class=\"dataframe\">\n",
              "  <thead>\n",
              "    <tr style=\"text-align: right;\">\n",
              "      <th></th>\n",
              "      <th>Simulation Case Conditions_C620 Distillate Rate_m3/hr</th>\n",
              "    </tr>\n",
              "  </thead>\n",
              "  <tbody>\n",
              "    <tr>\n",
              "      <th>029-020</th>\n",
              "      <td>0.010001</td>\n",
              "    </tr>\n",
              "  </tbody>\n",
              "</table>\n",
              "</div>"
            ],
            "text/plain": [
              "         Simulation Case Conditions_C620 Distillate Rate_m3/hr\n",
              "029-020                                           0.010001    "
            ]
          },
          "metadata": {
            "tags": []
          },
          "execution_count": 11
        }
      ]
    },
    {
      "cell_type": "code",
      "metadata": {
        "id": "ncB-0x3wDjgE"
      },
      "source": [
        "c620_icg.shrink()"
      ],
      "execution_count": 12,
      "outputs": []
    },
    {
      "cell_type": "code",
      "metadata": {
        "id": "Bg1-IZygimjg",
        "outputId": "bf13b026-d0d9-4dc0-c2a1-8b4f64102b95",
        "colab": {
          "base_uri": "https://localhost:8080/"
        }
      },
      "source": [
        "joblib.dump(c620_icg,'/content/drive/MyDrive/台塑輕油案子/data/c620/model/c620_icg.pkl')"
      ],
      "execution_count": 13,
      "outputs": [
        {
          "output_type": "execute_result",
          "data": {
            "text/plain": [
              "['/content/drive/MyDrive/台塑輕油案子/data/c620/model/c620_icg.pkl']"
            ]
          },
          "metadata": {
            "tags": []
          },
          "execution_count": 13
        }
      ]
    }
  ]
}