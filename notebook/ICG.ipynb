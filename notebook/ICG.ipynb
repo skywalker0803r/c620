{
  "nbformat": 4,
  "nbformat_minor": 0,
  "metadata": {
    "colab": {
      "name": "ICG.ipynb",
      "provenance": [],
      "authorship_tag": "ABX9TyMa5fzVymNVY3nEVvDq1ZcU",
      "include_colab_link": true
    },
    "kernelspec": {
      "name": "python3",
      "display_name": "Python 3"
    }
  },
  "cells": [
    {
      "cell_type": "markdown",
      "metadata": {
        "id": "view-in-github",
        "colab_type": "text"
      },
      "source": [
        "<a href=\"https://colab.research.google.com/github/skywalker0803r/c620/blob/main/notebook/ICG.ipynb\" target=\"_parent\"><img src=\"https://colab.research.google.com/assets/colab-badge.svg\" alt=\"Open In Colab\"/></a>"
      ]
    },
    {
      "cell_type": "code",
      "metadata": {
        "id": "BM6iz_tLAk2g"
      },
      "source": [
        "import torch\r\n",
        "from torch import nn\r\n",
        "import numpy as np\r\n",
        "import pandas as pd\r\n",
        "torch.manual_seed(11)\r\n",
        "np.random.seed(11)"
      ],
      "execution_count": 73,
      "outputs": []
    },
    {
      "cell_type": "code",
      "metadata": {
        "id": "lrPwPHtKArN3"
      },
      "source": [
        "model = nn.Sequential(\r\n",
        "    nn.Linear(14,128),\r\n",
        "    nn.ReLU(),\r\n",
        "    nn.Linear(128,1))"
      ],
      "execution_count": 74,
      "outputs": []
    },
    {
      "cell_type": "code",
      "metadata": {
        "colab": {
          "base_uri": "https://localhost:8080/",
          "height": 77
        },
        "id": "G3GfNS-qAtvt",
        "outputId": "3298b33e-811b-4e34-c83d-47858cd89b4d"
      },
      "source": [
        "df = pd.DataFrame(np.random.uniform(size=(1,14)))*100\r\n",
        "df.head()"
      ],
      "execution_count": 75,
      "outputs": [
        {
          "output_type": "execute_result",
          "data": {
            "text/html": [
              "<div>\n",
              "<style scoped>\n",
              "    .dataframe tbody tr th:only-of-type {\n",
              "        vertical-align: middle;\n",
              "    }\n",
              "\n",
              "    .dataframe tbody tr th {\n",
              "        vertical-align: top;\n",
              "    }\n",
              "\n",
              "    .dataframe thead th {\n",
              "        text-align: right;\n",
              "    }\n",
              "</style>\n",
              "<table border=\"1\" class=\"dataframe\">\n",
              "  <thead>\n",
              "    <tr style=\"text-align: right;\">\n",
              "      <th></th>\n",
              "      <th>0</th>\n",
              "      <th>1</th>\n",
              "      <th>2</th>\n",
              "      <th>3</th>\n",
              "      <th>4</th>\n",
              "      <th>5</th>\n",
              "      <th>6</th>\n",
              "      <th>7</th>\n",
              "      <th>8</th>\n",
              "      <th>9</th>\n",
              "      <th>10</th>\n",
              "      <th>11</th>\n",
              "      <th>12</th>\n",
              "      <th>13</th>\n",
              "    </tr>\n",
              "  </thead>\n",
              "  <tbody>\n",
              "    <tr>\n",
              "      <th>0</th>\n",
              "      <td>18.026969</td>\n",
              "      <td>1.947524</td>\n",
              "      <td>46.321853</td>\n",
              "      <td>72.493393</td>\n",
              "      <td>42.02036</td>\n",
              "      <td>48.54271</td>\n",
              "      <td>1.278081</td>\n",
              "      <td>48.737161</td>\n",
              "      <td>94.180665</td>\n",
              "      <td>85.079509</td>\n",
              "      <td>72.996447</td>\n",
              "      <td>10.873607</td>\n",
              "      <td>89.390417</td>\n",
              "      <td>85.715425</td>\n",
              "    </tr>\n",
              "  </tbody>\n",
              "</table>\n",
              "</div>"
            ],
            "text/plain": [
              "          0         1          2   ...         11         12         13\n",
              "0  18.026969  1.947524  46.321853  ...  10.873607  89.390417  85.715425\n",
              "\n",
              "[1 rows x 14 columns]"
            ]
          },
          "metadata": {
            "tags": []
          },
          "execution_count": 75
        }
      ]
    },
    {
      "cell_type": "code",
      "metadata": {
        "colab": {
          "base_uri": "https://localhost:8080/"
        },
        "id": "SfRc8_PQEs6c",
        "outputId": "8828fadc-f3e9-48df-e99d-a859da645e1f"
      },
      "source": [
        "model(torch.FloatTensor(df.values))"
      ],
      "execution_count": 76,
      "outputs": [
        {
          "output_type": "execute_result",
          "data": {
            "text/plain": [
              "tensor([[5.4128]], grad_fn=<AddmmBackward>)"
            ]
          },
          "metadata": {
            "tags": []
          },
          "execution_count": 76
        }
      ]
    },
    {
      "cell_type": "code",
      "metadata": {
        "id": "cD2SO3IvBvWe"
      },
      "source": [
        "def ICG(x):\r\n",
        "  '''\r\n",
        "  # input : only one row pd.DataFrame\r\n",
        "  '''\r\n",
        "  count = 0\r\n",
        "  while True:\r\n",
        "    output = model(torch.FloatTensor(x.values))\r\n",
        "    if output< 5:\r\n",
        "      return output\r\n",
        "    else:\r\n",
        "      x.iloc[:,-1] -= 30\r\n",
        "      count += 1\r\n",
        "      print(count,x.iloc[:,-1].values[0])"
      ],
      "execution_count": 77,
      "outputs": []
    },
    {
      "cell_type": "code",
      "metadata": {
        "colab": {
          "base_uri": "https://localhost:8080/"
        },
        "id": "eaHeT1HaCWGU",
        "outputId": "74e3c52f-9895-47fd-fb98-d421788b5771"
      },
      "source": [
        "ICG(df)"
      ],
      "execution_count": 78,
      "outputs": [
        {
          "output_type": "stream",
          "text": [
            "1 55.71542470728296\n"
          ],
          "name": "stdout"
        },
        {
          "output_type": "execute_result",
          "data": {
            "text/plain": [
              "tensor([[3.5570]], grad_fn=<AddmmBackward>)"
            ]
          },
          "metadata": {
            "tags": []
          },
          "execution_count": 78
        }
      ]
    },
    {
      "cell_type": "code",
      "metadata": {
        "id": "ncB-0x3wDjgE"
      },
      "source": [
        ""
      ],
      "execution_count": null,
      "outputs": []
    }
  ]
}