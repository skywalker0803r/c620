{
  "nbformat": 4,
  "nbformat_minor": 0,
  "metadata": {
    "colab": {
      "name": "Integration_and_test(Simplified version).ipynb",
      "provenance": [],
      "authorship_tag": "ABX9TyOqdHHXew+P+tLzvoMj4evc",
      "include_colab_link": true
    },
    "kernelspec": {
      "name": "python3",
      "display_name": "Python 3"
    }
  },
  "cells": [
    {
      "cell_type": "markdown",
      "metadata": {
        "id": "view-in-github",
        "colab_type": "text"
      },
      "source": [
        "<a href=\"https://colab.research.google.com/github/skywalker0803r/c620/blob/main/notebook/Integration_and_test(Simplified_version).ipynb\" target=\"_parent\"><img src=\"https://colab.research.google.com/assets/colab-badge.svg\" alt=\"Open In Colab\"/></a>"
      ]
    },
    {
      "cell_type": "code",
      "metadata": {
        "id": "YEiUzu5_2x3I"
      },
      "source": [
        "import joblib\n",
        "import os\n",
        "import numpy as np\n",
        "import pandas as pd\n",
        "!pip install autorch > log.txt\n",
        "import matplotlib.pyplot as plt\n",
        "import autorch\n",
        "from autorch.function import sp2wt\n",
        "import random\n",
        "random.seed(11)\n",
        "np.random.seed(11)"
      ],
      "execution_count": 1,
      "outputs": []
    },
    {
      "cell_type": "code",
      "metadata": {
        "colab": {
          "base_uri": "https://localhost:8080/"
        },
        "id": "3YPjXHkR3Eso",
        "outputId": "d1f3f5ac-52d0-4b52-c64d-f6c83b9926c7"
      },
      "source": [
        "from google.colab import drive\n",
        "drive.mount('/content/drive')"
      ],
      "execution_count": 2,
      "outputs": [
        {
          "output_type": "stream",
          "text": [
            "Drive already mounted at /content/drive; to attempt to forcibly remount, call drive.mount(\"/content/drive\", force_remount=True).\n"
          ],
          "name": "stdout"
        }
      ]
    },
    {
      "cell_type": "markdown",
      "metadata": {
        "id": "WB68m8iy5T7a"
      },
      "source": [
        "# overview"
      ]
    },
    {
      "cell_type": "markdown",
      "metadata": {
        "id": "SqBg8Qkn3wY2"
      },
      "source": [
        "![img](https://i.imgur.com/Tk3UYAS.png)"
      ]
    },
    {
      "cell_type": "markdown",
      "metadata": {
        "id": "nuzZj4KB6mQB"
      },
      "source": [
        "# columns name"
      ]
    },
    {
      "cell_type": "code",
      "metadata": {
        "colab": {
          "base_uri": "https://localhost:8080/"
        },
        "id": "vD1E0WtI3OKC",
        "outputId": "a1ea8c9e-b192-41e3-d8d9-2bc008806588"
      },
      "source": [
        "c620_c = joblib.load('/content/drive/MyDrive/台塑輕油案子/data/c620/col_names/c620_col_names.pkl')\n",
        "c660_c = joblib.load('/content/drive/MyDrive/台塑輕油案子/data/c620/col_names/c660_col_names.pkl')\n",
        "t651_c = joblib.load('/content/drive/MyDrive/台塑輕油案子/data/c620/col_names/t651_col_names.pkl')\n",
        "c670_c = joblib.load('/content/drive/MyDrive/台塑輕油案子/data/c620/col_names/c670_col_names.pkl')\n",
        "print(c620_c.keys())\n",
        "print(c660_c.keys())\n",
        "print(t651_c.keys())\n",
        "print(c670_c.keys())"
      ],
      "execution_count": 3,
      "outputs": [
        {
          "output_type": "stream",
          "text": [
            "dict_keys(['x41', 'case', 'yRefluxRate', 'yControl', 'yHeatDuty', 'vent_gas_x', 'distillate_x', 'sidedraw_x', 'bottoms_x', 'vent_gas_sf', 'distillate_sf', 'sidedraw_sf', 'bottoms_sf', 'density'])\n",
            "dict_keys(['x41', 'case', 'yRefluxRate', 'yControl', 'yHeatDuty', 'vent_gas_x', 'distillate_x', 'sidedraw_x', 'bottoms_x', 'vent_gas_sf', 'distillate_sf', 'sidedraw_sf', 'bottoms_sf', 'density'])\n",
            "dict_keys(['x41', 'MFR'])\n",
            "dict_keys(['xTray43', 'xTray54', 'combined', 'upper_bf', 'lower_bf', 'yRefluxRate', 'yControl', 'yHeatDuty', 'distillate_x', 'bottoms_x', 'distillate_sf', 'bottoms_sf', 'density'])\n"
          ],
          "name": "stdout"
        }
      ]
    },
    {
      "cell_type": "markdown",
      "metadata": {
        "id": "eT4-lodHox-u"
      },
      "source": [
        "# Input data"
      ]
    },
    {
      "cell_type": "code",
      "metadata": {
        "id": "SeqX_03ylin8"
      },
      "source": [
        "c620_case = pd.read_csv('/content/drive/MyDrive/台塑輕油案子/data/c620/cleaned/c620_train.csv',index_col=0).loc[:,c620_c['case']]\n",
        "c620_feed = pd.read_csv('/content/drive/MyDrive/台塑輕油案子/data/c620/cleaned/c620_train.csv',index_col=0).loc[:,c620_c['x41']]\n",
        "t651_feed = pd.read_csv('/content/drive/MyDrive/台塑輕油案子/data/c620/cleaned/t651_train.csv',index_col=0).loc[:,t651_c['x41']]\n",
        "t651_mf = pd.read_csv('/content/drive/MyDrive/台塑輕油案子/data/c620/cleaned/t651_train.csv',index_col=0).loc[:,t651_c['MFR'][0]]\n",
        "c620_mf_side = pd.read_csv('/content/drive/MyDrive/台塑輕油案子/data/c620/cleaned/c620_mbcheck.csv',index_col=0).loc[:,'Tatoray Stripper C620 Operation_Sidedraw Production Rate and Composition_Mass Flow Rate_ton/hr']\n",
        "c660_case = pd.read_csv('/content/drive/MyDrive/台塑輕油案子/data/c620/cleaned/c660_train.csv',index_col=0).loc[:,c660_c['case']]\n",
        "c620_mf_bot = pd.read_csv('/content/drive/MyDrive/台塑輕油案子/data/c620/cleaned/c620_mbcheck.csv',index_col=0).loc[:,'Tatoray Stripper C620 Operation_Bottoms Production Rate and Composition_Mass Flow Rate_ton/hr']\n",
        "c660_mf_bot = pd.read_csv('/content/drive/MyDrive/台塑輕油案子/data/c620/cleaned/c660_mbcheck.csv',index_col=0).loc[:,'Benzene Column C660 Operation_Bottoms Production Rate and Composition_Mass Flow Rate_ton/hr']\n",
        "c670_bf = pd.read_csv('/content/drive/MyDrive/台塑輕油案子/data/c620/cleaned/c670_train.csv',index_col=0).loc[:,c670_c['upper_bf']+c670_c['lower_bf']]"
      ],
      "execution_count": 4,
      "outputs": []
    },
    {
      "cell_type": "markdown",
      "metadata": {
        "id": "mp1GqvJ0o0k1"
      },
      "source": [
        "# Output data"
      ]
    },
    {
      "cell_type": "code",
      "metadata": {
        "id": "uHCoq80jo0ss"
      },
      "source": [
        "c620_op = pd.read_csv('/content/drive/MyDrive/台塑輕油案子/data/c620/cleaned/c620_train.csv',index_col=0).loc[:,c620_c['density']+c620_c['yRefluxRate']+c620_c['yHeatDuty']+c620_c['yControl']]\n",
        "c620_wt = pd.read_csv('/content/drive/MyDrive/台塑輕油案子/data/c620/cleaned/c620_train.csv',index_col=0).loc[:,c620_c['vent_gas_x']+c620_c['distillate_x']+c620_c['sidedraw_x']+c620_c['bottoms_x']]\n",
        "c660_op = pd.read_csv('/content/drive/MyDrive/台塑輕油案子/data/c620/cleaned/c660_train.csv',index_col=0).loc[:,c660_c['density']+c660_c['yRefluxRate']+c660_c['yHeatDuty']+c660_c['yControl']]\n",
        "c660_wt = pd.read_csv('/content/drive/MyDrive/台塑輕油案子/data/c620/cleaned/c660_train.csv',index_col=0).loc[:,c660_c['vent_gas_x']+c660_c['distillate_x']+c660_c['sidedraw_x']+c660_c['bottoms_x']]\n",
        "c670_op = pd.read_csv('/content/drive/MyDrive/台塑輕油案子/data/c620/cleaned/c670_train.csv',index_col=0).loc[:,c670_c['density']+c670_c['yRefluxRate']+c670_c['yHeatDuty']+c670_c['yControl']]\n",
        "c670_wt = pd.read_csv('/content/drive/MyDrive/台塑輕油案子/data/c620/cleaned/c670_train.csv',index_col=0).loc[:,c670_c['distillate_x']+c670_c['bottoms_x']]"
      ],
      "execution_count": 5,
      "outputs": []
    },
    {
      "cell_type": "markdown",
      "metadata": {
        "id": "h8VBB0aG-e0c"
      },
      "source": [
        "# config"
      ]
    },
    {
      "cell_type": "code",
      "metadata": {
        "id": "0Ktejan2r_U7"
      },
      "source": [
        "config = {'c620_model_path':'/content/drive/MyDrive/台塑輕油案子/data/c620/model/c620.pkl',\n",
        "          'c660_model_path':'/content/drive/MyDrive/台塑輕油案子/data/c620/model/c660.pkl',\n",
        "          'c670_model_path':'/content/drive/MyDrive/台塑輕油案子/data/c620/model/c670.pkl',\n",
        "          'c620_col_path':'/content/drive/MyDrive/台塑輕油案子/data/c620/col_names/c620_col_names.pkl',\n",
        "          'c660_col_path':'/content/drive/MyDrive/台塑輕油案子/data/c620/col_names/c660_col_names.pkl',\n",
        "          'c670_col_path':'/content/drive/MyDrive/台塑輕油案子/data/c620/col_names/c670_col_names.pkl'}"
      ],
      "execution_count": 6,
      "outputs": []
    },
    {
      "cell_type": "markdown",
      "metadata": {
        "id": "MoSO4Cbx6oxP"
      },
      "source": [
        "# define F"
      ]
    },
    {
      "cell_type": "code",
      "metadata": {
        "id": "oiu5SRYL5NOr"
      },
      "source": [
        "class F(object):\n",
        "  def __init__(self,config):\n",
        "    self.c620_model = joblib.load(config['c620_model_path'])\n",
        "    self.c660_model = joblib.load(config['c660_model_path'])\n",
        "    self.c670_model = joblib.load(config['c670_model_path'])\n",
        "    self.c620_col = joblib.load(config['c620_col_path'])\n",
        "    self.c660_col = joblib.load(config['c660_col_path'])\n",
        "    self.c670_col = joblib.load(config['c670_col_path'])\n",
        "  \n",
        "  def __call__(self,c620_case,c620_feed,t651_feed,t651_mf,c620_mf_side,c660_case,c620_mf_bot,c660_mf_bot,c670_bf):\n",
        "    # 取得index\n",
        "    idx = c620_case.index\n",
        "    \n",
        "    # c620 預測\n",
        "    c620_input = c620_case.join(c620_feed)\n",
        "    c620_output = self.c620_model.predict(c620_input)\n",
        "    c620_sp,c620_op = c620_output.iloc[:,:41*4],c620_output.iloc[:,41*4:]\n",
        "    s1,s2,s3,s4 = c620_sp.iloc[:,:41].values,c620_sp.iloc[:,41:41*2].values,c620_sp.iloc[:,41*2:41*3].values,c620_sp.iloc[:,41*3:41*4].values\n",
        "    w1,w2,w3,w4 = sp2wt(c620_feed,s1),sp2wt(c620_feed,s2),sp2wt(c620_feed,s3),sp2wt(c620_feed,s4)\n",
        "    wt = np.hstack((w1,w2,w3,w4))\n",
        "    c620_wt = pd.DataFrame(wt,index=idx,columns=self.c620_col['vent_gas_x']+self.c620_col['distillate_x']+self.c620_col['sidedraw_x']+self.c620_col['bottoms_x'])\n",
        "    \n",
        "    # c660 混合輸入\n",
        "    total = t651_mf.values + c620_mf_side.values\n",
        "    t651_mf ,c620_mf_side = t651_mf/total ,c620_mf_side/total\n",
        "    c660_feed = c620_wt[self.c620_col['sidedraw_x']].values*c620_mf_side.values.reshape(-1,1) + t651_feed.values*t651_mf.values.reshape(-1,1)\n",
        "    # c660 預測\n",
        "    c660_input = c660_case.join(pd.DataFrame(c660_feed,index=idx,columns=self.c660_col['x41']))\n",
        "    c660_output = self.c660_model.predict(c660_input)\n",
        "    c660_sp,c660_op = c660_output.iloc[:,:41*4],c660_output.iloc[:,41*4:]\n",
        "    s1,s2,s3,s4 = c660_sp.iloc[:,:41].values,c660_sp.iloc[:,41:41*2].values,c660_sp.iloc[:,41*2:41*3].values,c660_sp.iloc[:,41*3:41*4].values\n",
        "    w1,w2,w3,w4 = sp2wt(c660_feed,s1),sp2wt(c660_feed,s2),sp2wt(c660_feed,s3),sp2wt(c660_feed,s4)\n",
        "    wt = np.hstack((w1,w2,w3,w4))\n",
        "    c660_wt = pd.DataFrame(wt,index=idx,columns=self.c660_col['vent_gas_x']+self.c660_col['distillate_x']+self.c660_col['sidedraw_x']+self.c660_col['bottoms_x'])\n",
        "    \n",
        "    # c670 混合輸入\n",
        "    total = c620_mf_bot.values + c660_mf_bot.values\n",
        "    c620_mf_bot,c660_mf_bot = c620_mf_bot/total , c660_mf_bot/total\n",
        "    c670_feed = c620_wt[self.c620_col['bottoms_x']].values*c620_mf_bot.values.reshape(-1,1) + c660_wt[self.c660_col['bottoms_x']].values*c660_mf_bot.values.reshape(-1,1)\n",
        "    c670_feed = pd.DataFrame(c670_feed,index=idx,columns=self.c670_col['combined'])\n",
        "    # c670 預測\n",
        "    c670_input = c670_feed.join(c670_bf)\n",
        "    c670_output = self.c670_model.predict(c670_input)\n",
        "    c670_sf,c670_op = c670_output.iloc[:,:41*2],c670_output.iloc[:,41*2:]\n",
        "    s1 = c670_sf[self.c670_col['distillate_sf']].values\n",
        "    s2 = c670_sf[self.c670_col['bottoms_sf']].values\n",
        "    w1 = sp2wt(c670_feed,s1)\n",
        "    w2 = sp2wt(c670_feed,s2)\n",
        "    c670_wt = np.hstack((w1,w2))\n",
        "    c670_wt = pd.DataFrame(c670_wt,index = idx,columns=self.c670_col['distillate_x']+self.c670_col['bottoms_x'])\n",
        "    \n",
        "    return c620_wt,c620_op,c660_wt,c660_op,c670_wt,c670_op"
      ],
      "execution_count": 7,
      "outputs": []
    },
    {
      "cell_type": "code",
      "metadata": {
        "id": "bEL2f8Kmq9ow"
      },
      "source": [
        "f = F(config)"
      ],
      "execution_count": 8,
      "outputs": []
    },
    {
      "cell_type": "markdown",
      "metadata": {
        "id": "Cb7TJSTp444q"
      },
      "source": [
        "# Get minibatch sample "
      ]
    },
    {
      "cell_type": "code",
      "metadata": {
        "id": "0cjAoL-Z4q4z"
      },
      "source": [
        "t651_feed = t651_feed.dropna(axis=0)\n",
        "idx = np.random.choice(t651_feed.index.tolist(),size=100,replace=False,p=None)\n",
        "\n",
        "# minibatch input \n",
        "c620_case = c620_case.loc[idx]\n",
        "c620_feed = c620_feed.loc[idx]\n",
        "t651_feed = t651_feed.loc[idx]\n",
        "t651_mf = t651_mf.loc[idx]\n",
        "c620_mf_side = c620_mf_side.loc[idx]\n",
        "c660_case = c660_case.loc[idx]\n",
        "c620_mf_bot = c620_mf_bot.loc[idx]\n",
        "c660_mf_bot = c660_mf_bot.loc[idx]\n",
        "c670_bf = c670_bf.loc[idx]\n",
        "\n",
        "# minibatch output \n",
        "c620_op = c620_op.loc[idx]\n",
        "c620_wt = c620_wt.loc[idx]\n",
        "c660_op = c660_op.loc[idx]\n",
        "c660_wt = c660_wt.loc[idx]\n",
        "c670_op = c670_op.loc[idx]\n",
        "c670_wt = c670_wt.loc[idx]"
      ],
      "execution_count": 9,
      "outputs": []
    },
    {
      "cell_type": "markdown",
      "metadata": {
        "id": "gEW6WdmS-m55"
      },
      "source": [
        "# predict output"
      ]
    },
    {
      "cell_type": "code",
      "metadata": {
        "id": "z23Si7irsA5P"
      },
      "source": [
        "c620_wt_,c620_op_,c660_wt_,c660_op_,c670_wt_,c670_op_ = f(c620_case,c620_feed,t651_feed,t651_mf,c620_mf_side,c660_case,c620_mf_bot,c660_mf_bot,c670_bf)"
      ],
      "execution_count": 10,
      "outputs": []
    },
    {
      "cell_type": "markdown",
      "metadata": {
        "id": "7X3v7hYJ6jfh"
      },
      "source": [
        "# c620 show_metrics"
      ]
    },
    {
      "cell_type": "code",
      "metadata": {
        "colab": {
          "base_uri": "https://localhost:8080/",
          "height": 419
        },
        "id": "qrGCMeFvsBEV",
        "outputId": "6dde5d49-9c6e-49b7-ccce-84c99e0a5be6"
      },
      "source": [
        "f.c620_model.show_metrics(c620_wt,c620_wt_,e=2e-2)"
      ],
      "execution_count": 11,
      "outputs": [
        {
          "output_type": "execute_result",
          "data": {
            "text/html": [
              "<div>\n",
              "<style scoped>\n",
              "    .dataframe tbody tr th:only-of-type {\n",
              "        vertical-align: middle;\n",
              "    }\n",
              "\n",
              "    .dataframe tbody tr th {\n",
              "        vertical-align: top;\n",
              "    }\n",
              "\n",
              "    .dataframe thead th {\n",
              "        text-align: right;\n",
              "    }\n",
              "</style>\n",
              "<table border=\"1\" class=\"dataframe\">\n",
              "  <thead>\n",
              "    <tr style=\"text-align: right;\">\n",
              "      <th></th>\n",
              "      <th>R2</th>\n",
              "      <th>MSE</th>\n",
              "      <th>MAPE</th>\n",
              "    </tr>\n",
              "  </thead>\n",
              "  <tbody>\n",
              "    <tr>\n",
              "      <th>Tatoray Stripper C620 Operation_Vent Gas Production Rate and Composition_Hydrogen_wt%</th>\n",
              "      <td>1</td>\n",
              "      <td>0</td>\n",
              "      <td>NaN</td>\n",
              "    </tr>\n",
              "    <tr>\n",
              "      <th>Tatoray Stripper C620 Operation_Vent Gas Production Rate and Composition_Methane_wt%</th>\n",
              "      <td>0.80546</td>\n",
              "      <td>0.00072129</td>\n",
              "      <td>1.27108</td>\n",
              "    </tr>\n",
              "    <tr>\n",
              "      <th>Tatoray Stripper C620 Operation_Vent Gas Production Rate and Composition_Ethane_wt%</th>\n",
              "      <td>0.698159</td>\n",
              "      <td>0.365027</td>\n",
              "      <td>1.23791</td>\n",
              "    </tr>\n",
              "    <tr>\n",
              "      <th>Tatoray Stripper C620 Operation_Vent Gas Production Rate and Composition_Propane_wt%</th>\n",
              "      <td>0.163937</td>\n",
              "      <td>0.212748</td>\n",
              "      <td>1.11505</td>\n",
              "    </tr>\n",
              "    <tr>\n",
              "      <th>Tatoray Stripper C620 Operation_Vent Gas Production Rate and Composition_n-Butane_wt%</th>\n",
              "      <td>0.977944</td>\n",
              "      <td>0.0102592</td>\n",
              "      <td>0.837042</td>\n",
              "    </tr>\n",
              "    <tr>\n",
              "      <th>...</th>\n",
              "      <td>...</td>\n",
              "      <td>...</td>\n",
              "      <td>...</td>\n",
              "    </tr>\n",
              "    <tr>\n",
              "      <th>Tatoray Stripper C620 Operation_Bottoms Production Rate and Composition_n-Pentylbenzene_wt%</th>\n",
              "      <td>0.999995</td>\n",
              "      <td>1.50586e-08</td>\n",
              "      <td>0.0272753</td>\n",
              "    </tr>\n",
              "    <tr>\n",
              "      <th>Tatoray Stripper C620 Operation_Bottoms Production Rate and Composition_n-Hexylbenzene_wt%</th>\n",
              "      <td>0.999995</td>\n",
              "      <td>2.77522e-09</td>\n",
              "      <td>0.0272754</td>\n",
              "    </tr>\n",
              "    <tr>\n",
              "      <th>Tatoray Stripper C620 Operation_Bottoms Production Rate and Composition_Nitrogen_wt%</th>\n",
              "      <td>1</td>\n",
              "      <td>0</td>\n",
              "      <td>NaN</td>\n",
              "    </tr>\n",
              "    <tr>\n",
              "      <th>Tatoray Stripper C620 Operation_Bottoms Production Rate and Composition_Oxygen_wt%</th>\n",
              "      <td>1</td>\n",
              "      <td>0</td>\n",
              "      <td>NaN</td>\n",
              "    </tr>\n",
              "    <tr>\n",
              "      <th>AVG</th>\n",
              "      <td>0.877457</td>\n",
              "      <td>0.0934828</td>\n",
              "      <td>2.53694</td>\n",
              "    </tr>\n",
              "  </tbody>\n",
              "</table>\n",
              "<p>165 rows × 3 columns</p>\n",
              "</div>"
            ],
            "text/plain": [
              "                                                          R2  ...       MAPE\n",
              "Tatoray Stripper C620 Operation_Vent Gas Produc...         1  ...        NaN\n",
              "Tatoray Stripper C620 Operation_Vent Gas Produc...   0.80546  ...    1.27108\n",
              "Tatoray Stripper C620 Operation_Vent Gas Produc...  0.698159  ...    1.23791\n",
              "Tatoray Stripper C620 Operation_Vent Gas Produc...  0.163937  ...    1.11505\n",
              "Tatoray Stripper C620 Operation_Vent Gas Produc...  0.977944  ...   0.837042\n",
              "...                                                      ...  ...        ...\n",
              "Tatoray Stripper C620 Operation_Bottoms Product...  0.999995  ...  0.0272753\n",
              "Tatoray Stripper C620 Operation_Bottoms Product...  0.999995  ...  0.0272754\n",
              "Tatoray Stripper C620 Operation_Bottoms Product...         1  ...        NaN\n",
              "Tatoray Stripper C620 Operation_Bottoms Product...         1  ...        NaN\n",
              "AVG                                                 0.877457  ...    2.53694\n",
              "\n",
              "[165 rows x 3 columns]"
            ]
          },
          "metadata": {
            "tags": []
          },
          "execution_count": 11
        }
      ]
    },
    {
      "cell_type": "code",
      "metadata": {
        "colab": {
          "base_uri": "https://localhost:8080/",
          "height": 390
        },
        "id": "I8RmO0CosBG9",
        "outputId": "f638e461-24d2-445b-f67f-2dc46eeae16a"
      },
      "source": [
        "f.c620_model.show_metrics(c620_op,c620_op_,e=2e-2)"
      ],
      "execution_count": 12,
      "outputs": [
        {
          "output_type": "execute_result",
          "data": {
            "text/html": [
              "<div>\n",
              "<style scoped>\n",
              "    .dataframe tbody tr th:only-of-type {\n",
              "        vertical-align: middle;\n",
              "    }\n",
              "\n",
              "    .dataframe tbody tr th {\n",
              "        vertical-align: top;\n",
              "    }\n",
              "\n",
              "    .dataframe thead th {\n",
              "        text-align: right;\n",
              "    }\n",
              "</style>\n",
              "<table border=\"1\" class=\"dataframe\">\n",
              "  <thead>\n",
              "    <tr style=\"text-align: right;\">\n",
              "      <th></th>\n",
              "      <th>R2</th>\n",
              "      <th>MSE</th>\n",
              "      <th>MAPE</th>\n",
              "    </tr>\n",
              "  </thead>\n",
              "  <tbody>\n",
              "    <tr>\n",
              "      <th>Density_Feed Properties</th>\n",
              "      <td>0.999931</td>\n",
              "      <td>1.00091e-10</td>\n",
              "      <td>0.000772107</td>\n",
              "    </tr>\n",
              "    <tr>\n",
              "      <th>Density_Vent Gas Production Rate and Composition</th>\n",
              "      <td>0.25291</td>\n",
              "      <td>9.0472e-06</td>\n",
              "      <td>0.54668</td>\n",
              "    </tr>\n",
              "    <tr>\n",
              "      <th>Density_Distillate Production Rate and Composition</th>\n",
              "      <td>0.480814</td>\n",
              "      <td>4.62328e-05</td>\n",
              "      <td>0.713074</td>\n",
              "    </tr>\n",
              "    <tr>\n",
              "      <th>Density_Sidedraw Production Rate and Composition</th>\n",
              "      <td>0.999661</td>\n",
              "      <td>4.10631e-10</td>\n",
              "      <td>0.00163939</td>\n",
              "    </tr>\n",
              "    <tr>\n",
              "      <th>Density_Bottoms Production Rate and Composition</th>\n",
              "      <td>0.999717</td>\n",
              "      <td>4.82414e-12</td>\n",
              "      <td>0.00018668</td>\n",
              "    </tr>\n",
              "    <tr>\n",
              "      <th>Tatoray Stripper C620 Operation_Yield Summary_Reflux Rate_m3/hr</th>\n",
              "      <td>0.99869</td>\n",
              "      <td>0.15868</td>\n",
              "      <td>0.248654</td>\n",
              "    </tr>\n",
              "    <tr>\n",
              "      <th>Tatoray Stripper C620 Operation_Heat Duty_Condenser Heat Duty_Mkcal/hr</th>\n",
              "      <td>0.9982</td>\n",
              "      <td>0.00216418</td>\n",
              "      <td>0.296052</td>\n",
              "    </tr>\n",
              "    <tr>\n",
              "      <th>Tatoray Stripper C620 Operation_Heat Duty_Reboiler Heat Duty_Mkcal/hr</th>\n",
              "      <td>0.999073</td>\n",
              "      <td>0.00153364</td>\n",
              "      <td>0.215512</td>\n",
              "    </tr>\n",
              "    <tr>\n",
              "      <th>Tatoray Stripper C620 Operation_Column Temp Profile_C620 Tray 14 (Control)_oC</th>\n",
              "      <td>0.999119</td>\n",
              "      <td>0.00131222</td>\n",
              "      <td>0.0178202</td>\n",
              "    </tr>\n",
              "    <tr>\n",
              "      <th>Tatoray Stripper C620 Operation_Column Temp Profile_C620 Tray 34 (Control)_oC</th>\n",
              "      <td>0.998179</td>\n",
              "      <td>0.00132137</td>\n",
              "      <td>0.0148776</td>\n",
              "    </tr>\n",
              "    <tr>\n",
              "      <th>AVG</th>\n",
              "      <td>0.872629</td>\n",
              "      <td>0.0165067</td>\n",
              "      <td>0.205527</td>\n",
              "    </tr>\n",
              "  </tbody>\n",
              "</table>\n",
              "</div>"
            ],
            "text/plain": [
              "                                                          R2  ...         MAPE\n",
              "Density_Feed Properties                             0.999931  ...  0.000772107\n",
              "Density_Vent Gas Production Rate and Composition     0.25291  ...      0.54668\n",
              "Density_Distillate Production Rate and Composition  0.480814  ...     0.713074\n",
              "Density_Sidedraw Production Rate and Composition    0.999661  ...   0.00163939\n",
              "Density_Bottoms Production Rate and Composition     0.999717  ...   0.00018668\n",
              "Tatoray Stripper C620 Operation_Yield Summary_R...   0.99869  ...     0.248654\n",
              "Tatoray Stripper C620 Operation_Heat Duty_Conde...    0.9982  ...     0.296052\n",
              "Tatoray Stripper C620 Operation_Heat Duty_Reboi...  0.999073  ...     0.215512\n",
              "Tatoray Stripper C620 Operation_Column Temp Pro...  0.999119  ...    0.0178202\n",
              "Tatoray Stripper C620 Operation_Column Temp Pro...  0.998179  ...    0.0148776\n",
              "AVG                                                 0.872629  ...     0.205527\n",
              "\n",
              "[11 rows x 3 columns]"
            ]
          },
          "metadata": {
            "tags": []
          },
          "execution_count": 12
        }
      ]
    },
    {
      "cell_type": "markdown",
      "metadata": {
        "id": "P37pbl4F-wJE"
      },
      "source": [
        "# c660 show_metrics"
      ]
    },
    {
      "cell_type": "code",
      "metadata": {
        "colab": {
          "base_uri": "https://localhost:8080/",
          "height": 419
        },
        "id": "A6SzCgpXsBJr",
        "outputId": "797ca3cd-b6de-43ad-fe57-e32481fb7c11"
      },
      "source": [
        "f.c660_model.show_metrics(c660_wt,c660_wt_,e=2e-2)"
      ],
      "execution_count": 13,
      "outputs": [
        {
          "output_type": "execute_result",
          "data": {
            "text/html": [
              "<div>\n",
              "<style scoped>\n",
              "    .dataframe tbody tr th:only-of-type {\n",
              "        vertical-align: middle;\n",
              "    }\n",
              "\n",
              "    .dataframe tbody tr th {\n",
              "        vertical-align: top;\n",
              "    }\n",
              "\n",
              "    .dataframe thead th {\n",
              "        text-align: right;\n",
              "    }\n",
              "</style>\n",
              "<table border=\"1\" class=\"dataframe\">\n",
              "  <thead>\n",
              "    <tr style=\"text-align: right;\">\n",
              "      <th></th>\n",
              "      <th>R2</th>\n",
              "      <th>MSE</th>\n",
              "      <th>MAPE</th>\n",
              "    </tr>\n",
              "  </thead>\n",
              "  <tbody>\n",
              "    <tr>\n",
              "      <th>Benzene Column C660 Operation_Vent Gas Production Rate and Composition_Hydrogen_wt%</th>\n",
              "      <td>1</td>\n",
              "      <td>0</td>\n",
              "      <td>NaN</td>\n",
              "    </tr>\n",
              "    <tr>\n",
              "      <th>Benzene Column C660 Operation_Vent Gas Production Rate and Composition_Methane_wt%</th>\n",
              "      <td>0.980768</td>\n",
              "      <td>0.00203375</td>\n",
              "      <td>4.31421</td>\n",
              "    </tr>\n",
              "    <tr>\n",
              "      <th>Benzene Column C660 Operation_Vent Gas Production Rate and Composition_Ethane_wt%</th>\n",
              "      <td>0.991378</td>\n",
              "      <td>0.320955</td>\n",
              "      <td>2.11999</td>\n",
              "    </tr>\n",
              "    <tr>\n",
              "      <th>Benzene Column C660 Operation_Vent Gas Production Rate and Composition_Propane_wt%</th>\n",
              "      <td>0.954439</td>\n",
              "      <td>0.188305</td>\n",
              "      <td>1.40155</td>\n",
              "    </tr>\n",
              "    <tr>\n",
              "      <th>Benzene Column C660 Operation_Vent Gas Production Rate and Composition_n-Butane_wt%</th>\n",
              "      <td>0.990952</td>\n",
              "      <td>0.119617</td>\n",
              "      <td>3.62554</td>\n",
              "    </tr>\n",
              "    <tr>\n",
              "      <th>...</th>\n",
              "      <td>...</td>\n",
              "      <td>...</td>\n",
              "      <td>...</td>\n",
              "    </tr>\n",
              "    <tr>\n",
              "      <th>Benzene Column C660 Operation_Bottoms Production Rate and Composition_n-Pentylbenzene_wt%</th>\n",
              "      <td>0.999852</td>\n",
              "      <td>2.38799e-27</td>\n",
              "      <td>NaN</td>\n",
              "    </tr>\n",
              "    <tr>\n",
              "      <th>Benzene Column C660 Operation_Bottoms Production Rate and Composition_n-Hexylbenzene_wt%</th>\n",
              "      <td>0.999873</td>\n",
              "      <td>2.48941e-33</td>\n",
              "      <td>NaN</td>\n",
              "    </tr>\n",
              "    <tr>\n",
              "      <th>Benzene Column C660 Operation_Bottoms Production Rate and Composition_Nitrogen_wt%</th>\n",
              "      <td>1</td>\n",
              "      <td>0</td>\n",
              "      <td>NaN</td>\n",
              "    </tr>\n",
              "    <tr>\n",
              "      <th>Benzene Column C660 Operation_Bottoms Production Rate and Composition_Oxygen_wt%</th>\n",
              "      <td>1</td>\n",
              "      <td>0</td>\n",
              "      <td>NaN</td>\n",
              "    </tr>\n",
              "    <tr>\n",
              "      <th>AVG</th>\n",
              "      <td>0.799849</td>\n",
              "      <td>0.0088933</td>\n",
              "      <td>1.33534</td>\n",
              "    </tr>\n",
              "  </tbody>\n",
              "</table>\n",
              "<p>165 rows × 3 columns</p>\n",
              "</div>"
            ],
            "text/plain": [
              "                                                          R2  ...     MAPE\n",
              "Benzene Column C660 Operation_Vent Gas Producti...         1  ...      NaN\n",
              "Benzene Column C660 Operation_Vent Gas Producti...  0.980768  ...  4.31421\n",
              "Benzene Column C660 Operation_Vent Gas Producti...  0.991378  ...  2.11999\n",
              "Benzene Column C660 Operation_Vent Gas Producti...  0.954439  ...  1.40155\n",
              "Benzene Column C660 Operation_Vent Gas Producti...  0.990952  ...  3.62554\n",
              "...                                                      ...  ...      ...\n",
              "Benzene Column C660 Operation_Bottoms Productio...  0.999852  ...      NaN\n",
              "Benzene Column C660 Operation_Bottoms Productio...  0.999873  ...      NaN\n",
              "Benzene Column C660 Operation_Bottoms Productio...         1  ...      NaN\n",
              "Benzene Column C660 Operation_Bottoms Productio...         1  ...      NaN\n",
              "AVG                                                 0.799849  ...  1.33534\n",
              "\n",
              "[165 rows x 3 columns]"
            ]
          },
          "metadata": {
            "tags": []
          },
          "execution_count": 13
        }
      ]
    },
    {
      "cell_type": "code",
      "metadata": {
        "colab": {
          "base_uri": "https://localhost:8080/",
          "height": 390
        },
        "id": "pYJcYfOsztlz",
        "outputId": "1ce2d6c5-3809-4ba5-bdef-31d614fbea5c"
      },
      "source": [
        "f.c660_model.show_metrics(c660_op,c660_op_,e=2e-2)"
      ],
      "execution_count": 14,
      "outputs": [
        {
          "output_type": "execute_result",
          "data": {
            "text/html": [
              "<div>\n",
              "<style scoped>\n",
              "    .dataframe tbody tr th:only-of-type {\n",
              "        vertical-align: middle;\n",
              "    }\n",
              "\n",
              "    .dataframe tbody tr th {\n",
              "        vertical-align: top;\n",
              "    }\n",
              "\n",
              "    .dataframe thead th {\n",
              "        text-align: right;\n",
              "    }\n",
              "</style>\n",
              "<table border=\"1\" class=\"dataframe\">\n",
              "  <thead>\n",
              "    <tr style=\"text-align: right;\">\n",
              "      <th></th>\n",
              "      <th>R2</th>\n",
              "      <th>MSE</th>\n",
              "      <th>MAPE</th>\n",
              "    </tr>\n",
              "  </thead>\n",
              "  <tbody>\n",
              "    <tr>\n",
              "      <th>Density_Feed Properties</th>\n",
              "      <td>0.998456</td>\n",
              "      <td>1.20143e-09</td>\n",
              "      <td>0.00313962</td>\n",
              "    </tr>\n",
              "    <tr>\n",
              "      <th>Density_Vent Gas Production Rate and Composition</th>\n",
              "      <td>0.994635</td>\n",
              "      <td>1.68665e-06</td>\n",
              "      <td>0.192601</td>\n",
              "    </tr>\n",
              "    <tr>\n",
              "      <th>Density_Distillate (Benzene Drag) Production Rate and Composition</th>\n",
              "      <td>0.993231</td>\n",
              "      <td>5.16912e-07</td>\n",
              "      <td>0.0600736</td>\n",
              "    </tr>\n",
              "    <tr>\n",
              "      <th>Density_Sidedraw (Benzene )Production Rate and Composition</th>\n",
              "      <td>0.990318</td>\n",
              "      <td>1.10496e-12</td>\n",
              "      <td>9.43569e-05</td>\n",
              "    </tr>\n",
              "    <tr>\n",
              "      <th>Density_Bottoms Production Rate and Composition</th>\n",
              "      <td>0.998716</td>\n",
              "      <td>1.071e-10</td>\n",
              "      <td>0.000893979</td>\n",
              "    </tr>\n",
              "    <tr>\n",
              "      <th>Benzene Column C660 Operation_Yield Summary_Reflux Rate_m3/hr</th>\n",
              "      <td>0.997242</td>\n",
              "      <td>2.36186</td>\n",
              "      <td>0.784901</td>\n",
              "    </tr>\n",
              "    <tr>\n",
              "      <th>Benzene Column C660 Operation_Heat Duty_Condenser Heat Duty_Mkcal/hr</th>\n",
              "      <td>0.996777</td>\n",
              "      <td>0.0212159</td>\n",
              "      <td>0.781335</td>\n",
              "    </tr>\n",
              "    <tr>\n",
              "      <th>Benzene Column C660 Operation_Heat Duty_Reboiler Heat Duty_Mkcal/hr</th>\n",
              "      <td>0.996711</td>\n",
              "      <td>0.0229533</td>\n",
              "      <td>0.834081</td>\n",
              "    </tr>\n",
              "    <tr>\n",
              "      <th>Benzene Column C660 Operation_Column Temp Profile_C660 Tray 6 (SD &amp; Control)_oC</th>\n",
              "      <td>0.996257</td>\n",
              "      <td>0.00018283</td>\n",
              "      <td>0.0110342</td>\n",
              "    </tr>\n",
              "    <tr>\n",
              "      <th>Benzene Column C660 Operation_Column Temp Profile_C660 Tray 23 (Control)_oC</th>\n",
              "      <td>0.995922</td>\n",
              "      <td>0.0030188</td>\n",
              "      <td>0.0445679</td>\n",
              "    </tr>\n",
              "    <tr>\n",
              "      <th>AVG</th>\n",
              "      <td>0.995826</td>\n",
              "      <td>0.240923</td>\n",
              "      <td>0.271272</td>\n",
              "    </tr>\n",
              "  </tbody>\n",
              "</table>\n",
              "</div>"
            ],
            "text/plain": [
              "                                                          R2  ...         MAPE\n",
              "Density_Feed Properties                             0.998456  ...   0.00313962\n",
              "Density_Vent Gas Production Rate and Composition    0.994635  ...     0.192601\n",
              "Density_Distillate (Benzene Drag) Production Ra...  0.993231  ...    0.0600736\n",
              "Density_Sidedraw (Benzene )Production Rate and ...  0.990318  ...  9.43569e-05\n",
              "Density_Bottoms Production Rate and Composition     0.998716  ...  0.000893979\n",
              "Benzene Column C660 Operation_Yield Summary_Ref...  0.997242  ...     0.784901\n",
              "Benzene Column C660 Operation_Heat Duty_Condens...  0.996777  ...     0.781335\n",
              "Benzene Column C660 Operation_Heat Duty_Reboile...  0.996711  ...     0.834081\n",
              "Benzene Column C660 Operation_Column Temp Profi...  0.996257  ...    0.0110342\n",
              "Benzene Column C660 Operation_Column Temp Profi...  0.995922  ...    0.0445679\n",
              "AVG                                                 0.995826  ...     0.271272\n",
              "\n",
              "[11 rows x 3 columns]"
            ]
          },
          "metadata": {
            "tags": []
          },
          "execution_count": 14
        }
      ]
    },
    {
      "cell_type": "markdown",
      "metadata": {
        "id": "ojwKS0TP-yTa"
      },
      "source": [
        "# c670 show_metrics"
      ]
    },
    {
      "cell_type": "code",
      "metadata": {
        "colab": {
          "base_uri": "https://localhost:8080/",
          "height": 419
        },
        "id": "odK0RWomzwNE",
        "outputId": "35aad7cc-1ba8-48e6-a2e1-9093c41ddc0d"
      },
      "source": [
        "f.c670_model.show_metrics(c670_wt,c670_wt_,e=2e-2)"
      ],
      "execution_count": 15,
      "outputs": [
        {
          "output_type": "execute_result",
          "data": {
            "text/html": [
              "<div>\n",
              "<style scoped>\n",
              "    .dataframe tbody tr th:only-of-type {\n",
              "        vertical-align: middle;\n",
              "    }\n",
              "\n",
              "    .dataframe tbody tr th {\n",
              "        vertical-align: top;\n",
              "    }\n",
              "\n",
              "    .dataframe thead th {\n",
              "        text-align: right;\n",
              "    }\n",
              "</style>\n",
              "<table border=\"1\" class=\"dataframe\">\n",
              "  <thead>\n",
              "    <tr style=\"text-align: right;\">\n",
              "      <th></th>\n",
              "      <th>R2</th>\n",
              "      <th>MSE</th>\n",
              "      <th>MAPE</th>\n",
              "    </tr>\n",
              "  </thead>\n",
              "  <tbody>\n",
              "    <tr>\n",
              "      <th>Toluene Column C670 Operation_Distillate Production Rate and Composition_Hydrogen_wt%</th>\n",
              "      <td>1</td>\n",
              "      <td>0</td>\n",
              "      <td>NaN</td>\n",
              "    </tr>\n",
              "    <tr>\n",
              "      <th>Toluene Column C670 Operation_Distillate Production Rate and Composition_Methane_wt%</th>\n",
              "      <td>0</td>\n",
              "      <td>3.19658e-11</td>\n",
              "      <td>NaN</td>\n",
              "    </tr>\n",
              "    <tr>\n",
              "      <th>Toluene Column C670 Operation_Distillate Production Rate and Composition_Ethane_wt%</th>\n",
              "      <td>0</td>\n",
              "      <td>1.86354e-08</td>\n",
              "      <td>NaN</td>\n",
              "    </tr>\n",
              "    <tr>\n",
              "      <th>Toluene Column C670 Operation_Distillate Production Rate and Composition_Propane_wt%</th>\n",
              "      <td>0</td>\n",
              "      <td>1.47883e-08</td>\n",
              "      <td>NaN</td>\n",
              "    </tr>\n",
              "    <tr>\n",
              "      <th>Toluene Column C670 Operation_Distillate Production Rate and Composition_n-Butane_wt%</th>\n",
              "      <td>0</td>\n",
              "      <td>6.35725e-47</td>\n",
              "      <td>NaN</td>\n",
              "    </tr>\n",
              "    <tr>\n",
              "      <th>...</th>\n",
              "      <td>...</td>\n",
              "      <td>...</td>\n",
              "      <td>...</td>\n",
              "    </tr>\n",
              "    <tr>\n",
              "      <th>Toluene Column C670 Operation_Bottoms Production Rate and Composition_n-Pentylbenzene_wt%</th>\n",
              "      <td>1</td>\n",
              "      <td>6.41871e-09</td>\n",
              "      <td>0.00723531</td>\n",
              "    </tr>\n",
              "    <tr>\n",
              "      <th>Toluene Column C670 Operation_Bottoms Production Rate and Composition_n-Hexylbenzene_wt%</th>\n",
              "      <td>1</td>\n",
              "      <td>1.20894e-09</td>\n",
              "      <td>0.00712002</td>\n",
              "    </tr>\n",
              "    <tr>\n",
              "      <th>Toluene Column C670 Operation_Bottoms Production Rate and Composition_Nitrogen_wt%</th>\n",
              "      <td>1</td>\n",
              "      <td>0</td>\n",
              "      <td>NaN</td>\n",
              "    </tr>\n",
              "    <tr>\n",
              "      <th>Toluene Column C670 Operation_Bottoms Production Rate and Composition_Oxygen_wt%</th>\n",
              "      <td>1</td>\n",
              "      <td>0</td>\n",
              "      <td>NaN</td>\n",
              "    </tr>\n",
              "    <tr>\n",
              "      <th>AVG</th>\n",
              "      <td>0.828375</td>\n",
              "      <td>2.44304e-07</td>\n",
              "      <td>0.0497132</td>\n",
              "    </tr>\n",
              "  </tbody>\n",
              "</table>\n",
              "<p>83 rows × 3 columns</p>\n",
              "</div>"
            ],
            "text/plain": [
              "                                                          R2  ...        MAPE\n",
              "Toluene Column C670 Operation_Distillate Produc...         1  ...         NaN\n",
              "Toluene Column C670 Operation_Distillate Produc...         0  ...         NaN\n",
              "Toluene Column C670 Operation_Distillate Produc...         0  ...         NaN\n",
              "Toluene Column C670 Operation_Distillate Produc...         0  ...         NaN\n",
              "Toluene Column C670 Operation_Distillate Produc...         0  ...         NaN\n",
              "...                                                      ...  ...         ...\n",
              "Toluene Column C670 Operation_Bottoms Productio...         1  ...  0.00723531\n",
              "Toluene Column C670 Operation_Bottoms Productio...         1  ...  0.00712002\n",
              "Toluene Column C670 Operation_Bottoms Productio...         1  ...         NaN\n",
              "Toluene Column C670 Operation_Bottoms Productio...         1  ...         NaN\n",
              "AVG                                                 0.828375  ...   0.0497132\n",
              "\n",
              "[83 rows x 3 columns]"
            ]
          },
          "metadata": {
            "tags": []
          },
          "execution_count": 15
        }
      ]
    },
    {
      "cell_type": "code",
      "metadata": {
        "colab": {
          "base_uri": "https://localhost:8080/",
          "height": 297
        },
        "id": "AF7PspgF29yO",
        "outputId": "d71877e6-2681-4589-be4b-dcc42d995289"
      },
      "source": [
        "f.c670_model.show_metrics(c670_op,c670_op_,e=2e-3)"
      ],
      "execution_count": 16,
      "outputs": [
        {
          "output_type": "execute_result",
          "data": {
            "text/html": [
              "<div>\n",
              "<style scoped>\n",
              "    .dataframe tbody tr th:only-of-type {\n",
              "        vertical-align: middle;\n",
              "    }\n",
              "\n",
              "    .dataframe tbody tr th {\n",
              "        vertical-align: top;\n",
              "    }\n",
              "\n",
              "    .dataframe thead th {\n",
              "        text-align: right;\n",
              "    }\n",
              "</style>\n",
              "<table border=\"1\" class=\"dataframe\">\n",
              "  <thead>\n",
              "    <tr style=\"text-align: right;\">\n",
              "      <th></th>\n",
              "      <th>R2</th>\n",
              "      <th>MSE</th>\n",
              "      <th>MAPE</th>\n",
              "    </tr>\n",
              "  </thead>\n",
              "  <tbody>\n",
              "    <tr>\n",
              "      <th>Density_Distillate Production Rate and Composition</th>\n",
              "      <td>0.996075</td>\n",
              "      <td>3.60833e-12</td>\n",
              "      <td>0.000159731</td>\n",
              "    </tr>\n",
              "    <tr>\n",
              "      <th>Density_Bottoms Production Rate and Composition</th>\n",
              "      <td>0.998903</td>\n",
              "      <td>2.01264e-10</td>\n",
              "      <td>0.0012282</td>\n",
              "    </tr>\n",
              "    <tr>\n",
              "      <th>Toluene Column C670 Operation_Yield \\nSummary_Reflux Rate_m3/hr</th>\n",
              "      <td>0.982594</td>\n",
              "      <td>10.0841</td>\n",
              "      <td>0.926112</td>\n",
              "    </tr>\n",
              "    <tr>\n",
              "      <th>Toluene Column C670 Operation_Heat Duty_Condenser Heat Duty_Mkcal/hr</th>\n",
              "      <td>0.98066</td>\n",
              "      <td>0.125011</td>\n",
              "      <td>0.841766</td>\n",
              "    </tr>\n",
              "    <tr>\n",
              "      <th>Toluene Column C670 Operation_Heat Duty_Reboiler Heat Duty_Mkcal/hr</th>\n",
              "      <td>0.980411</td>\n",
              "      <td>0.126568</td>\n",
              "      <td>0.851601</td>\n",
              "    </tr>\n",
              "    <tr>\n",
              "      <th>Toluene Column C670 Operation_Column Temp Profile_C670 Tray 24 (Control)_oC</th>\n",
              "      <td>0.9885</td>\n",
              "      <td>0.000747251</td>\n",
              "      <td>0.0117654</td>\n",
              "    </tr>\n",
              "    <tr>\n",
              "      <th>Toluene Column C670 Operation_Column Temp Profile_C670 Btm Temp (Control)_oC</th>\n",
              "      <td>0.995769</td>\n",
              "      <td>0.0100616</td>\n",
              "      <td>0.0335068</td>\n",
              "    </tr>\n",
              "    <tr>\n",
              "      <th>AVG</th>\n",
              "      <td>0.988987</td>\n",
              "      <td>1.47807</td>\n",
              "      <td>0.380877</td>\n",
              "    </tr>\n",
              "  </tbody>\n",
              "</table>\n",
              "</div>"
            ],
            "text/plain": [
              "                                                          R2  ...         MAPE\n",
              "Density_Distillate Production Rate and Composition  0.996075  ...  0.000159731\n",
              "Density_Bottoms Production Rate and Composition     0.998903  ...    0.0012282\n",
              "Toluene Column C670 Operation_Yield \\nSummary_R...  0.982594  ...     0.926112\n",
              "Toluene Column C670 Operation_Heat Duty_Condens...   0.98066  ...     0.841766\n",
              "Toluene Column C670 Operation_Heat Duty_Reboile...  0.980411  ...     0.851601\n",
              "Toluene Column C670 Operation_Column Temp Profi...    0.9885  ...    0.0117654\n",
              "Toluene Column C670 Operation_Column Temp Profi...  0.995769  ...    0.0335068\n",
              "AVG                                                 0.988987  ...     0.380877\n",
              "\n",
              "[8 rows x 3 columns]"
            ]
          },
          "metadata": {
            "tags": []
          },
          "execution_count": 16
        }
      ]
    },
    {
      "cell_type": "code",
      "metadata": {
        "id": "mAuevmR23Zsq"
      },
      "source": [
        ""
      ],
      "execution_count": 16,
      "outputs": []
    }
  ]
}