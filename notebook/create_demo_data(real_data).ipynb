{
  "nbformat": 4,
  "nbformat_minor": 0,
  "metadata": {
    "colab": {
      "name": "create_demo_data(real_data).ipynb",
      "provenance": [],
      "authorship_tag": "ABX9TyN+/1LQED27qTicoSJs5mrR",
      "include_colab_link": true
    },
    "kernelspec": {
      "name": "python3",
      "display_name": "Python 3"
    }
  },
  "cells": [
    {
      "cell_type": "markdown",
      "metadata": {
        "id": "view-in-github",
        "colab_type": "text"
      },
      "source": [
        "<a href=\"https://colab.research.google.com/github/skywalker0803r/c620/blob/main/notebook/create_demo_data(real_data).ipynb\" target=\"_parent\"><img src=\"https://colab.research.google.com/assets/colab-badge.svg\" alt=\"Open In Colab\"/></a>"
      ]
    },
    {
      "cell_type": "code",
      "metadata": {
        "colab": {
          "base_uri": "https://localhost:8080/"
        },
        "id": "wwFDdstDtGwz",
        "outputId": "b43e4556-6880-49b6-a387-ab37da15498f"
      },
      "source": [
        "from google.colab import drive\n",
        "import joblib\n",
        "import pandas as pd\n",
        "drive.mount('/content/drive')"
      ],
      "execution_count": 20,
      "outputs": [
        {
          "output_type": "stream",
          "text": [
            "Drive already mounted at /content/drive; to attempt to forcibly remount, call drive.mount(\"/content/drive\", force_remount=True).\n"
          ],
          "name": "stdout"
        }
      ]
    },
    {
      "cell_type": "markdown",
      "metadata": {
        "id": "Cdjg_QgAtZxe"
      },
      "source": [
        "# columns name"
      ]
    },
    {
      "cell_type": "code",
      "metadata": {
        "colab": {
          "base_uri": "https://localhost:8080/"
        },
        "id": "Fqmq5MHVtR6t",
        "outputId": "0989496c-4da9-4091-e140-9fe4168048c2"
      },
      "source": [
        "icg_c = joblib.load('/content/drive/MyDrive/台塑輕油案子/data/c620/col_names/icg_col_names.pkl')\n",
        "c620_c = joblib.load('/content/drive/MyDrive/台塑輕油案子/data/c620/col_names/c620_col_names.pkl')\n",
        "c660_c = joblib.load('/content/drive/MyDrive/台塑輕油案子/data/c620/col_names/c660_col_names.pkl')\n",
        "t651_c = joblib.load('/content/drive/MyDrive/台塑輕油案子/data/c620/col_names/t651_col_names.pkl')\n",
        "c670_c = joblib.load('/content/drive/MyDrive/台塑輕油案子/data/c620/col_names/c670_col_names.pkl')\n",
        "print(icg_c.keys())\n",
        "print(c620_c.keys())\n",
        "print(c660_c.keys())\n",
        "print(c670_c.keys())\n",
        "print(t651_c.keys())"
      ],
      "execution_count": 21,
      "outputs": [
        {
          "output_type": "stream",
          "text": [
            "dict_keys(['x', 'y'])\n",
            "dict_keys(['x41', 'case', 'yRefluxRate', 'yControl', 'yHeatDuty', 'vent_gas_x', 'distillate_x', 'sidedraw_x', 'bottoms_x', 'vent_gas_sf', 'distillate_sf', 'sidedraw_sf', 'bottoms_sf', 'density'])\n",
            "dict_keys(['x41', 'case', 'yRefluxRate', 'yControl', 'yHeatDuty', 'vent_gas_x', 'distillate_x', 'sidedraw_x', 'bottoms_x', 'vent_gas_sf', 'distillate_sf', 'sidedraw_sf', 'bottoms_sf', 'density'])\n",
            "dict_keys(['xTray43', 'xTray54', 'combined', 'upper_bf', 'lower_bf', 'yRefluxRate', 'yControl', 'yHeatDuty', 'distillate_x', 'bottoms_x', 'distillate_sf', 'bottoms_sf', 'density'])\n",
            "dict_keys(['x41', 'MFR'])\n"
          ],
          "name": "stdout"
        }
      ]
    },
    {
      "cell_type": "code",
      "metadata": {
        "colab": {
          "base_uri": "https://localhost:8080/"
        },
        "id": "lLR_X267tbVL",
        "outputId": "3fdc6a6c-f592-49a5-ec6e-162a71da023e"
      },
      "source": [
        "icg_df = pd.read_excel('/content/drive/MyDrive/台塑輕油案子/data/c620/明志_遷移式學習_訓練資料_寄送版/icg_data.xlsx',index_col=0)\n",
        "c620_df = pd.read_excel('/content/drive/MyDrive/台塑輕油案子/data/c620/明志_遷移式學習_訓練資料_寄送版/c620_data.xlsx',index_col=0)\n",
        "c660_df = pd.read_excel('/content/drive/MyDrive/台塑輕油案子/data/c620/明志_遷移式學習_訓練資料_寄送版/c660_data.xlsx',index_col=0)\n",
        "c670_df = pd.read_excel('/content/drive/MyDrive/台塑輕油案子/data/c620/明志_遷移式學習_訓練資料_寄送版/c670_data.xlsx',index_col=0)\n",
        "t651_df = pd.read_excel('/content/drive/MyDrive/台塑輕油案子/data/c620/明志_遷移式學習_訓練資料_寄送版/t651_data.xlsx',index_col=0)\n",
        "idx = list(set(icg_df.index)&\n",
        "      set(c620_df.index)&\n",
        "      set(c660_df.index)&\n",
        "      set(c670_df.index)&\n",
        "      set(t651_df.index))\n",
        "len(idx)"
      ],
      "execution_count": 22,
      "outputs": [
        {
          "output_type": "execute_result",
          "data": {
            "text/plain": [
              "168"
            ]
          },
          "metadata": {
            "tags": []
          },
          "execution_count": 22
        }
      ]
    },
    {
      "cell_type": "markdown",
      "metadata": {
        "id": "x_UMrJxCuJdR"
      },
      "source": [
        "# input data"
      ]
    },
    {
      "cell_type": "code",
      "metadata": {
        "id": "2GP8UlAlt9Bm"
      },
      "source": [
        "# icg\n",
        "icg_input = icg_df.loc[idx,icg_c['x']]\n",
        "icg_input = icg_input.join(c620_df.loc[idx,'Tatoray Stripper C620 Operation_Specifications_Spec 2 : Distillate Rate_m3/hr'])\n",
        "icg_input = icg_input.join(c660_df.loc[idx,'Benzene Column C660 Operation_Specifications_Spec 3 : Toluene in Benzene_ppmw'])\n",
        "icg_input = icg_input.join(c620_df.loc[idx].filter(regex='Receiver Temp'))\n",
        "\n",
        "# c620\n",
        "c620_feed = c620_df.loc[idx,c620_c['x41']]\n",
        "\n",
        "# t651\n",
        "t651_feed = t651_df.loc[idx,t651_c['x41']]"
      ],
      "execution_count": 23,
      "outputs": []
    },
    {
      "cell_type": "markdown",
      "metadata": {
        "id": "FWRA0J92uNnM"
      },
      "source": [
        "# Output data"
      ]
    },
    {
      "cell_type": "code",
      "metadata": {
        "id": "u8tv8QrUuKoD"
      },
      "source": [
        "c620_op = c620_df.loc[idx,c620_c['density']+c620_c['yRefluxRate']+c620_c['yHeatDuty']+c620_c['yControl']]\n",
        "c660_op = c660_df.loc[idx,c660_c['density']+c660_c['yRefluxRate']+c660_c['yHeatDuty']+c660_c['yControl']]\n",
        "c670_op = c670_df.loc[idx,c670_c['density']+c670_c['yRefluxRate']+c670_c['yHeatDuty']+c670_c['yControl']]"
      ],
      "execution_count": 24,
      "outputs": []
    },
    {
      "cell_type": "code",
      "metadata": {
        "id": "6pXagKCjA-vB"
      },
      "source": [
        "c620_wt = c620_df.loc[idx,c620_c['vent_gas_x']+c620_c['distillate_x']+c620_c['sidedraw_x']+c620_c['bottoms_x']]\n",
        "c660_wt = c660_df.loc[idx,c660_c['vent_gas_x']+c660_c['distillate_x']+c660_c['sidedraw_x']+c660_c['bottoms_x']]\n",
        "c670_wt = c670_df.loc[idx,c670_c['distillate_x']+c670_c['bottoms_x']]"
      ],
      "execution_count": 25,
      "outputs": []
    },
    {
      "cell_type": "code",
      "metadata": {
        "colab": {
          "base_uri": "https://localhost:8080/"
        },
        "id": "N-vQfoTHuxlQ",
        "outputId": "e834c6be-cfb1-414f-bba2-6930bc19c9ca"
      },
      "source": [
        "sample = icg_input.sample(20)\n",
        "idx = sample.index\n",
        "print(idx)"
      ],
      "execution_count": 26,
      "outputs": [
        {
          "output_type": "stream",
          "text": [
            "DatetimeIndex(['2020-12-02', '2020-10-27', '2020-12-09', '2020-11-11',\n",
            "               '2020-12-26', '2020-11-13', '2021-02-12', '2021-02-13',\n",
            "               '2020-11-06', '2020-12-22', '2020-09-25', '2021-01-12',\n",
            "               '2020-11-28', '2021-02-16', '2020-11-04', '2020-11-22',\n",
            "               '2020-09-18', '2020-10-15', '2020-11-15', '2020-12-24'],\n",
            "              dtype='datetime64[ns]', freq=None)\n"
          ],
          "name": "stdout"
        }
      ]
    },
    {
      "cell_type": "code",
      "metadata": {
        "id": "VPERelUzvBCy"
      },
      "source": [
        "demo = {\n",
        "      # input\n",
        "      'icg_input':icg_input.loc[idx],\n",
        "      'c620_feed':c620_feed.loc[idx],\n",
        "      't651_feed':t651_feed.loc[idx],\n",
        "      # output\n",
        "      'c620_op':c620_op.loc[idx],\n",
        "      'c660_op':c660_op.loc[idx],\n",
        "      'c670_op':c670_op.loc[idx],\n",
        "      \n",
        "      'c620_wt':c620_wt.loc[idx],\n",
        "      'c660_wt':c660_wt.loc[idx],\n",
        "      'c670_wt':c670_wt.loc[idx],\n",
        "      }"
      ],
      "execution_count": 27,
      "outputs": []
    },
    {
      "cell_type": "code",
      "metadata": {
        "colab": {
          "base_uri": "https://localhost:8080/",
          "height": 1000
        },
        "id": "NAvlxS3zvWBI",
        "outputId": "7e34e408-1e29-4c3b-f300-c15dd2017a10"
      },
      "source": [
        "demo['icg_input']"
      ],
      "execution_count": 28,
      "outputs": [
        {
          "output_type": "execute_result",
          "data": {
            "text/html": [
              "<div>\n",
              "<style scoped>\n",
              "    .dataframe tbody tr th:only-of-type {\n",
              "        vertical-align: middle;\n",
              "    }\n",
              "\n",
              "    .dataframe tbody tr th {\n",
              "        vertical-align: top;\n",
              "    }\n",
              "\n",
              "    .dataframe thead th {\n",
              "        text-align: right;\n",
              "    }\n",
              "</style>\n",
              "<table border=\"1\" class=\"dataframe\">\n",
              "  <thead>\n",
              "    <tr style=\"text-align: right;\">\n",
              "      <th></th>\n",
              "      <th>Simulation Case Conditions_Feed Rate_Feed from V615 Btm_m3/hr</th>\n",
              "      <th>Simulation Case Conditions_Feed Rate_Feed from V615 Btm    NA_wt%</th>\n",
              "      <th>Simulation Case Conditions_Feed Rate_Feed from V615 Btm    Benzene_wt%</th>\n",
              "      <th>Simulation Case Conditions_Feed Rate_Feed from V615 Btm    Toluene_wt%</th>\n",
              "      <th>Simulation Case Conditions_Feed Rate_Feed from C820 Dist_m3/hr</th>\n",
              "      <th>Simulation Case Conditions_Feed Rate_Feed from C820 Dist    NA_wt%</th>\n",
              "      <th>Simulation Case Conditions_Feed Rate_Feed from C820 Dist    Benzene_wt%</th>\n",
              "      <th>Simulation Case Conditions_Feed Rate_Feed from C820 Dist    Toluene_wt%</th>\n",
              "      <th>Simulation Case Conditions_Feed Rate_Feed from T651_m3/hr</th>\n",
              "      <th>Simulation Case Conditions_Feed Rate_Feed from T651    NA_wt%</th>\n",
              "      <th>Simulation Case Conditions_Feed Rate_Feed from T651    Benzene_wt%</th>\n",
              "      <th>Simulation Case Conditions_Feed Rate_Feed from T651    Toluene_wt%</th>\n",
              "      <th>Simulation Case Conditions_Spec 1 : Benzene in C620 Sidedraw_wt%</th>\n",
              "      <th>Simulation Case Conditions_Spec 2 : NA in Benzene_ppmw</th>\n",
              "      <th>Tatoray Stripper C620 Operation_Specifications_Spec 2 : Distillate Rate_m3/hr</th>\n",
              "      <th>Benzene Column C660 Operation_Specifications_Spec 3 : Toluene in Benzene_ppmw</th>\n",
              "      <th>Tatoray Stripper C620 Operation_Specifications_Spec 1 : Receiver Temp_oC</th>\n",
              "    </tr>\n",
              "  </thead>\n",
              "  <tbody>\n",
              "    <tr>\n",
              "      <th>2020-12-02</th>\n",
              "      <td>175.679504</td>\n",
              "      <td>2.0360</td>\n",
              "      <td>12.014</td>\n",
              "      <td>37.375</td>\n",
              "      <td>19.209358</td>\n",
              "      <td>2.6540</td>\n",
              "      <td>66.758</td>\n",
              "      <td>20.433</td>\n",
              "      <td>93.699834</td>\n",
              "      <td>0.6000</td>\n",
              "      <td>44.100</td>\n",
              "      <td>42.370</td>\n",
              "      <td>86.253</td>\n",
              "      <td>750.0</td>\n",
              "      <td>0.00000</td>\n",
              "      <td>28.0</td>\n",
              "      <td>39.799891</td>\n",
              "    </tr>\n",
              "    <tr>\n",
              "      <th>2020-10-27</th>\n",
              "      <td>180.119734</td>\n",
              "      <td>1.7560</td>\n",
              "      <td>12.078</td>\n",
              "      <td>37.252</td>\n",
              "      <td>16.990028</td>\n",
              "      <td>2.6470</td>\n",
              "      <td>72.345</td>\n",
              "      <td>18.801</td>\n",
              "      <td>89.544441</td>\n",
              "      <td>0.5456</td>\n",
              "      <td>45.773</td>\n",
              "      <td>41.738</td>\n",
              "      <td>84.166</td>\n",
              "      <td>641.0</td>\n",
              "      <td>0.00000</td>\n",
              "      <td>9.0</td>\n",
              "      <td>40.353683</td>\n",
              "    </tr>\n",
              "    <tr>\n",
              "      <th>2020-12-09</th>\n",
              "      <td>175.768234</td>\n",
              "      <td>1.9500</td>\n",
              "      <td>11.982</td>\n",
              "      <td>37.452</td>\n",
              "      <td>17.881016</td>\n",
              "      <td>4.3650</td>\n",
              "      <td>61.243</td>\n",
              "      <td>25.683</td>\n",
              "      <td>99.247704</td>\n",
              "      <td>0.5820</td>\n",
              "      <td>44.515</td>\n",
              "      <td>41.184</td>\n",
              "      <td>89.366</td>\n",
              "      <td>725.0</td>\n",
              "      <td>0.00000</td>\n",
              "      <td>25.0</td>\n",
              "      <td>42.253014</td>\n",
              "    </tr>\n",
              "    <tr>\n",
              "      <th>2020-11-11</th>\n",
              "      <td>178.663300</td>\n",
              "      <td>2.1171</td>\n",
              "      <td>11.713</td>\n",
              "      <td>37.016</td>\n",
              "      <td>17.128589</td>\n",
              "      <td>3.0507</td>\n",
              "      <td>64.741</td>\n",
              "      <td>23.511</td>\n",
              "      <td>97.068145</td>\n",
              "      <td>0.6100</td>\n",
              "      <td>45.780</td>\n",
              "      <td>42.270</td>\n",
              "      <td>85.363</td>\n",
              "      <td>802.0</td>\n",
              "      <td>0.00000</td>\n",
              "      <td>41.0</td>\n",
              "      <td>41.447528</td>\n",
              "    </tr>\n",
              "    <tr>\n",
              "      <th>2020-12-26</th>\n",
              "      <td>175.563812</td>\n",
              "      <td>1.9300</td>\n",
              "      <td>12.121</td>\n",
              "      <td>37.388</td>\n",
              "      <td>19.578745</td>\n",
              "      <td>2.9330</td>\n",
              "      <td>67.392</td>\n",
              "      <td>20.235</td>\n",
              "      <td>99.517662</td>\n",
              "      <td>0.6661</td>\n",
              "      <td>45.687</td>\n",
              "      <td>40.464</td>\n",
              "      <td>87.840</td>\n",
              "      <td>805.0</td>\n",
              "      <td>0.00000</td>\n",
              "      <td>52.0</td>\n",
              "      <td>41.042450</td>\n",
              "    </tr>\n",
              "    <tr>\n",
              "      <th>2020-11-13</th>\n",
              "      <td>177.578588</td>\n",
              "      <td>1.9270</td>\n",
              "      <td>11.817</td>\n",
              "      <td>37.221</td>\n",
              "      <td>17.044234</td>\n",
              "      <td>2.9440</td>\n",
              "      <td>65.069</td>\n",
              "      <td>22.560</td>\n",
              "      <td>98.546633</td>\n",
              "      <td>0.5700</td>\n",
              "      <td>45.070</td>\n",
              "      <td>42.390</td>\n",
              "      <td>85.351</td>\n",
              "      <td>766.0</td>\n",
              "      <td>0.00000</td>\n",
              "      <td>27.0</td>\n",
              "      <td>43.202930</td>\n",
              "    </tr>\n",
              "    <tr>\n",
              "      <th>2021-02-12</th>\n",
              "      <td>184.623123</td>\n",
              "      <td>1.6500</td>\n",
              "      <td>11.620</td>\n",
              "      <td>37.290</td>\n",
              "      <td>17.834211</td>\n",
              "      <td>2.4700</td>\n",
              "      <td>68.250</td>\n",
              "      <td>21.330</td>\n",
              "      <td>95.943756</td>\n",
              "      <td>0.6650</td>\n",
              "      <td>43.490</td>\n",
              "      <td>42.228</td>\n",
              "      <td>85.840</td>\n",
              "      <td>877.0</td>\n",
              "      <td>0.00000</td>\n",
              "      <td>34.0</td>\n",
              "      <td>41.703621</td>\n",
              "    </tr>\n",
              "    <tr>\n",
              "      <th>2021-02-13</th>\n",
              "      <td>182.727005</td>\n",
              "      <td>2.0600</td>\n",
              "      <td>11.670</td>\n",
              "      <td>37.270</td>\n",
              "      <td>17.901134</td>\n",
              "      <td>2.3700</td>\n",
              "      <td>68.700</td>\n",
              "      <td>21.000</td>\n",
              "      <td>98.045372</td>\n",
              "      <td>0.6650</td>\n",
              "      <td>43.532</td>\n",
              "      <td>42.478</td>\n",
              "      <td>87.140</td>\n",
              "      <td>838.0</td>\n",
              "      <td>0.00000</td>\n",
              "      <td>29.0</td>\n",
              "      <td>40.842743</td>\n",
              "    </tr>\n",
              "    <tr>\n",
              "      <th>2020-11-06</th>\n",
              "      <td>165.396682</td>\n",
              "      <td>1.3300</td>\n",
              "      <td>12.360</td>\n",
              "      <td>38.000</td>\n",
              "      <td>19.375314</td>\n",
              "      <td>3.0400</td>\n",
              "      <td>66.910</td>\n",
              "      <td>19.300</td>\n",
              "      <td>100.839962</td>\n",
              "      <td>0.6410</td>\n",
              "      <td>46.095</td>\n",
              "      <td>39.667</td>\n",
              "      <td>84.620</td>\n",
              "      <td>788.0</td>\n",
              "      <td>0.00000</td>\n",
              "      <td>38.0</td>\n",
              "      <td>43.047926</td>\n",
              "    </tr>\n",
              "    <tr>\n",
              "      <th>2020-12-22</th>\n",
              "      <td>182.927429</td>\n",
              "      <td>2.3960</td>\n",
              "      <td>12.175</td>\n",
              "      <td>37.270</td>\n",
              "      <td>18.905632</td>\n",
              "      <td>2.8660</td>\n",
              "      <td>67.411</td>\n",
              "      <td>20.359</td>\n",
              "      <td>97.379578</td>\n",
              "      <td>0.6700</td>\n",
              "      <td>43.810</td>\n",
              "      <td>42.410</td>\n",
              "      <td>86.005</td>\n",
              "      <td>809.0</td>\n",
              "      <td>0.00000</td>\n",
              "      <td>50.0</td>\n",
              "      <td>38.472740</td>\n",
              "    </tr>\n",
              "    <tr>\n",
              "      <th>2020-09-25</th>\n",
              "      <td>168.158816</td>\n",
              "      <td>1.4700</td>\n",
              "      <td>10.310</td>\n",
              "      <td>35.920</td>\n",
              "      <td>13.164936</td>\n",
              "      <td>2.4500</td>\n",
              "      <td>73.690</td>\n",
              "      <td>18.970</td>\n",
              "      <td>58.385155</td>\n",
              "      <td>0.3530</td>\n",
              "      <td>36.257</td>\n",
              "      <td>53.146</td>\n",
              "      <td>92.340</td>\n",
              "      <td>838.0</td>\n",
              "      <td>0.00000</td>\n",
              "      <td>10.0</td>\n",
              "      <td>38.862755</td>\n",
              "    </tr>\n",
              "    <tr>\n",
              "      <th>2021-01-12</th>\n",
              "      <td>182.906250</td>\n",
              "      <td>1.7850</td>\n",
              "      <td>12.043</td>\n",
              "      <td>37.504</td>\n",
              "      <td>18.725227</td>\n",
              "      <td>2.9410</td>\n",
              "      <td>67.802</td>\n",
              "      <td>19.547</td>\n",
              "      <td>104.306389</td>\n",
              "      <td>0.5700</td>\n",
              "      <td>47.140</td>\n",
              "      <td>40.150</td>\n",
              "      <td>87.533</td>\n",
              "      <td>776.0</td>\n",
              "      <td>0.32824</td>\n",
              "      <td>72.0</td>\n",
              "      <td>37.729290</td>\n",
              "    </tr>\n",
              "    <tr>\n",
              "      <th>2020-11-28</th>\n",
              "      <td>169.417029</td>\n",
              "      <td>1.5612</td>\n",
              "      <td>11.537</td>\n",
              "      <td>37.331</td>\n",
              "      <td>17.931079</td>\n",
              "      <td>2.9944</td>\n",
              "      <td>69.442</td>\n",
              "      <td>19.563</td>\n",
              "      <td>92.863846</td>\n",
              "      <td>0.6160</td>\n",
              "      <td>44.511</td>\n",
              "      <td>41.587</td>\n",
              "      <td>86.304</td>\n",
              "      <td>714.0</td>\n",
              "      <td>0.00000</td>\n",
              "      <td>19.0</td>\n",
              "      <td>37.842611</td>\n",
              "    </tr>\n",
              "    <tr>\n",
              "      <th>2021-02-16</th>\n",
              "      <td>182.702744</td>\n",
              "      <td>2.0556</td>\n",
              "      <td>12.142</td>\n",
              "      <td>37.828</td>\n",
              "      <td>18.193422</td>\n",
              "      <td>2.8398</td>\n",
              "      <td>67.888</td>\n",
              "      <td>21.521</td>\n",
              "      <td>93.629074</td>\n",
              "      <td>0.6960</td>\n",
              "      <td>43.240</td>\n",
              "      <td>42.532</td>\n",
              "      <td>87.491</td>\n",
              "      <td>861.0</td>\n",
              "      <td>0.00000</td>\n",
              "      <td>10.0</td>\n",
              "      <td>43.173817</td>\n",
              "    </tr>\n",
              "    <tr>\n",
              "      <th>2020-11-04</th>\n",
              "      <td>176.595090</td>\n",
              "      <td>1.1200</td>\n",
              "      <td>12.280</td>\n",
              "      <td>38.000</td>\n",
              "      <td>18.337664</td>\n",
              "      <td>3.1600</td>\n",
              "      <td>66.320</td>\n",
              "      <td>20.250</td>\n",
              "      <td>102.896518</td>\n",
              "      <td>0.5160</td>\n",
              "      <td>45.187</td>\n",
              "      <td>42.891</td>\n",
              "      <td>84.540</td>\n",
              "      <td>781.0</td>\n",
              "      <td>0.00000</td>\n",
              "      <td>33.0</td>\n",
              "      <td>40.094453</td>\n",
              "    </tr>\n",
              "    <tr>\n",
              "      <th>2020-11-22</th>\n",
              "      <td>170.538553</td>\n",
              "      <td>1.1600</td>\n",
              "      <td>11.460</td>\n",
              "      <td>37.050</td>\n",
              "      <td>17.445402</td>\n",
              "      <td>2.5100</td>\n",
              "      <td>67.040</td>\n",
              "      <td>21.040</td>\n",
              "      <td>90.366716</td>\n",
              "      <td>0.6840</td>\n",
              "      <td>44.648</td>\n",
              "      <td>41.883</td>\n",
              "      <td>86.560</td>\n",
              "      <td>755.0</td>\n",
              "      <td>0.00000</td>\n",
              "      <td>16.0</td>\n",
              "      <td>38.383713</td>\n",
              "    </tr>\n",
              "    <tr>\n",
              "      <th>2020-09-18</th>\n",
              "      <td>175.967935</td>\n",
              "      <td>1.6430</td>\n",
              "      <td>10.596</td>\n",
              "      <td>36.297</td>\n",
              "      <td>12.863233</td>\n",
              "      <td>2.4700</td>\n",
              "      <td>74.005</td>\n",
              "      <td>18.806</td>\n",
              "      <td>63.686678</td>\n",
              "      <td>0.3734</td>\n",
              "      <td>35.783</td>\n",
              "      <td>52.841</td>\n",
              "      <td>90.686</td>\n",
              "      <td>773.0</td>\n",
              "      <td>0.00000</td>\n",
              "      <td>0.0</td>\n",
              "      <td>40.874387</td>\n",
              "    </tr>\n",
              "    <tr>\n",
              "      <th>2020-10-15</th>\n",
              "      <td>137.268603</td>\n",
              "      <td>0.7300</td>\n",
              "      <td>5.160</td>\n",
              "      <td>59.490</td>\n",
              "      <td>16.079162</td>\n",
              "      <td>1.9500</td>\n",
              "      <td>75.380</td>\n",
              "      <td>16.160</td>\n",
              "      <td>63.233033</td>\n",
              "      <td>0.8700</td>\n",
              "      <td>56.108</td>\n",
              "      <td>26.267</td>\n",
              "      <td>86.080</td>\n",
              "      <td>894.0</td>\n",
              "      <td>0.00000</td>\n",
              "      <td>2.0</td>\n",
              "      <td>43.892587</td>\n",
              "    </tr>\n",
              "    <tr>\n",
              "      <th>2020-11-15</th>\n",
              "      <td>176.844757</td>\n",
              "      <td>1.8660</td>\n",
              "      <td>11.908</td>\n",
              "      <td>37.216</td>\n",
              "      <td>17.339738</td>\n",
              "      <td>2.7310</td>\n",
              "      <td>65.817</td>\n",
              "      <td>22.426</td>\n",
              "      <td>97.940069</td>\n",
              "      <td>0.5828</td>\n",
              "      <td>44.793</td>\n",
              "      <td>42.552</td>\n",
              "      <td>92.463</td>\n",
              "      <td>760.0</td>\n",
              "      <td>0.00000</td>\n",
              "      <td>32.0</td>\n",
              "      <td>42.172990</td>\n",
              "    </tr>\n",
              "    <tr>\n",
              "      <th>2020-12-24</th>\n",
              "      <td>169.469696</td>\n",
              "      <td>2.0280</td>\n",
              "      <td>12.424</td>\n",
              "      <td>37.824</td>\n",
              "      <td>19.156324</td>\n",
              "      <td>2.5120</td>\n",
              "      <td>69.031</td>\n",
              "      <td>19.582</td>\n",
              "      <td>98.539299</td>\n",
              "      <td>0.7602</td>\n",
              "      <td>44.149</td>\n",
              "      <td>40.743</td>\n",
              "      <td>85.479</td>\n",
              "      <td>880.0</td>\n",
              "      <td>0.00000</td>\n",
              "      <td>47.0</td>\n",
              "      <td>39.304111</td>\n",
              "    </tr>\n",
              "  </tbody>\n",
              "</table>\n",
              "</div>"
            ],
            "text/plain": [
              "            Simulation Case Conditions_Feed Rate_Feed from V615 Btm_m3/hr  ...  Tatoray Stripper C620 Operation_Specifications_Spec 1 : Receiver Temp_oC\n",
              "2020-12-02                                         175.679504              ...                                          39.799891                       \n",
              "2020-10-27                                         180.119734              ...                                          40.353683                       \n",
              "2020-12-09                                         175.768234              ...                                          42.253014                       \n",
              "2020-11-11                                         178.663300              ...                                          41.447528                       \n",
              "2020-12-26                                         175.563812              ...                                          41.042450                       \n",
              "2020-11-13                                         177.578588              ...                                          43.202930                       \n",
              "2021-02-12                                         184.623123              ...                                          41.703621                       \n",
              "2021-02-13                                         182.727005              ...                                          40.842743                       \n",
              "2020-11-06                                         165.396682              ...                                          43.047926                       \n",
              "2020-12-22                                         182.927429              ...                                          38.472740                       \n",
              "2020-09-25                                         168.158816              ...                                          38.862755                       \n",
              "2021-01-12                                         182.906250              ...                                          37.729290                       \n",
              "2020-11-28                                         169.417029              ...                                          37.842611                       \n",
              "2021-02-16                                         182.702744              ...                                          43.173817                       \n",
              "2020-11-04                                         176.595090              ...                                          40.094453                       \n",
              "2020-11-22                                         170.538553              ...                                          38.383713                       \n",
              "2020-09-18                                         175.967935              ...                                          40.874387                       \n",
              "2020-10-15                                         137.268603              ...                                          43.892587                       \n",
              "2020-11-15                                         176.844757              ...                                          42.172990                       \n",
              "2020-12-24                                         169.469696              ...                                          39.304111                       \n",
              "\n",
              "[20 rows x 17 columns]"
            ]
          },
          "metadata": {
            "tags": []
          },
          "execution_count": 28
        }
      ]
    },
    {
      "cell_type": "code",
      "metadata": {
        "colab": {
          "base_uri": "https://localhost:8080/"
        },
        "id": "dj4za_jevMfR",
        "outputId": "89a88ad0-7d77-485b-efd4-85fa7714361e"
      },
      "source": [
        "joblib.dump(demo,\"/content/drive/MyDrive/台塑輕油案子/data/c620/demo/demo(real_data).pkl\")"
      ],
      "execution_count": 29,
      "outputs": [
        {
          "output_type": "execute_result",
          "data": {
            "text/plain": [
              "['/content/drive/MyDrive/台塑輕油案子/data/c620/demo/demo(real_data).pkl']"
            ]
          },
          "metadata": {
            "tags": []
          },
          "execution_count": 29
        }
      ]
    },
    {
      "cell_type": "code",
      "metadata": {
        "id": "ejhTTKULvZIa"
      },
      "source": [
        ""
      ],
      "execution_count": null,
      "outputs": []
    }
  ]
}