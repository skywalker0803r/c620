{
  "nbformat": 4,
  "nbformat_minor": 0,
  "metadata": {
    "colab": {
      "name": "create_demo_data(real_data).ipynb",
      "provenance": [],
      "authorship_tag": "ABX9TyP9U2a6bgScuqiTUdZgmhoJ",
      "include_colab_link": true
    },
    "kernelspec": {
      "name": "python3",
      "display_name": "Python 3"
    }
  },
  "cells": [
    {
      "cell_type": "markdown",
      "metadata": {
        "id": "view-in-github",
        "colab_type": "text"
      },
      "source": [
        "<a href=\"https://colab.research.google.com/github/skywalker0803r/c620/blob/main/notebook/create_demo_data(real_data).ipynb\" target=\"_parent\"><img src=\"https://colab.research.google.com/assets/colab-badge.svg\" alt=\"Open In Colab\"/></a>"
      ]
    },
    {
      "cell_type": "code",
      "metadata": {
        "colab": {
          "base_uri": "https://localhost:8080/"
        },
        "id": "wwFDdstDtGwz",
        "outputId": "14e61285-de89-4a00-cf79-903c532fe84c"
      },
      "source": [
        "from google.colab import drive\n",
        "import joblib\n",
        "import pandas as pd\n",
        "drive.mount('/content/drive')"
      ],
      "execution_count": 1,
      "outputs": [
        {
          "output_type": "stream",
          "text": [
            "Drive already mounted at /content/drive; to attempt to forcibly remount, call drive.mount(\"/content/drive\", force_remount=True).\n"
          ],
          "name": "stdout"
        }
      ]
    },
    {
      "cell_type": "markdown",
      "metadata": {
        "id": "Cdjg_QgAtZxe"
      },
      "source": [
        "# columns name"
      ]
    },
    {
      "cell_type": "code",
      "metadata": {
        "colab": {
          "base_uri": "https://localhost:8080/"
        },
        "id": "Fqmq5MHVtR6t",
        "outputId": "512c4a58-773a-48e7-ff55-68dfc305f860"
      },
      "source": [
        "icg_c = joblib.load('/content/drive/MyDrive/台塑輕油案子/data/c620/col_names/icg_col_names.pkl')\n",
        "c620_c = joblib.load('/content/drive/MyDrive/台塑輕油案子/data/c620/col_names/c620_col_names.pkl')\n",
        "c660_c = joblib.load('/content/drive/MyDrive/台塑輕油案子/data/c620/col_names/c660_col_names.pkl')\n",
        "t651_c = joblib.load('/content/drive/MyDrive/台塑輕油案子/data/c620/col_names/t651_col_names.pkl')\n",
        "c670_c = joblib.load('/content/drive/MyDrive/台塑輕油案子/data/c620/col_names/c670_col_names.pkl')\n",
        "print(icg_c.keys())\n",
        "print(c620_c.keys())\n",
        "print(c660_c.keys())\n",
        "print(c670_c.keys())\n",
        "print(t651_c.keys())"
      ],
      "execution_count": 2,
      "outputs": [
        {
          "output_type": "stream",
          "text": [
            "dict_keys(['x', 'y'])\n",
            "dict_keys(['x41', 'case', 'yRefluxRate', 'yControl', 'yHeatDuty', 'vent_gas_x', 'distillate_x', 'sidedraw_x', 'bottoms_x', 'vent_gas_sf', 'distillate_sf', 'sidedraw_sf', 'bottoms_sf', 'density'])\n",
            "dict_keys(['x41', 'case', 'yRefluxRate', 'yControl', 'yHeatDuty', 'vent_gas_x', 'distillate_x', 'sidedraw_x', 'bottoms_x', 'vent_gas_sf', 'distillate_sf', 'sidedraw_sf', 'bottoms_sf', 'density'])\n",
            "dict_keys(['xTray43', 'xTray54', 'combined', 'upper_bf', 'lower_bf', 'yRefluxRate', 'yControl', 'yHeatDuty', 'distillate_x', 'bottoms_x', 'distillate_sf', 'bottoms_sf', 'density'])\n",
            "dict_keys(['x41', 'MFR'])\n"
          ],
          "name": "stdout"
        }
      ]
    },
    {
      "cell_type": "code",
      "metadata": {
        "colab": {
          "base_uri": "https://localhost:8080/"
        },
        "id": "lLR_X267tbVL",
        "outputId": "e6dec54d-9ee4-416f-faa0-25dca6bc5efc"
      },
      "source": [
        "icg_df = pd.read_excel('/content/drive/MyDrive/台塑輕油案子/data/c620/明志_遷移式學習_訓練資料_寄送版/icg_data.xlsx',index_col=0)\n",
        "c620_df = pd.read_excel('/content/drive/MyDrive/台塑輕油案子/data/c620/明志_遷移式學習_訓練資料_寄送版/c620_data.xlsx',index_col=0)\n",
        "c660_df = pd.read_excel('/content/drive/MyDrive/台塑輕油案子/data/c620/明志_遷移式學習_訓練資料_寄送版/c660_data.xlsx',index_col=0)\n",
        "c670_df = pd.read_excel('/content/drive/MyDrive/台塑輕油案子/data/c620/明志_遷移式學習_訓練資料_寄送版/c670_data.xlsx',index_col=0)\n",
        "t651_df = pd.read_excel('/content/drive/MyDrive/台塑輕油案子/data/c620/明志_遷移式學習_訓練資料_寄送版/t651_data.xlsx',index_col=0)\n",
        "idx = list(set(icg_df.index)&\n",
        "      set(c620_df.index)&\n",
        "      set(c660_df.index)&\n",
        "      set(c670_df.index)&\n",
        "      set(t651_df.index))\n",
        "len(idx)"
      ],
      "execution_count": 3,
      "outputs": [
        {
          "output_type": "execute_result",
          "data": {
            "text/plain": [
              "168"
            ]
          },
          "metadata": {
            "tags": []
          },
          "execution_count": 3
        }
      ]
    },
    {
      "cell_type": "markdown",
      "metadata": {
        "id": "x_UMrJxCuJdR"
      },
      "source": [
        "# input data"
      ]
    },
    {
      "cell_type": "code",
      "metadata": {
        "id": "2GP8UlAlt9Bm"
      },
      "source": [
        "# icg\n",
        "icg_input = icg_df.loc[idx,icg_c['x']]\n",
        "icg_input = icg_input.join(c620_df.loc[idx,'Tatoray Stripper C620 Operation_Specifications_Spec 2 : Distillate Rate_m3/hr'])\n",
        "icg_input = icg_input.join(c660_df.loc[idx,'Benzene Column C660 Operation_Specifications_Spec 3 : Toluene in Benzene_ppmw'])\n",
        "icg_input = icg_input.join(c620_df.loc[idx].filter(regex='Receiver Temp'))\n",
        "\n",
        "# c620\n",
        "c620_feed = c620_df.loc[idx,c620_c['x41']]\n",
        "\n",
        "# t651\n",
        "t651_feed = t651_df.loc[idx,t651_c['x41']]"
      ],
      "execution_count": 4,
      "outputs": []
    },
    {
      "cell_type": "markdown",
      "metadata": {
        "id": "FWRA0J92uNnM"
      },
      "source": [
        "# Output data"
      ]
    },
    {
      "cell_type": "code",
      "metadata": {
        "id": "u8tv8QrUuKoD"
      },
      "source": [
        "c620_op = c620_df.loc[idx,c620_c['density']+c620_c['yRefluxRate']+c620_c['yHeatDuty']+c620_c['yControl']]\n",
        "c660_op = c660_df.loc[idx,c660_c['density']+c660_c['yRefluxRate']+c660_c['yHeatDuty']+c660_c['yControl']]\n",
        "c670_op = c670_df.loc[idx,c670_c['density']+c670_c['yRefluxRate']+c670_c['yHeatDuty']+c670_c['yControl']]"
      ],
      "execution_count": 5,
      "outputs": []
    },
    {
      "cell_type": "code",
      "metadata": {
        "id": "6pXagKCjA-vB"
      },
      "source": [
        "c620_wt = c620_df.loc[idx,c620_c['vent_gas_x']+c620_c['distillate_x']+c620_c['sidedraw_x']+c620_c['bottoms_x']]\n",
        "c660_wt = c660_df.loc[idx,c660_c['vent_gas_x']+c660_c['distillate_x']+c660_c['sidedraw_x']+c660_c['bottoms_x']]\n",
        "c670_wt = c670_df.loc[idx,c670_c['distillate_x']+c670_c['bottoms_x']]"
      ],
      "execution_count": 6,
      "outputs": []
    },
    {
      "cell_type": "code",
      "metadata": {
        "colab": {
          "base_uri": "https://localhost:8080/"
        },
        "id": "N-vQfoTHuxlQ",
        "outputId": "bf5eae1e-28dd-4fc9-c5ca-1dae1be86d0a"
      },
      "source": [
        "idx = icg_input.index\n",
        "print(idx)"
      ],
      "execution_count": 7,
      "outputs": [
        {
          "output_type": "stream",
          "text": [
            "DatetimeIndex(['2021-02-13', '2021-02-05', '2020-12-04', '2020-11-26',\n",
            "               '2020-11-16', '2020-09-24', '2020-12-21', '2020-10-07',\n",
            "               '2020-09-29', '2020-11-28',\n",
            "               ...\n",
            "               '2020-09-06', '2020-11-12', '2020-10-06', '2020-10-18',\n",
            "               '2020-11-06', '2021-01-03', '2020-12-05', '2021-01-29',\n",
            "               '2020-09-13', '2020-09-28'],\n",
            "              dtype='datetime64[ns]', length=168, freq=None)\n"
          ],
          "name": "stdout"
        }
      ]
    },
    {
      "cell_type": "code",
      "metadata": {
        "id": "VPERelUzvBCy"
      },
      "source": [
        "demo = {\n",
        "      # input\n",
        "      'icg_input':icg_input.loc[idx],\n",
        "      'c620_feed':c620_feed.loc[idx],\n",
        "      't651_feed':t651_feed.loc[idx],\n",
        "      # output\n",
        "      'c620_op':c620_op.loc[idx],\n",
        "      'c660_op':c660_op.loc[idx],\n",
        "      'c670_op':c670_op.loc[idx],\n",
        "      \n",
        "      'c620_wt':c620_wt.loc[idx],\n",
        "      'c660_wt':c660_wt.loc[idx],\n",
        "      'c670_wt':c670_wt.loc[idx],\n",
        "      }"
      ],
      "execution_count": 8,
      "outputs": []
    },
    {
      "cell_type": "code",
      "metadata": {
        "colab": {
          "base_uri": "https://localhost:8080/",
          "height": 677
        },
        "id": "NAvlxS3zvWBI",
        "outputId": "cde3506b-3cec-4f72-a4c9-56f44f9ee4a5"
      },
      "source": [
        "demo['icg_input']"
      ],
      "execution_count": 9,
      "outputs": [
        {
          "output_type": "execute_result",
          "data": {
            "text/html": [
              "<div>\n",
              "<style scoped>\n",
              "    .dataframe tbody tr th:only-of-type {\n",
              "        vertical-align: middle;\n",
              "    }\n",
              "\n",
              "    .dataframe tbody tr th {\n",
              "        vertical-align: top;\n",
              "    }\n",
              "\n",
              "    .dataframe thead th {\n",
              "        text-align: right;\n",
              "    }\n",
              "</style>\n",
              "<table border=\"1\" class=\"dataframe\">\n",
              "  <thead>\n",
              "    <tr style=\"text-align: right;\">\n",
              "      <th></th>\n",
              "      <th>Simulation Case Conditions_Feed Rate_Feed from V615 Btm_m3/hr</th>\n",
              "      <th>Simulation Case Conditions_Feed Rate_Feed from V615 Btm    NA_wt%</th>\n",
              "      <th>Simulation Case Conditions_Feed Rate_Feed from V615 Btm    Benzene_wt%</th>\n",
              "      <th>Simulation Case Conditions_Feed Rate_Feed from V615 Btm    Toluene_wt%</th>\n",
              "      <th>Simulation Case Conditions_Feed Rate_Feed from C820 Dist_m3/hr</th>\n",
              "      <th>Simulation Case Conditions_Feed Rate_Feed from C820 Dist    NA_wt%</th>\n",
              "      <th>Simulation Case Conditions_Feed Rate_Feed from C820 Dist    Benzene_wt%</th>\n",
              "      <th>Simulation Case Conditions_Feed Rate_Feed from C820 Dist    Toluene_wt%</th>\n",
              "      <th>Simulation Case Conditions_Feed Rate_Feed from T651_m3/hr</th>\n",
              "      <th>Simulation Case Conditions_Feed Rate_Feed from T651    NA_wt%</th>\n",
              "      <th>Simulation Case Conditions_Feed Rate_Feed from T651    Benzene_wt%</th>\n",
              "      <th>Simulation Case Conditions_Feed Rate_Feed from T651    Toluene_wt%</th>\n",
              "      <th>Simulation Case Conditions_Spec 1 : Benzene in C620 Sidedraw_wt%</th>\n",
              "      <th>Simulation Case Conditions_Spec 2 : NA in Benzene_ppmw</th>\n",
              "      <th>Tatoray Stripper C620 Operation_Specifications_Spec 2 : Distillate Rate_m3/hr</th>\n",
              "      <th>Benzene Column C660 Operation_Specifications_Spec 3 : Toluene in Benzene_ppmw</th>\n",
              "      <th>Tatoray Stripper C620 Operation_Specifications_Spec 1 : Receiver Temp_oC</th>\n",
              "    </tr>\n",
              "  </thead>\n",
              "  <tbody>\n",
              "    <tr>\n",
              "      <th>2021-02-13</th>\n",
              "      <td>182.727005</td>\n",
              "      <td>2.0600</td>\n",
              "      <td>11.670</td>\n",
              "      <td>37.270</td>\n",
              "      <td>17.901134</td>\n",
              "      <td>2.3700</td>\n",
              "      <td>68.700</td>\n",
              "      <td>21.000</td>\n",
              "      <td>98.045372</td>\n",
              "      <td>0.6650</td>\n",
              "      <td>43.532</td>\n",
              "      <td>42.478</td>\n",
              "      <td>87.140</td>\n",
              "      <td>838.0</td>\n",
              "      <td>0.0</td>\n",
              "      <td>29.0</td>\n",
              "      <td>40.842743</td>\n",
              "    </tr>\n",
              "    <tr>\n",
              "      <th>2021-02-05</th>\n",
              "      <td>179.608627</td>\n",
              "      <td>2.1650</td>\n",
              "      <td>12.377</td>\n",
              "      <td>38.074</td>\n",
              "      <td>18.646059</td>\n",
              "      <td>3.0880</td>\n",
              "      <td>66.645</td>\n",
              "      <td>22.216</td>\n",
              "      <td>96.942879</td>\n",
              "      <td>0.7025</td>\n",
              "      <td>43.370</td>\n",
              "      <td>42.201</td>\n",
              "      <td>85.878</td>\n",
              "      <td>800.0</td>\n",
              "      <td>0.0</td>\n",
              "      <td>16.0</td>\n",
              "      <td>40.885593</td>\n",
              "    </tr>\n",
              "    <tr>\n",
              "      <th>2020-12-04</th>\n",
              "      <td>166.107956</td>\n",
              "      <td>2.1510</td>\n",
              "      <td>12.047</td>\n",
              "      <td>37.287</td>\n",
              "      <td>19.038383</td>\n",
              "      <td>3.4740</td>\n",
              "      <td>65.729</td>\n",
              "      <td>19.557</td>\n",
              "      <td>99.873688</td>\n",
              "      <td>0.6486</td>\n",
              "      <td>43.878</td>\n",
              "      <td>42.602</td>\n",
              "      <td>86.102</td>\n",
              "      <td>805.0</td>\n",
              "      <td>0.0</td>\n",
              "      <td>35.0</td>\n",
              "      <td>39.059292</td>\n",
              "    </tr>\n",
              "    <tr>\n",
              "      <th>2020-11-26</th>\n",
              "      <td>169.727284</td>\n",
              "      <td>1.3600</td>\n",
              "      <td>12.000</td>\n",
              "      <td>37.630</td>\n",
              "      <td>18.240871</td>\n",
              "      <td>3.0000</td>\n",
              "      <td>66.560</td>\n",
              "      <td>21.430</td>\n",
              "      <td>92.989864</td>\n",
              "      <td>0.6610</td>\n",
              "      <td>43.786</td>\n",
              "      <td>41.398</td>\n",
              "      <td>86.390</td>\n",
              "      <td>749.0</td>\n",
              "      <td>0.0</td>\n",
              "      <td>19.0</td>\n",
              "      <td>41.073098</td>\n",
              "    </tr>\n",
              "    <tr>\n",
              "      <th>2020-11-16</th>\n",
              "      <td>176.370055</td>\n",
              "      <td>1.8370</td>\n",
              "      <td>11.857</td>\n",
              "      <td>37.198</td>\n",
              "      <td>17.663765</td>\n",
              "      <td>2.6220</td>\n",
              "      <td>66.132</td>\n",
              "      <td>21.395</td>\n",
              "      <td>98.291358</td>\n",
              "      <td>0.5919</td>\n",
              "      <td>44.655</td>\n",
              "      <td>42.658</td>\n",
              "      <td>92.836</td>\n",
              "      <td>738.0</td>\n",
              "      <td>0.0</td>\n",
              "      <td>32.0</td>\n",
              "      <td>43.761401</td>\n",
              "    </tr>\n",
              "    <tr>\n",
              "      <th>...</th>\n",
              "      <td>...</td>\n",
              "      <td>...</td>\n",
              "      <td>...</td>\n",
              "      <td>...</td>\n",
              "      <td>...</td>\n",
              "      <td>...</td>\n",
              "      <td>...</td>\n",
              "      <td>...</td>\n",
              "      <td>...</td>\n",
              "      <td>...</td>\n",
              "      <td>...</td>\n",
              "      <td>...</td>\n",
              "      <td>...</td>\n",
              "      <td>...</td>\n",
              "      <td>...</td>\n",
              "      <td>...</td>\n",
              "      <td>...</td>\n",
              "    </tr>\n",
              "    <tr>\n",
              "      <th>2021-01-03</th>\n",
              "      <td>179.751343</td>\n",
              "      <td>1.3600</td>\n",
              "      <td>11.500</td>\n",
              "      <td>37.000</td>\n",
              "      <td>18.112499</td>\n",
              "      <td>2.1900</td>\n",
              "      <td>69.510</td>\n",
              "      <td>19.010</td>\n",
              "      <td>104.812675</td>\n",
              "      <td>0.5970</td>\n",
              "      <td>46.987</td>\n",
              "      <td>39.682</td>\n",
              "      <td>85.740</td>\n",
              "      <td>579.0</td>\n",
              "      <td>0.0</td>\n",
              "      <td>52.0</td>\n",
              "      <td>39.083649</td>\n",
              "    </tr>\n",
              "    <tr>\n",
              "      <th>2020-12-05</th>\n",
              "      <td>176.814285</td>\n",
              "      <td>1.9710</td>\n",
              "      <td>12.018</td>\n",
              "      <td>37.289</td>\n",
              "      <td>19.088993</td>\n",
              "      <td>3.3900</td>\n",
              "      <td>66.171</td>\n",
              "      <td>20.551</td>\n",
              "      <td>96.033325</td>\n",
              "      <td>0.6312</td>\n",
              "      <td>43.357</td>\n",
              "      <td>43.284</td>\n",
              "      <td>85.918</td>\n",
              "      <td>795.0</td>\n",
              "      <td>0.0</td>\n",
              "      <td>33.0</td>\n",
              "      <td>40.796818</td>\n",
              "    </tr>\n",
              "    <tr>\n",
              "      <th>2021-01-29</th>\n",
              "      <td>168.094742</td>\n",
              "      <td>2.1770</td>\n",
              "      <td>12.611</td>\n",
              "      <td>38.067</td>\n",
              "      <td>19.249239</td>\n",
              "      <td>2.3479</td>\n",
              "      <td>69.407</td>\n",
              "      <td>19.462</td>\n",
              "      <td>104.291405</td>\n",
              "      <td>0.5800</td>\n",
              "      <td>44.610</td>\n",
              "      <td>42.030</td>\n",
              "      <td>90.047</td>\n",
              "      <td>692.0</td>\n",
              "      <td>0.0</td>\n",
              "      <td>44.0</td>\n",
              "      <td>35.294071</td>\n",
              "    </tr>\n",
              "    <tr>\n",
              "      <th>2020-09-13</th>\n",
              "      <td>170.544997</td>\n",
              "      <td>1.9050</td>\n",
              "      <td>10.267</td>\n",
              "      <td>35.719</td>\n",
              "      <td>12.889589</td>\n",
              "      <td>2.8940</td>\n",
              "      <td>73.021</td>\n",
              "      <td>19.166</td>\n",
              "      <td>62.388201</td>\n",
              "      <td>0.5200</td>\n",
              "      <td>35.900</td>\n",
              "      <td>53.680</td>\n",
              "      <td>88.119</td>\n",
              "      <td>858.0</td>\n",
              "      <td>0.0</td>\n",
              "      <td>2.0</td>\n",
              "      <td>40.121723</td>\n",
              "    </tr>\n",
              "    <tr>\n",
              "      <th>2020-09-28</th>\n",
              "      <td>167.967439</td>\n",
              "      <td>1.4358</td>\n",
              "      <td>10.325</td>\n",
              "      <td>35.965</td>\n",
              "      <td>13.809748</td>\n",
              "      <td>2.9417</td>\n",
              "      <td>74.103</td>\n",
              "      <td>18.319</td>\n",
              "      <td>58.818240</td>\n",
              "      <td>0.3760</td>\n",
              "      <td>35.403</td>\n",
              "      <td>55.329</td>\n",
              "      <td>90.502</td>\n",
              "      <td>853.0</td>\n",
              "      <td>0.0</td>\n",
              "      <td>0.0</td>\n",
              "      <td>41.446043</td>\n",
              "    </tr>\n",
              "  </tbody>\n",
              "</table>\n",
              "<p>168 rows × 17 columns</p>\n",
              "</div>"
            ],
            "text/plain": [
              "            Simulation Case Conditions_Feed Rate_Feed from V615 Btm_m3/hr  ...  Tatoray Stripper C620 Operation_Specifications_Spec 1 : Receiver Temp_oC\n",
              "2021-02-13                                         182.727005              ...                                          40.842743                       \n",
              "2021-02-05                                         179.608627              ...                                          40.885593                       \n",
              "2020-12-04                                         166.107956              ...                                          39.059292                       \n",
              "2020-11-26                                         169.727284              ...                                          41.073098                       \n",
              "2020-11-16                                         176.370055              ...                                          43.761401                       \n",
              "...                                                       ...              ...                                                ...                       \n",
              "2021-01-03                                         179.751343              ...                                          39.083649                       \n",
              "2020-12-05                                         176.814285              ...                                          40.796818                       \n",
              "2021-01-29                                         168.094742              ...                                          35.294071                       \n",
              "2020-09-13                                         170.544997              ...                                          40.121723                       \n",
              "2020-09-28                                         167.967439              ...                                          41.446043                       \n",
              "\n",
              "[168 rows x 17 columns]"
            ]
          },
          "metadata": {
            "tags": []
          },
          "execution_count": 9
        }
      ]
    },
    {
      "cell_type": "code",
      "metadata": {
        "colab": {
          "base_uri": "https://localhost:8080/"
        },
        "id": "dj4za_jevMfR",
        "outputId": "0de20cac-682e-44cb-b9f6-e84aa565dfb7"
      },
      "source": [
        "joblib.dump(demo,\"/content/drive/MyDrive/台塑輕油案子/data/c620/demo/demo(real_data).pkl\")"
      ],
      "execution_count": 10,
      "outputs": [
        {
          "output_type": "execute_result",
          "data": {
            "text/plain": [
              "['/content/drive/MyDrive/台塑輕油案子/data/c620/demo/demo(real_data).pkl']"
            ]
          },
          "metadata": {
            "tags": []
          },
          "execution_count": 10
        }
      ]
    },
    {
      "cell_type": "code",
      "metadata": {
        "id": "ejhTTKULvZIa"
      },
      "source": [
        ""
      ],
      "execution_count": 10,
      "outputs": []
    }
  ]
}