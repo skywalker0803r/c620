{
  "nbformat": 4,
  "nbformat_minor": 0,
  "metadata": {
    "colab": {
      "name": "usage_example(colab)V3.ipynb",
      "provenance": [],
      "authorship_tag": "ABX9TyOt29gDd4rnXw7N49fsBbRQ",
      "include_colab_link": true
    },
    "kernelspec": {
      "name": "python3",
      "display_name": "Python 3"
    },
    "language_info": {
      "name": "python"
    },
    "widgets": {
      "application/vnd.jupyter.widget-state+json": {
        "cbddac6913d84c11994ee87ffefd6754": {
          "model_module": "@jupyter-widgets/controls",
          "model_name": "HBoxModel",
          "state": {
            "_view_name": "HBoxView",
            "_dom_classes": [],
            "_model_name": "HBoxModel",
            "_view_module": "@jupyter-widgets/controls",
            "_model_module_version": "1.5.0",
            "_view_count": null,
            "_view_module_version": "1.5.0",
            "box_style": "",
            "layout": "IPY_MODEL_3b0c8dffe1404793b644caf009217b7d",
            "_model_module": "@jupyter-widgets/controls",
            "children": [
              "IPY_MODEL_87bf52e80fa84ea39d91141d7628260b",
              "IPY_MODEL_fb534378176d4056a16f2191d3e3014c"
            ]
          }
        },
        "3b0c8dffe1404793b644caf009217b7d": {
          "model_module": "@jupyter-widgets/base",
          "model_name": "LayoutModel",
          "state": {
            "_view_name": "LayoutView",
            "grid_template_rows": null,
            "right": null,
            "justify_content": null,
            "_view_module": "@jupyter-widgets/base",
            "overflow": null,
            "_model_module_version": "1.2.0",
            "_view_count": null,
            "flex_flow": null,
            "width": null,
            "min_width": null,
            "border": null,
            "align_items": null,
            "bottom": null,
            "_model_module": "@jupyter-widgets/base",
            "top": null,
            "grid_column": null,
            "overflow_y": null,
            "overflow_x": null,
            "grid_auto_flow": null,
            "grid_area": null,
            "grid_template_columns": null,
            "flex": null,
            "_model_name": "LayoutModel",
            "justify_items": null,
            "grid_row": null,
            "max_height": null,
            "align_content": null,
            "visibility": null,
            "align_self": null,
            "height": null,
            "min_height": null,
            "padding": null,
            "grid_auto_rows": null,
            "grid_gap": null,
            "max_width": null,
            "order": null,
            "_view_module_version": "1.2.0",
            "grid_template_areas": null,
            "object_position": null,
            "object_fit": null,
            "grid_auto_columns": null,
            "margin": null,
            "display": null,
            "left": null
          }
        },
        "87bf52e80fa84ea39d91141d7628260b": {
          "model_module": "@jupyter-widgets/controls",
          "model_name": "FloatProgressModel",
          "state": {
            "_view_name": "ProgressView",
            "style": "IPY_MODEL_7fb556f6cd7f4d539b7f33047fb6779d",
            "_dom_classes": [],
            "description": " 20%",
            "_model_name": "FloatProgressModel",
            "bar_style": "danger",
            "max": 200,
            "_view_module": "@jupyter-widgets/controls",
            "_model_module_version": "1.5.0",
            "value": 39,
            "_view_count": null,
            "_view_module_version": "1.5.0",
            "orientation": "horizontal",
            "min": 0,
            "description_tooltip": null,
            "_model_module": "@jupyter-widgets/controls",
            "layout": "IPY_MODEL_8b0b2cb03bb0495aa75d5cf0844a8b50"
          }
        },
        "fb534378176d4056a16f2191d3e3014c": {
          "model_module": "@jupyter-widgets/controls",
          "model_name": "HTMLModel",
          "state": {
            "_view_name": "HTMLView",
            "style": "IPY_MODEL_f399b7d9541b48199bf4bd3dd070299e",
            "_dom_classes": [],
            "description": "",
            "_model_name": "HTMLModel",
            "placeholder": "​",
            "_view_module": "@jupyter-widgets/controls",
            "_model_module_version": "1.5.0",
            "value": " 39/200 [00:09&lt;00:38,  4.18it/s]",
            "_view_count": null,
            "_view_module_version": "1.5.0",
            "description_tooltip": null,
            "_model_module": "@jupyter-widgets/controls",
            "layout": "IPY_MODEL_6d9885ad17574b45931039eccfcb171d"
          }
        },
        "7fb556f6cd7f4d539b7f33047fb6779d": {
          "model_module": "@jupyter-widgets/controls",
          "model_name": "ProgressStyleModel",
          "state": {
            "_view_name": "StyleView",
            "_model_name": "ProgressStyleModel",
            "description_width": "initial",
            "_view_module": "@jupyter-widgets/base",
            "_model_module_version": "1.5.0",
            "_view_count": null,
            "_view_module_version": "1.2.0",
            "bar_color": null,
            "_model_module": "@jupyter-widgets/controls"
          }
        },
        "8b0b2cb03bb0495aa75d5cf0844a8b50": {
          "model_module": "@jupyter-widgets/base",
          "model_name": "LayoutModel",
          "state": {
            "_view_name": "LayoutView",
            "grid_template_rows": null,
            "right": null,
            "justify_content": null,
            "_view_module": "@jupyter-widgets/base",
            "overflow": null,
            "_model_module_version": "1.2.0",
            "_view_count": null,
            "flex_flow": null,
            "width": null,
            "min_width": null,
            "border": null,
            "align_items": null,
            "bottom": null,
            "_model_module": "@jupyter-widgets/base",
            "top": null,
            "grid_column": null,
            "overflow_y": null,
            "overflow_x": null,
            "grid_auto_flow": null,
            "grid_area": null,
            "grid_template_columns": null,
            "flex": null,
            "_model_name": "LayoutModel",
            "justify_items": null,
            "grid_row": null,
            "max_height": null,
            "align_content": null,
            "visibility": null,
            "align_self": null,
            "height": null,
            "min_height": null,
            "padding": null,
            "grid_auto_rows": null,
            "grid_gap": null,
            "max_width": null,
            "order": null,
            "_view_module_version": "1.2.0",
            "grid_template_areas": null,
            "object_position": null,
            "object_fit": null,
            "grid_auto_columns": null,
            "margin": null,
            "display": null,
            "left": null
          }
        },
        "f399b7d9541b48199bf4bd3dd070299e": {
          "model_module": "@jupyter-widgets/controls",
          "model_name": "DescriptionStyleModel",
          "state": {
            "_view_name": "StyleView",
            "_model_name": "DescriptionStyleModel",
            "description_width": "",
            "_view_module": "@jupyter-widgets/base",
            "_model_module_version": "1.5.0",
            "_view_count": null,
            "_view_module_version": "1.2.0",
            "_model_module": "@jupyter-widgets/controls"
          }
        },
        "6d9885ad17574b45931039eccfcb171d": {
          "model_module": "@jupyter-widgets/base",
          "model_name": "LayoutModel",
          "state": {
            "_view_name": "LayoutView",
            "grid_template_rows": null,
            "right": null,
            "justify_content": null,
            "_view_module": "@jupyter-widgets/base",
            "overflow": null,
            "_model_module_version": "1.2.0",
            "_view_count": null,
            "flex_flow": null,
            "width": null,
            "min_width": null,
            "border": null,
            "align_items": null,
            "bottom": null,
            "_model_module": "@jupyter-widgets/base",
            "top": null,
            "grid_column": null,
            "overflow_y": null,
            "overflow_x": null,
            "grid_auto_flow": null,
            "grid_area": null,
            "grid_template_columns": null,
            "flex": null,
            "_model_name": "LayoutModel",
            "justify_items": null,
            "grid_row": null,
            "max_height": null,
            "align_content": null,
            "visibility": null,
            "align_self": null,
            "height": null,
            "min_height": null,
            "padding": null,
            "grid_auto_rows": null,
            "grid_gap": null,
            "max_width": null,
            "order": null,
            "_view_module_version": "1.2.0",
            "grid_template_areas": null,
            "object_position": null,
            "object_fit": null,
            "grid_auto_columns": null,
            "margin": null,
            "display": null,
            "left": null
          }
        }
      }
    }
  },
  "cells": [
    {
      "cell_type": "markdown",
      "metadata": {
        "id": "view-in-github",
        "colab_type": "text"
      },
      "source": [
        "<a href=\"https://colab.research.google.com/github/skywalker0803r/c620/blob/main/notebook/usage_example(colab)V3.ipynb\" target=\"_parent\"><img src=\"https://colab.research.google.com/assets/colab-badge.svg\" alt=\"Open In Colab\"/></a>"
      ]
    },
    {
      "cell_type": "code",
      "metadata": {
        "colab": {
          "base_uri": "https://localhost:8080/"
        },
        "id": "BE8ESORplwrC",
        "outputId": "efee8331-c443-4182-ff76-6ee1049d9d09"
      },
      "source": [
        "!git clone https://github.com/skywalker0803r/c620.git\n",
        "!pip install autorch > log.txt\n",
        "!pip install optuna > log.txt"
      ],
      "execution_count": 1,
      "outputs": [
        {
          "output_type": "stream",
          "text": [
            "Cloning into 'c620'...\n",
            "remote: Enumerating objects: 2445, done.\u001b[K\n",
            "remote: Counting objects: 100% (175/175), done.\u001b[K\n",
            "remote: Compressing objects: 100% (149/149), done.\u001b[K\n",
            "remote: Total 2445 (delta 102), reused 53 (delta 25), pack-reused 2270\u001b[K\n",
            "Receiving objects: 100% (2445/2445), 64.68 MiB | 24.46 MiB/s, done.\n",
            "Resolving deltas: 100% (1595/1595), done.\n"
          ],
          "name": "stdout"
        }
      ]
    },
    {
      "cell_type": "code",
      "metadata": {
        "colab": {
          "base_uri": "https://localhost:8080/"
        },
        "id": "P_RJHrMhl0V2",
        "outputId": "6ead48e5-54ad-4809-eb99-db109b55935c"
      },
      "source": [
        "from c620.FV2 import AllSystem\n",
        "from c620.configV2 import config\n",
        "import joblib\n",
        "import numpy as np\n",
        "import pandas as pd\n",
        "import os\n",
        "os.chdir('/content/c620')\n",
        "print(os.getcwd())\n",
        "!git pull"
      ],
      "execution_count": 2,
      "outputs": [
        {
          "output_type": "stream",
          "text": [
            "/content/c620\n",
            "Already up to date.\n"
          ],
          "name": "stdout"
        }
      ]
    },
    {
      "cell_type": "markdown",
      "metadata": {
        "id": "_wmJcEZtl3xD"
      },
      "source": [
        "# demo data"
      ]
    },
    {
      "cell_type": "code",
      "metadata": {
        "colab": {
          "base_uri": "https://localhost:8080/"
        },
        "id": "rWGx7JA-l1x9",
        "outputId": "7e85b2a9-428c-40f8-fb09-457420f9a646"
      },
      "source": [
        "demo = joblib.load('./data/demo.pkl')\n",
        "print(demo.keys())\n",
        "icg_input = demo['icg_input']\n",
        "c620_feed = demo['c620_feed']\n",
        "t651_feed = demo['t651_feed']"
      ],
      "execution_count": 3,
      "outputs": [
        {
          "output_type": "stream",
          "text": [
            "dict_keys(['icg_input', 'c620_feed', 't651_feed', 'c620_op', 'c620_wt', 'c660_op', 'c660_wt', 'c670_op', 'c670_wt'])\n"
          ],
          "name": "stdout"
        }
      ]
    },
    {
      "cell_type": "markdown",
      "metadata": {
        "id": "RzHFJBrQmLmM"
      },
      "source": [
        "# 原本SPEC"
      ]
    },
    {
      "cell_type": "code",
      "metadata": {
        "colab": {
          "base_uri": "https://localhost:8080/",
          "height": 80
        },
        "id": "Nh913RYol9sN",
        "outputId": "cb65d9d7-e43a-48bb-8470-8418d82a2bd0"
      },
      "source": [
        "icg_input[['Tatoray Stripper C620 Operation_Specifications_Spec 2 : Distillate Rate_m3/hr']]"
      ],
      "execution_count": 4,
      "outputs": [
        {
          "output_type": "execute_result",
          "data": {
            "text/html": [
              "<div>\n",
              "<style scoped>\n",
              "    .dataframe tbody tr th:only-of-type {\n",
              "        vertical-align: middle;\n",
              "    }\n",
              "\n",
              "    .dataframe tbody tr th {\n",
              "        vertical-align: top;\n",
              "    }\n",
              "\n",
              "    .dataframe thead th {\n",
              "        text-align: right;\n",
              "    }\n",
              "</style>\n",
              "<table border=\"1\" class=\"dataframe\">\n",
              "  <thead>\n",
              "    <tr style=\"text-align: right;\">\n",
              "      <th></th>\n",
              "      <th>Tatoray Stripper C620 Operation_Specifications_Spec 2 : Distillate Rate_m3/hr</th>\n",
              "    </tr>\n",
              "  </thead>\n",
              "  <tbody>\n",
              "    <tr>\n",
              "      <th>139-017</th>\n",
              "      <td>2.75</td>\n",
              "    </tr>\n",
              "  </tbody>\n",
              "</table>\n",
              "</div>"
            ],
            "text/plain": [
              "         Tatoray Stripper C620 Operation_Specifications_Spec 2 : Distillate Rate_m3/hr\n",
              "139-017                                               2.75                            "
            ]
          },
          "metadata": {
            "tags": []
          },
          "execution_count": 4
        }
      ]
    },
    {
      "cell_type": "code",
      "metadata": {
        "colab": {
          "base_uri": "https://localhost:8080/",
          "height": 80
        },
        "id": "mVrNHmPTl4ks",
        "outputId": "e4c7fef2-05f5-4199-a42f-49c1e1b96e62"
      },
      "source": [
        "icg_input[['Simulation Case Conditions_Spec 2 : NA in Benzene_ppmw']]"
      ],
      "execution_count": 5,
      "outputs": [
        {
          "output_type": "execute_result",
          "data": {
            "text/html": [
              "<div>\n",
              "<style scoped>\n",
              "    .dataframe tbody tr th:only-of-type {\n",
              "        vertical-align: middle;\n",
              "    }\n",
              "\n",
              "    .dataframe tbody tr th {\n",
              "        vertical-align: top;\n",
              "    }\n",
              "\n",
              "    .dataframe thead th {\n",
              "        text-align: right;\n",
              "    }\n",
              "</style>\n",
              "<table border=\"1\" class=\"dataframe\">\n",
              "  <thead>\n",
              "    <tr style=\"text-align: right;\">\n",
              "      <th></th>\n",
              "      <th>Simulation Case Conditions_Spec 2 : NA in Benzene_ppmw</th>\n",
              "    </tr>\n",
              "  </thead>\n",
              "  <tbody>\n",
              "    <tr>\n",
              "      <th>139-017</th>\n",
              "      <td>920.0</td>\n",
              "    </tr>\n",
              "  </tbody>\n",
              "</table>\n",
              "</div>"
            ],
            "text/plain": [
              "         Simulation Case Conditions_Spec 2 : NA in Benzene_ppmw\n",
              "139-017                                              920.0     "
            ]
          },
          "metadata": {
            "tags": []
          },
          "execution_count": 5
        }
      ]
    },
    {
      "cell_type": "code",
      "metadata": {
        "colab": {
          "base_uri": "https://localhost:8080/",
          "height": 80
        },
        "id": "8a5lsnSol79q",
        "outputId": "486f0309-bd2b-4c79-b36c-753feafa1c3e"
      },
      "source": [
        "icg_input[['Simulation Case Conditions_Spec 1 : Benzene in C620 Sidedraw_wt%']]"
      ],
      "execution_count": 6,
      "outputs": [
        {
          "output_type": "execute_result",
          "data": {
            "text/html": [
              "<div>\n",
              "<style scoped>\n",
              "    .dataframe tbody tr th:only-of-type {\n",
              "        vertical-align: middle;\n",
              "    }\n",
              "\n",
              "    .dataframe tbody tr th {\n",
              "        vertical-align: top;\n",
              "    }\n",
              "\n",
              "    .dataframe thead th {\n",
              "        text-align: right;\n",
              "    }\n",
              "</style>\n",
              "<table border=\"1\" class=\"dataframe\">\n",
              "  <thead>\n",
              "    <tr style=\"text-align: right;\">\n",
              "      <th></th>\n",
              "      <th>Simulation Case Conditions_Spec 1 : Benzene in C620 Sidedraw_wt%</th>\n",
              "    </tr>\n",
              "  </thead>\n",
              "  <tbody>\n",
              "    <tr>\n",
              "      <th>139-017</th>\n",
              "      <td>80.0</td>\n",
              "    </tr>\n",
              "  </tbody>\n",
              "</table>\n",
              "</div>"
            ],
            "text/plain": [
              "         Simulation Case Conditions_Spec 1 : Benzene in C620 Sidedraw_wt%\n",
              "139-017                                               80.0               "
            ]
          },
          "metadata": {
            "tags": []
          },
          "execution_count": 6
        }
      ]
    },
    {
      "cell_type": "code",
      "metadata": {
        "colab": {
          "base_uri": "https://localhost:8080/",
          "height": 80
        },
        "id": "a3cLgEyll8Yy",
        "outputId": "368dd3b1-8342-40e5-bc31-4c9a1d857396"
      },
      "source": [
        "icg_input[['Benzene Column C660 Operation_Specifications_Spec 3 : Toluene in Benzene_ppmw']]"
      ],
      "execution_count": 7,
      "outputs": [
        {
          "output_type": "execute_result",
          "data": {
            "text/html": [
              "<div>\n",
              "<style scoped>\n",
              "    .dataframe tbody tr th:only-of-type {\n",
              "        vertical-align: middle;\n",
              "    }\n",
              "\n",
              "    .dataframe tbody tr th {\n",
              "        vertical-align: top;\n",
              "    }\n",
              "\n",
              "    .dataframe thead th {\n",
              "        text-align: right;\n",
              "    }\n",
              "</style>\n",
              "<table border=\"1\" class=\"dataframe\">\n",
              "  <thead>\n",
              "    <tr style=\"text-align: right;\">\n",
              "      <th></th>\n",
              "      <th>Benzene Column C660 Operation_Specifications_Spec 3 : Toluene in Benzene_ppmw</th>\n",
              "    </tr>\n",
              "  </thead>\n",
              "  <tbody>\n",
              "    <tr>\n",
              "      <th>139-017</th>\n",
              "      <td>2.5</td>\n",
              "    </tr>\n",
              "  </tbody>\n",
              "</table>\n",
              "</div>"
            ],
            "text/plain": [
              "         Benzene Column C660 Operation_Specifications_Spec 3 : Toluene in Benzene_ppmw\n",
              "139-017                                                2.5                            "
            ]
          },
          "metadata": {
            "tags": []
          },
          "execution_count": 7
        }
      ]
    },
    {
      "cell_type": "markdown",
      "metadata": {
        "id": "niCrC4tmmSK4"
      },
      "source": [
        "# 第一次試算 簡稱 op1"
      ]
    },
    {
      "cell_type": "code",
      "metadata": {
        "id": "PVcY5I6BmKQc"
      },
      "source": [
        "f = joblib.load('/content/c620/model/allsystem.pkl')\n",
        "c620_wt1,c620_op1,c660_wt1,c660_op1,c670_wt1,c670_op1 = f.inference(demo['icg_input'].copy(),demo['c620_feed'].copy(),demo['t651_feed'].copy())"
      ],
      "execution_count": 8,
      "outputs": []
    },
    {
      "cell_type": "code",
      "metadata": {
        "colab": {
          "base_uri": "https://localhost:8080/"
        },
        "id": "ks__ncaPFlSk",
        "outputId": "0305c26d-bc3f-4d08-93fa-95eff778d415"
      },
      "source": [
        "na_idx = [1,2,3,4,5,6,8,9,11,13,14,15,20,22,29] \n",
        "c660_wt1.filter(regex='Side').filter(regex='wt%').iloc[:,na_idx].sum(axis=1).values[0]*10000"
      ],
      "execution_count": 9,
      "outputs": [
        {
          "output_type": "execute_result",
          "data": {
            "text/plain": [
              "938.272161011206"
            ]
          },
          "metadata": {
            "tags": []
          },
          "execution_count": 9
        }
      ]
    },
    {
      "cell_type": "markdown",
      "metadata": {
        "id": "co31Zd0AmYKe"
      },
      "source": [
        "# 第二次 試算 簡稱 op2"
      ]
    },
    {
      "cell_type": "markdown",
      "metadata": {
        "id": "8mkEVTlkmeNe"
      },
      "source": [
        "* 第二次試算直接代dist=0 觀察輸出NA in BZ 然後寫個if else 判斷是否要再增dist rate\n",
        "\n",
        "* T651_m3/hr 若大於 150 則 Benzene in C620 Sidedraw_wt%' = 85\n",
        "* Toluene in Benzene_ppmw 代 10"
      ]
    },
    {
      "cell_type": "code",
      "metadata": {
        "colab": {
          "base_uri": "https://localhost:8080/"
        },
        "id": "HfxKUSFTmTYE",
        "outputId": "cad4bde1-4b9b-4feb-abd4-7d3e8f61fa65"
      },
      "source": [
        "icg_input2 = demo['icg_input'].copy()\n",
        "\n",
        "# 第二次試算直接代dist=0 觀察輸出NA in BZ 然後寫個if else 判斷是否要再增dist rate\n",
        "icg_input2['Tatoray Stripper C620 Operation_Specifications_Spec 2 : Distillate Rate_m3/hr'] = 0.0\n",
        "\n",
        "# T651_m3/hr 若大於 150 則 Benzene in C620 Sidedraw_wt%' = 85\n",
        "if icg_input['Simulation Case Conditions_Feed Rate_Feed from T651_m3/hr'].values[0] > 150:\n",
        "  icg_input2['Simulation Case Conditions_Spec 1 : Benzene in C620 Sidedraw_wt%'] = 85\n",
        "  print('Simulation Case Conditions_Spec 1 : Benzene in C620 Sidedraw_wt%=85')\n",
        "else:\n",
        "  icg_input2['Simulation Case Conditions_Spec 1 : Benzene in C620 Sidedraw_wt%'] = 70\n",
        "  print('Simulation Case Conditions_Spec 1 : Benzene in C620 Sidedraw_wt%=70')\n",
        "\n",
        "# Toluene in Benzene_ppmw 代 10\n",
        "icg_input2['Benzene Column C660 Operation_Specifications_Spec 3 : Toluene in Benzene_ppmw'] = 10\n",
        "\n",
        "c620_wt2,c620_op2,c660_wt2,c660_op2,c670_wt2,c670_op2 = f.inference(icg_input2.copy(),demo['c620_feed'].copy(),demo['t651_feed'].copy())"
      ],
      "execution_count": 10,
      "outputs": [
        {
          "output_type": "stream",
          "text": [
            "Simulation Case Conditions_Spec 1 : Benzene in C620 Sidedraw_wt%=70\n"
          ],
          "name": "stdout"
        }
      ]
    },
    {
      "cell_type": "code",
      "metadata": {
        "colab": {
          "base_uri": "https://localhost:8080/"
        },
        "id": "v9A4yY0mmyst",
        "outputId": "9ba12c83-53b6-4b9a-aca6-08690df8f3ed"
      },
      "source": [
        "na_idx = [1,2,3,4,5,6,8,9,11,13,14,15,20,22,29] \n",
        "c660_wt2.filter(regex='Side').filter(regex='wt%').iloc[:,na_idx].sum(axis=1).values[0]*10000"
      ],
      "execution_count": 11,
      "outputs": [
        {
          "output_type": "execute_result",
          "data": {
            "text/plain": [
              "1035.5719199391758"
            ]
          },
          "metadata": {
            "tags": []
          },
          "execution_count": 11
        }
      ]
    },
    {
      "cell_type": "markdown",
      "metadata": {
        "id": "jEzWFF0fm6me"
      },
      "source": [
        "# 如上所顯示 當dist rate 直接代0得到1035已經超標了 所以不行"
      ]
    },
    {
      "cell_type": "markdown",
      "metadata": {
        "id": "Nl0zwpKZnD9e"
      },
      "source": [
        "* 想法寫個for迴圈加判斷式將dist rate 往上調 直到c660nainbz <= 980"
      ]
    },
    {
      "cell_type": "code",
      "metadata": {
        "colab": {
          "base_uri": "https://localhost:8080/",
          "height": 729,
          "referenced_widgets": [
            "cbddac6913d84c11994ee87ffefd6754",
            "3b0c8dffe1404793b644caf009217b7d",
            "87bf52e80fa84ea39d91141d7628260b",
            "fb534378176d4056a16f2191d3e3014c",
            "7fb556f6cd7f4d539b7f33047fb6779d",
            "8b0b2cb03bb0495aa75d5cf0844a8b50",
            "f399b7d9541b48199bf4bd3dd070299e",
            "6d9885ad17574b45931039eccfcb171d"
          ]
        },
        "id": "gVqDnITHm2Gr",
        "outputId": "1f876464-0297-4e3a-d16b-99208c6946dc"
      },
      "source": [
        "from tqdm import tqdm_notebook as tqdm\n",
        "\n",
        "history={}\n",
        "history['distrate'] = []\n",
        "history['nainbz'] = []\n",
        "step = 0.05\n",
        "\n",
        "for dist_rate in tqdm(np.arange(0,10,step)):\n",
        "  icg_input2 = demo['icg_input'].copy()\n",
        "  icg_input2['Tatoray Stripper C620 Operation_Specifications_Spec 2 : Distillate Rate_m3/hr'] = dist_rate\n",
        "  c620_wt2,c620_op2,c660_wt2,c660_op2,c670_wt2,c670_op2 = f.inference(icg_input2,demo['c620_feed'],demo['t651_feed'])\n",
        "  na_idx = [1,2,3,4,5,6,8,9,11,13,14,15,20,22,29] \n",
        "  nainbz = c660_wt2.filter(regex='Side').filter(regex='wt%').iloc[:,na_idx].sum(axis=1).values[0]*10000\n",
        "  print(f'dist_rate:{dist_rate} nainbz:{nainbz}')\n",
        "  history['distrate'].append(dist_rate)\n",
        "  history['nainbz'].append(nainbz)\n",
        "  if nainbz <= 980:\n",
        "    break"
      ],
      "execution_count": 12,
      "outputs": [
        {
          "output_type": "display_data",
          "data": {
            "application/vnd.jupyter.widget-view+json": {
              "model_id": "cbddac6913d84c11994ee87ffefd6754",
              "version_minor": 0,
              "version_major": 2
            },
            "text/plain": [
              "HBox(children=(FloatProgress(value=0.0, max=200.0), HTML(value='')))"
            ]
          },
          "metadata": {
            "tags": []
          }
        },
        {
          "output_type": "stream",
          "text": [
            "dist_rate:0.0 nainbz:1015.7710648353835\n",
            "dist_rate:0.05 nainbz:1015.6771040227118\n",
            "dist_rate:0.1 nainbz:1015.6723858034645\n",
            "dist_rate:0.15000000000000002 nainbz:1015.5293241865536\n",
            "dist_rate:0.2 nainbz:1015.3640445615601\n",
            "dist_rate:0.25 nainbz:1015.405556314206\n",
            "dist_rate:0.30000000000000004 nainbz:1015.1818345016469\n",
            "dist_rate:0.35000000000000003 nainbz:1014.9255208811475\n",
            "dist_rate:0.4 nainbz:1014.6395417866884\n",
            "dist_rate:0.45 nainbz:1014.3213599833574\n",
            "dist_rate:0.5 nainbz:1013.957387652464\n",
            "dist_rate:0.55 nainbz:1013.5661621229749\n",
            "dist_rate:0.6000000000000001 nainbz:1013.243294560782\n",
            "dist_rate:0.65 nainbz:1012.7599654551252\n",
            "dist_rate:0.7000000000000001 nainbz:1012.2364821148344\n",
            "dist_rate:0.75 nainbz:1011.6602884620497\n",
            "dist_rate:0.8 nainbz:1011.0375837744251\n",
            "dist_rate:0.8500000000000001 nainbz:1010.3577107932769\n",
            "dist_rate:0.9 nainbz:1009.6249154458709\n",
            "dist_rate:0.9500000000000001 nainbz:1008.8327512901456\n",
            "dist_rate:1.0 nainbz:1007.9833672737103\n",
            "dist_rate:1.05 nainbz:1007.0805909626496\n",
            "dist_rate:1.1 nainbz:1006.1056294808382\n",
            "dist_rate:1.1500000000000001 nainbz:1005.0686500969781\n",
            "dist_rate:1.2000000000000002 nainbz:1003.960763374228\n",
            "dist_rate:1.25 nainbz:1002.6777854554246\n",
            "dist_rate:1.3 nainbz:1001.4391525527776\n",
            "dist_rate:1.35 nainbz:1000.1351935127942\n",
            "dist_rate:1.4000000000000001 nainbz:998.7623315575518\n",
            "dist_rate:1.4500000000000002 nainbz:997.314176318535\n",
            "dist_rate:1.5 nainbz:995.5782841741672\n",
            "dist_rate:1.55 nainbz:993.9934087086924\n",
            "dist_rate:1.6 nainbz:992.2314197672334\n",
            "dist_rate:1.6500000000000001 nainbz:990.5144587913235\n",
            "dist_rate:1.7000000000000002 nainbz:988.511743182202\n",
            "dist_rate:1.75 nainbz:986.4483887166555\n",
            "dist_rate:1.8 nainbz:984.5434824239647\n",
            "dist_rate:1.85 nainbz:982.4726558113734\n",
            "dist_rate:1.9000000000000001 nainbz:980.4519474743291\n",
            "dist_rate:1.9500000000000002 nainbz:977.9566372709805\n"
          ],
          "name": "stdout"
        }
      ]
    },
    {
      "cell_type": "code",
      "metadata": {
        "colab": {
          "base_uri": "https://localhost:8080/",
          "height": 299
        },
        "id": "abzXFP1_oayd",
        "outputId": "e321a74f-c75a-4925-a95a-6e099ff389d3"
      },
      "source": [
        "print(f'dist_rate:{dist_rate} nainbz:{nainbz}')\n",
        "import matplotlib.pyplot as plt\n",
        "\n",
        "plt.plot(history['distrate'],history['nainbz'])"
      ],
      "execution_count": 13,
      "outputs": [
        {
          "output_type": "stream",
          "text": [
            "dist_rate:1.9500000000000002 nainbz:977.9566372709805\n"
          ],
          "name": "stdout"
        },
        {
          "output_type": "execute_result",
          "data": {
            "text/plain": [
              "[<matplotlib.lines.Line2D at 0x7f36dbc51c50>]"
            ]
          },
          "metadata": {
            "tags": []
          },
          "execution_count": 13
        },
        {
          "output_type": "display_data",
          "data": {
            "image/png": "[encoded data removed]",
            "text/plain": [
              "<Figure size 432x288 with 1 Axes>"
            ]
          },
          "metadata": {
            "tags": [],
            "needs_background": "light"
          }
        }
      ]
    },
    {
      "cell_type": "markdown",
      "metadata": {
        "id": "XGw87pZrGlHw"
      },
      "source": [
        "# 調幅"
      ]
    },
    {
      "cell_type": "code",
      "metadata": {
        "colab": {
          "base_uri": "https://localhost:8080/",
          "height": 148
        },
        "id": "tuiWTDGlp2pT",
        "outputId": "9e6409e5-675d-4f20-f1fa-a6a1a1c6c690"
      },
      "source": [
        "c620_op2-c620_op1"
      ],
      "execution_count": 14,
      "outputs": [
        {
          "output_type": "execute_result",
          "data": {
            "text/html": [
              "<div>\n",
              "<style scoped>\n",
              "    .dataframe tbody tr th:only-of-type {\n",
              "        vertical-align: middle;\n",
              "    }\n",
              "\n",
              "    .dataframe tbody tr th {\n",
              "        vertical-align: top;\n",
              "    }\n",
              "\n",
              "    .dataframe thead th {\n",
              "        text-align: right;\n",
              "    }\n",
              "</style>\n",
              "<table border=\"1\" class=\"dataframe\">\n",
              "  <thead>\n",
              "    <tr style=\"text-align: right;\">\n",
              "      <th></th>\n",
              "      <th>Density_Feed Properties</th>\n",
              "      <th>Density_Vent Gas Production Rate and Composition</th>\n",
              "      <th>Density_Distillate Production Rate and Composition</th>\n",
              "      <th>Density_Sidedraw Production Rate and Composition</th>\n",
              "      <th>Density_Bottoms Production Rate and Composition</th>\n",
              "      <th>Tatoray Stripper C620 Operation_Yield Summary_Reflux Rate_m3/hr</th>\n",
              "      <th>Tatoray Stripper C620 Operation_Heat Duty_Condenser Heat Duty_Mkcal/hr</th>\n",
              "      <th>Tatoray Stripper C620 Operation_Heat Duty_Reboiler Heat Duty_Mkcal/hr</th>\n",
              "      <th>Tatoray Stripper C620 Operation_Column Temp Profile_C620 Tray 14 (Control)_oC</th>\n",
              "      <th>Tatoray Stripper C620 Operation_Column Temp Profile_C620 Tray 34 (Control)_oC</th>\n",
              "    </tr>\n",
              "  </thead>\n",
              "  <tbody>\n",
              "    <tr>\n",
              "      <th>139-017</th>\n",
              "      <td>0.0</td>\n",
              "      <td>0.002988</td>\n",
              "      <td>-0.007058</td>\n",
              "      <td>-0.000029</td>\n",
              "      <td>7.748604e-07</td>\n",
              "      <td>1.040726</td>\n",
              "      <td>-0.062447</td>\n",
              "      <td>-0.011635</td>\n",
              "      <td>0.001495</td>\n",
              "      <td>-0.009354</td>\n",
              "    </tr>\n",
              "  </tbody>\n",
              "</table>\n",
              "</div>"
            ],
            "text/plain": [
              "         Density_Feed Properties  ...  Tatoray Stripper C620 Operation_Column Temp Profile_C620 Tray 34 (Control)_oC\n",
              "139-017                      0.0  ...                                          -0.009354                            \n",
              "\n",
              "[1 rows x 10 columns]"
            ]
          },
          "metadata": {
            "tags": []
          },
          "execution_count": 14
        }
      ]
    },
    {
      "cell_type": "code",
      "metadata": {
        "colab": {
          "base_uri": "https://localhost:8080/",
          "height": 148
        },
        "id": "KLLluEKMp6Vb",
        "outputId": "97fc42c5-ce59-4fb2-d30a-be30d04b37d2"
      },
      "source": [
        "c660_op2-c660_op1"
      ],
      "execution_count": 15,
      "outputs": [
        {
          "output_type": "execute_result",
          "data": {
            "text/html": [
              "<div>\n",
              "<style scoped>\n",
              "    .dataframe tbody tr th:only-of-type {\n",
              "        vertical-align: middle;\n",
              "    }\n",
              "\n",
              "    .dataframe tbody tr th {\n",
              "        vertical-align: top;\n",
              "    }\n",
              "\n",
              "    .dataframe thead th {\n",
              "        text-align: right;\n",
              "    }\n",
              "</style>\n",
              "<table border=\"1\" class=\"dataframe\">\n",
              "  <thead>\n",
              "    <tr style=\"text-align: right;\">\n",
              "      <th></th>\n",
              "      <th>Density_Feed Properties</th>\n",
              "      <th>Density_Vent Gas Production Rate and Composition</th>\n",
              "      <th>Density_Distillate (Benzene Drag) Production Rate and Composition</th>\n",
              "      <th>Density_Sidedraw (Benzene )Production Rate and Composition</th>\n",
              "      <th>Density_Bottoms Production Rate and Composition</th>\n",
              "      <th>Benzene Column C660 Operation_Yield Summary_Reflux Rate_m3/hr</th>\n",
              "      <th>Benzene Column C660 Operation_Heat Duty_Condenser Heat Duty_Mkcal/hr</th>\n",
              "      <th>Benzene Column C660 Operation_Heat Duty_Reboiler Heat Duty_Mkcal/hr</th>\n",
              "      <th>Benzene Column C660 Operation_Column Temp Profile_C660 Tray 6 (SD &amp; Control)_oC</th>\n",
              "      <th>Benzene Column C660 Operation_Column Temp Profile_C660 Tray 23 (Control)_oC</th>\n",
              "    </tr>\n",
              "  </thead>\n",
              "  <tbody>\n",
              "    <tr>\n",
              "      <th>139-017</th>\n",
              "      <td>-5.364418e-07</td>\n",
              "      <td>-0.003038</td>\n",
              "      <td>0.000897</td>\n",
              "      <td>0.000002</td>\n",
              "      <td>-0.000005</td>\n",
              "      <td>1.517303</td>\n",
              "      <td>0.259623</td>\n",
              "      <td>0.215545</td>\n",
              "      <td>0.012787</td>\n",
              "      <td>0.053726</td>\n",
              "    </tr>\n",
              "  </tbody>\n",
              "</table>\n",
              "</div>"
            ],
            "text/plain": [
              "         Density_Feed Properties  ...  Benzene Column C660 Operation_Column Temp Profile_C660 Tray 23 (Control)_oC\n",
              "139-017            -5.364418e-07  ...                                           0.053726                          \n",
              "\n",
              "[1 rows x 10 columns]"
            ]
          },
          "metadata": {
            "tags": []
          },
          "execution_count": 15
        }
      ]
    },
    {
      "cell_type": "code",
      "metadata": {
        "colab": {
          "base_uri": "https://localhost:8080/",
          "height": 131
        },
        "id": "Zj3UcDwpGnpd",
        "outputId": "6e5d68a7-75ca-4d02-9ff1-c93ebcbcf343"
      },
      "source": [
        "c670_op2-c670_op1"
      ],
      "execution_count": 16,
      "outputs": [
        {
          "output_type": "execute_result",
          "data": {
            "text/html": [
              "<div>\n",
              "<style scoped>\n",
              "    .dataframe tbody tr th:only-of-type {\n",
              "        vertical-align: middle;\n",
              "    }\n",
              "\n",
              "    .dataframe tbody tr th {\n",
              "        vertical-align: top;\n",
              "    }\n",
              "\n",
              "    .dataframe thead th {\n",
              "        text-align: right;\n",
              "    }\n",
              "</style>\n",
              "<table border=\"1\" class=\"dataframe\">\n",
              "  <thead>\n",
              "    <tr style=\"text-align: right;\">\n",
              "      <th></th>\n",
              "      <th>Density_Distillate Production Rate and Composition</th>\n",
              "      <th>Density_Bottoms Production Rate and Composition</th>\n",
              "      <th>Toluene Column C670 Operation_Yield \\nSummary_Reflux Rate_m3/hr</th>\n",
              "      <th>Toluene Column C670 Operation_Heat Duty_Condenser Heat Duty_Mkcal/hr</th>\n",
              "      <th>Toluene Column C670 Operation_Heat Duty_Reboiler Heat Duty_Mkcal/hr</th>\n",
              "      <th>Toluene Column C670 Operation_Column Temp Profile_C670 Tray 24 (Control)_oC</th>\n",
              "      <th>Toluene Column C670 Operation_Column Temp Profile_C670 Btm Temp (Control)_oC</th>\n",
              "    </tr>\n",
              "  </thead>\n",
              "  <tbody>\n",
              "    <tr>\n",
              "      <th>139-017</th>\n",
              "      <td>0.0</td>\n",
              "      <td>2.980232e-07</td>\n",
              "      <td>-0.749512</td>\n",
              "      <td>-0.063395</td>\n",
              "      <td>-0.061193</td>\n",
              "      <td>-0.008789</td>\n",
              "      <td>-0.012009</td>\n",
              "    </tr>\n",
              "  </tbody>\n",
              "</table>\n",
              "</div>"
            ],
            "text/plain": [
              "         Density_Distillate Production Rate and Composition  ...  Toluene Column C670 Operation_Column Temp Profile_C670 Btm Temp (Control)_oC\n",
              "139-017                                                0.0   ...                                          -0.012009                           \n",
              "\n",
              "[1 rows x 7 columns]"
            ]
          },
          "metadata": {
            "tags": []
          },
          "execution_count": 16
        }
      ]
    },
    {
      "cell_type": "code",
      "metadata": {
        "id": "AbdO65HiGrYC"
      },
      "source": [
        ""
      ],
      "execution_count": 16,
      "outputs": []
    }
  ]
}