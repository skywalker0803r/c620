{
  "nbformat": 4,
  "nbformat_minor": 0,
  "metadata": {
    "colab": {
      "name": "transferlearning_ICG.ipynb",
      "provenance": [],
      "mount_file_id": "1EKygJZI1b0QPRiekY4VAJJfYpPgl-W4Z",
      "authorship_tag": "ABX9TyOz/RlH+w2ESQw87kAE4Qnj",
      "include_colab_link": true
    },
    "kernelspec": {
      "name": "python3",
      "display_name": "Python 3"
    }
  },
  "cells": [
    {
      "cell_type": "markdown",
      "metadata": {
        "id": "view-in-github",
        "colab_type": "text"
      },
      "source": [
        "<a href=\"https://colab.research.google.com/github/skywalker0803r/c620/blob/main/notebook/transferlearning_ICG.ipynb\" target=\"_parent\"><img src=\"https://colab.research.google.com/assets/colab-badge.svg\" alt=\"Open In Colab\"/></a>"
      ]
    },
    {
      "cell_type": "code",
      "metadata": {
        "id": "PtyLeZbwbvka"
      },
      "source": [
        "import torch\n",
        "from torch import nn\n",
        "import numpy as np\n",
        "import pandas as pd\n",
        "import joblib\n",
        "import matplotlib.pyplot as plt\n",
        "!pip install catboost > log.txt\n",
        "from sklearn.linear_model import LinearRegression\n",
        "from sklearn.preprocessing import StandardScaler\n",
        "from sklearn.svm import SVR\n",
        "from sklearn.pipeline import Pipeline\n",
        "import random\n",
        "torch.manual_seed(11)\n",
        "np.random.seed(11)\n",
        "random.seed(11)"
      ],
      "execution_count": 1,
      "outputs": []
    },
    {
      "cell_type": "markdown",
      "metadata": {
        "id": "raKQ2auseolU"
      },
      "source": [
        "# help function"
      ]
    },
    {
      "cell_type": "code",
      "metadata": {
        "id": "m1USBJpYcAEx"
      },
      "source": [
        "from sklearn.metrics import r2_score,mean_squared_error\n",
        "\n",
        "def mape(y_true, y_pred, e = 2e-2):\n",
        "    y_true, y_pred = np.array(y_true), np.array(y_pred)\n",
        "    mask = y_true > e\n",
        "    y_true, y_pred = y_true[mask], y_pred[mask]\n",
        "    return np.mean(np.abs((y_true - y_pred) / y_true)) * 100\n",
        "def show_metrics(y_real,y_pred,e=2e-2):\n",
        "    res = pd.DataFrame(index=y_pred.columns,columns=['R2','MSE','MAPE'])\n",
        "    for i in y_pred.columns:\n",
        "        res.loc[i,'R2'] = np.clip(r2_score(y_real[i],y_pred[i]),0,1)\n",
        "        res.loc[i,'MSE'] = mean_squared_error(y_real[i],y_pred[i])\n",
        "        res.loc[i,'MAPE'] = mape(y_real[i],y_pred[i],e)\n",
        "    res.loc['AVG'] = res.mean(axis=0)\n",
        "    return res\n",
        "\n",
        "def get_col(df,name):\n",
        "  return df.columns[df.columns.str.contains(name)]"
      ],
      "execution_count": 2,
      "outputs": []
    },
    {
      "cell_type": "markdown",
      "metadata": {
        "id": "meM80a42erE_"
      },
      "source": [
        "# load data"
      ]
    },
    {
      "cell_type": "code",
      "metadata": {
        "colab": {
          "base_uri": "https://localhost:8080/"
        },
        "id": "mHczuv3rcDV9",
        "outputId": "034f0f5e-db13-4b75-9bd8-dd4c38815ee4"
      },
      "source": [
        "c = joblib.load('/content/drive/MyDrive/台塑輕油案子/data/c620/col_names/icg_col_names.pkl')\n",
        "c.keys(),c['x'],c['y'],len(c['x']),len(c['y'])"
      ],
      "execution_count": 3,
      "outputs": [
        {
          "output_type": "execute_result",
          "data": {
            "text/plain": [
              "(dict_keys(['x', 'y']),\n",
              " ['Simulation Case Conditions_Feed Rate_Feed from V615 Btm_m3/hr',\n",
              "  'Simulation Case Conditions_Feed Rate_Feed from V615 Btm    NA_wt%',\n",
              "  'Simulation Case Conditions_Feed Rate_Feed from V615 Btm    Benzene_wt%',\n",
              "  'Simulation Case Conditions_Feed Rate_Feed from V615 Btm    Toluene_wt%',\n",
              "  'Simulation Case Conditions_Feed Rate_Feed from C820 Dist_m3/hr',\n",
              "  'Simulation Case Conditions_Feed Rate_Feed from C820 Dist    NA_wt%',\n",
              "  'Simulation Case Conditions_Feed Rate_Feed from C820 Dist    Benzene_wt%',\n",
              "  'Simulation Case Conditions_Feed Rate_Feed from C820 Dist    Toluene_wt%',\n",
              "  'Simulation Case Conditions_Feed Rate_Feed from T651_m3/hr',\n",
              "  'Simulation Case Conditions_Feed Rate_Feed from T651    NA_wt%',\n",
              "  'Simulation Case Conditions_Feed Rate_Feed from T651    Benzene_wt%',\n",
              "  'Simulation Case Conditions_Feed Rate_Feed from T651    Toluene_wt%',\n",
              "  'Simulation Case Conditions_Spec 1 : Benzene in C620 Sidedraw_wt%',\n",
              "  'Simulation Case Conditions_Spec 2 : NA in Benzene_ppmw'],\n",
              " ['Simulation Case Conditions_C620 Distillate Rate_m3/hr'],\n",
              " 14,\n",
              " 1)"
            ]
          },
          "metadata": {
            "tags": []
          },
          "execution_count": 3
        }
      ]
    },
    {
      "cell_type": "code",
      "metadata": {
        "colab": {
          "base_uri": "https://localhost:8080/",
          "height": 377
        },
        "id": "RunndggscLdU",
        "outputId": "5b1f9524-4c83-4f8b-87ac-843d3d4faa8d"
      },
      "source": [
        "simmulate_df = pd.read_csv('/content/drive/MyDrive/台塑輕油案子/data/c620/cleaned/c620_c670.csv',index_col=0)\n",
        "simmulate_df.head()"
      ],
      "execution_count": 4,
      "outputs": [
        {
          "output_type": "execute_result",
          "data": {
            "text/html": [
              "<div>\n",
              "<style scoped>\n",
              "    .dataframe tbody tr th:only-of-type {\n",
              "        vertical-align: middle;\n",
              "    }\n",
              "\n",
              "    .dataframe tbody tr th {\n",
              "        vertical-align: top;\n",
              "    }\n",
              "\n",
              "    .dataframe thead th {\n",
              "        text-align: right;\n",
              "    }\n",
              "</style>\n",
              "<table border=\"1\" class=\"dataframe\">\n",
              "  <thead>\n",
              "    <tr style=\"text-align: right;\">\n",
              "      <th></th>\n",
              "      <th>Simulation Case Conditions_Feed Rate_Feed from V615 Btm_m3/hr</th>\n",
              "      <th>Simulation Case Conditions_Feed Rate_Feed from V615 Btm    NA_wt%</th>\n",
              "      <th>Simulation Case Conditions_Feed Rate_Feed from V615 Btm    Benzene_wt%</th>\n",
              "      <th>Simulation Case Conditions_Feed Rate_Feed from V615 Btm    Toluene_wt%</th>\n",
              "      <th>Simulation Case Conditions_Feed Rate_Feed from C820 Dist_m3/hr</th>\n",
              "      <th>Simulation Case Conditions_Feed Rate_Feed from C820 Dist    NA_wt%</th>\n",
              "      <th>Simulation Case Conditions_Feed Rate_Feed from C820 Dist    Benzene_wt%</th>\n",
              "      <th>Simulation Case Conditions_Feed Rate_Feed from C820 Dist    Toluene_wt%</th>\n",
              "      <th>Simulation Case Conditions_Feed Rate_Feed from T651_m3/hr</th>\n",
              "      <th>Simulation Case Conditions_Feed Rate_Feed from T651    NA_wt%</th>\n",
              "      <th>Simulation Case Conditions_Feed Rate_Feed from T651    Benzene_wt%</th>\n",
              "      <th>Simulation Case Conditions_Feed Rate_Feed from T651    Toluene_wt%</th>\n",
              "      <th>Simulation Case Conditions_Spec 1 : Benzene in C620 Sidedraw_wt%</th>\n",
              "      <th>Simulation Case Conditions_Spec 2 : NA in Benzene_ppmw</th>\n",
              "      <th>Simulation Case Conditions_C620 Distillate Rate_m3/hr</th>\n",
              "    </tr>\n",
              "  </thead>\n",
              "  <tbody>\n",
              "    <tr>\n",
              "      <th>001-002</th>\n",
              "      <td>163.0</td>\n",
              "      <td>1.356</td>\n",
              "      <td>10.321001</td>\n",
              "      <td>40.887009</td>\n",
              "      <td>15.0</td>\n",
              "      <td>2.338977</td>\n",
              "      <td>74.302254</td>\n",
              "      <td>17.467825</td>\n",
              "      <td>32.0</td>\n",
              "      <td>0.4524</td>\n",
              "      <td>44.244228</td>\n",
              "      <td>44.786339</td>\n",
              "      <td>90.0</td>\n",
              "      <td>980.0</td>\n",
              "      <td>0.5</td>\n",
              "    </tr>\n",
              "    <tr>\n",
              "      <th>001-005</th>\n",
              "      <td>163.0</td>\n",
              "      <td>1.356</td>\n",
              "      <td>10.321001</td>\n",
              "      <td>40.887009</td>\n",
              "      <td>15.0</td>\n",
              "      <td>2.338977</td>\n",
              "      <td>74.302254</td>\n",
              "      <td>17.467825</td>\n",
              "      <td>32.0</td>\n",
              "      <td>0.4524</td>\n",
              "      <td>44.244228</td>\n",
              "      <td>44.786339</td>\n",
              "      <td>90.0</td>\n",
              "      <td>950.0</td>\n",
              "      <td>1.0</td>\n",
              "    </tr>\n",
              "    <tr>\n",
              "      <th>001-008</th>\n",
              "      <td>163.0</td>\n",
              "      <td>1.356</td>\n",
              "      <td>10.321001</td>\n",
              "      <td>40.887009</td>\n",
              "      <td>15.0</td>\n",
              "      <td>2.338977</td>\n",
              "      <td>74.302254</td>\n",
              "      <td>17.467825</td>\n",
              "      <td>32.0</td>\n",
              "      <td>0.4524</td>\n",
              "      <td>44.244228</td>\n",
              "      <td>44.786339</td>\n",
              "      <td>90.0</td>\n",
              "      <td>920.0</td>\n",
              "      <td>1.5</td>\n",
              "    </tr>\n",
              "    <tr>\n",
              "      <th>001-011</th>\n",
              "      <td>163.0</td>\n",
              "      <td>1.356</td>\n",
              "      <td>10.321001</td>\n",
              "      <td>40.887009</td>\n",
              "      <td>15.0</td>\n",
              "      <td>2.338977</td>\n",
              "      <td>74.302254</td>\n",
              "      <td>17.467825</td>\n",
              "      <td>32.0</td>\n",
              "      <td>0.4524</td>\n",
              "      <td>44.244228</td>\n",
              "      <td>44.786339</td>\n",
              "      <td>80.0</td>\n",
              "      <td>980.0</td>\n",
              "      <td>0.5</td>\n",
              "    </tr>\n",
              "    <tr>\n",
              "      <th>001-014</th>\n",
              "      <td>163.0</td>\n",
              "      <td>1.356</td>\n",
              "      <td>10.321001</td>\n",
              "      <td>40.887009</td>\n",
              "      <td>15.0</td>\n",
              "      <td>2.338977</td>\n",
              "      <td>74.302254</td>\n",
              "      <td>17.467825</td>\n",
              "      <td>32.0</td>\n",
              "      <td>0.4524</td>\n",
              "      <td>44.244228</td>\n",
              "      <td>44.786339</td>\n",
              "      <td>80.0</td>\n",
              "      <td>950.0</td>\n",
              "      <td>1.0</td>\n",
              "    </tr>\n",
              "  </tbody>\n",
              "</table>\n",
              "</div>"
            ],
            "text/plain": [
              "         Simulation Case Conditions_Feed Rate_Feed from V615 Btm_m3/hr  ...  Simulation Case Conditions_C620 Distillate Rate_m3/hr\n",
              "001-002                                              163.0              ...                                                0.5    \n",
              "001-005                                              163.0              ...                                                1.0    \n",
              "001-008                                              163.0              ...                                                1.5    \n",
              "001-011                                              163.0              ...                                                0.5    \n",
              "001-014                                              163.0              ...                                                1.0    \n",
              "\n",
              "[5 rows x 15 columns]"
            ]
          },
          "metadata": {
            "tags": []
          },
          "execution_count": 4
        }
      ]
    },
    {
      "cell_type": "code",
      "metadata": {
        "colab": {
          "base_uri": "https://localhost:8080/",
          "height": 377
        },
        "id": "RgtWG22Qcr3M",
        "outputId": "2c44bd5c-e139-47c2-d4cd-a0056d531041"
      },
      "source": [
        "real_df = pd.read_excel('/content/drive/MyDrive/台塑輕油案子/data/c620/明志_遷移式學習_訓練資料_寄送版/icg_data.xlsx',index_col=0)\n",
        "real_df.head()"
      ],
      "execution_count": 5,
      "outputs": [
        {
          "output_type": "execute_result",
          "data": {
            "text/html": [
              "<div>\n",
              "<style scoped>\n",
              "    .dataframe tbody tr th:only-of-type {\n",
              "        vertical-align: middle;\n",
              "    }\n",
              "\n",
              "    .dataframe tbody tr th {\n",
              "        vertical-align: top;\n",
              "    }\n",
              "\n",
              "    .dataframe thead th {\n",
              "        text-align: right;\n",
              "    }\n",
              "</style>\n",
              "<table border=\"1\" class=\"dataframe\">\n",
              "  <thead>\n",
              "    <tr style=\"text-align: right;\">\n",
              "      <th></th>\n",
              "      <th>Simulation Case Conditions_Feed Rate_Feed from V615 Btm_m3/hr</th>\n",
              "      <th>Simulation Case Conditions_Feed Rate_Feed from V615 Btm    NA_wt%</th>\n",
              "      <th>Simulation Case Conditions_Feed Rate_Feed from V615 Btm    Benzene_wt%</th>\n",
              "      <th>Simulation Case Conditions_Feed Rate_Feed from V615 Btm    Toluene_wt%</th>\n",
              "      <th>Simulation Case Conditions_Feed Rate_Feed from C820 Dist_m3/hr</th>\n",
              "      <th>Simulation Case Conditions_Feed Rate_Feed from C820 Dist    NA_wt%</th>\n",
              "      <th>Simulation Case Conditions_Feed Rate_Feed from C820 Dist    Benzene_wt%</th>\n",
              "      <th>Simulation Case Conditions_Feed Rate_Feed from C820 Dist    Toluene_wt%</th>\n",
              "      <th>Simulation Case Conditions_Feed Rate_Feed from T651_m3/hr</th>\n",
              "      <th>Simulation Case Conditions_Feed Rate_Feed from T651    NA_wt%</th>\n",
              "      <th>Simulation Case Conditions_Feed Rate_Feed from T651    Benzene_wt%</th>\n",
              "      <th>Simulation Case Conditions_Feed Rate_Feed from T651    Toluene_wt%</th>\n",
              "      <th>Simulation Case Conditions_Spec 1 : Benzene in C620 Sidedraw_wt%</th>\n",
              "      <th>Simulation Case Conditions_Spec 2 : NA in Benzene_ppmw</th>\n",
              "      <th>Simulation Case Conditions_C620 Distillate Rate_m3/hr</th>\n",
              "    </tr>\n",
              "  </thead>\n",
              "  <tbody>\n",
              "    <tr>\n",
              "      <th>2020-09-02</th>\n",
              "      <td>170.691412</td>\n",
              "      <td>1.106</td>\n",
              "      <td>10.119</td>\n",
              "      <td>36.193</td>\n",
              "      <td>13.220774</td>\n",
              "      <td>2.379</td>\n",
              "      <td>74.265</td>\n",
              "      <td>18.557</td>\n",
              "      <td>61.667779</td>\n",
              "      <td>0.449</td>\n",
              "      <td>38.5990</td>\n",
              "      <td>51.9470</td>\n",
              "      <td>83.631</td>\n",
              "      <td>763.0</td>\n",
              "      <td>0.0</td>\n",
              "    </tr>\n",
              "    <tr>\n",
              "      <th>2020-09-03</th>\n",
              "      <td>170.151049</td>\n",
              "      <td>1.220</td>\n",
              "      <td>10.180</td>\n",
              "      <td>36.200</td>\n",
              "      <td>13.121125</td>\n",
              "      <td>2.440</td>\n",
              "      <td>73.700</td>\n",
              "      <td>19.010</td>\n",
              "      <td>60.054792</td>\n",
              "      <td>0.428</td>\n",
              "      <td>37.9860</td>\n",
              "      <td>52.7620</td>\n",
              "      <td>92.050</td>\n",
              "      <td>816.0</td>\n",
              "      <td>0.0</td>\n",
              "    </tr>\n",
              "    <tr>\n",
              "      <th>2020-09-04</th>\n",
              "      <td>173.925791</td>\n",
              "      <td>1.210</td>\n",
              "      <td>10.230</td>\n",
              "      <td>36.170</td>\n",
              "      <td>12.780922</td>\n",
              "      <td>2.490</td>\n",
              "      <td>73.120</td>\n",
              "      <td>19.360</td>\n",
              "      <td>62.303892</td>\n",
              "      <td>0.426</td>\n",
              "      <td>37.3960</td>\n",
              "      <td>53.3450</td>\n",
              "      <td>89.510</td>\n",
              "      <td>736.0</td>\n",
              "      <td>0.0</td>\n",
              "    </tr>\n",
              "    <tr>\n",
              "      <th>2020-09-05</th>\n",
              "      <td>179.571663</td>\n",
              "      <td>1.150</td>\n",
              "      <td>10.930</td>\n",
              "      <td>36.900</td>\n",
              "      <td>12.342497</td>\n",
              "      <td>2.460</td>\n",
              "      <td>73.490</td>\n",
              "      <td>19.220</td>\n",
              "      <td>62.680651</td>\n",
              "      <td>0.492</td>\n",
              "      <td>37.0867</td>\n",
              "      <td>53.7119</td>\n",
              "      <td>88.480</td>\n",
              "      <td>748.0</td>\n",
              "      <td>0.0</td>\n",
              "    </tr>\n",
              "    <tr>\n",
              "      <th>2020-09-06</th>\n",
              "      <td>178.270933</td>\n",
              "      <td>1.470</td>\n",
              "      <td>11.130</td>\n",
              "      <td>36.800</td>\n",
              "      <td>12.688701</td>\n",
              "      <td>2.730</td>\n",
              "      <td>73.300</td>\n",
              "      <td>19.260</td>\n",
              "      <td>62.816413</td>\n",
              "      <td>0.501</td>\n",
              "      <td>36.8310</td>\n",
              "      <td>53.5390</td>\n",
              "      <td>88.310</td>\n",
              "      <td>774.0</td>\n",
              "      <td>0.0</td>\n",
              "    </tr>\n",
              "  </tbody>\n",
              "</table>\n",
              "</div>"
            ],
            "text/plain": [
              "            Simulation Case Conditions_Feed Rate_Feed from V615 Btm_m3/hr  ...  Simulation Case Conditions_C620 Distillate Rate_m3/hr\n",
              "2020-09-02                                         170.691412              ...                                                0.0    \n",
              "2020-09-03                                         170.151049              ...                                                0.0    \n",
              "2020-09-04                                         173.925791              ...                                                0.0    \n",
              "2020-09-05                                         179.571663              ...                                                0.0    \n",
              "2020-09-06                                         178.270933              ...                                                0.0    \n",
              "\n",
              "[5 rows x 15 columns]"
            ]
          },
          "metadata": {
            "tags": []
          },
          "execution_count": 5
        }
      ]
    },
    {
      "cell_type": "markdown",
      "metadata": {
        "id": "m-RgGmfXd9Ao"
      },
      "source": [
        "# Distillate Rate_m3/hr == 0.01的部份 改成 0"
      ]
    },
    {
      "cell_type": "code",
      "metadata": {
        "id": "3UU5CmEZd1ee"
      },
      "source": [
        "simmulate_df.loc[simmulate_df['Simulation Case Conditions_C620 Distillate Rate_m3/hr']==0.01,'Simulation Case Conditions_C620 Distillate Rate_m3/hr'] = 0\n",
        "real_df.loc[real_df['Simulation Case Conditions_C620 Distillate Rate_m3/hr']==0.01,'Simulation Case Conditions_C620 Distillate Rate_m3/hr'] = 0"
      ],
      "execution_count": 6,
      "outputs": []
    },
    {
      "cell_type": "markdown",
      "metadata": {
        "id": "GMxVWWx4eSHR"
      },
      "source": [
        "# 直接訓練 不使用模擬數據"
      ]
    },
    {
      "cell_type": "code",
      "metadata": {
        "colab": {
          "base_uri": "https://localhost:8080/",
          "height": 165
        },
        "id": "RuzOKJrXeGo4",
        "outputId": "d4d319ec-82b3-4599-8578-88b52f50158b"
      },
      "source": [
        "from sklearn.model_selection import train_test_split\n",
        "X = real_df[c['x']]\n",
        "y = real_df[c['y']]\n",
        "X_train, X_test, y_train, y_test = train_test_split(X, y, test_size=0.33, random_state=42)\n",
        "\n",
        "c620_icg = Pipeline([\n",
        "                     ('scaler',StandardScaler()),\n",
        "                     ('lr',SVR())])\n",
        "\n",
        "c620_icg.fit(X_train,y_train)\n",
        "\n",
        "y_real = y_test\n",
        "y_pred = pd.DataFrame(c620_icg.predict(X_test),index=y_real.index,columns=y_real.columns)\n",
        "show_metrics(y_real,y_pred)"
      ],
      "execution_count": 7,
      "outputs": [
        {
          "output_type": "stream",
          "text": [
            "/usr/local/lib/python3.7/dist-packages/sklearn/utils/validation.py:760: DataConversionWarning: A column-vector y was passed when a 1d array was expected. Please change the shape of y to (n_samples, ), for example using ravel().\n",
            "  y = column_or_1d(y, warn=True)\n"
          ],
          "name": "stderr"
        },
        {
          "output_type": "execute_result",
          "data": {
            "text/html": [
              "<div>\n",
              "<style scoped>\n",
              "    .dataframe tbody tr th:only-of-type {\n",
              "        vertical-align: middle;\n",
              "    }\n",
              "\n",
              "    .dataframe tbody tr th {\n",
              "        vertical-align: top;\n",
              "    }\n",
              "\n",
              "    .dataframe thead th {\n",
              "        text-align: right;\n",
              "    }\n",
              "</style>\n",
              "<table border=\"1\" class=\"dataframe\">\n",
              "  <thead>\n",
              "    <tr style=\"text-align: right;\">\n",
              "      <th></th>\n",
              "      <th>R2</th>\n",
              "      <th>MSE</th>\n",
              "      <th>MAPE</th>\n",
              "    </tr>\n",
              "  </thead>\n",
              "  <tbody>\n",
              "    <tr>\n",
              "      <th>Simulation Case Conditions_C620 Distillate Rate_m3/hr</th>\n",
              "      <td>0</td>\n",
              "      <td>0.00493677</td>\n",
              "      <td>15.2938</td>\n",
              "    </tr>\n",
              "    <tr>\n",
              "      <th>AVG</th>\n",
              "      <td>0</td>\n",
              "      <td>0.00493677</td>\n",
              "      <td>15.2938</td>\n",
              "    </tr>\n",
              "  </tbody>\n",
              "</table>\n",
              "</div>"
            ],
            "text/plain": [
              "                                                   R2         MSE     MAPE\n",
              "Simulation Case Conditions_C620 Distillate Rate...  0  0.00493677  15.2938\n",
              "AVG                                                 0  0.00493677  15.2938"
            ]
          },
          "metadata": {
            "tags": []
          },
          "execution_count": 7
        }
      ]
    },
    {
      "cell_type": "markdown",
      "metadata": {
        "id": "JnT5lKV1fGts"
      },
      "source": [
        "# 在訓練數據中加入模擬數據"
      ]
    },
    {
      "cell_type": "code",
      "metadata": {
        "colab": {
          "base_uri": "https://localhost:8080/",
          "height": 165
        },
        "id": "0rWu7ng2ewhL",
        "outputId": "795979ab-8de8-49a2-ed27-f9508ab9b933"
      },
      "source": [
        "X = real_df[c['x']]\n",
        "y = real_df[c['y']]\n",
        "X_train, X_test, y_train, y_test = train_test_split(X, y, test_size=0.33, random_state=42)\n",
        "\n",
        "# add simmulate data to X_train ,y_train \n",
        "X_train = X_train.append(simmulate_df[c['x']])\n",
        "y_train = y_train.append(simmulate_df[c['y']])\n",
        "\n",
        "c620_icg = Pipeline([\n",
        "                     ('scaler',StandardScaler()),\n",
        "                     ('lr',SVR())])\n",
        "\n",
        "c620_icg.fit(X_train,y_train)\n",
        "\n",
        "y_real = y_test\n",
        "y_pred = pd.DataFrame(c620_icg.predict(X_test),index=y_real.index,columns=y_real.columns)\n",
        "show_metrics(y_real,y_pred)"
      ],
      "execution_count": 8,
      "outputs": [
        {
          "output_type": "stream",
          "text": [
            "/usr/local/lib/python3.7/dist-packages/sklearn/utils/validation.py:760: DataConversionWarning: A column-vector y was passed when a 1d array was expected. Please change the shape of y to (n_samples, ), for example using ravel().\n",
            "  y = column_or_1d(y, warn=True)\n"
          ],
          "name": "stderr"
        },
        {
          "output_type": "execute_result",
          "data": {
            "text/html": [
              "<div>\n",
              "<style scoped>\n",
              "    .dataframe tbody tr th:only-of-type {\n",
              "        vertical-align: middle;\n",
              "    }\n",
              "\n",
              "    .dataframe tbody tr th {\n",
              "        vertical-align: top;\n",
              "    }\n",
              "\n",
              "    .dataframe thead th {\n",
              "        text-align: right;\n",
              "    }\n",
              "</style>\n",
              "<table border=\"1\" class=\"dataframe\">\n",
              "  <thead>\n",
              "    <tr style=\"text-align: right;\">\n",
              "      <th></th>\n",
              "      <th>R2</th>\n",
              "      <th>MSE</th>\n",
              "      <th>MAPE</th>\n",
              "    </tr>\n",
              "  </thead>\n",
              "  <tbody>\n",
              "    <tr>\n",
              "      <th>Simulation Case Conditions_C620 Distillate Rate_m3/hr</th>\n",
              "      <td>0</td>\n",
              "      <td>0.0232891</td>\n",
              "      <td>6.46749</td>\n",
              "    </tr>\n",
              "    <tr>\n",
              "      <th>AVG</th>\n",
              "      <td>0</td>\n",
              "      <td>0.0232891</td>\n",
              "      <td>6.46749</td>\n",
              "    </tr>\n",
              "  </tbody>\n",
              "</table>\n",
              "</div>"
            ],
            "text/plain": [
              "                                                   R2        MSE     MAPE\n",
              "Simulation Case Conditions_C620 Distillate Rate...  0  0.0232891  6.46749\n",
              "AVG                                                 0  0.0232891  6.46749"
            ]
          },
          "metadata": {
            "tags": []
          },
          "execution_count": 8
        }
      ]
    },
    {
      "cell_type": "markdown",
      "metadata": {
        "id": "j8WLzppif_dd"
      },
      "source": [
        "# ICG while 迴圈"
      ]
    },
    {
      "cell_type": "code",
      "metadata": {
        "id": "pz-ufhjHfwku"
      },
      "source": [
        "def ICG(Input):\n",
        "  while True:\n",
        "    output = pd.DataFrame(c620_icg.predict(Input.values),index=Input.index,columns=['Simulation Case Conditions_C620 Distillate Rate_m3/hr'])\n",
        "    dist_rate = output['Simulation Case Conditions_C620 Distillate Rate_m3/hr'].values[0]\n",
        "    na_in_benzene = Input['Simulation Case Conditions_Spec 2 : NA in Benzene_ppmw'].values[0]\n",
        "    print('current Distillate Rate_m3/hr:{} NA in Benzene_ppmw:{}'.format(dist_rate,na_in_benzene))\n",
        "    if output['Simulation Case Conditions_C620 Distillate Rate_m3/hr'].values[0] > 0:\n",
        "      return output,Input\n",
        "    else:\n",
        "      Input['Simulation Case Conditions_Spec 2 : NA in Benzene_ppmw'] -= 30\n",
        "      print('NA in Benzene_ppmw -= 30')"
      ],
      "execution_count": 9,
      "outputs": []
    },
    {
      "cell_type": "code",
      "metadata": {
        "colab": {
          "base_uri": "https://localhost:8080/"
        },
        "id": "GSvLWe4igCAJ",
        "outputId": "0bc83a97-c1e4-4e7f-d623-ae26d3e02dba"
      },
      "source": [
        "df = simmulate_df\n",
        "print(df.shape)\n",
        "df = df[df['Simulation Case Conditions_Spec 1 : Benzene in C620 Sidedraw_wt%']==70.0]\n",
        "df = df[df['Simulation Case Conditions_Spec 2 : NA in Benzene_ppmw']==980.0]\n",
        "print(df.shape)"
      ],
      "execution_count": 13,
      "outputs": [
        {
          "output_type": "stream",
          "text": [
            "(1296, 15)\n",
            "(122, 15)\n"
          ],
          "name": "stdout"
        }
      ]
    },
    {
      "cell_type": "code",
      "metadata": {
        "colab": {
          "base_uri": "https://localhost:8080/"
        },
        "id": "EKm66Q63gElp",
        "outputId": "800476b8-5fc2-4360-fbfe-af8bc220b819"
      },
      "source": [
        "for i in range(10):\n",
        "  Input = df[c['x']].sample(1)\n",
        "  output,Input = ICG(Input)\n",
        "  print(i)"
      ],
      "execution_count": 14,
      "outputs": [
        {
          "output_type": "stream",
          "text": [
            "current Distillate Rate_m3/hr:-0.08175684897879343 NA in Benzene_ppmw:980.0\n",
            "NA in Benzene_ppmw -= 30\n",
            "current Distillate Rate_m3/hr:-0.09779943247059397 NA in Benzene_ppmw:950.0\n",
            "NA in Benzene_ppmw -= 30\n",
            "current Distillate Rate_m3/hr:-0.09363056834870909 NA in Benzene_ppmw:920.0\n",
            "NA in Benzene_ppmw -= 30\n",
            "current Distillate Rate_m3/hr:-0.0694243329930665 NA in Benzene_ppmw:890.0\n",
            "NA in Benzene_ppmw -= 30\n",
            "current Distillate Rate_m3/hr:-0.02745931706134952 NA in Benzene_ppmw:860.0\n",
            "NA in Benzene_ppmw -= 30\n",
            "current Distillate Rate_m3/hr:0.028202305888049783 NA in Benzene_ppmw:830.0\n",
            "0\n",
            "current Distillate Rate_m3/hr:3.0057335852995917 NA in Benzene_ppmw:980.0\n",
            "1\n",
            "current Distillate Rate_m3/hr:-0.077561532587203 NA in Benzene_ppmw:980.0\n",
            "NA in Benzene_ppmw -= 30\n",
            "current Distillate Rate_m3/hr:-0.014915368442651289 NA in Benzene_ppmw:950.0\n",
            "NA in Benzene_ppmw -= 30\n",
            "current Distillate Rate_m3/hr:0.0648592609420221 NA in Benzene_ppmw:920.0\n",
            "2\n",
            "current Distillate Rate_m3/hr:0.43201440499729893 NA in Benzene_ppmw:980.0\n",
            "3\n",
            "current Distillate Rate_m3/hr:0.856595825752301 NA in Benzene_ppmw:980.0\n",
            "4\n",
            "current Distillate Rate_m3/hr:0.06194855852143938 NA in Benzene_ppmw:980.0\n",
            "5\n",
            "current Distillate Rate_m3/hr:4.095589019783325 NA in Benzene_ppmw:980.0\n",
            "6\n",
            "current Distillate Rate_m3/hr:1.048209349036624 NA in Benzene_ppmw:980.0\n",
            "7\n",
            "current Distillate Rate_m3/hr:1.590292024872872 NA in Benzene_ppmw:980.0\n",
            "8\n",
            "current Distillate Rate_m3/hr:0.43201440499729893 NA in Benzene_ppmw:980.0\n",
            "9\n"
          ],
          "name": "stdout"
        }
      ]
    },
    {
      "cell_type": "markdown",
      "metadata": {
        "id": "Zg1ZW_EMgRFe"
      },
      "source": [
        "# 特別資料測試"
      ]
    },
    {
      "cell_type": "code",
      "metadata": {
        "colab": {
          "base_uri": "https://localhost:8080/"
        },
        "id": "J2Y8aEzGgN16",
        "outputId": "98f9eb04-fe5c-40d2-fedb-7f7a17ea860c"
      },
      "source": [
        "Input = {\n",
        "'Simulation Case Conditions_Feed Rate_Feed from V615 Btm_m3/hr': {0: 183.71834522298502},\n",
        "'Simulation Case Conditions_Feed Rate_Feed from V615 Btm NA_wt%': {0: 2.06},\n",
        "'Simulation Case Conditions_Feed Rate_Feed from V615 Btm Benzene_wt%': {0: 11.91},\n",
        "'Simulation Case Conditions_Feed Rate_Feed from V615 Btm Toluene_wt%': {0: 37.48},\n",
        "'Simulation Case Conditions_Feed Rate_Feed from C820 Dist_m3/hr': {0: 18.599028347620738},\n",
        "'Simulation Case Conditions_Feed Rate_Feed from C820 Dist NA_wt%': {0: 2.51},\n",
        "'Simulation Case Conditions_Feed Rate_Feed from C820 Dist Benzene_wt%': {0: 69.02},\n",
        "'Simulation Case Conditions_Feed Rate_Feed from C820 Dist Toluene_wt%': {0: 20.62},\n",
        "'Simulation Case Conditions_Feed Rate_Feed from T651_m3/hr': {0: 103.76780384010259},\n",
        "'Simulation Case Conditions_Feed Rate_Feed from T651 NA_wt%': {0: 0.685},\n",
        "'Simulation Case Conditions_Feed Rate_Feed from T651 Benzene_wt%': {0: 46.628},\n",
        "'Simulation Case Conditions_Feed Rate_Feed from T651 Toluene_wt%': {0: 40.868},\n",
        "'Simulation Case Conditions_Spec 1 : Benzene in C620 Sidedraw_wt%': {0: 89.39},\n",
        "'Simulation Case Conditions_Spec 2 : NA in Benzene_ppmw': {0: 849.0}}\n",
        "Input = pd.DataFrame(Input)\n",
        "output,Input = ICG(Input)"
      ],
      "execution_count": 15,
      "outputs": [
        {
          "output_type": "stream",
          "text": [
            "current Distillate Rate_m3/hr:0.055729619627930604 NA in Benzene_ppmw:849.0\n"
          ],
          "name": "stdout"
        }
      ]
    },
    {
      "cell_type": "code",
      "metadata": {
        "colab": {
          "base_uri": "https://localhost:8080/"
        },
        "id": "44OXBFbhgTYq",
        "outputId": "9b64cce8-8ce0-4469-e787-67c6db6ff066"
      },
      "source": [
        "Input = {\n",
        "'Simulation Case Conditions_Feed Rate_Feed from V615 Btm_m3/hr': {0: 171.58942010720452},\n",
        "'Simulation Case Conditions_Feed Rate_Feed from V615 Btm NA_wt%': {0: 1.971},\n",
        "'Simulation Case Conditions_Feed Rate_Feed from V615 Btm Benzene_wt%': {0: 12.146},\n",
        "'Simulation Case Conditions_Feed Rate_Feed from V615 Btm Toluene_wt%': {0: 37.791},\n",
        "'Simulation Case Conditions_Feed Rate_Feed from C820 Dist_m3/hr': {0: 19.669237218735567},\n",
        "'Simulation Case Conditions_Feed Rate_Feed from C820 Dist NA_wt%': {0: 2.56},\n",
        "'Simulation Case Conditions_Feed Rate_Feed from C820 Dist Benzene_wt%': {0: 68.421},\n",
        "'Simulation Case Conditions_Feed Rate_Feed from C820 Dist Toluene_wt%': {0: 21.33},\n",
        "'Simulation Case Conditions_Feed Rate_Feed from T651_m3/hr': {0: 101.95451869681709},\n",
        "'Simulation Case Conditions_Feed Rate_Feed from T651 NA_wt%': {0: 0.777},\n",
        "'Simulation Case Conditions_Feed Rate_Feed from T651 Benzene_wt%': {0: 50.531},\n",
        "'Simulation Case Conditions_Feed Rate_Feed from T651 Toluene_wt%': {0: 35.435},\n",
        "'Simulation Case Conditions_Spec 1 : Benzene in C620 Sidedraw_wt%': {0: 89.851},\n",
        "'Simulation Case Conditions_Spec 2 : NA in Benzene_ppmw': {0: 1193.0}}\n",
        "Input = pd.DataFrame(Input)\n",
        "output,Input = ICG(Input)"
      ],
      "execution_count": 16,
      "outputs": [
        {
          "output_type": "stream",
          "text": [
            "current Distillate Rate_m3/hr:0.21443081787052676 NA in Benzene_ppmw:1193.0\n"
          ],
          "name": "stdout"
        }
      ]
    },
    {
      "cell_type": "code",
      "metadata": {
        "colab": {
          "base_uri": "https://localhost:8080/",
          "height": 185
        },
        "id": "MnssRq2_gWCK",
        "outputId": "59e54b1f-f383-43cb-cdd5-836d11e93fd5"
      },
      "source": [
        "df = pd.read_csv('/content/drive/MyDrive/台塑輕油案子/data/c620/cleaned/c620_c670.csv',index_col=0)\n",
        "Input = df.loc['024-008',c['x']].to_frame().T\n",
        "Input"
      ],
      "execution_count": 17,
      "outputs": [
        {
          "output_type": "execute_result",
          "data": {
            "text/html": [
              "<div>\n",
              "<style scoped>\n",
              "    .dataframe tbody tr th:only-of-type {\n",
              "        vertical-align: middle;\n",
              "    }\n",
              "\n",
              "    .dataframe tbody tr th {\n",
              "        vertical-align: top;\n",
              "    }\n",
              "\n",
              "    .dataframe thead th {\n",
              "        text-align: right;\n",
              "    }\n",
              "</style>\n",
              "<table border=\"1\" class=\"dataframe\">\n",
              "  <thead>\n",
              "    <tr style=\"text-align: right;\">\n",
              "      <th></th>\n",
              "      <th>Simulation Case Conditions_Feed Rate_Feed from V615 Btm_m3/hr</th>\n",
              "      <th>Simulation Case Conditions_Feed Rate_Feed from V615 Btm    NA_wt%</th>\n",
              "      <th>Simulation Case Conditions_Feed Rate_Feed from V615 Btm    Benzene_wt%</th>\n",
              "      <th>Simulation Case Conditions_Feed Rate_Feed from V615 Btm    Toluene_wt%</th>\n",
              "      <th>Simulation Case Conditions_Feed Rate_Feed from C820 Dist_m3/hr</th>\n",
              "      <th>Simulation Case Conditions_Feed Rate_Feed from C820 Dist    NA_wt%</th>\n",
              "      <th>Simulation Case Conditions_Feed Rate_Feed from C820 Dist    Benzene_wt%</th>\n",
              "      <th>Simulation Case Conditions_Feed Rate_Feed from C820 Dist    Toluene_wt%</th>\n",
              "      <th>Simulation Case Conditions_Feed Rate_Feed from T651_m3/hr</th>\n",
              "      <th>Simulation Case Conditions_Feed Rate_Feed from T651    NA_wt%</th>\n",
              "      <th>Simulation Case Conditions_Feed Rate_Feed from T651    Benzene_wt%</th>\n",
              "      <th>Simulation Case Conditions_Feed Rate_Feed from T651    Toluene_wt%</th>\n",
              "      <th>Simulation Case Conditions_Spec 1 : Benzene in C620 Sidedraw_wt%</th>\n",
              "      <th>Simulation Case Conditions_Spec 2 : NA in Benzene_ppmw</th>\n",
              "    </tr>\n",
              "  </thead>\n",
              "  <tbody>\n",
              "    <tr>\n",
              "      <th>024-008</th>\n",
              "      <td>200.0</td>\n",
              "      <td>1.356</td>\n",
              "      <td>10.321001</td>\n",
              "      <td>40.887009</td>\n",
              "      <td>15.0</td>\n",
              "      <td>2.338977</td>\n",
              "      <td>74.302254</td>\n",
              "      <td>17.467825</td>\n",
              "      <td>92.0</td>\n",
              "      <td>0.4524</td>\n",
              "      <td>44.244236</td>\n",
              "      <td>44.786339</td>\n",
              "      <td>90.0</td>\n",
              "      <td>800.0</td>\n",
              "    </tr>\n",
              "  </tbody>\n",
              "</table>\n",
              "</div>"
            ],
            "text/plain": [
              "         Simulation Case Conditions_Feed Rate_Feed from V615 Btm_m3/hr  ...  Simulation Case Conditions_Spec 2 : NA in Benzene_ppmw\n",
              "024-008                                              200.0              ...                                              800.0     \n",
              "\n",
              "[1 rows x 14 columns]"
            ]
          },
          "metadata": {
            "tags": []
          },
          "execution_count": 17
        }
      ]
    },
    {
      "cell_type": "code",
      "metadata": {
        "colab": {
          "base_uri": "https://localhost:8080/",
          "height": 185
        },
        "id": "QnyNht8FgZyx",
        "outputId": "8c438a5d-77d7-4bc9-b601-6f4136ede79a"
      },
      "source": [
        "Input['Simulation Case Conditions_Spec 2 : NA in Benzene_ppmw'] = 920\n",
        "Input"
      ],
      "execution_count": 18,
      "outputs": [
        {
          "output_type": "execute_result",
          "data": {
            "text/html": [
              "<div>\n",
              "<style scoped>\n",
              "    .dataframe tbody tr th:only-of-type {\n",
              "        vertical-align: middle;\n",
              "    }\n",
              "\n",
              "    .dataframe tbody tr th {\n",
              "        vertical-align: top;\n",
              "    }\n",
              "\n",
              "    .dataframe thead th {\n",
              "        text-align: right;\n",
              "    }\n",
              "</style>\n",
              "<table border=\"1\" class=\"dataframe\">\n",
              "  <thead>\n",
              "    <tr style=\"text-align: right;\">\n",
              "      <th></th>\n",
              "      <th>Simulation Case Conditions_Feed Rate_Feed from V615 Btm_m3/hr</th>\n",
              "      <th>Simulation Case Conditions_Feed Rate_Feed from V615 Btm    NA_wt%</th>\n",
              "      <th>Simulation Case Conditions_Feed Rate_Feed from V615 Btm    Benzene_wt%</th>\n",
              "      <th>Simulation Case Conditions_Feed Rate_Feed from V615 Btm    Toluene_wt%</th>\n",
              "      <th>Simulation Case Conditions_Feed Rate_Feed from C820 Dist_m3/hr</th>\n",
              "      <th>Simulation Case Conditions_Feed Rate_Feed from C820 Dist    NA_wt%</th>\n",
              "      <th>Simulation Case Conditions_Feed Rate_Feed from C820 Dist    Benzene_wt%</th>\n",
              "      <th>Simulation Case Conditions_Feed Rate_Feed from C820 Dist    Toluene_wt%</th>\n",
              "      <th>Simulation Case Conditions_Feed Rate_Feed from T651_m3/hr</th>\n",
              "      <th>Simulation Case Conditions_Feed Rate_Feed from T651    NA_wt%</th>\n",
              "      <th>Simulation Case Conditions_Feed Rate_Feed from T651    Benzene_wt%</th>\n",
              "      <th>Simulation Case Conditions_Feed Rate_Feed from T651    Toluene_wt%</th>\n",
              "      <th>Simulation Case Conditions_Spec 1 : Benzene in C620 Sidedraw_wt%</th>\n",
              "      <th>Simulation Case Conditions_Spec 2 : NA in Benzene_ppmw</th>\n",
              "    </tr>\n",
              "  </thead>\n",
              "  <tbody>\n",
              "    <tr>\n",
              "      <th>024-008</th>\n",
              "      <td>200.0</td>\n",
              "      <td>1.356</td>\n",
              "      <td>10.321001</td>\n",
              "      <td>40.887009</td>\n",
              "      <td>15.0</td>\n",
              "      <td>2.338977</td>\n",
              "      <td>74.302254</td>\n",
              "      <td>17.467825</td>\n",
              "      <td>92.0</td>\n",
              "      <td>0.4524</td>\n",
              "      <td>44.244236</td>\n",
              "      <td>44.786339</td>\n",
              "      <td>90.0</td>\n",
              "      <td>920</td>\n",
              "    </tr>\n",
              "  </tbody>\n",
              "</table>\n",
              "</div>"
            ],
            "text/plain": [
              "         Simulation Case Conditions_Feed Rate_Feed from V615 Btm_m3/hr  ...  Simulation Case Conditions_Spec 2 : NA in Benzene_ppmw\n",
              "024-008                                              200.0              ...                                                920     \n",
              "\n",
              "[1 rows x 14 columns]"
            ]
          },
          "metadata": {
            "tags": []
          },
          "execution_count": 18
        }
      ]
    },
    {
      "cell_type": "code",
      "metadata": {
        "colab": {
          "base_uri": "https://localhost:8080/"
        },
        "id": "v5c7M8_ZgbSh",
        "outputId": "f0a4215a-db47-410e-a586-9ccd61bb0d4d"
      },
      "source": [
        "c620_icg.predict(Input.values)"
      ],
      "execution_count": 19,
      "outputs": [
        {
          "output_type": "execute_result",
          "data": {
            "text/plain": [
              "array([0.09045253])"
            ]
          },
          "metadata": {
            "tags": []
          },
          "execution_count": 19
        }
      ]
    },
    {
      "cell_type": "code",
      "metadata": {
        "colab": {
          "base_uri": "https://localhost:8080/"
        },
        "id": "sdyquBN5gdC1",
        "outputId": "9375e285-17ce-4229-d970-eceea24e2d9b"
      },
      "source": [
        "_,_ = ICG(Input)"
      ],
      "execution_count": 20,
      "outputs": [
        {
          "output_type": "stream",
          "text": [
            "current Distillate Rate_m3/hr:0.09045252883627464 NA in Benzene_ppmw:920\n"
          ],
          "name": "stdout"
        }
      ]
    },
    {
      "cell_type": "code",
      "metadata": {
        "colab": {
          "base_uri": "https://localhost:8080/"
        },
        "id": "VpIb8MMRgfME",
        "outputId": "d82a94c4-c4e5-44cb-b0ab-bc45eb8ae0b5"
      },
      "source": [
        "joblib.dump(c620_icg,'/content/drive/MyDrive/台塑輕油案子/data/c620/model/c620_icg_svr_real_data.pkl')"
      ],
      "execution_count": 21,
      "outputs": [
        {
          "output_type": "execute_result",
          "data": {
            "text/plain": [
              "['/content/drive/MyDrive/台塑輕油案子/data/c620/model/c620_icg_svr_real_data.pkl']"
            ]
          },
          "metadata": {
            "tags": []
          },
          "execution_count": 21
        }
      ]
    },
    {
      "cell_type": "code",
      "metadata": {
        "id": "3xe4KJeEgqlg"
      },
      "source": [
        ""
      ],
      "execution_count": null,
      "outputs": []
    }
  ]
}