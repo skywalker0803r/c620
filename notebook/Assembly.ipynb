{
  "nbformat": 4,
  "nbformat_minor": 0,
  "metadata": {
    "colab": {
      "name": "Assembly.ipynb",
      "provenance": [],
      "mount_file_id": "1-5eqe_Ytm6e39toeSVJnBrqdS-890UFd",
      "authorship_tag": "ABX9TyNzj5iS3L2QoTn4UQgpeiFk",
      "include_colab_link": true
    },
    "kernelspec": {
      "name": "python3",
      "display_name": "Python 3"
    },
    "language_info": {
      "name": "python"
    }
  },
  "cells": [
    {
      "cell_type": "markdown",
      "metadata": {
        "id": "view-in-github",
        "colab_type": "text"
      },
      "source": [
        "<a href=\"https://colab.research.google.com/github/skywalker0803r/c620/blob/main/notebook/Assembly.ipynb\" target=\"_parent\"><img src=\"https://colab.research.google.com/assets/colab-badge.svg\" alt=\"Open In Colab\"/></a>"
      ]
    },
    {
      "cell_type": "code",
      "metadata": {
        "id": "pVn4fkd1629H"
      },
      "source": [
        "!pip install autorch > log.txt\n",
        "!pip install optuna > log.txt"
      ],
      "execution_count": 43,
      "outputs": []
    },
    {
      "cell_type": "code",
      "metadata": {
        "id": "dpPYEEG_6nch"
      },
      "source": [
        "import joblib\n",
        "import os\n",
        "import numpy as np\n",
        "import pandas as pd\n",
        "import matplotlib.pyplot as plt\n",
        "import autorch\n",
        "from autorch.function import sp2wt\n",
        "import optuna"
      ],
      "execution_count": 44,
      "outputs": []
    },
    {
      "cell_type": "markdown",
      "metadata": {
        "id": "TzM-ooIqP-Ih"
      },
      "source": [
        "# LOAD DATA"
      ]
    },
    {
      "cell_type": "code",
      "metadata": {
        "id": "eXCIn36JP2ki"
      },
      "source": [
        "icg_c = joblib.load('/content/drive/MyDrive/台塑輕油案子/data/c620/col_names/icg_col_names.pkl')\n",
        "c620_c = joblib.load('/content/drive/MyDrive/台塑輕油案子/data/c620/col_names/c620_col_names.pkl')\n",
        "c660_c = joblib.load('/content/drive/MyDrive/台塑輕油案子/data/c620/col_names/c660_col_names.pkl')\n",
        "t651_c = joblib.load('/content/drive/MyDrive/台塑輕油案子/data/c620/col_names/t651_col_names.pkl')\n",
        "c670_c = joblib.load('/content/drive/MyDrive/台塑輕油案子/data/c620/col_names/c670_col_names.pkl')"
      ],
      "execution_count": 45,
      "outputs": []
    },
    {
      "cell_type": "code",
      "metadata": {
        "colab": {
          "base_uri": "https://localhost:8080/"
        },
        "id": "1dWX0egCP5n2",
        "outputId": "c9d5ccf2-7863-436e-f4a3-59407b5d11fa"
      },
      "source": [
        "icg_df = pd.read_csv('/content/drive/MyDrive/台塑輕油案子/data/c620/cleaned/icg_train.csv',index_col=0)\n",
        "c620_df = pd.read_csv('/content/drive/MyDrive/台塑輕油案子/data/c620/cleaned/c620_train.csv',index_col=0)\n",
        "c660_df = pd.read_csv('/content/drive/MyDrive/台塑輕油案子/data/c620/cleaned/c660_train.csv',index_col=0)\n",
        "c670_df = pd.read_csv('/content/drive/MyDrive/台塑輕油案子/data/c620/cleaned/c670_train.csv',index_col=0)\n",
        "t651_df = pd.read_csv('/content/drive/MyDrive/台塑輕油案子/data/c620/cleaned/t651_train.csv',index_col=0)\n",
        "allidx = list(set(icg_df.index)&\n",
        "      set(c620_df.index)&\n",
        "      set(c660_df.index)&\n",
        "      set(c670_df.index)&\n",
        "      set(t651_df.index))\n",
        "len(allidx)"
      ],
      "execution_count": 46,
      "outputs": [
        {
          "output_type": "execute_result",
          "data": {
            "text/plain": [
              "1296"
            ]
          },
          "metadata": {
            "tags": []
          },
          "execution_count": 46
        }
      ]
    },
    {
      "cell_type": "markdown",
      "metadata": {
        "id": "fpOGvlOAP_vK"
      },
      "source": [
        "# INPUT"
      ]
    },
    {
      "cell_type": "code",
      "metadata": {
        "id": "AGOyPmAYP_7k"
      },
      "source": [
        "# icg\n",
        "icg_input = icg_df.loc[allidx,icg_c['x']]\n",
        "icg_input = icg_input.join(c620_df.loc[allidx,'Tatoray Stripper C620 Operation_Specifications_Spec 2 : Distillate Rate_m3/hr'])\n",
        "icg_input = icg_input.join(c660_df.loc[allidx,'Benzene Column C660 Operation_Specifications_Spec 3 : Toluene in Benzene_ppmw'])\n",
        "icg_input = icg_input.join(c620_df.loc[allidx].filter(regex='Receiver Temp'))\n",
        "\n",
        "# c620\n",
        "c620_feed = c620_df.loc[allidx,c620_c['x41']]\n",
        "\n",
        "# t651\n",
        "t651_feed = t651_df.loc[allidx,t651_c['x41']]"
      ],
      "execution_count": 47,
      "outputs": []
    },
    {
      "cell_type": "markdown",
      "metadata": {
        "id": "TQY4nRxZQAGa"
      },
      "source": [
        "# OUTPUT"
      ]
    },
    {
      "cell_type": "code",
      "metadata": {
        "id": "YIKpcrZvQAM0"
      },
      "source": [
        "c620_op = c620_df.loc[allidx,c620_c['density']+c620_c['yRefluxRate']+c620_c['yHeatDuty']+c620_c['yControl']]\n",
        "c620_wt = c620_df.loc[allidx,c620_c['vent_gas_x']+c620_c['distillate_x']+c620_c['sidedraw_x']+c620_c['bottoms_x']]\n",
        "c660_op = c660_df.loc[allidx,c660_c['density']+c660_c['yRefluxRate']+c660_c['yHeatDuty']+c660_c['yControl']]\n",
        "c660_wt = c660_df.loc[allidx,c660_c['vent_gas_x']+c660_c['distillate_x']+c660_c['sidedraw_x']+c660_c['bottoms_x']]\n",
        "c670_op = c670_df.loc[allidx,c670_c['density']+c670_c['yRefluxRate']+c670_c['yHeatDuty']+c670_c['yControl']]\n",
        "c670_wt = c670_df.loc[allidx,c670_c['distillate_x']+c670_c['bottoms_x']]"
      ],
      "execution_count": 48,
      "outputs": []
    },
    {
      "cell_type": "markdown",
      "metadata": {
        "id": "N0U8W0SuQGpA"
      },
      "source": [
        "# CONFIG"
      ]
    },
    {
      "cell_type": "code",
      "metadata": {
        "id": "bJ4nftFlJMjk"
      },
      "source": [
        "config = {\n",
        "      # c620\n",
        "      'c620_G':'/content/drive/MyDrive/台塑輕油案子/data/c620/model/c620_G.pkl',\n",
        "      'c620_F':'/content/drive/MyDrive/台塑輕油案子/data/c620/model/c620_F.pkl',\n",
        "\n",
        "      # c660\n",
        "      'c660_G':'/content/drive/MyDrive/台塑輕油案子/data/c620/model/c660_G.pkl',\n",
        "      'c660_F':'/content/drive/MyDrive/台塑輕油案子/data/c620/model/c660_F.pkl',\n",
        "\n",
        "      # c670\n",
        "      'c670_M':'/content/drive/MyDrive/台塑輕油案子/data/c620/model/c670.pkl',\n",
        "      \n",
        "      # col_names\n",
        "      'icg_col_path':'/content/drive/MyDrive/台塑輕油案子/data/c620/col_names/icg_col_names.pkl',\n",
        "      'c620_col_path':'/content/drive/MyDrive/台塑輕油案子/data/c620/col_names/c620_col_names.pkl',\n",
        "      'c660_col_path':'/content/drive/MyDrive/台塑輕油案子/data/c620/col_names/c660_col_names.pkl',\n",
        "      'c670_col_path':'/content/drive/MyDrive/台塑輕油案子/data/c620/col_names/c670_col_names.pkl',\n",
        "      \n",
        "      # Special column (0.9999 & 0.0001)\n",
        "      'index_9999_path':'/content/drive/MyDrive/台塑輕油案子/data/c620/cleaned/index_9999.pkl',\n",
        "      'index_0001_path':'/content/drive/MyDrive/台塑輕油案子/data/c620/cleaned/index_0001.pkl',\n",
        "\n",
        "      # sp\n",
        "      'c620_wt_always_same_split_factor_dict':'/content/drive/MyDrive/台塑輕油案子/data/c620/map_dict/c620_wt_always_same_split_factor_dict.pkl',\n",
        "      'c660_wt_always_same_split_factor_dict':'/content/drive/MyDrive/台塑輕油案子/data/c620/map_dict/c660_wt_always_same_split_factor_dict.pkl',\n",
        "      'c670_wt_always_same_split_factor_dict':'/content/drive/MyDrive/台塑輕油案子/data/c620/map_dict/c670_wt_always_same_split_factor_dict.pkl',\n",
        "          }"
      ],
      "execution_count": 49,
      "outputs": []
    },
    {
      "cell_type": "code",
      "metadata": {
        "id": "CoUcarIY6_XN"
      },
      "source": [
        "class AllSystem(object):\n",
        "  def __init__(self,config):\n",
        "    \n",
        "    # C620 part\n",
        "    self.c620_G = joblib.load(config['c620_G'])\n",
        "    self.c620_F = joblib.load(config['c620_F'])\n",
        "    self.c620_op_min = joblib.load(config['c620_op_min'])\n",
        "    self.c620_op_max = joblib.load(config['c620_op_max'])\n",
        "    \n",
        "    # C660 part\n",
        "    self.c660_G = joblib.load(config['c660_G'])\n",
        "    self.c660_F = joblib.load(config['c660_F'])\n",
        "    self.c660_op_min = joblib.load(config['c660_op_min'])\n",
        "    self.c660_op_max = joblib.load(config['c660_op_max'])\n",
        "\n",
        "    # C670 part\n",
        "    self.c670_M = joblib.load(config['c670_M'])\n",
        "    self.c670_op_min = joblib.load(config['c670_op_min'])\n",
        "    self.c670_op_max = joblib.load(config['c670_op_max'])\n",
        "\n",
        "    # columns name\n",
        "    self.icg_col = joblib.load(config['icg_col_path'])\n",
        "    self.c620_col = joblib.load(config['c620_col_path'])\n",
        "    self.c660_col = joblib.load(config['c660_col_path'])\n",
        "    self.c670_col = joblib.load(config['c670_col_path'])\n",
        "    \n",
        "    # other infomation\n",
        "    self.c620_wt_always_same_split_factor_dict = joblib.load(config['c620_wt_always_same_split_factor_dict'])\n",
        "    self.c660_wt_always_same_split_factor_dict = joblib.load(config['c660_wt_always_same_split_factor_dict'])\n",
        "    self.c670_wt_always_same_split_factor_dict = joblib.load(config['c670_wt_always_same_split_factor_dict'])\n",
        "    self.index_9999 = joblib.load(config['index_9999_path'])\n",
        "    self.index_0001 = joblib.load(config['index_0001_path'])\n",
        "    self.V615_density = 0.8626\n",
        "    self.C820_density = 0.8731\n",
        "    self.T651_density = 0.8749\n",
        "  \n",
        "  def inference(self,icg_input,c620_feed,t651_feed):\n",
        "    idx = icg_input.index\n",
        "    #c620\n",
        "    c620_case = pd.DataFrame(index=idx,columns=self.c620_col['case'])\n",
        "    c620_case['Tatoray Stripper C620 Operation_Specifications_Spec 1 : Receiver Temp_oC'] = icg_input['Tatoray Stripper C620 Operation_Specifications_Spec 1 : Receiver Temp_oC'].values\n",
        "    c620_case['Tatoray Stripper C620 Operation_Specifications_Spec 2 : Distillate Rate_m3/hr'] = icg_input['Tatoray Stripper C620 Operation_Specifications_Spec 2 : Distillate Rate_m3/hr'].values\n",
        "    c620_case['Tatoray Stripper C620 Operation_Specifications_Spec 3 : Benzene in Sidedraw_wt%'] = icg_input['Simulation Case Conditions_Spec 1 : Benzene in C620 Sidedraw_wt%'].values\n",
        "    c620_op = self.c620_G.predict(c620_case.join(c620_feed))\n",
        "    c620_sp = self.c620_F.predict(c620_case.join(c620_feed).join(c620_op))\n",
        "    s1,s2,s3,s4 = c620_sp.iloc[:,:41].values,c620_sp.iloc[:,41:41*2].values,c620_sp.iloc[:,41*2:41*3].values,c620_sp.iloc[:,41*3:41*4].values\n",
        "    w1,w2,w3,w4 = sp2wt(c620_feed,s1),sp2wt(c620_feed,s2),sp2wt(c620_feed,s3),sp2wt(c620_feed,s4)\n",
        "    wt = np.hstack((w1,w2,w3,w4))\n",
        "    c620_wt = pd.DataFrame(wt,index=idx,columns=self.c620_col['vent_gas_x']+self.c620_col['distillate_x']+self.c620_col['sidedraw_x']+self.c620_col['bottoms_x'])\n",
        "    \n",
        "    #c660\n",
        "    V615_Btm_m3 = icg_input['Simulation Case Conditions_Feed Rate_Feed from V615 Btm_m3/hr'].values.reshape(-1,1)\n",
        "    C820_Dist_m3 = icg_input['Simulation Case Conditions_Feed Rate_Feed from C820 Dist_m3/hr'].values.reshape(-1,1)\n",
        "    V615_Btm_ton = V615_Btm_m3*self.V615_density\n",
        "    C820_Dist_ton = C820_Dist_m3*self.C820_density\n",
        "    c620_feed_rate_ton = V615_Btm_ton+C820_Dist_ton\n",
        "    c620_mf_side = np.sum(c620_feed_rate_ton*c620_feed.values*s3*0.01,axis=1,keepdims=True)\n",
        "    c620_mf_bot = np.sum(c620_feed_rate_ton*c620_feed.values*s4*0.01,axis=1,keepdims=True)\n",
        "    t651_mf = (icg_input['Simulation Case Conditions_Feed Rate_Feed from T651_m3/hr']*self.T651_density).values.reshape(-1,1)\n",
        "    c660_mf = t651_mf + c620_mf_side\n",
        "    t651_mf_p ,c620_mf_side_p = t651_mf/c660_mf ,c620_mf_side/c660_mf\n",
        "    c660_feed = c620_wt[self.c620_col['sidedraw_x']].values*c620_mf_side_p + t651_feed.values*t651_mf_p\n",
        "    c660_feed = pd.DataFrame(c660_feed,index=idx,columns=self.c660_col['x41'])\n",
        "    c660_case = pd.DataFrame(index=idx,columns=self.c660_col['case'])\n",
        "    c660_case['Benzene Column C660 Operation_Specifications_Spec 2 : NA in Benzene_ppmw'] = icg_input['Simulation Case Conditions_Spec 2 : NA in Benzene_ppmw'].values\n",
        "    c660_case['Benzene Column C660 Operation_Specifications_Spec 3 : Toluene in Benzene_ppmw'] = icg_input['Benzene Column C660 Operation_Specifications_Spec 3 : Toluene in Benzene_ppmw'].values\n",
        "    c660_op = self.c660_G.predict(c660_case.join(c660_feed))\n",
        "    c660_sp = self.c660_F.predict(c660_case.join(c660_feed).join(c660_op))\n",
        "    s1,s2,s3,s4 = c660_sp.iloc[:,:41].values,c660_sp.iloc[:,41:41*2].values,c660_sp.iloc[:,41*2:41*3].values,c660_sp.iloc[:,41*3:41*4].values\n",
        "    w1,w2,w3,w4 = sp2wt(c660_feed,s1),sp2wt(c660_feed,s2),sp2wt(c660_feed,s3),sp2wt(c660_feed,s4)\n",
        "    wt = np.hstack((w1,w2,w3,w4))\n",
        "    c660_wt = pd.DataFrame(wt,index=idx,columns=self.c660_col['vent_gas_x']+self.c660_col['distillate_x']+self.c660_col['sidedraw_x']+self.c660_col['bottoms_x'])\n",
        "    \n",
        "    #c670\n",
        "    c660_mf_bot = np.sum(c660_mf*c660_feed.values*s4*0.01,axis=1,keepdims=True)\n",
        "    c670_mf = c620_mf_bot + c660_mf_bot\n",
        "    c620_mf_bot_p,c660_mf_bot_p = c620_mf_bot/c670_mf , c660_mf_bot/c670_mf\n",
        "    c670_feed = c620_wt[self.c620_col['bottoms_x']].values*c620_mf_bot_p + c660_wt[self.c660_col['bottoms_x']].values*c660_mf_bot_p\n",
        "    c670_feed = pd.DataFrame(c670_feed,index=idx,columns=self.c670_col['combined'])\n",
        "    c670_bf = pd.DataFrame(index=idx,columns=self.c670_col['upper_bf'])\n",
        "    c620_bot_x = c620_wt[self.c620_col['bottoms_x']].values\n",
        "    c660_bot_x = c660_wt[self.c660_col['bottoms_x']].values\n",
        "    upper_bf = (c660_bot_x*c660_mf_bot)/(c620_bot_x*c620_mf_bot+c660_bot_x*c660_mf_bot)\n",
        "    upper_bf = pd.DataFrame(upper_bf,index=idx,columns=self.c670_col['upper_bf'])\n",
        "    upper_bf[list(set(self.index_9999)&set(upper_bf.columns))] = 0.9999\n",
        "    upper_bf[list(set(self.index_0001)&set(upper_bf.columns))] = 0.0001\n",
        "    c670_output = self.c670_M.predict(c670_feed.join(upper_bf))\n",
        "    c670_sp,c670_op = c670_output.iloc[:,:41*2],c670_output.iloc[:,41*2:]    \n",
        "    s1 = c670_sp[self.c670_col['distillate_sf']].values\n",
        "    s2 = c670_sp[self.c670_col['bottoms_sf']].values\n",
        "    w1 = sp2wt(c670_feed,s1)\n",
        "    w2 = sp2wt(c670_feed,s2)\n",
        "    c670_wt = np.hstack((w1,w2))\n",
        "    c670_wt = pd.DataFrame(c670_wt,index = idx,columns=self.c670_col['distillate_x']+self.c670_col['bottoms_x'])\n",
        "    return c620_wt,c620_op,c660_wt,c660_op,c670_wt,c670_op\n",
        "  \n",
        "  def recommend(self,icg_input,c620_feed,t651_feed):\n",
        "    idx = icg_input.index\n",
        "    c620_wt,c620_op,c660_wt,c660_op,c670_wt,c670_op = self.inference(icg_input,c620_feed,t651_feed)\n",
        "    c620_case = pd.DataFrame(index=idx,columns=self.c620_col['case'])\n",
        "    c620_case['Tatoray Stripper C620 Operation_Specifications_Spec 1 : Receiver Temp_oC'] = icg_input['Tatoray Stripper C620 Operation_Specifications_Spec 1 : Receiver Temp_oC'].values\n",
        "    c620_case['Tatoray Stripper C620 Operation_Specifications_Spec 2 : Distillate Rate_m3/hr'] = icg_input['Tatoray Stripper C620 Operation_Specifications_Spec 2 : Distillate Rate_m3/hr'].values\n",
        "    c620_case['Tatoray Stripper C620 Operation_Specifications_Spec 3 : Benzene in Sidedraw_wt%'] = 70\n",
        "    c620_op_col = c620_op.columns.tolist()\n",
        "    def c620_objective(trial):\n",
        "      c620_op_dict = {}\n",
        "      for name in c620_op_col:\n",
        "        c620_op_dict[name] = trial.suggest_uniform(name,c620_op_min[name],c620_op_max[name])\n",
        "      c620_op = pd.DataFrame(c620_op_dict,index=idx)\n",
        "      輸入端bz = icg_input['Simulation Case Conditions_Spec 1 : Benzene in C620 Sidedraw_wt%'].values[0]\n",
        "      c620_sp = self.c620_F.predict(c620_case.join(c620_feed).join(c620_op))\n",
        "      s1,s2,s3,s4 = c620_sp.iloc[:,:41].values,c620_sp.iloc[:,41:41*2].values,c620_sp.iloc[:,41*2:41*3].values,c620_sp.iloc[:,41*3:41*4].values\n",
        "      w1,w2,w3,w4 = sp2wt(c620_feed,s1),sp2wt(c620_feed,s2),sp2wt(c620_feed,s3),sp2wt(c620_feed,s4)\n",
        "      wt = np.hstack((w1,w2,w3,w4))\n",
        "      c620_wt = pd.DataFrame(wt,index=idx,columns=self.c620_col['vent_gas_x']+self.c620_col['distillate_x']+self.c620_col['sidedraw_x']+self.c620_col['bottoms_x'])\n",
        "      輸出端bz = c620_wt['Tatoray Stripper C620 Operation_Sidedraw Production Rate and Composition_Benzene_wt%'].values[0]\n",
        "      loss = (輸入端bz - 輸出端bz)**2\n",
        "      return loss\n",
        "    study = optuna.create_study()\n",
        "    study.optimize(c620_objective, n_trials=300)\n",
        "    c620_op_opt = pd.DataFrame(study.best_params,index=idx)\n",
        "    c620_op_delta = c620_op_opt - c620_op\n",
        "    return c620_op_delta"
      ],
      "execution_count": 50,
      "outputs": []
    },
    {
      "cell_type": "markdown",
      "metadata": {
        "id": "IEKp-SYsPkip"
      },
      "source": [
        "# 試算模式測試"
      ]
    },
    {
      "cell_type": "code",
      "metadata": {
        "colab": {
          "base_uri": "https://localhost:8080/",
          "height": 419
        },
        "id": "3hfibqM7J0wt",
        "outputId": "447f7955-2de2-4b5a-d08d-c277d263417f"
      },
      "source": [
        "f = AllSystem(config)\n",
        "idx = np.random.choice(allidx,size=100,replace=False,p=None)\n",
        "# minibatch input \n",
        "icg_input = icg_input.loc[idx]\n",
        "c620_feed = c620_feed.loc[idx]\n",
        "t651_feed = t651_feed.loc[idx]\n",
        "# minibatch output \n",
        "c620_op = c620_op.loc[idx]\n",
        "c620_wt = c620_wt.loc[idx]\n",
        "c660_op = c660_op.loc[idx]\n",
        "c660_wt = c660_wt.loc[idx]\n",
        "c670_op = c670_op.loc[idx]\n",
        "c670_wt = c670_wt.loc[idx]\n",
        "c620_wt_,c620_op_,c660_wt_,c660_op_,c670_wt_,c670_op_ = f.inference(icg_input,c620_feed,t651_feed)\n",
        "f.c670_M.show_metrics(c620_wt,c620_wt_,e=2e-2)"
      ],
      "execution_count": 51,
      "outputs": [
        {
          "output_type": "execute_result",
          "data": {
            "text/html": [
              "<div>\n",
              "<style scoped>\n",
              "    .dataframe tbody tr th:only-of-type {\n",
              "        vertical-align: middle;\n",
              "    }\n",
              "\n",
              "    .dataframe tbody tr th {\n",
              "        vertical-align: top;\n",
              "    }\n",
              "\n",
              "    .dataframe thead th {\n",
              "        text-align: right;\n",
              "    }\n",
              "</style>\n",
              "<table border=\"1\" class=\"dataframe\">\n",
              "  <thead>\n",
              "    <tr style=\"text-align: right;\">\n",
              "      <th></th>\n",
              "      <th>R2</th>\n",
              "      <th>MSE</th>\n",
              "      <th>MAPE</th>\n",
              "    </tr>\n",
              "  </thead>\n",
              "  <tbody>\n",
              "    <tr>\n",
              "      <th>Tatoray Stripper C620 Operation_Vent Gas Production Rate and Composition_Hydrogen_wt%</th>\n",
              "      <td>1</td>\n",
              "      <td>0</td>\n",
              "      <td>NaN</td>\n",
              "    </tr>\n",
              "    <tr>\n",
              "      <th>Tatoray Stripper C620 Operation_Vent Gas Production Rate and Composition_Methane_wt%</th>\n",
              "      <td>0.994252</td>\n",
              "      <td>0.000162717</td>\n",
              "      <td>0.359099</td>\n",
              "    </tr>\n",
              "    <tr>\n",
              "      <th>Tatoray Stripper C620 Operation_Vent Gas Production Rate and Composition_Ethane_wt%</th>\n",
              "      <td>0.995053</td>\n",
              "      <td>0.0305829</td>\n",
              "      <td>0.260844</td>\n",
              "    </tr>\n",
              "    <tr>\n",
              "      <th>Tatoray Stripper C620 Operation_Vent Gas Production Rate and Composition_Propane_wt%</th>\n",
              "      <td>0.982846</td>\n",
              "      <td>0.00713907</td>\n",
              "      <td>0.153695</td>\n",
              "    </tr>\n",
              "    <tr>\n",
              "      <th>Tatoray Stripper C620 Operation_Vent Gas Production Rate and Composition_n-Butane_wt%</th>\n",
              "      <td>0.998286</td>\n",
              "      <td>0.00363678</td>\n",
              "      <td>0.529511</td>\n",
              "    </tr>\n",
              "    <tr>\n",
              "      <th>...</th>\n",
              "      <td>...</td>\n",
              "      <td>...</td>\n",
              "      <td>...</td>\n",
              "    </tr>\n",
              "    <tr>\n",
              "      <th>Tatoray Stripper C620 Operation_Bottoms Production Rate and Composition_n-Pentylbenzene_wt%</th>\n",
              "      <td>0.99999</td>\n",
              "      <td>2.68704e-08</td>\n",
              "      <td>0.0347494</td>\n",
              "    </tr>\n",
              "    <tr>\n",
              "      <th>Tatoray Stripper C620 Operation_Bottoms Production Rate and Composition_n-Hexylbenzene_wt%</th>\n",
              "      <td>0.99999</td>\n",
              "      <td>4.95435e-09</td>\n",
              "      <td>0.034749</td>\n",
              "    </tr>\n",
              "    <tr>\n",
              "      <th>Tatoray Stripper C620 Operation_Bottoms Production Rate and Composition_Nitrogen_wt%</th>\n",
              "      <td>1</td>\n",
              "      <td>0</td>\n",
              "      <td>NaN</td>\n",
              "    </tr>\n",
              "    <tr>\n",
              "      <th>Tatoray Stripper C620 Operation_Bottoms Production Rate and Composition_Oxygen_wt%</th>\n",
              "      <td>1</td>\n",
              "      <td>0</td>\n",
              "      <td>NaN</td>\n",
              "    </tr>\n",
              "    <tr>\n",
              "      <th>AVG</th>\n",
              "      <td>0.934565</td>\n",
              "      <td>0.0484571</td>\n",
              "      <td>1.68699</td>\n",
              "    </tr>\n",
              "  </tbody>\n",
              "</table>\n",
              "<p>165 rows × 3 columns</p>\n",
              "</div>"
            ],
            "text/plain": [
              "                                                          R2  ...       MAPE\n",
              "Tatoray Stripper C620 Operation_Vent Gas Produc...         1  ...        NaN\n",
              "Tatoray Stripper C620 Operation_Vent Gas Produc...  0.994252  ...   0.359099\n",
              "Tatoray Stripper C620 Operation_Vent Gas Produc...  0.995053  ...   0.260844\n",
              "Tatoray Stripper C620 Operation_Vent Gas Produc...  0.982846  ...   0.153695\n",
              "Tatoray Stripper C620 Operation_Vent Gas Produc...  0.998286  ...   0.529511\n",
              "...                                                      ...  ...        ...\n",
              "Tatoray Stripper C620 Operation_Bottoms Product...   0.99999  ...  0.0347494\n",
              "Tatoray Stripper C620 Operation_Bottoms Product...   0.99999  ...   0.034749\n",
              "Tatoray Stripper C620 Operation_Bottoms Product...         1  ...        NaN\n",
              "Tatoray Stripper C620 Operation_Bottoms Product...         1  ...        NaN\n",
              "AVG                                                 0.934565  ...    1.68699\n",
              "\n",
              "[165 rows x 3 columns]"
            ]
          },
          "metadata": {
            "tags": []
          },
          "execution_count": 51
        }
      ]
    },
    {
      "cell_type": "markdown",
      "metadata": {
        "id": "mzQ_FNmgRUit"
      },
      "source": [
        "# 推薦模式測試"
      ]
    },
    {
      "cell_type": "code",
      "metadata": {
        "colab": {
          "base_uri": "https://localhost:8080/",
          "height": 495
        },
        "id": "aIe4hWZvREz5",
        "outputId": "2f3cb8fe-7b73-4910-c92a-7970ca461ec8"
      },
      "source": [
        "f = AllSystem(config)\n",
        "icg_input = icg_input.iloc[[0]]\n",
        "c620_feed = c620_feed.iloc[[0]]\n",
        "t651_feed = t651_feed.iloc[[0]]\n",
        "# minibatch output \n",
        "c620_op = c620_op.iloc[[0]]\n",
        "c620_wt = c620_wt.iloc[[0]]\n",
        "c660_op = c660_op.iloc[[0]]\n",
        "c660_wt = c660_wt.iloc[[0]]\n",
        "c670_op = c670_op.iloc[[0]]\n",
        "c670_wt = c670_wt.iloc[[0]]\n",
        "c620_wt_,c620_op_,c660_wt_,c660_op_,c670_wt_,c670_op_ = f.recommend(icg_input,c620_feed,t651_feed)\n",
        "f.c670_M.show_metrics(c620_wt,c620_wt_,e=2e-2)"
      ],
      "execution_count": 52,
      "outputs": [
        {
          "output_type": "stream",
          "text": [
            "\u001b[32m[I 2021-04-19 09:03:52,000]\u001b[0m A new study created in memory with name: no-name-de637dca-3a46-4412-a0fa-7619706cdcce\u001b[0m\n",
            "\u001b[33m[W 2021-04-19 09:03:52,016]\u001b[0m Trial 0 failed because of the following error: NameError(\"name 'c620_op_min' is not defined\")\n",
            "Traceback (most recent call last):\n",
            "  File \"/usr/local/lib/python3.7/dist-packages/optuna/_optimize.py\", line 217, in _run_trial\n",
            "    value_or_values = func(trial)\n",
            "  File \"<ipython-input-50-e7bd3363a0e0>\", line 102, in c620_objective\n",
            "    c620_op_dict[name] = trial.suggest_uniform(name,c620_op_min[name],c620_op_max[name])\n",
            "NameError: name 'c620_op_min' is not defined\u001b[0m\n"
          ],
          "name": "stderr"
        },
        {
          "output_type": "error",
          "ename": "NameError",
          "evalue": "ignored",
          "traceback": [
            "\u001b[0;31m---------------------------------------------------------------------------\u001b[0m",
            "\u001b[0;31mNameError\u001b[0m                                 Traceback (most recent call last)",
            "\u001b[0;32m<ipython-input-52-c96c47646e4c>\u001b[0m in \u001b[0;36m<module>\u001b[0;34m()\u001b[0m\n\u001b[1;32m     10\u001b[0m \u001b[0mc670_op\u001b[0m \u001b[0;34m=\u001b[0m \u001b[0mc670_op\u001b[0m\u001b[0;34m.\u001b[0m\u001b[0miloc\u001b[0m\u001b[0;34m[\u001b[0m\u001b[0;34m[\u001b[0m\u001b[0;36m0\u001b[0m\u001b[0;34m]\u001b[0m\u001b[0;34m]\u001b[0m\u001b[0;34m\u001b[0m\u001b[0;34m\u001b[0m\u001b[0m\n\u001b[1;32m     11\u001b[0m \u001b[0mc670_wt\u001b[0m \u001b[0;34m=\u001b[0m \u001b[0mc670_wt\u001b[0m\u001b[0;34m.\u001b[0m\u001b[0miloc\u001b[0m\u001b[0;34m[\u001b[0m\u001b[0;34m[\u001b[0m\u001b[0;36m0\u001b[0m\u001b[0;34m]\u001b[0m\u001b[0;34m]\u001b[0m\u001b[0;34m\u001b[0m\u001b[0;34m\u001b[0m\u001b[0m\n\u001b[0;32m---> 12\u001b[0;31m \u001b[0mc620_wt_\u001b[0m\u001b[0;34m,\u001b[0m\u001b[0mc620_op_\u001b[0m\u001b[0;34m,\u001b[0m\u001b[0mc660_wt_\u001b[0m\u001b[0;34m,\u001b[0m\u001b[0mc660_op_\u001b[0m\u001b[0;34m,\u001b[0m\u001b[0mc670_wt_\u001b[0m\u001b[0;34m,\u001b[0m\u001b[0mc670_op_\u001b[0m \u001b[0;34m=\u001b[0m \u001b[0mf\u001b[0m\u001b[0;34m.\u001b[0m\u001b[0mrecommend\u001b[0m\u001b[0;34m(\u001b[0m\u001b[0micg_input\u001b[0m\u001b[0;34m,\u001b[0m\u001b[0mc620_feed\u001b[0m\u001b[0;34m,\u001b[0m\u001b[0mt651_feed\u001b[0m\u001b[0;34m)\u001b[0m\u001b[0;34m\u001b[0m\u001b[0;34m\u001b[0m\u001b[0m\n\u001b[0m\u001b[1;32m     13\u001b[0m \u001b[0mf\u001b[0m\u001b[0;34m.\u001b[0m\u001b[0mc670_M\u001b[0m\u001b[0;34m.\u001b[0m\u001b[0mshow_metrics\u001b[0m\u001b[0;34m(\u001b[0m\u001b[0mc620_wt\u001b[0m\u001b[0;34m,\u001b[0m\u001b[0mc620_wt_\u001b[0m\u001b[0;34m,\u001b[0m\u001b[0me\u001b[0m\u001b[0;34m=\u001b[0m\u001b[0;36m2e-2\u001b[0m\u001b[0;34m)\u001b[0m\u001b[0;34m\u001b[0m\u001b[0;34m\u001b[0m\u001b[0m\n",
            "\u001b[0;32m<ipython-input-50-e7bd3363a0e0>\u001b[0m in \u001b[0;36mrecommend\u001b[0;34m(self, icg_input, c620_feed, t651_feed)\u001b[0m\n\u001b[1;32m    112\u001b[0m       \u001b[0;32mreturn\u001b[0m \u001b[0mloss\u001b[0m\u001b[0;34m\u001b[0m\u001b[0;34m\u001b[0m\u001b[0m\n\u001b[1;32m    113\u001b[0m     \u001b[0mstudy\u001b[0m \u001b[0;34m=\u001b[0m \u001b[0moptuna\u001b[0m\u001b[0;34m.\u001b[0m\u001b[0mcreate_study\u001b[0m\u001b[0;34m(\u001b[0m\u001b[0;34m)\u001b[0m\u001b[0;34m\u001b[0m\u001b[0;34m\u001b[0m\u001b[0m\n\u001b[0;32m--> 114\u001b[0;31m     \u001b[0mstudy\u001b[0m\u001b[0;34m.\u001b[0m\u001b[0moptimize\u001b[0m\u001b[0;34m(\u001b[0m\u001b[0mc620_objective\u001b[0m\u001b[0;34m,\u001b[0m \u001b[0mn_trials\u001b[0m\u001b[0;34m=\u001b[0m\u001b[0;36m300\u001b[0m\u001b[0;34m)\u001b[0m\u001b[0;34m\u001b[0m\u001b[0;34m\u001b[0m\u001b[0m\n\u001b[0m\u001b[1;32m    115\u001b[0m     \u001b[0mc620_op_opt\u001b[0m \u001b[0;34m=\u001b[0m \u001b[0mpd\u001b[0m\u001b[0;34m.\u001b[0m\u001b[0mDataFrame\u001b[0m\u001b[0;34m(\u001b[0m\u001b[0mstudy\u001b[0m\u001b[0;34m.\u001b[0m\u001b[0mbest_params\u001b[0m\u001b[0;34m,\u001b[0m\u001b[0mindex\u001b[0m\u001b[0;34m=\u001b[0m\u001b[0midx\u001b[0m\u001b[0;34m)\u001b[0m\u001b[0;34m\u001b[0m\u001b[0;34m\u001b[0m\u001b[0m\n\u001b[1;32m    116\u001b[0m     \u001b[0mc620_op_delta\u001b[0m \u001b[0;34m=\u001b[0m \u001b[0mc620_op_opt\u001b[0m \u001b[0;34m-\u001b[0m \u001b[0mc620_op\u001b[0m\u001b[0;34m\u001b[0m\u001b[0;34m\u001b[0m\u001b[0m\n",
            "\u001b[0;32m/usr/local/lib/python3.7/dist-packages/optuna/study.py\u001b[0m in \u001b[0;36moptimize\u001b[0;34m(self, func, n_trials, timeout, n_jobs, catch, callbacks, gc_after_trial, show_progress_bar)\u001b[0m\n\u001b[1;32m    407\u001b[0m             \u001b[0mcallbacks\u001b[0m\u001b[0;34m=\u001b[0m\u001b[0mcallbacks\u001b[0m\u001b[0;34m,\u001b[0m\u001b[0;34m\u001b[0m\u001b[0;34m\u001b[0m\u001b[0m\n\u001b[1;32m    408\u001b[0m             \u001b[0mgc_after_trial\u001b[0m\u001b[0;34m=\u001b[0m\u001b[0mgc_after_trial\u001b[0m\u001b[0;34m,\u001b[0m\u001b[0;34m\u001b[0m\u001b[0;34m\u001b[0m\u001b[0m\n\u001b[0;32m--> 409\u001b[0;31m             \u001b[0mshow_progress_bar\u001b[0m\u001b[0;34m=\u001b[0m\u001b[0mshow_progress_bar\u001b[0m\u001b[0;34m,\u001b[0m\u001b[0;34m\u001b[0m\u001b[0;34m\u001b[0m\u001b[0m\n\u001b[0m\u001b[1;32m    410\u001b[0m         )\n\u001b[1;32m    411\u001b[0m \u001b[0;34m\u001b[0m\u001b[0m\n",
            "\u001b[0;32m/usr/local/lib/python3.7/dist-packages/optuna/_optimize.py\u001b[0m in \u001b[0;36m_optimize\u001b[0;34m(study, func, n_trials, timeout, n_jobs, catch, callbacks, gc_after_trial, show_progress_bar)\u001b[0m\n\u001b[1;32m     74\u001b[0m                 \u001b[0mreseed_sampler_rng\u001b[0m\u001b[0;34m=\u001b[0m\u001b[0;32mFalse\u001b[0m\u001b[0;34m,\u001b[0m\u001b[0;34m\u001b[0m\u001b[0;34m\u001b[0m\u001b[0m\n\u001b[1;32m     75\u001b[0m                 \u001b[0mtime_start\u001b[0m\u001b[0;34m=\u001b[0m\u001b[0;32mNone\u001b[0m\u001b[0;34m,\u001b[0m\u001b[0;34m\u001b[0m\u001b[0;34m\u001b[0m\u001b[0m\n\u001b[0;32m---> 76\u001b[0;31m                 \u001b[0mprogress_bar\u001b[0m\u001b[0;34m=\u001b[0m\u001b[0mprogress_bar\u001b[0m\u001b[0;34m,\u001b[0m\u001b[0;34m\u001b[0m\u001b[0;34m\u001b[0m\u001b[0m\n\u001b[0m\u001b[1;32m     77\u001b[0m             )\n\u001b[1;32m     78\u001b[0m         \u001b[0;32melse\u001b[0m\u001b[0;34m:\u001b[0m\u001b[0;34m\u001b[0m\u001b[0;34m\u001b[0m\u001b[0m\n",
            "\u001b[0;32m/usr/local/lib/python3.7/dist-packages/optuna/_optimize.py\u001b[0m in \u001b[0;36m_optimize_sequential\u001b[0;34m(study, func, n_trials, timeout, catch, callbacks, gc_after_trial, reseed_sampler_rng, time_start, progress_bar)\u001b[0m\n\u001b[1;32m    161\u001b[0m \u001b[0;34m\u001b[0m\u001b[0m\n\u001b[1;32m    162\u001b[0m         \u001b[0;32mtry\u001b[0m\u001b[0;34m:\u001b[0m\u001b[0;34m\u001b[0m\u001b[0;34m\u001b[0m\u001b[0m\n\u001b[0;32m--> 163\u001b[0;31m             \u001b[0mtrial\u001b[0m \u001b[0;34m=\u001b[0m \u001b[0m_run_trial\u001b[0m\u001b[0;34m(\u001b[0m\u001b[0mstudy\u001b[0m\u001b[0;34m,\u001b[0m \u001b[0mfunc\u001b[0m\u001b[0;34m,\u001b[0m \u001b[0mcatch\u001b[0m\u001b[0;34m)\u001b[0m\u001b[0;34m\u001b[0m\u001b[0;34m\u001b[0m\u001b[0m\n\u001b[0m\u001b[1;32m    164\u001b[0m         \u001b[0;32mexcept\u001b[0m \u001b[0mException\u001b[0m\u001b[0;34m:\u001b[0m\u001b[0;34m\u001b[0m\u001b[0;34m\u001b[0m\u001b[0m\n\u001b[1;32m    165\u001b[0m             \u001b[0;32mraise\u001b[0m\u001b[0;34m\u001b[0m\u001b[0;34m\u001b[0m\u001b[0m\n",
            "\u001b[0;32m/usr/local/lib/python3.7/dist-packages/optuna/_optimize.py\u001b[0m in \u001b[0;36m_run_trial\u001b[0;34m(study, func, catch)\u001b[0m\n\u001b[1;32m    266\u001b[0m \u001b[0;34m\u001b[0m\u001b[0m\n\u001b[1;32m    267\u001b[0m     \u001b[0;32mif\u001b[0m \u001b[0mstate\u001b[0m \u001b[0;34m==\u001b[0m \u001b[0mTrialState\u001b[0m\u001b[0;34m.\u001b[0m\u001b[0mFAIL\u001b[0m \u001b[0;32mand\u001b[0m \u001b[0mfunc_err\u001b[0m \u001b[0;32mis\u001b[0m \u001b[0;32mnot\u001b[0m \u001b[0;32mNone\u001b[0m \u001b[0;32mand\u001b[0m \u001b[0;32mnot\u001b[0m \u001b[0misinstance\u001b[0m\u001b[0;34m(\u001b[0m\u001b[0mfunc_err\u001b[0m\u001b[0;34m,\u001b[0m \u001b[0mcatch\u001b[0m\u001b[0;34m)\u001b[0m\u001b[0;34m:\u001b[0m\u001b[0;34m\u001b[0m\u001b[0;34m\u001b[0m\u001b[0m\n\u001b[0;32m--> 268\u001b[0;31m         \u001b[0;32mraise\u001b[0m \u001b[0mfunc_err\u001b[0m\u001b[0;34m\u001b[0m\u001b[0;34m\u001b[0m\u001b[0m\n\u001b[0m\u001b[1;32m    269\u001b[0m     \u001b[0;32mreturn\u001b[0m \u001b[0mtrial\u001b[0m\u001b[0;34m\u001b[0m\u001b[0;34m\u001b[0m\u001b[0m\n\u001b[1;32m    270\u001b[0m \u001b[0;34m\u001b[0m\u001b[0m\n",
            "\u001b[0;32m/usr/local/lib/python3.7/dist-packages/optuna/_optimize.py\u001b[0m in \u001b[0;36m_run_trial\u001b[0;34m(study, func, catch)\u001b[0m\n\u001b[1;32m    215\u001b[0m \u001b[0;34m\u001b[0m\u001b[0m\n\u001b[1;32m    216\u001b[0m     \u001b[0;32mtry\u001b[0m\u001b[0;34m:\u001b[0m\u001b[0;34m\u001b[0m\u001b[0;34m\u001b[0m\u001b[0m\n\u001b[0;32m--> 217\u001b[0;31m         \u001b[0mvalue_or_values\u001b[0m \u001b[0;34m=\u001b[0m \u001b[0mfunc\u001b[0m\u001b[0;34m(\u001b[0m\u001b[0mtrial\u001b[0m\u001b[0;34m)\u001b[0m\u001b[0;34m\u001b[0m\u001b[0;34m\u001b[0m\u001b[0m\n\u001b[0m\u001b[1;32m    218\u001b[0m     \u001b[0;32mexcept\u001b[0m \u001b[0mexceptions\u001b[0m\u001b[0;34m.\u001b[0m\u001b[0mTrialPruned\u001b[0m \u001b[0;32mas\u001b[0m \u001b[0me\u001b[0m\u001b[0;34m:\u001b[0m\u001b[0;34m\u001b[0m\u001b[0;34m\u001b[0m\u001b[0m\n\u001b[1;32m    219\u001b[0m         \u001b[0;31m# TODO(mamu): Handle multi-objective cases.\u001b[0m\u001b[0;34m\u001b[0m\u001b[0;34m\u001b[0m\u001b[0;34m\u001b[0m\u001b[0m\n",
            "\u001b[0;32m<ipython-input-50-e7bd3363a0e0>\u001b[0m in \u001b[0;36mc620_objective\u001b[0;34m(trial)\u001b[0m\n\u001b[1;32m    100\u001b[0m       \u001b[0mc620_op_dict\u001b[0m \u001b[0;34m=\u001b[0m \u001b[0;34m{\u001b[0m\u001b[0;34m}\u001b[0m\u001b[0;34m\u001b[0m\u001b[0;34m\u001b[0m\u001b[0m\n\u001b[1;32m    101\u001b[0m       \u001b[0;32mfor\u001b[0m \u001b[0mname\u001b[0m \u001b[0;32min\u001b[0m \u001b[0mc620_op_col\u001b[0m\u001b[0;34m:\u001b[0m\u001b[0;34m\u001b[0m\u001b[0;34m\u001b[0m\u001b[0m\n\u001b[0;32m--> 102\u001b[0;31m         \u001b[0mc620_op_dict\u001b[0m\u001b[0;34m[\u001b[0m\u001b[0mname\u001b[0m\u001b[0;34m]\u001b[0m \u001b[0;34m=\u001b[0m \u001b[0mtrial\u001b[0m\u001b[0;34m.\u001b[0m\u001b[0msuggest_uniform\u001b[0m\u001b[0;34m(\u001b[0m\u001b[0mname\u001b[0m\u001b[0;34m,\u001b[0m\u001b[0mc620_op_min\u001b[0m\u001b[0;34m[\u001b[0m\u001b[0mname\u001b[0m\u001b[0;34m]\u001b[0m\u001b[0;34m,\u001b[0m\u001b[0mc620_op_max\u001b[0m\u001b[0;34m[\u001b[0m\u001b[0mname\u001b[0m\u001b[0;34m]\u001b[0m\u001b[0;34m)\u001b[0m\u001b[0;34m\u001b[0m\u001b[0;34m\u001b[0m\u001b[0m\n\u001b[0m\u001b[1;32m    103\u001b[0m       \u001b[0mc620_op\u001b[0m \u001b[0;34m=\u001b[0m \u001b[0mpd\u001b[0m\u001b[0;34m.\u001b[0m\u001b[0mDataFrame\u001b[0m\u001b[0;34m(\u001b[0m\u001b[0mc620_op_dict\u001b[0m\u001b[0;34m,\u001b[0m\u001b[0mindex\u001b[0m\u001b[0;34m=\u001b[0m\u001b[0midx\u001b[0m\u001b[0;34m)\u001b[0m\u001b[0;34m\u001b[0m\u001b[0;34m\u001b[0m\u001b[0m\n\u001b[1;32m    104\u001b[0m       \u001b[0m輸入端bz\u001b[0m \u001b[0;34m=\u001b[0m \u001b[0micg_input\u001b[0m\u001b[0;34m[\u001b[0m\u001b[0;34m'Simulation Case Conditions_Spec 1 : Benzene in C620 Sidedraw_wt%'\u001b[0m\u001b[0;34m]\u001b[0m\u001b[0;34m.\u001b[0m\u001b[0mvalues\u001b[0m\u001b[0;34m[\u001b[0m\u001b[0;36m0\u001b[0m\u001b[0;34m]\u001b[0m\u001b[0;34m\u001b[0m\u001b[0;34m\u001b[0m\u001b[0m\n",
            "\u001b[0;31mNameError\u001b[0m: name 'c620_op_min' is not defined"
          ]
        }
      ]
    },
    {
      "cell_type": "code",
      "metadata": {
        "id": "co6zFgOqXHE3"
      },
      "source": [
        ""
      ],
      "execution_count": null,
      "outputs": []
    }
  ]
}