{
  "nbformat": 4,
  "nbformat_minor": 0,
  "metadata": {
    "colab": {
      "name": "Assembly.ipynb",
      "provenance": [],
      "collapsed_sections": [
        "IEKp-SYsPkip",
        "5l5jUxUqNUxQ",
        "mzQ_FNmgRUit",
        "V-czTbsnJUED",
        "XCrSd9ICUydW",
        "50ddy_o3Utcy",
        "1u2sIZi1maeB",
        "X9yg2_p2veZA"
      ],
      "mount_file_id": "1_9JDtmkBSNup_Slz83DR7wiEDGEdV9pU",
      "authorship_tag": "ABX9TyNx9HSVIH+q8d2iLoAK9U85",
      "include_colab_link": true
    },
    "kernelspec": {
      "name": "python3",
      "display_name": "Python 3"
    },
    "language_info": {
      "name": "python"
    },
    "widgets": {
      "application/vnd.jupyter.widget-state+json": {
        "52bf5995921a49818dfd3b39efe08c29": {
          "model_module": "@jupyter-widgets/controls",
          "model_name": "HBoxModel",
          "state": {
            "_view_name": "HBoxView",
            "_dom_classes": [],
            "_model_name": "HBoxModel",
            "_view_module": "@jupyter-widgets/controls",
            "_model_module_version": "1.5.0",
            "_view_count": null,
            "_view_module_version": "1.5.0",
            "box_style": "",
            "layout": "IPY_MODEL_e69f8539bdda4b4aa796ad5c0197230b",
            "_model_module": "@jupyter-widgets/controls",
            "children": [
              "IPY_MODEL_60c4fa806dbb45e6a85641a6ecb0480d",
              "IPY_MODEL_0965806b34bf4cd08ac147a56d065363"
            ]
          }
        },
        "e69f8539bdda4b4aa796ad5c0197230b": {
          "model_module": "@jupyter-widgets/base",
          "model_name": "LayoutModel",
          "state": {
            "_view_name": "LayoutView",
            "grid_template_rows": null,
            "right": null,
            "justify_content": null,
            "_view_module": "@jupyter-widgets/base",
            "overflow": null,
            "_model_module_version": "1.2.0",
            "_view_count": null,
            "flex_flow": null,
            "width": null,
            "min_width": null,
            "border": null,
            "align_items": null,
            "bottom": null,
            "_model_module": "@jupyter-widgets/base",
            "top": null,
            "grid_column": null,
            "overflow_y": null,
            "overflow_x": null,
            "grid_auto_flow": null,
            "grid_area": null,
            "grid_template_columns": null,
            "flex": null,
            "_model_name": "LayoutModel",
            "justify_items": null,
            "grid_row": null,
            "max_height": null,
            "align_content": null,
            "visibility": null,
            "align_self": null,
            "height": null,
            "min_height": null,
            "padding": null,
            "grid_auto_rows": null,
            "grid_gap": null,
            "max_width": null,
            "order": null,
            "_view_module_version": "1.2.0",
            "grid_template_areas": null,
            "object_position": null,
            "object_fit": null,
            "grid_auto_columns": null,
            "margin": null,
            "display": null,
            "left": null
          }
        },
        "60c4fa806dbb45e6a85641a6ecb0480d": {
          "model_module": "@jupyter-widgets/controls",
          "model_name": "FloatProgressModel",
          "state": {
            "_view_name": "ProgressView",
            "style": "IPY_MODEL_01b64a8400d14743a09eeb20602ee357",
            "_dom_classes": [],
            "description": "100%",
            "_model_name": "FloatProgressModel",
            "bar_style": "success",
            "max": 300,
            "_view_module": "@jupyter-widgets/controls",
            "_model_module_version": "1.5.0",
            "value": 300,
            "_view_count": null,
            "_view_module_version": "1.5.0",
            "orientation": "horizontal",
            "min": 0,
            "description_tooltip": null,
            "_model_module": "@jupyter-widgets/controls",
            "layout": "IPY_MODEL_fb94fa283c804d8cbca7b10f9a7fe584"
          }
        },
        "0965806b34bf4cd08ac147a56d065363": {
          "model_module": "@jupyter-widgets/controls",
          "model_name": "HTMLModel",
          "state": {
            "_view_name": "HTMLView",
            "style": "IPY_MODEL_112106fbf9f147a4904304e0bc86ee8d",
            "_dom_classes": [],
            "description": "",
            "_model_name": "HTMLModel",
            "placeholder": "​",
            "_view_module": "@jupyter-widgets/controls",
            "_model_module_version": "1.5.0",
            "value": " 300/300 [00:47&lt;00:00,  6.31it/s]",
            "_view_count": null,
            "_view_module_version": "1.5.0",
            "description_tooltip": null,
            "_model_module": "@jupyter-widgets/controls",
            "layout": "IPY_MODEL_060b6ef3e4f44f8d835e2409e829e6a7"
          }
        },
        "01b64a8400d14743a09eeb20602ee357": {
          "model_module": "@jupyter-widgets/controls",
          "model_name": "ProgressStyleModel",
          "state": {
            "_view_name": "StyleView",
            "_model_name": "ProgressStyleModel",
            "description_width": "initial",
            "_view_module": "@jupyter-widgets/base",
            "_model_module_version": "1.5.0",
            "_view_count": null,
            "_view_module_version": "1.2.0",
            "bar_color": null,
            "_model_module": "@jupyter-widgets/controls"
          }
        },
        "fb94fa283c804d8cbca7b10f9a7fe584": {
          "model_module": "@jupyter-widgets/base",
          "model_name": "LayoutModel",
          "state": {
            "_view_name": "LayoutView",
            "grid_template_rows": null,
            "right": null,
            "justify_content": null,
            "_view_module": "@jupyter-widgets/base",
            "overflow": null,
            "_model_module_version": "1.2.0",
            "_view_count": null,
            "flex_flow": null,
            "width": null,
            "min_width": null,
            "border": null,
            "align_items": null,
            "bottom": null,
            "_model_module": "@jupyter-widgets/base",
            "top": null,
            "grid_column": null,
            "overflow_y": null,
            "overflow_x": null,
            "grid_auto_flow": null,
            "grid_area": null,
            "grid_template_columns": null,
            "flex": null,
            "_model_name": "LayoutModel",
            "justify_items": null,
            "grid_row": null,
            "max_height": null,
            "align_content": null,
            "visibility": null,
            "align_self": null,
            "height": null,
            "min_height": null,
            "padding": null,
            "grid_auto_rows": null,
            "grid_gap": null,
            "max_width": null,
            "order": null,
            "_view_module_version": "1.2.0",
            "grid_template_areas": null,
            "object_position": null,
            "object_fit": null,
            "grid_auto_columns": null,
            "margin": null,
            "display": null,
            "left": null
          }
        },
        "112106fbf9f147a4904304e0bc86ee8d": {
          "model_module": "@jupyter-widgets/controls",
          "model_name": "DescriptionStyleModel",
          "state": {
            "_view_name": "StyleView",
            "_model_name": "DescriptionStyleModel",
            "description_width": "",
            "_view_module": "@jupyter-widgets/base",
            "_model_module_version": "1.5.0",
            "_view_count": null,
            "_view_module_version": "1.2.0",
            "_model_module": "@jupyter-widgets/controls"
          }
        },
        "060b6ef3e4f44f8d835e2409e829e6a7": {
          "model_module": "@jupyter-widgets/base",
          "model_name": "LayoutModel",
          "state": {
            "_view_name": "LayoutView",
            "grid_template_rows": null,
            "right": null,
            "justify_content": null,
            "_view_module": "@jupyter-widgets/base",
            "overflow": null,
            "_model_module_version": "1.2.0",
            "_view_count": null,
            "flex_flow": null,
            "width": null,
            "min_width": null,
            "border": null,
            "align_items": null,
            "bottom": null,
            "_model_module": "@jupyter-widgets/base",
            "top": null,
            "grid_column": null,
            "overflow_y": null,
            "overflow_x": null,
            "grid_auto_flow": null,
            "grid_area": null,
            "grid_template_columns": null,
            "flex": null,
            "_model_name": "LayoutModel",
            "justify_items": null,
            "grid_row": null,
            "max_height": null,
            "align_content": null,
            "visibility": null,
            "align_self": null,
            "height": null,
            "min_height": null,
            "padding": null,
            "grid_auto_rows": null,
            "grid_gap": null,
            "max_width": null,
            "order": null,
            "_view_module_version": "1.2.0",
            "grid_template_areas": null,
            "object_position": null,
            "object_fit": null,
            "grid_auto_columns": null,
            "margin": null,
            "display": null,
            "left": null
          }
        }
      }
    }
  },
  "cells": [
    {
      "cell_type": "markdown",
      "metadata": {
        "id": "view-in-github",
        "colab_type": "text"
      },
      "source": [
        "<a href=\"https://colab.research.google.com/github/skywalker0803r/c620/blob/main/notebook/Assembly.ipynb\" target=\"_parent\"><img src=\"https://colab.research.google.com/assets/colab-badge.svg\" alt=\"Open In Colab\"/></a>"
      ]
    },
    {
      "cell_type": "code",
      "metadata": {
        "id": "pVn4fkd1629H"
      },
      "source": [
        "!pip install autorch > log.txt\n",
        "!pip install optuna > log.txt"
      ],
      "execution_count": 424,
      "outputs": []
    },
    {
      "cell_type": "code",
      "metadata": {
        "id": "dpPYEEG_6nch"
      },
      "source": [
        "import joblib\n",
        "import os\n",
        "import numpy as np\n",
        "import pandas as pd\n",
        "import matplotlib.pyplot as plt\n",
        "import autorch\n",
        "from autorch.function import sp2wt\n",
        "import optuna\n",
        "from tqdm import tqdm_notebook as tqdm"
      ],
      "execution_count": 425,
      "outputs": []
    },
    {
      "cell_type": "markdown",
      "metadata": {
        "id": "TzM-ooIqP-Ih"
      },
      "source": [
        "# LOAD DATA"
      ]
    },
    {
      "cell_type": "code",
      "metadata": {
        "id": "eXCIn36JP2ki"
      },
      "source": [
        "icg_c = joblib.load('/content/drive/MyDrive/台塑輕油案子/data/c620/col_names/icg_col_names.pkl')\n",
        "c620_c = joblib.load('/content/drive/MyDrive/台塑輕油案子/data/c620/col_names/c620_col_names.pkl')\n",
        "c660_c = joblib.load('/content/drive/MyDrive/台塑輕油案子/data/c620/col_names/c660_col_names.pkl')\n",
        "t651_c = joblib.load('/content/drive/MyDrive/台塑輕油案子/data/c620/col_names/t651_col_names.pkl')\n",
        "c670_c = joblib.load('/content/drive/MyDrive/台塑輕油案子/data/c620/col_names/c670_col_names.pkl')"
      ],
      "execution_count": 426,
      "outputs": []
    },
    {
      "cell_type": "markdown",
      "metadata": {
        "id": "tKWrKtswz9tC"
      },
      "source": [
        "# 有共同index的部分"
      ]
    },
    {
      "cell_type": "code",
      "metadata": {
        "colab": {
          "base_uri": "https://localhost:8080/"
        },
        "id": "1dWX0egCP5n2",
        "outputId": "537884fc-d31e-4233-93f6-b710dd012f79"
      },
      "source": [
        "icg_df = pd.read_csv('/content/drive/MyDrive/台塑輕油案子/data/c620/cleaned/icg_train.csv',index_col=0).dropna(axis=0)\n",
        "c620_df = pd.read_csv('/content/drive/MyDrive/台塑輕油案子/data/c620/cleaned/c620_train.csv',index_col=0).dropna(axis=0)\n",
        "c660_df = pd.read_csv('/content/drive/MyDrive/台塑輕油案子/data/c620/cleaned/c660_train.csv',index_col=0).dropna(axis=0)\n",
        "c670_df = pd.read_csv('/content/drive/MyDrive/台塑輕油案子/data/c620/cleaned/c670_train.csv',index_col=0).dropna(axis=0)\n",
        "t651_df = pd.read_csv('/content/drive/MyDrive/台塑輕油案子/data/c620/cleaned/t651_train.csv',index_col=0).dropna(axis=0)\n",
        "allidx = list(set(icg_df.index)&\n",
        "      set(c620_df.index)&\n",
        "      set(c660_df.index)&\n",
        "      set(c670_df.index)&\n",
        "      set(t651_df.index))\n",
        "len(allidx)"
      ],
      "execution_count": 427,
      "outputs": [
        {
          "output_type": "execute_result",
          "data": {
            "text/plain": [
              "1295"
            ]
          },
          "metadata": {
            "tags": []
          },
          "execution_count": 427
        }
      ]
    },
    {
      "cell_type": "markdown",
      "metadata": {
        "id": "fpOGvlOAP_vK"
      },
      "source": [
        "# INPUT端"
      ]
    },
    {
      "cell_type": "code",
      "metadata": {
        "id": "AGOyPmAYP_7k"
      },
      "source": [
        "# icg\n",
        "icg_input = icg_df.loc[allidx,icg_c['x']]\n",
        "icg_input = icg_input.join(c620_df.loc[allidx,'Tatoray Stripper C620 Operation_Specifications_Spec 2 : Distillate Rate_m3/hr'])\n",
        "icg_input = icg_input.join(c660_df.loc[allidx,'Benzene Column C660 Operation_Specifications_Spec 3 : Toluene in Benzene_ppmw'])\n",
        "icg_input = icg_input.join(c620_df.loc[allidx].filter(regex='Receiver Temp'))\n",
        "\n",
        "# c620\n",
        "c620_feed = c620_df.loc[allidx,c620_c['x41']]\n",
        "\n",
        "# t651\n",
        "t651_feed = t651_df.loc[allidx,t651_c['x41']]"
      ],
      "execution_count": 428,
      "outputs": []
    },
    {
      "cell_type": "markdown",
      "metadata": {
        "id": "TQY4nRxZQAGa"
      },
      "source": [
        "# OUTPUT端"
      ]
    },
    {
      "cell_type": "code",
      "metadata": {
        "id": "YIKpcrZvQAM0"
      },
      "source": [
        "c620_op = c620_df.loc[allidx,c620_c['density']+c620_c['yRefluxRate']+c620_c['yHeatDuty']+c620_c['yControl']]\n",
        "c620_wt = c620_df.loc[allidx,c620_c['vent_gas_x']+c620_c['distillate_x']+c620_c['sidedraw_x']+c620_c['bottoms_x']]\n",
        "c660_op = c660_df.loc[allidx,c660_c['density']+c660_c['yRefluxRate']+c660_c['yHeatDuty']+c660_c['yControl']]\n",
        "c660_wt = c660_df.loc[allidx,c660_c['vent_gas_x']+c660_c['distillate_x']+c660_c['sidedraw_x']+c660_c['bottoms_x']]\n",
        "c670_op = c670_df.loc[allidx,c670_c['density']+c670_c['yRefluxRate']+c670_c['yHeatDuty']+c670_c['yControl']]\n",
        "c670_wt = c670_df.loc[allidx,c670_c['distillate_x']+c670_c['bottoms_x']]"
      ],
      "execution_count": 429,
      "outputs": []
    },
    {
      "cell_type": "markdown",
      "metadata": {
        "id": "N0U8W0SuQGpA"
      },
      "source": [
        "# CONFIG"
      ]
    },
    {
      "cell_type": "code",
      "metadata": {
        "id": "bJ4nftFlJMjk"
      },
      "source": [
        "config = {\n",
        "      # c620\n",
        "      'c620_G':'/content/drive/MyDrive/台塑輕油案子/data/c620/model/c620_G.pkl',\n",
        "      'c620_F':'/content/drive/MyDrive/台塑輕油案子/data/c620/model/c620_F.pkl',\n",
        "      'c620_op_min':'/content/drive/MyDrive/台塑輕油案子/data/c620/map_dict/c620_op_min.pkl',\n",
        "      'c620_op_max':'/content/drive/MyDrive/台塑輕油案子/data/c620/map_dict/c620_op_max.pkl',\n",
        "\n",
        "      # c660\n",
        "      'c660_G':'/content/drive/MyDrive/台塑輕油案子/data/c620/model/c660_G.pkl',\n",
        "      'c660_F':'/content/drive/MyDrive/台塑輕油案子/data/c620/model/c660_F.pkl',\n",
        "      'c660_op_min':'/content/drive/MyDrive/台塑輕油案子/data/c620/map_dict/c660_op_min.pkl',\n",
        "      'c660_op_max':'/content/drive/MyDrive/台塑輕油案子/data/c620/map_dict/c660_op_max.pkl',\n",
        "\n",
        "      # c670\n",
        "      'c670_M':'/content/drive/MyDrive/台塑輕油案子/data/c620/model/c670.pkl',\n",
        "      \n",
        "      # col_names\n",
        "      'icg_col_path':'/content/drive/MyDrive/台塑輕油案子/data/c620/col_names/icg_col_names.pkl',\n",
        "      'c620_col_path':'/content/drive/MyDrive/台塑輕油案子/data/c620/col_names/c620_col_names.pkl',\n",
        "      'c660_col_path':'/content/drive/MyDrive/台塑輕油案子/data/c620/col_names/c660_col_names.pkl',\n",
        "      'c670_col_path':'/content/drive/MyDrive/台塑輕油案子/data/c620/col_names/c670_col_names.pkl',\n",
        "      \n",
        "      # Special column (0.9999 & 0.0001)\n",
        "      'index_9999_path':'/content/drive/MyDrive/台塑輕油案子/data/c620/cleaned/index_9999.pkl',\n",
        "      'index_0001_path':'/content/drive/MyDrive/台塑輕油案子/data/c620/cleaned/index_0001.pkl',\n",
        "\n",
        "      # sp\n",
        "      'c620_wt_always_same_split_factor_dict':'/content/drive/MyDrive/台塑輕油案子/data/c620/map_dict/c620_wt_always_same_split_factor_dict.pkl',\n",
        "      'c660_wt_always_same_split_factor_dict':'/content/drive/MyDrive/台塑輕油案子/data/c620/map_dict/c660_wt_always_same_split_factor_dict.pkl',\n",
        "      'c670_wt_always_same_split_factor_dict':'/content/drive/MyDrive/台塑輕油案子/data/c620/map_dict/c670_wt_always_same_split_factor_dict.pkl',\n",
        "\n",
        "      'op_fix_model':'/content/drive/MyDrive/台塑輕油案子/data/c620/model/fix_model.pkl',\n",
        "      \n",
        "          }"
      ],
      "execution_count": 430,
      "outputs": []
    },
    {
      "cell_type": "markdown",
      "metadata": {
        "id": "UJEVdVxnQkjM"
      },
      "source": [
        "# 輸入與輸出的對應關係"
      ]
    },
    {
      "cell_type": "code",
      "metadata": {
        "id": "bxuaMmDJQkuR",
        "colab": {
          "base_uri": "https://localhost:8080/",
          "height": 198
        },
        "outputId": "568888a0-0b9c-49dc-c41e-2fa37e3074cb"
      },
      "source": [
        "# 對應關係1\n",
        "a = icg_input[['Simulation Case Conditions_Spec 1 : Benzene in C620 Sidedraw_wt%']]\n",
        "b = c620_df['Tatoray Stripper C620 Operation_Sidedraw Production Rate and Composition_Benzene_wt%']\n",
        "a.join(b).sample(5)"
      ],
      "execution_count": 431,
      "outputs": [
        {
          "output_type": "execute_result",
          "data": {
            "text/html": [
              "<div>\n",
              "<style scoped>\n",
              "    .dataframe tbody tr th:only-of-type {\n",
              "        vertical-align: middle;\n",
              "    }\n",
              "\n",
              "    .dataframe tbody tr th {\n",
              "        vertical-align: top;\n",
              "    }\n",
              "\n",
              "    .dataframe thead th {\n",
              "        text-align: right;\n",
              "    }\n",
              "</style>\n",
              "<table border=\"1\" class=\"dataframe\">\n",
              "  <thead>\n",
              "    <tr style=\"text-align: right;\">\n",
              "      <th></th>\n",
              "      <th>Simulation Case Conditions_Spec 1 : Benzene in C620 Sidedraw_wt%</th>\n",
              "      <th>Tatoray Stripper C620 Operation_Sidedraw Production Rate and Composition_Benzene_wt%</th>\n",
              "    </tr>\n",
              "  </thead>\n",
              "  <tbody>\n",
              "    <tr>\n",
              "      <th>015-005</th>\n",
              "      <td>90.0</td>\n",
              "      <td>90.000008</td>\n",
              "    </tr>\n",
              "    <tr>\n",
              "      <th>120-008</th>\n",
              "      <td>90.0</td>\n",
              "      <td>90.000000</td>\n",
              "    </tr>\n",
              "    <tr>\n",
              "      <th>017-014</th>\n",
              "      <td>80.0</td>\n",
              "      <td>80.000015</td>\n",
              "    </tr>\n",
              "    <tr>\n",
              "      <th>082-014</th>\n",
              "      <td>80.0</td>\n",
              "      <td>79.999992</td>\n",
              "    </tr>\n",
              "    <tr>\n",
              "      <th>076-026</th>\n",
              "      <td>70.0</td>\n",
              "      <td>70.000008</td>\n",
              "    </tr>\n",
              "  </tbody>\n",
              "</table>\n",
              "</div>"
            ],
            "text/plain": [
              "         Simulation Case Conditions_Spec 1 : Benzene in C620 Sidedraw_wt%  Tatoray Stripper C620 Operation_Sidedraw Production Rate and Composition_Benzene_wt%\n",
              "015-005                                               90.0                                                         90.000008                                   \n",
              "120-008                                               90.0                                                         90.000000                                   \n",
              "017-014                                               80.0                                                         80.000015                                   \n",
              "082-014                                               80.0                                                         79.999992                                   \n",
              "076-026                                               70.0                                                         70.000008                                   "
            ]
          },
          "metadata": {
            "tags": []
          },
          "execution_count": 431
        }
      ]
    },
    {
      "cell_type": "code",
      "metadata": {
        "id": "7yx3ge6_RlJ1",
        "colab": {
          "base_uri": "https://localhost:8080/",
          "height": 198
        },
        "outputId": "ae8059f7-34bb-46d3-8658-e3ef5d86adda"
      },
      "source": [
        "#對應關係2\n",
        "a = icg_input[['Simulation Case Conditions_Spec 2 : NA in Benzene_ppmw']]\n",
        "na_idx = [1,2,3,4,5,6,8,9,11,13,14,15,20,22,29] \n",
        "b = c660_wt.filter(regex='Side').filter(regex='wt%').iloc[:,na_idx].sum(axis=1)*10000\n",
        "b.name = 'c660_wt_NA_in_Benzene_ppmw'\n",
        "a.join(b).sample(5)"
      ],
      "execution_count": 432,
      "outputs": [
        {
          "output_type": "execute_result",
          "data": {
            "text/html": [
              "<div>\n",
              "<style scoped>\n",
              "    .dataframe tbody tr th:only-of-type {\n",
              "        vertical-align: middle;\n",
              "    }\n",
              "\n",
              "    .dataframe tbody tr th {\n",
              "        vertical-align: top;\n",
              "    }\n",
              "\n",
              "    .dataframe thead th {\n",
              "        text-align: right;\n",
              "    }\n",
              "</style>\n",
              "<table border=\"1\" class=\"dataframe\">\n",
              "  <thead>\n",
              "    <tr style=\"text-align: right;\">\n",
              "      <th></th>\n",
              "      <th>Simulation Case Conditions_Spec 2 : NA in Benzene_ppmw</th>\n",
              "      <th>c660_wt_NA_in_Benzene_ppmw</th>\n",
              "    </tr>\n",
              "  </thead>\n",
              "  <tbody>\n",
              "    <tr>\n",
              "      <th>023-002</th>\n",
              "      <td>950.0</td>\n",
              "      <td>949.990194</td>\n",
              "    </tr>\n",
              "    <tr>\n",
              "      <th>113-011</th>\n",
              "      <td>980.0</td>\n",
              "      <td>979.997956</td>\n",
              "    </tr>\n",
              "    <tr>\n",
              "      <th>102-026</th>\n",
              "      <td>860.0</td>\n",
              "      <td>859.999280</td>\n",
              "    </tr>\n",
              "    <tr>\n",
              "      <th>031-023</th>\n",
              "      <td>950.0</td>\n",
              "      <td>950.002931</td>\n",
              "    </tr>\n",
              "    <tr>\n",
              "      <th>083-020</th>\n",
              "      <td>950.0</td>\n",
              "      <td>949.995645</td>\n",
              "    </tr>\n",
              "  </tbody>\n",
              "</table>\n",
              "</div>"
            ],
            "text/plain": [
              "         Simulation Case Conditions_Spec 2 : NA in Benzene_ppmw  c660_wt_NA_in_Benzene_ppmw\n",
              "023-002                                              950.0                       949.990194\n",
              "113-011                                              980.0                       979.997956\n",
              "102-026                                              860.0                       859.999280\n",
              "031-023                                              950.0                       950.002931\n",
              "083-020                                              950.0                       949.995645"
            ]
          },
          "metadata": {
            "tags": []
          },
          "execution_count": 432
        }
      ]
    },
    {
      "cell_type": "code",
      "metadata": {
        "id": "XUQ4UKYVRlPO",
        "colab": {
          "base_uri": "https://localhost:8080/",
          "height": 198
        },
        "outputId": "720dea95-2a69-427f-e04a-9bf1b509c15a"
      },
      "source": [
        "#對應關係3\n",
        "a = icg_input[['Benzene Column C660 Operation_Specifications_Spec 3 : Toluene in Benzene_ppmw']]\n",
        "b = c660_df['Benzene Column C660 Operation_Sidedraw (Benzene )Production Rate and Composition_Toluene_wt%']*10000\n",
        "a.join(b).sample(5)"
      ],
      "execution_count": 433,
      "outputs": [
        {
          "output_type": "execute_result",
          "data": {
            "text/html": [
              "<div>\n",
              "<style scoped>\n",
              "    .dataframe tbody tr th:only-of-type {\n",
              "        vertical-align: middle;\n",
              "    }\n",
              "\n",
              "    .dataframe tbody tr th {\n",
              "        vertical-align: top;\n",
              "    }\n",
              "\n",
              "    .dataframe thead th {\n",
              "        text-align: right;\n",
              "    }\n",
              "</style>\n",
              "<table border=\"1\" class=\"dataframe\">\n",
              "  <thead>\n",
              "    <tr style=\"text-align: right;\">\n",
              "      <th></th>\n",
              "      <th>Benzene Column C660 Operation_Specifications_Spec 3 : Toluene in Benzene_ppmw</th>\n",
              "      <th>Benzene Column C660 Operation_Sidedraw (Benzene )Production Rate and Composition_Toluene_wt%</th>\n",
              "    </tr>\n",
              "  </thead>\n",
              "  <tbody>\n",
              "    <tr>\n",
              "      <th>124-005</th>\n",
              "      <td>10.000062</td>\n",
              "      <td>10.000062</td>\n",
              "    </tr>\n",
              "    <tr>\n",
              "      <th>124-026</th>\n",
              "      <td>5.000008</td>\n",
              "      <td>5.000008</td>\n",
              "    </tr>\n",
              "    <tr>\n",
              "      <th>072-005</th>\n",
              "      <td>9.999967</td>\n",
              "      <td>9.999967</td>\n",
              "    </tr>\n",
              "    <tr>\n",
              "      <th>135-002</th>\n",
              "      <td>10.000049</td>\n",
              "      <td>10.000049</td>\n",
              "    </tr>\n",
              "    <tr>\n",
              "      <th>094-005</th>\n",
              "      <td>10.000076</td>\n",
              "      <td>10.000076</td>\n",
              "    </tr>\n",
              "  </tbody>\n",
              "</table>\n",
              "</div>"
            ],
            "text/plain": [
              "         Benzene Column C660 Operation_Specifications_Spec 3 : Toluene in Benzene_ppmw  Benzene Column C660 Operation_Sidedraw (Benzene )Production Rate and Composition_Toluene_wt%\n",
              "124-005                                          10.000062                                                                      10.000062                                           \n",
              "124-026                                           5.000008                                                                       5.000008                                           \n",
              "072-005                                           9.999967                                                                       9.999967                                           \n",
              "135-002                                          10.000049                                                                      10.000049                                           \n",
              "094-005                                          10.000076                                                                      10.000076                                           "
            ]
          },
          "metadata": {
            "tags": []
          },
          "execution_count": 433
        }
      ]
    },
    {
      "cell_type": "code",
      "metadata": {
        "id": "CoUcarIY6_XN"
      },
      "source": [
        "class AllSystem(object):\n",
        "  def __init__(self,config):\n",
        "    \n",
        "    # C620 部份模組\n",
        "    self.c620_G = joblib.load(config['c620_G'])\n",
        "    self.c620_F = joblib.load(config['c620_F'])\n",
        "    self.c620_op_min = joblib.load(config['c620_op_min'])\n",
        "    self.c620_op_max = joblib.load(config['c620_op_max'])\n",
        "    \n",
        "    # C660 部份模組\n",
        "    self.c660_G = joblib.load(config['c660_G'])\n",
        "    self.c660_F = joblib.load(config['c660_F'])\n",
        "    self.c660_op_min = joblib.load(config['c660_op_min'])\n",
        "    self.c660_op_max = joblib.load(config['c660_op_max'])\n",
        "\n",
        "    # C670 部份模組\n",
        "    self.c670_M = joblib.load(config['c670_M'])\n",
        "    \n",
        "    # 用來修正現場儀表的誤差\n",
        "    self.op_fix_model = joblib.load(config['op_fix_model'])\n",
        "\n",
        "    # 欄位名稱列表\n",
        "    self.icg_col = joblib.load(config['icg_col_path'])\n",
        "    self.c620_col = joblib.load(config['c620_col_path'])\n",
        "    self.c660_col = joblib.load(config['c660_col_path'])\n",
        "    self.c670_col = joblib.load(config['c670_col_path'])\n",
        "    \n",
        "    # 其他資訊\n",
        "    self.c620_wt_always_same_split_factor_dict = joblib.load(config['c620_wt_always_same_split_factor_dict'])\n",
        "    self.c660_wt_always_same_split_factor_dict = joblib.load(config['c660_wt_always_same_split_factor_dict'])\n",
        "    self.c670_wt_always_same_split_factor_dict = joblib.load(config['c670_wt_always_same_split_factor_dict'])\n",
        "    self.index_9999 = joblib.load(config['index_9999_path'])\n",
        "    self.index_0001 = joblib.load(config['index_0001_path'])\n",
        "\n",
        "    # 由廠區方提供的平均密度用來將體積流量轉成重量流量\n",
        "    self.V615_density = 0.8626\n",
        "    self.C820_density = 0.8731\n",
        "    self.T651_density = 0.8749\n",
        "\n",
        "    # 操作欄位名稱列表\n",
        "    self.c620_op_col = self.c620_G.y_col # G系列模型本身就是預測操作條件\n",
        "    self.c660_op_col = self.c660_G.y_col # G系列模型本身就是預測操作條件\n",
        "    self.c670_op_col = self.c670_M.y_col[41*2:] #前面82個是分離係數後面都是操作條件\n",
        "\n",
        "    # 廠區通常調整欄位列表\n",
        "    self.c620_op_col_can_change = ['Tatoray Stripper C620 Operation_Column Temp Profile_C620 Tray 14 (Control)_oC','Tatoray Stripper C620 Operation_Column Temp Profile_C620 Tray 34 (Control)_oC']\n",
        "    self.c660_op_col_can_change = ['Benzene Column C660 Operation_Column Temp Profile_C660 Tray 6 (SD & Control)_oC','Benzene Column C660 Operation_Column Temp Profile_C660 Tray 23 (Control)_oC']\n",
        "  \n",
        "  def inference(self,icg_input,c620_feed,t651_feed,\n",
        "                real_data_mode = False #修正現場儀表誤差用\n",
        "                ):\n",
        "    \n",
        "    # 紀錄樣本index\n",
        "    idx = icg_input.index\n",
        "    \n",
        "    # 計算c620_case\n",
        "    c620_case = pd.DataFrame(index=idx,columns=self.c620_col['case'])\n",
        "    c620_case['Tatoray Stripper C620 Operation_Specifications_Spec 1 : Receiver Temp_oC'] = icg_input['Tatoray Stripper C620 Operation_Specifications_Spec 1 : Receiver Temp_oC'].values\n",
        "    c620_case['Tatoray Stripper C620 Operation_Specifications_Spec 2 : Distillate Rate_m3/hr'] = icg_input['Tatoray Stripper C620 Operation_Specifications_Spec 2 : Distillate Rate_m3/hr'].values\n",
        "    c620_case['Tatoray Stripper C620 Operation_Specifications_Spec 3 : Benzene in Sidedraw_wt%'] = icg_input['Simulation Case Conditions_Spec 1 : Benzene in C620 Sidedraw_wt%'].values\n",
        "    \n",
        "    # 預測c620操作條件和分離係數\n",
        "    c620_op = self.c620_G.predict(c620_case.join(c620_feed))\n",
        "    c620_sp = self.c620_F.predict(c620_case.join(c620_feed).join(c620_op))\n",
        "    \n",
        "    # 計算c620輸出組成\n",
        "    s1,s2,s3,s4 = c620_sp.iloc[:,:41].values,c620_sp.iloc[:,41:41*2].values,c620_sp.iloc[:,41*2:41*3].values,c620_sp.iloc[:,41*3:41*4].values\n",
        "    w1,w2,w3,w4 = sp2wt(c620_feed,s1),sp2wt(c620_feed,s2),sp2wt(c620_feed,s3),sp2wt(c620_feed,s4)\n",
        "    wt = np.hstack((w1,w2,w3,w4))\n",
        "    c620_wt = pd.DataFrame(wt,index=idx,columns=self.c620_col['vent_gas_x']+self.c620_col['distillate_x']+self.c620_col['sidedraw_x']+self.c620_col['bottoms_x'])\n",
        "    \n",
        "    #計算c660_feed\n",
        "    V615_Btm_m3 = icg_input['Simulation Case Conditions_Feed Rate_Feed from V615 Btm_m3/hr'].values.reshape(-1,1)\n",
        "    C820_Dist_m3 = icg_input['Simulation Case Conditions_Feed Rate_Feed from C820 Dist_m3/hr'].values.reshape(-1,1)\n",
        "    V615_Btm_ton = V615_Btm_m3*self.V615_density\n",
        "    C820_Dist_ton = C820_Dist_m3*self.C820_density\n",
        "    c620_feed_rate_ton = V615_Btm_ton+C820_Dist_ton\n",
        "    c620_mf_side = np.sum(c620_feed_rate_ton*c620_feed.values*s3*0.01,axis=1,keepdims=True)\n",
        "    c620_mf_bot = np.sum(c620_feed_rate_ton*c620_feed.values*s4*0.01,axis=1,keepdims=True)\n",
        "    t651_mf = (icg_input['Simulation Case Conditions_Feed Rate_Feed from T651_m3/hr']*self.T651_density).values.reshape(-1,1)\n",
        "    c660_mf = t651_mf + c620_mf_side\n",
        "    t651_mf_p ,c620_mf_side_p = t651_mf/c660_mf ,c620_mf_side/c660_mf\n",
        "    c660_feed = c620_wt[self.c620_col['sidedraw_x']].values*c620_mf_side_p + t651_feed.values*t651_mf_p\n",
        "    c660_feed = pd.DataFrame(c660_feed,index=idx,columns=self.c660_col['x41'])\n",
        "    \n",
        "    # 計算c660_case\n",
        "    c660_case = pd.DataFrame(index=idx,columns=self.c660_col['case'])\n",
        "    c660_case['Benzene Column C660 Operation_Specifications_Spec 2 : NA in Benzene_ppmw'] = icg_input['Simulation Case Conditions_Spec 2 : NA in Benzene_ppmw'].values\n",
        "    c660_case['Benzene Column C660 Operation_Specifications_Spec 3 : Toluene in Benzene_ppmw'] = icg_input['Benzene Column C660 Operation_Specifications_Spec 3 : Toluene in Benzene_ppmw'].values\n",
        "    \n",
        "    # 預測c660操作條件和分離係數\n",
        "    c660_op = self.c660_G.predict(c660_case.join(c660_feed))\n",
        "    c660_sp = self.c660_F.predict(c660_case.join(c660_feed).join(c660_op))\n",
        "    \n",
        "    # 計算c660輸出組成\n",
        "    s1,s2,s3,s4 = c660_sp.iloc[:,:41].values,c660_sp.iloc[:,41:41*2].values,c660_sp.iloc[:,41*2:41*3].values,c660_sp.iloc[:,41*3:41*4].values\n",
        "    w1,w2,w3,w4 = sp2wt(c660_feed,s1),sp2wt(c660_feed,s2),sp2wt(c660_feed,s3),sp2wt(c660_feed,s4)\n",
        "    wt = np.hstack((w1,w2,w3,w4))\n",
        "    c660_wt = pd.DataFrame(wt,index=idx,columns=self.c660_col['vent_gas_x']+self.c660_col['distillate_x']+self.c660_col['sidedraw_x']+self.c660_col['bottoms_x'])\n",
        "    \n",
        "    # 計算c670_feed\n",
        "    c660_mf_bot = np.sum(c660_mf*c660_feed.values*s4*0.01,axis=1,keepdims=True)\n",
        "    c670_mf = c620_mf_bot + c660_mf_bot\n",
        "    c620_mf_bot_p,c660_mf_bot_p = c620_mf_bot/c670_mf , c660_mf_bot/c670_mf\n",
        "    c670_feed = c620_wt[self.c620_col['bottoms_x']].values*c620_mf_bot_p + c660_wt[self.c660_col['bottoms_x']].values*c660_mf_bot_p\n",
        "    c670_feed = pd.DataFrame(c670_feed,index=idx,columns=self.c670_col['combined'])\n",
        "    \n",
        "    # 計算c670_upper_bf\n",
        "    c670_bf = pd.DataFrame(index=idx,columns=self.c670_col['upper_bf'])\n",
        "    c620_bot_x = c620_wt[self.c620_col['bottoms_x']].values\n",
        "    c660_bot_x = c660_wt[self.c660_col['bottoms_x']].values\n",
        "    upper_bf = (c660_bot_x*c660_mf_bot)/(c620_bot_x*c620_mf_bot+c660_bot_x*c660_mf_bot)\n",
        "    upper_bf = pd.DataFrame(upper_bf,index=idx,columns=self.c670_col['upper_bf'])\n",
        "    upper_bf[list(set(self.index_9999)&set(upper_bf.columns))] = 0.9999\n",
        "    upper_bf[list(set(self.index_0001)&set(upper_bf.columns))] = 0.0001\n",
        "    \n",
        "    # 直接預測分離係數和操作條件\n",
        "    c670_output = self.c670_M.predict(c670_feed.join(upper_bf))\n",
        "    c670_sp,c670_op = c670_output.iloc[:,:41*2],c670_output.iloc[:,41*2:]    \n",
        "    \n",
        "    # 計算輸出組成\n",
        "    s1,s2 = c670_sp[self.c670_col['distillate_sf']].values,c670_sp[self.c670_col['bottoms_sf']].values\n",
        "    w1,w2 = sp2wt(c670_feed,s1),sp2wt(c670_feed,s2)\n",
        "    c670_wt = pd.DataFrame(np.hstack((w1,w2)),index = idx,columns=self.c670_col['distillate_x']+self.c670_col['bottoms_x'])\n",
        "    \n",
        "    # 是否修正操作條件 for 現場數據\n",
        "    if real_data_mode == False:\n",
        "      return c620_wt,c620_op,c660_wt,c660_op,c670_wt,c670_op\n",
        "    \n",
        "    if real_data_mode == True:\n",
        "      # 有些欄位現場數據沒有\n",
        "      c620_op_col = c620_op.drop(['Tatoray Stripper C620 Operation_Heat Duty_Condenser Heat Duty_Mkcal/hr',\n",
        "                                 'Tatoray Stripper C620 Operation_Heat Duty_Reboiler Heat Duty_Mkcal/hr'],\n",
        "                                 axis=1).columns.tolist()\n",
        "      c660_op_col = c660_op.drop(['Benzene Column C660 Operation_Heat Duty_Condenser Heat Duty_Mkcal/hr',\n",
        "                                 'Benzene Column C660 Operation_Heat Duty_Reboiler Heat Duty_Mkcal/hr'],\n",
        "                                 axis=1).columns.tolist()\n",
        "      c670_op_col = c670_op.drop(['Toluene Column C670 Operation_Heat Duty_Condenser Heat Duty_Mkcal/hr',\n",
        "                                 'Toluene Column C670 Operation_Heat Duty_Reboiler Heat Duty_Mkcal/hr'],\n",
        "                                 axis=1).columns.tolist()\n",
        "      \n",
        "      # 經過修正模組修正op\n",
        "      op_pred = self.op_fix_model(torch.cat((\n",
        "        torch.FloatTensor(c620_op[c620_op_col].values),\n",
        "        torch.FloatTensor(c660_op[c660_op_col].values),\n",
        "        torch.FloatTensor(c670_op[c670_op_col].values)),dim=1))\n",
        "      op_pred = pd.DataFrame(op_pred.detach().numpy(),index=idx)\n",
        "      \n",
        "      # 新的op\n",
        "      new_c620_op = op_pred.iloc[:,:8]\n",
        "      new_c660_op = op_pred.iloc[:,8:16]\n",
        "      new_c670_op = op_pred.iloc[:,-5:]\n",
        "      new_c620_op.columns = c620_op_col\n",
        "      new_c660_op.columns = c660_op_col\n",
        "      new_c670_op.columns = c670_op_col\n",
        "      \n",
        "      # 更新op\n",
        "      c620_op.update(new_c620_op)\n",
        "      c660_op.update(new_c660_op)\n",
        "      c670_op.update(new_c670_op)\n",
        "      \n",
        "      return c620_wt,c620_op,c660_wt,c660_op,c670_wt,c670_op\n",
        "  \n",
        "  def recommend(self,icg_input,c620_feed,t651_feed,\n",
        "                search_iteration = 300, # cma-es優化搜索次數\n",
        "                real_data_mode = False, # 如果打開這個功能則會把操作條件在經過一個修正模組來配合現場儀表偏移\n",
        "                auto_set_recommended_value = [70,980,10], #自動設定推薦值\n",
        "                only_tune_temp = False, # 是否只調溫度,如果其他也可以調可能可以比較快找到理想的解,否則可能找不到理想的解\n",
        "                ):\n",
        "    \n",
        "    self.only_tune_temp = only_tune_temp\n",
        "    # 先用試算模式試算一遍\n",
        "    idx = icg_input.index\n",
        "    c620_wt,c620_op,c660_wt,c660_op,c670_wt,c670_op = self.inference(icg_input,c620_feed,t651_feed,real_data_mode=real_data_mode) \n",
        "\n",
        "    # 紀錄該筆樣本原始的Benzene in C620 Sidedraw_wt%\n",
        "    original_Benzene_in_C620_Sidedraw_wt = icg_input['Simulation Case Conditions_Spec 1 : Benzene in C620 Sidedraw_wt%'].values[0]\n",
        "    \n",
        "    # 是否自動設定推薦值\n",
        "    if len(auto_set_recommended_value) == 3:\n",
        "      icg_input['Simulation Case Conditions_Spec 1 : Benzene in C620 Sidedraw_wt%'] = auto_set_recommended_value[0]\n",
        "      icg_input['Simulation Case Conditions_Spec 2 : NA in Benzene_ppmw'] = auto_set_recommended_value[1]\n",
        "      icg_input['Benzene Column C660 Operation_Specifications_Spec 3 : Toluene in Benzene_ppmw'] = auto_set_recommended_value[2]\n",
        "      print(f'系統已經自動設定推薦值[{auto_set_recommended_value[0]},{auto_set_recommended_value[1]},{auto_set_recommended_value[2]}]')\n",
        "    \n",
        "    # 根據推薦的Benzene in C620 Sidedraw_wt%和原始的Benzene in C620 Sidedraw_wt%去比較來判斷說溫度要往上調還是往下調\n",
        "    if len(auto_set_recommended_value) == 3:\n",
        "      # 代表現在工程師想要把原本的Benzene_in_C620_Sidedraw_wt往上拉所以溫度調幅應該往下\n",
        "      if original_Benzene_in_C620_Sidedraw_wt < auto_set_recommended_value[0]:\n",
        "        self.temp_adjust_direction = 'down'\n",
        "      # 代表現在工程師想要把原本的Benzene_in_C620_Sidedraw_wt往下降所以溫度調幅應該往上\n",
        "      if original_Benzene_in_C620_Sidedraw_wt > auto_set_recommended_value[0]:\n",
        "        self.temp_adjust_direction = 'up'\n",
        "      # 如果兩者一樣就不特別規定調幅要往上還往下,任意即可\n",
        "      if original_Benzene_in_C620_Sidedraw_wt == auto_set_recommended_value[0]:\n",
        "        self.temp_adjust_direction = 'arbitrary'\n",
        "    \n",
        "    # c620 case設置\n",
        "    c620_case = pd.DataFrame(index=idx,columns=self.c620_col['case'])\n",
        "    c620_case['Tatoray Stripper C620 Operation_Specifications_Spec 1 : Receiver Temp_oC'] = icg_input['Tatoray Stripper C620 Operation_Specifications_Spec 1 : Receiver Temp_oC'].values\n",
        "    c620_case['Tatoray Stripper C620 Operation_Specifications_Spec 2 : Distillate Rate_m3/hr'] = icg_input['Tatoray Stripper C620 Operation_Specifications_Spec 2 : Distillate Rate_m3/hr'].values\n",
        "    c620_case['Tatoray Stripper C620 Operation_Specifications_Spec 3 : Benzene in Sidedraw_wt%'] = icg_input['Simulation Case Conditions_Spec 1 : Benzene in C620 Sidedraw_wt%'].values\n",
        "    \n",
        "    # c660 case設置\n",
        "    c660_case = pd.DataFrame(index=idx,columns=self.c660_col['case'])\n",
        "    c660_case['Benzene Column C660 Operation_Specifications_Spec 2 : NA in Benzene_ppmw'] = icg_input['Simulation Case Conditions_Spec 2 : NA in Benzene_ppmw'].values\n",
        "    c660_case['Benzene Column C660 Operation_Specifications_Spec 3 : Toluene in Benzene_ppmw'] = icg_input['Benzene Column C660 Operation_Specifications_Spec 3 : Toluene in Benzene_ppmw'].values\n",
        "    \n",
        "    # cma-es 初始值設置 操作條件初始值來自於試算值\n",
        "    x0 = {}\n",
        "    for name in self.c620_op_col:\n",
        "      x0[name] = c620_op[name].values[0]\n",
        "    for name in self.c660_op_col:\n",
        "      x0[name] = c660_op[name].values[0]\n",
        "    \n",
        "    # 這一樣Distillate Rate_m3/hr的初始值來自於使用者輸入\n",
        "    x0['Tatoray Stripper C620 Operation_Specifications_Spec 2 : Distillate Rate_m3/hr'] = icg_input['Tatoray Stripper C620 Operation_Specifications_Spec 2 : Distillate Rate_m3/hr'].values[0]\n",
        "    \n",
        "    # 建立 cma-es study 並賦予初始值X0\n",
        "    sampler = optuna.samplers.CmaEsSampler(x0=x0)\n",
        "    study = optuna.create_study(sampler=sampler)\n",
        "    \n",
        "    # cma-es 搜索階段\n",
        "    history = {}\n",
        "    for i in tqdm(range(search_iteration)):\n",
        "      trial = study.ask()\n",
        "      \n",
        "      # 1.在c620_op的向量空間作採樣\n",
        "      c620_op_opt_dict = {}\n",
        "      minimum_amplitude = 0.1\n",
        "      for name in self.c620_op_col:\n",
        "        # 如果這些欄位屬於可以調的 例如廠區通常調整溫度\n",
        "        if name in self.c620_op_col_can_change:\n",
        "          if self.temp_adjust_direction == 'down':\n",
        "            try:\n",
        "              c620_op_opt_dict[name] = trial.suggest_uniform(name,self.c620_op_min[name],c620_op[name].values[0]-minimum_amplitude) #最少應該降minimum_amplitude度\n",
        "            except:\n",
        "              print('溫度已經低於訓練數據的最小值不能再低了')\n",
        "              c620_op_opt_dict[name] = self.c620_op_min[name] # 所以取最小值\n",
        "          if self.temp_adjust_direction == 'up':\n",
        "            try:\n",
        "              c620_op_opt_dict[name] = trial.suggest_uniform(name,c620_op[name].values[0]+minimum_amplitude,self.c620_op_max[name]) #最少應該增minimum_amplitude度\n",
        "            except:\n",
        "              print('溫度已經低於訓練數據的最大值不能再高了')\n",
        "              c620_op_opt_dict[name] = self.c620_op_max[name] # 所以取最大值\n",
        "          if self.temp_adjust_direction == 'arbitrary':\n",
        "            c620_op_opt_dict[name] = trial.suggest_uniform(name,self.c620_op_min[name],self.c620_op_max[name]) #任意調\n",
        "        # 比較不能調的,看要不要調,可以調的話找到理想解的可能性會比較高\n",
        "        else:\n",
        "          if self.only_tune_temp == True:\n",
        "            c620_op_opt_dict[name] = c620_op[name].values[0] \n",
        "          if self.only_tune_temp == False:\n",
        "            c620_op_opt_dict[name] = trial.suggest_uniform(name,self.c620_op_min[name],self.c620_op_max[name]) #任意調\n",
        "      c620_op_opt = pd.DataFrame(c620_op_opt_dict,index=idx)\n",
        "      \n",
        "      # 2.在c660_op的向量空間作採樣,但由於c660目前沒有跟c620一樣的苯和溫度呈現負相關這樣的限制,暫時沒有特別去設計調幅方向\n",
        "      c660_op_opt_dict = {}\n",
        "      for name in self.c660_op_col:\n",
        "        if name in self.c660_op_col_can_change:\n",
        "          c660_op_opt_dict[name] = trial.suggest_uniform(name,self.c660_op_min[name],self.c660_op_max[name])\n",
        "        \n",
        "        # 比較不能調的,看要不要調,可以調的話找到理想解的可能性會比較高\n",
        "        else:\n",
        "          if self.only_tune_temp == True:\n",
        "            c660_op_opt_dict[name] = c660_op[name].values[0] \n",
        "          if self.only_tune_temp == False:\n",
        "            c660_op_opt_dict[name] = trial.suggest_uniform(name,self.c660_op_min[name],self.c660_op_max[name]) #任意調\n",
        "      c660_op_opt = pd.DataFrame(c660_op_opt_dict,index=idx)\n",
        "      \n",
        "      # 3.在Operation_Specifications_Spec 2 : Distillate Rate_m3/hr的向量空間做採樣,並將採樣結果代入c620_case\n",
        "      c620_case['Tatoray Stripper C620 Operation_Specifications_Spec 2 : Distillate Rate_m3/hr'] = trial.suggest_float(\n",
        "          'Tatoray Stripper C620 Operation_Specifications_Spec 2 : Distillate Rate_m3/hr',0,10.25)\n",
        "      \n",
        "      # 計算c620輸出wt%\n",
        "      c620_sp = self.c620_F.predict(c620_case.join(c620_feed).join(c620_op_opt))\n",
        "      s1,s2,s3,s4 = c620_sp.iloc[:,:41].values,c620_sp.iloc[:,41:41*2].values,c620_sp.iloc[:,41*2:41*3].values,c620_sp.iloc[:,41*3:41*4].values\n",
        "      w1,w2,w3,w4 = sp2wt(c620_feed,s1),sp2wt(c620_feed,s2),sp2wt(c620_feed,s3),sp2wt(c620_feed,s4)\n",
        "      wt = np.hstack((w1,w2,w3,w4))\n",
        "      c620_wt = pd.DataFrame(wt,index=idx,columns=self.c620_col['vent_gas_x']+self.c620_col['distillate_x']+self.c620_col['sidedraw_x']+self.c620_col['bottoms_x'])\n",
        "      \n",
        "      # 計算c660輸入_wt%\n",
        "      V615_Btm_m3 = icg_input['Simulation Case Conditions_Feed Rate_Feed from V615 Btm_m3/hr'].values.reshape(-1,1) # V615體積流量\n",
        "      C820_Dist_m3 = icg_input['Simulation Case Conditions_Feed Rate_Feed from C820 Dist_m3/hr'].values.reshape(-1,1) # C820體積流量\n",
        "      V615_Btm_ton = V615_Btm_m3*self.V615_density # V615體積流量轉重量流量\n",
        "      C820_Dist_ton = C820_Dist_m3*self.C820_density # C820體積流量轉重量流量\n",
        "      c620_feed_rate_ton = V615_Btm_ton+C820_Dist_ton # V615和C820兩道油相加得到c620總入料的\"質量流量\"\n",
        "      c620_mf_side = np.sum(c620_feed_rate_ton*c620_feed.values*s3*0.01,axis=1,keepdims=True) # 根據公式換算出c620_side流量\n",
        "      c620_mf_bot = np.sum(c620_feed_rate_ton*c620_feed.values*s4*0.01,axis=1,keepdims=True) # 根據公式換算出c620_bott流量\n",
        "      t651_mf = (icg_input['Simulation Case Conditions_Feed Rate_Feed from T651_m3/hr']*self.T651_density).values.reshape(-1,1) # t651質量流量轉成重量流量\n",
        "      c660_mf = t651_mf + c620_mf_side # t651和c620_side兩道油的質量流量相加得到c660入料質量流量\n",
        "      t651_mf_p ,c620_mf_side_p = t651_mf/c660_mf ,c620_mf_side/c660_mf # t651和c620_side兩道油對c660總入料質量流量的占比百分比\n",
        "      c660_feed = c620_wt[self.c620_col['sidedraw_x']].values * c620_mf_side_p + t651_feed.values * t651_mf_p #根據公式換算c660混合入料組成\n",
        "      c660_feed = pd.DataFrame(c660_feed,index=idx,columns=self.c660_col['x41']) # 將c660入料組成轉換成dataframe格式\n",
        "      \n",
        "      # 計算c660輸出wt%\n",
        "      c660_sp = self.c660_F.predict(c660_case.join(c660_feed).join(c660_op_opt))\n",
        "      s1,s2,s3,s4 = c660_sp.iloc[:,:41].values,c660_sp.iloc[:,41:41*2].values,c660_sp.iloc[:,41*2:41*3].values,c660_sp.iloc[:,41*3:41*4].values\n",
        "      w1,w2,w3,w4 = sp2wt(c660_feed,s1),sp2wt(c660_feed,s2),sp2wt(c660_feed,s3),sp2wt(c660_feed,s4)\n",
        "      wt = np.hstack((w1,w2,w3,w4))\n",
        "      c660_wt = pd.DataFrame(wt,index=idx,columns=self.c660_col['vent_gas_x']+self.c660_col['distillate_x']+self.c660_col['sidedraw_x']+self.c660_col['bottoms_x'])\n",
        "      \n",
        "      # 計算損失\n",
        "      input_bzinside = c620_case['Tatoray Stripper C620 Operation_Specifications_Spec 3 : Benzene in Sidedraw_wt%'].values[0]\n",
        "      input_nainbz = c660_case['Benzene Column C660 Operation_Specifications_Spec 2 : NA in Benzene_ppmw'].values[0]\n",
        "      input_tol = c660_case['Benzene Column C660 Operation_Specifications_Spec 3 : Toluene in Benzene_ppmw'].values[0]\n",
        "      input_dist_rate = icg_input['Tatoray Stripper C620 Operation_Specifications_Spec 2 : Distillate Rate_m3/hr'].values[0]\n",
        "      \n",
        "      output_bzinside = c620_wt['Tatoray Stripper C620 Operation_Sidedraw Production Rate and Composition_Benzene_wt%'].values[0]\n",
        "      output_nainbz = c660_wt.filter(regex='Side').filter(regex='wt%').iloc[:,[1,2,3,4,5,6,8,9,11,13,14,15,20,22,29]].sum(axis=1).values[0]*10000\n",
        "      output_tol = c660_wt['Benzene Column C660 Operation_Sidedraw (Benzene )Production Rate and Composition_Toluene_wt%'].values[0]*10000\n",
        "      output_dist_rate = c620_case['Tatoray Stripper C620 Operation_Specifications_Spec 2 : Distillate Rate_m3/hr'].values[0]\n",
        "      \n",
        "      bzinside_loss = abs(input_bzinside - output_bzinside) / input_bzinside #絕對百分比誤差\n",
        "      nainbz_loss = abs(input_nainbz - output_nainbz) / input_nainbz #絕對百分比誤差\n",
        "      tol_loss = abs(input_tol - output_tol) / input_tol #絕對百分比誤差\n",
        "      distrate_loss = max(output_dist_rate - input_dist_rate,0) # distrate根據廠區說法愈小愈好,因此如果採樣出的如果採樣出的dist_rate大於input_dist_rate就會有loss,否則為0\n",
        "      total_loss = bzinside_loss + nainbz_loss + tol_loss + distrate_loss #總損失\n",
        "      \n",
        "      # 把總損失告訴study供下一次採樣的依據\n",
        "      study.tell(trial,total_loss)\n",
        "\n",
        "      # 如果滿足以下條件就算提早成功\n",
        "      if (bzinside_loss<=0.02) and (nainbz_loss<=0.05) and (tol_loss<=0.1) and (distrate_loss==0):\n",
        "        print('Congratulations Early Success find optimal op')\n",
        "        break\n",
        "    \n",
        "    # cma-es搜索迴圈跑完或是提早結束,調出study.best_params並製作成best_params_df\n",
        "    best_params_df = pd.DataFrame(\n",
        "        study.best_params,\n",
        "        index = idx,\n",
        "        columns = self.c620_op_col + self.c660_op_col + ['Tatoray Stripper C620 Operation_Specifications_Spec 2 : Distillate Rate_m3/hr'])\n",
        "    \n",
        "    # 優化過的c620_op,c660_op,c620_case(dist_rate)\n",
        "    c620_op_opt = c620_op.drop(self.c620_op_col_can_change,axis=1).join(best_params_df[self.c620_op_col][self.c620_op_col_can_change])\n",
        "    c660_op_opt = c660_op.drop(self.c660_op_col_can_change,axis=1).join(best_params_df[self.c660_op_col][self.c660_op_col_can_change])\n",
        "    c620_case['Tatoray Stripper C620 Operation_Specifications_Spec 2 : Distillate Rate_m3/hr'] = best_params_df['Tatoray Stripper C620 Operation_Specifications_Spec 2 : Distillate Rate_m3/hr']\n",
        "    \n",
        "    # 計算c620輸出wt%\n",
        "    c620_sp = self.c620_F.predict(c620_case.join(c620_feed).join(c620_op_opt))\n",
        "    s1,s2,s3,s4 = c620_sp.iloc[:,:41].values,c620_sp.iloc[:,41:41*2].values,c620_sp.iloc[:,41*2:41*3].values,c620_sp.iloc[:,41*3:41*4].values\n",
        "    w1,w2,w3,w4 = sp2wt(c620_feed,s1),sp2wt(c620_feed,s2),sp2wt(c620_feed,s3),sp2wt(c620_feed,s4)\n",
        "    wt = np.hstack((w1,w2,w3,w4))\n",
        "    c620_wt = pd.DataFrame(wt,index=idx,columns=self.c620_col['vent_gas_x']+self.c620_col['distillate_x']+self.c620_col['sidedraw_x']+self.c620_col['bottoms_x'])\n",
        "    \n",
        "    # 計算c660_feed_wt%\n",
        "    V615_Btm_m3 = icg_input['Simulation Case Conditions_Feed Rate_Feed from V615 Btm_m3/hr'].values.reshape(-1,1) #體積流量\n",
        "    C820_Dist_m3 = icg_input['Simulation Case Conditions_Feed Rate_Feed from C820 Dist_m3/hr'].values.reshape(-1,1) #體積流量\n",
        "    V615_Btm_ton = V615_Btm_m3*self.V615_density # 體積流量轉重量流量\n",
        "    C820_Dist_ton = C820_Dist_m3*self.C820_density # 體積流量轉重量流量\n",
        "    c620_feed_rate_ton = V615_Btm_ton+C820_Dist_ton # 兩股相加得到c620總入料重量流量\n",
        "    c620_mf_side = np.sum(c620_feed_rate_ton*c620_feed.values*s3*0.01,axis=1,keepdims=True) # c620_side 流量\n",
        "    c620_mf_bot = np.sum(c620_feed_rate_ton*c620_feed.values*s4*0.01,axis=1,keepdims=True) # c620_bott 流量\n",
        "    t651_mf = (icg_input['Simulation Case Conditions_Feed Rate_Feed from T651_m3/hr']*self.T651_density).values.reshape(-1,1) # t651重量流量\n",
        "    c660_mf = t651_mf + c620_mf_side # 兩股相加得到c660入料重量流量\n",
        "    t651_mf_p ,c620_mf_side_p = t651_mf/c660_mf ,c620_mf_side/c660_mf # 兩股油源的占比百分比\n",
        "    c660_feed = c620_wt[self.c620_col['sidedraw_x']].values*c620_mf_side_p + t651_feed.values*t651_mf_p #計算c660入料組成\n",
        "    c660_feed = pd.DataFrame(c660_feed,index=idx,columns=self.c660_col['x41']) #計算c660入料組成(dataframe格式)\n",
        "\n",
        "    # 計算c660輸出wt%\n",
        "    c660_sp = self.c660_F.predict(c660_case.join(c660_feed).join(c660_op_opt))\n",
        "    s1,s2,s3,s4 = c660_sp.iloc[:,:41].values,c660_sp.iloc[:,41:41*2].values,c660_sp.iloc[:,41*2:41*3].values,c660_sp.iloc[:,41*3:41*4].values\n",
        "    w1,w2,w3,w4 = sp2wt(c660_feed,s1),sp2wt(c660_feed,s2),sp2wt(c660_feed,s3),sp2wt(c660_feed,s4)\n",
        "    wt = np.hstack((w1,w2,w3,w4))\n",
        "    c660_wt = pd.DataFrame(wt,index=idx,columns=self.c660_col['vent_gas_x']+self.c660_col['distillate_x']+self.c660_col['sidedraw_x']+self.c660_col['bottoms_x'])\n",
        "    \n",
        "    # 計算損失\n",
        "    input_bzinside = c620_case['Tatoray Stripper C620 Operation_Specifications_Spec 3 : Benzene in Sidedraw_wt%'].values[0] \n",
        "    input_nainbz = c660_case['Benzene Column C660 Operation_Specifications_Spec 2 : NA in Benzene_ppmw'].values[0] \n",
        "    input_tol = c660_case['Benzene Column C660 Operation_Specifications_Spec 3 : Toluene in Benzene_ppmw'].values[0]\n",
        "    input_dist_rate = icg_input['Tatoray Stripper C620 Operation_Specifications_Spec 2 : Distillate Rate_m3/hr'].values[0]\n",
        "    \n",
        "    output_bzinside = c620_wt['Tatoray Stripper C620 Operation_Sidedraw Production Rate and Composition_Benzene_wt%'].values[0] \n",
        "    output_nainbz = c660_wt.filter(regex='Side').filter(regex='wt%').iloc[:,[1,2,3,4,5,6,8,9,11,13,14,15,20,22,29]].sum(axis=1).values[0]*10000 \n",
        "    output_tol = c660_wt['Benzene Column C660 Operation_Sidedraw (Benzene )Production Rate and Composition_Toluene_wt%'].values[0]*10000\n",
        "    output_dist_rate = c620_case['Tatoray Stripper C620 Operation_Specifications_Spec 2 : Distillate Rate_m3/hr'].values[0]\n",
        "    \n",
        "    bzinside_loss = abs(input_bzinside - output_bzinside) / input_bzinside\n",
        "    nainbz_loss = abs(input_nainbz - output_nainbz) / input_nainbz\n",
        "    tol_loss = abs(input_tol - output_tol) / input_tol\n",
        "    distrate_loss = max(output_dist_rate - input_dist_rate,0)\n",
        "    \n",
        "    # 打印優化結果\n",
        "    print('bzinside_loss:',bzinside_loss)\n",
        "    print('nainbz_loss:',nainbz_loss)\n",
        "    print('tol_loss:',tol_loss)\n",
        "    print('distrate_loss:',distrate_loss)\n",
        "\n",
        "    # c670 部份\n",
        "    c660_mf_bot = np.sum(c660_mf*c660_feed.values*s4*0.01,axis=1,keepdims=True) # c660_bot 重量流量\n",
        "    c670_mf = c620_mf_bot + c660_mf_bot # c620_bot 重量流量 加上 c660_bot 重量流量 得到c670總入料重量流量\n",
        "    c620_mf_bot_p,c660_mf_bot_p = c620_mf_bot/c670_mf , c660_mf_bot/c670_mf # 兩股油源的百分比占比\n",
        "    c670_feed = c620_wt[self.c620_col['bottoms_x']].values*c620_mf_bot_p + c660_wt[self.c660_col['bottoms_x']].values*c660_mf_bot_p # c670入料組成\n",
        "    c670_feed = pd.DataFrame(c670_feed,index=idx,columns=self.c670_col['combined'])\n",
        "    \n",
        "    # c670 upper_bf 計算\n",
        "    c670_bf = pd.DataFrame(index=idx,columns=self.c670_col['upper_bf']) \n",
        "    c620_bot_x = c620_wt[self.c620_col['bottoms_x']].values\n",
        "    c660_bot_x = c660_wt[self.c660_col['bottoms_x']].values\n",
        "    upper_bf = (c660_bot_x*c660_mf_bot)/(c620_bot_x*c620_mf_bot+c660_bot_x*c660_mf_bot)\n",
        "    upper_bf = pd.DataFrame(upper_bf,index=idx,columns=self.c670_col['upper_bf'])\n",
        "    upper_bf[list(set(self.index_9999)&set(upper_bf.columns))] = 0.9999\n",
        "    upper_bf[list(set(self.index_0001)&set(upper_bf.columns))] = 0.0001\n",
        "    \n",
        "    # c670因為沒有指定wt數值要多少所以直接預測操作條件和分離係數即可\n",
        "    c670_output = self.c670_M.predict(c670_feed.join(upper_bf))\n",
        "    c670_sp,c670_op_opt = c670_output.iloc[:,:41*2],c670_output.iloc[:,41*2:]    \n",
        "    \n",
        "    # 計算c670_wt\n",
        "    s1 = c670_sp[self.c670_col['distillate_sf']].values\n",
        "    s2 = c670_sp[self.c670_col['bottoms_sf']].values\n",
        "    w1 = sp2wt(c670_feed,s1)\n",
        "    w2 = sp2wt(c670_feed,s2)\n",
        "    c670_wt = np.hstack((w1,w2))\n",
        "    c670_wt = pd.DataFrame(c670_wt,index = idx,columns=self.c670_col['distillate_x']+self.c670_col['bottoms_x'])\n",
        "    \n",
        "    # 是否修正操作條件 for 現場數據\n",
        "    if real_data_mode == False:\n",
        "      return c620_wt,c620_op_opt,c660_wt,c660_op_opt,c670_wt,c670_op_opt,bzinside_loss,nainbz_loss,tol_loss\n",
        "    \n",
        "    if real_data_mode == True:\n",
        "      # 有些欄位現場數據沒有 因此drop掉\n",
        "      c620_op_col = c620_op.drop(['Tatoray Stripper C620 Operation_Heat Duty_Condenser Heat Duty_Mkcal/hr',\n",
        "                                 'Tatoray Stripper C620 Operation_Heat Duty_Reboiler Heat Duty_Mkcal/hr'],\n",
        "                                 axis=1).columns.tolist()\n",
        "      c660_op_col = c660_op.drop(['Benzene Column C660 Operation_Heat Duty_Condenser Heat Duty_Mkcal/hr',\n",
        "                                 'Benzene Column C660 Operation_Heat Duty_Reboiler Heat Duty_Mkcal/hr'],\n",
        "                                 axis=1).columns.tolist()\n",
        "      c670_op_col = c670_op.drop(['Toluene Column C670 Operation_Heat Duty_Condenser Heat Duty_Mkcal/hr',\n",
        "                                 'Toluene Column C670 Operation_Heat Duty_Reboiler Heat Duty_Mkcal/hr'],\n",
        "                                 axis=1).columns.tolist()\n",
        "      \n",
        "      # 經過修正模組修正op\n",
        "      op_pred = self.op_fix_model(torch.cat((\n",
        "        torch.FloatTensor(c620_op_opt[c620_op_col].values),\n",
        "        torch.FloatTensor(c660_op_opt[c660_op_col].values),\n",
        "        torch.FloatTensor(c670_op_opt[c670_op_col].values)),dim=1))  \n",
        "      op_pred = pd.DataFrame(op_pred.detach().numpy(),index=idx)\n",
        "      \n",
        "      # 新的op\n",
        "      new_c620_op = op_pred.iloc[:,:8]\n",
        "      new_c660_op = op_pred.iloc[:,8:16]\n",
        "      new_c670_op = op_pred.iloc[:,-5:]\n",
        "      new_c620_op.columns = c620_op_col\n",
        "      new_c660_op.columns = c660_op_col\n",
        "      new_c670_op.columns = c670_op_col\n",
        "      \n",
        "      # 更新op\n",
        "      c620_op_opt.update(new_c620_op)\n",
        "      c660_op_opt.update(new_c660_op)\n",
        "      c670_op_opt.update(new_c670_op)\n",
        "      \n",
        "      return c620_wt,c620_op_opt,c660_wt,c660_op_opt,c670_wt,c670_op_opt,bz_error,nainbz_error,tol_error"
      ],
      "execution_count": 434,
      "outputs": []
    },
    {
      "cell_type": "markdown",
      "metadata": {
        "id": "IEKp-SYsPkip"
      },
      "source": [
        "# 試算模式測試 觀察重點 準"
      ]
    },
    {
      "cell_type": "code",
      "metadata": {
        "id": "3hfibqM7J0wt"
      },
      "source": [
        "f = AllSystem(config)\n",
        "idx = np.random.choice(allidx,size=100,replace=False,p=None)\n",
        "c620_wt_,c620_op_,c660_wt_,c660_op_,c670_wt_,c670_op_ = f.inference(icg_input.loc[idx],c620_feed.loc[idx],t651_feed.loc[idx])"
      ],
      "execution_count": 435,
      "outputs": []
    },
    {
      "cell_type": "code",
      "metadata": {
        "colab": {
          "base_uri": "https://localhost:8080/",
          "height": 407
        },
        "id": "-r7lcnCk26TT",
        "outputId": "18f1c826-6d57-4d7c-f325-0677e8e54733"
      },
      "source": [
        "f.c670_M.show_metrics(c620_wt.loc[idx],c620_wt_,e=2e-2)"
      ],
      "execution_count": 436,
      "outputs": [
        {
          "output_type": "execute_result",
          "data": {
            "text/html": [
              "<div>\n",
              "<style scoped>\n",
              "    .dataframe tbody tr th:only-of-type {\n",
              "        vertical-align: middle;\n",
              "    }\n",
              "\n",
              "    .dataframe tbody tr th {\n",
              "        vertical-align: top;\n",
              "    }\n",
              "\n",
              "    .dataframe thead th {\n",
              "        text-align: right;\n",
              "    }\n",
              "</style>\n",
              "<table border=\"1\" class=\"dataframe\">\n",
              "  <thead>\n",
              "    <tr style=\"text-align: right;\">\n",
              "      <th></th>\n",
              "      <th>R2</th>\n",
              "      <th>MSE</th>\n",
              "      <th>MAPE</th>\n",
              "    </tr>\n",
              "  </thead>\n",
              "  <tbody>\n",
              "    <tr>\n",
              "      <th>Tatoray Stripper C620 Operation_Vent Gas Production Rate and Composition_Hydrogen_wt%</th>\n",
              "      <td>1</td>\n",
              "      <td>0</td>\n",
              "      <td>NaN</td>\n",
              "    </tr>\n",
              "    <tr>\n",
              "      <th>Tatoray Stripper C620 Operation_Vent Gas Production Rate and Composition_Methane_wt%</th>\n",
              "      <td>0.883883</td>\n",
              "      <td>0.00158816</td>\n",
              "      <td>1.93512</td>\n",
              "    </tr>\n",
              "    <tr>\n",
              "      <th>Tatoray Stripper C620 Operation_Vent Gas Production Rate and Composition_Ethane_wt%</th>\n",
              "      <td>0.876843</td>\n",
              "      <td>0.40429</td>\n",
              "      <td>1.42111</td>\n",
              "    </tr>\n",
              "    <tr>\n",
              "      <th>Tatoray Stripper C620 Operation_Vent Gas Production Rate and Composition_Propane_wt%</th>\n",
              "      <td>0.633328</td>\n",
              "      <td>0.0599337</td>\n",
              "      <td>0.383259</td>\n",
              "    </tr>\n",
              "    <tr>\n",
              "      <th>Tatoray Stripper C620 Operation_Vent Gas Production Rate and Composition_n-Butane_wt%</th>\n",
              "      <td>0.859549</td>\n",
              "      <td>0.166977</td>\n",
              "      <td>3.93977</td>\n",
              "    </tr>\n",
              "    <tr>\n",
              "      <th>...</th>\n",
              "      <td>...</td>\n",
              "      <td>...</td>\n",
              "      <td>...</td>\n",
              "    </tr>\n",
              "    <tr>\n",
              "      <th>Tatoray Stripper C620 Operation_Bottoms Production Rate and Composition_n-Pentylbenzene_wt%</th>\n",
              "      <td>0.99945</td>\n",
              "      <td>1.59368e-06</td>\n",
              "      <td>0.267797</td>\n",
              "    </tr>\n",
              "    <tr>\n",
              "      <th>Tatoray Stripper C620 Operation_Bottoms Production Rate and Composition_n-Hexylbenzene_wt%</th>\n",
              "      <td>0.99944</td>\n",
              "      <td>2.93861e-07</td>\n",
              "      <td>0.267795</td>\n",
              "    </tr>\n",
              "    <tr>\n",
              "      <th>Tatoray Stripper C620 Operation_Bottoms Production Rate and Composition_Nitrogen_wt%</th>\n",
              "      <td>1</td>\n",
              "      <td>0</td>\n",
              "      <td>NaN</td>\n",
              "    </tr>\n",
              "    <tr>\n",
              "      <th>Tatoray Stripper C620 Operation_Bottoms Production Rate and Composition_Oxygen_wt%</th>\n",
              "      <td>1</td>\n",
              "      <td>0</td>\n",
              "      <td>NaN</td>\n",
              "    </tr>\n",
              "    <tr>\n",
              "      <th>AVG</th>\n",
              "      <td>0.881984</td>\n",
              "      <td>0.0912133</td>\n",
              "      <td>3.51446</td>\n",
              "    </tr>\n",
              "  </tbody>\n",
              "</table>\n",
              "<p>165 rows × 3 columns</p>\n",
              "</div>"
            ],
            "text/plain": [
              "                                                          R2  ...      MAPE\n",
              "Tatoray Stripper C620 Operation_Vent Gas Produc...         1  ...       NaN\n",
              "Tatoray Stripper C620 Operation_Vent Gas Produc...  0.883883  ...   1.93512\n",
              "Tatoray Stripper C620 Operation_Vent Gas Produc...  0.876843  ...   1.42111\n",
              "Tatoray Stripper C620 Operation_Vent Gas Produc...  0.633328  ...  0.383259\n",
              "Tatoray Stripper C620 Operation_Vent Gas Produc...  0.859549  ...   3.93977\n",
              "...                                                      ...  ...       ...\n",
              "Tatoray Stripper C620 Operation_Bottoms Product...   0.99945  ...  0.267797\n",
              "Tatoray Stripper C620 Operation_Bottoms Product...   0.99944  ...  0.267795\n",
              "Tatoray Stripper C620 Operation_Bottoms Product...         1  ...       NaN\n",
              "Tatoray Stripper C620 Operation_Bottoms Product...         1  ...       NaN\n",
              "AVG                                                 0.881984  ...   3.51446\n",
              "\n",
              "[165 rows x 3 columns]"
            ]
          },
          "metadata": {
            "tags": []
          },
          "execution_count": 436
        }
      ]
    },
    {
      "cell_type": "code",
      "metadata": {
        "id": "ZT0kzdWJkvVw",
        "colab": {
          "base_uri": "https://localhost:8080/",
          "height": 378
        },
        "outputId": "3e4cde82-feca-434b-ec84-40a7918abfaf"
      },
      "source": [
        "f.c670_M.show_metrics(c620_op.loc[idx],c620_op_,e=2e-2)"
      ],
      "execution_count": 437,
      "outputs": [
        {
          "output_type": "execute_result",
          "data": {
            "text/html": [
              "<div>\n",
              "<style scoped>\n",
              "    .dataframe tbody tr th:only-of-type {\n",
              "        vertical-align: middle;\n",
              "    }\n",
              "\n",
              "    .dataframe tbody tr th {\n",
              "        vertical-align: top;\n",
              "    }\n",
              "\n",
              "    .dataframe thead th {\n",
              "        text-align: right;\n",
              "    }\n",
              "</style>\n",
              "<table border=\"1\" class=\"dataframe\">\n",
              "  <thead>\n",
              "    <tr style=\"text-align: right;\">\n",
              "      <th></th>\n",
              "      <th>R2</th>\n",
              "      <th>MSE</th>\n",
              "      <th>MAPE</th>\n",
              "    </tr>\n",
              "  </thead>\n",
              "  <tbody>\n",
              "    <tr>\n",
              "      <th>Density_Feed Properties</th>\n",
              "      <td>0.999827</td>\n",
              "      <td>2.54058e-10</td>\n",
              "      <td>0.0013645</td>\n",
              "    </tr>\n",
              "    <tr>\n",
              "      <th>Density_Vent Gas Production Rate and Composition</th>\n",
              "      <td>0.942407</td>\n",
              "      <td>9.30221e-07</td>\n",
              "      <td>0.171395</td>\n",
              "    </tr>\n",
              "    <tr>\n",
              "      <th>Density_Distillate Production Rate and Composition</th>\n",
              "      <td>0.824044</td>\n",
              "      <td>1.52989e-05</td>\n",
              "      <td>0.430558</td>\n",
              "    </tr>\n",
              "    <tr>\n",
              "      <th>Density_Sidedraw Production Rate and Composition</th>\n",
              "      <td>0.995473</td>\n",
              "      <td>4.90608e-09</td>\n",
              "      <td>0.00569121</td>\n",
              "    </tr>\n",
              "    <tr>\n",
              "      <th>Density_Bottoms Production Rate and Composition</th>\n",
              "      <td>0.99676</td>\n",
              "      <td>5.56166e-11</td>\n",
              "      <td>0.000709453</td>\n",
              "    </tr>\n",
              "    <tr>\n",
              "      <th>Tatoray Stripper C620 Operation_Yield Summary_Reflux Rate_m3/hr</th>\n",
              "      <td>0.976878</td>\n",
              "      <td>3.01349</td>\n",
              "      <td>0.795404</td>\n",
              "    </tr>\n",
              "    <tr>\n",
              "      <th>Tatoray Stripper C620 Operation_Heat Duty_Condenser Heat Duty_Mkcal/hr</th>\n",
              "      <td>0.986942</td>\n",
              "      <td>0.0148134</td>\n",
              "      <td>0.653434</td>\n",
              "    </tr>\n",
              "    <tr>\n",
              "      <th>Tatoray Stripper C620 Operation_Heat Duty_Reboiler Heat Duty_Mkcal/hr</th>\n",
              "      <td>0.983348</td>\n",
              "      <td>0.02791</td>\n",
              "      <td>0.749805</td>\n",
              "    </tr>\n",
              "    <tr>\n",
              "      <th>Tatoray Stripper C620 Operation_Column Temp Profile_C620 Tray 14 (Control)_oC</th>\n",
              "      <td>0.987668</td>\n",
              "      <td>0.0158498</td>\n",
              "      <td>0.0538257</td>\n",
              "    </tr>\n",
              "    <tr>\n",
              "      <th>Tatoray Stripper C620 Operation_Column Temp Profile_C620 Tray 34 (Control)_oC</th>\n",
              "      <td>0.990394</td>\n",
              "      <td>0.00762374</td>\n",
              "      <td>0.0350933</td>\n",
              "    </tr>\n",
              "    <tr>\n",
              "      <th>AVG</th>\n",
              "      <td>0.968374</td>\n",
              "      <td>0.30797</td>\n",
              "      <td>0.289728</td>\n",
              "    </tr>\n",
              "  </tbody>\n",
              "</table>\n",
              "</div>"
            ],
            "text/plain": [
              "                                                          R2  ...         MAPE\n",
              "Density_Feed Properties                             0.999827  ...    0.0013645\n",
              "Density_Vent Gas Production Rate and Composition    0.942407  ...     0.171395\n",
              "Density_Distillate Production Rate and Composition  0.824044  ...     0.430558\n",
              "Density_Sidedraw Production Rate and Composition    0.995473  ...   0.00569121\n",
              "Density_Bottoms Production Rate and Composition      0.99676  ...  0.000709453\n",
              "Tatoray Stripper C620 Operation_Yield Summary_R...  0.976878  ...     0.795404\n",
              "Tatoray Stripper C620 Operation_Heat Duty_Conde...  0.986942  ...     0.653434\n",
              "Tatoray Stripper C620 Operation_Heat Duty_Reboi...  0.983348  ...     0.749805\n",
              "Tatoray Stripper C620 Operation_Column Temp Pro...  0.987668  ...    0.0538257\n",
              "Tatoray Stripper C620 Operation_Column Temp Pro...  0.990394  ...    0.0350933\n",
              "AVG                                                 0.968374  ...     0.289728\n",
              "\n",
              "[11 rows x 3 columns]"
            ]
          },
          "metadata": {
            "tags": []
          },
          "execution_count": 437
        }
      ]
    },
    {
      "cell_type": "code",
      "metadata": {
        "id": "-hK8Te49kybC",
        "colab": {
          "base_uri": "https://localhost:8080/",
          "height": 407
        },
        "outputId": "043011ba-db4a-45da-b0ff-77db3f39c46d"
      },
      "source": [
        "f.c670_M.show_metrics(c660_wt.loc[idx],c660_wt_,e=2e-2)"
      ],
      "execution_count": 438,
      "outputs": [
        {
          "output_type": "execute_result",
          "data": {
            "text/html": [
              "<div>\n",
              "<style scoped>\n",
              "    .dataframe tbody tr th:only-of-type {\n",
              "        vertical-align: middle;\n",
              "    }\n",
              "\n",
              "    .dataframe tbody tr th {\n",
              "        vertical-align: top;\n",
              "    }\n",
              "\n",
              "    .dataframe thead th {\n",
              "        text-align: right;\n",
              "    }\n",
              "</style>\n",
              "<table border=\"1\" class=\"dataframe\">\n",
              "  <thead>\n",
              "    <tr style=\"text-align: right;\">\n",
              "      <th></th>\n",
              "      <th>R2</th>\n",
              "      <th>MSE</th>\n",
              "      <th>MAPE</th>\n",
              "    </tr>\n",
              "  </thead>\n",
              "  <tbody>\n",
              "    <tr>\n",
              "      <th>Benzene Column C660 Operation_Vent Gas Production Rate and Composition_Hydrogen_wt%</th>\n",
              "      <td>1</td>\n",
              "      <td>0</td>\n",
              "      <td>NaN</td>\n",
              "    </tr>\n",
              "    <tr>\n",
              "      <th>Benzene Column C660 Operation_Vent Gas Production Rate and Composition_Methane_wt%</th>\n",
              "      <td>0.855782</td>\n",
              "      <td>0.0272569</td>\n",
              "      <td>12.8167</td>\n",
              "    </tr>\n",
              "    <tr>\n",
              "      <th>Benzene Column C660 Operation_Vent Gas Production Rate and Composition_Ethane_wt%</th>\n",
              "      <td>0.923171</td>\n",
              "      <td>3.17448</td>\n",
              "      <td>6.75756</td>\n",
              "    </tr>\n",
              "    <tr>\n",
              "      <th>Benzene Column C660 Operation_Vent Gas Production Rate and Composition_Propane_wt%</th>\n",
              "      <td>0.664531</td>\n",
              "      <td>2.12476</td>\n",
              "      <td>5.15106</td>\n",
              "    </tr>\n",
              "    <tr>\n",
              "      <th>Benzene Column C660 Operation_Vent Gas Production Rate and Composition_n-Butane_wt%</th>\n",
              "      <td>0.902944</td>\n",
              "      <td>1.23353</td>\n",
              "      <td>13.3244</td>\n",
              "    </tr>\n",
              "    <tr>\n",
              "      <th>...</th>\n",
              "      <td>...</td>\n",
              "      <td>...</td>\n",
              "      <td>...</td>\n",
              "    </tr>\n",
              "    <tr>\n",
              "      <th>Benzene Column C660 Operation_Bottoms Production Rate and Composition_n-Pentylbenzene_wt%</th>\n",
              "      <td>0.978661</td>\n",
              "      <td>3.0829e-25</td>\n",
              "      <td>NaN</td>\n",
              "    </tr>\n",
              "    <tr>\n",
              "      <th>Benzene Column C660 Operation_Bottoms Production Rate and Composition_n-Hexylbenzene_wt%</th>\n",
              "      <td>0.979979</td>\n",
              "      <td>3.5276e-31</td>\n",
              "      <td>NaN</td>\n",
              "    </tr>\n",
              "    <tr>\n",
              "      <th>Benzene Column C660 Operation_Bottoms Production Rate and Composition_Nitrogen_wt%</th>\n",
              "      <td>1</td>\n",
              "      <td>0</td>\n",
              "      <td>NaN</td>\n",
              "    </tr>\n",
              "    <tr>\n",
              "      <th>Benzene Column C660 Operation_Bottoms Production Rate and Composition_Oxygen_wt%</th>\n",
              "      <td>1</td>\n",
              "      <td>0</td>\n",
              "      <td>NaN</td>\n",
              "    </tr>\n",
              "    <tr>\n",
              "      <th>AVG</th>\n",
              "      <td>0.72906</td>\n",
              "      <td>0.104738</td>\n",
              "      <td>5.69836</td>\n",
              "    </tr>\n",
              "  </tbody>\n",
              "</table>\n",
              "<p>165 rows × 3 columns</p>\n",
              "</div>"
            ],
            "text/plain": [
              "                                                          R2  ...     MAPE\n",
              "Benzene Column C660 Operation_Vent Gas Producti...         1  ...      NaN\n",
              "Benzene Column C660 Operation_Vent Gas Producti...  0.855782  ...  12.8167\n",
              "Benzene Column C660 Operation_Vent Gas Producti...  0.923171  ...  6.75756\n",
              "Benzene Column C660 Operation_Vent Gas Producti...  0.664531  ...  5.15106\n",
              "Benzene Column C660 Operation_Vent Gas Producti...  0.902944  ...  13.3244\n",
              "...                                                      ...  ...      ...\n",
              "Benzene Column C660 Operation_Bottoms Productio...  0.978661  ...      NaN\n",
              "Benzene Column C660 Operation_Bottoms Productio...  0.979979  ...      NaN\n",
              "Benzene Column C660 Operation_Bottoms Productio...         1  ...      NaN\n",
              "Benzene Column C660 Operation_Bottoms Productio...         1  ...      NaN\n",
              "AVG                                                  0.72906  ...  5.69836\n",
              "\n",
              "[165 rows x 3 columns]"
            ]
          },
          "metadata": {
            "tags": []
          },
          "execution_count": 438
        }
      ]
    },
    {
      "cell_type": "code",
      "metadata": {
        "id": "B8ouQJ_XkyhS",
        "colab": {
          "base_uri": "https://localhost:8080/",
          "height": 378
        },
        "outputId": "4df5a77e-62b1-4f35-c4c9-7b58d1b52d1f"
      },
      "source": [
        "f.c670_M.show_metrics(c660_op.loc[idx],c660_op_,e=2e-2)"
      ],
      "execution_count": 439,
      "outputs": [
        {
          "output_type": "execute_result",
          "data": {
            "text/html": [
              "<div>\n",
              "<style scoped>\n",
              "    .dataframe tbody tr th:only-of-type {\n",
              "        vertical-align: middle;\n",
              "    }\n",
              "\n",
              "    .dataframe tbody tr th {\n",
              "        vertical-align: top;\n",
              "    }\n",
              "\n",
              "    .dataframe thead th {\n",
              "        text-align: right;\n",
              "    }\n",
              "</style>\n",
              "<table border=\"1\" class=\"dataframe\">\n",
              "  <thead>\n",
              "    <tr style=\"text-align: right;\">\n",
              "      <th></th>\n",
              "      <th>R2</th>\n",
              "      <th>MSE</th>\n",
              "      <th>MAPE</th>\n",
              "    </tr>\n",
              "  </thead>\n",
              "  <tbody>\n",
              "    <tr>\n",
              "      <th>Density_Feed Properties</th>\n",
              "      <td>0.989522</td>\n",
              "      <td>8.48746e-09</td>\n",
              "      <td>0.00759192</td>\n",
              "    </tr>\n",
              "    <tr>\n",
              "      <th>Density_Vent Gas Production Rate and Composition</th>\n",
              "      <td>0.933152</td>\n",
              "      <td>2.28118e-05</td>\n",
              "      <td>0.743064</td>\n",
              "    </tr>\n",
              "    <tr>\n",
              "      <th>Density_Distillate (Benzene Drag) Production Rate and Composition</th>\n",
              "      <td>0.945326</td>\n",
              "      <td>4.31536e-06</td>\n",
              "      <td>0.200126</td>\n",
              "    </tr>\n",
              "    <tr>\n",
              "      <th>Density_Sidedraw (Benzene )Production Rate and Composition</th>\n",
              "      <td>0.96992</td>\n",
              "      <td>1.91123e-12</td>\n",
              "      <td>0.000123607</td>\n",
              "    </tr>\n",
              "    <tr>\n",
              "      <th>Density_Bottoms Production Rate and Composition</th>\n",
              "      <td>0.99332</td>\n",
              "      <td>4.85581e-10</td>\n",
              "      <td>0.00202905</td>\n",
              "    </tr>\n",
              "    <tr>\n",
              "      <th>Benzene Column C660 Operation_Yield Summary_Reflux Rate_m3/hr</th>\n",
              "      <td>0.970763</td>\n",
              "      <td>24.8832</td>\n",
              "      <td>3.21271</td>\n",
              "    </tr>\n",
              "    <tr>\n",
              "      <th>Benzene Column C660 Operation_Heat Duty_Condenser Heat Duty_Mkcal/hr</th>\n",
              "      <td>0.970435</td>\n",
              "      <td>0.191224</td>\n",
              "      <td>2.85522</td>\n",
              "    </tr>\n",
              "    <tr>\n",
              "      <th>Benzene Column C660 Operation_Heat Duty_Reboiler Heat Duty_Mkcal/hr</th>\n",
              "      <td>0.972644</td>\n",
              "      <td>0.187196</td>\n",
              "      <td>2.95377</td>\n",
              "    </tr>\n",
              "    <tr>\n",
              "      <th>Benzene Column C660 Operation_Column Temp Profile_C660 Tray 6 (SD &amp; Control)_oC</th>\n",
              "      <td>0.972803</td>\n",
              "      <td>0.00115858</td>\n",
              "      <td>0.032022</td>\n",
              "    </tr>\n",
              "    <tr>\n",
              "      <th>Benzene Column C660 Operation_Column Temp Profile_C660 Tray 23 (Control)_oC</th>\n",
              "      <td>0.962948</td>\n",
              "      <td>0.0287953</td>\n",
              "      <td>0.148894</td>\n",
              "    </tr>\n",
              "    <tr>\n",
              "      <th>AVG</th>\n",
              "      <td>0.968083</td>\n",
              "      <td>2.52916</td>\n",
              "      <td>1.01556</td>\n",
              "    </tr>\n",
              "  </tbody>\n",
              "</table>\n",
              "</div>"
            ],
            "text/plain": [
              "                                                          R2  ...         MAPE\n",
              "Density_Feed Properties                             0.989522  ...   0.00759192\n",
              "Density_Vent Gas Production Rate and Composition    0.933152  ...     0.743064\n",
              "Density_Distillate (Benzene Drag) Production Ra...  0.945326  ...     0.200126\n",
              "Density_Sidedraw (Benzene )Production Rate and ...   0.96992  ...  0.000123607\n",
              "Density_Bottoms Production Rate and Composition      0.99332  ...   0.00202905\n",
              "Benzene Column C660 Operation_Yield Summary_Ref...  0.970763  ...      3.21271\n",
              "Benzene Column C660 Operation_Heat Duty_Condens...  0.970435  ...      2.85522\n",
              "Benzene Column C660 Operation_Heat Duty_Reboile...  0.972644  ...      2.95377\n",
              "Benzene Column C660 Operation_Column Temp Profi...  0.972803  ...     0.032022\n",
              "Benzene Column C660 Operation_Column Temp Profi...  0.962948  ...     0.148894\n",
              "AVG                                                 0.968083  ...      1.01556\n",
              "\n",
              "[11 rows x 3 columns]"
            ]
          },
          "metadata": {
            "tags": []
          },
          "execution_count": 439
        }
      ]
    },
    {
      "cell_type": "code",
      "metadata": {
        "id": "G5P1YElwkynj",
        "colab": {
          "base_uri": "https://localhost:8080/",
          "height": 407
        },
        "outputId": "80568f0d-7dec-4e2a-e446-ee7e278e93b8"
      },
      "source": [
        "f.c670_M.show_metrics(c670_wt.loc[idx],c670_wt_,e=2e-2)"
      ],
      "execution_count": 440,
      "outputs": [
        {
          "output_type": "execute_result",
          "data": {
            "text/html": [
              "<div>\n",
              "<style scoped>\n",
              "    .dataframe tbody tr th:only-of-type {\n",
              "        vertical-align: middle;\n",
              "    }\n",
              "\n",
              "    .dataframe tbody tr th {\n",
              "        vertical-align: top;\n",
              "    }\n",
              "\n",
              "    .dataframe thead th {\n",
              "        text-align: right;\n",
              "    }\n",
              "</style>\n",
              "<table border=\"1\" class=\"dataframe\">\n",
              "  <thead>\n",
              "    <tr style=\"text-align: right;\">\n",
              "      <th></th>\n",
              "      <th>R2</th>\n",
              "      <th>MSE</th>\n",
              "      <th>MAPE</th>\n",
              "    </tr>\n",
              "  </thead>\n",
              "  <tbody>\n",
              "    <tr>\n",
              "      <th>Toluene Column C670 Operation_Distillate Production Rate and Composition_Hydrogen_wt%</th>\n",
              "      <td>1</td>\n",
              "      <td>0</td>\n",
              "      <td>NaN</td>\n",
              "    </tr>\n",
              "    <tr>\n",
              "      <th>Toluene Column C670 Operation_Distillate Production Rate and Composition_Methane_wt%</th>\n",
              "      <td>0</td>\n",
              "      <td>2.06916e-10</td>\n",
              "      <td>NaN</td>\n",
              "    </tr>\n",
              "    <tr>\n",
              "      <th>Toluene Column C670 Operation_Distillate Production Rate and Composition_Ethane_wt%</th>\n",
              "      <td>0</td>\n",
              "      <td>1.22997e-07</td>\n",
              "      <td>NaN</td>\n",
              "    </tr>\n",
              "    <tr>\n",
              "      <th>Toluene Column C670 Operation_Distillate Production Rate and Composition_Propane_wt%</th>\n",
              "      <td>0</td>\n",
              "      <td>1.07301e-07</td>\n",
              "      <td>NaN</td>\n",
              "    </tr>\n",
              "    <tr>\n",
              "      <th>Toluene Column C670 Operation_Distillate Production Rate and Composition_n-Butane_wt%</th>\n",
              "      <td>0</td>\n",
              "      <td>6.63986e-47</td>\n",
              "      <td>NaN</td>\n",
              "    </tr>\n",
              "    <tr>\n",
              "      <th>...</th>\n",
              "      <td>...</td>\n",
              "      <td>...</td>\n",
              "      <td>...</td>\n",
              "    </tr>\n",
              "    <tr>\n",
              "      <th>Toluene Column C670 Operation_Bottoms Production Rate and Composition_n-Pentylbenzene_wt%</th>\n",
              "      <td>0.999999</td>\n",
              "      <td>2.21597e-08</td>\n",
              "      <td>0.0184003</td>\n",
              "    </tr>\n",
              "    <tr>\n",
              "      <th>Toluene Column C670 Operation_Bottoms Production Rate and Composition_n-Hexylbenzene_wt%</th>\n",
              "      <td>0.999999</td>\n",
              "      <td>4.072e-09</td>\n",
              "      <td>0.0184095</td>\n",
              "    </tr>\n",
              "    <tr>\n",
              "      <th>Toluene Column C670 Operation_Bottoms Production Rate and Composition_Nitrogen_wt%</th>\n",
              "      <td>1</td>\n",
              "      <td>0</td>\n",
              "      <td>NaN</td>\n",
              "    </tr>\n",
              "    <tr>\n",
              "      <th>Toluene Column C670 Operation_Bottoms Production Rate and Composition_Oxygen_wt%</th>\n",
              "      <td>1</td>\n",
              "      <td>0</td>\n",
              "      <td>NaN</td>\n",
              "    </tr>\n",
              "    <tr>\n",
              "      <th>AVG</th>\n",
              "      <td>0.82456</td>\n",
              "      <td>5.29206e-07</td>\n",
              "      <td>0.119228</td>\n",
              "    </tr>\n",
              "  </tbody>\n",
              "</table>\n",
              "<p>83 rows × 3 columns</p>\n",
              "</div>"
            ],
            "text/plain": [
              "                                                          R2  ...       MAPE\n",
              "Toluene Column C670 Operation_Distillate Produc...         1  ...        NaN\n",
              "Toluene Column C670 Operation_Distillate Produc...         0  ...        NaN\n",
              "Toluene Column C670 Operation_Distillate Produc...         0  ...        NaN\n",
              "Toluene Column C670 Operation_Distillate Produc...         0  ...        NaN\n",
              "Toluene Column C670 Operation_Distillate Produc...         0  ...        NaN\n",
              "...                                                      ...  ...        ...\n",
              "Toluene Column C670 Operation_Bottoms Productio...  0.999999  ...  0.0184003\n",
              "Toluene Column C670 Operation_Bottoms Productio...  0.999999  ...  0.0184095\n",
              "Toluene Column C670 Operation_Bottoms Productio...         1  ...        NaN\n",
              "Toluene Column C670 Operation_Bottoms Productio...         1  ...        NaN\n",
              "AVG                                                  0.82456  ...   0.119228\n",
              "\n",
              "[83 rows x 3 columns]"
            ]
          },
          "metadata": {
            "tags": []
          },
          "execution_count": 440
        }
      ]
    },
    {
      "cell_type": "code",
      "metadata": {
        "id": "hv_o24SwkytY",
        "colab": {
          "base_uri": "https://localhost:8080/",
          "height": 288
        },
        "outputId": "41ee1406-3284-4f06-b541-b0f66dded1f3"
      },
      "source": [
        "f.c670_M.show_metrics(c670_op.loc[idx],c670_op_,e=2e-2)"
      ],
      "execution_count": 441,
      "outputs": [
        {
          "output_type": "execute_result",
          "data": {
            "text/html": [
              "<div>\n",
              "<style scoped>\n",
              "    .dataframe tbody tr th:only-of-type {\n",
              "        vertical-align: middle;\n",
              "    }\n",
              "\n",
              "    .dataframe tbody tr th {\n",
              "        vertical-align: top;\n",
              "    }\n",
              "\n",
              "    .dataframe thead th {\n",
              "        text-align: right;\n",
              "    }\n",
              "</style>\n",
              "<table border=\"1\" class=\"dataframe\">\n",
              "  <thead>\n",
              "    <tr style=\"text-align: right;\">\n",
              "      <th></th>\n",
              "      <th>R2</th>\n",
              "      <th>MSE</th>\n",
              "      <th>MAPE</th>\n",
              "    </tr>\n",
              "  </thead>\n",
              "  <tbody>\n",
              "    <tr>\n",
              "      <th>Density_Distillate Production Rate and Composition</th>\n",
              "      <td>0.994034</td>\n",
              "      <td>4.8515e-12</td>\n",
              "      <td>0.00019969</td>\n",
              "    </tr>\n",
              "    <tr>\n",
              "      <th>Density_Bottoms Production Rate and Composition</th>\n",
              "      <td>0.993597</td>\n",
              "      <td>1.11842e-09</td>\n",
              "      <td>0.00268373</td>\n",
              "    </tr>\n",
              "    <tr>\n",
              "      <th>Toluene Column C670 Operation_Yield \\nSummary_Reflux Rate_m3/hr</th>\n",
              "      <td>0.976436</td>\n",
              "      <td>14.7323</td>\n",
              "      <td>1.2216</td>\n",
              "    </tr>\n",
              "    <tr>\n",
              "      <th>Toluene Column C670 Operation_Heat Duty_Condenser Heat Duty_Mkcal/hr</th>\n",
              "      <td>0.98399</td>\n",
              "      <td>0.139829</td>\n",
              "      <td>1.00691</td>\n",
              "    </tr>\n",
              "    <tr>\n",
              "      <th>Toluene Column C670 Operation_Heat Duty_Reboiler Heat Duty_Mkcal/hr</th>\n",
              "      <td>0.982911</td>\n",
              "      <td>0.145369</td>\n",
              "      <td>1.02593</td>\n",
              "    </tr>\n",
              "    <tr>\n",
              "      <th>Toluene Column C670 Operation_Column Temp Profile_C670 Tray 24 (Control)_oC</th>\n",
              "      <td>0.960434</td>\n",
              "      <td>0.0024472</td>\n",
              "      <td>0.0213451</td>\n",
              "    </tr>\n",
              "    <tr>\n",
              "      <th>Toluene Column C670 Operation_Column Temp Profile_C670 Btm Temp (Control)_oC</th>\n",
              "      <td>0.989629</td>\n",
              "      <td>0.026648</td>\n",
              "      <td>0.0562481</td>\n",
              "    </tr>\n",
              "    <tr>\n",
              "      <th>AVG</th>\n",
              "      <td>0.983004</td>\n",
              "      <td>2.14951</td>\n",
              "      <td>0.476417</td>\n",
              "    </tr>\n",
              "  </tbody>\n",
              "</table>\n",
              "</div>"
            ],
            "text/plain": [
              "                                                          R2  ...        MAPE\n",
              "Density_Distillate Production Rate and Composition  0.994034  ...  0.00019969\n",
              "Density_Bottoms Production Rate and Composition     0.993597  ...  0.00268373\n",
              "Toluene Column C670 Operation_Yield \\nSummary_R...  0.976436  ...      1.2216\n",
              "Toluene Column C670 Operation_Heat Duty_Condens...   0.98399  ...     1.00691\n",
              "Toluene Column C670 Operation_Heat Duty_Reboile...  0.982911  ...     1.02593\n",
              "Toluene Column C670 Operation_Column Temp Profi...  0.960434  ...   0.0213451\n",
              "Toluene Column C670 Operation_Column Temp Profi...  0.989629  ...   0.0562481\n",
              "AVG                                                 0.983004  ...    0.476417\n",
              "\n",
              "[8 rows x 3 columns]"
            ]
          },
          "metadata": {
            "tags": []
          },
          "execution_count": 441
        }
      ]
    },
    {
      "cell_type": "markdown",
      "metadata": {
        "id": "5l5jUxUqNUxQ"
      },
      "source": [
        "# 試算模式 除了準還要 確認三項條件有滿足"
      ]
    },
    {
      "cell_type": "code",
      "metadata": {
        "id": "JDlomCJ6NQgU",
        "colab": {
          "base_uri": "https://localhost:8080/",
          "height": 407
        },
        "outputId": "0f91d465-2e9a-4f9a-df57-67b4c4facd89"
      },
      "source": [
        "a = icg_input[['Simulation Case Conditions_Spec 1 : Benzene in C620 Sidedraw_wt%']]\n",
        "b = c620_wt[['Tatoray Stripper C620 Operation_Sidedraw Production Rate and Composition_Benzene_wt%']]\n",
        "a.join(b)"
      ],
      "execution_count": 442,
      "outputs": [
        {
          "output_type": "execute_result",
          "data": {
            "text/html": [
              "<div>\n",
              "<style scoped>\n",
              "    .dataframe tbody tr th:only-of-type {\n",
              "        vertical-align: middle;\n",
              "    }\n",
              "\n",
              "    .dataframe tbody tr th {\n",
              "        vertical-align: top;\n",
              "    }\n",
              "\n",
              "    .dataframe thead th {\n",
              "        text-align: right;\n",
              "    }\n",
              "</style>\n",
              "<table border=\"1\" class=\"dataframe\">\n",
              "  <thead>\n",
              "    <tr style=\"text-align: right;\">\n",
              "      <th></th>\n",
              "      <th>Simulation Case Conditions_Spec 1 : Benzene in C620 Sidedraw_wt%</th>\n",
              "      <th>Tatoray Stripper C620 Operation_Sidedraw Production Rate and Composition_Benzene_wt%</th>\n",
              "    </tr>\n",
              "  </thead>\n",
              "  <tbody>\n",
              "    <tr>\n",
              "      <th>079-005</th>\n",
              "      <td>90.0</td>\n",
              "      <td>89.999977</td>\n",
              "    </tr>\n",
              "    <tr>\n",
              "      <th>109-014</th>\n",
              "      <td>80.0</td>\n",
              "      <td>80.000015</td>\n",
              "    </tr>\n",
              "    <tr>\n",
              "      <th>123-011</th>\n",
              "      <td>80.0</td>\n",
              "      <td>79.999992</td>\n",
              "    </tr>\n",
              "    <tr>\n",
              "      <th>065-002</th>\n",
              "      <td>90.0</td>\n",
              "      <td>90.000015</td>\n",
              "    </tr>\n",
              "    <tr>\n",
              "      <th>049-026</th>\n",
              "      <td>70.0</td>\n",
              "      <td>70.000038</td>\n",
              "    </tr>\n",
              "    <tr>\n",
              "      <th>...</th>\n",
              "      <td>...</td>\n",
              "      <td>...</td>\n",
              "    </tr>\n",
              "    <tr>\n",
              "      <th>016-014</th>\n",
              "      <td>80.0</td>\n",
              "      <td>80.000015</td>\n",
              "    </tr>\n",
              "    <tr>\n",
              "      <th>002-011</th>\n",
              "      <td>80.0</td>\n",
              "      <td>80.000008</td>\n",
              "    </tr>\n",
              "    <tr>\n",
              "      <th>098-008</th>\n",
              "      <td>90.0</td>\n",
              "      <td>90.000000</td>\n",
              "    </tr>\n",
              "    <tr>\n",
              "      <th>030-020</th>\n",
              "      <td>70.0</td>\n",
              "      <td>69.999992</td>\n",
              "    </tr>\n",
              "    <tr>\n",
              "      <th>094-005</th>\n",
              "      <td>90.0</td>\n",
              "      <td>89.999992</td>\n",
              "    </tr>\n",
              "  </tbody>\n",
              "</table>\n",
              "<p>1295 rows × 2 columns</p>\n",
              "</div>"
            ],
            "text/plain": [
              "         Simulation Case Conditions_Spec 1 : Benzene in C620 Sidedraw_wt%  Tatoray Stripper C620 Operation_Sidedraw Production Rate and Composition_Benzene_wt%\n",
              "079-005                                               90.0                                                         89.999977                                   \n",
              "109-014                                               80.0                                                         80.000015                                   \n",
              "123-011                                               80.0                                                         79.999992                                   \n",
              "065-002                                               90.0                                                         90.000015                                   \n",
              "049-026                                               70.0                                                         70.000038                                   \n",
              "...                                                    ...                                                               ...                                   \n",
              "016-014                                               80.0                                                         80.000015                                   \n",
              "002-011                                               80.0                                                         80.000008                                   \n",
              "098-008                                               90.0                                                         90.000000                                   \n",
              "030-020                                               70.0                                                         69.999992                                   \n",
              "094-005                                               90.0                                                         89.999992                                   \n",
              "\n",
              "[1295 rows x 2 columns]"
            ]
          },
          "metadata": {
            "tags": []
          },
          "execution_count": 442
        }
      ]
    },
    {
      "cell_type": "code",
      "metadata": {
        "id": "I1788Af4NbVm",
        "colab": {
          "base_uri": "https://localhost:8080/",
          "height": 407
        },
        "outputId": "fbd66892-dd67-47f6-cce4-f98dbd153f7e"
      },
      "source": [
        "a = icg_input[['Simulation Case Conditions_Spec 2 : NA in Benzene_ppmw']]\n",
        "b = c660_wt.filter(regex='Side').filter(regex='wt%').iloc[:,[1,2,3,4,5,6,8,9,11,13,14,15,20,22,29] ].sum(axis=1)*10000\n",
        "b.name = 'c660_wt NA in NA in Benzene_ppmw'\n",
        "a.join(b)"
      ],
      "execution_count": 443,
      "outputs": [
        {
          "output_type": "execute_result",
          "data": {
            "text/html": [
              "<div>\n",
              "<style scoped>\n",
              "    .dataframe tbody tr th:only-of-type {\n",
              "        vertical-align: middle;\n",
              "    }\n",
              "\n",
              "    .dataframe tbody tr th {\n",
              "        vertical-align: top;\n",
              "    }\n",
              "\n",
              "    .dataframe thead th {\n",
              "        text-align: right;\n",
              "    }\n",
              "</style>\n",
              "<table border=\"1\" class=\"dataframe\">\n",
              "  <thead>\n",
              "    <tr style=\"text-align: right;\">\n",
              "      <th></th>\n",
              "      <th>Simulation Case Conditions_Spec 2 : NA in Benzene_ppmw</th>\n",
              "      <th>c660_wt NA in NA in Benzene_ppmw</th>\n",
              "    </tr>\n",
              "  </thead>\n",
              "  <tbody>\n",
              "    <tr>\n",
              "      <th>079-005</th>\n",
              "      <td>950.0</td>\n",
              "      <td>949.865749</td>\n",
              "    </tr>\n",
              "    <tr>\n",
              "      <th>109-014</th>\n",
              "      <td>950.0</td>\n",
              "      <td>950.046426</td>\n",
              "    </tr>\n",
              "    <tr>\n",
              "      <th>123-011</th>\n",
              "      <td>980.0</td>\n",
              "      <td>980.002009</td>\n",
              "    </tr>\n",
              "    <tr>\n",
              "      <th>065-002</th>\n",
              "      <td>980.0</td>\n",
              "      <td>980.003615</td>\n",
              "    </tr>\n",
              "    <tr>\n",
              "      <th>049-026</th>\n",
              "      <td>920.0</td>\n",
              "      <td>920.001784</td>\n",
              "    </tr>\n",
              "    <tr>\n",
              "      <th>...</th>\n",
              "      <td>...</td>\n",
              "      <td>...</td>\n",
              "    </tr>\n",
              "    <tr>\n",
              "      <th>016-014</th>\n",
              "      <td>950.0</td>\n",
              "      <td>950.001405</td>\n",
              "    </tr>\n",
              "    <tr>\n",
              "      <th>002-011</th>\n",
              "      <td>980.0</td>\n",
              "      <td>980.000423</td>\n",
              "    </tr>\n",
              "    <tr>\n",
              "      <th>098-008</th>\n",
              "      <td>920.0</td>\n",
              "      <td>920.003444</td>\n",
              "    </tr>\n",
              "    <tr>\n",
              "      <th>030-020</th>\n",
              "      <td>950.0</td>\n",
              "      <td>949.996310</td>\n",
              "    </tr>\n",
              "    <tr>\n",
              "      <th>094-005</th>\n",
              "      <td>920.0</td>\n",
              "      <td>919.999727</td>\n",
              "    </tr>\n",
              "  </tbody>\n",
              "</table>\n",
              "<p>1295 rows × 2 columns</p>\n",
              "</div>"
            ],
            "text/plain": [
              "         Simulation Case Conditions_Spec 2 : NA in Benzene_ppmw  c660_wt NA in NA in Benzene_ppmw\n",
              "079-005                                              950.0                             949.865749\n",
              "109-014                                              950.0                             950.046426\n",
              "123-011                                              980.0                             980.002009\n",
              "065-002                                              980.0                             980.003615\n",
              "049-026                                              920.0                             920.001784\n",
              "...                                                    ...                                    ...\n",
              "016-014                                              950.0                             950.001405\n",
              "002-011                                              980.0                             980.000423\n",
              "098-008                                              920.0                             920.003444\n",
              "030-020                                              950.0                             949.996310\n",
              "094-005                                              920.0                             919.999727\n",
              "\n",
              "[1295 rows x 2 columns]"
            ]
          },
          "metadata": {
            "tags": []
          },
          "execution_count": 443
        }
      ]
    },
    {
      "cell_type": "code",
      "metadata": {
        "id": "Cf_l-5_XNfc9",
        "colab": {
          "base_uri": "https://localhost:8080/",
          "height": 407
        },
        "outputId": "231f03cf-e8c8-49f4-993a-e15dce3674f3"
      },
      "source": [
        "a = icg_input[['Benzene Column C660 Operation_Specifications_Spec 3 : Toluene in Benzene_ppmw']]\n",
        "b = c660_wt[['Benzene Column C660 Operation_Sidedraw (Benzene )Production Rate and Composition_Toluene_wt%']]*10000\n",
        "a.join(b)"
      ],
      "execution_count": 444,
      "outputs": [
        {
          "output_type": "execute_result",
          "data": {
            "text/html": [
              "<div>\n",
              "<style scoped>\n",
              "    .dataframe tbody tr th:only-of-type {\n",
              "        vertical-align: middle;\n",
              "    }\n",
              "\n",
              "    .dataframe tbody tr th {\n",
              "        vertical-align: top;\n",
              "    }\n",
              "\n",
              "    .dataframe thead th {\n",
              "        text-align: right;\n",
              "    }\n",
              "</style>\n",
              "<table border=\"1\" class=\"dataframe\">\n",
              "  <thead>\n",
              "    <tr style=\"text-align: right;\">\n",
              "      <th></th>\n",
              "      <th>Benzene Column C660 Operation_Specifications_Spec 3 : Toluene in Benzene_ppmw</th>\n",
              "      <th>Benzene Column C660 Operation_Sidedraw (Benzene )Production Rate and Composition_Toluene_wt%</th>\n",
              "    </tr>\n",
              "  </thead>\n",
              "  <tbody>\n",
              "    <tr>\n",
              "      <th>079-005</th>\n",
              "      <td>5.000000</td>\n",
              "      <td>5.000000</td>\n",
              "    </tr>\n",
              "    <tr>\n",
              "      <th>109-014</th>\n",
              "      <td>5.000000</td>\n",
              "      <td>5.000000</td>\n",
              "    </tr>\n",
              "    <tr>\n",
              "      <th>123-011</th>\n",
              "      <td>10.000003</td>\n",
              "      <td>10.000003</td>\n",
              "    </tr>\n",
              "    <tr>\n",
              "      <th>065-002</th>\n",
              "      <td>10.000058</td>\n",
              "      <td>10.000058</td>\n",
              "    </tr>\n",
              "    <tr>\n",
              "      <th>049-026</th>\n",
              "      <td>2.500000</td>\n",
              "      <td>2.500000</td>\n",
              "    </tr>\n",
              "    <tr>\n",
              "      <th>...</th>\n",
              "      <td>...</td>\n",
              "      <td>...</td>\n",
              "    </tr>\n",
              "    <tr>\n",
              "      <th>016-014</th>\n",
              "      <td>9.999999</td>\n",
              "      <td>9.999999</td>\n",
              "    </tr>\n",
              "    <tr>\n",
              "      <th>002-011</th>\n",
              "      <td>10.000000</td>\n",
              "      <td>10.000000</td>\n",
              "    </tr>\n",
              "    <tr>\n",
              "      <th>098-008</th>\n",
              "      <td>5.000000</td>\n",
              "      <td>5.000000</td>\n",
              "    </tr>\n",
              "    <tr>\n",
              "      <th>030-020</th>\n",
              "      <td>10.000016</td>\n",
              "      <td>10.000016</td>\n",
              "    </tr>\n",
              "    <tr>\n",
              "      <th>094-005</th>\n",
              "      <td>10.000076</td>\n",
              "      <td>10.000076</td>\n",
              "    </tr>\n",
              "  </tbody>\n",
              "</table>\n",
              "<p>1295 rows × 2 columns</p>\n",
              "</div>"
            ],
            "text/plain": [
              "         Benzene Column C660 Operation_Specifications_Spec 3 : Toluene in Benzene_ppmw  Benzene Column C660 Operation_Sidedraw (Benzene )Production Rate and Composition_Toluene_wt%\n",
              "079-005                                           5.000000                                                                       5.000000                                           \n",
              "109-014                                           5.000000                                                                       5.000000                                           \n",
              "123-011                                          10.000003                                                                      10.000003                                           \n",
              "065-002                                          10.000058                                                                      10.000058                                           \n",
              "049-026                                           2.500000                                                                       2.500000                                           \n",
              "...                                                    ...                                                                            ...                                           \n",
              "016-014                                           9.999999                                                                       9.999999                                           \n",
              "002-011                                          10.000000                                                                      10.000000                                           \n",
              "098-008                                           5.000000                                                                       5.000000                                           \n",
              "030-020                                          10.000016                                                                      10.000016                                           \n",
              "094-005                                          10.000076                                                                      10.000076                                           \n",
              "\n",
              "[1295 rows x 2 columns]"
            ]
          },
          "metadata": {
            "tags": []
          },
          "execution_count": 444
        }
      ]
    },
    {
      "cell_type": "markdown",
      "metadata": {
        "id": "mzQ_FNmgRUit"
      },
      "source": [
        "# 推薦模式測試觀察重點 \"調幅(op_opt-op)\" 以及三項條件是否 \"足夠趨近\""
      ]
    },
    {
      "cell_type": "code",
      "metadata": {
        "colab": {
          "base_uri": "https://localhost:8080/"
        },
        "id": "aIe4hWZvREz5",
        "outputId": "163007e4-c6b6-4e7c-9b3f-bfba90ef8158"
      },
      "source": [
        "f = AllSystem(config)\n",
        "idx = np.random.choice(allidx,size=1,replace=False,p=None)\n",
        "print(icg_input.loc[idx,'Simulation Case Conditions_Spec 1 : Benzene in C620 Sidedraw_wt%'])\n",
        "print(icg_input.loc[idx,'Simulation Case Conditions_Spec 2 : NA in Benzene_ppmw'])\n",
        "print(icg_input.loc[idx,'Benzene Column C660 Operation_Specifications_Spec 3 : Toluene in Benzene_ppmw'])\n",
        "print(icg_input.loc[idx,'Tatoray Stripper C620 Operation_Specifications_Spec 2 : Distillate Rate_m3/hr'])"
      ],
      "execution_count": 456,
      "outputs": [
        {
          "output_type": "stream",
          "text": [
            "118-017    80.0\n",
            "Name: Simulation Case Conditions_Spec 1 : Benzene in C620 Sidedraw_wt%, dtype: float64\n",
            "118-017    920.0\n",
            "Name: Simulation Case Conditions_Spec 2 : NA in Benzene_ppmw, dtype: float64\n",
            "118-017    5.000005\n",
            "Name: Benzene Column C660 Operation_Specifications_Spec 3 : Toluene in Benzene_ppmw, dtype: float64\n",
            "118-017    0.01\n",
            "Name: Tatoray Stripper C620 Operation_Specifications_Spec 2 : Distillate Rate_m3/hr, dtype: float64\n"
          ],
          "name": "stdout"
        }
      ]
    },
    {
      "cell_type": "code",
      "metadata": {
        "id": "PyuZyjzmki0y",
        "colab": {
          "base_uri": "https://localhost:8080/",
          "height": 176,
          "referenced_widgets": [
            "52bf5995921a49818dfd3b39efe08c29",
            "e69f8539bdda4b4aa796ad5c0197230b",
            "60c4fa806dbb45e6a85641a6ecb0480d",
            "0965806b34bf4cd08ac147a56d065363",
            "01b64a8400d14743a09eeb20602ee357",
            "fb94fa283c804d8cbca7b10f9a7fe584",
            "112106fbf9f147a4904304e0bc86ee8d",
            "060b6ef3e4f44f8d835e2409e829e6a7"
          ]
        },
        "outputId": "5b3caf11-5118-4a6f-a6e9-9f2ea44c9530"
      },
      "source": [
        "# 試算\n",
        "c620_wt_estimate,c620_op_estimate,c660_wt_estimate,c660_op_estimate,c670_wt_estimate,c670_op_estimate = f.inference(icg_input.loc[idx],c620_feed.loc[idx],t651_feed.loc[idx])\n",
        "# 推薦\n",
        "c620_wt_optimal,c620_op_optimal,c660_wt_optimal,c660_op_optimal,c670_wt_optimal,c670_op_optimal,bz_error,nainbz_error,tol_error = f.recommend(icg_input.loc[idx],c620_feed.loc[idx],t651_feed.loc[idx],\n",
        "                                                                            only_tune_temp=True)"
      ],
      "execution_count": 457,
      "outputs": [
        {
          "output_type": "stream",
          "text": [
            "\u001b[32m[I 2021-05-01 08:39:23,370]\u001b[0m A new study created in memory with name: no-name-258d874d-0406-4679-bd76-f17f7dfa4043\u001b[0m\n"
          ],
          "name": "stderr"
        },
        {
          "output_type": "stream",
          "text": [
            "系統已經自動設定推薦值[70,980,10]\n"
          ],
          "name": "stdout"
        },
        {
          "output_type": "display_data",
          "data": {
            "application/vnd.jupyter.widget-view+json": {
              "model_id": "52bf5995921a49818dfd3b39efe08c29",
              "version_minor": 0,
              "version_major": 2
            },
            "text/plain": [
              "HBox(children=(FloatProgress(value=0.0, max=300.0), HTML(value='')))"
            ]
          },
          "metadata": {
            "tags": []
          }
        },
        {
          "output_type": "stream",
          "text": [
            "\n",
            "bzinside_loss: 0.000993385833142416\n",
            "nainbz_loss: 0.05508862255847243\n",
            "tol_loss: 0.0010750978376872667\n",
            "distrate_loss: 0\n"
          ],
          "name": "stdout"
        }
      ]
    },
    {
      "cell_type": "markdown",
      "metadata": {
        "id": "V-czTbsnJUED"
      },
      "source": [
        "# 確認三項條件有滿足"
      ]
    },
    {
      "cell_type": "code",
      "metadata": {
        "colab": {
          "base_uri": "https://localhost:8080/"
        },
        "id": "8bdrIbVXJUMi",
        "outputId": "9ffac5e2-dcc4-4475-9718-0c261db65354"
      },
      "source": [
        "bz_error,nainbz_error,tol_error"
      ],
      "execution_count": 458,
      "outputs": [
        {
          "output_type": "execute_result",
          "data": {
            "text/plain": [
              "(0.000993385833142416, 0.05508862255847243, 0.0010750978376872667)"
            ]
          },
          "metadata": {
            "tags": []
          },
          "execution_count": 458
        }
      ]
    },
    {
      "cell_type": "code",
      "metadata": {
        "colab": {
          "base_uri": "https://localhost:8080/",
          "height": 78
        },
        "id": "plTvQ5hoJ17k",
        "outputId": "1f0d6c4a-7f5e-455a-929b-11e82e698e82"
      },
      "source": [
        "a = icg_input.loc[idx,['Simulation Case Conditions_Spec 1 : Benzene in C620 Sidedraw_wt%']]\n",
        "b = c620_wt_optimal.loc[idx,['Tatoray Stripper C620 Operation_Sidedraw Production Rate and Composition_Benzene_wt%']]\n",
        "c = pd.DataFrame(index=idx)\n",
        "c['推薦值'] = 70\n",
        "res = a.join(b).join(c)\n",
        "res.columns = ['原始值','優化搜索後值','完美值']\n",
        "res"
      ],
      "execution_count": 459,
      "outputs": [
        {
          "output_type": "execute_result",
          "data": {
            "text/html": [
              "<div>\n",
              "<style scoped>\n",
              "    .dataframe tbody tr th:only-of-type {\n",
              "        vertical-align: middle;\n",
              "    }\n",
              "\n",
              "    .dataframe tbody tr th {\n",
              "        vertical-align: top;\n",
              "    }\n",
              "\n",
              "    .dataframe thead th {\n",
              "        text-align: right;\n",
              "    }\n",
              "</style>\n",
              "<table border=\"1\" class=\"dataframe\">\n",
              "  <thead>\n",
              "    <tr style=\"text-align: right;\">\n",
              "      <th></th>\n",
              "      <th>原始值</th>\n",
              "      <th>優化搜索後值</th>\n",
              "      <th>完美值</th>\n",
              "    </tr>\n",
              "  </thead>\n",
              "  <tbody>\n",
              "    <tr>\n",
              "      <th>118-017</th>\n",
              "      <td>80.0</td>\n",
              "      <td>69.930463</td>\n",
              "      <td>70</td>\n",
              "    </tr>\n",
              "  </tbody>\n",
              "</table>\n",
              "</div>"
            ],
            "text/plain": [
              "          原始值     優化搜索後值  完美值\n",
              "118-017  80.0  69.930463   70"
            ]
          },
          "metadata": {
            "tags": []
          },
          "execution_count": 459
        }
      ]
    },
    {
      "cell_type": "code",
      "metadata": {
        "colab": {
          "base_uri": "https://localhost:8080/",
          "height": 78
        },
        "id": "iKspSt_-J79X",
        "outputId": "e0ccc73a-f986-4c00-8705-ad1632fce264"
      },
      "source": [
        "a = icg_input.loc[idx,['Simulation Case Conditions_Spec 2 : NA in Benzene_ppmw']]\n",
        "b = c660_wt_optimal.loc[idx].filter(regex='Side').filter(regex='wt%').iloc[:,[1,2,3,4,5,6,8,9,11,13,14,15,20,22,29] ].sum(axis=1)*10000\n",
        "b.name = 'c660_wt NA in NA in Benzene_ppmw'\n",
        "c = pd.DataFrame(index=idx)\n",
        "c['推薦值'] = 980\n",
        "res = a.join(b).join(c)\n",
        "res.columns = ['原始值','優化搜索後值','完美值']\n",
        "res"
      ],
      "execution_count": 460,
      "outputs": [
        {
          "output_type": "execute_result",
          "data": {
            "text/html": [
              "<div>\n",
              "<style scoped>\n",
              "    .dataframe tbody tr th:only-of-type {\n",
              "        vertical-align: middle;\n",
              "    }\n",
              "\n",
              "    .dataframe tbody tr th {\n",
              "        vertical-align: top;\n",
              "    }\n",
              "\n",
              "    .dataframe thead th {\n",
              "        text-align: right;\n",
              "    }\n",
              "</style>\n",
              "<table border=\"1\" class=\"dataframe\">\n",
              "  <thead>\n",
              "    <tr style=\"text-align: right;\">\n",
              "      <th></th>\n",
              "      <th>原始值</th>\n",
              "      <th>優化搜索後值</th>\n",
              "      <th>完美值</th>\n",
              "    </tr>\n",
              "  </thead>\n",
              "  <tbody>\n",
              "    <tr>\n",
              "      <th>118-017</th>\n",
              "      <td>920.0</td>\n",
              "      <td>926.01315</td>\n",
              "      <td>980</td>\n",
              "    </tr>\n",
              "  </tbody>\n",
              "</table>\n",
              "</div>"
            ],
            "text/plain": [
              "           原始值     優化搜索後值  完美值\n",
              "118-017  920.0  926.01315  980"
            ]
          },
          "metadata": {
            "tags": []
          },
          "execution_count": 460
        }
      ]
    },
    {
      "cell_type": "code",
      "metadata": {
        "colab": {
          "base_uri": "https://localhost:8080/",
          "height": 78
        },
        "id": "boxjNTZ_Kuvu",
        "outputId": "e81612d6-92b6-43d6-8ae3-6a2d2f3f6a0e"
      },
      "source": [
        "a = icg_input.loc[idx,['Benzene Column C660 Operation_Specifications_Spec 3 : Toluene in Benzene_ppmw']]\n",
        "b = c660_wt_optimal.loc[idx,['Benzene Column C660 Operation_Sidedraw (Benzene )Production Rate and Composition_Toluene_wt%']]*10000\n",
        "c = pd.DataFrame(index=idx)\n",
        "c['推薦值'] = 10\n",
        "res = a.join(b).join(c)\n",
        "res.columns = ['原始值','優化搜索後值','完美值']\n",
        "res"
      ],
      "execution_count": 461,
      "outputs": [
        {
          "output_type": "execute_result",
          "data": {
            "text/html": [
              "<div>\n",
              "<style scoped>\n",
              "    .dataframe tbody tr th:only-of-type {\n",
              "        vertical-align: middle;\n",
              "    }\n",
              "\n",
              "    .dataframe tbody tr th {\n",
              "        vertical-align: top;\n",
              "    }\n",
              "\n",
              "    .dataframe thead th {\n",
              "        text-align: right;\n",
              "    }\n",
              "</style>\n",
              "<table border=\"1\" class=\"dataframe\">\n",
              "  <thead>\n",
              "    <tr style=\"text-align: right;\">\n",
              "      <th></th>\n",
              "      <th>原始值</th>\n",
              "      <th>優化搜索後值</th>\n",
              "      <th>完美值</th>\n",
              "    </tr>\n",
              "  </thead>\n",
              "  <tbody>\n",
              "    <tr>\n",
              "      <th>118-017</th>\n",
              "      <td>5.000005</td>\n",
              "      <td>9.989249</td>\n",
              "      <td>10</td>\n",
              "    </tr>\n",
              "  </tbody>\n",
              "</table>\n",
              "</div>"
            ],
            "text/plain": [
              "              原始值    優化搜索後值  完美值\n",
              "118-017  5.000005  9.989249   10"
            ]
          },
          "metadata": {
            "tags": []
          },
          "execution_count": 461
        }
      ]
    },
    {
      "cell_type": "markdown",
      "metadata": {
        "id": "XCrSd9ICUydW"
      },
      "source": [
        "# 確認操作條件有足夠大的調幅,然後因為bzinside是往下降所以溫度調幅是往上升"
      ]
    },
    {
      "cell_type": "code",
      "metadata": {
        "colab": {
          "base_uri": "https://localhost:8080/",
          "height": 78
        },
        "id": "co6zFgOqXHE3",
        "outputId": "00c7e382-b567-4d42-d33d-b6b0ddcfdef1"
      },
      "source": [
        "(c620_op_optimal - c620_op_estimate).iloc[:,-2:]"
      ],
      "execution_count": 465,
      "outputs": [
        {
          "output_type": "execute_result",
          "data": {
            "text/html": [
              "<div>\n",
              "<style scoped>\n",
              "    .dataframe tbody tr th:only-of-type {\n",
              "        vertical-align: middle;\n",
              "    }\n",
              "\n",
              "    .dataframe tbody tr th {\n",
              "        vertical-align: top;\n",
              "    }\n",
              "\n",
              "    .dataframe thead th {\n",
              "        text-align: right;\n",
              "    }\n",
              "</style>\n",
              "<table border=\"1\" class=\"dataframe\">\n",
              "  <thead>\n",
              "    <tr style=\"text-align: right;\">\n",
              "      <th></th>\n",
              "      <th>Tatoray Stripper C620 Operation_Column Temp Profile_C620 Tray 14 (Control)_oC</th>\n",
              "      <th>Tatoray Stripper C620 Operation_Column Temp Profile_C620 Tray 34 (Control)_oC</th>\n",
              "    </tr>\n",
              "  </thead>\n",
              "  <tbody>\n",
              "    <tr>\n",
              "      <th>118-017</th>\n",
              "      <td>0.354563</td>\n",
              "      <td>0.590253</td>\n",
              "    </tr>\n",
              "  </tbody>\n",
              "</table>\n",
              "</div>"
            ],
            "text/plain": [
              "         Tatoray Stripper C620 Operation_Column Temp Profile_C620 Tray 14 (Control)_oC  Tatoray Stripper C620 Operation_Column Temp Profile_C620 Tray 34 (Control)_oC\n",
              "118-017                                           0.354563                                                                       0.590253                            "
            ]
          },
          "metadata": {
            "tags": []
          },
          "execution_count": 465
        }
      ]
    },
    {
      "cell_type": "code",
      "metadata": {
        "id": "m6smPx97kBC-",
        "colab": {
          "base_uri": "https://localhost:8080/",
          "height": 78
        },
        "outputId": "89da1f0d-c5bd-46ca-99b0-24f682c9949e"
      },
      "source": [
        "(c660_op_optimal - c660_op_estimate).iloc[:,-2:]"
      ],
      "execution_count": 466,
      "outputs": [
        {
          "output_type": "execute_result",
          "data": {
            "text/html": [
              "<div>\n",
              "<style scoped>\n",
              "    .dataframe tbody tr th:only-of-type {\n",
              "        vertical-align: middle;\n",
              "    }\n",
              "\n",
              "    .dataframe tbody tr th {\n",
              "        vertical-align: top;\n",
              "    }\n",
              "\n",
              "    .dataframe thead th {\n",
              "        text-align: right;\n",
              "    }\n",
              "</style>\n",
              "<table border=\"1\" class=\"dataframe\">\n",
              "  <thead>\n",
              "    <tr style=\"text-align: right;\">\n",
              "      <th></th>\n",
              "      <th>Benzene Column C660 Operation_Column Temp Profile_C660 Tray 6 (SD &amp; Control)_oC</th>\n",
              "      <th>Benzene Column C660 Operation_Column Temp Profile_C660 Tray 23 (Control)_oC</th>\n",
              "    </tr>\n",
              "  </thead>\n",
              "  <tbody>\n",
              "    <tr>\n",
              "      <th>118-017</th>\n",
              "      <td>-0.045769</td>\n",
              "      <td>-0.006925</td>\n",
              "    </tr>\n",
              "  </tbody>\n",
              "</table>\n",
              "</div>"
            ],
            "text/plain": [
              "         Benzene Column C660 Operation_Column Temp Profile_C660 Tray 6 (SD & Control)_oC  Benzene Column C660 Operation_Column Temp Profile_C660 Tray 23 (Control)_oC\n",
              "118-017                                          -0.045769                                                                        -0.006925                          "
            ]
          },
          "metadata": {
            "tags": []
          },
          "execution_count": 466
        }
      ]
    },
    {
      "cell_type": "code",
      "metadata": {
        "id": "9Iho3ltAkBwU",
        "colab": {
          "base_uri": "https://localhost:8080/",
          "height": 78
        },
        "outputId": "50da390a-38b0-4292-f047-117c7d47cabf"
      },
      "source": [
        "(c670_op_optimal - c670_op_estimate).iloc[:,-2:]"
      ],
      "execution_count": 467,
      "outputs": [
        {
          "output_type": "execute_result",
          "data": {
            "text/html": [
              "<div>\n",
              "<style scoped>\n",
              "    .dataframe tbody tr th:only-of-type {\n",
              "        vertical-align: middle;\n",
              "    }\n",
              "\n",
              "    .dataframe tbody tr th {\n",
              "        vertical-align: top;\n",
              "    }\n",
              "\n",
              "    .dataframe thead th {\n",
              "        text-align: right;\n",
              "    }\n",
              "</style>\n",
              "<table border=\"1\" class=\"dataframe\">\n",
              "  <thead>\n",
              "    <tr style=\"text-align: right;\">\n",
              "      <th></th>\n",
              "      <th>Toluene Column C670 Operation_Column Temp Profile_C670 Tray 24 (Control)_oC</th>\n",
              "      <th>Toluene Column C670 Operation_Column Temp Profile_C670 Btm Temp (Control)_oC</th>\n",
              "    </tr>\n",
              "  </thead>\n",
              "  <tbody>\n",
              "    <tr>\n",
              "      <th>118-017</th>\n",
              "      <td>-0.114899</td>\n",
              "      <td>-0.047104</td>\n",
              "    </tr>\n",
              "  </tbody>\n",
              "</table>\n",
              "</div>"
            ],
            "text/plain": [
              "         Toluene Column C670 Operation_Column Temp Profile_C670 Tray 24 (Control)_oC  Toluene Column C670 Operation_Column Temp Profile_C670 Btm Temp (Control)_oC\n",
              "118-017                                          -0.114899                                                                    -0.047104                           "
            ]
          },
          "metadata": {
            "tags": []
          },
          "execution_count": 467
        }
      ]
    },
    {
      "cell_type": "markdown",
      "metadata": {
        "id": "1u2sIZi1maeB"
      },
      "source": [
        "# 保存樣本"
      ]
    },
    {
      "cell_type": "code",
      "metadata": {
        "id": "SP3AKxsymale",
        "colab": {
          "base_uri": "https://localhost:8080/"
        },
        "outputId": "6fb0ef7c-1de4-4703-80b4-b2c1375bce5b"
      },
      "source": [
        "print(idx)"
      ],
      "execution_count": 471,
      "outputs": [
        {
          "output_type": "stream",
          "text": [
            "['118-017']\n"
          ],
          "name": "stdout"
        }
      ]
    },
    {
      "cell_type": "code",
      "metadata": {
        "id": "gBiAAbNrmt42"
      },
      "source": [
        "demo = {\n",
        "      # input\n",
        "      'icg_input':icg_input.loc[idx],\n",
        "      'c620_feed':c620_feed.loc[idx],\n",
        "      't651_feed':t651_feed.loc[idx],\n",
        "      # output\n",
        "      'c620_op':c620_op.loc[idx],\n",
        "      'c620_wt':c620_wt.loc[idx],\n",
        "      'c660_op':c660_op.loc[idx],\n",
        "      'c660_wt':c660_wt.loc[idx],\n",
        "      'c670_op':c670_op.loc[idx],\n",
        "      'c670_wt':c670_wt.loc[idx],\n",
        "      }"
      ],
      "execution_count": 472,
      "outputs": []
    },
    {
      "cell_type": "code",
      "metadata": {
        "id": "hqZSzX1VmxT-",
        "colab": {
          "base_uri": "https://localhost:8080/"
        },
        "outputId": "84b0f185-4395-4a6c-9cc9-85cd55a3c4be"
      },
      "source": [
        "import joblib\n",
        "joblib.dump(demo,\"/content/drive/MyDrive/台塑輕油案子/data/c620/demo/demo.pkl\")"
      ],
      "execution_count": 473,
      "outputs": [
        {
          "output_type": "execute_result",
          "data": {
            "text/plain": [
              "['/content/drive/MyDrive/台塑輕油案子/data/c620/demo/demo.pkl']"
            ]
          },
          "metadata": {
            "tags": []
          },
          "execution_count": 473
        }
      ]
    },
    {
      "cell_type": "markdown",
      "metadata": {
        "id": "X9yg2_p2veZA"
      },
      "source": [
        "# 保存模組"
      ]
    },
    {
      "cell_type": "code",
      "metadata": {
        "id": "TaZjMBJ9veg9",
        "colab": {
          "base_uri": "https://localhost:8080/"
        },
        "outputId": "6cbe6005-c66e-494e-f364-4518ef8e4dac"
      },
      "source": [
        "joblib.dump(f,\"/content/drive/MyDrive/台塑輕油案子/data/c620/model/allsystem.pkl\")"
      ],
      "execution_count": 474,
      "outputs": [
        {
          "output_type": "execute_result",
          "data": {
            "text/plain": [
              "['/content/drive/MyDrive/台塑輕油案子/data/c620/model/allsystem.pkl']"
            ]
          },
          "metadata": {
            "tags": []
          },
          "execution_count": 474
        }
      ]
    },
    {
      "cell_type": "code",
      "metadata": {
        "id": "yvR3sfsfm1Od"
      },
      "source": [
        ""
      ],
      "execution_count": null,
      "outputs": []
    }
  ]
}