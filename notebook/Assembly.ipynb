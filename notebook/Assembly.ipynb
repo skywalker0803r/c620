{
  "nbformat": 4,
  "nbformat_minor": 0,
  "metadata": {
    "colab": {
      "name": "Assembly.ipynb",
      "provenance": [],
      "collapsed_sections": [
        "IEKp-SYsPkip",
        "5l5jUxUqNUxQ",
        "mzQ_FNmgRUit",
        "V-czTbsnJUED",
        "XCrSd9ICUydW",
        "50ddy_o3Utcy",
        "1u2sIZi1maeB",
        "X9yg2_p2veZA"
      ],
      "mount_file_id": "https://github.com/skywalker0803r/c620/blob/main/notebook/Assembly.ipynb",
      "authorship_tag": "ABX9TyNAzYJwG3NAud3wdUzb41qk",
      "include_colab_link": true
    },
    "kernelspec": {
      "name": "python3",
      "display_name": "Python 3"
    },
    "language_info": {
      "name": "python"
    },
    "widgets": {
      "application/vnd.jupyter.widget-state+json": {
        "b8792f3a3b214137bded0f4179ee7293": {
          "model_module": "@jupyter-widgets/controls",
          "model_name": "HBoxModel",
          "state": {
            "_view_name": "HBoxView",
            "_dom_classes": [],
            "_model_name": "HBoxModel",
            "_view_module": "@jupyter-widgets/controls",
            "_model_module_version": "1.5.0",
            "_view_count": null,
            "_view_module_version": "1.5.0",
            "box_style": "",
            "layout": "IPY_MODEL_987c72cccec84238b0d876b47d0f56eb",
            "_model_module": "@jupyter-widgets/controls",
            "children": [
              "IPY_MODEL_bbcf5757e9c44cc3b0a4ea04f9dfae97",
              "IPY_MODEL_21170a6a54314831a56c939c745add0d"
            ]
          }
        },
        "987c72cccec84238b0d876b47d0f56eb": {
          "model_module": "@jupyter-widgets/base",
          "model_name": "LayoutModel",
          "state": {
            "_view_name": "LayoutView",
            "grid_template_rows": null,
            "right": null,
            "justify_content": null,
            "_view_module": "@jupyter-widgets/base",
            "overflow": null,
            "_model_module_version": "1.2.0",
            "_view_count": null,
            "flex_flow": null,
            "width": null,
            "min_width": null,
            "border": null,
            "align_items": null,
            "bottom": null,
            "_model_module": "@jupyter-widgets/base",
            "top": null,
            "grid_column": null,
            "overflow_y": null,
            "overflow_x": null,
            "grid_auto_flow": null,
            "grid_area": null,
            "grid_template_columns": null,
            "flex": null,
            "_model_name": "LayoutModel",
            "justify_items": null,
            "grid_row": null,
            "max_height": null,
            "align_content": null,
            "visibility": null,
            "align_self": null,
            "height": null,
            "min_height": null,
            "padding": null,
            "grid_auto_rows": null,
            "grid_gap": null,
            "max_width": null,
            "order": null,
            "_view_module_version": "1.2.0",
            "grid_template_areas": null,
            "object_position": null,
            "object_fit": null,
            "grid_auto_columns": null,
            "margin": null,
            "display": null,
            "left": null
          }
        },
        "bbcf5757e9c44cc3b0a4ea04f9dfae97": {
          "model_module": "@jupyter-widgets/controls",
          "model_name": "FloatProgressModel",
          "state": {
            "_view_name": "ProgressView",
            "style": "IPY_MODEL_5030c6402a304c53ad6b07183d44f428",
            "_dom_classes": [],
            "description": "  7%",
            "_model_name": "FloatProgressModel",
            "bar_style": "danger",
            "max": 300,
            "_view_module": "@jupyter-widgets/controls",
            "_model_module_version": "1.5.0",
            "value": 22,
            "_view_count": null,
            "_view_module_version": "1.5.0",
            "orientation": "horizontal",
            "min": 0,
            "description_tooltip": null,
            "_model_module": "@jupyter-widgets/controls",
            "layout": "IPY_MODEL_ba3f5d98fc604897abd81672968db7df"
          }
        },
        "21170a6a54314831a56c939c745add0d": {
          "model_module": "@jupyter-widgets/controls",
          "model_name": "HTMLModel",
          "state": {
            "_view_name": "HTMLView",
            "style": "IPY_MODEL_532643debb234fa8ba8bc0652bcdec36",
            "_dom_classes": [],
            "description": "",
            "_model_name": "HTMLModel",
            "placeholder": "​",
            "_view_module": "@jupyter-widgets/controls",
            "_model_module_version": "1.5.0",
            "value": " 22/300 [00:03&lt;00:41,  6.73it/s]",
            "_view_count": null,
            "_view_module_version": "1.5.0",
            "description_tooltip": null,
            "_model_module": "@jupyter-widgets/controls",
            "layout": "IPY_MODEL_e6213c2f98d4495da80413ab2fbb4600"
          }
        },
        "5030c6402a304c53ad6b07183d44f428": {
          "model_module": "@jupyter-widgets/controls",
          "model_name": "ProgressStyleModel",
          "state": {
            "_view_name": "StyleView",
            "_model_name": "ProgressStyleModel",
            "description_width": "initial",
            "_view_module": "@jupyter-widgets/base",
            "_model_module_version": "1.5.0",
            "_view_count": null,
            "_view_module_version": "1.2.0",
            "bar_color": null,
            "_model_module": "@jupyter-widgets/controls"
          }
        },
        "ba3f5d98fc604897abd81672968db7df": {
          "model_module": "@jupyter-widgets/base",
          "model_name": "LayoutModel",
          "state": {
            "_view_name": "LayoutView",
            "grid_template_rows": null,
            "right": null,
            "justify_content": null,
            "_view_module": "@jupyter-widgets/base",
            "overflow": null,
            "_model_module_version": "1.2.0",
            "_view_count": null,
            "flex_flow": null,
            "width": null,
            "min_width": null,
            "border": null,
            "align_items": null,
            "bottom": null,
            "_model_module": "@jupyter-widgets/base",
            "top": null,
            "grid_column": null,
            "overflow_y": null,
            "overflow_x": null,
            "grid_auto_flow": null,
            "grid_area": null,
            "grid_template_columns": null,
            "flex": null,
            "_model_name": "LayoutModel",
            "justify_items": null,
            "grid_row": null,
            "max_height": null,
            "align_content": null,
            "visibility": null,
            "align_self": null,
            "height": null,
            "min_height": null,
            "padding": null,
            "grid_auto_rows": null,
            "grid_gap": null,
            "max_width": null,
            "order": null,
            "_view_module_version": "1.2.0",
            "grid_template_areas": null,
            "object_position": null,
            "object_fit": null,
            "grid_auto_columns": null,
            "margin": null,
            "display": null,
            "left": null
          }
        },
        "532643debb234fa8ba8bc0652bcdec36": {
          "model_module": "@jupyter-widgets/controls",
          "model_name": "DescriptionStyleModel",
          "state": {
            "_view_name": "StyleView",
            "_model_name": "DescriptionStyleModel",
            "description_width": "",
            "_view_module": "@jupyter-widgets/base",
            "_model_module_version": "1.5.0",
            "_view_count": null,
            "_view_module_version": "1.2.0",
            "_model_module": "@jupyter-widgets/controls"
          }
        },
        "e6213c2f98d4495da80413ab2fbb4600": {
          "model_module": "@jupyter-widgets/base",
          "model_name": "LayoutModel",
          "state": {
            "_view_name": "LayoutView",
            "grid_template_rows": null,
            "right": null,
            "justify_content": null,
            "_view_module": "@jupyter-widgets/base",
            "overflow": null,
            "_model_module_version": "1.2.0",
            "_view_count": null,
            "flex_flow": null,
            "width": null,
            "min_width": null,
            "border": null,
            "align_items": null,
            "bottom": null,
            "_model_module": "@jupyter-widgets/base",
            "top": null,
            "grid_column": null,
            "overflow_y": null,
            "overflow_x": null,
            "grid_auto_flow": null,
            "grid_area": null,
            "grid_template_columns": null,
            "flex": null,
            "_model_name": "LayoutModel",
            "justify_items": null,
            "grid_row": null,
            "max_height": null,
            "align_content": null,
            "visibility": null,
            "align_self": null,
            "height": null,
            "min_height": null,
            "padding": null,
            "grid_auto_rows": null,
            "grid_gap": null,
            "max_width": null,
            "order": null,
            "_view_module_version": "1.2.0",
            "grid_template_areas": null,
            "object_position": null,
            "object_fit": null,
            "grid_auto_columns": null,
            "margin": null,
            "display": null,
            "left": null
          }
        }
      }
    }
  },
  "cells": [
    {
      "cell_type": "markdown",
      "metadata": {
        "id": "view-in-github",
        "colab_type": "text"
      },
      "source": [
        "<a href=\"https://colab.research.google.com/github/skywalker0803r/c620/blob/main/notebook/Assembly.ipynb\" target=\"_parent\"><img src=\"https://colab.research.google.com/assets/colab-badge.svg\" alt=\"Open In Colab\"/></a>"
      ]
    },
    {
      "cell_type": "code",
      "metadata": {
        "id": "pVn4fkd1629H"
      },
      "source": [
        "!pip install autorch > log.txt\n",
        "!pip install optuna > log.txt"
      ],
      "execution_count": 1,
      "outputs": []
    },
    {
      "cell_type": "code",
      "metadata": {
        "id": "dpPYEEG_6nch"
      },
      "source": [
        "import joblib\n",
        "import os\n",
        "import numpy as np\n",
        "import pandas as pd\n",
        "import matplotlib.pyplot as plt\n",
        "import autorch\n",
        "from autorch.function import sp2wt\n",
        "import optuna\n",
        "from tqdm import tqdm_notebook as tqdm"
      ],
      "execution_count": 2,
      "outputs": []
    },
    {
      "cell_type": "markdown",
      "metadata": {
        "id": "TzM-ooIqP-Ih"
      },
      "source": [
        "# LOAD DATA"
      ]
    },
    {
      "cell_type": "code",
      "metadata": {
        "id": "eXCIn36JP2ki"
      },
      "source": [
        "icg_c = joblib.load('/content/drive/MyDrive/台塑輕油案子/data/c620/col_names/icg_col_names.pkl')\n",
        "c620_c = joblib.load('/content/drive/MyDrive/台塑輕油案子/data/c620/col_names/c620_col_names.pkl')\n",
        "c660_c = joblib.load('/content/drive/MyDrive/台塑輕油案子/data/c620/col_names/c660_col_names.pkl')\n",
        "t651_c = joblib.load('/content/drive/MyDrive/台塑輕油案子/data/c620/col_names/t651_col_names.pkl')\n",
        "c670_c = joblib.load('/content/drive/MyDrive/台塑輕油案子/data/c620/col_names/c670_col_names.pkl')"
      ],
      "execution_count": 4,
      "outputs": []
    },
    {
      "cell_type": "markdown",
      "metadata": {
        "id": "tKWrKtswz9tC"
      },
      "source": [
        "# 有共同index的部分"
      ]
    },
    {
      "cell_type": "code",
      "metadata": {
        "colab": {
          "base_uri": "https://localhost:8080/"
        },
        "id": "1dWX0egCP5n2",
        "outputId": "fbc6e666-25d9-44a3-aeac-81117e7afb0c"
      },
      "source": [
        "icg_df = pd.read_csv('/content/drive/MyDrive/台塑輕油案子/data/c620/cleaned/icg_train.csv',index_col=0).dropna(axis=0)\n",
        "c620_df = pd.read_csv('/content/drive/MyDrive/台塑輕油案子/data/c620/cleaned/c620_train.csv',index_col=0).dropna(axis=0)\n",
        "c660_df = pd.read_csv('/content/drive/MyDrive/台塑輕油案子/data/c620/cleaned/c660_train.csv',index_col=0).dropna(axis=0)\n",
        "c670_df = pd.read_csv('/content/drive/MyDrive/台塑輕油案子/data/c620/cleaned/c670_train.csv',index_col=0).dropna(axis=0)\n",
        "t651_df = pd.read_csv('/content/drive/MyDrive/台塑輕油案子/data/c620/cleaned/t651_train.csv',index_col=0).dropna(axis=0)\n",
        "allidx = list(set(icg_df.index)&\n",
        "      set(c620_df.index)&\n",
        "      set(c660_df.index)&\n",
        "      set(c670_df.index)&\n",
        "      set(t651_df.index))\n",
        "len(allidx)"
      ],
      "execution_count": 5,
      "outputs": [
        {
          "output_type": "execute_result",
          "data": {
            "text/plain": [
              "1295"
            ]
          },
          "metadata": {
            "tags": []
          },
          "execution_count": 5
        }
      ]
    },
    {
      "cell_type": "markdown",
      "metadata": {
        "id": "fpOGvlOAP_vK"
      },
      "source": [
        "# INPUT端"
      ]
    },
    {
      "cell_type": "code",
      "metadata": {
        "id": "AGOyPmAYP_7k"
      },
      "source": [
        "# icg\n",
        "icg_input = icg_df.loc[allidx,icg_c['x']]\n",
        "icg_input = icg_input.join(c620_df.loc[allidx,'Tatoray Stripper C620 Operation_Specifications_Spec 2 : Distillate Rate_m3/hr'])\n",
        "icg_input = icg_input.join(c660_df.loc[allidx,'Benzene Column C660 Operation_Specifications_Spec 3 : Toluene in Benzene_ppmw'])\n",
        "icg_input = icg_input.join(c620_df.loc[allidx].filter(regex='Receiver Temp'))\n",
        "\n",
        "# c620\n",
        "c620_feed = c620_df.loc[allidx,c620_c['x41']]\n",
        "\n",
        "# t651\n",
        "t651_feed = t651_df.loc[allidx,t651_c['x41']]"
      ],
      "execution_count": 6,
      "outputs": []
    },
    {
      "cell_type": "markdown",
      "metadata": {
        "id": "TQY4nRxZQAGa"
      },
      "source": [
        "# OUTPUT端"
      ]
    },
    {
      "cell_type": "code",
      "metadata": {
        "id": "YIKpcrZvQAM0"
      },
      "source": [
        "c620_op = c620_df.loc[allidx,c620_c['density']+c620_c['yRefluxRate']+c620_c['yHeatDuty']+c620_c['yControl']]\n",
        "c620_wt = c620_df.loc[allidx,c620_c['vent_gas_x']+c620_c['distillate_x']+c620_c['sidedraw_x']+c620_c['bottoms_x']]\n",
        "c660_op = c660_df.loc[allidx,c660_c['density']+c660_c['yRefluxRate']+c660_c['yHeatDuty']+c660_c['yControl']]\n",
        "c660_wt = c660_df.loc[allidx,c660_c['vent_gas_x']+c660_c['distillate_x']+c660_c['sidedraw_x']+c660_c['bottoms_x']]\n",
        "c670_op = c670_df.loc[allidx,c670_c['density']+c670_c['yRefluxRate']+c670_c['yHeatDuty']+c670_c['yControl']]\n",
        "c670_wt = c670_df.loc[allidx,c670_c['distillate_x']+c670_c['bottoms_x']]"
      ],
      "execution_count": 7,
      "outputs": []
    },
    {
      "cell_type": "markdown",
      "metadata": {
        "id": "N0U8W0SuQGpA"
      },
      "source": [
        "# CONFIG"
      ]
    },
    {
      "cell_type": "code",
      "metadata": {
        "id": "bJ4nftFlJMjk"
      },
      "source": [
        "config = {\n",
        "      # c620\n",
        "      'c620_G':'/content/drive/MyDrive/台塑輕油案子/data/c620/model/c620_G.pkl',\n",
        "      'c620_F':'/content/drive/MyDrive/台塑輕油案子/data/c620/model/c620_F.pkl',\n",
        "      'c620_op_min':'/content/drive/MyDrive/台塑輕油案子/data/c620/map_dict/c620_op_min.pkl',\n",
        "      'c620_op_max':'/content/drive/MyDrive/台塑輕油案子/data/c620/map_dict/c620_op_max.pkl',\n",
        "\n",
        "      # c660\n",
        "      'c660_G':'/content/drive/MyDrive/台塑輕油案子/data/c620/model/c660_G.pkl',\n",
        "      'c660_F':'/content/drive/MyDrive/台塑輕油案子/data/c620/model/c660_F.pkl',\n",
        "      'c660_op_min':'/content/drive/MyDrive/台塑輕油案子/data/c620/map_dict/c660_op_min.pkl',\n",
        "      'c660_op_max':'/content/drive/MyDrive/台塑輕油案子/data/c620/map_dict/c660_op_max.pkl',\n",
        "\n",
        "      # c670\n",
        "      'c670_M':'/content/drive/MyDrive/台塑輕油案子/data/c620/model/c670.pkl',\n",
        "      \n",
        "      # col_names\n",
        "      'icg_col_path':'/content/drive/MyDrive/台塑輕油案子/data/c620/col_names/icg_col_names.pkl',\n",
        "      'c620_col_path':'/content/drive/MyDrive/台塑輕油案子/data/c620/col_names/c620_col_names.pkl',\n",
        "      'c660_col_path':'/content/drive/MyDrive/台塑輕油案子/data/c620/col_names/c660_col_names.pkl',\n",
        "      'c670_col_path':'/content/drive/MyDrive/台塑輕油案子/data/c620/col_names/c670_col_names.pkl',\n",
        "      \n",
        "      # Special column (0.9999 & 0.0001)\n",
        "      'index_9999_path':'/content/drive/MyDrive/台塑輕油案子/data/c620/cleaned/index_9999.pkl',\n",
        "      'index_0001_path':'/content/drive/MyDrive/台塑輕油案子/data/c620/cleaned/index_0001.pkl',\n",
        "\n",
        "      # sp\n",
        "      'c620_wt_always_same_split_factor_dict':'/content/drive/MyDrive/台塑輕油案子/data/c620/map_dict/c620_wt_always_same_split_factor_dict.pkl',\n",
        "      'c660_wt_always_same_split_factor_dict':'/content/drive/MyDrive/台塑輕油案子/data/c620/map_dict/c660_wt_always_same_split_factor_dict.pkl',\n",
        "      'c670_wt_always_same_split_factor_dict':'/content/drive/MyDrive/台塑輕油案子/data/c620/map_dict/c670_wt_always_same_split_factor_dict.pkl',\n",
        "\n",
        "      'op_fix_model':'/content/drive/MyDrive/台塑輕油案子/data/c620/model/fix_model.pkl',\n",
        "      \n",
        "          }"
      ],
      "execution_count": 8,
      "outputs": []
    },
    {
      "cell_type": "markdown",
      "metadata": {
        "id": "UJEVdVxnQkjM"
      },
      "source": [
        "# 輸入與輸出的對應關係"
      ]
    },
    {
      "cell_type": "code",
      "metadata": {
        "id": "bxuaMmDJQkuR",
        "colab": {
          "base_uri": "https://localhost:8080/",
          "height": 204
        },
        "outputId": "b04dc983-ddac-445f-b078-b9072ed50eaa"
      },
      "source": [
        "# 對應關係1\n",
        "a = icg_input[['Simulation Case Conditions_Spec 1 : Benzene in C620 Sidedraw_wt%']]\n",
        "b = c620_df['Tatoray Stripper C620 Operation_Sidedraw Production Rate and Composition_Benzene_wt%']\n",
        "a.join(b).sample(5)"
      ],
      "execution_count": 9,
      "outputs": [
        {
          "output_type": "execute_result",
          "data": {
            "text/html": [
              "<div>\n",
              "<style scoped>\n",
              "    .dataframe tbody tr th:only-of-type {\n",
              "        vertical-align: middle;\n",
              "    }\n",
              "\n",
              "    .dataframe tbody tr th {\n",
              "        vertical-align: top;\n",
              "    }\n",
              "\n",
              "    .dataframe thead th {\n",
              "        text-align: right;\n",
              "    }\n",
              "</style>\n",
              "<table border=\"1\" class=\"dataframe\">\n",
              "  <thead>\n",
              "    <tr style=\"text-align: right;\">\n",
              "      <th></th>\n",
              "      <th>Simulation Case Conditions_Spec 1 : Benzene in C620 Sidedraw_wt%</th>\n",
              "      <th>Tatoray Stripper C620 Operation_Sidedraw Production Rate and Composition_Benzene_wt%</th>\n",
              "    </tr>\n",
              "  </thead>\n",
              "  <tbody>\n",
              "    <tr>\n",
              "      <th>023-005</th>\n",
              "      <td>90.0</td>\n",
              "      <td>90.000000</td>\n",
              "    </tr>\n",
              "    <tr>\n",
              "      <th>079-020</th>\n",
              "      <td>70.0</td>\n",
              "      <td>70.000008</td>\n",
              "    </tr>\n",
              "    <tr>\n",
              "      <th>103-020</th>\n",
              "      <td>70.0</td>\n",
              "      <td>70.000000</td>\n",
              "    </tr>\n",
              "    <tr>\n",
              "      <th>074-026</th>\n",
              "      <td>70.0</td>\n",
              "      <td>70.000008</td>\n",
              "    </tr>\n",
              "    <tr>\n",
              "      <th>119-008</th>\n",
              "      <td>90.0</td>\n",
              "      <td>90.000000</td>\n",
              "    </tr>\n",
              "  </tbody>\n",
              "</table>\n",
              "</div>"
            ],
            "text/plain": [
              "         Simulation Case Conditions_Spec 1 : Benzene in C620 Sidedraw_wt%  Tatoray Stripper C620 Operation_Sidedraw Production Rate and Composition_Benzene_wt%\n",
              "023-005                                               90.0                                                         90.000000                                   \n",
              "079-020                                               70.0                                                         70.000008                                   \n",
              "103-020                                               70.0                                                         70.000000                                   \n",
              "074-026                                               70.0                                                         70.000008                                   \n",
              "119-008                                               90.0                                                         90.000000                                   "
            ]
          },
          "metadata": {
            "tags": []
          },
          "execution_count": 9
        }
      ]
    },
    {
      "cell_type": "code",
      "metadata": {
        "id": "7yx3ge6_RlJ1",
        "colab": {
          "base_uri": "https://localhost:8080/",
          "height": 204
        },
        "outputId": "48c8c5fe-6adc-41ee-b506-be89b8f3d943"
      },
      "source": [
        "#對應關係2\n",
        "a = icg_input[['Simulation Case Conditions_Spec 2 : NA in Benzene_ppmw']]\n",
        "na_idx = [1,2,3,4,5,6,8,9,11,13,14,15,20,22,29] \n",
        "b = c660_wt.filter(regex='Side').filter(regex='wt%').iloc[:,na_idx].sum(axis=1)*10000\n",
        "b.name = 'c660_wt_NA_in_Benzene_ppmw'\n",
        "a.join(b).sample(5)"
      ],
      "execution_count": 10,
      "outputs": [
        {
          "output_type": "execute_result",
          "data": {
            "text/html": [
              "<div>\n",
              "<style scoped>\n",
              "    .dataframe tbody tr th:only-of-type {\n",
              "        vertical-align: middle;\n",
              "    }\n",
              "\n",
              "    .dataframe tbody tr th {\n",
              "        vertical-align: top;\n",
              "    }\n",
              "\n",
              "    .dataframe thead th {\n",
              "        text-align: right;\n",
              "    }\n",
              "</style>\n",
              "<table border=\"1\" class=\"dataframe\">\n",
              "  <thead>\n",
              "    <tr style=\"text-align: right;\">\n",
              "      <th></th>\n",
              "      <th>Simulation Case Conditions_Spec 2 : NA in Benzene_ppmw</th>\n",
              "      <th>c660_wt_NA_in_Benzene_ppmw</th>\n",
              "    </tr>\n",
              "  </thead>\n",
              "  <tbody>\n",
              "    <tr>\n",
              "      <th>132-011</th>\n",
              "      <td>980.0</td>\n",
              "      <td>980.007580</td>\n",
              "    </tr>\n",
              "    <tr>\n",
              "      <th>019-011</th>\n",
              "      <td>980.0</td>\n",
              "      <td>980.002658</td>\n",
              "    </tr>\n",
              "    <tr>\n",
              "      <th>035-020</th>\n",
              "      <td>980.0</td>\n",
              "      <td>980.004718</td>\n",
              "    </tr>\n",
              "    <tr>\n",
              "      <th>097-008</th>\n",
              "      <td>920.0</td>\n",
              "      <td>920.004338</td>\n",
              "    </tr>\n",
              "    <tr>\n",
              "      <th>120-023</th>\n",
              "      <td>860.0</td>\n",
              "      <td>859.999895</td>\n",
              "    </tr>\n",
              "  </tbody>\n",
              "</table>\n",
              "</div>"
            ],
            "text/plain": [
              "         Simulation Case Conditions_Spec 2 : NA in Benzene_ppmw  c660_wt_NA_in_Benzene_ppmw\n",
              "132-011                                              980.0                       980.007580\n",
              "019-011                                              980.0                       980.002658\n",
              "035-020                                              980.0                       980.004718\n",
              "097-008                                              920.0                       920.004338\n",
              "120-023                                              860.0                       859.999895"
            ]
          },
          "metadata": {
            "tags": []
          },
          "execution_count": 10
        }
      ]
    },
    {
      "cell_type": "code",
      "metadata": {
        "id": "XUQ4UKYVRlPO",
        "colab": {
          "base_uri": "https://localhost:8080/",
          "height": 204
        },
        "outputId": "643c16ce-bd47-4995-a2ca-c60526f511a4"
      },
      "source": [
        "#對應關係3\n",
        "a = icg_input[['Benzene Column C660 Operation_Specifications_Spec 3 : Toluene in Benzene_ppmw']]\n",
        "b = c660_df['Benzene Column C660 Operation_Sidedraw (Benzene )Production Rate and Composition_Toluene_wt%']*10000\n",
        "a.join(b).sample(5)"
      ],
      "execution_count": 11,
      "outputs": [
        {
          "output_type": "execute_result",
          "data": {
            "text/html": [
              "<div>\n",
              "<style scoped>\n",
              "    .dataframe tbody tr th:only-of-type {\n",
              "        vertical-align: middle;\n",
              "    }\n",
              "\n",
              "    .dataframe tbody tr th {\n",
              "        vertical-align: top;\n",
              "    }\n",
              "\n",
              "    .dataframe thead th {\n",
              "        text-align: right;\n",
              "    }\n",
              "</style>\n",
              "<table border=\"1\" class=\"dataframe\">\n",
              "  <thead>\n",
              "    <tr style=\"text-align: right;\">\n",
              "      <th></th>\n",
              "      <th>Benzene Column C660 Operation_Specifications_Spec 3 : Toluene in Benzene_ppmw</th>\n",
              "      <th>Benzene Column C660 Operation_Sidedraw (Benzene )Production Rate and Composition_Toluene_wt%</th>\n",
              "    </tr>\n",
              "  </thead>\n",
              "  <tbody>\n",
              "    <tr>\n",
              "      <th>011-026</th>\n",
              "      <td>9.999987</td>\n",
              "      <td>9.999987</td>\n",
              "    </tr>\n",
              "    <tr>\n",
              "      <th>081-023</th>\n",
              "      <td>10.000041</td>\n",
              "      <td>10.000041</td>\n",
              "    </tr>\n",
              "    <tr>\n",
              "      <th>013-017</th>\n",
              "      <td>5.000000</td>\n",
              "      <td>5.000000</td>\n",
              "    </tr>\n",
              "    <tr>\n",
              "      <th>086-011</th>\n",
              "      <td>9.999999</td>\n",
              "      <td>9.999999</td>\n",
              "    </tr>\n",
              "    <tr>\n",
              "      <th>141-020</th>\n",
              "      <td>9.999985</td>\n",
              "      <td>9.999985</td>\n",
              "    </tr>\n",
              "  </tbody>\n",
              "</table>\n",
              "</div>"
            ],
            "text/plain": [
              "         Benzene Column C660 Operation_Specifications_Spec 3 : Toluene in Benzene_ppmw  Benzene Column C660 Operation_Sidedraw (Benzene )Production Rate and Composition_Toluene_wt%\n",
              "011-026                                           9.999987                                                                       9.999987                                           \n",
              "081-023                                          10.000041                                                                      10.000041                                           \n",
              "013-017                                           5.000000                                                                       5.000000                                           \n",
              "086-011                                           9.999999                                                                       9.999999                                           \n",
              "141-020                                           9.999985                                                                       9.999985                                           "
            ]
          },
          "metadata": {
            "tags": []
          },
          "execution_count": 11
        }
      ]
    },
    {
      "cell_type": "code",
      "metadata": {
        "id": "CoUcarIY6_XN"
      },
      "source": [
        "class AllSystem(object):\n",
        "  def __init__(self,config):\n",
        "    \n",
        "    # C620 部份模組\n",
        "    self.c620_G = joblib.load(config['c620_G'])\n",
        "    self.c620_F = joblib.load(config['c620_F'])\n",
        "    self.c620_op_min = joblib.load(config['c620_op_min'])\n",
        "    self.c620_op_max = joblib.load(config['c620_op_max'])\n",
        "    \n",
        "    # C660 部份模組\n",
        "    self.c660_G = joblib.load(config['c660_G'])\n",
        "    self.c660_F = joblib.load(config['c660_F'])\n",
        "    self.c660_op_min = joblib.load(config['c660_op_min'])\n",
        "    self.c660_op_max = joblib.load(config['c660_op_max'])\n",
        "\n",
        "    # C670 部份模組\n",
        "    self.c670_M = joblib.load(config['c670_M'])\n",
        "    \n",
        "    # 用來修正現場儀表的誤差\n",
        "    self.op_fix_model = joblib.load(config['op_fix_model'])\n",
        "\n",
        "    # 欄位名稱列表\n",
        "    self.icg_col = joblib.load(config['icg_col_path'])\n",
        "    self.c620_col = joblib.load(config['c620_col_path'])\n",
        "    self.c660_col = joblib.load(config['c660_col_path'])\n",
        "    self.c670_col = joblib.load(config['c670_col_path'])\n",
        "    \n",
        "    # 其他資訊\n",
        "    self.c620_wt_always_same_split_factor_dict = joblib.load(config['c620_wt_always_same_split_factor_dict'])\n",
        "    self.c660_wt_always_same_split_factor_dict = joblib.load(config['c660_wt_always_same_split_factor_dict'])\n",
        "    self.c670_wt_always_same_split_factor_dict = joblib.load(config['c670_wt_always_same_split_factor_dict'])\n",
        "    self.index_9999 = joblib.load(config['index_9999_path'])\n",
        "    self.index_0001 = joblib.load(config['index_0001_path'])\n",
        "\n",
        "    # 由廠區方提供的平均密度用來將體積流量轉成重量流量\n",
        "    self.V615_density = 0.8626\n",
        "    self.C820_density = 0.8731\n",
        "    self.T651_density = 0.8749\n",
        "\n",
        "    # 操作欄位名稱列表\n",
        "    self.c620_op_col = self.c620_G.y_col # G系列模型本身就是預測操作條件\n",
        "    self.c660_op_col = self.c660_G.y_col # G系列模型本身就是預測操作條件\n",
        "    self.c670_op_col = self.c670_M.y_col[41*2:] #前面82個是分離係數後面都是操作條件\n",
        "\n",
        "    # 廠區通常調整欄位列表\n",
        "    self.c620_op_col_can_change = ['Tatoray Stripper C620 Operation_Column Temp Profile_C620 Tray 14 (Control)_oC','Tatoray Stripper C620 Operation_Column Temp Profile_C620 Tray 34 (Control)_oC']\n",
        "    self.c660_op_col_can_change = ['Benzene Column C660 Operation_Column Temp Profile_C660 Tray 6 (SD & Control)_oC','Benzene Column C660 Operation_Column Temp Profile_C660 Tray 23 (Control)_oC']\n",
        "  \n",
        "  def inference(self,icg_input,c620_feed,t651_feed,\n",
        "                real_data_mode = False #修正現場儀表誤差用\n",
        "                ):\n",
        "    \n",
        "    # 紀錄樣本index\n",
        "    idx = icg_input.index\n",
        "    \n",
        "    # 計算c620_case\n",
        "    c620_case = pd.DataFrame(index=idx,columns=self.c620_col['case'])\n",
        "    c620_case['Tatoray Stripper C620 Operation_Specifications_Spec 1 : Receiver Temp_oC'] = icg_input['Tatoray Stripper C620 Operation_Specifications_Spec 1 : Receiver Temp_oC'].values\n",
        "    c620_case['Tatoray Stripper C620 Operation_Specifications_Spec 2 : Distillate Rate_m3/hr'] = icg_input['Tatoray Stripper C620 Operation_Specifications_Spec 2 : Distillate Rate_m3/hr'].values\n",
        "    c620_case['Tatoray Stripper C620 Operation_Specifications_Spec 3 : Benzene in Sidedraw_wt%'] = icg_input['Simulation Case Conditions_Spec 1 : Benzene in C620 Sidedraw_wt%'].values\n",
        "    \n",
        "    # 預測c620操作條件和分離係數\n",
        "    c620_op = self.c620_G.predict(c620_case.join(c620_feed))\n",
        "    c620_sp = self.c620_F.predict(c620_case.join(c620_feed).join(c620_op))\n",
        "    \n",
        "    # 計算c620輸出組成\n",
        "    s1,s2,s3,s4 = c620_sp.iloc[:,:41].values,c620_sp.iloc[:,41:41*2].values,c620_sp.iloc[:,41*2:41*3].values,c620_sp.iloc[:,41*3:41*4].values\n",
        "    w1,w2,w3,w4 = sp2wt(c620_feed,s1),sp2wt(c620_feed,s2),sp2wt(c620_feed,s3),sp2wt(c620_feed,s4)\n",
        "    wt = np.hstack((w1,w2,w3,w4))\n",
        "    c620_wt = pd.DataFrame(wt,index=idx,columns=self.c620_col['vent_gas_x']+self.c620_col['distillate_x']+self.c620_col['sidedraw_x']+self.c620_col['bottoms_x'])\n",
        "    \n",
        "    #計算c660_feed\n",
        "    V615_Btm_m3 = icg_input['Simulation Case Conditions_Feed Rate_Feed from V615 Btm_m3/hr'].values.reshape(-1,1)\n",
        "    C820_Dist_m3 = icg_input['Simulation Case Conditions_Feed Rate_Feed from C820 Dist_m3/hr'].values.reshape(-1,1)\n",
        "    V615_Btm_ton = V615_Btm_m3*self.V615_density\n",
        "    C820_Dist_ton = C820_Dist_m3*self.C820_density\n",
        "    c620_feed_rate_ton = V615_Btm_ton+C820_Dist_ton\n",
        "    c620_mf_side = np.sum(c620_feed_rate_ton*c620_feed.values*s3*0.01,axis=1,keepdims=True)\n",
        "    c620_mf_bot = np.sum(c620_feed_rate_ton*c620_feed.values*s4*0.01,axis=1,keepdims=True)\n",
        "    t651_mf = (icg_input['Simulation Case Conditions_Feed Rate_Feed from T651_m3/hr']*self.T651_density).values.reshape(-1,1)\n",
        "    c660_mf = t651_mf + c620_mf_side\n",
        "    t651_mf_p ,c620_mf_side_p = t651_mf/c660_mf ,c620_mf_side/c660_mf\n",
        "    c660_feed = c620_wt[self.c620_col['sidedraw_x']].values*c620_mf_side_p + t651_feed.values*t651_mf_p\n",
        "    c660_feed = pd.DataFrame(c660_feed,index=idx,columns=self.c660_col['x41'])\n",
        "    \n",
        "    # 計算c660_case\n",
        "    c660_case = pd.DataFrame(index=idx,columns=self.c660_col['case'])\n",
        "    c660_case['Benzene Column C660 Operation_Specifications_Spec 2 : NA in Benzene_ppmw'] = icg_input['Simulation Case Conditions_Spec 2 : NA in Benzene_ppmw'].values\n",
        "    c660_case['Benzene Column C660 Operation_Specifications_Spec 3 : Toluene in Benzene_ppmw'] = icg_input['Benzene Column C660 Operation_Specifications_Spec 3 : Toluene in Benzene_ppmw'].values\n",
        "    \n",
        "    # 預測c660操作條件和分離係數\n",
        "    c660_op = self.c660_G.predict(c660_case.join(c660_feed))\n",
        "    c660_sp = self.c660_F.predict(c660_case.join(c660_feed).join(c660_op))\n",
        "    \n",
        "    # 計算c660輸出組成\n",
        "    s1,s2,s3,s4 = c660_sp.iloc[:,:41].values,c660_sp.iloc[:,41:41*2].values,c660_sp.iloc[:,41*2:41*3].values,c660_sp.iloc[:,41*3:41*4].values\n",
        "    w1,w2,w3,w4 = sp2wt(c660_feed,s1),sp2wt(c660_feed,s2),sp2wt(c660_feed,s3),sp2wt(c660_feed,s4)\n",
        "    wt = np.hstack((w1,w2,w3,w4))\n",
        "    c660_wt = pd.DataFrame(wt,index=idx,columns=self.c660_col['vent_gas_x']+self.c660_col['distillate_x']+self.c660_col['sidedraw_x']+self.c660_col['bottoms_x'])\n",
        "    \n",
        "    # 計算c670_feed\n",
        "    c660_mf_bot = np.sum(c660_mf*c660_feed.values*s4*0.01,axis=1,keepdims=True)\n",
        "    c670_mf = c620_mf_bot + c660_mf_bot\n",
        "    c620_mf_bot_p,c660_mf_bot_p = c620_mf_bot/c670_mf , c660_mf_bot/c670_mf\n",
        "    c670_feed = c620_wt[self.c620_col['bottoms_x']].values*c620_mf_bot_p + c660_wt[self.c660_col['bottoms_x']].values*c660_mf_bot_p\n",
        "    c670_feed = pd.DataFrame(c670_feed,index=idx,columns=self.c670_col['combined'])\n",
        "    \n",
        "    # 計算c670_upper_bf\n",
        "    c670_bf = pd.DataFrame(index=idx,columns=self.c670_col['upper_bf'])\n",
        "    c620_bot_x = c620_wt[self.c620_col['bottoms_x']].values\n",
        "    c660_bot_x = c660_wt[self.c660_col['bottoms_x']].values\n",
        "    upper_bf = (c660_bot_x*c660_mf_bot)/(c620_bot_x*c620_mf_bot+c660_bot_x*c660_mf_bot)\n",
        "    upper_bf = pd.DataFrame(upper_bf,index=idx,columns=self.c670_col['upper_bf'])\n",
        "    upper_bf[list(set(self.index_9999)&set(upper_bf.columns))] = 0.9999\n",
        "    upper_bf[list(set(self.index_0001)&set(upper_bf.columns))] = 0.0001\n",
        "    \n",
        "    # 直接預測分離係數和操作條件\n",
        "    c670_output = self.c670_M.predict(c670_feed.join(upper_bf))\n",
        "    c670_sp,c670_op = c670_output.iloc[:,:41*2],c670_output.iloc[:,41*2:]    \n",
        "    \n",
        "    # 計算輸出組成\n",
        "    s1,s2 = c670_sp[self.c670_col['distillate_sf']].values,c670_sp[self.c670_col['bottoms_sf']].values\n",
        "    w1,w2 = sp2wt(c670_feed,s1),sp2wt(c670_feed,s2)\n",
        "    c670_wt = pd.DataFrame(np.hstack((w1,w2)),index = idx,columns=self.c670_col['distillate_x']+self.c670_col['bottoms_x'])\n",
        "    \n",
        "    # 是否修正操作條件 for 現場數據\n",
        "    if real_data_mode == False:\n",
        "      return c620_wt,c620_op,c660_wt,c660_op,c670_wt,c670_op\n",
        "    \n",
        "    if real_data_mode == True:\n",
        "      # 有些欄位現場數據沒有\n",
        "      c620_op_col = c620_op.drop(['Tatoray Stripper C620 Operation_Heat Duty_Condenser Heat Duty_Mkcal/hr',\n",
        "                                 'Tatoray Stripper C620 Operation_Heat Duty_Reboiler Heat Duty_Mkcal/hr'],\n",
        "                                 axis=1).columns.tolist()\n",
        "      c660_op_col = c660_op.drop(['Benzene Column C660 Operation_Heat Duty_Condenser Heat Duty_Mkcal/hr',\n",
        "                                 'Benzene Column C660 Operation_Heat Duty_Reboiler Heat Duty_Mkcal/hr'],\n",
        "                                 axis=1).columns.tolist()\n",
        "      c670_op_col = c670_op.drop(['Toluene Column C670 Operation_Heat Duty_Condenser Heat Duty_Mkcal/hr',\n",
        "                                 'Toluene Column C670 Operation_Heat Duty_Reboiler Heat Duty_Mkcal/hr'],\n",
        "                                 axis=1).columns.tolist()\n",
        "      \n",
        "      # 經過修正模組修正op\n",
        "      op_pred = self.op_fix_model(torch.cat((\n",
        "        torch.FloatTensor(c620_op[c620_op_col].values),\n",
        "        torch.FloatTensor(c660_op[c660_op_col].values),\n",
        "        torch.FloatTensor(c670_op[c670_op_col].values)),dim=1))\n",
        "      op_pred = pd.DataFrame(op_pred.detach().numpy(),index=idx)\n",
        "      \n",
        "      # 新的op\n",
        "      new_c620_op = op_pred.iloc[:,:8]\n",
        "      new_c660_op = op_pred.iloc[:,8:16]\n",
        "      new_c670_op = op_pred.iloc[:,-5:]\n",
        "      new_c620_op.columns = c620_op_col\n",
        "      new_c660_op.columns = c660_op_col\n",
        "      new_c670_op.columns = c670_op_col\n",
        "      \n",
        "      # 更新op\n",
        "      c620_op.update(new_c620_op)\n",
        "      c660_op.update(new_c660_op)\n",
        "      c670_op.update(new_c670_op)\n",
        "      \n",
        "      return c620_wt,c620_op,c660_wt,c660_op,c670_wt,c670_op\n",
        "  \n",
        "  def recommend(self,icg_input,c620_feed,t651_feed,\n",
        "                search_iteration = 300, # cma-es優化搜索次數\n",
        "                real_data_mode = False, # 如果打開這個功能則會把操作條件在經過一個修正模組來配合現場儀表偏移\n",
        "                auto_set_recommended_value = [70,980,10], #自動設定推薦值\n",
        "                only_tune_temp = False, # 是否只調溫度,如果其他也可以調可能可以比較快找到理想的解,否則可能找不到理想的解\n",
        "                ):\n",
        "    \n",
        "    self.only_tune_temp = only_tune_temp\n",
        "    # 先用試算模式試算一遍\n",
        "    idx = icg_input.index\n",
        "    c620_wt,c620_op,c660_wt,c660_op,c670_wt,c670_op = self.inference(icg_input,c620_feed,t651_feed,real_data_mode=real_data_mode) \n",
        "\n",
        "    # 紀錄該筆樣本原始的Benzene in C620 Sidedraw_wt%\n",
        "    original_Benzene_in_C620_Sidedraw_wt = icg_input['Simulation Case Conditions_Spec 1 : Benzene in C620 Sidedraw_wt%'].values[0]\n",
        "    \n",
        "    # 是否自動設定推薦值\n",
        "    if len(auto_set_recommended_value) == 3:\n",
        "      icg_input['Simulation Case Conditions_Spec 1 : Benzene in C620 Sidedraw_wt%'] = auto_set_recommended_value[0]\n",
        "      icg_input['Simulation Case Conditions_Spec 2 : NA in Benzene_ppmw'] = auto_set_recommended_value[1]\n",
        "      icg_input['Benzene Column C660 Operation_Specifications_Spec 3 : Toluene in Benzene_ppmw'] = auto_set_recommended_value[2]\n",
        "      print(f'系統已經自動設定推薦值[{auto_set_recommended_value[0]},{auto_set_recommended_value[1]},{auto_set_recommended_value[2]}]')\n",
        "    \n",
        "    # 根據推薦的Benzene in C620 Sidedraw_wt%和原始的Benzene in C620 Sidedraw_wt%去比較來判斷說溫度要往上調還是往下調\n",
        "    if len(auto_set_recommended_value) == 3:\n",
        "      # 代表現在工程師想要把原本的Benzene_in_C620_Sidedraw_wt往上拉所以溫度調幅應該往下\n",
        "      if original_Benzene_in_C620_Sidedraw_wt < auto_set_recommended_value[0]:\n",
        "        self.temp_adjust_direction = 'down'\n",
        "      # 代表現在工程師想要把原本的Benzene_in_C620_Sidedraw_wt往下降所以溫度調幅應該往上\n",
        "      if original_Benzene_in_C620_Sidedraw_wt > auto_set_recommended_value[0]:\n",
        "        self.temp_adjust_direction = 'up'\n",
        "      # 如果兩者一樣就不特別規定調幅要往上還往下,任意即可\n",
        "      if original_Benzene_in_C620_Sidedraw_wt == auto_set_recommended_value[0]:\n",
        "        self.temp_adjust_direction = 'arbitrary'\n",
        "    \n",
        "    # c620 case設置\n",
        "    c620_case = pd.DataFrame(index=idx,columns=self.c620_col['case'])\n",
        "    c620_case['Tatoray Stripper C620 Operation_Specifications_Spec 1 : Receiver Temp_oC'] = icg_input['Tatoray Stripper C620 Operation_Specifications_Spec 1 : Receiver Temp_oC'].values\n",
        "    c620_case['Tatoray Stripper C620 Operation_Specifications_Spec 2 : Distillate Rate_m3/hr'] = icg_input['Tatoray Stripper C620 Operation_Specifications_Spec 2 : Distillate Rate_m3/hr'].values\n",
        "    c620_case['Tatoray Stripper C620 Operation_Specifications_Spec 3 : Benzene in Sidedraw_wt%'] = icg_input['Simulation Case Conditions_Spec 1 : Benzene in C620 Sidedraw_wt%'].values\n",
        "    \n",
        "    # c660 case設置\n",
        "    c660_case = pd.DataFrame(index=idx,columns=self.c660_col['case'])\n",
        "    c660_case['Benzene Column C660 Operation_Specifications_Spec 2 : NA in Benzene_ppmw'] = icg_input['Simulation Case Conditions_Spec 2 : NA in Benzene_ppmw'].values\n",
        "    c660_case['Benzene Column C660 Operation_Specifications_Spec 3 : Toluene in Benzene_ppmw'] = icg_input['Benzene Column C660 Operation_Specifications_Spec 3 : Toluene in Benzene_ppmw'].values\n",
        "    \n",
        "    # cma-es 初始值設置 操作條件初始值來自於試算值\n",
        "    x0 = {}\n",
        "    for name in self.c620_op_col:\n",
        "      x0[name] = c620_op[name].values[0]\n",
        "    for name in self.c660_op_col:\n",
        "      x0[name] = c660_op[name].values[0]\n",
        "    \n",
        "    # 這一樣Distillate Rate_m3/hr的初始值來自於使用者輸入\n",
        "    x0['Tatoray Stripper C620 Operation_Specifications_Spec 2 : Distillate Rate_m3/hr'] = icg_input['Tatoray Stripper C620 Operation_Specifications_Spec 2 : Distillate Rate_m3/hr'].values[0]\n",
        "    \n",
        "    # 建立 cma-es study 並賦予初始值X0\n",
        "    sampler = optuna.samplers.CmaEsSampler(x0=x0)\n",
        "    study = optuna.create_study(sampler=sampler)\n",
        "    \n",
        "    # cma-es 搜索階段\n",
        "    history = {}\n",
        "    for i in tqdm(range(search_iteration)):\n",
        "      trial = study.ask()\n",
        "      \n",
        "      # 1.在c620_op的向量空間作採樣\n",
        "      c620_op_opt_dict = {}\n",
        "      minimum_amplitude = 0.1\n",
        "      for name in self.c620_op_col:\n",
        "        # 如果這些欄位屬於可以調的 例如廠區通常調整溫度\n",
        "        if name in self.c620_op_col_can_change:\n",
        "          if self.temp_adjust_direction == 'down':\n",
        "            try:\n",
        "              c620_op_opt_dict[name] = trial.suggest_uniform(name,self.c620_op_min[name],c620_op[name].values[0]-minimum_amplitude) #最少應該降minimum_amplitude度\n",
        "            except:\n",
        "              print('溫度已經低於訓練數據的最小值不能再低了')\n",
        "              c620_op_opt_dict[name] = self.c620_op_min[name] # 所以取最小值\n",
        "          if self.temp_adjust_direction == 'up':\n",
        "            try:\n",
        "              c620_op_opt_dict[name] = trial.suggest_uniform(name,c620_op[name].values[0]+minimum_amplitude,self.c620_op_max[name]) #最少應該增minimum_amplitude度\n",
        "            except:\n",
        "              print('溫度已經低於訓練數據的最大值不能再高了')\n",
        "              c620_op_opt_dict[name] = self.c620_op_max[name] # 所以取最大值\n",
        "          if self.temp_adjust_direction == 'arbitrary':\n",
        "            c620_op_opt_dict[name] = trial.suggest_uniform(name,self.c620_op_min[name],self.c620_op_max[name]) #任意調\n",
        "        # 比較不能調的,看要不要調,可以調的話找到理想解的可能性會比較高\n",
        "        else:\n",
        "          if self.only_tune_temp == True:\n",
        "            c620_op_opt_dict[name] = c620_op[name].values[0] \n",
        "          if self.only_tune_temp == False:\n",
        "            c620_op_opt_dict[name] = trial.suggest_uniform(name,self.c620_op_min[name],self.c620_op_max[name]) #任意調\n",
        "      c620_op_opt = pd.DataFrame(c620_op_opt_dict,index=idx)\n",
        "      \n",
        "      # 2.在c660_op的向量空間作採樣,但由於c660目前沒有跟c620一樣的苯和溫度呈現負相關這樣的限制,暫時沒有特別去設計調幅方向\n",
        "      c660_op_opt_dict = {}\n",
        "      for name in self.c660_op_col:\n",
        "        if name in self.c660_op_col_can_change:\n",
        "          c660_op_opt_dict[name] = trial.suggest_uniform(name,self.c660_op_min[name],self.c660_op_max[name])\n",
        "        \n",
        "        # 比較不能調的,看要不要調,可以調的話找到理想解的可能性會比較高\n",
        "        else:\n",
        "          if self.only_tune_temp == True:\n",
        "            c660_op_opt_dict[name] = c660_op[name].values[0] \n",
        "          if self.only_tune_temp == False:\n",
        "            c660_op_opt_dict[name] = trial.suggest_uniform(name,self.c660_op_min[name],self.c660_op_max[name]) #任意調\n",
        "      c660_op_opt = pd.DataFrame(c660_op_opt_dict,index=idx)\n",
        "      \n",
        "      # 3.在Operation_Specifications_Spec 2 : Distillate Rate_m3/hr的向量空間做採樣,並將採樣結果代入c620_case\n",
        "      c620_case['Tatoray Stripper C620 Operation_Specifications_Spec 2 : Distillate Rate_m3/hr'] = trial.suggest_float(\n",
        "          'Tatoray Stripper C620 Operation_Specifications_Spec 2 : Distillate Rate_m3/hr',0,10.25)\n",
        "      \n",
        "      # 計算c620輸出wt%\n",
        "      c620_sp = self.c620_F.predict(c620_case.join(c620_feed).join(c620_op_opt))\n",
        "      s1,s2,s3,s4 = c620_sp.iloc[:,:41].values,c620_sp.iloc[:,41:41*2].values,c620_sp.iloc[:,41*2:41*3].values,c620_sp.iloc[:,41*3:41*4].values\n",
        "      w1,w2,w3,w4 = sp2wt(c620_feed,s1),sp2wt(c620_feed,s2),sp2wt(c620_feed,s3),sp2wt(c620_feed,s4)\n",
        "      wt = np.hstack((w1,w2,w3,w4))\n",
        "      c620_wt = pd.DataFrame(wt,index=idx,columns=self.c620_col['vent_gas_x']+self.c620_col['distillate_x']+self.c620_col['sidedraw_x']+self.c620_col['bottoms_x'])\n",
        "      \n",
        "      # 計算c660輸入_wt%\n",
        "      V615_Btm_m3 = icg_input['Simulation Case Conditions_Feed Rate_Feed from V615 Btm_m3/hr'].values.reshape(-1,1) # V615體積流量\n",
        "      C820_Dist_m3 = icg_input['Simulation Case Conditions_Feed Rate_Feed from C820 Dist_m3/hr'].values.reshape(-1,1) # C820體積流量\n",
        "      V615_Btm_ton = V615_Btm_m3*self.V615_density # V615體積流量轉重量流量\n",
        "      C820_Dist_ton = C820_Dist_m3*self.C820_density # C820體積流量轉重量流量\n",
        "      c620_feed_rate_ton = V615_Btm_ton+C820_Dist_ton # V615和C820兩道油相加得到c620總入料的\"質量流量\"\n",
        "      c620_mf_side = np.sum(c620_feed_rate_ton*c620_feed.values*s3*0.01,axis=1,keepdims=True) # 根據公式換算出c620_side流量\n",
        "      c620_mf_bot = np.sum(c620_feed_rate_ton*c620_feed.values*s4*0.01,axis=1,keepdims=True) # 根據公式換算出c620_bott流量\n",
        "      t651_mf = (icg_input['Simulation Case Conditions_Feed Rate_Feed from T651_m3/hr']*self.T651_density).values.reshape(-1,1) # t651質量流量轉成重量流量\n",
        "      c660_mf = t651_mf + c620_mf_side # t651和c620_side兩道油的質量流量相加得到c660入料質量流量\n",
        "      t651_mf_p ,c620_mf_side_p = t651_mf/c660_mf ,c620_mf_side/c660_mf # t651和c620_side兩道油對c660總入料質量流量的占比百分比\n",
        "      c660_feed = c620_wt[self.c620_col['sidedraw_x']].values * c620_mf_side_p + t651_feed.values * t651_mf_p #根據公式換算c660混合入料組成\n",
        "      c660_feed = pd.DataFrame(c660_feed,index=idx,columns=self.c660_col['x41']) # 將c660入料組成轉換成dataframe格式\n",
        "      \n",
        "      # 計算c660輸出wt%\n",
        "      c660_sp = self.c660_F.predict(c660_case.join(c660_feed).join(c660_op_opt))\n",
        "      s1,s2,s3,s4 = c660_sp.iloc[:,:41].values,c660_sp.iloc[:,41:41*2].values,c660_sp.iloc[:,41*2:41*3].values,c660_sp.iloc[:,41*3:41*4].values\n",
        "      w1,w2,w3,w4 = sp2wt(c660_feed,s1),sp2wt(c660_feed,s2),sp2wt(c660_feed,s3),sp2wt(c660_feed,s4)\n",
        "      wt = np.hstack((w1,w2,w3,w4))\n",
        "      c660_wt = pd.DataFrame(wt,index=idx,columns=self.c660_col['vent_gas_x']+self.c660_col['distillate_x']+self.c660_col['sidedraw_x']+self.c660_col['bottoms_x'])\n",
        "      \n",
        "      # 計算損失\n",
        "      input_bzinside = c620_case['Tatoray Stripper C620 Operation_Specifications_Spec 3 : Benzene in Sidedraw_wt%'].values[0]\n",
        "      input_nainbz = c660_case['Benzene Column C660 Operation_Specifications_Spec 2 : NA in Benzene_ppmw'].values[0]\n",
        "      input_tol = c660_case['Benzene Column C660 Operation_Specifications_Spec 3 : Toluene in Benzene_ppmw'].values[0]\n",
        "      input_dist_rate = icg_input['Tatoray Stripper C620 Operation_Specifications_Spec 2 : Distillate Rate_m3/hr'].values[0]\n",
        "      \n",
        "      output_bzinside = c620_wt['Tatoray Stripper C620 Operation_Sidedraw Production Rate and Composition_Benzene_wt%'].values[0]\n",
        "      output_nainbz = c660_wt.filter(regex='Side').filter(regex='wt%').iloc[:,[1,2,3,4,5,6,8,9,11,13,14,15,20,22,29]].sum(axis=1).values[0]*10000\n",
        "      output_tol = c660_wt['Benzene Column C660 Operation_Sidedraw (Benzene )Production Rate and Composition_Toluene_wt%'].values[0]*10000\n",
        "      output_dist_rate = c620_case['Tatoray Stripper C620 Operation_Specifications_Spec 2 : Distillate Rate_m3/hr'].values[0]\n",
        "      \n",
        "      bzinside_loss = abs(input_bzinside - output_bzinside) / input_bzinside #絕對百分比誤差\n",
        "      nainbz_loss = abs(input_nainbz - output_nainbz) / input_nainbz #絕對百分比誤差\n",
        "      tol_loss = abs(input_tol - output_tol) / input_tol #絕對百分比誤差\n",
        "      distrate_loss = max(output_dist_rate - input_dist_rate,0) # distrate根據廠區說法愈小愈好,因此如果採樣出的如果採樣出的dist_rate大於input_dist_rate就會有loss,否則為0\n",
        "      total_loss = bzinside_loss + nainbz_loss + tol_loss + distrate_loss #總損失\n",
        "      \n",
        "      # 把總損失告訴study供下一次採樣的依據\n",
        "      study.tell(trial,total_loss)\n",
        "\n",
        "      # 如果滿足以下條件就算提早成功\n",
        "      if (bzinside_loss<=0.02) and (nainbz_loss<=0.05) and (tol_loss<=0.1) and (distrate_loss==0):\n",
        "        print('Congratulations Early Success find optimal op')\n",
        "        break\n",
        "    \n",
        "    # cma-es搜索迴圈跑完或是提早結束,調出study.best_params並製作成best_params_df\n",
        "    best_params_df = pd.DataFrame(\n",
        "        study.best_params,\n",
        "        index = idx,\n",
        "        columns = self.c620_op_col + self.c660_op_col + ['Tatoray Stripper C620 Operation_Specifications_Spec 2 : Distillate Rate_m3/hr'])\n",
        "    \n",
        "    # 優化過的c620_op,c660_op,c620_case(dist_rate)\n",
        "    c620_op_opt = c620_op.drop(self.c620_op_col_can_change,axis=1).join(best_params_df[self.c620_op_col][self.c620_op_col_can_change])\n",
        "    c660_op_opt = c660_op.drop(self.c660_op_col_can_change,axis=1).join(best_params_df[self.c660_op_col][self.c660_op_col_can_change])\n",
        "    c620_case['Tatoray Stripper C620 Operation_Specifications_Spec 2 : Distillate Rate_m3/hr'] = best_params_df['Tatoray Stripper C620 Operation_Specifications_Spec 2 : Distillate Rate_m3/hr']\n",
        "    \n",
        "    # 計算c620輸出wt%\n",
        "    c620_sp = self.c620_F.predict(c620_case.join(c620_feed).join(c620_op_opt))\n",
        "    s1,s2,s3,s4 = c620_sp.iloc[:,:41].values,c620_sp.iloc[:,41:41*2].values,c620_sp.iloc[:,41*2:41*3].values,c620_sp.iloc[:,41*3:41*4].values\n",
        "    w1,w2,w3,w4 = sp2wt(c620_feed,s1),sp2wt(c620_feed,s2),sp2wt(c620_feed,s3),sp2wt(c620_feed,s4)\n",
        "    wt = np.hstack((w1,w2,w3,w4))\n",
        "    c620_wt = pd.DataFrame(wt,index=idx,columns=self.c620_col['vent_gas_x']+self.c620_col['distillate_x']+self.c620_col['sidedraw_x']+self.c620_col['bottoms_x'])\n",
        "    \n",
        "    # 計算c660_feed_wt%\n",
        "    V615_Btm_m3 = icg_input['Simulation Case Conditions_Feed Rate_Feed from V615 Btm_m3/hr'].values.reshape(-1,1) #體積流量\n",
        "    C820_Dist_m3 = icg_input['Simulation Case Conditions_Feed Rate_Feed from C820 Dist_m3/hr'].values.reshape(-1,1) #體積流量\n",
        "    V615_Btm_ton = V615_Btm_m3*self.V615_density # 體積流量轉重量流量\n",
        "    C820_Dist_ton = C820_Dist_m3*self.C820_density # 體積流量轉重量流量\n",
        "    c620_feed_rate_ton = V615_Btm_ton+C820_Dist_ton # 兩股相加得到c620總入料重量流量\n",
        "    c620_mf_side = np.sum(c620_feed_rate_ton*c620_feed.values*s3*0.01,axis=1,keepdims=True) # c620_side 流量\n",
        "    c620_mf_bot = np.sum(c620_feed_rate_ton*c620_feed.values*s4*0.01,axis=1,keepdims=True) # c620_bott 流量\n",
        "    t651_mf = (icg_input['Simulation Case Conditions_Feed Rate_Feed from T651_m3/hr']*self.T651_density).values.reshape(-1,1) # t651重量流量\n",
        "    c660_mf = t651_mf + c620_mf_side # 兩股相加得到c660入料重量流量\n",
        "    t651_mf_p ,c620_mf_side_p = t651_mf/c660_mf ,c620_mf_side/c660_mf # 兩股油源的占比百分比\n",
        "    c660_feed = c620_wt[self.c620_col['sidedraw_x']].values*c620_mf_side_p + t651_feed.values*t651_mf_p #計算c660入料組成\n",
        "    c660_feed = pd.DataFrame(c660_feed,index=idx,columns=self.c660_col['x41']) #計算c660入料組成(dataframe格式)\n",
        "\n",
        "    # 計算c660輸出wt%\n",
        "    c660_sp = self.c660_F.predict(c660_case.join(c660_feed).join(c660_op_opt))\n",
        "    s1,s2,s3,s4 = c660_sp.iloc[:,:41].values,c660_sp.iloc[:,41:41*2].values,c660_sp.iloc[:,41*2:41*3].values,c660_sp.iloc[:,41*3:41*4].values\n",
        "    w1,w2,w3,w4 = sp2wt(c660_feed,s1),sp2wt(c660_feed,s2),sp2wt(c660_feed,s3),sp2wt(c660_feed,s4)\n",
        "    wt = np.hstack((w1,w2,w3,w4))\n",
        "    c660_wt = pd.DataFrame(wt,index=idx,columns=self.c660_col['vent_gas_x']+self.c660_col['distillate_x']+self.c660_col['sidedraw_x']+self.c660_col['bottoms_x'])\n",
        "    \n",
        "    # 計算損失\n",
        "    input_bzinside = c620_case['Tatoray Stripper C620 Operation_Specifications_Spec 3 : Benzene in Sidedraw_wt%'].values[0] \n",
        "    input_nainbz = c660_case['Benzene Column C660 Operation_Specifications_Spec 2 : NA in Benzene_ppmw'].values[0] \n",
        "    input_tol = c660_case['Benzene Column C660 Operation_Specifications_Spec 3 : Toluene in Benzene_ppmw'].values[0]\n",
        "    input_dist_rate = icg_input['Tatoray Stripper C620 Operation_Specifications_Spec 2 : Distillate Rate_m3/hr'].values[0]\n",
        "    \n",
        "    output_bzinside = c620_wt['Tatoray Stripper C620 Operation_Sidedraw Production Rate and Composition_Benzene_wt%'].values[0] \n",
        "    output_nainbz = c660_wt.filter(regex='Side').filter(regex='wt%').iloc[:,[1,2,3,4,5,6,8,9,11,13,14,15,20,22,29]].sum(axis=1).values[0]*10000 \n",
        "    output_tol = c660_wt['Benzene Column C660 Operation_Sidedraw (Benzene )Production Rate and Composition_Toluene_wt%'].values[0]*10000\n",
        "    output_dist_rate = c620_case['Tatoray Stripper C620 Operation_Specifications_Spec 2 : Distillate Rate_m3/hr'].values[0]\n",
        "    \n",
        "    bzinside_loss = abs(input_bzinside - output_bzinside) / input_bzinside\n",
        "    nainbz_loss = abs(input_nainbz - output_nainbz) / input_nainbz\n",
        "    tol_loss = abs(input_tol - output_tol) / input_tol\n",
        "    distrate_loss = max(output_dist_rate - input_dist_rate,0)\n",
        "    \n",
        "    # 打印優化結果\n",
        "    print('bzinside_loss:',bzinside_loss)\n",
        "    print('nainbz_loss:',nainbz_loss)\n",
        "    print('tol_loss:',tol_loss)\n",
        "    print('distrate_loss:',distrate_loss)\n",
        "\n",
        "    # c670 部份\n",
        "    c660_mf_bot = np.sum(c660_mf*c660_feed.values*s4*0.01,axis=1,keepdims=True) # c660_bot 重量流量\n",
        "    c670_mf = c620_mf_bot + c660_mf_bot # c620_bot 重量流量 加上 c660_bot 重量流量 得到c670總入料重量流量\n",
        "    c620_mf_bot_p,c660_mf_bot_p = c620_mf_bot/c670_mf , c660_mf_bot/c670_mf # 兩股油源的百分比占比\n",
        "    c670_feed = c620_wt[self.c620_col['bottoms_x']].values*c620_mf_bot_p + c660_wt[self.c660_col['bottoms_x']].values*c660_mf_bot_p # c670入料組成\n",
        "    c670_feed = pd.DataFrame(c670_feed,index=idx,columns=self.c670_col['combined'])\n",
        "    \n",
        "    # c670 upper_bf 計算\n",
        "    c670_bf = pd.DataFrame(index=idx,columns=self.c670_col['upper_bf']) \n",
        "    c620_bot_x = c620_wt[self.c620_col['bottoms_x']].values\n",
        "    c660_bot_x = c660_wt[self.c660_col['bottoms_x']].values\n",
        "    upper_bf = (c660_bot_x*c660_mf_bot)/(c620_bot_x*c620_mf_bot+c660_bot_x*c660_mf_bot)\n",
        "    upper_bf = pd.DataFrame(upper_bf,index=idx,columns=self.c670_col['upper_bf'])\n",
        "    upper_bf[list(set(self.index_9999)&set(upper_bf.columns))] = 0.9999\n",
        "    upper_bf[list(set(self.index_0001)&set(upper_bf.columns))] = 0.0001\n",
        "    \n",
        "    # c670因為沒有指定wt數值要多少所以直接預測操作條件和分離係數即可\n",
        "    c670_output = self.c670_M.predict(c670_feed.join(upper_bf))\n",
        "    c670_sp,c670_op_opt = c670_output.iloc[:,:41*2],c670_output.iloc[:,41*2:]    \n",
        "    \n",
        "    # 計算c670_wt\n",
        "    s1 = c670_sp[self.c670_col['distillate_sf']].values\n",
        "    s2 = c670_sp[self.c670_col['bottoms_sf']].values\n",
        "    w1 = sp2wt(c670_feed,s1)\n",
        "    w2 = sp2wt(c670_feed,s2)\n",
        "    c670_wt = np.hstack((w1,w2))\n",
        "    c670_wt = pd.DataFrame(c670_wt,index = idx,columns=self.c670_col['distillate_x']+self.c670_col['bottoms_x'])\n",
        "    \n",
        "    # 是否修正操作條件 for 現場數據\n",
        "    if real_data_mode == False:\n",
        "      return c620_wt,c620_op_opt,c660_wt,c660_op_opt,c670_wt,c670_op_opt,bzinside_loss,nainbz_loss,tol_loss\n",
        "    \n",
        "    if real_data_mode == True:\n",
        "      # 有些欄位現場數據沒有 因此drop掉\n",
        "      c620_op_col = c620_op.drop(['Tatoray Stripper C620 Operation_Heat Duty_Condenser Heat Duty_Mkcal/hr',\n",
        "                                 'Tatoray Stripper C620 Operation_Heat Duty_Reboiler Heat Duty_Mkcal/hr'],\n",
        "                                 axis=1).columns.tolist()\n",
        "      c660_op_col = c660_op.drop(['Benzene Column C660 Operation_Heat Duty_Condenser Heat Duty_Mkcal/hr',\n",
        "                                 'Benzene Column C660 Operation_Heat Duty_Reboiler Heat Duty_Mkcal/hr'],\n",
        "                                 axis=1).columns.tolist()\n",
        "      c670_op_col = c670_op.drop(['Toluene Column C670 Operation_Heat Duty_Condenser Heat Duty_Mkcal/hr',\n",
        "                                 'Toluene Column C670 Operation_Heat Duty_Reboiler Heat Duty_Mkcal/hr'],\n",
        "                                 axis=1).columns.tolist()\n",
        "      \n",
        "      # 經過修正模組修正op\n",
        "      op_pred = self.op_fix_model(torch.cat((\n",
        "        torch.FloatTensor(c620_op_opt[c620_op_col].values),\n",
        "        torch.FloatTensor(c660_op_opt[c660_op_col].values),\n",
        "        torch.FloatTensor(c670_op_opt[c670_op_col].values)),dim=1))  \n",
        "      op_pred = pd.DataFrame(op_pred.detach().numpy(),index=idx)\n",
        "      \n",
        "      # 新的op\n",
        "      new_c620_op = op_pred.iloc[:,:8]\n",
        "      new_c660_op = op_pred.iloc[:,8:16]\n",
        "      new_c670_op = op_pred.iloc[:,-5:]\n",
        "      new_c620_op.columns = c620_op_col\n",
        "      new_c660_op.columns = c660_op_col\n",
        "      new_c670_op.columns = c670_op_col\n",
        "      \n",
        "      # 更新op\n",
        "      c620_op_opt.update(new_c620_op)\n",
        "      c660_op_opt.update(new_c660_op)\n",
        "      c670_op_opt.update(new_c670_op)\n",
        "      \n",
        "      return c620_wt,c620_op_opt,c660_wt,c660_op_opt,c670_wt,c670_op_opt,bz_error,nainbz_error,tol_error"
      ],
      "execution_count": 12,
      "outputs": []
    },
    {
      "cell_type": "markdown",
      "metadata": {
        "id": "IEKp-SYsPkip"
      },
      "source": [
        "# 試算模式測試 觀察重點 準"
      ]
    },
    {
      "cell_type": "code",
      "metadata": {
        "id": "3hfibqM7J0wt"
      },
      "source": [
        "f = AllSystem(config)\n",
        "idx = np.random.choice(allidx,size=100,replace=False,p=None)\n",
        "c620_wt_,c620_op_,c660_wt_,c660_op_,c670_wt_,c670_op_ = f.inference(icg_input.loc[idx],c620_feed.loc[idx],t651_feed.loc[idx])"
      ],
      "execution_count": 13,
      "outputs": []
    },
    {
      "cell_type": "code",
      "metadata": {
        "colab": {
          "base_uri": "https://localhost:8080/",
          "height": 419
        },
        "id": "-r7lcnCk26TT",
        "outputId": "7c5e08f4-a35a-438f-c782-59191ea758e9"
      },
      "source": [
        "f.c670_M.show_metrics(c620_wt.loc[idx],c620_wt_,e=2e-2)"
      ],
      "execution_count": 14,
      "outputs": [
        {
          "output_type": "execute_result",
          "data": {
            "text/html": [
              "<div>\n",
              "<style scoped>\n",
              "    .dataframe tbody tr th:only-of-type {\n",
              "        vertical-align: middle;\n",
              "    }\n",
              "\n",
              "    .dataframe tbody tr th {\n",
              "        vertical-align: top;\n",
              "    }\n",
              "\n",
              "    .dataframe thead th {\n",
              "        text-align: right;\n",
              "    }\n",
              "</style>\n",
              "<table border=\"1\" class=\"dataframe\">\n",
              "  <thead>\n",
              "    <tr style=\"text-align: right;\">\n",
              "      <th></th>\n",
              "      <th>R2</th>\n",
              "      <th>MSE</th>\n",
              "      <th>MAPE</th>\n",
              "    </tr>\n",
              "  </thead>\n",
              "  <tbody>\n",
              "    <tr>\n",
              "      <th>Tatoray Stripper C620 Operation_Vent Gas Production Rate and Composition_Hydrogen_wt%</th>\n",
              "      <td>1</td>\n",
              "      <td>0</td>\n",
              "      <td>NaN</td>\n",
              "    </tr>\n",
              "    <tr>\n",
              "      <th>Tatoray Stripper C620 Operation_Vent Gas Production Rate and Composition_Methane_wt%</th>\n",
              "      <td>0.754057</td>\n",
              "      <td>0.00126601</td>\n",
              "      <td>1.91402</td>\n",
              "    </tr>\n",
              "    <tr>\n",
              "      <th>Tatoray Stripper C620 Operation_Vent Gas Production Rate and Composition_Ethane_wt%</th>\n",
              "      <td>0.745575</td>\n",
              "      <td>0.397749</td>\n",
              "      <td>1.44179</td>\n",
              "    </tr>\n",
              "    <tr>\n",
              "      <th>Tatoray Stripper C620 Operation_Vent Gas Production Rate and Composition_Propane_wt%</th>\n",
              "      <td>0.314079</td>\n",
              "      <td>0.0179781</td>\n",
              "      <td>0.278705</td>\n",
              "    </tr>\n",
              "    <tr>\n",
              "      <th>Tatoray Stripper C620 Operation_Vent Gas Production Rate and Composition_n-Butane_wt%</th>\n",
              "      <td>0.706415</td>\n",
              "      <td>0.187528</td>\n",
              "      <td>3.9995</td>\n",
              "    </tr>\n",
              "    <tr>\n",
              "      <th>...</th>\n",
              "      <td>...</td>\n",
              "      <td>...</td>\n",
              "      <td>...</td>\n",
              "    </tr>\n",
              "    <tr>\n",
              "      <th>Tatoray Stripper C620 Operation_Bottoms Production Rate and Composition_n-Pentylbenzene_wt%</th>\n",
              "      <td>0.999354</td>\n",
              "      <td>1.88027e-06</td>\n",
              "      <td>0.297334</td>\n",
              "    </tr>\n",
              "    <tr>\n",
              "      <th>Tatoray Stripper C620 Operation_Bottoms Production Rate and Composition_n-Hexylbenzene_wt%</th>\n",
              "      <td>0.999343</td>\n",
              "      <td>3.46589e-07</td>\n",
              "      <td>0.297333</td>\n",
              "    </tr>\n",
              "    <tr>\n",
              "      <th>Tatoray Stripper C620 Operation_Bottoms Production Rate and Composition_Nitrogen_wt%</th>\n",
              "      <td>1</td>\n",
              "      <td>0</td>\n",
              "      <td>NaN</td>\n",
              "    </tr>\n",
              "    <tr>\n",
              "      <th>Tatoray Stripper C620 Operation_Bottoms Production Rate and Composition_Oxygen_wt%</th>\n",
              "      <td>1</td>\n",
              "      <td>0</td>\n",
              "      <td>NaN</td>\n",
              "    </tr>\n",
              "    <tr>\n",
              "      <th>AVG</th>\n",
              "      <td>0.878984</td>\n",
              "      <td>0.0956796</td>\n",
              "      <td>3.45887</td>\n",
              "    </tr>\n",
              "  </tbody>\n",
              "</table>\n",
              "<p>165 rows × 3 columns</p>\n",
              "</div>"
            ],
            "text/plain": [
              "                                                          R2  ...      MAPE\n",
              "Tatoray Stripper C620 Operation_Vent Gas Produc...         1  ...       NaN\n",
              "Tatoray Stripper C620 Operation_Vent Gas Produc...  0.754057  ...   1.91402\n",
              "Tatoray Stripper C620 Operation_Vent Gas Produc...  0.745575  ...   1.44179\n",
              "Tatoray Stripper C620 Operation_Vent Gas Produc...  0.314079  ...  0.278705\n",
              "Tatoray Stripper C620 Operation_Vent Gas Produc...  0.706415  ...    3.9995\n",
              "...                                                      ...  ...       ...\n",
              "Tatoray Stripper C620 Operation_Bottoms Product...  0.999354  ...  0.297334\n",
              "Tatoray Stripper C620 Operation_Bottoms Product...  0.999343  ...  0.297333\n",
              "Tatoray Stripper C620 Operation_Bottoms Product...         1  ...       NaN\n",
              "Tatoray Stripper C620 Operation_Bottoms Product...         1  ...       NaN\n",
              "AVG                                                 0.878984  ...   3.45887\n",
              "\n",
              "[165 rows x 3 columns]"
            ]
          },
          "metadata": {
            "tags": []
          },
          "execution_count": 14
        }
      ]
    },
    {
      "cell_type": "code",
      "metadata": {
        "id": "ZT0kzdWJkvVw",
        "colab": {
          "base_uri": "https://localhost:8080/",
          "height": 390
        },
        "outputId": "47da24ce-8dea-46d5-e51d-e8dc5038d97c"
      },
      "source": [
        "f.c670_M.show_metrics(c620_op.loc[idx],c620_op_,e=2e-2)"
      ],
      "execution_count": 15,
      "outputs": [
        {
          "output_type": "execute_result",
          "data": {
            "text/html": [
              "<div>\n",
              "<style scoped>\n",
              "    .dataframe tbody tr th:only-of-type {\n",
              "        vertical-align: middle;\n",
              "    }\n",
              "\n",
              "    .dataframe tbody tr th {\n",
              "        vertical-align: top;\n",
              "    }\n",
              "\n",
              "    .dataframe thead th {\n",
              "        text-align: right;\n",
              "    }\n",
              "</style>\n",
              "<table border=\"1\" class=\"dataframe\">\n",
              "  <thead>\n",
              "    <tr style=\"text-align: right;\">\n",
              "      <th></th>\n",
              "      <th>R2</th>\n",
              "      <th>MSE</th>\n",
              "      <th>MAPE</th>\n",
              "    </tr>\n",
              "  </thead>\n",
              "  <tbody>\n",
              "    <tr>\n",
              "      <th>Density_Feed Properties</th>\n",
              "      <td>0.999821</td>\n",
              "      <td>2.68336e-10</td>\n",
              "      <td>0.00150684</td>\n",
              "    </tr>\n",
              "    <tr>\n",
              "      <th>Density_Vent Gas Production Rate and Composition</th>\n",
              "      <td>0.901638</td>\n",
              "      <td>8.26239e-07</td>\n",
              "      <td>0.164259</td>\n",
              "    </tr>\n",
              "    <tr>\n",
              "      <th>Density_Distillate Production Rate and Composition</th>\n",
              "      <td>0.752615</td>\n",
              "      <td>1.46335e-05</td>\n",
              "      <td>0.422551</td>\n",
              "    </tr>\n",
              "    <tr>\n",
              "      <th>Density_Sidedraw Production Rate and Composition</th>\n",
              "      <td>0.994815</td>\n",
              "      <td>5.59164e-09</td>\n",
              "      <td>0.00626787</td>\n",
              "    </tr>\n",
              "    <tr>\n",
              "      <th>Density_Bottoms Production Rate and Composition</th>\n",
              "      <td>0.996838</td>\n",
              "      <td>5.39133e-11</td>\n",
              "      <td>0.000713593</td>\n",
              "    </tr>\n",
              "    <tr>\n",
              "      <th>Tatoray Stripper C620 Operation_Yield Summary_Reflux Rate_m3/hr</th>\n",
              "      <td>0.988898</td>\n",
              "      <td>1.21396</td>\n",
              "      <td>0.66231</td>\n",
              "    </tr>\n",
              "    <tr>\n",
              "      <th>Tatoray Stripper C620 Operation_Heat Duty_Condenser Heat Duty_Mkcal/hr</th>\n",
              "      <td>0.99105</td>\n",
              "      <td>0.00905123</td>\n",
              "      <td>0.543005</td>\n",
              "    </tr>\n",
              "    <tr>\n",
              "      <th>Tatoray Stripper C620 Operation_Heat Duty_Reboiler Heat Duty_Mkcal/hr</th>\n",
              "      <td>0.989654</td>\n",
              "      <td>0.0147432</td>\n",
              "      <td>0.607468</td>\n",
              "    </tr>\n",
              "    <tr>\n",
              "      <th>Tatoray Stripper C620 Operation_Column Temp Profile_C620 Tray 14 (Control)_oC</th>\n",
              "      <td>0.987827</td>\n",
              "      <td>0.0158201</td>\n",
              "      <td>0.0556967</td>\n",
              "    </tr>\n",
              "    <tr>\n",
              "      <th>Tatoray Stripper C620 Operation_Column Temp Profile_C620 Tray 34 (Control)_oC</th>\n",
              "      <td>0.990621</td>\n",
              "      <td>0.0073519</td>\n",
              "      <td>0.0356008</td>\n",
              "    </tr>\n",
              "    <tr>\n",
              "      <th>AVG</th>\n",
              "      <td>0.959378</td>\n",
              "      <td>0.126094</td>\n",
              "      <td>0.249938</td>\n",
              "    </tr>\n",
              "  </tbody>\n",
              "</table>\n",
              "</div>"
            ],
            "text/plain": [
              "                                                          R2  ...         MAPE\n",
              "Density_Feed Properties                             0.999821  ...   0.00150684\n",
              "Density_Vent Gas Production Rate and Composition    0.901638  ...     0.164259\n",
              "Density_Distillate Production Rate and Composition  0.752615  ...     0.422551\n",
              "Density_Sidedraw Production Rate and Composition    0.994815  ...   0.00626787\n",
              "Density_Bottoms Production Rate and Composition     0.996838  ...  0.000713593\n",
              "Tatoray Stripper C620 Operation_Yield Summary_R...  0.988898  ...      0.66231\n",
              "Tatoray Stripper C620 Operation_Heat Duty_Conde...   0.99105  ...     0.543005\n",
              "Tatoray Stripper C620 Operation_Heat Duty_Reboi...  0.989654  ...     0.607468\n",
              "Tatoray Stripper C620 Operation_Column Temp Pro...  0.987827  ...    0.0556967\n",
              "Tatoray Stripper C620 Operation_Column Temp Pro...  0.990621  ...    0.0356008\n",
              "AVG                                                 0.959378  ...     0.249938\n",
              "\n",
              "[11 rows x 3 columns]"
            ]
          },
          "metadata": {
            "tags": []
          },
          "execution_count": 15
        }
      ]
    },
    {
      "cell_type": "code",
      "metadata": {
        "id": "-hK8Te49kybC",
        "colab": {
          "base_uri": "https://localhost:8080/",
          "height": 419
        },
        "outputId": "da44d614-220c-43b5-beeb-bd7d52eed99a"
      },
      "source": [
        "f.c670_M.show_metrics(c660_wt.loc[idx],c660_wt_,e=2e-2)"
      ],
      "execution_count": 16,
      "outputs": [
        {
          "output_type": "execute_result",
          "data": {
            "text/html": [
              "<div>\n",
              "<style scoped>\n",
              "    .dataframe tbody tr th:only-of-type {\n",
              "        vertical-align: middle;\n",
              "    }\n",
              "\n",
              "    .dataframe tbody tr th {\n",
              "        vertical-align: top;\n",
              "    }\n",
              "\n",
              "    .dataframe thead th {\n",
              "        text-align: right;\n",
              "    }\n",
              "</style>\n",
              "<table border=\"1\" class=\"dataframe\">\n",
              "  <thead>\n",
              "    <tr style=\"text-align: right;\">\n",
              "      <th></th>\n",
              "      <th>R2</th>\n",
              "      <th>MSE</th>\n",
              "      <th>MAPE</th>\n",
              "    </tr>\n",
              "  </thead>\n",
              "  <tbody>\n",
              "    <tr>\n",
              "      <th>Benzene Column C660 Operation_Vent Gas Production Rate and Composition_Hydrogen_wt%</th>\n",
              "      <td>1</td>\n",
              "      <td>0</td>\n",
              "      <td>NaN</td>\n",
              "    </tr>\n",
              "    <tr>\n",
              "      <th>Benzene Column C660 Operation_Vent Gas Production Rate and Composition_Methane_wt%</th>\n",
              "      <td>0.850502</td>\n",
              "      <td>0.0296512</td>\n",
              "      <td>11.3149</td>\n",
              "    </tr>\n",
              "    <tr>\n",
              "      <th>Benzene Column C660 Operation_Vent Gas Production Rate and Composition_Ethane_wt%</th>\n",
              "      <td>0.91534</td>\n",
              "      <td>3.62668</td>\n",
              "      <td>6.89606</td>\n",
              "    </tr>\n",
              "    <tr>\n",
              "      <th>Benzene Column C660 Operation_Vent Gas Production Rate and Composition_Propane_wt%</th>\n",
              "      <td>0.646236</td>\n",
              "      <td>2.18207</td>\n",
              "      <td>5.22386</td>\n",
              "    </tr>\n",
              "    <tr>\n",
              "      <th>Benzene Column C660 Operation_Vent Gas Production Rate and Composition_n-Butane_wt%</th>\n",
              "      <td>0.926688</td>\n",
              "      <td>0.974215</td>\n",
              "      <td>11.7783</td>\n",
              "    </tr>\n",
              "    <tr>\n",
              "      <th>...</th>\n",
              "      <td>...</td>\n",
              "      <td>...</td>\n",
              "      <td>...</td>\n",
              "    </tr>\n",
              "    <tr>\n",
              "      <th>Benzene Column C660 Operation_Bottoms Production Rate and Composition_n-Pentylbenzene_wt%</th>\n",
              "      <td>0.970376</td>\n",
              "      <td>3.21376e-25</td>\n",
              "      <td>NaN</td>\n",
              "    </tr>\n",
              "    <tr>\n",
              "      <th>Benzene Column C660 Operation_Bottoms Production Rate and Composition_n-Hexylbenzene_wt%</th>\n",
              "      <td>0.971701</td>\n",
              "      <td>3.74067e-31</td>\n",
              "      <td>NaN</td>\n",
              "    </tr>\n",
              "    <tr>\n",
              "      <th>Benzene Column C660 Operation_Bottoms Production Rate and Composition_Nitrogen_wt%</th>\n",
              "      <td>1</td>\n",
              "      <td>0</td>\n",
              "      <td>NaN</td>\n",
              "    </tr>\n",
              "    <tr>\n",
              "      <th>Benzene Column C660 Operation_Bottoms Production Rate and Composition_Oxygen_wt%</th>\n",
              "      <td>1</td>\n",
              "      <td>0</td>\n",
              "      <td>NaN</td>\n",
              "    </tr>\n",
              "    <tr>\n",
              "      <th>AVG</th>\n",
              "      <td>0.730923</td>\n",
              "      <td>0.111264</td>\n",
              "      <td>5.53987</td>\n",
              "    </tr>\n",
              "  </tbody>\n",
              "</table>\n",
              "<p>165 rows × 3 columns</p>\n",
              "</div>"
            ],
            "text/plain": [
              "                                                          R2  ...     MAPE\n",
              "Benzene Column C660 Operation_Vent Gas Producti...         1  ...      NaN\n",
              "Benzene Column C660 Operation_Vent Gas Producti...  0.850502  ...  11.3149\n",
              "Benzene Column C660 Operation_Vent Gas Producti...   0.91534  ...  6.89606\n",
              "Benzene Column C660 Operation_Vent Gas Producti...  0.646236  ...  5.22386\n",
              "Benzene Column C660 Operation_Vent Gas Producti...  0.926688  ...  11.7783\n",
              "...                                                      ...  ...      ...\n",
              "Benzene Column C660 Operation_Bottoms Productio...  0.970376  ...      NaN\n",
              "Benzene Column C660 Operation_Bottoms Productio...  0.971701  ...      NaN\n",
              "Benzene Column C660 Operation_Bottoms Productio...         1  ...      NaN\n",
              "Benzene Column C660 Operation_Bottoms Productio...         1  ...      NaN\n",
              "AVG                                                 0.730923  ...  5.53987\n",
              "\n",
              "[165 rows x 3 columns]"
            ]
          },
          "metadata": {
            "tags": []
          },
          "execution_count": 16
        }
      ]
    },
    {
      "cell_type": "code",
      "metadata": {
        "id": "B8ouQJ_XkyhS",
        "colab": {
          "base_uri": "https://localhost:8080/",
          "height": 390
        },
        "outputId": "e4b26024-b1ee-4430-fbc7-7dc4f949981b"
      },
      "source": [
        "f.c670_M.show_metrics(c660_op.loc[idx],c660_op_,e=2e-2)"
      ],
      "execution_count": 20,
      "outputs": [
        {
          "output_type": "execute_result",
          "data": {
            "text/html": [
              "<div>\n",
              "<style scoped>\n",
              "    .dataframe tbody tr th:only-of-type {\n",
              "        vertical-align: middle;\n",
              "    }\n",
              "\n",
              "    .dataframe tbody tr th {\n",
              "        vertical-align: top;\n",
              "    }\n",
              "\n",
              "    .dataframe thead th {\n",
              "        text-align: right;\n",
              "    }\n",
              "</style>\n",
              "<table border=\"1\" class=\"dataframe\">\n",
              "  <thead>\n",
              "    <tr style=\"text-align: right;\">\n",
              "      <th></th>\n",
              "      <th>R2</th>\n",
              "      <th>MSE</th>\n",
              "      <th>MAPE</th>\n",
              "    </tr>\n",
              "  </thead>\n",
              "  <tbody>\n",
              "    <tr>\n",
              "      <th>Density_Feed Properties</th>\n",
              "      <td>0.989302</td>\n",
              "      <td>9.23344e-09</td>\n",
              "      <td>0.0083903</td>\n",
              "    </tr>\n",
              "    <tr>\n",
              "      <th>Density_Vent Gas Production Rate and Composition</th>\n",
              "      <td>0.948664</td>\n",
              "      <td>1.83715e-05</td>\n",
              "      <td>0.677648</td>\n",
              "    </tr>\n",
              "    <tr>\n",
              "      <th>Density_Distillate (Benzene Drag) Production Rate and Composition</th>\n",
              "      <td>0.955949</td>\n",
              "      <td>3.76232e-06</td>\n",
              "      <td>0.186739</td>\n",
              "    </tr>\n",
              "    <tr>\n",
              "      <th>Density_Sidedraw (Benzene )Production Rate and Composition</th>\n",
              "      <td>0.943916</td>\n",
              "      <td>3.1405e-12</td>\n",
              "      <td>0.000160082</td>\n",
              "    </tr>\n",
              "    <tr>\n",
              "      <th>Density_Bottoms Production Rate and Composition</th>\n",
              "      <td>0.993332</td>\n",
              "      <td>5.10393e-10</td>\n",
              "      <td>0.00203276</td>\n",
              "    </tr>\n",
              "    <tr>\n",
              "      <th>Benzene Column C660 Operation_Yield Summary_Reflux Rate_m3/hr</th>\n",
              "      <td>0.968778</td>\n",
              "      <td>25.6778</td>\n",
              "      <td>3.10928</td>\n",
              "    </tr>\n",
              "    <tr>\n",
              "      <th>Benzene Column C660 Operation_Heat Duty_Condenser Heat Duty_Mkcal/hr</th>\n",
              "      <td>0.966088</td>\n",
              "      <td>0.210499</td>\n",
              "      <td>2.83437</td>\n",
              "    </tr>\n",
              "    <tr>\n",
              "      <th>Benzene Column C660 Operation_Heat Duty_Reboiler Heat Duty_Mkcal/hr</th>\n",
              "      <td>0.968361</td>\n",
              "      <td>0.208485</td>\n",
              "      <td>2.95811</td>\n",
              "    </tr>\n",
              "    <tr>\n",
              "      <th>Benzene Column C660 Operation_Column Temp Profile_C660 Tray 6 (SD &amp; Control)_oC</th>\n",
              "      <td>0.970367</td>\n",
              "      <td>0.00124529</td>\n",
              "      <td>0.0335929</td>\n",
              "    </tr>\n",
              "    <tr>\n",
              "      <th>Benzene Column C660 Operation_Column Temp Profile_C660 Tray 23 (Control)_oC</th>\n",
              "      <td>0.955867</td>\n",
              "      <td>0.0337064</td>\n",
              "      <td>0.151731</td>\n",
              "    </tr>\n",
              "    <tr>\n",
              "      <th>AVG</th>\n",
              "      <td>0.966062</td>\n",
              "      <td>2.61318</td>\n",
              "      <td>0.996206</td>\n",
              "    </tr>\n",
              "  </tbody>\n",
              "</table>\n",
              "</div>"
            ],
            "text/plain": [
              "                                                          R2  ...         MAPE\n",
              "Density_Feed Properties                             0.989302  ...    0.0083903\n",
              "Density_Vent Gas Production Rate and Composition    0.948664  ...     0.677648\n",
              "Density_Distillate (Benzene Drag) Production Ra...  0.955949  ...     0.186739\n",
              "Density_Sidedraw (Benzene )Production Rate and ...  0.943916  ...  0.000160082\n",
              "Density_Bottoms Production Rate and Composition     0.993332  ...   0.00203276\n",
              "Benzene Column C660 Operation_Yield Summary_Ref...  0.968778  ...      3.10928\n",
              "Benzene Column C660 Operation_Heat Duty_Condens...  0.966088  ...      2.83437\n",
              "Benzene Column C660 Operation_Heat Duty_Reboile...  0.968361  ...      2.95811\n",
              "Benzene Column C660 Operation_Column Temp Profi...  0.970367  ...    0.0335929\n",
              "Benzene Column C660 Operation_Column Temp Profi...  0.955867  ...     0.151731\n",
              "AVG                                                 0.966062  ...     0.996206\n",
              "\n",
              "[11 rows x 3 columns]"
            ]
          },
          "metadata": {
            "tags": []
          },
          "execution_count": 20
        }
      ]
    },
    {
      "cell_type": "code",
      "metadata": {
        "id": "G5P1YElwkynj",
        "colab": {
          "base_uri": "https://localhost:8080/",
          "height": 419
        },
        "outputId": "fb3f5490-5fb7-4c31-e21e-0543eaa7c58d"
      },
      "source": [
        "f.c670_M.show_metrics(c670_wt.loc[idx],c670_wt_,e=2e-2)"
      ],
      "execution_count": 21,
      "outputs": [
        {
          "output_type": "execute_result",
          "data": {
            "text/html": [
              "<div>\n",
              "<style scoped>\n",
              "    .dataframe tbody tr th:only-of-type {\n",
              "        vertical-align: middle;\n",
              "    }\n",
              "\n",
              "    .dataframe tbody tr th {\n",
              "        vertical-align: top;\n",
              "    }\n",
              "\n",
              "    .dataframe thead th {\n",
              "        text-align: right;\n",
              "    }\n",
              "</style>\n",
              "<table border=\"1\" class=\"dataframe\">\n",
              "  <thead>\n",
              "    <tr style=\"text-align: right;\">\n",
              "      <th></th>\n",
              "      <th>R2</th>\n",
              "      <th>MSE</th>\n",
              "      <th>MAPE</th>\n",
              "    </tr>\n",
              "  </thead>\n",
              "  <tbody>\n",
              "    <tr>\n",
              "      <th>Toluene Column C670 Operation_Distillate Production Rate and Composition_Hydrogen_wt%</th>\n",
              "      <td>1</td>\n",
              "      <td>0</td>\n",
              "      <td>NaN</td>\n",
              "    </tr>\n",
              "    <tr>\n",
              "      <th>Toluene Column C670 Operation_Distillate Production Rate and Composition_Methane_wt%</th>\n",
              "      <td>0</td>\n",
              "      <td>1.58458e-10</td>\n",
              "      <td>NaN</td>\n",
              "    </tr>\n",
              "    <tr>\n",
              "      <th>Toluene Column C670 Operation_Distillate Production Rate and Composition_Ethane_wt%</th>\n",
              "      <td>0</td>\n",
              "      <td>9.37471e-08</td>\n",
              "      <td>NaN</td>\n",
              "    </tr>\n",
              "    <tr>\n",
              "      <th>Toluene Column C670 Operation_Distillate Production Rate and Composition_Propane_wt%</th>\n",
              "      <td>0</td>\n",
              "      <td>8.02615e-08</td>\n",
              "      <td>NaN</td>\n",
              "    </tr>\n",
              "    <tr>\n",
              "      <th>Toluene Column C670 Operation_Distillate Production Rate and Composition_n-Butane_wt%</th>\n",
              "      <td>0</td>\n",
              "      <td>5.81595e-47</td>\n",
              "      <td>NaN</td>\n",
              "    </tr>\n",
              "    <tr>\n",
              "      <th>...</th>\n",
              "      <td>...</td>\n",
              "      <td>...</td>\n",
              "      <td>...</td>\n",
              "    </tr>\n",
              "    <tr>\n",
              "      <th>Toluene Column C670 Operation_Bottoms Production Rate and Composition_n-Pentylbenzene_wt%</th>\n",
              "      <td>0.999999</td>\n",
              "      <td>2.8229e-08</td>\n",
              "      <td>0.0192961</td>\n",
              "    </tr>\n",
              "    <tr>\n",
              "      <th>Toluene Column C670 Operation_Bottoms Production Rate and Composition_n-Hexylbenzene_wt%</th>\n",
              "      <td>0.999999</td>\n",
              "      <td>5.11633e-09</td>\n",
              "      <td>0.0193115</td>\n",
              "    </tr>\n",
              "    <tr>\n",
              "      <th>Toluene Column C670 Operation_Bottoms Production Rate and Composition_Nitrogen_wt%</th>\n",
              "      <td>1</td>\n",
              "      <td>0</td>\n",
              "      <td>NaN</td>\n",
              "    </tr>\n",
              "    <tr>\n",
              "      <th>Toluene Column C670 Operation_Bottoms Production Rate and Composition_Oxygen_wt%</th>\n",
              "      <td>1</td>\n",
              "      <td>0</td>\n",
              "      <td>NaN</td>\n",
              "    </tr>\n",
              "    <tr>\n",
              "      <th>AVG</th>\n",
              "      <td>0.824562</td>\n",
              "      <td>5.3476e-07</td>\n",
              "      <td>0.116417</td>\n",
              "    </tr>\n",
              "  </tbody>\n",
              "</table>\n",
              "<p>83 rows × 3 columns</p>\n",
              "</div>"
            ],
            "text/plain": [
              "                                                          R2  ...       MAPE\n",
              "Toluene Column C670 Operation_Distillate Produc...         1  ...        NaN\n",
              "Toluene Column C670 Operation_Distillate Produc...         0  ...        NaN\n",
              "Toluene Column C670 Operation_Distillate Produc...         0  ...        NaN\n",
              "Toluene Column C670 Operation_Distillate Produc...         0  ...        NaN\n",
              "Toluene Column C670 Operation_Distillate Produc...         0  ...        NaN\n",
              "...                                                      ...  ...        ...\n",
              "Toluene Column C670 Operation_Bottoms Productio...  0.999999  ...  0.0192961\n",
              "Toluene Column C670 Operation_Bottoms Productio...  0.999999  ...  0.0193115\n",
              "Toluene Column C670 Operation_Bottoms Productio...         1  ...        NaN\n",
              "Toluene Column C670 Operation_Bottoms Productio...         1  ...        NaN\n",
              "AVG                                                 0.824562  ...   0.116417\n",
              "\n",
              "[83 rows x 3 columns]"
            ]
          },
          "metadata": {
            "tags": []
          },
          "execution_count": 21
        }
      ]
    },
    {
      "cell_type": "code",
      "metadata": {
        "id": "hv_o24SwkytY",
        "colab": {
          "base_uri": "https://localhost:8080/",
          "height": 297
        },
        "outputId": "b8c84b85-a362-4835-c7f5-16e543a7c489"
      },
      "source": [
        "f.c670_M.show_metrics(c670_op.loc[idx],c670_op_,e=2e-2)"
      ],
      "execution_count": 22,
      "outputs": [
        {
          "output_type": "execute_result",
          "data": {
            "text/html": [
              "<div>\n",
              "<style scoped>\n",
              "    .dataframe tbody tr th:only-of-type {\n",
              "        vertical-align: middle;\n",
              "    }\n",
              "\n",
              "    .dataframe tbody tr th {\n",
              "        vertical-align: top;\n",
              "    }\n",
              "\n",
              "    .dataframe thead th {\n",
              "        text-align: right;\n",
              "    }\n",
              "</style>\n",
              "<table border=\"1\" class=\"dataframe\">\n",
              "  <thead>\n",
              "    <tr style=\"text-align: right;\">\n",
              "      <th></th>\n",
              "      <th>R2</th>\n",
              "      <th>MSE</th>\n",
              "      <th>MAPE</th>\n",
              "    </tr>\n",
              "  </thead>\n",
              "  <tbody>\n",
              "    <tr>\n",
              "      <th>Density_Distillate Production Rate and Composition</th>\n",
              "      <td>0.995709</td>\n",
              "      <td>3.67552e-12</td>\n",
              "      <td>0.000167189</td>\n",
              "    </tr>\n",
              "    <tr>\n",
              "      <th>Density_Bottoms Production Rate and Composition</th>\n",
              "      <td>0.995428</td>\n",
              "      <td>8.25372e-10</td>\n",
              "      <td>0.0024835</td>\n",
              "    </tr>\n",
              "    <tr>\n",
              "      <th>Toluene Column C670 Operation_Yield \\nSummary_Reflux Rate_m3/hr</th>\n",
              "      <td>0.980356</td>\n",
              "      <td>10.6337</td>\n",
              "      <td>1.06152</td>\n",
              "    </tr>\n",
              "    <tr>\n",
              "      <th>Toluene Column C670 Operation_Heat Duty_Condenser Heat Duty_Mkcal/hr</th>\n",
              "      <td>0.985758</td>\n",
              "      <td>0.115808</td>\n",
              "      <td>0.957873</td>\n",
              "    </tr>\n",
              "    <tr>\n",
              "      <th>Toluene Column C670 Operation_Heat Duty_Reboiler Heat Duty_Mkcal/hr</th>\n",
              "      <td>0.985067</td>\n",
              "      <td>0.115208</td>\n",
              "      <td>0.942308</td>\n",
              "    </tr>\n",
              "    <tr>\n",
              "      <th>Toluene Column C670 Operation_Column Temp Profile_C670 Tray 24 (Control)_oC</th>\n",
              "      <td>0.950687</td>\n",
              "      <td>0.00229593</td>\n",
              "      <td>0.0207367</td>\n",
              "    </tr>\n",
              "    <tr>\n",
              "      <th>Toluene Column C670 Operation_Column Temp Profile_C670 Btm Temp (Control)_oC</th>\n",
              "      <td>0.986786</td>\n",
              "      <td>0.0333463</td>\n",
              "      <td>0.0610766</td>\n",
              "    </tr>\n",
              "    <tr>\n",
              "      <th>AVG</th>\n",
              "      <td>0.982827</td>\n",
              "      <td>1.55719</td>\n",
              "      <td>0.435166</td>\n",
              "    </tr>\n",
              "  </tbody>\n",
              "</table>\n",
              "</div>"
            ],
            "text/plain": [
              "                                                          R2  ...         MAPE\n",
              "Density_Distillate Production Rate and Composition  0.995709  ...  0.000167189\n",
              "Density_Bottoms Production Rate and Composition     0.995428  ...    0.0024835\n",
              "Toluene Column C670 Operation_Yield \\nSummary_R...  0.980356  ...      1.06152\n",
              "Toluene Column C670 Operation_Heat Duty_Condens...  0.985758  ...     0.957873\n",
              "Toluene Column C670 Operation_Heat Duty_Reboile...  0.985067  ...     0.942308\n",
              "Toluene Column C670 Operation_Column Temp Profi...  0.950687  ...    0.0207367\n",
              "Toluene Column C670 Operation_Column Temp Profi...  0.986786  ...    0.0610766\n",
              "AVG                                                 0.982827  ...     0.435166\n",
              "\n",
              "[8 rows x 3 columns]"
            ]
          },
          "metadata": {
            "tags": []
          },
          "execution_count": 22
        }
      ]
    },
    {
      "cell_type": "markdown",
      "metadata": {
        "id": "5l5jUxUqNUxQ"
      },
      "source": [
        "# 試算模式 除了準還要 確認三項條件有滿足"
      ]
    },
    {
      "cell_type": "code",
      "metadata": {
        "id": "JDlomCJ6NQgU",
        "colab": {
          "base_uri": "https://localhost:8080/",
          "height": 419
        },
        "outputId": "7b775f9f-313a-43e6-b878-a64ff7d0abff"
      },
      "source": [
        "a = icg_input[['Simulation Case Conditions_Spec 1 : Benzene in C620 Sidedraw_wt%']]\n",
        "b = c620_wt[['Tatoray Stripper C620 Operation_Sidedraw Production Rate and Composition_Benzene_wt%']]\n",
        "a.join(b)"
      ],
      "execution_count": 23,
      "outputs": [
        {
          "output_type": "execute_result",
          "data": {
            "text/html": [
              "<div>\n",
              "<style scoped>\n",
              "    .dataframe tbody tr th:only-of-type {\n",
              "        vertical-align: middle;\n",
              "    }\n",
              "\n",
              "    .dataframe tbody tr th {\n",
              "        vertical-align: top;\n",
              "    }\n",
              "\n",
              "    .dataframe thead th {\n",
              "        text-align: right;\n",
              "    }\n",
              "</style>\n",
              "<table border=\"1\" class=\"dataframe\">\n",
              "  <thead>\n",
              "    <tr style=\"text-align: right;\">\n",
              "      <th></th>\n",
              "      <th>Simulation Case Conditions_Spec 1 : Benzene in C620 Sidedraw_wt%</th>\n",
              "      <th>Tatoray Stripper C620 Operation_Sidedraw Production Rate and Composition_Benzene_wt%</th>\n",
              "    </tr>\n",
              "  </thead>\n",
              "  <tbody>\n",
              "    <tr>\n",
              "      <th>027-023</th>\n",
              "      <td>70.0</td>\n",
              "      <td>70.000000</td>\n",
              "    </tr>\n",
              "    <tr>\n",
              "      <th>029-002</th>\n",
              "      <td>90.0</td>\n",
              "      <td>90.000000</td>\n",
              "    </tr>\n",
              "    <tr>\n",
              "      <th>088-023</th>\n",
              "      <td>70.0</td>\n",
              "      <td>70.000015</td>\n",
              "    </tr>\n",
              "    <tr>\n",
              "      <th>112-014</th>\n",
              "      <td>80.0</td>\n",
              "      <td>80.000000</td>\n",
              "    </tr>\n",
              "    <tr>\n",
              "      <th>080-017</th>\n",
              "      <td>80.0</td>\n",
              "      <td>79.999992</td>\n",
              "    </tr>\n",
              "    <tr>\n",
              "      <th>...</th>\n",
              "      <td>...</td>\n",
              "      <td>...</td>\n",
              "    </tr>\n",
              "    <tr>\n",
              "      <th>069-017</th>\n",
              "      <td>80.0</td>\n",
              "      <td>79.999992</td>\n",
              "    </tr>\n",
              "    <tr>\n",
              "      <th>077-008</th>\n",
              "      <td>90.0</td>\n",
              "      <td>89.999992</td>\n",
              "    </tr>\n",
              "    <tr>\n",
              "      <th>084-011</th>\n",
              "      <td>80.0</td>\n",
              "      <td>79.999992</td>\n",
              "    </tr>\n",
              "    <tr>\n",
              "      <th>123-005</th>\n",
              "      <td>90.0</td>\n",
              "      <td>90.000000</td>\n",
              "    </tr>\n",
              "    <tr>\n",
              "      <th>063-026</th>\n",
              "      <td>70.0</td>\n",
              "      <td>70.000000</td>\n",
              "    </tr>\n",
              "  </tbody>\n",
              "</table>\n",
              "<p>1295 rows × 2 columns</p>\n",
              "</div>"
            ],
            "text/plain": [
              "         Simulation Case Conditions_Spec 1 : Benzene in C620 Sidedraw_wt%  Tatoray Stripper C620 Operation_Sidedraw Production Rate and Composition_Benzene_wt%\n",
              "027-023                                               70.0                                                         70.000000                                   \n",
              "029-002                                               90.0                                                         90.000000                                   \n",
              "088-023                                               70.0                                                         70.000015                                   \n",
              "112-014                                               80.0                                                         80.000000                                   \n",
              "080-017                                               80.0                                                         79.999992                                   \n",
              "...                                                    ...                                                               ...                                   \n",
              "069-017                                               80.0                                                         79.999992                                   \n",
              "077-008                                               90.0                                                         89.999992                                   \n",
              "084-011                                               80.0                                                         79.999992                                   \n",
              "123-005                                               90.0                                                         90.000000                                   \n",
              "063-026                                               70.0                                                         70.000000                                   \n",
              "\n",
              "[1295 rows x 2 columns]"
            ]
          },
          "metadata": {
            "tags": []
          },
          "execution_count": 23
        }
      ]
    },
    {
      "cell_type": "code",
      "metadata": {
        "id": "I1788Af4NbVm",
        "colab": {
          "base_uri": "https://localhost:8080/",
          "height": 419
        },
        "outputId": "d2d92375-dfe8-448f-b4b7-8cf60b826a11"
      },
      "source": [
        "a = icg_input[['Simulation Case Conditions_Spec 2 : NA in Benzene_ppmw']]\n",
        "b = c660_wt.filter(regex='Side').filter(regex='wt%').iloc[:,[1,2,3,4,5,6,8,9,11,13,14,15,20,22,29] ].sum(axis=1)*10000\n",
        "b.name = 'c660_wt NA in NA in Benzene_ppmw'\n",
        "a.join(b)"
      ],
      "execution_count": 24,
      "outputs": [
        {
          "output_type": "execute_result",
          "data": {
            "text/html": [
              "<div>\n",
              "<style scoped>\n",
              "    .dataframe tbody tr th:only-of-type {\n",
              "        vertical-align: middle;\n",
              "    }\n",
              "\n",
              "    .dataframe tbody tr th {\n",
              "        vertical-align: top;\n",
              "    }\n",
              "\n",
              "    .dataframe thead th {\n",
              "        text-align: right;\n",
              "    }\n",
              "</style>\n",
              "<table border=\"1\" class=\"dataframe\">\n",
              "  <thead>\n",
              "    <tr style=\"text-align: right;\">\n",
              "      <th></th>\n",
              "      <th>Simulation Case Conditions_Spec 2 : NA in Benzene_ppmw</th>\n",
              "      <th>c660_wt NA in NA in Benzene_ppmw</th>\n",
              "    </tr>\n",
              "  </thead>\n",
              "  <tbody>\n",
              "    <tr>\n",
              "      <th>027-023</th>\n",
              "      <td>950.0</td>\n",
              "      <td>950.000152</td>\n",
              "    </tr>\n",
              "    <tr>\n",
              "      <th>029-002</th>\n",
              "      <td>980.0</td>\n",
              "      <td>979.995359</td>\n",
              "    </tr>\n",
              "    <tr>\n",
              "      <th>088-023</th>\n",
              "      <td>950.0</td>\n",
              "      <td>949.998613</td>\n",
              "    </tr>\n",
              "    <tr>\n",
              "      <th>112-014</th>\n",
              "      <td>950.0</td>\n",
              "      <td>949.999099</td>\n",
              "    </tr>\n",
              "    <tr>\n",
              "      <th>080-017</th>\n",
              "      <td>920.0</td>\n",
              "      <td>920.002867</td>\n",
              "    </tr>\n",
              "    <tr>\n",
              "      <th>...</th>\n",
              "      <td>...</td>\n",
              "      <td>...</td>\n",
              "    </tr>\n",
              "    <tr>\n",
              "      <th>069-017</th>\n",
              "      <td>920.0</td>\n",
              "      <td>920.159994</td>\n",
              "    </tr>\n",
              "    <tr>\n",
              "      <th>077-008</th>\n",
              "      <td>920.0</td>\n",
              "      <td>919.996985</td>\n",
              "    </tr>\n",
              "    <tr>\n",
              "      <th>084-011</th>\n",
              "      <td>890.0</td>\n",
              "      <td>889.993016</td>\n",
              "    </tr>\n",
              "    <tr>\n",
              "      <th>123-005</th>\n",
              "      <td>950.0</td>\n",
              "      <td>950.000608</td>\n",
              "    </tr>\n",
              "    <tr>\n",
              "      <th>063-026</th>\n",
              "      <td>920.0</td>\n",
              "      <td>920.004929</td>\n",
              "    </tr>\n",
              "  </tbody>\n",
              "</table>\n",
              "<p>1295 rows × 2 columns</p>\n",
              "</div>"
            ],
            "text/plain": [
              "         Simulation Case Conditions_Spec 2 : NA in Benzene_ppmw  c660_wt NA in NA in Benzene_ppmw\n",
              "027-023                                              950.0                             950.000152\n",
              "029-002                                              980.0                             979.995359\n",
              "088-023                                              950.0                             949.998613\n",
              "112-014                                              950.0                             949.999099\n",
              "080-017                                              920.0                             920.002867\n",
              "...                                                    ...                                    ...\n",
              "069-017                                              920.0                             920.159994\n",
              "077-008                                              920.0                             919.996985\n",
              "084-011                                              890.0                             889.993016\n",
              "123-005                                              950.0                             950.000608\n",
              "063-026                                              920.0                             920.004929\n",
              "\n",
              "[1295 rows x 2 columns]"
            ]
          },
          "metadata": {
            "tags": []
          },
          "execution_count": 24
        }
      ]
    },
    {
      "cell_type": "code",
      "metadata": {
        "id": "Cf_l-5_XNfc9",
        "colab": {
          "base_uri": "https://localhost:8080/",
          "height": 419
        },
        "outputId": "b205ed61-30d1-47d2-cb04-6ec4050f0762"
      },
      "source": [
        "a = icg_input[['Benzene Column C660 Operation_Specifications_Spec 3 : Toluene in Benzene_ppmw']]\n",
        "b = c660_wt[['Benzene Column C660 Operation_Sidedraw (Benzene )Production Rate and Composition_Toluene_wt%']]*10000\n",
        "a.join(b)"
      ],
      "execution_count": 25,
      "outputs": [
        {
          "output_type": "execute_result",
          "data": {
            "text/html": [
              "<div>\n",
              "<style scoped>\n",
              "    .dataframe tbody tr th:only-of-type {\n",
              "        vertical-align: middle;\n",
              "    }\n",
              "\n",
              "    .dataframe tbody tr th {\n",
              "        vertical-align: top;\n",
              "    }\n",
              "\n",
              "    .dataframe thead th {\n",
              "        text-align: right;\n",
              "    }\n",
              "</style>\n",
              "<table border=\"1\" class=\"dataframe\">\n",
              "  <thead>\n",
              "    <tr style=\"text-align: right;\">\n",
              "      <th></th>\n",
              "      <th>Benzene Column C660 Operation_Specifications_Spec 3 : Toluene in Benzene_ppmw</th>\n",
              "      <th>Benzene Column C660 Operation_Sidedraw (Benzene )Production Rate and Composition_Toluene_wt%</th>\n",
              "    </tr>\n",
              "  </thead>\n",
              "  <tbody>\n",
              "    <tr>\n",
              "      <th>027-023</th>\n",
              "      <td>10.000055</td>\n",
              "      <td>10.000055</td>\n",
              "    </tr>\n",
              "    <tr>\n",
              "      <th>029-002</th>\n",
              "      <td>10.000011</td>\n",
              "      <td>10.000011</td>\n",
              "    </tr>\n",
              "    <tr>\n",
              "      <th>088-023</th>\n",
              "      <td>9.999973</td>\n",
              "      <td>9.999973</td>\n",
              "    </tr>\n",
              "    <tr>\n",
              "      <th>112-014</th>\n",
              "      <td>10.000003</td>\n",
              "      <td>10.000003</td>\n",
              "    </tr>\n",
              "    <tr>\n",
              "      <th>080-017</th>\n",
              "      <td>5.000000</td>\n",
              "      <td>5.000000</td>\n",
              "    </tr>\n",
              "    <tr>\n",
              "      <th>...</th>\n",
              "      <td>...</td>\n",
              "      <td>...</td>\n",
              "    </tr>\n",
              "    <tr>\n",
              "      <th>069-017</th>\n",
              "      <td>5.000081</td>\n",
              "      <td>5.000081</td>\n",
              "    </tr>\n",
              "    <tr>\n",
              "      <th>077-008</th>\n",
              "      <td>9.999997</td>\n",
              "      <td>9.999997</td>\n",
              "    </tr>\n",
              "    <tr>\n",
              "      <th>084-011</th>\n",
              "      <td>10.000024</td>\n",
              "      <td>10.000024</td>\n",
              "    </tr>\n",
              "    <tr>\n",
              "      <th>123-005</th>\n",
              "      <td>10.000088</td>\n",
              "      <td>10.000088</td>\n",
              "    </tr>\n",
              "    <tr>\n",
              "      <th>063-026</th>\n",
              "      <td>4.998900</td>\n",
              "      <td>4.998900</td>\n",
              "    </tr>\n",
              "  </tbody>\n",
              "</table>\n",
              "<p>1295 rows × 2 columns</p>\n",
              "</div>"
            ],
            "text/plain": [
              "         Benzene Column C660 Operation_Specifications_Spec 3 : Toluene in Benzene_ppmw  Benzene Column C660 Operation_Sidedraw (Benzene )Production Rate and Composition_Toluene_wt%\n",
              "027-023                                          10.000055                                                                      10.000055                                           \n",
              "029-002                                          10.000011                                                                      10.000011                                           \n",
              "088-023                                           9.999973                                                                       9.999973                                           \n",
              "112-014                                          10.000003                                                                      10.000003                                           \n",
              "080-017                                           5.000000                                                                       5.000000                                           \n",
              "...                                                    ...                                                                            ...                                           \n",
              "069-017                                           5.000081                                                                       5.000081                                           \n",
              "077-008                                           9.999997                                                                       9.999997                                           \n",
              "084-011                                          10.000024                                                                      10.000024                                           \n",
              "123-005                                          10.000088                                                                      10.000088                                           \n",
              "063-026                                           4.998900                                                                       4.998900                                           \n",
              "\n",
              "[1295 rows x 2 columns]"
            ]
          },
          "metadata": {
            "tags": []
          },
          "execution_count": 25
        }
      ]
    },
    {
      "cell_type": "markdown",
      "metadata": {
        "id": "mzQ_FNmgRUit"
      },
      "source": [
        "# 推薦模式測試觀察重點 \"調幅(op_opt-op)\" 以及三項條件是否 \"足夠趨近\""
      ]
    },
    {
      "cell_type": "code",
      "metadata": {
        "colab": {
          "base_uri": "https://localhost:8080/"
        },
        "id": "aIe4hWZvREz5",
        "outputId": "f46c64e0-79ab-4cc9-a807-ec69a1ad08b3"
      },
      "source": [
        "f = AllSystem(config)\n",
        "idx = np.random.choice(allidx,size=1,replace=False,p=None)\n",
        "print(icg_input.loc[idx,'Simulation Case Conditions_Spec 1 : Benzene in C620 Sidedraw_wt%'])\n",
        "print(icg_input.loc[idx,'Simulation Case Conditions_Spec 2 : NA in Benzene_ppmw'])\n",
        "print(icg_input.loc[idx,'Benzene Column C660 Operation_Specifications_Spec 3 : Toluene in Benzene_ppmw'])\n",
        "print(icg_input.loc[idx,'Tatoray Stripper C620 Operation_Specifications_Spec 2 : Distillate Rate_m3/hr'])"
      ],
      "execution_count": 30,
      "outputs": [
        {
          "output_type": "stream",
          "text": [
            "026-017    80.0\n",
            "Name: Simulation Case Conditions_Spec 1 : Benzene in C620 Sidedraw_wt%, dtype: float64\n",
            "026-017    920.0\n",
            "Name: Simulation Case Conditions_Spec 2 : NA in Benzene_ppmw, dtype: float64\n",
            "026-017    5.0\n",
            "Name: Benzene Column C660 Operation_Specifications_Spec 3 : Toluene in Benzene_ppmw, dtype: float64\n",
            "026-017    1.0\n",
            "Name: Tatoray Stripper C620 Operation_Specifications_Spec 2 : Distillate Rate_m3/hr, dtype: float64\n"
          ],
          "name": "stdout"
        }
      ]
    },
    {
      "cell_type": "code",
      "metadata": {
        "id": "PyuZyjzmki0y",
        "colab": {
          "base_uri": "https://localhost:8080/",
          "height": 168,
          "referenced_widgets": [
            "b8792f3a3b214137bded0f4179ee7293",
            "987c72cccec84238b0d876b47d0f56eb",
            "bbcf5757e9c44cc3b0a4ea04f9dfae97",
            "21170a6a54314831a56c939c745add0d",
            "5030c6402a304c53ad6b07183d44f428",
            "ba3f5d98fc604897abd81672968db7df",
            "532643debb234fa8ba8bc0652bcdec36",
            "e6213c2f98d4495da80413ab2fbb4600"
          ]
        },
        "outputId": "aca946ab-31d5-48b7-9536-2b69667ccad4"
      },
      "source": [
        "# 試算\n",
        "c620_wt_estimate,c620_op_estimate,c660_wt_estimate,c660_op_estimate,c670_wt_estimate,c670_op_estimate = f.inference(icg_input.loc[idx],c620_feed.loc[idx],t651_feed.loc[idx])\n",
        "# 推薦\n",
        "c620_wt_optimal,c620_op_optimal,c660_wt_optimal,c660_op_optimal,c670_wt_optimal,c670_op_optimal,bz_error,nainbz_error,tol_error = f.recommend(icg_input.loc[idx],c620_feed.loc[idx],t651_feed.loc[idx],\n",
        "                                                                            only_tune_temp=True)"
      ],
      "execution_count": 31,
      "outputs": [
        {
          "output_type": "stream",
          "text": [
            "\u001b[32m[I 2021-05-04 04:51:55,106]\u001b[0m A new study created in memory with name: no-name-e57360f0-cb54-4056-b2fc-130ef1e3f839\u001b[0m\n"
          ],
          "name": "stderr"
        },
        {
          "output_type": "stream",
          "text": [
            "系統已經自動設定推薦值[70,980,10]\n"
          ],
          "name": "stdout"
        },
        {
          "output_type": "display_data",
          "data": {
            "application/vnd.jupyter.widget-view+json": {
              "model_id": "b8792f3a3b214137bded0f4179ee7293",
              "version_minor": 0,
              "version_major": 2
            },
            "text/plain": [
              "HBox(children=(FloatProgress(value=0.0, max=300.0), HTML(value='')))"
            ]
          },
          "metadata": {
            "tags": []
          }
        },
        {
          "output_type": "stream",
          "text": [
            "Congratulations Early Success find optimal op\n",
            "bzinside_loss: 0.02535003720103321\n",
            "nainbz_loss: 0.03265741632228884\n",
            "tol_loss: 0.007925394671806352\n",
            "distrate_loss: 0\n"
          ],
          "name": "stdout"
        }
      ]
    },
    {
      "cell_type": "markdown",
      "metadata": {
        "id": "V-czTbsnJUED"
      },
      "source": [
        "# 確認三項條件有滿足"
      ]
    },
    {
      "cell_type": "code",
      "metadata": {
        "colab": {
          "base_uri": "https://localhost:8080/"
        },
        "id": "8bdrIbVXJUMi",
        "outputId": "4e13ffa8-e348-4927-8a3c-08ccc7c65123"
      },
      "source": [
        "bz_error,nainbz_error,tol_error"
      ],
      "execution_count": 32,
      "outputs": [
        {
          "output_type": "execute_result",
          "data": {
            "text/plain": [
              "(0.02535003720103321, 0.03265741632228884, 0.007925394671806352)"
            ]
          },
          "metadata": {
            "tags": []
          },
          "execution_count": 32
        }
      ]
    },
    {
      "cell_type": "code",
      "metadata": {
        "colab": {
          "base_uri": "https://localhost:8080/",
          "height": 80
        },
        "id": "plTvQ5hoJ17k",
        "outputId": "46700a0e-60e6-4bab-92db-1596b8e5a751"
      },
      "source": [
        "a = icg_input.loc[idx,['Simulation Case Conditions_Spec 1 : Benzene in C620 Sidedraw_wt%']]\n",
        "b = c620_wt_optimal.loc[idx,['Tatoray Stripper C620 Operation_Sidedraw Production Rate and Composition_Benzene_wt%']]\n",
        "c = pd.DataFrame(index=idx)\n",
        "c['推薦值'] = 70\n",
        "res = a.join(b).join(c)\n",
        "res.columns = ['原始值','優化搜索後值','完美值']\n",
        "res"
      ],
      "execution_count": 33,
      "outputs": [
        {
          "output_type": "execute_result",
          "data": {
            "text/html": [
              "<div>\n",
              "<style scoped>\n",
              "    .dataframe tbody tr th:only-of-type {\n",
              "        vertical-align: middle;\n",
              "    }\n",
              "\n",
              "    .dataframe tbody tr th {\n",
              "        vertical-align: top;\n",
              "    }\n",
              "\n",
              "    .dataframe thead th {\n",
              "        text-align: right;\n",
              "    }\n",
              "</style>\n",
              "<table border=\"1\" class=\"dataframe\">\n",
              "  <thead>\n",
              "    <tr style=\"text-align: right;\">\n",
              "      <th></th>\n",
              "      <th>原始值</th>\n",
              "      <th>優化搜索後值</th>\n",
              "      <th>完美值</th>\n",
              "    </tr>\n",
              "  </thead>\n",
              "  <tbody>\n",
              "    <tr>\n",
              "      <th>026-017</th>\n",
              "      <td>80.0</td>\n",
              "      <td>71.774503</td>\n",
              "      <td>70</td>\n",
              "    </tr>\n",
              "  </tbody>\n",
              "</table>\n",
              "</div>"
            ],
            "text/plain": [
              "          原始值     優化搜索後值  完美值\n",
              "026-017  80.0  71.774503   70"
            ]
          },
          "metadata": {
            "tags": []
          },
          "execution_count": 33
        }
      ]
    },
    {
      "cell_type": "code",
      "metadata": {
        "colab": {
          "base_uri": "https://localhost:8080/",
          "height": 80
        },
        "id": "iKspSt_-J79X",
        "outputId": "bb635c28-f367-45d7-c980-023470f4a6e9"
      },
      "source": [
        "a = icg_input.loc[idx,['Simulation Case Conditions_Spec 2 : NA in Benzene_ppmw']]\n",
        "b = c660_wt_optimal.loc[idx].filter(regex='Side').filter(regex='wt%').iloc[:,[1,2,3,4,5,6,8,9,11,13,14,15,20,22,29] ].sum(axis=1)*10000\n",
        "b.name = 'c660_wt NA in NA in Benzene_ppmw'\n",
        "c = pd.DataFrame(index=idx)\n",
        "c['推薦值'] = 980\n",
        "res = a.join(b).join(c)\n",
        "res.columns = ['原始值','優化搜索後值','完美值']\n",
        "res"
      ],
      "execution_count": 34,
      "outputs": [
        {
          "output_type": "execute_result",
          "data": {
            "text/html": [
              "<div>\n",
              "<style scoped>\n",
              "    .dataframe tbody tr th:only-of-type {\n",
              "        vertical-align: middle;\n",
              "    }\n",
              "\n",
              "    .dataframe tbody tr th {\n",
              "        vertical-align: top;\n",
              "    }\n",
              "\n",
              "    .dataframe thead th {\n",
              "        text-align: right;\n",
              "    }\n",
              "</style>\n",
              "<table border=\"1\" class=\"dataframe\">\n",
              "  <thead>\n",
              "    <tr style=\"text-align: right;\">\n",
              "      <th></th>\n",
              "      <th>原始值</th>\n",
              "      <th>優化搜索後值</th>\n",
              "      <th>完美值</th>\n",
              "    </tr>\n",
              "  </thead>\n",
              "  <tbody>\n",
              "    <tr>\n",
              "      <th>026-017</th>\n",
              "      <td>920.0</td>\n",
              "      <td>947.995732</td>\n",
              "      <td>980</td>\n",
              "    </tr>\n",
              "  </tbody>\n",
              "</table>\n",
              "</div>"
            ],
            "text/plain": [
              "           原始值      優化搜索後值  完美值\n",
              "026-017  920.0  947.995732  980"
            ]
          },
          "metadata": {
            "tags": []
          },
          "execution_count": 34
        }
      ]
    },
    {
      "cell_type": "code",
      "metadata": {
        "colab": {
          "base_uri": "https://localhost:8080/",
          "height": 80
        },
        "id": "boxjNTZ_Kuvu",
        "outputId": "a4210143-5900-45d1-cbc2-21b3c7f2fe44"
      },
      "source": [
        "a = icg_input.loc[idx,['Benzene Column C660 Operation_Specifications_Spec 3 : Toluene in Benzene_ppmw']]\n",
        "b = c660_wt_optimal.loc[idx,['Benzene Column C660 Operation_Sidedraw (Benzene )Production Rate and Composition_Toluene_wt%']]*10000\n",
        "c = pd.DataFrame(index=idx)\n",
        "c['推薦值'] = 10\n",
        "res = a.join(b).join(c)\n",
        "res.columns = ['原始值','優化搜索後值','完美值']\n",
        "res"
      ],
      "execution_count": 35,
      "outputs": [
        {
          "output_type": "execute_result",
          "data": {
            "text/html": [
              "<div>\n",
              "<style scoped>\n",
              "    .dataframe tbody tr th:only-of-type {\n",
              "        vertical-align: middle;\n",
              "    }\n",
              "\n",
              "    .dataframe tbody tr th {\n",
              "        vertical-align: top;\n",
              "    }\n",
              "\n",
              "    .dataframe thead th {\n",
              "        text-align: right;\n",
              "    }\n",
              "</style>\n",
              "<table border=\"1\" class=\"dataframe\">\n",
              "  <thead>\n",
              "    <tr style=\"text-align: right;\">\n",
              "      <th></th>\n",
              "      <th>原始值</th>\n",
              "      <th>優化搜索後值</th>\n",
              "      <th>完美值</th>\n",
              "    </tr>\n",
              "  </thead>\n",
              "  <tbody>\n",
              "    <tr>\n",
              "      <th>026-017</th>\n",
              "      <td>5.0</td>\n",
              "      <td>10.079254</td>\n",
              "      <td>10</td>\n",
              "    </tr>\n",
              "  </tbody>\n",
              "</table>\n",
              "</div>"
            ],
            "text/plain": [
              "         原始值     優化搜索後值  完美值\n",
              "026-017  5.0  10.079254   10"
            ]
          },
          "metadata": {
            "tags": []
          },
          "execution_count": 35
        }
      ]
    },
    {
      "cell_type": "markdown",
      "metadata": {
        "id": "XCrSd9ICUydW"
      },
      "source": [
        "# 確認操作條件有足夠大的調幅,然後因為bzinside是往下降所以溫度調幅是往上升"
      ]
    },
    {
      "cell_type": "code",
      "metadata": {
        "colab": {
          "base_uri": "https://localhost:8080/",
          "height": 80
        },
        "id": "co6zFgOqXHE3",
        "outputId": "899a663d-5cdf-4f38-927f-b73f077bf488"
      },
      "source": [
        "(c620_op_optimal - c620_op_estimate).iloc[:,-2:]"
      ],
      "execution_count": 36,
      "outputs": [
        {
          "output_type": "execute_result",
          "data": {
            "text/html": [
              "<div>\n",
              "<style scoped>\n",
              "    .dataframe tbody tr th:only-of-type {\n",
              "        vertical-align: middle;\n",
              "    }\n",
              "\n",
              "    .dataframe tbody tr th {\n",
              "        vertical-align: top;\n",
              "    }\n",
              "\n",
              "    .dataframe thead th {\n",
              "        text-align: right;\n",
              "    }\n",
              "</style>\n",
              "<table border=\"1\" class=\"dataframe\">\n",
              "  <thead>\n",
              "    <tr style=\"text-align: right;\">\n",
              "      <th></th>\n",
              "      <th>Tatoray Stripper C620 Operation_Column Temp Profile_C620 Tray 14 (Control)_oC</th>\n",
              "      <th>Tatoray Stripper C620 Operation_Column Temp Profile_C620 Tray 34 (Control)_oC</th>\n",
              "    </tr>\n",
              "  </thead>\n",
              "  <tbody>\n",
              "    <tr>\n",
              "      <th>026-017</th>\n",
              "      <td>0.520956</td>\n",
              "      <td>0.511293</td>\n",
              "    </tr>\n",
              "  </tbody>\n",
              "</table>\n",
              "</div>"
            ],
            "text/plain": [
              "         Tatoray Stripper C620 Operation_Column Temp Profile_C620 Tray 14 (Control)_oC  Tatoray Stripper C620 Operation_Column Temp Profile_C620 Tray 34 (Control)_oC\n",
              "026-017                                           0.520956                                                                       0.511293                            "
            ]
          },
          "metadata": {
            "tags": []
          },
          "execution_count": 36
        }
      ]
    },
    {
      "cell_type": "code",
      "metadata": {
        "id": "m6smPx97kBC-",
        "colab": {
          "base_uri": "https://localhost:8080/",
          "height": 80
        },
        "outputId": "0e4ea505-c09d-4432-fb2a-b300fd48ae12"
      },
      "source": [
        "(c660_op_optimal - c660_op_estimate).iloc[:,-2:]"
      ],
      "execution_count": 37,
      "outputs": [
        {
          "output_type": "execute_result",
          "data": {
            "text/html": [
              "<div>\n",
              "<style scoped>\n",
              "    .dataframe tbody tr th:only-of-type {\n",
              "        vertical-align: middle;\n",
              "    }\n",
              "\n",
              "    .dataframe tbody tr th {\n",
              "        vertical-align: top;\n",
              "    }\n",
              "\n",
              "    .dataframe thead th {\n",
              "        text-align: right;\n",
              "    }\n",
              "</style>\n",
              "<table border=\"1\" class=\"dataframe\">\n",
              "  <thead>\n",
              "    <tr style=\"text-align: right;\">\n",
              "      <th></th>\n",
              "      <th>Benzene Column C660 Operation_Column Temp Profile_C660 Tray 6 (SD &amp; Control)_oC</th>\n",
              "      <th>Benzene Column C660 Operation_Column Temp Profile_C660 Tray 23 (Control)_oC</th>\n",
              "    </tr>\n",
              "  </thead>\n",
              "  <tbody>\n",
              "    <tr>\n",
              "      <th>026-017</th>\n",
              "      <td>-0.006032</td>\n",
              "      <td>0.285159</td>\n",
              "    </tr>\n",
              "  </tbody>\n",
              "</table>\n",
              "</div>"
            ],
            "text/plain": [
              "         Benzene Column C660 Operation_Column Temp Profile_C660 Tray 6 (SD & Control)_oC  Benzene Column C660 Operation_Column Temp Profile_C660 Tray 23 (Control)_oC\n",
              "026-017                                          -0.006032                                                                         0.285159                          "
            ]
          },
          "metadata": {
            "tags": []
          },
          "execution_count": 37
        }
      ]
    },
    {
      "cell_type": "code",
      "metadata": {
        "id": "9Iho3ltAkBwU",
        "colab": {
          "base_uri": "https://localhost:8080/",
          "height": 80
        },
        "outputId": "9fe19de2-3d51-495e-c1ba-6241b6e4454a"
      },
      "source": [
        "(c670_op_optimal - c670_op_estimate).iloc[:,-2:]"
      ],
      "execution_count": 38,
      "outputs": [
        {
          "output_type": "execute_result",
          "data": {
            "text/html": [
              "<div>\n",
              "<style scoped>\n",
              "    .dataframe tbody tr th:only-of-type {\n",
              "        vertical-align: middle;\n",
              "    }\n",
              "\n",
              "    .dataframe tbody tr th {\n",
              "        vertical-align: top;\n",
              "    }\n",
              "\n",
              "    .dataframe thead th {\n",
              "        text-align: right;\n",
              "    }\n",
              "</style>\n",
              "<table border=\"1\" class=\"dataframe\">\n",
              "  <thead>\n",
              "    <tr style=\"text-align: right;\">\n",
              "      <th></th>\n",
              "      <th>Toluene Column C670 Operation_Column Temp Profile_C670 Tray 24 (Control)_oC</th>\n",
              "      <th>Toluene Column C670 Operation_Column Temp Profile_C670 Btm Temp (Control)_oC</th>\n",
              "    </tr>\n",
              "  </thead>\n",
              "  <tbody>\n",
              "    <tr>\n",
              "      <th>026-017</th>\n",
              "      <td>-0.033859</td>\n",
              "      <td>0.042145</td>\n",
              "    </tr>\n",
              "  </tbody>\n",
              "</table>\n",
              "</div>"
            ],
            "text/plain": [
              "         Toluene Column C670 Operation_Column Temp Profile_C670 Tray 24 (Control)_oC  Toluene Column C670 Operation_Column Temp Profile_C670 Btm Temp (Control)_oC\n",
              "026-017                                          -0.033859                                                                     0.042145                           "
            ]
          },
          "metadata": {
            "tags": []
          },
          "execution_count": 38
        }
      ]
    },
    {
      "cell_type": "markdown",
      "metadata": {
        "id": "1u2sIZi1maeB"
      },
      "source": [
        "# 保存樣本"
      ]
    },
    {
      "cell_type": "code",
      "metadata": {
        "id": "SP3AKxsymale",
        "colab": {
          "base_uri": "https://localhost:8080/"
        },
        "outputId": "87b15863-a1a4-4c70-d941-9c867544808b"
      },
      "source": [
        "print(idx)"
      ],
      "execution_count": 39,
      "outputs": [
        {
          "output_type": "stream",
          "text": [
            "['026-017']\n"
          ],
          "name": "stdout"
        }
      ]
    },
    {
      "cell_type": "code",
      "metadata": {
        "id": "gBiAAbNrmt42"
      },
      "source": [
        "demo = {\n",
        "      # input\n",
        "      'icg_input':icg_input.loc[idx],\n",
        "      'c620_feed':c620_feed.loc[idx],\n",
        "      't651_feed':t651_feed.loc[idx],\n",
        "      # output\n",
        "      'c620_op':c620_op.loc[idx],\n",
        "      'c620_wt':c620_wt.loc[idx],\n",
        "      'c660_op':c660_op.loc[idx],\n",
        "      'c660_wt':c660_wt.loc[idx],\n",
        "      'c670_op':c670_op.loc[idx],\n",
        "      'c670_wt':c670_wt.loc[idx],\n",
        "      }"
      ],
      "execution_count": 40,
      "outputs": []
    },
    {
      "cell_type": "code",
      "metadata": {
        "id": "hqZSzX1VmxT-",
        "colab": {
          "base_uri": "https://localhost:8080/"
        },
        "outputId": "9c98c7b2-8293-4c50-a15d-1ba7f12ff47f"
      },
      "source": [
        "import joblib\n",
        "joblib.dump(demo,\"/content/drive/MyDrive/台塑輕油案子/data/c620/demo/demo.pkl\")"
      ],
      "execution_count": 41,
      "outputs": [
        {
          "output_type": "execute_result",
          "data": {
            "text/plain": [
              "['/content/drive/MyDrive/台塑輕油案子/data/c620/demo/demo.pkl']"
            ]
          },
          "metadata": {
            "tags": []
          },
          "execution_count": 41
        }
      ]
    },
    {
      "cell_type": "markdown",
      "metadata": {
        "id": "X9yg2_p2veZA"
      },
      "source": [
        "# 保存模組"
      ]
    },
    {
      "cell_type": "code",
      "metadata": {
        "id": "TaZjMBJ9veg9",
        "colab": {
          "base_uri": "https://localhost:8080/"
        },
        "outputId": "470cbd6f-6d26-4a05-a99c-a08ba5d588d4"
      },
      "source": [
        "joblib.dump(f,\"/content/drive/MyDrive/台塑輕油案子/data/c620/model/allsystem.pkl\")"
      ],
      "execution_count": 42,
      "outputs": [
        {
          "output_type": "execute_result",
          "data": {
            "text/plain": [
              "['/content/drive/MyDrive/台塑輕油案子/data/c620/model/allsystem.pkl']"
            ]
          },
          "metadata": {
            "tags": []
          },
          "execution_count": 42
        }
      ]
    },
    {
      "cell_type": "code",
      "metadata": {
        "id": "yvR3sfsfm1Od"
      },
      "source": [
        ""
      ],
      "execution_count": null,
      "outputs": []
    }
  ]
}