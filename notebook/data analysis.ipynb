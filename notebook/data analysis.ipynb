{
  "nbformat": 4,
  "nbformat_minor": 0,
  "metadata": {
    "colab": {
      "name": "c620資料分析.ipynb",
      "provenance": [],
      "mount_file_id": "https://github.com/skywalker0803r/c620/blob/main/notebook/data%20analysis.ipynb",
      "authorship_tag": "ABX9TyP1hv5PqwByrc2teUdqaCxC",
      "include_colab_link": true
    },
    "kernelspec": {
      "name": "python3",
      "display_name": "Python 3"
    }
  },
  "cells": [
    {
      "cell_type": "markdown",
      "metadata": {
        "id": "view-in-github",
        "colab_type": "text"
      },
      "source": [
        "<a href=\"https://colab.research.google.com/github/skywalker0803r/c620/blob/main/notebook/data%20analysis.ipynb\" target=\"_parent\"><img src=\"https://colab.research.google.com/assets/colab-badge.svg\" alt=\"Open In Colab\"/></a>"
      ]
    },
    {
      "cell_type": "code",
      "metadata": {
        "id": "OkOaH7rhZKU0"
      },
      "source": [
        "import pandas as pd\n",
        "import joblib\n",
        "import numpy as np\n",
        "import matplotlib.pyplot as plt"
      ],
      "execution_count": 1,
      "outputs": []
    },
    {
      "cell_type": "markdown",
      "metadata": {
        "id": "sZm0YZbLSEst"
      },
      "source": [
        "# load"
      ]
    },
    {
      "cell_type": "code",
      "metadata": {
        "id": "3KB58YtyDlii",
        "colab": {
          "base_uri": "https://localhost:8080/"
        },
        "outputId": "2cb266f0-2a04-4871-c80e-63e31c7221b0"
      },
      "source": [
        "from google.colab import drive\n",
        "drive.mount('/content/drive')"
      ],
      "execution_count": 2,
      "outputs": [
        {
          "output_type": "stream",
          "text": [
            "Drive already mounted at /content/drive; to attempt to forcibly remount, call drive.mount(\"/content/drive\", force_remount=True).\n"
          ],
          "name": "stdout"
        }
      ]
    },
    {
      "cell_type": "code",
      "metadata": {
        "id": "ejga3dn8Zl6u"
      },
      "source": [
        "root = '/content/drive/MyDrive/台塑輕油案子/data/c620/cleaned/'\n",
        "\n",
        "t651_df = pd.read_csv(root+'t651_train.csv',index_col=0).dropna(axis=0)\n",
        "idx = t651_df.index\n",
        "\n",
        "c620_df = pd.read_csv(root+'c620_train.csv',index_col=0).loc[idx]\n",
        "c620_mb = pd.read_csv(root+'c620_mbcheck.csv',index_col=0).loc[idx]\n",
        "\n",
        "c660_df = pd.read_csv(root+'c660_train.csv',index_col=0).loc[idx]\n",
        "c660_mb = pd.read_csv(root+'c660_mbcheck.csv',index_col=0).loc[idx]\n",
        "\n",
        "c670_df = pd.read_csv(root+'c670_train.csv',index_col=0).loc[idx]\n",
        "c670_mb = pd.read_csv(root+'c670_mbcheck.csv',index_col=0).loc[idx]"
      ],
      "execution_count": 3,
      "outputs": []
    },
    {
      "cell_type": "code",
      "metadata": {
        "id": "CHphm2sIaJm5"
      },
      "source": [
        "root = '/content/drive/MyDrive/台塑輕油案子/data/c620/col_names/'\n",
        "c620_col = joblib.load(root+'c620_col_names.pkl')\n",
        "c660_col = joblib.load(root+'c660_col_names.pkl')\n",
        "c670_col = joblib.load(root+'c670_col_names.pkl')\n",
        "t651_col = joblib.load(root+'t651_col_names.pkl')"
      ],
      "execution_count": 4,
      "outputs": []
    },
    {
      "cell_type": "markdown",
      "metadata": {
        "id": "mKoZetKGRB8n"
      },
      "source": [
        "# check c620&t651 -> c660"
      ]
    },
    {
      "cell_type": "code",
      "metadata": {
        "id": "46BvGhW_axoe",
        "colab": {
          "base_uri": "https://localhost:8080/",
          "height": 314
        },
        "outputId": "f1cbf9ed-0bde-4b9b-a4b2-a2cea3d6ca2b"
      },
      "source": [
        "t651_mf = t651_df[t651_col['MFR']]\n",
        "c620_mf = c620_mb.iloc[:,[3]]\n",
        "total = t651_mf.values + c620_mf.values\n",
        "t651_mf = t651_mf/total\n",
        "c620_mf = c620_mf/total\n",
        "t651_x41 = t651_df[t651_col['x41']]\n",
        "c620_w3 = c620_df[c620_col['sidedraw_x']]\n",
        "c660_feed_pred = c620_w3.values*c620_mf.values + t651_x41.values*t651_mf.values\n",
        "c660_feed_pred = pd.DataFrame(c660_feed_pred,index=idx,columns=c660_col['x41'])\n",
        "c660_feed_pred.head(3)"
      ],
      "execution_count": 5,
      "outputs": [
        {
          "output_type": "execute_result",
          "data": {
            "text/html": [
              "<div>\n",
              "<style scoped>\n",
              "    .dataframe tbody tr th:only-of-type {\n",
              "        vertical-align: middle;\n",
              "    }\n",
              "\n",
              "    .dataframe tbody tr th {\n",
              "        vertical-align: top;\n",
              "    }\n",
              "\n",
              "    .dataframe thead th {\n",
              "        text-align: right;\n",
              "    }\n",
              "</style>\n",
              "<table border=\"1\" class=\"dataframe\">\n",
              "  <thead>\n",
              "    <tr style=\"text-align: right;\">\n",
              "      <th></th>\n",
              "      <th>Combined Feed to Benzene Column C660_Detailed Composition_Hydrogen_wt%</th>\n",
              "      <th>Combined Feed to Benzene Column C660_Detailed Composition_Methane_wt%</th>\n",
              "      <th>Combined Feed to Benzene Column C660_Detailed Composition_Ethane_wt%</th>\n",
              "      <th>Combined Feed to Benzene Column C660_Detailed Composition_Propane_wt%</th>\n",
              "      <th>Combined Feed to Benzene Column C660_Detailed Composition_n-Butane_wt%</th>\n",
              "      <th>Combined Feed to Benzene Column C660_Detailed Composition_n-Pentane_wt%</th>\n",
              "      <th>Combined Feed to Benzene Column C660_Detailed Composition_n-Hexane_wt%</th>\n",
              "      <th>Combined Feed to Benzene Column C660_Detailed Composition_Benzene_wt%</th>\n",
              "      <th>Combined Feed to Benzene Column C660_Detailed Composition_Cyclohexane_wt%</th>\n",
              "      <th>Combined Feed to Benzene Column C660_Detailed Composition_n-Heptane_wt%</th>\n",
              "      <th>Combined Feed to Benzene Column C660_Detailed Composition_Water_wt%</th>\n",
              "      <th>Combined Feed to Benzene Column C660_Detailed Composition_Methylcyclohexane_wt%</th>\n",
              "      <th>Combined Feed to Benzene Column C660_Detailed Composition_Toluene_wt%</th>\n",
              "      <th>Combined Feed to Benzene Column C660_Detailed Composition_n-Octane_wt%</th>\n",
              "      <th>Combined Feed to Benzene Column C660_Detailed Composition_n-Propylcyclopentane_wt%</th>\n",
              "      <th>Combined Feed to Benzene Column C660_Detailed Composition_Ethylcyclohexane_wt%</th>\n",
              "      <th>Combined Feed to Benzene Column C660_Detailed Composition_Ethylbenzene_wt%</th>\n",
              "      <th>Combined Feed to Benzene Column C660_Detailed Composition_p-Xylene_wt%</th>\n",
              "      <th>Combined Feed to Benzene Column C660_Detailed Composition_m-Xylene_wt%</th>\n",
              "      <th>Combined Feed to Benzene Column C660_Detailed Composition_o-Xylene_wt%</th>\n",
              "      <th>Combined Feed to Benzene Column C660_Detailed Composition_n-Nonane_wt%</th>\n",
              "      <th>Combined Feed to Benzene Column C660_Detailed Composition_i-Propylbenzene_wt%</th>\n",
              "      <th>Combined Feed to Benzene Column C660_Detailed Composition_n-Propylcyclohexane_wt%</th>\n",
              "      <th>Combined Feed to Benzene Column C660_Detailed Composition_n-Propylbenzene_wt%</th>\n",
              "      <th>Combined Feed to Benzene Column C660_Detailed Composition_1-Methyl-3-ethylbenzene_wt%</th>\n",
              "      <th>Combined Feed to Benzene Column C660_Detailed Composition_1-Methyl-4-ethylbenzene_wt%</th>\n",
              "      <th>Combined Feed to Benzene Column C660_Detailed Composition_1,3,5-Trimethylbenzene_wt%</th>\n",
              "      <th>Combined Feed to Benzene Column C660_Detailed Composition_1-Methyl-2-ethylbenzene_wt%</th>\n",
              "      <th>Combined Feed to Benzene Column C660_Detailed Composition_1,2,4-Trimethylbenzene_wt%</th>\n",
              "      <th>Combined Feed to Benzene Column C660_Detailed Composition_tert-Butylcyclohexane_wt%</th>\n",
              "      <th>Combined Feed to Benzene Column C660_Detailed Composition_1,2,3-Trimethylbenzene_wt%</th>\n",
              "      <th>Combined Feed to Benzene Column C660_Detailed Composition_Indane_wt%</th>\n",
              "      <th>Combined Feed to Benzene Column C660_Detailed Composition_1-Methyl-4-n-propylbenzene_wt%</th>\n",
              "      <th>Combined Feed to Benzene Column C660_Detailed Composition_1,2-Diethylbenzene_wt%</th>\n",
              "      <th>Combined Feed to Benzene Column C660_Detailed Composition_5-Ethyl-m-xylene_wt%</th>\n",
              "      <th>Combined Feed to Benzene Column C660_Detailed Composition_1,4-Diethylbenzene_wt%</th>\n",
              "      <th>Combined Feed to Benzene Column C660_Detailed Composition_1,2,3,5-Tetramethylbenzene_wt%</th>\n",
              "      <th>Combined Feed to Benzene Column C660_Detailed Composition_n-Pentylbenzene_wt%</th>\n",
              "      <th>Combined Feed to Benzene Column C660_Detailed Composition_n-Hexylbenzene_wt%</th>\n",
              "      <th>Combined Feed to Benzene Column C660_Detailed Composition_Nitrogen_wt%</th>\n",
              "      <th>Combined Feed to Benzene Column C660_Detailed Composition_Oxygen_wt%</th>\n",
              "    </tr>\n",
              "  </thead>\n",
              "  <tbody>\n",
              "    <tr>\n",
              "      <th>001-001</th>\n",
              "      <td>0.0</td>\n",
              "      <td>0.000175</td>\n",
              "      <td>0.011354</td>\n",
              "      <td>0.021681</td>\n",
              "      <td>0.014908</td>\n",
              "      <td>0.019511</td>\n",
              "      <td>0.030082</td>\n",
              "      <td>66.278216</td>\n",
              "      <td>0.02099</td>\n",
              "      <td>0.034398</td>\n",
              "      <td>0.0</td>\n",
              "      <td>0.014600</td>\n",
              "      <td>27.873568</td>\n",
              "      <td>0.028611</td>\n",
              "      <td>0.024798</td>\n",
              "      <td>0.020281</td>\n",
              "      <td>3.132133</td>\n",
              "      <td>0.632336</td>\n",
              "      <td>1.318028</td>\n",
              "      <td>0.365566</td>\n",
              "      <td>0.044484</td>\n",
              "      <td>1.951733e-08</td>\n",
              "      <td>0.098763</td>\n",
              "      <td>3.399222e-09</td>\n",
              "      <td>0.001142</td>\n",
              "      <td>0.001141</td>\n",
              "      <td>0.00223</td>\n",
              "      <td>0.00057</td>\n",
              "      <td>0.00057</td>\n",
              "      <td>0.00788</td>\n",
              "      <td>3.896395e-09</td>\n",
              "      <td>1.684247e-10</td>\n",
              "      <td>0.001555</td>\n",
              "      <td>0.000415</td>\n",
              "      <td>6.044997e-10</td>\n",
              "      <td>0.0</td>\n",
              "      <td>6.479632e-12</td>\n",
              "      <td>3.103609e-13</td>\n",
              "      <td>3.014521e-16</td>\n",
              "      <td>0.0</td>\n",
              "      <td>0.0</td>\n",
              "    </tr>\n",
              "    <tr>\n",
              "      <th>001-002</th>\n",
              "      <td>0.0</td>\n",
              "      <td>0.000175</td>\n",
              "      <td>0.011353</td>\n",
              "      <td>0.021678</td>\n",
              "      <td>0.014906</td>\n",
              "      <td>0.019510</td>\n",
              "      <td>0.030081</td>\n",
              "      <td>66.278232</td>\n",
              "      <td>0.02099</td>\n",
              "      <td>0.034399</td>\n",
              "      <td>0.0</td>\n",
              "      <td>0.014601</td>\n",
              "      <td>27.873554</td>\n",
              "      <td>0.028611</td>\n",
              "      <td>0.024798</td>\n",
              "      <td>0.020281</td>\n",
              "      <td>3.132134</td>\n",
              "      <td>0.632336</td>\n",
              "      <td>1.318029</td>\n",
              "      <td>0.365566</td>\n",
              "      <td>0.044484</td>\n",
              "      <td>1.951592e-08</td>\n",
              "      <td>0.098764</td>\n",
              "      <td>3.398967e-09</td>\n",
              "      <td>0.001142</td>\n",
              "      <td>0.001141</td>\n",
              "      <td>0.00223</td>\n",
              "      <td>0.00057</td>\n",
              "      <td>0.00057</td>\n",
              "      <td>0.00788</td>\n",
              "      <td>3.896085e-09</td>\n",
              "      <td>1.684114e-10</td>\n",
              "      <td>0.001555</td>\n",
              "      <td>0.000415</td>\n",
              "      <td>6.044514e-10</td>\n",
              "      <td>0.0</td>\n",
              "      <td>6.479096e-12</td>\n",
              "      <td>3.103352e-13</td>\n",
              "      <td>3.014266e-16</td>\n",
              "      <td>0.0</td>\n",
              "      <td>0.0</td>\n",
              "    </tr>\n",
              "    <tr>\n",
              "      <th>001-003</th>\n",
              "      <td>0.0</td>\n",
              "      <td>0.000175</td>\n",
              "      <td>0.011354</td>\n",
              "      <td>0.021680</td>\n",
              "      <td>0.014907</td>\n",
              "      <td>0.019510</td>\n",
              "      <td>0.030082</td>\n",
              "      <td>66.278226</td>\n",
              "      <td>0.02099</td>\n",
              "      <td>0.034398</td>\n",
              "      <td>0.0</td>\n",
              "      <td>0.014601</td>\n",
              "      <td>27.873556</td>\n",
              "      <td>0.028611</td>\n",
              "      <td>0.024798</td>\n",
              "      <td>0.020281</td>\n",
              "      <td>3.132134</td>\n",
              "      <td>0.632336</td>\n",
              "      <td>1.318029</td>\n",
              "      <td>0.365566</td>\n",
              "      <td>0.044484</td>\n",
              "      <td>1.951662e-08</td>\n",
              "      <td>0.098764</td>\n",
              "      <td>3.399096e-09</td>\n",
              "      <td>0.001142</td>\n",
              "      <td>0.001141</td>\n",
              "      <td>0.00223</td>\n",
              "      <td>0.00057</td>\n",
              "      <td>0.00057</td>\n",
              "      <td>0.00788</td>\n",
              "      <td>3.896244e-09</td>\n",
              "      <td>1.684181e-10</td>\n",
              "      <td>0.001555</td>\n",
              "      <td>0.000415</td>\n",
              "      <td>6.044761e-10</td>\n",
              "      <td>0.0</td>\n",
              "      <td>6.479374e-12</td>\n",
              "      <td>3.103486e-13</td>\n",
              "      <td>3.014400e-16</td>\n",
              "      <td>0.0</td>\n",
              "      <td>0.0</td>\n",
              "    </tr>\n",
              "  </tbody>\n",
              "</table>\n",
              "</div>"
            ],
            "text/plain": [
              "         Combined Feed to Benzene Column C660_Detailed Composition_Hydrogen_wt%  ...  Combined Feed to Benzene Column C660_Detailed Composition_Oxygen_wt%\n",
              "001-001                                                0.0                       ...                                                0.0                   \n",
              "001-002                                                0.0                       ...                                                0.0                   \n",
              "001-003                                                0.0                       ...                                                0.0                   \n",
              "\n",
              "[3 rows x 41 columns]"
            ]
          },
          "metadata": {
            "tags": []
          },
          "execution_count": 5
        }
      ]
    },
    {
      "cell_type": "code",
      "metadata": {
        "colab": {
          "base_uri": "https://localhost:8080/",
          "height": 314
        },
        "id": "KPV_49L6g7yA",
        "outputId": "383d988a-dd3f-4037-ebbc-dc54f14ab7a7"
      },
      "source": [
        "c660_feed = c660_df[c660_col['x41']]\n",
        "c660_feed.head(3)"
      ],
      "execution_count": 6,
      "outputs": [
        {
          "output_type": "execute_result",
          "data": {
            "text/html": [
              "<div>\n",
              "<style scoped>\n",
              "    .dataframe tbody tr th:only-of-type {\n",
              "        vertical-align: middle;\n",
              "    }\n",
              "\n",
              "    .dataframe tbody tr th {\n",
              "        vertical-align: top;\n",
              "    }\n",
              "\n",
              "    .dataframe thead th {\n",
              "        text-align: right;\n",
              "    }\n",
              "</style>\n",
              "<table border=\"1\" class=\"dataframe\">\n",
              "  <thead>\n",
              "    <tr style=\"text-align: right;\">\n",
              "      <th></th>\n",
              "      <th>Combined Feed to Benzene Column C660_Detailed Composition_Hydrogen_wt%</th>\n",
              "      <th>Combined Feed to Benzene Column C660_Detailed Composition_Methane_wt%</th>\n",
              "      <th>Combined Feed to Benzene Column C660_Detailed Composition_Ethane_wt%</th>\n",
              "      <th>Combined Feed to Benzene Column C660_Detailed Composition_Propane_wt%</th>\n",
              "      <th>Combined Feed to Benzene Column C660_Detailed Composition_n-Butane_wt%</th>\n",
              "      <th>Combined Feed to Benzene Column C660_Detailed Composition_n-Pentane_wt%</th>\n",
              "      <th>Combined Feed to Benzene Column C660_Detailed Composition_n-Hexane_wt%</th>\n",
              "      <th>Combined Feed to Benzene Column C660_Detailed Composition_Benzene_wt%</th>\n",
              "      <th>Combined Feed to Benzene Column C660_Detailed Composition_Cyclohexane_wt%</th>\n",
              "      <th>Combined Feed to Benzene Column C660_Detailed Composition_n-Heptane_wt%</th>\n",
              "      <th>Combined Feed to Benzene Column C660_Detailed Composition_Water_wt%</th>\n",
              "      <th>Combined Feed to Benzene Column C660_Detailed Composition_Methylcyclohexane_wt%</th>\n",
              "      <th>Combined Feed to Benzene Column C660_Detailed Composition_Toluene_wt%</th>\n",
              "      <th>Combined Feed to Benzene Column C660_Detailed Composition_n-Octane_wt%</th>\n",
              "      <th>Combined Feed to Benzene Column C660_Detailed Composition_n-Propylcyclopentane_wt%</th>\n",
              "      <th>Combined Feed to Benzene Column C660_Detailed Composition_Ethylcyclohexane_wt%</th>\n",
              "      <th>Combined Feed to Benzene Column C660_Detailed Composition_Ethylbenzene_wt%</th>\n",
              "      <th>Combined Feed to Benzene Column C660_Detailed Composition_p-Xylene_wt%</th>\n",
              "      <th>Combined Feed to Benzene Column C660_Detailed Composition_m-Xylene_wt%</th>\n",
              "      <th>Combined Feed to Benzene Column C660_Detailed Composition_o-Xylene_wt%</th>\n",
              "      <th>Combined Feed to Benzene Column C660_Detailed Composition_n-Nonane_wt%</th>\n",
              "      <th>Combined Feed to Benzene Column C660_Detailed Composition_i-Propylbenzene_wt%</th>\n",
              "      <th>Combined Feed to Benzene Column C660_Detailed Composition_n-Propylcyclohexane_wt%</th>\n",
              "      <th>Combined Feed to Benzene Column C660_Detailed Composition_n-Propylbenzene_wt%</th>\n",
              "      <th>Combined Feed to Benzene Column C660_Detailed Composition_1-Methyl-3-ethylbenzene_wt%</th>\n",
              "      <th>Combined Feed to Benzene Column C660_Detailed Composition_1-Methyl-4-ethylbenzene_wt%</th>\n",
              "      <th>Combined Feed to Benzene Column C660_Detailed Composition_1,3,5-Trimethylbenzene_wt%</th>\n",
              "      <th>Combined Feed to Benzene Column C660_Detailed Composition_1-Methyl-2-ethylbenzene_wt%</th>\n",
              "      <th>Combined Feed to Benzene Column C660_Detailed Composition_1,2,4-Trimethylbenzene_wt%</th>\n",
              "      <th>Combined Feed to Benzene Column C660_Detailed Composition_tert-Butylcyclohexane_wt%</th>\n",
              "      <th>Combined Feed to Benzene Column C660_Detailed Composition_1,2,3-Trimethylbenzene_wt%</th>\n",
              "      <th>Combined Feed to Benzene Column C660_Detailed Composition_Indane_wt%</th>\n",
              "      <th>Combined Feed to Benzene Column C660_Detailed Composition_1-Methyl-4-n-propylbenzene_wt%</th>\n",
              "      <th>Combined Feed to Benzene Column C660_Detailed Composition_1,2-Diethylbenzene_wt%</th>\n",
              "      <th>Combined Feed to Benzene Column C660_Detailed Composition_5-Ethyl-m-xylene_wt%</th>\n",
              "      <th>Combined Feed to Benzene Column C660_Detailed Composition_1,4-Diethylbenzene_wt%</th>\n",
              "      <th>Combined Feed to Benzene Column C660_Detailed Composition_1,2,3,5-Tetramethylbenzene_wt%</th>\n",
              "      <th>Combined Feed to Benzene Column C660_Detailed Composition_n-Pentylbenzene_wt%</th>\n",
              "      <th>Combined Feed to Benzene Column C660_Detailed Composition_n-Hexylbenzene_wt%</th>\n",
              "      <th>Combined Feed to Benzene Column C660_Detailed Composition_Nitrogen_wt%</th>\n",
              "      <th>Combined Feed to Benzene Column C660_Detailed Composition_Oxygen_wt%</th>\n",
              "    </tr>\n",
              "  </thead>\n",
              "  <tbody>\n",
              "    <tr>\n",
              "      <th>001-001</th>\n",
              "      <td>0.0</td>\n",
              "      <td>0.000175</td>\n",
              "      <td>0.011354</td>\n",
              "      <td>0.021681</td>\n",
              "      <td>0.014908</td>\n",
              "      <td>0.019511</td>\n",
              "      <td>0.030082</td>\n",
              "      <td>66.278221</td>\n",
              "      <td>0.02099</td>\n",
              "      <td>0.034398</td>\n",
              "      <td>0.0</td>\n",
              "      <td>0.014600</td>\n",
              "      <td>27.873569</td>\n",
              "      <td>0.028611</td>\n",
              "      <td>0.024798</td>\n",
              "      <td>0.020281</td>\n",
              "      <td>3.132133</td>\n",
              "      <td>0.632336</td>\n",
              "      <td>1.318029</td>\n",
              "      <td>0.365566</td>\n",
              "      <td>0.044484</td>\n",
              "      <td>1.951733e-08</td>\n",
              "      <td>0.098763</td>\n",
              "      <td>3.399222e-09</td>\n",
              "      <td>0.001142</td>\n",
              "      <td>0.001141</td>\n",
              "      <td>0.00223</td>\n",
              "      <td>0.00057</td>\n",
              "      <td>0.00057</td>\n",
              "      <td>0.00788</td>\n",
              "      <td>3.896395e-09</td>\n",
              "      <td>1.684246e-10</td>\n",
              "      <td>0.001555</td>\n",
              "      <td>0.000415</td>\n",
              "      <td>6.044996e-10</td>\n",
              "      <td>0.0</td>\n",
              "      <td>6.479631e-12</td>\n",
              "      <td>3.103609e-13</td>\n",
              "      <td>3.014521e-16</td>\n",
              "      <td>0.0</td>\n",
              "      <td>0.0</td>\n",
              "    </tr>\n",
              "    <tr>\n",
              "      <th>001-002</th>\n",
              "      <td>0.0</td>\n",
              "      <td>0.000175</td>\n",
              "      <td>0.011353</td>\n",
              "      <td>0.021678</td>\n",
              "      <td>0.014906</td>\n",
              "      <td>0.019510</td>\n",
              "      <td>0.030081</td>\n",
              "      <td>66.278244</td>\n",
              "      <td>0.02099</td>\n",
              "      <td>0.034399</td>\n",
              "      <td>0.0</td>\n",
              "      <td>0.014601</td>\n",
              "      <td>27.873554</td>\n",
              "      <td>0.028611</td>\n",
              "      <td>0.024798</td>\n",
              "      <td>0.020281</td>\n",
              "      <td>3.132135</td>\n",
              "      <td>0.632336</td>\n",
              "      <td>1.318029</td>\n",
              "      <td>0.365566</td>\n",
              "      <td>0.044484</td>\n",
              "      <td>1.951592e-08</td>\n",
              "      <td>0.098764</td>\n",
              "      <td>3.398968e-09</td>\n",
              "      <td>0.001142</td>\n",
              "      <td>0.001141</td>\n",
              "      <td>0.00223</td>\n",
              "      <td>0.00057</td>\n",
              "      <td>0.00057</td>\n",
              "      <td>0.00788</td>\n",
              "      <td>3.896086e-09</td>\n",
              "      <td>1.684114e-10</td>\n",
              "      <td>0.001555</td>\n",
              "      <td>0.000415</td>\n",
              "      <td>6.044514e-10</td>\n",
              "      <td>0.0</td>\n",
              "      <td>6.479096e-12</td>\n",
              "      <td>3.103352e-13</td>\n",
              "      <td>3.014266e-16</td>\n",
              "      <td>0.0</td>\n",
              "      <td>0.0</td>\n",
              "    </tr>\n",
              "    <tr>\n",
              "      <th>001-003</th>\n",
              "      <td>0.0</td>\n",
              "      <td>0.000175</td>\n",
              "      <td>0.011354</td>\n",
              "      <td>0.021680</td>\n",
              "      <td>0.014907</td>\n",
              "      <td>0.019510</td>\n",
              "      <td>0.030082</td>\n",
              "      <td>66.278236</td>\n",
              "      <td>0.02099</td>\n",
              "      <td>0.034398</td>\n",
              "      <td>0.0</td>\n",
              "      <td>0.014601</td>\n",
              "      <td>27.873554</td>\n",
              "      <td>0.028611</td>\n",
              "      <td>0.024798</td>\n",
              "      <td>0.020281</td>\n",
              "      <td>3.132135</td>\n",
              "      <td>0.632336</td>\n",
              "      <td>1.318029</td>\n",
              "      <td>0.365566</td>\n",
              "      <td>0.044484</td>\n",
              "      <td>1.951662e-08</td>\n",
              "      <td>0.098764</td>\n",
              "      <td>3.399095e-09</td>\n",
              "      <td>0.001142</td>\n",
              "      <td>0.001141</td>\n",
              "      <td>0.00223</td>\n",
              "      <td>0.00057</td>\n",
              "      <td>0.00057</td>\n",
              "      <td>0.00788</td>\n",
              "      <td>3.896244e-09</td>\n",
              "      <td>1.684181e-10</td>\n",
              "      <td>0.001555</td>\n",
              "      <td>0.000415</td>\n",
              "      <td>6.044760e-10</td>\n",
              "      <td>0.0</td>\n",
              "      <td>6.479373e-12</td>\n",
              "      <td>3.103485e-13</td>\n",
              "      <td>3.014400e-16</td>\n",
              "      <td>0.0</td>\n",
              "      <td>0.0</td>\n",
              "    </tr>\n",
              "  </tbody>\n",
              "</table>\n",
              "</div>"
            ],
            "text/plain": [
              "         Combined Feed to Benzene Column C660_Detailed Composition_Hydrogen_wt%  ...  Combined Feed to Benzene Column C660_Detailed Composition_Oxygen_wt%\n",
              "001-001                                                0.0                       ...                                                0.0                   \n",
              "001-002                                                0.0                       ...                                                0.0                   \n",
              "001-003                                                0.0                       ...                                                0.0                   \n",
              "\n",
              "[3 rows x 41 columns]"
            ]
          },
          "metadata": {
            "tags": []
          },
          "execution_count": 6
        }
      ]
    },
    {
      "cell_type": "code",
      "metadata": {
        "colab": {
          "base_uri": "https://localhost:8080/"
        },
        "id": "mh_kVG5mgO3X",
        "outputId": "777e5b6b-6b12-4f0a-8d69-51206e2ce535"
      },
      "source": [
        "np.allclose(c660_feed.values,c660_feed_pred.values)"
      ],
      "execution_count": 7,
      "outputs": [
        {
          "output_type": "execute_result",
          "data": {
            "text/plain": [
              "True"
            ]
          },
          "metadata": {
            "tags": []
          },
          "execution_count": 7
        }
      ]
    },
    {
      "cell_type": "markdown",
      "metadata": {
        "id": "MekwhgQiSOF4"
      },
      "source": [
        "# check c620,c660 -> c670"
      ]
    },
    {
      "cell_type": "code",
      "metadata": {
        "id": "PwG6ZKy8hW1B",
        "colab": {
          "base_uri": "https://localhost:8080/",
          "height": 348
        },
        "outputId": "7b9ce896-9951-4929-e815-cba8e8dc58a4"
      },
      "source": [
        "c660_w4 = c660_df[c660_col['bottoms_x']]\r\n",
        "c620_w4 = c620_df[c620_col['bottoms_x']]\r\n",
        "Tray_43_mfr = c670_mb.loc[:,['Toluene Column C670 Operation_Feed Properties \\n@ Tray 43_Mass Flow Rate_ton/hr']]\r\n",
        "Tray_54_mfr = c670_mb.loc[:,['Toluene Column C670 Operation_Feed Properties \\n@ Tray 54_Mass Flow Rate_ton/hr']]\r\n",
        "total = Tray_43_mfr.values + Tray_54_mfr.values\r\n",
        "Tray_43_mfr = Tray_43_mfr/total\r\n",
        "Tray_54_mfr = Tray_54_mfr/total\r\n",
        "combined_pred = c660_w4.values*Tray_43_mfr.values + c620_w4.values*Tray_54_mfr.values\r\n",
        "combined_pred = pd.DataFrame(combined_pred,index=idx,columns=c670_col['combined'])\r\n",
        "combined_pred.head(3)"
      ],
      "execution_count": 8,
      "outputs": [
        {
          "output_type": "execute_result",
          "data": {
            "text/html": [
              "<div>\n",
              "<style scoped>\n",
              "    .dataframe tbody tr th:only-of-type {\n",
              "        vertical-align: middle;\n",
              "    }\n",
              "\n",
              "    .dataframe tbody tr th {\n",
              "        vertical-align: top;\n",
              "    }\n",
              "\n",
              "    .dataframe thead th {\n",
              "        text-align: right;\n",
              "    }\n",
              "</style>\n",
              "<table border=\"1\" class=\"dataframe\">\n",
              "  <thead>\n",
              "    <tr style=\"text-align: right;\">\n",
              "      <th></th>\n",
              "      <th>Toluene Column C670 Operation_Combined Feed to Toluene Column C670 : Detailed weight % Composition_Hydrogen_wt%</th>\n",
              "      <th>Toluene Column C670 Operation_Combined Feed to Toluene Column C670 : Detailed weight % Composition_Methane_wt%</th>\n",
              "      <th>Toluene Column C670 Operation_Combined Feed to Toluene Column C670 : Detailed weight % Composition_Ethane_wt%</th>\n",
              "      <th>Toluene Column C670 Operation_Combined Feed to Toluene Column C670 : Detailed weight % Composition_Propane_wt%</th>\n",
              "      <th>Toluene Column C670 Operation_Combined Feed to Toluene Column C670 : Detailed weight % Composition_n-Butane_wt%</th>\n",
              "      <th>Toluene Column C670 Operation_Combined Feed to Toluene Column C670 : Detailed weight % Composition_n-Pentane_wt%</th>\n",
              "      <th>Toluene Column C670 Operation_Combined Feed to Toluene Column C670 : Detailed weight % Composition_n-Hexane_wt%</th>\n",
              "      <th>Toluene Column C670 Operation_Combined Feed to Toluene Column C670 : Detailed weight % Composition_Benzene_wt%</th>\n",
              "      <th>Toluene Column C670 Operation_Combined Feed to Toluene Column C670 : Detailed weight % Composition_Cyclohexane_wt%</th>\n",
              "      <th>Toluene Column C670 Operation_Combined Feed to Toluene Column C670 : Detailed weight % Composition_n-Heptane_wt%</th>\n",
              "      <th>Toluene Column C670 Operation_Combined Feed to Toluene Column C670 : Detailed weight % Composition_Water_wt%</th>\n",
              "      <th>Toluene Column C670 Operation_Combined Feed to Toluene Column C670 : Detailed weight % Composition_Methylcyclohexane_wt%</th>\n",
              "      <th>Toluene Column C670 Operation_Combined Feed to Toluene Column C670 : Detailed weight % Composition_Toluene_wt%</th>\n",
              "      <th>Toluene Column C670 Operation_Combined Feed to Toluene Column C670 : Detailed weight % Composition_n-Octane_wt%</th>\n",
              "      <th>Toluene Column C670 Operation_Combined Feed to Toluene Column C670 : Detailed weight % Composition_n-Propylcyclopentane_wt%</th>\n",
              "      <th>Toluene Column C670 Operation_Combined Feed to Toluene Column C670 : Detailed weight % Composition_Ethylcyclohexane_wt%</th>\n",
              "      <th>Toluene Column C670 Operation_Combined Feed to Toluene Column C670 : Detailed weight % Composition_Ethylbenzene_wt%</th>\n",
              "      <th>Toluene Column C670 Operation_Combined Feed to Toluene Column C670 : Detailed weight % Composition_p-Xylene_wt%</th>\n",
              "      <th>Toluene Column C670 Operation_Combined Feed to Toluene Column C670 : Detailed weight % Composition_m-Xylene_wt%</th>\n",
              "      <th>Toluene Column C670 Operation_Combined Feed to Toluene Column C670 : Detailed weight % Composition_o-Xylene_wt%</th>\n",
              "      <th>Toluene Column C670 Operation_Combined Feed to Toluene Column C670 : Detailed weight % Composition_n-Nonane_wt%</th>\n",
              "      <th>Toluene Column C670 Operation_Combined Feed to Toluene Column C670 : Detailed weight % Composition_i-Propylbenzene_wt%</th>\n",
              "      <th>Toluene Column C670 Operation_Combined Feed to Toluene Column C670 : Detailed weight % Composition_n-Propylcyclohexane_wt%</th>\n",
              "      <th>Toluene Column C670 Operation_Combined Feed to Toluene Column C670 : Detailed weight % Composition_n-Propylbenzene_wt%</th>\n",
              "      <th>Toluene Column C670 Operation_Combined Feed to Toluene Column C670 : Detailed weight % Composition_1-Methyl-3-ethylbenzene_wt%</th>\n",
              "      <th>Toluene Column C670 Operation_Combined Feed to Toluene Column C670 : Detailed weight % Composition_1-Methyl-4-ethylbenzene_wt%</th>\n",
              "      <th>Toluene Column C670 Operation_Combined Feed to Toluene Column C670 : Detailed weight % Composition_1,3,5-Trimethylbenzene_wt%</th>\n",
              "      <th>Toluene Column C670 Operation_Combined Feed to Toluene Column C670 : Detailed weight % Composition_1-Methyl-2-ethylbenzene_wt%</th>\n",
              "      <th>Toluene Column C670 Operation_Combined Feed to Toluene Column C670 : Detailed weight % Composition_1,2,4-Trimethylbenzene_wt%</th>\n",
              "      <th>Toluene Column C670 Operation_Combined Feed to Toluene Column C670 : Detailed weight % Composition_tert-Butylcyclohexane_wt%</th>\n",
              "      <th>Toluene Column C670 Operation_Combined Feed to Toluene Column C670 : Detailed weight % Composition_1,2,3-Trimethylbenzene_wt%</th>\n",
              "      <th>Toluene Column C670 Operation_Combined Feed to Toluene Column C670 : Detailed weight % Composition_Indane_wt%</th>\n",
              "      <th>Toluene Column C670 Operation_Combined Feed to Toluene Column C670 : Detailed weight % Composition_1-Methyl-4-n-propylbenzene_wt%</th>\n",
              "      <th>Toluene Column C670 Operation_Combined Feed to Toluene Column C670 : Detailed weight % Composition_1,2-Diethylbenzene_wt%</th>\n",
              "      <th>Toluene Column C670 Operation_Combined Feed to Toluene Column C670 : Detailed weight % Composition_5-Ethyl-m-xylene_wt%</th>\n",
              "      <th>Toluene Column C670 Operation_Combined Feed to Toluene Column C670 : Detailed weight % Composition_1,4-Diethylbenzene_wt%</th>\n",
              "      <th>Toluene Column C670 Operation_Combined Feed to Toluene Column C670 : Detailed weight % Composition_1,2,3,5-Tetramethylbenzene_wt%</th>\n",
              "      <th>Toluene Column C670 Operation_Combined Feed to Toluene Column C670 : Detailed weight % Composition_n-Pentylbenzene_wt%</th>\n",
              "      <th>Toluene Column C670 Operation_Combined Feed to Toluene Column C670 : Detailed weight % Composition_n-Hexylbenzene_wt%</th>\n",
              "      <th>Toluene Column C670 Operation_Combined Feed to Toluene Column C670 : Detailed weight % Composition_Nitrogen_wt%</th>\n",
              "      <th>Toluene Column C670 Operation_Combined Feed to Toluene Column C670 : Detailed weight % Composition_Oxygen_wt%</th>\n",
              "    </tr>\n",
              "  </thead>\n",
              "  <tbody>\n",
              "    <tr>\n",
              "      <th>001-001</th>\n",
              "      <td>0.0</td>\n",
              "      <td>0.0</td>\n",
              "      <td>0.0</td>\n",
              "      <td>0.0</td>\n",
              "      <td>4.424852e-24</td>\n",
              "      <td>1.517322e-16</td>\n",
              "      <td>1.353407e-09</td>\n",
              "      <td>0.218932</td>\n",
              "      <td>0.000173</td>\n",
              "      <td>0.003677</td>\n",
              "      <td>0.0</td>\n",
              "      <td>0.014934</td>\n",
              "      <td>50.471384</td>\n",
              "      <td>0.019318</td>\n",
              "      <td>0.019702</td>\n",
              "      <td>0.017998</td>\n",
              "      <td>2.190495</td>\n",
              "      <td>8.061416</td>\n",
              "      <td>17.576530</td>\n",
              "      <td>7.120586</td>\n",
              "      <td>0.031811</td>\n",
              "      <td>0.005885</td>\n",
              "      <td>0.040147</td>\n",
              "      <td>0.006866</td>\n",
              "      <td>0.962607</td>\n",
              "      <td>0.504568</td>\n",
              "      <td>2.554874</td>\n",
              "      <td>0.283670</td>\n",
              "      <td>6.523591</td>\n",
              "      <td>0.002977</td>\n",
              "      <td>1.041622</td>\n",
              "      <td>0.034328</td>\n",
              "      <td>0.001568</td>\n",
              "      <td>0.022715</td>\n",
              "      <td>0.881749</td>\n",
              "      <td>0.0</td>\n",
              "      <td>1.014159</td>\n",
              "      <td>0.259915</td>\n",
              "      <td>0.111812</td>\n",
              "      <td>0.0</td>\n",
              "      <td>0.0</td>\n",
              "    </tr>\n",
              "    <tr>\n",
              "      <th>001-002</th>\n",
              "      <td>0.0</td>\n",
              "      <td>0.0</td>\n",
              "      <td>0.0</td>\n",
              "      <td>0.0</td>\n",
              "      <td>4.425127e-24</td>\n",
              "      <td>1.517419e-16</td>\n",
              "      <td>1.353472e-09</td>\n",
              "      <td>0.218930</td>\n",
              "      <td>0.000173</td>\n",
              "      <td>0.003676</td>\n",
              "      <td>0.0</td>\n",
              "      <td>0.015163</td>\n",
              "      <td>50.471329</td>\n",
              "      <td>0.019319</td>\n",
              "      <td>0.019702</td>\n",
              "      <td>0.017998</td>\n",
              "      <td>2.190488</td>\n",
              "      <td>8.061389</td>\n",
              "      <td>17.576470</td>\n",
              "      <td>7.120560</td>\n",
              "      <td>0.031811</td>\n",
              "      <td>0.005885</td>\n",
              "      <td>0.040147</td>\n",
              "      <td>0.006866</td>\n",
              "      <td>0.962603</td>\n",
              "      <td>0.504566</td>\n",
              "      <td>2.554866</td>\n",
              "      <td>0.283669</td>\n",
              "      <td>6.523568</td>\n",
              "      <td>0.002977</td>\n",
              "      <td>1.041618</td>\n",
              "      <td>0.034328</td>\n",
              "      <td>0.001568</td>\n",
              "      <td>0.022715</td>\n",
              "      <td>0.881746</td>\n",
              "      <td>0.0</td>\n",
              "      <td>1.014155</td>\n",
              "      <td>0.259914</td>\n",
              "      <td>0.111812</td>\n",
              "      <td>0.0</td>\n",
              "      <td>0.0</td>\n",
              "    </tr>\n",
              "    <tr>\n",
              "      <th>001-003</th>\n",
              "      <td>0.0</td>\n",
              "      <td>0.0</td>\n",
              "      <td>0.0</td>\n",
              "      <td>0.0</td>\n",
              "      <td>4.424987e-24</td>\n",
              "      <td>1.517366e-16</td>\n",
              "      <td>1.353417e-09</td>\n",
              "      <td>0.218930</td>\n",
              "      <td>0.000173</td>\n",
              "      <td>0.003676</td>\n",
              "      <td>0.0</td>\n",
              "      <td>0.015339</td>\n",
              "      <td>50.471270</td>\n",
              "      <td>0.019320</td>\n",
              "      <td>0.019702</td>\n",
              "      <td>0.017998</td>\n",
              "      <td>2.190483</td>\n",
              "      <td>8.061370</td>\n",
              "      <td>17.576429</td>\n",
              "      <td>7.120544</td>\n",
              "      <td>0.031811</td>\n",
              "      <td>0.005885</td>\n",
              "      <td>0.040147</td>\n",
              "      <td>0.006866</td>\n",
              "      <td>0.962601</td>\n",
              "      <td>0.504565</td>\n",
              "      <td>2.554859</td>\n",
              "      <td>0.283668</td>\n",
              "      <td>6.523552</td>\n",
              "      <td>0.002977</td>\n",
              "      <td>1.041615</td>\n",
              "      <td>0.034328</td>\n",
              "      <td>0.001568</td>\n",
              "      <td>0.022715</td>\n",
              "      <td>0.881744</td>\n",
              "      <td>0.0</td>\n",
              "      <td>1.014153</td>\n",
              "      <td>0.259913</td>\n",
              "      <td>0.111812</td>\n",
              "      <td>0.0</td>\n",
              "      <td>0.0</td>\n",
              "    </tr>\n",
              "  </tbody>\n",
              "</table>\n",
              "</div>"
            ],
            "text/plain": [
              "         Toluene Column C670 Operation_Combined Feed to Toluene Column C670 : Detailed weight % Composition_Hydrogen_wt%  ...  Toluene Column C670 Operation_Combined Feed to Toluene Column C670 : Detailed weight % Composition_Oxygen_wt%\n",
              "001-001                                                0.0                                                                ...                                                0.0                                                            \n",
              "001-002                                                0.0                                                                ...                                                0.0                                                            \n",
              "001-003                                                0.0                                                                ...                                                0.0                                                            \n",
              "\n",
              "[3 rows x 41 columns]"
            ]
          },
          "metadata": {
            "tags": []
          },
          "execution_count": 8
        }
      ]
    },
    {
      "cell_type": "code",
      "metadata": {
        "colab": {
          "base_uri": "https://localhost:8080/",
          "height": 348
        },
        "id": "1iW9goceTx5I",
        "outputId": "eeda6e45-4210-4a93-e7ce-03c88af6efb2"
      },
      "source": [
        "combined = c670_df[c670_col['combined']]\r\n",
        "combined.head(3)"
      ],
      "execution_count": 9,
      "outputs": [
        {
          "output_type": "execute_result",
          "data": {
            "text/html": [
              "<div>\n",
              "<style scoped>\n",
              "    .dataframe tbody tr th:only-of-type {\n",
              "        vertical-align: middle;\n",
              "    }\n",
              "\n",
              "    .dataframe tbody tr th {\n",
              "        vertical-align: top;\n",
              "    }\n",
              "\n",
              "    .dataframe thead th {\n",
              "        text-align: right;\n",
              "    }\n",
              "</style>\n",
              "<table border=\"1\" class=\"dataframe\">\n",
              "  <thead>\n",
              "    <tr style=\"text-align: right;\">\n",
              "      <th></th>\n",
              "      <th>Toluene Column C670 Operation_Combined Feed to Toluene Column C670 : Detailed weight % Composition_Hydrogen_wt%</th>\n",
              "      <th>Toluene Column C670 Operation_Combined Feed to Toluene Column C670 : Detailed weight % Composition_Methane_wt%</th>\n",
              "      <th>Toluene Column C670 Operation_Combined Feed to Toluene Column C670 : Detailed weight % Composition_Ethane_wt%</th>\n",
              "      <th>Toluene Column C670 Operation_Combined Feed to Toluene Column C670 : Detailed weight % Composition_Propane_wt%</th>\n",
              "      <th>Toluene Column C670 Operation_Combined Feed to Toluene Column C670 : Detailed weight % Composition_n-Butane_wt%</th>\n",
              "      <th>Toluene Column C670 Operation_Combined Feed to Toluene Column C670 : Detailed weight % Composition_n-Pentane_wt%</th>\n",
              "      <th>Toluene Column C670 Operation_Combined Feed to Toluene Column C670 : Detailed weight % Composition_n-Hexane_wt%</th>\n",
              "      <th>Toluene Column C670 Operation_Combined Feed to Toluene Column C670 : Detailed weight % Composition_Benzene_wt%</th>\n",
              "      <th>Toluene Column C670 Operation_Combined Feed to Toluene Column C670 : Detailed weight % Composition_Cyclohexane_wt%</th>\n",
              "      <th>Toluene Column C670 Operation_Combined Feed to Toluene Column C670 : Detailed weight % Composition_n-Heptane_wt%</th>\n",
              "      <th>Toluene Column C670 Operation_Combined Feed to Toluene Column C670 : Detailed weight % Composition_Water_wt%</th>\n",
              "      <th>Toluene Column C670 Operation_Combined Feed to Toluene Column C670 : Detailed weight % Composition_Methylcyclohexane_wt%</th>\n",
              "      <th>Toluene Column C670 Operation_Combined Feed to Toluene Column C670 : Detailed weight % Composition_Toluene_wt%</th>\n",
              "      <th>Toluene Column C670 Operation_Combined Feed to Toluene Column C670 : Detailed weight % Composition_n-Octane_wt%</th>\n",
              "      <th>Toluene Column C670 Operation_Combined Feed to Toluene Column C670 : Detailed weight % Composition_n-Propylcyclopentane_wt%</th>\n",
              "      <th>Toluene Column C670 Operation_Combined Feed to Toluene Column C670 : Detailed weight % Composition_Ethylcyclohexane_wt%</th>\n",
              "      <th>Toluene Column C670 Operation_Combined Feed to Toluene Column C670 : Detailed weight % Composition_Ethylbenzene_wt%</th>\n",
              "      <th>Toluene Column C670 Operation_Combined Feed to Toluene Column C670 : Detailed weight % Composition_p-Xylene_wt%</th>\n",
              "      <th>Toluene Column C670 Operation_Combined Feed to Toluene Column C670 : Detailed weight % Composition_m-Xylene_wt%</th>\n",
              "      <th>Toluene Column C670 Operation_Combined Feed to Toluene Column C670 : Detailed weight % Composition_o-Xylene_wt%</th>\n",
              "      <th>Toluene Column C670 Operation_Combined Feed to Toluene Column C670 : Detailed weight % Composition_n-Nonane_wt%</th>\n",
              "      <th>Toluene Column C670 Operation_Combined Feed to Toluene Column C670 : Detailed weight % Composition_i-Propylbenzene_wt%</th>\n",
              "      <th>Toluene Column C670 Operation_Combined Feed to Toluene Column C670 : Detailed weight % Composition_n-Propylcyclohexane_wt%</th>\n",
              "      <th>Toluene Column C670 Operation_Combined Feed to Toluene Column C670 : Detailed weight % Composition_n-Propylbenzene_wt%</th>\n",
              "      <th>Toluene Column C670 Operation_Combined Feed to Toluene Column C670 : Detailed weight % Composition_1-Methyl-3-ethylbenzene_wt%</th>\n",
              "      <th>Toluene Column C670 Operation_Combined Feed to Toluene Column C670 : Detailed weight % Composition_1-Methyl-4-ethylbenzene_wt%</th>\n",
              "      <th>Toluene Column C670 Operation_Combined Feed to Toluene Column C670 : Detailed weight % Composition_1,3,5-Trimethylbenzene_wt%</th>\n",
              "      <th>Toluene Column C670 Operation_Combined Feed to Toluene Column C670 : Detailed weight % Composition_1-Methyl-2-ethylbenzene_wt%</th>\n",
              "      <th>Toluene Column C670 Operation_Combined Feed to Toluene Column C670 : Detailed weight % Composition_1,2,4-Trimethylbenzene_wt%</th>\n",
              "      <th>Toluene Column C670 Operation_Combined Feed to Toluene Column C670 : Detailed weight % Composition_tert-Butylcyclohexane_wt%</th>\n",
              "      <th>Toluene Column C670 Operation_Combined Feed to Toluene Column C670 : Detailed weight % Composition_1,2,3-Trimethylbenzene_wt%</th>\n",
              "      <th>Toluene Column C670 Operation_Combined Feed to Toluene Column C670 : Detailed weight % Composition_Indane_wt%</th>\n",
              "      <th>Toluene Column C670 Operation_Combined Feed to Toluene Column C670 : Detailed weight % Composition_1-Methyl-4-n-propylbenzene_wt%</th>\n",
              "      <th>Toluene Column C670 Operation_Combined Feed to Toluene Column C670 : Detailed weight % Composition_1,2-Diethylbenzene_wt%</th>\n",
              "      <th>Toluene Column C670 Operation_Combined Feed to Toluene Column C670 : Detailed weight % Composition_5-Ethyl-m-xylene_wt%</th>\n",
              "      <th>Toluene Column C670 Operation_Combined Feed to Toluene Column C670 : Detailed weight % Composition_1,4-Diethylbenzene_wt%</th>\n",
              "      <th>Toluene Column C670 Operation_Combined Feed to Toluene Column C670 : Detailed weight % Composition_1,2,3,5-Tetramethylbenzene_wt%</th>\n",
              "      <th>Toluene Column C670 Operation_Combined Feed to Toluene Column C670 : Detailed weight % Composition_n-Pentylbenzene_wt%</th>\n",
              "      <th>Toluene Column C670 Operation_Combined Feed to Toluene Column C670 : Detailed weight % Composition_n-Hexylbenzene_wt%</th>\n",
              "      <th>Toluene Column C670 Operation_Combined Feed to Toluene Column C670 : Detailed weight % Composition_Nitrogen_wt%</th>\n",
              "      <th>Toluene Column C670 Operation_Combined Feed to Toluene Column C670 : Detailed weight % Composition_Oxygen_wt%</th>\n",
              "    </tr>\n",
              "  </thead>\n",
              "  <tbody>\n",
              "    <tr>\n",
              "      <th>001-001</th>\n",
              "      <td>0.0</td>\n",
              "      <td>0.0</td>\n",
              "      <td>0.0</td>\n",
              "      <td>0.0</td>\n",
              "      <td>0.0</td>\n",
              "      <td>0.0</td>\n",
              "      <td>0.0</td>\n",
              "      <td>0.218932</td>\n",
              "      <td>0.000173</td>\n",
              "      <td>0.003677</td>\n",
              "      <td>0.0</td>\n",
              "      <td>0.014934</td>\n",
              "      <td>50.471396</td>\n",
              "      <td>0.019317</td>\n",
              "      <td>0.019702</td>\n",
              "      <td>0.017998</td>\n",
              "      <td>2.190489</td>\n",
              "      <td>8.061415</td>\n",
              "      <td>17.576528</td>\n",
              "      <td>7.120585</td>\n",
              "      <td>0.031811</td>\n",
              "      <td>0.005885</td>\n",
              "      <td>0.040147</td>\n",
              "      <td>0.006866</td>\n",
              "      <td>0.962607</td>\n",
              "      <td>0.504568</td>\n",
              "      <td>2.554874</td>\n",
              "      <td>0.283670</td>\n",
              "      <td>6.523591</td>\n",
              "      <td>0.002977</td>\n",
              "      <td>1.041622</td>\n",
              "      <td>0.034328</td>\n",
              "      <td>0.001568</td>\n",
              "      <td>0.022715</td>\n",
              "      <td>0.881749</td>\n",
              "      <td>0.0</td>\n",
              "      <td>1.014159</td>\n",
              "      <td>0.259915</td>\n",
              "      <td>0.111812</td>\n",
              "      <td>0.0</td>\n",
              "      <td>0.0</td>\n",
              "    </tr>\n",
              "    <tr>\n",
              "      <th>001-002</th>\n",
              "      <td>0.0</td>\n",
              "      <td>0.0</td>\n",
              "      <td>0.0</td>\n",
              "      <td>0.0</td>\n",
              "      <td>0.0</td>\n",
              "      <td>0.0</td>\n",
              "      <td>0.0</td>\n",
              "      <td>0.218930</td>\n",
              "      <td>0.000173</td>\n",
              "      <td>0.003676</td>\n",
              "      <td>0.0</td>\n",
              "      <td>0.015163</td>\n",
              "      <td>50.471338</td>\n",
              "      <td>0.019319</td>\n",
              "      <td>0.019702</td>\n",
              "      <td>0.017998</td>\n",
              "      <td>2.190482</td>\n",
              "      <td>8.061388</td>\n",
              "      <td>17.576468</td>\n",
              "      <td>7.120560</td>\n",
              "      <td>0.031811</td>\n",
              "      <td>0.005885</td>\n",
              "      <td>0.040147</td>\n",
              "      <td>0.006866</td>\n",
              "      <td>0.962603</td>\n",
              "      <td>0.504566</td>\n",
              "      <td>2.554866</td>\n",
              "      <td>0.283669</td>\n",
              "      <td>6.523568</td>\n",
              "      <td>0.002977</td>\n",
              "      <td>1.041618</td>\n",
              "      <td>0.034328</td>\n",
              "      <td>0.001568</td>\n",
              "      <td>0.022715</td>\n",
              "      <td>0.881746</td>\n",
              "      <td>0.0</td>\n",
              "      <td>1.014155</td>\n",
              "      <td>0.259914</td>\n",
              "      <td>0.111812</td>\n",
              "      <td>0.0</td>\n",
              "      <td>0.0</td>\n",
              "    </tr>\n",
              "    <tr>\n",
              "      <th>001-003</th>\n",
              "      <td>0.0</td>\n",
              "      <td>0.0</td>\n",
              "      <td>0.0</td>\n",
              "      <td>0.0</td>\n",
              "      <td>0.0</td>\n",
              "      <td>0.0</td>\n",
              "      <td>0.0</td>\n",
              "      <td>0.218930</td>\n",
              "      <td>0.000173</td>\n",
              "      <td>0.003676</td>\n",
              "      <td>0.0</td>\n",
              "      <td>0.015339</td>\n",
              "      <td>50.471280</td>\n",
              "      <td>0.019320</td>\n",
              "      <td>0.019702</td>\n",
              "      <td>0.017998</td>\n",
              "      <td>2.190477</td>\n",
              "      <td>8.061369</td>\n",
              "      <td>17.576426</td>\n",
              "      <td>7.120543</td>\n",
              "      <td>0.031811</td>\n",
              "      <td>0.005885</td>\n",
              "      <td>0.040147</td>\n",
              "      <td>0.006866</td>\n",
              "      <td>0.962601</td>\n",
              "      <td>0.504565</td>\n",
              "      <td>2.554859</td>\n",
              "      <td>0.283668</td>\n",
              "      <td>6.523552</td>\n",
              "      <td>0.002977</td>\n",
              "      <td>1.041615</td>\n",
              "      <td>0.034328</td>\n",
              "      <td>0.001568</td>\n",
              "      <td>0.022715</td>\n",
              "      <td>0.881744</td>\n",
              "      <td>0.0</td>\n",
              "      <td>1.014153</td>\n",
              "      <td>0.259913</td>\n",
              "      <td>0.111812</td>\n",
              "      <td>0.0</td>\n",
              "      <td>0.0</td>\n",
              "    </tr>\n",
              "  </tbody>\n",
              "</table>\n",
              "</div>"
            ],
            "text/plain": [
              "         Toluene Column C670 Operation_Combined Feed to Toluene Column C670 : Detailed weight % Composition_Hydrogen_wt%  ...  Toluene Column C670 Operation_Combined Feed to Toluene Column C670 : Detailed weight % Composition_Oxygen_wt%\n",
              "001-001                                                0.0                                                                ...                                                0.0                                                            \n",
              "001-002                                                0.0                                                                ...                                                0.0                                                            \n",
              "001-003                                                0.0                                                                ...                                                0.0                                                            \n",
              "\n",
              "[3 rows x 41 columns]"
            ]
          },
          "metadata": {
            "tags": []
          },
          "execution_count": 9
        }
      ]
    },
    {
      "cell_type": "code",
      "metadata": {
        "colab": {
          "base_uri": "https://localhost:8080/"
        },
        "id": "pBPtLtAeUG3A",
        "outputId": "bc8e6f5d-7294-4839-a2a8-b371e94b46a4"
      },
      "source": [
        "np.allclose(combined_pred.values,combined.values)"
      ],
      "execution_count": 10,
      "outputs": [
        {
          "output_type": "execute_result",
          "data": {
            "text/plain": [
              "True"
            ]
          },
          "metadata": {
            "tags": []
          },
          "execution_count": 10
        }
      ]
    },
    {
      "cell_type": "markdown",
      "metadata": {
        "id": "1IIX4P1gEKnQ"
      },
      "source": [
        "# bf(c670混參比例) 41*2 check"
      ]
    },
    {
      "cell_type": "markdown",
      "metadata": {
        "id": "GDPTuxnaGAEw"
      },
      "source": [
        "# 修改前"
      ]
    },
    {
      "cell_type": "code",
      "metadata": {
        "id": "G6mjtjWFAgeQ",
        "colab": {
          "base_uri": "https://localhost:8080/"
        },
        "outputId": "42dae2d3-a99f-4563-c45c-8e9ca51af3b7"
      },
      "source": [
        "np.allclose(c670_df[c670_col['upper_bf']].values+c670_df[c670_col['lower_bf']].values,1.0)"
      ],
      "execution_count": 11,
      "outputs": [
        {
          "output_type": "execute_result",
          "data": {
            "text/plain": [
              "True"
            ]
          },
          "metadata": {
            "tags": []
          },
          "execution_count": 11
        }
      ]
    },
    {
      "cell_type": "code",
      "metadata": {
        "id": "ogqRFKi7AgkQ",
        "colab": {
          "base_uri": "https://localhost:8080/",
          "height": 608
        },
        "outputId": "44d48985-efc1-4daa-a0b6-ae8c4a885fd1"
      },
      "source": [
        "# 根據條件修改值\n",
        "a = c670_df[c670_col['upper_bf']+c670_col['lower_bf']]\n",
        "紫色零點零欄位 = a[a==0.0].dropna(axis=1).columns.tolist()\n",
        "紫色零點一欄位 = a[a==0.1].dropna(axis=1).columns.tolist()\n",
        "紫色零點九欄位 = a[a==0.9].dropna(axis=1).columns.tolist()\n",
        "紫色一點零欄位 = a[a==1.0].dropna(axis=1).columns.tolist()\n",
        "print('修改欄位數量:',len(紫色零點零欄位+紫色零點一欄位+紫色零點九欄位+紫色一點零欄位))\n",
        "c670_df.loc[:,紫色零點零欄位] = 0.0001 \n",
        "c670_df.loc[:,紫色零點一欄位] = 0.0001 \n",
        "c670_df.loc[:,紫色零點九欄位] = 0.9999\n",
        "c670_df.loc[:,紫色一點零欄位] = 0.9999\n",
        "c670_df[紫色零點零欄位+紫色零點一欄位+紫色零點九欄位+紫色一點零欄位].head()\n",
        "\n",
        "# 確認質量平衡\n",
        "print(np.allclose(c670_df[c670_col['upper_bf']].values+c670_df[c670_col['lower_bf']].values,1.0))\n",
        "\n",
        "# 用bf轉換成combined\n",
        "x1 = c670_df.loc[idx,c670_col['xTray43']].values\n",
        "x2 = c670_df.loc[idx,c670_col['xTray54']].values\n",
        "bf1 = c670_df.loc[idx,c670_col['upper_bf']].values\n",
        "bf2 = c670_df.loc[idx,c670_col['lower_bf']].values\n",
        "print(x1.shape,x2.shape,bf1.shape,bf2.shape)\n",
        "combined_real = c670_df.loc[idx,c670_col['combined']].values\n",
        "combined_pred = x1*bf1 + x2*bf2\n",
        "print(np.allclose(combined_real,combined_pred))\n",
        "plt.imshow(combined_real[:41])\n",
        "plt.show()\n",
        "plt.imshow(combined_pred[:41])"
      ],
      "execution_count": 12,
      "outputs": [
        {
          "output_type": "stream",
          "text": [
            "修改欄位數量: 24\n",
            "True\n",
            "(15547, 41) (15547, 41) (15547, 41) (15547, 41)\n",
            "False\n"
          ],
          "name": "stdout"
        },
        {
          "output_type": "display_data",
          "data": {
            "image/png": "[encoded data removed]",
            "text/plain": [
              "<Figure size 432x288 with 1 Axes>"
            ]
          },
          "metadata": {
            "tags": [],
            "needs_background": "light"
          }
        },
        {
          "output_type": "execute_result",
          "data": {
            "text/plain": [
              "<matplotlib.image.AxesImage at 0x7f11b8bb7e10>"
            ]
          },
          "metadata": {
            "tags": []
          },
          "execution_count": 12
        },
        {
          "output_type": "display_data",
          "data": {
            "image/png": "[encoded data removed]",
            "text/plain": [
              "<Figure size 432x288 with 1 Axes>"
            ]
          },
          "metadata": {
            "tags": [],
            "needs_background": "light"
          }
        }
      ]
    },
    {
      "cell_type": "markdown",
      "metadata": {
        "id": "ZouCZLUMPSZh"
      },
      "source": [
        "# check massblance"
      ]
    },
    {
      "cell_type": "code",
      "metadata": {
        "id": "VhpD6TUHaF7d",
        "colab": {
          "base_uri": "https://localhost:8080/"
        },
        "outputId": "48fd15a5-9296-4e40-af3c-32b0b64ee9eb"
      },
      "source": [
        "np.allclose(c620_mb.iloc[:,0].values,c620_mb.iloc[:,1:].sum(axis=1).values),\\\n",
        "np.allclose(c660_mb.iloc[:,0].values,c660_mb.iloc[:,1:].sum(axis=1).values),\\\n",
        "np.allclose(c670_mb.iloc[:,[0,1]].sum(axis=1).values,c670_mb.iloc[:,[2,3]].sum(axis=1).values)"
      ],
      "execution_count": 13,
      "outputs": [
        {
          "output_type": "execute_result",
          "data": {
            "text/plain": [
              "(True, True, True)"
            ]
          },
          "metadata": {
            "tags": []
          },
          "execution_count": 13
        }
      ]
    },
    {
      "cell_type": "code",
      "metadata": {
        "id": "IIzhF6mpSFHs"
      },
      "source": [
        "def check_massblance(df,mb,c,name):\n",
        "  if (name == 'c620') or (name == 'c660'):\n",
        "    feed = df[c['x41']]*mb.iloc[:,0].values.reshape(-1,1)\n",
        "    wt1 = df[c['vent_gas_x']]*mb.iloc[:,1].values.reshape(-1,1)\n",
        "    wt2 = df[c['distillate_x']]*mb.iloc[:,2].values.reshape(-1,1)\n",
        "    wt3 = df[c['sidedraw_x']]*mb.iloc[:,3].values.reshape(-1,1)\n",
        "    wt4 = df[c['bottoms_x']]*mb.iloc[:,4].values.reshape(-1,1)\n",
        "    a = feed.values\n",
        "    b = wt1.values+wt2.values+wt3.values+wt4.values\n",
        "    print(np.allclose(a,b,atol=2e-2))\n",
        "    print('mean error:',np.abs(a-b).mean())\n",
        "    return pd.DataFrame(a),pd.DataFrame(b)\n",
        "  elif name == 'c670':\n",
        "    feed1 = df[c['xTray43']]*mb.loc[:,'Toluene Column C670 Operation_Feed Properties \\n@ Tray 43_Mass Flow Rate_ton/hr'].values.reshape(-1,1)\n",
        "    feed2 = df[c['xTray54']]*mb.loc[:,'Toluene Column C670 Operation_Feed Properties \\n@ Tray 54_Mass Flow Rate_ton/hr'].values.reshape(-1,1)\n",
        "    wt1 = df[c['distillate_x']]*mb.iloc[:,2].values.reshape(-1,1)\n",
        "    wt2 = df[c['bottoms_x']]*mb.iloc[:,3].values.reshape(-1,1)\n",
        "    a = feed1.values+feed2.values\n",
        "    b = wt1.values+wt2.values\n",
        "    print(np.allclose(a,b,atol=2e-2))\n",
        "    print('mean error:',np.abs(a-b).mean())\n",
        "    return pd.DataFrame(a),pd.DataFrame(b)"
      ],
      "execution_count": 14,
      "outputs": []
    },
    {
      "cell_type": "code",
      "metadata": {
        "id": "wsDrKDafS4or",
        "colab": {
          "base_uri": "https://localhost:8080/",
          "height": 572
        },
        "outputId": "a79bf437-33d4-48e9-f252-f30c8773c618"
      },
      "source": [
        "a,b = check_massblance(c620_df,c620_mb,c620_col,'c620')\n",
        "idx = a.sample(41).index\n",
        "plt.imshow(a.loc[idx].values)\n",
        "plt.show()\n",
        "plt.imshow(b.loc[idx].values)"
      ],
      "execution_count": 15,
      "outputs": [
        {
          "output_type": "stream",
          "text": [
            "True\n",
            "mean error: 6.271399251612663e-05\n"
          ],
          "name": "stdout"
        },
        {
          "output_type": "display_data",
          "data": {
            "image/png": "[encoded data removed]",
            "text/plain": [
              "<Figure size 432x288 with 1 Axes>"
            ]
          },
          "metadata": {
            "tags": [],
            "needs_background": "light"
          }
        },
        {
          "output_type": "execute_result",
          "data": {
            "text/plain": [
              "<matplotlib.image.AxesImage at 0x7f11b8a97160>"
            ]
          },
          "metadata": {
            "tags": []
          },
          "execution_count": 15
        },
        {
          "output_type": "display_data",
          "data": {
            "image/png": "[encoded data removed]",
            "text/plain": [
              "<Figure size 432x288 with 1 Axes>"
            ]
          },
          "metadata": {
            "tags": [],
            "needs_background": "light"
          }
        }
      ]
    },
    {
      "cell_type": "code",
      "metadata": {
        "id": "bKQhnZZVYdsx",
        "colab": {
          "base_uri": "https://localhost:8080/"
        },
        "outputId": "3ab4b488-de9e-41a2-a418-f5ab1ef494b2"
      },
      "source": [
        "a.loc[idx].values,b.loc[idx].values"
      ],
      "execution_count": 16,
      "outputs": [
        {
          "output_type": "execute_result",
          "data": {
            "text/plain": [
              "(array([[ 0.        ,  3.76802653, 91.0355229 , ..., 17.18220033,\n",
              "          0.        ,  0.        ],\n",
              "        [ 0.        ,  3.76802581, 91.03550551, ..., 17.18219826,\n",
              "          0.        ,  0.        ],\n",
              "        [ 0.        ,  3.45564235, 83.79931747, ..., 26.09009805,\n",
              "          0.        ,  0.        ],\n",
              "        ...,\n",
              "        [ 0.        ,  3.50964762, 84.79308169, ..., 16.00399234,\n",
              "          0.        ,  0.        ],\n",
              "        [ 0.        ,  4.04793594, 97.79810843, ..., 18.45858773,\n",
              "          0.        ,  0.        ],\n",
              "        [ 0.        ,  3.50964762, 84.79308169, ..., 16.00399234,\n",
              "          0.        ,  0.        ]]),\n",
              " array([[ 0.        ,  3.7680263 , 91.03551167, ..., 17.18220106,\n",
              "          0.        ,  0.        ],\n",
              "        [ 0.        ,  3.76802546, 91.03549207, ..., 17.18219183,\n",
              "          0.        ,  0.        ],\n",
              "        [ 0.        ,  3.4556427 , 83.79933671, ..., 26.09010201,\n",
              "          0.        ,  0.        ],\n",
              "        ...,\n",
              "        [ 0.        ,  3.50964791, 84.79308001, ..., 16.00399235,\n",
              "          0.        ,  0.        ],\n",
              "        [ 0.        ,  4.047937  , 97.79814379, ..., 18.45859105,\n",
              "          0.        ,  0.        ],\n",
              "        [ 0.        ,  3.5096465 , 84.79306905, ..., 16.0039905 ,\n",
              "          0.        ,  0.        ]]))"
            ]
          },
          "metadata": {
            "tags": []
          },
          "execution_count": 16
        }
      ]
    },
    {
      "cell_type": "code",
      "metadata": {
        "id": "O9UfsqjDQH_Q",
        "colab": {
          "base_uri": "https://localhost:8080/",
          "height": 572
        },
        "outputId": "43335768-3ea1-4eae-de9d-bc6266de30c6"
      },
      "source": [
        "a,b = check_massblance(c660_df,c660_mb,c660_col,'c660')\n",
        "idx = a.sample(41).index\n",
        "plt.imshow(a.loc[idx].values)\n",
        "plt.show()\n",
        "plt.imshow(b.loc[idx].values)"
      ],
      "execution_count": 17,
      "outputs": [
        {
          "output_type": "stream",
          "text": [
            "True\n",
            "mean error: 2.9024358135451845e-05\n"
          ],
          "name": "stdout"
        },
        {
          "output_type": "display_data",
          "data": {
            "image/png": "[encoded data removed]",
            "text/plain": [
              "<Figure size 432x288 with 1 Axes>"
            ]
          },
          "metadata": {
            "tags": [],
            "needs_background": "light"
          }
        },
        {
          "output_type": "execute_result",
          "data": {
            "text/plain": [
              "<matplotlib.image.AxesImage at 0x7f11b89dcef0>"
            ]
          },
          "metadata": {
            "tags": []
          },
          "execution_count": 17
        },
        {
          "output_type": "display_data",
          "data": {
            "image/png": "[encoded data removed]",
            "text/plain": [
              "<Figure size 432x288 with 1 Axes>"
            ]
          },
          "metadata": {
            "tags": [],
            "needs_background": "light"
          }
        }
      ]
    },
    {
      "cell_type": "code",
      "metadata": {
        "id": "Rm7zYQjHYcuw",
        "colab": {
          "base_uri": "https://localhost:8080/"
        },
        "outputId": "a91874d0-e8cc-444b-d48b-362dafef1f37"
      },
      "source": [
        "a.loc[idx].values,b.loc[idx].values"
      ],
      "execution_count": 18,
      "outputs": [
        {
          "output_type": "execute_result",
          "data": {
            "text/plain": [
              "(array([[0.00000000e+00, 1.11690830e-02, 7.27094410e-01, ...,\n",
              "         4.37626145e-13, 0.00000000e+00, 0.00000000e+00],\n",
              "        [0.00000000e+00, 1.02184604e-02, 6.61295097e-01, ...,\n",
              "         1.74225810e-14, 0.00000000e+00, 0.00000000e+00],\n",
              "        [0.00000000e+00, 1.07652323e-02, 6.96692935e-01, ...,\n",
              "         1.82042894e-14, 0.00000000e+00, 0.00000000e+00],\n",
              "        ...,\n",
              "        [0.00000000e+00, 1.24708269e-02, 8.11927830e-01, ...,\n",
              "         4.60904790e-13, 0.00000000e+00, 0.00000000e+00],\n",
              "        [0.00000000e+00, 8.40853553e-03, 5.46655236e-01, ...,\n",
              "         8.70836118e-14, 0.00000000e+00, 0.00000000e+00],\n",
              "        [0.00000000e+00, 9.97616736e-03, 6.49449508e-01, ...,\n",
              "         3.30504368e-13, 0.00000000e+00, 0.00000000e+00]]),\n",
              " array([[0.00000000e+00, 1.11690830e-02, 7.27094487e-01, ...,\n",
              "         4.37626192e-13, 0.00000000e+00, 0.00000000e+00],\n",
              "        [0.00000000e+00, 1.02184615e-02, 6.61295149e-01, ...,\n",
              "         1.74225838e-14, 0.00000000e+00, 0.00000000e+00],\n",
              "        [0.00000000e+00, 1.07652310e-02, 6.96692902e-01, ...,\n",
              "         1.82042810e-14, 0.00000000e+00, 0.00000000e+00],\n",
              "        ...,\n",
              "        [0.00000000e+00, 1.24708255e-02, 8.11927692e-01, ...,\n",
              "         4.60904793e-13, 0.00000000e+00, 0.00000000e+00],\n",
              "        [0.00000000e+00, 8.40853416e-03, 5.46655115e-01, ...,\n",
              "         8.70835804e-14, 0.00000000e+00, 0.00000000e+00],\n",
              "        [0.00000000e+00, 9.97616510e-03, 6.49449364e-01, ...,\n",
              "         3.30504332e-13, 0.00000000e+00, 0.00000000e+00]]))"
            ]
          },
          "metadata": {
            "tags": []
          },
          "execution_count": 18
        }
      ]
    },
    {
      "cell_type": "code",
      "metadata": {
        "id": "ePd9caI7RfBS",
        "colab": {
          "base_uri": "https://localhost:8080/",
          "height": 572
        },
        "outputId": "da24d2ed-bfba-4e68-f149-0d0222e9191a"
      },
      "source": [
        "a,b = check_massblance(c670_df,c670_mb,c670_col,'c670')\n",
        "idx = a.sample(41).index\n",
        "plt.imshow(a.loc[idx].values)\n",
        "plt.show()\n",
        "plt.imshow(b.loc[idx].values)"
      ],
      "execution_count": 19,
      "outputs": [
        {
          "output_type": "stream",
          "text": [
            "True\n",
            "mean error: 5.118631404322684e-05\n"
          ],
          "name": "stdout"
        },
        {
          "output_type": "display_data",
          "data": {
            "image/png": "[encoded data removed]",
            "text/plain": [
              "<Figure size 432x288 with 1 Axes>"
            ]
          },
          "metadata": {
            "tags": [],
            "needs_background": "light"
          }
        },
        {
          "output_type": "execute_result",
          "data": {
            "text/plain": [
              "<matplotlib.image.AxesImage at 0x7f11b892fd30>"
            ]
          },
          "metadata": {
            "tags": []
          },
          "execution_count": 19
        },
        {
          "output_type": "display_data",
          "data": {
            "image/png": "[encoded data removed]",
            "text/plain": [
              "<Figure size 432x288 with 1 Axes>"
            ]
          },
          "metadata": {
            "tags": [],
            "needs_background": "light"
          }
        }
      ]
    },
    {
      "cell_type": "code",
      "metadata": {
        "id": "JOtWpP3BW7cI",
        "colab": {
          "base_uri": "https://localhost:8080/"
        },
        "outputId": "d96bccb3-2609-49e0-925f-f3bd713cb7b3"
      },
      "source": [
        "a.loc[idx].values,b.loc[idx].values"
      ],
      "execution_count": 20,
      "outputs": [
        {
          "output_type": "execute_result",
          "data": {
            "text/plain": [
              "(array([[ 0.        ,  0.        ,  0.        , ..., 21.2634359 ,\n",
              "          0.        ,  0.        ],\n",
              "        [ 0.        ,  0.        ,  0.        , ..., 22.82883524,\n",
              "          0.        ,  0.        ],\n",
              "        [ 0.        ,  0.        ,  0.        , ..., 19.63679918,\n",
              "          0.        ,  0.        ],\n",
              "        ...,\n",
              "        [ 0.        ,  0.        ,  0.        , ..., 18.45859131,\n",
              "          0.        ,  0.        ],\n",
              "        [ 0.        ,  0.        ,  0.        , ..., 24.52469398,\n",
              "          0.        ,  0.        ],\n",
              "        [ 0.        ,  0.        ,  0.        , ..., 19.63679918,\n",
              "          0.        ,  0.        ]]),\n",
              " array([[ 0.        ,  0.        ,  0.        , ..., 21.26343408,\n",
              "          0.        ,  0.        ],\n",
              "        [ 0.        ,  0.        ,  0.        , ..., 22.82882916,\n",
              "          0.        ,  0.        ],\n",
              "        [ 0.        ,  0.        ,  0.        , ..., 19.63680125,\n",
              "          0.        ,  0.        ],\n",
              "        ...,\n",
              "        [ 0.        ,  0.        ,  0.        , ..., 18.45858986,\n",
              "          0.        ,  0.        ],\n",
              "        [ 0.        ,  0.        ,  0.        , ..., 24.52470128,\n",
              "          0.        ,  0.        ],\n",
              "        [ 0.        ,  0.        ,  0.        , ..., 19.63679681,\n",
              "          0.        ,  0.        ]]))"
            ]
          },
          "metadata": {
            "tags": []
          },
          "execution_count": 20
        }
      ]
    },
    {
      "cell_type": "markdown",
      "metadata": {
        "id": "qOrzgmD68Z3_"
      },
      "source": [
        "# 用 fna,xna,s_vent,s_dist,s_side,s_bot 算 f_vent,f_dist,f_side,f_bot"
      ]
    },
    {
      "cell_type": "code",
      "metadata": {
        "id": "xuRp8Pna-Gr4",
        "colab": {
          "base_uri": "https://localhost:8080/"
        },
        "outputId": "c99fbdb4-b2ce-45e2-ffe4-3ebd7f63f0a1"
      },
      "source": [
        "fna = c620_df['Tatoray Stripper C620 Operation_Feed Properties_Mass Flow Rate_ton/hr'].values.reshape(-1,1)\r\n",
        "xna = c620_df.filter(regex='Combined Feed to Tatoray Stripper C620_Detailed Composition').iloc[:,:41].values\r\n",
        "s_vent = c620_df.filter(regex='Tatoray Stripper C620 Split Factors Calculation_Split Factor for Individual Component to Tatoray Stripper C620 Vent Gas').iloc[:,:41].values\r\n",
        "s_dist = c620_df.filter(regex='Tatoray Stripper C620 Split Factors Calculation_Split Factor for Individual Component to Tatoray Stripper C620 Distillate').iloc[:,:41].values\r\n",
        "s_side = c620_df.filter(regex='Tatoray Stripper C620 Split Factors Calculation_Split Factor for Individual Component to Tatoray Stripper C620 Sidedraw').iloc[:,:41].values\r\n",
        "s_bot = c620_df.filter(regex='Tatoray Stripper C620 Split Factors Calculation_Split Factor for Individual Component to Tatoray Stripper C620 Bottoms').iloc[:,:41].values\r\n",
        "f_vent = c620_df['Tatoray Stripper C620 Operation_Vent Gas Production Rate and Composition_Mass Flow Rate_ton/hr'].values\r\n",
        "f_dist = c620_df['Tatoray Stripper C620 Operation_Distillate Production Rate and Composition_Mass Flow Rate_ton/hr'].values\r\n",
        "f_side = c620_df['Tatoray Stripper C620 Operation_Sidedraw Production Rate and Composition_Mass Flow Rate_ton/hr'].values\r\n",
        "f_bot = c620_df['Tatoray Stripper C620 Operation_Bottoms Production Rate and Composition_Mass Flow Rate_ton/hr'].values\r\n",
        "print(np.allclose(np.sum(fna*xna*s_vent*0.01,axis=1),f_vent))\r\n",
        "print(np.allclose(np.sum(fna*xna*s_dist*0.01,axis=1),f_dist))\r\n",
        "print(np.allclose(np.sum(fna*xna*s_side*0.01,axis=1),f_side))\r\n",
        "print(np.allclose(np.sum(fna*xna*s_bot*0.01,axis=1),f_bot))"
      ],
      "execution_count": 21,
      "outputs": [
        {
          "output_type": "stream",
          "text": [
            "True\n",
            "True\n",
            "True\n",
            "True\n"
          ],
          "name": "stdout"
        }
      ]
    },
    {
      "cell_type": "markdown",
      "metadata": {
        "id": "bRehOP-TIAg6"
      },
      "source": [
        "# 用 wt 和 mass_flow 算 BF"
      ]
    },
    {
      "cell_type": "code",
      "metadata": {
        "id": "fXzEcMkN_SpO",
        "colab": {
          "base_uri": "https://localhost:8080/",
          "height": 336
        },
        "outputId": "0e472bbb-50bc-48f6-e1aa-130dc9c19125"
      },
      "source": [
        "c670_df.filter(regex='Flow Rate_ton').head()"
      ],
      "execution_count": 22,
      "outputs": [
        {
          "output_type": "execute_result",
          "data": {
            "text/html": [
              "<div>\n",
              "<style scoped>\n",
              "    .dataframe tbody tr th:only-of-type {\n",
              "        vertical-align: middle;\n",
              "    }\n",
              "\n",
              "    .dataframe tbody tr th {\n",
              "        vertical-align: top;\n",
              "    }\n",
              "\n",
              "    .dataframe thead th {\n",
              "        text-align: right;\n",
              "    }\n",
              "</style>\n",
              "<table border=\"1\" class=\"dataframe\">\n",
              "  <thead>\n",
              "    <tr style=\"text-align: right;\">\n",
              "      <th></th>\n",
              "      <th>Combined Feed to Toluene Column C670 @ Tray 43_Flow Rate_Mass Flow Rate_ton/hr</th>\n",
              "      <th>Feed to Toluene Column C670 @ Tray 54_Flow Rate_Mass Flow Rate_ton/hr</th>\n",
              "      <th>Toluene Column C670 Operation_Feed Properties \\n@ Tray 43_Mass Flow Rate_ton/hr</th>\n",
              "      <th>Toluene Column C670 Operation_Feed Properties \\n@ Tray 54_Mass Flow Rate_ton/hr</th>\n",
              "      <th>Toluene Column C670 Operation_Distillate Production Rate and Composition_Mass Flow Rate_ton/hr</th>\n",
              "      <th>Toluene Column C670 Operation_Bottoms Production Rate and Composition_Mass Flow Rate_ton/hr</th>\n",
              "    </tr>\n",
              "  </thead>\n",
              "  <tbody>\n",
              "    <tr>\n",
              "      <th>001-001</th>\n",
              "      <td>18.150902</td>\n",
              "      <td>124.981539</td>\n",
              "      <td>18.150902</td>\n",
              "      <td>124.981539</td>\n",
              "      <td>72.607789</td>\n",
              "      <td>70.524656</td>\n",
              "    </tr>\n",
              "    <tr>\n",
              "      <th>001-002</th>\n",
              "      <td>18.151391</td>\n",
              "      <td>124.981555</td>\n",
              "      <td>18.151391</td>\n",
              "      <td>124.981555</td>\n",
              "      <td>72.608289</td>\n",
              "      <td>70.524656</td>\n",
              "    </tr>\n",
              "    <tr>\n",
              "      <th>001-003</th>\n",
              "      <td>18.151730</td>\n",
              "      <td>124.981555</td>\n",
              "      <td>18.151730</td>\n",
              "      <td>124.981555</td>\n",
              "      <td>72.608625</td>\n",
              "      <td>70.524656</td>\n",
              "    </tr>\n",
              "    <tr>\n",
              "      <th>001-004</th>\n",
              "      <td>18.118328</td>\n",
              "      <td>125.012984</td>\n",
              "      <td>18.118328</td>\n",
              "      <td>125.012984</td>\n",
              "      <td>72.606664</td>\n",
              "      <td>70.524656</td>\n",
              "    </tr>\n",
              "    <tr>\n",
              "      <th>001-005</th>\n",
              "      <td>18.118820</td>\n",
              "      <td>125.012984</td>\n",
              "      <td>18.118820</td>\n",
              "      <td>125.012984</td>\n",
              "      <td>72.607156</td>\n",
              "      <td>70.524656</td>\n",
              "    </tr>\n",
              "  </tbody>\n",
              "</table>\n",
              "</div>"
            ],
            "text/plain": [
              "         Combined Feed to Toluene Column C670 @ Tray 43_Flow Rate_Mass Flow Rate_ton/hr  ...  Toluene Column C670 Operation_Bottoms Production Rate and Composition_Mass Flow Rate_ton/hr\n",
              "001-001                                          18.150902                               ...                                          70.524656                                          \n",
              "001-002                                          18.151391                               ...                                          70.524656                                          \n",
              "001-003                                          18.151730                               ...                                          70.524656                                          \n",
              "001-004                                          18.118328                               ...                                          70.524656                                          \n",
              "001-005                                          18.118820                               ...                                          70.524656                                          \n",
              "\n",
              "[5 rows x 6 columns]"
            ]
          },
          "metadata": {
            "tags": []
          },
          "execution_count": 22
        }
      ]
    },
    {
      "cell_type": "code",
      "metadata": {
        "id": "O4nFsKdHeSio",
        "outputId": "78eee522-a376-4518-f4bd-e01769aa7d5b",
        "colab": {
          "base_uri": "https://localhost:8080/"
        }
      },
      "source": [
        "t = c670_df[c670_col['lower_bf']].describe().loc[['min','max']].T\n",
        "index_9999 = t[t['min']==t['max']][t['min']==0.9999].index.tolist()\n",
        "index_0001 = t[t['min']==t['max']][t['min']==0.0001].index.tolist()"
      ],
      "execution_count": 23,
      "outputs": [
        {
          "output_type": "stream",
          "text": [
            "/usr/local/lib/python3.6/dist-packages/ipykernel_launcher.py:2: UserWarning: Boolean Series key will be reindexed to match DataFrame index.\n",
            "  \n",
            "/usr/local/lib/python3.6/dist-packages/ipykernel_launcher.py:3: UserWarning: Boolean Series key will be reindexed to match DataFrame index.\n",
            "  This is separate from the ipykernel package so we can avoid doing imports until\n"
          ],
          "name": "stderr"
        }
      ]
    },
    {
      "cell_type": "code",
      "metadata": {
        "id": "mVXma44CIGB7",
        "colab": {
          "base_uri": "https://localhost:8080/"
        },
        "outputId": "25b7960a-f21c-4d2d-bbfa-3f78daad9764"
      },
      "source": [
        "c620_bot_x = c620_df[c620_col['bottoms_x']].values\r\n",
        "c660_bot_x = c660_df[c660_col['bottoms_x']].values\r\n",
        "c620_mf_bot = c620_mb.loc[:,'Tatoray Stripper C620 Operation_Bottoms Production Rate and Composition_Mass Flow Rate_ton/hr'].values.reshape(-1,1)\r\n",
        "c660_mf_bot = c660_mb.loc[:,'Benzene Column C660 Operation_Bottoms Production Rate and Composition_Mass Flow Rate_ton/hr'].values.reshape(-1,1)\r\n",
        "\r\n",
        "a = (c620_bot_x*c620_mf_bot)/(c620_bot_x*c620_mf_bot+c660_bot_x*c660_mf_bot)\r\n",
        "a = pd.DataFrame(a,columns=c670_col['lower_bf'])\r\n",
        "a[index_9999] = 0.9999\r\n",
        "a[index_0001] = 0.0001\r\n",
        "\r\n",
        "b = 1-a.values\r\n",
        "b = pd.DataFrame(b,columns=c670_col['upper_bf'])\r\n",
        "\r\n",
        "print(np.allclose(a,c670_df[c670_col['lower_bf']].values))\r\n",
        "print(np.allclose(b,c670_df[c670_col['upper_bf']].values))"
      ],
      "execution_count": 24,
      "outputs": [
        {
          "output_type": "stream",
          "text": [
            "True\n",
            "True\n"
          ],
          "name": "stdout"
        },
        {
          "output_type": "stream",
          "text": [
            "/usr/local/lib/python3.6/dist-packages/ipykernel_launcher.py:6: RuntimeWarning: invalid value encountered in true_divide\n",
            "  \n"
          ],
          "name": "stderr"
        }
      ]
    },
    {
      "cell_type": "code",
      "metadata": {
        "id": "tPCs73gGULCr",
        "colab": {
          "base_uri": "https://localhost:8080/"
        },
        "outputId": "39bf99fa-8305-40ea-e4f0-e823edaafeca"
      },
      "source": [
        "idx = np.random.choice([*range(len(a))],size=1)\r\n",
        "count = 0\r\n",
        "for i,j in zip(a.values[idx[0]],c670_df[c670_col['lower_bf']].values[idx[0]]):\r\n",
        "  print(count,i.round(4),j.round(4))\r\n",
        "  count += 1"
      ],
      "execution_count": 25,
      "outputs": [
        {
          "output_type": "stream",
          "text": [
            "0 0.9999 0.9999\n",
            "1 0.9999 0.9999\n",
            "2 0.9999 0.9999\n",
            "3 0.9999 0.9999\n",
            "4 0.9999 0.9999\n",
            "5 0.9999 0.9999\n",
            "6 0.9999 0.9999\n",
            "7 0.9914 0.9914\n",
            "8 0.9981 0.9981\n",
            "9 0.9805 0.9805\n",
            "10 0.9999 0.9999\n",
            "11 0.61 0.61\n",
            "12 0.5576 0.5576\n",
            "13 0.5865 0.5865\n",
            "14 0.7072 0.7072\n",
            "15 0.7467 0.7467\n",
            "16 0.5238 0.5238\n",
            "17 0.9428 0.9428\n",
            "18 0.9578 0.9578\n",
            "19 0.9941 0.9941\n",
            "20 0.6636 0.6636\n",
            "21 1.0 1.0\n",
            "22 0.1442 0.1442\n",
            "23 1.0 1.0\n",
            "24 1.0 1.0\n",
            "25 1.0 1.0\n",
            "26 1.0 1.0\n",
            "27 1.0 1.0\n",
            "28 1.0 1.0\n",
            "29 0.0001 0.0001\n",
            "30 1.0 1.0\n",
            "31 1.0 1.0\n",
            "32 0.3331 0.3331\n",
            "33 0.9774 0.9774\n",
            "34 1.0 1.0\n",
            "35 0.9999 0.9999\n",
            "36 1.0 1.0\n",
            "37 1.0 1.0\n",
            "38 1.0 1.0\n",
            "39 0.0001 0.0001\n",
            "40 0.0001 0.0001\n"
          ],
          "name": "stdout"
        }
      ]
    },
    {
      "cell_type": "code",
      "metadata": {
        "id": "6qOUVh75Vb-A",
        "colab": {
          "base_uri": "https://localhost:8080/"
        },
        "outputId": "6e31f153-acaa-47c4-a479-356a5380b3c5"
      },
      "source": [
        "idx = np.random.choice([*range(len(a))],size=1)\r\n",
        "for i,j in zip(b.values[idx[0]],c670_df[c670_col['upper_bf']].values[idx[0]]):\r\n",
        "  print(i.round(4),j.round(4))"
      ],
      "execution_count": 26,
      "outputs": [
        {
          "output_type": "stream",
          "text": [
            "0.0001 0.0001\n",
            "0.0001 0.0001\n",
            "0.0001 0.0001\n",
            "0.0001 0.0001\n",
            "0.0001 0.0001\n",
            "0.0001 0.0001\n",
            "0.0001 0.0001\n",
            "0.0028 0.0028\n",
            "0.0002 0.0002\n",
            "0.0045 0.0045\n",
            "0.0001 0.0001\n",
            "0.2561 0.2561\n",
            "0.1879 0.1879\n",
            "0.377 0.377\n",
            "0.299 0.299\n",
            "0.2585 0.2585\n",
            "0.3935 0.3935\n",
            "0.0311 0.0311\n",
            "0.0242 0.0242\n",
            "0.0098 0.0098\n",
            "0.345 0.345\n",
            "0.0 0.0\n",
            "0.8607 0.8607\n",
            "0.0 0.0\n",
            "0.0005 0.0005\n",
            "0.001 0.001\n",
            "0.0004 0.0004\n",
            "0.0009 0.0009\n",
            "0.0 0.0\n",
            "0.9999 0.9999\n",
            "0.0 0.0\n",
            "0.0 0.0\n",
            "0.8299 0.8299\n",
            "0.0524 0.0524\n",
            "0.0 0.0\n",
            "0.0001 0.0001\n",
            "0.0 0.0\n",
            "0.0 0.0\n",
            "0.0 0.0\n",
            "0.9999 0.9999\n",
            "0.9999 0.9999\n"
          ],
          "name": "stdout"
        }
      ]
    },
    {
      "cell_type": "code",
      "metadata": {
        "id": "O-kLocHwWt2I"
      },
      "source": [
        ""
      ],
      "execution_count": 26,
      "outputs": []
    }
  ]
}