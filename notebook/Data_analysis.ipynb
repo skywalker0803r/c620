{
  "nbformat": 4,
  "nbformat_minor": 0,
  "metadata": {
    "colab": {
      "name": "c620資料分析.ipynb",
      "provenance": [],
      "mount_file_id": "https://github.com/skywalker0803r/c620/blob/main/notebook/data%20analysis.ipynb",
      "authorship_tag": "ABX9TyPCDrYhAS/70wJbXkMoKw64",
      "include_colab_link": true
    },
    "kernelspec": {
      "name": "python3",
      "display_name": "Python 3"
    }
  },
  "cells": [
    {
      "cell_type": "markdown",
      "metadata": {
        "id": "view-in-github",
        "colab_type": "text"
      },
      "source": [
        "<a href=\"https://colab.research.google.com/github/skywalker0803r/c620/blob/main/notebook/Data_analysis.ipynb\" target=\"_parent\"><img src=\"https://colab.research.google.com/assets/colab-badge.svg\" alt=\"Open In Colab\"/></a>"
      ]
    },
    {
      "cell_type": "code",
      "metadata": {
        "id": "OkOaH7rhZKU0"
      },
      "source": [
        "import pandas as pd\n",
        "import joblib\n",
        "import numpy as np\n",
        "import matplotlib.pyplot as plt"
      ],
      "execution_count": 1,
      "outputs": []
    },
    {
      "cell_type": "markdown",
      "metadata": {
        "id": "sZm0YZbLSEst"
      },
      "source": [
        "# load"
      ]
    },
    {
      "cell_type": "code",
      "metadata": {
        "id": "3KB58YtyDlii",
        "colab": {
          "base_uri": "https://localhost:8080/"
        },
        "outputId": "c4b2e170-e967-4938-acf6-06a0eeeb0e94"
      },
      "source": [
        "from google.colab import drive\n",
        "drive.mount('/content/drive')"
      ],
      "execution_count": 2,
      "outputs": [
        {
          "output_type": "stream",
          "text": [
            "Mounted at /content/drive\n"
          ],
          "name": "stdout"
        }
      ]
    },
    {
      "cell_type": "code",
      "metadata": {
        "id": "ejga3dn8Zl6u"
      },
      "source": [
        "root = '/content/drive/MyDrive/台塑輕油案子/data/c620/cleaned/'\n",
        "\n",
        "icg_df = pd.read_csv(root+'icg_train.csv',index_col=0)\n",
        "\n",
        "t651_df = pd.read_csv(root+'t651_train.csv',index_col=0).dropna(axis=0)\n",
        "idx = t651_df.index\n",
        "\n",
        "c620_df = pd.read_csv(root+'c620_train.csv',index_col=0).loc[idx]\n",
        "c620_mb = pd.read_csv(root+'c620_mbcheck.csv',index_col=0).loc[idx]\n",
        "\n",
        "c660_df = pd.read_csv(root+'c660_train.csv',index_col=0).loc[idx]\n",
        "c660_mb = pd.read_csv(root+'c660_mbcheck.csv',index_col=0).loc[idx]\n",
        "\n",
        "c670_df = pd.read_csv(root+'c670_train.csv',index_col=0).loc[idx]\n",
        "c670_mb = pd.read_csv(root+'c670_mbcheck.csv',index_col=0).loc[idx]"
      ],
      "execution_count": 3,
      "outputs": []
    },
    {
      "cell_type": "code",
      "metadata": {
        "id": "CHphm2sIaJm5"
      },
      "source": [
        "root = '/content/drive/MyDrive/台塑輕油案子/data/c620/col_names/'\n",
        "icg_col = joblib.load(root+'icg_col_names.pkl')\n",
        "c620_col = joblib.load(root+'c620_col_names.pkl')\n",
        "c660_col = joblib.load(root+'c660_col_names.pkl')\n",
        "c670_col = joblib.load(root+'c670_col_names.pkl')\n",
        "t651_col = joblib.load(root+'t651_col_names.pkl')"
      ],
      "execution_count": 4,
      "outputs": []
    },
    {
      "cell_type": "markdown",
      "metadata": {
        "id": "mKoZetKGRB8n"
      },
      "source": [
        "# check c620&t651 -> c660"
      ]
    },
    {
      "cell_type": "code",
      "metadata": {
        "id": "46BvGhW_axoe",
        "colab": {
          "base_uri": "https://localhost:8080/",
          "height": 307
        },
        "outputId": "9d3e962e-c442-47b4-85a2-4f4245a144d9"
      },
      "source": [
        "t651_mf = t651_df[t651_col['MFR']]\n",
        "c620_mf = c620_mb.iloc[:,[3]]\n",
        "total = t651_mf.values + c620_mf.values\n",
        "t651_mf = t651_mf/total\n",
        "c620_mf = c620_mf/total\n",
        "t651_x41 = t651_df[t651_col['x41']]\n",
        "c620_w3 = c620_df[c620_col['sidedraw_x']]\n",
        "c660_feed_pred = c620_w3.values*c620_mf.values + t651_x41.values*t651_mf.values\n",
        "c660_feed_pred = pd.DataFrame(c660_feed_pred,index=idx,columns=c660_col['x41'])\n",
        "c660_feed_pred.head(3)"
      ],
      "execution_count": 5,
      "outputs": [
        {
          "output_type": "execute_result",
          "data": {
            "text/html": [
              "<div>\n",
              "<style scoped>\n",
              "    .dataframe tbody tr th:only-of-type {\n",
              "        vertical-align: middle;\n",
              "    }\n",
              "\n",
              "    .dataframe tbody tr th {\n",
              "        vertical-align: top;\n",
              "    }\n",
              "\n",
              "    .dataframe thead th {\n",
              "        text-align: right;\n",
              "    }\n",
              "</style>\n",
              "<table border=\"1\" class=\"dataframe\">\n",
              "  <thead>\n",
              "    <tr style=\"text-align: right;\">\n",
              "      <th></th>\n",
              "      <th>Combined Feed to Benzene Column C660_Detailed Composition_Hydrogen_wt%</th>\n",
              "      <th>Combined Feed to Benzene Column C660_Detailed Composition_Methane_wt%</th>\n",
              "      <th>Combined Feed to Benzene Column C660_Detailed Composition_Ethane_wt%</th>\n",
              "      <th>Combined Feed to Benzene Column C660_Detailed Composition_Propane_wt%</th>\n",
              "      <th>Combined Feed to Benzene Column C660_Detailed Composition_n-Butane_wt%</th>\n",
              "      <th>Combined Feed to Benzene Column C660_Detailed Composition_n-Pentane_wt%</th>\n",
              "      <th>Combined Feed to Benzene Column C660_Detailed Composition_n-Hexane_wt%</th>\n",
              "      <th>Combined Feed to Benzene Column C660_Detailed Composition_Benzene_wt%</th>\n",
              "      <th>Combined Feed to Benzene Column C660_Detailed Composition_Cyclohexane_wt%</th>\n",
              "      <th>Combined Feed to Benzene Column C660_Detailed Composition_n-Heptane_wt%</th>\n",
              "      <th>Combined Feed to Benzene Column C660_Detailed Composition_Water_wt%</th>\n",
              "      <th>Combined Feed to Benzene Column C660_Detailed Composition_Methylcyclohexane_wt%</th>\n",
              "      <th>Combined Feed to Benzene Column C660_Detailed Composition_Toluene_wt%</th>\n",
              "      <th>Combined Feed to Benzene Column C660_Detailed Composition_n-Octane_wt%</th>\n",
              "      <th>Combined Feed to Benzene Column C660_Detailed Composition_n-Propylcyclopentane_wt%</th>\n",
              "      <th>Combined Feed to Benzene Column C660_Detailed Composition_Ethylcyclohexane_wt%</th>\n",
              "      <th>Combined Feed to Benzene Column C660_Detailed Composition_Ethylbenzene_wt%</th>\n",
              "      <th>Combined Feed to Benzene Column C660_Detailed Composition_p-Xylene_wt%</th>\n",
              "      <th>Combined Feed to Benzene Column C660_Detailed Composition_m-Xylene_wt%</th>\n",
              "      <th>Combined Feed to Benzene Column C660_Detailed Composition_o-Xylene_wt%</th>\n",
              "      <th>Combined Feed to Benzene Column C660_Detailed Composition_n-Nonane_wt%</th>\n",
              "      <th>Combined Feed to Benzene Column C660_Detailed Composition_i-Propylbenzene_wt%</th>\n",
              "      <th>Combined Feed to Benzene Column C660_Detailed Composition_n-Propylcyclohexane_wt%</th>\n",
              "      <th>Combined Feed to Benzene Column C660_Detailed Composition_n-Propylbenzene_wt%</th>\n",
              "      <th>Combined Feed to Benzene Column C660_Detailed Composition_1-Methyl-3-ethylbenzene_wt%</th>\n",
              "      <th>Combined Feed to Benzene Column C660_Detailed Composition_1-Methyl-4-ethylbenzene_wt%</th>\n",
              "      <th>Combined Feed to Benzene Column C660_Detailed Composition_1,3,5-Trimethylbenzene_wt%</th>\n",
              "      <th>Combined Feed to Benzene Column C660_Detailed Composition_1-Methyl-2-ethylbenzene_wt%</th>\n",
              "      <th>Combined Feed to Benzene Column C660_Detailed Composition_1,2,4-Trimethylbenzene_wt%</th>\n",
              "      <th>Combined Feed to Benzene Column C660_Detailed Composition_tert-Butylcyclohexane_wt%</th>\n",
              "      <th>Combined Feed to Benzene Column C660_Detailed Composition_1,2,3-Trimethylbenzene_wt%</th>\n",
              "      <th>Combined Feed to Benzene Column C660_Detailed Composition_Indane_wt%</th>\n",
              "      <th>Combined Feed to Benzene Column C660_Detailed Composition_1-Methyl-4-n-propylbenzene_wt%</th>\n",
              "      <th>Combined Feed to Benzene Column C660_Detailed Composition_1,2-Diethylbenzene_wt%</th>\n",
              "      <th>Combined Feed to Benzene Column C660_Detailed Composition_5-Ethyl-m-xylene_wt%</th>\n",
              "      <th>Combined Feed to Benzene Column C660_Detailed Composition_1,4-Diethylbenzene_wt%</th>\n",
              "      <th>Combined Feed to Benzene Column C660_Detailed Composition_1,2,3,5-Tetramethylbenzene_wt%</th>\n",
              "      <th>Combined Feed to Benzene Column C660_Detailed Composition_n-Pentylbenzene_wt%</th>\n",
              "      <th>Combined Feed to Benzene Column C660_Detailed Composition_n-Hexylbenzene_wt%</th>\n",
              "      <th>Combined Feed to Benzene Column C660_Detailed Composition_Nitrogen_wt%</th>\n",
              "      <th>Combined Feed to Benzene Column C660_Detailed Composition_Oxygen_wt%</th>\n",
              "    </tr>\n",
              "  </thead>\n",
              "  <tbody>\n",
              "    <tr>\n",
              "      <th>001-001</th>\n",
              "      <td>0.0</td>\n",
              "      <td>0.000175</td>\n",
              "      <td>0.011354</td>\n",
              "      <td>0.021681</td>\n",
              "      <td>0.014908</td>\n",
              "      <td>0.019511</td>\n",
              "      <td>0.030082</td>\n",
              "      <td>66.278216</td>\n",
              "      <td>0.02099</td>\n",
              "      <td>0.034398</td>\n",
              "      <td>0.0</td>\n",
              "      <td>0.014600</td>\n",
              "      <td>27.873568</td>\n",
              "      <td>0.028611</td>\n",
              "      <td>0.024798</td>\n",
              "      <td>0.020281</td>\n",
              "      <td>3.132133</td>\n",
              "      <td>0.632336</td>\n",
              "      <td>1.318028</td>\n",
              "      <td>0.365566</td>\n",
              "      <td>0.044484</td>\n",
              "      <td>1.951733e-08</td>\n",
              "      <td>0.098763</td>\n",
              "      <td>3.399222e-09</td>\n",
              "      <td>0.001142</td>\n",
              "      <td>0.001141</td>\n",
              "      <td>0.00223</td>\n",
              "      <td>0.00057</td>\n",
              "      <td>0.00057</td>\n",
              "      <td>0.00788</td>\n",
              "      <td>3.896395e-09</td>\n",
              "      <td>1.684247e-10</td>\n",
              "      <td>0.001555</td>\n",
              "      <td>0.000415</td>\n",
              "      <td>6.044997e-10</td>\n",
              "      <td>0.0</td>\n",
              "      <td>6.479632e-12</td>\n",
              "      <td>3.103609e-13</td>\n",
              "      <td>3.014521e-16</td>\n",
              "      <td>0.0</td>\n",
              "      <td>0.0</td>\n",
              "    </tr>\n",
              "    <tr>\n",
              "      <th>001-002</th>\n",
              "      <td>0.0</td>\n",
              "      <td>0.000175</td>\n",
              "      <td>0.011353</td>\n",
              "      <td>0.021678</td>\n",
              "      <td>0.014906</td>\n",
              "      <td>0.019510</td>\n",
              "      <td>0.030081</td>\n",
              "      <td>66.278232</td>\n",
              "      <td>0.02099</td>\n",
              "      <td>0.034399</td>\n",
              "      <td>0.0</td>\n",
              "      <td>0.014601</td>\n",
              "      <td>27.873554</td>\n",
              "      <td>0.028611</td>\n",
              "      <td>0.024798</td>\n",
              "      <td>0.020281</td>\n",
              "      <td>3.132134</td>\n",
              "      <td>0.632336</td>\n",
              "      <td>1.318029</td>\n",
              "      <td>0.365566</td>\n",
              "      <td>0.044484</td>\n",
              "      <td>1.951592e-08</td>\n",
              "      <td>0.098764</td>\n",
              "      <td>3.398967e-09</td>\n",
              "      <td>0.001142</td>\n",
              "      <td>0.001141</td>\n",
              "      <td>0.00223</td>\n",
              "      <td>0.00057</td>\n",
              "      <td>0.00057</td>\n",
              "      <td>0.00788</td>\n",
              "      <td>3.896085e-09</td>\n",
              "      <td>1.684114e-10</td>\n",
              "      <td>0.001555</td>\n",
              "      <td>0.000415</td>\n",
              "      <td>6.044514e-10</td>\n",
              "      <td>0.0</td>\n",
              "      <td>6.479096e-12</td>\n",
              "      <td>3.103352e-13</td>\n",
              "      <td>3.014266e-16</td>\n",
              "      <td>0.0</td>\n",
              "      <td>0.0</td>\n",
              "    </tr>\n",
              "    <tr>\n",
              "      <th>001-003</th>\n",
              "      <td>0.0</td>\n",
              "      <td>0.000175</td>\n",
              "      <td>0.011354</td>\n",
              "      <td>0.021680</td>\n",
              "      <td>0.014907</td>\n",
              "      <td>0.019510</td>\n",
              "      <td>0.030082</td>\n",
              "      <td>66.278226</td>\n",
              "      <td>0.02099</td>\n",
              "      <td>0.034398</td>\n",
              "      <td>0.0</td>\n",
              "      <td>0.014601</td>\n",
              "      <td>27.873556</td>\n",
              "      <td>0.028611</td>\n",
              "      <td>0.024798</td>\n",
              "      <td>0.020281</td>\n",
              "      <td>3.132134</td>\n",
              "      <td>0.632336</td>\n",
              "      <td>1.318029</td>\n",
              "      <td>0.365566</td>\n",
              "      <td>0.044484</td>\n",
              "      <td>1.951662e-08</td>\n",
              "      <td>0.098764</td>\n",
              "      <td>3.399096e-09</td>\n",
              "      <td>0.001142</td>\n",
              "      <td>0.001141</td>\n",
              "      <td>0.00223</td>\n",
              "      <td>0.00057</td>\n",
              "      <td>0.00057</td>\n",
              "      <td>0.00788</td>\n",
              "      <td>3.896244e-09</td>\n",
              "      <td>1.684181e-10</td>\n",
              "      <td>0.001555</td>\n",
              "      <td>0.000415</td>\n",
              "      <td>6.044761e-10</td>\n",
              "      <td>0.0</td>\n",
              "      <td>6.479374e-12</td>\n",
              "      <td>3.103486e-13</td>\n",
              "      <td>3.014400e-16</td>\n",
              "      <td>0.0</td>\n",
              "      <td>0.0</td>\n",
              "    </tr>\n",
              "  </tbody>\n",
              "</table>\n",
              "</div>"
            ],
            "text/plain": [
              "         Combined Feed to Benzene Column C660_Detailed Composition_Hydrogen_wt%  ...  Combined Feed to Benzene Column C660_Detailed Composition_Oxygen_wt%\n",
              "001-001                                                0.0                       ...                                                0.0                   \n",
              "001-002                                                0.0                       ...                                                0.0                   \n",
              "001-003                                                0.0                       ...                                                0.0                   \n",
              "\n",
              "[3 rows x 41 columns]"
            ]
          },
          "metadata": {
            "tags": []
          },
          "execution_count": 5
        }
      ]
    },
    {
      "cell_type": "code",
      "metadata": {
        "colab": {
          "base_uri": "https://localhost:8080/",
          "height": 307
        },
        "id": "KPV_49L6g7yA",
        "outputId": "b55fc21d-2fc7-4fe8-9fac-42787a48c0b4"
      },
      "source": [
        "c660_feed = c660_df[c660_col['x41']]\n",
        "c660_feed.head(3)"
      ],
      "execution_count": 6,
      "outputs": [
        {
          "output_type": "execute_result",
          "data": {
            "text/html": [
              "<div>\n",
              "<style scoped>\n",
              "    .dataframe tbody tr th:only-of-type {\n",
              "        vertical-align: middle;\n",
              "    }\n",
              "\n",
              "    .dataframe tbody tr th {\n",
              "        vertical-align: top;\n",
              "    }\n",
              "\n",
              "    .dataframe thead th {\n",
              "        text-align: right;\n",
              "    }\n",
              "</style>\n",
              "<table border=\"1\" class=\"dataframe\">\n",
              "  <thead>\n",
              "    <tr style=\"text-align: right;\">\n",
              "      <th></th>\n",
              "      <th>Combined Feed to Benzene Column C660_Detailed Composition_Hydrogen_wt%</th>\n",
              "      <th>Combined Feed to Benzene Column C660_Detailed Composition_Methane_wt%</th>\n",
              "      <th>Combined Feed to Benzene Column C660_Detailed Composition_Ethane_wt%</th>\n",
              "      <th>Combined Feed to Benzene Column C660_Detailed Composition_Propane_wt%</th>\n",
              "      <th>Combined Feed to Benzene Column C660_Detailed Composition_n-Butane_wt%</th>\n",
              "      <th>Combined Feed to Benzene Column C660_Detailed Composition_n-Pentane_wt%</th>\n",
              "      <th>Combined Feed to Benzene Column C660_Detailed Composition_n-Hexane_wt%</th>\n",
              "      <th>Combined Feed to Benzene Column C660_Detailed Composition_Benzene_wt%</th>\n",
              "      <th>Combined Feed to Benzene Column C660_Detailed Composition_Cyclohexane_wt%</th>\n",
              "      <th>Combined Feed to Benzene Column C660_Detailed Composition_n-Heptane_wt%</th>\n",
              "      <th>Combined Feed to Benzene Column C660_Detailed Composition_Water_wt%</th>\n",
              "      <th>Combined Feed to Benzene Column C660_Detailed Composition_Methylcyclohexane_wt%</th>\n",
              "      <th>Combined Feed to Benzene Column C660_Detailed Composition_Toluene_wt%</th>\n",
              "      <th>Combined Feed to Benzene Column C660_Detailed Composition_n-Octane_wt%</th>\n",
              "      <th>Combined Feed to Benzene Column C660_Detailed Composition_n-Propylcyclopentane_wt%</th>\n",
              "      <th>Combined Feed to Benzene Column C660_Detailed Composition_Ethylcyclohexane_wt%</th>\n",
              "      <th>Combined Feed to Benzene Column C660_Detailed Composition_Ethylbenzene_wt%</th>\n",
              "      <th>Combined Feed to Benzene Column C660_Detailed Composition_p-Xylene_wt%</th>\n",
              "      <th>Combined Feed to Benzene Column C660_Detailed Composition_m-Xylene_wt%</th>\n",
              "      <th>Combined Feed to Benzene Column C660_Detailed Composition_o-Xylene_wt%</th>\n",
              "      <th>Combined Feed to Benzene Column C660_Detailed Composition_n-Nonane_wt%</th>\n",
              "      <th>Combined Feed to Benzene Column C660_Detailed Composition_i-Propylbenzene_wt%</th>\n",
              "      <th>Combined Feed to Benzene Column C660_Detailed Composition_n-Propylcyclohexane_wt%</th>\n",
              "      <th>Combined Feed to Benzene Column C660_Detailed Composition_n-Propylbenzene_wt%</th>\n",
              "      <th>Combined Feed to Benzene Column C660_Detailed Composition_1-Methyl-3-ethylbenzene_wt%</th>\n",
              "      <th>Combined Feed to Benzene Column C660_Detailed Composition_1-Methyl-4-ethylbenzene_wt%</th>\n",
              "      <th>Combined Feed to Benzene Column C660_Detailed Composition_1,3,5-Trimethylbenzene_wt%</th>\n",
              "      <th>Combined Feed to Benzene Column C660_Detailed Composition_1-Methyl-2-ethylbenzene_wt%</th>\n",
              "      <th>Combined Feed to Benzene Column C660_Detailed Composition_1,2,4-Trimethylbenzene_wt%</th>\n",
              "      <th>Combined Feed to Benzene Column C660_Detailed Composition_tert-Butylcyclohexane_wt%</th>\n",
              "      <th>Combined Feed to Benzene Column C660_Detailed Composition_1,2,3-Trimethylbenzene_wt%</th>\n",
              "      <th>Combined Feed to Benzene Column C660_Detailed Composition_Indane_wt%</th>\n",
              "      <th>Combined Feed to Benzene Column C660_Detailed Composition_1-Methyl-4-n-propylbenzene_wt%</th>\n",
              "      <th>Combined Feed to Benzene Column C660_Detailed Composition_1,2-Diethylbenzene_wt%</th>\n",
              "      <th>Combined Feed to Benzene Column C660_Detailed Composition_5-Ethyl-m-xylene_wt%</th>\n",
              "      <th>Combined Feed to Benzene Column C660_Detailed Composition_1,4-Diethylbenzene_wt%</th>\n",
              "      <th>Combined Feed to Benzene Column C660_Detailed Composition_1,2,3,5-Tetramethylbenzene_wt%</th>\n",
              "      <th>Combined Feed to Benzene Column C660_Detailed Composition_n-Pentylbenzene_wt%</th>\n",
              "      <th>Combined Feed to Benzene Column C660_Detailed Composition_n-Hexylbenzene_wt%</th>\n",
              "      <th>Combined Feed to Benzene Column C660_Detailed Composition_Nitrogen_wt%</th>\n",
              "      <th>Combined Feed to Benzene Column C660_Detailed Composition_Oxygen_wt%</th>\n",
              "    </tr>\n",
              "  </thead>\n",
              "  <tbody>\n",
              "    <tr>\n",
              "      <th>001-001</th>\n",
              "      <td>0.0</td>\n",
              "      <td>0.000175</td>\n",
              "      <td>0.011354</td>\n",
              "      <td>0.021681</td>\n",
              "      <td>0.014908</td>\n",
              "      <td>0.019511</td>\n",
              "      <td>0.030082</td>\n",
              "      <td>66.278221</td>\n",
              "      <td>0.02099</td>\n",
              "      <td>0.034398</td>\n",
              "      <td>0.0</td>\n",
              "      <td>0.014600</td>\n",
              "      <td>27.873569</td>\n",
              "      <td>0.028611</td>\n",
              "      <td>0.024798</td>\n",
              "      <td>0.020281</td>\n",
              "      <td>3.132133</td>\n",
              "      <td>0.632336</td>\n",
              "      <td>1.318029</td>\n",
              "      <td>0.365566</td>\n",
              "      <td>0.044484</td>\n",
              "      <td>1.951733e-08</td>\n",
              "      <td>0.098763</td>\n",
              "      <td>3.399222e-09</td>\n",
              "      <td>0.001142</td>\n",
              "      <td>0.001141</td>\n",
              "      <td>0.00223</td>\n",
              "      <td>0.00057</td>\n",
              "      <td>0.00057</td>\n",
              "      <td>0.00788</td>\n",
              "      <td>3.896395e-09</td>\n",
              "      <td>1.684246e-10</td>\n",
              "      <td>0.001555</td>\n",
              "      <td>0.000415</td>\n",
              "      <td>6.044996e-10</td>\n",
              "      <td>0.0</td>\n",
              "      <td>6.479631e-12</td>\n",
              "      <td>3.103609e-13</td>\n",
              "      <td>3.014521e-16</td>\n",
              "      <td>0.0</td>\n",
              "      <td>0.0</td>\n",
              "    </tr>\n",
              "    <tr>\n",
              "      <th>001-002</th>\n",
              "      <td>0.0</td>\n",
              "      <td>0.000175</td>\n",
              "      <td>0.011353</td>\n",
              "      <td>0.021678</td>\n",
              "      <td>0.014906</td>\n",
              "      <td>0.019510</td>\n",
              "      <td>0.030081</td>\n",
              "      <td>66.278244</td>\n",
              "      <td>0.02099</td>\n",
              "      <td>0.034399</td>\n",
              "      <td>0.0</td>\n",
              "      <td>0.014601</td>\n",
              "      <td>27.873554</td>\n",
              "      <td>0.028611</td>\n",
              "      <td>0.024798</td>\n",
              "      <td>0.020281</td>\n",
              "      <td>3.132135</td>\n",
              "      <td>0.632336</td>\n",
              "      <td>1.318029</td>\n",
              "      <td>0.365566</td>\n",
              "      <td>0.044484</td>\n",
              "      <td>1.951592e-08</td>\n",
              "      <td>0.098764</td>\n",
              "      <td>3.398968e-09</td>\n",
              "      <td>0.001142</td>\n",
              "      <td>0.001141</td>\n",
              "      <td>0.00223</td>\n",
              "      <td>0.00057</td>\n",
              "      <td>0.00057</td>\n",
              "      <td>0.00788</td>\n",
              "      <td>3.896086e-09</td>\n",
              "      <td>1.684114e-10</td>\n",
              "      <td>0.001555</td>\n",
              "      <td>0.000415</td>\n",
              "      <td>6.044514e-10</td>\n",
              "      <td>0.0</td>\n",
              "      <td>6.479096e-12</td>\n",
              "      <td>3.103352e-13</td>\n",
              "      <td>3.014266e-16</td>\n",
              "      <td>0.0</td>\n",
              "      <td>0.0</td>\n",
              "    </tr>\n",
              "    <tr>\n",
              "      <th>001-003</th>\n",
              "      <td>0.0</td>\n",
              "      <td>0.000175</td>\n",
              "      <td>0.011354</td>\n",
              "      <td>0.021680</td>\n",
              "      <td>0.014907</td>\n",
              "      <td>0.019510</td>\n",
              "      <td>0.030082</td>\n",
              "      <td>66.278236</td>\n",
              "      <td>0.02099</td>\n",
              "      <td>0.034398</td>\n",
              "      <td>0.0</td>\n",
              "      <td>0.014601</td>\n",
              "      <td>27.873554</td>\n",
              "      <td>0.028611</td>\n",
              "      <td>0.024798</td>\n",
              "      <td>0.020281</td>\n",
              "      <td>3.132135</td>\n",
              "      <td>0.632336</td>\n",
              "      <td>1.318029</td>\n",
              "      <td>0.365566</td>\n",
              "      <td>0.044484</td>\n",
              "      <td>1.951662e-08</td>\n",
              "      <td>0.098764</td>\n",
              "      <td>3.399095e-09</td>\n",
              "      <td>0.001142</td>\n",
              "      <td>0.001141</td>\n",
              "      <td>0.00223</td>\n",
              "      <td>0.00057</td>\n",
              "      <td>0.00057</td>\n",
              "      <td>0.00788</td>\n",
              "      <td>3.896244e-09</td>\n",
              "      <td>1.684181e-10</td>\n",
              "      <td>0.001555</td>\n",
              "      <td>0.000415</td>\n",
              "      <td>6.044760e-10</td>\n",
              "      <td>0.0</td>\n",
              "      <td>6.479373e-12</td>\n",
              "      <td>3.103485e-13</td>\n",
              "      <td>3.014400e-16</td>\n",
              "      <td>0.0</td>\n",
              "      <td>0.0</td>\n",
              "    </tr>\n",
              "  </tbody>\n",
              "</table>\n",
              "</div>"
            ],
            "text/plain": [
              "         Combined Feed to Benzene Column C660_Detailed Composition_Hydrogen_wt%  ...  Combined Feed to Benzene Column C660_Detailed Composition_Oxygen_wt%\n",
              "001-001                                                0.0                       ...                                                0.0                   \n",
              "001-002                                                0.0                       ...                                                0.0                   \n",
              "001-003                                                0.0                       ...                                                0.0                   \n",
              "\n",
              "[3 rows x 41 columns]"
            ]
          },
          "metadata": {
            "tags": []
          },
          "execution_count": 6
        }
      ]
    },
    {
      "cell_type": "code",
      "metadata": {
        "colab": {
          "base_uri": "https://localhost:8080/"
        },
        "id": "mh_kVG5mgO3X",
        "outputId": "b6be110b-3ca0-4672-b71f-6eee7ba8b89e"
      },
      "source": [
        "np.allclose(c660_feed.values,c660_feed_pred.values)"
      ],
      "execution_count": 7,
      "outputs": [
        {
          "output_type": "execute_result",
          "data": {
            "text/plain": [
              "True"
            ]
          },
          "metadata": {
            "tags": []
          },
          "execution_count": 7
        }
      ]
    },
    {
      "cell_type": "markdown",
      "metadata": {
        "id": "MekwhgQiSOF4"
      },
      "source": [
        "# check c620,c660 -> c670"
      ]
    },
    {
      "cell_type": "code",
      "metadata": {
        "id": "PwG6ZKy8hW1B",
        "colab": {
          "base_uri": "https://localhost:8080/",
          "height": 341
        },
        "outputId": "2160ebbb-2079-4584-ee11-dc43a4f22800"
      },
      "source": [
        "c660_w4 = c660_df[c660_col['bottoms_x']]\n",
        "c620_w4 = c620_df[c620_col['bottoms_x']]\n",
        "Tray_43_mfr = c670_mb.loc[:,['Toluene Column C670 Operation_Feed Properties \\n@ Tray 43_Mass Flow Rate_ton/hr']]\n",
        "Tray_54_mfr = c670_mb.loc[:,['Toluene Column C670 Operation_Feed Properties \\n@ Tray 54_Mass Flow Rate_ton/hr']]\n",
        "total = Tray_43_mfr.values + Tray_54_mfr.values\n",
        "Tray_43_mfr = Tray_43_mfr/total\n",
        "Tray_54_mfr = Tray_54_mfr/total\n",
        "combined_pred = c660_w4.values*Tray_43_mfr.values + c620_w4.values*Tray_54_mfr.values\n",
        "combined_pred = pd.DataFrame(combined_pred,index=idx,columns=c670_col['combined'])\n",
        "combined_pred.head(3)"
      ],
      "execution_count": 8,
      "outputs": [
        {
          "output_type": "execute_result",
          "data": {
            "text/html": [
              "<div>\n",
              "<style scoped>\n",
              "    .dataframe tbody tr th:only-of-type {\n",
              "        vertical-align: middle;\n",
              "    }\n",
              "\n",
              "    .dataframe tbody tr th {\n",
              "        vertical-align: top;\n",
              "    }\n",
              "\n",
              "    .dataframe thead th {\n",
              "        text-align: right;\n",
              "    }\n",
              "</style>\n",
              "<table border=\"1\" class=\"dataframe\">\n",
              "  <thead>\n",
              "    <tr style=\"text-align: right;\">\n",
              "      <th></th>\n",
              "      <th>Toluene Column C670 Operation_Combined Feed to Toluene Column C670 : Detailed weight % Composition_Hydrogen_wt%</th>\n",
              "      <th>Toluene Column C670 Operation_Combined Feed to Toluene Column C670 : Detailed weight % Composition_Methane_wt%</th>\n",
              "      <th>Toluene Column C670 Operation_Combined Feed to Toluene Column C670 : Detailed weight % Composition_Ethane_wt%</th>\n",
              "      <th>Toluene Column C670 Operation_Combined Feed to Toluene Column C670 : Detailed weight % Composition_Propane_wt%</th>\n",
              "      <th>Toluene Column C670 Operation_Combined Feed to Toluene Column C670 : Detailed weight % Composition_n-Butane_wt%</th>\n",
              "      <th>Toluene Column C670 Operation_Combined Feed to Toluene Column C670 : Detailed weight % Composition_n-Pentane_wt%</th>\n",
              "      <th>Toluene Column C670 Operation_Combined Feed to Toluene Column C670 : Detailed weight % Composition_n-Hexane_wt%</th>\n",
              "      <th>Toluene Column C670 Operation_Combined Feed to Toluene Column C670 : Detailed weight % Composition_Benzene_wt%</th>\n",
              "      <th>Toluene Column C670 Operation_Combined Feed to Toluene Column C670 : Detailed weight % Composition_Cyclohexane_wt%</th>\n",
              "      <th>Toluene Column C670 Operation_Combined Feed to Toluene Column C670 : Detailed weight % Composition_n-Heptane_wt%</th>\n",
              "      <th>Toluene Column C670 Operation_Combined Feed to Toluene Column C670 : Detailed weight % Composition_Water_wt%</th>\n",
              "      <th>Toluene Column C670 Operation_Combined Feed to Toluene Column C670 : Detailed weight % Composition_Methylcyclohexane_wt%</th>\n",
              "      <th>Toluene Column C670 Operation_Combined Feed to Toluene Column C670 : Detailed weight % Composition_Toluene_wt%</th>\n",
              "      <th>Toluene Column C670 Operation_Combined Feed to Toluene Column C670 : Detailed weight % Composition_n-Octane_wt%</th>\n",
              "      <th>Toluene Column C670 Operation_Combined Feed to Toluene Column C670 : Detailed weight % Composition_n-Propylcyclopentane_wt%</th>\n",
              "      <th>Toluene Column C670 Operation_Combined Feed to Toluene Column C670 : Detailed weight % Composition_Ethylcyclohexane_wt%</th>\n",
              "      <th>Toluene Column C670 Operation_Combined Feed to Toluene Column C670 : Detailed weight % Composition_Ethylbenzene_wt%</th>\n",
              "      <th>Toluene Column C670 Operation_Combined Feed to Toluene Column C670 : Detailed weight % Composition_p-Xylene_wt%</th>\n",
              "      <th>Toluene Column C670 Operation_Combined Feed to Toluene Column C670 : Detailed weight % Composition_m-Xylene_wt%</th>\n",
              "      <th>Toluene Column C670 Operation_Combined Feed to Toluene Column C670 : Detailed weight % Composition_o-Xylene_wt%</th>\n",
              "      <th>Toluene Column C670 Operation_Combined Feed to Toluene Column C670 : Detailed weight % Composition_n-Nonane_wt%</th>\n",
              "      <th>Toluene Column C670 Operation_Combined Feed to Toluene Column C670 : Detailed weight % Composition_i-Propylbenzene_wt%</th>\n",
              "      <th>Toluene Column C670 Operation_Combined Feed to Toluene Column C670 : Detailed weight % Composition_n-Propylcyclohexane_wt%</th>\n",
              "      <th>Toluene Column C670 Operation_Combined Feed to Toluene Column C670 : Detailed weight % Composition_n-Propylbenzene_wt%</th>\n",
              "      <th>Toluene Column C670 Operation_Combined Feed to Toluene Column C670 : Detailed weight % Composition_1-Methyl-3-ethylbenzene_wt%</th>\n",
              "      <th>Toluene Column C670 Operation_Combined Feed to Toluene Column C670 : Detailed weight % Composition_1-Methyl-4-ethylbenzene_wt%</th>\n",
              "      <th>Toluene Column C670 Operation_Combined Feed to Toluene Column C670 : Detailed weight % Composition_1,3,5-Trimethylbenzene_wt%</th>\n",
              "      <th>Toluene Column C670 Operation_Combined Feed to Toluene Column C670 : Detailed weight % Composition_1-Methyl-2-ethylbenzene_wt%</th>\n",
              "      <th>Toluene Column C670 Operation_Combined Feed to Toluene Column C670 : Detailed weight % Composition_1,2,4-Trimethylbenzene_wt%</th>\n",
              "      <th>Toluene Column C670 Operation_Combined Feed to Toluene Column C670 : Detailed weight % Composition_tert-Butylcyclohexane_wt%</th>\n",
              "      <th>Toluene Column C670 Operation_Combined Feed to Toluene Column C670 : Detailed weight % Composition_1,2,3-Trimethylbenzene_wt%</th>\n",
              "      <th>Toluene Column C670 Operation_Combined Feed to Toluene Column C670 : Detailed weight % Composition_Indane_wt%</th>\n",
              "      <th>Toluene Column C670 Operation_Combined Feed to Toluene Column C670 : Detailed weight % Composition_1-Methyl-4-n-propylbenzene_wt%</th>\n",
              "      <th>Toluene Column C670 Operation_Combined Feed to Toluene Column C670 : Detailed weight % Composition_1,2-Diethylbenzene_wt%</th>\n",
              "      <th>Toluene Column C670 Operation_Combined Feed to Toluene Column C670 : Detailed weight % Composition_5-Ethyl-m-xylene_wt%</th>\n",
              "      <th>Toluene Column C670 Operation_Combined Feed to Toluene Column C670 : Detailed weight % Composition_1,4-Diethylbenzene_wt%</th>\n",
              "      <th>Toluene Column C670 Operation_Combined Feed to Toluene Column C670 : Detailed weight % Composition_1,2,3,5-Tetramethylbenzene_wt%</th>\n",
              "      <th>Toluene Column C670 Operation_Combined Feed to Toluene Column C670 : Detailed weight % Composition_n-Pentylbenzene_wt%</th>\n",
              "      <th>Toluene Column C670 Operation_Combined Feed to Toluene Column C670 : Detailed weight % Composition_n-Hexylbenzene_wt%</th>\n",
              "      <th>Toluene Column C670 Operation_Combined Feed to Toluene Column C670 : Detailed weight % Composition_Nitrogen_wt%</th>\n",
              "      <th>Toluene Column C670 Operation_Combined Feed to Toluene Column C670 : Detailed weight % Composition_Oxygen_wt%</th>\n",
              "    </tr>\n",
              "  </thead>\n",
              "  <tbody>\n",
              "    <tr>\n",
              "      <th>001-001</th>\n",
              "      <td>0.0</td>\n",
              "      <td>0.0</td>\n",
              "      <td>0.0</td>\n",
              "      <td>0.0</td>\n",
              "      <td>4.424852e-24</td>\n",
              "      <td>1.517322e-16</td>\n",
              "      <td>1.353407e-09</td>\n",
              "      <td>0.218932</td>\n",
              "      <td>0.000173</td>\n",
              "      <td>0.003677</td>\n",
              "      <td>0.0</td>\n",
              "      <td>0.014934</td>\n",
              "      <td>50.471384</td>\n",
              "      <td>0.019318</td>\n",
              "      <td>0.019702</td>\n",
              "      <td>0.017998</td>\n",
              "      <td>2.190495</td>\n",
              "      <td>8.061416</td>\n",
              "      <td>17.576530</td>\n",
              "      <td>7.120586</td>\n",
              "      <td>0.031811</td>\n",
              "      <td>0.005885</td>\n",
              "      <td>0.040147</td>\n",
              "      <td>0.006866</td>\n",
              "      <td>0.962607</td>\n",
              "      <td>0.504568</td>\n",
              "      <td>2.554874</td>\n",
              "      <td>0.283670</td>\n",
              "      <td>6.523591</td>\n",
              "      <td>0.002977</td>\n",
              "      <td>1.041622</td>\n",
              "      <td>0.034328</td>\n",
              "      <td>0.001568</td>\n",
              "      <td>0.022715</td>\n",
              "      <td>0.881749</td>\n",
              "      <td>0.0</td>\n",
              "      <td>1.014159</td>\n",
              "      <td>0.259915</td>\n",
              "      <td>0.111812</td>\n",
              "      <td>0.0</td>\n",
              "      <td>0.0</td>\n",
              "    </tr>\n",
              "    <tr>\n",
              "      <th>001-002</th>\n",
              "      <td>0.0</td>\n",
              "      <td>0.0</td>\n",
              "      <td>0.0</td>\n",
              "      <td>0.0</td>\n",
              "      <td>4.425127e-24</td>\n",
              "      <td>1.517419e-16</td>\n",
              "      <td>1.353472e-09</td>\n",
              "      <td>0.218930</td>\n",
              "      <td>0.000173</td>\n",
              "      <td>0.003676</td>\n",
              "      <td>0.0</td>\n",
              "      <td>0.015163</td>\n",
              "      <td>50.471329</td>\n",
              "      <td>0.019319</td>\n",
              "      <td>0.019702</td>\n",
              "      <td>0.017998</td>\n",
              "      <td>2.190488</td>\n",
              "      <td>8.061389</td>\n",
              "      <td>17.576470</td>\n",
              "      <td>7.120560</td>\n",
              "      <td>0.031811</td>\n",
              "      <td>0.005885</td>\n",
              "      <td>0.040147</td>\n",
              "      <td>0.006866</td>\n",
              "      <td>0.962603</td>\n",
              "      <td>0.504566</td>\n",
              "      <td>2.554866</td>\n",
              "      <td>0.283669</td>\n",
              "      <td>6.523568</td>\n",
              "      <td>0.002977</td>\n",
              "      <td>1.041618</td>\n",
              "      <td>0.034328</td>\n",
              "      <td>0.001568</td>\n",
              "      <td>0.022715</td>\n",
              "      <td>0.881746</td>\n",
              "      <td>0.0</td>\n",
              "      <td>1.014155</td>\n",
              "      <td>0.259914</td>\n",
              "      <td>0.111812</td>\n",
              "      <td>0.0</td>\n",
              "      <td>0.0</td>\n",
              "    </tr>\n",
              "    <tr>\n",
              "      <th>001-003</th>\n",
              "      <td>0.0</td>\n",
              "      <td>0.0</td>\n",
              "      <td>0.0</td>\n",
              "      <td>0.0</td>\n",
              "      <td>4.424987e-24</td>\n",
              "      <td>1.517366e-16</td>\n",
              "      <td>1.353417e-09</td>\n",
              "      <td>0.218930</td>\n",
              "      <td>0.000173</td>\n",
              "      <td>0.003676</td>\n",
              "      <td>0.0</td>\n",
              "      <td>0.015339</td>\n",
              "      <td>50.471270</td>\n",
              "      <td>0.019320</td>\n",
              "      <td>0.019702</td>\n",
              "      <td>0.017998</td>\n",
              "      <td>2.190483</td>\n",
              "      <td>8.061370</td>\n",
              "      <td>17.576429</td>\n",
              "      <td>7.120544</td>\n",
              "      <td>0.031811</td>\n",
              "      <td>0.005885</td>\n",
              "      <td>0.040147</td>\n",
              "      <td>0.006866</td>\n",
              "      <td>0.962601</td>\n",
              "      <td>0.504565</td>\n",
              "      <td>2.554859</td>\n",
              "      <td>0.283668</td>\n",
              "      <td>6.523552</td>\n",
              "      <td>0.002977</td>\n",
              "      <td>1.041615</td>\n",
              "      <td>0.034328</td>\n",
              "      <td>0.001568</td>\n",
              "      <td>0.022715</td>\n",
              "      <td>0.881744</td>\n",
              "      <td>0.0</td>\n",
              "      <td>1.014153</td>\n",
              "      <td>0.259913</td>\n",
              "      <td>0.111812</td>\n",
              "      <td>0.0</td>\n",
              "      <td>0.0</td>\n",
              "    </tr>\n",
              "  </tbody>\n",
              "</table>\n",
              "</div>"
            ],
            "text/plain": [
              "         Toluene Column C670 Operation_Combined Feed to Toluene Column C670 : Detailed weight % Composition_Hydrogen_wt%  ...  Toluene Column C670 Operation_Combined Feed to Toluene Column C670 : Detailed weight % Composition_Oxygen_wt%\n",
              "001-001                                                0.0                                                                ...                                                0.0                                                            \n",
              "001-002                                                0.0                                                                ...                                                0.0                                                            \n",
              "001-003                                                0.0                                                                ...                                                0.0                                                            \n",
              "\n",
              "[3 rows x 41 columns]"
            ]
          },
          "metadata": {
            "tags": []
          },
          "execution_count": 8
        }
      ]
    },
    {
      "cell_type": "code",
      "metadata": {
        "colab": {
          "base_uri": "https://localhost:8080/",
          "height": 341
        },
        "id": "1iW9goceTx5I",
        "outputId": "2b707d9c-c0eb-401d-ff15-0339a5f10b5c"
      },
      "source": [
        "combined = c670_df[c670_col['combined']]\n",
        "combined.head(3)"
      ],
      "execution_count": 9,
      "outputs": [
        {
          "output_type": "execute_result",
          "data": {
            "text/html": [
              "<div>\n",
              "<style scoped>\n",
              "    .dataframe tbody tr th:only-of-type {\n",
              "        vertical-align: middle;\n",
              "    }\n",
              "\n",
              "    .dataframe tbody tr th {\n",
              "        vertical-align: top;\n",
              "    }\n",
              "\n",
              "    .dataframe thead th {\n",
              "        text-align: right;\n",
              "    }\n",
              "</style>\n",
              "<table border=\"1\" class=\"dataframe\">\n",
              "  <thead>\n",
              "    <tr style=\"text-align: right;\">\n",
              "      <th></th>\n",
              "      <th>Toluene Column C670 Operation_Combined Feed to Toluene Column C670 : Detailed weight % Composition_Hydrogen_wt%</th>\n",
              "      <th>Toluene Column C670 Operation_Combined Feed to Toluene Column C670 : Detailed weight % Composition_Methane_wt%</th>\n",
              "      <th>Toluene Column C670 Operation_Combined Feed to Toluene Column C670 : Detailed weight % Composition_Ethane_wt%</th>\n",
              "      <th>Toluene Column C670 Operation_Combined Feed to Toluene Column C670 : Detailed weight % Composition_Propane_wt%</th>\n",
              "      <th>Toluene Column C670 Operation_Combined Feed to Toluene Column C670 : Detailed weight % Composition_n-Butane_wt%</th>\n",
              "      <th>Toluene Column C670 Operation_Combined Feed to Toluene Column C670 : Detailed weight % Composition_n-Pentane_wt%</th>\n",
              "      <th>Toluene Column C670 Operation_Combined Feed to Toluene Column C670 : Detailed weight % Composition_n-Hexane_wt%</th>\n",
              "      <th>Toluene Column C670 Operation_Combined Feed to Toluene Column C670 : Detailed weight % Composition_Benzene_wt%</th>\n",
              "      <th>Toluene Column C670 Operation_Combined Feed to Toluene Column C670 : Detailed weight % Composition_Cyclohexane_wt%</th>\n",
              "      <th>Toluene Column C670 Operation_Combined Feed to Toluene Column C670 : Detailed weight % Composition_n-Heptane_wt%</th>\n",
              "      <th>Toluene Column C670 Operation_Combined Feed to Toluene Column C670 : Detailed weight % Composition_Water_wt%</th>\n",
              "      <th>Toluene Column C670 Operation_Combined Feed to Toluene Column C670 : Detailed weight % Composition_Methylcyclohexane_wt%</th>\n",
              "      <th>Toluene Column C670 Operation_Combined Feed to Toluene Column C670 : Detailed weight % Composition_Toluene_wt%</th>\n",
              "      <th>Toluene Column C670 Operation_Combined Feed to Toluene Column C670 : Detailed weight % Composition_n-Octane_wt%</th>\n",
              "      <th>Toluene Column C670 Operation_Combined Feed to Toluene Column C670 : Detailed weight % Composition_n-Propylcyclopentane_wt%</th>\n",
              "      <th>Toluene Column C670 Operation_Combined Feed to Toluene Column C670 : Detailed weight % Composition_Ethylcyclohexane_wt%</th>\n",
              "      <th>Toluene Column C670 Operation_Combined Feed to Toluene Column C670 : Detailed weight % Composition_Ethylbenzene_wt%</th>\n",
              "      <th>Toluene Column C670 Operation_Combined Feed to Toluene Column C670 : Detailed weight % Composition_p-Xylene_wt%</th>\n",
              "      <th>Toluene Column C670 Operation_Combined Feed to Toluene Column C670 : Detailed weight % Composition_m-Xylene_wt%</th>\n",
              "      <th>Toluene Column C670 Operation_Combined Feed to Toluene Column C670 : Detailed weight % Composition_o-Xylene_wt%</th>\n",
              "      <th>Toluene Column C670 Operation_Combined Feed to Toluene Column C670 : Detailed weight % Composition_n-Nonane_wt%</th>\n",
              "      <th>Toluene Column C670 Operation_Combined Feed to Toluene Column C670 : Detailed weight % Composition_i-Propylbenzene_wt%</th>\n",
              "      <th>Toluene Column C670 Operation_Combined Feed to Toluene Column C670 : Detailed weight % Composition_n-Propylcyclohexane_wt%</th>\n",
              "      <th>Toluene Column C670 Operation_Combined Feed to Toluene Column C670 : Detailed weight % Composition_n-Propylbenzene_wt%</th>\n",
              "      <th>Toluene Column C670 Operation_Combined Feed to Toluene Column C670 : Detailed weight % Composition_1-Methyl-3-ethylbenzene_wt%</th>\n",
              "      <th>Toluene Column C670 Operation_Combined Feed to Toluene Column C670 : Detailed weight % Composition_1-Methyl-4-ethylbenzene_wt%</th>\n",
              "      <th>Toluene Column C670 Operation_Combined Feed to Toluene Column C670 : Detailed weight % Composition_1,3,5-Trimethylbenzene_wt%</th>\n",
              "      <th>Toluene Column C670 Operation_Combined Feed to Toluene Column C670 : Detailed weight % Composition_1-Methyl-2-ethylbenzene_wt%</th>\n",
              "      <th>Toluene Column C670 Operation_Combined Feed to Toluene Column C670 : Detailed weight % Composition_1,2,4-Trimethylbenzene_wt%</th>\n",
              "      <th>Toluene Column C670 Operation_Combined Feed to Toluene Column C670 : Detailed weight % Composition_tert-Butylcyclohexane_wt%</th>\n",
              "      <th>Toluene Column C670 Operation_Combined Feed to Toluene Column C670 : Detailed weight % Composition_1,2,3-Trimethylbenzene_wt%</th>\n",
              "      <th>Toluene Column C670 Operation_Combined Feed to Toluene Column C670 : Detailed weight % Composition_Indane_wt%</th>\n",
              "      <th>Toluene Column C670 Operation_Combined Feed to Toluene Column C670 : Detailed weight % Composition_1-Methyl-4-n-propylbenzene_wt%</th>\n",
              "      <th>Toluene Column C670 Operation_Combined Feed to Toluene Column C670 : Detailed weight % Composition_1,2-Diethylbenzene_wt%</th>\n",
              "      <th>Toluene Column C670 Operation_Combined Feed to Toluene Column C670 : Detailed weight % Composition_5-Ethyl-m-xylene_wt%</th>\n",
              "      <th>Toluene Column C670 Operation_Combined Feed to Toluene Column C670 : Detailed weight % Composition_1,4-Diethylbenzene_wt%</th>\n",
              "      <th>Toluene Column C670 Operation_Combined Feed to Toluene Column C670 : Detailed weight % Composition_1,2,3,5-Tetramethylbenzene_wt%</th>\n",
              "      <th>Toluene Column C670 Operation_Combined Feed to Toluene Column C670 : Detailed weight % Composition_n-Pentylbenzene_wt%</th>\n",
              "      <th>Toluene Column C670 Operation_Combined Feed to Toluene Column C670 : Detailed weight % Composition_n-Hexylbenzene_wt%</th>\n",
              "      <th>Toluene Column C670 Operation_Combined Feed to Toluene Column C670 : Detailed weight % Composition_Nitrogen_wt%</th>\n",
              "      <th>Toluene Column C670 Operation_Combined Feed to Toluene Column C670 : Detailed weight % Composition_Oxygen_wt%</th>\n",
              "    </tr>\n",
              "  </thead>\n",
              "  <tbody>\n",
              "    <tr>\n",
              "      <th>001-001</th>\n",
              "      <td>0.0</td>\n",
              "      <td>0.0</td>\n",
              "      <td>0.0</td>\n",
              "      <td>0.0</td>\n",
              "      <td>0.0</td>\n",
              "      <td>0.0</td>\n",
              "      <td>0.0</td>\n",
              "      <td>0.218932</td>\n",
              "      <td>0.000173</td>\n",
              "      <td>0.003677</td>\n",
              "      <td>0.0</td>\n",
              "      <td>0.014934</td>\n",
              "      <td>50.471396</td>\n",
              "      <td>0.019317</td>\n",
              "      <td>0.019702</td>\n",
              "      <td>0.017998</td>\n",
              "      <td>2.190489</td>\n",
              "      <td>8.061415</td>\n",
              "      <td>17.576528</td>\n",
              "      <td>7.120585</td>\n",
              "      <td>0.031811</td>\n",
              "      <td>0.005885</td>\n",
              "      <td>0.040147</td>\n",
              "      <td>0.006866</td>\n",
              "      <td>0.962607</td>\n",
              "      <td>0.504568</td>\n",
              "      <td>2.554874</td>\n",
              "      <td>0.283670</td>\n",
              "      <td>6.523591</td>\n",
              "      <td>0.002977</td>\n",
              "      <td>1.041622</td>\n",
              "      <td>0.034328</td>\n",
              "      <td>0.001568</td>\n",
              "      <td>0.022715</td>\n",
              "      <td>0.881749</td>\n",
              "      <td>0.0</td>\n",
              "      <td>1.014159</td>\n",
              "      <td>0.259915</td>\n",
              "      <td>0.111812</td>\n",
              "      <td>0.0</td>\n",
              "      <td>0.0</td>\n",
              "    </tr>\n",
              "    <tr>\n",
              "      <th>001-002</th>\n",
              "      <td>0.0</td>\n",
              "      <td>0.0</td>\n",
              "      <td>0.0</td>\n",
              "      <td>0.0</td>\n",
              "      <td>0.0</td>\n",
              "      <td>0.0</td>\n",
              "      <td>0.0</td>\n",
              "      <td>0.218930</td>\n",
              "      <td>0.000173</td>\n",
              "      <td>0.003676</td>\n",
              "      <td>0.0</td>\n",
              "      <td>0.015163</td>\n",
              "      <td>50.471338</td>\n",
              "      <td>0.019319</td>\n",
              "      <td>0.019702</td>\n",
              "      <td>0.017998</td>\n",
              "      <td>2.190482</td>\n",
              "      <td>8.061388</td>\n",
              "      <td>17.576468</td>\n",
              "      <td>7.120560</td>\n",
              "      <td>0.031811</td>\n",
              "      <td>0.005885</td>\n",
              "      <td>0.040147</td>\n",
              "      <td>0.006866</td>\n",
              "      <td>0.962603</td>\n",
              "      <td>0.504566</td>\n",
              "      <td>2.554866</td>\n",
              "      <td>0.283669</td>\n",
              "      <td>6.523568</td>\n",
              "      <td>0.002977</td>\n",
              "      <td>1.041618</td>\n",
              "      <td>0.034328</td>\n",
              "      <td>0.001568</td>\n",
              "      <td>0.022715</td>\n",
              "      <td>0.881746</td>\n",
              "      <td>0.0</td>\n",
              "      <td>1.014155</td>\n",
              "      <td>0.259914</td>\n",
              "      <td>0.111812</td>\n",
              "      <td>0.0</td>\n",
              "      <td>0.0</td>\n",
              "    </tr>\n",
              "    <tr>\n",
              "      <th>001-003</th>\n",
              "      <td>0.0</td>\n",
              "      <td>0.0</td>\n",
              "      <td>0.0</td>\n",
              "      <td>0.0</td>\n",
              "      <td>0.0</td>\n",
              "      <td>0.0</td>\n",
              "      <td>0.0</td>\n",
              "      <td>0.218930</td>\n",
              "      <td>0.000173</td>\n",
              "      <td>0.003676</td>\n",
              "      <td>0.0</td>\n",
              "      <td>0.015339</td>\n",
              "      <td>50.471280</td>\n",
              "      <td>0.019320</td>\n",
              "      <td>0.019702</td>\n",
              "      <td>0.017998</td>\n",
              "      <td>2.190477</td>\n",
              "      <td>8.061369</td>\n",
              "      <td>17.576426</td>\n",
              "      <td>7.120543</td>\n",
              "      <td>0.031811</td>\n",
              "      <td>0.005885</td>\n",
              "      <td>0.040147</td>\n",
              "      <td>0.006866</td>\n",
              "      <td>0.962601</td>\n",
              "      <td>0.504565</td>\n",
              "      <td>2.554859</td>\n",
              "      <td>0.283668</td>\n",
              "      <td>6.523552</td>\n",
              "      <td>0.002977</td>\n",
              "      <td>1.041615</td>\n",
              "      <td>0.034328</td>\n",
              "      <td>0.001568</td>\n",
              "      <td>0.022715</td>\n",
              "      <td>0.881744</td>\n",
              "      <td>0.0</td>\n",
              "      <td>1.014153</td>\n",
              "      <td>0.259913</td>\n",
              "      <td>0.111812</td>\n",
              "      <td>0.0</td>\n",
              "      <td>0.0</td>\n",
              "    </tr>\n",
              "  </tbody>\n",
              "</table>\n",
              "</div>"
            ],
            "text/plain": [
              "         Toluene Column C670 Operation_Combined Feed to Toluene Column C670 : Detailed weight % Composition_Hydrogen_wt%  ...  Toluene Column C670 Operation_Combined Feed to Toluene Column C670 : Detailed weight % Composition_Oxygen_wt%\n",
              "001-001                                                0.0                                                                ...                                                0.0                                                            \n",
              "001-002                                                0.0                                                                ...                                                0.0                                                            \n",
              "001-003                                                0.0                                                                ...                                                0.0                                                            \n",
              "\n",
              "[3 rows x 41 columns]"
            ]
          },
          "metadata": {
            "tags": []
          },
          "execution_count": 9
        }
      ]
    },
    {
      "cell_type": "code",
      "metadata": {
        "colab": {
          "base_uri": "https://localhost:8080/"
        },
        "id": "pBPtLtAeUG3A",
        "outputId": "341a934f-d53a-458a-e7dc-0a39e1384126"
      },
      "source": [
        "np.allclose(combined_pred.values,combined.values)"
      ],
      "execution_count": 10,
      "outputs": [
        {
          "output_type": "execute_result",
          "data": {
            "text/plain": [
              "True"
            ]
          },
          "metadata": {
            "tags": []
          },
          "execution_count": 10
        }
      ]
    },
    {
      "cell_type": "markdown",
      "metadata": {
        "id": "1IIX4P1gEKnQ"
      },
      "source": [
        "# bf(c670混參比例) 41*2 check"
      ]
    },
    {
      "cell_type": "markdown",
      "metadata": {
        "id": "GDPTuxnaGAEw"
      },
      "source": [
        "# 修改前"
      ]
    },
    {
      "cell_type": "code",
      "metadata": {
        "id": "G6mjtjWFAgeQ",
        "colab": {
          "base_uri": "https://localhost:8080/"
        },
        "outputId": "9de37a0e-b250-42b7-afe4-6d1edd355358"
      },
      "source": [
        "np.allclose(c670_df[c670_col['upper_bf']].values+c670_df[c670_col['lower_bf']].values,1.0)"
      ],
      "execution_count": 11,
      "outputs": [
        {
          "output_type": "execute_result",
          "data": {
            "text/plain": [
              "True"
            ]
          },
          "metadata": {
            "tags": []
          },
          "execution_count": 11
        }
      ]
    },
    {
      "cell_type": "code",
      "metadata": {
        "id": "ogqRFKi7AgkQ",
        "colab": {
          "base_uri": "https://localhost:8080/",
          "height": 601
        },
        "outputId": "925ba8aa-3e8a-4046-c697-b2fe430d1e2f"
      },
      "source": [
        "# 根據條件修改值\n",
        "a = c670_df[c670_col['upper_bf']+c670_col['lower_bf']]\n",
        "紫色零點零欄位 = a[a==0.0].dropna(axis=1).columns.tolist()\n",
        "紫色零點一欄位 = a[a==0.1].dropna(axis=1).columns.tolist()\n",
        "紫色零點九欄位 = a[a==0.9].dropna(axis=1).columns.tolist()\n",
        "紫色一點零欄位 = a[a==1.0].dropna(axis=1).columns.tolist()\n",
        "print('修改欄位數量:',len(紫色零點零欄位+紫色零點一欄位+紫色零點九欄位+紫色一點零欄位))\n",
        "c670_df.loc[:,紫色零點零欄位] = 0.0001 \n",
        "c670_df.loc[:,紫色零點一欄位] = 0.0001 \n",
        "c670_df.loc[:,紫色零點九欄位] = 0.9999\n",
        "c670_df.loc[:,紫色一點零欄位] = 0.9999\n",
        "c670_df[紫色零點零欄位+紫色零點一欄位+紫色零點九欄位+紫色一點零欄位].head()\n",
        "index_0001 = 紫色零點零欄位+紫色零點一欄位\n",
        "index_9999 = 紫色零點九欄位+紫色一點零欄位\n",
        "\n",
        "# 確認質量平衡\n",
        "print(np.allclose(c670_df[c670_col['upper_bf']].values+c670_df[c670_col['lower_bf']].values,1.0))\n",
        "\n",
        "# 用bf轉換成combined\n",
        "x1 = c670_df.loc[idx,c670_col['xTray43']].values\n",
        "x2 = c670_df.loc[idx,c670_col['xTray54']].values\n",
        "bf1 = c670_df.loc[idx,c670_col['upper_bf']].values\n",
        "bf2 = c670_df.loc[idx,c670_col['lower_bf']].values\n",
        "print(x1.shape,x2.shape,bf1.shape,bf2.shape)\n",
        "combined_real = c670_df.loc[idx,c670_col['combined']].values\n",
        "combined_pred = x1*bf1 + x2*bf2\n",
        "print(np.allclose(combined_real,combined_pred))\n",
        "plt.imshow(combined_real[:41])\n",
        "plt.show()\n",
        "plt.imshow(combined_pred[:41])"
      ],
      "execution_count": 12,
      "outputs": [
        {
          "output_type": "stream",
          "text": [
            "修改欄位數量: 24\n",
            "True\n",
            "(15547, 41) (15547, 41) (15547, 41) (15547, 41)\n",
            "False\n"
          ],
          "name": "stdout"
        },
        {
          "output_type": "display_data",
          "data": {
            "image/png": "[encoded data removed]",
            "text/plain": [
              "<Figure size 432x288 with 1 Axes>"
            ]
          },
          "metadata": {
            "tags": [],
            "needs_background": "light"
          }
        },
        {
          "output_type": "execute_result",
          "data": {
            "text/plain": [
              "<matplotlib.image.AxesImage at 0x7f6809ee22d0>"
            ]
          },
          "metadata": {
            "tags": []
          },
          "execution_count": 12
        },
        {
          "output_type": "display_data",
          "data": {
            "image/png": "[encoded data removed]",
            "text/plain": [
              "<Figure size 432x288 with 1 Axes>"
            ]
          },
          "metadata": {
            "tags": [],
            "needs_background": "light"
          }
        }
      ]
    },
    {
      "cell_type": "markdown",
      "metadata": {
        "id": "ZouCZLUMPSZh"
      },
      "source": [
        "# check massblance"
      ]
    },
    {
      "cell_type": "code",
      "metadata": {
        "id": "VhpD6TUHaF7d",
        "colab": {
          "base_uri": "https://localhost:8080/"
        },
        "outputId": "2a958d73-42c1-494b-f383-a5d5a30c0756"
      },
      "source": [
        "np.allclose(c620_mb.iloc[:,0].values,c620_mb.iloc[:,1:].sum(axis=1).values),\\\n",
        "np.allclose(c660_mb.iloc[:,0].values,c660_mb.iloc[:,1:].sum(axis=1).values),\\\n",
        "np.allclose(c670_mb.iloc[:,[0,1]].sum(axis=1).values,c670_mb.iloc[:,[2,3]].sum(axis=1).values)"
      ],
      "execution_count": 13,
      "outputs": [
        {
          "output_type": "execute_result",
          "data": {
            "text/plain": [
              "(True, True, True)"
            ]
          },
          "metadata": {
            "tags": []
          },
          "execution_count": 13
        }
      ]
    },
    {
      "cell_type": "code",
      "metadata": {
        "id": "IIzhF6mpSFHs"
      },
      "source": [
        "def check_massblance(df,mb,c,name):\n",
        "  if (name == 'c620') or (name == 'c660'):\n",
        "    feed = df[c['x41']]*mb.iloc[:,0].values.reshape(-1,1)\n",
        "    wt1 = df[c['vent_gas_x']]*mb.iloc[:,1].values.reshape(-1,1)\n",
        "    wt2 = df[c['distillate_x']]*mb.iloc[:,2].values.reshape(-1,1)\n",
        "    wt3 = df[c['sidedraw_x']]*mb.iloc[:,3].values.reshape(-1,1)\n",
        "    wt4 = df[c['bottoms_x']]*mb.iloc[:,4].values.reshape(-1,1)\n",
        "    a = feed.values\n",
        "    b = wt1.values+wt2.values+wt3.values+wt4.values\n",
        "    print(np.allclose(a,b,atol=2e-2))\n",
        "    print('mean error:',np.abs(a-b).mean())\n",
        "    return pd.DataFrame(a),pd.DataFrame(b)\n",
        "  elif name == 'c670':\n",
        "    feed1 = df[c['xTray43']]*mb.loc[:,'Toluene Column C670 Operation_Feed Properties \\n@ Tray 43_Mass Flow Rate_ton/hr'].values.reshape(-1,1)\n",
        "    feed2 = df[c['xTray54']]*mb.loc[:,'Toluene Column C670 Operation_Feed Properties \\n@ Tray 54_Mass Flow Rate_ton/hr'].values.reshape(-1,1)\n",
        "    wt1 = df[c['distillate_x']]*mb.iloc[:,2].values.reshape(-1,1)\n",
        "    wt2 = df[c['bottoms_x']]*mb.iloc[:,3].values.reshape(-1,1)\n",
        "    a = feed1.values+feed2.values\n",
        "    b = wt1.values+wt2.values\n",
        "    print(np.allclose(a,b,atol=2e-2))\n",
        "    print('mean error:',np.abs(a-b).mean())\n",
        "    return pd.DataFrame(a),pd.DataFrame(b)"
      ],
      "execution_count": 14,
      "outputs": []
    },
    {
      "cell_type": "code",
      "metadata": {
        "id": "wsDrKDafS4or",
        "colab": {
          "base_uri": "https://localhost:8080/",
          "height": 0
        },
        "outputId": "fc09df53-4d19-4052-ca2d-5ea54f336d82"
      },
      "source": [
        "a,b = check_massblance(c620_df,c620_mb,c620_col,'c620')\n",
        "idx = a.sample(41).index\n",
        "plt.imshow(a.loc[idx].values)\n",
        "plt.show()\n",
        "plt.imshow(b.loc[idx].values)"
      ],
      "execution_count": 15,
      "outputs": [
        {
          "output_type": "stream",
          "text": [
            "True\n",
            "mean error: 6.271399251612663e-05\n"
          ],
          "name": "stdout"
        },
        {
          "output_type": "display_data",
          "data": {
            "image/png": "[encoded data removed]",
            "text/plain": [
              "<Figure size 432x288 with 1 Axes>"
            ]
          },
          "metadata": {
            "tags": [],
            "needs_background": "light"
          }
        },
        {
          "output_type": "execute_result",
          "data": {
            "text/plain": [
              "<matplotlib.image.AxesImage at 0x7f6809dbee50>"
            ]
          },
          "metadata": {
            "tags": []
          },
          "execution_count": 15
        },
        {
          "output_type": "display_data",
          "data": {
            "image/png": "[encoded data removed]",
            "text/plain": [
              "<Figure size 432x288 with 1 Axes>"
            ]
          },
          "metadata": {
            "tags": [],
            "needs_background": "light"
          }
        }
      ]
    },
    {
      "cell_type": "code",
      "metadata": {
        "id": "bKQhnZZVYdsx",
        "colab": {
          "base_uri": "https://localhost:8080/"
        },
        "outputId": "b5d91d69-f7d3-4a7f-a0a3-1f37e728249b"
      },
      "source": [
        "a.loc[idx].values,b.loc[idx].values"
      ],
      "execution_count": 16,
      "outputs": [
        {
          "output_type": "execute_result",
          "data": {
            "text/plain": [
              "(array([[  0.        ,   4.3063161 , 104.04058242, ...,  19.63680249,\n",
              "           0.        ,   0.        ],\n",
              "        [  0.        ,   3.50964798,  84.79308116, ...,  16.00399397,\n",
              "           0.        ,   0.        ],\n",
              "        [  0.        ,   4.3063161 , 104.04058242, ...,  19.63680249,\n",
              "           0.        ,   0.        ],\n",
              "        ...,\n",
              "        [  0.        ,   4.04793594,  97.79810843, ...,  18.45858773,\n",
              "           0.        ,   0.        ],\n",
              "        [  0.        ,   2.81635003,  68.29649688, ...,  21.26344271,\n",
              "           0.        ,   0.        ],\n",
              "        [  0.        ,   3.50964798,  84.79308116, ...,  16.00399397,\n",
              "           0.        ,   0.        ]]),\n",
              " array([[  0.        ,   4.3063165 , 104.04059552, ...,  19.63679854,\n",
              "           0.        ,   0.        ],\n",
              "        [  0.        ,   3.50964726,  84.79307583, ...,  16.00398844,\n",
              "           0.        ,   0.        ],\n",
              "        [  0.        ,   4.30631664, 104.04058941, ...,  19.63679556,\n",
              "           0.        ,   0.        ],\n",
              "        ...,\n",
              "        [  0.        ,   4.04793693,  97.79814655, ...,  18.45858802,\n",
              "           0.        ,   0.        ],\n",
              "        [  0.        ,   2.81634998,  68.29648148, ...,  21.26344406,\n",
              "           0.        ,   0.        ],\n",
              "        [  0.        ,   3.50964751,  84.79308508, ...,  16.00399148,\n",
              "           0.        ,   0.        ]]))"
            ]
          },
          "metadata": {
            "tags": []
          },
          "execution_count": 16
        }
      ]
    },
    {
      "cell_type": "code",
      "metadata": {
        "id": "O9UfsqjDQH_Q",
        "colab": {
          "base_uri": "https://localhost:8080/",
          "height": 0
        },
        "outputId": "0ae7a2ee-805a-4ee0-ca62-e7aee246e077"
      },
      "source": [
        "a,b = check_massblance(c660_df,c660_mb,c660_col,'c660')\n",
        "idx = a.sample(41).index\n",
        "plt.imshow(a.loc[idx].values)\n",
        "plt.show()\n",
        "plt.imshow(b.loc[idx].values)"
      ],
      "execution_count": 17,
      "outputs": [
        {
          "output_type": "stream",
          "text": [
            "True\n",
            "mean error: 2.9024358135451845e-05\n"
          ],
          "name": "stdout"
        },
        {
          "output_type": "display_data",
          "data": {
            "image/png": "[encoded data removed]",
            "text/plain": [
              "<Figure size 432x288 with 1 Axes>"
            ]
          },
          "metadata": {
            "tags": [],
            "needs_background": "light"
          }
        },
        {
          "output_type": "execute_result",
          "data": {
            "text/plain": [
              "<matplotlib.image.AxesImage at 0x7f6809d21b50>"
            ]
          },
          "metadata": {
            "tags": []
          },
          "execution_count": 17
        },
        {
          "output_type": "display_data",
          "data": {
            "image/png": "[encoded data removed]",
            "text/plain": [
              "<Figure size 432x288 with 1 Axes>"
            ]
          },
          "metadata": {
            "tags": [],
            "needs_background": "light"
          }
        }
      ]
    },
    {
      "cell_type": "code",
      "metadata": {
        "id": "Rm7zYQjHYcuw",
        "colab": {
          "base_uri": "https://localhost:8080/"
        },
        "outputId": "d78194bf-27b0-4f81-cf6c-5d68696924e7"
      },
      "source": [
        "a.loc[idx].values,b.loc[idx].values"
      ],
      "execution_count": 18,
      "outputs": [
        {
          "output_type": "execute_result",
          "data": {
            "text/plain": [
              "(array([[0.00000000e+00, 1.06029353e-02, 6.86131746e-01, ...,\n",
              "         1.80128500e-14, 0.00000000e+00, 0.00000000e+00],\n",
              "        [0.00000000e+00, 1.12668799e-02, 7.29166624e-01, ...,\n",
              "         1.89048947e-14, 0.00000000e+00, 0.00000000e+00],\n",
              "        [0.00000000e+00, 7.26850055e-03, 4.71221721e-01, ...,\n",
              "         1.87037979e-14, 0.00000000e+00, 0.00000000e+00],\n",
              "        ...,\n",
              "        [0.00000000e+00, 1.47549626e-02, 9.58993302e-01, ...,\n",
              "         4.07778921e-13, 0.00000000e+00, 0.00000000e+00],\n",
              "        [0.00000000e+00, 9.27151366e-03, 6.02821551e-01, ...,\n",
              "         1.02969983e-13, 0.00000000e+00, 0.00000000e+00],\n",
              "        [0.00000000e+00, 8.67491094e-03, 5.63995937e-01, ...,\n",
              "         9.73126581e-14, 0.00000000e+00, 0.00000000e+00]]),\n",
              " array([[0.00000000e+00, 1.06029355e-02, 6.86131882e-01, ...,\n",
              "         1.80128524e-14, 0.00000000e+00, 0.00000000e+00],\n",
              "        [0.00000000e+00, 1.12668798e-02, 7.29166560e-01, ...,\n",
              "         1.89048953e-14, 0.00000000e+00, 0.00000000e+00],\n",
              "        [0.00000000e+00, 7.26849981e-03, 4.71221684e-01, ...,\n",
              "         1.87037928e-14, 0.00000000e+00, 0.00000000e+00],\n",
              "        ...,\n",
              "        [0.00000000e+00, 1.47549630e-02, 9.58993272e-01, ...,\n",
              "         4.07778984e-13, 0.00000000e+00, 0.00000000e+00],\n",
              "        [0.00000000e+00, 9.27151098e-03, 6.02821384e-01, ...,\n",
              "         1.02969974e-13, 0.00000000e+00, 0.00000000e+00],\n",
              "        [0.00000000e+00, 8.67490905e-03, 5.63995731e-01, ...,\n",
              "         9.73126117e-14, 0.00000000e+00, 0.00000000e+00]]))"
            ]
          },
          "metadata": {
            "tags": []
          },
          "execution_count": 18
        }
      ]
    },
    {
      "cell_type": "code",
      "metadata": {
        "id": "ePd9caI7RfBS",
        "colab": {
          "base_uri": "https://localhost:8080/",
          "height": 0
        },
        "outputId": "80111348-f7d7-4167-ce96-76617dc40c3c"
      },
      "source": [
        "a,b = check_massblance(c670_df,c670_mb,c670_col,'c670')\n",
        "idx = a.sample(41).index\n",
        "plt.imshow(a.loc[idx].values)\n",
        "plt.show()\n",
        "plt.imshow(b.loc[idx].values)"
      ],
      "execution_count": 19,
      "outputs": [
        {
          "output_type": "stream",
          "text": [
            "True\n",
            "mean error: 5.118631404322684e-05\n"
          ],
          "name": "stdout"
        },
        {
          "output_type": "display_data",
          "data": {
            "image/png": "[encoded data removed]",
            "text/plain": [
              "<Figure size 432x288 with 1 Axes>"
            ]
          },
          "metadata": {
            "tags": [],
            "needs_background": "light"
          }
        },
        {
          "output_type": "execute_result",
          "data": {
            "text/plain": [
              "<matplotlib.image.AxesImage at 0x7f6809c0b950>"
            ]
          },
          "metadata": {
            "tags": []
          },
          "execution_count": 19
        },
        {
          "output_type": "display_data",
          "data": {
            "image/png": "[encoded data removed]",
            "text/plain": [
              "<Figure size 432x288 with 1 Axes>"
            ]
          },
          "metadata": {
            "tags": [],
            "needs_background": "light"
          }
        }
      ]
    },
    {
      "cell_type": "code",
      "metadata": {
        "id": "JOtWpP3BW7cI",
        "colab": {
          "base_uri": "https://localhost:8080/"
        },
        "outputId": "eff01f22-f190-4dfa-83d0-aef4311d6c74"
      },
      "source": [
        "a.loc[idx].values,b.loc[idx].values"
      ],
      "execution_count": 20,
      "outputs": [
        {
          "output_type": "execute_result",
          "data": {
            "text/plain": [
              "(array([[ 0.        ,  0.        ,  0.        , ..., 17.18219953,\n",
              "          0.        ,  0.        ],\n",
              "        [ 0.        ,  0.        ,  0.        , ..., 24.52469743,\n",
              "          0.        ,  0.        ],\n",
              "        [ 0.        ,  0.        ,  0.        , ..., 21.27698081,\n",
              "          0.        ,  0.        ],\n",
              "        ...,\n",
              "        [ 0.        ,  0.        ,  0.        , ..., 16.00398844,\n",
              "          0.        ,  0.        ],\n",
              "        [ 0.        ,  0.        ,  0.        , ..., 19.63679556,\n",
              "          0.        ,  0.        ],\n",
              "        [ 0.        ,  0.        ,  0.        , ..., 19.6368073 ,\n",
              "          0.        ,  0.        ]]),\n",
              " array([[ 0.        ,  0.        ,  0.        , ..., 17.18219683,\n",
              "          0.        ,  0.        ],\n",
              "        [ 0.        ,  0.        ,  0.        , ..., 24.52469596,\n",
              "          0.        ,  0.        ],\n",
              "        [ 0.        ,  0.        ,  0.        , ..., 21.27697844,\n",
              "          0.        ,  0.        ],\n",
              "        ...,\n",
              "        [ 0.        ,  0.        ,  0.        , ..., 16.00399221,\n",
              "          0.        ,  0.        ],\n",
              "        [ 0.        ,  0.        ,  0.        , ..., 19.63679846,\n",
              "          0.        ,  0.        ],\n",
              "        [ 0.        ,  0.        ,  0.        , ..., 19.63681589,\n",
              "          0.        ,  0.        ]]))"
            ]
          },
          "metadata": {
            "tags": []
          },
          "execution_count": 20
        }
      ]
    },
    {
      "cell_type": "markdown",
      "metadata": {
        "id": "qOrzgmD68Z3_"
      },
      "source": [
        "# 用 fna,xna,s_vent,s_dist,s_side,s_bot 算 f_vent,f_dist,f_side,f_bot"
      ]
    },
    {
      "cell_type": "code",
      "metadata": {
        "id": "xuRp8Pna-Gr4",
        "colab": {
          "base_uri": "https://localhost:8080/"
        },
        "outputId": "f84d4372-8523-46fa-c17e-a956803ac245"
      },
      "source": [
        "fna = c620_df['Tatoray Stripper C620 Operation_Feed Properties_Mass Flow Rate_ton/hr'].values.reshape(-1,1)\n",
        "xna = c620_df.filter(regex='Combined Feed to Tatoray Stripper C620_Detailed Composition').iloc[:,:41].values\n",
        "s_vent = c620_df.filter(regex='Tatoray Stripper C620 Split Factors Calculation_Split Factor for Individual Component to Tatoray Stripper C620 Vent Gas').iloc[:,:41].values\n",
        "s_dist = c620_df.filter(regex='Tatoray Stripper C620 Split Factors Calculation_Split Factor for Individual Component to Tatoray Stripper C620 Distillate').iloc[:,:41].values\n",
        "s_side = c620_df.filter(regex='Tatoray Stripper C620 Split Factors Calculation_Split Factor for Individual Component to Tatoray Stripper C620 Sidedraw').iloc[:,:41].values\n",
        "s_bot = c620_df.filter(regex='Tatoray Stripper C620 Split Factors Calculation_Split Factor for Individual Component to Tatoray Stripper C620 Bottoms').iloc[:,:41].values\n",
        "f_vent = c620_df['Tatoray Stripper C620 Operation_Vent Gas Production Rate and Composition_Mass Flow Rate_ton/hr'].values\n",
        "f_dist = c620_df['Tatoray Stripper C620 Operation_Distillate Production Rate and Composition_Mass Flow Rate_ton/hr'].values\n",
        "f_side = c620_df['Tatoray Stripper C620 Operation_Sidedraw Production Rate and Composition_Mass Flow Rate_ton/hr'].values\n",
        "f_bot = c620_df['Tatoray Stripper C620 Operation_Bottoms Production Rate and Composition_Mass Flow Rate_ton/hr'].values\n",
        "print(np.allclose(np.sum(fna*xna*s_vent*0.01,axis=1),f_vent))\n",
        "print(np.allclose(np.sum(fna*xna*s_dist*0.01,axis=1),f_dist))\n",
        "print(np.allclose(np.sum(fna*xna*s_side*0.01,axis=1),f_side))\n",
        "print(np.allclose(np.sum(fna*xna*s_bot*0.01,axis=1),f_bot))"
      ],
      "execution_count": 21,
      "outputs": [
        {
          "output_type": "stream",
          "text": [
            "True\n",
            "True\n",
            "True\n",
            "True\n"
          ],
          "name": "stdout"
        }
      ]
    },
    {
      "cell_type": "markdown",
      "metadata": {
        "id": "bRehOP-TIAg6"
      },
      "source": [
        "# 用 wt 和 mass_flow 算 BF"
      ]
    },
    {
      "cell_type": "code",
      "metadata": {
        "id": "fXzEcMkN_SpO",
        "colab": {
          "base_uri": "https://localhost:8080/",
          "height": 0
        },
        "outputId": "0bb9c9ed-f8f6-48a4-fe84-3b10b50733a7"
      },
      "source": [
        "c670_df.filter(regex='Flow Rate_ton').head()"
      ],
      "execution_count": 22,
      "outputs": [
        {
          "output_type": "execute_result",
          "data": {
            "text/html": [
              "<div>\n",
              "<style scoped>\n",
              "    .dataframe tbody tr th:only-of-type {\n",
              "        vertical-align: middle;\n",
              "    }\n",
              "\n",
              "    .dataframe tbody tr th {\n",
              "        vertical-align: top;\n",
              "    }\n",
              "\n",
              "    .dataframe thead th {\n",
              "        text-align: right;\n",
              "    }\n",
              "</style>\n",
              "<table border=\"1\" class=\"dataframe\">\n",
              "  <thead>\n",
              "    <tr style=\"text-align: right;\">\n",
              "      <th></th>\n",
              "      <th>Combined Feed to Toluene Column C670 @ Tray 43_Flow Rate_Mass Flow Rate_ton/hr</th>\n",
              "      <th>Feed to Toluene Column C670 @ Tray 54_Flow Rate_Mass Flow Rate_ton/hr</th>\n",
              "      <th>Toluene Column C670 Operation_Feed Properties \\n@ Tray 43_Mass Flow Rate_ton/hr</th>\n",
              "      <th>Toluene Column C670 Operation_Feed Properties \\n@ Tray 54_Mass Flow Rate_ton/hr</th>\n",
              "      <th>Toluene Column C670 Operation_Distillate Production Rate and Composition_Mass Flow Rate_ton/hr</th>\n",
              "      <th>Toluene Column C670 Operation_Bottoms Production Rate and Composition_Mass Flow Rate_ton/hr</th>\n",
              "    </tr>\n",
              "  </thead>\n",
              "  <tbody>\n",
              "    <tr>\n",
              "      <th>001-001</th>\n",
              "      <td>18.150902</td>\n",
              "      <td>124.981539</td>\n",
              "      <td>18.150902</td>\n",
              "      <td>124.981539</td>\n",
              "      <td>72.607789</td>\n",
              "      <td>70.524656</td>\n",
              "    </tr>\n",
              "    <tr>\n",
              "      <th>001-002</th>\n",
              "      <td>18.151391</td>\n",
              "      <td>124.981555</td>\n",
              "      <td>18.151391</td>\n",
              "      <td>124.981555</td>\n",
              "      <td>72.608289</td>\n",
              "      <td>70.524656</td>\n",
              "    </tr>\n",
              "    <tr>\n",
              "      <th>001-003</th>\n",
              "      <td>18.151730</td>\n",
              "      <td>124.981555</td>\n",
              "      <td>18.151730</td>\n",
              "      <td>124.981555</td>\n",
              "      <td>72.608625</td>\n",
              "      <td>70.524656</td>\n",
              "    </tr>\n",
              "    <tr>\n",
              "      <th>001-004</th>\n",
              "      <td>18.118328</td>\n",
              "      <td>125.012984</td>\n",
              "      <td>18.118328</td>\n",
              "      <td>125.012984</td>\n",
              "      <td>72.606664</td>\n",
              "      <td>70.524656</td>\n",
              "    </tr>\n",
              "    <tr>\n",
              "      <th>001-005</th>\n",
              "      <td>18.118820</td>\n",
              "      <td>125.012984</td>\n",
              "      <td>18.118820</td>\n",
              "      <td>125.012984</td>\n",
              "      <td>72.607156</td>\n",
              "      <td>70.524656</td>\n",
              "    </tr>\n",
              "  </tbody>\n",
              "</table>\n",
              "</div>"
            ],
            "text/plain": [
              "         Combined Feed to Toluene Column C670 @ Tray 43_Flow Rate_Mass Flow Rate_ton/hr  ...  Toluene Column C670 Operation_Bottoms Production Rate and Composition_Mass Flow Rate_ton/hr\n",
              "001-001                                          18.150902                               ...                                          70.524656                                          \n",
              "001-002                                          18.151391                               ...                                          70.524656                                          \n",
              "001-003                                          18.151730                               ...                                          70.524656                                          \n",
              "001-004                                          18.118328                               ...                                          70.524656                                          \n",
              "001-005                                          18.118820                               ...                                          70.524656                                          \n",
              "\n",
              "[5 rows x 6 columns]"
            ]
          },
          "metadata": {
            "tags": []
          },
          "execution_count": 22
        }
      ]
    },
    {
      "cell_type": "code",
      "metadata": {
        "id": "mVXma44CIGB7",
        "colab": {
          "base_uri": "https://localhost:8080/"
        },
        "outputId": "2fccbd97-07c3-4f9f-b1da-7093b2dc3850"
      },
      "source": [
        "c620_bot_x = c620_df[c620_col['bottoms_x']].values\n",
        "c660_bot_x = c660_df[c660_col['bottoms_x']].values\n",
        "c620_mf_bot = c620_mb.loc[:,'Tatoray Stripper C620 Operation_Bottoms Production Rate and Composition_Mass Flow Rate_ton/hr'].values.reshape(-1,1)\n",
        "c660_mf_bot = c660_mb.loc[:,'Benzene Column C660 Operation_Bottoms Production Rate and Composition_Mass Flow Rate_ton/hr'].values.reshape(-1,1)\n",
        "\n",
        "a = (c620_bot_x*c620_mf_bot)/(c620_bot_x*c620_mf_bot+c660_bot_x*c660_mf_bot)\n",
        "a = pd.DataFrame(a,columns=c670_col['lower_bf'])\n",
        "a[list(set(index_9999)&set(a.columns))] = 0.9999\n",
        "a[list(set(index_0001)&set(a.columns))] = 0.0001\n",
        "\n",
        "b = 1-a.values\n",
        "b = pd.DataFrame(b,columns=c670_col['upper_bf'])\n",
        "\n",
        "print(np.allclose(a,c670_df[c670_col['lower_bf']].values))\n",
        "print(np.allclose(b,c670_df[c670_col['upper_bf']].values))"
      ],
      "execution_count": 23,
      "outputs": [
        {
          "output_type": "stream",
          "text": [
            "True\n",
            "True\n"
          ],
          "name": "stdout"
        },
        {
          "output_type": "stream",
          "text": [
            "/usr/local/lib/python3.7/dist-packages/ipykernel_launcher.py:6: RuntimeWarning: invalid value encountered in true_divide\n",
            "  \n"
          ],
          "name": "stderr"
        }
      ]
    },
    {
      "cell_type": "code",
      "metadata": {
        "id": "fvgGa5iSXRDh",
        "colab": {
          "base_uri": "https://localhost:8080/"
        },
        "outputId": "93451d67-aa95-4615-d136-43a4bde2d080"
      },
      "source": [
        "joblib.dump(index_9999,'/content/drive/MyDrive/台塑輕油案子/data/c620/cleaned/index_9999.pkl')\n",
        "joblib.dump(index_0001,'/content/drive/MyDrive/台塑輕油案子/data/c620/cleaned/index_0001.pkl')"
      ],
      "execution_count": 24,
      "outputs": [
        {
          "output_type": "execute_result",
          "data": {
            "text/plain": [
              "['/content/drive/MyDrive/台塑輕油案子/data/c620/cleaned/index_0001.pkl']"
            ]
          },
          "metadata": {
            "tags": []
          },
          "execution_count": 24
        }
      ]
    },
    {
      "cell_type": "code",
      "metadata": {
        "id": "tPCs73gGULCr",
        "colab": {
          "base_uri": "https://localhost:8080/"
        },
        "outputId": "838031e1-361c-4bd3-b6b3-2fc3d1c76a0b"
      },
      "source": [
        "idx = np.random.choice([*range(len(a))],size=1)\n",
        "count = 0\n",
        "for i,j in zip(a.values[idx[0]],c670_df[c670_col['lower_bf']].values[idx[0]]):\n",
        "  print(count,i.round(4),j.round(4))\n",
        "  count += 1"
      ],
      "execution_count": 25,
      "outputs": [
        {
          "output_type": "stream",
          "text": [
            "0 0.9999 0.9999\n",
            "1 0.9999 0.9999\n",
            "2 0.9999 0.9999\n",
            "3 0.9999 0.9999\n",
            "4 0.9999 0.9999\n",
            "5 0.9999 0.9999\n",
            "6 0.9999 0.9999\n",
            "7 0.9932 0.9932\n",
            "8 0.9992 0.9992\n",
            "9 0.989 0.989\n",
            "10 0.9999 0.9999\n",
            "11 0.6086 0.6086\n",
            "12 0.633 0.633\n",
            "13 0.4013 0.4013\n",
            "14 0.4932 0.4932\n",
            "15 0.5436 0.5436\n",
            "16 0.3904 0.3904\n",
            "17 0.9282 0.9282\n",
            "18 0.9436 0.9436\n",
            "19 0.9768 0.9768\n",
            "20 0.441 0.441\n",
            "21 1.0 1.0\n",
            "22 0.063 0.063\n",
            "23 1.0 1.0\n",
            "24 0.9987 0.9987\n",
            "25 0.9976 0.9976\n",
            "26 0.9991 0.9991\n",
            "27 0.9979 0.9979\n",
            "28 0.9999 0.9999\n",
            "29 0.0001 0.0001\n",
            "30 1.0 1.0\n",
            "31 1.0 1.0\n",
            "32 0.0785 0.0785\n",
            "33 0.8826 0.8826\n",
            "34 1.0 1.0\n",
            "35 0.9999 0.9999\n",
            "36 1.0 1.0\n",
            "37 1.0 1.0\n",
            "38 1.0 1.0\n",
            "39 0.0001 0.0001\n",
            "40 0.0001 0.0001\n"
          ],
          "name": "stdout"
        }
      ]
    },
    {
      "cell_type": "code",
      "metadata": {
        "id": "6qOUVh75Vb-A",
        "colab": {
          "base_uri": "https://localhost:8080/"
        },
        "outputId": "f13748ac-91b9-4cf7-adfb-883beb39337c"
      },
      "source": [
        "idx = np.random.choice([*range(len(a))],size=1)\n",
        "for i,j in zip(b.values[idx[0]],c670_df[c670_col['upper_bf']].values[idx[0]]):\n",
        "  print(i.round(4),j.round(4))"
      ],
      "execution_count": 26,
      "outputs": [
        {
          "output_type": "stream",
          "text": [
            "0.0001 0.0001\n",
            "0.0001 0.0001\n",
            "0.0001 0.0001\n",
            "0.0001 0.0001\n",
            "0.0001 0.0001\n",
            "0.0001 0.0001\n",
            "0.0001 0.0001\n",
            "0.0083 0.0083\n",
            "0.0007 0.0007\n",
            "0.0104 0.0104\n",
            "0.0001 0.0001\n",
            "0.5161 0.5161\n",
            "0.4374 0.4374\n",
            "0.7901 0.7901\n",
            "0.723 0.723\n",
            "0.6808 0.6808\n",
            "0.7716 0.7716\n",
            "0.0808 0.0808\n",
            "0.0774 0.0774\n",
            "0.0538 0.0538\n",
            "0.763 0.763\n",
            "0.0 0.0\n",
            "0.9742 0.9742\n",
            "0.0 0.0\n",
            "0.0013 0.0013\n",
            "0.0025 0.0025\n",
            "0.0009 0.0009\n",
            "0.0022 0.0022\n",
            "0.0001 0.0001\n",
            "0.9999 0.9999\n",
            "0.0 0.0\n",
            "0.0 0.0\n",
            "0.6327 0.6327\n",
            "0.0196 0.0196\n",
            "0.0 0.0\n",
            "0.0001 0.0001\n",
            "0.0 0.0\n",
            "0.0 0.0\n",
            "0.0 0.0\n",
            "0.9999 0.9999\n",
            "0.9999 0.9999\n"
          ],
          "name": "stdout"
        }
      ]
    },
    {
      "cell_type": "markdown",
      "metadata": {
        "id": "1VLV4A_k2Lgz"
      },
      "source": [
        "# m3/hr to ton/hr"
      ]
    },
    {
      "cell_type": "markdown",
      "metadata": {
        "id": "ZrXaszn73QG7"
      },
      "source": [
        "![img](https://i.imgur.com/8i2JyNI.jpg)"
      ]
    },
    {
      "cell_type": "code",
      "metadata": {
        "id": "s0kZP5_W6kO-"
      },
      "source": [
        "V615_density = 0.8626\n",
        "C820_density = 0.8731\n",
        "T651_density = 0.8749"
      ],
      "execution_count": 27,
      "outputs": []
    },
    {
      "cell_type": "markdown",
      "metadata": {
        "id": "AG9h1aWj-DfN"
      },
      "source": [
        "# c620 m3/hr to ton/hr"
      ]
    },
    {
      "cell_type": "code",
      "metadata": {
        "id": "O-kLocHwWt2I",
        "colab": {
          "base_uri": "https://localhost:8080/"
        },
        "outputId": "657cfb0c-62c4-4422-cf9b-10d863726f27"
      },
      "source": [
        "commom_idx = list(set(c620_df.index)&set(icg_df.index))\n",
        "c620_feed_rate_ton = c620_df.loc[commom_idx,['Tatoray Stripper C620 Operation_Feed Properties_Mass Flow Rate_ton/hr']].values\n",
        "V615_Btm_m3 = icg_df.loc[commom_idx,'Simulation Case Conditions_Feed Rate_Feed from V615 Btm_m3/hr'].values.reshape(-1,1)\n",
        "C820_Dist_m3 = icg_df.loc[commom_idx,'Simulation Case Conditions_Feed Rate_Feed from C820 Dist_m3/hr'].values.reshape(-1,1)\n",
        "V615_Btm_ton = V615_Btm_m3*V615_density\n",
        "C820_Dist_ton = C820_Dist_m3*C820_density\n",
        "c620_feed_rate_ton_hat = V615_Btm_ton+C820_Dist_ton\n",
        "for i,j in zip(c620_feed_rate_ton[:5],c620_feed_rate_ton_hat[:5]):\n",
        "  print(i,j)\n",
        "print('max abs error:',abs(c620_feed_rate_ton-c620_feed_rate_ton_hat).max())"
      ],
      "execution_count": 28,
      "outputs": [
        {
          "output_type": "stream",
          "text": [
            "[175.509125] [175.2653]\n",
            "[185.3497969] [185.6165]\n",
            "[175.509125] [175.2653]\n",
            "[163.8182188] [164.0515]\n",
            "[175.509125] [175.2653]\n",
            "max abs error: 0.26670310000000086\n"
          ],
          "name": "stdout"
        }
      ]
    },
    {
      "cell_type": "markdown",
      "metadata": {
        "id": "RbVW6yYW_oOB"
      },
      "source": [
        "# t651 m3/hr to t651 ton/hr"
      ]
    },
    {
      "cell_type": "code",
      "metadata": {
        "id": "iXeQ5T9B9zId",
        "colab": {
          "base_uri": "https://localhost:8080/"
        },
        "outputId": "6203e2b9-868d-47a7-acc2-f69c3dc29958"
      },
      "source": [
        "commom_idx = list(set(t651_df.index)&set(icg_df.index))\n",
        "t651_m3 = icg_df.loc[commom_idx,'Simulation Case Conditions_Feed Rate_Feed from T651_m3/hr'].values\n",
        "t651_ton = t651_df.loc[commom_idx,'Extract Feed from T651_Flow Rate & Temp/Press._Mass Flow Rate_ton/hr'].values\n",
        "t651_ton_hat = t651_m3*T651_density\n",
        "for i,j in zip(t651_ton[:5],t651_ton_hat[:5]):\n",
        "  print(i,j)\n",
        "print('max abs error:',abs(t651_ton-t651_ton_hat).max())"
      ],
      "execution_count": 29,
      "outputs": [
        {
          "output_type": "stream",
          "text": [
            "80.59589844 80.49080000000001\n",
            "28.03330664 27.9968\n",
            "35.91770702999999 35.8709\n",
            "67.25529687999999 67.3673\n",
            "27.95024023 27.9968\n",
            "max abs error: 0.13387031000000604\n"
          ],
          "name": "stdout"
        }
      ]
    },
    {
      "cell_type": "markdown",
      "metadata": {
        "id": "e64o7RTtgIy7"
      },
      "source": [
        "# 用 wt 和 mf 估算 sp"
      ]
    },
    {
      "cell_type": "code",
      "metadata": {
        "id": "pwskRdOhhBIt",
        "colab": {
          "base_uri": "https://localhost:8080/"
        },
        "outputId": "0bfe21f8-25fc-4c37-a854-3700b141109e"
      },
      "source": [
        "c620_col.keys()"
      ],
      "execution_count": 30,
      "outputs": [
        {
          "output_type": "execute_result",
          "data": {
            "text/plain": [
              "dict_keys(['x41', 'case', 'yRefluxRate', 'yControl', 'yHeatDuty', 'vent_gas_x', 'distillate_x', 'sidedraw_x', 'bottoms_x', 'vent_gas_sf', 'distillate_sf', 'sidedraw_sf', 'bottoms_sf', 'density'])"
            ]
          },
          "metadata": {
            "tags": []
          },
          "execution_count": 30
        }
      ]
    },
    {
      "cell_type": "code",
      "metadata": {
        "id": "gBmpZLZ79dNF"
      },
      "source": [
        "feed_wt = c620_df[c620_col['x41']].values\n",
        "vent_gas_wt = c620_df[c620_col['vent_gas_x']].values\n",
        "feed_mf = c620_mb['Combined Feed to Tatoray Stripper C620_Flow Rate_Mass Flow Rate_ton/hr'].values.reshape(-1,1)\n",
        "vent_gat_mf = c620_mb['Tatoray Stripper C620 Operation_Vent Gas Production Rate and Composition_Mass Flow Rate_ton/hr'].values.reshape(-1,1)"
      ],
      "execution_count": 31,
      "outputs": []
    },
    {
      "cell_type": "code",
      "metadata": {
        "id": "Nk9WUF0jjxek",
        "colab": {
          "base_uri": "https://localhost:8080/",
          "height": 0
        },
        "outputId": "b8323968-bcf3-4309-94ec-d872bae9b293"
      },
      "source": [
        "c620_df[c620_col['vent_gas_sf']].head()"
      ],
      "execution_count": 32,
      "outputs": [
        {
          "output_type": "execute_result",
          "data": {
            "text/html": [
              "<div>\n",
              "<style scoped>\n",
              "    .dataframe tbody tr th:only-of-type {\n",
              "        vertical-align: middle;\n",
              "    }\n",
              "\n",
              "    .dataframe tbody tr th {\n",
              "        vertical-align: top;\n",
              "    }\n",
              "\n",
              "    .dataframe thead th {\n",
              "        text-align: right;\n",
              "    }\n",
              "</style>\n",
              "<table border=\"1\" class=\"dataframe\">\n",
              "  <thead>\n",
              "    <tr style=\"text-align: right;\">\n",
              "      <th></th>\n",
              "      <th>Tatoray Stripper C620 Split Factors Calculation_Split Factor for Individual Component to Tatoray Stripper C620 Vent Gas_Hydrogen_Fraction</th>\n",
              "      <th>Tatoray Stripper C620 Split Factors Calculation_Split Factor for Individual Component to Tatoray Stripper C620 Vent Gas_Methane_Fraction</th>\n",
              "      <th>Tatoray Stripper C620 Split Factors Calculation_Split Factor for Individual Component to Tatoray Stripper C620 Vent Gas_Ethane_Fraction</th>\n",
              "      <th>Tatoray Stripper C620 Split Factors Calculation_Split Factor for Individual Component to Tatoray Stripper C620 Vent Gas_Propane_Fraction</th>\n",
              "      <th>Tatoray Stripper C620 Split Factors Calculation_Split Factor for Individual Component to Tatoray Stripper C620 Vent Gas_n-Butane_Fraction</th>\n",
              "      <th>Tatoray Stripper C620 Split Factors Calculation_Split Factor for Individual Component to Tatoray Stripper C620 Vent Gas_n-Pentane_Fraction</th>\n",
              "      <th>Tatoray Stripper C620 Split Factors Calculation_Split Factor for Individual Component to Tatoray Stripper C620 Vent Gas_n-Hexane_Fraction</th>\n",
              "      <th>Tatoray Stripper C620 Split Factors Calculation_Split Factor for Individual Component to Tatoray Stripper C620 Vent Gas_Benzene_Fraction</th>\n",
              "      <th>Tatoray Stripper C620 Split Factors Calculation_Split Factor for Individual Component to Tatoray Stripper C620 Vent Gas_Cyclohexane_Fraction</th>\n",
              "      <th>Tatoray Stripper C620 Split Factors Calculation_Split Factor for Individual Component to Tatoray Stripper C620 Vent Gas_n-Heptane_Fraction</th>\n",
              "      <th>Tatoray Stripper C620 Split Factors Calculation_Split Factor for Individual Component to Tatoray Stripper C620 Vent Gas_Water_Fraction</th>\n",
              "      <th>Tatoray Stripper C620 Split Factors Calculation_Split Factor for Individual Component to Tatoray Stripper C620 Vent Gas_Methylcyclohexane_Fraction</th>\n",
              "      <th>Tatoray Stripper C620 Split Factors Calculation_Split Factor for Individual Component to Tatoray Stripper C620 Vent Gas_Toluene_Fraction</th>\n",
              "      <th>Tatoray Stripper C620 Split Factors Calculation_Split Factor for Individual Component to Tatoray Stripper C620 Vent Gas_n-Octane_Fraction</th>\n",
              "      <th>Tatoray Stripper C620 Split Factors Calculation_Split Factor for Individual Component to Tatoray Stripper C620 Vent Gas_n-Propylcyclopentane_Fraction</th>\n",
              "      <th>Tatoray Stripper C620 Split Factors Calculation_Split Factor for Individual Component to Tatoray Stripper C620 Vent Gas_Ethylcyclohexane_Fraction</th>\n",
              "      <th>Tatoray Stripper C620 Split Factors Calculation_Split Factor for Individual Component to Tatoray Stripper C620 Vent Gas_Ethylbenzene_Fraction</th>\n",
              "      <th>Tatoray Stripper C620 Split Factors Calculation_Split Factor for Individual Component to Tatoray Stripper C620 Vent Gas_p-Xylene_Fraction</th>\n",
              "      <th>Tatoray Stripper C620 Split Factors Calculation_Split Factor for Individual Component to Tatoray Stripper C620 Vent Gas_m-Xylene_Fraction</th>\n",
              "      <th>Tatoray Stripper C620 Split Factors Calculation_Split Factor for Individual Component to Tatoray Stripper C620 Vent Gas_o-Xylene_Fraction</th>\n",
              "      <th>Tatoray Stripper C620 Split Factors Calculation_Split Factor for Individual Component to Tatoray Stripper C620 Vent Gas_n-Nonane_Fraction</th>\n",
              "      <th>Tatoray Stripper C620 Split Factors Calculation_Split Factor for Individual Component to Tatoray Stripper C620 Vent Gas_i-Propylbenzene_Fraction</th>\n",
              "      <th>Tatoray Stripper C620 Split Factors Calculation_Split Factor for Individual Component to Tatoray Stripper C620 Vent Gas_n-Propylcyclohexane_Fraction</th>\n",
              "      <th>Tatoray Stripper C620 Split Factors Calculation_Split Factor for Individual Component to Tatoray Stripper C620 Vent Gas_n-Propylbenzene_Fraction</th>\n",
              "      <th>Tatoray Stripper C620 Split Factors Calculation_Split Factor for Individual Component to Tatoray Stripper C620 Vent Gas_1-Methyl-3-ethylbenzene_Fraction</th>\n",
              "      <th>Tatoray Stripper C620 Split Factors Calculation_Split Factor for Individual Component to Tatoray Stripper C620 Vent Gas_1-Methyl-4-ethylbenzene_Fraction</th>\n",
              "      <th>Tatoray Stripper C620 Split Factors Calculation_Split Factor for Individual Component to Tatoray Stripper C620 Vent Gas_1,3,5-Trimethylbenzene_Fraction</th>\n",
              "      <th>Tatoray Stripper C620 Split Factors Calculation_Split Factor for Individual Component to Tatoray Stripper C620 Vent Gas_1-Methyl-2-ethylbenzene_Fraction</th>\n",
              "      <th>Tatoray Stripper C620 Split Factors Calculation_Split Factor for Individual Component to Tatoray Stripper C620 Vent Gas_1,2,4-Trimethylbenzene_Fraction</th>\n",
              "      <th>Tatoray Stripper C620 Split Factors Calculation_Split Factor for Individual Component to Tatoray Stripper C620 Vent Gas_tert-Butylcyclohexane_Fraction</th>\n",
              "      <th>Tatoray Stripper C620 Split Factors Calculation_Split Factor for Individual Component to Tatoray Stripper C620 Vent Gas_1,2,3-Trimethylbenzene_Fraction</th>\n",
              "      <th>Tatoray Stripper C620 Split Factors Calculation_Split Factor for Individual Component to Tatoray Stripper C620 Vent Gas_Indane_Fraction</th>\n",
              "      <th>Tatoray Stripper C620 Split Factors Calculation_Split Factor for Individual Component to Tatoray Stripper C620 Vent Gas_1-Methyl-4-n-propylbenzene_Fraction</th>\n",
              "      <th>Tatoray Stripper C620 Split Factors Calculation_Split Factor for Individual Component to Tatoray Stripper C620 Vent Gas_1,2-Diethylbenzene_Fraction</th>\n",
              "      <th>Tatoray Stripper C620 Split Factors Calculation_Split Factor for Individual Component to Tatoray Stripper C620 Vent Gas_5-Ethyl-m-xylene_Fraction</th>\n",
              "      <th>Tatoray Stripper C620 Split Factors Calculation_Split Factor for Individual Component to Tatoray Stripper C620 Vent Gas_1,4-Diethylbenzene_Fraction</th>\n",
              "      <th>Tatoray Stripper C620 Split Factors Calculation_Split Factor for Individual Component to Tatoray Stripper C620 Vent Gas_1,2,3,5-Tetramethylbenzene_Fraction</th>\n",
              "      <th>Tatoray Stripper C620 Split Factors Calculation_Split Factor for Individual Component to Tatoray Stripper C620 Vent Gas_n-Pentylbenzene_Fraction</th>\n",
              "      <th>Tatoray Stripper C620 Split Factors Calculation_Split Factor for Individual Component to Tatoray Stripper C620 Vent Gas_n-Hexylbenzene_Fraction</th>\n",
              "      <th>Tatoray Stripper C620 Split Factors Calculation_Split Factor for Individual Component to Tatoray Stripper C620 Vent Gas_Nitrogen_Fraction</th>\n",
              "      <th>Tatoray Stripper C620 Split Factors Calculation_Split Factor for Individual Component to Tatoray Stripper C620 Vent Gas_Oxygen_Fraction</th>\n",
              "    </tr>\n",
              "  </thead>\n",
              "  <tbody>\n",
              "    <tr>\n",
              "      <th>001-001</th>\n",
              "      <td>1.0</td>\n",
              "      <td>0.995686</td>\n",
              "      <td>0.984024</td>\n",
              "      <td>0.956211</td>\n",
              "      <td>0.872972</td>\n",
              "      <td>0.712751</td>\n",
              "      <td>0.189219</td>\n",
              "      <td>0.006678</td>\n",
              "      <td>0.022054</td>\n",
              "      <td>0.002648</td>\n",
              "      <td>0.0</td>\n",
              "      <td>0.000093</td>\n",
              "      <td>0.000003</td>\n",
              "      <td>0.000002</td>\n",
              "      <td>4.684918e-09</td>\n",
              "      <td>2.145744e-09</td>\n",
              "      <td>1.208048e-10</td>\n",
              "      <td>5.230046e-11</td>\n",
              "      <td>3.547634e-11</td>\n",
              "      <td>3.394092e-12</td>\n",
              "      <td>3.523048e-11</td>\n",
              "      <td>1.636662e-13</td>\n",
              "      <td>1.631403e-13</td>\n",
              "      <td>7.190536e-15</td>\n",
              "      <td>2.584981e-14</td>\n",
              "      <td>1.541012e-14</td>\n",
              "      <td>5.316193e-16</td>\n",
              "      <td>1.153265e-14</td>\n",
              "      <td>5.869219e-17</td>\n",
              "      <td>0.0</td>\n",
              "      <td>2.368513e-18</td>\n",
              "      <td>5.301870e-18</td>\n",
              "      <td>2.696638e-19</td>\n",
              "      <td>3.187007e-19</td>\n",
              "      <td>1.670506e-19</td>\n",
              "      <td>0.0</td>\n",
              "      <td>8.013215e-23</td>\n",
              "      <td>6.363391e-24</td>\n",
              "      <td>3.459200e-28</td>\n",
              "      <td>1.0</td>\n",
              "      <td>1.0</td>\n",
              "    </tr>\n",
              "    <tr>\n",
              "      <th>001-002</th>\n",
              "      <td>1.0</td>\n",
              "      <td>0.995686</td>\n",
              "      <td>0.984024</td>\n",
              "      <td>0.956213</td>\n",
              "      <td>0.872974</td>\n",
              "      <td>0.712755</td>\n",
              "      <td>0.189221</td>\n",
              "      <td>0.006678</td>\n",
              "      <td>0.022054</td>\n",
              "      <td>0.002648</td>\n",
              "      <td>0.0</td>\n",
              "      <td>0.000093</td>\n",
              "      <td>0.000003</td>\n",
              "      <td>0.000002</td>\n",
              "      <td>4.684659e-09</td>\n",
              "      <td>2.145621e-09</td>\n",
              "      <td>1.207970e-10</td>\n",
              "      <td>5.229697e-11</td>\n",
              "      <td>3.547395e-11</td>\n",
              "      <td>3.393851e-12</td>\n",
              "      <td>3.522816e-11</td>\n",
              "      <td>1.636541e-13</td>\n",
              "      <td>1.631285e-13</td>\n",
              "      <td>7.189989e-15</td>\n",
              "      <td>2.584788e-14</td>\n",
              "      <td>1.540896e-14</td>\n",
              "      <td>5.315779e-16</td>\n",
              "      <td>1.153178e-14</td>\n",
              "      <td>5.868755e-17</td>\n",
              "      <td>0.0</td>\n",
              "      <td>2.368322e-18</td>\n",
              "      <td>5.301445e-18</td>\n",
              "      <td>2.696420e-19</td>\n",
              "      <td>3.186750e-19</td>\n",
              "      <td>1.670370e-19</td>\n",
              "      <td>0.0</td>\n",
              "      <td>8.012541e-23</td>\n",
              "      <td>6.362855e-24</td>\n",
              "      <td>3.458901e-28</td>\n",
              "      <td>1.0</td>\n",
              "      <td>1.0</td>\n",
              "    </tr>\n",
              "    <tr>\n",
              "      <th>001-003</th>\n",
              "      <td>1.0</td>\n",
              "      <td>0.995686</td>\n",
              "      <td>0.984024</td>\n",
              "      <td>0.956212</td>\n",
              "      <td>0.872973</td>\n",
              "      <td>0.712753</td>\n",
              "      <td>0.189220</td>\n",
              "      <td>0.006678</td>\n",
              "      <td>0.022054</td>\n",
              "      <td>0.002648</td>\n",
              "      <td>0.0</td>\n",
              "      <td>0.000093</td>\n",
              "      <td>0.000003</td>\n",
              "      <td>0.000002</td>\n",
              "      <td>4.684784e-09</td>\n",
              "      <td>2.145680e-09</td>\n",
              "      <td>1.208008e-10</td>\n",
              "      <td>5.229871e-11</td>\n",
              "      <td>3.547514e-11</td>\n",
              "      <td>3.393971e-12</td>\n",
              "      <td>3.522930e-11</td>\n",
              "      <td>1.636602e-13</td>\n",
              "      <td>1.631343e-13</td>\n",
              "      <td>7.190265e-15</td>\n",
              "      <td>2.584885e-14</td>\n",
              "      <td>1.540954e-14</td>\n",
              "      <td>5.315990e-16</td>\n",
              "      <td>1.153221e-14</td>\n",
              "      <td>5.868992e-17</td>\n",
              "      <td>0.0</td>\n",
              "      <td>2.368420e-18</td>\n",
              "      <td>5.301662e-18</td>\n",
              "      <td>2.696532e-19</td>\n",
              "      <td>3.186881e-19</td>\n",
              "      <td>1.670440e-19</td>\n",
              "      <td>0.0</td>\n",
              "      <td>8.012893e-23</td>\n",
              "      <td>6.363134e-24</td>\n",
              "      <td>3.459059e-28</td>\n",
              "      <td>1.0</td>\n",
              "      <td>1.0</td>\n",
              "    </tr>\n",
              "    <tr>\n",
              "      <th>001-004</th>\n",
              "      <td>1.0</td>\n",
              "      <td>0.994094</td>\n",
              "      <td>0.975375</td>\n",
              "      <td>0.928658</td>\n",
              "      <td>0.795230</td>\n",
              "      <td>0.588231</td>\n",
              "      <td>0.162069</td>\n",
              "      <td>0.006642</td>\n",
              "      <td>0.021836</td>\n",
              "      <td>0.002755</td>\n",
              "      <td>0.0</td>\n",
              "      <td>0.000096</td>\n",
              "      <td>0.000003</td>\n",
              "      <td>0.000003</td>\n",
              "      <td>4.837402e-09</td>\n",
              "      <td>2.213674e-09</td>\n",
              "      <td>1.230335e-10</td>\n",
              "      <td>5.334354e-11</td>\n",
              "      <td>3.615960e-11</td>\n",
              "      <td>3.448065e-12</td>\n",
              "      <td>3.717538e-11</td>\n",
              "      <td>1.679028e-13</td>\n",
              "      <td>1.693763e-13</td>\n",
              "      <td>7.375794e-15</td>\n",
              "      <td>2.656259e-14</td>\n",
              "      <td>1.585458e-14</td>\n",
              "      <td>5.458051e-16</td>\n",
              "      <td>1.182809e-14</td>\n",
              "      <td>6.012522e-17</td>\n",
              "      <td>0.0</td>\n",
              "      <td>2.414925e-18</td>\n",
              "      <td>5.394715e-18</td>\n",
              "      <td>2.799584e-19</td>\n",
              "      <td>3.297798e-19</td>\n",
              "      <td>1.733107e-19</td>\n",
              "      <td>0.0</td>\n",
              "      <td>8.256858e-23</td>\n",
              "      <td>6.635803e-24</td>\n",
              "      <td>3.640238e-28</td>\n",
              "      <td>1.0</td>\n",
              "      <td>1.0</td>\n",
              "    </tr>\n",
              "    <tr>\n",
              "      <th>001-005</th>\n",
              "      <td>1.0</td>\n",
              "      <td>0.994094</td>\n",
              "      <td>0.975376</td>\n",
              "      <td>0.928659</td>\n",
              "      <td>0.795232</td>\n",
              "      <td>0.588233</td>\n",
              "      <td>0.162070</td>\n",
              "      <td>0.006642</td>\n",
              "      <td>0.021836</td>\n",
              "      <td>0.002755</td>\n",
              "      <td>0.0</td>\n",
              "      <td>0.000096</td>\n",
              "      <td>0.000003</td>\n",
              "      <td>0.000003</td>\n",
              "      <td>4.837231e-09</td>\n",
              "      <td>2.213593e-09</td>\n",
              "      <td>1.230308e-10</td>\n",
              "      <td>5.334244e-11</td>\n",
              "      <td>3.615889e-11</td>\n",
              "      <td>3.448008e-12</td>\n",
              "      <td>3.717423e-11</td>\n",
              "      <td>1.678998e-13</td>\n",
              "      <td>1.693708e-13</td>\n",
              "      <td>7.375702e-15</td>\n",
              "      <td>2.656212e-14</td>\n",
              "      <td>1.585430e-14</td>\n",
              "      <td>5.458025e-16</td>\n",
              "      <td>1.182788e-14</td>\n",
              "      <td>6.012509e-17</td>\n",
              "      <td>0.0</td>\n",
              "      <td>2.414937e-18</td>\n",
              "      <td>5.394703e-18</td>\n",
              "      <td>2.799583e-19</td>\n",
              "      <td>3.297783e-19</td>\n",
              "      <td>1.733111e-19</td>\n",
              "      <td>0.0</td>\n",
              "      <td>8.257018e-23</td>\n",
              "      <td>6.635916e-24</td>\n",
              "      <td>3.640352e-28</td>\n",
              "      <td>1.0</td>\n",
              "      <td>1.0</td>\n",
              "    </tr>\n",
              "  </tbody>\n",
              "</table>\n",
              "</div>"
            ],
            "text/plain": [
              "         Tatoray Stripper C620 Split Factors Calculation_Split Factor for Individual Component to Tatoray Stripper C620 Vent Gas_Hydrogen_Fraction  ...  Tatoray Stripper C620 Split Factors Calculation_Split Factor for Individual Component to Tatoray Stripper C620 Vent Gas_Oxygen_Fraction\n",
              "001-001                                                1.0                                                                                          ...                                                1.0                                                                                      \n",
              "001-002                                                1.0                                                                                          ...                                                1.0                                                                                      \n",
              "001-003                                                1.0                                                                                          ...                                                1.0                                                                                      \n",
              "001-004                                                1.0                                                                                          ...                                                1.0                                                                                      \n",
              "001-005                                                1.0                                                                                          ...                                                1.0                                                                                      \n",
              "\n",
              "[5 rows x 41 columns]"
            ]
          },
          "metadata": {
            "tags": []
          },
          "execution_count": 32
        }
      ]
    },
    {
      "cell_type": "code",
      "metadata": {
        "id": "XtcL849IiupA",
        "colab": {
          "base_uri": "https://localhost:8080/",
          "height": 0
        },
        "outputId": "efd49f95-b0cc-49a0-de18-6d858515a9ca"
      },
      "source": [
        "vent_gas_sf_hat = pd.DataFrame((vent_gat_mf*vent_gas_wt)/(feed_mf*feed_wt))\n",
        "vent_gas_sf_hat.index = c620_df.index\n",
        "vent_gas_sf_hat.columns = c620_col['vent_gas_sf']\n",
        "vent_gas_sf_hat"
      ],
      "execution_count": 33,
      "outputs": [
        {
          "output_type": "stream",
          "text": [
            "/usr/local/lib/python3.7/dist-packages/ipykernel_launcher.py:1: RuntimeWarning: invalid value encountered in true_divide\n",
            "  \"\"\"Entry point for launching an IPython kernel.\n"
          ],
          "name": "stderr"
        },
        {
          "output_type": "execute_result",
          "data": {
            "text/html": [
              "<div>\n",
              "<style scoped>\n",
              "    .dataframe tbody tr th:only-of-type {\n",
              "        vertical-align: middle;\n",
              "    }\n",
              "\n",
              "    .dataframe tbody tr th {\n",
              "        vertical-align: top;\n",
              "    }\n",
              "\n",
              "    .dataframe thead th {\n",
              "        text-align: right;\n",
              "    }\n",
              "</style>\n",
              "<table border=\"1\" class=\"dataframe\">\n",
              "  <thead>\n",
              "    <tr style=\"text-align: right;\">\n",
              "      <th></th>\n",
              "      <th>Tatoray Stripper C620 Split Factors Calculation_Split Factor for Individual Component to Tatoray Stripper C620 Vent Gas_Hydrogen_Fraction</th>\n",
              "      <th>Tatoray Stripper C620 Split Factors Calculation_Split Factor for Individual Component to Tatoray Stripper C620 Vent Gas_Methane_Fraction</th>\n",
              "      <th>Tatoray Stripper C620 Split Factors Calculation_Split Factor for Individual Component to Tatoray Stripper C620 Vent Gas_Ethane_Fraction</th>\n",
              "      <th>Tatoray Stripper C620 Split Factors Calculation_Split Factor for Individual Component to Tatoray Stripper C620 Vent Gas_Propane_Fraction</th>\n",
              "      <th>Tatoray Stripper C620 Split Factors Calculation_Split Factor for Individual Component to Tatoray Stripper C620 Vent Gas_n-Butane_Fraction</th>\n",
              "      <th>Tatoray Stripper C620 Split Factors Calculation_Split Factor for Individual Component to Tatoray Stripper C620 Vent Gas_n-Pentane_Fraction</th>\n",
              "      <th>Tatoray Stripper C620 Split Factors Calculation_Split Factor for Individual Component to Tatoray Stripper C620 Vent Gas_n-Hexane_Fraction</th>\n",
              "      <th>Tatoray Stripper C620 Split Factors Calculation_Split Factor for Individual Component to Tatoray Stripper C620 Vent Gas_Benzene_Fraction</th>\n",
              "      <th>Tatoray Stripper C620 Split Factors Calculation_Split Factor for Individual Component to Tatoray Stripper C620 Vent Gas_Cyclohexane_Fraction</th>\n",
              "      <th>Tatoray Stripper C620 Split Factors Calculation_Split Factor for Individual Component to Tatoray Stripper C620 Vent Gas_n-Heptane_Fraction</th>\n",
              "      <th>Tatoray Stripper C620 Split Factors Calculation_Split Factor for Individual Component to Tatoray Stripper C620 Vent Gas_Water_Fraction</th>\n",
              "      <th>Tatoray Stripper C620 Split Factors Calculation_Split Factor for Individual Component to Tatoray Stripper C620 Vent Gas_Methylcyclohexane_Fraction</th>\n",
              "      <th>Tatoray Stripper C620 Split Factors Calculation_Split Factor for Individual Component to Tatoray Stripper C620 Vent Gas_Toluene_Fraction</th>\n",
              "      <th>Tatoray Stripper C620 Split Factors Calculation_Split Factor for Individual Component to Tatoray Stripper C620 Vent Gas_n-Octane_Fraction</th>\n",
              "      <th>Tatoray Stripper C620 Split Factors Calculation_Split Factor for Individual Component to Tatoray Stripper C620 Vent Gas_n-Propylcyclopentane_Fraction</th>\n",
              "      <th>Tatoray Stripper C620 Split Factors Calculation_Split Factor for Individual Component to Tatoray Stripper C620 Vent Gas_Ethylcyclohexane_Fraction</th>\n",
              "      <th>Tatoray Stripper C620 Split Factors Calculation_Split Factor for Individual Component to Tatoray Stripper C620 Vent Gas_Ethylbenzene_Fraction</th>\n",
              "      <th>Tatoray Stripper C620 Split Factors Calculation_Split Factor for Individual Component to Tatoray Stripper C620 Vent Gas_p-Xylene_Fraction</th>\n",
              "      <th>Tatoray Stripper C620 Split Factors Calculation_Split Factor for Individual Component to Tatoray Stripper C620 Vent Gas_m-Xylene_Fraction</th>\n",
              "      <th>Tatoray Stripper C620 Split Factors Calculation_Split Factor for Individual Component to Tatoray Stripper C620 Vent Gas_o-Xylene_Fraction</th>\n",
              "      <th>Tatoray Stripper C620 Split Factors Calculation_Split Factor for Individual Component to Tatoray Stripper C620 Vent Gas_n-Nonane_Fraction</th>\n",
              "      <th>Tatoray Stripper C620 Split Factors Calculation_Split Factor for Individual Component to Tatoray Stripper C620 Vent Gas_i-Propylbenzene_Fraction</th>\n",
              "      <th>Tatoray Stripper C620 Split Factors Calculation_Split Factor for Individual Component to Tatoray Stripper C620 Vent Gas_n-Propylcyclohexane_Fraction</th>\n",
              "      <th>Tatoray Stripper C620 Split Factors Calculation_Split Factor for Individual Component to Tatoray Stripper C620 Vent Gas_n-Propylbenzene_Fraction</th>\n",
              "      <th>Tatoray Stripper C620 Split Factors Calculation_Split Factor for Individual Component to Tatoray Stripper C620 Vent Gas_1-Methyl-3-ethylbenzene_Fraction</th>\n",
              "      <th>Tatoray Stripper C620 Split Factors Calculation_Split Factor for Individual Component to Tatoray Stripper C620 Vent Gas_1-Methyl-4-ethylbenzene_Fraction</th>\n",
              "      <th>Tatoray Stripper C620 Split Factors Calculation_Split Factor for Individual Component to Tatoray Stripper C620 Vent Gas_1,3,5-Trimethylbenzene_Fraction</th>\n",
              "      <th>Tatoray Stripper C620 Split Factors Calculation_Split Factor for Individual Component to Tatoray Stripper C620 Vent Gas_1-Methyl-2-ethylbenzene_Fraction</th>\n",
              "      <th>Tatoray Stripper C620 Split Factors Calculation_Split Factor for Individual Component to Tatoray Stripper C620 Vent Gas_1,2,4-Trimethylbenzene_Fraction</th>\n",
              "      <th>Tatoray Stripper C620 Split Factors Calculation_Split Factor for Individual Component to Tatoray Stripper C620 Vent Gas_tert-Butylcyclohexane_Fraction</th>\n",
              "      <th>Tatoray Stripper C620 Split Factors Calculation_Split Factor for Individual Component to Tatoray Stripper C620 Vent Gas_1,2,3-Trimethylbenzene_Fraction</th>\n",
              "      <th>Tatoray Stripper C620 Split Factors Calculation_Split Factor for Individual Component to Tatoray Stripper C620 Vent Gas_Indane_Fraction</th>\n",
              "      <th>Tatoray Stripper C620 Split Factors Calculation_Split Factor for Individual Component to Tatoray Stripper C620 Vent Gas_1-Methyl-4-n-propylbenzene_Fraction</th>\n",
              "      <th>Tatoray Stripper C620 Split Factors Calculation_Split Factor for Individual Component to Tatoray Stripper C620 Vent Gas_1,2-Diethylbenzene_Fraction</th>\n",
              "      <th>Tatoray Stripper C620 Split Factors Calculation_Split Factor for Individual Component to Tatoray Stripper C620 Vent Gas_5-Ethyl-m-xylene_Fraction</th>\n",
              "      <th>Tatoray Stripper C620 Split Factors Calculation_Split Factor for Individual Component to Tatoray Stripper C620 Vent Gas_1,4-Diethylbenzene_Fraction</th>\n",
              "      <th>Tatoray Stripper C620 Split Factors Calculation_Split Factor for Individual Component to Tatoray Stripper C620 Vent Gas_1,2,3,5-Tetramethylbenzene_Fraction</th>\n",
              "      <th>Tatoray Stripper C620 Split Factors Calculation_Split Factor for Individual Component to Tatoray Stripper C620 Vent Gas_n-Pentylbenzene_Fraction</th>\n",
              "      <th>Tatoray Stripper C620 Split Factors Calculation_Split Factor for Individual Component to Tatoray Stripper C620 Vent Gas_n-Hexylbenzene_Fraction</th>\n",
              "      <th>Tatoray Stripper C620 Split Factors Calculation_Split Factor for Individual Component to Tatoray Stripper C620 Vent Gas_Nitrogen_Fraction</th>\n",
              "      <th>Tatoray Stripper C620 Split Factors Calculation_Split Factor for Individual Component to Tatoray Stripper C620 Vent Gas_Oxygen_Fraction</th>\n",
              "    </tr>\n",
              "  </thead>\n",
              "  <tbody>\n",
              "    <tr>\n",
              "      <th>001-001</th>\n",
              "      <td>NaN</td>\n",
              "      <td>0.995686</td>\n",
              "      <td>0.984024</td>\n",
              "      <td>0.956211</td>\n",
              "      <td>0.872972</td>\n",
              "      <td>0.712751</td>\n",
              "      <td>0.189219</td>\n",
              "      <td>0.006678</td>\n",
              "      <td>0.022054</td>\n",
              "      <td>0.002648</td>\n",
              "      <td>NaN</td>\n",
              "      <td>0.000093</td>\n",
              "      <td>0.000003</td>\n",
              "      <td>0.000002</td>\n",
              "      <td>4.684918e-09</td>\n",
              "      <td>2.145744e-09</td>\n",
              "      <td>1.208048e-10</td>\n",
              "      <td>5.230046e-11</td>\n",
              "      <td>3.547634e-11</td>\n",
              "      <td>3.394092e-12</td>\n",
              "      <td>3.523048e-11</td>\n",
              "      <td>1.636662e-13</td>\n",
              "      <td>1.631403e-13</td>\n",
              "      <td>7.190536e-15</td>\n",
              "      <td>2.584981e-14</td>\n",
              "      <td>1.541012e-14</td>\n",
              "      <td>5.316193e-16</td>\n",
              "      <td>1.153265e-14</td>\n",
              "      <td>5.869219e-17</td>\n",
              "      <td>NaN</td>\n",
              "      <td>2.368513e-18</td>\n",
              "      <td>5.301870e-18</td>\n",
              "      <td>2.696638e-19</td>\n",
              "      <td>3.187007e-19</td>\n",
              "      <td>1.670506e-19</td>\n",
              "      <td>NaN</td>\n",
              "      <td>8.013215e-23</td>\n",
              "      <td>6.363391e-24</td>\n",
              "      <td>3.459200e-28</td>\n",
              "      <td>NaN</td>\n",
              "      <td>NaN</td>\n",
              "    </tr>\n",
              "    <tr>\n",
              "      <th>001-002</th>\n",
              "      <td>NaN</td>\n",
              "      <td>0.995686</td>\n",
              "      <td>0.984024</td>\n",
              "      <td>0.956213</td>\n",
              "      <td>0.872974</td>\n",
              "      <td>0.712755</td>\n",
              "      <td>0.189221</td>\n",
              "      <td>0.006678</td>\n",
              "      <td>0.022054</td>\n",
              "      <td>0.002648</td>\n",
              "      <td>NaN</td>\n",
              "      <td>0.000093</td>\n",
              "      <td>0.000003</td>\n",
              "      <td>0.000002</td>\n",
              "      <td>4.684659e-09</td>\n",
              "      <td>2.145621e-09</td>\n",
              "      <td>1.207970e-10</td>\n",
              "      <td>5.229697e-11</td>\n",
              "      <td>3.547395e-11</td>\n",
              "      <td>3.393851e-12</td>\n",
              "      <td>3.522816e-11</td>\n",
              "      <td>1.636541e-13</td>\n",
              "      <td>1.631285e-13</td>\n",
              "      <td>7.189989e-15</td>\n",
              "      <td>2.584788e-14</td>\n",
              "      <td>1.540896e-14</td>\n",
              "      <td>5.315779e-16</td>\n",
              "      <td>1.153178e-14</td>\n",
              "      <td>5.868755e-17</td>\n",
              "      <td>NaN</td>\n",
              "      <td>2.368322e-18</td>\n",
              "      <td>5.301445e-18</td>\n",
              "      <td>2.696420e-19</td>\n",
              "      <td>3.186750e-19</td>\n",
              "      <td>1.670370e-19</td>\n",
              "      <td>NaN</td>\n",
              "      <td>8.012541e-23</td>\n",
              "      <td>6.362855e-24</td>\n",
              "      <td>3.458901e-28</td>\n",
              "      <td>NaN</td>\n",
              "      <td>NaN</td>\n",
              "    </tr>\n",
              "    <tr>\n",
              "      <th>001-003</th>\n",
              "      <td>NaN</td>\n",
              "      <td>0.995686</td>\n",
              "      <td>0.984024</td>\n",
              "      <td>0.956212</td>\n",
              "      <td>0.872973</td>\n",
              "      <td>0.712753</td>\n",
              "      <td>0.189220</td>\n",
              "      <td>0.006678</td>\n",
              "      <td>0.022054</td>\n",
              "      <td>0.002648</td>\n",
              "      <td>NaN</td>\n",
              "      <td>0.000093</td>\n",
              "      <td>0.000003</td>\n",
              "      <td>0.000002</td>\n",
              "      <td>4.684784e-09</td>\n",
              "      <td>2.145680e-09</td>\n",
              "      <td>1.208008e-10</td>\n",
              "      <td>5.229871e-11</td>\n",
              "      <td>3.547514e-11</td>\n",
              "      <td>3.393971e-12</td>\n",
              "      <td>3.522930e-11</td>\n",
              "      <td>1.636602e-13</td>\n",
              "      <td>1.631343e-13</td>\n",
              "      <td>7.190265e-15</td>\n",
              "      <td>2.584885e-14</td>\n",
              "      <td>1.540954e-14</td>\n",
              "      <td>5.315990e-16</td>\n",
              "      <td>1.153221e-14</td>\n",
              "      <td>5.868992e-17</td>\n",
              "      <td>NaN</td>\n",
              "      <td>2.368420e-18</td>\n",
              "      <td>5.301662e-18</td>\n",
              "      <td>2.696532e-19</td>\n",
              "      <td>3.186881e-19</td>\n",
              "      <td>1.670440e-19</td>\n",
              "      <td>NaN</td>\n",
              "      <td>8.012893e-23</td>\n",
              "      <td>6.363134e-24</td>\n",
              "      <td>3.459059e-28</td>\n",
              "      <td>NaN</td>\n",
              "      <td>NaN</td>\n",
              "    </tr>\n",
              "    <tr>\n",
              "      <th>001-004</th>\n",
              "      <td>NaN</td>\n",
              "      <td>0.994094</td>\n",
              "      <td>0.975375</td>\n",
              "      <td>0.928658</td>\n",
              "      <td>0.795230</td>\n",
              "      <td>0.588231</td>\n",
              "      <td>0.162069</td>\n",
              "      <td>0.006642</td>\n",
              "      <td>0.021836</td>\n",
              "      <td>0.002755</td>\n",
              "      <td>NaN</td>\n",
              "      <td>0.000096</td>\n",
              "      <td>0.000003</td>\n",
              "      <td>0.000003</td>\n",
              "      <td>4.837402e-09</td>\n",
              "      <td>2.213674e-09</td>\n",
              "      <td>1.230335e-10</td>\n",
              "      <td>5.334354e-11</td>\n",
              "      <td>3.615960e-11</td>\n",
              "      <td>3.448065e-12</td>\n",
              "      <td>3.717538e-11</td>\n",
              "      <td>1.679028e-13</td>\n",
              "      <td>1.693763e-13</td>\n",
              "      <td>7.375794e-15</td>\n",
              "      <td>2.656259e-14</td>\n",
              "      <td>1.585458e-14</td>\n",
              "      <td>5.458051e-16</td>\n",
              "      <td>1.182809e-14</td>\n",
              "      <td>6.012522e-17</td>\n",
              "      <td>NaN</td>\n",
              "      <td>2.414925e-18</td>\n",
              "      <td>5.394715e-18</td>\n",
              "      <td>2.799584e-19</td>\n",
              "      <td>3.297798e-19</td>\n",
              "      <td>1.733107e-19</td>\n",
              "      <td>NaN</td>\n",
              "      <td>8.256858e-23</td>\n",
              "      <td>6.635803e-24</td>\n",
              "      <td>3.640238e-28</td>\n",
              "      <td>NaN</td>\n",
              "      <td>NaN</td>\n",
              "    </tr>\n",
              "    <tr>\n",
              "      <th>001-005</th>\n",
              "      <td>NaN</td>\n",
              "      <td>0.994094</td>\n",
              "      <td>0.975376</td>\n",
              "      <td>0.928659</td>\n",
              "      <td>0.795232</td>\n",
              "      <td>0.588233</td>\n",
              "      <td>0.162070</td>\n",
              "      <td>0.006642</td>\n",
              "      <td>0.021836</td>\n",
              "      <td>0.002755</td>\n",
              "      <td>NaN</td>\n",
              "      <td>0.000096</td>\n",
              "      <td>0.000003</td>\n",
              "      <td>0.000003</td>\n",
              "      <td>4.837231e-09</td>\n",
              "      <td>2.213593e-09</td>\n",
              "      <td>1.230308e-10</td>\n",
              "      <td>5.334244e-11</td>\n",
              "      <td>3.615889e-11</td>\n",
              "      <td>3.448008e-12</td>\n",
              "      <td>3.717423e-11</td>\n",
              "      <td>1.678998e-13</td>\n",
              "      <td>1.693708e-13</td>\n",
              "      <td>7.375702e-15</td>\n",
              "      <td>2.656212e-14</td>\n",
              "      <td>1.585430e-14</td>\n",
              "      <td>5.458025e-16</td>\n",
              "      <td>1.182788e-14</td>\n",
              "      <td>6.012509e-17</td>\n",
              "      <td>NaN</td>\n",
              "      <td>2.414937e-18</td>\n",
              "      <td>5.394703e-18</td>\n",
              "      <td>2.799583e-19</td>\n",
              "      <td>3.297783e-19</td>\n",
              "      <td>1.733111e-19</td>\n",
              "      <td>NaN</td>\n",
              "      <td>8.257018e-23</td>\n",
              "      <td>6.635916e-24</td>\n",
              "      <td>3.640352e-28</td>\n",
              "      <td>NaN</td>\n",
              "      <td>NaN</td>\n",
              "    </tr>\n",
              "    <tr>\n",
              "      <th>...</th>\n",
              "      <td>...</td>\n",
              "      <td>...</td>\n",
              "      <td>...</td>\n",
              "      <td>...</td>\n",
              "      <td>...</td>\n",
              "      <td>...</td>\n",
              "      <td>...</td>\n",
              "      <td>...</td>\n",
              "      <td>...</td>\n",
              "      <td>...</td>\n",
              "      <td>...</td>\n",
              "      <td>...</td>\n",
              "      <td>...</td>\n",
              "      <td>...</td>\n",
              "      <td>...</td>\n",
              "      <td>...</td>\n",
              "      <td>...</td>\n",
              "      <td>...</td>\n",
              "      <td>...</td>\n",
              "      <td>...</td>\n",
              "      <td>...</td>\n",
              "      <td>...</td>\n",
              "      <td>...</td>\n",
              "      <td>...</td>\n",
              "      <td>...</td>\n",
              "      <td>...</td>\n",
              "      <td>...</td>\n",
              "      <td>...</td>\n",
              "      <td>...</td>\n",
              "      <td>...</td>\n",
              "      <td>...</td>\n",
              "      <td>...</td>\n",
              "      <td>...</td>\n",
              "      <td>...</td>\n",
              "      <td>...</td>\n",
              "      <td>...</td>\n",
              "      <td>...</td>\n",
              "      <td>...</td>\n",
              "      <td>...</td>\n",
              "      <td>...</td>\n",
              "      <td>...</td>\n",
              "    </tr>\n",
              "    <tr>\n",
              "      <th>144-104</th>\n",
              "      <td>NaN</td>\n",
              "      <td>0.995507</td>\n",
              "      <td>0.984191</td>\n",
              "      <td>0.958733</td>\n",
              "      <td>0.884530</td>\n",
              "      <td>0.739205</td>\n",
              "      <td>0.207086</td>\n",
              "      <td>0.007376</td>\n",
              "      <td>0.023522</td>\n",
              "      <td>0.003167</td>\n",
              "      <td>NaN</td>\n",
              "      <td>0.000137</td>\n",
              "      <td>0.000006</td>\n",
              "      <td>0.000005</td>\n",
              "      <td>1.433295e-08</td>\n",
              "      <td>6.609419e-09</td>\n",
              "      <td>4.372214e-10</td>\n",
              "      <td>1.940062e-10</td>\n",
              "      <td>1.336042e-10</td>\n",
              "      <td>1.333998e-11</td>\n",
              "      <td>1.285625e-10</td>\n",
              "      <td>6.583871e-13</td>\n",
              "      <td>5.848022e-13</td>\n",
              "      <td>3.089599e-14</td>\n",
              "      <td>1.059025e-13</td>\n",
              "      <td>6.336072e-14</td>\n",
              "      <td>2.483501e-15</td>\n",
              "      <td>4.698576e-14</td>\n",
              "      <td>2.806491e-16</td>\n",
              "      <td>NaN</td>\n",
              "      <td>1.200993e-17</td>\n",
              "      <td>2.493651e-17</td>\n",
              "      <td>1.352477e-18</td>\n",
              "      <td>1.524666e-18</td>\n",
              "      <td>8.581999e-19</td>\n",
              "      <td>NaN</td>\n",
              "      <td>4.770113e-22</td>\n",
              "      <td>3.785588e-23</td>\n",
              "      <td>2.379115e-27</td>\n",
              "      <td>NaN</td>\n",
              "      <td>NaN</td>\n",
              "    </tr>\n",
              "    <tr>\n",
              "      <th>144-105</th>\n",
              "      <td>NaN</td>\n",
              "      <td>0.995507</td>\n",
              "      <td>0.984192</td>\n",
              "      <td>0.958733</td>\n",
              "      <td>0.884531</td>\n",
              "      <td>0.739207</td>\n",
              "      <td>0.207087</td>\n",
              "      <td>0.007376</td>\n",
              "      <td>0.023522</td>\n",
              "      <td>0.003167</td>\n",
              "      <td>NaN</td>\n",
              "      <td>0.000137</td>\n",
              "      <td>0.000006</td>\n",
              "      <td>0.000005</td>\n",
              "      <td>1.433244e-08</td>\n",
              "      <td>6.609172e-09</td>\n",
              "      <td>4.372009e-10</td>\n",
              "      <td>1.939969e-10</td>\n",
              "      <td>1.335977e-10</td>\n",
              "      <td>1.333928e-11</td>\n",
              "      <td>1.285566e-10</td>\n",
              "      <td>6.583512e-13</td>\n",
              "      <td>5.847726e-13</td>\n",
              "      <td>3.089420e-14</td>\n",
              "      <td>1.058965e-13</td>\n",
              "      <td>6.335717e-14</td>\n",
              "      <td>2.483349e-15</td>\n",
              "      <td>4.698313e-14</td>\n",
              "      <td>2.806315e-16</td>\n",
              "      <td>NaN</td>\n",
              "      <td>1.200915e-17</td>\n",
              "      <td>2.493494e-17</td>\n",
              "      <td>1.352390e-18</td>\n",
              "      <td>1.524569e-18</td>\n",
              "      <td>8.581437e-19</td>\n",
              "      <td>NaN</td>\n",
              "      <td>4.769773e-22</td>\n",
              "      <td>3.785319e-23</td>\n",
              "      <td>2.378934e-27</td>\n",
              "      <td>NaN</td>\n",
              "      <td>NaN</td>\n",
              "    </tr>\n",
              "    <tr>\n",
              "      <th>144-106</th>\n",
              "      <td>NaN</td>\n",
              "      <td>0.994908</td>\n",
              "      <td>0.982571</td>\n",
              "      <td>0.955728</td>\n",
              "      <td>0.878389</td>\n",
              "      <td>0.727512</td>\n",
              "      <td>0.196770</td>\n",
              "      <td>0.007325</td>\n",
              "      <td>0.021970</td>\n",
              "      <td>0.003109</td>\n",
              "      <td>NaN</td>\n",
              "      <td>0.000165</td>\n",
              "      <td>0.000011</td>\n",
              "      <td>0.000009</td>\n",
              "      <td>4.001766e-08</td>\n",
              "      <td>1.887913e-08</td>\n",
              "      <td>1.407408e-09</td>\n",
              "      <td>6.347133e-10</td>\n",
              "      <td>4.417358e-10</td>\n",
              "      <td>4.597129e-11</td>\n",
              "      <td>3.972031e-10</td>\n",
              "      <td>2.292506e-12</td>\n",
              "      <td>1.911905e-12</td>\n",
              "      <td>1.117506e-13</td>\n",
              "      <td>3.732762e-13</td>\n",
              "      <td>2.236245e-13</td>\n",
              "      <td>9.340665e-15</td>\n",
              "      <td>1.662839e-13</td>\n",
              "      <td>1.075403e-15</td>\n",
              "      <td>NaN</td>\n",
              "      <td>4.780146e-17</td>\n",
              "      <td>9.653804e-17</td>\n",
              "      <td>5.226198e-18</td>\n",
              "      <td>5.813053e-18</td>\n",
              "      <td>3.354308e-18</td>\n",
              "      <td>NaN</td>\n",
              "      <td>2.022901e-21</td>\n",
              "      <td>1.579446e-22</td>\n",
              "      <td>1.048385e-26</td>\n",
              "      <td>NaN</td>\n",
              "      <td>NaN</td>\n",
              "    </tr>\n",
              "    <tr>\n",
              "      <th>144-107</th>\n",
              "      <td>NaN</td>\n",
              "      <td>0.994908</td>\n",
              "      <td>0.982571</td>\n",
              "      <td>0.955728</td>\n",
              "      <td>0.878389</td>\n",
              "      <td>0.727512</td>\n",
              "      <td>0.196770</td>\n",
              "      <td>0.007325</td>\n",
              "      <td>0.021970</td>\n",
              "      <td>0.003109</td>\n",
              "      <td>NaN</td>\n",
              "      <td>0.000165</td>\n",
              "      <td>0.000011</td>\n",
              "      <td>0.000009</td>\n",
              "      <td>4.001766e-08</td>\n",
              "      <td>1.887913e-08</td>\n",
              "      <td>1.407408e-09</td>\n",
              "      <td>6.347133e-10</td>\n",
              "      <td>4.417358e-10</td>\n",
              "      <td>4.597129e-11</td>\n",
              "      <td>3.972031e-10</td>\n",
              "      <td>2.292506e-12</td>\n",
              "      <td>1.911905e-12</td>\n",
              "      <td>1.117506e-13</td>\n",
              "      <td>3.732762e-13</td>\n",
              "      <td>2.236245e-13</td>\n",
              "      <td>9.340665e-15</td>\n",
              "      <td>1.662839e-13</td>\n",
              "      <td>1.075403e-15</td>\n",
              "      <td>NaN</td>\n",
              "      <td>4.780146e-17</td>\n",
              "      <td>9.653804e-17</td>\n",
              "      <td>5.226198e-18</td>\n",
              "      <td>5.813053e-18</td>\n",
              "      <td>3.354308e-18</td>\n",
              "      <td>NaN</td>\n",
              "      <td>2.022901e-21</td>\n",
              "      <td>1.579446e-22</td>\n",
              "      <td>1.048385e-26</td>\n",
              "      <td>NaN</td>\n",
              "      <td>NaN</td>\n",
              "    </tr>\n",
              "    <tr>\n",
              "      <th>144-108</th>\n",
              "      <td>NaN</td>\n",
              "      <td>0.994908</td>\n",
              "      <td>0.982571</td>\n",
              "      <td>0.955728</td>\n",
              "      <td>0.878389</td>\n",
              "      <td>0.727512</td>\n",
              "      <td>0.196770</td>\n",
              "      <td>0.007325</td>\n",
              "      <td>0.021970</td>\n",
              "      <td>0.003109</td>\n",
              "      <td>NaN</td>\n",
              "      <td>0.000165</td>\n",
              "      <td>0.000011</td>\n",
              "      <td>0.000009</td>\n",
              "      <td>4.001766e-08</td>\n",
              "      <td>1.887913e-08</td>\n",
              "      <td>1.407409e-09</td>\n",
              "      <td>6.347133e-10</td>\n",
              "      <td>4.417358e-10</td>\n",
              "      <td>4.597129e-11</td>\n",
              "      <td>3.972032e-10</td>\n",
              "      <td>2.292506e-12</td>\n",
              "      <td>1.911905e-12</td>\n",
              "      <td>1.117506e-13</td>\n",
              "      <td>3.732762e-13</td>\n",
              "      <td>2.236245e-13</td>\n",
              "      <td>9.340665e-15</td>\n",
              "      <td>1.662839e-13</td>\n",
              "      <td>1.075403e-15</td>\n",
              "      <td>NaN</td>\n",
              "      <td>4.780146e-17</td>\n",
              "      <td>9.653805e-17</td>\n",
              "      <td>5.226198e-18</td>\n",
              "      <td>5.813053e-18</td>\n",
              "      <td>3.354308e-18</td>\n",
              "      <td>NaN</td>\n",
              "      <td>2.022901e-21</td>\n",
              "      <td>1.579446e-22</td>\n",
              "      <td>1.048385e-26</td>\n",
              "      <td>NaN</td>\n",
              "      <td>NaN</td>\n",
              "    </tr>\n",
              "  </tbody>\n",
              "</table>\n",
              "<p>15547 rows × 41 columns</p>\n",
              "</div>"
            ],
            "text/plain": [
              "         Tatoray Stripper C620 Split Factors Calculation_Split Factor for Individual Component to Tatoray Stripper C620 Vent Gas_Hydrogen_Fraction  ...  Tatoray Stripper C620 Split Factors Calculation_Split Factor for Individual Component to Tatoray Stripper C620 Vent Gas_Oxygen_Fraction\n",
              "001-001                                                NaN                                                                                          ...                                                NaN                                                                                      \n",
              "001-002                                                NaN                                                                                          ...                                                NaN                                                                                      \n",
              "001-003                                                NaN                                                                                          ...                                                NaN                                                                                      \n",
              "001-004                                                NaN                                                                                          ...                                                NaN                                                                                      \n",
              "001-005                                                NaN                                                                                          ...                                                NaN                                                                                      \n",
              "...                                                    ...                                                                                          ...                                                ...                                                                                      \n",
              "144-104                                                NaN                                                                                          ...                                                NaN                                                                                      \n",
              "144-105                                                NaN                                                                                          ...                                                NaN                                                                                      \n",
              "144-106                                                NaN                                                                                          ...                                                NaN                                                                                      \n",
              "144-107                                                NaN                                                                                          ...                                                NaN                                                                                      \n",
              "144-108                                                NaN                                                                                          ...                                                NaN                                                                                      \n",
              "\n",
              "[15547 rows x 41 columns]"
            ]
          },
          "metadata": {
            "tags": []
          },
          "execution_count": 33
        }
      ]
    },
    {
      "cell_type": "code",
      "metadata": {
        "id": "e2hKOzMqjE-u"
      },
      "source": [
        "vent_gas_sf_hat.update(c620_df[c620_col['vent_gas_sf']])"
      ],
      "execution_count": 34,
      "outputs": []
    },
    {
      "cell_type": "code",
      "metadata": {
        "id": "_BZ159U_jduU",
        "colab": {
          "base_uri": "https://localhost:8080/"
        },
        "outputId": "8a741874-ebe0-40ba-ccc4-255d419c7ead"
      },
      "source": [
        "np.allclose(vent_gas_sf_hat,c620_df[c620_col['vent_gas_sf']])"
      ],
      "execution_count": 35,
      "outputs": [
        {
          "output_type": "execute_result",
          "data": {
            "text/plain": [
              "True"
            ]
          },
          "metadata": {
            "tags": []
          },
          "execution_count": 35
        }
      ]
    },
    {
      "cell_type": "markdown",
      "metadata": {
        "id": "JQocuRqtCcph"
      },
      "source": [
        "# icg_input 中的 side_benzene 必須與 c620_wt中的side_benzene 一致"
      ]
    },
    {
      "cell_type": "code",
      "metadata": {
        "colab": {
          "base_uri": "https://localhost:8080/",
          "height": 0
        },
        "id": "ckzgLCFXCc-E",
        "outputId": "b1129007-09af-425e-db43-a7b697079431"
      },
      "source": [
        "a = icg_df.filter(regex='Benzene in C620 Sidedraw_wt%')\n",
        "b = c620_df.filter(regex='Sidedraw Production Rate and Composition_Benzene_wt%')\n",
        "idx = list(set(a.index)&set(b.index))\n",
        "a.loc[idx].join(b.loc[idx])"
      ],
      "execution_count": 36,
      "outputs": [
        {
          "output_type": "execute_result",
          "data": {
            "text/html": [
              "<div>\n",
              "<style scoped>\n",
              "    .dataframe tbody tr th:only-of-type {\n",
              "        vertical-align: middle;\n",
              "    }\n",
              "\n",
              "    .dataframe tbody tr th {\n",
              "        vertical-align: top;\n",
              "    }\n",
              "\n",
              "    .dataframe thead th {\n",
              "        text-align: right;\n",
              "    }\n",
              "</style>\n",
              "<table border=\"1\" class=\"dataframe\">\n",
              "  <thead>\n",
              "    <tr style=\"text-align: right;\">\n",
              "      <th></th>\n",
              "      <th>Simulation Case Conditions_Spec 1 : Benzene in C620 Sidedraw_wt%</th>\n",
              "      <th>Tatoray Stripper C620 Operation_Sidedraw Production Rate and Composition_Benzene_wt%</th>\n",
              "    </tr>\n",
              "  </thead>\n",
              "  <tbody>\n",
              "    <tr>\n",
              "      <th>090-026</th>\n",
              "      <td>70.0</td>\n",
              "      <td>70.000015</td>\n",
              "    </tr>\n",
              "    <tr>\n",
              "      <th>019-011</th>\n",
              "      <td>80.0</td>\n",
              "      <td>80.000000</td>\n",
              "    </tr>\n",
              "    <tr>\n",
              "      <th>086-014</th>\n",
              "      <td>80.0</td>\n",
              "      <td>80.000000</td>\n",
              "    </tr>\n",
              "    <tr>\n",
              "      <th>059-023</th>\n",
              "      <td>70.0</td>\n",
              "      <td>70.000000</td>\n",
              "    </tr>\n",
              "    <tr>\n",
              "      <th>133-026</th>\n",
              "      <td>70.0</td>\n",
              "      <td>69.999992</td>\n",
              "    </tr>\n",
              "    <tr>\n",
              "      <th>...</th>\n",
              "      <td>...</td>\n",
              "      <td>...</td>\n",
              "    </tr>\n",
              "    <tr>\n",
              "      <th>092-014</th>\n",
              "      <td>80.0</td>\n",
              "      <td>80.000000</td>\n",
              "    </tr>\n",
              "    <tr>\n",
              "      <th>048-011</th>\n",
              "      <td>80.0</td>\n",
              "      <td>79.999992</td>\n",
              "    </tr>\n",
              "    <tr>\n",
              "      <th>024-026</th>\n",
              "      <td>70.0</td>\n",
              "      <td>69.999992</td>\n",
              "    </tr>\n",
              "    <tr>\n",
              "      <th>089-011</th>\n",
              "      <td>80.0</td>\n",
              "      <td>80.000000</td>\n",
              "    </tr>\n",
              "    <tr>\n",
              "      <th>104-017</th>\n",
              "      <td>80.0</td>\n",
              "      <td>80.000008</td>\n",
              "    </tr>\n",
              "  </tbody>\n",
              "</table>\n",
              "<p>1295 rows × 2 columns</p>\n",
              "</div>"
            ],
            "text/plain": [
              "         Simulation Case Conditions_Spec 1 : Benzene in C620 Sidedraw_wt%  Tatoray Stripper C620 Operation_Sidedraw Production Rate and Composition_Benzene_wt%\n",
              "090-026                                               70.0                                                         70.000015                                   \n",
              "019-011                                               80.0                                                         80.000000                                   \n",
              "086-014                                               80.0                                                         80.000000                                   \n",
              "059-023                                               70.0                                                         70.000000                                   \n",
              "133-026                                               70.0                                                         69.999992                                   \n",
              "...                                                    ...                                                               ...                                   \n",
              "092-014                                               80.0                                                         80.000000                                   \n",
              "048-011                                               80.0                                                         79.999992                                   \n",
              "024-026                                               70.0                                                         69.999992                                   \n",
              "089-011                                               80.0                                                         80.000000                                   \n",
              "104-017                                               80.0                                                         80.000008                                   \n",
              "\n",
              "[1295 rows x 2 columns]"
            ]
          },
          "metadata": {
            "tags": []
          },
          "execution_count": 36
        }
      ]
    },
    {
      "cell_type": "markdown",
      "metadata": {
        "id": "r82xWUfPIvf4"
      },
      "source": [
        "# NA IN BENZENE = 980 對應到c660_side的na加總值"
      ]
    },
    {
      "cell_type": "code",
      "metadata": {
        "colab": {
          "base_uri": "https://localhost:8080/",
          "height": 402
        },
        "id": "fKK9xqo8EYGM",
        "outputId": "87f517aa-8941-4b22-8b69-5ed26899cf2e"
      },
      "source": [
        "a = icg_df[['Simulation Case Conditions_Spec 2 : NA in Benzene_ppmw']]\n",
        "naidx = [1,2,3,4,5,6,8,9,11,13,14,15,20,22,29]\n",
        "b = c660_df[c660_col['sidedraw_x']].iloc[:,naidx].sum(axis=1).to_frame()*10000\n",
        "idx = list(set(a.index)&set(b.index))\n",
        "a.loc[idx].join(b.loc[idx])"
      ],
      "execution_count": 37,
      "outputs": [
        {
          "output_type": "execute_result",
          "data": {
            "text/html": [
              "<div>\n",
              "<style scoped>\n",
              "    .dataframe tbody tr th:only-of-type {\n",
              "        vertical-align: middle;\n",
              "    }\n",
              "\n",
              "    .dataframe tbody tr th {\n",
              "        vertical-align: top;\n",
              "    }\n",
              "\n",
              "    .dataframe thead th {\n",
              "        text-align: right;\n",
              "    }\n",
              "</style>\n",
              "<table border=\"1\" class=\"dataframe\">\n",
              "  <thead>\n",
              "    <tr style=\"text-align: right;\">\n",
              "      <th></th>\n",
              "      <th>Simulation Case Conditions_Spec 2 : NA in Benzene_ppmw</th>\n",
              "      <th>0</th>\n",
              "    </tr>\n",
              "  </thead>\n",
              "  <tbody>\n",
              "    <tr>\n",
              "      <th>090-026</th>\n",
              "      <td>800.0</td>\n",
              "      <td>800.006814</td>\n",
              "    </tr>\n",
              "    <tr>\n",
              "      <th>019-011</th>\n",
              "      <td>980.0</td>\n",
              "      <td>980.002658</td>\n",
              "    </tr>\n",
              "    <tr>\n",
              "      <th>086-014</th>\n",
              "      <td>950.0</td>\n",
              "      <td>949.977501</td>\n",
              "    </tr>\n",
              "    <tr>\n",
              "      <th>059-023</th>\n",
              "      <td>950.0</td>\n",
              "      <td>949.997567</td>\n",
              "    </tr>\n",
              "    <tr>\n",
              "      <th>133-026</th>\n",
              "      <td>920.0</td>\n",
              "      <td>920.014684</td>\n",
              "    </tr>\n",
              "    <tr>\n",
              "      <th>...</th>\n",
              "      <td>...</td>\n",
              "      <td>...</td>\n",
              "    </tr>\n",
              "    <tr>\n",
              "      <th>092-014</th>\n",
              "      <td>950.0</td>\n",
              "      <td>949.994520</td>\n",
              "    </tr>\n",
              "    <tr>\n",
              "      <th>048-011</th>\n",
              "      <td>920.0</td>\n",
              "      <td>920.000761</td>\n",
              "    </tr>\n",
              "    <tr>\n",
              "      <th>024-026</th>\n",
              "      <td>800.0</td>\n",
              "      <td>799.995755</td>\n",
              "    </tr>\n",
              "    <tr>\n",
              "      <th>089-011</th>\n",
              "      <td>950.0</td>\n",
              "      <td>950.002917</td>\n",
              "    </tr>\n",
              "    <tr>\n",
              "      <th>104-017</th>\n",
              "      <td>920.0</td>\n",
              "      <td>919.876059</td>\n",
              "    </tr>\n",
              "  </tbody>\n",
              "</table>\n",
              "<p>1295 rows × 2 columns</p>\n",
              "</div>"
            ],
            "text/plain": [
              "         Simulation Case Conditions_Spec 2 : NA in Benzene_ppmw           0\n",
              "090-026                                              800.0       800.006814\n",
              "019-011                                              980.0       980.002658\n",
              "086-014                                              950.0       949.977501\n",
              "059-023                                              950.0       949.997567\n",
              "133-026                                              920.0       920.014684\n",
              "...                                                    ...              ...\n",
              "092-014                                              950.0       949.994520\n",
              "048-011                                              920.0       920.000761\n",
              "024-026                                              800.0       799.995755\n",
              "089-011                                              950.0       950.002917\n",
              "104-017                                              920.0       919.876059\n",
              "\n",
              "[1295 rows x 2 columns]"
            ]
          },
          "metadata": {
            "tags": []
          },
          "execution_count": 37
        }
      ]
    },
    {
      "cell_type": "markdown",
      "metadata": {
        "id": "0I-NWx-30Lsl"
      },
      "source": [
        "# check 分離係數有些數值都是固定不變的"
      ]
    },
    {
      "cell_type": "code",
      "metadata": {
        "id": "DEU2E-eK1wPK"
      },
      "source": [
        "#'vent_gas_sf','distillate_sf', 'sidedraw_sf', 'bottoms_sf'"
      ],
      "execution_count": 38,
      "outputs": []
    },
    {
      "cell_type": "code",
      "metadata": {
        "id": "dDc3XmRz19qH",
        "colab": {
          "base_uri": "https://localhost:8080/"
        },
        "outputId": "c735d500-676c-4ad2-d20c-cdd72861ce48"
      },
      "source": [
        "c620_sp_col = c620_col['vent_gas_sf']+c620_col['distillate_sf']+c620_col['sidedraw_sf']+c620_col['bottoms_sf']\n",
        "a = c620_df[c620_sp_col].describe().T\n",
        "c620_wt_always_same_split_factor_dict = a[a['std']==0]['mean'].to_dict()\n",
        "joblib.dump(c620_wt_always_same_split_factor_dict,'/content/drive/MyDrive/台塑輕油案子/data/c620/map_dict/c620_wt_always_same_split_factor_dict.pkl')\n",
        "c620_wt_always_same_split_factor_dict"
      ],
      "execution_count": 39,
      "outputs": [
        {
          "output_type": "execute_result",
          "data": {
            "text/plain": [
              "{'Tatoray Stripper C620 Split Factors Calculation_Split Factor for Individual Component to Tatoray Stripper C620 Bottoms_1,4-Diethylbenzene_Fraction': 1.0,\n",
              " 'Tatoray Stripper C620 Split Factors Calculation_Split Factor for Individual Component to Tatoray Stripper C620 Bottoms_Ethane_Fraction': 0.0,\n",
              " 'Tatoray Stripper C620 Split Factors Calculation_Split Factor for Individual Component to Tatoray Stripper C620 Bottoms_Hydrogen_Fraction': 0.0,\n",
              " 'Tatoray Stripper C620 Split Factors Calculation_Split Factor for Individual Component to Tatoray Stripper C620 Bottoms_Methane_Fraction': 0.0,\n",
              " 'Tatoray Stripper C620 Split Factors Calculation_Split Factor for Individual Component to Tatoray Stripper C620 Bottoms_Nitrogen_Fraction': 0.0,\n",
              " 'Tatoray Stripper C620 Split Factors Calculation_Split Factor for Individual Component to Tatoray Stripper C620 Bottoms_Oxygen_Fraction': 0.0,\n",
              " 'Tatoray Stripper C620 Split Factors Calculation_Split Factor for Individual Component to Tatoray Stripper C620 Bottoms_Propane_Fraction': 0.0,\n",
              " 'Tatoray Stripper C620 Split Factors Calculation_Split Factor for Individual Component to Tatoray Stripper C620 Bottoms_Water_Fraction': 0.0,\n",
              " 'Tatoray Stripper C620 Split Factors Calculation_Split Factor for Individual Component to Tatoray Stripper C620 Bottoms_tert-Butylcyclohexane_Fraction': 1.0,\n",
              " 'Tatoray Stripper C620 Split Factors Calculation_Split Factor for Individual Component to Tatoray Stripper C620 Distillate_1,4-Diethylbenzene_Fraction': 0.0,\n",
              " 'Tatoray Stripper C620 Split Factors Calculation_Split Factor for Individual Component to Tatoray Stripper C620 Distillate_Hydrogen_Fraction': 0.0,\n",
              " 'Tatoray Stripper C620 Split Factors Calculation_Split Factor for Individual Component to Tatoray Stripper C620 Distillate_Nitrogen_Fraction': 0.0,\n",
              " 'Tatoray Stripper C620 Split Factors Calculation_Split Factor for Individual Component to Tatoray Stripper C620 Distillate_Oxygen_Fraction': 0.0,\n",
              " 'Tatoray Stripper C620 Split Factors Calculation_Split Factor for Individual Component to Tatoray Stripper C620 Distillate_Water_Fraction': 1.0,\n",
              " 'Tatoray Stripper C620 Split Factors Calculation_Split Factor for Individual Component to Tatoray Stripper C620 Distillate_tert-Butylcyclohexane_Fraction': 0.0,\n",
              " 'Tatoray Stripper C620 Split Factors Calculation_Split Factor for Individual Component to Tatoray Stripper C620 Sidedraw_1,4-Diethylbenzene_Fraction': 0.0,\n",
              " 'Tatoray Stripper C620 Split Factors Calculation_Split Factor for Individual Component to Tatoray Stripper C620 Sidedraw_Hydrogen_Fraction': 0.0,\n",
              " 'Tatoray Stripper C620 Split Factors Calculation_Split Factor for Individual Component to Tatoray Stripper C620 Sidedraw_Nitrogen_Fraction': 0.0,\n",
              " 'Tatoray Stripper C620 Split Factors Calculation_Split Factor for Individual Component to Tatoray Stripper C620 Sidedraw_Oxygen_Fraction': 0.0,\n",
              " 'Tatoray Stripper C620 Split Factors Calculation_Split Factor for Individual Component to Tatoray Stripper C620 Sidedraw_Water_Fraction': 0.0,\n",
              " 'Tatoray Stripper C620 Split Factors Calculation_Split Factor for Individual Component to Tatoray Stripper C620 Sidedraw_tert-Butylcyclohexane_Fraction': 0.0,\n",
              " 'Tatoray Stripper C620 Split Factors Calculation_Split Factor for Individual Component to Tatoray Stripper C620 Vent Gas_1,4-Diethylbenzene_Fraction': 0.0,\n",
              " 'Tatoray Stripper C620 Split Factors Calculation_Split Factor for Individual Component to Tatoray Stripper C620 Vent Gas_Hydrogen_Fraction': 1.0,\n",
              " 'Tatoray Stripper C620 Split Factors Calculation_Split Factor for Individual Component to Tatoray Stripper C620 Vent Gas_Nitrogen_Fraction': 1.0,\n",
              " 'Tatoray Stripper C620 Split Factors Calculation_Split Factor for Individual Component to Tatoray Stripper C620 Vent Gas_Oxygen_Fraction': 1.0,\n",
              " 'Tatoray Stripper C620 Split Factors Calculation_Split Factor for Individual Component to Tatoray Stripper C620 Vent Gas_Water_Fraction': 0.0,\n",
              " 'Tatoray Stripper C620 Split Factors Calculation_Split Factor for Individual Component to Tatoray Stripper C620 Vent Gas_tert-Butylcyclohexane_Fraction': 0.0}"
            ]
          },
          "metadata": {
            "tags": []
          },
          "execution_count": 39
        }
      ]
    },
    {
      "cell_type": "code",
      "metadata": {
        "id": "qGsv42-c2eZN",
        "colab": {
          "base_uri": "https://localhost:8080/"
        },
        "outputId": "1b4c12b9-f253-4629-d031-cdc9160d1c28"
      },
      "source": [
        "c660_sp_col = c660_col['vent_gas_sf']+c660_col['distillate_sf']+c660_col['sidedraw_sf']+c660_col['bottoms_sf']\n",
        "a = c660_df[c660_sp_col].describe().T\n",
        "c660_wt_always_same_split_factor_dict = a[a['std']==0]['mean'].to_dict()\n",
        "joblib.dump(c660_wt_always_same_split_factor_dict,'/content/drive/MyDrive/台塑輕油案子/data/c620/map_dict/c660_wt_always_same_split_factor_dict.pkl')\n",
        "c660_wt_always_same_split_factor_dict"
      ],
      "execution_count": 40,
      "outputs": [
        {
          "output_type": "execute_result",
          "data": {
            "text/plain": [
              "{'Benzene Column C660 Split Factors Calculation_Split Factor for Individual Component to Benzene Column C660 Bottoms_1,4-Diethylbenzene_Fraction': 1.0,\n",
              " 'Benzene Column C660 Split Factors Calculation_Split Factor for Individual Component to Benzene Column C660 Bottoms_Ethane_Fraction': 0.0,\n",
              " 'Benzene Column C660 Split Factors Calculation_Split Factor for Individual Component to Benzene Column C660 Bottoms_Hydrogen_Fraction': 0.0,\n",
              " 'Benzene Column C660 Split Factors Calculation_Split Factor for Individual Component to Benzene Column C660 Bottoms_Methane_Fraction': 0.0,\n",
              " 'Benzene Column C660 Split Factors Calculation_Split Factor for Individual Component to Benzene Column C660 Bottoms_Nitrogen_Fraction': 0.0,\n",
              " 'Benzene Column C660 Split Factors Calculation_Split Factor for Individual Component to Benzene Column C660 Bottoms_Oxygen_Fraction': 0.0,\n",
              " 'Benzene Column C660 Split Factors Calculation_Split Factor for Individual Component to Benzene Column C660 Bottoms_Propane_Fraction': 0.0,\n",
              " 'Benzene Column C660 Split Factors Calculation_Split Factor for Individual Component to Benzene Column C660 Bottoms_Water_Fraction': 0.0,\n",
              " 'Benzene Column C660 Split Factors Calculation_Split Factor for Individual Component to Benzene Column C660 Distillate_1,2,3,5-Tetramethylbenzene_Fraction': 0.0,\n",
              " 'Benzene Column C660 Split Factors Calculation_Split Factor for Individual Component to Benzene Column C660 Distillate_1,2,3-Trimethylbenzene_Fraction': 0.0,\n",
              " 'Benzene Column C660 Split Factors Calculation_Split Factor for Individual Component to Benzene Column C660 Distillate_1,2,4-Trimethylbenzene_Fraction': 0.0,\n",
              " 'Benzene Column C660 Split Factors Calculation_Split Factor for Individual Component to Benzene Column C660 Distillate_1,2-Diethylbenzene_Fraction': 0.0,\n",
              " 'Benzene Column C660 Split Factors Calculation_Split Factor for Individual Component to Benzene Column C660 Distillate_1,3,5-Trimethylbenzene_Fraction': 0.0,\n",
              " 'Benzene Column C660 Split Factors Calculation_Split Factor for Individual Component to Benzene Column C660 Distillate_1,4-Diethylbenzene_Fraction': 0.0,\n",
              " 'Benzene Column C660 Split Factors Calculation_Split Factor for Individual Component to Benzene Column C660 Distillate_1-Methyl-4-n-propylbenzene_Fraction': 0.0,\n",
              " 'Benzene Column C660 Split Factors Calculation_Split Factor for Individual Component to Benzene Column C660 Distillate_5-Ethyl-m-xylene_Fraction': 0.0,\n",
              " 'Benzene Column C660 Split Factors Calculation_Split Factor for Individual Component to Benzene Column C660 Distillate_Hydrogen_Fraction': 0.0,\n",
              " 'Benzene Column C660 Split Factors Calculation_Split Factor for Individual Component to Benzene Column C660 Distillate_Indane_Fraction': 0.0,\n",
              " 'Benzene Column C660 Split Factors Calculation_Split Factor for Individual Component to Benzene Column C660 Distillate_Nitrogen_Fraction': 0.0,\n",
              " 'Benzene Column C660 Split Factors Calculation_Split Factor for Individual Component to Benzene Column C660 Distillate_Oxygen_Fraction': 0.0,\n",
              " 'Benzene Column C660 Split Factors Calculation_Split Factor for Individual Component to Benzene Column C660 Distillate_Water_Fraction': 1.0,\n",
              " 'Benzene Column C660 Split Factors Calculation_Split Factor for Individual Component to Benzene Column C660 Distillate_n-Hexylbenzene_Fraction': 0.0,\n",
              " 'Benzene Column C660 Split Factors Calculation_Split Factor for Individual Component to Benzene Column C660 Distillate_n-Pentylbenzene_Fraction': 0.0,\n",
              " 'Benzene Column C660 Split Factors Calculation_Split Factor for Individual Component to Benzene Column C660 Distillate_n-Propylbenzene_Fraction': 0.0,\n",
              " 'Benzene Column C660 Split Factors Calculation_Split Factor for Individual Component to Benzene Column C660 Sidedraw_1,2,3,5-Tetramethylbenzene_Fraction': 0.0,\n",
              " 'Benzene Column C660 Split Factors Calculation_Split Factor for Individual Component to Benzene Column C660 Sidedraw_1,2,3-Trimethylbenzene_Fraction': 0.0,\n",
              " 'Benzene Column C660 Split Factors Calculation_Split Factor for Individual Component to Benzene Column C660 Sidedraw_1,4-Diethylbenzene_Fraction': 0.0,\n",
              " 'Benzene Column C660 Split Factors Calculation_Split Factor for Individual Component to Benzene Column C660 Sidedraw_5-Ethyl-m-xylene_Fraction': 0.0,\n",
              " 'Benzene Column C660 Split Factors Calculation_Split Factor for Individual Component to Benzene Column C660 Sidedraw_Hydrogen_Fraction': 0.0,\n",
              " 'Benzene Column C660 Split Factors Calculation_Split Factor for Individual Component to Benzene Column C660 Sidedraw_Indane_Fraction': 0.0,\n",
              " 'Benzene Column C660 Split Factors Calculation_Split Factor for Individual Component to Benzene Column C660 Sidedraw_Nitrogen_Fraction': 0.0,\n",
              " 'Benzene Column C660 Split Factors Calculation_Split Factor for Individual Component to Benzene Column C660 Sidedraw_Oxygen_Fraction': 0.0,\n",
              " 'Benzene Column C660 Split Factors Calculation_Split Factor for Individual Component to Benzene Column C660 Sidedraw_Water_Fraction': 0.0,\n",
              " 'Benzene Column C660 Split Factors Calculation_Split Factor for Individual Component to Benzene Column C660 Sidedraw_n-Hexylbenzene_Fraction': 0.0,\n",
              " 'Benzene Column C660 Split Factors Calculation_Split Factor for Individual Component to Benzene Column C660 Sidedraw_n-Pentylbenzene_Fraction': 0.0,\n",
              " 'Benzene Column C660 Split Factors Calculation_Split Factor for Individual Component to Benzene Column C660 Vent Gas_1,2,3,5-Tetramethylbenzene_Fraction': 0.0,\n",
              " 'Benzene Column C660 Split Factors Calculation_Split Factor for Individual Component to Benzene Column C660 Vent Gas_1,2,3-Trimethylbenzene_Fraction': 0.0,\n",
              " 'Benzene Column C660 Split Factors Calculation_Split Factor for Individual Component to Benzene Column C660 Vent Gas_1,2,4-Trimethylbenzene_Fraction': 0.0,\n",
              " 'Benzene Column C660 Split Factors Calculation_Split Factor for Individual Component to Benzene Column C660 Vent Gas_1,2-Diethylbenzene_Fraction': 0.0,\n",
              " 'Benzene Column C660 Split Factors Calculation_Split Factor for Individual Component to Benzene Column C660 Vent Gas_1,3,5-Trimethylbenzene_Fraction': 0.0,\n",
              " 'Benzene Column C660 Split Factors Calculation_Split Factor for Individual Component to Benzene Column C660 Vent Gas_1,4-Diethylbenzene_Fraction': 0.0,\n",
              " 'Benzene Column C660 Split Factors Calculation_Split Factor for Individual Component to Benzene Column C660 Vent Gas_1-Methyl-4-n-propylbenzene_Fraction': 0.0,\n",
              " 'Benzene Column C660 Split Factors Calculation_Split Factor for Individual Component to Benzene Column C660 Vent Gas_5-Ethyl-m-xylene_Fraction': 0.0,\n",
              " 'Benzene Column C660 Split Factors Calculation_Split Factor for Individual Component to Benzene Column C660 Vent Gas_Hydrogen_Fraction': 1.0,\n",
              " 'Benzene Column C660 Split Factors Calculation_Split Factor for Individual Component to Benzene Column C660 Vent Gas_Indane_Fraction': 0.0,\n",
              " 'Benzene Column C660 Split Factors Calculation_Split Factor for Individual Component to Benzene Column C660 Vent Gas_Nitrogen_Fraction': 1.0,\n",
              " 'Benzene Column C660 Split Factors Calculation_Split Factor for Individual Component to Benzene Column C660 Vent Gas_Oxygen_Fraction': 1.0,\n",
              " 'Benzene Column C660 Split Factors Calculation_Split Factor for Individual Component to Benzene Column C660 Vent Gas_Water_Fraction': 0.0,\n",
              " 'Benzene Column C660 Split Factors Calculation_Split Factor for Individual Component to Benzene Column C660 Vent Gas_n-Hexylbenzene_Fraction': 0.0,\n",
              " 'Benzene Column C660 Split Factors Calculation_Split Factor for Individual Component to Benzene Column C660 Vent Gas_n-Pentylbenzene_Fraction': 0.0,\n",
              " 'Benzene Column C660 Split Factors Calculation_Split Factor for Individual Component to Benzene Column C660 Vent Gas_n-Propylbenzene_Fraction': 0.0}"
            ]
          },
          "metadata": {
            "tags": []
          },
          "execution_count": 40
        }
      ]
    },
    {
      "cell_type": "code",
      "metadata": {
        "id": "4KInqB5l335z",
        "colab": {
          "base_uri": "https://localhost:8080/"
        },
        "outputId": "bef80d04-f0a8-4ead-e3db-c8949da742c6"
      },
      "source": [
        "c670_sp_col = c670_col['distillate_sf']+c670_col['bottoms_sf']\n",
        "a = c670_df[c670_sp_col].describe().T\n",
        "c670_wt_always_same_split_factor_dict = a[a['std']==0]['mean'].to_dict()\n",
        "joblib.dump(c670_wt_always_same_split_factor_dict,'/content/drive/MyDrive/台塑輕油案子/data/c620/map_dict/c670_wt_always_same_split_factor_dict.pkl')\n",
        "c670_wt_always_same_split_factor_dict"
      ],
      "execution_count": 41,
      "outputs": [
        {
          "output_type": "execute_result",
          "data": {
            "text/plain": [
              "{'Toluene Column C670 Split Factors Calculation_Split Factor for Individual Component to Toluene Column C670 Bottoms_1,4-Diethylbenzene_Fraction': 1.0,\n",
              " 'Toluene Column C670 Split Factors Calculation_Split Factor for Individual Component to Toluene Column C670 Bottoms_Ethane_Fraction': 0.0,\n",
              " 'Toluene Column C670 Split Factors Calculation_Split Factor for Individual Component to Toluene Column C670 Bottoms_Hydrogen_Fraction': 0.0,\n",
              " 'Toluene Column C670 Split Factors Calculation_Split Factor for Individual Component to Toluene Column C670 Bottoms_Methane_Fraction': 0.0,\n",
              " 'Toluene Column C670 Split Factors Calculation_Split Factor for Individual Component to Toluene Column C670 Bottoms_Nitrogen_Fraction': 0.0,\n",
              " 'Toluene Column C670 Split Factors Calculation_Split Factor for Individual Component to Toluene Column C670 Bottoms_Oxygen_Fraction': 0.0,\n",
              " 'Toluene Column C670 Split Factors Calculation_Split Factor for Individual Component to Toluene Column C670 Bottoms_Propane_Fraction': 0.0,\n",
              " 'Toluene Column C670 Split Factors Calculation_Split Factor for Individual Component to Toluene Column C670 Bottoms_Water_Fraction': 0.0,\n",
              " 'Toluene Column C670 Split Factors Calculation_Split Factor for Individual Component to Toluene Column C670 Bottoms_n-Butane_Fraction': 0.0,\n",
              " 'Toluene Column C670 Split Factors Calculation_Split Factor for Individual Component to Toluene Column C670 Bottoms_n-Hexane_Fraction': 0.0,\n",
              " 'Toluene Column C670 Split Factors Calculation_Split Factor for Individual Component to Toluene Column C670 Bottoms_n-Pentane_Fraction': 0.0,\n",
              " 'Toluene Column C670 Split Factors Calculation_Split Factor for Individual Component to Toluene Column C670 Distillate_1,2,3,5-Tetramethylbenzene_Fraction': 0.0,\n",
              " 'Toluene Column C670 Split Factors Calculation_Split Factor for Individual Component to Toluene Column C670 Distillate_1,4-Diethylbenzene_Fraction': 0.0,\n",
              " 'Toluene Column C670 Split Factors Calculation_Split Factor for Individual Component to Toluene Column C670 Distillate_Ethane_Fraction': 1.0,\n",
              " 'Toluene Column C670 Split Factors Calculation_Split Factor for Individual Component to Toluene Column C670 Distillate_Hydrogen_Fraction': 1.0,\n",
              " 'Toluene Column C670 Split Factors Calculation_Split Factor for Individual Component to Toluene Column C670 Distillate_Methane_Fraction': 1.0,\n",
              " 'Toluene Column C670 Split Factors Calculation_Split Factor for Individual Component to Toluene Column C670 Distillate_Nitrogen_Fraction': 1.0,\n",
              " 'Toluene Column C670 Split Factors Calculation_Split Factor for Individual Component to Toluene Column C670 Distillate_Oxygen_Fraction': 1.0,\n",
              " 'Toluene Column C670 Split Factors Calculation_Split Factor for Individual Component to Toluene Column C670 Distillate_Propane_Fraction': 1.0,\n",
              " 'Toluene Column C670 Split Factors Calculation_Split Factor for Individual Component to Toluene Column C670 Distillate_Water_Fraction': 1.0,\n",
              " 'Toluene Column C670 Split Factors Calculation_Split Factor for Individual Component to Toluene Column C670 Distillate_n-Butane_Fraction': 1.0,\n",
              " 'Toluene Column C670 Split Factors Calculation_Split Factor for Individual Component to Toluene Column C670 Distillate_n-Hexane_Fraction': 1.0,\n",
              " 'Toluene Column C670 Split Factors Calculation_Split Factor for Individual Component to Toluene Column C670 Distillate_n-Hexylbenzene_Fraction': 0.0,\n",
              " 'Toluene Column C670 Split Factors Calculation_Split Factor for Individual Component to Toluene Column C670 Distillate_n-Pentane_Fraction': 1.0,\n",
              " 'Toluene Column C670 Split Factors Calculation_Split Factor for Individual Component to Toluene Column C670 Distillate_n-Pentylbenzene_Fraction': 0.0}"
            ]
          },
          "metadata": {
            "tags": []
          },
          "execution_count": 41
        }
      ]
    },
    {
      "cell_type": "markdown",
      "metadata": {
        "id": "LBOrU7J_zVeT"
      },
      "source": [
        "# check real data 也是有分離係數是不變得"
      ]
    },
    {
      "cell_type": "code",
      "metadata": {
        "id": "v2EWlSuf4DOx",
        "colab": {
          "base_uri": "https://localhost:8080/"
        },
        "outputId": "579c1366-2944-4f88-b9c2-228a9fee850a"
      },
      "source": [
        "c620_df_real = pd.read_excel('/content/drive/MyDrive/台塑輕油案子/data/c620/明志_遷移式學習_訓練資料_寄送版/c620_data.xlsx',index_col=0)\n",
        "a = c620_df_real[c620_sp_col].describe().T\n",
        "c620_wt_always_same_split_factor_dict_real = a[a['std']==0]['mean'].to_dict()\n",
        "set(c620_wt_always_same_split_factor_dict_real)^set(c620_wt_always_same_split_factor_dict)"
      ],
      "execution_count": 42,
      "outputs": [
        {
          "output_type": "execute_result",
          "data": {
            "text/plain": [
              "{'Tatoray Stripper C620 Split Factors Calculation_Split Factor for Individual Component to Tatoray Stripper C620 Bottoms_Indane_Fraction',\n",
              " 'Tatoray Stripper C620 Split Factors Calculation_Split Factor for Individual Component to Tatoray Stripper C620 Bottoms_i-Propylbenzene_Fraction',\n",
              " 'Tatoray Stripper C620 Split Factors Calculation_Split Factor for Individual Component to Tatoray Stripper C620 Bottoms_n-Propylbenzene_Fraction',\n",
              " 'Tatoray Stripper C620 Split Factors Calculation_Split Factor for Individual Component to Tatoray Stripper C620 Distillate_1,2,3-Trimethylbenzene_Fraction',\n",
              " 'Tatoray Stripper C620 Split Factors Calculation_Split Factor for Individual Component to Tatoray Stripper C620 Distillate_1,2,4-Trimethylbenzene_Fraction',\n",
              " 'Tatoray Stripper C620 Split Factors Calculation_Split Factor for Individual Component to Tatoray Stripper C620 Distillate_1,3,5-Trimethylbenzene_Fraction',\n",
              " 'Tatoray Stripper C620 Split Factors Calculation_Split Factor for Individual Component to Tatoray Stripper C620 Distillate_1-Methyl-2-ethylbenzene_Fraction',\n",
              " 'Tatoray Stripper C620 Split Factors Calculation_Split Factor for Individual Component to Tatoray Stripper C620 Distillate_1-Methyl-3-ethylbenzene_Fraction',\n",
              " 'Tatoray Stripper C620 Split Factors Calculation_Split Factor for Individual Component to Tatoray Stripper C620 Distillate_1-Methyl-4-ethylbenzene_Fraction',\n",
              " 'Tatoray Stripper C620 Split Factors Calculation_Split Factor for Individual Component to Tatoray Stripper C620 Distillate_Benzene_Fraction',\n",
              " 'Tatoray Stripper C620 Split Factors Calculation_Split Factor for Individual Component to Tatoray Stripper C620 Distillate_Cyclohexane_Fraction',\n",
              " 'Tatoray Stripper C620 Split Factors Calculation_Split Factor for Individual Component to Tatoray Stripper C620 Distillate_Indane_Fraction',\n",
              " 'Tatoray Stripper C620 Split Factors Calculation_Split Factor for Individual Component to Tatoray Stripper C620 Distillate_Propane_Fraction',\n",
              " 'Tatoray Stripper C620 Split Factors Calculation_Split Factor for Individual Component to Tatoray Stripper C620 Distillate_i-Propylbenzene_Fraction',\n",
              " 'Tatoray Stripper C620 Split Factors Calculation_Split Factor for Individual Component to Tatoray Stripper C620 Distillate_n-Butane_Fraction',\n",
              " 'Tatoray Stripper C620 Split Factors Calculation_Split Factor for Individual Component to Tatoray Stripper C620 Distillate_n-Hexane_Fraction',\n",
              " 'Tatoray Stripper C620 Split Factors Calculation_Split Factor for Individual Component to Tatoray Stripper C620 Distillate_n-Pentane_Fraction',\n",
              " 'Tatoray Stripper C620 Split Factors Calculation_Split Factor for Individual Component to Tatoray Stripper C620 Distillate_n-Propylbenzene_Fraction',\n",
              " 'Tatoray Stripper C620 Split Factors Calculation_Split Factor for Individual Component to Tatoray Stripper C620 Vent Gas_1,2,3,5-Tetramethylbenzene_Fraction',\n",
              " 'Tatoray Stripper C620 Split Factors Calculation_Split Factor for Individual Component to Tatoray Stripper C620 Vent Gas_1,2,3-Trimethylbenzene_Fraction',\n",
              " 'Tatoray Stripper C620 Split Factors Calculation_Split Factor for Individual Component to Tatoray Stripper C620 Vent Gas_1,2,4-Trimethylbenzene_Fraction',\n",
              " 'Tatoray Stripper C620 Split Factors Calculation_Split Factor for Individual Component to Tatoray Stripper C620 Vent Gas_1,2-Diethylbenzene_Fraction',\n",
              " 'Tatoray Stripper C620 Split Factors Calculation_Split Factor for Individual Component to Tatoray Stripper C620 Vent Gas_1,3,5-Trimethylbenzene_Fraction',\n",
              " 'Tatoray Stripper C620 Split Factors Calculation_Split Factor for Individual Component to Tatoray Stripper C620 Vent Gas_1-Methyl-2-ethylbenzene_Fraction',\n",
              " 'Tatoray Stripper C620 Split Factors Calculation_Split Factor for Individual Component to Tatoray Stripper C620 Vent Gas_1-Methyl-3-ethylbenzene_Fraction',\n",
              " 'Tatoray Stripper C620 Split Factors Calculation_Split Factor for Individual Component to Tatoray Stripper C620 Vent Gas_1-Methyl-4-ethylbenzene_Fraction',\n",
              " 'Tatoray Stripper C620 Split Factors Calculation_Split Factor for Individual Component to Tatoray Stripper C620 Vent Gas_1-Methyl-4-n-propylbenzene_Fraction',\n",
              " 'Tatoray Stripper C620 Split Factors Calculation_Split Factor for Individual Component to Tatoray Stripper C620 Vent Gas_5-Ethyl-m-xylene_Fraction',\n",
              " 'Tatoray Stripper C620 Split Factors Calculation_Split Factor for Individual Component to Tatoray Stripper C620 Vent Gas_Ethane_Fraction',\n",
              " 'Tatoray Stripper C620 Split Factors Calculation_Split Factor for Individual Component to Tatoray Stripper C620 Vent Gas_Ethylbenzene_Fraction',\n",
              " 'Tatoray Stripper C620 Split Factors Calculation_Split Factor for Individual Component to Tatoray Stripper C620 Vent Gas_Ethylcyclohexane_Fraction',\n",
              " 'Tatoray Stripper C620 Split Factors Calculation_Split Factor for Individual Component to Tatoray Stripper C620 Vent Gas_Indane_Fraction',\n",
              " 'Tatoray Stripper C620 Split Factors Calculation_Split Factor for Individual Component to Tatoray Stripper C620 Vent Gas_Methane_Fraction',\n",
              " 'Tatoray Stripper C620 Split Factors Calculation_Split Factor for Individual Component to Tatoray Stripper C620 Vent Gas_Methylcyclohexane_Fraction',\n",
              " 'Tatoray Stripper C620 Split Factors Calculation_Split Factor for Individual Component to Tatoray Stripper C620 Vent Gas_Propane_Fraction',\n",
              " 'Tatoray Stripper C620 Split Factors Calculation_Split Factor for Individual Component to Tatoray Stripper C620 Vent Gas_i-Propylbenzene_Fraction',\n",
              " 'Tatoray Stripper C620 Split Factors Calculation_Split Factor for Individual Component to Tatoray Stripper C620 Vent Gas_m-Xylene_Fraction',\n",
              " 'Tatoray Stripper C620 Split Factors Calculation_Split Factor for Individual Component to Tatoray Stripper C620 Vent Gas_n-Butane_Fraction',\n",
              " 'Tatoray Stripper C620 Split Factors Calculation_Split Factor for Individual Component to Tatoray Stripper C620 Vent Gas_n-Heptane_Fraction',\n",
              " 'Tatoray Stripper C620 Split Factors Calculation_Split Factor for Individual Component to Tatoray Stripper C620 Vent Gas_n-Hexylbenzene_Fraction',\n",
              " 'Tatoray Stripper C620 Split Factors Calculation_Split Factor for Individual Component to Tatoray Stripper C620 Vent Gas_n-Nonane_Fraction',\n",
              " 'Tatoray Stripper C620 Split Factors Calculation_Split Factor for Individual Component to Tatoray Stripper C620 Vent Gas_n-Octane_Fraction',\n",
              " 'Tatoray Stripper C620 Split Factors Calculation_Split Factor for Individual Component to Tatoray Stripper C620 Vent Gas_n-Pentylbenzene_Fraction',\n",
              " 'Tatoray Stripper C620 Split Factors Calculation_Split Factor for Individual Component to Tatoray Stripper C620 Vent Gas_n-Propylbenzene_Fraction',\n",
              " 'Tatoray Stripper C620 Split Factors Calculation_Split Factor for Individual Component to Tatoray Stripper C620 Vent Gas_n-Propylcyclohexane_Fraction',\n",
              " 'Tatoray Stripper C620 Split Factors Calculation_Split Factor for Individual Component to Tatoray Stripper C620 Vent Gas_n-Propylcyclopentane_Fraction',\n",
              " 'Tatoray Stripper C620 Split Factors Calculation_Split Factor for Individual Component to Tatoray Stripper C620 Vent Gas_o-Xylene_Fraction',\n",
              " 'Tatoray Stripper C620 Split Factors Calculation_Split Factor for Individual Component to Tatoray Stripper C620 Vent Gas_p-Xylene_Fraction'}"
            ]
          },
          "metadata": {
            "tags": []
          },
          "execution_count": 42
        }
      ]
    },
    {
      "cell_type": "code",
      "metadata": {
        "id": "-FYsLXS20I_n",
        "colab": {
          "base_uri": "https://localhost:8080/"
        },
        "outputId": "9973c31c-b68c-4509-9a51-8c8a5f5ed39d"
      },
      "source": [
        "c660_df_real = pd.read_excel('/content/drive/MyDrive/台塑輕油案子/data/c620/明志_遷移式學習_訓練資料_寄送版/c660_data.xlsx',index_col=0)\n",
        "a = c660_df_real[c660_sp_col].describe().T\n",
        "c660_wt_always_same_split_factor_dict_real = a[a['std']==0]['mean'].to_dict()\n",
        "set(c660_wt_always_same_split_factor_dict_real)^set(c660_wt_always_same_split_factor_dict)"
      ],
      "execution_count": 43,
      "outputs": [
        {
          "output_type": "execute_result",
          "data": {
            "text/plain": [
              "{'Benzene Column C660 Split Factors Calculation_Split Factor for Individual Component to Benzene Column C660 Bottoms_1,2,3,5-Tetramethylbenzene_Fraction',\n",
              " 'Benzene Column C660 Split Factors Calculation_Split Factor for Individual Component to Benzene Column C660 Bottoms_1,2,3-Trimethylbenzene_Fraction',\n",
              " 'Benzene Column C660 Split Factors Calculation_Split Factor for Individual Component to Benzene Column C660 Bottoms_1,2,4-Trimethylbenzene_Fraction',\n",
              " 'Benzene Column C660 Split Factors Calculation_Split Factor for Individual Component to Benzene Column C660 Bottoms_1,3,5-Trimethylbenzene_Fraction',\n",
              " 'Benzene Column C660 Split Factors Calculation_Split Factor for Individual Component to Benzene Column C660 Bottoms_1-Methyl-2-ethylbenzene_Fraction',\n",
              " 'Benzene Column C660 Split Factors Calculation_Split Factor for Individual Component to Benzene Column C660 Bottoms_1-Methyl-4-ethylbenzene_Fraction',\n",
              " 'Benzene Column C660 Split Factors Calculation_Split Factor for Individual Component to Benzene Column C660 Bottoms_1-Methyl-4-n-propylbenzene_Fraction',\n",
              " 'Benzene Column C660 Split Factors Calculation_Split Factor for Individual Component to Benzene Column C660 Bottoms_5-Ethyl-m-xylene_Fraction',\n",
              " 'Benzene Column C660 Split Factors Calculation_Split Factor for Individual Component to Benzene Column C660 Bottoms_Indane_Fraction',\n",
              " 'Benzene Column C660 Split Factors Calculation_Split Factor for Individual Component to Benzene Column C660 Bottoms_i-Propylbenzene_Fraction',\n",
              " 'Benzene Column C660 Split Factors Calculation_Split Factor for Individual Component to Benzene Column C660 Bottoms_n-Hexylbenzene_Fraction',\n",
              " 'Benzene Column C660 Split Factors Calculation_Split Factor for Individual Component to Benzene Column C660 Bottoms_n-Pentylbenzene_Fraction',\n",
              " 'Benzene Column C660 Split Factors Calculation_Split Factor for Individual Component to Benzene Column C660 Bottoms_n-Propylbenzene_Fraction',\n",
              " 'Benzene Column C660 Split Factors Calculation_Split Factor for Individual Component to Benzene Column C660 Distillate_1-Methyl-2-ethylbenzene_Fraction',\n",
              " 'Benzene Column C660 Split Factors Calculation_Split Factor for Individual Component to Benzene Column C660 Distillate_1-Methyl-3-ethylbenzene_Fraction',\n",
              " 'Benzene Column C660 Split Factors Calculation_Split Factor for Individual Component to Benzene Column C660 Distillate_1-Methyl-4-ethylbenzene_Fraction',\n",
              " 'Benzene Column C660 Split Factors Calculation_Split Factor for Individual Component to Benzene Column C660 Distillate_Benzene_Fraction',\n",
              " 'Benzene Column C660 Split Factors Calculation_Split Factor for Individual Component to Benzene Column C660 Distillate_Cyclohexane_Fraction',\n",
              " 'Benzene Column C660 Split Factors Calculation_Split Factor for Individual Component to Benzene Column C660 Distillate_Ethane_Fraction',\n",
              " 'Benzene Column C660 Split Factors Calculation_Split Factor for Individual Component to Benzene Column C660 Distillate_Propane_Fraction',\n",
              " 'Benzene Column C660 Split Factors Calculation_Split Factor for Individual Component to Benzene Column C660 Distillate_i-Propylbenzene_Fraction',\n",
              " 'Benzene Column C660 Split Factors Calculation_Split Factor for Individual Component to Benzene Column C660 Distillate_n-Butane_Fraction',\n",
              " 'Benzene Column C660 Split Factors Calculation_Split Factor for Individual Component to Benzene Column C660 Distillate_n-Hexane_Fraction',\n",
              " 'Benzene Column C660 Split Factors Calculation_Split Factor for Individual Component to Benzene Column C660 Distillate_n-Pentane_Fraction',\n",
              " 'Benzene Column C660 Split Factors Calculation_Split Factor for Individual Component to Benzene Column C660 Sidedraw_1,2,4-Trimethylbenzene_Fraction',\n",
              " 'Benzene Column C660 Split Factors Calculation_Split Factor for Individual Component to Benzene Column C660 Sidedraw_1,2-Diethylbenzene_Fraction',\n",
              " 'Benzene Column C660 Split Factors Calculation_Split Factor for Individual Component to Benzene Column C660 Sidedraw_1,3,5-Trimethylbenzene_Fraction',\n",
              " 'Benzene Column C660 Split Factors Calculation_Split Factor for Individual Component to Benzene Column C660 Sidedraw_1-Methyl-4-n-propylbenzene_Fraction',\n",
              " 'Benzene Column C660 Split Factors Calculation_Split Factor for Individual Component to Benzene Column C660 Sidedraw_n-Propylbenzene_Fraction',\n",
              " 'Benzene Column C660 Split Factors Calculation_Split Factor for Individual Component to Benzene Column C660 Vent Gas_1-Methyl-2-ethylbenzene_Fraction',\n",
              " 'Benzene Column C660 Split Factors Calculation_Split Factor for Individual Component to Benzene Column C660 Vent Gas_1-Methyl-3-ethylbenzene_Fraction',\n",
              " 'Benzene Column C660 Split Factors Calculation_Split Factor for Individual Component to Benzene Column C660 Vent Gas_1-Methyl-4-ethylbenzene_Fraction',\n",
              " 'Benzene Column C660 Split Factors Calculation_Split Factor for Individual Component to Benzene Column C660 Vent Gas_Benzene_Fraction',\n",
              " 'Benzene Column C660 Split Factors Calculation_Split Factor for Individual Component to Benzene Column C660 Vent Gas_Cyclohexane_Fraction',\n",
              " 'Benzene Column C660 Split Factors Calculation_Split Factor for Individual Component to Benzene Column C660 Vent Gas_Ethane_Fraction',\n",
              " 'Benzene Column C660 Split Factors Calculation_Split Factor for Individual Component to Benzene Column C660 Vent Gas_Ethylbenzene_Fraction',\n",
              " 'Benzene Column C660 Split Factors Calculation_Split Factor for Individual Component to Benzene Column C660 Vent Gas_Ethylcyclohexane_Fraction',\n",
              " 'Benzene Column C660 Split Factors Calculation_Split Factor for Individual Component to Benzene Column C660 Vent Gas_Methane_Fraction',\n",
              " 'Benzene Column C660 Split Factors Calculation_Split Factor for Individual Component to Benzene Column C660 Vent Gas_Methylcyclohexane_Fraction',\n",
              " 'Benzene Column C660 Split Factors Calculation_Split Factor for Individual Component to Benzene Column C660 Vent Gas_Propane_Fraction',\n",
              " 'Benzene Column C660 Split Factors Calculation_Split Factor for Individual Component to Benzene Column C660 Vent Gas_Toluene_Fraction',\n",
              " 'Benzene Column C660 Split Factors Calculation_Split Factor for Individual Component to Benzene Column C660 Vent Gas_i-Propylbenzene_Fraction',\n",
              " 'Benzene Column C660 Split Factors Calculation_Split Factor for Individual Component to Benzene Column C660 Vent Gas_m-Xylene_Fraction',\n",
              " 'Benzene Column C660 Split Factors Calculation_Split Factor for Individual Component to Benzene Column C660 Vent Gas_n-Butane_Fraction',\n",
              " 'Benzene Column C660 Split Factors Calculation_Split Factor for Individual Component to Benzene Column C660 Vent Gas_n-Heptane_Fraction',\n",
              " 'Benzene Column C660 Split Factors Calculation_Split Factor for Individual Component to Benzene Column C660 Vent Gas_n-Hexane_Fraction',\n",
              " 'Benzene Column C660 Split Factors Calculation_Split Factor for Individual Component to Benzene Column C660 Vent Gas_n-Nonane_Fraction',\n",
              " 'Benzene Column C660 Split Factors Calculation_Split Factor for Individual Component to Benzene Column C660 Vent Gas_n-Octane_Fraction',\n",
              " 'Benzene Column C660 Split Factors Calculation_Split Factor for Individual Component to Benzene Column C660 Vent Gas_n-Pentane_Fraction',\n",
              " 'Benzene Column C660 Split Factors Calculation_Split Factor for Individual Component to Benzene Column C660 Vent Gas_n-Propylcyclohexane_Fraction',\n",
              " 'Benzene Column C660 Split Factors Calculation_Split Factor for Individual Component to Benzene Column C660 Vent Gas_n-Propylcyclopentane_Fraction',\n",
              " 'Benzene Column C660 Split Factors Calculation_Split Factor for Individual Component to Benzene Column C660 Vent Gas_o-Xylene_Fraction',\n",
              " 'Benzene Column C660 Split Factors Calculation_Split Factor for Individual Component to Benzene Column C660 Vent Gas_p-Xylene_Fraction',\n",
              " 'Benzene Column C660 Split Factors Calculation_Split Factor for Individual Component to Benzene Column C660 Vent Gas_tert-Butylcyclohexane_Fraction'}"
            ]
          },
          "metadata": {
            "tags": []
          },
          "execution_count": 43
        }
      ]
    },
    {
      "cell_type": "code",
      "metadata": {
        "id": "mqH9dOvn0jCi",
        "colab": {
          "base_uri": "https://localhost:8080/"
        },
        "outputId": "aaefd9b2-2330-4478-a899-d87f878e47c7"
      },
      "source": [
        "c670_df_real = pd.read_excel('/content/drive/MyDrive/台塑輕油案子/data/c620/明志_遷移式學習_訓練資料_寄送版/c670_data.xlsx',index_col=0)\n",
        "a = c670_df_real[c670_sp_col].describe().T\n",
        "c670_wt_always_same_split_factor_dict_real = a[a['std']==0]['mean'].to_dict()\n",
        "set(c670_wt_always_same_split_factor_dict_real)^set(c670_wt_always_same_split_factor_dict)"
      ],
      "execution_count": 44,
      "outputs": [
        {
          "output_type": "execute_result",
          "data": {
            "text/plain": [
              "{'Toluene Column C670 Split Factors Calculation_Split Factor for Individual Component to Toluene Column C670 Bottoms_Benzene_Fraction',\n",
              " 'Toluene Column C670 Split Factors Calculation_Split Factor for Individual Component to Toluene Column C670 Distillate_Methylcyclohexane_Fraction',\n",
              " 'Toluene Column C670 Split Factors Calculation_Split Factor for Individual Component to Toluene Column C670 Distillate_n-Octane_Fraction'}"
            ]
          },
          "metadata": {
            "tags": []
          },
          "execution_count": 44
        }
      ]
    },
    {
      "cell_type": "markdown",
      "metadata": {
        "id": "LbW_nmP2Uu66"
      },
      "source": [
        "# check 推薦模式如何影響op"
      ]
    },
    {
      "cell_type": "code",
      "metadata": {
        "id": "oF7MXJQPfOsy",
        "colab": {
          "base_uri": "https://localhost:8080/",
          "height": 220
        },
        "outputId": "b235e453-eea4-4b5e-d543-727a76ca1811"
      },
      "source": [
        "x_col = icg_col['x'][-2:]+c620_col['case'][1:2]\n",
        "X = c620_df.join(icg_df)[x_col].dropna(axis=0)\n",
        "print(X.shape)\n",
        "X.head(3)"
      ],
      "execution_count": 45,
      "outputs": [
        {
          "output_type": "stream",
          "text": [
            "(1295, 3)\n"
          ],
          "name": "stdout"
        },
        {
          "output_type": "execute_result",
          "data": {
            "text/html": [
              "<div>\n",
              "<style scoped>\n",
              "    .dataframe tbody tr th:only-of-type {\n",
              "        vertical-align: middle;\n",
              "    }\n",
              "\n",
              "    .dataframe tbody tr th {\n",
              "        vertical-align: top;\n",
              "    }\n",
              "\n",
              "    .dataframe thead th {\n",
              "        text-align: right;\n",
              "    }\n",
              "</style>\n",
              "<table border=\"1\" class=\"dataframe\">\n",
              "  <thead>\n",
              "    <tr style=\"text-align: right;\">\n",
              "      <th></th>\n",
              "      <th>Simulation Case Conditions_Spec 1 : Benzene in C620 Sidedraw_wt%</th>\n",
              "      <th>Simulation Case Conditions_Spec 2 : NA in Benzene_ppmw</th>\n",
              "      <th>Tatoray Stripper C620 Operation_Specifications_Spec 2 : Distillate Rate_m3/hr</th>\n",
              "    </tr>\n",
              "  </thead>\n",
              "  <tbody>\n",
              "    <tr>\n",
              "      <th>001-002</th>\n",
              "      <td>90.0</td>\n",
              "      <td>980.0</td>\n",
              "      <td>0.5</td>\n",
              "    </tr>\n",
              "    <tr>\n",
              "      <th>001-005</th>\n",
              "      <td>90.0</td>\n",
              "      <td>950.0</td>\n",
              "      <td>1.0</td>\n",
              "    </tr>\n",
              "    <tr>\n",
              "      <th>001-008</th>\n",
              "      <td>90.0</td>\n",
              "      <td>920.0</td>\n",
              "      <td>1.5</td>\n",
              "    </tr>\n",
              "  </tbody>\n",
              "</table>\n",
              "</div>"
            ],
            "text/plain": [
              "         Simulation Case Conditions_Spec 1 : Benzene in C620 Sidedraw_wt%  ...  Tatoray Stripper C620 Operation_Specifications_Spec 2 : Distillate Rate_m3/hr\n",
              "001-002                                               90.0                 ...                                                0.5                            \n",
              "001-005                                               90.0                 ...                                                1.0                            \n",
              "001-008                                               90.0                 ...                                                1.5                            \n",
              "\n",
              "[3 rows x 3 columns]"
            ]
          },
          "metadata": {
            "tags": []
          },
          "execution_count": 45
        }
      ]
    },
    {
      "cell_type": "code",
      "metadata": {
        "id": "54hV1UBHfdEp",
        "colab": {
          "base_uri": "https://localhost:8080/",
          "height": 270
        },
        "outputId": "e70b65f6-caf0-44ea-d459-a123b21f3289"
      },
      "source": [
        "Y = c620_df[c620_col['yRefluxRate']+c620_col['yHeatDuty']].join(c660_df[c660_col['yRefluxRate']+c660_col['yHeatDuty']]).join(c670_df[c670_col['yRefluxRate']+c670_col['yHeatDuty']])\n",
        "Y = Y.loc[X.index]\n",
        "print(Y.shape)\n",
        "Y.head(3)"
      ],
      "execution_count": 46,
      "outputs": [
        {
          "output_type": "stream",
          "text": [
            "(1295, 9)\n"
          ],
          "name": "stdout"
        },
        {
          "output_type": "execute_result",
          "data": {
            "text/html": [
              "<div>\n",
              "<style scoped>\n",
              "    .dataframe tbody tr th:only-of-type {\n",
              "        vertical-align: middle;\n",
              "    }\n",
              "\n",
              "    .dataframe tbody tr th {\n",
              "        vertical-align: top;\n",
              "    }\n",
              "\n",
              "    .dataframe thead th {\n",
              "        text-align: right;\n",
              "    }\n",
              "</style>\n",
              "<table border=\"1\" class=\"dataframe\">\n",
              "  <thead>\n",
              "    <tr style=\"text-align: right;\">\n",
              "      <th></th>\n",
              "      <th>Tatoray Stripper C620 Operation_Yield Summary_Reflux Rate_m3/hr</th>\n",
              "      <th>Tatoray Stripper C620 Operation_Heat Duty_Condenser Heat Duty_Mkcal/hr</th>\n",
              "      <th>Tatoray Stripper C620 Operation_Heat Duty_Reboiler Heat Duty_Mkcal/hr</th>\n",
              "      <th>Benzene Column C660 Operation_Yield Summary_Reflux Rate_m3/hr</th>\n",
              "      <th>Benzene Column C660 Operation_Heat Duty_Condenser Heat Duty_Mkcal/hr</th>\n",
              "      <th>Benzene Column C660 Operation_Heat Duty_Reboiler Heat Duty_Mkcal/hr</th>\n",
              "      <th>Toluene Column C670 Operation_Yield \\nSummary_Reflux Rate_m3/hr</th>\n",
              "      <th>Toluene Column C670 Operation_Heat Duty_Condenser Heat Duty_Mkcal/hr</th>\n",
              "      <th>Toluene Column C670 Operation_Heat Duty_Reboiler Heat Duty_Mkcal/hr</th>\n",
              "    </tr>\n",
              "  </thead>\n",
              "  <tbody>\n",
              "    <tr>\n",
              "      <th>001-002</th>\n",
              "      <td>116.913414</td>\n",
              "      <td>11.832891</td>\n",
              "      <td>13.420790</td>\n",
              "      <td>97.747383</td>\n",
              "      <td>9.671293</td>\n",
              "      <td>9.089737</td>\n",
              "      <td>237.501434</td>\n",
              "      <td>25.175015</td>\n",
              "      <td>25.867839</td>\n",
              "    </tr>\n",
              "    <tr>\n",
              "      <th>001-005</th>\n",
              "      <td>115.692726</td>\n",
              "      <td>11.882563</td>\n",
              "      <td>13.416693</td>\n",
              "      <td>96.766853</td>\n",
              "      <td>9.590916</td>\n",
              "      <td>9.018928</td>\n",
              "      <td>237.728455</td>\n",
              "      <td>25.192725</td>\n",
              "      <td>25.860317</td>\n",
              "    </tr>\n",
              "    <tr>\n",
              "      <th>001-008</th>\n",
              "      <td>114.722961</td>\n",
              "      <td>11.927641</td>\n",
              "      <td>13.415480</td>\n",
              "      <td>101.988205</td>\n",
              "      <td>10.089891</td>\n",
              "      <td>9.534389</td>\n",
              "      <td>237.921600</td>\n",
              "      <td>25.207775</td>\n",
              "      <td>25.856258</td>\n",
              "    </tr>\n",
              "  </tbody>\n",
              "</table>\n",
              "</div>"
            ],
            "text/plain": [
              "         Tatoray Stripper C620 Operation_Yield Summary_Reflux Rate_m3/hr  ...  Toluene Column C670 Operation_Heat Duty_Reboiler Heat Duty_Mkcal/hr\n",
              "001-002                                         116.913414                ...                                          25.867839                  \n",
              "001-005                                         115.692726                ...                                          25.860317                  \n",
              "001-008                                         114.722961                ...                                          25.856258                  \n",
              "\n",
              "[3 rows x 9 columns]"
            ]
          },
          "metadata": {
            "tags": []
          },
          "execution_count": 46
        }
      ]
    },
    {
      "cell_type": "code",
      "metadata": {
        "id": "Ll8y2j8LgjCA",
        "colab": {
          "base_uri": "https://localhost:8080/",
          "height": 266
        },
        "outputId": "4a448f2e-f0fe-452e-849a-0c81a532d060"
      },
      "source": [
        "X.join(Y).corr().abs().loc[X.columns,Y.columns].style.background_gradient()"
      ],
      "execution_count": 47,
      "outputs": [
        {
          "output_type": "execute_result",
          "data": {
            "text/html": [
              "<style  type=\"text/css\" >\n",
              "#T_24970754_a691_11eb_ae77_0242ac1c0002row0_col0,#T_24970754_a691_11eb_ae77_0242ac1c0002row0_col1,#T_24970754_a691_11eb_ae77_0242ac1c0002row0_col2,#T_24970754_a691_11eb_ae77_0242ac1c0002row2_col3,#T_24970754_a691_11eb_ae77_0242ac1c0002row2_col4,#T_24970754_a691_11eb_ae77_0242ac1c0002row2_col5,#T_24970754_a691_11eb_ae77_0242ac1c0002row2_col6,#T_24970754_a691_11eb_ae77_0242ac1c0002row2_col7,#T_24970754_a691_11eb_ae77_0242ac1c0002row2_col8{\n",
              "            background-color:  #023858;\n",
              "            color:  #f1f1f1;\n",
              "        }#T_24970754_a691_11eb_ae77_0242ac1c0002row0_col3,#T_24970754_a691_11eb_ae77_0242ac1c0002row0_col4,#T_24970754_a691_11eb_ae77_0242ac1c0002row0_col5,#T_24970754_a691_11eb_ae77_0242ac1c0002row0_col6,#T_24970754_a691_11eb_ae77_0242ac1c0002row0_col7,#T_24970754_a691_11eb_ae77_0242ac1c0002row0_col8,#T_24970754_a691_11eb_ae77_0242ac1c0002row1_col0,#T_24970754_a691_11eb_ae77_0242ac1c0002row1_col2,#T_24970754_a691_11eb_ae77_0242ac1c0002row2_col1{\n",
              "            background-color:  #fff7fb;\n",
              "            color:  #000000;\n",
              "        }#T_24970754_a691_11eb_ae77_0242ac1c0002row1_col1{\n",
              "            background-color:  #fbf4f9;\n",
              "            color:  #000000;\n",
              "        }#T_24970754_a691_11eb_ae77_0242ac1c0002row1_col3{\n",
              "            background-color:  #0569a4;\n",
              "            color:  #f1f1f1;\n",
              "        }#T_24970754_a691_11eb_ae77_0242ac1c0002row1_col4{\n",
              "            background-color:  #05659f;\n",
              "            color:  #f1f1f1;\n",
              "        }#T_24970754_a691_11eb_ae77_0242ac1c0002row1_col5{\n",
              "            background-color:  #04629a;\n",
              "            color:  #f1f1f1;\n",
              "        }#T_24970754_a691_11eb_ae77_0242ac1c0002row1_col6,#T_24970754_a691_11eb_ae77_0242ac1c0002row1_col7{\n",
              "            background-color:  #75a9cf;\n",
              "            color:  #000000;\n",
              "        }#T_24970754_a691_11eb_ae77_0242ac1c0002row1_col8{\n",
              "            background-color:  #7dacd1;\n",
              "            color:  #000000;\n",
              "        }#T_24970754_a691_11eb_ae77_0242ac1c0002row2_col0{\n",
              "            background-color:  #60a1ca;\n",
              "            color:  #000000;\n",
              "        }#T_24970754_a691_11eb_ae77_0242ac1c0002row2_col2{\n",
              "            background-color:  #d2d2e7;\n",
              "            color:  #000000;\n",
              "        }</style><table id=\"T_24970754_a691_11eb_ae77_0242ac1c0002\" ><thead>    <tr>        <th class=\"blank level0\" ></th>        <th class=\"col_heading level0 col0\" >Tatoray Stripper C620 Operation_Yield Summary_Reflux Rate_m3/hr</th>        <th class=\"col_heading level0 col1\" >Tatoray Stripper C620 Operation_Heat Duty_Condenser Heat Duty_Mkcal/hr</th>        <th class=\"col_heading level0 col2\" >Tatoray Stripper C620 Operation_Heat Duty_Reboiler Heat Duty_Mkcal/hr</th>        <th class=\"col_heading level0 col3\" >Benzene Column C660 Operation_Yield Summary_Reflux Rate_m3/hr</th>        <th class=\"col_heading level0 col4\" >Benzene Column C660 Operation_Heat Duty_Condenser Heat Duty_Mkcal/hr</th>        <th class=\"col_heading level0 col5\" >Benzene Column C660 Operation_Heat Duty_Reboiler Heat Duty_Mkcal/hr</th>        <th class=\"col_heading level0 col6\" >Toluene Column C670 Operation_Yield \n",
              "Summary_Reflux Rate_m3/hr</th>        <th class=\"col_heading level0 col7\" >Toluene Column C670 Operation_Heat Duty_Condenser Heat Duty_Mkcal/hr</th>        <th class=\"col_heading level0 col8\" >Toluene Column C670 Operation_Heat Duty_Reboiler Heat Duty_Mkcal/hr</th>    </tr></thead><tbody>\n",
              "                <tr>\n",
              "                        <th id=\"T_24970754_a691_11eb_ae77_0242ac1c0002level0_row0\" class=\"row_heading level0 row0\" >Simulation Case Conditions_Spec 1 : Benzene in C620 Sidedraw_wt%</th>\n",
              "                        <td id=\"T_24970754_a691_11eb_ae77_0242ac1c0002row0_col0\" class=\"data row0 col0\" >0.532823</td>\n",
              "                        <td id=\"T_24970754_a691_11eb_ae77_0242ac1c0002row0_col1\" class=\"data row0 col1\" >0.537440</td>\n",
              "                        <td id=\"T_24970754_a691_11eb_ae77_0242ac1c0002row0_col2\" class=\"data row0 col2\" >0.463402</td>\n",
              "                        <td id=\"T_24970754_a691_11eb_ae77_0242ac1c0002row0_col3\" class=\"data row0 col3\" >0.115747</td>\n",
              "                        <td id=\"T_24970754_a691_11eb_ae77_0242ac1c0002row0_col4\" class=\"data row0 col4\" >0.134535</td>\n",
              "                        <td id=\"T_24970754_a691_11eb_ae77_0242ac1c0002row0_col5\" class=\"data row0 col5\" >0.099190</td>\n",
              "                        <td id=\"T_24970754_a691_11eb_ae77_0242ac1c0002row0_col6\" class=\"data row0 col6\" >0.186890</td>\n",
              "                        <td id=\"T_24970754_a691_11eb_ae77_0242ac1c0002row0_col7\" class=\"data row0 col7\" >0.122670</td>\n",
              "                        <td id=\"T_24970754_a691_11eb_ae77_0242ac1c0002row0_col8\" class=\"data row0 col8\" >0.128588</td>\n",
              "            </tr>\n",
              "            <tr>\n",
              "                        <th id=\"T_24970754_a691_11eb_ae77_0242ac1c0002level0_row1\" class=\"row_heading level0 row1\" >Simulation Case Conditions_Spec 2 : NA in Benzene_ppmw</th>\n",
              "                        <td id=\"T_24970754_a691_11eb_ae77_0242ac1c0002row1_col0\" class=\"data row1 col0\" >0.079449</td>\n",
              "                        <td id=\"T_24970754_a691_11eb_ae77_0242ac1c0002row1_col1\" class=\"data row1 col1\" >0.072614</td>\n",
              "                        <td id=\"T_24970754_a691_11eb_ae77_0242ac1c0002row1_col2\" class=\"data row1 col2\" >0.079250</td>\n",
              "                        <td id=\"T_24970754_a691_11eb_ae77_0242ac1c0002row1_col3\" class=\"data row1 col3\" >0.473216</td>\n",
              "                        <td id=\"T_24970754_a691_11eb_ae77_0242ac1c0002row1_col4\" class=\"data row1 col4\" >0.492055</td>\n",
              "                        <td id=\"T_24970754_a691_11eb_ae77_0242ac1c0002row1_col5\" class=\"data row1 col5\" >0.483497</td>\n",
              "                        <td id=\"T_24970754_a691_11eb_ae77_0242ac1c0002row1_col6\" class=\"data row1 col6\" >0.319205</td>\n",
              "                        <td id=\"T_24970754_a691_11eb_ae77_0242ac1c0002row1_col7\" class=\"data row1 col7\" >0.286338</td>\n",
              "                        <td id=\"T_24970754_a691_11eb_ae77_0242ac1c0002row1_col8\" class=\"data row1 col8\" >0.287017</td>\n",
              "            </tr>\n",
              "            <tr>\n",
              "                        <th id=\"T_24970754_a691_11eb_ae77_0242ac1c0002level0_row2\" class=\"row_heading level0 row2\" >Tatoray Stripper C620 Operation_Specifications_Spec 2 : Distillate Rate_m3/hr</th>\n",
              "                        <td id=\"T_24970754_a691_11eb_ae77_0242ac1c0002row2_col0\" class=\"data row2 col0\" >0.325170</td>\n",
              "                        <td id=\"T_24970754_a691_11eb_ae77_0242ac1c0002row2_col1\" class=\"data row2 col1\" >0.060600</td>\n",
              "                        <td id=\"T_24970754_a691_11eb_ae77_0242ac1c0002row2_col2\" class=\"data row2 col2\" >0.173637</td>\n",
              "                        <td id=\"T_24970754_a691_11eb_ae77_0242ac1c0002row2_col3\" class=\"data row2 col3\" >0.568325</td>\n",
              "                        <td id=\"T_24970754_a691_11eb_ae77_0242ac1c0002row2_col4\" class=\"data row2 col4\" >0.576645</td>\n",
              "                        <td id=\"T_24970754_a691_11eb_ae77_0242ac1c0002row2_col5\" class=\"data row2 col5\" >0.563743</td>\n",
              "                        <td id=\"T_24970754_a691_11eb_ae77_0242ac1c0002row2_col6\" class=\"data row2 col6\" >0.451605</td>\n",
              "                        <td id=\"T_24970754_a691_11eb_ae77_0242ac1c0002row2_col7\" class=\"data row2 col7\" >0.452157</td>\n",
              "                        <td id=\"T_24970754_a691_11eb_ae77_0242ac1c0002row2_col8\" class=\"data row2 col8\" >0.460406</td>\n",
              "            </tr>\n",
              "    </tbody></table>"
            ],
            "text/plain": [
              "<pandas.io.formats.style.Styler at 0x7f6809e28a50>"
            ]
          },
          "metadata": {
            "tags": []
          },
          "execution_count": 47
        }
      ]
    },
    {
      "cell_type": "markdown",
      "metadata": {
        "id": "83GfNKdP7KML"
      },
      "source": [
        "# dist rate 對 na in bz"
      ]
    },
    {
      "cell_type": "code",
      "metadata": {
        "id": "XvqbBRG67KUX",
        "colab": {
          "base_uri": "https://localhost:8080/",
          "height": 140
        },
        "outputId": "83097db7-cf72-4fbf-d913-89d3f8117867"
      },
      "source": [
        "icg_df[['Simulation Case Conditions_C620 Distillate Rate_m3/hr']].join(c620_df[['Tatoray Stripper C620 Operation_Sidedraw Production Rate and Composition_Benzene_wt%']]).corr()"
      ],
      "execution_count": 48,
      "outputs": [
        {
          "output_type": "execute_result",
          "data": {
            "text/html": [
              "<div>\n",
              "<style scoped>\n",
              "    .dataframe tbody tr th:only-of-type {\n",
              "        vertical-align: middle;\n",
              "    }\n",
              "\n",
              "    .dataframe tbody tr th {\n",
              "        vertical-align: top;\n",
              "    }\n",
              "\n",
              "    .dataframe thead th {\n",
              "        text-align: right;\n",
              "    }\n",
              "</style>\n",
              "<table border=\"1\" class=\"dataframe\">\n",
              "  <thead>\n",
              "    <tr style=\"text-align: right;\">\n",
              "      <th></th>\n",
              "      <th>Simulation Case Conditions_C620 Distillate Rate_m3/hr</th>\n",
              "      <th>Tatoray Stripper C620 Operation_Sidedraw Production Rate and Composition_Benzene_wt%</th>\n",
              "    </tr>\n",
              "  </thead>\n",
              "  <tbody>\n",
              "    <tr>\n",
              "      <th>Simulation Case Conditions_C620 Distillate Rate_m3/hr</th>\n",
              "      <td>1.0000</td>\n",
              "      <td>-0.0552</td>\n",
              "    </tr>\n",
              "    <tr>\n",
              "      <th>Tatoray Stripper C620 Operation_Sidedraw Production Rate and Composition_Benzene_wt%</th>\n",
              "      <td>-0.0552</td>\n",
              "      <td>1.0000</td>\n",
              "    </tr>\n",
              "  </tbody>\n",
              "</table>\n",
              "</div>"
            ],
            "text/plain": [
              "                                                    Simulation Case Conditions_C620 Distillate Rate_m3/hr  Tatoray Stripper C620 Operation_Sidedraw Production Rate and Composition_Benzene_wt%\n",
              "Simulation Case Conditions_C620 Distillate Rate...                                             1.0000                                                -0.0552                                   \n",
              "Tatoray Stripper C620 Operation_Sidedraw Produc...                                            -0.0552                                                 1.0000                                   "
            ]
          },
          "metadata": {
            "tags": []
          },
          "execution_count": 48
        }
      ]
    },
    {
      "cell_type": "code",
      "metadata": {
        "id": "XI-JRS7NK3Sc",
        "colab": {
          "base_uri": "https://localhost:8080/",
          "height": 405
        },
        "outputId": "19577ae9-60cd-42b5-8900-8079794789ab"
      },
      "source": [
        "a = icg_df[['Simulation Case Conditions_C620 Distillate Rate_m3/hr']].join(c620_df[['Tatoray Stripper C620 Operation_Sidedraw Production Rate and Composition_Benzene_wt%']])\n",
        "plt.scatter(a.iloc[:,0],a.iloc[:,1])\n",
        "plt.xlabel('Distillate Rate_m3/hr')\n",
        "plt.ylabel('C620 Operation_Sidedraw Production Rate and Composition_Benzene_wt%')\n",
        "plt.show()"
      ],
      "execution_count": 49,
      "outputs": [
        {
          "output_type": "display_data",
          "data": {
            "image/png": "[encoded data removed]",
            "text/plain": [
              "<Figure size 432x288 with 1 Axes>"
            ]
          },
          "metadata": {
            "tags": [],
            "needs_background": "light"
          }
        }
      ]
    },
    {
      "cell_type": "code",
      "metadata": {
        "id": "-FWc-8jX8bEv"
      },
      "source": [
        "icg_df_real = pd.read_excel('/content/drive/MyDrive/台塑輕油案子/data/c620/明志_遷移式學習_訓練資料_寄送版/icg_data.xlsx',index_col=0)"
      ],
      "execution_count": 50,
      "outputs": []
    },
    {
      "cell_type": "code",
      "metadata": {
        "id": "E3FJFWbm7gIQ",
        "colab": {
          "base_uri": "https://localhost:8080/",
          "height": 140
        },
        "outputId": "113b9ca6-9bae-4957-a284-51f76f2c5481"
      },
      "source": [
        "icg_df_real[['Simulation Case Conditions_C620 Distillate Rate_m3/hr']].join(c620_df_real[['Tatoray Stripper C620 Operation_Sidedraw Production Rate and Composition_Benzene_wt%']]).corr()"
      ],
      "execution_count": 51,
      "outputs": [
        {
          "output_type": "execute_result",
          "data": {
            "text/html": [
              "<div>\n",
              "<style scoped>\n",
              "    .dataframe tbody tr th:only-of-type {\n",
              "        vertical-align: middle;\n",
              "    }\n",
              "\n",
              "    .dataframe tbody tr th {\n",
              "        vertical-align: top;\n",
              "    }\n",
              "\n",
              "    .dataframe thead th {\n",
              "        text-align: right;\n",
              "    }\n",
              "</style>\n",
              "<table border=\"1\" class=\"dataframe\">\n",
              "  <thead>\n",
              "    <tr style=\"text-align: right;\">\n",
              "      <th></th>\n",
              "      <th>Simulation Case Conditions_C620 Distillate Rate_m3/hr</th>\n",
              "      <th>Tatoray Stripper C620 Operation_Sidedraw Production Rate and Composition_Benzene_wt%</th>\n",
              "    </tr>\n",
              "  </thead>\n",
              "  <tbody>\n",
              "    <tr>\n",
              "      <th>Simulation Case Conditions_C620 Distillate Rate_m3/hr</th>\n",
              "      <td>1.000000</td>\n",
              "      <td>-0.055957</td>\n",
              "    </tr>\n",
              "    <tr>\n",
              "      <th>Tatoray Stripper C620 Operation_Sidedraw Production Rate and Composition_Benzene_wt%</th>\n",
              "      <td>-0.055957</td>\n",
              "      <td>1.000000</td>\n",
              "    </tr>\n",
              "  </tbody>\n",
              "</table>\n",
              "</div>"
            ],
            "text/plain": [
              "                                                    Simulation Case Conditions_C620 Distillate Rate_m3/hr  Tatoray Stripper C620 Operation_Sidedraw Production Rate and Composition_Benzene_wt%\n",
              "Simulation Case Conditions_C620 Distillate Rate...                                           1.000000                                              -0.055957                                   \n",
              "Tatoray Stripper C620 Operation_Sidedraw Produc...                                          -0.055957                                               1.000000                                   "
            ]
          },
          "metadata": {
            "tags": []
          },
          "execution_count": 51
        }
      ]
    },
    {
      "cell_type": "code",
      "metadata": {
        "id": "ihWbc5hcK3zs",
        "colab": {
          "base_uri": "https://localhost:8080/",
          "height": 422
        },
        "outputId": "6fb160c6-4f70-4e72-b42a-54f880f5439c"
      },
      "source": [
        "a = icg_df_real[['Simulation Case Conditions_C620 Distillate Rate_m3/hr']].join(c620_df_real[['Tatoray Stripper C620 Operation_Sidedraw Production Rate and Composition_Benzene_wt%']])\n",
        "plt.xlabel('Distillate Rate_m3/hr')\n",
        "plt.ylabel('C620 Operation_Sidedraw Production Rate and Composition_Benzene_wt%')\n",
        "plt.scatter(a.iloc[:,0],a.iloc[:,1])"
      ],
      "execution_count": 52,
      "outputs": [
        {
          "output_type": "execute_result",
          "data": {
            "text/plain": [
              "<matplotlib.collections.PathCollection at 0x7f68092e2510>"
            ]
          },
          "metadata": {
            "tags": []
          },
          "execution_count": 52
        },
        {
          "output_type": "display_data",
          "data": {
            "image/png": "[encoded data removed]",
            "text/plain": [
              "<Figure size 432x288 with 1 Axes>"
            ]
          },
          "metadata": {
            "tags": [],
            "needs_background": "light"
          }
        }
      ]
    },
    {
      "cell_type": "code",
      "metadata": {
        "id": "fKjB6TmN8LxP",
        "colab": {
          "base_uri": "https://localhost:8080/"
        },
        "outputId": "19179a8a-0a13-464a-9602-743a6e3d763a"
      },
      "source": [
        "icg_df['Simulation Case Conditions_C620 Distillate Rate_m3/hr'].unique()\n",
        "print(len(icg_df['Simulation Case Conditions_C620 Distillate Rate_m3/hr'].unique()))\n",
        "print(len(icg_df))"
      ],
      "execution_count": 53,
      "outputs": [
        {
          "output_type": "stream",
          "text": [
            "35\n",
            "1296\n"
          ],
          "name": "stdout"
        }
      ]
    },
    {
      "cell_type": "code",
      "metadata": {
        "id": "lhnUBY8wOp2Z",
        "colab": {
          "base_uri": "https://localhost:8080/"
        },
        "outputId": "8ba7d810-917b-4940-e6b1-9999556e34b3"
      },
      "source": [
        "icg_df_real['Simulation Case Conditions_C620 Distillate Rate_m3/hr'].unique()"
      ],
      "execution_count": 54,
      "outputs": [
        {
          "output_type": "execute_result",
          "data": {
            "text/plain": [
              "array([0.        , 5.36092213, 0.47324997, 0.35207579, 0.34142908,\n",
              "       0.32823953, 0.01277316])"
            ]
          },
          "metadata": {
            "tags": []
          },
          "execution_count": 54
        }
      ]
    },
    {
      "cell_type": "code",
      "metadata": {
        "id": "hN1p_mHVr66w",
        "colab": {
          "base_uri": "https://localhost:8080/"
        },
        "outputId": "5cda3cb7-db6f-447d-c8e1-c57f4d0bfaf0"
      },
      "source": [
        "icg_df_real['Simulation Case Conditions_C620 Distillate Rate_m3/hr'].unique()\n",
        "print(len(icg_df_real['Simulation Case Conditions_C620 Distillate Rate_m3/hr'].unique()))\n",
        "print(len(icg_df_real))"
      ],
      "execution_count": 55,
      "outputs": [
        {
          "output_type": "stream",
          "text": [
            "7\n",
            "168\n"
          ],
          "name": "stdout"
        }
      ]
    },
    {
      "cell_type": "markdown",
      "metadata": {
        "id": "sGEQFn4q_WpI"
      },
      "source": [
        "# nainbz 對 distrate"
      ]
    },
    {
      "cell_type": "code",
      "metadata": {
        "id": "HpNmMPb8Okb2",
        "colab": {
          "base_uri": "https://localhost:8080/",
          "height": 366
        },
        "outputId": "f1e7ef32-ab48-4d14-f713-dc5077bcaf40"
      },
      "source": [
        "root = '/content/drive/MyDrive/台塑輕油案子/data/c620/cleaned/'\n",
        "icg_df = pd.read_csv(root+'icg_train.csv',index_col=0)\n",
        "icg_df.head()"
      ],
      "execution_count": 56,
      "outputs": [
        {
          "output_type": "execute_result",
          "data": {
            "text/html": [
              "<div>\n",
              "<style scoped>\n",
              "    .dataframe tbody tr th:only-of-type {\n",
              "        vertical-align: middle;\n",
              "    }\n",
              "\n",
              "    .dataframe tbody tr th {\n",
              "        vertical-align: top;\n",
              "    }\n",
              "\n",
              "    .dataframe thead th {\n",
              "        text-align: right;\n",
              "    }\n",
              "</style>\n",
              "<table border=\"1\" class=\"dataframe\">\n",
              "  <thead>\n",
              "    <tr style=\"text-align: right;\">\n",
              "      <th></th>\n",
              "      <th>Simulation Case Conditions_Feed Rate_Feed from V615 Btm_m3/hr</th>\n",
              "      <th>Simulation Case Conditions_Feed Rate_Feed from V615 Btm    NA_wt%</th>\n",
              "      <th>Simulation Case Conditions_Feed Rate_Feed from V615 Btm    Benzene_wt%</th>\n",
              "      <th>Simulation Case Conditions_Feed Rate_Feed from V615 Btm    Toluene_wt%</th>\n",
              "      <th>Simulation Case Conditions_Feed Rate_Feed from C820 Dist_m3/hr</th>\n",
              "      <th>Simulation Case Conditions_Feed Rate_Feed from C820 Dist    NA_wt%</th>\n",
              "      <th>Simulation Case Conditions_Feed Rate_Feed from C820 Dist    Benzene_wt%</th>\n",
              "      <th>Simulation Case Conditions_Feed Rate_Feed from C820 Dist    Toluene_wt%</th>\n",
              "      <th>Simulation Case Conditions_Feed Rate_Feed from T651_m3/hr</th>\n",
              "      <th>Simulation Case Conditions_Feed Rate_Feed from T651    NA_wt%</th>\n",
              "      <th>Simulation Case Conditions_Feed Rate_Feed from T651    Benzene_wt%</th>\n",
              "      <th>Simulation Case Conditions_Feed Rate_Feed from T651    Toluene_wt%</th>\n",
              "      <th>Simulation Case Conditions_Spec 1 : Benzene in C620 Sidedraw_wt%</th>\n",
              "      <th>Simulation Case Conditions_Spec 2 : NA in Benzene_ppmw</th>\n",
              "      <th>Simulation Case Conditions_C620 Distillate Rate_m3/hr</th>\n",
              "    </tr>\n",
              "  </thead>\n",
              "  <tbody>\n",
              "    <tr>\n",
              "      <th>001-002</th>\n",
              "      <td>163.0</td>\n",
              "      <td>1.356</td>\n",
              "      <td>10.321001</td>\n",
              "      <td>40.887009</td>\n",
              "      <td>15.0</td>\n",
              "      <td>2.338977</td>\n",
              "      <td>74.302254</td>\n",
              "      <td>17.467825</td>\n",
              "      <td>32.0</td>\n",
              "      <td>0.4524</td>\n",
              "      <td>44.244228</td>\n",
              "      <td>44.786339</td>\n",
              "      <td>90.0</td>\n",
              "      <td>980.0</td>\n",
              "      <td>0.5</td>\n",
              "    </tr>\n",
              "    <tr>\n",
              "      <th>001-005</th>\n",
              "      <td>163.0</td>\n",
              "      <td>1.356</td>\n",
              "      <td>10.321001</td>\n",
              "      <td>40.887009</td>\n",
              "      <td>15.0</td>\n",
              "      <td>2.338977</td>\n",
              "      <td>74.302254</td>\n",
              "      <td>17.467825</td>\n",
              "      <td>32.0</td>\n",
              "      <td>0.4524</td>\n",
              "      <td>44.244228</td>\n",
              "      <td>44.786339</td>\n",
              "      <td>90.0</td>\n",
              "      <td>950.0</td>\n",
              "      <td>1.0</td>\n",
              "    </tr>\n",
              "    <tr>\n",
              "      <th>001-008</th>\n",
              "      <td>163.0</td>\n",
              "      <td>1.356</td>\n",
              "      <td>10.321001</td>\n",
              "      <td>40.887009</td>\n",
              "      <td>15.0</td>\n",
              "      <td>2.338977</td>\n",
              "      <td>74.302254</td>\n",
              "      <td>17.467825</td>\n",
              "      <td>32.0</td>\n",
              "      <td>0.4524</td>\n",
              "      <td>44.244228</td>\n",
              "      <td>44.786339</td>\n",
              "      <td>90.0</td>\n",
              "      <td>920.0</td>\n",
              "      <td>1.5</td>\n",
              "    </tr>\n",
              "    <tr>\n",
              "      <th>001-011</th>\n",
              "      <td>163.0</td>\n",
              "      <td>1.356</td>\n",
              "      <td>10.321001</td>\n",
              "      <td>40.887009</td>\n",
              "      <td>15.0</td>\n",
              "      <td>2.338977</td>\n",
              "      <td>74.302254</td>\n",
              "      <td>17.467825</td>\n",
              "      <td>32.0</td>\n",
              "      <td>0.4524</td>\n",
              "      <td>44.244228</td>\n",
              "      <td>44.786339</td>\n",
              "      <td>80.0</td>\n",
              "      <td>980.0</td>\n",
              "      <td>0.5</td>\n",
              "    </tr>\n",
              "    <tr>\n",
              "      <th>001-014</th>\n",
              "      <td>163.0</td>\n",
              "      <td>1.356</td>\n",
              "      <td>10.321001</td>\n",
              "      <td>40.887009</td>\n",
              "      <td>15.0</td>\n",
              "      <td>2.338977</td>\n",
              "      <td>74.302254</td>\n",
              "      <td>17.467825</td>\n",
              "      <td>32.0</td>\n",
              "      <td>0.4524</td>\n",
              "      <td>44.244228</td>\n",
              "      <td>44.786339</td>\n",
              "      <td>80.0</td>\n",
              "      <td>950.0</td>\n",
              "      <td>1.0</td>\n",
              "    </tr>\n",
              "  </tbody>\n",
              "</table>\n",
              "</div>"
            ],
            "text/plain": [
              "         Simulation Case Conditions_Feed Rate_Feed from V615 Btm_m3/hr  ...  Simulation Case Conditions_C620 Distillate Rate_m3/hr\n",
              "001-002                                              163.0              ...                                                0.5    \n",
              "001-005                                              163.0              ...                                                1.0    \n",
              "001-008                                              163.0              ...                                                1.5    \n",
              "001-011                                              163.0              ...                                                0.5    \n",
              "001-014                                              163.0              ...                                                1.0    \n",
              "\n",
              "[5 rows x 15 columns]"
            ]
          },
          "metadata": {
            "tags": []
          },
          "execution_count": 56
        }
      ]
    },
    {
      "cell_type": "code",
      "metadata": {
        "id": "crLxNC2A_rnK",
        "colab": {
          "base_uri": "https://localhost:8080/",
          "height": 309
        },
        "outputId": "75a6979d-a6af-4dee-c14f-ed42a4459568"
      },
      "source": [
        "import matplotlib.pyplot as plt\n",
        "\n",
        "plt.scatter(icg_df['Simulation Case Conditions_Spec 2 : NA in Benzene_ppmw'],icg_df['Simulation Case Conditions_C620 Distillate Rate_m3/hr'])\n",
        "plt.xlabel('Simulation Case Conditions_Spec 2 : NA in Benzene_ppmw')\n",
        "plt.ylabel('Simulation Case Conditions_C620 Distillate Rate_m3/hr')\n",
        "plt.show()"
      ],
      "execution_count": 57,
      "outputs": [
        {
          "output_type": "display_data",
          "data": {
            "image/png": "[encoded data removed]",
            "text/plain": [
              "<Figure size 432x288 with 1 Axes>"
            ]
          },
          "metadata": {
            "tags": [],
            "needs_background": "light"
          }
        }
      ]
    },
    {
      "cell_type": "code",
      "metadata": {
        "id": "FhHcQuNgCUb5"
      },
      "source": [
        "from sklearn.preprocessing import MinMaxScaler\n",
        "icg_df_mm = MinMaxScaler().fit_transform(icg_df)\n",
        "icg_df_mm = pd.DataFrame(icg_df_mm,index=icg_df.index,columns=icg_df.columns)"
      ],
      "execution_count": 58,
      "outputs": []
    },
    {
      "cell_type": "code",
      "metadata": {
        "id": "Yad0BlsIAXJE",
        "colab": {
          "base_uri": "https://localhost:8080/",
          "height": 414
        },
        "outputId": "3f8f7181-1028-4888-dd79-eea79b498f2b"
      },
      "source": [
        "import seaborn as sb\n",
        "for i in icg_df_mm['Simulation Case Conditions_Spec 2 : NA in Benzene_ppmw'].unique():\n",
        "  try:\n",
        "    sb.kdeplot(icg_df_mm[icg_df_mm['Simulation Case Conditions_Spec 2 : NA in Benzene_ppmw']==i]['Simulation Case Conditions_C620 Distillate Rate_m3/hr'],label=i)\n",
        "  except:\n",
        "    pass\n",
        "plt.legend()\n",
        "plt.show()"
      ],
      "execution_count": 59,
      "outputs": [
        {
          "output_type": "stream",
          "text": [
            "/usr/local/lib/python3.7/dist-packages/seaborn/distributions.py:306: UserWarning: Dataset has 0 variance; skipping density estimate.\n",
            "  warnings.warn(msg, UserWarning)\n",
            "/usr/local/lib/python3.7/dist-packages/seaborn/distributions.py:306: UserWarning: Dataset has 0 variance; skipping density estimate.\n",
            "  warnings.warn(msg, UserWarning)\n",
            "/usr/local/lib/python3.7/dist-packages/seaborn/distributions.py:306: UserWarning: Dataset has 0 variance; skipping density estimate.\n",
            "  warnings.warn(msg, UserWarning)\n",
            "/usr/local/lib/python3.7/dist-packages/seaborn/distributions.py:306: UserWarning: Dataset has 0 variance; skipping density estimate.\n",
            "  warnings.warn(msg, UserWarning)\n"
          ],
          "name": "stderr"
        },
        {
          "output_type": "display_data",
          "data": {
            "image/png": "[encoded data removed]",
            "text/plain": [
              "<Figure size 432x288 with 1 Axes>"
            ]
          },
          "metadata": {
            "tags": [],
            "needs_background": "light"
          }
        }
      ]
    },
    {
      "cell_type": "markdown",
      "metadata": {
        "id": "bwri7g0AUBxt"
      },
      "source": [
        "# distrate"
      ]
    },
    {
      "cell_type": "code",
      "metadata": {
        "id": "O-r0DaKGUB8n",
        "outputId": "54fcfcbf-19bd-4c14-b8f4-0d5766c81f23",
        "colab": {
          "base_uri": "https://localhost:8080/",
          "height": 1000
        }
      },
      "source": [
        "a = icg_df[['Simulation Case Conditions_C620 Distillate Rate_m3/hr']]\n",
        "b = c660_df[c660_col['sidedraw_x']].iloc[:,naidx]\n",
        "c = a.join(b)\n",
        "for i in b.columns:\n",
        "  plt.scatter(c['Simulation Case Conditions_C620 Distillate Rate_m3/hr'],c[i])\n",
        "  plt.title(f'Simulation Case Conditions_C620 Distillate Rate_m3/hr with {i}')\n",
        "  plt.show()"
      ],
      "execution_count": 66,
      "outputs": [
        {
          "output_type": "display_data",
          "data": {
            "image/png": "[encoded data removed]",
            "text/plain": [
              "<Figure size 432x288 with 1 Axes>"
            ]
          },
          "metadata": {
            "tags": [],
            "needs_background": "light"
          }
        },
        {
          "output_type": "display_data",
          "data": {
            "image/png": "[encoded data removed]",
            "text/plain": [
              "<Figure size 432x288 with 1 Axes>"
            ]
          },
          "metadata": {
            "tags": [],
            "needs_background": "light"
          }
        },
        {
          "output_type": "display_data",
          "data": {
            "image/png": "[encoded data removed]",
            "text/plain": [
              "<Figure size 432x288 with 1 Axes>"
            ]
          },
          "metadata": {
            "tags": [],
            "needs_background": "light"
          }
        },
        {
          "output_type": "display_data",
          "data": {
            "image/png": "[encoded data removed]",
            "text/plain": [
              "<Figure size 432x288 with 1 Axes>"
            ]
          },
          "metadata": {
            "tags": [],
            "needs_background": "light"
          }
        },
        {
          "output_type": "display_data",
          "data": {
            "image/png": "[encoded data removed]",
            "text/plain": [
              "<Figure size 432x288 with 1 Axes>"
            ]
          },
          "metadata": {
            "tags": [],
            "needs_background": "light"
          }
        },
        {
          "output_type": "display_data",
          "data": {
            "image/png": "[encoded data removed]",
            "text/plain": [
              "<Figure size 432x288 with 1 Axes>"
            ]
          },
          "metadata": {
            "tags": [],
            "needs_background": "light"
          }
        },
        {
          "output_type": "display_data",
          "data": {
            "image/png": "[encoded data removed]",
            "text/plain": [
              "<Figure size 432x288 with 1 Axes>"
            ]
          },
          "metadata": {
            "tags": [],
            "needs_background": "light"
          }
        },
        {
          "output_type": "display_data",
          "data": {
            "image/png": "[encoded data removed]",
            "text/plain": [
              "<Figure size 432x288 with 1 Axes>"
            ]
          },
          "metadata": {
            "tags": [],
            "needs_background": "light"
          }
        },
        {
          "output_type": "display_data",
          "data": {
            "image/png": "[encoded data removed]",
            "text/plain": [
              "<Figure size 432x288 with 1 Axes>"
            ]
          },
          "metadata": {
            "tags": [],
            "needs_background": "light"
          }
        },
        {
          "output_type": "display_data",
          "data": {
            "image/png": "[encoded data removed]",
            "text/plain": [
              "<Figure size 432x288 with 1 Axes>"
            ]
          },
          "metadata": {
            "tags": [],
            "needs_background": "light"
          }
        },
        {
          "output_type": "display_data",
          "data": {
            "image/png": "[encoded data removed]",
            "text/plain": [
              "<Figure size 432x288 with 1 Axes>"
            ]
          },
          "metadata": {
            "tags": [],
            "needs_background": "light"
          }
        },
        {
          "output_type": "display_data",
          "data": {
            "image/png": "[encoded data removed]",
            "text/plain": [
              "<Figure size 432x288 with 1 Axes>"
            ]
          },
          "metadata": {
            "tags": [],
            "needs_background": "light"
          }
        },
        {
          "output_type": "display_data",
          "data": {
            "image/png": "[encoded data removed]",
            "text/plain": [
              "<Figure size 432x288 with 1 Axes>"
            ]
          },
          "metadata": {
            "tags": [],
            "needs_background": "light"
          }
        },
        {
          "output_type": "display_data",
          "data": {
            "image/png": "[encoded data removed]",
            "text/plain": [
              "<Figure size 432x288 with 1 Axes>"
            ]
          },
          "metadata": {
            "tags": [],
            "needs_background": "light"
          }
        },
        {
          "output_type": "display_data",
          "data": {
            "image/png": "[encoded data removed]",
            "text/plain": [
              "<Figure size 432x288 with 1 Axes>"
            ]
          },
          "metadata": {
            "tags": [],
            "needs_background": "light"
          }
        }
      ]
    },
    {
      "cell_type": "code",
      "metadata": {
        "id": "gPGa9i08BK4D"
      },
      "source": [
        ""
      ],
      "execution_count": 59,
      "outputs": []
    }
  ]
}