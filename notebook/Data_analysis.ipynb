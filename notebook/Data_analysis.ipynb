{
  "nbformat": 4,
  "nbformat_minor": 0,
  "metadata": {
    "colab": {
      "name": "c620資料分析.ipynb",
      "provenance": [],
      "mount_file_id": "https://github.com/skywalker0803r/c620/blob/main/notebook/data%20analysis.ipynb",
      "authorship_tag": "ABX9TyN99btmIzy2K968XRkiNXrn",
      "include_colab_link": true
    },
    "kernelspec": {
      "name": "python3",
      "display_name": "Python 3"
    }
  },
  "cells": [
    {
      "cell_type": "markdown",
      "metadata": {
        "id": "view-in-github",
        "colab_type": "text"
      },
      "source": [
        "<a href=\"https://colab.research.google.com/github/skywalker0803r/c620/blob/main/notebook/Data_analysis.ipynb\" target=\"_parent\"><img src=\"https://colab.research.google.com/assets/colab-badge.svg\" alt=\"Open In Colab\"/></a>"
      ]
    },
    {
      "cell_type": "code",
      "metadata": {
        "id": "OkOaH7rhZKU0"
      },
      "source": [
        "import pandas as pd\n",
        "import joblib\n",
        "import numpy as np\n",
        "import matplotlib.pyplot as plt"
      ],
      "execution_count": 1,
      "outputs": []
    },
    {
      "cell_type": "markdown",
      "metadata": {
        "id": "sZm0YZbLSEst"
      },
      "source": [
        "# load"
      ]
    },
    {
      "cell_type": "code",
      "metadata": {
        "id": "3KB58YtyDlii",
        "colab": {
          "base_uri": "https://localhost:8080/"
        },
        "outputId": "9357f7ad-43ab-4053-9084-4811345e008c"
      },
      "source": [
        "from google.colab import drive\n",
        "drive.mount('/content/drive')"
      ],
      "execution_count": 2,
      "outputs": [
        {
          "output_type": "stream",
          "text": [
            "Mounted at /content/drive\n"
          ],
          "name": "stdout"
        }
      ]
    },
    {
      "cell_type": "code",
      "metadata": {
        "id": "ejga3dn8Zl6u"
      },
      "source": [
        "root = '/content/drive/MyDrive/台塑輕油案子/data/c620/cleaned/'\n",
        "\n",
        "icg_df = pd.read_csv(root+'icg_train.csv',index_col=0)\n",
        "\n",
        "t651_df = pd.read_csv(root+'t651_train.csv',index_col=0).dropna(axis=0)\n",
        "idx = t651_df.index\n",
        "\n",
        "c620_df = pd.read_csv(root+'c620_train.csv',index_col=0).loc[idx]\n",
        "c620_mb = pd.read_csv(root+'c620_mbcheck.csv',index_col=0).loc[idx]\n",
        "\n",
        "c660_df = pd.read_csv(root+'c660_train.csv',index_col=0).loc[idx]\n",
        "c660_mb = pd.read_csv(root+'c660_mbcheck.csv',index_col=0).loc[idx]\n",
        "\n",
        "c670_df = pd.read_csv(root+'c670_train.csv',index_col=0).loc[idx]\n",
        "c670_mb = pd.read_csv(root+'c670_mbcheck.csv',index_col=0).loc[idx]"
      ],
      "execution_count": 3,
      "outputs": []
    },
    {
      "cell_type": "code",
      "metadata": {
        "id": "CHphm2sIaJm5"
      },
      "source": [
        "root = '/content/drive/MyDrive/台塑輕油案子/data/c620/col_names/'\n",
        "icg_col = joblib.load(root+'icg_col_names.pkl')\n",
        "c620_col = joblib.load(root+'c620_col_names.pkl')\n",
        "c660_col = joblib.load(root+'c660_col_names.pkl')\n",
        "c670_col = joblib.load(root+'c670_col_names.pkl')\n",
        "t651_col = joblib.load(root+'t651_col_names.pkl')"
      ],
      "execution_count": 4,
      "outputs": []
    },
    {
      "cell_type": "markdown",
      "metadata": {
        "id": "mKoZetKGRB8n"
      },
      "source": [
        "# check c620&t651 -> c660"
      ]
    },
    {
      "cell_type": "code",
      "metadata": {
        "id": "46BvGhW_axoe",
        "colab": {
          "base_uri": "https://localhost:8080/",
          "height": 315
        },
        "outputId": "1f2c3857-1950-4506-f5cc-57c322aa4d5b"
      },
      "source": [
        "t651_mf = t651_df[t651_col['MFR']]\n",
        "c620_mf = c620_mb.iloc[:,[3]]\n",
        "total = t651_mf.values + c620_mf.values\n",
        "t651_mf = t651_mf/total\n",
        "c620_mf = c620_mf/total\n",
        "t651_x41 = t651_df[t651_col['x41']]\n",
        "c620_w3 = c620_df[c620_col['sidedraw_x']]\n",
        "c660_feed_pred = c620_w3.values*c620_mf.values + t651_x41.values*t651_mf.values\n",
        "c660_feed_pred = pd.DataFrame(c660_feed_pred,index=idx,columns=c660_col['x41'])\n",
        "c660_feed_pred.head(3)"
      ],
      "execution_count": 5,
      "outputs": [
        {
          "output_type": "execute_result",
          "data": {
            "text/html": [
              "<div>\n",
              "<style scoped>\n",
              "    .dataframe tbody tr th:only-of-type {\n",
              "        vertical-align: middle;\n",
              "    }\n",
              "\n",
              "    .dataframe tbody tr th {\n",
              "        vertical-align: top;\n",
              "    }\n",
              "\n",
              "    .dataframe thead th {\n",
              "        text-align: right;\n",
              "    }\n",
              "</style>\n",
              "<table border=\"1\" class=\"dataframe\">\n",
              "  <thead>\n",
              "    <tr style=\"text-align: right;\">\n",
              "      <th></th>\n",
              "      <th>Combined Feed to Benzene Column C660_Detailed Composition_Hydrogen_wt%</th>\n",
              "      <th>Combined Feed to Benzene Column C660_Detailed Composition_Methane_wt%</th>\n",
              "      <th>Combined Feed to Benzene Column C660_Detailed Composition_Ethane_wt%</th>\n",
              "      <th>Combined Feed to Benzene Column C660_Detailed Composition_Propane_wt%</th>\n",
              "      <th>Combined Feed to Benzene Column C660_Detailed Composition_n-Butane_wt%</th>\n",
              "      <th>Combined Feed to Benzene Column C660_Detailed Composition_n-Pentane_wt%</th>\n",
              "      <th>Combined Feed to Benzene Column C660_Detailed Composition_n-Hexane_wt%</th>\n",
              "      <th>Combined Feed to Benzene Column C660_Detailed Composition_Benzene_wt%</th>\n",
              "      <th>Combined Feed to Benzene Column C660_Detailed Composition_Cyclohexane_wt%</th>\n",
              "      <th>Combined Feed to Benzene Column C660_Detailed Composition_n-Heptane_wt%</th>\n",
              "      <th>Combined Feed to Benzene Column C660_Detailed Composition_Water_wt%</th>\n",
              "      <th>Combined Feed to Benzene Column C660_Detailed Composition_Methylcyclohexane_wt%</th>\n",
              "      <th>Combined Feed to Benzene Column C660_Detailed Composition_Toluene_wt%</th>\n",
              "      <th>Combined Feed to Benzene Column C660_Detailed Composition_n-Octane_wt%</th>\n",
              "      <th>Combined Feed to Benzene Column C660_Detailed Composition_n-Propylcyclopentane_wt%</th>\n",
              "      <th>Combined Feed to Benzene Column C660_Detailed Composition_Ethylcyclohexane_wt%</th>\n",
              "      <th>Combined Feed to Benzene Column C660_Detailed Composition_Ethylbenzene_wt%</th>\n",
              "      <th>Combined Feed to Benzene Column C660_Detailed Composition_p-Xylene_wt%</th>\n",
              "      <th>Combined Feed to Benzene Column C660_Detailed Composition_m-Xylene_wt%</th>\n",
              "      <th>Combined Feed to Benzene Column C660_Detailed Composition_o-Xylene_wt%</th>\n",
              "      <th>Combined Feed to Benzene Column C660_Detailed Composition_n-Nonane_wt%</th>\n",
              "      <th>Combined Feed to Benzene Column C660_Detailed Composition_i-Propylbenzene_wt%</th>\n",
              "      <th>Combined Feed to Benzene Column C660_Detailed Composition_n-Propylcyclohexane_wt%</th>\n",
              "      <th>Combined Feed to Benzene Column C660_Detailed Composition_n-Propylbenzene_wt%</th>\n",
              "      <th>Combined Feed to Benzene Column C660_Detailed Composition_1-Methyl-3-ethylbenzene_wt%</th>\n",
              "      <th>Combined Feed to Benzene Column C660_Detailed Composition_1-Methyl-4-ethylbenzene_wt%</th>\n",
              "      <th>Combined Feed to Benzene Column C660_Detailed Composition_1,3,5-Trimethylbenzene_wt%</th>\n",
              "      <th>Combined Feed to Benzene Column C660_Detailed Composition_1-Methyl-2-ethylbenzene_wt%</th>\n",
              "      <th>Combined Feed to Benzene Column C660_Detailed Composition_1,2,4-Trimethylbenzene_wt%</th>\n",
              "      <th>Combined Feed to Benzene Column C660_Detailed Composition_tert-Butylcyclohexane_wt%</th>\n",
              "      <th>Combined Feed to Benzene Column C660_Detailed Composition_1,2,3-Trimethylbenzene_wt%</th>\n",
              "      <th>Combined Feed to Benzene Column C660_Detailed Composition_Indane_wt%</th>\n",
              "      <th>Combined Feed to Benzene Column C660_Detailed Composition_1-Methyl-4-n-propylbenzene_wt%</th>\n",
              "      <th>Combined Feed to Benzene Column C660_Detailed Composition_1,2-Diethylbenzene_wt%</th>\n",
              "      <th>Combined Feed to Benzene Column C660_Detailed Composition_5-Ethyl-m-xylene_wt%</th>\n",
              "      <th>Combined Feed to Benzene Column C660_Detailed Composition_1,4-Diethylbenzene_wt%</th>\n",
              "      <th>Combined Feed to Benzene Column C660_Detailed Composition_1,2,3,5-Tetramethylbenzene_wt%</th>\n",
              "      <th>Combined Feed to Benzene Column C660_Detailed Composition_n-Pentylbenzene_wt%</th>\n",
              "      <th>Combined Feed to Benzene Column C660_Detailed Composition_n-Hexylbenzene_wt%</th>\n",
              "      <th>Combined Feed to Benzene Column C660_Detailed Composition_Nitrogen_wt%</th>\n",
              "      <th>Combined Feed to Benzene Column C660_Detailed Composition_Oxygen_wt%</th>\n",
              "    </tr>\n",
              "  </thead>\n",
              "  <tbody>\n",
              "    <tr>\n",
              "      <th>001-001</th>\n",
              "      <td>0.0</td>\n",
              "      <td>0.000175</td>\n",
              "      <td>0.011354</td>\n",
              "      <td>0.021681</td>\n",
              "      <td>0.014908</td>\n",
              "      <td>0.019511</td>\n",
              "      <td>0.030082</td>\n",
              "      <td>66.278216</td>\n",
              "      <td>0.02099</td>\n",
              "      <td>0.034398</td>\n",
              "      <td>0.0</td>\n",
              "      <td>0.014600</td>\n",
              "      <td>27.873568</td>\n",
              "      <td>0.028611</td>\n",
              "      <td>0.024798</td>\n",
              "      <td>0.020281</td>\n",
              "      <td>3.132133</td>\n",
              "      <td>0.632336</td>\n",
              "      <td>1.318028</td>\n",
              "      <td>0.365566</td>\n",
              "      <td>0.044484</td>\n",
              "      <td>1.951733e-08</td>\n",
              "      <td>0.098763</td>\n",
              "      <td>3.399222e-09</td>\n",
              "      <td>0.001142</td>\n",
              "      <td>0.001141</td>\n",
              "      <td>0.00223</td>\n",
              "      <td>0.00057</td>\n",
              "      <td>0.00057</td>\n",
              "      <td>0.00788</td>\n",
              "      <td>3.896395e-09</td>\n",
              "      <td>1.684247e-10</td>\n",
              "      <td>0.001555</td>\n",
              "      <td>0.000415</td>\n",
              "      <td>6.044997e-10</td>\n",
              "      <td>0.0</td>\n",
              "      <td>6.479632e-12</td>\n",
              "      <td>3.103609e-13</td>\n",
              "      <td>3.014521e-16</td>\n",
              "      <td>0.0</td>\n",
              "      <td>0.0</td>\n",
              "    </tr>\n",
              "    <tr>\n",
              "      <th>001-002</th>\n",
              "      <td>0.0</td>\n",
              "      <td>0.000175</td>\n",
              "      <td>0.011353</td>\n",
              "      <td>0.021678</td>\n",
              "      <td>0.014906</td>\n",
              "      <td>0.019510</td>\n",
              "      <td>0.030081</td>\n",
              "      <td>66.278232</td>\n",
              "      <td>0.02099</td>\n",
              "      <td>0.034399</td>\n",
              "      <td>0.0</td>\n",
              "      <td>0.014601</td>\n",
              "      <td>27.873554</td>\n",
              "      <td>0.028611</td>\n",
              "      <td>0.024798</td>\n",
              "      <td>0.020281</td>\n",
              "      <td>3.132134</td>\n",
              "      <td>0.632336</td>\n",
              "      <td>1.318029</td>\n",
              "      <td>0.365566</td>\n",
              "      <td>0.044484</td>\n",
              "      <td>1.951592e-08</td>\n",
              "      <td>0.098764</td>\n",
              "      <td>3.398967e-09</td>\n",
              "      <td>0.001142</td>\n",
              "      <td>0.001141</td>\n",
              "      <td>0.00223</td>\n",
              "      <td>0.00057</td>\n",
              "      <td>0.00057</td>\n",
              "      <td>0.00788</td>\n",
              "      <td>3.896085e-09</td>\n",
              "      <td>1.684114e-10</td>\n",
              "      <td>0.001555</td>\n",
              "      <td>0.000415</td>\n",
              "      <td>6.044514e-10</td>\n",
              "      <td>0.0</td>\n",
              "      <td>6.479096e-12</td>\n",
              "      <td>3.103352e-13</td>\n",
              "      <td>3.014266e-16</td>\n",
              "      <td>0.0</td>\n",
              "      <td>0.0</td>\n",
              "    </tr>\n",
              "    <tr>\n",
              "      <th>001-003</th>\n",
              "      <td>0.0</td>\n",
              "      <td>0.000175</td>\n",
              "      <td>0.011354</td>\n",
              "      <td>0.021680</td>\n",
              "      <td>0.014907</td>\n",
              "      <td>0.019510</td>\n",
              "      <td>0.030082</td>\n",
              "      <td>66.278226</td>\n",
              "      <td>0.02099</td>\n",
              "      <td>0.034398</td>\n",
              "      <td>0.0</td>\n",
              "      <td>0.014601</td>\n",
              "      <td>27.873556</td>\n",
              "      <td>0.028611</td>\n",
              "      <td>0.024798</td>\n",
              "      <td>0.020281</td>\n",
              "      <td>3.132134</td>\n",
              "      <td>0.632336</td>\n",
              "      <td>1.318029</td>\n",
              "      <td>0.365566</td>\n",
              "      <td>0.044484</td>\n",
              "      <td>1.951662e-08</td>\n",
              "      <td>0.098764</td>\n",
              "      <td>3.399096e-09</td>\n",
              "      <td>0.001142</td>\n",
              "      <td>0.001141</td>\n",
              "      <td>0.00223</td>\n",
              "      <td>0.00057</td>\n",
              "      <td>0.00057</td>\n",
              "      <td>0.00788</td>\n",
              "      <td>3.896244e-09</td>\n",
              "      <td>1.684181e-10</td>\n",
              "      <td>0.001555</td>\n",
              "      <td>0.000415</td>\n",
              "      <td>6.044761e-10</td>\n",
              "      <td>0.0</td>\n",
              "      <td>6.479374e-12</td>\n",
              "      <td>3.103486e-13</td>\n",
              "      <td>3.014400e-16</td>\n",
              "      <td>0.0</td>\n",
              "      <td>0.0</td>\n",
              "    </tr>\n",
              "  </tbody>\n",
              "</table>\n",
              "</div>"
            ],
            "text/plain": [
              "         Combined Feed to Benzene Column C660_Detailed Composition_Hydrogen_wt%  ...  Combined Feed to Benzene Column C660_Detailed Composition_Oxygen_wt%\n",
              "001-001                                                0.0                       ...                                                0.0                   \n",
              "001-002                                                0.0                       ...                                                0.0                   \n",
              "001-003                                                0.0                       ...                                                0.0                   \n",
              "\n",
              "[3 rows x 41 columns]"
            ]
          },
          "metadata": {
            "tags": []
          },
          "execution_count": 5
        }
      ]
    },
    {
      "cell_type": "code",
      "metadata": {
        "colab": {
          "base_uri": "https://localhost:8080/",
          "height": 315
        },
        "id": "KPV_49L6g7yA",
        "outputId": "33b13414-8a40-43d1-e444-d68b5a4c2d2d"
      },
      "source": [
        "c660_feed = c660_df[c660_col['x41']]\n",
        "c660_feed.head(3)"
      ],
      "execution_count": 6,
      "outputs": [
        {
          "output_type": "execute_result",
          "data": {
            "text/html": [
              "<div>\n",
              "<style scoped>\n",
              "    .dataframe tbody tr th:only-of-type {\n",
              "        vertical-align: middle;\n",
              "    }\n",
              "\n",
              "    .dataframe tbody tr th {\n",
              "        vertical-align: top;\n",
              "    }\n",
              "\n",
              "    .dataframe thead th {\n",
              "        text-align: right;\n",
              "    }\n",
              "</style>\n",
              "<table border=\"1\" class=\"dataframe\">\n",
              "  <thead>\n",
              "    <tr style=\"text-align: right;\">\n",
              "      <th></th>\n",
              "      <th>Combined Feed to Benzene Column C660_Detailed Composition_Hydrogen_wt%</th>\n",
              "      <th>Combined Feed to Benzene Column C660_Detailed Composition_Methane_wt%</th>\n",
              "      <th>Combined Feed to Benzene Column C660_Detailed Composition_Ethane_wt%</th>\n",
              "      <th>Combined Feed to Benzene Column C660_Detailed Composition_Propane_wt%</th>\n",
              "      <th>Combined Feed to Benzene Column C660_Detailed Composition_n-Butane_wt%</th>\n",
              "      <th>Combined Feed to Benzene Column C660_Detailed Composition_n-Pentane_wt%</th>\n",
              "      <th>Combined Feed to Benzene Column C660_Detailed Composition_n-Hexane_wt%</th>\n",
              "      <th>Combined Feed to Benzene Column C660_Detailed Composition_Benzene_wt%</th>\n",
              "      <th>Combined Feed to Benzene Column C660_Detailed Composition_Cyclohexane_wt%</th>\n",
              "      <th>Combined Feed to Benzene Column C660_Detailed Composition_n-Heptane_wt%</th>\n",
              "      <th>Combined Feed to Benzene Column C660_Detailed Composition_Water_wt%</th>\n",
              "      <th>Combined Feed to Benzene Column C660_Detailed Composition_Methylcyclohexane_wt%</th>\n",
              "      <th>Combined Feed to Benzene Column C660_Detailed Composition_Toluene_wt%</th>\n",
              "      <th>Combined Feed to Benzene Column C660_Detailed Composition_n-Octane_wt%</th>\n",
              "      <th>Combined Feed to Benzene Column C660_Detailed Composition_n-Propylcyclopentane_wt%</th>\n",
              "      <th>Combined Feed to Benzene Column C660_Detailed Composition_Ethylcyclohexane_wt%</th>\n",
              "      <th>Combined Feed to Benzene Column C660_Detailed Composition_Ethylbenzene_wt%</th>\n",
              "      <th>Combined Feed to Benzene Column C660_Detailed Composition_p-Xylene_wt%</th>\n",
              "      <th>Combined Feed to Benzene Column C660_Detailed Composition_m-Xylene_wt%</th>\n",
              "      <th>Combined Feed to Benzene Column C660_Detailed Composition_o-Xylene_wt%</th>\n",
              "      <th>Combined Feed to Benzene Column C660_Detailed Composition_n-Nonane_wt%</th>\n",
              "      <th>Combined Feed to Benzene Column C660_Detailed Composition_i-Propylbenzene_wt%</th>\n",
              "      <th>Combined Feed to Benzene Column C660_Detailed Composition_n-Propylcyclohexane_wt%</th>\n",
              "      <th>Combined Feed to Benzene Column C660_Detailed Composition_n-Propylbenzene_wt%</th>\n",
              "      <th>Combined Feed to Benzene Column C660_Detailed Composition_1-Methyl-3-ethylbenzene_wt%</th>\n",
              "      <th>Combined Feed to Benzene Column C660_Detailed Composition_1-Methyl-4-ethylbenzene_wt%</th>\n",
              "      <th>Combined Feed to Benzene Column C660_Detailed Composition_1,3,5-Trimethylbenzene_wt%</th>\n",
              "      <th>Combined Feed to Benzene Column C660_Detailed Composition_1-Methyl-2-ethylbenzene_wt%</th>\n",
              "      <th>Combined Feed to Benzene Column C660_Detailed Composition_1,2,4-Trimethylbenzene_wt%</th>\n",
              "      <th>Combined Feed to Benzene Column C660_Detailed Composition_tert-Butylcyclohexane_wt%</th>\n",
              "      <th>Combined Feed to Benzene Column C660_Detailed Composition_1,2,3-Trimethylbenzene_wt%</th>\n",
              "      <th>Combined Feed to Benzene Column C660_Detailed Composition_Indane_wt%</th>\n",
              "      <th>Combined Feed to Benzene Column C660_Detailed Composition_1-Methyl-4-n-propylbenzene_wt%</th>\n",
              "      <th>Combined Feed to Benzene Column C660_Detailed Composition_1,2-Diethylbenzene_wt%</th>\n",
              "      <th>Combined Feed to Benzene Column C660_Detailed Composition_5-Ethyl-m-xylene_wt%</th>\n",
              "      <th>Combined Feed to Benzene Column C660_Detailed Composition_1,4-Diethylbenzene_wt%</th>\n",
              "      <th>Combined Feed to Benzene Column C660_Detailed Composition_1,2,3,5-Tetramethylbenzene_wt%</th>\n",
              "      <th>Combined Feed to Benzene Column C660_Detailed Composition_n-Pentylbenzene_wt%</th>\n",
              "      <th>Combined Feed to Benzene Column C660_Detailed Composition_n-Hexylbenzene_wt%</th>\n",
              "      <th>Combined Feed to Benzene Column C660_Detailed Composition_Nitrogen_wt%</th>\n",
              "      <th>Combined Feed to Benzene Column C660_Detailed Composition_Oxygen_wt%</th>\n",
              "    </tr>\n",
              "  </thead>\n",
              "  <tbody>\n",
              "    <tr>\n",
              "      <th>001-001</th>\n",
              "      <td>0.0</td>\n",
              "      <td>0.000175</td>\n",
              "      <td>0.011354</td>\n",
              "      <td>0.021681</td>\n",
              "      <td>0.014908</td>\n",
              "      <td>0.019511</td>\n",
              "      <td>0.030082</td>\n",
              "      <td>66.278221</td>\n",
              "      <td>0.02099</td>\n",
              "      <td>0.034398</td>\n",
              "      <td>0.0</td>\n",
              "      <td>0.014600</td>\n",
              "      <td>27.873569</td>\n",
              "      <td>0.028611</td>\n",
              "      <td>0.024798</td>\n",
              "      <td>0.020281</td>\n",
              "      <td>3.132133</td>\n",
              "      <td>0.632336</td>\n",
              "      <td>1.318029</td>\n",
              "      <td>0.365566</td>\n",
              "      <td>0.044484</td>\n",
              "      <td>1.951733e-08</td>\n",
              "      <td>0.098763</td>\n",
              "      <td>3.399222e-09</td>\n",
              "      <td>0.001142</td>\n",
              "      <td>0.001141</td>\n",
              "      <td>0.00223</td>\n",
              "      <td>0.00057</td>\n",
              "      <td>0.00057</td>\n",
              "      <td>0.00788</td>\n",
              "      <td>3.896395e-09</td>\n",
              "      <td>1.684246e-10</td>\n",
              "      <td>0.001555</td>\n",
              "      <td>0.000415</td>\n",
              "      <td>6.044996e-10</td>\n",
              "      <td>0.0</td>\n",
              "      <td>6.479631e-12</td>\n",
              "      <td>3.103609e-13</td>\n",
              "      <td>3.014521e-16</td>\n",
              "      <td>0.0</td>\n",
              "      <td>0.0</td>\n",
              "    </tr>\n",
              "    <tr>\n",
              "      <th>001-002</th>\n",
              "      <td>0.0</td>\n",
              "      <td>0.000175</td>\n",
              "      <td>0.011353</td>\n",
              "      <td>0.021678</td>\n",
              "      <td>0.014906</td>\n",
              "      <td>0.019510</td>\n",
              "      <td>0.030081</td>\n",
              "      <td>66.278244</td>\n",
              "      <td>0.02099</td>\n",
              "      <td>0.034399</td>\n",
              "      <td>0.0</td>\n",
              "      <td>0.014601</td>\n",
              "      <td>27.873554</td>\n",
              "      <td>0.028611</td>\n",
              "      <td>0.024798</td>\n",
              "      <td>0.020281</td>\n",
              "      <td>3.132135</td>\n",
              "      <td>0.632336</td>\n",
              "      <td>1.318029</td>\n",
              "      <td>0.365566</td>\n",
              "      <td>0.044484</td>\n",
              "      <td>1.951592e-08</td>\n",
              "      <td>0.098764</td>\n",
              "      <td>3.398968e-09</td>\n",
              "      <td>0.001142</td>\n",
              "      <td>0.001141</td>\n",
              "      <td>0.00223</td>\n",
              "      <td>0.00057</td>\n",
              "      <td>0.00057</td>\n",
              "      <td>0.00788</td>\n",
              "      <td>3.896086e-09</td>\n",
              "      <td>1.684114e-10</td>\n",
              "      <td>0.001555</td>\n",
              "      <td>0.000415</td>\n",
              "      <td>6.044514e-10</td>\n",
              "      <td>0.0</td>\n",
              "      <td>6.479096e-12</td>\n",
              "      <td>3.103352e-13</td>\n",
              "      <td>3.014266e-16</td>\n",
              "      <td>0.0</td>\n",
              "      <td>0.0</td>\n",
              "    </tr>\n",
              "    <tr>\n",
              "      <th>001-003</th>\n",
              "      <td>0.0</td>\n",
              "      <td>0.000175</td>\n",
              "      <td>0.011354</td>\n",
              "      <td>0.021680</td>\n",
              "      <td>0.014907</td>\n",
              "      <td>0.019510</td>\n",
              "      <td>0.030082</td>\n",
              "      <td>66.278236</td>\n",
              "      <td>0.02099</td>\n",
              "      <td>0.034398</td>\n",
              "      <td>0.0</td>\n",
              "      <td>0.014601</td>\n",
              "      <td>27.873554</td>\n",
              "      <td>0.028611</td>\n",
              "      <td>0.024798</td>\n",
              "      <td>0.020281</td>\n",
              "      <td>3.132135</td>\n",
              "      <td>0.632336</td>\n",
              "      <td>1.318029</td>\n",
              "      <td>0.365566</td>\n",
              "      <td>0.044484</td>\n",
              "      <td>1.951662e-08</td>\n",
              "      <td>0.098764</td>\n",
              "      <td>3.399095e-09</td>\n",
              "      <td>0.001142</td>\n",
              "      <td>0.001141</td>\n",
              "      <td>0.00223</td>\n",
              "      <td>0.00057</td>\n",
              "      <td>0.00057</td>\n",
              "      <td>0.00788</td>\n",
              "      <td>3.896244e-09</td>\n",
              "      <td>1.684181e-10</td>\n",
              "      <td>0.001555</td>\n",
              "      <td>0.000415</td>\n",
              "      <td>6.044760e-10</td>\n",
              "      <td>0.0</td>\n",
              "      <td>6.479373e-12</td>\n",
              "      <td>3.103485e-13</td>\n",
              "      <td>3.014400e-16</td>\n",
              "      <td>0.0</td>\n",
              "      <td>0.0</td>\n",
              "    </tr>\n",
              "  </tbody>\n",
              "</table>\n",
              "</div>"
            ],
            "text/plain": [
              "         Combined Feed to Benzene Column C660_Detailed Composition_Hydrogen_wt%  ...  Combined Feed to Benzene Column C660_Detailed Composition_Oxygen_wt%\n",
              "001-001                                                0.0                       ...                                                0.0                   \n",
              "001-002                                                0.0                       ...                                                0.0                   \n",
              "001-003                                                0.0                       ...                                                0.0                   \n",
              "\n",
              "[3 rows x 41 columns]"
            ]
          },
          "metadata": {
            "tags": []
          },
          "execution_count": 6
        }
      ]
    },
    {
      "cell_type": "code",
      "metadata": {
        "colab": {
          "base_uri": "https://localhost:8080/"
        },
        "id": "mh_kVG5mgO3X",
        "outputId": "7d3f0049-789d-4136-a41a-effc7638445c"
      },
      "source": [
        "np.allclose(c660_feed.values,c660_feed_pred.values)"
      ],
      "execution_count": 7,
      "outputs": [
        {
          "output_type": "execute_result",
          "data": {
            "text/plain": [
              "True"
            ]
          },
          "metadata": {
            "tags": []
          },
          "execution_count": 7
        }
      ]
    },
    {
      "cell_type": "markdown",
      "metadata": {
        "id": "MekwhgQiSOF4"
      },
      "source": [
        "# check c620,c660 -> c670"
      ]
    },
    {
      "cell_type": "code",
      "metadata": {
        "id": "PwG6ZKy8hW1B",
        "colab": {
          "base_uri": "https://localhost:8080/",
          "height": 349
        },
        "outputId": "0b87fac4-ae1d-45a7-b44d-2603e12c25bb"
      },
      "source": [
        "c660_w4 = c660_df[c660_col['bottoms_x']]\n",
        "c620_w4 = c620_df[c620_col['bottoms_x']]\n",
        "Tray_43_mfr = c670_mb.loc[:,['Toluene Column C670 Operation_Feed Properties \\n@ Tray 43_Mass Flow Rate_ton/hr']]\n",
        "Tray_54_mfr = c670_mb.loc[:,['Toluene Column C670 Operation_Feed Properties \\n@ Tray 54_Mass Flow Rate_ton/hr']]\n",
        "total = Tray_43_mfr.values + Tray_54_mfr.values\n",
        "Tray_43_mfr = Tray_43_mfr/total\n",
        "Tray_54_mfr = Tray_54_mfr/total\n",
        "combined_pred = c660_w4.values*Tray_43_mfr.values + c620_w4.values*Tray_54_mfr.values\n",
        "combined_pred = pd.DataFrame(combined_pred,index=idx,columns=c670_col['combined'])\n",
        "combined_pred.head(3)"
      ],
      "execution_count": 8,
      "outputs": [
        {
          "output_type": "execute_result",
          "data": {
            "text/html": [
              "<div>\n",
              "<style scoped>\n",
              "    .dataframe tbody tr th:only-of-type {\n",
              "        vertical-align: middle;\n",
              "    }\n",
              "\n",
              "    .dataframe tbody tr th {\n",
              "        vertical-align: top;\n",
              "    }\n",
              "\n",
              "    .dataframe thead th {\n",
              "        text-align: right;\n",
              "    }\n",
              "</style>\n",
              "<table border=\"1\" class=\"dataframe\">\n",
              "  <thead>\n",
              "    <tr style=\"text-align: right;\">\n",
              "      <th></th>\n",
              "      <th>Toluene Column C670 Operation_Combined Feed to Toluene Column C670 : Detailed weight % Composition_Hydrogen_wt%</th>\n",
              "      <th>Toluene Column C670 Operation_Combined Feed to Toluene Column C670 : Detailed weight % Composition_Methane_wt%</th>\n",
              "      <th>Toluene Column C670 Operation_Combined Feed to Toluene Column C670 : Detailed weight % Composition_Ethane_wt%</th>\n",
              "      <th>Toluene Column C670 Operation_Combined Feed to Toluene Column C670 : Detailed weight % Composition_Propane_wt%</th>\n",
              "      <th>Toluene Column C670 Operation_Combined Feed to Toluene Column C670 : Detailed weight % Composition_n-Butane_wt%</th>\n",
              "      <th>Toluene Column C670 Operation_Combined Feed to Toluene Column C670 : Detailed weight % Composition_n-Pentane_wt%</th>\n",
              "      <th>Toluene Column C670 Operation_Combined Feed to Toluene Column C670 : Detailed weight % Composition_n-Hexane_wt%</th>\n",
              "      <th>Toluene Column C670 Operation_Combined Feed to Toluene Column C670 : Detailed weight % Composition_Benzene_wt%</th>\n",
              "      <th>Toluene Column C670 Operation_Combined Feed to Toluene Column C670 : Detailed weight % Composition_Cyclohexane_wt%</th>\n",
              "      <th>Toluene Column C670 Operation_Combined Feed to Toluene Column C670 : Detailed weight % Composition_n-Heptane_wt%</th>\n",
              "      <th>Toluene Column C670 Operation_Combined Feed to Toluene Column C670 : Detailed weight % Composition_Water_wt%</th>\n",
              "      <th>Toluene Column C670 Operation_Combined Feed to Toluene Column C670 : Detailed weight % Composition_Methylcyclohexane_wt%</th>\n",
              "      <th>Toluene Column C670 Operation_Combined Feed to Toluene Column C670 : Detailed weight % Composition_Toluene_wt%</th>\n",
              "      <th>Toluene Column C670 Operation_Combined Feed to Toluene Column C670 : Detailed weight % Composition_n-Octane_wt%</th>\n",
              "      <th>Toluene Column C670 Operation_Combined Feed to Toluene Column C670 : Detailed weight % Composition_n-Propylcyclopentane_wt%</th>\n",
              "      <th>Toluene Column C670 Operation_Combined Feed to Toluene Column C670 : Detailed weight % Composition_Ethylcyclohexane_wt%</th>\n",
              "      <th>Toluene Column C670 Operation_Combined Feed to Toluene Column C670 : Detailed weight % Composition_Ethylbenzene_wt%</th>\n",
              "      <th>Toluene Column C670 Operation_Combined Feed to Toluene Column C670 : Detailed weight % Composition_p-Xylene_wt%</th>\n",
              "      <th>Toluene Column C670 Operation_Combined Feed to Toluene Column C670 : Detailed weight % Composition_m-Xylene_wt%</th>\n",
              "      <th>Toluene Column C670 Operation_Combined Feed to Toluene Column C670 : Detailed weight % Composition_o-Xylene_wt%</th>\n",
              "      <th>Toluene Column C670 Operation_Combined Feed to Toluene Column C670 : Detailed weight % Composition_n-Nonane_wt%</th>\n",
              "      <th>Toluene Column C670 Operation_Combined Feed to Toluene Column C670 : Detailed weight % Composition_i-Propylbenzene_wt%</th>\n",
              "      <th>Toluene Column C670 Operation_Combined Feed to Toluene Column C670 : Detailed weight % Composition_n-Propylcyclohexane_wt%</th>\n",
              "      <th>Toluene Column C670 Operation_Combined Feed to Toluene Column C670 : Detailed weight % Composition_n-Propylbenzene_wt%</th>\n",
              "      <th>Toluene Column C670 Operation_Combined Feed to Toluene Column C670 : Detailed weight % Composition_1-Methyl-3-ethylbenzene_wt%</th>\n",
              "      <th>Toluene Column C670 Operation_Combined Feed to Toluene Column C670 : Detailed weight % Composition_1-Methyl-4-ethylbenzene_wt%</th>\n",
              "      <th>Toluene Column C670 Operation_Combined Feed to Toluene Column C670 : Detailed weight % Composition_1,3,5-Trimethylbenzene_wt%</th>\n",
              "      <th>Toluene Column C670 Operation_Combined Feed to Toluene Column C670 : Detailed weight % Composition_1-Methyl-2-ethylbenzene_wt%</th>\n",
              "      <th>Toluene Column C670 Operation_Combined Feed to Toluene Column C670 : Detailed weight % Composition_1,2,4-Trimethylbenzene_wt%</th>\n",
              "      <th>Toluene Column C670 Operation_Combined Feed to Toluene Column C670 : Detailed weight % Composition_tert-Butylcyclohexane_wt%</th>\n",
              "      <th>Toluene Column C670 Operation_Combined Feed to Toluene Column C670 : Detailed weight % Composition_1,2,3-Trimethylbenzene_wt%</th>\n",
              "      <th>Toluene Column C670 Operation_Combined Feed to Toluene Column C670 : Detailed weight % Composition_Indane_wt%</th>\n",
              "      <th>Toluene Column C670 Operation_Combined Feed to Toluene Column C670 : Detailed weight % Composition_1-Methyl-4-n-propylbenzene_wt%</th>\n",
              "      <th>Toluene Column C670 Operation_Combined Feed to Toluene Column C670 : Detailed weight % Composition_1,2-Diethylbenzene_wt%</th>\n",
              "      <th>Toluene Column C670 Operation_Combined Feed to Toluene Column C670 : Detailed weight % Composition_5-Ethyl-m-xylene_wt%</th>\n",
              "      <th>Toluene Column C670 Operation_Combined Feed to Toluene Column C670 : Detailed weight % Composition_1,4-Diethylbenzene_wt%</th>\n",
              "      <th>Toluene Column C670 Operation_Combined Feed to Toluene Column C670 : Detailed weight % Composition_1,2,3,5-Tetramethylbenzene_wt%</th>\n",
              "      <th>Toluene Column C670 Operation_Combined Feed to Toluene Column C670 : Detailed weight % Composition_n-Pentylbenzene_wt%</th>\n",
              "      <th>Toluene Column C670 Operation_Combined Feed to Toluene Column C670 : Detailed weight % Composition_n-Hexylbenzene_wt%</th>\n",
              "      <th>Toluene Column C670 Operation_Combined Feed to Toluene Column C670 : Detailed weight % Composition_Nitrogen_wt%</th>\n",
              "      <th>Toluene Column C670 Operation_Combined Feed to Toluene Column C670 : Detailed weight % Composition_Oxygen_wt%</th>\n",
              "    </tr>\n",
              "  </thead>\n",
              "  <tbody>\n",
              "    <tr>\n",
              "      <th>001-001</th>\n",
              "      <td>0.0</td>\n",
              "      <td>0.0</td>\n",
              "      <td>0.0</td>\n",
              "      <td>0.0</td>\n",
              "      <td>4.424852e-24</td>\n",
              "      <td>1.517322e-16</td>\n",
              "      <td>1.353407e-09</td>\n",
              "      <td>0.218932</td>\n",
              "      <td>0.000173</td>\n",
              "      <td>0.003677</td>\n",
              "      <td>0.0</td>\n",
              "      <td>0.014934</td>\n",
              "      <td>50.471384</td>\n",
              "      <td>0.019318</td>\n",
              "      <td>0.019702</td>\n",
              "      <td>0.017998</td>\n",
              "      <td>2.190495</td>\n",
              "      <td>8.061416</td>\n",
              "      <td>17.576530</td>\n",
              "      <td>7.120586</td>\n",
              "      <td>0.031811</td>\n",
              "      <td>0.005885</td>\n",
              "      <td>0.040147</td>\n",
              "      <td>0.006866</td>\n",
              "      <td>0.962607</td>\n",
              "      <td>0.504568</td>\n",
              "      <td>2.554874</td>\n",
              "      <td>0.283670</td>\n",
              "      <td>6.523591</td>\n",
              "      <td>0.002977</td>\n",
              "      <td>1.041622</td>\n",
              "      <td>0.034328</td>\n",
              "      <td>0.001568</td>\n",
              "      <td>0.022715</td>\n",
              "      <td>0.881749</td>\n",
              "      <td>0.0</td>\n",
              "      <td>1.014159</td>\n",
              "      <td>0.259915</td>\n",
              "      <td>0.111812</td>\n",
              "      <td>0.0</td>\n",
              "      <td>0.0</td>\n",
              "    </tr>\n",
              "    <tr>\n",
              "      <th>001-002</th>\n",
              "      <td>0.0</td>\n",
              "      <td>0.0</td>\n",
              "      <td>0.0</td>\n",
              "      <td>0.0</td>\n",
              "      <td>4.425127e-24</td>\n",
              "      <td>1.517419e-16</td>\n",
              "      <td>1.353472e-09</td>\n",
              "      <td>0.218930</td>\n",
              "      <td>0.000173</td>\n",
              "      <td>0.003676</td>\n",
              "      <td>0.0</td>\n",
              "      <td>0.015163</td>\n",
              "      <td>50.471329</td>\n",
              "      <td>0.019319</td>\n",
              "      <td>0.019702</td>\n",
              "      <td>0.017998</td>\n",
              "      <td>2.190488</td>\n",
              "      <td>8.061389</td>\n",
              "      <td>17.576470</td>\n",
              "      <td>7.120560</td>\n",
              "      <td>0.031811</td>\n",
              "      <td>0.005885</td>\n",
              "      <td>0.040147</td>\n",
              "      <td>0.006866</td>\n",
              "      <td>0.962603</td>\n",
              "      <td>0.504566</td>\n",
              "      <td>2.554866</td>\n",
              "      <td>0.283669</td>\n",
              "      <td>6.523568</td>\n",
              "      <td>0.002977</td>\n",
              "      <td>1.041618</td>\n",
              "      <td>0.034328</td>\n",
              "      <td>0.001568</td>\n",
              "      <td>0.022715</td>\n",
              "      <td>0.881746</td>\n",
              "      <td>0.0</td>\n",
              "      <td>1.014155</td>\n",
              "      <td>0.259914</td>\n",
              "      <td>0.111812</td>\n",
              "      <td>0.0</td>\n",
              "      <td>0.0</td>\n",
              "    </tr>\n",
              "    <tr>\n",
              "      <th>001-003</th>\n",
              "      <td>0.0</td>\n",
              "      <td>0.0</td>\n",
              "      <td>0.0</td>\n",
              "      <td>0.0</td>\n",
              "      <td>4.424987e-24</td>\n",
              "      <td>1.517366e-16</td>\n",
              "      <td>1.353417e-09</td>\n",
              "      <td>0.218930</td>\n",
              "      <td>0.000173</td>\n",
              "      <td>0.003676</td>\n",
              "      <td>0.0</td>\n",
              "      <td>0.015339</td>\n",
              "      <td>50.471270</td>\n",
              "      <td>0.019320</td>\n",
              "      <td>0.019702</td>\n",
              "      <td>0.017998</td>\n",
              "      <td>2.190483</td>\n",
              "      <td>8.061370</td>\n",
              "      <td>17.576429</td>\n",
              "      <td>7.120544</td>\n",
              "      <td>0.031811</td>\n",
              "      <td>0.005885</td>\n",
              "      <td>0.040147</td>\n",
              "      <td>0.006866</td>\n",
              "      <td>0.962601</td>\n",
              "      <td>0.504565</td>\n",
              "      <td>2.554859</td>\n",
              "      <td>0.283668</td>\n",
              "      <td>6.523552</td>\n",
              "      <td>0.002977</td>\n",
              "      <td>1.041615</td>\n",
              "      <td>0.034328</td>\n",
              "      <td>0.001568</td>\n",
              "      <td>0.022715</td>\n",
              "      <td>0.881744</td>\n",
              "      <td>0.0</td>\n",
              "      <td>1.014153</td>\n",
              "      <td>0.259913</td>\n",
              "      <td>0.111812</td>\n",
              "      <td>0.0</td>\n",
              "      <td>0.0</td>\n",
              "    </tr>\n",
              "  </tbody>\n",
              "</table>\n",
              "</div>"
            ],
            "text/plain": [
              "         Toluene Column C670 Operation_Combined Feed to Toluene Column C670 : Detailed weight % Composition_Hydrogen_wt%  ...  Toluene Column C670 Operation_Combined Feed to Toluene Column C670 : Detailed weight % Composition_Oxygen_wt%\n",
              "001-001                                                0.0                                                                ...                                                0.0                                                            \n",
              "001-002                                                0.0                                                                ...                                                0.0                                                            \n",
              "001-003                                                0.0                                                                ...                                                0.0                                                            \n",
              "\n",
              "[3 rows x 41 columns]"
            ]
          },
          "metadata": {
            "tags": []
          },
          "execution_count": 8
        }
      ]
    },
    {
      "cell_type": "code",
      "metadata": {
        "colab": {
          "base_uri": "https://localhost:8080/",
          "height": 349
        },
        "id": "1iW9goceTx5I",
        "outputId": "b383a1dd-8bc0-4863-902a-7305df8c37ae"
      },
      "source": [
        "combined = c670_df[c670_col['combined']]\n",
        "combined.head(3)"
      ],
      "execution_count": 9,
      "outputs": [
        {
          "output_type": "execute_result",
          "data": {
            "text/html": [
              "<div>\n",
              "<style scoped>\n",
              "    .dataframe tbody tr th:only-of-type {\n",
              "        vertical-align: middle;\n",
              "    }\n",
              "\n",
              "    .dataframe tbody tr th {\n",
              "        vertical-align: top;\n",
              "    }\n",
              "\n",
              "    .dataframe thead th {\n",
              "        text-align: right;\n",
              "    }\n",
              "</style>\n",
              "<table border=\"1\" class=\"dataframe\">\n",
              "  <thead>\n",
              "    <tr style=\"text-align: right;\">\n",
              "      <th></th>\n",
              "      <th>Toluene Column C670 Operation_Combined Feed to Toluene Column C670 : Detailed weight % Composition_Hydrogen_wt%</th>\n",
              "      <th>Toluene Column C670 Operation_Combined Feed to Toluene Column C670 : Detailed weight % Composition_Methane_wt%</th>\n",
              "      <th>Toluene Column C670 Operation_Combined Feed to Toluene Column C670 : Detailed weight % Composition_Ethane_wt%</th>\n",
              "      <th>Toluene Column C670 Operation_Combined Feed to Toluene Column C670 : Detailed weight % Composition_Propane_wt%</th>\n",
              "      <th>Toluene Column C670 Operation_Combined Feed to Toluene Column C670 : Detailed weight % Composition_n-Butane_wt%</th>\n",
              "      <th>Toluene Column C670 Operation_Combined Feed to Toluene Column C670 : Detailed weight % Composition_n-Pentane_wt%</th>\n",
              "      <th>Toluene Column C670 Operation_Combined Feed to Toluene Column C670 : Detailed weight % Composition_n-Hexane_wt%</th>\n",
              "      <th>Toluene Column C670 Operation_Combined Feed to Toluene Column C670 : Detailed weight % Composition_Benzene_wt%</th>\n",
              "      <th>Toluene Column C670 Operation_Combined Feed to Toluene Column C670 : Detailed weight % Composition_Cyclohexane_wt%</th>\n",
              "      <th>Toluene Column C670 Operation_Combined Feed to Toluene Column C670 : Detailed weight % Composition_n-Heptane_wt%</th>\n",
              "      <th>Toluene Column C670 Operation_Combined Feed to Toluene Column C670 : Detailed weight % Composition_Water_wt%</th>\n",
              "      <th>Toluene Column C670 Operation_Combined Feed to Toluene Column C670 : Detailed weight % Composition_Methylcyclohexane_wt%</th>\n",
              "      <th>Toluene Column C670 Operation_Combined Feed to Toluene Column C670 : Detailed weight % Composition_Toluene_wt%</th>\n",
              "      <th>Toluene Column C670 Operation_Combined Feed to Toluene Column C670 : Detailed weight % Composition_n-Octane_wt%</th>\n",
              "      <th>Toluene Column C670 Operation_Combined Feed to Toluene Column C670 : Detailed weight % Composition_n-Propylcyclopentane_wt%</th>\n",
              "      <th>Toluene Column C670 Operation_Combined Feed to Toluene Column C670 : Detailed weight % Composition_Ethylcyclohexane_wt%</th>\n",
              "      <th>Toluene Column C670 Operation_Combined Feed to Toluene Column C670 : Detailed weight % Composition_Ethylbenzene_wt%</th>\n",
              "      <th>Toluene Column C670 Operation_Combined Feed to Toluene Column C670 : Detailed weight % Composition_p-Xylene_wt%</th>\n",
              "      <th>Toluene Column C670 Operation_Combined Feed to Toluene Column C670 : Detailed weight % Composition_m-Xylene_wt%</th>\n",
              "      <th>Toluene Column C670 Operation_Combined Feed to Toluene Column C670 : Detailed weight % Composition_o-Xylene_wt%</th>\n",
              "      <th>Toluene Column C670 Operation_Combined Feed to Toluene Column C670 : Detailed weight % Composition_n-Nonane_wt%</th>\n",
              "      <th>Toluene Column C670 Operation_Combined Feed to Toluene Column C670 : Detailed weight % Composition_i-Propylbenzene_wt%</th>\n",
              "      <th>Toluene Column C670 Operation_Combined Feed to Toluene Column C670 : Detailed weight % Composition_n-Propylcyclohexane_wt%</th>\n",
              "      <th>Toluene Column C670 Operation_Combined Feed to Toluene Column C670 : Detailed weight % Composition_n-Propylbenzene_wt%</th>\n",
              "      <th>Toluene Column C670 Operation_Combined Feed to Toluene Column C670 : Detailed weight % Composition_1-Methyl-3-ethylbenzene_wt%</th>\n",
              "      <th>Toluene Column C670 Operation_Combined Feed to Toluene Column C670 : Detailed weight % Composition_1-Methyl-4-ethylbenzene_wt%</th>\n",
              "      <th>Toluene Column C670 Operation_Combined Feed to Toluene Column C670 : Detailed weight % Composition_1,3,5-Trimethylbenzene_wt%</th>\n",
              "      <th>Toluene Column C670 Operation_Combined Feed to Toluene Column C670 : Detailed weight % Composition_1-Methyl-2-ethylbenzene_wt%</th>\n",
              "      <th>Toluene Column C670 Operation_Combined Feed to Toluene Column C670 : Detailed weight % Composition_1,2,4-Trimethylbenzene_wt%</th>\n",
              "      <th>Toluene Column C670 Operation_Combined Feed to Toluene Column C670 : Detailed weight % Composition_tert-Butylcyclohexane_wt%</th>\n",
              "      <th>Toluene Column C670 Operation_Combined Feed to Toluene Column C670 : Detailed weight % Composition_1,2,3-Trimethylbenzene_wt%</th>\n",
              "      <th>Toluene Column C670 Operation_Combined Feed to Toluene Column C670 : Detailed weight % Composition_Indane_wt%</th>\n",
              "      <th>Toluene Column C670 Operation_Combined Feed to Toluene Column C670 : Detailed weight % Composition_1-Methyl-4-n-propylbenzene_wt%</th>\n",
              "      <th>Toluene Column C670 Operation_Combined Feed to Toluene Column C670 : Detailed weight % Composition_1,2-Diethylbenzene_wt%</th>\n",
              "      <th>Toluene Column C670 Operation_Combined Feed to Toluene Column C670 : Detailed weight % Composition_5-Ethyl-m-xylene_wt%</th>\n",
              "      <th>Toluene Column C670 Operation_Combined Feed to Toluene Column C670 : Detailed weight % Composition_1,4-Diethylbenzene_wt%</th>\n",
              "      <th>Toluene Column C670 Operation_Combined Feed to Toluene Column C670 : Detailed weight % Composition_1,2,3,5-Tetramethylbenzene_wt%</th>\n",
              "      <th>Toluene Column C670 Operation_Combined Feed to Toluene Column C670 : Detailed weight % Composition_n-Pentylbenzene_wt%</th>\n",
              "      <th>Toluene Column C670 Operation_Combined Feed to Toluene Column C670 : Detailed weight % Composition_n-Hexylbenzene_wt%</th>\n",
              "      <th>Toluene Column C670 Operation_Combined Feed to Toluene Column C670 : Detailed weight % Composition_Nitrogen_wt%</th>\n",
              "      <th>Toluene Column C670 Operation_Combined Feed to Toluene Column C670 : Detailed weight % Composition_Oxygen_wt%</th>\n",
              "    </tr>\n",
              "  </thead>\n",
              "  <tbody>\n",
              "    <tr>\n",
              "      <th>001-001</th>\n",
              "      <td>0.0</td>\n",
              "      <td>0.0</td>\n",
              "      <td>0.0</td>\n",
              "      <td>0.0</td>\n",
              "      <td>0.0</td>\n",
              "      <td>0.0</td>\n",
              "      <td>0.0</td>\n",
              "      <td>0.218932</td>\n",
              "      <td>0.000173</td>\n",
              "      <td>0.003677</td>\n",
              "      <td>0.0</td>\n",
              "      <td>0.014934</td>\n",
              "      <td>50.471396</td>\n",
              "      <td>0.019317</td>\n",
              "      <td>0.019702</td>\n",
              "      <td>0.017998</td>\n",
              "      <td>2.190489</td>\n",
              "      <td>8.061415</td>\n",
              "      <td>17.576528</td>\n",
              "      <td>7.120585</td>\n",
              "      <td>0.031811</td>\n",
              "      <td>0.005885</td>\n",
              "      <td>0.040147</td>\n",
              "      <td>0.006866</td>\n",
              "      <td>0.962607</td>\n",
              "      <td>0.504568</td>\n",
              "      <td>2.554874</td>\n",
              "      <td>0.283670</td>\n",
              "      <td>6.523591</td>\n",
              "      <td>0.002977</td>\n",
              "      <td>1.041622</td>\n",
              "      <td>0.034328</td>\n",
              "      <td>0.001568</td>\n",
              "      <td>0.022715</td>\n",
              "      <td>0.881749</td>\n",
              "      <td>0.0</td>\n",
              "      <td>1.014159</td>\n",
              "      <td>0.259915</td>\n",
              "      <td>0.111812</td>\n",
              "      <td>0.0</td>\n",
              "      <td>0.0</td>\n",
              "    </tr>\n",
              "    <tr>\n",
              "      <th>001-002</th>\n",
              "      <td>0.0</td>\n",
              "      <td>0.0</td>\n",
              "      <td>0.0</td>\n",
              "      <td>0.0</td>\n",
              "      <td>0.0</td>\n",
              "      <td>0.0</td>\n",
              "      <td>0.0</td>\n",
              "      <td>0.218930</td>\n",
              "      <td>0.000173</td>\n",
              "      <td>0.003676</td>\n",
              "      <td>0.0</td>\n",
              "      <td>0.015163</td>\n",
              "      <td>50.471338</td>\n",
              "      <td>0.019319</td>\n",
              "      <td>0.019702</td>\n",
              "      <td>0.017998</td>\n",
              "      <td>2.190482</td>\n",
              "      <td>8.061388</td>\n",
              "      <td>17.576468</td>\n",
              "      <td>7.120560</td>\n",
              "      <td>0.031811</td>\n",
              "      <td>0.005885</td>\n",
              "      <td>0.040147</td>\n",
              "      <td>0.006866</td>\n",
              "      <td>0.962603</td>\n",
              "      <td>0.504566</td>\n",
              "      <td>2.554866</td>\n",
              "      <td>0.283669</td>\n",
              "      <td>6.523568</td>\n",
              "      <td>0.002977</td>\n",
              "      <td>1.041618</td>\n",
              "      <td>0.034328</td>\n",
              "      <td>0.001568</td>\n",
              "      <td>0.022715</td>\n",
              "      <td>0.881746</td>\n",
              "      <td>0.0</td>\n",
              "      <td>1.014155</td>\n",
              "      <td>0.259914</td>\n",
              "      <td>0.111812</td>\n",
              "      <td>0.0</td>\n",
              "      <td>0.0</td>\n",
              "    </tr>\n",
              "    <tr>\n",
              "      <th>001-003</th>\n",
              "      <td>0.0</td>\n",
              "      <td>0.0</td>\n",
              "      <td>0.0</td>\n",
              "      <td>0.0</td>\n",
              "      <td>0.0</td>\n",
              "      <td>0.0</td>\n",
              "      <td>0.0</td>\n",
              "      <td>0.218930</td>\n",
              "      <td>0.000173</td>\n",
              "      <td>0.003676</td>\n",
              "      <td>0.0</td>\n",
              "      <td>0.015339</td>\n",
              "      <td>50.471280</td>\n",
              "      <td>0.019320</td>\n",
              "      <td>0.019702</td>\n",
              "      <td>0.017998</td>\n",
              "      <td>2.190477</td>\n",
              "      <td>8.061369</td>\n",
              "      <td>17.576426</td>\n",
              "      <td>7.120543</td>\n",
              "      <td>0.031811</td>\n",
              "      <td>0.005885</td>\n",
              "      <td>0.040147</td>\n",
              "      <td>0.006866</td>\n",
              "      <td>0.962601</td>\n",
              "      <td>0.504565</td>\n",
              "      <td>2.554859</td>\n",
              "      <td>0.283668</td>\n",
              "      <td>6.523552</td>\n",
              "      <td>0.002977</td>\n",
              "      <td>1.041615</td>\n",
              "      <td>0.034328</td>\n",
              "      <td>0.001568</td>\n",
              "      <td>0.022715</td>\n",
              "      <td>0.881744</td>\n",
              "      <td>0.0</td>\n",
              "      <td>1.014153</td>\n",
              "      <td>0.259913</td>\n",
              "      <td>0.111812</td>\n",
              "      <td>0.0</td>\n",
              "      <td>0.0</td>\n",
              "    </tr>\n",
              "  </tbody>\n",
              "</table>\n",
              "</div>"
            ],
            "text/plain": [
              "         Toluene Column C670 Operation_Combined Feed to Toluene Column C670 : Detailed weight % Composition_Hydrogen_wt%  ...  Toluene Column C670 Operation_Combined Feed to Toluene Column C670 : Detailed weight % Composition_Oxygen_wt%\n",
              "001-001                                                0.0                                                                ...                                                0.0                                                            \n",
              "001-002                                                0.0                                                                ...                                                0.0                                                            \n",
              "001-003                                                0.0                                                                ...                                                0.0                                                            \n",
              "\n",
              "[3 rows x 41 columns]"
            ]
          },
          "metadata": {
            "tags": []
          },
          "execution_count": 9
        }
      ]
    },
    {
      "cell_type": "code",
      "metadata": {
        "colab": {
          "base_uri": "https://localhost:8080/"
        },
        "id": "pBPtLtAeUG3A",
        "outputId": "ddc794f0-d1b1-4494-c329-890e7b5b4a82"
      },
      "source": [
        "np.allclose(combined_pred.values,combined.values)"
      ],
      "execution_count": 10,
      "outputs": [
        {
          "output_type": "execute_result",
          "data": {
            "text/plain": [
              "True"
            ]
          },
          "metadata": {
            "tags": []
          },
          "execution_count": 10
        }
      ]
    },
    {
      "cell_type": "markdown",
      "metadata": {
        "id": "1IIX4P1gEKnQ"
      },
      "source": [
        "# bf(c670混參比例) 41*2 check"
      ]
    },
    {
      "cell_type": "markdown",
      "metadata": {
        "id": "GDPTuxnaGAEw"
      },
      "source": [
        "# 修改前"
      ]
    },
    {
      "cell_type": "code",
      "metadata": {
        "id": "G6mjtjWFAgeQ",
        "colab": {
          "base_uri": "https://localhost:8080/"
        },
        "outputId": "672fd4d0-d638-4ca2-8a4f-cc8734094d90"
      },
      "source": [
        "np.allclose(c670_df[c670_col['upper_bf']].values+c670_df[c670_col['lower_bf']].values,1.0)"
      ],
      "execution_count": 11,
      "outputs": [
        {
          "output_type": "execute_result",
          "data": {
            "text/plain": [
              "True"
            ]
          },
          "metadata": {
            "tags": []
          },
          "execution_count": 11
        }
      ]
    },
    {
      "cell_type": "code",
      "metadata": {
        "id": "ogqRFKi7AgkQ",
        "colab": {
          "base_uri": "https://localhost:8080/",
          "height": 602
        },
        "outputId": "e3c4f473-00d3-4ac3-caef-c9b65a9a0db9"
      },
      "source": [
        "# 根據條件修改值\n",
        "a = c670_df[c670_col['upper_bf']+c670_col['lower_bf']]\n",
        "紫色零點零欄位 = a[a==0.0].dropna(axis=1).columns.tolist()\n",
        "紫色零點一欄位 = a[a==0.1].dropna(axis=1).columns.tolist()\n",
        "紫色零點九欄位 = a[a==0.9].dropna(axis=1).columns.tolist()\n",
        "紫色一點零欄位 = a[a==1.0].dropna(axis=1).columns.tolist()\n",
        "print('修改欄位數量:',len(紫色零點零欄位+紫色零點一欄位+紫色零點九欄位+紫色一點零欄位))\n",
        "c670_df.loc[:,紫色零點零欄位] = 0.0001 \n",
        "c670_df.loc[:,紫色零點一欄位] = 0.0001 \n",
        "c670_df.loc[:,紫色零點九欄位] = 0.9999\n",
        "c670_df.loc[:,紫色一點零欄位] = 0.9999\n",
        "c670_df[紫色零點零欄位+紫色零點一欄位+紫色零點九欄位+紫色一點零欄位].head()\n",
        "index_0001 = 紫色零點零欄位+紫色零點一欄位\n",
        "index_9999 = 紫色零點九欄位+紫色一點零欄位\n",
        "\n",
        "# 確認質量平衡\n",
        "print(np.allclose(c670_df[c670_col['upper_bf']].values+c670_df[c670_col['lower_bf']].values,1.0))\n",
        "\n",
        "# 用bf轉換成combined\n",
        "x1 = c670_df.loc[idx,c670_col['xTray43']].values\n",
        "x2 = c670_df.loc[idx,c670_col['xTray54']].values\n",
        "bf1 = c670_df.loc[idx,c670_col['upper_bf']].values\n",
        "bf2 = c670_df.loc[idx,c670_col['lower_bf']].values\n",
        "print(x1.shape,x2.shape,bf1.shape,bf2.shape)\n",
        "combined_real = c670_df.loc[idx,c670_col['combined']].values\n",
        "combined_pred = x1*bf1 + x2*bf2\n",
        "print(np.allclose(combined_real,combined_pred))\n",
        "plt.imshow(combined_real[:41])\n",
        "plt.show()\n",
        "plt.imshow(combined_pred[:41])"
      ],
      "execution_count": 12,
      "outputs": [
        {
          "output_type": "stream",
          "text": [
            "修改欄位數量: 24\n",
            "True\n",
            "(15547, 41) (15547, 41) (15547, 41) (15547, 41)\n",
            "False\n"
          ],
          "name": "stdout"
        },
        {
          "output_type": "display_data",
          "data": {
            "image/png": "[encoded data removed]",
            "text/plain": [
              "<Figure size 432x288 with 1 Axes>"
            ]
          },
          "metadata": {
            "tags": [],
            "needs_background": "light"
          }
        },
        {
          "output_type": "execute_result",
          "data": {
            "text/plain": [
              "<matplotlib.image.AxesImage at 0x7f827790ef50>"
            ]
          },
          "metadata": {
            "tags": []
          },
          "execution_count": 12
        },
        {
          "output_type": "display_data",
          "data": {
            "image/png": "[encoded data removed]",
            "text/plain": [
              "<Figure size 432x288 with 1 Axes>"
            ]
          },
          "metadata": {
            "tags": [],
            "needs_background": "light"
          }
        }
      ]
    },
    {
      "cell_type": "markdown",
      "metadata": {
        "id": "ZouCZLUMPSZh"
      },
      "source": [
        "# check massblance"
      ]
    },
    {
      "cell_type": "code",
      "metadata": {
        "id": "VhpD6TUHaF7d",
        "colab": {
          "base_uri": "https://localhost:8080/"
        },
        "outputId": "1acfdafc-d906-49ca-d668-89a9ba3157c8"
      },
      "source": [
        "np.allclose(c620_mb.iloc[:,0].values,c620_mb.iloc[:,1:].sum(axis=1).values),\\\n",
        "np.allclose(c660_mb.iloc[:,0].values,c660_mb.iloc[:,1:].sum(axis=1).values),\\\n",
        "np.allclose(c670_mb.iloc[:,[0,1]].sum(axis=1).values,c670_mb.iloc[:,[2,3]].sum(axis=1).values)"
      ],
      "execution_count": 13,
      "outputs": [
        {
          "output_type": "execute_result",
          "data": {
            "text/plain": [
              "(True, True, True)"
            ]
          },
          "metadata": {
            "tags": []
          },
          "execution_count": 13
        }
      ]
    },
    {
      "cell_type": "code",
      "metadata": {
        "id": "IIzhF6mpSFHs"
      },
      "source": [
        "def check_massblance(df,mb,c,name):\n",
        "  if (name == 'c620') or (name == 'c660'):\n",
        "    feed = df[c['x41']]*mb.iloc[:,0].values.reshape(-1,1)\n",
        "    wt1 = df[c['vent_gas_x']]*mb.iloc[:,1].values.reshape(-1,1)\n",
        "    wt2 = df[c['distillate_x']]*mb.iloc[:,2].values.reshape(-1,1)\n",
        "    wt3 = df[c['sidedraw_x']]*mb.iloc[:,3].values.reshape(-1,1)\n",
        "    wt4 = df[c['bottoms_x']]*mb.iloc[:,4].values.reshape(-1,1)\n",
        "    a = feed.values\n",
        "    b = wt1.values+wt2.values+wt3.values+wt4.values\n",
        "    print(np.allclose(a,b,atol=2e-2))\n",
        "    print('mean error:',np.abs(a-b).mean())\n",
        "    return pd.DataFrame(a),pd.DataFrame(b)\n",
        "  elif name == 'c670':\n",
        "    feed1 = df[c['xTray43']]*mb.loc[:,'Toluene Column C670 Operation_Feed Properties \\n@ Tray 43_Mass Flow Rate_ton/hr'].values.reshape(-1,1)\n",
        "    feed2 = df[c['xTray54']]*mb.loc[:,'Toluene Column C670 Operation_Feed Properties \\n@ Tray 54_Mass Flow Rate_ton/hr'].values.reshape(-1,1)\n",
        "    wt1 = df[c['distillate_x']]*mb.iloc[:,2].values.reshape(-1,1)\n",
        "    wt2 = df[c['bottoms_x']]*mb.iloc[:,3].values.reshape(-1,1)\n",
        "    a = feed1.values+feed2.values\n",
        "    b = wt1.values+wt2.values\n",
        "    print(np.allclose(a,b,atol=2e-2))\n",
        "    print('mean error:',np.abs(a-b).mean())\n",
        "    return pd.DataFrame(a),pd.DataFrame(b)"
      ],
      "execution_count": 14,
      "outputs": []
    },
    {
      "cell_type": "code",
      "metadata": {
        "id": "wsDrKDafS4or",
        "colab": {
          "base_uri": "https://localhost:8080/",
          "height": 568
        },
        "outputId": "55b1bf23-e9ae-479e-c6a4-986008f93543"
      },
      "source": [
        "a,b = check_massblance(c620_df,c620_mb,c620_col,'c620')\n",
        "idx = a.sample(41).index\n",
        "plt.imshow(a.loc[idx].values)\n",
        "plt.show()\n",
        "plt.imshow(b.loc[idx].values)"
      ],
      "execution_count": 15,
      "outputs": [
        {
          "output_type": "stream",
          "text": [
            "True\n",
            "mean error: 6.271399251612663e-05\n"
          ],
          "name": "stdout"
        },
        {
          "output_type": "display_data",
          "data": {
            "image/png": "[encoded data removed]",
            "text/plain": [
              "<Figure size 432x288 with 1 Axes>"
            ]
          },
          "metadata": {
            "tags": [],
            "needs_background": "light"
          }
        },
        {
          "output_type": "execute_result",
          "data": {
            "text/plain": [
              "<matplotlib.image.AxesImage at 0x7f82777fd890>"
            ]
          },
          "metadata": {
            "tags": []
          },
          "execution_count": 15
        },
        {
          "output_type": "display_data",
          "data": {
            "image/png": "[encoded data removed]",
            "text/plain": [
              "<Figure size 432x288 with 1 Axes>"
            ]
          },
          "metadata": {
            "tags": [],
            "needs_background": "light"
          }
        }
      ]
    },
    {
      "cell_type": "code",
      "metadata": {
        "id": "bKQhnZZVYdsx",
        "colab": {
          "base_uri": "https://localhost:8080/"
        },
        "outputId": "332148e3-8693-42d6-9d40-a3e2c6633b55"
      },
      "source": [
        "a.loc[idx].values,b.loc[idx].values"
      ],
      "execution_count": 16,
      "outputs": [
        {
          "output_type": "execute_result",
          "data": {
            "text/plain": [
              "(array([[ 0.        ,  3.2483043 , 78.77138216, ..., 24.52469668,\n",
              "          0.        ,  0.        ],\n",
              "        [ 0.        ,  3.24830459, 78.77138916, ..., 24.52469886,\n",
              "          0.        ,  0.        ],\n",
              "        [ 0.        ,  4.04793601, 97.79812586, ..., 18.45858841,\n",
              "          0.        ,  0.        ],\n",
              "        ...,\n",
              "        [ 0.        ,  3.76802653, 91.0355229 , ..., 17.18220033,\n",
              "          0.        ,  0.        ],\n",
              "        [ 0.        ,  4.0479342 , 97.79807179, ..., 18.45857757,\n",
              "          0.        ,  0.        ],\n",
              "        [ 0.        ,  3.45564235, 83.79931747, ..., 26.09009805,\n",
              "          0.        ,  0.        ]]),\n",
              " array([[ 0.        ,  3.24830406, 78.77136993, ..., 24.52469577,\n",
              "          0.        ,  0.        ],\n",
              "        [ 0.        ,  3.24830446, 78.77139145, ..., 24.52469227,\n",
              "          0.        ,  0.        ],\n",
              "        [ 0.        ,  4.04793672, 97.79814502, ..., 18.45859398,\n",
              "          0.        ,  0.        ],\n",
              "        ...,\n",
              "        [ 0.        ,  3.76802623, 91.03551803, ..., 17.18220077,\n",
              "          0.        ,  0.        ],\n",
              "        [ 0.        ,  4.04793521, 97.79810382, ..., 18.45858123,\n",
              "          0.        ,  0.        ],\n",
              "        [ 0.        ,  3.45564304, 83.7993556 , ..., 26.09010201,\n",
              "          0.        ,  0.        ]]))"
            ]
          },
          "metadata": {
            "tags": []
          },
          "execution_count": 16
        }
      ]
    },
    {
      "cell_type": "code",
      "metadata": {
        "id": "O9UfsqjDQH_Q",
        "colab": {
          "base_uri": "https://localhost:8080/",
          "height": 568
        },
        "outputId": "67491126-616f-487c-c0a3-93532ee4e80d"
      },
      "source": [
        "a,b = check_massblance(c660_df,c660_mb,c660_col,'c660')\n",
        "idx = a.sample(41).index\n",
        "plt.imshow(a.loc[idx].values)\n",
        "plt.show()\n",
        "plt.imshow(b.loc[idx].values)"
      ],
      "execution_count": 17,
      "outputs": [
        {
          "output_type": "stream",
          "text": [
            "True\n",
            "mean error: 2.9024358135451845e-05\n"
          ],
          "name": "stdout"
        },
        {
          "output_type": "display_data",
          "data": {
            "image/png": "[encoded data removed]",
            "text/plain": [
              "<Figure size 432x288 with 1 Axes>"
            ]
          },
          "metadata": {
            "tags": [],
            "needs_background": "light"
          }
        },
        {
          "output_type": "execute_result",
          "data": {
            "text/plain": [
              "<matplotlib.image.AxesImage at 0x7f82776e5710>"
            ]
          },
          "metadata": {
            "tags": []
          },
          "execution_count": 17
        },
        {
          "output_type": "display_data",
          "data": {
            "image/png": "[encoded data removed]",
            "text/plain": [
              "<Figure size 432x288 with 1 Axes>"
            ]
          },
          "metadata": {
            "tags": [],
            "needs_background": "light"
          }
        }
      ]
    },
    {
      "cell_type": "code",
      "metadata": {
        "id": "Rm7zYQjHYcuw",
        "colab": {
          "base_uri": "https://localhost:8080/"
        },
        "outputId": "b3f0bfe7-83a6-449e-fe9b-8df72f360eb5"
      },
      "source": [
        "a.loc[idx].values,b.loc[idx].values"
      ],
      "execution_count": 18,
      "outputs": [
        {
          "output_type": "execute_result",
          "data": {
            "text/plain": [
              "(array([[0.00000000e+00, 1.12550265e-02, 7.28368743e-01, ...,\n",
              "         1.90448472e-14, 0.00000000e+00, 0.00000000e+00],\n",
              "        [0.00000000e+00, 1.06931787e-02, 6.91968211e-01, ...,\n",
              "         1.76720783e-14, 0.00000000e+00, 0.00000000e+00],\n",
              "        [0.00000000e+00, 7.56268073e-03, 4.90367078e-01, ...,\n",
              "         1.95514152e-14, 0.00000000e+00, 0.00000000e+00],\n",
              "        ...,\n",
              "        [0.00000000e+00, 9.25339212e-03, 5.98721301e-01, ...,\n",
              "         1.57924840e-14, 0.00000000e+00, 0.00000000e+00],\n",
              "        [0.00000000e+00, 1.42681392e-02, 9.27267939e-01, ...,\n",
              "         4.26621273e-13, 0.00000000e+00, 0.00000000e+00],\n",
              "        [0.00000000e+00, 1.00624645e-02, 6.51157832e-01, ...,\n",
              "         1.71311003e-14, 0.00000000e+00, 0.00000000e+00]]),\n",
              " array([[0.00000000e+00, 1.12550271e-02, 7.28368822e-01, ...,\n",
              "         1.90448498e-14, 0.00000000e+00, 0.00000000e+00],\n",
              "        [0.00000000e+00, 1.06931781e-02, 6.91968297e-01, ...,\n",
              "         1.76720808e-14, 0.00000000e+00, 0.00000000e+00],\n",
              "        [0.00000000e+00, 7.56268106e-03, 4.90367105e-01, ...,\n",
              "         1.95514163e-14, 0.00000000e+00, 0.00000000e+00],\n",
              "        ...,\n",
              "        [0.00000000e+00, 9.25339384e-03, 5.98721409e-01, ...,\n",
              "         1.57924871e-14, 0.00000000e+00, 0.00000000e+00],\n",
              "        [0.00000000e+00, 1.42681386e-02, 9.27267974e-01, ...,\n",
              "         4.26621355e-13, 0.00000000e+00, 0.00000000e+00],\n",
              "        [0.00000000e+00, 1.00624630e-02, 6.51157801e-01, ...,\n",
              "         1.71310971e-14, 0.00000000e+00, 0.00000000e+00]]))"
            ]
          },
          "metadata": {
            "tags": []
          },
          "execution_count": 18
        }
      ]
    },
    {
      "cell_type": "code",
      "metadata": {
        "id": "ePd9caI7RfBS",
        "colab": {
          "base_uri": "https://localhost:8080/",
          "height": 568
        },
        "outputId": "00d48c29-189d-4d40-eff7-d30331bf1ab0"
      },
      "source": [
        "a,b = check_massblance(c670_df,c670_mb,c670_col,'c670')\n",
        "idx = a.sample(41).index\n",
        "plt.imshow(a.loc[idx].values)\n",
        "plt.show()\n",
        "plt.imshow(b.loc[idx].values)"
      ],
      "execution_count": 19,
      "outputs": [
        {
          "output_type": "stream",
          "text": [
            "True\n",
            "mean error: 5.118631404322684e-05\n"
          ],
          "name": "stdout"
        },
        {
          "output_type": "display_data",
          "data": {
            "image/png": "[encoded data removed]",
            "text/plain": [
              "<Figure size 432x288 with 1 Axes>"
            ]
          },
          "metadata": {
            "tags": [],
            "needs_background": "light"
          }
        },
        {
          "output_type": "execute_result",
          "data": {
            "text/plain": [
              "<matplotlib.image.AxesImage at 0x7f827764e4d0>"
            ]
          },
          "metadata": {
            "tags": []
          },
          "execution_count": 19
        },
        {
          "output_type": "display_data",
          "data": {
            "image/png": "[encoded data removed]",
            "text/plain": [
              "<Figure size 432x288 with 1 Axes>"
            ]
          },
          "metadata": {
            "tags": [],
            "needs_background": "light"
          }
        }
      ]
    },
    {
      "cell_type": "code",
      "metadata": {
        "id": "JOtWpP3BW7cI",
        "colab": {
          "base_uri": "https://localhost:8080/"
        },
        "outputId": "16c2445d-0ef8-4d4b-b7c2-df92679ffa13"
      },
      "source": [
        "a.loc[idx].values,b.loc[idx].values"
      ],
      "execution_count": 20,
      "outputs": [
        {
          "output_type": "execute_result",
          "data": {
            "text/plain": [
              "(array([[ 0.        ,  0.        ,  0.        , ..., 22.82883973,\n",
              "          0.        ,  0.        ],\n",
              "        [ 0.        ,  0.        ,  0.        , ..., 18.45858785,\n",
              "          0.        ,  0.        ],\n",
              "        [ 0.        ,  0.        ,  0.        , ..., 21.26344545,\n",
              "          0.        ,  0.        ],\n",
              "        ...,\n",
              "        [ 0.        ,  0.        ,  0.        , ..., 19.6367995 ,\n",
              "          0.        ,  0.        ],\n",
              "        [ 0.        ,  0.        ,  0.        , ..., 22.84336877,\n",
              "          0.        ,  0.        ],\n",
              "        [ 0.        ,  0.        ,  0.        , ..., 19.63679717,\n",
              "          0.        ,  0.        ]]),\n",
              " array([[ 0.        ,  0.        ,  0.        , ..., 22.82884396,\n",
              "          0.        ,  0.        ],\n",
              "        [ 0.        ,  0.        ,  0.        , ..., 18.45859023,\n",
              "          0.        ,  0.        ],\n",
              "        [ 0.        ,  0.        ,  0.        , ..., 21.26344018,\n",
              "          0.        ,  0.        ],\n",
              "        ...,\n",
              "        [ 0.        ,  0.        ,  0.        , ..., 19.63679728,\n",
              "          0.        ,  0.        ],\n",
              "        [ 0.        ,  0.        ,  0.        , ..., 22.84337011,\n",
              "          0.        ,  0.        ],\n",
              "        [ 0.        ,  0.        ,  0.        , ..., 19.63679733,\n",
              "          0.        ,  0.        ]]))"
            ]
          },
          "metadata": {
            "tags": []
          },
          "execution_count": 20
        }
      ]
    },
    {
      "cell_type": "markdown",
      "metadata": {
        "id": "qOrzgmD68Z3_"
      },
      "source": [
        "# 用 fna,xna,s_vent,s_dist,s_side,s_bot 算 f_vent,f_dist,f_side,f_bot"
      ]
    },
    {
      "cell_type": "code",
      "metadata": {
        "id": "xuRp8Pna-Gr4",
        "colab": {
          "base_uri": "https://localhost:8080/"
        },
        "outputId": "4e7e23a8-a880-429a-dc92-629ca3384864"
      },
      "source": [
        "fna = c620_df['Tatoray Stripper C620 Operation_Feed Properties_Mass Flow Rate_ton/hr'].values.reshape(-1,1)\n",
        "xna = c620_df.filter(regex='Combined Feed to Tatoray Stripper C620_Detailed Composition').iloc[:,:41].values\n",
        "s_vent = c620_df.filter(regex='Tatoray Stripper C620 Split Factors Calculation_Split Factor for Individual Component to Tatoray Stripper C620 Vent Gas').iloc[:,:41].values\n",
        "s_dist = c620_df.filter(regex='Tatoray Stripper C620 Split Factors Calculation_Split Factor for Individual Component to Tatoray Stripper C620 Distillate').iloc[:,:41].values\n",
        "s_side = c620_df.filter(regex='Tatoray Stripper C620 Split Factors Calculation_Split Factor for Individual Component to Tatoray Stripper C620 Sidedraw').iloc[:,:41].values\n",
        "s_bot = c620_df.filter(regex='Tatoray Stripper C620 Split Factors Calculation_Split Factor for Individual Component to Tatoray Stripper C620 Bottoms').iloc[:,:41].values\n",
        "f_vent = c620_df['Tatoray Stripper C620 Operation_Vent Gas Production Rate and Composition_Mass Flow Rate_ton/hr'].values\n",
        "f_dist = c620_df['Tatoray Stripper C620 Operation_Distillate Production Rate and Composition_Mass Flow Rate_ton/hr'].values\n",
        "f_side = c620_df['Tatoray Stripper C620 Operation_Sidedraw Production Rate and Composition_Mass Flow Rate_ton/hr'].values\n",
        "f_bot = c620_df['Tatoray Stripper C620 Operation_Bottoms Production Rate and Composition_Mass Flow Rate_ton/hr'].values\n",
        "print(np.allclose(np.sum(fna*xna*s_vent*0.01,axis=1),f_vent))\n",
        "print(np.allclose(np.sum(fna*xna*s_dist*0.01,axis=1),f_dist))\n",
        "print(np.allclose(np.sum(fna*xna*s_side*0.01,axis=1),f_side))\n",
        "print(np.allclose(np.sum(fna*xna*s_bot*0.01,axis=1),f_bot))"
      ],
      "execution_count": 21,
      "outputs": [
        {
          "output_type": "stream",
          "text": [
            "True\n",
            "True\n",
            "True\n",
            "True\n"
          ],
          "name": "stdout"
        }
      ]
    },
    {
      "cell_type": "markdown",
      "metadata": {
        "id": "bRehOP-TIAg6"
      },
      "source": [
        "# 用 wt 和 mass_flow 算 BF"
      ]
    },
    {
      "cell_type": "code",
      "metadata": {
        "id": "fXzEcMkN_SpO",
        "colab": {
          "base_uri": "https://localhost:8080/",
          "height": 340
        },
        "outputId": "5ead60a7-a684-4d8f-a1f9-9a5433082166"
      },
      "source": [
        "c670_df.filter(regex='Flow Rate_ton').head()"
      ],
      "execution_count": 22,
      "outputs": [
        {
          "output_type": "execute_result",
          "data": {
            "text/html": [
              "<div>\n",
              "<style scoped>\n",
              "    .dataframe tbody tr th:only-of-type {\n",
              "        vertical-align: middle;\n",
              "    }\n",
              "\n",
              "    .dataframe tbody tr th {\n",
              "        vertical-align: top;\n",
              "    }\n",
              "\n",
              "    .dataframe thead th {\n",
              "        text-align: right;\n",
              "    }\n",
              "</style>\n",
              "<table border=\"1\" class=\"dataframe\">\n",
              "  <thead>\n",
              "    <tr style=\"text-align: right;\">\n",
              "      <th></th>\n",
              "      <th>Combined Feed to Toluene Column C670 @ Tray 43_Flow Rate_Mass Flow Rate_ton/hr</th>\n",
              "      <th>Feed to Toluene Column C670 @ Tray 54_Flow Rate_Mass Flow Rate_ton/hr</th>\n",
              "      <th>Toluene Column C670 Operation_Feed Properties \\n@ Tray 43_Mass Flow Rate_ton/hr</th>\n",
              "      <th>Toluene Column C670 Operation_Feed Properties \\n@ Tray 54_Mass Flow Rate_ton/hr</th>\n",
              "      <th>Toluene Column C670 Operation_Distillate Production Rate and Composition_Mass Flow Rate_ton/hr</th>\n",
              "      <th>Toluene Column C670 Operation_Bottoms Production Rate and Composition_Mass Flow Rate_ton/hr</th>\n",
              "    </tr>\n",
              "  </thead>\n",
              "  <tbody>\n",
              "    <tr>\n",
              "      <th>001-001</th>\n",
              "      <td>18.150902</td>\n",
              "      <td>124.981539</td>\n",
              "      <td>18.150902</td>\n",
              "      <td>124.981539</td>\n",
              "      <td>72.607789</td>\n",
              "      <td>70.524656</td>\n",
              "    </tr>\n",
              "    <tr>\n",
              "      <th>001-002</th>\n",
              "      <td>18.151391</td>\n",
              "      <td>124.981555</td>\n",
              "      <td>18.151391</td>\n",
              "      <td>124.981555</td>\n",
              "      <td>72.608289</td>\n",
              "      <td>70.524656</td>\n",
              "    </tr>\n",
              "    <tr>\n",
              "      <th>001-003</th>\n",
              "      <td>18.151730</td>\n",
              "      <td>124.981555</td>\n",
              "      <td>18.151730</td>\n",
              "      <td>124.981555</td>\n",
              "      <td>72.608625</td>\n",
              "      <td>70.524656</td>\n",
              "    </tr>\n",
              "    <tr>\n",
              "      <th>001-004</th>\n",
              "      <td>18.118328</td>\n",
              "      <td>125.012984</td>\n",
              "      <td>18.118328</td>\n",
              "      <td>125.012984</td>\n",
              "      <td>72.606664</td>\n",
              "      <td>70.524656</td>\n",
              "    </tr>\n",
              "    <tr>\n",
              "      <th>001-005</th>\n",
              "      <td>18.118820</td>\n",
              "      <td>125.012984</td>\n",
              "      <td>18.118820</td>\n",
              "      <td>125.012984</td>\n",
              "      <td>72.607156</td>\n",
              "      <td>70.524656</td>\n",
              "    </tr>\n",
              "  </tbody>\n",
              "</table>\n",
              "</div>"
            ],
            "text/plain": [
              "         Combined Feed to Toluene Column C670 @ Tray 43_Flow Rate_Mass Flow Rate_ton/hr  ...  Toluene Column C670 Operation_Bottoms Production Rate and Composition_Mass Flow Rate_ton/hr\n",
              "001-001                                          18.150902                               ...                                          70.524656                                          \n",
              "001-002                                          18.151391                               ...                                          70.524656                                          \n",
              "001-003                                          18.151730                               ...                                          70.524656                                          \n",
              "001-004                                          18.118328                               ...                                          70.524656                                          \n",
              "001-005                                          18.118820                               ...                                          70.524656                                          \n",
              "\n",
              "[5 rows x 6 columns]"
            ]
          },
          "metadata": {
            "tags": []
          },
          "execution_count": 22
        }
      ]
    },
    {
      "cell_type": "code",
      "metadata": {
        "id": "mVXma44CIGB7",
        "colab": {
          "base_uri": "https://localhost:8080/"
        },
        "outputId": "00ceedfc-7989-407a-ecab-a61acebb9666"
      },
      "source": [
        "c620_bot_x = c620_df[c620_col['bottoms_x']].values\n",
        "c660_bot_x = c660_df[c660_col['bottoms_x']].values\n",
        "c620_mf_bot = c620_mb.loc[:,'Tatoray Stripper C620 Operation_Bottoms Production Rate and Composition_Mass Flow Rate_ton/hr'].values.reshape(-1,1)\n",
        "c660_mf_bot = c660_mb.loc[:,'Benzene Column C660 Operation_Bottoms Production Rate and Composition_Mass Flow Rate_ton/hr'].values.reshape(-1,1)\n",
        "\n",
        "a = (c620_bot_x*c620_mf_bot)/(c620_bot_x*c620_mf_bot+c660_bot_x*c660_mf_bot)\n",
        "a = pd.DataFrame(a,columns=c670_col['lower_bf'])\n",
        "a[list(set(index_9999)&set(a.columns))] = 0.9999\n",
        "a[list(set(index_0001)&set(a.columns))] = 0.0001\n",
        "\n",
        "b = 1-a.values\n",
        "b = pd.DataFrame(b,columns=c670_col['upper_bf'])\n",
        "\n",
        "print(np.allclose(a,c670_df[c670_col['lower_bf']].values))\n",
        "print(np.allclose(b,c670_df[c670_col['upper_bf']].values))"
      ],
      "execution_count": 23,
      "outputs": [
        {
          "output_type": "stream",
          "text": [
            "True\n",
            "True\n"
          ],
          "name": "stdout"
        },
        {
          "output_type": "stream",
          "text": [
            "/usr/local/lib/python3.7/dist-packages/ipykernel_launcher.py:6: RuntimeWarning: invalid value encountered in true_divide\n",
            "  \n"
          ],
          "name": "stderr"
        }
      ]
    },
    {
      "cell_type": "code",
      "metadata": {
        "id": "fvgGa5iSXRDh",
        "colab": {
          "base_uri": "https://localhost:8080/"
        },
        "outputId": "9fd3162b-601c-4deb-c7ec-8adbe4c0a86f"
      },
      "source": [
        "joblib.dump(index_9999,'/content/drive/MyDrive/台塑輕油案子/data/c620/cleaned/index_9999.pkl')\n",
        "joblib.dump(index_0001,'/content/drive/MyDrive/台塑輕油案子/data/c620/cleaned/index_0001.pkl')"
      ],
      "execution_count": 24,
      "outputs": [
        {
          "output_type": "execute_result",
          "data": {
            "text/plain": [
              "['/content/drive/MyDrive/台塑輕油案子/data/c620/cleaned/index_0001.pkl']"
            ]
          },
          "metadata": {
            "tags": []
          },
          "execution_count": 24
        }
      ]
    },
    {
      "cell_type": "code",
      "metadata": {
        "id": "tPCs73gGULCr",
        "colab": {
          "base_uri": "https://localhost:8080/"
        },
        "outputId": "96d74a17-5f09-4925-8ec4-5a7913d0a612"
      },
      "source": [
        "idx = np.random.choice([*range(len(a))],size=1)\n",
        "count = 0\n",
        "for i,j in zip(a.values[idx[0]],c670_df[c670_col['lower_bf']].values[idx[0]]):\n",
        "  print(count,i.round(4),j.round(4))\n",
        "  count += 1"
      ],
      "execution_count": 25,
      "outputs": [
        {
          "output_type": "stream",
          "text": [
            "0 0.9999 0.9999\n",
            "1 0.9999 0.9999\n",
            "2 0.9999 0.9999\n",
            "3 0.9999 0.9999\n",
            "4 0.9999 0.9999\n",
            "5 0.9999 0.9999\n",
            "6 0.9999 0.9999\n",
            "7 0.9937 0.9937\n",
            "8 0.9993 0.9993\n",
            "9 0.9884 0.9884\n",
            "10 0.9999 0.9999\n",
            "11 0.5636 0.5636\n",
            "12 0.5918 0.5918\n",
            "13 0.4438 0.4438\n",
            "14 0.5655 0.5655\n",
            "15 0.6151 0.6151\n",
            "16 0.5103 0.5103\n",
            "17 0.9591 0.9591\n",
            "18 0.969 0.969\n",
            "19 0.9865 0.9865\n",
            "20 0.5157 0.5157\n",
            "21 1.0 1.0\n",
            "22 0.0833 0.0833\n",
            "23 1.0 1.0\n",
            "24 0.9989 0.9989\n",
            "25 0.9979 0.9979\n",
            "26 0.9992 0.9992\n",
            "27 0.9982 0.9982\n",
            "28 0.9999 0.9999\n",
            "29 0.0001 0.0001\n",
            "30 1.0 1.0\n",
            "31 1.0 1.0\n",
            "32 0.0973 0.0973\n",
            "33 0.9087 0.9087\n",
            "34 1.0 1.0\n",
            "35 0.9999 0.9999\n",
            "36 1.0 1.0\n",
            "37 1.0 1.0\n",
            "38 1.0 1.0\n",
            "39 0.0001 0.0001\n",
            "40 0.0001 0.0001\n"
          ],
          "name": "stdout"
        }
      ]
    },
    {
      "cell_type": "code",
      "metadata": {
        "id": "6qOUVh75Vb-A",
        "colab": {
          "base_uri": "https://localhost:8080/"
        },
        "outputId": "fca2282c-3689-476f-a165-7f25bd8fa71c"
      },
      "source": [
        "idx = np.random.choice([*range(len(a))],size=1)\n",
        "for i,j in zip(b.values[idx[0]],c670_df[c670_col['upper_bf']].values[idx[0]]):\n",
        "  print(i.round(4),j.round(4))"
      ],
      "execution_count": 26,
      "outputs": [
        {
          "output_type": "stream",
          "text": [
            "0.0001 0.0001\n",
            "0.0001 0.0001\n",
            "0.0001 0.0001\n",
            "0.0001 0.0001\n",
            "0.0001 0.0001\n",
            "0.0001 0.0001\n",
            "0.0001 0.0001\n",
            "0.0027 0.0027\n",
            "0.0002 0.0002\n",
            "0.0045 0.0045\n",
            "0.0001 0.0001\n",
            "0.266 0.266\n",
            "0.2146 0.2146\n",
            "0.3786 0.3786\n",
            "0.299 0.299\n",
            "0.2585 0.2585\n",
            "0.3364 0.3364\n",
            "0.0217 0.0217\n",
            "0.0164 0.0164\n",
            "0.0071 0.0071\n",
            "0.345 0.345\n",
            "0.0 0.0\n",
            "0.8607 0.8607\n",
            "0.0 0.0\n",
            "0.0006 0.0006\n",
            "0.0011 0.0011\n",
            "0.0004 0.0004\n",
            "0.001 0.001\n",
            "0.0 0.0\n",
            "0.9999 0.9999\n",
            "0.0 0.0\n",
            "0.0 0.0\n",
            "0.8303 0.8303\n",
            "0.0503 0.0503\n",
            "0.0 0.0\n",
            "0.0001 0.0001\n",
            "0.0 0.0\n",
            "0.0 0.0\n",
            "0.0 0.0\n",
            "0.9999 0.9999\n",
            "0.9999 0.9999\n"
          ],
          "name": "stdout"
        }
      ]
    },
    {
      "cell_type": "markdown",
      "metadata": {
        "id": "1VLV4A_k2Lgz"
      },
      "source": [
        "# m3/hr to ton/hr"
      ]
    },
    {
      "cell_type": "markdown",
      "metadata": {
        "id": "ZrXaszn73QG7"
      },
      "source": [
        "![img](https://i.imgur.com/8i2JyNI.jpg)"
      ]
    },
    {
      "cell_type": "code",
      "metadata": {
        "id": "s0kZP5_W6kO-"
      },
      "source": [
        "V615_density = 0.8626\n",
        "C820_density = 0.8731\n",
        "T651_density = 0.8749"
      ],
      "execution_count": 27,
      "outputs": []
    },
    {
      "cell_type": "markdown",
      "metadata": {
        "id": "AG9h1aWj-DfN"
      },
      "source": [
        "# c620 m3/hr to ton/hr"
      ]
    },
    {
      "cell_type": "code",
      "metadata": {
        "id": "O-kLocHwWt2I",
        "colab": {
          "base_uri": "https://localhost:8080/"
        },
        "outputId": "f5b9380f-5e14-4b26-cc15-0f5e94613866"
      },
      "source": [
        "commom_idx = list(set(c620_df.index)&set(icg_df.index))\n",
        "c620_feed_rate_ton = c620_df.loc[commom_idx,['Tatoray Stripper C620 Operation_Feed Properties_Mass Flow Rate_ton/hr']].values\n",
        "V615_Btm_m3 = icg_df.loc[commom_idx,'Simulation Case Conditions_Feed Rate_Feed from V615 Btm_m3/hr'].values.reshape(-1,1)\n",
        "C820_Dist_m3 = icg_df.loc[commom_idx,'Simulation Case Conditions_Feed Rate_Feed from C820 Dist_m3/hr'].values.reshape(-1,1)\n",
        "V615_Btm_ton = V615_Btm_m3*V615_density\n",
        "C820_Dist_ton = C820_Dist_m3*C820_density\n",
        "c620_feed_rate_ton_hat = V615_Btm_ton+C820_Dist_ton\n",
        "for i,j in zip(c620_feed_rate_ton[:5],c620_feed_rate_ton_hat[:5]):\n",
        "  print(i,j)\n",
        "print('max abs error:',abs(c620_feed_rate_ton-c620_feed_rate_ton_hat).max())"
      ],
      "execution_count": 28,
      "outputs": [
        {
          "output_type": "stream",
          "text": [
            "[185.8758438] [185.6165]\n",
            "[153.9118594] [153.7003]\n",
            "[175.0146406] [175.2653]\n",
            "[153.4831406] [153.7003]\n",
            "[185.8758438] [185.6165]\n",
            "max abs error: 0.26670310000000086\n"
          ],
          "name": "stdout"
        }
      ]
    },
    {
      "cell_type": "markdown",
      "metadata": {
        "id": "RbVW6yYW_oOB"
      },
      "source": [
        "# t651 m3/hr to t651 ton/hr"
      ]
    },
    {
      "cell_type": "code",
      "metadata": {
        "id": "iXeQ5T9B9zId",
        "colab": {
          "base_uri": "https://localhost:8080/"
        },
        "outputId": "6baf6c67-f29c-4ec7-e0a6-4ca29308258a"
      },
      "source": [
        "commom_idx = list(set(t651_df.index)&set(icg_df.index))\n",
        "t651_m3 = icg_df.loc[commom_idx,'Simulation Case Conditions_Feed Rate_Feed from T651_m3/hr'].values\n",
        "t651_ton = t651_df.loc[commom_idx,'Extract Feed from T651_Flow Rate & Temp/Press._Mass Flow Rate_ton/hr'].values\n",
        "t651_ton_hat = t651_m3*T651_density\n",
        "for i,j in zip(t651_ton[:5],t651_ton_hat[:5]):\n",
        "  print(i,j)\n",
        "print('max abs error:',abs(t651_ton-t651_ton_hat).max())"
      ],
      "execution_count": 29,
      "outputs": [
        {
          "output_type": "stream",
          "text": [
            "35.81123828 35.8709\n",
            "80.51594530999998 80.49080000000001\n",
            "62.88802734 62.9928\n",
            "62.88802734 62.9928\n",
            "49.78635938 49.8693\n",
            "max abs error: 0.13387031000000604\n"
          ],
          "name": "stdout"
        }
      ]
    },
    {
      "cell_type": "markdown",
      "metadata": {
        "id": "e64o7RTtgIy7"
      },
      "source": [
        "# 用 wt 和 mf 估算 sp"
      ]
    },
    {
      "cell_type": "code",
      "metadata": {
        "id": "pwskRdOhhBIt",
        "colab": {
          "base_uri": "https://localhost:8080/"
        },
        "outputId": "32b0811f-8e99-48ca-fe15-2b6579883896"
      },
      "source": [
        "c620_col.keys()"
      ],
      "execution_count": 30,
      "outputs": [
        {
          "output_type": "execute_result",
          "data": {
            "text/plain": [
              "dict_keys(['x41', 'case', 'yRefluxRate', 'yControl', 'yHeatDuty', 'vent_gas_x', 'distillate_x', 'sidedraw_x', 'bottoms_x', 'vent_gas_sf', 'distillate_sf', 'sidedraw_sf', 'bottoms_sf', 'density'])"
            ]
          },
          "metadata": {
            "tags": []
          },
          "execution_count": 30
        }
      ]
    },
    {
      "cell_type": "code",
      "metadata": {
        "id": "gBmpZLZ79dNF"
      },
      "source": [
        "feed_wt = c620_df[c620_col['x41']].values\n",
        "vent_gas_wt = c620_df[c620_col['vent_gas_x']].values\n",
        "feed_mf = c620_mb['Combined Feed to Tatoray Stripper C620_Flow Rate_Mass Flow Rate_ton/hr'].values.reshape(-1,1)\n",
        "vent_gat_mf = c620_mb['Tatoray Stripper C620 Operation_Vent Gas Production Rate and Composition_Mass Flow Rate_ton/hr'].values.reshape(-1,1)"
      ],
      "execution_count": 31,
      "outputs": []
    },
    {
      "cell_type": "code",
      "metadata": {
        "id": "Nk9WUF0jjxek",
        "colab": {
          "base_uri": "https://localhost:8080/",
          "height": 479
        },
        "outputId": "2c9b3077-008f-4681-d23a-fe3fbdf329eb"
      },
      "source": [
        "c620_df[c620_col['vent_gas_sf']].head()"
      ],
      "execution_count": 32,
      "outputs": [
        {
          "output_type": "execute_result",
          "data": {
            "text/html": [
              "<div>\n",
              "<style scoped>\n",
              "    .dataframe tbody tr th:only-of-type {\n",
              "        vertical-align: middle;\n",
              "    }\n",
              "\n",
              "    .dataframe tbody tr th {\n",
              "        vertical-align: top;\n",
              "    }\n",
              "\n",
              "    .dataframe thead th {\n",
              "        text-align: right;\n",
              "    }\n",
              "</style>\n",
              "<table border=\"1\" class=\"dataframe\">\n",
              "  <thead>\n",
              "    <tr style=\"text-align: right;\">\n",
              "      <th></th>\n",
              "      <th>Tatoray Stripper C620 Split Factors Calculation_Split Factor for Individual Component to Tatoray Stripper C620 Vent Gas_Hydrogen_Fraction</th>\n",
              "      <th>Tatoray Stripper C620 Split Factors Calculation_Split Factor for Individual Component to Tatoray Stripper C620 Vent Gas_Methane_Fraction</th>\n",
              "      <th>Tatoray Stripper C620 Split Factors Calculation_Split Factor for Individual Component to Tatoray Stripper C620 Vent Gas_Ethane_Fraction</th>\n",
              "      <th>Tatoray Stripper C620 Split Factors Calculation_Split Factor for Individual Component to Tatoray Stripper C620 Vent Gas_Propane_Fraction</th>\n",
              "      <th>Tatoray Stripper C620 Split Factors Calculation_Split Factor for Individual Component to Tatoray Stripper C620 Vent Gas_n-Butane_Fraction</th>\n",
              "      <th>Tatoray Stripper C620 Split Factors Calculation_Split Factor for Individual Component to Tatoray Stripper C620 Vent Gas_n-Pentane_Fraction</th>\n",
              "      <th>Tatoray Stripper C620 Split Factors Calculation_Split Factor for Individual Component to Tatoray Stripper C620 Vent Gas_n-Hexane_Fraction</th>\n",
              "      <th>Tatoray Stripper C620 Split Factors Calculation_Split Factor for Individual Component to Tatoray Stripper C620 Vent Gas_Benzene_Fraction</th>\n",
              "      <th>Tatoray Stripper C620 Split Factors Calculation_Split Factor for Individual Component to Tatoray Stripper C620 Vent Gas_Cyclohexane_Fraction</th>\n",
              "      <th>Tatoray Stripper C620 Split Factors Calculation_Split Factor for Individual Component to Tatoray Stripper C620 Vent Gas_n-Heptane_Fraction</th>\n",
              "      <th>Tatoray Stripper C620 Split Factors Calculation_Split Factor for Individual Component to Tatoray Stripper C620 Vent Gas_Water_Fraction</th>\n",
              "      <th>Tatoray Stripper C620 Split Factors Calculation_Split Factor for Individual Component to Tatoray Stripper C620 Vent Gas_Methylcyclohexane_Fraction</th>\n",
              "      <th>Tatoray Stripper C620 Split Factors Calculation_Split Factor for Individual Component to Tatoray Stripper C620 Vent Gas_Toluene_Fraction</th>\n",
              "      <th>Tatoray Stripper C620 Split Factors Calculation_Split Factor for Individual Component to Tatoray Stripper C620 Vent Gas_n-Octane_Fraction</th>\n",
              "      <th>Tatoray Stripper C620 Split Factors Calculation_Split Factor for Individual Component to Tatoray Stripper C620 Vent Gas_n-Propylcyclopentane_Fraction</th>\n",
              "      <th>Tatoray Stripper C620 Split Factors Calculation_Split Factor for Individual Component to Tatoray Stripper C620 Vent Gas_Ethylcyclohexane_Fraction</th>\n",
              "      <th>Tatoray Stripper C620 Split Factors Calculation_Split Factor for Individual Component to Tatoray Stripper C620 Vent Gas_Ethylbenzene_Fraction</th>\n",
              "      <th>Tatoray Stripper C620 Split Factors Calculation_Split Factor for Individual Component to Tatoray Stripper C620 Vent Gas_p-Xylene_Fraction</th>\n",
              "      <th>Tatoray Stripper C620 Split Factors Calculation_Split Factor for Individual Component to Tatoray Stripper C620 Vent Gas_m-Xylene_Fraction</th>\n",
              "      <th>Tatoray Stripper C620 Split Factors Calculation_Split Factor for Individual Component to Tatoray Stripper C620 Vent Gas_o-Xylene_Fraction</th>\n",
              "      <th>Tatoray Stripper C620 Split Factors Calculation_Split Factor for Individual Component to Tatoray Stripper C620 Vent Gas_n-Nonane_Fraction</th>\n",
              "      <th>Tatoray Stripper C620 Split Factors Calculation_Split Factor for Individual Component to Tatoray Stripper C620 Vent Gas_i-Propylbenzene_Fraction</th>\n",
              "      <th>Tatoray Stripper C620 Split Factors Calculation_Split Factor for Individual Component to Tatoray Stripper C620 Vent Gas_n-Propylcyclohexane_Fraction</th>\n",
              "      <th>Tatoray Stripper C620 Split Factors Calculation_Split Factor for Individual Component to Tatoray Stripper C620 Vent Gas_n-Propylbenzene_Fraction</th>\n",
              "      <th>Tatoray Stripper C620 Split Factors Calculation_Split Factor for Individual Component to Tatoray Stripper C620 Vent Gas_1-Methyl-3-ethylbenzene_Fraction</th>\n",
              "      <th>Tatoray Stripper C620 Split Factors Calculation_Split Factor for Individual Component to Tatoray Stripper C620 Vent Gas_1-Methyl-4-ethylbenzene_Fraction</th>\n",
              "      <th>Tatoray Stripper C620 Split Factors Calculation_Split Factor for Individual Component to Tatoray Stripper C620 Vent Gas_1,3,5-Trimethylbenzene_Fraction</th>\n",
              "      <th>Tatoray Stripper C620 Split Factors Calculation_Split Factor for Individual Component to Tatoray Stripper C620 Vent Gas_1-Methyl-2-ethylbenzene_Fraction</th>\n",
              "      <th>Tatoray Stripper C620 Split Factors Calculation_Split Factor for Individual Component to Tatoray Stripper C620 Vent Gas_1,2,4-Trimethylbenzene_Fraction</th>\n",
              "      <th>Tatoray Stripper C620 Split Factors Calculation_Split Factor for Individual Component to Tatoray Stripper C620 Vent Gas_tert-Butylcyclohexane_Fraction</th>\n",
              "      <th>Tatoray Stripper C620 Split Factors Calculation_Split Factor for Individual Component to Tatoray Stripper C620 Vent Gas_1,2,3-Trimethylbenzene_Fraction</th>\n",
              "      <th>Tatoray Stripper C620 Split Factors Calculation_Split Factor for Individual Component to Tatoray Stripper C620 Vent Gas_Indane_Fraction</th>\n",
              "      <th>Tatoray Stripper C620 Split Factors Calculation_Split Factor for Individual Component to Tatoray Stripper C620 Vent Gas_1-Methyl-4-n-propylbenzene_Fraction</th>\n",
              "      <th>Tatoray Stripper C620 Split Factors Calculation_Split Factor for Individual Component to Tatoray Stripper C620 Vent Gas_1,2-Diethylbenzene_Fraction</th>\n",
              "      <th>Tatoray Stripper C620 Split Factors Calculation_Split Factor for Individual Component to Tatoray Stripper C620 Vent Gas_5-Ethyl-m-xylene_Fraction</th>\n",
              "      <th>Tatoray Stripper C620 Split Factors Calculation_Split Factor for Individual Component to Tatoray Stripper C620 Vent Gas_1,4-Diethylbenzene_Fraction</th>\n",
              "      <th>Tatoray Stripper C620 Split Factors Calculation_Split Factor for Individual Component to Tatoray Stripper C620 Vent Gas_1,2,3,5-Tetramethylbenzene_Fraction</th>\n",
              "      <th>Tatoray Stripper C620 Split Factors Calculation_Split Factor for Individual Component to Tatoray Stripper C620 Vent Gas_n-Pentylbenzene_Fraction</th>\n",
              "      <th>Tatoray Stripper C620 Split Factors Calculation_Split Factor for Individual Component to Tatoray Stripper C620 Vent Gas_n-Hexylbenzene_Fraction</th>\n",
              "      <th>Tatoray Stripper C620 Split Factors Calculation_Split Factor for Individual Component to Tatoray Stripper C620 Vent Gas_Nitrogen_Fraction</th>\n",
              "      <th>Tatoray Stripper C620 Split Factors Calculation_Split Factor for Individual Component to Tatoray Stripper C620 Vent Gas_Oxygen_Fraction</th>\n",
              "    </tr>\n",
              "  </thead>\n",
              "  <tbody>\n",
              "    <tr>\n",
              "      <th>001-001</th>\n",
              "      <td>1.0</td>\n",
              "      <td>0.995686</td>\n",
              "      <td>0.984024</td>\n",
              "      <td>0.956211</td>\n",
              "      <td>0.872972</td>\n",
              "      <td>0.712751</td>\n",
              "      <td>0.189219</td>\n",
              "      <td>0.006678</td>\n",
              "      <td>0.022054</td>\n",
              "      <td>0.002648</td>\n",
              "      <td>0.0</td>\n",
              "      <td>0.000093</td>\n",
              "      <td>0.000003</td>\n",
              "      <td>0.000002</td>\n",
              "      <td>4.684918e-09</td>\n",
              "      <td>2.145744e-09</td>\n",
              "      <td>1.208048e-10</td>\n",
              "      <td>5.230046e-11</td>\n",
              "      <td>3.547634e-11</td>\n",
              "      <td>3.394092e-12</td>\n",
              "      <td>3.523048e-11</td>\n",
              "      <td>1.636662e-13</td>\n",
              "      <td>1.631403e-13</td>\n",
              "      <td>7.190536e-15</td>\n",
              "      <td>2.584981e-14</td>\n",
              "      <td>1.541012e-14</td>\n",
              "      <td>5.316193e-16</td>\n",
              "      <td>1.153265e-14</td>\n",
              "      <td>5.869219e-17</td>\n",
              "      <td>0.0</td>\n",
              "      <td>2.368513e-18</td>\n",
              "      <td>5.301870e-18</td>\n",
              "      <td>2.696638e-19</td>\n",
              "      <td>3.187007e-19</td>\n",
              "      <td>1.670506e-19</td>\n",
              "      <td>0.0</td>\n",
              "      <td>8.013215e-23</td>\n",
              "      <td>6.363391e-24</td>\n",
              "      <td>3.459200e-28</td>\n",
              "      <td>1.0</td>\n",
              "      <td>1.0</td>\n",
              "    </tr>\n",
              "    <tr>\n",
              "      <th>001-002</th>\n",
              "      <td>1.0</td>\n",
              "      <td>0.995686</td>\n",
              "      <td>0.984024</td>\n",
              "      <td>0.956213</td>\n",
              "      <td>0.872974</td>\n",
              "      <td>0.712755</td>\n",
              "      <td>0.189221</td>\n",
              "      <td>0.006678</td>\n",
              "      <td>0.022054</td>\n",
              "      <td>0.002648</td>\n",
              "      <td>0.0</td>\n",
              "      <td>0.000093</td>\n",
              "      <td>0.000003</td>\n",
              "      <td>0.000002</td>\n",
              "      <td>4.684659e-09</td>\n",
              "      <td>2.145621e-09</td>\n",
              "      <td>1.207970e-10</td>\n",
              "      <td>5.229697e-11</td>\n",
              "      <td>3.547395e-11</td>\n",
              "      <td>3.393851e-12</td>\n",
              "      <td>3.522816e-11</td>\n",
              "      <td>1.636541e-13</td>\n",
              "      <td>1.631285e-13</td>\n",
              "      <td>7.189989e-15</td>\n",
              "      <td>2.584788e-14</td>\n",
              "      <td>1.540896e-14</td>\n",
              "      <td>5.315779e-16</td>\n",
              "      <td>1.153178e-14</td>\n",
              "      <td>5.868755e-17</td>\n",
              "      <td>0.0</td>\n",
              "      <td>2.368322e-18</td>\n",
              "      <td>5.301445e-18</td>\n",
              "      <td>2.696420e-19</td>\n",
              "      <td>3.186750e-19</td>\n",
              "      <td>1.670370e-19</td>\n",
              "      <td>0.0</td>\n",
              "      <td>8.012541e-23</td>\n",
              "      <td>6.362855e-24</td>\n",
              "      <td>3.458901e-28</td>\n",
              "      <td>1.0</td>\n",
              "      <td>1.0</td>\n",
              "    </tr>\n",
              "    <tr>\n",
              "      <th>001-003</th>\n",
              "      <td>1.0</td>\n",
              "      <td>0.995686</td>\n",
              "      <td>0.984024</td>\n",
              "      <td>0.956212</td>\n",
              "      <td>0.872973</td>\n",
              "      <td>0.712753</td>\n",
              "      <td>0.189220</td>\n",
              "      <td>0.006678</td>\n",
              "      <td>0.022054</td>\n",
              "      <td>0.002648</td>\n",
              "      <td>0.0</td>\n",
              "      <td>0.000093</td>\n",
              "      <td>0.000003</td>\n",
              "      <td>0.000002</td>\n",
              "      <td>4.684784e-09</td>\n",
              "      <td>2.145680e-09</td>\n",
              "      <td>1.208008e-10</td>\n",
              "      <td>5.229871e-11</td>\n",
              "      <td>3.547514e-11</td>\n",
              "      <td>3.393971e-12</td>\n",
              "      <td>3.522930e-11</td>\n",
              "      <td>1.636602e-13</td>\n",
              "      <td>1.631343e-13</td>\n",
              "      <td>7.190265e-15</td>\n",
              "      <td>2.584885e-14</td>\n",
              "      <td>1.540954e-14</td>\n",
              "      <td>5.315990e-16</td>\n",
              "      <td>1.153221e-14</td>\n",
              "      <td>5.868992e-17</td>\n",
              "      <td>0.0</td>\n",
              "      <td>2.368420e-18</td>\n",
              "      <td>5.301662e-18</td>\n",
              "      <td>2.696532e-19</td>\n",
              "      <td>3.186881e-19</td>\n",
              "      <td>1.670440e-19</td>\n",
              "      <td>0.0</td>\n",
              "      <td>8.012893e-23</td>\n",
              "      <td>6.363134e-24</td>\n",
              "      <td>3.459059e-28</td>\n",
              "      <td>1.0</td>\n",
              "      <td>1.0</td>\n",
              "    </tr>\n",
              "    <tr>\n",
              "      <th>001-004</th>\n",
              "      <td>1.0</td>\n",
              "      <td>0.994094</td>\n",
              "      <td>0.975375</td>\n",
              "      <td>0.928658</td>\n",
              "      <td>0.795230</td>\n",
              "      <td>0.588231</td>\n",
              "      <td>0.162069</td>\n",
              "      <td>0.006642</td>\n",
              "      <td>0.021836</td>\n",
              "      <td>0.002755</td>\n",
              "      <td>0.0</td>\n",
              "      <td>0.000096</td>\n",
              "      <td>0.000003</td>\n",
              "      <td>0.000003</td>\n",
              "      <td>4.837402e-09</td>\n",
              "      <td>2.213674e-09</td>\n",
              "      <td>1.230335e-10</td>\n",
              "      <td>5.334354e-11</td>\n",
              "      <td>3.615960e-11</td>\n",
              "      <td>3.448065e-12</td>\n",
              "      <td>3.717538e-11</td>\n",
              "      <td>1.679028e-13</td>\n",
              "      <td>1.693763e-13</td>\n",
              "      <td>7.375794e-15</td>\n",
              "      <td>2.656259e-14</td>\n",
              "      <td>1.585458e-14</td>\n",
              "      <td>5.458051e-16</td>\n",
              "      <td>1.182809e-14</td>\n",
              "      <td>6.012522e-17</td>\n",
              "      <td>0.0</td>\n",
              "      <td>2.414925e-18</td>\n",
              "      <td>5.394715e-18</td>\n",
              "      <td>2.799584e-19</td>\n",
              "      <td>3.297798e-19</td>\n",
              "      <td>1.733107e-19</td>\n",
              "      <td>0.0</td>\n",
              "      <td>8.256858e-23</td>\n",
              "      <td>6.635803e-24</td>\n",
              "      <td>3.640238e-28</td>\n",
              "      <td>1.0</td>\n",
              "      <td>1.0</td>\n",
              "    </tr>\n",
              "    <tr>\n",
              "      <th>001-005</th>\n",
              "      <td>1.0</td>\n",
              "      <td>0.994094</td>\n",
              "      <td>0.975376</td>\n",
              "      <td>0.928659</td>\n",
              "      <td>0.795232</td>\n",
              "      <td>0.588233</td>\n",
              "      <td>0.162070</td>\n",
              "      <td>0.006642</td>\n",
              "      <td>0.021836</td>\n",
              "      <td>0.002755</td>\n",
              "      <td>0.0</td>\n",
              "      <td>0.000096</td>\n",
              "      <td>0.000003</td>\n",
              "      <td>0.000003</td>\n",
              "      <td>4.837231e-09</td>\n",
              "      <td>2.213593e-09</td>\n",
              "      <td>1.230308e-10</td>\n",
              "      <td>5.334244e-11</td>\n",
              "      <td>3.615889e-11</td>\n",
              "      <td>3.448008e-12</td>\n",
              "      <td>3.717423e-11</td>\n",
              "      <td>1.678998e-13</td>\n",
              "      <td>1.693708e-13</td>\n",
              "      <td>7.375702e-15</td>\n",
              "      <td>2.656212e-14</td>\n",
              "      <td>1.585430e-14</td>\n",
              "      <td>5.458025e-16</td>\n",
              "      <td>1.182788e-14</td>\n",
              "      <td>6.012509e-17</td>\n",
              "      <td>0.0</td>\n",
              "      <td>2.414937e-18</td>\n",
              "      <td>5.394703e-18</td>\n",
              "      <td>2.799583e-19</td>\n",
              "      <td>3.297783e-19</td>\n",
              "      <td>1.733111e-19</td>\n",
              "      <td>0.0</td>\n",
              "      <td>8.257018e-23</td>\n",
              "      <td>6.635916e-24</td>\n",
              "      <td>3.640352e-28</td>\n",
              "      <td>1.0</td>\n",
              "      <td>1.0</td>\n",
              "    </tr>\n",
              "  </tbody>\n",
              "</table>\n",
              "</div>"
            ],
            "text/plain": [
              "         Tatoray Stripper C620 Split Factors Calculation_Split Factor for Individual Component to Tatoray Stripper C620 Vent Gas_Hydrogen_Fraction  ...  Tatoray Stripper C620 Split Factors Calculation_Split Factor for Individual Component to Tatoray Stripper C620 Vent Gas_Oxygen_Fraction\n",
              "001-001                                                1.0                                                                                          ...                                                1.0                                                                                      \n",
              "001-002                                                1.0                                                                                          ...                                                1.0                                                                                      \n",
              "001-003                                                1.0                                                                                          ...                                                1.0                                                                                      \n",
              "001-004                                                1.0                                                                                          ...                                                1.0                                                                                      \n",
              "001-005                                                1.0                                                                                          ...                                                1.0                                                                                      \n",
              "\n",
              "[5 rows x 41 columns]"
            ]
          },
          "metadata": {
            "tags": []
          },
          "execution_count": 32
        }
      ]
    },
    {
      "cell_type": "code",
      "metadata": {
        "id": "XtcL849IiupA",
        "colab": {
          "base_uri": "https://localhost:8080/",
          "height": 813
        },
        "outputId": "5bc11494-a824-4134-b0c6-687d61be2d0b"
      },
      "source": [
        "vent_gas_sf_hat = pd.DataFrame((vent_gat_mf*vent_gas_wt)/(feed_mf*feed_wt))\n",
        "vent_gas_sf_hat.index = c620_df.index\n",
        "vent_gas_sf_hat.columns = c620_col['vent_gas_sf']\n",
        "vent_gas_sf_hat"
      ],
      "execution_count": 33,
      "outputs": [
        {
          "output_type": "stream",
          "text": [
            "/usr/local/lib/python3.7/dist-packages/ipykernel_launcher.py:1: RuntimeWarning: invalid value encountered in true_divide\n",
            "  \"\"\"Entry point for launching an IPython kernel.\n"
          ],
          "name": "stderr"
        },
        {
          "output_type": "execute_result",
          "data": {
            "text/html": [
              "<div>\n",
              "<style scoped>\n",
              "    .dataframe tbody tr th:only-of-type {\n",
              "        vertical-align: middle;\n",
              "    }\n",
              "\n",
              "    .dataframe tbody tr th {\n",
              "        vertical-align: top;\n",
              "    }\n",
              "\n",
              "    .dataframe thead th {\n",
              "        text-align: right;\n",
              "    }\n",
              "</style>\n",
              "<table border=\"1\" class=\"dataframe\">\n",
              "  <thead>\n",
              "    <tr style=\"text-align: right;\">\n",
              "      <th></th>\n",
              "      <th>Tatoray Stripper C620 Split Factors Calculation_Split Factor for Individual Component to Tatoray Stripper C620 Vent Gas_Hydrogen_Fraction</th>\n",
              "      <th>Tatoray Stripper C620 Split Factors Calculation_Split Factor for Individual Component to Tatoray Stripper C620 Vent Gas_Methane_Fraction</th>\n",
              "      <th>Tatoray Stripper C620 Split Factors Calculation_Split Factor for Individual Component to Tatoray Stripper C620 Vent Gas_Ethane_Fraction</th>\n",
              "      <th>Tatoray Stripper C620 Split Factors Calculation_Split Factor for Individual Component to Tatoray Stripper C620 Vent Gas_Propane_Fraction</th>\n",
              "      <th>Tatoray Stripper C620 Split Factors Calculation_Split Factor for Individual Component to Tatoray Stripper C620 Vent Gas_n-Butane_Fraction</th>\n",
              "      <th>Tatoray Stripper C620 Split Factors Calculation_Split Factor for Individual Component to Tatoray Stripper C620 Vent Gas_n-Pentane_Fraction</th>\n",
              "      <th>Tatoray Stripper C620 Split Factors Calculation_Split Factor for Individual Component to Tatoray Stripper C620 Vent Gas_n-Hexane_Fraction</th>\n",
              "      <th>Tatoray Stripper C620 Split Factors Calculation_Split Factor for Individual Component to Tatoray Stripper C620 Vent Gas_Benzene_Fraction</th>\n",
              "      <th>Tatoray Stripper C620 Split Factors Calculation_Split Factor for Individual Component to Tatoray Stripper C620 Vent Gas_Cyclohexane_Fraction</th>\n",
              "      <th>Tatoray Stripper C620 Split Factors Calculation_Split Factor for Individual Component to Tatoray Stripper C620 Vent Gas_n-Heptane_Fraction</th>\n",
              "      <th>Tatoray Stripper C620 Split Factors Calculation_Split Factor for Individual Component to Tatoray Stripper C620 Vent Gas_Water_Fraction</th>\n",
              "      <th>Tatoray Stripper C620 Split Factors Calculation_Split Factor for Individual Component to Tatoray Stripper C620 Vent Gas_Methylcyclohexane_Fraction</th>\n",
              "      <th>Tatoray Stripper C620 Split Factors Calculation_Split Factor for Individual Component to Tatoray Stripper C620 Vent Gas_Toluene_Fraction</th>\n",
              "      <th>Tatoray Stripper C620 Split Factors Calculation_Split Factor for Individual Component to Tatoray Stripper C620 Vent Gas_n-Octane_Fraction</th>\n",
              "      <th>Tatoray Stripper C620 Split Factors Calculation_Split Factor for Individual Component to Tatoray Stripper C620 Vent Gas_n-Propylcyclopentane_Fraction</th>\n",
              "      <th>Tatoray Stripper C620 Split Factors Calculation_Split Factor for Individual Component to Tatoray Stripper C620 Vent Gas_Ethylcyclohexane_Fraction</th>\n",
              "      <th>Tatoray Stripper C620 Split Factors Calculation_Split Factor for Individual Component to Tatoray Stripper C620 Vent Gas_Ethylbenzene_Fraction</th>\n",
              "      <th>Tatoray Stripper C620 Split Factors Calculation_Split Factor for Individual Component to Tatoray Stripper C620 Vent Gas_p-Xylene_Fraction</th>\n",
              "      <th>Tatoray Stripper C620 Split Factors Calculation_Split Factor for Individual Component to Tatoray Stripper C620 Vent Gas_m-Xylene_Fraction</th>\n",
              "      <th>Tatoray Stripper C620 Split Factors Calculation_Split Factor for Individual Component to Tatoray Stripper C620 Vent Gas_o-Xylene_Fraction</th>\n",
              "      <th>Tatoray Stripper C620 Split Factors Calculation_Split Factor for Individual Component to Tatoray Stripper C620 Vent Gas_n-Nonane_Fraction</th>\n",
              "      <th>Tatoray Stripper C620 Split Factors Calculation_Split Factor for Individual Component to Tatoray Stripper C620 Vent Gas_i-Propylbenzene_Fraction</th>\n",
              "      <th>Tatoray Stripper C620 Split Factors Calculation_Split Factor for Individual Component to Tatoray Stripper C620 Vent Gas_n-Propylcyclohexane_Fraction</th>\n",
              "      <th>Tatoray Stripper C620 Split Factors Calculation_Split Factor for Individual Component to Tatoray Stripper C620 Vent Gas_n-Propylbenzene_Fraction</th>\n",
              "      <th>Tatoray Stripper C620 Split Factors Calculation_Split Factor for Individual Component to Tatoray Stripper C620 Vent Gas_1-Methyl-3-ethylbenzene_Fraction</th>\n",
              "      <th>Tatoray Stripper C620 Split Factors Calculation_Split Factor for Individual Component to Tatoray Stripper C620 Vent Gas_1-Methyl-4-ethylbenzene_Fraction</th>\n",
              "      <th>Tatoray Stripper C620 Split Factors Calculation_Split Factor for Individual Component to Tatoray Stripper C620 Vent Gas_1,3,5-Trimethylbenzene_Fraction</th>\n",
              "      <th>Tatoray Stripper C620 Split Factors Calculation_Split Factor for Individual Component to Tatoray Stripper C620 Vent Gas_1-Methyl-2-ethylbenzene_Fraction</th>\n",
              "      <th>Tatoray Stripper C620 Split Factors Calculation_Split Factor for Individual Component to Tatoray Stripper C620 Vent Gas_1,2,4-Trimethylbenzene_Fraction</th>\n",
              "      <th>Tatoray Stripper C620 Split Factors Calculation_Split Factor for Individual Component to Tatoray Stripper C620 Vent Gas_tert-Butylcyclohexane_Fraction</th>\n",
              "      <th>Tatoray Stripper C620 Split Factors Calculation_Split Factor for Individual Component to Tatoray Stripper C620 Vent Gas_1,2,3-Trimethylbenzene_Fraction</th>\n",
              "      <th>Tatoray Stripper C620 Split Factors Calculation_Split Factor for Individual Component to Tatoray Stripper C620 Vent Gas_Indane_Fraction</th>\n",
              "      <th>Tatoray Stripper C620 Split Factors Calculation_Split Factor for Individual Component to Tatoray Stripper C620 Vent Gas_1-Methyl-4-n-propylbenzene_Fraction</th>\n",
              "      <th>Tatoray Stripper C620 Split Factors Calculation_Split Factor for Individual Component to Tatoray Stripper C620 Vent Gas_1,2-Diethylbenzene_Fraction</th>\n",
              "      <th>Tatoray Stripper C620 Split Factors Calculation_Split Factor for Individual Component to Tatoray Stripper C620 Vent Gas_5-Ethyl-m-xylene_Fraction</th>\n",
              "      <th>Tatoray Stripper C620 Split Factors Calculation_Split Factor for Individual Component to Tatoray Stripper C620 Vent Gas_1,4-Diethylbenzene_Fraction</th>\n",
              "      <th>Tatoray Stripper C620 Split Factors Calculation_Split Factor for Individual Component to Tatoray Stripper C620 Vent Gas_1,2,3,5-Tetramethylbenzene_Fraction</th>\n",
              "      <th>Tatoray Stripper C620 Split Factors Calculation_Split Factor for Individual Component to Tatoray Stripper C620 Vent Gas_n-Pentylbenzene_Fraction</th>\n",
              "      <th>Tatoray Stripper C620 Split Factors Calculation_Split Factor for Individual Component to Tatoray Stripper C620 Vent Gas_n-Hexylbenzene_Fraction</th>\n",
              "      <th>Tatoray Stripper C620 Split Factors Calculation_Split Factor for Individual Component to Tatoray Stripper C620 Vent Gas_Nitrogen_Fraction</th>\n",
              "      <th>Tatoray Stripper C620 Split Factors Calculation_Split Factor for Individual Component to Tatoray Stripper C620 Vent Gas_Oxygen_Fraction</th>\n",
              "    </tr>\n",
              "  </thead>\n",
              "  <tbody>\n",
              "    <tr>\n",
              "      <th>001-001</th>\n",
              "      <td>NaN</td>\n",
              "      <td>0.995686</td>\n",
              "      <td>0.984024</td>\n",
              "      <td>0.956211</td>\n",
              "      <td>0.872972</td>\n",
              "      <td>0.712751</td>\n",
              "      <td>0.189219</td>\n",
              "      <td>0.006678</td>\n",
              "      <td>0.022054</td>\n",
              "      <td>0.002648</td>\n",
              "      <td>NaN</td>\n",
              "      <td>0.000093</td>\n",
              "      <td>0.000003</td>\n",
              "      <td>0.000002</td>\n",
              "      <td>4.684918e-09</td>\n",
              "      <td>2.145744e-09</td>\n",
              "      <td>1.208048e-10</td>\n",
              "      <td>5.230046e-11</td>\n",
              "      <td>3.547634e-11</td>\n",
              "      <td>3.394092e-12</td>\n",
              "      <td>3.523048e-11</td>\n",
              "      <td>1.636662e-13</td>\n",
              "      <td>1.631403e-13</td>\n",
              "      <td>7.190536e-15</td>\n",
              "      <td>2.584981e-14</td>\n",
              "      <td>1.541012e-14</td>\n",
              "      <td>5.316193e-16</td>\n",
              "      <td>1.153265e-14</td>\n",
              "      <td>5.869219e-17</td>\n",
              "      <td>NaN</td>\n",
              "      <td>2.368513e-18</td>\n",
              "      <td>5.301870e-18</td>\n",
              "      <td>2.696638e-19</td>\n",
              "      <td>3.187007e-19</td>\n",
              "      <td>1.670506e-19</td>\n",
              "      <td>NaN</td>\n",
              "      <td>8.013215e-23</td>\n",
              "      <td>6.363391e-24</td>\n",
              "      <td>3.459200e-28</td>\n",
              "      <td>NaN</td>\n",
              "      <td>NaN</td>\n",
              "    </tr>\n",
              "    <tr>\n",
              "      <th>001-002</th>\n",
              "      <td>NaN</td>\n",
              "      <td>0.995686</td>\n",
              "      <td>0.984024</td>\n",
              "      <td>0.956213</td>\n",
              "      <td>0.872974</td>\n",
              "      <td>0.712755</td>\n",
              "      <td>0.189221</td>\n",
              "      <td>0.006678</td>\n",
              "      <td>0.022054</td>\n",
              "      <td>0.002648</td>\n",
              "      <td>NaN</td>\n",
              "      <td>0.000093</td>\n",
              "      <td>0.000003</td>\n",
              "      <td>0.000002</td>\n",
              "      <td>4.684659e-09</td>\n",
              "      <td>2.145621e-09</td>\n",
              "      <td>1.207970e-10</td>\n",
              "      <td>5.229697e-11</td>\n",
              "      <td>3.547395e-11</td>\n",
              "      <td>3.393851e-12</td>\n",
              "      <td>3.522816e-11</td>\n",
              "      <td>1.636541e-13</td>\n",
              "      <td>1.631285e-13</td>\n",
              "      <td>7.189989e-15</td>\n",
              "      <td>2.584788e-14</td>\n",
              "      <td>1.540896e-14</td>\n",
              "      <td>5.315779e-16</td>\n",
              "      <td>1.153178e-14</td>\n",
              "      <td>5.868755e-17</td>\n",
              "      <td>NaN</td>\n",
              "      <td>2.368322e-18</td>\n",
              "      <td>5.301445e-18</td>\n",
              "      <td>2.696420e-19</td>\n",
              "      <td>3.186750e-19</td>\n",
              "      <td>1.670370e-19</td>\n",
              "      <td>NaN</td>\n",
              "      <td>8.012541e-23</td>\n",
              "      <td>6.362855e-24</td>\n",
              "      <td>3.458901e-28</td>\n",
              "      <td>NaN</td>\n",
              "      <td>NaN</td>\n",
              "    </tr>\n",
              "    <tr>\n",
              "      <th>001-003</th>\n",
              "      <td>NaN</td>\n",
              "      <td>0.995686</td>\n",
              "      <td>0.984024</td>\n",
              "      <td>0.956212</td>\n",
              "      <td>0.872973</td>\n",
              "      <td>0.712753</td>\n",
              "      <td>0.189220</td>\n",
              "      <td>0.006678</td>\n",
              "      <td>0.022054</td>\n",
              "      <td>0.002648</td>\n",
              "      <td>NaN</td>\n",
              "      <td>0.000093</td>\n",
              "      <td>0.000003</td>\n",
              "      <td>0.000002</td>\n",
              "      <td>4.684784e-09</td>\n",
              "      <td>2.145680e-09</td>\n",
              "      <td>1.208008e-10</td>\n",
              "      <td>5.229871e-11</td>\n",
              "      <td>3.547514e-11</td>\n",
              "      <td>3.393971e-12</td>\n",
              "      <td>3.522930e-11</td>\n",
              "      <td>1.636602e-13</td>\n",
              "      <td>1.631343e-13</td>\n",
              "      <td>7.190265e-15</td>\n",
              "      <td>2.584885e-14</td>\n",
              "      <td>1.540954e-14</td>\n",
              "      <td>5.315990e-16</td>\n",
              "      <td>1.153221e-14</td>\n",
              "      <td>5.868992e-17</td>\n",
              "      <td>NaN</td>\n",
              "      <td>2.368420e-18</td>\n",
              "      <td>5.301662e-18</td>\n",
              "      <td>2.696532e-19</td>\n",
              "      <td>3.186881e-19</td>\n",
              "      <td>1.670440e-19</td>\n",
              "      <td>NaN</td>\n",
              "      <td>8.012893e-23</td>\n",
              "      <td>6.363134e-24</td>\n",
              "      <td>3.459059e-28</td>\n",
              "      <td>NaN</td>\n",
              "      <td>NaN</td>\n",
              "    </tr>\n",
              "    <tr>\n",
              "      <th>001-004</th>\n",
              "      <td>NaN</td>\n",
              "      <td>0.994094</td>\n",
              "      <td>0.975375</td>\n",
              "      <td>0.928658</td>\n",
              "      <td>0.795230</td>\n",
              "      <td>0.588231</td>\n",
              "      <td>0.162069</td>\n",
              "      <td>0.006642</td>\n",
              "      <td>0.021836</td>\n",
              "      <td>0.002755</td>\n",
              "      <td>NaN</td>\n",
              "      <td>0.000096</td>\n",
              "      <td>0.000003</td>\n",
              "      <td>0.000003</td>\n",
              "      <td>4.837402e-09</td>\n",
              "      <td>2.213674e-09</td>\n",
              "      <td>1.230335e-10</td>\n",
              "      <td>5.334354e-11</td>\n",
              "      <td>3.615960e-11</td>\n",
              "      <td>3.448065e-12</td>\n",
              "      <td>3.717538e-11</td>\n",
              "      <td>1.679028e-13</td>\n",
              "      <td>1.693763e-13</td>\n",
              "      <td>7.375794e-15</td>\n",
              "      <td>2.656259e-14</td>\n",
              "      <td>1.585458e-14</td>\n",
              "      <td>5.458051e-16</td>\n",
              "      <td>1.182809e-14</td>\n",
              "      <td>6.012522e-17</td>\n",
              "      <td>NaN</td>\n",
              "      <td>2.414925e-18</td>\n",
              "      <td>5.394715e-18</td>\n",
              "      <td>2.799584e-19</td>\n",
              "      <td>3.297798e-19</td>\n",
              "      <td>1.733107e-19</td>\n",
              "      <td>NaN</td>\n",
              "      <td>8.256858e-23</td>\n",
              "      <td>6.635803e-24</td>\n",
              "      <td>3.640238e-28</td>\n",
              "      <td>NaN</td>\n",
              "      <td>NaN</td>\n",
              "    </tr>\n",
              "    <tr>\n",
              "      <th>001-005</th>\n",
              "      <td>NaN</td>\n",
              "      <td>0.994094</td>\n",
              "      <td>0.975376</td>\n",
              "      <td>0.928659</td>\n",
              "      <td>0.795232</td>\n",
              "      <td>0.588233</td>\n",
              "      <td>0.162070</td>\n",
              "      <td>0.006642</td>\n",
              "      <td>0.021836</td>\n",
              "      <td>0.002755</td>\n",
              "      <td>NaN</td>\n",
              "      <td>0.000096</td>\n",
              "      <td>0.000003</td>\n",
              "      <td>0.000003</td>\n",
              "      <td>4.837231e-09</td>\n",
              "      <td>2.213593e-09</td>\n",
              "      <td>1.230308e-10</td>\n",
              "      <td>5.334244e-11</td>\n",
              "      <td>3.615889e-11</td>\n",
              "      <td>3.448008e-12</td>\n",
              "      <td>3.717423e-11</td>\n",
              "      <td>1.678998e-13</td>\n",
              "      <td>1.693708e-13</td>\n",
              "      <td>7.375702e-15</td>\n",
              "      <td>2.656212e-14</td>\n",
              "      <td>1.585430e-14</td>\n",
              "      <td>5.458025e-16</td>\n",
              "      <td>1.182788e-14</td>\n",
              "      <td>6.012509e-17</td>\n",
              "      <td>NaN</td>\n",
              "      <td>2.414937e-18</td>\n",
              "      <td>5.394703e-18</td>\n",
              "      <td>2.799583e-19</td>\n",
              "      <td>3.297783e-19</td>\n",
              "      <td>1.733111e-19</td>\n",
              "      <td>NaN</td>\n",
              "      <td>8.257018e-23</td>\n",
              "      <td>6.635916e-24</td>\n",
              "      <td>3.640352e-28</td>\n",
              "      <td>NaN</td>\n",
              "      <td>NaN</td>\n",
              "    </tr>\n",
              "    <tr>\n",
              "      <th>...</th>\n",
              "      <td>...</td>\n",
              "      <td>...</td>\n",
              "      <td>...</td>\n",
              "      <td>...</td>\n",
              "      <td>...</td>\n",
              "      <td>...</td>\n",
              "      <td>...</td>\n",
              "      <td>...</td>\n",
              "      <td>...</td>\n",
              "      <td>...</td>\n",
              "      <td>...</td>\n",
              "      <td>...</td>\n",
              "      <td>...</td>\n",
              "      <td>...</td>\n",
              "      <td>...</td>\n",
              "      <td>...</td>\n",
              "      <td>...</td>\n",
              "      <td>...</td>\n",
              "      <td>...</td>\n",
              "      <td>...</td>\n",
              "      <td>...</td>\n",
              "      <td>...</td>\n",
              "      <td>...</td>\n",
              "      <td>...</td>\n",
              "      <td>...</td>\n",
              "      <td>...</td>\n",
              "      <td>...</td>\n",
              "      <td>...</td>\n",
              "      <td>...</td>\n",
              "      <td>...</td>\n",
              "      <td>...</td>\n",
              "      <td>...</td>\n",
              "      <td>...</td>\n",
              "      <td>...</td>\n",
              "      <td>...</td>\n",
              "      <td>...</td>\n",
              "      <td>...</td>\n",
              "      <td>...</td>\n",
              "      <td>...</td>\n",
              "      <td>...</td>\n",
              "      <td>...</td>\n",
              "    </tr>\n",
              "    <tr>\n",
              "      <th>144-104</th>\n",
              "      <td>NaN</td>\n",
              "      <td>0.995507</td>\n",
              "      <td>0.984191</td>\n",
              "      <td>0.958733</td>\n",
              "      <td>0.884530</td>\n",
              "      <td>0.739205</td>\n",
              "      <td>0.207086</td>\n",
              "      <td>0.007376</td>\n",
              "      <td>0.023522</td>\n",
              "      <td>0.003167</td>\n",
              "      <td>NaN</td>\n",
              "      <td>0.000137</td>\n",
              "      <td>0.000006</td>\n",
              "      <td>0.000005</td>\n",
              "      <td>1.433295e-08</td>\n",
              "      <td>6.609419e-09</td>\n",
              "      <td>4.372214e-10</td>\n",
              "      <td>1.940062e-10</td>\n",
              "      <td>1.336042e-10</td>\n",
              "      <td>1.333998e-11</td>\n",
              "      <td>1.285625e-10</td>\n",
              "      <td>6.583871e-13</td>\n",
              "      <td>5.848022e-13</td>\n",
              "      <td>3.089599e-14</td>\n",
              "      <td>1.059025e-13</td>\n",
              "      <td>6.336072e-14</td>\n",
              "      <td>2.483501e-15</td>\n",
              "      <td>4.698576e-14</td>\n",
              "      <td>2.806491e-16</td>\n",
              "      <td>NaN</td>\n",
              "      <td>1.200993e-17</td>\n",
              "      <td>2.493651e-17</td>\n",
              "      <td>1.352477e-18</td>\n",
              "      <td>1.524666e-18</td>\n",
              "      <td>8.581999e-19</td>\n",
              "      <td>NaN</td>\n",
              "      <td>4.770113e-22</td>\n",
              "      <td>3.785588e-23</td>\n",
              "      <td>2.379115e-27</td>\n",
              "      <td>NaN</td>\n",
              "      <td>NaN</td>\n",
              "    </tr>\n",
              "    <tr>\n",
              "      <th>144-105</th>\n",
              "      <td>NaN</td>\n",
              "      <td>0.995507</td>\n",
              "      <td>0.984192</td>\n",
              "      <td>0.958733</td>\n",
              "      <td>0.884531</td>\n",
              "      <td>0.739207</td>\n",
              "      <td>0.207087</td>\n",
              "      <td>0.007376</td>\n",
              "      <td>0.023522</td>\n",
              "      <td>0.003167</td>\n",
              "      <td>NaN</td>\n",
              "      <td>0.000137</td>\n",
              "      <td>0.000006</td>\n",
              "      <td>0.000005</td>\n",
              "      <td>1.433244e-08</td>\n",
              "      <td>6.609172e-09</td>\n",
              "      <td>4.372009e-10</td>\n",
              "      <td>1.939969e-10</td>\n",
              "      <td>1.335977e-10</td>\n",
              "      <td>1.333928e-11</td>\n",
              "      <td>1.285566e-10</td>\n",
              "      <td>6.583512e-13</td>\n",
              "      <td>5.847726e-13</td>\n",
              "      <td>3.089420e-14</td>\n",
              "      <td>1.058965e-13</td>\n",
              "      <td>6.335717e-14</td>\n",
              "      <td>2.483349e-15</td>\n",
              "      <td>4.698313e-14</td>\n",
              "      <td>2.806315e-16</td>\n",
              "      <td>NaN</td>\n",
              "      <td>1.200915e-17</td>\n",
              "      <td>2.493494e-17</td>\n",
              "      <td>1.352390e-18</td>\n",
              "      <td>1.524569e-18</td>\n",
              "      <td>8.581437e-19</td>\n",
              "      <td>NaN</td>\n",
              "      <td>4.769773e-22</td>\n",
              "      <td>3.785319e-23</td>\n",
              "      <td>2.378934e-27</td>\n",
              "      <td>NaN</td>\n",
              "      <td>NaN</td>\n",
              "    </tr>\n",
              "    <tr>\n",
              "      <th>144-106</th>\n",
              "      <td>NaN</td>\n",
              "      <td>0.994908</td>\n",
              "      <td>0.982571</td>\n",
              "      <td>0.955728</td>\n",
              "      <td>0.878389</td>\n",
              "      <td>0.727512</td>\n",
              "      <td>0.196770</td>\n",
              "      <td>0.007325</td>\n",
              "      <td>0.021970</td>\n",
              "      <td>0.003109</td>\n",
              "      <td>NaN</td>\n",
              "      <td>0.000165</td>\n",
              "      <td>0.000011</td>\n",
              "      <td>0.000009</td>\n",
              "      <td>4.001766e-08</td>\n",
              "      <td>1.887913e-08</td>\n",
              "      <td>1.407408e-09</td>\n",
              "      <td>6.347133e-10</td>\n",
              "      <td>4.417358e-10</td>\n",
              "      <td>4.597129e-11</td>\n",
              "      <td>3.972031e-10</td>\n",
              "      <td>2.292506e-12</td>\n",
              "      <td>1.911905e-12</td>\n",
              "      <td>1.117506e-13</td>\n",
              "      <td>3.732762e-13</td>\n",
              "      <td>2.236245e-13</td>\n",
              "      <td>9.340665e-15</td>\n",
              "      <td>1.662839e-13</td>\n",
              "      <td>1.075403e-15</td>\n",
              "      <td>NaN</td>\n",
              "      <td>4.780146e-17</td>\n",
              "      <td>9.653804e-17</td>\n",
              "      <td>5.226198e-18</td>\n",
              "      <td>5.813053e-18</td>\n",
              "      <td>3.354308e-18</td>\n",
              "      <td>NaN</td>\n",
              "      <td>2.022901e-21</td>\n",
              "      <td>1.579446e-22</td>\n",
              "      <td>1.048385e-26</td>\n",
              "      <td>NaN</td>\n",
              "      <td>NaN</td>\n",
              "    </tr>\n",
              "    <tr>\n",
              "      <th>144-107</th>\n",
              "      <td>NaN</td>\n",
              "      <td>0.994908</td>\n",
              "      <td>0.982571</td>\n",
              "      <td>0.955728</td>\n",
              "      <td>0.878389</td>\n",
              "      <td>0.727512</td>\n",
              "      <td>0.196770</td>\n",
              "      <td>0.007325</td>\n",
              "      <td>0.021970</td>\n",
              "      <td>0.003109</td>\n",
              "      <td>NaN</td>\n",
              "      <td>0.000165</td>\n",
              "      <td>0.000011</td>\n",
              "      <td>0.000009</td>\n",
              "      <td>4.001766e-08</td>\n",
              "      <td>1.887913e-08</td>\n",
              "      <td>1.407408e-09</td>\n",
              "      <td>6.347133e-10</td>\n",
              "      <td>4.417358e-10</td>\n",
              "      <td>4.597129e-11</td>\n",
              "      <td>3.972031e-10</td>\n",
              "      <td>2.292506e-12</td>\n",
              "      <td>1.911905e-12</td>\n",
              "      <td>1.117506e-13</td>\n",
              "      <td>3.732762e-13</td>\n",
              "      <td>2.236245e-13</td>\n",
              "      <td>9.340665e-15</td>\n",
              "      <td>1.662839e-13</td>\n",
              "      <td>1.075403e-15</td>\n",
              "      <td>NaN</td>\n",
              "      <td>4.780146e-17</td>\n",
              "      <td>9.653804e-17</td>\n",
              "      <td>5.226198e-18</td>\n",
              "      <td>5.813053e-18</td>\n",
              "      <td>3.354308e-18</td>\n",
              "      <td>NaN</td>\n",
              "      <td>2.022901e-21</td>\n",
              "      <td>1.579446e-22</td>\n",
              "      <td>1.048385e-26</td>\n",
              "      <td>NaN</td>\n",
              "      <td>NaN</td>\n",
              "    </tr>\n",
              "    <tr>\n",
              "      <th>144-108</th>\n",
              "      <td>NaN</td>\n",
              "      <td>0.994908</td>\n",
              "      <td>0.982571</td>\n",
              "      <td>0.955728</td>\n",
              "      <td>0.878389</td>\n",
              "      <td>0.727512</td>\n",
              "      <td>0.196770</td>\n",
              "      <td>0.007325</td>\n",
              "      <td>0.021970</td>\n",
              "      <td>0.003109</td>\n",
              "      <td>NaN</td>\n",
              "      <td>0.000165</td>\n",
              "      <td>0.000011</td>\n",
              "      <td>0.000009</td>\n",
              "      <td>4.001766e-08</td>\n",
              "      <td>1.887913e-08</td>\n",
              "      <td>1.407409e-09</td>\n",
              "      <td>6.347133e-10</td>\n",
              "      <td>4.417358e-10</td>\n",
              "      <td>4.597129e-11</td>\n",
              "      <td>3.972032e-10</td>\n",
              "      <td>2.292506e-12</td>\n",
              "      <td>1.911905e-12</td>\n",
              "      <td>1.117506e-13</td>\n",
              "      <td>3.732762e-13</td>\n",
              "      <td>2.236245e-13</td>\n",
              "      <td>9.340665e-15</td>\n",
              "      <td>1.662839e-13</td>\n",
              "      <td>1.075403e-15</td>\n",
              "      <td>NaN</td>\n",
              "      <td>4.780146e-17</td>\n",
              "      <td>9.653805e-17</td>\n",
              "      <td>5.226198e-18</td>\n",
              "      <td>5.813053e-18</td>\n",
              "      <td>3.354308e-18</td>\n",
              "      <td>NaN</td>\n",
              "      <td>2.022901e-21</td>\n",
              "      <td>1.579446e-22</td>\n",
              "      <td>1.048385e-26</td>\n",
              "      <td>NaN</td>\n",
              "      <td>NaN</td>\n",
              "    </tr>\n",
              "  </tbody>\n",
              "</table>\n",
              "<p>15547 rows × 41 columns</p>\n",
              "</div>"
            ],
            "text/plain": [
              "         Tatoray Stripper C620 Split Factors Calculation_Split Factor for Individual Component to Tatoray Stripper C620 Vent Gas_Hydrogen_Fraction  ...  Tatoray Stripper C620 Split Factors Calculation_Split Factor for Individual Component to Tatoray Stripper C620 Vent Gas_Oxygen_Fraction\n",
              "001-001                                                NaN                                                                                          ...                                                NaN                                                                                      \n",
              "001-002                                                NaN                                                                                          ...                                                NaN                                                                                      \n",
              "001-003                                                NaN                                                                                          ...                                                NaN                                                                                      \n",
              "001-004                                                NaN                                                                                          ...                                                NaN                                                                                      \n",
              "001-005                                                NaN                                                                                          ...                                                NaN                                                                                      \n",
              "...                                                    ...                                                                                          ...                                                ...                                                                                      \n",
              "144-104                                                NaN                                                                                          ...                                                NaN                                                                                      \n",
              "144-105                                                NaN                                                                                          ...                                                NaN                                                                                      \n",
              "144-106                                                NaN                                                                                          ...                                                NaN                                                                                      \n",
              "144-107                                                NaN                                                                                          ...                                                NaN                                                                                      \n",
              "144-108                                                NaN                                                                                          ...                                                NaN                                                                                      \n",
              "\n",
              "[15547 rows x 41 columns]"
            ]
          },
          "metadata": {
            "tags": []
          },
          "execution_count": 33
        }
      ]
    },
    {
      "cell_type": "code",
      "metadata": {
        "id": "e2hKOzMqjE-u"
      },
      "source": [
        "vent_gas_sf_hat.update(c620_df[c620_col['vent_gas_sf']])"
      ],
      "execution_count": 34,
      "outputs": []
    },
    {
      "cell_type": "code",
      "metadata": {
        "id": "_BZ159U_jduU",
        "colab": {
          "base_uri": "https://localhost:8080/"
        },
        "outputId": "124b0668-13c0-46f3-b3ab-99e1d16ea244"
      },
      "source": [
        "np.allclose(vent_gas_sf_hat,c620_df[c620_col['vent_gas_sf']])"
      ],
      "execution_count": 35,
      "outputs": [
        {
          "output_type": "execute_result",
          "data": {
            "text/plain": [
              "True"
            ]
          },
          "metadata": {
            "tags": []
          },
          "execution_count": 35
        }
      ]
    },
    {
      "cell_type": "markdown",
      "metadata": {
        "id": "JQocuRqtCcph"
      },
      "source": [
        "# icg_input 中的 side_benzene 必須與 c620_wt中的side_benzene 一致"
      ]
    },
    {
      "cell_type": "code",
      "metadata": {
        "colab": {
          "base_uri": "https://localhost:8080/",
          "height": 419
        },
        "id": "ckzgLCFXCc-E",
        "outputId": "80a9e845-9822-4f2f-e756-2b5b8d61679f"
      },
      "source": [
        "a = icg_df.filter(regex='Benzene in C620 Sidedraw_wt%')\n",
        "b = c620_df.filter(regex='Sidedraw Production Rate and Composition_Benzene_wt%')\n",
        "idx = list(set(a.index)&set(b.index))\n",
        "a.loc[idx].join(b.loc[idx])"
      ],
      "execution_count": 36,
      "outputs": [
        {
          "output_type": "execute_result",
          "data": {
            "text/html": [
              "<div>\n",
              "<style scoped>\n",
              "    .dataframe tbody tr th:only-of-type {\n",
              "        vertical-align: middle;\n",
              "    }\n",
              "\n",
              "    .dataframe tbody tr th {\n",
              "        vertical-align: top;\n",
              "    }\n",
              "\n",
              "    .dataframe thead th {\n",
              "        text-align: right;\n",
              "    }\n",
              "</style>\n",
              "<table border=\"1\" class=\"dataframe\">\n",
              "  <thead>\n",
              "    <tr style=\"text-align: right;\">\n",
              "      <th></th>\n",
              "      <th>Simulation Case Conditions_Spec 1 : Benzene in C620 Sidedraw_wt%</th>\n",
              "      <th>Tatoray Stripper C620 Operation_Sidedraw Production Rate and Composition_Benzene_wt%</th>\n",
              "    </tr>\n",
              "  </thead>\n",
              "  <tbody>\n",
              "    <tr>\n",
              "      <th>140-020</th>\n",
              "      <td>70.0</td>\n",
              "      <td>70.000000</td>\n",
              "    </tr>\n",
              "    <tr>\n",
              "      <th>102-011</th>\n",
              "      <td>80.0</td>\n",
              "      <td>79.999992</td>\n",
              "    </tr>\n",
              "    <tr>\n",
              "      <th>064-014</th>\n",
              "      <td>80.0</td>\n",
              "      <td>80.000015</td>\n",
              "    </tr>\n",
              "    <tr>\n",
              "      <th>052-008</th>\n",
              "      <td>90.0</td>\n",
              "      <td>90.000000</td>\n",
              "    </tr>\n",
              "    <tr>\n",
              "      <th>141-020</th>\n",
              "      <td>70.0</td>\n",
              "      <td>70.000015</td>\n",
              "    </tr>\n",
              "    <tr>\n",
              "      <th>...</th>\n",
              "      <td>...</td>\n",
              "      <td>...</td>\n",
              "    </tr>\n",
              "    <tr>\n",
              "      <th>097-011</th>\n",
              "      <td>80.0</td>\n",
              "      <td>80.000000</td>\n",
              "    </tr>\n",
              "    <tr>\n",
              "      <th>114-008</th>\n",
              "      <td>90.0</td>\n",
              "      <td>90.000000</td>\n",
              "    </tr>\n",
              "    <tr>\n",
              "      <th>019-002</th>\n",
              "      <td>90.0</td>\n",
              "      <td>90.000000</td>\n",
              "    </tr>\n",
              "    <tr>\n",
              "      <th>096-023</th>\n",
              "      <td>70.0</td>\n",
              "      <td>70.000015</td>\n",
              "    </tr>\n",
              "    <tr>\n",
              "      <th>020-014</th>\n",
              "      <td>80.0</td>\n",
              "      <td>80.000000</td>\n",
              "    </tr>\n",
              "  </tbody>\n",
              "</table>\n",
              "<p>1295 rows × 2 columns</p>\n",
              "</div>"
            ],
            "text/plain": [
              "         Simulation Case Conditions_Spec 1 : Benzene in C620 Sidedraw_wt%  Tatoray Stripper C620 Operation_Sidedraw Production Rate and Composition_Benzene_wt%\n",
              "140-020                                               70.0                                                         70.000000                                   \n",
              "102-011                                               80.0                                                         79.999992                                   \n",
              "064-014                                               80.0                                                         80.000015                                   \n",
              "052-008                                               90.0                                                         90.000000                                   \n",
              "141-020                                               70.0                                                         70.000015                                   \n",
              "...                                                    ...                                                               ...                                   \n",
              "097-011                                               80.0                                                         80.000000                                   \n",
              "114-008                                               90.0                                                         90.000000                                   \n",
              "019-002                                               90.0                                                         90.000000                                   \n",
              "096-023                                               70.0                                                         70.000015                                   \n",
              "020-014                                               80.0                                                         80.000000                                   \n",
              "\n",
              "[1295 rows x 2 columns]"
            ]
          },
          "metadata": {
            "tags": []
          },
          "execution_count": 36
        }
      ]
    },
    {
      "cell_type": "markdown",
      "metadata": {
        "id": "r82xWUfPIvf4"
      },
      "source": [
        "# NA IN BENZENE = 980 對應到c660_side的na加總值"
      ]
    },
    {
      "cell_type": "code",
      "metadata": {
        "colab": {
          "base_uri": "https://localhost:8080/",
          "height": 419
        },
        "id": "fKK9xqo8EYGM",
        "outputId": "17bb9aed-07bd-4b8e-a6c9-5882ceacf8d9"
      },
      "source": [
        "a = icg_df[['Simulation Case Conditions_Spec 2 : NA in Benzene_ppmw']]\n",
        "naidx = [1,2,3,4,5,6,8,9,11,13,14,15,20,22,29]\n",
        "b = c660_df[c660_col['sidedraw_x']].iloc[:,naidx].sum(axis=1).to_frame()*10000\n",
        "idx = list(set(a.index)&set(b.index))\n",
        "a.loc[idx].join(b.loc[idx])"
      ],
      "execution_count": 37,
      "outputs": [
        {
          "output_type": "execute_result",
          "data": {
            "text/html": [
              "<div>\n",
              "<style scoped>\n",
              "    .dataframe tbody tr th:only-of-type {\n",
              "        vertical-align: middle;\n",
              "    }\n",
              "\n",
              "    .dataframe tbody tr th {\n",
              "        vertical-align: top;\n",
              "    }\n",
              "\n",
              "    .dataframe thead th {\n",
              "        text-align: right;\n",
              "    }\n",
              "</style>\n",
              "<table border=\"1\" class=\"dataframe\">\n",
              "  <thead>\n",
              "    <tr style=\"text-align: right;\">\n",
              "      <th></th>\n",
              "      <th>Simulation Case Conditions_Spec 2 : NA in Benzene_ppmw</th>\n",
              "      <th>0</th>\n",
              "    </tr>\n",
              "  </thead>\n",
              "  <tbody>\n",
              "    <tr>\n",
              "      <th>140-020</th>\n",
              "      <td>980.0</td>\n",
              "      <td>980.007185</td>\n",
              "    </tr>\n",
              "    <tr>\n",
              "      <th>102-011</th>\n",
              "      <td>920.0</td>\n",
              "      <td>920.002413</td>\n",
              "    </tr>\n",
              "    <tr>\n",
              "      <th>064-014</th>\n",
              "      <td>950.0</td>\n",
              "      <td>949.997234</td>\n",
              "    </tr>\n",
              "    <tr>\n",
              "      <th>052-008</th>\n",
              "      <td>920.0</td>\n",
              "      <td>920.332316</td>\n",
              "    </tr>\n",
              "    <tr>\n",
              "      <th>141-020</th>\n",
              "      <td>980.0</td>\n",
              "      <td>980.000796</td>\n",
              "    </tr>\n",
              "    <tr>\n",
              "      <th>...</th>\n",
              "      <td>...</td>\n",
              "      <td>...</td>\n",
              "    </tr>\n",
              "    <tr>\n",
              "      <th>097-011</th>\n",
              "      <td>980.0</td>\n",
              "      <td>979.997114</td>\n",
              "    </tr>\n",
              "    <tr>\n",
              "      <th>114-008</th>\n",
              "      <td>860.0</td>\n",
              "      <td>860.001045</td>\n",
              "    </tr>\n",
              "    <tr>\n",
              "      <th>019-002</th>\n",
              "      <td>980.0</td>\n",
              "      <td>980.000275</td>\n",
              "    </tr>\n",
              "    <tr>\n",
              "      <th>096-023</th>\n",
              "      <td>830.0</td>\n",
              "      <td>829.997735</td>\n",
              "    </tr>\n",
              "    <tr>\n",
              "      <th>020-014</th>\n",
              "      <td>950.0</td>\n",
              "      <td>949.999637</td>\n",
              "    </tr>\n",
              "  </tbody>\n",
              "</table>\n",
              "<p>1295 rows × 2 columns</p>\n",
              "</div>"
            ],
            "text/plain": [
              "         Simulation Case Conditions_Spec 2 : NA in Benzene_ppmw           0\n",
              "140-020                                              980.0       980.007185\n",
              "102-011                                              920.0       920.002413\n",
              "064-014                                              950.0       949.997234\n",
              "052-008                                              920.0       920.332316\n",
              "141-020                                              980.0       980.000796\n",
              "...                                                    ...              ...\n",
              "097-011                                              980.0       979.997114\n",
              "114-008                                              860.0       860.001045\n",
              "019-002                                              980.0       980.000275\n",
              "096-023                                              830.0       829.997735\n",
              "020-014                                              950.0       949.999637\n",
              "\n",
              "[1295 rows x 2 columns]"
            ]
          },
          "metadata": {
            "tags": []
          },
          "execution_count": 37
        }
      ]
    },
    {
      "cell_type": "markdown",
      "metadata": {
        "id": "0I-NWx-30Lsl"
      },
      "source": [
        "# check 分離係數有些數值都是固定不變的"
      ]
    },
    {
      "cell_type": "code",
      "metadata": {
        "id": "DEU2E-eK1wPK"
      },
      "source": [
        "#'vent_gas_sf','distillate_sf', 'sidedraw_sf', 'bottoms_sf'"
      ],
      "execution_count": 38,
      "outputs": []
    },
    {
      "cell_type": "code",
      "metadata": {
        "id": "dDc3XmRz19qH",
        "colab": {
          "base_uri": "https://localhost:8080/"
        },
        "outputId": "08b61680-6a18-41bc-e379-04e5906c1847"
      },
      "source": [
        "c620_sp_col = c620_col['vent_gas_sf']+c620_col['distillate_sf']+c620_col['sidedraw_sf']+c620_col['bottoms_sf']\n",
        "a = c620_df[c620_sp_col].describe().T\n",
        "c620_wt_always_same_split_factor_dict = a[a['std']==0]['mean'].to_dict()\n",
        "joblib.dump(c620_wt_always_same_split_factor_dict,'/content/drive/MyDrive/台塑輕油案子/data/c620/map_dict/c620_wt_always_same_split_factor_dict.pkl')\n",
        "c620_wt_always_same_split_factor_dict"
      ],
      "execution_count": 39,
      "outputs": [
        {
          "output_type": "execute_result",
          "data": {
            "text/plain": [
              "{'Tatoray Stripper C620 Split Factors Calculation_Split Factor for Individual Component to Tatoray Stripper C620 Bottoms_1,4-Diethylbenzene_Fraction': 1.0,\n",
              " 'Tatoray Stripper C620 Split Factors Calculation_Split Factor for Individual Component to Tatoray Stripper C620 Bottoms_Ethane_Fraction': 0.0,\n",
              " 'Tatoray Stripper C620 Split Factors Calculation_Split Factor for Individual Component to Tatoray Stripper C620 Bottoms_Hydrogen_Fraction': 0.0,\n",
              " 'Tatoray Stripper C620 Split Factors Calculation_Split Factor for Individual Component to Tatoray Stripper C620 Bottoms_Methane_Fraction': 0.0,\n",
              " 'Tatoray Stripper C620 Split Factors Calculation_Split Factor for Individual Component to Tatoray Stripper C620 Bottoms_Nitrogen_Fraction': 0.0,\n",
              " 'Tatoray Stripper C620 Split Factors Calculation_Split Factor for Individual Component to Tatoray Stripper C620 Bottoms_Oxygen_Fraction': 0.0,\n",
              " 'Tatoray Stripper C620 Split Factors Calculation_Split Factor for Individual Component to Tatoray Stripper C620 Bottoms_Propane_Fraction': 0.0,\n",
              " 'Tatoray Stripper C620 Split Factors Calculation_Split Factor for Individual Component to Tatoray Stripper C620 Bottoms_Water_Fraction': 0.0,\n",
              " 'Tatoray Stripper C620 Split Factors Calculation_Split Factor for Individual Component to Tatoray Stripper C620 Bottoms_tert-Butylcyclohexane_Fraction': 1.0,\n",
              " 'Tatoray Stripper C620 Split Factors Calculation_Split Factor for Individual Component to Tatoray Stripper C620 Distillate_1,4-Diethylbenzene_Fraction': 0.0,\n",
              " 'Tatoray Stripper C620 Split Factors Calculation_Split Factor for Individual Component to Tatoray Stripper C620 Distillate_Hydrogen_Fraction': 0.0,\n",
              " 'Tatoray Stripper C620 Split Factors Calculation_Split Factor for Individual Component to Tatoray Stripper C620 Distillate_Nitrogen_Fraction': 0.0,\n",
              " 'Tatoray Stripper C620 Split Factors Calculation_Split Factor for Individual Component to Tatoray Stripper C620 Distillate_Oxygen_Fraction': 0.0,\n",
              " 'Tatoray Stripper C620 Split Factors Calculation_Split Factor for Individual Component to Tatoray Stripper C620 Distillate_Water_Fraction': 1.0,\n",
              " 'Tatoray Stripper C620 Split Factors Calculation_Split Factor for Individual Component to Tatoray Stripper C620 Distillate_tert-Butylcyclohexane_Fraction': 0.0,\n",
              " 'Tatoray Stripper C620 Split Factors Calculation_Split Factor for Individual Component to Tatoray Stripper C620 Sidedraw_1,4-Diethylbenzene_Fraction': 0.0,\n",
              " 'Tatoray Stripper C620 Split Factors Calculation_Split Factor for Individual Component to Tatoray Stripper C620 Sidedraw_Hydrogen_Fraction': 0.0,\n",
              " 'Tatoray Stripper C620 Split Factors Calculation_Split Factor for Individual Component to Tatoray Stripper C620 Sidedraw_Nitrogen_Fraction': 0.0,\n",
              " 'Tatoray Stripper C620 Split Factors Calculation_Split Factor for Individual Component to Tatoray Stripper C620 Sidedraw_Oxygen_Fraction': 0.0,\n",
              " 'Tatoray Stripper C620 Split Factors Calculation_Split Factor for Individual Component to Tatoray Stripper C620 Sidedraw_Water_Fraction': 0.0,\n",
              " 'Tatoray Stripper C620 Split Factors Calculation_Split Factor for Individual Component to Tatoray Stripper C620 Sidedraw_tert-Butylcyclohexane_Fraction': 0.0,\n",
              " 'Tatoray Stripper C620 Split Factors Calculation_Split Factor for Individual Component to Tatoray Stripper C620 Vent Gas_1,4-Diethylbenzene_Fraction': 0.0,\n",
              " 'Tatoray Stripper C620 Split Factors Calculation_Split Factor for Individual Component to Tatoray Stripper C620 Vent Gas_Hydrogen_Fraction': 1.0,\n",
              " 'Tatoray Stripper C620 Split Factors Calculation_Split Factor for Individual Component to Tatoray Stripper C620 Vent Gas_Nitrogen_Fraction': 1.0,\n",
              " 'Tatoray Stripper C620 Split Factors Calculation_Split Factor for Individual Component to Tatoray Stripper C620 Vent Gas_Oxygen_Fraction': 1.0,\n",
              " 'Tatoray Stripper C620 Split Factors Calculation_Split Factor for Individual Component to Tatoray Stripper C620 Vent Gas_Water_Fraction': 0.0,\n",
              " 'Tatoray Stripper C620 Split Factors Calculation_Split Factor for Individual Component to Tatoray Stripper C620 Vent Gas_tert-Butylcyclohexane_Fraction': 0.0}"
            ]
          },
          "metadata": {
            "tags": []
          },
          "execution_count": 39
        }
      ]
    },
    {
      "cell_type": "code",
      "metadata": {
        "id": "qGsv42-c2eZN",
        "colab": {
          "base_uri": "https://localhost:8080/"
        },
        "outputId": "39f9c70f-5fa9-4b66-d9d0-d6d6852b032c"
      },
      "source": [
        "c660_sp_col = c660_col['vent_gas_sf']+c660_col['distillate_sf']+c660_col['sidedraw_sf']+c660_col['bottoms_sf']\n",
        "a = c660_df[c660_sp_col].describe().T\n",
        "c660_wt_always_same_split_factor_dict = a[a['std']==0]['mean'].to_dict()\n",
        "joblib.dump(c660_wt_always_same_split_factor_dict,'/content/drive/MyDrive/台塑輕油案子/data/c620/map_dict/c660_wt_always_same_split_factor_dict.pkl')\n",
        "c660_wt_always_same_split_factor_dict"
      ],
      "execution_count": 40,
      "outputs": [
        {
          "output_type": "execute_result",
          "data": {
            "text/plain": [
              "{'Benzene Column C660 Split Factors Calculation_Split Factor for Individual Component to Benzene Column C660 Bottoms_1,4-Diethylbenzene_Fraction': 1.0,\n",
              " 'Benzene Column C660 Split Factors Calculation_Split Factor for Individual Component to Benzene Column C660 Bottoms_Ethane_Fraction': 0.0,\n",
              " 'Benzene Column C660 Split Factors Calculation_Split Factor for Individual Component to Benzene Column C660 Bottoms_Hydrogen_Fraction': 0.0,\n",
              " 'Benzene Column C660 Split Factors Calculation_Split Factor for Individual Component to Benzene Column C660 Bottoms_Methane_Fraction': 0.0,\n",
              " 'Benzene Column C660 Split Factors Calculation_Split Factor for Individual Component to Benzene Column C660 Bottoms_Nitrogen_Fraction': 0.0,\n",
              " 'Benzene Column C660 Split Factors Calculation_Split Factor for Individual Component to Benzene Column C660 Bottoms_Oxygen_Fraction': 0.0,\n",
              " 'Benzene Column C660 Split Factors Calculation_Split Factor for Individual Component to Benzene Column C660 Bottoms_Propane_Fraction': 0.0,\n",
              " 'Benzene Column C660 Split Factors Calculation_Split Factor for Individual Component to Benzene Column C660 Bottoms_Water_Fraction': 0.0,\n",
              " 'Benzene Column C660 Split Factors Calculation_Split Factor for Individual Component to Benzene Column C660 Distillate_1,2,3,5-Tetramethylbenzene_Fraction': 0.0,\n",
              " 'Benzene Column C660 Split Factors Calculation_Split Factor for Individual Component to Benzene Column C660 Distillate_1,2,3-Trimethylbenzene_Fraction': 0.0,\n",
              " 'Benzene Column C660 Split Factors Calculation_Split Factor for Individual Component to Benzene Column C660 Distillate_1,2,4-Trimethylbenzene_Fraction': 0.0,\n",
              " 'Benzene Column C660 Split Factors Calculation_Split Factor for Individual Component to Benzene Column C660 Distillate_1,2-Diethylbenzene_Fraction': 0.0,\n",
              " 'Benzene Column C660 Split Factors Calculation_Split Factor for Individual Component to Benzene Column C660 Distillate_1,3,5-Trimethylbenzene_Fraction': 0.0,\n",
              " 'Benzene Column C660 Split Factors Calculation_Split Factor for Individual Component to Benzene Column C660 Distillate_1,4-Diethylbenzene_Fraction': 0.0,\n",
              " 'Benzene Column C660 Split Factors Calculation_Split Factor for Individual Component to Benzene Column C660 Distillate_1-Methyl-4-n-propylbenzene_Fraction': 0.0,\n",
              " 'Benzene Column C660 Split Factors Calculation_Split Factor for Individual Component to Benzene Column C660 Distillate_5-Ethyl-m-xylene_Fraction': 0.0,\n",
              " 'Benzene Column C660 Split Factors Calculation_Split Factor for Individual Component to Benzene Column C660 Distillate_Hydrogen_Fraction': 0.0,\n",
              " 'Benzene Column C660 Split Factors Calculation_Split Factor for Individual Component to Benzene Column C660 Distillate_Indane_Fraction': 0.0,\n",
              " 'Benzene Column C660 Split Factors Calculation_Split Factor for Individual Component to Benzene Column C660 Distillate_Nitrogen_Fraction': 0.0,\n",
              " 'Benzene Column C660 Split Factors Calculation_Split Factor for Individual Component to Benzene Column C660 Distillate_Oxygen_Fraction': 0.0,\n",
              " 'Benzene Column C660 Split Factors Calculation_Split Factor for Individual Component to Benzene Column C660 Distillate_Water_Fraction': 1.0,\n",
              " 'Benzene Column C660 Split Factors Calculation_Split Factor for Individual Component to Benzene Column C660 Distillate_n-Hexylbenzene_Fraction': 0.0,\n",
              " 'Benzene Column C660 Split Factors Calculation_Split Factor for Individual Component to Benzene Column C660 Distillate_n-Pentylbenzene_Fraction': 0.0,\n",
              " 'Benzene Column C660 Split Factors Calculation_Split Factor for Individual Component to Benzene Column C660 Distillate_n-Propylbenzene_Fraction': 0.0,\n",
              " 'Benzene Column C660 Split Factors Calculation_Split Factor for Individual Component to Benzene Column C660 Sidedraw_1,2,3,5-Tetramethylbenzene_Fraction': 0.0,\n",
              " 'Benzene Column C660 Split Factors Calculation_Split Factor for Individual Component to Benzene Column C660 Sidedraw_1,2,3-Trimethylbenzene_Fraction': 0.0,\n",
              " 'Benzene Column C660 Split Factors Calculation_Split Factor for Individual Component to Benzene Column C660 Sidedraw_1,4-Diethylbenzene_Fraction': 0.0,\n",
              " 'Benzene Column C660 Split Factors Calculation_Split Factor for Individual Component to Benzene Column C660 Sidedraw_5-Ethyl-m-xylene_Fraction': 0.0,\n",
              " 'Benzene Column C660 Split Factors Calculation_Split Factor for Individual Component to Benzene Column C660 Sidedraw_Hydrogen_Fraction': 0.0,\n",
              " 'Benzene Column C660 Split Factors Calculation_Split Factor for Individual Component to Benzene Column C660 Sidedraw_Indane_Fraction': 0.0,\n",
              " 'Benzene Column C660 Split Factors Calculation_Split Factor for Individual Component to Benzene Column C660 Sidedraw_Nitrogen_Fraction': 0.0,\n",
              " 'Benzene Column C660 Split Factors Calculation_Split Factor for Individual Component to Benzene Column C660 Sidedraw_Oxygen_Fraction': 0.0,\n",
              " 'Benzene Column C660 Split Factors Calculation_Split Factor for Individual Component to Benzene Column C660 Sidedraw_Water_Fraction': 0.0,\n",
              " 'Benzene Column C660 Split Factors Calculation_Split Factor for Individual Component to Benzene Column C660 Sidedraw_n-Hexylbenzene_Fraction': 0.0,\n",
              " 'Benzene Column C660 Split Factors Calculation_Split Factor for Individual Component to Benzene Column C660 Sidedraw_n-Pentylbenzene_Fraction': 0.0,\n",
              " 'Benzene Column C660 Split Factors Calculation_Split Factor for Individual Component to Benzene Column C660 Vent Gas_1,2,3,5-Tetramethylbenzene_Fraction': 0.0,\n",
              " 'Benzene Column C660 Split Factors Calculation_Split Factor for Individual Component to Benzene Column C660 Vent Gas_1,2,3-Trimethylbenzene_Fraction': 0.0,\n",
              " 'Benzene Column C660 Split Factors Calculation_Split Factor for Individual Component to Benzene Column C660 Vent Gas_1,2,4-Trimethylbenzene_Fraction': 0.0,\n",
              " 'Benzene Column C660 Split Factors Calculation_Split Factor for Individual Component to Benzene Column C660 Vent Gas_1,2-Diethylbenzene_Fraction': 0.0,\n",
              " 'Benzene Column C660 Split Factors Calculation_Split Factor for Individual Component to Benzene Column C660 Vent Gas_1,3,5-Trimethylbenzene_Fraction': 0.0,\n",
              " 'Benzene Column C660 Split Factors Calculation_Split Factor for Individual Component to Benzene Column C660 Vent Gas_1,4-Diethylbenzene_Fraction': 0.0,\n",
              " 'Benzene Column C660 Split Factors Calculation_Split Factor for Individual Component to Benzene Column C660 Vent Gas_1-Methyl-4-n-propylbenzene_Fraction': 0.0,\n",
              " 'Benzene Column C660 Split Factors Calculation_Split Factor for Individual Component to Benzene Column C660 Vent Gas_5-Ethyl-m-xylene_Fraction': 0.0,\n",
              " 'Benzene Column C660 Split Factors Calculation_Split Factor for Individual Component to Benzene Column C660 Vent Gas_Hydrogen_Fraction': 1.0,\n",
              " 'Benzene Column C660 Split Factors Calculation_Split Factor for Individual Component to Benzene Column C660 Vent Gas_Indane_Fraction': 0.0,\n",
              " 'Benzene Column C660 Split Factors Calculation_Split Factor for Individual Component to Benzene Column C660 Vent Gas_Nitrogen_Fraction': 1.0,\n",
              " 'Benzene Column C660 Split Factors Calculation_Split Factor for Individual Component to Benzene Column C660 Vent Gas_Oxygen_Fraction': 1.0,\n",
              " 'Benzene Column C660 Split Factors Calculation_Split Factor for Individual Component to Benzene Column C660 Vent Gas_Water_Fraction': 0.0,\n",
              " 'Benzene Column C660 Split Factors Calculation_Split Factor for Individual Component to Benzene Column C660 Vent Gas_n-Hexylbenzene_Fraction': 0.0,\n",
              " 'Benzene Column C660 Split Factors Calculation_Split Factor for Individual Component to Benzene Column C660 Vent Gas_n-Pentylbenzene_Fraction': 0.0,\n",
              " 'Benzene Column C660 Split Factors Calculation_Split Factor for Individual Component to Benzene Column C660 Vent Gas_n-Propylbenzene_Fraction': 0.0}"
            ]
          },
          "metadata": {
            "tags": []
          },
          "execution_count": 40
        }
      ]
    },
    {
      "cell_type": "code",
      "metadata": {
        "id": "4KInqB5l335z",
        "colab": {
          "base_uri": "https://localhost:8080/"
        },
        "outputId": "f438e413-0ee5-403e-aae3-468a7b16355d"
      },
      "source": [
        "c670_sp_col = c670_col['distillate_sf']+c670_col['bottoms_sf']\n",
        "a = c670_df[c670_sp_col].describe().T\n",
        "c670_wt_always_same_split_factor_dict = a[a['std']==0]['mean'].to_dict()\n",
        "joblib.dump(c670_wt_always_same_split_factor_dict,'/content/drive/MyDrive/台塑輕油案子/data/c620/map_dict/c670_wt_always_same_split_factor_dict.pkl')\n",
        "c670_wt_always_same_split_factor_dict"
      ],
      "execution_count": 41,
      "outputs": [
        {
          "output_type": "execute_result",
          "data": {
            "text/plain": [
              "{'Toluene Column C670 Split Factors Calculation_Split Factor for Individual Component to Toluene Column C670 Bottoms_1,4-Diethylbenzene_Fraction': 1.0,\n",
              " 'Toluene Column C670 Split Factors Calculation_Split Factor for Individual Component to Toluene Column C670 Bottoms_Ethane_Fraction': 0.0,\n",
              " 'Toluene Column C670 Split Factors Calculation_Split Factor for Individual Component to Toluene Column C670 Bottoms_Hydrogen_Fraction': 0.0,\n",
              " 'Toluene Column C670 Split Factors Calculation_Split Factor for Individual Component to Toluene Column C670 Bottoms_Methane_Fraction': 0.0,\n",
              " 'Toluene Column C670 Split Factors Calculation_Split Factor for Individual Component to Toluene Column C670 Bottoms_Nitrogen_Fraction': 0.0,\n",
              " 'Toluene Column C670 Split Factors Calculation_Split Factor for Individual Component to Toluene Column C670 Bottoms_Oxygen_Fraction': 0.0,\n",
              " 'Toluene Column C670 Split Factors Calculation_Split Factor for Individual Component to Toluene Column C670 Bottoms_Propane_Fraction': 0.0,\n",
              " 'Toluene Column C670 Split Factors Calculation_Split Factor for Individual Component to Toluene Column C670 Bottoms_Water_Fraction': 0.0,\n",
              " 'Toluene Column C670 Split Factors Calculation_Split Factor for Individual Component to Toluene Column C670 Bottoms_n-Butane_Fraction': 0.0,\n",
              " 'Toluene Column C670 Split Factors Calculation_Split Factor for Individual Component to Toluene Column C670 Bottoms_n-Hexane_Fraction': 0.0,\n",
              " 'Toluene Column C670 Split Factors Calculation_Split Factor for Individual Component to Toluene Column C670 Bottoms_n-Pentane_Fraction': 0.0,\n",
              " 'Toluene Column C670 Split Factors Calculation_Split Factor for Individual Component to Toluene Column C670 Distillate_1,2,3,5-Tetramethylbenzene_Fraction': 0.0,\n",
              " 'Toluene Column C670 Split Factors Calculation_Split Factor for Individual Component to Toluene Column C670 Distillate_1,4-Diethylbenzene_Fraction': 0.0,\n",
              " 'Toluene Column C670 Split Factors Calculation_Split Factor for Individual Component to Toluene Column C670 Distillate_Ethane_Fraction': 1.0,\n",
              " 'Toluene Column C670 Split Factors Calculation_Split Factor for Individual Component to Toluene Column C670 Distillate_Hydrogen_Fraction': 1.0,\n",
              " 'Toluene Column C670 Split Factors Calculation_Split Factor for Individual Component to Toluene Column C670 Distillate_Methane_Fraction': 1.0,\n",
              " 'Toluene Column C670 Split Factors Calculation_Split Factor for Individual Component to Toluene Column C670 Distillate_Nitrogen_Fraction': 1.0,\n",
              " 'Toluene Column C670 Split Factors Calculation_Split Factor for Individual Component to Toluene Column C670 Distillate_Oxygen_Fraction': 1.0,\n",
              " 'Toluene Column C670 Split Factors Calculation_Split Factor for Individual Component to Toluene Column C670 Distillate_Propane_Fraction': 1.0,\n",
              " 'Toluene Column C670 Split Factors Calculation_Split Factor for Individual Component to Toluene Column C670 Distillate_Water_Fraction': 1.0,\n",
              " 'Toluene Column C670 Split Factors Calculation_Split Factor for Individual Component to Toluene Column C670 Distillate_n-Butane_Fraction': 1.0,\n",
              " 'Toluene Column C670 Split Factors Calculation_Split Factor for Individual Component to Toluene Column C670 Distillate_n-Hexane_Fraction': 1.0,\n",
              " 'Toluene Column C670 Split Factors Calculation_Split Factor for Individual Component to Toluene Column C670 Distillate_n-Hexylbenzene_Fraction': 0.0,\n",
              " 'Toluene Column C670 Split Factors Calculation_Split Factor for Individual Component to Toluene Column C670 Distillate_n-Pentane_Fraction': 1.0,\n",
              " 'Toluene Column C670 Split Factors Calculation_Split Factor for Individual Component to Toluene Column C670 Distillate_n-Pentylbenzene_Fraction': 0.0}"
            ]
          },
          "metadata": {
            "tags": []
          },
          "execution_count": 41
        }
      ]
    },
    {
      "cell_type": "markdown",
      "metadata": {
        "id": "LBOrU7J_zVeT"
      },
      "source": [
        "# check real data 也是有分離係數是不變得"
      ]
    },
    {
      "cell_type": "code",
      "metadata": {
        "id": "v2EWlSuf4DOx",
        "outputId": "fe70d8d0-d189-498f-e1f2-e11cbd70b05b",
        "colab": {
          "base_uri": "https://localhost:8080/"
        }
      },
      "source": [
        "c620_df_real = pd.read_excel('/content/drive/MyDrive/台塑輕油案子/data/c620/明志_遷移式學習_訓練資料_寄送版/c620_data.xlsx',index_col=0)\n",
        "a = c620_df_real[c620_sp_col].describe().T\n",
        "c620_wt_always_same_split_factor_dict_real = a[a['std']==0]['mean'].to_dict()\n",
        "set(c620_wt_always_same_split_factor_dict_real)^set(c620_wt_always_same_split_factor_dict)"
      ],
      "execution_count": 47,
      "outputs": [
        {
          "output_type": "execute_result",
          "data": {
            "text/plain": [
              "{'Tatoray Stripper C620 Split Factors Calculation_Split Factor for Individual Component to Tatoray Stripper C620 Bottoms_Indane_Fraction',\n",
              " 'Tatoray Stripper C620 Split Factors Calculation_Split Factor for Individual Component to Tatoray Stripper C620 Bottoms_i-Propylbenzene_Fraction',\n",
              " 'Tatoray Stripper C620 Split Factors Calculation_Split Factor for Individual Component to Tatoray Stripper C620 Bottoms_n-Propylbenzene_Fraction',\n",
              " 'Tatoray Stripper C620 Split Factors Calculation_Split Factor for Individual Component to Tatoray Stripper C620 Distillate_1,2,3-Trimethylbenzene_Fraction',\n",
              " 'Tatoray Stripper C620 Split Factors Calculation_Split Factor for Individual Component to Tatoray Stripper C620 Distillate_1,2,4-Trimethylbenzene_Fraction',\n",
              " 'Tatoray Stripper C620 Split Factors Calculation_Split Factor for Individual Component to Tatoray Stripper C620 Distillate_1,3,5-Trimethylbenzene_Fraction',\n",
              " 'Tatoray Stripper C620 Split Factors Calculation_Split Factor for Individual Component to Tatoray Stripper C620 Distillate_1-Methyl-2-ethylbenzene_Fraction',\n",
              " 'Tatoray Stripper C620 Split Factors Calculation_Split Factor for Individual Component to Tatoray Stripper C620 Distillate_1-Methyl-3-ethylbenzene_Fraction',\n",
              " 'Tatoray Stripper C620 Split Factors Calculation_Split Factor for Individual Component to Tatoray Stripper C620 Distillate_1-Methyl-4-ethylbenzene_Fraction',\n",
              " 'Tatoray Stripper C620 Split Factors Calculation_Split Factor for Individual Component to Tatoray Stripper C620 Distillate_Benzene_Fraction',\n",
              " 'Tatoray Stripper C620 Split Factors Calculation_Split Factor for Individual Component to Tatoray Stripper C620 Distillate_Cyclohexane_Fraction',\n",
              " 'Tatoray Stripper C620 Split Factors Calculation_Split Factor for Individual Component to Tatoray Stripper C620 Distillate_Indane_Fraction',\n",
              " 'Tatoray Stripper C620 Split Factors Calculation_Split Factor for Individual Component to Tatoray Stripper C620 Distillate_Propane_Fraction',\n",
              " 'Tatoray Stripper C620 Split Factors Calculation_Split Factor for Individual Component to Tatoray Stripper C620 Distillate_i-Propylbenzene_Fraction',\n",
              " 'Tatoray Stripper C620 Split Factors Calculation_Split Factor for Individual Component to Tatoray Stripper C620 Distillate_n-Butane_Fraction',\n",
              " 'Tatoray Stripper C620 Split Factors Calculation_Split Factor for Individual Component to Tatoray Stripper C620 Distillate_n-Hexane_Fraction',\n",
              " 'Tatoray Stripper C620 Split Factors Calculation_Split Factor for Individual Component to Tatoray Stripper C620 Distillate_n-Pentane_Fraction',\n",
              " 'Tatoray Stripper C620 Split Factors Calculation_Split Factor for Individual Component to Tatoray Stripper C620 Distillate_n-Propylbenzene_Fraction',\n",
              " 'Tatoray Stripper C620 Split Factors Calculation_Split Factor for Individual Component to Tatoray Stripper C620 Vent Gas_1,2,3,5-Tetramethylbenzene_Fraction',\n",
              " 'Tatoray Stripper C620 Split Factors Calculation_Split Factor for Individual Component to Tatoray Stripper C620 Vent Gas_1,2,3-Trimethylbenzene_Fraction',\n",
              " 'Tatoray Stripper C620 Split Factors Calculation_Split Factor for Individual Component to Tatoray Stripper C620 Vent Gas_1,2,4-Trimethylbenzene_Fraction',\n",
              " 'Tatoray Stripper C620 Split Factors Calculation_Split Factor for Individual Component to Tatoray Stripper C620 Vent Gas_1,2-Diethylbenzene_Fraction',\n",
              " 'Tatoray Stripper C620 Split Factors Calculation_Split Factor for Individual Component to Tatoray Stripper C620 Vent Gas_1,3,5-Trimethylbenzene_Fraction',\n",
              " 'Tatoray Stripper C620 Split Factors Calculation_Split Factor for Individual Component to Tatoray Stripper C620 Vent Gas_1-Methyl-2-ethylbenzene_Fraction',\n",
              " 'Tatoray Stripper C620 Split Factors Calculation_Split Factor for Individual Component to Tatoray Stripper C620 Vent Gas_1-Methyl-3-ethylbenzene_Fraction',\n",
              " 'Tatoray Stripper C620 Split Factors Calculation_Split Factor for Individual Component to Tatoray Stripper C620 Vent Gas_1-Methyl-4-ethylbenzene_Fraction',\n",
              " 'Tatoray Stripper C620 Split Factors Calculation_Split Factor for Individual Component to Tatoray Stripper C620 Vent Gas_1-Methyl-4-n-propylbenzene_Fraction',\n",
              " 'Tatoray Stripper C620 Split Factors Calculation_Split Factor for Individual Component to Tatoray Stripper C620 Vent Gas_5-Ethyl-m-xylene_Fraction',\n",
              " 'Tatoray Stripper C620 Split Factors Calculation_Split Factor for Individual Component to Tatoray Stripper C620 Vent Gas_Ethane_Fraction',\n",
              " 'Tatoray Stripper C620 Split Factors Calculation_Split Factor for Individual Component to Tatoray Stripper C620 Vent Gas_Ethylbenzene_Fraction',\n",
              " 'Tatoray Stripper C620 Split Factors Calculation_Split Factor for Individual Component to Tatoray Stripper C620 Vent Gas_Ethylcyclohexane_Fraction',\n",
              " 'Tatoray Stripper C620 Split Factors Calculation_Split Factor for Individual Component to Tatoray Stripper C620 Vent Gas_Indane_Fraction',\n",
              " 'Tatoray Stripper C620 Split Factors Calculation_Split Factor for Individual Component to Tatoray Stripper C620 Vent Gas_Methane_Fraction',\n",
              " 'Tatoray Stripper C620 Split Factors Calculation_Split Factor for Individual Component to Tatoray Stripper C620 Vent Gas_Methylcyclohexane_Fraction',\n",
              " 'Tatoray Stripper C620 Split Factors Calculation_Split Factor for Individual Component to Tatoray Stripper C620 Vent Gas_Propane_Fraction',\n",
              " 'Tatoray Stripper C620 Split Factors Calculation_Split Factor for Individual Component to Tatoray Stripper C620 Vent Gas_i-Propylbenzene_Fraction',\n",
              " 'Tatoray Stripper C620 Split Factors Calculation_Split Factor for Individual Component to Tatoray Stripper C620 Vent Gas_m-Xylene_Fraction',\n",
              " 'Tatoray Stripper C620 Split Factors Calculation_Split Factor for Individual Component to Tatoray Stripper C620 Vent Gas_n-Butane_Fraction',\n",
              " 'Tatoray Stripper C620 Split Factors Calculation_Split Factor for Individual Component to Tatoray Stripper C620 Vent Gas_n-Heptane_Fraction',\n",
              " 'Tatoray Stripper C620 Split Factors Calculation_Split Factor for Individual Component to Tatoray Stripper C620 Vent Gas_n-Hexylbenzene_Fraction',\n",
              " 'Tatoray Stripper C620 Split Factors Calculation_Split Factor for Individual Component to Tatoray Stripper C620 Vent Gas_n-Nonane_Fraction',\n",
              " 'Tatoray Stripper C620 Split Factors Calculation_Split Factor for Individual Component to Tatoray Stripper C620 Vent Gas_n-Octane_Fraction',\n",
              " 'Tatoray Stripper C620 Split Factors Calculation_Split Factor for Individual Component to Tatoray Stripper C620 Vent Gas_n-Pentylbenzene_Fraction',\n",
              " 'Tatoray Stripper C620 Split Factors Calculation_Split Factor for Individual Component to Tatoray Stripper C620 Vent Gas_n-Propylbenzene_Fraction',\n",
              " 'Tatoray Stripper C620 Split Factors Calculation_Split Factor for Individual Component to Tatoray Stripper C620 Vent Gas_n-Propylcyclohexane_Fraction',\n",
              " 'Tatoray Stripper C620 Split Factors Calculation_Split Factor for Individual Component to Tatoray Stripper C620 Vent Gas_n-Propylcyclopentane_Fraction',\n",
              " 'Tatoray Stripper C620 Split Factors Calculation_Split Factor for Individual Component to Tatoray Stripper C620 Vent Gas_o-Xylene_Fraction',\n",
              " 'Tatoray Stripper C620 Split Factors Calculation_Split Factor for Individual Component to Tatoray Stripper C620 Vent Gas_p-Xylene_Fraction'}"
            ]
          },
          "metadata": {
            "tags": []
          },
          "execution_count": 47
        }
      ]
    },
    {
      "cell_type": "code",
      "metadata": {
        "id": "-FYsLXS20I_n",
        "outputId": "1b8841b7-63ae-4489-e5bf-27aa44481a60",
        "colab": {
          "base_uri": "https://localhost:8080/"
        }
      },
      "source": [
        "c660_df_real = pd.read_excel('/content/drive/MyDrive/台塑輕油案子/data/c620/明志_遷移式學習_訓練資料_寄送版/c660_data.xlsx',index_col=0)\n",
        "a = c660_df_real[c660_sp_col].describe().T\n",
        "c660_wt_always_same_split_factor_dict_real = a[a['std']==0]['mean'].to_dict()\n",
        "set(c660_wt_always_same_split_factor_dict_real)^set(c660_wt_always_same_split_factor_dict)"
      ],
      "execution_count": 48,
      "outputs": [
        {
          "output_type": "execute_result",
          "data": {
            "text/plain": [
              "{'Benzene Column C660 Split Factors Calculation_Split Factor for Individual Component to Benzene Column C660 Bottoms_1,2,3,5-Tetramethylbenzene_Fraction',\n",
              " 'Benzene Column C660 Split Factors Calculation_Split Factor for Individual Component to Benzene Column C660 Bottoms_1,2,3-Trimethylbenzene_Fraction',\n",
              " 'Benzene Column C660 Split Factors Calculation_Split Factor for Individual Component to Benzene Column C660 Bottoms_1,2,4-Trimethylbenzene_Fraction',\n",
              " 'Benzene Column C660 Split Factors Calculation_Split Factor for Individual Component to Benzene Column C660 Bottoms_1,3,5-Trimethylbenzene_Fraction',\n",
              " 'Benzene Column C660 Split Factors Calculation_Split Factor for Individual Component to Benzene Column C660 Bottoms_1-Methyl-2-ethylbenzene_Fraction',\n",
              " 'Benzene Column C660 Split Factors Calculation_Split Factor for Individual Component to Benzene Column C660 Bottoms_1-Methyl-4-ethylbenzene_Fraction',\n",
              " 'Benzene Column C660 Split Factors Calculation_Split Factor for Individual Component to Benzene Column C660 Bottoms_1-Methyl-4-n-propylbenzene_Fraction',\n",
              " 'Benzene Column C660 Split Factors Calculation_Split Factor for Individual Component to Benzene Column C660 Bottoms_5-Ethyl-m-xylene_Fraction',\n",
              " 'Benzene Column C660 Split Factors Calculation_Split Factor for Individual Component to Benzene Column C660 Bottoms_Indane_Fraction',\n",
              " 'Benzene Column C660 Split Factors Calculation_Split Factor for Individual Component to Benzene Column C660 Bottoms_i-Propylbenzene_Fraction',\n",
              " 'Benzene Column C660 Split Factors Calculation_Split Factor for Individual Component to Benzene Column C660 Bottoms_n-Hexylbenzene_Fraction',\n",
              " 'Benzene Column C660 Split Factors Calculation_Split Factor for Individual Component to Benzene Column C660 Bottoms_n-Pentylbenzene_Fraction',\n",
              " 'Benzene Column C660 Split Factors Calculation_Split Factor for Individual Component to Benzene Column C660 Bottoms_n-Propylbenzene_Fraction',\n",
              " 'Benzene Column C660 Split Factors Calculation_Split Factor for Individual Component to Benzene Column C660 Distillate_1-Methyl-2-ethylbenzene_Fraction',\n",
              " 'Benzene Column C660 Split Factors Calculation_Split Factor for Individual Component to Benzene Column C660 Distillate_1-Methyl-3-ethylbenzene_Fraction',\n",
              " 'Benzene Column C660 Split Factors Calculation_Split Factor for Individual Component to Benzene Column C660 Distillate_1-Methyl-4-ethylbenzene_Fraction',\n",
              " 'Benzene Column C660 Split Factors Calculation_Split Factor for Individual Component to Benzene Column C660 Distillate_Benzene_Fraction',\n",
              " 'Benzene Column C660 Split Factors Calculation_Split Factor for Individual Component to Benzene Column C660 Distillate_Cyclohexane_Fraction',\n",
              " 'Benzene Column C660 Split Factors Calculation_Split Factor for Individual Component to Benzene Column C660 Distillate_Ethane_Fraction',\n",
              " 'Benzene Column C660 Split Factors Calculation_Split Factor for Individual Component to Benzene Column C660 Distillate_Propane_Fraction',\n",
              " 'Benzene Column C660 Split Factors Calculation_Split Factor for Individual Component to Benzene Column C660 Distillate_i-Propylbenzene_Fraction',\n",
              " 'Benzene Column C660 Split Factors Calculation_Split Factor for Individual Component to Benzene Column C660 Distillate_n-Butane_Fraction',\n",
              " 'Benzene Column C660 Split Factors Calculation_Split Factor for Individual Component to Benzene Column C660 Distillate_n-Hexane_Fraction',\n",
              " 'Benzene Column C660 Split Factors Calculation_Split Factor for Individual Component to Benzene Column C660 Distillate_n-Pentane_Fraction',\n",
              " 'Benzene Column C660 Split Factors Calculation_Split Factor for Individual Component to Benzene Column C660 Sidedraw_1,2,4-Trimethylbenzene_Fraction',\n",
              " 'Benzene Column C660 Split Factors Calculation_Split Factor for Individual Component to Benzene Column C660 Sidedraw_1,2-Diethylbenzene_Fraction',\n",
              " 'Benzene Column C660 Split Factors Calculation_Split Factor for Individual Component to Benzene Column C660 Sidedraw_1,3,5-Trimethylbenzene_Fraction',\n",
              " 'Benzene Column C660 Split Factors Calculation_Split Factor for Individual Component to Benzene Column C660 Sidedraw_1-Methyl-4-n-propylbenzene_Fraction',\n",
              " 'Benzene Column C660 Split Factors Calculation_Split Factor for Individual Component to Benzene Column C660 Sidedraw_n-Propylbenzene_Fraction',\n",
              " 'Benzene Column C660 Split Factors Calculation_Split Factor for Individual Component to Benzene Column C660 Vent Gas_1-Methyl-2-ethylbenzene_Fraction',\n",
              " 'Benzene Column C660 Split Factors Calculation_Split Factor for Individual Component to Benzene Column C660 Vent Gas_1-Methyl-3-ethylbenzene_Fraction',\n",
              " 'Benzene Column C660 Split Factors Calculation_Split Factor for Individual Component to Benzene Column C660 Vent Gas_1-Methyl-4-ethylbenzene_Fraction',\n",
              " 'Benzene Column C660 Split Factors Calculation_Split Factor for Individual Component to Benzene Column C660 Vent Gas_Benzene_Fraction',\n",
              " 'Benzene Column C660 Split Factors Calculation_Split Factor for Individual Component to Benzene Column C660 Vent Gas_Cyclohexane_Fraction',\n",
              " 'Benzene Column C660 Split Factors Calculation_Split Factor for Individual Component to Benzene Column C660 Vent Gas_Ethane_Fraction',\n",
              " 'Benzene Column C660 Split Factors Calculation_Split Factor for Individual Component to Benzene Column C660 Vent Gas_Ethylbenzene_Fraction',\n",
              " 'Benzene Column C660 Split Factors Calculation_Split Factor for Individual Component to Benzene Column C660 Vent Gas_Ethylcyclohexane_Fraction',\n",
              " 'Benzene Column C660 Split Factors Calculation_Split Factor for Individual Component to Benzene Column C660 Vent Gas_Methane_Fraction',\n",
              " 'Benzene Column C660 Split Factors Calculation_Split Factor for Individual Component to Benzene Column C660 Vent Gas_Methylcyclohexane_Fraction',\n",
              " 'Benzene Column C660 Split Factors Calculation_Split Factor for Individual Component to Benzene Column C660 Vent Gas_Propane_Fraction',\n",
              " 'Benzene Column C660 Split Factors Calculation_Split Factor for Individual Component to Benzene Column C660 Vent Gas_Toluene_Fraction',\n",
              " 'Benzene Column C660 Split Factors Calculation_Split Factor for Individual Component to Benzene Column C660 Vent Gas_i-Propylbenzene_Fraction',\n",
              " 'Benzene Column C660 Split Factors Calculation_Split Factor for Individual Component to Benzene Column C660 Vent Gas_m-Xylene_Fraction',\n",
              " 'Benzene Column C660 Split Factors Calculation_Split Factor for Individual Component to Benzene Column C660 Vent Gas_n-Butane_Fraction',\n",
              " 'Benzene Column C660 Split Factors Calculation_Split Factor for Individual Component to Benzene Column C660 Vent Gas_n-Heptane_Fraction',\n",
              " 'Benzene Column C660 Split Factors Calculation_Split Factor for Individual Component to Benzene Column C660 Vent Gas_n-Hexane_Fraction',\n",
              " 'Benzene Column C660 Split Factors Calculation_Split Factor for Individual Component to Benzene Column C660 Vent Gas_n-Nonane_Fraction',\n",
              " 'Benzene Column C660 Split Factors Calculation_Split Factor for Individual Component to Benzene Column C660 Vent Gas_n-Octane_Fraction',\n",
              " 'Benzene Column C660 Split Factors Calculation_Split Factor for Individual Component to Benzene Column C660 Vent Gas_n-Pentane_Fraction',\n",
              " 'Benzene Column C660 Split Factors Calculation_Split Factor for Individual Component to Benzene Column C660 Vent Gas_n-Propylcyclohexane_Fraction',\n",
              " 'Benzene Column C660 Split Factors Calculation_Split Factor for Individual Component to Benzene Column C660 Vent Gas_n-Propylcyclopentane_Fraction',\n",
              " 'Benzene Column C660 Split Factors Calculation_Split Factor for Individual Component to Benzene Column C660 Vent Gas_o-Xylene_Fraction',\n",
              " 'Benzene Column C660 Split Factors Calculation_Split Factor for Individual Component to Benzene Column C660 Vent Gas_p-Xylene_Fraction',\n",
              " 'Benzene Column C660 Split Factors Calculation_Split Factor for Individual Component to Benzene Column C660 Vent Gas_tert-Butylcyclohexane_Fraction'}"
            ]
          },
          "metadata": {
            "tags": []
          },
          "execution_count": 48
        }
      ]
    },
    {
      "cell_type": "code",
      "metadata": {
        "id": "mqH9dOvn0jCi",
        "outputId": "da56628b-6736-494e-fdc9-f067e6965515",
        "colab": {
          "base_uri": "https://localhost:8080/"
        }
      },
      "source": [
        "c670_df_real = pd.read_excel('/content/drive/MyDrive/台塑輕油案子/data/c620/明志_遷移式學習_訓練資料_寄送版/c670_data.xlsx',index_col=0)\n",
        "a = c670_df_real[c670_sp_col].describe().T\n",
        "c670_wt_always_same_split_factor_dict_real = a[a['std']==0]['mean'].to_dict()\n",
        "set(c670_wt_always_same_split_factor_dict_real)^set(c670_wt_always_same_split_factor_dict)"
      ],
      "execution_count": 49,
      "outputs": [
        {
          "output_type": "execute_result",
          "data": {
            "text/plain": [
              "{'Toluene Column C670 Split Factors Calculation_Split Factor for Individual Component to Toluene Column C670 Bottoms_Benzene_Fraction',\n",
              " 'Toluene Column C670 Split Factors Calculation_Split Factor for Individual Component to Toluene Column C670 Distillate_Methylcyclohexane_Fraction',\n",
              " 'Toluene Column C670 Split Factors Calculation_Split Factor for Individual Component to Toluene Column C670 Distillate_n-Octane_Fraction'}"
            ]
          },
          "metadata": {
            "tags": []
          },
          "execution_count": 49
        }
      ]
    },
    {
      "cell_type": "code",
      "metadata": {
        "id": "WKY63g2F0wp5"
      },
      "source": [
        ""
      ],
      "execution_count": null,
      "outputs": []
    }
  ]
}