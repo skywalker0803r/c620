{
  "nbformat": 4,
  "nbformat_minor": 0,
  "metadata": {
    "colab": {
      "name": "linear_op_model.ipynb",
      "provenance": [],
      "mount_file_id": "https://github.com/skywalker0803r/c620/blob/main/notebook/linear_op_model.ipynb",
      "authorship_tag": "ABX9TyNGBJ3IfTDeFRyKAN8oY0lU",
      "include_colab_link": true
    },
    "kernelspec": {
      "name": "python3",
      "display_name": "Python 3"
    },
    "language_info": {
      "name": "python"
    }
  },
  "cells": [
    {
      "cell_type": "markdown",
      "metadata": {
        "id": "view-in-github",
        "colab_type": "text"
      },
      "source": [
        "<a href=\"https://colab.research.google.com/github/skywalker0803r/c620/blob/main/notebook/linear_op_model.ipynb\" target=\"_parent\"><img src=\"https://colab.research.google.com/assets/colab-badge.svg\" alt=\"Open In Colab\"/></a>"
      ]
    },
    {
      "cell_type": "code",
      "metadata": {
        "id": "uOGQX9YjqMju"
      },
      "source": [
        "!pip install autorch >log.txt"
      ],
      "execution_count": 1,
      "outputs": []
    },
    {
      "cell_type": "code",
      "metadata": {
        "id": "tKnv94HhqT5K"
      },
      "source": [
        "import pandas as pd\n",
        "import joblib\n",
        "import autorch\n",
        "from torch import nn#\n",
        "from torch.optim import Adam"
      ],
      "execution_count": 2,
      "outputs": []
    },
    {
      "cell_type": "markdown",
      "metadata": {
        "id": "SDKVxW1evK09"
      },
      "source": [
        "# c620 模擬數據"
      ]
    },
    {
      "cell_type": "code",
      "metadata": {
        "colab": {
          "base_uri": "https://localhost:8080/",
          "height": 410
        },
        "id": "CNpU0VnpqcgK",
        "outputId": "25afccc5-7123-4ed6-f656-396f19491f73"
      },
      "source": [
        "# load data\n",
        "c620_df = pd.read_csv('/content/drive/MyDrive/台塑輕油案子/data/c620/cleaned/c620_train.csv',index_col=0)\n",
        "c620_df_real = pd.read_excel('/content/drive/MyDrive/台塑輕油案子/data/c620/明志_遷移式學習_訓練資料_寄送版/c620_data.xlsx',index_col=0)\n",
        "c = joblib.load('/content/drive/MyDrive/台塑輕油案子/data/c620/col_names/c620_col_names.pkl')\n",
        "\n",
        "# def col\n",
        "x_col = c['case']+c['x41']\n",
        "op_col = c['density']+c['yRefluxRate']+c['yHeatDuty']+c['yControl']\n",
        "op_col = c620_df_real[op_col].dropna(axis=1).columns.tolist()\n",
        "\n",
        "# modeling\n",
        "c620_op_model = autorch.utils.PartBulider(c620_df,x_col,op_col,limit_y_range=True)\n",
        "c620_op_model.net = nn.Linear(len(x_col),len(op_col))\n",
        "c620_op_model.optimizer = Adam(c620_op_model.net.parameters())\n",
        "c620_op_model.train()"
      ],
      "execution_count": 3,
      "outputs": [
        {
          "output_type": "stream",
          "text": [
            "  0%|          | 1/300 [00:00<02:09,  2.30it/s]"
          ],
          "name": "stderr"
        },
        {
          "output_type": "stream",
          "text": [
            "epoch:0 train_loss:0.0456 valid_loss:0.0135\n"
          ],
          "name": "stdout"
        },
        {
          "output_type": "stream",
          "text": [
            " 17%|█▋        | 52/300 [00:10<00:47,  5.23it/s]"
          ],
          "name": "stderr"
        },
        {
          "output_type": "stream",
          "text": [
            "epoch:50 train_loss:0.0006 valid_loss:0.0006\n"
          ],
          "name": "stdout"
        },
        {
          "output_type": "stream",
          "text": [
            " 34%|███▎      | 101/300 [00:20<00:37,  5.26it/s]"
          ],
          "name": "stderr"
        },
        {
          "output_type": "stream",
          "text": [
            "epoch:100 train_loss:0.0006 valid_loss:0.0006\n"
          ],
          "name": "stdout"
        },
        {
          "output_type": "stream",
          "text": [
            " 51%|█████     | 152/300 [00:29<00:29,  5.07it/s]"
          ],
          "name": "stderr"
        },
        {
          "output_type": "stream",
          "text": [
            "epoch:150 train_loss:0.0006 valid_loss:0.0006\n"
          ],
          "name": "stdout"
        },
        {
          "output_type": "stream",
          "text": [
            " 67%|██████▋   | 202/300 [00:39<00:18,  5.25it/s]"
          ],
          "name": "stderr"
        },
        {
          "output_type": "stream",
          "text": [
            "epoch:200 train_loss:0.0006 valid_loss:0.0006\n"
          ],
          "name": "stdout"
        },
        {
          "output_type": "stream",
          "text": [
            " 84%|████████▍ | 252/300 [00:49<00:09,  5.23it/s]"
          ],
          "name": "stderr"
        },
        {
          "output_type": "stream",
          "text": [
            "epoch:250 train_loss:0.0006 valid_loss:0.0006\n"
          ],
          "name": "stdout"
        },
        {
          "output_type": "stream",
          "text": [
            "100%|██████████| 300/300 [00:58<00:00,  5.11it/s]\n"
          ],
          "name": "stderr"
        },
        {
          "output_type": "display_data",
          "data": {
            "image/png": "[encoded data removed]",
            "text/plain": [
              "<Figure size 432x288 with 1 Axes>"
            ]
          },
          "metadata": {
            "tags": [],
            "needs_background": "light"
          }
        },
        {
          "output_type": "execute_result",
          "data": {
            "text/plain": [
              "<autorch.utils.part.PartBulider at 0x7fe4e4e33450>"
            ]
          },
          "metadata": {
            "tags": []
          },
          "execution_count": 3
        }
      ]
    },
    {
      "cell_type": "code",
      "metadata": {
        "colab": {
          "base_uri": "https://localhost:8080/",
          "height": 318
        },
        "id": "U5DGlA4HqsRU",
        "outputId": "6373bfab-9bbc-4bde-cecd-33794ac7d007"
      },
      "source": [
        "# test\n",
        "c620_op_model.test(e=0.02)"
      ],
      "execution_count": 4,
      "outputs": [
        {
          "output_type": "execute_result",
          "data": {
            "text/html": [
              "<div>\n",
              "<style scoped>\n",
              "    .dataframe tbody tr th:only-of-type {\n",
              "        vertical-align: middle;\n",
              "    }\n",
              "\n",
              "    .dataframe tbody tr th {\n",
              "        vertical-align: top;\n",
              "    }\n",
              "\n",
              "    .dataframe thead th {\n",
              "        text-align: right;\n",
              "    }\n",
              "</style>\n",
              "<table border=\"1\" class=\"dataframe\">\n",
              "  <thead>\n",
              "    <tr style=\"text-align: right;\">\n",
              "      <th></th>\n",
              "      <th>R2</th>\n",
              "      <th>MSE</th>\n",
              "      <th>MAPE</th>\n",
              "    </tr>\n",
              "  </thead>\n",
              "  <tbody>\n",
              "    <tr>\n",
              "      <th>Density_Feed Properties</th>\n",
              "      <td>1</td>\n",
              "      <td>4.32627e-14</td>\n",
              "      <td>2.11952e-05</td>\n",
              "    </tr>\n",
              "    <tr>\n",
              "      <th>Density_Vent Gas Production Rate and Composition</th>\n",
              "      <td>0.971682</td>\n",
              "      <td>7.08341e-07</td>\n",
              "      <td>0.129371</td>\n",
              "    </tr>\n",
              "    <tr>\n",
              "      <th>Density_Distillate Production Rate and Composition</th>\n",
              "      <td>0.916655</td>\n",
              "      <td>9.42952e-06</td>\n",
              "      <td>0.280832</td>\n",
              "    </tr>\n",
              "    <tr>\n",
              "      <th>Density_Sidedraw Production Rate and Composition</th>\n",
              "      <td>0.999756</td>\n",
              "      <td>2.70238e-10</td>\n",
              "      <td>0.00138934</td>\n",
              "    </tr>\n",
              "    <tr>\n",
              "      <th>Density_Bottoms Production Rate and Composition</th>\n",
              "      <td>0.998666</td>\n",
              "      <td>2.27069e-11</td>\n",
              "      <td>0.000493052</td>\n",
              "    </tr>\n",
              "    <tr>\n",
              "      <th>Tatoray Stripper C620 Operation_Yield Summary_Reflux Rate_m3/hr</th>\n",
              "      <td>0.992061</td>\n",
              "      <td>1.00565</td>\n",
              "      <td>0.602132</td>\n",
              "    </tr>\n",
              "    <tr>\n",
              "      <th>Tatoray Stripper C620 Operation_Column Temp Profile_C620 Tray 14 (Control)_oC</th>\n",
              "      <td>0.955534</td>\n",
              "      <td>0.0585076</td>\n",
              "      <td>0.117002</td>\n",
              "    </tr>\n",
              "    <tr>\n",
              "      <th>Tatoray Stripper C620 Operation_Column Temp Profile_C620 Tray 34 (Control)_oC</th>\n",
              "      <td>0.996259</td>\n",
              "      <td>0.00286727</td>\n",
              "      <td>0.023484</td>\n",
              "    </tr>\n",
              "    <tr>\n",
              "      <th>AVG</th>\n",
              "      <td>0.978827</td>\n",
              "      <td>0.133379</td>\n",
              "      <td>0.144341</td>\n",
              "    </tr>\n",
              "  </tbody>\n",
              "</table>\n",
              "</div>"
            ],
            "text/plain": [
              "                                                          R2  ...         MAPE\n",
              "Density_Feed Properties                                    1  ...  2.11952e-05\n",
              "Density_Vent Gas Production Rate and Composition    0.971682  ...     0.129371\n",
              "Density_Distillate Production Rate and Composition  0.916655  ...     0.280832\n",
              "Density_Sidedraw Production Rate and Composition    0.999756  ...   0.00138934\n",
              "Density_Bottoms Production Rate and Composition     0.998666  ...  0.000493052\n",
              "Tatoray Stripper C620 Operation_Yield Summary_R...  0.992061  ...     0.602132\n",
              "Tatoray Stripper C620 Operation_Column Temp Pro...  0.955534  ...     0.117002\n",
              "Tatoray Stripper C620 Operation_Column Temp Pro...  0.996259  ...     0.023484\n",
              "AVG                                                 0.978827  ...     0.144341\n",
              "\n",
              "[9 rows x 3 columns]"
            ]
          },
          "metadata": {
            "tags": []
          },
          "execution_count": 4
        }
      ]
    },
    {
      "cell_type": "code",
      "metadata": {
        "colab": {
          "base_uri": "https://localhost:8080/"
        },
        "id": "Q8e4xiNRwOio",
        "outputId": "6f1c0e4f-76c4-419c-c87b-1de4d83f5c80"
      },
      "source": [
        "import joblib\n",
        "# save\n",
        "joblib.dump(c620_op_model,'/content/drive/MyDrive/台塑輕油案子/data/c620/model/c620_op.pkl')"
      ],
      "execution_count": 5,
      "outputs": [
        {
          "output_type": "execute_result",
          "data": {
            "text/plain": [
              "['/content/drive/MyDrive/台塑輕油案子/data/c620/model/c620_op.pkl']"
            ]
          },
          "metadata": {
            "tags": []
          },
          "execution_count": 5
        }
      ]
    },
    {
      "cell_type": "markdown",
      "metadata": {
        "id": "1rZN9cjQwV9x"
      },
      "source": [
        "# c620遷移學習"
      ]
    },
    {
      "cell_type": "code",
      "metadata": {
        "colab": {
          "base_uri": "https://localhost:8080/"
        },
        "id": "LGApjf5fsgP2",
        "outputId": "9723ffd6-2ed1-449b-8698-26362314a30b"
      },
      "source": [
        "# use pretrain net continue training\n",
        "from copy import deepcopy\n",
        "pretrain_net = deepcopy(c620_op_model.net.train())\n",
        "print(pretrain_net)"
      ],
      "execution_count": 6,
      "outputs": [
        {
          "output_type": "stream",
          "text": [
            "Linear(in_features=44, out_features=8, bias=True)\n"
          ],
          "name": "stdout"
        }
      ]
    },
    {
      "cell_type": "code",
      "metadata": {
        "id": "glLlPyJsrHUa"
      },
      "source": [
        "c620_op_model = autorch.utils.PartBulider(c620_df_real,x_col,op_col,limit_y_range=True) # use real data  \n",
        "c620_op_model.net = pretrain_net # use pretrain net\n",
        "c620_op_model.optimizer = Adam(c620_op_model.net.parameters())"
      ],
      "execution_count": 7,
      "outputs": []
    },
    {
      "cell_type": "code",
      "metadata": {
        "colab": {
          "base_uri": "https://localhost:8080/",
          "height": 410
        },
        "id": "fDeFvsQ4sXuK",
        "outputId": "58d3c355-6c05-4bff-97c6-1176e6d5e905"
      },
      "source": [
        "c620_op_model.train()"
      ],
      "execution_count": 8,
      "outputs": [
        {
          "output_type": "stream",
          "text": [
            "  9%|▉         | 28/300 [00:00<00:01, 268.44it/s]"
          ],
          "name": "stderr"
        },
        {
          "output_type": "stream",
          "text": [
            "epoch:0 train_loss:0.1266 valid_loss:0.1150\n"
          ],
          "name": "stdout"
        },
        {
          "output_type": "stream",
          "text": [
            "\r 20%|██        | 60/300 [00:00<00:00, 280.58it/s]"
          ],
          "name": "stderr"
        },
        {
          "output_type": "stream",
          "text": [
            "epoch:50 train_loss:0.0126 valid_loss:0.0127\n"
          ],
          "name": "stdout"
        },
        {
          "output_type": "stream",
          "text": [
            "\r 31%|███       | 92/300 [00:00<00:00, 289.60it/s]"
          ],
          "name": "stderr"
        },
        {
          "output_type": "stream",
          "text": [
            "epoch:100 train_loss:0.0088 valid_loss:0.0097\n"
          ],
          "name": "stdout"
        },
        {
          "output_type": "stream",
          "text": [
            " 51%|█████     | 153/300 [00:00<00:00, 294.57it/s]"
          ],
          "name": "stderr"
        },
        {
          "output_type": "stream",
          "text": [
            "epoch:150 train_loss:0.0072 valid_loss:0.0086\n"
          ],
          "name": "stdout"
        },
        {
          "output_type": "stream",
          "text": [
            "\r 62%|██████▏   | 186/300 [00:00<00:00, 302.23it/s]"
          ],
          "name": "stderr"
        },
        {
          "output_type": "stream",
          "text": [
            "epoch:200 train_loss:0.0062 valid_loss:0.0080\n"
          ],
          "name": "stdout"
        },
        {
          "output_type": "stream",
          "text": [
            " 81%|████████  | 243/300 [00:00<00:00, 288.10it/s]"
          ],
          "name": "stderr"
        },
        {
          "output_type": "stream",
          "text": [
            "epoch:250 train_loss:0.0056 valid_loss:0.0076\n"
          ],
          "name": "stdout"
        },
        {
          "output_type": "stream",
          "text": [
            "100%|██████████| 300/300 [00:01<00:00, 296.05it/s]\n"
          ],
          "name": "stderr"
        },
        {
          "output_type": "display_data",
          "data": {
            "image/png": "[encoded data removed]",
            "text/plain": [
              "<Figure size 432x288 with 1 Axes>"
            ]
          },
          "metadata": {
            "tags": [],
            "needs_background": "light"
          }
        },
        {
          "output_type": "execute_result",
          "data": {
            "text/plain": [
              "<autorch.utils.part.PartBulider at 0x7fe4e29e9550>"
            ]
          },
          "metadata": {
            "tags": []
          },
          "execution_count": 8
        }
      ]
    },
    {
      "cell_type": "code",
      "metadata": {
        "colab": {
          "base_uri": "https://localhost:8080/",
          "height": 318
        },
        "id": "nZDfN9ArtqH0",
        "outputId": "1235a68b-0ed3-4f0e-c31a-71047afc2054"
      },
      "source": [
        "# test\n",
        "c620_op_model.test(e=0.02)"
      ],
      "execution_count": 9,
      "outputs": [
        {
          "output_type": "execute_result",
          "data": {
            "text/html": [
              "<div>\n",
              "<style scoped>\n",
              "    .dataframe tbody tr th:only-of-type {\n",
              "        vertical-align: middle;\n",
              "    }\n",
              "\n",
              "    .dataframe tbody tr th {\n",
              "        vertical-align: top;\n",
              "    }\n",
              "\n",
              "    .dataframe thead th {\n",
              "        text-align: right;\n",
              "    }\n",
              "</style>\n",
              "<table border=\"1\" class=\"dataframe\">\n",
              "  <thead>\n",
              "    <tr style=\"text-align: right;\">\n",
              "      <th></th>\n",
              "      <th>R2</th>\n",
              "      <th>MSE</th>\n",
              "      <th>MAPE</th>\n",
              "    </tr>\n",
              "  </thead>\n",
              "  <tbody>\n",
              "    <tr>\n",
              "      <th>Density_Feed Properties</th>\n",
              "      <td>0</td>\n",
              "      <td>4.30934e-05</td>\n",
              "      <td>0.532804</td>\n",
              "    </tr>\n",
              "    <tr>\n",
              "      <th>Density_Vent Gas Production Rate and Composition</th>\n",
              "      <td>0</td>\n",
              "      <td>0.00164217</td>\n",
              "      <td>6.63467</td>\n",
              "    </tr>\n",
              "    <tr>\n",
              "      <th>Density_Distillate Production Rate and Composition</th>\n",
              "      <td>0.813617</td>\n",
              "      <td>2.59258e-06</td>\n",
              "      <td>0.157499</td>\n",
              "    </tr>\n",
              "    <tr>\n",
              "      <th>Density_Sidedraw Production Rate and Composition</th>\n",
              "      <td>0</td>\n",
              "      <td>8.87794e-06</td>\n",
              "      <td>0.191589</td>\n",
              "    </tr>\n",
              "    <tr>\n",
              "      <th>Density_Bottoms Production Rate and Composition</th>\n",
              "      <td>0.725282</td>\n",
              "      <td>1.9582e-07</td>\n",
              "      <td>0.0444933</td>\n",
              "    </tr>\n",
              "    <tr>\n",
              "      <th>Tatoray Stripper C620 Operation_Yield Summary_Reflux Rate_m3/hr</th>\n",
              "      <td>0.595092</td>\n",
              "      <td>9.64607</td>\n",
              "      <td>2.24839</td>\n",
              "    </tr>\n",
              "    <tr>\n",
              "      <th>Tatoray Stripper C620 Operation_Column Temp Profile_C620 Tray 14 (Control)_oC</th>\n",
              "      <td>0.0218775</td>\n",
              "      <td>4.47022</td>\n",
              "      <td>1.03042</td>\n",
              "    </tr>\n",
              "    <tr>\n",
              "      <th>Tatoray Stripper C620 Operation_Column Temp Profile_C620 Tray 34 (Control)_oC</th>\n",
              "      <td>0.0623121</td>\n",
              "      <td>0.278092</td>\n",
              "      <td>0.238594</td>\n",
              "    </tr>\n",
              "    <tr>\n",
              "      <th>AVG</th>\n",
              "      <td>0.277273</td>\n",
              "      <td>1.79951</td>\n",
              "      <td>1.38481</td>\n",
              "    </tr>\n",
              "  </tbody>\n",
              "</table>\n",
              "</div>"
            ],
            "text/plain": [
              "                                                           R2  ...       MAPE\n",
              "Density_Feed Properties                                     0  ...   0.532804\n",
              "Density_Vent Gas Production Rate and Composition            0  ...    6.63467\n",
              "Density_Distillate Production Rate and Composition   0.813617  ...   0.157499\n",
              "Density_Sidedraw Production Rate and Composition            0  ...   0.191589\n",
              "Density_Bottoms Production Rate and Composition      0.725282  ...  0.0444933\n",
              "Tatoray Stripper C620 Operation_Yield Summary_R...   0.595092  ...    2.24839\n",
              "Tatoray Stripper C620 Operation_Column Temp Pro...  0.0218775  ...    1.03042\n",
              "Tatoray Stripper C620 Operation_Column Temp Pro...  0.0623121  ...   0.238594\n",
              "AVG                                                  0.277273  ...    1.38481\n",
              "\n",
              "[9 rows x 3 columns]"
            ]
          },
          "metadata": {
            "tags": []
          },
          "execution_count": 9
        }
      ]
    },
    {
      "cell_type": "code",
      "metadata": {
        "colab": {
          "base_uri": "https://localhost:8080/"
        },
        "id": "1-8zSfUFvq4N",
        "outputId": "c2550165-65af-4e21-c970-e30e2d77bd63"
      },
      "source": [
        "# save\n",
        "joblib.dump(c620_op_model,'/content/drive/MyDrive/台塑輕油案子/data/c620/model/c620_op_real_data.pkl')"
      ],
      "execution_count": 10,
      "outputs": [
        {
          "output_type": "execute_result",
          "data": {
            "text/plain": [
              "['/content/drive/MyDrive/台塑輕油案子/data/c620/model/c620_op_real_data.pkl']"
            ]
          },
          "metadata": {
            "tags": []
          },
          "execution_count": 10
        }
      ]
    },
    {
      "cell_type": "markdown",
      "metadata": {
        "id": "UUFmBXxwwb0l"
      },
      "source": [
        "# c660 模擬數據"
      ]
    },
    {
      "cell_type": "code",
      "metadata": {
        "id": "PkPFWCfQwFje",
        "outputId": "ce704be2-e4b6-42d9-aa8c-6da9392f278f",
        "colab": {
          "base_uri": "https://localhost:8080/",
          "height": 410
        }
      },
      "source": [
        "# load data\n",
        "c660_df = pd.read_csv('/content/drive/MyDrive/台塑輕油案子/data/c620/cleaned/c660_train.csv',index_col=0)\n",
        "c660_df_real = pd.read_excel('/content/drive/MyDrive/台塑輕油案子/data/c620/明志_遷移式學習_訓練資料_寄送版/c660_data.xlsx',index_col=0)\n",
        "c = joblib.load('/content/drive/MyDrive/台塑輕油案子/data/c620/col_names/c660_col_names.pkl')\n",
        "\n",
        "# def col\n",
        "x_col = c['case']+c['x41']\n",
        "op_col = c['density']+c['yRefluxRate']+c['yHeatDuty']+c['yControl']\n",
        "op_col = c660_df_real[op_col].dropna(axis=1).columns.tolist()\n",
        "\n",
        "# modeling\n",
        "c660_op_model = autorch.utils.PartBulider(c660_df,x_col,op_col,limit_y_range=True)\n",
        "c660_op_model.net = nn.Linear(len(x_col),len(op_col))\n",
        "c660_op_model.optimizer = Adam(c660_op_model.net.parameters())\n",
        "c660_op_model.train()"
      ],
      "execution_count": 11,
      "outputs": [
        {
          "output_type": "stream",
          "text": [
            "  0%|          | 1/300 [00:00<00:56,  5.26it/s]"
          ],
          "name": "stderr"
        },
        {
          "output_type": "stream",
          "text": [
            "epoch:0 train_loss:0.0433 valid_loss:0.0150\n"
          ],
          "name": "stdout"
        },
        {
          "output_type": "stream",
          "text": [
            " 17%|█▋        | 52/300 [00:10<00:48,  5.14it/s]"
          ],
          "name": "stderr"
        },
        {
          "output_type": "stream",
          "text": [
            "epoch:50 train_loss:0.0008 valid_loss:0.0008\n"
          ],
          "name": "stdout"
        },
        {
          "output_type": "stream",
          "text": [
            " 34%|███▍      | 102/300 [00:20<00:38,  5.20it/s]"
          ],
          "name": "stderr"
        },
        {
          "output_type": "stream",
          "text": [
            "epoch:100 train_loss:0.0007 valid_loss:0.0007\n"
          ],
          "name": "stdout"
        },
        {
          "output_type": "stream",
          "text": [
            " 51%|█████     | 152/300 [00:29<00:28,  5.19it/s]"
          ],
          "name": "stderr"
        },
        {
          "output_type": "stream",
          "text": [
            "epoch:150 train_loss:0.0007 valid_loss:0.0007\n"
          ],
          "name": "stdout"
        },
        {
          "output_type": "stream",
          "text": [
            " 67%|██████▋   | 202/300 [00:39<00:18,  5.22it/s]"
          ],
          "name": "stderr"
        },
        {
          "output_type": "stream",
          "text": [
            "epoch:200 train_loss:0.0007 valid_loss:0.0007\n"
          ],
          "name": "stdout"
        },
        {
          "output_type": "stream",
          "text": [
            " 84%|████████▍ | 252/300 [00:49<00:09,  5.21it/s]"
          ],
          "name": "stderr"
        },
        {
          "output_type": "stream",
          "text": [
            "epoch:250 train_loss:0.0007 valid_loss:0.0007\n"
          ],
          "name": "stdout"
        },
        {
          "output_type": "stream",
          "text": [
            "100%|██████████| 300/300 [00:58<00:00,  5.13it/s]\n"
          ],
          "name": "stderr"
        },
        {
          "output_type": "display_data",
          "data": {
            "image/png": "[encoded data removed]",
            "text/plain": [
              "<Figure size 432x288 with 1 Axes>"
            ]
          },
          "metadata": {
            "tags": [],
            "needs_background": "light"
          }
        },
        {
          "output_type": "execute_result",
          "data": {
            "text/plain": [
              "<autorch.utils.part.PartBulider at 0x7fe4e27a2f90>"
            ]
          },
          "metadata": {
            "tags": []
          },
          "execution_count": 11
        }
      ]
    },
    {
      "cell_type": "code",
      "metadata": {
        "id": "HEgeZ29c36aG",
        "outputId": "56498a76-87af-4c55-ef1e-61273426c936",
        "colab": {
          "base_uri": "https://localhost:8080/",
          "height": 318
        }
      },
      "source": [
        "c660_op_model.test(e=0.02)"
      ],
      "execution_count": 12,
      "outputs": [
        {
          "output_type": "execute_result",
          "data": {
            "text/html": [
              "<div>\n",
              "<style scoped>\n",
              "    .dataframe tbody tr th:only-of-type {\n",
              "        vertical-align: middle;\n",
              "    }\n",
              "\n",
              "    .dataframe tbody tr th {\n",
              "        vertical-align: top;\n",
              "    }\n",
              "\n",
              "    .dataframe thead th {\n",
              "        text-align: right;\n",
              "    }\n",
              "</style>\n",
              "<table border=\"1\" class=\"dataframe\">\n",
              "  <thead>\n",
              "    <tr style=\"text-align: right;\">\n",
              "      <th></th>\n",
              "      <th>R2</th>\n",
              "      <th>MSE</th>\n",
              "      <th>MAPE</th>\n",
              "    </tr>\n",
              "  </thead>\n",
              "  <tbody>\n",
              "    <tr>\n",
              "      <th>Density_Feed Properties</th>\n",
              "      <td>0.999998</td>\n",
              "      <td>1.63703e-12</td>\n",
              "      <td>0.000113364</td>\n",
              "    </tr>\n",
              "    <tr>\n",
              "      <th>Density_Vent Gas Production Rate and Composition</th>\n",
              "      <td>0.982486</td>\n",
              "      <td>5.54585e-06</td>\n",
              "      <td>0.340959</td>\n",
              "    </tr>\n",
              "    <tr>\n",
              "      <th>Density_Distillate (Benzene Drag) Production Rate and Composition</th>\n",
              "      <td>0.971312</td>\n",
              "      <td>2.21198e-06</td>\n",
              "      <td>0.131212</td>\n",
              "    </tr>\n",
              "    <tr>\n",
              "      <th>Density_Sidedraw (Benzene )Production Rate and Composition</th>\n",
              "      <td>0.990964</td>\n",
              "      <td>9.3691e-13</td>\n",
              "      <td>8.6604e-05</td>\n",
              "    </tr>\n",
              "    <tr>\n",
              "      <th>Density_Bottoms Production Rate and Composition</th>\n",
              "      <td>0.992163</td>\n",
              "      <td>6.2381e-10</td>\n",
              "      <td>0.00210627</td>\n",
              "    </tr>\n",
              "    <tr>\n",
              "      <th>Benzene Column C660 Operation_Yield Summary_Reflux Rate_m3/hr</th>\n",
              "      <td>0.957144</td>\n",
              "      <td>37.2705</td>\n",
              "      <td>3.78521</td>\n",
              "    </tr>\n",
              "    <tr>\n",
              "      <th>Benzene Column C660 Operation_Column Temp Profile_C660 Tray 6 (SD &amp; Control)_oC</th>\n",
              "      <td>0.933668</td>\n",
              "      <td>0.00300604</td>\n",
              "      <td>0.0511233</td>\n",
              "    </tr>\n",
              "    <tr>\n",
              "      <th>Benzene Column C660 Operation_Column Temp Profile_C660 Tray 23 (Control)_oC</th>\n",
              "      <td>0.904525</td>\n",
              "      <td>0.0760016</td>\n",
              "      <td>0.234158</td>\n",
              "    </tr>\n",
              "    <tr>\n",
              "      <th>AVG</th>\n",
              "      <td>0.966532</td>\n",
              "      <td>4.66869</td>\n",
              "      <td>0.568121</td>\n",
              "    </tr>\n",
              "  </tbody>\n",
              "</table>\n",
              "</div>"
            ],
            "text/plain": [
              "                                                          R2  ...         MAPE\n",
              "Density_Feed Properties                             0.999998  ...  0.000113364\n",
              "Density_Vent Gas Production Rate and Composition    0.982486  ...     0.340959\n",
              "Density_Distillate (Benzene Drag) Production Ra...  0.971312  ...     0.131212\n",
              "Density_Sidedraw (Benzene )Production Rate and ...  0.990964  ...   8.6604e-05\n",
              "Density_Bottoms Production Rate and Composition     0.992163  ...   0.00210627\n",
              "Benzene Column C660 Operation_Yield Summary_Ref...  0.957144  ...      3.78521\n",
              "Benzene Column C660 Operation_Column Temp Profi...  0.933668  ...    0.0511233\n",
              "Benzene Column C660 Operation_Column Temp Profi...  0.904525  ...     0.234158\n",
              "AVG                                                 0.966532  ...     0.568121\n",
              "\n",
              "[9 rows x 3 columns]"
            ]
          },
          "metadata": {
            "tags": []
          },
          "execution_count": 12
        }
      ]
    },
    {
      "cell_type": "code",
      "metadata": {
        "id": "T6HDLMDc4D4S",
        "outputId": "3094acb2-9a87-4d98-d719-a33e74a43652",
        "colab": {
          "base_uri": "https://localhost:8080/"
        }
      },
      "source": [
        "joblib.dump(c660_op_model,'/content/drive/MyDrive/台塑輕油案子/data/c620/model/c660_op.pkl')"
      ],
      "execution_count": 13,
      "outputs": [
        {
          "output_type": "execute_result",
          "data": {
            "text/plain": [
              "['/content/drive/MyDrive/台塑輕油案子/data/c620/model/c660_op.pkl']"
            ]
          },
          "metadata": {
            "tags": []
          },
          "execution_count": 13
        }
      ]
    },
    {
      "cell_type": "markdown",
      "metadata": {
        "id": "4qUwPcry4LYu"
      },
      "source": [
        "# c660遷移學習"
      ]
    },
    {
      "cell_type": "code",
      "metadata": {
        "id": "sFbliMxB4Jpp",
        "outputId": "31ef0a8b-d8f0-4248-9a09-c25cc82d4fff",
        "colab": {
          "base_uri": "https://localhost:8080/"
        }
      },
      "source": [
        "pretrain_net = deepcopy(c660_op_model.net.train())\n",
        "print(pretrain_net)"
      ],
      "execution_count": 14,
      "outputs": [
        {
          "output_type": "stream",
          "text": [
            "Linear(in_features=43, out_features=8, bias=True)\n"
          ],
          "name": "stdout"
        }
      ]
    },
    {
      "cell_type": "code",
      "metadata": {
        "id": "wtM2O-R04QsY"
      },
      "source": [
        "c660_op_model = autorch.utils.PartBulider(c660_df_real,x_col,op_col,limit_y_range=True) # use real data  \n",
        "c660_op_model.net = pretrain_net # use pretrain net\n",
        "c660_op_model.optimizer = Adam(c660_op_model.net.parameters())"
      ],
      "execution_count": 15,
      "outputs": []
    },
    {
      "cell_type": "code",
      "metadata": {
        "id": "_zY6AAHx4Yeh",
        "outputId": "3c731b63-949f-4662-9721-cf31c5314a28",
        "colab": {
          "base_uri": "https://localhost:8080/",
          "height": 415
        }
      },
      "source": [
        "c660_op_model.train()"
      ],
      "execution_count": 16,
      "outputs": [
        {
          "output_type": "stream",
          "text": [
            " 21%|██▏       | 64/300 [00:00<00:00, 302.46it/s]"
          ],
          "name": "stderr"
        },
        {
          "output_type": "stream",
          "text": [
            "epoch:0 train_loss:0.2390 valid_loss:0.2274\n",
            "epoch:50 train_loss:0.0306 valid_loss:0.0321\n"
          ],
          "name": "stdout"
        },
        {
          "output_type": "stream",
          "text": [
            " 54%|█████▍    | 162/300 [00:00<00:00, 315.44it/s]"
          ],
          "name": "stderr"
        },
        {
          "output_type": "stream",
          "text": [
            "epoch:100 train_loss:0.0184 valid_loss:0.0218\n",
            "epoch:150 train_loss:0.0128 valid_loss:0.0166\n"
          ],
          "name": "stdout"
        },
        {
          "output_type": "stream",
          "text": [
            " 85%|████████▌ | 255/300 [00:00<00:00, 299.58it/s]"
          ],
          "name": "stderr"
        },
        {
          "output_type": "stream",
          "text": [
            "epoch:200 train_loss:0.0098 valid_loss:0.0138\n",
            "epoch:250 train_loss:0.0082 valid_loss:0.0121\n"
          ],
          "name": "stdout"
        },
        {
          "output_type": "stream",
          "text": [
            "100%|██████████| 300/300 [00:00<00:00, 304.43it/s]\n"
          ],
          "name": "stderr"
        },
        {
          "output_type": "display_data",
          "data": {
            "image/png": "[encoded data removed]",
            "text/plain": [
              "<Figure size 432x288 with 1 Axes>"
            ]
          },
          "metadata": {
            "tags": [],
            "needs_background": "light"
          }
        },
        {
          "output_type": "execute_result",
          "data": {
            "text/plain": [
              "<autorch.utils.part.PartBulider at 0x7fe4e4bd7cd0>"
            ]
          },
          "metadata": {
            "tags": []
          },
          "execution_count": 16
        }
      ]
    },
    {
      "cell_type": "code",
      "metadata": {
        "id": "PwSxN3gf4bYB",
        "outputId": "616abb65-c9a4-4117-bbcc-1a283664f50d",
        "colab": {
          "base_uri": "https://localhost:8080/"
        }
      },
      "source": [
        "# save\n",
        "joblib.dump(c660_op_model,'/content/drive/MyDrive/台塑輕油案子/data/c620/model/c660_op_real_data.pkl')"
      ],
      "execution_count": 17,
      "outputs": [
        {
          "output_type": "execute_result",
          "data": {
            "text/plain": [
              "['/content/drive/MyDrive/台塑輕油案子/data/c620/model/c660_op_real_data.pkl']"
            ]
          },
          "metadata": {
            "tags": []
          },
          "execution_count": 17
        }
      ]
    },
    {
      "cell_type": "markdown",
      "metadata": {
        "id": "Kw1n66YO4h0Y"
      },
      "source": [
        "# c670 模擬數據"
      ]
    },
    {
      "cell_type": "code",
      "metadata": {
        "id": "6pumKLap4gzZ"
      },
      "source": [
        "# load data\n",
        "import numpy as np\n",
        "c670_df = pd.read_csv('/content/drive/MyDrive/台塑輕油案子/data/c620/cleaned/c670_train.csv',index_col=0)\n",
        "c670_df_real = pd.read_excel('/content/drive/MyDrive/台塑輕油案子/data/c620/明志_遷移式學習_訓練資料_寄送版/c670_data.xlsx',index_col=0)\n",
        "c = joblib.load('/content/drive/MyDrive/台塑輕油案子/data/c620/col_names/c670_col_names.pkl')"
      ],
      "execution_count": 39,
      "outputs": []
    },
    {
      "cell_type": "code",
      "metadata": {
        "id": "1omARM974-7x"
      },
      "source": [
        "# 根據條件修改值\n",
        "def change_value(df):\n",
        "  a = df[c['upper_bf']]\n",
        "  紫色零點零欄位 = a[a==0.0].dropna(axis=1).columns.tolist()\n",
        "  紫色零點一欄位 = a[a==0.1].dropna(axis=1).columns.tolist()\n",
        "  紫色零點九欄位 = a[a==0.9].dropna(axis=1).columns.tolist()\n",
        "  紫色一點零欄位 = a[a==1.0].dropna(axis=1).columns.tolist()\n",
        "  df.loc[:,紫色零點零欄位] = 0.0001 \n",
        "  df.loc[:,紫色零點一欄位] = 0.0001 \n",
        "  df.loc[:,紫色零點九欄位] = 0.9999\n",
        "  df.loc[:,紫色一點零欄位] = 0.9999\n",
        "  return df"
      ],
      "execution_count": 40,
      "outputs": []
    },
    {
      "cell_type": "code",
      "metadata": {
        "id": "j3Vp7HXM5Y-5"
      },
      "source": [
        "c670_df = change_value(c670_df)"
      ],
      "execution_count": 41,
      "outputs": []
    },
    {
      "cell_type": "code",
      "metadata": {
        "id": "7I6QNY0a5cJa"
      },
      "source": [
        "c670_df_real = change_value(c670_df_real)"
      ],
      "execution_count": 42,
      "outputs": []
    },
    {
      "cell_type": "code",
      "metadata": {
        "id": "Vh6sb-al7Hyh"
      },
      "source": [
        "x_col = c['combined'] + c['upper_bf']\n",
        "op_col = c['density']+c['yRefluxRate']+c['yHeatDuty']+c['yControl']\n",
        "op_col = c670_df_real[op_col].dropna(axis=1).columns.tolist()"
      ],
      "execution_count": 43,
      "outputs": []
    },
    {
      "cell_type": "code",
      "metadata": {
        "id": "qgybSV187hEU",
        "outputId": "26ebe7ec-357a-481b-80e6-7eb6c81408a4",
        "colab": {
          "base_uri": "https://localhost:8080/",
          "height": 410
        }
      },
      "source": [
        "c670_op_model = autorch.utils.PartBulider(c670_df,x_col,op_col,limit_y_range=True)\n",
        "c670_op_model.net = nn.Linear(len(x_col),len(op_col))\n",
        "c670_op_model.optimizer = Adam(c670_op_model.net.parameters())\n",
        "c670_op_model.train()"
      ],
      "execution_count": 46,
      "outputs": [
        {
          "output_type": "stream",
          "text": [
            "  1%|          | 2/300 [00:00<00:58,  5.11it/s]"
          ],
          "name": "stderr"
        },
        {
          "output_type": "stream",
          "text": [
            "epoch:0 train_loss:0.0214 valid_loss:0.0046\n"
          ],
          "name": "stdout"
        },
        {
          "output_type": "stream",
          "text": [
            " 17%|█▋        | 52/300 [00:10<00:48,  5.09it/s]"
          ],
          "name": "stderr"
        },
        {
          "output_type": "stream",
          "text": [
            "epoch:50 train_loss:0.0002 valid_loss:0.0002\n"
          ],
          "name": "stdout"
        },
        {
          "output_type": "stream",
          "text": [
            " 34%|███▍      | 102/300 [00:20<00:39,  5.03it/s]"
          ],
          "name": "stderr"
        },
        {
          "output_type": "stream",
          "text": [
            "epoch:100 train_loss:0.0001 valid_loss:0.0001\n"
          ],
          "name": "stdout"
        },
        {
          "output_type": "stream",
          "text": [
            " 51%|█████     | 152/300 [00:30<00:29,  5.05it/s]"
          ],
          "name": "stderr"
        },
        {
          "output_type": "stream",
          "text": [
            "epoch:150 train_loss:0.0001 valid_loss:0.0001\n"
          ],
          "name": "stdout"
        },
        {
          "output_type": "stream",
          "text": [
            " 67%|██████▋   | 201/300 [00:40<00:19,  4.96it/s]"
          ],
          "name": "stderr"
        },
        {
          "output_type": "stream",
          "text": [
            "epoch:200 train_loss:0.0001 valid_loss:0.0001\n"
          ],
          "name": "stdout"
        },
        {
          "output_type": "stream",
          "text": [
            " 84%|████████▎ | 251/300 [00:50<00:10,  4.89it/s]"
          ],
          "name": "stderr"
        },
        {
          "output_type": "stream",
          "text": [
            "epoch:250 train_loss:0.0001 valid_loss:0.0001\n"
          ],
          "name": "stdout"
        },
        {
          "output_type": "stream",
          "text": [
            "100%|██████████| 300/300 [01:00<00:00,  5.00it/s]\n"
          ],
          "name": "stderr"
        },
        {
          "output_type": "display_data",
          "data": {
            "image/png": "[encoded data removed]",
            "text/plain": [
              "<Figure size 432x288 with 1 Axes>"
            ]
          },
          "metadata": {
            "tags": [],
            "needs_background": "light"
          }
        },
        {
          "output_type": "execute_result",
          "data": {
            "text/plain": [
              "<autorch.utils.part.PartBulider at 0x7fe4e2232a90>"
            ]
          },
          "metadata": {
            "tags": []
          },
          "execution_count": 46
        }
      ]
    },
    {
      "cell_type": "code",
      "metadata": {
        "id": "sAfqbgHg7yBT",
        "outputId": "d982b031-dde8-4a11-cde8-9e8c086a880d",
        "colab": {
          "base_uri": "https://localhost:8080/",
          "height": 228
        }
      },
      "source": [
        "c670_op_model.test(e=0.02)"
      ],
      "execution_count": 47,
      "outputs": [
        {
          "output_type": "execute_result",
          "data": {
            "text/html": [
              "<div>\n",
              "<style scoped>\n",
              "    .dataframe tbody tr th:only-of-type {\n",
              "        vertical-align: middle;\n",
              "    }\n",
              "\n",
              "    .dataframe tbody tr th {\n",
              "        vertical-align: top;\n",
              "    }\n",
              "\n",
              "    .dataframe thead th {\n",
              "        text-align: right;\n",
              "    }\n",
              "</style>\n",
              "<table border=\"1\" class=\"dataframe\">\n",
              "  <thead>\n",
              "    <tr style=\"text-align: right;\">\n",
              "      <th></th>\n",
              "      <th>R2</th>\n",
              "      <th>MSE</th>\n",
              "      <th>MAPE</th>\n",
              "    </tr>\n",
              "  </thead>\n",
              "  <tbody>\n",
              "    <tr>\n",
              "      <th>Density_Distillate Production Rate and Composition</th>\n",
              "      <td>0.999691</td>\n",
              "      <td>2.47025e-13</td>\n",
              "      <td>4.59324e-05</td>\n",
              "    </tr>\n",
              "    <tr>\n",
              "      <th>Density_Bottoms Production Rate and Composition</th>\n",
              "      <td>0.999898</td>\n",
              "      <td>1.85822e-11</td>\n",
              "      <td>0.000382229</td>\n",
              "    </tr>\n",
              "    <tr>\n",
              "      <th>Toluene Column C670 Operation_Yield \\nSummary_Reflux Rate_m3/hr</th>\n",
              "      <td>0.990447</td>\n",
              "      <td>5.97733</td>\n",
              "      <td>0.74411</td>\n",
              "    </tr>\n",
              "    <tr>\n",
              "      <th>Toluene Column C670 Operation_Column Temp Profile_C670 Tray 24 (Control)_oC</th>\n",
              "      <td>0.97836</td>\n",
              "      <td>0.001325</td>\n",
              "      <td>0.0155131</td>\n",
              "    </tr>\n",
              "    <tr>\n",
              "      <th>Toluene Column C670 Operation_Column Temp Profile_C670 Btm Temp (Control)_oC</th>\n",
              "      <td>0.997148</td>\n",
              "      <td>0.00784846</td>\n",
              "      <td>0.03187</td>\n",
              "    </tr>\n",
              "    <tr>\n",
              "      <th>AVG</th>\n",
              "      <td>0.993109</td>\n",
              "      <td>1.1973</td>\n",
              "      <td>0.158384</td>\n",
              "    </tr>\n",
              "  </tbody>\n",
              "</table>\n",
              "</div>"
            ],
            "text/plain": [
              "                                                          R2  ...         MAPE\n",
              "Density_Distillate Production Rate and Composition  0.999691  ...  4.59324e-05\n",
              "Density_Bottoms Production Rate and Composition     0.999898  ...  0.000382229\n",
              "Toluene Column C670 Operation_Yield \\nSummary_R...  0.990447  ...      0.74411\n",
              "Toluene Column C670 Operation_Column Temp Profi...   0.97836  ...    0.0155131\n",
              "Toluene Column C670 Operation_Column Temp Profi...  0.997148  ...      0.03187\n",
              "AVG                                                 0.993109  ...     0.158384\n",
              "\n",
              "[6 rows x 3 columns]"
            ]
          },
          "metadata": {
            "tags": []
          },
          "execution_count": 47
        }
      ]
    },
    {
      "cell_type": "code",
      "metadata": {
        "id": "dL01Hvtb8Qg7",
        "outputId": "febdae74-3ff9-4189-90b9-43a265d66407",
        "colab": {
          "base_uri": "https://localhost:8080/"
        }
      },
      "source": [
        "joblib.dump(c670_op_model,'/content/drive/MyDrive/台塑輕油案子/data/c620/model/c670_op.pkl')"
      ],
      "execution_count": 48,
      "outputs": [
        {
          "output_type": "execute_result",
          "data": {
            "text/plain": [
              "['/content/drive/MyDrive/台塑輕油案子/data/c620/model/c670_op.pkl']"
            ]
          },
          "metadata": {
            "tags": []
          },
          "execution_count": 48
        }
      ]
    },
    {
      "cell_type": "markdown",
      "metadata": {
        "id": "7jy_hgTZ8VPk"
      },
      "source": [
        "# c670 遷移學習"
      ]
    },
    {
      "cell_type": "code",
      "metadata": {
        "id": "-RqK7C7I8S_j",
        "outputId": "69c84b36-8439-4261-a203-2fe917dc3584",
        "colab": {
          "base_uri": "https://localhost:8080/"
        }
      },
      "source": [
        "pretrain_net = deepcopy(c670_op_model.net.train())\n",
        "print(pretrain_net)"
      ],
      "execution_count": 49,
      "outputs": [
        {
          "output_type": "stream",
          "text": [
            "Linear(in_features=82, out_features=5, bias=True)\n"
          ],
          "name": "stdout"
        }
      ]
    },
    {
      "cell_type": "code",
      "metadata": {
        "id": "-ty7t-c48Znj"
      },
      "source": [
        "c670_op_model = autorch.utils.PartBulider(c670_df_real,x_col,op_col,limit_y_range=True) # use real data  \n",
        "c670_op_model.net = pretrain_net # use pretrain net\n",
        "c670_op_model.optimizer = Adam(c670_op_model.net.parameters())"
      ],
      "execution_count": 50,
      "outputs": []
    },
    {
      "cell_type": "code",
      "metadata": {
        "id": "JSB9-lIc8gLb",
        "outputId": "6dce6e6e-ba1c-425f-cc61-5e07d963a9d8",
        "colab": {
          "base_uri": "https://localhost:8080/",
          "height": 410
        }
      },
      "source": [
        "c670_op_model.train()"
      ],
      "execution_count": 51,
      "outputs": [
        {
          "output_type": "stream",
          "text": [
            " 22%|██▏       | 65/300 [00:00<00:00, 319.78it/s]"
          ],
          "name": "stderr"
        },
        {
          "output_type": "stream",
          "text": [
            "epoch:0 train_loss:0.0780 valid_loss:0.0675\n",
            "epoch:50 train_loss:0.0123 valid_loss:0.0151\n"
          ],
          "name": "stdout"
        },
        {
          "output_type": "stream",
          "text": [
            " 53%|█████▎    | 159/300 [00:00<00:00, 308.16it/s]"
          ],
          "name": "stderr"
        },
        {
          "output_type": "stream",
          "text": [
            "epoch:100 train_loss:0.0093 valid_loss:0.0135\n",
            "epoch:150 train_loss:0.0076 valid_loss:0.0128\n"
          ],
          "name": "stdout"
        },
        {
          "output_type": "stream",
          "text": [
            " 84%|████████▍ | 252/300 [00:00<00:00, 305.52it/s]"
          ],
          "name": "stderr"
        },
        {
          "output_type": "stream",
          "text": [
            "epoch:200 train_loss:0.0063 valid_loss:0.0123\n",
            "epoch:250 train_loss:0.0055 valid_loss:0.0119\n"
          ],
          "name": "stdout"
        },
        {
          "output_type": "stream",
          "text": [
            "100%|██████████| 300/300 [00:00<00:00, 307.64it/s]\n"
          ],
          "name": "stderr"
        },
        {
          "output_type": "display_data",
          "data": {
            "image/png": "[encoded data removed]",
            "text/plain": [
              "<Figure size 432x288 with 1 Axes>"
            ]
          },
          "metadata": {
            "tags": [],
            "needs_background": "light"
          }
        },
        {
          "output_type": "execute_result",
          "data": {
            "text/plain": [
              "<autorch.utils.part.PartBulider at 0x7fe4e4a68e50>"
            ]
          },
          "metadata": {
            "tags": []
          },
          "execution_count": 51
        }
      ]
    },
    {
      "cell_type": "code",
      "metadata": {
        "id": "x5ZwPB5o8itz",
        "outputId": "ca3318c6-de46-4da2-cf31-060df8f8b66d",
        "colab": {
          "base_uri": "https://localhost:8080/",
          "height": 228
        }
      },
      "source": [
        "c670_op_model.test(e=0.02)"
      ],
      "execution_count": 52,
      "outputs": [
        {
          "output_type": "execute_result",
          "data": {
            "text/html": [
              "<div>\n",
              "<style scoped>\n",
              "    .dataframe tbody tr th:only-of-type {\n",
              "        vertical-align: middle;\n",
              "    }\n",
              "\n",
              "    .dataframe tbody tr th {\n",
              "        vertical-align: top;\n",
              "    }\n",
              "\n",
              "    .dataframe thead th {\n",
              "        text-align: right;\n",
              "    }\n",
              "</style>\n",
              "<table border=\"1\" class=\"dataframe\">\n",
              "  <thead>\n",
              "    <tr style=\"text-align: right;\">\n",
              "      <th></th>\n",
              "      <th>R2</th>\n",
              "      <th>MSE</th>\n",
              "      <th>MAPE</th>\n",
              "    </tr>\n",
              "  </thead>\n",
              "  <tbody>\n",
              "    <tr>\n",
              "      <th>Density_Distillate Production Rate and Composition</th>\n",
              "      <td>0</td>\n",
              "      <td>0.00226958</td>\n",
              "      <td>4.42103</td>\n",
              "    </tr>\n",
              "    <tr>\n",
              "      <th>Density_Bottoms Production Rate and Composition</th>\n",
              "      <td>0.00391536</td>\n",
              "      <td>1.5372e-06</td>\n",
              "      <td>0.060306</td>\n",
              "    </tr>\n",
              "    <tr>\n",
              "      <th>Toluene Column C670 Operation_Yield \\nSummary_Reflux Rate_m3/hr</th>\n",
              "      <td>0</td>\n",
              "      <td>97.2477</td>\n",
              "      <td>3.27445</td>\n",
              "    </tr>\n",
              "    <tr>\n",
              "      <th>Toluene Column C670 Operation_Column Temp Profile_C670 Tray 24 (Control)_oC</th>\n",
              "      <td>0</td>\n",
              "      <td>1.76165</td>\n",
              "      <td>0.571879</td>\n",
              "    </tr>\n",
              "    <tr>\n",
              "      <th>Toluene Column C670 Operation_Column Temp Profile_C670 Btm Temp (Control)_oC</th>\n",
              "      <td>0</td>\n",
              "      <td>1.28673</td>\n",
              "      <td>0.383227</td>\n",
              "    </tr>\n",
              "    <tr>\n",
              "      <th>AVG</th>\n",
              "      <td>0.000783073</td>\n",
              "      <td>20.0597</td>\n",
              "      <td>1.74218</td>\n",
              "    </tr>\n",
              "  </tbody>\n",
              "</table>\n",
              "</div>"
            ],
            "text/plain": [
              "                                                             R2  ...      MAPE\n",
              "Density_Distillate Production Rate and Composition            0  ...   4.42103\n",
              "Density_Bottoms Production Rate and Composition      0.00391536  ...  0.060306\n",
              "Toluene Column C670 Operation_Yield \\nSummary_R...            0  ...   3.27445\n",
              "Toluene Column C670 Operation_Column Temp Profi...            0  ...  0.571879\n",
              "Toluene Column C670 Operation_Column Temp Profi...            0  ...  0.383227\n",
              "AVG                                                 0.000783073  ...   1.74218\n",
              "\n",
              "[6 rows x 3 columns]"
            ]
          },
          "metadata": {
            "tags": []
          },
          "execution_count": 52
        }
      ]
    },
    {
      "cell_type": "code",
      "metadata": {
        "id": "KVf7ZAeK8mZT",
        "outputId": "7aa2f9ee-5ecb-4b0a-d7ae-fae5c1d33e99",
        "colab": {
          "base_uri": "https://localhost:8080/"
        }
      },
      "source": [
        "joblib.dump(c670_op_model,'/content/drive/MyDrive/台塑輕油案子/data/c620/model/c670_op_real_data.pkl')"
      ],
      "execution_count": 53,
      "outputs": [
        {
          "output_type": "execute_result",
          "data": {
            "text/plain": [
              "['/content/drive/MyDrive/台塑輕油案子/data/c620/model/c670_op_real_data.pkl']"
            ]
          },
          "metadata": {
            "tags": []
          },
          "execution_count": 53
        }
      ]
    },
    {
      "cell_type": "code",
      "metadata": {
        "id": "pnnMcnVE8xAb"
      },
      "source": [
        ""
      ],
      "execution_count": null,
      "outputs": []
    }
  ]
}