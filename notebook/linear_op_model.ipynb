{
  "nbformat": 4,
  "nbformat_minor": 0,
  "metadata": {
    "colab": {
      "name": "linear_op_model.ipynb",
      "provenance": [],
      "mount_file_id": "1eRDIUaAI4nHQY7zExd-TyG0YGAXnLqA6",
      "authorship_tag": "ABX9TyMn3NOPYnMo1/C/DL3sqbaH",
      "include_colab_link": true
    },
    "kernelspec": {
      "name": "python3",
      "display_name": "Python 3"
    },
    "language_info": {
      "name": "python"
    }
  },
  "cells": [
    {
      "cell_type": "markdown",
      "metadata": {
        "id": "view-in-github",
        "colab_type": "text"
      },
      "source": [
        "<a href=\"https://colab.research.google.com/github/skywalker0803r/c620/blob/main/notebook/linear_op_model.ipynb\" target=\"_parent\"><img src=\"https://colab.research.google.com/assets/colab-badge.svg\" alt=\"Open In Colab\"/></a>"
      ]
    },
    {
      "cell_type": "code",
      "metadata": {
        "id": "uOGQX9YjqMju"
      },
      "source": [
        "!pip install autorch >log.txt"
      ],
      "execution_count": 1,
      "outputs": []
    },
    {
      "cell_type": "code",
      "metadata": {
        "id": "tKnv94HhqT5K"
      },
      "source": [
        "import pandas as pd\n",
        "import joblib\n",
        "import autorch\n",
        "from torch import nn#\n",
        "from torch.optim import Adam"
      ],
      "execution_count": 2,
      "outputs": []
    },
    {
      "cell_type": "markdown",
      "metadata": {
        "id": "SDKVxW1evK09"
      },
      "source": [
        "# c620 模擬數據"
      ]
    },
    {
      "cell_type": "code",
      "metadata": {
        "colab": {
          "base_uri": "https://localhost:8080/",
          "height": 399
        },
        "id": "CNpU0VnpqcgK",
        "outputId": "a8ea3f56-bd71-40de-a153-9705ee21df09"
      },
      "source": [
        "# load data\n",
        "c620_df = pd.read_csv('/content/drive/MyDrive/台塑輕油案子/data/c620/cleaned/c620_train.csv',index_col=0)\n",
        "c620_df_real = pd.read_excel('/content/drive/MyDrive/台塑輕油案子/data/c620/明志_遷移式學習_訓練資料_寄送版/c620_data.xlsx',index_col=0)\n",
        "c = joblib.load('/content/drive/MyDrive/台塑輕油案子/data/c620/col_names/c620_col_names.pkl')\n",
        "\n",
        "# def col\n",
        "x_col = c['case']+c['x41']\n",
        "op_col = c['density']+c['yRefluxRate']+c['yHeatDuty']+c['yControl']\n",
        "op_col = c620_df_real[op_col].dropna(axis=1).columns.tolist()\n",
        "\n",
        "# modeling\n",
        "c620_op_model = autorch.utils.PartBulider(c620_df,x_col,op_col,limit_y_range=True)\n",
        "c620_op_model.net = nn.Linear(len(x_col),len(op_col))\n",
        "c620_op_model.optimizer = Adam(c620_op_model.net.parameters())\n",
        "c620_op_model.train()"
      ],
      "execution_count": 3,
      "outputs": [
        {
          "output_type": "stream",
          "text": [
            "  0%|          | 1/300 [00:00<00:59,  4.99it/s]"
          ],
          "name": "stderr"
        },
        {
          "output_type": "stream",
          "text": [
            "epoch:0 train_loss:0.0504 valid_loss:0.0148\n"
          ],
          "name": "stdout"
        },
        {
          "output_type": "stream",
          "text": [
            " 17%|█▋        | 52/300 [00:09<00:46,  5.38it/s]"
          ],
          "name": "stderr"
        },
        {
          "output_type": "stream",
          "text": [
            "epoch:50 train_loss:0.0006 valid_loss:0.0006\n"
          ],
          "name": "stdout"
        },
        {
          "output_type": "stream",
          "text": [
            " 34%|███▍      | 102/300 [00:19<00:36,  5.45it/s]"
          ],
          "name": "stderr"
        },
        {
          "output_type": "stream",
          "text": [
            "epoch:100 train_loss:0.0006 valid_loss:0.0006\n"
          ],
          "name": "stdout"
        },
        {
          "output_type": "stream",
          "text": [
            " 51%|█████     | 152/300 [00:28<00:27,  5.43it/s]"
          ],
          "name": "stderr"
        },
        {
          "output_type": "stream",
          "text": [
            "epoch:150 train_loss:0.0006 valid_loss:0.0006\n"
          ],
          "name": "stdout"
        },
        {
          "output_type": "stream",
          "text": [
            " 67%|██████▋   | 202/300 [00:37<00:18,  5.41it/s]"
          ],
          "name": "stderr"
        },
        {
          "output_type": "stream",
          "text": [
            "epoch:200 train_loss:0.0006 valid_loss:0.0006\n"
          ],
          "name": "stdout"
        },
        {
          "output_type": "stream",
          "text": [
            " 84%|████████▍ | 252/300 [00:47<00:08,  5.41it/s]"
          ],
          "name": "stderr"
        },
        {
          "output_type": "stream",
          "text": [
            "epoch:250 train_loss:0.0006 valid_loss:0.0006\n"
          ],
          "name": "stdout"
        },
        {
          "output_type": "stream",
          "text": [
            "100%|██████████| 300/300 [00:56<00:00,  5.35it/s]\n"
          ],
          "name": "stderr"
        },
        {
          "output_type": "display_data",
          "data": {
            "image/png": "[encoded data removed]",
            "text/plain": [
              "<Figure size 432x288 with 1 Axes>"
            ]
          },
          "metadata": {
            "tags": [],
            "needs_background": "light"
          }
        },
        {
          "output_type": "execute_result",
          "data": {
            "text/plain": [
              "<autorch.utils.part.PartBulider at 0x7f56b7ee2190>"
            ]
          },
          "metadata": {
            "tags": []
          },
          "execution_count": 3
        }
      ]
    },
    {
      "cell_type": "code",
      "metadata": {
        "colab": {
          "base_uri": "https://localhost:8080/",
          "height": 314
        },
        "id": "U5DGlA4HqsRU",
        "outputId": "204c05be-7bb5-4551-db42-380a8bf02d23"
      },
      "source": [
        "# test\n",
        "c620_op_model.test(e=0.02)"
      ],
      "execution_count": 4,
      "outputs": [
        {
          "output_type": "execute_result",
          "data": {
            "text/html": [
              "<div>\n",
              "<style scoped>\n",
              "    .dataframe tbody tr th:only-of-type {\n",
              "        vertical-align: middle;\n",
              "    }\n",
              "\n",
              "    .dataframe tbody tr th {\n",
              "        vertical-align: top;\n",
              "    }\n",
              "\n",
              "    .dataframe thead th {\n",
              "        text-align: right;\n",
              "    }\n",
              "</style>\n",
              "<table border=\"1\" class=\"dataframe\">\n",
              "  <thead>\n",
              "    <tr style=\"text-align: right;\">\n",
              "      <th></th>\n",
              "      <th>R2</th>\n",
              "      <th>MSE</th>\n",
              "      <th>MAPE</th>\n",
              "    </tr>\n",
              "  </thead>\n",
              "  <tbody>\n",
              "    <tr>\n",
              "      <th>Density_Feed Properties</th>\n",
              "      <td>1</td>\n",
              "      <td>6.92106e-13</td>\n",
              "      <td>4.29631e-05</td>\n",
              "    </tr>\n",
              "    <tr>\n",
              "      <th>Density_Vent Gas Production Rate and Composition</th>\n",
              "      <td>0.968987</td>\n",
              "      <td>7.01797e-07</td>\n",
              "      <td>0.125773</td>\n",
              "    </tr>\n",
              "    <tr>\n",
              "      <th>Density_Distillate Production Rate and Composition</th>\n",
              "      <td>0.912277</td>\n",
              "      <td>9.17944e-06</td>\n",
              "      <td>0.275206</td>\n",
              "    </tr>\n",
              "    <tr>\n",
              "      <th>Density_Sidedraw Production Rate and Composition</th>\n",
              "      <td>0.999774</td>\n",
              "      <td>2.59369e-10</td>\n",
              "      <td>0.00137907</td>\n",
              "    </tr>\n",
              "    <tr>\n",
              "      <th>Density_Bottoms Production Rate and Composition</th>\n",
              "      <td>0.998636</td>\n",
              "      <td>2.25621e-11</td>\n",
              "      <td>0.000476714</td>\n",
              "    </tr>\n",
              "    <tr>\n",
              "      <th>Tatoray Stripper C620 Operation_Yield Summary_Reflux Rate_m3/hr</th>\n",
              "      <td>0.992787</td>\n",
              "      <td>0.952217</td>\n",
              "      <td>0.608299</td>\n",
              "    </tr>\n",
              "    <tr>\n",
              "      <th>Tatoray Stripper C620 Operation_Column Temp Profile_C620 Tray 14 (Control)_oC</th>\n",
              "      <td>0.957618</td>\n",
              "      <td>0.0562718</td>\n",
              "      <td>0.124396</td>\n",
              "    </tr>\n",
              "    <tr>\n",
              "      <th>Tatoray Stripper C620 Operation_Column Temp Profile_C620 Tray 34 (Control)_oC</th>\n",
              "      <td>0.996362</td>\n",
              "      <td>0.00289455</td>\n",
              "      <td>0.0224119</td>\n",
              "    </tr>\n",
              "    <tr>\n",
              "      <th>AVG</th>\n",
              "      <td>0.978305</td>\n",
              "      <td>0.126424</td>\n",
              "      <td>0.144748</td>\n",
              "    </tr>\n",
              "  </tbody>\n",
              "</table>\n",
              "</div>"
            ],
            "text/plain": [
              "                                                          R2  ...         MAPE\n",
              "Density_Feed Properties                                    1  ...  4.29631e-05\n",
              "Density_Vent Gas Production Rate and Composition    0.968987  ...     0.125773\n",
              "Density_Distillate Production Rate and Composition  0.912277  ...     0.275206\n",
              "Density_Sidedraw Production Rate and Composition    0.999774  ...   0.00137907\n",
              "Density_Bottoms Production Rate and Composition     0.998636  ...  0.000476714\n",
              "Tatoray Stripper C620 Operation_Yield Summary_R...  0.992787  ...     0.608299\n",
              "Tatoray Stripper C620 Operation_Column Temp Pro...  0.957618  ...     0.124396\n",
              "Tatoray Stripper C620 Operation_Column Temp Pro...  0.996362  ...    0.0224119\n",
              "AVG                                                 0.978305  ...     0.144748\n",
              "\n",
              "[9 rows x 3 columns]"
            ]
          },
          "metadata": {
            "tags": []
          },
          "execution_count": 4
        }
      ]
    },
    {
      "cell_type": "code",
      "metadata": {
        "colab": {
          "base_uri": "https://localhost:8080/"
        },
        "id": "Q8e4xiNRwOio",
        "outputId": "3892ca9b-5c9a-4d89-8e5b-24edeae1c347"
      },
      "source": [
        "import joblib\n",
        "# save\n",
        "joblib.dump(c620_op_model,'/content/drive/MyDrive/台塑輕油案子/data/c620/model/c620_op.pkl')"
      ],
      "execution_count": 5,
      "outputs": [
        {
          "output_type": "execute_result",
          "data": {
            "text/plain": [
              "['/content/drive/MyDrive/台塑輕油案子/data/c620/model/c620_op.pkl']"
            ]
          },
          "metadata": {
            "tags": []
          },
          "execution_count": 5
        }
      ]
    },
    {
      "cell_type": "markdown",
      "metadata": {
        "id": "1rZN9cjQwV9x"
      },
      "source": [
        "# c620遷移學習"
      ]
    },
    {
      "cell_type": "code",
      "metadata": {
        "colab": {
          "base_uri": "https://localhost:8080/"
        },
        "id": "LGApjf5fsgP2",
        "outputId": "991aa9fc-b57e-46a6-f701-ced12c3c34e7"
      },
      "source": [
        "# use pretrain net continue training\n",
        "from copy import deepcopy\n",
        "pretrain_net = deepcopy(c620_op_model.net.train())\n",
        "print(pretrain_net)"
      ],
      "execution_count": 6,
      "outputs": [
        {
          "output_type": "stream",
          "text": [
            "Linear(in_features=44, out_features=8, bias=True)\n"
          ],
          "name": "stdout"
        }
      ]
    },
    {
      "cell_type": "code",
      "metadata": {
        "id": "glLlPyJsrHUa"
      },
      "source": [
        "c620_op_model = autorch.utils.PartBulider(c620_df_real,x_col,op_col,limit_y_range=True) # use real data  \n",
        "c620_op_model.net = pretrain_net # use pretrain net\n",
        "c620_op_model.optimizer = Adam(c620_op_model.net.parameters())"
      ],
      "execution_count": 7,
      "outputs": []
    },
    {
      "cell_type": "code",
      "metadata": {
        "colab": {
          "base_uri": "https://localhost:8080/",
          "height": 399
        },
        "id": "fDeFvsQ4sXuK",
        "outputId": "642c02d1-dddd-4a81-bbc6-0e0cbada183c"
      },
      "source": [
        "c620_op_model.train()"
      ],
      "execution_count": 8,
      "outputs": [
        {
          "output_type": "stream",
          "text": [
            " 11%|█▏        | 34/300 [00:00<00:00, 332.38it/s]"
          ],
          "name": "stderr"
        },
        {
          "output_type": "stream",
          "text": [
            "epoch:0 train_loss:0.1030 valid_loss:0.0910\n"
          ],
          "name": "stdout"
        },
        {
          "output_type": "stream",
          "text": [
            "\r 22%|██▏       | 65/300 [00:00<00:00, 323.02it/s]"
          ],
          "name": "stderr"
        },
        {
          "output_type": "stream",
          "text": [
            "epoch:50 train_loss:0.0099 valid_loss:0.0124\n"
          ],
          "name": "stdout"
        },
        {
          "output_type": "stream",
          "text": [
            "\r 33%|███▎      | 100/300 [00:00<00:00, 329.23it/s]"
          ],
          "name": "stderr"
        },
        {
          "output_type": "stream",
          "text": [
            "epoch:100 train_loss:0.0074 valid_loss:0.0098\n"
          ],
          "name": "stdout"
        },
        {
          "output_type": "stream",
          "text": [
            "\r 44%|████▍     | 133/300 [00:00<00:00, 325.12it/s]"
          ],
          "name": "stderr"
        },
        {
          "output_type": "stream",
          "text": [
            "epoch:150 train_loss:0.0061 valid_loss:0.0084\n"
          ],
          "name": "stdout"
        },
        {
          "output_type": "stream",
          "text": [
            " 66%|██████▌   | 197/300 [00:00<00:00, 319.12it/s]"
          ],
          "name": "stderr"
        },
        {
          "output_type": "stream",
          "text": [
            "epoch:200 train_loss:0.0054 valid_loss:0.0075\n"
          ],
          "name": "stdout"
        },
        {
          "output_type": "stream",
          "text": [
            " 87%|████████▋ | 260/300 [00:00<00:00, 312.50it/s]"
          ],
          "name": "stderr"
        },
        {
          "output_type": "stream",
          "text": [
            "epoch:250 train_loss:0.0049 valid_loss:0.0070\n"
          ],
          "name": "stdout"
        },
        {
          "output_type": "stream",
          "text": [
            "100%|██████████| 300/300 [00:00<00:00, 315.33it/s]\n"
          ],
          "name": "stderr"
        },
        {
          "output_type": "display_data",
          "data": {
            "image/png": "[encoded data removed]",
            "text/plain": [
              "<Figure size 432x288 with 1 Axes>"
            ]
          },
          "metadata": {
            "tags": [],
            "needs_background": "light"
          }
        },
        {
          "output_type": "execute_result",
          "data": {
            "text/plain": [
              "<autorch.utils.part.PartBulider at 0x7f565513f950>"
            ]
          },
          "metadata": {
            "tags": []
          },
          "execution_count": 8
        }
      ]
    },
    {
      "cell_type": "code",
      "metadata": {
        "colab": {
          "base_uri": "https://localhost:8080/",
          "height": 314
        },
        "id": "nZDfN9ArtqH0",
        "outputId": "817ada40-6291-4108-f960-f980e9e60d1f"
      },
      "source": [
        "# test\n",
        "c620_op_model.test(e=0.02)"
      ],
      "execution_count": 9,
      "outputs": [
        {
          "output_type": "execute_result",
          "data": {
            "text/html": [
              "<div>\n",
              "<style scoped>\n",
              "    .dataframe tbody tr th:only-of-type {\n",
              "        vertical-align: middle;\n",
              "    }\n",
              "\n",
              "    .dataframe tbody tr th {\n",
              "        vertical-align: top;\n",
              "    }\n",
              "\n",
              "    .dataframe thead th {\n",
              "        text-align: right;\n",
              "    }\n",
              "</style>\n",
              "<table border=\"1\" class=\"dataframe\">\n",
              "  <thead>\n",
              "    <tr style=\"text-align: right;\">\n",
              "      <th></th>\n",
              "      <th>R2</th>\n",
              "      <th>MSE</th>\n",
              "      <th>MAPE</th>\n",
              "    </tr>\n",
              "  </thead>\n",
              "  <tbody>\n",
              "    <tr>\n",
              "      <th>Density_Feed Properties</th>\n",
              "      <td>0</td>\n",
              "      <td>1.66249e-05</td>\n",
              "      <td>0.363113</td>\n",
              "    </tr>\n",
              "    <tr>\n",
              "      <th>Density_Vent Gas Production Rate and Composition</th>\n",
              "      <td>0</td>\n",
              "      <td>0.00155839</td>\n",
              "      <td>5.52802</td>\n",
              "    </tr>\n",
              "    <tr>\n",
              "      <th>Density_Distillate Production Rate and Composition</th>\n",
              "      <td>0.726885</td>\n",
              "      <td>5.17689e-06</td>\n",
              "      <td>0.211468</td>\n",
              "    </tr>\n",
              "    <tr>\n",
              "      <th>Density_Sidedraw Production Rate and Composition</th>\n",
              "      <td>0</td>\n",
              "      <td>8.71955e-06</td>\n",
              "      <td>0.204538</td>\n",
              "    </tr>\n",
              "    <tr>\n",
              "      <th>Density_Bottoms Production Rate and Composition</th>\n",
              "      <td>0.684454</td>\n",
              "      <td>3.1664e-07</td>\n",
              "      <td>0.0577827</td>\n",
              "    </tr>\n",
              "    <tr>\n",
              "      <th>Tatoray Stripper C620 Operation_Yield Summary_Reflux Rate_m3/hr</th>\n",
              "      <td>0.628833</td>\n",
              "      <td>7.79485</td>\n",
              "      <td>2.15563</td>\n",
              "    </tr>\n",
              "    <tr>\n",
              "      <th>Tatoray Stripper C620 Operation_Column Temp Profile_C620 Tray 14 (Control)_oC</th>\n",
              "      <td>0</td>\n",
              "      <td>5.92876</td>\n",
              "      <td>1.03358</td>\n",
              "    </tr>\n",
              "    <tr>\n",
              "      <th>Tatoray Stripper C620 Operation_Column Temp Profile_C620 Tray 34 (Control)_oC</th>\n",
              "      <td>0</td>\n",
              "      <td>0.683749</td>\n",
              "      <td>0.344262</td>\n",
              "    </tr>\n",
              "    <tr>\n",
              "      <th>AVG</th>\n",
              "      <td>0.255021</td>\n",
              "      <td>1.80112</td>\n",
              "      <td>1.2373</td>\n",
              "    </tr>\n",
              "  </tbody>\n",
              "</table>\n",
              "</div>"
            ],
            "text/plain": [
              "                                                          R2  ...       MAPE\n",
              "Density_Feed Properties                                    0  ...   0.363113\n",
              "Density_Vent Gas Production Rate and Composition           0  ...    5.52802\n",
              "Density_Distillate Production Rate and Composition  0.726885  ...   0.211468\n",
              "Density_Sidedraw Production Rate and Composition           0  ...   0.204538\n",
              "Density_Bottoms Production Rate and Composition     0.684454  ...  0.0577827\n",
              "Tatoray Stripper C620 Operation_Yield Summary_R...  0.628833  ...    2.15563\n",
              "Tatoray Stripper C620 Operation_Column Temp Pro...         0  ...    1.03358\n",
              "Tatoray Stripper C620 Operation_Column Temp Pro...         0  ...   0.344262\n",
              "AVG                                                 0.255021  ...     1.2373\n",
              "\n",
              "[9 rows x 3 columns]"
            ]
          },
          "metadata": {
            "tags": []
          },
          "execution_count": 9
        }
      ]
    },
    {
      "cell_type": "code",
      "metadata": {
        "colab": {
          "base_uri": "https://localhost:8080/"
        },
        "id": "1-8zSfUFvq4N",
        "outputId": "9beda080-bd98-496d-c46b-688a5608e660"
      },
      "source": [
        "# save\n",
        "joblib.dump(c620_op_model,'/content/drive/MyDrive/台塑輕油案子/data/c620/model/c620_op_real_data.pkl')"
      ],
      "execution_count": 10,
      "outputs": [
        {
          "output_type": "execute_result",
          "data": {
            "text/plain": [
              "['/content/drive/MyDrive/台塑輕油案子/data/c620/model/c620_op_real_data.pkl']"
            ]
          },
          "metadata": {
            "tags": []
          },
          "execution_count": 10
        }
      ]
    },
    {
      "cell_type": "markdown",
      "metadata": {
        "id": "UUFmBXxwwb0l"
      },
      "source": [
        "# c660"
      ]
    },
    {
      "cell_type": "code",
      "metadata": {
        "id": "PkPFWCfQwFje"
      },
      "source": [
        ""
      ],
      "execution_count": 10,
      "outputs": []
    }
  ]
}