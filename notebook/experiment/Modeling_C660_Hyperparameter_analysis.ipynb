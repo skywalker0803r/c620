{
  "nbformat": 4,
  "nbformat_minor": 0,
  "metadata": {
    "colab": {
      "name": "C620.ipynb",
      "provenance": [],
      "include_colab_link": true
    },
    "kernelspec": {
      "name": "python3",
      "display_name": "Python 3"
    },
    "accelerator": "GPU"
  },
  "cells": [
    {
      "cell_type": "markdown",
      "metadata": {
        "id": "view-in-github",
        "colab_type": "text"
      },
      "source": [
        "<a href=\"https://colab.research.google.com/github/skywalker0803r/c620/blob/main/notebook/experiment/Modeling_C660_Hyperparameter_analysis.ipynb\" target=\"_parent\"><img src=\"https://colab.research.google.com/assets/colab-badge.svg\" alt=\"Open In Colab\"/></a>"
      ]
    },
    {
      "cell_type": "code",
      "metadata": {
        "id": "UlSIoDuFhzeA",
        "colab": {
          "base_uri": "https://localhost:8080/"
        },
        "outputId": "9a47e005-5200-43ab-89ca-ea1bf0c26c87"
      },
      "source": [
        "import pandas as pd\n",
        "import numpy as np\n",
        "import joblib\n",
        "import torch\n",
        "from google.colab import drive\n",
        "drive.mount('/content/drive')\n",
        "!pip install autorch > log.txt\n",
        "torch.manual_seed(11)"
      ],
      "execution_count": 1,
      "outputs": [
        {
          "output_type": "stream",
          "text": [
            "Mounted at /content/drive\n"
          ],
          "name": "stdout"
        },
        {
          "output_type": "execute_result",
          "data": {
            "text/plain": [
              "<torch._C.Generator at 0x7f7f97eeef60>"
            ]
          },
          "metadata": {
            "tags": []
          },
          "execution_count": 1
        }
      ]
    },
    {
      "cell_type": "code",
      "metadata": {
        "id": "33VeJjbyjuv2"
      },
      "source": [
        "root = '/content/drive/MyDrive/台塑輕油案子/data/c620/cleaned/'\n",
        "\n",
        "t651_df = pd.read_csv(root+'t651_train.csv',index_col=0).dropna(axis=0)\n",
        "idx = t651_df.index\n",
        "\n",
        "c620_df = pd.read_csv(root+'c620_train.csv',index_col=0).loc[idx]\n",
        "c620_mb = pd.read_csv(root+'c620_mbcheck.csv',index_col=0).loc[idx]\n",
        "\n",
        "c660_df = pd.read_csv(root+'c660_train.csv',index_col=0).loc[idx]\n",
        "c660_mb = pd.read_csv(root+'c660_mbcheck.csv',index_col=0).loc[idx]\n",
        "\n",
        "c670_df = pd.read_csv(root+'c670_train.csv',index_col=0).loc[idx]\n",
        "c670_mb = pd.read_csv(root+'c670_mbcheck.csv',index_col=0).loc[idx]"
      ],
      "execution_count": 2,
      "outputs": []
    },
    {
      "cell_type": "code",
      "metadata": {
        "id": "I1LZZ_tLl0HX"
      },
      "source": [
        "root = '/content/drive/MyDrive/台塑輕油案子/data/c620/col_names/'\n",
        "c620_col = joblib.load(root+'c620_col_names.pkl')\n",
        "c660_col = joblib.load(root+'c660_col_names.pkl')\n",
        "c670_col = joblib.load(root+'c670_col_names.pkl')\n",
        "t651_col = joblib.load(root+'t651_col_names.pkl')"
      ],
      "execution_count": 3,
      "outputs": []
    },
    {
      "cell_type": "code",
      "metadata": {
        "id": "t7rx74-QZVSa",
        "colab": {
          "base_uri": "https://localhost:8080/",
          "height": 314
        },
        "outputId": "6bcc27f8-da45-4b4e-937f-e4b07ed6cc46"
      },
      "source": [
        "t651_mf = t651_df[t651_col['MFR']]\n",
        "c620_mf = c620_mb.loc[:,['Tatoray Stripper C620 Operation_Sidedraw Production Rate and Composition_Mass Flow Rate_ton/hr']]\n",
        "total = t651_mf.values + c620_mf.values\n",
        "t651_mf = t651_mf/total\n",
        "c620_mf = c620_mf/total\n",
        "t651_x41 = t651_df[t651_col['x41']]\n",
        "c620_w3 = c620_df[c620_col['sidedraw_x']]\n",
        "c660_feed_pred = c620_w3.values*c620_mf.values + t651_x41.values*t651_mf.values\n",
        "c660_feed_pred = pd.DataFrame(c660_feed_pred,index=idx,columns=c660_col['x41'])\n",
        "c660_feed_pred.head(3)"
      ],
      "execution_count": 4,
      "outputs": [
        {
          "output_type": "execute_result",
          "data": {
            "text/html": [
              "<div>\n",
              "<style scoped>\n",
              "    .dataframe tbody tr th:only-of-type {\n",
              "        vertical-align: middle;\n",
              "    }\n",
              "\n",
              "    .dataframe tbody tr th {\n",
              "        vertical-align: top;\n",
              "    }\n",
              "\n",
              "    .dataframe thead th {\n",
              "        text-align: right;\n",
              "    }\n",
              "</style>\n",
              "<table border=\"1\" class=\"dataframe\">\n",
              "  <thead>\n",
              "    <tr style=\"text-align: right;\">\n",
              "      <th></th>\n",
              "      <th>Combined Feed to Benzene Column C660_Detailed Composition_Hydrogen_wt%</th>\n",
              "      <th>Combined Feed to Benzene Column C660_Detailed Composition_Methane_wt%</th>\n",
              "      <th>Combined Feed to Benzene Column C660_Detailed Composition_Ethane_wt%</th>\n",
              "      <th>Combined Feed to Benzene Column C660_Detailed Composition_Propane_wt%</th>\n",
              "      <th>Combined Feed to Benzene Column C660_Detailed Composition_n-Butane_wt%</th>\n",
              "      <th>Combined Feed to Benzene Column C660_Detailed Composition_n-Pentane_wt%</th>\n",
              "      <th>Combined Feed to Benzene Column C660_Detailed Composition_n-Hexane_wt%</th>\n",
              "      <th>Combined Feed to Benzene Column C660_Detailed Composition_Benzene_wt%</th>\n",
              "      <th>Combined Feed to Benzene Column C660_Detailed Composition_Cyclohexane_wt%</th>\n",
              "      <th>Combined Feed to Benzene Column C660_Detailed Composition_n-Heptane_wt%</th>\n",
              "      <th>Combined Feed to Benzene Column C660_Detailed Composition_Water_wt%</th>\n",
              "      <th>Combined Feed to Benzene Column C660_Detailed Composition_Methylcyclohexane_wt%</th>\n",
              "      <th>Combined Feed to Benzene Column C660_Detailed Composition_Toluene_wt%</th>\n",
              "      <th>Combined Feed to Benzene Column C660_Detailed Composition_n-Octane_wt%</th>\n",
              "      <th>Combined Feed to Benzene Column C660_Detailed Composition_n-Propylcyclopentane_wt%</th>\n",
              "      <th>Combined Feed to Benzene Column C660_Detailed Composition_Ethylcyclohexane_wt%</th>\n",
              "      <th>Combined Feed to Benzene Column C660_Detailed Composition_Ethylbenzene_wt%</th>\n",
              "      <th>Combined Feed to Benzene Column C660_Detailed Composition_p-Xylene_wt%</th>\n",
              "      <th>Combined Feed to Benzene Column C660_Detailed Composition_m-Xylene_wt%</th>\n",
              "      <th>Combined Feed to Benzene Column C660_Detailed Composition_o-Xylene_wt%</th>\n",
              "      <th>Combined Feed to Benzene Column C660_Detailed Composition_n-Nonane_wt%</th>\n",
              "      <th>Combined Feed to Benzene Column C660_Detailed Composition_i-Propylbenzene_wt%</th>\n",
              "      <th>Combined Feed to Benzene Column C660_Detailed Composition_n-Propylcyclohexane_wt%</th>\n",
              "      <th>Combined Feed to Benzene Column C660_Detailed Composition_n-Propylbenzene_wt%</th>\n",
              "      <th>Combined Feed to Benzene Column C660_Detailed Composition_1-Methyl-3-ethylbenzene_wt%</th>\n",
              "      <th>Combined Feed to Benzene Column C660_Detailed Composition_1-Methyl-4-ethylbenzene_wt%</th>\n",
              "      <th>Combined Feed to Benzene Column C660_Detailed Composition_1,3,5-Trimethylbenzene_wt%</th>\n",
              "      <th>Combined Feed to Benzene Column C660_Detailed Composition_1-Methyl-2-ethylbenzene_wt%</th>\n",
              "      <th>Combined Feed to Benzene Column C660_Detailed Composition_1,2,4-Trimethylbenzene_wt%</th>\n",
              "      <th>Combined Feed to Benzene Column C660_Detailed Composition_tert-Butylcyclohexane_wt%</th>\n",
              "      <th>Combined Feed to Benzene Column C660_Detailed Composition_1,2,3-Trimethylbenzene_wt%</th>\n",
              "      <th>Combined Feed to Benzene Column C660_Detailed Composition_Indane_wt%</th>\n",
              "      <th>Combined Feed to Benzene Column C660_Detailed Composition_1-Methyl-4-n-propylbenzene_wt%</th>\n",
              "      <th>Combined Feed to Benzene Column C660_Detailed Composition_1,2-Diethylbenzene_wt%</th>\n",
              "      <th>Combined Feed to Benzene Column C660_Detailed Composition_5-Ethyl-m-xylene_wt%</th>\n",
              "      <th>Combined Feed to Benzene Column C660_Detailed Composition_1,4-Diethylbenzene_wt%</th>\n",
              "      <th>Combined Feed to Benzene Column C660_Detailed Composition_1,2,3,5-Tetramethylbenzene_wt%</th>\n",
              "      <th>Combined Feed to Benzene Column C660_Detailed Composition_n-Pentylbenzene_wt%</th>\n",
              "      <th>Combined Feed to Benzene Column C660_Detailed Composition_n-Hexylbenzene_wt%</th>\n",
              "      <th>Combined Feed to Benzene Column C660_Detailed Composition_Nitrogen_wt%</th>\n",
              "      <th>Combined Feed to Benzene Column C660_Detailed Composition_Oxygen_wt%</th>\n",
              "    </tr>\n",
              "  </thead>\n",
              "  <tbody>\n",
              "    <tr>\n",
              "      <th>001-001</th>\n",
              "      <td>0.0</td>\n",
              "      <td>0.000175</td>\n",
              "      <td>0.011354</td>\n",
              "      <td>0.021681</td>\n",
              "      <td>0.014908</td>\n",
              "      <td>0.019511</td>\n",
              "      <td>0.030082</td>\n",
              "      <td>66.278216</td>\n",
              "      <td>0.02099</td>\n",
              "      <td>0.034398</td>\n",
              "      <td>0.0</td>\n",
              "      <td>0.014600</td>\n",
              "      <td>27.873568</td>\n",
              "      <td>0.028611</td>\n",
              "      <td>0.024798</td>\n",
              "      <td>0.020281</td>\n",
              "      <td>3.132133</td>\n",
              "      <td>0.632336</td>\n",
              "      <td>1.318028</td>\n",
              "      <td>0.365566</td>\n",
              "      <td>0.044484</td>\n",
              "      <td>1.951733e-08</td>\n",
              "      <td>0.098763</td>\n",
              "      <td>3.399222e-09</td>\n",
              "      <td>0.001142</td>\n",
              "      <td>0.001141</td>\n",
              "      <td>0.00223</td>\n",
              "      <td>0.00057</td>\n",
              "      <td>0.00057</td>\n",
              "      <td>0.00788</td>\n",
              "      <td>3.896395e-09</td>\n",
              "      <td>1.684247e-10</td>\n",
              "      <td>0.001555</td>\n",
              "      <td>0.000415</td>\n",
              "      <td>6.044997e-10</td>\n",
              "      <td>0.0</td>\n",
              "      <td>6.479632e-12</td>\n",
              "      <td>3.103609e-13</td>\n",
              "      <td>3.014521e-16</td>\n",
              "      <td>0.0</td>\n",
              "      <td>0.0</td>\n",
              "    </tr>\n",
              "    <tr>\n",
              "      <th>001-002</th>\n",
              "      <td>0.0</td>\n",
              "      <td>0.000175</td>\n",
              "      <td>0.011353</td>\n",
              "      <td>0.021678</td>\n",
              "      <td>0.014906</td>\n",
              "      <td>0.019510</td>\n",
              "      <td>0.030081</td>\n",
              "      <td>66.278232</td>\n",
              "      <td>0.02099</td>\n",
              "      <td>0.034399</td>\n",
              "      <td>0.0</td>\n",
              "      <td>0.014601</td>\n",
              "      <td>27.873554</td>\n",
              "      <td>0.028611</td>\n",
              "      <td>0.024798</td>\n",
              "      <td>0.020281</td>\n",
              "      <td>3.132134</td>\n",
              "      <td>0.632336</td>\n",
              "      <td>1.318029</td>\n",
              "      <td>0.365566</td>\n",
              "      <td>0.044484</td>\n",
              "      <td>1.951592e-08</td>\n",
              "      <td>0.098764</td>\n",
              "      <td>3.398967e-09</td>\n",
              "      <td>0.001142</td>\n",
              "      <td>0.001141</td>\n",
              "      <td>0.00223</td>\n",
              "      <td>0.00057</td>\n",
              "      <td>0.00057</td>\n",
              "      <td>0.00788</td>\n",
              "      <td>3.896085e-09</td>\n",
              "      <td>1.684114e-10</td>\n",
              "      <td>0.001555</td>\n",
              "      <td>0.000415</td>\n",
              "      <td>6.044514e-10</td>\n",
              "      <td>0.0</td>\n",
              "      <td>6.479096e-12</td>\n",
              "      <td>3.103352e-13</td>\n",
              "      <td>3.014266e-16</td>\n",
              "      <td>0.0</td>\n",
              "      <td>0.0</td>\n",
              "    </tr>\n",
              "    <tr>\n",
              "      <th>001-003</th>\n",
              "      <td>0.0</td>\n",
              "      <td>0.000175</td>\n",
              "      <td>0.011354</td>\n",
              "      <td>0.021680</td>\n",
              "      <td>0.014907</td>\n",
              "      <td>0.019510</td>\n",
              "      <td>0.030082</td>\n",
              "      <td>66.278226</td>\n",
              "      <td>0.02099</td>\n",
              "      <td>0.034398</td>\n",
              "      <td>0.0</td>\n",
              "      <td>0.014601</td>\n",
              "      <td>27.873556</td>\n",
              "      <td>0.028611</td>\n",
              "      <td>0.024798</td>\n",
              "      <td>0.020281</td>\n",
              "      <td>3.132134</td>\n",
              "      <td>0.632336</td>\n",
              "      <td>1.318029</td>\n",
              "      <td>0.365566</td>\n",
              "      <td>0.044484</td>\n",
              "      <td>1.951662e-08</td>\n",
              "      <td>0.098764</td>\n",
              "      <td>3.399096e-09</td>\n",
              "      <td>0.001142</td>\n",
              "      <td>0.001141</td>\n",
              "      <td>0.00223</td>\n",
              "      <td>0.00057</td>\n",
              "      <td>0.00057</td>\n",
              "      <td>0.00788</td>\n",
              "      <td>3.896244e-09</td>\n",
              "      <td>1.684181e-10</td>\n",
              "      <td>0.001555</td>\n",
              "      <td>0.000415</td>\n",
              "      <td>6.044761e-10</td>\n",
              "      <td>0.0</td>\n",
              "      <td>6.479374e-12</td>\n",
              "      <td>3.103486e-13</td>\n",
              "      <td>3.014400e-16</td>\n",
              "      <td>0.0</td>\n",
              "      <td>0.0</td>\n",
              "    </tr>\n",
              "  </tbody>\n",
              "</table>\n",
              "</div>"
            ],
            "text/plain": [
              "         Combined Feed to Benzene Column C660_Detailed Composition_Hydrogen_wt%  ...  Combined Feed to Benzene Column C660_Detailed Composition_Oxygen_wt%\n",
              "001-001                                                0.0                       ...                                                0.0                   \n",
              "001-002                                                0.0                       ...                                                0.0                   \n",
              "001-003                                                0.0                       ...                                                0.0                   \n",
              "\n",
              "[3 rows x 41 columns]"
            ]
          },
          "metadata": {
            "tags": []
          },
          "execution_count": 4
        }
      ]
    },
    {
      "cell_type": "code",
      "metadata": {
        "id": "Lq8dLfZWZxk-",
        "colab": {
          "base_uri": "https://localhost:8080/",
          "height": 314
        },
        "outputId": "56c845f1-7f10-45ba-91d0-b85e2d5725d8"
      },
      "source": [
        "c660_feed = c660_df[c660_col['x41']]\n",
        "c660_feed.head(3)"
      ],
      "execution_count": 5,
      "outputs": [
        {
          "output_type": "execute_result",
          "data": {
            "text/html": [
              "<div>\n",
              "<style scoped>\n",
              "    .dataframe tbody tr th:only-of-type {\n",
              "        vertical-align: middle;\n",
              "    }\n",
              "\n",
              "    .dataframe tbody tr th {\n",
              "        vertical-align: top;\n",
              "    }\n",
              "\n",
              "    .dataframe thead th {\n",
              "        text-align: right;\n",
              "    }\n",
              "</style>\n",
              "<table border=\"1\" class=\"dataframe\">\n",
              "  <thead>\n",
              "    <tr style=\"text-align: right;\">\n",
              "      <th></th>\n",
              "      <th>Combined Feed to Benzene Column C660_Detailed Composition_Hydrogen_wt%</th>\n",
              "      <th>Combined Feed to Benzene Column C660_Detailed Composition_Methane_wt%</th>\n",
              "      <th>Combined Feed to Benzene Column C660_Detailed Composition_Ethane_wt%</th>\n",
              "      <th>Combined Feed to Benzene Column C660_Detailed Composition_Propane_wt%</th>\n",
              "      <th>Combined Feed to Benzene Column C660_Detailed Composition_n-Butane_wt%</th>\n",
              "      <th>Combined Feed to Benzene Column C660_Detailed Composition_n-Pentane_wt%</th>\n",
              "      <th>Combined Feed to Benzene Column C660_Detailed Composition_n-Hexane_wt%</th>\n",
              "      <th>Combined Feed to Benzene Column C660_Detailed Composition_Benzene_wt%</th>\n",
              "      <th>Combined Feed to Benzene Column C660_Detailed Composition_Cyclohexane_wt%</th>\n",
              "      <th>Combined Feed to Benzene Column C660_Detailed Composition_n-Heptane_wt%</th>\n",
              "      <th>Combined Feed to Benzene Column C660_Detailed Composition_Water_wt%</th>\n",
              "      <th>Combined Feed to Benzene Column C660_Detailed Composition_Methylcyclohexane_wt%</th>\n",
              "      <th>Combined Feed to Benzene Column C660_Detailed Composition_Toluene_wt%</th>\n",
              "      <th>Combined Feed to Benzene Column C660_Detailed Composition_n-Octane_wt%</th>\n",
              "      <th>Combined Feed to Benzene Column C660_Detailed Composition_n-Propylcyclopentane_wt%</th>\n",
              "      <th>Combined Feed to Benzene Column C660_Detailed Composition_Ethylcyclohexane_wt%</th>\n",
              "      <th>Combined Feed to Benzene Column C660_Detailed Composition_Ethylbenzene_wt%</th>\n",
              "      <th>Combined Feed to Benzene Column C660_Detailed Composition_p-Xylene_wt%</th>\n",
              "      <th>Combined Feed to Benzene Column C660_Detailed Composition_m-Xylene_wt%</th>\n",
              "      <th>Combined Feed to Benzene Column C660_Detailed Composition_o-Xylene_wt%</th>\n",
              "      <th>Combined Feed to Benzene Column C660_Detailed Composition_n-Nonane_wt%</th>\n",
              "      <th>Combined Feed to Benzene Column C660_Detailed Composition_i-Propylbenzene_wt%</th>\n",
              "      <th>Combined Feed to Benzene Column C660_Detailed Composition_n-Propylcyclohexane_wt%</th>\n",
              "      <th>Combined Feed to Benzene Column C660_Detailed Composition_n-Propylbenzene_wt%</th>\n",
              "      <th>Combined Feed to Benzene Column C660_Detailed Composition_1-Methyl-3-ethylbenzene_wt%</th>\n",
              "      <th>Combined Feed to Benzene Column C660_Detailed Composition_1-Methyl-4-ethylbenzene_wt%</th>\n",
              "      <th>Combined Feed to Benzene Column C660_Detailed Composition_1,3,5-Trimethylbenzene_wt%</th>\n",
              "      <th>Combined Feed to Benzene Column C660_Detailed Composition_1-Methyl-2-ethylbenzene_wt%</th>\n",
              "      <th>Combined Feed to Benzene Column C660_Detailed Composition_1,2,4-Trimethylbenzene_wt%</th>\n",
              "      <th>Combined Feed to Benzene Column C660_Detailed Composition_tert-Butylcyclohexane_wt%</th>\n",
              "      <th>Combined Feed to Benzene Column C660_Detailed Composition_1,2,3-Trimethylbenzene_wt%</th>\n",
              "      <th>Combined Feed to Benzene Column C660_Detailed Composition_Indane_wt%</th>\n",
              "      <th>Combined Feed to Benzene Column C660_Detailed Composition_1-Methyl-4-n-propylbenzene_wt%</th>\n",
              "      <th>Combined Feed to Benzene Column C660_Detailed Composition_1,2-Diethylbenzene_wt%</th>\n",
              "      <th>Combined Feed to Benzene Column C660_Detailed Composition_5-Ethyl-m-xylene_wt%</th>\n",
              "      <th>Combined Feed to Benzene Column C660_Detailed Composition_1,4-Diethylbenzene_wt%</th>\n",
              "      <th>Combined Feed to Benzene Column C660_Detailed Composition_1,2,3,5-Tetramethylbenzene_wt%</th>\n",
              "      <th>Combined Feed to Benzene Column C660_Detailed Composition_n-Pentylbenzene_wt%</th>\n",
              "      <th>Combined Feed to Benzene Column C660_Detailed Composition_n-Hexylbenzene_wt%</th>\n",
              "      <th>Combined Feed to Benzene Column C660_Detailed Composition_Nitrogen_wt%</th>\n",
              "      <th>Combined Feed to Benzene Column C660_Detailed Composition_Oxygen_wt%</th>\n",
              "    </tr>\n",
              "  </thead>\n",
              "  <tbody>\n",
              "    <tr>\n",
              "      <th>001-001</th>\n",
              "      <td>0.0</td>\n",
              "      <td>0.000175</td>\n",
              "      <td>0.011354</td>\n",
              "      <td>0.021681</td>\n",
              "      <td>0.014908</td>\n",
              "      <td>0.019511</td>\n",
              "      <td>0.030082</td>\n",
              "      <td>66.278221</td>\n",
              "      <td>0.02099</td>\n",
              "      <td>0.034398</td>\n",
              "      <td>0.0</td>\n",
              "      <td>0.014600</td>\n",
              "      <td>27.873569</td>\n",
              "      <td>0.028611</td>\n",
              "      <td>0.024798</td>\n",
              "      <td>0.020281</td>\n",
              "      <td>3.132133</td>\n",
              "      <td>0.632336</td>\n",
              "      <td>1.318029</td>\n",
              "      <td>0.365566</td>\n",
              "      <td>0.044484</td>\n",
              "      <td>1.951733e-08</td>\n",
              "      <td>0.098763</td>\n",
              "      <td>3.399222e-09</td>\n",
              "      <td>0.001142</td>\n",
              "      <td>0.001141</td>\n",
              "      <td>0.00223</td>\n",
              "      <td>0.00057</td>\n",
              "      <td>0.00057</td>\n",
              "      <td>0.00788</td>\n",
              "      <td>3.896395e-09</td>\n",
              "      <td>1.684246e-10</td>\n",
              "      <td>0.001555</td>\n",
              "      <td>0.000415</td>\n",
              "      <td>6.044996e-10</td>\n",
              "      <td>0.0</td>\n",
              "      <td>6.479631e-12</td>\n",
              "      <td>3.103609e-13</td>\n",
              "      <td>3.014521e-16</td>\n",
              "      <td>0.0</td>\n",
              "      <td>0.0</td>\n",
              "    </tr>\n",
              "    <tr>\n",
              "      <th>001-002</th>\n",
              "      <td>0.0</td>\n",
              "      <td>0.000175</td>\n",
              "      <td>0.011353</td>\n",
              "      <td>0.021678</td>\n",
              "      <td>0.014906</td>\n",
              "      <td>0.019510</td>\n",
              "      <td>0.030081</td>\n",
              "      <td>66.278244</td>\n",
              "      <td>0.02099</td>\n",
              "      <td>0.034399</td>\n",
              "      <td>0.0</td>\n",
              "      <td>0.014601</td>\n",
              "      <td>27.873554</td>\n",
              "      <td>0.028611</td>\n",
              "      <td>0.024798</td>\n",
              "      <td>0.020281</td>\n",
              "      <td>3.132135</td>\n",
              "      <td>0.632336</td>\n",
              "      <td>1.318029</td>\n",
              "      <td>0.365566</td>\n",
              "      <td>0.044484</td>\n",
              "      <td>1.951592e-08</td>\n",
              "      <td>0.098764</td>\n",
              "      <td>3.398968e-09</td>\n",
              "      <td>0.001142</td>\n",
              "      <td>0.001141</td>\n",
              "      <td>0.00223</td>\n",
              "      <td>0.00057</td>\n",
              "      <td>0.00057</td>\n",
              "      <td>0.00788</td>\n",
              "      <td>3.896086e-09</td>\n",
              "      <td>1.684114e-10</td>\n",
              "      <td>0.001555</td>\n",
              "      <td>0.000415</td>\n",
              "      <td>6.044514e-10</td>\n",
              "      <td>0.0</td>\n",
              "      <td>6.479096e-12</td>\n",
              "      <td>3.103352e-13</td>\n",
              "      <td>3.014266e-16</td>\n",
              "      <td>0.0</td>\n",
              "      <td>0.0</td>\n",
              "    </tr>\n",
              "    <tr>\n",
              "      <th>001-003</th>\n",
              "      <td>0.0</td>\n",
              "      <td>0.000175</td>\n",
              "      <td>0.011354</td>\n",
              "      <td>0.021680</td>\n",
              "      <td>0.014907</td>\n",
              "      <td>0.019510</td>\n",
              "      <td>0.030082</td>\n",
              "      <td>66.278236</td>\n",
              "      <td>0.02099</td>\n",
              "      <td>0.034398</td>\n",
              "      <td>0.0</td>\n",
              "      <td>0.014601</td>\n",
              "      <td>27.873554</td>\n",
              "      <td>0.028611</td>\n",
              "      <td>0.024798</td>\n",
              "      <td>0.020281</td>\n",
              "      <td>3.132135</td>\n",
              "      <td>0.632336</td>\n",
              "      <td>1.318029</td>\n",
              "      <td>0.365566</td>\n",
              "      <td>0.044484</td>\n",
              "      <td>1.951662e-08</td>\n",
              "      <td>0.098764</td>\n",
              "      <td>3.399095e-09</td>\n",
              "      <td>0.001142</td>\n",
              "      <td>0.001141</td>\n",
              "      <td>0.00223</td>\n",
              "      <td>0.00057</td>\n",
              "      <td>0.00057</td>\n",
              "      <td>0.00788</td>\n",
              "      <td>3.896244e-09</td>\n",
              "      <td>1.684181e-10</td>\n",
              "      <td>0.001555</td>\n",
              "      <td>0.000415</td>\n",
              "      <td>6.044760e-10</td>\n",
              "      <td>0.0</td>\n",
              "      <td>6.479373e-12</td>\n",
              "      <td>3.103485e-13</td>\n",
              "      <td>3.014400e-16</td>\n",
              "      <td>0.0</td>\n",
              "      <td>0.0</td>\n",
              "    </tr>\n",
              "  </tbody>\n",
              "</table>\n",
              "</div>"
            ],
            "text/plain": [
              "         Combined Feed to Benzene Column C660_Detailed Composition_Hydrogen_wt%  ...  Combined Feed to Benzene Column C660_Detailed Composition_Oxygen_wt%\n",
              "001-001                                                0.0                       ...                                                0.0                   \n",
              "001-002                                                0.0                       ...                                                0.0                   \n",
              "001-003                                                0.0                       ...                                                0.0                   \n",
              "\n",
              "[3 rows x 41 columns]"
            ]
          },
          "metadata": {
            "tags": []
          },
          "execution_count": 5
        }
      ]
    },
    {
      "cell_type": "code",
      "metadata": {
        "id": "bNhzZiuqZz4_",
        "colab": {
          "base_uri": "https://localhost:8080/"
        },
        "outputId": "b3c4ab07-6d61-4639-b239-5aff8afde3ef"
      },
      "source": [
        "np.allclose(c660_feed.values,c660_feed_pred.values)"
      ],
      "execution_count": 6,
      "outputs": [
        {
          "output_type": "execute_result",
          "data": {
            "text/plain": [
              "True"
            ]
          },
          "metadata": {
            "tags": []
          },
          "execution_count": 6
        }
      ]
    },
    {
      "cell_type": "code",
      "metadata": {
        "id": "i1VLBELZZ2OB"
      },
      "source": [
        "# replace\n",
        "c = c660_col\n",
        "c660_df.loc[:,c['x41']] = c660_feed_pred.values"
      ],
      "execution_count": 7,
      "outputs": []
    },
    {
      "cell_type": "code",
      "metadata": {
        "id": "wX76mjFFnPMW"
      },
      "source": [
        "x_col = c['case']+c['x41']\n",
        "op_col = c['density']+c['yRefluxRate']+c['yHeatDuty']+c['yControl']\n",
        "sp_col = c['vent_gas_sf'] +c['distillate_sf'] +c['sidedraw_sf'] +c['bottoms_sf']\n",
        "wt_col = c['vent_gas_x'] +c['distillate_x'] +c['sidedraw_x'] +c['bottoms_x']\n",
        "y_col = sp_col + op_col\n",
        "n_idx = [ [i,i+41,i+41*2,i+41*3]for i in range(41)]\n",
        "for idx in n_idx:\n",
        "  assert np.allclose(c660_df[y_col].iloc[:,idx].sum(axis=1).mean(),1.0)"
      ],
      "execution_count": 8,
      "outputs": []
    },
    {
      "cell_type": "code",
      "metadata": {
        "id": "TAbEiBNYmcY7"
      },
      "source": [
        "c660_df.loc[['001-002', '001-005', '001-008', '001-011', '001-014'],\n",
        "            x_col+y_col].to_excel('/content/drive/MyDrive/台塑輕油案子/data/c620/Data_format_example/c660_data.xlsx')"
      ],
      "execution_count": 9,
      "outputs": []
    },
    {
      "cell_type": "code",
      "metadata": {
        "colab": {
          "base_uri": "https://localhost:8080/",
          "height": 1000
        },
        "id": "3z_h7BbOpxJ-",
        "outputId": "d66323a3-9db6-4c07-fb65-36d00e525fb4"
      },
      "source": [
        "from autorch.utils import PartBulider\n",
        "from torch import nn\n",
        "from torch.optim import Adam\n",
        "\n",
        "\n",
        "table = pd.DataFrame(index=[2,3,4],columns=[64,128,256])\n",
        "for m in [2,3,4]:\n",
        "  for n in [64,128,256]:\n",
        "    c660 = PartBulider(c660_df,x_col,y_col,normalize_idx_list=n_idx,limit_y_range=True,device='cuda:0',max_epochs=150)\n",
        "    modules = []\n",
        "    modules.append(nn.Sequential(nn.Linear(len(x_col),n),nn.ReLU()))\n",
        "    for i in range(m-1):\n",
        "      modules.append(nn.Sequential(nn.Linear(n,n),nn.ReLU()))\n",
        "    modules.append(nn.Sequential(nn.Linear(n,len(y_col),nn.Sigmoid())))\n",
        "    c660.net = nn.Sequential(*modules).cuda()\n",
        "    c660.optimizer = Adam(c660.net.parameters())\n",
        "    c660.train()\n",
        "    table.loc[m,n] = c660.test(e=0.02).loc['AVG','MSE']\n",
        "    print(table)"
      ],
      "execution_count": 15,
      "outputs": [
        {
          "output_type": "stream",
          "text": [
            "  1%|          | 1/150 [00:00<02:03,  1.21it/s]"
          ],
          "name": "stderr"
        },
        {
          "output_type": "stream",
          "text": [
            "epoch:0 train_loss:0.0126 valid_loss:0.0037\n"
          ],
          "name": "stdout"
        },
        {
          "output_type": "stream",
          "text": [
            " 34%|███▍      | 51/150 [00:42<01:23,  1.19it/s]"
          ],
          "name": "stderr"
        },
        {
          "output_type": "stream",
          "text": [
            "epoch:50 train_loss:0.0010 valid_loss:0.0010\n"
          ],
          "name": "stdout"
        },
        {
          "output_type": "stream",
          "text": [
            " 67%|██████▋   | 101/150 [01:24<00:41,  1.19it/s]"
          ],
          "name": "stderr"
        },
        {
          "output_type": "stream",
          "text": [
            "epoch:100 train_loss:0.0009 valid_loss:0.0010\n"
          ],
          "name": "stdout"
        },
        {
          "output_type": "stream",
          "text": [
            "100%|██████████| 150/150 [02:04<00:00,  1.20it/s]\n"
          ],
          "name": "stderr"
        },
        {
          "output_type": "display_data",
          "data": {
            "image/png": "[encoded data removed]",
            "text/plain": [
              "<Figure size 432x288 with 1 Axes>"
            ]
          },
          "metadata": {
            "tags": [],
            "needs_background": "light"
          }
        },
        {
          "output_type": "stream",
          "text": [
            "\r  0%|          | 0/150 [00:00<?, ?it/s]"
          ],
          "name": "stderr"
        },
        {
          "output_type": "stream",
          "text": [
            "         64   128  256\n",
            "2  0.0203971  NaN  NaN\n",
            "3        NaN  NaN  NaN\n",
            "4        NaN  NaN  NaN\n"
          ],
          "name": "stdout"
        },
        {
          "output_type": "stream",
          "text": [
            "\r  1%|          | 1/150 [00:00<02:07,  1.17it/s]"
          ],
          "name": "stderr"
        },
        {
          "output_type": "stream",
          "text": [
            "epoch:0 train_loss:0.0083 valid_loss:0.0024\n"
          ],
          "name": "stdout"
        },
        {
          "output_type": "stream",
          "text": [
            " 34%|███▍      | 51/150 [00:42<01:23,  1.19it/s]"
          ],
          "name": "stderr"
        },
        {
          "output_type": "stream",
          "text": [
            "epoch:50 train_loss:0.0009 valid_loss:0.0009\n"
          ],
          "name": "stdout"
        },
        {
          "output_type": "stream",
          "text": [
            " 67%|██████▋   | 101/150 [01:24<00:41,  1.19it/s]"
          ],
          "name": "stderr"
        },
        {
          "output_type": "stream",
          "text": [
            "epoch:100 train_loss:0.0009 valid_loss:0.0009\n"
          ],
          "name": "stdout"
        },
        {
          "output_type": "stream",
          "text": [
            "100%|██████████| 150/150 [02:05<00:00,  1.19it/s]\n"
          ],
          "name": "stderr"
        },
        {
          "output_type": "display_data",
          "data": {
            "image/png": "[encoded data removed]",
            "text/plain": [
              "<Figure size 432x288 with 1 Axes>"
            ]
          },
          "metadata": {
            "tags": [],
            "needs_background": "light"
          }
        },
        {
          "output_type": "stream",
          "text": [
            "\r  0%|          | 0/150 [00:00<?, ?it/s]"
          ],
          "name": "stderr"
        },
        {
          "output_type": "stream",
          "text": [
            "         64         128  256\n",
            "2  0.0203971  0.0152651  NaN\n",
            "3        NaN        NaN  NaN\n",
            "4        NaN        NaN  NaN\n"
          ],
          "name": "stdout"
        },
        {
          "output_type": "stream",
          "text": [
            "\r  1%|          | 1/150 [00:00<02:06,  1.18it/s]"
          ],
          "name": "stderr"
        },
        {
          "output_type": "stream",
          "text": [
            "epoch:0 train_loss:0.0062 valid_loss:0.0019\n"
          ],
          "name": "stdout"
        },
        {
          "output_type": "stream",
          "text": [
            " 34%|███▍      | 51/150 [00:42<01:21,  1.21it/s]"
          ],
          "name": "stderr"
        },
        {
          "output_type": "stream",
          "text": [
            "epoch:50 train_loss:0.0009 valid_loss:0.0009\n"
          ],
          "name": "stdout"
        },
        {
          "output_type": "stream",
          "text": [
            " 67%|██████▋   | 101/150 [01:24<00:41,  1.19it/s]"
          ],
          "name": "stderr"
        },
        {
          "output_type": "stream",
          "text": [
            "epoch:100 train_loss:0.0008 valid_loss:0.0009\n"
          ],
          "name": "stdout"
        },
        {
          "output_type": "stream",
          "text": [
            "100%|██████████| 150/150 [02:05<00:00,  1.19it/s]\n"
          ],
          "name": "stderr"
        },
        {
          "output_type": "display_data",
          "data": {
            "image/png": "[encoded data removed]",
            "text/plain": [
              "<Figure size 432x288 with 1 Axes>"
            ]
          },
          "metadata": {
            "tags": [],
            "needs_background": "light"
          }
        },
        {
          "output_type": "stream",
          "text": [
            "\r  0%|          | 0/150 [00:00<?, ?it/s]"
          ],
          "name": "stderr"
        },
        {
          "output_type": "stream",
          "text": [
            "         64         128        256\n",
            "2  0.0203971  0.0152651  0.0125665\n",
            "3        NaN        NaN        NaN\n",
            "4        NaN        NaN        NaN\n"
          ],
          "name": "stdout"
        },
        {
          "output_type": "stream",
          "text": [
            "\r  1%|          | 1/150 [00:00<02:25,  1.03it/s]"
          ],
          "name": "stderr"
        },
        {
          "output_type": "stream",
          "text": [
            "epoch:0 train_loss:0.0136 valid_loss:0.0035\n"
          ],
          "name": "stdout"
        },
        {
          "output_type": "stream",
          "text": [
            " 34%|███▍      | 51/150 [00:48<01:34,  1.05it/s]"
          ],
          "name": "stderr"
        },
        {
          "output_type": "stream",
          "text": [
            "epoch:50 train_loss:0.0010 valid_loss:0.0010\n"
          ],
          "name": "stdout"
        },
        {
          "output_type": "stream",
          "text": [
            " 67%|██████▋   | 101/150 [01:36<00:46,  1.05it/s]"
          ],
          "name": "stderr"
        },
        {
          "output_type": "stream",
          "text": [
            "epoch:100 train_loss:0.0009 valid_loss:0.0010\n"
          ],
          "name": "stdout"
        },
        {
          "output_type": "stream",
          "text": [
            "100%|██████████| 150/150 [02:23<00:00,  1.05it/s]\n"
          ],
          "name": "stderr"
        },
        {
          "output_type": "display_data",
          "data": {
            "image/png": "[encoded data removed]",
            "text/plain": [
              "<Figure size 432x288 with 1 Axes>"
            ]
          },
          "metadata": {
            "tags": [],
            "needs_background": "light"
          }
        },
        {
          "output_type": "stream",
          "text": [
            "\r  0%|          | 0/150 [00:00<?, ?it/s]"
          ],
          "name": "stderr"
        },
        {
          "output_type": "stream",
          "text": [
            "         64         128        256\n",
            "2  0.0203971  0.0152651  0.0125665\n",
            "3  0.0182294        NaN        NaN\n",
            "4        NaN        NaN        NaN\n"
          ],
          "name": "stdout"
        },
        {
          "output_type": "stream",
          "text": [
            "\r  1%|          | 1/150 [00:00<02:23,  1.04it/s]"
          ],
          "name": "stderr"
        },
        {
          "output_type": "stream",
          "text": [
            "epoch:0 train_loss:0.0094 valid_loss:0.0024\n"
          ],
          "name": "stdout"
        },
        {
          "output_type": "stream",
          "text": [
            " 34%|███▍      | 51/150 [00:48<01:34,  1.04it/s]"
          ],
          "name": "stderr"
        },
        {
          "output_type": "stream",
          "text": [
            "epoch:50 train_loss:0.0009 valid_loss:0.0009\n"
          ],
          "name": "stdout"
        },
        {
          "output_type": "stream",
          "text": [
            " 67%|██████▋   | 101/150 [01:36<00:47,  1.03it/s]"
          ],
          "name": "stderr"
        },
        {
          "output_type": "stream",
          "text": [
            "epoch:100 train_loss:0.0009 valid_loss:0.0009\n"
          ],
          "name": "stdout"
        },
        {
          "output_type": "stream",
          "text": [
            "100%|██████████| 150/150 [02:23<00:00,  1.04it/s]\n"
          ],
          "name": "stderr"
        },
        {
          "output_type": "display_data",
          "data": {
            "image/png": "[encoded data removed]",
            "text/plain": [
              "<Figure size 432x288 with 1 Axes>"
            ]
          },
          "metadata": {
            "tags": [],
            "needs_background": "light"
          }
        },
        {
          "output_type": "stream",
          "text": [
            "\r  0%|          | 0/150 [00:00<?, ?it/s]"
          ],
          "name": "stderr"
        },
        {
          "output_type": "stream",
          "text": [
            "         64         128        256\n",
            "2  0.0203971  0.0152651  0.0125665\n",
            "3  0.0182294  0.0217217        NaN\n",
            "4        NaN        NaN        NaN\n"
          ],
          "name": "stdout"
        },
        {
          "output_type": "stream",
          "text": [
            "\r  1%|          | 1/150 [00:00<02:23,  1.04it/s]"
          ],
          "name": "stderr"
        },
        {
          "output_type": "stream",
          "text": [
            "epoch:0 train_loss:0.0068 valid_loss:0.0023\n"
          ],
          "name": "stdout"
        },
        {
          "output_type": "stream",
          "text": [
            " 34%|███▍      | 51/150 [00:48<01:34,  1.04it/s]"
          ],
          "name": "stderr"
        },
        {
          "output_type": "stream",
          "text": [
            "epoch:50 train_loss:0.0009 valid_loss:0.0011\n"
          ],
          "name": "stdout"
        },
        {
          "output_type": "stream",
          "text": [
            " 67%|██████▋   | 101/150 [01:36<00:47,  1.04it/s]"
          ],
          "name": "stderr"
        },
        {
          "output_type": "stream",
          "text": [
            "epoch:100 train_loss:0.0008 valid_loss:0.0010\n"
          ],
          "name": "stdout"
        },
        {
          "output_type": "stream",
          "text": [
            "100%|██████████| 150/150 [02:24<00:00,  1.04it/s]\n"
          ],
          "name": "stderr"
        },
        {
          "output_type": "display_data",
          "data": {
            "image/png": "[encoded data removed]",
            "text/plain": [
              "<Figure size 432x288 with 1 Axes>"
            ]
          },
          "metadata": {
            "tags": [],
            "needs_background": "light"
          }
        },
        {
          "output_type": "stream",
          "text": [
            "\r  0%|          | 0/150 [00:00<?, ?it/s]"
          ],
          "name": "stderr"
        },
        {
          "output_type": "stream",
          "text": [
            "         64         128        256\n",
            "2  0.0203971  0.0152651  0.0125665\n",
            "3  0.0182294  0.0217217  0.0203903\n",
            "4        NaN        NaN        NaN\n"
          ],
          "name": "stdout"
        },
        {
          "output_type": "stream",
          "text": [
            "\r  1%|          | 1/150 [00:01<02:42,  1.09s/it]"
          ],
          "name": "stderr"
        },
        {
          "output_type": "stream",
          "text": [
            "epoch:0 train_loss:0.0147 valid_loss:0.0048\n"
          ],
          "name": "stdout"
        },
        {
          "output_type": "stream",
          "text": [
            " 34%|███▍      | 51/150 [00:54<01:47,  1.08s/it]"
          ],
          "name": "stderr"
        },
        {
          "output_type": "stream",
          "text": [
            "epoch:50 train_loss:0.0010 valid_loss:0.0009\n"
          ],
          "name": "stdout"
        },
        {
          "output_type": "stream",
          "text": [
            " 67%|██████▋   | 101/150 [01:48<00:52,  1.07s/it]"
          ],
          "name": "stderr"
        },
        {
          "output_type": "stream",
          "text": [
            "epoch:100 train_loss:0.0009 valid_loss:0.0009\n"
          ],
          "name": "stdout"
        },
        {
          "output_type": "stream",
          "text": [
            "100%|██████████| 150/150 [02:41<00:00,  1.08s/it]\n"
          ],
          "name": "stderr"
        },
        {
          "output_type": "display_data",
          "data": {
            "image/png": "[encoded data removed]",
            "text/plain": [
              "<Figure size 432x288 with 1 Axes>"
            ]
          },
          "metadata": {
            "tags": [],
            "needs_background": "light"
          }
        },
        {
          "output_type": "stream",
          "text": [
            "\r  0%|          | 0/150 [00:00<?, ?it/s]"
          ],
          "name": "stderr"
        },
        {
          "output_type": "stream",
          "text": [
            "         64         128        256\n",
            "2  0.0203971  0.0152651  0.0125665\n",
            "3  0.0182294  0.0217217  0.0203903\n",
            "4  0.0175825        NaN        NaN\n"
          ],
          "name": "stdout"
        },
        {
          "output_type": "stream",
          "text": [
            "\r  1%|          | 1/150 [00:01<02:40,  1.08s/it]"
          ],
          "name": "stderr"
        },
        {
          "output_type": "stream",
          "text": [
            "epoch:0 train_loss:0.0102 valid_loss:0.0024\n"
          ],
          "name": "stdout"
        },
        {
          "output_type": "stream",
          "text": [
            " 34%|███▍      | 51/150 [00:55<01:47,  1.08s/it]"
          ],
          "name": "stderr"
        },
        {
          "output_type": "stream",
          "text": [
            "epoch:50 train_loss:0.0009 valid_loss:0.0008\n"
          ],
          "name": "stdout"
        },
        {
          "output_type": "stream",
          "text": [
            " 67%|██████▋   | 101/150 [01:48<00:52,  1.08s/it]"
          ],
          "name": "stderr"
        },
        {
          "output_type": "stream",
          "text": [
            "epoch:100 train_loss:0.0009 valid_loss:0.0008\n"
          ],
          "name": "stdout"
        },
        {
          "output_type": "stream",
          "text": [
            "100%|██████████| 150/150 [02:41<00:00,  1.08s/it]\n"
          ],
          "name": "stderr"
        },
        {
          "output_type": "display_data",
          "data": {
            "image/png": "[encoded data removed]",
            "text/plain": [
              "<Figure size 432x288 with 1 Axes>"
            ]
          },
          "metadata": {
            "tags": [],
            "needs_background": "light"
          }
        },
        {
          "output_type": "stream",
          "text": [
            "\r  0%|          | 0/150 [00:00<?, ?it/s]"
          ],
          "name": "stderr"
        },
        {
          "output_type": "stream",
          "text": [
            "         64         128        256\n",
            "2  0.0203971  0.0152651  0.0125665\n",
            "3  0.0182294  0.0217217  0.0203903\n",
            "4  0.0175825  0.0256967        NaN\n"
          ],
          "name": "stdout"
        },
        {
          "output_type": "stream",
          "text": [
            "\r  1%|          | 1/150 [00:01<02:47,  1.12s/it]"
          ],
          "name": "stderr"
        },
        {
          "output_type": "stream",
          "text": [
            "epoch:0 train_loss:0.0073 valid_loss:0.0021\n"
          ],
          "name": "stdout"
        },
        {
          "output_type": "stream",
          "text": [
            " 34%|███▍      | 51/150 [00:54<01:46,  1.08s/it]"
          ],
          "name": "stderr"
        },
        {
          "output_type": "stream",
          "text": [
            "epoch:50 train_loss:0.0009 valid_loss:0.0009\n"
          ],
          "name": "stdout"
        },
        {
          "output_type": "stream",
          "text": [
            " 67%|██████▋   | 101/150 [01:48<00:52,  1.07s/it]"
          ],
          "name": "stderr"
        },
        {
          "output_type": "stream",
          "text": [
            "epoch:100 train_loss:0.0008 valid_loss:0.0009\n"
          ],
          "name": "stdout"
        },
        {
          "output_type": "stream",
          "text": [
            "100%|██████████| 150/150 [02:40<00:00,  1.07s/it]\n"
          ],
          "name": "stderr"
        },
        {
          "output_type": "display_data",
          "data": {
            "image/png": "[encoded data removed]",
            "text/plain": [
              "<Figure size 432x288 with 1 Axes>"
            ]
          },
          "metadata": {
            "tags": [],
            "needs_background": "light"
          }
        },
        {
          "output_type": "stream",
          "text": [
            "         64         128        256\n",
            "2  0.0203971  0.0152651  0.0125665\n",
            "3  0.0182294  0.0217217  0.0203903\n",
            "4  0.0175825  0.0256967   0.023323\n"
          ],
          "name": "stdout"
        }
      ]
    },
    {
      "cell_type": "code",
      "metadata": {
        "id": "5G70bnD_cfDz",
        "colab": {
          "base_uri": "https://localhost:8080/",
          "height": 138
        },
        "outputId": "c63a0ac9-e78e-421d-d662-834499bc2315"
      },
      "source": [
        "table"
      ],
      "execution_count": 16,
      "outputs": [
        {
          "output_type": "execute_result",
          "data": {
            "text/html": [
              "<div>\n",
              "<style scoped>\n",
              "    .dataframe tbody tr th:only-of-type {\n",
              "        vertical-align: middle;\n",
              "    }\n",
              "\n",
              "    .dataframe tbody tr th {\n",
              "        vertical-align: top;\n",
              "    }\n",
              "\n",
              "    .dataframe thead th {\n",
              "        text-align: right;\n",
              "    }\n",
              "</style>\n",
              "<table border=\"1\" class=\"dataframe\">\n",
              "  <thead>\n",
              "    <tr style=\"text-align: right;\">\n",
              "      <th></th>\n",
              "      <th>64</th>\n",
              "      <th>128</th>\n",
              "      <th>256</th>\n",
              "    </tr>\n",
              "  </thead>\n",
              "  <tbody>\n",
              "    <tr>\n",
              "      <th>2</th>\n",
              "      <td>0.0203971</td>\n",
              "      <td>0.0152651</td>\n",
              "      <td>0.0125665</td>\n",
              "    </tr>\n",
              "    <tr>\n",
              "      <th>3</th>\n",
              "      <td>0.0182294</td>\n",
              "      <td>0.0217217</td>\n",
              "      <td>0.0203903</td>\n",
              "    </tr>\n",
              "    <tr>\n",
              "      <th>4</th>\n",
              "      <td>0.0175825</td>\n",
              "      <td>0.0256967</td>\n",
              "      <td>0.023323</td>\n",
              "    </tr>\n",
              "  </tbody>\n",
              "</table>\n",
              "</div>"
            ],
            "text/plain": [
              "         64         128        256\n",
              "2  0.0203971  0.0152651  0.0125665\n",
              "3  0.0182294  0.0217217  0.0203903\n",
              "4  0.0175825  0.0256967   0.023323"
            ]
          },
          "metadata": {
            "tags": []
          },
          "execution_count": 16
        }
      ]
    },
    {
      "cell_type": "code",
      "metadata": {
        "id": "tcEdO57Sb3Z4",
        "colab": {
          "base_uri": "https://localhost:8080/",
          "height": 360
        },
        "outputId": "743b7af9-6438-4c3d-dc5b-a0eb27ef0cbf"
      },
      "source": [
        "from autorch.function import sp2wt\n",
        "\n",
        "x_test = c660.data['X_test']\n",
        "x41 = x_test[c['x41']].values\n",
        "sp = c660.predict(x_test).iloc[:,:41*4]\n",
        "s1,s2,s3,s4 = sp.iloc[:,:41].values,sp.iloc[:,41:41*2].values,sp.iloc[:,41*2:41*3].values,sp.iloc[:,41*3:41*4].values\n",
        "w1,w2,w3,w4 = sp2wt(x41,s1),sp2wt(x41,s2),sp2wt(x41,s3),sp2wt(x41,s4)\n",
        "wt_pred = np.hstack((w1,w2,w3,w4))\n",
        "wt_pred = pd.DataFrame(wt_pred,index=x_test.index,columns=wt_col)\n",
        "wt_pred.head(3)"
      ],
      "execution_count": null,
      "outputs": [
        {
          "output_type": "execute_result",
          "data": {
            "text/html": [
              "<div>\n",
              "<style scoped>\n",
              "    .dataframe tbody tr th:only-of-type {\n",
              "        vertical-align: middle;\n",
              "    }\n",
              "\n",
              "    .dataframe tbody tr th {\n",
              "        vertical-align: top;\n",
              "    }\n",
              "\n",
              "    .dataframe thead th {\n",
              "        text-align: right;\n",
              "    }\n",
              "</style>\n",
              "<table border=\"1\" class=\"dataframe\">\n",
              "  <thead>\n",
              "    <tr style=\"text-align: right;\">\n",
              "      <th></th>\n",
              "      <th>Benzene Column C660 Operation_Vent Gas Production Rate and Composition_Hydrogen_wt%</th>\n",
              "      <th>Benzene Column C660 Operation_Vent Gas Production Rate and Composition_Methane_wt%</th>\n",
              "      <th>Benzene Column C660 Operation_Vent Gas Production Rate and Composition_Ethane_wt%</th>\n",
              "      <th>Benzene Column C660 Operation_Vent Gas Production Rate and Composition_Propane_wt%</th>\n",
              "      <th>Benzene Column C660 Operation_Vent Gas Production Rate and Composition_n-Butane_wt%</th>\n",
              "      <th>Benzene Column C660 Operation_Vent Gas Production Rate and Composition_n-Pentane_wt%</th>\n",
              "      <th>Benzene Column C660 Operation_Vent Gas Production Rate and Composition_n-Hexane_wt%</th>\n",
              "      <th>Benzene Column C660 Operation_Vent Gas Production Rate and Composition_Benzene_wt%</th>\n",
              "      <th>Benzene Column C660 Operation_Vent Gas Production Rate and Composition_Cyclohexane_wt%</th>\n",
              "      <th>Benzene Column C660 Operation_Vent Gas Production Rate and Composition_n-Heptane_wt%</th>\n",
              "      <th>Benzene Column C660 Operation_Vent Gas Production Rate and Composition_Water_wt%</th>\n",
              "      <th>Benzene Column C660 Operation_Vent Gas Production Rate and Composition_Methylcyclohexane_wt%</th>\n",
              "      <th>Benzene Column C660 Operation_Vent Gas Production Rate and Composition_Toluene_wt%</th>\n",
              "      <th>Benzene Column C660 Operation_Vent Gas Production Rate and Composition_n-Octane_wt%</th>\n",
              "      <th>Benzene Column C660 Operation_Vent Gas Production Rate and Composition_n-Propylcyclopentane_wt%</th>\n",
              "      <th>Benzene Column C660 Operation_Vent Gas Production Rate and Composition_Ethylcyclohexane_wt%</th>\n",
              "      <th>Benzene Column C660 Operation_Vent Gas Production Rate and Composition_Ethylbenzene_wt%</th>\n",
              "      <th>Benzene Column C660 Operation_Vent Gas Production Rate and Composition_p-Xylene_wt%</th>\n",
              "      <th>Benzene Column C660 Operation_Vent Gas Production Rate and Composition_m-Xylene_wt%</th>\n",
              "      <th>Benzene Column C660 Operation_Vent Gas Production Rate and Composition_o-Xylene_wt%</th>\n",
              "      <th>Benzene Column C660 Operation_Vent Gas Production Rate and Composition_n-Nonane_wt%</th>\n",
              "      <th>Benzene Column C660 Operation_Vent Gas Production Rate and Composition_i-Propylbenzene_wt%</th>\n",
              "      <th>Benzene Column C660 Operation_Vent Gas Production Rate and Composition_n-Propylcyclohexane_wt%</th>\n",
              "      <th>Benzene Column C660 Operation_Vent Gas Production Rate and Composition_n-Propylbenzene_wt%</th>\n",
              "      <th>Benzene Column C660 Operation_Vent Gas Production Rate and Composition_1-Methyl-3-ethylbenzene_wt%</th>\n",
              "      <th>Benzene Column C660 Operation_Vent Gas Production Rate and Composition_1-Methyl-4-ethylbenzene_wt%</th>\n",
              "      <th>Benzene Column C660 Operation_Vent Gas Production Rate and Composition_1,3,5-Trimethylbenzene_wt%</th>\n",
              "      <th>Benzene Column C660 Operation_Vent Gas Production Rate and Composition_1-Methyl-2-ethylbenzene_wt%</th>\n",
              "      <th>Benzene Column C660 Operation_Vent Gas Production Rate and Composition_1,2,4-Trimethylbenzene_wt%</th>\n",
              "      <th>Benzene Column C660 Operation_Vent Gas Production Rate and Composition_tert-Butylcyclohexane_wt%</th>\n",
              "      <th>Benzene Column C660 Operation_Vent Gas Production Rate and Composition_1,2,3-Trimethylbenzene_wt%</th>\n",
              "      <th>Benzene Column C660 Operation_Vent Gas Production Rate and Composition_Indane_wt%</th>\n",
              "      <th>Benzene Column C660 Operation_Vent Gas Production Rate and Composition_1-Methyl-4-n-propylbenzene_wt%</th>\n",
              "      <th>Benzene Column C660 Operation_Vent Gas Production Rate and Composition_1,2-Diethylbenzene_wt%</th>\n",
              "      <th>Benzene Column C660 Operation_Vent Gas Production Rate and Composition_5-Ethyl-m-xylene_wt%</th>\n",
              "      <th>Benzene Column C660 Operation_Vent Gas Production Rate and Composition_1,4-Diethylbenzene_wt%</th>\n",
              "      <th>Benzene Column C660 Operation_Vent Gas Production Rate and Composition_1,2,3,5-Tetramethylbenzene_wt%</th>\n",
              "      <th>Benzene Column C660 Operation_Vent Gas Production Rate and Composition_n-Pentylbenzene_wt%</th>\n",
              "      <th>Benzene Column C660 Operation_Vent Gas Production Rate and Composition_n-Hexylbenzene_wt%</th>\n",
              "      <th>Benzene Column C660 Operation_Vent Gas Production Rate and Composition_Nitrogen_wt%</th>\n",
              "      <th>...</th>\n",
              "      <th>Benzene Column C660 Operation_Bottoms Production Rate and Composition_Methane_wt%</th>\n",
              "      <th>Benzene Column C660 Operation_Bottoms Production Rate and Composition_Ethane_wt%</th>\n",
              "      <th>Benzene Column C660 Operation_Bottoms Production Rate and Composition_Propane_wt%</th>\n",
              "      <th>Benzene Column C660 Operation_Bottoms Production Rate and Composition_n-Butane_wt%</th>\n",
              "      <th>Benzene Column C660 Operation_Bottoms Production Rate and Composition_n-Pentane_wt%</th>\n",
              "      <th>Benzene Column C660 Operation_Bottoms Production Rate and Composition_n-Hexane_wt%</th>\n",
              "      <th>Benzene Column C660 Operation_Bottoms Production Rate and Composition_Benzene_wt%</th>\n",
              "      <th>Benzene Column C660 Operation_Bottoms Production Rate and Composition_Cyclohexane_wt%</th>\n",
              "      <th>Benzene Column C660 Operation_Bottoms Production Rate and Composition_n-Heptane_wt%</th>\n",
              "      <th>Benzene Column C660 Operation_Bottoms Production Rate and Composition_Water_wt%</th>\n",
              "      <th>Benzene Column C660 Operation_Bottoms Production Rate and Composition_Methylcyclohexane_wt%</th>\n",
              "      <th>Benzene Column C660 Operation_Bottoms Production Rate and Composition_Toluene_wt%</th>\n",
              "      <th>Benzene Column C660 Operation_Bottoms Production Rate and Composition_n-Octane_wt%</th>\n",
              "      <th>Benzene Column C660 Operation_Bottoms Production Rate and Composition_n-Propylcyclopentane_wt%</th>\n",
              "      <th>Benzene Column C660 Operation_Bottoms Production Rate and Composition_Ethylcyclohexane_wt%</th>\n",
              "      <th>Benzene Column C660 Operation_Bottoms Production Rate and Composition_Ethylbenzene_wt%</th>\n",
              "      <th>Benzene Column C660 Operation_Bottoms Production Rate and Composition_p-Xylene_wt%</th>\n",
              "      <th>Benzene Column C660 Operation_Bottoms Production Rate and Composition_m-Xylene_wt%</th>\n",
              "      <th>Benzene Column C660 Operation_Bottoms Production Rate and Composition_o-Xylene_wt%</th>\n",
              "      <th>Benzene Column C660 Operation_Bottoms Production Rate and Composition_n-Nonane_wt%</th>\n",
              "      <th>Benzene Column C660 Operation_Bottoms Production Rate and Composition_i-Propylbenzene_wt%</th>\n",
              "      <th>Benzene Column C660 Operation_Bottoms Production Rate and Composition_n-Propylcyclohexane_wt%</th>\n",
              "      <th>Benzene Column C660 Operation_Bottoms Production Rate and Composition_n-Propylbenzene_wt%</th>\n",
              "      <th>Benzene Column C660 Operation_Bottoms Production Rate and Composition_1-Methyl-3-ethylbenzene_wt%</th>\n",
              "      <th>Benzene Column C660 Operation_Bottoms Production Rate and Composition_1-Methyl-4-ethylbenzene_wt%</th>\n",
              "      <th>Benzene Column C660 Operation_Bottoms Production Rate and Composition_1,3,5-Trimethylbenzene_wt%</th>\n",
              "      <th>Benzene Column C660 Operation_Bottoms Production Rate and Composition_1-Methyl-2-ethylbenzene_wt%</th>\n",
              "      <th>Benzene Column C660 Operation_Bottoms Production Rate and Composition_1,2,4-Trimethylbenzene_wt%</th>\n",
              "      <th>Benzene Column C660 Operation_Bottoms Production Rate and Composition_tert-Butylcyclohexane_wt%</th>\n",
              "      <th>Benzene Column C660 Operation_Bottoms Production Rate and Composition_1,2,3-Trimethylbenzene_wt%</th>\n",
              "      <th>Benzene Column C660 Operation_Bottoms Production Rate and Composition_Indane_wt%</th>\n",
              "      <th>Benzene Column C660 Operation_Bottoms Production Rate and Composition_1-Methyl-4-n-propylbenzene_wt%</th>\n",
              "      <th>Benzene Column C660 Operation_Bottoms Production Rate and Composition_1,2-Diethylbenzene_wt%</th>\n",
              "      <th>Benzene Column C660 Operation_Bottoms Production Rate and Composition_5-Ethyl-m-xylene_wt%</th>\n",
              "      <th>Benzene Column C660 Operation_Bottoms Production Rate and Composition_1,4-Diethylbenzene_wt%</th>\n",
              "      <th>Benzene Column C660 Operation_Bottoms Production Rate and Composition_1,2,3,5-Tetramethylbenzene_wt%</th>\n",
              "      <th>Benzene Column C660 Operation_Bottoms Production Rate and Composition_n-Pentylbenzene_wt%</th>\n",
              "      <th>Benzene Column C660 Operation_Bottoms Production Rate and Composition_n-Hexylbenzene_wt%</th>\n",
              "      <th>Benzene Column C660 Operation_Bottoms Production Rate and Composition_Nitrogen_wt%</th>\n",
              "      <th>Benzene Column C660 Operation_Bottoms Production Rate and Composition_Oxygen_wt%</th>\n",
              "    </tr>\n",
              "  </thead>\n",
              "  <tbody>\n",
              "    <tr>\n",
              "      <th>104-002</th>\n",
              "      <td>0.0</td>\n",
              "      <td>0.796713</td>\n",
              "      <td>27.181185</td>\n",
              "      <td>22.150055</td>\n",
              "      <td>5.030173</td>\n",
              "      <td>3.520993</td>\n",
              "      <td>1.318845</td>\n",
              "      <td>39.876411</td>\n",
              "      <td>0.090353</td>\n",
              "      <td>0.014247</td>\n",
              "      <td>0.0</td>\n",
              "      <td>0.000033</td>\n",
              "      <td>1.070297e-06</td>\n",
              "      <td>1.393384e-08</td>\n",
              "      <td>4.974433e-14</td>\n",
              "      <td>1.527505e-14</td>\n",
              "      <td>6.680580e-17</td>\n",
              "      <td>3.002547e-18</td>\n",
              "      <td>1.583662e-18</td>\n",
              "      <td>2.197886e-21</td>\n",
              "      <td>3.585751e-19</td>\n",
              "      <td>1.770449e-32</td>\n",
              "      <td>1.153780e-21</td>\n",
              "      <td>8.595514e-09</td>\n",
              "      <td>8.426661e-27</td>\n",
              "      <td>3.871049e-27</td>\n",
              "      <td>0.00383</td>\n",
              "      <td>1.739770e-27</td>\n",
              "      <td>0.001135</td>\n",
              "      <td>6.006216e-27</td>\n",
              "      <td>3.827929e-09</td>\n",
              "      <td>2.450541e-10</td>\n",
              "      <td>0.012451</td>\n",
              "      <td>0.003582</td>\n",
              "      <td>6.327165e-10</td>\n",
              "      <td>0.0</td>\n",
              "      <td>5.796054e-12</td>\n",
              "      <td>4.320928e-13</td>\n",
              "      <td>2.760188e-16</td>\n",
              "      <td>0.0</td>\n",
              "      <td>...</td>\n",
              "      <td>4.391795e-08</td>\n",
              "      <td>2.019778e-06</td>\n",
              "      <td>0.000007</td>\n",
              "      <td>3.777939e-28</td>\n",
              "      <td>2.847031e-20</td>\n",
              "      <td>1.586953e-12</td>\n",
              "      <td>0.004824</td>\n",
              "      <td>2.943291e-07</td>\n",
              "      <td>0.000120</td>\n",
              "      <td>0.0</td>\n",
              "      <td>0.021193</td>\n",
              "      <td>90.851860</td>\n",
              "      <td>0.036238</td>\n",
              "      <td>0.031091</td>\n",
              "      <td>0.025418</td>\n",
              "      <td>4.379071</td>\n",
              "      <td>1.497386</td>\n",
              "      <td>2.454327</td>\n",
              "      <td>0.433289</td>\n",
              "      <td>0.055774</td>\n",
              "      <td>8.135985e-08</td>\n",
              "      <td>0.123691</td>\n",
              "      <td>1.497779e-08</td>\n",
              "      <td>0.004834</td>\n",
              "      <td>0.004832</td>\n",
              "      <td>0.009661</td>\n",
              "      <td>0.002347</td>\n",
              "      <td>0.002347</td>\n",
              "      <td>0.009801</td>\n",
              "      <td>8.831326e-09</td>\n",
              "      <td>5.202043e-10</td>\n",
              "      <td>0.041543</td>\n",
              "      <td>0.010352</td>\n",
              "      <td>1.093937e-09</td>\n",
              "      <td>0.0</td>\n",
              "      <td>1.180810e-11</td>\n",
              "      <td>8.101804e-13</td>\n",
              "      <td>7.926007e-16</td>\n",
              "      <td>0.0</td>\n",
              "      <td>0.0</td>\n",
              "    </tr>\n",
              "    <tr>\n",
              "      <th>018-005</th>\n",
              "      <td>0.0</td>\n",
              "      <td>0.231966</td>\n",
              "      <td>14.549367</td>\n",
              "      <td>25.502148</td>\n",
              "      <td>13.410901</td>\n",
              "      <td>11.228949</td>\n",
              "      <td>2.106598</td>\n",
              "      <td>32.907124</td>\n",
              "      <td>0.055083</td>\n",
              "      <td>0.007056</td>\n",
              "      <td>0.0</td>\n",
              "      <td>0.000037</td>\n",
              "      <td>9.036912e-07</td>\n",
              "      <td>2.691376e-08</td>\n",
              "      <td>1.065582e-13</td>\n",
              "      <td>3.299152e-14</td>\n",
              "      <td>1.581536e-16</td>\n",
              "      <td>4.356174e-18</td>\n",
              "      <td>2.955264e-18</td>\n",
              "      <td>6.725449e-21</td>\n",
              "      <td>8.399413e-19</td>\n",
              "      <td>1.207947e-35</td>\n",
              "      <td>2.638141e-21</td>\n",
              "      <td>2.680031e-10</td>\n",
              "      <td>7.359927e-27</td>\n",
              "      <td>3.137003e-27</td>\n",
              "      <td>0.00041</td>\n",
              "      <td>1.442671e-27</td>\n",
              "      <td>0.000106</td>\n",
              "      <td>1.380411e-26</td>\n",
              "      <td>2.652102e-10</td>\n",
              "      <td>1.319560e-11</td>\n",
              "      <td>0.000200</td>\n",
              "      <td>0.000066</td>\n",
              "      <td>4.127623e-11</td>\n",
              "      <td>0.0</td>\n",
              "      <td>5.183609e-13</td>\n",
              "      <td>3.218437e-14</td>\n",
              "      <td>1.294267e-17</td>\n",
              "      <td>0.0</td>\n",
              "      <td>...</td>\n",
              "      <td>1.091683e-08</td>\n",
              "      <td>7.948362e-07</td>\n",
              "      <td>0.000002</td>\n",
              "      <td>1.078148e-27</td>\n",
              "      <td>4.104435e-20</td>\n",
              "      <td>1.865773e-12</td>\n",
              "      <td>0.005039</td>\n",
              "      <td>2.639269e-07</td>\n",
              "      <td>0.000091</td>\n",
              "      <td>0.0</td>\n",
              "      <td>0.027256</td>\n",
              "      <td>81.469635</td>\n",
              "      <td>0.091629</td>\n",
              "      <td>0.080752</td>\n",
              "      <td>0.066050</td>\n",
              "      <td>10.203499</td>\n",
              "      <td>2.057974</td>\n",
              "      <td>4.290279</td>\n",
              "      <td>1.190614</td>\n",
              "      <td>0.144918</td>\n",
              "      <td>2.445627e-08</td>\n",
              "      <td>0.321754</td>\n",
              "      <td>4.267498e-09</td>\n",
              "      <td>0.003717</td>\n",
              "      <td>0.003716</td>\n",
              "      <td>0.007262</td>\n",
              "      <td>0.001858</td>\n",
              "      <td>0.001858</td>\n",
              "      <td>0.025673</td>\n",
              "      <td>4.919972e-09</td>\n",
              "      <td>2.121579e-10</td>\n",
              "      <td>0.005067</td>\n",
              "      <td>0.001351</td>\n",
              "      <td>7.629343e-10</td>\n",
              "      <td>0.0</td>\n",
              "      <td>8.223842e-12</td>\n",
              "      <td>3.936993e-13</td>\n",
              "      <td>3.843301e-16</td>\n",
              "      <td>0.0</td>\n",
              "      <td>0.0</td>\n",
              "    </tr>\n",
              "    <tr>\n",
              "      <th>084-080</th>\n",
              "      <td>0.0</td>\n",
              "      <td>0.301230</td>\n",
              "      <td>18.041039</td>\n",
              "      <td>27.154144</td>\n",
              "      <td>10.813115</td>\n",
              "      <td>7.862339</td>\n",
              "      <td>1.563963</td>\n",
              "      <td>34.197189</td>\n",
              "      <td>0.057347</td>\n",
              "      <td>0.007998</td>\n",
              "      <td>0.0</td>\n",
              "      <td>0.000024</td>\n",
              "      <td>4.776753e-07</td>\n",
              "      <td>1.286620e-08</td>\n",
              "      <td>4.592482e-14</td>\n",
              "      <td>1.395410e-14</td>\n",
              "      <td>6.950853e-17</td>\n",
              "      <td>1.905539e-18</td>\n",
              "      <td>1.301439e-18</td>\n",
              "      <td>2.998063e-21</td>\n",
              "      <td>3.890508e-19</td>\n",
              "      <td>1.270961e-29</td>\n",
              "      <td>1.141666e-21</td>\n",
              "      <td>2.230897e-08</td>\n",
              "      <td>3.360968e-27</td>\n",
              "      <td>1.395746e-27</td>\n",
              "      <td>0.00085</td>\n",
              "      <td>6.431134e-28</td>\n",
              "      <td>0.000207</td>\n",
              "      <td>5.973033e-27</td>\n",
              "      <td>1.020592e-08</td>\n",
              "      <td>5.840493e-10</td>\n",
              "      <td>0.000358</td>\n",
              "      <td>0.000190</td>\n",
              "      <td>1.517720e-09</td>\n",
              "      <td>0.0</td>\n",
              "      <td>2.315589e-11</td>\n",
              "      <td>1.832429e-12</td>\n",
              "      <td>8.772793e-16</td>\n",
              "      <td>0.0</td>\n",
              "      <td>...</td>\n",
              "      <td>1.723262e-08</td>\n",
              "      <td>1.829134e-06</td>\n",
              "      <td>0.000003</td>\n",
              "      <td>1.731577e-27</td>\n",
              "      <td>6.650619e-20</td>\n",
              "      <td>1.982230e-12</td>\n",
              "      <td>0.004999</td>\n",
              "      <td>3.016950e-07</td>\n",
              "      <td>0.000096</td>\n",
              "      <td>0.0</td>\n",
              "      <td>0.028651</td>\n",
              "      <td>84.157661</td>\n",
              "      <td>0.079806</td>\n",
              "      <td>0.069023</td>\n",
              "      <td>0.056434</td>\n",
              "      <td>8.709426</td>\n",
              "      <td>1.762690</td>\n",
              "      <td>3.672480</td>\n",
              "      <td>1.017326</td>\n",
              "      <td>0.123689</td>\n",
              "      <td>4.995006e-07</td>\n",
              "      <td>0.274593</td>\n",
              "      <td>9.897006e-08</td>\n",
              "      <td>0.003184</td>\n",
              "      <td>0.003176</td>\n",
              "      <td>0.006202</td>\n",
              "      <td>0.001588</td>\n",
              "      <td>0.001588</td>\n",
              "      <td>0.021910</td>\n",
              "      <td>7.041749e-08</td>\n",
              "      <td>3.922213e-09</td>\n",
              "      <td>0.004324</td>\n",
              "      <td>0.001153</td>\n",
              "      <td>8.421458e-09</td>\n",
              "      <td>0.0</td>\n",
              "      <td>1.069388e-10</td>\n",
              "      <td>7.109758e-12</td>\n",
              "      <td>7.774632e-15</td>\n",
              "      <td>0.0</td>\n",
              "      <td>0.0</td>\n",
              "    </tr>\n",
              "  </tbody>\n",
              "</table>\n",
              "<p>3 rows × 164 columns</p>\n",
              "</div>"
            ],
            "text/plain": [
              "         Benzene Column C660 Operation_Vent Gas Production Rate and Composition_Hydrogen_wt%  ...  Benzene Column C660 Operation_Bottoms Production Rate and Composition_Oxygen_wt%\n",
              "104-002                                                0.0                                    ...                                                0.0                               \n",
              "018-005                                                0.0                                    ...                                                0.0                               \n",
              "084-080                                                0.0                                    ...                                                0.0                               \n",
              "\n",
              "[3 rows x 164 columns]"
            ]
          },
          "metadata": {
            "tags": []
          },
          "execution_count": 12
        }
      ]
    },
    {
      "cell_type": "code",
      "metadata": {
        "id": "mxxYIEU_cDUF",
        "colab": {
          "base_uri": "https://localhost:8080/",
          "height": 360
        },
        "outputId": "b88d18d3-cf3e-4dcf-f34c-a7175f905783"
      },
      "source": [
        "wt_real = c660_df.loc[x_test.index,wt_col]\n",
        "wt_real.head(3)"
      ],
      "execution_count": null,
      "outputs": [
        {
          "output_type": "execute_result",
          "data": {
            "text/html": [
              "<div>\n",
              "<style scoped>\n",
              "    .dataframe tbody tr th:only-of-type {\n",
              "        vertical-align: middle;\n",
              "    }\n",
              "\n",
              "    .dataframe tbody tr th {\n",
              "        vertical-align: top;\n",
              "    }\n",
              "\n",
              "    .dataframe thead th {\n",
              "        text-align: right;\n",
              "    }\n",
              "</style>\n",
              "<table border=\"1\" class=\"dataframe\">\n",
              "  <thead>\n",
              "    <tr style=\"text-align: right;\">\n",
              "      <th></th>\n",
              "      <th>Benzene Column C660 Operation_Vent Gas Production Rate and Composition_Hydrogen_wt%</th>\n",
              "      <th>Benzene Column C660 Operation_Vent Gas Production Rate and Composition_Methane_wt%</th>\n",
              "      <th>Benzene Column C660 Operation_Vent Gas Production Rate and Composition_Ethane_wt%</th>\n",
              "      <th>Benzene Column C660 Operation_Vent Gas Production Rate and Composition_Propane_wt%</th>\n",
              "      <th>Benzene Column C660 Operation_Vent Gas Production Rate and Composition_n-Butane_wt%</th>\n",
              "      <th>Benzene Column C660 Operation_Vent Gas Production Rate and Composition_n-Pentane_wt%</th>\n",
              "      <th>Benzene Column C660 Operation_Vent Gas Production Rate and Composition_n-Hexane_wt%</th>\n",
              "      <th>Benzene Column C660 Operation_Vent Gas Production Rate and Composition_Benzene_wt%</th>\n",
              "      <th>Benzene Column C660 Operation_Vent Gas Production Rate and Composition_Cyclohexane_wt%</th>\n",
              "      <th>Benzene Column C660 Operation_Vent Gas Production Rate and Composition_n-Heptane_wt%</th>\n",
              "      <th>Benzene Column C660 Operation_Vent Gas Production Rate and Composition_Water_wt%</th>\n",
              "      <th>Benzene Column C660 Operation_Vent Gas Production Rate and Composition_Methylcyclohexane_wt%</th>\n",
              "      <th>Benzene Column C660 Operation_Vent Gas Production Rate and Composition_Toluene_wt%</th>\n",
              "      <th>Benzene Column C660 Operation_Vent Gas Production Rate and Composition_n-Octane_wt%</th>\n",
              "      <th>Benzene Column C660 Operation_Vent Gas Production Rate and Composition_n-Propylcyclopentane_wt%</th>\n",
              "      <th>Benzene Column C660 Operation_Vent Gas Production Rate and Composition_Ethylcyclohexane_wt%</th>\n",
              "      <th>Benzene Column C660 Operation_Vent Gas Production Rate and Composition_Ethylbenzene_wt%</th>\n",
              "      <th>Benzene Column C660 Operation_Vent Gas Production Rate and Composition_p-Xylene_wt%</th>\n",
              "      <th>Benzene Column C660 Operation_Vent Gas Production Rate and Composition_m-Xylene_wt%</th>\n",
              "      <th>Benzene Column C660 Operation_Vent Gas Production Rate and Composition_o-Xylene_wt%</th>\n",
              "      <th>Benzene Column C660 Operation_Vent Gas Production Rate and Composition_n-Nonane_wt%</th>\n",
              "      <th>Benzene Column C660 Operation_Vent Gas Production Rate and Composition_i-Propylbenzene_wt%</th>\n",
              "      <th>Benzene Column C660 Operation_Vent Gas Production Rate and Composition_n-Propylcyclohexane_wt%</th>\n",
              "      <th>Benzene Column C660 Operation_Vent Gas Production Rate and Composition_n-Propylbenzene_wt%</th>\n",
              "      <th>Benzene Column C660 Operation_Vent Gas Production Rate and Composition_1-Methyl-3-ethylbenzene_wt%</th>\n",
              "      <th>Benzene Column C660 Operation_Vent Gas Production Rate and Composition_1-Methyl-4-ethylbenzene_wt%</th>\n",
              "      <th>Benzene Column C660 Operation_Vent Gas Production Rate and Composition_1,3,5-Trimethylbenzene_wt%</th>\n",
              "      <th>Benzene Column C660 Operation_Vent Gas Production Rate and Composition_1-Methyl-2-ethylbenzene_wt%</th>\n",
              "      <th>Benzene Column C660 Operation_Vent Gas Production Rate and Composition_1,2,4-Trimethylbenzene_wt%</th>\n",
              "      <th>Benzene Column C660 Operation_Vent Gas Production Rate and Composition_tert-Butylcyclohexane_wt%</th>\n",
              "      <th>Benzene Column C660 Operation_Vent Gas Production Rate and Composition_1,2,3-Trimethylbenzene_wt%</th>\n",
              "      <th>Benzene Column C660 Operation_Vent Gas Production Rate and Composition_Indane_wt%</th>\n",
              "      <th>Benzene Column C660 Operation_Vent Gas Production Rate and Composition_1-Methyl-4-n-propylbenzene_wt%</th>\n",
              "      <th>Benzene Column C660 Operation_Vent Gas Production Rate and Composition_1,2-Diethylbenzene_wt%</th>\n",
              "      <th>Benzene Column C660 Operation_Vent Gas Production Rate and Composition_5-Ethyl-m-xylene_wt%</th>\n",
              "      <th>Benzene Column C660 Operation_Vent Gas Production Rate and Composition_1,4-Diethylbenzene_wt%</th>\n",
              "      <th>Benzene Column C660 Operation_Vent Gas Production Rate and Composition_1,2,3,5-Tetramethylbenzene_wt%</th>\n",
              "      <th>Benzene Column C660 Operation_Vent Gas Production Rate and Composition_n-Pentylbenzene_wt%</th>\n",
              "      <th>Benzene Column C660 Operation_Vent Gas Production Rate and Composition_n-Hexylbenzene_wt%</th>\n",
              "      <th>Benzene Column C660 Operation_Vent Gas Production Rate and Composition_Nitrogen_wt%</th>\n",
              "      <th>...</th>\n",
              "      <th>Benzene Column C660 Operation_Bottoms Production Rate and Composition_Methane_wt%</th>\n",
              "      <th>Benzene Column C660 Operation_Bottoms Production Rate and Composition_Ethane_wt%</th>\n",
              "      <th>Benzene Column C660 Operation_Bottoms Production Rate and Composition_Propane_wt%</th>\n",
              "      <th>Benzene Column C660 Operation_Bottoms Production Rate and Composition_n-Butane_wt%</th>\n",
              "      <th>Benzene Column C660 Operation_Bottoms Production Rate and Composition_n-Pentane_wt%</th>\n",
              "      <th>Benzene Column C660 Operation_Bottoms Production Rate and Composition_n-Hexane_wt%</th>\n",
              "      <th>Benzene Column C660 Operation_Bottoms Production Rate and Composition_Benzene_wt%</th>\n",
              "      <th>Benzene Column C660 Operation_Bottoms Production Rate and Composition_Cyclohexane_wt%</th>\n",
              "      <th>Benzene Column C660 Operation_Bottoms Production Rate and Composition_n-Heptane_wt%</th>\n",
              "      <th>Benzene Column C660 Operation_Bottoms Production Rate and Composition_Water_wt%</th>\n",
              "      <th>Benzene Column C660 Operation_Bottoms Production Rate and Composition_Methylcyclohexane_wt%</th>\n",
              "      <th>Benzene Column C660 Operation_Bottoms Production Rate and Composition_Toluene_wt%</th>\n",
              "      <th>Benzene Column C660 Operation_Bottoms Production Rate and Composition_n-Octane_wt%</th>\n",
              "      <th>Benzene Column C660 Operation_Bottoms Production Rate and Composition_n-Propylcyclopentane_wt%</th>\n",
              "      <th>Benzene Column C660 Operation_Bottoms Production Rate and Composition_Ethylcyclohexane_wt%</th>\n",
              "      <th>Benzene Column C660 Operation_Bottoms Production Rate and Composition_Ethylbenzene_wt%</th>\n",
              "      <th>Benzene Column C660 Operation_Bottoms Production Rate and Composition_p-Xylene_wt%</th>\n",
              "      <th>Benzene Column C660 Operation_Bottoms Production Rate and Composition_m-Xylene_wt%</th>\n",
              "      <th>Benzene Column C660 Operation_Bottoms Production Rate and Composition_o-Xylene_wt%</th>\n",
              "      <th>Benzene Column C660 Operation_Bottoms Production Rate and Composition_n-Nonane_wt%</th>\n",
              "      <th>Benzene Column C660 Operation_Bottoms Production Rate and Composition_i-Propylbenzene_wt%</th>\n",
              "      <th>Benzene Column C660 Operation_Bottoms Production Rate and Composition_n-Propylcyclohexane_wt%</th>\n",
              "      <th>Benzene Column C660 Operation_Bottoms Production Rate and Composition_n-Propylbenzene_wt%</th>\n",
              "      <th>Benzene Column C660 Operation_Bottoms Production Rate and Composition_1-Methyl-3-ethylbenzene_wt%</th>\n",
              "      <th>Benzene Column C660 Operation_Bottoms Production Rate and Composition_1-Methyl-4-ethylbenzene_wt%</th>\n",
              "      <th>Benzene Column C660 Operation_Bottoms Production Rate and Composition_1,3,5-Trimethylbenzene_wt%</th>\n",
              "      <th>Benzene Column C660 Operation_Bottoms Production Rate and Composition_1-Methyl-2-ethylbenzene_wt%</th>\n",
              "      <th>Benzene Column C660 Operation_Bottoms Production Rate and Composition_1,2,4-Trimethylbenzene_wt%</th>\n",
              "      <th>Benzene Column C660 Operation_Bottoms Production Rate and Composition_tert-Butylcyclohexane_wt%</th>\n",
              "      <th>Benzene Column C660 Operation_Bottoms Production Rate and Composition_1,2,3-Trimethylbenzene_wt%</th>\n",
              "      <th>Benzene Column C660 Operation_Bottoms Production Rate and Composition_Indane_wt%</th>\n",
              "      <th>Benzene Column C660 Operation_Bottoms Production Rate and Composition_1-Methyl-4-n-propylbenzene_wt%</th>\n",
              "      <th>Benzene Column C660 Operation_Bottoms Production Rate and Composition_1,2-Diethylbenzene_wt%</th>\n",
              "      <th>Benzene Column C660 Operation_Bottoms Production Rate and Composition_5-Ethyl-m-xylene_wt%</th>\n",
              "      <th>Benzene Column C660 Operation_Bottoms Production Rate and Composition_1,4-Diethylbenzene_wt%</th>\n",
              "      <th>Benzene Column C660 Operation_Bottoms Production Rate and Composition_1,2,3,5-Tetramethylbenzene_wt%</th>\n",
              "      <th>Benzene Column C660 Operation_Bottoms Production Rate and Composition_n-Pentylbenzene_wt%</th>\n",
              "      <th>Benzene Column C660 Operation_Bottoms Production Rate and Composition_n-Hexylbenzene_wt%</th>\n",
              "      <th>Benzene Column C660 Operation_Bottoms Production Rate and Composition_Nitrogen_wt%</th>\n",
              "      <th>Benzene Column C660 Operation_Bottoms Production Rate and Composition_Oxygen_wt%</th>\n",
              "    </tr>\n",
              "  </thead>\n",
              "  <tbody>\n",
              "    <tr>\n",
              "      <th>104-002</th>\n",
              "      <td>0.0</td>\n",
              "      <td>0.816324</td>\n",
              "      <td>27.946198</td>\n",
              "      <td>22.434992</td>\n",
              "      <td>5.080683</td>\n",
              "      <td>3.382730</td>\n",
              "      <td>1.278269</td>\n",
              "      <td>38.958618</td>\n",
              "      <td>0.088239</td>\n",
              "      <td>0.013912</td>\n",
              "      <td>0.0</td>\n",
              "      <td>0.000035</td>\n",
              "      <td>1.121627e-06</td>\n",
              "      <td>1.454358e-08</td>\n",
              "      <td>5.179621e-14</td>\n",
              "      <td>1.603651e-14</td>\n",
              "      <td>6.990192e-17</td>\n",
              "      <td>3.202075e-18</td>\n",
              "      <td>1.675655e-18</td>\n",
              "      <td>2.337092e-21</td>\n",
              "      <td>3.752830e-19</td>\n",
              "      <td>0.000000e+00</td>\n",
              "      <td>1.206442e-21</td>\n",
              "      <td>0.0</td>\n",
              "      <td>9.268100e-27</td>\n",
              "      <td>4.049847e-27</td>\n",
              "      <td>0.0</td>\n",
              "      <td>1.816582e-27</td>\n",
              "      <td>0.0</td>\n",
              "      <td>6.242501e-27</td>\n",
              "      <td>0.0</td>\n",
              "      <td>0.0</td>\n",
              "      <td>0.0</td>\n",
              "      <td>0.0</td>\n",
              "      <td>0.0</td>\n",
              "      <td>0.0</td>\n",
              "      <td>0.0</td>\n",
              "      <td>0.0</td>\n",
              "      <td>0.0</td>\n",
              "      <td>0.0</td>\n",
              "      <td>...</td>\n",
              "      <td>0.0</td>\n",
              "      <td>0.0</td>\n",
              "      <td>0.0</td>\n",
              "      <td>3.421665e-28</td>\n",
              "      <td>2.753735e-20</td>\n",
              "      <td>1.649507e-12</td>\n",
              "      <td>0.005</td>\n",
              "      <td>3.097390e-07</td>\n",
              "      <td>0.000126</td>\n",
              "      <td>0.0</td>\n",
              "      <td>0.021170</td>\n",
              "      <td>90.851700</td>\n",
              "      <td>0.036238</td>\n",
              "      <td>0.031091</td>\n",
              "      <td>0.025418</td>\n",
              "      <td>4.379064</td>\n",
              "      <td>1.497384</td>\n",
              "      <td>2.454323</td>\n",
              "      <td>0.433289</td>\n",
              "      <td>0.055774</td>\n",
              "      <td>8.135973e-08</td>\n",
              "      <td>0.123691</td>\n",
              "      <td>1.498245e-08</td>\n",
              "      <td>0.004834</td>\n",
              "      <td>0.004832</td>\n",
              "      <td>0.009664</td>\n",
              "      <td>0.002347</td>\n",
              "      <td>0.002347</td>\n",
              "      <td>0.009801</td>\n",
              "      <td>8.834355e-09</td>\n",
              "      <td>5.204010e-10</td>\n",
              "      <td>0.041552</td>\n",
              "      <td>0.010354</td>\n",
              "      <td>1.094349e-09</td>\n",
              "      <td>0.0</td>\n",
              "      <td>1.181309e-11</td>\n",
              "      <td>8.105361e-13</td>\n",
              "      <td>7.929663e-16</td>\n",
              "      <td>0.0</td>\n",
              "      <td>0.0</td>\n",
              "    </tr>\n",
              "    <tr>\n",
              "      <th>018-005</th>\n",
              "      <td>0.0</td>\n",
              "      <td>0.231038</td>\n",
              "      <td>14.514267</td>\n",
              "      <td>25.415796</td>\n",
              "      <td>13.373305</td>\n",
              "      <td>11.353634</td>\n",
              "      <td>2.150182</td>\n",
              "      <td>32.899399</td>\n",
              "      <td>0.055277</td>\n",
              "      <td>0.007049</td>\n",
              "      <td>0.0</td>\n",
              "      <td>0.000036</td>\n",
              "      <td>8.898219e-07</td>\n",
              "      <td>2.695688e-08</td>\n",
              "      <td>1.064556e-13</td>\n",
              "      <td>3.270915e-14</td>\n",
              "      <td>1.572300e-16</td>\n",
              "      <td>4.317065e-18</td>\n",
              "      <td>2.922359e-18</td>\n",
              "      <td>6.655990e-21</td>\n",
              "      <td>8.387686e-19</td>\n",
              "      <td>0.000000e+00</td>\n",
              "      <td>2.617084e-21</td>\n",
              "      <td>0.0</td>\n",
              "      <td>7.200588e-27</td>\n",
              "      <td>3.136687e-27</td>\n",
              "      <td>0.0</td>\n",
              "      <td>1.441407e-27</td>\n",
              "      <td>0.0</td>\n",
              "      <td>1.373443e-26</td>\n",
              "      <td>0.0</td>\n",
              "      <td>0.0</td>\n",
              "      <td>0.0</td>\n",
              "      <td>0.0</td>\n",
              "      <td>0.0</td>\n",
              "      <td>0.0</td>\n",
              "      <td>0.0</td>\n",
              "      <td>0.0</td>\n",
              "      <td>0.0</td>\n",
              "      <td>0.0</td>\n",
              "      <td>...</td>\n",
              "      <td>0.0</td>\n",
              "      <td>0.0</td>\n",
              "      <td>0.0</td>\n",
              "      <td>1.068605e-27</td>\n",
              "      <td>4.135783e-20</td>\n",
              "      <td>1.872916e-12</td>\n",
              "      <td>0.005</td>\n",
              "      <td>2.643803e-07</td>\n",
              "      <td>0.000090</td>\n",
              "      <td>0.0</td>\n",
              "      <td>0.027296</td>\n",
              "      <td>81.469643</td>\n",
              "      <td>0.091628</td>\n",
              "      <td>0.080752</td>\n",
              "      <td>0.066050</td>\n",
              "      <td>10.203503</td>\n",
              "      <td>2.057974</td>\n",
              "      <td>4.290281</td>\n",
              "      <td>1.190614</td>\n",
              "      <td>0.144918</td>\n",
              "      <td>2.445627e-08</td>\n",
              "      <td>0.321754</td>\n",
              "      <td>4.267963e-09</td>\n",
              "      <td>0.003717</td>\n",
              "      <td>0.003716</td>\n",
              "      <td>0.007263</td>\n",
              "      <td>0.001858</td>\n",
              "      <td>0.001858</td>\n",
              "      <td>0.025673</td>\n",
              "      <td>4.920731e-09</td>\n",
              "      <td>2.121952e-10</td>\n",
              "      <td>0.005067</td>\n",
              "      <td>0.001351</td>\n",
              "      <td>7.630547e-10</td>\n",
              "      <td>0.0</td>\n",
              "      <td>8.225432e-12</td>\n",
              "      <td>3.937783e-13</td>\n",
              "      <td>3.843990e-16</td>\n",
              "      <td>0.0</td>\n",
              "      <td>0.0</td>\n",
              "    </tr>\n",
              "    <tr>\n",
              "      <th>084-080</th>\n",
              "      <td>0.0</td>\n",
              "      <td>0.297915</td>\n",
              "      <td>17.766405</td>\n",
              "      <td>26.667646</td>\n",
              "      <td>10.816803</td>\n",
              "      <td>7.868707</td>\n",
              "      <td>1.596372</td>\n",
              "      <td>34.919273</td>\n",
              "      <td>0.058653</td>\n",
              "      <td>0.008198</td>\n",
              "      <td>0.0</td>\n",
              "      <td>0.000026</td>\n",
              "      <td>4.835701e-07</td>\n",
              "      <td>1.313271e-08</td>\n",
              "      <td>4.666309e-14</td>\n",
              "      <td>1.423100e-14</td>\n",
              "      <td>6.989365e-17</td>\n",
              "      <td>1.940620e-18</td>\n",
              "      <td>1.317025e-18</td>\n",
              "      <td>2.997824e-21</td>\n",
              "      <td>3.935750e-19</td>\n",
              "      <td>1.304732e-29</td>\n",
              "      <td>1.158307e-21</td>\n",
              "      <td>0.0</td>\n",
              "      <td>3.311140e-27</td>\n",
              "      <td>1.441814e-27</td>\n",
              "      <td>0.0</td>\n",
              "      <td>6.558319e-28</td>\n",
              "      <td>0.0</td>\n",
              "      <td>6.156653e-27</td>\n",
              "      <td>0.0</td>\n",
              "      <td>0.0</td>\n",
              "      <td>0.0</td>\n",
              "      <td>0.0</td>\n",
              "      <td>0.0</td>\n",
              "      <td>0.0</td>\n",
              "      <td>0.0</td>\n",
              "      <td>0.0</td>\n",
              "      <td>0.0</td>\n",
              "      <td>0.0</td>\n",
              "      <td>...</td>\n",
              "      <td>0.0</td>\n",
              "      <td>0.0</td>\n",
              "      <td>0.0</td>\n",
              "      <td>1.725055e-27</td>\n",
              "      <td>6.751925e-20</td>\n",
              "      <td>1.975818e-12</td>\n",
              "      <td>0.005</td>\n",
              "      <td>3.015154e-07</td>\n",
              "      <td>0.000096</td>\n",
              "      <td>0.0</td>\n",
              "      <td>0.028608</td>\n",
              "      <td>84.157700</td>\n",
              "      <td>0.079806</td>\n",
              "      <td>0.069023</td>\n",
              "      <td>0.056434</td>\n",
              "      <td>8.709433</td>\n",
              "      <td>1.762691</td>\n",
              "      <td>3.672483</td>\n",
              "      <td>1.017327</td>\n",
              "      <td>0.123689</td>\n",
              "      <td>4.995010e-07</td>\n",
              "      <td>0.274594</td>\n",
              "      <td>9.899290e-08</td>\n",
              "      <td>0.003184</td>\n",
              "      <td>0.003176</td>\n",
              "      <td>0.006203</td>\n",
              "      <td>0.001588</td>\n",
              "      <td>0.001589</td>\n",
              "      <td>0.021910</td>\n",
              "      <td>7.043968e-08</td>\n",
              "      <td>3.923456e-09</td>\n",
              "      <td>0.004324</td>\n",
              "      <td>0.001153</td>\n",
              "      <td>8.423933e-09</td>\n",
              "      <td>0.0</td>\n",
              "      <td>1.069777e-10</td>\n",
              "      <td>7.112668e-12</td>\n",
              "      <td>7.777378e-15</td>\n",
              "      <td>0.0</td>\n",
              "      <td>0.0</td>\n",
              "    </tr>\n",
              "  </tbody>\n",
              "</table>\n",
              "<p>3 rows × 164 columns</p>\n",
              "</div>"
            ],
            "text/plain": [
              "         Benzene Column C660 Operation_Vent Gas Production Rate and Composition_Hydrogen_wt%  ...  Benzene Column C660 Operation_Bottoms Production Rate and Composition_Oxygen_wt%\n",
              "104-002                                                0.0                                    ...                                                0.0                               \n",
              "018-005                                                0.0                                    ...                                                0.0                               \n",
              "084-080                                                0.0                                    ...                                                0.0                               \n",
              "\n",
              "[3 rows x 164 columns]"
            ]
          },
          "metadata": {
            "tags": []
          },
          "execution_count": 13
        }
      ]
    },
    {
      "cell_type": "code",
      "metadata": {
        "id": "qsUp2_2VcF50",
        "colab": {
          "base_uri": "https://localhost:8080/",
          "height": 407
        },
        "outputId": "4b249c7e-a23c-4555-b782-99b752600374"
      },
      "source": [
        "c660.show_metrics(wt_real,wt_pred,e=0.02).fillna(0)"
      ],
      "execution_count": null,
      "outputs": [
        {
          "output_type": "execute_result",
          "data": {
            "text/html": [
              "<div>\n",
              "<style scoped>\n",
              "    .dataframe tbody tr th:only-of-type {\n",
              "        vertical-align: middle;\n",
              "    }\n",
              "\n",
              "    .dataframe tbody tr th {\n",
              "        vertical-align: top;\n",
              "    }\n",
              "\n",
              "    .dataframe thead th {\n",
              "        text-align: right;\n",
              "    }\n",
              "</style>\n",
              "<table border=\"1\" class=\"dataframe\">\n",
              "  <thead>\n",
              "    <tr style=\"text-align: right;\">\n",
              "      <th></th>\n",
              "      <th>R2</th>\n",
              "      <th>MSE</th>\n",
              "      <th>MAPE</th>\n",
              "    </tr>\n",
              "  </thead>\n",
              "  <tbody>\n",
              "    <tr>\n",
              "      <th>Benzene Column C660 Operation_Vent Gas Production Rate and Composition_Hydrogen_wt%</th>\n",
              "      <td>1.000000</td>\n",
              "      <td>0.000000e+00</td>\n",
              "      <td>0.000000</td>\n",
              "    </tr>\n",
              "    <tr>\n",
              "      <th>Benzene Column C660 Operation_Vent Gas Production Rate and Composition_Methane_wt%</th>\n",
              "      <td>0.974883</td>\n",
              "      <td>4.287746e-03</td>\n",
              "      <td>2.472127</td>\n",
              "    </tr>\n",
              "    <tr>\n",
              "      <th>Benzene Column C660 Operation_Vent Gas Production Rate and Composition_Ethane_wt%</th>\n",
              "      <td>0.994377</td>\n",
              "      <td>2.180914e-01</td>\n",
              "      <td>1.319125</td>\n",
              "    </tr>\n",
              "    <tr>\n",
              "      <th>Benzene Column C660 Operation_Vent Gas Production Rate and Composition_Propane_wt%</th>\n",
              "      <td>0.981017</td>\n",
              "      <td>1.009699e-01</td>\n",
              "      <td>0.991118</td>\n",
              "    </tr>\n",
              "    <tr>\n",
              "      <th>Benzene Column C660 Operation_Vent Gas Production Rate and Composition_n-Butane_wt%</th>\n",
              "      <td>0.995973</td>\n",
              "      <td>5.200429e-02</td>\n",
              "      <td>2.634989</td>\n",
              "    </tr>\n",
              "    <tr>\n",
              "      <th>...</th>\n",
              "      <td>...</td>\n",
              "      <td>...</td>\n",
              "      <td>...</td>\n",
              "    </tr>\n",
              "    <tr>\n",
              "      <th>Benzene Column C660 Operation_Bottoms Production Rate and Composition_n-Pentylbenzene_wt%</th>\n",
              "      <td>0.999999</td>\n",
              "      <td>9.618512e-30</td>\n",
              "      <td>0.000000</td>\n",
              "    </tr>\n",
              "    <tr>\n",
              "      <th>Benzene Column C660 Operation_Bottoms Production Rate and Composition_n-Hexylbenzene_wt%</th>\n",
              "      <td>0.999999</td>\n",
              "      <td>1.145266e-35</td>\n",
              "      <td>0.000000</td>\n",
              "    </tr>\n",
              "    <tr>\n",
              "      <th>Benzene Column C660 Operation_Bottoms Production Rate and Composition_Nitrogen_wt%</th>\n",
              "      <td>1.000000</td>\n",
              "      <td>0.000000e+00</td>\n",
              "      <td>0.000000</td>\n",
              "    </tr>\n",
              "    <tr>\n",
              "      <th>Benzene Column C660 Operation_Bottoms Production Rate and Composition_Oxygen_wt%</th>\n",
              "      <td>1.000000</td>\n",
              "      <td>0.000000e+00</td>\n",
              "      <td>0.000000</td>\n",
              "    </tr>\n",
              "    <tr>\n",
              "      <th>AVG</th>\n",
              "      <td>0.800174</td>\n",
              "      <td>6.655001e-03</td>\n",
              "      <td>1.169839</td>\n",
              "    </tr>\n",
              "  </tbody>\n",
              "</table>\n",
              "<p>165 rows × 3 columns</p>\n",
              "</div>"
            ],
            "text/plain": [
              "                                                          R2  ...      MAPE\n",
              "Benzene Column C660 Operation_Vent Gas Producti...  1.000000  ...  0.000000\n",
              "Benzene Column C660 Operation_Vent Gas Producti...  0.974883  ...  2.472127\n",
              "Benzene Column C660 Operation_Vent Gas Producti...  0.994377  ...  1.319125\n",
              "Benzene Column C660 Operation_Vent Gas Producti...  0.981017  ...  0.991118\n",
              "Benzene Column C660 Operation_Vent Gas Producti...  0.995973  ...  2.634989\n",
              "...                                                      ...  ...       ...\n",
              "Benzene Column C660 Operation_Bottoms Productio...  0.999999  ...  0.000000\n",
              "Benzene Column C660 Operation_Bottoms Productio...  0.999999  ...  0.000000\n",
              "Benzene Column C660 Operation_Bottoms Productio...  1.000000  ...  0.000000\n",
              "Benzene Column C660 Operation_Bottoms Productio...  1.000000  ...  0.000000\n",
              "AVG                                                 0.800174  ...  1.169839\n",
              "\n",
              "[165 rows x 3 columns]"
            ]
          },
          "metadata": {
            "tags": []
          },
          "execution_count": 14
        }
      ]
    },
    {
      "cell_type": "code",
      "metadata": {
        "id": "AelwkA--qoVt"
      },
      "source": [
        "c660.shrink()"
      ],
      "execution_count": null,
      "outputs": []
    },
    {
      "cell_type": "code",
      "metadata": {
        "colab": {
          "base_uri": "https://localhost:8080/"
        },
        "id": "UvPNVFVgtveh",
        "outputId": "f0924820-c66c-4f94-8660-39f09ff324c2"
      },
      "source": [
        "joblib.dump(c660,'/content/drive/MyDrive/台塑輕油案子/data/c620/model/c660.pkl')"
      ],
      "execution_count": null,
      "outputs": [
        {
          "output_type": "execute_result",
          "data": {
            "text/plain": [
              "['/content/drive/MyDrive/台塑輕油案子/data/c620/model/c660.pkl']"
            ]
          },
          "metadata": {
            "tags": []
          },
          "execution_count": 16
        }
      ]
    },
    {
      "cell_type": "code",
      "metadata": {
        "id": "SHUTpMqTuBM8"
      },
      "source": [
        ""
      ],
      "execution_count": null,
      "outputs": []
    }
  ]
}