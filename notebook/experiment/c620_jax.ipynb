{
  "nbformat": 4,
  "nbformat_minor": 0,
  "metadata": {
    "colab": {
      "name": "c620_jax.ipynb",
      "provenance": [],
      "mount_file_id": "1u-lQUe-7d8qezv4Dldm3ob6f85p8ZJi-",
      "authorship_tag": "ABX9TyO10cg/Ty1/qLV/3ndhPl22",
      "include_colab_link": true
    },
    "kernelspec": {
      "name": "python3",
      "display_name": "Python 3"
    },
    "language_info": {
      "name": "python"
    },
    "widgets": {
      "application/vnd.jupyter.widget-state+json": {
        "6635225e0b01468cb8a3020fc188f6d4": {
          "model_module": "@jupyter-widgets/controls",
          "model_name": "HBoxModel",
          "state": {
            "_view_name": "HBoxView",
            "_dom_classes": [],
            "_model_name": "HBoxModel",
            "_view_module": "@jupyter-widgets/controls",
            "_model_module_version": "1.5.0",
            "_view_count": null,
            "_view_module_version": "1.5.0",
            "box_style": "",
            "layout": "IPY_MODEL_ba4eefa463e04693ae52d59b9bb0ff6a",
            "_model_module": "@jupyter-widgets/controls",
            "children": [
              "IPY_MODEL_35b36e2e7f804a83899c99ace67a63d0",
              "IPY_MODEL_98f57f68648e46279e4bbaf0ea17d43d"
            ]
          }
        },
        "ba4eefa463e04693ae52d59b9bb0ff6a": {
          "model_module": "@jupyter-widgets/base",
          "model_name": "LayoutModel",
          "state": {
            "_view_name": "LayoutView",
            "grid_template_rows": null,
            "right": null,
            "justify_content": null,
            "_view_module": "@jupyter-widgets/base",
            "overflow": null,
            "_model_module_version": "1.2.0",
            "_view_count": null,
            "flex_flow": null,
            "width": null,
            "min_width": null,
            "border": null,
            "align_items": null,
            "bottom": null,
            "_model_module": "@jupyter-widgets/base",
            "top": null,
            "grid_column": null,
            "overflow_y": null,
            "overflow_x": null,
            "grid_auto_flow": null,
            "grid_area": null,
            "grid_template_columns": null,
            "flex": null,
            "_model_name": "LayoutModel",
            "justify_items": null,
            "grid_row": null,
            "max_height": null,
            "align_content": null,
            "visibility": null,
            "align_self": null,
            "height": null,
            "min_height": null,
            "padding": null,
            "grid_auto_rows": null,
            "grid_gap": null,
            "max_width": null,
            "order": null,
            "_view_module_version": "1.2.0",
            "grid_template_areas": null,
            "object_position": null,
            "object_fit": null,
            "grid_auto_columns": null,
            "margin": null,
            "display": null,
            "left": null
          }
        },
        "35b36e2e7f804a83899c99ace67a63d0": {
          "model_module": "@jupyter-widgets/controls",
          "model_name": "FloatProgressModel",
          "state": {
            "_view_name": "ProgressView",
            "style": "IPY_MODEL_8118acfa41f14dd5b48a6f117b249c3b",
            "_dom_classes": [],
            "description": "100%",
            "_model_name": "FloatProgressModel",
            "bar_style": "success",
            "max": 150,
            "_view_module": "@jupyter-widgets/controls",
            "_model_module_version": "1.5.0",
            "value": 150,
            "_view_count": null,
            "_view_module_version": "1.5.0",
            "orientation": "horizontal",
            "min": 0,
            "description_tooltip": null,
            "_model_module": "@jupyter-widgets/controls",
            "layout": "IPY_MODEL_0db645dc955a4281a6b3795e6b66ee3c"
          }
        },
        "98f57f68648e46279e4bbaf0ea17d43d": {
          "model_module": "@jupyter-widgets/controls",
          "model_name": "HTMLModel",
          "state": {
            "_view_name": "HTMLView",
            "style": "IPY_MODEL_613b517b9d2746409b4fa7c69f85a6f0",
            "_dom_classes": [],
            "description": "",
            "_model_name": "HTMLModel",
            "placeholder": "​",
            "_view_module": "@jupyter-widgets/controls",
            "_model_module_version": "1.5.0",
            "value": " 150/150 [01:31&lt;00:00,  1.64it/s]",
            "_view_count": null,
            "_view_module_version": "1.5.0",
            "description_tooltip": null,
            "_model_module": "@jupyter-widgets/controls",
            "layout": "IPY_MODEL_62bacf12d5024b45bbd049e3d3b7bec5"
          }
        },
        "8118acfa41f14dd5b48a6f117b249c3b": {
          "model_module": "@jupyter-widgets/controls",
          "model_name": "ProgressStyleModel",
          "state": {
            "_view_name": "StyleView",
            "_model_name": "ProgressStyleModel",
            "description_width": "initial",
            "_view_module": "@jupyter-widgets/base",
            "_model_module_version": "1.5.0",
            "_view_count": null,
            "_view_module_version": "1.2.0",
            "bar_color": null,
            "_model_module": "@jupyter-widgets/controls"
          }
        },
        "0db645dc955a4281a6b3795e6b66ee3c": {
          "model_module": "@jupyter-widgets/base",
          "model_name": "LayoutModel",
          "state": {
            "_view_name": "LayoutView",
            "grid_template_rows": null,
            "right": null,
            "justify_content": null,
            "_view_module": "@jupyter-widgets/base",
            "overflow": null,
            "_model_module_version": "1.2.0",
            "_view_count": null,
            "flex_flow": null,
            "width": null,
            "min_width": null,
            "border": null,
            "align_items": null,
            "bottom": null,
            "_model_module": "@jupyter-widgets/base",
            "top": null,
            "grid_column": null,
            "overflow_y": null,
            "overflow_x": null,
            "grid_auto_flow": null,
            "grid_area": null,
            "grid_template_columns": null,
            "flex": null,
            "_model_name": "LayoutModel",
            "justify_items": null,
            "grid_row": null,
            "max_height": null,
            "align_content": null,
            "visibility": null,
            "align_self": null,
            "height": null,
            "min_height": null,
            "padding": null,
            "grid_auto_rows": null,
            "grid_gap": null,
            "max_width": null,
            "order": null,
            "_view_module_version": "1.2.0",
            "grid_template_areas": null,
            "object_position": null,
            "object_fit": null,
            "grid_auto_columns": null,
            "margin": null,
            "display": null,
            "left": null
          }
        },
        "613b517b9d2746409b4fa7c69f85a6f0": {
          "model_module": "@jupyter-widgets/controls",
          "model_name": "DescriptionStyleModel",
          "state": {
            "_view_name": "StyleView",
            "_model_name": "DescriptionStyleModel",
            "description_width": "",
            "_view_module": "@jupyter-widgets/base",
            "_model_module_version": "1.5.0",
            "_view_count": null,
            "_view_module_version": "1.2.0",
            "_model_module": "@jupyter-widgets/controls"
          }
        },
        "62bacf12d5024b45bbd049e3d3b7bec5": {
          "model_module": "@jupyter-widgets/base",
          "model_name": "LayoutModel",
          "state": {
            "_view_name": "LayoutView",
            "grid_template_rows": null,
            "right": null,
            "justify_content": null,
            "_view_module": "@jupyter-widgets/base",
            "overflow": null,
            "_model_module_version": "1.2.0",
            "_view_count": null,
            "flex_flow": null,
            "width": null,
            "min_width": null,
            "border": null,
            "align_items": null,
            "bottom": null,
            "_model_module": "@jupyter-widgets/base",
            "top": null,
            "grid_column": null,
            "overflow_y": null,
            "overflow_x": null,
            "grid_auto_flow": null,
            "grid_area": null,
            "grid_template_columns": null,
            "flex": null,
            "_model_name": "LayoutModel",
            "justify_items": null,
            "grid_row": null,
            "max_height": null,
            "align_content": null,
            "visibility": null,
            "align_self": null,
            "height": null,
            "min_height": null,
            "padding": null,
            "grid_auto_rows": null,
            "grid_gap": null,
            "max_width": null,
            "order": null,
            "_view_module_version": "1.2.0",
            "grid_template_areas": null,
            "object_position": null,
            "object_fit": null,
            "grid_auto_columns": null,
            "margin": null,
            "display": null,
            "left": null
          }
        }
      }
    }
  },
  "cells": [
    {
      "cell_type": "markdown",
      "metadata": {
        "id": "view-in-github",
        "colab_type": "text"
      },
      "source": [
        "<a href=\"https://colab.research.google.com/github/skywalker0803r/c620/blob/main/notebook/experiment/c620_jax.ipynb\" target=\"_parent\"><img src=\"https://colab.research.google.com/assets/colab-badge.svg\" alt=\"Open In Colab\"/></a>"
      ]
    },
    {
      "cell_type": "code",
      "metadata": {
        "colab": {
          "base_uri": "https://localhost:8080/"
        },
        "id": "N_GcWTf47jR5",
        "outputId": "5001e8ed-f819-41ae-b820-3be02e017c4f"
      },
      "source": [
        "!git clone https://github.com/skywalker0803r/c620.git\n",
        "!pip install autorch > log.txt"
      ],
      "execution_count": 1,
      "outputs": [
        {
          "output_type": "stream",
          "text": [
            "fatal: destination path 'c620' already exists and is not an empty directory.\n"
          ],
          "name": "stdout"
        }
      ]
    },
    {
      "cell_type": "code",
      "metadata": {
        "colab": {
          "base_uri": "https://localhost:8080/"
        },
        "id": "hQ25giFw7n5f",
        "outputId": "93592c9b-ffb3-4c01-842e-808aa5c2f675"
      },
      "source": [
        "from c620.F import F\n",
        "from c620.config import config\n",
        "import joblib\n",
        "import pandas as pd\n",
        "from tqdm import tqdm_notebook as tqdm\n",
        "import os\n",
        "import jax.numpy as np\n",
        "from jax import grad, jit, vmap\n",
        "from jax import random\n",
        "from jax import jacfwd, jacrev\n",
        "from jax.numpy import linalg\n",
        "from numpy import nanargmin,nanargmax \n",
        "key = random.PRNGKey(42)\n",
        "\n",
        "os.chdir('/content/c620')\n",
        "print(os.getcwd())\n",
        "!git pull"
      ],
      "execution_count": 2,
      "outputs": [
        {
          "output_type": "stream",
          "text": [
            "WARNING:absl:No GPU/TPU found, falling back to CPU. (Set TF_CPP_MIN_LOG_LEVEL=0 and rerun for more info.)\n"
          ],
          "name": "stderr"
        },
        {
          "output_type": "stream",
          "text": [
            "/content/c620\n",
            "Already up to date.\n"
          ],
          "name": "stdout"
        }
      ]
    },
    {
      "cell_type": "code",
      "metadata": {
        "id": "to9J3FCDxaRU"
      },
      "source": [
        "def sp2wt(x,s):\n",
        "  a = 100*x*s\n",
        "  b = np.diag(x@s.T).reshape(-1,1)\n",
        "  return a/b\n",
        "\n",
        "def j(s,s_):\n",
        "  return np.mean(np.square(s-s_))\n",
        "\n",
        "def g(s_):\n",
        "  return np.sum(np.array([np.square((np.sum(s_[:,[i,i+41,i+41*2,i+41*3]])-1)) for i in range(41)])) # mass balance\n",
        "\n",
        "def h(x,s_,Benzene_in_Sidedraw):\n",
        "  wt_ = sp2wt(x,s_)[0]\n",
        "  return np.mean(np.square(wt_[7]-Benzene_in_Sidedraw)) # Benzene_in_Sidedraw condition"
      ],
      "execution_count": 3,
      "outputs": []
    },
    {
      "cell_type": "code",
      "metadata": {
        "colab": {
          "base_uri": "https://localhost:8080/"
        },
        "id": "lMYK0P8KyJbh",
        "outputId": "87c937e3-73d7-4e3b-b7e4-2ae4de9099c7"
      },
      "source": [
        "import pandas as pd\n",
        "import joblib\n",
        "df = pd.read_csv('/content/drive/MyDrive/台塑輕油案子/data/c620/cleaned/c620_train.csv',index_col=0)\n",
        "idx = df.sample(1).index\n",
        "c = joblib.load('/content/drive/MyDrive/台塑輕油案子/data/c620/col_names/c620_col_names.pkl')\n",
        "sp = df.filter(regex='Split Factors Calculation_Split Factor for Individual Component').loc[idx]\n",
        "feed_col = c['x41']\n",
        "feed = df[feed_col].loc[idx]\n",
        "wt_col = c['vent_gas_x']+c['distillate_x']+c['sidedraw_x']+c['bottoms_x']\n",
        "wt = df[wt_col].loc[idx]\n",
        "case = df.loc[idx,c['case']]\n",
        "Benzene_in_Sidedraw = df.loc[idx,c['case'][2]].to_frame()\n",
        "print(c['sidedraw_x'].index('Tatoray Stripper C620 Operation_Sidedraw Production Rate and Composition_Benzene_wt%'))"
      ],
      "execution_count": 4,
      "outputs": [
        {
          "output_type": "stream",
          "text": [
            "7\n"
          ],
          "name": "stdout"
        }
      ]
    },
    {
      "cell_type": "markdown",
      "metadata": {
        "id": "Io2_1ReF65YL"
      },
      "source": [
        "# forward test"
      ]
    },
    {
      "cell_type": "code",
      "metadata": {
        "id": "5od6hflr76Dz"
      },
      "source": [
        "f = F(config)\n",
        "f.Recommended_mode = False\n",
        "f.real_data_mode = False"
      ],
      "execution_count": 5,
      "outputs": []
    },
    {
      "cell_type": "code",
      "metadata": {
        "colab": {
          "base_uri": "https://localhost:8080/"
        },
        "id": "5n8U5npw0dLP",
        "outputId": "1432fa2b-6527-4650-abcd-1171071c6efd"
      },
      "source": [
        "c620_input = case.join(feed)\n",
        "sp_ = f.c620_model.predict(c620_input).iloc[:,:41*4]\n",
        "print(j(sp.values,sp_.values))\n",
        "print(g(sp.values))\n",
        "print(h(feed.values,sp.values[:,41*2:41*3],Benzene_in_Sidedraw.values))"
      ],
      "execution_count": 6,
      "outputs": [
        {
          "output_type": "stream",
          "text": [
            "1.6338147e-06\n",
            "9.450218e-13\n",
            "0.0\n"
          ],
          "name": "stdout"
        }
      ]
    },
    {
      "cell_type": "code",
      "metadata": {
        "id": "4tLeSKN43-50"
      },
      "source": [
        "def Lagrange(l): \n",
        "  return j(sp.values,l[[0],0:164])- l[0,165]*g(l[[0],0:164]) - l[0,166]*h(feed.values,l[[0],41*2:41*3],Benzene_in_Sidedraw.values)\n",
        "L = jacfwd(Lagrange)\n",
        "def solveLagrangian(l): \n",
        "  return l - 0.1*L(l)  "
      ],
      "execution_count": 7,
      "outputs": []
    },
    {
      "cell_type": "code",
      "metadata": {
        "colab": {
          "base_uri": "https://localhost:8080/",
          "height": 66,
          "referenced_widgets": [
            "6635225e0b01468cb8a3020fc188f6d4",
            "ba4eefa463e04693ae52d59b9bb0ff6a",
            "35b36e2e7f804a83899c99ace67a63d0",
            "98f57f68648e46279e4bbaf0ea17d43d",
            "8118acfa41f14dd5b48a6f117b249c3b",
            "0db645dc955a4281a6b3795e6b66ee3c",
            "613b517b9d2746409b4fa7c69f85a6f0",
            "62bacf12d5024b45bbd049e3d3b7bec5"
          ]
        },
        "id": "I3UFh4n87BfG",
        "outputId": "783d78d3-b06c-40c6-f284-a6a75dff34fe"
      },
      "source": [
        "domain = random.uniform(key, shape=(1,166), dtype='float32',minval=0.0, maxval=1.0)\n",
        "for epoch in tqdm(range(150)):\n",
        "  domain = solveLagrangian(domain)"
      ],
      "execution_count": 8,
      "outputs": [
        {
          "output_type": "display_data",
          "data": {
            "application/vnd.jupyter.widget-view+json": {
              "model_id": "6635225e0b01468cb8a3020fc188f6d4",
              "version_minor": 0,
              "version_major": 2
            },
            "text/plain": [
              "HBox(children=(FloatProgress(value=0.0, max=150.0), HTML(value='')))"
            ]
          },
          "metadata": {
            "tags": []
          }
        },
        {
          "output_type": "stream",
          "text": [
            "\n"
          ],
          "name": "stdout"
        }
      ]
    },
    {
      "cell_type": "code",
      "metadata": {
        "colab": {
          "base_uri": "https://localhost:8080/",
          "height": 369
        },
        "id": "u3GZ4wYa7Bhv",
        "outputId": "e10b48c0-e9ab-47c2-dbeb-4e42eaaa53e5"
      },
      "source": [
        "minimums = j(sp.values,domain[[0],0:164])\n",
        "arglist = nanargmin(minimums)\n",
        "argmin = domain[arglist]\n",
        "minimum = minimums[arglist]"
      ],
      "execution_count": 14,
      "outputs": [
        {
          "output_type": "error",
          "ename": "ValueError",
          "evalue": "ignored",
          "traceback": [
            "\u001b[0;31m---------------------------------------------------------------------------\u001b[0m",
            "\u001b[0;31mValueError\u001b[0m                                Traceback (most recent call last)",
            "\u001b[0;32m<ipython-input-14-bde1420d03f7>\u001b[0m in \u001b[0;36m<module>\u001b[0;34m()\u001b[0m\n\u001b[1;32m      1\u001b[0m \u001b[0mminimums\u001b[0m \u001b[0;34m=\u001b[0m \u001b[0mj\u001b[0m\u001b[0;34m(\u001b[0m\u001b[0msp\u001b[0m\u001b[0;34m.\u001b[0m\u001b[0mvalues\u001b[0m\u001b[0;34m,\u001b[0m\u001b[0mdomain\u001b[0m\u001b[0;34m[\u001b[0m\u001b[0;34m[\u001b[0m\u001b[0;36m0\u001b[0m\u001b[0;34m]\u001b[0m\u001b[0;34m,\u001b[0m\u001b[0;36m0\u001b[0m\u001b[0;34m:\u001b[0m\u001b[0;36m164\u001b[0m\u001b[0;34m]\u001b[0m\u001b[0;34m)\u001b[0m\u001b[0;34m\u001b[0m\u001b[0;34m\u001b[0m\u001b[0m\n\u001b[0;32m----> 2\u001b[0;31m \u001b[0marglist\u001b[0m \u001b[0;34m=\u001b[0m \u001b[0mnanargmin\u001b[0m\u001b[0;34m(\u001b[0m\u001b[0mminimums\u001b[0m\u001b[0;34m)\u001b[0m\u001b[0;34m\u001b[0m\u001b[0;34m\u001b[0m\u001b[0m\n\u001b[0m\u001b[1;32m      3\u001b[0m \u001b[0margmin\u001b[0m \u001b[0;34m=\u001b[0m \u001b[0mdomain\u001b[0m\u001b[0;34m[\u001b[0m\u001b[0marglist\u001b[0m\u001b[0;34m]\u001b[0m\u001b[0;34m\u001b[0m\u001b[0;34m\u001b[0m\u001b[0m\n\u001b[1;32m      4\u001b[0m \u001b[0mminimum\u001b[0m \u001b[0;34m=\u001b[0m \u001b[0mminimums\u001b[0m\u001b[0;34m[\u001b[0m\u001b[0marglist\u001b[0m\u001b[0;34m]\u001b[0m\u001b[0;34m\u001b[0m\u001b[0;34m\u001b[0m\u001b[0m\n",
            "\u001b[0;32m<__array_function__ internals>\u001b[0m in \u001b[0;36mnanargmin\u001b[0;34m(*args, **kwargs)\u001b[0m\n",
            "\u001b[0;32m/usr/local/lib/python3.7/dist-packages/numpy/lib/nanfunctions.py\u001b[0m in \u001b[0;36mnanargmin\u001b[0;34m(a, axis)\u001b[0m\n\u001b[1;32m    497\u001b[0m         \u001b[0mmask\u001b[0m \u001b[0;34m=\u001b[0m \u001b[0mnp\u001b[0m\u001b[0;34m.\u001b[0m\u001b[0mall\u001b[0m\u001b[0;34m(\u001b[0m\u001b[0mmask\u001b[0m\u001b[0;34m,\u001b[0m \u001b[0maxis\u001b[0m\u001b[0;34m=\u001b[0m\u001b[0maxis\u001b[0m\u001b[0;34m)\u001b[0m\u001b[0;34m\u001b[0m\u001b[0;34m\u001b[0m\u001b[0m\n\u001b[1;32m    498\u001b[0m         \u001b[0;32mif\u001b[0m \u001b[0mnp\u001b[0m\u001b[0;34m.\u001b[0m\u001b[0many\u001b[0m\u001b[0;34m(\u001b[0m\u001b[0mmask\u001b[0m\u001b[0;34m)\u001b[0m\u001b[0;34m:\u001b[0m\u001b[0;34m\u001b[0m\u001b[0;34m\u001b[0m\u001b[0m\n\u001b[0;32m--> 499\u001b[0;31m             \u001b[0;32mraise\u001b[0m \u001b[0mValueError\u001b[0m\u001b[0;34m(\u001b[0m\u001b[0;34m\"All-NaN slice encountered\"\u001b[0m\u001b[0;34m)\u001b[0m\u001b[0;34m\u001b[0m\u001b[0;34m\u001b[0m\u001b[0m\n\u001b[0m\u001b[1;32m    500\u001b[0m     \u001b[0;32mreturn\u001b[0m \u001b[0mres\u001b[0m\u001b[0;34m\u001b[0m\u001b[0;34m\u001b[0m\u001b[0m\n\u001b[1;32m    501\u001b[0m \u001b[0;34m\u001b[0m\u001b[0m\n",
            "\u001b[0;31mValueError\u001b[0m: All-NaN slice encountered"
          ]
        }
      ]
    },
    {
      "cell_type": "code",
      "metadata": {
        "id": "5UaGbs59DCoP"
      },
      "source": [
        ""
      ],
      "execution_count": null,
      "outputs": []
    }
  ]
}