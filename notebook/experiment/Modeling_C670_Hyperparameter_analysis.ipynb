{
  "nbformat": 4,
  "nbformat_minor": 0,
  "metadata": {
    "colab": {
      "name": "C620.ipynb",
      "provenance": [],
      "include_colab_link": true
    },
    "kernelspec": {
      "name": "python3",
      "display_name": "Python 3"
    },
    "accelerator": "GPU"
  },
  "cells": [
    {
      "cell_type": "markdown",
      "metadata": {
        "id": "view-in-github",
        "colab_type": "text"
      },
      "source": [
        "<a href=\"https://colab.research.google.com/github/skywalker0803r/c620/blob/main/notebook/experiment/Modeling_C670_Hyperparameter_analysis.ipynb\" target=\"_parent\"><img src=\"https://colab.research.google.com/assets/colab-badge.svg\" alt=\"Open In Colab\"/></a>"
      ]
    },
    {
      "cell_type": "code",
      "metadata": {
        "id": "UlSIoDuFhzeA",
        "colab": {
          "base_uri": "https://localhost:8080/"
        },
        "outputId": "233816d1-01b1-42cd-e9b2-345b251f56eb"
      },
      "source": [
        "import pandas as pd\n",
        "import numpy as np\n",
        "import joblib\n",
        "from google.colab import drive\n",
        "drive.mount('/content/drive')\n",
        "!pip install autorch > log.txt\n",
        "import autorch\n",
        "import torch\n",
        "torch.manual_seed(11)"
      ],
      "execution_count": 1,
      "outputs": [
        {
          "output_type": "stream",
          "text": [
            "Mounted at /content/drive\n"
          ],
          "name": "stdout"
        },
        {
          "output_type": "execute_result",
          "data": {
            "text/plain": [
              "<torch._C.Generator at 0x7fd46677b300>"
            ]
          },
          "metadata": {
            "tags": []
          },
          "execution_count": 1
        }
      ]
    },
    {
      "cell_type": "code",
      "metadata": {
        "id": "5WCNacNLeYe_",
        "colab": {
          "base_uri": "https://localhost:8080/"
        },
        "outputId": "53c87782-e123-4cfa-e4ec-210b978d1884"
      },
      "source": [
        "c = joblib.load('/content/drive/MyDrive/台塑輕油案子/data/c620/col_names/c670_col_names.pkl')\n",
        "c.keys()"
      ],
      "execution_count": 2,
      "outputs": [
        {
          "output_type": "execute_result",
          "data": {
            "text/plain": [
              "dict_keys(['xTray43', 'xTray54', 'combined', 'upper_bf', 'lower_bf', 'yRefluxRate', 'yControl', 'yHeatDuty', 'distillate_x', 'bottoms_x', 'distillate_sf', 'bottoms_sf', 'density'])"
            ]
          },
          "metadata": {
            "tags": []
          },
          "execution_count": 2
        }
      ]
    },
    {
      "cell_type": "code",
      "metadata": {
        "colab": {
          "base_uri": "https://localhost:8080/",
          "height": 412
        },
        "id": "33VeJjbyjuv2",
        "outputId": "e78dd839-9039-49d9-a132-6e61205807a1"
      },
      "source": [
        "c670_df = pd.read_csv('/content/drive/MyDrive/台塑輕油案子/data/c620/cleaned/c670_train.csv',index_col=0).dropna(axis=0)\n",
        "c670_df.head(3)"
      ],
      "execution_count": 3,
      "outputs": [
        {
          "output_type": "execute_result",
          "data": {
            "text/html": [
              "<div>\n",
              "<style scoped>\n",
              "    .dataframe tbody tr th:only-of-type {\n",
              "        vertical-align: middle;\n",
              "    }\n",
              "\n",
              "    .dataframe tbody tr th {\n",
              "        vertical-align: top;\n",
              "    }\n",
              "\n",
              "    .dataframe thead th {\n",
              "        text-align: right;\n",
              "    }\n",
              "</style>\n",
              "<table border=\"1\" class=\"dataframe\">\n",
              "  <thead>\n",
              "    <tr style=\"text-align: right;\">\n",
              "      <th></th>\n",
              "      <th>Combined Feed to Toluene Column C670 @ Tray 43_Flow Rate_Volume Flow Rate_m3/hr</th>\n",
              "      <th>Combined Feed to Toluene Column C670 @ Tray 43_Flow Rate_Mass Flow Rate_ton/hr</th>\n",
              "      <th>Combined Feed to Toluene Column C670 @ Tray 43_Detailed Composition_Hydrogen_wt%</th>\n",
              "      <th>Combined Feed to Toluene Column C670 @ Tray 43_Detailed Composition_Methane_wt%</th>\n",
              "      <th>Combined Feed to Toluene Column C670 @ Tray 43_Detailed Composition_Ethane_wt%</th>\n",
              "      <th>Combined Feed to Toluene Column C670 @ Tray 43_Detailed Composition_Propane_wt%</th>\n",
              "      <th>Combined Feed to Toluene Column C670 @ Tray 43_Detailed Composition_n-Butane_wt%</th>\n",
              "      <th>Combined Feed to Toluene Column C670 @ Tray 43_Detailed Composition_n-Pentane_wt%</th>\n",
              "      <th>Combined Feed to Toluene Column C670 @ Tray 43_Detailed Composition_n-Hexane_wt%</th>\n",
              "      <th>Combined Feed to Toluene Column C670 @ Tray 43_Detailed Composition_Benzene_wt%</th>\n",
              "      <th>Combined Feed to Toluene Column C670 @ Tray 43_Detailed Composition_Cyclohexane_wt%</th>\n",
              "      <th>Combined Feed to Toluene Column C670 @ Tray 43_Detailed Composition_n-Heptane_wt%</th>\n",
              "      <th>Combined Feed to Toluene Column C670 @ Tray 43_Detailed Composition_Water_wt%</th>\n",
              "      <th>Combined Feed to Toluene Column C670 @ Tray 43_Detailed Composition_Methylcyclohexane_wt%</th>\n",
              "      <th>Combined Feed to Toluene Column C670 @ Tray 43_Detailed Composition_Toluene_wt%</th>\n",
              "      <th>Combined Feed to Toluene Column C670 @ Tray 43_Detailed Composition_n-Octane_wt%</th>\n",
              "      <th>Combined Feed to Toluene Column C670 @ Tray 43_Detailed Composition_n-Propylcyclopentane_wt%</th>\n",
              "      <th>Combined Feed to Toluene Column C670 @ Tray 43_Detailed Composition_Ethylcyclohexane_wt%</th>\n",
              "      <th>Combined Feed to Toluene Column C670 @ Tray 43_Detailed Composition_Ethylbenzene_wt%</th>\n",
              "      <th>Combined Feed to Toluene Column C670 @ Tray 43_Detailed Composition_p-Xylene_wt%</th>\n",
              "      <th>Combined Feed to Toluene Column C670 @ Tray 43_Detailed Composition_m-Xylene_wt%</th>\n",
              "      <th>Combined Feed to Toluene Column C670 @ Tray 43_Detailed Composition_o-Xylene_wt%</th>\n",
              "      <th>Combined Feed to Toluene Column C670 @ Tray 43_Detailed Composition_n-Nonane_wt%</th>\n",
              "      <th>Combined Feed to Toluene Column C670 @ Tray 43_Detailed Composition_i-Propylbenzene_wt%</th>\n",
              "      <th>Combined Feed to Toluene Column C670 @ Tray 43_Detailed Composition_n-Propylcyclohexane_wt%</th>\n",
              "      <th>Combined Feed to Toluene Column C670 @ Tray 43_Detailed Composition_n-Propylbenzene_wt%</th>\n",
              "      <th>Combined Feed to Toluene Column C670 @ Tray 43_Detailed Composition_1-Methyl-3-ethylbenzene_wt%</th>\n",
              "      <th>Combined Feed to Toluene Column C670 @ Tray 43_Detailed Composition_1-Methyl-4-ethylbenzene_wt%</th>\n",
              "      <th>Combined Feed to Toluene Column C670 @ Tray 43_Detailed Composition_1,3,5-Trimethylbenzene_wt%</th>\n",
              "      <th>Combined Feed to Toluene Column C670 @ Tray 43_Detailed Composition_1-Methyl-2-ethylbenzene_wt%</th>\n",
              "      <th>Combined Feed to Toluene Column C670 @ Tray 43_Detailed Composition_1,2,4-Trimethylbenzene_wt%</th>\n",
              "      <th>Combined Feed to Toluene Column C670 @ Tray 43_Detailed Composition_tert-Butylcyclohexane_wt%</th>\n",
              "      <th>Combined Feed to Toluene Column C670 @ Tray 43_Detailed Composition_1,2,3-Trimethylbenzene_wt%</th>\n",
              "      <th>Combined Feed to Toluene Column C670 @ Tray 43_Detailed Composition_Indane_wt%</th>\n",
              "      <th>Combined Feed to Toluene Column C670 @ Tray 43_Detailed Composition_1-Methyl-4-n-propylbenzene_wt%</th>\n",
              "      <th>Combined Feed to Toluene Column C670 @ Tray 43_Detailed Composition_1,2-Diethylbenzene_wt%</th>\n",
              "      <th>Combined Feed to Toluene Column C670 @ Tray 43_Detailed Composition_5-Ethyl-m-xylene_wt%</th>\n",
              "      <th>Combined Feed to Toluene Column C670 @ Tray 43_Detailed Composition_1,4-Diethylbenzene_wt%</th>\n",
              "      <th>Combined Feed to Toluene Column C670 @ Tray 43_Detailed Composition_1,2,3,5-Tetramethylbenzene_wt%</th>\n",
              "      <th>Combined Feed to Toluene Column C670 @ Tray 43_Detailed Composition_n-Pentylbenzene_wt%</th>\n",
              "      <th>...</th>\n",
              "      <th>Toluene Column C670 Feed Blending Factors Calculation_Lower Feed Blending Factor @ Tray 54 for Individual Component to Toluene Column C670_Propane_Fraction</th>\n",
              "      <th>Toluene Column C670 Feed Blending Factors Calculation_Lower Feed Blending Factor @ Tray 54 for Individual Component to Toluene Column C670_n-Butane_Fraction</th>\n",
              "      <th>Toluene Column C670 Feed Blending Factors Calculation_Lower Feed Blending Factor @ Tray 54 for Individual Component to Toluene Column C670_n-Pentane_Fraction</th>\n",
              "      <th>Toluene Column C670 Feed Blending Factors Calculation_Lower Feed Blending Factor @ Tray 54 for Individual Component to Toluene Column C670_n-Hexane_Fraction</th>\n",
              "      <th>Toluene Column C670 Feed Blending Factors Calculation_Lower Feed Blending Factor @ Tray 54 for Individual Component to Toluene Column C670_Benzene_Fraction</th>\n",
              "      <th>Toluene Column C670 Feed Blending Factors Calculation_Lower Feed Blending Factor @ Tray 54 for Individual Component to Toluene Column C670_Cyclohexane_Fraction</th>\n",
              "      <th>Toluene Column C670 Feed Blending Factors Calculation_Lower Feed Blending Factor @ Tray 54 for Individual Component to Toluene Column C670_n-Heptane_Fraction</th>\n",
              "      <th>Toluene Column C670 Feed Blending Factors Calculation_Lower Feed Blending Factor @ Tray 54 for Individual Component to Toluene Column C670_Water_Fraction</th>\n",
              "      <th>Toluene Column C670 Feed Blending Factors Calculation_Lower Feed Blending Factor @ Tray 54 for Individual Component to Toluene Column C670_Methylcyclohexane_Fraction</th>\n",
              "      <th>Toluene Column C670 Feed Blending Factors Calculation_Lower Feed Blending Factor @ Tray 54 for Individual Component to Toluene Column C670_Toluene_Fraction</th>\n",
              "      <th>Toluene Column C670 Feed Blending Factors Calculation_Lower Feed Blending Factor @ Tray 54 for Individual Component to Toluene Column C670_n-Octane_Fraction</th>\n",
              "      <th>Toluene Column C670 Feed Blending Factors Calculation_Lower Feed Blending Factor @ Tray 54 for Individual Component to Toluene Column C670_n-Propylcyclopentane_Fraction</th>\n",
              "      <th>Toluene Column C670 Feed Blending Factors Calculation_Lower Feed Blending Factor @ Tray 54 for Individual Component to Toluene Column C670_Ethylcyclohexane_Fraction</th>\n",
              "      <th>Toluene Column C670 Feed Blending Factors Calculation_Lower Feed Blending Factor @ Tray 54 for Individual Component to Toluene Column C670_Ethylbenzene_Fraction</th>\n",
              "      <th>Toluene Column C670 Feed Blending Factors Calculation_Lower Feed Blending Factor @ Tray 54 for Individual Component to Toluene Column C670_p-Xylene_Fraction</th>\n",
              "      <th>Toluene Column C670 Feed Blending Factors Calculation_Lower Feed Blending Factor @ Tray 54 for Individual Component to Toluene Column C670_m-Xylene_Fraction</th>\n",
              "      <th>Toluene Column C670 Feed Blending Factors Calculation_Lower Feed Blending Factor @ Tray 54 for Individual Component to Toluene Column C670_o-Xylene_Fraction</th>\n",
              "      <th>Toluene Column C670 Feed Blending Factors Calculation_Lower Feed Blending Factor @ Tray 54 for Individual Component to Toluene Column C670_n-Nonane_Fraction</th>\n",
              "      <th>Toluene Column C670 Feed Blending Factors Calculation_Lower Feed Blending Factor @ Tray 54 for Individual Component to Toluene Column C670_i-Propylbenzene_Fraction</th>\n",
              "      <th>Toluene Column C670 Feed Blending Factors Calculation_Lower Feed Blending Factor @ Tray 54 for Individual Component to Toluene Column C670_n-Propylcyclohexane_Fraction</th>\n",
              "      <th>Toluene Column C670 Feed Blending Factors Calculation_Lower Feed Blending Factor @ Tray 54 for Individual Component to Toluene Column C670_n-Propylbenzene_Fraction</th>\n",
              "      <th>Toluene Column C670 Feed Blending Factors Calculation_Lower Feed Blending Factor @ Tray 54 for Individual Component to Toluene Column C670_1-Methyl-3-ethylbenzene_Fraction</th>\n",
              "      <th>Toluene Column C670 Feed Blending Factors Calculation_Lower Feed Blending Factor @ Tray 54 for Individual Component to Toluene Column C670_1-Methyl-4-ethylbenzene_Fraction</th>\n",
              "      <th>Toluene Column C670 Feed Blending Factors Calculation_Lower Feed Blending Factor @ Tray 54 for Individual Component to Toluene Column C670_1,3,5-Trimethylbenzene_Fraction</th>\n",
              "      <th>Toluene Column C670 Feed Blending Factors Calculation_Lower Feed Blending Factor @ Tray 54 for Individual Component to Toluene Column C670_1-Methyl-2-ethylbenzene_Fraction</th>\n",
              "      <th>Toluene Column C670 Feed Blending Factors Calculation_Lower Feed Blending Factor @ Tray 54 for Individual Component to Toluene Column C670_1,2,4-Trimethylbenzene_Fraction</th>\n",
              "      <th>Toluene Column C670 Feed Blending Factors Calculation_Lower Feed Blending Factor @ Tray 54 for Individual Component to Toluene Column C670_tert-Butylcyclohexane_Fraction</th>\n",
              "      <th>Toluene Column C670 Feed Blending Factors Calculation_Lower Feed Blending Factor @ Tray 54 for Individual Component to Toluene Column C670_1,2,3-Trimethylbenzene_Fraction</th>\n",
              "      <th>Toluene Column C670 Feed Blending Factors Calculation_Lower Feed Blending Factor @ Tray 54 for Individual Component to Toluene Column C670_Indane_Fraction</th>\n",
              "      <th>Toluene Column C670 Feed Blending Factors Calculation_Lower Feed Blending Factor @ Tray 54 for Individual Component to Toluene Column C670_1-Methyl-4-n-propylbenzene_Fraction</th>\n",
              "      <th>Toluene Column C670 Feed Blending Factors Calculation_Lower Feed Blending Factor @ Tray 54 for Individual Component to Toluene Column C670_1,2-Diethylbenzene_Fraction</th>\n",
              "      <th>Toluene Column C670 Feed Blending Factors Calculation_Lower Feed Blending Factor @ Tray 54 for Individual Component to Toluene Column C670_5-Ethyl-m-xylene_Fraction</th>\n",
              "      <th>Toluene Column C670 Feed Blending Factors Calculation_Lower Feed Blending Factor @ Tray 54 for Individual Component to Toluene Column C670_1,4-Diethylbenzene_Fraction</th>\n",
              "      <th>Toluene Column C670 Feed Blending Factors Calculation_Lower Feed Blending Factor @ Tray 54 for Individual Component to Toluene Column C670_1,2,3,5-Tetramethylbenzene_Fraction</th>\n",
              "      <th>Toluene Column C670 Feed Blending Factors Calculation_Lower Feed Blending Factor @ Tray 54 for Individual Component to Toluene Column C670_n-Pentylbenzene_Fraction</th>\n",
              "      <th>Toluene Column C670 Feed Blending Factors Calculation_Lower Feed Blending Factor @ Tray 54 for Individual Component to Toluene Column C670_n-Hexylbenzene_Fraction</th>\n",
              "      <th>Toluene Column C670 Feed Blending Factors Calculation_Lower Feed Blending Factor @ Tray 54 for Individual Component to Toluene Column C670_Nitrogen_Fraction</th>\n",
              "      <th>Toluene Column C670 Feed Blending Factors Calculation_Lower Feed Blending Factor @ Tray 54 for Individual Component to Toluene Column C670_Oxygen_Fraction</th>\n",
              "      <th>Density_Distillate Production Rate and Composition</th>\n",
              "      <th>Density_Bottoms Production Rate and Composition</th>\n",
              "    </tr>\n",
              "  </thead>\n",
              "  <tbody>\n",
              "    <tr>\n",
              "      <th>001-001</th>\n",
              "      <td>20.862091</td>\n",
              "      <td>18.150902</td>\n",
              "      <td>0.0</td>\n",
              "      <td>0.0</td>\n",
              "      <td>0.0</td>\n",
              "      <td>0.0</td>\n",
              "      <td>2.167861e-28</td>\n",
              "      <td>1.344560e-20</td>\n",
              "      <td>9.570967e-13</td>\n",
              "      <td>0.005</td>\n",
              "      <td>2.168827e-07</td>\n",
              "      <td>0.000122</td>\n",
              "      <td>0.0</td>\n",
              "      <td>0.037635</td>\n",
              "      <td>83.034882</td>\n",
              "      <td>0.085205</td>\n",
              "      <td>0.073875</td>\n",
              "      <td>0.060417</td>\n",
              "      <td>9.330726</td>\n",
              "      <td>1.883749</td>\n",
              "      <td>3.926449</td>\n",
              "      <td>1.089032</td>\n",
              "      <td>0.132519</td>\n",
              "      <td>5.814274e-08</td>\n",
              "      <td>0.294220</td>\n",
              "      <td>1.012639e-08</td>\n",
              "      <td>0.003401</td>\n",
              "      <td>0.003399</td>\n",
              "      <td>0.006642</td>\n",
              "      <td>0.001699</td>\n",
              "      <td>0.001699</td>\n",
              "      <td>0.023476</td>\n",
              "      <td>1.160748e-08</td>\n",
              "      <td>5.017424e-10</td>\n",
              "      <td>0.004633</td>\n",
              "      <td>0.001236</td>\n",
              "      <td>1.800824e-09</td>\n",
              "      <td>0.0</td>\n",
              "      <td>1.930303e-11</td>\n",
              "      <td>9.245749e-13</td>\n",
              "      <td>...</td>\n",
              "      <td>0.9</td>\n",
              "      <td>0.9</td>\n",
              "      <td>0.9</td>\n",
              "      <td>0.9</td>\n",
              "      <td>0.997104</td>\n",
              "      <td>0.999841</td>\n",
              "      <td>0.995785</td>\n",
              "      <td>0.9</td>\n",
              "      <td>0.680424</td>\n",
              "      <td>0.791371</td>\n",
              "      <td>0.440660</td>\n",
              "      <td>0.524497</td>\n",
              "      <td>0.574302</td>\n",
              "      <td>0.459825</td>\n",
              "      <td>0.970367</td>\n",
              "      <td>0.971671</td>\n",
              "      <td>0.980605</td>\n",
              "      <td>0.471721</td>\n",
              "      <td>0.999999</td>\n",
              "      <td>0.070655</td>\n",
              "      <td>1.0</td>\n",
              "      <td>0.999552</td>\n",
              "      <td>0.999146</td>\n",
              "      <td>0.99967</td>\n",
              "      <td>0.99924</td>\n",
              "      <td>0.999967</td>\n",
              "      <td>0.0</td>\n",
              "      <td>1.0</td>\n",
              "      <td>1.0</td>\n",
              "      <td>0.625366</td>\n",
              "      <td>0.993102</td>\n",
              "      <td>1.0</td>\n",
              "      <td>1.0</td>\n",
              "      <td>1.0</td>\n",
              "      <td>1.0</td>\n",
              "      <td>1.0</td>\n",
              "      <td>0.0</td>\n",
              "      <td>0.0</td>\n",
              "      <td>0.870898</td>\n",
              "      <td>0.872382</td>\n",
              "    </tr>\n",
              "    <tr>\n",
              "      <th>001-002</th>\n",
              "      <td>20.862698</td>\n",
              "      <td>18.151391</td>\n",
              "      <td>0.0</td>\n",
              "      <td>0.0</td>\n",
              "      <td>0.0</td>\n",
              "      <td>0.0</td>\n",
              "      <td>1.930546e-28</td>\n",
              "      <td>1.169870e-20</td>\n",
              "      <td>8.511586e-13</td>\n",
              "      <td>0.005</td>\n",
              "      <td>1.959869e-07</td>\n",
              "      <td>0.000119</td>\n",
              "      <td>0.0</td>\n",
              "      <td>0.039443</td>\n",
              "      <td>83.033501</td>\n",
              "      <td>0.085216</td>\n",
              "      <td>0.073873</td>\n",
              "      <td>0.060416</td>\n",
              "      <td>9.330474</td>\n",
              "      <td>1.883698</td>\n",
              "      <td>3.926343</td>\n",
              "      <td>1.089003</td>\n",
              "      <td>0.132516</td>\n",
              "      <td>5.813697e-08</td>\n",
              "      <td>0.294212</td>\n",
              "      <td>1.012536e-08</td>\n",
              "      <td>0.003401</td>\n",
              "      <td>0.003399</td>\n",
              "      <td>0.006642</td>\n",
              "      <td>0.001699</td>\n",
              "      <td>0.001699</td>\n",
              "      <td>0.023475</td>\n",
              "      <td>1.160625e-08</td>\n",
              "      <td>5.016892e-10</td>\n",
              "      <td>0.004633</td>\n",
              "      <td>0.001236</td>\n",
              "      <td>1.800631e-09</td>\n",
              "      <td>0.0</td>\n",
              "      <td>1.930091e-11</td>\n",
              "      <td>9.244734e-13</td>\n",
              "      <td>...</td>\n",
              "      <td>0.9</td>\n",
              "      <td>0.9</td>\n",
              "      <td>0.9</td>\n",
              "      <td>0.9</td>\n",
              "      <td>0.997104</td>\n",
              "      <td>0.999857</td>\n",
              "      <td>0.995904</td>\n",
              "      <td>0.9</td>\n",
              "      <td>0.670127</td>\n",
              "      <td>0.791369</td>\n",
              "      <td>0.440622</td>\n",
              "      <td>0.524497</td>\n",
              "      <td>0.574302</td>\n",
              "      <td>0.459825</td>\n",
              "      <td>0.970367</td>\n",
              "      <td>0.971671</td>\n",
              "      <td>0.980605</td>\n",
              "      <td>0.471721</td>\n",
              "      <td>0.999999</td>\n",
              "      <td>0.070655</td>\n",
              "      <td>1.0</td>\n",
              "      <td>0.999552</td>\n",
              "      <td>0.999146</td>\n",
              "      <td>0.99967</td>\n",
              "      <td>0.99924</td>\n",
              "      <td>0.999967</td>\n",
              "      <td>0.0</td>\n",
              "      <td>1.0</td>\n",
              "      <td>1.0</td>\n",
              "      <td>0.625366</td>\n",
              "      <td>0.993102</td>\n",
              "      <td>1.0</td>\n",
              "      <td>1.0</td>\n",
              "      <td>1.0</td>\n",
              "      <td>1.0</td>\n",
              "      <td>1.0</td>\n",
              "      <td>0.0</td>\n",
              "      <td>0.0</td>\n",
              "      <td>0.870897</td>\n",
              "      <td>0.872382</td>\n",
              "    </tr>\n",
              "    <tr>\n",
              "      <th>001-003</th>\n",
              "      <td>20.863127</td>\n",
              "      <td>18.151730</td>\n",
              "      <td>0.0</td>\n",
              "      <td>0.0</td>\n",
              "      <td>0.0</td>\n",
              "      <td>0.0</td>\n",
              "      <td>1.724335e-28</td>\n",
              "      <td>1.015723e-20</td>\n",
              "      <td>7.531505e-13</td>\n",
              "      <td>0.005</td>\n",
              "      <td>1.760106e-07</td>\n",
              "      <td>0.000115</td>\n",
              "      <td>0.0</td>\n",
              "      <td>0.040829</td>\n",
              "      <td>83.032433</td>\n",
              "      <td>0.085222</td>\n",
              "      <td>0.073872</td>\n",
              "      <td>0.060415</td>\n",
              "      <td>9.330300</td>\n",
              "      <td>1.883663</td>\n",
              "      <td>3.926270</td>\n",
              "      <td>1.088982</td>\n",
              "      <td>0.132513</td>\n",
              "      <td>5.813797e-08</td>\n",
              "      <td>0.294206</td>\n",
              "      <td>1.012555e-08</td>\n",
              "      <td>0.003401</td>\n",
              "      <td>0.003399</td>\n",
              "      <td>0.006642</td>\n",
              "      <td>0.001699</td>\n",
              "      <td>0.001699</td>\n",
              "      <td>0.023475</td>\n",
              "      <td>1.160650e-08</td>\n",
              "      <td>5.017000e-10</td>\n",
              "      <td>0.004633</td>\n",
              "      <td>0.001236</td>\n",
              "      <td>1.800671e-09</td>\n",
              "      <td>0.0</td>\n",
              "      <td>1.930137e-11</td>\n",
              "      <td>9.244957e-13</td>\n",
              "      <td>...</td>\n",
              "      <td>0.9</td>\n",
              "      <td>0.9</td>\n",
              "      <td>0.9</td>\n",
              "      <td>0.9</td>\n",
              "      <td>0.997104</td>\n",
              "      <td>0.999871</td>\n",
              "      <td>0.996029</td>\n",
              "      <td>0.9</td>\n",
              "      <td>0.662446</td>\n",
              "      <td>0.791368</td>\n",
              "      <td>0.440601</td>\n",
              "      <td>0.524497</td>\n",
              "      <td>0.574302</td>\n",
              "      <td>0.459825</td>\n",
              "      <td>0.970367</td>\n",
              "      <td>0.971671</td>\n",
              "      <td>0.980605</td>\n",
              "      <td>0.471721</td>\n",
              "      <td>0.999999</td>\n",
              "      <td>0.070655</td>\n",
              "      <td>1.0</td>\n",
              "      <td>0.999552</td>\n",
              "      <td>0.999146</td>\n",
              "      <td>0.99967</td>\n",
              "      <td>0.99924</td>\n",
              "      <td>0.999967</td>\n",
              "      <td>0.0</td>\n",
              "      <td>1.0</td>\n",
              "      <td>1.0</td>\n",
              "      <td>0.625366</td>\n",
              "      <td>0.993102</td>\n",
              "      <td>1.0</td>\n",
              "      <td>1.0</td>\n",
              "      <td>1.0</td>\n",
              "      <td>1.0</td>\n",
              "      <td>1.0</td>\n",
              "      <td>0.0</td>\n",
              "      <td>0.0</td>\n",
              "      <td>0.870897</td>\n",
              "      <td>0.872382</td>\n",
              "    </tr>\n",
              "  </tbody>\n",
              "</table>\n",
              "<p>3 rows × 424 columns</p>\n",
              "</div>"
            ],
            "text/plain": [
              "         Combined Feed to Toluene Column C670 @ Tray 43_Flow Rate_Volume Flow Rate_m3/hr  ...  Density_Bottoms Production Rate and Composition\n",
              "001-001                                          20.862091                                ...                                         0.872382\n",
              "001-002                                          20.862698                                ...                                         0.872382\n",
              "001-003                                          20.863127                                ...                                         0.872382\n",
              "\n",
              "[3 rows x 424 columns]"
            ]
          },
          "metadata": {
            "tags": []
          },
          "execution_count": 3
        }
      ]
    },
    {
      "cell_type": "markdown",
      "metadata": {
        "id": "-ScvWs-6bRQC"
      },
      "source": [
        "# 欄位定義"
      ]
    },
    {
      "cell_type": "markdown",
      "metadata": {
        "id": "T4eywG3jFVXS"
      },
      "source": [
        "由於 upper + lower 一定等於 1 所以知道upper就可以知道lower"
      ]
    },
    {
      "cell_type": "code",
      "metadata": {
        "id": "48dNUI3Mki6g",
        "colab": {
          "base_uri": "https://localhost:8080/"
        },
        "outputId": "b4ba3dad-79ad-4f8d-b909-df9ce5278489"
      },
      "source": [
        "np.allclose(c670_df[c['upper_bf']].values+c670_df[c['lower_bf']].values,1.0)"
      ],
      "execution_count": 4,
      "outputs": [
        {
          "output_type": "execute_result",
          "data": {
            "text/plain": [
              "True"
            ]
          },
          "metadata": {
            "tags": []
          },
          "execution_count": 4
        }
      ]
    },
    {
      "cell_type": "code",
      "metadata": {
        "id": "hxVk2AyaFLN_",
        "colab": {
          "base_uri": "https://localhost:8080/"
        },
        "outputId": "26b9689e-b11e-438f-a4c1-f40c953291bf"
      },
      "source": [
        "# 根據條件修改值\n",
        "a = c670_df[c['upper_bf']+c['lower_bf']]\n",
        "紫色零點零欄位 = a[a==0.0].dropna(axis=1).columns.tolist()\n",
        "紫色零點一欄位 = a[a==0.1].dropna(axis=1).columns.tolist()\n",
        "紫色零點九欄位 = a[a==0.9].dropna(axis=1).columns.tolist()\n",
        "紫色一點零欄位 = a[a==1.0].dropna(axis=1).columns.tolist()\n",
        "print('修改欄位數量:',len(紫色零點零欄位+紫色零點一欄位+紫色零點九欄位+紫色一點零欄位))\n",
        "c670_df.loc[:,紫色零點零欄位] = 0.0001 \n",
        "c670_df.loc[:,紫色零點一欄位] = 0.0001 \n",
        "c670_df.loc[:,紫色零點九欄位] = 0.9999\n",
        "c670_df.loc[:,紫色一點零欄位] = 0.9999\n",
        "c670_df[紫色零點零欄位+紫色零點一欄位+紫色零點九欄位+紫色一點零欄位].head()\n",
        "\n",
        "# 確認質量平衡\n",
        "print(np.allclose(c670_df[c['upper_bf']].values+c670_df[c['lower_bf']].values,1.0))\n"
      ],
      "execution_count": 5,
      "outputs": [
        {
          "output_type": "stream",
          "text": [
            "修改欄位數量: 24\n",
            "True\n"
          ],
          "name": "stdout"
        }
      ]
    },
    {
      "cell_type": "code",
      "metadata": {
        "id": "ypS5qeezROQ6",
        "colab": {
          "base_uri": "https://localhost:8080/"
        },
        "outputId": "9ed9aa80-ea0a-4fb5-a222-ce6879d330a9"
      },
      "source": [
        "x_col = c['combined'] + c['upper_bf']# + c['lower_bf']\n",
        "s_col = c['distillate_sf']+c['bottoms_sf']\n",
        "wt_col = c['distillate_x']+c['bottoms_x']\n",
        "op_col = c['density']+c['yRefluxRate']+c['yHeatDuty']+c['yControl']\n",
        "y_col = s_col + op_col\n",
        "len(x_col),len(y_col)"
      ],
      "execution_count": 6,
      "outputs": [
        {
          "output_type": "execute_result",
          "data": {
            "text/plain": [
              "(82, 89)"
            ]
          },
          "metadata": {
            "tags": []
          },
          "execution_count": 6
        }
      ]
    },
    {
      "cell_type": "code",
      "metadata": {
        "id": "AG4gdx0jnZ-R"
      },
      "source": [
        "c670_df.loc[['001-002', '001-005', '001-008', '001-011', '001-014'],\n",
        "            x_col+y_col].to_excel('/content/drive/MyDrive/台塑輕油案子/data/c620/Data_format_example/c670_data.xlsx')"
      ],
      "execution_count": 7,
      "outputs": []
    },
    {
      "cell_type": "code",
      "metadata": {
        "id": "LAFw0WqdMFQt"
      },
      "source": [
        "n_idx = [[i,i+41] for i in range(41)]\r\n",
        "for idx in n_idx:\r\n",
        "  assert np.allclose(c670_df[y_col].iloc[:,idx].sum(axis=1).mean(),1.0)"
      ],
      "execution_count": 8,
      "outputs": []
    },
    {
      "cell_type": "markdown",
      "metadata": {
        "id": "4MTE-I6lbU8a"
      },
      "source": [
        "# train"
      ]
    },
    {
      "cell_type": "code",
      "metadata": {
        "colab": {
          "base_uri": "https://localhost:8080/",
          "height": 1000
        },
        "id": "3z_h7BbOpxJ-",
        "outputId": "37096c71-728f-4d16-fdb5-9556a0284251"
      },
      "source": [
        "from autorch.utils import PartBulider\n",
        "from torch import nn\n",
        "from torch.optim import Adam\n",
        "\n",
        "\n",
        "table = pd.DataFrame(index=[2,3,4],columns=[64,128,256])\n",
        "for m in [2,3,4]:\n",
        "  for n in [64,128,256]:\n",
        "    c670 = PartBulider(c670_df,x_col,y_col,normalize_idx_list=n_idx,limit_y_range=True,device='cuda:0',max_epochs=150)\n",
        "    modules = []\n",
        "    modules.append(nn.Sequential(nn.Linear(len(x_col),n),nn.ReLU()))\n",
        "    for i in range(m-1):\n",
        "      modules.append(nn.Sequential(nn.Linear(n,n),nn.ReLU()))\n",
        "    modules.append(nn.Sequential(nn.Linear(n,len(y_col),nn.Sigmoid())))\n",
        "    c670.net = nn.Sequential(*modules).cuda()\n",
        "    c670.optimizer = Adam(c670.net.parameters())\n",
        "    c670.train()\n",
        "    table.loc[m,n] = c670.test(e=0.02).loc['AVG','MSE']\n",
        "    print(table)"
      ],
      "execution_count": 9,
      "outputs": [
        {
          "output_type": "stream",
          "text": [
            "  1%|          | 1/150 [00:01<02:31,  1.02s/it]"
          ],
          "name": "stderr"
        },
        {
          "output_type": "stream",
          "text": [
            "epoch:0 train_loss:0.0158 valid_loss:0.0038\n"
          ],
          "name": "stdout"
        },
        {
          "output_type": "stream",
          "text": [
            " 34%|███▍      | 51/150 [00:34<01:07,  1.46it/s]"
          ],
          "name": "stderr"
        },
        {
          "output_type": "stream",
          "text": [
            "epoch:50 train_loss:0.0020 valid_loss:0.0021\n"
          ],
          "name": "stdout"
        },
        {
          "output_type": "stream",
          "text": [
            " 67%|██████▋   | 101/150 [01:06<00:32,  1.50it/s]"
          ],
          "name": "stderr"
        },
        {
          "output_type": "stream",
          "text": [
            "epoch:100 train_loss:0.0019 valid_loss:0.0019\n"
          ],
          "name": "stdout"
        },
        {
          "output_type": "stream",
          "text": [
            "100%|██████████| 150/150 [01:38<00:00,  1.52it/s]\n"
          ],
          "name": "stderr"
        },
        {
          "output_type": "display_data",
          "data": {
            "image/png": "[encoded data removed]",
            "text/plain": [
              "<Figure size 432x288 with 1 Axes>"
            ]
          },
          "metadata": {
            "tags": [],
            "needs_background": "light"
          }
        },
        {
          "output_type": "stream",
          "text": [
            "\r  0%|          | 0/150 [00:00<?, ?it/s]"
          ],
          "name": "stderr"
        },
        {
          "output_type": "stream",
          "text": [
            "         64   128  256\n",
            "2  0.0299905  NaN  NaN\n",
            "3        NaN  NaN  NaN\n",
            "4        NaN  NaN  NaN\n"
          ],
          "name": "stdout"
        },
        {
          "output_type": "stream",
          "text": [
            "\r  1%|          | 1/150 [00:00<01:40,  1.48it/s]"
          ],
          "name": "stderr"
        },
        {
          "output_type": "stream",
          "text": [
            "epoch:0 train_loss:0.0117 valid_loss:0.0031\n"
          ],
          "name": "stdout"
        },
        {
          "output_type": "stream",
          "text": [
            " 34%|███▍      | 51/150 [00:32<01:07,  1.47it/s]"
          ],
          "name": "stderr"
        },
        {
          "output_type": "stream",
          "text": [
            "epoch:50 train_loss:0.0019 valid_loss:0.0020\n"
          ],
          "name": "stdout"
        },
        {
          "output_type": "stream",
          "text": [
            " 67%|██████▋   | 101/150 [01:03<00:30,  1.63it/s]"
          ],
          "name": "stderr"
        },
        {
          "output_type": "stream",
          "text": [
            "epoch:100 train_loss:0.0017 valid_loss:0.0019\n"
          ],
          "name": "stdout"
        },
        {
          "output_type": "stream",
          "text": [
            "100%|██████████| 150/150 [01:35<00:00,  1.58it/s]\n"
          ],
          "name": "stderr"
        },
        {
          "output_type": "display_data",
          "data": {
            "image/png": "[encoded data removed]",
            "text/plain": [
              "<Figure size 432x288 with 1 Axes>"
            ]
          },
          "metadata": {
            "tags": [],
            "needs_background": "light"
          }
        },
        {
          "output_type": "stream",
          "text": [
            "\r  0%|          | 0/150 [00:00<?, ?it/s]"
          ],
          "name": "stderr"
        },
        {
          "output_type": "stream",
          "text": [
            "         64        128  256\n",
            "2  0.0299905  0.218815  NaN\n",
            "3        NaN       NaN  NaN\n",
            "4        NaN       NaN  NaN\n"
          ],
          "name": "stdout"
        },
        {
          "output_type": "stream",
          "text": [
            "\r  1%|          | 1/150 [00:00<01:55,  1.29it/s]"
          ],
          "name": "stderr"
        },
        {
          "output_type": "stream",
          "text": [
            "epoch:0 train_loss:0.0084 valid_loss:0.0025\n"
          ],
          "name": "stdout"
        },
        {
          "output_type": "stream",
          "text": [
            " 34%|███▍      | 51/150 [00:32<01:04,  1.53it/s]"
          ],
          "name": "stderr"
        },
        {
          "output_type": "stream",
          "text": [
            "epoch:50 train_loss:0.0018 valid_loss:0.0017\n"
          ],
          "name": "stdout"
        },
        {
          "output_type": "stream",
          "text": [
            " 67%|██████▋   | 101/150 [01:05<00:30,  1.60it/s]"
          ],
          "name": "stderr"
        },
        {
          "output_type": "stream",
          "text": [
            "epoch:100 train_loss:0.0016 valid_loss:0.0016\n"
          ],
          "name": "stdout"
        },
        {
          "output_type": "stream",
          "text": [
            "100%|██████████| 150/150 [01:36<00:00,  1.55it/s]\n"
          ],
          "name": "stderr"
        },
        {
          "output_type": "display_data",
          "data": {
            "image/png": "[encoded data removed]",
            "text/plain": [
              "<Figure size 432x288 with 1 Axes>"
            ]
          },
          "metadata": {
            "tags": [],
            "needs_background": "light"
          }
        },
        {
          "output_type": "stream",
          "text": [
            "\r  0%|          | 0/150 [00:00<?, ?it/s]"
          ],
          "name": "stderr"
        },
        {
          "output_type": "stream",
          "text": [
            "         64        128        256\n",
            "2  0.0299905  0.218815  0.0451385\n",
            "3        NaN       NaN        NaN\n",
            "4        NaN       NaN        NaN\n"
          ],
          "name": "stdout"
        },
        {
          "output_type": "stream",
          "text": [
            "\r  1%|          | 1/150 [00:00<01:42,  1.45it/s]"
          ],
          "name": "stderr"
        },
        {
          "output_type": "stream",
          "text": [
            "epoch:0 train_loss:0.0172 valid_loss:0.0040\n"
          ],
          "name": "stdout"
        },
        {
          "output_type": "stream",
          "text": [
            " 34%|███▍      | 51/150 [00:35<01:07,  1.47it/s]"
          ],
          "name": "stderr"
        },
        {
          "output_type": "stream",
          "text": [
            "epoch:50 train_loss:0.0020 valid_loss:0.0020\n"
          ],
          "name": "stdout"
        },
        {
          "output_type": "stream",
          "text": [
            " 67%|██████▋   | 101/150 [01:12<00:35,  1.36it/s]"
          ],
          "name": "stderr"
        },
        {
          "output_type": "stream",
          "text": [
            "epoch:100 train_loss:0.0018 valid_loss:0.0018\n"
          ],
          "name": "stdout"
        },
        {
          "output_type": "stream",
          "text": [
            "100%|██████████| 150/150 [01:48<00:00,  1.38it/s]\n"
          ],
          "name": "stderr"
        },
        {
          "output_type": "display_data",
          "data": {
            "image/png": "[encoded data removed]",
            "text/plain": [
              "<Figure size 432x288 with 1 Axes>"
            ]
          },
          "metadata": {
            "tags": [],
            "needs_background": "light"
          }
        },
        {
          "output_type": "stream",
          "text": [
            "\r  0%|          | 0/150 [00:00<?, ?it/s]"
          ],
          "name": "stderr"
        },
        {
          "output_type": "stream",
          "text": [
            "         64        128        256\n",
            "2  0.0299905  0.218815  0.0451385\n",
            "3   0.105919       NaN        NaN\n",
            "4        NaN       NaN        NaN\n"
          ],
          "name": "stdout"
        },
        {
          "output_type": "stream",
          "text": [
            "\r  1%|          | 1/150 [00:00<01:50,  1.34it/s]"
          ],
          "name": "stderr"
        },
        {
          "output_type": "stream",
          "text": [
            "epoch:0 train_loss:0.0126 valid_loss:0.0029\n"
          ],
          "name": "stdout"
        },
        {
          "output_type": "stream",
          "text": [
            " 34%|███▍      | 51/150 [00:37<01:12,  1.37it/s]"
          ],
          "name": "stderr"
        },
        {
          "output_type": "stream",
          "text": [
            "epoch:50 train_loss:0.0018 valid_loss:0.0018\n"
          ],
          "name": "stdout"
        },
        {
          "output_type": "stream",
          "text": [
            " 67%|██████▋   | 101/150 [01:12<00:34,  1.43it/s]"
          ],
          "name": "stderr"
        },
        {
          "output_type": "stream",
          "text": [
            "epoch:100 train_loss:0.0016 valid_loss:0.0017\n"
          ],
          "name": "stdout"
        },
        {
          "output_type": "stream",
          "text": [
            "100%|██████████| 150/150 [01:48<00:00,  1.38it/s]\n"
          ],
          "name": "stderr"
        },
        {
          "output_type": "display_data",
          "data": {
            "image/png": "[encoded data removed]",
            "text/plain": [
              "<Figure size 432x288 with 1 Axes>"
            ]
          },
          "metadata": {
            "tags": [],
            "needs_background": "light"
          }
        },
        {
          "output_type": "stream",
          "text": [
            "\r  0%|          | 0/150 [00:00<?, ?it/s]"
          ],
          "name": "stderr"
        },
        {
          "output_type": "stream",
          "text": [
            "         64        128        256\n",
            "2  0.0299905  0.218815  0.0451385\n",
            "3   0.105919  0.182859        NaN\n",
            "4        NaN       NaN        NaN\n"
          ],
          "name": "stdout"
        },
        {
          "output_type": "stream",
          "text": [
            "\r  1%|          | 1/150 [00:00<01:42,  1.46it/s]"
          ],
          "name": "stderr"
        },
        {
          "output_type": "stream",
          "text": [
            "epoch:0 train_loss:0.0089 valid_loss:0.0027\n"
          ],
          "name": "stdout"
        },
        {
          "output_type": "stream",
          "text": [
            " 34%|███▍      | 51/150 [00:37<01:17,  1.27it/s]"
          ],
          "name": "stderr"
        },
        {
          "output_type": "stream",
          "text": [
            "epoch:50 train_loss:0.0016 valid_loss:0.0017\n"
          ],
          "name": "stdout"
        },
        {
          "output_type": "stream",
          "text": [
            " 67%|██████▋   | 101/150 [01:12<00:35,  1.39it/s]"
          ],
          "name": "stderr"
        },
        {
          "output_type": "stream",
          "text": [
            "epoch:100 train_loss:0.0015 valid_loss:0.0016\n"
          ],
          "name": "stdout"
        },
        {
          "output_type": "stream",
          "text": [
            "100%|██████████| 150/150 [01:47<00:00,  1.39it/s]\n"
          ],
          "name": "stderr"
        },
        {
          "output_type": "display_data",
          "data": {
            "image/png": "[encoded data removed]",
            "text/plain": [
              "<Figure size 432x288 with 1 Axes>"
            ]
          },
          "metadata": {
            "tags": [],
            "needs_background": "light"
          }
        },
        {
          "output_type": "stream",
          "text": [
            "\r  0%|          | 0/150 [00:00<?, ?it/s]"
          ],
          "name": "stderr"
        },
        {
          "output_type": "stream",
          "text": [
            "         64        128        256\n",
            "2  0.0299905  0.218815  0.0451385\n",
            "3   0.105919  0.182859  0.0728543\n",
            "4        NaN       NaN        NaN\n"
          ],
          "name": "stdout"
        },
        {
          "output_type": "stream",
          "text": [
            "\r  1%|          | 1/150 [00:00<02:00,  1.24it/s]"
          ],
          "name": "stderr"
        },
        {
          "output_type": "stream",
          "text": [
            "epoch:0 train_loss:0.0189 valid_loss:0.0043\n"
          ],
          "name": "stdout"
        },
        {
          "output_type": "stream",
          "text": [
            " 34%|███▍      | 51/150 [00:39<01:16,  1.29it/s]"
          ],
          "name": "stderr"
        },
        {
          "output_type": "stream",
          "text": [
            "epoch:50 train_loss:0.0019 valid_loss:0.0021\n"
          ],
          "name": "stdout"
        },
        {
          "output_type": "stream",
          "text": [
            " 67%|██████▋   | 101/150 [01:18<00:38,  1.26it/s]"
          ],
          "name": "stderr"
        },
        {
          "output_type": "stream",
          "text": [
            "epoch:100 train_loss:0.0018 valid_loss:0.0018\n"
          ],
          "name": "stdout"
        },
        {
          "output_type": "stream",
          "text": [
            "100%|██████████| 150/150 [01:58<00:00,  1.27it/s]\n"
          ],
          "name": "stderr"
        },
        {
          "output_type": "display_data",
          "data": {
            "image/png": "[encoded data removed]",
            "text/plain": [
              "<Figure size 432x288 with 1 Axes>"
            ]
          },
          "metadata": {
            "tags": [],
            "needs_background": "light"
          }
        },
        {
          "output_type": "stream",
          "text": [
            "\r  0%|          | 0/150 [00:00<?, ?it/s]"
          ],
          "name": "stderr"
        },
        {
          "output_type": "stream",
          "text": [
            "         64        128        256\n",
            "2  0.0299905  0.218815  0.0451385\n",
            "3   0.105919  0.182859  0.0728543\n",
            "4  0.0439943       NaN        NaN\n"
          ],
          "name": "stdout"
        },
        {
          "output_type": "stream",
          "text": [
            "\r  1%|          | 1/150 [00:00<01:57,  1.27it/s]"
          ],
          "name": "stderr"
        },
        {
          "output_type": "stream",
          "text": [
            "epoch:0 train_loss:0.0145 valid_loss:0.0034\n"
          ],
          "name": "stdout"
        },
        {
          "output_type": "stream",
          "text": [
            " 34%|███▍      | 51/150 [00:39<01:14,  1.34it/s]"
          ],
          "name": "stderr"
        },
        {
          "output_type": "stream",
          "text": [
            "epoch:50 train_loss:0.0017 valid_loss:0.0018\n"
          ],
          "name": "stdout"
        },
        {
          "output_type": "stream",
          "text": [
            " 67%|██████▋   | 101/150 [01:18<00:36,  1.33it/s]"
          ],
          "name": "stderr"
        },
        {
          "output_type": "stream",
          "text": [
            "epoch:100 train_loss:0.0016 valid_loss:0.0017\n"
          ],
          "name": "stdout"
        },
        {
          "output_type": "stream",
          "text": [
            "100%|██████████| 150/150 [01:56<00:00,  1.29it/s]\n"
          ],
          "name": "stderr"
        },
        {
          "output_type": "display_data",
          "data": {
            "image/png": "[encoded data removed]",
            "text/plain": [
              "<Figure size 432x288 with 1 Axes>"
            ]
          },
          "metadata": {
            "tags": [],
            "needs_background": "light"
          }
        },
        {
          "output_type": "stream",
          "text": [
            "\r  0%|          | 0/150 [00:00<?, ?it/s]"
          ],
          "name": "stderr"
        },
        {
          "output_type": "stream",
          "text": [
            "         64         128        256\n",
            "2  0.0299905   0.218815  0.0451385\n",
            "3   0.105919   0.182859  0.0728543\n",
            "4  0.0439943  0.0525427        NaN\n"
          ],
          "name": "stdout"
        },
        {
          "output_type": "stream",
          "text": [
            "\r  1%|          | 1/150 [00:00<02:02,  1.22it/s]"
          ],
          "name": "stderr"
        },
        {
          "output_type": "stream",
          "text": [
            "epoch:0 train_loss:0.0106 valid_loss:0.0031\n"
          ],
          "name": "stdout"
        },
        {
          "output_type": "stream",
          "text": [
            " 34%|███▍      | 51/150 [00:40<01:22,  1.20it/s]"
          ],
          "name": "stderr"
        },
        {
          "output_type": "stream",
          "text": [
            "epoch:50 train_loss:0.0016 valid_loss:0.0017\n"
          ],
          "name": "stdout"
        },
        {
          "output_type": "stream",
          "text": [
            " 67%|██████▋   | 101/150 [01:19<00:40,  1.21it/s]"
          ],
          "name": "stderr"
        },
        {
          "output_type": "stream",
          "text": [
            "epoch:100 train_loss:0.0015 valid_loss:0.0016\n"
          ],
          "name": "stdout"
        },
        {
          "output_type": "stream",
          "text": [
            "100%|██████████| 150/150 [01:57<00:00,  1.28it/s]\n"
          ],
          "name": "stderr"
        },
        {
          "output_type": "display_data",
          "data": {
            "image/png": "[encoded data removed]",
            "text/plain": [
              "<Figure size 432x288 with 1 Axes>"
            ]
          },
          "metadata": {
            "tags": [],
            "needs_background": "light"
          }
        },
        {
          "output_type": "stream",
          "text": [
            "         64         128        256\n",
            "2  0.0299905   0.218815  0.0451385\n",
            "3   0.105919   0.182859  0.0728543\n",
            "4  0.0439943  0.0525427  0.0519457\n"
          ],
          "name": "stdout"
        }
      ]
    },
    {
      "cell_type": "code",
      "metadata": {
        "id": "MLhKqoXGvMM0",
        "outputId": "28a4ed03-34ea-4de3-ad34-70d3441ef267",
        "colab": {
          "base_uri": "https://localhost:8080/",
          "height": 138
        }
      },
      "source": [
        "table"
      ],
      "execution_count": 10,
      "outputs": [
        {
          "output_type": "execute_result",
          "data": {
            "text/html": [
              "<div>\n",
              "<style scoped>\n",
              "    .dataframe tbody tr th:only-of-type {\n",
              "        vertical-align: middle;\n",
              "    }\n",
              "\n",
              "    .dataframe tbody tr th {\n",
              "        vertical-align: top;\n",
              "    }\n",
              "\n",
              "    .dataframe thead th {\n",
              "        text-align: right;\n",
              "    }\n",
              "</style>\n",
              "<table border=\"1\" class=\"dataframe\">\n",
              "  <thead>\n",
              "    <tr style=\"text-align: right;\">\n",
              "      <th></th>\n",
              "      <th>64</th>\n",
              "      <th>128</th>\n",
              "      <th>256</th>\n",
              "    </tr>\n",
              "  </thead>\n",
              "  <tbody>\n",
              "    <tr>\n",
              "      <th>2</th>\n",
              "      <td>0.0299905</td>\n",
              "      <td>0.218815</td>\n",
              "      <td>0.0451385</td>\n",
              "    </tr>\n",
              "    <tr>\n",
              "      <th>3</th>\n",
              "      <td>0.105919</td>\n",
              "      <td>0.182859</td>\n",
              "      <td>0.0728543</td>\n",
              "    </tr>\n",
              "    <tr>\n",
              "      <th>4</th>\n",
              "      <td>0.0439943</td>\n",
              "      <td>0.0525427</td>\n",
              "      <td>0.0519457</td>\n",
              "    </tr>\n",
              "  </tbody>\n",
              "</table>\n",
              "</div>"
            ],
            "text/plain": [
              "         64         128        256\n",
              "2  0.0299905   0.218815  0.0451385\n",
              "3   0.105919   0.182859  0.0728543\n",
              "4  0.0439943  0.0525427  0.0519457"
            ]
          },
          "metadata": {
            "tags": []
          },
          "execution_count": 10
        }
      ]
    },
    {
      "cell_type": "code",
      "metadata": {
        "id": "EA2jm4_meslM",
        "colab": {
          "base_uri": "https://localhost:8080/",
          "height": 288
        },
        "outputId": "18e40986-a0f0-42f8-d37b-f44328ac4731"
      },
      "source": [
        "res = c670.test(e=0.02).loc[op_col,:]\r\n",
        "res.loc['AVG'] = res.mean(axis=0)\r\n",
        "res"
      ],
      "execution_count": null,
      "outputs": [
        {
          "output_type": "execute_result",
          "data": {
            "text/html": [
              "<div>\n",
              "<style scoped>\n",
              "    .dataframe tbody tr th:only-of-type {\n",
              "        vertical-align: middle;\n",
              "    }\n",
              "\n",
              "    .dataframe tbody tr th {\n",
              "        vertical-align: top;\n",
              "    }\n",
              "\n",
              "    .dataframe thead th {\n",
              "        text-align: right;\n",
              "    }\n",
              "</style>\n",
              "<table border=\"1\" class=\"dataframe\">\n",
              "  <thead>\n",
              "    <tr style=\"text-align: right;\">\n",
              "      <th></th>\n",
              "      <th>R2</th>\n",
              "      <th>MSE</th>\n",
              "      <th>MAPE</th>\n",
              "    </tr>\n",
              "  </thead>\n",
              "  <tbody>\n",
              "    <tr>\n",
              "      <th>Density_Distillate Production Rate and Composition</th>\n",
              "      <td>0.997788</td>\n",
              "      <td>1.75183e-12</td>\n",
              "      <td>0.000117133</td>\n",
              "    </tr>\n",
              "    <tr>\n",
              "      <th>Density_Bottoms Production Rate and Composition</th>\n",
              "      <td>0.999251</td>\n",
              "      <td>1.38256e-10</td>\n",
              "      <td>0.00102332</td>\n",
              "    </tr>\n",
              "    <tr>\n",
              "      <th>Toluene Column C670 Operation_Yield \\nSummary_Reflux Rate_m3/hr</th>\n",
              "      <td>0.995589</td>\n",
              "      <td>2.63309</td>\n",
              "      <td>0.503695</td>\n",
              "    </tr>\n",
              "    <tr>\n",
              "      <th>Toluene Column C670 Operation_Heat Duty_Condenser Heat Duty_Mkcal/hr</th>\n",
              "      <td>0.995739</td>\n",
              "      <td>0.0361005</td>\n",
              "      <td>0.522549</td>\n",
              "    </tr>\n",
              "    <tr>\n",
              "      <th>Toluene Column C670 Operation_Heat Duty_Reboiler Heat Duty_Mkcal/hr</th>\n",
              "      <td>0.995494</td>\n",
              "      <td>0.0364076</td>\n",
              "      <td>0.518755</td>\n",
              "    </tr>\n",
              "    <tr>\n",
              "      <th>Toluene Column C670 Operation_Column Temp Profile_C670 Tray 24 (Control)_oC</th>\n",
              "      <td>0.996362</td>\n",
              "      <td>0.000212789</td>\n",
              "      <td>0.00633128</td>\n",
              "    </tr>\n",
              "    <tr>\n",
              "      <th>Toluene Column C670 Operation_Column Temp Profile_C670 Btm Temp (Control)_oC</th>\n",
              "      <td>0.998711</td>\n",
              "      <td>0.00353063</td>\n",
              "      <td>0.0212867</td>\n",
              "    </tr>\n",
              "    <tr>\n",
              "      <th>AVG</th>\n",
              "      <td>0.996991</td>\n",
              "      <td>0.387049</td>\n",
              "      <td>0.224822</td>\n",
              "    </tr>\n",
              "  </tbody>\n",
              "</table>\n",
              "</div>"
            ],
            "text/plain": [
              "                                                          R2  ...         MAPE\n",
              "Density_Distillate Production Rate and Composition  0.997788  ...  0.000117133\n",
              "Density_Bottoms Production Rate and Composition     0.999251  ...   0.00102332\n",
              "Toluene Column C670 Operation_Yield \\nSummary_R...  0.995589  ...     0.503695\n",
              "Toluene Column C670 Operation_Heat Duty_Condens...  0.995739  ...     0.522549\n",
              "Toluene Column C670 Operation_Heat Duty_Reboile...  0.995494  ...     0.518755\n",
              "Toluene Column C670 Operation_Column Temp Profi...  0.996362  ...   0.00633128\n",
              "Toluene Column C670 Operation_Column Temp Profi...  0.998711  ...    0.0212867\n",
              "AVG                                                 0.996991  ...     0.224822\n",
              "\n",
              "[8 rows x 3 columns]"
            ]
          },
          "metadata": {
            "tags": []
          },
          "execution_count": 26
        }
      ]
    },
    {
      "cell_type": "markdown",
      "metadata": {
        "id": "dn6toFklbcMl"
      },
      "source": [
        "# wt預測結果 "
      ]
    },
    {
      "cell_type": "code",
      "metadata": {
        "id": "m0PvleHGeuKj",
        "colab": {
          "base_uri": "https://localhost:8080/",
          "height": 360
        },
        "outputId": "1f67d5c9-b052-447b-9799-996c9b8897d2"
      },
      "source": [
        "from autorch.function import sp2wt\n",
        "\n",
        "x_test = c670.data['X_test']\n",
        "x41 = x_test[c['combined']].values\n",
        "sp = c670.predict(x_test).iloc[:,:41*2]\n",
        "s1,s2 = sp.iloc[:,:41].values,sp.iloc[:,41:41*2].values\n",
        "w1,w2 = sp2wt(x41,s1),sp2wt(x41,s2)\n",
        "wt_pred = np.hstack((w1,w2))\n",
        "wt_pred = pd.DataFrame(wt_pred,index=x_test.index,columns=wt_col)\n",
        "wt_pred.head(3)"
      ],
      "execution_count": null,
      "outputs": [
        {
          "output_type": "execute_result",
          "data": {
            "text/html": [
              "<div>\n",
              "<style scoped>\n",
              "    .dataframe tbody tr th:only-of-type {\n",
              "        vertical-align: middle;\n",
              "    }\n",
              "\n",
              "    .dataframe tbody tr th {\n",
              "        vertical-align: top;\n",
              "    }\n",
              "\n",
              "    .dataframe thead th {\n",
              "        text-align: right;\n",
              "    }\n",
              "</style>\n",
              "<table border=\"1\" class=\"dataframe\">\n",
              "  <thead>\n",
              "    <tr style=\"text-align: right;\">\n",
              "      <th></th>\n",
              "      <th>Toluene Column C670 Operation_Distillate Production Rate and Composition_Hydrogen_wt%</th>\n",
              "      <th>Toluene Column C670 Operation_Distillate Production Rate and Composition_Methane_wt%</th>\n",
              "      <th>Toluene Column C670 Operation_Distillate Production Rate and Composition_Ethane_wt%</th>\n",
              "      <th>Toluene Column C670 Operation_Distillate Production Rate and Composition_Propane_wt%</th>\n",
              "      <th>Toluene Column C670 Operation_Distillate Production Rate and Composition_n-Butane_wt%</th>\n",
              "      <th>Toluene Column C670 Operation_Distillate Production Rate and Composition_n-Pentane_wt%</th>\n",
              "      <th>Toluene Column C670 Operation_Distillate Production Rate and Composition_n-Hexane_wt%</th>\n",
              "      <th>Toluene Column C670 Operation_Distillate Production Rate and Composition_Benzene_wt%</th>\n",
              "      <th>Toluene Column C670 Operation_Distillate Production Rate and Composition_Cyclohexane_wt%</th>\n",
              "      <th>Toluene Column C670 Operation_Distillate Production Rate and Composition_n-Heptane_wt%</th>\n",
              "      <th>Toluene Column C670 Operation_Distillate Production Rate and Composition_Water_wt%</th>\n",
              "      <th>Toluene Column C670 Operation_Distillate Production Rate and Composition_Methylcyclohexane_wt%</th>\n",
              "      <th>Toluene Column C670 Operation_Distillate Production Rate and Composition_Toluene_wt%</th>\n",
              "      <th>Toluene Column C670 Operation_Distillate Production Rate and Composition_n-Octane_wt%</th>\n",
              "      <th>Toluene Column C670 Operation_Distillate Production Rate and Composition_n-Propylcyclopentane_wt%</th>\n",
              "      <th>Toluene Column C670 Operation_Distillate Production Rate and Composition_Ethylcyclohexane_wt%</th>\n",
              "      <th>Toluene Column C670 Operation_Distillate Production Rate and Composition_Ethylbenzene_wt%</th>\n",
              "      <th>Toluene Column C670 Operation_Distillate Production Rate and Composition_p-Xylene_wt%</th>\n",
              "      <th>Toluene Column C670 Operation_Distillate Production Rate and Composition_m-Xylene_wt%</th>\n",
              "      <th>Toluene Column C670 Operation_Distillate Production Rate and Composition_o-Xylene_wt%</th>\n",
              "      <th>Toluene Column C670 Operation_Distillate Production Rate and Composition_n-Nonane_wt%</th>\n",
              "      <th>Toluene Column C670 Operation_Distillate Production Rate and Composition_i-Propylbenzene_wt%</th>\n",
              "      <th>Toluene Column C670 Operation_Distillate Production Rate and Composition_n-Propylcyclohexane_wt%</th>\n",
              "      <th>Toluene Column C670 Operation_Distillate Production Rate and Composition_n-Propylbenzene_wt%</th>\n",
              "      <th>Toluene Column C670 Operation_Distillate Production Rate and Composition_1-Methyl-3-ethylbenzene_wt%</th>\n",
              "      <th>Toluene Column C670 Operation_Distillate Production Rate and Composition_1-Methyl-4-ethylbenzene_wt%</th>\n",
              "      <th>Toluene Column C670 Operation_Distillate Production Rate and Composition_1,3,5-Trimethylbenzene_wt%</th>\n",
              "      <th>Toluene Column C670 Operation_Distillate Production Rate and Composition_1-Methyl-2-ethylbenzene_wt%</th>\n",
              "      <th>Toluene Column C670 Operation_Distillate Production Rate and Composition_1,2,4-Trimethylbenzene_wt%</th>\n",
              "      <th>Toluene Column C670 Operation_Distillate Production Rate and Composition_tert-Butylcyclohexane_wt%</th>\n",
              "      <th>Toluene Column C670 Operation_Distillate Production Rate and Composition_1,2,3-Trimethylbenzene_wt%</th>\n",
              "      <th>Toluene Column C670 Operation_Distillate Production Rate and Composition_Indane_wt%</th>\n",
              "      <th>Toluene Column C670 Operation_Distillate Production Rate and Composition_1-Methyl-4-n-propylbenzene_wt%</th>\n",
              "      <th>Toluene Column C670 Operation_Distillate Production Rate and Composition_1,2-Diethylbenzene_wt%</th>\n",
              "      <th>Toluene Column C670 Operation_Distillate Production Rate and Composition_5-Ethyl-m-xylene_wt%</th>\n",
              "      <th>Toluene Column C670 Operation_Distillate Production Rate and Composition_1,4-Diethylbenzene_wt%</th>\n",
              "      <th>Toluene Column C670 Operation_Distillate Production Rate and Composition_1,2,3,5-Tetramethylbenzene_wt%</th>\n",
              "      <th>Toluene Column C670 Operation_Distillate Production Rate and Composition_n-Pentylbenzene_wt%</th>\n",
              "      <th>Toluene Column C670 Operation_Distillate Production Rate and Composition_n-Hexylbenzene_wt%</th>\n",
              "      <th>Toluene Column C670 Operation_Distillate Production Rate and Composition_Nitrogen_wt%</th>\n",
              "      <th>...</th>\n",
              "      <th>Toluene Column C670 Operation_Bottoms Production Rate and Composition_Methane_wt%</th>\n",
              "      <th>Toluene Column C670 Operation_Bottoms Production Rate and Composition_Ethane_wt%</th>\n",
              "      <th>Toluene Column C670 Operation_Bottoms Production Rate and Composition_Propane_wt%</th>\n",
              "      <th>Toluene Column C670 Operation_Bottoms Production Rate and Composition_n-Butane_wt%</th>\n",
              "      <th>Toluene Column C670 Operation_Bottoms Production Rate and Composition_n-Pentane_wt%</th>\n",
              "      <th>Toluene Column C670 Operation_Bottoms Production Rate and Composition_n-Hexane_wt%</th>\n",
              "      <th>Toluene Column C670 Operation_Bottoms Production Rate and Composition_Benzene_wt%</th>\n",
              "      <th>Toluene Column C670 Operation_Bottoms Production Rate and Composition_Cyclohexane_wt%</th>\n",
              "      <th>Toluene Column C670 Operation_Bottoms Production Rate and Composition_n-Heptane_wt%</th>\n",
              "      <th>Toluene Column C670 Operation_Bottoms Production Rate and Composition_Water_wt%</th>\n",
              "      <th>Toluene Column C670 Operation_Bottoms Production Rate and Composition_Methylcyclohexane_wt%</th>\n",
              "      <th>Toluene Column C670 Operation_Bottoms Production Rate and Composition_Toluene_wt%</th>\n",
              "      <th>Toluene Column C670 Operation_Bottoms Production Rate and Composition_n-Octane_wt%</th>\n",
              "      <th>Toluene Column C670 Operation_Bottoms Production Rate and Composition_n-Propylcyclopentane_wt%</th>\n",
              "      <th>Toluene Column C670 Operation_Bottoms Production Rate and Composition_Ethylcyclohexane_wt%</th>\n",
              "      <th>Toluene Column C670 Operation_Bottoms Production Rate and Composition_Ethylbenzene_wt%</th>\n",
              "      <th>Toluene Column C670 Operation_Bottoms Production Rate and Composition_p-Xylene_wt%</th>\n",
              "      <th>Toluene Column C670 Operation_Bottoms Production Rate and Composition_m-Xylene_wt%</th>\n",
              "      <th>Toluene Column C670 Operation_Bottoms Production Rate and Composition_o-Xylene_wt%</th>\n",
              "      <th>Toluene Column C670 Operation_Bottoms Production Rate and Composition_n-Nonane_wt%</th>\n",
              "      <th>Toluene Column C670 Operation_Bottoms Production Rate and Composition_i-Propylbenzene_wt%</th>\n",
              "      <th>Toluene Column C670 Operation_Bottoms Production Rate and Composition_n-Propylcyclohexane_wt%</th>\n",
              "      <th>Toluene Column C670 Operation_Bottoms Production Rate and Composition_n-Propylbenzene_wt%</th>\n",
              "      <th>Toluene Column C670 Operation_Bottoms Production Rate and Composition_1-Methyl-3-ethylbenzene_wt%</th>\n",
              "      <th>Toluene Column C670 Operation_Bottoms Production Rate and Composition_1-Methyl-4-ethylbenzene_wt%</th>\n",
              "      <th>Toluene Column C670 Operation_Bottoms Production Rate and Composition_1,3,5-Trimethylbenzene_wt%</th>\n",
              "      <th>Toluene Column C670 Operation_Bottoms Production Rate and Composition_1-Methyl-2-ethylbenzene_wt%</th>\n",
              "      <th>Toluene Column C670 Operation_Bottoms Production Rate and Composition_1,2,4-Trimethylbenzene_wt%</th>\n",
              "      <th>Toluene Column C670 Operation_Bottoms Production Rate and Composition_tert-Butylcyclohexane_wt%</th>\n",
              "      <th>Toluene Column C670 Operation_Bottoms Production Rate and Composition_1,2,3-Trimethylbenzene_wt%</th>\n",
              "      <th>Toluene Column C670 Operation_Bottoms Production Rate and Composition_Indane_wt%</th>\n",
              "      <th>Toluene Column C670 Operation_Bottoms Production Rate and Composition_1-Methyl-4-n-propylbenzene_wt%</th>\n",
              "      <th>Toluene Column C670 Operation_Bottoms Production Rate and Composition_1,2-Diethylbenzene_wt%</th>\n",
              "      <th>Toluene Column C670 Operation_Bottoms Production Rate and Composition_5-Ethyl-m-xylene_wt%</th>\n",
              "      <th>Toluene Column C670 Operation_Bottoms Production Rate and Composition_1,4-Diethylbenzene_wt%</th>\n",
              "      <th>Toluene Column C670 Operation_Bottoms Production Rate and Composition_1,2,3,5-Tetramethylbenzene_wt%</th>\n",
              "      <th>Toluene Column C670 Operation_Bottoms Production Rate and Composition_n-Pentylbenzene_wt%</th>\n",
              "      <th>Toluene Column C670 Operation_Bottoms Production Rate and Composition_n-Hexylbenzene_wt%</th>\n",
              "      <th>Toluene Column C670 Operation_Bottoms Production Rate and Composition_Nitrogen_wt%</th>\n",
              "      <th>Toluene Column C670 Operation_Bottoms Production Rate and Composition_Oxygen_wt%</th>\n",
              "    </tr>\n",
              "  </thead>\n",
              "  <tbody>\n",
              "    <tr>\n",
              "      <th>115-086</th>\n",
              "      <td>0.0</td>\n",
              "      <td>0.0</td>\n",
              "      <td>0.0</td>\n",
              "      <td>0.0</td>\n",
              "      <td>0.0</td>\n",
              "      <td>0.0</td>\n",
              "      <td>0.0</td>\n",
              "      <td>0.360319</td>\n",
              "      <td>0.000237</td>\n",
              "      <td>0.004893</td>\n",
              "      <td>0.0</td>\n",
              "      <td>0.019399</td>\n",
              "      <td>99.580170</td>\n",
              "      <td>0.019034</td>\n",
              "      <td>0.005006</td>\n",
              "      <td>0.000992</td>\n",
              "      <td>0.005179</td>\n",
              "      <td>0.002292</td>\n",
              "      <td>0.002450</td>\n",
              "      <td>0.000007</td>\n",
              "      <td>0.000002</td>\n",
              "      <td>1.020817e-11</td>\n",
              "      <td>8.499726e-11</td>\n",
              "      <td>2.313464e-14</td>\n",
              "      <td>1.367832e-11</td>\n",
              "      <td>2.302069e-12</td>\n",
              "      <td>4.868593e-14</td>\n",
              "      <td>5.700955e-13</td>\n",
              "      <td>8.956001e-16</td>\n",
              "      <td>2.700480e-16</td>\n",
              "      <td>2.138327e-19</td>\n",
              "      <td>1.537209e-20</td>\n",
              "      <td>3.085141e-20</td>\n",
              "      <td>5.711658e-21</td>\n",
              "      <td>2.030927e-22</td>\n",
              "      <td>0.0</td>\n",
              "      <td>1.819593e-05</td>\n",
              "      <td>4.490217e-06</td>\n",
              "      <td>2.154615e-06</td>\n",
              "      <td>0.0</td>\n",
              "      <td>...</td>\n",
              "      <td>0.0</td>\n",
              "      <td>0.0</td>\n",
              "      <td>0.0</td>\n",
              "      <td>0.0</td>\n",
              "      <td>0.0</td>\n",
              "      <td>0.0</td>\n",
              "      <td>8.978798e-10</td>\n",
              "      <td>1.933621e-12</td>\n",
              "      <td>4.355424e-10</td>\n",
              "      <td>0.0</td>\n",
              "      <td>2.034180e-07</td>\n",
              "      <td>0.020085</td>\n",
              "      <td>0.000031</td>\n",
              "      <td>0.022726</td>\n",
              "      <td>0.026995</td>\n",
              "      <td>3.211808</td>\n",
              "      <td>13.927648</td>\n",
              "      <td>29.320797</td>\n",
              "      <td>12.841220</td>\n",
              "      <td>0.046762</td>\n",
              "      <td>0.032032</td>\n",
              "      <td>0.041575</td>\n",
              "      <td>0.039424</td>\n",
              "      <td>2.662520</td>\n",
              "      <td>1.396023</td>\n",
              "      <td>7.510611</td>\n",
              "      <td>0.784232</td>\n",
              "      <td>19.175547</td>\n",
              "      <td>0.002836</td>\n",
              "      <td>3.060291</td>\n",
              "      <td>0.137984</td>\n",
              "      <td>0.014485</td>\n",
              "      <td>0.057203</td>\n",
              "      <td>2.057442</td>\n",
              "      <td>0.0</td>\n",
              "      <td>2.370344</td>\n",
              "      <td>0.867322</td>\n",
              "      <td>0.372061</td>\n",
              "      <td>0.0</td>\n",
              "      <td>0.0</td>\n",
              "    </tr>\n",
              "    <tr>\n",
              "      <th>014-056</th>\n",
              "      <td>0.0</td>\n",
              "      <td>0.0</td>\n",
              "      <td>0.0</td>\n",
              "      <td>0.0</td>\n",
              "      <td>0.0</td>\n",
              "      <td>0.0</td>\n",
              "      <td>0.0</td>\n",
              "      <td>0.424363</td>\n",
              "      <td>0.000312</td>\n",
              "      <td>0.006454</td>\n",
              "      <td>0.0</td>\n",
              "      <td>0.026250</td>\n",
              "      <td>99.487396</td>\n",
              "      <td>0.037483</td>\n",
              "      <td>0.006664</td>\n",
              "      <td>0.001016</td>\n",
              "      <td>0.005905</td>\n",
              "      <td>0.001937</td>\n",
              "      <td>0.002213</td>\n",
              "      <td>0.000006</td>\n",
              "      <td>0.000002</td>\n",
              "      <td>2.729045e-12</td>\n",
              "      <td>7.938370e-11</td>\n",
              "      <td>6.289255e-15</td>\n",
              "      <td>7.064707e-12</td>\n",
              "      <td>1.140502e-12</td>\n",
              "      <td>2.749270e-14</td>\n",
              "      <td>2.822077e-13</td>\n",
              "      <td>5.433248e-16</td>\n",
              "      <td>2.472966e-16</td>\n",
              "      <td>1.452431e-19</td>\n",
              "      <td>6.901194e-21</td>\n",
              "      <td>1.623733e-21</td>\n",
              "      <td>3.418708e-22</td>\n",
              "      <td>1.664531e-22</td>\n",
              "      <td>0.0</td>\n",
              "      <td>5.505067e-07</td>\n",
              "      <td>1.136879e-07</td>\n",
              "      <td>3.706143e-08</td>\n",
              "      <td>0.0</td>\n",
              "      <td>...</td>\n",
              "      <td>0.0</td>\n",
              "      <td>0.0</td>\n",
              "      <td>0.0</td>\n",
              "      <td>0.0</td>\n",
              "      <td>0.0</td>\n",
              "      <td>0.0</td>\n",
              "      <td>1.169235e-09</td>\n",
              "      <td>2.851802e-12</td>\n",
              "      <td>6.409693e-10</td>\n",
              "      <td>0.0</td>\n",
              "      <td>2.926685e-07</td>\n",
              "      <td>0.020057</td>\n",
              "      <td>0.000039</td>\n",
              "      <td>0.032234</td>\n",
              "      <td>0.034287</td>\n",
              "      <td>4.677060</td>\n",
              "      <td>16.317566</td>\n",
              "      <td>35.588394</td>\n",
              "      <td>14.423801</td>\n",
              "      <td>0.064082</td>\n",
              "      <td>0.011905</td>\n",
              "      <td>0.088822</td>\n",
              "      <td>0.013889</td>\n",
              "      <td>1.947425</td>\n",
              "      <td>1.020824</td>\n",
              "      <td>5.168635</td>\n",
              "      <td>0.573905</td>\n",
              "      <td>13.197104</td>\n",
              "      <td>0.006690</td>\n",
              "      <td>2.107174</td>\n",
              "      <td>0.069445</td>\n",
              "      <td>0.003305</td>\n",
              "      <td>0.045988</td>\n",
              "      <td>1.783756</td>\n",
              "      <td>0.0</td>\n",
              "      <td>2.051617</td>\n",
              "      <td>0.525801</td>\n",
              "      <td>0.226194</td>\n",
              "      <td>0.0</td>\n",
              "      <td>0.0</td>\n",
              "    </tr>\n",
              "    <tr>\n",
              "      <th>124-072</th>\n",
              "      <td>0.0</td>\n",
              "      <td>0.0</td>\n",
              "      <td>0.0</td>\n",
              "      <td>0.0</td>\n",
              "      <td>0.0</td>\n",
              "      <td>0.0</td>\n",
              "      <td>0.0</td>\n",
              "      <td>0.258120</td>\n",
              "      <td>0.000189</td>\n",
              "      <td>0.004085</td>\n",
              "      <td>0.0</td>\n",
              "      <td>0.017191</td>\n",
              "      <td>99.690254</td>\n",
              "      <td>0.016354</td>\n",
              "      <td>0.003111</td>\n",
              "      <td>0.000695</td>\n",
              "      <td>0.006396</td>\n",
              "      <td>0.001774</td>\n",
              "      <td>0.001810</td>\n",
              "      <td>0.000004</td>\n",
              "      <td>0.000003</td>\n",
              "      <td>5.804368e-12</td>\n",
              "      <td>1.709981e-10</td>\n",
              "      <td>1.285172e-14</td>\n",
              "      <td>7.355378e-12</td>\n",
              "      <td>1.132830e-12</td>\n",
              "      <td>2.225576e-14</td>\n",
              "      <td>2.787887e-13</td>\n",
              "      <td>4.529946e-16</td>\n",
              "      <td>6.117225e-16</td>\n",
              "      <td>1.078910e-19</td>\n",
              "      <td>8.091687e-21</td>\n",
              "      <td>2.853346e-20</td>\n",
              "      <td>5.058274e-21</td>\n",
              "      <td>1.049102e-22</td>\n",
              "      <td>0.0</td>\n",
              "      <td>4.430051e-06</td>\n",
              "      <td>9.798858e-07</td>\n",
              "      <td>4.508891e-07</td>\n",
              "      <td>0.0</td>\n",
              "      <td>...</td>\n",
              "      <td>0.0</td>\n",
              "      <td>0.0</td>\n",
              "      <td>0.0</td>\n",
              "      <td>0.0</td>\n",
              "      <td>0.0</td>\n",
              "      <td>0.0</td>\n",
              "      <td>6.499014e-10</td>\n",
              "      <td>1.554037e-12</td>\n",
              "      <td>3.757144e-10</td>\n",
              "      <td>0.0</td>\n",
              "      <td>2.108333e-07</td>\n",
              "      <td>0.020018</td>\n",
              "      <td>0.000043</td>\n",
              "      <td>0.029284</td>\n",
              "      <td>0.032336</td>\n",
              "      <td>4.035309</td>\n",
              "      <td>14.204890</td>\n",
              "      <td>29.533310</td>\n",
              "      <td>12.512072</td>\n",
              "      <td>0.055222</td>\n",
              "      <td>0.031244</td>\n",
              "      <td>0.048038</td>\n",
              "      <td>0.038454</td>\n",
              "      <td>2.595648</td>\n",
              "      <td>1.360312</td>\n",
              "      <td>7.323093</td>\n",
              "      <td>0.764274</td>\n",
              "      <td>18.703093</td>\n",
              "      <td>0.003327</td>\n",
              "      <td>2.984996</td>\n",
              "      <td>0.134589</td>\n",
              "      <td>0.008307</td>\n",
              "      <td>0.054377</td>\n",
              "      <td>2.006821</td>\n",
              "      <td>0.0</td>\n",
              "      <td>2.312041</td>\n",
              "      <td>0.845987</td>\n",
              "      <td>0.362909</td>\n",
              "      <td>0.0</td>\n",
              "      <td>0.0</td>\n",
              "    </tr>\n",
              "  </tbody>\n",
              "</table>\n",
              "<p>3 rows × 82 columns</p>\n",
              "</div>"
            ],
            "text/plain": [
              "         Toluene Column C670 Operation_Distillate Production Rate and Composition_Hydrogen_wt%  ...  Toluene Column C670 Operation_Bottoms Production Rate and Composition_Oxygen_wt%\n",
              "115-086                                                0.0                                      ...                                                0.0                               \n",
              "014-056                                                0.0                                      ...                                                0.0                               \n",
              "124-072                                                0.0                                      ...                                                0.0                               \n",
              "\n",
              "[3 rows x 82 columns]"
            ]
          },
          "metadata": {
            "tags": []
          },
          "execution_count": 27
        }
      ]
    },
    {
      "cell_type": "code",
      "metadata": {
        "id": "qf436yfegDCb",
        "colab": {
          "base_uri": "https://localhost:8080/",
          "height": 360
        },
        "outputId": "ba90b4a8-3ebd-4f1c-eb00-d7e6943709e2"
      },
      "source": [
        "wt_real = c670_df.loc[x_test.index,wt_col]\n",
        "wt_real.head(3)"
      ],
      "execution_count": null,
      "outputs": [
        {
          "output_type": "execute_result",
          "data": {
            "text/html": [
              "<div>\n",
              "<style scoped>\n",
              "    .dataframe tbody tr th:only-of-type {\n",
              "        vertical-align: middle;\n",
              "    }\n",
              "\n",
              "    .dataframe tbody tr th {\n",
              "        vertical-align: top;\n",
              "    }\n",
              "\n",
              "    .dataframe thead th {\n",
              "        text-align: right;\n",
              "    }\n",
              "</style>\n",
              "<table border=\"1\" class=\"dataframe\">\n",
              "  <thead>\n",
              "    <tr style=\"text-align: right;\">\n",
              "      <th></th>\n",
              "      <th>Toluene Column C670 Operation_Distillate Production Rate and Composition_Hydrogen_wt%</th>\n",
              "      <th>Toluene Column C670 Operation_Distillate Production Rate and Composition_Methane_wt%</th>\n",
              "      <th>Toluene Column C670 Operation_Distillate Production Rate and Composition_Ethane_wt%</th>\n",
              "      <th>Toluene Column C670 Operation_Distillate Production Rate and Composition_Propane_wt%</th>\n",
              "      <th>Toluene Column C670 Operation_Distillate Production Rate and Composition_n-Butane_wt%</th>\n",
              "      <th>Toluene Column C670 Operation_Distillate Production Rate and Composition_n-Pentane_wt%</th>\n",
              "      <th>Toluene Column C670 Operation_Distillate Production Rate and Composition_n-Hexane_wt%</th>\n",
              "      <th>Toluene Column C670 Operation_Distillate Production Rate and Composition_Benzene_wt%</th>\n",
              "      <th>Toluene Column C670 Operation_Distillate Production Rate and Composition_Cyclohexane_wt%</th>\n",
              "      <th>Toluene Column C670 Operation_Distillate Production Rate and Composition_n-Heptane_wt%</th>\n",
              "      <th>Toluene Column C670 Operation_Distillate Production Rate and Composition_Water_wt%</th>\n",
              "      <th>Toluene Column C670 Operation_Distillate Production Rate and Composition_Methylcyclohexane_wt%</th>\n",
              "      <th>Toluene Column C670 Operation_Distillate Production Rate and Composition_Toluene_wt%</th>\n",
              "      <th>Toluene Column C670 Operation_Distillate Production Rate and Composition_n-Octane_wt%</th>\n",
              "      <th>Toluene Column C670 Operation_Distillate Production Rate and Composition_n-Propylcyclopentane_wt%</th>\n",
              "      <th>Toluene Column C670 Operation_Distillate Production Rate and Composition_Ethylcyclohexane_wt%</th>\n",
              "      <th>Toluene Column C670 Operation_Distillate Production Rate and Composition_Ethylbenzene_wt%</th>\n",
              "      <th>Toluene Column C670 Operation_Distillate Production Rate and Composition_p-Xylene_wt%</th>\n",
              "      <th>Toluene Column C670 Operation_Distillate Production Rate and Composition_m-Xylene_wt%</th>\n",
              "      <th>Toluene Column C670 Operation_Distillate Production Rate and Composition_o-Xylene_wt%</th>\n",
              "      <th>Toluene Column C670 Operation_Distillate Production Rate and Composition_n-Nonane_wt%</th>\n",
              "      <th>Toluene Column C670 Operation_Distillate Production Rate and Composition_i-Propylbenzene_wt%</th>\n",
              "      <th>Toluene Column C670 Operation_Distillate Production Rate and Composition_n-Propylcyclohexane_wt%</th>\n",
              "      <th>Toluene Column C670 Operation_Distillate Production Rate and Composition_n-Propylbenzene_wt%</th>\n",
              "      <th>Toluene Column C670 Operation_Distillate Production Rate and Composition_1-Methyl-3-ethylbenzene_wt%</th>\n",
              "      <th>Toluene Column C670 Operation_Distillate Production Rate and Composition_1-Methyl-4-ethylbenzene_wt%</th>\n",
              "      <th>Toluene Column C670 Operation_Distillate Production Rate and Composition_1,3,5-Trimethylbenzene_wt%</th>\n",
              "      <th>Toluene Column C670 Operation_Distillate Production Rate and Composition_1-Methyl-2-ethylbenzene_wt%</th>\n",
              "      <th>Toluene Column C670 Operation_Distillate Production Rate and Composition_1,2,4-Trimethylbenzene_wt%</th>\n",
              "      <th>Toluene Column C670 Operation_Distillate Production Rate and Composition_tert-Butylcyclohexane_wt%</th>\n",
              "      <th>Toluene Column C670 Operation_Distillate Production Rate and Composition_1,2,3-Trimethylbenzene_wt%</th>\n",
              "      <th>Toluene Column C670 Operation_Distillate Production Rate and Composition_Indane_wt%</th>\n",
              "      <th>Toluene Column C670 Operation_Distillate Production Rate and Composition_1-Methyl-4-n-propylbenzene_wt%</th>\n",
              "      <th>Toluene Column C670 Operation_Distillate Production Rate and Composition_1,2-Diethylbenzene_wt%</th>\n",
              "      <th>Toluene Column C670 Operation_Distillate Production Rate and Composition_5-Ethyl-m-xylene_wt%</th>\n",
              "      <th>Toluene Column C670 Operation_Distillate Production Rate and Composition_1,4-Diethylbenzene_wt%</th>\n",
              "      <th>Toluene Column C670 Operation_Distillate Production Rate and Composition_1,2,3,5-Tetramethylbenzene_wt%</th>\n",
              "      <th>Toluene Column C670 Operation_Distillate Production Rate and Composition_n-Pentylbenzene_wt%</th>\n",
              "      <th>Toluene Column C670 Operation_Distillate Production Rate and Composition_n-Hexylbenzene_wt%</th>\n",
              "      <th>Toluene Column C670 Operation_Distillate Production Rate and Composition_Nitrogen_wt%</th>\n",
              "      <th>...</th>\n",
              "      <th>Toluene Column C670 Operation_Bottoms Production Rate and Composition_Methane_wt%</th>\n",
              "      <th>Toluene Column C670 Operation_Bottoms Production Rate and Composition_Ethane_wt%</th>\n",
              "      <th>Toluene Column C670 Operation_Bottoms Production Rate and Composition_Propane_wt%</th>\n",
              "      <th>Toluene Column C670 Operation_Bottoms Production Rate and Composition_n-Butane_wt%</th>\n",
              "      <th>Toluene Column C670 Operation_Bottoms Production Rate and Composition_n-Pentane_wt%</th>\n",
              "      <th>Toluene Column C670 Operation_Bottoms Production Rate and Composition_n-Hexane_wt%</th>\n",
              "      <th>Toluene Column C670 Operation_Bottoms Production Rate and Composition_Benzene_wt%</th>\n",
              "      <th>Toluene Column C670 Operation_Bottoms Production Rate and Composition_Cyclohexane_wt%</th>\n",
              "      <th>Toluene Column C670 Operation_Bottoms Production Rate and Composition_n-Heptane_wt%</th>\n",
              "      <th>Toluene Column C670 Operation_Bottoms Production Rate and Composition_Water_wt%</th>\n",
              "      <th>Toluene Column C670 Operation_Bottoms Production Rate and Composition_Methylcyclohexane_wt%</th>\n",
              "      <th>Toluene Column C670 Operation_Bottoms Production Rate and Composition_Toluene_wt%</th>\n",
              "      <th>Toluene Column C670 Operation_Bottoms Production Rate and Composition_n-Octane_wt%</th>\n",
              "      <th>Toluene Column C670 Operation_Bottoms Production Rate and Composition_n-Propylcyclopentane_wt%</th>\n",
              "      <th>Toluene Column C670 Operation_Bottoms Production Rate and Composition_Ethylcyclohexane_wt%</th>\n",
              "      <th>Toluene Column C670 Operation_Bottoms Production Rate and Composition_Ethylbenzene_wt%</th>\n",
              "      <th>Toluene Column C670 Operation_Bottoms Production Rate and Composition_p-Xylene_wt%</th>\n",
              "      <th>Toluene Column C670 Operation_Bottoms Production Rate and Composition_m-Xylene_wt%</th>\n",
              "      <th>Toluene Column C670 Operation_Bottoms Production Rate and Composition_o-Xylene_wt%</th>\n",
              "      <th>Toluene Column C670 Operation_Bottoms Production Rate and Composition_n-Nonane_wt%</th>\n",
              "      <th>Toluene Column C670 Operation_Bottoms Production Rate and Composition_i-Propylbenzene_wt%</th>\n",
              "      <th>Toluene Column C670 Operation_Bottoms Production Rate and Composition_n-Propylcyclohexane_wt%</th>\n",
              "      <th>Toluene Column C670 Operation_Bottoms Production Rate and Composition_n-Propylbenzene_wt%</th>\n",
              "      <th>Toluene Column C670 Operation_Bottoms Production Rate and Composition_1-Methyl-3-ethylbenzene_wt%</th>\n",
              "      <th>Toluene Column C670 Operation_Bottoms Production Rate and Composition_1-Methyl-4-ethylbenzene_wt%</th>\n",
              "      <th>Toluene Column C670 Operation_Bottoms Production Rate and Composition_1,3,5-Trimethylbenzene_wt%</th>\n",
              "      <th>Toluene Column C670 Operation_Bottoms Production Rate and Composition_1-Methyl-2-ethylbenzene_wt%</th>\n",
              "      <th>Toluene Column C670 Operation_Bottoms Production Rate and Composition_1,2,4-Trimethylbenzene_wt%</th>\n",
              "      <th>Toluene Column C670 Operation_Bottoms Production Rate and Composition_tert-Butylcyclohexane_wt%</th>\n",
              "      <th>Toluene Column C670 Operation_Bottoms Production Rate and Composition_1,2,3-Trimethylbenzene_wt%</th>\n",
              "      <th>Toluene Column C670 Operation_Bottoms Production Rate and Composition_Indane_wt%</th>\n",
              "      <th>Toluene Column C670 Operation_Bottoms Production Rate and Composition_1-Methyl-4-n-propylbenzene_wt%</th>\n",
              "      <th>Toluene Column C670 Operation_Bottoms Production Rate and Composition_1,2-Diethylbenzene_wt%</th>\n",
              "      <th>Toluene Column C670 Operation_Bottoms Production Rate and Composition_5-Ethyl-m-xylene_wt%</th>\n",
              "      <th>Toluene Column C670 Operation_Bottoms Production Rate and Composition_1,4-Diethylbenzene_wt%</th>\n",
              "      <th>Toluene Column C670 Operation_Bottoms Production Rate and Composition_1,2,3,5-Tetramethylbenzene_wt%</th>\n",
              "      <th>Toluene Column C670 Operation_Bottoms Production Rate and Composition_n-Pentylbenzene_wt%</th>\n",
              "      <th>Toluene Column C670 Operation_Bottoms Production Rate and Composition_n-Hexylbenzene_wt%</th>\n",
              "      <th>Toluene Column C670 Operation_Bottoms Production Rate and Composition_Nitrogen_wt%</th>\n",
              "      <th>Toluene Column C670 Operation_Bottoms Production Rate and Composition_Oxygen_wt%</th>\n",
              "    </tr>\n",
              "  </thead>\n",
              "  <tbody>\n",
              "    <tr>\n",
              "      <th>115-086</th>\n",
              "      <td>0.0</td>\n",
              "      <td>0.0</td>\n",
              "      <td>0.0</td>\n",
              "      <td>0.0</td>\n",
              "      <td>0.0</td>\n",
              "      <td>2.099928e-16</td>\n",
              "      <td>1.851889e-09</td>\n",
              "      <td>0.360318</td>\n",
              "      <td>0.000237</td>\n",
              "      <td>0.004893</td>\n",
              "      <td>0.0</td>\n",
              "      <td>0.019399</td>\n",
              "      <td>99.580093</td>\n",
              "      <td>0.019033</td>\n",
              "      <td>0.005033</td>\n",
              "      <td>0.000996</td>\n",
              "      <td>0.005244</td>\n",
              "      <td>0.002295</td>\n",
              "      <td>0.002454</td>\n",
              "      <td>0.000007</td>\n",
              "      <td>0.000002</td>\n",
              "      <td>1.019660e-11</td>\n",
              "      <td>8.663899e-11</td>\n",
              "      <td>2.313764e-14</td>\n",
              "      <td>1.365674e-11</td>\n",
              "      <td>2.303451e-12</td>\n",
              "      <td>4.890258e-14</td>\n",
              "      <td>5.712582e-13</td>\n",
              "      <td>8.975893e-16</td>\n",
              "      <td>2.745582e-16</td>\n",
              "      <td>2.137838e-19</td>\n",
              "      <td>1.539743e-20</td>\n",
              "      <td>3.121261e-20</td>\n",
              "      <td>5.547635e-21</td>\n",
              "      <td>2.030534e-22</td>\n",
              "      <td>0.0</td>\n",
              "      <td>0.0</td>\n",
              "      <td>0.0</td>\n",
              "      <td>0.0</td>\n",
              "      <td>0.0</td>\n",
              "      <td>...</td>\n",
              "      <td>0.0</td>\n",
              "      <td>0.0</td>\n",
              "      <td>0.0</td>\n",
              "      <td>0.0</td>\n",
              "      <td>0.0</td>\n",
              "      <td>5.753609e-21</td>\n",
              "      <td>8.892942e-10</td>\n",
              "      <td>1.913913e-12</td>\n",
              "      <td>4.306643e-10</td>\n",
              "      <td>0.0</td>\n",
              "      <td>2.053121e-07</td>\n",
              "      <td>0.02</td>\n",
              "      <td>0.000031</td>\n",
              "      <td>0.022686</td>\n",
              "      <td>0.026989</td>\n",
              "      <td>3.211718</td>\n",
              "      <td>13.927671</td>\n",
              "      <td>29.320845</td>\n",
              "      <td>12.841249</td>\n",
              "      <td>0.046762</td>\n",
              "      <td>0.032032</td>\n",
              "      <td>0.041575</td>\n",
              "      <td>0.039424</td>\n",
              "      <td>2.662526</td>\n",
              "      <td>1.396026</td>\n",
              "      <td>7.510625</td>\n",
              "      <td>0.784233</td>\n",
              "      <td>19.175583</td>\n",
              "      <td>0.002836</td>\n",
              "      <td>3.060297</td>\n",
              "      <td>0.137984</td>\n",
              "      <td>0.014485</td>\n",
              "      <td>0.057204</td>\n",
              "      <td>2.057446</td>\n",
              "      <td>0.0</td>\n",
              "      <td>2.370375</td>\n",
              "      <td>0.867331</td>\n",
              "      <td>0.372065</td>\n",
              "      <td>0.0</td>\n",
              "      <td>0.0</td>\n",
              "    </tr>\n",
              "    <tr>\n",
              "      <th>014-056</th>\n",
              "      <td>0.0</td>\n",
              "      <td>0.0</td>\n",
              "      <td>0.0</td>\n",
              "      <td>0.0</td>\n",
              "      <td>0.0</td>\n",
              "      <td>3.251685e-16</td>\n",
              "      <td>2.710184e-09</td>\n",
              "      <td>0.424363</td>\n",
              "      <td>0.000312</td>\n",
              "      <td>0.006454</td>\n",
              "      <td>0.0</td>\n",
              "      <td>0.026250</td>\n",
              "      <td>99.487457</td>\n",
              "      <td>0.037483</td>\n",
              "      <td>0.006673</td>\n",
              "      <td>0.001015</td>\n",
              "      <td>0.005874</td>\n",
              "      <td>0.001921</td>\n",
              "      <td>0.002198</td>\n",
              "      <td>0.000006</td>\n",
              "      <td>0.000002</td>\n",
              "      <td>2.723625e-12</td>\n",
              "      <td>7.471718e-11</td>\n",
              "      <td>6.300927e-15</td>\n",
              "      <td>6.987895e-12</td>\n",
              "      <td>1.131973e-12</td>\n",
              "      <td>2.713782e-14</td>\n",
              "      <td>2.799756e-13</td>\n",
              "      <td>5.442636e-16</td>\n",
              "      <td>2.276113e-16</td>\n",
              "      <td>1.465908e-19</td>\n",
              "      <td>6.951857e-21</td>\n",
              "      <td>1.524356e-21</td>\n",
              "      <td>2.849471e-22</td>\n",
              "      <td>1.679747e-22</td>\n",
              "      <td>0.0</td>\n",
              "      <td>0.0</td>\n",
              "      <td>0.0</td>\n",
              "      <td>0.0</td>\n",
              "      <td>0.0</td>\n",
              "      <td>...</td>\n",
              "      <td>0.0</td>\n",
              "      <td>0.0</td>\n",
              "      <td>0.0</td>\n",
              "      <td>0.0</td>\n",
              "      <td>0.0</td>\n",
              "      <td>1.002926e-20</td>\n",
              "      <td>1.171585e-09</td>\n",
              "      <td>2.858293e-12</td>\n",
              "      <td>6.424124e-10</td>\n",
              "      <td>0.0</td>\n",
              "      <td>2.923859e-07</td>\n",
              "      <td>0.02</td>\n",
              "      <td>0.000039</td>\n",
              "      <td>0.032225</td>\n",
              "      <td>0.034288</td>\n",
              "      <td>4.677092</td>\n",
              "      <td>16.317581</td>\n",
              "      <td>35.588413</td>\n",
              "      <td>14.423800</td>\n",
              "      <td>0.064082</td>\n",
              "      <td>0.011905</td>\n",
              "      <td>0.088822</td>\n",
              "      <td>0.013889</td>\n",
              "      <td>1.947425</td>\n",
              "      <td>1.020824</td>\n",
              "      <td>5.168634</td>\n",
              "      <td>0.573905</td>\n",
              "      <td>13.197104</td>\n",
              "      <td>0.006690</td>\n",
              "      <td>2.107173</td>\n",
              "      <td>0.069445</td>\n",
              "      <td>0.003305</td>\n",
              "      <td>0.045988</td>\n",
              "      <td>1.783756</td>\n",
              "      <td>0.0</td>\n",
              "      <td>2.051617</td>\n",
              "      <td>0.525801</td>\n",
              "      <td>0.226194</td>\n",
              "      <td>0.0</td>\n",
              "      <td>0.0</td>\n",
              "    </tr>\n",
              "    <tr>\n",
              "      <th>124-072</th>\n",
              "      <td>0.0</td>\n",
              "      <td>0.0</td>\n",
              "      <td>0.0</td>\n",
              "      <td>0.0</td>\n",
              "      <td>0.0</td>\n",
              "      <td>1.308517e-16</td>\n",
              "      <td>1.274982e-09</td>\n",
              "      <td>0.258120</td>\n",
              "      <td>0.000189</td>\n",
              "      <td>0.004085</td>\n",
              "      <td>0.0</td>\n",
              "      <td>0.017192</td>\n",
              "      <td>99.690277</td>\n",
              "      <td>0.016354</td>\n",
              "      <td>0.003098</td>\n",
              "      <td>0.000688</td>\n",
              "      <td>0.006418</td>\n",
              "      <td>0.001772</td>\n",
              "      <td>0.001806</td>\n",
              "      <td>0.000004</td>\n",
              "      <td>0.000003</td>\n",
              "      <td>5.769675e-12</td>\n",
              "      <td>1.712450e-10</td>\n",
              "      <td>1.278947e-14</td>\n",
              "      <td>7.278695e-12</td>\n",
              "      <td>1.129123e-12</td>\n",
              "      <td>2.223935e-14</td>\n",
              "      <td>2.797593e-13</td>\n",
              "      <td>4.503130e-16</td>\n",
              "      <td>6.119857e-16</td>\n",
              "      <td>1.068401e-19</td>\n",
              "      <td>8.049816e-21</td>\n",
              "      <td>2.827804e-20</td>\n",
              "      <td>5.180987e-21</td>\n",
              "      <td>1.041204e-22</td>\n",
              "      <td>0.0</td>\n",
              "      <td>0.0</td>\n",
              "      <td>0.0</td>\n",
              "      <td>0.0</td>\n",
              "      <td>0.0</td>\n",
              "      <td>...</td>\n",
              "      <td>0.0</td>\n",
              "      <td>0.0</td>\n",
              "      <td>0.0</td>\n",
              "      <td>0.0</td>\n",
              "      <td>0.0</td>\n",
              "      <td>3.704527e-21</td>\n",
              "      <td>6.414555e-10</td>\n",
              "      <td>1.534885e-12</td>\n",
              "      <td>3.728160e-10</td>\n",
              "      <td>0.0</td>\n",
              "      <td>2.060119e-07</td>\n",
              "      <td>0.02</td>\n",
              "      <td>0.000043</td>\n",
              "      <td>0.029310</td>\n",
              "      <td>0.032350</td>\n",
              "      <td>4.035266</td>\n",
              "      <td>14.204894</td>\n",
              "      <td>29.533321</td>\n",
              "      <td>12.512073</td>\n",
              "      <td>0.055222</td>\n",
              "      <td>0.031244</td>\n",
              "      <td>0.048038</td>\n",
              "      <td>0.038454</td>\n",
              "      <td>2.595649</td>\n",
              "      <td>1.360312</td>\n",
              "      <td>7.323095</td>\n",
              "      <td>0.764274</td>\n",
              "      <td>18.703093</td>\n",
              "      <td>0.003327</td>\n",
              "      <td>2.984997</td>\n",
              "      <td>0.134589</td>\n",
              "      <td>0.008307</td>\n",
              "      <td>0.054377</td>\n",
              "      <td>2.006821</td>\n",
              "      <td>0.0</td>\n",
              "      <td>2.312050</td>\n",
              "      <td>0.845989</td>\n",
              "      <td>0.362910</td>\n",
              "      <td>0.0</td>\n",
              "      <td>0.0</td>\n",
              "    </tr>\n",
              "  </tbody>\n",
              "</table>\n",
              "<p>3 rows × 82 columns</p>\n",
              "</div>"
            ],
            "text/plain": [
              "         Toluene Column C670 Operation_Distillate Production Rate and Composition_Hydrogen_wt%  ...  Toluene Column C670 Operation_Bottoms Production Rate and Composition_Oxygen_wt%\n",
              "115-086                                                0.0                                      ...                                                0.0                               \n",
              "014-056                                                0.0                                      ...                                                0.0                               \n",
              "124-072                                                0.0                                      ...                                                0.0                               \n",
              "\n",
              "[3 rows x 82 columns]"
            ]
          },
          "metadata": {
            "tags": []
          },
          "execution_count": 28
        }
      ]
    },
    {
      "cell_type": "code",
      "metadata": {
        "id": "-upe3L7AgIUq",
        "colab": {
          "base_uri": "https://localhost:8080/",
          "height": 407
        },
        "outputId": "198e2554-d51e-4fc7-bc72-9e1d29fb6db4"
      },
      "source": [
        "res = c670.show_metrics(wt_real,wt_pred,e=0.02).fillna(0)\n",
        "res"
      ],
      "execution_count": null,
      "outputs": [
        {
          "output_type": "execute_result",
          "data": {
            "text/html": [
              "<div>\n",
              "<style scoped>\n",
              "    .dataframe tbody tr th:only-of-type {\n",
              "        vertical-align: middle;\n",
              "    }\n",
              "\n",
              "    .dataframe tbody tr th {\n",
              "        vertical-align: top;\n",
              "    }\n",
              "\n",
              "    .dataframe thead th {\n",
              "        text-align: right;\n",
              "    }\n",
              "</style>\n",
              "<table border=\"1\" class=\"dataframe\">\n",
              "  <thead>\n",
              "    <tr style=\"text-align: right;\">\n",
              "      <th></th>\n",
              "      <th>R2</th>\n",
              "      <th>MSE</th>\n",
              "      <th>MAPE</th>\n",
              "    </tr>\n",
              "  </thead>\n",
              "  <tbody>\n",
              "    <tr>\n",
              "      <th>Toluene Column C670 Operation_Distillate Production Rate and Composition_Hydrogen_wt%</th>\n",
              "      <td>1.000000</td>\n",
              "      <td>0.000000e+00</td>\n",
              "      <td>0.000000</td>\n",
              "    </tr>\n",
              "    <tr>\n",
              "      <th>Toluene Column C670 Operation_Distillate Production Rate and Composition_Methane_wt%</th>\n",
              "      <td>1.000000</td>\n",
              "      <td>0.000000e+00</td>\n",
              "      <td>0.000000</td>\n",
              "    </tr>\n",
              "    <tr>\n",
              "      <th>Toluene Column C670 Operation_Distillate Production Rate and Composition_Ethane_wt%</th>\n",
              "      <td>1.000000</td>\n",
              "      <td>0.000000e+00</td>\n",
              "      <td>0.000000</td>\n",
              "    </tr>\n",
              "    <tr>\n",
              "      <th>Toluene Column C670 Operation_Distillate Production Rate and Composition_Propane_wt%</th>\n",
              "      <td>1.000000</td>\n",
              "      <td>0.000000e+00</td>\n",
              "      <td>0.000000</td>\n",
              "    </tr>\n",
              "    <tr>\n",
              "      <th>Toluene Column C670 Operation_Distillate Production Rate and Composition_n-Butane_wt%</th>\n",
              "      <td>1.000000</td>\n",
              "      <td>0.000000e+00</td>\n",
              "      <td>0.000000</td>\n",
              "    </tr>\n",
              "    <tr>\n",
              "      <th>...</th>\n",
              "      <td>...</td>\n",
              "      <td>...</td>\n",
              "      <td>...</td>\n",
              "    </tr>\n",
              "    <tr>\n",
              "      <th>Toluene Column C670 Operation_Bottoms Production Rate and Composition_n-Pentylbenzene_wt%</th>\n",
              "      <td>1.000000</td>\n",
              "      <td>9.121183e-10</td>\n",
              "      <td>0.001937</td>\n",
              "    </tr>\n",
              "    <tr>\n",
              "      <th>Toluene Column C670 Operation_Bottoms Production Rate and Composition_n-Hexylbenzene_wt%</th>\n",
              "      <td>1.000000</td>\n",
              "      <td>1.893225e-10</td>\n",
              "      <td>0.001966</td>\n",
              "    </tr>\n",
              "    <tr>\n",
              "      <th>Toluene Column C670 Operation_Bottoms Production Rate and Composition_Nitrogen_wt%</th>\n",
              "      <td>1.000000</td>\n",
              "      <td>0.000000e+00</td>\n",
              "      <td>0.000000</td>\n",
              "    </tr>\n",
              "    <tr>\n",
              "      <th>Toluene Column C670 Operation_Bottoms Production Rate and Composition_Oxygen_wt%</th>\n",
              "      <td>1.000000</td>\n",
              "      <td>0.000000e+00</td>\n",
              "      <td>0.000000</td>\n",
              "    </tr>\n",
              "    <tr>\n",
              "      <th>AVG</th>\n",
              "      <td>0.914198</td>\n",
              "      <td>8.280904e-10</td>\n",
              "      <td>0.022846</td>\n",
              "    </tr>\n",
              "  </tbody>\n",
              "</table>\n",
              "<p>83 rows × 3 columns</p>\n",
              "</div>"
            ],
            "text/plain": [
              "                                                          R2  ...      MAPE\n",
              "Toluene Column C670 Operation_Distillate Produc...  1.000000  ...  0.000000\n",
              "Toluene Column C670 Operation_Distillate Produc...  1.000000  ...  0.000000\n",
              "Toluene Column C670 Operation_Distillate Produc...  1.000000  ...  0.000000\n",
              "Toluene Column C670 Operation_Distillate Produc...  1.000000  ...  0.000000\n",
              "Toluene Column C670 Operation_Distillate Produc...  1.000000  ...  0.000000\n",
              "...                                                      ...  ...       ...\n",
              "Toluene Column C670 Operation_Bottoms Productio...  1.000000  ...  0.001937\n",
              "Toluene Column C670 Operation_Bottoms Productio...  1.000000  ...  0.001966\n",
              "Toluene Column C670 Operation_Bottoms Productio...  1.000000  ...  0.000000\n",
              "Toluene Column C670 Operation_Bottoms Productio...  1.000000  ...  0.000000\n",
              "AVG                                                 0.914198  ...  0.022846\n",
              "\n",
              "[83 rows x 3 columns]"
            ]
          },
          "metadata": {
            "tags": []
          },
          "execution_count": 29
        }
      ]
    },
    {
      "cell_type": "code",
      "metadata": {
        "id": "AelwkA--qoVt"
      },
      "source": [
        "c670.shrink()"
      ],
      "execution_count": null,
      "outputs": []
    },
    {
      "cell_type": "code",
      "metadata": {
        "colab": {
          "base_uri": "https://localhost:8080/"
        },
        "id": "UvPNVFVgtveh",
        "outputId": "a4f37068-0243-4fc6-8796-a3496049bca3"
      },
      "source": [
        "joblib.dump(c670,'/content/drive/MyDrive/台塑輕油案子/data/c620/model/c670.pkl')"
      ],
      "execution_count": null,
      "outputs": [
        {
          "output_type": "execute_result",
          "data": {
            "text/plain": [
              "['/content/drive/MyDrive/台塑輕油案子/data/c620/model/c670.pkl']"
            ]
          },
          "metadata": {
            "tags": []
          },
          "execution_count": 31
        }
      ]
    },
    {
      "cell_type": "code",
      "metadata": {
        "id": "SHUTpMqTuBM8"
      },
      "source": [
        ""
      ],
      "execution_count": null,
      "outputs": []
    }
  ]
}