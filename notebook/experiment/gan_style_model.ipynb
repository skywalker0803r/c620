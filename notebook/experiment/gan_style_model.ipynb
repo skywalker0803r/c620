{
  "nbformat": 4,
  "nbformat_minor": 0,
  "metadata": {
    "colab": {
      "name": "wraps the post-processing together in the neural network.ipynb",
      "provenance": [],
      "mount_file_id": "1Z2Du0fFuI41Pe28JvUtrt4CUd1ZF89fp",
      "authorship_tag": "ABX9TyNBMXAak/hMUog9N2ZXQMu2",
      "include_colab_link": true
    },
    "kernelspec": {
      "name": "python3",
      "display_name": "Python 3",
      "language": "python"
    },
    "widgets": {
      "application/vnd.jupyter.widget-state+json": {
        "1cf0efa5dfdf4598bf8e51bc85f41e57": {
          "model_module": "@jupyter-widgets/controls",
          "model_name": "HBoxModel",
          "state": {
            "_view_name": "HBoxView",
            "_dom_classes": [],
            "_model_name": "HBoxModel",
            "_view_module": "@jupyter-widgets/controls",
            "_model_module_version": "1.5.0",
            "_view_count": null,
            "_view_module_version": "1.5.0",
            "box_style": "",
            "layout": "IPY_MODEL_43b0bd7b070e4127a34f0652c74862ca",
            "_model_module": "@jupyter-widgets/controls",
            "children": [
              "IPY_MODEL_3e09b380d1894c84927978f25957214c",
              "IPY_MODEL_00fa0636d1c248ce8d7935e01d3f20c1"
            ]
          }
        },
        "43b0bd7b070e4127a34f0652c74862ca": {
          "model_module": "@jupyter-widgets/base",
          "model_name": "LayoutModel",
          "state": {
            "_view_name": "LayoutView",
            "grid_template_rows": null,
            "right": null,
            "justify_content": null,
            "_view_module": "@jupyter-widgets/base",
            "overflow": null,
            "_model_module_version": "1.2.0",
            "_view_count": null,
            "flex_flow": null,
            "width": null,
            "min_width": null,
            "border": null,
            "align_items": null,
            "bottom": null,
            "_model_module": "@jupyter-widgets/base",
            "top": null,
            "grid_column": null,
            "overflow_y": null,
            "overflow_x": null,
            "grid_auto_flow": null,
            "grid_area": null,
            "grid_template_columns": null,
            "flex": null,
            "_model_name": "LayoutModel",
            "justify_items": null,
            "grid_row": null,
            "max_height": null,
            "align_content": null,
            "visibility": null,
            "align_self": null,
            "height": null,
            "min_height": null,
            "padding": null,
            "grid_auto_rows": null,
            "grid_gap": null,
            "max_width": null,
            "order": null,
            "_view_module_version": "1.2.0",
            "grid_template_areas": null,
            "object_position": null,
            "object_fit": null,
            "grid_auto_columns": null,
            "margin": null,
            "display": null,
            "left": null
          }
        },
        "3e09b380d1894c84927978f25957214c": {
          "model_module": "@jupyter-widgets/controls",
          "model_name": "FloatProgressModel",
          "state": {
            "_view_name": "ProgressView",
            "style": "IPY_MODEL_82a35ad1f2b049cbab715138a088a873",
            "_dom_classes": [],
            "description": "100%",
            "_model_name": "FloatProgressModel",
            "bar_style": "success",
            "max": 100,
            "_view_module": "@jupyter-widgets/controls",
            "_model_module_version": "1.5.0",
            "value": 100,
            "_view_count": null,
            "_view_module_version": "1.5.0",
            "orientation": "horizontal",
            "min": 0,
            "description_tooltip": null,
            "_model_module": "@jupyter-widgets/controls",
            "layout": "IPY_MODEL_41bc999b9cd24ebbb786a261f2723406"
          }
        },
        "00fa0636d1c248ce8d7935e01d3f20c1": {
          "model_module": "@jupyter-widgets/controls",
          "model_name": "HTMLModel",
          "state": {
            "_view_name": "HTMLView",
            "style": "IPY_MODEL_cb29554ffa934da1901d241037229497",
            "_dom_classes": [],
            "description": "",
            "_model_name": "HTMLModel",
            "placeholder": "​",
            "_view_module": "@jupyter-widgets/controls",
            "_model_module_version": "1.5.0",
            "value": " 100/100 [06:10&lt;00:00,  3.71s/it]",
            "_view_count": null,
            "_view_module_version": "1.5.0",
            "description_tooltip": null,
            "_model_module": "@jupyter-widgets/controls",
            "layout": "IPY_MODEL_964bdcf054c34bf5b7e91355ff3148a7"
          }
        },
        "82a35ad1f2b049cbab715138a088a873": {
          "model_module": "@jupyter-widgets/controls",
          "model_name": "ProgressStyleModel",
          "state": {
            "_view_name": "StyleView",
            "_model_name": "ProgressStyleModel",
            "description_width": "initial",
            "_view_module": "@jupyter-widgets/base",
            "_model_module_version": "1.5.0",
            "_view_count": null,
            "_view_module_version": "1.2.0",
            "bar_color": null,
            "_model_module": "@jupyter-widgets/controls"
          }
        },
        "41bc999b9cd24ebbb786a261f2723406": {
          "model_module": "@jupyter-widgets/base",
          "model_name": "LayoutModel",
          "state": {
            "_view_name": "LayoutView",
            "grid_template_rows": null,
            "right": null,
            "justify_content": null,
            "_view_module": "@jupyter-widgets/base",
            "overflow": null,
            "_model_module_version": "1.2.0",
            "_view_count": null,
            "flex_flow": null,
            "width": null,
            "min_width": null,
            "border": null,
            "align_items": null,
            "bottom": null,
            "_model_module": "@jupyter-widgets/base",
            "top": null,
            "grid_column": null,
            "overflow_y": null,
            "overflow_x": null,
            "grid_auto_flow": null,
            "grid_area": null,
            "grid_template_columns": null,
            "flex": null,
            "_model_name": "LayoutModel",
            "justify_items": null,
            "grid_row": null,
            "max_height": null,
            "align_content": null,
            "visibility": null,
            "align_self": null,
            "height": null,
            "min_height": null,
            "padding": null,
            "grid_auto_rows": null,
            "grid_gap": null,
            "max_width": null,
            "order": null,
            "_view_module_version": "1.2.0",
            "grid_template_areas": null,
            "object_position": null,
            "object_fit": null,
            "grid_auto_columns": null,
            "margin": null,
            "display": null,
            "left": null
          }
        },
        "cb29554ffa934da1901d241037229497": {
          "model_module": "@jupyter-widgets/controls",
          "model_name": "DescriptionStyleModel",
          "state": {
            "_view_name": "StyleView",
            "_model_name": "DescriptionStyleModel",
            "description_width": "",
            "_view_module": "@jupyter-widgets/base",
            "_model_module_version": "1.5.0",
            "_view_count": null,
            "_view_module_version": "1.2.0",
            "_model_module": "@jupyter-widgets/controls"
          }
        },
        "964bdcf054c34bf5b7e91355ff3148a7": {
          "model_module": "@jupyter-widgets/base",
          "model_name": "LayoutModel",
          "state": {
            "_view_name": "LayoutView",
            "grid_template_rows": null,
            "right": null,
            "justify_content": null,
            "_view_module": "@jupyter-widgets/base",
            "overflow": null,
            "_model_module_version": "1.2.0",
            "_view_count": null,
            "flex_flow": null,
            "width": null,
            "min_width": null,
            "border": null,
            "align_items": null,
            "bottom": null,
            "_model_module": "@jupyter-widgets/base",
            "top": null,
            "grid_column": null,
            "overflow_y": null,
            "overflow_x": null,
            "grid_auto_flow": null,
            "grid_area": null,
            "grid_template_columns": null,
            "flex": null,
            "_model_name": "LayoutModel",
            "justify_items": null,
            "grid_row": null,
            "max_height": null,
            "align_content": null,
            "visibility": null,
            "align_self": null,
            "height": null,
            "min_height": null,
            "padding": null,
            "grid_auto_rows": null,
            "grid_gap": null,
            "max_width": null,
            "order": null,
            "_view_module_version": "1.2.0",
            "grid_template_areas": null,
            "object_position": null,
            "object_fit": null,
            "grid_auto_columns": null,
            "margin": null,
            "display": null,
            "left": null
          }
        }
      }
    }
  },
  "cells": [
    {
      "cell_type": "markdown",
      "metadata": {
        "id": "view-in-github",
        "colab_type": "text"
      },
      "source": [
        "<a href=\"https://colab.research.google.com/github/skywalker0803r/c620/blob/main/notebook/experiment/gan_style_model.ipynb\" target=\"_parent\"><img src=\"https://colab.research.google.com/assets/colab-badge.svg\" alt=\"Open In Colab\"/></a>"
      ]
    },
    {
      "cell_type": "markdown",
      "metadata": {
        "id": "eh1eiRdhxlSs"
      },
      "source": [
        "# load data"
      ]
    },
    {
      "cell_type": "code",
      "metadata": {
        "colab": {
          "base_uri": "https://localhost:8080/",
          "height": 333
        },
        "id": "5LsnHqq_sw5-",
        "outputId": "3072fd9e-f9a4-44b1-92d7-19160b2ac5e7"
      },
      "source": [
        "import pandas as pd\n",
        "import joblib\n",
        "from urllib.request import urlopen\n",
        "import numpy as np\n",
        "\n",
        "df_url = 'https://c620.s3-ap-northeast-1.amazonaws.com/c620_train.csv'\n",
        "c_url = 'https://c620.s3-ap-northeast-1.amazonaws.com/c620_col_names.pkl'\n",
        "\n",
        "df = pd.read_csv(df_url,index_col=0)\n",
        "c = joblib.load(urlopen(c_url))\n",
        "\n",
        "case_col = c['case']\n",
        "feed_col = c['x41']\n",
        "op_col = c['density']+c['yRefluxRate']+c['yHeatDuty']+c['yControl']\n",
        "sp_col = c['vent_gas_sf'] + c['distillate_sf'] + c['sidedraw_sf'] + c['bottoms_sf']\n",
        "wt_col = c['vent_gas_x']+c['distillate_x']+c['sidedraw_x']+c['bottoms_x']\n",
        "all_col = case_col + feed_col + op_col + sp_col + wt_col\n",
        "\n",
        "print(len(case_col))\n",
        "print(len(feed_col))\n",
        "print(len(op_col))\n",
        "print(len(sp_col))\n",
        "print(len(wt_col))\n",
        "\n",
        "df[all_col].head(1)"
      ],
      "execution_count": 1,
      "outputs": [
        {
          "output_type": "stream",
          "name": "stdout",
          "text": [
            "3\n41\n10\n164\n164\n"
          ]
        },
        {
          "output_type": "execute_result",
          "data": {
            "text/plain": [
              "         Tatoray Stripper C620 Operation_Specifications_Spec 1 : Receiver Temp_oC  \\\n",
              "001-001                                               36.0                          \n",
              "\n",
              "         Tatoray Stripper C620 Operation_Specifications_Spec 2 : Distillate Rate_m3/hr  \\\n",
              "001-001                                                0.5                               \n",
              "\n",
              "         Tatoray Stripper C620 Operation_Specifications_Spec 3 : Benzene in Sidedraw_wt%  \\\n",
              "001-001                                          89.999954                                 \n",
              "\n",
              "         Combined Feed to Tatoray Stripper C620_Detailed Composition_Hydrogen_wt%  \\\n",
              "001-001                                                0.0                          \n",
              "\n",
              "         Combined Feed to Tatoray Stripper C620_Detailed Composition_Methane_wt%  \\\n",
              "001-001                                           0.022867                         \n",
              "\n",
              "         Combined Feed to Tatoray Stripper C620_Detailed Composition_Ethane_wt%  \\\n",
              "001-001                                           0.552459                        \n",
              "\n",
              "         Combined Feed to Tatoray Stripper C620_Detailed Composition_Propane_wt%  \\\n",
              "001-001                                           0.508704                         \n",
              "\n",
              "         Combined Feed to Tatoray Stripper C620_Detailed Composition_n-Butane_wt%  \\\n",
              "001-001                                           0.152381                          \n",
              "\n",
              "         Combined Feed to Tatoray Stripper C620_Detailed Composition_n-Pentane_wt%  \\\n",
              "001-001                                           0.076394                           \n",
              "\n",
              "         Combined Feed to Tatoray Stripper C620_Detailed Composition_n-Hexane_wt%  \\\n",
              "001-001                                           0.015837                          \n",
              "\n",
              "         ...  \\\n",
              "001-001  ...   \n",
              "\n",
              "         Tatoray Stripper C620 Operation_Bottoms Production Rate and Composition_Indane_wt%  \\\n",
              "001-001                                           0.039314                                    \n",
              "\n",
              "         Tatoray Stripper C620 Operation_Bottoms Production Rate and Composition_1-Methyl-4-n-propylbenzene_wt%  \\\n",
              "001-001                                           0.001123                                                        \n",
              "\n",
              "         Tatoray Stripper C620 Operation_Bottoms Production Rate and Composition_1,2-Diethylbenzene_wt%  \\\n",
              "001-001                                           0.025835                                                \n",
              "\n",
              "         Tatoray Stripper C620 Operation_Bottoms Production Rate and Composition_5-Ethyl-m-xylene_wt%  \\\n",
              "001-001                                           1.009804                                              \n",
              "\n",
              "         Tatoray Stripper C620 Operation_Bottoms Production Rate and Composition_1,4-Diethylbenzene_wt%  \\\n",
              "001-001                                                0.0                                                \n",
              "\n",
              "         Tatoray Stripper C620 Operation_Bottoms Production Rate and Composition_1,2,3,5-Tetramethylbenzene_wt%  \\\n",
              "001-001                                           1.161444                                                        \n",
              "\n",
              "         Tatoray Stripper C620 Operation_Bottoms Production Rate and Composition_n-Pentylbenzene_wt%  \\\n",
              "001-001                                           0.297662                                             \n",
              "\n",
              "         Tatoray Stripper C620 Operation_Bottoms Production Rate and Composition_n-Hexylbenzene_wt%  \\\n",
              "001-001                                           0.128051                                            \n",
              "\n",
              "         Tatoray Stripper C620 Operation_Bottoms Production Rate and Composition_Nitrogen_wt%  \\\n",
              "001-001                                                0.0                                      \n",
              "\n",
              "         Tatoray Stripper C620 Operation_Bottoms Production Rate and Composition_Oxygen_wt%  \n",
              "001-001                                                0.0                                   \n",
              "\n",
              "[1 rows x 382 columns]"
            ],
            "text/html": "<div>\n<style scoped>\n    .dataframe tbody tr th:only-of-type {\n        vertical-align: middle;\n    }\n\n    .dataframe tbody tr th {\n        vertical-align: top;\n    }\n\n    .dataframe thead th {\n        text-align: right;\n    }\n</style>\n<table border=\"1\" class=\"dataframe\">\n  <thead>\n    <tr style=\"text-align: right;\">\n      <th></th>\n      <th>Tatoray Stripper C620 Operation_Specifications_Spec 1 : Receiver Temp_oC</th>\n      <th>Tatoray Stripper C620 Operation_Specifications_Spec 2 : Distillate Rate_m3/hr</th>\n      <th>Tatoray Stripper C620 Operation_Specifications_Spec 3 : Benzene in Sidedraw_wt%</th>\n      <th>Combined Feed to Tatoray Stripper C620_Detailed Composition_Hydrogen_wt%</th>\n      <th>Combined Feed to Tatoray Stripper C620_Detailed Composition_Methane_wt%</th>\n      <th>Combined Feed to Tatoray Stripper C620_Detailed Composition_Ethane_wt%</th>\n      <th>Combined Feed to Tatoray Stripper C620_Detailed Composition_Propane_wt%</th>\n      <th>Combined Feed to Tatoray Stripper C620_Detailed Composition_n-Butane_wt%</th>\n      <th>Combined Feed to Tatoray Stripper C620_Detailed Composition_n-Pentane_wt%</th>\n      <th>Combined Feed to Tatoray Stripper C620_Detailed Composition_n-Hexane_wt%</th>\n      <th>...</th>\n      <th>Tatoray Stripper C620 Operation_Bottoms Production Rate and Composition_Indane_wt%</th>\n      <th>Tatoray Stripper C620 Operation_Bottoms Production Rate and Composition_1-Methyl-4-n-propylbenzene_wt%</th>\n      <th>Tatoray Stripper C620 Operation_Bottoms Production Rate and Composition_1,2-Diethylbenzene_wt%</th>\n      <th>Tatoray Stripper C620 Operation_Bottoms Production Rate and Composition_5-Ethyl-m-xylene_wt%</th>\n      <th>Tatoray Stripper C620 Operation_Bottoms Production Rate and Composition_1,4-Diethylbenzene_wt%</th>\n      <th>Tatoray Stripper C620 Operation_Bottoms Production Rate and Composition_1,2,3,5-Tetramethylbenzene_wt%</th>\n      <th>Tatoray Stripper C620 Operation_Bottoms Production Rate and Composition_n-Pentylbenzene_wt%</th>\n      <th>Tatoray Stripper C620 Operation_Bottoms Production Rate and Composition_n-Hexylbenzene_wt%</th>\n      <th>Tatoray Stripper C620 Operation_Bottoms Production Rate and Composition_Nitrogen_wt%</th>\n      <th>Tatoray Stripper C620 Operation_Bottoms Production Rate and Composition_Oxygen_wt%</th>\n    </tr>\n  </thead>\n  <tbody>\n    <tr>\n      <th>001-001</th>\n      <td>36.0</td>\n      <td>0.5</td>\n      <td>89.999954</td>\n      <td>0.0</td>\n      <td>0.022867</td>\n      <td>0.552459</td>\n      <td>0.508704</td>\n      <td>0.152381</td>\n      <td>0.076394</td>\n      <td>0.015837</td>\n      <td>...</td>\n      <td>0.039314</td>\n      <td>0.001123</td>\n      <td>0.025835</td>\n      <td>1.009804</td>\n      <td>0.0</td>\n      <td>1.161444</td>\n      <td>0.297662</td>\n      <td>0.128051</td>\n      <td>0.0</td>\n      <td>0.0</td>\n    </tr>\n  </tbody>\n</table>\n<p>1 rows × 382 columns</p>\n</div>"
          },
          "metadata": {},
          "execution_count": 1
        }
      ]
    },
    {
      "cell_type": "code",
      "metadata": {
        "id": "vzI1Qk8O-7ZK"
      },
      "source": [
        "case_col_idx = [all_col.index(i) for i in case_col]\n",
        "feed_col_idx = [all_col.index(i) for i in feed_col]\n",
        "op_col_idx = [all_col.index(i) for i in op_col]\n",
        "sp_col_idx = [all_col.index(i) for i in sp_col]\n",
        "wt_col_idx = [all_col.index(i) for i in wt_col]"
      ],
      "execution_count": 2,
      "outputs": []
    },
    {
      "cell_type": "markdown",
      "metadata": {
        "id": "RSJkrCAM0wUS"
      },
      "source": [
        "# preprocess data"
      ]
    },
    {
      "cell_type": "code",
      "metadata": {
        "id": "37NCtfDr0wdh"
      },
      "source": [
        "from sklearn.utils import shuffle\n",
        "from torch.utils.data import TensorDataset,DataLoader\n",
        "from sklearn.preprocessing import MinMaxScaler\n",
        "import torch\n",
        "\n",
        "# split data\n",
        "df = shuffle(df)\n",
        "p1 = int(len(df)*0.8)\n",
        "p2 = int(len(df)*0.9)\n",
        "\n",
        "# to FloatTensor\n",
        "train = torch.FloatTensor(df[all_col].values[:p1])\n",
        "vaild = torch.FloatTensor(df[all_col].values[p1:p2])\n",
        "test = torch.FloatTensor(df[all_col].values[p2:])\n",
        "\n",
        "# create DataLoader\n",
        "trainset = TensorDataset(train[:,case_col_idx],train[:,feed_col_idx],train[:,op_col_idx],train[:,sp_col_idx],train[:,wt_col_idx])\n",
        "train_iter = DataLoader(trainset,batch_size=64)\n",
        "\n",
        "vaildset = TensorDataset(vaild[:,case_col_idx],vaild[:,feed_col_idx],vaild[:,op_col_idx],vaild[:,sp_col_idx],vaild[:,wt_col_idx])\n",
        "vaild_iter = DataLoader(vaildset,batch_size=64)\n",
        "\n",
        "testset = TensorDataset(test[:,case_col_idx],test[:,feed_col_idx],test[:,op_col_idx],test[:,sp_col_idx],test[:,wt_col_idx])\n",
        "test_iter = DataLoader(testset,batch_size=64)"
      ],
      "execution_count": 23,
      "outputs": []
    },
    {
      "cell_type": "markdown",
      "metadata": {
        "id": "7xGPdLZ0xqwf"
      },
      "source": [
        "# def model,loss,optimizer"
      ]
    },
    {
      "cell_type": "code",
      "metadata": {
        "id": "MowtB6Dss4CN",
        "outputId": "34e9cdef-987a-4a74-efc6-01f6ac37d325",
        "colab": {
          "base_uri": "https://localhost:8080/"
        }
      },
      "source": [
        "import torch\n",
        "from torch import nn\n",
        "import torch.nn.functional as F\n",
        "\n",
        "def mlp(sizes, activation, output_activation=nn.Identity):\n",
        "  layers = []\n",
        "  for j in range(len(sizes)-1):\n",
        "    act = activation if j < len(sizes)-2 else output_activation\n",
        "    layers += [nn.Linear(sizes[j], sizes[j+1]), act()]\n",
        "  return nn.Sequential(*layers)\n",
        "\n",
        "class Model(nn.Module):\n",
        "  def __init__(self):\n",
        "    super(Model, self).__init__()\n",
        "    self.op_model = mlp(\n",
        "      [len(case_col)+len(feed_col),128,len(op_col)],\n",
        "      nn.ReLU\n",
        "      )\n",
        "    self.sp_model = mlp(\n",
        "      [len(case_col)+len(feed_col)+len(op_col),128,len(wt_col)],\n",
        "      nn.ReLU,\n",
        "      nn.Sigmoid\n",
        "      )\n",
        "\n",
        "  def forward(self,case,feed):\n",
        "    op = self.op_model(torch.cat((case,feed),dim=-1)).clone()\n",
        "    sp = self.sp_model(torch.cat((case,feed,op),dim=-1)).clone()\n",
        "    for idx in range(41):\n",
        "      sp[:,[idx,idx+41,idx+41*2,idx+41*3]] = self.normalize(sp[:,[idx,idx+41,idx+41*2,idx+41*3]])\n",
        "    s1,s2,s3,s4 = sp[:,:41],sp[:,41:41*2],sp[:,41*2:41*3],sp[:,41*3:41*4]\n",
        "    w1,w2,w3,w4 = self.sp2wt(feed,s1),self.sp2wt(feed,s2),self.sp2wt(feed,s3),self.sp2wt(feed,s4)\n",
        "    wt = torch.cat((w1,w2,w3,w4),dim=-1)\n",
        "    return op,sp,wt\n",
        "\n",
        "  @staticmethod\n",
        "  def normalize(x):\n",
        "    return x / x.sum(dim=1).reshape(-1,1)\n",
        "  \n",
        "  @staticmethod\n",
        "  def sp2wt(x,s):\n",
        "    a = 100*x*s\n",
        "    b = torch.diag(x@s.T).reshape(-1,1)\n",
        "    b = torch.clamp(b,1e-8,float('inf'))\n",
        "    return a/b\n",
        "\n",
        "# model optimizer loss_fn\n",
        "model = Model()\n",
        "optimizer = torch.optim.Adam(model.parameters())\n",
        "loss_fn = nn.SmoothL1Loss()\n",
        "\n",
        "# forward test\n",
        "for case,feed,op,sp,wt in train_iter:\n",
        "  op_hat,sp_hat,wt_hat = model(case,feed)\n",
        "  print(op_hat.shape)\n",
        "  print(sp_hat.shape)\n",
        "  print(wt_hat.shape)\n",
        "  break"
      ],
      "execution_count": 24,
      "outputs": [
        {
          "output_type": "stream",
          "name": "stdout",
          "text": [
            "torch.Size([64, 10])\ntorch.Size([64, 164])\ntorch.Size([64, 164])\n"
          ]
        }
      ]
    },
    {
      "source": [
        "# tensorboard"
      ],
      "cell_type": "markdown",
      "metadata": {}
    },
    {
      "cell_type": "code",
      "execution_count": 25,
      "metadata": {},
      "outputs": [],
      "source": [
        "from torch.utils.tensorboard import SummaryWriter\n",
        "writer = SummaryWriter()\n",
        "case,feed,op,sp,wt = next(iter(train_iter))\n",
        "writer.add_graph(model,[case,feed])\n",
        "writer.close()"
      ]
    },
    {
      "cell_type": "code",
      "execution_count": 27,
      "metadata": {},
      "outputs": [
        {
          "output_type": "stream",
          "name": "stdout",
          "text": [
            "The tensorboard extension is already loaded. To reload it, use:\n  %reload_ext tensorboard\n"
          ]
        },
        {
          "output_type": "display_data",
          "data": {
            "text/plain": "Launching TensorBoard..."
          },
          "metadata": {}
        }
      ],
      "source": [
        "%load_ext tensorboard\n",
        "%tensorboard --logdir runs"
      ]
    },
    {
      "cell_type": "markdown",
      "metadata": {
        "id": "Pp3UJCL48WtH"
      },
      "source": [
        "# train model"
      ]
    },
    {
      "cell_type": "code",
      "metadata": {
        "id": "612QfjKstcHu"
      },
      "source": [
        "import matplotlib.pyplot as plt\n",
        "from tqdm import tqdm_notebook as tqdm\n",
        "from copy import deepcopy\n",
        "\n",
        "# train step\n",
        "def train_step(model):\n",
        "  model.train()\n",
        "  total_loss = 0\n",
        "  for t,(case,feed,op,sp,wt) in enumerate(train_iter):\n",
        "    op_hat,sp_hat,wt_hat = model(case,feed)\n",
        "    op_loss = loss_fn(op_hat,op)\n",
        "    sp_loss = loss_fn(sp_hat,sp)\n",
        "    wt_loss = loss_fn(wt_hat,wt)\n",
        "    Sidedraw_Benzene_loss = loss_fn(\n",
        "      wt_hat[:,wt_col.index('Tatoray Stripper C620 Operation_Sidedraw Production Rate and Composition_Benzene_wt%')],\n",
        "      case[:,case_col.index('Tatoray Stripper C620 Operation_Specifications_Spec 3 : Benzene in Sidedraw_wt%')])\n",
        "    loss = op_loss + sp_loss + wt_loss + Sidedraw_Benzene_loss\n",
        "    # update model\n",
        "    loss.backward()\n",
        "    optimizer.step()\n",
        "    optimizer.zero_grad()\n",
        "    total_loss += loss.item()\n",
        "  return total_loss/(t+1)\n",
        "\n",
        "# valid step\n",
        "def valid_step(model):\n",
        "  model.eval()\n",
        "  total_loss = 0\n",
        "  for t,(case,feed,op,sp,wt) in enumerate(vaild_iter):\n",
        "    op_hat,sp_hat,wt_hat = model(case,feed)\n",
        "    op_loss = loss_fn(op_hat,op)\n",
        "    sp_loss = loss_fn(sp_hat,sp)\n",
        "    wt_loss = loss_fn(wt_hat,wt)\n",
        "    Sidedraw_Benzene_loss = loss_fn(\n",
        "      wt_hat[:,wt_col.index('Tatoray Stripper C620 Operation_Sidedraw Production Rate and Composition_Benzene_wt%')],\n",
        "      case[:,case_col.index('Tatoray Stripper C620 Operation_Specifications_Spec 3 : Benzene in Sidedraw_wt%')])\n",
        "    loss = op_loss + sp_loss + wt_loss + Sidedraw_Benzene_loss\n",
        "    total_loss += loss.item()\n",
        "  return total_loss/(t+1)\n",
        "\n",
        "def train(model,max_epochs): \n",
        "  history = {'train_loss':[],'valid_loss':[]}\n",
        "  current_loss = np.inf\n",
        "  best_model = None\n",
        "  for i in tqdm(range(max_epochs)):\n",
        "      history['train_loss'].append(train_step(model))\n",
        "      history['valid_loss'].append(valid_step(model))\n",
        "      if i % 10 == 0:\n",
        "        print(\"epoch:{} train_loss:{:.4f} valid_loss:{:.4f}\".format(i,history['train_loss'][-1],history['valid_loss'][-1]))\n",
        "      if history['valid_loss'][-1] <= current_loss:\n",
        "        best_model = deepcopy(model.eval())\n",
        "        current_loss = history['valid_loss'][-1]\n",
        "  model = deepcopy(best_model.eval())\n",
        "  plt.plot(history['train_loss'],label='train_loss')\n",
        "  plt.plot(history['valid_loss'],label='valid_loss')\n",
        "  plt.legend()\n",
        "  plt.show()\n",
        "  return model"
      ],
      "execution_count": 5,
      "outputs": []
    },
    {
      "cell_type": "code",
      "metadata": {
        "colab": {
          "base_uri": "https://localhost:8080/",
          "height": 518,
          "referenced_widgets": [
            "1cf0efa5dfdf4598bf8e51bc85f41e57",
            "43b0bd7b070e4127a34f0652c74862ca",
            "3e09b380d1894c84927978f25957214c",
            "00fa0636d1c248ce8d7935e01d3f20c1",
            "82a35ad1f2b049cbab715138a088a873",
            "41bc999b9cd24ebbb786a261f2723406",
            "cb29554ffa934da1901d241037229497",
            "964bdcf054c34bf5b7e91355ff3148a7"
          ]
        },
        "id": "Cy_MUSauDNDm",
        "outputId": "8c482d03-1527-4c1b-f4f9-a61d7ab57acf"
      },
      "source": [
        "model = train(model,max_epochs=250)"
      ],
      "execution_count": 6,
      "outputs": [
        {
          "output_type": "display_data",
          "data": {
            "text/plain": "HBox(children=(IntProgress(value=0, max=250), HTML(value='')))",
            "application/vnd.jupyter.widget-view+json": {
              "version_major": 2,
              "version_minor": 0,
              "model_id": "113cc200ac884cd5923c2e06b209bb56"
            }
          },
          "metadata": {}
        },
        {
          "output_type": "stream",
          "name": "stdout",
          "text": [
            "epoch:0 train_loss:30.5960 valid_loss:6.7879\n",
            "epoch:10 train_loss:3.9204 valid_loss:4.4300\n",
            "epoch:20 train_loss:3.2285 valid_loss:3.1838\n",
            "epoch:30 train_loss:2.8730 valid_loss:2.7595\n",
            "epoch:40 train_loss:2.2527 valid_loss:1.9093\n",
            "epoch:50 train_loss:2.1410 valid_loss:1.8568\n",
            "epoch:60 train_loss:1.8675 valid_loss:1.6475\n",
            "epoch:70 train_loss:1.6547 valid_loss:1.4159\n",
            "epoch:80 train_loss:0.1843 valid_loss:0.1582\n",
            "epoch:90 train_loss:0.1098 valid_loss:0.1215\n",
            "epoch:100 train_loss:0.0840 valid_loss:0.0407\n",
            "epoch:110 train_loss:0.0405 valid_loss:0.0436\n",
            "epoch:120 train_loss:0.0407 valid_loss:0.0342\n",
            "epoch:130 train_loss:0.0508 valid_loss:0.0279\n",
            "epoch:140 train_loss:0.0439 valid_loss:0.0262\n",
            "epoch:150 train_loss:0.0389 valid_loss:0.0336\n",
            "epoch:160 train_loss:0.0379 valid_loss:0.0248\n",
            "epoch:170 train_loss:0.0403 valid_loss:0.0381\n",
            "epoch:180 train_loss:0.0301 valid_loss:0.0516\n",
            "epoch:190 train_loss:0.0225 valid_loss:0.0368\n",
            "epoch:200 train_loss:0.0331 valid_loss:0.0321\n",
            "epoch:210 train_loss:0.0234 valid_loss:0.0234\n",
            "epoch:220 train_loss:0.0222 valid_loss:0.0270\n",
            "epoch:230 train_loss:0.0229 valid_loss:0.0536\n",
            "epoch:240 train_loss:0.0161 valid_loss:0.0156\n",
            "\n"
          ]
        },
        {
          "output_type": "display_data",
          "data": {
            "text/plain": "<Figure size 432x288 with 1 Axes>",
            "image/svg+xml": "<?xml version=\"1.0\" encoding=\"utf-8\" standalone=\"no\"?>\n<!DOCTYPE svg PUBLIC \"-//W3C//DTD SVG 1.1//EN\"\n  \"http://www.w3.org/Graphics/SVG/1.1/DTD/svg11.dtd\">\n<!-- Created with matplotlib (https://matplotlib.org/) -->\n<svg height=\"248.518125pt\" version=\"1.1\" viewBox=\"0 0 368.925 248.518125\" width=\"368.925pt\" xmlns=\"http://www.w3.org/2000/svg\" xmlns:xlink=\"http://www.w3.org/1999/xlink\">\n <metadata>\n  <rdf:RDF xmlns:cc=\"http://creativecommons.org/ns#\" xmlns:dc=\"http://purl.org/dc/elements/1.1/\" xmlns:rdf=\"http://www.w3.org/1999/02/22-rdf-syntax-ns#\">\n   <cc:Work>\n    <dc:type rdf:resource=\"http://purl.org/dc/dcmitype/StillImage\"/>\n    <dc:date>2021-03-22T04:48:01.785421</dc:date>\n    <dc:format>image/svg+xml</dc:format>\n    <dc:creator>\n     <cc:Agent>\n      <dc:title>Matplotlib v3.3.3, https://matplotlib.org/</dc:title>\n     </cc:Agent>\n    </dc:creator>\n   </cc:Work>\n  </rdf:RDF>\n </metadata>\n <defs>\n  <style type=\"text/css\">*{stroke-linecap:butt;stroke-linejoin:round;}</style>\n </defs>\n <g id=\"figure_1\">\n  <g id=\"patch_1\">\n   <path d=\"M -0 248.518125 \nL 368.925 248.518125 \nL 368.925 0 \nL -0 0 \nz\n\" style=\"fill:none;\"/>\n  </g>\n  <g id=\"axes_1\">\n   <g id=\"patch_2\">\n    <path d=\"M 26.925 224.64 \nL 361.725 224.64 \nL 361.725 7.2 \nL 26.925 7.2 \nz\n\" style=\"fill:#ffffff;\"/>\n   </g>\n   <g id=\"matplotlib.axis_1\">\n    <g id=\"xtick_1\">\n     <g id=\"line2d_1\">\n      <defs>\n       <path d=\"M 0 0 \nL 0 3.5 \n\" id=\"m01ce47bee0\" style=\"stroke:#000000;stroke-width:0.8;\"/>\n      </defs>\n      <g>\n       <use style=\"stroke:#000000;stroke-width:0.8;\" x=\"42.143182\" xlink:href=\"#m01ce47bee0\" y=\"224.64\"/>\n      </g>\n     </g>\n     <g id=\"text_1\">\n      <!-- 0 -->\n      <g transform=\"translate(38.961932 239.238437)scale(0.1 -0.1)\">\n       <defs>\n        <path d=\"M 31.78125 66.40625 \nQ 24.171875 66.40625 20.328125 58.90625 \nQ 16.5 51.421875 16.5 36.375 \nQ 16.5 21.390625 20.328125 13.890625 \nQ 24.171875 6.390625 31.78125 6.390625 \nQ 39.453125 6.390625 43.28125 13.890625 \nQ 47.125 21.390625 47.125 36.375 \nQ 47.125 51.421875 43.28125 58.90625 \nQ 39.453125 66.40625 31.78125 66.40625 \nz\nM 31.78125 74.21875 \nQ 44.046875 74.21875 50.515625 64.515625 \nQ 56.984375 54.828125 56.984375 36.375 \nQ 56.984375 17.96875 50.515625 8.265625 \nQ 44.046875 -1.421875 31.78125 -1.421875 \nQ 19.53125 -1.421875 13.0625 8.265625 \nQ 6.59375 17.96875 6.59375 36.375 \nQ 6.59375 54.828125 13.0625 64.515625 \nQ 19.53125 74.21875 31.78125 74.21875 \nz\n\" id=\"DejaVuSans-48\"/>\n       </defs>\n       <use xlink:href=\"#DejaVuSans-48\"/>\n      </g>\n     </g>\n    </g>\n    <g id=\"xtick_2\">\n     <g id=\"line2d_2\">\n      <g>\n       <use style=\"stroke:#000000;stroke-width:0.8;\" x=\"103.260378\" xlink:href=\"#m01ce47bee0\" y=\"224.64\"/>\n      </g>\n     </g>\n     <g id=\"text_2\">\n      <!-- 50 -->\n      <g transform=\"translate(96.897878 239.238437)scale(0.1 -0.1)\">\n       <defs>\n        <path d=\"M 10.796875 72.90625 \nL 49.515625 72.90625 \nL 49.515625 64.59375 \nL 19.828125 64.59375 \nL 19.828125 46.734375 \nQ 21.96875 47.46875 24.109375 47.828125 \nQ 26.265625 48.1875 28.421875 48.1875 \nQ 40.625 48.1875 47.75 41.5 \nQ 54.890625 34.8125 54.890625 23.390625 \nQ 54.890625 11.625 47.5625 5.09375 \nQ 40.234375 -1.421875 26.90625 -1.421875 \nQ 22.3125 -1.421875 17.546875 -0.640625 \nQ 12.796875 0.140625 7.71875 1.703125 \nL 7.71875 11.625 \nQ 12.109375 9.234375 16.796875 8.0625 \nQ 21.484375 6.890625 26.703125 6.890625 \nQ 35.15625 6.890625 40.078125 11.328125 \nQ 45.015625 15.765625 45.015625 23.390625 \nQ 45.015625 31 40.078125 35.4375 \nQ 35.15625 39.890625 26.703125 39.890625 \nQ 22.75 39.890625 18.8125 39.015625 \nQ 14.890625 38.140625 10.796875 36.28125 \nz\n\" id=\"DejaVuSans-53\"/>\n       </defs>\n       <use xlink:href=\"#DejaVuSans-53\"/>\n       <use x=\"63.623047\" xlink:href=\"#DejaVuSans-48\"/>\n      </g>\n     </g>\n    </g>\n    <g id=\"xtick_3\">\n     <g id=\"line2d_3\">\n      <g>\n       <use style=\"stroke:#000000;stroke-width:0.8;\" x=\"164.377574\" xlink:href=\"#m01ce47bee0\" y=\"224.64\"/>\n      </g>\n     </g>\n     <g id=\"text_3\">\n      <!-- 100 -->\n      <g transform=\"translate(154.833824 239.238437)scale(0.1 -0.1)\">\n       <defs>\n        <path d=\"M 12.40625 8.296875 \nL 28.515625 8.296875 \nL 28.515625 63.921875 \nL 10.984375 60.40625 \nL 10.984375 69.390625 \nL 28.421875 72.90625 \nL 38.28125 72.90625 \nL 38.28125 8.296875 \nL 54.390625 8.296875 \nL 54.390625 0 \nL 12.40625 0 \nz\n\" id=\"DejaVuSans-49\"/>\n       </defs>\n       <use xlink:href=\"#DejaVuSans-49\"/>\n       <use x=\"63.623047\" xlink:href=\"#DejaVuSans-48\"/>\n       <use x=\"127.246094\" xlink:href=\"#DejaVuSans-48\"/>\n      </g>\n     </g>\n    </g>\n    <g id=\"xtick_4\">\n     <g id=\"line2d_4\">\n      <g>\n       <use style=\"stroke:#000000;stroke-width:0.8;\" x=\"225.49477\" xlink:href=\"#m01ce47bee0\" y=\"224.64\"/>\n      </g>\n     </g>\n     <g id=\"text_4\">\n      <!-- 150 -->\n      <g transform=\"translate(215.95102 239.238437)scale(0.1 -0.1)\">\n       <use xlink:href=\"#DejaVuSans-49\"/>\n       <use x=\"63.623047\" xlink:href=\"#DejaVuSans-53\"/>\n       <use x=\"127.246094\" xlink:href=\"#DejaVuSans-48\"/>\n      </g>\n     </g>\n    </g>\n    <g id=\"xtick_5\">\n     <g id=\"line2d_5\">\n      <g>\n       <use style=\"stroke:#000000;stroke-width:0.8;\" x=\"286.611966\" xlink:href=\"#m01ce47bee0\" y=\"224.64\"/>\n      </g>\n     </g>\n     <g id=\"text_5\">\n      <!-- 200 -->\n      <g transform=\"translate(277.068216 239.238437)scale(0.1 -0.1)\">\n       <defs>\n        <path d=\"M 19.1875 8.296875 \nL 53.609375 8.296875 \nL 53.609375 0 \nL 7.328125 0 \nL 7.328125 8.296875 \nQ 12.9375 14.109375 22.625 23.890625 \nQ 32.328125 33.6875 34.8125 36.53125 \nQ 39.546875 41.84375 41.421875 45.53125 \nQ 43.3125 49.21875 43.3125 52.78125 \nQ 43.3125 58.59375 39.234375 62.25 \nQ 35.15625 65.921875 28.609375 65.921875 \nQ 23.96875 65.921875 18.8125 64.3125 \nQ 13.671875 62.703125 7.8125 59.421875 \nL 7.8125 69.390625 \nQ 13.765625 71.78125 18.9375 73 \nQ 24.125 74.21875 28.421875 74.21875 \nQ 39.75 74.21875 46.484375 68.546875 \nQ 53.21875 62.890625 53.21875 53.421875 \nQ 53.21875 48.921875 51.53125 44.890625 \nQ 49.859375 40.875 45.40625 35.40625 \nQ 44.1875 33.984375 37.640625 27.21875 \nQ 31.109375 20.453125 19.1875 8.296875 \nz\n\" id=\"DejaVuSans-50\"/>\n       </defs>\n       <use xlink:href=\"#DejaVuSans-50\"/>\n       <use x=\"63.623047\" xlink:href=\"#DejaVuSans-48\"/>\n       <use x=\"127.246094\" xlink:href=\"#DejaVuSans-48\"/>\n      </g>\n     </g>\n    </g>\n    <g id=\"xtick_6\">\n     <g id=\"line2d_6\">\n      <g>\n       <use style=\"stroke:#000000;stroke-width:0.8;\" x=\"347.729162\" xlink:href=\"#m01ce47bee0\" y=\"224.64\"/>\n      </g>\n     </g>\n     <g id=\"text_6\">\n      <!-- 250 -->\n      <g transform=\"translate(338.185412 239.238437)scale(0.1 -0.1)\">\n       <use xlink:href=\"#DejaVuSans-50\"/>\n       <use x=\"63.623047\" xlink:href=\"#DejaVuSans-53\"/>\n       <use x=\"127.246094\" xlink:href=\"#DejaVuSans-48\"/>\n      </g>\n     </g>\n    </g>\n   </g>\n   <g id=\"matplotlib.axis_2\">\n    <g id=\"ytick_1\">\n     <g id=\"line2d_7\">\n      <defs>\n       <path d=\"M 0 0 \nL -3.5 0 \n\" id=\"m4ca93e2769\" style=\"stroke:#000000;stroke-width:0.8;\"/>\n      </defs>\n      <g>\n       <use style=\"stroke:#000000;stroke-width:0.8;\" x=\"26.925\" xlink:href=\"#m4ca93e2769\" y=\"214.832719\"/>\n      </g>\n     </g>\n     <g id=\"text_7\">\n      <!-- 0 -->\n      <g transform=\"translate(13.5625 218.631938)scale(0.1 -0.1)\">\n       <use xlink:href=\"#DejaVuSans-48\"/>\n      </g>\n     </g>\n    </g>\n    <g id=\"ytick_2\">\n     <g id=\"line2d_8\">\n      <g>\n       <use style=\"stroke:#000000;stroke-width:0.8;\" x=\"26.925\" xlink:href=\"#m4ca93e2769\" y=\"182.516549\"/>\n      </g>\n     </g>\n     <g id=\"text_8\">\n      <!-- 5 -->\n      <g transform=\"translate(13.5625 186.315767)scale(0.1 -0.1)\">\n       <use xlink:href=\"#DejaVuSans-53\"/>\n      </g>\n     </g>\n    </g>\n    <g id=\"ytick_3\">\n     <g id=\"line2d_9\">\n      <g>\n       <use style=\"stroke:#000000;stroke-width:0.8;\" x=\"26.925\" xlink:href=\"#m4ca93e2769\" y=\"150.200378\"/>\n      </g>\n     </g>\n     <g id=\"text_9\">\n      <!-- 10 -->\n      <g transform=\"translate(7.2 153.999597)scale(0.1 -0.1)\">\n       <use xlink:href=\"#DejaVuSans-49\"/>\n       <use x=\"63.623047\" xlink:href=\"#DejaVuSans-48\"/>\n      </g>\n     </g>\n    </g>\n    <g id=\"ytick_4\">\n     <g id=\"line2d_10\">\n      <g>\n       <use style=\"stroke:#000000;stroke-width:0.8;\" x=\"26.925\" xlink:href=\"#m4ca93e2769\" y=\"117.884207\"/>\n      </g>\n     </g>\n     <g id=\"text_10\">\n      <!-- 15 -->\n      <g transform=\"translate(7.2 121.683426)scale(0.1 -0.1)\">\n       <use xlink:href=\"#DejaVuSans-49\"/>\n       <use x=\"63.623047\" xlink:href=\"#DejaVuSans-53\"/>\n      </g>\n     </g>\n    </g>\n    <g id=\"ytick_5\">\n     <g id=\"line2d_11\">\n      <g>\n       <use style=\"stroke:#000000;stroke-width:0.8;\" x=\"26.925\" xlink:href=\"#m4ca93e2769\" y=\"85.568036\"/>\n      </g>\n     </g>\n     <g id=\"text_11\">\n      <!-- 20 -->\n      <g transform=\"translate(7.2 89.367255)scale(0.1 -0.1)\">\n       <use xlink:href=\"#DejaVuSans-50\"/>\n       <use x=\"63.623047\" xlink:href=\"#DejaVuSans-48\"/>\n      </g>\n     </g>\n    </g>\n    <g id=\"ytick_6\">\n     <g id=\"line2d_12\">\n      <g>\n       <use style=\"stroke:#000000;stroke-width:0.8;\" x=\"26.925\" xlink:href=\"#m4ca93e2769\" y=\"53.251866\"/>\n      </g>\n     </g>\n     <g id=\"text_12\">\n      <!-- 25 -->\n      <g transform=\"translate(7.2 57.051084)scale(0.1 -0.1)\">\n       <use xlink:href=\"#DejaVuSans-50\"/>\n       <use x=\"63.623047\" xlink:href=\"#DejaVuSans-53\"/>\n      </g>\n     </g>\n    </g>\n    <g id=\"ytick_7\">\n     <g id=\"line2d_13\">\n      <g>\n       <use style=\"stroke:#000000;stroke-width:0.8;\" x=\"26.925\" xlink:href=\"#m4ca93e2769\" y=\"20.935695\"/>\n      </g>\n     </g>\n     <g id=\"text_13\">\n      <!-- 30 -->\n      <g transform=\"translate(7.2 24.734914)scale(0.1 -0.1)\">\n       <defs>\n        <path d=\"M 40.578125 39.3125 \nQ 47.65625 37.796875 51.625 33 \nQ 55.609375 28.21875 55.609375 21.1875 \nQ 55.609375 10.40625 48.1875 4.484375 \nQ 40.765625 -1.421875 27.09375 -1.421875 \nQ 22.515625 -1.421875 17.65625 -0.515625 \nQ 12.796875 0.390625 7.625 2.203125 \nL 7.625 11.71875 \nQ 11.71875 9.328125 16.59375 8.109375 \nQ 21.484375 6.890625 26.8125 6.890625 \nQ 36.078125 6.890625 40.9375 10.546875 \nQ 45.796875 14.203125 45.796875 21.1875 \nQ 45.796875 27.640625 41.28125 31.265625 \nQ 36.765625 34.90625 28.71875 34.90625 \nL 20.21875 34.90625 \nL 20.21875 43.015625 \nL 29.109375 43.015625 \nQ 36.375 43.015625 40.234375 45.921875 \nQ 44.09375 48.828125 44.09375 54.296875 \nQ 44.09375 59.90625 40.109375 62.90625 \nQ 36.140625 65.921875 28.71875 65.921875 \nQ 24.65625 65.921875 20.015625 65.03125 \nQ 15.375 64.15625 9.8125 62.3125 \nL 9.8125 71.09375 \nQ 15.4375 72.65625 20.34375 73.4375 \nQ 25.25 74.21875 29.59375 74.21875 \nQ 40.828125 74.21875 47.359375 69.109375 \nQ 53.90625 64.015625 53.90625 55.328125 \nQ 53.90625 49.265625 50.4375 45.09375 \nQ 46.96875 40.921875 40.578125 39.3125 \nz\n\" id=\"DejaVuSans-51\"/>\n       </defs>\n       <use xlink:href=\"#DejaVuSans-51\"/>\n       <use x=\"63.623047\" xlink:href=\"#DejaVuSans-48\"/>\n      </g>\n     </g>\n    </g>\n   </g>\n   <g id=\"line2d_14\">\n    <path clip-path=\"url(#p54f3a04a40)\" d=\"M 42.143182 17.083636 \nL 43.365526 176.486159 \nL 44.58787 179.421029 \nL 45.810214 181.218779 \nL 47.032558 184.794144 \nL 48.254901 183.322378 \nL 49.477245 186.131767 \nL 50.699589 187.337469 \nL 51.921933 187.784972 \nL 53.144277 188.897376 \nL 54.366621 189.494329 \nL 55.588965 188.459258 \nL 56.811309 191.343483 \nL 58.033653 192.452824 \nL 59.255997 190.991831 \nL 60.478341 191.301024 \nL 61.700685 193.891348 \nL 62.923028 192.115177 \nL 64.145372 194.164234 \nL 65.367716 192.764122 \nL 66.59006 193.966378 \nL 67.812404 194.855351 \nL 69.034748 192.727068 \nL 70.257092 194.247317 \nL 71.479436 192.14107 \nL 72.70178 193.247765 \nL 73.924124 195.233717 \nL 75.146468 192.2892 \nL 76.368812 194.128624 \nL 77.591156 196.68394 \nL 78.813499 196.263954 \nL 80.035843 195.010968 \nL 81.258187 196.191394 \nL 82.480531 193.877141 \nL 83.702875 196.609998 \nL 84.925219 197.376982 \nL 86.147563 201.430483 \nL 87.369907 201.98598 \nL 88.592251 200.739266 \nL 89.814595 201.93058 \nL 91.036939 200.272759 \nL 92.259283 201.666838 \nL 93.481627 201.700616 \nL 94.70397 201.9763 \nL 95.926314 201.292353 \nL 97.148658 201.475698 \nL 98.371002 201.780978 \nL 99.593346 202.561455 \nL 100.81569 201.25001 \nL 102.038034 202.546669 \nL 103.260378 200.995235 \nL 104.482722 202.94562 \nL 105.705066 202.032659 \nL 106.92741 201.811707 \nL 108.149754 203.172323 \nL 109.372097 202.869169 \nL 110.594441 203.467979 \nL 111.816785 203.072158 \nL 113.039129 203.531287 \nL 114.261473 203.679615 \nL 115.483817 202.762786 \nL 116.706161 203.73347 \nL 117.928505 204.130158 \nL 119.150849 204.246781 \nL 120.373193 202.574329 \nL 121.595537 203.240785 \nL 122.817881 204.745398 \nL 124.040225 204.727351 \nL 125.262568 204.820848 \nL 126.484912 203.71233 \nL 127.707256 204.138078 \nL 128.9296 205.513589 \nL 130.151944 205.318271 \nL 131.374288 206.118258 \nL 132.596632 211.121692 \nL 133.818976 211.470009 \nL 135.04132 211.082263 \nL 136.263664 212.945602 \nL 137.486008 211.548789 \nL 138.708352 213.502783 \nL 139.930696 213.6414 \nL 141.153039 210.783727 \nL 142.375383 213.788136 \nL 143.597727 214.045183 \nL 146.042415 214.05072 \nL 149.709447 214.011174 \nL 153.376479 214.138284 \nL 154.598823 213.122261 \nL 155.821166 214.292142 \nL 158.265854 214.141361 \nL 159.488198 214.287121 \nL 160.710542 214.183354 \nL 161.932886 214.369799 \nL 164.377574 214.289819 \nL 165.599918 214.40231 \nL 166.822262 214.360211 \nL 168.044606 214.453987 \nL 169.26695 213.978986 \nL 170.489294 214.595882 \nL 172.933981 214.294667 \nL 174.156325 214.536572 \nL 175.378669 214.327359 \nL 176.601013 214.571243 \nL 177.823357 214.414872 \nL 179.045701 213.145501 \nL 180.268045 213.969832 \nL 181.490389 214.636966 \nL 182.712733 214.624142 \nL 183.935077 214.483653 \nL 185.157421 214.550306 \nL 187.602108 214.464505 \nL 188.824452 214.569895 \nL 190.046796 214.416416 \nL 191.26914 214.397224 \nL 192.491484 214.604663 \nL 193.713828 214.329659 \nL 194.936172 214.617106 \nL 198.603204 214.461102 \nL 199.825548 214.602374 \nL 201.047892 214.504451 \nL 202.270235 214.550115 \nL 203.492579 214.464653 \nL 204.714923 214.594577 \nL 210.826643 214.53165 \nL 212.048987 214.615664 \nL 214.493675 214.566965 \nL 220.605394 214.601353 \nL 221.827738 214.383807 \nL 223.050082 214.663606 \nL 227.939458 214.613119 \nL 229.161802 214.272754 \nL 230.384146 214.668893 \nL 234.051177 214.604598 \nL 235.273521 214.53879 \nL 236.495865 214.625982 \nL 240.162897 214.597685 \nL 270.721495 214.62558 \nL 271.943839 214.322205 \nL 273.166183 214.691148 \nL 276.833215 214.630425 \nL 278.055559 214.523653 \nL 279.277903 214.676262 \nL 280.500246 214.663852 \nL 281.72259 214.532778 \nL 282.944934 214.690115 \nL 289.056654 214.634417 \nL 290.278998 214.655827 \nL 291.501342 214.373441 \nL 292.723686 214.635895 \nL 293.94603 214.735794 \nL 301.280093 214.512604 \nL 302.502437 214.723135 \nL 311.058844 214.688986 \nL 312.281188 214.523865 \nL 313.503532 214.730476 \nL 318.392908 214.546354 \nL 319.615252 214.722652 \nL 326.949315 214.631507 \nL 328.171659 214.698548 \nL 329.394003 214.150427 \nL 330.616347 214.007697 \nL 331.838691 214.742532 \nL 346.506818 214.698419 \nL 346.506818 214.698419 \n\" style=\"fill:none;stroke:#1f77b4;stroke-linecap:square;stroke-width:1.5;\"/>\n   </g>\n   <g id=\"line2d_15\">\n    <path clip-path=\"url(#p54f3a04a40)\" d=\"M 42.143182 170.960616 \nL 43.365526 157.638136 \nL 44.58787 178.410048 \nL 45.810214 186.101884 \nL 47.032558 187.034361 \nL 48.254901 188.25949 \nL 49.477245 188.427312 \nL 50.699589 187.445557 \nL 51.921933 169.371198 \nL 53.144277 191.209546 \nL 54.366621 186.2007 \nL 55.588965 184.832141 \nL 56.811309 193.189641 \nL 58.033653 187.300983 \nL 59.255997 175.882737 \nL 61.700685 195.053183 \nL 62.923028 194.991117 \nL 64.145372 175.534601 \nL 65.367716 195.308535 \nL 66.59006 194.254944 \nL 67.812404 194.420738 \nL 69.034748 187.086771 \nL 70.257092 189.685365 \nL 71.479436 194.788303 \nL 72.70178 195.625511 \nL 73.924124 195.34221 \nL 75.146468 193.289773 \nL 76.368812 196.793116 \nL 78.813499 196.997241 \nL 80.035843 196.707694 \nL 81.258187 191.862374 \nL 82.480531 193.660237 \nL 83.702875 190.290297 \nL 84.925219 201.40174 \nL 86.147563 199.537343 \nL 87.369907 202.410387 \nL 88.592251 198.341235 \nL 89.814595 202.401206 \nL 91.036939 202.492453 \nL 93.481627 202.032205 \nL 94.70397 202.538058 \nL 95.926314 197.496217 \nL 97.148658 201.344708 \nL 98.371002 202.78142 \nL 99.593346 202.207518 \nL 100.81569 201.303766 \nL 103.260378 202.831746 \nL 104.482722 203.1958 \nL 105.705066 187.216478 \nL 106.92741 203.421448 \nL 108.149754 203.465887 \nL 109.372097 203.761657 \nL 115.483817 204.18468 \nL 117.928505 204.106897 \nL 119.150849 204.654075 \nL 120.373193 202.965946 \nL 121.595537 204.782109 \nL 122.817881 204.933328 \nL 124.040225 204.81841 \nL 125.262568 205.35915 \nL 127.707256 205.681441 \nL 128.9296 205.871382 \nL 130.151944 205.781326 \nL 131.374288 210.057383 \nL 133.818976 212.344862 \nL 135.04132 212.825784 \nL 137.486008 213.342322 \nL 138.708352 213.400483 \nL 139.930696 213.810101 \nL 141.153039 213.404242 \nL 142.375383 214.003598 \nL 144.820071 214.027936 \nL 146.042415 213.897852 \nL 147.264759 214.234457 \nL 149.709447 213.636844 \nL 150.931791 214.225815 \nL 152.154135 214.047413 \nL 153.376479 214.090263 \nL 154.598823 214.282698 \nL 157.04351 214.352312 \nL 158.265854 214.031538 \nL 159.488198 214.384935 \nL 160.710542 214.281584 \nL 161.932886 214.439675 \nL 163.15523 214.390624 \nL 164.377574 214.569397 \nL 168.044606 214.586495 \nL 169.26695 214.526184 \nL 171.711637 214.620719 \nL 177.823357 214.505685 \nL 179.045701 211.817475 \nL 180.268045 214.642338 \nL 186.379765 214.577991 \nL 187.602108 214.404328 \nL 188.824452 214.611473 \nL 190.046796 214.647218 \nL 191.26914 214.561845 \nL 193.713828 214.628286 \nL 194.936172 214.549362 \nL 197.38086 214.658591 \nL 198.603204 214.578242 \nL 201.047892 214.652133 \nL 204.714923 214.673499 \nL 207.159611 214.497103 \nL 209.604299 214.651617 \nL 210.826643 214.541755 \nL 213.271331 214.663184 \nL 219.38305 214.64462 \nL 220.605394 214.038983 \nL 223.050082 214.625907 \nL 225.49477 214.615777 \nL 227.939458 214.325863 \nL 231.60649 214.65078 \nL 232.828834 214.26906 \nL 234.051177 214.583093 \nL 241.385241 214.6685 \nL 242.607585 214.581182 \nL 245.052273 214.667669 \nL 254.831024 214.570834 \nL 257.275712 214.604769 \nL 263.387432 214.555434 \nL 264.609775 214.665135 \nL 267.054463 214.621304 \nL 270.721495 214.650448 \nL 271.943839 214.263405 \nL 273.166183 214.639774 \nL 274.388527 214.59494 \nL 275.610871 214.678767 \nL 278.055559 214.504515 \nL 279.277903 214.540029 \nL 280.500246 214.687126 \nL 286.611966 214.62497 \nL 289.056654 214.688535 \nL 290.278998 214.518298 \nL 291.501342 213.780884 \nL 292.723686 214.714491 \nL 302.502437 214.741302 \nL 312.281188 214.717254 \nL 313.503532 214.633413 \nL 315.94822 214.736039 \nL 319.615252 214.674015 \nL 320.837596 214.74301 \nL 323.282284 214.485978 \nL 324.504628 214.720689 \nL 325.726972 214.628085 \nL 328.171659 214.703048 \nL 329.394003 209.99735 \nL 330.616347 214.730694 \nL 335.505723 214.731708 \nL 336.728067 214.611678 \nL 337.950411 214.741248 \nL 340.395099 214.643449 \nL 346.506818 214.689091 \nL 346.506818 214.689091 \n\" style=\"fill:none;stroke:#ff7f0e;stroke-linecap:square;stroke-width:1.5;\"/>\n   </g>\n   <g id=\"patch_3\">\n    <path d=\"M 26.925 224.64 \nL 26.925 7.2 \n\" style=\"fill:none;stroke:#000000;stroke-linecap:square;stroke-linejoin:miter;stroke-width:0.8;\"/>\n   </g>\n   <g id=\"patch_4\">\n    <path d=\"M 361.725 224.64 \nL 361.725 7.2 \n\" style=\"fill:none;stroke:#000000;stroke-linecap:square;stroke-linejoin:miter;stroke-width:0.8;\"/>\n   </g>\n   <g id=\"patch_5\">\n    <path d=\"M 26.925 224.64 \nL 361.725 224.64 \n\" style=\"fill:none;stroke:#000000;stroke-linecap:square;stroke-linejoin:miter;stroke-width:0.8;\"/>\n   </g>\n   <g id=\"patch_6\">\n    <path d=\"M 26.925 7.2 \nL 361.725 7.2 \n\" style=\"fill:none;stroke:#000000;stroke-linecap:square;stroke-linejoin:miter;stroke-width:0.8;\"/>\n   </g>\n   <g id=\"legend_1\">\n    <g id=\"patch_7\">\n     <path d=\"M 274.457812 45.1125 \nL 354.725 45.1125 \nQ 356.725 45.1125 356.725 43.1125 \nL 356.725 14.2 \nQ 356.725 12.2 354.725 12.2 \nL 274.457812 12.2 \nQ 272.457812 12.2 272.457812 14.2 \nL 272.457812 43.1125 \nQ 272.457812 45.1125 274.457812 45.1125 \nz\n\" style=\"fill:#ffffff;opacity:0.8;stroke:#cccccc;stroke-linejoin:miter;\"/>\n    </g>\n    <g id=\"line2d_16\">\n     <path d=\"M 276.457812 20.298437 \nL 296.457812 20.298437 \n\" style=\"fill:none;stroke:#1f77b4;stroke-linecap:square;stroke-width:1.5;\"/>\n    </g>\n    <g id=\"line2d_17\"/>\n    <g id=\"text_14\">\n     <!-- train_loss -->\n     <g transform=\"translate(304.457812 23.798437)scale(0.1 -0.1)\">\n      <defs>\n       <path d=\"M 18.3125 70.21875 \nL 18.3125 54.6875 \nL 36.8125 54.6875 \nL 36.8125 47.703125 \nL 18.3125 47.703125 \nL 18.3125 18.015625 \nQ 18.3125 11.328125 20.140625 9.421875 \nQ 21.96875 7.515625 27.59375 7.515625 \nL 36.8125 7.515625 \nL 36.8125 0 \nL 27.59375 0 \nQ 17.1875 0 13.234375 3.875 \nQ 9.28125 7.765625 9.28125 18.015625 \nL 9.28125 47.703125 \nL 2.6875 47.703125 \nL 2.6875 54.6875 \nL 9.28125 54.6875 \nL 9.28125 70.21875 \nz\n\" id=\"DejaVuSans-116\"/>\n       <path d=\"M 41.109375 46.296875 \nQ 39.59375 47.171875 37.8125 47.578125 \nQ 36.03125 48 33.890625 48 \nQ 26.265625 48 22.1875 43.046875 \nQ 18.109375 38.09375 18.109375 28.8125 \nL 18.109375 0 \nL 9.078125 0 \nL 9.078125 54.6875 \nL 18.109375 54.6875 \nL 18.109375 46.1875 \nQ 20.953125 51.171875 25.484375 53.578125 \nQ 30.03125 56 36.53125 56 \nQ 37.453125 56 38.578125 55.875 \nQ 39.703125 55.765625 41.0625 55.515625 \nz\n\" id=\"DejaVuSans-114\"/>\n       <path d=\"M 34.28125 27.484375 \nQ 23.390625 27.484375 19.1875 25 \nQ 14.984375 22.515625 14.984375 16.5 \nQ 14.984375 11.71875 18.140625 8.90625 \nQ 21.296875 6.109375 26.703125 6.109375 \nQ 34.1875 6.109375 38.703125 11.40625 \nQ 43.21875 16.703125 43.21875 25.484375 \nL 43.21875 27.484375 \nz\nM 52.203125 31.203125 \nL 52.203125 0 \nL 43.21875 0 \nL 43.21875 8.296875 \nQ 40.140625 3.328125 35.546875 0.953125 \nQ 30.953125 -1.421875 24.3125 -1.421875 \nQ 15.921875 -1.421875 10.953125 3.296875 \nQ 6 8.015625 6 15.921875 \nQ 6 25.140625 12.171875 29.828125 \nQ 18.359375 34.515625 30.609375 34.515625 \nL 43.21875 34.515625 \nL 43.21875 35.40625 \nQ 43.21875 41.609375 39.140625 45 \nQ 35.0625 48.390625 27.6875 48.390625 \nQ 23 48.390625 18.546875 47.265625 \nQ 14.109375 46.140625 10.015625 43.890625 \nL 10.015625 52.203125 \nQ 14.9375 54.109375 19.578125 55.046875 \nQ 24.21875 56 28.609375 56 \nQ 40.484375 56 46.34375 49.84375 \nQ 52.203125 43.703125 52.203125 31.203125 \nz\n\" id=\"DejaVuSans-97\"/>\n       <path d=\"M 9.421875 54.6875 \nL 18.40625 54.6875 \nL 18.40625 0 \nL 9.421875 0 \nz\nM 9.421875 75.984375 \nL 18.40625 75.984375 \nL 18.40625 64.59375 \nL 9.421875 64.59375 \nz\n\" id=\"DejaVuSans-105\"/>\n       <path d=\"M 54.890625 33.015625 \nL 54.890625 0 \nL 45.90625 0 \nL 45.90625 32.71875 \nQ 45.90625 40.484375 42.875 44.328125 \nQ 39.84375 48.1875 33.796875 48.1875 \nQ 26.515625 48.1875 22.3125 43.546875 \nQ 18.109375 38.921875 18.109375 30.90625 \nL 18.109375 0 \nL 9.078125 0 \nL 9.078125 54.6875 \nL 18.109375 54.6875 \nL 18.109375 46.1875 \nQ 21.34375 51.125 25.703125 53.5625 \nQ 30.078125 56 35.796875 56 \nQ 45.21875 56 50.046875 50.171875 \nQ 54.890625 44.34375 54.890625 33.015625 \nz\n\" id=\"DejaVuSans-110\"/>\n       <path d=\"M 50.984375 -16.609375 \nL 50.984375 -23.578125 \nL -0.984375 -23.578125 \nL -0.984375 -16.609375 \nz\n\" id=\"DejaVuSans-95\"/>\n       <path d=\"M 9.421875 75.984375 \nL 18.40625 75.984375 \nL 18.40625 0 \nL 9.421875 0 \nz\n\" id=\"DejaVuSans-108\"/>\n       <path d=\"M 30.609375 48.390625 \nQ 23.390625 48.390625 19.1875 42.75 \nQ 14.984375 37.109375 14.984375 27.296875 \nQ 14.984375 17.484375 19.15625 11.84375 \nQ 23.34375 6.203125 30.609375 6.203125 \nQ 37.796875 6.203125 41.984375 11.859375 \nQ 46.1875 17.53125 46.1875 27.296875 \nQ 46.1875 37.015625 41.984375 42.703125 \nQ 37.796875 48.390625 30.609375 48.390625 \nz\nM 30.609375 56 \nQ 42.328125 56 49.015625 48.375 \nQ 55.71875 40.765625 55.71875 27.296875 \nQ 55.71875 13.875 49.015625 6.21875 \nQ 42.328125 -1.421875 30.609375 -1.421875 \nQ 18.84375 -1.421875 12.171875 6.21875 \nQ 5.515625 13.875 5.515625 27.296875 \nQ 5.515625 40.765625 12.171875 48.375 \nQ 18.84375 56 30.609375 56 \nz\n\" id=\"DejaVuSans-111\"/>\n       <path d=\"M 44.28125 53.078125 \nL 44.28125 44.578125 \nQ 40.484375 46.53125 36.375 47.5 \nQ 32.28125 48.484375 27.875 48.484375 \nQ 21.1875 48.484375 17.84375 46.4375 \nQ 14.5 44.390625 14.5 40.28125 \nQ 14.5 37.15625 16.890625 35.375 \nQ 19.28125 33.59375 26.515625 31.984375 \nL 29.59375 31.296875 \nQ 39.15625 29.25 43.1875 25.515625 \nQ 47.21875 21.78125 47.21875 15.09375 \nQ 47.21875 7.46875 41.1875 3.015625 \nQ 35.15625 -1.421875 24.609375 -1.421875 \nQ 20.21875 -1.421875 15.453125 -0.5625 \nQ 10.6875 0.296875 5.421875 2 \nL 5.421875 11.28125 \nQ 10.40625 8.6875 15.234375 7.390625 \nQ 20.0625 6.109375 24.8125 6.109375 \nQ 31.15625 6.109375 34.5625 8.28125 \nQ 37.984375 10.453125 37.984375 14.40625 \nQ 37.984375 18.0625 35.515625 20.015625 \nQ 33.0625 21.96875 24.703125 23.78125 \nL 21.578125 24.515625 \nQ 13.234375 26.265625 9.515625 29.90625 \nQ 5.8125 33.546875 5.8125 39.890625 \nQ 5.8125 47.609375 11.28125 51.796875 \nQ 16.75 56 26.8125 56 \nQ 31.78125 56 36.171875 55.265625 \nQ 40.578125 54.546875 44.28125 53.078125 \nz\n\" id=\"DejaVuSans-115\"/>\n      </defs>\n      <use xlink:href=\"#DejaVuSans-116\"/>\n      <use x=\"39.208984\" xlink:href=\"#DejaVuSans-114\"/>\n      <use x=\"80.322266\" xlink:href=\"#DejaVuSans-97\"/>\n      <use x=\"141.601562\" xlink:href=\"#DejaVuSans-105\"/>\n      <use x=\"169.384766\" xlink:href=\"#DejaVuSans-110\"/>\n      <use x=\"232.763672\" xlink:href=\"#DejaVuSans-95\"/>\n      <use x=\"282.763672\" xlink:href=\"#DejaVuSans-108\"/>\n      <use x=\"310.546875\" xlink:href=\"#DejaVuSans-111\"/>\n      <use x=\"371.728516\" xlink:href=\"#DejaVuSans-115\"/>\n      <use x=\"423.828125\" xlink:href=\"#DejaVuSans-115\"/>\n     </g>\n    </g>\n    <g id=\"line2d_18\">\n     <path d=\"M 276.457812 35.254687 \nL 296.457812 35.254687 \n\" style=\"fill:none;stroke:#ff7f0e;stroke-linecap:square;stroke-width:1.5;\"/>\n    </g>\n    <g id=\"line2d_19\"/>\n    <g id=\"text_15\">\n     <!-- valid_loss -->\n     <g transform=\"translate(304.457812 38.754687)scale(0.1 -0.1)\">\n      <defs>\n       <path d=\"M 2.984375 54.6875 \nL 12.5 54.6875 \nL 29.59375 8.796875 \nL 46.6875 54.6875 \nL 56.203125 54.6875 \nL 35.6875 0 \nL 23.484375 0 \nz\n\" id=\"DejaVuSans-118\"/>\n       <path d=\"M 45.40625 46.390625 \nL 45.40625 75.984375 \nL 54.390625 75.984375 \nL 54.390625 0 \nL 45.40625 0 \nL 45.40625 8.203125 \nQ 42.578125 3.328125 38.25 0.953125 \nQ 33.9375 -1.421875 27.875 -1.421875 \nQ 17.96875 -1.421875 11.734375 6.484375 \nQ 5.515625 14.40625 5.515625 27.296875 \nQ 5.515625 40.1875 11.734375 48.09375 \nQ 17.96875 56 27.875 56 \nQ 33.9375 56 38.25 53.625 \nQ 42.578125 51.265625 45.40625 46.390625 \nz\nM 14.796875 27.296875 \nQ 14.796875 17.390625 18.875 11.75 \nQ 22.953125 6.109375 30.078125 6.109375 \nQ 37.203125 6.109375 41.296875 11.75 \nQ 45.40625 17.390625 45.40625 27.296875 \nQ 45.40625 37.203125 41.296875 42.84375 \nQ 37.203125 48.484375 30.078125 48.484375 \nQ 22.953125 48.484375 18.875 42.84375 \nQ 14.796875 37.203125 14.796875 27.296875 \nz\n\" id=\"DejaVuSans-100\"/>\n      </defs>\n      <use xlink:href=\"#DejaVuSans-118\"/>\n      <use x=\"59.179688\" xlink:href=\"#DejaVuSans-97\"/>\n      <use x=\"120.458984\" xlink:href=\"#DejaVuSans-108\"/>\n      <use x=\"148.242188\" xlink:href=\"#DejaVuSans-105\"/>\n      <use x=\"176.025391\" xlink:href=\"#DejaVuSans-100\"/>\n      <use x=\"239.501953\" xlink:href=\"#DejaVuSans-95\"/>\n      <use x=\"289.501953\" xlink:href=\"#DejaVuSans-108\"/>\n      <use x=\"317.285156\" xlink:href=\"#DejaVuSans-111\"/>\n      <use x=\"378.466797\" xlink:href=\"#DejaVuSans-115\"/>\n      <use x=\"430.566406\" xlink:href=\"#DejaVuSans-115\"/>\n     </g>\n    </g>\n   </g>\n  </g>\n </g>\n <defs>\n  <clipPath id=\"p54f3a04a40\">\n   <rect height=\"217.44\" width=\"334.8\" x=\"26.925\" y=\"7.2\"/>\n  </clipPath>\n </defs>\n</svg>\n",
            "image/png": "[encoded data removed]"
          },
          "metadata": {
            "needs_background": "light"
          }
        }
      ]
    },
    {
      "cell_type": "code",
      "metadata": {
        "id": "krZ_05MewJCY"
      },
      "source": [
        "op_pred,sp_pred,wt_pred = model(test[:,case_col_idx],test[:,feed_col_idx])\n",
        "\n",
        "wt_pred = pd.DataFrame(wt_pred.detach().cpu().numpy(),columns=wt_col)\n",
        "op_pred = pd.DataFrame(op_pred.detach().cpu().numpy(),columns=op_col)\n",
        "\n",
        "wt_real = pd.DataFrame(test[:,wt_col_idx].detach().cpu().numpy(),columns=wt_col)\n",
        "op_real = pd.DataFrame(test[:,op_col_idx].detach().cpu().numpy(),columns=op_col)"
      ],
      "execution_count": 7,
      "outputs": []
    },
    {
      "cell_type": "code",
      "metadata": {
        "id": "c2Gc45lf-jAo"
      },
      "source": [
        "from sklearn.metrics import r2_score,mean_squared_error\n",
        "import numpy as np\n",
        "import warnings \n",
        "warnings.filterwarnings('ignore')\n",
        "\n",
        "def mape(y_true, y_pred, e = 2e-2):\n",
        "  y_true, y_pred = np.array(y_true), np.array(y_pred)\n",
        "  mask = y_true > e\n",
        "  y_true, y_pred = y_true[mask], y_pred[mask]\n",
        "  return np.mean(np.abs((y_true - y_pred) / y_true)) * 100\n",
        "\n",
        "def show_metrics(y_real,y_pred,e=2e-2):\n",
        "  res = pd.DataFrame(index=y_pred.columns,columns=['R2','MSE','MAPE'])\n",
        "  for i in y_pred.columns:\n",
        "      res.loc[i,'R2'] = np.clip(r2_score(y_real[i],y_pred[i]),0,1)\n",
        "      res.loc[i,'MSE'] = mean_squared_error(y_real[i],y_pred[i])\n",
        "      res.loc[i,'MAPE'] = mape(y_real[i],y_pred[i],e)\n",
        "  res.loc['AVG'] = res.mean(axis=0)\n",
        "  return res"
      ],
      "execution_count": 8,
      "outputs": []
    },
    {
      "cell_type": "code",
      "metadata": {
        "id": "rucM_PLSHUDD",
        "outputId": "c120242e-2f1f-4eae-e9d6-4ae830af28cb",
        "colab": {
          "base_uri": "https://localhost:8080/",
          "height": 390
        }
      },
      "source": [
        "show_metrics(op_real,op_pred)"
      ],
      "execution_count": 9,
      "outputs": [
        {
          "output_type": "execute_result",
          "data": {
            "text/plain": [
              "                                                          R2          MSE  \\\n",
              "Density_Feed Properties                                    0  1.03791e-05   \n",
              "Density_Vent Gas Production Rate and Composition    0.616302  8.81954e-06   \n",
              "Density_Distillate Production Rate and Composition         0  0.000204659   \n",
              "Density_Sidedraw Production Rate and Composition           0  5.93567e-06   \n",
              "Density_Bottoms Production Rate and Composition            0  1.44723e-05   \n",
              "Tatoray Stripper C620 Operation_Yield Summary_R...   0.99895     0.134619   \n",
              "Tatoray Stripper C620 Operation_Heat Duty_Conde...  0.998021   0.00230495   \n",
              "Tatoray Stripper C620 Operation_Heat Duty_Reboi...  0.998461   0.00248494   \n",
              "Tatoray Stripper C620 Operation_Column Temp Pro...  0.960116    0.0541295   \n",
              "Tatoray Stripper C620 Operation_Column Temp Pro...  0.995549   0.00359387   \n",
              "AVG                                                  0.55674    0.0197376   \n",
              "\n",
              "                                                         MAPE  \n",
              "Density_Feed Properties                              0.317522  \n",
              "Density_Vent Gas Production Rate and Composition     0.430217  \n",
              "Density_Distillate Production Rate and Composition    1.65112  \n",
              "Density_Sidedraw Production Rate and Composition     0.148649  \n",
              "Density_Bottoms Production Rate and Composition      0.359877  \n",
              "Tatoray Stripper C620 Operation_Yield Summary_R...   0.230071  \n",
              "Tatoray Stripper C620 Operation_Heat Duty_Conde...   0.292438  \n",
              "Tatoray Stripper C620 Operation_Heat Duty_Reboi...   0.271822  \n",
              "Tatoray Stripper C620 Operation_Column Temp Pro...   0.116995  \n",
              "Tatoray Stripper C620 Operation_Column Temp Pro...  0.0232859  \n",
              "AVG                                                  0.384199  "
            ],
            "text/html": "<div>\n<style scoped>\n    .dataframe tbody tr th:only-of-type {\n        vertical-align: middle;\n    }\n\n    .dataframe tbody tr th {\n        vertical-align: top;\n    }\n\n    .dataframe thead th {\n        text-align: right;\n    }\n</style>\n<table border=\"1\" class=\"dataframe\">\n  <thead>\n    <tr style=\"text-align: right;\">\n      <th></th>\n      <th>R2</th>\n      <th>MSE</th>\n      <th>MAPE</th>\n    </tr>\n  </thead>\n  <tbody>\n    <tr>\n      <th>Density_Feed Properties</th>\n      <td>0</td>\n      <td>1.03791e-05</td>\n      <td>0.317522</td>\n    </tr>\n    <tr>\n      <th>Density_Vent Gas Production Rate and Composition</th>\n      <td>0.616302</td>\n      <td>8.81954e-06</td>\n      <td>0.430217</td>\n    </tr>\n    <tr>\n      <th>Density_Distillate Production Rate and Composition</th>\n      <td>0</td>\n      <td>0.000204659</td>\n      <td>1.65112</td>\n    </tr>\n    <tr>\n      <th>Density_Sidedraw Production Rate and Composition</th>\n      <td>0</td>\n      <td>5.93567e-06</td>\n      <td>0.148649</td>\n    </tr>\n    <tr>\n      <th>Density_Bottoms Production Rate and Composition</th>\n      <td>0</td>\n      <td>1.44723e-05</td>\n      <td>0.359877</td>\n    </tr>\n    <tr>\n      <th>Tatoray Stripper C620 Operation_Yield Summary_Reflux Rate_m3/hr</th>\n      <td>0.99895</td>\n      <td>0.134619</td>\n      <td>0.230071</td>\n    </tr>\n    <tr>\n      <th>Tatoray Stripper C620 Operation_Heat Duty_Condenser Heat Duty_Mkcal/hr</th>\n      <td>0.998021</td>\n      <td>0.00230495</td>\n      <td>0.292438</td>\n    </tr>\n    <tr>\n      <th>Tatoray Stripper C620 Operation_Heat Duty_Reboiler Heat Duty_Mkcal/hr</th>\n      <td>0.998461</td>\n      <td>0.00248494</td>\n      <td>0.271822</td>\n    </tr>\n    <tr>\n      <th>Tatoray Stripper C620 Operation_Column Temp Profile_C620 Tray 14 (Control)_oC</th>\n      <td>0.960116</td>\n      <td>0.0541295</td>\n      <td>0.116995</td>\n    </tr>\n    <tr>\n      <th>Tatoray Stripper C620 Operation_Column Temp Profile_C620 Tray 34 (Control)_oC</th>\n      <td>0.995549</td>\n      <td>0.00359387</td>\n      <td>0.0232859</td>\n    </tr>\n    <tr>\n      <th>AVG</th>\n      <td>0.55674</td>\n      <td>0.0197376</td>\n      <td>0.384199</td>\n    </tr>\n  </tbody>\n</table>\n</div>"
          },
          "metadata": {},
          "execution_count": 9
        }
      ]
    },
    {
      "cell_type": "code",
      "metadata": {
        "colab": {
          "base_uri": "https://localhost:8080/",
          "height": 419
        },
        "id": "C71_Uswj_J9A",
        "outputId": "c5c8d054-6e58-4b11-c356-c758869e40d6"
      },
      "source": [
        "show_metrics(wt_real,wt_pred)"
      ],
      "execution_count": 10,
      "outputs": [
        {
          "output_type": "execute_result",
          "data": {
            "text/plain": [
              "                                                          R2          MSE  \\\n",
              "Tatoray Stripper C620 Operation_Vent Gas Produc...         1            0   \n",
              "Tatoray Stripper C620 Operation_Vent Gas Produc...  0.860551   0.00183218   \n",
              "Tatoray Stripper C620 Operation_Vent Gas Produc...  0.987806    0.0406776   \n",
              "Tatoray Stripper C620 Operation_Vent Gas Produc...  0.965015     0.011611   \n",
              "Tatoray Stripper C620 Operation_Vent Gas Produc...  0.979919    0.0221738   \n",
              "...                                                      ...          ...   \n",
              "Tatoray Stripper C620 Operation_Bottoms Product...  0.964649  9.88155e-05   \n",
              "Tatoray Stripper C620 Operation_Bottoms Product...  0.999783  1.09992e-07   \n",
              "Tatoray Stripper C620 Operation_Bottoms Product...         1            0   \n",
              "Tatoray Stripper C620 Operation_Bottoms Product...         1            0   \n",
              "AVG                                                 0.424991   0.00172798   \n",
              "\n",
              "                                                        MAPE  \n",
              "Tatoray Stripper C620 Operation_Vent Gas Produc...       NaN  \n",
              "Tatoray Stripper C620 Operation_Vent Gas Produc...   1.87597  \n",
              "Tatoray Stripper C620 Operation_Vent Gas Produc...  0.388348  \n",
              "Tatoray Stripper C620 Operation_Vent Gas Produc...  0.247694  \n",
              "Tatoray Stripper C620 Operation_Vent Gas Produc...   1.22781  \n",
              "...                                                      ...  \n",
              "Tatoray Stripper C620 Operation_Bottoms Product...   1.70205  \n",
              "Tatoray Stripper C620 Operation_Bottoms Product...  0.134213  \n",
              "Tatoray Stripper C620 Operation_Bottoms Product...       NaN  \n",
              "Tatoray Stripper C620 Operation_Bottoms Product...       NaN  \n",
              "AVG                                                  18.4561  \n",
              "\n",
              "[165 rows x 3 columns]"
            ],
            "text/html": "<div>\n<style scoped>\n    .dataframe tbody tr th:only-of-type {\n        vertical-align: middle;\n    }\n\n    .dataframe tbody tr th {\n        vertical-align: top;\n    }\n\n    .dataframe thead th {\n        text-align: right;\n    }\n</style>\n<table border=\"1\" class=\"dataframe\">\n  <thead>\n    <tr style=\"text-align: right;\">\n      <th></th>\n      <th>R2</th>\n      <th>MSE</th>\n      <th>MAPE</th>\n    </tr>\n  </thead>\n  <tbody>\n    <tr>\n      <th>Tatoray Stripper C620 Operation_Vent Gas Production Rate and Composition_Hydrogen_wt%</th>\n      <td>1</td>\n      <td>0</td>\n      <td>NaN</td>\n    </tr>\n    <tr>\n      <th>Tatoray Stripper C620 Operation_Vent Gas Production Rate and Composition_Methane_wt%</th>\n      <td>0.860551</td>\n      <td>0.00183218</td>\n      <td>1.87597</td>\n    </tr>\n    <tr>\n      <th>Tatoray Stripper C620 Operation_Vent Gas Production Rate and Composition_Ethane_wt%</th>\n      <td>0.987806</td>\n      <td>0.0406776</td>\n      <td>0.388348</td>\n    </tr>\n    <tr>\n      <th>Tatoray Stripper C620 Operation_Vent Gas Production Rate and Composition_Propane_wt%</th>\n      <td>0.965015</td>\n      <td>0.011611</td>\n      <td>0.247694</td>\n    </tr>\n    <tr>\n      <th>Tatoray Stripper C620 Operation_Vent Gas Production Rate and Composition_n-Butane_wt%</th>\n      <td>0.979919</td>\n      <td>0.0221738</td>\n      <td>1.22781</td>\n    </tr>\n    <tr>\n      <th>...</th>\n      <td>...</td>\n      <td>...</td>\n      <td>...</td>\n    </tr>\n    <tr>\n      <th>Tatoray Stripper C620 Operation_Bottoms Production Rate and Composition_n-Pentylbenzene_wt%</th>\n      <td>0.964649</td>\n      <td>9.88155e-05</td>\n      <td>1.70205</td>\n    </tr>\n    <tr>\n      <th>Tatoray Stripper C620 Operation_Bottoms Production Rate and Composition_n-Hexylbenzene_wt%</th>\n      <td>0.999783</td>\n      <td>1.09992e-07</td>\n      <td>0.134213</td>\n    </tr>\n    <tr>\n      <th>Tatoray Stripper C620 Operation_Bottoms Production Rate and Composition_Nitrogen_wt%</th>\n      <td>1</td>\n      <td>0</td>\n      <td>NaN</td>\n    </tr>\n    <tr>\n      <th>Tatoray Stripper C620 Operation_Bottoms Production Rate and Composition_Oxygen_wt%</th>\n      <td>1</td>\n      <td>0</td>\n      <td>NaN</td>\n    </tr>\n    <tr>\n      <th>AVG</th>\n      <td>0.424991</td>\n      <td>0.00172798</td>\n      <td>18.4561</td>\n    </tr>\n  </tbody>\n</table>\n<p>165 rows × 3 columns</p>\n</div>"
          },
          "metadata": {},
          "execution_count": 10
        }
      ]
    },
    {
      "cell_type": "code",
      "metadata": {
        "id": "yUgadnmV_M8B",
        "outputId": "229f008f-13dd-4dfd-e804-2cbdcba9e23f",
        "colab": {
          "base_uri": "https://localhost:8080/",
          "height": 419
        }
      },
      "source": [
        "case = pd.DataFrame(test[:,case_col_idx].detach().cpu().numpy(),columns=case_col)\n",
        "case.iloc[:,[2]]"
      ],
      "execution_count": 11,
      "outputs": [
        {
          "output_type": "execute_result",
          "data": {
            "text/plain": [
              "      Tatoray Stripper C620 Operation_Specifications_Spec 3 : Benzene in Sidedraw_wt%\n",
              "0                                             80.000000                              \n",
              "1                                             70.000015                              \n",
              "2                                             89.999992                              \n",
              "3                                             90.000015                              \n",
              "4                                             79.999992                              \n",
              "...                                                 ...                              \n",
              "1551                                          79.999992                              \n",
              "1552                                          70.000008                              \n",
              "1553                                          90.000000                              \n",
              "1554                                          70.000000                              \n",
              "1555                                          70.000008                              \n",
              "\n",
              "[1556 rows x 1 columns]"
            ],
            "text/html": "<div>\n<style scoped>\n    .dataframe tbody tr th:only-of-type {\n        vertical-align: middle;\n    }\n\n    .dataframe tbody tr th {\n        vertical-align: top;\n    }\n\n    .dataframe thead th {\n        text-align: right;\n    }\n</style>\n<table border=\"1\" class=\"dataframe\">\n  <thead>\n    <tr style=\"text-align: right;\">\n      <th></th>\n      <th>Tatoray Stripper C620 Operation_Specifications_Spec 3 : Benzene in Sidedraw_wt%</th>\n    </tr>\n  </thead>\n  <tbody>\n    <tr>\n      <th>0</th>\n      <td>80.000000</td>\n    </tr>\n    <tr>\n      <th>1</th>\n      <td>70.000015</td>\n    </tr>\n    <tr>\n      <th>2</th>\n      <td>89.999992</td>\n    </tr>\n    <tr>\n      <th>3</th>\n      <td>90.000015</td>\n    </tr>\n    <tr>\n      <th>4</th>\n      <td>79.999992</td>\n    </tr>\n    <tr>\n      <th>...</th>\n      <td>...</td>\n    </tr>\n    <tr>\n      <th>1551</th>\n      <td>79.999992</td>\n    </tr>\n    <tr>\n      <th>1552</th>\n      <td>70.000008</td>\n    </tr>\n    <tr>\n      <th>1553</th>\n      <td>90.000000</td>\n    </tr>\n    <tr>\n      <th>1554</th>\n      <td>70.000000</td>\n    </tr>\n    <tr>\n      <th>1555</th>\n      <td>70.000008</td>\n    </tr>\n  </tbody>\n</table>\n<p>1556 rows × 1 columns</p>\n</div>"
          },
          "metadata": {},
          "execution_count": 11
        }
      ]
    },
    {
      "cell_type": "code",
      "metadata": {
        "id": "8GDabCjrHbov",
        "outputId": "bbdde2b6-d7b2-4a03-d9e2-82b296ab7f53",
        "colab": {
          "base_uri": "https://localhost:8080/",
          "height": 419
        }
      },
      "source": [
        "wt_pred.iloc[:,[89]]"
      ],
      "execution_count": 12,
      "outputs": [
        {
          "output_type": "execute_result",
          "data": {
            "text/plain": [
              "      Tatoray Stripper C620 Operation_Sidedraw Production Rate and Composition_Benzene_wt%\n",
              "0                                             80.018158                                   \n",
              "1                                             70.088745                                   \n",
              "2                                             90.017609                                   \n",
              "3                                             89.975349                                   \n",
              "4                                             80.005196                                   \n",
              "...                                                 ...                                   \n",
              "1551                                          80.022186                                   \n",
              "1552                                          70.041191                                   \n",
              "1553                                          90.020256                                   \n",
              "1554                                          70.050293                                   \n",
              "1555                                          70.037018                                   \n",
              "\n",
              "[1556 rows x 1 columns]"
            ],
            "text/html": "<div>\n<style scoped>\n    .dataframe tbody tr th:only-of-type {\n        vertical-align: middle;\n    }\n\n    .dataframe tbody tr th {\n        vertical-align: top;\n    }\n\n    .dataframe thead th {\n        text-align: right;\n    }\n</style>\n<table border=\"1\" class=\"dataframe\">\n  <thead>\n    <tr style=\"text-align: right;\">\n      <th></th>\n      <th>Tatoray Stripper C620 Operation_Sidedraw Production Rate and Composition_Benzene_wt%</th>\n    </tr>\n  </thead>\n  <tbody>\n    <tr>\n      <th>0</th>\n      <td>80.018158</td>\n    </tr>\n    <tr>\n      <th>1</th>\n      <td>70.088745</td>\n    </tr>\n    <tr>\n      <th>2</th>\n      <td>90.017609</td>\n    </tr>\n    <tr>\n      <th>3</th>\n      <td>89.975349</td>\n    </tr>\n    <tr>\n      <th>4</th>\n      <td>80.005196</td>\n    </tr>\n    <tr>\n      <th>...</th>\n      <td>...</td>\n    </tr>\n    <tr>\n      <th>1551</th>\n      <td>80.022186</td>\n    </tr>\n    <tr>\n      <th>1552</th>\n      <td>70.041191</td>\n    </tr>\n    <tr>\n      <th>1553</th>\n      <td>90.020256</td>\n    </tr>\n    <tr>\n      <th>1554</th>\n      <td>70.050293</td>\n    </tr>\n    <tr>\n      <th>1555</th>\n      <td>70.037018</td>\n    </tr>\n  </tbody>\n</table>\n<p>1556 rows × 1 columns</p>\n</div>"
          },
          "metadata": {},
          "execution_count": 12
        }
      ]
    },
    {
      "cell_type": "code",
      "metadata": {
        "id": "KVXwy8XZHuJd",
        "outputId": "93d91729-8a30-4386-89c4-4147c361ca4d",
        "colab": {
          "base_uri": "https://localhost:8080/",
          "height": 372
        }
      },
      "source": [
        "wt_real.head()"
      ],
      "execution_count": 13,
      "outputs": [
        {
          "output_type": "execute_result",
          "data": {
            "text/plain": [
              "   Tatoray Stripper C620 Operation_Vent Gas Production Rate and Composition_Hydrogen_wt%  \\\n",
              "0                                                0.0                                       \n",
              "1                                                0.0                                       \n",
              "2                                                0.0                                       \n",
              "3                                                0.0                                       \n",
              "4                                                0.0                                       \n",
              "\n",
              "   Tatoray Stripper C620 Operation_Vent Gas Production Rate and Composition_Methane_wt%  \\\n",
              "0                                           1.735580                                      \n",
              "1                                           1.620795                                      \n",
              "2                                           1.639932                                      \n",
              "3                                           1.712373                                      \n",
              "4                                           1.658153                                      \n",
              "\n",
              "   Tatoray Stripper C620 Operation_Vent Gas Production Rate and Composition_Ethane_wt%  \\\n",
              "0                                          40.854179                                     \n",
              "1                                          38.780468                                     \n",
              "2                                          39.672600                                     \n",
              "3                                          40.439095                                     \n",
              "4                                          39.844955                                     \n",
              "\n",
              "   Tatoray Stripper C620 Operation_Vent Gas Production Rate and Composition_Propane_wt%  \\\n",
              "0                                          35.134911                                      \n",
              "1                                          35.019016                                      \n",
              "2                                          35.926533                                      \n",
              "3                                          35.028820                                      \n",
              "4                                          36.059849                                      \n",
              "\n",
              "   Tatoray Stripper C620 Operation_Vent Gas Production Rate and Composition_n-Butane_wt%  \\\n",
              "0                                           8.539701                                       \n",
              "1                                           9.910460                                       \n",
              "2                                          10.281646                                       \n",
              "3                                           8.778197                                       \n",
              "4                                          10.189783                                       \n",
              "\n",
              "   Tatoray Stripper C620 Operation_Vent Gas Production Rate and Composition_n-Pentane_wt%  \\\n",
              "0                                           2.934831                                        \n",
              "1                                           4.344801                                        \n",
              "2                                           4.589512                                        \n",
              "3                                           3.318513                                        \n",
              "4                                           4.298722                                        \n",
              "\n",
              "   Tatoray Stripper C620 Operation_Vent Gas Production Rate and Composition_n-Hexane_wt%  \\\n",
              "0                                           0.194797                                       \n",
              "1                                           0.268734                                       \n",
              "2                                           0.209934                                       \n",
              "3                                           0.202569                                       \n",
              "4                                           0.232068                                       \n",
              "\n",
              "   Tatoray Stripper C620 Operation_Vent Gas Production Rate and Composition_Benzene_wt%  \\\n",
              "0                                          10.557825                                      \n",
              "1                                           9.991651                                      \n",
              "2                                           7.658463                                      \n",
              "3                                          10.488806                                      \n",
              "4                                           7.684918                                      \n",
              "\n",
              "   Tatoray Stripper C620 Operation_Vent Gas Production Rate and Composition_Cyclohexane_wt%  \\\n",
              "0                                           0.015089                                          \n",
              "1                                           0.014487                                          \n",
              "2                                           0.010871                                          \n",
              "3                                           0.015276                                          \n",
              "4                                           0.010389                                          \n",
              "\n",
              "   Tatoray Stripper C620 Operation_Vent Gas Production Rate and Composition_n-Heptane_wt%  \\\n",
              "0                                           0.004484                                        \n",
              "1                                           0.003978                                        \n",
              "2                                           0.002477                                        \n",
              "3                                           0.004234                                        \n",
              "4                                           0.002540                                        \n",
              "\n",
              "   ...  \\\n",
              "0  ...   \n",
              "1  ...   \n",
              "2  ...   \n",
              "3  ...   \n",
              "4  ...   \n",
              "\n",
              "   Tatoray Stripper C620 Operation_Bottoms Production Rate and Composition_Indane_wt%  \\\n",
              "0                                           0.040319                                    \n",
              "1                                           0.041822                                    \n",
              "2                                           0.063310                                    \n",
              "3                                           0.063425                                    \n",
              "4                                           0.040438                                    \n",
              "\n",
              "   Tatoray Stripper C620 Operation_Bottoms Production Rate and Composition_1-Methyl-4-n-propylbenzene_wt%  \\\n",
              "0                                           0.001152                                                        \n",
              "1                                           0.001195                                                        \n",
              "2                                           0.000908                                                        \n",
              "3                                           0.001133                                                        \n",
              "4                                           0.001155                                                        \n",
              "\n",
              "   Tatoray Stripper C620 Operation_Bottoms Production Rate and Composition_1,2-Diethylbenzene_wt%  \\\n",
              "0                                           0.026495                                                \n",
              "1                                           0.027483                                                \n",
              "2                                           0.024507                                                \n",
              "3                                           0.024917                                                \n",
              "4                                           0.026574                                                \n",
              "\n",
              "   Tatoray Stripper C620 Operation_Bottoms Production Rate and Composition_5-Ethyl-m-xylene_wt%  \\\n",
              "0                                           1.035620                                              \n",
              "1                                           1.074230                                              \n",
              "2                                           0.947716                                              \n",
              "3                                           0.945715                                              \n",
              "4                                           1.038681                                              \n",
              "\n",
              "   Tatoray Stripper C620 Operation_Bottoms Production Rate and Composition_1,4-Diethylbenzene_wt%  \\\n",
              "0                                                0.0                                                \n",
              "1                                                0.0                                                \n",
              "2                                                0.0                                                \n",
              "3                                                0.0                                                \n",
              "4                                                0.0                                                \n",
              "\n",
              "   Tatoray Stripper C620 Operation_Bottoms Production Rate and Composition_1,2,3,5-Tetramethylbenzene_wt%  \\\n",
              "0                                           1.191136                                                        \n",
              "1                                           1.235543                                                        \n",
              "2                                           1.091127                                                        \n",
              "3                                           1.089554                                                        \n",
              "4                                           1.194656                                                        \n",
              "\n",
              "   Tatoray Stripper C620 Operation_Bottoms Production Rate and Composition_n-Pentylbenzene_wt%  \\\n",
              "0                                           0.305272                                             \n",
              "1                                           0.316653                                             \n",
              "2                                           0.399940                                             \n",
              "3                                           0.398673                                             \n",
              "4                                           0.306174                                             \n",
              "\n",
              "   Tatoray Stripper C620 Operation_Bottoms Production Rate and Composition_n-Hexylbenzene_wt%  \\\n",
              "0                                           0.131324                                            \n",
              "1                                           0.136220                                            \n",
              "2                                           0.171435                                            \n",
              "3                                           0.171021                                            \n",
              "4                                           0.131713                                            \n",
              "\n",
              "   Tatoray Stripper C620 Operation_Bottoms Production Rate and Composition_Nitrogen_wt%  \\\n",
              "0                                                0.0                                      \n",
              "1                                                0.0                                      \n",
              "2                                                0.0                                      \n",
              "3                                                0.0                                      \n",
              "4                                                0.0                                      \n",
              "\n",
              "   Tatoray Stripper C620 Operation_Bottoms Production Rate and Composition_Oxygen_wt%  \n",
              "0                                                0.0                                   \n",
              "1                                                0.0                                   \n",
              "2                                                0.0                                   \n",
              "3                                                0.0                                   \n",
              "4                                                0.0                                   \n",
              "\n",
              "[5 rows x 164 columns]"
            ],
            "text/html": "<div>\n<style scoped>\n    .dataframe tbody tr th:only-of-type {\n        vertical-align: middle;\n    }\n\n    .dataframe tbody tr th {\n        vertical-align: top;\n    }\n\n    .dataframe thead th {\n        text-align: right;\n    }\n</style>\n<table border=\"1\" class=\"dataframe\">\n  <thead>\n    <tr style=\"text-align: right;\">\n      <th></th>\n      <th>Tatoray Stripper C620 Operation_Vent Gas Production Rate and Composition_Hydrogen_wt%</th>\n      <th>Tatoray Stripper C620 Operation_Vent Gas Production Rate and Composition_Methane_wt%</th>\n      <th>Tatoray Stripper C620 Operation_Vent Gas Production Rate and Composition_Ethane_wt%</th>\n      <th>Tatoray Stripper C620 Operation_Vent Gas Production Rate and Composition_Propane_wt%</th>\n      <th>Tatoray Stripper C620 Operation_Vent Gas Production Rate and Composition_n-Butane_wt%</th>\n      <th>Tatoray Stripper C620 Operation_Vent Gas Production Rate and Composition_n-Pentane_wt%</th>\n      <th>Tatoray Stripper C620 Operation_Vent Gas Production Rate and Composition_n-Hexane_wt%</th>\n      <th>Tatoray Stripper C620 Operation_Vent Gas Production Rate and Composition_Benzene_wt%</th>\n      <th>Tatoray Stripper C620 Operation_Vent Gas Production Rate and Composition_Cyclohexane_wt%</th>\n      <th>Tatoray Stripper C620 Operation_Vent Gas Production Rate and Composition_n-Heptane_wt%</th>\n      <th>...</th>\n      <th>Tatoray Stripper C620 Operation_Bottoms Production Rate and Composition_Indane_wt%</th>\n      <th>Tatoray Stripper C620 Operation_Bottoms Production Rate and Composition_1-Methyl-4-n-propylbenzene_wt%</th>\n      <th>Tatoray Stripper C620 Operation_Bottoms Production Rate and Composition_1,2-Diethylbenzene_wt%</th>\n      <th>Tatoray Stripper C620 Operation_Bottoms Production Rate and Composition_5-Ethyl-m-xylene_wt%</th>\n      <th>Tatoray Stripper C620 Operation_Bottoms Production Rate and Composition_1,4-Diethylbenzene_wt%</th>\n      <th>Tatoray Stripper C620 Operation_Bottoms Production Rate and Composition_1,2,3,5-Tetramethylbenzene_wt%</th>\n      <th>Tatoray Stripper C620 Operation_Bottoms Production Rate and Composition_n-Pentylbenzene_wt%</th>\n      <th>Tatoray Stripper C620 Operation_Bottoms Production Rate and Composition_n-Hexylbenzene_wt%</th>\n      <th>Tatoray Stripper C620 Operation_Bottoms Production Rate and Composition_Nitrogen_wt%</th>\n      <th>Tatoray Stripper C620 Operation_Bottoms Production Rate and Composition_Oxygen_wt%</th>\n    </tr>\n  </thead>\n  <tbody>\n    <tr>\n      <th>0</th>\n      <td>0.0</td>\n      <td>1.735580</td>\n      <td>40.854179</td>\n      <td>35.134911</td>\n      <td>8.539701</td>\n      <td>2.934831</td>\n      <td>0.194797</td>\n      <td>10.557825</td>\n      <td>0.015089</td>\n      <td>0.004484</td>\n      <td>...</td>\n      <td>0.040319</td>\n      <td>0.001152</td>\n      <td>0.026495</td>\n      <td>1.035620</td>\n      <td>0.0</td>\n      <td>1.191136</td>\n      <td>0.305272</td>\n      <td>0.131324</td>\n      <td>0.0</td>\n      <td>0.0</td>\n    </tr>\n    <tr>\n      <th>1</th>\n      <td>0.0</td>\n      <td>1.620795</td>\n      <td>38.780468</td>\n      <td>35.019016</td>\n      <td>9.910460</td>\n      <td>4.344801</td>\n      <td>0.268734</td>\n      <td>9.991651</td>\n      <td>0.014487</td>\n      <td>0.003978</td>\n      <td>...</td>\n      <td>0.041822</td>\n      <td>0.001195</td>\n      <td>0.027483</td>\n      <td>1.074230</td>\n      <td>0.0</td>\n      <td>1.235543</td>\n      <td>0.316653</td>\n      <td>0.136220</td>\n      <td>0.0</td>\n      <td>0.0</td>\n    </tr>\n    <tr>\n      <th>2</th>\n      <td>0.0</td>\n      <td>1.639932</td>\n      <td>39.672600</td>\n      <td>35.926533</td>\n      <td>10.281646</td>\n      <td>4.589512</td>\n      <td>0.209934</td>\n      <td>7.658463</td>\n      <td>0.010871</td>\n      <td>0.002477</td>\n      <td>...</td>\n      <td>0.063310</td>\n      <td>0.000908</td>\n      <td>0.024507</td>\n      <td>0.947716</td>\n      <td>0.0</td>\n      <td>1.091127</td>\n      <td>0.399940</td>\n      <td>0.171435</td>\n      <td>0.0</td>\n      <td>0.0</td>\n    </tr>\n    <tr>\n      <th>3</th>\n      <td>0.0</td>\n      <td>1.712373</td>\n      <td>40.439095</td>\n      <td>35.028820</td>\n      <td>8.778197</td>\n      <td>3.318513</td>\n      <td>0.202569</td>\n      <td>10.488806</td>\n      <td>0.015276</td>\n      <td>0.004234</td>\n      <td>...</td>\n      <td>0.063425</td>\n      <td>0.001133</td>\n      <td>0.024917</td>\n      <td>0.945715</td>\n      <td>0.0</td>\n      <td>1.089554</td>\n      <td>0.398673</td>\n      <td>0.171021</td>\n      <td>0.0</td>\n      <td>0.0</td>\n    </tr>\n    <tr>\n      <th>4</th>\n      <td>0.0</td>\n      <td>1.658153</td>\n      <td>39.844955</td>\n      <td>36.059849</td>\n      <td>10.189783</td>\n      <td>4.298722</td>\n      <td>0.232068</td>\n      <td>7.684918</td>\n      <td>0.010389</td>\n      <td>0.002540</td>\n      <td>...</td>\n      <td>0.040438</td>\n      <td>0.001155</td>\n      <td>0.026574</td>\n      <td>1.038681</td>\n      <td>0.0</td>\n      <td>1.194656</td>\n      <td>0.306174</td>\n      <td>0.131713</td>\n      <td>0.0</td>\n      <td>0.0</td>\n    </tr>\n  </tbody>\n</table>\n<p>5 rows × 164 columns</p>\n</div>"
          },
          "metadata": {},
          "execution_count": 13
        }
      ]
    },
    {
      "cell_type": "code",
      "metadata": {
        "id": "F8pC8HoTJkEh",
        "outputId": "58a05ec7-3959-445f-af89-ad91ea5a0615",
        "colab": {
          "base_uri": "https://localhost:8080/",
          "height": 372
        }
      },
      "source": [
        "wt_pred.head()"
      ],
      "execution_count": 14,
      "outputs": [
        {
          "output_type": "execute_result",
          "data": {
            "text/plain": [
              "   Tatoray Stripper C620 Operation_Vent Gas Production Rate and Composition_Hydrogen_wt%  \\\n",
              "0                                                0.0                                       \n",
              "1                                                0.0                                       \n",
              "2                                                0.0                                       \n",
              "3                                                0.0                                       \n",
              "4                                                0.0                                       \n",
              "\n",
              "   Tatoray Stripper C620 Operation_Vent Gas Production Rate and Composition_Methane_wt%  \\\n",
              "0                                           1.774041                                      \n",
              "1                                           1.672329                                      \n",
              "2                                           1.646622                                      \n",
              "3                                           1.757410                                      \n",
              "4                                           1.677656                                      \n",
              "\n",
              "   Tatoray Stripper C620 Operation_Vent Gas Production Rate and Composition_Ethane_wt%  \\\n",
              "0                                          41.152180                                     \n",
              "1                                          38.930836                                     \n",
              "2                                          39.669861                                     \n",
              "3                                          41.062080                                     \n",
              "4                                          39.880451                                     \n",
              "\n",
              "   Tatoray Stripper C620 Operation_Vent Gas Production Rate and Composition_Propane_wt%  \\\n",
              "0                                          35.296211                                      \n",
              "1                                          35.044586                                      \n",
              "2                                          35.833496                                      \n",
              "3                                          35.231461                                      \n",
              "4                                          36.085148                                      \n",
              "\n",
              "   Tatoray Stripper C620 Operation_Vent Gas Production Rate and Composition_n-Butane_wt%  \\\n",
              "0                                           8.206505                                       \n",
              "1                                           9.847038                                       \n",
              "2                                          10.270977                                       \n",
              "3                                           8.188355                                       \n",
              "4                                          10.167580                                       \n",
              "\n",
              "   Tatoray Stripper C620 Operation_Vent Gas Production Rate and Composition_n-Pentane_wt%  \\\n",
              "0                                           2.666838                                        \n",
              "1                                           4.266691                                        \n",
              "2                                           4.709546                                        \n",
              "3                                           3.062904                                        \n",
              "4                                           4.182552                                        \n",
              "\n",
              "   Tatoray Stripper C620 Operation_Vent Gas Production Rate and Composition_n-Hexane_wt%  \\\n",
              "0                                           0.200860                                       \n",
              "1                                           0.208767                                       \n",
              "2                                           0.214840                                       \n",
              "3                                           0.190663                                       \n",
              "4                                           0.221186                                       \n",
              "\n",
              "   Tatoray Stripper C620 Operation_Vent Gas Production Rate and Composition_Benzene_wt%  \\\n",
              "0                                          10.644809                                      \n",
              "1                                           9.931718                                      \n",
              "2                                           7.630282                                      \n",
              "3                                          10.471148                                      \n",
              "4                                           7.754416                                      \n",
              "\n",
              "   Tatoray Stripper C620 Operation_Vent Gas Production Rate and Composition_Cyclohexane_wt%  \\\n",
              "0                                           0.018999                                          \n",
              "1                                           0.009511                                          \n",
              "2                                           0.013033                                          \n",
              "3                                           0.022316                                          \n",
              "4                                           0.008566                                          \n",
              "\n",
              "   Tatoray Stripper C620 Operation_Vent Gas Production Rate and Composition_n-Heptane_wt%  \\\n",
              "0                                           0.010562                                        \n",
              "1                                           0.000616                                        \n",
              "2                                           0.000136                                        \n",
              "3                                           0.004287                                        \n",
              "4                                           0.000176                                        \n",
              "\n",
              "   ...  \\\n",
              "0  ...   \n",
              "1  ...   \n",
              "2  ...   \n",
              "3  ...   \n",
              "4  ...   \n",
              "\n",
              "   Tatoray Stripper C620 Operation_Bottoms Production Rate and Composition_Indane_wt%  \\\n",
              "0                                           0.040395                                    \n",
              "1                                           0.041802                                    \n",
              "2                                           0.063336                                    \n",
              "3                                           0.063413                                    \n",
              "4                                           0.040514                                    \n",
              "\n",
              "   Tatoray Stripper C620 Operation_Bottoms Production Rate and Composition_1-Methyl-4-n-propylbenzene_wt%  \\\n",
              "0                                           0.001154                                                        \n",
              "1                                           0.001194                                                        \n",
              "2                                           0.000908                                                        \n",
              "3                                           0.001132                                                        \n",
              "4                                           0.001158                                                        \n",
              "\n",
              "   Tatoray Stripper C620 Operation_Bottoms Production Rate and Composition_1,2-Diethylbenzene_wt%  \\\n",
              "0                                           0.026545                                                \n",
              "1                                           0.027469                                                \n",
              "2                                           0.024517                                                \n",
              "3                                           0.024912                                                \n",
              "4                                           0.026624                                                \n",
              "\n",
              "   Tatoray Stripper C620 Operation_Bottoms Production Rate and Composition_5-Ethyl-m-xylene_wt%  \\\n",
              "0                                           1.036119                                              \n",
              "1                                           1.073361                                              \n",
              "2                                           0.913062                                              \n",
              "3                                           0.910664                                              \n",
              "4                                           1.039162                                              \n",
              "\n",
              "   Tatoray Stripper C620 Operation_Bottoms Production Rate and Composition_1,4-Diethylbenzene_wt%  \\\n",
              "0                                                0.0                                                \n",
              "1                                                0.0                                                \n",
              "2                                                0.0                                                \n",
              "3                                                0.0                                                \n",
              "4                                                0.0                                                \n",
              "\n",
              "   Tatoray Stripper C620 Operation_Bottoms Production Rate and Composition_1,2,3,5-Tetramethylbenzene_wt%  \\\n",
              "0                                           1.192058                                                        \n",
              "1                                           1.234092                                                        \n",
              "2                                           1.086496                                                        \n",
              "3                                           1.083871                                                        \n",
              "4                                           1.195719                                                        \n",
              "\n",
              "   Tatoray Stripper C620 Operation_Bottoms Production Rate and Composition_n-Pentylbenzene_wt%  \\\n",
              "0                                           0.305258                                             \n",
              "1                                           0.316403                                             \n",
              "2                                           0.379279                                             \n",
              "3                                           0.379407                                             \n",
              "4                                           0.306067                                             \n",
              "\n",
              "   Tatoray Stripper C620 Operation_Bottoms Production Rate and Composition_n-Hexylbenzene_wt%  \\\n",
              "0                                           0.131573                                            \n",
              "1                                           0.136150                                            \n",
              "2                                           0.171507                                            \n",
              "3                                           0.170987                                            \n",
              "4                                           0.131960                                            \n",
              "\n",
              "   Tatoray Stripper C620 Operation_Bottoms Production Rate and Composition_Nitrogen_wt%  \\\n",
              "0                                                0.0                                      \n",
              "1                                                0.0                                      \n",
              "2                                                0.0                                      \n",
              "3                                                0.0                                      \n",
              "4                                                0.0                                      \n",
              "\n",
              "   Tatoray Stripper C620 Operation_Bottoms Production Rate and Composition_Oxygen_wt%  \n",
              "0                                                0.0                                   \n",
              "1                                                0.0                                   \n",
              "2                                                0.0                                   \n",
              "3                                                0.0                                   \n",
              "4                                                0.0                                   \n",
              "\n",
              "[5 rows x 164 columns]"
            ],
            "text/html": "<div>\n<style scoped>\n    .dataframe tbody tr th:only-of-type {\n        vertical-align: middle;\n    }\n\n    .dataframe tbody tr th {\n        vertical-align: top;\n    }\n\n    .dataframe thead th {\n        text-align: right;\n    }\n</style>\n<table border=\"1\" class=\"dataframe\">\n  <thead>\n    <tr style=\"text-align: right;\">\n      <th></th>\n      <th>Tatoray Stripper C620 Operation_Vent Gas Production Rate and Composition_Hydrogen_wt%</th>\n      <th>Tatoray Stripper C620 Operation_Vent Gas Production Rate and Composition_Methane_wt%</th>\n      <th>Tatoray Stripper C620 Operation_Vent Gas Production Rate and Composition_Ethane_wt%</th>\n      <th>Tatoray Stripper C620 Operation_Vent Gas Production Rate and Composition_Propane_wt%</th>\n      <th>Tatoray Stripper C620 Operation_Vent Gas Production Rate and Composition_n-Butane_wt%</th>\n      <th>Tatoray Stripper C620 Operation_Vent Gas Production Rate and Composition_n-Pentane_wt%</th>\n      <th>Tatoray Stripper C620 Operation_Vent Gas Production Rate and Composition_n-Hexane_wt%</th>\n      <th>Tatoray Stripper C620 Operation_Vent Gas Production Rate and Composition_Benzene_wt%</th>\n      <th>Tatoray Stripper C620 Operation_Vent Gas Production Rate and Composition_Cyclohexane_wt%</th>\n      <th>Tatoray Stripper C620 Operation_Vent Gas Production Rate and Composition_n-Heptane_wt%</th>\n      <th>...</th>\n      <th>Tatoray Stripper C620 Operation_Bottoms Production Rate and Composition_Indane_wt%</th>\n      <th>Tatoray Stripper C620 Operation_Bottoms Production Rate and Composition_1-Methyl-4-n-propylbenzene_wt%</th>\n      <th>Tatoray Stripper C620 Operation_Bottoms Production Rate and Composition_1,2-Diethylbenzene_wt%</th>\n      <th>Tatoray Stripper C620 Operation_Bottoms Production Rate and Composition_5-Ethyl-m-xylene_wt%</th>\n      <th>Tatoray Stripper C620 Operation_Bottoms Production Rate and Composition_1,4-Diethylbenzene_wt%</th>\n      <th>Tatoray Stripper C620 Operation_Bottoms Production Rate and Composition_1,2,3,5-Tetramethylbenzene_wt%</th>\n      <th>Tatoray Stripper C620 Operation_Bottoms Production Rate and Composition_n-Pentylbenzene_wt%</th>\n      <th>Tatoray Stripper C620 Operation_Bottoms Production Rate and Composition_n-Hexylbenzene_wt%</th>\n      <th>Tatoray Stripper C620 Operation_Bottoms Production Rate and Composition_Nitrogen_wt%</th>\n      <th>Tatoray Stripper C620 Operation_Bottoms Production Rate and Composition_Oxygen_wt%</th>\n    </tr>\n  </thead>\n  <tbody>\n    <tr>\n      <th>0</th>\n      <td>0.0</td>\n      <td>1.774041</td>\n      <td>41.152180</td>\n      <td>35.296211</td>\n      <td>8.206505</td>\n      <td>2.666838</td>\n      <td>0.200860</td>\n      <td>10.644809</td>\n      <td>0.018999</td>\n      <td>0.010562</td>\n      <td>...</td>\n      <td>0.040395</td>\n      <td>0.001154</td>\n      <td>0.026545</td>\n      <td>1.036119</td>\n      <td>0.0</td>\n      <td>1.192058</td>\n      <td>0.305258</td>\n      <td>0.131573</td>\n      <td>0.0</td>\n      <td>0.0</td>\n    </tr>\n    <tr>\n      <th>1</th>\n      <td>0.0</td>\n      <td>1.672329</td>\n      <td>38.930836</td>\n      <td>35.044586</td>\n      <td>9.847038</td>\n      <td>4.266691</td>\n      <td>0.208767</td>\n      <td>9.931718</td>\n      <td>0.009511</td>\n      <td>0.000616</td>\n      <td>...</td>\n      <td>0.041802</td>\n      <td>0.001194</td>\n      <td>0.027469</td>\n      <td>1.073361</td>\n      <td>0.0</td>\n      <td>1.234092</td>\n      <td>0.316403</td>\n      <td>0.136150</td>\n      <td>0.0</td>\n      <td>0.0</td>\n    </tr>\n    <tr>\n      <th>2</th>\n      <td>0.0</td>\n      <td>1.646622</td>\n      <td>39.669861</td>\n      <td>35.833496</td>\n      <td>10.270977</td>\n      <td>4.709546</td>\n      <td>0.214840</td>\n      <td>7.630282</td>\n      <td>0.013033</td>\n      <td>0.000136</td>\n      <td>...</td>\n      <td>0.063336</td>\n      <td>0.000908</td>\n      <td>0.024517</td>\n      <td>0.913062</td>\n      <td>0.0</td>\n      <td>1.086496</td>\n      <td>0.379279</td>\n      <td>0.171507</td>\n      <td>0.0</td>\n      <td>0.0</td>\n    </tr>\n    <tr>\n      <th>3</th>\n      <td>0.0</td>\n      <td>1.757410</td>\n      <td>41.062080</td>\n      <td>35.231461</td>\n      <td>8.188355</td>\n      <td>3.062904</td>\n      <td>0.190663</td>\n      <td>10.471148</td>\n      <td>0.022316</td>\n      <td>0.004287</td>\n      <td>...</td>\n      <td>0.063413</td>\n      <td>0.001132</td>\n      <td>0.024912</td>\n      <td>0.910664</td>\n      <td>0.0</td>\n      <td>1.083871</td>\n      <td>0.379407</td>\n      <td>0.170987</td>\n      <td>0.0</td>\n      <td>0.0</td>\n    </tr>\n    <tr>\n      <th>4</th>\n      <td>0.0</td>\n      <td>1.677656</td>\n      <td>39.880451</td>\n      <td>36.085148</td>\n      <td>10.167580</td>\n      <td>4.182552</td>\n      <td>0.221186</td>\n      <td>7.754416</td>\n      <td>0.008566</td>\n      <td>0.000176</td>\n      <td>...</td>\n      <td>0.040514</td>\n      <td>0.001158</td>\n      <td>0.026624</td>\n      <td>1.039162</td>\n      <td>0.0</td>\n      <td>1.195719</td>\n      <td>0.306067</td>\n      <td>0.131960</td>\n      <td>0.0</td>\n      <td>0.0</td>\n    </tr>\n  </tbody>\n</table>\n<p>5 rows × 164 columns</p>\n</div>"
          },
          "metadata": {},
          "execution_count": 14
        }
      ]
    },
    {
      "cell_type": "code",
      "metadata": {
        "id": "ppHMMP-FJlUq",
        "outputId": "250a067e-cf12-4786-a9bb-3f578e914257",
        "colab": {
          "base_uri": "https://localhost:8080/",
          "height": 272
        }
      },
      "source": [
        "op_real.head()"
      ],
      "execution_count": 15,
      "outputs": [
        {
          "output_type": "execute_result",
          "data": {
            "text/plain": [
              "   Density_Feed Properties  Density_Vent Gas Production Rate and Composition  \\\n",
              "0                 0.862201                                          0.451699   \n",
              "1                 0.862264                                          0.456571   \n",
              "2                 0.864572                                          0.451205   \n",
              "3                 0.864624                                          0.452764   \n",
              "4                 0.862092                                          0.450669   \n",
              "\n",
              "   Density_Distillate Production Rate and Composition  \\\n",
              "0                                           0.807672    \n",
              "1                                           0.796792    \n",
              "2                                           0.779997    \n",
              "3                                           0.805388    \n",
              "4                                           0.781604    \n",
              "\n",
              "   Density_Sidedraw Production Rate and Composition  \\\n",
              "0                                          0.880111   \n",
              "1                                          0.878735   \n",
              "2                                          0.881553   \n",
              "3                                          0.881624   \n",
              "4                                          0.880023   \n",
              "\n",
              "   Density_Bottoms Production Rate and Composition  \\\n",
              "0                                         0.871891   \n",
              "1                                         0.871920   \n",
              "2                                         0.872119   \n",
              "3                                         0.872110   \n",
              "4                                         0.871907   \n",
              "\n",
              "   Tatoray Stripper C620 Operation_Yield Summary_Reflux Rate_m3/hr  \\\n",
              "0                                         114.949593                 \n",
              "1                                         103.718544                 \n",
              "2                                         143.293716                 \n",
              "3                                         132.359253                 \n",
              "4                                         130.455917                 \n",
              "\n",
              "   Tatoray Stripper C620 Operation_Heat Duty_Condenser Heat Duty_Mkcal/hr  \\\n",
              "0                                          12.014245                        \n",
              "1                                          10.510809                        \n",
              "2                                          14.340211                        \n",
              "3                                          13.705202                        \n",
              "4                                          13.094102                        \n",
              "\n",
              "   Tatoray Stripper C620 Operation_Heat Duty_Reboiler Heat Duty_Mkcal/hr  \\\n",
              "0                                          13.654127                       \n",
              "1                                          12.042009                       \n",
              "2                                          16.338280                       \n",
              "3                                          15.249033                       \n",
              "4                                          15.508738                       \n",
              "\n",
              "   Tatoray Stripper C620 Operation_Column Temp Profile_C620 Tray 14 (Control)_oC  \\\n",
              "0                                         176.768524                               \n",
              "1                                         177.670349                               \n",
              "2                                         175.403900                               \n",
              "3                                         175.303009                               \n",
              "4                                         176.947662                               \n",
              "\n",
              "   Tatoray Stripper C620 Operation_Column Temp Profile_C620 Tray 34 (Control)_oC  \n",
              "0                                         193.888947                              \n",
              "1                                         194.060547                              \n",
              "2                                         192.173981                              \n",
              "3                                         191.970703                              \n",
              "4                                         194.274536                              "
            ],
            "text/html": "<div>\n<style scoped>\n    .dataframe tbody tr th:only-of-type {\n        vertical-align: middle;\n    }\n\n    .dataframe tbody tr th {\n        vertical-align: top;\n    }\n\n    .dataframe thead th {\n        text-align: right;\n    }\n</style>\n<table border=\"1\" class=\"dataframe\">\n  <thead>\n    <tr style=\"text-align: right;\">\n      <th></th>\n      <th>Density_Feed Properties</th>\n      <th>Density_Vent Gas Production Rate and Composition</th>\n      <th>Density_Distillate Production Rate and Composition</th>\n      <th>Density_Sidedraw Production Rate and Composition</th>\n      <th>Density_Bottoms Production Rate and Composition</th>\n      <th>Tatoray Stripper C620 Operation_Yield Summary_Reflux Rate_m3/hr</th>\n      <th>Tatoray Stripper C620 Operation_Heat Duty_Condenser Heat Duty_Mkcal/hr</th>\n      <th>Tatoray Stripper C620 Operation_Heat Duty_Reboiler Heat Duty_Mkcal/hr</th>\n      <th>Tatoray Stripper C620 Operation_Column Temp Profile_C620 Tray 14 (Control)_oC</th>\n      <th>Tatoray Stripper C620 Operation_Column Temp Profile_C620 Tray 34 (Control)_oC</th>\n    </tr>\n  </thead>\n  <tbody>\n    <tr>\n      <th>0</th>\n      <td>0.862201</td>\n      <td>0.451699</td>\n      <td>0.807672</td>\n      <td>0.880111</td>\n      <td>0.871891</td>\n      <td>114.949593</td>\n      <td>12.014245</td>\n      <td>13.654127</td>\n      <td>176.768524</td>\n      <td>193.888947</td>\n    </tr>\n    <tr>\n      <th>1</th>\n      <td>0.862264</td>\n      <td>0.456571</td>\n      <td>0.796792</td>\n      <td>0.878735</td>\n      <td>0.871920</td>\n      <td>103.718544</td>\n      <td>10.510809</td>\n      <td>12.042009</td>\n      <td>177.670349</td>\n      <td>194.060547</td>\n    </tr>\n    <tr>\n      <th>2</th>\n      <td>0.864572</td>\n      <td>0.451205</td>\n      <td>0.779997</td>\n      <td>0.881553</td>\n      <td>0.872119</td>\n      <td>143.293716</td>\n      <td>14.340211</td>\n      <td>16.338280</td>\n      <td>175.403900</td>\n      <td>192.173981</td>\n    </tr>\n    <tr>\n      <th>3</th>\n      <td>0.864624</td>\n      <td>0.452764</td>\n      <td>0.805388</td>\n      <td>0.881624</td>\n      <td>0.872110</td>\n      <td>132.359253</td>\n      <td>13.705202</td>\n      <td>15.249033</td>\n      <td>175.303009</td>\n      <td>191.970703</td>\n    </tr>\n    <tr>\n      <th>4</th>\n      <td>0.862092</td>\n      <td>0.450669</td>\n      <td>0.781604</td>\n      <td>0.880023</td>\n      <td>0.871907</td>\n      <td>130.455917</td>\n      <td>13.094102</td>\n      <td>15.508738</td>\n      <td>176.947662</td>\n      <td>194.274536</td>\n    </tr>\n  </tbody>\n</table>\n</div>"
          },
          "metadata": {},
          "execution_count": 15
        }
      ]
    },
    {
      "cell_type": "code",
      "metadata": {
        "id": "vPfQLba2Jnpi",
        "outputId": "af341308-d2b7-4ee9-ac77-a8b3636e3683",
        "colab": {
          "base_uri": "https://localhost:8080/",
          "height": 272
        }
      },
      "source": [
        "op_pred.head()"
      ],
      "execution_count": 16,
      "outputs": [
        {
          "output_type": "execute_result",
          "data": {
            "text/plain": [
              "   Density_Feed Properties  Density_Vent Gas Production Rate and Composition  \\\n",
              "0                 0.858564                                          0.450769   \n",
              "1                 0.857896                                          0.458221   \n",
              "2                 0.862302                                          0.451794   \n",
              "3                 0.860319                                          0.449724   \n",
              "4                 0.860176                                          0.452232   \n",
              "\n",
              "   Density_Distillate Production Rate and Composition  \\\n",
              "0                                           0.793369    \n",
              "1                                           0.779735    \n",
              "2                                           0.763688    \n",
              "3                                           0.801924    \n",
              "4                                           0.761698    \n",
              "\n",
              "   Density_Sidedraw Production Rate and Composition  \\\n",
              "0                                          0.882788   \n",
              "1                                          0.877358   \n",
              "2                                          0.881063   \n",
              "3                                          0.885162   \n",
              "4                                          0.879457   \n",
              "\n",
              "   Density_Bottoms Production Rate and Composition  \\\n",
              "0                                         0.876063   \n",
              "1                                         0.875578   \n",
              "2                                         0.873262   \n",
              "3                                         0.880900   \n",
              "4                                         0.872352   \n",
              "\n",
              "   Tatoray Stripper C620 Operation_Yield Summary_Reflux Rate_m3/hr  \\\n",
              "0                                         114.955109                 \n",
              "1                                         104.124573                 \n",
              "2                                         143.472870                 \n",
              "3                                         132.118790                 \n",
              "4                                         130.336243                 \n",
              "\n",
              "   Tatoray Stripper C620 Operation_Heat Duty_Condenser Heat Duty_Mkcal/hr  \\\n",
              "0                                          12.008997                        \n",
              "1                                          10.500270                        \n",
              "2                                          14.363647                        \n",
              "3                                          13.735847                        \n",
              "4                                          13.094616                        \n",
              "\n",
              "   Tatoray Stripper C620 Operation_Heat Duty_Reboiler Heat Duty_Mkcal/hr  \\\n",
              "0                                          13.683111                       \n",
              "1                                          12.045412                       \n",
              "2                                          16.391787                       \n",
              "3                                          15.254994                       \n",
              "4                                          15.464966                       \n",
              "\n",
              "   Tatoray Stripper C620 Operation_Column Temp Profile_C620 Tray 14 (Control)_oC  \\\n",
              "0                                         176.448822                               \n",
              "1                                         177.690964                               \n",
              "2                                         175.469650                               \n",
              "3                                         175.383408                               \n",
              "4                                         176.664200                               \n",
              "\n",
              "   Tatoray Stripper C620 Operation_Column Temp Profile_C620 Tray 34 (Control)_oC  \n",
              "0                                         193.894043                              \n",
              "1                                         194.013779                              \n",
              "2                                         192.157700                              \n",
              "3                                         191.930298                              \n",
              "4                                         194.313385                              "
            ],
            "text/html": "<div>\n<style scoped>\n    .dataframe tbody tr th:only-of-type {\n        vertical-align: middle;\n    }\n\n    .dataframe tbody tr th {\n        vertical-align: top;\n    }\n\n    .dataframe thead th {\n        text-align: right;\n    }\n</style>\n<table border=\"1\" class=\"dataframe\">\n  <thead>\n    <tr style=\"text-align: right;\">\n      <th></th>\n      <th>Density_Feed Properties</th>\n      <th>Density_Vent Gas Production Rate and Composition</th>\n      <th>Density_Distillate Production Rate and Composition</th>\n      <th>Density_Sidedraw Production Rate and Composition</th>\n      <th>Density_Bottoms Production Rate and Composition</th>\n      <th>Tatoray Stripper C620 Operation_Yield Summary_Reflux Rate_m3/hr</th>\n      <th>Tatoray Stripper C620 Operation_Heat Duty_Condenser Heat Duty_Mkcal/hr</th>\n      <th>Tatoray Stripper C620 Operation_Heat Duty_Reboiler Heat Duty_Mkcal/hr</th>\n      <th>Tatoray Stripper C620 Operation_Column Temp Profile_C620 Tray 14 (Control)_oC</th>\n      <th>Tatoray Stripper C620 Operation_Column Temp Profile_C620 Tray 34 (Control)_oC</th>\n    </tr>\n  </thead>\n  <tbody>\n    <tr>\n      <th>0</th>\n      <td>0.858564</td>\n      <td>0.450769</td>\n      <td>0.793369</td>\n      <td>0.882788</td>\n      <td>0.876063</td>\n      <td>114.955109</td>\n      <td>12.008997</td>\n      <td>13.683111</td>\n      <td>176.448822</td>\n      <td>193.894043</td>\n    </tr>\n    <tr>\n      <th>1</th>\n      <td>0.857896</td>\n      <td>0.458221</td>\n      <td>0.779735</td>\n      <td>0.877358</td>\n      <td>0.875578</td>\n      <td>104.124573</td>\n      <td>10.500270</td>\n      <td>12.045412</td>\n      <td>177.690964</td>\n      <td>194.013779</td>\n    </tr>\n    <tr>\n      <th>2</th>\n      <td>0.862302</td>\n      <td>0.451794</td>\n      <td>0.763688</td>\n      <td>0.881063</td>\n      <td>0.873262</td>\n      <td>143.472870</td>\n      <td>14.363647</td>\n      <td>16.391787</td>\n      <td>175.469650</td>\n      <td>192.157700</td>\n    </tr>\n    <tr>\n      <th>3</th>\n      <td>0.860319</td>\n      <td>0.449724</td>\n      <td>0.801924</td>\n      <td>0.885162</td>\n      <td>0.880900</td>\n      <td>132.118790</td>\n      <td>13.735847</td>\n      <td>15.254994</td>\n      <td>175.383408</td>\n      <td>191.930298</td>\n    </tr>\n    <tr>\n      <th>4</th>\n      <td>0.860176</td>\n      <td>0.452232</td>\n      <td>0.761698</td>\n      <td>0.879457</td>\n      <td>0.872352</td>\n      <td>130.336243</td>\n      <td>13.094616</td>\n      <td>15.464966</td>\n      <td>176.664200</td>\n      <td>194.313385</td>\n    </tr>\n  </tbody>\n</table>\n</div>"
          },
          "metadata": {},
          "execution_count": 16
        }
      ]
    },
    {
      "cell_type": "code",
      "metadata": {
        "id": "N-9BGdTrJooB"
      },
      "source": [],
      "execution_count": 17,
      "outputs": []
    }
  ]
}