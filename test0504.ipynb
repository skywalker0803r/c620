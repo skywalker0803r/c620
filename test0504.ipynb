{
 "cells": [
  {
   "cell_type": "code",
   "execution_count": 1,
   "metadata": {},
   "outputs": [
    {
     "output_type": "error",
     "ename": "SyntaxError",
     "evalue": "invalid syntax (<ipython-input-1-9ba11587b6a3>, line 3)",
     "traceback": [
      "\u001b[1;36m  File \u001b[1;32m\"<ipython-input-1-9ba11587b6a3>\"\u001b[1;36m, line \u001b[1;32m3\u001b[0m\n\u001b[1;33m    icg_input =\u001b[0m\n\u001b[1;37m                ^\u001b[0m\n\u001b[1;31mSyntaxError\u001b[0m\u001b[1;31m:\u001b[0m invalid syntax\n"
     ]
    }
   ],
   "source": [
    "import pandas as pd\n",
    "\n",
    "icg_input = \n",
    "{'Simulation Case Conditions_Feed Rate_Feed from V615 Btm_m3/hr': 182.93967491075398,\n",
    " 'Simulation Case Conditions_Feed Rate_Feed from V615 Btm    NA_wt%': 1.809999942779541,\n",
    " 'Simulation Case Conditions_Feed Rate_Feed from V615 Btm    Benzene_wt%': 12.09000015258789,\n",
    " 'Simulation Case Conditions_Feed Rate_Feed from V615 Btm    Toluene_wt%': 37.790000915527344,\n",
    " 'Simulation Case Conditions_Feed Rate_Feed from C820 Dist_m3/hr': 19.9332693441716,\n",
    " 'Simulation Case Conditions_Feed Rate_Feed from C820 Dist    NA_wt%': 1.7599999904632568,\n",
    " 'Simulation Case Conditions_Feed Rate_Feed from C820 Dist    Benzene_wt%': 65.20999908447266,\n",
    " 'Simulation Case Conditions_Feed Rate_Feed from C820 Dist    Toluene_wt%': 19.920000076293945,\n",
    " 'Simulation Case Conditions_Feed Rate_Feed from T651_m3/hr': 110.90358153974705,\n",
    " 'Simulation Case Conditions_Feed Rate_Feed from T651    NA_wt%': 0.5410000085830688,\n",
    " 'Simulation Case Conditions_Feed Rate_Feed from T651    Benzene_wt%': 45.66400146484375,\n",
    " 'Simulation Case Conditions_Feed Rate_Feed from T651    Toluene_wt%': 39.53499984741211,\n",
    " 'Simulation Case Conditions_Spec 1 : Benzene in C620 Sidedraw_wt%': 82.69000244140625,\n",
    " 'Simulation Case Conditions_Spec 2 : NA in Benzene_ppmw': 605.0,\n",
    " 'Tatoray Stripper C620 Operation_Specifications_Spec 2 : Distillate Rate_m3/hr': 0.0,\n",
    " 'Benzene Column C660 Operation_Specifications_Spec 3 : Toluene in Benzene_ppmw': 61.0,\n",
    " 'Tatoray Stripper C620 Operation_Specifications_Spec 1 : Receiver Temp_oC': 42.801425532101646}\n",
    "\n",
    "c620_feed = {'Combined Feed to Tatoray Stripper C620_Detailed Composition_Hydrogen_wt%': 0,\n",
    " 'Combined Feed to Tatoray Stripper C620_Detailed Composition_Methane_wt%': 0.030973966443205107,\n",
    " 'Combined Feed to Tatoray Stripper C620_Detailed Composition_Ethane_wt%': 0.7466356121572599,\n",
    " 'Combined Feed to Tatoray Stripper C620_Detailed Composition_Propane_wt%': 0.6763446938048822,\n",
    " 'Combined Feed to Tatoray Stripper C620_Detailed Composition_n-Butane_wt%': 0.18827000731731583,\n",
    " 'Combined Feed to Tatoray Stripper C620_Detailed Composition_n-Pentane_wt%': 0.0770359030895559,\n",
    " 'Combined Feed to Tatoray Stripper C620_Detailed Composition_n-Hexane_wt%': 0.016363458891067162,\n",
    " 'Combined Feed to Tatoray Stripper C620_Detailed Composition_Benzene_wt%': 17.366523760419838,\n",
    " 'Combined Feed to Tatoray Stripper C620_Detailed Composition_Cyclohexane_wt%': 0.006748228785526583,\n",
    " 'Combined Feed to Tatoray Stripper C620_Detailed Composition_n-Heptane_wt%': 0.014921217002063367,\n",
    " 'Combined Feed to Tatoray Stripper C620_Detailed Composition_Water_wt%': 0,\n",
    " 'Combined Feed to Tatoray Stripper C620_Detailed Composition_Methylcyclohexane_wt%': 0.01080415904003997,\n",
    " 'Combined Feed to Tatoray Stripper C620_Detailed Composition_Toluene_wt%': 36.014935343310356,\n",
    " 'Combined Feed to Tatoray Stripper C620_Detailed Composition_n-Octane_wt%': 0.0071503253193792035,\n",
    " 'Combined Feed to Tatoray Stripper C620_Detailed Composition_n-Propylcyclopentane_wt%': 0.008444027210905026,\n",
    " 'Combined Feed to Tatoray Stripper C620_Detailed Composition_Ethylcyclohexane_wt%': 0.008444027210905026,\n",
    " 'Combined Feed to Tatoray Stripper C620_Detailed Composition_Ethylbenzene_wt%': 1.0890734861156985,\n",
    " 'Combined Feed to Tatoray Stripper C620_Detailed Composition_p-Xylene_wt%': 7.4294242524137095,\n",
    " 'Combined Feed to Tatoray Stripper C620_Detailed Composition_m-Xylene_wt%': 15.951377631361463,\n",
    " 'Combined Feed to Tatoray Stripper C620_Detailed Composition_o-Xylene_wt%': 6.677521268936787,\n",
    " 'Combined Feed to Tatoray Stripper C620_Detailed Composition_n-Nonane_wt%': 0.01223772059551453,\n",
    " 'Combined Feed to Tatoray Stripper C620_Detailed Composition_i-Propylbenzene_wt%': 0.010762980656873422,\n",
    " 'Combined Feed to Tatoray Stripper C620_Detailed Composition_n-Propylcyclohexane_wt%': 0.0022902019971605763,\n",
    " 'Combined Feed to Tatoray Stripper C620_Detailed Composition_n-Propylbenzene_wt%': 0.010762980656873422,\n",
    " 'Combined Feed to Tatoray Stripper C620_Detailed Composition_1-Methyl-3-ethylbenzene_wt%': 0.8395124912361268,\n",
    " 'Combined Feed to Tatoray Stripper C620_Detailed Composition_1-Methyl-4-ethylbenzene_wt%': 0.4412822069318103,\n",
    " 'Combined Feed to Tatoray Stripper C620_Detailed Composition_1,3,5-Trimethylbenzene_wt%': 2.3140408412277855,\n",
    " 'Combined Feed to Tatoray Stripper C620_Detailed Composition_1-Methyl-2-ethylbenzene_wt%': 0.24754855510808868,\n",
    " 'Combined Feed to Tatoray Stripper C620_Detailed Composition_1,2,4-Trimethylbenzene_wt%': 5.908876380623509,\n",
    " 'Combined Feed to Tatoray Stripper C620_Detailed Composition_tert-Butylcyclohexane_wt%': 0.0,\n",
    " 'Combined Feed to Tatoray Stripper C620_Detailed Composition_1,2,3-Trimethylbenzene_wt%': 0.947142297804861,\n",
    " 'Combined Feed to Tatoray Stripper C620_Detailed Composition_Indane_wt%': 0.032288941970620266,\n",
    " 'Combined Feed to Tatoray Stripper C620_Detailed Composition_1-Methyl-4-n-propylbenzene_wt%': 0.0006556862149859743,\n",
    " 'Combined Feed to Tatoray Stripper C620_Detailed Composition_1,2-Diethylbenzene_wt%': 0.019506664895832734,\n",
    " 'Combined Feed to Tatoray Stripper C620_Detailed Composition_5-Ethyl-m-xylene_wt%': 0.752563853250152,\n",
    " 'Combined Feed to Tatoray Stripper C620_Detailed Composition_1,4-Diethylbenzene_wt%': 0.0,\n",
    " 'Combined Feed to Tatoray Stripper C620_Detailed Composition_1,2,3,5-Tetramethylbenzene_wt%': 0.8664893331039648,\n",
    " 'Combined Feed to Tatoray Stripper C620_Detailed Composition_n-Pentylbenzene_wt%': 0.8385217970554317,\n",
    " 'Combined Feed to Tatoray Stripper C620_Detailed Composition_n-Hexylbenzene_wt%': 0.3593664844523279,\n",
    " 'Combined Feed to Tatoray Stripper C620_Detailed Composition_Nitrogen_wt%': 0,\n",
    " 'Combined Feed to Tatoray Stripper C620_Detailed Composition_Oxygen_wt%': 0}\n",
    "\n",
    "t651_feed = \n",
    "{'Extract Feed from T651_Detailed Composition_Hydrogen_wt%': 0,\n",
    " 'Extract Feed from T651_Detailed Composition_Methane_wt%': 0.0,\n",
    " 'Extract Feed from T651_Detailed Composition_Ethane_wt%': 0.0,\n",
    " 'Extract Feed from T651_Detailed Composition_Propane_wt%': 0.0,\n",
    " 'Extract Feed from T651_Detailed Composition_n-Butane_wt%': 0.0,\n",
    " 'Extract Feed from T651_Detailed Composition_n-Pentane_wt%': 0.0,\n",
    " 'Extract Feed from T651_Detailed Composition_n-Hexane_wt%': 0.005410000085830689,\n",
    " 'Extract Feed from T651_Detailed Composition_Benzene_wt%': 45.66400146484375,\n",
    " 'Extract Feed from T651_Detailed Composition_Cyclohexane_wt%': 0.0,\n",
    " 'Extract Feed from T651_Detailed Composition_n-Heptane_wt%': 0.005410000085830689,\n",
    " 'Extract Feed from T651_Detailed Composition_Water_wt%': 0,\n",
    " 'Extract Feed from T651_Detailed Composition_Methylcyclohexane_wt%': 0.0,\n",
    " 'Extract Feed from T651_Detailed Composition_Toluene_wt%': 39.53499984741211,\n",
    " 'Extract Feed from T651_Detailed Composition_n-Octane_wt%': 0.06492000102996826,\n",
    " 'Extract Feed from T651_Detailed Composition_n-Propylcyclopentane_wt%': 0.059510000944137574,\n",
    " 'Extract Feed from T651_Detailed Composition_Ethylcyclohexane_wt%': 0.04869000077247619,\n",
    " 'Extract Feed from T651_Detailed Composition_Ethylbenzene_wt%': 7.992000102996826,\n",
    " 'Extract Feed from T651_Detailed Composition_p-Xylene_wt%': 1.565999984741211,\n",
    " 'Extract Feed from T651_Detailed Composition_m-Xylene_wt%': 3.628999948501587,\n",
    " 'Extract Feed from T651_Detailed Composition_o-Xylene_wt%': 1.0579999685287476,\n",
    " 'Extract Feed from T651_Detailed Composition_n-Nonane_wt%': 0.10279000163078308,\n",
    " 'Extract Feed from T651_Detailed Composition_i-Propylbenzene_wt%': 0.0,\n",
    " 'Extract Feed from T651_Detailed Composition_n-Propylcyclohexane_wt%': 0.22722000360488892,\n",
    " 'Extract Feed from T651_Detailed Composition_n-Propylbenzene_wt%': 0.0,\n",
    " 'Extract Feed from T651_Detailed Composition_1-Methyl-3-ethylbenzene_wt%': 0.002199999988079071,\n",
    " 'Extract Feed from T651_Detailed Composition_1-Methyl-4-ethylbenzene_wt%': 0.002199999988079071,\n",
    " 'Extract Feed from T651_Detailed Composition_1,3,5-Trimethylbenzene_wt%': 0.004399999976158142,\n",
    " 'Extract Feed from T651_Detailed Composition_1-Methyl-2-ethylbenzene_wt%': 0.0010999999940395355,\n",
    " 'Extract Feed from T651_Detailed Composition_1,2,4-Trimethylbenzene_wt%': 0.0010999999940395355,\n",
    " 'Extract Feed from T651_Detailed Composition_tert-Butylcyclohexane_wt%': 0.016230000257492064,\n",
    " 'Extract Feed from T651_Detailed Composition_1,2,3-Trimethylbenzene_wt%': 0.0,\n",
    " 'Extract Feed from T651_Detailed Composition_Indane_wt%': 0.0,\n",
    " 'Extract Feed from T651_Detailed Composition_1-Methyl-4-n-propylbenzene_wt%': 0.0,\n",
    " 'Extract Feed from T651_Detailed Composition_1,2-Diethylbenzene_wt%': 0.0,\n",
    " 'Extract Feed from T651_Detailed Composition_5-Ethyl-m-xylene_wt%': 0.0,\n",
    " 'Extract Feed from T651_Detailed Composition_1,4-Diethylbenzene_wt%': 0.0,\n",
    " 'Extract Feed from T651_Detailed Composition_1,2,3,5-Tetramethylbenzene_wt%': 0.0,\n",
    " 'Extract Feed from T651_Detailed Composition_n-Pentylbenzene_wt%': 0.0,\n",
    " 'Extract Feed from T651_Detailed Composition_n-Hexylbenzene_wt%': 0.0,\n",
    " 'Extract Feed from T651_Detailed Composition_Nitrogen_wt%': 0,\n",
    " 'Extract Feed from T651_Detailed Composition_Oxygen_wt%': 0}"
   ]
  },
  {
   "cell_type": "code",
   "execution_count": 10,
   "metadata": {},
   "outputs": [
    {
     "output_type": "execute_result",
     "data": {
      "text/plain": [
       "   Simulation Case Conditions_Feed Rate_Feed from V615 Btm_m3/hr  \\\n",
       "0                                         187.123293               \n",
       "\n",
       "   Simulation Case Conditions_Feed Rate_Feed from V615 Btm    NA_wt%  \\\n",
       "0                                                1.7                   \n",
       "\n",
       "   Simulation Case Conditions_Feed Rate_Feed from V615 Btm    Benzene_wt%  \\\n",
       "0                                              12.19                        \n",
       "\n",
       "   Simulation Case Conditions_Feed Rate_Feed from V615 Btm    Toluene_wt%  \\\n",
       "0                                          37.939999                        \n",
       "\n",
       "   Simulation Case Conditions_Feed Rate_Feed from C820 Dist_m3/hr  \\\n",
       "0                                          19.822531                \n",
       "\n",
       "   Simulation Case Conditions_Feed Rate_Feed from C820 Dist    NA_wt%  \\\n",
       "0                                                1.8                    \n",
       "\n",
       "   Simulation Case Conditions_Feed Rate_Feed from C820 Dist    Benzene_wt%  \\\n",
       "0                                          65.860001                         \n",
       "\n",
       "   Simulation Case Conditions_Feed Rate_Feed from C820 Dist    Toluene_wt%  \\\n",
       "0                                              21.09                         \n",
       "\n",
       "   Simulation Case Conditions_Feed Rate_Feed from T651_m3/hr  \\\n",
       "0                                         111.640768           \n",
       "\n",
       "   Simulation Case Conditions_Feed Rate_Feed from T651    NA_wt%  \\\n",
       "0                                              0.631               \n",
       "\n",
       "   Simulation Case Conditions_Feed Rate_Feed from T651    Benzene_wt%  \\\n",
       "0                                          45.228001                    \n",
       "\n",
       "   Simulation Case Conditions_Feed Rate_Feed from T651    Toluene_wt%  \\\n",
       "0                                             39.473                    \n",
       "\n",
       "   Simulation Case Conditions_Spec 1 : Benzene in C620 Sidedraw_wt%  \\\n",
       "0                                          84.169998                  \n",
       "\n",
       "   Simulation Case Conditions_Spec 2 : NA in Benzene_ppmw  \\\n",
       "0                                              581.0        \n",
       "\n",
       "   Tatoray Stripper C620 Operation_Specifications_Spec 2 : Distillate Rate_m3/hr  \\\n",
       "0                                                0.0                               \n",
       "\n",
       "   Benzene Column C660 Operation_Specifications_Spec 3 : Toluene in Benzene_ppmw  \\\n",
       "0                                               78.0                               \n",
       "\n",
       "   Tatoray Stripper C620 Operation_Specifications_Spec 1 : Receiver Temp_oC  \n",
       "0                                          42.532123                         "
      ],
      "text/html": "<div>\n<style scoped>\n    .dataframe tbody tr th:only-of-type {\n        vertical-align: middle;\n    }\n\n    .dataframe tbody tr th {\n        vertical-align: top;\n    }\n\n    .dataframe thead th {\n        text-align: right;\n    }\n</style>\n<table border=\"1\" class=\"dataframe\">\n  <thead>\n    <tr style=\"text-align: right;\">\n      <th></th>\n      <th>Simulation Case Conditions_Feed Rate_Feed from V615 Btm_m3/hr</th>\n      <th>Simulation Case Conditions_Feed Rate_Feed from V615 Btm    NA_wt%</th>\n      <th>Simulation Case Conditions_Feed Rate_Feed from V615 Btm    Benzene_wt%</th>\n      <th>Simulation Case Conditions_Feed Rate_Feed from V615 Btm    Toluene_wt%</th>\n      <th>Simulation Case Conditions_Feed Rate_Feed from C820 Dist_m3/hr</th>\n      <th>Simulation Case Conditions_Feed Rate_Feed from C820 Dist    NA_wt%</th>\n      <th>Simulation Case Conditions_Feed Rate_Feed from C820 Dist    Benzene_wt%</th>\n      <th>Simulation Case Conditions_Feed Rate_Feed from C820 Dist    Toluene_wt%</th>\n      <th>Simulation Case Conditions_Feed Rate_Feed from T651_m3/hr</th>\n      <th>Simulation Case Conditions_Feed Rate_Feed from T651    NA_wt%</th>\n      <th>Simulation Case Conditions_Feed Rate_Feed from T651    Benzene_wt%</th>\n      <th>Simulation Case Conditions_Feed Rate_Feed from T651    Toluene_wt%</th>\n      <th>Simulation Case Conditions_Spec 1 : Benzene in C620 Sidedraw_wt%</th>\n      <th>Simulation Case Conditions_Spec 2 : NA in Benzene_ppmw</th>\n      <th>Tatoray Stripper C620 Operation_Specifications_Spec 2 : Distillate Rate_m3/hr</th>\n      <th>Benzene Column C660 Operation_Specifications_Spec 3 : Toluene in Benzene_ppmw</th>\n      <th>Tatoray Stripper C620 Operation_Specifications_Spec 1 : Receiver Temp_oC</th>\n    </tr>\n  </thead>\n  <tbody>\n    <tr>\n      <th>0</th>\n      <td>187.123293</td>\n      <td>1.7</td>\n      <td>12.19</td>\n      <td>37.939999</td>\n      <td>19.822531</td>\n      <td>1.8</td>\n      <td>65.860001</td>\n      <td>21.09</td>\n      <td>111.640768</td>\n      <td>0.631</td>\n      <td>45.228001</td>\n      <td>39.473</td>\n      <td>84.169998</td>\n      <td>581.0</td>\n      <td>0.0</td>\n      <td>78.0</td>\n      <td>42.532123</td>\n    </tr>\n  </tbody>\n</table>\n</div>"
     },
     "metadata": {},
     "execution_count": 10
    }
   ],
   "source": [
    "icg_input = pd.DataFrame(icg_input,index=[0])\n",
    "icg_input"
   ]
  },
  {
   "cell_type": "code",
   "execution_count": 11,
   "metadata": {},
   "outputs": [
    {
     "output_type": "execute_result",
     "data": {
      "text/plain": [
       "   Combined Feed to Tatoray Stripper C620_Detailed Composition_Hydrogen_wt%  \\\n",
       "0                                                  0                          \n",
       "\n",
       "   Combined Feed to Tatoray Stripper C620_Detailed Composition_Methane_wt%  \\\n",
       "0                                           0.029172                         \n",
       "\n",
       "   Combined Feed to Tatoray Stripper C620_Detailed Composition_Ethane_wt%  \\\n",
       "0                                           0.703201                        \n",
       "\n",
       "   Combined Feed to Tatoray Stripper C620_Detailed Composition_Propane_wt%  \\\n",
       "0                                           0.638069                         \n",
       "\n",
       "   Combined Feed to Tatoray Stripper C620_Detailed Composition_n-Butane_wt%  \\\n",
       "0                                           0.178982                          \n",
       "\n",
       "   Combined Feed to Tatoray Stripper C620_Detailed Composition_n-Pentane_wt%  \\\n",
       "0                                           0.075189                           \n",
       "\n",
       "   Combined Feed to Tatoray Stripper C620_Detailed Composition_n-Hexane_wt%  \\\n",
       "0                                           0.015955                          \n",
       "\n",
       "   Combined Feed to Tatoray Stripper C620_Detailed Composition_Benzene_wt%  \\\n",
       "0                                          17.387356                         \n",
       "\n",
       "   Combined Feed to Tatoray Stripper C620_Detailed Composition_Cyclohexane_wt%  \\\n",
       "0                                           0.006728                             \n",
       "\n",
       "   Combined Feed to Tatoray Stripper C620_Detailed Composition_n-Heptane_wt%  \\\n",
       "0                                           0.014697                           \n",
       "\n",
       "   ...  \\\n",
       "0  ...   \n",
       "\n",
       "   Combined Feed to Tatoray Stripper C620_Detailed Composition_Indane_wt%  \\\n",
       "0                                           0.032189                        \n",
       "\n",
       "   Combined Feed to Tatoray Stripper C620_Detailed Composition_1-Methyl-4-n-propylbenzene_wt%  \\\n",
       "0                                            0.00065                                            \n",
       "\n",
       "   Combined Feed to Tatoray Stripper C620_Detailed Composition_1,2-Diethylbenzene_wt%  \\\n",
       "0                                           0.019346                                    \n",
       "\n",
       "   Combined Feed to Tatoray Stripper C620_Detailed Composition_5-Ethyl-m-xylene_wt%  \\\n",
       "0                                           0.746354                                  \n",
       "\n",
       "   Combined Feed to Tatoray Stripper C620_Detailed Composition_1,4-Diethylbenzene_wt%  \\\n",
       "0                                                0.0                                    \n",
       "\n",
       "   Combined Feed to Tatoray Stripper C620_Detailed Composition_1,2,3,5-Tetramethylbenzene_wt%  \\\n",
       "0                                           0.859339                                            \n",
       "\n",
       "   Combined Feed to Tatoray Stripper C620_Detailed Composition_n-Pentylbenzene_wt%  \\\n",
       "0                                           0.828198                                 \n",
       "\n",
       "   Combined Feed to Tatoray Stripper C620_Detailed Composition_n-Hexylbenzene_wt%  \\\n",
       "0                                           0.354942                                \n",
       "\n",
       "   Combined Feed to Tatoray Stripper C620_Detailed Composition_Nitrogen_wt%  \\\n",
       "0                                                  0                          \n",
       "\n",
       "   Combined Feed to Tatoray Stripper C620_Detailed Composition_Oxygen_wt%  \n",
       "0                                                  0                       \n",
       "\n",
       "[1 rows x 41 columns]"
      ],
      "text/html": "<div>\n<style scoped>\n    .dataframe tbody tr th:only-of-type {\n        vertical-align: middle;\n    }\n\n    .dataframe tbody tr th {\n        vertical-align: top;\n    }\n\n    .dataframe thead th {\n        text-align: right;\n    }\n</style>\n<table border=\"1\" class=\"dataframe\">\n  <thead>\n    <tr style=\"text-align: right;\">\n      <th></th>\n      <th>Combined Feed to Tatoray Stripper C620_Detailed Composition_Hydrogen_wt%</th>\n      <th>Combined Feed to Tatoray Stripper C620_Detailed Composition_Methane_wt%</th>\n      <th>Combined Feed to Tatoray Stripper C620_Detailed Composition_Ethane_wt%</th>\n      <th>Combined Feed to Tatoray Stripper C620_Detailed Composition_Propane_wt%</th>\n      <th>Combined Feed to Tatoray Stripper C620_Detailed Composition_n-Butane_wt%</th>\n      <th>Combined Feed to Tatoray Stripper C620_Detailed Composition_n-Pentane_wt%</th>\n      <th>Combined Feed to Tatoray Stripper C620_Detailed Composition_n-Hexane_wt%</th>\n      <th>Combined Feed to Tatoray Stripper C620_Detailed Composition_Benzene_wt%</th>\n      <th>Combined Feed to Tatoray Stripper C620_Detailed Composition_Cyclohexane_wt%</th>\n      <th>Combined Feed to Tatoray Stripper C620_Detailed Composition_n-Heptane_wt%</th>\n      <th>...</th>\n      <th>Combined Feed to Tatoray Stripper C620_Detailed Composition_Indane_wt%</th>\n      <th>Combined Feed to Tatoray Stripper C620_Detailed Composition_1-Methyl-4-n-propylbenzene_wt%</th>\n      <th>Combined Feed to Tatoray Stripper C620_Detailed Composition_1,2-Diethylbenzene_wt%</th>\n      <th>Combined Feed to Tatoray Stripper C620_Detailed Composition_5-Ethyl-m-xylene_wt%</th>\n      <th>Combined Feed to Tatoray Stripper C620_Detailed Composition_1,4-Diethylbenzene_wt%</th>\n      <th>Combined Feed to Tatoray Stripper C620_Detailed Composition_1,2,3,5-Tetramethylbenzene_wt%</th>\n      <th>Combined Feed to Tatoray Stripper C620_Detailed Composition_n-Pentylbenzene_wt%</th>\n      <th>Combined Feed to Tatoray Stripper C620_Detailed Composition_n-Hexylbenzene_wt%</th>\n      <th>Combined Feed to Tatoray Stripper C620_Detailed Composition_Nitrogen_wt%</th>\n      <th>Combined Feed to Tatoray Stripper C620_Detailed Composition_Oxygen_wt%</th>\n    </tr>\n  </thead>\n  <tbody>\n    <tr>\n      <th>0</th>\n      <td>0</td>\n      <td>0.029172</td>\n      <td>0.703201</td>\n      <td>0.638069</td>\n      <td>0.178982</td>\n      <td>0.075189</td>\n      <td>0.015955</td>\n      <td>17.387356</td>\n      <td>0.006728</td>\n      <td>0.014697</td>\n      <td>...</td>\n      <td>0.032189</td>\n      <td>0.00065</td>\n      <td>0.019346</td>\n      <td>0.746354</td>\n      <td>0.0</td>\n      <td>0.859339</td>\n      <td>0.828198</td>\n      <td>0.354942</td>\n      <td>0</td>\n      <td>0</td>\n    </tr>\n  </tbody>\n</table>\n<p>1 rows × 41 columns</p>\n</div>"
     },
     "metadata": {},
     "execution_count": 11
    }
   ],
   "source": [
    "c620_feed = pd.DataFrame(c620_feed,index=[0])\n",
    "c620_feed"
   ]
  },
  {
   "cell_type": "code",
   "execution_count": 12,
   "metadata": {},
   "outputs": [],
   "source": [
    "t651_feed = pd.DataFrame(t651_feed,index=[0])"
   ]
  },
  {
   "cell_type": "code",
   "execution_count": 13,
   "metadata": {},
   "outputs": [],
   "source": [
    "import joblib\n",
    "demo = joblib.load('./data/demo.pkl')"
   ]
  },
  {
   "source": [
    "# 檢查欄位是否一致"
   ],
   "cell_type": "markdown",
   "metadata": {}
  },
  {
   "cell_type": "code",
   "execution_count": 19,
   "metadata": {},
   "outputs": [
    {
     "output_type": "execute_result",
     "data": {
      "text/plain": [
       "array([ True,  True,  True,  True,  True,  True,  True,  True,  True,\n",
       "        True,  True,  True,  True,  True,  True,  True,  True])"
      ]
     },
     "metadata": {},
     "execution_count": 19
    }
   ],
   "source": [
    "demo['icg_input'].columns == icg_input.columns"
   ]
  },
  {
   "cell_type": "code",
   "execution_count": 22,
   "metadata": {},
   "outputs": [
    {
     "output_type": "execute_result",
     "data": {
      "text/plain": [
       "array([ True,  True,  True,  True,  True,  True,  True,  True,  True,\n",
       "        True,  True,  True,  True,  True,  True,  True,  True,  True,\n",
       "        True,  True,  True,  True,  True,  True,  True,  True,  True,\n",
       "        True,  True,  True,  True,  True,  True,  True,  True,  True,\n",
       "        True,  True,  True,  True,  True])"
      ]
     },
     "metadata": {},
     "execution_count": 22
    }
   ],
   "source": [
    "demo['c620_feed'].columns == c620_feed.columns"
   ]
  },
  {
   "cell_type": "code",
   "execution_count": 23,
   "metadata": {},
   "outputs": [
    {
     "output_type": "execute_result",
     "data": {
      "text/plain": [
       "array([ True,  True,  True,  True,  True,  True,  True,  True,  True,\n",
       "        True,  True,  True,  True,  True,  True,  True,  True,  True,\n",
       "        True,  True,  True,  True,  True,  True,  True,  True,  True,\n",
       "        True,  True,  True,  True,  True,  True,  True,  True,  True,\n",
       "        True,  True,  True,  True,  True])"
      ]
     },
     "metadata": {},
     "execution_count": 23
    }
   ],
   "source": [
    "demo['t651_feed'].columns == t651_feed.columns"
   ]
  },
  {
   "source": [
    "# 觀察這組樣本的三項spec"
   ],
   "cell_type": "markdown",
   "metadata": {}
  },
  {
   "cell_type": "code",
   "execution_count": 24,
   "metadata": {},
   "outputs": [
    {
     "output_type": "stream",
     "name": "stdout",
     "text": [
      "84.16999816894531\n581.0\n78.0\n"
     ]
    }
   ],
   "source": [
    "print(icg_input['Simulation Case Conditions_Spec 1 : Benzene in C620 Sidedraw_wt%'].values[0])\n",
    "print(icg_input['Simulation Case Conditions_Spec 2 : NA in Benzene_ppmw'].values[0])\n",
    "print(icg_input['Benzene Column C660 Operation_Specifications_Spec 3 : Toluene in Benzene_ppmw'].values[0])"
   ]
  },
  {
   "cell_type": "markdown",
   "metadata": {},
   "source": [
    "## 試算模式"
   ]
  },
  {
   "cell_type": "code",
   "execution_count": 25,
   "metadata": {},
   "outputs": [],
   "source": [
    "import autorch\n",
    "from FV2 import AllSystem\n",
    "from configV2 import config"
   ]
  },
  {
   "cell_type": "code",
   "execution_count": 26,
   "metadata": {
    "tags": []
   },
   "outputs": [],
   "source": [
    "f = joblib.load('model/allsystem.pkl')"
   ]
  },
  {
   "cell_type": "code",
   "execution_count": 27,
   "metadata": {},
   "outputs": [],
   "source": [
    "c620_wt,c620_op,c660_wt,c660_op,c670_wt,c670_op = f.inference(icg_input.copy(),c620_feed.copy(),t651_feed.copy())"
   ]
  },
  {
   "cell_type": "code",
   "execution_count": 28,
   "metadata": {},
   "outputs": [
    {
     "output_type": "execute_result",
     "data": {
      "text/plain": [
       "   Density_Feed Properties  Density_Vent Gas Production Rate and Composition  \\\n",
       "0                 0.862174                                          0.459569   \n",
       "\n",
       "   Density_Distillate Production Rate and Composition  \\\n",
       "0                                           0.772331    \n",
       "\n",
       "   Density_Sidedraw Production Rate and Composition  \\\n",
       "0                                          0.879218   \n",
       "\n",
       "   Density_Bottoms Production Rate and Composition  \\\n",
       "0                                         0.871962   \n",
       "\n",
       "   Tatoray Stripper C620 Operation_Yield Summary_Reflux Rate_m3/hr  \\\n",
       "0                                         144.209747                 \n",
       "\n",
       "   Tatoray Stripper C620 Operation_Heat Duty_Condenser Heat Duty_Mkcal/hr  \\\n",
       "0                                          12.334527                        \n",
       "\n",
       "   Tatoray Stripper C620 Operation_Heat Duty_Reboiler Heat Duty_Mkcal/hr  \\\n",
       "0                                          15.737365                       \n",
       "\n",
       "   Tatoray Stripper C620 Operation_Column Temp Profile_C620 Tray 14 (Control)_oC  \\\n",
       "0                                         177.804886                               \n",
       "\n",
       "   Tatoray Stripper C620 Operation_Column Temp Profile_C620 Tray 34 (Control)_oC  \n",
       "0                                           194.1586                              "
      ],
      "text/html": "<div>\n<style scoped>\n    .dataframe tbody tr th:only-of-type {\n        vertical-align: middle;\n    }\n\n    .dataframe tbody tr th {\n        vertical-align: top;\n    }\n\n    .dataframe thead th {\n        text-align: right;\n    }\n</style>\n<table border=\"1\" class=\"dataframe\">\n  <thead>\n    <tr style=\"text-align: right;\">\n      <th></th>\n      <th>Density_Feed Properties</th>\n      <th>Density_Vent Gas Production Rate and Composition</th>\n      <th>Density_Distillate Production Rate and Composition</th>\n      <th>Density_Sidedraw Production Rate and Composition</th>\n      <th>Density_Bottoms Production Rate and Composition</th>\n      <th>Tatoray Stripper C620 Operation_Yield Summary_Reflux Rate_m3/hr</th>\n      <th>Tatoray Stripper C620 Operation_Heat Duty_Condenser Heat Duty_Mkcal/hr</th>\n      <th>Tatoray Stripper C620 Operation_Heat Duty_Reboiler Heat Duty_Mkcal/hr</th>\n      <th>Tatoray Stripper C620 Operation_Column Temp Profile_C620 Tray 14 (Control)_oC</th>\n      <th>Tatoray Stripper C620 Operation_Column Temp Profile_C620 Tray 34 (Control)_oC</th>\n    </tr>\n  </thead>\n  <tbody>\n    <tr>\n      <th>0</th>\n      <td>0.862174</td>\n      <td>0.459569</td>\n      <td>0.772331</td>\n      <td>0.879218</td>\n      <td>0.871962</td>\n      <td>144.209747</td>\n      <td>12.334527</td>\n      <td>15.737365</td>\n      <td>177.804886</td>\n      <td>194.1586</td>\n    </tr>\n  </tbody>\n</table>\n</div>"
     },
     "metadata": {},
     "execution_count": 28
    }
   ],
   "source": [
    "c620_op"
   ]
  },
  {
   "cell_type": "code",
   "execution_count": 29,
   "metadata": {},
   "outputs": [
    {
     "output_type": "execute_result",
     "data": {
      "text/plain": [
       "   Density_Feed Properties  Density_Vent Gas Production Rate and Composition  \\\n",
       "0                 0.877367                                          0.524465   \n",
       "\n",
       "   Density_Distillate (Benzene Drag) Production Rate and Composition  \\\n",
       "0                                           0.872755                   \n",
       "\n",
       "   Density_Sidedraw (Benzene )Production Rate and Composition  \\\n",
       "0                                           0.883747            \n",
       "\n",
       "   Density_Bottoms Production Rate and Composition  \\\n",
       "0                                         0.869896   \n",
       "\n",
       "   Benzene Column C660 Operation_Yield Summary_Reflux Rate_m3/hr  \\\n",
       "0                                         114.986145               \n",
       "\n",
       "   Benzene Column C660 Operation_Heat Duty_Condenser Heat Duty_Mkcal/hr  \\\n",
       "0                                          11.658577                      \n",
       "\n",
       "   Benzene Column C660 Operation_Heat Duty_Reboiler Heat Duty_Mkcal/hr  \\\n",
       "0                                           12.36982                     \n",
       "\n",
       "   Benzene Column C660 Operation_Column Temp Profile_C660 Tray 6 (SD & Control)_oC  \\\n",
       "0                                           86.59024                                 \n",
       "\n",
       "   Benzene Column C660 Operation_Column Temp Profile_C660 Tray 23 (Control)_oC  \n",
       "0                                          91.595406                            "
      ],
      "text/html": "<div>\n<style scoped>\n    .dataframe tbody tr th:only-of-type {\n        vertical-align: middle;\n    }\n\n    .dataframe tbody tr th {\n        vertical-align: top;\n    }\n\n    .dataframe thead th {\n        text-align: right;\n    }\n</style>\n<table border=\"1\" class=\"dataframe\">\n  <thead>\n    <tr style=\"text-align: right;\">\n      <th></th>\n      <th>Density_Feed Properties</th>\n      <th>Density_Vent Gas Production Rate and Composition</th>\n      <th>Density_Distillate (Benzene Drag) Production Rate and Composition</th>\n      <th>Density_Sidedraw (Benzene )Production Rate and Composition</th>\n      <th>Density_Bottoms Production Rate and Composition</th>\n      <th>Benzene Column C660 Operation_Yield Summary_Reflux Rate_m3/hr</th>\n      <th>Benzene Column C660 Operation_Heat Duty_Condenser Heat Duty_Mkcal/hr</th>\n      <th>Benzene Column C660 Operation_Heat Duty_Reboiler Heat Duty_Mkcal/hr</th>\n      <th>Benzene Column C660 Operation_Column Temp Profile_C660 Tray 6 (SD &amp; Control)_oC</th>\n      <th>Benzene Column C660 Operation_Column Temp Profile_C660 Tray 23 (Control)_oC</th>\n    </tr>\n  </thead>\n  <tbody>\n    <tr>\n      <th>0</th>\n      <td>0.877367</td>\n      <td>0.524465</td>\n      <td>0.872755</td>\n      <td>0.883747</td>\n      <td>0.869896</td>\n      <td>114.986145</td>\n      <td>11.658577</td>\n      <td>12.36982</td>\n      <td>86.59024</td>\n      <td>91.595406</td>\n    </tr>\n  </tbody>\n</table>\n</div>"
     },
     "metadata": {},
     "execution_count": 29
    }
   ],
   "source": [
    "c660_op"
   ]
  },
  {
   "cell_type": "code",
   "execution_count": 30,
   "metadata": {},
   "outputs": [
    {
     "output_type": "execute_result",
     "data": {
      "text/plain": [
       "   Density_Distillate Production Rate and Composition  \\\n",
       "0                                           0.870859    \n",
       "\n",
       "   Density_Bottoms Production Rate and Composition  \\\n",
       "0                                         0.872044   \n",
       "\n",
       "   Toluene Column C670 Operation_Yield \\nSummary_Reflux Rate_m3/hr  \\\n",
       "0                                         288.983063                 \n",
       "\n",
       "   Toluene Column C670 Operation_Heat Duty_Condenser Heat Duty_Mkcal/hr  \\\n",
       "0                                          34.756851                      \n",
       "\n",
       "   Toluene Column C670 Operation_Heat Duty_Reboiler Heat Duty_Mkcal/hr  \\\n",
       "0                                          35.353905                     \n",
       "\n",
       "   Toluene Column C670 Operation_Column Temp Profile_C670 Tray 24 (Control)_oC  \\\n",
       "0                                          181.05838                             \n",
       "\n",
       "   Toluene Column C670 Operation_Column Temp Profile_C670 Btm Temp (Control)_oC  \n",
       "0                                         225.594391                             "
      ],
      "text/html": "<div>\n<style scoped>\n    .dataframe tbody tr th:only-of-type {\n        vertical-align: middle;\n    }\n\n    .dataframe tbody tr th {\n        vertical-align: top;\n    }\n\n    .dataframe thead th {\n        text-align: right;\n    }\n</style>\n<table border=\"1\" class=\"dataframe\">\n  <thead>\n    <tr style=\"text-align: right;\">\n      <th></th>\n      <th>Density_Distillate Production Rate and Composition</th>\n      <th>Density_Bottoms Production Rate and Composition</th>\n      <th>Toluene Column C670 Operation_Yield \\nSummary_Reflux Rate_m3/hr</th>\n      <th>Toluene Column C670 Operation_Heat Duty_Condenser Heat Duty_Mkcal/hr</th>\n      <th>Toluene Column C670 Operation_Heat Duty_Reboiler Heat Duty_Mkcal/hr</th>\n      <th>Toluene Column C670 Operation_Column Temp Profile_C670 Tray 24 (Control)_oC</th>\n      <th>Toluene Column C670 Operation_Column Temp Profile_C670 Btm Temp (Control)_oC</th>\n    </tr>\n  </thead>\n  <tbody>\n    <tr>\n      <th>0</th>\n      <td>0.870859</td>\n      <td>0.872044</td>\n      <td>288.983063</td>\n      <td>34.756851</td>\n      <td>35.353905</td>\n      <td>181.05838</td>\n      <td>225.594391</td>\n    </tr>\n  </tbody>\n</table>\n</div>"
     },
     "metadata": {},
     "execution_count": 30
    }
   ],
   "source": [
    "c670_op"
   ]
  },
  {
   "cell_type": "markdown",
   "metadata": {},
   "source": [
    "## 推薦模式 "
   ]
  },
  {
   "cell_type": "code",
   "execution_count": 31,
   "metadata": {
    "tags": []
   },
   "outputs": [
    {
     "output_type": "stream",
     "name": "stderr",
     "text": [
      "\u001b[32m[I 2021-05-05 13:08:53,663]\u001b[0m A new study created in memory with name: no-name-e0b33429-7175-4d9e-abaf-4bbd6c02f8a1\u001b[0m\n",
      "系統已經自動設定推薦值[70,980,10]\n"
     ]
    },
    {
     "output_type": "display_data",
     "data": {
      "text/plain": "HBox(children=(HTML(value=''), FloatProgress(value=0.0), HTML(value='')))",
      "application/vnd.jupyter.widget-view+json": {
       "version_major": 2,
       "version_minor": 0,
       "model_id": "bc42836ce4fe4aec935fb8ad00bb585b"
      }
     },
     "metadata": {}
    },
    {
     "output_type": "stream",
     "name": "stdout",
     "text": [
      "epoch:0\n",
      "   output_bzinside  output_nainbz  output_tol  output_dist_rate  max_loss\n",
      "0        91.702467     679.173587    24.73133           1.03956  1.473133\n",
      "epoch:10\n",
      "    output_bzinside  output_nainbz  output_tol  output_dist_rate  max_loss\n",
      "10        93.057022     677.214351   25.598849          0.508097  1.559885\n",
      "epoch:20\n",
      "    output_bzinside  output_nainbz  output_tol  output_dist_rate  max_loss\n",
      "20        91.262024     636.540441    7.017488               0.0  0.350469\n",
      "epoch:30\n",
      "    output_bzinside  output_nainbz  output_tol  output_dist_rate  max_loss\n",
      "30        91.437448     686.205335   26.699869          0.634883  1.669987\n",
      "epoch:40\n",
      "    output_bzinside  output_nainbz  output_tol  output_dist_rate  max_loss\n",
      "40        92.612274     657.934031   17.864395          0.740985  0.786439\n",
      "epoch:50\n",
      "    output_bzinside  output_nainbz  output_tol  output_dist_rate  max_loss\n",
      "50        92.591056     638.204245    8.277856          0.309096  0.348771\n",
      "epoch:60\n",
      "    output_bzinside  output_nainbz  output_tol  output_dist_rate  max_loss\n",
      "60        93.067197     662.004036   20.648011          0.168389  1.064801\n",
      "epoch:70\n",
      "    output_bzinside  output_nainbz  output_tol  output_dist_rate  max_loss\n",
      "70        91.621117      640.13412    8.636696          0.206266  0.346802\n",
      "epoch:80\n",
      "    output_bzinside  output_nainbz  output_tol  output_dist_rate  max_loss\n",
      "80        92.474758     637.502012    7.085016          0.518418  0.518418\n",
      "epoch:90\n",
      "    output_bzinside  output_nainbz  output_tol  output_dist_rate  max_loss\n",
      "90         91.92226     650.146397   14.782598          0.313582   0.47826\n",
      "\n",
      "bzinside_loss: 0.32271005586769375\n",
      "nainbz_loss: 0.34006039844892233\n",
      "tol_loss: 0.31788518109053765\n",
      "distrate_loss: 0.055354215324414716\n"
     ]
    }
   ],
   "source": [
    "c620_wt2,c620_op2,c660_wt2,c660_op2,c670_wt2,c670_op2,bz_error,nainbz_error,tol_error = f.recommend(icg_input.copy(),c620_feed.copy(),t651_feed.copy(),\n",
    "search_iteration = 100,only_tune_temp=True)"
   ]
  },
  {
   "cell_type": "code",
   "execution_count": 32,
   "metadata": {},
   "outputs": [
    {
     "output_type": "execute_result",
     "data": {
      "text/plain": [
       "(0.32271005586769375, 0.34006039844892233, 0.31788518109053765)"
      ]
     },
     "metadata": {},
     "execution_count": 32
    }
   ],
   "source": [
    "bz_error,nainbz_error,tol_error "
   ]
  },
  {
   "cell_type": "markdown",
   "metadata": {},
   "source": [
    "## 計算Delta"
   ]
  },
  {
   "cell_type": "code",
   "execution_count": 34,
   "metadata": {},
   "outputs": [
    {
     "output_type": "execute_result",
     "data": {
      "text/plain": [
       "   Density_Feed Properties  Density_Vent Gas Production Rate and Composition  \\\n",
       "0                      0.0                                               0.0   \n",
       "\n",
       "   Density_Distillate Production Rate and Composition  \\\n",
       "0                                                0.0    \n",
       "\n",
       "   Density_Sidedraw Production Rate and Composition  \\\n",
       "0                                               0.0   \n",
       "\n",
       "   Density_Bottoms Production Rate and Composition  \\\n",
       "0                                              0.0   \n",
       "\n",
       "   Tatoray Stripper C620 Operation_Yield Summary_Reflux Rate_m3/hr  \\\n",
       "0                                                0.0                 \n",
       "\n",
       "   Tatoray Stripper C620 Operation_Heat Duty_Condenser Heat Duty_Mkcal/hr  \\\n",
       "0                                                0.0                        \n",
       "\n",
       "   Tatoray Stripper C620 Operation_Heat Duty_Reboiler Heat Duty_Mkcal/hr  \\\n",
       "0                                                0.0                       \n",
       "\n",
       "   Tatoray Stripper C620 Operation_Column Temp Profile_C620 Tray 14 (Control)_oC  \\\n",
       "0                                           0.278217                               \n",
       "\n",
       "   Tatoray Stripper C620 Operation_Column Temp Profile_C620 Tray 34 (Control)_oC  \n",
       "0                                           0.322232                              "
      ],
      "text/html": "<div>\n<style scoped>\n    .dataframe tbody tr th:only-of-type {\n        vertical-align: middle;\n    }\n\n    .dataframe tbody tr th {\n        vertical-align: top;\n    }\n\n    .dataframe thead th {\n        text-align: right;\n    }\n</style>\n<table border=\"1\" class=\"dataframe\">\n  <thead>\n    <tr style=\"text-align: right;\">\n      <th></th>\n      <th>Density_Feed Properties</th>\n      <th>Density_Vent Gas Production Rate and Composition</th>\n      <th>Density_Distillate Production Rate and Composition</th>\n      <th>Density_Sidedraw Production Rate and Composition</th>\n      <th>Density_Bottoms Production Rate and Composition</th>\n      <th>Tatoray Stripper C620 Operation_Yield Summary_Reflux Rate_m3/hr</th>\n      <th>Tatoray Stripper C620 Operation_Heat Duty_Condenser Heat Duty_Mkcal/hr</th>\n      <th>Tatoray Stripper C620 Operation_Heat Duty_Reboiler Heat Duty_Mkcal/hr</th>\n      <th>Tatoray Stripper C620 Operation_Column Temp Profile_C620 Tray 14 (Control)_oC</th>\n      <th>Tatoray Stripper C620 Operation_Column Temp Profile_C620 Tray 34 (Control)_oC</th>\n    </tr>\n  </thead>\n  <tbody>\n    <tr>\n      <th>0</th>\n      <td>0.0</td>\n      <td>0.0</td>\n      <td>0.0</td>\n      <td>0.0</td>\n      <td>0.0</td>\n      <td>0.0</td>\n      <td>0.0</td>\n      <td>0.0</td>\n      <td>0.278217</td>\n      <td>0.322232</td>\n    </tr>\n  </tbody>\n</table>\n</div>"
     },
     "metadata": {},
     "execution_count": 34
    }
   ],
   "source": [
    "c620_op2-c620_op # 苯從84降到70 c620溫度應該上升 確實有上升"
   ]
  },
  {
   "cell_type": "code",
   "execution_count": 35,
   "metadata": {},
   "outputs": [
    {
     "output_type": "execute_result",
     "data": {
      "text/plain": [
       "   Density_Feed Properties  Density_Vent Gas Production Rate and Composition  \\\n",
       "0                      0.0                                               0.0   \n",
       "\n",
       "   Density_Distillate (Benzene Drag) Production Rate and Composition  \\\n",
       "0                                                0.0                   \n",
       "\n",
       "   Density_Sidedraw (Benzene )Production Rate and Composition  \\\n",
       "0                                                0.0            \n",
       "\n",
       "   Density_Bottoms Production Rate and Composition  \\\n",
       "0                                              0.0   \n",
       "\n",
       "   Benzene Column C660 Operation_Yield Summary_Reflux Rate_m3/hr  \\\n",
       "0                                                0.0               \n",
       "\n",
       "   Benzene Column C660 Operation_Heat Duty_Condenser Heat Duty_Mkcal/hr  \\\n",
       "0                                                0.0                      \n",
       "\n",
       "   Benzene Column C660 Operation_Heat Duty_Reboiler Heat Duty_Mkcal/hr  \\\n",
       "0                                                0.0                     \n",
       "\n",
       "   Benzene Column C660 Operation_Column Temp Profile_C660 Tray 6 (SD & Control)_oC  \\\n",
       "0                                          -0.123953                                 \n",
       "\n",
       "   Benzene Column C660 Operation_Column Temp Profile_C660 Tray 23 (Control)_oC  \n",
       "0                                          -2.279679                            "
      ],
      "text/html": "<div>\n<style scoped>\n    .dataframe tbody tr th:only-of-type {\n        vertical-align: middle;\n    }\n\n    .dataframe tbody tr th {\n        vertical-align: top;\n    }\n\n    .dataframe thead th {\n        text-align: right;\n    }\n</style>\n<table border=\"1\" class=\"dataframe\">\n  <thead>\n    <tr style=\"text-align: right;\">\n      <th></th>\n      <th>Density_Feed Properties</th>\n      <th>Density_Vent Gas Production Rate and Composition</th>\n      <th>Density_Distillate (Benzene Drag) Production Rate and Composition</th>\n      <th>Density_Sidedraw (Benzene )Production Rate and Composition</th>\n      <th>Density_Bottoms Production Rate and Composition</th>\n      <th>Benzene Column C660 Operation_Yield Summary_Reflux Rate_m3/hr</th>\n      <th>Benzene Column C660 Operation_Heat Duty_Condenser Heat Duty_Mkcal/hr</th>\n      <th>Benzene Column C660 Operation_Heat Duty_Reboiler Heat Duty_Mkcal/hr</th>\n      <th>Benzene Column C660 Operation_Column Temp Profile_C660 Tray 6 (SD &amp; Control)_oC</th>\n      <th>Benzene Column C660 Operation_Column Temp Profile_C660 Tray 23 (Control)_oC</th>\n    </tr>\n  </thead>\n  <tbody>\n    <tr>\n      <th>0</th>\n      <td>0.0</td>\n      <td>0.0</td>\n      <td>0.0</td>\n      <td>0.0</td>\n      <td>0.0</td>\n      <td>0.0</td>\n      <td>0.0</td>\n      <td>0.0</td>\n      <td>-0.123953</td>\n      <td>-2.279679</td>\n    </tr>\n  </tbody>\n</table>\n</div>"
     },
     "metadata": {},
     "execution_count": 35
    }
   ],
   "source": [
    "c660_op2-c660_op"
   ]
  },
  {
   "cell_type": "code",
   "execution_count": 36,
   "metadata": {},
   "outputs": [
    {
     "output_type": "execute_result",
     "data": {
      "text/plain": [
       "   Density_Distillate Production Rate and Composition  \\\n",
       "0                                           0.000002    \n",
       "\n",
       "   Density_Bottoms Production Rate and Composition  \\\n",
       "0                                        -0.000005   \n",
       "\n",
       "   Toluene Column C670 Operation_Yield \\nSummary_Reflux Rate_m3/hr  \\\n",
       "0                                            6.37616                 \n",
       "\n",
       "   Toluene Column C670 Operation_Heat Duty_Condenser Heat Duty_Mkcal/hr  \\\n",
       "0                                           0.493996                      \n",
       "\n",
       "   Toluene Column C670 Operation_Heat Duty_Reboiler Heat Duty_Mkcal/hr  \\\n",
       "0                                           0.336166                     \n",
       "\n",
       "   Toluene Column C670 Operation_Column Temp Profile_C670 Tray 24 (Control)_oC  \\\n",
       "0                                           0.046539                             \n",
       "\n",
       "   Toluene Column C670 Operation_Column Temp Profile_C670 Btm Temp (Control)_oC  \n",
       "0                                           0.319489                             "
      ],
      "text/html": "<div>\n<style scoped>\n    .dataframe tbody tr th:only-of-type {\n        vertical-align: middle;\n    }\n\n    .dataframe tbody tr th {\n        vertical-align: top;\n    }\n\n    .dataframe thead th {\n        text-align: right;\n    }\n</style>\n<table border=\"1\" class=\"dataframe\">\n  <thead>\n    <tr style=\"text-align: right;\">\n      <th></th>\n      <th>Density_Distillate Production Rate and Composition</th>\n      <th>Density_Bottoms Production Rate and Composition</th>\n      <th>Toluene Column C670 Operation_Yield \\nSummary_Reflux Rate_m3/hr</th>\n      <th>Toluene Column C670 Operation_Heat Duty_Condenser Heat Duty_Mkcal/hr</th>\n      <th>Toluene Column C670 Operation_Heat Duty_Reboiler Heat Duty_Mkcal/hr</th>\n      <th>Toluene Column C670 Operation_Column Temp Profile_C670 Tray 24 (Control)_oC</th>\n      <th>Toluene Column C670 Operation_Column Temp Profile_C670 Btm Temp (Control)_oC</th>\n    </tr>\n  </thead>\n  <tbody>\n    <tr>\n      <th>0</th>\n      <td>0.000002</td>\n      <td>-0.000005</td>\n      <td>6.37616</td>\n      <td>0.493996</td>\n      <td>0.336166</td>\n      <td>0.046539</td>\n      <td>0.319489</td>\n    </tr>\n  </tbody>\n</table>\n</div>"
     },
     "metadata": {},
     "execution_count": 36
    }
   ],
   "source": [
    "c670_op2-c670_op"
   ]
  },
  {
   "cell_type": "code",
   "execution_count": null,
   "metadata": {},
   "outputs": [],
   "source": []
  }
 ],
 "metadata": {
  "kernelspec": {
   "name": "python385jvsc74a57bd02ccee5cc862501c1aad1cf19888c2a2eca4026b72d187db43d5e889cbdc6ee97",
   "display_name": "Python 3.8.5 64-bit ('base': conda)"
  },
  "language_info": {
   "codemirror_mode": {
    "name": "ipython",
    "version": 3
   },
   "file_extension": ".py",
   "mimetype": "text/x-python",
   "name": "python",
   "nbconvert_exporter": "python",
   "pygments_lexer": "ipython3",
   "version": "3.8.5"
  }
 },
 "nbformat": 4,
 "nbformat_minor": 2
}