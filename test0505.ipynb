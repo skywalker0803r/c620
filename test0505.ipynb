{
 "cells": [
  {
   "cell_type": "code",
   "execution_count": 1,
   "metadata": {},
   "outputs": [],
   "source": [
    "import pandas as pd\n",
    "\n",
    "\n",
    "icg_input = {'Simulation Case Conditions_Feed Rate_Feed from V615 Btm_m3/hr': 187.1232926305917,\n",
    " 'Simulation Case Conditions_Feed Rate_Feed from V615 Btm    NA_wt%': 1.7000000476837158,\n",
    " 'Simulation Case Conditions_Feed Rate_Feed from V615 Btm    Benzene_wt%': 12.1899995803833,\n",
    " 'Simulation Case Conditions_Feed Rate_Feed from V615 Btm    Toluene_wt%': 37.939998626708984,\n",
    " 'Simulation Case Conditions_Feed Rate_Feed from C820 Dist_m3/hr': 19.822531394221947,\n",
    " 'Simulation Case Conditions_Feed Rate_Feed from C820 Dist    NA_wt%': 1.7999999523162842,\n",
    " 'Simulation Case Conditions_Feed Rate_Feed from C820 Dist    Benzene_wt%': 65.86000061035156,\n",
    " 'Simulation Case Conditions_Feed Rate_Feed from C820 Dist    Toluene_wt%': 21.09000015258789,\n",
    " 'Simulation Case Conditions_Feed Rate_Feed from T651_m3/hr': 111.64076779533404,\n",
    " 'Simulation Case Conditions_Feed Rate_Feed from T651    NA_wt%': 0.6309999823570251,\n",
    " 'Simulation Case Conditions_Feed Rate_Feed from T651    Benzene_wt%': 45.22800064086914,\n",
    " 'Simulation Case Conditions_Feed Rate_Feed from T651    Toluene_wt%': 39.472999572753906,\n",
    " 'Simulation Case Conditions_Spec 1 : Benzene in C620 Sidedraw_wt%': 84.16999816894531,\n",
    " 'Simulation Case Conditions_Spec 2 : NA in Benzene_ppmw': 581.0,\n",
    " 'Tatoray Stripper C620 Operation_Specifications_Spec 2 : Distillate Rate_m3/hr': 0.0,\n",
    " 'Benzene Column C660 Operation_Specifications_Spec 3 : Toluene in Benzene_ppmw': 78.0,\n",
    " 'Tatoray Stripper C620 Operation_Specifications_Spec 1 : Receiver Temp_oC': 42.53212293562127}\n",
    "\n",
    "c620_feed = {'Combined Feed to Tatoray Stripper C620_Detailed Composition_Hydrogen_wt%': 0,\n",
    " 'Combined Feed to Tatoray Stripper C620_Detailed Composition_Methane_wt%': 0.029172096709995484,\n",
    " 'Combined Feed to Tatoray Stripper C620_Detailed Composition_Ethane_wt%': 0.7032010680619964,\n",
    " 'Combined Feed to Tatoray Stripper C620_Detailed Composition_Propane_wt%': 0.6380691218217772,\n",
    " 'Combined Feed to Tatoray Stripper C620_Detailed Composition_n-Butane_wt%': 0.17898235060804807,\n",
    " 'Combined Feed to Tatoray Stripper C620_Detailed Composition_n-Pentane_wt%': 0.07518861151571504,\n",
    " 'Combined Feed to Tatoray Stripper C620_Detailed Composition_n-Hexane_wt%': 0.01595517187498033,\n",
    " 'Combined Feed to Tatoray Stripper C620_Detailed Composition_Benzene_wt%': 17.38735613493265,\n",
    " 'Combined Feed to Tatoray Stripper C620_Detailed Composition_Cyclohexane_wt%': 0.006728383024293978,\n",
    " 'Combined Feed to Tatoray Stripper C620_Detailed Composition_n-Heptane_wt%': 0.014697253439731946,\n",
    " 'Combined Feed to Tatoray Stripper C620_Detailed Composition_Water_wt%': 0,\n",
    " 'Combined Feed to Tatoray Stripper C620_Detailed Composition_Methylcyclohexane_wt%': 0.010772385256512121,\n",
    " 'Combined Feed to Tatoray Stripper C620_Detailed Composition_Toluene_wt%': 36.30825932480885,\n",
    " 'Combined Feed to Tatoray Stripper C620_Detailed Composition_n-Octane_wt%': 0.007129297038694914,\n",
    " 'Combined Feed to Tatoray Stripper C620_Detailed Composition_n-Propylcyclopentane_wt%': 0.008419194302419667,\n",
    " 'Combined Feed to Tatoray Stripper C620_Detailed Composition_Ethylcyclohexane_wt%': 0.008419194302419667,\n",
    " 'Combined Feed to Tatoray Stripper C620_Detailed Composition_Ethylbenzene_wt%': 1.0677270301414559,\n",
    " 'Combined Feed to Tatoray Stripper C620_Detailed Composition_p-Xylene_wt%': 7.3803704127013585,\n",
    " 'Combined Feed to Tatoray Stripper C620_Detailed Composition_m-Xylene_wt%': 15.860599450151232,\n",
    " 'Combined Feed to Tatoray Stripper C620_Detailed Composition_o-Xylene_wt%': 6.689557000313015,\n",
    " 'Combined Feed to Tatoray Stripper C620_Detailed Composition_n-Nonane_wt%': 0.012201730873071984,\n",
    " 'Combined Feed to Tatoray Stripper C620_Detailed Composition_i-Propylbenzene_wt%': 0.010729551161992427,\n",
    " 'Combined Feed to Tatoray Stripper C620_Detailed Composition_n-Propylcyclohexane_wt%': 0.0022834667776748994,\n",
    " 'Combined Feed to Tatoray Stripper C620_Detailed Composition_n-Propylbenzene_wt%': 0.010729551161992427,\n",
    " 'Combined Feed to Tatoray Stripper C620_Detailed Composition_1-Methyl-3-ethylbenzene_wt%': 0.8369049906354091,\n",
    " 'Combined Feed to Tatoray Stripper C620_Detailed Composition_1-Methyl-4-ethylbenzene_wt%': 0.43991159764168947,\n",
    " 'Combined Feed to Tatoray Stripper C620_Detailed Composition_1,3,5-Trimethylbenzene_wt%': 2.3068534998283714,\n",
    " 'Combined Feed to Tatoray Stripper C620_Detailed Composition_1-Methyl-2-ethylbenzene_wt%': 0.24677967672582576,\n",
    " 'Combined Feed to Tatoray Stripper C620_Detailed Composition_1,2,4-Trimethylbenzene_wt%': 5.890523587933843,\n",
    " 'Combined Feed to Tatoray Stripper C620_Detailed Composition_tert-Butylcyclohexane_wt%': 0.0,\n",
    " 'Combined Feed to Tatoray Stripper C620_Detailed Composition_1,2,3-Trimethylbenzene_wt%': 0.9442005022553335,\n",
    " 'Combined Feed to Tatoray Stripper C620_Detailed Composition_Indane_wt%': 0.03218865348597728,\n",
    " 'Combined Feed to Tatoray Stripper C620_Detailed Composition_1-Methyl-4-n-propylbenzene_wt%': 0.0006502758045089595,\n",
    " 'Combined Feed to Tatoray Stripper C620_Detailed Composition_1,2-Diethylbenzene_wt%': 0.019345705184141547,\n",
    " 'Combined Feed to Tatoray Stripper C620_Detailed Composition_5-Ethyl-m-xylene_wt%': 0.7463540546251584,\n",
    " 'Combined Feed to Tatoray Stripper C620_Detailed Composition_1,4-Diethylbenzene_wt%': 0.0,\n",
    " 'Combined Feed to Tatoray Stripper C620_Detailed Composition_1,2,3,5-Tetramethylbenzene_wt%': 0.8593394756585899,\n",
    " 'Combined Feed to Tatoray Stripper C620_Detailed Composition_n-Pentylbenzene_wt%': 0.8281984756736002,\n",
    " 'Combined Feed to Tatoray Stripper C620_Detailed Composition_n-Hexylbenzene_wt%': 0.3549422038601144,\n",
    " 'Combined Feed to Tatoray Stripper C620_Detailed Composition_Nitrogen_wt%': 0,\n",
    " 'Combined Feed to Tatoray Stripper C620_Detailed Composition_Oxygen_wt%': 0}\n",
    "\n",
    "t651_feed = {'Extract Feed from T651_Detailed Composition_Hydrogen_wt%': 0,\n",
    " 'Extract Feed from T651_Detailed Composition_Methane_wt%': 0.0,\n",
    " 'Extract Feed from T651_Detailed Composition_Ethane_wt%': 0.0,\n",
    " 'Extract Feed from T651_Detailed Composition_Propane_wt%': 0.0,\n",
    " 'Extract Feed from T651_Detailed Composition_n-Butane_wt%': 0.0,\n",
    " 'Extract Feed from T651_Detailed Composition_n-Pentane_wt%': 0.0,\n",
    " 'Extract Feed from T651_Detailed Composition_n-Hexane_wt%': 0.006309999823570251,\n",
    " 'Extract Feed from T651_Detailed Composition_Benzene_wt%': 45.22800064086914,\n",
    " 'Extract Feed from T651_Detailed Composition_Cyclohexane_wt%': 0.0,\n",
    " 'Extract Feed from T651_Detailed Composition_n-Heptane_wt%': 0.006309999823570251,\n",
    " 'Extract Feed from T651_Detailed Composition_Water_wt%': 0,\n",
    " 'Extract Feed from T651_Detailed Composition_Methylcyclohexane_wt%': 0.0,\n",
    " 'Extract Feed from T651_Detailed Composition_Toluene_wt%': 39.472999572753906,\n",
    " 'Extract Feed from T651_Detailed Composition_n-Octane_wt%': 0.07571999788284302,\n",
    " 'Extract Feed from T651_Detailed Composition_n-Propylcyclopentane_wt%': 0.06940999805927277,\n",
    " 'Extract Feed from T651_Detailed Composition_Ethylcyclohexane_wt%': 0.05678999841213226,\n",
    " 'Extract Feed from T651_Detailed Composition_Ethylbenzene_wt%': 8.060999870300293,\n",
    " 'Extract Feed from T651_Detailed Composition_p-Xylene_wt%': 1.680999994277954,\n",
    " 'Extract Feed from T651_Detailed Composition_m-Xylene_wt%': 3.882999897003174,\n",
    " 'Extract Feed from T651_Detailed Composition_o-Xylene_wt%': 1.031000018119812,\n",
    " 'Extract Feed from T651_Detailed Composition_n-Nonane_wt%': 0.11988999664783478,\n",
    " 'Extract Feed from T651_Detailed Composition_i-Propylbenzene_wt%': 0.0,\n",
    " 'Extract Feed from T651_Detailed Composition_n-Propylcyclohexane_wt%': 0.26501999258995057,\n",
    " 'Extract Feed from T651_Detailed Composition_n-Propylbenzene_wt%': 0.0,\n",
    " 'Extract Feed from T651_Detailed Composition_1-Methyl-3-ethylbenzene_wt%': 0.001799999922513962,\n",
    " 'Extract Feed from T651_Detailed Composition_1-Methyl-4-ethylbenzene_wt%': 0.001799999922513962,\n",
    " 'Extract Feed from T651_Detailed Composition_1,3,5-Trimethylbenzene_wt%': 0.003599999845027924,\n",
    " 'Extract Feed from T651_Detailed Composition_1-Methyl-2-ethylbenzene_wt%': 0.000899999961256981,\n",
    " 'Extract Feed from T651_Detailed Composition_1,2,4-Trimethylbenzene_wt%': 0.000899999961256981,\n",
    " 'Extract Feed from T651_Detailed Composition_tert-Butylcyclohexane_wt%': 0.018929999470710755,\n",
    " 'Extract Feed from T651_Detailed Composition_1,2,3-Trimethylbenzene_wt%': 0.0,\n",
    " 'Extract Feed from T651_Detailed Composition_Indane_wt%': 0.0,\n",
    " 'Extract Feed from T651_Detailed Composition_1-Methyl-4-n-propylbenzene_wt%': 0.0,\n",
    " 'Extract Feed from T651_Detailed Composition_1,2-Diethylbenzene_wt%': 0.0,\n",
    " 'Extract Feed from T651_Detailed Composition_5-Ethyl-m-xylene_wt%': 0.0,\n",
    " 'Extract Feed from T651_Detailed Composition_1,4-Diethylbenzene_wt%': 0.0,\n",
    " 'Extract Feed from T651_Detailed Composition_1,2,3,5-Tetramethylbenzene_wt%': 0.0,\n",
    " 'Extract Feed from T651_Detailed Composition_n-Pentylbenzene_wt%': 0.0,\n",
    " 'Extract Feed from T651_Detailed Composition_n-Hexylbenzene_wt%': 0.0,\n",
    " 'Extract Feed from T651_Detailed Composition_Nitrogen_wt%': 0,\n",
    " 'Extract Feed from T651_Detailed Composition_Oxygen_wt%': 0}"
   ]
  },
  {
   "cell_type": "code",
   "execution_count": 2,
   "metadata": {},
   "outputs": [
    {
     "output_type": "execute_result",
     "data": {
      "text/plain": [
       "   Simulation Case Conditions_Feed Rate_Feed from V615 Btm_m3/hr  \\\n",
       "0                                         187.123293               \n",
       "\n",
       "   Simulation Case Conditions_Feed Rate_Feed from V615 Btm    NA_wt%  \\\n",
       "0                                                1.7                   \n",
       "\n",
       "   Simulation Case Conditions_Feed Rate_Feed from V615 Btm    Benzene_wt%  \\\n",
       "0                                              12.19                        \n",
       "\n",
       "   Simulation Case Conditions_Feed Rate_Feed from V615 Btm    Toluene_wt%  \\\n",
       "0                                          37.939999                        \n",
       "\n",
       "   Simulation Case Conditions_Feed Rate_Feed from C820 Dist_m3/hr  \\\n",
       "0                                          19.822531                \n",
       "\n",
       "   Simulation Case Conditions_Feed Rate_Feed from C820 Dist    NA_wt%  \\\n",
       "0                                                1.8                    \n",
       "\n",
       "   Simulation Case Conditions_Feed Rate_Feed from C820 Dist    Benzene_wt%  \\\n",
       "0                                          65.860001                         \n",
       "\n",
       "   Simulation Case Conditions_Feed Rate_Feed from C820 Dist    Toluene_wt%  \\\n",
       "0                                              21.09                         \n",
       "\n",
       "   Simulation Case Conditions_Feed Rate_Feed from T651_m3/hr  \\\n",
       "0                                         111.640768           \n",
       "\n",
       "   Simulation Case Conditions_Feed Rate_Feed from T651    NA_wt%  \\\n",
       "0                                              0.631               \n",
       "\n",
       "   Simulation Case Conditions_Feed Rate_Feed from T651    Benzene_wt%  \\\n",
       "0                                          45.228001                    \n",
       "\n",
       "   Simulation Case Conditions_Feed Rate_Feed from T651    Toluene_wt%  \\\n",
       "0                                             39.473                    \n",
       "\n",
       "   Simulation Case Conditions_Spec 1 : Benzene in C620 Sidedraw_wt%  \\\n",
       "0                                          84.169998                  \n",
       "\n",
       "   Simulation Case Conditions_Spec 2 : NA in Benzene_ppmw  \\\n",
       "0                                              581.0        \n",
       "\n",
       "   Tatoray Stripper C620 Operation_Specifications_Spec 2 : Distillate Rate_m3/hr  \\\n",
       "0                                                0.0                               \n",
       "\n",
       "   Benzene Column C660 Operation_Specifications_Spec 3 : Toluene in Benzene_ppmw  \\\n",
       "0                                               78.0                               \n",
       "\n",
       "   Tatoray Stripper C620 Operation_Specifications_Spec 1 : Receiver Temp_oC  \n",
       "0                                          42.532123                         "
      ],
      "text/html": "<div>\n<style scoped>\n    .dataframe tbody tr th:only-of-type {\n        vertical-align: middle;\n    }\n\n    .dataframe tbody tr th {\n        vertical-align: top;\n    }\n\n    .dataframe thead th {\n        text-align: right;\n    }\n</style>\n<table border=\"1\" class=\"dataframe\">\n  <thead>\n    <tr style=\"text-align: right;\">\n      <th></th>\n      <th>Simulation Case Conditions_Feed Rate_Feed from V615 Btm_m3/hr</th>\n      <th>Simulation Case Conditions_Feed Rate_Feed from V615 Btm    NA_wt%</th>\n      <th>Simulation Case Conditions_Feed Rate_Feed from V615 Btm    Benzene_wt%</th>\n      <th>Simulation Case Conditions_Feed Rate_Feed from V615 Btm    Toluene_wt%</th>\n      <th>Simulation Case Conditions_Feed Rate_Feed from C820 Dist_m3/hr</th>\n      <th>Simulation Case Conditions_Feed Rate_Feed from C820 Dist    NA_wt%</th>\n      <th>Simulation Case Conditions_Feed Rate_Feed from C820 Dist    Benzene_wt%</th>\n      <th>Simulation Case Conditions_Feed Rate_Feed from C820 Dist    Toluene_wt%</th>\n      <th>Simulation Case Conditions_Feed Rate_Feed from T651_m3/hr</th>\n      <th>Simulation Case Conditions_Feed Rate_Feed from T651    NA_wt%</th>\n      <th>Simulation Case Conditions_Feed Rate_Feed from T651    Benzene_wt%</th>\n      <th>Simulation Case Conditions_Feed Rate_Feed from T651    Toluene_wt%</th>\n      <th>Simulation Case Conditions_Spec 1 : Benzene in C620 Sidedraw_wt%</th>\n      <th>Simulation Case Conditions_Spec 2 : NA in Benzene_ppmw</th>\n      <th>Tatoray Stripper C620 Operation_Specifications_Spec 2 : Distillate Rate_m3/hr</th>\n      <th>Benzene Column C660 Operation_Specifications_Spec 3 : Toluene in Benzene_ppmw</th>\n      <th>Tatoray Stripper C620 Operation_Specifications_Spec 1 : Receiver Temp_oC</th>\n    </tr>\n  </thead>\n  <tbody>\n    <tr>\n      <th>0</th>\n      <td>187.123293</td>\n      <td>1.7</td>\n      <td>12.19</td>\n      <td>37.939999</td>\n      <td>19.822531</td>\n      <td>1.8</td>\n      <td>65.860001</td>\n      <td>21.09</td>\n      <td>111.640768</td>\n      <td>0.631</td>\n      <td>45.228001</td>\n      <td>39.473</td>\n      <td>84.169998</td>\n      <td>581.0</td>\n      <td>0.0</td>\n      <td>78.0</td>\n      <td>42.532123</td>\n    </tr>\n  </tbody>\n</table>\n</div>"
     },
     "metadata": {},
     "execution_count": 2
    }
   ],
   "source": [
    "icg_input = pd.DataFrame(icg_input,index=[0])\n",
    "icg_input"
   ]
  },
  {
   "cell_type": "code",
   "execution_count": 3,
   "metadata": {},
   "outputs": [
    {
     "output_type": "execute_result",
     "data": {
      "text/plain": [
       "   Combined Feed to Tatoray Stripper C620_Detailed Composition_Hydrogen_wt%  \\\n",
       "0                                                  0                          \n",
       "\n",
       "   Combined Feed to Tatoray Stripper C620_Detailed Composition_Methane_wt%  \\\n",
       "0                                           0.029172                         \n",
       "\n",
       "   Combined Feed to Tatoray Stripper C620_Detailed Composition_Ethane_wt%  \\\n",
       "0                                           0.703201                        \n",
       "\n",
       "   Combined Feed to Tatoray Stripper C620_Detailed Composition_Propane_wt%  \\\n",
       "0                                           0.638069                         \n",
       "\n",
       "   Combined Feed to Tatoray Stripper C620_Detailed Composition_n-Butane_wt%  \\\n",
       "0                                           0.178982                          \n",
       "\n",
       "   Combined Feed to Tatoray Stripper C620_Detailed Composition_n-Pentane_wt%  \\\n",
       "0                                           0.075189                           \n",
       "\n",
       "   Combined Feed to Tatoray Stripper C620_Detailed Composition_n-Hexane_wt%  \\\n",
       "0                                           0.015955                          \n",
       "\n",
       "   Combined Feed to Tatoray Stripper C620_Detailed Composition_Benzene_wt%  \\\n",
       "0                                          17.387356                         \n",
       "\n",
       "   Combined Feed to Tatoray Stripper C620_Detailed Composition_Cyclohexane_wt%  \\\n",
       "0                                           0.006728                             \n",
       "\n",
       "   Combined Feed to Tatoray Stripper C620_Detailed Composition_n-Heptane_wt%  \\\n",
       "0                                           0.014697                           \n",
       "\n",
       "   ...  \\\n",
       "0  ...   \n",
       "\n",
       "   Combined Feed to Tatoray Stripper C620_Detailed Composition_Indane_wt%  \\\n",
       "0                                           0.032189                        \n",
       "\n",
       "   Combined Feed to Tatoray Stripper C620_Detailed Composition_1-Methyl-4-n-propylbenzene_wt%  \\\n",
       "0                                            0.00065                                            \n",
       "\n",
       "   Combined Feed to Tatoray Stripper C620_Detailed Composition_1,2-Diethylbenzene_wt%  \\\n",
       "0                                           0.019346                                    \n",
       "\n",
       "   Combined Feed to Tatoray Stripper C620_Detailed Composition_5-Ethyl-m-xylene_wt%  \\\n",
       "0                                           0.746354                                  \n",
       "\n",
       "   Combined Feed to Tatoray Stripper C620_Detailed Composition_1,4-Diethylbenzene_wt%  \\\n",
       "0                                                0.0                                    \n",
       "\n",
       "   Combined Feed to Tatoray Stripper C620_Detailed Composition_1,2,3,5-Tetramethylbenzene_wt%  \\\n",
       "0                                           0.859339                                            \n",
       "\n",
       "   Combined Feed to Tatoray Stripper C620_Detailed Composition_n-Pentylbenzene_wt%  \\\n",
       "0                                           0.828198                                 \n",
       "\n",
       "   Combined Feed to Tatoray Stripper C620_Detailed Composition_n-Hexylbenzene_wt%  \\\n",
       "0                                           0.354942                                \n",
       "\n",
       "   Combined Feed to Tatoray Stripper C620_Detailed Composition_Nitrogen_wt%  \\\n",
       "0                                                  0                          \n",
       "\n",
       "   Combined Feed to Tatoray Stripper C620_Detailed Composition_Oxygen_wt%  \n",
       "0                                                  0                       \n",
       "\n",
       "[1 rows x 41 columns]"
      ],
      "text/html": "<div>\n<style scoped>\n    .dataframe tbody tr th:only-of-type {\n        vertical-align: middle;\n    }\n\n    .dataframe tbody tr th {\n        vertical-align: top;\n    }\n\n    .dataframe thead th {\n        text-align: right;\n    }\n</style>\n<table border=\"1\" class=\"dataframe\">\n  <thead>\n    <tr style=\"text-align: right;\">\n      <th></th>\n      <th>Combined Feed to Tatoray Stripper C620_Detailed Composition_Hydrogen_wt%</th>\n      <th>Combined Feed to Tatoray Stripper C620_Detailed Composition_Methane_wt%</th>\n      <th>Combined Feed to Tatoray Stripper C620_Detailed Composition_Ethane_wt%</th>\n      <th>Combined Feed to Tatoray Stripper C620_Detailed Composition_Propane_wt%</th>\n      <th>Combined Feed to Tatoray Stripper C620_Detailed Composition_n-Butane_wt%</th>\n      <th>Combined Feed to Tatoray Stripper C620_Detailed Composition_n-Pentane_wt%</th>\n      <th>Combined Feed to Tatoray Stripper C620_Detailed Composition_n-Hexane_wt%</th>\n      <th>Combined Feed to Tatoray Stripper C620_Detailed Composition_Benzene_wt%</th>\n      <th>Combined Feed to Tatoray Stripper C620_Detailed Composition_Cyclohexane_wt%</th>\n      <th>Combined Feed to Tatoray Stripper C620_Detailed Composition_n-Heptane_wt%</th>\n      <th>...</th>\n      <th>Combined Feed to Tatoray Stripper C620_Detailed Composition_Indane_wt%</th>\n      <th>Combined Feed to Tatoray Stripper C620_Detailed Composition_1-Methyl-4-n-propylbenzene_wt%</th>\n      <th>Combined Feed to Tatoray Stripper C620_Detailed Composition_1,2-Diethylbenzene_wt%</th>\n      <th>Combined Feed to Tatoray Stripper C620_Detailed Composition_5-Ethyl-m-xylene_wt%</th>\n      <th>Combined Feed to Tatoray Stripper C620_Detailed Composition_1,4-Diethylbenzene_wt%</th>\n      <th>Combined Feed to Tatoray Stripper C620_Detailed Composition_1,2,3,5-Tetramethylbenzene_wt%</th>\n      <th>Combined Feed to Tatoray Stripper C620_Detailed Composition_n-Pentylbenzene_wt%</th>\n      <th>Combined Feed to Tatoray Stripper C620_Detailed Composition_n-Hexylbenzene_wt%</th>\n      <th>Combined Feed to Tatoray Stripper C620_Detailed Composition_Nitrogen_wt%</th>\n      <th>Combined Feed to Tatoray Stripper C620_Detailed Composition_Oxygen_wt%</th>\n    </tr>\n  </thead>\n  <tbody>\n    <tr>\n      <th>0</th>\n      <td>0</td>\n      <td>0.029172</td>\n      <td>0.703201</td>\n      <td>0.638069</td>\n      <td>0.178982</td>\n      <td>0.075189</td>\n      <td>0.015955</td>\n      <td>17.387356</td>\n      <td>0.006728</td>\n      <td>0.014697</td>\n      <td>...</td>\n      <td>0.032189</td>\n      <td>0.00065</td>\n      <td>0.019346</td>\n      <td>0.746354</td>\n      <td>0.0</td>\n      <td>0.859339</td>\n      <td>0.828198</td>\n      <td>0.354942</td>\n      <td>0</td>\n      <td>0</td>\n    </tr>\n  </tbody>\n</table>\n<p>1 rows × 41 columns</p>\n</div>"
     },
     "metadata": {},
     "execution_count": 3
    }
   ],
   "source": [
    "c620_feed = pd.DataFrame(c620_feed,index=[0])\n",
    "c620_feed"
   ]
  },
  {
   "cell_type": "code",
   "execution_count": 4,
   "metadata": {},
   "outputs": [],
   "source": [
    "t651_feed = pd.DataFrame(t651_feed,index=[0])"
   ]
  },
  {
   "cell_type": "code",
   "execution_count": 5,
   "metadata": {},
   "outputs": [],
   "source": [
    "import joblib\n",
    "demo = joblib.load('./data/demo.pkl')"
   ]
  },
  {
   "source": [
    "# 檢查欄位是否一致"
   ],
   "cell_type": "markdown",
   "metadata": {}
  },
  {
   "cell_type": "code",
   "execution_count": 6,
   "metadata": {},
   "outputs": [
    {
     "output_type": "execute_result",
     "data": {
      "text/plain": [
       "array([ True,  True,  True,  True,  True,  True,  True,  True,  True,\n",
       "        True,  True,  True,  True,  True,  True,  True,  True])"
      ]
     },
     "metadata": {},
     "execution_count": 6
    }
   ],
   "source": [
    "demo['icg_input'].columns == icg_input.columns"
   ]
  },
  {
   "cell_type": "code",
   "execution_count": 7,
   "metadata": {},
   "outputs": [
    {
     "output_type": "execute_result",
     "data": {
      "text/plain": [
       "array([ True,  True,  True,  True,  True,  True,  True,  True,  True,\n",
       "        True,  True,  True,  True,  True,  True,  True,  True,  True,\n",
       "        True,  True,  True,  True,  True,  True,  True,  True,  True,\n",
       "        True,  True,  True,  True,  True,  True,  True,  True,  True,\n",
       "        True,  True,  True,  True,  True])"
      ]
     },
     "metadata": {},
     "execution_count": 7
    }
   ],
   "source": [
    "demo['c620_feed'].columns == c620_feed.columns"
   ]
  },
  {
   "cell_type": "code",
   "execution_count": 8,
   "metadata": {},
   "outputs": [
    {
     "output_type": "execute_result",
     "data": {
      "text/plain": [
       "array([ True,  True,  True,  True,  True,  True,  True,  True,  True,\n",
       "        True,  True,  True,  True,  True,  True,  True,  True,  True,\n",
       "        True,  True,  True,  True,  True,  True,  True,  True,  True,\n",
       "        True,  True,  True,  True,  True,  True,  True,  True,  True,\n",
       "        True,  True,  True,  True,  True])"
      ]
     },
     "metadata": {},
     "execution_count": 8
    }
   ],
   "source": [
    "demo['t651_feed'].columns == t651_feed.columns"
   ]
  },
  {
   "source": [
    "# 觀察這組樣本的三項spec"
   ],
   "cell_type": "markdown",
   "metadata": {}
  },
  {
   "cell_type": "code",
   "execution_count": 9,
   "metadata": {},
   "outputs": [
    {
     "output_type": "stream",
     "name": "stdout",
     "text": [
      "84.16999816894531\n581.0\n78.0\n"
     ]
    }
   ],
   "source": [
    "print(icg_input['Simulation Case Conditions_Spec 1 : Benzene in C620 Sidedraw_wt%'].values[0])\n",
    "print(icg_input['Simulation Case Conditions_Spec 2 : NA in Benzene_ppmw'].values[0])\n",
    "print(icg_input['Benzene Column C660 Operation_Specifications_Spec 3 : Toluene in Benzene_ppmw'].values[0])"
   ]
  },
  {
   "cell_type": "markdown",
   "metadata": {},
   "source": [
    "## 試算模式"
   ]
  },
  {
   "cell_type": "code",
   "execution_count": 10,
   "metadata": {},
   "outputs": [],
   "source": [
    "import autorch\n",
    "from FV2 import AllSystem\n",
    "from configV2 import config"
   ]
  },
  {
   "cell_type": "code",
   "execution_count": 11,
   "metadata": {
    "tags": []
   },
   "outputs": [],
   "source": [
    "f = joblib.load('model/allsystem.pkl')"
   ]
  },
  {
   "cell_type": "code",
   "execution_count": 12,
   "metadata": {},
   "outputs": [],
   "source": [
    "c620_wt,c620_op,c660_wt,c660_op,c670_wt,c670_op = f.inference(icg_input.copy(),c620_feed.copy(),t651_feed.copy())"
   ]
  },
  {
   "cell_type": "code",
   "execution_count": 13,
   "metadata": {},
   "outputs": [
    {
     "output_type": "execute_result",
     "data": {
      "text/plain": [
       "   Density_Feed Properties  Density_Vent Gas Production Rate and Composition  \\\n",
       "0                 0.862174                                          0.459569   \n",
       "\n",
       "   Density_Distillate Production Rate and Composition  \\\n",
       "0                                           0.772331    \n",
       "\n",
       "   Density_Sidedraw Production Rate and Composition  \\\n",
       "0                                          0.879218   \n",
       "\n",
       "   Density_Bottoms Production Rate and Composition  \\\n",
       "0                                         0.871962   \n",
       "\n",
       "   Tatoray Stripper C620 Operation_Yield Summary_Reflux Rate_m3/hr  \\\n",
       "0                                         144.209747                 \n",
       "\n",
       "   Tatoray Stripper C620 Operation_Heat Duty_Condenser Heat Duty_Mkcal/hr  \\\n",
       "0                                          12.334527                        \n",
       "\n",
       "   Tatoray Stripper C620 Operation_Heat Duty_Reboiler Heat Duty_Mkcal/hr  \\\n",
       "0                                          15.737365                       \n",
       "\n",
       "   Tatoray Stripper C620 Operation_Column Temp Profile_C620 Tray 14 (Control)_oC  \\\n",
       "0                                         177.804886                               \n",
       "\n",
       "   Tatoray Stripper C620 Operation_Column Temp Profile_C620 Tray 34 (Control)_oC  \n",
       "0                                           194.1586                              "
      ],
      "text/html": "<div>\n<style scoped>\n    .dataframe tbody tr th:only-of-type {\n        vertical-align: middle;\n    }\n\n    .dataframe tbody tr th {\n        vertical-align: top;\n    }\n\n    .dataframe thead th {\n        text-align: right;\n    }\n</style>\n<table border=\"1\" class=\"dataframe\">\n  <thead>\n    <tr style=\"text-align: right;\">\n      <th></th>\n      <th>Density_Feed Properties</th>\n      <th>Density_Vent Gas Production Rate and Composition</th>\n      <th>Density_Distillate Production Rate and Composition</th>\n      <th>Density_Sidedraw Production Rate and Composition</th>\n      <th>Density_Bottoms Production Rate and Composition</th>\n      <th>Tatoray Stripper C620 Operation_Yield Summary_Reflux Rate_m3/hr</th>\n      <th>Tatoray Stripper C620 Operation_Heat Duty_Condenser Heat Duty_Mkcal/hr</th>\n      <th>Tatoray Stripper C620 Operation_Heat Duty_Reboiler Heat Duty_Mkcal/hr</th>\n      <th>Tatoray Stripper C620 Operation_Column Temp Profile_C620 Tray 14 (Control)_oC</th>\n      <th>Tatoray Stripper C620 Operation_Column Temp Profile_C620 Tray 34 (Control)_oC</th>\n    </tr>\n  </thead>\n  <tbody>\n    <tr>\n      <th>0</th>\n      <td>0.862174</td>\n      <td>0.459569</td>\n      <td>0.772331</td>\n      <td>0.879218</td>\n      <td>0.871962</td>\n      <td>144.209747</td>\n      <td>12.334527</td>\n      <td>15.737365</td>\n      <td>177.804886</td>\n      <td>194.1586</td>\n    </tr>\n  </tbody>\n</table>\n</div>"
     },
     "metadata": {},
     "execution_count": 13
    }
   ],
   "source": [
    "c620_op"
   ]
  },
  {
   "cell_type": "code",
   "execution_count": 14,
   "metadata": {},
   "outputs": [
    {
     "output_type": "execute_result",
     "data": {
      "text/plain": [
       "   Density_Feed Properties  Density_Vent Gas Production Rate and Composition  \\\n",
       "0                 0.877367                                          0.524465   \n",
       "\n",
       "   Density_Distillate (Benzene Drag) Production Rate and Composition  \\\n",
       "0                                           0.872755                   \n",
       "\n",
       "   Density_Sidedraw (Benzene )Production Rate and Composition  \\\n",
       "0                                           0.883747            \n",
       "\n",
       "   Density_Bottoms Production Rate and Composition  \\\n",
       "0                                         0.869896   \n",
       "\n",
       "   Benzene Column C660 Operation_Yield Summary_Reflux Rate_m3/hr  \\\n",
       "0                                         114.986145               \n",
       "\n",
       "   Benzene Column C660 Operation_Heat Duty_Condenser Heat Duty_Mkcal/hr  \\\n",
       "0                                          11.658577                      \n",
       "\n",
       "   Benzene Column C660 Operation_Heat Duty_Reboiler Heat Duty_Mkcal/hr  \\\n",
       "0                                           12.36982                     \n",
       "\n",
       "   Benzene Column C660 Operation_Column Temp Profile_C660 Tray 6 (SD & Control)_oC  \\\n",
       "0                                           86.59024                                 \n",
       "\n",
       "   Benzene Column C660 Operation_Column Temp Profile_C660 Tray 23 (Control)_oC  \n",
       "0                                          91.595406                            "
      ],
      "text/html": "<div>\n<style scoped>\n    .dataframe tbody tr th:only-of-type {\n        vertical-align: middle;\n    }\n\n    .dataframe tbody tr th {\n        vertical-align: top;\n    }\n\n    .dataframe thead th {\n        text-align: right;\n    }\n</style>\n<table border=\"1\" class=\"dataframe\">\n  <thead>\n    <tr style=\"text-align: right;\">\n      <th></th>\n      <th>Density_Feed Properties</th>\n      <th>Density_Vent Gas Production Rate and Composition</th>\n      <th>Density_Distillate (Benzene Drag) Production Rate and Composition</th>\n      <th>Density_Sidedraw (Benzene )Production Rate and Composition</th>\n      <th>Density_Bottoms Production Rate and Composition</th>\n      <th>Benzene Column C660 Operation_Yield Summary_Reflux Rate_m3/hr</th>\n      <th>Benzene Column C660 Operation_Heat Duty_Condenser Heat Duty_Mkcal/hr</th>\n      <th>Benzene Column C660 Operation_Heat Duty_Reboiler Heat Duty_Mkcal/hr</th>\n      <th>Benzene Column C660 Operation_Column Temp Profile_C660 Tray 6 (SD &amp; Control)_oC</th>\n      <th>Benzene Column C660 Operation_Column Temp Profile_C660 Tray 23 (Control)_oC</th>\n    </tr>\n  </thead>\n  <tbody>\n    <tr>\n      <th>0</th>\n      <td>0.877367</td>\n      <td>0.524465</td>\n      <td>0.872755</td>\n      <td>0.883747</td>\n      <td>0.869896</td>\n      <td>114.986145</td>\n      <td>11.658577</td>\n      <td>12.36982</td>\n      <td>86.59024</td>\n      <td>91.595406</td>\n    </tr>\n  </tbody>\n</table>\n</div>"
     },
     "metadata": {},
     "execution_count": 14
    }
   ],
   "source": [
    "c660_op"
   ]
  },
  {
   "cell_type": "code",
   "execution_count": 15,
   "metadata": {},
   "outputs": [
    {
     "output_type": "execute_result",
     "data": {
      "text/plain": [
       "   Density_Distillate Production Rate and Composition  \\\n",
       "0                                           0.870859    \n",
       "\n",
       "   Density_Bottoms Production Rate and Composition  \\\n",
       "0                                         0.872044   \n",
       "\n",
       "   Toluene Column C670 Operation_Yield \\nSummary_Reflux Rate_m3/hr  \\\n",
       "0                                         288.983063                 \n",
       "\n",
       "   Toluene Column C670 Operation_Heat Duty_Condenser Heat Duty_Mkcal/hr  \\\n",
       "0                                          34.756851                      \n",
       "\n",
       "   Toluene Column C670 Operation_Heat Duty_Reboiler Heat Duty_Mkcal/hr  \\\n",
       "0                                          35.353905                     \n",
       "\n",
       "   Toluene Column C670 Operation_Column Temp Profile_C670 Tray 24 (Control)_oC  \\\n",
       "0                                          181.05838                             \n",
       "\n",
       "   Toluene Column C670 Operation_Column Temp Profile_C670 Btm Temp (Control)_oC  \n",
       "0                                         225.594391                             "
      ],
      "text/html": "<div>\n<style scoped>\n    .dataframe tbody tr th:only-of-type {\n        vertical-align: middle;\n    }\n\n    .dataframe tbody tr th {\n        vertical-align: top;\n    }\n\n    .dataframe thead th {\n        text-align: right;\n    }\n</style>\n<table border=\"1\" class=\"dataframe\">\n  <thead>\n    <tr style=\"text-align: right;\">\n      <th></th>\n      <th>Density_Distillate Production Rate and Composition</th>\n      <th>Density_Bottoms Production Rate and Composition</th>\n      <th>Toluene Column C670 Operation_Yield \\nSummary_Reflux Rate_m3/hr</th>\n      <th>Toluene Column C670 Operation_Heat Duty_Condenser Heat Duty_Mkcal/hr</th>\n      <th>Toluene Column C670 Operation_Heat Duty_Reboiler Heat Duty_Mkcal/hr</th>\n      <th>Toluene Column C670 Operation_Column Temp Profile_C670 Tray 24 (Control)_oC</th>\n      <th>Toluene Column C670 Operation_Column Temp Profile_C670 Btm Temp (Control)_oC</th>\n    </tr>\n  </thead>\n  <tbody>\n    <tr>\n      <th>0</th>\n      <td>0.870859</td>\n      <td>0.872044</td>\n      <td>288.983063</td>\n      <td>34.756851</td>\n      <td>35.353905</td>\n      <td>181.05838</td>\n      <td>225.594391</td>\n    </tr>\n  </tbody>\n</table>\n</div>"
     },
     "metadata": {},
     "execution_count": 15
    }
   ],
   "source": [
    "c670_op"
   ]
  },
  {
   "cell_type": "markdown",
   "metadata": {},
   "source": [
    "## 推薦模式 "
   ]
  },
  {
   "cell_type": "code",
   "execution_count": 16,
   "metadata": {
    "tags": []
   },
   "outputs": [
    {
     "output_type": "stream",
     "name": "stderr",
     "text": [
      "\u001b[32m[I 2021-05-05 13:12:08,624]\u001b[0m A new study created in memory with name: no-name-8fa0b494-7684-46df-a614-3ce5177499cb\u001b[0m\n",
      "系統已經自動設定推薦值[70,980,10]\n"
     ]
    },
    {
     "output_type": "display_data",
     "data": {
      "text/plain": "HBox(children=(HTML(value=''), FloatProgress(value=0.0), HTML(value='')))",
      "application/vnd.jupyter.widget-view+json": {
       "version_major": 2,
       "version_minor": 0,
       "model_id": "9b67b98a59b14f77a021c2496e836ddd"
      }
     },
     "metadata": {}
    },
    {
     "output_type": "stream",
     "name": "stdout",
     "text": [
      "epoch:0\n",
      "   output_bzinside  output_nainbz  output_tol  output_dist_rate  max_loss\n",
      "0         93.18269     663.147273   17.816427          7.614738  7.614738\n",
      "epoch:10\n",
      "    output_bzinside  output_nainbz  output_tol  output_dist_rate  max_loss\n",
      "10        93.158789     684.544511   26.237596          0.559336   1.62376\n",
      "epoch:20\n",
      "    output_bzinside  output_nainbz  output_tol  output_dist_rate  max_loss\n",
      "20        93.142034     695.699801   27.044751          0.174648  1.704475\n",
      "epoch:30\n",
      "    output_bzinside  output_nainbz  output_tol  output_dist_rate  max_loss\n",
      "30        93.130264     647.804429   12.575875               0.0  0.338975\n",
      "epoch:40\n",
      "    output_bzinside  output_nainbz  output_tol  output_dist_rate  max_loss\n",
      "40        92.946455     664.767995   20.455742          0.240049  1.045574\n",
      "epoch:50\n",
      "    output_bzinside  output_nainbz  output_tol  output_dist_rate  max_loss\n",
      "50         93.15218     640.682524    7.688718          0.392684  0.392684\n",
      "epoch:60\n",
      "    output_bzinside  output_nainbz  output_tol  output_dist_rate  max_loss\n",
      "60        93.128632     655.455101   15.423853          0.537863  0.542385\n",
      "epoch:70\n",
      "    output_bzinside  output_nainbz  output_tol  output_dist_rate  max_loss\n",
      "70        92.892584     653.024253   14.380095          0.257313  0.438009\n",
      "epoch:80\n",
      "    output_bzinside  output_nainbz  output_tol  output_dist_rate  max_loss\n",
      "80        92.422372     647.436166   11.791535          0.084027  0.339351\n",
      "epoch:90\n",
      "    output_bzinside  output_nainbz  output_tol  output_dist_rate  max_loss\n",
      "90        92.529336     643.367834    9.213615          0.201958  0.343502\n",
      "\n",
      "bzinside_loss: 0.3131294203460446\n",
      "nainbz_loss: 0.3365339883078152\n",
      "tol_loss: 0.3010168519034927\n",
      "distrate_loss: 0.04626804767436052\n"
     ]
    }
   ],
   "source": [
    "c620_wt2,c620_op2,c660_wt2,c660_op2,c670_wt2,c670_op2,bz_error,nainbz_error,tol_error = f.recommend(icg_input.copy(),c620_feed.copy(),t651_feed.copy(),\n",
    "search_iteration = 100,only_tune_temp=True)"
   ]
  },
  {
   "cell_type": "code",
   "execution_count": 17,
   "metadata": {},
   "outputs": [
    {
     "output_type": "execute_result",
     "data": {
      "text/plain": [
       "(0.3131294203460446, 0.3365339883078152, 0.3010168519034927)"
      ]
     },
     "metadata": {},
     "execution_count": 17
    }
   ],
   "source": [
    "bz_error,nainbz_error,tol_error "
   ]
  },
  {
   "cell_type": "markdown",
   "metadata": {},
   "source": [
    "## 計算Delta"
   ]
  },
  {
   "cell_type": "code",
   "execution_count": 18,
   "metadata": {},
   "outputs": [
    {
     "output_type": "execute_result",
     "data": {
      "text/plain": [
       "   Density_Feed Properties  Density_Vent Gas Production Rate and Composition  \\\n",
       "0                      0.0                                               0.0   \n",
       "\n",
       "   Density_Distillate Production Rate and Composition  \\\n",
       "0                                                0.0    \n",
       "\n",
       "   Density_Sidedraw Production Rate and Composition  \\\n",
       "0                                               0.0   \n",
       "\n",
       "   Density_Bottoms Production Rate and Composition  \\\n",
       "0                                              0.0   \n",
       "\n",
       "   Tatoray Stripper C620 Operation_Yield Summary_Reflux Rate_m3/hr  \\\n",
       "0                                                0.0                 \n",
       "\n",
       "   Tatoray Stripper C620 Operation_Heat Duty_Condenser Heat Duty_Mkcal/hr  \\\n",
       "0                                                0.0                        \n",
       "\n",
       "   Tatoray Stripper C620 Operation_Heat Duty_Reboiler Heat Duty_Mkcal/hr  \\\n",
       "0                                                0.0                       \n",
       "\n",
       "   Tatoray Stripper C620 Operation_Column Temp Profile_C620 Tray 14 (Control)_oC  \\\n",
       "0                                           0.202653                               \n",
       "\n",
       "   Tatoray Stripper C620 Operation_Column Temp Profile_C620 Tray 34 (Control)_oC  \n",
       "0                                           0.482658                              "
      ],
      "text/html": "<div>\n<style scoped>\n    .dataframe tbody tr th:only-of-type {\n        vertical-align: middle;\n    }\n\n    .dataframe tbody tr th {\n        vertical-align: top;\n    }\n\n    .dataframe thead th {\n        text-align: right;\n    }\n</style>\n<table border=\"1\" class=\"dataframe\">\n  <thead>\n    <tr style=\"text-align: right;\">\n      <th></th>\n      <th>Density_Feed Properties</th>\n      <th>Density_Vent Gas Production Rate and Composition</th>\n      <th>Density_Distillate Production Rate and Composition</th>\n      <th>Density_Sidedraw Production Rate and Composition</th>\n      <th>Density_Bottoms Production Rate and Composition</th>\n      <th>Tatoray Stripper C620 Operation_Yield Summary_Reflux Rate_m3/hr</th>\n      <th>Tatoray Stripper C620 Operation_Heat Duty_Condenser Heat Duty_Mkcal/hr</th>\n      <th>Tatoray Stripper C620 Operation_Heat Duty_Reboiler Heat Duty_Mkcal/hr</th>\n      <th>Tatoray Stripper C620 Operation_Column Temp Profile_C620 Tray 14 (Control)_oC</th>\n      <th>Tatoray Stripper C620 Operation_Column Temp Profile_C620 Tray 34 (Control)_oC</th>\n    </tr>\n  </thead>\n  <tbody>\n    <tr>\n      <th>0</th>\n      <td>0.0</td>\n      <td>0.0</td>\n      <td>0.0</td>\n      <td>0.0</td>\n      <td>0.0</td>\n      <td>0.0</td>\n      <td>0.0</td>\n      <td>0.0</td>\n      <td>0.202653</td>\n      <td>0.482658</td>\n    </tr>\n  </tbody>\n</table>\n</div>"
     },
     "metadata": {},
     "execution_count": 18
    }
   ],
   "source": [
    "c620_op2-c620_op # 苯從84降到70 c620溫度應該上升 確實有上升"
   ]
  },
  {
   "cell_type": "code",
   "execution_count": 19,
   "metadata": {},
   "outputs": [
    {
     "output_type": "execute_result",
     "data": {
      "text/plain": [
       "   Density_Feed Properties  Density_Vent Gas Production Rate and Composition  \\\n",
       "0                      0.0                                               0.0   \n",
       "\n",
       "   Density_Distillate (Benzene Drag) Production Rate and Composition  \\\n",
       "0                                                0.0                   \n",
       "\n",
       "   Density_Sidedraw (Benzene )Production Rate and Composition  \\\n",
       "0                                                0.0            \n",
       "\n",
       "   Density_Bottoms Production Rate and Composition  \\\n",
       "0                                              0.0   \n",
       "\n",
       "   Benzene Column C660 Operation_Yield Summary_Reflux Rate_m3/hr  \\\n",
       "0                                                0.0               \n",
       "\n",
       "   Benzene Column C660 Operation_Heat Duty_Condenser Heat Duty_Mkcal/hr  \\\n",
       "0                                                0.0                      \n",
       "\n",
       "   Benzene Column C660 Operation_Heat Duty_Reboiler Heat Duty_Mkcal/hr  \\\n",
       "0                                                0.0                     \n",
       "\n",
       "   Benzene Column C660 Operation_Column Temp Profile_C660 Tray 6 (SD & Control)_oC  \\\n",
       "0                                          -0.045591                                 \n",
       "\n",
       "   Benzene Column C660 Operation_Column Temp Profile_C660 Tray 23 (Control)_oC  \n",
       "0                                          -0.374467                            "
      ],
      "text/html": "<div>\n<style scoped>\n    .dataframe tbody tr th:only-of-type {\n        vertical-align: middle;\n    }\n\n    .dataframe tbody tr th {\n        vertical-align: top;\n    }\n\n    .dataframe thead th {\n        text-align: right;\n    }\n</style>\n<table border=\"1\" class=\"dataframe\">\n  <thead>\n    <tr style=\"text-align: right;\">\n      <th></th>\n      <th>Density_Feed Properties</th>\n      <th>Density_Vent Gas Production Rate and Composition</th>\n      <th>Density_Distillate (Benzene Drag) Production Rate and Composition</th>\n      <th>Density_Sidedraw (Benzene )Production Rate and Composition</th>\n      <th>Density_Bottoms Production Rate and Composition</th>\n      <th>Benzene Column C660 Operation_Yield Summary_Reflux Rate_m3/hr</th>\n      <th>Benzene Column C660 Operation_Heat Duty_Condenser Heat Duty_Mkcal/hr</th>\n      <th>Benzene Column C660 Operation_Heat Duty_Reboiler Heat Duty_Mkcal/hr</th>\n      <th>Benzene Column C660 Operation_Column Temp Profile_C660 Tray 6 (SD &amp; Control)_oC</th>\n      <th>Benzene Column C660 Operation_Column Temp Profile_C660 Tray 23 (Control)_oC</th>\n    </tr>\n  </thead>\n  <tbody>\n    <tr>\n      <th>0</th>\n      <td>0.0</td>\n      <td>0.0</td>\n      <td>0.0</td>\n      <td>0.0</td>\n      <td>0.0</td>\n      <td>0.0</td>\n      <td>0.0</td>\n      <td>0.0</td>\n      <td>-0.045591</td>\n      <td>-0.374467</td>\n    </tr>\n  </tbody>\n</table>\n</div>"
     },
     "metadata": {},
     "execution_count": 19
    }
   ],
   "source": [
    "c660_op2-c660_op"
   ]
  },
  {
   "cell_type": "code",
   "execution_count": 20,
   "metadata": {},
   "outputs": [
    {
     "output_type": "execute_result",
     "data": {
      "text/plain": [
       "   Density_Distillate Production Rate and Composition  \\\n",
       "0                                                0.0    \n",
       "\n",
       "   Density_Bottoms Production Rate and Composition  \\\n",
       "0                                        -0.000017   \n",
       "\n",
       "   Toluene Column C670 Operation_Yield \\nSummary_Reflux Rate_m3/hr  \\\n",
       "0                                           8.432648                 \n",
       "\n",
       "   Toluene Column C670 Operation_Heat Duty_Condenser Heat Duty_Mkcal/hr  \\\n",
       "0                                           0.600876                      \n",
       "\n",
       "   Toluene Column C670 Operation_Heat Duty_Reboiler Heat Duty_Mkcal/hr  \\\n",
       "0                                           0.386509                     \n",
       "\n",
       "   Toluene Column C670 Operation_Column Temp Profile_C670 Tray 24 (Control)_oC  \\\n",
       "0                                           0.082703                             \n",
       "\n",
       "   Toluene Column C670 Operation_Column Temp Profile_C670 Btm Temp (Control)_oC  \n",
       "0                                           0.402695                             "
      ],
      "text/html": "<div>\n<style scoped>\n    .dataframe tbody tr th:only-of-type {\n        vertical-align: middle;\n    }\n\n    .dataframe tbody tr th {\n        vertical-align: top;\n    }\n\n    .dataframe thead th {\n        text-align: right;\n    }\n</style>\n<table border=\"1\" class=\"dataframe\">\n  <thead>\n    <tr style=\"text-align: right;\">\n      <th></th>\n      <th>Density_Distillate Production Rate and Composition</th>\n      <th>Density_Bottoms Production Rate and Composition</th>\n      <th>Toluene Column C670 Operation_Yield \\nSummary_Reflux Rate_m3/hr</th>\n      <th>Toluene Column C670 Operation_Heat Duty_Condenser Heat Duty_Mkcal/hr</th>\n      <th>Toluene Column C670 Operation_Heat Duty_Reboiler Heat Duty_Mkcal/hr</th>\n      <th>Toluene Column C670 Operation_Column Temp Profile_C670 Tray 24 (Control)_oC</th>\n      <th>Toluene Column C670 Operation_Column Temp Profile_C670 Btm Temp (Control)_oC</th>\n    </tr>\n  </thead>\n  <tbody>\n    <tr>\n      <th>0</th>\n      <td>0.0</td>\n      <td>-0.000017</td>\n      <td>8.432648</td>\n      <td>0.600876</td>\n      <td>0.386509</td>\n      <td>0.082703</td>\n      <td>0.402695</td>\n    </tr>\n  </tbody>\n</table>\n</div>"
     },
     "metadata": {},
     "execution_count": 20
    }
   ],
   "source": [
    "c670_op2-c670_op"
   ]
  },
  {
   "cell_type": "code",
   "execution_count": null,
   "metadata": {},
   "outputs": [],
   "source": []
  }
 ],
 "metadata": {
  "kernelspec": {
   "name": "python385jvsc74a57bd02ccee5cc862501c1aad1cf19888c2a2eca4026b72d187db43d5e889cbdc6ee97",
   "display_name": "Python 3.8.5 64-bit ('base': conda)"
  },
  "language_info": {
   "codemirror_mode": {
    "name": "ipython",
    "version": 3
   },
   "file_extension": ".py",
   "mimetype": "text/x-python",
   "name": "python",
   "nbconvert_exporter": "python",
   "pygments_lexer": "ipython3",
   "version": "3.8.5"
  }
 },
 "nbformat": 4,
 "nbformat_minor": 2
}