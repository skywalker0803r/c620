{
  "nbformat": 4,
  "nbformat_minor": 0,
  "metadata": {
    "colab": {
      "name": "usage_example.ipynb",
      "provenance": [],
      "mount_file_id": "1EkEB-qXjPRmudXTmuHHtlwsWr1V9Wzxh",
      "authorship_tag": "ABX9TyMC3/O5alrUrJT2ejMIfUkM",
      "include_colab_link": true
    },
    "kernelspec": {
      "name": "python3",
      "display_name": "Python 3",
      "language": "python"
    }
  },
  "cells": [
    {
      "cell_type": "markdown",
      "metadata": {
        "id": "ZybB7ygZqJLM"
      },
      "source": [
        "# import "
      ]
    },
    {
      "cell_type": "code",
      "metadata": {
        "colab": {
          "base_uri": "https://localhost:8080/"
        },
        "id": "FFcAtS_vixO-",
        "outputId": "2b1679c9-d2cb-43aa-ba64-13f017c88c1f"
      },
      "source": [
        "from F import F\n",
        "from config import config\n",
        "import joblib\n",
        "import numpy as np\n",
        "import pandas as pd\n",
        "import os\n",
        "print(os.getcwd())"
      ],
      "execution_count": 1,
      "outputs": [
        {
          "output_type": "stream",
          "name": "stdout",
          "text": [
            "c:\\Users\\skywalker0803r\\Desktop\\c620\n"
          ]
        }
      ]
    },
    {
      "cell_type": "markdown",
      "metadata": {
        "id": "7Wjx-_s0qM0G"
      },
      "source": [
        "# demo data"
      ]
    },
    {
      "cell_type": "code",
      "metadata": {
        "id": "XVCHP95Vi3I6"
      },
      "source": [
        "tag = 'test001'\n",
        "demo = joblib.load('./data/demo.pkl')\n",
        "print(demo.keys())"
      ],
      "execution_count": 2,
      "outputs": [
        {
          "output_type": "stream",
          "name": "stdout",
          "text": [
            "dict_keys(['icg_input', 'c620_Receiver_Temp', 'c620_feed', 't651_feedf', 'c620_op', 'c620_wt', 'c660_op', 'c660_wt', 'c670_op', 'c670_wt'])\n"
          ]
        }
      ]
    },
    {
      "cell_type": "code",
      "execution_count": 3,
      "metadata": {},
      "outputs": [],
      "source": [
        "icg_input = demo['icg_input'].to_frame().T\n",
        "c620_Receiver_Temp = demo['c620_Receiver_Temp'].to_frame().T\n",
        "c620_feed = demo['c620_feed'].to_frame().T\n",
        "t651_feed = demo['t651_feedf'].to_frame().T"
      ]
    },
    {
      "cell_type": "markdown",
      "metadata": {
        "id": "HcvWuhpDn3Ic"
      },
      "source": [
        "# F"
      ]
    },
    {
      "cell_type": "code",
      "metadata": {
        "id": "Qa-lHXhJjI8M"
      },
      "source": [
        "f = F(config)\n",
        "f.Recommended_mode = True\n",
        "c620_wt,c620_op,c660_wt,c660_op,c670_wt,c670_op = f(icg_input,c620_Receiver_Temp,c620_feed,t651_feed)"
      ],
      "execution_count": 4,
      "outputs": [
        {
          "output_type": "stream",
          "name": "stdout",
          "text": [
            "current Distillate Rate_m3/hr:-0.00747864693403244 NA in Benzene_ppmw:920.0 so NA in Benzene_ppmw -= 30\ncurrent Distillate Rate_m3/hr:-0.008662432432174683 NA in Benzene_ppmw:890.0 so NA in Benzene_ppmw -= 30\n"
          ]
        }
      ]
    },
    {
      "cell_type": "code",
      "metadata": {
        "colab": {
          "base_uri": "https://localhost:8080/",
          "height": 265
        },
        "id": "cw-XxB-RjOAi",
        "outputId": "59e5b63f-8743-4754-c48a-ec583c52e082"
      },
      "source": [
        "c620_wt"
      ],
      "execution_count": 5,
      "outputs": [
        {
          "output_type": "execute_result",
          "data": {
            "text/plain": [
              "         Tatoray Stripper C620 Operation_Vent Gas Production Rate and Composition_Hydrogen_wt%  \\\n",
              "044-017                                                0.0                                       \n",
              "\n",
              "         Tatoray Stripper C620 Operation_Vent Gas Production Rate and Composition_Methane_wt%  \\\n",
              "044-017                                           2.714317                                      \n",
              "\n",
              "         Tatoray Stripper C620 Operation_Vent Gas Production Rate and Composition_Ethane_wt%  \\\n",
              "044-017                                          53.605388                                     \n",
              "\n",
              "         Tatoray Stripper C620 Operation_Vent Gas Production Rate and Composition_Propane_wt%  \\\n",
              "044-017                                          31.856373                                      \n",
              "\n",
              "         Tatoray Stripper C620 Operation_Vent Gas Production Rate and Composition_n-Butane_wt%  \\\n",
              "044-017                                           4.044639                                       \n",
              "\n",
              "         Tatoray Stripper C620 Operation_Vent Gas Production Rate and Composition_n-Pentane_wt%  \\\n",
              "044-017                                           0.817467                                        \n",
              "\n",
              "         Tatoray Stripper C620 Operation_Vent Gas Production Rate and Composition_n-Hexane_wt%  \\\n",
              "044-017                                           0.049048                                       \n",
              "\n",
              "         Tatoray Stripper C620 Operation_Vent Gas Production Rate and Composition_Benzene_wt%  \\\n",
              "044-017                                            6.88401                                      \n",
              "\n",
              "         Tatoray Stripper C620 Operation_Vent Gas Production Rate and Composition_Cyclohexane_wt%  \\\n",
              "044-017                                           0.006958                                          \n",
              "\n",
              "         Tatoray Stripper C620 Operation_Vent Gas Production Rate and Composition_n-Heptane_wt%  \\\n",
              "044-017                                           0.002918                                        \n",
              "\n",
              "         ...  \\\n",
              "044-017  ...   \n",
              "\n",
              "         Tatoray Stripper C620 Operation_Bottoms Production Rate and Composition_Indane_wt%  \\\n",
              "044-017                                           0.039814                                    \n",
              "\n",
              "         Tatoray Stripper C620 Operation_Bottoms Production Rate and Composition_1-Methyl-4-n-propylbenzene_wt%  \\\n",
              "044-017                                           0.001138                                                        \n",
              "\n",
              "         Tatoray Stripper C620 Operation_Bottoms Production Rate and Composition_1,2-Diethylbenzene_wt%  \\\n",
              "044-017                                           0.026163                                                \n",
              "\n",
              "         Tatoray Stripper C620 Operation_Bottoms Production Rate and Composition_5-Ethyl-m-xylene_wt%  \\\n",
              "044-017                                           1.022641                                              \n",
              "\n",
              "         Tatoray Stripper C620 Operation_Bottoms Production Rate and Composition_1,4-Diethylbenzene_wt%  \\\n",
              "044-017                                                0.0                                                \n",
              "\n",
              "         Tatoray Stripper C620 Operation_Bottoms Production Rate and Composition_1,2,3,5-Tetramethylbenzene_wt%  \\\n",
              "044-017                                           1.176208                                                        \n",
              "\n",
              "         Tatoray Stripper C620 Operation_Bottoms Production Rate and Composition_n-Pentylbenzene_wt%  \\\n",
              "044-017                                           0.301446                                             \n",
              "\n",
              "         Tatoray Stripper C620 Operation_Bottoms Production Rate and Composition_n-Hexylbenzene_wt%  \\\n",
              "044-017                                           0.129679                                            \n",
              "\n",
              "         Tatoray Stripper C620 Operation_Bottoms Production Rate and Composition_Nitrogen_wt%  \\\n",
              "044-017                                                0.0                                      \n",
              "\n",
              "         Tatoray Stripper C620 Operation_Bottoms Production Rate and Composition_Oxygen_wt%  \n",
              "044-017                                                0.0                                   \n",
              "\n",
              "[1 rows x 164 columns]"
            ],
            "text/html": "<div>\n<style scoped>\n    .dataframe tbody tr th:only-of-type {\n        vertical-align: middle;\n    }\n\n    .dataframe tbody tr th {\n        vertical-align: top;\n    }\n\n    .dataframe thead th {\n        text-align: right;\n    }\n</style>\n<table border=\"1\" class=\"dataframe\">\n  <thead>\n    <tr style=\"text-align: right;\">\n      <th></th>\n      <th>Tatoray Stripper C620 Operation_Vent Gas Production Rate and Composition_Hydrogen_wt%</th>\n      <th>Tatoray Stripper C620 Operation_Vent Gas Production Rate and Composition_Methane_wt%</th>\n      <th>Tatoray Stripper C620 Operation_Vent Gas Production Rate and Composition_Ethane_wt%</th>\n      <th>Tatoray Stripper C620 Operation_Vent Gas Production Rate and Composition_Propane_wt%</th>\n      <th>Tatoray Stripper C620 Operation_Vent Gas Production Rate and Composition_n-Butane_wt%</th>\n      <th>Tatoray Stripper C620 Operation_Vent Gas Production Rate and Composition_n-Pentane_wt%</th>\n      <th>Tatoray Stripper C620 Operation_Vent Gas Production Rate and Composition_n-Hexane_wt%</th>\n      <th>Tatoray Stripper C620 Operation_Vent Gas Production Rate and Composition_Benzene_wt%</th>\n      <th>Tatoray Stripper C620 Operation_Vent Gas Production Rate and Composition_Cyclohexane_wt%</th>\n      <th>Tatoray Stripper C620 Operation_Vent Gas Production Rate and Composition_n-Heptane_wt%</th>\n      <th>...</th>\n      <th>Tatoray Stripper C620 Operation_Bottoms Production Rate and Composition_Indane_wt%</th>\n      <th>Tatoray Stripper C620 Operation_Bottoms Production Rate and Composition_1-Methyl-4-n-propylbenzene_wt%</th>\n      <th>Tatoray Stripper C620 Operation_Bottoms Production Rate and Composition_1,2-Diethylbenzene_wt%</th>\n      <th>Tatoray Stripper C620 Operation_Bottoms Production Rate and Composition_5-Ethyl-m-xylene_wt%</th>\n      <th>Tatoray Stripper C620 Operation_Bottoms Production Rate and Composition_1,4-Diethylbenzene_wt%</th>\n      <th>Tatoray Stripper C620 Operation_Bottoms Production Rate and Composition_1,2,3,5-Tetramethylbenzene_wt%</th>\n      <th>Tatoray Stripper C620 Operation_Bottoms Production Rate and Composition_n-Pentylbenzene_wt%</th>\n      <th>Tatoray Stripper C620 Operation_Bottoms Production Rate and Composition_n-Hexylbenzene_wt%</th>\n      <th>Tatoray Stripper C620 Operation_Bottoms Production Rate and Composition_Nitrogen_wt%</th>\n      <th>Tatoray Stripper C620 Operation_Bottoms Production Rate and Composition_Oxygen_wt%</th>\n    </tr>\n  </thead>\n  <tbody>\n    <tr>\n      <th>044-017</th>\n      <td>0.0</td>\n      <td>2.714317</td>\n      <td>53.605388</td>\n      <td>31.856373</td>\n      <td>4.044639</td>\n      <td>0.817467</td>\n      <td>0.049048</td>\n      <td>6.88401</td>\n      <td>0.006958</td>\n      <td>0.002918</td>\n      <td>...</td>\n      <td>0.039814</td>\n      <td>0.001138</td>\n      <td>0.026163</td>\n      <td>1.022641</td>\n      <td>0.0</td>\n      <td>1.176208</td>\n      <td>0.301446</td>\n      <td>0.129679</td>\n      <td>0.0</td>\n      <td>0.0</td>\n    </tr>\n  </tbody>\n</table>\n<p>1 rows × 164 columns</p>\n</div>"
          },
          "metadata": {},
          "execution_count": 5
        }
      ]
    },
    {
      "cell_type": "code",
      "metadata": {
        "colab": {
          "base_uri": "https://localhost:8080/",
          "height": 165
        },
        "id": "BofcSOZQpU3v",
        "outputId": "07e1de86-2b10-4b2c-8c67-fc5c6aa71669"
      },
      "source": [
        "c620_op"
      ],
      "execution_count": 6,
      "outputs": [
        {
          "output_type": "execute_result",
          "data": {
            "text/plain": [
              "         Density_Feed Properties  \\\n",
              "044-017                 0.862092   \n",
              "\n",
              "         Density_Vent Gas Production Rate and Composition  \\\n",
              "044-017                                          0.426528   \n",
              "\n",
              "         Density_Distillate Production Rate and Composition  \\\n",
              "044-017                                           0.827697    \n",
              "\n",
              "         Density_Sidedraw Production Rate and Composition  \\\n",
              "044-017                                          0.878691   \n",
              "\n",
              "         Density_Bottoms Production Rate and Composition  \\\n",
              "044-017                                         0.871905   \n",
              "\n",
              "         Tatoray Stripper C620 Operation_Yield Summary_Reflux Rate_m3/hr  \\\n",
              "044-017                                          97.020195                 \n",
              "\n",
              "         Tatoray Stripper C620 Operation_Heat Duty_Condenser Heat Duty_Mkcal/hr  \\\n",
              "044-017                                          13.955317                        \n",
              "\n",
              "         Tatoray Stripper C620 Operation_Heat Duty_Reboiler Heat Duty_Mkcal/hr  \\\n",
              "044-017                                           12.04661                       \n",
              "\n",
              "         Tatoray Stripper C620 Operation_Column Temp Profile_C620 Tray 14 (Control)_oC  \\\n",
              "044-017                                         178.120712                               \n",
              "\n",
              "         Tatoray Stripper C620 Operation_Column Temp Profile_C620 Tray 34 (Control)_oC  \n",
              "044-017                                         194.744308                              "
            ],
            "text/html": "<div>\n<style scoped>\n    .dataframe tbody tr th:only-of-type {\n        vertical-align: middle;\n    }\n\n    .dataframe tbody tr th {\n        vertical-align: top;\n    }\n\n    .dataframe thead th {\n        text-align: right;\n    }\n</style>\n<table border=\"1\" class=\"dataframe\">\n  <thead>\n    <tr style=\"text-align: right;\">\n      <th></th>\n      <th>Density_Feed Properties</th>\n      <th>Density_Vent Gas Production Rate and Composition</th>\n      <th>Density_Distillate Production Rate and Composition</th>\n      <th>Density_Sidedraw Production Rate and Composition</th>\n      <th>Density_Bottoms Production Rate and Composition</th>\n      <th>Tatoray Stripper C620 Operation_Yield Summary_Reflux Rate_m3/hr</th>\n      <th>Tatoray Stripper C620 Operation_Heat Duty_Condenser Heat Duty_Mkcal/hr</th>\n      <th>Tatoray Stripper C620 Operation_Heat Duty_Reboiler Heat Duty_Mkcal/hr</th>\n      <th>Tatoray Stripper C620 Operation_Column Temp Profile_C620 Tray 14 (Control)_oC</th>\n      <th>Tatoray Stripper C620 Operation_Column Temp Profile_C620 Tray 34 (Control)_oC</th>\n    </tr>\n  </thead>\n  <tbody>\n    <tr>\n      <th>044-017</th>\n      <td>0.862092</td>\n      <td>0.426528</td>\n      <td>0.827697</td>\n      <td>0.878691</td>\n      <td>0.871905</td>\n      <td>97.020195</td>\n      <td>13.955317</td>\n      <td>12.04661</td>\n      <td>178.120712</td>\n      <td>194.744308</td>\n    </tr>\n  </tbody>\n</table>\n</div>"
          },
          "metadata": {},
          "execution_count": 6
        }
      ]
    },
    {
      "cell_type": "code",
      "metadata": {
        "colab": {
          "base_uri": "https://localhost:8080/",
          "height": 265
        },
        "id": "OLJvr9tkpV5u",
        "outputId": "3f4eb1b7-997a-4d44-8067-ed73829e26b6"
      },
      "source": [
        "c660_wt"
      ],
      "execution_count": 7,
      "outputs": [
        {
          "output_type": "execute_result",
          "data": {
            "text/plain": [
              "         Benzene Column C660 Operation_Vent Gas Production Rate and Composition_Hydrogen_wt%  \\\n",
              "044-017                                                0.0                                     \n",
              "\n",
              "         Benzene Column C660 Operation_Vent Gas Production Rate and Composition_Methane_wt%  \\\n",
              "044-017                                           0.227277                                    \n",
              "\n",
              "         Benzene Column C660 Operation_Vent Gas Production Rate and Composition_Ethane_wt%  \\\n",
              "044-017                                          14.415289                                   \n",
              "\n",
              "         Benzene Column C660 Operation_Vent Gas Production Rate and Composition_Propane_wt%  \\\n",
              "044-017                                          26.200891                                    \n",
              "\n",
              "         Benzene Column C660 Operation_Vent Gas Production Rate and Composition_n-Butane_wt%  \\\n",
              "044-017                                          15.091746                                     \n",
              "\n",
              "         Benzene Column C660 Operation_Vent Gas Production Rate and Composition_n-Pentane_wt%  \\\n",
              "044-017                                          11.062822                                      \n",
              "\n",
              "         Benzene Column C660 Operation_Vent Gas Production Rate and Composition_n-Hexane_wt%  \\\n",
              "044-017                                           0.994575                                     \n",
              "\n",
              "         Benzene Column C660 Operation_Vent Gas Production Rate and Composition_Benzene_wt%  \\\n",
              "044-017                                          31.943832                                    \n",
              "\n",
              "         Benzene Column C660 Operation_Vent Gas Production Rate and Composition_Cyclohexane_wt%  \\\n",
              "044-017                                           0.050903                                        \n",
              "\n",
              "         Benzene Column C660 Operation_Vent Gas Production Rate and Composition_n-Heptane_wt%  \\\n",
              "044-017                                           0.009788                                      \n",
              "\n",
              "         ...  \\\n",
              "044-017  ...   \n",
              "\n",
              "         Benzene Column C660 Operation_Bottoms Production Rate and Composition_Indane_wt%  \\\n",
              "044-017                                       2.607433e-10                                  \n",
              "\n",
              "         Benzene Column C660 Operation_Bottoms Production Rate and Composition_1-Methyl-4-n-propylbenzene_wt%  \\\n",
              "044-017                                           0.039636                                                      \n",
              "\n",
              "         Benzene Column C660 Operation_Bottoms Production Rate and Composition_1,2-Diethylbenzene_wt%  \\\n",
              "044-017                                           0.009876                                              \n",
              "\n",
              "         Benzene Column C660 Operation_Bottoms Production Rate and Composition_5-Ethyl-m-xylene_wt%  \\\n",
              "044-017                                       9.497488e-10                                            \n",
              "\n",
              "         Benzene Column C660 Operation_Bottoms Production Rate and Composition_1,4-Diethylbenzene_wt%  \\\n",
              "044-017                                                0.0                                              \n",
              "\n",
              "         Benzene Column C660 Operation_Bottoms Production Rate and Composition_1,2,3,5-Tetramethylbenzene_wt%  \\\n",
              "044-017                                       1.011138e-11                                                      \n",
              "\n",
              "         Benzene Column C660 Operation_Bottoms Production Rate and Composition_n-Pentylbenzene_wt%  \\\n",
              "044-017                                       4.866620e-13                                           \n",
              "\n",
              "         Benzene Column C660 Operation_Bottoms Production Rate and Composition_n-Hexylbenzene_wt%  \\\n",
              "044-017                                       4.806929e-16                                          \n",
              "\n",
              "         Benzene Column C660 Operation_Bottoms Production Rate and Composition_Nitrogen_wt%  \\\n",
              "044-017                                                0.0                                    \n",
              "\n",
              "         Benzene Column C660 Operation_Bottoms Production Rate and Composition_Oxygen_wt%  \n",
              "044-017                                                0.0                                 \n",
              "\n",
              "[1 rows x 164 columns]"
            ],
            "text/html": "<div>\n<style scoped>\n    .dataframe tbody tr th:only-of-type {\n        vertical-align: middle;\n    }\n\n    .dataframe tbody tr th {\n        vertical-align: top;\n    }\n\n    .dataframe thead th {\n        text-align: right;\n    }\n</style>\n<table border=\"1\" class=\"dataframe\">\n  <thead>\n    <tr style=\"text-align: right;\">\n      <th></th>\n      <th>Benzene Column C660 Operation_Vent Gas Production Rate and Composition_Hydrogen_wt%</th>\n      <th>Benzene Column C660 Operation_Vent Gas Production Rate and Composition_Methane_wt%</th>\n      <th>Benzene Column C660 Operation_Vent Gas Production Rate and Composition_Ethane_wt%</th>\n      <th>Benzene Column C660 Operation_Vent Gas Production Rate and Composition_Propane_wt%</th>\n      <th>Benzene Column C660 Operation_Vent Gas Production Rate and Composition_n-Butane_wt%</th>\n      <th>Benzene Column C660 Operation_Vent Gas Production Rate and Composition_n-Pentane_wt%</th>\n      <th>Benzene Column C660 Operation_Vent Gas Production Rate and Composition_n-Hexane_wt%</th>\n      <th>Benzene Column C660 Operation_Vent Gas Production Rate and Composition_Benzene_wt%</th>\n      <th>Benzene Column C660 Operation_Vent Gas Production Rate and Composition_Cyclohexane_wt%</th>\n      <th>Benzene Column C660 Operation_Vent Gas Production Rate and Composition_n-Heptane_wt%</th>\n      <th>...</th>\n      <th>Benzene Column C660 Operation_Bottoms Production Rate and Composition_Indane_wt%</th>\n      <th>Benzene Column C660 Operation_Bottoms Production Rate and Composition_1-Methyl-4-n-propylbenzene_wt%</th>\n      <th>Benzene Column C660 Operation_Bottoms Production Rate and Composition_1,2-Diethylbenzene_wt%</th>\n      <th>Benzene Column C660 Operation_Bottoms Production Rate and Composition_5-Ethyl-m-xylene_wt%</th>\n      <th>Benzene Column C660 Operation_Bottoms Production Rate and Composition_1,4-Diethylbenzene_wt%</th>\n      <th>Benzene Column C660 Operation_Bottoms Production Rate and Composition_1,2,3,5-Tetramethylbenzene_wt%</th>\n      <th>Benzene Column C660 Operation_Bottoms Production Rate and Composition_n-Pentylbenzene_wt%</th>\n      <th>Benzene Column C660 Operation_Bottoms Production Rate and Composition_n-Hexylbenzene_wt%</th>\n      <th>Benzene Column C660 Operation_Bottoms Production Rate and Composition_Nitrogen_wt%</th>\n      <th>Benzene Column C660 Operation_Bottoms Production Rate and Composition_Oxygen_wt%</th>\n    </tr>\n  </thead>\n  <tbody>\n    <tr>\n      <th>044-017</th>\n      <td>0.0</td>\n      <td>0.227277</td>\n      <td>14.415289</td>\n      <td>26.200891</td>\n      <td>15.091746</td>\n      <td>11.062822</td>\n      <td>0.994575</td>\n      <td>31.943832</td>\n      <td>0.050903</td>\n      <td>0.009788</td>\n      <td>...</td>\n      <td>2.607433e-10</td>\n      <td>0.039636</td>\n      <td>0.009876</td>\n      <td>9.497488e-10</td>\n      <td>0.0</td>\n      <td>1.011138e-11</td>\n      <td>4.866620e-13</td>\n      <td>4.806929e-16</td>\n      <td>0.0</td>\n      <td>0.0</td>\n    </tr>\n  </tbody>\n</table>\n<p>1 rows × 164 columns</p>\n</div>"
          },
          "metadata": {},
          "execution_count": 7
        }
      ]
    },
    {
      "cell_type": "code",
      "metadata": {
        "colab": {
          "base_uri": "https://localhost:8080/",
          "height": 165
        },
        "id": "bQTrBR3-pXfu",
        "outputId": "8fabb90e-ef59-41b7-abe1-57b0d79657df"
      },
      "source": [
        "c660_op"
      ],
      "execution_count": 8,
      "outputs": [
        {
          "output_type": "execute_result",
          "data": {
            "text/plain": [
              "         Density_Feed Properties  \\\n",
              "044-017                 0.877258   \n",
              "\n",
              "         Density_Vent Gas Production Rate and Composition  \\\n",
              "044-017                                          0.579506   \n",
              "\n",
              "         Density_Distillate (Benzene Drag) Production Rate and Composition  \\\n",
              "044-017                                           0.851628                   \n",
              "\n",
              "         Density_Sidedraw (Benzene )Production Rate and Composition  \\\n",
              "044-017                                           0.883718            \n",
              "\n",
              "         Density_Bottoms Production Rate and Composition  \\\n",
              "044-017                                         0.870445   \n",
              "\n",
              "         Benzene Column C660 Operation_Yield Summary_Reflux Rate_m3/hr  \\\n",
              "044-017                                          115.78511               \n",
              "\n",
              "         Benzene Column C660 Operation_Heat Duty_Condenser Heat Duty_Mkcal/hr  \\\n",
              "044-017                                          10.910509                      \n",
              "\n",
              "         Benzene Column C660 Operation_Heat Duty_Reboiler Heat Duty_Mkcal/hr  \\\n",
              "044-017                                          10.605762                     \n",
              "\n",
              "         Benzene Column C660 Operation_Column Temp Profile_C660 Tray 6 (SD & Control)_oC  \\\n",
              "044-017                                          86.489799                                 \n",
              "\n",
              "         Benzene Column C660 Operation_Column Temp Profile_C660 Tray 23 (Control)_oC  \n",
              "044-017                                          89.336929                            "
            ],
            "text/html": "<div>\n<style scoped>\n    .dataframe tbody tr th:only-of-type {\n        vertical-align: middle;\n    }\n\n    .dataframe tbody tr th {\n        vertical-align: top;\n    }\n\n    .dataframe thead th {\n        text-align: right;\n    }\n</style>\n<table border=\"1\" class=\"dataframe\">\n  <thead>\n    <tr style=\"text-align: right;\">\n      <th></th>\n      <th>Density_Feed Properties</th>\n      <th>Density_Vent Gas Production Rate and Composition</th>\n      <th>Density_Distillate (Benzene Drag) Production Rate and Composition</th>\n      <th>Density_Sidedraw (Benzene )Production Rate and Composition</th>\n      <th>Density_Bottoms Production Rate and Composition</th>\n      <th>Benzene Column C660 Operation_Yield Summary_Reflux Rate_m3/hr</th>\n      <th>Benzene Column C660 Operation_Heat Duty_Condenser Heat Duty_Mkcal/hr</th>\n      <th>Benzene Column C660 Operation_Heat Duty_Reboiler Heat Duty_Mkcal/hr</th>\n      <th>Benzene Column C660 Operation_Column Temp Profile_C660 Tray 6 (SD &amp; Control)_oC</th>\n      <th>Benzene Column C660 Operation_Column Temp Profile_C660 Tray 23 (Control)_oC</th>\n    </tr>\n  </thead>\n  <tbody>\n    <tr>\n      <th>044-017</th>\n      <td>0.877258</td>\n      <td>0.579506</td>\n      <td>0.851628</td>\n      <td>0.883718</td>\n      <td>0.870445</td>\n      <td>115.78511</td>\n      <td>10.910509</td>\n      <td>10.605762</td>\n      <td>86.489799</td>\n      <td>89.336929</td>\n    </tr>\n  </tbody>\n</table>\n</div>"
          },
          "metadata": {},
          "execution_count": 8
        }
      ]
    },
    {
      "cell_type": "code",
      "metadata": {
        "colab": {
          "base_uri": "https://localhost:8080/",
          "height": 265
        },
        "id": "msReDUW3pYYN",
        "outputId": "3c06bec3-c783-4b2c-f31a-c1df315751ae"
      },
      "source": [
        "c670_wt"
      ],
      "execution_count": 9,
      "outputs": [
        {
          "output_type": "execute_result",
          "data": {
            "text/plain": [
              "         Toluene Column C670 Operation_Distillate Production Rate and Composition_Hydrogen_wt%  \\\n",
              "044-017                                                0.0                                       \n",
              "\n",
              "         Toluene Column C670 Operation_Distillate Production Rate and Composition_Methane_wt%  \\\n",
              "044-017                                       6.824457e-09                                      \n",
              "\n",
              "         Toluene Column C670 Operation_Distillate Production Rate and Composition_Ethane_wt%  \\\n",
              "044-017                                       2.467801e-07                                     \n",
              "\n",
              "         Toluene Column C670 Operation_Distillate Production Rate and Composition_Propane_wt%  \\\n",
              "044-017                                       7.026545e-07                                      \n",
              "\n",
              "         Toluene Column C670 Operation_Distillate Production Rate and Composition_n-Butane_wt%  \\\n",
              "044-017                                       1.510696e-23                                       \n",
              "\n",
              "         Toluene Column C670 Operation_Distillate Production Rate and Composition_n-Pentane_wt%  \\\n",
              "044-017                                       4.157452e-16                                        \n",
              "\n",
              "         Toluene Column C670 Operation_Distillate Production Rate and Composition_n-Hexane_wt%  \\\n",
              "044-017                                       3.090270e-09                                       \n",
              "\n",
              "         Toluene Column C670 Operation_Distillate Production Rate and Composition_Benzene_wt%  \\\n",
              "044-017                                           0.352434                                      \n",
              "\n",
              "         Toluene Column C670 Operation_Distillate Production Rate and Composition_Cyclohexane_wt%  \\\n",
              "044-017                                           0.000295                                          \n",
              "\n",
              "         Toluene Column C670 Operation_Distillate Production Rate and Composition_n-Heptane_wt%  \\\n",
              "044-017                                           0.005014                                        \n",
              "\n",
              "         ...  \\\n",
              "044-017  ...   \n",
              "\n",
              "         Toluene Column C670 Operation_Bottoms Production Rate and Composition_Indane_wt%  \\\n",
              "044-017                                           0.070965                                  \n",
              "\n",
              "         Toluene Column C670 Operation_Bottoms Production Rate and Composition_1-Methyl-4-n-propylbenzene_wt%  \\\n",
              "044-017                                           0.014717                                                      \n",
              "\n",
              "         Toluene Column C670 Operation_Bottoms Production Rate and Composition_1,2-Diethylbenzene_wt%  \\\n",
              "044-017                                           0.049796                                              \n",
              "\n",
              "         Toluene Column C670 Operation_Bottoms Production Rate and Composition_5-Ethyl-m-xylene_wt%  \\\n",
              "044-017                                           1.822797                                            \n",
              "\n",
              "         Toluene Column C670 Operation_Bottoms Production Rate and Composition_1,4-Diethylbenzene_wt%  \\\n",
              "044-017                                                0.0                                              \n",
              "\n",
              "         Toluene Column C670 Operation_Bottoms Production Rate and Composition_1,2,3,5-Tetramethylbenzene_wt%  \\\n",
              "044-017                                           2.096521                                                      \n",
              "\n",
              "         Toluene Column C670 Operation_Bottoms Production Rate and Composition_n-Pentylbenzene_wt%  \\\n",
              "044-017                                           0.537309                                           \n",
              "\n",
              "         Toluene Column C670 Operation_Bottoms Production Rate and Composition_n-Hexylbenzene_wt%  \\\n",
              "044-017                                           0.231144                                          \n",
              "\n",
              "         Toluene Column C670 Operation_Bottoms Production Rate and Composition_Nitrogen_wt%  \\\n",
              "044-017                                                0.0                                    \n",
              "\n",
              "         Toluene Column C670 Operation_Bottoms Production Rate and Composition_Oxygen_wt%  \n",
              "044-017                                                0.0                                 \n",
              "\n",
              "[1 rows x 82 columns]"
            ],
            "text/html": "<div>\n<style scoped>\n    .dataframe tbody tr th:only-of-type {\n        vertical-align: middle;\n    }\n\n    .dataframe tbody tr th {\n        vertical-align: top;\n    }\n\n    .dataframe thead th {\n        text-align: right;\n    }\n</style>\n<table border=\"1\" class=\"dataframe\">\n  <thead>\n    <tr style=\"text-align: right;\">\n      <th></th>\n      <th>Toluene Column C670 Operation_Distillate Production Rate and Composition_Hydrogen_wt%</th>\n      <th>Toluene Column C670 Operation_Distillate Production Rate and Composition_Methane_wt%</th>\n      <th>Toluene Column C670 Operation_Distillate Production Rate and Composition_Ethane_wt%</th>\n      <th>Toluene Column C670 Operation_Distillate Production Rate and Composition_Propane_wt%</th>\n      <th>Toluene Column C670 Operation_Distillate Production Rate and Composition_n-Butane_wt%</th>\n      <th>Toluene Column C670 Operation_Distillate Production Rate and Composition_n-Pentane_wt%</th>\n      <th>Toluene Column C670 Operation_Distillate Production Rate and Composition_n-Hexane_wt%</th>\n      <th>Toluene Column C670 Operation_Distillate Production Rate and Composition_Benzene_wt%</th>\n      <th>Toluene Column C670 Operation_Distillate Production Rate and Composition_Cyclohexane_wt%</th>\n      <th>Toluene Column C670 Operation_Distillate Production Rate and Composition_n-Heptane_wt%</th>\n      <th>...</th>\n      <th>Toluene Column C670 Operation_Bottoms Production Rate and Composition_Indane_wt%</th>\n      <th>Toluene Column C670 Operation_Bottoms Production Rate and Composition_1-Methyl-4-n-propylbenzene_wt%</th>\n      <th>Toluene Column C670 Operation_Bottoms Production Rate and Composition_1,2-Diethylbenzene_wt%</th>\n      <th>Toluene Column C670 Operation_Bottoms Production Rate and Composition_5-Ethyl-m-xylene_wt%</th>\n      <th>Toluene Column C670 Operation_Bottoms Production Rate and Composition_1,4-Diethylbenzene_wt%</th>\n      <th>Toluene Column C670 Operation_Bottoms Production Rate and Composition_1,2,3,5-Tetramethylbenzene_wt%</th>\n      <th>Toluene Column C670 Operation_Bottoms Production Rate and Composition_n-Pentylbenzene_wt%</th>\n      <th>Toluene Column C670 Operation_Bottoms Production Rate and Composition_n-Hexylbenzene_wt%</th>\n      <th>Toluene Column C670 Operation_Bottoms Production Rate and Composition_Nitrogen_wt%</th>\n      <th>Toluene Column C670 Operation_Bottoms Production Rate and Composition_Oxygen_wt%</th>\n    </tr>\n  </thead>\n  <tbody>\n    <tr>\n      <th>044-017</th>\n      <td>0.0</td>\n      <td>6.824457e-09</td>\n      <td>2.467801e-07</td>\n      <td>7.026545e-07</td>\n      <td>1.510696e-23</td>\n      <td>4.157452e-16</td>\n      <td>3.090270e-09</td>\n      <td>0.352434</td>\n      <td>0.000295</td>\n      <td>0.005014</td>\n      <td>...</td>\n      <td>0.070965</td>\n      <td>0.014717</td>\n      <td>0.049796</td>\n      <td>1.822797</td>\n      <td>0.0</td>\n      <td>2.096521</td>\n      <td>0.537309</td>\n      <td>0.231144</td>\n      <td>0.0</td>\n      <td>0.0</td>\n    </tr>\n  </tbody>\n</table>\n<p>1 rows × 82 columns</p>\n</div>"
          },
          "metadata": {},
          "execution_count": 9
        }
      ]
    },
    {
      "cell_type": "code",
      "metadata": {
        "colab": {
          "base_uri": "https://localhost:8080/",
          "height": 148
        },
        "id": "-mQegOW7pZHN",
        "outputId": "a292ddc4-167f-4c8f-f3da-7c0ce71fae0b"
      },
      "source": [
        "c670_op"
      ],
      "execution_count": 10,
      "outputs": [
        {
          "output_type": "execute_result",
          "data": {
            "text/plain": [
              "         Density_Distillate Production Rate and Composition  \\\n",
              "044-017                                           0.870943    \n",
              "\n",
              "         Density_Bottoms Production Rate and Composition  \\\n",
              "044-017                                         0.872529   \n",
              "\n",
              "         Toluene Column C670 Operation_Yield \\nSummary_Reflux Rate_m3/hr  \\\n",
              "044-017                                         297.448059                 \n",
              "\n",
              "         Toluene Column C670 Operation_Heat Duty_Condenser Heat Duty_Mkcal/hr  \\\n",
              "044-017                                          32.606651                      \n",
              "\n",
              "         Toluene Column C670 Operation_Heat Duty_Reboiler Heat Duty_Mkcal/hr  \\\n",
              "044-017                                          33.544247                     \n",
              "\n",
              "         Toluene Column C670 Operation_Column Temp Profile_C670 Tray 24 (Control)_oC  \\\n",
              "044-017                                         181.986862                             \n",
              "\n",
              "         Toluene Column C670 Operation_Column Temp Profile_C670 Btm Temp (Control)_oC  \n",
              "044-017                                         226.417694                             "
            ],
            "text/html": "<div>\n<style scoped>\n    .dataframe tbody tr th:only-of-type {\n        vertical-align: middle;\n    }\n\n    .dataframe tbody tr th {\n        vertical-align: top;\n    }\n\n    .dataframe thead th {\n        text-align: right;\n    }\n</style>\n<table border=\"1\" class=\"dataframe\">\n  <thead>\n    <tr style=\"text-align: right;\">\n      <th></th>\n      <th>Density_Distillate Production Rate and Composition</th>\n      <th>Density_Bottoms Production Rate and Composition</th>\n      <th>Toluene Column C670 Operation_Yield \\nSummary_Reflux Rate_m3/hr</th>\n      <th>Toluene Column C670 Operation_Heat Duty_Condenser Heat Duty_Mkcal/hr</th>\n      <th>Toluene Column C670 Operation_Heat Duty_Reboiler Heat Duty_Mkcal/hr</th>\n      <th>Toluene Column C670 Operation_Column Temp Profile_C670 Tray 24 (Control)_oC</th>\n      <th>Toluene Column C670 Operation_Column Temp Profile_C670 Btm Temp (Control)_oC</th>\n    </tr>\n  </thead>\n  <tbody>\n    <tr>\n      <th>044-017</th>\n      <td>0.870943</td>\n      <td>0.872529</td>\n      <td>297.448059</td>\n      <td>32.606651</td>\n      <td>33.544247</td>\n      <td>181.986862</td>\n      <td>226.417694</td>\n    </tr>\n  </tbody>\n</table>\n</div>"
          },
          "metadata": {},
          "execution_count": 10
        }
      ]
    }
  ]
}