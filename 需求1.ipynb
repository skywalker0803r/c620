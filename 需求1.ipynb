{
 "metadata": {
  "language_info": {
   "codemirror_mode": {
    "name": "ipython",
    "version": 3
   },
   "file_extension": ".py",
   "mimetype": "text/x-python",
   "name": "python",
   "nbconvert_exporter": "python",
   "pygments_lexer": "ipython3",
   "version": "3.8.5"
  },
  "orig_nbformat": 2,
  "kernelspec": {
   "name": "python385jvsc74a57bd02ccee5cc862501c1aad1cf19888c2a2eca4026b72d187db43d5e889cbdc6ee97",
   "display_name": "Python 3.8.5 64-bit ('base': conda)"
  }
 },
 "nbformat": 4,
 "nbformat_minor": 2,
 "cells": [
  {
   "cell_type": "code",
   "execution_count": 1,
   "metadata": {},
   "outputs": [],
   "source": [
    "import joblib\n",
    "from FV2 import AllSystem\n",
    "from configV2 import config\n",
    "demo = joblib.load('data/demo.pkl')\n",
    "f = joblib.load('model/allsystem.pkl')"
   ]
  },
  {
   "cell_type": "code",
   "execution_count": 2,
   "metadata": {},
   "outputs": [],
   "source": [
    "icg_input = demo['icg_input']\n",
    "c620_feed = demo['c620_feed']\n",
    "t651_feed = demo['t651_feed']"
   ]
  },
  {
   "cell_type": "code",
   "execution_count": 3,
   "metadata": {},
   "outputs": [
    {
     "output_type": "execute_result",
     "data": {
      "text/plain": [
       "         Simulation Case Conditions_Feed Rate_Feed from V615 Btm_m3/hr  \\\n",
       "139-017                                              200.0               \n",
       "\n",
       "         Simulation Case Conditions_Feed Rate_Feed from V615 Btm    NA_wt%  \\\n",
       "139-017                                           1.116023                   \n",
       "\n",
       "         Simulation Case Conditions_Feed Rate_Feed from V615 Btm    Benzene_wt%  \\\n",
       "139-017                                          11.152225                        \n",
       "\n",
       "         Simulation Case Conditions_Feed Rate_Feed from V615 Btm    Toluene_wt%  \\\n",
       "139-017                                          48.745979                        \n",
       "\n",
       "         Simulation Case Conditions_Feed Rate_Feed from C820 Dist_m3/hr  \\\n",
       "139-017                                               15.0                \n",
       "\n",
       "         Simulation Case Conditions_Feed Rate_Feed from C820 Dist    NA_wt%  \\\n",
       "139-017                                           2.338977                    \n",
       "\n",
       "         Simulation Case Conditions_Feed Rate_Feed from C820 Dist    Benzene_wt%  \\\n",
       "139-017                                          74.302254                         \n",
       "\n",
       "         Simulation Case Conditions_Feed Rate_Feed from C820 Dist    Toluene_wt%  \\\n",
       "139-017                                          17.467825                         \n",
       "\n",
       "         Simulation Case Conditions_Feed Rate_Feed from T651_m3/hr  \\\n",
       "139-017                                               32.0           \n",
       "\n",
       "         Simulation Case Conditions_Feed Rate_Feed from T651    NA_wt%  \\\n",
       "139-017                                             0.0911               \n",
       "\n",
       "         Simulation Case Conditions_Feed Rate_Feed from T651    Benzene_wt%  \\\n",
       "139-017                                          20.854397                    \n",
       "\n",
       "         Simulation Case Conditions_Feed Rate_Feed from T651    Toluene_wt%  \\\n",
       "139-017                                          74.689774                    \n",
       "\n",
       "         Simulation Case Conditions_Spec 1 : Benzene in C620 Sidedraw_wt%  \\\n",
       "139-017                                               80.0                  \n",
       "\n",
       "         Simulation Case Conditions_Spec 2 : NA in Benzene_ppmw  \\\n",
       "139-017                                              920.0        \n",
       "\n",
       "         Tatoray Stripper C620 Operation_Specifications_Spec 2 : Distillate Rate_m3/hr  \\\n",
       "139-017                                               2.75                               \n",
       "\n",
       "         Benzene Column C660 Operation_Specifications_Spec 3 : Toluene in Benzene_ppmw  \\\n",
       "139-017                                                2.5                               \n",
       "\n",
       "         Tatoray Stripper C620 Operation_Specifications_Spec 1 : Receiver Temp_oC  \n",
       "139-017                                               36.0                         "
      ],
      "text/html": "<div>\n<style scoped>\n    .dataframe tbody tr th:only-of-type {\n        vertical-align: middle;\n    }\n\n    .dataframe tbody tr th {\n        vertical-align: top;\n    }\n\n    .dataframe thead th {\n        text-align: right;\n    }\n</style>\n<table border=\"1\" class=\"dataframe\">\n  <thead>\n    <tr style=\"text-align: right;\">\n      <th></th>\n      <th>Simulation Case Conditions_Feed Rate_Feed from V615 Btm_m3/hr</th>\n      <th>Simulation Case Conditions_Feed Rate_Feed from V615 Btm    NA_wt%</th>\n      <th>Simulation Case Conditions_Feed Rate_Feed from V615 Btm    Benzene_wt%</th>\n      <th>Simulation Case Conditions_Feed Rate_Feed from V615 Btm    Toluene_wt%</th>\n      <th>Simulation Case Conditions_Feed Rate_Feed from C820 Dist_m3/hr</th>\n      <th>Simulation Case Conditions_Feed Rate_Feed from C820 Dist    NA_wt%</th>\n      <th>Simulation Case Conditions_Feed Rate_Feed from C820 Dist    Benzene_wt%</th>\n      <th>Simulation Case Conditions_Feed Rate_Feed from C820 Dist    Toluene_wt%</th>\n      <th>Simulation Case Conditions_Feed Rate_Feed from T651_m3/hr</th>\n      <th>Simulation Case Conditions_Feed Rate_Feed from T651    NA_wt%</th>\n      <th>Simulation Case Conditions_Feed Rate_Feed from T651    Benzene_wt%</th>\n      <th>Simulation Case Conditions_Feed Rate_Feed from T651    Toluene_wt%</th>\n      <th>Simulation Case Conditions_Spec 1 : Benzene in C620 Sidedraw_wt%</th>\n      <th>Simulation Case Conditions_Spec 2 : NA in Benzene_ppmw</th>\n      <th>Tatoray Stripper C620 Operation_Specifications_Spec 2 : Distillate Rate_m3/hr</th>\n      <th>Benzene Column C660 Operation_Specifications_Spec 3 : Toluene in Benzene_ppmw</th>\n      <th>Tatoray Stripper C620 Operation_Specifications_Spec 1 : Receiver Temp_oC</th>\n    </tr>\n  </thead>\n  <tbody>\n    <tr>\n      <th>139-017</th>\n      <td>200.0</td>\n      <td>1.116023</td>\n      <td>11.152225</td>\n      <td>48.745979</td>\n      <td>15.0</td>\n      <td>2.338977</td>\n      <td>74.302254</td>\n      <td>17.467825</td>\n      <td>32.0</td>\n      <td>0.0911</td>\n      <td>20.854397</td>\n      <td>74.689774</td>\n      <td>80.0</td>\n      <td>920.0</td>\n      <td>2.75</td>\n      <td>2.5</td>\n      <td>36.0</td>\n    </tr>\n  </tbody>\n</table>\n</div>"
     },
     "metadata": {},
     "execution_count": 3
    }
   ],
   "source": [
    "icg_input"
   ]
  },
  {
   "cell_type": "code",
   "execution_count": 4,
   "metadata": {},
   "outputs": [
    {
     "output_type": "execute_result",
     "data": {
      "text/plain": [
       "         Simulation Case Conditions_Feed Rate_Feed from T651_m3/hr\n",
       "139-017                                               32.0        "
      ],
      "text/html": "<div>\n<style scoped>\n    .dataframe tbody tr th:only-of-type {\n        vertical-align: middle;\n    }\n\n    .dataframe tbody tr th {\n        vertical-align: top;\n    }\n\n    .dataframe thead th {\n        text-align: right;\n    }\n</style>\n<table border=\"1\" class=\"dataframe\">\n  <thead>\n    <tr style=\"text-align: right;\">\n      <th></th>\n      <th>Simulation Case Conditions_Feed Rate_Feed from T651_m3/hr</th>\n    </tr>\n  </thead>\n  <tbody>\n    <tr>\n      <th>139-017</th>\n      <td>32.0</td>\n    </tr>\n  </tbody>\n</table>\n</div>"
     },
     "metadata": {},
     "execution_count": 4
    }
   ],
   "source": [
    "icg_input[['Simulation Case Conditions_Feed Rate_Feed from T651_m3/hr']]"
   ]
  },
  {
   "source": [
    "# 利用兩次試算的差異(當作調幅)達成推薦效果"
   ],
   "cell_type": "markdown",
   "metadata": {}
  },
  {
   "cell_type": "code",
   "execution_count": 5,
   "metadata": {},
   "outputs": [
    {
     "output_type": "stream",
     "name": "stdout",
     "text": [
      "設定Benzene in C620 Sidedraw_wt%=70\n"
     ]
    }
   ],
   "source": [
    "c620_wt1,c620_op1,c660_wt1,c660_op1,c670_wt1,c670_op1 = f.inference(icg_input.copy(),c620_feed.copy(),t651_feed.copy())\n",
    "\n",
    "icg_input2 = icg_input.copy()\n",
    "icg_input2['Simulation Case Conditions_Spec 2 : NA in Benzene_ppmw'] = 980\n",
    "\n",
    "#C620 BZ in SideDraw目標是越低越好(min 70%)，但若要消耗T651原料時(T651流量上升)，須將C620的測取BZ濃度目標值提升。\n",
    "#=> 影響C620 BZ in SideDraw 變數為 T651 flow。昨日副廠有提到T651流量大於150m3/hr時，C620測取苯濃度需操作在80 ~ 85%。\n",
    "#=>想法為 推薦功能中BZ in SideDraw 設定值為{if (T651_m3/hr >150[A]), BZ in SideDraw = 80[B]; (T651_m3/hr <150), BZ in SideDraw = 70 }，其中A 與B的確切數值請弘暉提供。\n",
    "if icg_input['Simulation Case Conditions_Feed Rate_Feed from T651_m3/hr'].values[0] > 150:\n",
    "    icg_input2['Simulation Case Conditions_Spec 1 : Benzene in C620 Sidedraw_wt%'] = 85\n",
    "    print('設定Benzene in C620 Sidedraw_wt%=85')\n",
    "else:\n",
    "    icg_input2['Simulation Case Conditions_Spec 1 : Benzene in C620 Sidedraw_wt%'] = 70\n",
    "    print('設定Benzene in C620 Sidedraw_wt%=70')\n",
    "icg_input2['Benzene Column C660 Operation_Specifications_Spec 3 : Toluene in Benzene_ppmw'] = 10\n",
    "\n",
    "c620_wt2,c620_op2,c660_wt2,c660_op2,c670_wt2,c670_op2 = f.inference(icg_input2.copy(),c620_feed.copy(),t651_feed.copy())"
   ]
  },
  {
   "source": [
    "# 推薦的c620溫度調幅"
   ],
   "cell_type": "markdown",
   "metadata": {}
  },
  {
   "cell_type": "code",
   "execution_count": 6,
   "metadata": {},
   "outputs": [
    {
     "output_type": "execute_result",
     "data": {
      "text/plain": [
       "         Tatoray Stripper C620 Operation_Column Temp Profile_C620 Tray 14 (Control)_oC  \\\n",
       "139-017                                           0.684555                               \n",
       "\n",
       "         Tatoray Stripper C620 Operation_Column Temp Profile_C620 Tray 34 (Control)_oC  \n",
       "139-017                                           0.471985                              "
      ],
      "text/html": "<div>\n<style scoped>\n    .dataframe tbody tr th:only-of-type {\n        vertical-align: middle;\n    }\n\n    .dataframe tbody tr th {\n        vertical-align: top;\n    }\n\n    .dataframe thead th {\n        text-align: right;\n    }\n</style>\n<table border=\"1\" class=\"dataframe\">\n  <thead>\n    <tr style=\"text-align: right;\">\n      <th></th>\n      <th>Tatoray Stripper C620 Operation_Column Temp Profile_C620 Tray 14 (Control)_oC</th>\n      <th>Tatoray Stripper C620 Operation_Column Temp Profile_C620 Tray 34 (Control)_oC</th>\n    </tr>\n  </thead>\n  <tbody>\n    <tr>\n      <th>139-017</th>\n      <td>0.684555</td>\n      <td>0.471985</td>\n    </tr>\n  </tbody>\n</table>\n</div>"
     },
     "metadata": {},
     "execution_count": 6
    }
   ],
   "source": [
    "(c620_op2-c620_op1).iloc[:,-2:]"
   ]
  },
  {
   "cell_type": "code",
   "execution_count": null,
   "metadata": {},
   "outputs": [],
   "source": []
  }
 ]
}