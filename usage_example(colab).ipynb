{
  "nbformat": 4,
  "nbformat_minor": 0,
  "metadata": {
    "colab": {
      "name": "usage_example.ipynb",
      "provenance": [],
      "mount_file_id": "1EkEB-qXjPRmudXTmuHHtlwsWr1V9Wzxh",
      "authorship_tag": "ABX9TyNbIpzWDoGOsMnmnrZcIYGM",
      "include_colab_link": true
    },
    "kernelspec": {
      "name": "python3",
      "display_name": "Python 3"
    }
  },
  "cells": [
    {
      "cell_type": "markdown",
      "metadata": {
        "id": "view-in-github",
        "colab_type": "text"
      },
      "source": [
        "<a href=\"https://colab.research.google.com/github/skywalker0803r/c620/blob/main/usage_example(colab).ipynb\" target=\"_parent\"><img src=\"https://colab.research.google.com/assets/colab-badge.svg\" alt=\"Open In Colab\"/></a>"
      ]
    },
    {
      "cell_type": "markdown",
      "metadata": {
        "id": "geeed9roqKSP"
      },
      "source": [
        "# install"
      ]
    },
    {
      "cell_type": "code",
      "metadata": {
        "colab": {
          "base_uri": "https://localhost:8080/"
        },
        "id": "yoR0u4yuiWnd",
        "outputId": "ba621b9b-f35c-4db3-a687-5def1026d58c"
      },
      "source": [
        "!git clone https://github.com/skywalker0803r/c620.git\n",
        "!pip install autorch > log.txt"
      ],
      "execution_count": 21,
      "outputs": [
        {
          "output_type": "stream",
          "text": [
            "Cloning into 'c620'...\n",
            "remote: Enumerating objects: 2118, done.\u001b[K\n",
            "remote: Counting objects: 100% (936/936), done.\u001b[K\n",
            "remote: Compressing objects: 100% (478/478), done.\u001b[K\n",
            "remote: Total 2118 (delta 613), reused 686 (delta 449), pack-reused 1182\u001b[K\n",
            "Receiving objects: 100% (2118/2118), 49.72 MiB | 21.80 MiB/s, done.\n",
            "Resolving deltas: 100% (1391/1391), done.\n"
          ],
          "name": "stdout"
        }
      ]
    },
    {
      "cell_type": "markdown",
      "metadata": {
        "id": "ZybB7ygZqJLM"
      },
      "source": [
        "# import "
      ]
    },
    {
      "cell_type": "code",
      "metadata": {
        "colab": {
          "base_uri": "https://localhost:8080/"
        },
        "id": "FFcAtS_vixO-",
        "outputId": "7ecbc109-021e-42c2-e498-a68e2435a01d"
      },
      "source": [
        "from c620.F import F\n",
        "from c620.config import config\n",
        "import joblib\n",
        "import numpy as np\n",
        "import pandas as pd\n",
        "import os\n",
        "os.chdir('/content/c620')\n",
        "print(os.getcwd())\n",
        "!git pull"
      ],
      "execution_count": 22,
      "outputs": [
        {
          "output_type": "stream",
          "text": [
            "/content/c620\n",
            "Already up to date.\n"
          ],
          "name": "stdout"
        }
      ]
    },
    {
      "cell_type": "markdown",
      "metadata": {
        "id": "Rp5Lg6bn1hwk"
      },
      "source": [
        "# functions"
      ]
    },
    {
      "cell_type": "code",
      "metadata": {
        "id": "q2D2f8bw1gxm"
      },
      "source": [
        "def check_two_data(d1,d2):\n",
        "  if np.allclose(d1.values,d2.values):\n",
        "    print('一樣')\n",
        "  else:\n",
        "    print('不一樣')"
      ],
      "execution_count": 23,
      "outputs": []
    },
    {
      "cell_type": "markdown",
      "metadata": {
        "id": "7Wjx-_s0qM0G"
      },
      "source": [
        "# demo data"
      ]
    },
    {
      "cell_type": "code",
      "metadata": {
        "id": "pXE2zrcYKIQK",
        "colab": {
          "base_uri": "https://localhost:8080/",
          "height": 694
        },
        "outputId": "ff51c7d3-7a4b-4de7-92d0-d925b6c190db"
      },
      "source": [
        "tag = 'test001'\n",
        "demo = joblib.load('./data/demo(real_data).pkl')\n",
        "print(demo.keys())\n",
        "\n",
        "icg_input = demo['icg_input']\n",
        "c620_feed = demo['c620_feed']\n",
        "t651_feed = demo['t651_feed']\n",
        "\n",
        "icg_input"
      ],
      "execution_count": 24,
      "outputs": [
        {
          "output_type": "stream",
          "text": [
            "dict_keys(['icg_input', 'c620_feed', 't651_feed', 'c620_op', 'c660_op', 'c670_op', 'c620_wt', 'c660_wt', 'c670_wt'])\n"
          ],
          "name": "stdout"
        },
        {
          "output_type": "execute_result",
          "data": {
            "text/html": [
              "<div>\n",
              "<style scoped>\n",
              "    .dataframe tbody tr th:only-of-type {\n",
              "        vertical-align: middle;\n",
              "    }\n",
              "\n",
              "    .dataframe tbody tr th {\n",
              "        vertical-align: top;\n",
              "    }\n",
              "\n",
              "    .dataframe thead th {\n",
              "        text-align: right;\n",
              "    }\n",
              "</style>\n",
              "<table border=\"1\" class=\"dataframe\">\n",
              "  <thead>\n",
              "    <tr style=\"text-align: right;\">\n",
              "      <th></th>\n",
              "      <th>Simulation Case Conditions_Feed Rate_Feed from V615 Btm_m3/hr</th>\n",
              "      <th>Simulation Case Conditions_Feed Rate_Feed from V615 Btm    NA_wt%</th>\n",
              "      <th>Simulation Case Conditions_Feed Rate_Feed from V615 Btm    Benzene_wt%</th>\n",
              "      <th>Simulation Case Conditions_Feed Rate_Feed from V615 Btm    Toluene_wt%</th>\n",
              "      <th>Simulation Case Conditions_Feed Rate_Feed from C820 Dist_m3/hr</th>\n",
              "      <th>Simulation Case Conditions_Feed Rate_Feed from C820 Dist    NA_wt%</th>\n",
              "      <th>Simulation Case Conditions_Feed Rate_Feed from C820 Dist    Benzene_wt%</th>\n",
              "      <th>Simulation Case Conditions_Feed Rate_Feed from C820 Dist    Toluene_wt%</th>\n",
              "      <th>Simulation Case Conditions_Feed Rate_Feed from T651_m3/hr</th>\n",
              "      <th>Simulation Case Conditions_Feed Rate_Feed from T651    NA_wt%</th>\n",
              "      <th>Simulation Case Conditions_Feed Rate_Feed from T651    Benzene_wt%</th>\n",
              "      <th>Simulation Case Conditions_Feed Rate_Feed from T651    Toluene_wt%</th>\n",
              "      <th>Simulation Case Conditions_Spec 1 : Benzene in C620 Sidedraw_wt%</th>\n",
              "      <th>Simulation Case Conditions_Spec 2 : NA in Benzene_ppmw</th>\n",
              "      <th>Tatoray Stripper C620 Operation_Specifications_Spec 2 : Distillate Rate_m3/hr</th>\n",
              "      <th>Benzene Column C660 Operation_Specifications_Spec 3 : Toluene in Benzene_ppmw</th>\n",
              "      <th>Tatoray Stripper C620 Operation_Specifications_Spec 1 : Receiver Temp_oC</th>\n",
              "    </tr>\n",
              "  </thead>\n",
              "  <tbody>\n",
              "    <tr>\n",
              "      <th>2021-02-13</th>\n",
              "      <td>182.727005</td>\n",
              "      <td>2.0600</td>\n",
              "      <td>11.670</td>\n",
              "      <td>37.270</td>\n",
              "      <td>17.901134</td>\n",
              "      <td>2.3700</td>\n",
              "      <td>68.700</td>\n",
              "      <td>21.000</td>\n",
              "      <td>98.045372</td>\n",
              "      <td>0.6650</td>\n",
              "      <td>43.532</td>\n",
              "      <td>42.478</td>\n",
              "      <td>87.140</td>\n",
              "      <td>838.0</td>\n",
              "      <td>0.0</td>\n",
              "      <td>29.0</td>\n",
              "      <td>40.842743</td>\n",
              "    </tr>\n",
              "    <tr>\n",
              "      <th>2021-02-05</th>\n",
              "      <td>179.608627</td>\n",
              "      <td>2.1650</td>\n",
              "      <td>12.377</td>\n",
              "      <td>38.074</td>\n",
              "      <td>18.646059</td>\n",
              "      <td>3.0880</td>\n",
              "      <td>66.645</td>\n",
              "      <td>22.216</td>\n",
              "      <td>96.942879</td>\n",
              "      <td>0.7025</td>\n",
              "      <td>43.370</td>\n",
              "      <td>42.201</td>\n",
              "      <td>85.878</td>\n",
              "      <td>800.0</td>\n",
              "      <td>0.0</td>\n",
              "      <td>16.0</td>\n",
              "      <td>40.885593</td>\n",
              "    </tr>\n",
              "    <tr>\n",
              "      <th>2020-12-04</th>\n",
              "      <td>166.107956</td>\n",
              "      <td>2.1510</td>\n",
              "      <td>12.047</td>\n",
              "      <td>37.287</td>\n",
              "      <td>19.038383</td>\n",
              "      <td>3.4740</td>\n",
              "      <td>65.729</td>\n",
              "      <td>19.557</td>\n",
              "      <td>99.873688</td>\n",
              "      <td>0.6486</td>\n",
              "      <td>43.878</td>\n",
              "      <td>42.602</td>\n",
              "      <td>86.102</td>\n",
              "      <td>805.0</td>\n",
              "      <td>0.0</td>\n",
              "      <td>35.0</td>\n",
              "      <td>39.059292</td>\n",
              "    </tr>\n",
              "    <tr>\n",
              "      <th>2020-11-26</th>\n",
              "      <td>169.727284</td>\n",
              "      <td>1.3600</td>\n",
              "      <td>12.000</td>\n",
              "      <td>37.630</td>\n",
              "      <td>18.240871</td>\n",
              "      <td>3.0000</td>\n",
              "      <td>66.560</td>\n",
              "      <td>21.430</td>\n",
              "      <td>92.989864</td>\n",
              "      <td>0.6610</td>\n",
              "      <td>43.786</td>\n",
              "      <td>41.398</td>\n",
              "      <td>86.390</td>\n",
              "      <td>749.0</td>\n",
              "      <td>0.0</td>\n",
              "      <td>19.0</td>\n",
              "      <td>41.073098</td>\n",
              "    </tr>\n",
              "    <tr>\n",
              "      <th>2020-11-16</th>\n",
              "      <td>176.370055</td>\n",
              "      <td>1.8370</td>\n",
              "      <td>11.857</td>\n",
              "      <td>37.198</td>\n",
              "      <td>17.663765</td>\n",
              "      <td>2.6220</td>\n",
              "      <td>66.132</td>\n",
              "      <td>21.395</td>\n",
              "      <td>98.291358</td>\n",
              "      <td>0.5919</td>\n",
              "      <td>44.655</td>\n",
              "      <td>42.658</td>\n",
              "      <td>92.836</td>\n",
              "      <td>738.0</td>\n",
              "      <td>0.0</td>\n",
              "      <td>32.0</td>\n",
              "      <td>43.761401</td>\n",
              "    </tr>\n",
              "    <tr>\n",
              "      <th>...</th>\n",
              "      <td>...</td>\n",
              "      <td>...</td>\n",
              "      <td>...</td>\n",
              "      <td>...</td>\n",
              "      <td>...</td>\n",
              "      <td>...</td>\n",
              "      <td>...</td>\n",
              "      <td>...</td>\n",
              "      <td>...</td>\n",
              "      <td>...</td>\n",
              "      <td>...</td>\n",
              "      <td>...</td>\n",
              "      <td>...</td>\n",
              "      <td>...</td>\n",
              "      <td>...</td>\n",
              "      <td>...</td>\n",
              "      <td>...</td>\n",
              "    </tr>\n",
              "    <tr>\n",
              "      <th>2021-01-03</th>\n",
              "      <td>179.751343</td>\n",
              "      <td>1.3600</td>\n",
              "      <td>11.500</td>\n",
              "      <td>37.000</td>\n",
              "      <td>18.112499</td>\n",
              "      <td>2.1900</td>\n",
              "      <td>69.510</td>\n",
              "      <td>19.010</td>\n",
              "      <td>104.812675</td>\n",
              "      <td>0.5970</td>\n",
              "      <td>46.987</td>\n",
              "      <td>39.682</td>\n",
              "      <td>85.740</td>\n",
              "      <td>579.0</td>\n",
              "      <td>0.0</td>\n",
              "      <td>52.0</td>\n",
              "      <td>39.083649</td>\n",
              "    </tr>\n",
              "    <tr>\n",
              "      <th>2020-12-05</th>\n",
              "      <td>176.814285</td>\n",
              "      <td>1.9710</td>\n",
              "      <td>12.018</td>\n",
              "      <td>37.289</td>\n",
              "      <td>19.088993</td>\n",
              "      <td>3.3900</td>\n",
              "      <td>66.171</td>\n",
              "      <td>20.551</td>\n",
              "      <td>96.033325</td>\n",
              "      <td>0.6312</td>\n",
              "      <td>43.357</td>\n",
              "      <td>43.284</td>\n",
              "      <td>85.918</td>\n",
              "      <td>795.0</td>\n",
              "      <td>0.0</td>\n",
              "      <td>33.0</td>\n",
              "      <td>40.796818</td>\n",
              "    </tr>\n",
              "    <tr>\n",
              "      <th>2021-01-29</th>\n",
              "      <td>168.094742</td>\n",
              "      <td>2.1770</td>\n",
              "      <td>12.611</td>\n",
              "      <td>38.067</td>\n",
              "      <td>19.249239</td>\n",
              "      <td>2.3479</td>\n",
              "      <td>69.407</td>\n",
              "      <td>19.462</td>\n",
              "      <td>104.291405</td>\n",
              "      <td>0.5800</td>\n",
              "      <td>44.610</td>\n",
              "      <td>42.030</td>\n",
              "      <td>90.047</td>\n",
              "      <td>692.0</td>\n",
              "      <td>0.0</td>\n",
              "      <td>44.0</td>\n",
              "      <td>35.294071</td>\n",
              "    </tr>\n",
              "    <tr>\n",
              "      <th>2020-09-13</th>\n",
              "      <td>170.544997</td>\n",
              "      <td>1.9050</td>\n",
              "      <td>10.267</td>\n",
              "      <td>35.719</td>\n",
              "      <td>12.889589</td>\n",
              "      <td>2.8940</td>\n",
              "      <td>73.021</td>\n",
              "      <td>19.166</td>\n",
              "      <td>62.388201</td>\n",
              "      <td>0.5200</td>\n",
              "      <td>35.900</td>\n",
              "      <td>53.680</td>\n",
              "      <td>88.119</td>\n",
              "      <td>858.0</td>\n",
              "      <td>0.0</td>\n",
              "      <td>2.0</td>\n",
              "      <td>40.121723</td>\n",
              "    </tr>\n",
              "    <tr>\n",
              "      <th>2020-09-28</th>\n",
              "      <td>167.967439</td>\n",
              "      <td>1.4358</td>\n",
              "      <td>10.325</td>\n",
              "      <td>35.965</td>\n",
              "      <td>13.809748</td>\n",
              "      <td>2.9417</td>\n",
              "      <td>74.103</td>\n",
              "      <td>18.319</td>\n",
              "      <td>58.818240</td>\n",
              "      <td>0.3760</td>\n",
              "      <td>35.403</td>\n",
              "      <td>55.329</td>\n",
              "      <td>90.502</td>\n",
              "      <td>853.0</td>\n",
              "      <td>0.0</td>\n",
              "      <td>0.0</td>\n",
              "      <td>41.446043</td>\n",
              "    </tr>\n",
              "  </tbody>\n",
              "</table>\n",
              "<p>168 rows × 17 columns</p>\n",
              "</div>"
            ],
            "text/plain": [
              "            Simulation Case Conditions_Feed Rate_Feed from V615 Btm_m3/hr  ...  Tatoray Stripper C620 Operation_Specifications_Spec 1 : Receiver Temp_oC\n",
              "2021-02-13                                         182.727005              ...                                          40.842743                       \n",
              "2021-02-05                                         179.608627              ...                                          40.885593                       \n",
              "2020-12-04                                         166.107956              ...                                          39.059292                       \n",
              "2020-11-26                                         169.727284              ...                                          41.073098                       \n",
              "2020-11-16                                         176.370055              ...                                          43.761401                       \n",
              "...                                                       ...              ...                                                ...                       \n",
              "2021-01-03                                         179.751343              ...                                          39.083649                       \n",
              "2020-12-05                                         176.814285              ...                                          40.796818                       \n",
              "2021-01-29                                         168.094742              ...                                          35.294071                       \n",
              "2020-09-13                                         170.544997              ...                                          40.121723                       \n",
              "2020-09-28                                         167.967439              ...                                          41.446043                       \n",
              "\n",
              "[168 rows x 17 columns]"
            ]
          },
          "metadata": {
            "tags": []
          },
          "execution_count": 24
        }
      ]
    },
    {
      "cell_type": "code",
      "metadata": {
        "id": "XC08SG4Pz0Dv"
      },
      "source": [
        "idx1 = icg_input.index[0]\n",
        "idx2 = icg_input.index[1]"
      ],
      "execution_count": 25,
      "outputs": []
    },
    {
      "cell_type": "markdown",
      "metadata": {
        "id": "x0R2vs4I1YBQ"
      },
      "source": [
        "# 1.確保給定不同的輸入 會有不同的輸出"
      ]
    },
    {
      "cell_type": "code",
      "metadata": {
        "id": "Qa-lHXhJjI8M",
        "colab": {
          "base_uri": "https://localhost:8080/"
        },
        "outputId": "05df8790-6c39-46d4-fbae-b2f5cefcb25e"
      },
      "source": [
        "f = F(config)\n",
        "f.Recommended_mode = True #(True or False)\n",
        "f.real_data_mode = True\n",
        "f._Post_processing = False\n",
        "\n",
        "# 輸入1\n",
        "c620_wt1,c620_op1,c660_wt1,c660_op1,c670_wt1,c670_op1 = f(icg_input.loc[[idx1]],c620_feed.loc[[idx1]],t651_feed.loc[[idx1]])\n",
        "\n",
        "# 輸入2\n",
        "c620_wt2,c620_op2,c660_wt2,c660_op2,c670_wt2,c670_op2 = f(icg_input.loc[[idx2]],c620_feed.loc[[idx2]],t651_feed.loc[[idx2]])"
      ],
      "execution_count": 26,
      "outputs": [
        {
          "output_type": "stream",
          "text": [
            "current Distillate Rate_m3/hr:0.24963613313555788 NA in Benzene_ppmw:980.0\n",
            "current Distillate Rate_m3/hr:0.2512798362961229 NA in Benzene_ppmw:980.0\n"
          ],
          "name": "stdout"
        }
      ]
    },
    {
      "cell_type": "code",
      "metadata": {
        "colab": {
          "base_uri": "https://localhost:8080/"
        },
        "id": "BofcSOZQpU3v",
        "outputId": "1b34a1e8-bdd9-4bb6-8c10-053549882de4"
      },
      "source": [
        "check_two_data(c620_wt1,c620_wt2)\n",
        "check_two_data(c620_op1,c620_op2)\n",
        "check_two_data(c660_wt1,c660_wt2)\n",
        "check_two_data(c660_op1,c660_op2)\n",
        "check_two_data(c670_wt1,c670_wt2)\n",
        "check_two_data(c670_op1,c670_op2)"
      ],
      "execution_count": 27,
      "outputs": [
        {
          "output_type": "stream",
          "text": [
            "不一樣\n",
            "不一樣\n",
            "不一樣\n",
            "不一樣\n",
            "不一樣\n",
            "不一樣\n"
          ],
          "name": "stdout"
        }
      ]
    },
    {
      "cell_type": "markdown",
      "metadata": {
        "id": "uQaOrbU918kJ"
      },
      "source": [
        "# 2.確保變更模式 推薦 和 試算 模式 有不同的輸出"
      ]
    },
    {
      "cell_type": "code",
      "metadata": {
        "id": "aQKOHeWVpZyO",
        "colab": {
          "base_uri": "https://localhost:8080/"
        },
        "outputId": "476aaf21-1221-4a7a-c7b2-8d7e16385882"
      },
      "source": [
        "# 試算模式\n",
        "f.Recommended_mode = False #(True or False)\n",
        "c620_wt1,c620_op1,c660_wt1,c660_op1,c670_wt1,c670_op1 = f(icg_input.loc[[idx1]],c620_feed.loc[[idx1]],t651_feed.loc[[idx1]])\n",
        "\n",
        "# 推薦模式\n",
        "f.Recommended_mode = True #(True or False)\n",
        "c620_wt2,c620_op2,c660_wt2,c660_op2,c670_wt2,c670_op2 = f(icg_input.loc[[idx1]],c620_feed.loc[[idx1]],t651_feed.loc[[idx1]])"
      ],
      "execution_count": 28,
      "outputs": [
        {
          "output_type": "stream",
          "text": [
            "current Distillate Rate_m3/hr:0.24963613313555788 NA in Benzene_ppmw:980.0\n"
          ],
          "name": "stdout"
        }
      ]
    },
    {
      "cell_type": "code",
      "metadata": {
        "id": "MhYvVp9V1w7_",
        "colab": {
          "base_uri": "https://localhost:8080/"
        },
        "outputId": "b6320b92-aa65-4010-bc09-7e736f42edfa"
      },
      "source": [
        "check_two_data(c620_wt1,c620_wt2)\n",
        "check_two_data(c620_op1,c620_op2)\n",
        "check_two_data(c660_wt1,c660_wt2)\n",
        "check_two_data(c660_op1,c660_op2)\n",
        "check_two_data(c670_wt1,c670_wt2)\n",
        "check_two_data(c670_op1,c670_op2)"
      ],
      "execution_count": 29,
      "outputs": [
        {
          "output_type": "stream",
          "text": [
            "不一樣\n",
            "不一樣\n",
            "不一樣\n",
            "不一樣\n",
            "不一樣\n",
            "不一樣\n"
          ],
          "name": "stdout"
        }
      ]
    },
    {
      "cell_type": "markdown",
      "metadata": {
        "id": "b-f7gz0bzJTU"
      },
      "source": [
        "# 確認icg_input 對應到後續系統的輸出值一致 主要有兩項要一致\n",
        "* 1.benzene in c620 side\n",
        "* 2.na in benzene"
      ]
    },
    {
      "cell_type": "code",
      "metadata": {
        "id": "2yPjX8QM2gej",
        "colab": {
          "base_uri": "https://localhost:8080/"
        },
        "outputId": "16736914-9293-48fd-a5d4-246d8e56089c"
      },
      "source": [
        "# 真實數據 試算模式\n",
        "print(icg_input.loc[[idx1],['Simulation Case Conditions_Spec 1 : Benzene in C620 Sidedraw_wt%']])\n",
        "print(icg_input.loc[[idx1],['Simulation Case Conditions_Spec 2 : NA in Benzene_ppmw']])\n",
        "f.Recommended_mode = False #(True or False)\n",
        "f.real_data_mode = True\n",
        "c620_wt1,c620_op1,c660_wt1,c660_op1,c670_wt1,c670_op1 = f(icg_input.loc[[idx1]],c620_feed.loc[[idx1]],t651_feed.loc[[idx1]])\n",
        "print(c620_wt1.filter(regex='Sidedraw Production Rate and Composition_Benzene_wt%'))\n",
        "naidx = [1,2,3,4,5,6,8,9,11,13,14,15,20,22,29]\n",
        "c660_wt1.filter(regex='Sidedraw').iloc[:,naidx].sum(axis=1)*10000"
      ],
      "execution_count": 30,
      "outputs": [
        {
          "output_type": "stream",
          "text": [
            "            Simulation Case Conditions_Spec 1 : Benzene in C620 Sidedraw_wt%\n",
            "2021-02-13                                              87.14               \n",
            "            Simulation Case Conditions_Spec 2 : NA in Benzene_ppmw\n",
            "2021-02-13                                              838.0     \n",
            "            Tatoray Stripper C620 Operation_Sidedraw Production Rate and Composition_Benzene_wt%\n",
            "2021-02-13                                          72.465913                                   \n"
          ],
          "name": "stdout"
        },
        {
          "output_type": "execute_result",
          "data": {
            "text/plain": [
              "2021-02-13    1008.216586\n",
              "dtype: float64"
            ]
          },
          "metadata": {
            "tags": []
          },
          "execution_count": 30
        }
      ]
    },
    {
      "cell_type": "code",
      "metadata": {
        "id": "88D0asqGzV8C",
        "colab": {
          "base_uri": "https://localhost:8080/"
        },
        "outputId": "5df1fc00-38a2-4bcf-a17e-061c7cbb33ac"
      },
      "source": [
        "# 真實數據 推薦模式\n",
        "print(icg_input.loc[[idx1],['Simulation Case Conditions_Spec 1 : Benzene in C620 Sidedraw_wt%']])\n",
        "print(icg_input.loc[[idx1],['Simulation Case Conditions_Spec 2 : NA in Benzene_ppmw']])\n",
        "f.Recommended_mode = True #(True or False)\n",
        "f.real_data_mode = True\n",
        "c620_wt1,c620_op1,c660_wt1,c660_op1,c670_wt1,c670_op1 = f(icg_input.loc[[idx1]],c620_feed.loc[[idx1]],t651_feed.loc[[idx1]])\n",
        "print(c620_wt1.filter(regex='Sidedraw Production Rate and Composition_Benzene_wt%'))\n",
        "naidx = [1,2,3,4,5,6,8,9,11,13,14,15,20,22,29]\n",
        "c660_wt1.filter(regex='Sidedraw').iloc[:,naidx].sum(axis=1)*10000"
      ],
      "execution_count": 31,
      "outputs": [
        {
          "output_type": "stream",
          "text": [
            "            Simulation Case Conditions_Spec 1 : Benzene in C620 Sidedraw_wt%\n",
            "2021-02-13                                              87.14               \n",
            "            Simulation Case Conditions_Spec 2 : NA in Benzene_ppmw\n",
            "2021-02-13                                              838.0     \n",
            "current Distillate Rate_m3/hr:0.24963613313555788 NA in Benzene_ppmw:980.0\n",
            "            Tatoray Stripper C620 Operation_Sidedraw Production Rate and Composition_Benzene_wt%\n",
            "2021-02-13                                          70.263429                                   \n"
          ],
          "name": "stdout"
        },
        {
          "output_type": "execute_result",
          "data": {
            "text/plain": [
              "2021-02-13    1034.569967\n",
              "dtype: float64"
            ]
          },
          "metadata": {
            "tags": []
          },
          "execution_count": 31
        }
      ]
    },
    {
      "cell_type": "code",
      "metadata": {
        "id": "HsoRz6szuTm5"
      },
      "source": [
        ""
      ],
      "execution_count": 31,
      "outputs": []
    },
    {
      "cell_type": "code",
      "metadata": {
        "id": "1VsAT8yyzYVf",
        "colab": {
          "base_uri": "https://localhost:8080/"
        },
        "outputId": "780f88b5-f50e-4528-fbe7-56d0b47ea73a"
      },
      "source": [
        "# 模擬數據 試算模式\n",
        "demo = joblib.load('./data/demo.pkl')\n",
        "icg_input = demo['icg_input']\n",
        "c620_feed = demo['c620_feed']\n",
        "t651_feed = demo['t651_feed']\n",
        "idx1 = icg_input.index[0]\n",
        "print(icg_input.loc[[idx1],['Simulation Case Conditions_Spec 1 : Benzene in C620 Sidedraw_wt%']])\n",
        "print(icg_input.loc[[idx1],['Simulation Case Conditions_Spec 2 : NA in Benzene_ppmw']])\n",
        "print(icg_input.loc[[idx1],['Benzene Column C660 Operation_Specifications_Spec 3 : Toluene in Benzene_ppmw']])\n",
        "f.Recommended_mode = False #(True or False)\n",
        "f.real_data_mode = False\n",
        "c620_wt1,c620_op1,c660_wt1,c660_op1,c670_wt1,c670_op1 = f(icg_input.loc[[idx1]],c620_feed.loc[[idx1]],t651_feed.loc[[idx1]])\n",
        "print(c620_wt1.filter(regex='Sidedraw Production Rate and Composition_Benzene_wt%'))\n",
        "naidx = [1,2,3,4,5,6,8,9,11,13,14,15,20,22,29]\n",
        "print(c660_wt1.filter(regex='Sidedraw').iloc[:,naidx].sum(axis=1)*10000)\n",
        "print(c660_wt1['Benzene Column C660 Operation_Sidedraw (Benzene )Production Rate and Composition_Toluene_wt%'].values[0]*10000)"
      ],
      "execution_count": 32,
      "outputs": [
        {
          "output_type": "stream",
          "text": [
            "         Simulation Case Conditions_Spec 1 : Benzene in C620 Sidedraw_wt%\n",
            "140-023                                                 70               \n",
            "         Simulation Case Conditions_Spec 2 : NA in Benzene_ppmw\n",
            "140-023                                                980     \n",
            "         Benzene Column C660 Operation_Specifications_Spec 3 : Toluene in Benzene_ppmw\n",
            "140-023                                                 10                            \n",
            "         Tatoray Stripper C620 Operation_Sidedraw Production Rate and Composition_Benzene_wt%\n",
            "140-023                                          74.690655                                   \n",
            "140-023    942.814055\n",
            "dtype: float64\n",
            "9.144456475954835\n"
          ],
          "name": "stdout"
        }
      ]
    },
    {
      "cell_type": "code",
      "metadata": {
        "id": "6SDzOwL1zgCP",
        "colab": {
          "base_uri": "https://localhost:8080/"
        },
        "outputId": "dab358ed-b4a4-48df-fd9f-f7867d99e183"
      },
      "source": [
        "# 模擬數據 推薦模式\n",
        "demo = joblib.load('./data/demo.pkl')\n",
        "icg_input = demo['icg_input']\n",
        "c620_feed = demo['c620_feed']\n",
        "t651_feed = demo['t651_feed']\n",
        "idx1 = icg_input.index[0]\n",
        "print(icg_input.loc[[idx1],['Simulation Case Conditions_Spec 1 : Benzene in C620 Sidedraw_wt%']])\n",
        "print(icg_input.loc[[idx1],['Simulation Case Conditions_Spec 2 : NA in Benzene_ppmw']])\n",
        "print(icg_input.loc[[idx1],['Benzene Column C660 Operation_Specifications_Spec 3 : Toluene in Benzene_ppmw']])\n",
        "f.Recommended_mode = True #(True or False)\n",
        "f.real_data_mode = False\n",
        "c620_wt1,c620_op1,c660_wt1,c660_op1,c670_wt1,c670_op1 = f(icg_input.loc[[idx1]],c620_feed.loc[[idx1]],t651_feed.loc[[idx1]])\n",
        "print(c620_wt1.filter(regex='Sidedraw Production Rate and Composition_Benzene_wt%'))\n",
        "naidx = [1,2,3,4,5,6,8,9,11,13,14,15,20,22,29]\n",
        "print(c660_wt1.filter(regex='Sidedraw').iloc[:,naidx].sum(axis=1)*10000)\n",
        "print(c660_wt1['Benzene Column C660 Operation_Sidedraw (Benzene )Production Rate and Composition_Toluene_wt%'].values[0]*10000)"
      ],
      "execution_count": 33,
      "outputs": [
        {
          "output_type": "stream",
          "text": [
            "         Simulation Case Conditions_Spec 1 : Benzene in C620 Sidedraw_wt%\n",
            "140-023                                                 70               \n",
            "         Simulation Case Conditions_Spec 2 : NA in Benzene_ppmw\n",
            "140-023                                                980     \n",
            "         Benzene Column C660 Operation_Specifications_Spec 3 : Toluene in Benzene_ppmw\n",
            "140-023                                                 10                            \n",
            "current Distillate Rate_m3/hr:0.896723051205885 NA in Benzene_ppmw:980.0\n",
            "         Tatoray Stripper C620 Operation_Sidedraw Production Rate and Composition_Benzene_wt%\n",
            "140-023                                          74.542048                                   \n",
            "140-023    942.854657\n",
            "dtype: float64\n",
            "9.140959978884695\n"
          ],
          "name": "stdout"
        }
      ]
    },
    {
      "cell_type": "markdown",
      "metadata": {
        "id": "66bNCytF4k_D"
      },
      "source": [
        "# 操作條件預測太準的問題"
      ]
    },
    {
      "cell_type": "code",
      "metadata": {
        "id": "Mq7G0zRez7X1",
        "colab": {
          "base_uri": "https://localhost:8080/"
        },
        "outputId": "189fd225-d3e2-4e7d-b111-e20ef2c26e51"
      },
      "source": [
        "demo = joblib.load('./data/demo(real_data).pkl')\n",
        "print(demo.keys())\n",
        "idx = demo['icg_input'].sample(1).index[0]\n",
        "f.Recommended_mode = True #(True or False)\n",
        "f.real_data_mode = True\n",
        "f._linear_model = False\n",
        "c620_wt,c620_op,c660_wt,c660_op,c670_wt,c670_op = f(demo['icg_input'].loc[[idx]],demo['c620_feed'].loc[[idx]],demo['t651_feed'].loc[[idx]])"
      ],
      "execution_count": 34,
      "outputs": [
        {
          "output_type": "stream",
          "text": [
            "dict_keys(['icg_input', 'c620_feed', 't651_feed', 'c620_op', 'c660_op', 'c670_op', 'c620_wt', 'c660_wt', 'c670_wt'])\n",
            "current Distillate Rate_m3/hr:0.28197995176671037 NA in Benzene_ppmw:980.0\n"
          ],
          "name": "stdout"
        }
      ]
    },
    {
      "cell_type": "code",
      "metadata": {
        "id": "QylCqWYK5Zxi",
        "colab": {
          "base_uri": "https://localhost:8080/",
          "height": 111
        },
        "outputId": "079de8a7-93e7-4b65-c654-b4432886290d"
      },
      "source": [
        "pd.concat([c620_op.iloc[:,-2:],demo['c620_op'].loc[[idx]].iloc[:,-2:]],axis=0)"
      ],
      "execution_count": 35,
      "outputs": [
        {
          "output_type": "execute_result",
          "data": {
            "text/html": [
              "<div>\n",
              "<style scoped>\n",
              "    .dataframe tbody tr th:only-of-type {\n",
              "        vertical-align: middle;\n",
              "    }\n",
              "\n",
              "    .dataframe tbody tr th {\n",
              "        vertical-align: top;\n",
              "    }\n",
              "\n",
              "    .dataframe thead th {\n",
              "        text-align: right;\n",
              "    }\n",
              "</style>\n",
              "<table border=\"1\" class=\"dataframe\">\n",
              "  <thead>\n",
              "    <tr style=\"text-align: right;\">\n",
              "      <th></th>\n",
              "      <th>Tatoray Stripper C620 Operation_Column Temp Profile_C620 Tray 14 (Control)_oC</th>\n",
              "      <th>Tatoray Stripper C620 Operation_Column Temp Profile_C620 Tray 34 (Control)_oC</th>\n",
              "    </tr>\n",
              "  </thead>\n",
              "  <tbody>\n",
              "    <tr>\n",
              "      <th>2020-11-27</th>\n",
              "      <td>172.965866</td>\n",
              "      <td>178.742218</td>\n",
              "    </tr>\n",
              "    <tr>\n",
              "      <th>2020-11-27</th>\n",
              "      <td>158.136687</td>\n",
              "      <td>180.824585</td>\n",
              "    </tr>\n",
              "  </tbody>\n",
              "</table>\n",
              "</div>"
            ],
            "text/plain": [
              "            Tatoray Stripper C620 Operation_Column Temp Profile_C620 Tray 14 (Control)_oC  Tatoray Stripper C620 Operation_Column Temp Profile_C620 Tray 34 (Control)_oC\n",
              "2020-11-27                                         172.965866                                                                     178.742218                            \n",
              "2020-11-27                                         158.136687                                                                     180.824585                            "
            ]
          },
          "metadata": {
            "tags": []
          },
          "execution_count": 35
        }
      ]
    },
    {
      "cell_type": "code",
      "metadata": {
        "id": "2bep7CS29fBQ",
        "colab": {
          "base_uri": "https://localhost:8080/",
          "height": 111
        },
        "outputId": "70ba06bd-d165-4689-bf38-f473456fe87e"
      },
      "source": [
        "pd.concat([c660_op.iloc[:,-2:],demo['c660_op'].loc[[idx]].iloc[:,-2:]],axis=0)"
      ],
      "execution_count": 36,
      "outputs": [
        {
          "output_type": "execute_result",
          "data": {
            "text/html": [
              "<div>\n",
              "<style scoped>\n",
              "    .dataframe tbody tr th:only-of-type {\n",
              "        vertical-align: middle;\n",
              "    }\n",
              "\n",
              "    .dataframe tbody tr th {\n",
              "        vertical-align: top;\n",
              "    }\n",
              "\n",
              "    .dataframe thead th {\n",
              "        text-align: right;\n",
              "    }\n",
              "</style>\n",
              "<table border=\"1\" class=\"dataframe\">\n",
              "  <thead>\n",
              "    <tr style=\"text-align: right;\">\n",
              "      <th></th>\n",
              "      <th>Benzene Column C660 Operation_Column Temp Profile_C660 Tray 6 (SD &amp; Control)_oC</th>\n",
              "      <th>Benzene Column C660 Operation_Column Temp Profile_C660 Tray 23 (Control)_oC</th>\n",
              "    </tr>\n",
              "  </thead>\n",
              "  <tbody>\n",
              "    <tr>\n",
              "      <th>2020-11-27</th>\n",
              "      <td>85.241379</td>\n",
              "      <td>89.131508</td>\n",
              "    </tr>\n",
              "    <tr>\n",
              "      <th>2020-11-27</th>\n",
              "      <td>85.773523</td>\n",
              "      <td>89.785295</td>\n",
              "    </tr>\n",
              "  </tbody>\n",
              "</table>\n",
              "</div>"
            ],
            "text/plain": [
              "            Benzene Column C660 Operation_Column Temp Profile_C660 Tray 6 (SD & Control)_oC  Benzene Column C660 Operation_Column Temp Profile_C660 Tray 23 (Control)_oC\n",
              "2020-11-27                                          85.241379                                                                        89.131508                          \n",
              "2020-11-27                                          85.773523                                                                        89.785295                          "
            ]
          },
          "metadata": {
            "tags": []
          },
          "execution_count": 36
        }
      ]
    },
    {
      "cell_type": "code",
      "metadata": {
        "id": "foUjCFtR-W6j",
        "colab": {
          "base_uri": "https://localhost:8080/",
          "height": 111
        },
        "outputId": "18fee3ad-f3cd-4764-d366-3c0a9e634945"
      },
      "source": [
        "pd.concat([c670_op.iloc[:,-2:],demo['c670_op'].loc[[idx]].iloc[:,-2:]],axis=0)"
      ],
      "execution_count": 37,
      "outputs": [
        {
          "output_type": "execute_result",
          "data": {
            "text/html": [
              "<div>\n",
              "<style scoped>\n",
              "    .dataframe tbody tr th:only-of-type {\n",
              "        vertical-align: middle;\n",
              "    }\n",
              "\n",
              "    .dataframe tbody tr th {\n",
              "        vertical-align: top;\n",
              "    }\n",
              "\n",
              "    .dataframe thead th {\n",
              "        text-align: right;\n",
              "    }\n",
              "</style>\n",
              "<table border=\"1\" class=\"dataframe\">\n",
              "  <thead>\n",
              "    <tr style=\"text-align: right;\">\n",
              "      <th></th>\n",
              "      <th>Toluene Column C670 Operation_Column Temp Profile_C670 Tray 24 (Control)_oC</th>\n",
              "      <th>Toluene Column C670 Operation_Column Temp Profile_C670 Btm Temp (Control)_oC</th>\n",
              "    </tr>\n",
              "  </thead>\n",
              "  <tbody>\n",
              "    <tr>\n",
              "      <th>2020-11-27</th>\n",
              "      <td>180.887329</td>\n",
              "      <td>224.330963</td>\n",
              "    </tr>\n",
              "    <tr>\n",
              "      <th>2020-11-27</th>\n",
              "      <td>190.410732</td>\n",
              "      <td>228.602321</td>\n",
              "    </tr>\n",
              "  </tbody>\n",
              "</table>\n",
              "</div>"
            ],
            "text/plain": [
              "            Toluene Column C670 Operation_Column Temp Profile_C670 Tray 24 (Control)_oC  Toluene Column C670 Operation_Column Temp Profile_C670 Btm Temp (Control)_oC\n",
              "2020-11-27                                         180.887329                                                                   224.330963                           \n",
              "2020-11-27                                         190.410732                                                                   228.602321                           "
            ]
          },
          "metadata": {
            "tags": []
          },
          "execution_count": 37
        }
      ]
    },
    {
      "cell_type": "markdown",
      "metadata": {
        "id": "ku8Xf-5f1YB3"
      },
      "source": [
        "# 把操作模組改成線性模組"
      ]
    },
    {
      "cell_type": "code",
      "metadata": {
        "id": "Div1tA2j0hz3",
        "colab": {
          "base_uri": "https://localhost:8080/"
        },
        "outputId": "c15b69f5-fd6d-460f-fcd8-ea138b778d86"
      },
      "source": [
        "f.Recommended_mode = True #(True or False)\n",
        "f.real_data_mode = True\n",
        "f._linear_model = True\n",
        "c620_wt,c620_op,c660_wt,c660_op,c670_wt,c670_op = f(demo['icg_input'].loc[[idx]],demo['c620_feed'].loc[[idx]],demo['t651_feed'].loc[[idx]])"
      ],
      "execution_count": 38,
      "outputs": [
        {
          "output_type": "stream",
          "text": [
            "current Distillate Rate_m3/hr:0.28197995176671037 NA in Benzene_ppmw:980.0\n"
          ],
          "name": "stdout"
        }
      ]
    },
    {
      "cell_type": "code",
      "metadata": {
        "id": "fqAQIp0a1NaX",
        "colab": {
          "base_uri": "https://localhost:8080/",
          "height": 111
        },
        "outputId": "f8a052bd-0877-480c-f0e3-b1cd3f889338"
      },
      "source": [
        "pd.concat([c620_op.iloc[:,-2:],demo['c620_op'].loc[[idx]].iloc[:,-2:]],axis=0)"
      ],
      "execution_count": 39,
      "outputs": [
        {
          "output_type": "execute_result",
          "data": {
            "text/html": [
              "<div>\n",
              "<style scoped>\n",
              "    .dataframe tbody tr th:only-of-type {\n",
              "        vertical-align: middle;\n",
              "    }\n",
              "\n",
              "    .dataframe tbody tr th {\n",
              "        vertical-align: top;\n",
              "    }\n",
              "\n",
              "    .dataframe thead th {\n",
              "        text-align: right;\n",
              "    }\n",
              "</style>\n",
              "<table border=\"1\" class=\"dataframe\">\n",
              "  <thead>\n",
              "    <tr style=\"text-align: right;\">\n",
              "      <th></th>\n",
              "      <th>Tatoray Stripper C620 Operation_Column Temp Profile_C620 Tray 14 (Control)_oC</th>\n",
              "      <th>Tatoray Stripper C620 Operation_Column Temp Profile_C620 Tray 34 (Control)_oC</th>\n",
              "    </tr>\n",
              "  </thead>\n",
              "  <tbody>\n",
              "    <tr>\n",
              "      <th>2020-11-27</th>\n",
              "      <td>153.982142</td>\n",
              "      <td>157.244228</td>\n",
              "    </tr>\n",
              "    <tr>\n",
              "      <th>2020-11-27</th>\n",
              "      <td>158.136687</td>\n",
              "      <td>180.824585</td>\n",
              "    </tr>\n",
              "  </tbody>\n",
              "</table>\n",
              "</div>"
            ],
            "text/plain": [
              "            Tatoray Stripper C620 Operation_Column Temp Profile_C620 Tray 14 (Control)_oC  Tatoray Stripper C620 Operation_Column Temp Profile_C620 Tray 34 (Control)_oC\n",
              "2020-11-27                                         153.982142                                                                     157.244228                            \n",
              "2020-11-27                                         158.136687                                                                     180.824585                            "
            ]
          },
          "metadata": {
            "tags": []
          },
          "execution_count": 39
        }
      ]
    },
    {
      "cell_type": "code",
      "metadata": {
        "id": "PE9MGki61SIg",
        "colab": {
          "base_uri": "https://localhost:8080/",
          "height": 111
        },
        "outputId": "73a264a7-e412-4f6a-de78-fb0fcedbb7f9"
      },
      "source": [
        "pd.concat([c660_op.iloc[:,-2:],demo['c660_op'].loc[[idx]].iloc[:,-2:]],axis=0)"
      ],
      "execution_count": 40,
      "outputs": [
        {
          "output_type": "execute_result",
          "data": {
            "text/html": [
              "<div>\n",
              "<style scoped>\n",
              "    .dataframe tbody tr th:only-of-type {\n",
              "        vertical-align: middle;\n",
              "    }\n",
              "\n",
              "    .dataframe tbody tr th {\n",
              "        vertical-align: top;\n",
              "    }\n",
              "\n",
              "    .dataframe thead th {\n",
              "        text-align: right;\n",
              "    }\n",
              "</style>\n",
              "<table border=\"1\" class=\"dataframe\">\n",
              "  <thead>\n",
              "    <tr style=\"text-align: right;\">\n",
              "      <th></th>\n",
              "      <th>Benzene Column C660 Operation_Column Temp Profile_C660 Tray 6 (SD &amp; Control)_oC</th>\n",
              "      <th>Benzene Column C660 Operation_Column Temp Profile_C660 Tray 23 (Control)_oC</th>\n",
              "    </tr>\n",
              "  </thead>\n",
              "  <tbody>\n",
              "    <tr>\n",
              "      <th>2020-11-27</th>\n",
              "      <td>86.618547</td>\n",
              "      <td>91.916762</td>\n",
              "    </tr>\n",
              "    <tr>\n",
              "      <th>2020-11-27</th>\n",
              "      <td>85.773523</td>\n",
              "      <td>89.785295</td>\n",
              "    </tr>\n",
              "  </tbody>\n",
              "</table>\n",
              "</div>"
            ],
            "text/plain": [
              "            Benzene Column C660 Operation_Column Temp Profile_C660 Tray 6 (SD & Control)_oC  Benzene Column C660 Operation_Column Temp Profile_C660 Tray 23 (Control)_oC\n",
              "2020-11-27                                          86.618547                                                                        91.916762                          \n",
              "2020-11-27                                          85.773523                                                                        89.785295                          "
            ]
          },
          "metadata": {
            "tags": []
          },
          "execution_count": 40
        }
      ]
    },
    {
      "cell_type": "code",
      "metadata": {
        "id": "HR4cQ7rp9xS8",
        "colab": {
          "base_uri": "https://localhost:8080/",
          "height": 111
        },
        "outputId": "f0d2fd61-ee54-43e1-e964-0b14f321e106"
      },
      "source": [
        "pd.concat([c670_op.iloc[:,-2:],demo['c670_op'].loc[[idx]].iloc[:,-2:]],axis=0)"
      ],
      "execution_count": 41,
      "outputs": [
        {
          "output_type": "execute_result",
          "data": {
            "text/html": [
              "<div>\n",
              "<style scoped>\n",
              "    .dataframe tbody tr th:only-of-type {\n",
              "        vertical-align: middle;\n",
              "    }\n",
              "\n",
              "    .dataframe tbody tr th {\n",
              "        vertical-align: top;\n",
              "    }\n",
              "\n",
              "    .dataframe thead th {\n",
              "        text-align: right;\n",
              "    }\n",
              "</style>\n",
              "<table border=\"1\" class=\"dataframe\">\n",
              "  <thead>\n",
              "    <tr style=\"text-align: right;\">\n",
              "      <th></th>\n",
              "      <th>Toluene Column C670 Operation_Column Temp Profile_C670 Tray 24 (Control)_oC</th>\n",
              "      <th>Toluene Column C670 Operation_Column Temp Profile_C670 Btm Temp (Control)_oC</th>\n",
              "    </tr>\n",
              "  </thead>\n",
              "  <tbody>\n",
              "    <tr>\n",
              "      <th>2020-11-27</th>\n",
              "      <td>314.635855</td>\n",
              "      <td>893.690039</td>\n",
              "    </tr>\n",
              "    <tr>\n",
              "      <th>2020-11-27</th>\n",
              "      <td>190.410732</td>\n",
              "      <td>228.602321</td>\n",
              "    </tr>\n",
              "  </tbody>\n",
              "</table>\n",
              "</div>"
            ],
            "text/plain": [
              "            Toluene Column C670 Operation_Column Temp Profile_C670 Tray 24 (Control)_oC  Toluene Column C670 Operation_Column Temp Profile_C670 Btm Temp (Control)_oC\n",
              "2020-11-27                                         314.635855                                                                   893.690039                           \n",
              "2020-11-27                                         190.410732                                                                   228.602321                           "
            ]
          },
          "metadata": {
            "tags": []
          },
          "execution_count": 41
        }
      ]
    },
    {
      "cell_type": "code",
      "metadata": {
        "id": "ACNSHvCiJOjf"
      },
      "source": [
        ""
      ],
      "execution_count": 41,
      "outputs": []
    }
  ]
}