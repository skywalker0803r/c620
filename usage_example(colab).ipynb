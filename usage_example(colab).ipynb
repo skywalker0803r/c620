{
  "nbformat": 4,
  "nbformat_minor": 0,
  "metadata": {
    "colab": {
      "name": "usage_example.ipynb",
      "provenance": [],
      "mount_file_id": "1EkEB-qXjPRmudXTmuHHtlwsWr1V9Wzxh",
      "authorship_tag": "ABX9TyNRlPV9rH6Zpc1715fsJGEQ",
      "include_colab_link": true
    },
    "kernelspec": {
      "name": "python3",
      "display_name": "Python 3"
    }
  },
  "cells": [
    {
      "cell_type": "markdown",
      "metadata": {
        "id": "view-in-github",
        "colab_type": "text"
      },
      "source": [
        "<a href=\"https://colab.research.google.com/github/skywalker0803r/c620/blob/main/usage_example(colab).ipynb\" target=\"_parent\"><img src=\"https://colab.research.google.com/assets/colab-badge.svg\" alt=\"Open In Colab\"/></a>"
      ]
    },
    {
      "cell_type": "markdown",
      "metadata": {
        "id": "geeed9roqKSP"
      },
      "source": [
        "# install"
      ]
    },
    {
      "cell_type": "code",
      "metadata": {
        "colab": {
          "base_uri": "https://localhost:8080/"
        },
        "id": "yoR0u4yuiWnd",
        "outputId": "98c485c8-5b71-40f0-8671-ae9c4ed9e42b"
      },
      "source": [
        "!git clone https://github.com/skywalker0803r/c620.git\n",
        "!pip install autorch > log.txt"
      ],
      "execution_count": 1,
      "outputs": [
        {
          "output_type": "stream",
          "text": [
            "fatal: destination path 'c620' already exists and is not an empty directory.\n"
          ],
          "name": "stdout"
        }
      ]
    },
    {
      "cell_type": "markdown",
      "metadata": {
        "id": "ZybB7ygZqJLM"
      },
      "source": [
        "# import "
      ]
    },
    {
      "cell_type": "code",
      "metadata": {
        "colab": {
          "base_uri": "https://localhost:8080/"
        },
        "id": "FFcAtS_vixO-",
        "outputId": "dd3e45e4-a147-4798-b1f2-b453b4f5f749"
      },
      "source": [
        "from c620.F import F\n",
        "from c620.config import config\n",
        "import joblib\n",
        "import numpy as np\n",
        "import pandas as pd\n",
        "import os\n",
        "os.chdir('/content/c620')\n",
        "print(os.getcwd())\n",
        "!git pull"
      ],
      "execution_count": 2,
      "outputs": [
        {
          "output_type": "stream",
          "text": [
            "/content/c620\n",
            "Already up to date.\n"
          ],
          "name": "stdout"
        }
      ]
    },
    {
      "cell_type": "markdown",
      "metadata": {
        "id": "Rp5Lg6bn1hwk"
      },
      "source": [
        "# functions"
      ]
    },
    {
      "cell_type": "code",
      "metadata": {
        "id": "q2D2f8bw1gxm"
      },
      "source": [
        "def check_two_data(d1,d2):\n",
        "  if np.allclose(d1.values,d2.values):\n",
        "    print('一樣')\n",
        "  else:\n",
        "    print('不一樣')"
      ],
      "execution_count": 3,
      "outputs": []
    },
    {
      "cell_type": "markdown",
      "metadata": {
        "id": "7Wjx-_s0qM0G"
      },
      "source": [
        "# demo data"
      ]
    },
    {
      "cell_type": "code",
      "metadata": {
        "id": "pXE2zrcYKIQK",
        "colab": {
          "base_uri": "https://localhost:8080/",
          "height": 394
        },
        "outputId": "73b88aa2-386a-4b59-c4e2-702ee2a9cda5"
      },
      "source": [
        "tag = 'test001'\r\n",
        "demo = joblib.load('./data/demo(real_data).pkl')\r\n",
        "print(demo.keys())\r\n",
        "\r\n",
        "icg_input = demo['icg_input']\r\n",
        "c620_feed = demo['c620_feed']\r\n",
        "t651_feed = demo['t651_feed']\r\n",
        "\r\n",
        "icg_input"
      ],
      "execution_count": 4,
      "outputs": [
        {
          "output_type": "stream",
          "text": [
            "dict_keys(['icg_input', 'c620_feed', 't651_feed', 'c620_op', 'c660_op', 'c670_op'])\n"
          ],
          "name": "stdout"
        },
        {
          "output_type": "execute_result",
          "data": {
            "text/html": [
              "<div>\n",
              "<style scoped>\n",
              "    .dataframe tbody tr th:only-of-type {\n",
              "        vertical-align: middle;\n",
              "    }\n",
              "\n",
              "    .dataframe tbody tr th {\n",
              "        vertical-align: top;\n",
              "    }\n",
              "\n",
              "    .dataframe thead th {\n",
              "        text-align: right;\n",
              "    }\n",
              "</style>\n",
              "<table border=\"1\" class=\"dataframe\">\n",
              "  <thead>\n",
              "    <tr style=\"text-align: right;\">\n",
              "      <th></th>\n",
              "      <th>Simulation Case Conditions_Feed Rate_Feed from V615 Btm_m3/hr</th>\n",
              "      <th>Simulation Case Conditions_Feed Rate_Feed from V615 Btm    NA_wt%</th>\n",
              "      <th>Simulation Case Conditions_Feed Rate_Feed from V615 Btm    Benzene_wt%</th>\n",
              "      <th>Simulation Case Conditions_Feed Rate_Feed from V615 Btm    Toluene_wt%</th>\n",
              "      <th>Simulation Case Conditions_Feed Rate_Feed from C820 Dist_m3/hr</th>\n",
              "      <th>Simulation Case Conditions_Feed Rate_Feed from C820 Dist    NA_wt%</th>\n",
              "      <th>Simulation Case Conditions_Feed Rate_Feed from C820 Dist    Benzene_wt%</th>\n",
              "      <th>Simulation Case Conditions_Feed Rate_Feed from C820 Dist    Toluene_wt%</th>\n",
              "      <th>Simulation Case Conditions_Feed Rate_Feed from T651_m3/hr</th>\n",
              "      <th>Simulation Case Conditions_Feed Rate_Feed from T651    NA_wt%</th>\n",
              "      <th>Simulation Case Conditions_Feed Rate_Feed from T651    Benzene_wt%</th>\n",
              "      <th>Simulation Case Conditions_Feed Rate_Feed from T651    Toluene_wt%</th>\n",
              "      <th>Simulation Case Conditions_Spec 1 : Benzene in C620 Sidedraw_wt%</th>\n",
              "      <th>Simulation Case Conditions_Spec 2 : NA in Benzene_ppmw</th>\n",
              "      <th>Tatoray Stripper C620 Operation_Specifications_Spec 2 : Distillate Rate_m3/hr</th>\n",
              "      <th>Benzene Column C660 Operation_Specifications_Spec 3 : Toluene in Benzene_ppmw</th>\n",
              "      <th>Tatoray Stripper C620 Operation_Specifications_Spec 1 : Receiver Temp_oC</th>\n",
              "    </tr>\n",
              "  </thead>\n",
              "  <tbody>\n",
              "    <tr>\n",
              "      <th>2020-09-05</th>\n",
              "      <td>179.571663</td>\n",
              "      <td>1.1500</td>\n",
              "      <td>10.9300</td>\n",
              "      <td>36.900</td>\n",
              "      <td>12.342497</td>\n",
              "      <td>2.4600</td>\n",
              "      <td>73.490</td>\n",
              "      <td>19.220</td>\n",
              "      <td>62.680651</td>\n",
              "      <td>0.4920</td>\n",
              "      <td>37.0867</td>\n",
              "      <td>53.7119</td>\n",
              "      <td>88.480</td>\n",
              "      <td>748.0</td>\n",
              "      <td>0.0</td>\n",
              "      <td>3.0</td>\n",
              "      <td>41.111207</td>\n",
              "    </tr>\n",
              "    <tr>\n",
              "      <th>2021-02-16</th>\n",
              "      <td>182.702744</td>\n",
              "      <td>2.0556</td>\n",
              "      <td>12.1420</td>\n",
              "      <td>37.828</td>\n",
              "      <td>18.193422</td>\n",
              "      <td>2.8398</td>\n",
              "      <td>67.888</td>\n",
              "      <td>21.521</td>\n",
              "      <td>93.629074</td>\n",
              "      <td>0.6960</td>\n",
              "      <td>43.2400</td>\n",
              "      <td>42.5320</td>\n",
              "      <td>87.491</td>\n",
              "      <td>861.0</td>\n",
              "      <td>0.0</td>\n",
              "      <td>10.0</td>\n",
              "      <td>43.173817</td>\n",
              "    </tr>\n",
              "    <tr>\n",
              "      <th>2020-10-21</th>\n",
              "      <td>140.768653</td>\n",
              "      <td>0.7438</td>\n",
              "      <td>4.9644</td>\n",
              "      <td>68.043</td>\n",
              "      <td>17.639095</td>\n",
              "      <td>2.5231</td>\n",
              "      <td>74.979</td>\n",
              "      <td>16.199</td>\n",
              "      <td>67.150949</td>\n",
              "      <td>0.8400</td>\n",
              "      <td>55.7900</td>\n",
              "      <td>26.9700</td>\n",
              "      <td>84.901</td>\n",
              "      <td>809.0</td>\n",
              "      <td>0.0</td>\n",
              "      <td>2.0</td>\n",
              "      <td>44.523722</td>\n",
              "    </tr>\n",
              "    <tr>\n",
              "      <th>2021-01-20</th>\n",
              "      <td>181.033157</td>\n",
              "      <td>1.4680</td>\n",
              "      <td>11.8790</td>\n",
              "      <td>37.263</td>\n",
              "      <td>19.130981</td>\n",
              "      <td>1.9880</td>\n",
              "      <td>68.749</td>\n",
              "      <td>20.500</td>\n",
              "      <td>100.350426</td>\n",
              "      <td>0.6510</td>\n",
              "      <td>46.1770</td>\n",
              "      <td>40.4170</td>\n",
              "      <td>85.165</td>\n",
              "      <td>809.0</td>\n",
              "      <td>0.0</td>\n",
              "      <td>63.0</td>\n",
              "      <td>40.970806</td>\n",
              "    </tr>\n",
              "    <tr>\n",
              "      <th>2020-12-04</th>\n",
              "      <td>166.107956</td>\n",
              "      <td>2.1510</td>\n",
              "      <td>12.0470</td>\n",
              "      <td>37.287</td>\n",
              "      <td>19.038383</td>\n",
              "      <td>3.4740</td>\n",
              "      <td>65.729</td>\n",
              "      <td>19.557</td>\n",
              "      <td>99.873688</td>\n",
              "      <td>0.6486</td>\n",
              "      <td>43.8780</td>\n",
              "      <td>42.6020</td>\n",
              "      <td>86.102</td>\n",
              "      <td>805.0</td>\n",
              "      <td>0.0</td>\n",
              "      <td>35.0</td>\n",
              "      <td>39.059292</td>\n",
              "    </tr>\n",
              "  </tbody>\n",
              "</table>\n",
              "</div>"
            ],
            "text/plain": [
              "            Simulation Case Conditions_Feed Rate_Feed from V615 Btm_m3/hr  ...  Tatoray Stripper C620 Operation_Specifications_Spec 1 : Receiver Temp_oC\n",
              "2020-09-05                                         179.571663              ...                                          41.111207                       \n",
              "2021-02-16                                         182.702744              ...                                          43.173817                       \n",
              "2020-10-21                                         140.768653              ...                                          44.523722                       \n",
              "2021-01-20                                         181.033157              ...                                          40.970806                       \n",
              "2020-12-04                                         166.107956              ...                                          39.059292                       \n",
              "\n",
              "[5 rows x 17 columns]"
            ]
          },
          "metadata": {
            "tags": []
          },
          "execution_count": 4
        }
      ]
    },
    {
      "cell_type": "code",
      "metadata": {
        "id": "XC08SG4Pz0Dv"
      },
      "source": [
        "idx1 = icg_input.index[0]\n",
        "idx2 = icg_input.index[1]"
      ],
      "execution_count": 5,
      "outputs": []
    },
    {
      "cell_type": "markdown",
      "metadata": {
        "id": "x0R2vs4I1YBQ"
      },
      "source": [
        "# 1.確保給定不同的輸入 會有不同的輸出"
      ]
    },
    {
      "cell_type": "code",
      "metadata": {
        "id": "Qa-lHXhJjI8M",
        "colab": {
          "base_uri": "https://localhost:8080/"
        },
        "outputId": "9f9b6b3d-cc28-4753-da25-ea9cda1f01be"
      },
      "source": [
        "f = F(config)\n",
        "f.Recommended_mode = True #(True or False)\n",
        "f.real_data_mode = True\n",
        "\n",
        "# 輸入1\n",
        "c620_wt1,c620_op1,c660_wt1,c660_op1,c670_wt1,c670_op1 = f(icg_input.loc[[idx1]],c620_feed.loc[[idx1]],t651_feed.loc[[idx1]])\n",
        "\n",
        "# 輸入2\n",
        "c620_wt2,c620_op2,c660_wt2,c660_op2,c670_wt2,c670_op2 = f(icg_input.loc[[idx2]],c620_feed.loc[[idx2]],t651_feed.loc[[idx2]])"
      ],
      "execution_count": 6,
      "outputs": [
        {
          "output_type": "stream",
          "text": [
            "current Distillate Rate_m3/hr:0.23077957112638564 NA in Benzene_ppmw:980.0\n",
            "current Distillate Rate_m3/hr:0.20156970242883998 NA in Benzene_ppmw:980.0\n"
          ],
          "name": "stdout"
        }
      ]
    },
    {
      "cell_type": "code",
      "metadata": {
        "colab": {
          "base_uri": "https://localhost:8080/"
        },
        "id": "BofcSOZQpU3v",
        "outputId": "bd9dc407-bddc-496a-8ea7-a44a4ba2c6a5"
      },
      "source": [
        "check_two_data(c620_wt1,c620_wt2)\n",
        "check_two_data(c620_op1,c620_op2)\n",
        "check_two_data(c660_wt1,c660_wt2)\n",
        "check_two_data(c660_op1,c660_op2)\n",
        "check_two_data(c670_wt1,c670_wt2)\n",
        "check_two_data(c670_op1,c670_op2)"
      ],
      "execution_count": 7,
      "outputs": [
        {
          "output_type": "stream",
          "text": [
            "不一樣\n",
            "不一樣\n",
            "不一樣\n",
            "不一樣\n",
            "不一樣\n",
            "不一樣\n"
          ],
          "name": "stdout"
        }
      ]
    },
    {
      "cell_type": "markdown",
      "metadata": {
        "id": "uQaOrbU918kJ"
      },
      "source": [
        "# 2.確保變更模式 推薦 和 試算 模式 有不同的輸出"
      ]
    },
    {
      "cell_type": "code",
      "metadata": {
        "id": "aQKOHeWVpZyO",
        "outputId": "d374937a-5f5a-4355-f1b2-69b261a706c1",
        "colab": {
          "base_uri": "https://localhost:8080/"
        }
      },
      "source": [
        "# 試算模式\n",
        "f.Recommended_mode = False #(True or False)\n",
        "c620_wt1,c620_op1,c660_wt1,c660_op1,c670_wt1,c670_op1 = f(icg_input.loc[[idx1]],c620_feed.loc[[idx1]],t651_feed.loc[[idx1]])\n",
        "\n",
        "# 推薦模式\n",
        "f.Recommended_mode = True #(True or False)\n",
        "c620_wt2,c620_op2,c660_wt2,c660_op2,c670_wt2,c670_op2 = f(icg_input.loc[[idx1]],c620_feed.loc[[idx1]],t651_feed.loc[[idx1]])"
      ],
      "execution_count": 8,
      "outputs": [
        {
          "output_type": "stream",
          "text": [
            "current Distillate Rate_m3/hr:0.23077957112638564 NA in Benzene_ppmw:980.0\n"
          ],
          "name": "stdout"
        }
      ]
    },
    {
      "cell_type": "code",
      "metadata": {
        "id": "MhYvVp9V1w7_",
        "outputId": "10b178a6-618e-4942-afbc-fae05a00a4b0",
        "colab": {
          "base_uri": "https://localhost:8080/"
        }
      },
      "source": [
        "check_two_data(c620_wt1,c620_wt2)\n",
        "check_two_data(c620_op1,c620_op2)\n",
        "check_two_data(c660_wt1,c660_wt2)\n",
        "check_two_data(c660_op1,c660_op2)\n",
        "check_two_data(c670_wt1,c670_wt2)\n",
        "check_two_data(c670_op1,c670_op2)"
      ],
      "execution_count": 9,
      "outputs": [
        {
          "output_type": "stream",
          "text": [
            "不一樣\n",
            "不一樣\n",
            "不一樣\n",
            "不一樣\n",
            "不一樣\n",
            "不一樣\n"
          ],
          "name": "stdout"
        }
      ]
    },
    {
      "cell_type": "code",
      "metadata": {
        "id": "2yPjX8QM2gej"
      },
      "source": [
        ""
      ],
      "execution_count": 9,
      "outputs": []
    }
  ]
}