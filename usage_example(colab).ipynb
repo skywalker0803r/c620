{
  "nbformat": 4,
  "nbformat_minor": 0,
  "metadata": {
    "colab": {
      "name": "usage_example.ipynb",
      "provenance": [],
      "mount_file_id": "1EkEB-qXjPRmudXTmuHHtlwsWr1V9Wzxh",
      "authorship_tag": "ABX9TyNUGPnb4MBh8c+6FA6G73d9",
      "include_colab_link": true
    },
    "kernelspec": {
      "name": "python3",
      "display_name": "Python 3"
    }
  },
  "cells": [
    {
      "cell_type": "markdown",
      "metadata": {
        "id": "view-in-github",
        "colab_type": "text"
      },
      "source": [
        "<a href=\"https://colab.research.google.com/github/skywalker0803r/c620/blob/main/usage_example(colab).ipynb\" target=\"_parent\"><img src=\"https://colab.research.google.com/assets/colab-badge.svg\" alt=\"Open In Colab\"/></a>"
      ]
    },
    {
      "cell_type": "markdown",
      "metadata": {
        "id": "geeed9roqKSP"
      },
      "source": [
        "# install"
      ]
    },
    {
      "cell_type": "code",
      "metadata": {
        "colab": {
          "base_uri": "https://localhost:8080/"
        },
        "id": "yoR0u4yuiWnd",
        "outputId": "45425cfa-e825-4f88-ee2f-11bb79d4d1f2"
      },
      "source": [
        "!git clone https://github.com/skywalker0803r/c620.git\n",
        "!pip install autorch > log.txt"
      ],
      "execution_count": 1,
      "outputs": [
        {
          "output_type": "stream",
          "text": [
            "fatal: destination path 'c620' already exists and is not an empty directory.\n"
          ],
          "name": "stdout"
        }
      ]
    },
    {
      "cell_type": "markdown",
      "metadata": {
        "id": "ZybB7ygZqJLM"
      },
      "source": [
        "# import "
      ]
    },
    {
      "cell_type": "code",
      "metadata": {
        "colab": {
          "base_uri": "https://localhost:8080/"
        },
        "id": "FFcAtS_vixO-",
        "outputId": "4213135a-df39-4ed8-dcee-45108847f9ca"
      },
      "source": [
        "from c620.F import F\n",
        "from c620.config import config\n",
        "import joblib\n",
        "import numpy as np\n",
        "import pandas as pd\n",
        "import os\n",
        "os.chdir('/content/c620')\n",
        "print(os.getcwd())\n",
        "!git pull"
      ],
      "execution_count": 2,
      "outputs": [
        {
          "output_type": "stream",
          "text": [
            "/content/c620\n",
            "remote: Enumerating objects: 25, done.\u001b[K\n",
            "remote: Counting objects: 100% (25/25), done.\u001b[K\n",
            "remote: Compressing objects: 100% (18/18), done.\u001b[K\n",
            "remote: Total 18 (delta 10), reused 0 (delta 0), pack-reused 0\u001b[K\n",
            "Unpacking objects: 100% (18/18), done.\n",
            "From https://github.com/skywalker0803r/c620\n",
            "   0fc2a47..eb5835c  main       -> origin/main\n",
            "Updating 0fc2a47..eb5835c\n",
            "Fast-forward\n",
            " F.py                           |   10 \u001b[32m+\u001b[m\u001b[31m-\u001b[m\n",
            " config.py                      |    2 \u001b[32m+\u001b[m\n",
            " model/c660_op_real_data.pkl    |  Bin \u001b[31m0\u001b[m -> \u001b[32m142789\u001b[m bytes\n",
            " model/c670_op_real_data.pkl    |  Bin \u001b[31m0\u001b[m -> \u001b[32m256790\u001b[m bytes\n",
            " notebook/linear_op_model.ipynb | 1306 \u001b[32m++++++++++++++++++++++++++++++++++++\u001b[m\u001b[31m----\u001b[m\n",
            " usage_example(colab).ipynb     |  346 \u001b[32m++++++++++\u001b[m\u001b[31m-\u001b[m\n",
            " 6 files changed, 1536 insertions(+), 128 deletions(-)\n",
            " create mode 100644 model/c660_op_real_data.pkl\n",
            " create mode 100644 model/c670_op_real_data.pkl\n"
          ],
          "name": "stdout"
        }
      ]
    },
    {
      "cell_type": "markdown",
      "metadata": {
        "id": "Rp5Lg6bn1hwk"
      },
      "source": [
        "# functions"
      ]
    },
    {
      "cell_type": "code",
      "metadata": {
        "id": "q2D2f8bw1gxm"
      },
      "source": [
        "def check_two_data(d1,d2):\n",
        "  if np.allclose(d1.values,d2.values):\n",
        "    print('一樣')\n",
        "  else:\n",
        "    print('不一樣')"
      ],
      "execution_count": 3,
      "outputs": []
    },
    {
      "cell_type": "markdown",
      "metadata": {
        "id": "7Wjx-_s0qM0G"
      },
      "source": [
        "# demo data"
      ]
    },
    {
      "cell_type": "code",
      "metadata": {
        "id": "pXE2zrcYKIQK",
        "colab": {
          "base_uri": "https://localhost:8080/",
          "height": 1000
        },
        "outputId": "07b2e01c-8fba-4f56-eaed-57340820844f"
      },
      "source": [
        "tag = 'test001'\n",
        "demo = joblib.load('./data/demo(real_data).pkl')\n",
        "print(demo.keys())\n",
        "\n",
        "icg_input = demo['icg_input']\n",
        "c620_feed = demo['c620_feed']\n",
        "t651_feed = demo['t651_feed']\n",
        "\n",
        "icg_input"
      ],
      "execution_count": 4,
      "outputs": [
        {
          "output_type": "stream",
          "text": [
            "dict_keys(['icg_input', 'c620_feed', 't651_feed', 'c620_op', 'c660_op', 'c670_op', 'c620_wt', 'c660_wt', 'c670_wt'])\n"
          ],
          "name": "stdout"
        },
        {
          "output_type": "execute_result",
          "data": {
            "text/html": [
              "<div>\n",
              "<style scoped>\n",
              "    .dataframe tbody tr th:only-of-type {\n",
              "        vertical-align: middle;\n",
              "    }\n",
              "\n",
              "    .dataframe tbody tr th {\n",
              "        vertical-align: top;\n",
              "    }\n",
              "\n",
              "    .dataframe thead th {\n",
              "        text-align: right;\n",
              "    }\n",
              "</style>\n",
              "<table border=\"1\" class=\"dataframe\">\n",
              "  <thead>\n",
              "    <tr style=\"text-align: right;\">\n",
              "      <th></th>\n",
              "      <th>Simulation Case Conditions_Feed Rate_Feed from V615 Btm_m3/hr</th>\n",
              "      <th>Simulation Case Conditions_Feed Rate_Feed from V615 Btm    NA_wt%</th>\n",
              "      <th>Simulation Case Conditions_Feed Rate_Feed from V615 Btm    Benzene_wt%</th>\n",
              "      <th>Simulation Case Conditions_Feed Rate_Feed from V615 Btm    Toluene_wt%</th>\n",
              "      <th>Simulation Case Conditions_Feed Rate_Feed from C820 Dist_m3/hr</th>\n",
              "      <th>Simulation Case Conditions_Feed Rate_Feed from C820 Dist    NA_wt%</th>\n",
              "      <th>Simulation Case Conditions_Feed Rate_Feed from C820 Dist    Benzene_wt%</th>\n",
              "      <th>Simulation Case Conditions_Feed Rate_Feed from C820 Dist    Toluene_wt%</th>\n",
              "      <th>Simulation Case Conditions_Feed Rate_Feed from T651_m3/hr</th>\n",
              "      <th>Simulation Case Conditions_Feed Rate_Feed from T651    NA_wt%</th>\n",
              "      <th>Simulation Case Conditions_Feed Rate_Feed from T651    Benzene_wt%</th>\n",
              "      <th>Simulation Case Conditions_Feed Rate_Feed from T651    Toluene_wt%</th>\n",
              "      <th>Simulation Case Conditions_Spec 1 : Benzene in C620 Sidedraw_wt%</th>\n",
              "      <th>Simulation Case Conditions_Spec 2 : NA in Benzene_ppmw</th>\n",
              "      <th>Tatoray Stripper C620 Operation_Specifications_Spec 2 : Distillate Rate_m3/hr</th>\n",
              "      <th>Benzene Column C660 Operation_Specifications_Spec 3 : Toluene in Benzene_ppmw</th>\n",
              "      <th>Tatoray Stripper C620 Operation_Specifications_Spec 1 : Receiver Temp_oC</th>\n",
              "    </tr>\n",
              "  </thead>\n",
              "  <tbody>\n",
              "    <tr>\n",
              "      <th>2020-12-02</th>\n",
              "      <td>175.679504</td>\n",
              "      <td>2.0360</td>\n",
              "      <td>12.014</td>\n",
              "      <td>37.375</td>\n",
              "      <td>19.209358</td>\n",
              "      <td>2.6540</td>\n",
              "      <td>66.758</td>\n",
              "      <td>20.433</td>\n",
              "      <td>93.699834</td>\n",
              "      <td>0.6000</td>\n",
              "      <td>44.100</td>\n",
              "      <td>42.370</td>\n",
              "      <td>86.253</td>\n",
              "      <td>750.0</td>\n",
              "      <td>0.00000</td>\n",
              "      <td>28.0</td>\n",
              "      <td>39.799891</td>\n",
              "    </tr>\n",
              "    <tr>\n",
              "      <th>2020-10-27</th>\n",
              "      <td>180.119734</td>\n",
              "      <td>1.7560</td>\n",
              "      <td>12.078</td>\n",
              "      <td>37.252</td>\n",
              "      <td>16.990028</td>\n",
              "      <td>2.6470</td>\n",
              "      <td>72.345</td>\n",
              "      <td>18.801</td>\n",
              "      <td>89.544441</td>\n",
              "      <td>0.5456</td>\n",
              "      <td>45.773</td>\n",
              "      <td>41.738</td>\n",
              "      <td>84.166</td>\n",
              "      <td>641.0</td>\n",
              "      <td>0.00000</td>\n",
              "      <td>9.0</td>\n",
              "      <td>40.353683</td>\n",
              "    </tr>\n",
              "    <tr>\n",
              "      <th>2020-12-09</th>\n",
              "      <td>175.768234</td>\n",
              "      <td>1.9500</td>\n",
              "      <td>11.982</td>\n",
              "      <td>37.452</td>\n",
              "      <td>17.881016</td>\n",
              "      <td>4.3650</td>\n",
              "      <td>61.243</td>\n",
              "      <td>25.683</td>\n",
              "      <td>99.247704</td>\n",
              "      <td>0.5820</td>\n",
              "      <td>44.515</td>\n",
              "      <td>41.184</td>\n",
              "      <td>89.366</td>\n",
              "      <td>725.0</td>\n",
              "      <td>0.00000</td>\n",
              "      <td>25.0</td>\n",
              "      <td>42.253014</td>\n",
              "    </tr>\n",
              "    <tr>\n",
              "      <th>2020-11-11</th>\n",
              "      <td>178.663300</td>\n",
              "      <td>2.1171</td>\n",
              "      <td>11.713</td>\n",
              "      <td>37.016</td>\n",
              "      <td>17.128589</td>\n",
              "      <td>3.0507</td>\n",
              "      <td>64.741</td>\n",
              "      <td>23.511</td>\n",
              "      <td>97.068145</td>\n",
              "      <td>0.6100</td>\n",
              "      <td>45.780</td>\n",
              "      <td>42.270</td>\n",
              "      <td>85.363</td>\n",
              "      <td>802.0</td>\n",
              "      <td>0.00000</td>\n",
              "      <td>41.0</td>\n",
              "      <td>41.447528</td>\n",
              "    </tr>\n",
              "    <tr>\n",
              "      <th>2020-12-26</th>\n",
              "      <td>175.563812</td>\n",
              "      <td>1.9300</td>\n",
              "      <td>12.121</td>\n",
              "      <td>37.388</td>\n",
              "      <td>19.578745</td>\n",
              "      <td>2.9330</td>\n",
              "      <td>67.392</td>\n",
              "      <td>20.235</td>\n",
              "      <td>99.517662</td>\n",
              "      <td>0.6661</td>\n",
              "      <td>45.687</td>\n",
              "      <td>40.464</td>\n",
              "      <td>87.840</td>\n",
              "      <td>805.0</td>\n",
              "      <td>0.00000</td>\n",
              "      <td>52.0</td>\n",
              "      <td>41.042450</td>\n",
              "    </tr>\n",
              "    <tr>\n",
              "      <th>2020-11-13</th>\n",
              "      <td>177.578588</td>\n",
              "      <td>1.9270</td>\n",
              "      <td>11.817</td>\n",
              "      <td>37.221</td>\n",
              "      <td>17.044234</td>\n",
              "      <td>2.9440</td>\n",
              "      <td>65.069</td>\n",
              "      <td>22.560</td>\n",
              "      <td>98.546633</td>\n",
              "      <td>0.5700</td>\n",
              "      <td>45.070</td>\n",
              "      <td>42.390</td>\n",
              "      <td>85.351</td>\n",
              "      <td>766.0</td>\n",
              "      <td>0.00000</td>\n",
              "      <td>27.0</td>\n",
              "      <td>43.202930</td>\n",
              "    </tr>\n",
              "    <tr>\n",
              "      <th>2021-02-12</th>\n",
              "      <td>184.623123</td>\n",
              "      <td>1.6500</td>\n",
              "      <td>11.620</td>\n",
              "      <td>37.290</td>\n",
              "      <td>17.834211</td>\n",
              "      <td>2.4700</td>\n",
              "      <td>68.250</td>\n",
              "      <td>21.330</td>\n",
              "      <td>95.943756</td>\n",
              "      <td>0.6650</td>\n",
              "      <td>43.490</td>\n",
              "      <td>42.228</td>\n",
              "      <td>85.840</td>\n",
              "      <td>877.0</td>\n",
              "      <td>0.00000</td>\n",
              "      <td>34.0</td>\n",
              "      <td>41.703621</td>\n",
              "    </tr>\n",
              "    <tr>\n",
              "      <th>2021-02-13</th>\n",
              "      <td>182.727005</td>\n",
              "      <td>2.0600</td>\n",
              "      <td>11.670</td>\n",
              "      <td>37.270</td>\n",
              "      <td>17.901134</td>\n",
              "      <td>2.3700</td>\n",
              "      <td>68.700</td>\n",
              "      <td>21.000</td>\n",
              "      <td>98.045372</td>\n",
              "      <td>0.6650</td>\n",
              "      <td>43.532</td>\n",
              "      <td>42.478</td>\n",
              "      <td>87.140</td>\n",
              "      <td>838.0</td>\n",
              "      <td>0.00000</td>\n",
              "      <td>29.0</td>\n",
              "      <td>40.842743</td>\n",
              "    </tr>\n",
              "    <tr>\n",
              "      <th>2020-11-06</th>\n",
              "      <td>165.396682</td>\n",
              "      <td>1.3300</td>\n",
              "      <td>12.360</td>\n",
              "      <td>38.000</td>\n",
              "      <td>19.375314</td>\n",
              "      <td>3.0400</td>\n",
              "      <td>66.910</td>\n",
              "      <td>19.300</td>\n",
              "      <td>100.839962</td>\n",
              "      <td>0.6410</td>\n",
              "      <td>46.095</td>\n",
              "      <td>39.667</td>\n",
              "      <td>84.620</td>\n",
              "      <td>788.0</td>\n",
              "      <td>0.00000</td>\n",
              "      <td>38.0</td>\n",
              "      <td>43.047926</td>\n",
              "    </tr>\n",
              "    <tr>\n",
              "      <th>2020-12-22</th>\n",
              "      <td>182.927429</td>\n",
              "      <td>2.3960</td>\n",
              "      <td>12.175</td>\n",
              "      <td>37.270</td>\n",
              "      <td>18.905632</td>\n",
              "      <td>2.8660</td>\n",
              "      <td>67.411</td>\n",
              "      <td>20.359</td>\n",
              "      <td>97.379578</td>\n",
              "      <td>0.6700</td>\n",
              "      <td>43.810</td>\n",
              "      <td>42.410</td>\n",
              "      <td>86.005</td>\n",
              "      <td>809.0</td>\n",
              "      <td>0.00000</td>\n",
              "      <td>50.0</td>\n",
              "      <td>38.472740</td>\n",
              "    </tr>\n",
              "    <tr>\n",
              "      <th>2020-09-25</th>\n",
              "      <td>168.158816</td>\n",
              "      <td>1.4700</td>\n",
              "      <td>10.310</td>\n",
              "      <td>35.920</td>\n",
              "      <td>13.164936</td>\n",
              "      <td>2.4500</td>\n",
              "      <td>73.690</td>\n",
              "      <td>18.970</td>\n",
              "      <td>58.385155</td>\n",
              "      <td>0.3530</td>\n",
              "      <td>36.257</td>\n",
              "      <td>53.146</td>\n",
              "      <td>92.340</td>\n",
              "      <td>838.0</td>\n",
              "      <td>0.00000</td>\n",
              "      <td>10.0</td>\n",
              "      <td>38.862755</td>\n",
              "    </tr>\n",
              "    <tr>\n",
              "      <th>2021-01-12</th>\n",
              "      <td>182.906250</td>\n",
              "      <td>1.7850</td>\n",
              "      <td>12.043</td>\n",
              "      <td>37.504</td>\n",
              "      <td>18.725227</td>\n",
              "      <td>2.9410</td>\n",
              "      <td>67.802</td>\n",
              "      <td>19.547</td>\n",
              "      <td>104.306389</td>\n",
              "      <td>0.5700</td>\n",
              "      <td>47.140</td>\n",
              "      <td>40.150</td>\n",
              "      <td>87.533</td>\n",
              "      <td>776.0</td>\n",
              "      <td>0.32824</td>\n",
              "      <td>72.0</td>\n",
              "      <td>37.729290</td>\n",
              "    </tr>\n",
              "    <tr>\n",
              "      <th>2020-11-28</th>\n",
              "      <td>169.417029</td>\n",
              "      <td>1.5612</td>\n",
              "      <td>11.537</td>\n",
              "      <td>37.331</td>\n",
              "      <td>17.931079</td>\n",
              "      <td>2.9944</td>\n",
              "      <td>69.442</td>\n",
              "      <td>19.563</td>\n",
              "      <td>92.863846</td>\n",
              "      <td>0.6160</td>\n",
              "      <td>44.511</td>\n",
              "      <td>41.587</td>\n",
              "      <td>86.304</td>\n",
              "      <td>714.0</td>\n",
              "      <td>0.00000</td>\n",
              "      <td>19.0</td>\n",
              "      <td>37.842611</td>\n",
              "    </tr>\n",
              "    <tr>\n",
              "      <th>2021-02-16</th>\n",
              "      <td>182.702744</td>\n",
              "      <td>2.0556</td>\n",
              "      <td>12.142</td>\n",
              "      <td>37.828</td>\n",
              "      <td>18.193422</td>\n",
              "      <td>2.8398</td>\n",
              "      <td>67.888</td>\n",
              "      <td>21.521</td>\n",
              "      <td>93.629074</td>\n",
              "      <td>0.6960</td>\n",
              "      <td>43.240</td>\n",
              "      <td>42.532</td>\n",
              "      <td>87.491</td>\n",
              "      <td>861.0</td>\n",
              "      <td>0.00000</td>\n",
              "      <td>10.0</td>\n",
              "      <td>43.173817</td>\n",
              "    </tr>\n",
              "    <tr>\n",
              "      <th>2020-11-04</th>\n",
              "      <td>176.595090</td>\n",
              "      <td>1.1200</td>\n",
              "      <td>12.280</td>\n",
              "      <td>38.000</td>\n",
              "      <td>18.337664</td>\n",
              "      <td>3.1600</td>\n",
              "      <td>66.320</td>\n",
              "      <td>20.250</td>\n",
              "      <td>102.896518</td>\n",
              "      <td>0.5160</td>\n",
              "      <td>45.187</td>\n",
              "      <td>42.891</td>\n",
              "      <td>84.540</td>\n",
              "      <td>781.0</td>\n",
              "      <td>0.00000</td>\n",
              "      <td>33.0</td>\n",
              "      <td>40.094453</td>\n",
              "    </tr>\n",
              "    <tr>\n",
              "      <th>2020-11-22</th>\n",
              "      <td>170.538553</td>\n",
              "      <td>1.1600</td>\n",
              "      <td>11.460</td>\n",
              "      <td>37.050</td>\n",
              "      <td>17.445402</td>\n",
              "      <td>2.5100</td>\n",
              "      <td>67.040</td>\n",
              "      <td>21.040</td>\n",
              "      <td>90.366716</td>\n",
              "      <td>0.6840</td>\n",
              "      <td>44.648</td>\n",
              "      <td>41.883</td>\n",
              "      <td>86.560</td>\n",
              "      <td>755.0</td>\n",
              "      <td>0.00000</td>\n",
              "      <td>16.0</td>\n",
              "      <td>38.383713</td>\n",
              "    </tr>\n",
              "    <tr>\n",
              "      <th>2020-09-18</th>\n",
              "      <td>175.967935</td>\n",
              "      <td>1.6430</td>\n",
              "      <td>10.596</td>\n",
              "      <td>36.297</td>\n",
              "      <td>12.863233</td>\n",
              "      <td>2.4700</td>\n",
              "      <td>74.005</td>\n",
              "      <td>18.806</td>\n",
              "      <td>63.686678</td>\n",
              "      <td>0.3734</td>\n",
              "      <td>35.783</td>\n",
              "      <td>52.841</td>\n",
              "      <td>90.686</td>\n",
              "      <td>773.0</td>\n",
              "      <td>0.00000</td>\n",
              "      <td>0.0</td>\n",
              "      <td>40.874387</td>\n",
              "    </tr>\n",
              "    <tr>\n",
              "      <th>2020-10-15</th>\n",
              "      <td>137.268603</td>\n",
              "      <td>0.7300</td>\n",
              "      <td>5.160</td>\n",
              "      <td>59.490</td>\n",
              "      <td>16.079162</td>\n",
              "      <td>1.9500</td>\n",
              "      <td>75.380</td>\n",
              "      <td>16.160</td>\n",
              "      <td>63.233033</td>\n",
              "      <td>0.8700</td>\n",
              "      <td>56.108</td>\n",
              "      <td>26.267</td>\n",
              "      <td>86.080</td>\n",
              "      <td>894.0</td>\n",
              "      <td>0.00000</td>\n",
              "      <td>2.0</td>\n",
              "      <td>43.892587</td>\n",
              "    </tr>\n",
              "    <tr>\n",
              "      <th>2020-11-15</th>\n",
              "      <td>176.844757</td>\n",
              "      <td>1.8660</td>\n",
              "      <td>11.908</td>\n",
              "      <td>37.216</td>\n",
              "      <td>17.339738</td>\n",
              "      <td>2.7310</td>\n",
              "      <td>65.817</td>\n",
              "      <td>22.426</td>\n",
              "      <td>97.940069</td>\n",
              "      <td>0.5828</td>\n",
              "      <td>44.793</td>\n",
              "      <td>42.552</td>\n",
              "      <td>92.463</td>\n",
              "      <td>760.0</td>\n",
              "      <td>0.00000</td>\n",
              "      <td>32.0</td>\n",
              "      <td>42.172990</td>\n",
              "    </tr>\n",
              "    <tr>\n",
              "      <th>2020-12-24</th>\n",
              "      <td>169.469696</td>\n",
              "      <td>2.0280</td>\n",
              "      <td>12.424</td>\n",
              "      <td>37.824</td>\n",
              "      <td>19.156324</td>\n",
              "      <td>2.5120</td>\n",
              "      <td>69.031</td>\n",
              "      <td>19.582</td>\n",
              "      <td>98.539299</td>\n",
              "      <td>0.7602</td>\n",
              "      <td>44.149</td>\n",
              "      <td>40.743</td>\n",
              "      <td>85.479</td>\n",
              "      <td>880.0</td>\n",
              "      <td>0.00000</td>\n",
              "      <td>47.0</td>\n",
              "      <td>39.304111</td>\n",
              "    </tr>\n",
              "  </tbody>\n",
              "</table>\n",
              "</div>"
            ],
            "text/plain": [
              "            Simulation Case Conditions_Feed Rate_Feed from V615 Btm_m3/hr  ...  Tatoray Stripper C620 Operation_Specifications_Spec 1 : Receiver Temp_oC\n",
              "2020-12-02                                         175.679504              ...                                          39.799891                       \n",
              "2020-10-27                                         180.119734              ...                                          40.353683                       \n",
              "2020-12-09                                         175.768234              ...                                          42.253014                       \n",
              "2020-11-11                                         178.663300              ...                                          41.447528                       \n",
              "2020-12-26                                         175.563812              ...                                          41.042450                       \n",
              "2020-11-13                                         177.578588              ...                                          43.202930                       \n",
              "2021-02-12                                         184.623123              ...                                          41.703621                       \n",
              "2021-02-13                                         182.727005              ...                                          40.842743                       \n",
              "2020-11-06                                         165.396682              ...                                          43.047926                       \n",
              "2020-12-22                                         182.927429              ...                                          38.472740                       \n",
              "2020-09-25                                         168.158816              ...                                          38.862755                       \n",
              "2021-01-12                                         182.906250              ...                                          37.729290                       \n",
              "2020-11-28                                         169.417029              ...                                          37.842611                       \n",
              "2021-02-16                                         182.702744              ...                                          43.173817                       \n",
              "2020-11-04                                         176.595090              ...                                          40.094453                       \n",
              "2020-11-22                                         170.538553              ...                                          38.383713                       \n",
              "2020-09-18                                         175.967935              ...                                          40.874387                       \n",
              "2020-10-15                                         137.268603              ...                                          43.892587                       \n",
              "2020-11-15                                         176.844757              ...                                          42.172990                       \n",
              "2020-12-24                                         169.469696              ...                                          39.304111                       \n",
              "\n",
              "[20 rows x 17 columns]"
            ]
          },
          "metadata": {
            "tags": []
          },
          "execution_count": 4
        }
      ]
    },
    {
      "cell_type": "code",
      "metadata": {
        "id": "XC08SG4Pz0Dv"
      },
      "source": [
        "idx1 = icg_input.index[0]\n",
        "idx2 = icg_input.index[1]"
      ],
      "execution_count": 5,
      "outputs": []
    },
    {
      "cell_type": "markdown",
      "metadata": {
        "id": "x0R2vs4I1YBQ"
      },
      "source": [
        "# 1.確保給定不同的輸入 會有不同的輸出"
      ]
    },
    {
      "cell_type": "code",
      "metadata": {
        "id": "Qa-lHXhJjI8M",
        "colab": {
          "base_uri": "https://localhost:8080/"
        },
        "outputId": "230b9456-176f-4249-cacd-4f5c98a71d76"
      },
      "source": [
        "f = F(config)\n",
        "f.Recommended_mode = True #(True or False)\n",
        "f.real_data_mode = True\n",
        "f._Post_processing = True\n",
        "\n",
        "# 輸入1\n",
        "c620_wt1,c620_op1,c660_wt1,c660_op1,c670_wt1,c670_op1 = f(icg_input.loc[[idx1]],c620_feed.loc[[idx1]],t651_feed.loc[[idx1]])\n",
        "\n",
        "# 輸入2\n",
        "c620_wt2,c620_op2,c660_wt2,c660_op2,c670_wt2,c670_op2 = f(icg_input.loc[[idx2]],c620_feed.loc[[idx2]],t651_feed.loc[[idx2]])"
      ],
      "execution_count": 6,
      "outputs": [
        {
          "output_type": "stream",
          "text": [
            "current Distillate Rate_m3/hr:0.22340500564133225 NA in Benzene_ppmw:980.0\n",
            "current Distillate Rate_m3/hr:0.3457234686312794 NA in Benzene_ppmw:980.0\n"
          ],
          "name": "stdout"
        }
      ]
    },
    {
      "cell_type": "code",
      "metadata": {
        "colab": {
          "base_uri": "https://localhost:8080/"
        },
        "id": "BofcSOZQpU3v",
        "outputId": "1307a419-efef-4327-c7e7-250ba12292a5"
      },
      "source": [
        "check_two_data(c620_wt1,c620_wt2)\n",
        "check_two_data(c620_op1,c620_op2)\n",
        "check_two_data(c660_wt1,c660_wt2)\n",
        "check_two_data(c660_op1,c660_op2)\n",
        "check_two_data(c670_wt1,c670_wt2)\n",
        "check_two_data(c670_op1,c670_op2)"
      ],
      "execution_count": 7,
      "outputs": [
        {
          "output_type": "stream",
          "text": [
            "不一樣\n",
            "不一樣\n",
            "不一樣\n",
            "不一樣\n",
            "不一樣\n",
            "不一樣\n"
          ],
          "name": "stdout"
        }
      ]
    },
    {
      "cell_type": "markdown",
      "metadata": {
        "id": "uQaOrbU918kJ"
      },
      "source": [
        "# 2.確保變更模式 推薦 和 試算 模式 有不同的輸出"
      ]
    },
    {
      "cell_type": "code",
      "metadata": {
        "id": "aQKOHeWVpZyO",
        "colab": {
          "base_uri": "https://localhost:8080/"
        },
        "outputId": "58707ffc-6716-4961-fbbc-b4043d7282a7"
      },
      "source": [
        "# 試算模式\n",
        "f.Recommended_mode = False #(True or False)\n",
        "c620_wt1,c620_op1,c660_wt1,c660_op1,c670_wt1,c670_op1 = f(icg_input.loc[[idx1]],c620_feed.loc[[idx1]],t651_feed.loc[[idx1]])\n",
        "\n",
        "# 推薦模式\n",
        "f.Recommended_mode = True #(True or False)\n",
        "c620_wt2,c620_op2,c660_wt2,c660_op2,c670_wt2,c670_op2 = f(icg_input.loc[[idx1]],c620_feed.loc[[idx1]],t651_feed.loc[[idx1]])"
      ],
      "execution_count": 8,
      "outputs": [
        {
          "output_type": "stream",
          "text": [
            "current Distillate Rate_m3/hr:0.22340500564133225 NA in Benzene_ppmw:980.0\n"
          ],
          "name": "stdout"
        }
      ]
    },
    {
      "cell_type": "code",
      "metadata": {
        "id": "MhYvVp9V1w7_",
        "colab": {
          "base_uri": "https://localhost:8080/"
        },
        "outputId": "bb0d043a-eccd-47a3-8be2-db2b6ee78b57"
      },
      "source": [
        "check_two_data(c620_wt1,c620_wt2)\n",
        "check_two_data(c620_op1,c620_op2)\n",
        "check_two_data(c660_wt1,c660_wt2)\n",
        "check_two_data(c660_op1,c660_op2)\n",
        "check_two_data(c670_wt1,c670_wt2)\n",
        "check_two_data(c670_op1,c670_op2)"
      ],
      "execution_count": 9,
      "outputs": [
        {
          "output_type": "stream",
          "text": [
            "不一樣\n",
            "不一樣\n",
            "不一樣\n",
            "不一樣\n",
            "不一樣\n",
            "不一樣\n"
          ],
          "name": "stdout"
        }
      ]
    },
    {
      "cell_type": "markdown",
      "metadata": {
        "id": "b-f7gz0bzJTU"
      },
      "source": [
        "# 確認icg_input 對應到後續系統的輸出值一致 主要有兩項要一致\n",
        "* 1.benzene in c620 side\n",
        "* 2.na in benzene"
      ]
    },
    {
      "cell_type": "code",
      "metadata": {
        "id": "2yPjX8QM2gej",
        "colab": {
          "base_uri": "https://localhost:8080/"
        },
        "outputId": "5a6177fc-cf7d-4858-f132-15cfe9ff152c"
      },
      "source": [
        "# 真實數據 試算模式\n",
        "print(icg_input.loc[[idx1],['Simulation Case Conditions_Spec 1 : Benzene in C620 Sidedraw_wt%']])\n",
        "print(icg_input.loc[[idx1],['Simulation Case Conditions_Spec 2 : NA in Benzene_ppmw']])\n",
        "f.Recommended_mode = False #(True or False)\n",
        "f.real_data_mode = True\n",
        "c620_wt1,c620_op1,c660_wt1,c660_op1,c670_wt1,c670_op1 = f(icg_input.loc[[idx1]],c620_feed.loc[[idx1]],t651_feed.loc[[idx1]])\n",
        "print(c620_wt1.filter(regex='Sidedraw Production Rate and Composition_Benzene_wt%'))\n",
        "naidx = [1,2,3,4,5,6,8,9,11,13,14,15,20,22,29]\n",
        "c660_wt1.filter(regex='Sidedraw').iloc[:,naidx].sum(axis=1)*10000"
      ],
      "execution_count": 10,
      "outputs": [
        {
          "output_type": "stream",
          "text": [
            "            Simulation Case Conditions_Spec 1 : Benzene in C620 Sidedraw_wt%\n",
            "2020-12-02                                             86.253               \n",
            "            Simulation Case Conditions_Spec 2 : NA in Benzene_ppmw\n",
            "2020-12-02                                              750.0     \n",
            "            Tatoray Stripper C620 Operation_Sidedraw Production Rate and Composition_Benzene_wt%\n",
            "2020-12-02                                             86.253                                   \n"
          ],
          "name": "stdout"
        },
        {
          "output_type": "execute_result",
          "data": {
            "text/plain": [
              "2020-12-02    750.0\n",
              "dtype: float64"
            ]
          },
          "metadata": {
            "tags": []
          },
          "execution_count": 10
        }
      ]
    },
    {
      "cell_type": "code",
      "metadata": {
        "id": "88D0asqGzV8C",
        "colab": {
          "base_uri": "https://localhost:8080/"
        },
        "outputId": "4cb443ab-0fa1-4870-d524-ac5e52d378cf"
      },
      "source": [
        "# 真實數據 推薦模式\n",
        "print(icg_input.loc[[idx1],['Simulation Case Conditions_Spec 1 : Benzene in C620 Sidedraw_wt%']])\n",
        "print(icg_input.loc[[idx1],['Simulation Case Conditions_Spec 2 : NA in Benzene_ppmw']])\n",
        "f.Recommended_mode = True #(True or False)\n",
        "f.real_data_mode = True\n",
        "c620_wt1,c620_op1,c660_wt1,c660_op1,c670_wt1,c670_op1 = f(icg_input.loc[[idx1]],c620_feed.loc[[idx1]],t651_feed.loc[[idx1]])\n",
        "print(c620_wt1.filter(regex='Sidedraw Production Rate and Composition_Benzene_wt%'))\n",
        "naidx = [1,2,3,4,5,6,8,9,11,13,14,15,20,22,29]\n",
        "c660_wt1.filter(regex='Sidedraw').iloc[:,naidx].sum(axis=1)*10000"
      ],
      "execution_count": 11,
      "outputs": [
        {
          "output_type": "stream",
          "text": [
            "            Simulation Case Conditions_Spec 1 : Benzene in C620 Sidedraw_wt%\n",
            "2020-12-02                                             86.253               \n",
            "            Simulation Case Conditions_Spec 2 : NA in Benzene_ppmw\n",
            "2020-12-02                                              750.0     \n",
            "current Distillate Rate_m3/hr:0.22340500564133225 NA in Benzene_ppmw:980.0\n",
            "            Tatoray Stripper C620 Operation_Sidedraw Production Rate and Composition_Benzene_wt%\n",
            "2020-12-02                                               70.0                                   \n"
          ],
          "name": "stdout"
        },
        {
          "output_type": "execute_result",
          "data": {
            "text/plain": [
              "2020-12-02    980.0\n",
              "dtype: float64"
            ]
          },
          "metadata": {
            "tags": []
          },
          "execution_count": 11
        }
      ]
    },
    {
      "cell_type": "code",
      "metadata": {
        "id": "1VsAT8yyzYVf",
        "colab": {
          "base_uri": "https://localhost:8080/"
        },
        "outputId": "0d1c09c5-d9f4-42e4-c4e5-d00566f94c49"
      },
      "source": [
        "# 模擬數據 試算模式\n",
        "demo = joblib.load('./data/demo.pkl')\n",
        "icg_input = demo['icg_input']\n",
        "c620_feed = demo['c620_feed']\n",
        "t651_feed = demo['t651_feed']\n",
        "idx1 = icg_input.index[0]\n",
        "print(icg_input.loc[[idx1],['Simulation Case Conditions_Spec 1 : Benzene in C620 Sidedraw_wt%']])\n",
        "print(icg_input.loc[[idx1],['Simulation Case Conditions_Spec 2 : NA in Benzene_ppmw']])\n",
        "f.Recommended_mode = False #(True or False)\n",
        "f.real_data_mode = False\n",
        "c620_wt1,c620_op1,c660_wt1,c660_op1,c670_wt1,c670_op1 = f(icg_input.loc[[idx1]],c620_feed.loc[[idx1]],t651_feed.loc[[idx1]])\n",
        "print(c620_wt1.filter(regex='Sidedraw Production Rate and Composition_Benzene_wt%'))\n",
        "naidx = [1,2,3,4,5,6,8,9,11,13,14,15,20,22,29]\n",
        "c660_wt1.filter(regex='Sidedraw').iloc[:,naidx].sum(axis=1)*10000"
      ],
      "execution_count": 12,
      "outputs": [
        {
          "output_type": "stream",
          "text": [
            "         Simulation Case Conditions_Spec 1 : Benzene in C620 Sidedraw_wt%\n",
            "096-002                                               90.0               \n",
            "         Simulation Case Conditions_Spec 2 : NA in Benzene_ppmw\n",
            "096-002                                              860.0     \n",
            "         Tatoray Stripper C620 Operation_Sidedraw Production Rate and Composition_Benzene_wt%\n",
            "096-002                                               90.0                                   \n"
          ],
          "name": "stdout"
        },
        {
          "output_type": "execute_result",
          "data": {
            "text/plain": [
              "096-002    860.0\n",
              "dtype: float64"
            ]
          },
          "metadata": {
            "tags": []
          },
          "execution_count": 12
        }
      ]
    },
    {
      "cell_type": "code",
      "metadata": {
        "id": "6SDzOwL1zgCP",
        "colab": {
          "base_uri": "https://localhost:8080/"
        },
        "outputId": "33b4328d-5192-42ea-d4eb-15967aea43dc"
      },
      "source": [
        "# 模擬數據 推薦模式\n",
        "demo = joblib.load('./data/demo.pkl')\n",
        "icg_input = demo['icg_input']\n",
        "c620_feed = demo['c620_feed']\n",
        "t651_feed = demo['t651_feed']\n",
        "idx1 = icg_input.index[0]\n",
        "print(icg_input.loc[[idx1],['Simulation Case Conditions_Spec 1 : Benzene in C620 Sidedraw_wt%']])\n",
        "print(icg_input.loc[[idx1],['Simulation Case Conditions_Spec 2 : NA in Benzene_ppmw']])\n",
        "f.Recommended_mode = True #(True or False)\n",
        "f.real_data_mode = False\n",
        "c620_wt1,c620_op1,c660_wt1,c660_op1,c670_wt1,c670_op1 = f(icg_input.loc[[idx1]],c620_feed.loc[[idx1]],t651_feed.loc[[idx1]])\n",
        "print(c620_wt1.filter(regex='Sidedraw Production Rate and Composition_Benzene_wt%'))\n",
        "naidx = [1,2,3,4,5,6,8,9,11,13,14,15,20,22,29]\n",
        "c660_wt1.filter(regex='Sidedraw').iloc[:,naidx].sum(axis=1)*10000"
      ],
      "execution_count": 13,
      "outputs": [
        {
          "output_type": "stream",
          "text": [
            "         Simulation Case Conditions_Spec 1 : Benzene in C620 Sidedraw_wt%\n",
            "096-002                                               90.0               \n",
            "         Simulation Case Conditions_Spec 2 : NA in Benzene_ppmw\n",
            "096-002                                              860.0     \n",
            "current Distillate Rate_m3/hr:0.5736505153872938 NA in Benzene_ppmw:980.0\n",
            "         Tatoray Stripper C620 Operation_Sidedraw Production Rate and Composition_Benzene_wt%\n",
            "096-002                                               70.0                                   \n"
          ],
          "name": "stdout"
        },
        {
          "output_type": "execute_result",
          "data": {
            "text/plain": [
              "096-002    980.0\n",
              "dtype: float64"
            ]
          },
          "metadata": {
            "tags": []
          },
          "execution_count": 13
        }
      ]
    },
    {
      "cell_type": "markdown",
      "metadata": {
        "id": "66bNCytF4k_D"
      },
      "source": [
        "# 操作條件預測太準的問題"
      ]
    },
    {
      "cell_type": "code",
      "metadata": {
        "id": "Mq7G0zRez7X1",
        "colab": {
          "base_uri": "https://localhost:8080/"
        },
        "outputId": "394fc3bb-6155-422a-d484-3ab0b36ac563"
      },
      "source": [
        "demo = joblib.load('./data/demo(real_data).pkl')\n",
        "print(demo.keys())\n",
        "idx = demo['icg_input'].sample(1).index[0]\n",
        "f.Recommended_mode = True #(True or False)\n",
        "f.real_data_mode = True\n",
        "f._linear_op_model = False\n",
        "c620_wt,c620_op,c660_wt,c660_op,c670_wt,c670_op = f(demo['icg_input'].loc[[idx]],demo['c620_feed'].loc[[idx]],demo['t651_feed'].loc[[idx]])"
      ],
      "execution_count": 47,
      "outputs": [
        {
          "output_type": "stream",
          "text": [
            "dict_keys(['icg_input', 'c620_feed', 't651_feed', 'c620_op', 'c660_op', 'c670_op', 'c620_wt', 'c660_wt', 'c670_wt'])\n",
            "current Distillate Rate_m3/hr:0.2937528180580594 NA in Benzene_ppmw:980.0\n"
          ],
          "name": "stdout"
        }
      ]
    },
    {
      "cell_type": "code",
      "metadata": {
        "id": "QylCqWYK5Zxi",
        "colab": {
          "base_uri": "https://localhost:8080/",
          "height": 80
        },
        "outputId": "9dba50c6-f3da-49c1-9781-af8594df923b"
      },
      "source": [
        "(c620_op.iloc[:,-2:] - demo['c620_op'].loc[[idx]].iloc[:,-2:])**2"
      ],
      "execution_count": 48,
      "outputs": [
        {
          "output_type": "execute_result",
          "data": {
            "text/html": [
              "<div>\n",
              "<style scoped>\n",
              "    .dataframe tbody tr th:only-of-type {\n",
              "        vertical-align: middle;\n",
              "    }\n",
              "\n",
              "    .dataframe tbody tr th {\n",
              "        vertical-align: top;\n",
              "    }\n",
              "\n",
              "    .dataframe thead th {\n",
              "        text-align: right;\n",
              "    }\n",
              "</style>\n",
              "<table border=\"1\" class=\"dataframe\">\n",
              "  <thead>\n",
              "    <tr style=\"text-align: right;\">\n",
              "      <th></th>\n",
              "      <th>Tatoray Stripper C620 Operation_Column Temp Profile_C620 Tray 14 (Control)_oC</th>\n",
              "      <th>Tatoray Stripper C620 Operation_Column Temp Profile_C620 Tray 34 (Control)_oC</th>\n",
              "    </tr>\n",
              "  </thead>\n",
              "  <tbody>\n",
              "    <tr>\n",
              "      <th>2020-11-28</th>\n",
              "      <td>47.57374</td>\n",
              "      <td>4.453181</td>\n",
              "    </tr>\n",
              "  </tbody>\n",
              "</table>\n",
              "</div>"
            ],
            "text/plain": [
              "            Tatoray Stripper C620 Operation_Column Temp Profile_C620 Tray 14 (Control)_oC  Tatoray Stripper C620 Operation_Column Temp Profile_C620 Tray 34 (Control)_oC\n",
              "2020-11-28                                           47.57374                                                                       4.453181                            "
            ]
          },
          "metadata": {
            "tags": []
          },
          "execution_count": 48
        }
      ]
    },
    {
      "cell_type": "code",
      "metadata": {
        "id": "2bep7CS29fBQ",
        "outputId": "98a5239b-3b46-40c4-9654-5af83d1b72b6",
        "colab": {
          "base_uri": "https://localhost:8080/",
          "height": 80
        }
      },
      "source": [
        "(c660_op.iloc[:,-2:]-demo['c660_op'].loc[[idx]].iloc[:,-2:])**2"
      ],
      "execution_count": 49,
      "outputs": [
        {
          "output_type": "execute_result",
          "data": {
            "text/html": [
              "<div>\n",
              "<style scoped>\n",
              "    .dataframe tbody tr th:only-of-type {\n",
              "        vertical-align: middle;\n",
              "    }\n",
              "\n",
              "    .dataframe tbody tr th {\n",
              "        vertical-align: top;\n",
              "    }\n",
              "\n",
              "    .dataframe thead th {\n",
              "        text-align: right;\n",
              "    }\n",
              "</style>\n",
              "<table border=\"1\" class=\"dataframe\">\n",
              "  <thead>\n",
              "    <tr style=\"text-align: right;\">\n",
              "      <th></th>\n",
              "      <th>Benzene Column C660 Operation_Column Temp Profile_C660 Tray 6 (SD &amp; Control)_oC</th>\n",
              "      <th>Benzene Column C660 Operation_Column Temp Profile_C660 Tray 23 (Control)_oC</th>\n",
              "    </tr>\n",
              "  </thead>\n",
              "  <tbody>\n",
              "    <tr>\n",
              "      <th>2020-11-28</th>\n",
              "      <td>3.635237</td>\n",
              "      <td>3.81208</td>\n",
              "    </tr>\n",
              "  </tbody>\n",
              "</table>\n",
              "</div>"
            ],
            "text/plain": [
              "            Benzene Column C660 Operation_Column Temp Profile_C660 Tray 6 (SD & Control)_oC  Benzene Column C660 Operation_Column Temp Profile_C660 Tray 23 (Control)_oC\n",
              "2020-11-28                                           3.635237                                                                          3.81208                          "
            ]
          },
          "metadata": {
            "tags": []
          },
          "execution_count": 49
        }
      ]
    },
    {
      "cell_type": "code",
      "metadata": {
        "id": "foUjCFtR-W6j",
        "outputId": "8ccdd53f-bedd-45bd-ee7d-282734c62e63",
        "colab": {
          "base_uri": "https://localhost:8080/",
          "height": 80
        }
      },
      "source": [
        "(c670_op.iloc[:,-2:]-demo['c670_op'].loc[[idx]].iloc[:,-2:])**2"
      ],
      "execution_count": 50,
      "outputs": [
        {
          "output_type": "execute_result",
          "data": {
            "text/html": [
              "<div>\n",
              "<style scoped>\n",
              "    .dataframe tbody tr th:only-of-type {\n",
              "        vertical-align: middle;\n",
              "    }\n",
              "\n",
              "    .dataframe tbody tr th {\n",
              "        vertical-align: top;\n",
              "    }\n",
              "\n",
              "    .dataframe thead th {\n",
              "        text-align: right;\n",
              "    }\n",
              "</style>\n",
              "<table border=\"1\" class=\"dataframe\">\n",
              "  <thead>\n",
              "    <tr style=\"text-align: right;\">\n",
              "      <th></th>\n",
              "      <th>Toluene Column C670 Operation_Column Temp Profile_C670 Tray 24 (Control)_oC</th>\n",
              "      <th>Toluene Column C670 Operation_Column Temp Profile_C670 Btm Temp (Control)_oC</th>\n",
              "    </tr>\n",
              "  </thead>\n",
              "  <tbody>\n",
              "    <tr>\n",
              "      <th>2020-11-28</th>\n",
              "      <td>0.004545</td>\n",
              "      <td>2.350853</td>\n",
              "    </tr>\n",
              "  </tbody>\n",
              "</table>\n",
              "</div>"
            ],
            "text/plain": [
              "            Toluene Column C670 Operation_Column Temp Profile_C670 Tray 24 (Control)_oC  Toluene Column C670 Operation_Column Temp Profile_C670 Btm Temp (Control)_oC\n",
              "2020-11-28                                           0.004545                                                                     2.350853                           "
            ]
          },
          "metadata": {
            "tags": []
          },
          "execution_count": 50
        }
      ]
    },
    {
      "cell_type": "markdown",
      "metadata": {
        "id": "ku8Xf-5f1YB3"
      },
      "source": [
        "# 把操作模組改成線性模組"
      ]
    },
    {
      "cell_type": "code",
      "metadata": {
        "id": "Div1tA2j0hz3",
        "colab": {
          "base_uri": "https://localhost:8080/"
        },
        "outputId": "8ab8e2c8-0b37-45f7-fb70-88d7bb2afb93"
      },
      "source": [
        "f.Recommended_mode = True #(True or False)\n",
        "f.real_data_mode = True\n",
        "f._linear_op_model = True\n",
        "c620_wt,c620_op,c660_wt,c660_op,c670_wt,c670_op = f(demo['icg_input'].loc[[idx]],demo['c620_feed'].loc[[idx]],demo['t651_feed'].loc[[idx]])"
      ],
      "execution_count": 51,
      "outputs": [
        {
          "output_type": "stream",
          "text": [
            "current Distillate Rate_m3/hr:0.2937528180580594 NA in Benzene_ppmw:980.0\n"
          ],
          "name": "stdout"
        }
      ]
    },
    {
      "cell_type": "code",
      "metadata": {
        "id": "fqAQIp0a1NaX",
        "colab": {
          "base_uri": "https://localhost:8080/",
          "height": 80
        },
        "outputId": "c081cd66-a025-4881-831f-1b3a48af6c30"
      },
      "source": [
        "(c620_op.iloc[:,-2:] - demo['c620_op'].loc[[idx]].iloc[:,-2:])**2"
      ],
      "execution_count": 52,
      "outputs": [
        {
          "output_type": "execute_result",
          "data": {
            "text/html": [
              "<div>\n",
              "<style scoped>\n",
              "    .dataframe tbody tr th:only-of-type {\n",
              "        vertical-align: middle;\n",
              "    }\n",
              "\n",
              "    .dataframe tbody tr th {\n",
              "        vertical-align: top;\n",
              "    }\n",
              "\n",
              "    .dataframe thead th {\n",
              "        text-align: right;\n",
              "    }\n",
              "</style>\n",
              "<table border=\"1\" class=\"dataframe\">\n",
              "  <thead>\n",
              "    <tr style=\"text-align: right;\">\n",
              "      <th></th>\n",
              "      <th>Tatoray Stripper C620 Operation_Column Temp Profile_C620 Tray 14 (Control)_oC</th>\n",
              "      <th>Tatoray Stripper C620 Operation_Column Temp Profile_C620 Tray 34 (Control)_oC</th>\n",
              "    </tr>\n",
              "  </thead>\n",
              "  <tbody>\n",
              "    <tr>\n",
              "      <th>2020-11-28</th>\n",
              "      <td>9.624155</td>\n",
              "      <td>560.194233</td>\n",
              "    </tr>\n",
              "  </tbody>\n",
              "</table>\n",
              "</div>"
            ],
            "text/plain": [
              "            Tatoray Stripper C620 Operation_Column Temp Profile_C620 Tray 14 (Control)_oC  Tatoray Stripper C620 Operation_Column Temp Profile_C620 Tray 34 (Control)_oC\n",
              "2020-11-28                                           9.624155                                                                     560.194233                            "
            ]
          },
          "metadata": {
            "tags": []
          },
          "execution_count": 52
        }
      ]
    },
    {
      "cell_type": "code",
      "metadata": {
        "id": "PE9MGki61SIg",
        "outputId": "dbbbb7fe-66f4-423c-fb4c-0a1b257d61a5",
        "colab": {
          "base_uri": "https://localhost:8080/",
          "height": 80
        }
      },
      "source": [
        "(c660_op.iloc[:,-2:]-demo['c660_op'].loc[[idx]].iloc[:,-2:])**2"
      ],
      "execution_count": 53,
      "outputs": [
        {
          "output_type": "execute_result",
          "data": {
            "text/html": [
              "<div>\n",
              "<style scoped>\n",
              "    .dataframe tbody tr th:only-of-type {\n",
              "        vertical-align: middle;\n",
              "    }\n",
              "\n",
              "    .dataframe tbody tr th {\n",
              "        vertical-align: top;\n",
              "    }\n",
              "\n",
              "    .dataframe thead th {\n",
              "        text-align: right;\n",
              "    }\n",
              "</style>\n",
              "<table border=\"1\" class=\"dataframe\">\n",
              "  <thead>\n",
              "    <tr style=\"text-align: right;\">\n",
              "      <th></th>\n",
              "      <th>Benzene Column C660 Operation_Column Temp Profile_C660 Tray 6 (SD &amp; Control)_oC</th>\n",
              "      <th>Benzene Column C660 Operation_Column Temp Profile_C660 Tray 23 (Control)_oC</th>\n",
              "    </tr>\n",
              "  </thead>\n",
              "  <tbody>\n",
              "    <tr>\n",
              "      <th>2020-11-28</th>\n",
              "      <td>3.635237</td>\n",
              "      <td>3.81208</td>\n",
              "    </tr>\n",
              "  </tbody>\n",
              "</table>\n",
              "</div>"
            ],
            "text/plain": [
              "            Benzene Column C660 Operation_Column Temp Profile_C660 Tray 6 (SD & Control)_oC  Benzene Column C660 Operation_Column Temp Profile_C660 Tray 23 (Control)_oC\n",
              "2020-11-28                                           3.635237                                                                          3.81208                          "
            ]
          },
          "metadata": {
            "tags": []
          },
          "execution_count": 53
        }
      ]
    },
    {
      "cell_type": "code",
      "metadata": {
        "id": "HR4cQ7rp9xS8",
        "outputId": "dbe3f165-dd60-4a78-cf9d-676d3c48c22f",
        "colab": {
          "base_uri": "https://localhost:8080/",
          "height": 80
        }
      },
      "source": [
        "(c670_op.iloc[:,-2:]-demo['c670_op'].loc[[idx]].iloc[:,-2:])**2"
      ],
      "execution_count": 54,
      "outputs": [
        {
          "output_type": "execute_result",
          "data": {
            "text/html": [
              "<div>\n",
              "<style scoped>\n",
              "    .dataframe tbody tr th:only-of-type {\n",
              "        vertical-align: middle;\n",
              "    }\n",
              "\n",
              "    .dataframe tbody tr th {\n",
              "        vertical-align: top;\n",
              "    }\n",
              "\n",
              "    .dataframe thead th {\n",
              "        text-align: right;\n",
              "    }\n",
              "</style>\n",
              "<table border=\"1\" class=\"dataframe\">\n",
              "  <thead>\n",
              "    <tr style=\"text-align: right;\">\n",
              "      <th></th>\n",
              "      <th>Toluene Column C670 Operation_Column Temp Profile_C670 Tray 24 (Control)_oC</th>\n",
              "      <th>Toluene Column C670 Operation_Column Temp Profile_C670 Btm Temp (Control)_oC</th>\n",
              "    </tr>\n",
              "  </thead>\n",
              "  <tbody>\n",
              "    <tr>\n",
              "      <th>2020-11-28</th>\n",
              "      <td>0.004545</td>\n",
              "      <td>2.350853</td>\n",
              "    </tr>\n",
              "  </tbody>\n",
              "</table>\n",
              "</div>"
            ],
            "text/plain": [
              "            Toluene Column C670 Operation_Column Temp Profile_C670 Tray 24 (Control)_oC  Toluene Column C670 Operation_Column Temp Profile_C670 Btm Temp (Control)_oC\n",
              "2020-11-28                                           0.004545                                                                     2.350853                           "
            ]
          },
          "metadata": {
            "tags": []
          },
          "execution_count": 54
        }
      ]
    },
    {
      "cell_type": "code",
      "metadata": {
        "id": "CDQF8Kix93oS"
      },
      "source": [
        ""
      ],
      "execution_count": null,
      "outputs": []
    }
  ]
}