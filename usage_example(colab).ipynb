{
  "nbformat": 4,
  "nbformat_minor": 0,
  "metadata": {
    "colab": {
      "name": "usage_example.ipynb",
      "provenance": [],
      "mount_file_id": "1EkEB-qXjPRmudXTmuHHtlwsWr1V9Wzxh",
      "authorship_tag": "ABX9TyMC3/O5alrUrJT2ejMIfUkM",
      "include_colab_link": true
    },
    "kernelspec": {
      "name": "python3",
      "display_name": "Python 3"
    }
  },
  "cells": [
    {
      "cell_type": "markdown",
      "metadata": {
        "id": "view-in-github",
        "colab_type": "text"
      },
      "source": [
        "<a href=\"https://colab.research.google.com/github/skywalker0803r/c620/blob/main/usage_example.ipynb\" target=\"_parent\"><img src=\"https://colab.research.google.com/assets/colab-badge.svg\" alt=\"Open In Colab\"/></a>"
      ]
    },
    {
      "cell_type": "markdown",
      "metadata": {
        "id": "geeed9roqKSP"
      },
      "source": [
        "# install"
      ]
    },
    {
      "cell_type": "code",
      "metadata": {
        "colab": {
          "base_uri": "https://localhost:8080/"
        },
        "id": "yoR0u4yuiWnd",
        "outputId": "b94bbc30-447b-4604-aa52-4cbbb673651a"
      },
      "source": [
        "!git clone https://github.com/skywalker0803r/c620.git\n",
        "!pip install autorch > log.txt"
      ],
      "execution_count": 1,
      "outputs": [
        {
          "output_type": "stream",
          "text": [
            "fatal: destination path 'c620' already exists and is not an empty directory.\n"
          ],
          "name": "stdout"
        }
      ]
    },
    {
      "cell_type": "markdown",
      "metadata": {
        "id": "ZybB7ygZqJLM"
      },
      "source": [
        "# import "
      ]
    },
    {
      "cell_type": "code",
      "metadata": {
        "colab": {
          "base_uri": "https://localhost:8080/"
        },
        "id": "FFcAtS_vixO-",
        "outputId": "2b1679c9-d2cb-43aa-ba64-13f017c88c1f"
      },
      "source": [
        "from c620.F import F\n",
        "from c620.config import config\n",
        "import joblib\n",
        "import numpy as np\n",
        "import pandas as pd\n",
        "import os\n",
        "os.chdir('/content/c620')\n",
        "print(os.getcwd())"
      ],
      "execution_count": 2,
      "outputs": [
        {
          "output_type": "stream",
          "text": [
            "/content/c620\n"
          ],
          "name": "stdout"
        }
      ]
    },
    {
      "cell_type": "markdown",
      "metadata": {
        "id": "7Wjx-_s0qM0G"
      },
      "source": [
        "# demo data"
      ]
    },
    {
      "cell_type": "code",
      "metadata": {
        "id": "XVCHP95Vi3I6"
      },
      "source": [
        "tag = 'test001'\n",
        "demo = joblib.load('./data/demo.pkl')\n",
        "c620_case = demo['c620_case']\n",
        "c620_feed = demo['c620_feed']\n",
        "t651_feed = demo['t651_feed']\n",
        "t651_mf = demo['t651_mf'].to_frame()\n",
        "c620_mf_side = demo['c620_mf_side'].to_frame()\n",
        "c660_case = demo['c660_case']\n",
        "c620_mf_bot = demo['c620_mf_bot'].to_frame()\n",
        "c660_mf_bot = demo['c660_mf_bot'].to_frame()\n",
        "c670_bf = demo['c670_bf']"
      ],
      "execution_count": 3,
      "outputs": []
    },
    {
      "cell_type": "markdown",
      "metadata": {
        "id": "O_sd4WlSl2rb"
      },
      "source": [
        "# ICG"
      ]
    },
    {
      "cell_type": "code",
      "metadata": {
        "colab": {
          "base_uri": "https://localhost:8080/",
          "height": 168
        },
        "id": "IvZJiMaolBd5",
        "outputId": "f96f857d-f7e2-4eb5-db64-fe88331843de"
      },
      "source": [
        "model_icg = joblib.load('model/c620_icg.pkl')\n",
        "ICG_Input = pd.DataFrame(index=[tag],columns=model_icg.x_col)\n",
        "for cname in ICG_Input.columns:\n",
        "    min_ = model_icg.ss_x.data_min_[model_icg.x_col.index(cname)]\n",
        "    max_ = model_icg.ss_x.data_max_[model_icg.x_col.index(cname)]\n",
        "    mean_ = min_ + (max_ - min_)/2\n",
        "    ICG_Input[cname] = mean_\n",
        "ICG_Input"
      ],
      "execution_count": 4,
      "outputs": [
        {
          "output_type": "execute_result",
          "data": {
            "text/html": [
              "<div>\n",
              "<style scoped>\n",
              "    .dataframe tbody tr th:only-of-type {\n",
              "        vertical-align: middle;\n",
              "    }\n",
              "\n",
              "    .dataframe tbody tr th {\n",
              "        vertical-align: top;\n",
              "    }\n",
              "\n",
              "    .dataframe thead th {\n",
              "        text-align: right;\n",
              "    }\n",
              "</style>\n",
              "<table border=\"1\" class=\"dataframe\">\n",
              "  <thead>\n",
              "    <tr style=\"text-align: right;\">\n",
              "      <th></th>\n",
              "      <th>Simulation Case Conditions_Feed Rate_Feed from V615 Btm_m3/hr</th>\n",
              "      <th>Simulation Case Conditions_Feed Rate_Feed from V615 Btm    NA_wt%</th>\n",
              "      <th>Simulation Case Conditions_Feed Rate_Feed from V615 Btm    Benzene_wt%</th>\n",
              "      <th>Simulation Case Conditions_Feed Rate_Feed from V615 Btm    Toluene_wt%</th>\n",
              "      <th>Simulation Case Conditions_Feed Rate_Feed from C820 Dist_m3/hr</th>\n",
              "      <th>Simulation Case Conditions_Feed Rate_Feed from C820 Dist    NA_wt%</th>\n",
              "      <th>Simulation Case Conditions_Feed Rate_Feed from C820 Dist    Benzene_wt%</th>\n",
              "      <th>Simulation Case Conditions_Feed Rate_Feed from C820 Dist    Toluene_wt%</th>\n",
              "      <th>Simulation Case Conditions_Feed Rate_Feed from T651_m3/hr</th>\n",
              "      <th>Simulation Case Conditions_Feed Rate_Feed from T651    NA_wt%</th>\n",
              "      <th>Simulation Case Conditions_Feed Rate_Feed from T651    Benzene_wt%</th>\n",
              "      <th>Simulation Case Conditions_Feed Rate_Feed from T651    Toluene_wt%</th>\n",
              "      <th>Simulation Case Conditions_Spec 1 : Benzene in C620 Sidedraw_wt%</th>\n",
              "      <th>Simulation Case Conditions_Spec 2 : NA in Benzene_ppmw</th>\n",
              "    </tr>\n",
              "  </thead>\n",
              "  <tbody>\n",
              "    <tr>\n",
              "      <th>test001</th>\n",
              "      <td>181.5</td>\n",
              "      <td>1.236011</td>\n",
              "      <td>10.736613</td>\n",
              "      <td>44.816494</td>\n",
              "      <td>15.0</td>\n",
              "      <td>2.338977</td>\n",
              "      <td>74.302254</td>\n",
              "      <td>17.467825</td>\n",
              "      <td>62.0</td>\n",
              "      <td>0.27175</td>\n",
              "      <td>32.548999</td>\n",
              "      <td>59.738174</td>\n",
              "      <td>80.0</td>\n",
              "      <td>890.0</td>\n",
              "    </tr>\n",
              "  </tbody>\n",
              "</table>\n",
              "</div>"
            ],
            "text/plain": [
              "         Simulation Case Conditions_Feed Rate_Feed from V615 Btm_m3/hr  ...  Simulation Case Conditions_Spec 2 : NA in Benzene_ppmw\n",
              "test001                                              181.5              ...                                              890.0     \n",
              "\n",
              "[1 rows x 14 columns]"
            ]
          },
          "metadata": {
            "tags": []
          },
          "execution_count": 4
        }
      ]
    },
    {
      "cell_type": "code",
      "metadata": {
        "id": "Dx5-nSqfmFdV"
      },
      "source": [
        "def icg_predict(icg_input):\n",
        "    while True:\n",
        "        output = model_icg.predict(icg_input)\n",
        "        if np.allclose(output['Simulation Case Conditions_C620 Distillate Rate_m3/hr'].values[0],0.01,atol=1e-2):\n",
        "            info = 'current NA in Benzene_ppmw is:{} current Distillate Rate is:{} so NA in Benzene_ppmw -= 30'.format(\n",
        "                icg_input['Simulation Case Conditions_Spec 2 : NA in Benzene_ppmw'].values[0],\n",
        "                output['Simulation Case Conditions_C620 Distillate Rate_m3/hr'].values[0])\n",
        "            icg_input['Simulation Case Conditions_Spec 2 : NA in Benzene_ppmw'] -= 30\n",
        "            print(info)\n",
        "        else:\n",
        "            return output"
      ],
      "execution_count": 5,
      "outputs": []
    },
    {
      "cell_type": "code",
      "metadata": {
        "colab": {
          "base_uri": "https://localhost:8080/",
          "height": 148
        },
        "id": "7VKStEZ3l4z-",
        "outputId": "5107038d-ed77-4af4-b012-b8b93221c845"
      },
      "source": [
        "icg_dist = icg_predict(ICG_Input)\n",
        "icg_dist"
      ],
      "execution_count": 6,
      "outputs": [
        {
          "output_type": "stream",
          "text": [
            "current NA in Benzene_ppmw is:890.0 current Distillate Rate is:0.010853055864572525 so NA in Benzene_ppmw -= 30\n",
            "current NA in Benzene_ppmw is:860.0 current Distillate Rate is:0.012139653787016869 so NA in Benzene_ppmw -= 30\n",
            "current NA in Benzene_ppmw is:830.0 current Distillate Rate is:0.014894361607730389 so NA in Benzene_ppmw -= 30\n",
            "current NA in Benzene_ppmw is:800.0 current Distillate Rate is:0.019841216504573822 so NA in Benzene_ppmw -= 30\n"
          ],
          "name": "stdout"
        },
        {
          "output_type": "execute_result",
          "data": {
            "text/html": [
              "<div>\n",
              "<style scoped>\n",
              "    .dataframe tbody tr th:only-of-type {\n",
              "        vertical-align: middle;\n",
              "    }\n",
              "\n",
              "    .dataframe tbody tr th {\n",
              "        vertical-align: top;\n",
              "    }\n",
              "\n",
              "    .dataframe thead th {\n",
              "        text-align: right;\n",
              "    }\n",
              "</style>\n",
              "<table border=\"1\" class=\"dataframe\">\n",
              "  <thead>\n",
              "    <tr style=\"text-align: right;\">\n",
              "      <th></th>\n",
              "      <th>Simulation Case Conditions_C620 Distillate Rate_m3/hr</th>\n",
              "    </tr>\n",
              "  </thead>\n",
              "  <tbody>\n",
              "    <tr>\n",
              "      <th>test001</th>\n",
              "      <td>0.028154</td>\n",
              "    </tr>\n",
              "  </tbody>\n",
              "</table>\n",
              "</div>"
            ],
            "text/plain": [
              "         Simulation Case Conditions_C620 Distillate Rate_m3/hr\n",
              "test001                                           0.028154    "
            ]
          },
          "metadata": {
            "tags": []
          },
          "execution_count": 6
        }
      ]
    },
    {
      "cell_type": "markdown",
      "metadata": {
        "id": "5ONKsOMwn40v"
      },
      "source": [
        "# ICG Distillate Rate 代入 c620_case"
      ]
    },
    {
      "cell_type": "code",
      "metadata": {
        "colab": {
          "base_uri": "https://localhost:8080/",
          "height": 80
        },
        "id": "ap7NC6BOn5K9",
        "outputId": "52ea6a03-77fd-4bc9-d9ba-12a93a79d3a6"
      },
      "source": [
        "c620_case"
      ],
      "execution_count": 7,
      "outputs": [
        {
          "output_type": "execute_result",
          "data": {
            "text/html": [
              "<div>\n",
              "<style scoped>\n",
              "    .dataframe tbody tr th:only-of-type {\n",
              "        vertical-align: middle;\n",
              "    }\n",
              "\n",
              "    .dataframe tbody tr th {\n",
              "        vertical-align: top;\n",
              "    }\n",
              "\n",
              "    .dataframe thead th {\n",
              "        text-align: right;\n",
              "    }\n",
              "</style>\n",
              "<table border=\"1\" class=\"dataframe\">\n",
              "  <thead>\n",
              "    <tr style=\"text-align: right;\">\n",
              "      <th></th>\n",
              "      <th>Tatoray Stripper C620 Operation_Specifications_Spec 2 : Distillate Rate_m3/hr</th>\n",
              "      <th>Tatoray Stripper C620 Operation_Specifications_Spec 3 : Benzene in Sidedraw_wt%</th>\n",
              "    </tr>\n",
              "  </thead>\n",
              "  <tbody>\n",
              "    <tr>\n",
              "      <th>028-050</th>\n",
              "      <td>0.25</td>\n",
              "      <td>70.0</td>\n",
              "    </tr>\n",
              "  </tbody>\n",
              "</table>\n",
              "</div>"
            ],
            "text/plain": [
              "         Tatoray Stripper C620 Operation_Specifications_Spec 2 : Distillate Rate_m3/hr  Tatoray Stripper C620 Operation_Specifications_Spec 3 : Benzene in Sidedraw_wt%\n",
              "028-050                                               0.25                                                                           70.0                              "
            ]
          },
          "metadata": {
            "tags": []
          },
          "execution_count": 7
        }
      ]
    },
    {
      "cell_type": "code",
      "metadata": {
        "id": "MvdzLK6AoEN-"
      },
      "source": [
        "c620_case['Tatoray Stripper C620 Operation_Specifications_Spec 2 : Distillate Rate_m3/hr'] = icg_dist.values[0][0]"
      ],
      "execution_count": 8,
      "outputs": []
    },
    {
      "cell_type": "code",
      "metadata": {
        "colab": {
          "base_uri": "https://localhost:8080/",
          "height": 80
        },
        "id": "5nqaXNUCoWcJ",
        "outputId": "9f4f4cb1-cb2c-40bd-bae1-cc9d305d5709"
      },
      "source": [
        "c620_case"
      ],
      "execution_count": 9,
      "outputs": [
        {
          "output_type": "execute_result",
          "data": {
            "text/html": [
              "<div>\n",
              "<style scoped>\n",
              "    .dataframe tbody tr th:only-of-type {\n",
              "        vertical-align: middle;\n",
              "    }\n",
              "\n",
              "    .dataframe tbody tr th {\n",
              "        vertical-align: top;\n",
              "    }\n",
              "\n",
              "    .dataframe thead th {\n",
              "        text-align: right;\n",
              "    }\n",
              "</style>\n",
              "<table border=\"1\" class=\"dataframe\">\n",
              "  <thead>\n",
              "    <tr style=\"text-align: right;\">\n",
              "      <th></th>\n",
              "      <th>Tatoray Stripper C620 Operation_Specifications_Spec 2 : Distillate Rate_m3/hr</th>\n",
              "      <th>Tatoray Stripper C620 Operation_Specifications_Spec 3 : Benzene in Sidedraw_wt%</th>\n",
              "    </tr>\n",
              "  </thead>\n",
              "  <tbody>\n",
              "    <tr>\n",
              "      <th>028-050</th>\n",
              "      <td>0.028154</td>\n",
              "      <td>70.0</td>\n",
              "    </tr>\n",
              "  </tbody>\n",
              "</table>\n",
              "</div>"
            ],
            "text/plain": [
              "         Tatoray Stripper C620 Operation_Specifications_Spec 2 : Distillate Rate_m3/hr  Tatoray Stripper C620 Operation_Specifications_Spec 3 : Benzene in Sidedraw_wt%\n",
              "028-050                                           0.028154                                                                           70.0                              "
            ]
          },
          "metadata": {
            "tags": []
          },
          "execution_count": 9
        }
      ]
    },
    {
      "cell_type": "markdown",
      "metadata": {
        "id": "HcvWuhpDn3Ic"
      },
      "source": [
        "# F"
      ]
    },
    {
      "cell_type": "code",
      "metadata": {
        "id": "Qa-lHXhJjI8M"
      },
      "source": [
        "f = F(config)\n",
        "c620_wt,c620_op,c660_wt,c660_op,c670_wt,c670_op = f(c620_case,c620_feed,t651_feed,t651_mf,c620_mf_side,c660_case,c620_mf_bot,c660_mf_bot,c670_bf)"
      ],
      "execution_count": 10,
      "outputs": []
    },
    {
      "cell_type": "code",
      "metadata": {
        "colab": {
          "base_uri": "https://localhost:8080/",
          "height": 265
        },
        "id": "cw-XxB-RjOAi",
        "outputId": "59e5b63f-8743-4754-c48a-ec583c52e082"
      },
      "source": [
        "c620_wt"
      ],
      "execution_count": 11,
      "outputs": [
        {
          "output_type": "execute_result",
          "data": {
            "text/html": [
              "<div>\n",
              "<style scoped>\n",
              "    .dataframe tbody tr th:only-of-type {\n",
              "        vertical-align: middle;\n",
              "    }\n",
              "\n",
              "    .dataframe tbody tr th {\n",
              "        vertical-align: top;\n",
              "    }\n",
              "\n",
              "    .dataframe thead th {\n",
              "        text-align: right;\n",
              "    }\n",
              "</style>\n",
              "<table border=\"1\" class=\"dataframe\">\n",
              "  <thead>\n",
              "    <tr style=\"text-align: right;\">\n",
              "      <th></th>\n",
              "      <th>Tatoray Stripper C620 Operation_Vent Gas Production Rate and Composition_Hydrogen_wt%</th>\n",
              "      <th>Tatoray Stripper C620 Operation_Vent Gas Production Rate and Composition_Methane_wt%</th>\n",
              "      <th>Tatoray Stripper C620 Operation_Vent Gas Production Rate and Composition_Ethane_wt%</th>\n",
              "      <th>Tatoray Stripper C620 Operation_Vent Gas Production Rate and Composition_Propane_wt%</th>\n",
              "      <th>Tatoray Stripper C620 Operation_Vent Gas Production Rate and Composition_n-Butane_wt%</th>\n",
              "      <th>Tatoray Stripper C620 Operation_Vent Gas Production Rate and Composition_n-Pentane_wt%</th>\n",
              "      <th>Tatoray Stripper C620 Operation_Vent Gas Production Rate and Composition_n-Hexane_wt%</th>\n",
              "      <th>Tatoray Stripper C620 Operation_Vent Gas Production Rate and Composition_Benzene_wt%</th>\n",
              "      <th>Tatoray Stripper C620 Operation_Vent Gas Production Rate and Composition_Cyclohexane_wt%</th>\n",
              "      <th>Tatoray Stripper C620 Operation_Vent Gas Production Rate and Composition_n-Heptane_wt%</th>\n",
              "      <th>Tatoray Stripper C620 Operation_Vent Gas Production Rate and Composition_Water_wt%</th>\n",
              "      <th>Tatoray Stripper C620 Operation_Vent Gas Production Rate and Composition_Methylcyclohexane_wt%</th>\n",
              "      <th>Tatoray Stripper C620 Operation_Vent Gas Production Rate and Composition_Toluene_wt%</th>\n",
              "      <th>Tatoray Stripper C620 Operation_Vent Gas Production Rate and Composition_n-Octane_wt%</th>\n",
              "      <th>Tatoray Stripper C620 Operation_Vent Gas Production Rate and Composition_n-Propylcyclopentane_wt%</th>\n",
              "      <th>Tatoray Stripper C620 Operation_Vent Gas Production Rate and Composition_Ethylcyclohexane_wt%</th>\n",
              "      <th>Tatoray Stripper C620 Operation_Vent Gas Production Rate and Composition_Ethylbenzene_wt%</th>\n",
              "      <th>Tatoray Stripper C620 Operation_Vent Gas Production Rate and Composition_p-Xylene_wt%</th>\n",
              "      <th>Tatoray Stripper C620 Operation_Vent Gas Production Rate and Composition_m-Xylene_wt%</th>\n",
              "      <th>Tatoray Stripper C620 Operation_Vent Gas Production Rate and Composition_o-Xylene_wt%</th>\n",
              "      <th>Tatoray Stripper C620 Operation_Vent Gas Production Rate and Composition_n-Nonane_wt%</th>\n",
              "      <th>Tatoray Stripper C620 Operation_Vent Gas Production Rate and Composition_i-Propylbenzene_wt%</th>\n",
              "      <th>Tatoray Stripper C620 Operation_Vent Gas Production Rate and Composition_n-Propylcyclohexane_wt%</th>\n",
              "      <th>Tatoray Stripper C620 Operation_Vent Gas Production Rate and Composition_n-Propylbenzene_wt%</th>\n",
              "      <th>Tatoray Stripper C620 Operation_Vent Gas Production Rate and Composition_1-Methyl-3-ethylbenzene_wt%</th>\n",
              "      <th>Tatoray Stripper C620 Operation_Vent Gas Production Rate and Composition_1-Methyl-4-ethylbenzene_wt%</th>\n",
              "      <th>Tatoray Stripper C620 Operation_Vent Gas Production Rate and Composition_1,3,5-Trimethylbenzene_wt%</th>\n",
              "      <th>Tatoray Stripper C620 Operation_Vent Gas Production Rate and Composition_1-Methyl-2-ethylbenzene_wt%</th>\n",
              "      <th>Tatoray Stripper C620 Operation_Vent Gas Production Rate and Composition_1,2,4-Trimethylbenzene_wt%</th>\n",
              "      <th>Tatoray Stripper C620 Operation_Vent Gas Production Rate and Composition_tert-Butylcyclohexane_wt%</th>\n",
              "      <th>Tatoray Stripper C620 Operation_Vent Gas Production Rate and Composition_1,2,3-Trimethylbenzene_wt%</th>\n",
              "      <th>Tatoray Stripper C620 Operation_Vent Gas Production Rate and Composition_Indane_wt%</th>\n",
              "      <th>Tatoray Stripper C620 Operation_Vent Gas Production Rate and Composition_1-Methyl-4-n-propylbenzene_wt%</th>\n",
              "      <th>Tatoray Stripper C620 Operation_Vent Gas Production Rate and Composition_1,2-Diethylbenzene_wt%</th>\n",
              "      <th>Tatoray Stripper C620 Operation_Vent Gas Production Rate and Composition_5-Ethyl-m-xylene_wt%</th>\n",
              "      <th>Tatoray Stripper C620 Operation_Vent Gas Production Rate and Composition_1,4-Diethylbenzene_wt%</th>\n",
              "      <th>Tatoray Stripper C620 Operation_Vent Gas Production Rate and Composition_1,2,3,5-Tetramethylbenzene_wt%</th>\n",
              "      <th>Tatoray Stripper C620 Operation_Vent Gas Production Rate and Composition_n-Pentylbenzene_wt%</th>\n",
              "      <th>Tatoray Stripper C620 Operation_Vent Gas Production Rate and Composition_n-Hexylbenzene_wt%</th>\n",
              "      <th>Tatoray Stripper C620 Operation_Vent Gas Production Rate and Composition_Nitrogen_wt%</th>\n",
              "      <th>...</th>\n",
              "      <th>Tatoray Stripper C620 Operation_Bottoms Production Rate and Composition_Methane_wt%</th>\n",
              "      <th>Tatoray Stripper C620 Operation_Bottoms Production Rate and Composition_Ethane_wt%</th>\n",
              "      <th>Tatoray Stripper C620 Operation_Bottoms Production Rate and Composition_Propane_wt%</th>\n",
              "      <th>Tatoray Stripper C620 Operation_Bottoms Production Rate and Composition_n-Butane_wt%</th>\n",
              "      <th>Tatoray Stripper C620 Operation_Bottoms Production Rate and Composition_n-Pentane_wt%</th>\n",
              "      <th>Tatoray Stripper C620 Operation_Bottoms Production Rate and Composition_n-Hexane_wt%</th>\n",
              "      <th>Tatoray Stripper C620 Operation_Bottoms Production Rate and Composition_Benzene_wt%</th>\n",
              "      <th>Tatoray Stripper C620 Operation_Bottoms Production Rate and Composition_Cyclohexane_wt%</th>\n",
              "      <th>Tatoray Stripper C620 Operation_Bottoms Production Rate and Composition_n-Heptane_wt%</th>\n",
              "      <th>Tatoray Stripper C620 Operation_Bottoms Production Rate and Composition_Water_wt%</th>\n",
              "      <th>Tatoray Stripper C620 Operation_Bottoms Production Rate and Composition_Methylcyclohexane_wt%</th>\n",
              "      <th>Tatoray Stripper C620 Operation_Bottoms Production Rate and Composition_Toluene_wt%</th>\n",
              "      <th>Tatoray Stripper C620 Operation_Bottoms Production Rate and Composition_n-Octane_wt%</th>\n",
              "      <th>Tatoray Stripper C620 Operation_Bottoms Production Rate and Composition_n-Propylcyclopentane_wt%</th>\n",
              "      <th>Tatoray Stripper C620 Operation_Bottoms Production Rate and Composition_Ethylcyclohexane_wt%</th>\n",
              "      <th>Tatoray Stripper C620 Operation_Bottoms Production Rate and Composition_Ethylbenzene_wt%</th>\n",
              "      <th>Tatoray Stripper C620 Operation_Bottoms Production Rate and Composition_p-Xylene_wt%</th>\n",
              "      <th>Tatoray Stripper C620 Operation_Bottoms Production Rate and Composition_m-Xylene_wt%</th>\n",
              "      <th>Tatoray Stripper C620 Operation_Bottoms Production Rate and Composition_o-Xylene_wt%</th>\n",
              "      <th>Tatoray Stripper C620 Operation_Bottoms Production Rate and Composition_n-Nonane_wt%</th>\n",
              "      <th>Tatoray Stripper C620 Operation_Bottoms Production Rate and Composition_i-Propylbenzene_wt%</th>\n",
              "      <th>Tatoray Stripper C620 Operation_Bottoms Production Rate and Composition_n-Propylcyclohexane_wt%</th>\n",
              "      <th>Tatoray Stripper C620 Operation_Bottoms Production Rate and Composition_n-Propylbenzene_wt%</th>\n",
              "      <th>Tatoray Stripper C620 Operation_Bottoms Production Rate and Composition_1-Methyl-3-ethylbenzene_wt%</th>\n",
              "      <th>Tatoray Stripper C620 Operation_Bottoms Production Rate and Composition_1-Methyl-4-ethylbenzene_wt%</th>\n",
              "      <th>Tatoray Stripper C620 Operation_Bottoms Production Rate and Composition_1,3,5-Trimethylbenzene_wt%</th>\n",
              "      <th>Tatoray Stripper C620 Operation_Bottoms Production Rate and Composition_1-Methyl-2-ethylbenzene_wt%</th>\n",
              "      <th>Tatoray Stripper C620 Operation_Bottoms Production Rate and Composition_1,2,4-Trimethylbenzene_wt%</th>\n",
              "      <th>Tatoray Stripper C620 Operation_Bottoms Production Rate and Composition_tert-Butylcyclohexane_wt%</th>\n",
              "      <th>Tatoray Stripper C620 Operation_Bottoms Production Rate and Composition_1,2,3-Trimethylbenzene_wt%</th>\n",
              "      <th>Tatoray Stripper C620 Operation_Bottoms Production Rate and Composition_Indane_wt%</th>\n",
              "      <th>Tatoray Stripper C620 Operation_Bottoms Production Rate and Composition_1-Methyl-4-n-propylbenzene_wt%</th>\n",
              "      <th>Tatoray Stripper C620 Operation_Bottoms Production Rate and Composition_1,2-Diethylbenzene_wt%</th>\n",
              "      <th>Tatoray Stripper C620 Operation_Bottoms Production Rate and Composition_5-Ethyl-m-xylene_wt%</th>\n",
              "      <th>Tatoray Stripper C620 Operation_Bottoms Production Rate and Composition_1,4-Diethylbenzene_wt%</th>\n",
              "      <th>Tatoray Stripper C620 Operation_Bottoms Production Rate and Composition_1,2,3,5-Tetramethylbenzene_wt%</th>\n",
              "      <th>Tatoray Stripper C620 Operation_Bottoms Production Rate and Composition_n-Pentylbenzene_wt%</th>\n",
              "      <th>Tatoray Stripper C620 Operation_Bottoms Production Rate and Composition_n-Hexylbenzene_wt%</th>\n",
              "      <th>Tatoray Stripper C620 Operation_Bottoms Production Rate and Composition_Nitrogen_wt%</th>\n",
              "      <th>Tatoray Stripper C620 Operation_Bottoms Production Rate and Composition_Oxygen_wt%</th>\n",
              "    </tr>\n",
              "  </thead>\n",
              "  <tbody>\n",
              "    <tr>\n",
              "      <th>028-050</th>\n",
              "      <td>0.0</td>\n",
              "      <td>1.637723</td>\n",
              "      <td>39.274569</td>\n",
              "      <td>35.696535</td>\n",
              "      <td>10.338633</td>\n",
              "      <td>4.709528</td>\n",
              "      <td>0.241827</td>\n",
              "      <td>8.052404</td>\n",
              "      <td>0.011544</td>\n",
              "      <td>0.002941</td>\n",
              "      <td>0.0</td>\n",
              "      <td>0.000139</td>\n",
              "      <td>0.034151</td>\n",
              "      <td>0.000005</td>\n",
              "      <td>3.541266e-08</td>\n",
              "      <td>1.690910e-08</td>\n",
              "      <td>1.260348e-07</td>\n",
              "      <td>4.385492e-07</td>\n",
              "      <td>6.653763e-07</td>\n",
              "      <td>2.870818e-08</td>\n",
              "      <td>4.752892e-10</td>\n",
              "      <td>1.176112e-12</td>\n",
              "      <td>4.711982e-13</td>\n",
              "      <td>6.624205e-14</td>\n",
              "      <td>3.110428e-11</td>\n",
              "      <td>9.757006e-12</td>\n",
              "      <td>2.010292e-12</td>\n",
              "      <td>4.117539e-12</td>\n",
              "      <td>5.928132e-13</td>\n",
              "      <td>0.0</td>\n",
              "      <td>4.227144e-15</td>\n",
              "      <td>2.895485e-16</td>\n",
              "      <td>4.145054e-19</td>\n",
              "      <td>1.087872e-17</td>\n",
              "      <td>2.385577e-16</td>\n",
              "      <td>0.0</td>\n",
              "      <td>1.633017e-19</td>\n",
              "      <td>3.144184e-21</td>\n",
              "      <td>8.453660e-26</td>\n",
              "      <td>0.0</td>\n",
              "      <td>...</td>\n",
              "      <td>1.320497e-07</td>\n",
              "      <td>0.000005</td>\n",
              "      <td>0.000003</td>\n",
              "      <td>7.200497e-24</td>\n",
              "      <td>2.318762e-16</td>\n",
              "      <td>1.894551e-09</td>\n",
              "      <td>0.250158</td>\n",
              "      <td>0.000209</td>\n",
              "      <td>0.003963</td>\n",
              "      <td>0.0</td>\n",
              "      <td>0.01007</td>\n",
              "      <td>42.311858</td>\n",
              "      <td>0.009435</td>\n",
              "      <td>0.01252</td>\n",
              "      <td>0.012551</td>\n",
              "      <td>1.226023</td>\n",
              "      <td>9.525274</td>\n",
              "      <td>20.798536</td>\n",
              "      <td>8.506812</td>\n",
              "      <td>0.018276</td>\n",
              "      <td>0.00717</td>\n",
              "      <td>0.003456</td>\n",
              "      <td>0.008366</td>\n",
              "      <td>1.172375</td>\n",
              "      <td>0.614273</td>\n",
              "      <td>3.11201</td>\n",
              "      <td>0.34538</td>\n",
              "      <td>7.948536</td>\n",
              "      <td>0.0</td>\n",
              "      <td>1.269185</td>\n",
              "      <td>0.041828</td>\n",
              "      <td>0.001195</td>\n",
              "      <td>0.027487</td>\n",
              "      <td>1.074385</td>\n",
              "      <td>0.0</td>\n",
              "      <td>1.235722</td>\n",
              "      <td>0.316699</td>\n",
              "      <td>0.13624</td>\n",
              "      <td>0.0</td>\n",
              "      <td>0.0</td>\n",
              "    </tr>\n",
              "  </tbody>\n",
              "</table>\n",
              "<p>1 rows × 164 columns</p>\n",
              "</div>"
            ],
            "text/plain": [
              "         Tatoray Stripper C620 Operation_Vent Gas Production Rate and Composition_Hydrogen_wt%  ...  Tatoray Stripper C620 Operation_Bottoms Production Rate and Composition_Oxygen_wt%\n",
              "028-050                                                0.0                                      ...                                                0.0                                 \n",
              "\n",
              "[1 rows x 164 columns]"
            ]
          },
          "metadata": {
            "tags": []
          },
          "execution_count": 11
        }
      ]
    },
    {
      "cell_type": "code",
      "metadata": {
        "colab": {
          "base_uri": "https://localhost:8080/",
          "height": 165
        },
        "id": "BofcSOZQpU3v",
        "outputId": "07e1de86-2b10-4b2c-8c67-fc5c6aa71669"
      },
      "source": [
        "c620_op"
      ],
      "execution_count": 12,
      "outputs": [
        {
          "output_type": "execute_result",
          "data": {
            "text/html": [
              "<div>\n",
              "<style scoped>\n",
              "    .dataframe tbody tr th:only-of-type {\n",
              "        vertical-align: middle;\n",
              "    }\n",
              "\n",
              "    .dataframe tbody tr th {\n",
              "        vertical-align: top;\n",
              "    }\n",
              "\n",
              "    .dataframe thead th {\n",
              "        text-align: right;\n",
              "    }\n",
              "</style>\n",
              "<table border=\"1\" class=\"dataframe\">\n",
              "  <thead>\n",
              "    <tr style=\"text-align: right;\">\n",
              "      <th></th>\n",
              "      <th>Density_Feed Properties</th>\n",
              "      <th>Density_Vent Gas Production Rate and Composition</th>\n",
              "      <th>Density_Distillate Production Rate and Composition</th>\n",
              "      <th>Density_Sidedraw Production Rate and Composition</th>\n",
              "      <th>Density_Bottoms Production Rate and Composition</th>\n",
              "      <th>Tatoray Stripper C620 Operation_Yield Summary_Reflux Rate_m3/hr</th>\n",
              "      <th>Tatoray Stripper C620 Operation_Heat Duty_Condenser Heat Duty_Mkcal/hr</th>\n",
              "      <th>Tatoray Stripper C620 Operation_Heat Duty_Reboiler Heat Duty_Mkcal/hr</th>\n",
              "      <th>Tatoray Stripper C620 Operation_Column Temp Profile_C620 Tray 14 (Control)_oC</th>\n",
              "      <th>Tatoray Stripper C620 Operation_Column Temp Profile_C620 Tray 34 (Control)_oC</th>\n",
              "    </tr>\n",
              "  </thead>\n",
              "  <tbody>\n",
              "    <tr>\n",
              "      <th>028-050</th>\n",
              "      <td>0.862281</td>\n",
              "      <td>0.452975</td>\n",
              "      <td>0.781814</td>\n",
              "      <td>0.878705</td>\n",
              "      <td>0.871925</td>\n",
              "      <td>104.628052</td>\n",
              "      <td>10.513339</td>\n",
              "      <td>12.119115</td>\n",
              "      <td>177.616104</td>\n",
              "      <td>193.987442</td>\n",
              "    </tr>\n",
              "  </tbody>\n",
              "</table>\n",
              "</div>"
            ],
            "text/plain": [
              "         Density_Feed Properties  ...  Tatoray Stripper C620 Operation_Column Temp Profile_C620 Tray 34 (Control)_oC\n",
              "028-050                 0.862281  ...                                         193.987442                            \n",
              "\n",
              "[1 rows x 10 columns]"
            ]
          },
          "metadata": {
            "tags": []
          },
          "execution_count": 12
        }
      ]
    },
    {
      "cell_type": "code",
      "metadata": {
        "colab": {
          "base_uri": "https://localhost:8080/",
          "height": 265
        },
        "id": "OLJvr9tkpV5u",
        "outputId": "3f4eb1b7-997a-4d44-8067-ed73829e26b6"
      },
      "source": [
        "c660_wt"
      ],
      "execution_count": 13,
      "outputs": [
        {
          "output_type": "execute_result",
          "data": {
            "text/html": [
              "<div>\n",
              "<style scoped>\n",
              "    .dataframe tbody tr th:only-of-type {\n",
              "        vertical-align: middle;\n",
              "    }\n",
              "\n",
              "    .dataframe tbody tr th {\n",
              "        vertical-align: top;\n",
              "    }\n",
              "\n",
              "    .dataframe thead th {\n",
              "        text-align: right;\n",
              "    }\n",
              "</style>\n",
              "<table border=\"1\" class=\"dataframe\">\n",
              "  <thead>\n",
              "    <tr style=\"text-align: right;\">\n",
              "      <th></th>\n",
              "      <th>Benzene Column C660 Operation_Vent Gas Production Rate and Composition_Hydrogen_wt%</th>\n",
              "      <th>Benzene Column C660 Operation_Vent Gas Production Rate and Composition_Methane_wt%</th>\n",
              "      <th>Benzene Column C660 Operation_Vent Gas Production Rate and Composition_Ethane_wt%</th>\n",
              "      <th>Benzene Column C660 Operation_Vent Gas Production Rate and Composition_Propane_wt%</th>\n",
              "      <th>Benzene Column C660 Operation_Vent Gas Production Rate and Composition_n-Butane_wt%</th>\n",
              "      <th>Benzene Column C660 Operation_Vent Gas Production Rate and Composition_n-Pentane_wt%</th>\n",
              "      <th>Benzene Column C660 Operation_Vent Gas Production Rate and Composition_n-Hexane_wt%</th>\n",
              "      <th>Benzene Column C660 Operation_Vent Gas Production Rate and Composition_Benzene_wt%</th>\n",
              "      <th>Benzene Column C660 Operation_Vent Gas Production Rate and Composition_Cyclohexane_wt%</th>\n",
              "      <th>Benzene Column C660 Operation_Vent Gas Production Rate and Composition_n-Heptane_wt%</th>\n",
              "      <th>Benzene Column C660 Operation_Vent Gas Production Rate and Composition_Water_wt%</th>\n",
              "      <th>Benzene Column C660 Operation_Vent Gas Production Rate and Composition_Methylcyclohexane_wt%</th>\n",
              "      <th>Benzene Column C660 Operation_Vent Gas Production Rate and Composition_Toluene_wt%</th>\n",
              "      <th>Benzene Column C660 Operation_Vent Gas Production Rate and Composition_n-Octane_wt%</th>\n",
              "      <th>Benzene Column C660 Operation_Vent Gas Production Rate and Composition_n-Propylcyclopentane_wt%</th>\n",
              "      <th>Benzene Column C660 Operation_Vent Gas Production Rate and Composition_Ethylcyclohexane_wt%</th>\n",
              "      <th>Benzene Column C660 Operation_Vent Gas Production Rate and Composition_Ethylbenzene_wt%</th>\n",
              "      <th>Benzene Column C660 Operation_Vent Gas Production Rate and Composition_p-Xylene_wt%</th>\n",
              "      <th>Benzene Column C660 Operation_Vent Gas Production Rate and Composition_m-Xylene_wt%</th>\n",
              "      <th>Benzene Column C660 Operation_Vent Gas Production Rate and Composition_o-Xylene_wt%</th>\n",
              "      <th>Benzene Column C660 Operation_Vent Gas Production Rate and Composition_n-Nonane_wt%</th>\n",
              "      <th>Benzene Column C660 Operation_Vent Gas Production Rate and Composition_i-Propylbenzene_wt%</th>\n",
              "      <th>Benzene Column C660 Operation_Vent Gas Production Rate and Composition_n-Propylcyclohexane_wt%</th>\n",
              "      <th>Benzene Column C660 Operation_Vent Gas Production Rate and Composition_n-Propylbenzene_wt%</th>\n",
              "      <th>Benzene Column C660 Operation_Vent Gas Production Rate and Composition_1-Methyl-3-ethylbenzene_wt%</th>\n",
              "      <th>Benzene Column C660 Operation_Vent Gas Production Rate and Composition_1-Methyl-4-ethylbenzene_wt%</th>\n",
              "      <th>Benzene Column C660 Operation_Vent Gas Production Rate and Composition_1,3,5-Trimethylbenzene_wt%</th>\n",
              "      <th>Benzene Column C660 Operation_Vent Gas Production Rate and Composition_1-Methyl-2-ethylbenzene_wt%</th>\n",
              "      <th>Benzene Column C660 Operation_Vent Gas Production Rate and Composition_1,2,4-Trimethylbenzene_wt%</th>\n",
              "      <th>Benzene Column C660 Operation_Vent Gas Production Rate and Composition_tert-Butylcyclohexane_wt%</th>\n",
              "      <th>Benzene Column C660 Operation_Vent Gas Production Rate and Composition_1,2,3-Trimethylbenzene_wt%</th>\n",
              "      <th>Benzene Column C660 Operation_Vent Gas Production Rate and Composition_Indane_wt%</th>\n",
              "      <th>Benzene Column C660 Operation_Vent Gas Production Rate and Composition_1-Methyl-4-n-propylbenzene_wt%</th>\n",
              "      <th>Benzene Column C660 Operation_Vent Gas Production Rate and Composition_1,2-Diethylbenzene_wt%</th>\n",
              "      <th>Benzene Column C660 Operation_Vent Gas Production Rate and Composition_5-Ethyl-m-xylene_wt%</th>\n",
              "      <th>Benzene Column C660 Operation_Vent Gas Production Rate and Composition_1,4-Diethylbenzene_wt%</th>\n",
              "      <th>Benzene Column C660 Operation_Vent Gas Production Rate and Composition_1,2,3,5-Tetramethylbenzene_wt%</th>\n",
              "      <th>Benzene Column C660 Operation_Vent Gas Production Rate and Composition_n-Pentylbenzene_wt%</th>\n",
              "      <th>Benzene Column C660 Operation_Vent Gas Production Rate and Composition_n-Hexylbenzene_wt%</th>\n",
              "      <th>Benzene Column C660 Operation_Vent Gas Production Rate and Composition_Nitrogen_wt%</th>\n",
              "      <th>...</th>\n",
              "      <th>Benzene Column C660 Operation_Bottoms Production Rate and Composition_Methane_wt%</th>\n",
              "      <th>Benzene Column C660 Operation_Bottoms Production Rate and Composition_Ethane_wt%</th>\n",
              "      <th>Benzene Column C660 Operation_Bottoms Production Rate and Composition_Propane_wt%</th>\n",
              "      <th>Benzene Column C660 Operation_Bottoms Production Rate and Composition_n-Butane_wt%</th>\n",
              "      <th>Benzene Column C660 Operation_Bottoms Production Rate and Composition_n-Pentane_wt%</th>\n",
              "      <th>Benzene Column C660 Operation_Bottoms Production Rate and Composition_n-Hexane_wt%</th>\n",
              "      <th>Benzene Column C660 Operation_Bottoms Production Rate and Composition_Benzene_wt%</th>\n",
              "      <th>Benzene Column C660 Operation_Bottoms Production Rate and Composition_Cyclohexane_wt%</th>\n",
              "      <th>Benzene Column C660 Operation_Bottoms Production Rate and Composition_n-Heptane_wt%</th>\n",
              "      <th>Benzene Column C660 Operation_Bottoms Production Rate and Composition_Water_wt%</th>\n",
              "      <th>Benzene Column C660 Operation_Bottoms Production Rate and Composition_Methylcyclohexane_wt%</th>\n",
              "      <th>Benzene Column C660 Operation_Bottoms Production Rate and Composition_Toluene_wt%</th>\n",
              "      <th>Benzene Column C660 Operation_Bottoms Production Rate and Composition_n-Octane_wt%</th>\n",
              "      <th>Benzene Column C660 Operation_Bottoms Production Rate and Composition_n-Propylcyclopentane_wt%</th>\n",
              "      <th>Benzene Column C660 Operation_Bottoms Production Rate and Composition_Ethylcyclohexane_wt%</th>\n",
              "      <th>Benzene Column C660 Operation_Bottoms Production Rate and Composition_Ethylbenzene_wt%</th>\n",
              "      <th>Benzene Column C660 Operation_Bottoms Production Rate and Composition_p-Xylene_wt%</th>\n",
              "      <th>Benzene Column C660 Operation_Bottoms Production Rate and Composition_m-Xylene_wt%</th>\n",
              "      <th>Benzene Column C660 Operation_Bottoms Production Rate and Composition_o-Xylene_wt%</th>\n",
              "      <th>Benzene Column C660 Operation_Bottoms Production Rate and Composition_n-Nonane_wt%</th>\n",
              "      <th>Benzene Column C660 Operation_Bottoms Production Rate and Composition_i-Propylbenzene_wt%</th>\n",
              "      <th>Benzene Column C660 Operation_Bottoms Production Rate and Composition_n-Propylcyclohexane_wt%</th>\n",
              "      <th>Benzene Column C660 Operation_Bottoms Production Rate and Composition_n-Propylbenzene_wt%</th>\n",
              "      <th>Benzene Column C660 Operation_Bottoms Production Rate and Composition_1-Methyl-3-ethylbenzene_wt%</th>\n",
              "      <th>Benzene Column C660 Operation_Bottoms Production Rate and Composition_1-Methyl-4-ethylbenzene_wt%</th>\n",
              "      <th>Benzene Column C660 Operation_Bottoms Production Rate and Composition_1,3,5-Trimethylbenzene_wt%</th>\n",
              "      <th>Benzene Column C660 Operation_Bottoms Production Rate and Composition_1-Methyl-2-ethylbenzene_wt%</th>\n",
              "      <th>Benzene Column C660 Operation_Bottoms Production Rate and Composition_1,2,4-Trimethylbenzene_wt%</th>\n",
              "      <th>Benzene Column C660 Operation_Bottoms Production Rate and Composition_tert-Butylcyclohexane_wt%</th>\n",
              "      <th>Benzene Column C660 Operation_Bottoms Production Rate and Composition_1,2,3-Trimethylbenzene_wt%</th>\n",
              "      <th>Benzene Column C660 Operation_Bottoms Production Rate and Composition_Indane_wt%</th>\n",
              "      <th>Benzene Column C660 Operation_Bottoms Production Rate and Composition_1-Methyl-4-n-propylbenzene_wt%</th>\n",
              "      <th>Benzene Column C660 Operation_Bottoms Production Rate and Composition_1,2-Diethylbenzene_wt%</th>\n",
              "      <th>Benzene Column C660 Operation_Bottoms Production Rate and Composition_5-Ethyl-m-xylene_wt%</th>\n",
              "      <th>Benzene Column C660 Operation_Bottoms Production Rate and Composition_1,4-Diethylbenzene_wt%</th>\n",
              "      <th>Benzene Column C660 Operation_Bottoms Production Rate and Composition_1,2,3,5-Tetramethylbenzene_wt%</th>\n",
              "      <th>Benzene Column C660 Operation_Bottoms Production Rate and Composition_n-Pentylbenzene_wt%</th>\n",
              "      <th>Benzene Column C660 Operation_Bottoms Production Rate and Composition_n-Hexylbenzene_wt%</th>\n",
              "      <th>Benzene Column C660 Operation_Bottoms Production Rate and Composition_Nitrogen_wt%</th>\n",
              "      <th>Benzene Column C660 Operation_Bottoms Production Rate and Composition_Oxygen_wt%</th>\n",
              "    </tr>\n",
              "  </thead>\n",
              "  <tbody>\n",
              "    <tr>\n",
              "      <th>028-050</th>\n",
              "      <td>0.0</td>\n",
              "      <td>0.300251</td>\n",
              "      <td>17.942058</td>\n",
              "      <td>27.102142</td>\n",
              "      <td>10.893386</td>\n",
              "      <td>7.304883</td>\n",
              "      <td>1.819152</td>\n",
              "      <td>34.541722</td>\n",
              "      <td>0.071672</td>\n",
              "      <td>0.009928</td>\n",
              "      <td>0.0</td>\n",
              "      <td>0.000031</td>\n",
              "      <td>9.682723e-07</td>\n",
              "      <td>8.275848e-09</td>\n",
              "      <td>3.099726e-14</td>\n",
              "      <td>9.513099e-15</td>\n",
              "      <td>5.085309e-17</td>\n",
              "      <td>2.386261e-18</td>\n",
              "      <td>1.273048e-18</td>\n",
              "      <td>1.831467e-21</td>\n",
              "      <td>2.298006e-19</td>\n",
              "      <td>1.333586e-29</td>\n",
              "      <td>7.226490e-22</td>\n",
              "      <td>1.452515e-08</td>\n",
              "      <td>6.957548e-27</td>\n",
              "      <td>2.992101e-27</td>\n",
              "      <td>0.002097</td>\n",
              "      <td>1.330422e-27</td>\n",
              "      <td>0.000478</td>\n",
              "      <td>3.717903e-27</td>\n",
              "      <td>2.176956e-08</td>\n",
              "      <td>9.358285e-10</td>\n",
              "      <td>0.010029</td>\n",
              "      <td>0.002169</td>\n",
              "      <td>3.040837e-09</td>\n",
              "      <td>0.0</td>\n",
              "      <td>3.884134e-11</td>\n",
              "      <td>1.747122e-12</td>\n",
              "      <td>1.917706e-15</td>\n",
              "      <td>0.0</td>\n",
              "      <td>...</td>\n",
              "      <td>4.716790e-08</td>\n",
              "      <td>0.000004</td>\n",
              "      <td>0.000007</td>\n",
              "      <td>2.298632e-27</td>\n",
              "      <td>1.111519e-19</td>\n",
              "      <td>3.453159e-12</td>\n",
              "      <td>0.005007</td>\n",
              "      <td>5.284786e-07</td>\n",
              "      <td>0.000132</td>\n",
              "      <td>0.0</td>\n",
              "      <td>0.019575</td>\n",
              "      <td>91.712342</td>\n",
              "      <td>0.034382</td>\n",
              "      <td>0.028157</td>\n",
              "      <td>0.022987</td>\n",
              "      <td>3.946684</td>\n",
              "      <td>1.362865</td>\n",
              "      <td>2.236178</td>\n",
              "      <td>0.392815</td>\n",
              "      <td>0.050249</td>\n",
              "      <td>3.345153e-07</td>\n",
              "      <td>0.111397</td>\n",
              "      <td>6.296574e-08</td>\n",
              "      <td>0.004368</td>\n",
              "      <td>0.004358</td>\n",
              "      <td>0.008705</td>\n",
              "      <td>0.002116</td>\n",
              "      <td>0.002116</td>\n",
              "      <td>0.008827</td>\n",
              "      <td>8.802854e-08</td>\n",
              "      <td>3.588816e-09</td>\n",
              "      <td>0.037407</td>\n",
              "      <td>0.009321</td>\n",
              "      <td>1.316283e-08</td>\n",
              "      <td>0.0</td>\n",
              "      <td>1.673227e-10</td>\n",
              "      <td>7.753419e-12</td>\n",
              "      <td>8.457082e-15</td>\n",
              "      <td>0.0</td>\n",
              "      <td>0.0</td>\n",
              "    </tr>\n",
              "  </tbody>\n",
              "</table>\n",
              "<p>1 rows × 164 columns</p>\n",
              "</div>"
            ],
            "text/plain": [
              "         Benzene Column C660 Operation_Vent Gas Production Rate and Composition_Hydrogen_wt%  ...  Benzene Column C660 Operation_Bottoms Production Rate and Composition_Oxygen_wt%\n",
              "028-050                                                0.0                                    ...                                                0.0                               \n",
              "\n",
              "[1 rows x 164 columns]"
            ]
          },
          "metadata": {
            "tags": []
          },
          "execution_count": 13
        }
      ]
    },
    {
      "cell_type": "code",
      "metadata": {
        "colab": {
          "base_uri": "https://localhost:8080/",
          "height": 165
        },
        "id": "bQTrBR3-pXfu",
        "outputId": "8fabb90e-ef59-41b7-abe1-57b0d79657df"
      },
      "source": [
        "c660_op"
      ],
      "execution_count": 14,
      "outputs": [
        {
          "output_type": "execute_result",
          "data": {
            "text/html": [
              "<div>\n",
              "<style scoped>\n",
              "    .dataframe tbody tr th:only-of-type {\n",
              "        vertical-align: middle;\n",
              "    }\n",
              "\n",
              "    .dataframe tbody tr th {\n",
              "        vertical-align: top;\n",
              "    }\n",
              "\n",
              "    .dataframe thead th {\n",
              "        text-align: right;\n",
              "    }\n",
              "</style>\n",
              "<table border=\"1\" class=\"dataframe\">\n",
              "  <thead>\n",
              "    <tr style=\"text-align: right;\">\n",
              "      <th></th>\n",
              "      <th>Density_Feed Properties</th>\n",
              "      <th>Density_Vent Gas Production Rate and Composition</th>\n",
              "      <th>Density_Distillate (Benzene Drag) Production Rate and Composition</th>\n",
              "      <th>Density_Sidedraw (Benzene )Production Rate and Composition</th>\n",
              "      <th>Density_Bottoms Production Rate and Composition</th>\n",
              "      <th>Benzene Column C660 Operation_Yield Summary_Reflux Rate_m3/hr</th>\n",
              "      <th>Benzene Column C660 Operation_Heat Duty_Condenser Heat Duty_Mkcal/hr</th>\n",
              "      <th>Benzene Column C660 Operation_Heat Duty_Reboiler Heat Duty_Mkcal/hr</th>\n",
              "      <th>Benzene Column C660 Operation_Column Temp Profile_C660 Tray 6 (SD &amp; Control)_oC</th>\n",
              "      <th>Benzene Column C660 Operation_Column Temp Profile_C660 Tray 23 (Control)_oC</th>\n",
              "    </tr>\n",
              "  </thead>\n",
              "  <tbody>\n",
              "    <tr>\n",
              "      <th>028-050</th>\n",
              "      <td>0.876411</td>\n",
              "      <td>0.566776</td>\n",
              "      <td>0.85626</td>\n",
              "      <td>0.883697</td>\n",
              "      <td>0.870562</td>\n",
              "      <td>147.670776</td>\n",
              "      <td>14.034904</td>\n",
              "      <td>13.563004</td>\n",
              "      <td>86.716644</td>\n",
              "      <td>90.287651</td>\n",
              "    </tr>\n",
              "  </tbody>\n",
              "</table>\n",
              "</div>"
            ],
            "text/plain": [
              "         Density_Feed Properties  ...  Benzene Column C660 Operation_Column Temp Profile_C660 Tray 23 (Control)_oC\n",
              "028-050                 0.876411  ...                                          90.287651                          \n",
              "\n",
              "[1 rows x 10 columns]"
            ]
          },
          "metadata": {
            "tags": []
          },
          "execution_count": 14
        }
      ]
    },
    {
      "cell_type": "code",
      "metadata": {
        "colab": {
          "base_uri": "https://localhost:8080/",
          "height": 265
        },
        "id": "msReDUW3pYYN",
        "outputId": "3c06bec3-c783-4b2c-f31a-c1df315751ae"
      },
      "source": [
        "c670_wt"
      ],
      "execution_count": 15,
      "outputs": [
        {
          "output_type": "execute_result",
          "data": {
            "text/html": [
              "<div>\n",
              "<style scoped>\n",
              "    .dataframe tbody tr th:only-of-type {\n",
              "        vertical-align: middle;\n",
              "    }\n",
              "\n",
              "    .dataframe tbody tr th {\n",
              "        vertical-align: top;\n",
              "    }\n",
              "\n",
              "    .dataframe thead th {\n",
              "        text-align: right;\n",
              "    }\n",
              "</style>\n",
              "<table border=\"1\" class=\"dataframe\">\n",
              "  <thead>\n",
              "    <tr style=\"text-align: right;\">\n",
              "      <th></th>\n",
              "      <th>Toluene Column C670 Operation_Distillate Production Rate and Composition_Hydrogen_wt%</th>\n",
              "      <th>Toluene Column C670 Operation_Distillate Production Rate and Composition_Methane_wt%</th>\n",
              "      <th>Toluene Column C670 Operation_Distillate Production Rate and Composition_Ethane_wt%</th>\n",
              "      <th>Toluene Column C670 Operation_Distillate Production Rate and Composition_Propane_wt%</th>\n",
              "      <th>Toluene Column C670 Operation_Distillate Production Rate and Composition_n-Butane_wt%</th>\n",
              "      <th>Toluene Column C670 Operation_Distillate Production Rate and Composition_n-Pentane_wt%</th>\n",
              "      <th>Toluene Column C670 Operation_Distillate Production Rate and Composition_n-Hexane_wt%</th>\n",
              "      <th>Toluene Column C670 Operation_Distillate Production Rate and Composition_Benzene_wt%</th>\n",
              "      <th>Toluene Column C670 Operation_Distillate Production Rate and Composition_Cyclohexane_wt%</th>\n",
              "      <th>Toluene Column C670 Operation_Distillate Production Rate and Composition_n-Heptane_wt%</th>\n",
              "      <th>Toluene Column C670 Operation_Distillate Production Rate and Composition_Water_wt%</th>\n",
              "      <th>Toluene Column C670 Operation_Distillate Production Rate and Composition_Methylcyclohexane_wt%</th>\n",
              "      <th>Toluene Column C670 Operation_Distillate Production Rate and Composition_Toluene_wt%</th>\n",
              "      <th>Toluene Column C670 Operation_Distillate Production Rate and Composition_n-Octane_wt%</th>\n",
              "      <th>Toluene Column C670 Operation_Distillate Production Rate and Composition_n-Propylcyclopentane_wt%</th>\n",
              "      <th>Toluene Column C670 Operation_Distillate Production Rate and Composition_Ethylcyclohexane_wt%</th>\n",
              "      <th>Toluene Column C670 Operation_Distillate Production Rate and Composition_Ethylbenzene_wt%</th>\n",
              "      <th>Toluene Column C670 Operation_Distillate Production Rate and Composition_p-Xylene_wt%</th>\n",
              "      <th>Toluene Column C670 Operation_Distillate Production Rate and Composition_m-Xylene_wt%</th>\n",
              "      <th>Toluene Column C670 Operation_Distillate Production Rate and Composition_o-Xylene_wt%</th>\n",
              "      <th>Toluene Column C670 Operation_Distillate Production Rate and Composition_n-Nonane_wt%</th>\n",
              "      <th>Toluene Column C670 Operation_Distillate Production Rate and Composition_i-Propylbenzene_wt%</th>\n",
              "      <th>Toluene Column C670 Operation_Distillate Production Rate and Composition_n-Propylcyclohexane_wt%</th>\n",
              "      <th>Toluene Column C670 Operation_Distillate Production Rate and Composition_n-Propylbenzene_wt%</th>\n",
              "      <th>Toluene Column C670 Operation_Distillate Production Rate and Composition_1-Methyl-3-ethylbenzene_wt%</th>\n",
              "      <th>Toluene Column C670 Operation_Distillate Production Rate and Composition_1-Methyl-4-ethylbenzene_wt%</th>\n",
              "      <th>Toluene Column C670 Operation_Distillate Production Rate and Composition_1,3,5-Trimethylbenzene_wt%</th>\n",
              "      <th>Toluene Column C670 Operation_Distillate Production Rate and Composition_1-Methyl-2-ethylbenzene_wt%</th>\n",
              "      <th>Toluene Column C670 Operation_Distillate Production Rate and Composition_1,2,4-Trimethylbenzene_wt%</th>\n",
              "      <th>Toluene Column C670 Operation_Distillate Production Rate and Composition_tert-Butylcyclohexane_wt%</th>\n",
              "      <th>Toluene Column C670 Operation_Distillate Production Rate and Composition_1,2,3-Trimethylbenzene_wt%</th>\n",
              "      <th>Toluene Column C670 Operation_Distillate Production Rate and Composition_Indane_wt%</th>\n",
              "      <th>Toluene Column C670 Operation_Distillate Production Rate and Composition_1-Methyl-4-n-propylbenzene_wt%</th>\n",
              "      <th>Toluene Column C670 Operation_Distillate Production Rate and Composition_1,2-Diethylbenzene_wt%</th>\n",
              "      <th>Toluene Column C670 Operation_Distillate Production Rate and Composition_5-Ethyl-m-xylene_wt%</th>\n",
              "      <th>Toluene Column C670 Operation_Distillate Production Rate and Composition_1,4-Diethylbenzene_wt%</th>\n",
              "      <th>Toluene Column C670 Operation_Distillate Production Rate and Composition_1,2,3,5-Tetramethylbenzene_wt%</th>\n",
              "      <th>Toluene Column C670 Operation_Distillate Production Rate and Composition_n-Pentylbenzene_wt%</th>\n",
              "      <th>Toluene Column C670 Operation_Distillate Production Rate and Composition_n-Hexylbenzene_wt%</th>\n",
              "      <th>Toluene Column C670 Operation_Distillate Production Rate and Composition_Nitrogen_wt%</th>\n",
              "      <th>...</th>\n",
              "      <th>Toluene Column C670 Operation_Bottoms Production Rate and Composition_Methane_wt%</th>\n",
              "      <th>Toluene Column C670 Operation_Bottoms Production Rate and Composition_Ethane_wt%</th>\n",
              "      <th>Toluene Column C670 Operation_Bottoms Production Rate and Composition_Propane_wt%</th>\n",
              "      <th>Toluene Column C670 Operation_Bottoms Production Rate and Composition_n-Butane_wt%</th>\n",
              "      <th>Toluene Column C670 Operation_Bottoms Production Rate and Composition_n-Pentane_wt%</th>\n",
              "      <th>Toluene Column C670 Operation_Bottoms Production Rate and Composition_n-Hexane_wt%</th>\n",
              "      <th>Toluene Column C670 Operation_Bottoms Production Rate and Composition_Benzene_wt%</th>\n",
              "      <th>Toluene Column C670 Operation_Bottoms Production Rate and Composition_Cyclohexane_wt%</th>\n",
              "      <th>Toluene Column C670 Operation_Bottoms Production Rate and Composition_n-Heptane_wt%</th>\n",
              "      <th>Toluene Column C670 Operation_Bottoms Production Rate and Composition_Water_wt%</th>\n",
              "      <th>Toluene Column C670 Operation_Bottoms Production Rate and Composition_Methylcyclohexane_wt%</th>\n",
              "      <th>Toluene Column C670 Operation_Bottoms Production Rate and Composition_Toluene_wt%</th>\n",
              "      <th>Toluene Column C670 Operation_Bottoms Production Rate and Composition_n-Octane_wt%</th>\n",
              "      <th>Toluene Column C670 Operation_Bottoms Production Rate and Composition_n-Propylcyclopentane_wt%</th>\n",
              "      <th>Toluene Column C670 Operation_Bottoms Production Rate and Composition_Ethylcyclohexane_wt%</th>\n",
              "      <th>Toluene Column C670 Operation_Bottoms Production Rate and Composition_Ethylbenzene_wt%</th>\n",
              "      <th>Toluene Column C670 Operation_Bottoms Production Rate and Composition_p-Xylene_wt%</th>\n",
              "      <th>Toluene Column C670 Operation_Bottoms Production Rate and Composition_m-Xylene_wt%</th>\n",
              "      <th>Toluene Column C670 Operation_Bottoms Production Rate and Composition_o-Xylene_wt%</th>\n",
              "      <th>Toluene Column C670 Operation_Bottoms Production Rate and Composition_n-Nonane_wt%</th>\n",
              "      <th>Toluene Column C670 Operation_Bottoms Production Rate and Composition_i-Propylbenzene_wt%</th>\n",
              "      <th>Toluene Column C670 Operation_Bottoms Production Rate and Composition_n-Propylcyclohexane_wt%</th>\n",
              "      <th>Toluene Column C670 Operation_Bottoms Production Rate and Composition_n-Propylbenzene_wt%</th>\n",
              "      <th>Toluene Column C670 Operation_Bottoms Production Rate and Composition_1-Methyl-3-ethylbenzene_wt%</th>\n",
              "      <th>Toluene Column C670 Operation_Bottoms Production Rate and Composition_1-Methyl-4-ethylbenzene_wt%</th>\n",
              "      <th>Toluene Column C670 Operation_Bottoms Production Rate and Composition_1,3,5-Trimethylbenzene_wt%</th>\n",
              "      <th>Toluene Column C670 Operation_Bottoms Production Rate and Composition_1-Methyl-2-ethylbenzene_wt%</th>\n",
              "      <th>Toluene Column C670 Operation_Bottoms Production Rate and Composition_1,2,4-Trimethylbenzene_wt%</th>\n",
              "      <th>Toluene Column C670 Operation_Bottoms Production Rate and Composition_tert-Butylcyclohexane_wt%</th>\n",
              "      <th>Toluene Column C670 Operation_Bottoms Production Rate and Composition_1,2,3-Trimethylbenzene_wt%</th>\n",
              "      <th>Toluene Column C670 Operation_Bottoms Production Rate and Composition_Indane_wt%</th>\n",
              "      <th>Toluene Column C670 Operation_Bottoms Production Rate and Composition_1-Methyl-4-n-propylbenzene_wt%</th>\n",
              "      <th>Toluene Column C670 Operation_Bottoms Production Rate and Composition_1,2-Diethylbenzene_wt%</th>\n",
              "      <th>Toluene Column C670 Operation_Bottoms Production Rate and Composition_5-Ethyl-m-xylene_wt%</th>\n",
              "      <th>Toluene Column C670 Operation_Bottoms Production Rate and Composition_1,4-Diethylbenzene_wt%</th>\n",
              "      <th>Toluene Column C670 Operation_Bottoms Production Rate and Composition_1,2,3,5-Tetramethylbenzene_wt%</th>\n",
              "      <th>Toluene Column C670 Operation_Bottoms Production Rate and Composition_n-Pentylbenzene_wt%</th>\n",
              "      <th>Toluene Column C670 Operation_Bottoms Production Rate and Composition_n-Hexylbenzene_wt%</th>\n",
              "      <th>Toluene Column C670 Operation_Bottoms Production Rate and Composition_Nitrogen_wt%</th>\n",
              "      <th>Toluene Column C670 Operation_Bottoms Production Rate and Composition_Oxygen_wt%</th>\n",
              "    </tr>\n",
              "  </thead>\n",
              "  <tbody>\n",
              "    <tr>\n",
              "      <th>028-050</th>\n",
              "      <td>0.0</td>\n",
              "      <td>1.853912e-07</td>\n",
              "      <td>0.000009</td>\n",
              "      <td>0.000007</td>\n",
              "      <td>8.759481e-24</td>\n",
              "      <td>2.821000e-16</td>\n",
              "      <td>2.306242e-09</td>\n",
              "      <td>0.306911</td>\n",
              "      <td>0.000255</td>\n",
              "      <td>0.00489</td>\n",
              "      <td>0.0</td>\n",
              "      <td>0.022529</td>\n",
              "      <td>99.620234</td>\n",
              "      <td>0.029495</td>\n",
              "      <td>0.004696</td>\n",
              "      <td>0.000903</td>\n",
              "      <td>0.006321</td>\n",
              "      <td>0.001788</td>\n",
              "      <td>0.001936</td>\n",
              "      <td>0.000005</td>\n",
              "      <td>0.000003</td>\n",
              "      <td>2.262429e-12</td>\n",
              "      <td>1.645283e-10</td>\n",
              "      <td>4.871599e-15</td>\n",
              "      <td>7.128568e-12</td>\n",
              "      <td>1.456295e-12</td>\n",
              "      <td>3.013702e-14</td>\n",
              "      <td>3.668419e-13</td>\n",
              "      <td>4.220173e-16</td>\n",
              "      <td>5.498715e-16</td>\n",
              "      <td>8.820491e-20</td>\n",
              "      <td>4.625051e-21</td>\n",
              "      <td>6.279105e-20</td>\n",
              "      <td>1.121136e-20</td>\n",
              "      <td>1.047238e-22</td>\n",
              "      <td>0.0</td>\n",
              "      <td>0.000014</td>\n",
              "      <td>0.000004</td>\n",
              "      <td>0.000001</td>\n",
              "      <td>0.0</td>\n",
              "      <td>...</td>\n",
              "      <td>1.692271e-12</td>\n",
              "      <td>7.194347e-11</td>\n",
              "      <td>9.364472e-11</td>\n",
              "      <td>1.034904e-28</td>\n",
              "      <td>2.497316e-21</td>\n",
              "      <td>2.027610e-14</td>\n",
              "      <td>1.000575e-09</td>\n",
              "      <td>2.781120e-12</td>\n",
              "      <td>5.928670e-10</td>\n",
              "      <td>0.0</td>\n",
              "      <td>2.698564e-07</td>\n",
              "      <td>0.019905</td>\n",
              "      <td>0.000053</td>\n",
              "      <td>0.034144</td>\n",
              "      <td>0.03565</td>\n",
              "      <td>4.797687</td>\n",
              "      <td>16.586586</td>\n",
              "      <td>35.69578</td>\n",
              "      <td>14.231428</td>\n",
              "      <td>0.065561</td>\n",
              "      <td>0.011761</td>\n",
              "      <td>0.084566</td>\n",
              "      <td>0.013722</td>\n",
              "      <td>1.926072</td>\n",
              "      <td>1.010643</td>\n",
              "      <td>5.110613</td>\n",
              "      <td>0.568005</td>\n",
              "      <td>13.039017</td>\n",
              "      <td>0.006252</td>\n",
              "      <td>2.081769</td>\n",
              "      <td>0.068608</td>\n",
              "      <td>0.028453</td>\n",
              "      <td>0.051687</td>\n",
              "      <td>1.762251</td>\n",
              "      <td>0.0</td>\n",
              "      <td>2.026864</td>\n",
              "      <td>0.519457</td>\n",
              "      <td>0.223465</td>\n",
              "      <td>0.0</td>\n",
              "      <td>0.0</td>\n",
              "    </tr>\n",
              "  </tbody>\n",
              "</table>\n",
              "<p>1 rows × 82 columns</p>\n",
              "</div>"
            ],
            "text/plain": [
              "         Toluene Column C670 Operation_Distillate Production Rate and Composition_Hydrogen_wt%  ...  Toluene Column C670 Operation_Bottoms Production Rate and Composition_Oxygen_wt%\n",
              "028-050                                                0.0                                      ...                                                0.0                               \n",
              "\n",
              "[1 rows x 82 columns]"
            ]
          },
          "metadata": {
            "tags": []
          },
          "execution_count": 15
        }
      ]
    },
    {
      "cell_type": "code",
      "metadata": {
        "colab": {
          "base_uri": "https://localhost:8080/",
          "height": 148
        },
        "id": "-mQegOW7pZHN",
        "outputId": "a292ddc4-167f-4c8f-f3da-7c0ce71fae0b"
      },
      "source": [
        "c670_op"
      ],
      "execution_count": 16,
      "outputs": [
        {
          "output_type": "execute_result",
          "data": {
            "text/html": [
              "<div>\n",
              "<style scoped>\n",
              "    .dataframe tbody tr th:only-of-type {\n",
              "        vertical-align: middle;\n",
              "    }\n",
              "\n",
              "    .dataframe tbody tr th {\n",
              "        vertical-align: top;\n",
              "    }\n",
              "\n",
              "    .dataframe thead th {\n",
              "        text-align: right;\n",
              "    }\n",
              "</style>\n",
              "<table border=\"1\" class=\"dataframe\">\n",
              "  <thead>\n",
              "    <tr style=\"text-align: right;\">\n",
              "      <th></th>\n",
              "      <th>Density_Distillate Production Rate and Composition</th>\n",
              "      <th>Density_Bottoms Production Rate and Composition</th>\n",
              "      <th>Toluene Column C670 Operation_Yield \\nSummary_Reflux Rate_m3/hr</th>\n",
              "      <th>Toluene Column C670 Operation_Heat Duty_Condenser Heat Duty_Mkcal/hr</th>\n",
              "      <th>Toluene Column C670 Operation_Heat Duty_Reboiler Heat Duty_Mkcal/hr</th>\n",
              "      <th>Toluene Column C670 Operation_Column Temp Profile_C670 Tray 24 (Control)_oC</th>\n",
              "      <th>Toluene Column C670 Operation_Column Temp Profile_C670 Btm Temp (Control)_oC</th>\n",
              "    </tr>\n",
              "  </thead>\n",
              "  <tbody>\n",
              "    <tr>\n",
              "      <th>028-050</th>\n",
              "      <td>0.870914</td>\n",
              "      <td>0.8723</td>\n",
              "      <td>235.166962</td>\n",
              "      <td>27.25713</td>\n",
              "      <td>27.424627</td>\n",
              "      <td>181.185944</td>\n",
              "      <td>224.813736</td>\n",
              "    </tr>\n",
              "  </tbody>\n",
              "</table>\n",
              "</div>"
            ],
            "text/plain": [
              "         Density_Distillate Production Rate and Composition  ...  Toluene Column C670 Operation_Column Temp Profile_C670 Btm Temp (Control)_oC\n",
              "028-050                                           0.870914   ...                                         224.813736                           \n",
              "\n",
              "[1 rows x 7 columns]"
            ]
          },
          "metadata": {
            "tags": []
          },
          "execution_count": 16
        }
      ]
    },
    {
      "cell_type": "code",
      "metadata": {
        "id": "aQKOHeWVpZyO"
      },
      "source": [
        ""
      ],
      "execution_count": 16,
      "outputs": []
    }
  ]
}