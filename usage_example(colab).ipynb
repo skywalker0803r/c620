{
  "nbformat": 4,
  "nbformat_minor": 0,
  "metadata": {
    "colab": {
      "name": "usage_example.ipynb",
      "provenance": [],
      "mount_file_id": "1EkEB-qXjPRmudXTmuHHtlwsWr1V9Wzxh",
      "authorship_tag": "ABX9TyPdGt1XswqD0XiaievUwTIU",
      "include_colab_link": true
    },
    "kernelspec": {
      "name": "python3",
      "display_name": "Python 3"
    }
  },
  "cells": [
    {
      "cell_type": "markdown",
      "metadata": {
        "id": "view-in-github",
        "colab_type": "text"
      },
      "source": [
        "<a href=\"https://colab.research.google.com/github/skywalker0803r/c620/blob/main/usage_example(colab).ipynb\" target=\"_parent\"><img src=\"https://colab.research.google.com/assets/colab-badge.svg\" alt=\"Open In Colab\"/></a>"
      ]
    },
    {
      "cell_type": "markdown",
      "metadata": {
        "id": "geeed9roqKSP"
      },
      "source": [
        "# install"
      ]
    },
    {
      "cell_type": "code",
      "metadata": {
        "colab": {
          "base_uri": "https://localhost:8080/"
        },
        "id": "yoR0u4yuiWnd",
        "outputId": "d1c74fb5-8a6f-4d67-9058-abb691715390"
      },
      "source": [
        "!git clone https://github.com/skywalker0803r/c620.git\n",
        "!pip install autorch > log.txt"
      ],
      "execution_count": 1,
      "outputs": [
        {
          "output_type": "stream",
          "text": [
            "Cloning into 'c620'...\n",
            "remote: Enumerating objects: 270, done.\u001b[K\n",
            "remote: Counting objects: 100% (270/270), done.\u001b[K\n",
            "remote: Compressing objects: 100% (225/225), done.\u001b[K\n",
            "remote: Total 1077 (delta 165), reused 95 (delta 43), pack-reused 807\u001b[K\n",
            "Receiving objects: 100% (1077/1077), 29.48 MiB | 21.56 MiB/s, done.\n",
            "Resolving deltas: 100% (703/703), done.\n"
          ],
          "name": "stdout"
        }
      ]
    },
    {
      "cell_type": "markdown",
      "metadata": {
        "id": "ZybB7ygZqJLM"
      },
      "source": [
        "# import "
      ]
    },
    {
      "cell_type": "code",
      "metadata": {
        "colab": {
          "base_uri": "https://localhost:8080/"
        },
        "id": "FFcAtS_vixO-",
        "outputId": "f0818abf-fe6b-4ef7-fe8b-8c67008683bd"
      },
      "source": [
        "from c620.F import F\n",
        "from c620.config import config\n",
        "import joblib\n",
        "import numpy as np\n",
        "import pandas as pd\n",
        "import os\n",
        "os.chdir('/content/c620')\n",
        "print(os.getcwd())\n",
        "!git pull"
      ],
      "execution_count": 2,
      "outputs": [
        {
          "output_type": "stream",
          "text": [
            "/content/c620\n",
            "Already up to date.\n"
          ],
          "name": "stdout"
        }
      ]
    },
    {
      "cell_type": "markdown",
      "metadata": {
        "id": "7Wjx-_s0qM0G"
      },
      "source": [
        "# demo data"
      ]
    },
    {
      "cell_type": "code",
      "metadata": {
        "id": "pXE2zrcYKIQK",
        "colab": {
          "base_uri": "https://localhost:8080/"
        },
        "outputId": "63210555-e52c-4fc1-fbf7-f38e85548922"
      },
      "source": [
        "tag = 'test001'\r\n",
        "demo = joblib.load('./data/demo.pkl')\r\n",
        "print(demo.keys())"
      ],
      "execution_count": 3,
      "outputs": [
        {
          "output_type": "stream",
          "text": [
            "dict_keys(['icg_input', 'c620_feed', 't651_feed', 'c620_op', 'c620_wt', 'c660_op', 'c660_wt', 'c670_op', 'c670_wt'])\n"
          ],
          "name": "stdout"
        }
      ]
    },
    {
      "cell_type": "code",
      "metadata": {
        "id": "XVCHP95Vi3I6"
      },
      "source": [
        "icg_input = demo['icg_input']\n",
        "c620_feed = demo['c620_feed']\n",
        "t651_feed = demo['t651_feed']"
      ],
      "execution_count": 4,
      "outputs": []
    },
    {
      "cell_type": "markdown",
      "metadata": {
        "id": "HcvWuhpDn3Ic"
      },
      "source": [
        "# F"
      ]
    },
    {
      "cell_type": "code",
      "metadata": {
        "id": "Qa-lHXhJjI8M",
        "colab": {
          "base_uri": "https://localhost:8080/"
        },
        "outputId": "cebef73d-50b0-46a1-a3f7-def17f95753d"
      },
      "source": [
        "f = F(config)\n",
        "f.Recommended_mode = True #(True or False)\n",
        "c620_wt,c620_op,c660_wt,c660_op,c670_wt,c670_op = f(icg_input,c620_feed,t651_feed)"
      ],
      "execution_count": 5,
      "outputs": [
        {
          "output_type": "stream",
          "text": [
            "current Distillate Rate_m3/hr:0.19312750500839015 NA in Benzene_ppmw:980.0\n"
          ],
          "name": "stdout"
        }
      ]
    },
    {
      "cell_type": "code",
      "metadata": {
        "colab": {
          "base_uri": "https://localhost:8080/",
          "height": 265
        },
        "id": "cw-XxB-RjOAi",
        "outputId": "8941533f-f38c-45a3-cac2-9f4790be3c55"
      },
      "source": [
        "c620_wt"
      ],
      "execution_count": 6,
      "outputs": [
        {
          "output_type": "execute_result",
          "data": {
            "text/html": [
              "<div>\n",
              "<style scoped>\n",
              "    .dataframe tbody tr th:only-of-type {\n",
              "        vertical-align: middle;\n",
              "    }\n",
              "\n",
              "    .dataframe tbody tr th {\n",
              "        vertical-align: top;\n",
              "    }\n",
              "\n",
              "    .dataframe thead th {\n",
              "        text-align: right;\n",
              "    }\n",
              "</style>\n",
              "<table border=\"1\" class=\"dataframe\">\n",
              "  <thead>\n",
              "    <tr style=\"text-align: right;\">\n",
              "      <th></th>\n",
              "      <th>Tatoray Stripper C620 Operation_Vent Gas Production Rate and Composition_Hydrogen_wt%</th>\n",
              "      <th>Tatoray Stripper C620 Operation_Vent Gas Production Rate and Composition_Methane_wt%</th>\n",
              "      <th>Tatoray Stripper C620 Operation_Vent Gas Production Rate and Composition_Ethane_wt%</th>\n",
              "      <th>Tatoray Stripper C620 Operation_Vent Gas Production Rate and Composition_Propane_wt%</th>\n",
              "      <th>Tatoray Stripper C620 Operation_Vent Gas Production Rate and Composition_n-Butane_wt%</th>\n",
              "      <th>Tatoray Stripper C620 Operation_Vent Gas Production Rate and Composition_n-Pentane_wt%</th>\n",
              "      <th>Tatoray Stripper C620 Operation_Vent Gas Production Rate and Composition_n-Hexane_wt%</th>\n",
              "      <th>Tatoray Stripper C620 Operation_Vent Gas Production Rate and Composition_Benzene_wt%</th>\n",
              "      <th>Tatoray Stripper C620 Operation_Vent Gas Production Rate and Composition_Cyclohexane_wt%</th>\n",
              "      <th>Tatoray Stripper C620 Operation_Vent Gas Production Rate and Composition_n-Heptane_wt%</th>\n",
              "      <th>Tatoray Stripper C620 Operation_Vent Gas Production Rate and Composition_Water_wt%</th>\n",
              "      <th>Tatoray Stripper C620 Operation_Vent Gas Production Rate and Composition_Methylcyclohexane_wt%</th>\n",
              "      <th>Tatoray Stripper C620 Operation_Vent Gas Production Rate and Composition_Toluene_wt%</th>\n",
              "      <th>Tatoray Stripper C620 Operation_Vent Gas Production Rate and Composition_n-Octane_wt%</th>\n",
              "      <th>Tatoray Stripper C620 Operation_Vent Gas Production Rate and Composition_n-Propylcyclopentane_wt%</th>\n",
              "      <th>Tatoray Stripper C620 Operation_Vent Gas Production Rate and Composition_Ethylcyclohexane_wt%</th>\n",
              "      <th>Tatoray Stripper C620 Operation_Vent Gas Production Rate and Composition_Ethylbenzene_wt%</th>\n",
              "      <th>Tatoray Stripper C620 Operation_Vent Gas Production Rate and Composition_p-Xylene_wt%</th>\n",
              "      <th>Tatoray Stripper C620 Operation_Vent Gas Production Rate and Composition_m-Xylene_wt%</th>\n",
              "      <th>Tatoray Stripper C620 Operation_Vent Gas Production Rate and Composition_o-Xylene_wt%</th>\n",
              "      <th>Tatoray Stripper C620 Operation_Vent Gas Production Rate and Composition_n-Nonane_wt%</th>\n",
              "      <th>Tatoray Stripper C620 Operation_Vent Gas Production Rate and Composition_i-Propylbenzene_wt%</th>\n",
              "      <th>Tatoray Stripper C620 Operation_Vent Gas Production Rate and Composition_n-Propylcyclohexane_wt%</th>\n",
              "      <th>Tatoray Stripper C620 Operation_Vent Gas Production Rate and Composition_n-Propylbenzene_wt%</th>\n",
              "      <th>Tatoray Stripper C620 Operation_Vent Gas Production Rate and Composition_1-Methyl-3-ethylbenzene_wt%</th>\n",
              "      <th>Tatoray Stripper C620 Operation_Vent Gas Production Rate and Composition_1-Methyl-4-ethylbenzene_wt%</th>\n",
              "      <th>Tatoray Stripper C620 Operation_Vent Gas Production Rate and Composition_1,3,5-Trimethylbenzene_wt%</th>\n",
              "      <th>Tatoray Stripper C620 Operation_Vent Gas Production Rate and Composition_1-Methyl-2-ethylbenzene_wt%</th>\n",
              "      <th>Tatoray Stripper C620 Operation_Vent Gas Production Rate and Composition_1,2,4-Trimethylbenzene_wt%</th>\n",
              "      <th>Tatoray Stripper C620 Operation_Vent Gas Production Rate and Composition_tert-Butylcyclohexane_wt%</th>\n",
              "      <th>Tatoray Stripper C620 Operation_Vent Gas Production Rate and Composition_1,2,3-Trimethylbenzene_wt%</th>\n",
              "      <th>Tatoray Stripper C620 Operation_Vent Gas Production Rate and Composition_Indane_wt%</th>\n",
              "      <th>Tatoray Stripper C620 Operation_Vent Gas Production Rate and Composition_1-Methyl-4-n-propylbenzene_wt%</th>\n",
              "      <th>Tatoray Stripper C620 Operation_Vent Gas Production Rate and Composition_1,2-Diethylbenzene_wt%</th>\n",
              "      <th>Tatoray Stripper C620 Operation_Vent Gas Production Rate and Composition_5-Ethyl-m-xylene_wt%</th>\n",
              "      <th>Tatoray Stripper C620 Operation_Vent Gas Production Rate and Composition_1,4-Diethylbenzene_wt%</th>\n",
              "      <th>Tatoray Stripper C620 Operation_Vent Gas Production Rate and Composition_1,2,3,5-Tetramethylbenzene_wt%</th>\n",
              "      <th>Tatoray Stripper C620 Operation_Vent Gas Production Rate and Composition_n-Pentylbenzene_wt%</th>\n",
              "      <th>Tatoray Stripper C620 Operation_Vent Gas Production Rate and Composition_n-Hexylbenzene_wt%</th>\n",
              "      <th>Tatoray Stripper C620 Operation_Vent Gas Production Rate and Composition_Nitrogen_wt%</th>\n",
              "      <th>...</th>\n",
              "      <th>Tatoray Stripper C620 Operation_Bottoms Production Rate and Composition_Methane_wt%</th>\n",
              "      <th>Tatoray Stripper C620 Operation_Bottoms Production Rate and Composition_Ethane_wt%</th>\n",
              "      <th>Tatoray Stripper C620 Operation_Bottoms Production Rate and Composition_Propane_wt%</th>\n",
              "      <th>Tatoray Stripper C620 Operation_Bottoms Production Rate and Composition_n-Butane_wt%</th>\n",
              "      <th>Tatoray Stripper C620 Operation_Bottoms Production Rate and Composition_n-Pentane_wt%</th>\n",
              "      <th>Tatoray Stripper C620 Operation_Bottoms Production Rate and Composition_n-Hexane_wt%</th>\n",
              "      <th>Tatoray Stripper C620 Operation_Bottoms Production Rate and Composition_Benzene_wt%</th>\n",
              "      <th>Tatoray Stripper C620 Operation_Bottoms Production Rate and Composition_Cyclohexane_wt%</th>\n",
              "      <th>Tatoray Stripper C620 Operation_Bottoms Production Rate and Composition_n-Heptane_wt%</th>\n",
              "      <th>Tatoray Stripper C620 Operation_Bottoms Production Rate and Composition_Water_wt%</th>\n",
              "      <th>Tatoray Stripper C620 Operation_Bottoms Production Rate and Composition_Methylcyclohexane_wt%</th>\n",
              "      <th>Tatoray Stripper C620 Operation_Bottoms Production Rate and Composition_Toluene_wt%</th>\n",
              "      <th>Tatoray Stripper C620 Operation_Bottoms Production Rate and Composition_n-Octane_wt%</th>\n",
              "      <th>Tatoray Stripper C620 Operation_Bottoms Production Rate and Composition_n-Propylcyclopentane_wt%</th>\n",
              "      <th>Tatoray Stripper C620 Operation_Bottoms Production Rate and Composition_Ethylcyclohexane_wt%</th>\n",
              "      <th>Tatoray Stripper C620 Operation_Bottoms Production Rate and Composition_Ethylbenzene_wt%</th>\n",
              "      <th>Tatoray Stripper C620 Operation_Bottoms Production Rate and Composition_p-Xylene_wt%</th>\n",
              "      <th>Tatoray Stripper C620 Operation_Bottoms Production Rate and Composition_m-Xylene_wt%</th>\n",
              "      <th>Tatoray Stripper C620 Operation_Bottoms Production Rate and Composition_o-Xylene_wt%</th>\n",
              "      <th>Tatoray Stripper C620 Operation_Bottoms Production Rate and Composition_n-Nonane_wt%</th>\n",
              "      <th>Tatoray Stripper C620 Operation_Bottoms Production Rate and Composition_i-Propylbenzene_wt%</th>\n",
              "      <th>Tatoray Stripper C620 Operation_Bottoms Production Rate and Composition_n-Propylcyclohexane_wt%</th>\n",
              "      <th>Tatoray Stripper C620 Operation_Bottoms Production Rate and Composition_n-Propylbenzene_wt%</th>\n",
              "      <th>Tatoray Stripper C620 Operation_Bottoms Production Rate and Composition_1-Methyl-3-ethylbenzene_wt%</th>\n",
              "      <th>Tatoray Stripper C620 Operation_Bottoms Production Rate and Composition_1-Methyl-4-ethylbenzene_wt%</th>\n",
              "      <th>Tatoray Stripper C620 Operation_Bottoms Production Rate and Composition_1,3,5-Trimethylbenzene_wt%</th>\n",
              "      <th>Tatoray Stripper C620 Operation_Bottoms Production Rate and Composition_1-Methyl-2-ethylbenzene_wt%</th>\n",
              "      <th>Tatoray Stripper C620 Operation_Bottoms Production Rate and Composition_1,2,4-Trimethylbenzene_wt%</th>\n",
              "      <th>Tatoray Stripper C620 Operation_Bottoms Production Rate and Composition_tert-Butylcyclohexane_wt%</th>\n",
              "      <th>Tatoray Stripper C620 Operation_Bottoms Production Rate and Composition_1,2,3-Trimethylbenzene_wt%</th>\n",
              "      <th>Tatoray Stripper C620 Operation_Bottoms Production Rate and Composition_Indane_wt%</th>\n",
              "      <th>Tatoray Stripper C620 Operation_Bottoms Production Rate and Composition_1-Methyl-4-n-propylbenzene_wt%</th>\n",
              "      <th>Tatoray Stripper C620 Operation_Bottoms Production Rate and Composition_1,2-Diethylbenzene_wt%</th>\n",
              "      <th>Tatoray Stripper C620 Operation_Bottoms Production Rate and Composition_5-Ethyl-m-xylene_wt%</th>\n",
              "      <th>Tatoray Stripper C620 Operation_Bottoms Production Rate and Composition_1,4-Diethylbenzene_wt%</th>\n",
              "      <th>Tatoray Stripper C620 Operation_Bottoms Production Rate and Composition_1,2,3,5-Tetramethylbenzene_wt%</th>\n",
              "      <th>Tatoray Stripper C620 Operation_Bottoms Production Rate and Composition_n-Pentylbenzene_wt%</th>\n",
              "      <th>Tatoray Stripper C620 Operation_Bottoms Production Rate and Composition_n-Hexylbenzene_wt%</th>\n",
              "      <th>Tatoray Stripper C620 Operation_Bottoms Production Rate and Composition_Nitrogen_wt%</th>\n",
              "      <th>Tatoray Stripper C620 Operation_Bottoms Production Rate and Composition_Oxygen_wt%</th>\n",
              "    </tr>\n",
              "  </thead>\n",
              "  <tbody>\n",
              "    <tr>\n",
              "      <th>124-020</th>\n",
              "      <td>0.0</td>\n",
              "      <td>2.598307</td>\n",
              "      <td>51.505464</td>\n",
              "      <td>31.167441</td>\n",
              "      <td>4.258866</td>\n",
              "      <td>1.056794</td>\n",
              "      <td>0.063531</td>\n",
              "      <td>9.320676</td>\n",
              "      <td>0.010234</td>\n",
              "      <td>0.004159</td>\n",
              "      <td>0.0</td>\n",
              "      <td>0.000129</td>\n",
              "      <td>0.014396</td>\n",
              "      <td>0.000003</td>\n",
              "      <td>4.349444e-09</td>\n",
              "      <td>1.960555e-09</td>\n",
              "      <td>8.483080e-09</td>\n",
              "      <td>2.516647e-08</td>\n",
              "      <td>3.640942e-08</td>\n",
              "      <td>1.501465e-09</td>\n",
              "      <td>4.795180e-11</td>\n",
              "      <td>1.840059e-13</td>\n",
              "      <td>4.074744e-14</td>\n",
              "      <td>9.992891e-15</td>\n",
              "      <td>2.408326e-12</td>\n",
              "      <td>7.539487e-13</td>\n",
              "      <td>1.408701e-13</td>\n",
              "      <td>3.205444e-13</td>\n",
              "      <td>3.995742e-14</td>\n",
              "      <td>0.0</td>\n",
              "      <td>2.582147e-16</td>\n",
              "      <td>2.565405e-17</td>\n",
              "      <td>2.307982e-20</td>\n",
              "      <td>6.012299e-19</td>\n",
              "      <td>1.201138e-17</td>\n",
              "      <td>0.0</td>\n",
              "      <td>6.723351e-21</td>\n",
              "      <td>1.921329e-22</td>\n",
              "      <td>4.467597e-27</td>\n",
              "      <td>0.0</td>\n",
              "      <td>...</td>\n",
              "      <td>0.0</td>\n",
              "      <td>0.0</td>\n",
              "      <td>0.0</td>\n",
              "      <td>3.386026e-24</td>\n",
              "      <td>1.803506e-16</td>\n",
              "      <td>1.582271e-09</td>\n",
              "      <td>0.23819</td>\n",
              "      <td>0.00018</td>\n",
              "      <td>0.003698</td>\n",
              "      <td>0.0</td>\n",
              "      <td>0.010691</td>\n",
              "      <td>54.261597</td>\n",
              "      <td>0.00992</td>\n",
              "      <td>0.012056</td>\n",
              "      <td>0.012058</td>\n",
              "      <td>0.920167</td>\n",
              "      <td>6.320073</td>\n",
              "      <td>13.389074</td>\n",
              "      <td>5.931825</td>\n",
              "      <td>0.017504</td>\n",
              "      <td>0.014919</td>\n",
              "      <td>0.003309</td>\n",
              "      <td>0.018361</td>\n",
              "      <td>1.239386</td>\n",
              "      <td>0.64953</td>\n",
              "      <td>3.496676</td>\n",
              "      <td>0.36493</td>\n",
              "      <td>8.930469</td>\n",
              "      <td>0.0</td>\n",
              "      <td>1.425295</td>\n",
              "      <td>0.064264</td>\n",
              "      <td>0.001148</td>\n",
              "      <td>0.025247</td>\n",
              "      <td>0.958229</td>\n",
              "      <td>0.0</td>\n",
              "      <td>1.103972</td>\n",
              "      <td>0.403948</td>\n",
              "      <td>0.173285</td>\n",
              "      <td>0.0</td>\n",
              "      <td>0.0</td>\n",
              "    </tr>\n",
              "  </tbody>\n",
              "</table>\n",
              "<p>1 rows × 164 columns</p>\n",
              "</div>"
            ],
            "text/plain": [
              "         Tatoray Stripper C620 Operation_Vent Gas Production Rate and Composition_Hydrogen_wt%  ...  Tatoray Stripper C620 Operation_Bottoms Production Rate and Composition_Oxygen_wt%\n",
              "124-020                                                0.0                                      ...                                                0.0                                 \n",
              "\n",
              "[1 rows x 164 columns]"
            ]
          },
          "metadata": {
            "tags": []
          },
          "execution_count": 6
        }
      ]
    },
    {
      "cell_type": "code",
      "metadata": {
        "colab": {
          "base_uri": "https://localhost:8080/",
          "height": 165
        },
        "id": "BofcSOZQpU3v",
        "outputId": "811e1d1d-3dfd-4ffc-a757-b1f6944b4674"
      },
      "source": [
        "c620_op"
      ],
      "execution_count": 7,
      "outputs": [
        {
          "output_type": "execute_result",
          "data": {
            "text/html": [
              "<div>\n",
              "<style scoped>\n",
              "    .dataframe tbody tr th:only-of-type {\n",
              "        vertical-align: middle;\n",
              "    }\n",
              "\n",
              "    .dataframe tbody tr th {\n",
              "        vertical-align: top;\n",
              "    }\n",
              "\n",
              "    .dataframe thead th {\n",
              "        text-align: right;\n",
              "    }\n",
              "</style>\n",
              "<table border=\"1\" class=\"dataframe\">\n",
              "  <thead>\n",
              "    <tr style=\"text-align: right;\">\n",
              "      <th></th>\n",
              "      <th>Density_Feed Properties</th>\n",
              "      <th>Density_Vent Gas Production Rate and Composition</th>\n",
              "      <th>Density_Distillate Production Rate and Composition</th>\n",
              "      <th>Density_Sidedraw Production Rate and Composition</th>\n",
              "      <th>Density_Bottoms Production Rate and Composition</th>\n",
              "      <th>Tatoray Stripper C620 Operation_Yield Summary_Reflux Rate_m3/hr</th>\n",
              "      <th>Tatoray Stripper C620 Operation_Heat Duty_Condenser Heat Duty_Mkcal/hr</th>\n",
              "      <th>Tatoray Stripper C620 Operation_Heat Duty_Reboiler Heat Duty_Mkcal/hr</th>\n",
              "      <th>Tatoray Stripper C620 Operation_Column Temp Profile_C620 Tray 14 (Control)_oC</th>\n",
              "      <th>Tatoray Stripper C620 Operation_Column Temp Profile_C620 Tray 34 (Control)_oC</th>\n",
              "    </tr>\n",
              "  </thead>\n",
              "  <tbody>\n",
              "    <tr>\n",
              "      <th>124-020</th>\n",
              "      <td>0.808777</td>\n",
              "      <td>0.453</td>\n",
              "      <td>0.839</td>\n",
              "      <td>0.870069</td>\n",
              "      <td>0.874497</td>\n",
              "      <td>94.569237</td>\n",
              "      <td>12.521888</td>\n",
              "      <td>12.036826</td>\n",
              "      <td>173.129486</td>\n",
              "      <td>178.742218</td>\n",
              "    </tr>\n",
              "  </tbody>\n",
              "</table>\n",
              "</div>"
            ],
            "text/plain": [
              "         Density_Feed Properties  ...  Tatoray Stripper C620 Operation_Column Temp Profile_C620 Tray 34 (Control)_oC\n",
              "124-020                 0.808777  ...                                         178.742218                            \n",
              "\n",
              "[1 rows x 10 columns]"
            ]
          },
          "metadata": {
            "tags": []
          },
          "execution_count": 7
        }
      ]
    },
    {
      "cell_type": "code",
      "metadata": {
        "colab": {
          "base_uri": "https://localhost:8080/",
          "height": 265
        },
        "id": "OLJvr9tkpV5u",
        "outputId": "367ece52-590d-4ea0-954f-d0da95df4db5"
      },
      "source": [
        "c660_wt"
      ],
      "execution_count": 8,
      "outputs": [
        {
          "output_type": "execute_result",
          "data": {
            "text/html": [
              "<div>\n",
              "<style scoped>\n",
              "    .dataframe tbody tr th:only-of-type {\n",
              "        vertical-align: middle;\n",
              "    }\n",
              "\n",
              "    .dataframe tbody tr th {\n",
              "        vertical-align: top;\n",
              "    }\n",
              "\n",
              "    .dataframe thead th {\n",
              "        text-align: right;\n",
              "    }\n",
              "</style>\n",
              "<table border=\"1\" class=\"dataframe\">\n",
              "  <thead>\n",
              "    <tr style=\"text-align: right;\">\n",
              "      <th></th>\n",
              "      <th>Benzene Column C660 Operation_Vent Gas Production Rate and Composition_Hydrogen_wt%</th>\n",
              "      <th>Benzene Column C660 Operation_Vent Gas Production Rate and Composition_Methane_wt%</th>\n",
              "      <th>Benzene Column C660 Operation_Vent Gas Production Rate and Composition_Ethane_wt%</th>\n",
              "      <th>Benzene Column C660 Operation_Vent Gas Production Rate and Composition_Propane_wt%</th>\n",
              "      <th>Benzene Column C660 Operation_Vent Gas Production Rate and Composition_n-Butane_wt%</th>\n",
              "      <th>Benzene Column C660 Operation_Vent Gas Production Rate and Composition_n-Pentane_wt%</th>\n",
              "      <th>Benzene Column C660 Operation_Vent Gas Production Rate and Composition_n-Hexane_wt%</th>\n",
              "      <th>Benzene Column C660 Operation_Vent Gas Production Rate and Composition_Benzene_wt%</th>\n",
              "      <th>Benzene Column C660 Operation_Vent Gas Production Rate and Composition_Cyclohexane_wt%</th>\n",
              "      <th>Benzene Column C660 Operation_Vent Gas Production Rate and Composition_n-Heptane_wt%</th>\n",
              "      <th>Benzene Column C660 Operation_Vent Gas Production Rate and Composition_Water_wt%</th>\n",
              "      <th>Benzene Column C660 Operation_Vent Gas Production Rate and Composition_Methylcyclohexane_wt%</th>\n",
              "      <th>Benzene Column C660 Operation_Vent Gas Production Rate and Composition_Toluene_wt%</th>\n",
              "      <th>Benzene Column C660 Operation_Vent Gas Production Rate and Composition_n-Octane_wt%</th>\n",
              "      <th>Benzene Column C660 Operation_Vent Gas Production Rate and Composition_n-Propylcyclopentane_wt%</th>\n",
              "      <th>Benzene Column C660 Operation_Vent Gas Production Rate and Composition_Ethylcyclohexane_wt%</th>\n",
              "      <th>Benzene Column C660 Operation_Vent Gas Production Rate and Composition_Ethylbenzene_wt%</th>\n",
              "      <th>Benzene Column C660 Operation_Vent Gas Production Rate and Composition_p-Xylene_wt%</th>\n",
              "      <th>Benzene Column C660 Operation_Vent Gas Production Rate and Composition_m-Xylene_wt%</th>\n",
              "      <th>Benzene Column C660 Operation_Vent Gas Production Rate and Composition_o-Xylene_wt%</th>\n",
              "      <th>Benzene Column C660 Operation_Vent Gas Production Rate and Composition_n-Nonane_wt%</th>\n",
              "      <th>Benzene Column C660 Operation_Vent Gas Production Rate and Composition_i-Propylbenzene_wt%</th>\n",
              "      <th>Benzene Column C660 Operation_Vent Gas Production Rate and Composition_n-Propylcyclohexane_wt%</th>\n",
              "      <th>Benzene Column C660 Operation_Vent Gas Production Rate and Composition_n-Propylbenzene_wt%</th>\n",
              "      <th>Benzene Column C660 Operation_Vent Gas Production Rate and Composition_1-Methyl-3-ethylbenzene_wt%</th>\n",
              "      <th>Benzene Column C660 Operation_Vent Gas Production Rate and Composition_1-Methyl-4-ethylbenzene_wt%</th>\n",
              "      <th>Benzene Column C660 Operation_Vent Gas Production Rate and Composition_1,3,5-Trimethylbenzene_wt%</th>\n",
              "      <th>Benzene Column C660 Operation_Vent Gas Production Rate and Composition_1-Methyl-2-ethylbenzene_wt%</th>\n",
              "      <th>Benzene Column C660 Operation_Vent Gas Production Rate and Composition_1,2,4-Trimethylbenzene_wt%</th>\n",
              "      <th>Benzene Column C660 Operation_Vent Gas Production Rate and Composition_tert-Butylcyclohexane_wt%</th>\n",
              "      <th>Benzene Column C660 Operation_Vent Gas Production Rate and Composition_1,2,3-Trimethylbenzene_wt%</th>\n",
              "      <th>Benzene Column C660 Operation_Vent Gas Production Rate and Composition_Indane_wt%</th>\n",
              "      <th>Benzene Column C660 Operation_Vent Gas Production Rate and Composition_1-Methyl-4-n-propylbenzene_wt%</th>\n",
              "      <th>Benzene Column C660 Operation_Vent Gas Production Rate and Composition_1,2-Diethylbenzene_wt%</th>\n",
              "      <th>Benzene Column C660 Operation_Vent Gas Production Rate and Composition_5-Ethyl-m-xylene_wt%</th>\n",
              "      <th>Benzene Column C660 Operation_Vent Gas Production Rate and Composition_1,4-Diethylbenzene_wt%</th>\n",
              "      <th>Benzene Column C660 Operation_Vent Gas Production Rate and Composition_1,2,3,5-Tetramethylbenzene_wt%</th>\n",
              "      <th>Benzene Column C660 Operation_Vent Gas Production Rate and Composition_n-Pentylbenzene_wt%</th>\n",
              "      <th>Benzene Column C660 Operation_Vent Gas Production Rate and Composition_n-Hexylbenzene_wt%</th>\n",
              "      <th>Benzene Column C660 Operation_Vent Gas Production Rate and Composition_Nitrogen_wt%</th>\n",
              "      <th>...</th>\n",
              "      <th>Benzene Column C660 Operation_Bottoms Production Rate and Composition_Methane_wt%</th>\n",
              "      <th>Benzene Column C660 Operation_Bottoms Production Rate and Composition_Ethane_wt%</th>\n",
              "      <th>Benzene Column C660 Operation_Bottoms Production Rate and Composition_Propane_wt%</th>\n",
              "      <th>Benzene Column C660 Operation_Bottoms Production Rate and Composition_n-Butane_wt%</th>\n",
              "      <th>Benzene Column C660 Operation_Bottoms Production Rate and Composition_n-Pentane_wt%</th>\n",
              "      <th>Benzene Column C660 Operation_Bottoms Production Rate and Composition_n-Hexane_wt%</th>\n",
              "      <th>Benzene Column C660 Operation_Bottoms Production Rate and Composition_Benzene_wt%</th>\n",
              "      <th>Benzene Column C660 Operation_Bottoms Production Rate and Composition_Cyclohexane_wt%</th>\n",
              "      <th>Benzene Column C660 Operation_Bottoms Production Rate and Composition_n-Heptane_wt%</th>\n",
              "      <th>Benzene Column C660 Operation_Bottoms Production Rate and Composition_Water_wt%</th>\n",
              "      <th>Benzene Column C660 Operation_Bottoms Production Rate and Composition_Methylcyclohexane_wt%</th>\n",
              "      <th>Benzene Column C660 Operation_Bottoms Production Rate and Composition_Toluene_wt%</th>\n",
              "      <th>Benzene Column C660 Operation_Bottoms Production Rate and Composition_n-Octane_wt%</th>\n",
              "      <th>Benzene Column C660 Operation_Bottoms Production Rate and Composition_n-Propylcyclopentane_wt%</th>\n",
              "      <th>Benzene Column C660 Operation_Bottoms Production Rate and Composition_Ethylcyclohexane_wt%</th>\n",
              "      <th>Benzene Column C660 Operation_Bottoms Production Rate and Composition_Ethylbenzene_wt%</th>\n",
              "      <th>Benzene Column C660 Operation_Bottoms Production Rate and Composition_p-Xylene_wt%</th>\n",
              "      <th>Benzene Column C660 Operation_Bottoms Production Rate and Composition_m-Xylene_wt%</th>\n",
              "      <th>Benzene Column C660 Operation_Bottoms Production Rate and Composition_o-Xylene_wt%</th>\n",
              "      <th>Benzene Column C660 Operation_Bottoms Production Rate and Composition_n-Nonane_wt%</th>\n",
              "      <th>Benzene Column C660 Operation_Bottoms Production Rate and Composition_i-Propylbenzene_wt%</th>\n",
              "      <th>Benzene Column C660 Operation_Bottoms Production Rate and Composition_n-Propylcyclohexane_wt%</th>\n",
              "      <th>Benzene Column C660 Operation_Bottoms Production Rate and Composition_n-Propylbenzene_wt%</th>\n",
              "      <th>Benzene Column C660 Operation_Bottoms Production Rate and Composition_1-Methyl-3-ethylbenzene_wt%</th>\n",
              "      <th>Benzene Column C660 Operation_Bottoms Production Rate and Composition_1-Methyl-4-ethylbenzene_wt%</th>\n",
              "      <th>Benzene Column C660 Operation_Bottoms Production Rate and Composition_1,3,5-Trimethylbenzene_wt%</th>\n",
              "      <th>Benzene Column C660 Operation_Bottoms Production Rate and Composition_1-Methyl-2-ethylbenzene_wt%</th>\n",
              "      <th>Benzene Column C660 Operation_Bottoms Production Rate and Composition_1,2,4-Trimethylbenzene_wt%</th>\n",
              "      <th>Benzene Column C660 Operation_Bottoms Production Rate and Composition_tert-Butylcyclohexane_wt%</th>\n",
              "      <th>Benzene Column C660 Operation_Bottoms Production Rate and Composition_1,2,3-Trimethylbenzene_wt%</th>\n",
              "      <th>Benzene Column C660 Operation_Bottoms Production Rate and Composition_Indane_wt%</th>\n",
              "      <th>Benzene Column C660 Operation_Bottoms Production Rate and Composition_1-Methyl-4-n-propylbenzene_wt%</th>\n",
              "      <th>Benzene Column C660 Operation_Bottoms Production Rate and Composition_1,2-Diethylbenzene_wt%</th>\n",
              "      <th>Benzene Column C660 Operation_Bottoms Production Rate and Composition_5-Ethyl-m-xylene_wt%</th>\n",
              "      <th>Benzene Column C660 Operation_Bottoms Production Rate and Composition_1,4-Diethylbenzene_wt%</th>\n",
              "      <th>Benzene Column C660 Operation_Bottoms Production Rate and Composition_1,2,3,5-Tetramethylbenzene_wt%</th>\n",
              "      <th>Benzene Column C660 Operation_Bottoms Production Rate and Composition_n-Pentylbenzene_wt%</th>\n",
              "      <th>Benzene Column C660 Operation_Bottoms Production Rate and Composition_n-Hexylbenzene_wt%</th>\n",
              "      <th>Benzene Column C660 Operation_Bottoms Production Rate and Composition_Nitrogen_wt%</th>\n",
              "      <th>Benzene Column C660 Operation_Bottoms Production Rate and Composition_Oxygen_wt%</th>\n",
              "    </tr>\n",
              "  </thead>\n",
              "  <tbody>\n",
              "    <tr>\n",
              "      <th>124-020</th>\n",
              "      <td>0.0</td>\n",
              "      <td>0.177713</td>\n",
              "      <td>11.487698</td>\n",
              "      <td>21.930909</td>\n",
              "      <td>14.936026</td>\n",
              "      <td>15.384281</td>\n",
              "      <td>1.061285</td>\n",
              "      <td>34.956454</td>\n",
              "      <td>0.055738</td>\n",
              "      <td>0.009849</td>\n",
              "      <td>0.0</td>\n",
              "      <td>0.000019</td>\n",
              "      <td>0.000001</td>\n",
              "      <td>1.802316e-09</td>\n",
              "      <td>9.447081e-15</td>\n",
              "      <td>2.773611e-15</td>\n",
              "      <td>2.832966e-17</td>\n",
              "      <td>1.755138e-18</td>\n",
              "      <td>8.913727e-19</td>\n",
              "      <td>4.587658e-22</td>\n",
              "      <td>6.111236e-20</td>\n",
              "      <td>5.588990e-35</td>\n",
              "      <td>2.035786e-22</td>\n",
              "      <td>7.704792e-12</td>\n",
              "      <td>5.329411e-32</td>\n",
              "      <td>1.756032e-35</td>\n",
              "      <td>8.205252e-10</td>\n",
              "      <td>0.0</td>\n",
              "      <td>4.395843e-10</td>\n",
              "      <td>1.082823e-27</td>\n",
              "      <td>1.633807e-11</td>\n",
              "      <td>6.103892e-13</td>\n",
              "      <td>0.000019</td>\n",
              "      <td>0.000008</td>\n",
              "      <td>1.855748e-12</td>\n",
              "      <td>0.0</td>\n",
              "      <td>1.122700e-14</td>\n",
              "      <td>6.190716e-16</td>\n",
              "      <td>6.050869e-19</td>\n",
              "      <td>0.0</td>\n",
              "      <td>...</td>\n",
              "      <td>2.315515e-10</td>\n",
              "      <td>1.399582e-08</td>\n",
              "      <td>3.606380e-08</td>\n",
              "      <td>4.122553e-27</td>\n",
              "      <td>1.606404e-19</td>\n",
              "      <td>2.144551e-12</td>\n",
              "      <td>0.004718</td>\n",
              "      <td>6.213041e-07</td>\n",
              "      <td>0.000145</td>\n",
              "      <td>0.0</td>\n",
              "      <td>0.012085</td>\n",
              "      <td>94.78997</td>\n",
              "      <td>0.013281</td>\n",
              "      <td>0.011206</td>\n",
              "      <td>0.009218</td>\n",
              "      <td>2.304354</td>\n",
              "      <td>1.056328</td>\n",
              "      <td>1.625454</td>\n",
              "      <td>0.096745</td>\n",
              "      <td>0.020174</td>\n",
              "      <td>2.759608e-08</td>\n",
              "      <td>0.04466</td>\n",
              "      <td>5.009640e-09</td>\n",
              "      <td>6.912608e-07</td>\n",
              "      <td>2.579488e-07</td>\n",
              "      <td>2.189786e-07</td>\n",
              "      <td>1.133004e-07</td>\n",
              "      <td>1.338146e-07</td>\n",
              "      <td>0.003615</td>\n",
              "      <td>2.918177e-09</td>\n",
              "      <td>1.721642e-10</td>\n",
              "      <td>0.006413</td>\n",
              "      <td>0.001632</td>\n",
              "      <td>3.648856e-10</td>\n",
              "      <td>0.0</td>\n",
              "      <td>3.883633e-12</td>\n",
              "      <td>2.671825e-13</td>\n",
              "      <td>2.634623e-16</td>\n",
              "      <td>0.0</td>\n",
              "      <td>0.0</td>\n",
              "    </tr>\n",
              "  </tbody>\n",
              "</table>\n",
              "<p>1 rows × 164 columns</p>\n",
              "</div>"
            ],
            "text/plain": [
              "         Benzene Column C660 Operation_Vent Gas Production Rate and Composition_Hydrogen_wt%  ...  Benzene Column C660 Operation_Bottoms Production Rate and Composition_Oxygen_wt%\n",
              "124-020                                                0.0                                    ...                                                0.0                               \n",
              "\n",
              "[1 rows x 164 columns]"
            ]
          },
          "metadata": {
            "tags": []
          },
          "execution_count": 8
        }
      ]
    },
    {
      "cell_type": "code",
      "metadata": {
        "colab": {
          "base_uri": "https://localhost:8080/",
          "height": 165
        },
        "id": "bQTrBR3-pXfu",
        "outputId": "c5a0d36e-94e7-4e12-e7a6-80ead35540af"
      },
      "source": [
        "c660_op"
      ],
      "execution_count": 9,
      "outputs": [
        {
          "output_type": "execute_result",
          "data": {
            "text/html": [
              "<div>\n",
              "<style scoped>\n",
              "    .dataframe tbody tr th:only-of-type {\n",
              "        vertical-align: middle;\n",
              "    }\n",
              "\n",
              "    .dataframe tbody tr th {\n",
              "        vertical-align: top;\n",
              "    }\n",
              "\n",
              "    .dataframe thead th {\n",
              "        text-align: right;\n",
              "    }\n",
              "</style>\n",
              "<table border=\"1\" class=\"dataframe\">\n",
              "  <thead>\n",
              "    <tr style=\"text-align: right;\">\n",
              "      <th></th>\n",
              "      <th>Density_Feed Properties</th>\n",
              "      <th>Density_Vent Gas Production Rate and Composition</th>\n",
              "      <th>Density_Distillate (Benzene Drag) Production Rate and Composition</th>\n",
              "      <th>Density_Sidedraw (Benzene )Production Rate and Composition</th>\n",
              "      <th>Density_Bottoms Production Rate and Composition</th>\n",
              "      <th>Benzene Column C660 Operation_Yield Summary_Reflux Rate_m3/hr</th>\n",
              "      <th>Benzene Column C660 Operation_Heat Duty_Condenser Heat Duty_Mkcal/hr</th>\n",
              "      <th>Benzene Column C660 Operation_Heat Duty_Reboiler Heat Duty_Mkcal/hr</th>\n",
              "      <th>Benzene Column C660 Operation_Column Temp Profile_C660 Tray 6 (SD &amp; Control)_oC</th>\n",
              "      <th>Benzene Column C660 Operation_Column Temp Profile_C660 Tray 23 (Control)_oC</th>\n",
              "    </tr>\n",
              "  </thead>\n",
              "  <tbody>\n",
              "    <tr>\n",
              "      <th>124-020</th>\n",
              "      <td>0.876368</td>\n",
              "      <td>0.569</td>\n",
              "      <td>0.856104</td>\n",
              "      <td>0.885</td>\n",
              "      <td>0.870204</td>\n",
              "      <td>114.18029</td>\n",
              "      <td>13.142137</td>\n",
              "      <td>13.356079</td>\n",
              "      <td>84.840248</td>\n",
              "      <td>88.471519</td>\n",
              "    </tr>\n",
              "  </tbody>\n",
              "</table>\n",
              "</div>"
            ],
            "text/plain": [
              "         Density_Feed Properties  ...  Benzene Column C660 Operation_Column Temp Profile_C660 Tray 23 (Control)_oC\n",
              "124-020                 0.876368  ...                                          88.471519                          \n",
              "\n",
              "[1 rows x 10 columns]"
            ]
          },
          "metadata": {
            "tags": []
          },
          "execution_count": 9
        }
      ]
    },
    {
      "cell_type": "code",
      "metadata": {
        "colab": {
          "base_uri": "https://localhost:8080/",
          "height": 265
        },
        "id": "msReDUW3pYYN",
        "outputId": "34249bb7-83d4-4239-d165-c8bad6476efe"
      },
      "source": [
        "c670_wt"
      ],
      "execution_count": 10,
      "outputs": [
        {
          "output_type": "execute_result",
          "data": {
            "text/html": [
              "<div>\n",
              "<style scoped>\n",
              "    .dataframe tbody tr th:only-of-type {\n",
              "        vertical-align: middle;\n",
              "    }\n",
              "\n",
              "    .dataframe tbody tr th {\n",
              "        vertical-align: top;\n",
              "    }\n",
              "\n",
              "    .dataframe thead th {\n",
              "        text-align: right;\n",
              "    }\n",
              "</style>\n",
              "<table border=\"1\" class=\"dataframe\">\n",
              "  <thead>\n",
              "    <tr style=\"text-align: right;\">\n",
              "      <th></th>\n",
              "      <th>Toluene Column C670 Operation_Distillate Production Rate and Composition_Hydrogen_wt%</th>\n",
              "      <th>Toluene Column C670 Operation_Distillate Production Rate and Composition_Methane_wt%</th>\n",
              "      <th>Toluene Column C670 Operation_Distillate Production Rate and Composition_Ethane_wt%</th>\n",
              "      <th>Toluene Column C670 Operation_Distillate Production Rate and Composition_Propane_wt%</th>\n",
              "      <th>Toluene Column C670 Operation_Distillate Production Rate and Composition_n-Butane_wt%</th>\n",
              "      <th>Toluene Column C670 Operation_Distillate Production Rate and Composition_n-Pentane_wt%</th>\n",
              "      <th>Toluene Column C670 Operation_Distillate Production Rate and Composition_n-Hexane_wt%</th>\n",
              "      <th>Toluene Column C670 Operation_Distillate Production Rate and Composition_Benzene_wt%</th>\n",
              "      <th>Toluene Column C670 Operation_Distillate Production Rate and Composition_Cyclohexane_wt%</th>\n",
              "      <th>Toluene Column C670 Operation_Distillate Production Rate and Composition_n-Heptane_wt%</th>\n",
              "      <th>Toluene Column C670 Operation_Distillate Production Rate and Composition_Water_wt%</th>\n",
              "      <th>Toluene Column C670 Operation_Distillate Production Rate and Composition_Methylcyclohexane_wt%</th>\n",
              "      <th>Toluene Column C670 Operation_Distillate Production Rate and Composition_Toluene_wt%</th>\n",
              "      <th>Toluene Column C670 Operation_Distillate Production Rate and Composition_n-Octane_wt%</th>\n",
              "      <th>Toluene Column C670 Operation_Distillate Production Rate and Composition_n-Propylcyclopentane_wt%</th>\n",
              "      <th>Toluene Column C670 Operation_Distillate Production Rate and Composition_Ethylcyclohexane_wt%</th>\n",
              "      <th>Toluene Column C670 Operation_Distillate Production Rate and Composition_Ethylbenzene_wt%</th>\n",
              "      <th>Toluene Column C670 Operation_Distillate Production Rate and Composition_p-Xylene_wt%</th>\n",
              "      <th>Toluene Column C670 Operation_Distillate Production Rate and Composition_m-Xylene_wt%</th>\n",
              "      <th>Toluene Column C670 Operation_Distillate Production Rate and Composition_o-Xylene_wt%</th>\n",
              "      <th>Toluene Column C670 Operation_Distillate Production Rate and Composition_n-Nonane_wt%</th>\n",
              "      <th>Toluene Column C670 Operation_Distillate Production Rate and Composition_i-Propylbenzene_wt%</th>\n",
              "      <th>Toluene Column C670 Operation_Distillate Production Rate and Composition_n-Propylcyclohexane_wt%</th>\n",
              "      <th>Toluene Column C670 Operation_Distillate Production Rate and Composition_n-Propylbenzene_wt%</th>\n",
              "      <th>Toluene Column C670 Operation_Distillate Production Rate and Composition_1-Methyl-3-ethylbenzene_wt%</th>\n",
              "      <th>Toluene Column C670 Operation_Distillate Production Rate and Composition_1-Methyl-4-ethylbenzene_wt%</th>\n",
              "      <th>Toluene Column C670 Operation_Distillate Production Rate and Composition_1,3,5-Trimethylbenzene_wt%</th>\n",
              "      <th>Toluene Column C670 Operation_Distillate Production Rate and Composition_1-Methyl-2-ethylbenzene_wt%</th>\n",
              "      <th>Toluene Column C670 Operation_Distillate Production Rate and Composition_1,2,4-Trimethylbenzene_wt%</th>\n",
              "      <th>Toluene Column C670 Operation_Distillate Production Rate and Composition_tert-Butylcyclohexane_wt%</th>\n",
              "      <th>Toluene Column C670 Operation_Distillate Production Rate and Composition_1,2,3-Trimethylbenzene_wt%</th>\n",
              "      <th>Toluene Column C670 Operation_Distillate Production Rate and Composition_Indane_wt%</th>\n",
              "      <th>Toluene Column C670 Operation_Distillate Production Rate and Composition_1-Methyl-4-n-propylbenzene_wt%</th>\n",
              "      <th>Toluene Column C670 Operation_Distillate Production Rate and Composition_1,2-Diethylbenzene_wt%</th>\n",
              "      <th>Toluene Column C670 Operation_Distillate Production Rate and Composition_5-Ethyl-m-xylene_wt%</th>\n",
              "      <th>Toluene Column C670 Operation_Distillate Production Rate and Composition_1,4-Diethylbenzene_wt%</th>\n",
              "      <th>Toluene Column C670 Operation_Distillate Production Rate and Composition_1,2,3,5-Tetramethylbenzene_wt%</th>\n",
              "      <th>Toluene Column C670 Operation_Distillate Production Rate and Composition_n-Pentylbenzene_wt%</th>\n",
              "      <th>Toluene Column C670 Operation_Distillate Production Rate and Composition_n-Hexylbenzene_wt%</th>\n",
              "      <th>Toluene Column C670 Operation_Distillate Production Rate and Composition_Nitrogen_wt%</th>\n",
              "      <th>...</th>\n",
              "      <th>Toluene Column C670 Operation_Bottoms Production Rate and Composition_Methane_wt%</th>\n",
              "      <th>Toluene Column C670 Operation_Bottoms Production Rate and Composition_Ethane_wt%</th>\n",
              "      <th>Toluene Column C670 Operation_Bottoms Production Rate and Composition_Propane_wt%</th>\n",
              "      <th>Toluene Column C670 Operation_Bottoms Production Rate and Composition_n-Butane_wt%</th>\n",
              "      <th>Toluene Column C670 Operation_Bottoms Production Rate and Composition_n-Pentane_wt%</th>\n",
              "      <th>Toluene Column C670 Operation_Bottoms Production Rate and Composition_n-Hexane_wt%</th>\n",
              "      <th>Toluene Column C670 Operation_Bottoms Production Rate and Composition_Benzene_wt%</th>\n",
              "      <th>Toluene Column C670 Operation_Bottoms Production Rate and Composition_Cyclohexane_wt%</th>\n",
              "      <th>Toluene Column C670 Operation_Bottoms Production Rate and Composition_n-Heptane_wt%</th>\n",
              "      <th>Toluene Column C670 Operation_Bottoms Production Rate and Composition_Water_wt%</th>\n",
              "      <th>Toluene Column C670 Operation_Bottoms Production Rate and Composition_Methylcyclohexane_wt%</th>\n",
              "      <th>Toluene Column C670 Operation_Bottoms Production Rate and Composition_Toluene_wt%</th>\n",
              "      <th>Toluene Column C670 Operation_Bottoms Production Rate and Composition_n-Octane_wt%</th>\n",
              "      <th>Toluene Column C670 Operation_Bottoms Production Rate and Composition_n-Propylcyclopentane_wt%</th>\n",
              "      <th>Toluene Column C670 Operation_Bottoms Production Rate and Composition_Ethylcyclohexane_wt%</th>\n",
              "      <th>Toluene Column C670 Operation_Bottoms Production Rate and Composition_Ethylbenzene_wt%</th>\n",
              "      <th>Toluene Column C670 Operation_Bottoms Production Rate and Composition_p-Xylene_wt%</th>\n",
              "      <th>Toluene Column C670 Operation_Bottoms Production Rate and Composition_m-Xylene_wt%</th>\n",
              "      <th>Toluene Column C670 Operation_Bottoms Production Rate and Composition_o-Xylene_wt%</th>\n",
              "      <th>Toluene Column C670 Operation_Bottoms Production Rate and Composition_n-Nonane_wt%</th>\n",
              "      <th>Toluene Column C670 Operation_Bottoms Production Rate and Composition_i-Propylbenzene_wt%</th>\n",
              "      <th>Toluene Column C670 Operation_Bottoms Production Rate and Composition_n-Propylcyclohexane_wt%</th>\n",
              "      <th>Toluene Column C670 Operation_Bottoms Production Rate and Composition_n-Propylbenzene_wt%</th>\n",
              "      <th>Toluene Column C670 Operation_Bottoms Production Rate and Composition_1-Methyl-3-ethylbenzene_wt%</th>\n",
              "      <th>Toluene Column C670 Operation_Bottoms Production Rate and Composition_1-Methyl-4-ethylbenzene_wt%</th>\n",
              "      <th>Toluene Column C670 Operation_Bottoms Production Rate and Composition_1,3,5-Trimethylbenzene_wt%</th>\n",
              "      <th>Toluene Column C670 Operation_Bottoms Production Rate and Composition_1-Methyl-2-ethylbenzene_wt%</th>\n",
              "      <th>Toluene Column C670 Operation_Bottoms Production Rate and Composition_1,2,4-Trimethylbenzene_wt%</th>\n",
              "      <th>Toluene Column C670 Operation_Bottoms Production Rate and Composition_tert-Butylcyclohexane_wt%</th>\n",
              "      <th>Toluene Column C670 Operation_Bottoms Production Rate and Composition_1,2,3-Trimethylbenzene_wt%</th>\n",
              "      <th>Toluene Column C670 Operation_Bottoms Production Rate and Composition_Indane_wt%</th>\n",
              "      <th>Toluene Column C670 Operation_Bottoms Production Rate and Composition_1-Methyl-4-n-propylbenzene_wt%</th>\n",
              "      <th>Toluene Column C670 Operation_Bottoms Production Rate and Composition_1,2-Diethylbenzene_wt%</th>\n",
              "      <th>Toluene Column C670 Operation_Bottoms Production Rate and Composition_5-Ethyl-m-xylene_wt%</th>\n",
              "      <th>Toluene Column C670 Operation_Bottoms Production Rate and Composition_1,4-Diethylbenzene_wt%</th>\n",
              "      <th>Toluene Column C670 Operation_Bottoms Production Rate and Composition_1,2,3,5-Tetramethylbenzene_wt%</th>\n",
              "      <th>Toluene Column C670 Operation_Bottoms Production Rate and Composition_n-Pentylbenzene_wt%</th>\n",
              "      <th>Toluene Column C670 Operation_Bottoms Production Rate and Composition_n-Hexylbenzene_wt%</th>\n",
              "      <th>Toluene Column C670 Operation_Bottoms Production Rate and Composition_Nitrogen_wt%</th>\n",
              "      <th>Toluene Column C670 Operation_Bottoms Production Rate and Composition_Oxygen_wt%</th>\n",
              "    </tr>\n",
              "  </thead>\n",
              "  <tbody>\n",
              "    <tr>\n",
              "      <th>124-020</th>\n",
              "      <td>0.0</td>\n",
              "      <td>1.059697e-10</td>\n",
              "      <td>6.405191e-09</td>\n",
              "      <td>1.650462e-08</td>\n",
              "      <td>3.516917e-24</td>\n",
              "      <td>1.872953e-16</td>\n",
              "      <td>1.643536e-09</td>\n",
              "      <td>0.249424</td>\n",
              "      <td>0.000187</td>\n",
              "      <td>0.003905</td>\n",
              "      <td>0.0</td>\n",
              "      <td>0.01663</td>\n",
              "      <td>99.699702</td>\n",
              "      <td>0.016355</td>\n",
              "      <td>0.003179</td>\n",
              "      <td>0.000701</td>\n",
              "      <td>0.006359</td>\n",
              "      <td>0.001759</td>\n",
              "      <td>0.001791</td>\n",
              "      <td>0.000004</td>\n",
              "      <td>0.000003</td>\n",
              "      <td>5.680236e-12</td>\n",
              "      <td>1.655991e-10</td>\n",
              "      <td>1.256409e-14</td>\n",
              "      <td>7.296793e-12</td>\n",
              "      <td>1.168143e-12</td>\n",
              "      <td>2.297893e-14</td>\n",
              "      <td>2.904763e-13</td>\n",
              "      <td>4.436475e-16</td>\n",
              "      <td>5.846623e-16</td>\n",
              "      <td>1.022351e-19</td>\n",
              "      <td>7.812731e-21</td>\n",
              "      <td>2.705208e-20</td>\n",
              "      <td>5.055011e-21</td>\n",
              "      <td>1.003413e-22</td>\n",
              "      <td>0.0</td>\n",
              "      <td>3.890942e-07</td>\n",
              "      <td>7.339782e-08</td>\n",
              "      <td>6.259693e-08</td>\n",
              "      <td>0.0</td>\n",
              "      <td>...</td>\n",
              "      <td>4.084616e-17</td>\n",
              "      <td>1.018108e-14</td>\n",
              "      <td>1.126389e-14</td>\n",
              "      <td>1.566770e-30</td>\n",
              "      <td>1.533355e-22</td>\n",
              "      <td>8.665442e-16</td>\n",
              "      <td>6.373318e-10</td>\n",
              "      <td>1.561384e-12</td>\n",
              "      <td>3.644022e-10</td>\n",
              "      <td>0.0</td>\n",
              "      <td>1.987677e-07</td>\n",
              "      <td>0.02002</td>\n",
              "      <td>0.000042</td>\n",
              "      <td>0.029176</td>\n",
              "      <td>0.032345</td>\n",
              "      <td>4.04126</td>\n",
              "      <td>14.205815</td>\n",
              "      <td>29.533605</td>\n",
              "      <td>12.510528</td>\n",
              "      <td>0.05527</td>\n",
              "      <td>0.031239</td>\n",
              "      <td>0.048156</td>\n",
              "      <td>0.038448</td>\n",
              "      <td>2.595273</td>\n",
              "      <td>1.360115</td>\n",
              "      <td>7.322031</td>\n",
              "      <td>0.764164</td>\n",
              "      <td>18.700378</td>\n",
              "      <td>0.003337</td>\n",
              "      <td>2.984563</td>\n",
              "      <td>0.13457</td>\n",
              "      <td>0.008323</td>\n",
              "      <td>0.054374</td>\n",
              "      <td>2.00653</td>\n",
              "      <td>0.0</td>\n",
              "      <td>2.311714</td>\n",
              "      <td>0.845866</td>\n",
              "      <td>0.362857</td>\n",
              "      <td>0.0</td>\n",
              "      <td>0.0</td>\n",
              "    </tr>\n",
              "  </tbody>\n",
              "</table>\n",
              "<p>1 rows × 82 columns</p>\n",
              "</div>"
            ],
            "text/plain": [
              "         Toluene Column C670 Operation_Distillate Production Rate and Composition_Hydrogen_wt%  ...  Toluene Column C670 Operation_Bottoms Production Rate and Composition_Oxygen_wt%\n",
              "124-020                                                0.0                                      ...                                                0.0                               \n",
              "\n",
              "[1 rows x 82 columns]"
            ]
          },
          "metadata": {
            "tags": []
          },
          "execution_count": 10
        }
      ]
    },
    {
      "cell_type": "code",
      "metadata": {
        "colab": {
          "base_uri": "https://localhost:8080/",
          "height": 148
        },
        "id": "-mQegOW7pZHN",
        "outputId": "5239cf16-54e4-4034-ce7b-db90ac331446"
      },
      "source": [
        "c670_op"
      ],
      "execution_count": 11,
      "outputs": [
        {
          "output_type": "execute_result",
          "data": {
            "text/html": [
              "<div>\n",
              "<style scoped>\n",
              "    .dataframe tbody tr th:only-of-type {\n",
              "        vertical-align: middle;\n",
              "    }\n",
              "\n",
              "    .dataframe tbody tr th {\n",
              "        vertical-align: top;\n",
              "    }\n",
              "\n",
              "    .dataframe thead th {\n",
              "        text-align: right;\n",
              "    }\n",
              "</style>\n",
              "<table border=\"1\" class=\"dataframe\">\n",
              "  <thead>\n",
              "    <tr style=\"text-align: right;\">\n",
              "      <th></th>\n",
              "      <th>Density_Distillate Production Rate and Composition</th>\n",
              "      <th>Density_Bottoms Production Rate and Composition</th>\n",
              "      <th>Toluene Column C670 Operation_Yield \\nSummary_Reflux Rate_m3/hr</th>\n",
              "      <th>Toluene Column C670 Operation_Heat Duty_Condenser Heat Duty_Mkcal/hr</th>\n",
              "      <th>Toluene Column C670 Operation_Heat Duty_Reboiler Heat Duty_Mkcal/hr</th>\n",
              "      <th>Toluene Column C670 Operation_Column Temp Profile_C670 Tray 24 (Control)_oC</th>\n",
              "      <th>Toluene Column C670 Operation_Column Temp Profile_C670 Btm Temp (Control)_oC</th>\n",
              "    </tr>\n",
              "  </thead>\n",
              "  <tbody>\n",
              "    <tr>\n",
              "      <th>124-020</th>\n",
              "      <td>0.871603</td>\n",
              "      <td>0.876326</td>\n",
              "      <td>385.412964</td>\n",
              "      <td>30.801058</td>\n",
              "      <td>30.461071</td>\n",
              "      <td>187.366104</td>\n",
              "      <td>238.03241</td>\n",
              "    </tr>\n",
              "  </tbody>\n",
              "</table>\n",
              "</div>"
            ],
            "text/plain": [
              "         Density_Distillate Production Rate and Composition  ...  Toluene Column C670 Operation_Column Temp Profile_C670 Btm Temp (Control)_oC\n",
              "124-020                                           0.871603   ...                                          238.03241                           \n",
              "\n",
              "[1 rows x 7 columns]"
            ]
          },
          "metadata": {
            "tags": []
          },
          "execution_count": 11
        }
      ]
    },
    {
      "cell_type": "code",
      "metadata": {
        "id": "aQKOHeWVpZyO"
      },
      "source": [
        ""
      ],
      "execution_count": null,
      "outputs": []
    }
  ]
}