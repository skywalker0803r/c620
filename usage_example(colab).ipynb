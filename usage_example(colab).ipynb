{
  "nbformat": 4,
  "nbformat_minor": 0,
  "metadata": {
    "colab": {
      "name": "usage_example.ipynb",
      "provenance": [],
      "mount_file_id": "1EkEB-qXjPRmudXTmuHHtlwsWr1V9Wzxh",
      "authorship_tag": "ABX9TyPdGt1XswqD0XiaievUwTIU",
      "include_colab_link": true
    },
    "kernelspec": {
      "name": "python3",
      "display_name": "Python 3"
    }
  },
  "cells": [
    {
      "cell_type": "markdown",
      "metadata": {
        "id": "view-in-github",
        "colab_type": "text"
      },
      "source": [
        "<a href=\"https://colab.research.google.com/github/skywalker0803r/c620/blob/main/usage_example(colab).ipynb\" target=\"_parent\"><img src=\"https://colab.research.google.com/assets/colab-badge.svg\" alt=\"Open In Colab\"/></a>"
      ]
    },
    {
      "cell_type": "markdown",
      "metadata": {
        "id": "geeed9roqKSP"
      },
      "source": [
        "# install"
      ]
    },
    {
      "cell_type": "code",
      "metadata": {
        "colab": {
          "base_uri": "https://localhost:8080/"
        },
        "id": "yoR0u4yuiWnd",
        "outputId": "fcf5a50e-f6d7-45df-f620-d1851c8b4d24"
      },
      "source": [
        "!git clone https://github.com/skywalker0803r/c620.git\n",
        "!pip install autorch > log.txt"
      ],
      "execution_count": 1,
      "outputs": [
        {
          "output_type": "stream",
          "text": [
            "Cloning into 'c620'...\n",
            "remote: Enumerating objects: 111, done.\u001b[K\n",
            "remote: Counting objects: 100% (111/111), done.\u001b[K\n",
            "remote: Compressing objects: 100% (80/80), done.\u001b[K\n",
            "remote: Total 918 (delta 64), reused 63 (delta 31), pack-reused 807\u001b[K\n",
            "Receiving objects: 100% (918/918), 19.01 MiB | 22.02 MiB/s, done.\n",
            "Resolving deltas: 100% (602/602), done.\n"
          ],
          "name": "stdout"
        }
      ]
    },
    {
      "cell_type": "markdown",
      "metadata": {
        "id": "ZybB7ygZqJLM"
      },
      "source": [
        "# import "
      ]
    },
    {
      "cell_type": "code",
      "metadata": {
        "colab": {
          "base_uri": "https://localhost:8080/"
        },
        "id": "FFcAtS_vixO-",
        "outputId": "8b255e05-69bd-47f6-8cc0-77b2c4d731f8"
      },
      "source": [
        "from c620.F import F\n",
        "from c620.config import config\n",
        "import joblib\n",
        "import numpy as np\n",
        "import pandas as pd\n",
        "import os\n",
        "os.chdir('/content/c620')\n",
        "print(os.getcwd())\n",
        "!git pull"
      ],
      "execution_count": 2,
      "outputs": [
        {
          "output_type": "stream",
          "text": [
            "/content/c620\n",
            "Already up to date.\n"
          ],
          "name": "stdout"
        }
      ]
    },
    {
      "cell_type": "markdown",
      "metadata": {
        "id": "7Wjx-_s0qM0G"
      },
      "source": [
        "# demo data"
      ]
    },
    {
      "cell_type": "code",
      "metadata": {
        "id": "pXE2zrcYKIQK",
        "colab": {
          "base_uri": "https://localhost:8080/"
        },
        "outputId": "b81d4270-7efa-4b3b-e27d-80651f72a00d"
      },
      "source": [
        "tag = 'test001'\r\n",
        "demo = joblib.load('./data/demo.pkl')\r\n",
        "print(demo.keys())"
      ],
      "execution_count": 3,
      "outputs": [
        {
          "output_type": "stream",
          "text": [
            "dict_keys(['icg_input', 'c620_feed', 't651_feed', 'c620_op', 'c620_wt', 'c660_op', 'c660_wt', 'c670_op', 'c670_wt'])\n"
          ],
          "name": "stdout"
        }
      ]
    },
    {
      "cell_type": "code",
      "metadata": {
        "id": "XVCHP95Vi3I6"
      },
      "source": [
        "icg_input = demo['icg_input']\n",
        "c620_feed = demo['c620_feed']\n",
        "t651_feed = demo['t651_feed']"
      ],
      "execution_count": 4,
      "outputs": []
    },
    {
      "cell_type": "markdown",
      "metadata": {
        "id": "HcvWuhpDn3Ic"
      },
      "source": [
        "# F"
      ]
    },
    {
      "cell_type": "code",
      "metadata": {
        "id": "Qa-lHXhJjI8M",
        "colab": {
          "base_uri": "https://localhost:8080/"
        },
        "outputId": "2ffe5de1-b690-4d60-f22b-ad19bda5b5cb"
      },
      "source": [
        "f = F(config)\n",
        "f.Recommended_mode = True #(True or False)\n",
        "c620_wt,c620_op,c660_wt,c660_op,c670_wt,c670_op = f(icg_input,c620_feed,t651_feed)"
      ],
      "execution_count": 19,
      "outputs": [
        {
          "output_type": "stream",
          "text": [
            "current Distillate Rate_m3/hr:0.4746916636938635 NA in Benzene_ppmw:980.0\n"
          ],
          "name": "stdout"
        }
      ]
    },
    {
      "cell_type": "code",
      "metadata": {
        "colab": {
          "base_uri": "https://localhost:8080/",
          "height": 265
        },
        "id": "cw-XxB-RjOAi",
        "outputId": "a8bd1c58-3475-44bb-b2ea-01bd513898cb"
      },
      "source": [
        "c620_wt"
      ],
      "execution_count": 20,
      "outputs": [
        {
          "output_type": "execute_result",
          "data": {
            "text/html": [
              "<div>\n",
              "<style scoped>\n",
              "    .dataframe tbody tr th:only-of-type {\n",
              "        vertical-align: middle;\n",
              "    }\n",
              "\n",
              "    .dataframe tbody tr th {\n",
              "        vertical-align: top;\n",
              "    }\n",
              "\n",
              "    .dataframe thead th {\n",
              "        text-align: right;\n",
              "    }\n",
              "</style>\n",
              "<table border=\"1\" class=\"dataframe\">\n",
              "  <thead>\n",
              "    <tr style=\"text-align: right;\">\n",
              "      <th></th>\n",
              "      <th>Tatoray Stripper C620 Operation_Vent Gas Production Rate and Composition_Hydrogen_wt%</th>\n",
              "      <th>Tatoray Stripper C620 Operation_Vent Gas Production Rate and Composition_Methane_wt%</th>\n",
              "      <th>Tatoray Stripper C620 Operation_Vent Gas Production Rate and Composition_Ethane_wt%</th>\n",
              "      <th>Tatoray Stripper C620 Operation_Vent Gas Production Rate and Composition_Propane_wt%</th>\n",
              "      <th>Tatoray Stripper C620 Operation_Vent Gas Production Rate and Composition_n-Butane_wt%</th>\n",
              "      <th>Tatoray Stripper C620 Operation_Vent Gas Production Rate and Composition_n-Pentane_wt%</th>\n",
              "      <th>Tatoray Stripper C620 Operation_Vent Gas Production Rate and Composition_n-Hexane_wt%</th>\n",
              "      <th>Tatoray Stripper C620 Operation_Vent Gas Production Rate and Composition_Benzene_wt%</th>\n",
              "      <th>Tatoray Stripper C620 Operation_Vent Gas Production Rate and Composition_Cyclohexane_wt%</th>\n",
              "      <th>Tatoray Stripper C620 Operation_Vent Gas Production Rate and Composition_n-Heptane_wt%</th>\n",
              "      <th>Tatoray Stripper C620 Operation_Vent Gas Production Rate and Composition_Water_wt%</th>\n",
              "      <th>Tatoray Stripper C620 Operation_Vent Gas Production Rate and Composition_Methylcyclohexane_wt%</th>\n",
              "      <th>Tatoray Stripper C620 Operation_Vent Gas Production Rate and Composition_Toluene_wt%</th>\n",
              "      <th>Tatoray Stripper C620 Operation_Vent Gas Production Rate and Composition_n-Octane_wt%</th>\n",
              "      <th>Tatoray Stripper C620 Operation_Vent Gas Production Rate and Composition_n-Propylcyclopentane_wt%</th>\n",
              "      <th>Tatoray Stripper C620 Operation_Vent Gas Production Rate and Composition_Ethylcyclohexane_wt%</th>\n",
              "      <th>Tatoray Stripper C620 Operation_Vent Gas Production Rate and Composition_Ethylbenzene_wt%</th>\n",
              "      <th>Tatoray Stripper C620 Operation_Vent Gas Production Rate and Composition_p-Xylene_wt%</th>\n",
              "      <th>Tatoray Stripper C620 Operation_Vent Gas Production Rate and Composition_m-Xylene_wt%</th>\n",
              "      <th>Tatoray Stripper C620 Operation_Vent Gas Production Rate and Composition_o-Xylene_wt%</th>\n",
              "      <th>Tatoray Stripper C620 Operation_Vent Gas Production Rate and Composition_n-Nonane_wt%</th>\n",
              "      <th>Tatoray Stripper C620 Operation_Vent Gas Production Rate and Composition_i-Propylbenzene_wt%</th>\n",
              "      <th>Tatoray Stripper C620 Operation_Vent Gas Production Rate and Composition_n-Propylcyclohexane_wt%</th>\n",
              "      <th>Tatoray Stripper C620 Operation_Vent Gas Production Rate and Composition_n-Propylbenzene_wt%</th>\n",
              "      <th>Tatoray Stripper C620 Operation_Vent Gas Production Rate and Composition_1-Methyl-3-ethylbenzene_wt%</th>\n",
              "      <th>Tatoray Stripper C620 Operation_Vent Gas Production Rate and Composition_1-Methyl-4-ethylbenzene_wt%</th>\n",
              "      <th>Tatoray Stripper C620 Operation_Vent Gas Production Rate and Composition_1,3,5-Trimethylbenzene_wt%</th>\n",
              "      <th>Tatoray Stripper C620 Operation_Vent Gas Production Rate and Composition_1-Methyl-2-ethylbenzene_wt%</th>\n",
              "      <th>Tatoray Stripper C620 Operation_Vent Gas Production Rate and Composition_1,2,4-Trimethylbenzene_wt%</th>\n",
              "      <th>Tatoray Stripper C620 Operation_Vent Gas Production Rate and Composition_tert-Butylcyclohexane_wt%</th>\n",
              "      <th>Tatoray Stripper C620 Operation_Vent Gas Production Rate and Composition_1,2,3-Trimethylbenzene_wt%</th>\n",
              "      <th>Tatoray Stripper C620 Operation_Vent Gas Production Rate and Composition_Indane_wt%</th>\n",
              "      <th>Tatoray Stripper C620 Operation_Vent Gas Production Rate and Composition_1-Methyl-4-n-propylbenzene_wt%</th>\n",
              "      <th>Tatoray Stripper C620 Operation_Vent Gas Production Rate and Composition_1,2-Diethylbenzene_wt%</th>\n",
              "      <th>Tatoray Stripper C620 Operation_Vent Gas Production Rate and Composition_5-Ethyl-m-xylene_wt%</th>\n",
              "      <th>Tatoray Stripper C620 Operation_Vent Gas Production Rate and Composition_1,4-Diethylbenzene_wt%</th>\n",
              "      <th>Tatoray Stripper C620 Operation_Vent Gas Production Rate and Composition_1,2,3,5-Tetramethylbenzene_wt%</th>\n",
              "      <th>Tatoray Stripper C620 Operation_Vent Gas Production Rate and Composition_n-Pentylbenzene_wt%</th>\n",
              "      <th>Tatoray Stripper C620 Operation_Vent Gas Production Rate and Composition_n-Hexylbenzene_wt%</th>\n",
              "      <th>Tatoray Stripper C620 Operation_Vent Gas Production Rate and Composition_Nitrogen_wt%</th>\n",
              "      <th>...</th>\n",
              "      <th>Tatoray Stripper C620 Operation_Bottoms Production Rate and Composition_Methane_wt%</th>\n",
              "      <th>Tatoray Stripper C620 Operation_Bottoms Production Rate and Composition_Ethane_wt%</th>\n",
              "      <th>Tatoray Stripper C620 Operation_Bottoms Production Rate and Composition_Propane_wt%</th>\n",
              "      <th>Tatoray Stripper C620 Operation_Bottoms Production Rate and Composition_n-Butane_wt%</th>\n",
              "      <th>Tatoray Stripper C620 Operation_Bottoms Production Rate and Composition_n-Pentane_wt%</th>\n",
              "      <th>Tatoray Stripper C620 Operation_Bottoms Production Rate and Composition_n-Hexane_wt%</th>\n",
              "      <th>Tatoray Stripper C620 Operation_Bottoms Production Rate and Composition_Benzene_wt%</th>\n",
              "      <th>Tatoray Stripper C620 Operation_Bottoms Production Rate and Composition_Cyclohexane_wt%</th>\n",
              "      <th>Tatoray Stripper C620 Operation_Bottoms Production Rate and Composition_n-Heptane_wt%</th>\n",
              "      <th>Tatoray Stripper C620 Operation_Bottoms Production Rate and Composition_Water_wt%</th>\n",
              "      <th>Tatoray Stripper C620 Operation_Bottoms Production Rate and Composition_Methylcyclohexane_wt%</th>\n",
              "      <th>Tatoray Stripper C620 Operation_Bottoms Production Rate and Composition_Toluene_wt%</th>\n",
              "      <th>Tatoray Stripper C620 Operation_Bottoms Production Rate and Composition_n-Octane_wt%</th>\n",
              "      <th>Tatoray Stripper C620 Operation_Bottoms Production Rate and Composition_n-Propylcyclopentane_wt%</th>\n",
              "      <th>Tatoray Stripper C620 Operation_Bottoms Production Rate and Composition_Ethylcyclohexane_wt%</th>\n",
              "      <th>Tatoray Stripper C620 Operation_Bottoms Production Rate and Composition_Ethylbenzene_wt%</th>\n",
              "      <th>Tatoray Stripper C620 Operation_Bottoms Production Rate and Composition_p-Xylene_wt%</th>\n",
              "      <th>Tatoray Stripper C620 Operation_Bottoms Production Rate and Composition_m-Xylene_wt%</th>\n",
              "      <th>Tatoray Stripper C620 Operation_Bottoms Production Rate and Composition_o-Xylene_wt%</th>\n",
              "      <th>Tatoray Stripper C620 Operation_Bottoms Production Rate and Composition_n-Nonane_wt%</th>\n",
              "      <th>Tatoray Stripper C620 Operation_Bottoms Production Rate and Composition_i-Propylbenzene_wt%</th>\n",
              "      <th>Tatoray Stripper C620 Operation_Bottoms Production Rate and Composition_n-Propylcyclohexane_wt%</th>\n",
              "      <th>Tatoray Stripper C620 Operation_Bottoms Production Rate and Composition_n-Propylbenzene_wt%</th>\n",
              "      <th>Tatoray Stripper C620 Operation_Bottoms Production Rate and Composition_1-Methyl-3-ethylbenzene_wt%</th>\n",
              "      <th>Tatoray Stripper C620 Operation_Bottoms Production Rate and Composition_1-Methyl-4-ethylbenzene_wt%</th>\n",
              "      <th>Tatoray Stripper C620 Operation_Bottoms Production Rate and Composition_1,3,5-Trimethylbenzene_wt%</th>\n",
              "      <th>Tatoray Stripper C620 Operation_Bottoms Production Rate and Composition_1-Methyl-2-ethylbenzene_wt%</th>\n",
              "      <th>Tatoray Stripper C620 Operation_Bottoms Production Rate and Composition_1,2,4-Trimethylbenzene_wt%</th>\n",
              "      <th>Tatoray Stripper C620 Operation_Bottoms Production Rate and Composition_tert-Butylcyclohexane_wt%</th>\n",
              "      <th>Tatoray Stripper C620 Operation_Bottoms Production Rate and Composition_1,2,3-Trimethylbenzene_wt%</th>\n",
              "      <th>Tatoray Stripper C620 Operation_Bottoms Production Rate and Composition_Indane_wt%</th>\n",
              "      <th>Tatoray Stripper C620 Operation_Bottoms Production Rate and Composition_1-Methyl-4-n-propylbenzene_wt%</th>\n",
              "      <th>Tatoray Stripper C620 Operation_Bottoms Production Rate and Composition_1,2-Diethylbenzene_wt%</th>\n",
              "      <th>Tatoray Stripper C620 Operation_Bottoms Production Rate and Composition_5-Ethyl-m-xylene_wt%</th>\n",
              "      <th>Tatoray Stripper C620 Operation_Bottoms Production Rate and Composition_1,4-Diethylbenzene_wt%</th>\n",
              "      <th>Tatoray Stripper C620 Operation_Bottoms Production Rate and Composition_1,2,3,5-Tetramethylbenzene_wt%</th>\n",
              "      <th>Tatoray Stripper C620 Operation_Bottoms Production Rate and Composition_n-Pentylbenzene_wt%</th>\n",
              "      <th>Tatoray Stripper C620 Operation_Bottoms Production Rate and Composition_n-Hexylbenzene_wt%</th>\n",
              "      <th>Tatoray Stripper C620 Operation_Bottoms Production Rate and Composition_Nitrogen_wt%</th>\n",
              "      <th>Tatoray Stripper C620 Operation_Bottoms Production Rate and Composition_Oxygen_wt%</th>\n",
              "    </tr>\n",
              "  </thead>\n",
              "  <tbody>\n",
              "    <tr>\n",
              "      <th>124-020</th>\n",
              "      <td>0.0</td>\n",
              "      <td>2.598306</td>\n",
              "      <td>51.50544</td>\n",
              "      <td>31.167426</td>\n",
              "      <td>4.258864</td>\n",
              "      <td>1.056794</td>\n",
              "      <td>0.063531</td>\n",
              "      <td>9.320672</td>\n",
              "      <td>0.010234</td>\n",
              "      <td>0.004159</td>\n",
              "      <td>0.0</td>\n",
              "      <td>0.000129</td>\n",
              "      <td>0.014444</td>\n",
              "      <td>0.000003</td>\n",
              "      <td>4.353728e-09</td>\n",
              "      <td>1.961925e-09</td>\n",
              "      <td>8.485590e-09</td>\n",
              "      <td>2.517200e-08</td>\n",
              "      <td>3.642096e-08</td>\n",
              "      <td>1.501676e-09</td>\n",
              "      <td>4.807391e-11</td>\n",
              "      <td>1.840475e-13</td>\n",
              "      <td>4.078040e-14</td>\n",
              "      <td>9.995168e-15</td>\n",
              "      <td>2.408841e-12</td>\n",
              "      <td>7.541791e-13</td>\n",
              "      <td>1.408989e-13</td>\n",
              "      <td>3.206724e-13</td>\n",
              "      <td>3.996604e-14</td>\n",
              "      <td>0.0</td>\n",
              "      <td>2.582391e-16</td>\n",
              "      <td>2.565608e-17</td>\n",
              "      <td>2.308540e-20</td>\n",
              "      <td>6.013617e-19</td>\n",
              "      <td>1.201512e-17</td>\n",
              "      <td>0.0</td>\n",
              "      <td>6.724143e-21</td>\n",
              "      <td>1.921808e-22</td>\n",
              "      <td>4.469866e-27</td>\n",
              "      <td>0.0</td>\n",
              "      <td>...</td>\n",
              "      <td>0.0</td>\n",
              "      <td>0.0</td>\n",
              "      <td>0.0</td>\n",
              "      <td>3.418568e-24</td>\n",
              "      <td>1.820345e-16</td>\n",
              "      <td>1.593091e-09</td>\n",
              "      <td>0.238212</td>\n",
              "      <td>0.00018</td>\n",
              "      <td>0.003698</td>\n",
              "      <td>0.0</td>\n",
              "      <td>0.010691</td>\n",
              "      <td>54.25741</td>\n",
              "      <td>0.00992</td>\n",
              "      <td>0.012057</td>\n",
              "      <td>0.012059</td>\n",
              "      <td>0.920251</td>\n",
              "      <td>6.320652</td>\n",
              "      <td>13.3903</td>\n",
              "      <td>5.932368</td>\n",
              "      <td>0.017505</td>\n",
              "      <td>0.01492</td>\n",
              "      <td>0.003309</td>\n",
              "      <td>0.018363</td>\n",
              "      <td>1.2395</td>\n",
              "      <td>0.64959</td>\n",
              "      <td>3.496997</td>\n",
              "      <td>0.364964</td>\n",
              "      <td>8.931286</td>\n",
              "      <td>0.0</td>\n",
              "      <td>1.425425</td>\n",
              "      <td>0.06427</td>\n",
              "      <td>0.001148</td>\n",
              "      <td>0.025249</td>\n",
              "      <td>0.958317</td>\n",
              "      <td>0.0</td>\n",
              "      <td>1.104073</td>\n",
              "      <td>0.403985</td>\n",
              "      <td>0.1733</td>\n",
              "      <td>0.0</td>\n",
              "      <td>0.0</td>\n",
              "    </tr>\n",
              "  </tbody>\n",
              "</table>\n",
              "<p>1 rows × 164 columns</p>\n",
              "</div>"
            ],
            "text/plain": [
              "         Tatoray Stripper C620 Operation_Vent Gas Production Rate and Composition_Hydrogen_wt%  ...  Tatoray Stripper C620 Operation_Bottoms Production Rate and Composition_Oxygen_wt%\n",
              "124-020                                                0.0                                      ...                                                0.0                                 \n",
              "\n",
              "[1 rows x 164 columns]"
            ]
          },
          "metadata": {
            "tags": []
          },
          "execution_count": 20
        }
      ]
    },
    {
      "cell_type": "code",
      "metadata": {
        "colab": {
          "base_uri": "https://localhost:8080/",
          "height": 182
        },
        "id": "BofcSOZQpU3v",
        "outputId": "0674318f-a3ca-456b-d489-91c6836d5a32"
      },
      "source": [
        "c620_op"
      ],
      "execution_count": 21,
      "outputs": [
        {
          "output_type": "execute_result",
          "data": {
            "text/html": [
              "<div>\n",
              "<style scoped>\n",
              "    .dataframe tbody tr th:only-of-type {\n",
              "        vertical-align: middle;\n",
              "    }\n",
              "\n",
              "    .dataframe tbody tr th {\n",
              "        vertical-align: top;\n",
              "    }\n",
              "\n",
              "    .dataframe thead th {\n",
              "        text-align: right;\n",
              "    }\n",
              "</style>\n",
              "<table border=\"1\" class=\"dataframe\">\n",
              "  <thead>\n",
              "    <tr style=\"text-align: right;\">\n",
              "      <th></th>\n",
              "      <th>Density_Feed Properties</th>\n",
              "      <th>Density_Vent Gas Production Rate and Composition</th>\n",
              "      <th>Density_Distillate Production Rate and Composition</th>\n",
              "      <th>Density_Sidedraw Production Rate and Composition</th>\n",
              "      <th>Density_Bottoms Production Rate and Composition</th>\n",
              "      <th>Tatoray Stripper C620 Operation_Yield Summary_Reflux Rate_m3/hr</th>\n",
              "      <th>Tatoray Stripper C620 Operation_Heat Duty_Condenser Heat Duty_Mkcal/hr</th>\n",
              "      <th>Tatoray Stripper C620 Operation_Heat Duty_Reboiler Heat Duty_Mkcal/hr</th>\n",
              "      <th>Tatoray Stripper C620 Operation_Column Temp Profile_C620 Tray 14 (Control)_oC</th>\n",
              "      <th>Tatoray Stripper C620 Operation_Column Temp Profile_C620 Tray 34 (Control)_oC</th>\n",
              "    </tr>\n",
              "  </thead>\n",
              "  <tbody>\n",
              "    <tr>\n",
              "      <th>124-020</th>\n",
              "      <td>0.864673</td>\n",
              "      <td>0.426528</td>\n",
              "      <td>0.827697</td>\n",
              "      <td>0.878691</td>\n",
              "      <td>0.872159</td>\n",
              "      <td>97.02021</td>\n",
              "      <td>12.518604</td>\n",
              "      <td>12.03686</td>\n",
              "      <td>178.120468</td>\n",
              "      <td>194.434647</td>\n",
              "    </tr>\n",
              "  </tbody>\n",
              "</table>\n",
              "</div>"
            ],
            "text/plain": [
              "         Density_Feed Properties  ...  Tatoray Stripper C620 Operation_Column Temp Profile_C620 Tray 34 (Control)_oC\n",
              "124-020                 0.864673  ...                                         194.434647                            \n",
              "\n",
              "[1 rows x 10 columns]"
            ]
          },
          "metadata": {
            "tags": []
          },
          "execution_count": 21
        }
      ]
    },
    {
      "cell_type": "code",
      "metadata": {
        "colab": {
          "base_uri": "https://localhost:8080/",
          "height": 265
        },
        "id": "OLJvr9tkpV5u",
        "outputId": "67dd7650-07bd-42d5-ea48-a4a281f661b8"
      },
      "source": [
        "c660_wt"
      ],
      "execution_count": 22,
      "outputs": [
        {
          "output_type": "execute_result",
          "data": {
            "text/html": [
              "<div>\n",
              "<style scoped>\n",
              "    .dataframe tbody tr th:only-of-type {\n",
              "        vertical-align: middle;\n",
              "    }\n",
              "\n",
              "    .dataframe tbody tr th {\n",
              "        vertical-align: top;\n",
              "    }\n",
              "\n",
              "    .dataframe thead th {\n",
              "        text-align: right;\n",
              "    }\n",
              "</style>\n",
              "<table border=\"1\" class=\"dataframe\">\n",
              "  <thead>\n",
              "    <tr style=\"text-align: right;\">\n",
              "      <th></th>\n",
              "      <th>Benzene Column C660 Operation_Vent Gas Production Rate and Composition_Hydrogen_wt%</th>\n",
              "      <th>Benzene Column C660 Operation_Vent Gas Production Rate and Composition_Methane_wt%</th>\n",
              "      <th>Benzene Column C660 Operation_Vent Gas Production Rate and Composition_Ethane_wt%</th>\n",
              "      <th>Benzene Column C660 Operation_Vent Gas Production Rate and Composition_Propane_wt%</th>\n",
              "      <th>Benzene Column C660 Operation_Vent Gas Production Rate and Composition_n-Butane_wt%</th>\n",
              "      <th>Benzene Column C660 Operation_Vent Gas Production Rate and Composition_n-Pentane_wt%</th>\n",
              "      <th>Benzene Column C660 Operation_Vent Gas Production Rate and Composition_n-Hexane_wt%</th>\n",
              "      <th>Benzene Column C660 Operation_Vent Gas Production Rate and Composition_Benzene_wt%</th>\n",
              "      <th>Benzene Column C660 Operation_Vent Gas Production Rate and Composition_Cyclohexane_wt%</th>\n",
              "      <th>Benzene Column C660 Operation_Vent Gas Production Rate and Composition_n-Heptane_wt%</th>\n",
              "      <th>Benzene Column C660 Operation_Vent Gas Production Rate and Composition_Water_wt%</th>\n",
              "      <th>Benzene Column C660 Operation_Vent Gas Production Rate and Composition_Methylcyclohexane_wt%</th>\n",
              "      <th>Benzene Column C660 Operation_Vent Gas Production Rate and Composition_Toluene_wt%</th>\n",
              "      <th>Benzene Column C660 Operation_Vent Gas Production Rate and Composition_n-Octane_wt%</th>\n",
              "      <th>Benzene Column C660 Operation_Vent Gas Production Rate and Composition_n-Propylcyclopentane_wt%</th>\n",
              "      <th>Benzene Column C660 Operation_Vent Gas Production Rate and Composition_Ethylcyclohexane_wt%</th>\n",
              "      <th>Benzene Column C660 Operation_Vent Gas Production Rate and Composition_Ethylbenzene_wt%</th>\n",
              "      <th>Benzene Column C660 Operation_Vent Gas Production Rate and Composition_p-Xylene_wt%</th>\n",
              "      <th>Benzene Column C660 Operation_Vent Gas Production Rate and Composition_m-Xylene_wt%</th>\n",
              "      <th>Benzene Column C660 Operation_Vent Gas Production Rate and Composition_o-Xylene_wt%</th>\n",
              "      <th>Benzene Column C660 Operation_Vent Gas Production Rate and Composition_n-Nonane_wt%</th>\n",
              "      <th>Benzene Column C660 Operation_Vent Gas Production Rate and Composition_i-Propylbenzene_wt%</th>\n",
              "      <th>Benzene Column C660 Operation_Vent Gas Production Rate and Composition_n-Propylcyclohexane_wt%</th>\n",
              "      <th>Benzene Column C660 Operation_Vent Gas Production Rate and Composition_n-Propylbenzene_wt%</th>\n",
              "      <th>Benzene Column C660 Operation_Vent Gas Production Rate and Composition_1-Methyl-3-ethylbenzene_wt%</th>\n",
              "      <th>Benzene Column C660 Operation_Vent Gas Production Rate and Composition_1-Methyl-4-ethylbenzene_wt%</th>\n",
              "      <th>Benzene Column C660 Operation_Vent Gas Production Rate and Composition_1,3,5-Trimethylbenzene_wt%</th>\n",
              "      <th>Benzene Column C660 Operation_Vent Gas Production Rate and Composition_1-Methyl-2-ethylbenzene_wt%</th>\n",
              "      <th>Benzene Column C660 Operation_Vent Gas Production Rate and Composition_1,2,4-Trimethylbenzene_wt%</th>\n",
              "      <th>Benzene Column C660 Operation_Vent Gas Production Rate and Composition_tert-Butylcyclohexane_wt%</th>\n",
              "      <th>Benzene Column C660 Operation_Vent Gas Production Rate and Composition_1,2,3-Trimethylbenzene_wt%</th>\n",
              "      <th>Benzene Column C660 Operation_Vent Gas Production Rate and Composition_Indane_wt%</th>\n",
              "      <th>Benzene Column C660 Operation_Vent Gas Production Rate and Composition_1-Methyl-4-n-propylbenzene_wt%</th>\n",
              "      <th>Benzene Column C660 Operation_Vent Gas Production Rate and Composition_1,2-Diethylbenzene_wt%</th>\n",
              "      <th>Benzene Column C660 Operation_Vent Gas Production Rate and Composition_5-Ethyl-m-xylene_wt%</th>\n",
              "      <th>Benzene Column C660 Operation_Vent Gas Production Rate and Composition_1,4-Diethylbenzene_wt%</th>\n",
              "      <th>Benzene Column C660 Operation_Vent Gas Production Rate and Composition_1,2,3,5-Tetramethylbenzene_wt%</th>\n",
              "      <th>Benzene Column C660 Operation_Vent Gas Production Rate and Composition_n-Pentylbenzene_wt%</th>\n",
              "      <th>Benzene Column C660 Operation_Vent Gas Production Rate and Composition_n-Hexylbenzene_wt%</th>\n",
              "      <th>Benzene Column C660 Operation_Vent Gas Production Rate and Composition_Nitrogen_wt%</th>\n",
              "      <th>...</th>\n",
              "      <th>Benzene Column C660 Operation_Bottoms Production Rate and Composition_Methane_wt%</th>\n",
              "      <th>Benzene Column C660 Operation_Bottoms Production Rate and Composition_Ethane_wt%</th>\n",
              "      <th>Benzene Column C660 Operation_Bottoms Production Rate and Composition_Propane_wt%</th>\n",
              "      <th>Benzene Column C660 Operation_Bottoms Production Rate and Composition_n-Butane_wt%</th>\n",
              "      <th>Benzene Column C660 Operation_Bottoms Production Rate and Composition_n-Pentane_wt%</th>\n",
              "      <th>Benzene Column C660 Operation_Bottoms Production Rate and Composition_n-Hexane_wt%</th>\n",
              "      <th>Benzene Column C660 Operation_Bottoms Production Rate and Composition_Benzene_wt%</th>\n",
              "      <th>Benzene Column C660 Operation_Bottoms Production Rate and Composition_Cyclohexane_wt%</th>\n",
              "      <th>Benzene Column C660 Operation_Bottoms Production Rate and Composition_n-Heptane_wt%</th>\n",
              "      <th>Benzene Column C660 Operation_Bottoms Production Rate and Composition_Water_wt%</th>\n",
              "      <th>Benzene Column C660 Operation_Bottoms Production Rate and Composition_Methylcyclohexane_wt%</th>\n",
              "      <th>Benzene Column C660 Operation_Bottoms Production Rate and Composition_Toluene_wt%</th>\n",
              "      <th>Benzene Column C660 Operation_Bottoms Production Rate and Composition_n-Octane_wt%</th>\n",
              "      <th>Benzene Column C660 Operation_Bottoms Production Rate and Composition_n-Propylcyclopentane_wt%</th>\n",
              "      <th>Benzene Column C660 Operation_Bottoms Production Rate and Composition_Ethylcyclohexane_wt%</th>\n",
              "      <th>Benzene Column C660 Operation_Bottoms Production Rate and Composition_Ethylbenzene_wt%</th>\n",
              "      <th>Benzene Column C660 Operation_Bottoms Production Rate and Composition_p-Xylene_wt%</th>\n",
              "      <th>Benzene Column C660 Operation_Bottoms Production Rate and Composition_m-Xylene_wt%</th>\n",
              "      <th>Benzene Column C660 Operation_Bottoms Production Rate and Composition_o-Xylene_wt%</th>\n",
              "      <th>Benzene Column C660 Operation_Bottoms Production Rate and Composition_n-Nonane_wt%</th>\n",
              "      <th>Benzene Column C660 Operation_Bottoms Production Rate and Composition_i-Propylbenzene_wt%</th>\n",
              "      <th>Benzene Column C660 Operation_Bottoms Production Rate and Composition_n-Propylcyclohexane_wt%</th>\n",
              "      <th>Benzene Column C660 Operation_Bottoms Production Rate and Composition_n-Propylbenzene_wt%</th>\n",
              "      <th>Benzene Column C660 Operation_Bottoms Production Rate and Composition_1-Methyl-3-ethylbenzene_wt%</th>\n",
              "      <th>Benzene Column C660 Operation_Bottoms Production Rate and Composition_1-Methyl-4-ethylbenzene_wt%</th>\n",
              "      <th>Benzene Column C660 Operation_Bottoms Production Rate and Composition_1,3,5-Trimethylbenzene_wt%</th>\n",
              "      <th>Benzene Column C660 Operation_Bottoms Production Rate and Composition_1-Methyl-2-ethylbenzene_wt%</th>\n",
              "      <th>Benzene Column C660 Operation_Bottoms Production Rate and Composition_1,2,4-Trimethylbenzene_wt%</th>\n",
              "      <th>Benzene Column C660 Operation_Bottoms Production Rate and Composition_tert-Butylcyclohexane_wt%</th>\n",
              "      <th>Benzene Column C660 Operation_Bottoms Production Rate and Composition_1,2,3-Trimethylbenzene_wt%</th>\n",
              "      <th>Benzene Column C660 Operation_Bottoms Production Rate and Composition_Indane_wt%</th>\n",
              "      <th>Benzene Column C660 Operation_Bottoms Production Rate and Composition_1-Methyl-4-n-propylbenzene_wt%</th>\n",
              "      <th>Benzene Column C660 Operation_Bottoms Production Rate and Composition_1,2-Diethylbenzene_wt%</th>\n",
              "      <th>Benzene Column C660 Operation_Bottoms Production Rate and Composition_5-Ethyl-m-xylene_wt%</th>\n",
              "      <th>Benzene Column C660 Operation_Bottoms Production Rate and Composition_1,4-Diethylbenzene_wt%</th>\n",
              "      <th>Benzene Column C660 Operation_Bottoms Production Rate and Composition_1,2,3,5-Tetramethylbenzene_wt%</th>\n",
              "      <th>Benzene Column C660 Operation_Bottoms Production Rate and Composition_n-Pentylbenzene_wt%</th>\n",
              "      <th>Benzene Column C660 Operation_Bottoms Production Rate and Composition_n-Hexylbenzene_wt%</th>\n",
              "      <th>Benzene Column C660 Operation_Bottoms Production Rate and Composition_Nitrogen_wt%</th>\n",
              "      <th>Benzene Column C660 Operation_Bottoms Production Rate and Composition_Oxygen_wt%</th>\n",
              "    </tr>\n",
              "  </thead>\n",
              "  <tbody>\n",
              "    <tr>\n",
              "      <th>124-020</th>\n",
              "      <td>0.0</td>\n",
              "      <td>0.177711</td>\n",
              "      <td>11.4876</td>\n",
              "      <td>21.930736</td>\n",
              "      <td>14.93593</td>\n",
              "      <td>15.384168</td>\n",
              "      <td>1.06127</td>\n",
              "      <td>34.95695</td>\n",
              "      <td>0.055739</td>\n",
              "      <td>0.009849</td>\n",
              "      <td>0.0</td>\n",
              "      <td>0.000019</td>\n",
              "      <td>0.000001</td>\n",
              "      <td>1.801831e-09</td>\n",
              "      <td>9.444530e-15</td>\n",
              "      <td>2.772814e-15</td>\n",
              "      <td>2.832350e-17</td>\n",
              "      <td>1.754762e-18</td>\n",
              "      <td>8.911887e-19</td>\n",
              "      <td>4.586721e-22</td>\n",
              "      <td>6.109641e-20</td>\n",
              "      <td>5.590643e-35</td>\n",
              "      <td>2.035224e-22</td>\n",
              "      <td>7.697633e-12</td>\n",
              "      <td>5.332009e-32</td>\n",
              "      <td>1.756370e-35</td>\n",
              "      <td>8.199768e-10</td>\n",
              "      <td>0.0</td>\n",
              "      <td>4.391754e-10</td>\n",
              "      <td>1.082505e-27</td>\n",
              "      <td>1.632657e-11</td>\n",
              "      <td>6.098589e-13</td>\n",
              "      <td>0.000019</td>\n",
              "      <td>0.000008</td>\n",
              "      <td>1.854626e-12</td>\n",
              "      <td>0.0</td>\n",
              "      <td>1.121939e-14</td>\n",
              "      <td>6.187068e-16</td>\n",
              "      <td>6.048974e-19</td>\n",
              "      <td>0.0</td>\n",
              "      <td>...</td>\n",
              "      <td>2.312971e-10</td>\n",
              "      <td>1.397761e-08</td>\n",
              "      <td>3.601763e-08</td>\n",
              "      <td>4.122779e-27</td>\n",
              "      <td>1.606418e-19</td>\n",
              "      <td>2.144441e-12</td>\n",
              "      <td>0.004718</td>\n",
              "      <td>6.212492e-07</td>\n",
              "      <td>0.000145</td>\n",
              "      <td>0.0</td>\n",
              "      <td>0.012087</td>\n",
              "      <td>94.791047</td>\n",
              "      <td>0.01328</td>\n",
              "      <td>0.011203</td>\n",
              "      <td>0.009216</td>\n",
              "      <td>2.303875</td>\n",
              "      <td>1.056109</td>\n",
              "      <td>1.625116</td>\n",
              "      <td>0.096725</td>\n",
              "      <td>0.02017</td>\n",
              "      <td>2.759877e-08</td>\n",
              "      <td>0.044651</td>\n",
              "      <td>5.009474e-09</td>\n",
              "      <td>6.913081e-07</td>\n",
              "      <td>2.579472e-07</td>\n",
              "      <td>2.189797e-07</td>\n",
              "      <td>1.132943e-07</td>\n",
              "      <td>1.338107e-07</td>\n",
              "      <td>0.003614</td>\n",
              "      <td>2.918151e-09</td>\n",
              "      <td>1.721573e-10</td>\n",
              "      <td>0.006412</td>\n",
              "      <td>0.001632</td>\n",
              "      <td>3.649273e-10</td>\n",
              "      <td>0.0</td>\n",
              "      <td>3.883839e-12</td>\n",
              "      <td>2.671953e-13</td>\n",
              "      <td>2.635713e-16</td>\n",
              "      <td>0.0</td>\n",
              "      <td>0.0</td>\n",
              "    </tr>\n",
              "  </tbody>\n",
              "</table>\n",
              "<p>1 rows × 164 columns</p>\n",
              "</div>"
            ],
            "text/plain": [
              "         Benzene Column C660 Operation_Vent Gas Production Rate and Composition_Hydrogen_wt%  ...  Benzene Column C660 Operation_Bottoms Production Rate and Composition_Oxygen_wt%\n",
              "124-020                                                0.0                                    ...                                                0.0                               \n",
              "\n",
              "[1 rows x 164 columns]"
            ]
          },
          "metadata": {
            "tags": []
          },
          "execution_count": 22
        }
      ]
    },
    {
      "cell_type": "code",
      "metadata": {
        "colab": {
          "base_uri": "https://localhost:8080/",
          "height": 182
        },
        "id": "bQTrBR3-pXfu",
        "outputId": "452c1c9b-0430-4314-c11b-775e662034ae"
      },
      "source": [
        "c660_op"
      ],
      "execution_count": 23,
      "outputs": [
        {
          "output_type": "execute_result",
          "data": {
            "text/html": [
              "<div>\n",
              "<style scoped>\n",
              "    .dataframe tbody tr th:only-of-type {\n",
              "        vertical-align: middle;\n",
              "    }\n",
              "\n",
              "    .dataframe tbody tr th {\n",
              "        vertical-align: top;\n",
              "    }\n",
              "\n",
              "    .dataframe thead th {\n",
              "        text-align: right;\n",
              "    }\n",
              "</style>\n",
              "<table border=\"1\" class=\"dataframe\">\n",
              "  <thead>\n",
              "    <tr style=\"text-align: right;\">\n",
              "      <th></th>\n",
              "      <th>Density_Feed Properties</th>\n",
              "      <th>Density_Vent Gas Production Rate and Composition</th>\n",
              "      <th>Density_Distillate (Benzene Drag) Production Rate and Composition</th>\n",
              "      <th>Density_Sidedraw (Benzene )Production Rate and Composition</th>\n",
              "      <th>Density_Bottoms Production Rate and Composition</th>\n",
              "      <th>Benzene Column C660 Operation_Yield Summary_Reflux Rate_m3/hr</th>\n",
              "      <th>Benzene Column C660 Operation_Heat Duty_Condenser Heat Duty_Mkcal/hr</th>\n",
              "      <th>Benzene Column C660 Operation_Heat Duty_Reboiler Heat Duty_Mkcal/hr</th>\n",
              "      <th>Benzene Column C660 Operation_Column Temp Profile_C660 Tray 6 (SD &amp; Control)_oC</th>\n",
              "      <th>Benzene Column C660 Operation_Column Temp Profile_C660 Tray 23 (Control)_oC</th>\n",
              "    </tr>\n",
              "  </thead>\n",
              "  <tbody>\n",
              "    <tr>\n",
              "      <th>124-020</th>\n",
              "      <td>0.875263</td>\n",
              "      <td>0.58975</td>\n",
              "      <td>0.837644</td>\n",
              "      <td>0.883687</td>\n",
              "      <td>0.870711</td>\n",
              "      <td>148.128174</td>\n",
              "      <td>13.143128</td>\n",
              "      <td>13.357101</td>\n",
              "      <td>86.672546</td>\n",
              "      <td>91.166328</td>\n",
              "    </tr>\n",
              "  </tbody>\n",
              "</table>\n",
              "</div>"
            ],
            "text/plain": [
              "         Density_Feed Properties  ...  Benzene Column C660 Operation_Column Temp Profile_C660 Tray 23 (Control)_oC\n",
              "124-020                 0.875263  ...                                          91.166328                          \n",
              "\n",
              "[1 rows x 10 columns]"
            ]
          },
          "metadata": {
            "tags": []
          },
          "execution_count": 23
        }
      ]
    },
    {
      "cell_type": "code",
      "metadata": {
        "colab": {
          "base_uri": "https://localhost:8080/",
          "height": 265
        },
        "id": "msReDUW3pYYN",
        "outputId": "17e95161-b6cd-4199-a2ed-8ec0dea89f6c"
      },
      "source": [
        "c670_wt"
      ],
      "execution_count": 24,
      "outputs": [
        {
          "output_type": "execute_result",
          "data": {
            "text/html": [
              "<div>\n",
              "<style scoped>\n",
              "    .dataframe tbody tr th:only-of-type {\n",
              "        vertical-align: middle;\n",
              "    }\n",
              "\n",
              "    .dataframe tbody tr th {\n",
              "        vertical-align: top;\n",
              "    }\n",
              "\n",
              "    .dataframe thead th {\n",
              "        text-align: right;\n",
              "    }\n",
              "</style>\n",
              "<table border=\"1\" class=\"dataframe\">\n",
              "  <thead>\n",
              "    <tr style=\"text-align: right;\">\n",
              "      <th></th>\n",
              "      <th>Toluene Column C670 Operation_Distillate Production Rate and Composition_Hydrogen_wt%</th>\n",
              "      <th>Toluene Column C670 Operation_Distillate Production Rate and Composition_Methane_wt%</th>\n",
              "      <th>Toluene Column C670 Operation_Distillate Production Rate and Composition_Ethane_wt%</th>\n",
              "      <th>Toluene Column C670 Operation_Distillate Production Rate and Composition_Propane_wt%</th>\n",
              "      <th>Toluene Column C670 Operation_Distillate Production Rate and Composition_n-Butane_wt%</th>\n",
              "      <th>Toluene Column C670 Operation_Distillate Production Rate and Composition_n-Pentane_wt%</th>\n",
              "      <th>Toluene Column C670 Operation_Distillate Production Rate and Composition_n-Hexane_wt%</th>\n",
              "      <th>Toluene Column C670 Operation_Distillate Production Rate and Composition_Benzene_wt%</th>\n",
              "      <th>Toluene Column C670 Operation_Distillate Production Rate and Composition_Cyclohexane_wt%</th>\n",
              "      <th>Toluene Column C670 Operation_Distillate Production Rate and Composition_n-Heptane_wt%</th>\n",
              "      <th>Toluene Column C670 Operation_Distillate Production Rate and Composition_Water_wt%</th>\n",
              "      <th>Toluene Column C670 Operation_Distillate Production Rate and Composition_Methylcyclohexane_wt%</th>\n",
              "      <th>Toluene Column C670 Operation_Distillate Production Rate and Composition_Toluene_wt%</th>\n",
              "      <th>Toluene Column C670 Operation_Distillate Production Rate and Composition_n-Octane_wt%</th>\n",
              "      <th>Toluene Column C670 Operation_Distillate Production Rate and Composition_n-Propylcyclopentane_wt%</th>\n",
              "      <th>Toluene Column C670 Operation_Distillate Production Rate and Composition_Ethylcyclohexane_wt%</th>\n",
              "      <th>Toluene Column C670 Operation_Distillate Production Rate and Composition_Ethylbenzene_wt%</th>\n",
              "      <th>Toluene Column C670 Operation_Distillate Production Rate and Composition_p-Xylene_wt%</th>\n",
              "      <th>Toluene Column C670 Operation_Distillate Production Rate and Composition_m-Xylene_wt%</th>\n",
              "      <th>Toluene Column C670 Operation_Distillate Production Rate and Composition_o-Xylene_wt%</th>\n",
              "      <th>Toluene Column C670 Operation_Distillate Production Rate and Composition_n-Nonane_wt%</th>\n",
              "      <th>Toluene Column C670 Operation_Distillate Production Rate and Composition_i-Propylbenzene_wt%</th>\n",
              "      <th>Toluene Column C670 Operation_Distillate Production Rate and Composition_n-Propylcyclohexane_wt%</th>\n",
              "      <th>Toluene Column C670 Operation_Distillate Production Rate and Composition_n-Propylbenzene_wt%</th>\n",
              "      <th>Toluene Column C670 Operation_Distillate Production Rate and Composition_1-Methyl-3-ethylbenzene_wt%</th>\n",
              "      <th>Toluene Column C670 Operation_Distillate Production Rate and Composition_1-Methyl-4-ethylbenzene_wt%</th>\n",
              "      <th>Toluene Column C670 Operation_Distillate Production Rate and Composition_1,3,5-Trimethylbenzene_wt%</th>\n",
              "      <th>Toluene Column C670 Operation_Distillate Production Rate and Composition_1-Methyl-2-ethylbenzene_wt%</th>\n",
              "      <th>Toluene Column C670 Operation_Distillate Production Rate and Composition_1,2,4-Trimethylbenzene_wt%</th>\n",
              "      <th>Toluene Column C670 Operation_Distillate Production Rate and Composition_tert-Butylcyclohexane_wt%</th>\n",
              "      <th>Toluene Column C670 Operation_Distillate Production Rate and Composition_1,2,3-Trimethylbenzene_wt%</th>\n",
              "      <th>Toluene Column C670 Operation_Distillate Production Rate and Composition_Indane_wt%</th>\n",
              "      <th>Toluene Column C670 Operation_Distillate Production Rate and Composition_1-Methyl-4-n-propylbenzene_wt%</th>\n",
              "      <th>Toluene Column C670 Operation_Distillate Production Rate and Composition_1,2-Diethylbenzene_wt%</th>\n",
              "      <th>Toluene Column C670 Operation_Distillate Production Rate and Composition_5-Ethyl-m-xylene_wt%</th>\n",
              "      <th>Toluene Column C670 Operation_Distillate Production Rate and Composition_1,4-Diethylbenzene_wt%</th>\n",
              "      <th>Toluene Column C670 Operation_Distillate Production Rate and Composition_1,2,3,5-Tetramethylbenzene_wt%</th>\n",
              "      <th>Toluene Column C670 Operation_Distillate Production Rate and Composition_n-Pentylbenzene_wt%</th>\n",
              "      <th>Toluene Column C670 Operation_Distillate Production Rate and Composition_n-Hexylbenzene_wt%</th>\n",
              "      <th>Toluene Column C670 Operation_Distillate Production Rate and Composition_Nitrogen_wt%</th>\n",
              "      <th>...</th>\n",
              "      <th>Toluene Column C670 Operation_Bottoms Production Rate and Composition_Methane_wt%</th>\n",
              "      <th>Toluene Column C670 Operation_Bottoms Production Rate and Composition_Ethane_wt%</th>\n",
              "      <th>Toluene Column C670 Operation_Bottoms Production Rate and Composition_Propane_wt%</th>\n",
              "      <th>Toluene Column C670 Operation_Bottoms Production Rate and Composition_n-Butane_wt%</th>\n",
              "      <th>Toluene Column C670 Operation_Bottoms Production Rate and Composition_n-Pentane_wt%</th>\n",
              "      <th>Toluene Column C670 Operation_Bottoms Production Rate and Composition_n-Hexane_wt%</th>\n",
              "      <th>Toluene Column C670 Operation_Bottoms Production Rate and Composition_Benzene_wt%</th>\n",
              "      <th>Toluene Column C670 Operation_Bottoms Production Rate and Composition_Cyclohexane_wt%</th>\n",
              "      <th>Toluene Column C670 Operation_Bottoms Production Rate and Composition_n-Heptane_wt%</th>\n",
              "      <th>Toluene Column C670 Operation_Bottoms Production Rate and Composition_Water_wt%</th>\n",
              "      <th>Toluene Column C670 Operation_Bottoms Production Rate and Composition_Methylcyclohexane_wt%</th>\n",
              "      <th>Toluene Column C670 Operation_Bottoms Production Rate and Composition_Toluene_wt%</th>\n",
              "      <th>Toluene Column C670 Operation_Bottoms Production Rate and Composition_n-Octane_wt%</th>\n",
              "      <th>Toluene Column C670 Operation_Bottoms Production Rate and Composition_n-Propylcyclopentane_wt%</th>\n",
              "      <th>Toluene Column C670 Operation_Bottoms Production Rate and Composition_Ethylcyclohexane_wt%</th>\n",
              "      <th>Toluene Column C670 Operation_Bottoms Production Rate and Composition_Ethylbenzene_wt%</th>\n",
              "      <th>Toluene Column C670 Operation_Bottoms Production Rate and Composition_p-Xylene_wt%</th>\n",
              "      <th>Toluene Column C670 Operation_Bottoms Production Rate and Composition_m-Xylene_wt%</th>\n",
              "      <th>Toluene Column C670 Operation_Bottoms Production Rate and Composition_o-Xylene_wt%</th>\n",
              "      <th>Toluene Column C670 Operation_Bottoms Production Rate and Composition_n-Nonane_wt%</th>\n",
              "      <th>Toluene Column C670 Operation_Bottoms Production Rate and Composition_i-Propylbenzene_wt%</th>\n",
              "      <th>Toluene Column C670 Operation_Bottoms Production Rate and Composition_n-Propylcyclohexane_wt%</th>\n",
              "      <th>Toluene Column C670 Operation_Bottoms Production Rate and Composition_n-Propylbenzene_wt%</th>\n",
              "      <th>Toluene Column C670 Operation_Bottoms Production Rate and Composition_1-Methyl-3-ethylbenzene_wt%</th>\n",
              "      <th>Toluene Column C670 Operation_Bottoms Production Rate and Composition_1-Methyl-4-ethylbenzene_wt%</th>\n",
              "      <th>Toluene Column C670 Operation_Bottoms Production Rate and Composition_1,3,5-Trimethylbenzene_wt%</th>\n",
              "      <th>Toluene Column C670 Operation_Bottoms Production Rate and Composition_1-Methyl-2-ethylbenzene_wt%</th>\n",
              "      <th>Toluene Column C670 Operation_Bottoms Production Rate and Composition_1,2,4-Trimethylbenzene_wt%</th>\n",
              "      <th>Toluene Column C670 Operation_Bottoms Production Rate and Composition_tert-Butylcyclohexane_wt%</th>\n",
              "      <th>Toluene Column C670 Operation_Bottoms Production Rate and Composition_1,2,3-Trimethylbenzene_wt%</th>\n",
              "      <th>Toluene Column C670 Operation_Bottoms Production Rate and Composition_Indane_wt%</th>\n",
              "      <th>Toluene Column C670 Operation_Bottoms Production Rate and Composition_1-Methyl-4-n-propylbenzene_wt%</th>\n",
              "      <th>Toluene Column C670 Operation_Bottoms Production Rate and Composition_1,2-Diethylbenzene_wt%</th>\n",
              "      <th>Toluene Column C670 Operation_Bottoms Production Rate and Composition_5-Ethyl-m-xylene_wt%</th>\n",
              "      <th>Toluene Column C670 Operation_Bottoms Production Rate and Composition_1,4-Diethylbenzene_wt%</th>\n",
              "      <th>Toluene Column C670 Operation_Bottoms Production Rate and Composition_1,2,3,5-Tetramethylbenzene_wt%</th>\n",
              "      <th>Toluene Column C670 Operation_Bottoms Production Rate and Composition_n-Pentylbenzene_wt%</th>\n",
              "      <th>Toluene Column C670 Operation_Bottoms Production Rate and Composition_n-Hexylbenzene_wt%</th>\n",
              "      <th>Toluene Column C670 Operation_Bottoms Production Rate and Composition_Nitrogen_wt%</th>\n",
              "      <th>Toluene Column C670 Operation_Bottoms Production Rate and Composition_Oxygen_wt%</th>\n",
              "    </tr>\n",
              "  </thead>\n",
              "  <tbody>\n",
              "    <tr>\n",
              "      <th>124-020</th>\n",
              "      <td>0.0</td>\n",
              "      <td>1.058748e-10</td>\n",
              "      <td>6.398161e-09</td>\n",
              "      <td>1.648684e-08</td>\n",
              "      <td>3.550359e-24</td>\n",
              "      <td>1.890252e-16</td>\n",
              "      <td>1.654609e-09</td>\n",
              "      <td>0.249424</td>\n",
              "      <td>0.000187</td>\n",
              "      <td>0.003905</td>\n",
              "      <td>0.0</td>\n",
              "      <td>0.016629</td>\n",
              "      <td>99.699443</td>\n",
              "      <td>0.016356</td>\n",
              "      <td>0.003318</td>\n",
              "      <td>0.000726</td>\n",
              "      <td>0.006363</td>\n",
              "      <td>0.001801</td>\n",
              "      <td>0.001838</td>\n",
              "      <td>0.000004</td>\n",
              "      <td>0.000003</td>\n",
              "      <td>5.876179e-12</td>\n",
              "      <td>1.595264e-10</td>\n",
              "      <td>1.309762e-14</td>\n",
              "      <td>7.393763e-12</td>\n",
              "      <td>1.136065e-12</td>\n",
              "      <td>2.282703e-14</td>\n",
              "      <td>2.831835e-13</td>\n",
              "      <td>4.658678e-16</td>\n",
              "      <td>5.616311e-16</td>\n",
              "      <td>1.112333e-19</td>\n",
              "      <td>8.325965e-21</td>\n",
              "      <td>2.691280e-20</td>\n",
              "      <td>4.827523e-21</td>\n",
              "      <td>1.087986e-22</td>\n",
              "      <td>0.0</td>\n",
              "      <td>0.000002</td>\n",
              "      <td>3.913986e-07</td>\n",
              "      <td>2.461396e-07</td>\n",
              "      <td>0.0</td>\n",
              "      <td>...</td>\n",
              "      <td>1.788538e-16</td>\n",
              "      <td>1.804965e-14</td>\n",
              "      <td>4.651529e-14</td>\n",
              "      <td>1.281084e-29</td>\n",
              "      <td>7.577687e-22</td>\n",
              "      <td>5.889935e-15</td>\n",
              "      <td>6.317982e-10</td>\n",
              "      <td>1.544601e-12</td>\n",
              "      <td>3.585620e-10</td>\n",
              "      <td>0.0</td>\n",
              "      <td>2.144099e-07</td>\n",
              "      <td>0.019927</td>\n",
              "      <td>0.00004</td>\n",
              "      <td>0.028896</td>\n",
              "      <td>0.032296</td>\n",
              "      <td>4.041276</td>\n",
              "      <td>14.205818</td>\n",
              "      <td>29.533694</td>\n",
              "      <td>12.510605</td>\n",
              "      <td>0.05527</td>\n",
              "      <td>0.03124</td>\n",
              "      <td>0.048157</td>\n",
              "      <td>0.038449</td>\n",
              "      <td>2.595289</td>\n",
              "      <td>1.360123</td>\n",
              "      <td>7.322077</td>\n",
              "      <td>0.764168</td>\n",
              "      <td>18.700494</td>\n",
              "      <td>0.003337</td>\n",
              "      <td>2.984581</td>\n",
              "      <td>0.134571</td>\n",
              "      <td>0.008323</td>\n",
              "      <td>0.054374</td>\n",
              "      <td>2.006542</td>\n",
              "      <td>0.0</td>\n",
              "      <td>2.311725</td>\n",
              "      <td>0.845871</td>\n",
              "      <td>0.362859</td>\n",
              "      <td>0.0</td>\n",
              "      <td>0.0</td>\n",
              "    </tr>\n",
              "  </tbody>\n",
              "</table>\n",
              "<p>1 rows × 82 columns</p>\n",
              "</div>"
            ],
            "text/plain": [
              "         Toluene Column C670 Operation_Distillate Production Rate and Composition_Hydrogen_wt%  ...  Toluene Column C670 Operation_Bottoms Production Rate and Composition_Oxygen_wt%\n",
              "124-020                                                0.0                                      ...                                                0.0                               \n",
              "\n",
              "[1 rows x 82 columns]"
            ]
          },
          "metadata": {
            "tags": []
          },
          "execution_count": 24
        }
      ]
    },
    {
      "cell_type": "code",
      "metadata": {
        "colab": {
          "base_uri": "https://localhost:8080/",
          "height": 147
        },
        "id": "-mQegOW7pZHN",
        "outputId": "9be4eb31-5f74-42ce-e206-6b2f48b8fade"
      },
      "source": [
        "c670_op"
      ],
      "execution_count": 25,
      "outputs": [
        {
          "output_type": "execute_result",
          "data": {
            "text/html": [
              "<div>\n",
              "<style scoped>\n",
              "    .dataframe tbody tr th:only-of-type {\n",
              "        vertical-align: middle;\n",
              "    }\n",
              "\n",
              "    .dataframe tbody tr th {\n",
              "        vertical-align: top;\n",
              "    }\n",
              "\n",
              "    .dataframe thead th {\n",
              "        text-align: right;\n",
              "    }\n",
              "</style>\n",
              "<table border=\"1\" class=\"dataframe\">\n",
              "  <thead>\n",
              "    <tr style=\"text-align: right;\">\n",
              "      <th></th>\n",
              "      <th>Density_Distillate Production Rate and Composition</th>\n",
              "      <th>Density_Bottoms Production Rate and Composition</th>\n",
              "      <th>Toluene Column C670 Operation_Yield \\nSummary_Reflux Rate_m3/hr</th>\n",
              "      <th>Toluene Column C670 Operation_Heat Duty_Condenser Heat Duty_Mkcal/hr</th>\n",
              "      <th>Toluene Column C670 Operation_Heat Duty_Reboiler Heat Duty_Mkcal/hr</th>\n",
              "      <th>Toluene Column C670 Operation_Column Temp Profile_C670 Tray 24 (Control)_oC</th>\n",
              "      <th>Toluene Column C670 Operation_Column Temp Profile_C670 Btm Temp (Control)_oC</th>\n",
              "    </tr>\n",
              "  </thead>\n",
              "  <tbody>\n",
              "    <tr>\n",
              "      <th>124-020</th>\n",
              "      <td>0.870948</td>\n",
              "      <td>0.873215</td>\n",
              "      <td>269.663269</td>\n",
              "      <td>32.620831</td>\n",
              "      <td>32.268333</td>\n",
              "      <td>181.343216</td>\n",
              "      <td>228.981613</td>\n",
              "    </tr>\n",
              "  </tbody>\n",
              "</table>\n",
              "</div>"
            ],
            "text/plain": [
              "         Density_Distillate Production Rate and Composition  ...  Toluene Column C670 Operation_Column Temp Profile_C670 Btm Temp (Control)_oC\n",
              "124-020                                           0.870948   ...                                         228.981613                           \n",
              "\n",
              "[1 rows x 7 columns]"
            ]
          },
          "metadata": {
            "tags": []
          },
          "execution_count": 25
        }
      ]
    },
    {
      "cell_type": "code",
      "metadata": {
        "id": "aQKOHeWVpZyO"
      },
      "source": [
        ""
      ],
      "execution_count": 25,
      "outputs": []
    }
  ]
}