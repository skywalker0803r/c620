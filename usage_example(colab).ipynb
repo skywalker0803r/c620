{
  "nbformat": 4,
  "nbformat_minor": 0,
  "metadata": {
    "colab": {
      "name": "usage_example.ipynb",
      "provenance": [],
      "mount_file_id": "1EkEB-qXjPRmudXTmuHHtlwsWr1V9Wzxh",
      "authorship_tag": "ABX9TyNf+clQeCHG0+8kUIJrnaUn",
      "include_colab_link": true
    },
    "kernelspec": {
      "name": "python3",
      "display_name": "Python 3"
    }
  },
  "cells": [
    {
      "cell_type": "markdown",
      "metadata": {
        "id": "view-in-github",
        "colab_type": "text"
      },
      "source": [
        "<a href=\"https://colab.research.google.com/github/skywalker0803r/c620/blob/main/usage_example(colab).ipynb\" target=\"_parent\"><img src=\"https://colab.research.google.com/assets/colab-badge.svg\" alt=\"Open In Colab\"/></a>"
      ]
    },
    {
      "cell_type": "markdown",
      "metadata": {
        "id": "geeed9roqKSP"
      },
      "source": [
        "# install"
      ]
    },
    {
      "cell_type": "code",
      "metadata": {
        "colab": {
          "base_uri": "https://localhost:8080/"
        },
        "id": "yoR0u4yuiWnd",
        "outputId": "8754671b-14ca-4075-a50e-c6d6c0d2c569"
      },
      "source": [
        "!git clone https://github.com/skywalker0803r/c620.git\n",
        "!pip install autorch > log.txt"
      ],
      "execution_count": 1,
      "outputs": [
        {
          "output_type": "stream",
          "text": [
            "fatal: destination path 'c620' already exists and is not an empty directory.\n"
          ],
          "name": "stdout"
        }
      ]
    },
    {
      "cell_type": "markdown",
      "metadata": {
        "id": "ZybB7ygZqJLM"
      },
      "source": [
        "# import "
      ]
    },
    {
      "cell_type": "code",
      "metadata": {
        "colab": {
          "base_uri": "https://localhost:8080/"
        },
        "id": "FFcAtS_vixO-",
        "outputId": "08f603a3-66fe-46fc-e0a4-8c317fdb1650"
      },
      "source": [
        "from c620.F import F\n",
        "from c620.config import config\n",
        "import joblib\n",
        "import numpy as np\n",
        "import pandas as pd\n",
        "import os\n",
        "os.chdir('/content/c620')\n",
        "print(os.getcwd())\n",
        "!git pull"
      ],
      "execution_count": 2,
      "outputs": [
        {
          "output_type": "stream",
          "text": [
            "/content/c620\n",
            "Already up to date.\n"
          ],
          "name": "stdout"
        }
      ]
    },
    {
      "cell_type": "markdown",
      "metadata": {
        "id": "7Wjx-_s0qM0G"
      },
      "source": [
        "# demo data"
      ]
    },
    {
      "cell_type": "code",
      "metadata": {
        "id": "pXE2zrcYKIQK",
        "outputId": "c2084615-9c3f-412c-dff8-4d155c810406",
        "colab": {
          "base_uri": "https://localhost:8080/"
        }
      },
      "source": [
        "tag = 'test001'\r\n",
        "demo = joblib.load('./data/demo.pkl')\r\n",
        "print(demo.keys())"
      ],
      "execution_count": 3,
      "outputs": [
        {
          "output_type": "stream",
          "text": [
            "dict_keys(['icg_input', 'c620_Receiver_Temp', 'c620_feed', 't651_feedf', 'c620_op', 'c620_wt', 'c660_op', 'c660_wt', 'c670_op', 'c670_wt'])\n"
          ],
          "name": "stdout"
        }
      ]
    },
    {
      "cell_type": "code",
      "metadata": {
        "id": "XVCHP95Vi3I6"
      },
      "source": [
        "icg_input = demo['icg_input'].to_frame().T\n",
        "c620_Receiver_Temp = demo['c620_Receiver_Temp'].to_frame().T\n",
        "c620_feed = demo['c620_feed'].to_frame().T\n",
        "t651_feed = demo['t651_feedf'].to_frame().T"
      ],
      "execution_count": 4,
      "outputs": []
    },
    {
      "cell_type": "markdown",
      "metadata": {
        "id": "HcvWuhpDn3Ic"
      },
      "source": [
        "# F"
      ]
    },
    {
      "cell_type": "code",
      "metadata": {
        "id": "Qa-lHXhJjI8M",
        "outputId": "47493506-fa47-434f-b238-676b532b6078",
        "colab": {
          "base_uri": "https://localhost:8080/"
        }
      },
      "source": [
        "f = F(config)\n",
        "f.Recommended_mode = True\n",
        "c620_wt,c620_op,c660_wt,c660_op,c670_wt,c670_op = f(icg_input,c620_Receiver_Temp,c620_feed,t651_feed)"
      ],
      "execution_count": 5,
      "outputs": [
        {
          "output_type": "stream",
          "text": [
            "current Distillate Rate_m3/hr:-0.00747864693403244 NA in Benzene_ppmw:920.0 so NA in Benzene_ppmw -= 30\n",
            "current Distillate Rate_m3/hr:-0.008662432432174683 NA in Benzene_ppmw:890.0 so NA in Benzene_ppmw -= 30\n"
          ],
          "name": "stdout"
        }
      ]
    },
    {
      "cell_type": "code",
      "metadata": {
        "colab": {
          "base_uri": "https://localhost:8080/",
          "height": 265
        },
        "id": "cw-XxB-RjOAi",
        "outputId": "7cae1f30-6c04-45cc-893c-3777d42e4231"
      },
      "source": [
        "c620_wt"
      ],
      "execution_count": 6,
      "outputs": [
        {
          "output_type": "execute_result",
          "data": {
            "text/html": [
              "<div>\n",
              "<style scoped>\n",
              "    .dataframe tbody tr th:only-of-type {\n",
              "        vertical-align: middle;\n",
              "    }\n",
              "\n",
              "    .dataframe tbody tr th {\n",
              "        vertical-align: top;\n",
              "    }\n",
              "\n",
              "    .dataframe thead th {\n",
              "        text-align: right;\n",
              "    }\n",
              "</style>\n",
              "<table border=\"1\" class=\"dataframe\">\n",
              "  <thead>\n",
              "    <tr style=\"text-align: right;\">\n",
              "      <th></th>\n",
              "      <th>Tatoray Stripper C620 Operation_Vent Gas Production Rate and Composition_Hydrogen_wt%</th>\n",
              "      <th>Tatoray Stripper C620 Operation_Vent Gas Production Rate and Composition_Methane_wt%</th>\n",
              "      <th>Tatoray Stripper C620 Operation_Vent Gas Production Rate and Composition_Ethane_wt%</th>\n",
              "      <th>Tatoray Stripper C620 Operation_Vent Gas Production Rate and Composition_Propane_wt%</th>\n",
              "      <th>Tatoray Stripper C620 Operation_Vent Gas Production Rate and Composition_n-Butane_wt%</th>\n",
              "      <th>Tatoray Stripper C620 Operation_Vent Gas Production Rate and Composition_n-Pentane_wt%</th>\n",
              "      <th>Tatoray Stripper C620 Operation_Vent Gas Production Rate and Composition_n-Hexane_wt%</th>\n",
              "      <th>Tatoray Stripper C620 Operation_Vent Gas Production Rate and Composition_Benzene_wt%</th>\n",
              "      <th>Tatoray Stripper C620 Operation_Vent Gas Production Rate and Composition_Cyclohexane_wt%</th>\n",
              "      <th>Tatoray Stripper C620 Operation_Vent Gas Production Rate and Composition_n-Heptane_wt%</th>\n",
              "      <th>Tatoray Stripper C620 Operation_Vent Gas Production Rate and Composition_Water_wt%</th>\n",
              "      <th>Tatoray Stripper C620 Operation_Vent Gas Production Rate and Composition_Methylcyclohexane_wt%</th>\n",
              "      <th>Tatoray Stripper C620 Operation_Vent Gas Production Rate and Composition_Toluene_wt%</th>\n",
              "      <th>Tatoray Stripper C620 Operation_Vent Gas Production Rate and Composition_n-Octane_wt%</th>\n",
              "      <th>Tatoray Stripper C620 Operation_Vent Gas Production Rate and Composition_n-Propylcyclopentane_wt%</th>\n",
              "      <th>Tatoray Stripper C620 Operation_Vent Gas Production Rate and Composition_Ethylcyclohexane_wt%</th>\n",
              "      <th>Tatoray Stripper C620 Operation_Vent Gas Production Rate and Composition_Ethylbenzene_wt%</th>\n",
              "      <th>Tatoray Stripper C620 Operation_Vent Gas Production Rate and Composition_p-Xylene_wt%</th>\n",
              "      <th>Tatoray Stripper C620 Operation_Vent Gas Production Rate and Composition_m-Xylene_wt%</th>\n",
              "      <th>Tatoray Stripper C620 Operation_Vent Gas Production Rate and Composition_o-Xylene_wt%</th>\n",
              "      <th>Tatoray Stripper C620 Operation_Vent Gas Production Rate and Composition_n-Nonane_wt%</th>\n",
              "      <th>Tatoray Stripper C620 Operation_Vent Gas Production Rate and Composition_i-Propylbenzene_wt%</th>\n",
              "      <th>Tatoray Stripper C620 Operation_Vent Gas Production Rate and Composition_n-Propylcyclohexane_wt%</th>\n",
              "      <th>Tatoray Stripper C620 Operation_Vent Gas Production Rate and Composition_n-Propylbenzene_wt%</th>\n",
              "      <th>Tatoray Stripper C620 Operation_Vent Gas Production Rate and Composition_1-Methyl-3-ethylbenzene_wt%</th>\n",
              "      <th>Tatoray Stripper C620 Operation_Vent Gas Production Rate and Composition_1-Methyl-4-ethylbenzene_wt%</th>\n",
              "      <th>Tatoray Stripper C620 Operation_Vent Gas Production Rate and Composition_1,3,5-Trimethylbenzene_wt%</th>\n",
              "      <th>Tatoray Stripper C620 Operation_Vent Gas Production Rate and Composition_1-Methyl-2-ethylbenzene_wt%</th>\n",
              "      <th>Tatoray Stripper C620 Operation_Vent Gas Production Rate and Composition_1,2,4-Trimethylbenzene_wt%</th>\n",
              "      <th>Tatoray Stripper C620 Operation_Vent Gas Production Rate and Composition_tert-Butylcyclohexane_wt%</th>\n",
              "      <th>Tatoray Stripper C620 Operation_Vent Gas Production Rate and Composition_1,2,3-Trimethylbenzene_wt%</th>\n",
              "      <th>Tatoray Stripper C620 Operation_Vent Gas Production Rate and Composition_Indane_wt%</th>\n",
              "      <th>Tatoray Stripper C620 Operation_Vent Gas Production Rate and Composition_1-Methyl-4-n-propylbenzene_wt%</th>\n",
              "      <th>Tatoray Stripper C620 Operation_Vent Gas Production Rate and Composition_1,2-Diethylbenzene_wt%</th>\n",
              "      <th>Tatoray Stripper C620 Operation_Vent Gas Production Rate and Composition_5-Ethyl-m-xylene_wt%</th>\n",
              "      <th>Tatoray Stripper C620 Operation_Vent Gas Production Rate and Composition_1,4-Diethylbenzene_wt%</th>\n",
              "      <th>Tatoray Stripper C620 Operation_Vent Gas Production Rate and Composition_1,2,3,5-Tetramethylbenzene_wt%</th>\n",
              "      <th>Tatoray Stripper C620 Operation_Vent Gas Production Rate and Composition_n-Pentylbenzene_wt%</th>\n",
              "      <th>Tatoray Stripper C620 Operation_Vent Gas Production Rate and Composition_n-Hexylbenzene_wt%</th>\n",
              "      <th>Tatoray Stripper C620 Operation_Vent Gas Production Rate and Composition_Nitrogen_wt%</th>\n",
              "      <th>...</th>\n",
              "      <th>Tatoray Stripper C620 Operation_Bottoms Production Rate and Composition_Methane_wt%</th>\n",
              "      <th>Tatoray Stripper C620 Operation_Bottoms Production Rate and Composition_Ethane_wt%</th>\n",
              "      <th>Tatoray Stripper C620 Operation_Bottoms Production Rate and Composition_Propane_wt%</th>\n",
              "      <th>Tatoray Stripper C620 Operation_Bottoms Production Rate and Composition_n-Butane_wt%</th>\n",
              "      <th>Tatoray Stripper C620 Operation_Bottoms Production Rate and Composition_n-Pentane_wt%</th>\n",
              "      <th>Tatoray Stripper C620 Operation_Bottoms Production Rate and Composition_n-Hexane_wt%</th>\n",
              "      <th>Tatoray Stripper C620 Operation_Bottoms Production Rate and Composition_Benzene_wt%</th>\n",
              "      <th>Tatoray Stripper C620 Operation_Bottoms Production Rate and Composition_Cyclohexane_wt%</th>\n",
              "      <th>Tatoray Stripper C620 Operation_Bottoms Production Rate and Composition_n-Heptane_wt%</th>\n",
              "      <th>Tatoray Stripper C620 Operation_Bottoms Production Rate and Composition_Water_wt%</th>\n",
              "      <th>Tatoray Stripper C620 Operation_Bottoms Production Rate and Composition_Methylcyclohexane_wt%</th>\n",
              "      <th>Tatoray Stripper C620 Operation_Bottoms Production Rate and Composition_Toluene_wt%</th>\n",
              "      <th>Tatoray Stripper C620 Operation_Bottoms Production Rate and Composition_n-Octane_wt%</th>\n",
              "      <th>Tatoray Stripper C620 Operation_Bottoms Production Rate and Composition_n-Propylcyclopentane_wt%</th>\n",
              "      <th>Tatoray Stripper C620 Operation_Bottoms Production Rate and Composition_Ethylcyclohexane_wt%</th>\n",
              "      <th>Tatoray Stripper C620 Operation_Bottoms Production Rate and Composition_Ethylbenzene_wt%</th>\n",
              "      <th>Tatoray Stripper C620 Operation_Bottoms Production Rate and Composition_p-Xylene_wt%</th>\n",
              "      <th>Tatoray Stripper C620 Operation_Bottoms Production Rate and Composition_m-Xylene_wt%</th>\n",
              "      <th>Tatoray Stripper C620 Operation_Bottoms Production Rate and Composition_o-Xylene_wt%</th>\n",
              "      <th>Tatoray Stripper C620 Operation_Bottoms Production Rate and Composition_n-Nonane_wt%</th>\n",
              "      <th>Tatoray Stripper C620 Operation_Bottoms Production Rate and Composition_i-Propylbenzene_wt%</th>\n",
              "      <th>Tatoray Stripper C620 Operation_Bottoms Production Rate and Composition_n-Propylcyclohexane_wt%</th>\n",
              "      <th>Tatoray Stripper C620 Operation_Bottoms Production Rate and Composition_n-Propylbenzene_wt%</th>\n",
              "      <th>Tatoray Stripper C620 Operation_Bottoms Production Rate and Composition_1-Methyl-3-ethylbenzene_wt%</th>\n",
              "      <th>Tatoray Stripper C620 Operation_Bottoms Production Rate and Composition_1-Methyl-4-ethylbenzene_wt%</th>\n",
              "      <th>Tatoray Stripper C620 Operation_Bottoms Production Rate and Composition_1,3,5-Trimethylbenzene_wt%</th>\n",
              "      <th>Tatoray Stripper C620 Operation_Bottoms Production Rate and Composition_1-Methyl-2-ethylbenzene_wt%</th>\n",
              "      <th>Tatoray Stripper C620 Operation_Bottoms Production Rate and Composition_1,2,4-Trimethylbenzene_wt%</th>\n",
              "      <th>Tatoray Stripper C620 Operation_Bottoms Production Rate and Composition_tert-Butylcyclohexane_wt%</th>\n",
              "      <th>Tatoray Stripper C620 Operation_Bottoms Production Rate and Composition_1,2,3-Trimethylbenzene_wt%</th>\n",
              "      <th>Tatoray Stripper C620 Operation_Bottoms Production Rate and Composition_Indane_wt%</th>\n",
              "      <th>Tatoray Stripper C620 Operation_Bottoms Production Rate and Composition_1-Methyl-4-n-propylbenzene_wt%</th>\n",
              "      <th>Tatoray Stripper C620 Operation_Bottoms Production Rate and Composition_1,2-Diethylbenzene_wt%</th>\n",
              "      <th>Tatoray Stripper C620 Operation_Bottoms Production Rate and Composition_5-Ethyl-m-xylene_wt%</th>\n",
              "      <th>Tatoray Stripper C620 Operation_Bottoms Production Rate and Composition_1,4-Diethylbenzene_wt%</th>\n",
              "      <th>Tatoray Stripper C620 Operation_Bottoms Production Rate and Composition_1,2,3,5-Tetramethylbenzene_wt%</th>\n",
              "      <th>Tatoray Stripper C620 Operation_Bottoms Production Rate and Composition_n-Pentylbenzene_wt%</th>\n",
              "      <th>Tatoray Stripper C620 Operation_Bottoms Production Rate and Composition_n-Hexylbenzene_wt%</th>\n",
              "      <th>Tatoray Stripper C620 Operation_Bottoms Production Rate and Composition_Nitrogen_wt%</th>\n",
              "      <th>Tatoray Stripper C620 Operation_Bottoms Production Rate and Composition_Oxygen_wt%</th>\n",
              "    </tr>\n",
              "  </thead>\n",
              "  <tbody>\n",
              "    <tr>\n",
              "      <th>044-017</th>\n",
              "      <td>0.0</td>\n",
              "      <td>2.714317</td>\n",
              "      <td>53.605388</td>\n",
              "      <td>31.856373</td>\n",
              "      <td>4.044639</td>\n",
              "      <td>0.817467</td>\n",
              "      <td>0.049048</td>\n",
              "      <td>6.88401</td>\n",
              "      <td>0.006958</td>\n",
              "      <td>0.002918</td>\n",
              "      <td>0.0</td>\n",
              "      <td>0.000105</td>\n",
              "      <td>0.018769</td>\n",
              "      <td>0.000008</td>\n",
              "      <td>3.024302e-09</td>\n",
              "      <td>1.353567e-09</td>\n",
              "      <td>9.009935e-09</td>\n",
              "      <td>3.036209e-08</td>\n",
              "      <td>4.546143e-08</td>\n",
              "      <td>1.728419e-09</td>\n",
              "      <td>3.459700e-11</td>\n",
              "      <td>7.103313e-14</td>\n",
              "      <td>2.812208e-14</td>\n",
              "      <td>3.652448e-15</td>\n",
              "      <td>1.828050e-12</td>\n",
              "      <td>5.727275e-13</td>\n",
              "      <td>1.005978e-13</td>\n",
              "      <td>2.445664e-13</td>\n",
              "      <td>2.852249e-14</td>\n",
              "      <td>0.0</td>\n",
              "      <td>1.845730e-16</td>\n",
              "      <td>1.340101e-17</td>\n",
              "      <td>1.925960e-20</td>\n",
              "      <td>5.256838e-19</td>\n",
              "      <td>1.079424e-17</td>\n",
              "      <td>0.0</td>\n",
              "      <td>6.038275e-21</td>\n",
              "      <td>1.205630e-22</td>\n",
              "      <td>2.821912e-27</td>\n",
              "      <td>0.0</td>\n",
              "      <td>...</td>\n",
              "      <td>0.0</td>\n",
              "      <td>0.0</td>\n",
              "      <td>0.0</td>\n",
              "      <td>9.344707e-24</td>\n",
              "      <td>2.571655e-16</td>\n",
              "      <td>1.911429e-09</td>\n",
              "      <td>0.217136</td>\n",
              "      <td>0.000183</td>\n",
              "      <td>0.003078</td>\n",
              "      <td>0.0</td>\n",
              "      <td>0.008772</td>\n",
              "      <td>45.217972</td>\n",
              "      <td>0.008057</td>\n",
              "      <td>0.009769</td>\n",
              "      <td>0.009771</td>\n",
              "      <td>1.15748</td>\n",
              "      <td>9.039176</td>\n",
              "      <td>19.745867</td>\n",
              "      <td>8.088717</td>\n",
              "      <td>0.014184</td>\n",
              "      <td>0.006825</td>\n",
              "      <td>0.002681</td>\n",
              "      <td>0.007963</td>\n",
              "      <td>1.115919</td>\n",
              "      <td>0.584691</td>\n",
              "      <td>2.962134</td>\n",
              "      <td>0.328747</td>\n",
              "      <td>7.565727</td>\n",
              "      <td>0.0</td>\n",
              "      <td>1.208059</td>\n",
              "      <td>0.039814</td>\n",
              "      <td>0.001138</td>\n",
              "      <td>0.026163</td>\n",
              "      <td>1.022641</td>\n",
              "      <td>0.0</td>\n",
              "      <td>1.176208</td>\n",
              "      <td>0.301446</td>\n",
              "      <td>0.129679</td>\n",
              "      <td>0.0</td>\n",
              "      <td>0.0</td>\n",
              "    </tr>\n",
              "  </tbody>\n",
              "</table>\n",
              "<p>1 rows × 164 columns</p>\n",
              "</div>"
            ],
            "text/plain": [
              "         Tatoray Stripper C620 Operation_Vent Gas Production Rate and Composition_Hydrogen_wt%  ...  Tatoray Stripper C620 Operation_Bottoms Production Rate and Composition_Oxygen_wt%\n",
              "044-017                                                0.0                                      ...                                                0.0                                 \n",
              "\n",
              "[1 rows x 164 columns]"
            ]
          },
          "metadata": {
            "tags": []
          },
          "execution_count": 6
        }
      ]
    },
    {
      "cell_type": "code",
      "metadata": {
        "colab": {
          "base_uri": "https://localhost:8080/",
          "height": 165
        },
        "id": "BofcSOZQpU3v",
        "outputId": "1bbe2e40-f0b5-4774-fdbc-afe0b4309e95"
      },
      "source": [
        "c620_op"
      ],
      "execution_count": 7,
      "outputs": [
        {
          "output_type": "execute_result",
          "data": {
            "text/html": [
              "<div>\n",
              "<style scoped>\n",
              "    .dataframe tbody tr th:only-of-type {\n",
              "        vertical-align: middle;\n",
              "    }\n",
              "\n",
              "    .dataframe tbody tr th {\n",
              "        vertical-align: top;\n",
              "    }\n",
              "\n",
              "    .dataframe thead th {\n",
              "        text-align: right;\n",
              "    }\n",
              "</style>\n",
              "<table border=\"1\" class=\"dataframe\">\n",
              "  <thead>\n",
              "    <tr style=\"text-align: right;\">\n",
              "      <th></th>\n",
              "      <th>Density_Feed Properties</th>\n",
              "      <th>Density_Vent Gas Production Rate and Composition</th>\n",
              "      <th>Density_Distillate Production Rate and Composition</th>\n",
              "      <th>Density_Sidedraw Production Rate and Composition</th>\n",
              "      <th>Density_Bottoms Production Rate and Composition</th>\n",
              "      <th>Tatoray Stripper C620 Operation_Yield Summary_Reflux Rate_m3/hr</th>\n",
              "      <th>Tatoray Stripper C620 Operation_Heat Duty_Condenser Heat Duty_Mkcal/hr</th>\n",
              "      <th>Tatoray Stripper C620 Operation_Heat Duty_Reboiler Heat Duty_Mkcal/hr</th>\n",
              "      <th>Tatoray Stripper C620 Operation_Column Temp Profile_C620 Tray 14 (Control)_oC</th>\n",
              "      <th>Tatoray Stripper C620 Operation_Column Temp Profile_C620 Tray 34 (Control)_oC</th>\n",
              "    </tr>\n",
              "  </thead>\n",
              "  <tbody>\n",
              "    <tr>\n",
              "      <th>044-017</th>\n",
              "      <td>0.862092</td>\n",
              "      <td>0.426528</td>\n",
              "      <td>0.827697</td>\n",
              "      <td>0.878691</td>\n",
              "      <td>0.871905</td>\n",
              "      <td>97.020195</td>\n",
              "      <td>13.955317</td>\n",
              "      <td>12.04661</td>\n",
              "      <td>178.120712</td>\n",
              "      <td>194.744308</td>\n",
              "    </tr>\n",
              "  </tbody>\n",
              "</table>\n",
              "</div>"
            ],
            "text/plain": [
              "         Density_Feed Properties  ...  Tatoray Stripper C620 Operation_Column Temp Profile_C620 Tray 34 (Control)_oC\n",
              "044-017                 0.862092  ...                                         194.744308                            \n",
              "\n",
              "[1 rows x 10 columns]"
            ]
          },
          "metadata": {
            "tags": []
          },
          "execution_count": 7
        }
      ]
    },
    {
      "cell_type": "code",
      "metadata": {
        "colab": {
          "base_uri": "https://localhost:8080/",
          "height": 265
        },
        "id": "OLJvr9tkpV5u",
        "outputId": "ce8f1f7b-150a-4194-c954-82accc990f69"
      },
      "source": [
        "c660_wt"
      ],
      "execution_count": 8,
      "outputs": [
        {
          "output_type": "execute_result",
          "data": {
            "text/html": [
              "<div>\n",
              "<style scoped>\n",
              "    .dataframe tbody tr th:only-of-type {\n",
              "        vertical-align: middle;\n",
              "    }\n",
              "\n",
              "    .dataframe tbody tr th {\n",
              "        vertical-align: top;\n",
              "    }\n",
              "\n",
              "    .dataframe thead th {\n",
              "        text-align: right;\n",
              "    }\n",
              "</style>\n",
              "<table border=\"1\" class=\"dataframe\">\n",
              "  <thead>\n",
              "    <tr style=\"text-align: right;\">\n",
              "      <th></th>\n",
              "      <th>Benzene Column C660 Operation_Vent Gas Production Rate and Composition_Hydrogen_wt%</th>\n",
              "      <th>Benzene Column C660 Operation_Vent Gas Production Rate and Composition_Methane_wt%</th>\n",
              "      <th>Benzene Column C660 Operation_Vent Gas Production Rate and Composition_Ethane_wt%</th>\n",
              "      <th>Benzene Column C660 Operation_Vent Gas Production Rate and Composition_Propane_wt%</th>\n",
              "      <th>Benzene Column C660 Operation_Vent Gas Production Rate and Composition_n-Butane_wt%</th>\n",
              "      <th>Benzene Column C660 Operation_Vent Gas Production Rate and Composition_n-Pentane_wt%</th>\n",
              "      <th>Benzene Column C660 Operation_Vent Gas Production Rate and Composition_n-Hexane_wt%</th>\n",
              "      <th>Benzene Column C660 Operation_Vent Gas Production Rate and Composition_Benzene_wt%</th>\n",
              "      <th>Benzene Column C660 Operation_Vent Gas Production Rate and Composition_Cyclohexane_wt%</th>\n",
              "      <th>Benzene Column C660 Operation_Vent Gas Production Rate and Composition_n-Heptane_wt%</th>\n",
              "      <th>Benzene Column C660 Operation_Vent Gas Production Rate and Composition_Water_wt%</th>\n",
              "      <th>Benzene Column C660 Operation_Vent Gas Production Rate and Composition_Methylcyclohexane_wt%</th>\n",
              "      <th>Benzene Column C660 Operation_Vent Gas Production Rate and Composition_Toluene_wt%</th>\n",
              "      <th>Benzene Column C660 Operation_Vent Gas Production Rate and Composition_n-Octane_wt%</th>\n",
              "      <th>Benzene Column C660 Operation_Vent Gas Production Rate and Composition_n-Propylcyclopentane_wt%</th>\n",
              "      <th>Benzene Column C660 Operation_Vent Gas Production Rate and Composition_Ethylcyclohexane_wt%</th>\n",
              "      <th>Benzene Column C660 Operation_Vent Gas Production Rate and Composition_Ethylbenzene_wt%</th>\n",
              "      <th>Benzene Column C660 Operation_Vent Gas Production Rate and Composition_p-Xylene_wt%</th>\n",
              "      <th>Benzene Column C660 Operation_Vent Gas Production Rate and Composition_m-Xylene_wt%</th>\n",
              "      <th>Benzene Column C660 Operation_Vent Gas Production Rate and Composition_o-Xylene_wt%</th>\n",
              "      <th>Benzene Column C660 Operation_Vent Gas Production Rate and Composition_n-Nonane_wt%</th>\n",
              "      <th>Benzene Column C660 Operation_Vent Gas Production Rate and Composition_i-Propylbenzene_wt%</th>\n",
              "      <th>Benzene Column C660 Operation_Vent Gas Production Rate and Composition_n-Propylcyclohexane_wt%</th>\n",
              "      <th>Benzene Column C660 Operation_Vent Gas Production Rate and Composition_n-Propylbenzene_wt%</th>\n",
              "      <th>Benzene Column C660 Operation_Vent Gas Production Rate and Composition_1-Methyl-3-ethylbenzene_wt%</th>\n",
              "      <th>Benzene Column C660 Operation_Vent Gas Production Rate and Composition_1-Methyl-4-ethylbenzene_wt%</th>\n",
              "      <th>Benzene Column C660 Operation_Vent Gas Production Rate and Composition_1,3,5-Trimethylbenzene_wt%</th>\n",
              "      <th>Benzene Column C660 Operation_Vent Gas Production Rate and Composition_1-Methyl-2-ethylbenzene_wt%</th>\n",
              "      <th>Benzene Column C660 Operation_Vent Gas Production Rate and Composition_1,2,4-Trimethylbenzene_wt%</th>\n",
              "      <th>Benzene Column C660 Operation_Vent Gas Production Rate and Composition_tert-Butylcyclohexane_wt%</th>\n",
              "      <th>Benzene Column C660 Operation_Vent Gas Production Rate and Composition_1,2,3-Trimethylbenzene_wt%</th>\n",
              "      <th>Benzene Column C660 Operation_Vent Gas Production Rate and Composition_Indane_wt%</th>\n",
              "      <th>Benzene Column C660 Operation_Vent Gas Production Rate and Composition_1-Methyl-4-n-propylbenzene_wt%</th>\n",
              "      <th>Benzene Column C660 Operation_Vent Gas Production Rate and Composition_1,2-Diethylbenzene_wt%</th>\n",
              "      <th>Benzene Column C660 Operation_Vent Gas Production Rate and Composition_5-Ethyl-m-xylene_wt%</th>\n",
              "      <th>Benzene Column C660 Operation_Vent Gas Production Rate and Composition_1,4-Diethylbenzene_wt%</th>\n",
              "      <th>Benzene Column C660 Operation_Vent Gas Production Rate and Composition_1,2,3,5-Tetramethylbenzene_wt%</th>\n",
              "      <th>Benzene Column C660 Operation_Vent Gas Production Rate and Composition_n-Pentylbenzene_wt%</th>\n",
              "      <th>Benzene Column C660 Operation_Vent Gas Production Rate and Composition_n-Hexylbenzene_wt%</th>\n",
              "      <th>Benzene Column C660 Operation_Vent Gas Production Rate and Composition_Nitrogen_wt%</th>\n",
              "      <th>...</th>\n",
              "      <th>Benzene Column C660 Operation_Bottoms Production Rate and Composition_Methane_wt%</th>\n",
              "      <th>Benzene Column C660 Operation_Bottoms Production Rate and Composition_Ethane_wt%</th>\n",
              "      <th>Benzene Column C660 Operation_Bottoms Production Rate and Composition_Propane_wt%</th>\n",
              "      <th>Benzene Column C660 Operation_Bottoms Production Rate and Composition_n-Butane_wt%</th>\n",
              "      <th>Benzene Column C660 Operation_Bottoms Production Rate and Composition_n-Pentane_wt%</th>\n",
              "      <th>Benzene Column C660 Operation_Bottoms Production Rate and Composition_n-Hexane_wt%</th>\n",
              "      <th>Benzene Column C660 Operation_Bottoms Production Rate and Composition_Benzene_wt%</th>\n",
              "      <th>Benzene Column C660 Operation_Bottoms Production Rate and Composition_Cyclohexane_wt%</th>\n",
              "      <th>Benzene Column C660 Operation_Bottoms Production Rate and Composition_n-Heptane_wt%</th>\n",
              "      <th>Benzene Column C660 Operation_Bottoms Production Rate and Composition_Water_wt%</th>\n",
              "      <th>Benzene Column C660 Operation_Bottoms Production Rate and Composition_Methylcyclohexane_wt%</th>\n",
              "      <th>Benzene Column C660 Operation_Bottoms Production Rate and Composition_Toluene_wt%</th>\n",
              "      <th>Benzene Column C660 Operation_Bottoms Production Rate and Composition_n-Octane_wt%</th>\n",
              "      <th>Benzene Column C660 Operation_Bottoms Production Rate and Composition_n-Propylcyclopentane_wt%</th>\n",
              "      <th>Benzene Column C660 Operation_Bottoms Production Rate and Composition_Ethylcyclohexane_wt%</th>\n",
              "      <th>Benzene Column C660 Operation_Bottoms Production Rate and Composition_Ethylbenzene_wt%</th>\n",
              "      <th>Benzene Column C660 Operation_Bottoms Production Rate and Composition_p-Xylene_wt%</th>\n",
              "      <th>Benzene Column C660 Operation_Bottoms Production Rate and Composition_m-Xylene_wt%</th>\n",
              "      <th>Benzene Column C660 Operation_Bottoms Production Rate and Composition_o-Xylene_wt%</th>\n",
              "      <th>Benzene Column C660 Operation_Bottoms Production Rate and Composition_n-Nonane_wt%</th>\n",
              "      <th>Benzene Column C660 Operation_Bottoms Production Rate and Composition_i-Propylbenzene_wt%</th>\n",
              "      <th>Benzene Column C660 Operation_Bottoms Production Rate and Composition_n-Propylcyclohexane_wt%</th>\n",
              "      <th>Benzene Column C660 Operation_Bottoms Production Rate and Composition_n-Propylbenzene_wt%</th>\n",
              "      <th>Benzene Column C660 Operation_Bottoms Production Rate and Composition_1-Methyl-3-ethylbenzene_wt%</th>\n",
              "      <th>Benzene Column C660 Operation_Bottoms Production Rate and Composition_1-Methyl-4-ethylbenzene_wt%</th>\n",
              "      <th>Benzene Column C660 Operation_Bottoms Production Rate and Composition_1,3,5-Trimethylbenzene_wt%</th>\n",
              "      <th>Benzene Column C660 Operation_Bottoms Production Rate and Composition_1-Methyl-2-ethylbenzene_wt%</th>\n",
              "      <th>Benzene Column C660 Operation_Bottoms Production Rate and Composition_1,2,4-Trimethylbenzene_wt%</th>\n",
              "      <th>Benzene Column C660 Operation_Bottoms Production Rate and Composition_tert-Butylcyclohexane_wt%</th>\n",
              "      <th>Benzene Column C660 Operation_Bottoms Production Rate and Composition_1,2,3-Trimethylbenzene_wt%</th>\n",
              "      <th>Benzene Column C660 Operation_Bottoms Production Rate and Composition_Indane_wt%</th>\n",
              "      <th>Benzene Column C660 Operation_Bottoms Production Rate and Composition_1-Methyl-4-n-propylbenzene_wt%</th>\n",
              "      <th>Benzene Column C660 Operation_Bottoms Production Rate and Composition_1,2-Diethylbenzene_wt%</th>\n",
              "      <th>Benzene Column C660 Operation_Bottoms Production Rate and Composition_5-Ethyl-m-xylene_wt%</th>\n",
              "      <th>Benzene Column C660 Operation_Bottoms Production Rate and Composition_1,4-Diethylbenzene_wt%</th>\n",
              "      <th>Benzene Column C660 Operation_Bottoms Production Rate and Composition_1,2,3,5-Tetramethylbenzene_wt%</th>\n",
              "      <th>Benzene Column C660 Operation_Bottoms Production Rate and Composition_n-Pentylbenzene_wt%</th>\n",
              "      <th>Benzene Column C660 Operation_Bottoms Production Rate and Composition_n-Hexylbenzene_wt%</th>\n",
              "      <th>Benzene Column C660 Operation_Bottoms Production Rate and Composition_Nitrogen_wt%</th>\n",
              "      <th>Benzene Column C660 Operation_Bottoms Production Rate and Composition_Oxygen_wt%</th>\n",
              "    </tr>\n",
              "  </thead>\n",
              "  <tbody>\n",
              "    <tr>\n",
              "      <th>044-017</th>\n",
              "      <td>0.0</td>\n",
              "      <td>0.227277</td>\n",
              "      <td>14.415289</td>\n",
              "      <td>26.200891</td>\n",
              "      <td>15.091746</td>\n",
              "      <td>11.062822</td>\n",
              "      <td>0.994575</td>\n",
              "      <td>31.943832</td>\n",
              "      <td>0.050903</td>\n",
              "      <td>0.009788</td>\n",
              "      <td>0.0</td>\n",
              "      <td>0.000033</td>\n",
              "      <td>0.000001</td>\n",
              "      <td>9.174420e-09</td>\n",
              "      <td>3.662593e-14</td>\n",
              "      <td>1.142117e-14</td>\n",
              "      <td>5.707770e-17</td>\n",
              "      <td>2.575285e-18</td>\n",
              "      <td>1.356538e-18</td>\n",
              "      <td>1.950181e-21</td>\n",
              "      <td>2.529563e-19</td>\n",
              "      <td>0.0</td>\n",
              "      <td>8.261790e-22</td>\n",
              "      <td>1.146057e-10</td>\n",
              "      <td>7.926723e-27</td>\n",
              "      <td>3.285055e-27</td>\n",
              "      <td>0.00034</td>\n",
              "      <td>1.475259e-27</td>\n",
              "      <td>0.000073</td>\n",
              "      <td>4.284901e-27</td>\n",
              "      <td>1.900926e-10</td>\n",
              "      <td>8.772967e-12</td>\n",
              "      <td>0.00191</td>\n",
              "      <td>0.000519</td>\n",
              "      <td>3.964905e-11</td>\n",
              "      <td>0.0</td>\n",
              "      <td>3.431571e-13</td>\n",
              "      <td>1.729299e-14</td>\n",
              "      <td>1.131436e-17</td>\n",
              "      <td>0.0</td>\n",
              "      <td>...</td>\n",
              "      <td>2.350331e-08</td>\n",
              "      <td>8.499073e-07</td>\n",
              "      <td>0.000002</td>\n",
              "      <td>1.230817e-27</td>\n",
              "      <td>4.442841e-20</td>\n",
              "      <td>9.132023e-13</td>\n",
              "      <td>0.004866</td>\n",
              "      <td>2.878201e-07</td>\n",
              "      <td>0.00013</td>\n",
              "      <td>0.0</td>\n",
              "      <td>0.024116</td>\n",
              "      <td>91.267476</td>\n",
              "      <td>0.034579</td>\n",
              "      <td>0.029654</td>\n",
              "      <td>0.024245</td>\n",
              "      <td>4.177661</td>\n",
              "      <td>1.428828</td>\n",
              "      <td>2.342054</td>\n",
              "      <td>0.413397</td>\n",
              "      <td>0.053208</td>\n",
              "      <td>3.074841e-08</td>\n",
              "      <td>0.118001</td>\n",
              "      <td>5.311260e-09</td>\n",
              "      <td>0.004611</td>\n",
              "      <td>0.00461</td>\n",
              "      <td>0.009218</td>\n",
              "      <td>0.002239</td>\n",
              "      <td>0.002239</td>\n",
              "      <td>0.009351</td>\n",
              "      <td>6.046541e-09</td>\n",
              "      <td>2.607433e-10</td>\n",
              "      <td>0.039636</td>\n",
              "      <td>0.009876</td>\n",
              "      <td>9.497488e-10</td>\n",
              "      <td>0.0</td>\n",
              "      <td>1.011138e-11</td>\n",
              "      <td>4.866620e-13</td>\n",
              "      <td>4.806929e-16</td>\n",
              "      <td>0.0</td>\n",
              "      <td>0.0</td>\n",
              "    </tr>\n",
              "  </tbody>\n",
              "</table>\n",
              "<p>1 rows × 164 columns</p>\n",
              "</div>"
            ],
            "text/plain": [
              "         Benzene Column C660 Operation_Vent Gas Production Rate and Composition_Hydrogen_wt%  ...  Benzene Column C660 Operation_Bottoms Production Rate and Composition_Oxygen_wt%\n",
              "044-017                                                0.0                                    ...                                                0.0                               \n",
              "\n",
              "[1 rows x 164 columns]"
            ]
          },
          "metadata": {
            "tags": []
          },
          "execution_count": 8
        }
      ]
    },
    {
      "cell_type": "code",
      "metadata": {
        "colab": {
          "base_uri": "https://localhost:8080/",
          "height": 165
        },
        "id": "bQTrBR3-pXfu",
        "outputId": "b37c1312-6d7b-4f85-b6be-21b5ebf12757"
      },
      "source": [
        "c660_op"
      ],
      "execution_count": 9,
      "outputs": [
        {
          "output_type": "execute_result",
          "data": {
            "text/html": [
              "<div>\n",
              "<style scoped>\n",
              "    .dataframe tbody tr th:only-of-type {\n",
              "        vertical-align: middle;\n",
              "    }\n",
              "\n",
              "    .dataframe tbody tr th {\n",
              "        vertical-align: top;\n",
              "    }\n",
              "\n",
              "    .dataframe thead th {\n",
              "        text-align: right;\n",
              "    }\n",
              "</style>\n",
              "<table border=\"1\" class=\"dataframe\">\n",
              "  <thead>\n",
              "    <tr style=\"text-align: right;\">\n",
              "      <th></th>\n",
              "      <th>Density_Feed Properties</th>\n",
              "      <th>Density_Vent Gas Production Rate and Composition</th>\n",
              "      <th>Density_Distillate (Benzene Drag) Production Rate and Composition</th>\n",
              "      <th>Density_Sidedraw (Benzene )Production Rate and Composition</th>\n",
              "      <th>Density_Bottoms Production Rate and Composition</th>\n",
              "      <th>Benzene Column C660 Operation_Yield Summary_Reflux Rate_m3/hr</th>\n",
              "      <th>Benzene Column C660 Operation_Heat Duty_Condenser Heat Duty_Mkcal/hr</th>\n",
              "      <th>Benzene Column C660 Operation_Heat Duty_Reboiler Heat Duty_Mkcal/hr</th>\n",
              "      <th>Benzene Column C660 Operation_Column Temp Profile_C660 Tray 6 (SD &amp; Control)_oC</th>\n",
              "      <th>Benzene Column C660 Operation_Column Temp Profile_C660 Tray 23 (Control)_oC</th>\n",
              "    </tr>\n",
              "  </thead>\n",
              "  <tbody>\n",
              "    <tr>\n",
              "      <th>044-017</th>\n",
              "      <td>0.877258</td>\n",
              "      <td>0.579506</td>\n",
              "      <td>0.851628</td>\n",
              "      <td>0.883718</td>\n",
              "      <td>0.870445</td>\n",
              "      <td>115.78511</td>\n",
              "      <td>10.910509</td>\n",
              "      <td>10.605762</td>\n",
              "      <td>86.489799</td>\n",
              "      <td>89.336929</td>\n",
              "    </tr>\n",
              "  </tbody>\n",
              "</table>\n",
              "</div>"
            ],
            "text/plain": [
              "         Density_Feed Properties  ...  Benzene Column C660 Operation_Column Temp Profile_C660 Tray 23 (Control)_oC\n",
              "044-017                 0.877258  ...                                          89.336929                          \n",
              "\n",
              "[1 rows x 10 columns]"
            ]
          },
          "metadata": {
            "tags": []
          },
          "execution_count": 9
        }
      ]
    },
    {
      "cell_type": "code",
      "metadata": {
        "colab": {
          "base_uri": "https://localhost:8080/",
          "height": 265
        },
        "id": "msReDUW3pYYN",
        "outputId": "1e0a21cc-c9ba-4ab0-f9b7-7c24c700eed3"
      },
      "source": [
        "c670_wt"
      ],
      "execution_count": 10,
      "outputs": [
        {
          "output_type": "execute_result",
          "data": {
            "text/html": [
              "<div>\n",
              "<style scoped>\n",
              "    .dataframe tbody tr th:only-of-type {\n",
              "        vertical-align: middle;\n",
              "    }\n",
              "\n",
              "    .dataframe tbody tr th {\n",
              "        vertical-align: top;\n",
              "    }\n",
              "\n",
              "    .dataframe thead th {\n",
              "        text-align: right;\n",
              "    }\n",
              "</style>\n",
              "<table border=\"1\" class=\"dataframe\">\n",
              "  <thead>\n",
              "    <tr style=\"text-align: right;\">\n",
              "      <th></th>\n",
              "      <th>Toluene Column C670 Operation_Distillate Production Rate and Composition_Hydrogen_wt%</th>\n",
              "      <th>Toluene Column C670 Operation_Distillate Production Rate and Composition_Methane_wt%</th>\n",
              "      <th>Toluene Column C670 Operation_Distillate Production Rate and Composition_Ethane_wt%</th>\n",
              "      <th>Toluene Column C670 Operation_Distillate Production Rate and Composition_Propane_wt%</th>\n",
              "      <th>Toluene Column C670 Operation_Distillate Production Rate and Composition_n-Butane_wt%</th>\n",
              "      <th>Toluene Column C670 Operation_Distillate Production Rate and Composition_n-Pentane_wt%</th>\n",
              "      <th>Toluene Column C670 Operation_Distillate Production Rate and Composition_n-Hexane_wt%</th>\n",
              "      <th>Toluene Column C670 Operation_Distillate Production Rate and Composition_Benzene_wt%</th>\n",
              "      <th>Toluene Column C670 Operation_Distillate Production Rate and Composition_Cyclohexane_wt%</th>\n",
              "      <th>Toluene Column C670 Operation_Distillate Production Rate and Composition_n-Heptane_wt%</th>\n",
              "      <th>Toluene Column C670 Operation_Distillate Production Rate and Composition_Water_wt%</th>\n",
              "      <th>Toluene Column C670 Operation_Distillate Production Rate and Composition_Methylcyclohexane_wt%</th>\n",
              "      <th>Toluene Column C670 Operation_Distillate Production Rate and Composition_Toluene_wt%</th>\n",
              "      <th>Toluene Column C670 Operation_Distillate Production Rate and Composition_n-Octane_wt%</th>\n",
              "      <th>Toluene Column C670 Operation_Distillate Production Rate and Composition_n-Propylcyclopentane_wt%</th>\n",
              "      <th>Toluene Column C670 Operation_Distillate Production Rate and Composition_Ethylcyclohexane_wt%</th>\n",
              "      <th>Toluene Column C670 Operation_Distillate Production Rate and Composition_Ethylbenzene_wt%</th>\n",
              "      <th>Toluene Column C670 Operation_Distillate Production Rate and Composition_p-Xylene_wt%</th>\n",
              "      <th>Toluene Column C670 Operation_Distillate Production Rate and Composition_m-Xylene_wt%</th>\n",
              "      <th>Toluene Column C670 Operation_Distillate Production Rate and Composition_o-Xylene_wt%</th>\n",
              "      <th>Toluene Column C670 Operation_Distillate Production Rate and Composition_n-Nonane_wt%</th>\n",
              "      <th>Toluene Column C670 Operation_Distillate Production Rate and Composition_i-Propylbenzene_wt%</th>\n",
              "      <th>Toluene Column C670 Operation_Distillate Production Rate and Composition_n-Propylcyclohexane_wt%</th>\n",
              "      <th>Toluene Column C670 Operation_Distillate Production Rate and Composition_n-Propylbenzene_wt%</th>\n",
              "      <th>Toluene Column C670 Operation_Distillate Production Rate and Composition_1-Methyl-3-ethylbenzene_wt%</th>\n",
              "      <th>Toluene Column C670 Operation_Distillate Production Rate and Composition_1-Methyl-4-ethylbenzene_wt%</th>\n",
              "      <th>Toluene Column C670 Operation_Distillate Production Rate and Composition_1,3,5-Trimethylbenzene_wt%</th>\n",
              "      <th>Toluene Column C670 Operation_Distillate Production Rate and Composition_1-Methyl-2-ethylbenzene_wt%</th>\n",
              "      <th>Toluene Column C670 Operation_Distillate Production Rate and Composition_1,2,4-Trimethylbenzene_wt%</th>\n",
              "      <th>Toluene Column C670 Operation_Distillate Production Rate and Composition_tert-Butylcyclohexane_wt%</th>\n",
              "      <th>Toluene Column C670 Operation_Distillate Production Rate and Composition_1,2,3-Trimethylbenzene_wt%</th>\n",
              "      <th>Toluene Column C670 Operation_Distillate Production Rate and Composition_Indane_wt%</th>\n",
              "      <th>Toluene Column C670 Operation_Distillate Production Rate and Composition_1-Methyl-4-n-propylbenzene_wt%</th>\n",
              "      <th>Toluene Column C670 Operation_Distillate Production Rate and Composition_1,2-Diethylbenzene_wt%</th>\n",
              "      <th>Toluene Column C670 Operation_Distillate Production Rate and Composition_5-Ethyl-m-xylene_wt%</th>\n",
              "      <th>Toluene Column C670 Operation_Distillate Production Rate and Composition_1,4-Diethylbenzene_wt%</th>\n",
              "      <th>Toluene Column C670 Operation_Distillate Production Rate and Composition_1,2,3,5-Tetramethylbenzene_wt%</th>\n",
              "      <th>Toluene Column C670 Operation_Distillate Production Rate and Composition_n-Pentylbenzene_wt%</th>\n",
              "      <th>Toluene Column C670 Operation_Distillate Production Rate and Composition_n-Hexylbenzene_wt%</th>\n",
              "      <th>Toluene Column C670 Operation_Distillate Production Rate and Composition_Nitrogen_wt%</th>\n",
              "      <th>...</th>\n",
              "      <th>Toluene Column C670 Operation_Bottoms Production Rate and Composition_Methane_wt%</th>\n",
              "      <th>Toluene Column C670 Operation_Bottoms Production Rate and Composition_Ethane_wt%</th>\n",
              "      <th>Toluene Column C670 Operation_Bottoms Production Rate and Composition_Propane_wt%</th>\n",
              "      <th>Toluene Column C670 Operation_Bottoms Production Rate and Composition_n-Butane_wt%</th>\n",
              "      <th>Toluene Column C670 Operation_Bottoms Production Rate and Composition_n-Pentane_wt%</th>\n",
              "      <th>Toluene Column C670 Operation_Bottoms Production Rate and Composition_n-Hexane_wt%</th>\n",
              "      <th>Toluene Column C670 Operation_Bottoms Production Rate and Composition_Benzene_wt%</th>\n",
              "      <th>Toluene Column C670 Operation_Bottoms Production Rate and Composition_Cyclohexane_wt%</th>\n",
              "      <th>Toluene Column C670 Operation_Bottoms Production Rate and Composition_n-Heptane_wt%</th>\n",
              "      <th>Toluene Column C670 Operation_Bottoms Production Rate and Composition_Water_wt%</th>\n",
              "      <th>Toluene Column C670 Operation_Bottoms Production Rate and Composition_Methylcyclohexane_wt%</th>\n",
              "      <th>Toluene Column C670 Operation_Bottoms Production Rate and Composition_Toluene_wt%</th>\n",
              "      <th>Toluene Column C670 Operation_Bottoms Production Rate and Composition_n-Octane_wt%</th>\n",
              "      <th>Toluene Column C670 Operation_Bottoms Production Rate and Composition_n-Propylcyclopentane_wt%</th>\n",
              "      <th>Toluene Column C670 Operation_Bottoms Production Rate and Composition_Ethylcyclohexane_wt%</th>\n",
              "      <th>Toluene Column C670 Operation_Bottoms Production Rate and Composition_Ethylbenzene_wt%</th>\n",
              "      <th>Toluene Column C670 Operation_Bottoms Production Rate and Composition_p-Xylene_wt%</th>\n",
              "      <th>Toluene Column C670 Operation_Bottoms Production Rate and Composition_m-Xylene_wt%</th>\n",
              "      <th>Toluene Column C670 Operation_Bottoms Production Rate and Composition_o-Xylene_wt%</th>\n",
              "      <th>Toluene Column C670 Operation_Bottoms Production Rate and Composition_n-Nonane_wt%</th>\n",
              "      <th>Toluene Column C670 Operation_Bottoms Production Rate and Composition_i-Propylbenzene_wt%</th>\n",
              "      <th>Toluene Column C670 Operation_Bottoms Production Rate and Composition_n-Propylcyclohexane_wt%</th>\n",
              "      <th>Toluene Column C670 Operation_Bottoms Production Rate and Composition_n-Propylbenzene_wt%</th>\n",
              "      <th>Toluene Column C670 Operation_Bottoms Production Rate and Composition_1-Methyl-3-ethylbenzene_wt%</th>\n",
              "      <th>Toluene Column C670 Operation_Bottoms Production Rate and Composition_1-Methyl-4-ethylbenzene_wt%</th>\n",
              "      <th>Toluene Column C670 Operation_Bottoms Production Rate and Composition_1,3,5-Trimethylbenzene_wt%</th>\n",
              "      <th>Toluene Column C670 Operation_Bottoms Production Rate and Composition_1-Methyl-2-ethylbenzene_wt%</th>\n",
              "      <th>Toluene Column C670 Operation_Bottoms Production Rate and Composition_1,2,4-Trimethylbenzene_wt%</th>\n",
              "      <th>Toluene Column C670 Operation_Bottoms Production Rate and Composition_tert-Butylcyclohexane_wt%</th>\n",
              "      <th>Toluene Column C670 Operation_Bottoms Production Rate and Composition_1,2,3-Trimethylbenzene_wt%</th>\n",
              "      <th>Toluene Column C670 Operation_Bottoms Production Rate and Composition_Indane_wt%</th>\n",
              "      <th>Toluene Column C670 Operation_Bottoms Production Rate and Composition_1-Methyl-4-n-propylbenzene_wt%</th>\n",
              "      <th>Toluene Column C670 Operation_Bottoms Production Rate and Composition_1,2-Diethylbenzene_wt%</th>\n",
              "      <th>Toluene Column C670 Operation_Bottoms Production Rate and Composition_5-Ethyl-m-xylene_wt%</th>\n",
              "      <th>Toluene Column C670 Operation_Bottoms Production Rate and Composition_1,4-Diethylbenzene_wt%</th>\n",
              "      <th>Toluene Column C670 Operation_Bottoms Production Rate and Composition_1,2,3,5-Tetramethylbenzene_wt%</th>\n",
              "      <th>Toluene Column C670 Operation_Bottoms Production Rate and Composition_n-Pentylbenzene_wt%</th>\n",
              "      <th>Toluene Column C670 Operation_Bottoms Production Rate and Composition_n-Hexylbenzene_wt%</th>\n",
              "      <th>Toluene Column C670 Operation_Bottoms Production Rate and Composition_Nitrogen_wt%</th>\n",
              "      <th>Toluene Column C670 Operation_Bottoms Production Rate and Composition_Oxygen_wt%</th>\n",
              "    </tr>\n",
              "  </thead>\n",
              "  <tbody>\n",
              "    <tr>\n",
              "      <th>044-017</th>\n",
              "      <td>0.0</td>\n",
              "      <td>6.824457e-09</td>\n",
              "      <td>2.467804e-07</td>\n",
              "      <td>7.026545e-07</td>\n",
              "      <td>1.510696e-23</td>\n",
              "      <td>4.157452e-16</td>\n",
              "      <td>3.090270e-09</td>\n",
              "      <td>0.352434</td>\n",
              "      <td>0.000295</td>\n",
              "      <td>0.005014</td>\n",
              "      <td>0.0</td>\n",
              "      <td>0.021183</td>\n",
              "      <td>99.581758</td>\n",
              "      <td>0.023035</td>\n",
              "      <td>0.005093</td>\n",
              "      <td>0.000849</td>\n",
              "      <td>0.004845</td>\n",
              "      <td>0.002592</td>\n",
              "      <td>0.002891</td>\n",
              "      <td>0.000008</td>\n",
              "      <td>0.000002</td>\n",
              "      <td>3.788228e-12</td>\n",
              "      <td>4.881545e-11</td>\n",
              "      <td>8.670287e-15</td>\n",
              "      <td>9.896680e-12</td>\n",
              "      <td>1.631106e-12</td>\n",
              "      <td>3.796669e-14</td>\n",
              "      <td>3.997779e-13</td>\n",
              "      <td>7.324403e-16</td>\n",
              "      <td>1.479433e-16</td>\n",
              "      <td>1.900982e-19</td>\n",
              "      <td>9.238327e-21</td>\n",
              "      <td>1.985437e-20</td>\n",
              "      <td>2.960494e-21</td>\n",
              "      <td>2.227512e-22</td>\n",
              "      <td>0.0</td>\n",
              "      <td>5.198718e-08</td>\n",
              "      <td>7.912483e-09</td>\n",
              "      <td>2.178986e-09</td>\n",
              "      <td>0.0</td>\n",
              "      <td>...</td>\n",
              "      <td>5.530226e-17</td>\n",
              "      <td>6.164267e-15</td>\n",
              "      <td>2.580246e-14</td>\n",
              "      <td>2.193637e-31</td>\n",
              "      <td>1.347918e-23</td>\n",
              "      <td>7.796200e-17</td>\n",
              "      <td>1.063867e-09</td>\n",
              "      <td>2.953004e-12</td>\n",
              "      <td>5.352714e-10</td>\n",
              "      <td>0.0</td>\n",
              "      <td>2.668191e-07</td>\n",
              "      <td>0.019773</td>\n",
              "      <td>0.000034</td>\n",
              "      <td>0.021292</td>\n",
              "      <td>0.024242</td>\n",
              "      <td>3.395274</td>\n",
              "      <td>16.566367</td>\n",
              "      <td>35.942438</td>\n",
              "      <td>14.549992</td>\n",
              "      <td>0.042315</td>\n",
              "      <td>0.012165</td>\n",
              "      <td>0.042557</td>\n",
              "      <td>0.014193</td>\n",
              "      <td>1.990535</td>\n",
              "      <td>1.043653</td>\n",
              "      <td>5.282777</td>\n",
              "      <td>0.586688</td>\n",
              "      <td>13.486169</td>\n",
              "      <td>0.002994</td>\n",
              "      <td>2.153293</td>\n",
              "      <td>0.070965</td>\n",
              "      <td>0.014717</td>\n",
              "      <td>0.049796</td>\n",
              "      <td>1.822797</td>\n",
              "      <td>0.0</td>\n",
              "      <td>2.096521</td>\n",
              "      <td>0.537309</td>\n",
              "      <td>0.231144</td>\n",
              "      <td>0.0</td>\n",
              "      <td>0.0</td>\n",
              "    </tr>\n",
              "  </tbody>\n",
              "</table>\n",
              "<p>1 rows × 82 columns</p>\n",
              "</div>"
            ],
            "text/plain": [
              "         Toluene Column C670 Operation_Distillate Production Rate and Composition_Hydrogen_wt%  ...  Toluene Column C670 Operation_Bottoms Production Rate and Composition_Oxygen_wt%\n",
              "044-017                                                0.0                                      ...                                                0.0                               \n",
              "\n",
              "[1 rows x 82 columns]"
            ]
          },
          "metadata": {
            "tags": []
          },
          "execution_count": 10
        }
      ]
    },
    {
      "cell_type": "code",
      "metadata": {
        "colab": {
          "base_uri": "https://localhost:8080/",
          "height": 147
        },
        "id": "-mQegOW7pZHN",
        "outputId": "6469adf0-98d1-4b97-9eb0-44ce036f5a94"
      },
      "source": [
        "c670_op"
      ],
      "execution_count": 11,
      "outputs": [
        {
          "output_type": "execute_result",
          "data": {
            "text/html": [
              "<div>\n",
              "<style scoped>\n",
              "    .dataframe tbody tr th:only-of-type {\n",
              "        vertical-align: middle;\n",
              "    }\n",
              "\n",
              "    .dataframe tbody tr th {\n",
              "        vertical-align: top;\n",
              "    }\n",
              "\n",
              "    .dataframe thead th {\n",
              "        text-align: right;\n",
              "    }\n",
              "</style>\n",
              "<table border=\"1\" class=\"dataframe\">\n",
              "  <thead>\n",
              "    <tr style=\"text-align: right;\">\n",
              "      <th></th>\n",
              "      <th>Density_Distillate Production Rate and Composition</th>\n",
              "      <th>Density_Bottoms Production Rate and Composition</th>\n",
              "      <th>Toluene Column C670 Operation_Yield \\nSummary_Reflux Rate_m3/hr</th>\n",
              "      <th>Toluene Column C670 Operation_Heat Duty_Condenser Heat Duty_Mkcal/hr</th>\n",
              "      <th>Toluene Column C670 Operation_Heat Duty_Reboiler Heat Duty_Mkcal/hr</th>\n",
              "      <th>Toluene Column C670 Operation_Column Temp Profile_C670 Tray 24 (Control)_oC</th>\n",
              "      <th>Toluene Column C670 Operation_Column Temp Profile_C670 Btm Temp (Control)_oC</th>\n",
              "    </tr>\n",
              "  </thead>\n",
              "  <tbody>\n",
              "    <tr>\n",
              "      <th>044-017</th>\n",
              "      <td>0.870943</td>\n",
              "      <td>0.872529</td>\n",
              "      <td>297.448059</td>\n",
              "      <td>32.606651</td>\n",
              "      <td>33.544247</td>\n",
              "      <td>181.986862</td>\n",
              "      <td>226.417694</td>\n",
              "    </tr>\n",
              "  </tbody>\n",
              "</table>\n",
              "</div>"
            ],
            "text/plain": [
              "         Density_Distillate Production Rate and Composition  ...  Toluene Column C670 Operation_Column Temp Profile_C670 Btm Temp (Control)_oC\n",
              "044-017                                           0.870943   ...                                         226.417694                           \n",
              "\n",
              "[1 rows x 7 columns]"
            ]
          },
          "metadata": {
            "tags": []
          },
          "execution_count": 11
        }
      ]
    },
    {
      "cell_type": "code",
      "metadata": {
        "id": "aQKOHeWVpZyO"
      },
      "source": [
        ""
      ],
      "execution_count": 11,
      "outputs": []
    }
  ]
}