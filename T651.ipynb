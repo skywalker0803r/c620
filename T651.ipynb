{
  "nbformat": 4,
  "nbformat_minor": 0,
  "metadata": {
    "colab": {
      "name": "T651.ipynb",
      "provenance": [],
      "mount_file_id": "1J9nr1tlbaGgP07uvS1ggUeJGA6MK5dU-",
      "authorship_tag": "ABX9TyOfSHbeBkMPTWrcZmyJgfqG",
      "include_colab_link": true
    },
    "kernelspec": {
      "name": "python3",
      "display_name": "Python 3"
    }
  },
  "cells": [
    {
      "cell_type": "markdown",
      "metadata": {
        "id": "view-in-github",
        "colab_type": "text"
      },
      "source": [
        "<a href=\"https://colab.research.google.com/github/skywalker0803r/c620/blob/main/T651.ipynb\" target=\"_parent\"><img src=\"https://colab.research.google.com/assets/colab-badge.svg\" alt=\"Open In Colab\"/></a>"
      ]
    },
    {
      "cell_type": "code",
      "metadata": {
        "colab": {
          "base_uri": "https://localhost:8080/"
        },
        "id": "QxPiAlYIR3MU",
        "outputId": "d543f543-9566-4a52-9b17-f24c4bbd9503"
      },
      "source": [
        "import pandas as pd\r\n",
        "import numpy as np\r\n",
        "import joblib\r\n",
        "\r\n",
        "df = pd.read_csv('/content/drive/MyDrive/台塑輕油案子/data/c620/cleaned/t651_train.csv',index_col=0)\r\n",
        "c = joblib.load('/content/drive/MyDrive/台塑輕油案子/data/c620/col_names/t651_col_names.pkl')\r\n",
        "for k,v in c.items():\r\n",
        "  print(k,len(v))"
      ],
      "execution_count": 6,
      "outputs": [
        {
          "output_type": "stream",
          "text": [
            "x41 41\n",
            "MFR 1\n"
          ],
          "name": "stdout"
        }
      ]
    },
    {
      "cell_type": "code",
      "metadata": {
        "colab": {
          "base_uri": "https://localhost:8080/",
          "height": 402
        },
        "id": "WmTsXmBKSOPH",
        "outputId": "a68b27ca-3ea3-46e3-9501-447edd4ee3fc"
      },
      "source": [
        "df[c['MFR']]"
      ],
      "execution_count": 7,
      "outputs": [
        {
          "output_type": "execute_result",
          "data": {
            "text/html": [
              "<div>\n",
              "<style scoped>\n",
              "    .dataframe tbody tr th:only-of-type {\n",
              "        vertical-align: middle;\n",
              "    }\n",
              "\n",
              "    .dataframe tbody tr th {\n",
              "        vertical-align: top;\n",
              "    }\n",
              "\n",
              "    .dataframe thead th {\n",
              "        text-align: right;\n",
              "    }\n",
              "</style>\n",
              "<table border=\"1\" class=\"dataframe\">\n",
              "  <thead>\n",
              "    <tr style=\"text-align: right;\">\n",
              "      <th></th>\n",
              "      <th>Extract Feed from T651_Flow Rate &amp; Temp/Press._Mass Flow Rate_ton/hr</th>\n",
              "    </tr>\n",
              "  </thead>\n",
              "  <tbody>\n",
              "    <tr>\n",
              "      <th>001-001</th>\n",
              "      <td>28.033305</td>\n",
              "    </tr>\n",
              "    <tr>\n",
              "      <th>001-002</th>\n",
              "      <td>28.033305</td>\n",
              "    </tr>\n",
              "    <tr>\n",
              "      <th>001-003</th>\n",
              "      <td>28.033305</td>\n",
              "    </tr>\n",
              "    <tr>\n",
              "      <th>001-004</th>\n",
              "      <td>28.033305</td>\n",
              "    </tr>\n",
              "    <tr>\n",
              "      <th>001-005</th>\n",
              "      <td>28.033305</td>\n",
              "    </tr>\n",
              "    <tr>\n",
              "      <th>...</th>\n",
              "      <td>...</td>\n",
              "    </tr>\n",
              "    <tr>\n",
              "      <th>144-104</th>\n",
              "      <td>80.356930</td>\n",
              "    </tr>\n",
              "    <tr>\n",
              "      <th>144-105</th>\n",
              "      <td>80.356930</td>\n",
              "    </tr>\n",
              "    <tr>\n",
              "      <th>144-106</th>\n",
              "      <td>80.356930</td>\n",
              "    </tr>\n",
              "    <tr>\n",
              "      <th>144-107</th>\n",
              "      <td>80.356930</td>\n",
              "    </tr>\n",
              "    <tr>\n",
              "      <th>144-108</th>\n",
              "      <td>80.356930</td>\n",
              "    </tr>\n",
              "  </tbody>\n",
              "</table>\n",
              "<p>15552 rows × 1 columns</p>\n",
              "</div>"
            ],
            "text/plain": [
              "         Extract Feed from T651_Flow Rate & Temp/Press._Mass Flow Rate_ton/hr\n",
              "001-001                                          28.033305                   \n",
              "001-002                                          28.033305                   \n",
              "001-003                                          28.033305                   \n",
              "001-004                                          28.033305                   \n",
              "001-005                                          28.033305                   \n",
              "...                                                    ...                   \n",
              "144-104                                          80.356930                   \n",
              "144-105                                          80.356930                   \n",
              "144-106                                          80.356930                   \n",
              "144-107                                          80.356930                   \n",
              "144-108                                          80.356930                   \n",
              "\n",
              "[15552 rows x 1 columns]"
            ]
          },
          "metadata": {
            "tags": []
          },
          "execution_count": 7
        }
      ]
    },
    {
      "cell_type": "code",
      "metadata": {
        "id": "kvItQ2ztSk78"
      },
      "source": [
        ""
      ],
      "execution_count": null,
      "outputs": []
    }
  ]
}