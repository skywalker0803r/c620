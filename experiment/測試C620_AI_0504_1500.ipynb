{
  "nbformat": 4,
  "nbformat_minor": 0,
  "metadata": {
    "colab": {
      "name": "測試C620_AI_0504_1500.ipynb",
      "provenance": [],
      "authorship_tag": "ABX9TyPL4WydzYlZXfnCuBjCQTia",
      "include_colab_link": true
    },
    "kernelspec": {
      "name": "python3",
      "display_name": "Python 3"
    },
    "language_info": {
      "name": "python"
    },
    "widgets": {
      "application/vnd.jupyter.widget-state+json": {
        "8b9407422ee24bd28cc94183712c2cd2": {
          "model_module": "@jupyter-widgets/controls",
          "model_name": "HBoxModel",
          "state": {
            "_view_name": "HBoxView",
            "_dom_classes": [],
            "_model_name": "HBoxModel",
            "_view_module": "@jupyter-widgets/controls",
            "_model_module_version": "1.5.0",
            "_view_count": null,
            "_view_module_version": "1.5.0",
            "box_style": "",
            "layout": "IPY_MODEL_77752924a88247d491efa20c62ff128d",
            "_model_module": "@jupyter-widgets/controls",
            "children": [
              "IPY_MODEL_692ad2f22375436a8053f96e81708cfd",
              "IPY_MODEL_dfa028b318e3457d86fe0fbe10a8f725"
            ]
          }
        },
        "77752924a88247d491efa20c62ff128d": {
          "model_module": "@jupyter-widgets/base",
          "model_name": "LayoutModel",
          "state": {
            "_view_name": "LayoutView",
            "grid_template_rows": null,
            "right": null,
            "justify_content": null,
            "_view_module": "@jupyter-widgets/base",
            "overflow": null,
            "_model_module_version": "1.2.0",
            "_view_count": null,
            "flex_flow": null,
            "width": null,
            "min_width": null,
            "border": null,
            "align_items": null,
            "bottom": null,
            "_model_module": "@jupyter-widgets/base",
            "top": null,
            "grid_column": null,
            "overflow_y": null,
            "overflow_x": null,
            "grid_auto_flow": null,
            "grid_area": null,
            "grid_template_columns": null,
            "flex": null,
            "_model_name": "LayoutModel",
            "justify_items": null,
            "grid_row": null,
            "max_height": null,
            "align_content": null,
            "visibility": null,
            "align_self": null,
            "height": null,
            "min_height": null,
            "padding": null,
            "grid_auto_rows": null,
            "grid_gap": null,
            "max_width": null,
            "order": null,
            "_view_module_version": "1.2.0",
            "grid_template_areas": null,
            "object_position": null,
            "object_fit": null,
            "grid_auto_columns": null,
            "margin": null,
            "display": null,
            "left": null
          }
        },
        "692ad2f22375436a8053f96e81708cfd": {
          "model_module": "@jupyter-widgets/controls",
          "model_name": "FloatProgressModel",
          "state": {
            "_view_name": "ProgressView",
            "style": "IPY_MODEL_4014ea521a8c48b5888bc7e191b12fb1",
            "_dom_classes": [],
            "description": "100%",
            "_model_name": "FloatProgressModel",
            "bar_style": "success",
            "max": 300,
            "_view_module": "@jupyter-widgets/controls",
            "_model_module_version": "1.5.0",
            "value": 300,
            "_view_count": null,
            "_view_module_version": "1.5.0",
            "orientation": "horizontal",
            "min": 0,
            "description_tooltip": null,
            "_model_module": "@jupyter-widgets/controls",
            "layout": "IPY_MODEL_851473c87f5e42a39fe0ed89827a034e"
          }
        },
        "dfa028b318e3457d86fe0fbe10a8f725": {
          "model_module": "@jupyter-widgets/controls",
          "model_name": "HTMLModel",
          "state": {
            "_view_name": "HTMLView",
            "style": "IPY_MODEL_2d7d0371808e44929aa270271dce9fe8",
            "_dom_classes": [],
            "description": "",
            "_model_name": "HTMLModel",
            "placeholder": "​",
            "_view_module": "@jupyter-widgets/controls",
            "_model_module_version": "1.5.0",
            "value": " 300/300 [01:03&lt;00:00,  4.74it/s]",
            "_view_count": null,
            "_view_module_version": "1.5.0",
            "description_tooltip": null,
            "_model_module": "@jupyter-widgets/controls",
            "layout": "IPY_MODEL_7dcb4f37ad2443588302a2017ad6d81b"
          }
        },
        "4014ea521a8c48b5888bc7e191b12fb1": {
          "model_module": "@jupyter-widgets/controls",
          "model_name": "ProgressStyleModel",
          "state": {
            "_view_name": "StyleView",
            "_model_name": "ProgressStyleModel",
            "description_width": "initial",
            "_view_module": "@jupyter-widgets/base",
            "_model_module_version": "1.5.0",
            "_view_count": null,
            "_view_module_version": "1.2.0",
            "bar_color": null,
            "_model_module": "@jupyter-widgets/controls"
          }
        },
        "851473c87f5e42a39fe0ed89827a034e": {
          "model_module": "@jupyter-widgets/base",
          "model_name": "LayoutModel",
          "state": {
            "_view_name": "LayoutView",
            "grid_template_rows": null,
            "right": null,
            "justify_content": null,
            "_view_module": "@jupyter-widgets/base",
            "overflow": null,
            "_model_module_version": "1.2.0",
            "_view_count": null,
            "flex_flow": null,
            "width": null,
            "min_width": null,
            "border": null,
            "align_items": null,
            "bottom": null,
            "_model_module": "@jupyter-widgets/base",
            "top": null,
            "grid_column": null,
            "overflow_y": null,
            "overflow_x": null,
            "grid_auto_flow": null,
            "grid_area": null,
            "grid_template_columns": null,
            "flex": null,
            "_model_name": "LayoutModel",
            "justify_items": null,
            "grid_row": null,
            "max_height": null,
            "align_content": null,
            "visibility": null,
            "align_self": null,
            "height": null,
            "min_height": null,
            "padding": null,
            "grid_auto_rows": null,
            "grid_gap": null,
            "max_width": null,
            "order": null,
            "_view_module_version": "1.2.0",
            "grid_template_areas": null,
            "object_position": null,
            "object_fit": null,
            "grid_auto_columns": null,
            "margin": null,
            "display": null,
            "left": null
          }
        },
        "2d7d0371808e44929aa270271dce9fe8": {
          "model_module": "@jupyter-widgets/controls",
          "model_name": "DescriptionStyleModel",
          "state": {
            "_view_name": "StyleView",
            "_model_name": "DescriptionStyleModel",
            "description_width": "",
            "_view_module": "@jupyter-widgets/base",
            "_model_module_version": "1.5.0",
            "_view_count": null,
            "_view_module_version": "1.2.0",
            "_model_module": "@jupyter-widgets/controls"
          }
        },
        "7dcb4f37ad2443588302a2017ad6d81b": {
          "model_module": "@jupyter-widgets/base",
          "model_name": "LayoutModel",
          "state": {
            "_view_name": "LayoutView",
            "grid_template_rows": null,
            "right": null,
            "justify_content": null,
            "_view_module": "@jupyter-widgets/base",
            "overflow": null,
            "_model_module_version": "1.2.0",
            "_view_count": null,
            "flex_flow": null,
            "width": null,
            "min_width": null,
            "border": null,
            "align_items": null,
            "bottom": null,
            "_model_module": "@jupyter-widgets/base",
            "top": null,
            "grid_column": null,
            "overflow_y": null,
            "overflow_x": null,
            "grid_auto_flow": null,
            "grid_area": null,
            "grid_template_columns": null,
            "flex": null,
            "_model_name": "LayoutModel",
            "justify_items": null,
            "grid_row": null,
            "max_height": null,
            "align_content": null,
            "visibility": null,
            "align_self": null,
            "height": null,
            "min_height": null,
            "padding": null,
            "grid_auto_rows": null,
            "grid_gap": null,
            "max_width": null,
            "order": null,
            "_view_module_version": "1.2.0",
            "grid_template_areas": null,
            "object_position": null,
            "object_fit": null,
            "grid_auto_columns": null,
            "margin": null,
            "display": null,
            "left": null
          }
        }
      }
    }
  },
  "cells": [
    {
      "cell_type": "markdown",
      "metadata": {
        "id": "view-in-github",
        "colab_type": "text"
      },
      "source": [
        "<a href=\"https://colab.research.google.com/github/skywalker0803r/c620/blob/main/experiment/%E6%B8%AC%E8%A9%A6C620_AI_0504_1500.ipynb\" target=\"_parent\"><img src=\"https://colab.research.google.com/assets/colab-badge.svg\" alt=\"Open In Colab\"/></a>"
      ]
    },
    {
      "cell_type": "code",
      "metadata": {
        "id": "xusTLSz6Rq43"
      },
      "source": [
        "icg_input = {'Simulation Case Conditions_Feed Rate_Feed from V615 Btm_m3/hr': 182.93967491075398,\n",
        " 'Simulation Case Conditions_Feed Rate_Feed from V615 Btm    NA_wt%': 1.809999942779541,\n",
        " 'Simulation Case Conditions_Feed Rate_Feed from V615 Btm    Benzene_wt%': 12.09000015258789,\n",
        " 'Simulation Case Conditions_Feed Rate_Feed from V615 Btm    Toluene_wt%': 37.790000915527344,\n",
        " 'Simulation Case Conditions_Feed Rate_Feed from C820 Dist_m3/hr': 19.9332693441716,\n",
        " 'Simulation Case Conditions_Feed Rate_Feed from C820 Dist    NA_wt%': 1.7599999904632568,\n",
        " 'Simulation Case Conditions_Feed Rate_Feed from C820 Dist    Benzene_wt%': 65.20999908447266,\n",
        " 'Simulation Case Conditions_Feed Rate_Feed from C820 Dist    Toluene_wt%': 19.920000076293945,\n",
        " 'Simulation Case Conditions_Feed Rate_Feed from T651_m3/hr': 110.90358153974705,\n",
        " 'Simulation Case Conditions_Feed Rate_Feed from T651    NA_wt%': 0.5410000085830688,\n",
        " 'Simulation Case Conditions_Feed Rate_Feed from T651    Benzene_wt%': 45.66400146484375,\n",
        " 'Simulation Case Conditions_Feed Rate_Feed from T651    Toluene_wt%': 39.53499984741211,\n",
        " 'Simulation Case Conditions_Spec 1 : Benzene in C620 Sidedraw_wt%': 82.69000244140625,\n",
        " 'Simulation Case Conditions_Spec 2 : NA in Benzene_ppmw': 605.0,\n",
        " 'Tatoray Stripper C620 Operation_Specifications_Spec 2 : Distillate Rate_m3/hr': 0.0,\n",
        " 'Benzene Column C660 Operation_Specifications_Spec 3 : Toluene in Benzene_ppmw': 61.0,\n",
        " 'Tatoray Stripper C620 Operation_Specifications_Spec 1 : Receiver Temp_oC': 42.801425532101646}\n",
        "\n",
        "c620_feed = {'Combined Feed to Tatoray Stripper C620_Detailed Composition_Hydrogen_wt%': 0,\n",
        " 'Combined Feed to Tatoray Stripper C620_Detailed Composition_Methane_wt%': 0.030973966443205107,\n",
        " 'Combined Feed to Tatoray Stripper C620_Detailed Composition_Ethane_wt%': 0.7466356121572599,\n",
        " 'Combined Feed to Tatoray Stripper C620_Detailed Composition_Propane_wt%': 0.6763446938048822,\n",
        " 'Combined Feed to Tatoray Stripper C620_Detailed Composition_n-Butane_wt%': 0.18827000731731583,\n",
        " 'Combined Feed to Tatoray Stripper C620_Detailed Composition_n-Pentane_wt%': 0.0770359030895559,\n",
        " 'Combined Feed to Tatoray Stripper C620_Detailed Composition_n-Hexane_wt%': 0.016363458891067162,\n",
        " 'Combined Feed to Tatoray Stripper C620_Detailed Composition_Benzene_wt%': 17.366523760419838,\n",
        " 'Combined Feed to Tatoray Stripper C620_Detailed Composition_Cyclohexane_wt%': 0.006748228785526583,\n",
        " 'Combined Feed to Tatoray Stripper C620_Detailed Composition_n-Heptane_wt%': 0.014921217002063367,\n",
        " 'Combined Feed to Tatoray Stripper C620_Detailed Composition_Water_wt%': 0,\n",
        " 'Combined Feed to Tatoray Stripper C620_Detailed Composition_Methylcyclohexane_wt%': 0.01080415904003997,\n",
        " 'Combined Feed to Tatoray Stripper C620_Detailed Composition_Toluene_wt%': 36.014935343310356,\n",
        " 'Combined Feed to Tatoray Stripper C620_Detailed Composition_n-Octane_wt%': 0.0071503253193792035,\n",
        " 'Combined Feed to Tatoray Stripper C620_Detailed Composition_n-Propylcyclopentane_wt%': 0.008444027210905026,\n",
        " 'Combined Feed to Tatoray Stripper C620_Detailed Composition_Ethylcyclohexane_wt%': 0.008444027210905026,\n",
        " 'Combined Feed to Tatoray Stripper C620_Detailed Composition_Ethylbenzene_wt%': 1.0890734861156985,\n",
        " 'Combined Feed to Tatoray Stripper C620_Detailed Composition_p-Xylene_wt%': 7.4294242524137095,\n",
        " 'Combined Feed to Tatoray Stripper C620_Detailed Composition_m-Xylene_wt%': 15.951377631361463,\n",
        " 'Combined Feed to Tatoray Stripper C620_Detailed Composition_o-Xylene_wt%': 6.677521268936787,\n",
        " 'Combined Feed to Tatoray Stripper C620_Detailed Composition_n-Nonane_wt%': 0.01223772059551453,\n",
        " 'Combined Feed to Tatoray Stripper C620_Detailed Composition_i-Propylbenzene_wt%': 0.010762980656873422,\n",
        " 'Combined Feed to Tatoray Stripper C620_Detailed Composition_n-Propylcyclohexane_wt%': 0.0022902019971605763,\n",
        " 'Combined Feed to Tatoray Stripper C620_Detailed Composition_n-Propylbenzene_wt%': 0.010762980656873422,\n",
        " 'Combined Feed to Tatoray Stripper C620_Detailed Composition_1-Methyl-3-ethylbenzene_wt%': 0.8395124912361268,\n",
        " 'Combined Feed to Tatoray Stripper C620_Detailed Composition_1-Methyl-4-ethylbenzene_wt%': 0.4412822069318103,\n",
        " 'Combined Feed to Tatoray Stripper C620_Detailed Composition_1,3,5-Trimethylbenzene_wt%': 2.3140408412277855,\n",
        " 'Combined Feed to Tatoray Stripper C620_Detailed Composition_1-Methyl-2-ethylbenzene_wt%': 0.24754855510808868,\n",
        " 'Combined Feed to Tatoray Stripper C620_Detailed Composition_1,2,4-Trimethylbenzene_wt%': 5.908876380623509,\n",
        " 'Combined Feed to Tatoray Stripper C620_Detailed Composition_tert-Butylcyclohexane_wt%': 0.0,\n",
        " 'Combined Feed to Tatoray Stripper C620_Detailed Composition_1,2,3-Trimethylbenzene_wt%': 0.947142297804861,\n",
        " 'Combined Feed to Tatoray Stripper C620_Detailed Composition_Indane_wt%': 0.032288941970620266,\n",
        " 'Combined Feed to Tatoray Stripper C620_Detailed Composition_1-Methyl-4-n-propylbenzene_wt%': 0.0006556862149859743,\n",
        " 'Combined Feed to Tatoray Stripper C620_Detailed Composition_1,2-Diethylbenzene_wt%': 0.019506664895832734,\n",
        " 'Combined Feed to Tatoray Stripper C620_Detailed Composition_5-Ethyl-m-xylene_wt%': 0.752563853250152,\n",
        " 'Combined Feed to Tatoray Stripper C620_Detailed Composition_1,4-Diethylbenzene_wt%': 0.0,\n",
        " 'Combined Feed to Tatoray Stripper C620_Detailed Composition_1,2,3,5-Tetramethylbenzene_wt%': 0.8664893331039648,\n",
        " 'Combined Feed to Tatoray Stripper C620_Detailed Composition_n-Pentylbenzene_wt%': 0.8385217970554317,\n",
        " 'Combined Feed to Tatoray Stripper C620_Detailed Composition_n-Hexylbenzene_wt%': 0.3593664844523279,\n",
        " 'Combined Feed to Tatoray Stripper C620_Detailed Composition_Nitrogen_wt%': 0,\n",
        " 'Combined Feed to Tatoray Stripper C620_Detailed Composition_Oxygen_wt%': 0}\n",
        "\n",
        "t651_feed = {'Extract Feed from T651_Detailed Composition_Hydrogen_wt%': 0,\n",
        " 'Extract Feed from T651_Detailed Composition_Methane_wt%': 0.0,\n",
        " 'Extract Feed from T651_Detailed Composition_Ethane_wt%': 0.0,\n",
        " 'Extract Feed from T651_Detailed Composition_Propane_wt%': 0.0,\n",
        " 'Extract Feed from T651_Detailed Composition_n-Butane_wt%': 0.0,\n",
        " 'Extract Feed from T651_Detailed Composition_n-Pentane_wt%': 0.0,\n",
        " 'Extract Feed from T651_Detailed Composition_n-Hexane_wt%': 0.005410000085830689,\n",
        " 'Extract Feed from T651_Detailed Composition_Benzene_wt%': 45.66400146484375,\n",
        " 'Extract Feed from T651_Detailed Composition_Cyclohexane_wt%': 0.0,\n",
        " 'Extract Feed from T651_Detailed Composition_n-Heptane_wt%': 0.005410000085830689,\n",
        " 'Extract Feed from T651_Detailed Composition_Water_wt%': 0,\n",
        " 'Extract Feed from T651_Detailed Composition_Methylcyclohexane_wt%': 0.0,\n",
        " 'Extract Feed from T651_Detailed Composition_Toluene_wt%': 39.53499984741211,\n",
        " 'Extract Feed from T651_Detailed Composition_n-Octane_wt%': 0.06492000102996826,\n",
        " 'Extract Feed from T651_Detailed Composition_n-Propylcyclopentane_wt%': 0.059510000944137574,\n",
        " 'Extract Feed from T651_Detailed Composition_Ethylcyclohexane_wt%': 0.04869000077247619,\n",
        " 'Extract Feed from T651_Detailed Composition_Ethylbenzene_wt%': 7.992000102996826,\n",
        " 'Extract Feed from T651_Detailed Composition_p-Xylene_wt%': 1.565999984741211,\n",
        " 'Extract Feed from T651_Detailed Composition_m-Xylene_wt%': 3.628999948501587,\n",
        " 'Extract Feed from T651_Detailed Composition_o-Xylene_wt%': 1.0579999685287476,\n",
        " 'Extract Feed from T651_Detailed Composition_n-Nonane_wt%': 0.10279000163078308,\n",
        " 'Extract Feed from T651_Detailed Composition_i-Propylbenzene_wt%': 0.0,\n",
        " 'Extract Feed from T651_Detailed Composition_n-Propylcyclohexane_wt%': 0.22722000360488892,\n",
        " 'Extract Feed from T651_Detailed Composition_n-Propylbenzene_wt%': 0.0,\n",
        " 'Extract Feed from T651_Detailed Composition_1-Methyl-3-ethylbenzene_wt%': 0.002199999988079071,\n",
        " 'Extract Feed from T651_Detailed Composition_1-Methyl-4-ethylbenzene_wt%': 0.002199999988079071,\n",
        " 'Extract Feed from T651_Detailed Composition_1,3,5-Trimethylbenzene_wt%': 0.004399999976158142,\n",
        " 'Extract Feed from T651_Detailed Composition_1-Methyl-2-ethylbenzene_wt%': 0.0010999999940395355,\n",
        " 'Extract Feed from T651_Detailed Composition_1,2,4-Trimethylbenzene_wt%': 0.0010999999940395355,\n",
        " 'Extract Feed from T651_Detailed Composition_tert-Butylcyclohexane_wt%': 0.016230000257492064,\n",
        " 'Extract Feed from T651_Detailed Composition_1,2,3-Trimethylbenzene_wt%': 0.0,\n",
        " 'Extract Feed from T651_Detailed Composition_Indane_wt%': 0.0,\n",
        " 'Extract Feed from T651_Detailed Composition_1-Methyl-4-n-propylbenzene_wt%': 0.0,\n",
        " 'Extract Feed from T651_Detailed Composition_1,2-Diethylbenzene_wt%': 0.0,\n",
        " 'Extract Feed from T651_Detailed Composition_5-Ethyl-m-xylene_wt%': 0.0,\n",
        " 'Extract Feed from T651_Detailed Composition_1,4-Diethylbenzene_wt%': 0.0,\n",
        " 'Extract Feed from T651_Detailed Composition_1,2,3,5-Tetramethylbenzene_wt%': 0.0,\n",
        " 'Extract Feed from T651_Detailed Composition_n-Pentylbenzene_wt%': 0.0,\n",
        " 'Extract Feed from T651_Detailed Composition_n-Hexylbenzene_wt%': 0.0,\n",
        " 'Extract Feed from T651_Detailed Composition_Nitrogen_wt%': 0,\n",
        " 'Extract Feed from T651_Detailed Composition_Oxygen_wt%': 0}"
      ],
      "execution_count": 6,
      "outputs": []
    },
    {
      "cell_type": "code",
      "metadata": {
        "colab": {
          "base_uri": "https://localhost:8080/",
          "height": 168
        },
        "id": "XXL8PWj5Rx6f",
        "outputId": "0c96c1b2-13d9-4fe1-98b6-4eaaf4d3d939"
      },
      "source": [
        "import pandas as pd\n",
        "icg_input = pd.DataFrame(icg_input,index=[0])\n",
        "icg_input"
      ],
      "execution_count": 8,
      "outputs": [
        {
          "output_type": "execute_result",
          "data": {
            "text/html": [
              "<div>\n",
              "<style scoped>\n",
              "    .dataframe tbody tr th:only-of-type {\n",
              "        vertical-align: middle;\n",
              "    }\n",
              "\n",
              "    .dataframe tbody tr th {\n",
              "        vertical-align: top;\n",
              "    }\n",
              "\n",
              "    .dataframe thead th {\n",
              "        text-align: right;\n",
              "    }\n",
              "</style>\n",
              "<table border=\"1\" class=\"dataframe\">\n",
              "  <thead>\n",
              "    <tr style=\"text-align: right;\">\n",
              "      <th></th>\n",
              "      <th>Simulation Case Conditions_Feed Rate_Feed from V615 Btm_m3/hr</th>\n",
              "      <th>Simulation Case Conditions_Feed Rate_Feed from V615 Btm    NA_wt%</th>\n",
              "      <th>Simulation Case Conditions_Feed Rate_Feed from V615 Btm    Benzene_wt%</th>\n",
              "      <th>Simulation Case Conditions_Feed Rate_Feed from V615 Btm    Toluene_wt%</th>\n",
              "      <th>Simulation Case Conditions_Feed Rate_Feed from C820 Dist_m3/hr</th>\n",
              "      <th>Simulation Case Conditions_Feed Rate_Feed from C820 Dist    NA_wt%</th>\n",
              "      <th>Simulation Case Conditions_Feed Rate_Feed from C820 Dist    Benzene_wt%</th>\n",
              "      <th>Simulation Case Conditions_Feed Rate_Feed from C820 Dist    Toluene_wt%</th>\n",
              "      <th>Simulation Case Conditions_Feed Rate_Feed from T651_m3/hr</th>\n",
              "      <th>Simulation Case Conditions_Feed Rate_Feed from T651    NA_wt%</th>\n",
              "      <th>Simulation Case Conditions_Feed Rate_Feed from T651    Benzene_wt%</th>\n",
              "      <th>Simulation Case Conditions_Feed Rate_Feed from T651    Toluene_wt%</th>\n",
              "      <th>Simulation Case Conditions_Spec 1 : Benzene in C620 Sidedraw_wt%</th>\n",
              "      <th>Simulation Case Conditions_Spec 2 : NA in Benzene_ppmw</th>\n",
              "      <th>Tatoray Stripper C620 Operation_Specifications_Spec 2 : Distillate Rate_m3/hr</th>\n",
              "      <th>Benzene Column C660 Operation_Specifications_Spec 3 : Toluene in Benzene_ppmw</th>\n",
              "      <th>Tatoray Stripper C620 Operation_Specifications_Spec 1 : Receiver Temp_oC</th>\n",
              "    </tr>\n",
              "  </thead>\n",
              "  <tbody>\n",
              "    <tr>\n",
              "      <th>0</th>\n",
              "      <td>182.939675</td>\n",
              "      <td>1.81</td>\n",
              "      <td>12.09</td>\n",
              "      <td>37.790001</td>\n",
              "      <td>19.933269</td>\n",
              "      <td>1.76</td>\n",
              "      <td>65.209999</td>\n",
              "      <td>19.92</td>\n",
              "      <td>110.903582</td>\n",
              "      <td>0.541</td>\n",
              "      <td>45.664001</td>\n",
              "      <td>39.535</td>\n",
              "      <td>82.690002</td>\n",
              "      <td>605.0</td>\n",
              "      <td>0.0</td>\n",
              "      <td>61.0</td>\n",
              "      <td>42.801426</td>\n",
              "    </tr>\n",
              "  </tbody>\n",
              "</table>\n",
              "</div>"
            ],
            "text/plain": [
              "   Simulation Case Conditions_Feed Rate_Feed from V615 Btm_m3/hr  ...  Tatoray Stripper C620 Operation_Specifications_Spec 1 : Receiver Temp_oC\n",
              "0                                         182.939675              ...                                          42.801426                       \n",
              "\n",
              "[1 rows x 17 columns]"
            ]
          },
          "metadata": {
            "tags": []
          },
          "execution_count": 8
        }
      ]
    },
    {
      "cell_type": "code",
      "metadata": {
        "colab": {
          "base_uri": "https://localhost:8080/",
          "height": 202
        },
        "id": "JYf7KVLkR83_",
        "outputId": "03031ae3-05d9-4ab9-b40f-778069a48415"
      },
      "source": [
        "c620_feed = pd.DataFrame(c620_feed,index=[0])\n",
        "c620_feed"
      ],
      "execution_count": 9,
      "outputs": [
        {
          "output_type": "execute_result",
          "data": {
            "text/html": [
              "<div>\n",
              "<style scoped>\n",
              "    .dataframe tbody tr th:only-of-type {\n",
              "        vertical-align: middle;\n",
              "    }\n",
              "\n",
              "    .dataframe tbody tr th {\n",
              "        vertical-align: top;\n",
              "    }\n",
              "\n",
              "    .dataframe thead th {\n",
              "        text-align: right;\n",
              "    }\n",
              "</style>\n",
              "<table border=\"1\" class=\"dataframe\">\n",
              "  <thead>\n",
              "    <tr style=\"text-align: right;\">\n",
              "      <th></th>\n",
              "      <th>Combined Feed to Tatoray Stripper C620_Detailed Composition_Hydrogen_wt%</th>\n",
              "      <th>Combined Feed to Tatoray Stripper C620_Detailed Composition_Methane_wt%</th>\n",
              "      <th>Combined Feed to Tatoray Stripper C620_Detailed Composition_Ethane_wt%</th>\n",
              "      <th>Combined Feed to Tatoray Stripper C620_Detailed Composition_Propane_wt%</th>\n",
              "      <th>Combined Feed to Tatoray Stripper C620_Detailed Composition_n-Butane_wt%</th>\n",
              "      <th>Combined Feed to Tatoray Stripper C620_Detailed Composition_n-Pentane_wt%</th>\n",
              "      <th>Combined Feed to Tatoray Stripper C620_Detailed Composition_n-Hexane_wt%</th>\n",
              "      <th>Combined Feed to Tatoray Stripper C620_Detailed Composition_Benzene_wt%</th>\n",
              "      <th>Combined Feed to Tatoray Stripper C620_Detailed Composition_Cyclohexane_wt%</th>\n",
              "      <th>Combined Feed to Tatoray Stripper C620_Detailed Composition_n-Heptane_wt%</th>\n",
              "      <th>Combined Feed to Tatoray Stripper C620_Detailed Composition_Water_wt%</th>\n",
              "      <th>Combined Feed to Tatoray Stripper C620_Detailed Composition_Methylcyclohexane_wt%</th>\n",
              "      <th>Combined Feed to Tatoray Stripper C620_Detailed Composition_Toluene_wt%</th>\n",
              "      <th>Combined Feed to Tatoray Stripper C620_Detailed Composition_n-Octane_wt%</th>\n",
              "      <th>Combined Feed to Tatoray Stripper C620_Detailed Composition_n-Propylcyclopentane_wt%</th>\n",
              "      <th>Combined Feed to Tatoray Stripper C620_Detailed Composition_Ethylcyclohexane_wt%</th>\n",
              "      <th>Combined Feed to Tatoray Stripper C620_Detailed Composition_Ethylbenzene_wt%</th>\n",
              "      <th>Combined Feed to Tatoray Stripper C620_Detailed Composition_p-Xylene_wt%</th>\n",
              "      <th>Combined Feed to Tatoray Stripper C620_Detailed Composition_m-Xylene_wt%</th>\n",
              "      <th>Combined Feed to Tatoray Stripper C620_Detailed Composition_o-Xylene_wt%</th>\n",
              "      <th>Combined Feed to Tatoray Stripper C620_Detailed Composition_n-Nonane_wt%</th>\n",
              "      <th>Combined Feed to Tatoray Stripper C620_Detailed Composition_i-Propylbenzene_wt%</th>\n",
              "      <th>Combined Feed to Tatoray Stripper C620_Detailed Composition_n-Propylcyclohexane_wt%</th>\n",
              "      <th>Combined Feed to Tatoray Stripper C620_Detailed Composition_n-Propylbenzene_wt%</th>\n",
              "      <th>Combined Feed to Tatoray Stripper C620_Detailed Composition_1-Methyl-3-ethylbenzene_wt%</th>\n",
              "      <th>Combined Feed to Tatoray Stripper C620_Detailed Composition_1-Methyl-4-ethylbenzene_wt%</th>\n",
              "      <th>Combined Feed to Tatoray Stripper C620_Detailed Composition_1,3,5-Trimethylbenzene_wt%</th>\n",
              "      <th>Combined Feed to Tatoray Stripper C620_Detailed Composition_1-Methyl-2-ethylbenzene_wt%</th>\n",
              "      <th>Combined Feed to Tatoray Stripper C620_Detailed Composition_1,2,4-Trimethylbenzene_wt%</th>\n",
              "      <th>Combined Feed to Tatoray Stripper C620_Detailed Composition_tert-Butylcyclohexane_wt%</th>\n",
              "      <th>Combined Feed to Tatoray Stripper C620_Detailed Composition_1,2,3-Trimethylbenzene_wt%</th>\n",
              "      <th>Combined Feed to Tatoray Stripper C620_Detailed Composition_Indane_wt%</th>\n",
              "      <th>Combined Feed to Tatoray Stripper C620_Detailed Composition_1-Methyl-4-n-propylbenzene_wt%</th>\n",
              "      <th>Combined Feed to Tatoray Stripper C620_Detailed Composition_1,2-Diethylbenzene_wt%</th>\n",
              "      <th>Combined Feed to Tatoray Stripper C620_Detailed Composition_5-Ethyl-m-xylene_wt%</th>\n",
              "      <th>Combined Feed to Tatoray Stripper C620_Detailed Composition_1,4-Diethylbenzene_wt%</th>\n",
              "      <th>Combined Feed to Tatoray Stripper C620_Detailed Composition_1,2,3,5-Tetramethylbenzene_wt%</th>\n",
              "      <th>Combined Feed to Tatoray Stripper C620_Detailed Composition_n-Pentylbenzene_wt%</th>\n",
              "      <th>Combined Feed to Tatoray Stripper C620_Detailed Composition_n-Hexylbenzene_wt%</th>\n",
              "      <th>Combined Feed to Tatoray Stripper C620_Detailed Composition_Nitrogen_wt%</th>\n",
              "      <th>Combined Feed to Tatoray Stripper C620_Detailed Composition_Oxygen_wt%</th>\n",
              "    </tr>\n",
              "  </thead>\n",
              "  <tbody>\n",
              "    <tr>\n",
              "      <th>0</th>\n",
              "      <td>0</td>\n",
              "      <td>0.030974</td>\n",
              "      <td>0.746636</td>\n",
              "      <td>0.676345</td>\n",
              "      <td>0.18827</td>\n",
              "      <td>0.077036</td>\n",
              "      <td>0.016363</td>\n",
              "      <td>17.366524</td>\n",
              "      <td>0.006748</td>\n",
              "      <td>0.014921</td>\n",
              "      <td>0</td>\n",
              "      <td>0.010804</td>\n",
              "      <td>36.014935</td>\n",
              "      <td>0.00715</td>\n",
              "      <td>0.008444</td>\n",
              "      <td>0.008444</td>\n",
              "      <td>1.089073</td>\n",
              "      <td>7.429424</td>\n",
              "      <td>15.951378</td>\n",
              "      <td>6.677521</td>\n",
              "      <td>0.012238</td>\n",
              "      <td>0.010763</td>\n",
              "      <td>0.00229</td>\n",
              "      <td>0.010763</td>\n",
              "      <td>0.839512</td>\n",
              "      <td>0.441282</td>\n",
              "      <td>2.314041</td>\n",
              "      <td>0.247549</td>\n",
              "      <td>5.908876</td>\n",
              "      <td>0.0</td>\n",
              "      <td>0.947142</td>\n",
              "      <td>0.032289</td>\n",
              "      <td>0.000656</td>\n",
              "      <td>0.019507</td>\n",
              "      <td>0.752564</td>\n",
              "      <td>0.0</td>\n",
              "      <td>0.866489</td>\n",
              "      <td>0.838522</td>\n",
              "      <td>0.359366</td>\n",
              "      <td>0</td>\n",
              "      <td>0</td>\n",
              "    </tr>\n",
              "  </tbody>\n",
              "</table>\n",
              "</div>"
            ],
            "text/plain": [
              "   Combined Feed to Tatoray Stripper C620_Detailed Composition_Hydrogen_wt%  ...  Combined Feed to Tatoray Stripper C620_Detailed Composition_Oxygen_wt%\n",
              "0                                                  0                         ...                                                  0                     \n",
              "\n",
              "[1 rows x 41 columns]"
            ]
          },
          "metadata": {
            "tags": []
          },
          "execution_count": 9
        }
      ]
    },
    {
      "cell_type": "code",
      "metadata": {
        "colab": {
          "base_uri": "https://localhost:8080/",
          "height": 185
        },
        "id": "KdwZgX34SGXG",
        "outputId": "cc4aa0de-3657-4f73-8f4e-d392fe57b2d9"
      },
      "source": [
        "t651_feed = pd.DataFrame(t651_feed,index=[0])\n",
        "t651_feed"
      ],
      "execution_count": 10,
      "outputs": [
        {
          "output_type": "execute_result",
          "data": {
            "text/html": [
              "<div>\n",
              "<style scoped>\n",
              "    .dataframe tbody tr th:only-of-type {\n",
              "        vertical-align: middle;\n",
              "    }\n",
              "\n",
              "    .dataframe tbody tr th {\n",
              "        vertical-align: top;\n",
              "    }\n",
              "\n",
              "    .dataframe thead th {\n",
              "        text-align: right;\n",
              "    }\n",
              "</style>\n",
              "<table border=\"1\" class=\"dataframe\">\n",
              "  <thead>\n",
              "    <tr style=\"text-align: right;\">\n",
              "      <th></th>\n",
              "      <th>Extract Feed from T651_Detailed Composition_Hydrogen_wt%</th>\n",
              "      <th>Extract Feed from T651_Detailed Composition_Methane_wt%</th>\n",
              "      <th>Extract Feed from T651_Detailed Composition_Ethane_wt%</th>\n",
              "      <th>Extract Feed from T651_Detailed Composition_Propane_wt%</th>\n",
              "      <th>Extract Feed from T651_Detailed Composition_n-Butane_wt%</th>\n",
              "      <th>Extract Feed from T651_Detailed Composition_n-Pentane_wt%</th>\n",
              "      <th>Extract Feed from T651_Detailed Composition_n-Hexane_wt%</th>\n",
              "      <th>Extract Feed from T651_Detailed Composition_Benzene_wt%</th>\n",
              "      <th>Extract Feed from T651_Detailed Composition_Cyclohexane_wt%</th>\n",
              "      <th>Extract Feed from T651_Detailed Composition_n-Heptane_wt%</th>\n",
              "      <th>Extract Feed from T651_Detailed Composition_Water_wt%</th>\n",
              "      <th>Extract Feed from T651_Detailed Composition_Methylcyclohexane_wt%</th>\n",
              "      <th>Extract Feed from T651_Detailed Composition_Toluene_wt%</th>\n",
              "      <th>Extract Feed from T651_Detailed Composition_n-Octane_wt%</th>\n",
              "      <th>Extract Feed from T651_Detailed Composition_n-Propylcyclopentane_wt%</th>\n",
              "      <th>Extract Feed from T651_Detailed Composition_Ethylcyclohexane_wt%</th>\n",
              "      <th>Extract Feed from T651_Detailed Composition_Ethylbenzene_wt%</th>\n",
              "      <th>Extract Feed from T651_Detailed Composition_p-Xylene_wt%</th>\n",
              "      <th>Extract Feed from T651_Detailed Composition_m-Xylene_wt%</th>\n",
              "      <th>Extract Feed from T651_Detailed Composition_o-Xylene_wt%</th>\n",
              "      <th>Extract Feed from T651_Detailed Composition_n-Nonane_wt%</th>\n",
              "      <th>Extract Feed from T651_Detailed Composition_i-Propylbenzene_wt%</th>\n",
              "      <th>Extract Feed from T651_Detailed Composition_n-Propylcyclohexane_wt%</th>\n",
              "      <th>Extract Feed from T651_Detailed Composition_n-Propylbenzene_wt%</th>\n",
              "      <th>Extract Feed from T651_Detailed Composition_1-Methyl-3-ethylbenzene_wt%</th>\n",
              "      <th>Extract Feed from T651_Detailed Composition_1-Methyl-4-ethylbenzene_wt%</th>\n",
              "      <th>Extract Feed from T651_Detailed Composition_1,3,5-Trimethylbenzene_wt%</th>\n",
              "      <th>Extract Feed from T651_Detailed Composition_1-Methyl-2-ethylbenzene_wt%</th>\n",
              "      <th>Extract Feed from T651_Detailed Composition_1,2,4-Trimethylbenzene_wt%</th>\n",
              "      <th>Extract Feed from T651_Detailed Composition_tert-Butylcyclohexane_wt%</th>\n",
              "      <th>Extract Feed from T651_Detailed Composition_1,2,3-Trimethylbenzene_wt%</th>\n",
              "      <th>Extract Feed from T651_Detailed Composition_Indane_wt%</th>\n",
              "      <th>Extract Feed from T651_Detailed Composition_1-Methyl-4-n-propylbenzene_wt%</th>\n",
              "      <th>Extract Feed from T651_Detailed Composition_1,2-Diethylbenzene_wt%</th>\n",
              "      <th>Extract Feed from T651_Detailed Composition_5-Ethyl-m-xylene_wt%</th>\n",
              "      <th>Extract Feed from T651_Detailed Composition_1,4-Diethylbenzene_wt%</th>\n",
              "      <th>Extract Feed from T651_Detailed Composition_1,2,3,5-Tetramethylbenzene_wt%</th>\n",
              "      <th>Extract Feed from T651_Detailed Composition_n-Pentylbenzene_wt%</th>\n",
              "      <th>Extract Feed from T651_Detailed Composition_n-Hexylbenzene_wt%</th>\n",
              "      <th>Extract Feed from T651_Detailed Composition_Nitrogen_wt%</th>\n",
              "      <th>Extract Feed from T651_Detailed Composition_Oxygen_wt%</th>\n",
              "    </tr>\n",
              "  </thead>\n",
              "  <tbody>\n",
              "    <tr>\n",
              "      <th>0</th>\n",
              "      <td>0</td>\n",
              "      <td>0.0</td>\n",
              "      <td>0.0</td>\n",
              "      <td>0.0</td>\n",
              "      <td>0.0</td>\n",
              "      <td>0.0</td>\n",
              "      <td>0.00541</td>\n",
              "      <td>45.664001</td>\n",
              "      <td>0.0</td>\n",
              "      <td>0.00541</td>\n",
              "      <td>0</td>\n",
              "      <td>0.0</td>\n",
              "      <td>39.535</td>\n",
              "      <td>0.06492</td>\n",
              "      <td>0.05951</td>\n",
              "      <td>0.04869</td>\n",
              "      <td>7.992</td>\n",
              "      <td>1.566</td>\n",
              "      <td>3.629</td>\n",
              "      <td>1.058</td>\n",
              "      <td>0.10279</td>\n",
              "      <td>0.0</td>\n",
              "      <td>0.22722</td>\n",
              "      <td>0.0</td>\n",
              "      <td>0.0022</td>\n",
              "      <td>0.0022</td>\n",
              "      <td>0.0044</td>\n",
              "      <td>0.0011</td>\n",
              "      <td>0.0011</td>\n",
              "      <td>0.01623</td>\n",
              "      <td>0.0</td>\n",
              "      <td>0.0</td>\n",
              "      <td>0.0</td>\n",
              "      <td>0.0</td>\n",
              "      <td>0.0</td>\n",
              "      <td>0.0</td>\n",
              "      <td>0.0</td>\n",
              "      <td>0.0</td>\n",
              "      <td>0.0</td>\n",
              "      <td>0</td>\n",
              "      <td>0</td>\n",
              "    </tr>\n",
              "  </tbody>\n",
              "</table>\n",
              "</div>"
            ],
            "text/plain": [
              "   Extract Feed from T651_Detailed Composition_Hydrogen_wt%  ...  Extract Feed from T651_Detailed Composition_Oxygen_wt%\n",
              "0                                                  0         ...                                                  0     \n",
              "\n",
              "[1 rows x 41 columns]"
            ]
          },
          "metadata": {
            "tags": []
          },
          "execution_count": 10
        }
      ]
    },
    {
      "cell_type": "code",
      "metadata": {
        "colab": {
          "base_uri": "https://localhost:8080/"
        },
        "id": "wh8oqRboSdaZ",
        "outputId": "0f033571-565a-4325-f466-e6044d3ece39"
      },
      "source": [
        "!git clone https://github.com/skywalker0803r/c620.git\n",
        "!pip install autorch > log.txt\n",
        "!pip install optuna > log.txt"
      ],
      "execution_count": 12,
      "outputs": [
        {
          "output_type": "stream",
          "text": [
            "Cloning into 'c620'...\n",
            "remote: Enumerating objects: 2357, done.\u001b[K\n",
            "remote: Counting objects: 100% (87/87), done.\u001b[K\n",
            "remote: Compressing objects: 100% (83/83), done.\u001b[K\n",
            "remote: Total 2357 (delta 43), reused 13 (delta 4), pack-reused 2270\u001b[K\n",
            "Receiving objects: 100% (2357/2357), 64.07 MiB | 26.51 MiB/s, done.\n",
            "Resolving deltas: 100% (1536/1536), done.\n"
          ],
          "name": "stdout"
        }
      ]
    },
    {
      "cell_type": "code",
      "metadata": {
        "colab": {
          "base_uri": "https://localhost:8080/"
        },
        "id": "48fZd2tESLPW",
        "outputId": "b131d851-2662-4c53-a7f1-84b0fa444aa5"
      },
      "source": [
        "from c620.FV2 import AllSystem\n",
        "from c620.configV2 import config\n",
        "import joblib\n",
        "import numpy as np\n",
        "import pandas as pd\n",
        "import os\n",
        "os.chdir('/content/c620')\n",
        "print(os.getcwd())\n",
        "!git pull"
      ],
      "execution_count": 13,
      "outputs": [
        {
          "output_type": "stream",
          "text": [
            "/content/c620\n",
            "Already up to date.\n"
          ],
          "name": "stdout"
        }
      ]
    },
    {
      "cell_type": "code",
      "metadata": {
        "colab": {
          "base_uri": "https://localhost:8080/"
        },
        "id": "Bv6X6k_DSurj",
        "outputId": "1c899d86-7d50-4f1c-e254-dc1b6ea057cf"
      },
      "source": [
        "f = joblib.load('model/allsystem.pkl')\n",
        "f"
      ],
      "execution_count": 15,
      "outputs": [
        {
          "output_type": "execute_result",
          "data": {
            "text/plain": [
              "<c620.FV2.AllSystem at 0x7f4ac0b0e910>"
            ]
          },
          "metadata": {
            "tags": []
          },
          "execution_count": 15
        }
      ]
    },
    {
      "cell_type": "code",
      "metadata": {
        "id": "0fI4JYVESn8Z"
      },
      "source": [
        "c620_wt,c620_op,c660_wt,c660_op,c670_wt,c670_op = f.inference(icg_input.copy(),c620_feed.copy(),t651_feed.copy())"
      ],
      "execution_count": 17,
      "outputs": []
    },
    {
      "cell_type": "code",
      "metadata": {
        "colab": {
          "base_uri": "https://localhost:8080/",
          "height": 1000,
          "referenced_widgets": [
            "8b9407422ee24bd28cc94183712c2cd2",
            "77752924a88247d491efa20c62ff128d",
            "692ad2f22375436a8053f96e81708cfd",
            "dfa028b318e3457d86fe0fbe10a8f725",
            "4014ea521a8c48b5888bc7e191b12fb1",
            "851473c87f5e42a39fe0ed89827a034e",
            "2d7d0371808e44929aa270271dce9fe8",
            "7dcb4f37ad2443588302a2017ad6d81b"
          ]
        },
        "id": "D2ToCE8kSbf_",
        "outputId": "f66af6d0-b15f-4659-d759-b2a44ef28522"
      },
      "source": [
        "c620_wt2,c620_op2,c660_wt2,c660_op2,c670_wt2,c670_op2,bz_error,nainbz_error,tol_error = f.recommend(icg_input.copy(),c620_feed.copy(),t651_feed.copy())"
      ],
      "execution_count": 18,
      "outputs": [
        {
          "output_type": "stream",
          "text": [
            "\u001b[32m[I 2021-05-04 07:33:34,814]\u001b[0m A new study created in memory with name: no-name-f8e30988-bfa6-414f-8dbf-c32e662ea043\u001b[0m\n"
          ],
          "name": "stderr"
        },
        {
          "output_type": "stream",
          "text": [
            "系統已經自動設定推薦值[70,980,10]\n"
          ],
          "name": "stdout"
        },
        {
          "output_type": "display_data",
          "data": {
            "application/vnd.jupyter.widget-view+json": {
              "model_id": "8b9407422ee24bd28cc94183712c2cd2",
              "version_minor": 0,
              "version_major": 2
            },
            "text/plain": [
              "HBox(children=(FloatProgress(value=0.0, max=300.0), HTML(value='')))"
            ]
          },
          "metadata": {
            "tags": []
          }
        },
        {
          "output_type": "stream",
          "text": [
            "epoch:0\n",
            "   output_bzinside  output_nainbz  output_tol  output_dist_rate  max_loss\n",
            "0        89.943253     679.956907    0.435559          0.053847  0.956444\n",
            "epoch:10\n",
            "    output_bzinside  output_nainbz  output_tol  output_dist_rate  max_loss\n",
            "10        92.963815     651.433176    0.605461               0.0  0.939454\n",
            "epoch:20\n",
            "    output_bzinside  output_nainbz  output_tol  output_dist_rate  max_loss\n",
            "20        93.525497     578.492565    0.418804               0.0   0.95812\n",
            "epoch:30\n",
            "    output_bzinside  output_nainbz  output_tol  output_dist_rate  max_loss\n",
            "30        92.661443     832.920826    4.795571          1.625681  1.625681\n",
            "epoch:40\n",
            "    output_bzinside  output_nainbz  output_tol  output_dist_rate  max_loss\n",
            "40        93.415432     553.665252    0.710636               0.0  0.928936\n",
            "epoch:50\n",
            "    output_bzinside  output_nainbz  output_tol  output_dist_rate  max_loss\n",
            "50          92.5635     561.186116    3.062456               0.0  0.693754\n",
            "epoch:60\n",
            "    output_bzinside  output_nainbz  output_tol  output_dist_rate  max_loss\n",
            "60        93.614302     776.260245    1.286619          0.605396  0.871338\n",
            "epoch:70\n",
            "    output_bzinside  output_nainbz  output_tol  output_dist_rate  max_loss\n",
            "70        93.299762     868.477222    2.978726               0.0  0.702127\n",
            "epoch:80\n",
            "    output_bzinside  output_nainbz  output_tol  output_dist_rate  max_loss\n",
            "80        92.456087     648.858938     2.11992          0.841107  0.841107\n",
            "epoch:90\n",
            "    output_bzinside  output_nainbz  output_tol  output_dist_rate  max_loss\n",
            "90        93.498673     560.249595    1.391663          0.479126  0.860834\n",
            "epoch:100\n",
            "     output_bzinside  output_nainbz  output_tol  output_dist_rate  max_loss\n",
            "100         91.73992     747.904586    2.779448          0.910947  0.910947\n",
            "epoch:110\n",
            "     output_bzinside  output_nainbz  output_tol  output_dist_rate  max_loss\n",
            "110         93.40535     887.746941    9.435918          0.195623  0.334362\n",
            "epoch:120\n",
            "     output_bzinside  output_nainbz  output_tol  output_dist_rate  max_loss\n",
            "120        93.540682     590.701407    9.538919          0.243889  0.397243\n",
            "epoch:130\n",
            "     output_bzinside  output_nainbz  output_tol  output_dist_rate  max_loss\n",
            "130        92.683586     828.954241    8.774269          0.209042  0.324051\n",
            "epoch:140\n",
            "     output_bzinside  output_nainbz  output_tol  output_dist_rate  max_loss\n",
            "140          93.2573     668.188168    0.941106          0.480463  0.905889\n",
            "epoch:150\n",
            "     output_bzinside  output_nainbz  output_tol  output_dist_rate  max_loss\n",
            "150         93.34229      588.39129    8.353866          0.230574  0.399601\n",
            "epoch:160\n",
            "     output_bzinside  output_nainbz  output_tol  output_dist_rate  max_loss\n",
            "160        93.626957     891.685654    5.098661          0.183104  0.490134\n",
            "epoch:170\n",
            "     output_bzinside  output_nainbz  output_tol  output_dist_rate  max_loss\n",
            "170        93.580735      616.43552    7.796408          0.165951  0.370984\n",
            "epoch:180\n",
            "     output_bzinside  output_nainbz  output_tol  output_dist_rate  max_loss\n",
            "180        93.583721     636.358694    2.296708          0.808109  0.808109\n",
            "epoch:190\n",
            "     output_bzinside  output_nainbz  output_tol  output_dist_rate  max_loss\n",
            "190        93.583086     576.824176    0.895759          0.512053  0.910424\n",
            "epoch:200\n",
            "     output_bzinside  output_nainbz  output_tol  output_dist_rate  max_loss\n",
            "200        93.616509     709.011682    1.010108          1.005113  1.005113\n",
            "epoch:210\n",
            "     output_bzinside  output_nainbz  output_tol  output_dist_rate  max_loss\n",
            "210        93.482397     591.598388    10.04319               0.0  0.396328\n",
            "epoch:220\n",
            "     output_bzinside  output_nainbz  output_tol  output_dist_rate  max_loss\n",
            "220         93.41747     768.286932    2.085134               0.0  0.791487\n",
            "epoch:230\n",
            "     output_bzinside  output_nainbz  output_tol  output_dist_rate  max_loss\n",
            "230        93.642659     631.252962    4.829122            0.3626  0.517088\n",
            "epoch:240\n",
            "     output_bzinside  output_nainbz  output_tol  output_dist_rate  max_loss\n",
            "240        93.063349     869.086597    9.521384          0.429185  0.429185\n",
            "epoch:250\n",
            "     output_bzinside  output_nainbz  output_tol  output_dist_rate  max_loss\n",
            "250        92.927916     566.244311    2.679439           0.35486  0.732056\n",
            "epoch:260\n",
            "     output_bzinside  output_nainbz  output_tol  output_dist_rate  max_loss\n",
            "260        93.474218      561.35397    2.296885          0.652576  0.770311\n",
            "epoch:270\n",
            "     output_bzinside  output_nainbz  output_tol  output_dist_rate  max_loss\n",
            "270        93.578774     559.268618     1.72016          0.701213  0.827984\n",
            "epoch:280\n",
            "     output_bzinside  output_nainbz  output_tol  output_dist_rate  max_loss\n",
            "280        93.643497     573.499034    0.658435               0.0  0.934157\n",
            "epoch:290\n",
            "     output_bzinside  output_nainbz  output_tol  output_dist_rate  max_loss\n",
            "290        93.494679     848.377691    3.594888               0.0  0.640511\n",
            "\n",
            "bzinside_loss: 0.3310199344406651\n",
            "nainbz_loss: 0.3112772699283916\n",
            "tol_loss: 1.6188501496156804\n",
            "distrate_loss: 0.20904175910355982\n"
          ],
          "name": "stdout"
        }
      ]
    },
    {
      "cell_type": "markdown",
      "metadata": {
        "id": "FT2mZ77WTX8Q"
      },
      "source": [
        "# 計算delta調幅"
      ]
    },
    {
      "cell_type": "code",
      "metadata": {
        "colab": {
          "base_uri": "https://localhost:8080/",
          "height": 80
        },
        "id": "6BfAfG4QTAOn",
        "outputId": "70a704c1-897f-4ff7-840a-9adec568bce0"
      },
      "source": [
        "(c620_op2-c620_op).iloc[:,-2:]"
      ],
      "execution_count": 19,
      "outputs": [
        {
          "output_type": "execute_result",
          "data": {
            "text/html": [
              "<div>\n",
              "<style scoped>\n",
              "    .dataframe tbody tr th:only-of-type {\n",
              "        vertical-align: middle;\n",
              "    }\n",
              "\n",
              "    .dataframe tbody tr th {\n",
              "        vertical-align: top;\n",
              "    }\n",
              "\n",
              "    .dataframe thead th {\n",
              "        text-align: right;\n",
              "    }\n",
              "</style>\n",
              "<table border=\"1\" class=\"dataframe\">\n",
              "  <thead>\n",
              "    <tr style=\"text-align: right;\">\n",
              "      <th></th>\n",
              "      <th>Tatoray Stripper C620 Operation_Column Temp Profile_C620 Tray 14 (Control)_oC</th>\n",
              "      <th>Tatoray Stripper C620 Operation_Column Temp Profile_C620 Tray 34 (Control)_oC</th>\n",
              "    </tr>\n",
              "  </thead>\n",
              "  <tbody>\n",
              "    <tr>\n",
              "      <th>0</th>\n",
              "      <td>0.134872</td>\n",
              "      <td>0.1</td>\n",
              "    </tr>\n",
              "  </tbody>\n",
              "</table>\n",
              "</div>"
            ],
            "text/plain": [
              "   Tatoray Stripper C620 Operation_Column Temp Profile_C620 Tray 14 (Control)_oC  Tatoray Stripper C620 Operation_Column Temp Profile_C620 Tray 34 (Control)_oC\n",
              "0                                           0.134872                                                                            0.1                            "
            ]
          },
          "metadata": {
            "tags": []
          },
          "execution_count": 19
        }
      ]
    },
    {
      "cell_type": "code",
      "metadata": {
        "id": "-__2DF35TZpw"
      },
      "source": [
        ""
      ],
      "execution_count": null,
      "outputs": []
    }
  ]
}