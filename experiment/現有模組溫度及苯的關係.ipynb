{
  "nbformat": 4,
  "nbformat_minor": 0,
  "metadata": {
    "colab": {
      "name": "現有模組溫度及苯的關係.ipynb",
      "provenance": [],
      "authorship_tag": "ABX9TyNk8I4RAxTc0lsjpEmKn8HW",
      "include_colab_link": true
    },
    "kernelspec": {
      "name": "python3",
      "display_name": "Python 3"
    },
    "language_info": {
      "name": "python"
    }
  },
  "cells": [
    {
      "cell_type": "markdown",
      "metadata": {
        "id": "view-in-github",
        "colab_type": "text"
      },
      "source": [
        "<a href=\"https://colab.research.google.com/github/skywalker0803r/c620/blob/main/experiment/%E7%8F%BE%E6%9C%89%E6%A8%A1%E7%B5%84%E6%BA%AB%E5%BA%A6%E5%8F%8A%E8%8B%AF%E7%9A%84%E9%97%9C%E4%BF%82.ipynb\" target=\"_parent\"><img src=\"https://colab.research.google.com/assets/colab-badge.svg\" alt=\"Open In Colab\"/></a>"
      ]
    },
    {
      "cell_type": "code",
      "metadata": {
        "colab": {
          "base_uri": "https://localhost:8080/"
        },
        "id": "RW02A7ODhoZ-",
        "outputId": "179ef15b-ab7c-471a-c7af-b275a4e7c659"
      },
      "source": [
        "!git clone https://github.com/skywalker0803r/c620.git\n",
        "!pip install autorch > log.txt\n",
        "!pip install optuna > log.txt"
      ],
      "execution_count": 1,
      "outputs": [
        {
          "output_type": "stream",
          "text": [
            "Cloning into 'c620'...\n",
            "remote: Enumerating objects: 2266, done.\u001b[K\n",
            "remote: Counting objects: 100% (1084/1084), done.\u001b[K\n",
            "remote: Compressing objects: 100% (626/626), done.\u001b[K\n",
            "remote: Total 2266 (delta 706), reused 688 (delta 449), pack-reused 1182\u001b[K\n",
            "Receiving objects: 100% (2266/2266), 59.93 MiB | 20.01 MiB/s, done.\n",
            "Resolving deltas: 100% (1484/1484), done.\n"
          ],
          "name": "stdout"
        }
      ]
    },
    {
      "cell_type": "markdown",
      "metadata": {
        "id": "6WRPk_SMhx38"
      },
      "source": [
        "# import"
      ]
    },
    {
      "cell_type": "code",
      "metadata": {
        "colab": {
          "base_uri": "https://localhost:8080/"
        },
        "id": "rBbhLQgyhvQr",
        "outputId": "e7396a1e-d907-405c-e336-562be31fef40"
      },
      "source": [
        "from c620.FV2 import AllSystem\n",
        "from c620.configV2 import config\n",
        "import joblib\n",
        "import numpy as np\n",
        "import pandas as pd\n",
        "import os\n",
        "os.chdir('/content/c620')\n",
        "print(os.getcwd())\n",
        "!git pull"
      ],
      "execution_count": 2,
      "outputs": [
        {
          "output_type": "stream",
          "text": [
            "/content/c620\n",
            "Already up to date.\n"
          ],
          "name": "stdout"
        }
      ]
    },
    {
      "cell_type": "markdown",
      "metadata": {
        "id": "BXqYkSpqh9jp"
      },
      "source": [
        "# demo data"
      ]
    },
    {
      "cell_type": "code",
      "metadata": {
        "colab": {
          "base_uri": "https://localhost:8080/",
          "height": 202
        },
        "id": "ineX__x-h785",
        "outputId": "e0b80ad8-b12b-4ed1-9d51-b6933fb6424b"
      },
      "source": [
        "demo = joblib.load('./data/demo.pkl')\n",
        "print(demo.keys())\n",
        "icg_input = demo['icg_input']\n",
        "c620_feed = demo['c620_feed']\n",
        "t651_feed = demo['t651_feed']\n",
        "icg_input.head()"
      ],
      "execution_count": 3,
      "outputs": [
        {
          "output_type": "stream",
          "text": [
            "dict_keys(['icg_input', 'c620_feed', 't651_feed', 'c620_op', 'c620_wt', 'c660_op', 'c660_wt', 'c670_op', 'c670_wt'])\n"
          ],
          "name": "stdout"
        },
        {
          "output_type": "execute_result",
          "data": {
            "text/html": [
              "<div>\n",
              "<style scoped>\n",
              "    .dataframe tbody tr th:only-of-type {\n",
              "        vertical-align: middle;\n",
              "    }\n",
              "\n",
              "    .dataframe tbody tr th {\n",
              "        vertical-align: top;\n",
              "    }\n",
              "\n",
              "    .dataframe thead th {\n",
              "        text-align: right;\n",
              "    }\n",
              "</style>\n",
              "<table border=\"1\" class=\"dataframe\">\n",
              "  <thead>\n",
              "    <tr style=\"text-align: right;\">\n",
              "      <th></th>\n",
              "      <th>Simulation Case Conditions_Feed Rate_Feed from V615 Btm_m3/hr</th>\n",
              "      <th>Simulation Case Conditions_Feed Rate_Feed from V615 Btm    NA_wt%</th>\n",
              "      <th>Simulation Case Conditions_Feed Rate_Feed from V615 Btm    Benzene_wt%</th>\n",
              "      <th>Simulation Case Conditions_Feed Rate_Feed from V615 Btm    Toluene_wt%</th>\n",
              "      <th>Simulation Case Conditions_Feed Rate_Feed from C820 Dist_m3/hr</th>\n",
              "      <th>Simulation Case Conditions_Feed Rate_Feed from C820 Dist    NA_wt%</th>\n",
              "      <th>Simulation Case Conditions_Feed Rate_Feed from C820 Dist    Benzene_wt%</th>\n",
              "      <th>Simulation Case Conditions_Feed Rate_Feed from C820 Dist    Toluene_wt%</th>\n",
              "      <th>Simulation Case Conditions_Feed Rate_Feed from T651_m3/hr</th>\n",
              "      <th>Simulation Case Conditions_Feed Rate_Feed from T651    NA_wt%</th>\n",
              "      <th>Simulation Case Conditions_Feed Rate_Feed from T651    Benzene_wt%</th>\n",
              "      <th>Simulation Case Conditions_Feed Rate_Feed from T651    Toluene_wt%</th>\n",
              "      <th>Simulation Case Conditions_Spec 1 : Benzene in C620 Sidedraw_wt%</th>\n",
              "      <th>Simulation Case Conditions_Spec 2 : NA in Benzene_ppmw</th>\n",
              "      <th>Tatoray Stripper C620 Operation_Specifications_Spec 2 : Distillate Rate_m3/hr</th>\n",
              "      <th>Benzene Column C660 Operation_Specifications_Spec 3 : Toluene in Benzene_ppmw</th>\n",
              "      <th>Tatoray Stripper C620 Operation_Specifications_Spec 1 : Receiver Temp_oC</th>\n",
              "    </tr>\n",
              "  </thead>\n",
              "  <tbody>\n",
              "    <tr>\n",
              "      <th>137-026</th>\n",
              "      <td>188.0</td>\n",
              "      <td>1.116023</td>\n",
              "      <td>11.152225</td>\n",
              "      <td>48.745979</td>\n",
              "      <td>15.0</td>\n",
              "      <td>2.338977</td>\n",
              "      <td>74.302254</td>\n",
              "      <td>17.467825</td>\n",
              "      <td>77.0</td>\n",
              "      <td>0.0911</td>\n",
              "      <td>20.854397</td>\n",
              "      <td>74.689774</td>\n",
              "      <td>70.0</td>\n",
              "      <td>920.0</td>\n",
              "      <td>0.01</td>\n",
              "      <td>10.000004</td>\n",
              "      <td>36.0</td>\n",
              "    </tr>\n",
              "  </tbody>\n",
              "</table>\n",
              "</div>"
            ],
            "text/plain": [
              "         Simulation Case Conditions_Feed Rate_Feed from V615 Btm_m3/hr  ...  Tatoray Stripper C620 Operation_Specifications_Spec 1 : Receiver Temp_oC\n",
              "137-026                                              188.0              ...                                               36.0                       \n",
              "\n",
              "[1 rows x 17 columns]"
            ]
          },
          "metadata": {
            "tags": []
          },
          "execution_count": 3
        }
      ]
    },
    {
      "cell_type": "markdown",
      "metadata": {
        "id": "DiKsy57h982c"
      },
      "source": [
        "# 這一筆樣本的NA in Benzene_ppmw只有920 期望能拉到 980"
      ]
    },
    {
      "cell_type": "code",
      "metadata": {
        "id": "gZdJpb_otILR",
        "colab": {
          "base_uri": "https://localhost:8080/",
          "height": 80
        },
        "outputId": "37c1e737-a818-465f-fccc-147c00255bee"
      },
      "source": [
        "icg_input[['Simulation Case Conditions_Spec 2 : NA in Benzene_ppmw']]"
      ],
      "execution_count": 4,
      "outputs": [
        {
          "output_type": "execute_result",
          "data": {
            "text/html": [
              "<div>\n",
              "<style scoped>\n",
              "    .dataframe tbody tr th:only-of-type {\n",
              "        vertical-align: middle;\n",
              "    }\n",
              "\n",
              "    .dataframe tbody tr th {\n",
              "        vertical-align: top;\n",
              "    }\n",
              "\n",
              "    .dataframe thead th {\n",
              "        text-align: right;\n",
              "    }\n",
              "</style>\n",
              "<table border=\"1\" class=\"dataframe\">\n",
              "  <thead>\n",
              "    <tr style=\"text-align: right;\">\n",
              "      <th></th>\n",
              "      <th>Simulation Case Conditions_Spec 2 : NA in Benzene_ppmw</th>\n",
              "    </tr>\n",
              "  </thead>\n",
              "  <tbody>\n",
              "    <tr>\n",
              "      <th>137-026</th>\n",
              "      <td>920.0</td>\n",
              "    </tr>\n",
              "  </tbody>\n",
              "</table>\n",
              "</div>"
            ],
            "text/plain": [
              "         Simulation Case Conditions_Spec 2 : NA in Benzene_ppmw\n",
              "137-026                                              920.0     "
            ]
          },
          "metadata": {
            "tags": []
          },
          "execution_count": 4
        }
      ]
    },
    {
      "cell_type": "code",
      "metadata": {
        "id": "10dAfnigtL5M",
        "colab": {
          "base_uri": "https://localhost:8080/",
          "height": 80
        },
        "outputId": "c23c1836-7f39-4b2e-d2f6-5379fc613460"
      },
      "source": [
        "icg_input[['Simulation Case Conditions_Spec 1 : Benzene in C620 Sidedraw_wt%']]"
      ],
      "execution_count": 5,
      "outputs": [
        {
          "output_type": "execute_result",
          "data": {
            "text/html": [
              "<div>\n",
              "<style scoped>\n",
              "    .dataframe tbody tr th:only-of-type {\n",
              "        vertical-align: middle;\n",
              "    }\n",
              "\n",
              "    .dataframe tbody tr th {\n",
              "        vertical-align: top;\n",
              "    }\n",
              "\n",
              "    .dataframe thead th {\n",
              "        text-align: right;\n",
              "    }\n",
              "</style>\n",
              "<table border=\"1\" class=\"dataframe\">\n",
              "  <thead>\n",
              "    <tr style=\"text-align: right;\">\n",
              "      <th></th>\n",
              "      <th>Simulation Case Conditions_Spec 1 : Benzene in C620 Sidedraw_wt%</th>\n",
              "    </tr>\n",
              "  </thead>\n",
              "  <tbody>\n",
              "    <tr>\n",
              "      <th>137-026</th>\n",
              "      <td>70.0</td>\n",
              "    </tr>\n",
              "  </tbody>\n",
              "</table>\n",
              "</div>"
            ],
            "text/plain": [
              "         Simulation Case Conditions_Spec 1 : Benzene in C620 Sidedraw_wt%\n",
              "137-026                                               70.0               "
            ]
          },
          "metadata": {
            "tags": []
          },
          "execution_count": 5
        }
      ]
    },
    {
      "cell_type": "code",
      "metadata": {
        "id": "H9uXRuhItL86",
        "colab": {
          "base_uri": "https://localhost:8080/",
          "height": 80
        },
        "outputId": "4a3c807f-6cc1-4fcd-b507-d974bf92587c"
      },
      "source": [
        "icg_input[['Benzene Column C660 Operation_Specifications_Spec 3 : Toluene in Benzene_ppmw']]"
      ],
      "execution_count": 6,
      "outputs": [
        {
          "output_type": "execute_result",
          "data": {
            "text/html": [
              "<div>\n",
              "<style scoped>\n",
              "    .dataframe tbody tr th:only-of-type {\n",
              "        vertical-align: middle;\n",
              "    }\n",
              "\n",
              "    .dataframe tbody tr th {\n",
              "        vertical-align: top;\n",
              "    }\n",
              "\n",
              "    .dataframe thead th {\n",
              "        text-align: right;\n",
              "    }\n",
              "</style>\n",
              "<table border=\"1\" class=\"dataframe\">\n",
              "  <thead>\n",
              "    <tr style=\"text-align: right;\">\n",
              "      <th></th>\n",
              "      <th>Benzene Column C660 Operation_Specifications_Spec 3 : Toluene in Benzene_ppmw</th>\n",
              "    </tr>\n",
              "  </thead>\n",
              "  <tbody>\n",
              "    <tr>\n",
              "      <th>137-026</th>\n",
              "      <td>10.000004</td>\n",
              "    </tr>\n",
              "  </tbody>\n",
              "</table>\n",
              "</div>"
            ],
            "text/plain": [
              "         Benzene Column C660 Operation_Specifications_Spec 3 : Toluene in Benzene_ppmw\n",
              "137-026                                          10.000004                            "
            ]
          },
          "metadata": {
            "tags": []
          },
          "execution_count": 6
        }
      ]
    },
    {
      "cell_type": "markdown",
      "metadata": {
        "id": "3CoArzTyiJw3"
      },
      "source": [
        "# 1.試算模式"
      ]
    },
    {
      "cell_type": "code",
      "metadata": {
        "id": "thf_SjD_xqrG"
      },
      "source": [
        "f = joblib.load('/content/c620/model/allsystem.pkl')"
      ],
      "execution_count": 7,
      "outputs": []
    },
    {
      "cell_type": "code",
      "metadata": {
        "id": "Sj_g8Ef5yuOe",
        "colab": {
          "base_uri": "https://localhost:8080/",
          "height": 185
        },
        "outputId": "066eb621-6650-4d1c-fea7-8e8bd20b4aa4"
      },
      "source": [
        "demo['icg_input']"
      ],
      "execution_count": 8,
      "outputs": [
        {
          "output_type": "execute_result",
          "data": {
            "text/html": [
              "<div>\n",
              "<style scoped>\n",
              "    .dataframe tbody tr th:only-of-type {\n",
              "        vertical-align: middle;\n",
              "    }\n",
              "\n",
              "    .dataframe tbody tr th {\n",
              "        vertical-align: top;\n",
              "    }\n",
              "\n",
              "    .dataframe thead th {\n",
              "        text-align: right;\n",
              "    }\n",
              "</style>\n",
              "<table border=\"1\" class=\"dataframe\">\n",
              "  <thead>\n",
              "    <tr style=\"text-align: right;\">\n",
              "      <th></th>\n",
              "      <th>Simulation Case Conditions_Feed Rate_Feed from V615 Btm_m3/hr</th>\n",
              "      <th>Simulation Case Conditions_Feed Rate_Feed from V615 Btm    NA_wt%</th>\n",
              "      <th>Simulation Case Conditions_Feed Rate_Feed from V615 Btm    Benzene_wt%</th>\n",
              "      <th>Simulation Case Conditions_Feed Rate_Feed from V615 Btm    Toluene_wt%</th>\n",
              "      <th>Simulation Case Conditions_Feed Rate_Feed from C820 Dist_m3/hr</th>\n",
              "      <th>Simulation Case Conditions_Feed Rate_Feed from C820 Dist    NA_wt%</th>\n",
              "      <th>Simulation Case Conditions_Feed Rate_Feed from C820 Dist    Benzene_wt%</th>\n",
              "      <th>Simulation Case Conditions_Feed Rate_Feed from C820 Dist    Toluene_wt%</th>\n",
              "      <th>Simulation Case Conditions_Feed Rate_Feed from T651_m3/hr</th>\n",
              "      <th>Simulation Case Conditions_Feed Rate_Feed from T651    NA_wt%</th>\n",
              "      <th>Simulation Case Conditions_Feed Rate_Feed from T651    Benzene_wt%</th>\n",
              "      <th>Simulation Case Conditions_Feed Rate_Feed from T651    Toluene_wt%</th>\n",
              "      <th>Simulation Case Conditions_Spec 1 : Benzene in C620 Sidedraw_wt%</th>\n",
              "      <th>Simulation Case Conditions_Spec 2 : NA in Benzene_ppmw</th>\n",
              "      <th>Tatoray Stripper C620 Operation_Specifications_Spec 2 : Distillate Rate_m3/hr</th>\n",
              "      <th>Benzene Column C660 Operation_Specifications_Spec 3 : Toluene in Benzene_ppmw</th>\n",
              "      <th>Tatoray Stripper C620 Operation_Specifications_Spec 1 : Receiver Temp_oC</th>\n",
              "    </tr>\n",
              "  </thead>\n",
              "  <tbody>\n",
              "    <tr>\n",
              "      <th>137-026</th>\n",
              "      <td>188.0</td>\n",
              "      <td>1.116023</td>\n",
              "      <td>11.152225</td>\n",
              "      <td>48.745979</td>\n",
              "      <td>15.0</td>\n",
              "      <td>2.338977</td>\n",
              "      <td>74.302254</td>\n",
              "      <td>17.467825</td>\n",
              "      <td>77.0</td>\n",
              "      <td>0.0911</td>\n",
              "      <td>20.854397</td>\n",
              "      <td>74.689774</td>\n",
              "      <td>70.0</td>\n",
              "      <td>920.0</td>\n",
              "      <td>0.01</td>\n",
              "      <td>10.000004</td>\n",
              "      <td>36.0</td>\n",
              "    </tr>\n",
              "  </tbody>\n",
              "</table>\n",
              "</div>"
            ],
            "text/plain": [
              "         Simulation Case Conditions_Feed Rate_Feed from V615 Btm_m3/hr  ...  Tatoray Stripper C620 Operation_Specifications_Spec 1 : Receiver Temp_oC\n",
              "137-026                                              188.0              ...                                               36.0                       \n",
              "\n",
              "[1 rows x 17 columns]"
            ]
          },
          "metadata": {
            "tags": []
          },
          "execution_count": 8
        }
      ]
    },
    {
      "cell_type": "code",
      "metadata": {
        "id": "nLRt8RejiIAI",
        "colab": {
          "base_uri": "https://localhost:8080/",
          "height": 142
        },
        "outputId": "a572c751-a50d-4947-bba8-a3802d276e37"
      },
      "source": [
        "table = pd.DataFrame()\n",
        "for i in [70,80,90]:\n",
        "  icg_input = demo['icg_input']\n",
        "  icg_input['Simulation Case Conditions_Spec 1 : Benzene in C620 Sidedraw_wt%'] = i \n",
        "  c620_wt,c620_op,c660_wt,c660_op,c670_wt,c670_op = f.inference(demo['icg_input'],demo['c620_feed'],demo['t651_feed'])\n",
        "  table = table.append(c620_op.iloc[:,-2:].join(icg_input['Simulation Case Conditions_Spec 1 : Benzene in C620 Sidedraw_wt%']))\n",
        "table"
      ],
      "execution_count": 14,
      "outputs": [
        {
          "output_type": "execute_result",
          "data": {
            "text/html": [
              "<div>\n",
              "<style scoped>\n",
              "    .dataframe tbody tr th:only-of-type {\n",
              "        vertical-align: middle;\n",
              "    }\n",
              "\n",
              "    .dataframe tbody tr th {\n",
              "        vertical-align: top;\n",
              "    }\n",
              "\n",
              "    .dataframe thead th {\n",
              "        text-align: right;\n",
              "    }\n",
              "</style>\n",
              "<table border=\"1\" class=\"dataframe\">\n",
              "  <thead>\n",
              "    <tr style=\"text-align: right;\">\n",
              "      <th></th>\n",
              "      <th>Tatoray Stripper C620 Operation_Column Temp Profile_C620 Tray 14 (Control)_oC</th>\n",
              "      <th>Tatoray Stripper C620 Operation_Column Temp Profile_C620 Tray 34 (Control)_oC</th>\n",
              "      <th>Simulation Case Conditions_Spec 1 : Benzene in C620 Sidedraw_wt%</th>\n",
              "    </tr>\n",
              "  </thead>\n",
              "  <tbody>\n",
              "    <tr>\n",
              "      <th>137-026</th>\n",
              "      <td>177.997787</td>\n",
              "      <td>192.847977</td>\n",
              "      <td>70</td>\n",
              "    </tr>\n",
              "    <tr>\n",
              "      <th>137-026</th>\n",
              "      <td>177.220886</td>\n",
              "      <td>192.419495</td>\n",
              "      <td>80</td>\n",
              "    </tr>\n",
              "    <tr>\n",
              "      <th>137-026</th>\n",
              "      <td>175.391632</td>\n",
              "      <td>192.097565</td>\n",
              "      <td>90</td>\n",
              "    </tr>\n",
              "  </tbody>\n",
              "</table>\n",
              "</div>"
            ],
            "text/plain": [
              "         Tatoray Stripper C620 Operation_Column Temp Profile_C620 Tray 14 (Control)_oC  ...  Simulation Case Conditions_Spec 1 : Benzene in C620 Sidedraw_wt%\n",
              "137-026                                         177.997787                              ...                                                 70               \n",
              "137-026                                         177.220886                              ...                                                 80               \n",
              "137-026                                         175.391632                              ...                                                 90               \n",
              "\n",
              "[3 rows x 3 columns]"
            ]
          },
          "metadata": {
            "tags": []
          },
          "execution_count": 14
        }
      ]
    },
    {
      "cell_type": "markdown",
      "metadata": {
        "id": "VwZzYr7yDZ8A"
      },
      "source": [
        "# 推薦模式"
      ]
    },
    {
      "cell_type": "code",
      "metadata": {
        "id": "Du-vzSweDNCw"
      },
      "source": [
        "f = joblib.load('/content/c620/model/allsystem.pkl')"
      ],
      "execution_count": 16,
      "outputs": []
    },
    {
      "cell_type": "code",
      "metadata": {
        "colab": {
          "base_uri": "https://localhost:8080/",
          "height": 1000
        },
        "id": "gMg1Qv4fDel5",
        "outputId": "f9e671a7-cb5e-45e0-bf3b-0d6e577e391d"
      },
      "source": [
        "table = pd.DataFrame()\n",
        "for i in [70,80,90]:\n",
        "  icg_input = demo['icg_input']\n",
        "  icg_input['Simulation Case Conditions_Spec 1 : Benzene in C620 Sidedraw_wt%'] = i \n",
        "  c620_wt,c620_op,c660_wt,c660_op,c670_wt,c670_op,_,_,_ = f.recommend(demo['icg_input'],demo['c620_feed'],demo['t651_feed'],search_iteration=10)\n",
        "  table = table.append(c620_op.iloc[:,-2:].join(icg_input['Simulation Case Conditions_Spec 1 : Benzene in C620 Sidedraw_wt%']))\n",
        "table"
      ],
      "execution_count": 20,
      "outputs": [
        {
          "output_type": "stream",
          "text": [
            "\u001b[32m[I 2021-04-29 10:00:09,044]\u001b[0m A new study created in memory with name: no-name-6ac3dee1-bfee-4ee4-8698-abb3b49c778c\u001b[0m\n",
            "\u001b[32m[I 2021-04-29 10:00:09,134]\u001b[0m Trial 0 finished with value: 1.0528475187249213 and parameters: {'Tatoray Stripper C620 Operation_Column Temp Profile_C620 Tray 14 (Control)_oC': 176.74050008780713, 'Tatoray Stripper C620 Operation_Column Temp Profile_C620 Tray 34 (Control)_oC': 194.0174840422207, 'Tatoray Stripper C620 Operation_Specifications_Spec 2 : Distillate Rate_m3/hr': 8.403867799249873}. Best is trial 0 with value: 1.0528475187249213.\u001b[0m\n",
            "\u001b[32m[I 2021-04-29 10:00:09,211]\u001b[0m Trial 1 finished with value: 1.04385870610351 and parameters: {'Tatoray Stripper C620 Operation_Column Temp Profile_C620 Tray 14 (Control)_oC': 177.82087281233308, 'Tatoray Stripper C620 Operation_Column Temp Profile_C620 Tray 34 (Control)_oC': 193.3585811337119, 'Tatoray Stripper C620 Operation_Specifications_Spec 2 : Distillate Rate_m3/hr': 0.9759448074513549}. Best is trial 1 with value: 1.04385870610351.\u001b[0m\n",
            "\u001b[32m[I 2021-04-29 10:00:09,429]\u001b[0m Trial 2 finished with value: 1.0439575140556279 and parameters: {'Tatoray Stripper C620 Operation_Column Temp Profile_C620 Tray 14 (Control)_oC': 177.431394618513, 'Tatoray Stripper C620 Operation_Column Temp Profile_C620 Tray 34 (Control)_oC': 193.36739615244608, 'Tatoray Stripper C620 Operation_Specifications_Spec 2 : Distillate Rate_m3/hr': 0.758729253033122}. Best is trial 1 with value: 1.04385870610351.\u001b[0m\n",
            "\u001b[32m[I 2021-04-29 10:00:09,512]\u001b[0m Trial 3 finished with value: 1.0452854388919086 and parameters: {'Tatoray Stripper C620 Operation_Column Temp Profile_C620 Tray 14 (Control)_oC': 177.55188469179367, 'Tatoray Stripper C620 Operation_Column Temp Profile_C620 Tray 34 (Control)_oC': 193.39271456342547, 'Tatoray Stripper C620 Operation_Specifications_Spec 2 : Distillate Rate_m3/hr': 0.08641902456540958}. Best is trial 1 with value: 1.04385870610351.\u001b[0m\n",
            "\u001b[32m[I 2021-04-29 10:00:09,592]\u001b[0m Trial 4 finished with value: 1.0433007281389948 and parameters: {'Tatoray Stripper C620 Operation_Column Temp Profile_C620 Tray 14 (Control)_oC': 177.28961075865246, 'Tatoray Stripper C620 Operation_Column Temp Profile_C620 Tray 34 (Control)_oC': 193.33497618323497, 'Tatoray Stripper C620 Operation_Specifications_Spec 2 : Distillate Rate_m3/hr': 0.31566161264758813}. Best is trial 4 with value: 1.0433007281389948.\u001b[0m\n",
            "\u001b[32m[I 2021-04-29 10:00:09,677]\u001b[0m Trial 5 finished with value: 1.041918102608021 and parameters: {'Tatoray Stripper C620 Operation_Column Temp Profile_C620 Tray 14 (Control)_oC': 177.02733086492464, 'Tatoray Stripper C620 Operation_Column Temp Profile_C620 Tray 34 (Control)_oC': 192.55349566713787, 'Tatoray Stripper C620 Operation_Specifications_Spec 2 : Distillate Rate_m3/hr': 0.13158120520361513}. Best is trial 5 with value: 1.041918102608021.\u001b[0m\n",
            "\u001b[32m[I 2021-04-29 10:00:09,754]\u001b[0m Trial 6 finished with value: 1.0523182904176989 and parameters: {'Tatoray Stripper C620 Operation_Column Temp Profile_C620 Tray 14 (Control)_oC': 177.26742030548564, 'Tatoray Stripper C620 Operation_Column Temp Profile_C620 Tray 34 (Control)_oC': 192.5224109947245, 'Tatoray Stripper C620 Operation_Specifications_Spec 2 : Distillate Rate_m3/hr': 0.6178949956813365}. Best is trial 5 with value: 1.041918102608021.\u001b[0m\n",
            "\u001b[32m[I 2021-04-29 10:00:09,831]\u001b[0m Trial 7 finished with value: 1.0212464034110817 and parameters: {'Tatoray Stripper C620 Operation_Column Temp Profile_C620 Tray 14 (Control)_oC': 177.75841221513463, 'Tatoray Stripper C620 Operation_Column Temp Profile_C620 Tray 34 (Control)_oC': 192.93936897305076, 'Tatoray Stripper C620 Operation_Specifications_Spec 2 : Distillate Rate_m3/hr': 0.3943050505757925}. Best is trial 7 with value: 1.0212464034110817.\u001b[0m\n",
            "\u001b[32m[I 2021-04-29 10:00:09,909]\u001b[0m Trial 8 finished with value: 1.0273618424151116 and parameters: {'Tatoray Stripper C620 Operation_Column Temp Profile_C620 Tray 14 (Control)_oC': 177.18693858103805, 'Tatoray Stripper C620 Operation_Column Temp Profile_C620 Tray 34 (Control)_oC': 192.6143065006967, 'Tatoray Stripper C620 Operation_Specifications_Spec 2 : Distillate Rate_m3/hr': 0.095892450110075}. Best is trial 7 with value: 1.0212464034110817.\u001b[0m\n",
            "\u001b[32m[I 2021-04-29 10:00:09,987]\u001b[0m Trial 9 finished with value: 1.0023122813578724 and parameters: {'Tatoray Stripper C620 Operation_Column Temp Profile_C620 Tray 14 (Control)_oC': 177.56640952539362, 'Tatoray Stripper C620 Operation_Column Temp Profile_C620 Tray 34 (Control)_oC': 192.77457681330347, 'Tatoray Stripper C620 Operation_Specifications_Spec 2 : Distillate Rate_m3/hr': 0.11860794848756304}. Best is trial 9 with value: 1.0023122813578724.\u001b[0m\n",
            "\u001b[32m[I 2021-04-29 10:00:10,084]\u001b[0m A new study created in memory with name: no-name-6bbf30ea-4305-46ea-8140-08c742c4dda6\u001b[0m\n",
            "\u001b[32m[I 2021-04-29 10:00:10,170]\u001b[0m Trial 0 finished with value: 0.6735635128075268 and parameters: {'Benzene Column C660 Operation_Column Temp Profile_C660 Tray 6 (SD & Control)_oC': 87.04378759273112, 'Benzene Column C660 Operation_Column Temp Profile_C660 Tray 23 (Control)_oC': 92.44211143983651, 'Simulation Case Conditions_Spec 2 : NA in Benzene_ppmw': 958.8719717500109}. Best is trial 0 with value: 0.6735635128075268.\u001b[0m\n",
            "\u001b[32m[I 2021-04-29 10:00:10,248]\u001b[0m Trial 1 finished with value: 0.22330450900922114 and parameters: {'Benzene Column C660 Operation_Column Temp Profile_C660 Tray 6 (SD & Control)_oC': 86.82643827634026, 'Benzene Column C660 Operation_Column Temp Profile_C660 Tray 23 (Control)_oC': 91.19762902821189, 'Simulation Case Conditions_Spec 2 : NA in Benzene_ppmw': 920.0312995530273}. Best is trial 1 with value: 0.22330450900922114.\u001b[0m\n",
            "\u001b[32m[I 2021-04-29 10:00:10,339]\u001b[0m Trial 2 finished with value: 0.1786720873576751 and parameters: {'Benzene Column C660 Operation_Column Temp Profile_C660 Tray 6 (SD & Control)_oC': 86.84045839634565, 'Benzene Column C660 Operation_Column Temp Profile_C660 Tray 23 (Control)_oC': 91.2022717349987, 'Simulation Case Conditions_Spec 2 : NA in Benzene_ppmw': 920.2644220334319}. Best is trial 2 with value: 0.1786720873576751.\u001b[0m\n",
            "\u001b[32m[I 2021-04-29 10:00:10,421]\u001b[0m Trial 3 finished with value: 0.48349250100403435 and parameters: {'Benzene Column C660 Operation_Column Temp Profile_C660 Tray 6 (SD & Control)_oC': 86.71837387198156, 'Benzene Column C660 Operation_Column Temp Profile_C660 Tray 23 (Control)_oC': 91.12151461589094, 'Simulation Case Conditions_Spec 2 : NA in Benzene_ppmw': 919.9094087060623}. Best is trial 2 with value: 0.1786720873576751.\u001b[0m\n",
            "\u001b[32m[I 2021-04-29 10:00:10,503]\u001b[0m Trial 4 finished with value: 0.17228996737871552 and parameters: {'Benzene Column C660 Operation_Column Temp Profile_C660 Tray 6 (SD & Control)_oC': 86.85049355416452, 'Benzene Column C660 Operation_Column Temp Profile_C660 Tray 23 (Control)_oC': 91.37813157325556, 'Simulation Case Conditions_Spec 2 : NA in Benzene_ppmw': 920.2774399029214}. Best is trial 4 with value: 0.17228996737871552.\u001b[0m\n",
            "\u001b[32m[I 2021-04-29 10:00:10,582]\u001b[0m Trial 5 finished with value: 0.78859923032492 and parameters: {'Benzene Column C660 Operation_Column Temp Profile_C660 Tray 6 (SD & Control)_oC': 87.04486604185931, 'Benzene Column C660 Operation_Column Temp Profile_C660 Tray 23 (Control)_oC': 91.31898889200767, 'Simulation Case Conditions_Spec 2 : NA in Benzene_ppmw': 919.4933527862296}. Best is trial 4 with value: 0.17228996737871552.\u001b[0m\n",
            "\u001b[32m[I 2021-04-29 10:00:10,667]\u001b[0m Trial 6 finished with value: 0.8607068628504969 and parameters: {'Benzene Column C660 Operation_Column Temp Profile_C660 Tray 6 (SD & Control)_oC': 87.0391649328119, 'Benzene Column C660 Operation_Column Temp Profile_C660 Tray 23 (Control)_oC': 90.97214077380109, 'Simulation Case Conditions_Spec 2 : NA in Benzene_ppmw': 919.9522125461523}. Best is trial 4 with value: 0.17228996737871552.\u001b[0m\n",
            "\u001b[32m[I 2021-04-29 10:00:10,743]\u001b[0m Trial 7 finished with value: 0.5932265999528202 and parameters: {'Benzene Column C660 Operation_Column Temp Profile_C660 Tray 6 (SD & Control)_oC': 86.65206731504112, 'Benzene Column C660 Operation_Column Temp Profile_C660 Tray 23 (Control)_oC': 91.10076011941888, 'Simulation Case Conditions_Spec 2 : NA in Benzene_ppmw': 920.2049528666779}. Best is trial 4 with value: 0.17228996737871552.\u001b[0m\n",
            "\u001b[32m[I 2021-04-29 10:00:10,833]\u001b[0m Trial 8 finished with value: 0.6196874922251815 and parameters: {'Benzene Column C660 Operation_Column Temp Profile_C660 Tray 6 (SD & Control)_oC': 87.02264142511164, 'Benzene Column C660 Operation_Column Temp Profile_C660 Tray 23 (Control)_oC': 91.4224923786161, 'Simulation Case Conditions_Spec 2 : NA in Benzene_ppmw': 920.2012950365826}. Best is trial 4 with value: 0.17228996737871552.\u001b[0m\n",
            "\u001b[32m[I 2021-04-29 10:00:10,917]\u001b[0m Trial 9 finished with value: 0.5474802151192761 and parameters: {'Benzene Column C660 Operation_Column Temp Profile_C660 Tray 6 (SD & Control)_oC': 86.68400795484189, 'Benzene Column C660 Operation_Column Temp Profile_C660 Tray 23 (Control)_oC': 91.15363042522478, 'Simulation Case Conditions_Spec 2 : NA in Benzene_ppmw': 920.2603151074708}. Best is trial 4 with value: 0.17228996737871552.\u001b[0m\n"
          ],
          "name": "stderr"
        },
        {
          "output_type": "stream",
          "text": [
            "bz_error: 0.16187149864398975\n",
            "nainbz_error: 5.142353345573497\n",
            "tol_error: 1.722620902152908\n"
          ],
          "name": "stdout"
        },
        {
          "output_type": "stream",
          "text": [
            "\u001b[32m[I 2021-04-29 10:00:11,343]\u001b[0m A new study created in memory with name: no-name-c0391506-9881-47b9-b6b1-130e721b35c1\u001b[0m\n",
            "\u001b[32m[I 2021-04-29 10:00:11,432]\u001b[0m Trial 0 finished with value: 1.1036645474689684 and parameters: {'Tatoray Stripper C620 Operation_Column Temp Profile_C620 Tray 14 (Control)_oC': 175.5117472482969, 'Tatoray Stripper C620 Operation_Column Temp Profile_C620 Tray 34 (Control)_oC': 193.13963559336736, 'Tatoray Stripper C620 Operation_Specifications_Spec 2 : Distillate Rate_m3/hr': 3.187461590947274}. Best is trial 0 with value: 1.1036645474689684.\u001b[0m\n",
            "\u001b[32m[I 2021-04-29 10:00:11,514]\u001b[0m Trial 1 finished with value: 1.1102315373664142 and parameters: {'Tatoray Stripper C620 Operation_Column Temp Profile_C620 Tray 14 (Control)_oC': 177.97683834185773, 'Tatoray Stripper C620 Operation_Column Temp Profile_C620 Tray 34 (Control)_oC': 192.99343904684204, 'Tatoray Stripper C620 Operation_Specifications_Spec 2 : Distillate Rate_m3/hr': 0.23569525178057713}. Best is trial 0 with value: 1.1036645474689684.\u001b[0m\n",
            "\u001b[32m[I 2021-04-29 10:00:11,599]\u001b[0m Trial 2 finished with value: 1.1586848709967936 and parameters: {'Tatoray Stripper C620 Operation_Column Temp Profile_C620 Tray 14 (Control)_oC': 177.4527536186935, 'Tatoray Stripper C620 Operation_Column Temp Profile_C620 Tray 34 (Control)_oC': 193.55538053363338, 'Tatoray Stripper C620 Operation_Specifications_Spec 2 : Distillate Rate_m3/hr': 0.6317820854948164}. Best is trial 0 with value: 1.1036645474689684.\u001b[0m\n",
            "\u001b[32m[I 2021-04-29 10:00:11,676]\u001b[0m Trial 3 finished with value: 1.0424507543622528 and parameters: {'Tatoray Stripper C620 Operation_Column Temp Profile_C620 Tray 14 (Control)_oC': 177.8677944613156, 'Tatoray Stripper C620 Operation_Column Temp Profile_C620 Tray 34 (Control)_oC': 192.68014904684895, 'Tatoray Stripper C620 Operation_Specifications_Spec 2 : Distillate Rate_m3/hr': 0.31202236434747077}. Best is trial 3 with value: 1.0424507543622528.\u001b[0m\n",
            "\u001b[32m[I 2021-04-29 10:00:11,757]\u001b[0m Trial 4 finished with value: 1.0097034760132193 and parameters: {'Tatoray Stripper C620 Operation_Column Temp Profile_C620 Tray 14 (Control)_oC': 177.47281407068047, 'Tatoray Stripper C620 Operation_Column Temp Profile_C620 Tray 34 (Control)_oC': 192.55571697575397, 'Tatoray Stripper C620 Operation_Specifications_Spec 2 : Distillate Rate_m3/hr': 0.10439714141279911}. Best is trial 4 with value: 1.0097034760132193.\u001b[0m\n",
            "\u001b[32m[I 2021-04-29 10:00:11,835]\u001b[0m Trial 5 finished with value: 1.1146605030889059 and parameters: {'Tatoray Stripper C620 Operation_Column Temp Profile_C620 Tray 14 (Control)_oC': 176.99722246592776, 'Tatoray Stripper C620 Operation_Column Temp Profile_C620 Tray 34 (Control)_oC': 191.90792565417027, 'Tatoray Stripper C620 Operation_Specifications_Spec 2 : Distillate Rate_m3/hr': 0.7056211755416412}. Best is trial 4 with value: 1.0097034760132193.\u001b[0m\n",
            "\u001b[32m[I 2021-04-29 10:00:11,932]\u001b[0m Trial 6 finished with value: 1.073828302376107 and parameters: {'Tatoray Stripper C620 Operation_Column Temp Profile_C620 Tray 14 (Control)_oC': 177.98710714964906, 'Tatoray Stripper C620 Operation_Column Temp Profile_C620 Tray 34 (Control)_oC': 192.17679601693783, 'Tatoray Stripper C620 Operation_Specifications_Spec 2 : Distillate Rate_m3/hr': 0.12624870529582524}. Best is trial 4 with value: 1.0097034760132193.\u001b[0m\n",
            "\u001b[32m[I 2021-04-29 10:00:12,025]\u001b[0m Trial 7 finished with value: 1.0010899113172154 and parameters: {'Tatoray Stripper C620 Operation_Column Temp Profile_C620 Tray 14 (Control)_oC': 178.09466238063246, 'Tatoray Stripper C620 Operation_Column Temp Profile_C620 Tray 34 (Control)_oC': 192.51027448410522, 'Tatoray Stripper C620 Operation_Specifications_Spec 2 : Distillate Rate_m3/hr': 0.4397858992173311}. Best is trial 7 with value: 1.0010899113172154.\u001b[0m\n",
            "\u001b[32m[I 2021-04-29 10:00:12,103]\u001b[0m Trial 8 finished with value: 1.1092384418937387 and parameters: {'Tatoray Stripper C620 Operation_Column Temp Profile_C620 Tray 14 (Control)_oC': 177.99053129820567, 'Tatoray Stripper C620 Operation_Column Temp Profile_C620 Tray 34 (Control)_oC': 191.94870531323656, 'Tatoray Stripper C620 Operation_Specifications_Spec 2 : Distillate Rate_m3/hr': 0.9059999844527293}. Best is trial 7 with value: 1.0010899113172154.\u001b[0m\n",
            "\u001b[32m[I 2021-04-29 10:00:12,183]\u001b[0m Trial 9 finished with value: 1.0113838724970723 and parameters: {'Tatoray Stripper C620 Operation_Column Temp Profile_C620 Tray 14 (Control)_oC': 177.9583749429741, 'Tatoray Stripper C620 Operation_Column Temp Profile_C620 Tray 34 (Control)_oC': 192.5664329651287, 'Tatoray Stripper C620 Operation_Specifications_Spec 2 : Distillate Rate_m3/hr': 0.5458942485889909}. Best is trial 7 with value: 1.0010899113172154.\u001b[0m\n",
            "\u001b[32m[I 2021-04-29 10:00:12,275]\u001b[0m A new study created in memory with name: no-name-7d98e3f2-970f-4b99-8a51-281c3406c51b\u001b[0m\n",
            "\u001b[32m[I 2021-04-29 10:00:12,362]\u001b[0m Trial 0 finished with value: 0.6423482915535451 and parameters: {'Benzene Column C660 Operation_Column Temp Profile_C660 Tray 6 (SD & Control)_oC': 86.5067505206968, 'Benzene Column C660 Operation_Column Temp Profile_C660 Tray 23 (Control)_oC': 89.95678813795192, 'Simulation Case Conditions_Spec 2 : NA in Benzene_ppmw': 935.963687639822}. Best is trial 0 with value: 0.6423482915535451.\u001b[0m\n",
            "\u001b[32m[I 2021-04-29 10:00:12,451]\u001b[0m Trial 1 finished with value: 0.6273425074987398 and parameters: {'Benzene Column C660 Operation_Column Temp Profile_C660 Tray 6 (SD & Control)_oC': 86.55558930345484, 'Benzene Column C660 Operation_Column Temp Profile_C660 Tray 23 (Control)_oC': 90.47455073189708, 'Simulation Case Conditions_Spec 2 : NA in Benzene_ppmw': 920.3617102600097}. Best is trial 1 with value: 0.6273425074987398.\u001b[0m\n",
            "\u001b[32m[I 2021-04-29 10:00:12,542]\u001b[0m Trial 2 finished with value: 0.2167685707548062 and parameters: {'Benzene Column C660 Operation_Column Temp Profile_C660 Tray 6 (SD & Control)_oC': 86.78208190906824, 'Benzene Column C660 Operation_Column Temp Profile_C660 Tray 23 (Control)_oC': 91.17743456553417, 'Simulation Case Conditions_Spec 2 : NA in Benzene_ppmw': 919.725008079946}. Best is trial 2 with value: 0.2167685707548062.\u001b[0m\n",
            "\u001b[32m[I 2021-04-29 10:00:12,635]\u001b[0m Trial 3 finished with value: 0.8413674002976298 and parameters: {'Benzene Column C660 Operation_Column Temp Profile_C660 Tray 6 (SD & Control)_oC': 86.97769525586011, 'Benzene Column C660 Operation_Column Temp Profile_C660 Tray 23 (Control)_oC': 90.64763451005625, 'Simulation Case Conditions_Spec 2 : NA in Benzene_ppmw': 919.8995339090338}. Best is trial 2 with value: 0.2167685707548062.\u001b[0m\n",
            "\u001b[32m[I 2021-04-29 10:00:12,719]\u001b[0m Trial 4 finished with value: 0.3809501528055217 and parameters: {'Benzene Column C660 Operation_Column Temp Profile_C660 Tray 6 (SD & Control)_oC': 86.70664210905764, 'Benzene Column C660 Operation_Column Temp Profile_C660 Tray 23 (Control)_oC': 90.82733841016237, 'Simulation Case Conditions_Spec 2 : NA in Benzene_ppmw': 919.8803430262541}. Best is trial 2 with value: 0.2167685707548062.\u001b[0m\n",
            "\u001b[32m[I 2021-04-29 10:00:12,803]\u001b[0m Trial 5 finished with value: 2.039842974033533 and parameters: {'Benzene Column C660 Operation_Column Temp Profile_C660 Tray 6 (SD & Control)_oC': 87.12297269478024, 'Benzene Column C660 Operation_Column Temp Profile_C660 Tray 23 (Control)_oC': 90.45035036570951, 'Simulation Case Conditions_Spec 2 : NA in Benzene_ppmw': 920.2205284683105}. Best is trial 2 with value: 0.2167685707548062.\u001b[0m\n",
            "\u001b[32m[I 2021-04-29 10:00:12,883]\u001b[0m Trial 6 finished with value: 0.7231868856650837 and parameters: {'Benzene Column C660 Operation_Column Temp Profile_C660 Tray 6 (SD & Control)_oC': 86.49849703345122, 'Benzene Column C660 Operation_Column Temp Profile_C660 Tray 23 (Control)_oC': 91.15702882693336, 'Simulation Case Conditions_Spec 2 : NA in Benzene_ppmw': 920.1353875423366}. Best is trial 2 with value: 0.2167685707548062.\u001b[0m\n",
            "\u001b[32m[I 2021-04-29 10:00:12,969]\u001b[0m Trial 7 finished with value: 0.49642230485914823 and parameters: {'Benzene Column C660 Operation_Column Temp Profile_C660 Tray 6 (SD & Control)_oC': 86.66540515583632, 'Benzene Column C660 Operation_Column Temp Profile_C660 Tray 23 (Control)_oC': 91.089503823348, 'Simulation Case Conditions_Spec 2 : NA in Benzene_ppmw': 920.1493047731228}. Best is trial 2 with value: 0.2167685707548062.\u001b[0m\n",
            "\u001b[32m[I 2021-04-29 10:00:13,068]\u001b[0m Trial 8 finished with value: 0.9747873192648182 and parameters: {'Benzene Column C660 Operation_Column Temp Profile_C660 Tray 6 (SD & Control)_oC': 87.01457327049752, 'Benzene Column C660 Operation_Column Temp Profile_C660 Tray 23 (Control)_oC': 91.0265790248719, 'Simulation Case Conditions_Spec 2 : NA in Benzene_ppmw': 920.1135748935136}. Best is trial 2 with value: 0.2167685707548062.\u001b[0m\n",
            "\u001b[32m[I 2021-04-29 10:00:13,152]\u001b[0m Trial 9 finished with value: 0.5096338862687372 and parameters: {'Benzene Column C660 Operation_Column Temp Profile_C660 Tray 6 (SD & Control)_oC': 86.64138670066635, 'Benzene Column C660 Operation_Column Temp Profile_C660 Tray 23 (Control)_oC': 90.71478637438096, 'Simulation Case Conditions_Spec 2 : NA in Benzene_ppmw': 919.9215924521862}. Best is trial 2 with value: 0.2167685707548062.\u001b[0m\n"
          ],
          "name": "stderr"
        },
        {
          "output_type": "stream",
          "text": [
            "bz_error: 0.08719654351109796\n",
            "nainbz_error: 6.6067787303790055\n",
            "tol_error: 2.1672126135122207\n"
          ],
          "name": "stdout"
        },
        {
          "output_type": "stream",
          "text": [
            "\u001b[32m[I 2021-04-29 10:00:13,572]\u001b[0m A new study created in memory with name: no-name-ce2b7982-bfc2-4881-82cb-fffe8fe5b8da\u001b[0m\n",
            "\u001b[32m[I 2021-04-29 10:00:13,663]\u001b[0m Trial 0 finished with value: 1.1406558022732947 and parameters: {'Tatoray Stripper C620 Operation_Column Temp Profile_C620 Tray 14 (Control)_oC': 177.5437347620732, 'Tatoray Stripper C620 Operation_Column Temp Profile_C620 Tray 34 (Control)_oC': 193.08423080865484, 'Tatoray Stripper C620 Operation_Specifications_Spec 2 : Distillate Rate_m3/hr': 4.332758381395966}. Best is trial 0 with value: 1.1406558022732947.\u001b[0m\n",
            "\u001b[32m[I 2021-04-29 10:00:13,750]\u001b[0m Trial 1 finished with value: 1.0187554234150624 and parameters: {'Tatoray Stripper C620 Operation_Column Temp Profile_C620 Tray 14 (Control)_oC': 176.00466647176327, 'Tatoray Stripper C620 Operation_Column Temp Profile_C620 Tray 34 (Control)_oC': 192.29126509971795, 'Tatoray Stripper C620 Operation_Specifications_Spec 2 : Distillate Rate_m3/hr': 0.05068338346458158}. Best is trial 1 with value: 1.0187554234150624.\u001b[0m\n",
            "\u001b[32m[I 2021-04-29 10:00:13,834]\u001b[0m Trial 2 finished with value: 1.006283841170744 and parameters: {'Tatoray Stripper C620 Operation_Column Temp Profile_C620 Tray 14 (Control)_oC': 174.99981863048623, 'Tatoray Stripper C620 Operation_Column Temp Profile_C620 Tray 34 (Control)_oC': 192.1797189490303, 'Tatoray Stripper C620 Operation_Specifications_Spec 2 : Distillate Rate_m3/hr': 0.3926586052200798}. Best is trial 2 with value: 1.006283841170744.\u001b[0m\n",
            "\u001b[32m[I 2021-04-29 10:00:13,908]\u001b[0m Trial 3 finished with value: 1.0008797345400675 and parameters: {'Tatoray Stripper C620 Operation_Column Temp Profile_C620 Tray 14 (Control)_oC': 174.87836593801632, 'Tatoray Stripper C620 Operation_Column Temp Profile_C620 Tray 34 (Control)_oC': 192.08203658634983, 'Tatoray Stripper C620 Operation_Specifications_Spec 2 : Distillate Rate_m3/hr': 0.16006121959139338}. Best is trial 3 with value: 1.0008797345400675.\u001b[0m\n",
            "\u001b[32m[I 2021-04-29 10:00:13,981]\u001b[0m Trial 4 finished with value: 1.0138730999856036 and parameters: {'Tatoray Stripper C620 Operation_Column Temp Profile_C620 Tray 14 (Control)_oC': 175.4089631272285, 'Tatoray Stripper C620 Operation_Column Temp Profile_C620 Tray 34 (Control)_oC': 192.27318228346664, 'Tatoray Stripper C620 Operation_Specifications_Spec 2 : Distillate Rate_m3/hr': 0.5214696184552449}. Best is trial 3 with value: 1.0008797345400675.\u001b[0m\n",
            "\u001b[32m[I 2021-04-29 10:00:14,080]\u001b[0m Trial 5 finished with value: 1.0106703645366633 and parameters: {'Tatoray Stripper C620 Operation_Column Temp Profile_C620 Tray 14 (Control)_oC': 175.54285670807943, 'Tatoray Stripper C620 Operation_Column Temp Profile_C620 Tray 34 (Control)_oC': 192.21603616631484, 'Tatoray Stripper C620 Operation_Specifications_Spec 2 : Distillate Rate_m3/hr': 0.13559482246082985}. Best is trial 3 with value: 1.0008797345400675.\u001b[0m\n",
            "\u001b[32m[I 2021-04-29 10:00:14,160]\u001b[0m Trial 6 finished with value: 1.0423565656939386 and parameters: {'Tatoray Stripper C620 Operation_Column Temp Profile_C620 Tray 14 (Control)_oC': 176.30687858525056, 'Tatoray Stripper C620 Operation_Column Temp Profile_C620 Tray 34 (Control)_oC': 192.50647834449782, 'Tatoray Stripper C620 Operation_Specifications_Spec 2 : Distillate Rate_m3/hr': 0.9299273529574879}. Best is trial 3 with value: 1.0008797345400675.\u001b[0m\n",
            "\u001b[32m[I 2021-04-29 10:00:14,246]\u001b[0m Trial 7 finished with value: 1.00459405747546 and parameters: {'Tatoray Stripper C620 Operation_Column Temp Profile_C620 Tray 14 (Control)_oC': 175.91543959819765, 'Tatoray Stripper C620 Operation_Column Temp Profile_C620 Tray 34 (Control)_oC': 191.9312239457653, 'Tatoray Stripper C620 Operation_Specifications_Spec 2 : Distillate Rate_m3/hr': 0.18957020633341626}. Best is trial 3 with value: 1.0008797345400675.\u001b[0m\n",
            "\u001b[32m[I 2021-04-29 10:00:14,339]\u001b[0m Trial 8 finished with value: 1.0051837078806758 and parameters: {'Tatoray Stripper C620 Operation_Column Temp Profile_C620 Tray 14 (Control)_oC': 174.7405969175002, 'Tatoray Stripper C620 Operation_Column Temp Profile_C620 Tray 34 (Control)_oC': 192.19564533136406, 'Tatoray Stripper C620 Operation_Specifications_Spec 2 : Distillate Rate_m3/hr': 1.061828274936563}. Best is trial 3 with value: 1.0008797345400675.\u001b[0m\n",
            "\u001b[32m[I 2021-04-29 10:00:14,419]\u001b[0m Trial 9 finished with value: 1.0057603271612745 and parameters: {'Tatoray Stripper C620 Operation_Column Temp Profile_C620 Tray 14 (Control)_oC': 175.51131584696344, 'Tatoray Stripper C620 Operation_Column Temp Profile_C620 Tray 34 (Control)_oC': 191.9064469409458, 'Tatoray Stripper C620 Operation_Specifications_Spec 2 : Distillate Rate_m3/hr': 0.1900854620025429}. Best is trial 3 with value: 1.0008797345400675.\u001b[0m\n",
            "\u001b[32m[I 2021-04-29 10:00:14,517]\u001b[0m A new study created in memory with name: no-name-9f265deb-1bc2-4e7c-8ea3-03ed31c20420\u001b[0m\n",
            "\u001b[32m[I 2021-04-29 10:00:14,594]\u001b[0m Trial 0 finished with value: 0.08331177197668872 and parameters: {'Benzene Column C660 Operation_Column Temp Profile_C660 Tray 6 (SD & Control)_oC': 86.7837211904934, 'Benzene Column C660 Operation_Column Temp Profile_C660 Tray 23 (Control)_oC': 90.41695243881955, 'Simulation Case Conditions_Spec 2 : NA in Benzene_ppmw': 922.72641919186}. Best is trial 0 with value: 0.08331177197668872.\u001b[0m\n",
            "\u001b[32m[I 2021-04-29 10:00:14,677]\u001b[0m Trial 1 finished with value: 0.9461452970771638 and parameters: {'Benzene Column C660 Operation_Column Temp Profile_C660 Tray 6 (SD & Control)_oC': 86.99278078984095, 'Benzene Column C660 Operation_Column Temp Profile_C660 Tray 23 (Control)_oC': 90.58826032735881, 'Simulation Case Conditions_Spec 2 : NA in Benzene_ppmw': 920.0533559593513}. Best is trial 0 with value: 0.08331177197668872.\u001b[0m\n",
            "\u001b[32m[I 2021-04-29 10:00:14,769]\u001b[0m Trial 2 finished with value: 0.8052666795495543 and parameters: {'Benzene Column C660 Operation_Column Temp Profile_C660 Tray 6 (SD & Control)_oC': 86.37251482320849, 'Benzene Column C660 Operation_Column Temp Profile_C660 Tray 23 (Control)_oC': 90.91594236338126, 'Simulation Case Conditions_Spec 2 : NA in Benzene_ppmw': 919.9419134730529}. Best is trial 0 with value: 0.08331177197668872.\u001b[0m\n",
            "\u001b[32m[I 2021-04-29 10:00:14,855]\u001b[0m Trial 3 finished with value: 0.7681891576898613 and parameters: {'Benzene Column C660 Operation_Column Temp Profile_C660 Tray 6 (SD & Control)_oC': 86.43440524605737, 'Benzene Column C660 Operation_Column Temp Profile_C660 Tray 23 (Control)_oC': 90.89338675986978, 'Simulation Case Conditions_Spec 2 : NA in Benzene_ppmw': 919.9787581394086}. Best is trial 0 with value: 0.08331177197668872.\u001b[0m\n",
            "\u001b[32m[I 2021-04-29 10:00:14,941]\u001b[0m Trial 4 finished with value: 0.7669847564970323 and parameters: {'Benzene Column C660 Operation_Column Temp Profile_C660 Tray 6 (SD & Control)_oC': 86.43941735164546, 'Benzene Column C660 Operation_Column Temp Profile_C660 Tray 23 (Control)_oC': 90.9702497383749, 'Simulation Case Conditions_Spec 2 : NA in Benzene_ppmw': 920.3045371700182}. Best is trial 0 with value: 0.08331177197668872.\u001b[0m\n",
            "\u001b[32m[I 2021-04-29 10:00:15,043]\u001b[0m Trial 5 finished with value: 0.5436475399795043 and parameters: {'Benzene Column C660 Operation_Column Temp Profile_C660 Tray 6 (SD & Control)_oC': 86.93423020610045, 'Benzene Column C660 Operation_Column Temp Profile_C660 Tray 23 (Control)_oC': 90.71908289705247, 'Simulation Case Conditions_Spec 2 : NA in Benzene_ppmw': 920.1242127193773}. Best is trial 0 with value: 0.08331177197668872.\u001b[0m\n",
            "\u001b[32m[I 2021-04-29 10:00:15,139]\u001b[0m Trial 6 finished with value: 0.01309583183189405 and parameters: {'Benzene Column C660 Operation_Column Temp Profile_C660 Tray 6 (SD & Control)_oC': 86.82189444068487, 'Benzene Column C660 Operation_Column Temp Profile_C660 Tray 23 (Control)_oC': 90.78847772884598, 'Simulation Case Conditions_Spec 2 : NA in Benzene_ppmw': 919.9076719188723}. Best is trial 6 with value: 0.01309583183189405.\u001b[0m\n",
            "\u001b[32m[I 2021-04-29 10:00:15,238]\u001b[0m Trial 7 finished with value: 0.5277839241528939 and parameters: {'Benzene Column C660 Operation_Column Temp Profile_C660 Tray 6 (SD & Control)_oC': 86.62528167072531, 'Benzene Column C660 Operation_Column Temp Profile_C660 Tray 23 (Control)_oC': 90.55047272749121, 'Simulation Case Conditions_Spec 2 : NA in Benzene_ppmw': 919.5678061026042}. Best is trial 6 with value: 0.01309583183189405.\u001b[0m\n",
            "\u001b[32m[I 2021-04-29 10:00:15,333]\u001b[0m Trial 8 finished with value: 2.1599398016984916 and parameters: {'Benzene Column C660 Operation_Column Temp Profile_C660 Tray 6 (SD & Control)_oC': 87.16520600332447, 'Benzene Column C660 Operation_Column Temp Profile_C660 Tray 23 (Control)_oC': 90.86636134180853, 'Simulation Case Conditions_Spec 2 : NA in Benzene_ppmw': 919.5755889466999}. Best is trial 6 with value: 0.01309583183189405.\u001b[0m\n",
            "\u001b[32m[I 2021-04-29 10:00:15,410]\u001b[0m Trial 9 finished with value: 0.001393736651106115 and parameters: {'Benzene Column C660 Operation_Column Temp Profile_C660 Tray 6 (SD & Control)_oC': 86.815982442467, 'Benzene Column C660 Operation_Column Temp Profile_C660 Tray 23 (Control)_oC': 90.58124011808245, 'Simulation Case Conditions_Spec 2 : NA in Benzene_ppmw': 919.8770732401196}. Best is trial 9 with value: 0.001393736651106115.\u001b[0m\n"
          ],
          "name": "stderr"
        },
        {
          "output_type": "stream",
          "text": [
            "bz_error: 0.07918735430286006\n",
            "nainbz_error: 9.477842738494928\n",
            "tol_error: 0.012903134342430178\n"
          ],
          "name": "stdout"
        },
        {
          "output_type": "execute_result",
          "data": {
            "text/html": [
              "<div>\n",
              "<style scoped>\n",
              "    .dataframe tbody tr th:only-of-type {\n",
              "        vertical-align: middle;\n",
              "    }\n",
              "\n",
              "    .dataframe tbody tr th {\n",
              "        vertical-align: top;\n",
              "    }\n",
              "\n",
              "    .dataframe thead th {\n",
              "        text-align: right;\n",
              "    }\n",
              "</style>\n",
              "<table border=\"1\" class=\"dataframe\">\n",
              "  <thead>\n",
              "    <tr style=\"text-align: right;\">\n",
              "      <th></th>\n",
              "      <th>Tatoray Stripper C620 Operation_Column Temp Profile_C620 Tray 14 (Control)_oC</th>\n",
              "      <th>Tatoray Stripper C620 Operation_Column Temp Profile_C620 Tray 34 (Control)_oC</th>\n",
              "      <th>Simulation Case Conditions_Spec 1 : Benzene in C620 Sidedraw_wt%</th>\n",
              "    </tr>\n",
              "  </thead>\n",
              "  <tbody>\n",
              "    <tr>\n",
              "      <th>137-026</th>\n",
              "      <td>177.566410</td>\n",
              "      <td>192.774577</td>\n",
              "      <td>70</td>\n",
              "    </tr>\n",
              "    <tr>\n",
              "      <th>137-026</th>\n",
              "      <td>178.094662</td>\n",
              "      <td>192.510274</td>\n",
              "      <td>80</td>\n",
              "    </tr>\n",
              "    <tr>\n",
              "      <th>137-026</th>\n",
              "      <td>174.878366</td>\n",
              "      <td>192.082037</td>\n",
              "      <td>90</td>\n",
              "    </tr>\n",
              "  </tbody>\n",
              "</table>\n",
              "</div>"
            ],
            "text/plain": [
              "         Tatoray Stripper C620 Operation_Column Temp Profile_C620 Tray 14 (Control)_oC  ...  Simulation Case Conditions_Spec 1 : Benzene in C620 Sidedraw_wt%\n",
              "137-026                                         177.566410                              ...                                                 70               \n",
              "137-026                                         178.094662                              ...                                                 80               \n",
              "137-026                                         174.878366                              ...                                                 90               \n",
              "\n",
              "[3 rows x 3 columns]"
            ]
          },
          "metadata": {
            "tags": []
          },
          "execution_count": 20
        }
      ]
    },
    {
      "cell_type": "code",
      "metadata": {
        "id": "Rgwh10pBDhHG"
      },
      "source": [
        ""
      ],
      "execution_count": null,
      "outputs": []
    }
  ]
}