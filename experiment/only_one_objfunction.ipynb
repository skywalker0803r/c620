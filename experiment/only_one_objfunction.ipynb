{
  "nbformat": 4,
  "nbformat_minor": 0,
  "metadata": {
    "colab": {
      "name": "Assembly.ipynb",
      "provenance": [],
      "mount_file_id": "https://github.com/skywalker0803r/c620/blob/main/notebook/Assembly.ipynb",
      "authorship_tag": "ABX9TyNNfDBOWzPmfaBOnBv3UJZW",
      "include_colab_link": true
    },
    "kernelspec": {
      "name": "python3",
      "display_name": "Python 3"
    },
    "language_info": {
      "name": "python"
    }
  },
  "cells": [
    {
      "cell_type": "markdown",
      "metadata": {
        "id": "view-in-github",
        "colab_type": "text"
      },
      "source": [
        "<a href=\"https://colab.research.google.com/github/skywalker0803r/c620/blob/main/experiment/only_one_objfunction.ipynb\" target=\"_parent\"><img src=\"https://colab.research.google.com/assets/colab-badge.svg\" alt=\"Open In Colab\"/></a>"
      ]
    },
    {
      "cell_type": "code",
      "metadata": {
        "id": "pVn4fkd1629H"
      },
      "source": [
        "!pip install autorch > log.txt\n",
        "!pip install optuna > log.txt"
      ],
      "execution_count": 247,
      "outputs": []
    },
    {
      "cell_type": "code",
      "metadata": {
        "id": "dpPYEEG_6nch"
      },
      "source": [
        "import joblib\n",
        "import os\n",
        "import numpy as np\n",
        "import pandas as pd\n",
        "import matplotlib.pyplot as plt\n",
        "import autorch\n",
        "from autorch.function import sp2wt\n",
        "import optuna"
      ],
      "execution_count": 248,
      "outputs": []
    },
    {
      "cell_type": "markdown",
      "metadata": {
        "id": "TzM-ooIqP-Ih"
      },
      "source": [
        "# LOAD DATA"
      ]
    },
    {
      "cell_type": "code",
      "metadata": {
        "id": "eXCIn36JP2ki"
      },
      "source": [
        "icg_c = joblib.load('/content/drive/MyDrive/台塑輕油案子/data/c620/col_names/icg_col_names.pkl')\n",
        "c620_c = joblib.load('/content/drive/MyDrive/台塑輕油案子/data/c620/col_names/c620_col_names.pkl')\n",
        "c660_c = joblib.load('/content/drive/MyDrive/台塑輕油案子/data/c620/col_names/c660_col_names.pkl')\n",
        "t651_c = joblib.load('/content/drive/MyDrive/台塑輕油案子/data/c620/col_names/t651_col_names.pkl')\n",
        "c670_c = joblib.load('/content/drive/MyDrive/台塑輕油案子/data/c620/col_names/c670_col_names.pkl')"
      ],
      "execution_count": 249,
      "outputs": []
    },
    {
      "cell_type": "code",
      "metadata": {
        "colab": {
          "base_uri": "https://localhost:8080/"
        },
        "id": "1dWX0egCP5n2",
        "outputId": "864d3608-be7e-49ec-c4e3-5ca844da5302"
      },
      "source": [
        "icg_df = pd.read_csv('/content/drive/MyDrive/台塑輕油案子/data/c620/cleaned/icg_train.csv',index_col=0).dropna(axis=0)\n",
        "c620_df = pd.read_csv('/content/drive/MyDrive/台塑輕油案子/data/c620/cleaned/c620_train.csv',index_col=0).dropna(axis=0)\n",
        "c660_df = pd.read_csv('/content/drive/MyDrive/台塑輕油案子/data/c620/cleaned/c660_train.csv',index_col=0).dropna(axis=0)\n",
        "c670_df = pd.read_csv('/content/drive/MyDrive/台塑輕油案子/data/c620/cleaned/c670_train.csv',index_col=0).dropna(axis=0)\n",
        "t651_df = pd.read_csv('/content/drive/MyDrive/台塑輕油案子/data/c620/cleaned/t651_train.csv',index_col=0).dropna(axis=0)\n",
        "allidx = list(set(icg_df.index)&\n",
        "      set(c620_df.index)&\n",
        "      set(c660_df.index)&\n",
        "      set(c670_df.index)&\n",
        "      set(t651_df.index))\n",
        "len(allidx)"
      ],
      "execution_count": 250,
      "outputs": [
        {
          "output_type": "execute_result",
          "data": {
            "text/plain": [
              "1295"
            ]
          },
          "metadata": {
            "tags": []
          },
          "execution_count": 250
        }
      ]
    },
    {
      "cell_type": "markdown",
      "metadata": {
        "id": "fpOGvlOAP_vK"
      },
      "source": [
        "# INPUT"
      ]
    },
    {
      "cell_type": "code",
      "metadata": {
        "id": "AGOyPmAYP_7k"
      },
      "source": [
        "# icg\n",
        "icg_input = icg_df.loc[allidx,icg_c['x']]\n",
        "icg_input = icg_input.join(c620_df.loc[allidx,'Tatoray Stripper C620 Operation_Specifications_Spec 2 : Distillate Rate_m3/hr'])\n",
        "icg_input = icg_input.join(c660_df.loc[allidx,'Benzene Column C660 Operation_Specifications_Spec 3 : Toluene in Benzene_ppmw'])\n",
        "icg_input = icg_input.join(c620_df.loc[allidx].filter(regex='Receiver Temp'))\n",
        "\n",
        "# c620\n",
        "c620_feed = c620_df.loc[allidx,c620_c['x41']]\n",
        "\n",
        "# t651\n",
        "t651_feed = t651_df.loc[allidx,t651_c['x41']]"
      ],
      "execution_count": 251,
      "outputs": []
    },
    {
      "cell_type": "markdown",
      "metadata": {
        "id": "TQY4nRxZQAGa"
      },
      "source": [
        "# OUTPUT"
      ]
    },
    {
      "cell_type": "code",
      "metadata": {
        "id": "YIKpcrZvQAM0"
      },
      "source": [
        "c620_op = c620_df.loc[allidx,c620_c['density']+c620_c['yRefluxRate']+c620_c['yHeatDuty']+c620_c['yControl']]\n",
        "c620_wt = c620_df.loc[allidx,c620_c['vent_gas_x']+c620_c['distillate_x']+c620_c['sidedraw_x']+c620_c['bottoms_x']]\n",
        "c660_op = c660_df.loc[allidx,c660_c['density']+c660_c['yRefluxRate']+c660_c['yHeatDuty']+c660_c['yControl']]\n",
        "c660_wt = c660_df.loc[allidx,c660_c['vent_gas_x']+c660_c['distillate_x']+c660_c['sidedraw_x']+c660_c['bottoms_x']]\n",
        "c670_op = c670_df.loc[allidx,c670_c['density']+c670_c['yRefluxRate']+c670_c['yHeatDuty']+c670_c['yControl']]\n",
        "c670_wt = c670_df.loc[allidx,c670_c['distillate_x']+c670_c['bottoms_x']]"
      ],
      "execution_count": 252,
      "outputs": []
    },
    {
      "cell_type": "markdown",
      "metadata": {
        "id": "N0U8W0SuQGpA"
      },
      "source": [
        "# CONFIG"
      ]
    },
    {
      "cell_type": "code",
      "metadata": {
        "id": "bJ4nftFlJMjk"
      },
      "source": [
        "config = {\n",
        "      # c620\n",
        "      'c620_G':'/content/drive/MyDrive/台塑輕油案子/data/c620/model/c620_G.pkl',\n",
        "      'c620_F':'/content/drive/MyDrive/台塑輕油案子/data/c620/model/c620_F.pkl',\n",
        "      'c620_op_min':'/content/drive/MyDrive/台塑輕油案子/data/c620/map_dict/c620_op_min.pkl',\n",
        "      'c620_op_max':'/content/drive/MyDrive/台塑輕油案子/data/c620/map_dict/c620_op_max.pkl',\n",
        "\n",
        "      # c660\n",
        "      'c660_G':'/content/drive/MyDrive/台塑輕油案子/data/c620/model/c660_G.pkl',\n",
        "      'c660_F':'/content/drive/MyDrive/台塑輕油案子/data/c620/model/c660_F.pkl',\n",
        "      'c660_op_min':'/content/drive/MyDrive/台塑輕油案子/data/c620/map_dict/c660_op_min.pkl',\n",
        "      'c660_op_max':'/content/drive/MyDrive/台塑輕油案子/data/c620/map_dict/c660_op_max.pkl',\n",
        "\n",
        "      # c670\n",
        "      'c670_M':'/content/drive/MyDrive/台塑輕油案子/data/c620/model/c670.pkl',\n",
        "      \n",
        "      # col_names\n",
        "      'icg_col_path':'/content/drive/MyDrive/台塑輕油案子/data/c620/col_names/icg_col_names.pkl',\n",
        "      'c620_col_path':'/content/drive/MyDrive/台塑輕油案子/data/c620/col_names/c620_col_names.pkl',\n",
        "      'c660_col_path':'/content/drive/MyDrive/台塑輕油案子/data/c620/col_names/c660_col_names.pkl',\n",
        "      'c670_col_path':'/content/drive/MyDrive/台塑輕油案子/data/c620/col_names/c670_col_names.pkl',\n",
        "      \n",
        "      # Special column (0.9999 & 0.0001)\n",
        "      'index_9999_path':'/content/drive/MyDrive/台塑輕油案子/data/c620/cleaned/index_9999.pkl',\n",
        "      'index_0001_path':'/content/drive/MyDrive/台塑輕油案子/data/c620/cleaned/index_0001.pkl',\n",
        "\n",
        "      # sp\n",
        "      'c620_wt_always_same_split_factor_dict':'/content/drive/MyDrive/台塑輕油案子/data/c620/map_dict/c620_wt_always_same_split_factor_dict.pkl',\n",
        "      'c660_wt_always_same_split_factor_dict':'/content/drive/MyDrive/台塑輕油案子/data/c620/map_dict/c660_wt_always_same_split_factor_dict.pkl',\n",
        "      'c670_wt_always_same_split_factor_dict':'/content/drive/MyDrive/台塑輕油案子/data/c620/map_dict/c670_wt_always_same_split_factor_dict.pkl',\n",
        "\n",
        "      'op_fix_model':'/content/drive/MyDrive/台塑輕油案子/data/c620/model/fix_model.pkl',\n",
        "      \n",
        "          }"
      ],
      "execution_count": 253,
      "outputs": []
    },
    {
      "cell_type": "markdown",
      "metadata": {
        "id": "UJEVdVxnQkjM"
      },
      "source": [
        "# 輸入與輸出的對應關係"
      ]
    },
    {
      "cell_type": "code",
      "metadata": {
        "id": "bxuaMmDJQkuR",
        "colab": {
          "base_uri": "https://localhost:8080/",
          "height": 402
        },
        "outputId": "5574e003-05bb-4258-880e-8dccec892e70"
      },
      "source": [
        "# 對應關係1\n",
        "a = icg_input[['Simulation Case Conditions_Spec 1 : Benzene in C620 Sidedraw_wt%']]\n",
        "b = c620_df['Tatoray Stripper C620 Operation_Sidedraw Production Rate and Composition_Benzene_wt%']\n",
        "a.join(b)"
      ],
      "execution_count": 254,
      "outputs": [
        {
          "output_type": "execute_result",
          "data": {
            "text/html": [
              "<div>\n",
              "<style scoped>\n",
              "    .dataframe tbody tr th:only-of-type {\n",
              "        vertical-align: middle;\n",
              "    }\n",
              "\n",
              "    .dataframe tbody tr th {\n",
              "        vertical-align: top;\n",
              "    }\n",
              "\n",
              "    .dataframe thead th {\n",
              "        text-align: right;\n",
              "    }\n",
              "</style>\n",
              "<table border=\"1\" class=\"dataframe\">\n",
              "  <thead>\n",
              "    <tr style=\"text-align: right;\">\n",
              "      <th></th>\n",
              "      <th>Simulation Case Conditions_Spec 1 : Benzene in C620 Sidedraw_wt%</th>\n",
              "      <th>Tatoray Stripper C620 Operation_Sidedraw Production Rate and Composition_Benzene_wt%</th>\n",
              "    </tr>\n",
              "  </thead>\n",
              "  <tbody>\n",
              "    <tr>\n",
              "      <th>012-023</th>\n",
              "      <td>70.0</td>\n",
              "      <td>70.000008</td>\n",
              "    </tr>\n",
              "    <tr>\n",
              "      <th>001-008</th>\n",
              "      <td>90.0</td>\n",
              "      <td>90.000008</td>\n",
              "    </tr>\n",
              "    <tr>\n",
              "      <th>052-017</th>\n",
              "      <td>80.0</td>\n",
              "      <td>79.999992</td>\n",
              "    </tr>\n",
              "    <tr>\n",
              "      <th>127-023</th>\n",
              "      <td>70.0</td>\n",
              "      <td>70.000008</td>\n",
              "    </tr>\n",
              "    <tr>\n",
              "      <th>029-008</th>\n",
              "      <td>90.0</td>\n",
              "      <td>90.000000</td>\n",
              "    </tr>\n",
              "    <tr>\n",
              "      <th>...</th>\n",
              "      <td>...</td>\n",
              "      <td>...</td>\n",
              "    </tr>\n",
              "    <tr>\n",
              "      <th>112-020</th>\n",
              "      <td>70.0</td>\n",
              "      <td>70.000015</td>\n",
              "    </tr>\n",
              "    <tr>\n",
              "      <th>096-026</th>\n",
              "      <td>70.0</td>\n",
              "      <td>70.000015</td>\n",
              "    </tr>\n",
              "    <tr>\n",
              "      <th>059-026</th>\n",
              "      <td>70.0</td>\n",
              "      <td>70.000000</td>\n",
              "    </tr>\n",
              "    <tr>\n",
              "      <th>121-008</th>\n",
              "      <td>90.0</td>\n",
              "      <td>90.000008</td>\n",
              "    </tr>\n",
              "    <tr>\n",
              "      <th>116-017</th>\n",
              "      <td>80.0</td>\n",
              "      <td>80.000000</td>\n",
              "    </tr>\n",
              "  </tbody>\n",
              "</table>\n",
              "<p>1295 rows × 2 columns</p>\n",
              "</div>"
            ],
            "text/plain": [
              "         Simulation Case Conditions_Spec 1 : Benzene in C620 Sidedraw_wt%  Tatoray Stripper C620 Operation_Sidedraw Production Rate and Composition_Benzene_wt%\n",
              "012-023                                               70.0                                                         70.000008                                   \n",
              "001-008                                               90.0                                                         90.000008                                   \n",
              "052-017                                               80.0                                                         79.999992                                   \n",
              "127-023                                               70.0                                                         70.000008                                   \n",
              "029-008                                               90.0                                                         90.000000                                   \n",
              "...                                                    ...                                                               ...                                   \n",
              "112-020                                               70.0                                                         70.000015                                   \n",
              "096-026                                               70.0                                                         70.000015                                   \n",
              "059-026                                               70.0                                                         70.000000                                   \n",
              "121-008                                               90.0                                                         90.000008                                   \n",
              "116-017                                               80.0                                                         80.000000                                   \n",
              "\n",
              "[1295 rows x 2 columns]"
            ]
          },
          "metadata": {
            "tags": []
          },
          "execution_count": 254
        }
      ]
    },
    {
      "cell_type": "code",
      "metadata": {
        "id": "7yx3ge6_RlJ1",
        "colab": {
          "base_uri": "https://localhost:8080/",
          "height": 402
        },
        "outputId": "1dafccdc-9464-43e0-af31-c93f42ba66d4"
      },
      "source": [
        "#對應關係2\n",
        "a = icg_input[['Simulation Case Conditions_Spec 2 : NA in Benzene_ppmw']]\n",
        "na_idx = [1,2,3,4,5,6,8,9,11,13,14,15,20,22,29] \n",
        "b = c660_wt.filter(regex='Side').filter(regex='wt%').iloc[:,na_idx].sum(axis=1)*10000\n",
        "b.name = 'c660_wt_NA_in_Benzene_ppmw'\n",
        "a.join(b)"
      ],
      "execution_count": 255,
      "outputs": [
        {
          "output_type": "execute_result",
          "data": {
            "text/html": [
              "<div>\n",
              "<style scoped>\n",
              "    .dataframe tbody tr th:only-of-type {\n",
              "        vertical-align: middle;\n",
              "    }\n",
              "\n",
              "    .dataframe tbody tr th {\n",
              "        vertical-align: top;\n",
              "    }\n",
              "\n",
              "    .dataframe thead th {\n",
              "        text-align: right;\n",
              "    }\n",
              "</style>\n",
              "<table border=\"1\" class=\"dataframe\">\n",
              "  <thead>\n",
              "    <tr style=\"text-align: right;\">\n",
              "      <th></th>\n",
              "      <th>Simulation Case Conditions_Spec 2 : NA in Benzene_ppmw</th>\n",
              "      <th>c660_wt_NA_in_Benzene_ppmw</th>\n",
              "    </tr>\n",
              "  </thead>\n",
              "  <tbody>\n",
              "    <tr>\n",
              "      <th>012-023</th>\n",
              "      <td>860.0</td>\n",
              "      <td>859.993319</td>\n",
              "    </tr>\n",
              "    <tr>\n",
              "      <th>001-008</th>\n",
              "      <td>920.0</td>\n",
              "      <td>920.004159</td>\n",
              "    </tr>\n",
              "    <tr>\n",
              "      <th>052-017</th>\n",
              "      <td>920.0</td>\n",
              "      <td>920.010937</td>\n",
              "    </tr>\n",
              "    <tr>\n",
              "      <th>127-023</th>\n",
              "      <td>950.0</td>\n",
              "      <td>949.970144</td>\n",
              "    </tr>\n",
              "    <tr>\n",
              "      <th>029-008</th>\n",
              "      <td>920.0</td>\n",
              "      <td>920.006208</td>\n",
              "    </tr>\n",
              "    <tr>\n",
              "      <th>...</th>\n",
              "      <td>...</td>\n",
              "      <td>...</td>\n",
              "    </tr>\n",
              "    <tr>\n",
              "      <th>112-020</th>\n",
              "      <td>980.0</td>\n",
              "      <td>979.995729</td>\n",
              "    </tr>\n",
              "    <tr>\n",
              "      <th>096-026</th>\n",
              "      <td>800.0</td>\n",
              "      <td>800.000302</td>\n",
              "    </tr>\n",
              "    <tr>\n",
              "      <th>059-026</th>\n",
              "      <td>920.0</td>\n",
              "      <td>920.001909</td>\n",
              "    </tr>\n",
              "    <tr>\n",
              "      <th>121-008</th>\n",
              "      <td>920.0</td>\n",
              "      <td>919.996604</td>\n",
              "    </tr>\n",
              "    <tr>\n",
              "      <th>116-017</th>\n",
              "      <td>920.0</td>\n",
              "      <td>919.974821</td>\n",
              "    </tr>\n",
              "  </tbody>\n",
              "</table>\n",
              "<p>1295 rows × 2 columns</p>\n",
              "</div>"
            ],
            "text/plain": [
              "         Simulation Case Conditions_Spec 2 : NA in Benzene_ppmw  c660_wt_NA_in_Benzene_ppmw\n",
              "012-023                                              860.0                       859.993319\n",
              "001-008                                              920.0                       920.004159\n",
              "052-017                                              920.0                       920.010937\n",
              "127-023                                              950.0                       949.970144\n",
              "029-008                                              920.0                       920.006208\n",
              "...                                                    ...                              ...\n",
              "112-020                                              980.0                       979.995729\n",
              "096-026                                              800.0                       800.000302\n",
              "059-026                                              920.0                       920.001909\n",
              "121-008                                              920.0                       919.996604\n",
              "116-017                                              920.0                       919.974821\n",
              "\n",
              "[1295 rows x 2 columns]"
            ]
          },
          "metadata": {
            "tags": []
          },
          "execution_count": 255
        }
      ]
    },
    {
      "cell_type": "code",
      "metadata": {
        "id": "XUQ4UKYVRlPO",
        "colab": {
          "base_uri": "https://localhost:8080/",
          "height": 402
        },
        "outputId": "4e853963-b072-443e-eee6-c6859fdba9ec"
      },
      "source": [
        "#對應關係3\n",
        "a = icg_input[['Benzene Column C660 Operation_Specifications_Spec 3 : Toluene in Benzene_ppmw']]\n",
        "b = c660_df['Benzene Column C660 Operation_Sidedraw (Benzene )Production Rate and Composition_Toluene_wt%']*10000\n",
        "a.join(b)"
      ],
      "execution_count": 256,
      "outputs": [
        {
          "output_type": "execute_result",
          "data": {
            "text/html": [
              "<div>\n",
              "<style scoped>\n",
              "    .dataframe tbody tr th:only-of-type {\n",
              "        vertical-align: middle;\n",
              "    }\n",
              "\n",
              "    .dataframe tbody tr th {\n",
              "        vertical-align: top;\n",
              "    }\n",
              "\n",
              "    .dataframe thead th {\n",
              "        text-align: right;\n",
              "    }\n",
              "</style>\n",
              "<table border=\"1\" class=\"dataframe\">\n",
              "  <thead>\n",
              "    <tr style=\"text-align: right;\">\n",
              "      <th></th>\n",
              "      <th>Benzene Column C660 Operation_Specifications_Spec 3 : Toluene in Benzene_ppmw</th>\n",
              "      <th>Benzene Column C660 Operation_Sidedraw (Benzene )Production Rate and Composition_Toluene_wt%</th>\n",
              "    </tr>\n",
              "  </thead>\n",
              "  <tbody>\n",
              "    <tr>\n",
              "      <th>012-023</th>\n",
              "      <td>10.000074</td>\n",
              "      <td>10.000074</td>\n",
              "    </tr>\n",
              "    <tr>\n",
              "      <th>001-008</th>\n",
              "      <td>2.500000</td>\n",
              "      <td>2.500000</td>\n",
              "    </tr>\n",
              "    <tr>\n",
              "      <th>052-017</th>\n",
              "      <td>5.000856</td>\n",
              "      <td>5.000856</td>\n",
              "    </tr>\n",
              "    <tr>\n",
              "      <th>127-023</th>\n",
              "      <td>5.000000</td>\n",
              "      <td>5.000000</td>\n",
              "    </tr>\n",
              "    <tr>\n",
              "      <th>029-008</th>\n",
              "      <td>10.000004</td>\n",
              "      <td>10.000004</td>\n",
              "    </tr>\n",
              "    <tr>\n",
              "      <th>...</th>\n",
              "      <td>...</td>\n",
              "      <td>...</td>\n",
              "    </tr>\n",
              "    <tr>\n",
              "      <th>112-020</th>\n",
              "      <td>10.000116</td>\n",
              "      <td>10.000116</td>\n",
              "    </tr>\n",
              "    <tr>\n",
              "      <th>096-026</th>\n",
              "      <td>5.000002</td>\n",
              "      <td>5.000002</td>\n",
              "    </tr>\n",
              "    <tr>\n",
              "      <th>059-026</th>\n",
              "      <td>9.999970</td>\n",
              "      <td>9.999970</td>\n",
              "    </tr>\n",
              "    <tr>\n",
              "      <th>121-008</th>\n",
              "      <td>2.500000</td>\n",
              "      <td>2.500000</td>\n",
              "    </tr>\n",
              "    <tr>\n",
              "      <th>116-017</th>\n",
              "      <td>5.000000</td>\n",
              "      <td>5.000000</td>\n",
              "    </tr>\n",
              "  </tbody>\n",
              "</table>\n",
              "<p>1295 rows × 2 columns</p>\n",
              "</div>"
            ],
            "text/plain": [
              "         Benzene Column C660 Operation_Specifications_Spec 3 : Toluene in Benzene_ppmw  Benzene Column C660 Operation_Sidedraw (Benzene )Production Rate and Composition_Toluene_wt%\n",
              "012-023                                          10.000074                                                                      10.000074                                           \n",
              "001-008                                           2.500000                                                                       2.500000                                           \n",
              "052-017                                           5.000856                                                                       5.000856                                           \n",
              "127-023                                           5.000000                                                                       5.000000                                           \n",
              "029-008                                          10.000004                                                                      10.000004                                           \n",
              "...                                                    ...                                                                            ...                                           \n",
              "112-020                                          10.000116                                                                      10.000116                                           \n",
              "096-026                                           5.000002                                                                       5.000002                                           \n",
              "059-026                                           9.999970                                                                       9.999970                                           \n",
              "121-008                                           2.500000                                                                       2.500000                                           \n",
              "116-017                                           5.000000                                                                       5.000000                                           \n",
              "\n",
              "[1295 rows x 2 columns]"
            ]
          },
          "metadata": {
            "tags": []
          },
          "execution_count": 256
        }
      ]
    },
    {
      "cell_type": "code",
      "metadata": {
        "id": "CoUcarIY6_XN"
      },
      "source": [
        "class AllSystem(object):\n",
        "  def __init__(self,config):\n",
        "    \n",
        "    # C620 部份\n",
        "    self.c620_G = joblib.load(config['c620_G'])\n",
        "    self.c620_F = joblib.load(config['c620_F'])\n",
        "    self.c620_op_min = joblib.load(config['c620_op_min'])\n",
        "    self.c620_op_max = joblib.load(config['c620_op_max'])\n",
        "    \n",
        "    # C660 部份\n",
        "    self.c660_G = joblib.load(config['c660_G'])\n",
        "    self.c660_F = joblib.load(config['c660_F'])\n",
        "    self.c660_op_min = joblib.load(config['c660_op_min'])\n",
        "    self.c660_op_max = joblib.load(config['c660_op_max'])\n",
        "\n",
        "    # C670 部份\n",
        "    self.c670_M = joblib.load(config['c670_M'])\n",
        "    \n",
        "    # 修正模組修正模擬模跟現場數據間的差異\n",
        "    self.op_fix_model = joblib.load(config['op_fix_model'])\n",
        "\n",
        "    # 欄位名稱(全名)\n",
        "    self.icg_col = joblib.load(config['icg_col_path'])\n",
        "    self.c620_col = joblib.load(config['c620_col_path'])\n",
        "    self.c660_col = joblib.load(config['c660_col_path'])\n",
        "    self.c670_col = joblib.load(config['c670_col_path'])\n",
        "    \n",
        "    # 其他資訊\n",
        "    self.c620_wt_always_same_split_factor_dict = joblib.load(config['c620_wt_always_same_split_factor_dict'])\n",
        "    self.c660_wt_always_same_split_factor_dict = joblib.load(config['c660_wt_always_same_split_factor_dict'])\n",
        "    self.c670_wt_always_same_split_factor_dict = joblib.load(config['c670_wt_always_same_split_factor_dict'])\n",
        "    self.index_9999 = joblib.load(config['index_9999_path'])\n",
        "    self.index_0001 = joblib.load(config['index_0001_path'])\n",
        "    self.e = 1e-8 #小值\n",
        "\n",
        "    # 廠區提供密度\n",
        "    self.V615_density = 0.8626\n",
        "    self.C820_density = 0.8731\n",
        "    self.T651_density = 0.8749\n",
        "\n",
        "    # 廠區通常調整欄位\n",
        "    self.c620_op_col_can_change = ['Tatoray Stripper C620 Operation_Column Temp Profile_C620 Tray 14 (Control)_oC','Tatoray Stripper C620 Operation_Column Temp Profile_C620 Tray 34 (Control)_oC']\n",
        "    self.c660_op_col_can_change = ['Benzene Column C660 Operation_Column Temp Profile_C660 Tray 6 (SD & Control)_oC','Benzene Column C660 Operation_Column Temp Profile_C660 Tray 23 (Control)_oC']\n",
        "  \n",
        "  def inference(self,icg_input,c620_feed,t651_feed,real_data_mode=False):\n",
        "    idx = icg_input.index\n",
        "    # 計算c620_case\n",
        "    c620_case = pd.DataFrame(index=idx,columns=self.c620_col['case'])\n",
        "    c620_case['Tatoray Stripper C620 Operation_Specifications_Spec 1 : Receiver Temp_oC'] = icg_input['Tatoray Stripper C620 Operation_Specifications_Spec 1 : Receiver Temp_oC'].values\n",
        "    c620_case['Tatoray Stripper C620 Operation_Specifications_Spec 2 : Distillate Rate_m3/hr'] = icg_input['Tatoray Stripper C620 Operation_Specifications_Spec 2 : Distillate Rate_m3/hr'].values\n",
        "    c620_case['Tatoray Stripper C620 Operation_Specifications_Spec 3 : Benzene in Sidedraw_wt%'] = icg_input['Simulation Case Conditions_Spec 1 : Benzene in C620 Sidedraw_wt%'].values\n",
        "    # 預測操作條件和分離係數\n",
        "    c620_op = self.c620_G.predict(c620_case.join(c620_feed))\n",
        "    \n",
        "    c620_sp = self.c620_F.predict(c620_case.join(c620_feed).join(c620_op))\n",
        "    # 計算組成\n",
        "    s1,s2,s3,s4 = c620_sp.iloc[:,:41].values,c620_sp.iloc[:,41:41*2].values,c620_sp.iloc[:,41*2:41*3].values,c620_sp.iloc[:,41*3:41*4].values\n",
        "    w1,w2,w3,w4 = sp2wt(c620_feed,s1),sp2wt(c620_feed,s2),sp2wt(c620_feed,s3),sp2wt(c620_feed,s4)\n",
        "    wt = np.hstack((w1,w2,w3,w4))\n",
        "    c620_wt = pd.DataFrame(wt,index=idx,columns=self.c620_col['vent_gas_x']+self.c620_col['distillate_x']+self.c620_col['sidedraw_x']+self.c620_col['bottoms_x'])\n",
        "    \n",
        "    #c660\n",
        "    #計算c660_feed\n",
        "    V615_Btm_m3 = icg_input['Simulation Case Conditions_Feed Rate_Feed from V615 Btm_m3/hr'].values.reshape(-1,1)\n",
        "    C820_Dist_m3 = icg_input['Simulation Case Conditions_Feed Rate_Feed from C820 Dist_m3/hr'].values.reshape(-1,1)\n",
        "    V615_Btm_ton = V615_Btm_m3*self.V615_density\n",
        "    C820_Dist_ton = C820_Dist_m3*self.C820_density\n",
        "    c620_feed_rate_ton = V615_Btm_ton+C820_Dist_ton\n",
        "    c620_mf_side = np.sum(c620_feed_rate_ton*c620_feed.values*s3*0.01,axis=1,keepdims=True)\n",
        "    c620_mf_bot = np.sum(c620_feed_rate_ton*c620_feed.values*s4*0.01,axis=1,keepdims=True)\n",
        "    t651_mf = (icg_input['Simulation Case Conditions_Feed Rate_Feed from T651_m3/hr']*self.T651_density).values.reshape(-1,1)\n",
        "    c660_mf = t651_mf + c620_mf_side\n",
        "    t651_mf_p ,c620_mf_side_p = t651_mf/c660_mf ,c620_mf_side/c660_mf\n",
        "    c660_feed = c620_wt[self.c620_col['sidedraw_x']].values*c620_mf_side_p + t651_feed.values*t651_mf_p\n",
        "    c660_feed = pd.DataFrame(c660_feed,index=idx,columns=self.c660_col['x41'])\n",
        "    # 計算c660_case\n",
        "    c660_case = pd.DataFrame(index=idx,columns=self.c660_col['case'])\n",
        "    c660_case['Benzene Column C660 Operation_Specifications_Spec 2 : NA in Benzene_ppmw'] = icg_input['Simulation Case Conditions_Spec 2 : NA in Benzene_ppmw'].values\n",
        "    c660_case['Benzene Column C660 Operation_Specifications_Spec 3 : Toluene in Benzene_ppmw'] = icg_input['Benzene Column C660 Operation_Specifications_Spec 3 : Toluene in Benzene_ppmw'].values\n",
        "    # 預測操作條件和分離係數\n",
        "    c660_op = self.c660_G.predict(c660_case.join(c660_feed))\n",
        "    \n",
        "    c660_sp = self.c660_F.predict(c660_case.join(c660_feed).join(c660_op))\n",
        "    # 計算組成\n",
        "    s1,s2,s3,s4 = c660_sp.iloc[:,:41].values,c660_sp.iloc[:,41:41*2].values,c660_sp.iloc[:,41*2:41*3].values,c660_sp.iloc[:,41*3:41*4].values\n",
        "    w1,w2,w3,w4 = sp2wt(c660_feed,s1),sp2wt(c660_feed,s2),sp2wt(c660_feed,s3),sp2wt(c660_feed,s4)\n",
        "    wt = np.hstack((w1,w2,w3,w4))\n",
        "    c660_wt = pd.DataFrame(wt,index=idx,columns=self.c660_col['vent_gas_x']+self.c660_col['distillate_x']+self.c660_col['sidedraw_x']+self.c660_col['bottoms_x'])\n",
        "    \n",
        "    #c670\n",
        "    # 計算c670_feed\n",
        "    c660_mf_bot = np.sum(c660_mf*c660_feed.values*s4*0.01,axis=1,keepdims=True)\n",
        "    c670_mf = c620_mf_bot + c660_mf_bot\n",
        "    c620_mf_bot_p,c660_mf_bot_p = c620_mf_bot/c670_mf , c660_mf_bot/c670_mf\n",
        "    c670_feed = c620_wt[self.c620_col['bottoms_x']].values*c620_mf_bot_p + c660_wt[self.c660_col['bottoms_x']].values*c660_mf_bot_p\n",
        "    c670_feed = pd.DataFrame(c670_feed,index=idx,columns=self.c670_col['combined'])\n",
        "    # 計算c670_upper_bf\n",
        "    c670_bf = pd.DataFrame(index=idx,columns=self.c670_col['upper_bf'])\n",
        "    c620_bot_x = c620_wt[self.c620_col['bottoms_x']].values\n",
        "    c660_bot_x = c660_wt[self.c660_col['bottoms_x']].values\n",
        "    upper_bf = (c660_bot_x*c660_mf_bot)/(c620_bot_x*c620_mf_bot+c660_bot_x*c660_mf_bot)\n",
        "    upper_bf = pd.DataFrame(upper_bf,index=idx,columns=self.c670_col['upper_bf'])\n",
        "    upper_bf[list(set(self.index_9999)&set(upper_bf.columns))] = 0.9999\n",
        "    upper_bf[list(set(self.index_0001)&set(upper_bf.columns))] = 0.0001\n",
        "    # 直接預測分離係數和操作條件\n",
        "    c670_output = self.c670_M.predict(c670_feed.join(upper_bf))\n",
        "    c670_sp,c670_op = c670_output.iloc[:,:41*2],c670_output.iloc[:,41*2:]    \n",
        "    # 計算輸出組成\n",
        "    s1 = c670_sp[self.c670_col['distillate_sf']].values\n",
        "    s2 = c670_sp[self.c670_col['bottoms_sf']].values\n",
        "    w1 = sp2wt(c670_feed,s1)\n",
        "    w2 = sp2wt(c670_feed,s2)\n",
        "    c670_wt = np.hstack((w1,w2))\n",
        "    c670_wt = pd.DataFrame(c670_wt,index = idx,columns=self.c670_col['distillate_x']+self.c670_col['bottoms_x'])\n",
        "    \n",
        "    # 是否修正操作條件 for 現場數據\n",
        "    if real_data_mode == False:\n",
        "      return c620_wt,c620_op,c660_wt,c660_op,c670_wt,c670_op\n",
        "    \n",
        "    if real_data_mode == True:\n",
        "      # 有些欄位現場數據沒有\n",
        "      c620_op_col = c620_op.drop(['Tatoray Stripper C620 Operation_Heat Duty_Condenser Heat Duty_Mkcal/hr',\n",
        "                                 'Tatoray Stripper C620 Operation_Heat Duty_Reboiler Heat Duty_Mkcal/hr'],\n",
        "                                 axis=1).columns.tolist()\n",
        "      c660_op_col = c660_op.drop(['Benzene Column C660 Operation_Heat Duty_Condenser Heat Duty_Mkcal/hr',\n",
        "                                 'Benzene Column C660 Operation_Heat Duty_Reboiler Heat Duty_Mkcal/hr'],\n",
        "                                 axis=1).columns.tolist()\n",
        "      c670_op_col = c670_op.drop(['Toluene Column C670 Operation_Heat Duty_Condenser Heat Duty_Mkcal/hr',\n",
        "                                 'Toluene Column C670 Operation_Heat Duty_Reboiler Heat Duty_Mkcal/hr'],\n",
        "                                 axis=1).columns.tolist()\n",
        "      \n",
        "      # 經過修正模組修正op\n",
        "      op_pred = self.op_fix_model(torch.cat((\n",
        "        torch.FloatTensor(c620_op[c620_op_col].values),\n",
        "        torch.FloatTensor(c660_op[c660_op_col].values),\n",
        "        torch.FloatTensor(c670_op[c670_op_col].values)),dim=1))\n",
        "      op_pred = pd.DataFrame(op_pred.detach().numpy(),index=idx)\n",
        "      \n",
        "      # 新的op\n",
        "      new_c620_op = op_pred.iloc[:,:8]\n",
        "      new_c660_op = op_pred.iloc[:,8:16]\n",
        "      new_c670_op = op_pred.iloc[:,-5:]\n",
        "      new_c620_op.columns = c620_op_col\n",
        "      new_c660_op.columns = c660_op_col\n",
        "      new_c670_op.columns = c670_op_col\n",
        "      \n",
        "      # 更新op\n",
        "      c620_op.update(new_c620_op)\n",
        "      c660_op.update(new_c660_op)\n",
        "      c670_op.update(new_c670_op)\n",
        "      \n",
        "      return c620_wt,c620_op,c660_wt,c660_op,c670_wt,c670_op\n",
        "  \n",
        "  def recommend(self,icg_input,c620_feed,t651_feed,search_iteration=300,real_data_mode=False,auto_set_x0=False):\n",
        "    \n",
        "    # 先試算一遍\n",
        "    idx = icg_input.index\n",
        "    c620_wt,c620_op,c660_wt,c660_op,c670_wt,c670_op = self.inference(icg_input,c620_feed,t651_feed)\n",
        "    \n",
        "    # 是否要自動設置 70,980,10 , 否則的話使用者可以自行設定 例如,80,990,15 都可以\n",
        "    if auto_set_x0 == True:\n",
        "      icg_input['Tatoray Stripper C620 Operation_Specifications_Spec 3 : Benzene in Sidedraw_wt%'] = 70\n",
        "      icg_input['Simulation Case Conditions_Spec 2 : NA in Benzene_ppmw'] = 980\n",
        "      icg_input['Benzene Column C660 Operation_Specifications_Spec 3 : Toluene in Benzene_ppmw'] = 10\n",
        "      print('===================auto_set_x0=====================================')\n",
        "      print('icg_input[Tatoray Stripper C620 Operation_Specifications_Spec 3 : Benzene in Sidedraw_wt%] = 70')\n",
        "      print('icg_input[Simulation Case Conditions_Spec 2 : NA in Benzene_ppmw] = 980')\n",
        "      print('icg_input[Benzene Column C660 Operation_Specifications_Spec 3 : Toluene in Benzene_ppmw] = 10')\n",
        "      \n",
        "    # c620 case初始設置\n",
        "    c620_case = pd.DataFrame(index=idx,columns=self.c620_col['case'])\n",
        "    c620_case['Tatoray Stripper C620 Operation_Specifications_Spec 1 : Receiver Temp_oC'] = icg_input['Tatoray Stripper C620 Operation_Specifications_Spec 1 : Receiver Temp_oC'].values\n",
        "    c620_case['Tatoray Stripper C620 Operation_Specifications_Spec 2 : Distillate Rate_m3/hr'] = icg_input['Tatoray Stripper C620 Operation_Specifications_Spec 2 : Distillate Rate_m3/hr'].values\n",
        "    c620_case['Tatoray Stripper C620 Operation_Specifications_Spec 3 : Benzene in Sidedraw_wt%'] = icg_input['Simulation Case Conditions_Spec 1 : Benzene in C620 Sidedraw_wt%'].values\n",
        "    \n",
        "    # c660 case初始設置\n",
        "    c660_case = pd.DataFrame(index=idx,columns=self.c660_col['case'])\n",
        "    c660_case['Benzene Column C660 Operation_Specifications_Spec 2 : NA in Benzene_ppmw'] = icg_input['Simulation Case Conditions_Spec 2 : NA in Benzene_ppmw'].values\n",
        "    c660_case['Benzene Column C660 Operation_Specifications_Spec 3 : Toluene in Benzene_ppmw'] = icg_input['Benzene Column C660 Operation_Specifications_Spec 3 : Toluene in Benzene_ppmw'].values\n",
        "\n",
        "    # 操作欄位全名列表\n",
        "    c620_op_col = c620_op.columns.tolist()\n",
        "    c660_op_col = c660_op.columns.tolist()\n",
        "    c670_op_col = c670_op.columns.tolist()\n",
        "    \n",
        "    # 目標函數 \n",
        "    def objective(trial):\n",
        "      \n",
        "      # 1.調整c620的操作\n",
        "      c620_op_opt_dict = {}\n",
        "      for name in c620_op_col:\n",
        "        if name in self.c620_op_col_can_change:\n",
        "          c620_op_opt_dict[name] = trial.suggest_uniform(name,self.c620_op_min[name],self.c620_op_max[name])\n",
        "        else:\n",
        "          c620_op_opt_dict[name] = c620_op[name].values[0] \n",
        "      c620_op_opt = pd.DataFrame(c620_op_opt_dict,index=idx)\n",
        "\n",
        "      # 2.調整c660的操作\n",
        "      c660_op_opt_dict = {}\n",
        "      for name in c660_op_col:\n",
        "        if name in self.c660_op_col_can_change:\n",
        "          c660_op_opt_dict[name] = trial.suggest_uniform(name,self.c660_op_min[name],self.c660_op_max[name])\n",
        "        else:\n",
        "          c660_op_opt_dict[name] = c660_op[name].values[0] \n",
        "      c660_op_opt = pd.DataFrame(c660_op_opt_dict,index=idx)\n",
        "\n",
        "      # 3.在dist_rate這個欄位上做調整,根據廠區需求 dist rate 愈小愈好 範圍落在[0,10.25]\n",
        "      dist_rate = trial.suggest_float('Tatoray Stripper C620 Operation_Specifications_Spec 2 : Distillate Rate_m3/hr',0,10.25)\n",
        "      c620_case['Tatoray Stripper C620 Operation_Specifications_Spec 2 : Distillate Rate_m3/hr'] = dist_rate\n",
        "      \n",
        "      # 4.計算c620_wt\n",
        "      c620_sp = self.c620_F.predict(c620_case.join(c620_feed).join(c620_op_opt))\n",
        "      s1,s2,s3,s4 = c620_sp.iloc[:,:41].values,c620_sp.iloc[:,41:41*2].values,c620_sp.iloc[:,41*2:41*3].values,c620_sp.iloc[:,41*3:41*4].values\n",
        "      w1,w2,w3,w4 = sp2wt(c620_feed,s1),sp2wt(c620_feed,s2),sp2wt(c620_feed,s3),sp2wt(c620_feed,s4)\n",
        "      wt = np.hstack((w1,w2,w3,w4))\n",
        "      c620_wt = pd.DataFrame(wt,index=idx,columns=self.c620_col['vent_gas_x']+self.c620_col['distillate_x']+self.c620_col['sidedraw_x']+self.c620_col['bottoms_x'])\n",
        "      \n",
        "      # 5.從c620_wt預測結果計算bz誤差(輸入端和輸出端要一致)\n",
        "      輸入端bz = c620_case['Tatoray Stripper C620 Operation_Specifications_Spec 3 : Benzene in Sidedraw_wt%'].values[0]\n",
        "      輸出端bz = c620_wt['Tatoray Stripper C620 Operation_Sidedraw Production Rate and Composition_Benzene_wt%'].values[0]\n",
        "      loss1 = abs(輸入端bz - 輸出端bz) / 輸入端bz  \n",
        "      \n",
        "      # 6.鼓勵dist_rate接近於一個非常小的值\n",
        "      loss2 = abs(dist_rate - self.e) / dist_rate\n",
        "\n",
        "      # 7.計算c660_combined_feed_wt\n",
        "      V615_Btm_m3 = icg_input['Simulation Case Conditions_Feed Rate_Feed from V615 Btm_m3/hr'].values.reshape(-1,1) #體積流量\n",
        "      C820_Dist_m3 = icg_input['Simulation Case Conditions_Feed Rate_Feed from C820 Dist_m3/hr'].values.reshape(-1,1) #體積流量\n",
        "      V615_Btm_ton = V615_Btm_m3*self.V615_density # 體積流量轉重量流量\n",
        "      C820_Dist_ton = C820_Dist_m3*self.C820_density # 體積流量轉重量流量\n",
        "      c620_feed_rate_ton = V615_Btm_ton+C820_Dist_ton # 兩股油相加得到c620總入料重量流量\n",
        "      c620_mf_side = np.sum(c620_feed_rate_ton*c620_feed.values*s3*0.01,axis=1,keepdims=True) # c620_side流量\n",
        "      c620_mf_bot = np.sum(c620_feed_rate_ton*c620_feed.values*s4*0.01,axis=1,keepdims=True) # c620_bott流量\n",
        "      t651_mf = (icg_input['Simulation Case Conditions_Feed Rate_Feed from T651_m3/hr']*self.T651_density).values.reshape(-1,1) # t651重量流量\n",
        "      c660_mf = t651_mf + c620_mf_side # 兩股相加得到c660入料重量流量\n",
        "      t651_mf_p ,c620_mf_side_p = t651_mf/c660_mf ,c620_mf_side/c660_mf # 兩股油源的占比百分比\n",
        "      c660_feed = c620_wt[self.c620_col['sidedraw_x']].values*c620_mf_side_p + t651_feed.values*t651_mf_p #計算c660入料組成\n",
        "      c660_feed = pd.DataFrame(c660_feed,index=idx,columns=self.c660_col['x41'])\n",
        "\n",
        "      # 8.取代ICG功能 歷史數據中NA in Benzene_ppmw範圍落在 [800~980] 在這個範圍內搜索即可\n",
        "      輸入端nainbz =  trial.suggest_float('Simulation Case Conditions_Spec 2 : NA in Benzene_ppmw',800,980)\n",
        "      c660_case['Benzene Column C660 Operation_Specifications_Spec 2 : NA in Benzene_ppmw'] = 輸入端nainbz\n",
        "      \n",
        "      # 9.這裡設定輸入端tol為一個數值,可以是使用者給定或是開啟auto_set_x0 = True 則自動設置為10\n",
        "      輸入端tol = icg_input['Benzene Column C660 Operation_Specifications_Spec 3 : Toluene in Benzene_ppmw'].values[0]\n",
        "      \n",
        "      # 10.計算c660_wt\n",
        "      c660_sp = self.c660_F.predict(c660_case.join(c660_feed).join(c660_op_opt))\n",
        "      s1,s2,s3,s4 = c660_sp.iloc[:,:41].values,c660_sp.iloc[:,41:41*2].values,c660_sp.iloc[:,41*2:41*3].values,c660_sp.iloc[:,41*3:41*4].values\n",
        "      w1,w2,w3,w4 = sp2wt(c660_feed,s1),sp2wt(c660_feed,s2),sp2wt(c660_feed,s3),sp2wt(c660_feed,s4)\n",
        "      wt = np.hstack((w1,w2,w3,w4))\n",
        "      c660_wt = pd.DataFrame(wt,index=idx,columns=self.c660_col['vent_gas_x']+self.c660_col['distillate_x']+self.c660_col['sidedraw_x']+self.c660_col['bottoms_x'])\n",
        "\n",
        "      # 11.根據預測的c660_wt 計算誤差 NA in Benzene_ppmw誤差 和 Toluene in Benzene_ppmw 誤差\n",
        "      na_idx = [1,2,3,4,5,6,8,9,11,13,14,15,20,22,29] \n",
        "      輸出端nainbz = c660_wt.filter(regex='Side').filter(regex='wt%').iloc[:,na_idx].sum(axis=1).values[0]*10000\n",
        "      輸出端tol = c660_wt['Benzene Column C660 Operation_Sidedraw (Benzene )Production Rate and Composition_Toluene_wt%'].values[0]*10000\n",
        "      loss3 = abs(輸入端nainbz - 輸出端nainbz) / 輸入端nainbz\n",
        "      loss4 = abs(輸入端tol - 輸出端tol) / 輸入端tol\n",
        "\n",
        "      # 誤差加總返回\n",
        "      return loss1 + loss2 + loss3 + loss4\n",
        "    \n",
        "    # cma-es給定優化初始值x0\n",
        "    x0 = {}\n",
        "    for name in c620_op_col:\n",
        "      x0[name] = c620_op[name].values[0]\n",
        "    for name in c660_op_col:\n",
        "      x0[name] = c660_op[name].values[0]\n",
        "    x0['Tatoray Stripper C620 Operation_Specifications_Spec 2 : Distillate Rate_m3/hr'] = icg_input['Tatoray Stripper C620 Operation_Specifications_Spec 2 : Distillate Rate_m3/hr'].values[0]\n",
        "    x0['Simulation Case Conditions_Spec 2 : NA in Benzene_ppmw'] = icg_input['Simulation Case Conditions_Spec 2 : NA in Benzene_ppmw'].values[0]\n",
        "    \n",
        "    # cma-es 開始優化\n",
        "    sampler = optuna.samplers.CmaEsSampler(x0=x0)\n",
        "    study = optuna.create_study(sampler=sampler)\n",
        "    study.optimize(objective, n_trials = search_iteration)\n",
        "    \n",
        "    # 優化完畢給出可能是最優的參數\n",
        "    params_df = pd.DataFrame(study.best_params,index=idx,columns=\n",
        "                             c620_op_col+c660_op_col+\n",
        "                             ['Tatoray Stripper C620 Operation_Specifications_Spec 2 : Distillate Rate_m3/hr',\n",
        "                              'Simulation Case Conditions_Spec 2 : NA in Benzene_ppmw']\n",
        "                             )\n",
        "    \n",
        "    # 1.最優的c620_op操作 \n",
        "    c620_op_opt = c620_op.drop(self.c620_op_col_can_change,axis=1).join(params_df[c620_op_col][self.c620_op_col_can_change])\n",
        "    # 2.最優的c660_op操作\n",
        "    c660_op_opt = c660_op.drop(self.c660_op_col_can_change,axis=1).join(params_df[c660_op_col][self.c660_op_col_can_change])\n",
        "    # 3.最優的dist rate\n",
        "    c620_case['Tatoray Stripper C620 Operation_Specifications_Spec 2 : Distillate Rate_m3/hr'] = params_df['Tatoray Stripper C620 Operation_Specifications_Spec 2 : Distillate Rate_m3/hr']\n",
        "    # 4.最優的NA in Benzene_ppmw\n",
        "    c660_case['Benzene Column C660 Operation_Specifications_Spec 2 : NA in Benzene_ppmw'] = params_df['Simulation Case Conditions_Spec 2 : NA in Benzene_ppmw']\n",
        "    \n",
        "    # 計算c620_wt\n",
        "    c620_sp = self.c620_F.predict(c620_case.join(c620_feed).join(c620_op_opt))\n",
        "    s1,s2,s3,s4 = c620_sp.iloc[:,:41].values,c620_sp.iloc[:,41:41*2].values,c620_sp.iloc[:,41*2:41*3].values,c620_sp.iloc[:,41*3:41*4].values\n",
        "    w1,w2,w3,w4 = sp2wt(c620_feed,s1),sp2wt(c620_feed,s2),sp2wt(c620_feed,s3),sp2wt(c620_feed,s4)\n",
        "    wt = np.hstack((w1,w2,w3,w4))\n",
        "    c620_wt = pd.DataFrame(wt,index=idx,columns=self.c620_col['vent_gas_x']+self.c620_col['distillate_x']+self.c620_col['sidedraw_x']+self.c620_col['bottoms_x'])\n",
        "    \n",
        "    # 計算bz誤差\n",
        "    輸入端bz = icg_input['Simulation Case Conditions_Spec 1 : Benzene in C620 Sidedraw_wt%'].values[0]\n",
        "    輸出端bz = c620_wt['Tatoray Stripper C620 Operation_Sidedraw Production Rate and Composition_Benzene_wt%'].values[0]\n",
        "    bz_error = abs(輸入端bz-輸出端bz)\n",
        "    \n",
        "    # 計算c660_feed\n",
        "    V615_Btm_m3 = icg_input['Simulation Case Conditions_Feed Rate_Feed from V615 Btm_m3/hr'].values.reshape(-1,1)\n",
        "    C820_Dist_m3 = icg_input['Simulation Case Conditions_Feed Rate_Feed from C820 Dist_m3/hr'].values.reshape(-1,1)\n",
        "    V615_Btm_ton = V615_Btm_m3*self.V615_density # 體積流量轉重量流量\n",
        "    C820_Dist_ton = C820_Dist_m3*self.C820_density # 體積流量轉重量流量\n",
        "    c620_feed_rate_ton = V615_Btm_ton+C820_Dist_ton # 兩股相加得到c620總入料重量流量\n",
        "    c620_mf_side = np.sum(c620_feed_rate_ton*c620_feed.values*s3*0.01,axis=1,keepdims=True) # c620_side 流量\n",
        "    c620_mf_bot = np.sum(c620_feed_rate_ton*c620_feed.values*s4*0.01,axis=1,keepdims=True) # c620_bott 流量\n",
        "    t651_mf = (icg_input['Simulation Case Conditions_Feed Rate_Feed from T651_m3/hr']*self.T651_density).values.reshape(-1,1) # t651重量流量\n",
        "    c660_mf = t651_mf + c620_mf_side # 兩股相加得到c660入料重量流量\n",
        "    t651_mf_p ,c620_mf_side_p = t651_mf/c660_mf ,c620_mf_side/c660_mf # 兩股油源的占比百分比\n",
        "    c660_feed = c620_wt[self.c620_col['sidedraw_x']].values*c620_mf_side_p + t651_feed.values*t651_mf_p #計算c660入料組成\n",
        "    c660_feed = pd.DataFrame(c660_feed,index=idx,columns=self.c660_col['x41'])\n",
        "\n",
        "    # 計算c660_wt\n",
        "    c660_sp = self.c660_F.predict(c660_case.join(c660_feed).join(c660_op_opt))\n",
        "    s1,s2,s3,s4 = c660_sp.iloc[:,:41].values,c660_sp.iloc[:,41:41*2].values,c660_sp.iloc[:,41*2:41*3].values,c660_sp.iloc[:,41*3:41*4].values\n",
        "    w1,w2,w3,w4 = sp2wt(c660_feed,s1),sp2wt(c660_feed,s2),sp2wt(c660_feed,s3),sp2wt(c660_feed,s4)\n",
        "    wt = np.hstack((w1,w2,w3,w4))\n",
        "    c660_wt = pd.DataFrame(wt,index=idx,columns=self.c660_col['vent_gas_x']+self.c660_col['distillate_x']+self.c660_col['sidedraw_x']+self.c660_col['bottoms_x'])\n",
        "    \n",
        "    # 計算nainbz誤差和tol誤差\n",
        "    輸入端nainbz = icg_input['Simulation Case Conditions_Spec 2 : NA in Benzene_ppmw'].values[0]\n",
        "    輸入端tol = icg_input['Benzene Column C660 Operation_Specifications_Spec 3 : Toluene in Benzene_ppmw'].values[0]\n",
        "    na_idx = [1,2,3,4,5,6,8,9,11,13,14,15,20,22,29] \n",
        "    輸出端nainbz = c660_wt.filter(regex='Side').filter(regex='wt%').iloc[:,na_idx].sum(axis=1).values[0]*10000\n",
        "    輸出端tol = c660_wt['Benzene Column C660 Operation_Sidedraw (Benzene )Production Rate and Composition_Toluene_wt%'].values[0]*10000\n",
        "    nainbz_error = abs(輸入端nainbz-輸出端nainbz)\n",
        "    tol_error = abs(輸入端tol-輸出端tol)\n",
        "    \n",
        "    # 打印優化結果\n",
        "    print('bz_error:',bz_error)\n",
        "    print('nainbz_error:',nainbz_error)\n",
        "    print('tol_error:',tol_error)\n",
        "    print('dist_rate',c620_case['Tatoray Stripper C620 Operation_Specifications_Spec 2 : Distillate Rate_m3/hr'].values[0])\n",
        "    print('nainbz:',c660_wt.filter(regex='Side').filter(regex='wt%').iloc[:,na_idx].sum(axis=1).values[0]*10000)\n",
        "\n",
        "    # c670 部份\n",
        "    c660_mf_bot = np.sum(c660_mf*c660_feed.values*s4*0.01,axis=1,keepdims=True) # c660_bot 重量流量\n",
        "    c670_mf = c620_mf_bot + c660_mf_bot # c620_bot 重量流量 加上 c660_bot 重量流量 得到c670總入料重量流量\n",
        "    c620_mf_bot_p,c660_mf_bot_p = c620_mf_bot/c670_mf , c660_mf_bot/c670_mf # 兩股油源的百分比占比\n",
        "    c670_feed = c620_wt[self.c620_col['bottoms_x']].values*c620_mf_bot_p + c660_wt[self.c660_col['bottoms_x']].values*c660_mf_bot_p # c670入料組成\n",
        "    c670_feed = pd.DataFrame(c670_feed,index=idx,columns=self.c670_col['combined'])\n",
        "    \n",
        "    # c670 upper_bf 計算\n",
        "    c670_bf = pd.DataFrame(index=idx,columns=self.c670_col['upper_bf']) \n",
        "    c620_bot_x = c620_wt[self.c620_col['bottoms_x']].values\n",
        "    c660_bot_x = c660_wt[self.c660_col['bottoms_x']].values\n",
        "    upper_bf = (c660_bot_x*c660_mf_bot)/(c620_bot_x*c620_mf_bot+c660_bot_x*c660_mf_bot)\n",
        "    upper_bf = pd.DataFrame(upper_bf,index=idx,columns=self.c670_col['upper_bf'])\n",
        "    upper_bf[list(set(self.index_9999)&set(upper_bf.columns))] = 0.9999\n",
        "    upper_bf[list(set(self.index_0001)&set(upper_bf.columns))] = 0.0001\n",
        "    \n",
        "    # c670因為沒有指定wt數值要多少所以直接預測操作條件和分離係數即可\n",
        "    c670_output = self.c670_M.predict(c670_feed.join(upper_bf))\n",
        "    c670_sp,c670_op_opt = c670_output.iloc[:,:41*2],c670_output.iloc[:,41*2:]    \n",
        "    \n",
        "    # 計算c670_wt\n",
        "    s1 = c670_sp[self.c670_col['distillate_sf']].values\n",
        "    s2 = c670_sp[self.c670_col['bottoms_sf']].values\n",
        "    w1 = sp2wt(c670_feed,s1)\n",
        "    w2 = sp2wt(c670_feed,s2)\n",
        "    c670_wt = np.hstack((w1,w2))\n",
        "    c670_wt = pd.DataFrame(c670_wt,index = idx,columns=self.c670_col['distillate_x']+self.c670_col['bottoms_x'])\n",
        "    \n",
        "    # 是否修正操作條件 for 現場數據\n",
        "    if real_data_mode == False:\n",
        "      return c620_wt,c620_op_opt,c660_wt,c660_op_opt,c670_wt,c670_op_opt,bz_error,nainbz_error,tol_error\n",
        "    \n",
        "    if real_data_mode == True:\n",
        "      # 有些欄位現場數據沒有 因此drop掉\n",
        "      c620_op_col = c620_op.drop(['Tatoray Stripper C620 Operation_Heat Duty_Condenser Heat Duty_Mkcal/hr',\n",
        "                                 'Tatoray Stripper C620 Operation_Heat Duty_Reboiler Heat Duty_Mkcal/hr'],\n",
        "                                 axis=1).columns.tolist()\n",
        "      c660_op_col = c660_op.drop(['Benzene Column C660 Operation_Heat Duty_Condenser Heat Duty_Mkcal/hr',\n",
        "                                 'Benzene Column C660 Operation_Heat Duty_Reboiler Heat Duty_Mkcal/hr'],\n",
        "                                 axis=1).columns.tolist()\n",
        "      c670_op_col = c670_op.drop(['Toluene Column C670 Operation_Heat Duty_Condenser Heat Duty_Mkcal/hr',\n",
        "                                 'Toluene Column C670 Operation_Heat Duty_Reboiler Heat Duty_Mkcal/hr'],\n",
        "                                 axis=1).columns.tolist()\n",
        "      \n",
        "      # 經過修正模組修正op\n",
        "      op_pred = self.op_fix_model(torch.cat((\n",
        "        torch.FloatTensor(c620_op_opt[c620_op_col].values),\n",
        "        torch.FloatTensor(c660_op_opt[c660_op_col].values),\n",
        "        torch.FloatTensor(c670_op_opt[c670_op_col].values)),dim=1))  \n",
        "      op_pred = pd.DataFrame(op_pred.detach().numpy(),index=idx)\n",
        "      \n",
        "      # 新的op\n",
        "      new_c620_op = op_pred.iloc[:,:8]\n",
        "      new_c660_op = op_pred.iloc[:,8:16]\n",
        "      new_c670_op = op_pred.iloc[:,-5:]\n",
        "      new_c620_op.columns = c620_op_col\n",
        "      new_c660_op.columns = c660_op_col\n",
        "      new_c670_op.columns = c670_op_col\n",
        "      \n",
        "      # 更新op\n",
        "      c620_op_opt.update(new_c620_op)\n",
        "      c660_op_opt.update(new_c660_op)\n",
        "      c670_op_opt.update(new_c670_op)\n",
        "      \n",
        "      return c620_wt,c620_op_opt,c660_wt,c660_op_opt,c670_wt,c670_op_opt,bz_error,nainbz_error,tol_error"
      ],
      "execution_count": 257,
      "outputs": []
    },
    {
      "cell_type": "markdown",
      "metadata": {
        "id": "IEKp-SYsPkip"
      },
      "source": [
        "# 試算模式測試 觀察重點 準"
      ]
    },
    {
      "cell_type": "code",
      "metadata": {
        "colab": {
          "base_uri": "https://localhost:8080/",
          "height": 402
        },
        "id": "3hfibqM7J0wt",
        "outputId": "85bba749-ee74-46c5-bf75-d9c9373af06e"
      },
      "source": [
        "f = AllSystem(config)\n",
        "idx = np.random.choice(allidx,size=100,replace=False,p=None)\n",
        "# minibatch input \n",
        "icg_input = icg_input.loc[idx]\n",
        "c620_feed = c620_feed.loc[idx]\n",
        "t651_feed = t651_feed.loc[idx]\n",
        "# minibatch output \n",
        "c620_op = c620_op.loc[idx]\n",
        "c620_wt = c620_wt.loc[idx]\n",
        "c660_op = c660_op.loc[idx]\n",
        "c660_wt = c660_wt.loc[idx]\n",
        "c670_op = c670_op.loc[idx]\n",
        "c670_wt = c670_wt.loc[idx]\n",
        "c620_wt_,c620_op_,c660_wt_,c660_op_,c670_wt_,c670_op_ = f.inference(icg_input,c620_feed,t651_feed)\n",
        "f.c670_M.show_metrics(c620_wt,c620_wt_,e=2e-2)"
      ],
      "execution_count": 258,
      "outputs": [
        {
          "output_type": "execute_result",
          "data": {
            "text/html": [
              "<div>\n",
              "<style scoped>\n",
              "    .dataframe tbody tr th:only-of-type {\n",
              "        vertical-align: middle;\n",
              "    }\n",
              "\n",
              "    .dataframe tbody tr th {\n",
              "        vertical-align: top;\n",
              "    }\n",
              "\n",
              "    .dataframe thead th {\n",
              "        text-align: right;\n",
              "    }\n",
              "</style>\n",
              "<table border=\"1\" class=\"dataframe\">\n",
              "  <thead>\n",
              "    <tr style=\"text-align: right;\">\n",
              "      <th></th>\n",
              "      <th>R2</th>\n",
              "      <th>MSE</th>\n",
              "      <th>MAPE</th>\n",
              "    </tr>\n",
              "  </thead>\n",
              "  <tbody>\n",
              "    <tr>\n",
              "      <th>Tatoray Stripper C620 Operation_Vent Gas Production Rate and Composition_Hydrogen_wt%</th>\n",
              "      <td>1</td>\n",
              "      <td>0</td>\n",
              "      <td>NaN</td>\n",
              "    </tr>\n",
              "    <tr>\n",
              "      <th>Tatoray Stripper C620 Operation_Vent Gas Production Rate and Composition_Methane_wt%</th>\n",
              "      <td>0.886739</td>\n",
              "      <td>0.0024208</td>\n",
              "      <td>2.24028</td>\n",
              "    </tr>\n",
              "    <tr>\n",
              "      <th>Tatoray Stripper C620 Operation_Vent Gas Production Rate and Composition_Ethane_wt%</th>\n",
              "      <td>0.890262</td>\n",
              "      <td>0.549378</td>\n",
              "      <td>1.59932</td>\n",
              "    </tr>\n",
              "    <tr>\n",
              "      <th>Tatoray Stripper C620 Operation_Vent Gas Production Rate and Composition_Propane_wt%</th>\n",
              "      <td>0.595875</td>\n",
              "      <td>0.108755</td>\n",
              "      <td>0.509682</td>\n",
              "    </tr>\n",
              "    <tr>\n",
              "      <th>Tatoray Stripper C620 Operation_Vent Gas Production Rate and Composition_n-Butane_wt%</th>\n",
              "      <td>0.867933</td>\n",
              "      <td>0.234881</td>\n",
              "      <td>4.82946</td>\n",
              "    </tr>\n",
              "    <tr>\n",
              "      <th>...</th>\n",
              "      <td>...</td>\n",
              "      <td>...</td>\n",
              "      <td>...</td>\n",
              "    </tr>\n",
              "    <tr>\n",
              "      <th>Tatoray Stripper C620 Operation_Bottoms Production Rate and Composition_n-Pentylbenzene_wt%</th>\n",
              "      <td>0.999411</td>\n",
              "      <td>1.70613e-06</td>\n",
              "      <td>0.281703</td>\n",
              "    </tr>\n",
              "    <tr>\n",
              "      <th>Tatoray Stripper C620 Operation_Bottoms Production Rate and Composition_n-Hexylbenzene_wt%</th>\n",
              "      <td>0.9994</td>\n",
              "      <td>3.14532e-07</td>\n",
              "      <td>0.281702</td>\n",
              "    </tr>\n",
              "    <tr>\n",
              "      <th>Tatoray Stripper C620 Operation_Bottoms Production Rate and Composition_Nitrogen_wt%</th>\n",
              "      <td>1</td>\n",
              "      <td>0</td>\n",
              "      <td>NaN</td>\n",
              "    </tr>\n",
              "    <tr>\n",
              "      <th>Tatoray Stripper C620 Operation_Bottoms Production Rate and Composition_Oxygen_wt%</th>\n",
              "      <td>1</td>\n",
              "      <td>0</td>\n",
              "      <td>NaN</td>\n",
              "    </tr>\n",
              "    <tr>\n",
              "      <th>AVG</th>\n",
              "      <td>0.893919</td>\n",
              "      <td>0.0888455</td>\n",
              "      <td>3.5929</td>\n",
              "    </tr>\n",
              "  </tbody>\n",
              "</table>\n",
              "<p>165 rows × 3 columns</p>\n",
              "</div>"
            ],
            "text/plain": [
              "                                                          R2  ...      MAPE\n",
              "Tatoray Stripper C620 Operation_Vent Gas Produc...         1  ...       NaN\n",
              "Tatoray Stripper C620 Operation_Vent Gas Produc...  0.886739  ...   2.24028\n",
              "Tatoray Stripper C620 Operation_Vent Gas Produc...  0.890262  ...   1.59932\n",
              "Tatoray Stripper C620 Operation_Vent Gas Produc...  0.595875  ...  0.509682\n",
              "Tatoray Stripper C620 Operation_Vent Gas Produc...  0.867933  ...   4.82946\n",
              "...                                                      ...  ...       ...\n",
              "Tatoray Stripper C620 Operation_Bottoms Product...  0.999411  ...  0.281703\n",
              "Tatoray Stripper C620 Operation_Bottoms Product...    0.9994  ...  0.281702\n",
              "Tatoray Stripper C620 Operation_Bottoms Product...         1  ...       NaN\n",
              "Tatoray Stripper C620 Operation_Bottoms Product...         1  ...       NaN\n",
              "AVG                                                 0.893919  ...    3.5929\n",
              "\n",
              "[165 rows x 3 columns]"
            ]
          },
          "metadata": {
            "tags": []
          },
          "execution_count": 258
        }
      ]
    },
    {
      "cell_type": "code",
      "metadata": {
        "id": "ZT0kzdWJkvVw",
        "colab": {
          "base_uri": "https://localhost:8080/",
          "height": 373
        },
        "outputId": "27f66cc7-ed30-40c0-8cb6-56d2bcabf675"
      },
      "source": [
        "f.c670_M.show_metrics(c620_op,c620_op_,e=2e-2)"
      ],
      "execution_count": 259,
      "outputs": [
        {
          "output_type": "execute_result",
          "data": {
            "text/html": [
              "<div>\n",
              "<style scoped>\n",
              "    .dataframe tbody tr th:only-of-type {\n",
              "        vertical-align: middle;\n",
              "    }\n",
              "\n",
              "    .dataframe tbody tr th {\n",
              "        vertical-align: top;\n",
              "    }\n",
              "\n",
              "    .dataframe thead th {\n",
              "        text-align: right;\n",
              "    }\n",
              "</style>\n",
              "<table border=\"1\" class=\"dataframe\">\n",
              "  <thead>\n",
              "    <tr style=\"text-align: right;\">\n",
              "      <th></th>\n",
              "      <th>R2</th>\n",
              "      <th>MSE</th>\n",
              "      <th>MAPE</th>\n",
              "    </tr>\n",
              "  </thead>\n",
              "  <tbody>\n",
              "    <tr>\n",
              "      <th>Density_Feed Properties</th>\n",
              "      <td>0.999829</td>\n",
              "      <td>2.51688e-10</td>\n",
              "      <td>0.0014344</td>\n",
              "    </tr>\n",
              "    <tr>\n",
              "      <th>Density_Vent Gas Production Rate and Composition</th>\n",
              "      <td>0.953963</td>\n",
              "      <td>1.12161e-06</td>\n",
              "      <td>0.188662</td>\n",
              "    </tr>\n",
              "    <tr>\n",
              "      <th>Density_Distillate Production Rate and Composition</th>\n",
              "      <td>0.858262</td>\n",
              "      <td>1.75969e-05</td>\n",
              "      <td>0.474913</td>\n",
              "    </tr>\n",
              "    <tr>\n",
              "      <th>Density_Sidedraw Production Rate and Composition</th>\n",
              "      <td>0.995049</td>\n",
              "      <td>5.34052e-09</td>\n",
              "      <td>0.00638485</td>\n",
              "    </tr>\n",
              "    <tr>\n",
              "      <th>Density_Bottoms Production Rate and Composition</th>\n",
              "      <td>0.99705</td>\n",
              "      <td>5.06583e-11</td>\n",
              "      <td>0.000685382</td>\n",
              "    </tr>\n",
              "    <tr>\n",
              "      <th>Tatoray Stripper C620 Operation_Yield Summary_Reflux Rate_m3/hr</th>\n",
              "      <td>0.982254</td>\n",
              "      <td>2.77703</td>\n",
              "      <td>0.892007</td>\n",
              "    </tr>\n",
              "    <tr>\n",
              "      <th>Tatoray Stripper C620 Operation_Heat Duty_Condenser Heat Duty_Mkcal/hr</th>\n",
              "      <td>0.986565</td>\n",
              "      <td>0.017926</td>\n",
              "      <td>0.755077</td>\n",
              "    </tr>\n",
              "    <tr>\n",
              "      <th>Tatoray Stripper C620 Operation_Heat Duty_Reboiler Heat Duty_Mkcal/hr</th>\n",
              "      <td>0.985179</td>\n",
              "      <td>0.0288008</td>\n",
              "      <td>0.775988</td>\n",
              "    </tr>\n",
              "    <tr>\n",
              "      <th>Tatoray Stripper C620 Operation_Column Temp Profile_C620 Tray 14 (Control)_oC</th>\n",
              "      <td>0.984137</td>\n",
              "      <td>0.0199587</td>\n",
              "      <td>0.0628044</td>\n",
              "    </tr>\n",
              "    <tr>\n",
              "      <th>Tatoray Stripper C620 Operation_Column Temp Profile_C620 Tray 34 (Control)_oC</th>\n",
              "      <td>0.988609</td>\n",
              "      <td>0.00800199</td>\n",
              "      <td>0.0361974</td>\n",
              "    </tr>\n",
              "    <tr>\n",
              "      <th>AVG</th>\n",
              "      <td>0.97309</td>\n",
              "      <td>0.285174</td>\n",
              "      <td>0.319415</td>\n",
              "    </tr>\n",
              "  </tbody>\n",
              "</table>\n",
              "</div>"
            ],
            "text/plain": [
              "                                                          R2  ...         MAPE\n",
              "Density_Feed Properties                             0.999829  ...    0.0014344\n",
              "Density_Vent Gas Production Rate and Composition    0.953963  ...     0.188662\n",
              "Density_Distillate Production Rate and Composition  0.858262  ...     0.474913\n",
              "Density_Sidedraw Production Rate and Composition    0.995049  ...   0.00638485\n",
              "Density_Bottoms Production Rate and Composition      0.99705  ...  0.000685382\n",
              "Tatoray Stripper C620 Operation_Yield Summary_R...  0.982254  ...     0.892007\n",
              "Tatoray Stripper C620 Operation_Heat Duty_Conde...  0.986565  ...     0.755077\n",
              "Tatoray Stripper C620 Operation_Heat Duty_Reboi...  0.985179  ...     0.775988\n",
              "Tatoray Stripper C620 Operation_Column Temp Pro...  0.984137  ...    0.0628044\n",
              "Tatoray Stripper C620 Operation_Column Temp Pro...  0.988609  ...    0.0361974\n",
              "AVG                                                  0.97309  ...     0.319415\n",
              "\n",
              "[11 rows x 3 columns]"
            ]
          },
          "metadata": {
            "tags": []
          },
          "execution_count": 259
        }
      ]
    },
    {
      "cell_type": "code",
      "metadata": {
        "id": "-hK8Te49kybC",
        "colab": {
          "base_uri": "https://localhost:8080/",
          "height": 402
        },
        "outputId": "55e80b6e-cd30-449b-df0f-2c98155e9b91"
      },
      "source": [
        "f.c670_M.show_metrics(c660_wt,c660_wt_,e=2e-2)"
      ],
      "execution_count": 260,
      "outputs": [
        {
          "output_type": "execute_result",
          "data": {
            "text/html": [
              "<div>\n",
              "<style scoped>\n",
              "    .dataframe tbody tr th:only-of-type {\n",
              "        vertical-align: middle;\n",
              "    }\n",
              "\n",
              "    .dataframe tbody tr th {\n",
              "        vertical-align: top;\n",
              "    }\n",
              "\n",
              "    .dataframe thead th {\n",
              "        text-align: right;\n",
              "    }\n",
              "</style>\n",
              "<table border=\"1\" class=\"dataframe\">\n",
              "  <thead>\n",
              "    <tr style=\"text-align: right;\">\n",
              "      <th></th>\n",
              "      <th>R2</th>\n",
              "      <th>MSE</th>\n",
              "      <th>MAPE</th>\n",
              "    </tr>\n",
              "  </thead>\n",
              "  <tbody>\n",
              "    <tr>\n",
              "      <th>Benzene Column C660 Operation_Vent Gas Production Rate and Composition_Hydrogen_wt%</th>\n",
              "      <td>1</td>\n",
              "      <td>0</td>\n",
              "      <td>NaN</td>\n",
              "    </tr>\n",
              "    <tr>\n",
              "      <th>Benzene Column C660 Operation_Vent Gas Production Rate and Composition_Methane_wt%</th>\n",
              "      <td>0.78306</td>\n",
              "      <td>0.0498007</td>\n",
              "      <td>13.826</td>\n",
              "    </tr>\n",
              "    <tr>\n",
              "      <th>Benzene Column C660 Operation_Vent Gas Production Rate and Composition_Ethane_wt%</th>\n",
              "      <td>0.910527</td>\n",
              "      <td>3.59415</td>\n",
              "      <td>6.74992</td>\n",
              "    </tr>\n",
              "    <tr>\n",
              "      <th>Benzene Column C660 Operation_Vent Gas Production Rate and Composition_Propane_wt%</th>\n",
              "      <td>0.634234</td>\n",
              "      <td>2.6219</td>\n",
              "      <td>5.77067</td>\n",
              "    </tr>\n",
              "    <tr>\n",
              "      <th>Benzene Column C660 Operation_Vent Gas Production Rate and Composition_n-Butane_wt%</th>\n",
              "      <td>0.896311</td>\n",
              "      <td>1.18839</td>\n",
              "      <td>14.679</td>\n",
              "    </tr>\n",
              "    <tr>\n",
              "      <th>...</th>\n",
              "      <td>...</td>\n",
              "      <td>...</td>\n",
              "      <td>...</td>\n",
              "    </tr>\n",
              "    <tr>\n",
              "      <th>Benzene Column C660 Operation_Bottoms Production Rate and Composition_n-Pentylbenzene_wt%</th>\n",
              "      <td>0.963479</td>\n",
              "      <td>5.50113e-25</td>\n",
              "      <td>NaN</td>\n",
              "    </tr>\n",
              "    <tr>\n",
              "      <th>Benzene Column C660 Operation_Bottoms Production Rate and Composition_n-Hexylbenzene_wt%</th>\n",
              "      <td>0.964703</td>\n",
              "      <td>6.44645e-31</td>\n",
              "      <td>NaN</td>\n",
              "    </tr>\n",
              "    <tr>\n",
              "      <th>Benzene Column C660 Operation_Bottoms Production Rate and Composition_Nitrogen_wt%</th>\n",
              "      <td>1</td>\n",
              "      <td>0</td>\n",
              "      <td>NaN</td>\n",
              "    </tr>\n",
              "    <tr>\n",
              "      <th>Benzene Column C660 Operation_Bottoms Production Rate and Composition_Oxygen_wt%</th>\n",
              "      <td>1</td>\n",
              "      <td>0</td>\n",
              "      <td>NaN</td>\n",
              "    </tr>\n",
              "    <tr>\n",
              "      <th>AVG</th>\n",
              "      <td>0.728704</td>\n",
              "      <td>0.112214</td>\n",
              "      <td>5.99324</td>\n",
              "    </tr>\n",
              "  </tbody>\n",
              "</table>\n",
              "<p>165 rows × 3 columns</p>\n",
              "</div>"
            ],
            "text/plain": [
              "                                                          R2  ...     MAPE\n",
              "Benzene Column C660 Operation_Vent Gas Producti...         1  ...      NaN\n",
              "Benzene Column C660 Operation_Vent Gas Producti...   0.78306  ...   13.826\n",
              "Benzene Column C660 Operation_Vent Gas Producti...  0.910527  ...  6.74992\n",
              "Benzene Column C660 Operation_Vent Gas Producti...  0.634234  ...  5.77067\n",
              "Benzene Column C660 Operation_Vent Gas Producti...  0.896311  ...   14.679\n",
              "...                                                      ...  ...      ...\n",
              "Benzene Column C660 Operation_Bottoms Productio...  0.963479  ...      NaN\n",
              "Benzene Column C660 Operation_Bottoms Productio...  0.964703  ...      NaN\n",
              "Benzene Column C660 Operation_Bottoms Productio...         1  ...      NaN\n",
              "Benzene Column C660 Operation_Bottoms Productio...         1  ...      NaN\n",
              "AVG                                                 0.728704  ...  5.99324\n",
              "\n",
              "[165 rows x 3 columns]"
            ]
          },
          "metadata": {
            "tags": []
          },
          "execution_count": 260
        }
      ]
    },
    {
      "cell_type": "code",
      "metadata": {
        "id": "B8ouQJ_XkyhS",
        "colab": {
          "base_uri": "https://localhost:8080/",
          "height": 373
        },
        "outputId": "35b9e379-2741-4ac5-fee5-72487308c805"
      },
      "source": [
        "f.c670_M.show_metrics(c660_op,c660_op_,e=2e-2)"
      ],
      "execution_count": 261,
      "outputs": [
        {
          "output_type": "execute_result",
          "data": {
            "text/html": [
              "<div>\n",
              "<style scoped>\n",
              "    .dataframe tbody tr th:only-of-type {\n",
              "        vertical-align: middle;\n",
              "    }\n",
              "\n",
              "    .dataframe tbody tr th {\n",
              "        vertical-align: top;\n",
              "    }\n",
              "\n",
              "    .dataframe thead th {\n",
              "        text-align: right;\n",
              "    }\n",
              "</style>\n",
              "<table border=\"1\" class=\"dataframe\">\n",
              "  <thead>\n",
              "    <tr style=\"text-align: right;\">\n",
              "      <th></th>\n",
              "      <th>R2</th>\n",
              "      <th>MSE</th>\n",
              "      <th>MAPE</th>\n",
              "    </tr>\n",
              "  </thead>\n",
              "  <tbody>\n",
              "    <tr>\n",
              "      <th>Density_Feed Properties</th>\n",
              "      <td>0.988759</td>\n",
              "      <td>8.69272e-09</td>\n",
              "      <td>0.00782623</td>\n",
              "    </tr>\n",
              "    <tr>\n",
              "      <th>Density_Vent Gas Production Rate and Composition</th>\n",
              "      <td>0.932161</td>\n",
              "      <td>2.22601e-05</td>\n",
              "      <td>0.74691</td>\n",
              "    </tr>\n",
              "    <tr>\n",
              "      <th>Density_Distillate (Benzene Drag) Production Rate and Composition</th>\n",
              "      <td>0.942908</td>\n",
              "      <td>4.18903e-06</td>\n",
              "      <td>0.197395</td>\n",
              "    </tr>\n",
              "    <tr>\n",
              "      <th>Density_Sidedraw (Benzene )Production Rate and Composition</th>\n",
              "      <td>0.963344</td>\n",
              "      <td>2.17298e-12</td>\n",
              "      <td>0.000139871</td>\n",
              "    </tr>\n",
              "    <tr>\n",
              "      <th>Density_Bottoms Production Rate and Composition</th>\n",
              "      <td>0.99443</td>\n",
              "      <td>3.99265e-10</td>\n",
              "      <td>0.00178885</td>\n",
              "    </tr>\n",
              "    <tr>\n",
              "      <th>Benzene Column C660 Operation_Yield Summary_Reflux Rate_m3/hr</th>\n",
              "      <td>0.969874</td>\n",
              "      <td>27.2591</td>\n",
              "      <td>3.46305</td>\n",
              "    </tr>\n",
              "    <tr>\n",
              "      <th>Benzene Column C660 Operation_Heat Duty_Condenser Heat Duty_Mkcal/hr</th>\n",
              "      <td>0.968738</td>\n",
              "      <td>0.218335</td>\n",
              "      <td>3.13253</td>\n",
              "    </tr>\n",
              "    <tr>\n",
              "      <th>Benzene Column C660 Operation_Heat Duty_Reboiler Heat Duty_Mkcal/hr</th>\n",
              "      <td>0.971783</td>\n",
              "      <td>0.212252</td>\n",
              "      <td>3.22522</td>\n",
              "    </tr>\n",
              "    <tr>\n",
              "      <th>Benzene Column C660 Operation_Column Temp Profile_C660 Tray 6 (SD &amp; Control)_oC</th>\n",
              "      <td>0.973789</td>\n",
              "      <td>0.00119531</td>\n",
              "      <td>0.0324423</td>\n",
              "    </tr>\n",
              "    <tr>\n",
              "      <th>Benzene Column C660 Operation_Column Temp Profile_C660 Tray 23 (Control)_oC</th>\n",
              "      <td>0.963515</td>\n",
              "      <td>0.0297057</td>\n",
              "      <td>0.148502</td>\n",
              "    </tr>\n",
              "    <tr>\n",
              "      <th>AVG</th>\n",
              "      <td>0.96693</td>\n",
              "      <td>2.77206</td>\n",
              "      <td>1.09558</td>\n",
              "    </tr>\n",
              "  </tbody>\n",
              "</table>\n",
              "</div>"
            ],
            "text/plain": [
              "                                                          R2  ...         MAPE\n",
              "Density_Feed Properties                             0.988759  ...   0.00782623\n",
              "Density_Vent Gas Production Rate and Composition    0.932161  ...      0.74691\n",
              "Density_Distillate (Benzene Drag) Production Ra...  0.942908  ...     0.197395\n",
              "Density_Sidedraw (Benzene )Production Rate and ...  0.963344  ...  0.000139871\n",
              "Density_Bottoms Production Rate and Composition      0.99443  ...   0.00178885\n",
              "Benzene Column C660 Operation_Yield Summary_Ref...  0.969874  ...      3.46305\n",
              "Benzene Column C660 Operation_Heat Duty_Condens...  0.968738  ...      3.13253\n",
              "Benzene Column C660 Operation_Heat Duty_Reboile...  0.971783  ...      3.22522\n",
              "Benzene Column C660 Operation_Column Temp Profi...  0.973789  ...    0.0324423\n",
              "Benzene Column C660 Operation_Column Temp Profi...  0.963515  ...     0.148502\n",
              "AVG                                                  0.96693  ...      1.09558\n",
              "\n",
              "[11 rows x 3 columns]"
            ]
          },
          "metadata": {
            "tags": []
          },
          "execution_count": 261
        }
      ]
    },
    {
      "cell_type": "code",
      "metadata": {
        "id": "G5P1YElwkynj",
        "colab": {
          "base_uri": "https://localhost:8080/",
          "height": 402
        },
        "outputId": "0ef70ac3-0706-4129-e1c5-00ebce128faa"
      },
      "source": [
        "f.c670_M.show_metrics(c670_wt,c670_wt_,e=2e-2)"
      ],
      "execution_count": 262,
      "outputs": [
        {
          "output_type": "execute_result",
          "data": {
            "text/html": [
              "<div>\n",
              "<style scoped>\n",
              "    .dataframe tbody tr th:only-of-type {\n",
              "        vertical-align: middle;\n",
              "    }\n",
              "\n",
              "    .dataframe tbody tr th {\n",
              "        vertical-align: top;\n",
              "    }\n",
              "\n",
              "    .dataframe thead th {\n",
              "        text-align: right;\n",
              "    }\n",
              "</style>\n",
              "<table border=\"1\" class=\"dataframe\">\n",
              "  <thead>\n",
              "    <tr style=\"text-align: right;\">\n",
              "      <th></th>\n",
              "      <th>R2</th>\n",
              "      <th>MSE</th>\n",
              "      <th>MAPE</th>\n",
              "    </tr>\n",
              "  </thead>\n",
              "  <tbody>\n",
              "    <tr>\n",
              "      <th>Toluene Column C670 Operation_Distillate Production Rate and Composition_Hydrogen_wt%</th>\n",
              "      <td>1</td>\n",
              "      <td>0</td>\n",
              "      <td>NaN</td>\n",
              "    </tr>\n",
              "    <tr>\n",
              "      <th>Toluene Column C670 Operation_Distillate Production Rate and Composition_Methane_wt%</th>\n",
              "      <td>0</td>\n",
              "      <td>5.93416e-10</td>\n",
              "      <td>NaN</td>\n",
              "    </tr>\n",
              "    <tr>\n",
              "      <th>Toluene Column C670 Operation_Distillate Production Rate and Composition_Ethane_wt%</th>\n",
              "      <td>0</td>\n",
              "      <td>3.60888e-07</td>\n",
              "      <td>NaN</td>\n",
              "    </tr>\n",
              "    <tr>\n",
              "      <th>Toluene Column C670 Operation_Distillate Production Rate and Composition_Propane_wt%</th>\n",
              "      <td>0</td>\n",
              "      <td>3.03571e-07</td>\n",
              "      <td>NaN</td>\n",
              "    </tr>\n",
              "    <tr>\n",
              "      <th>Toluene Column C670 Operation_Distillate Production Rate and Composition_n-Butane_wt%</th>\n",
              "      <td>0</td>\n",
              "      <td>5.96216e-47</td>\n",
              "      <td>NaN</td>\n",
              "    </tr>\n",
              "    <tr>\n",
              "      <th>...</th>\n",
              "      <td>...</td>\n",
              "      <td>...</td>\n",
              "      <td>...</td>\n",
              "    </tr>\n",
              "    <tr>\n",
              "      <th>Toluene Column C670 Operation_Bottoms Production Rate and Composition_n-Pentylbenzene_wt%</th>\n",
              "      <td>0.999999</td>\n",
              "      <td>2.75385e-08</td>\n",
              "      <td>0.0196678</td>\n",
              "    </tr>\n",
              "    <tr>\n",
              "      <th>Toluene Column C670 Operation_Bottoms Production Rate and Composition_n-Hexylbenzene_wt%</th>\n",
              "      <td>0.999999</td>\n",
              "      <td>5.05845e-09</td>\n",
              "      <td>0.0197297</td>\n",
              "    </tr>\n",
              "    <tr>\n",
              "      <th>Toluene Column C670 Operation_Bottoms Production Rate and Composition_Nitrogen_wt%</th>\n",
              "      <td>1</td>\n",
              "      <td>0</td>\n",
              "      <td>NaN</td>\n",
              "    </tr>\n",
              "    <tr>\n",
              "      <th>Toluene Column C670 Operation_Bottoms Production Rate and Composition_Oxygen_wt%</th>\n",
              "      <td>1</td>\n",
              "      <td>0</td>\n",
              "      <td>NaN</td>\n",
              "    </tr>\n",
              "    <tr>\n",
              "      <th>AVG</th>\n",
              "      <td>0.824075</td>\n",
              "      <td>5.28176e-07</td>\n",
              "      <td>0.115713</td>\n",
              "    </tr>\n",
              "  </tbody>\n",
              "</table>\n",
              "<p>83 rows × 3 columns</p>\n",
              "</div>"
            ],
            "text/plain": [
              "                                                          R2  ...       MAPE\n",
              "Toluene Column C670 Operation_Distillate Produc...         1  ...        NaN\n",
              "Toluene Column C670 Operation_Distillate Produc...         0  ...        NaN\n",
              "Toluene Column C670 Operation_Distillate Produc...         0  ...        NaN\n",
              "Toluene Column C670 Operation_Distillate Produc...         0  ...        NaN\n",
              "Toluene Column C670 Operation_Distillate Produc...         0  ...        NaN\n",
              "...                                                      ...  ...        ...\n",
              "Toluene Column C670 Operation_Bottoms Productio...  0.999999  ...  0.0196678\n",
              "Toluene Column C670 Operation_Bottoms Productio...  0.999999  ...  0.0197297\n",
              "Toluene Column C670 Operation_Bottoms Productio...         1  ...        NaN\n",
              "Toluene Column C670 Operation_Bottoms Productio...         1  ...        NaN\n",
              "AVG                                                 0.824075  ...   0.115713\n",
              "\n",
              "[83 rows x 3 columns]"
            ]
          },
          "metadata": {
            "tags": []
          },
          "execution_count": 262
        }
      ]
    },
    {
      "cell_type": "code",
      "metadata": {
        "id": "hv_o24SwkytY",
        "colab": {
          "base_uri": "https://localhost:8080/",
          "height": 284
        },
        "outputId": "60ae0031-cb3a-496a-e49d-f555ee3c710f"
      },
      "source": [
        "f.c670_M.show_metrics(c670_op,c670_op_,e=2e-2)"
      ],
      "execution_count": 263,
      "outputs": [
        {
          "output_type": "execute_result",
          "data": {
            "text/html": [
              "<div>\n",
              "<style scoped>\n",
              "    .dataframe tbody tr th:only-of-type {\n",
              "        vertical-align: middle;\n",
              "    }\n",
              "\n",
              "    .dataframe tbody tr th {\n",
              "        vertical-align: top;\n",
              "    }\n",
              "\n",
              "    .dataframe thead th {\n",
              "        text-align: right;\n",
              "    }\n",
              "</style>\n",
              "<table border=\"1\" class=\"dataframe\">\n",
              "  <thead>\n",
              "    <tr style=\"text-align: right;\">\n",
              "      <th></th>\n",
              "      <th>R2</th>\n",
              "      <th>MSE</th>\n",
              "      <th>MAPE</th>\n",
              "    </tr>\n",
              "  </thead>\n",
              "  <tbody>\n",
              "    <tr>\n",
              "      <th>Density_Distillate Production Rate and Composition</th>\n",
              "      <td>0.993221</td>\n",
              "      <td>5.15265e-12</td>\n",
              "      <td>0.00020614</td>\n",
              "    </tr>\n",
              "    <tr>\n",
              "      <th>Density_Bottoms Production Rate and Composition</th>\n",
              "      <td>0.993692</td>\n",
              "      <td>1.15915e-09</td>\n",
              "      <td>0.00278305</td>\n",
              "    </tr>\n",
              "    <tr>\n",
              "      <th>Toluene Column C670 Operation_Yield \\nSummary_Reflux Rate_m3/hr</th>\n",
              "      <td>0.981596</td>\n",
              "      <td>12.5363</td>\n",
              "      <td>1.12303</td>\n",
              "    </tr>\n",
              "    <tr>\n",
              "      <th>Toluene Column C670 Operation_Heat Duty_Condenser Heat Duty_Mkcal/hr</th>\n",
              "      <td>0.98463</td>\n",
              "      <td>0.146894</td>\n",
              "      <td>1.10294</td>\n",
              "    </tr>\n",
              "    <tr>\n",
              "      <th>Toluene Column C670 Operation_Heat Duty_Reboiler Heat Duty_Mkcal/hr</th>\n",
              "      <td>0.983745</td>\n",
              "      <td>0.149123</td>\n",
              "      <td>1.0968</td>\n",
              "    </tr>\n",
              "    <tr>\n",
              "      <th>Toluene Column C670 Operation_Column Temp Profile_C670 Tray 24 (Control)_oC</th>\n",
              "      <td>0.967036</td>\n",
              "      <td>0.00239367</td>\n",
              "      <td>0.0212086</td>\n",
              "    </tr>\n",
              "    <tr>\n",
              "      <th>Toluene Column C670 Operation_Column Temp Profile_C670 Btm Temp (Control)_oC</th>\n",
              "      <td>0.988656</td>\n",
              "      <td>0.0315141</td>\n",
              "      <td>0.0617163</td>\n",
              "    </tr>\n",
              "    <tr>\n",
              "      <th>AVG</th>\n",
              "      <td>0.984654</td>\n",
              "      <td>1.83803</td>\n",
              "      <td>0.486955</td>\n",
              "    </tr>\n",
              "  </tbody>\n",
              "</table>\n",
              "</div>"
            ],
            "text/plain": [
              "                                                          R2  ...        MAPE\n",
              "Density_Distillate Production Rate and Composition  0.993221  ...  0.00020614\n",
              "Density_Bottoms Production Rate and Composition     0.993692  ...  0.00278305\n",
              "Toluene Column C670 Operation_Yield \\nSummary_R...  0.981596  ...     1.12303\n",
              "Toluene Column C670 Operation_Heat Duty_Condens...   0.98463  ...     1.10294\n",
              "Toluene Column C670 Operation_Heat Duty_Reboile...  0.983745  ...      1.0968\n",
              "Toluene Column C670 Operation_Column Temp Profi...  0.967036  ...   0.0212086\n",
              "Toluene Column C670 Operation_Column Temp Profi...  0.988656  ...   0.0617163\n",
              "AVG                                                 0.984654  ...    0.486955\n",
              "\n",
              "[8 rows x 3 columns]"
            ]
          },
          "metadata": {
            "tags": []
          },
          "execution_count": 263
        }
      ]
    },
    {
      "cell_type": "markdown",
      "metadata": {
        "id": "5l5jUxUqNUxQ"
      },
      "source": [
        "# 確認三項條件有滿足"
      ]
    },
    {
      "cell_type": "code",
      "metadata": {
        "id": "JDlomCJ6NQgU",
        "colab": {
          "base_uri": "https://localhost:8080/",
          "height": 402
        },
        "outputId": "5aecbb6b-89f7-435e-e8b7-65cc414b7f06"
      },
      "source": [
        "a = icg_input[['Simulation Case Conditions_Spec 1 : Benzene in C620 Sidedraw_wt%']]\n",
        "b = c620_wt[['Tatoray Stripper C620 Operation_Sidedraw Production Rate and Composition_Benzene_wt%']]\n",
        "a.join(b)"
      ],
      "execution_count": 264,
      "outputs": [
        {
          "output_type": "execute_result",
          "data": {
            "text/html": [
              "<div>\n",
              "<style scoped>\n",
              "    .dataframe tbody tr th:only-of-type {\n",
              "        vertical-align: middle;\n",
              "    }\n",
              "\n",
              "    .dataframe tbody tr th {\n",
              "        vertical-align: top;\n",
              "    }\n",
              "\n",
              "    .dataframe thead th {\n",
              "        text-align: right;\n",
              "    }\n",
              "</style>\n",
              "<table border=\"1\" class=\"dataframe\">\n",
              "  <thead>\n",
              "    <tr style=\"text-align: right;\">\n",
              "      <th></th>\n",
              "      <th>Simulation Case Conditions_Spec 1 : Benzene in C620 Sidedraw_wt%</th>\n",
              "      <th>Tatoray Stripper C620 Operation_Sidedraw Production Rate and Composition_Benzene_wt%</th>\n",
              "    </tr>\n",
              "  </thead>\n",
              "  <tbody>\n",
              "    <tr>\n",
              "      <th>060-014</th>\n",
              "      <td>80.0</td>\n",
              "      <td>79.999992</td>\n",
              "    </tr>\n",
              "    <tr>\n",
              "      <th>001-002</th>\n",
              "      <td>90.0</td>\n",
              "      <td>90.000000</td>\n",
              "    </tr>\n",
              "    <tr>\n",
              "      <th>100-017</th>\n",
              "      <td>80.0</td>\n",
              "      <td>79.999992</td>\n",
              "    </tr>\n",
              "    <tr>\n",
              "      <th>073-020</th>\n",
              "      <td>70.0</td>\n",
              "      <td>70.000023</td>\n",
              "    </tr>\n",
              "    <tr>\n",
              "      <th>108-026</th>\n",
              "      <td>70.0</td>\n",
              "      <td>70.000008</td>\n",
              "    </tr>\n",
              "    <tr>\n",
              "      <th>...</th>\n",
              "      <td>...</td>\n",
              "      <td>...</td>\n",
              "    </tr>\n",
              "    <tr>\n",
              "      <th>050-026</th>\n",
              "      <td>70.0</td>\n",
              "      <td>70.000000</td>\n",
              "    </tr>\n",
              "    <tr>\n",
              "      <th>133-005</th>\n",
              "      <td>90.0</td>\n",
              "      <td>90.000015</td>\n",
              "    </tr>\n",
              "    <tr>\n",
              "      <th>098-008</th>\n",
              "      <td>90.0</td>\n",
              "      <td>90.000000</td>\n",
              "    </tr>\n",
              "    <tr>\n",
              "      <th>093-020</th>\n",
              "      <td>70.0</td>\n",
              "      <td>70.000008</td>\n",
              "    </tr>\n",
              "    <tr>\n",
              "      <th>139-008</th>\n",
              "      <td>90.0</td>\n",
              "      <td>90.000000</td>\n",
              "    </tr>\n",
              "  </tbody>\n",
              "</table>\n",
              "<p>100 rows × 2 columns</p>\n",
              "</div>"
            ],
            "text/plain": [
              "         Simulation Case Conditions_Spec 1 : Benzene in C620 Sidedraw_wt%  Tatoray Stripper C620 Operation_Sidedraw Production Rate and Composition_Benzene_wt%\n",
              "060-014                                               80.0                                                         79.999992                                   \n",
              "001-002                                               90.0                                                         90.000000                                   \n",
              "100-017                                               80.0                                                         79.999992                                   \n",
              "073-020                                               70.0                                                         70.000023                                   \n",
              "108-026                                               70.0                                                         70.000008                                   \n",
              "...                                                    ...                                                               ...                                   \n",
              "050-026                                               70.0                                                         70.000000                                   \n",
              "133-005                                               90.0                                                         90.000015                                   \n",
              "098-008                                               90.0                                                         90.000000                                   \n",
              "093-020                                               70.0                                                         70.000008                                   \n",
              "139-008                                               90.0                                                         90.000000                                   \n",
              "\n",
              "[100 rows x 2 columns]"
            ]
          },
          "metadata": {
            "tags": []
          },
          "execution_count": 264
        }
      ]
    },
    {
      "cell_type": "code",
      "metadata": {
        "id": "I1788Af4NbVm",
        "colab": {
          "base_uri": "https://localhost:8080/",
          "height": 402
        },
        "outputId": "a23f55a9-fd6c-45a8-a6bd-b4202adfa596"
      },
      "source": [
        "a = icg_input[['Simulation Case Conditions_Spec 2 : NA in Benzene_ppmw']]\n",
        "b = c660_wt.filter(regex='Side').filter(regex='wt%').iloc[:,[1,2,3,4,5,6,8,9,11,13,14,15,20,22,29] ].sum(axis=1)*10000\n",
        "b.name = 'c660_wt NA in NA in Benzene_ppmw'\n",
        "a.join(b)"
      ],
      "execution_count": 265,
      "outputs": [
        {
          "output_type": "execute_result",
          "data": {
            "text/html": [
              "<div>\n",
              "<style scoped>\n",
              "    .dataframe tbody tr th:only-of-type {\n",
              "        vertical-align: middle;\n",
              "    }\n",
              "\n",
              "    .dataframe tbody tr th {\n",
              "        vertical-align: top;\n",
              "    }\n",
              "\n",
              "    .dataframe thead th {\n",
              "        text-align: right;\n",
              "    }\n",
              "</style>\n",
              "<table border=\"1\" class=\"dataframe\">\n",
              "  <thead>\n",
              "    <tr style=\"text-align: right;\">\n",
              "      <th></th>\n",
              "      <th>Simulation Case Conditions_Spec 2 : NA in Benzene_ppmw</th>\n",
              "      <th>c660_wt NA in NA in Benzene_ppmw</th>\n",
              "    </tr>\n",
              "  </thead>\n",
              "  <tbody>\n",
              "    <tr>\n",
              "      <th>060-014</th>\n",
              "      <td>950.0</td>\n",
              "      <td>950.000661</td>\n",
              "    </tr>\n",
              "    <tr>\n",
              "      <th>001-002</th>\n",
              "      <td>980.0</td>\n",
              "      <td>979.858033</td>\n",
              "    </tr>\n",
              "    <tr>\n",
              "      <th>100-017</th>\n",
              "      <td>920.0</td>\n",
              "      <td>919.997709</td>\n",
              "    </tr>\n",
              "    <tr>\n",
              "      <th>073-020</th>\n",
              "      <td>980.0</td>\n",
              "      <td>979.968704</td>\n",
              "    </tr>\n",
              "    <tr>\n",
              "      <th>108-026</th>\n",
              "      <td>860.0</td>\n",
              "      <td>860.006860</td>\n",
              "    </tr>\n",
              "    <tr>\n",
              "      <th>...</th>\n",
              "      <td>...</td>\n",
              "      <td>...</td>\n",
              "    </tr>\n",
              "    <tr>\n",
              "      <th>050-026</th>\n",
              "      <td>920.0</td>\n",
              "      <td>919.995475</td>\n",
              "    </tr>\n",
              "    <tr>\n",
              "      <th>133-005</th>\n",
              "      <td>950.0</td>\n",
              "      <td>950.002138</td>\n",
              "    </tr>\n",
              "    <tr>\n",
              "      <th>098-008</th>\n",
              "      <td>920.0</td>\n",
              "      <td>920.003444</td>\n",
              "    </tr>\n",
              "    <tr>\n",
              "      <th>093-020</th>\n",
              "      <td>980.0</td>\n",
              "      <td>979.992209</td>\n",
              "    </tr>\n",
              "    <tr>\n",
              "      <th>139-008</th>\n",
              "      <td>920.0</td>\n",
              "      <td>919.996862</td>\n",
              "    </tr>\n",
              "  </tbody>\n",
              "</table>\n",
              "<p>100 rows × 2 columns</p>\n",
              "</div>"
            ],
            "text/plain": [
              "         Simulation Case Conditions_Spec 2 : NA in Benzene_ppmw  c660_wt NA in NA in Benzene_ppmw\n",
              "060-014                                              950.0                             950.000661\n",
              "001-002                                              980.0                             979.858033\n",
              "100-017                                              920.0                             919.997709\n",
              "073-020                                              980.0                             979.968704\n",
              "108-026                                              860.0                             860.006860\n",
              "...                                                    ...                                    ...\n",
              "050-026                                              920.0                             919.995475\n",
              "133-005                                              950.0                             950.002138\n",
              "098-008                                              920.0                             920.003444\n",
              "093-020                                              980.0                             979.992209\n",
              "139-008                                              920.0                             919.996862\n",
              "\n",
              "[100 rows x 2 columns]"
            ]
          },
          "metadata": {
            "tags": []
          },
          "execution_count": 265
        }
      ]
    },
    {
      "cell_type": "code",
      "metadata": {
        "id": "Cf_l-5_XNfc9",
        "colab": {
          "base_uri": "https://localhost:8080/",
          "height": 402
        },
        "outputId": "784e930e-4147-4846-910e-301b3014056e"
      },
      "source": [
        "a = icg_input[['Benzene Column C660 Operation_Specifications_Spec 3 : Toluene in Benzene_ppmw']]\n",
        "b = c660_wt[['Benzene Column C660 Operation_Sidedraw (Benzene )Production Rate and Composition_Toluene_wt%']]*10000\n",
        "a.join(b)"
      ],
      "execution_count": 266,
      "outputs": [
        {
          "output_type": "execute_result",
          "data": {
            "text/html": [
              "<div>\n",
              "<style scoped>\n",
              "    .dataframe tbody tr th:only-of-type {\n",
              "        vertical-align: middle;\n",
              "    }\n",
              "\n",
              "    .dataframe tbody tr th {\n",
              "        vertical-align: top;\n",
              "    }\n",
              "\n",
              "    .dataframe thead th {\n",
              "        text-align: right;\n",
              "    }\n",
              "</style>\n",
              "<table border=\"1\" class=\"dataframe\">\n",
              "  <thead>\n",
              "    <tr style=\"text-align: right;\">\n",
              "      <th></th>\n",
              "      <th>Benzene Column C660 Operation_Specifications_Spec 3 : Toluene in Benzene_ppmw</th>\n",
              "      <th>Benzene Column C660 Operation_Sidedraw (Benzene )Production Rate and Composition_Toluene_wt%</th>\n",
              "    </tr>\n",
              "  </thead>\n",
              "  <tbody>\n",
              "    <tr>\n",
              "      <th>060-014</th>\n",
              "      <td>9.999993</td>\n",
              "      <td>9.999993</td>\n",
              "    </tr>\n",
              "    <tr>\n",
              "      <th>001-002</th>\n",
              "      <td>5.000000</td>\n",
              "      <td>5.000000</td>\n",
              "    </tr>\n",
              "    <tr>\n",
              "      <th>100-017</th>\n",
              "      <td>5.000006</td>\n",
              "      <td>5.000006</td>\n",
              "    </tr>\n",
              "    <tr>\n",
              "      <th>073-020</th>\n",
              "      <td>4.999987</td>\n",
              "      <td>4.999987</td>\n",
              "    </tr>\n",
              "    <tr>\n",
              "      <th>108-026</th>\n",
              "      <td>5.000000</td>\n",
              "      <td>5.000000</td>\n",
              "    </tr>\n",
              "    <tr>\n",
              "      <th>...</th>\n",
              "      <td>...</td>\n",
              "      <td>...</td>\n",
              "    </tr>\n",
              "    <tr>\n",
              "      <th>050-026</th>\n",
              "      <td>4.999998</td>\n",
              "      <td>4.999998</td>\n",
              "    </tr>\n",
              "    <tr>\n",
              "      <th>133-005</th>\n",
              "      <td>5.000000</td>\n",
              "      <td>5.000000</td>\n",
              "    </tr>\n",
              "    <tr>\n",
              "      <th>098-008</th>\n",
              "      <td>5.000000</td>\n",
              "      <td>5.000000</td>\n",
              "    </tr>\n",
              "    <tr>\n",
              "      <th>093-020</th>\n",
              "      <td>10.000004</td>\n",
              "      <td>10.000004</td>\n",
              "    </tr>\n",
              "    <tr>\n",
              "      <th>139-008</th>\n",
              "      <td>2.500000</td>\n",
              "      <td>2.500000</td>\n",
              "    </tr>\n",
              "  </tbody>\n",
              "</table>\n",
              "<p>100 rows × 2 columns</p>\n",
              "</div>"
            ],
            "text/plain": [
              "         Benzene Column C660 Operation_Specifications_Spec 3 : Toluene in Benzene_ppmw  Benzene Column C660 Operation_Sidedraw (Benzene )Production Rate and Composition_Toluene_wt%\n",
              "060-014                                           9.999993                                                                       9.999993                                           \n",
              "001-002                                           5.000000                                                                       5.000000                                           \n",
              "100-017                                           5.000006                                                                       5.000006                                           \n",
              "073-020                                           4.999987                                                                       4.999987                                           \n",
              "108-026                                           5.000000                                                                       5.000000                                           \n",
              "...                                                    ...                                                                            ...                                           \n",
              "050-026                                           4.999998                                                                       4.999998                                           \n",
              "133-005                                           5.000000                                                                       5.000000                                           \n",
              "098-008                                           5.000000                                                                       5.000000                                           \n",
              "093-020                                          10.000004                                                                      10.000004                                           \n",
              "139-008                                           2.500000                                                                       2.500000                                           \n",
              "\n",
              "[100 rows x 2 columns]"
            ]
          },
          "metadata": {
            "tags": []
          },
          "execution_count": 266
        }
      ]
    },
    {
      "cell_type": "markdown",
      "metadata": {
        "id": "mzQ_FNmgRUit"
      },
      "source": [
        "# 推薦模式測試觀察重點調幅(op_opt - op)以及已經是否滿足約束條件或足夠趨近約束條件"
      ]
    },
    {
      "cell_type": "code",
      "metadata": {
        "colab": {
          "base_uri": "https://localhost:8080/"
        },
        "id": "aIe4hWZvREz5",
        "outputId": "d23e8293-cb3a-4658-aab2-63b616980f27"
      },
      "source": [
        "f = AllSystem(config)\n",
        "idx = 5\n",
        "icg_input = icg_input.iloc[[idx]]\n",
        "c620_feed = c620_feed.iloc[[idx]]\n",
        "t651_feed = t651_feed.iloc[[idx]]\n",
        "# minibatch output \n",
        "c620_op = c620_op.iloc[[idx]]\n",
        "c620_wt = c620_wt.iloc[[idx]]\n",
        "c660_op = c660_op.iloc[[idx]]\n",
        "c660_wt = c660_wt.iloc[[idx]]\n",
        "c670_op = c670_op.iloc[[idx]]\n",
        "c670_wt = c670_wt.iloc[[idx]]\n",
        "\n",
        "print(icg_input['Simulation Case Conditions_Spec 1 : Benzene in C620 Sidedraw_wt%'])\n",
        "print(icg_input['Simulation Case Conditions_Spec 2 : NA in Benzene_ppmw'])\n",
        "print(icg_input['Benzene Column C660 Operation_Specifications_Spec 3 : Toluene in Benzene_ppmw'])"
      ],
      "execution_count": 267,
      "outputs": [
        {
          "output_type": "stream",
          "text": [
            "120-005    90.0\n",
            "Name: Simulation Case Conditions_Spec 1 : Benzene in C620 Sidedraw_wt%, dtype: float64\n",
            "120-005    860.0\n",
            "Name: Simulation Case Conditions_Spec 2 : NA in Benzene_ppmw, dtype: float64\n",
            "120-005    10.000108\n",
            "Name: Benzene Column C660 Operation_Specifications_Spec 3 : Toluene in Benzene_ppmw, dtype: float64\n"
          ],
          "name": "stdout"
        }
      ]
    },
    {
      "cell_type": "code",
      "metadata": {
        "id": "e5_cis1liGZw",
        "outputId": "caeab2c5-5e62-4fc4-db6c-20a4c8a30e4c",
        "colab": {
          "base_uri": "https://localhost:8080/"
        }
      },
      "source": [
        "print(icg_input['Tatoray Stripper C620 Operation_Specifications_Spec 2 : Distillate Rate_m3/hr'])"
      ],
      "execution_count": 268,
      "outputs": [
        {
          "output_type": "stream",
          "text": [
            "120-005    0.01\n",
            "Name: Tatoray Stripper C620 Operation_Specifications_Spec 2 : Distillate Rate_m3/hr, dtype: float64\n"
          ],
          "name": "stdout"
        }
      ]
    },
    {
      "cell_type": "code",
      "metadata": {
        "id": "PyuZyjzmki0y",
        "colab": {
          "base_uri": "https://localhost:8080/"
        },
        "outputId": "03b620fb-4dbe-411a-80b5-70d96491edcf"
      },
      "source": [
        "c620_wt,c620_op_opt,c660_wt,c660_op_opt,c670_wt,c670_op_opt,bz_error,nainbz_error,tol_error = f.recommend(icg_input,c620_feed,t651_feed,search_iteration=300,auto_set_x0=True)"
      ],
      "execution_count": 269,
      "outputs": [
        {
          "output_type": "stream",
          "text": [
            "\u001b[32m[I 2021-04-26 14:35:36,003]\u001b[0m A new study created in memory with name: no-name-48f78a48-7e66-4629-a2f6-de93da61e037\u001b[0m\n",
            "\u001b[32m[I 2021-04-26 14:35:36,175]\u001b[0m Trial 0 finished with value: 2.8329616758213323 and parameters: {'Tatoray Stripper C620 Operation_Column Temp Profile_C620 Tray 14 (Control)_oC': 177.84667658970588, 'Tatoray Stripper C620 Operation_Column Temp Profile_C620 Tray 34 (Control)_oC': 193.83582050086358, 'Benzene Column C660 Operation_Column Temp Profile_C660 Tray 6 (SD & Control)_oC': 87.17822206712508, 'Benzene Column C660 Operation_Column Temp Profile_C660 Tray 23 (Control)_oC': 92.16437878616145, 'Tatoray Stripper C620 Operation_Specifications_Spec 2 : Distillate Rate_m3/hr': 5.997202773790919, 'Simulation Case Conditions_Spec 2 : NA in Benzene_ppmw': 922.3115857329672}. Best is trial 0 with value: 2.8329616758213323.\u001b[0m\n"
          ],
          "name": "stderr"
        },
        {
          "output_type": "stream",
          "text": [
            "===================auto_set_x0=====================================\n",
            "icg_input[Tatoray Stripper C620 Operation_Specifications_Spec 3 : Benzene in Sidedraw_wt%] = 70\n",
            "icg_input[Simulation Case Conditions_Spec 2 : NA in Benzene_ppmw] = 980\n",
            "icg_input[Benzene Column C660 Operation_Specifications_Spec 3 : Toluene in Benzene_ppmw] = 10\n"
          ],
          "name": "stdout"
        },
        {
          "output_type": "stream",
          "text": [
            "\u001b[32m[I 2021-04-26 14:35:36,333]\u001b[0m Trial 1 finished with value: 1.4550172803965156 and parameters: {'Tatoray Stripper C620 Operation_Column Temp Profile_C620 Tray 14 (Control)_oC': 175.47661826411783, 'Tatoray Stripper C620 Operation_Column Temp Profile_C620 Tray 34 (Control)_oC': 192.1227853042159, 'Benzene Column C660 Operation_Column Temp Profile_C660 Tray 6 (SD & Control)_oC': 86.7896704027466, 'Benzene Column C660 Operation_Column Temp Profile_C660 Tray 23 (Control)_oC': 90.92841569451963, 'Tatoray Stripper C620 Operation_Specifications_Spec 2 : Distillate Rate_m3/hr': 0.05104367556845184, 'Simulation Case Conditions_Spec 2 : NA in Benzene_ppmw': 979.9114310380852}. Best is trial 1 with value: 1.4550172803965156.\u001b[0m\n",
            "\u001b[32m[I 2021-04-26 14:35:36,493]\u001b[0m Trial 2 finished with value: 1.281791190819049 and parameters: {'Tatoray Stripper C620 Operation_Column Temp Profile_C620 Tray 14 (Control)_oC': 175.54094210119968, 'Tatoray Stripper C620 Operation_Column Temp Profile_C620 Tray 34 (Control)_oC': 192.21940339300468, 'Benzene Column C660 Operation_Column Temp Profile_C660 Tray 6 (SD & Control)_oC': 86.94647228469697, 'Benzene Column C660 Operation_Column Temp Profile_C660 Tray 23 (Control)_oC': 91.30184143149432, 'Tatoray Stripper C620 Operation_Specifications_Spec 2 : Distillate Rate_m3/hr': 0.06634748778214122, 'Simulation Case Conditions_Spec 2 : NA in Benzene_ppmw': 979.7782967675963}. Best is trial 2 with value: 1.281791190819049.\u001b[0m\n",
            "\u001b[32m[I 2021-04-26 14:35:36,650]\u001b[0m Trial 3 finished with value: 2.687630054042934 and parameters: {'Tatoray Stripper C620 Operation_Column Temp Profile_C620 Tray 14 (Control)_oC': 175.40968372145642, 'Tatoray Stripper C620 Operation_Column Temp Profile_C620 Tray 34 (Control)_oC': 192.006818079997, 'Benzene Column C660 Operation_Column Temp Profile_C660 Tray 6 (SD & Control)_oC': 87.22255469651994, 'Benzene Column C660 Operation_Column Temp Profile_C660 Tray 23 (Control)_oC': 91.19479912735112, 'Tatoray Stripper C620 Operation_Specifications_Spec 2 : Distillate Rate_m3/hr': 0.05673266740027563, 'Simulation Case Conditions_Spec 2 : NA in Benzene_ppmw': 979.8368127916066}. Best is trial 2 with value: 1.281791190819049.\u001b[0m\n",
            "\u001b[32m[I 2021-04-26 14:35:36,819]\u001b[0m Trial 4 finished with value: 2.956492927212631 and parameters: {'Tatoray Stripper C620 Operation_Column Temp Profile_C620 Tray 14 (Control)_oC': 175.7304225458978, 'Tatoray Stripper C620 Operation_Column Temp Profile_C620 Tray 34 (Control)_oC': 192.02622731402462, 'Benzene Column C660 Operation_Column Temp Profile_C660 Tray 6 (SD & Control)_oC': 87.28218304446546, 'Benzene Column C660 Operation_Column Temp Profile_C660 Tray 23 (Control)_oC': 91.35107438735984, 'Tatoray Stripper C620 Operation_Specifications_Spec 2 : Distillate Rate_m3/hr': 0.25101227196818765, 'Simulation Case Conditions_Spec 2 : NA in Benzene_ppmw': 979.9205111755479}. Best is trial 2 with value: 1.281791190819049.\u001b[0m\n",
            "\u001b[32m[I 2021-04-26 14:35:36,970]\u001b[0m Trial 5 finished with value: 1.635659851421661 and parameters: {'Tatoray Stripper C620 Operation_Column Temp Profile_C620 Tray 14 (Control)_oC': 175.3790788454109, 'Tatoray Stripper C620 Operation_Column Temp Profile_C620 Tray 34 (Control)_oC': 192.08490306325243, 'Benzene Column C660 Operation_Column Temp Profile_C660 Tray 6 (SD & Control)_oC': 87.01857781234395, 'Benzene Column C660 Operation_Column Temp Profile_C660 Tray 23 (Control)_oC': 91.16597533509437, 'Tatoray Stripper C620 Operation_Specifications_Spec 2 : Distillate Rate_m3/hr': 0.6286882527178803, 'Simulation Case Conditions_Spec 2 : NA in Benzene_ppmw': 979.6940555097596}. Best is trial 2 with value: 1.281791190819049.\u001b[0m\n",
            "\u001b[32m[I 2021-04-26 14:35:37,127]\u001b[0m Trial 6 finished with value: 1.8559276310566033 and parameters: {'Tatoray Stripper C620 Operation_Column Temp Profile_C620 Tray 14 (Control)_oC': 175.3142840764092, 'Tatoray Stripper C620 Operation_Column Temp Profile_C620 Tray 34 (Control)_oC': 192.3447465620404, 'Benzene Column C660 Operation_Column Temp Profile_C660 Tray 6 (SD & Control)_oC': 87.05224158733827, 'Benzene Column C660 Operation_Column Temp Profile_C660 Tray 23 (Control)_oC': 90.98463435512852, 'Tatoray Stripper C620 Operation_Specifications_Spec 2 : Distillate Rate_m3/hr': 0.15143411638077625, 'Simulation Case Conditions_Spec 2 : NA in Benzene_ppmw': 979.6632726832252}. Best is trial 2 with value: 1.281791190819049.\u001b[0m\n",
            "\u001b[32m[I 2021-04-26 14:35:37,280]\u001b[0m Trial 7 finished with value: 2.5018491239663594 and parameters: {'Tatoray Stripper C620 Operation_Column Temp Profile_C620 Tray 14 (Control)_oC': 175.1594879832595, 'Tatoray Stripper C620 Operation_Column Temp Profile_C620 Tray 34 (Control)_oC': 192.0638196937498, 'Benzene Column C660 Operation_Column Temp Profile_C660 Tray 6 (SD & Control)_oC': 87.18292909145026, 'Benzene Column C660 Operation_Column Temp Profile_C660 Tray 23 (Control)_oC': 91.09844809233066, 'Tatoray Stripper C620 Operation_Specifications_Spec 2 : Distillate Rate_m3/hr': 0.1841168139132763, 'Simulation Case Conditions_Spec 2 : NA in Benzene_ppmw': 979.9491530426141}. Best is trial 2 with value: 1.281791190819049.\u001b[0m\n",
            "\u001b[32m[I 2021-04-26 14:35:37,450]\u001b[0m Trial 8 finished with value: 1.6273663557264764 and parameters: {'Tatoray Stripper C620 Operation_Column Temp Profile_C620 Tray 14 (Control)_oC': 175.51355630722077, 'Tatoray Stripper C620 Operation_Column Temp Profile_C620 Tray 34 (Control)_oC': 192.25546085830143, 'Benzene Column C660 Operation_Column Temp Profile_C660 Tray 6 (SD & Control)_oC': 86.7191255130819, 'Benzene Column C660 Operation_Column Temp Profile_C660 Tray 23 (Control)_oC': 90.93458633787414, 'Tatoray Stripper C620 Operation_Specifications_Spec 2 : Distillate Rate_m3/hr': 0.033079278727341066, 'Simulation Case Conditions_Spec 2 : NA in Benzene_ppmw': 979.6517664164287}. Best is trial 2 with value: 1.281791190819049.\u001b[0m\n",
            "\u001b[32m[I 2021-04-26 14:35:37,602]\u001b[0m Trial 9 finished with value: 1.137302370570551 and parameters: {'Tatoray Stripper C620 Operation_Column Temp Profile_C620 Tray 14 (Control)_oC': 175.6068471794856, 'Tatoray Stripper C620 Operation_Column Temp Profile_C620 Tray 34 (Control)_oC': 192.32133647623385, 'Benzene Column C660 Operation_Column Temp Profile_C660 Tray 6 (SD & Control)_oC': 86.90180536470436, 'Benzene Column C660 Operation_Column Temp Profile_C660 Tray 23 (Control)_oC': 91.20509832351922, 'Tatoray Stripper C620 Operation_Specifications_Spec 2 : Distillate Rate_m3/hr': 0.2321821940687985, 'Simulation Case Conditions_Spec 2 : NA in Benzene_ppmw': 979.851743048901}. Best is trial 9 with value: 1.137302370570551.\u001b[0m\n",
            "\u001b[32m[I 2021-04-26 14:35:37,796]\u001b[0m Trial 10 finished with value: 1.8818844805904087 and parameters: {'Tatoray Stripper C620 Operation_Column Temp Profile_C620 Tray 14 (Control)_oC': 175.77495754984855, 'Tatoray Stripper C620 Operation_Column Temp Profile_C620 Tray 34 (Control)_oC': 192.10489528014563, 'Benzene Column C660 Operation_Column Temp Profile_C660 Tray 6 (SD & Control)_oC': 86.55914286268991, 'Benzene Column C660 Operation_Column Temp Profile_C660 Tray 23 (Control)_oC': 91.13447289107309, 'Tatoray Stripper C620 Operation_Specifications_Spec 2 : Distillate Rate_m3/hr': 0.09611040022662534, 'Simulation Case Conditions_Spec 2 : NA in Benzene_ppmw': 979.8150106865285}. Best is trial 9 with value: 1.137302370570551.\u001b[0m\n",
            "\u001b[32m[I 2021-04-26 14:35:37,998]\u001b[0m Trial 11 finished with value: 1.486656781902526 and parameters: {'Tatoray Stripper C620 Operation_Column Temp Profile_C620 Tray 14 (Control)_oC': 175.38526072170305, 'Tatoray Stripper C620 Operation_Column Temp Profile_C620 Tray 34 (Control)_oC': 192.6451734319229, 'Benzene Column C660 Operation_Column Temp Profile_C660 Tray 6 (SD & Control)_oC': 86.96830955624173, 'Benzene Column C660 Operation_Column Temp Profile_C660 Tray 23 (Control)_oC': 91.18009699651228, 'Tatoray Stripper C620 Operation_Specifications_Spec 2 : Distillate Rate_m3/hr': 0.06491411690355575, 'Simulation Case Conditions_Spec 2 : NA in Benzene_ppmw': 979.6265801532123}. Best is trial 9 with value: 1.137302370570551.\u001b[0m\n",
            "\u001b[32m[I 2021-04-26 14:35:38,186]\u001b[0m Trial 12 finished with value: 1.663613514082487 and parameters: {'Tatoray Stripper C620 Operation_Column Temp Profile_C620 Tray 14 (Control)_oC': 175.3256380165705, 'Tatoray Stripper C620 Operation_Column Temp Profile_C620 Tray 34 (Control)_oC': 192.3525774633258, 'Benzene Column C660 Operation_Column Temp Profile_C660 Tray 6 (SD & Control)_oC': 86.71701913876291, 'Benzene Column C660 Operation_Column Temp Profile_C660 Tray 23 (Control)_oC': 91.2436590512468, 'Tatoray Stripper C620 Operation_Specifications_Spec 2 : Distillate Rate_m3/hr': 0.10330999583105574, 'Simulation Case Conditions_Spec 2 : NA in Benzene_ppmw': 979.6545628462961}. Best is trial 9 with value: 1.137302370570551.\u001b[0m\n",
            "\u001b[32m[I 2021-04-26 14:35:38,383]\u001b[0m Trial 13 finished with value: 1.1298056299406138 and parameters: {'Tatoray Stripper C620 Operation_Column Temp Profile_C620 Tray 14 (Control)_oC': 175.75869068625903, 'Tatoray Stripper C620 Operation_Column Temp Profile_C620 Tray 34 (Control)_oC': 192.14514240385358, 'Benzene Column C660 Operation_Column Temp Profile_C660 Tray 6 (SD & Control)_oC': 86.89893850104339, 'Benzene Column C660 Operation_Column Temp Profile_C660 Tray 23 (Control)_oC': 91.15970896475709, 'Tatoray Stripper C620 Operation_Specifications_Spec 2 : Distillate Rate_m3/hr': 0.054812857209536464, 'Simulation Case Conditions_Spec 2 : NA in Benzene_ppmw': 979.6539767734097}. Best is trial 13 with value: 1.1298056299406138.\u001b[0m\n",
            "\u001b[32m[I 2021-04-26 14:35:38,595]\u001b[0m Trial 14 finished with value: 1.2236435515407402 and parameters: {'Tatoray Stripper C620 Operation_Column Temp Profile_C620 Tray 14 (Control)_oC': 175.54823523313544, 'Tatoray Stripper C620 Operation_Column Temp Profile_C620 Tray 34 (Control)_oC': 192.41981600118217, 'Benzene Column C660 Operation_Column Temp Profile_C660 Tray 6 (SD & Control)_oC': 86.90842892852604, 'Benzene Column C660 Operation_Column Temp Profile_C660 Tray 23 (Control)_oC': 90.93885693431949, 'Tatoray Stripper C620 Operation_Specifications_Spec 2 : Distillate Rate_m3/hr': 0.09175703349022231, 'Simulation Case Conditions_Spec 2 : NA in Benzene_ppmw': 979.7796466519206}. Best is trial 13 with value: 1.1298056299406138.\u001b[0m\n",
            "\u001b[32m[I 2021-04-26 14:35:38,792]\u001b[0m Trial 15 finished with value: 1.3372658282790229 and parameters: {'Tatoray Stripper C620 Operation_Column Temp Profile_C620 Tray 14 (Control)_oC': 175.66607516783847, 'Tatoray Stripper C620 Operation_Column Temp Profile_C620 Tray 34 (Control)_oC': 192.09536543007292, 'Benzene Column C660 Operation_Column Temp Profile_C660 Tray 6 (SD & Control)_oC': 86.83193045769687, 'Benzene Column C660 Operation_Column Temp Profile_C660 Tray 23 (Control)_oC': 91.00284389310731, 'Tatoray Stripper C620 Operation_Specifications_Spec 2 : Distillate Rate_m3/hr': 0.19559685017383477, 'Simulation Case Conditions_Spec 2 : NA in Benzene_ppmw': 979.7300381799078}. Best is trial 13 with value: 1.1298056299406138.\u001b[0m\n",
            "\u001b[32m[I 2021-04-26 14:35:38,979]\u001b[0m Trial 16 finished with value: 1.2568600048387941 and parameters: {'Tatoray Stripper C620 Operation_Column Temp Profile_C620 Tray 14 (Control)_oC': 175.29725675560746, 'Tatoray Stripper C620 Operation_Column Temp Profile_C620 Tray 34 (Control)_oC': 192.40622125944242, 'Benzene Column C660 Operation_Column Temp Profile_C660 Tray 6 (SD & Control)_oC': 86.93124406840084, 'Benzene Column C660 Operation_Column Temp Profile_C660 Tray 23 (Control)_oC': 91.22030194704674, 'Tatoray Stripper C620 Operation_Specifications_Spec 2 : Distillate Rate_m3/hr': 0.2728487071896938, 'Simulation Case Conditions_Spec 2 : NA in Benzene_ppmw': 979.7325722859562}. Best is trial 13 with value: 1.1298056299406138.\u001b[0m\n",
            "\u001b[32m[I 2021-04-26 14:35:39,177]\u001b[0m Trial 17 finished with value: 1.9305244718715824 and parameters: {'Tatoray Stripper C620 Operation_Column Temp Profile_C620 Tray 14 (Control)_oC': 175.58700743575463, 'Tatoray Stripper C620 Operation_Column Temp Profile_C620 Tray 34 (Control)_oC': 192.20575951274694, 'Benzene Column C660 Operation_Column Temp Profile_C660 Tray 6 (SD & Control)_oC': 87.06664769029439, 'Benzene Column C660 Operation_Column Temp Profile_C660 Tray 23 (Control)_oC': 90.919831923114, 'Tatoray Stripper C620 Operation_Specifications_Spec 2 : Distillate Rate_m3/hr': 0.18511364345528977, 'Simulation Case Conditions_Spec 2 : NA in Benzene_ppmw': 979.5359283870791}. Best is trial 13 with value: 1.1298056299406138.\u001b[0m\n",
            "\u001b[32m[I 2021-04-26 14:35:39,381]\u001b[0m Trial 18 finished with value: 1.396309610710729 and parameters: {'Tatoray Stripper C620 Operation_Column Temp Profile_C620 Tray 14 (Control)_oC': 175.6399336831836, 'Tatoray Stripper C620 Operation_Column Temp Profile_C620 Tray 34 (Control)_oC': 192.1074429674685, 'Benzene Column C660 Operation_Column Temp Profile_C660 Tray 6 (SD & Control)_oC': 86.82274299938818, 'Benzene Column C660 Operation_Column Temp Profile_C660 Tray 23 (Control)_oC': 91.20730293884262, 'Tatoray Stripper C620 Operation_Specifications_Spec 2 : Distillate Rate_m3/hr': 0.03707323529351349, 'Simulation Case Conditions_Spec 2 : NA in Benzene_ppmw': 979.9954385139401}. Best is trial 13 with value: 1.1298056299406138.\u001b[0m\n",
            "\u001b[32m[I 2021-04-26 14:35:39,583]\u001b[0m Trial 19 finished with value: 1.3706937314717313 and parameters: {'Tatoray Stripper C620 Operation_Column Temp Profile_C620 Tray 14 (Control)_oC': 175.75823069544947, 'Tatoray Stripper C620 Operation_Column Temp Profile_C620 Tray 34 (Control)_oC': 192.16159297645765, 'Benzene Column C660 Operation_Column Temp Profile_C660 Tray 6 (SD & Control)_oC': 86.83252372253158, 'Benzene Column C660 Operation_Column Temp Profile_C660 Tray 23 (Control)_oC': 91.26388471711294, 'Tatoray Stripper C620 Operation_Specifications_Spec 2 : Distillate Rate_m3/hr': 0.13071336926057991, 'Simulation Case Conditions_Spec 2 : NA in Benzene_ppmw': 979.640300323932}. Best is trial 13 with value: 1.1298056299406138.\u001b[0m\n",
            "\u001b[32m[I 2021-04-26 14:35:39,786]\u001b[0m Trial 20 finished with value: 2.2446180023731688 and parameters: {'Tatoray Stripper C620 Operation_Column Temp Profile_C620 Tray 14 (Control)_oC': 175.7426195709836, 'Tatoray Stripper C620 Operation_Column Temp Profile_C620 Tray 34 (Control)_oC': 192.3757468636897, 'Benzene Column C660 Operation_Column Temp Profile_C660 Tray 6 (SD & Control)_oC': 87.13538522643474, 'Benzene Column C660 Operation_Column Temp Profile_C660 Tray 23 (Control)_oC': 91.23988434031729, 'Tatoray Stripper C620 Operation_Specifications_Spec 2 : Distillate Rate_m3/hr': 0.12294366158564092, 'Simulation Case Conditions_Spec 2 : NA in Benzene_ppmw': 979.8390878756998}. Best is trial 13 with value: 1.1298056299406138.\u001b[0m\n",
            "\u001b[32m[I 2021-04-26 14:35:39,977]\u001b[0m Trial 21 finished with value: 1.730934055696165 and parameters: {'Tatoray Stripper C620 Operation_Column Temp Profile_C620 Tray 14 (Control)_oC': 175.33350970758397, 'Tatoray Stripper C620 Operation_Column Temp Profile_C620 Tray 34 (Control)_oC': 192.3026712733346, 'Benzene Column C660 Operation_Column Temp Profile_C660 Tray 6 (SD & Control)_oC': 87.0372156471317, 'Benzene Column C660 Operation_Column Temp Profile_C660 Tray 23 (Control)_oC': 91.16941677270758, 'Tatoray Stripper C620 Operation_Specifications_Spec 2 : Distillate Rate_m3/hr': 0.06236544874893758, 'Simulation Case Conditions_Spec 2 : NA in Benzene_ppmw': 979.8871095945844}. Best is trial 13 with value: 1.1298056299406138.\u001b[0m\n",
            "\u001b[32m[I 2021-04-26 14:35:40,170]\u001b[0m Trial 22 finished with value: 1.4128391484811722 and parameters: {'Tatoray Stripper C620 Operation_Column Temp Profile_C620 Tray 14 (Control)_oC': 175.57961738875602, 'Tatoray Stripper C620 Operation_Column Temp Profile_C620 Tray 34 (Control)_oC': 192.52012494465393, 'Benzene Column C660 Operation_Column Temp Profile_C660 Tray 6 (SD & Control)_oC': 86.8146600252942, 'Benzene Column C660 Operation_Column Temp Profile_C660 Tray 23 (Control)_oC': 91.1000519397431, 'Tatoray Stripper C620 Operation_Specifications_Spec 2 : Distillate Rate_m3/hr': 0.08354036522376855, 'Simulation Case Conditions_Spec 2 : NA in Benzene_ppmw': 979.6454638278558}. Best is trial 13 with value: 1.1298056299406138.\u001b[0m\n",
            "\u001b[32m[I 2021-04-26 14:35:40,386]\u001b[0m Trial 23 finished with value: 1.699245073577328 and parameters: {'Tatoray Stripper C620 Operation_Column Temp Profile_C620 Tray 14 (Control)_oC': 175.6328865270978, 'Tatoray Stripper C620 Operation_Column Temp Profile_C620 Tray 34 (Control)_oC': 192.21940496111895, 'Benzene Column C660 Operation_Column Temp Profile_C660 Tray 6 (SD & Control)_oC': 86.66131591742817, 'Benzene Column C660 Operation_Column Temp Profile_C660 Tray 23 (Control)_oC': 90.55267658068735, 'Tatoray Stripper C620 Operation_Specifications_Spec 2 : Distillate Rate_m3/hr': 0.3543114058554482, 'Simulation Case Conditions_Spec 2 : NA in Benzene_ppmw': 979.6308612257674}. Best is trial 13 with value: 1.1298056299406138.\u001b[0m\n",
            "\u001b[32m[I 2021-04-26 14:35:40,579]\u001b[0m Trial 24 finished with value: 2.820718630086982 and parameters: {'Tatoray Stripper C620 Operation_Column Temp Profile_C620 Tray 14 (Control)_oC': 175.78196739594512, 'Tatoray Stripper C620 Operation_Column Temp Profile_C620 Tray 34 (Control)_oC': 192.30422927965066, 'Benzene Column C660 Operation_Column Temp Profile_C660 Tray 6 (SD & Control)_oC': 87.25240564522159, 'Benzene Column C660 Operation_Column Temp Profile_C660 Tray 23 (Control)_oC': 91.36495216606808, 'Tatoray Stripper C620 Operation_Specifications_Spec 2 : Distillate Rate_m3/hr': 0.007638839828634322, 'Simulation Case Conditions_Spec 2 : NA in Benzene_ppmw': 979.7899619130168}. Best is trial 13 with value: 1.1298056299406138.\u001b[0m\n",
            "\u001b[32m[I 2021-04-26 14:35:40,776]\u001b[0m Trial 25 finished with value: 1.26209850711676 and parameters: {'Tatoray Stripper C620 Operation_Column Temp Profile_C620 Tray 14 (Control)_oC': 175.55672445725915, 'Tatoray Stripper C620 Operation_Column Temp Profile_C620 Tray 34 (Control)_oC': 192.36478269250358, 'Benzene Column C660 Operation_Column Temp Profile_C660 Tray 6 (SD & Control)_oC': 86.92290213538722, 'Benzene Column C660 Operation_Column Temp Profile_C660 Tray 23 (Control)_oC': 90.99208675507913, 'Tatoray Stripper C620 Operation_Specifications_Spec 2 : Distillate Rate_m3/hr': 0.045495528196508, 'Simulation Case Conditions_Spec 2 : NA in Benzene_ppmw': 979.7859083366437}. Best is trial 13 with value: 1.1298056299406138.\u001b[0m\n",
            "\u001b[32m[I 2021-04-26 14:35:40,971]\u001b[0m Trial 26 finished with value: 1.2335602385919315 and parameters: {'Tatoray Stripper C620 Operation_Column Temp Profile_C620 Tray 14 (Control)_oC': 175.59606017373696, 'Tatoray Stripper C620 Operation_Column Temp Profile_C620 Tray 34 (Control)_oC': 192.28061838691076, 'Benzene Column C660 Operation_Column Temp Profile_C660 Tray 6 (SD & Control)_oC': 86.9192473990026, 'Benzene Column C660 Operation_Column Temp Profile_C660 Tray 23 (Control)_oC': 91.01073229491095, 'Tatoray Stripper C620 Operation_Specifications_Spec 2 : Distillate Rate_m3/hr': 0.1029436996835353, 'Simulation Case Conditions_Spec 2 : NA in Benzene_ppmw': 979.7739988620863}. Best is trial 13 with value: 1.1298056299406138.\u001b[0m\n",
            "\u001b[32m[I 2021-04-26 14:35:41,180]\u001b[0m Trial 27 finished with value: 1.1780914118696049 and parameters: {'Tatoray Stripper C620 Operation_Column Temp Profile_C620 Tray 14 (Control)_oC': 175.70817137634728, 'Tatoray Stripper C620 Operation_Column Temp Profile_C620 Tray 34 (Control)_oC': 192.11905714650132, 'Benzene Column C660 Operation_Column Temp Profile_C660 Tray 6 (SD & Control)_oC': 86.87702510641623, 'Benzene Column C660 Operation_Column Temp Profile_C660 Tray 23 (Control)_oC': 90.98308580318233, 'Tatoray Stripper C620 Operation_Specifications_Spec 2 : Distillate Rate_m3/hr': 0.30148540300989296, 'Simulation Case Conditions_Spec 2 : NA in Benzene_ppmw': 979.433535228757}. Best is trial 13 with value: 1.1298056299406138.\u001b[0m\n",
            "\u001b[32m[I 2021-04-26 14:35:41,375]\u001b[0m Trial 28 finished with value: 1.4152895195301833 and parameters: {'Tatoray Stripper C620 Operation_Column Temp Profile_C620 Tray 14 (Control)_oC': 175.63148353981637, 'Tatoray Stripper C620 Operation_Column Temp Profile_C620 Tray 34 (Control)_oC': 192.1367981174381, 'Benzene Column C660 Operation_Column Temp Profile_C660 Tray 6 (SD & Control)_oC': 86.80097131177116, 'Benzene Column C660 Operation_Column Temp Profile_C660 Tray 23 (Control)_oC': 90.87172118737513, 'Tatoray Stripper C620 Operation_Specifications_Spec 2 : Distillate Rate_m3/hr': 0.01286495636683005, 'Simulation Case Conditions_Spec 2 : NA in Benzene_ppmw': 979.6438716015407}. Best is trial 13 with value: 1.1298056299406138.\u001b[0m\n",
            "\u001b[32m[I 2021-04-26 14:35:41,566]\u001b[0m Trial 29 finished with value: 1.8347803210539118 and parameters: {'Tatoray Stripper C620 Operation_Column Temp Profile_C620 Tray 14 (Control)_oC': 175.76901297421256, 'Tatoray Stripper C620 Operation_Column Temp Profile_C620 Tray 34 (Control)_oC': 192.28405514448858, 'Benzene Column C660 Operation_Column Temp Profile_C660 Tray 6 (SD & Control)_oC': 87.06125617128428, 'Benzene Column C660 Operation_Column Temp Profile_C660 Tray 23 (Control)_oC': 91.2517498483941, 'Tatoray Stripper C620 Operation_Specifications_Spec 2 : Distillate Rate_m3/hr': 0.2055599439726226, 'Simulation Case Conditions_Spec 2 : NA in Benzene_ppmw': 979.7193052805308}. Best is trial 13 with value: 1.1298056299406138.\u001b[0m\n",
            "\u001b[32m[I 2021-04-26 14:35:41,767]\u001b[0m Trial 30 finished with value: 1.3892769703125998 and parameters: {'Tatoray Stripper C620 Operation_Column Temp Profile_C620 Tray 14 (Control)_oC': 175.6695917922382, 'Tatoray Stripper C620 Operation_Column Temp Profile_C620 Tray 34 (Control)_oC': 192.1127989012167, 'Benzene Column C660 Operation_Column Temp Profile_C660 Tray 6 (SD & Control)_oC': 86.82316587950886, 'Benzene Column C660 Operation_Column Temp Profile_C660 Tray 23 (Control)_oC': 91.16341348337043, 'Tatoray Stripper C620 Operation_Specifications_Spec 2 : Distillate Rate_m3/hr': 0.03437416345335745, 'Simulation Case Conditions_Spec 2 : NA in Benzene_ppmw': 979.7067656711491}. Best is trial 13 with value: 1.1298056299406138.\u001b[0m\n",
            "\u001b[32m[I 2021-04-26 14:35:41,973]\u001b[0m Trial 31 finished with value: 2.435518647633765 and parameters: {'Tatoray Stripper C620 Operation_Column Temp Profile_C620 Tray 14 (Control)_oC': 175.58196935790752, 'Tatoray Stripper C620 Operation_Column Temp Profile_C620 Tray 34 (Control)_oC': 192.28353356528277, 'Benzene Column C660 Operation_Column Temp Profile_C660 Tray 6 (SD & Control)_oC': 87.16868203852563, 'Benzene Column C660 Operation_Column Temp Profile_C660 Tray 23 (Control)_oC': 91.11501941923416, 'Tatoray Stripper C620 Operation_Specifications_Spec 2 : Distillate Rate_m3/hr': 0.11403540334217253, 'Simulation Case Conditions_Spec 2 : NA in Benzene_ppmw': 979.6293601580995}. Best is trial 13 with value: 1.1298056299406138.\u001b[0m\n",
            "\u001b[32m[I 2021-04-26 14:35:42,174]\u001b[0m Trial 32 finished with value: 1.554229594610285 and parameters: {'Tatoray Stripper C620 Operation_Column Temp Profile_C620 Tray 14 (Control)_oC': 175.429515106722, 'Tatoray Stripper C620 Operation_Column Temp Profile_C620 Tray 34 (Control)_oC': 192.52862923225737, 'Benzene Column C660 Operation_Column Temp Profile_C660 Tray 6 (SD & Control)_oC': 86.78218422386426, 'Benzene Column C660 Operation_Column Temp Profile_C660 Tray 23 (Control)_oC': 91.52107254963899, 'Tatoray Stripper C620 Operation_Specifications_Spec 2 : Distillate Rate_m3/hr': 0.09190688430671681, 'Simulation Case Conditions_Spec 2 : NA in Benzene_ppmw': 979.6851809358171}. Best is trial 13 with value: 1.1298056299406138.\u001b[0m\n",
            "\u001b[32m[I 2021-04-26 14:35:42,372]\u001b[0m Trial 33 finished with value: 1.5943961268363385 and parameters: {'Tatoray Stripper C620 Operation_Column Temp Profile_C620 Tray 14 (Control)_oC': 175.53407050632072, 'Tatoray Stripper C620 Operation_Column Temp Profile_C620 Tray 34 (Control)_oC': 192.11019451607243, 'Benzene Column C660 Operation_Column Temp Profile_C660 Tray 6 (SD & Control)_oC': 86.73442950896867, 'Benzene Column C660 Operation_Column Temp Profile_C660 Tray 23 (Control)_oC': 90.9402233308593, 'Tatoray Stripper C620 Operation_Specifications_Spec 2 : Distillate Rate_m3/hr': 0.06299132223405404, 'Simulation Case Conditions_Spec 2 : NA in Benzene_ppmw': 979.5723834177088}. Best is trial 13 with value: 1.1298056299406138.\u001b[0m\n",
            "\u001b[32m[I 2021-04-26 14:35:42,563]\u001b[0m Trial 34 finished with value: 1.4408091738200104 and parameters: {'Tatoray Stripper C620 Operation_Column Temp Profile_C620 Tray 14 (Control)_oC': 175.42746289488431, 'Tatoray Stripper C620 Operation_Column Temp Profile_C620 Tray 34 (Control)_oC': 192.31423548829727, 'Benzene Column C660 Operation_Column Temp Profile_C660 Tray 6 (SD & Control)_oC': 86.80532501756417, 'Benzene Column C660 Operation_Column Temp Profile_C660 Tray 23 (Control)_oC': 91.18766040214759, 'Tatoray Stripper C620 Operation_Specifications_Spec 2 : Distillate Rate_m3/hr': 0.34071256987622484, 'Simulation Case Conditions_Spec 2 : NA in Benzene_ppmw': 979.690602234205}. Best is trial 13 with value: 1.1298056299406138.\u001b[0m\n",
            "\u001b[32m[I 2021-04-26 14:35:42,751]\u001b[0m Trial 35 finished with value: 1.486981481821755 and parameters: {'Tatoray Stripper C620 Operation_Column Temp Profile_C620 Tray 14 (Control)_oC': 175.69199649600225, 'Tatoray Stripper C620 Operation_Column Temp Profile_C620 Tray 34 (Control)_oC': 192.3776017270364, 'Benzene Column C660 Operation_Column Temp Profile_C660 Tray 6 (SD & Control)_oC': 86.98210612393255, 'Benzene Column C660 Operation_Column Temp Profile_C660 Tray 23 (Control)_oC': 91.15195989158192, 'Tatoray Stripper C620 Operation_Specifications_Spec 2 : Distillate Rate_m3/hr': 0.015411482648791275, 'Simulation Case Conditions_Spec 2 : NA in Benzene_ppmw': 979.798472336874}. Best is trial 13 with value: 1.1298056299406138.\u001b[0m\n",
            "\u001b[32m[I 2021-04-26 14:35:42,951]\u001b[0m Trial 36 finished with value: 2.3759916106643937 and parameters: {'Tatoray Stripper C620 Operation_Column Temp Profile_C620 Tray 14 (Control)_oC': 175.7023950481476, 'Tatoray Stripper C620 Operation_Column Temp Profile_C620 Tray 34 (Control)_oC': 192.07368851577814, 'Benzene Column C660 Operation_Column Temp Profile_C660 Tray 6 (SD & Control)_oC': 87.1512645082952, 'Benzene Column C660 Operation_Column Temp Profile_C660 Tray 23 (Control)_oC': 90.95567615772316, 'Tatoray Stripper C620 Operation_Specifications_Spec 2 : Distillate Rate_m3/hr': 0.27511843924769475, 'Simulation Case Conditions_Spec 2 : NA in Benzene_ppmw': 979.8070191451405}. Best is trial 13 with value: 1.1298056299406138.\u001b[0m\n",
            "\u001b[32m[I 2021-04-26 14:35:43,144]\u001b[0m Trial 37 finished with value: 1.2651381962182855 and parameters: {'Tatoray Stripper C620 Operation_Column Temp Profile_C620 Tray 14 (Control)_oC': 175.58134290105883, 'Tatoray Stripper C620 Operation_Column Temp Profile_C620 Tray 34 (Control)_oC': 192.24724060774048, 'Benzene Column C660 Operation_Column Temp Profile_C660 Tray 6 (SD & Control)_oC': 86.85912756470381, 'Benzene Column C660 Operation_Column Temp Profile_C660 Tray 23 (Control)_oC': 91.15477589647217, 'Tatoray Stripper C620 Operation_Specifications_Spec 2 : Distillate Rate_m3/hr': 0.40180580698874424, 'Simulation Case Conditions_Spec 2 : NA in Benzene_ppmw': 979.8632480319874}. Best is trial 13 with value: 1.1298056299406138.\u001b[0m\n",
            "\u001b[32m[I 2021-04-26 14:35:43,342]\u001b[0m Trial 38 finished with value: 1.4820374460105676 and parameters: {'Tatoray Stripper C620 Operation_Column Temp Profile_C620 Tray 14 (Control)_oC': 175.76703739376697, 'Tatoray Stripper C620 Operation_Column Temp Profile_C620 Tray 34 (Control)_oC': 192.17911965208486, 'Benzene Column C660 Operation_Column Temp Profile_C660 Tray 6 (SD & Control)_oC': 86.79175446026339, 'Benzene Column C660 Operation_Column Temp Profile_C660 Tray 23 (Control)_oC': 91.24661245326375, 'Tatoray Stripper C620 Operation_Specifications_Spec 2 : Distillate Rate_m3/hr': 0.19566853083651803, 'Simulation Case Conditions_Spec 2 : NA in Benzene_ppmw': 979.7957145442625}. Best is trial 13 with value: 1.1298056299406138.\u001b[0m\n",
            "\u001b[32m[I 2021-04-26 14:35:43,560]\u001b[0m Trial 39 finished with value: 1.2011801972703235 and parameters: {'Tatoray Stripper C620 Operation_Column Temp Profile_C620 Tray 14 (Control)_oC': 175.6075979453916, 'Tatoray Stripper C620 Operation_Column Temp Profile_C620 Tray 34 (Control)_oC': 192.2445001625165, 'Benzene Column C660 Operation_Column Temp Profile_C660 Tray 6 (SD & Control)_oC': 86.91623113834626, 'Benzene Column C660 Operation_Column Temp Profile_C660 Tray 23 (Control)_oC': 91.09926425919069, 'Tatoray Stripper C620 Operation_Specifications_Spec 2 : Distillate Rate_m3/hr': 0.16206633860765643, 'Simulation Case Conditions_Spec 2 : NA in Benzene_ppmw': 979.5366660471514}. Best is trial 13 with value: 1.1298056299406138.\u001b[0m\n",
            "\u001b[32m[I 2021-04-26 14:35:43,890]\u001b[0m Trial 40 finished with value: 1.395480218953154 and parameters: {'Tatoray Stripper C620 Operation_Column Temp Profile_C620 Tray 14 (Control)_oC': 175.44294272760118, 'Tatoray Stripper C620 Operation_Column Temp Profile_C620 Tray 34 (Control)_oC': 192.18382968322896, 'Benzene Column C660 Operation_Column Temp Profile_C660 Tray 6 (SD & Control)_oC': 86.83010125167735, 'Benzene Column C660 Operation_Column Temp Profile_C660 Tray 23 (Control)_oC': 91.37246621318643, 'Tatoray Stripper C620 Operation_Specifications_Spec 2 : Distillate Rate_m3/hr': 0.04228035291302925, 'Simulation Case Conditions_Spec 2 : NA in Benzene_ppmw': 979.6893299492026}. Best is trial 13 with value: 1.1298056299406138.\u001b[0m\n",
            "\u001b[32m[I 2021-04-26 14:35:44,079]\u001b[0m Trial 41 finished with value: 1.6287188437753424 and parameters: {'Tatoray Stripper C620 Operation_Column Temp Profile_C620 Tray 14 (Control)_oC': 175.84504519128825, 'Tatoray Stripper C620 Operation_Column Temp Profile_C620 Tray 34 (Control)_oC': 192.08701824951302, 'Benzene Column C660 Operation_Column Temp Profile_C660 Tray 6 (SD & Control)_oC': 86.72484157520624, 'Benzene Column C660 Operation_Column Temp Profile_C660 Tray 23 (Control)_oC': 91.12420951577754, 'Tatoray Stripper C620 Operation_Specifications_Spec 2 : Distillate Rate_m3/hr': 0.268968603902278, 'Simulation Case Conditions_Spec 2 : NA in Benzene_ppmw': 979.671855807039}. Best is trial 13 with value: 1.1298056299406138.\u001b[0m\n",
            "\u001b[32m[I 2021-04-26 14:35:44,276]\u001b[0m Trial 42 finished with value: 1.1366149988359038 and parameters: {'Tatoray Stripper C620 Operation_Column Temp Profile_C620 Tray 14 (Control)_oC': 175.78324390244842, 'Tatoray Stripper C620 Operation_Column Temp Profile_C620 Tray 34 (Control)_oC': 192.20764626129198, 'Benzene Column C660 Operation_Column Temp Profile_C660 Tray 6 (SD & Control)_oC': 86.89534888803728, 'Benzene Column C660 Operation_Column Temp Profile_C660 Tray 23 (Control)_oC': 91.01436088820373, 'Tatoray Stripper C620 Operation_Specifications_Spec 2 : Distillate Rate_m3/hr': 0.0836403521280115, 'Simulation Case Conditions_Spec 2 : NA in Benzene_ppmw': 979.7018205784722}. Best is trial 13 with value: 1.1298056299406138.\u001b[0m\n",
            "\u001b[32m[I 2021-04-26 14:35:44,464]\u001b[0m Trial 43 finished with value: 1.4778180635709885 and parameters: {'Tatoray Stripper C620 Operation_Column Temp Profile_C620 Tray 14 (Control)_oC': 175.55417883463002, 'Tatoray Stripper C620 Operation_Column Temp Profile_C620 Tray 34 (Control)_oC': 192.49461032947025, 'Benzene Column C660 Operation_Column Temp Profile_C660 Tray 6 (SD & Control)_oC': 86.79011313981442, 'Benzene Column C660 Operation_Column Temp Profile_C660 Tray 23 (Control)_oC': 91.0873135920423, 'Tatoray Stripper C620 Operation_Specifications_Spec 2 : Distillate Rate_m3/hr': 0.22998934524200473, 'Simulation Case Conditions_Spec 2 : NA in Benzene_ppmw': 979.8411109197713}. Best is trial 13 with value: 1.1298056299406138.\u001b[0m\n",
            "\u001b[32m[I 2021-04-26 14:35:44,660]\u001b[0m Trial 44 finished with value: 1.333927410135334 and parameters: {'Tatoray Stripper C620 Operation_Column Temp Profile_C620 Tray 14 (Control)_oC': 175.6188166564604, 'Tatoray Stripper C620 Operation_Column Temp Profile_C620 Tray 34 (Control)_oC': 192.30281220153728, 'Benzene Column C660 Operation_Column Temp Profile_C660 Tray 6 (SD & Control)_oC': 86.84484233241474, 'Benzene Column C660 Operation_Column Temp Profile_C660 Tray 23 (Control)_oC': 91.23631426975894, 'Tatoray Stripper C620 Operation_Specifications_Spec 2 : Distillate Rate_m3/hr': 0.019839540573894324, 'Simulation Case Conditions_Spec 2 : NA in Benzene_ppmw': 979.9455486879503}. Best is trial 13 with value: 1.1298056299406138.\u001b[0m\n",
            "\u001b[32m[I 2021-04-26 14:35:44,865]\u001b[0m Trial 45 finished with value: 1.5873141822900516 and parameters: {'Tatoray Stripper C620 Operation_Column Temp Profile_C620 Tray 14 (Control)_oC': 175.70777878069492, 'Tatoray Stripper C620 Operation_Column Temp Profile_C620 Tray 34 (Control)_oC': 192.2305729388767, 'Benzene Column C660 Operation_Column Temp Profile_C660 Tray 6 (SD & Control)_oC': 86.74563408001531, 'Benzene Column C660 Operation_Column Temp Profile_C660 Tray 23 (Control)_oC': 91.14394771485941, 'Tatoray Stripper C620 Operation_Specifications_Spec 2 : Distillate Rate_m3/hr': 0.09460610126783656, 'Simulation Case Conditions_Spec 2 : NA in Benzene_ppmw': 979.8721667317852}. Best is trial 13 with value: 1.1298056299406138.\u001b[0m\n",
            "\u001b[32m[I 2021-04-26 14:35:45,061]\u001b[0m Trial 46 finished with value: 1.2081642057348583 and parameters: {'Tatoray Stripper C620 Operation_Column Temp Profile_C620 Tray 14 (Control)_oC': 175.86628738589394, 'Tatoray Stripper C620 Operation_Column Temp Profile_C620 Tray 34 (Control)_oC': 192.19609346599916, 'Benzene Column C660 Operation_Column Temp Profile_C660 Tray 6 (SD & Control)_oC': 86.92111393808162, 'Benzene Column C660 Operation_Column Temp Profile_C660 Tray 23 (Control)_oC': 91.15782938891643, 'Tatoray Stripper C620 Operation_Specifications_Spec 2 : Distillate Rate_m3/hr': 0.04272078562117189, 'Simulation Case Conditions_Spec 2 : NA in Benzene_ppmw': 979.5512186847127}. Best is trial 13 with value: 1.1298056299406138.\u001b[0m\n",
            "\u001b[32m[I 2021-04-26 14:35:45,258]\u001b[0m Trial 47 finished with value: 1.4728695135222378 and parameters: {'Tatoray Stripper C620 Operation_Column Temp Profile_C620 Tray 14 (Control)_oC': 175.67023263496125, 'Tatoray Stripper C620 Operation_Column Temp Profile_C620 Tray 34 (Control)_oC': 192.15884671220593, 'Benzene Column C660 Operation_Column Temp Profile_C660 Tray 6 (SD & Control)_oC': 86.80041810913285, 'Benzene Column C660 Operation_Column Temp Profile_C660 Tray 23 (Control)_oC': 91.33789528893458, 'Tatoray Stripper C620 Operation_Specifications_Spec 2 : Distillate Rate_m3/hr': 0.14418018107797337, 'Simulation Case Conditions_Spec 2 : NA in Benzene_ppmw': 979.5743527776568}. Best is trial 13 with value: 1.1298056299406138.\u001b[0m\n",
            "\u001b[32m[I 2021-04-26 14:35:45,450]\u001b[0m Trial 48 finished with value: 1.5126254463235211 and parameters: {'Tatoray Stripper C620 Operation_Column Temp Profile_C620 Tray 14 (Control)_oC': 175.7840500494602, 'Tatoray Stripper C620 Operation_Column Temp Profile_C620 Tray 34 (Control)_oC': 192.2150566839866, 'Benzene Column C660 Operation_Column Temp Profile_C660 Tray 6 (SD & Control)_oC': 86.99165880557771, 'Benzene Column C660 Operation_Column Temp Profile_C660 Tray 23 (Control)_oC': 91.15171066701842, 'Tatoray Stripper C620 Operation_Specifications_Spec 2 : Distillate Rate_m3/hr': 0.3679270184848862, 'Simulation Case Conditions_Spec 2 : NA in Benzene_ppmw': 979.7040406013813}. Best is trial 13 with value: 1.1298056299406138.\u001b[0m\n",
            "\u001b[32m[I 2021-04-26 14:35:45,648]\u001b[0m Trial 49 finished with value: 1.3006140301145939 and parameters: {'Tatoray Stripper C620 Operation_Column Temp Profile_C620 Tray 14 (Control)_oC': 175.85078458056128, 'Tatoray Stripper C620 Operation_Column Temp Profile_C620 Tray 34 (Control)_oC': 192.38046296869345, 'Benzene Column C660 Operation_Column Temp Profile_C660 Tray 6 (SD & Control)_oC': 86.85569889489426, 'Benzene Column C660 Operation_Column Temp Profile_C660 Tray 23 (Control)_oC': 91.27121051452436, 'Tatoray Stripper C620 Operation_Specifications_Spec 2 : Distillate Rate_m3/hr': 0.26123405571202496, 'Simulation Case Conditions_Spec 2 : NA in Benzene_ppmw': 979.6446362412985}. Best is trial 13 with value: 1.1298056299406138.\u001b[0m\n",
            "\u001b[32m[I 2021-04-26 14:35:45,837]\u001b[0m Trial 50 finished with value: 1.2156024708028084 and parameters: {'Tatoray Stripper C620 Operation_Column Temp Profile_C620 Tray 14 (Control)_oC': 175.66855620561196, 'Tatoray Stripper C620 Operation_Column Temp Profile_C620 Tray 34 (Control)_oC': 192.2561163973037, 'Benzene Column C660 Operation_Column Temp Profile_C660 Tray 6 (SD & Control)_oC': 86.90440175056109, 'Benzene Column C660 Operation_Column Temp Profile_C660 Tray 23 (Control)_oC': 90.77953748658, 'Tatoray Stripper C620 Operation_Specifications_Spec 2 : Distillate Rate_m3/hr': 0.2921055733253433, 'Simulation Case Conditions_Spec 2 : NA in Benzene_ppmw': 979.5716350517808}. Best is trial 13 with value: 1.1298056299406138.\u001b[0m\n",
            "\u001b[32m[I 2021-04-26 14:35:46,035]\u001b[0m Trial 51 finished with value: 1.3802393455339765 and parameters: {'Tatoray Stripper C620 Operation_Column Temp Profile_C620 Tray 14 (Control)_oC': 175.93212839818992, 'Tatoray Stripper C620 Operation_Column Temp Profile_C620 Tray 34 (Control)_oC': 192.2077117432974, 'Benzene Column C660 Operation_Column Temp Profile_C660 Tray 6 (SD & Control)_oC': 86.96115804883935, 'Benzene Column C660 Operation_Column Temp Profile_C660 Tray 23 (Control)_oC': 91.13724296929209, 'Tatoray Stripper C620 Operation_Specifications_Spec 2 : Distillate Rate_m3/hr': 0.2422946016834106, 'Simulation Case Conditions_Spec 2 : NA in Benzene_ppmw': 979.7362562005601}. Best is trial 13 with value: 1.1298056299406138.\u001b[0m\n",
            "\u001b[32m[I 2021-04-26 14:35:46,230]\u001b[0m Trial 52 finished with value: 1.3139810862850845 and parameters: {'Tatoray Stripper C620 Operation_Column Temp Profile_C620 Tray 14 (Control)_oC': 175.55552718253463, 'Tatoray Stripper C620 Operation_Column Temp Profile_C620 Tray 34 (Control)_oC': 192.07980830438547, 'Benzene Column C660 Operation_Column Temp Profile_C660 Tray 6 (SD & Control)_oC': 86.85308531317108, 'Benzene Column C660 Operation_Column Temp Profile_C660 Tray 23 (Control)_oC': 91.31317344445925, 'Tatoray Stripper C620 Operation_Specifications_Spec 2 : Distillate Rate_m3/hr': 0.3171166698918831, 'Simulation Case Conditions_Spec 2 : NA in Benzene_ppmw': 979.6953014855876}. Best is trial 13 with value: 1.1298056299406138.\u001b[0m\n",
            "\u001b[32m[I 2021-04-26 14:35:46,430]\u001b[0m Trial 53 finished with value: 1.259532018626581 and parameters: {'Tatoray Stripper C620 Operation_Column Temp Profile_C620 Tray 14 (Control)_oC': 175.5625488677308, 'Tatoray Stripper C620 Operation_Column Temp Profile_C620 Tray 34 (Control)_oC': 192.2376147768942, 'Benzene Column C660 Operation_Column Temp Profile_C660 Tray 6 (SD & Control)_oC': 86.8573566480809, 'Benzene Column C660 Operation_Column Temp Profile_C660 Tray 23 (Control)_oC': 91.06701211360212, 'Tatoray Stripper C620 Operation_Specifications_Spec 2 : Distillate Rate_m3/hr': 0.33176750060088755, 'Simulation Case Conditions_Spec 2 : NA in Benzene_ppmw': 979.5784289804398}. Best is trial 13 with value: 1.1298056299406138.\u001b[0m\n",
            "\u001b[32m[I 2021-04-26 14:35:46,625]\u001b[0m Trial 54 finished with value: 1.3773534455183443 and parameters: {'Tatoray Stripper C620 Operation_Column Temp Profile_C620 Tray 14 (Control)_oC': 175.52495686296038, 'Tatoray Stripper C620 Operation_Column Temp Profile_C620 Tray 34 (Control)_oC': 192.36342254727057, 'Benzene Column C660 Operation_Column Temp Profile_C660 Tray 6 (SD & Control)_oC': 86.82663028387502, 'Benzene Column C660 Operation_Column Temp Profile_C660 Tray 23 (Control)_oC': 91.1330189855126, 'Tatoray Stripper C620 Operation_Specifications_Spec 2 : Distillate Rate_m3/hr': 0.09281375389196833, 'Simulation Case Conditions_Spec 2 : NA in Benzene_ppmw': 979.5768303872917}. Best is trial 13 with value: 1.1298056299406138.\u001b[0m\n",
            "\u001b[32m[I 2021-04-26 14:35:46,829]\u001b[0m Trial 55 finished with value: 1.6002581728840588 and parameters: {'Tatoray Stripper C620 Operation_Column Temp Profile_C620 Tray 14 (Control)_oC': 175.80948624362685, 'Tatoray Stripper C620 Operation_Column Temp Profile_C620 Tray 34 (Control)_oC': 192.28827332858208, 'Benzene Column C660 Operation_Column Temp Profile_C660 Tray 6 (SD & Control)_oC': 87.0043770983003, 'Benzene Column C660 Operation_Column Temp Profile_C660 Tray 23 (Control)_oC': 91.04422523557247, 'Tatoray Stripper C620 Operation_Specifications_Spec 2 : Distillate Rate_m3/hr': 0.22672090863099634, 'Simulation Case Conditions_Spec 2 : NA in Benzene_ppmw': 979.2786834261618}. Best is trial 13 with value: 1.1298056299406138.\u001b[0m\n",
            "\u001b[32m[I 2021-04-26 14:35:47,033]\u001b[0m Trial 56 finished with value: 1.385039164739227 and parameters: {'Tatoray Stripper C620 Operation_Column Temp Profile_C620 Tray 14 (Control)_oC': 175.7316599676066, 'Tatoray Stripper C620 Operation_Column Temp Profile_C620 Tray 34 (Control)_oC': 192.22174038614898, 'Benzene Column C660 Operation_Column Temp Profile_C660 Tray 6 (SD & Control)_oC': 86.81430802549283, 'Benzene Column C660 Operation_Column Temp Profile_C660 Tray 23 (Control)_oC': 90.98437219038571, 'Tatoray Stripper C620 Operation_Specifications_Spec 2 : Distillate Rate_m3/hr': 0.26672164640899776, 'Simulation Case Conditions_Spec 2 : NA in Benzene_ppmw': 979.5814098119902}. Best is trial 13 with value: 1.1298056299406138.\u001b[0m\n",
            "\u001b[32m[I 2021-04-26 14:35:47,234]\u001b[0m Trial 57 finished with value: 1.7376176176868632 and parameters: {'Tatoray Stripper C620 Operation_Column Temp Profile_C620 Tray 14 (Control)_oC': 175.72352494463811, 'Tatoray Stripper C620 Operation_Column Temp Profile_C620 Tray 34 (Control)_oC': 192.28204356462345, 'Benzene Column C660 Operation_Column Temp Profile_C660 Tray 6 (SD & Control)_oC': 87.03798157890924, 'Benzene Column C660 Operation_Column Temp Profile_C660 Tray 23 (Control)_oC': 91.1573146894324, 'Tatoray Stripper C620 Operation_Specifications_Spec 2 : Distillate Rate_m3/hr': 0.0906270672310886, 'Simulation Case Conditions_Spec 2 : NA in Benzene_ppmw': 979.6183132044177}. Best is trial 13 with value: 1.1298056299406138.\u001b[0m\n",
            "\u001b[32m[I 2021-04-26 14:35:47,424]\u001b[0m Trial 58 finished with value: 1.2407959537488744 and parameters: {'Tatoray Stripper C620 Operation_Column Temp Profile_C620 Tray 14 (Control)_oC': 175.64283430812756, 'Tatoray Stripper C620 Operation_Column Temp Profile_C620 Tray 34 (Control)_oC': 192.08171311129738, 'Benzene Column C660 Operation_Column Temp Profile_C660 Tray 6 (SD & Control)_oC': 86.92594385221275, 'Benzene Column C660 Operation_Column Temp Profile_C660 Tray 23 (Control)_oC': 91.09619806788047, 'Tatoray Stripper C620 Operation_Specifications_Spec 2 : Distillate Rate_m3/hr': 0.3032352234359739, 'Simulation Case Conditions_Spec 2 : NA in Benzene_ppmw': 979.7220852205488}. Best is trial 13 with value: 1.1298056299406138.\u001b[0m\n",
            "\u001b[32m[I 2021-04-26 14:35:47,624]\u001b[0m Trial 59 finished with value: 1.3033930949266348 and parameters: {'Tatoray Stripper C620 Operation_Column Temp Profile_C620 Tray 14 (Control)_oC': 175.60633088150493, 'Tatoray Stripper C620 Operation_Column Temp Profile_C620 Tray 34 (Control)_oC': 192.10616004641966, 'Benzene Column C660 Operation_Column Temp Profile_C660 Tray 6 (SD & Control)_oC': 86.94241262667829, 'Benzene Column C660 Operation_Column Temp Profile_C660 Tray 23 (Control)_oC': 91.09420578194346, 'Tatoray Stripper C620 Operation_Specifications_Spec 2 : Distillate Rate_m3/hr': 0.011560498680365128, 'Simulation Case Conditions_Spec 2 : NA in Benzene_ppmw': 979.5289796246955}. Best is trial 13 with value: 1.1298056299406138.\u001b[0m\n",
            "\u001b[32m[I 2021-04-26 14:35:47,814]\u001b[0m Trial 60 finished with value: 1.2995779704556587 and parameters: {'Tatoray Stripper C620 Operation_Column Temp Profile_C620 Tray 14 (Control)_oC': 175.8246106341861, 'Tatoray Stripper C620 Operation_Column Temp Profile_C620 Tray 34 (Control)_oC': 192.25297020088618, 'Benzene Column C660 Operation_Column Temp Profile_C660 Tray 6 (SD & Control)_oC': 86.9438691234028, 'Benzene Column C660 Operation_Column Temp Profile_C660 Tray 23 (Control)_oC': 91.17995148445945, 'Tatoray Stripper C620 Operation_Specifications_Spec 2 : Distillate Rate_m3/hr': 0.0420028046441113, 'Simulation Case Conditions_Spec 2 : NA in Benzene_ppmw': 979.5874446945799}. Best is trial 13 with value: 1.1298056299406138.\u001b[0m\n",
            "\u001b[32m[I 2021-04-26 14:35:48,009]\u001b[0m Trial 61 finished with value: 1.4732443915027291 and parameters: {'Tatoray Stripper C620 Operation_Column Temp Profile_C620 Tray 14 (Control)_oC': 175.74203898583463, 'Tatoray Stripper C620 Operation_Column Temp Profile_C620 Tray 34 (Control)_oC': 192.3276600703632, 'Benzene Column C660 Operation_Column Temp Profile_C660 Tray 6 (SD & Control)_oC': 86.98847065099955, 'Benzene Column C660 Operation_Column Temp Profile_C660 Tray 23 (Control)_oC': 91.3096628361515, 'Tatoray Stripper C620 Operation_Specifications_Spec 2 : Distillate Rate_m3/hr': 0.1948285265173718, 'Simulation Case Conditions_Spec 2 : NA in Benzene_ppmw': 979.3641281718253}. Best is trial 13 with value: 1.1298056299406138.\u001b[0m\n",
            "\u001b[32m[I 2021-04-26 14:35:48,202]\u001b[0m Trial 62 finished with value: 1.3058268003990772 and parameters: {'Tatoray Stripper C620 Operation_Column Temp Profile_C620 Tray 14 (Control)_oC': 175.7860727713101, 'Tatoray Stripper C620 Operation_Column Temp Profile_C620 Tray 34 (Control)_oC': 192.19877892564296, 'Benzene Column C660 Operation_Column Temp Profile_C660 Tray 6 (SD & Control)_oC': 86.93441701442704, 'Benzene Column C660 Operation_Column Temp Profile_C660 Tray 23 (Control)_oC': 90.924346901797, 'Tatoray Stripper C620 Operation_Specifications_Spec 2 : Distillate Rate_m3/hr': 0.07555191851066778, 'Simulation Case Conditions_Spec 2 : NA in Benzene_ppmw': 979.7329387323676}. Best is trial 13 with value: 1.1298056299406138.\u001b[0m\n",
            "\u001b[32m[I 2021-04-26 14:35:48,410]\u001b[0m Trial 63 finished with value: 1.7940420264251167 and parameters: {'Tatoray Stripper C620 Operation_Column Temp Profile_C620 Tray 14 (Control)_oC': 175.82389978633867, 'Tatoray Stripper C620 Operation_Column Temp Profile_C620 Tray 34 (Control)_oC': 192.1403298393171, 'Benzene Column C660 Operation_Column Temp Profile_C660 Tray 6 (SD & Control)_oC': 87.0439754266985, 'Benzene Column C660 Operation_Column Temp Profile_C660 Tray 23 (Control)_oC': 91.01851272027906, 'Tatoray Stripper C620 Operation_Specifications_Spec 2 : Distillate Rate_m3/hr': 0.1947175874511512, 'Simulation Case Conditions_Spec 2 : NA in Benzene_ppmw': 979.7164591779441}. Best is trial 13 with value: 1.1298056299406138.\u001b[0m\n",
            "\u001b[32m[I 2021-04-26 14:35:48,619]\u001b[0m Trial 64 finished with value: 1.6384574847376916 and parameters: {'Tatoray Stripper C620 Operation_Column Temp Profile_C620 Tray 14 (Control)_oC': 175.46140749995635, 'Tatoray Stripper C620 Operation_Column Temp Profile_C620 Tray 34 (Control)_oC': 191.93353617477285, 'Benzene Column C660 Operation_Column Temp Profile_C660 Tray 6 (SD & Control)_oC': 87.0093972108846, 'Benzene Column C660 Operation_Column Temp Profile_C660 Tray 23 (Control)_oC': 90.97199762446425, 'Tatoray Stripper C620 Operation_Specifications_Spec 2 : Distillate Rate_m3/hr': 0.33408287504951584, 'Simulation Case Conditions_Spec 2 : NA in Benzene_ppmw': 979.6945651807522}. Best is trial 13 with value: 1.1298056299406138.\u001b[0m\n",
            "\u001b[32m[I 2021-04-26 14:35:48,825]\u001b[0m Trial 65 finished with value: 1.6027115388351358 and parameters: {'Tatoray Stripper C620 Operation_Column Temp Profile_C620 Tray 14 (Control)_oC': 175.54376365057615, 'Tatoray Stripper C620 Operation_Column Temp Profile_C620 Tray 34 (Control)_oC': 192.10013063513355, 'Benzene Column C660 Operation_Column Temp Profile_C660 Tray 6 (SD & Control)_oC': 87.0089957039287, 'Benzene Column C660 Operation_Column Temp Profile_C660 Tray 23 (Control)_oC': 91.0920895291811, 'Tatoray Stripper C620 Operation_Specifications_Spec 2 : Distillate Rate_m3/hr': 0.2623683260234309, 'Simulation Case Conditions_Spec 2 : NA in Benzene_ppmw': 979.5458540013735}. Best is trial 13 with value: 1.1298056299406138.\u001b[0m\n",
            "\u001b[32m[I 2021-04-26 14:35:49,016]\u001b[0m Trial 66 finished with value: 1.303124613494767 and parameters: {'Tatoray Stripper C620 Operation_Column Temp Profile_C620 Tray 14 (Control)_oC': 175.60017096510032, 'Tatoray Stripper C620 Operation_Column Temp Profile_C620 Tray 34 (Control)_oC': 191.69075991952352, 'Benzene Column C660 Operation_Column Temp Profile_C660 Tray 6 (SD & Control)_oC': 86.84524388229343, 'Benzene Column C660 Operation_Column Temp Profile_C660 Tray 23 (Control)_oC': 91.08221295900307, 'Tatoray Stripper C620 Operation_Specifications_Spec 2 : Distillate Rate_m3/hr': 0.18535435128908473, 'Simulation Case Conditions_Spec 2 : NA in Benzene_ppmw': 979.7887279084828}. Best is trial 13 with value: 1.1298056299406138.\u001b[0m\n",
            "\u001b[32m[I 2021-04-26 14:35:49,214]\u001b[0m Trial 67 finished with value: 1.5676811187234698 and parameters: {'Tatoray Stripper C620 Operation_Column Temp Profile_C620 Tray 14 (Control)_oC': 175.63723330593686, 'Tatoray Stripper C620 Operation_Column Temp Profile_C620 Tray 34 (Control)_oC': 192.22143482955843, 'Benzene Column C660 Operation_Column Temp Profile_C660 Tray 6 (SD & Control)_oC': 86.99514012911408, 'Benzene Column C660 Operation_Column Temp Profile_C660 Tray 23 (Control)_oC': 90.96105609473443, 'Tatoray Stripper C620 Operation_Specifications_Spec 2 : Distillate Rate_m3/hr': 0.2646998669571528, 'Simulation Case Conditions_Spec 2 : NA in Benzene_ppmw': 979.5705689796412}. Best is trial 13 with value: 1.1298056299406138.\u001b[0m\n",
            "\u001b[32m[I 2021-04-26 14:35:49,417]\u001b[0m Trial 68 finished with value: 1.4106837707457929 and parameters: {'Tatoray Stripper C620 Operation_Column Temp Profile_C620 Tray 14 (Control)_oC': 175.65116748006204, 'Tatoray Stripper C620 Operation_Column Temp Profile_C620 Tray 34 (Control)_oC': 192.0922320214855, 'Benzene Column C660 Operation_Column Temp Profile_C660 Tray 6 (SD & Control)_oC': 86.82233828519709, 'Benzene Column C660 Operation_Column Temp Profile_C660 Tray 23 (Control)_oC': 91.31994698706536, 'Tatoray Stripper C620 Operation_Specifications_Spec 2 : Distillate Rate_m3/hr': 0.18376693665666158, 'Simulation Case Conditions_Spec 2 : NA in Benzene_ppmw': 979.7724012485161}. Best is trial 13 with value: 1.1298056299406138.\u001b[0m\n",
            "\u001b[32m[I 2021-04-26 14:35:49,614]\u001b[0m Trial 69 finished with value: 1.3344560664078746 and parameters: {'Tatoray Stripper C620 Operation_Column Temp Profile_C620 Tray 14 (Control)_oC': 175.66570036651035, 'Tatoray Stripper C620 Operation_Column Temp Profile_C620 Tray 34 (Control)_oC': 191.94548541079644, 'Benzene Column C660 Operation_Column Temp Profile_C660 Tray 6 (SD & Control)_oC': 86.94406450883227, 'Benzene Column C660 Operation_Column Temp Profile_C660 Tray 23 (Control)_oC': 91.01256284974674, 'Tatoray Stripper C620 Operation_Specifications_Spec 2 : Distillate Rate_m3/hr': 0.08532424009899568, 'Simulation Case Conditions_Spec 2 : NA in Benzene_ppmw': 979.7158644914521}. Best is trial 13 with value: 1.1298056299406138.\u001b[0m\n",
            "\u001b[32m[I 2021-04-26 14:35:49,814]\u001b[0m Trial 70 finished with value: 1.3660630105377434 and parameters: {'Tatoray Stripper C620 Operation_Column Temp Profile_C620 Tray 14 (Control)_oC': 175.65382653351298, 'Tatoray Stripper C620 Operation_Column Temp Profile_C620 Tray 34 (Control)_oC': 191.99388976801694, 'Benzene Column C660 Operation_Column Temp Profile_C660 Tray 6 (SD & Control)_oC': 86.82988163996046, 'Benzene Column C660 Operation_Column Temp Profile_C660 Tray 23 (Control)_oC': 91.14609844132399, 'Tatoray Stripper C620 Operation_Specifications_Spec 2 : Distillate Rate_m3/hr': 0.19225544395803032, 'Simulation Case Conditions_Spec 2 : NA in Benzene_ppmw': 979.584745060107}. Best is trial 13 with value: 1.1298056299406138.\u001b[0m\n",
            "\u001b[32m[I 2021-04-26 14:35:50,013]\u001b[0m Trial 71 finished with value: 1.1580453670028585 and parameters: {'Tatoray Stripper C620 Operation_Column Temp Profile_C620 Tray 14 (Control)_oC': 175.7604835674403, 'Tatoray Stripper C620 Operation_Column Temp Profile_C620 Tray 34 (Control)_oC': 191.9781463915861, 'Benzene Column C660 Operation_Column Temp Profile_C660 Tray 6 (SD & Control)_oC': 86.88607603272027, 'Benzene Column C660 Operation_Column Temp Profile_C660 Tray 23 (Control)_oC': 91.05559801723157, 'Tatoray Stripper C620 Operation_Specifications_Spec 2 : Distillate Rate_m3/hr': 0.2803175118232055, 'Simulation Case Conditions_Spec 2 : NA in Benzene_ppmw': 979.7063171149518}. Best is trial 13 with value: 1.1298056299406138.\u001b[0m\n",
            "\u001b[32m[I 2021-04-26 14:35:50,210]\u001b[0m Trial 72 finished with value: 1.6175444038944924 and parameters: {'Tatoray Stripper C620 Operation_Column Temp Profile_C620 Tray 14 (Control)_oC': 175.84080647341838, 'Tatoray Stripper C620 Operation_Column Temp Profile_C620 Tray 34 (Control)_oC': 192.1597470991014, 'Benzene Column C660 Operation_Column Temp Profile_C660 Tray 6 (SD & Control)_oC': 87.00993211165414, 'Benzene Column C660 Operation_Column Temp Profile_C660 Tray 23 (Control)_oC': 91.04719564714149, 'Tatoray Stripper C620 Operation_Specifications_Spec 2 : Distillate Rate_m3/hr': 0.02627803787145258, 'Simulation Case Conditions_Spec 2 : NA in Benzene_ppmw': 979.7080733014085}. Best is trial 13 with value: 1.1298056299406138.\u001b[0m\n",
            "\u001b[32m[I 2021-04-26 14:35:50,404]\u001b[0m Trial 73 finished with value: 1.2958789425197188 and parameters: {'Tatoray Stripper C620 Operation_Column Temp Profile_C620 Tray 14 (Control)_oC': 175.61019169551489, 'Tatoray Stripper C620 Operation_Column Temp Profile_C620 Tray 34 (Control)_oC': 191.8916114345382, 'Benzene Column C660 Operation_Column Temp Profile_C660 Tray 6 (SD & Control)_oC': 86.86054814321996, 'Benzene Column C660 Operation_Column Temp Profile_C660 Tray 23 (Control)_oC': 91.33561358413445, 'Tatoray Stripper C620 Operation_Specifications_Spec 2 : Distillate Rate_m3/hr': 0.17739937560291183, 'Simulation Case Conditions_Spec 2 : NA in Benzene_ppmw': 979.777974823381}. Best is trial 13 with value: 1.1298056299406138.\u001b[0m\n",
            "\u001b[32m[I 2021-04-26 14:35:50,593]\u001b[0m Trial 74 finished with value: 1.6608856914455477 and parameters: {'Tatoray Stripper C620 Operation_Column Temp Profile_C620 Tray 14 (Control)_oC': 175.7190117134926, 'Tatoray Stripper C620 Operation_Column Temp Profile_C620 Tray 34 (Control)_oC': 191.6195536455436, 'Benzene Column C660 Operation_Column Temp Profile_C660 Tray 6 (SD & Control)_oC': 87.00996770072851, 'Benzene Column C660 Operation_Column Temp Profile_C660 Tray 23 (Control)_oC': 90.97534337136798, 'Tatoray Stripper C620 Operation_Specifications_Spec 2 : Distillate Rate_m3/hr': 0.07145276200446102, 'Simulation Case Conditions_Spec 2 : NA in Benzene_ppmw': 979.8020333961573}. Best is trial 13 with value: 1.1298056299406138.\u001b[0m\n",
            "\u001b[32m[I 2021-04-26 14:35:50,817]\u001b[0m Trial 75 finished with value: 1.2003344273581538 and parameters: {'Tatoray Stripper C620 Operation_Column Temp Profile_C620 Tray 14 (Control)_oC': 175.51750033614508, 'Tatoray Stripper C620 Operation_Column Temp Profile_C620 Tray 34 (Control)_oC': 191.6334849007104, 'Benzene Column C660 Operation_Column Temp Profile_C660 Tray 6 (SD & Control)_oC': 86.90483149337783, 'Benzene Column C660 Operation_Column Temp Profile_C660 Tray 23 (Control)_oC': 90.9743475118126, 'Tatoray Stripper C620 Operation_Specifications_Spec 2 : Distillate Rate_m3/hr': 0.21656722279276824, 'Simulation Case Conditions_Spec 2 : NA in Benzene_ppmw': 979.918252960255}. Best is trial 13 with value: 1.1298056299406138.\u001b[0m\n",
            "\u001b[32m[I 2021-04-26 14:35:51,016]\u001b[0m Trial 76 finished with value: 1.1871334704146532 and parameters: {'Tatoray Stripper C620 Operation_Column Temp Profile_C620 Tray 14 (Control)_oC': 175.75674451316755, 'Tatoray Stripper C620 Operation_Column Temp Profile_C620 Tray 34 (Control)_oC': 191.62459835126108, 'Benzene Column C660 Operation_Column Temp Profile_C660 Tray 6 (SD & Control)_oC': 86.87243248636203, 'Benzene Column C660 Operation_Column Temp Profile_C660 Tray 23 (Control)_oC': 90.97327116823244, 'Tatoray Stripper C620 Operation_Specifications_Spec 2 : Distillate Rate_m3/hr': 0.1745703672243975, 'Simulation Case Conditions_Spec 2 : NA in Benzene_ppmw': 979.8001396865495}. Best is trial 13 with value: 1.1298056299406138.\u001b[0m\n",
            "\u001b[32m[I 2021-04-26 14:35:51,205]\u001b[0m Trial 77 finished with value: 1.76209243569538 and parameters: {'Tatoray Stripper C620 Operation_Column Temp Profile_C620 Tray 14 (Control)_oC': 175.82028120968053, 'Tatoray Stripper C620 Operation_Column Temp Profile_C620 Tray 34 (Control)_oC': 192.09656496953826, 'Benzene Column C660 Operation_Column Temp Profile_C660 Tray 6 (SD & Control)_oC': 87.02976227502403, 'Benzene Column C660 Operation_Column Temp Profile_C660 Tray 23 (Control)_oC': 90.84887045491261, 'Tatoray Stripper C620 Operation_Specifications_Spec 2 : Distillate Rate_m3/hr': 0.1283442147896137, 'Simulation Case Conditions_Spec 2 : NA in Benzene_ppmw': 979.5845832536771}. Best is trial 13 with value: 1.1298056299406138.\u001b[0m\n",
            "\u001b[32m[I 2021-04-26 14:35:51,392]\u001b[0m Trial 78 finished with value: 1.2528499125029469 and parameters: {'Tatoray Stripper C620 Operation_Column Temp Profile_C620 Tray 14 (Control)_oC': 175.84628255969764, 'Tatoray Stripper C620 Operation_Column Temp Profile_C620 Tray 34 (Control)_oC': 191.9134568960539, 'Benzene Column C660 Operation_Column Temp Profile_C660 Tray 6 (SD & Control)_oC': 86.85532302602657, 'Benzene Column C660 Operation_Column Temp Profile_C660 Tray 23 (Control)_oC': 90.97176897934426, 'Tatoray Stripper C620 Operation_Specifications_Spec 2 : Distillate Rate_m3/hr': 0.29986431016701637, 'Simulation Case Conditions_Spec 2 : NA in Benzene_ppmw': 979.4897465859899}. Best is trial 13 with value: 1.1298056299406138.\u001b[0m\n",
            "\u001b[32m[I 2021-04-26 14:35:51,589]\u001b[0m Trial 79 finished with value: 1.1686456118559265 and parameters: {'Tatoray Stripper C620 Operation_Column Temp Profile_C620 Tray 14 (Control)_oC': 175.53456445642055, 'Tatoray Stripper C620 Operation_Column Temp Profile_C620 Tray 34 (Control)_oC': 191.93656467772536, 'Benzene Column C660 Operation_Column Temp Profile_C660 Tray 6 (SD & Control)_oC': 86.88738712134628, 'Benzene Column C660 Operation_Column Temp Profile_C660 Tray 23 (Control)_oC': 91.1257213795701, 'Tatoray Stripper C620 Operation_Specifications_Spec 2 : Distillate Rate_m3/hr': 0.2142663506813589, 'Simulation Case Conditions_Spec 2 : NA in Benzene_ppmw': 979.860275673338}. Best is trial 13 with value: 1.1298056299406138.\u001b[0m\n",
            "\u001b[32m[I 2021-04-26 14:35:51,800]\u001b[0m Trial 80 finished with value: 1.1584015848386782 and parameters: {'Tatoray Stripper C620 Operation_Column Temp Profile_C620 Tray 14 (Control)_oC': 175.56824748460204, 'Tatoray Stripper C620 Operation_Column Temp Profile_C620 Tray 34 (Control)_oC': 191.7800236789532, 'Benzene Column C660 Operation_Column Temp Profile_C660 Tray 6 (SD & Control)_oC': 86.89868053324425, 'Benzene Column C660 Operation_Column Temp Profile_C660 Tray 23 (Control)_oC': 91.03950724078283, 'Tatoray Stripper C620 Operation_Specifications_Spec 2 : Distillate Rate_m3/hr': 0.2621888103204866, 'Simulation Case Conditions_Spec 2 : NA in Benzene_ppmw': 979.8136691052689}. Best is trial 13 with value: 1.1298056299406138.\u001b[0m\n",
            "\u001b[32m[I 2021-04-26 14:35:52,000]\u001b[0m Trial 81 finished with value: 1.2307127588214715 and parameters: {'Tatoray Stripper C620 Operation_Column Temp Profile_C620 Tray 14 (Control)_oC': 175.80218365593015, 'Tatoray Stripper C620 Operation_Column Temp Profile_C620 Tray 34 (Control)_oC': 192.0400208397568, 'Benzene Column C660 Operation_Column Temp Profile_C660 Tray 6 (SD & Control)_oC': 86.86764852739073, 'Benzene Column C660 Operation_Column Temp Profile_C660 Tray 23 (Control)_oC': 91.09656866739282, 'Tatoray Stripper C620 Operation_Specifications_Spec 2 : Distillate Rate_m3/hr': 0.2819886528222937, 'Simulation Case Conditions_Spec 2 : NA in Benzene_ppmw': 979.6443141425254}. Best is trial 13 with value: 1.1298056299406138.\u001b[0m\n",
            "\u001b[32m[I 2021-04-26 14:35:52,198]\u001b[0m Trial 82 finished with value: 1.61040921951814 and parameters: {'Tatoray Stripper C620 Operation_Column Temp Profile_C620 Tray 14 (Control)_oC': 175.5604423035504, 'Tatoray Stripper C620 Operation_Column Temp Profile_C620 Tray 34 (Control)_oC': 192.14993486175783, 'Benzene Column C660 Operation_Column Temp Profile_C660 Tray 6 (SD & Control)_oC': 86.73002715632352, 'Benzene Column C660 Operation_Column Temp Profile_C660 Tray 23 (Control)_oC': 91.0695748202304, 'Tatoray Stripper C620 Operation_Specifications_Spec 2 : Distillate Rate_m3/hr': 0.3856301639364704, 'Simulation Case Conditions_Spec 2 : NA in Benzene_ppmw': 979.698527368284}. Best is trial 13 with value: 1.1298056299406138.\u001b[0m\n",
            "\u001b[32m[I 2021-04-26 14:35:52,390]\u001b[0m Trial 83 finished with value: 1.2718549819150737 and parameters: {'Tatoray Stripper C620 Operation_Column Temp Profile_C620 Tray 14 (Control)_oC': 175.83446538095276, 'Tatoray Stripper C620 Operation_Column Temp Profile_C620 Tray 34 (Control)_oC': 191.607768219453, 'Benzene Column C660 Operation_Column Temp Profile_C660 Tray 6 (SD & Control)_oC': 86.92298506342168, 'Benzene Column C660 Operation_Column Temp Profile_C660 Tray 23 (Control)_oC': 90.99910555535288, 'Tatoray Stripper C620 Operation_Specifications_Spec 2 : Distillate Rate_m3/hr': 0.1316666945248187, 'Simulation Case Conditions_Spec 2 : NA in Benzene_ppmw': 979.6412324187672}. Best is trial 13 with value: 1.1298056299406138.\u001b[0m\n",
            "\u001b[32m[I 2021-04-26 14:35:52,588]\u001b[0m Trial 84 finished with value: 1.4416243452472113 and parameters: {'Tatoray Stripper C620 Operation_Column Temp Profile_C620 Tray 14 (Control)_oC': 175.58149710744556, 'Tatoray Stripper C620 Operation_Column Temp Profile_C620 Tray 34 (Control)_oC': 191.94336536461444, 'Benzene Column C660 Operation_Column Temp Profile_C660 Tray 6 (SD & Control)_oC': 86.79511440850793, 'Benzene Column C660 Operation_Column Temp Profile_C660 Tray 23 (Control)_oC': 90.93304295313855, 'Tatoray Stripper C620 Operation_Specifications_Spec 2 : Distillate Rate_m3/hr': 0.09904978932588457, 'Simulation Case Conditions_Spec 2 : NA in Benzene_ppmw': 979.9842711404405}. Best is trial 13 with value: 1.1298056299406138.\u001b[0m\n",
            "\u001b[32m[I 2021-04-26 14:35:52,787]\u001b[0m Trial 85 finished with value: 1.2799782355176816 and parameters: {'Tatoray Stripper C620 Operation_Column Temp Profile_C620 Tray 14 (Control)_oC': 175.64014530073513, 'Tatoray Stripper C620 Operation_Column Temp Profile_C620 Tray 34 (Control)_oC': 191.79883181419288, 'Benzene Column C660 Operation_Column Temp Profile_C660 Tray 6 (SD & Control)_oC': 86.92948872208399, 'Benzene Column C660 Operation_Column Temp Profile_C660 Tray 23 (Control)_oC': 91.01865296038889, 'Tatoray Stripper C620 Operation_Specifications_Spec 2 : Distillate Rate_m3/hr': 0.051219048838429204, 'Simulation Case Conditions_Spec 2 : NA in Benzene_ppmw': 979.7831636675458}. Best is trial 13 with value: 1.1298056299406138.\u001b[0m\n",
            "\u001b[32m[I 2021-04-26 14:35:52,983]\u001b[0m Trial 86 finished with value: 1.5933954270090478 and parameters: {'Tatoray Stripper C620 Operation_Column Temp Profile_C620 Tray 14 (Control)_oC': 175.76916089519233, 'Tatoray Stripper C620 Operation_Column Temp Profile_C620 Tray 34 (Control)_oC': 191.91508535996968, 'Benzene Column C660 Operation_Column Temp Profile_C660 Tray 6 (SD & Control)_oC': 86.7421233735157, 'Benzene Column C660 Operation_Column Temp Profile_C660 Tray 23 (Control)_oC': 91.11498151464063, 'Tatoray Stripper C620 Operation_Specifications_Spec 2 : Distillate Rate_m3/hr': 0.21820772741997851, 'Simulation Case Conditions_Spec 2 : NA in Benzene_ppmw': 979.6148508361666}. Best is trial 13 with value: 1.1298056299406138.\u001b[0m\n",
            "\u001b[32m[I 2021-04-26 14:35:53,174]\u001b[0m Trial 87 finished with value: 1.6159167505001315 and parameters: {'Tatoray Stripper C620 Operation_Column Temp Profile_C620 Tray 14 (Control)_oC': 175.69632587223123, 'Tatoray Stripper C620 Operation_Column Temp Profile_C620 Tray 34 (Control)_oC': 192.0387658418806, 'Benzene Column C660 Operation_Column Temp Profile_C660 Tray 6 (SD & Control)_oC': 87.00588374574981, 'Benzene Column C660 Operation_Column Temp Profile_C660 Tray 23 (Control)_oC': 90.98069666461969, 'Tatoray Stripper C620 Operation_Specifications_Spec 2 : Distillate Rate_m3/hr': 0.10859061971189535, 'Simulation Case Conditions_Spec 2 : NA in Benzene_ppmw': 979.7331198109534}. Best is trial 13 with value: 1.1298056299406138.\u001b[0m\n",
            "\u001b[32m[I 2021-04-26 14:35:53,370]\u001b[0m Trial 88 finished with value: 1.425217021957252 and parameters: {'Tatoray Stripper C620 Operation_Column Temp Profile_C620 Tray 14 (Control)_oC': 175.3780439813792, 'Tatoray Stripper C620 Operation_Column Temp Profile_C620 Tray 34 (Control)_oC': 192.06051065462134, 'Benzene Column C660 Operation_Column Temp Profile_C660 Tray 6 (SD & Control)_oC': 86.8180691176883, 'Benzene Column C660 Operation_Column Temp Profile_C660 Tray 23 (Control)_oC': 91.31638066741361, 'Tatoray Stripper C620 Operation_Specifications_Spec 2 : Distillate Rate_m3/hr': 0.19748385200858226, 'Simulation Case Conditions_Spec 2 : NA in Benzene_ppmw': 979.6847142568479}. Best is trial 13 with value: 1.1298056299406138.\u001b[0m\n",
            "\u001b[32m[I 2021-04-26 14:35:53,577]\u001b[0m Trial 89 finished with value: 1.2369744785545174 and parameters: {'Tatoray Stripper C620 Operation_Column Temp Profile_C620 Tray 14 (Control)_oC': 175.61963613422358, 'Tatoray Stripper C620 Operation_Column Temp Profile_C620 Tray 34 (Control)_oC': 191.82652533489662, 'Benzene Column C660 Operation_Column Temp Profile_C660 Tray 6 (SD & Control)_oC': 86.91939266584328, 'Benzene Column C660 Operation_Column Temp Profile_C660 Tray 23 (Control)_oC': 91.05003115808631, 'Tatoray Stripper C620 Operation_Specifications_Spec 2 : Distillate Rate_m3/hr': 0.4824416368414045, 'Simulation Case Conditions_Spec 2 : NA in Benzene_ppmw': 979.8852657311767}. Best is trial 13 with value: 1.1298056299406138.\u001b[0m\n",
            "\u001b[32m[I 2021-04-26 14:35:53,784]\u001b[0m Trial 90 finished with value: 1.3930437445072854 and parameters: {'Tatoray Stripper C620 Operation_Column Temp Profile_C620 Tray 14 (Control)_oC': 175.57209136423322, 'Tatoray Stripper C620 Operation_Column Temp Profile_C620 Tray 34 (Control)_oC': 191.64335635029323, 'Benzene Column C660 Operation_Column Temp Profile_C660 Tray 6 (SD & Control)_oC': 86.81256383064868, 'Benzene Column C660 Operation_Column Temp Profile_C660 Tray 23 (Control)_oC': 91.01576817013942, 'Tatoray Stripper C620 Operation_Specifications_Spec 2 : Distillate Rate_m3/hr': 0.2836871177824164, 'Simulation Case Conditions_Spec 2 : NA in Benzene_ppmw': 979.5592976946698}. Best is trial 13 with value: 1.1298056299406138.\u001b[0m\n",
            "\u001b[32m[I 2021-04-26 14:35:54,094]\u001b[0m Trial 91 finished with value: 1.5042462277354258 and parameters: {'Tatoray Stripper C620 Operation_Column Temp Profile_C620 Tray 14 (Control)_oC': 175.8306395609055, 'Tatoray Stripper C620 Operation_Column Temp Profile_C620 Tray 34 (Control)_oC': 191.75267157412276, 'Benzene Column C660 Operation_Column Temp Profile_C660 Tray 6 (SD & Control)_oC': 86.78060653260512, 'Benzene Column C660 Operation_Column Temp Profile_C660 Tray 23 (Control)_oC': 91.15629020388315, 'Tatoray Stripper C620 Operation_Specifications_Spec 2 : Distillate Rate_m3/hr': 0.08559958616935881, 'Simulation Case Conditions_Spec 2 : NA in Benzene_ppmw': 979.8824291617573}. Best is trial 13 with value: 1.1298056299406138.\u001b[0m\n",
            "\u001b[32m[I 2021-04-26 14:35:54,289]\u001b[0m Trial 92 finished with value: 1.2367124222475947 and parameters: {'Tatoray Stripper C620 Operation_Column Temp Profile_C620 Tray 14 (Control)_oC': 176.06267054434747, 'Tatoray Stripper C620 Operation_Column Temp Profile_C620 Tray 34 (Control)_oC': 191.79958485617337, 'Benzene Column C660 Operation_Column Temp Profile_C660 Tray 6 (SD & Control)_oC': 86.9116663324112, 'Benzene Column C660 Operation_Column Temp Profile_C660 Tray 23 (Control)_oC': 90.92977675816465, 'Tatoray Stripper C620 Operation_Specifications_Spec 2 : Distillate Rate_m3/hr': 0.5474262218885404, 'Simulation Case Conditions_Spec 2 : NA in Benzene_ppmw': 979.6207348307668}. Best is trial 13 with value: 1.1298056299406138.\u001b[0m\n",
            "\u001b[32m[I 2021-04-26 14:35:54,477]\u001b[0m Trial 93 finished with value: 1.869331557560086 and parameters: {'Tatoray Stripper C620 Operation_Column Temp Profile_C620 Tray 14 (Control)_oC': 175.4749229373058, 'Tatoray Stripper C620 Operation_Column Temp Profile_C620 Tray 34 (Control)_oC': 191.69745595812023, 'Benzene Column C660 Operation_Column Temp Profile_C660 Tray 6 (SD & Control)_oC': 87.055773301183, 'Benzene Column C660 Operation_Column Temp Profile_C660 Tray 23 (Control)_oC': 91.04553493407849, 'Tatoray Stripper C620 Operation_Specifications_Spec 2 : Distillate Rate_m3/hr': 0.5048855133842551, 'Simulation Case Conditions_Spec 2 : NA in Benzene_ppmw': 979.8288703412827}. Best is trial 13 with value: 1.1298056299406138.\u001b[0m\n",
            "\u001b[32m[I 2021-04-26 14:35:54,695]\u001b[0m Trial 94 finished with value: 1.4155071920884028 and parameters: {'Tatoray Stripper C620 Operation_Column Temp Profile_C620 Tray 14 (Control)_oC': 175.59109831880957, 'Tatoray Stripper C620 Operation_Column Temp Profile_C620 Tray 34 (Control)_oC': 191.9000428034463, 'Benzene Column C660 Operation_Column Temp Profile_C660 Tray 6 (SD & Control)_oC': 86.81818474368065, 'Benzene Column C660 Operation_Column Temp Profile_C660 Tray 23 (Control)_oC': 91.27955032963575, 'Tatoray Stripper C620 Operation_Specifications_Spec 2 : Distillate Rate_m3/hr': 0.3762032848583329, 'Simulation Case Conditions_Spec 2 : NA in Benzene_ppmw': 979.6887377244002}. Best is trial 13 with value: 1.1298056299406138.\u001b[0m\n",
            "\u001b[32m[I 2021-04-26 14:35:54,900]\u001b[0m Trial 95 finished with value: 1.163562225320668 and parameters: {'Tatoray Stripper C620 Operation_Column Temp Profile_C620 Tray 14 (Control)_oC': 175.77602591659078, 'Tatoray Stripper C620 Operation_Column Temp Profile_C620 Tray 34 (Control)_oC': 191.67044930656954, 'Benzene Column C660 Operation_Column Temp Profile_C660 Tray 6 (SD & Control)_oC': 86.89381640500784, 'Benzene Column C660 Operation_Column Temp Profile_C660 Tray 23 (Control)_oC': 91.2976381497819, 'Tatoray Stripper C620 Operation_Specifications_Spec 2 : Distillate Rate_m3/hr': 0.23531605845345793, 'Simulation Case Conditions_Spec 2 : NA in Benzene_ppmw': 979.6753243781834}. Best is trial 13 with value: 1.1298056299406138.\u001b[0m\n",
            "\u001b[32m[I 2021-04-26 14:35:55,111]\u001b[0m Trial 96 finished with value: 1.5751224512235753 and parameters: {'Tatoray Stripper C620 Operation_Column Temp Profile_C620 Tray 14 (Control)_oC': 175.68753965398545, 'Tatoray Stripper C620 Operation_Column Temp Profile_C620 Tray 34 (Control)_oC': 191.84211915334055, 'Benzene Column C660 Operation_Column Temp Profile_C660 Tray 6 (SD & Control)_oC': 86.98078218939779, 'Benzene Column C660 Operation_Column Temp Profile_C660 Tray 23 (Control)_oC': 90.68552003025778, 'Tatoray Stripper C620 Operation_Specifications_Spec 2 : Distillate Rate_m3/hr': 0.3577239253429959, 'Simulation Case Conditions_Spec 2 : NA in Benzene_ppmw': 979.7186364929219}. Best is trial 13 with value: 1.1298056299406138.\u001b[0m\n",
            "\u001b[32m[I 2021-04-26 14:35:55,311]\u001b[0m Trial 97 finished with value: 1.3911244280917092 and parameters: {'Tatoray Stripper C620 Operation_Column Temp Profile_C620 Tray 14 (Control)_oC': 175.5856434071028, 'Tatoray Stripper C620 Operation_Column Temp Profile_C620 Tray 34 (Control)_oC': 191.89353899896648, 'Benzene Column C660 Operation_Column Temp Profile_C660 Tray 6 (SD & Control)_oC': 86.80719698613039, 'Benzene Column C660 Operation_Column Temp Profile_C660 Tray 23 (Control)_oC': 90.89304191584561, 'Tatoray Stripper C620 Operation_Specifications_Spec 2 : Distillate Rate_m3/hr': 0.5846193353205134, 'Simulation Case Conditions_Spec 2 : NA in Benzene_ppmw': 979.8481474164786}. Best is trial 13 with value: 1.1298056299406138.\u001b[0m\n",
            "\u001b[32m[I 2021-04-26 14:35:55,515]\u001b[0m Trial 98 finished with value: 1.4278366166484808 and parameters: {'Tatoray Stripper C620 Operation_Column Temp Profile_C620 Tray 14 (Control)_oC': 175.7711158469987, 'Tatoray Stripper C620 Operation_Column Temp Profile_C620 Tray 34 (Control)_oC': 191.78454064110284, 'Benzene Column C660 Operation_Column Temp Profile_C660 Tray 6 (SD & Control)_oC': 86.96417807648798, 'Benzene Column C660 Operation_Column Temp Profile_C660 Tray 23 (Control)_oC': 91.05373901924553, 'Tatoray Stripper C620 Operation_Specifications_Spec 2 : Distillate Rate_m3/hr': 0.5222860477754174, 'Simulation Case Conditions_Spec 2 : NA in Benzene_ppmw': 979.6506288846989}. Best is trial 13 with value: 1.1298056299406138.\u001b[0m\n",
            "\u001b[32m[I 2021-04-26 14:35:55,719]\u001b[0m Trial 99 finished with value: 1.2087498815181967 and parameters: {'Tatoray Stripper C620 Operation_Column Temp Profile_C620 Tray 14 (Control)_oC': 175.6358150708705, 'Tatoray Stripper C620 Operation_Column Temp Profile_C620 Tray 34 (Control)_oC': 191.7693304937548, 'Benzene Column C660 Operation_Column Temp Profile_C660 Tray 6 (SD & Control)_oC': 86.90688116899354, 'Benzene Column C660 Operation_Column Temp Profile_C660 Tray 23 (Control)_oC': 90.93986409867641, 'Tatoray Stripper C620 Operation_Specifications_Spec 2 : Distillate Rate_m3/hr': 0.3081299516114645, 'Simulation Case Conditions_Spec 2 : NA in Benzene_ppmw': 979.681870127783}. Best is trial 13 with value: 1.1298056299406138.\u001b[0m\n",
            "\u001b[32m[I 2021-04-26 14:35:55,919]\u001b[0m Trial 100 finished with value: 1.514730484613794 and parameters: {'Tatoray Stripper C620 Operation_Column Temp Profile_C620 Tray 14 (Control)_oC': 175.67868844005133, 'Tatoray Stripper C620 Operation_Column Temp Profile_C620 Tray 34 (Control)_oC': 191.8182123355461, 'Benzene Column C660 Operation_Column Temp Profile_C660 Tray 6 (SD & Control)_oC': 86.77506327125228, 'Benzene Column C660 Operation_Column Temp Profile_C660 Tray 23 (Control)_oC': 91.15875147144395, 'Tatoray Stripper C620 Operation_Specifications_Spec 2 : Distillate Rate_m3/hr': 0.4354346461192195, 'Simulation Case Conditions_Spec 2 : NA in Benzene_ppmw': 979.7248857645852}. Best is trial 13 with value: 1.1298056299406138.\u001b[0m\n",
            "\u001b[32m[I 2021-04-26 14:35:56,109]\u001b[0m Trial 101 finished with value: 1.497353903313177 and parameters: {'Tatoray Stripper C620 Operation_Column Temp Profile_C620 Tray 14 (Control)_oC': 175.79369422053372, 'Tatoray Stripper C620 Operation_Column Temp Profile_C620 Tray 34 (Control)_oC': 191.99605416493463, 'Benzene Column C660 Operation_Column Temp Profile_C660 Tray 6 (SD & Control)_oC': 86.98027242265181, 'Benzene Column C660 Operation_Column Temp Profile_C660 Tray 23 (Control)_oC': 91.00532339129963, 'Tatoray Stripper C620 Operation_Specifications_Spec 2 : Distillate Rate_m3/hr': 0.34382384915934633, 'Simulation Case Conditions_Spec 2 : NA in Benzene_ppmw': 979.7977123323121}. Best is trial 13 with value: 1.1298056299406138.\u001b[0m\n",
            "\u001b[32m[I 2021-04-26 14:35:56,305]\u001b[0m Trial 102 finished with value: 1.2404215876554399 and parameters: {'Tatoray Stripper C620 Operation_Column Temp Profile_C620 Tray 14 (Control)_oC': 176.05716744425848, 'Tatoray Stripper C620 Operation_Column Temp Profile_C620 Tray 34 (Control)_oC': 191.94547357970023, 'Benzene Column C660 Operation_Column Temp Profile_C660 Tray 6 (SD & Control)_oC': 86.91335611271766, 'Benzene Column C660 Operation_Column Temp Profile_C660 Tray 23 (Control)_oC': 90.89917187409192, 'Tatoray Stripper C620 Operation_Specifications_Spec 2 : Distillate Rate_m3/hr': 0.4916266591160785, 'Simulation Case Conditions_Spec 2 : NA in Benzene_ppmw': 979.6508781207433}. Best is trial 13 with value: 1.1298056299406138.\u001b[0m\n",
            "\u001b[32m[I 2021-04-26 14:35:56,501]\u001b[0m Trial 103 finished with value: 1.2137662575126051 and parameters: {'Tatoray Stripper C620 Operation_Column Temp Profile_C620 Tray 14 (Control)_oC': 175.81132440603798, 'Tatoray Stripper C620 Operation_Column Temp Profile_C620 Tray 34 (Control)_oC': 191.73225195567633, 'Benzene Column C660 Operation_Column Temp Profile_C660 Tray 6 (SD & Control)_oC': 86.90565153381057, 'Benzene Column C660 Operation_Column Temp Profile_C660 Tray 23 (Control)_oC': 90.9020140307684, 'Tatoray Stripper C620 Operation_Specifications_Spec 2 : Distillate Rate_m3/hr': 0.19172851733656127, 'Simulation Case Conditions_Spec 2 : NA in Benzene_ppmw': 979.5442048290649}. Best is trial 13 with value: 1.1298056299406138.\u001b[0m\n",
            "\u001b[32m[I 2021-04-26 14:35:56,698]\u001b[0m Trial 104 finished with value: 2.1464420178449846 and parameters: {'Tatoray Stripper C620 Operation_Column Temp Profile_C620 Tray 14 (Control)_oC': 175.87732299704518, 'Tatoray Stripper C620 Operation_Column Temp Profile_C620 Tray 34 (Control)_oC': 191.8674822182531, 'Benzene Column C660 Operation_Column Temp Profile_C660 Tray 6 (SD & Control)_oC': 87.10493673328531, 'Benzene Column C660 Operation_Column Temp Profile_C660 Tray 23 (Control)_oC': 90.91452207965335, 'Tatoray Stripper C620 Operation_Specifications_Spec 2 : Distillate Rate_m3/hr': 0.02973442806110993, 'Simulation Case Conditions_Spec 2 : NA in Benzene_ppmw': 979.6609309617932}. Best is trial 13 with value: 1.1298056299406138.\u001b[0m\n",
            "\u001b[32m[I 2021-04-26 14:35:56,916]\u001b[0m Trial 105 finished with value: 1.3535803247714975 and parameters: {'Tatoray Stripper C620 Operation_Column Temp Profile_C620 Tray 14 (Control)_oC': 175.7686932255359, 'Tatoray Stripper C620 Operation_Column Temp Profile_C620 Tray 34 (Control)_oC': 191.81598302463829, 'Benzene Column C660 Operation_Column Temp Profile_C660 Tray 6 (SD & Control)_oC': 86.83183207582755, 'Benzene Column C660 Operation_Column Temp Profile_C660 Tray 23 (Control)_oC': 91.1675667245121, 'Tatoray Stripper C620 Operation_Specifications_Spec 2 : Distillate Rate_m3/hr': 0.4563173121905278, 'Simulation Case Conditions_Spec 2 : NA in Benzene_ppmw': 979.9422377274338}. Best is trial 13 with value: 1.1298056299406138.\u001b[0m\n",
            "\u001b[32m[I 2021-04-26 14:35:57,107]\u001b[0m Trial 106 finished with value: 1.7024442820917844 and parameters: {'Tatoray Stripper C620 Operation_Column Temp Profile_C620 Tray 14 (Control)_oC': 175.87937184132423, 'Tatoray Stripper C620 Operation_Column Temp Profile_C620 Tray 34 (Control)_oC': 191.6950778354927, 'Benzene Column C660 Operation_Column Temp Profile_C660 Tray 6 (SD & Control)_oC': 87.02084644951648, 'Benzene Column C660 Operation_Column Temp Profile_C660 Tray 23 (Control)_oC': 91.03349608072547, 'Tatoray Stripper C620 Operation_Specifications_Spec 2 : Distillate Rate_m3/hr': 0.3764275535060345, 'Simulation Case Conditions_Spec 2 : NA in Benzene_ppmw': 979.6367305334463}. Best is trial 13 with value: 1.1298056299406138.\u001b[0m\n",
            "\u001b[32m[I 2021-04-26 14:35:57,298]\u001b[0m Trial 107 finished with value: 1.4723711206647092 and parameters: {'Tatoray Stripper C620 Operation_Column Temp Profile_C620 Tray 14 (Control)_oC': 175.61712924192327, 'Tatoray Stripper C620 Operation_Column Temp Profile_C620 Tray 34 (Control)_oC': 192.05386901347623, 'Benzene Column C660 Operation_Column Temp Profile_C660 Tray 6 (SD & Control)_oC': 86.96877405581719, 'Benzene Column C660 Operation_Column Temp Profile_C660 Tray 23 (Control)_oC': 90.86195498005667, 'Tatoray Stripper C620 Operation_Specifications_Spec 2 : Distillate Rate_m3/hr': 0.5069845885442199, 'Simulation Case Conditions_Spec 2 : NA in Benzene_ppmw': 979.7461077165459}. Best is trial 13 with value: 1.1298056299406138.\u001b[0m\n",
            "\u001b[32m[I 2021-04-26 14:35:57,494]\u001b[0m Trial 108 finished with value: 1.3602908476686193 and parameters: {'Tatoray Stripper C620 Operation_Column Temp Profile_C620 Tray 14 (Control)_oC': 176.21631736894466, 'Tatoray Stripper C620 Operation_Column Temp Profile_C620 Tray 34 (Control)_oC': 191.69235445666465, 'Benzene Column C660 Operation_Column Temp Profile_C660 Tray 6 (SD & Control)_oC': 86.82827239395452, 'Benzene Column C660 Operation_Column Temp Profile_C660 Tray 23 (Control)_oC': 91.16161901427054, 'Tatoray Stripper C620 Operation_Specifications_Spec 2 : Distillate Rate_m3/hr': 0.2537974395326524, 'Simulation Case Conditions_Spec 2 : NA in Benzene_ppmw': 979.5090948215936}. Best is trial 13 with value: 1.1298056299406138.\u001b[0m\n",
            "\u001b[32m[I 2021-04-26 14:35:57,688]\u001b[0m Trial 109 finished with value: 1.3186581550208587 and parameters: {'Tatoray Stripper C620 Operation_Column Temp Profile_C620 Tray 14 (Control)_oC': 175.56902627023499, 'Tatoray Stripper C620 Operation_Column Temp Profile_C620 Tray 34 (Control)_oC': 191.91420794292316, 'Benzene Column C660 Operation_Column Temp Profile_C660 Tray 6 (SD & Control)_oC': 86.84453942833291, 'Benzene Column C660 Operation_Column Temp Profile_C660 Tray 23 (Control)_oC': 91.11588159722545, 'Tatoray Stripper C620 Operation_Specifications_Spec 2 : Distillate Rate_m3/hr': 0.043249434497584616, 'Simulation Case Conditions_Spec 2 : NA in Benzene_ppmw': 979.9126981767907}. Best is trial 13 with value: 1.1298056299406138.\u001b[0m\n",
            "\u001b[32m[I 2021-04-26 14:35:57,883]\u001b[0m Trial 110 finished with value: 1.2691639899722047 and parameters: {'Tatoray Stripper C620 Operation_Column Temp Profile_C620 Tray 14 (Control)_oC': 175.90166682114457, 'Tatoray Stripper C620 Operation_Column Temp Profile_C620 Tray 34 (Control)_oC': 191.73356724237053, 'Benzene Column C660 Operation_Column Temp Profile_C660 Tray 6 (SD & Control)_oC': 86.84373957040111, 'Benzene Column C660 Operation_Column Temp Profile_C660 Tray 23 (Control)_oC': 90.8362440950304, 'Tatoray Stripper C620 Operation_Specifications_Spec 2 : Distillate Rate_m3/hr': 0.15820010269971974, 'Simulation Case Conditions_Spec 2 : NA in Benzene_ppmw': 979.6497780816263}. Best is trial 13 with value: 1.1298056299406138.\u001b[0m\n",
            "\u001b[32m[I 2021-04-26 14:35:58,083]\u001b[0m Trial 111 finished with value: 1.3257130511992123 and parameters: {'Tatoray Stripper C620 Operation_Column Temp Profile_C620 Tray 14 (Control)_oC': 176.0873158677965, 'Tatoray Stripper C620 Operation_Column Temp Profile_C620 Tray 34 (Control)_oC': 191.666752315265, 'Benzene Column C660 Operation_Column Temp Profile_C660 Tray 6 (SD & Control)_oC': 86.83112094221816, 'Benzene Column C660 Operation_Column Temp Profile_C660 Tray 23 (Control)_oC': 91.02732923671223, 'Tatoray Stripper C620 Operation_Specifications_Spec 2 : Distillate Rate_m3/hr': 0.5333617724946621, 'Simulation Case Conditions_Spec 2 : NA in Benzene_ppmw': 979.633620621731}. Best is trial 13 with value: 1.1298056299406138.\u001b[0m\n",
            "\u001b[32m[I 2021-04-26 14:35:58,281]\u001b[0m Trial 112 finished with value: 1.1718805971702195 and parameters: {'Tatoray Stripper C620 Operation_Column Temp Profile_C620 Tray 14 (Control)_oC': 176.2422830494956, 'Tatoray Stripper C620 Operation_Column Temp Profile_C620 Tray 34 (Control)_oC': 191.7909714482967, 'Benzene Column C660 Operation_Column Temp Profile_C660 Tray 6 (SD & Control)_oC': 86.89136109842693, 'Benzene Column C660 Operation_Column Temp Profile_C660 Tray 23 (Control)_oC': 90.86133914387386, 'Tatoray Stripper C620 Operation_Specifications_Spec 2 : Distillate Rate_m3/hr': 0.4593314058375281, 'Simulation Case Conditions_Spec 2 : NA in Benzene_ppmw': 979.3434909172329}. Best is trial 13 with value: 1.1298056299406138.\u001b[0m\n",
            "\u001b[32m[I 2021-04-26 14:35:58,472]\u001b[0m Trial 113 finished with value: 1.2676939062899748 and parameters: {'Tatoray Stripper C620 Operation_Column Temp Profile_C620 Tray 14 (Control)_oC': 175.991626698654, 'Tatoray Stripper C620 Operation_Column Temp Profile_C620 Tray 34 (Control)_oC': 191.73169231696548, 'Benzene Column C660 Operation_Column Temp Profile_C660 Tray 6 (SD & Control)_oC': 86.91690247205746, 'Benzene Column C660 Operation_Column Temp Profile_C660 Tray 23 (Control)_oC': 90.88444601934405, 'Tatoray Stripper C620 Operation_Specifications_Spec 2 : Distillate Rate_m3/hr': 0.44424164362246255, 'Simulation Case Conditions_Spec 2 : NA in Benzene_ppmw': 979.6150278428349}. Best is trial 13 with value: 1.1298056299406138.\u001b[0m\n",
            "\u001b[32m[I 2021-04-26 14:35:58,682]\u001b[0m Trial 114 finished with value: 1.19811150777895 and parameters: {'Tatoray Stripper C620 Operation_Column Temp Profile_C620 Tray 14 (Control)_oC': 175.94376581824042, 'Tatoray Stripper C620 Operation_Column Temp Profile_C620 Tray 34 (Control)_oC': 191.72345456143842, 'Benzene Column C660 Operation_Column Temp Profile_C660 Tray 6 (SD & Control)_oC': 86.86986688627591, 'Benzene Column C660 Operation_Column Temp Profile_C660 Tray 23 (Control)_oC': 90.9768254584796, 'Tatoray Stripper C620 Operation_Specifications_Spec 2 : Distillate Rate_m3/hr': 0.18106312862606697, 'Simulation Case Conditions_Spec 2 : NA in Benzene_ppmw': 979.8751805726218}. Best is trial 13 with value: 1.1298056299406138.\u001b[0m\n",
            "\u001b[32m[I 2021-04-26 14:35:58,878]\u001b[0m Trial 115 finished with value: 1.3693975571202046 and parameters: {'Tatoray Stripper C620 Operation_Column Temp Profile_C620 Tray 14 (Control)_oC': 175.92289826138904, 'Tatoray Stripper C620 Operation_Column Temp Profile_C620 Tray 34 (Control)_oC': 191.88649087048327, 'Benzene Column C660 Operation_Column Temp Profile_C660 Tray 6 (SD & Control)_oC': 86.82739391252784, 'Benzene Column C660 Operation_Column Temp Profile_C660 Tray 23 (Control)_oC': 91.11369559094503, 'Tatoray Stripper C620 Operation_Specifications_Spec 2 : Distillate Rate_m3/hr': 0.03160147890665749, 'Simulation Case Conditions_Spec 2 : NA in Benzene_ppmw': 979.553855454516}. Best is trial 13 with value: 1.1298056299406138.\u001b[0m\n",
            "\u001b[32m[I 2021-04-26 14:35:59,069]\u001b[0m Trial 116 finished with value: 1.3208228765995715 and parameters: {'Tatoray Stripper C620 Operation_Column Temp Profile_C620 Tray 14 (Control)_oC': 175.90919880172174, 'Tatoray Stripper C620 Operation_Column Temp Profile_C620 Tray 34 (Control)_oC': 191.8824971755529, 'Benzene Column C660 Operation_Column Temp Profile_C660 Tray 6 (SD & Control)_oC': 86.93491018101908, 'Benzene Column C660 Operation_Column Temp Profile_C660 Tray 23 (Control)_oC': 90.93257696494783, 'Tatoray Stripper C620 Operation_Specifications_Spec 2 : Distillate Rate_m3/hr': 0.18703187133829052, 'Simulation Case Conditions_Spec 2 : NA in Benzene_ppmw': 979.9724072592513}. Best is trial 13 with value: 1.1298056299406138.\u001b[0m\n",
            "\u001b[32m[I 2021-04-26 14:35:59,258]\u001b[0m Trial 117 finished with value: 1.2238235206649628 and parameters: {'Tatoray Stripper C620 Operation_Column Temp Profile_C620 Tray 14 (Control)_oC': 175.8078544538237, 'Tatoray Stripper C620 Operation_Column Temp Profile_C620 Tray 34 (Control)_oC': 191.65496000811532, 'Benzene Column C660 Operation_Column Temp Profile_C660 Tray 6 (SD & Control)_oC': 86.91302755850815, 'Benzene Column C660 Operation_Column Temp Profile_C660 Tray 23 (Control)_oC': 91.02237270811447, 'Tatoray Stripper C620 Operation_Specifications_Spec 2 : Distillate Rate_m3/hr': 0.09381181796448185, 'Simulation Case Conditions_Spec 2 : NA in Benzene_ppmw': 979.5373831208061}. Best is trial 13 with value: 1.1298056299406138.\u001b[0m\n",
            "\u001b[32m[I 2021-04-26 14:35:59,458]\u001b[0m Trial 118 finished with value: 1.5777336300383327 and parameters: {'Tatoray Stripper C620 Operation_Column Temp Profile_C620 Tray 14 (Control)_oC': 175.89019431992182, 'Tatoray Stripper C620 Operation_Column Temp Profile_C620 Tray 34 (Control)_oC': 191.72374063800788, 'Benzene Column C660 Operation_Column Temp Profile_C660 Tray 6 (SD & Control)_oC': 86.99521783574545, 'Benzene Column C660 Operation_Column Temp Profile_C660 Tray 23 (Control)_oC': 91.02551133707568, 'Tatoray Stripper C620 Operation_Specifications_Spec 2 : Distillate Rate_m3/hr': 0.23370876233237178, 'Simulation Case Conditions_Spec 2 : NA in Benzene_ppmw': 979.7366790142299}. Best is trial 13 with value: 1.1298056299406138.\u001b[0m\n",
            "\u001b[32m[I 2021-04-26 14:35:59,663]\u001b[0m Trial 119 finished with value: 1.5311314742902 and parameters: {'Tatoray Stripper C620 Operation_Column Temp Profile_C620 Tray 14 (Control)_oC': 175.94587915256628, 'Tatoray Stripper C620 Operation_Column Temp Profile_C620 Tray 34 (Control)_oC': 191.68530123924597, 'Benzene Column C660 Operation_Column Temp Profile_C660 Tray 6 (SD & Control)_oC': 86.9745288660877, 'Benzene Column C660 Operation_Column Temp Profile_C660 Tray 23 (Control)_oC': 90.80717170696633, 'Tatoray Stripper C620 Operation_Specifications_Spec 2 : Distillate Rate_m3/hr': 0.23160942886289348, 'Simulation Case Conditions_Spec 2 : NA in Benzene_ppmw': 979.4397721381131}. Best is trial 13 with value: 1.1298056299406138.\u001b[0m\n",
            "\u001b[32m[I 2021-04-26 14:35:59,865]\u001b[0m Trial 120 finished with value: 1.3589558258873817 and parameters: {'Tatoray Stripper C620 Operation_Column Temp Profile_C620 Tray 14 (Control)_oC': 176.10726565206787, 'Tatoray Stripper C620 Operation_Column Temp Profile_C620 Tray 34 (Control)_oC': 191.93006277221642, 'Benzene Column C660 Operation_Column Temp Profile_C660 Tray 6 (SD & Control)_oC': 86.93911719451305, 'Benzene Column C660 Operation_Column Temp Profile_C660 Tray 23 (Control)_oC': 90.82095947665589, 'Tatoray Stripper C620 Operation_Specifications_Spec 2 : Distillate Rate_m3/hr': 0.16770681022018188, 'Simulation Case Conditions_Spec 2 : NA in Benzene_ppmw': 979.5647861252985}. Best is trial 13 with value: 1.1298056299406138.\u001b[0m\n",
            "\u001b[32m[I 2021-04-26 14:36:00,056]\u001b[0m Trial 121 finished with value: 1.3479538028590512 and parameters: {'Tatoray Stripper C620 Operation_Column Temp Profile_C620 Tray 14 (Control)_oC': 176.2458263293391, 'Tatoray Stripper C620 Operation_Column Temp Profile_C620 Tray 34 (Control)_oC': 191.72795297788838, 'Benzene Column C660 Operation_Column Temp Profile_C660 Tray 6 (SD & Control)_oC': 86.92942189325156, 'Benzene Column C660 Operation_Column Temp Profile_C660 Tray 23 (Control)_oC': 90.73993306954128, 'Tatoray Stripper C620 Operation_Specifications_Spec 2 : Distillate Rate_m3/hr': 0.2119415016757323, 'Simulation Case Conditions_Spec 2 : NA in Benzene_ppmw': 979.3693811285714}. Best is trial 13 with value: 1.1298056299406138.\u001b[0m\n",
            "\u001b[32m[I 2021-04-26 14:36:00,251]\u001b[0m Trial 122 finished with value: 1.6667364798746838 and parameters: {'Tatoray Stripper C620 Operation_Column Temp Profile_C620 Tray 14 (Control)_oC': 176.12598710649453, 'Tatoray Stripper C620 Operation_Column Temp Profile_C620 Tray 34 (Control)_oC': 191.9857899583919, 'Benzene Column C660 Operation_Column Temp Profile_C660 Tray 6 (SD & Control)_oC': 86.69540531625502, 'Benzene Column C660 Operation_Column Temp Profile_C660 Tray 23 (Control)_oC': 90.93960027717219, 'Tatoray Stripper C620 Operation_Specifications_Spec 2 : Distillate Rate_m3/hr': 0.5223175354752858, 'Simulation Case Conditions_Spec 2 : NA in Benzene_ppmw': 979.5821502950943}. Best is trial 13 with value: 1.1298056299406138.\u001b[0m\n",
            "\u001b[32m[I 2021-04-26 14:36:00,451]\u001b[0m Trial 123 finished with value: 1.3877500734952433 and parameters: {'Tatoray Stripper C620 Operation_Column Temp Profile_C620 Tray 14 (Control)_oC': 176.06847076318482, 'Tatoray Stripper C620 Operation_Column Temp Profile_C620 Tray 34 (Control)_oC': 191.7903018347028, 'Benzene Column C660 Operation_Column Temp Profile_C660 Tray 6 (SD & Control)_oC': 86.95633874820422, 'Benzene Column C660 Operation_Column Temp Profile_C660 Tray 23 (Control)_oC': 91.09346056422044, 'Tatoray Stripper C620 Operation_Specifications_Spec 2 : Distillate Rate_m3/hr': 0.45784829141305516, 'Simulation Case Conditions_Spec 2 : NA in Benzene_ppmw': 979.2735971390103}. Best is trial 13 with value: 1.1298056299406138.\u001b[0m\n",
            "\u001b[32m[I 2021-04-26 14:36:00,651]\u001b[0m Trial 124 finished with value: 1.4246241551450922 and parameters: {'Tatoray Stripper C620 Operation_Column Temp Profile_C620 Tray 14 (Control)_oC': 176.01630992113084, 'Tatoray Stripper C620 Operation_Column Temp Profile_C620 Tray 34 (Control)_oC': 192.09636985909123, 'Benzene Column C660 Operation_Column Temp Profile_C660 Tray 6 (SD & Control)_oC': 86.97093354265569, 'Benzene Column C660 Operation_Column Temp Profile_C660 Tray 23 (Control)_oC': 91.14071357919133, 'Tatoray Stripper C620 Operation_Specifications_Spec 2 : Distillate Rate_m3/hr': 0.3431174385645803, 'Simulation Case Conditions_Spec 2 : NA in Benzene_ppmw': 979.5368126669454}. Best is trial 13 with value: 1.1298056299406138.\u001b[0m\n",
            "\u001b[32m[I 2021-04-26 14:36:00,846]\u001b[0m Trial 125 finished with value: 1.5772780714575478 and parameters: {'Tatoray Stripper C620 Operation_Column Temp Profile_C620 Tray 14 (Control)_oC': 175.9696368732652, 'Tatoray Stripper C620 Operation_Column Temp Profile_C620 Tray 34 (Control)_oC': 191.82667452839476, 'Benzene Column C660 Operation_Column Temp Profile_C660 Tray 6 (SD & Control)_oC': 86.74795412751445, 'Benzene Column C660 Operation_Column Temp Profile_C660 Tray 23 (Control)_oC': 91.09154934907156, 'Tatoray Stripper C620 Operation_Specifications_Spec 2 : Distillate Rate_m3/hr': 0.10218614121980676, 'Simulation Case Conditions_Spec 2 : NA in Benzene_ppmw': 979.6922973244201}. Best is trial 13 with value: 1.1298056299406138.\u001b[0m\n",
            "\u001b[32m[I 2021-04-26 14:36:01,053]\u001b[0m Trial 126 finished with value: 1.6773132946593532 and parameters: {'Tatoray Stripper C620 Operation_Column Temp Profile_C620 Tray 14 (Control)_oC': 175.92983963975578, 'Tatoray Stripper C620 Operation_Column Temp Profile_C620 Tray 34 (Control)_oC': 191.9951513726119, 'Benzene Column C660 Operation_Column Temp Profile_C660 Tray 6 (SD & Control)_oC': 87.01475141008751, 'Benzene Column C660 Operation_Column Temp Profile_C660 Tray 23 (Control)_oC': 90.94464617093332, 'Tatoray Stripper C620 Operation_Specifications_Spec 2 : Distillate Rate_m3/hr': 0.5463103013050663, 'Simulation Case Conditions_Spec 2 : NA in Benzene_ppmw': 979.5558199294181}. Best is trial 13 with value: 1.1298056299406138.\u001b[0m\n",
            "\u001b[32m[I 2021-04-26 14:36:01,250]\u001b[0m Trial 127 finished with value: 1.1908070704132017 and parameters: {'Tatoray Stripper C620 Operation_Column Temp Profile_C620 Tray 14 (Control)_oC': 176.29551352709643, 'Tatoray Stripper C620 Operation_Column Temp Profile_C620 Tray 34 (Control)_oC': 191.67291636280754, 'Benzene Column C660 Operation_Column Temp Profile_C660 Tray 6 (SD & Control)_oC': 86.87206789519489, 'Benzene Column C660 Operation_Column Temp Profile_C660 Tray 23 (Control)_oC': 91.00251516879025, 'Tatoray Stripper C620 Operation_Specifications_Spec 2 : Distillate Rate_m3/hr': 0.11082922340212029, 'Simulation Case Conditions_Spec 2 : NA in Benzene_ppmw': 979.1635287376046}. Best is trial 13 with value: 1.1298056299406138.\u001b[0m\n",
            "\u001b[32m[I 2021-04-26 14:36:01,464]\u001b[0m Trial 128 finished with value: 1.4065299860328764 and parameters: {'Tatoray Stripper C620 Operation_Column Temp Profile_C620 Tray 14 (Control)_oC': 176.14583469394813, 'Tatoray Stripper C620 Operation_Column Temp Profile_C620 Tray 34 (Control)_oC': 191.89263692192904, 'Benzene Column C660 Operation_Column Temp Profile_C660 Tray 6 (SD & Control)_oC': 86.79588717377534, 'Benzene Column C660 Operation_Column Temp Profile_C660 Tray 23 (Control)_oC': 90.77570091393108, 'Tatoray Stripper C620 Operation_Specifications_Spec 2 : Distillate Rate_m3/hr': 0.44953887627109584, 'Simulation Case Conditions_Spec 2 : NA in Benzene_ppmw': 979.4037605660277}. Best is trial 13 with value: 1.1298056299406138.\u001b[0m\n",
            "\u001b[32m[I 2021-04-26 14:36:01,664]\u001b[0m Trial 129 finished with value: 1.178547256140164 and parameters: {'Tatoray Stripper C620 Operation_Column Temp Profile_C620 Tray 14 (Control)_oC': 175.94986394750993, 'Tatoray Stripper C620 Operation_Column Temp Profile_C620 Tray 34 (Control)_oC': 191.78211507111357, 'Benzene Column C660 Operation_Column Temp Profile_C660 Tray 6 (SD & Control)_oC': 86.8626666913641, 'Benzene Column C660 Operation_Column Temp Profile_C660 Tray 23 (Control)_oC': 90.68084242665735, 'Tatoray Stripper C620 Operation_Specifications_Spec 2 : Distillate Rate_m3/hr': 0.16502035477200339, 'Simulation Case Conditions_Spec 2 : NA in Benzene_ppmw': 979.4018203392858}. Best is trial 13 with value: 1.1298056299406138.\u001b[0m\n",
            "\u001b[32m[I 2021-04-26 14:36:01,856]\u001b[0m Trial 130 finished with value: 1.1476655361750665 and parameters: {'Tatoray Stripper C620 Operation_Column Temp Profile_C620 Tray 14 (Control)_oC': 175.91093548743538, 'Tatoray Stripper C620 Operation_Column Temp Profile_C620 Tray 34 (Control)_oC': 191.9019682645871, 'Benzene Column C660 Operation_Column Temp Profile_C660 Tray 6 (SD & Control)_oC': 86.88923355723848, 'Benzene Column C660 Operation_Column Temp Profile_C660 Tray 23 (Control)_oC': 91.06220960149118, 'Tatoray Stripper C620 Operation_Specifications_Spec 2 : Distillate Rate_m3/hr': 0.2019101896797441, 'Simulation Case Conditions_Spec 2 : NA in Benzene_ppmw': 979.2933569538169}. Best is trial 13 with value: 1.1298056299406138.\u001b[0m\n",
            "\u001b[32m[I 2021-04-26 14:36:02,051]\u001b[0m Trial 131 finished with value: 1.3075397541807905 and parameters: {'Tatoray Stripper C620 Operation_Column Temp Profile_C620 Tray 14 (Control)_oC': 176.4942195013365, 'Tatoray Stripper C620 Operation_Column Temp Profile_C620 Tray 34 (Control)_oC': 191.84659186773723, 'Benzene Column C660 Operation_Column Temp Profile_C660 Tray 6 (SD & Control)_oC': 86.92561014720754, 'Benzene Column C660 Operation_Column Temp Profile_C660 Tray 23 (Control)_oC': 90.8475134561935, 'Tatoray Stripper C620 Operation_Specifications_Spec 2 : Distillate Rate_m3/hr': 0.11628216704254155, 'Simulation Case Conditions_Spec 2 : NA in Benzene_ppmw': 979.5042379659519}. Best is trial 13 with value: 1.1298056299406138.\u001b[0m\n",
            "\u001b[32m[I 2021-04-26 14:36:02,250]\u001b[0m Trial 132 finished with value: 1.2952062596178824 and parameters: {'Tatoray Stripper C620 Operation_Column Temp Profile_C620 Tray 14 (Control)_oC': 176.1343099480404, 'Tatoray Stripper C620 Operation_Column Temp Profile_C620 Tray 34 (Control)_oC': 191.83342138165463, 'Benzene Column C660 Operation_Column Temp Profile_C660 Tray 6 (SD & Control)_oC': 86.83003109283972, 'Benzene Column C660 Operation_Column Temp Profile_C660 Tray 23 (Control)_oC': 90.74762353449634, 'Tatoray Stripper C620 Operation_Specifications_Spec 2 : Distillate Rate_m3/hr': 0.42012798378607474, 'Simulation Case Conditions_Spec 2 : NA in Benzene_ppmw': 979.6395238927026}. Best is trial 13 with value: 1.1298056299406138.\u001b[0m\n",
            "\u001b[32m[I 2021-04-26 14:36:02,454]\u001b[0m Trial 133 finished with value: 1.3387331990566096 and parameters: {'Tatoray Stripper C620 Operation_Column Temp Profile_C620 Tray 14 (Control)_oC': 176.12474973884338, 'Tatoray Stripper C620 Operation_Column Temp Profile_C620 Tray 34 (Control)_oC': 191.87275612779263, 'Benzene Column C660 Operation_Column Temp Profile_C660 Tray 6 (SD & Control)_oC': 86.92268137521559, 'Benzene Column C660 Operation_Column Temp Profile_C660 Tray 23 (Control)_oC': 90.58459746442439, 'Tatoray Stripper C620 Operation_Specifications_Spec 2 : Distillate Rate_m3/hr': 0.09416246086593283, 'Simulation Case Conditions_Spec 2 : NA in Benzene_ppmw': 979.5408548444503}. Best is trial 13 with value: 1.1298056299406138.\u001b[0m\n",
            "\u001b[32m[I 2021-04-26 14:36:02,659]\u001b[0m Trial 134 finished with value: 1.2758744406053375 and parameters: {'Tatoray Stripper C620 Operation_Column Temp Profile_C620 Tray 14 (Control)_oC': 176.11303270984106, 'Tatoray Stripper C620 Operation_Column Temp Profile_C620 Tray 34 (Control)_oC': 191.64766369761858, 'Benzene Column C660 Operation_Column Temp Profile_C660 Tray 6 (SD & Control)_oC': 86.91459649723213, 'Benzene Column C660 Operation_Column Temp Profile_C660 Tray 23 (Control)_oC': 90.8054907525208, 'Tatoray Stripper C620 Operation_Specifications_Spec 2 : Distillate Rate_m3/hr': 0.13893573378287755, 'Simulation Case Conditions_Spec 2 : NA in Benzene_ppmw': 979.3726833781238}. Best is trial 13 with value: 1.1298056299406138.\u001b[0m\n",
            "\u001b[32m[I 2021-04-26 14:36:02,861]\u001b[0m Trial 135 finished with value: 1.6332942936067048 and parameters: {'Tatoray Stripper C620 Operation_Column Temp Profile_C620 Tray 14 (Control)_oC': 175.72843491323897, 'Tatoray Stripper C620 Operation_Column Temp Profile_C620 Tray 34 (Control)_oC': 191.7193195557511, 'Benzene Column C660 Operation_Column Temp Profile_C660 Tray 6 (SD & Control)_oC': 86.99722712389435, 'Benzene Column C660 Operation_Column Temp Profile_C660 Tray 23 (Control)_oC': 90.8238751580041, 'Tatoray Stripper C620 Operation_Specifications_Spec 2 : Distillate Rate_m3/hr': 0.43943406207817354, 'Simulation Case Conditions_Spec 2 : NA in Benzene_ppmw': 979.9297986379041}. Best is trial 13 with value: 1.1298056299406138.\u001b[0m\n",
            "\u001b[32m[I 2021-04-26 14:36:03,058]\u001b[0m Trial 136 finished with value: 1.425691784336479 and parameters: {'Tatoray Stripper C620 Operation_Column Temp Profile_C620 Tray 14 (Control)_oC': 175.86595281323628, 'Tatoray Stripper C620 Operation_Column Temp Profile_C620 Tray 34 (Control)_oC': 192.15099185212762, 'Benzene Column C660 Operation_Column Temp Profile_C660 Tray 6 (SD & Control)_oC': 86.80143895645233, 'Benzene Column C660 Operation_Column Temp Profile_C660 Tray 23 (Control)_oC': 90.99262636824628, 'Tatoray Stripper C620 Operation_Specifications_Spec 2 : Distillate Rate_m3/hr': 0.18355744181210185, 'Simulation Case Conditions_Spec 2 : NA in Benzene_ppmw': 978.9180865346876}. Best is trial 13 with value: 1.1298056299406138.\u001b[0m\n",
            "\u001b[32m[I 2021-04-26 14:36:03,257]\u001b[0m Trial 137 finished with value: 1.192952098146808 and parameters: {'Tatoray Stripper C620 Operation_Column Temp Profile_C620 Tray 14 (Control)_oC': 176.02263666907547, 'Tatoray Stripper C620 Operation_Column Temp Profile_C620 Tray 34 (Control)_oC': 192.1523453127404, 'Benzene Column C660 Operation_Column Temp Profile_C660 Tray 6 (SD & Control)_oC': 86.8632908208846, 'Benzene Column C660 Operation_Column Temp Profile_C660 Tray 23 (Control)_oC': 90.77797585334291, 'Tatoray Stripper C620 Operation_Specifications_Spec 2 : Distillate Rate_m3/hr': 0.17257807106206224, 'Simulation Case Conditions_Spec 2 : NA in Benzene_ppmw': 979.036153631847}. Best is trial 13 with value: 1.1298056299406138.\u001b[0m\n",
            "\u001b[32m[I 2021-04-26 14:36:03,457]\u001b[0m Trial 138 finished with value: 1.6809097064960923 and parameters: {'Tatoray Stripper C620 Operation_Column Temp Profile_C620 Tray 14 (Control)_oC': 175.9516754449036, 'Tatoray Stripper C620 Operation_Column Temp Profile_C620 Tray 34 (Control)_oC': 192.17740982972768, 'Benzene Column C660 Operation_Column Temp Profile_C660 Tray 6 (SD & Control)_oC': 87.00977545574479, 'Benzene Column C660 Operation_Column Temp Profile_C660 Tray 23 (Control)_oC': 90.77513120141874, 'Tatoray Stripper C620 Operation_Specifications_Spec 2 : Distillate Rate_m3/hr': 0.2244444731391409, 'Simulation Case Conditions_Spec 2 : NA in Benzene_ppmw': 979.5574663298995}. Best is trial 13 with value: 1.1298056299406138.\u001b[0m\n",
            "\u001b[32m[I 2021-04-26 14:36:03,658]\u001b[0m Trial 139 finished with value: 1.4849993171068305 and parameters: {'Tatoray Stripper C620 Operation_Column Temp Profile_C620 Tray 14 (Control)_oC': 175.8303904527633, 'Tatoray Stripper C620 Operation_Column Temp Profile_C620 Tray 34 (Control)_oC': 191.79487640511718, 'Benzene Column C660 Operation_Column Temp Profile_C660 Tray 6 (SD & Control)_oC': 86.77958273003753, 'Benzene Column C660 Operation_Column Temp Profile_C660 Tray 23 (Control)_oC': 90.98699265297547, 'Tatoray Stripper C620 Operation_Specifications_Spec 2 : Distillate Rate_m3/hr': 0.24766111119097192, 'Simulation Case Conditions_Spec 2 : NA in Benzene_ppmw': 979.3959338003999}. Best is trial 13 with value: 1.1298056299406138.\u001b[0m\n",
            "\u001b[32m[I 2021-04-26 14:36:03,858]\u001b[0m Trial 140 finished with value: 1.5910715297743603 and parameters: {'Tatoray Stripper C620 Operation_Column Temp Profile_C620 Tray 14 (Control)_oC': 176.200933559461, 'Tatoray Stripper C620 Operation_Column Temp Profile_C620 Tray 34 (Control)_oC': 191.8433864975499, 'Benzene Column C660 Operation_Column Temp Profile_C660 Tray 6 (SD & Control)_oC': 86.72202188177278, 'Benzene Column C660 Operation_Column Temp Profile_C660 Tray 23 (Control)_oC': 90.6767427241646, 'Tatoray Stripper C620 Operation_Specifications_Spec 2 : Distillate Rate_m3/hr': 0.15103417583548995, 'Simulation Case Conditions_Spec 2 : NA in Benzene_ppmw': 979.4287441334386}. Best is trial 13 with value: 1.1298056299406138.\u001b[0m\n",
            "\u001b[32m[I 2021-04-26 14:36:04,179]\u001b[0m Trial 141 finished with value: 1.2115512864382234 and parameters: {'Tatoray Stripper C620 Operation_Column Temp Profile_C620 Tray 14 (Control)_oC': 176.11267546896806, 'Tatoray Stripper C620 Operation_Column Temp Profile_C620 Tray 34 (Control)_oC': 191.69266276066276, 'Benzene Column C660 Operation_Column Temp Profile_C660 Tray 6 (SD & Control)_oC': 86.86148845104898, 'Benzene Column C660 Operation_Column Temp Profile_C660 Tray 23 (Control)_oC': 90.89972047383547, 'Tatoray Stripper C620 Operation_Specifications_Spec 2 : Distillate Rate_m3/hr': 0.2758988580725598, 'Simulation Case Conditions_Spec 2 : NA in Benzene_ppmw': 979.0373679344251}. Best is trial 13 with value: 1.1298056299406138.\u001b[0m\n",
            "\u001b[32m[I 2021-04-26 14:36:04,374]\u001b[0m Trial 142 finished with value: 1.3012516131659213 and parameters: {'Tatoray Stripper C620 Operation_Column Temp Profile_C620 Tray 14 (Control)_oC': 175.52617260168603, 'Tatoray Stripper C620 Operation_Column Temp Profile_C620 Tray 34 (Control)_oC': 191.9527558063476, 'Benzene Column C660 Operation_Column Temp Profile_C660 Tray 6 (SD & Control)_oC': 86.85274474331676, 'Benzene Column C660 Operation_Column Temp Profile_C660 Tray 23 (Control)_oC': 91.19651670473836, 'Tatoray Stripper C620 Operation_Specifications_Spec 2 : Distillate Rate_m3/hr': 0.2390957215658708, 'Simulation Case Conditions_Spec 2 : NA in Benzene_ppmw': 979.4773738254121}. Best is trial 13 with value: 1.1298056299406138.\u001b[0m\n",
            "\u001b[32m[I 2021-04-26 14:36:04,571]\u001b[0m Trial 143 finished with value: 1.5010259710893346 and parameters: {'Tatoray Stripper C620 Operation_Column Temp Profile_C620 Tray 14 (Control)_oC': 176.11812077203703, 'Tatoray Stripper C620 Operation_Column Temp Profile_C620 Tray 34 (Control)_oC': 191.74036661952644, 'Benzene Column C660 Operation_Column Temp Profile_C660 Tray 6 (SD & Control)_oC': 86.98186586361159, 'Benzene Column C660 Operation_Column Temp Profile_C660 Tray 23 (Control)_oC': 91.08747607825761, 'Tatoray Stripper C620 Operation_Specifications_Spec 2 : Distillate Rate_m3/hr': 0.2511149887139246, 'Simulation Case Conditions_Spec 2 : NA in Benzene_ppmw': 978.7504335106174}. Best is trial 13 with value: 1.1298056299406138.\u001b[0m\n",
            "\u001b[32m[I 2021-04-26 14:36:04,769]\u001b[0m Trial 144 finished with value: 1.7567365852944823 and parameters: {'Tatoray Stripper C620 Operation_Column Temp Profile_C620 Tray 14 (Control)_oC': 176.08105081629827, 'Tatoray Stripper C620 Operation_Column Temp Profile_C620 Tray 34 (Control)_oC': 192.1675585029111, 'Benzene Column C660 Operation_Column Temp Profile_C660 Tray 6 (SD & Control)_oC': 87.02641342825056, 'Benzene Column C660 Operation_Column Temp Profile_C660 Tray 23 (Control)_oC': 90.80691257739473, 'Tatoray Stripper C620 Operation_Specifications_Spec 2 : Distillate Rate_m3/hr': 0.36582560862330477, 'Simulation Case Conditions_Spec 2 : NA in Benzene_ppmw': 978.9846167746337}. Best is trial 13 with value: 1.1298056299406138.\u001b[0m\n",
            "\u001b[32m[I 2021-04-26 14:36:04,967]\u001b[0m Trial 145 finished with value: 1.7206193177236364 and parameters: {'Tatoray Stripper C620 Operation_Column Temp Profile_C620 Tray 14 (Control)_oC': 175.94420682949712, 'Tatoray Stripper C620 Operation_Column Temp Profile_C620 Tray 34 (Control)_oC': 191.75491740163332, 'Benzene Column C660 Operation_Column Temp Profile_C660 Tray 6 (SD & Control)_oC': 86.6674630704309, 'Benzene Column C660 Operation_Column Temp Profile_C660 Tray 23 (Control)_oC': 90.90975790211749, 'Tatoray Stripper C620 Operation_Specifications_Spec 2 : Distillate Rate_m3/hr': 0.26452692517037935, 'Simulation Case Conditions_Spec 2 : NA in Benzene_ppmw': 979.1262274300008}. Best is trial 13 with value: 1.1298056299406138.\u001b[0m\n",
            "\u001b[32m[I 2021-04-26 14:36:05,164]\u001b[0m Trial 146 finished with value: 1.2838253168048752 and parameters: {'Tatoray Stripper C620 Operation_Column Temp Profile_C620 Tray 14 (Control)_oC': 176.27726912816877, 'Tatoray Stripper C620 Operation_Column Temp Profile_C620 Tray 34 (Control)_oC': 192.44810889738196, 'Benzene Column C660 Operation_Column Temp Profile_C660 Tray 6 (SD & Control)_oC': 86.90290339484282, 'Benzene Column C660 Operation_Column Temp Profile_C660 Tray 23 (Control)_oC': 90.54956413928869, 'Tatoray Stripper C620 Operation_Specifications_Spec 2 : Distillate Rate_m3/hr': 0.26381329751096394, 'Simulation Case Conditions_Spec 2 : NA in Benzene_ppmw': 978.9197939736529}. Best is trial 13 with value: 1.1298056299406138.\u001b[0m\n",
            "\u001b[32m[I 2021-04-26 14:36:05,361]\u001b[0m Trial 147 finished with value: 1.172320547139628 and parameters: {'Tatoray Stripper C620 Operation_Column Temp Profile_C620 Tray 14 (Control)_oC': 175.7186361203785, 'Tatoray Stripper C620 Operation_Column Temp Profile_C620 Tray 34 (Control)_oC': 191.92552522582878, 'Benzene Column C660 Operation_Column Temp Profile_C660 Tray 6 (SD & Control)_oC': 86.88635205904328, 'Benzene Column C660 Operation_Column Temp Profile_C660 Tray 23 (Control)_oC': 91.14213282065273, 'Tatoray Stripper C620 Operation_Specifications_Spec 2 : Distillate Rate_m3/hr': 0.28589891147144375, 'Simulation Case Conditions_Spec 2 : NA in Benzene_ppmw': 979.4464384504923}. Best is trial 13 with value: 1.1298056299406138.\u001b[0m\n",
            "\u001b[32m[I 2021-04-26 14:36:05,559]\u001b[0m Trial 148 finished with value: 1.4948937106362283 and parameters: {'Tatoray Stripper C620 Operation_Column Temp Profile_C620 Tray 14 (Control)_oC': 175.65952920363924, 'Tatoray Stripper C620 Operation_Column Temp Profile_C620 Tray 34 (Control)_oC': 191.7499798352411, 'Benzene Column C660 Operation_Column Temp Profile_C660 Tray 6 (SD & Control)_oC': 86.77816998458161, 'Benzene Column C660 Operation_Column Temp Profile_C660 Tray 23 (Control)_oC': 91.03065669550224, 'Tatoray Stripper C620 Operation_Specifications_Spec 2 : Distillate Rate_m3/hr': 0.24795359232881362, 'Simulation Case Conditions_Spec 2 : NA in Benzene_ppmw': 979.2765407415749}. Best is trial 13 with value: 1.1298056299406138.\u001b[0m\n",
            "\u001b[32m[I 2021-04-26 14:36:05,755]\u001b[0m Trial 149 finished with value: 1.4353260114860602 and parameters: {'Tatoray Stripper C620 Operation_Column Temp Profile_C620 Tray 14 (Control)_oC': 176.10972002633824, 'Tatoray Stripper C620 Operation_Column Temp Profile_C620 Tray 34 (Control)_oC': 191.81421262713548, 'Benzene Column C660 Operation_Column Temp Profile_C660 Tray 6 (SD & Control)_oC': 86.78618807295238, 'Benzene Column C660 Operation_Column Temp Profile_C660 Tray 23 (Control)_oC': 90.79310356818718, 'Tatoray Stripper C620 Operation_Specifications_Spec 2 : Distillate Rate_m3/hr': 0.5065855906917447, 'Simulation Case Conditions_Spec 2 : NA in Benzene_ppmw': 978.935548103164}. Best is trial 13 with value: 1.1298056299406138.\u001b[0m\n",
            "\u001b[32m[I 2021-04-26 14:36:05,948]\u001b[0m Trial 150 finished with value: 1.4972963409496058 and parameters: {'Tatoray Stripper C620 Operation_Column Temp Profile_C620 Tray 14 (Control)_oC': 175.61892699521835, 'Tatoray Stripper C620 Operation_Column Temp Profile_C620 Tray 34 (Control)_oC': 192.16231104688435, 'Benzene Column C660 Operation_Column Temp Profile_C660 Tray 6 (SD & Control)_oC': 86.77321831423818, 'Benzene Column C660 Operation_Column Temp Profile_C660 Tray 23 (Control)_oC': 90.93980122974259, 'Tatoray Stripper C620 Operation_Specifications_Spec 2 : Distillate Rate_m3/hr': 0.18035153011415703, 'Simulation Case Conditions_Spec 2 : NA in Benzene_ppmw': 978.9656134727073}. Best is trial 13 with value: 1.1298056299406138.\u001b[0m\n",
            "\u001b[32m[I 2021-04-26 14:36:06,145]\u001b[0m Trial 151 finished with value: 1.1466140095986408 and parameters: {'Tatoray Stripper C620 Operation_Column Temp Profile_C620 Tray 14 (Control)_oC': 176.14113368412097, 'Tatoray Stripper C620 Operation_Column Temp Profile_C620 Tray 34 (Control)_oC': 192.01725420010186, 'Benzene Column C660 Operation_Column Temp Profile_C660 Tray 6 (SD & Control)_oC': 86.88303620539457, 'Benzene Column C660 Operation_Column Temp Profile_C660 Tray 23 (Control)_oC': 90.93465140986304, 'Tatoray Stripper C620 Operation_Specifications_Spec 2 : Distillate Rate_m3/hr': 0.2316981760133629, 'Simulation Case Conditions_Spec 2 : NA in Benzene_ppmw': 979.0806606029638}. Best is trial 13 with value: 1.1298056299406138.\u001b[0m\n",
            "\u001b[32m[I 2021-04-26 14:36:06,345]\u001b[0m Trial 152 finished with value: 1.2997069889633783 and parameters: {'Tatoray Stripper C620 Operation_Column Temp Profile_C620 Tray 14 (Control)_oC': 176.05632215915463, 'Tatoray Stripper C620 Operation_Column Temp Profile_C620 Tray 34 (Control)_oC': 191.72883242203994, 'Benzene Column C660 Operation_Column Temp Profile_C660 Tray 6 (SD & Control)_oC': 86.82796794711075, 'Benzene Column C660 Operation_Column Temp Profile_C660 Tray 23 (Control)_oC': 90.72033291500938, 'Tatoray Stripper C620 Operation_Specifications_Spec 2 : Distillate Rate_m3/hr': 0.28799090973932795, 'Simulation Case Conditions_Spec 2 : NA in Benzene_ppmw': 979.2889591933847}. Best is trial 13 with value: 1.1298056299406138.\u001b[0m\n",
            "\u001b[32m[I 2021-04-26 14:36:06,543]\u001b[0m Trial 153 finished with value: 1.248026979128327 and parameters: {'Tatoray Stripper C620 Operation_Column Temp Profile_C620 Tray 14 (Control)_oC': 176.09541474990874, 'Tatoray Stripper C620 Operation_Column Temp Profile_C620 Tray 34 (Control)_oC': 192.13367457180877, 'Benzene Column C660 Operation_Column Temp Profile_C660 Tray 6 (SD & Control)_oC': 86.83623168122791, 'Benzene Column C660 Operation_Column Temp Profile_C660 Tray 23 (Control)_oC': 90.52856772135318, 'Tatoray Stripper C620 Operation_Specifications_Spec 2 : Distillate Rate_m3/hr': 0.15960328593061715, 'Simulation Case Conditions_Spec 2 : NA in Benzene_ppmw': 979.1160158715708}. Best is trial 13 with value: 1.1298056299406138.\u001b[0m\n",
            "\u001b[32m[I 2021-04-26 14:36:06,738]\u001b[0m Trial 154 finished with value: 1.3720842666290376 and parameters: {'Tatoray Stripper C620 Operation_Column Temp Profile_C620 Tray 14 (Control)_oC': 175.81676764744068, 'Tatoray Stripper C620 Operation_Column Temp Profile_C620 Tray 34 (Control)_oC': 192.19850704873863, 'Benzene Column C660 Operation_Column Temp Profile_C660 Tray 6 (SD & Control)_oC': 86.94455042722188, 'Benzene Column C660 Operation_Column Temp Profile_C660 Tray 23 (Control)_oC': 90.79505978150732, 'Tatoray Stripper C620 Operation_Specifications_Spec 2 : Distillate Rate_m3/hr': 0.19302811196515154, 'Simulation Case Conditions_Spec 2 : NA in Benzene_ppmw': 979.0839373539261}. Best is trial 13 with value: 1.1298056299406138.\u001b[0m\n",
            "\u001b[32m[I 2021-04-26 14:36:06,955]\u001b[0m Trial 155 finished with value: 1.500561494552994 and parameters: {'Tatoray Stripper C620 Operation_Column Temp Profile_C620 Tray 14 (Control)_oC': 176.04376083745802, 'Tatoray Stripper C620 Operation_Column Temp Profile_C620 Tray 34 (Control)_oC': 192.29917049089826, 'Benzene Column C660 Operation_Column Temp Profile_C660 Tray 6 (SD & Control)_oC': 86.97369702074448, 'Benzene Column C660 Operation_Column Temp Profile_C660 Tray 23 (Control)_oC': 90.8685910759793, 'Tatoray Stripper C620 Operation_Specifications_Spec 2 : Distillate Rate_m3/hr': 0.32971215242817686, 'Simulation Case Conditions_Spec 2 : NA in Benzene_ppmw': 979.3131496991139}. Best is trial 13 with value: 1.1298056299406138.\u001b[0m\n",
            "\u001b[32m[I 2021-04-26 14:36:07,154]\u001b[0m Trial 156 finished with value: 1.4805709657211337 and parameters: {'Tatoray Stripper C620 Operation_Column Temp Profile_C620 Tray 14 (Control)_oC': 175.8373754150264, 'Tatoray Stripper C620 Operation_Column Temp Profile_C620 Tray 34 (Control)_oC': 192.17751691269405, 'Benzene Column C660 Operation_Column Temp Profile_C660 Tray 6 (SD & Control)_oC': 86.98210478320767, 'Benzene Column C660 Operation_Column Temp Profile_C660 Tray 23 (Control)_oC': 91.07044553599272, 'Tatoray Stripper C620 Operation_Specifications_Spec 2 : Distillate Rate_m3/hr': 0.1406227580441302, 'Simulation Case Conditions_Spec 2 : NA in Benzene_ppmw': 979.1868025779614}. Best is trial 13 with value: 1.1298056299406138.\u001b[0m\n",
            "\u001b[32m[I 2021-04-26 14:36:07,351]\u001b[0m Trial 157 finished with value: 1.2956145133880315 and parameters: {'Tatoray Stripper C620 Operation_Column Temp Profile_C620 Tray 14 (Control)_oC': 176.07637436300908, 'Tatoray Stripper C620 Operation_Column Temp Profile_C620 Tray 34 (Control)_oC': 191.68196479548752, 'Benzene Column C660 Operation_Column Temp Profile_C660 Tray 6 (SD & Control)_oC': 86.83782807363676, 'Benzene Column C660 Operation_Column Temp Profile_C660 Tray 23 (Control)_oC': 90.95728601620029, 'Tatoray Stripper C620 Operation_Specifications_Spec 2 : Distillate Rate_m3/hr': 0.5047792013629212, 'Simulation Case Conditions_Spec 2 : NA in Benzene_ppmw': 979.2955550088751}. Best is trial 13 with value: 1.1298056299406138.\u001b[0m\n",
            "\u001b[32m[I 2021-04-26 14:36:07,537]\u001b[0m Trial 158 finished with value: 1.1655167960742732 and parameters: {'Tatoray Stripper C620 Operation_Column Temp Profile_C620 Tray 14 (Control)_oC': 176.01511070293506, 'Tatoray Stripper C620 Operation_Column Temp Profile_C620 Tray 34 (Control)_oC': 192.138052307477, 'Benzene Column C660 Operation_Column Temp Profile_C660 Tray 6 (SD & Control)_oC': 86.89067257103629, 'Benzene Column C660 Operation_Column Temp Profile_C660 Tray 23 (Control)_oC': 90.76716721086216, 'Tatoray Stripper C620 Operation_Specifications_Spec 2 : Distillate Rate_m3/hr': 0.486695905689828, 'Simulation Case Conditions_Spec 2 : NA in Benzene_ppmw': 979.2530231321427}. Best is trial 13 with value: 1.1298056299406138.\u001b[0m\n",
            "\u001b[32m[I 2021-04-26 14:36:07,732]\u001b[0m Trial 159 finished with value: 1.1665778190770846 and parameters: {'Tatoray Stripper C620 Operation_Column Temp Profile_C620 Tray 14 (Control)_oC': 175.6100124344401, 'Tatoray Stripper C620 Operation_Column Temp Profile_C620 Tray 34 (Control)_oC': 191.9907353160404, 'Benzene Column C660 Operation_Column Temp Profile_C660 Tray 6 (SD & Control)_oC': 86.85943753208635, 'Benzene Column C660 Operation_Column Temp Profile_C660 Tray 23 (Control)_oC': 90.49327901644777, 'Tatoray Stripper C620 Operation_Specifications_Spec 2 : Distillate Rate_m3/hr': 0.17677060900259584, 'Simulation Case Conditions_Spec 2 : NA in Benzene_ppmw': 979.28637686127}. Best is trial 13 with value: 1.1298056299406138.\u001b[0m\n",
            "\u001b[32m[I 2021-04-26 14:36:07,929]\u001b[0m Trial 160 finished with value: 1.3341258927333228 and parameters: {'Tatoray Stripper C620 Operation_Column Temp Profile_C620 Tray 14 (Control)_oC': 175.94534880194954, 'Tatoray Stripper C620 Operation_Column Temp Profile_C620 Tray 34 (Control)_oC': 192.17044959892473, 'Benzene Column C660 Operation_Column Temp Profile_C660 Tray 6 (SD & Control)_oC': 86.82514100904355, 'Benzene Column C660 Operation_Column Temp Profile_C660 Tray 23 (Control)_oC': 90.91509797614601, 'Tatoray Stripper C620 Operation_Specifications_Spec 2 : Distillate Rate_m3/hr': 0.55122452080024, 'Simulation Case Conditions_Spec 2 : NA in Benzene_ppmw': 979.6424515101648}. Best is trial 13 with value: 1.1298056299406138.\u001b[0m\n",
            "\u001b[32m[I 2021-04-26 14:36:08,123]\u001b[0m Trial 161 finished with value: 1.22780759312556 and parameters: {'Tatoray Stripper C620 Operation_Column Temp Profile_C620 Tray 14 (Control)_oC': 176.08709164261214, 'Tatoray Stripper C620 Operation_Column Temp Profile_C620 Tray 34 (Control)_oC': 192.09483117794156, 'Benzene Column C660 Operation_Column Temp Profile_C660 Tray 6 (SD & Control)_oC': 86.85805116789695, 'Benzene Column C660 Operation_Column Temp Profile_C660 Tray 23 (Control)_oC': 90.89506073792967, 'Tatoray Stripper C620 Operation_Specifications_Spec 2 : Distillate Rate_m3/hr': 0.37150294187593763, 'Simulation Case Conditions_Spec 2 : NA in Benzene_ppmw': 978.841768036235}. Best is trial 13 with value: 1.1298056299406138.\u001b[0m\n",
            "\u001b[32m[I 2021-04-26 14:36:08,324]\u001b[0m Trial 162 finished with value: 1.1902686321871574 and parameters: {'Tatoray Stripper C620 Operation_Column Temp Profile_C620 Tray 14 (Control)_oC': 176.3520718095615, 'Tatoray Stripper C620 Operation_Column Temp Profile_C620 Tray 34 (Control)_oC': 192.06724297592314, 'Benzene Column C660 Operation_Column Temp Profile_C660 Tray 6 (SD & Control)_oC': 86.8926086538579, 'Benzene Column C660 Operation_Column Temp Profile_C660 Tray 23 (Control)_oC': 90.67085433160534, 'Tatoray Stripper C620 Operation_Specifications_Spec 2 : Distillate Rate_m3/hr': 0.01542076965222769, 'Simulation Case Conditions_Spec 2 : NA in Benzene_ppmw': 978.5947439158099}. Best is trial 13 with value: 1.1298056299406138.\u001b[0m\n",
            "\u001b[32m[I 2021-04-26 14:36:08,524]\u001b[0m Trial 163 finished with value: 1.2454019028466312 and parameters: {'Tatoray Stripper C620 Operation_Column Temp Profile_C620 Tray 14 (Control)_oC': 176.00609908370117, 'Tatoray Stripper C620 Operation_Column Temp Profile_C620 Tray 34 (Control)_oC': 192.16610380782285, 'Benzene Column C660 Operation_Column Temp Profile_C660 Tray 6 (SD & Control)_oC': 86.84939979023221, 'Benzene Column C660 Operation_Column Temp Profile_C660 Tray 23 (Control)_oC': 90.79797112017434, 'Tatoray Stripper C620 Operation_Specifications_Spec 2 : Distillate Rate_m3/hr': 0.12131620266595439, 'Simulation Case Conditions_Spec 2 : NA in Benzene_ppmw': 979.2048557209538}. Best is trial 13 with value: 1.1298056299406138.\u001b[0m\n",
            "\u001b[32m[I 2021-04-26 14:36:08,720]\u001b[0m Trial 164 finished with value: 1.1719451843740207 and parameters: {'Tatoray Stripper C620 Operation_Column Temp Profile_C620 Tray 14 (Control)_oC': 176.04912851202704, 'Tatoray Stripper C620 Operation_Column Temp Profile_C620 Tray 34 (Control)_oC': 192.21436372778717, 'Benzene Column C660 Operation_Column Temp Profile_C660 Tray 6 (SD & Control)_oC': 86.88875479650225, 'Benzene Column C660 Operation_Column Temp Profile_C660 Tray 23 (Control)_oC': 90.67986552542638, 'Tatoray Stripper C620 Operation_Specifications_Spec 2 : Distillate Rate_m3/hr': 0.008927097468567236, 'Simulation Case Conditions_Spec 2 : NA in Benzene_ppmw': 979.2276670233697}. Best is trial 13 with value: 1.1298056299406138.\u001b[0m\n",
            "\u001b[32m[I 2021-04-26 14:36:08,927]\u001b[0m Trial 165 finished with value: 1.1820741897391502 and parameters: {'Tatoray Stripper C620 Operation_Column Temp Profile_C620 Tray 14 (Control)_oC': 176.1589290872923, 'Tatoray Stripper C620 Operation_Column Temp Profile_C620 Tray 34 (Control)_oC': 192.17087211984685, 'Benzene Column C660 Operation_Column Temp Profile_C660 Tray 6 (SD & Control)_oC': 86.88013675201492, 'Benzene Column C660 Operation_Column Temp Profile_C660 Tray 23 (Control)_oC': 90.44222180086894, 'Tatoray Stripper C620 Operation_Specifications_Spec 2 : Distillate Rate_m3/hr': 0.2907826872678433, 'Simulation Case Conditions_Spec 2 : NA in Benzene_ppmw': 979.2122685339953}. Best is trial 13 with value: 1.1298056299406138.\u001b[0m\n",
            "\u001b[32m[I 2021-04-26 14:36:09,130]\u001b[0m Trial 166 finished with value: 1.4499578229063508 and parameters: {'Tatoray Stripper C620 Operation_Column Temp Profile_C620 Tray 14 (Control)_oC': 175.99399420510264, 'Tatoray Stripper C620 Operation_Column Temp Profile_C620 Tray 34 (Control)_oC': 192.06305143994032, 'Benzene Column C660 Operation_Column Temp Profile_C660 Tray 6 (SD & Control)_oC': 86.94148856610458, 'Benzene Column C660 Operation_Column Temp Profile_C660 Tray 23 (Control)_oC': 90.39603758528283, 'Tatoray Stripper C620 Operation_Specifications_Spec 2 : Distillate Rate_m3/hr': 0.36267073809418865, 'Simulation Case Conditions_Spec 2 : NA in Benzene_ppmw': 979.5352339756345}. Best is trial 13 with value: 1.1298056299406138.\u001b[0m\n",
            "\u001b[32m[I 2021-04-26 14:36:09,321]\u001b[0m Trial 167 finished with value: 1.427118531785929 and parameters: {'Tatoray Stripper C620 Operation_Column Temp Profile_C620 Tray 14 (Control)_oC': 176.1395108530239, 'Tatoray Stripper C620 Operation_Column Temp Profile_C620 Tray 34 (Control)_oC': 192.38036587866333, 'Benzene Column C660 Operation_Column Temp Profile_C660 Tray 6 (SD & Control)_oC': 86.78683493868215, 'Benzene Column C660 Operation_Column Temp Profile_C660 Tray 23 (Control)_oC': 90.66477825748659, 'Tatoray Stripper C620 Operation_Specifications_Spec 2 : Distillate Rate_m3/hr': 0.3216585363676247, 'Simulation Case Conditions_Spec 2 : NA in Benzene_ppmw': 978.7109664377238}. Best is trial 13 with value: 1.1298056299406138.\u001b[0m\n",
            "\u001b[32m[I 2021-04-26 14:36:09,516]\u001b[0m Trial 168 finished with value: 1.2840891966998453 and parameters: {'Tatoray Stripper C620 Operation_Column Temp Profile_C620 Tray 14 (Control)_oC': 175.92919004065735, 'Tatoray Stripper C620 Operation_Column Temp Profile_C620 Tray 34 (Control)_oC': 192.16969090141419, 'Benzene Column C660 Operation_Column Temp Profile_C660 Tray 6 (SD & Control)_oC': 86.92582706843521, 'Benzene Column C660 Operation_Column Temp Profile_C660 Tray 23 (Control)_oC': 90.84973896163399, 'Tatoray Stripper C620 Operation_Specifications_Spec 2 : Distillate Rate_m3/hr': 0.29536231693296305, 'Simulation Case Conditions_Spec 2 : NA in Benzene_ppmw': 979.0591311878048}. Best is trial 13 with value: 1.1298056299406138.\u001b[0m\n",
            "\u001b[32m[I 2021-04-26 14:36:09,706]\u001b[0m Trial 169 finished with value: 1.160252694086057 and parameters: {'Tatoray Stripper C620 Operation_Column Temp Profile_C620 Tray 14 (Control)_oC': 176.10971438539872, 'Tatoray Stripper C620 Operation_Column Temp Profile_C620 Tray 34 (Control)_oC': 191.81761241685254, 'Benzene Column C660 Operation_Column Temp Profile_C660 Tray 6 (SD & Control)_oC': 86.88804872963085, 'Benzene Column C660 Operation_Column Temp Profile_C660 Tray 23 (Control)_oC': 90.83133862638482, 'Tatoray Stripper C620 Operation_Specifications_Spec 2 : Distillate Rate_m3/hr': 0.29363431751356456, 'Simulation Case Conditions_Spec 2 : NA in Benzene_ppmw': 979.5374867795955}. Best is trial 13 with value: 1.1298056299406138.\u001b[0m\n",
            "\u001b[32m[I 2021-04-26 14:36:09,905]\u001b[0m Trial 170 finished with value: 1.3196289544701696 and parameters: {'Tatoray Stripper C620 Operation_Column Temp Profile_C620 Tray 14 (Control)_oC': 175.81608449076265, 'Tatoray Stripper C620 Operation_Column Temp Profile_C620 Tray 34 (Control)_oC': 192.02747778381183, 'Benzene Column C660 Operation_Column Temp Profile_C660 Tray 6 (SD & Control)_oC': 86.82816789384142, 'Benzene Column C660 Operation_Column Temp Profile_C660 Tray 23 (Control)_oC': 90.84148098477333, 'Tatoray Stripper C620 Operation_Specifications_Spec 2 : Distillate Rate_m3/hr': 0.5290754146722276, 'Simulation Case Conditions_Spec 2 : NA in Benzene_ppmw': 979.1868942276777}. Best is trial 13 with value: 1.1298056299406138.\u001b[0m\n",
            "\u001b[32m[I 2021-04-26 14:36:10,106]\u001b[0m Trial 171 finished with value: 1.208152864894546 and parameters: {'Tatoray Stripper C620 Operation_Column Temp Profile_C620 Tray 14 (Control)_oC': 176.09113367201465, 'Tatoray Stripper C620 Operation_Column Temp Profile_C620 Tray 34 (Control)_oC': 192.02744609017597, 'Benzene Column C660 Operation_Column Temp Profile_C660 Tray 6 (SD & Control)_oC': 86.8926425621712, 'Benzene Column C660 Operation_Column Temp Profile_C660 Tray 23 (Control)_oC': 90.59615377070598, 'Tatoray Stripper C620 Operation_Specifications_Spec 2 : Distillate Rate_m3/hr': 0.3364651379849157, 'Simulation Case Conditions_Spec 2 : NA in Benzene_ppmw': 979.2899597180833}. Best is trial 13 with value: 1.1298056299406138.\u001b[0m\n",
            "\u001b[32m[I 2021-04-26 14:36:10,305]\u001b[0m Trial 172 finished with value: 1.1769291009602378 and parameters: {'Tatoray Stripper C620 Operation_Column Temp Profile_C620 Tray 14 (Control)_oC': 175.98889115516175, 'Tatoray Stripper C620 Operation_Column Temp Profile_C620 Tray 34 (Control)_oC': 191.68976348302786, 'Benzene Column C660 Operation_Column Temp Profile_C660 Tray 6 (SD & Control)_oC': 86.8435630397503, 'Benzene Column C660 Operation_Column Temp Profile_C660 Tray 23 (Control)_oC': 90.26000149175233, 'Tatoray Stripper C620 Operation_Specifications_Spec 2 : Distillate Rate_m3/hr': 0.0819824083659767, 'Simulation Case Conditions_Spec 2 : NA in Benzene_ppmw': 979.0716550550522}. Best is trial 13 with value: 1.1298056299406138.\u001b[0m\n",
            "\u001b[32m[I 2021-04-26 14:36:10,495]\u001b[0m Trial 173 finished with value: 1.1384252097186487 and parameters: {'Tatoray Stripper C620 Operation_Column Temp Profile_C620 Tray 14 (Control)_oC': 175.96624452675508, 'Tatoray Stripper C620 Operation_Column Temp Profile_C620 Tray 34 (Control)_oC': 192.10546231155055, 'Benzene Column C660 Operation_Column Temp Profile_C660 Tray 6 (SD & Control)_oC': 86.86303614779621, 'Benzene Column C660 Operation_Column Temp Profile_C660 Tray 23 (Control)_oC': 90.4217575835306, 'Tatoray Stripper C620 Operation_Specifications_Spec 2 : Distillate Rate_m3/hr': 0.03967492509913856, 'Simulation Case Conditions_Spec 2 : NA in Benzene_ppmw': 979.1950122677147}. Best is trial 13 with value: 1.1298056299406138.\u001b[0m\n",
            "\u001b[32m[I 2021-04-26 14:36:10,702]\u001b[0m Trial 174 finished with value: 1.339239569206822 and parameters: {'Tatoray Stripper C620 Operation_Column Temp Profile_C620 Tray 14 (Control)_oC': 176.5511917017698, 'Tatoray Stripper C620 Operation_Column Temp Profile_C620 Tray 34 (Control)_oC': 192.0087537060518, 'Benzene Column C660 Operation_Column Temp Profile_C660 Tray 6 (SD & Control)_oC': 86.93222978043048, 'Benzene Column C660 Operation_Column Temp Profile_C660 Tray 23 (Control)_oC': 90.78500772960112, 'Tatoray Stripper C620 Operation_Specifications_Spec 2 : Distillate Rate_m3/hr': 0.1287074557761169, 'Simulation Case Conditions_Spec 2 : NA in Benzene_ppmw': 979.475542440429}. Best is trial 13 with value: 1.1298056299406138.\u001b[0m\n",
            "\u001b[32m[I 2021-04-26 14:36:10,901]\u001b[0m Trial 175 finished with value: 1.1939322127421936 and parameters: {'Tatoray Stripper C620 Operation_Column Temp Profile_C620 Tray 14 (Control)_oC': 175.69637226360916, 'Tatoray Stripper C620 Operation_Column Temp Profile_C620 Tray 34 (Control)_oC': 191.96486889799127, 'Benzene Column C660 Operation_Column Temp Profile_C660 Tray 6 (SD & Control)_oC': 86.87910135034376, 'Benzene Column C660 Operation_Column Temp Profile_C660 Tray 23 (Control)_oC': 91.07939209133174, 'Tatoray Stripper C620 Operation_Specifications_Spec 2 : Distillate Rate_m3/hr': 0.03637095534076751, 'Simulation Case Conditions_Spec 2 : NA in Benzene_ppmw': 979.7328756058887}. Best is trial 13 with value: 1.1298056299406138.\u001b[0m\n",
            "\u001b[32m[I 2021-04-26 14:36:11,097]\u001b[0m Trial 176 finished with value: 1.408525346218516 and parameters: {'Tatoray Stripper C620 Operation_Column Temp Profile_C620 Tray 14 (Control)_oC': 175.97499743983016, 'Tatoray Stripper C620 Operation_Column Temp Profile_C620 Tray 34 (Control)_oC': 191.94489560185738, 'Benzene Column C660 Operation_Column Temp Profile_C660 Tray 6 (SD & Control)_oC': 86.93782601400719, 'Benzene Column C660 Operation_Column Temp Profile_C660 Tray 23 (Control)_oC': 90.54035670709168, 'Tatoray Stripper C620 Operation_Specifications_Spec 2 : Distillate Rate_m3/hr': 0.2506850351747358, 'Simulation Case Conditions_Spec 2 : NA in Benzene_ppmw': 979.6509379717951}. Best is trial 13 with value: 1.1298056299406138.\u001b[0m\n",
            "\u001b[32m[I 2021-04-26 14:36:11,301]\u001b[0m Trial 177 finished with value: 1.2882919568495437 and parameters: {'Tatoray Stripper C620 Operation_Column Temp Profile_C620 Tray 14 (Control)_oC': 175.89606194683356, 'Tatoray Stripper C620 Operation_Column Temp Profile_C620 Tray 34 (Control)_oC': 192.13366051650746, 'Benzene Column C660 Operation_Column Temp Profile_C660 Tray 6 (SD & Control)_oC': 86.92736868524594, 'Benzene Column C660 Operation_Column Temp Profile_C660 Tray 23 (Control)_oC': 90.85820775199275, 'Tatoray Stripper C620 Operation_Specifications_Spec 2 : Distillate Rate_m3/hr': 0.02994164960625631, 'Simulation Case Conditions_Spec 2 : NA in Benzene_ppmw': 979.2995236475845}. Best is trial 13 with value: 1.1298056299406138.\u001b[0m\n",
            "\u001b[32m[I 2021-04-26 14:36:11,494]\u001b[0m Trial 178 finished with value: 1.341530790023134 and parameters: {'Tatoray Stripper C620 Operation_Column Temp Profile_C620 Tray 14 (Control)_oC': 175.81123013300692, 'Tatoray Stripper C620 Operation_Column Temp Profile_C620 Tray 34 (Control)_oC': 191.95784768487687, 'Benzene Column C660 Operation_Column Temp Profile_C660 Tray 6 (SD & Control)_oC': 86.9343988661554, 'Benzene Column C660 Operation_Column Temp Profile_C660 Tray 23 (Control)_oC': 90.78011094582641, 'Tatoray Stripper C620 Operation_Specifications_Spec 2 : Distillate Rate_m3/hr': 0.2555732278975646, 'Simulation Case Conditions_Spec 2 : NA in Benzene_ppmw': 979.4384123398612}. Best is trial 13 with value: 1.1298056299406138.\u001b[0m\n",
            "\u001b[32m[I 2021-04-26 14:36:11,696]\u001b[0m Trial 179 finished with value: 1.138966038919216 and parameters: {'Tatoray Stripper C620 Operation_Column Temp Profile_C620 Tray 14 (Control)_oC': 176.3595902314419, 'Tatoray Stripper C620 Operation_Column Temp Profile_C620 Tray 34 (Control)_oC': 191.7203786233182, 'Benzene Column C660 Operation_Column Temp Profile_C660 Tray 6 (SD & Control)_oC': 86.86412333509946, 'Benzene Column C660 Operation_Column Temp Profile_C660 Tray 23 (Control)_oC': 90.47714898154288, 'Tatoray Stripper C620 Operation_Specifications_Spec 2 : Distillate Rate_m3/hr': 0.12288412331800237, 'Simulation Case Conditions_Spec 2 : NA in Benzene_ppmw': 979.098659078902}. Best is trial 13 with value: 1.1298056299406138.\u001b[0m\n",
            "\u001b[32m[I 2021-04-26 14:36:11,889]\u001b[0m Trial 180 finished with value: 1.215478931180974 and parameters: {'Tatoray Stripper C620 Operation_Column Temp Profile_C620 Tray 14 (Control)_oC': 176.13180172735673, 'Tatoray Stripper C620 Operation_Column Temp Profile_C620 Tray 34 (Control)_oC': 192.13862355095011, 'Benzene Column C660 Operation_Column Temp Profile_C660 Tray 6 (SD & Control)_oC': 86.85991293373428, 'Benzene Column C660 Operation_Column Temp Profile_C660 Tray 23 (Control)_oC': 90.87888258332315, 'Tatoray Stripper C620 Operation_Specifications_Spec 2 : Distillate Rate_m3/hr': 0.4106349023029129, 'Simulation Case Conditions_Spec 2 : NA in Benzene_ppmw': 979.1015775068614}. Best is trial 13 with value: 1.1298056299406138.\u001b[0m\n",
            "\u001b[32m[I 2021-04-26 14:36:12,106]\u001b[0m Trial 181 finished with value: 1.4596287008041173 and parameters: {'Tatoray Stripper C620 Operation_Column Temp Profile_C620 Tray 14 (Control)_oC': 176.27719071487704, 'Tatoray Stripper C620 Operation_Column Temp Profile_C620 Tray 34 (Control)_oC': 191.75213057801818, 'Benzene Column C660 Operation_Column Temp Profile_C660 Tray 6 (SD & Control)_oC': 86.76634549887487, 'Benzene Column C660 Operation_Column Temp Profile_C660 Tray 23 (Control)_oC': 90.52862336099855, 'Tatoray Stripper C620 Operation_Specifications_Spec 2 : Distillate Rate_m3/hr': 0.19909729147591226, 'Simulation Case Conditions_Spec 2 : NA in Benzene_ppmw': 979.3219077067346}. Best is trial 13 with value: 1.1298056299406138.\u001b[0m\n",
            "\u001b[32m[I 2021-04-26 14:36:12,414]\u001b[0m Trial 182 finished with value: 1.3169531703773238 and parameters: {'Tatoray Stripper C620 Operation_Column Temp Profile_C620 Tray 14 (Control)_oC': 175.79843356284667, 'Tatoray Stripper C620 Operation_Column Temp Profile_C620 Tray 34 (Control)_oC': 191.65761381636634, 'Benzene Column C660 Operation_Column Temp Profile_C660 Tray 6 (SD & Control)_oC': 86.83119984744803, 'Benzene Column C660 Operation_Column Temp Profile_C660 Tray 23 (Control)_oC': 90.85621999622171, 'Tatoray Stripper C620 Operation_Specifications_Spec 2 : Distillate Rate_m3/hr': 0.010156113170336448, 'Simulation Case Conditions_Spec 2 : NA in Benzene_ppmw': 979.2295256320438}. Best is trial 13 with value: 1.1298056299406138.\u001b[0m\n",
            "\u001b[32m[I 2021-04-26 14:36:12,607]\u001b[0m Trial 183 finished with value: 1.1713519214775248 and parameters: {'Tatoray Stripper C620 Operation_Column Temp Profile_C620 Tray 14 (Control)_oC': 176.20721423698615, 'Tatoray Stripper C620 Operation_Column Temp Profile_C620 Tray 34 (Control)_oC': 192.53627128925243, 'Benzene Column C660 Operation_Column Temp Profile_C660 Tray 6 (SD & Control)_oC': 86.86465898548418, 'Benzene Column C660 Operation_Column Temp Profile_C660 Tray 23 (Control)_oC': 90.45380024796273, 'Tatoray Stripper C620 Operation_Specifications_Spec 2 : Distillate Rate_m3/hr': 0.24107247139387147, 'Simulation Case Conditions_Spec 2 : NA in Benzene_ppmw': 978.9661772567383}. Best is trial 13 with value: 1.1298056299406138.\u001b[0m\n",
            "\u001b[32m[I 2021-04-26 14:36:12,796]\u001b[0m Trial 184 finished with value: 1.484103340276079 and parameters: {'Tatoray Stripper C620 Operation_Column Temp Profile_C620 Tray 14 (Control)_oC': 176.17407881346065, 'Tatoray Stripper C620 Operation_Column Temp Profile_C620 Tray 34 (Control)_oC': 192.00228491008266, 'Benzene Column C660 Operation_Column Temp Profile_C660 Tray 6 (SD & Control)_oC': 86.9485762051455, 'Benzene Column C660 Operation_Column Temp Profile_C660 Tray 23 (Control)_oC': 90.39972732279546, 'Tatoray Stripper C620 Operation_Specifications_Spec 2 : Distillate Rate_m3/hr': 0.31589086902273666, 'Simulation Case Conditions_Spec 2 : NA in Benzene_ppmw': 979.1152534010891}. Best is trial 13 with value: 1.1298056299406138.\u001b[0m\n",
            "\u001b[32m[I 2021-04-26 14:36:13,000]\u001b[0m Trial 185 finished with value: 1.3602900293018807 and parameters: {'Tatoray Stripper C620 Operation_Column Temp Profile_C620 Tray 14 (Control)_oC': 176.0154784000912, 'Tatoray Stripper C620 Operation_Column Temp Profile_C620 Tray 34 (Control)_oC': 192.30964354266203, 'Benzene Column C660 Operation_Column Temp Profile_C660 Tray 6 (SD & Control)_oC': 86.80190554106393, 'Benzene Column C660 Operation_Column Temp Profile_C660 Tray 23 (Control)_oC': 90.51424016583633, 'Tatoray Stripper C620 Operation_Specifications_Spec 2 : Distillate Rate_m3/hr': 0.24764412277392622, 'Simulation Case Conditions_Spec 2 : NA in Benzene_ppmw': 979.1337687306133}. Best is trial 13 with value: 1.1298056299406138.\u001b[0m\n",
            "\u001b[32m[I 2021-04-26 14:36:13,185]\u001b[0m Trial 186 finished with value: 1.2718156709900936 and parameters: {'Tatoray Stripper C620 Operation_Column Temp Profile_C620 Tray 14 (Control)_oC': 176.2103716622679, 'Tatoray Stripper C620 Operation_Column Temp Profile_C620 Tray 34 (Control)_oC': 192.0698885674884, 'Benzene Column C660 Operation_Column Temp Profile_C660 Tray 6 (SD & Control)_oC': 86.90832145918003, 'Benzene Column C660 Operation_Column Temp Profile_C660 Tray 23 (Control)_oC': 90.60059025698102, 'Tatoray Stripper C620 Operation_Specifications_Spec 2 : Distillate Rate_m3/hr': 0.6026613074325802, 'Simulation Case Conditions_Spec 2 : NA in Benzene_ppmw': 979.2294078067603}. Best is trial 13 with value: 1.1298056299406138.\u001b[0m\n",
            "\u001b[32m[I 2021-04-26 14:36:13,381]\u001b[0m Trial 187 finished with value: 1.250642761908629 and parameters: {'Tatoray Stripper C620 Operation_Column Temp Profile_C620 Tray 14 (Control)_oC': 175.66082097145713, 'Tatoray Stripper C620 Operation_Column Temp Profile_C620 Tray 34 (Control)_oC': 191.9797237437863, 'Benzene Column C660 Operation_Column Temp Profile_C660 Tray 6 (SD & Control)_oC': 86.82856961488122, 'Benzene Column C660 Operation_Column Temp Profile_C660 Tray 23 (Control)_oC': 90.34312842608237, 'Tatoray Stripper C620 Operation_Specifications_Spec 2 : Distillate Rate_m3/hr': 0.26865474876010553, 'Simulation Case Conditions_Spec 2 : NA in Benzene_ppmw': 978.8765439194433}. Best is trial 13 with value: 1.1298056299406138.\u001b[0m\n",
            "\u001b[32m[I 2021-04-26 14:36:13,579]\u001b[0m Trial 188 finished with value: 1.4492482517418062 and parameters: {'Tatoray Stripper C620 Operation_Column Temp Profile_C620 Tray 14 (Control)_oC': 176.2291374061729, 'Tatoray Stripper C620 Operation_Column Temp Profile_C620 Tray 34 (Control)_oC': 191.90671464519204, 'Benzene Column C660 Operation_Column Temp Profile_C660 Tray 6 (SD & Control)_oC': 86.92707874131676, 'Benzene Column C660 Operation_Column Temp Profile_C660 Tray 23 (Control)_oC': 90.11910531988984, 'Tatoray Stripper C620 Operation_Specifications_Spec 2 : Distillate Rate_m3/hr': 0.13078324885999176, 'Simulation Case Conditions_Spec 2 : NA in Benzene_ppmw': 978.8997347941656}. Best is trial 13 with value: 1.1298056299406138.\u001b[0m\n",
            "\u001b[32m[I 2021-04-26 14:36:13,769]\u001b[0m Trial 189 finished with value: 1.5471950890438708 and parameters: {'Tatoray Stripper C620 Operation_Column Temp Profile_C620 Tray 14 (Control)_oC': 176.0421422202915, 'Tatoray Stripper C620 Operation_Column Temp Profile_C620 Tray 34 (Control)_oC': 192.2662058246252, 'Benzene Column C660 Operation_Column Temp Profile_C660 Tray 6 (SD & Control)_oC': 86.73055683512588, 'Benzene Column C660 Operation_Column Temp Profile_C660 Tray 23 (Control)_oC': 90.44657850789706, 'Tatoray Stripper C620 Operation_Specifications_Spec 2 : Distillate Rate_m3/hr': 0.2139410369220563, 'Simulation Case Conditions_Spec 2 : NA in Benzene_ppmw': 979.0649447566088}. Best is trial 13 with value: 1.1298056299406138.\u001b[0m\n",
            "\u001b[32m[I 2021-04-26 14:36:13,976]\u001b[0m Trial 190 finished with value: 1.4195766125700588 and parameters: {'Tatoray Stripper C620 Operation_Column Temp Profile_C620 Tray 14 (Control)_oC': 175.96522695155988, 'Tatoray Stripper C620 Operation_Column Temp Profile_C620 Tray 34 (Control)_oC': 192.09971235313955, 'Benzene Column C660 Operation_Column Temp Profile_C660 Tray 6 (SD & Control)_oC': 86.93923108270492, 'Benzene Column C660 Operation_Column Temp Profile_C660 Tray 23 (Control)_oC': 90.45182409081572, 'Tatoray Stripper C620 Operation_Specifications_Spec 2 : Distillate Rate_m3/hr': 0.03742318431240793, 'Simulation Case Conditions_Spec 2 : NA in Benzene_ppmw': 978.8585183216182}. Best is trial 13 with value: 1.1298056299406138.\u001b[0m\n",
            "\u001b[32m[I 2021-04-26 14:36:14,174]\u001b[0m Trial 191 finished with value: 1.3003931412384866 and parameters: {'Tatoray Stripper C620 Operation_Column Temp Profile_C620 Tray 14 (Control)_oC': 176.1847237944408, 'Tatoray Stripper C620 Operation_Column Temp Profile_C620 Tray 34 (Control)_oC': 192.17881409770214, 'Benzene Column C660 Operation_Column Temp Profile_C660 Tray 6 (SD & Control)_oC': 86.81630165698176, 'Benzene Column C660 Operation_Column Temp Profile_C660 Tray 23 (Control)_oC': 90.48329249835561, 'Tatoray Stripper C620 Operation_Specifications_Spec 2 : Distillate Rate_m3/hr': 0.42472700436712374, 'Simulation Case Conditions_Spec 2 : NA in Benzene_ppmw': 978.8393622830955}. Best is trial 13 with value: 1.1298056299406138.\u001b[0m\n",
            "\u001b[32m[I 2021-04-26 14:36:14,382]\u001b[0m Trial 192 finished with value: 1.3023882872850319 and parameters: {'Tatoray Stripper C620 Operation_Column Temp Profile_C620 Tray 14 (Control)_oC': 176.28648585179224, 'Tatoray Stripper C620 Operation_Column Temp Profile_C620 Tray 34 (Control)_oC': 192.33597088245804, 'Benzene Column C660 Operation_Column Temp Profile_C660 Tray 6 (SD & Control)_oC': 86.8065692451758, 'Benzene Column C660 Operation_Column Temp Profile_C660 Tray 23 (Control)_oC': 90.21326806667909, 'Tatoray Stripper C620 Operation_Specifications_Spec 2 : Distillate Rate_m3/hr': 0.17719262893575494, 'Simulation Case Conditions_Spec 2 : NA in Benzene_ppmw': 978.8574554209251}. Best is trial 13 with value: 1.1298056299406138.\u001b[0m\n",
            "\u001b[32m[I 2021-04-26 14:36:14,582]\u001b[0m Trial 193 finished with value: 1.163179557037771 and parameters: {'Tatoray Stripper C620 Operation_Column Temp Profile_C620 Tray 14 (Control)_oC': 176.1521248702034, 'Tatoray Stripper C620 Operation_Column Temp Profile_C620 Tray 34 (Control)_oC': 192.3527939596277, 'Benzene Column C660 Operation_Column Temp Profile_C660 Tray 6 (SD & Control)_oC': 86.87122315804497, 'Benzene Column C660 Operation_Column Temp Profile_C660 Tray 23 (Control)_oC': 90.43825448855311, 'Tatoray Stripper C620 Operation_Specifications_Spec 2 : Distillate Rate_m3/hr': 0.24829592968709685, 'Simulation Case Conditions_Spec 2 : NA in Benzene_ppmw': 978.9247049393086}. Best is trial 13 with value: 1.1298056299406138.\u001b[0m\n",
            "\u001b[32m[I 2021-04-26 14:36:14,775]\u001b[0m Trial 194 finished with value: 1.2465226003443703 and parameters: {'Tatoray Stripper C620 Operation_Column Temp Profile_C620 Tray 14 (Control)_oC': 175.76643346488729, 'Tatoray Stripper C620 Operation_Column Temp Profile_C620 Tray 34 (Control)_oC': 192.56510691070244, 'Benzene Column C660 Operation_Column Temp Profile_C660 Tray 6 (SD & Control)_oC': 86.82725702018487, 'Benzene Column C660 Operation_Column Temp Profile_C660 Tray 23 (Control)_oC': 90.28780437135576, 'Tatoray Stripper C620 Operation_Specifications_Spec 2 : Distillate Rate_m3/hr': 0.36315266802515833, 'Simulation Case Conditions_Spec 2 : NA in Benzene_ppmw': 978.928486793103}. Best is trial 13 with value: 1.1298056299406138.\u001b[0m\n",
            "\u001b[32m[I 2021-04-26 14:36:14,968]\u001b[0m Trial 195 finished with value: 1.1717973452101562 and parameters: {'Tatoray Stripper C620 Operation_Column Temp Profile_C620 Tray 14 (Control)_oC': 176.12083309978053, 'Tatoray Stripper C620 Operation_Column Temp Profile_C620 Tray 34 (Control)_oC': 192.05403727858362, 'Benzene Column C660 Operation_Column Temp Profile_C660 Tray 6 (SD & Control)_oC': 86.86936813870052, 'Benzene Column C660 Operation_Column Temp Profile_C660 Tray 23 (Control)_oC': 90.29674402157946, 'Tatoray Stripper C620 Operation_Specifications_Spec 2 : Distillate Rate_m3/hr': 0.4876366071905076, 'Simulation Case Conditions_Spec 2 : NA in Benzene_ppmw': 978.9320387785684}. Best is trial 13 with value: 1.1298056299406138.\u001b[0m\n",
            "\u001b[32m[I 2021-04-26 14:36:15,162]\u001b[0m Trial 196 finished with value: 1.383885377073206 and parameters: {'Tatoray Stripper C620 Operation_Column Temp Profile_C620 Tray 14 (Control)_oC': 176.13832491821887, 'Tatoray Stripper C620 Operation_Column Temp Profile_C620 Tray 34 (Control)_oC': 192.04641240632967, 'Benzene Column C660 Operation_Column Temp Profile_C660 Tray 6 (SD & Control)_oC': 86.9299911682331, 'Benzene Column C660 Operation_Column Temp Profile_C660 Tray 23 (Control)_oC': 90.45707117844503, 'Tatoray Stripper C620 Operation_Specifications_Spec 2 : Distillate Rate_m3/hr': 0.07055113011241801, 'Simulation Case Conditions_Spec 2 : NA in Benzene_ppmw': 979.0079125915214}. Best is trial 13 with value: 1.1298056299406138.\u001b[0m\n",
            "\u001b[32m[I 2021-04-26 14:36:15,364]\u001b[0m Trial 197 finished with value: 1.2096431842238355 and parameters: {'Tatoray Stripper C620 Operation_Column Temp Profile_C620 Tray 14 (Control)_oC': 176.14115641743078, 'Tatoray Stripper C620 Operation_Column Temp Profile_C620 Tray 34 (Control)_oC': 192.45116158510075, 'Benzene Column C660 Operation_Column Temp Profile_C660 Tray 6 (SD & Control)_oC': 86.83391932227879, 'Benzene Column C660 Operation_Column Temp Profile_C660 Tray 23 (Control)_oC': 90.26070239737979, 'Tatoray Stripper C620 Operation_Specifications_Spec 2 : Distillate Rate_m3/hr': 0.6076512245005606, 'Simulation Case Conditions_Spec 2 : NA in Benzene_ppmw': 979.0285432651764}. Best is trial 13 with value: 1.1298056299406138.\u001b[0m\n",
            "\u001b[32m[I 2021-04-26 14:36:15,552]\u001b[0m Trial 198 finished with value: 1.154224018505998 and parameters: {'Tatoray Stripper C620 Operation_Column Temp Profile_C620 Tray 14 (Control)_oC': 175.70137778801057, 'Tatoray Stripper C620 Operation_Column Temp Profile_C620 Tray 34 (Control)_oC': 192.41843985846342, 'Benzene Column C660 Operation_Column Temp Profile_C660 Tray 6 (SD & Control)_oC': 86.84701319515254, 'Benzene Column C660 Operation_Column Temp Profile_C660 Tray 23 (Control)_oC': 90.18223268552208, 'Tatoray Stripper C620 Operation_Specifications_Spec 2 : Distillate Rate_m3/hr': 0.4421000278631549, 'Simulation Case Conditions_Spec 2 : NA in Benzene_ppmw': 978.9430767113114}. Best is trial 13 with value: 1.1298056299406138.\u001b[0m\n",
            "\u001b[32m[I 2021-04-26 14:36:15,753]\u001b[0m Trial 199 finished with value: 1.2532659056682232 and parameters: {'Tatoray Stripper C620 Operation_Column Temp Profile_C620 Tray 14 (Control)_oC': 176.12364623817666, 'Tatoray Stripper C620 Operation_Column Temp Profile_C620 Tray 34 (Control)_oC': 192.30214759065186, 'Benzene Column C660 Operation_Column Temp Profile_C660 Tray 6 (SD & Control)_oC': 86.89519968310707, 'Benzene Column C660 Operation_Column Temp Profile_C660 Tray 23 (Control)_oC': 90.41264266385377, 'Tatoray Stripper C620 Operation_Specifications_Spec 2 : Distillate Rate_m3/hr': 0.1438573215336898, 'Simulation Case Conditions_Spec 2 : NA in Benzene_ppmw': 978.7622233227639}. Best is trial 13 with value: 1.1298056299406138.\u001b[0m\n",
            "\u001b[32m[I 2021-04-26 14:36:15,955]\u001b[0m Trial 200 finished with value: 1.4397768625885643 and parameters: {'Tatoray Stripper C620 Operation_Column Temp Profile_C620 Tray 14 (Control)_oC': 176.13345267265126, 'Tatoray Stripper C620 Operation_Column Temp Profile_C620 Tray 34 (Control)_oC': 192.5143669415123, 'Benzene Column C660 Operation_Column Temp Profile_C660 Tray 6 (SD & Control)_oC': 86.91451278655249, 'Benzene Column C660 Operation_Column Temp Profile_C660 Tray 23 (Control)_oC': 90.06688718649514, 'Tatoray Stripper C620 Operation_Specifications_Spec 2 : Distillate Rate_m3/hr': 0.6884409050995625, 'Simulation Case Conditions_Spec 2 : NA in Benzene_ppmw': 978.6585982326824}. Best is trial 13 with value: 1.1298056299406138.\u001b[0m\n",
            "\u001b[32m[I 2021-04-26 14:36:16,156]\u001b[0m Trial 201 finished with value: 1.1899042546645646 and parameters: {'Tatoray Stripper C620 Operation_Column Temp Profile_C620 Tray 14 (Control)_oC': 176.28762815656063, 'Tatoray Stripper C620 Operation_Column Temp Profile_C620 Tray 34 (Control)_oC': 192.2648000577148, 'Benzene Column C660 Operation_Column Temp Profile_C660 Tray 6 (SD & Control)_oC': 86.84511214380078, 'Benzene Column C660 Operation_Column Temp Profile_C660 Tray 23 (Control)_oC': 90.3577407508178, 'Tatoray Stripper C620 Operation_Specifications_Spec 2 : Distillate Rate_m3/hr': 0.16381206101887905, 'Simulation Case Conditions_Spec 2 : NA in Benzene_ppmw': 978.671577461189}. Best is trial 13 with value: 1.1298056299406138.\u001b[0m\n",
            "\u001b[32m[I 2021-04-26 14:36:16,355]\u001b[0m Trial 202 finished with value: 1.1616779895811116 and parameters: {'Tatoray Stripper C620 Operation_Column Temp Profile_C620 Tray 14 (Control)_oC': 175.99172581507162, 'Tatoray Stripper C620 Operation_Column Temp Profile_C620 Tray 34 (Control)_oC': 192.1193930813172, 'Benzene Column C660 Operation_Column Temp Profile_C660 Tray 6 (SD & Control)_oC': 86.84360173995125, 'Benzene Column C660 Operation_Column Temp Profile_C660 Tray 23 (Control)_oC': 90.19261161052451, 'Tatoray Stripper C620 Operation_Specifications_Spec 2 : Distillate Rate_m3/hr': 0.4930765997077133, 'Simulation Case Conditions_Spec 2 : NA in Benzene_ppmw': 978.9631265946774}. Best is trial 13 with value: 1.1298056299406138.\u001b[0m\n",
            "\u001b[32m[I 2021-04-26 14:36:16,565]\u001b[0m Trial 203 finished with value: 1.3091716755328233 and parameters: {'Tatoray Stripper C620 Operation_Column Temp Profile_C620 Tray 14 (Control)_oC': 175.83070232863778, 'Tatoray Stripper C620 Operation_Column Temp Profile_C620 Tray 34 (Control)_oC': 192.38341891784228, 'Benzene Column C660 Operation_Column Temp Profile_C660 Tray 6 (SD & Control)_oC': 86.80370448811075, 'Benzene Column C660 Operation_Column Temp Profile_C660 Tray 23 (Control)_oC': 90.2160080157956, 'Tatoray Stripper C620 Operation_Specifications_Spec 2 : Distillate Rate_m3/hr': 0.5148441240751348, 'Simulation Case Conditions_Spec 2 : NA in Benzene_ppmw': 978.941247761303}. Best is trial 13 with value: 1.1298056299406138.\u001b[0m\n",
            "\u001b[32m[I 2021-04-26 14:36:16,772]\u001b[0m Trial 204 finished with value: 1.2599542678691535 and parameters: {'Tatoray Stripper C620 Operation_Column Temp Profile_C620 Tray 14 (Control)_oC': 176.10002335793914, 'Tatoray Stripper C620 Operation_Column Temp Profile_C620 Tray 34 (Control)_oC': 192.05362640262734, 'Benzene Column C660 Operation_Column Temp Profile_C660 Tray 6 (SD & Control)_oC': 86.82400621644207, 'Benzene Column C660 Operation_Column Temp Profile_C660 Tray 23 (Control)_oC': 90.33983507301726, 'Tatoray Stripper C620 Operation_Specifications_Spec 2 : Distillate Rate_m3/hr': 0.26297584085266634, 'Simulation Case Conditions_Spec 2 : NA in Benzene_ppmw': 979.1057994472353}. Best is trial 13 with value: 1.1298056299406138.\u001b[0m\n",
            "\u001b[32m[I 2021-04-26 14:36:16,979]\u001b[0m Trial 205 finished with value: 1.4212202057080505 and parameters: {'Tatoray Stripper C620 Operation_Column Temp Profile_C620 Tray 14 (Control)_oC': 176.096441325022, 'Tatoray Stripper C620 Operation_Column Temp Profile_C620 Tray 34 (Control)_oC': 192.1320415756518, 'Benzene Column C660 Operation_Column Temp Profile_C660 Tray 6 (SD & Control)_oC': 86.94472870263121, 'Benzene Column C660 Operation_Column Temp Profile_C660 Tray 23 (Control)_oC': 90.58234560777622, 'Tatoray Stripper C620 Operation_Specifications_Spec 2 : Distillate Rate_m3/hr': 0.3480817514914191, 'Simulation Case Conditions_Spec 2 : NA in Benzene_ppmw': 978.9352166023772}. Best is trial 13 with value: 1.1298056299406138.\u001b[0m\n",
            "\u001b[32m[I 2021-04-26 14:36:17,172]\u001b[0m Trial 206 finished with value: 1.1669103175841866 and parameters: {'Tatoray Stripper C620 Operation_Column Temp Profile_C620 Tray 14 (Control)_oC': 175.80594205754, 'Tatoray Stripper C620 Operation_Column Temp Profile_C620 Tray 34 (Control)_oC': 192.00001649387602, 'Benzene Column C660 Operation_Column Temp Profile_C660 Tray 6 (SD & Control)_oC': 86.85701531842139, 'Benzene Column C660 Operation_Column Temp Profile_C660 Tray 23 (Control)_oC': 90.48481054999856, 'Tatoray Stripper C620 Operation_Specifications_Spec 2 : Distillate Rate_m3/hr': 0.3886136769867994, 'Simulation Case Conditions_Spec 2 : NA in Benzene_ppmw': 979.274852256276}. Best is trial 13 with value: 1.1298056299406138.\u001b[0m\n",
            "\u001b[32m[I 2021-04-26 14:36:17,381]\u001b[0m Trial 207 finished with value: 1.145716998184679 and parameters: {'Tatoray Stripper C620 Operation_Column Temp Profile_C620 Tray 14 (Control)_oC': 176.2246478129575, 'Tatoray Stripper C620 Operation_Column Temp Profile_C620 Tray 34 (Control)_oC': 191.8607139849374, 'Benzene Column C660 Operation_Column Temp Profile_C660 Tray 6 (SD & Control)_oC': 86.86382611216608, 'Benzene Column C660 Operation_Column Temp Profile_C660 Tray 23 (Control)_oC': 90.53533955515594, 'Tatoray Stripper C620 Operation_Specifications_Spec 2 : Distillate Rate_m3/hr': 0.2963099878781533, 'Simulation Case Conditions_Spec 2 : NA in Benzene_ppmw': 978.9393574194669}. Best is trial 13 with value: 1.1298056299406138.\u001b[0m\n",
            "\u001b[32m[I 2021-04-26 14:36:17,576]\u001b[0m Trial 208 finished with value: 1.4909749488414743 and parameters: {'Tatoray Stripper C620 Operation_Column Temp Profile_C620 Tray 14 (Control)_oC': 176.12023822754202, 'Tatoray Stripper C620 Operation_Column Temp Profile_C620 Tray 34 (Control)_oC': 192.01591346185836, 'Benzene Column C660 Operation_Column Temp Profile_C660 Tray 6 (SD & Control)_oC': 86.7678418527591, 'Benzene Column C660 Operation_Column Temp Profile_C660 Tray 23 (Control)_oC': 90.7700172273693, 'Tatoray Stripper C620 Operation_Specifications_Spec 2 : Distillate Rate_m3/hr': 0.18414781752370413, 'Simulation Case Conditions_Spec 2 : NA in Benzene_ppmw': 978.719035230596}. Best is trial 13 with value: 1.1298056299406138.\u001b[0m\n",
            "\u001b[32m[I 2021-04-26 14:36:17,762]\u001b[0m Trial 209 finished with value: 1.3918522847036017 and parameters: {'Tatoray Stripper C620 Operation_Column Temp Profile_C620 Tray 14 (Control)_oC': 176.06041988703168, 'Tatoray Stripper C620 Operation_Column Temp Profile_C620 Tray 34 (Control)_oC': 191.75351933365462, 'Benzene Column C660 Operation_Column Temp Profile_C660 Tray 6 (SD & Control)_oC': 86.79185593171911, 'Benzene Column C660 Operation_Column Temp Profile_C660 Tray 23 (Control)_oC': 90.56579026021883, 'Tatoray Stripper C620 Operation_Specifications_Spec 2 : Distillate Rate_m3/hr': 0.3017867965415058, 'Simulation Case Conditions_Spec 2 : NA in Benzene_ppmw': 979.0894043982784}. Best is trial 13 with value: 1.1298056299406138.\u001b[0m\n",
            "\u001b[32m[I 2021-04-26 14:36:17,964]\u001b[0m Trial 210 finished with value: 1.3193902215351416 and parameters: {'Tatoray Stripper C620 Operation_Column Temp Profile_C620 Tray 14 (Control)_oC': 175.74493572356977, 'Tatoray Stripper C620 Operation_Column Temp Profile_C620 Tray 34 (Control)_oC': 192.26273715507074, 'Benzene Column C660 Operation_Column Temp Profile_C660 Tray 6 (SD & Control)_oC': 86.7924660089786, 'Benzene Column C660 Operation_Column Temp Profile_C660 Tray 23 (Control)_oC': 90.09804853634478, 'Tatoray Stripper C620 Operation_Specifications_Spec 2 : Distillate Rate_m3/hr': 0.7412768297308714, 'Simulation Case Conditions_Spec 2 : NA in Benzene_ppmw': 979.0013233082835}. Best is trial 13 with value: 1.1298056299406138.\u001b[0m\n",
            "\u001b[32m[I 2021-04-26 14:36:18,161]\u001b[0m Trial 211 finished with value: 1.2795269253407193 and parameters: {'Tatoray Stripper C620 Operation_Column Temp Profile_C620 Tray 14 (Control)_oC': 176.13727280624644, 'Tatoray Stripper C620 Operation_Column Temp Profile_C620 Tray 34 (Control)_oC': 191.74085110712178, 'Benzene Column C660 Operation_Column Temp Profile_C660 Tray 6 (SD & Control)_oC': 86.82061197567094, 'Benzene Column C660 Operation_Column Temp Profile_C660 Tray 23 (Control)_oC': 90.43111116914606, 'Tatoray Stripper C620 Operation_Specifications_Spec 2 : Distillate Rate_m3/hr': 0.2841369590672783, 'Simulation Case Conditions_Spec 2 : NA in Benzene_ppmw': 979.3151206478879}. Best is trial 13 with value: 1.1298056299406138.\u001b[0m\n",
            "\u001b[32m[I 2021-04-26 14:36:18,354]\u001b[0m Trial 212 finished with value: 1.2304690572288053 and parameters: {'Tatoray Stripper C620 Operation_Column Temp Profile_C620 Tray 14 (Control)_oC': 176.0750102318162, 'Tatoray Stripper C620 Operation_Column Temp Profile_C620 Tray 34 (Control)_oC': 191.75479735040207, 'Benzene Column C660 Operation_Column Temp Profile_C660 Tray 6 (SD & Control)_oC': 86.84309159443187, 'Benzene Column C660 Operation_Column Temp Profile_C660 Tray 23 (Control)_oC': 90.65217661865118, 'Tatoray Stripper C620 Operation_Specifications_Spec 2 : Distillate Rate_m3/hr': 0.6072390860452709, 'Simulation Case Conditions_Spec 2 : NA in Benzene_ppmw': 979.2470335447448}. Best is trial 13 with value: 1.1298056299406138.\u001b[0m\n",
            "\u001b[32m[I 2021-04-26 14:36:18,565]\u001b[0m Trial 213 finished with value: 1.1810267219099222 and parameters: {'Tatoray Stripper C620 Operation_Column Temp Profile_C620 Tray 14 (Control)_oC': 175.89023834153693, 'Tatoray Stripper C620 Operation_Column Temp Profile_C620 Tray 34 (Control)_oC': 192.2649811664091, 'Benzene Column C660 Operation_Column Temp Profile_C660 Tray 6 (SD & Control)_oC': 86.88435546283644, 'Benzene Column C660 Operation_Column Temp Profile_C660 Tray 23 (Control)_oC': 90.55805663377832, 'Tatoray Stripper C620 Operation_Specifications_Spec 2 : Distillate Rate_m3/hr': 0.4976210027957071, 'Simulation Case Conditions_Spec 2 : NA in Benzene_ppmw': 979.3246237175609}. Best is trial 13 with value: 1.1298056299406138.\u001b[0m\n",
            "\u001b[32m[I 2021-04-26 14:36:18,755]\u001b[0m Trial 214 finished with value: 1.195359549868891 and parameters: {'Tatoray Stripper C620 Operation_Column Temp Profile_C620 Tray 14 (Control)_oC': 176.41749418380473, 'Tatoray Stripper C620 Operation_Column Temp Profile_C620 Tray 34 (Control)_oC': 192.21571540737784, 'Benzene Column C660 Operation_Column Temp Profile_C660 Tray 6 (SD & Control)_oC': 86.87864992399908, 'Benzene Column C660 Operation_Column Temp Profile_C660 Tray 23 (Control)_oC': 90.36327242104171, 'Tatoray Stripper C620 Operation_Specifications_Spec 2 : Distillate Rate_m3/hr': 0.5622792139347399, 'Simulation Case Conditions_Spec 2 : NA in Benzene_ppmw': 978.6508183677364}. Best is trial 13 with value: 1.1298056299406138.\u001b[0m\n",
            "\u001b[32m[I 2021-04-26 14:36:18,950]\u001b[0m Trial 215 finished with value: 1.2035455930706407 and parameters: {'Tatoray Stripper C620 Operation_Column Temp Profile_C620 Tray 14 (Control)_oC': 175.77277550187392, 'Tatoray Stripper C620 Operation_Column Temp Profile_C620 Tray 34 (Control)_oC': 192.27746844642186, 'Benzene Column C660 Operation_Column Temp Profile_C660 Tray 6 (SD & Control)_oC': 86.85686326158282, 'Benzene Column C660 Operation_Column Temp Profile_C660 Tray 23 (Control)_oC': 90.69073933624901, 'Tatoray Stripper C620 Operation_Specifications_Spec 2 : Distillate Rate_m3/hr': 0.2734227709501864, 'Simulation Case Conditions_Spec 2 : NA in Benzene_ppmw': 979.1001979346386}. Best is trial 13 with value: 1.1298056299406138.\u001b[0m\n",
            "\u001b[32m[I 2021-04-26 14:36:19,152]\u001b[0m Trial 216 finished with value: 1.276542744431116 and parameters: {'Tatoray Stripper C620 Operation_Column Temp Profile_C620 Tray 14 (Control)_oC': 176.12032441529172, 'Tatoray Stripper C620 Operation_Column Temp Profile_C620 Tray 34 (Control)_oC': 191.92278910552318, 'Benzene Column C660 Operation_Column Temp Profile_C660 Tray 6 (SD & Control)_oC': 86.83785024640713, 'Benzene Column C660 Operation_Column Temp Profile_C660 Tray 23 (Control)_oC': 90.7939274317011, 'Tatoray Stripper C620 Operation_Specifications_Spec 2 : Distillate Rate_m3/hr': 0.49687780754888233, 'Simulation Case Conditions_Spec 2 : NA in Benzene_ppmw': 979.555362129665}. Best is trial 13 with value: 1.1298056299406138.\u001b[0m\n",
            "\u001b[32m[I 2021-04-26 14:36:19,347]\u001b[0m Trial 217 finished with value: 1.200451871376043 and parameters: {'Tatoray Stripper C620 Operation_Column Temp Profile_C620 Tray 14 (Control)_oC': 175.64800779863364, 'Tatoray Stripper C620 Operation_Column Temp Profile_C620 Tray 34 (Control)_oC': 192.52921417987486, 'Benzene Column C660 Operation_Column Temp Profile_C660 Tray 6 (SD & Control)_oC': 86.87612029554724, 'Benzene Column C660 Operation_Column Temp Profile_C660 Tray 23 (Control)_oC': 90.49101207628055, 'Tatoray Stripper C620 Operation_Specifications_Spec 2 : Distillate Rate_m3/hr': 0.37300727848698967, 'Simulation Case Conditions_Spec 2 : NA in Benzene_ppmw': 979.2607720464547}. Best is trial 13 with value: 1.1298056299406138.\u001b[0m\n",
            "\u001b[32m[I 2021-04-26 14:36:19,542]\u001b[0m Trial 218 finished with value: 1.2311863842981468 and parameters: {'Tatoray Stripper C620 Operation_Column Temp Profile_C620 Tray 14 (Control)_oC': 175.96598492455507, 'Tatoray Stripper C620 Operation_Column Temp Profile_C620 Tray 34 (Control)_oC': 192.4610377357648, 'Benzene Column C660 Operation_Column Temp Profile_C660 Tray 6 (SD & Control)_oC': 86.87845470226026, 'Benzene Column C660 Operation_Column Temp Profile_C660 Tray 23 (Control)_oC': 90.29560988498083, 'Tatoray Stripper C620 Operation_Specifications_Spec 2 : Distillate Rate_m3/hr': 0.2622914711135823, 'Simulation Case Conditions_Spec 2 : NA in Benzene_ppmw': 978.7128040951527}. Best is trial 13 with value: 1.1298056299406138.\u001b[0m\n",
            "\u001b[32m[I 2021-04-26 14:36:19,742]\u001b[0m Trial 219 finished with value: 1.2929960803522018 and parameters: {'Tatoray Stripper C620 Operation_Column Temp Profile_C620 Tray 14 (Control)_oC': 176.03206802008918, 'Tatoray Stripper C620 Operation_Column Temp Profile_C620 Tray 34 (Control)_oC': 192.24866690750875, 'Benzene Column C660 Operation_Column Temp Profile_C660 Tray 6 (SD & Control)_oC': 86.81704401946632, 'Benzene Column C660 Operation_Column Temp Profile_C660 Tray 23 (Control)_oC': 90.41939700195249, 'Tatoray Stripper C620 Operation_Specifications_Spec 2 : Distillate Rate_m3/hr': 0.4063117138144481, 'Simulation Case Conditions_Spec 2 : NA in Benzene_ppmw': 978.6824172097388}. Best is trial 13 with value: 1.1298056299406138.\u001b[0m\n",
            "\u001b[32m[I 2021-04-26 14:36:19,949]\u001b[0m Trial 220 finished with value: 1.3039726417458681 and parameters: {'Tatoray Stripper C620 Operation_Column Temp Profile_C620 Tray 14 (Control)_oC': 176.170609500236, 'Tatoray Stripper C620 Operation_Column Temp Profile_C620 Tray 34 (Control)_oC': 192.1732755111951, 'Benzene Column C660 Operation_Column Temp Profile_C660 Tray 6 (SD & Control)_oC': 86.90275276474235, 'Benzene Column C660 Operation_Column Temp Profile_C660 Tray 23 (Control)_oC': 90.27567236342767, 'Tatoray Stripper C620 Operation_Specifications_Spec 2 : Distillate Rate_m3/hr': 0.6175221931828703, 'Simulation Case Conditions_Spec 2 : NA in Benzene_ppmw': 978.6383777073019}. Best is trial 13 with value: 1.1298056299406138.\u001b[0m\n",
            "\u001b[32m[I 2021-04-26 14:36:20,152]\u001b[0m Trial 221 finished with value: 1.2947490927857774 and parameters: {'Tatoray Stripper C620 Operation_Column Temp Profile_C620 Tray 14 (Control)_oC': 176.37438655017775, 'Tatoray Stripper C620 Operation_Column Temp Profile_C620 Tray 34 (Control)_oC': 192.23485426954852, 'Benzene Column C660 Operation_Column Temp Profile_C660 Tray 6 (SD & Control)_oC': 86.9121932899394, 'Benzene Column C660 Operation_Column Temp Profile_C660 Tray 23 (Control)_oC': 90.56584222006126, 'Tatoray Stripper C620 Operation_Specifications_Spec 2 : Distillate Rate_m3/hr': 0.5511000939774475, 'Simulation Case Conditions_Spec 2 : NA in Benzene_ppmw': 979.2598976520248}. Best is trial 13 with value: 1.1298056299406138.\u001b[0m\n",
            "\u001b[32m[I 2021-04-26 14:36:20,353]\u001b[0m Trial 222 finished with value: 1.3775090488573771 and parameters: {'Tatoray Stripper C620 Operation_Column Temp Profile_C620 Tray 14 (Control)_oC': 176.07457713906862, 'Tatoray Stripper C620 Operation_Column Temp Profile_C620 Tray 34 (Control)_oC': 192.21034869634806, 'Benzene Column C660 Operation_Column Temp Profile_C660 Tray 6 (SD & Control)_oC': 86.79165527643582, 'Benzene Column C660 Operation_Column Temp Profile_C660 Tray 23 (Control)_oC': 90.47367764447158, 'Tatoray Stripper C620 Operation_Specifications_Spec 2 : Distillate Rate_m3/hr': 0.4220573484098603, 'Simulation Case Conditions_Spec 2 : NA in Benzene_ppmw': 979.2705366504294}. Best is trial 13 with value: 1.1298056299406138.\u001b[0m\n",
            "\u001b[32m[I 2021-04-26 14:36:20,549]\u001b[0m Trial 223 finished with value: 1.234344299524584 and parameters: {'Tatoray Stripper C620 Operation_Column Temp Profile_C620 Tray 14 (Control)_oC': 176.1293676206644, 'Tatoray Stripper C620 Operation_Column Temp Profile_C620 Tray 34 (Control)_oC': 192.157088347106, 'Benzene Column C660 Operation_Column Temp Profile_C660 Tray 6 (SD & Control)_oC': 86.84484562649902, 'Benzene Column C660 Operation_Column Temp Profile_C660 Tray 23 (Control)_oC': 90.69862375354361, 'Tatoray Stripper C620 Operation_Specifications_Spec 2 : Distillate Rate_m3/hr': 0.6266549898045884, 'Simulation Case Conditions_Spec 2 : NA in Benzene_ppmw': 979.0008960510675}. Best is trial 13 with value: 1.1298056299406138.\u001b[0m\n",
            "\u001b[32m[I 2021-04-26 14:36:20,754]\u001b[0m Trial 224 finished with value: 1.1839140284397354 and parameters: {'Tatoray Stripper C620 Operation_Column Temp Profile_C620 Tray 14 (Control)_oC': 175.82692705879018, 'Tatoray Stripper C620 Operation_Column Temp Profile_C620 Tray 34 (Control)_oC': 192.0781906097644, 'Benzene Column C660 Operation_Column Temp Profile_C660 Tray 6 (SD & Control)_oC': 86.86121069916261, 'Benzene Column C660 Operation_Column Temp Profile_C660 Tray 23 (Control)_oC': 90.716979966666, 'Tatoray Stripper C620 Operation_Specifications_Spec 2 : Distillate Rate_m3/hr': 0.6266123563960128, 'Simulation Case Conditions_Spec 2 : NA in Benzene_ppmw': 979.3331562696568}. Best is trial 13 with value: 1.1298056299406138.\u001b[0m\n",
            "\u001b[32m[I 2021-04-26 14:36:20,946]\u001b[0m Trial 225 finished with value: 1.1682837564298374 and parameters: {'Tatoray Stripper C620 Operation_Column Temp Profile_C620 Tray 14 (Control)_oC': 176.18896639124864, 'Tatoray Stripper C620 Operation_Column Temp Profile_C620 Tray 34 (Control)_oC': 192.22276487992386, 'Benzene Column C660 Operation_Column Temp Profile_C660 Tray 6 (SD & Control)_oC': 86.86795803424016, 'Benzene Column C660 Operation_Column Temp Profile_C660 Tray 23 (Control)_oC': 90.84348639574357, 'Tatoray Stripper C620 Operation_Specifications_Spec 2 : Distillate Rate_m3/hr': 0.860087230640689, 'Simulation Case Conditions_Spec 2 : NA in Benzene_ppmw': 979.2691257470273}. Best is trial 13 with value: 1.1298056299406138.\u001b[0m\n",
            "\u001b[32m[I 2021-04-26 14:36:21,168]\u001b[0m Trial 226 finished with value: 1.1510433999892473 and parameters: {'Tatoray Stripper C620 Operation_Column Temp Profile_C620 Tray 14 (Control)_oC': 176.1320079847291, 'Tatoray Stripper C620 Operation_Column Temp Profile_C620 Tray 34 (Control)_oC': 192.21743237084988, 'Benzene Column C660 Operation_Column Temp Profile_C660 Tray 6 (SD & Control)_oC': 86.87394944357033, 'Benzene Column C660 Operation_Column Temp Profile_C660 Tray 23 (Control)_oC': 90.49338300013585, 'Tatoray Stripper C620 Operation_Specifications_Spec 2 : Distillate Rate_m3/hr': 0.39426740955106293, 'Simulation Case Conditions_Spec 2 : NA in Benzene_ppmw': 979.0450972937969}. Best is trial 13 with value: 1.1298056299406138.\u001b[0m\n",
            "\u001b[32m[I 2021-04-26 14:36:21,367]\u001b[0m Trial 227 finished with value: 1.3103330443900403 and parameters: {'Tatoray Stripper C620 Operation_Column Temp Profile_C620 Tray 14 (Control)_oC': 176.3133662626295, 'Tatoray Stripper C620 Operation_Column Temp Profile_C620 Tray 34 (Control)_oC': 192.62097896901747, 'Benzene Column C660 Operation_Column Temp Profile_C660 Tray 6 (SD & Control)_oC': 86.83334225917697, 'Benzene Column C660 Operation_Column Temp Profile_C660 Tray 23 (Control)_oC': 90.8891194192833, 'Tatoray Stripper C620 Operation_Specifications_Spec 2 : Distillate Rate_m3/hr': 0.6971580776855504, 'Simulation Case Conditions_Spec 2 : NA in Benzene_ppmw': 979.2461963156866}. Best is trial 13 with value: 1.1298056299406138.\u001b[0m\n",
            "\u001b[32m[I 2021-04-26 14:36:21,567]\u001b[0m Trial 228 finished with value: 1.2147441714088802 and parameters: {'Tatoray Stripper C620 Operation_Column Temp Profile_C620 Tray 14 (Control)_oC': 176.4762107803528, 'Tatoray Stripper C620 Operation_Column Temp Profile_C620 Tray 34 (Control)_oC': 192.18179190256097, 'Benzene Column C660 Operation_Column Temp Profile_C660 Tray 6 (SD & Control)_oC': 86.90429733167622, 'Benzene Column C660 Operation_Column Temp Profile_C660 Tray 23 (Control)_oC': 90.81800263105508, 'Tatoray Stripper C620 Operation_Specifications_Spec 2 : Distillate Rate_m3/hr': 0.6185248955857672, 'Simulation Case Conditions_Spec 2 : NA in Benzene_ppmw': 979.3132665731101}. Best is trial 13 with value: 1.1298056299406138.\u001b[0m\n",
            "\u001b[32m[I 2021-04-26 14:36:21,769]\u001b[0m Trial 229 finished with value: 1.2397858284930052 and parameters: {'Tatoray Stripper C620 Operation_Column Temp Profile_C620 Tray 14 (Control)_oC': 175.922182173413, 'Tatoray Stripper C620 Operation_Column Temp Profile_C620 Tray 34 (Control)_oC': 191.88261175315213, 'Benzene Column C660 Operation_Column Temp Profile_C660 Tray 6 (SD & Control)_oC': 86.85944857655377, 'Benzene Column C660 Operation_Column Temp Profile_C660 Tray 23 (Control)_oC': 91.03843127661516, 'Tatoray Stripper C620 Operation_Specifications_Spec 2 : Distillate Rate_m3/hr': 0.6390396158865341, 'Simulation Case Conditions_Spec 2 : NA in Benzene_ppmw': 979.3673408152022}. Best is trial 13 with value: 1.1298056299406138.\u001b[0m\n",
            "\u001b[32m[I 2021-04-26 14:36:21,962]\u001b[0m Trial 230 finished with value: 1.3213462219375205 and parameters: {'Tatoray Stripper C620 Operation_Column Temp Profile_C620 Tray 14 (Control)_oC': 176.0587310602026, 'Tatoray Stripper C620 Operation_Column Temp Profile_C620 Tray 34 (Control)_oC': 191.79259600567613, 'Benzene Column C660 Operation_Column Temp Profile_C660 Tray 6 (SD & Control)_oC': 86.81795418622886, 'Benzene Column C660 Operation_Column Temp Profile_C660 Tray 23 (Control)_oC': 90.69633128234008, 'Tatoray Stripper C620 Operation_Specifications_Spec 2 : Distillate Rate_m3/hr': 0.6705236112458496, 'Simulation Case Conditions_Spec 2 : NA in Benzene_ppmw': 979.3684190181636}. Best is trial 13 with value: 1.1298056299406138.\u001b[0m\n",
            "\u001b[32m[I 2021-04-26 14:36:22,168]\u001b[0m Trial 231 finished with value: 1.3242139370843573 and parameters: {'Tatoray Stripper C620 Operation_Column Temp Profile_C620 Tray 14 (Control)_oC': 175.58077697589397, 'Tatoray Stripper C620 Operation_Column Temp Profile_C620 Tray 34 (Control)_oC': 192.19950096049575, 'Benzene Column C660 Operation_Column Temp Profile_C660 Tray 6 (SD & Control)_oC': 86.82045804066665, 'Benzene Column C660 Operation_Column Temp Profile_C660 Tray 23 (Control)_oC': 90.7356998431474, 'Tatoray Stripper C620 Operation_Specifications_Spec 2 : Distillate Rate_m3/hr': 0.604820589425895, 'Simulation Case Conditions_Spec 2 : NA in Benzene_ppmw': 979.5223240888744}. Best is trial 13 with value: 1.1298056299406138.\u001b[0m\n",
            "\u001b[32m[I 2021-04-26 14:36:22,489]\u001b[0m Trial 232 finished with value: 1.303394560299457 and parameters: {'Tatoray Stripper C620 Operation_Column Temp Profile_C620 Tray 14 (Control)_oC': 176.07850336492925, 'Tatoray Stripper C620 Operation_Column Temp Profile_C620 Tray 34 (Control)_oC': 192.14365336608847, 'Benzene Column C660 Operation_Column Temp Profile_C660 Tray 6 (SD & Control)_oC': 86.80376040184943, 'Benzene Column C660 Operation_Column Temp Profile_C660 Tray 23 (Control)_oC': 90.24506242793072, 'Tatoray Stripper C620 Operation_Specifications_Spec 2 : Distillate Rate_m3/hr': 0.6140766207189332, 'Simulation Case Conditions_Spec 2 : NA in Benzene_ppmw': 979.3102275185549}. Best is trial 13 with value: 1.1298056299406138.\u001b[0m\n",
            "\u001b[32m[I 2021-04-26 14:36:22,678]\u001b[0m Trial 233 finished with value: 1.2228707123817326 and parameters: {'Tatoray Stripper C620 Operation_Column Temp Profile_C620 Tray 14 (Control)_oC': 175.74941241399208, 'Tatoray Stripper C620 Operation_Column Temp Profile_C620 Tray 34 (Control)_oC': 192.3867212705643, 'Benzene Column C660 Operation_Column Temp Profile_C660 Tray 6 (SD & Control)_oC': 86.90254656343247, 'Benzene Column C660 Operation_Column Temp Profile_C660 Tray 23 (Control)_oC': 90.78482926949152, 'Tatoray Stripper C620 Operation_Specifications_Spec 2 : Distillate Rate_m3/hr': 0.7378278583690888, 'Simulation Case Conditions_Spec 2 : NA in Benzene_ppmw': 979.2961789042515}. Best is trial 13 with value: 1.1298056299406138.\u001b[0m\n",
            "\u001b[32m[I 2021-04-26 14:36:22,891]\u001b[0m Trial 234 finished with value: 1.1727017979548229 and parameters: {'Tatoray Stripper C620 Operation_Column Temp Profile_C620 Tray 14 (Control)_oC': 175.9667074900566, 'Tatoray Stripper C620 Operation_Column Temp Profile_C620 Tray 34 (Control)_oC': 192.10701665682004, 'Benzene Column C660 Operation_Column Temp Profile_C660 Tray 6 (SD & Control)_oC': 86.89875055544374, 'Benzene Column C660 Operation_Column Temp Profile_C660 Tray 23 (Control)_oC': 90.90681009233286, 'Tatoray Stripper C620 Operation_Specifications_Spec 2 : Distillate Rate_m3/hr': 0.530451527051657, 'Simulation Case Conditions_Spec 2 : NA in Benzene_ppmw': 979.3422844737985}. Best is trial 13 with value: 1.1298056299406138.\u001b[0m\n",
            "\u001b[32m[I 2021-04-26 14:36:23,092]\u001b[0m Trial 235 finished with value: 1.3101753675248355 and parameters: {'Tatoray Stripper C620 Operation_Column Temp Profile_C620 Tray 14 (Control)_oC': 176.21304505323153, 'Tatoray Stripper C620 Operation_Column Temp Profile_C620 Tray 34 (Control)_oC': 192.07135074083854, 'Benzene Column C660 Operation_Column Temp Profile_C660 Tray 6 (SD & Control)_oC': 86.92503275629994, 'Benzene Column C660 Operation_Column Temp Profile_C660 Tray 23 (Control)_oC': 90.75999099832939, 'Tatoray Stripper C620 Operation_Specifications_Spec 2 : Distillate Rate_m3/hr': 0.6060416672666105, 'Simulation Case Conditions_Spec 2 : NA in Benzene_ppmw': 979.3127602217776}. Best is trial 13 with value: 1.1298056299406138.\u001b[0m\n",
            "\u001b[32m[I 2021-04-26 14:36:23,286]\u001b[0m Trial 236 finished with value: 1.2622906356915586 and parameters: {'Tatoray Stripper C620 Operation_Column Temp Profile_C620 Tray 14 (Control)_oC': 176.25614755829062, 'Tatoray Stripper C620 Operation_Column Temp Profile_C620 Tray 34 (Control)_oC': 192.40688856576966, 'Benzene Column C660 Operation_Column Temp Profile_C660 Tray 6 (SD & Control)_oC': 86.90513021487152, 'Benzene Column C660 Operation_Column Temp Profile_C660 Tray 23 (Control)_oC': 90.6727980300089, 'Tatoray Stripper C620 Operation_Specifications_Spec 2 : Distillate Rate_m3/hr': 0.41458235224688655, 'Simulation Case Conditions_Spec 2 : NA in Benzene_ppmw': 979.056482260394}. Best is trial 13 with value: 1.1298056299406138.\u001b[0m\n",
            "\u001b[32m[I 2021-04-26 14:36:23,494]\u001b[0m Trial 237 finished with value: 1.2108448294377765 and parameters: {'Tatoray Stripper C620 Operation_Column Temp Profile_C620 Tray 14 (Control)_oC': 176.17132981628902, 'Tatoray Stripper C620 Operation_Column Temp Profile_C620 Tray 34 (Control)_oC': 191.75028296191203, 'Benzene Column C660 Operation_Column Temp Profile_C660 Tray 6 (SD & Control)_oC': 86.9034407436384, 'Benzene Column C660 Operation_Column Temp Profile_C660 Tray 23 (Control)_oC': 90.90894918885117, 'Tatoray Stripper C620 Operation_Specifications_Spec 2 : Distillate Rate_m3/hr': 0.5205167845100482, 'Simulation Case Conditions_Spec 2 : NA in Benzene_ppmw': 979.1981478809888}. Best is trial 13 with value: 1.1298056299406138.\u001b[0m\n",
            "\u001b[32m[I 2021-04-26 14:36:23,693]\u001b[0m Trial 238 finished with value: 1.4282302924334767 and parameters: {'Tatoray Stripper C620 Operation_Column Temp Profile_C620 Tray 14 (Control)_oC': 176.3487180303648, 'Tatoray Stripper C620 Operation_Column Temp Profile_C620 Tray 34 (Control)_oC': 192.12761172155035, 'Benzene Column C660 Operation_Column Temp Profile_C660 Tray 6 (SD & Control)_oC': 86.93937721987095, 'Benzene Column C660 Operation_Column Temp Profile_C660 Tray 23 (Control)_oC': 90.47725927005955, 'Tatoray Stripper C620 Operation_Specifications_Spec 2 : Distillate Rate_m3/hr': 0.62757058853032, 'Simulation Case Conditions_Spec 2 : NA in Benzene_ppmw': 979.249035291082}. Best is trial 13 with value: 1.1298056299406138.\u001b[0m\n",
            "\u001b[32m[I 2021-04-26 14:36:23,891]\u001b[0m Trial 239 finished with value: 1.1285943713174935 and parameters: {'Tatoray Stripper C620 Operation_Column Temp Profile_C620 Tray 14 (Control)_oC': 175.8806335735409, 'Tatoray Stripper C620 Operation_Column Temp Profile_C620 Tray 34 (Control)_oC': 191.9515128441647, 'Benzene Column C660 Operation_Column Temp Profile_C660 Tray 6 (SD & Control)_oC': 86.8850941671629, 'Benzene Column C660 Operation_Column Temp Profile_C660 Tray 23 (Control)_oC': 90.913408930771, 'Tatoray Stripper C620 Operation_Specifications_Spec 2 : Distillate Rate_m3/hr': 0.649788168873279, 'Simulation Case Conditions_Spec 2 : NA in Benzene_ppmw': 979.5966791119783}. Best is trial 239 with value: 1.1285943713174935.\u001b[0m\n",
            "\u001b[32m[I 2021-04-26 14:36:24,092]\u001b[0m Trial 240 finished with value: 1.4101264367575483 and parameters: {'Tatoray Stripper C620 Operation_Column Temp Profile_C620 Tray 14 (Control)_oC': 176.16967829814593, 'Tatoray Stripper C620 Operation_Column Temp Profile_C620 Tray 34 (Control)_oC': 191.79436573475934, 'Benzene Column C660 Operation_Column Temp Profile_C660 Tray 6 (SD & Control)_oC': 86.92699663921225, 'Benzene Column C660 Operation_Column Temp Profile_C660 Tray 23 (Control)_oC': 90.35067136665609, 'Tatoray Stripper C620 Operation_Specifications_Spec 2 : Distillate Rate_m3/hr': 0.2785053688089406, 'Simulation Case Conditions_Spec 2 : NA in Benzene_ppmw': 979.1810728091422}. Best is trial 239 with value: 1.1285943713174935.\u001b[0m\n",
            "\u001b[32m[I 2021-04-26 14:36:24,293]\u001b[0m Trial 241 finished with value: 1.1608870950730712 and parameters: {'Tatoray Stripper C620 Operation_Column Temp Profile_C620 Tray 14 (Control)_oC': 176.31383230024773, 'Tatoray Stripper C620 Operation_Column Temp Profile_C620 Tray 34 (Control)_oC': 191.93871465666402, 'Benzene Column C660 Operation_Column Temp Profile_C660 Tray 6 (SD & Control)_oC': 86.85650184592625, 'Benzene Column C660 Operation_Column Temp Profile_C660 Tray 23 (Control)_oC': 90.49323845612658, 'Tatoray Stripper C620 Operation_Specifications_Spec 2 : Distillate Rate_m3/hr': 0.4723675813521638, 'Simulation Case Conditions_Spec 2 : NA in Benzene_ppmw': 979.2576702640029}. Best is trial 239 with value: 1.1285943713174935.\u001b[0m\n",
            "\u001b[32m[I 2021-04-26 14:36:24,492]\u001b[0m Trial 242 finished with value: 1.1646863152077898 and parameters: {'Tatoray Stripper C620 Operation_Column Temp Profile_C620 Tray 14 (Control)_oC': 176.18439207608702, 'Tatoray Stripper C620 Operation_Column Temp Profile_C620 Tray 34 (Control)_oC': 192.2487394896913, 'Benzene Column C660 Operation_Column Temp Profile_C660 Tray 6 (SD & Control)_oC': 86.8595622364665, 'Benzene Column C660 Operation_Column Temp Profile_C660 Tray 23 (Control)_oC': 90.60498130369844, 'Tatoray Stripper C620 Operation_Specifications_Spec 2 : Distillate Rate_m3/hr': 0.7223005924460983, 'Simulation Case Conditions_Spec 2 : NA in Benzene_ppmw': 978.8729296843743}. Best is trial 239 with value: 1.1285943713174935.\u001b[0m\n",
            "\u001b[32m[I 2021-04-26 14:36:24,687]\u001b[0m Trial 243 finished with value: 1.2818664317662616 and parameters: {'Tatoray Stripper C620 Operation_Column Temp Profile_C620 Tray 14 (Control)_oC': 176.17974058387813, 'Tatoray Stripper C620 Operation_Column Temp Profile_C620 Tray 34 (Control)_oC': 192.3050217599773, 'Benzene Column C660 Operation_Column Temp Profile_C660 Tray 6 (SD & Control)_oC': 86.90559869710914, 'Benzene Column C660 Operation_Column Temp Profile_C660 Tray 23 (Control)_oC': 90.4974553989431, 'Tatoray Stripper C620 Operation_Specifications_Spec 2 : Distillate Rate_m3/hr': 0.43239419572045434, 'Simulation Case Conditions_Spec 2 : NA in Benzene_ppmw': 978.9110289961422}. Best is trial 239 with value: 1.1285943713174935.\u001b[0m\n",
            "\u001b[32m[I 2021-04-26 14:36:24,888]\u001b[0m Trial 244 finished with value: 1.319957154488583 and parameters: {'Tatoray Stripper C620 Operation_Column Temp Profile_C620 Tray 14 (Control)_oC': 175.85779173781992, 'Tatoray Stripper C620 Operation_Column Temp Profile_C620 Tray 34 (Control)_oC': 192.43180121846893, 'Benzene Column C660 Operation_Column Temp Profile_C660 Tray 6 (SD & Control)_oC': 86.9157858899544, 'Benzene Column C660 Operation_Column Temp Profile_C660 Tray 23 (Control)_oC': 90.59742388955024, 'Tatoray Stripper C620 Operation_Specifications_Spec 2 : Distillate Rate_m3/hr': 0.6313585220984733, 'Simulation Case Conditions_Spec 2 : NA in Benzene_ppmw': 979.2103718344481}. Best is trial 239 with value: 1.1285943713174935.\u001b[0m\n",
            "\u001b[32m[I 2021-04-26 14:36:25,084]\u001b[0m Trial 245 finished with value: 1.1646574120846784 and parameters: {'Tatoray Stripper C620 Operation_Column Temp Profile_C620 Tray 14 (Control)_oC': 176.5697436421919, 'Tatoray Stripper C620 Operation_Column Temp Profile_C620 Tray 34 (Control)_oC': 192.06130342317482, 'Benzene Column C660 Operation_Column Temp Profile_C660 Tray 6 (SD & Control)_oC': 86.87712399500887, 'Benzene Column C660 Operation_Column Temp Profile_C660 Tray 23 (Control)_oC': 90.55985479643817, 'Tatoray Stripper C620 Operation_Specifications_Spec 2 : Distillate Rate_m3/hr': 0.820387122327696, 'Simulation Case Conditions_Spec 2 : NA in Benzene_ppmw': 979.0843470017621}. Best is trial 239 with value: 1.1285943713174935.\u001b[0m\n",
            "\u001b[32m[I 2021-04-26 14:36:25,291]\u001b[0m Trial 246 finished with value: 1.288924637755245 and parameters: {'Tatoray Stripper C620 Operation_Column Temp Profile_C620 Tray 14 (Control)_oC': 175.98543152738029, 'Tatoray Stripper C620 Operation_Column Temp Profile_C620 Tray 34 (Control)_oC': 192.0131789043128, 'Benzene Column C660 Operation_Column Temp Profile_C660 Tray 6 (SD & Control)_oC': 86.82797699431687, 'Benzene Column C660 Operation_Column Temp Profile_C660 Tray 23 (Control)_oC': 90.63058722628291, 'Tatoray Stripper C620 Operation_Specifications_Spec 2 : Distillate Rate_m3/hr': 0.4296778619903995, 'Simulation Case Conditions_Spec 2 : NA in Benzene_ppmw': 979.2825786356456}. Best is trial 239 with value: 1.1285943713174935.\u001b[0m\n",
            "\u001b[32m[I 2021-04-26 14:36:25,508]\u001b[0m Trial 247 finished with value: 1.2871216682691715 and parameters: {'Tatoray Stripper C620 Operation_Column Temp Profile_C620 Tray 14 (Control)_oC': 176.20345626845358, 'Tatoray Stripper C620 Operation_Column Temp Profile_C620 Tray 34 (Control)_oC': 191.98014821908782, 'Benzene Column C660 Operation_Column Temp Profile_C660 Tray 6 (SD & Control)_oC': 86.82768012702384, 'Benzene Column C660 Operation_Column Temp Profile_C660 Tray 23 (Control)_oC': 90.65188591208575, 'Tatoray Stripper C620 Operation_Specifications_Spec 2 : Distillate Rate_m3/hr': 0.5774090050324878, 'Simulation Case Conditions_Spec 2 : NA in Benzene_ppmw': 979.2600809696603}. Best is trial 239 with value: 1.1285943713174935.\u001b[0m\n",
            "\u001b[32m[I 2021-04-26 14:36:25,704]\u001b[0m Trial 248 finished with value: 1.1874862577174172 and parameters: {'Tatoray Stripper C620 Operation_Column Temp Profile_C620 Tray 14 (Control)_oC': 176.35308836548364, 'Tatoray Stripper C620 Operation_Column Temp Profile_C620 Tray 34 (Control)_oC': 192.10628657158486, 'Benzene Column C660 Operation_Column Temp Profile_C660 Tray 6 (SD & Control)_oC': 86.90039230809448, 'Benzene Column C660 Operation_Column Temp Profile_C660 Tray 23 (Control)_oC': 90.88758531170663, 'Tatoray Stripper C620 Operation_Specifications_Spec 2 : Distillate Rate_m3/hr': 0.5910792377378675, 'Simulation Case Conditions_Spec 2 : NA in Benzene_ppmw': 979.1898409114332}. Best is trial 239 with value: 1.1285943713174935.\u001b[0m\n",
            "\u001b[32m[I 2021-04-26 14:36:25,905]\u001b[0m Trial 249 finished with value: 1.3309812917705357 and parameters: {'Tatoray Stripper C620 Operation_Column Temp Profile_C620 Tray 14 (Control)_oC': 176.08290636107864, 'Tatoray Stripper C620 Operation_Column Temp Profile_C620 Tray 34 (Control)_oC': 192.16874984936075, 'Benzene Column C660 Operation_Column Temp Profile_C660 Tray 6 (SD & Control)_oC': 86.82761687966867, 'Benzene Column C660 Operation_Column Temp Profile_C660 Tray 23 (Control)_oC': 90.97930667647037, 'Tatoray Stripper C620 Operation_Specifications_Spec 2 : Distillate Rate_m3/hr': 0.742623346653068, 'Simulation Case Conditions_Spec 2 : NA in Benzene_ppmw': 979.3211019358517}. Best is trial 239 with value: 1.1285943713174935.\u001b[0m\n",
            "\u001b[32m[I 2021-04-26 14:36:26,101]\u001b[0m Trial 250 finished with value: 1.1833307171764873 and parameters: {'Tatoray Stripper C620 Operation_Column Temp Profile_C620 Tray 14 (Control)_oC': 175.91524368110143, 'Tatoray Stripper C620 Operation_Column Temp Profile_C620 Tray 34 (Control)_oC': 192.09243407475006, 'Benzene Column C660 Operation_Column Temp Profile_C660 Tray 6 (SD & Control)_oC': 86.89388552208386, 'Benzene Column C660 Operation_Column Temp Profile_C660 Tray 23 (Control)_oC': 90.74039530048249, 'Tatoray Stripper C620 Operation_Specifications_Spec 2 : Distillate Rate_m3/hr': 0.5230565830372704, 'Simulation Case Conditions_Spec 2 : NA in Benzene_ppmw': 979.237848468018}. Best is trial 239 with value: 1.1285943713174935.\u001b[0m\n",
            "\u001b[32m[I 2021-04-26 14:36:26,298]\u001b[0m Trial 251 finished with value: 1.1489173015514387 and parameters: {'Tatoray Stripper C620 Operation_Column Temp Profile_C620 Tray 14 (Control)_oC': 176.14595798976197, 'Tatoray Stripper C620 Operation_Column Temp Profile_C620 Tray 34 (Control)_oC': 192.15979847793363, 'Benzene Column C660 Operation_Column Temp Profile_C660 Tray 6 (SD & Control)_oC': 86.88612251301745, 'Benzene Column C660 Operation_Column Temp Profile_C660 Tray 23 (Control)_oC': 90.79404598098489, 'Tatoray Stripper C620 Operation_Specifications_Spec 2 : Distillate Rate_m3/hr': 0.8314004373790957, 'Simulation Case Conditions_Spec 2 : NA in Benzene_ppmw': 979.5748770154146}. Best is trial 239 with value: 1.1285943713174935.\u001b[0m\n",
            "\u001b[32m[I 2021-04-26 14:36:26,504]\u001b[0m Trial 252 finished with value: 1.179582946390439 and parameters: {'Tatoray Stripper C620 Operation_Column Temp Profile_C620 Tray 14 (Control)_oC': 175.93590577076296, 'Tatoray Stripper C620 Operation_Column Temp Profile_C620 Tray 34 (Control)_oC': 191.8402381133769, 'Benzene Column C660 Operation_Column Temp Profile_C660 Tray 6 (SD & Control)_oC': 86.8934742778625, 'Benzene Column C660 Operation_Column Temp Profile_C660 Tray 23 (Control)_oC': 90.84788745929792, 'Tatoray Stripper C620 Operation_Specifications_Spec 2 : Distillate Rate_m3/hr': 0.6611349705362733, 'Simulation Case Conditions_Spec 2 : NA in Benzene_ppmw': 979.9710335217907}. Best is trial 239 with value: 1.1285943713174935.\u001b[0m\n",
            "\u001b[32m[I 2021-04-26 14:36:26,724]\u001b[0m Trial 253 finished with value: 1.5076698601767569 and parameters: {'Tatoray Stripper C620 Operation_Column Temp Profile_C620 Tray 14 (Control)_oC': 176.56135544791601, 'Tatoray Stripper C620 Operation_Column Temp Profile_C620 Tray 34 (Control)_oC': 191.9424820536709, 'Benzene Column C660 Operation_Column Temp Profile_C660 Tray 6 (SD & Control)_oC': 86.96430533938153, 'Benzene Column C660 Operation_Column Temp Profile_C660 Tray 23 (Control)_oC': 90.72560524058348, 'Tatoray Stripper C620 Operation_Specifications_Spec 2 : Distillate Rate_m3/hr': 0.8275518436348743, 'Simulation Case Conditions_Spec 2 : NA in Benzene_ppmw': 979.845870064148}. Best is trial 239 with value: 1.1285943713174935.\u001b[0m\n",
            "\u001b[32m[I 2021-04-26 14:36:26,923]\u001b[0m Trial 254 finished with value: 1.256279386724707 and parameters: {'Tatoray Stripper C620 Operation_Column Temp Profile_C620 Tray 14 (Control)_oC': 176.2562042526742, 'Tatoray Stripper C620 Operation_Column Temp Profile_C620 Tray 34 (Control)_oC': 192.106344915782, 'Benzene Column C660 Operation_Column Temp Profile_C660 Tray 6 (SD & Control)_oC': 86.92143893475642, 'Benzene Column C660 Operation_Column Temp Profile_C660 Tray 23 (Control)_oC': 90.9972735663838, 'Tatoray Stripper C620 Operation_Specifications_Spec 2 : Distillate Rate_m3/hr': 1.0099151295791475, 'Simulation Case Conditions_Spec 2 : NA in Benzene_ppmw': 979.8933357247031}. Best is trial 239 with value: 1.1285943713174935.\u001b[0m\n",
            "\u001b[32m[I 2021-04-26 14:36:27,122]\u001b[0m Trial 255 finished with value: 1.3166595723348815 and parameters: {'Tatoray Stripper C620 Operation_Column Temp Profile_C620 Tray 14 (Control)_oC': 175.89295738204257, 'Tatoray Stripper C620 Operation_Column Temp Profile_C620 Tray 34 (Control)_oC': 192.20276193714105, 'Benzene Column C660 Operation_Column Temp Profile_C660 Tray 6 (SD & Control)_oC': 86.84432677685402, 'Benzene Column C660 Operation_Column Temp Profile_C660 Tray 23 (Control)_oC': 91.26694365992807, 'Tatoray Stripper C620 Operation_Specifications_Spec 2 : Distillate Rate_m3/hr': 0.8696761655868608, 'Simulation Case Conditions_Spec 2 : NA in Benzene_ppmw': 979.8312973074668}. Best is trial 239 with value: 1.1285943713174935.\u001b[0m\n",
            "\u001b[32m[I 2021-04-26 14:36:27,329]\u001b[0m Trial 256 finished with value: 1.3231475739613703 and parameters: {'Tatoray Stripper C620 Operation_Column Temp Profile_C620 Tray 14 (Control)_oC': 176.17134459091352, 'Tatoray Stripper C620 Operation_Column Temp Profile_C620 Tray 34 (Control)_oC': 192.05917860714717, 'Benzene Column C660 Operation_Column Temp Profile_C660 Tray 6 (SD & Control)_oC': 86.92772571607898, 'Benzene Column C660 Operation_Column Temp Profile_C660 Tray 23 (Control)_oC': 90.76025478695198, 'Tatoray Stripper C620 Operation_Specifications_Spec 2 : Distillate Rate_m3/hr': 0.691233352821228, 'Simulation Case Conditions_Spec 2 : NA in Benzene_ppmw': 979.4990242565541}. Best is trial 239 with value: 1.1285943713174935.\u001b[0m\n",
            "\u001b[32m[I 2021-04-26 14:36:27,525]\u001b[0m Trial 257 finished with value: 1.1950217966104837 and parameters: {'Tatoray Stripper C620 Operation_Column Temp Profile_C620 Tray 14 (Control)_oC': 176.067042035095, 'Tatoray Stripper C620 Operation_Column Temp Profile_C620 Tray 34 (Control)_oC': 191.96152305020954, 'Benzene Column C660 Operation_Column Temp Profile_C660 Tray 6 (SD & Control)_oC': 86.86232138309673, 'Benzene Column C660 Operation_Column Temp Profile_C660 Tray 23 (Control)_oC': 90.86026776877883, 'Tatoray Stripper C620 Operation_Specifications_Spec 2 : Distillate Rate_m3/hr': 0.8365155199633348, 'Simulation Case Conditions_Spec 2 : NA in Benzene_ppmw': 979.5009874747557}. Best is trial 239 with value: 1.1285943713174935.\u001b[0m\n",
            "\u001b[32m[I 2021-04-26 14:36:27,730]\u001b[0m Trial 258 finished with value: 1.2124366651637823 and parameters: {'Tatoray Stripper C620 Operation_Column Temp Profile_C620 Tray 14 (Control)_oC': 176.32280783808065, 'Tatoray Stripper C620 Operation_Column Temp Profile_C620 Tray 34 (Control)_oC': 192.2882158841774, 'Benzene Column C660 Operation_Column Temp Profile_C660 Tray 6 (SD & Control)_oC': 86.89736518560392, 'Benzene Column C660 Operation_Column Temp Profile_C660 Tray 23 (Control)_oC': 90.71625271430959, 'Tatoray Stripper C620 Operation_Specifications_Spec 2 : Distillate Rate_m3/hr': 0.9485910637033437, 'Simulation Case Conditions_Spec 2 : NA in Benzene_ppmw': 979.2833363448218}. Best is trial 239 with value: 1.1285943713174935.\u001b[0m\n",
            "\u001b[32m[I 2021-04-26 14:36:27,924]\u001b[0m Trial 259 finished with value: 1.4136319105349422 and parameters: {'Tatoray Stripper C620 Operation_Column Temp Profile_C620 Tray 14 (Control)_oC': 176.30633664562578, 'Tatoray Stripper C620 Operation_Column Temp Profile_C620 Tray 34 (Control)_oC': 191.72108977150154, 'Benzene Column C660 Operation_Column Temp Profile_C660 Tray 6 (SD & Control)_oC': 86.92728824596068, 'Benzene Column C660 Operation_Column Temp Profile_C660 Tray 23 (Control)_oC': 90.41973514005063, 'Tatoray Stripper C620 Operation_Specifications_Spec 2 : Distillate Rate_m3/hr': 0.7238516726803988, 'Simulation Case Conditions_Spec 2 : NA in Benzene_ppmw': 979.7368572876579}. Best is trial 239 with value: 1.1285943713174935.\u001b[0m\n",
            "\u001b[32m[I 2021-04-26 14:36:28,118]\u001b[0m Trial 260 finished with value: 1.1785176820265812 and parameters: {'Tatoray Stripper C620 Operation_Column Temp Profile_C620 Tray 14 (Control)_oC': 176.31046573278311, 'Tatoray Stripper C620 Operation_Column Temp Profile_C620 Tray 34 (Control)_oC': 192.1029917153097, 'Benzene Column C660 Operation_Column Temp Profile_C660 Tray 6 (SD & Control)_oC': 86.88392765698568, 'Benzene Column C660 Operation_Column Temp Profile_C660 Tray 23 (Control)_oC': 90.60117504898388, 'Tatoray Stripper C620 Operation_Specifications_Spec 2 : Distillate Rate_m3/hr': 0.7253489696964479, 'Simulation Case Conditions_Spec 2 : NA in Benzene_ppmw': 979.5940239455571}. Best is trial 239 with value: 1.1285943713174935.\u001b[0m\n",
            "\u001b[32m[I 2021-04-26 14:36:28,319]\u001b[0m Trial 261 finished with value: 1.1295781046842364 and parameters: {'Tatoray Stripper C620 Operation_Column Temp Profile_C620 Tray 14 (Control)_oC': 176.22329422751338, 'Tatoray Stripper C620 Operation_Column Temp Profile_C620 Tray 34 (Control)_oC': 191.9679381851184, 'Benzene Column C660 Operation_Column Temp Profile_C660 Tray 6 (SD & Control)_oC': 86.87228672297285, 'Benzene Column C660 Operation_Column Temp Profile_C660 Tray 23 (Control)_oC': 90.66729713431795, 'Tatoray Stripper C620 Operation_Specifications_Spec 2 : Distillate Rate_m3/hr': 0.7980920078078989, 'Simulation Case Conditions_Spec 2 : NA in Benzene_ppmw': 979.6337521494931}. Best is trial 239 with value: 1.1285943713174935.\u001b[0m\n",
            "\u001b[32m[I 2021-04-26 14:36:28,509]\u001b[0m Trial 262 finished with value: 1.169330845845126 and parameters: {'Tatoray Stripper C620 Operation_Column Temp Profile_C620 Tray 14 (Control)_oC': 176.20244374715213, 'Tatoray Stripper C620 Operation_Column Temp Profile_C620 Tray 34 (Control)_oC': 192.03347661138014, 'Benzene Column C660 Operation_Column Temp Profile_C660 Tray 6 (SD & Control)_oC': 86.90426933857198, 'Benzene Column C660 Operation_Column Temp Profile_C660 Tray 23 (Control)_oC': 91.10187725123399, 'Tatoray Stripper C620 Operation_Specifications_Spec 2 : Distillate Rate_m3/hr': 0.6805630697696803, 'Simulation Case Conditions_Spec 2 : NA in Benzene_ppmw': 979.9325099473201}. Best is trial 239 with value: 1.1285943713174935.\u001b[0m\n",
            "\u001b[32m[I 2021-04-26 14:36:28,703]\u001b[0m Trial 263 finished with value: 1.1498256474137494 and parameters: {'Tatoray Stripper C620 Operation_Column Temp Profile_C620 Tray 14 (Control)_oC': 176.07882201207656, 'Tatoray Stripper C620 Operation_Column Temp Profile_C620 Tray 34 (Control)_oC': 192.04153360091013, 'Benzene Column C660 Operation_Column Temp Profile_C660 Tray 6 (SD & Control)_oC': 86.86616811893825, 'Benzene Column C660 Operation_Column Temp Profile_C660 Tray 23 (Control)_oC': 90.65704109609952, 'Tatoray Stripper C620 Operation_Specifications_Spec 2 : Distillate Rate_m3/hr': 0.7119737719900185, 'Simulation Case Conditions_Spec 2 : NA in Benzene_ppmw': 979.6580129728098}. Best is trial 239 with value: 1.1285943713174935.\u001b[0m\n",
            "\u001b[32m[I 2021-04-26 14:36:28,895]\u001b[0m Trial 264 finished with value: 1.3920513504757284 and parameters: {'Tatoray Stripper C620 Operation_Column Temp Profile_C620 Tray 14 (Control)_oC': 176.2252344067941, 'Tatoray Stripper C620 Operation_Column Temp Profile_C620 Tray 34 (Control)_oC': 192.11220397072003, 'Benzene Column C660 Operation_Column Temp Profile_C660 Tray 6 (SD & Control)_oC': 86.78819381637634, 'Benzene Column C660 Operation_Column Temp Profile_C660 Tray 23 (Control)_oC': 90.5793054240612, 'Tatoray Stripper C620 Operation_Specifications_Spec 2 : Distillate Rate_m3/hr': 0.8772696939777916, 'Simulation Case Conditions_Spec 2 : NA in Benzene_ppmw': 979.7051689979502}. Best is trial 239 with value: 1.1285943713174935.\u001b[0m\n",
            "\u001b[32m[I 2021-04-26 14:36:29,097]\u001b[0m Trial 265 finished with value: 1.2517734488985364 and parameters: {'Tatoray Stripper C620 Operation_Column Temp Profile_C620 Tray 14 (Control)_oC': 175.99193170184182, 'Tatoray Stripper C620 Operation_Column Temp Profile_C620 Tray 34 (Control)_oC': 192.0724547161883, 'Benzene Column C660 Operation_Column Temp Profile_C660 Tray 6 (SD & Control)_oC': 86.83912319605942, 'Benzene Column C660 Operation_Column Temp Profile_C660 Tray 23 (Control)_oC': 90.69486407200145, 'Tatoray Stripper C620 Operation_Specifications_Spec 2 : Distillate Rate_m3/hr': 0.8223500957815735, 'Simulation Case Conditions_Spec 2 : NA in Benzene_ppmw': 979.3462029279701}. Best is trial 239 with value: 1.1285943713174935.\u001b[0m\n",
            "\u001b[32m[I 2021-04-26 14:36:29,298]\u001b[0m Trial 266 finished with value: 1.3331823359893213 and parameters: {'Tatoray Stripper C620 Operation_Column Temp Profile_C620 Tray 14 (Control)_oC': 176.18757994731723, 'Tatoray Stripper C620 Operation_Column Temp Profile_C620 Tray 34 (Control)_oC': 191.6089751947788, 'Benzene Column C660 Operation_Column Temp Profile_C660 Tray 6 (SD & Control)_oC': 86.81578235606392, 'Benzene Column C660 Operation_Column Temp Profile_C660 Tray 23 (Control)_oC': 90.81405102817035, 'Tatoray Stripper C620 Operation_Specifications_Spec 2 : Distillate Rate_m3/hr': 0.8053400227672481, 'Simulation Case Conditions_Spec 2 : NA in Benzene_ppmw': 979.5876436496119}. Best is trial 239 with value: 1.1285943713174935.\u001b[0m\n",
            "\u001b[32m[I 2021-04-26 14:36:29,495]\u001b[0m Trial 267 finished with value: 1.254248346468735 and parameters: {'Tatoray Stripper C620 Operation_Column Temp Profile_C620 Tray 14 (Control)_oC': 176.3216305721045, 'Tatoray Stripper C620 Operation_Column Temp Profile_C620 Tray 34 (Control)_oC': 192.28219853470594, 'Benzene Column C660 Operation_Column Temp Profile_C660 Tray 6 (SD & Control)_oC': 86.88782915255445, 'Benzene Column C660 Operation_Column Temp Profile_C660 Tray 23 (Control)_oC': 90.28128046763695, 'Tatoray Stripper C620 Operation_Specifications_Spec 2 : Distillate Rate_m3/hr': 0.7448678720130557, 'Simulation Case Conditions_Spec 2 : NA in Benzene_ppmw': 979.3502044584127}. Best is trial 239 with value: 1.1285943713174935.\u001b[0m\n",
            "\u001b[32m[I 2021-04-26 14:36:29,701]\u001b[0m Trial 268 finished with value: 1.1785445017004765 and parameters: {'Tatoray Stripper C620 Operation_Column Temp Profile_C620 Tray 14 (Control)_oC': 176.17861503605437, 'Tatoray Stripper C620 Operation_Column Temp Profile_C620 Tray 34 (Control)_oC': 192.1304842053796, 'Benzene Column C660 Operation_Column Temp Profile_C660 Tray 6 (SD & Control)_oC': 86.87146678825303, 'Benzene Column C660 Operation_Column Temp Profile_C660 Tray 23 (Control)_oC': 91.01970090240911, 'Tatoray Stripper C620 Operation_Specifications_Spec 2 : Distillate Rate_m3/hr': 1.168909676080991, 'Simulation Case Conditions_Spec 2 : NA in Benzene_ppmw': 979.4162272863465}. Best is trial 239 with value: 1.1285943713174935.\u001b[0m\n",
            "\u001b[32m[I 2021-04-26 14:36:29,896]\u001b[0m Trial 269 finished with value: 1.1922374587217677 and parameters: {'Tatoray Stripper C620 Operation_Column Temp Profile_C620 Tray 14 (Control)_oC': 176.18216150767802, 'Tatoray Stripper C620 Operation_Column Temp Profile_C620 Tray 34 (Control)_oC': 191.5945112160589, 'Benzene Column C660 Operation_Column Temp Profile_C660 Tray 6 (SD & Control)_oC': 86.85070935747842, 'Benzene Column C660 Operation_Column Temp Profile_C660 Tray 23 (Control)_oC': 90.69448847638354, 'Tatoray Stripper C620 Operation_Specifications_Spec 2 : Distillate Rate_m3/hr': 0.8978462041265173, 'Simulation Case Conditions_Spec 2 : NA in Benzene_ppmw': 979.8842008360435}. Best is trial 239 with value: 1.1285943713174935.\u001b[0m\n",
            "\u001b[32m[I 2021-04-26 14:36:30,089]\u001b[0m Trial 270 finished with value: 1.1796614240406895 and parameters: {'Tatoray Stripper C620 Operation_Column Temp Profile_C620 Tray 14 (Control)_oC': 176.211292924325, 'Tatoray Stripper C620 Operation_Column Temp Profile_C620 Tray 34 (Control)_oC': 192.17753697200078, 'Benzene Column C660 Operation_Column Temp Profile_C660 Tray 6 (SD & Control)_oC': 86.9017375519167, 'Benzene Column C660 Operation_Column Temp Profile_C660 Tray 23 (Control)_oC': 90.93506535630553, 'Tatoray Stripper C620 Operation_Specifications_Spec 2 : Distillate Rate_m3/hr': 0.4839648388298713, 'Simulation Case Conditions_Spec 2 : NA in Benzene_ppmw': 979.5008900368272}. Best is trial 239 with value: 1.1285943713174935.\u001b[0m\n",
            "\u001b[32m[I 2021-04-26 14:36:30,302]\u001b[0m Trial 271 finished with value: 1.1743433990377454 and parameters: {'Tatoray Stripper C620 Operation_Column Temp Profile_C620 Tray 14 (Control)_oC': 176.06487026784373, 'Tatoray Stripper C620 Operation_Column Temp Profile_C620 Tray 34 (Control)_oC': 192.02898765134154, 'Benzene Column C660 Operation_Column Temp Profile_C660 Tray 6 (SD & Control)_oC': 86.85898406361515, 'Benzene Column C660 Operation_Column Temp Profile_C660 Tray 23 (Control)_oC': 90.69976189143051, 'Tatoray Stripper C620 Operation_Specifications_Spec 2 : Distillate Rate_m3/hr': 1.1017075426802863, 'Simulation Case Conditions_Spec 2 : NA in Benzene_ppmw': 979.5146765136287}. Best is trial 239 with value: 1.1285943713174935.\u001b[0m\n",
            "\u001b[32m[I 2021-04-26 14:36:30,518]\u001b[0m Trial 272 finished with value: 1.135788259844124 and parameters: {'Tatoray Stripper C620 Operation_Column Temp Profile_C620 Tray 14 (Control)_oC': 176.12246361499456, 'Tatoray Stripper C620 Operation_Column Temp Profile_C620 Tray 34 (Control)_oC': 191.87591329365813, 'Benzene Column C660 Operation_Column Temp Profile_C660 Tray 6 (SD & Control)_oC': 86.88217887251814, 'Benzene Column C660 Operation_Column Temp Profile_C660 Tray 23 (Control)_oC': 90.86468453294309, 'Tatoray Stripper C620 Operation_Specifications_Spec 2 : Distillate Rate_m3/hr': 0.7123286591441992, 'Simulation Case Conditions_Spec 2 : NA in Benzene_ppmw': 979.9613180021533}. Best is trial 239 with value: 1.1285943713174935.\u001b[0m\n",
            "\u001b[32m[I 2021-04-26 14:36:30,708]\u001b[0m Trial 273 finished with value: 1.1839862107225756 and parameters: {'Tatoray Stripper C620 Operation_Column Temp Profile_C620 Tray 14 (Control)_oC': 175.84120049214175, 'Tatoray Stripper C620 Operation_Column Temp Profile_C620 Tray 34 (Control)_oC': 192.06896285489833, 'Benzene Column C660 Operation_Column Temp Profile_C660 Tray 6 (SD & Control)_oC': 86.88511146393672, 'Benzene Column C660 Operation_Column Temp Profile_C660 Tray 23 (Control)_oC': 91.31121461075115, 'Tatoray Stripper C620 Operation_Specifications_Spec 2 : Distillate Rate_m3/hr': 1.0840281250681318, 'Simulation Case Conditions_Spec 2 : NA in Benzene_ppmw': 979.6799352545971}. Best is trial 239 with value: 1.1285943713174935.\u001b[0m\n",
            "\u001b[32m[I 2021-04-26 14:36:30,899]\u001b[0m Trial 274 finished with value: 1.1552376772306634 and parameters: {'Tatoray Stripper C620 Operation_Column Temp Profile_C620 Tray 14 (Control)_oC': 176.00225080938705, 'Tatoray Stripper C620 Operation_Column Temp Profile_C620 Tray 34 (Control)_oC': 191.9238525785375, 'Benzene Column C660 Operation_Column Temp Profile_C660 Tray 6 (SD & Control)_oC': 86.86558577511634, 'Benzene Column C660 Operation_Column Temp Profile_C660 Tray 23 (Control)_oC': 90.63995173037652, 'Tatoray Stripper C620 Operation_Specifications_Spec 2 : Distillate Rate_m3/hr': 0.4956061848008116, 'Simulation Case Conditions_Spec 2 : NA in Benzene_ppmw': 979.432994617475}. Best is trial 239 with value: 1.1285943713174935.\u001b[0m\n",
            "\u001b[32m[I 2021-04-26 14:36:31,095]\u001b[0m Trial 275 finished with value: 1.1553869611155776 and parameters: {'Tatoray Stripper C620 Operation_Column Temp Profile_C620 Tray 14 (Control)_oC': 176.57819449800542, 'Tatoray Stripper C620 Operation_Column Temp Profile_C620 Tray 34 (Control)_oC': 192.0030776318487, 'Benzene Column C660 Operation_Column Temp Profile_C660 Tray 6 (SD & Control)_oC': 86.89000236112018, 'Benzene Column C660 Operation_Column Temp Profile_C660 Tray 23 (Control)_oC': 90.89598125551639, 'Tatoray Stripper C620 Operation_Specifications_Spec 2 : Distillate Rate_m3/hr': 0.6754993847221309, 'Simulation Case Conditions_Spec 2 : NA in Benzene_ppmw': 979.0800897808772}. Best is trial 239 with value: 1.1285943713174935.\u001b[0m\n",
            "\u001b[32m[I 2021-04-26 14:36:31,299]\u001b[0m Trial 276 finished with value: 1.3904292477950415 and parameters: {'Tatoray Stripper C620 Operation_Column Temp Profile_C620 Tray 14 (Control)_oC': 176.25867608150006, 'Tatoray Stripper C620 Operation_Column Temp Profile_C620 Tray 34 (Control)_oC': 192.31720024049878, 'Benzene Column C660 Operation_Column Temp Profile_C660 Tray 6 (SD & Control)_oC': 86.95172753526295, 'Benzene Column C660 Operation_Column Temp Profile_C660 Tray 23 (Control)_oC': 90.9619297571078, 'Tatoray Stripper C620 Operation_Specifications_Spec 2 : Distillate Rate_m3/hr': 0.6167518390140502, 'Simulation Case Conditions_Spec 2 : NA in Benzene_ppmw': 979.4305904612328}. Best is trial 239 with value: 1.1285943713174935.\u001b[0m\n",
            "\u001b[32m[I 2021-04-26 14:36:31,496]\u001b[0m Trial 277 finished with value: 1.2741510444986883 and parameters: {'Tatoray Stripper C620 Operation_Column Temp Profile_C620 Tray 14 (Control)_oC': 176.36078457528444, 'Tatoray Stripper C620 Operation_Column Temp Profile_C620 Tray 34 (Control)_oC': 192.1616933738713, 'Benzene Column C660 Operation_Column Temp Profile_C660 Tray 6 (SD & Control)_oC': 86.93302367315091, 'Benzene Column C660 Operation_Column Temp Profile_C660 Tray 23 (Control)_oC': 91.11177339058469, 'Tatoray Stripper C620 Operation_Specifications_Spec 2 : Distillate Rate_m3/hr': 0.5832889080711813, 'Simulation Case Conditions_Spec 2 : NA in Benzene_ppmw': 979.4947264217701}. Best is trial 239 with value: 1.1285943713174935.\u001b[0m\n",
            "\u001b[32m[I 2021-04-26 14:36:31,691]\u001b[0m Trial 278 finished with value: 1.1964567140969355 and parameters: {'Tatoray Stripper C620 Operation_Column Temp Profile_C620 Tray 14 (Control)_oC': 175.95476017824927, 'Tatoray Stripper C620 Operation_Column Temp Profile_C620 Tray 34 (Control)_oC': 191.9649735160273, 'Benzene Column C660 Operation_Column Temp Profile_C660 Tray 6 (SD & Control)_oC': 86.90268973716483, 'Benzene Column C660 Operation_Column Temp Profile_C660 Tray 23 (Control)_oC': 90.9173061777601, 'Tatoray Stripper C620 Operation_Specifications_Spec 2 : Distillate Rate_m3/hr': 0.6885115191744512, 'Simulation Case Conditions_Spec 2 : NA in Benzene_ppmw': 979.9806412941501}. Best is trial 239 with value: 1.1285943713174935.\u001b[0m\n",
            "\u001b[32m[I 2021-04-26 14:36:31,884]\u001b[0m Trial 279 finished with value: 1.174882821690112 and parameters: {'Tatoray Stripper C620 Operation_Column Temp Profile_C620 Tray 14 (Control)_oC': 175.82803632852813, 'Tatoray Stripper C620 Operation_Column Temp Profile_C620 Tray 34 (Control)_oC': 192.22297665064434, 'Benzene Column C660 Operation_Column Temp Profile_C660 Tray 6 (SD & Control)_oC': 86.8725890146905, 'Benzene Column C660 Operation_Column Temp Profile_C660 Tray 23 (Control)_oC': 90.95368307013881, 'Tatoray Stripper C620 Operation_Specifications_Spec 2 : Distillate Rate_m3/hr': 0.7391142189721737, 'Simulation Case Conditions_Spec 2 : NA in Benzene_ppmw': 979.8650052277322}. Best is trial 239 with value: 1.1285943713174935.\u001b[0m\n",
            "\u001b[32m[I 2021-04-26 14:36:32,081]\u001b[0m Trial 280 finished with value: 1.1854480380068029 and parameters: {'Tatoray Stripper C620 Operation_Column Temp Profile_C620 Tray 14 (Control)_oC': 176.2458494685897, 'Tatoray Stripper C620 Operation_Column Temp Profile_C620 Tray 34 (Control)_oC': 192.04924875077307, 'Benzene Column C660 Operation_Column Temp Profile_C660 Tray 6 (SD & Control)_oC': 86.89253983754855, 'Benzene Column C660 Operation_Column Temp Profile_C660 Tray 23 (Control)_oC': 90.75499955416895, 'Tatoray Stripper C620 Operation_Specifications_Spec 2 : Distillate Rate_m3/hr': 0.5955642253917095, 'Simulation Case Conditions_Spec 2 : NA in Benzene_ppmw': 979.8948825496917}. Best is trial 239 with value: 1.1285943713174935.\u001b[0m\n",
            "\u001b[32m[I 2021-04-26 14:36:32,273]\u001b[0m Trial 281 finished with value: 1.2173910770358038 and parameters: {'Tatoray Stripper C620 Operation_Column Temp Profile_C620 Tray 14 (Control)_oC': 175.9851181374364, 'Tatoray Stripper C620 Operation_Column Temp Profile_C620 Tray 34 (Control)_oC': 191.6019496978611, 'Benzene Column C660 Operation_Column Temp Profile_C660 Tray 6 (SD & Control)_oC': 86.90994239048068, 'Benzene Column C660 Operation_Column Temp Profile_C660 Tray 23 (Control)_oC': 91.06086064322055, 'Tatoray Stripper C620 Operation_Specifications_Spec 2 : Distillate Rate_m3/hr': 0.549246654094058, 'Simulation Case Conditions_Spec 2 : NA in Benzene_ppmw': 979.8018160005831}. Best is trial 239 with value: 1.1285943713174935.\u001b[0m\n",
            "\u001b[32m[I 2021-04-26 14:36:32,497]\u001b[0m Trial 282 finished with value: 1.1792115874958164 and parameters: {'Tatoray Stripper C620 Operation_Column Temp Profile_C620 Tray 14 (Control)_oC': 176.3524119991017, 'Tatoray Stripper C620 Operation_Column Temp Profile_C620 Tray 34 (Control)_oC': 192.0179556412464, 'Benzene Column C660 Operation_Column Temp Profile_C660 Tray 6 (SD & Control)_oC': 86.86297122410691, 'Benzene Column C660 Operation_Column Temp Profile_C660 Tray 23 (Control)_oC': 90.75092995856627, 'Tatoray Stripper C620 Operation_Specifications_Spec 2 : Distillate Rate_m3/hr': 0.4826890020537533, 'Simulation Case Conditions_Spec 2 : NA in Benzene_ppmw': 979.6945471008904}. Best is trial 239 with value: 1.1285943713174935.\u001b[0m\n",
            "\u001b[32m[I 2021-04-26 14:36:32,710]\u001b[0m Trial 283 finished with value: 1.19135166892932 and parameters: {'Tatoray Stripper C620 Operation_Column Temp Profile_C620 Tray 14 (Control)_oC': 176.15946981014795, 'Tatoray Stripper C620 Operation_Column Temp Profile_C620 Tray 34 (Control)_oC': 192.0670318063869, 'Benzene Column C660 Operation_Column Temp Profile_C660 Tray 6 (SD & Control)_oC': 86.86836768553401, 'Benzene Column C660 Operation_Column Temp Profile_C660 Tray 23 (Control)_oC': 90.90277804268972, 'Tatoray Stripper C620 Operation_Specifications_Spec 2 : Distillate Rate_m3/hr': 0.3069245178833615, 'Simulation Case Conditions_Spec 2 : NA in Benzene_ppmw': 979.6710885871686}. Best is trial 239 with value: 1.1285943713174935.\u001b[0m\n",
            "\u001b[32m[I 2021-04-26 14:36:32,904]\u001b[0m Trial 284 finished with value: 1.1551203842412063 and parameters: {'Tatoray Stripper C620 Operation_Column Temp Profile_C620 Tray 14 (Control)_oC': 176.3779708420194, 'Tatoray Stripper C620 Operation_Column Temp Profile_C620 Tray 34 (Control)_oC': 191.7589524732535, 'Benzene Column C660 Operation_Column Temp Profile_C660 Tray 6 (SD & Control)_oC': 86.88670108732919, 'Benzene Column C660 Operation_Column Temp Profile_C660 Tray 23 (Control)_oC': 90.90381458803708, 'Tatoray Stripper C620 Operation_Specifications_Spec 2 : Distillate Rate_m3/hr': 0.7080325911920382, 'Simulation Case Conditions_Spec 2 : NA in Benzene_ppmw': 979.6603895409808}. Best is trial 239 with value: 1.1285943713174935.\u001b[0m\n",
            "\u001b[32m[I 2021-04-26 14:36:33,101]\u001b[0m Trial 285 finished with value: 1.26576408584163 and parameters: {'Tatoray Stripper C620 Operation_Column Temp Profile_C620 Tray 14 (Control)_oC': 176.14590440542307, 'Tatoray Stripper C620 Operation_Column Temp Profile_C620 Tray 34 (Control)_oC': 192.0067316644603, 'Benzene Column C660 Operation_Column Temp Profile_C660 Tray 6 (SD & Control)_oC': 86.83857598185743, 'Benzene Column C660 Operation_Column Temp Profile_C660 Tray 23 (Control)_oC': 90.76268818521862, 'Tatoray Stripper C620 Operation_Specifications_Spec 2 : Distillate Rate_m3/hr': 0.669079037299548, 'Simulation Case Conditions_Spec 2 : NA in Benzene_ppmw': 979.4919615258624}. Best is trial 239 with value: 1.1285943713174935.\u001b[0m\n",
            "\u001b[32m[I 2021-04-26 14:36:33,306]\u001b[0m Trial 286 finished with value: 1.13185961084949 and parameters: {'Tatoray Stripper C620 Operation_Column Temp Profile_C620 Tray 14 (Control)_oC': 175.84148735656456, 'Tatoray Stripper C620 Operation_Column Temp Profile_C620 Tray 34 (Control)_oC': 191.81526580436275, 'Benzene Column C660 Operation_Column Temp Profile_C660 Tray 6 (SD & Control)_oC': 86.86722367285833, 'Benzene Column C660 Operation_Column Temp Profile_C660 Tray 23 (Control)_oC': 90.57646613035045, 'Tatoray Stripper C620 Operation_Specifications_Spec 2 : Distillate Rate_m3/hr': 0.6687366261964693, 'Simulation Case Conditions_Spec 2 : NA in Benzene_ppmw': 979.9300679695327}. Best is trial 239 with value: 1.1285943713174935.\u001b[0m\n",
            "\u001b[32m[I 2021-04-26 14:36:33,501]\u001b[0m Trial 287 finished with value: 1.1782073123318366 and parameters: {'Tatoray Stripper C620 Operation_Column Temp Profile_C620 Tray 14 (Control)_oC': 176.32323084620376, 'Tatoray Stripper C620 Operation_Column Temp Profile_C620 Tray 34 (Control)_oC': 191.82970348866945, 'Benzene Column C660 Operation_Column Temp Profile_C660 Tray 6 (SD & Control)_oC': 86.88589290583927, 'Benzene Column C660 Operation_Column Temp Profile_C660 Tray 23 (Control)_oC': 90.72523407792073, 'Tatoray Stripper C620 Operation_Specifications_Spec 2 : Distillate Rate_m3/hr': 0.6549116156650712, 'Simulation Case Conditions_Spec 2 : NA in Benzene_ppmw': 979.722358849338}. Best is trial 239 with value: 1.1285943713174935.\u001b[0m\n",
            "\u001b[32m[I 2021-04-26 14:36:33,715]\u001b[0m Trial 288 finished with value: 1.2610077239282462 and parameters: {'Tatoray Stripper C620 Operation_Column Temp Profile_C620 Tray 14 (Control)_oC': 176.319660285414, 'Tatoray Stripper C620 Operation_Column Temp Profile_C620 Tray 34 (Control)_oC': 191.95715538784768, 'Benzene Column C660 Operation_Column Temp Profile_C660 Tray 6 (SD & Control)_oC': 86.92343679375034, 'Benzene Column C660 Operation_Column Temp Profile_C660 Tray 23 (Control)_oC': 91.02686784963802, 'Tatoray Stripper C620 Operation_Specifications_Spec 2 : Distillate Rate_m3/hr': 0.6120301599924389, 'Simulation Case Conditions_Spec 2 : NA in Benzene_ppmw': 979.5115251408533}. Best is trial 239 with value: 1.1285943713174935.\u001b[0m\n",
            "\u001b[32m[I 2021-04-26 14:36:33,912]\u001b[0m Trial 289 finished with value: 1.1524294799990626 and parameters: {'Tatoray Stripper C620 Operation_Column Temp Profile_C620 Tray 14 (Control)_oC': 176.4141144840224, 'Tatoray Stripper C620 Operation_Column Temp Profile_C620 Tray 34 (Control)_oC': 191.91000420898837, 'Benzene Column C660 Operation_Column Temp Profile_C660 Tray 6 (SD & Control)_oC': 86.86650668639038, 'Benzene Column C660 Operation_Column Temp Profile_C660 Tray 23 (Control)_oC': 90.44154960333285, 'Tatoray Stripper C620 Operation_Specifications_Spec 2 : Distillate Rate_m3/hr': 0.7883707442391482, 'Simulation Case Conditions_Spec 2 : NA in Benzene_ppmw': 979.4354348263937}. Best is trial 239 with value: 1.1285943713174935.\u001b[0m\n",
            "\u001b[32m[I 2021-04-26 14:36:34,107]\u001b[0m Trial 290 finished with value: 1.1958609277059755 and parameters: {'Tatoray Stripper C620 Operation_Column Temp Profile_C620 Tray 14 (Control)_oC': 176.26130889394162, 'Tatoray Stripper C620 Operation_Column Temp Profile_C620 Tray 34 (Control)_oC': 191.90073025191478, 'Benzene Column C660 Operation_Column Temp Profile_C660 Tray 6 (SD & Control)_oC': 86.89208062752085, 'Benzene Column C660 Operation_Column Temp Profile_C660 Tray 23 (Control)_oC': 90.74035785365245, 'Tatoray Stripper C620 Operation_Specifications_Spec 2 : Distillate Rate_m3/hr': 0.9068330046367895, 'Simulation Case Conditions_Spec 2 : NA in Benzene_ppmw': 979.4785229270522}. Best is trial 239 with value: 1.1285943713174935.\u001b[0m\n",
            "\u001b[32m[I 2021-04-26 14:36:34,299]\u001b[0m Trial 291 finished with value: 1.1535184059504133 and parameters: {'Tatoray Stripper C620 Operation_Column Temp Profile_C620 Tray 14 (Control)_oC': 176.37608340745442, 'Tatoray Stripper C620 Operation_Column Temp Profile_C620 Tray 34 (Control)_oC': 191.67986809616704, 'Benzene Column C660 Operation_Column Temp Profile_C660 Tray 6 (SD & Control)_oC': 86.87974309818188, 'Benzene Column C660 Operation_Column Temp Profile_C660 Tray 23 (Control)_oC': 90.80780488274895, 'Tatoray Stripper C620 Operation_Specifications_Spec 2 : Distillate Rate_m3/hr': 0.8498307583313736, 'Simulation Case Conditions_Spec 2 : NA in Benzene_ppmw': 979.9314101557642}. Best is trial 239 with value: 1.1285943713174935.\u001b[0m\n",
            "\u001b[32m[I 2021-04-26 14:36:34,501]\u001b[0m Trial 292 finished with value: 1.1446171642062295 and parameters: {'Tatoray Stripper C620 Operation_Column Temp Profile_C620 Tray 14 (Control)_oC': 176.10178658672635, 'Tatoray Stripper C620 Operation_Column Temp Profile_C620 Tray 34 (Control)_oC': 191.855116315869, 'Benzene Column C660 Operation_Column Temp Profile_C660 Tray 6 (SD & Control)_oC': 86.85640778043188, 'Benzene Column C660 Operation_Column Temp Profile_C660 Tray 23 (Control)_oC': 90.47545841810546, 'Tatoray Stripper C620 Operation_Specifications_Spec 2 : Distillate Rate_m3/hr': 0.9680233477703933, 'Simulation Case Conditions_Spec 2 : NA in Benzene_ppmw': 979.9210667301089}. Best is trial 239 with value: 1.1285943713174935.\u001b[0m\n",
            "\u001b[32m[I 2021-04-26 14:36:34,716]\u001b[0m Trial 293 finished with value: 1.175836079102483 and parameters: {'Tatoray Stripper C620 Operation_Column Temp Profile_C620 Tray 14 (Control)_oC': 176.07316576316708, 'Tatoray Stripper C620 Operation_Column Temp Profile_C620 Tray 34 (Control)_oC': 191.85600876899477, 'Benzene Column C660 Operation_Column Temp Profile_C660 Tray 6 (SD & Control)_oC': 86.86552449688331, 'Benzene Column C660 Operation_Column Temp Profile_C660 Tray 23 (Control)_oC': 90.838273071756, 'Tatoray Stripper C620 Operation_Specifications_Spec 2 : Distillate Rate_m3/hr': 0.8590039684073102, 'Simulation Case Conditions_Spec 2 : NA in Benzene_ppmw': 979.8886255326195}. Best is trial 239 with value: 1.1285943713174935.\u001b[0m\n",
            "\u001b[32m[I 2021-04-26 14:36:34,928]\u001b[0m Trial 294 finished with value: 1.1945414651119268 and parameters: {'Tatoray Stripper C620 Operation_Column Temp Profile_C620 Tray 14 (Control)_oC': 175.71036507681742, 'Tatoray Stripper C620 Operation_Column Temp Profile_C620 Tray 34 (Control)_oC': 191.93867851810572, 'Benzene Column C660 Operation_Column Temp Profile_C660 Tray 6 (SD & Control)_oC': 86.8473617426557, 'Benzene Column C660 Operation_Column Temp Profile_C660 Tray 23 (Control)_oC': 90.45503999700223, 'Tatoray Stripper C620 Operation_Specifications_Spec 2 : Distillate Rate_m3/hr': 0.4650282234078644, 'Simulation Case Conditions_Spec 2 : NA in Benzene_ppmw': 979.9199576207237}. Best is trial 239 with value: 1.1285943713174935.\u001b[0m\n",
            "\u001b[32m[I 2021-04-26 14:36:35,125]\u001b[0m Trial 295 finished with value: 1.1894260027104107 and parameters: {'Tatoray Stripper C620 Operation_Column Temp Profile_C620 Tray 14 (Control)_oC': 176.32247744149043, 'Tatoray Stripper C620 Operation_Column Temp Profile_C620 Tray 34 (Control)_oC': 192.1203926828196, 'Benzene Column C660 Operation_Column Temp Profile_C660 Tray 6 (SD & Control)_oC': 86.8475730618285, 'Benzene Column C660 Operation_Column Temp Profile_C660 Tray 23 (Control)_oC': 90.54747187103386, 'Tatoray Stripper C620 Operation_Specifications_Spec 2 : Distillate Rate_m3/hr': 0.9675782053757302, 'Simulation Case Conditions_Spec 2 : NA in Benzene_ppmw': 979.5827608776104}. Best is trial 239 with value: 1.1285943713174935.\u001b[0m\n",
            "\u001b[32m[I 2021-04-26 14:36:35,313]\u001b[0m Trial 296 finished with value: 1.3069984150168965 and parameters: {'Tatoray Stripper C620 Operation_Column Temp Profile_C620 Tray 14 (Control)_oC': 175.86087122498753, 'Tatoray Stripper C620 Operation_Column Temp Profile_C620 Tray 34 (Control)_oC': 191.6005722996734, 'Benzene Column C660 Operation_Column Temp Profile_C660 Tray 6 (SD & Control)_oC': 86.83495459173915, 'Benzene Column C660 Operation_Column Temp Profile_C660 Tray 23 (Control)_oC': 90.98097156108275, 'Tatoray Stripper C620 Operation_Specifications_Spec 2 : Distillate Rate_m3/hr': 0.5133288849427764, 'Simulation Case Conditions_Spec 2 : NA in Benzene_ppmw': 979.7165910518021}. Best is trial 239 with value: 1.1285943713174935.\u001b[0m\n",
            "\u001b[32m[I 2021-04-26 14:36:35,506]\u001b[0m Trial 297 finished with value: 1.1465983269634432 and parameters: {'Tatoray Stripper C620 Operation_Column Temp Profile_C620 Tray 14 (Control)_oC': 176.62787410089538, 'Tatoray Stripper C620 Operation_Column Temp Profile_C620 Tray 34 (Control)_oC': 191.71378139677333, 'Benzene Column C660 Operation_Column Temp Profile_C660 Tray 6 (SD & Control)_oC': 86.85415051221477, 'Benzene Column C660 Operation_Column Temp Profile_C660 Tray 23 (Control)_oC': 90.26842848982365, 'Tatoray Stripper C620 Operation_Specifications_Spec 2 : Distillate Rate_m3/hr': 0.34315651778649575, 'Simulation Case Conditions_Spec 2 : NA in Benzene_ppmw': 979.4040918500289}. Best is trial 239 with value: 1.1285943713174935.\u001b[0m\n",
            "\u001b[32m[I 2021-04-26 14:36:35,721]\u001b[0m Trial 298 finished with value: 1.1313919751009887 and parameters: {'Tatoray Stripper C620 Operation_Column Temp Profile_C620 Tray 14 (Control)_oC': 176.28630451589905, 'Tatoray Stripper C620 Operation_Column Temp Profile_C620 Tray 34 (Control)_oC': 191.90441829522177, 'Benzene Column C660 Operation_Column Temp Profile_C660 Tray 6 (SD & Control)_oC': 86.86930342369476, 'Benzene Column C660 Operation_Column Temp Profile_C660 Tray 23 (Control)_oC': 90.69698446954807, 'Tatoray Stripper C620 Operation_Specifications_Spec 2 : Distillate Rate_m3/hr': 1.0651373272506908, 'Simulation Case Conditions_Spec 2 : NA in Benzene_ppmw': 979.4835583233521}. Best is trial 239 with value: 1.1285943713174935.\u001b[0m\n",
            "\u001b[32m[I 2021-04-26 14:36:35,928]\u001b[0m Trial 299 finished with value: 1.1400396656315166 and parameters: {'Tatoray Stripper C620 Operation_Column Temp Profile_C620 Tray 14 (Control)_oC': 176.29512658253677, 'Tatoray Stripper C620 Operation_Column Temp Profile_C620 Tray 34 (Control)_oC': 191.881880036394, 'Benzene Column C660 Operation_Column Temp Profile_C660 Tray 6 (SD & Control)_oC': 86.86463033601652, 'Benzene Column C660 Operation_Column Temp Profile_C660 Tray 23 (Control)_oC': 90.62600157190198, 'Tatoray Stripper C620 Operation_Specifications_Spec 2 : Distillate Rate_m3/hr': 0.8708804915637015, 'Simulation Case Conditions_Spec 2 : NA in Benzene_ppmw': 979.9635874872259}. Best is trial 239 with value: 1.1285943713174935.\u001b[0m\n"
          ],
          "name": "stderr"
        },
        {
          "output_type": "stream",
          "text": [
            "bz_error: 0.6955690292006551\n",
            "nainbz_error: 117.85597248465831\n",
            "tol_error: 0.009668527918893943\n",
            "dist_rate 0.649788168873279\n",
            "nainbz: 862.1440275153417\n"
          ],
          "name": "stdout"
        }
      ]
    },
    {
      "cell_type": "markdown",
      "metadata": {
        "id": "V-czTbsnJUED"
      },
      "source": [
        "# 確認三項條件有滿足"
      ]
    },
    {
      "cell_type": "code",
      "metadata": {
        "colab": {
          "base_uri": "https://localhost:8080/"
        },
        "id": "8bdrIbVXJUMi",
        "outputId": "f9f8a1f6-4bc7-458a-9abc-d7d92a35eb63"
      },
      "source": [
        "bz_error,nainbz_error,tol_error"
      ],
      "execution_count": 270,
      "outputs": [
        {
          "output_type": "execute_result",
          "data": {
            "text/plain": [
              "(0.6955690292006551, 117.85597248465831, 0.009668527918893943)"
            ]
          },
          "metadata": {
            "tags": []
          },
          "execution_count": 270
        }
      ]
    },
    {
      "cell_type": "code",
      "metadata": {
        "colab": {
          "base_uri": "https://localhost:8080/",
          "height": 77
        },
        "id": "plTvQ5hoJ17k",
        "outputId": "69036d9c-1a24-4435-c6a8-2dd92b7acb87"
      },
      "source": [
        "a = icg_input[['Simulation Case Conditions_Spec 1 : Benzene in C620 Sidedraw_wt%']]\n",
        "b = c620_wt[['Tatoray Stripper C620 Operation_Sidedraw Production Rate and Composition_Benzene_wt%']]\n",
        "a.join(b)"
      ],
      "execution_count": 271,
      "outputs": [
        {
          "output_type": "execute_result",
          "data": {
            "text/html": [
              "<div>\n",
              "<style scoped>\n",
              "    .dataframe tbody tr th:only-of-type {\n",
              "        vertical-align: middle;\n",
              "    }\n",
              "\n",
              "    .dataframe tbody tr th {\n",
              "        vertical-align: top;\n",
              "    }\n",
              "\n",
              "    .dataframe thead th {\n",
              "        text-align: right;\n",
              "    }\n",
              "</style>\n",
              "<table border=\"1\" class=\"dataframe\">\n",
              "  <thead>\n",
              "    <tr style=\"text-align: right;\">\n",
              "      <th></th>\n",
              "      <th>Simulation Case Conditions_Spec 1 : Benzene in C620 Sidedraw_wt%</th>\n",
              "      <th>Tatoray Stripper C620 Operation_Sidedraw Production Rate and Composition_Benzene_wt%</th>\n",
              "    </tr>\n",
              "  </thead>\n",
              "  <tbody>\n",
              "    <tr>\n",
              "      <th>120-005</th>\n",
              "      <td>90.0</td>\n",
              "      <td>90.695569</td>\n",
              "    </tr>\n",
              "  </tbody>\n",
              "</table>\n",
              "</div>"
            ],
            "text/plain": [
              "         Simulation Case Conditions_Spec 1 : Benzene in C620 Sidedraw_wt%  Tatoray Stripper C620 Operation_Sidedraw Production Rate and Composition_Benzene_wt%\n",
              "120-005                                               90.0                                                         90.695569                                   "
            ]
          },
          "metadata": {
            "tags": []
          },
          "execution_count": 271
        }
      ]
    },
    {
      "cell_type": "code",
      "metadata": {
        "colab": {
          "base_uri": "https://localhost:8080/",
          "height": 77
        },
        "id": "iKspSt_-J79X",
        "outputId": "0fd54812-cbe4-4200-9486-c2d0b91f86ed"
      },
      "source": [
        "a = icg_input[['Simulation Case Conditions_Spec 2 : NA in Benzene_ppmw']]\n",
        "b = c660_wt.filter(regex='Side').filter(regex='wt%').iloc[:,[1,2,3,4,5,6,8,9,11,13,14,15,20,22,29] ].sum(axis=1)*10000\n",
        "b.name = 'c660_wt NA in NA in Benzene_ppmw'\n",
        "a.join(b)"
      ],
      "execution_count": 272,
      "outputs": [
        {
          "output_type": "execute_result",
          "data": {
            "text/html": [
              "<div>\n",
              "<style scoped>\n",
              "    .dataframe tbody tr th:only-of-type {\n",
              "        vertical-align: middle;\n",
              "    }\n",
              "\n",
              "    .dataframe tbody tr th {\n",
              "        vertical-align: top;\n",
              "    }\n",
              "\n",
              "    .dataframe thead th {\n",
              "        text-align: right;\n",
              "    }\n",
              "</style>\n",
              "<table border=\"1\" class=\"dataframe\">\n",
              "  <thead>\n",
              "    <tr style=\"text-align: right;\">\n",
              "      <th></th>\n",
              "      <th>Simulation Case Conditions_Spec 2 : NA in Benzene_ppmw</th>\n",
              "      <th>c660_wt NA in NA in Benzene_ppmw</th>\n",
              "    </tr>\n",
              "  </thead>\n",
              "  <tbody>\n",
              "    <tr>\n",
              "      <th>120-005</th>\n",
              "      <td>980</td>\n",
              "      <td>862.144028</td>\n",
              "    </tr>\n",
              "  </tbody>\n",
              "</table>\n",
              "</div>"
            ],
            "text/plain": [
              "         Simulation Case Conditions_Spec 2 : NA in Benzene_ppmw  c660_wt NA in NA in Benzene_ppmw\n",
              "120-005                                                980                             862.144028"
            ]
          },
          "metadata": {
            "tags": []
          },
          "execution_count": 272
        }
      ]
    },
    {
      "cell_type": "code",
      "metadata": {
        "colab": {
          "base_uri": "https://localhost:8080/",
          "height": 77
        },
        "id": "boxjNTZ_Kuvu",
        "outputId": "a754be40-0e99-4a44-c1e8-a2b21d5f0f43"
      },
      "source": [
        "a = icg_input[['Benzene Column C660 Operation_Specifications_Spec 3 : Toluene in Benzene_ppmw']]\n",
        "b = c660_wt[['Benzene Column C660 Operation_Sidedraw (Benzene )Production Rate and Composition_Toluene_wt%']]*10000\n",
        "a.join(b)"
      ],
      "execution_count": 273,
      "outputs": [
        {
          "output_type": "execute_result",
          "data": {
            "text/html": [
              "<div>\n",
              "<style scoped>\n",
              "    .dataframe tbody tr th:only-of-type {\n",
              "        vertical-align: middle;\n",
              "    }\n",
              "\n",
              "    .dataframe tbody tr th {\n",
              "        vertical-align: top;\n",
              "    }\n",
              "\n",
              "    .dataframe thead th {\n",
              "        text-align: right;\n",
              "    }\n",
              "</style>\n",
              "<table border=\"1\" class=\"dataframe\">\n",
              "  <thead>\n",
              "    <tr style=\"text-align: right;\">\n",
              "      <th></th>\n",
              "      <th>Benzene Column C660 Operation_Specifications_Spec 3 : Toluene in Benzene_ppmw</th>\n",
              "      <th>Benzene Column C660 Operation_Sidedraw (Benzene )Production Rate and Composition_Toluene_wt%</th>\n",
              "    </tr>\n",
              "  </thead>\n",
              "  <tbody>\n",
              "    <tr>\n",
              "      <th>120-005</th>\n",
              "      <td>10</td>\n",
              "      <td>10.009669</td>\n",
              "    </tr>\n",
              "  </tbody>\n",
              "</table>\n",
              "</div>"
            ],
            "text/plain": [
              "         Benzene Column C660 Operation_Specifications_Spec 3 : Toluene in Benzene_ppmw  Benzene Column C660 Operation_Sidedraw (Benzene )Production Rate and Composition_Toluene_wt%\n",
              "120-005                                                 10                                                                      10.009669                                           "
            ]
          },
          "metadata": {
            "tags": []
          },
          "execution_count": 273
        }
      ]
    },
    {
      "cell_type": "markdown",
      "metadata": {
        "id": "XCrSd9ICUydW"
      },
      "source": [
        "# 確認操作條件有足夠大的調幅"
      ]
    },
    {
      "cell_type": "code",
      "metadata": {
        "colab": {
          "base_uri": "https://localhost:8080/",
          "height": 178
        },
        "id": "co6zFgOqXHE3",
        "outputId": "1c80122b-9463-456d-e9ea-0e24cce72fc7"
      },
      "source": [
        "c620_op_opt - c620_op"
      ],
      "execution_count": 274,
      "outputs": [
        {
          "output_type": "execute_result",
          "data": {
            "text/html": [
              "<div>\n",
              "<style scoped>\n",
              "    .dataframe tbody tr th:only-of-type {\n",
              "        vertical-align: middle;\n",
              "    }\n",
              "\n",
              "    .dataframe tbody tr th {\n",
              "        vertical-align: top;\n",
              "    }\n",
              "\n",
              "    .dataframe thead th {\n",
              "        text-align: right;\n",
              "    }\n",
              "</style>\n",
              "<table border=\"1\" class=\"dataframe\">\n",
              "  <thead>\n",
              "    <tr style=\"text-align: right;\">\n",
              "      <th></th>\n",
              "      <th>Density_Feed Properties</th>\n",
              "      <th>Density_Vent Gas Production Rate and Composition</th>\n",
              "      <th>Density_Distillate Production Rate and Composition</th>\n",
              "      <th>Density_Sidedraw Production Rate and Composition</th>\n",
              "      <th>Density_Bottoms Production Rate and Composition</th>\n",
              "      <th>Tatoray Stripper C620 Operation_Yield Summary_Reflux Rate_m3/hr</th>\n",
              "      <th>Tatoray Stripper C620 Operation_Heat Duty_Condenser Heat Duty_Mkcal/hr</th>\n",
              "      <th>Tatoray Stripper C620 Operation_Heat Duty_Reboiler Heat Duty_Mkcal/hr</th>\n",
              "      <th>Tatoray Stripper C620 Operation_Column Temp Profile_C620 Tray 14 (Control)_oC</th>\n",
              "      <th>Tatoray Stripper C620 Operation_Column Temp Profile_C620 Tray 34 (Control)_oC</th>\n",
              "    </tr>\n",
              "  </thead>\n",
              "  <tbody>\n",
              "    <tr>\n",
              "      <th>120-005</th>\n",
              "      <td>-0.000006</td>\n",
              "      <td>-0.000613</td>\n",
              "      <td>0.003094</td>\n",
              "      <td>-0.000043</td>\n",
              "      <td>0.000004</td>\n",
              "      <td>-5.893219</td>\n",
              "      <td>-0.332297</td>\n",
              "      <td>-0.519026</td>\n",
              "      <td>0.354694</td>\n",
              "      <td>-0.455988</td>\n",
              "    </tr>\n",
              "  </tbody>\n",
              "</table>\n",
              "</div>"
            ],
            "text/plain": [
              "         Density_Feed Properties  ...  Tatoray Stripper C620 Operation_Column Temp Profile_C620 Tray 34 (Control)_oC\n",
              "120-005                -0.000006  ...                                          -0.455988                            \n",
              "\n",
              "[1 rows x 10 columns]"
            ]
          },
          "metadata": {
            "tags": []
          },
          "execution_count": 274
        }
      ]
    },
    {
      "cell_type": "code",
      "metadata": {
        "id": "m6smPx97kBC-",
        "colab": {
          "base_uri": "https://localhost:8080/",
          "height": 178
        },
        "outputId": "81a2eec3-a8b8-41b0-cdca-0e7cf9760ebb"
      },
      "source": [
        "c660_op_opt - c660_op"
      ],
      "execution_count": 275,
      "outputs": [
        {
          "output_type": "execute_result",
          "data": {
            "text/html": [
              "<div>\n",
              "<style scoped>\n",
              "    .dataframe tbody tr th:only-of-type {\n",
              "        vertical-align: middle;\n",
              "    }\n",
              "\n",
              "    .dataframe tbody tr th {\n",
              "        vertical-align: top;\n",
              "    }\n",
              "\n",
              "    .dataframe thead th {\n",
              "        text-align: right;\n",
              "    }\n",
              "</style>\n",
              "<table border=\"1\" class=\"dataframe\">\n",
              "  <thead>\n",
              "    <tr style=\"text-align: right;\">\n",
              "      <th></th>\n",
              "      <th>Density_Feed Properties</th>\n",
              "      <th>Density_Vent Gas Production Rate and Composition</th>\n",
              "      <th>Density_Distillate (Benzene Drag) Production Rate and Composition</th>\n",
              "      <th>Density_Sidedraw (Benzene )Production Rate and Composition</th>\n",
              "      <th>Density_Bottoms Production Rate and Composition</th>\n",
              "      <th>Benzene Column C660 Operation_Yield Summary_Reflux Rate_m3/hr</th>\n",
              "      <th>Benzene Column C660 Operation_Heat Duty_Condenser Heat Duty_Mkcal/hr</th>\n",
              "      <th>Benzene Column C660 Operation_Heat Duty_Reboiler Heat Duty_Mkcal/hr</th>\n",
              "      <th>Benzene Column C660 Operation_Column Temp Profile_C660 Tray 6 (SD &amp; Control)_oC</th>\n",
              "      <th>Benzene Column C660 Operation_Column Temp Profile_C660 Tray 23 (Control)_oC</th>\n",
              "    </tr>\n",
              "  </thead>\n",
              "  <tbody>\n",
              "    <tr>\n",
              "      <th>120-005</th>\n",
              "      <td>0.000004</td>\n",
              "      <td>0.002998</td>\n",
              "      <td>-0.002246</td>\n",
              "      <td>4.705602e-08</td>\n",
              "      <td>0.000006</td>\n",
              "      <td>0.200943</td>\n",
              "      <td>0.002806</td>\n",
              "      <td>-0.001114</td>\n",
              "      <td>-0.087043</td>\n",
              "      <td>-0.19972</td>\n",
              "    </tr>\n",
              "  </tbody>\n",
              "</table>\n",
              "</div>"
            ],
            "text/plain": [
              "         Density_Feed Properties  ...  Benzene Column C660 Operation_Column Temp Profile_C660 Tray 23 (Control)_oC\n",
              "120-005                 0.000004  ...                                           -0.19972                          \n",
              "\n",
              "[1 rows x 10 columns]"
            ]
          },
          "metadata": {
            "tags": []
          },
          "execution_count": 275
        }
      ]
    },
    {
      "cell_type": "code",
      "metadata": {
        "id": "9Iho3ltAkBwU",
        "colab": {
          "base_uri": "https://localhost:8080/",
          "height": 144
        },
        "outputId": "cb8878fb-455b-4ab6-9471-faf3eec9fda6"
      },
      "source": [
        "c670_op_opt - c670_op"
      ],
      "execution_count": 276,
      "outputs": [
        {
          "output_type": "execute_result",
          "data": {
            "text/html": [
              "<div>\n",
              "<style scoped>\n",
              "    .dataframe tbody tr th:only-of-type {\n",
              "        vertical-align: middle;\n",
              "    }\n",
              "\n",
              "    .dataframe tbody tr th {\n",
              "        vertical-align: top;\n",
              "    }\n",
              "\n",
              "    .dataframe thead th {\n",
              "        text-align: right;\n",
              "    }\n",
              "</style>\n",
              "<table border=\"1\" class=\"dataframe\">\n",
              "  <thead>\n",
              "    <tr style=\"text-align: right;\">\n",
              "      <th></th>\n",
              "      <th>Density_Distillate Production Rate and Composition</th>\n",
              "      <th>Density_Bottoms Production Rate and Composition</th>\n",
              "      <th>Toluene Column C670 Operation_Yield \\nSummary_Reflux Rate_m3/hr</th>\n",
              "      <th>Toluene Column C670 Operation_Heat Duty_Condenser Heat Duty_Mkcal/hr</th>\n",
              "      <th>Toluene Column C670 Operation_Heat Duty_Reboiler Heat Duty_Mkcal/hr</th>\n",
              "      <th>Toluene Column C670 Operation_Column Temp Profile_C670 Tray 24 (Control)_oC</th>\n",
              "      <th>Toluene Column C670 Operation_Column Temp Profile_C670 Btm Temp (Control)_oC</th>\n",
              "    </tr>\n",
              "  </thead>\n",
              "  <tbody>\n",
              "    <tr>\n",
              "      <th>120-005</th>\n",
              "      <td>-7.938627e-07</td>\n",
              "      <td>-0.000006</td>\n",
              "      <td>-6.500122</td>\n",
              "      <td>-0.875822</td>\n",
              "      <td>-0.989508</td>\n",
              "      <td>-0.023361</td>\n",
              "      <td>-0.286453</td>\n",
              "    </tr>\n",
              "  </tbody>\n",
              "</table>\n",
              "</div>"
            ],
            "text/plain": [
              "         Density_Distillate Production Rate and Composition  ...  Toluene Column C670 Operation_Column Temp Profile_C670 Btm Temp (Control)_oC\n",
              "120-005                                      -7.938627e-07   ...                                          -0.286453                           \n",
              "\n",
              "[1 rows x 7 columns]"
            ]
          },
          "metadata": {
            "tags": []
          },
          "execution_count": 276
        }
      ]
    },
    {
      "cell_type": "markdown",
      "metadata": {
        "id": "50ddy_o3Utcy"
      },
      "source": [
        "# 確定以下三點誤差足夠小"
      ]
    },
    {
      "cell_type": "code",
      "metadata": {
        "id": "x8qtqHN4kCnE",
        "colab": {
          "base_uri": "https://localhost:8080/"
        },
        "outputId": "2f084e9d-37ff-4cdc-daf3-2c371cc0f801"
      },
      "source": [
        "bz_error"
      ],
      "execution_count": 277,
      "outputs": [
        {
          "output_type": "execute_result",
          "data": {
            "text/plain": [
              "0.6955690292006551"
            ]
          },
          "metadata": {
            "tags": []
          },
          "execution_count": 277
        }
      ]
    },
    {
      "cell_type": "code",
      "metadata": {
        "id": "zlQ7WtFxmIVI",
        "colab": {
          "base_uri": "https://localhost:8080/"
        },
        "outputId": "eab24df7-eb01-442e-ad06-dc0f747cb6d5"
      },
      "source": [
        "nainbz_error"
      ],
      "execution_count": 278,
      "outputs": [
        {
          "output_type": "execute_result",
          "data": {
            "text/plain": [
              "117.85597248465831"
            ]
          },
          "metadata": {
            "tags": []
          },
          "execution_count": 278
        }
      ]
    },
    {
      "cell_type": "code",
      "metadata": {
        "id": "uLt2GPU2maax",
        "colab": {
          "base_uri": "https://localhost:8080/"
        },
        "outputId": "e7552491-3051-4be8-f530-c4e33ce40f36"
      },
      "source": [
        "tol_error"
      ],
      "execution_count": 279,
      "outputs": [
        {
          "output_type": "execute_result",
          "data": {
            "text/plain": [
              "0.009668527918893943"
            ]
          },
          "metadata": {
            "tags": []
          },
          "execution_count": 279
        }
      ]
    },
    {
      "cell_type": "markdown",
      "metadata": {
        "id": "1u2sIZi1maeB"
      },
      "source": [
        "# 保存樣本"
      ]
    },
    {
      "cell_type": "code",
      "metadata": {
        "id": "SP3AKxsymale",
        "colab": {
          "base_uri": "https://localhost:8080/"
        },
        "outputId": "02519e2e-7b2b-4845-9d3c-b7651dac4f0f"
      },
      "source": [
        "idx = icg_input.index\n",
        "print(idx)"
      ],
      "execution_count": null,
      "outputs": [
        {
          "output_type": "stream",
          "text": [
            "Index(['002-002'], dtype='object')\n"
          ],
          "name": "stdout"
        }
      ]
    },
    {
      "cell_type": "code",
      "metadata": {
        "id": "gBiAAbNrmt42"
      },
      "source": [
        "demo = {\n",
        "      # input\n",
        "      'icg_input':icg_input.loc[idx],\n",
        "      'c620_feed':c620_feed.loc[idx],\n",
        "      't651_feed':t651_feed.loc[idx],\n",
        "      # output\n",
        "      'c620_op':c620_op.loc[idx],\n",
        "      'c620_wt':c620_wt.loc[idx],\n",
        "      'c660_op':c660_op.loc[idx],\n",
        "      'c660_wt':c660_wt.loc[idx],\n",
        "      'c670_op':c670_op.loc[idx],\n",
        "      'c670_wt':c670_wt.loc[idx],\n",
        "      }"
      ],
      "execution_count": null,
      "outputs": []
    },
    {
      "cell_type": "code",
      "metadata": {
        "id": "hqZSzX1VmxT-",
        "colab": {
          "base_uri": "https://localhost:8080/"
        },
        "outputId": "98c7bc14-22ea-4864-a76e-4331f0713cae"
      },
      "source": [
        "import joblib\n",
        "joblib.dump(demo,\"/content/drive/MyDrive/台塑輕油案子/data/c620/demo/demo.pkl\")"
      ],
      "execution_count": null,
      "outputs": [
        {
          "output_type": "execute_result",
          "data": {
            "text/plain": [
              "['/content/drive/MyDrive/台塑輕油案子/data/c620/demo/demo.pkl']"
            ]
          },
          "metadata": {
            "tags": []
          },
          "execution_count": 1379
        }
      ]
    },
    {
      "cell_type": "markdown",
      "metadata": {
        "id": "X9yg2_p2veZA"
      },
      "source": [
        "# 保存模組"
      ]
    },
    {
      "cell_type": "code",
      "metadata": {
        "id": "TaZjMBJ9veg9",
        "colab": {
          "base_uri": "https://localhost:8080/"
        },
        "outputId": "f0da5bac-fc7a-4cd2-dada-c2dd18dfe1c9"
      },
      "source": [
        "joblib.dump(f,\"/content/drive/MyDrive/台塑輕油案子/data/c620/model/allsystem.pkl\")"
      ],
      "execution_count": null,
      "outputs": [
        {
          "output_type": "execute_result",
          "data": {
            "text/plain": [
              "['/content/drive/MyDrive/台塑輕油案子/data/c620/model/allsystem.pkl']"
            ]
          },
          "metadata": {
            "tags": []
          },
          "execution_count": 1380
        }
      ]
    },
    {
      "cell_type": "code",
      "metadata": {
        "id": "yvR3sfsfm1Od"
      },
      "source": [
        ""
      ],
      "execution_count": null,
      "outputs": []
    }
  ]
}