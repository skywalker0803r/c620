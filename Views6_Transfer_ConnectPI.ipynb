{
 "cells": [
  {
   "cell_type": "code",
   "execution_count": 1,
   "metadata": {},
   "outputs": [
    {
     "output_type": "execute_result",
     "data": {
      "text/plain": [
       "\"\\nimport numpy as np\\nimport pandas as pd\\nimport joblib\\nimport os \\nos.chdir('../c620-main6') #must change the root\\nimport time\\nimport sys \\nimport clr\\nfrom sqlalchemy import create_engine\\nimport pymssql  \\nimport scipy as sp\\npd.options.display.max_rows = None\\n\\nsys.path.append(r'C:\\\\Program Files (x86)\\\\PIPC\\\\AF\\\\PublicAssemblies\\x04.0')    \\nclr.AddReference('OSIsoft.AFSDK')  \\n\\nfrom OSIsoft.AF import *  \\nfrom OSIsoft.AF.PI import *  \\nfrom OSIsoft.AF.Asset import *  \\nfrom OSIsoft.AF.Data import *\\nfrom OSIsoft.AF.Time import *\\nfrom OSIsoft.AF.UnitsOfMeasure import *\\n\""
      ]
     },
     "metadata": {},
     "execution_count": 1
    }
   ],
   "source": [
    "'''\n",
    "import numpy as np\n",
    "import pandas as pd\n",
    "import joblib\n",
    "import os \n",
    "os.chdir('../c620-main6') #must change the root\n",
    "import time\n",
    "import sys \n",
    "import clr\n",
    "from sqlalchemy import create_engine\n",
    "import pymssql  \n",
    "import scipy as sp\n",
    "pd.options.display.max_rows = None\n",
    "\n",
    "sys.path.append(r'C:\\Program Files (x86)\\PIPC\\AF\\PublicAssemblies\\4.0')    \n",
    "clr.AddReference('OSIsoft.AFSDK')  \n",
    "\n",
    "from OSIsoft.AF import *  \n",
    "from OSIsoft.AF.PI import *  \n",
    "from OSIsoft.AF.Asset import *  \n",
    "from OSIsoft.AF.Data import *\n",
    "from OSIsoft.AF.Time import *\n",
    "from OSIsoft.AF.UnitsOfMeasure import *\n",
    "'''"
   ]
  },
  {
   "cell_type": "markdown",
   "metadata": {},
   "source": [
    "# Load the DCS/LIMS data"
   ]
  },
  {
   "cell_type": "code",
   "execution_count": 2,
   "metadata": {},
   "outputs": [
    {
     "output_type": "execute_result",
     "data": {
      "text/plain": [
       "'\\npiServers = PIServers() \\npiServer = piServers.DefaultPIServer;\\ndef PI_current(name):\\n    pt = PIPoint.FindPIPoint(piServer, name)  \\n    timerange = AFTimeRange(\"*\", \"*-4h\")\\n    span = AFTimeSpan.Parse(\"4H\")\\n    result = pt.Summaries(timerange, span, AFSummaryTypes.Average, AFCalculationBasis.TimeWeighted, AFTimestampCalculation.Auto)\\n    return result\\n'"
      ]
     },
     "metadata": {},
     "execution_count": 2
    }
   ],
   "source": [
    "'''\n",
    "piServers = PIServers() \n",
    "piServer = piServers.DefaultPIServer;\n",
    "def PI_current(name):\n",
    "    pt = PIPoint.FindPIPoint(piServer, name)  \n",
    "    timerange = AFTimeRange(\"*\", \"*-4h\")\n",
    "    span = AFTimeSpan.Parse(\"4H\")\n",
    "    result = pt.Summaries(timerange, span, AFSummaryTypes.Average, AFCalculationBasis.TimeWeighted, AFTimestampCalculation.Auto)\n",
    "    return result\n",
    "'''"
   ]
  },
  {
   "cell_type": "code",
   "execution_count": 3,
   "metadata": {},
   "outputs": [
    {
     "output_type": "execute_result",
     "data": {
      "text/plain": [
       "\"\\nTag=['ARO2-DCS-FI61501','ARO2-DCS-FI621A2','ARO2-DCS-FI671A3','ARO2-DCS-FIC62104','ARO2-DCS-FIC62801','ARO2-DCS-FIC62802',\\n     'ARO2-DCS-FIC65301','ARO2-DCS-FIC66501', 'ARO2-DCS-FIC67701','ARO2-DCS-FIC8270A','ARO2-DCS-TI62701','ARO2-DCS-TI660A2',\\n     'ARO2-DCS-TI660B2','ARO2-DCS-TI6700A','ARO2-DCS-TIC62003','ARO2-DCS-TIC62006','ARO2-DCS-TIC67007','ARO2-LIMS-S601@A10+',\\n     'ARO2-LIMS-S601@A9','ARO2-LIMS-S601@BZ','ARO2-LIMS-S601@EB','ARO2-LIMS-S601@MX','ARO2-LIMS-S601@NA','ARO2-LIMS-S601@OX',\\n     'ARO2-LIMS-S601@PX','ARO2-LIMS-S601@TOL','ARO2-LIMS-S604@BZ','ARO2-LIMS-S604@NA','ARO2-LIMS-S604@TOL','ARO2-LIMS-S610@A10+',\\n     'ARO2-LIMS-S610@A9','ARO2-LIMS-S610@BZ','ARO2-LIMS-S610@EB','ARO2-LIMS-S610@MX','ARO2-LIMS-S610@NA','ARO2-LIMS-S610@OX',\\n     'ARO2-LIMS-S610@PX','ARO2-LIMS-S610@TOL','ARO2-LIMS-S622@A10','ARO2-LIMS-S622@A11+','ARO2-LIMS-S622@A9','ARO2-LIMS-S622@BZ',\\n     'ARO2-LIMS-S622@EB','ARO2-LIMS-S622@MX','ARO2-LIMS-S622@NA','ARO2-LIMS-S622@OX','ARO2-LIMS-S622@PX','ARO2-LIMS-S622@TOL',\\n     'ARO2-LIMS-S623@A10+','ARO2-LIMS-S623@A9','ARO2-LIMS-S623@BZ','ARO2-LIMS-S623@EB','ARO2-LIMS-S623@Gravity','ARO2-LIMS-S623@MX',\\n     'ARO2-LIMS-S623@NA','ARO2-LIMS-S623@OX','ARO2-LIMS-S623@PX','ARO2-LIMS-S623@TOL','ARO2-LIMS-S624@A10', 'ARO2-LIMS-S624@A11+',\\n    'ARO2-LIMS-S624@A9','ARO2-LIMS-S624@BZ','ARO2-LIMS-S624@EB','ARO2-LIMS-S624@Gravity','ARO2-LIMS-S624@MX','ARO2-LIMS-S624@NA',\\n     'ARO2-LIMS-S624@OX','ARO2-LIMS-S624@PX','ARO2-LIMS-S624@TOL','ARO2-LIMS-S808@A10+','ARO2-LIMS-S808@A9','ARO2-LIMS-S808@BZ',\\n     'ARO2-LIMS-S808@EB','ARO2-LIMS-S808@MX','ARO2-LIMS-S808@NA','ARO2-LIMS-S808@OX','ARO2-LIMS-S808@PX','ARO2-LIMS-S808@TOL',\\n     \\n]\\nx0_list = [[],[],[],[],[],[],[],[],[],[],[],[],[],[],[],[],[],[],[],[],[],[],[],[],[],[],[],[],[],[],[],[],[],[],[]\\n           ,[],[],[],[],[],[],[],[],[],[],[],[],[],[],[],[],[],[],[],[],[],[],[],[],[],[],[],[],[],[],[],[],[],[],[],\\n            [],[],[],[],[],[],[],[],]\\nfor x in range(len(x0_list)):\\n    for summary in PI_current(Tag[x]): \\n        for event in summary.Value:\\n            x0_list[x].append(event.Value)\\n\""
      ]
     },
     "metadata": {},
     "execution_count": 3
    }
   ],
   "source": [
    "'''\n",
    "Tag=['ARO2-DCS-FI61501','ARO2-DCS-FI621A2','ARO2-DCS-FI671A3','ARO2-DCS-FIC62104','ARO2-DCS-FIC62801','ARO2-DCS-FIC62802',\n",
    "     'ARO2-DCS-FIC65301','ARO2-DCS-FIC66501', 'ARO2-DCS-FIC67701','ARO2-DCS-FIC8270A','ARO2-DCS-TI62701','ARO2-DCS-TI660A2',\n",
    "     'ARO2-DCS-TI660B2','ARO2-DCS-TI6700A','ARO2-DCS-TIC62003','ARO2-DCS-TIC62006','ARO2-DCS-TIC67007','ARO2-LIMS-S601@A10+',\n",
    "     'ARO2-LIMS-S601@A9','ARO2-LIMS-S601@BZ','ARO2-LIMS-S601@EB','ARO2-LIMS-S601@MX','ARO2-LIMS-S601@NA','ARO2-LIMS-S601@OX',\n",
    "     'ARO2-LIMS-S601@PX','ARO2-LIMS-S601@TOL','ARO2-LIMS-S604@BZ','ARO2-LIMS-S604@NA','ARO2-LIMS-S604@TOL','ARO2-LIMS-S610@A10+',\n",
    "     'ARO2-LIMS-S610@A9','ARO2-LIMS-S610@BZ','ARO2-LIMS-S610@EB','ARO2-LIMS-S610@MX','ARO2-LIMS-S610@NA','ARO2-LIMS-S610@OX',\n",
    "     'ARO2-LIMS-S610@PX','ARO2-LIMS-S610@TOL','ARO2-LIMS-S622@A10','ARO2-LIMS-S622@A11+','ARO2-LIMS-S622@A9','ARO2-LIMS-S622@BZ',\n",
    "     'ARO2-LIMS-S622@EB','ARO2-LIMS-S622@MX','ARO2-LIMS-S622@NA','ARO2-LIMS-S622@OX','ARO2-LIMS-S622@PX','ARO2-LIMS-S622@TOL',\n",
    "     'ARO2-LIMS-S623@A10+','ARO2-LIMS-S623@A9','ARO2-LIMS-S623@BZ','ARO2-LIMS-S623@EB','ARO2-LIMS-S623@Gravity','ARO2-LIMS-S623@MX',\n",
    "     'ARO2-LIMS-S623@NA','ARO2-LIMS-S623@OX','ARO2-LIMS-S623@PX','ARO2-LIMS-S623@TOL','ARO2-LIMS-S624@A10', 'ARO2-LIMS-S624@A11+',\n",
    "    'ARO2-LIMS-S624@A9','ARO2-LIMS-S624@BZ','ARO2-LIMS-S624@EB','ARO2-LIMS-S624@Gravity','ARO2-LIMS-S624@MX','ARO2-LIMS-S624@NA',\n",
    "     'ARO2-LIMS-S624@OX','ARO2-LIMS-S624@PX','ARO2-LIMS-S624@TOL','ARO2-LIMS-S808@A10+','ARO2-LIMS-S808@A9','ARO2-LIMS-S808@BZ',\n",
    "     'ARO2-LIMS-S808@EB','ARO2-LIMS-S808@MX','ARO2-LIMS-S808@NA','ARO2-LIMS-S808@OX','ARO2-LIMS-S808@PX','ARO2-LIMS-S808@TOL',\n",
    "     \n",
    "]\n",
    "x0_list = [[],[],[],[],[],[],[],[],[],[],[],[],[],[],[],[],[],[],[],[],[],[],[],[],[],[],[],[],[],[],[],[],[],[],[]\n",
    "           ,[],[],[],[],[],[],[],[],[],[],[],[],[],[],[],[],[],[],[],[],[],[],[],[],[],[],[],[],[],[],[],[],[],[],[],\n",
    "            [],[],[],[],[],[],[],[],]\n",
    "for x in range(len(x0_list)):\n",
    "    for summary in PI_current(Tag[x]): \n",
    "        for event in summary.Value:\n",
    "            x0_list[x].append(event.Value)\n",
    "'''"
   ]
  },
  {
   "cell_type": "code",
   "execution_count": 4,
   "metadata": {},
   "outputs": [],
   "source": [
    "# range(len(x0_list))\n",
    "# list(range(len(x0_list)))"
   ]
  },
  {
   "cell_type": "code",
   "execution_count": 5,
   "metadata": {},
   "outputs": [
    {
     "output_type": "execute_result",
     "data": {
      "text/plain": [
       "'\\nfor x in range(len(x0_list)):\\n    for summary in Tag[x]:\\n        for event in summary.value:\\n            x0_list.append(event.value)\\n'"
      ]
     },
     "metadata": {},
     "execution_count": 5
    }
   ],
   "source": [
    "'''\n",
    "for x in range(len(x0_list)):\n",
    "    for summary in Tag[x]:\n",
    "        for event in summary.value:\n",
    "            x0_list.append(event.value)\n",
    "'''"
   ]
  },
  {
   "cell_type": "code",
   "execution_count": 6,
   "metadata": {},
   "outputs": [
    {
     "output_type": "execute_result",
     "data": {
      "text/plain": [
       "\"\\nsqlite_dict= ({'ARO2_DCS_FI61501': x0_list[0], 'ARO2_DCS_FI621A2': x0_list[1], 'ARO2_DCS_FI671A3': x0_list[2], 'ARO2_DCS_FIC62104': x0_list[3], 'ARO2_DCS_FIC62801': x0_list[4], 'ARO2_DCS_FIC62802': x0_list[5],\\n              'ARO2_DCS_FIC65301': x0_list[6], 'ARO2_DCS_FIC66501': x0_list[7], 'ARO2_DCS_FIC67701': x0_list[8], 'ARO2_DCS_FIC8270A':x0_list[9],'ARO2_DCS_TI62701': x0_list[10], 'ARO2-DCS-TI660A2': x0_list[11],\\n            'ARO2_DCS_TI660B2': x0_list[12], 'ARO2_DCS_TI6700A': x0_list[13], 'ARO2_DCS_TIC62003': x0_list[14], 'ARO2_DCS_TIC62006': x0_list[15], 'ARO2_DCS_TIC67007': x0_list[16], 'ARO2_LIMS_S601_A10+': x0_list[17], \\n              'ARO2_LIMS_S601_A9': x0_list[18], 'ARO2_LIMS_S601_BZ': x0_list[19], 'ARO2_LIMS_S601_EB': x0_list[20], 'ARO2_LIMS_S601_MX': x0_list[21], 'ARO2_LIMS_S601_NA': x0_list[22], 'ARO2_LIMS_S601_OX': x0_list[23], \\n              'ARO2_LIMS_S601_PX': x0_list[24], 'ARO2_LIMS_S601_TOL': x0_list[25],'ARO2_LIMS_S604_BZ': x0_list[26], 'ARO2_LIMS_S604_NA': x0_list[27], 'ARO2_LIMS_S604_TOL': x0_list[28], 'ARO2_LIMS_S610_A10+': x0_list[29],\\n             'ARO2_LIMS_S610_A9':  x0_list[30], 'ARO2_LIMS_S610_BZ':x0_list[31], 'ARO2_LIMS_S610_EB': x0_list[32], 'ARO2_LIMS_S610_MX': x0_list[33], 'ARO2_LIMS_S610_NA': x0_list[34], 'ARO2_LIMS_S610_OX': x0_list[35], \\n              'ARO2_LIMS_S610_PX': x0_list[36], 'ARO2_LIMS_S610_TOL': x0_list[37], 'ARO2_LIMS_S622_A10': x0_list[38], 'ARO2_LIMS_S622_A11+': x0_list[39], 'ARO2_LIMS_S622_A9': x0_list[40], 'ARO2_LIMS_S622_BZ': x0_list[41], \\n              'ARO2_LIMS_S622_EB': x0_list[42], 'ARO2_LIMS_S622_MX':  x0_list[43], 'ARO2_LIMS_S622_NA':  x0_list[44], 'ARO2_LIMS_S622_OX':  x0_list[45], 'ARO2_LIMS_S622_PX':  x0_list[46], 'ARO2_LIMS_S622_TOL':  x0_list[47], \\n              'ARO2_LIMS_S623_A10+': x0_list[48], 'ARO2_LIMS_S623_A9':x0_list[49], 'ARO2_LIMS_S623_BZ': x0_list[50], 'ARO2_LIMS_S623_EB':x0_list[51], 'ARO2_LIMS_S623_Gravity': x0_list[52], 'ARO2_LIMS_S623_MX': x0_list[53], \\n              'ARO2_LIMS_S623_NA':  x0_list[54], 'ARO2_LIMS_S623_OX':  x0_list[55], 'ARO2_LIMS_S623_PX': x0_list[56], 'ARO2_LIMS_S623_TOL': x0_list[57], 'ARO2_LIMS_S624_A10': x0_list[58], 'ARO2_LIMS_S624_A11+': x0_list[59], \\n              'ARO2_LIMS_S624_A9':  x0_list[60], 'ARO2_LIMS_S624_BZ': x0_list[61], 'ARO2_LIMS_S624_EB': x0_list[62], 'ARO2_LIMS_S624_Gravity': x0_list[63], 'ARO2_LIMS_S624_MX': x0_list[64], 'ARO2_LIMS_S624_NA': x0_list[65], \\n              'ARO2_LIMS_S624_OX': x0_list[66], 'ARO2_LIMS_S624_PX': x0_list[67], 'ARO2_LIMS_S624_TOL': x0_list[68], 'ARO2_LIMS_S808_A10+': x0_list[69], 'ARO2_LIMS_S808_A9': x0_list[70],'ARO2_LIMS_S808_BZ': x0_list[71],\\n             'ARO2_LIMS_S808_EB': x0_list[72], 'ARO2_LIMS_S808_MX': x0_list[73], 'ARO2_LIMS_S808_NA': x0_list[74], 'ARO2_LIMS_S808_OX': x0_list[75], 'ARO2_LIMS_S808_PX': x0_list[76], 'ARO2_LIMS_S808_TOL': x0_list[77],\\n              })\\nsqlite_dict\\n\""
      ]
     },
     "metadata": {},
     "execution_count": 6
    }
   ],
   "source": [
    "'''\n",
    "sqlite_dict= ({'ARO2_DCS_FI61501': x0_list[0], 'ARO2_DCS_FI621A2': x0_list[1], 'ARO2_DCS_FI671A3': x0_list[2], 'ARO2_DCS_FIC62104': x0_list[3], 'ARO2_DCS_FIC62801': x0_list[4], 'ARO2_DCS_FIC62802': x0_list[5],\n",
    "              'ARO2_DCS_FIC65301': x0_list[6], 'ARO2_DCS_FIC66501': x0_list[7], 'ARO2_DCS_FIC67701': x0_list[8], 'ARO2_DCS_FIC8270A':x0_list[9],'ARO2_DCS_TI62701': x0_list[10], 'ARO2-DCS-TI660A2': x0_list[11],\n",
    "            'ARO2_DCS_TI660B2': x0_list[12], 'ARO2_DCS_TI6700A': x0_list[13], 'ARO2_DCS_TIC62003': x0_list[14], 'ARO2_DCS_TIC62006': x0_list[15], 'ARO2_DCS_TIC67007': x0_list[16], 'ARO2_LIMS_S601_A10+': x0_list[17], \n",
    "              'ARO2_LIMS_S601_A9': x0_list[18], 'ARO2_LIMS_S601_BZ': x0_list[19], 'ARO2_LIMS_S601_EB': x0_list[20], 'ARO2_LIMS_S601_MX': x0_list[21], 'ARO2_LIMS_S601_NA': x0_list[22], 'ARO2_LIMS_S601_OX': x0_list[23], \n",
    "              'ARO2_LIMS_S601_PX': x0_list[24], 'ARO2_LIMS_S601_TOL': x0_list[25],'ARO2_LIMS_S604_BZ': x0_list[26], 'ARO2_LIMS_S604_NA': x0_list[27], 'ARO2_LIMS_S604_TOL': x0_list[28], 'ARO2_LIMS_S610_A10+': x0_list[29],\n",
    "             'ARO2_LIMS_S610_A9':  x0_list[30], 'ARO2_LIMS_S610_BZ':x0_list[31], 'ARO2_LIMS_S610_EB': x0_list[32], 'ARO2_LIMS_S610_MX': x0_list[33], 'ARO2_LIMS_S610_NA': x0_list[34], 'ARO2_LIMS_S610_OX': x0_list[35], \n",
    "              'ARO2_LIMS_S610_PX': x0_list[36], 'ARO2_LIMS_S610_TOL': x0_list[37], 'ARO2_LIMS_S622_A10': x0_list[38], 'ARO2_LIMS_S622_A11+': x0_list[39], 'ARO2_LIMS_S622_A9': x0_list[40], 'ARO2_LIMS_S622_BZ': x0_list[41], \n",
    "              'ARO2_LIMS_S622_EB': x0_list[42], 'ARO2_LIMS_S622_MX':  x0_list[43], 'ARO2_LIMS_S622_NA':  x0_list[44], 'ARO2_LIMS_S622_OX':  x0_list[45], 'ARO2_LIMS_S622_PX':  x0_list[46], 'ARO2_LIMS_S622_TOL':  x0_list[47], \n",
    "              'ARO2_LIMS_S623_A10+': x0_list[48], 'ARO2_LIMS_S623_A9':x0_list[49], 'ARO2_LIMS_S623_BZ': x0_list[50], 'ARO2_LIMS_S623_EB':x0_list[51], 'ARO2_LIMS_S623_Gravity': x0_list[52], 'ARO2_LIMS_S623_MX': x0_list[53], \n",
    "              'ARO2_LIMS_S623_NA':  x0_list[54], 'ARO2_LIMS_S623_OX':  x0_list[55], 'ARO2_LIMS_S623_PX': x0_list[56], 'ARO2_LIMS_S623_TOL': x0_list[57], 'ARO2_LIMS_S624_A10': x0_list[58], 'ARO2_LIMS_S624_A11+': x0_list[59], \n",
    "              'ARO2_LIMS_S624_A9':  x0_list[60], 'ARO2_LIMS_S624_BZ': x0_list[61], 'ARO2_LIMS_S624_EB': x0_list[62], 'ARO2_LIMS_S624_Gravity': x0_list[63], 'ARO2_LIMS_S624_MX': x0_list[64], 'ARO2_LIMS_S624_NA': x0_list[65], \n",
    "              'ARO2_LIMS_S624_OX': x0_list[66], 'ARO2_LIMS_S624_PX': x0_list[67], 'ARO2_LIMS_S624_TOL': x0_list[68], 'ARO2_LIMS_S808_A10+': x0_list[69], 'ARO2_LIMS_S808_A9': x0_list[70],'ARO2_LIMS_S808_BZ': x0_list[71],\n",
    "             'ARO2_LIMS_S808_EB': x0_list[72], 'ARO2_LIMS_S808_MX': x0_list[73], 'ARO2_LIMS_S808_NA': x0_list[74], 'ARO2_LIMS_S808_OX': x0_list[75], 'ARO2_LIMS_S808_PX': x0_list[76], 'ARO2_LIMS_S808_TOL': x0_list[77],\n",
    "              })\n",
    "sqlite_dict\n",
    "'''"
   ]
  },
  {
   "cell_type": "code",
   "execution_count": 7,
   "metadata": {},
   "outputs": [],
   "source": [
    "sqlite_dict = {'ARO2_DCS_FI61501': [179.11896663780595],\n",
    " 'ARO2_DCS_FI621A2': [983.5121525745467],\n",
    " 'ARO2_DCS_FI671A3': [2484.6111883022904],\n",
    " 'ARO2_DCS_FIC62104': [37.64221664292652],\n",
    " 'ARO2_DCS_FIC62801': [113.82300421356918],\n",
    " 'ARO2_DCS_FIC62802': [0.0],\n",
    " 'ARO2_DCS_FIC65301': [113.3689636893472],\n",
    " 'ARO2_DCS_FIC66501': [156.98126501787442],\n",
    " 'ARO2_DCS_FIC67701': [375.7814948285392],\n",
    " 'ARO2_DCS_FIC8270A': [19.339881278365436],\n",
    " 'ARO2_DCS_TI62701': [42.28831387287955],\n",
    " 'ARO2-DCS-TI660A2': [88.99486046250429],\n",
    " 'ARO2_DCS_TI660B2': [90.86455192624352],\n",
    " 'ARO2_DCS_TI6700A': [226.63979308776942],\n",
    " 'ARO2_DCS_TIC62003': [163.64815832826483],\n",
    " 'ARO2_DCS_TIC62006': [181.5933000093269],\n",
    " 'ARO2_DCS_TIC67007': [200.30058750346305],\n",
    " 'ARO2_LIMS_S601_A10+': [0.000699999975040555],\n",
    " 'ARO2_LIMS_S601_A9': [0.004100000020116568],\n",
    " 'ARO2_LIMS_S601_BZ': [45.24599838256836],\n",
    " 'ARO2_LIMS_S601_EB': [7.520500183105469],\n",
    " 'ARO2_LIMS_S601_MX': [3.463200092315674],\n",
    " 'ARO2_LIMS_S601_NA': [0.5958999991416931],\n",
    " 'ARO2_LIMS_S601_OX': [0.7685999870300293],\n",
    " 'ARO2_LIMS_S601_PX': [1.4729000329971313],\n",
    " 'ARO2_LIMS_S601_TOL': [40.926998138427734],\n",
    " 'ARO2_LIMS_S604_BZ': [99.93099975585938],\n",
    " 'ARO2_LIMS_S604_NA': [620.0],\n",
    " 'ARO2_LIMS_S604_TOL': [56.0],\n",
    " 'ARO2_LIMS_S610_A10+': [5.1519999504089355],\n",
    " 'ARO2_LIMS_S610_A9': [20.45199966430664],\n",
    " 'ARO2_LIMS_S610_BZ': [0.0006000000284984708],\n",
    " 'ARO2_LIMS_S610_EB': [9.90999984741211],\n",
    " 'ARO2_LIMS_S610_MX': [34.47200012207031],\n",
    " 'ARO2_LIMS_S610_NA': [0.31700000166893005],\n",
    " 'ARO2_LIMS_S610_OX': [13.793000221252441],\n",
    " 'ARO2_LIMS_S610_PX': [15.873000144958496],\n",
    " 'ARO2_LIMS_S610_TOL': [0.027000000700354576],\n",
    " 'ARO2_LIMS_S622_A10': [1.9190000295639038],\n",
    " 'ARO2_LIMS_S622_A11+': [1.6440000534057617],\n",
    " 'ARO2_LIMS_S622_A9': [13.569000244140625],\n",
    " 'ARO2_LIMS_S622_BZ': [0.125],\n",
    " 'ARO2_LIMS_S622_EB': [1.343999981880188],\n",
    " 'ARO2_LIMS_S622_MX': [20.349000930786133],\n",
    " 'ARO2_LIMS_S622_NA': [0.05000000074505806],\n",
    " 'ARO2_LIMS_S622_OX': [8.602999687194824],\n",
    " 'ARO2_LIMS_S622_PX': [9.465999603271484],\n",
    " 'ARO2_LIMS_S622_TOL': [42.92499923706055],\n",
    " 'ARO2_LIMS_S623_A10+': [0.0],\n",
    " 'ARO2_LIMS_S623_A9': [0.00039999998989515007],\n",
    " 'ARO2_LIMS_S623_BZ': [80.55799865722656],\n",
    " 'ARO2_LIMS_S623_EB': [0.0010000000474974513],\n",
    " 'ARO2_LIMS_S623_Gravity': [0.8803200125694275],\n",
    " 'ARO2_LIMS_S623_MX': [0.008999999612569809],\n",
    " 'ARO2_LIMS_S623_NA': [0.42399999499320984],\n",
    " 'ARO2_LIMS_S623_OX': [0.0010000000474974513],\n",
    " 'ARO2_LIMS_S623_PX': [0.004999999888241291],\n",
    " 'ARO2_LIMS_S623_TOL': [18.999000549316406],\n",
    " 'ARO2_LIMS_S624_A10': [1.7289999723434448],\n",
    " 'ARO2_LIMS_S624_A11+': [1.3029999732971191],\n",
    " 'ARO2_LIMS_S624_A9': [11.638999938964844],\n",
    " 'ARO2_LIMS_S624_BZ': [12.414999961853027],\n",
    " 'ARO2_LIMS_S624_EB': [1.0540000200271606],\n",
    " 'ARO2_LIMS_S624_Gravity': [0.8679599761962891],\n",
    " 'ARO2_LIMS_S624_MX': [16.812000274658203],\n",
    " 'ARO2_LIMS_S624_NA': [1.7120000123977661],\n",
    " 'ARO2_LIMS_S624_OX': [7.311999797821045],\n",
    " 'ARO2_LIMS_S624_PX': [7.757999897003174],\n",
    " 'ARO2_LIMS_S624_TOL': [38.25899887084961],\n",
    " 'ARO2_LIMS_S808_A10+': [0.0],\n",
    " 'ARO2_LIMS_S808_A9': [0.0005000000237487257],\n",
    " 'ARO2_LIMS_S808_BZ': [68.76399993896484],\n",
    " 'ARO2_LIMS_S808_EB': [0.8230000138282776],\n",
    " 'ARO2_LIMS_S808_MX': [5.460999965667725],\n",
    " 'ARO2_LIMS_S808_NA': [1.9769999980926514],\n",
    " 'ARO2_LIMS_S808_OX': [0.5239999890327454],\n",
    " 'ARO2_LIMS_S808_PX': [3.0899999141693115],\n",
    " 'ARO2_LIMS_S808_TOL': [19.35700035095215]}"
   ]
  },
  {
   "cell_type": "code",
   "execution_count": 8,
   "metadata": {},
   "outputs": [
    {
     "output_type": "execute_result",
     "data": {
      "text/plain": [
       "                   TAG                 Value\n",
       "0     ARO2_DCS_FI61501  [179.11896663780595]\n",
       "1     ARO2_DCS_FI621A2   [983.5121525745467]\n",
       "2     ARO2_DCS_FI671A3  [2484.6111883022904]\n",
       "3    ARO2_DCS_FIC62104   [37.64221664292652]\n",
       "4    ARO2_DCS_FIC62801  [113.82300421356918]\n",
       "..                 ...                   ...\n",
       "73   ARO2_LIMS_S808_MX   [5.460999965667725]\n",
       "74   ARO2_LIMS_S808_NA  [1.9769999980926514]\n",
       "75   ARO2_LIMS_S808_OX  [0.5239999890327454]\n",
       "76   ARO2_LIMS_S808_PX  [3.0899999141693115]\n",
       "77  ARO2_LIMS_S808_TOL   [19.35700035095215]\n",
       "\n",
       "[78 rows x 2 columns]"
      ],
      "text/html": "<div>\n<style scoped>\n    .dataframe tbody tr th:only-of-type {\n        vertical-align: middle;\n    }\n\n    .dataframe tbody tr th {\n        vertical-align: top;\n    }\n\n    .dataframe thead th {\n        text-align: right;\n    }\n</style>\n<table border=\"1\" class=\"dataframe\">\n  <thead>\n    <tr style=\"text-align: right;\">\n      <th></th>\n      <th>TAG</th>\n      <th>Value</th>\n    </tr>\n  </thead>\n  <tbody>\n    <tr>\n      <th>0</th>\n      <td>ARO2_DCS_FI61501</td>\n      <td>[179.11896663780595]</td>\n    </tr>\n    <tr>\n      <th>1</th>\n      <td>ARO2_DCS_FI621A2</td>\n      <td>[983.5121525745467]</td>\n    </tr>\n    <tr>\n      <th>2</th>\n      <td>ARO2_DCS_FI671A3</td>\n      <td>[2484.6111883022904]</td>\n    </tr>\n    <tr>\n      <th>3</th>\n      <td>ARO2_DCS_FIC62104</td>\n      <td>[37.64221664292652]</td>\n    </tr>\n    <tr>\n      <th>4</th>\n      <td>ARO2_DCS_FIC62801</td>\n      <td>[113.82300421356918]</td>\n    </tr>\n    <tr>\n      <th>...</th>\n      <td>...</td>\n      <td>...</td>\n    </tr>\n    <tr>\n      <th>73</th>\n      <td>ARO2_LIMS_S808_MX</td>\n      <td>[5.460999965667725]</td>\n    </tr>\n    <tr>\n      <th>74</th>\n      <td>ARO2_LIMS_S808_NA</td>\n      <td>[1.9769999980926514]</td>\n    </tr>\n    <tr>\n      <th>75</th>\n      <td>ARO2_LIMS_S808_OX</td>\n      <td>[0.5239999890327454]</td>\n    </tr>\n    <tr>\n      <th>76</th>\n      <td>ARO2_LIMS_S808_PX</td>\n      <td>[3.0899999141693115]</td>\n    </tr>\n    <tr>\n      <th>77</th>\n      <td>ARO2_LIMS_S808_TOL</td>\n      <td>[19.35700035095215]</td>\n    </tr>\n  </tbody>\n</table>\n<p>78 rows × 2 columns</p>\n</div>"
     },
     "metadata": {},
     "execution_count": 8
    }
   ],
   "source": [
    "import pandas as pd\n",
    "sqlite_dict_df = pd.DataFrame(list(sqlite_dict.items()),columns=['TAG','Value'])\n",
    "# sqlite_dict_df['ARO2_DCS_FIC67701']\n",
    "sqlite_dict_df"
   ]
  },
  {
   "cell_type": "markdown",
   "metadata": {},
   "source": [
    "## C620 inpute composition combination"
   ]
  },
  {
   "cell_type": "code",
   "execution_count": 9,
   "metadata": {},
   "outputs": [],
   "source": [
    "def c620_composition_combination(S808,S624):\n",
    "    return (sqlite_dict['ARO2_DCS_FIC8270A'][0]*873.1*S808[0] + 862.6*sqlite_dict['ARO2_DCS_FI61501'][0]*S624[0])/(862.6*sqlite_dict['ARO2_DCS_FI61501'][0]+sqlite_dict['ARO2_DCS_FIC8270A'][0]*873.1)"
   ]
  },
  {
   "cell_type": "code",
   "execution_count": 10,
   "metadata": {},
   "outputs": [],
   "source": [
    "C620_input_dict = dict({\n",
    "    'C620_NA':c620_composition_combination(sqlite_dict['ARO2_LIMS_S808_NA'],sqlite_dict['ARO2_LIMS_S624_NA']),\n",
    "    'C620_BZ':c620_composition_combination(sqlite_dict['ARO2_LIMS_S808_BZ'],sqlite_dict['ARO2_LIMS_S624_BZ']),\n",
    "    'C620_TOL':c620_composition_combination(sqlite_dict['ARO2_LIMS_S808_TOL'],sqlite_dict['ARO2_LIMS_S624_TOL']),\n",
    "    'C620_EB':c620_composition_combination(sqlite_dict['ARO2_LIMS_S808_EB'],sqlite_dict['ARO2_LIMS_S624_EB']),\n",
    "    'C620_PX':c620_composition_combination(sqlite_dict['ARO2_LIMS_S808_PX'],sqlite_dict['ARO2_LIMS_S624_PX']),\n",
    "    'C620_MX':c620_composition_combination(sqlite_dict['ARO2_LIMS_S808_MX'],sqlite_dict['ARO2_LIMS_S624_MX']),\n",
    "    'C620_OX':c620_composition_combination(sqlite_dict['ARO2_LIMS_S808_OX'],sqlite_dict['ARO2_LIMS_S624_OX']),\n",
    "    'C620_A9':c620_composition_combination(sqlite_dict['ARO2_LIMS_S808_A9'],sqlite_dict['ARO2_LIMS_S624_A9']),\n",
    "    'C620_A10':(sqlite_dict['ARO2_DCS_FIC8270A'][0]*873.1*sqlite_dict['ARO2_LIMS_S808_A10+'][0] + 862.6*sqlite_dict['ARO2_DCS_FI61501'][0]*sqlite_dict['ARO2_LIMS_S624_A10'][0] + 862.6*sqlite_dict['ARO2_DCS_FI61501'][0]*sqlite_dict['ARO2_LIMS_S624_A11+'][0])/(862.6*sqlite_dict['ARO2_DCS_FI61501'][0]+sqlite_dict['ARO2_DCS_FIC8270A'][0]*873.1),\n",
    "})"
   ]
  },
  {
   "cell_type": "code",
   "execution_count": 11,
   "metadata": {},
   "outputs": [
    {
     "output_type": "execute_result",
     "data": {
      "text/plain": [
       "{'C620_NA': 1.7381077273117909,\n",
       " 'C620_BZ': 17.966485646786804,\n",
       " 'C620_TOL': 36.39677994518149,\n",
       " 'C620_EB': 1.031241972357218,\n",
       " 'C620_PX': 7.298110012666285,\n",
       " 'C620_MX': 15.693703308418604,\n",
       " 'C620_OX': 6.643248200044191,\n",
       " 'C620_A9': 10.49237859996365,\n",
       " 'C620_A10': 2.7332882683831055}"
      ]
     },
     "metadata": {},
     "execution_count": 11
    }
   ],
   "source": [
    "C620_input_dict"
   ]
  },
  {
   "cell_type": "markdown",
   "metadata": {},
   "source": [
    "# C620 diving into 41 composition"
   ]
  },
  {
   "cell_type": "code",
   "execution_count": 12,
   "metadata": {},
   "outputs": [],
   "source": [
    "split = dict({'Methane':[0.019,0],'Ethane':[0.458,0],'Propane':[0.403,0.1108],'n_Butane':[0.097,0.1724],'n_Pentane':[0.018,0.2728],'n_Hexane':[0.004,0.0563],\n",
    "             'Cyclohexane':[0,0.0386],'n_Heptane':[0.002,0.0667],'Methylcyclohexane':[0,0.0618],'n_Octane':[0,0.0409],'n_Propylcyclopentane':[0,0.0483],'Ethylcyclohexane':[0,0.0483],'n_Nonane':[0,0.07],\n",
    "              'i_Propylbenzene':[0.001,0],'n_Propylcyclohexane':[0,0.0131],'n_Propylbenzene':[0.001,0],'1_Methyl_3_ethylbenzene':[0.078,0.2],'1_Methyl_4_ethylbenzene':[0.041,0.2],'135_Trimethylbenzene':[0.215,0.4],'1_Methyl_2_ethylbenzene':[0.023,0.1],'124_Trimethylbenzene':[0.549,0.1],'tert_Butylcyclohexane':[0,0],'123_Trimethylbenzene':[0.088,0],'Indane':[0.003,0],'1_Methyl_4_n_propylbenzene':[0.0004,0.8],'12_Diethylbenzene':[0.0119,0.2],'5_Ethyl_m_xylene':[0.4591,0],'14_Diethylbenzene':[0,0],'1235_Tetramethylbenzene':[0.5286,0],'n_Pentylbenzene':[0.7,0],'n_Hexylbenzene':[0.3,0]})"
   ]
  },
  {
   "cell_type": "code",
   "execution_count": 13,
   "metadata": {},
   "outputs": [
    {
     "output_type": "execute_result",
     "data": {
      "text/plain": [
       "{'Methane': [0.019, 0],\n",
       " 'Ethane': [0.458, 0],\n",
       " 'Propane': [0.403, 0.1108],\n",
       " 'n_Butane': [0.097, 0.1724],\n",
       " 'n_Pentane': [0.018, 0.2728],\n",
       " 'n_Hexane': [0.004, 0.0563],\n",
       " 'Cyclohexane': [0, 0.0386],\n",
       " 'n_Heptane': [0.002, 0.0667],\n",
       " 'Methylcyclohexane': [0, 0.0618],\n",
       " 'n_Octane': [0, 0.0409],\n",
       " 'n_Propylcyclopentane': [0, 0.0483],\n",
       " 'Ethylcyclohexane': [0, 0.0483],\n",
       " 'n_Nonane': [0, 0.07],\n",
       " 'i_Propylbenzene': [0.001, 0],\n",
       " 'n_Propylcyclohexane': [0, 0.0131],\n",
       " 'n_Propylbenzene': [0.001, 0],\n",
       " '1_Methyl_3_ethylbenzene': [0.078, 0.2],\n",
       " '1_Methyl_4_ethylbenzene': [0.041, 0.2],\n",
       " '135_Trimethylbenzene': [0.215, 0.4],\n",
       " '1_Methyl_2_ethylbenzene': [0.023, 0.1],\n",
       " '124_Trimethylbenzene': [0.549, 0.1],\n",
       " 'tert_Butylcyclohexane': [0, 0],\n",
       " '123_Trimethylbenzene': [0.088, 0],\n",
       " 'Indane': [0.003, 0],\n",
       " '1_Methyl_4_n_propylbenzene': [0.0004, 0.8],\n",
       " '12_Diethylbenzene': [0.0119, 0.2],\n",
       " '5_Ethyl_m_xylene': [0.4591, 0],\n",
       " '14_Diethylbenzene': [0, 0],\n",
       " '1235_Tetramethylbenzene': [0.5286, 0],\n",
       " 'n_Pentylbenzene': [0.7, 0],\n",
       " 'n_Hexylbenzene': [0.3, 0]}"
      ]
     },
     "metadata": {},
     "execution_count": 13
    }
   ],
   "source": [
    "split"
   ]
  },
  {
   "cell_type": "code",
   "execution_count": 14,
   "metadata": {},
   "outputs": [],
   "source": [
    "def c620_break(V615,C820,composition):\n",
    "    return (0.8626*sqlite_dict['ARO2_DCS_FI61501'][0]*sqlite_dict[V615][0]*split[composition][0] + sqlite_dict['ARO2_DCS_FIC8270A'][0]*0.8731*sqlite_dict[C820][0]*split[composition][1])/(0.8626*sqlite_dict['ARO2_DCS_FI61501'][0] + sqlite_dict['ARO2_DCS_FIC8270A'][0]*0.8731)"
   ]
  },
  {
   "cell_type": "code",
   "execution_count": 15,
   "metadata": {},
   "outputs": [],
   "source": [
    "c620_feed_dict = dict({\n",
    "    'Hydrogen':0,\n",
    "    'Methane':c620_break('ARO2_LIMS_S624_NA','ARO2_LIMS_S808_NA','Methane'),\n",
    "    'Ethane':c620_break('ARO2_LIMS_S624_NA','ARO2_LIMS_S808_NA','Ethane'),\n",
    "    'Propane':c620_break('ARO2_LIMS_S624_NA','ARO2_LIMS_S808_NA','Propane'),\n",
    "    'n_Butane':c620_break('ARO2_LIMS_S624_NA','ARO2_LIMS_S808_NA','n_Butane'),\n",
    "    'n_Pentane':c620_break('ARO2_LIMS_S624_NA','ARO2_LIMS_S808_NA','n_Pentane'),\n",
    "    'n_Hexane':c620_break('ARO2_LIMS_S624_NA','ARO2_LIMS_S808_NA','n_Hexane'),\n",
    "    'Benzene':C620_input_dict['C620_BZ'],\n",
    "    'Cyclohexane':c620_break('ARO2_LIMS_S624_NA','ARO2_LIMS_S808_NA','Cyclohexane'),\n",
    "    'n_Heptane':c620_break('ARO2_LIMS_S624_NA','ARO2_LIMS_S808_NA','n_Heptane'),\n",
    "    'Water':0,\n",
    "    'Methylcyclohexane':c620_break('ARO2_LIMS_S624_NA','ARO2_LIMS_S808_NA','Methylcyclohexane'),\n",
    "    'Toluene':C620_input_dict['C620_TOL'],\n",
    "    'n_Octane':c620_break('ARO2_LIMS_S624_NA','ARO2_LIMS_S808_NA','n_Octane'),\n",
    "    'n_Propylcyclopentane':c620_break('ARO2_LIMS_S624_NA','ARO2_LIMS_S808_NA','n_Propylcyclopentane'),\n",
    "    'Ethylcyclohexane':c620_break('ARO2_LIMS_S624_NA','ARO2_LIMS_S808_NA','Ethylcyclohexane'),\n",
    "    'EB':C620_input_dict['C620_EB'],\n",
    "    'PX':C620_input_dict['C620_PX'],\n",
    "    'MX':C620_input_dict['C620_MX'],\n",
    "    'OX':C620_input_dict['C620_OX'],\n",
    "    'n_Nonane':c620_break('ARO2_LIMS_S624_NA','ARO2_LIMS_S808_NA','n_Nonane'),\n",
    "    'i_Propylbenzene':c620_break('ARO2_LIMS_S624_A9','ARO2_LIMS_S808_A9','i_Propylbenzene'),\n",
    "    'n_Propylcyclohexane':c620_break('ARO2_LIMS_S624_NA','ARO2_LIMS_S808_NA','n_Propylcyclohexane'),\n",
    "    'n_Propylbenzene':c620_break('ARO2_LIMS_S624_A9','ARO2_LIMS_S808_A9','n_Propylbenzene'),\n",
    "    '1_Methyl_3_ethylbenzene':c620_break('ARO2_LIMS_S624_A9','ARO2_LIMS_S808_A9','1_Methyl_3_ethylbenzene'),\n",
    "    '1_Methyl_4_ethylbenzene':c620_break('ARO2_LIMS_S624_A9','ARO2_LIMS_S808_A9','1_Methyl_4_ethylbenzene'),\n",
    "    '135_Trimethylbenzene':c620_break('ARO2_LIMS_S624_A9','ARO2_LIMS_S808_A9','135_Trimethylbenzene'),\n",
    "    '1_Methyl_2_ethylbenzene':c620_break('ARO2_LIMS_S624_A9','ARO2_LIMS_S808_A9','1_Methyl_2_ethylbenzene'),\n",
    "    '124_Trimethylbenzene':c620_break('ARO2_LIMS_S624_A9','ARO2_LIMS_S808_A9','124_Trimethylbenzene'),\n",
    "    'tert_Butylcyclohexane':c620_break('ARO2_LIMS_S624_NA','ARO2_LIMS_S808_NA','tert_Butylcyclohexane'),\n",
    "    '123_Trimethylbenzene':c620_break('ARO2_LIMS_S624_A9','ARO2_LIMS_S808_A9','123_Trimethylbenzene'),\n",
    "    'Indane':c620_break('ARO2_LIMS_S624_A9','ARO2_LIMS_S808_A9','Indane'),\n",
    "    '1_Methyl_4_n_propylbenzene':c620_break('ARO2_LIMS_S624_A10','ARO2_LIMS_S808_A10+','1_Methyl_4_n_propylbenzene'),\n",
    "    '12_Diethylbenzene':c620_break('ARO2_LIMS_S624_A10','ARO2_LIMS_S808_A10+','12_Diethylbenzene'),\n",
    "    '5_Ethyl_m_xylene':c620_break('ARO2_LIMS_S624_A10','ARO2_LIMS_S808_A10+','5_Ethyl_m_xylene'),\n",
    "    '14_Diethylbenzene':c620_break('ARO2_LIMS_S624_A10','ARO2_LIMS_S808_A10+','14_Diethylbenzene'),\n",
    "    '1235_Tetramethylbenzene':c620_break('ARO2_LIMS_S624_A10','ARO2_LIMS_S808_A10+','1235_Tetramethylbenzene'),\n",
    "    'n_Pentylbenzene':c620_break('ARO2_LIMS_S624_A11+','ARO2_LIMS_S808_A10+','n_Pentylbenzene'),\n",
    "    'n_Hexylbenzene':c620_break('ARO2_LIMS_S624_A11+','ARO2_LIMS_S808_A10+','n_Hexylbenzene'),\n",
    "    'Nitrogen':0,\n",
    "    'Oxgen':0,\n",
    "})"
   ]
  },
  {
   "cell_type": "code",
   "execution_count": 16,
   "metadata": {},
   "outputs": [
    {
     "output_type": "execute_result",
     "data": {
      "text/plain": [
       "41"
      ]
     },
     "metadata": {},
     "execution_count": 16
    }
   ],
   "source": [
    "len(list(c620_feed_dict))"
   ]
  },
  {
   "cell_type": "code",
   "execution_count": 17,
   "metadata": {},
   "outputs": [],
   "source": [
    "import joblib\n",
    "c620_col_names = joblib.load('./col_names/c620_col_names.pkl')\n",
    "# c620_col_names['x41'] is the column name of c620_feed"
   ]
  },
  {
   "cell_type": "code",
   "execution_count": 18,
   "metadata": {},
   "outputs": [],
   "source": [
    "c620_feed_df = pd.DataFrame(data = c620_feed_dict,index =[0])"
   ]
  },
  {
   "cell_type": "code",
   "execution_count": 19,
   "metadata": {},
   "outputs": [
    {
     "output_type": "execute_result",
     "data": {
      "text/plain": [
       "   Combined Feed to Tatoray Stripper C620_Detailed Composition_Hydrogen_wt%  \\\n",
       "0                                                  0                          \n",
       "\n",
       "   Combined Feed to Tatoray Stripper C620_Detailed Composition_Methane_wt%  \\\n",
       "0                                           0.029323                         \n",
       "\n",
       "   Combined Feed to Tatoray Stripper C620_Detailed Composition_Ethane_wt%  \\\n",
       "0                                           0.706847                        \n",
       "\n",
       "   Combined Feed to Tatoray Stripper C620_Detailed Composition_Propane_wt%  \\\n",
       "0                                           0.643545                         \n",
       "\n",
       "   Combined Feed to Tatoray Stripper C620_Detailed Composition_n-Butane_wt%  \\\n",
       "0                                           0.183282                          \n",
       "\n",
       "   Combined Feed to Tatoray Stripper C620_Detailed Composition_n-Pentane_wt%  \\\n",
       "0                                           0.080914                           \n",
       "\n",
       "   Combined Feed to Tatoray Stripper C620_Detailed Composition_n-Hexane_wt%  \\\n",
       "0                                           0.017139                          \n",
       "\n",
       "   Combined Feed to Tatoray Stripper C620_Detailed Composition_Benzene_wt%  \\\n",
       "0                                          17.966486                         \n",
       "\n",
       "   Combined Feed to Tatoray Stripper C620_Detailed Composition_Cyclohexane_wt%  \\\n",
       "0                                           0.007518                             \n",
       "\n",
       "   Combined Feed to Tatoray Stripper C620_Detailed Composition_n-Heptane_wt%  \\\n",
       "0                                           0.016078                           \n",
       "\n",
       "   ...  \\\n",
       "0  ...   \n",
       "\n",
       "   Combined Feed to Tatoray Stripper C620_Detailed Composition_Indane_wt%  \\\n",
       "0                                           0.031477                        \n",
       "\n",
       "   Combined Feed to Tatoray Stripper C620_Detailed Composition_1-Methyl-4-n-propylbenzene_wt%  \\\n",
       "0                                           0.000623                                            \n",
       "\n",
       "   Combined Feed to Tatoray Stripper C620_Detailed Composition_1,2-Diethylbenzene_wt%  \\\n",
       "0                                           0.018548                                    \n",
       "\n",
       "   Combined Feed to Tatoray Stripper C620_Detailed Composition_5-Ethyl-m-xylene_wt%  \\\n",
       "0                                           0.715581                                  \n",
       "\n",
       "   Combined Feed to Tatoray Stripper C620_Detailed Composition_1,4-Diethylbenzene_wt%  \\\n",
       "0                                                0.0                                    \n",
       "\n",
       "   Combined Feed to Tatoray Stripper C620_Detailed Composition_1,2,3,5-Tetramethylbenzene_wt%  \\\n",
       "0                                           0.823907                                            \n",
       "\n",
       "   Combined Feed to Tatoray Stripper C620_Detailed Composition_n-Pentylbenzene_wt%  \\\n",
       "0                                            0.82224                                 \n",
       "\n",
       "   Combined Feed to Tatoray Stripper C620_Detailed Composition_n-Hexylbenzene_wt%  \\\n",
       "0                                           0.352389                                \n",
       "\n",
       "   Combined Feed to Tatoray Stripper C620_Detailed Composition_Nitrogen_wt%  \\\n",
       "0                                                  0                          \n",
       "\n",
       "   Combined Feed to Tatoray Stripper C620_Detailed Composition_Oxygen_wt%  \n",
       "0                                                  0                       \n",
       "\n",
       "[1 rows x 41 columns]"
      ],
      "text/html": "<div>\n<style scoped>\n    .dataframe tbody tr th:only-of-type {\n        vertical-align: middle;\n    }\n\n    .dataframe tbody tr th {\n        vertical-align: top;\n    }\n\n    .dataframe thead th {\n        text-align: right;\n    }\n</style>\n<table border=\"1\" class=\"dataframe\">\n  <thead>\n    <tr style=\"text-align: right;\">\n      <th></th>\n      <th>Combined Feed to Tatoray Stripper C620_Detailed Composition_Hydrogen_wt%</th>\n      <th>Combined Feed to Tatoray Stripper C620_Detailed Composition_Methane_wt%</th>\n      <th>Combined Feed to Tatoray Stripper C620_Detailed Composition_Ethane_wt%</th>\n      <th>Combined Feed to Tatoray Stripper C620_Detailed Composition_Propane_wt%</th>\n      <th>Combined Feed to Tatoray Stripper C620_Detailed Composition_n-Butane_wt%</th>\n      <th>Combined Feed to Tatoray Stripper C620_Detailed Composition_n-Pentane_wt%</th>\n      <th>Combined Feed to Tatoray Stripper C620_Detailed Composition_n-Hexane_wt%</th>\n      <th>Combined Feed to Tatoray Stripper C620_Detailed Composition_Benzene_wt%</th>\n      <th>Combined Feed to Tatoray Stripper C620_Detailed Composition_Cyclohexane_wt%</th>\n      <th>Combined Feed to Tatoray Stripper C620_Detailed Composition_n-Heptane_wt%</th>\n      <th>...</th>\n      <th>Combined Feed to Tatoray Stripper C620_Detailed Composition_Indane_wt%</th>\n      <th>Combined Feed to Tatoray Stripper C620_Detailed Composition_1-Methyl-4-n-propylbenzene_wt%</th>\n      <th>Combined Feed to Tatoray Stripper C620_Detailed Composition_1,2-Diethylbenzene_wt%</th>\n      <th>Combined Feed to Tatoray Stripper C620_Detailed Composition_5-Ethyl-m-xylene_wt%</th>\n      <th>Combined Feed to Tatoray Stripper C620_Detailed Composition_1,4-Diethylbenzene_wt%</th>\n      <th>Combined Feed to Tatoray Stripper C620_Detailed Composition_1,2,3,5-Tetramethylbenzene_wt%</th>\n      <th>Combined Feed to Tatoray Stripper C620_Detailed Composition_n-Pentylbenzene_wt%</th>\n      <th>Combined Feed to Tatoray Stripper C620_Detailed Composition_n-Hexylbenzene_wt%</th>\n      <th>Combined Feed to Tatoray Stripper C620_Detailed Composition_Nitrogen_wt%</th>\n      <th>Combined Feed to Tatoray Stripper C620_Detailed Composition_Oxygen_wt%</th>\n    </tr>\n  </thead>\n  <tbody>\n    <tr>\n      <th>0</th>\n      <td>0</td>\n      <td>0.029323</td>\n      <td>0.706847</td>\n      <td>0.643545</td>\n      <td>0.183282</td>\n      <td>0.080914</td>\n      <td>0.017139</td>\n      <td>17.966486</td>\n      <td>0.007518</td>\n      <td>0.016078</td>\n      <td>...</td>\n      <td>0.031477</td>\n      <td>0.000623</td>\n      <td>0.018548</td>\n      <td>0.715581</td>\n      <td>0.0</td>\n      <td>0.823907</td>\n      <td>0.82224</td>\n      <td>0.352389</td>\n      <td>0</td>\n      <td>0</td>\n    </tr>\n  </tbody>\n</table>\n<p>1 rows × 41 columns</p>\n</div>"
     },
     "metadata": {},
     "execution_count": 19
    }
   ],
   "source": [
    "c620_feed_df.columns = c620_col_names['x41']\n",
    "c620_feed_df"
   ]
  },
  {
   "cell_type": "markdown",
   "metadata": {},
   "source": [
    "# ICG input"
   ]
  },
  {
   "cell_type": "code",
   "execution_count": 20,
   "metadata": {},
   "outputs": [],
   "source": [
    "icg_dict = dict({\n",
    "    'V615_flow':sqlite_dict['ARO2_DCS_FI61501'],\n",
    "    'V615_NA':sqlite_dict['ARO2_LIMS_S624_NA'],\n",
    "    'V615_BZ':sqlite_dict['ARO2_LIMS_S624_BZ'],\n",
    "    'V615_TOL':sqlite_dict['ARO2_LIMS_S624_TOL'],\n",
    "    'C820_flow':sqlite_dict['ARO2_DCS_FIC8270A'],\n",
    "    'C820_NA':sqlite_dict['ARO2_LIMS_S808_NA'],\n",
    "    'C820_BZ':sqlite_dict['ARO2_LIMS_S808_BZ'],\n",
    "    'C820_TOL':sqlite_dict['ARO2_LIMS_S808_TOL'],\n",
    "    'T651_flow':sqlite_dict['ARO2_DCS_FIC65301'],\n",
    "    'T651_NA':sqlite_dict['ARO2_LIMS_S601_NA'],\n",
    "    'T651_BZ':sqlite_dict['ARO2_LIMS_S601_BZ'],\n",
    "    'T651_TOL':sqlite_dict['ARO2_LIMS_S601_TOL'],\n",
    "    'C620_Sidedraw':sqlite_dict['ARO2_LIMS_S623_BZ'],\n",
    "    'NA_BZ':sqlite_dict['ARO2_LIMS_S604_NA'],\n",
    "})"
   ]
  },
  {
   "cell_type": "code",
   "execution_count": 21,
   "metadata": {},
   "outputs": [],
   "source": [
    "icg_col_names = joblib.load('./col_names/c620_c670.pkl')"
   ]
  },
  {
   "cell_type": "code",
   "execution_count": 22,
   "metadata": {},
   "outputs": [],
   "source": [
    "icg_input_df = pd.DataFrame(data = icg_dict,index =[0])"
   ]
  },
  {
   "cell_type": "code",
   "execution_count": 23,
   "metadata": {},
   "outputs": [
    {
     "output_type": "execute_result",
     "data": {
      "text/plain": [
       "   Simulation Case Conditions_Feed Rate_Feed from V615 Btm_m3/hr  \\\n",
       "0                                         179.118967               \n",
       "\n",
       "   Simulation Case Conditions_Feed Rate_Feed from V615 Btm    NA_wt%  \\\n",
       "0                                              1.712                   \n",
       "\n",
       "   Simulation Case Conditions_Feed Rate_Feed from V615 Btm    Benzene_wt%  \\\n",
       "0                                             12.415                        \n",
       "\n",
       "   Simulation Case Conditions_Feed Rate_Feed from V615 Btm    Toluene_wt%  \\\n",
       "0                                          38.258999                        \n",
       "\n",
       "   Simulation Case Conditions_Feed Rate_Feed from C820 Dist_m3/hr  \\\n",
       "0                                          19.339881                \n",
       "\n",
       "   Simulation Case Conditions_Feed Rate_Feed from C820 Dist    NA_wt%  \\\n",
       "0                                              1.977                    \n",
       "\n",
       "   Simulation Case Conditions_Feed Rate_Feed from C820 Dist    Benzene_wt%  \\\n",
       "0                                             68.764                         \n",
       "\n",
       "   Simulation Case Conditions_Feed Rate_Feed from C820 Dist    Toluene_wt%  \\\n",
       "0                                             19.357                         \n",
       "\n",
       "   Simulation Case Conditions_Feed Rate_Feed from T651_m3/hr  \\\n",
       "0                                         113.368964           \n",
       "\n",
       "   Simulation Case Conditions_Feed Rate_Feed from T651    NA_wt%  \\\n",
       "0                                             0.5959               \n",
       "\n",
       "   Simulation Case Conditions_Feed Rate_Feed from T651    Benzene_wt%  \\\n",
       "0                                          45.245998                    \n",
       "\n",
       "   Simulation Case Conditions_Feed Rate_Feed from T651    Toluene_wt%  \\\n",
       "0                                          40.926998                    \n",
       "\n",
       "   Simulation Case Conditions_Spec 1 : Benzene in C620 Sidedraw_wt%  \\\n",
       "0                                          80.557999                  \n",
       "\n",
       "   Simulation Case Conditions_Spec 2 : NA in Benzene_ppmw  \n",
       "0                                              620.0       "
      ],
      "text/html": "<div>\n<style scoped>\n    .dataframe tbody tr th:only-of-type {\n        vertical-align: middle;\n    }\n\n    .dataframe tbody tr th {\n        vertical-align: top;\n    }\n\n    .dataframe thead th {\n        text-align: right;\n    }\n</style>\n<table border=\"1\" class=\"dataframe\">\n  <thead>\n    <tr style=\"text-align: right;\">\n      <th></th>\n      <th>Simulation Case Conditions_Feed Rate_Feed from V615 Btm_m3/hr</th>\n      <th>Simulation Case Conditions_Feed Rate_Feed from V615 Btm    NA_wt%</th>\n      <th>Simulation Case Conditions_Feed Rate_Feed from V615 Btm    Benzene_wt%</th>\n      <th>Simulation Case Conditions_Feed Rate_Feed from V615 Btm    Toluene_wt%</th>\n      <th>Simulation Case Conditions_Feed Rate_Feed from C820 Dist_m3/hr</th>\n      <th>Simulation Case Conditions_Feed Rate_Feed from C820 Dist    NA_wt%</th>\n      <th>Simulation Case Conditions_Feed Rate_Feed from C820 Dist    Benzene_wt%</th>\n      <th>Simulation Case Conditions_Feed Rate_Feed from C820 Dist    Toluene_wt%</th>\n      <th>Simulation Case Conditions_Feed Rate_Feed from T651_m3/hr</th>\n      <th>Simulation Case Conditions_Feed Rate_Feed from T651    NA_wt%</th>\n      <th>Simulation Case Conditions_Feed Rate_Feed from T651    Benzene_wt%</th>\n      <th>Simulation Case Conditions_Feed Rate_Feed from T651    Toluene_wt%</th>\n      <th>Simulation Case Conditions_Spec 1 : Benzene in C620 Sidedraw_wt%</th>\n      <th>Simulation Case Conditions_Spec 2 : NA in Benzene_ppmw</th>\n    </tr>\n  </thead>\n  <tbody>\n    <tr>\n      <th>0</th>\n      <td>179.118967</td>\n      <td>1.712</td>\n      <td>12.415</td>\n      <td>38.258999</td>\n      <td>19.339881</td>\n      <td>1.977</td>\n      <td>68.764</td>\n      <td>19.357</td>\n      <td>113.368964</td>\n      <td>0.5959</td>\n      <td>45.245998</td>\n      <td>40.926998</td>\n      <td>80.557999</td>\n      <td>620.0</td>\n    </tr>\n  </tbody>\n</table>\n</div>"
     },
     "metadata": {},
     "execution_count": 23
    }
   ],
   "source": [
    "icg_input_df.columns = icg_col_names['x']\n",
    "icg_input_df"
   ]
  },
  {
   "cell_type": "code",
   "execution_count": 24,
   "metadata": {},
   "outputs": [],
   "source": [
    "icg_input_df['Tatoray Stripper C620 Operation_Specifications_Spec 2 : Distillate Rate_m3/hr'],icg_input_df['Benzene Column C660 Operation_Specifications_Spec 3 : Toluene in Benzene_ppmw'],icg_input_df['Tatoray Stripper C620 Operation_Specifications_Spec 1 : Receiver Temp_oC'] = [sqlite_dict['ARO2_DCS_FIC62802'],sqlite_dict['ARO2_LIMS_S604_TOL'],sqlite_dict['ARO2_DCS_TI62701']]"
   ]
  },
  {
   "cell_type": "code",
   "execution_count": 25,
   "metadata": {},
   "outputs": [
    {
     "output_type": "execute_result",
     "data": {
      "text/plain": [
       "   Simulation Case Conditions_Feed Rate_Feed from V615 Btm_m3/hr  \\\n",
       "0                                         179.118967               \n",
       "\n",
       "   Simulation Case Conditions_Feed Rate_Feed from V615 Btm    NA_wt%  \\\n",
       "0                                              1.712                   \n",
       "\n",
       "   Simulation Case Conditions_Feed Rate_Feed from V615 Btm    Benzene_wt%  \\\n",
       "0                                             12.415                        \n",
       "\n",
       "   Simulation Case Conditions_Feed Rate_Feed from V615 Btm    Toluene_wt%  \\\n",
       "0                                          38.258999                        \n",
       "\n",
       "   Simulation Case Conditions_Feed Rate_Feed from C820 Dist_m3/hr  \\\n",
       "0                                          19.339881                \n",
       "\n",
       "   Simulation Case Conditions_Feed Rate_Feed from C820 Dist    NA_wt%  \\\n",
       "0                                              1.977                    \n",
       "\n",
       "   Simulation Case Conditions_Feed Rate_Feed from C820 Dist    Benzene_wt%  \\\n",
       "0                                             68.764                         \n",
       "\n",
       "   Simulation Case Conditions_Feed Rate_Feed from C820 Dist    Toluene_wt%  \\\n",
       "0                                             19.357                         \n",
       "\n",
       "   Simulation Case Conditions_Feed Rate_Feed from T651_m3/hr  \\\n",
       "0                                         113.368964           \n",
       "\n",
       "   Simulation Case Conditions_Feed Rate_Feed from T651    NA_wt%  \\\n",
       "0                                             0.5959               \n",
       "\n",
       "   Simulation Case Conditions_Feed Rate_Feed from T651    Benzene_wt%  \\\n",
       "0                                          45.245998                    \n",
       "\n",
       "   Simulation Case Conditions_Feed Rate_Feed from T651    Toluene_wt%  \\\n",
       "0                                          40.926998                    \n",
       "\n",
       "   Simulation Case Conditions_Spec 1 : Benzene in C620 Sidedraw_wt%  \\\n",
       "0                                          80.557999                  \n",
       "\n",
       "   Simulation Case Conditions_Spec 2 : NA in Benzene_ppmw  \\\n",
       "0                                              620.0        \n",
       "\n",
       "   Tatoray Stripper C620 Operation_Specifications_Spec 2 : Distillate Rate_m3/hr  \\\n",
       "0                                                0.0                               \n",
       "\n",
       "   Benzene Column C660 Operation_Specifications_Spec 3 : Toluene in Benzene_ppmw  \\\n",
       "0                                               56.0                               \n",
       "\n",
       "   Tatoray Stripper C620 Operation_Specifications_Spec 1 : Receiver Temp_oC  \n",
       "0                                          42.288314                         "
      ],
      "text/html": "<div>\n<style scoped>\n    .dataframe tbody tr th:only-of-type {\n        vertical-align: middle;\n    }\n\n    .dataframe tbody tr th {\n        vertical-align: top;\n    }\n\n    .dataframe thead th {\n        text-align: right;\n    }\n</style>\n<table border=\"1\" class=\"dataframe\">\n  <thead>\n    <tr style=\"text-align: right;\">\n      <th></th>\n      <th>Simulation Case Conditions_Feed Rate_Feed from V615 Btm_m3/hr</th>\n      <th>Simulation Case Conditions_Feed Rate_Feed from V615 Btm    NA_wt%</th>\n      <th>Simulation Case Conditions_Feed Rate_Feed from V615 Btm    Benzene_wt%</th>\n      <th>Simulation Case Conditions_Feed Rate_Feed from V615 Btm    Toluene_wt%</th>\n      <th>Simulation Case Conditions_Feed Rate_Feed from C820 Dist_m3/hr</th>\n      <th>Simulation Case Conditions_Feed Rate_Feed from C820 Dist    NA_wt%</th>\n      <th>Simulation Case Conditions_Feed Rate_Feed from C820 Dist    Benzene_wt%</th>\n      <th>Simulation Case Conditions_Feed Rate_Feed from C820 Dist    Toluene_wt%</th>\n      <th>Simulation Case Conditions_Feed Rate_Feed from T651_m3/hr</th>\n      <th>Simulation Case Conditions_Feed Rate_Feed from T651    NA_wt%</th>\n      <th>Simulation Case Conditions_Feed Rate_Feed from T651    Benzene_wt%</th>\n      <th>Simulation Case Conditions_Feed Rate_Feed from T651    Toluene_wt%</th>\n      <th>Simulation Case Conditions_Spec 1 : Benzene in C620 Sidedraw_wt%</th>\n      <th>Simulation Case Conditions_Spec 2 : NA in Benzene_ppmw</th>\n      <th>Tatoray Stripper C620 Operation_Specifications_Spec 2 : Distillate Rate_m3/hr</th>\n      <th>Benzene Column C660 Operation_Specifications_Spec 3 : Toluene in Benzene_ppmw</th>\n      <th>Tatoray Stripper C620 Operation_Specifications_Spec 1 : Receiver Temp_oC</th>\n    </tr>\n  </thead>\n  <tbody>\n    <tr>\n      <th>0</th>\n      <td>179.118967</td>\n      <td>1.712</td>\n      <td>12.415</td>\n      <td>38.258999</td>\n      <td>19.339881</td>\n      <td>1.977</td>\n      <td>68.764</td>\n      <td>19.357</td>\n      <td>113.368964</td>\n      <td>0.5959</td>\n      <td>45.245998</td>\n      <td>40.926998</td>\n      <td>80.557999</td>\n      <td>620.0</td>\n      <td>0.0</td>\n      <td>56.0</td>\n      <td>42.288314</td>\n    </tr>\n  </tbody>\n</table>\n</div>"
     },
     "metadata": {},
     "execution_count": 25
    }
   ],
   "source": [
    "icg_input_df"
   ]
  },
  {
   "source": [
    "# 觀察這組樣本的三項spec"
   ],
   "cell_type": "markdown",
   "metadata": {}
  },
  {
   "cell_type": "code",
   "execution_count": 26,
   "metadata": {},
   "outputs": [
    {
     "output_type": "stream",
     "name": "stdout",
     "text": [
      "80.55799865722656\n620.0\n56.0\n"
     ]
    }
   ],
   "source": [
    "print(icg_input_df['Simulation Case Conditions_Spec 1 : Benzene in C620 Sidedraw_wt%'].values[0])\n",
    "print(icg_input_df['Simulation Case Conditions_Spec 2 : NA in Benzene_ppmw'].values[0])\n",
    "print(icg_input_df['Benzene Column C660 Operation_Specifications_Spec 3 : Toluene in Benzene_ppmw'].values[0])"
   ]
  },
  {
   "cell_type": "code",
   "execution_count": 27,
   "metadata": {},
   "outputs": [
    {
     "output_type": "execute_result",
     "data": {
      "text/plain": [
       "{'Simulation Case Conditions_Feed Rate_Feed from V615 Btm_m3/hr': {0: 179.11896663780595},\n",
       " 'Simulation Case Conditions_Feed Rate_Feed from V615 Btm    NA_wt%': {0: 1.7120000123977661},\n",
       " 'Simulation Case Conditions_Feed Rate_Feed from V615 Btm    Benzene_wt%': {0: 12.414999961853027},\n",
       " 'Simulation Case Conditions_Feed Rate_Feed from V615 Btm    Toluene_wt%': {0: 38.25899887084961},\n",
       " 'Simulation Case Conditions_Feed Rate_Feed from C820 Dist_m3/hr': {0: 19.339881278365436},\n",
       " 'Simulation Case Conditions_Feed Rate_Feed from C820 Dist    NA_wt%': {0: 1.9769999980926514},\n",
       " 'Simulation Case Conditions_Feed Rate_Feed from C820 Dist    Benzene_wt%': {0: 68.76399993896484},\n",
       " 'Simulation Case Conditions_Feed Rate_Feed from C820 Dist    Toluene_wt%': {0: 19.35700035095215},\n",
       " 'Simulation Case Conditions_Feed Rate_Feed from T651_m3/hr': {0: 113.3689636893472},\n",
       " 'Simulation Case Conditions_Feed Rate_Feed from T651    NA_wt%': {0: 0.5958999991416931},\n",
       " 'Simulation Case Conditions_Feed Rate_Feed from T651    Benzene_wt%': {0: 45.24599838256836},\n",
       " 'Simulation Case Conditions_Feed Rate_Feed from T651    Toluene_wt%': {0: 40.926998138427734},\n",
       " 'Simulation Case Conditions_Spec 1 : Benzene in C620 Sidedraw_wt%': {0: 80.55799865722656},\n",
       " 'Simulation Case Conditions_Spec 2 : NA in Benzene_ppmw': {0: 620.0},\n",
       " 'Tatoray Stripper C620 Operation_Specifications_Spec 2 : Distillate Rate_m3/hr': {0: 0.0},\n",
       " 'Benzene Column C660 Operation_Specifications_Spec 3 : Toluene in Benzene_ppmw': {0: 56.0},\n",
       " 'Tatoray Stripper C620 Operation_Specifications_Spec 1 : Receiver Temp_oC': {0: 42.28831387287955}}"
      ]
     },
     "metadata": {},
     "execution_count": 27
    }
   ],
   "source": [
    "icg_input_df.to_dict()"
   ]
  },
  {
   "cell_type": "markdown",
   "metadata": {},
   "source": [
    "# T651 Feed"
   ]
  },
  {
   "cell_type": "code",
   "execution_count": 28,
   "metadata": {},
   "outputs": [],
   "source": [
    "def T651_break(composition,split):\n",
    "    return sqlite_dict[composition][0]*split"
   ]
  },
  {
   "cell_type": "code",
   "execution_count": 29,
   "metadata": {},
   "outputs": [],
   "source": [
    "t651_feed_dict = dict({\n",
    "    'Hydrogen':0,\n",
    "    'Methane':T651_break('ARO2_LIMS_S601_NA',0),\n",
    "    'Ethane':T651_break('ARO2_LIMS_S601_NA',0),\n",
    "    'Propane':T651_break('ARO2_LIMS_S601_NA',0),\n",
    "    'n_Butane':T651_break('ARO2_LIMS_S601_NA',0),\n",
    "    'n_Pentane':T651_break('ARO2_LIMS_S601_NA',0),\n",
    "    'n_Hexane':T651_break('ARO2_LIMS_S601_NA',0.01),\n",
    "    'Benzene':T651_break('ARO2_LIMS_S601_BZ',1),\n",
    "    'Cyclohexane':T651_break('ARO2_LIMS_S601_NA',0),\n",
    "    'n_Heptane':T651_break('ARO2_LIMS_S601_NA',0.01),\n",
    "    'Water':0,\n",
    "    'Methylcyclohexane':T651_break('ARO2_LIMS_S601_NA',0),\n",
    "    'Toluene':T651_break('ARO2_LIMS_S601_TOL',1),\n",
    "    'n_Octane':T651_break('ARO2_LIMS_S601_NA',0.12),\n",
    "    'n_Propylcyclopentane':T651_break('ARO2_LIMS_S601_NA',0.11),\n",
    "    'Ethylcyclohexane':T651_break('ARO2_LIMS_S601_NA',0.09),\n",
    "    'EB':T651_break('ARO2_LIMS_S601_EB',1),\n",
    "    'PX':T651_break('ARO2_LIMS_S601_PX',1),\n",
    "    'MX':T651_break('ARO2_LIMS_S601_MX',1),\n",
    "    'OX':T651_break('ARO2_LIMS_S601_OX',1),\n",
    "    'n_Nonane':T651_break('ARO2_LIMS_S601_NA',0.19),\n",
    "    'i_Propylbenzene':T651_break('ARO2_LIMS_S601_A9',0),\n",
    "    'n_Propylcyclohexane':T651_break('ARO2_LIMS_S601_NA',0.42),\n",
    "    'n_Propylbenzene':T651_break('ARO2_LIMS_S601_A9',0),\n",
    "    '1_Methyl_3_ethylbenzene':T651_break('ARO2_LIMS_S601_A9',0.2),\n",
    "    '1_Methyl_4_ethylbenzene':T651_break('ARO2_LIMS_S601_A9',0.2),\n",
    "    '135_Trimethylbenzene':T651_break('ARO2_LIMS_S601_A9',0.4),\n",
    "    '1_Methyl_2_ethylbenzene':T651_break('ARO2_LIMS_S601_A9',0.1),\n",
    "    '124_Trimethylbenzene':T651_break('ARO2_LIMS_S601_A9',0.1),\n",
    "    'tert_Butylcyclohexane':T651_break('ARO2_LIMS_S601_NA',0.03),\n",
    "    '123_Trimethylbenzene':T651_break('ARO2_LIMS_S601_A9',0),\n",
    "    'Indane':T651_break('ARO2_LIMS_S601_A9',0),\n",
    "    '1_Methyl_4_n_propylbenzene':T651_break('ARO2_LIMS_S601_A10+',0.8),\n",
    "    '12_Diethylbenzene':T651_break('ARO2_LIMS_S601_A10+',0.2),\n",
    "    '5_Ethyl_m_xylene':T651_break('ARO2_LIMS_S601_A10+',0),\n",
    "    '14_Diethylbenzene':T651_break('ARO2_LIMS_S601_A10+',0),\n",
    "    '1235_Tetramethylbenzene':T651_break('ARO2_LIMS_S601_A10+',0),\n",
    "    'n_Pentylbenzene':T651_break('ARO2_LIMS_S601_A10+',0),\n",
    "    'n_Hexylbenzene':T651_break('ARO2_LIMS_S601_A10+',0),\n",
    "    'Nitrogen':0,\n",
    "    'Oxgen':0,\n",
    "})"
   ]
  },
  {
   "cell_type": "code",
   "execution_count": 30,
   "metadata": {},
   "outputs": [
    {
     "output_type": "execute_result",
     "data": {
      "text/plain": [
       "{'Hydrogen': 0,\n",
       " 'Methane': 0.0,\n",
       " 'Ethane': 0.0,\n",
       " 'Propane': 0.0,\n",
       " 'n_Butane': 0.0,\n",
       " 'n_Pentane': 0.0,\n",
       " 'n_Hexane': 0.005958999991416932,\n",
       " 'Benzene': 45.24599838256836,\n",
       " 'Cyclohexane': 0.0,\n",
       " 'n_Heptane': 0.005958999991416932,\n",
       " 'Water': 0,\n",
       " 'Methylcyclohexane': 0.0,\n",
       " 'Toluene': 40.926998138427734,\n",
       " 'n_Octane': 0.07150799989700317,\n",
       " 'n_Propylcyclopentane': 0.06554899990558624,\n",
       " 'Ethylcyclohexane': 0.05363099992275238,\n",
       " 'EB': 7.520500183105469,\n",
       " 'PX': 1.4729000329971313,\n",
       " 'MX': 3.463200092315674,\n",
       " 'OX': 0.7685999870300293,\n",
       " 'n_Nonane': 0.11322099983692169,\n",
       " 'i_Propylbenzene': 0.0,\n",
       " 'n_Propylcyclohexane': 0.2502779996395111,\n",
       " 'n_Propylbenzene': 0.0,\n",
       " '1_Methyl_3_ethylbenzene': 0.0008200000040233136,\n",
       " '1_Methyl_4_ethylbenzene': 0.0008200000040233136,\n",
       " '135_Trimethylbenzene': 0.0016400000080466271,\n",
       " '1_Methyl_2_ethylbenzene': 0.0004100000020116568,\n",
       " '124_Trimethylbenzene': 0.0004100000020116568,\n",
       " 'tert_Butylcyclohexane': 0.017876999974250792,\n",
       " '123_Trimethylbenzene': 0.0,\n",
       " 'Indane': 0.0,\n",
       " '1_Methyl_4_n_propylbenzene': 0.000559999980032444,\n",
       " '12_Diethylbenzene': 0.000139999995008111,\n",
       " '5_Ethyl_m_xylene': 0.0,\n",
       " '14_Diethylbenzene': 0.0,\n",
       " '1235_Tetramethylbenzene': 0.0,\n",
       " 'n_Pentylbenzene': 0.0,\n",
       " 'n_Hexylbenzene': 0.0,\n",
       " 'Nitrogen': 0,\n",
       " 'Oxgen': 0}"
      ]
     },
     "metadata": {},
     "execution_count": 30
    }
   ],
   "source": [
    "t651_feed_dict"
   ]
  },
  {
   "cell_type": "code",
   "execution_count": 31,
   "metadata": {},
   "outputs": [
    {
     "output_type": "execute_result",
     "data": {
      "text/plain": [
       "41"
      ]
     },
     "metadata": {},
     "execution_count": 31
    }
   ],
   "source": [
    "len(list(t651_feed_dict))"
   ]
  },
  {
   "cell_type": "code",
   "execution_count": 32,
   "metadata": {},
   "outputs": [],
   "source": [
    "t651_col_names = joblib.load('./col_names/t651_col_names.pkl')\n",
    "# c620_col_names['x41'] is the column name of c620_feed"
   ]
  },
  {
   "cell_type": "code",
   "execution_count": 33,
   "metadata": {},
   "outputs": [],
   "source": [
    "t651_feed_df = pd.DataFrame(data = t651_feed_dict,index =[0])"
   ]
  },
  {
   "cell_type": "code",
   "execution_count": 34,
   "metadata": {
    "scrolled": true
   },
   "outputs": [
    {
     "output_type": "execute_result",
     "data": {
      "text/plain": [
       "   Extract Feed from T651_Detailed Composition_Hydrogen_wt%  \\\n",
       "0                                                  0          \n",
       "\n",
       "   Extract Feed from T651_Detailed Composition_Methane_wt%  \\\n",
       "0                                                0.0         \n",
       "\n",
       "   Extract Feed from T651_Detailed Composition_Ethane_wt%  \\\n",
       "0                                                0.0        \n",
       "\n",
       "   Extract Feed from T651_Detailed Composition_Propane_wt%  \\\n",
       "0                                                0.0         \n",
       "\n",
       "   Extract Feed from T651_Detailed Composition_n-Butane_wt%  \\\n",
       "0                                                0.0          \n",
       "\n",
       "   Extract Feed from T651_Detailed Composition_n-Pentane_wt%  \\\n",
       "0                                                0.0           \n",
       "\n",
       "   Extract Feed from T651_Detailed Composition_n-Hexane_wt%  \\\n",
       "0                                           0.005959          \n",
       "\n",
       "   Extract Feed from T651_Detailed Composition_Benzene_wt%  \\\n",
       "0                                          45.245998         \n",
       "\n",
       "   Extract Feed from T651_Detailed Composition_Cyclohexane_wt%  \\\n",
       "0                                                0.0             \n",
       "\n",
       "   Extract Feed from T651_Detailed Composition_n-Heptane_wt%  ...  \\\n",
       "0                                           0.005959          ...   \n",
       "\n",
       "   Extract Feed from T651_Detailed Composition_Indane_wt%  \\\n",
       "0                                                0.0        \n",
       "\n",
       "   Extract Feed from T651_Detailed Composition_1-Methyl-4-n-propylbenzene_wt%  \\\n",
       "0                                            0.00056                            \n",
       "\n",
       "   Extract Feed from T651_Detailed Composition_1,2-Diethylbenzene_wt%  \\\n",
       "0                                            0.00014                    \n",
       "\n",
       "   Extract Feed from T651_Detailed Composition_5-Ethyl-m-xylene_wt%  \\\n",
       "0                                                0.0                  \n",
       "\n",
       "   Extract Feed from T651_Detailed Composition_1,4-Diethylbenzene_wt%  \\\n",
       "0                                                0.0                    \n",
       "\n",
       "   Extract Feed from T651_Detailed Composition_1,2,3,5-Tetramethylbenzene_wt%  \\\n",
       "0                                                0.0                            \n",
       "\n",
       "   Extract Feed from T651_Detailed Composition_n-Pentylbenzene_wt%  \\\n",
       "0                                                0.0                 \n",
       "\n",
       "   Extract Feed from T651_Detailed Composition_n-Hexylbenzene_wt%  \\\n",
       "0                                                0.0                \n",
       "\n",
       "   Extract Feed from T651_Detailed Composition_Nitrogen_wt%  \\\n",
       "0                                                  0          \n",
       "\n",
       "   Extract Feed from T651_Detailed Composition_Oxygen_wt%  \n",
       "0                                                  0       \n",
       "\n",
       "[1 rows x 41 columns]"
      ],
      "text/html": "<div>\n<style scoped>\n    .dataframe tbody tr th:only-of-type {\n        vertical-align: middle;\n    }\n\n    .dataframe tbody tr th {\n        vertical-align: top;\n    }\n\n    .dataframe thead th {\n        text-align: right;\n    }\n</style>\n<table border=\"1\" class=\"dataframe\">\n  <thead>\n    <tr style=\"text-align: right;\">\n      <th></th>\n      <th>Extract Feed from T651_Detailed Composition_Hydrogen_wt%</th>\n      <th>Extract Feed from T651_Detailed Composition_Methane_wt%</th>\n      <th>Extract Feed from T651_Detailed Composition_Ethane_wt%</th>\n      <th>Extract Feed from T651_Detailed Composition_Propane_wt%</th>\n      <th>Extract Feed from T651_Detailed Composition_n-Butane_wt%</th>\n      <th>Extract Feed from T651_Detailed Composition_n-Pentane_wt%</th>\n      <th>Extract Feed from T651_Detailed Composition_n-Hexane_wt%</th>\n      <th>Extract Feed from T651_Detailed Composition_Benzene_wt%</th>\n      <th>Extract Feed from T651_Detailed Composition_Cyclohexane_wt%</th>\n      <th>Extract Feed from T651_Detailed Composition_n-Heptane_wt%</th>\n      <th>...</th>\n      <th>Extract Feed from T651_Detailed Composition_Indane_wt%</th>\n      <th>Extract Feed from T651_Detailed Composition_1-Methyl-4-n-propylbenzene_wt%</th>\n      <th>Extract Feed from T651_Detailed Composition_1,2-Diethylbenzene_wt%</th>\n      <th>Extract Feed from T651_Detailed Composition_5-Ethyl-m-xylene_wt%</th>\n      <th>Extract Feed from T651_Detailed Composition_1,4-Diethylbenzene_wt%</th>\n      <th>Extract Feed from T651_Detailed Composition_1,2,3,5-Tetramethylbenzene_wt%</th>\n      <th>Extract Feed from T651_Detailed Composition_n-Pentylbenzene_wt%</th>\n      <th>Extract Feed from T651_Detailed Composition_n-Hexylbenzene_wt%</th>\n      <th>Extract Feed from T651_Detailed Composition_Nitrogen_wt%</th>\n      <th>Extract Feed from T651_Detailed Composition_Oxygen_wt%</th>\n    </tr>\n  </thead>\n  <tbody>\n    <tr>\n      <th>0</th>\n      <td>0</td>\n      <td>0.0</td>\n      <td>0.0</td>\n      <td>0.0</td>\n      <td>0.0</td>\n      <td>0.0</td>\n      <td>0.005959</td>\n      <td>45.245998</td>\n      <td>0.0</td>\n      <td>0.005959</td>\n      <td>...</td>\n      <td>0.0</td>\n      <td>0.00056</td>\n      <td>0.00014</td>\n      <td>0.0</td>\n      <td>0.0</td>\n      <td>0.0</td>\n      <td>0.0</td>\n      <td>0.0</td>\n      <td>0</td>\n      <td>0</td>\n    </tr>\n  </tbody>\n</table>\n<p>1 rows × 41 columns</p>\n</div>"
     },
     "metadata": {},
     "execution_count": 34
    }
   ],
   "source": [
    "t651_feed_df.columns = t651_col_names['x41']\n",
    "t651_feed_df"
   ]
  },
  {
   "cell_type": "markdown",
   "metadata": {},
   "source": [
    "## 試算模式"
   ]
  },
  {
   "cell_type": "code",
   "execution_count": 35,
   "metadata": {},
   "outputs": [],
   "source": [
    "import autorch\n",
    "from FV2 import AllSystem\n",
    "from configV2 import config"
   ]
  },
  {
   "cell_type": "code",
   "execution_count": 36,
   "metadata": {
    "tags": []
   },
   "outputs": [],
   "source": [
    "f = joblib.load('model/allsystem.pkl')"
   ]
  },
  {
   "cell_type": "code",
   "execution_count": 37,
   "metadata": {},
   "outputs": [],
   "source": [
    "c620_wt,c620_op,c660_wt,c660_op,c670_wt,c670_op = f.inference(icg_input_df.copy(),c620_feed_df.copy(),t651_feed_df.copy())"
   ]
  },
  {
   "cell_type": "code",
   "execution_count": 38,
   "metadata": {},
   "outputs": [
    {
     "output_type": "execute_result",
     "data": {
      "text/plain": [
       "   Density_Feed Properties  Density_Vent Gas Production Rate and Composition  \\\n",
       "0                 0.862335                                          0.459559   \n",
       "\n",
       "   Density_Distillate Production Rate and Composition  \\\n",
       "0                                           0.772324    \n",
       "\n",
       "   Density_Sidedraw Production Rate and Composition  \\\n",
       "0                                          0.878935   \n",
       "\n",
       "   Density_Bottoms Production Rate and Composition  \\\n",
       "0                                         0.871956   \n",
       "\n",
       "   Tatoray Stripper C620 Operation_Yield Summary_Reflux Rate_m3/hr  \\\n",
       "0                                         131.448944                 \n",
       "\n",
       "   Tatoray Stripper C620 Operation_Heat Duty_Condenser Heat Duty_Mkcal/hr  \\\n",
       "0                                          11.023032                        \n",
       "\n",
       "   Tatoray Stripper C620 Operation_Heat Duty_Reboiler Heat Duty_Mkcal/hr  \\\n",
       "0                                          13.407648                       \n",
       "\n",
       "   Tatoray Stripper C620 Operation_Column Temp Profile_C620 Tray 14 (Control)_oC  \\\n",
       "0                                         177.871201                               \n",
       "\n",
       "   Tatoray Stripper C620 Operation_Column Temp Profile_C620 Tray 34 (Control)_oC  \n",
       "0                                         193.812637                              "
      ],
      "text/html": "<div>\n<style scoped>\n    .dataframe tbody tr th:only-of-type {\n        vertical-align: middle;\n    }\n\n    .dataframe tbody tr th {\n        vertical-align: top;\n    }\n\n    .dataframe thead th {\n        text-align: right;\n    }\n</style>\n<table border=\"1\" class=\"dataframe\">\n  <thead>\n    <tr style=\"text-align: right;\">\n      <th></th>\n      <th>Density_Feed Properties</th>\n      <th>Density_Vent Gas Production Rate and Composition</th>\n      <th>Density_Distillate Production Rate and Composition</th>\n      <th>Density_Sidedraw Production Rate and Composition</th>\n      <th>Density_Bottoms Production Rate and Composition</th>\n      <th>Tatoray Stripper C620 Operation_Yield Summary_Reflux Rate_m3/hr</th>\n      <th>Tatoray Stripper C620 Operation_Heat Duty_Condenser Heat Duty_Mkcal/hr</th>\n      <th>Tatoray Stripper C620 Operation_Heat Duty_Reboiler Heat Duty_Mkcal/hr</th>\n      <th>Tatoray Stripper C620 Operation_Column Temp Profile_C620 Tray 14 (Control)_oC</th>\n      <th>Tatoray Stripper C620 Operation_Column Temp Profile_C620 Tray 34 (Control)_oC</th>\n    </tr>\n  </thead>\n  <tbody>\n    <tr>\n      <th>0</th>\n      <td>0.862335</td>\n      <td>0.459559</td>\n      <td>0.772324</td>\n      <td>0.878935</td>\n      <td>0.871956</td>\n      <td>131.448944</td>\n      <td>11.023032</td>\n      <td>13.407648</td>\n      <td>177.871201</td>\n      <td>193.812637</td>\n    </tr>\n  </tbody>\n</table>\n</div>"
     },
     "metadata": {},
     "execution_count": 38
    }
   ],
   "source": [
    "c620_op"
   ]
  },
  {
   "cell_type": "code",
   "execution_count": 39,
   "metadata": {},
   "outputs": [
    {
     "output_type": "execute_result",
     "data": {
      "text/plain": [
       "   Density_Feed Properties  Density_Vent Gas Production Rate and Composition  \\\n",
       "0                 0.877369                                          0.524702   \n",
       "\n",
       "   Density_Distillate (Benzene Drag) Production Rate and Composition  \\\n",
       "0                                           0.872701                   \n",
       "\n",
       "   Density_Sidedraw (Benzene )Production Rate and Composition  \\\n",
       "0                                           0.883747            \n",
       "\n",
       "   Density_Bottoms Production Rate and Composition  \\\n",
       "0                                          0.86992   \n",
       "\n",
       "   Benzene Column C660 Operation_Yield Summary_Reflux Rate_m3/hr  \\\n",
       "0                                         124.285812               \n",
       "\n",
       "   Benzene Column C660 Operation_Heat Duty_Condenser Heat Duty_Mkcal/hr  \\\n",
       "0                                          12.575921                      \n",
       "\n",
       "   Benzene Column C660 Operation_Heat Duty_Reboiler Heat Duty_Mkcal/hr  \\\n",
       "0                                          13.231657                     \n",
       "\n",
       "   Benzene Column C660 Operation_Column Temp Profile_C660 Tray 6 (SD & Control)_oC  \\\n",
       "0                                          86.656006                                 \n",
       "\n",
       "   Benzene Column C660 Operation_Column Temp Profile_C660 Tray 23 (Control)_oC  \n",
       "0                                          91.173752                            "
      ],
      "text/html": "<div>\n<style scoped>\n    .dataframe tbody tr th:only-of-type {\n        vertical-align: middle;\n    }\n\n    .dataframe tbody tr th {\n        vertical-align: top;\n    }\n\n    .dataframe thead th {\n        text-align: right;\n    }\n</style>\n<table border=\"1\" class=\"dataframe\">\n  <thead>\n    <tr style=\"text-align: right;\">\n      <th></th>\n      <th>Density_Feed Properties</th>\n      <th>Density_Vent Gas Production Rate and Composition</th>\n      <th>Density_Distillate (Benzene Drag) Production Rate and Composition</th>\n      <th>Density_Sidedraw (Benzene )Production Rate and Composition</th>\n      <th>Density_Bottoms Production Rate and Composition</th>\n      <th>Benzene Column C660 Operation_Yield Summary_Reflux Rate_m3/hr</th>\n      <th>Benzene Column C660 Operation_Heat Duty_Condenser Heat Duty_Mkcal/hr</th>\n      <th>Benzene Column C660 Operation_Heat Duty_Reboiler Heat Duty_Mkcal/hr</th>\n      <th>Benzene Column C660 Operation_Column Temp Profile_C660 Tray 6 (SD &amp; Control)_oC</th>\n      <th>Benzene Column C660 Operation_Column Temp Profile_C660 Tray 23 (Control)_oC</th>\n    </tr>\n  </thead>\n  <tbody>\n    <tr>\n      <th>0</th>\n      <td>0.877369</td>\n      <td>0.524702</td>\n      <td>0.872701</td>\n      <td>0.883747</td>\n      <td>0.86992</td>\n      <td>124.285812</td>\n      <td>12.575921</td>\n      <td>13.231657</td>\n      <td>86.656006</td>\n      <td>91.173752</td>\n    </tr>\n  </tbody>\n</table>\n</div>"
     },
     "metadata": {},
     "execution_count": 39
    }
   ],
   "source": [
    "c660_op"
   ]
  },
  {
   "cell_type": "code",
   "execution_count": 40,
   "metadata": {},
   "outputs": [
    {
     "output_type": "execute_result",
     "data": {
      "text/plain": [
       "   Density_Distillate Production Rate and Composition  \\\n",
       "0                                           0.870838    \n",
       "\n",
       "   Density_Bottoms Production Rate and Composition  \\\n",
       "0                                          0.87204   \n",
       "\n",
       "   Toluene Column C670 Operation_Yield \\nSummary_Reflux Rate_m3/hr  \\\n",
       "0                                         276.671906                 \n",
       "\n",
       "   Toluene Column C670 Operation_Heat Duty_Condenser Heat Duty_Mkcal/hr  \\\n",
       "0                                          33.639923                      \n",
       "\n",
       "   Toluene Column C670 Operation_Heat Duty_Reboiler Heat Duty_Mkcal/hr  \\\n",
       "0                                           34.31089                     \n",
       "\n",
       "   Toluene Column C670 Operation_Column Temp Profile_C670 Tray 24 (Control)_oC  \\\n",
       "0                                         181.021072                             \n",
       "\n",
       "   Toluene Column C670 Operation_Column Temp Profile_C670 Btm Temp (Control)_oC  \n",
       "0                                         225.421448                             "
      ],
      "text/html": "<div>\n<style scoped>\n    .dataframe tbody tr th:only-of-type {\n        vertical-align: middle;\n    }\n\n    .dataframe tbody tr th {\n        vertical-align: top;\n    }\n\n    .dataframe thead th {\n        text-align: right;\n    }\n</style>\n<table border=\"1\" class=\"dataframe\">\n  <thead>\n    <tr style=\"text-align: right;\">\n      <th></th>\n      <th>Density_Distillate Production Rate and Composition</th>\n      <th>Density_Bottoms Production Rate and Composition</th>\n      <th>Toluene Column C670 Operation_Yield \\nSummary_Reflux Rate_m3/hr</th>\n      <th>Toluene Column C670 Operation_Heat Duty_Condenser Heat Duty_Mkcal/hr</th>\n      <th>Toluene Column C670 Operation_Heat Duty_Reboiler Heat Duty_Mkcal/hr</th>\n      <th>Toluene Column C670 Operation_Column Temp Profile_C670 Tray 24 (Control)_oC</th>\n      <th>Toluene Column C670 Operation_Column Temp Profile_C670 Btm Temp (Control)_oC</th>\n    </tr>\n  </thead>\n  <tbody>\n    <tr>\n      <th>0</th>\n      <td>0.870838</td>\n      <td>0.87204</td>\n      <td>276.671906</td>\n      <td>33.639923</td>\n      <td>34.31089</td>\n      <td>181.021072</td>\n      <td>225.421448</td>\n    </tr>\n  </tbody>\n</table>\n</div>"
     },
     "metadata": {},
     "execution_count": 40
    }
   ],
   "source": [
    "c670_op"
   ]
  },
  {
   "cell_type": "markdown",
   "metadata": {},
   "source": [
    "## 推薦模式 "
   ]
  },
  {
   "cell_type": "code",
   "execution_count": 41,
   "metadata": {
    "tags": []
   },
   "outputs": [
    {
     "output_type": "stream",
     "name": "stderr",
     "text": [
      "\u001b[32m[I 2021-05-05 13:01:01,568]\u001b[0m A new study created in memory with name: no-name-aab90ab0-5fae-400f-8016-6f2b5f634b5e\u001b[0m\n",
      "系統已經自動設定推薦值[70,980,10]\n"
     ]
    },
    {
     "output_type": "display_data",
     "data": {
      "text/plain": "HBox(children=(HTML(value=''), FloatProgress(value=0.0), HTML(value='')))",
      "application/vnd.jupyter.widget-view+json": {
       "version_major": 2,
       "version_minor": 0,
       "model_id": "28c0704e8f794b2caee0bad2c8c41b86"
      }
     },
     "metadata": {}
    },
    {
     "output_type": "stream",
     "name": "stdout",
     "text": [
      "epoch:0\n",
      "   output_bzinside  output_nainbz  output_tol  output_dist_rate  max_loss\n",
      "0        89.032083     676.680333   10.000002          9.150084  9.150084\n",
      "epoch:10\n",
      "    output_bzinside  output_nainbz  output_tol  output_dist_rate  max_loss\n",
      "10        92.439147     725.617501   27.954868          0.486315  1.795487\n",
      "epoch:20\n",
      "    output_bzinside  output_nainbz  output_tol  output_dist_rate  max_loss\n",
      "20        90.350787     712.527991   26.377572          0.337104  1.637757\n",
      "epoch:30\n",
      "    output_bzinside  output_nainbz  output_tol  output_dist_rate  max_loss\n",
      "30        92.314064     675.314124    9.969086          0.542816  0.542816\n",
      "epoch:40\n",
      "    output_bzinside  output_nainbz  output_tol  output_dist_rate  max_loss\n",
      "40        89.376145      675.96382   10.069418          0.412744  0.412744\n",
      "epoch:50\n",
      "    output_bzinside  output_nainbz  output_tol  output_dist_rate  max_loss\n",
      "50        86.498685     665.986164    5.235042          0.844307  0.844307\n",
      "epoch:60\n",
      "    output_bzinside  output_nainbz  output_tol  output_dist_rate  max_loss\n",
      "60        87.940512     678.899157   11.148724          0.448298  0.448298\n",
      "epoch:70\n",
      "    output_bzinside  output_nainbz  output_tol  output_dist_rate  max_loss\n",
      "70        89.513636     677.391038   10.898249          0.158516  0.308785\n",
      "epoch:80\n",
      "    output_bzinside  output_nainbz  output_tol  output_dist_rate  max_loss\n",
      "80        87.109542     677.807484   10.945009          0.307036   0.30836\n",
      "epoch:90\n",
      "    output_bzinside  output_nainbz  output_tol  output_dist_rate  max_loss\n",
      "90        89.205062     671.743088     8.14837          0.039209  0.314548\n",
      "\n",
      "bzinside_loss: 0.281934771838744\n",
      "nainbz_loss: 0.304891705793702\n",
      "tol_loss: 0.30390574121080627\n",
      "distrate_loss: 0.022674829723028894\n"
     ]
    }
   ],
   "source": [
    "c620_wt2,c620_op2,c660_wt2,c660_op2,c670_wt2,c670_op2,bz_error,nainbz_error,tol_error = f.recommend(icg_input_df.copy(),c620_feed_df.copy(),t651_feed_df.copy(),\n",
    "search_iteration = 100,only_tune_temp=True)"
   ]
  },
  {
   "cell_type": "code",
   "execution_count": 42,
   "metadata": {},
   "outputs": [
    {
     "output_type": "execute_result",
     "data": {
      "text/plain": [
       "(0.281934771838744, 0.304891705793702, 0.30390574121080627)"
      ]
     },
     "metadata": {},
     "execution_count": 42
    }
   ],
   "source": [
    "bz_error,nainbz_error,tol_error "
   ]
  },
  {
   "cell_type": "markdown",
   "metadata": {},
   "source": [
    "## 計算Delta"
   ]
  },
  {
   "cell_type": "code",
   "execution_count": 43,
   "metadata": {},
   "outputs": [
    {
     "output_type": "execute_result",
     "data": {
      "text/plain": [
       "   Density_Feed Properties  Density_Vent Gas Production Rate and Composition  \\\n",
       "0                      0.0                                               0.0   \n",
       "\n",
       "   Density_Distillate Production Rate and Composition  \\\n",
       "0                                                0.0    \n",
       "\n",
       "   Density_Sidedraw Production Rate and Composition  \\\n",
       "0                                               0.0   \n",
       "\n",
       "   Density_Bottoms Production Rate and Composition  \\\n",
       "0                                              0.0   \n",
       "\n",
       "   Tatoray Stripper C620 Operation_Yield Summary_Reflux Rate_m3/hr  \\\n",
       "0                                                0.0                 \n",
       "\n",
       "   Tatoray Stripper C620 Operation_Heat Duty_Condenser Heat Duty_Mkcal/hr  \\\n",
       "0                                                0.0                        \n",
       "\n",
       "   Tatoray Stripper C620 Operation_Heat Duty_Reboiler Heat Duty_Mkcal/hr  \\\n",
       "0                                                0.0                       \n",
       "\n",
       "   Tatoray Stripper C620 Operation_Column Temp Profile_C620 Tray 14 (Control)_oC  \\\n",
       "0                                           0.235964                               \n",
       "\n",
       "   Tatoray Stripper C620 Operation_Column Temp Profile_C620 Tray 34 (Control)_oC  \n",
       "0                                           0.453836                              "
      ],
      "text/html": "<div>\n<style scoped>\n    .dataframe tbody tr th:only-of-type {\n        vertical-align: middle;\n    }\n\n    .dataframe tbody tr th {\n        vertical-align: top;\n    }\n\n    .dataframe thead th {\n        text-align: right;\n    }\n</style>\n<table border=\"1\" class=\"dataframe\">\n  <thead>\n    <tr style=\"text-align: right;\">\n      <th></th>\n      <th>Density_Feed Properties</th>\n      <th>Density_Vent Gas Production Rate and Composition</th>\n      <th>Density_Distillate Production Rate and Composition</th>\n      <th>Density_Sidedraw Production Rate and Composition</th>\n      <th>Density_Bottoms Production Rate and Composition</th>\n      <th>Tatoray Stripper C620 Operation_Yield Summary_Reflux Rate_m3/hr</th>\n      <th>Tatoray Stripper C620 Operation_Heat Duty_Condenser Heat Duty_Mkcal/hr</th>\n      <th>Tatoray Stripper C620 Operation_Heat Duty_Reboiler Heat Duty_Mkcal/hr</th>\n      <th>Tatoray Stripper C620 Operation_Column Temp Profile_C620 Tray 14 (Control)_oC</th>\n      <th>Tatoray Stripper C620 Operation_Column Temp Profile_C620 Tray 34 (Control)_oC</th>\n    </tr>\n  </thead>\n  <tbody>\n    <tr>\n      <th>0</th>\n      <td>0.0</td>\n      <td>0.0</td>\n      <td>0.0</td>\n      <td>0.0</td>\n      <td>0.0</td>\n      <td>0.0</td>\n      <td>0.0</td>\n      <td>0.0</td>\n      <td>0.235964</td>\n      <td>0.453836</td>\n    </tr>\n  </tbody>\n</table>\n</div>"
     },
     "metadata": {},
     "execution_count": 43
    }
   ],
   "source": [
    "c620_op2-c620_op # 苯從80降到70 c620溫度應該上升 確實有上升"
   ]
  },
  {
   "cell_type": "code",
   "execution_count": 44,
   "metadata": {},
   "outputs": [
    {
     "output_type": "execute_result",
     "data": {
      "text/plain": [
       "   Density_Feed Properties  Density_Vent Gas Production Rate and Composition  \\\n",
       "0                      0.0                                               0.0   \n",
       "\n",
       "   Density_Distillate (Benzene Drag) Production Rate and Composition  \\\n",
       "0                                                0.0                   \n",
       "\n",
       "   Density_Sidedraw (Benzene )Production Rate and Composition  \\\n",
       "0                                                0.0            \n",
       "\n",
       "   Density_Bottoms Production Rate and Composition  \\\n",
       "0                                              0.0   \n",
       "\n",
       "   Benzene Column C660 Operation_Yield Summary_Reflux Rate_m3/hr  \\\n",
       "0                                                0.0               \n",
       "\n",
       "   Benzene Column C660 Operation_Heat Duty_Condenser Heat Duty_Mkcal/hr  \\\n",
       "0                                                0.0                      \n",
       "\n",
       "   Benzene Column C660 Operation_Heat Duty_Reboiler Heat Duty_Mkcal/hr  \\\n",
       "0                                                0.0                     \n",
       "\n",
       "   Benzene Column C660 Operation_Column Temp Profile_C660 Tray 6 (SD & Control)_oC  \\\n",
       "0                                          -0.033781                                 \n",
       "\n",
       "   Benzene Column C660 Operation_Column Temp Profile_C660 Tray 23 (Control)_oC  \n",
       "0                                          -0.026437                            "
      ],
      "text/html": "<div>\n<style scoped>\n    .dataframe tbody tr th:only-of-type {\n        vertical-align: middle;\n    }\n\n    .dataframe tbody tr th {\n        vertical-align: top;\n    }\n\n    .dataframe thead th {\n        text-align: right;\n    }\n</style>\n<table border=\"1\" class=\"dataframe\">\n  <thead>\n    <tr style=\"text-align: right;\">\n      <th></th>\n      <th>Density_Feed Properties</th>\n      <th>Density_Vent Gas Production Rate and Composition</th>\n      <th>Density_Distillate (Benzene Drag) Production Rate and Composition</th>\n      <th>Density_Sidedraw (Benzene )Production Rate and Composition</th>\n      <th>Density_Bottoms Production Rate and Composition</th>\n      <th>Benzene Column C660 Operation_Yield Summary_Reflux Rate_m3/hr</th>\n      <th>Benzene Column C660 Operation_Heat Duty_Condenser Heat Duty_Mkcal/hr</th>\n      <th>Benzene Column C660 Operation_Heat Duty_Reboiler Heat Duty_Mkcal/hr</th>\n      <th>Benzene Column C660 Operation_Column Temp Profile_C660 Tray 6 (SD &amp; Control)_oC</th>\n      <th>Benzene Column C660 Operation_Column Temp Profile_C660 Tray 23 (Control)_oC</th>\n    </tr>\n  </thead>\n  <tbody>\n    <tr>\n      <th>0</th>\n      <td>0.0</td>\n      <td>0.0</td>\n      <td>0.0</td>\n      <td>0.0</td>\n      <td>0.0</td>\n      <td>0.0</td>\n      <td>0.0</td>\n      <td>0.0</td>\n      <td>-0.033781</td>\n      <td>-0.026437</td>\n    </tr>\n  </tbody>\n</table>\n</div>"
     },
     "metadata": {},
     "execution_count": 44
    }
   ],
   "source": [
    "c660_op2-c660_op"
   ]
  },
  {
   "cell_type": "code",
   "execution_count": 45,
   "metadata": {},
   "outputs": [
    {
     "output_type": "execute_result",
     "data": {
      "text/plain": [
       "   Density_Distillate Production Rate and Composition  \\\n",
       "0                                       2.980232e-07    \n",
       "\n",
       "   Density_Bottoms Production Rate and Composition  \\\n",
       "0                                        -0.000012   \n",
       "\n",
       "   Toluene Column C670 Operation_Yield \\nSummary_Reflux Rate_m3/hr  \\\n",
       "0                                           8.563019                 \n",
       "\n",
       "   Toluene Column C670 Operation_Heat Duty_Condenser Heat Duty_Mkcal/hr  \\\n",
       "0                                           0.590191                      \n",
       "\n",
       "   Toluene Column C670 Operation_Heat Duty_Reboiler Heat Duty_Mkcal/hr  \\\n",
       "0                                           0.381004                     \n",
       "\n",
       "   Toluene Column C670 Operation_Column Temp Profile_C670 Tray 24 (Control)_oC  \\\n",
       "0                                           0.060822                             \n",
       "\n",
       "   Toluene Column C670 Operation_Column Temp Profile_C670 Btm Temp (Control)_oC  \n",
       "0                                           0.403076                             "
      ],
      "text/html": "<div>\n<style scoped>\n    .dataframe tbody tr th:only-of-type {\n        vertical-align: middle;\n    }\n\n    .dataframe tbody tr th {\n        vertical-align: top;\n    }\n\n    .dataframe thead th {\n        text-align: right;\n    }\n</style>\n<table border=\"1\" class=\"dataframe\">\n  <thead>\n    <tr style=\"text-align: right;\">\n      <th></th>\n      <th>Density_Distillate Production Rate and Composition</th>\n      <th>Density_Bottoms Production Rate and Composition</th>\n      <th>Toluene Column C670 Operation_Yield \\nSummary_Reflux Rate_m3/hr</th>\n      <th>Toluene Column C670 Operation_Heat Duty_Condenser Heat Duty_Mkcal/hr</th>\n      <th>Toluene Column C670 Operation_Heat Duty_Reboiler Heat Duty_Mkcal/hr</th>\n      <th>Toluene Column C670 Operation_Column Temp Profile_C670 Tray 24 (Control)_oC</th>\n      <th>Toluene Column C670 Operation_Column Temp Profile_C670 Btm Temp (Control)_oC</th>\n    </tr>\n  </thead>\n  <tbody>\n    <tr>\n      <th>0</th>\n      <td>2.980232e-07</td>\n      <td>-0.000012</td>\n      <td>8.563019</td>\n      <td>0.590191</td>\n      <td>0.381004</td>\n      <td>0.060822</td>\n      <td>0.403076</td>\n    </tr>\n  </tbody>\n</table>\n</div>"
     },
     "metadata": {},
     "execution_count": 45
    }
   ],
   "source": [
    "c670_op2-c670_op"
   ]
  },
  {
   "cell_type": "code",
   "execution_count": null,
   "metadata": {},
   "outputs": [],
   "source": []
  }
 ],
 "metadata": {
  "kernelspec": {
   "name": "python385jvsc74a57bd02ccee5cc862501c1aad1cf19888c2a2eca4026b72d187db43d5e889cbdc6ee97",
   "display_name": "Python 3.8.5 64-bit ('base': conda)"
  },
  "language_info": {
   "codemirror_mode": {
    "name": "ipython",
    "version": 3
   },
   "file_extension": ".py",
   "mimetype": "text/x-python",
   "name": "python",
   "nbconvert_exporter": "python",
   "pygments_lexer": "ipython3",
   "version": "3.8.5"
  }
 },
 "nbformat": 4,
 "nbformat_minor": 2
}