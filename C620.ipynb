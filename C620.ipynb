{
  "nbformat": 4,
  "nbformat_minor": 0,
  "metadata": {
    "colab": {
      "name": "C620.ipynb",
      "provenance": [],
      "mount_file_id": "https://github.com/skywalker0803r/c620/blob/main/C620.ipynb",
      "authorship_tag": "ABX9TyO3bNLIrRz83f1lC8Uu54Wa",
      "include_colab_link": true
    },
    "kernelspec": {
      "name": "python3",
      "display_name": "Python 3"
    }
  },
  "cells": [
    {
      "cell_type": "markdown",
      "metadata": {
        "id": "view-in-github",
        "colab_type": "text"
      },
      "source": [
        "<a href=\"https://colab.research.google.com/github/skywalker0803r/c620/blob/main/C620.ipynb\" target=\"_parent\"><img src=\"https://colab.research.google.com/assets/colab-badge.svg\" alt=\"Open In Colab\"/></a>"
      ]
    },
    {
      "cell_type": "code",
      "metadata": {
        "id": "UlSIoDuFhzeA"
      },
      "source": [
        "import pandas as pd\n",
        "import numpy as np\n",
        "import joblib\n",
        "#!pip install autorch"
      ],
      "execution_count": 1,
      "outputs": []
    },
    {
      "cell_type": "code",
      "metadata": {
        "colab": {
          "base_uri": "https://localhost:8080/"
        },
        "id": "33VeJjbyjuv2",
        "outputId": "8ebbbed0-5f3e-4338-f33f-e18912a3cf92"
      },
      "source": [
        "c = joblib.load('/content/drive/MyDrive/台塑輕油案子/data/c620/col_names/c620_col_names.pkl')\n",
        "c.keys()"
      ],
      "execution_count": 2,
      "outputs": [
        {
          "output_type": "execute_result",
          "data": {
            "text/plain": [
              "dict_keys(['x41', 'case', 'yRefluxRate', 'yControl', 'yHeatDuty', 'vent_gas_x', 'distillate_x', 'sidedraw_x', 'bottoms_x', 'vent_gas_sf', 'distillate_sf', 'sidedraw_sf', 'bottoms_sf', 'density'])"
            ]
          },
          "metadata": {
            "tags": []
          },
          "execution_count": 2
        }
      ]
    },
    {
      "cell_type": "code",
      "metadata": {
        "colab": {
          "base_uri": "https://localhost:8080/",
          "height": 513
        },
        "id": "I1LZZ_tLl0HX",
        "outputId": "b4d215cc-599c-4e79-dfcd-b8566e05c301"
      },
      "source": [
        "c620_df = pd.read_csv('/content/drive/MyDrive/台塑輕油案子/data/c620/cleaned/c620_train.csv',index_col=0).dropna(axis=0)\n",
        "print(c620_df.shape)\n",
        "c620_df.head()"
      ],
      "execution_count": 3,
      "outputs": [
        {
          "output_type": "stream",
          "text": [
            "(15552, 381)\n"
          ],
          "name": "stdout"
        },
        {
          "output_type": "execute_result",
          "data": {
            "text/html": [
              "<div>\n",
              "<style scoped>\n",
              "    .dataframe tbody tr th:only-of-type {\n",
              "        vertical-align: middle;\n",
              "    }\n",
              "\n",
              "    .dataframe tbody tr th {\n",
              "        vertical-align: top;\n",
              "    }\n",
              "\n",
              "    .dataframe thead th {\n",
              "        text-align: right;\n",
              "    }\n",
              "</style>\n",
              "<table border=\"1\" class=\"dataframe\">\n",
              "  <thead>\n",
              "    <tr style=\"text-align: right;\">\n",
              "      <th></th>\n",
              "      <th>Combined Feed to Tatoray Stripper C620_Detailed Composition_Hydrogen_wt%</th>\n",
              "      <th>Combined Feed to Tatoray Stripper C620_Detailed Composition_Methane_wt%</th>\n",
              "      <th>Combined Feed to Tatoray Stripper C620_Detailed Composition_Ethane_wt%</th>\n",
              "      <th>Combined Feed to Tatoray Stripper C620_Detailed Composition_Propane_wt%</th>\n",
              "      <th>Combined Feed to Tatoray Stripper C620_Detailed Composition_n-Butane_wt%</th>\n",
              "      <th>Combined Feed to Tatoray Stripper C620_Detailed Composition_n-Pentane_wt%</th>\n",
              "      <th>Combined Feed to Tatoray Stripper C620_Detailed Composition_n-Hexane_wt%</th>\n",
              "      <th>Combined Feed to Tatoray Stripper C620_Detailed Composition_Benzene_wt%</th>\n",
              "      <th>Combined Feed to Tatoray Stripper C620_Detailed Composition_Cyclohexane_wt%</th>\n",
              "      <th>Combined Feed to Tatoray Stripper C620_Detailed Composition_n-Heptane_wt%</th>\n",
              "      <th>Combined Feed to Tatoray Stripper C620_Detailed Composition_Water_wt%</th>\n",
              "      <th>Combined Feed to Tatoray Stripper C620_Detailed Composition_Methylcyclohexane_wt%</th>\n",
              "      <th>Combined Feed to Tatoray Stripper C620_Detailed Composition_Toluene_wt%</th>\n",
              "      <th>Combined Feed to Tatoray Stripper C620_Detailed Composition_n-Octane_wt%</th>\n",
              "      <th>Combined Feed to Tatoray Stripper C620_Detailed Composition_n-Propylcyclopentane_wt%</th>\n",
              "      <th>Combined Feed to Tatoray Stripper C620_Detailed Composition_Ethylcyclohexane_wt%</th>\n",
              "      <th>Combined Feed to Tatoray Stripper C620_Detailed Composition_Ethylbenzene_wt%</th>\n",
              "      <th>Combined Feed to Tatoray Stripper C620_Detailed Composition_p-Xylene_wt%</th>\n",
              "      <th>Combined Feed to Tatoray Stripper C620_Detailed Composition_m-Xylene_wt%</th>\n",
              "      <th>Combined Feed to Tatoray Stripper C620_Detailed Composition_o-Xylene_wt%</th>\n",
              "      <th>Combined Feed to Tatoray Stripper C620_Detailed Composition_n-Nonane_wt%</th>\n",
              "      <th>Combined Feed to Tatoray Stripper C620_Detailed Composition_i-Propylbenzene_wt%</th>\n",
              "      <th>Combined Feed to Tatoray Stripper C620_Detailed Composition_n-Propylcyclohexane_wt%</th>\n",
              "      <th>Combined Feed to Tatoray Stripper C620_Detailed Composition_n-Propylbenzene_wt%</th>\n",
              "      <th>Combined Feed to Tatoray Stripper C620_Detailed Composition_1-Methyl-3-ethylbenzene_wt%</th>\n",
              "      <th>Combined Feed to Tatoray Stripper C620_Detailed Composition_1-Methyl-4-ethylbenzene_wt%</th>\n",
              "      <th>Combined Feed to Tatoray Stripper C620_Detailed Composition_1,3,5-Trimethylbenzene_wt%</th>\n",
              "      <th>Combined Feed to Tatoray Stripper C620_Detailed Composition_1-Methyl-2-ethylbenzene_wt%</th>\n",
              "      <th>Combined Feed to Tatoray Stripper C620_Detailed Composition_1,2,4-Trimethylbenzene_wt%</th>\n",
              "      <th>Combined Feed to Tatoray Stripper C620_Detailed Composition_tert-Butylcyclohexane_wt%</th>\n",
              "      <th>Combined Feed to Tatoray Stripper C620_Detailed Composition_1,2,3-Trimethylbenzene_wt%</th>\n",
              "      <th>Combined Feed to Tatoray Stripper C620_Detailed Composition_Indane_wt%</th>\n",
              "      <th>Combined Feed to Tatoray Stripper C620_Detailed Composition_1-Methyl-4-n-propylbenzene_wt%</th>\n",
              "      <th>Combined Feed to Tatoray Stripper C620_Detailed Composition_1,2-Diethylbenzene_wt%</th>\n",
              "      <th>Combined Feed to Tatoray Stripper C620_Detailed Composition_5-Ethyl-m-xylene_wt%</th>\n",
              "      <th>Combined Feed to Tatoray Stripper C620_Detailed Composition_1,4-Diethylbenzene_wt%</th>\n",
              "      <th>Combined Feed to Tatoray Stripper C620_Detailed Composition_1,2,3,5-Tetramethylbenzene_wt%</th>\n",
              "      <th>Combined Feed to Tatoray Stripper C620_Detailed Composition_n-Pentylbenzene_wt%</th>\n",
              "      <th>Combined Feed to Tatoray Stripper C620_Detailed Composition_n-Hexylbenzene_wt%</th>\n",
              "      <th>Combined Feed to Tatoray Stripper C620_Detailed Composition_Nitrogen_wt%</th>\n",
              "      <th>...</th>\n",
              "      <th>Tatoray Stripper C620 Split Factors Calculation_Split Factor for Individual Component to Tatoray Stripper C620 Bottoms_Methane_Fraction</th>\n",
              "      <th>Tatoray Stripper C620 Split Factors Calculation_Split Factor for Individual Component to Tatoray Stripper C620 Bottoms_Ethane_Fraction</th>\n",
              "      <th>Tatoray Stripper C620 Split Factors Calculation_Split Factor for Individual Component to Tatoray Stripper C620 Bottoms_Propane_Fraction</th>\n",
              "      <th>Tatoray Stripper C620 Split Factors Calculation_Split Factor for Individual Component to Tatoray Stripper C620 Bottoms_n-Butane_Fraction</th>\n",
              "      <th>Tatoray Stripper C620 Split Factors Calculation_Split Factor for Individual Component to Tatoray Stripper C620 Bottoms_n-Pentane_Fraction</th>\n",
              "      <th>Tatoray Stripper C620 Split Factors Calculation_Split Factor for Individual Component to Tatoray Stripper C620 Bottoms_n-Hexane_Fraction</th>\n",
              "      <th>Tatoray Stripper C620 Split Factors Calculation_Split Factor for Individual Component to Tatoray Stripper C620 Bottoms_Benzene_Fraction</th>\n",
              "      <th>Tatoray Stripper C620 Split Factors Calculation_Split Factor for Individual Component to Tatoray Stripper C620 Bottoms_Cyclohexane_Fraction</th>\n",
              "      <th>Tatoray Stripper C620 Split Factors Calculation_Split Factor for Individual Component to Tatoray Stripper C620 Bottoms_n-Heptane_Fraction</th>\n",
              "      <th>Tatoray Stripper C620 Split Factors Calculation_Split Factor for Individual Component to Tatoray Stripper C620 Bottoms_Water_Fraction</th>\n",
              "      <th>Tatoray Stripper C620 Split Factors Calculation_Split Factor for Individual Component to Tatoray Stripper C620 Bottoms_Methylcyclohexane_Fraction</th>\n",
              "      <th>Tatoray Stripper C620 Split Factors Calculation_Split Factor for Individual Component to Tatoray Stripper C620 Bottoms_Toluene_Fraction</th>\n",
              "      <th>Tatoray Stripper C620 Split Factors Calculation_Split Factor for Individual Component to Tatoray Stripper C620 Bottoms_n-Octane_Fraction</th>\n",
              "      <th>Tatoray Stripper C620 Split Factors Calculation_Split Factor for Individual Component to Tatoray Stripper C620 Bottoms_n-Propylcyclopentane_Fraction</th>\n",
              "      <th>Tatoray Stripper C620 Split Factors Calculation_Split Factor for Individual Component to Tatoray Stripper C620 Bottoms_Ethylcyclohexane_Fraction</th>\n",
              "      <th>Tatoray Stripper C620 Split Factors Calculation_Split Factor for Individual Component to Tatoray Stripper C620 Bottoms_Ethylbenzene_Fraction</th>\n",
              "      <th>Tatoray Stripper C620 Split Factors Calculation_Split Factor for Individual Component to Tatoray Stripper C620 Bottoms_p-Xylene_Fraction</th>\n",
              "      <th>Tatoray Stripper C620 Split Factors Calculation_Split Factor for Individual Component to Tatoray Stripper C620 Bottoms_m-Xylene_Fraction</th>\n",
              "      <th>Tatoray Stripper C620 Split Factors Calculation_Split Factor for Individual Component to Tatoray Stripper C620 Bottoms_o-Xylene_Fraction</th>\n",
              "      <th>Tatoray Stripper C620 Split Factors Calculation_Split Factor for Individual Component to Tatoray Stripper C620 Bottoms_n-Nonane_Fraction</th>\n",
              "      <th>Tatoray Stripper C620 Split Factors Calculation_Split Factor for Individual Component to Tatoray Stripper C620 Bottoms_i-Propylbenzene_Fraction</th>\n",
              "      <th>Tatoray Stripper C620 Split Factors Calculation_Split Factor for Individual Component to Tatoray Stripper C620 Bottoms_n-Propylcyclohexane_Fraction</th>\n",
              "      <th>Tatoray Stripper C620 Split Factors Calculation_Split Factor for Individual Component to Tatoray Stripper C620 Bottoms_n-Propylbenzene_Fraction</th>\n",
              "      <th>Tatoray Stripper C620 Split Factors Calculation_Split Factor for Individual Component to Tatoray Stripper C620 Bottoms_1-Methyl-3-ethylbenzene_Fraction</th>\n",
              "      <th>Tatoray Stripper C620 Split Factors Calculation_Split Factor for Individual Component to Tatoray Stripper C620 Bottoms_1-Methyl-4-ethylbenzene_Fraction</th>\n",
              "      <th>Tatoray Stripper C620 Split Factors Calculation_Split Factor for Individual Component to Tatoray Stripper C620 Bottoms_1,3,5-Trimethylbenzene_Fraction</th>\n",
              "      <th>Tatoray Stripper C620 Split Factors Calculation_Split Factor for Individual Component to Tatoray Stripper C620 Bottoms_1-Methyl-2-ethylbenzene_Fraction</th>\n",
              "      <th>Tatoray Stripper C620 Split Factors Calculation_Split Factor for Individual Component to Tatoray Stripper C620 Bottoms_1,2,4-Trimethylbenzene_Fraction</th>\n",
              "      <th>Tatoray Stripper C620 Split Factors Calculation_Split Factor for Individual Component to Tatoray Stripper C620 Bottoms_tert-Butylcyclohexane_Fraction</th>\n",
              "      <th>Tatoray Stripper C620 Split Factors Calculation_Split Factor for Individual Component to Tatoray Stripper C620 Bottoms_1,2,3-Trimethylbenzene_Fraction</th>\n",
              "      <th>Tatoray Stripper C620 Split Factors Calculation_Split Factor for Individual Component to Tatoray Stripper C620 Bottoms_Indane_Fraction</th>\n",
              "      <th>Tatoray Stripper C620 Split Factors Calculation_Split Factor for Individual Component to Tatoray Stripper C620 Bottoms_1-Methyl-4-n-propylbenzene_Fraction</th>\n",
              "      <th>Tatoray Stripper C620 Split Factors Calculation_Split Factor for Individual Component to Tatoray Stripper C620 Bottoms_1,2-Diethylbenzene_Fraction</th>\n",
              "      <th>Tatoray Stripper C620 Split Factors Calculation_Split Factor for Individual Component to Tatoray Stripper C620 Bottoms_5-Ethyl-m-xylene_Fraction</th>\n",
              "      <th>Tatoray Stripper C620 Split Factors Calculation_Split Factor for Individual Component to Tatoray Stripper C620 Bottoms_1,4-Diethylbenzene_Fraction</th>\n",
              "      <th>Tatoray Stripper C620 Split Factors Calculation_Split Factor for Individual Component to Tatoray Stripper C620 Bottoms_1,2,3,5-Tetramethylbenzene_Fraction</th>\n",
              "      <th>Tatoray Stripper C620 Split Factors Calculation_Split Factor for Individual Component to Tatoray Stripper C620 Bottoms_n-Pentylbenzene_Fraction</th>\n",
              "      <th>Tatoray Stripper C620 Split Factors Calculation_Split Factor for Individual Component to Tatoray Stripper C620 Bottoms_n-Hexylbenzene_Fraction</th>\n",
              "      <th>Tatoray Stripper C620 Split Factors Calculation_Split Factor for Individual Component to Tatoray Stripper C620 Bottoms_Nitrogen_Fraction</th>\n",
              "      <th>Tatoray Stripper C620 Split Factors Calculation_Split Factor for Individual Component to Tatoray Stripper C620 Bottoms_Oxygen_Fraction</th>\n",
              "    </tr>\n",
              "  </thead>\n",
              "  <tbody>\n",
              "    <tr>\n",
              "      <th>001-001</th>\n",
              "      <td>0.0</td>\n",
              "      <td>0.022867</td>\n",
              "      <td>0.552459</td>\n",
              "      <td>0.508704</td>\n",
              "      <td>0.152381</td>\n",
              "      <td>0.076394</td>\n",
              "      <td>0.015837</td>\n",
              "      <td>15.780709</td>\n",
              "      <td>0.00768</td>\n",
              "      <td>0.015141</td>\n",
              "      <td>0.0</td>\n",
              "      <td>0.012288</td>\n",
              "      <td>38.888577</td>\n",
              "      <td>0.008192</td>\n",
              "      <td>0.009643</td>\n",
              "      <td>0.009643</td>\n",
              "      <td>0.939392</td>\n",
              "      <td>7.295359</td>\n",
              "      <td>15.927495</td>\n",
              "      <td>6.511656</td>\n",
              "      <td>0.013994</td>\n",
              "      <td>0.005488</td>\n",
              "      <td>0.002645</td>\n",
              "      <td>0.006403</td>\n",
              "      <td>0.897289</td>\n",
              "      <td>0.470139</td>\n",
              "      <td>2.381793</td>\n",
              "      <td>0.264339</td>\n",
              "      <td>6.08345</td>\n",
              "      <td>0.0</td>\n",
              "      <td>0.971376</td>\n",
              "      <td>0.032013</td>\n",
              "      <td>0.000915</td>\n",
              "      <td>0.021037</td>\n",
              "      <td>0.822286</td>\n",
              "      <td>0.0</td>\n",
              "      <td>0.945766</td>\n",
              "      <td>0.242387</td>\n",
              "      <td>0.104272</td>\n",
              "      <td>0.0</td>\n",
              "      <td>...</td>\n",
              "      <td>0.0</td>\n",
              "      <td>0.0</td>\n",
              "      <td>0.0</td>\n",
              "      <td>2.707966e-23</td>\n",
              "      <td>1.852217e-15</td>\n",
              "      <td>7.968738e-08</td>\n",
              "      <td>0.012900</td>\n",
              "      <td>0.021046</td>\n",
              "      <td>0.225509</td>\n",
              "      <td>0.0</td>\n",
              "      <td>0.771188</td>\n",
              "      <td>0.957813</td>\n",
              "      <td>0.969056</td>\n",
              "      <td>0.999388</td>\n",
              "      <td>0.999646</td>\n",
              "      <td>0.999919</td>\n",
              "      <td>0.999950</td>\n",
              "      <td>0.999960</td>\n",
              "      <td>0.999991</td>\n",
              "      <td>0.999961</td>\n",
              "      <td>0.999999</td>\n",
              "      <td>0.999999</td>\n",
              "      <td>1.0</td>\n",
              "      <td>0.999999</td>\n",
              "      <td>1.0</td>\n",
              "      <td>1.0</td>\n",
              "      <td>1.0</td>\n",
              "      <td>1.0</td>\n",
              "      <td>1.0</td>\n",
              "      <td>1.0</td>\n",
              "      <td>1.0</td>\n",
              "      <td>1.0</td>\n",
              "      <td>1.0</td>\n",
              "      <td>1.0</td>\n",
              "      <td>1.0</td>\n",
              "      <td>1.0</td>\n",
              "      <td>1.0</td>\n",
              "      <td>1.0</td>\n",
              "      <td>0.0</td>\n",
              "      <td>0.0</td>\n",
              "    </tr>\n",
              "    <tr>\n",
              "      <th>001-002</th>\n",
              "      <td>0.0</td>\n",
              "      <td>0.022867</td>\n",
              "      <td>0.552459</td>\n",
              "      <td>0.508704</td>\n",
              "      <td>0.152381</td>\n",
              "      <td>0.076394</td>\n",
              "      <td>0.015837</td>\n",
              "      <td>15.780709</td>\n",
              "      <td>0.00768</td>\n",
              "      <td>0.015141</td>\n",
              "      <td>0.0</td>\n",
              "      <td>0.012288</td>\n",
              "      <td>38.888577</td>\n",
              "      <td>0.008192</td>\n",
              "      <td>0.009643</td>\n",
              "      <td>0.009643</td>\n",
              "      <td>0.939392</td>\n",
              "      <td>7.295359</td>\n",
              "      <td>15.927495</td>\n",
              "      <td>6.511656</td>\n",
              "      <td>0.013994</td>\n",
              "      <td>0.005488</td>\n",
              "      <td>0.002645</td>\n",
              "      <td>0.006403</td>\n",
              "      <td>0.897289</td>\n",
              "      <td>0.470139</td>\n",
              "      <td>2.381793</td>\n",
              "      <td>0.264339</td>\n",
              "      <td>6.08345</td>\n",
              "      <td>0.0</td>\n",
              "      <td>0.971376</td>\n",
              "      <td>0.032013</td>\n",
              "      <td>0.000915</td>\n",
              "      <td>0.021037</td>\n",
              "      <td>0.822286</td>\n",
              "      <td>0.0</td>\n",
              "      <td>0.945766</td>\n",
              "      <td>0.242387</td>\n",
              "      <td>0.104272</td>\n",
              "      <td>0.0</td>\n",
              "      <td>...</td>\n",
              "      <td>0.0</td>\n",
              "      <td>0.0</td>\n",
              "      <td>0.0</td>\n",
              "      <td>2.708146e-23</td>\n",
              "      <td>1.852344e-15</td>\n",
              "      <td>7.969226e-08</td>\n",
              "      <td>0.012900</td>\n",
              "      <td>0.021046</td>\n",
              "      <td>0.225490</td>\n",
              "      <td>0.0</td>\n",
              "      <td>0.771176</td>\n",
              "      <td>0.957814</td>\n",
              "      <td>0.969056</td>\n",
              "      <td>0.999388</td>\n",
              "      <td>0.999646</td>\n",
              "      <td>0.999919</td>\n",
              "      <td>0.999950</td>\n",
              "      <td>0.999960</td>\n",
              "      <td>0.999991</td>\n",
              "      <td>0.999961</td>\n",
              "      <td>0.999999</td>\n",
              "      <td>0.999999</td>\n",
              "      <td>1.0</td>\n",
              "      <td>1.000000</td>\n",
              "      <td>1.0</td>\n",
              "      <td>1.0</td>\n",
              "      <td>1.0</td>\n",
              "      <td>1.0</td>\n",
              "      <td>1.0</td>\n",
              "      <td>1.0</td>\n",
              "      <td>1.0</td>\n",
              "      <td>1.0</td>\n",
              "      <td>1.0</td>\n",
              "      <td>1.0</td>\n",
              "      <td>1.0</td>\n",
              "      <td>1.0</td>\n",
              "      <td>1.0</td>\n",
              "      <td>1.0</td>\n",
              "      <td>0.0</td>\n",
              "      <td>0.0</td>\n",
              "    </tr>\n",
              "    <tr>\n",
              "      <th>001-003</th>\n",
              "      <td>0.0</td>\n",
              "      <td>0.022867</td>\n",
              "      <td>0.552459</td>\n",
              "      <td>0.508704</td>\n",
              "      <td>0.152381</td>\n",
              "      <td>0.076394</td>\n",
              "      <td>0.015837</td>\n",
              "      <td>15.780709</td>\n",
              "      <td>0.00768</td>\n",
              "      <td>0.015141</td>\n",
              "      <td>0.0</td>\n",
              "      <td>0.012288</td>\n",
              "      <td>38.888577</td>\n",
              "      <td>0.008192</td>\n",
              "      <td>0.009643</td>\n",
              "      <td>0.009643</td>\n",
              "      <td>0.939392</td>\n",
              "      <td>7.295359</td>\n",
              "      <td>15.927495</td>\n",
              "      <td>6.511656</td>\n",
              "      <td>0.013994</td>\n",
              "      <td>0.005488</td>\n",
              "      <td>0.002645</td>\n",
              "      <td>0.006403</td>\n",
              "      <td>0.897289</td>\n",
              "      <td>0.470139</td>\n",
              "      <td>2.381793</td>\n",
              "      <td>0.264339</td>\n",
              "      <td>6.08345</td>\n",
              "      <td>0.0</td>\n",
              "      <td>0.971376</td>\n",
              "      <td>0.032013</td>\n",
              "      <td>0.000915</td>\n",
              "      <td>0.021037</td>\n",
              "      <td>0.822286</td>\n",
              "      <td>0.0</td>\n",
              "      <td>0.945766</td>\n",
              "      <td>0.242387</td>\n",
              "      <td>0.104272</td>\n",
              "      <td>0.0</td>\n",
              "      <td>...</td>\n",
              "      <td>0.0</td>\n",
              "      <td>0.0</td>\n",
              "      <td>0.0</td>\n",
              "      <td>2.708068e-23</td>\n",
              "      <td>1.852287e-15</td>\n",
              "      <td>7.968995e-08</td>\n",
              "      <td>0.012900</td>\n",
              "      <td>0.021046</td>\n",
              "      <td>0.225500</td>\n",
              "      <td>0.0</td>\n",
              "      <td>0.771183</td>\n",
              "      <td>0.957814</td>\n",
              "      <td>0.969056</td>\n",
              "      <td>0.999388</td>\n",
              "      <td>0.999646</td>\n",
              "      <td>0.999919</td>\n",
              "      <td>0.999950</td>\n",
              "      <td>0.999960</td>\n",
              "      <td>0.999991</td>\n",
              "      <td>0.999961</td>\n",
              "      <td>0.999999</td>\n",
              "      <td>0.999999</td>\n",
              "      <td>1.0</td>\n",
              "      <td>1.000000</td>\n",
              "      <td>1.0</td>\n",
              "      <td>1.0</td>\n",
              "      <td>1.0</td>\n",
              "      <td>1.0</td>\n",
              "      <td>1.0</td>\n",
              "      <td>1.0</td>\n",
              "      <td>1.0</td>\n",
              "      <td>1.0</td>\n",
              "      <td>1.0</td>\n",
              "      <td>1.0</td>\n",
              "      <td>1.0</td>\n",
              "      <td>1.0</td>\n",
              "      <td>1.0</td>\n",
              "      <td>1.0</td>\n",
              "      <td>0.0</td>\n",
              "      <td>0.0</td>\n",
              "    </tr>\n",
              "    <tr>\n",
              "      <th>001-004</th>\n",
              "      <td>0.0</td>\n",
              "      <td>0.022867</td>\n",
              "      <td>0.552459</td>\n",
              "      <td>0.508704</td>\n",
              "      <td>0.152381</td>\n",
              "      <td>0.076394</td>\n",
              "      <td>0.015837</td>\n",
              "      <td>15.780709</td>\n",
              "      <td>0.00768</td>\n",
              "      <td>0.015141</td>\n",
              "      <td>0.0</td>\n",
              "      <td>0.012288</td>\n",
              "      <td>38.888577</td>\n",
              "      <td>0.008192</td>\n",
              "      <td>0.009643</td>\n",
              "      <td>0.009643</td>\n",
              "      <td>0.939392</td>\n",
              "      <td>7.295359</td>\n",
              "      <td>15.927495</td>\n",
              "      <td>6.511656</td>\n",
              "      <td>0.013994</td>\n",
              "      <td>0.005488</td>\n",
              "      <td>0.002645</td>\n",
              "      <td>0.006403</td>\n",
              "      <td>0.897289</td>\n",
              "      <td>0.470139</td>\n",
              "      <td>2.381793</td>\n",
              "      <td>0.264339</td>\n",
              "      <td>6.08345</td>\n",
              "      <td>0.0</td>\n",
              "      <td>0.971376</td>\n",
              "      <td>0.032013</td>\n",
              "      <td>0.000915</td>\n",
              "      <td>0.021037</td>\n",
              "      <td>0.822286</td>\n",
              "      <td>0.0</td>\n",
              "      <td>0.945766</td>\n",
              "      <td>0.242387</td>\n",
              "      <td>0.104272</td>\n",
              "      <td>0.0</td>\n",
              "      <td>...</td>\n",
              "      <td>0.0</td>\n",
              "      <td>0.0</td>\n",
              "      <td>0.0</td>\n",
              "      <td>2.718703e-23</td>\n",
              "      <td>1.858684e-15</td>\n",
              "      <td>7.987493e-08</td>\n",
              "      <td>0.012904</td>\n",
              "      <td>0.021064</td>\n",
              "      <td>0.225376</td>\n",
              "      <td>0.0</td>\n",
              "      <td>0.772113</td>\n",
              "      <td>0.958338</td>\n",
              "      <td>0.969433</td>\n",
              "      <td>0.999399</td>\n",
              "      <td>0.999652</td>\n",
              "      <td>0.999920</td>\n",
              "      <td>0.999951</td>\n",
              "      <td>0.999961</td>\n",
              "      <td>0.999991</td>\n",
              "      <td>0.999961</td>\n",
              "      <td>0.999999</td>\n",
              "      <td>0.999999</td>\n",
              "      <td>1.0</td>\n",
              "      <td>0.999999</td>\n",
              "      <td>1.0</td>\n",
              "      <td>1.0</td>\n",
              "      <td>1.0</td>\n",
              "      <td>1.0</td>\n",
              "      <td>1.0</td>\n",
              "      <td>1.0</td>\n",
              "      <td>1.0</td>\n",
              "      <td>1.0</td>\n",
              "      <td>1.0</td>\n",
              "      <td>1.0</td>\n",
              "      <td>1.0</td>\n",
              "      <td>1.0</td>\n",
              "      <td>1.0</td>\n",
              "      <td>1.0</td>\n",
              "      <td>0.0</td>\n",
              "      <td>0.0</td>\n",
              "    </tr>\n",
              "    <tr>\n",
              "      <th>001-005</th>\n",
              "      <td>0.0</td>\n",
              "      <td>0.022867</td>\n",
              "      <td>0.552459</td>\n",
              "      <td>0.508704</td>\n",
              "      <td>0.152381</td>\n",
              "      <td>0.076394</td>\n",
              "      <td>0.015837</td>\n",
              "      <td>15.780709</td>\n",
              "      <td>0.00768</td>\n",
              "      <td>0.015141</td>\n",
              "      <td>0.0</td>\n",
              "      <td>0.012288</td>\n",
              "      <td>38.888577</td>\n",
              "      <td>0.008192</td>\n",
              "      <td>0.009643</td>\n",
              "      <td>0.009643</td>\n",
              "      <td>0.939392</td>\n",
              "      <td>7.295359</td>\n",
              "      <td>15.927495</td>\n",
              "      <td>6.511656</td>\n",
              "      <td>0.013994</td>\n",
              "      <td>0.005488</td>\n",
              "      <td>0.002645</td>\n",
              "      <td>0.006403</td>\n",
              "      <td>0.897289</td>\n",
              "      <td>0.470139</td>\n",
              "      <td>2.381793</td>\n",
              "      <td>0.264339</td>\n",
              "      <td>6.08345</td>\n",
              "      <td>0.0</td>\n",
              "      <td>0.971376</td>\n",
              "      <td>0.032013</td>\n",
              "      <td>0.000915</td>\n",
              "      <td>0.021037</td>\n",
              "      <td>0.822286</td>\n",
              "      <td>0.0</td>\n",
              "      <td>0.945766</td>\n",
              "      <td>0.242387</td>\n",
              "      <td>0.104272</td>\n",
              "      <td>0.0</td>\n",
              "      <td>...</td>\n",
              "      <td>0.0</td>\n",
              "      <td>0.0</td>\n",
              "      <td>0.0</td>\n",
              "      <td>2.718997e-23</td>\n",
              "      <td>1.858859e-15</td>\n",
              "      <td>7.988030e-08</td>\n",
              "      <td>0.012904</td>\n",
              "      <td>0.021064</td>\n",
              "      <td>0.225368</td>\n",
              "      <td>0.0</td>\n",
              "      <td>0.772108</td>\n",
              "      <td>0.958338</td>\n",
              "      <td>0.969434</td>\n",
              "      <td>0.999399</td>\n",
              "      <td>0.999652</td>\n",
              "      <td>0.999920</td>\n",
              "      <td>0.999951</td>\n",
              "      <td>0.999961</td>\n",
              "      <td>0.999991</td>\n",
              "      <td>0.999961</td>\n",
              "      <td>0.999999</td>\n",
              "      <td>0.999999</td>\n",
              "      <td>1.0</td>\n",
              "      <td>0.999999</td>\n",
              "      <td>1.0</td>\n",
              "      <td>1.0</td>\n",
              "      <td>1.0</td>\n",
              "      <td>1.0</td>\n",
              "      <td>1.0</td>\n",
              "      <td>1.0</td>\n",
              "      <td>1.0</td>\n",
              "      <td>1.0</td>\n",
              "      <td>1.0</td>\n",
              "      <td>1.0</td>\n",
              "      <td>1.0</td>\n",
              "      <td>1.0</td>\n",
              "      <td>1.0</td>\n",
              "      <td>1.0</td>\n",
              "      <td>0.0</td>\n",
              "      <td>0.0</td>\n",
              "    </tr>\n",
              "  </tbody>\n",
              "</table>\n",
              "<p>5 rows × 381 columns</p>\n",
              "</div>"
            ],
            "text/plain": [
              "         Combined Feed to Tatoray Stripper C620_Detailed Composition_Hydrogen_wt%  ...  Tatoray Stripper C620 Split Factors Calculation_Split Factor for Individual Component to Tatoray Stripper C620 Bottoms_Oxygen_Fraction\n",
              "001-001                                                0.0                         ...                                                0.0                                                                                     \n",
              "001-002                                                0.0                         ...                                                0.0                                                                                     \n",
              "001-003                                                0.0                         ...                                                0.0                                                                                     \n",
              "001-004                                                0.0                         ...                                                0.0                                                                                     \n",
              "001-005                                                0.0                         ...                                                0.0                                                                                     \n",
              "\n",
              "[5 rows x 381 columns]"
            ]
          },
          "metadata": {
            "tags": []
          },
          "execution_count": 3
        }
      ]
    },
    {
      "cell_type": "code",
      "metadata": {
        "colab": {
          "base_uri": "https://localhost:8080/"
        },
        "id": "OjVFbrFdkhcU",
        "outputId": "c6faa383-be63-4568-ce8a-8eaedb25766a"
      },
      "source": [
        "for k,v in c.items():\n",
        "  print(k,len(v))"
      ],
      "execution_count": 4,
      "outputs": [
        {
          "output_type": "stream",
          "text": [
            "x41 41\n",
            "case 3\n",
            "yRefluxRate 1\n",
            "yControl 2\n",
            "yHeatDuty 2\n",
            "vent_gas_x 41\n",
            "distillate_x 41\n",
            "sidedraw_x 41\n",
            "bottoms_x 41\n",
            "vent_gas_sf 41\n",
            "distillate_sf 41\n",
            "sidedraw_sf 41\n",
            "bottoms_sf 41\n",
            "density 4\n"
          ],
          "name": "stdout"
        }
      ]
    },
    {
      "cell_type": "code",
      "metadata": {
        "id": "wX76mjFFnPMW",
        "outputId": "2ec1fae3-bd06-4e4b-af6c-7f20a99758c1",
        "colab": {
          "base_uri": "https://localhost:8080/"
        }
      },
      "source": [
        "x_col = c['case']+c['x41']\n",
        "op_col = c['density']+c['yRefluxRate']+c['yHeatDuty']+c['yControl']\n",
        "sp_col = c['vent_gas_sf'] +c['distillate_sf'] +c['sidedraw_sf'] +c['bottoms_sf']\n",
        "wt_col = c['vent_gas_x'] +c['distillate_x'] +c['sidedraw_x'] +c['bottoms_x']\n",
        "y_col = sp_col + op_col\n",
        "n_idx = [ [i,i+41,i+41*2,i+41*3]for i in range(41)]\n",
        "for idx in n_idx:\n",
        "  assert np.allclose(c620_df[y_col].iloc[:,idx].sum(axis=1),1.0) # check\n",
        "print(len(x_col),len(y_col))"
      ],
      "execution_count": 5,
      "outputs": [
        {
          "output_type": "stream",
          "text": [
            "44 173\n"
          ],
          "name": "stdout"
        }
      ]
    },
    {
      "cell_type": "code",
      "metadata": {
        "colab": {
          "base_uri": "https://localhost:8080/",
          "height": 767
        },
        "id": "3z_h7BbOpxJ-",
        "outputId": "dc1e6122-1ce0-4d9d-e0aa-027472fb86c2"
      },
      "source": [
        "from autorch.utils import PartBulider\n",
        "c620 = PartBulider(c620_df,x_col,y_col,normalize_idx_list=n_idx)\n",
        "c620.train()\n",
        "c620.test()"
      ],
      "execution_count": 6,
      "outputs": [
        {
          "output_type": "stream",
          "text": [
            "  0%|          | 1/300 [00:01<06:39,  1.34s/it]"
          ],
          "name": "stderr"
        },
        {
          "output_type": "stream",
          "text": [
            "epoch:0 train_loss:0.0108 valid_loss:0.0023\n"
          ],
          "name": "stdout"
        },
        {
          "output_type": "stream",
          "text": [
            " 17%|█▋        | 51/300 [00:56<04:36,  1.11s/it]"
          ],
          "name": "stderr"
        },
        {
          "output_type": "stream",
          "text": [
            "epoch:50 train_loss:0.0003 valid_loss:0.0003\n"
          ],
          "name": "stdout"
        },
        {
          "output_type": "stream",
          "text": [
            " 34%|███▎      | 101/300 [01:51<03:42,  1.12s/it]"
          ],
          "name": "stderr"
        },
        {
          "output_type": "stream",
          "text": [
            "epoch:100 train_loss:0.0002 valid_loss:0.0002\n"
          ],
          "name": "stdout"
        },
        {
          "output_type": "stream",
          "text": [
            " 50%|█████     | 151/300 [02:47<02:44,  1.10s/it]"
          ],
          "name": "stderr"
        },
        {
          "output_type": "stream",
          "text": [
            "epoch:150 train_loss:0.0002 valid_loss:0.0002\n"
          ],
          "name": "stdout"
        },
        {
          "output_type": "stream",
          "text": [
            " 67%|██████▋   | 201/300 [03:43<01:51,  1.12s/it]"
          ],
          "name": "stderr"
        },
        {
          "output_type": "stream",
          "text": [
            "epoch:200 train_loss:0.0002 valid_loss:0.0002\n"
          ],
          "name": "stdout"
        },
        {
          "output_type": "stream",
          "text": [
            " 84%|████████▎ | 251/300 [04:41<01:09,  1.41s/it]"
          ],
          "name": "stderr"
        },
        {
          "output_type": "stream",
          "text": [
            "epoch:250 train_loss:0.0002 valid_loss:0.0002\n"
          ],
          "name": "stdout"
        },
        {
          "output_type": "stream",
          "text": [
            "100%|██████████| 300/300 [05:44<00:00,  1.15s/it]\n"
          ],
          "name": "stderr"
        },
        {
          "output_type": "display_data",
          "data": {
            "image/png": "[encoded data removed]",
            "text/plain": [
              "<Figure size 432x288 with 1 Axes>"
            ]
          },
          "metadata": {
            "tags": [],
            "needs_background": "light"
          }
        },
        {
          "output_type": "execute_result",
          "data": {
            "text/html": [
              "<div>\n",
              "<style scoped>\n",
              "    .dataframe tbody tr th:only-of-type {\n",
              "        vertical-align: middle;\n",
              "    }\n",
              "\n",
              "    .dataframe tbody tr th {\n",
              "        vertical-align: top;\n",
              "    }\n",
              "\n",
              "    .dataframe thead th {\n",
              "        text-align: right;\n",
              "    }\n",
              "</style>\n",
              "<table border=\"1\" class=\"dataframe\">\n",
              "  <thead>\n",
              "    <tr style=\"text-align: right;\">\n",
              "      <th></th>\n",
              "      <th>R2</th>\n",
              "      <th>MSE</th>\n",
              "      <th>MAPE</th>\n",
              "    </tr>\n",
              "  </thead>\n",
              "  <tbody>\n",
              "    <tr>\n",
              "      <th>Tatoray Stripper C620 Split Factors Calculation_Split Factor for Individual Component to Tatoray Stripper C620 Vent Gas_Hydrogen_Fraction</th>\n",
              "      <td>0</td>\n",
              "      <td>4.43463e-08</td>\n",
              "      <td>0.00968238</td>\n",
              "    </tr>\n",
              "    <tr>\n",
              "      <th>Tatoray Stripper C620 Split Factors Calculation_Split Factor for Individual Component to Tatoray Stripper C620 Vent Gas_Methane_Fraction</th>\n",
              "      <td>0.995455</td>\n",
              "      <td>1.02461e-07</td>\n",
              "      <td>0.020161</td>\n",
              "    </tr>\n",
              "    <tr>\n",
              "      <th>Tatoray Stripper C620 Split Factors Calculation_Split Factor for Individual Component to Tatoray Stripper C620 Vent Gas_Ethane_Fraction</th>\n",
              "      <td>0.996748</td>\n",
              "      <td>1.76797e-06</td>\n",
              "      <td>0.0876497</td>\n",
              "    </tr>\n",
              "    <tr>\n",
              "      <th>Tatoray Stripper C620 Split Factors Calculation_Split Factor for Individual Component to Tatoray Stripper C620 Vent Gas_Propane_Fraction</th>\n",
              "      <td>0.997834</td>\n",
              "      <td>8.16149e-06</td>\n",
              "      <td>0.228818</td>\n",
              "    </tr>\n",
              "    <tr>\n",
              "      <th>Tatoray Stripper C620 Split Factors Calculation_Split Factor for Individual Component to Tatoray Stripper C620 Vent Gas_n-Butane_Fraction</th>\n",
              "      <td>0.998739</td>\n",
              "      <td>2.0238e-05</td>\n",
              "      <td>0.451119</td>\n",
              "    </tr>\n",
              "    <tr>\n",
              "      <th>...</th>\n",
              "      <td>...</td>\n",
              "      <td>...</td>\n",
              "      <td>...</td>\n",
              "    </tr>\n",
              "    <tr>\n",
              "      <th>Tatoray Stripper C620 Operation_Heat Duty_Condenser Heat Duty_Mkcal/hr</th>\n",
              "      <td>0.999508</td>\n",
              "      <td>0.00059481</td>\n",
              "      <td>0.147364</td>\n",
              "    </tr>\n",
              "    <tr>\n",
              "      <th>Tatoray Stripper C620 Operation_Heat Duty_Reboiler Heat Duty_Mkcal/hr</th>\n",
              "      <td>0.999405</td>\n",
              "      <td>0.00100879</td>\n",
              "      <td>0.168284</td>\n",
              "    </tr>\n",
              "    <tr>\n",
              "      <th>Tatoray Stripper C620 Operation_Column Temp Profile_C620 Tray 14 (Control)_oC</th>\n",
              "      <td>0.999658</td>\n",
              "      <td>0.000442289</td>\n",
              "      <td>0.00865472</td>\n",
              "    </tr>\n",
              "    <tr>\n",
              "      <th>Tatoray Stripper C620 Operation_Column Temp Profile_C620 Tray 34 (Control)_oC</th>\n",
              "      <td>0.999454</td>\n",
              "      <td>0.000425459</td>\n",
              "      <td>0.00853151</td>\n",
              "    </tr>\n",
              "    <tr>\n",
              "      <th>AVG</th>\n",
              "      <td>0.791204</td>\n",
              "      <td>0.000597166</td>\n",
              "      <td>8.19671</td>\n",
              "    </tr>\n",
              "  </tbody>\n",
              "</table>\n",
              "<p>174 rows × 3 columns</p>\n",
              "</div>"
            ],
            "text/plain": [
              "                                                          R2  ...        MAPE\n",
              "Tatoray Stripper C620 Split Factors Calculation...         0  ...  0.00968238\n",
              "Tatoray Stripper C620 Split Factors Calculation...  0.995455  ...    0.020161\n",
              "Tatoray Stripper C620 Split Factors Calculation...  0.996748  ...   0.0876497\n",
              "Tatoray Stripper C620 Split Factors Calculation...  0.997834  ...    0.228818\n",
              "Tatoray Stripper C620 Split Factors Calculation...  0.998739  ...    0.451119\n",
              "...                                                      ...  ...         ...\n",
              "Tatoray Stripper C620 Operation_Heat Duty_Conde...  0.999508  ...    0.147364\n",
              "Tatoray Stripper C620 Operation_Heat Duty_Reboi...  0.999405  ...    0.168284\n",
              "Tatoray Stripper C620 Operation_Column Temp Pro...  0.999658  ...  0.00865472\n",
              "Tatoray Stripper C620 Operation_Column Temp Pro...  0.999454  ...  0.00853151\n",
              "AVG                                                 0.791204  ...     8.19671\n",
              "\n",
              "[174 rows x 3 columns]"
            ]
          },
          "metadata": {
            "tags": []
          },
          "execution_count": 6
        }
      ]
    },
    {
      "cell_type": "code",
      "metadata": {
        "id": "AelwkA--qoVt"
      },
      "source": [
        "c620.shrink()"
      ],
      "execution_count": 7,
      "outputs": []
    },
    {
      "cell_type": "code",
      "metadata": {
        "colab": {
          "base_uri": "https://localhost:8080/"
        },
        "id": "UvPNVFVgtveh",
        "outputId": "f5692bb7-14c3-47b7-c126-498c48dd4e69"
      },
      "source": [
        "joblib.dump(c620,'/content/drive/MyDrive/台塑輕油案子/data/c620/model/c620.pkl')"
      ],
      "execution_count": 8,
      "outputs": [
        {
          "output_type": "execute_result",
          "data": {
            "text/plain": [
              "['/content/drive/MyDrive/台塑輕油案子/data/c620/model/c620.pkl']"
            ]
          },
          "metadata": {
            "tags": []
          },
          "execution_count": 8
        }
      ]
    },
    {
      "cell_type": "code",
      "metadata": {
        "id": "SHUTpMqTuBM8"
      },
      "source": [
        ""
      ],
      "execution_count": 8,
      "outputs": []
    }
  ]
}