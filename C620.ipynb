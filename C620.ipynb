{
  "nbformat": 4,
  "nbformat_minor": 0,
  "metadata": {
    "colab": {
      "name": "C620.ipynb",
      "provenance": [],
      "mount_file_id": "https://github.com/skywalker0803r/c620/blob/main/C620.ipynb",
      "authorship_tag": "ABX9TyPv30t+FRU1H53I93+q6rZy",
      "include_colab_link": true
    },
    "kernelspec": {
      "name": "python3",
      "display_name": "Python 3"
    }
  },
  "cells": [
    {
      "cell_type": "markdown",
      "metadata": {
        "id": "view-in-github",
        "colab_type": "text"
      },
      "source": [
        "<a href=\"https://colab.research.google.com/github/skywalker0803r/c620/blob/main/C620.ipynb\" target=\"_parent\"><img src=\"https://colab.research.google.com/assets/colab-badge.svg\" alt=\"Open In Colab\"/></a>"
      ]
    },
    {
      "cell_type": "code",
      "metadata": {
        "id": "UlSIoDuFhzeA"
      },
      "source": [
        "import pandas as pd\n",
        "import numpy as np\n",
        "import joblib\n",
        "#!pip install autorch"
      ],
      "execution_count": 1,
      "outputs": []
    },
    {
      "cell_type": "code",
      "metadata": {
        "colab": {
          "base_uri": "https://localhost:8080/",
          "height": 430
        },
        "id": "33VeJjbyjuv2",
        "outputId": "5e168d81-acb1-4b93-b498-2c3408800df5"
      },
      "source": [
        "c = joblib.load('/content/drive/MyDrive/台塑輕油案子/data/c620/col_names/c620_col_names.pkl')\n",
        "c620_df = pd.read_csv('/content/drive/MyDrive/台塑輕油案子/data/c620/cleaned/c620_train.csv',index_col=0).dropna(axis=0)\n",
        "print(c620_df.shape)\n",
        "c620_df.head(3)"
      ],
      "execution_count": 2,
      "outputs": [
        {
          "output_type": "stream",
          "text": [
            "(15552, 381)\n"
          ],
          "name": "stdout"
        },
        {
          "output_type": "execute_result",
          "data": {
            "text/html": [
              "<div>\n",
              "<style scoped>\n",
              "    .dataframe tbody tr th:only-of-type {\n",
              "        vertical-align: middle;\n",
              "    }\n",
              "\n",
              "    .dataframe tbody tr th {\n",
              "        vertical-align: top;\n",
              "    }\n",
              "\n",
              "    .dataframe thead th {\n",
              "        text-align: right;\n",
              "    }\n",
              "</style>\n",
              "<table border=\"1\" class=\"dataframe\">\n",
              "  <thead>\n",
              "    <tr style=\"text-align: right;\">\n",
              "      <th></th>\n",
              "      <th>Combined Feed to Tatoray Stripper C620_Detailed Composition_Hydrogen_wt%</th>\n",
              "      <th>Combined Feed to Tatoray Stripper C620_Detailed Composition_Methane_wt%</th>\n",
              "      <th>Combined Feed to Tatoray Stripper C620_Detailed Composition_Ethane_wt%</th>\n",
              "      <th>Combined Feed to Tatoray Stripper C620_Detailed Composition_Propane_wt%</th>\n",
              "      <th>Combined Feed to Tatoray Stripper C620_Detailed Composition_n-Butane_wt%</th>\n",
              "      <th>Combined Feed to Tatoray Stripper C620_Detailed Composition_n-Pentane_wt%</th>\n",
              "      <th>Combined Feed to Tatoray Stripper C620_Detailed Composition_n-Hexane_wt%</th>\n",
              "      <th>Combined Feed to Tatoray Stripper C620_Detailed Composition_Benzene_wt%</th>\n",
              "      <th>Combined Feed to Tatoray Stripper C620_Detailed Composition_Cyclohexane_wt%</th>\n",
              "      <th>Combined Feed to Tatoray Stripper C620_Detailed Composition_n-Heptane_wt%</th>\n",
              "      <th>Combined Feed to Tatoray Stripper C620_Detailed Composition_Water_wt%</th>\n",
              "      <th>Combined Feed to Tatoray Stripper C620_Detailed Composition_Methylcyclohexane_wt%</th>\n",
              "      <th>Combined Feed to Tatoray Stripper C620_Detailed Composition_Toluene_wt%</th>\n",
              "      <th>Combined Feed to Tatoray Stripper C620_Detailed Composition_n-Octane_wt%</th>\n",
              "      <th>Combined Feed to Tatoray Stripper C620_Detailed Composition_n-Propylcyclopentane_wt%</th>\n",
              "      <th>Combined Feed to Tatoray Stripper C620_Detailed Composition_Ethylcyclohexane_wt%</th>\n",
              "      <th>Combined Feed to Tatoray Stripper C620_Detailed Composition_Ethylbenzene_wt%</th>\n",
              "      <th>Combined Feed to Tatoray Stripper C620_Detailed Composition_p-Xylene_wt%</th>\n",
              "      <th>Combined Feed to Tatoray Stripper C620_Detailed Composition_m-Xylene_wt%</th>\n",
              "      <th>Combined Feed to Tatoray Stripper C620_Detailed Composition_o-Xylene_wt%</th>\n",
              "      <th>Combined Feed to Tatoray Stripper C620_Detailed Composition_n-Nonane_wt%</th>\n",
              "      <th>Combined Feed to Tatoray Stripper C620_Detailed Composition_i-Propylbenzene_wt%</th>\n",
              "      <th>Combined Feed to Tatoray Stripper C620_Detailed Composition_n-Propylcyclohexane_wt%</th>\n",
              "      <th>Combined Feed to Tatoray Stripper C620_Detailed Composition_n-Propylbenzene_wt%</th>\n",
              "      <th>Combined Feed to Tatoray Stripper C620_Detailed Composition_1-Methyl-3-ethylbenzene_wt%</th>\n",
              "      <th>Combined Feed to Tatoray Stripper C620_Detailed Composition_1-Methyl-4-ethylbenzene_wt%</th>\n",
              "      <th>Combined Feed to Tatoray Stripper C620_Detailed Composition_1,3,5-Trimethylbenzene_wt%</th>\n",
              "      <th>Combined Feed to Tatoray Stripper C620_Detailed Composition_1-Methyl-2-ethylbenzene_wt%</th>\n",
              "      <th>Combined Feed to Tatoray Stripper C620_Detailed Composition_1,2,4-Trimethylbenzene_wt%</th>\n",
              "      <th>Combined Feed to Tatoray Stripper C620_Detailed Composition_tert-Butylcyclohexane_wt%</th>\n",
              "      <th>Combined Feed to Tatoray Stripper C620_Detailed Composition_1,2,3-Trimethylbenzene_wt%</th>\n",
              "      <th>Combined Feed to Tatoray Stripper C620_Detailed Composition_Indane_wt%</th>\n",
              "      <th>Combined Feed to Tatoray Stripper C620_Detailed Composition_1-Methyl-4-n-propylbenzene_wt%</th>\n",
              "      <th>Combined Feed to Tatoray Stripper C620_Detailed Composition_1,2-Diethylbenzene_wt%</th>\n",
              "      <th>Combined Feed to Tatoray Stripper C620_Detailed Composition_5-Ethyl-m-xylene_wt%</th>\n",
              "      <th>Combined Feed to Tatoray Stripper C620_Detailed Composition_1,4-Diethylbenzene_wt%</th>\n",
              "      <th>Combined Feed to Tatoray Stripper C620_Detailed Composition_1,2,3,5-Tetramethylbenzene_wt%</th>\n",
              "      <th>Combined Feed to Tatoray Stripper C620_Detailed Composition_n-Pentylbenzene_wt%</th>\n",
              "      <th>Combined Feed to Tatoray Stripper C620_Detailed Composition_n-Hexylbenzene_wt%</th>\n",
              "      <th>Combined Feed to Tatoray Stripper C620_Detailed Composition_Nitrogen_wt%</th>\n",
              "      <th>...</th>\n",
              "      <th>Tatoray Stripper C620 Split Factors Calculation_Split Factor for Individual Component to Tatoray Stripper C620 Bottoms_Methane_Fraction</th>\n",
              "      <th>Tatoray Stripper C620 Split Factors Calculation_Split Factor for Individual Component to Tatoray Stripper C620 Bottoms_Ethane_Fraction</th>\n",
              "      <th>Tatoray Stripper C620 Split Factors Calculation_Split Factor for Individual Component to Tatoray Stripper C620 Bottoms_Propane_Fraction</th>\n",
              "      <th>Tatoray Stripper C620 Split Factors Calculation_Split Factor for Individual Component to Tatoray Stripper C620 Bottoms_n-Butane_Fraction</th>\n",
              "      <th>Tatoray Stripper C620 Split Factors Calculation_Split Factor for Individual Component to Tatoray Stripper C620 Bottoms_n-Pentane_Fraction</th>\n",
              "      <th>Tatoray Stripper C620 Split Factors Calculation_Split Factor for Individual Component to Tatoray Stripper C620 Bottoms_n-Hexane_Fraction</th>\n",
              "      <th>Tatoray Stripper C620 Split Factors Calculation_Split Factor for Individual Component to Tatoray Stripper C620 Bottoms_Benzene_Fraction</th>\n",
              "      <th>Tatoray Stripper C620 Split Factors Calculation_Split Factor for Individual Component to Tatoray Stripper C620 Bottoms_Cyclohexane_Fraction</th>\n",
              "      <th>Tatoray Stripper C620 Split Factors Calculation_Split Factor for Individual Component to Tatoray Stripper C620 Bottoms_n-Heptane_Fraction</th>\n",
              "      <th>Tatoray Stripper C620 Split Factors Calculation_Split Factor for Individual Component to Tatoray Stripper C620 Bottoms_Water_Fraction</th>\n",
              "      <th>Tatoray Stripper C620 Split Factors Calculation_Split Factor for Individual Component to Tatoray Stripper C620 Bottoms_Methylcyclohexane_Fraction</th>\n",
              "      <th>Tatoray Stripper C620 Split Factors Calculation_Split Factor for Individual Component to Tatoray Stripper C620 Bottoms_Toluene_Fraction</th>\n",
              "      <th>Tatoray Stripper C620 Split Factors Calculation_Split Factor for Individual Component to Tatoray Stripper C620 Bottoms_n-Octane_Fraction</th>\n",
              "      <th>Tatoray Stripper C620 Split Factors Calculation_Split Factor for Individual Component to Tatoray Stripper C620 Bottoms_n-Propylcyclopentane_Fraction</th>\n",
              "      <th>Tatoray Stripper C620 Split Factors Calculation_Split Factor for Individual Component to Tatoray Stripper C620 Bottoms_Ethylcyclohexane_Fraction</th>\n",
              "      <th>Tatoray Stripper C620 Split Factors Calculation_Split Factor for Individual Component to Tatoray Stripper C620 Bottoms_Ethylbenzene_Fraction</th>\n",
              "      <th>Tatoray Stripper C620 Split Factors Calculation_Split Factor for Individual Component to Tatoray Stripper C620 Bottoms_p-Xylene_Fraction</th>\n",
              "      <th>Tatoray Stripper C620 Split Factors Calculation_Split Factor for Individual Component to Tatoray Stripper C620 Bottoms_m-Xylene_Fraction</th>\n",
              "      <th>Tatoray Stripper C620 Split Factors Calculation_Split Factor for Individual Component to Tatoray Stripper C620 Bottoms_o-Xylene_Fraction</th>\n",
              "      <th>Tatoray Stripper C620 Split Factors Calculation_Split Factor for Individual Component to Tatoray Stripper C620 Bottoms_n-Nonane_Fraction</th>\n",
              "      <th>Tatoray Stripper C620 Split Factors Calculation_Split Factor for Individual Component to Tatoray Stripper C620 Bottoms_i-Propylbenzene_Fraction</th>\n",
              "      <th>Tatoray Stripper C620 Split Factors Calculation_Split Factor for Individual Component to Tatoray Stripper C620 Bottoms_n-Propylcyclohexane_Fraction</th>\n",
              "      <th>Tatoray Stripper C620 Split Factors Calculation_Split Factor for Individual Component to Tatoray Stripper C620 Bottoms_n-Propylbenzene_Fraction</th>\n",
              "      <th>Tatoray Stripper C620 Split Factors Calculation_Split Factor for Individual Component to Tatoray Stripper C620 Bottoms_1-Methyl-3-ethylbenzene_Fraction</th>\n",
              "      <th>Tatoray Stripper C620 Split Factors Calculation_Split Factor for Individual Component to Tatoray Stripper C620 Bottoms_1-Methyl-4-ethylbenzene_Fraction</th>\n",
              "      <th>Tatoray Stripper C620 Split Factors Calculation_Split Factor for Individual Component to Tatoray Stripper C620 Bottoms_1,3,5-Trimethylbenzene_Fraction</th>\n",
              "      <th>Tatoray Stripper C620 Split Factors Calculation_Split Factor for Individual Component to Tatoray Stripper C620 Bottoms_1-Methyl-2-ethylbenzene_Fraction</th>\n",
              "      <th>Tatoray Stripper C620 Split Factors Calculation_Split Factor for Individual Component to Tatoray Stripper C620 Bottoms_1,2,4-Trimethylbenzene_Fraction</th>\n",
              "      <th>Tatoray Stripper C620 Split Factors Calculation_Split Factor for Individual Component to Tatoray Stripper C620 Bottoms_tert-Butylcyclohexane_Fraction</th>\n",
              "      <th>Tatoray Stripper C620 Split Factors Calculation_Split Factor for Individual Component to Tatoray Stripper C620 Bottoms_1,2,3-Trimethylbenzene_Fraction</th>\n",
              "      <th>Tatoray Stripper C620 Split Factors Calculation_Split Factor for Individual Component to Tatoray Stripper C620 Bottoms_Indane_Fraction</th>\n",
              "      <th>Tatoray Stripper C620 Split Factors Calculation_Split Factor for Individual Component to Tatoray Stripper C620 Bottoms_1-Methyl-4-n-propylbenzene_Fraction</th>\n",
              "      <th>Tatoray Stripper C620 Split Factors Calculation_Split Factor for Individual Component to Tatoray Stripper C620 Bottoms_1,2-Diethylbenzene_Fraction</th>\n",
              "      <th>Tatoray Stripper C620 Split Factors Calculation_Split Factor for Individual Component to Tatoray Stripper C620 Bottoms_5-Ethyl-m-xylene_Fraction</th>\n",
              "      <th>Tatoray Stripper C620 Split Factors Calculation_Split Factor for Individual Component to Tatoray Stripper C620 Bottoms_1,4-Diethylbenzene_Fraction</th>\n",
              "      <th>Tatoray Stripper C620 Split Factors Calculation_Split Factor for Individual Component to Tatoray Stripper C620 Bottoms_1,2,3,5-Tetramethylbenzene_Fraction</th>\n",
              "      <th>Tatoray Stripper C620 Split Factors Calculation_Split Factor for Individual Component to Tatoray Stripper C620 Bottoms_n-Pentylbenzene_Fraction</th>\n",
              "      <th>Tatoray Stripper C620 Split Factors Calculation_Split Factor for Individual Component to Tatoray Stripper C620 Bottoms_n-Hexylbenzene_Fraction</th>\n",
              "      <th>Tatoray Stripper C620 Split Factors Calculation_Split Factor for Individual Component to Tatoray Stripper C620 Bottoms_Nitrogen_Fraction</th>\n",
              "      <th>Tatoray Stripper C620 Split Factors Calculation_Split Factor for Individual Component to Tatoray Stripper C620 Bottoms_Oxygen_Fraction</th>\n",
              "    </tr>\n",
              "  </thead>\n",
              "  <tbody>\n",
              "    <tr>\n",
              "      <th>001-001</th>\n",
              "      <td>0.0</td>\n",
              "      <td>0.022867</td>\n",
              "      <td>0.552459</td>\n",
              "      <td>0.508704</td>\n",
              "      <td>0.152381</td>\n",
              "      <td>0.076394</td>\n",
              "      <td>0.015837</td>\n",
              "      <td>15.780709</td>\n",
              "      <td>0.00768</td>\n",
              "      <td>0.015141</td>\n",
              "      <td>0.0</td>\n",
              "      <td>0.012288</td>\n",
              "      <td>38.888577</td>\n",
              "      <td>0.008192</td>\n",
              "      <td>0.009643</td>\n",
              "      <td>0.009643</td>\n",
              "      <td>0.939392</td>\n",
              "      <td>7.295359</td>\n",
              "      <td>15.927495</td>\n",
              "      <td>6.511656</td>\n",
              "      <td>0.013994</td>\n",
              "      <td>0.005488</td>\n",
              "      <td>0.002645</td>\n",
              "      <td>0.006403</td>\n",
              "      <td>0.897289</td>\n",
              "      <td>0.470139</td>\n",
              "      <td>2.381793</td>\n",
              "      <td>0.264339</td>\n",
              "      <td>6.08345</td>\n",
              "      <td>0.0</td>\n",
              "      <td>0.971376</td>\n",
              "      <td>0.032013</td>\n",
              "      <td>0.000915</td>\n",
              "      <td>0.021037</td>\n",
              "      <td>0.822286</td>\n",
              "      <td>0.0</td>\n",
              "      <td>0.945766</td>\n",
              "      <td>0.242387</td>\n",
              "      <td>0.104272</td>\n",
              "      <td>0.0</td>\n",
              "      <td>...</td>\n",
              "      <td>0.0</td>\n",
              "      <td>0.0</td>\n",
              "      <td>0.0</td>\n",
              "      <td>2.707966e-23</td>\n",
              "      <td>1.852217e-15</td>\n",
              "      <td>7.968738e-08</td>\n",
              "      <td>0.0129</td>\n",
              "      <td>0.021046</td>\n",
              "      <td>0.225509</td>\n",
              "      <td>0.0</td>\n",
              "      <td>0.771188</td>\n",
              "      <td>0.957813</td>\n",
              "      <td>0.969056</td>\n",
              "      <td>0.999388</td>\n",
              "      <td>0.999646</td>\n",
              "      <td>0.999919</td>\n",
              "      <td>0.99995</td>\n",
              "      <td>0.99996</td>\n",
              "      <td>0.999991</td>\n",
              "      <td>0.999961</td>\n",
              "      <td>0.999999</td>\n",
              "      <td>0.999999</td>\n",
              "      <td>1.0</td>\n",
              "      <td>0.999999</td>\n",
              "      <td>1.0</td>\n",
              "      <td>1.0</td>\n",
              "      <td>1.0</td>\n",
              "      <td>1.0</td>\n",
              "      <td>1.0</td>\n",
              "      <td>1.0</td>\n",
              "      <td>1.0</td>\n",
              "      <td>1.0</td>\n",
              "      <td>1.0</td>\n",
              "      <td>1.0</td>\n",
              "      <td>1.0</td>\n",
              "      <td>1.0</td>\n",
              "      <td>1.0</td>\n",
              "      <td>1.0</td>\n",
              "      <td>0.0</td>\n",
              "      <td>0.0</td>\n",
              "    </tr>\n",
              "    <tr>\n",
              "      <th>001-002</th>\n",
              "      <td>0.0</td>\n",
              "      <td>0.022867</td>\n",
              "      <td>0.552459</td>\n",
              "      <td>0.508704</td>\n",
              "      <td>0.152381</td>\n",
              "      <td>0.076394</td>\n",
              "      <td>0.015837</td>\n",
              "      <td>15.780709</td>\n",
              "      <td>0.00768</td>\n",
              "      <td>0.015141</td>\n",
              "      <td>0.0</td>\n",
              "      <td>0.012288</td>\n",
              "      <td>38.888577</td>\n",
              "      <td>0.008192</td>\n",
              "      <td>0.009643</td>\n",
              "      <td>0.009643</td>\n",
              "      <td>0.939392</td>\n",
              "      <td>7.295359</td>\n",
              "      <td>15.927495</td>\n",
              "      <td>6.511656</td>\n",
              "      <td>0.013994</td>\n",
              "      <td>0.005488</td>\n",
              "      <td>0.002645</td>\n",
              "      <td>0.006403</td>\n",
              "      <td>0.897289</td>\n",
              "      <td>0.470139</td>\n",
              "      <td>2.381793</td>\n",
              "      <td>0.264339</td>\n",
              "      <td>6.08345</td>\n",
              "      <td>0.0</td>\n",
              "      <td>0.971376</td>\n",
              "      <td>0.032013</td>\n",
              "      <td>0.000915</td>\n",
              "      <td>0.021037</td>\n",
              "      <td>0.822286</td>\n",
              "      <td>0.0</td>\n",
              "      <td>0.945766</td>\n",
              "      <td>0.242387</td>\n",
              "      <td>0.104272</td>\n",
              "      <td>0.0</td>\n",
              "      <td>...</td>\n",
              "      <td>0.0</td>\n",
              "      <td>0.0</td>\n",
              "      <td>0.0</td>\n",
              "      <td>2.708146e-23</td>\n",
              "      <td>1.852344e-15</td>\n",
              "      <td>7.969226e-08</td>\n",
              "      <td>0.0129</td>\n",
              "      <td>0.021046</td>\n",
              "      <td>0.225490</td>\n",
              "      <td>0.0</td>\n",
              "      <td>0.771176</td>\n",
              "      <td>0.957814</td>\n",
              "      <td>0.969056</td>\n",
              "      <td>0.999388</td>\n",
              "      <td>0.999646</td>\n",
              "      <td>0.999919</td>\n",
              "      <td>0.99995</td>\n",
              "      <td>0.99996</td>\n",
              "      <td>0.999991</td>\n",
              "      <td>0.999961</td>\n",
              "      <td>0.999999</td>\n",
              "      <td>0.999999</td>\n",
              "      <td>1.0</td>\n",
              "      <td>1.000000</td>\n",
              "      <td>1.0</td>\n",
              "      <td>1.0</td>\n",
              "      <td>1.0</td>\n",
              "      <td>1.0</td>\n",
              "      <td>1.0</td>\n",
              "      <td>1.0</td>\n",
              "      <td>1.0</td>\n",
              "      <td>1.0</td>\n",
              "      <td>1.0</td>\n",
              "      <td>1.0</td>\n",
              "      <td>1.0</td>\n",
              "      <td>1.0</td>\n",
              "      <td>1.0</td>\n",
              "      <td>1.0</td>\n",
              "      <td>0.0</td>\n",
              "      <td>0.0</td>\n",
              "    </tr>\n",
              "    <tr>\n",
              "      <th>001-003</th>\n",
              "      <td>0.0</td>\n",
              "      <td>0.022867</td>\n",
              "      <td>0.552459</td>\n",
              "      <td>0.508704</td>\n",
              "      <td>0.152381</td>\n",
              "      <td>0.076394</td>\n",
              "      <td>0.015837</td>\n",
              "      <td>15.780709</td>\n",
              "      <td>0.00768</td>\n",
              "      <td>0.015141</td>\n",
              "      <td>0.0</td>\n",
              "      <td>0.012288</td>\n",
              "      <td>38.888577</td>\n",
              "      <td>0.008192</td>\n",
              "      <td>0.009643</td>\n",
              "      <td>0.009643</td>\n",
              "      <td>0.939392</td>\n",
              "      <td>7.295359</td>\n",
              "      <td>15.927495</td>\n",
              "      <td>6.511656</td>\n",
              "      <td>0.013994</td>\n",
              "      <td>0.005488</td>\n",
              "      <td>0.002645</td>\n",
              "      <td>0.006403</td>\n",
              "      <td>0.897289</td>\n",
              "      <td>0.470139</td>\n",
              "      <td>2.381793</td>\n",
              "      <td>0.264339</td>\n",
              "      <td>6.08345</td>\n",
              "      <td>0.0</td>\n",
              "      <td>0.971376</td>\n",
              "      <td>0.032013</td>\n",
              "      <td>0.000915</td>\n",
              "      <td>0.021037</td>\n",
              "      <td>0.822286</td>\n",
              "      <td>0.0</td>\n",
              "      <td>0.945766</td>\n",
              "      <td>0.242387</td>\n",
              "      <td>0.104272</td>\n",
              "      <td>0.0</td>\n",
              "      <td>...</td>\n",
              "      <td>0.0</td>\n",
              "      <td>0.0</td>\n",
              "      <td>0.0</td>\n",
              "      <td>2.708068e-23</td>\n",
              "      <td>1.852287e-15</td>\n",
              "      <td>7.968995e-08</td>\n",
              "      <td>0.0129</td>\n",
              "      <td>0.021046</td>\n",
              "      <td>0.225500</td>\n",
              "      <td>0.0</td>\n",
              "      <td>0.771183</td>\n",
              "      <td>0.957814</td>\n",
              "      <td>0.969056</td>\n",
              "      <td>0.999388</td>\n",
              "      <td>0.999646</td>\n",
              "      <td>0.999919</td>\n",
              "      <td>0.99995</td>\n",
              "      <td>0.99996</td>\n",
              "      <td>0.999991</td>\n",
              "      <td>0.999961</td>\n",
              "      <td>0.999999</td>\n",
              "      <td>0.999999</td>\n",
              "      <td>1.0</td>\n",
              "      <td>1.000000</td>\n",
              "      <td>1.0</td>\n",
              "      <td>1.0</td>\n",
              "      <td>1.0</td>\n",
              "      <td>1.0</td>\n",
              "      <td>1.0</td>\n",
              "      <td>1.0</td>\n",
              "      <td>1.0</td>\n",
              "      <td>1.0</td>\n",
              "      <td>1.0</td>\n",
              "      <td>1.0</td>\n",
              "      <td>1.0</td>\n",
              "      <td>1.0</td>\n",
              "      <td>1.0</td>\n",
              "      <td>1.0</td>\n",
              "      <td>0.0</td>\n",
              "      <td>0.0</td>\n",
              "    </tr>\n",
              "  </tbody>\n",
              "</table>\n",
              "<p>3 rows × 381 columns</p>\n",
              "</div>"
            ],
            "text/plain": [
              "         Combined Feed to Tatoray Stripper C620_Detailed Composition_Hydrogen_wt%  ...  Tatoray Stripper C620 Split Factors Calculation_Split Factor for Individual Component to Tatoray Stripper C620 Bottoms_Oxygen_Fraction\n",
              "001-001                                                0.0                         ...                                                0.0                                                                                     \n",
              "001-002                                                0.0                         ...                                                0.0                                                                                     \n",
              "001-003                                                0.0                         ...                                                0.0                                                                                     \n",
              "\n",
              "[3 rows x 381 columns]"
            ]
          },
          "metadata": {
            "tags": []
          },
          "execution_count": 2
        }
      ]
    },
    {
      "cell_type": "code",
      "metadata": {
        "id": "wX76mjFFnPMW",
        "colab": {
          "base_uri": "https://localhost:8080/"
        },
        "outputId": "05223ed9-578a-4468-f83e-4d84712e473b"
      },
      "source": [
        "x_col = c['case']+c['x41']\n",
        "op_col = c['density']+c['yRefluxRate']+c['yHeatDuty']+c['yControl']\n",
        "sp_col = c['vent_gas_sf'] +c['distillate_sf'] +c['sidedraw_sf'] +c['bottoms_sf']\n",
        "wt_col = c['vent_gas_x'] +c['distillate_x'] +c['sidedraw_x'] +c['bottoms_x']\n",
        "y_col = sp_col + op_col\n",
        "n_idx = [ [i,i+41,i+41*2,i+41*3]for i in range(41)]\n",
        "for idx in n_idx:\n",
        "  assert np.allclose(c620_df[y_col].iloc[:,idx].sum(axis=1),1.0) # check\n",
        "print(len(x_col),len(y_col))"
      ],
      "execution_count": 3,
      "outputs": [
        {
          "output_type": "stream",
          "text": [
            "44 173\n"
          ],
          "name": "stdout"
        }
      ]
    },
    {
      "cell_type": "code",
      "metadata": {
        "colab": {
          "base_uri": "https://localhost:8080/",
          "height": 783
        },
        "id": "3z_h7BbOpxJ-",
        "outputId": "b17082ef-5af0-4f2e-fe27-73d5356159ae"
      },
      "source": [
        "from autorch.utils import PartBulider\n",
        "c620 = PartBulider(c620_df,x_col,y_col,normalize_idx_list=n_idx)\n",
        "c620.train()\n",
        "c620.test()"
      ],
      "execution_count": 4,
      "outputs": [
        {
          "output_type": "stream",
          "text": [
            "  0%|          | 1/300 [00:00<04:38,  1.07it/s]"
          ],
          "name": "stderr"
        },
        {
          "output_type": "stream",
          "text": [
            "epoch:0 train_loss:0.0108 valid_loss:0.0023\n"
          ],
          "name": "stdout"
        },
        {
          "output_type": "stream",
          "text": [
            " 17%|█▋        | 51/300 [00:48<04:00,  1.03it/s]"
          ],
          "name": "stderr"
        },
        {
          "output_type": "stream",
          "text": [
            "epoch:50 train_loss:0.0003 valid_loss:0.0003\n"
          ],
          "name": "stdout"
        },
        {
          "output_type": "stream",
          "text": [
            " 34%|███▎      | 101/300 [01:36<03:14,  1.02it/s]"
          ],
          "name": "stderr"
        },
        {
          "output_type": "stream",
          "text": [
            "epoch:100 train_loss:0.0002 valid_loss:0.0002\n"
          ],
          "name": "stdout"
        },
        {
          "output_type": "stream",
          "text": [
            " 50%|█████     | 151/300 [02:26<02:32,  1.02s/it]"
          ],
          "name": "stderr"
        },
        {
          "output_type": "stream",
          "text": [
            "epoch:150 train_loss:0.0002 valid_loss:0.0002\n"
          ],
          "name": "stdout"
        },
        {
          "output_type": "stream",
          "text": [
            " 67%|██████▋   | 201/300 [03:20<01:52,  1.14s/it]"
          ],
          "name": "stderr"
        },
        {
          "output_type": "stream",
          "text": [
            "epoch:200 train_loss:0.0002 valid_loss:0.0002\n"
          ],
          "name": "stdout"
        },
        {
          "output_type": "stream",
          "text": [
            " 84%|████████▎ | 251/300 [04:21<01:02,  1.28s/it]"
          ],
          "name": "stderr"
        },
        {
          "output_type": "stream",
          "text": [
            "epoch:250 train_loss:0.0002 valid_loss:0.0002\n"
          ],
          "name": "stdout"
        },
        {
          "output_type": "stream",
          "text": [
            "100%|██████████| 300/300 [05:28<00:00,  1.09s/it]\n"
          ],
          "name": "stderr"
        },
        {
          "output_type": "display_data",
          "data": {
            "image/png": "[encoded data removed]",
            "text/plain": [
              "<Figure size 432x288 with 1 Axes>"
            ]
          },
          "metadata": {
            "tags": [],
            "needs_background": "light"
          }
        },
        {
          "output_type": "execute_result",
          "data": {
            "text/html": [
              "<div>\n",
              "<style scoped>\n",
              "    .dataframe tbody tr th:only-of-type {\n",
              "        vertical-align: middle;\n",
              "    }\n",
              "\n",
              "    .dataframe tbody tr th {\n",
              "        vertical-align: top;\n",
              "    }\n",
              "\n",
              "    .dataframe thead th {\n",
              "        text-align: right;\n",
              "    }\n",
              "</style>\n",
              "<table border=\"1\" class=\"dataframe\">\n",
              "  <thead>\n",
              "    <tr style=\"text-align: right;\">\n",
              "      <th></th>\n",
              "      <th>R2</th>\n",
              "      <th>MSE</th>\n",
              "      <th>MAPE</th>\n",
              "    </tr>\n",
              "  </thead>\n",
              "  <tbody>\n",
              "    <tr>\n",
              "      <th>Tatoray Stripper C620 Split Factors Calculation_Split Factor for Individual Component to Tatoray Stripper C620 Vent Gas_Hydrogen_Fraction</th>\n",
              "      <td>0</td>\n",
              "      <td>2.56745e-08</td>\n",
              "      <td>0.00820443</td>\n",
              "    </tr>\n",
              "    <tr>\n",
              "      <th>Tatoray Stripper C620 Split Factors Calculation_Split Factor for Individual Component to Tatoray Stripper C620 Vent Gas_Methane_Fraction</th>\n",
              "      <td>0.998077</td>\n",
              "      <td>4.32567e-08</td>\n",
              "      <td>0.0121598</td>\n",
              "    </tr>\n",
              "    <tr>\n",
              "      <th>Tatoray Stripper C620 Split Factors Calculation_Split Factor for Individual Component to Tatoray Stripper C620 Vent Gas_Ethane_Fraction</th>\n",
              "      <td>0.998798</td>\n",
              "      <td>6.64397e-07</td>\n",
              "      <td>0.0511919</td>\n",
              "    </tr>\n",
              "    <tr>\n",
              "      <th>Tatoray Stripper C620 Split Factors Calculation_Split Factor for Individual Component to Tatoray Stripper C620 Vent Gas_Propane_Fraction</th>\n",
              "      <td>0.9992</td>\n",
              "      <td>3.15388e-06</td>\n",
              "      <td>0.137792</td>\n",
              "    </tr>\n",
              "    <tr>\n",
              "      <th>Tatoray Stripper C620 Split Factors Calculation_Split Factor for Individual Component to Tatoray Stripper C620 Vent Gas_n-Butane_Fraction</th>\n",
              "      <td>0.998857</td>\n",
              "      <td>1.96351e-05</td>\n",
              "      <td>0.44993</td>\n",
              "    </tr>\n",
              "    <tr>\n",
              "      <th>...</th>\n",
              "      <td>...</td>\n",
              "      <td>...</td>\n",
              "      <td>...</td>\n",
              "    </tr>\n",
              "    <tr>\n",
              "      <th>Tatoray Stripper C620 Operation_Heat Duty_Condenser Heat Duty_Mkcal/hr</th>\n",
              "      <td>0.999339</td>\n",
              "      <td>0.000822017</td>\n",
              "      <td>0.162275</td>\n",
              "    </tr>\n",
              "    <tr>\n",
              "      <th>Tatoray Stripper C620 Operation_Heat Duty_Reboiler Heat Duty_Mkcal/hr</th>\n",
              "      <td>0.999263</td>\n",
              "      <td>0.00128035</td>\n",
              "      <td>0.190456</td>\n",
              "    </tr>\n",
              "    <tr>\n",
              "      <th>Tatoray Stripper C620 Operation_Column Temp Profile_C620 Tray 14 (Control)_oC</th>\n",
              "      <td>0.999729</td>\n",
              "      <td>0.00035423</td>\n",
              "      <td>0.00757601</td>\n",
              "    </tr>\n",
              "    <tr>\n",
              "      <th>Tatoray Stripper C620 Operation_Column Temp Profile_C620 Tray 34 (Control)_oC</th>\n",
              "      <td>0.99958</td>\n",
              "      <td>0.000325646</td>\n",
              "      <td>0.00711373</td>\n",
              "    </tr>\n",
              "    <tr>\n",
              "      <th>AVG</th>\n",
              "      <td>0.791452</td>\n",
              "      <td>0.000871463</td>\n",
              "      <td>7.9279</td>\n",
              "    </tr>\n",
              "  </tbody>\n",
              "</table>\n",
              "<p>174 rows × 3 columns</p>\n",
              "</div>"
            ],
            "text/plain": [
              "                                                          R2  ...        MAPE\n",
              "Tatoray Stripper C620 Split Factors Calculation...         0  ...  0.00820443\n",
              "Tatoray Stripper C620 Split Factors Calculation...  0.998077  ...   0.0121598\n",
              "Tatoray Stripper C620 Split Factors Calculation...  0.998798  ...   0.0511919\n",
              "Tatoray Stripper C620 Split Factors Calculation...    0.9992  ...    0.137792\n",
              "Tatoray Stripper C620 Split Factors Calculation...  0.998857  ...     0.44993\n",
              "...                                                      ...  ...         ...\n",
              "Tatoray Stripper C620 Operation_Heat Duty_Conde...  0.999339  ...    0.162275\n",
              "Tatoray Stripper C620 Operation_Heat Duty_Reboi...  0.999263  ...    0.190456\n",
              "Tatoray Stripper C620 Operation_Column Temp Pro...  0.999729  ...  0.00757601\n",
              "Tatoray Stripper C620 Operation_Column Temp Pro...   0.99958  ...  0.00711373\n",
              "AVG                                                 0.791452  ...      7.9279\n",
              "\n",
              "[174 rows x 3 columns]"
            ]
          },
          "metadata": {
            "tags": []
          },
          "execution_count": 4
        }
      ]
    },
    {
      "cell_type": "code",
      "metadata": {
        "id": "AelwkA--qoVt"
      },
      "source": [
        "c620.shrink()"
      ],
      "execution_count": 5,
      "outputs": []
    },
    {
      "cell_type": "code",
      "metadata": {
        "colab": {
          "base_uri": "https://localhost:8080/"
        },
        "id": "UvPNVFVgtveh",
        "outputId": "40385266-3a1e-4512-ff7b-a41a652d13e2"
      },
      "source": [
        "joblib.dump(c620,'/content/drive/MyDrive/台塑輕油案子/data/c620/model/c620.pkl')"
      ],
      "execution_count": 6,
      "outputs": [
        {
          "output_type": "execute_result",
          "data": {
            "text/plain": [
              "['/content/drive/MyDrive/台塑輕油案子/data/c620/model/c620.pkl']"
            ]
          },
          "metadata": {
            "tags": []
          },
          "execution_count": 6
        }
      ]
    },
    {
      "cell_type": "code",
      "metadata": {
        "id": "SHUTpMqTuBM8"
      },
      "source": [
        ""
      ],
      "execution_count": 6,
      "outputs": []
    }
  ]
}